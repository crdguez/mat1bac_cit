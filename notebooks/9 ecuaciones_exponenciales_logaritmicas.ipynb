{
 "cells": [
  {
   "cell_type": "code",
   "execution_count": 1,
   "metadata": {},
   "outputs": [
    {
     "name": "stdout",
     "output_type": "stream",
     "text": [
      "IPython console for SymPy 1.2 (Python 3.6.5-64-bit) (ground types: gmpy)\n",
      "\n",
      "These commands were executed:\n",
      ">>> from __future__ import division\n",
      ">>> from sympy import *\n",
      ">>> x, y, z, t = symbols('x y z t')\n",
      ">>> k, m, n = symbols('k m n', integer=True)\n",
      ">>> f, g, h = symbols('f g h', cls=Function)\n",
      ">>> init_printing()\n",
      "\n",
      "Documentation can be found at http://docs.sympy.org/1.2/\n",
      "\n"
     ]
    }
   ],
   "source": [
    "from sympy import init_session\n",
    "from sympy import div, QQ\n",
    "from sympy.parsing.latex import parse_latex\n",
    "from sympy.parsing.sympy_parser import parse_expr\n",
    "from IPython.display import Markdown as md\n",
    "from IPython.display import display\n",
    "import pandas as pd\n",
    "\n",
    "from sympy import solve_poly_inequality, reduce_abs_inequality\n",
    "from sympy.solvers.inequalities import solve_univariate_inequality\n",
    "\n",
    "\n",
    "init_session()\n",
    "\n",
    "a, b, c, d = symbols('a b c d', real = True)\n",
    "from docparts import añadir_ejercicios, doc_ejer, escribir_preambulo, escribir_ejercicios, escribir_fin\n",
    "\n",
    "df_ejercicios = pd.DataFrame()\n",
    "\n",
    "fichero = 'ecuexplog'\n",
    "titulo = '9 - Ecuaciones exponenciales y logarítmicas'\n",
    "curso = '1BC'\n",
    "\n",
    "\n",
    "x = symbols('x', real=True)\n"
   ]
  },
  {
   "cell_type": "code",
   "execution_count": 2,
   "metadata": {},
   "outputs": [
    {
     "data": {
      "text/markdown": [
       "**Resuelve las siguientes ecuaciones exponenciales:**"
      ],
      "text/plain": [
       "<IPython.core.display.Markdown object>"
      ]
     },
     "metadata": {},
     "output_type": "display_data"
    },
    {
     "data": {
      "text/markdown": [
       "${10^{3 - x}} = 1 \\rightarrow \\left [ 3\\right ]$"
      ],
      "text/plain": [
       "<IPython.core.display.Markdown object>"
      ]
     },
     "metadata": {},
     "output_type": "display_data"
    },
    {
     "data": {
      "text/markdown": [
       "${5^{x + 3}} = 125 \\rightarrow \\left [ 0\\right ]$"
      ],
      "text/plain": [
       "<IPython.core.display.Markdown object>"
      ]
     },
     "metadata": {},
     "output_type": "display_data"
    },
    {
     "data": {
      "text/markdown": [
       "$5^{1-x^2}=\\frac{1}{125} \\rightarrow \\left [ -2.0, \\quad 2.0\\right ]$"
      ],
      "text/plain": [
       "<IPython.core.display.Markdown object>"
      ]
     },
     "metadata": {},
     "output_type": "display_data"
    },
    {
     "data": {
      "text/markdown": [
       "${5^{{x^2} - 5x + 6}} = 1 \\rightarrow \\left [ 2, \\quad 3\\right ]$"
      ],
      "text/plain": [
       "<IPython.core.display.Markdown object>"
      ]
     },
     "metadata": {},
     "output_type": "display_data"
    },
    {
     "data": {
      "text/markdown": [
       "${2^{1 - x}} = \\frac{1}{8} \\rightarrow \\left [ 4.0\\right ]$"
      ],
      "text/plain": [
       "<IPython.core.display.Markdown object>"
      ]
     },
     "metadata": {},
     "output_type": "display_data"
    },
    {
     "data": {
      "text/markdown": [
       "$2^{x + 3} = 4^{- x} \\rightarrow \\left [ -1\\right ]$"
      ],
      "text/plain": [
       "<IPython.core.display.Markdown object>"
      ]
     },
     "metadata": {},
     "output_type": "display_data"
    },
    {
     "data": {
      "text/markdown": [
       "$3+x=-2x \\rightarrow \\left [ -1\\right ]$"
      ],
      "text/plain": [
       "<IPython.core.display.Markdown object>"
      ]
     },
     "metadata": {},
     "output_type": "display_data"
    },
    {
     "data": {
      "text/markdown": [
       "${9^{x - 1}} = {3^{x + 1}} \\rightarrow \\left [ 3\\right ]$"
      ],
      "text/plain": [
       "<IPython.core.display.Markdown object>"
      ]
     },
     "metadata": {},
     "output_type": "display_data"
    },
    {
     "data": {
      "text/markdown": [
       "${4^{4x + 3}} = {2^{ - x}} \\rightarrow \\left [ - \\frac{2}{3}\\right ]$"
      ],
      "text/plain": [
       "<IPython.core.display.Markdown object>"
      ]
     },
     "metadata": {},
     "output_type": "display_data"
    }
   ],
   "source": [
    "# Página 27 ejercicio 4\n",
    "\n",
    "texto_ejercicio = 'Resuelve las siguientes ecuaciones exponenciales:'\n",
    "n_ejercicio = 'p027e04'\n",
    "\n",
    "x,y = symbols('x,y', real=True)\n",
    "\n",
    "display(md(\"**\"+texto_ejercicio+\"**\"))\n",
    "\n",
    "enunciado_latex = [r'{10^{3 - x}} = 1',\n",
    "                   r'{5^{x + 3}} = 125',\n",
    "                   r'5^{1-x^2}=\\frac{1}{125}',\n",
    "                   r'{5^{{x^2} - 5x + 6}} = 1',\n",
    "                   r'{2^{1 - x}} = \\frac{1}{8}',\n",
    "                   r'2^{x + 3} = 4^{- x}',\n",
    "                   r'3+x=-2x',\n",
    "                   r'{9^{x - 1}} = {3^{x + 1}}',\n",
    "                   r'{4^{4x + 3}} = {2^{ - x}}'                \n",
    "                ]\n",
    "\n",
    "enunciado, solucion = [], []\n",
    "\n",
    "for i, s in enumerate(enunciado_latex) : \n",
    "    en = parse_latex(s)\n",
    "    enunciado.append(en)\n",
    "    so = solve(eval(str(en)))\n",
    "    sol = latex(so)\n",
    "    solucion.append(sol) \n",
    "    display(md(\"$\"+ s +\" \\\\rightarrow \" + solucion[i] +\"$\"))\n",
    "\n",
    "df_ejercicios = df_ejercicios.append(añadir_ejercicios(enunciado_latex, enunciado, solucion, texto_ejercicio, curso, titulo , n_ejercicio, '1', '2'), ignore_index=True)\n"
   ]
  },
  {
   "cell_type": "code",
   "execution_count": 3,
   "metadata": {},
   "outputs": [],
   "source": [
    "df_ejercicios.to_csv('ejercicios9.csv', index = False)"
   ]
  },
  {
   "cell_type": "code",
   "execution_count": 4,
   "metadata": {},
   "outputs": [],
   "source": [
    "df_ejercicios = pd.read_csv('ejercicios9.csv', index_col= None)"
   ]
  },
  {
   "cell_type": "code",
   "execution_count": 5,
   "metadata": {},
   "outputs": [
    {
     "data": {
      "text/markdown": [
       "**Ejercicio: **p027e04"
      ],
      "text/plain": [
       "<IPython.core.display.Markdown object>"
      ]
     },
     "metadata": {},
     "output_type": "display_data"
    },
    {
     "data": {
      "text/html": [
       "<div>\n",
       "<style scoped>\n",
       "    .dataframe tbody tr th:only-of-type {\n",
       "        vertical-align: middle;\n",
       "    }\n",
       "\n",
       "    .dataframe tbody tr th {\n",
       "        vertical-align: top;\n",
       "    }\n",
       "\n",
       "    .dataframe thead th {\n",
       "        text-align: right;\n",
       "    }\n",
       "</style>\n",
       "<table border=\"1\" class=\"dataframe\">\n",
       "  <thead>\n",
       "    <tr style=\"text-align: right;\">\n",
       "      <th></th>\n",
       "      <th>enunciado_latex</th>\n",
       "      <th>enunciado</th>\n",
       "      <th>solucion</th>\n",
       "      <th>texto</th>\n",
       "      <th>curso</th>\n",
       "      <th>titulo</th>\n",
       "      <th>n_ejercicio</th>\n",
       "      <th>dificultad</th>\n",
       "      <th>n_columnas</th>\n",
       "      <th>puntos</th>\n",
       "      <th>enun_tex</th>\n",
       "      <th>sol_tex</th>\n",
       "    </tr>\n",
       "  </thead>\n",
       "  <tbody>\n",
       "    <tr>\n",
       "      <th>0</th>\n",
       "      <td>{10^{3 - x}} = 1</td>\n",
       "      <td>Eq(10**(-x + 3), 1)</td>\n",
       "      <td>\\left [ 3\\right ]</td>\n",
       "      <td>Resuelve las siguientes ecuaciones exponenciales:</td>\n",
       "      <td>1BC</td>\n",
       "      <td>9 - Ecuaciones exponenciales y logarítmicas</td>\n",
       "      <td>p027e04</td>\n",
       "      <td>1</td>\n",
       "      <td>2</td>\n",
       "      <td>1</td>\n",
       "      <td>True</td>\n",
       "      <td>True</td>\n",
       "    </tr>\n",
       "    <tr>\n",
       "      <th>1</th>\n",
       "      <td>{5^{x + 3}} = 125</td>\n",
       "      <td>Eq(5**(x + 3), 125)</td>\n",
       "      <td>\\left [ 0\\right ]</td>\n",
       "      <td>Resuelve las siguientes ecuaciones exponenciales:</td>\n",
       "      <td>1BC</td>\n",
       "      <td>9 - Ecuaciones exponenciales y logarítmicas</td>\n",
       "      <td>p027e04</td>\n",
       "      <td>1</td>\n",
       "      <td>2</td>\n",
       "      <td>1</td>\n",
       "      <td>True</td>\n",
       "      <td>True</td>\n",
       "    </tr>\n",
       "    <tr>\n",
       "      <th>2</th>\n",
       "      <td>5^{1-x^2}=\\frac{1}{125}</td>\n",
       "      <td>Eq(5**(-x**2 + 1), 1/125)</td>\n",
       "      <td>\\left [ -2.0, \\quad 2.0\\right ]</td>\n",
       "      <td>Resuelve las siguientes ecuaciones exponenciales:</td>\n",
       "      <td>1BC</td>\n",
       "      <td>9 - Ecuaciones exponenciales y logarítmicas</td>\n",
       "      <td>p027e04</td>\n",
       "      <td>1</td>\n",
       "      <td>2</td>\n",
       "      <td>1</td>\n",
       "      <td>True</td>\n",
       "      <td>True</td>\n",
       "    </tr>\n",
       "    <tr>\n",
       "      <th>3</th>\n",
       "      <td>{5^{{x^2} - 5x + 6}} = 1</td>\n",
       "      <td>Eq(5**(x**2 - 5*x + 6), 1)</td>\n",
       "      <td>\\left [ 2, \\quad 3\\right ]</td>\n",
       "      <td>Resuelve las siguientes ecuaciones exponenciales:</td>\n",
       "      <td>1BC</td>\n",
       "      <td>9 - Ecuaciones exponenciales y logarítmicas</td>\n",
       "      <td>p027e04</td>\n",
       "      <td>1</td>\n",
       "      <td>2</td>\n",
       "      <td>1</td>\n",
       "      <td>True</td>\n",
       "      <td>True</td>\n",
       "    </tr>\n",
       "    <tr>\n",
       "      <th>4</th>\n",
       "      <td>{2^{1 - x}} = \\frac{1}{8}</td>\n",
       "      <td>Eq(2**(-x + 1), 1/8)</td>\n",
       "      <td>\\left [ 4.0\\right ]</td>\n",
       "      <td>Resuelve las siguientes ecuaciones exponenciales:</td>\n",
       "      <td>1BC</td>\n",
       "      <td>9 - Ecuaciones exponenciales y logarítmicas</td>\n",
       "      <td>p027e04</td>\n",
       "      <td>1</td>\n",
       "      <td>2</td>\n",
       "      <td>1</td>\n",
       "      <td>True</td>\n",
       "      <td>True</td>\n",
       "    </tr>\n",
       "    <tr>\n",
       "      <th>5</th>\n",
       "      <td>2^{x + 3} = 4^{- x}</td>\n",
       "      <td>Eq(2**(x + 3), 4**(-x))</td>\n",
       "      <td>\\left [ -1\\right ]</td>\n",
       "      <td>Resuelve las siguientes ecuaciones exponenciales:</td>\n",
       "      <td>1BC</td>\n",
       "      <td>9 - Ecuaciones exponenciales y logarítmicas</td>\n",
       "      <td>p027e04</td>\n",
       "      <td>1</td>\n",
       "      <td>2</td>\n",
       "      <td>1</td>\n",
       "      <td>True</td>\n",
       "      <td>True</td>\n",
       "    </tr>\n",
       "    <tr>\n",
       "      <th>6</th>\n",
       "      <td>3+x=-2x</td>\n",
       "      <td>Eq(x + 3, -2*x)</td>\n",
       "      <td>\\left [ -1\\right ]</td>\n",
       "      <td>Resuelve las siguientes ecuaciones exponenciales:</td>\n",
       "      <td>1BC</td>\n",
       "      <td>9 - Ecuaciones exponenciales y logarítmicas</td>\n",
       "      <td>p027e04</td>\n",
       "      <td>1</td>\n",
       "      <td>2</td>\n",
       "      <td>1</td>\n",
       "      <td>True</td>\n",
       "      <td>True</td>\n",
       "    </tr>\n",
       "    <tr>\n",
       "      <th>7</th>\n",
       "      <td>{9^{x - 1}} = {3^{x + 1}}</td>\n",
       "      <td>Eq(9**(x - 1), 3**(x + 1))</td>\n",
       "      <td>\\left [ 3\\right ]</td>\n",
       "      <td>Resuelve las siguientes ecuaciones exponenciales:</td>\n",
       "      <td>1BC</td>\n",
       "      <td>9 - Ecuaciones exponenciales y logarítmicas</td>\n",
       "      <td>p027e04</td>\n",
       "      <td>1</td>\n",
       "      <td>2</td>\n",
       "      <td>1</td>\n",
       "      <td>True</td>\n",
       "      <td>True</td>\n",
       "    </tr>\n",
       "    <tr>\n",
       "      <th>8</th>\n",
       "      <td>{4^{4x + 3}} = {2^{ - x}}</td>\n",
       "      <td>Eq(4**(4*x + 3), 2**(-x))</td>\n",
       "      <td>\\left [ - \\frac{2}{3}\\right ]</td>\n",
       "      <td>Resuelve las siguientes ecuaciones exponenciales:</td>\n",
       "      <td>1BC</td>\n",
       "      <td>9 - Ecuaciones exponenciales y logarítmicas</td>\n",
       "      <td>p027e04</td>\n",
       "      <td>1</td>\n",
       "      <td>2</td>\n",
       "      <td>1</td>\n",
       "      <td>True</td>\n",
       "      <td>True</td>\n",
       "    </tr>\n",
       "  </tbody>\n",
       "</table>\n",
       "</div>"
      ],
      "text/plain": [
       "             enunciado_latex                   enunciado  \\\n",
       "0           {10^{3 - x}} = 1         Eq(10**(-x + 3), 1)   \n",
       "1          {5^{x + 3}} = 125         Eq(5**(x + 3), 125)   \n",
       "2    5^{1-x^2}=\\frac{1}{125}   Eq(5**(-x**2 + 1), 1/125)   \n",
       "3   {5^{{x^2} - 5x + 6}} = 1  Eq(5**(x**2 - 5*x + 6), 1)   \n",
       "4  {2^{1 - x}} = \\frac{1}{8}        Eq(2**(-x + 1), 1/8)   \n",
       "5        2^{x + 3} = 4^{- x}     Eq(2**(x + 3), 4**(-x))   \n",
       "6                    3+x=-2x             Eq(x + 3, -2*x)   \n",
       "7  {9^{x - 1}} = {3^{x + 1}}  Eq(9**(x - 1), 3**(x + 1))   \n",
       "8  {4^{4x + 3}} = {2^{ - x}}   Eq(4**(4*x + 3), 2**(-x))   \n",
       "\n",
       "                          solucion  \\\n",
       "0                \\left [ 3\\right ]   \n",
       "1                \\left [ 0\\right ]   \n",
       "2  \\left [ -2.0, \\quad 2.0\\right ]   \n",
       "3       \\left [ 2, \\quad 3\\right ]   \n",
       "4              \\left [ 4.0\\right ]   \n",
       "5               \\left [ -1\\right ]   \n",
       "6               \\left [ -1\\right ]   \n",
       "7                \\left [ 3\\right ]   \n",
       "8    \\left [ - \\frac{2}{3}\\right ]   \n",
       "\n",
       "                                               texto curso  \\\n",
       "0  Resuelve las siguientes ecuaciones exponenciales:   1BC   \n",
       "1  Resuelve las siguientes ecuaciones exponenciales:   1BC   \n",
       "2  Resuelve las siguientes ecuaciones exponenciales:   1BC   \n",
       "3  Resuelve las siguientes ecuaciones exponenciales:   1BC   \n",
       "4  Resuelve las siguientes ecuaciones exponenciales:   1BC   \n",
       "5  Resuelve las siguientes ecuaciones exponenciales:   1BC   \n",
       "6  Resuelve las siguientes ecuaciones exponenciales:   1BC   \n",
       "7  Resuelve las siguientes ecuaciones exponenciales:   1BC   \n",
       "8  Resuelve las siguientes ecuaciones exponenciales:   1BC   \n",
       "\n",
       "                                        titulo n_ejercicio  dificultad  \\\n",
       "0  9 - Ecuaciones exponenciales y logarítmicas     p027e04           1   \n",
       "1  9 - Ecuaciones exponenciales y logarítmicas     p027e04           1   \n",
       "2  9 - Ecuaciones exponenciales y logarítmicas     p027e04           1   \n",
       "3  9 - Ecuaciones exponenciales y logarítmicas     p027e04           1   \n",
       "4  9 - Ecuaciones exponenciales y logarítmicas     p027e04           1   \n",
       "5  9 - Ecuaciones exponenciales y logarítmicas     p027e04           1   \n",
       "6  9 - Ecuaciones exponenciales y logarítmicas     p027e04           1   \n",
       "7  9 - Ecuaciones exponenciales y logarítmicas     p027e04           1   \n",
       "8  9 - Ecuaciones exponenciales y logarítmicas     p027e04           1   \n",
       "\n",
       "   n_columnas  puntos  enun_tex  sol_tex  \n",
       "0           2       1      True     True  \n",
       "1           2       1      True     True  \n",
       "2           2       1      True     True  \n",
       "3           2       1      True     True  \n",
       "4           2       1      True     True  \n",
       "5           2       1      True     True  \n",
       "6           2       1      True     True  \n",
       "7           2       1      True     True  \n",
       "8           2       1      True     True  "
      ]
     },
     "metadata": {},
     "output_type": "display_data"
    }
   ],
   "source": [
    "escribir_preambulo(fichero, titulo, 'ejercicios')\n",
    "for s in df_ejercicios.groupby('n_ejercicio').count().index : \n",
    "    display(md(\"**Ejercicio: **\" + s ))\n",
    "    display(df_ejercicios[df_ejercicios.n_ejercicio == s])\n",
    "    escribir_ejercicios(df_ejercicios[df_ejercicios.n_ejercicio == s],fichero)\n",
    "\n",
    "escribir_fin(fichero)"
   ]
  }
 ],
 "metadata": {
  "kernelspec": {
   "display_name": "Python 3",
   "language": "python",
   "name": "python3"
  },
  "language_info": {
   "codemirror_mode": {
    "name": "ipython",
    "version": 3
   },
   "file_extension": ".py",
   "mimetype": "text/x-python",
   "name": "python",
   "nbconvert_exporter": "python",
   "pygments_lexer": "ipython3",
   "version": "3.6.5"
  }
 },
 "nbformat": 4,
 "nbformat_minor": 2
}
