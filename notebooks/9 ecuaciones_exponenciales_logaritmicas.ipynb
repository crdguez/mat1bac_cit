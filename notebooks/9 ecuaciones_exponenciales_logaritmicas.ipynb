{
 "cells": [
  {
   "cell_type": "code",
   "execution_count": 1,
   "metadata": {},
   "outputs": [
    {
     "name": "stdout",
     "output_type": "stream",
     "text": [
      "IPython console for SymPy 1.2 (Python 3.6.5-64-bit) (ground types: gmpy)\n",
      "\n",
      "These commands were executed:\n",
      ">>> from __future__ import division\n",
      ">>> from sympy import *\n",
      ">>> x, y, z, t = symbols('x y z t')\n",
      ">>> k, m, n = symbols('k m n', integer=True)\n",
      ">>> f, g, h = symbols('f g h', cls=Function)\n",
      ">>> init_printing()\n",
      "\n",
      "Documentation can be found at http://docs.sympy.org/1.2/\n",
      "\n"
     ]
    }
   ],
   "source": [
    "from sympy import init_session\n",
    "from sympy import div, QQ\n",
    "from sympy.parsing.latex import parse_latex\n",
    "from sympy.parsing.sympy_parser import parse_expr\n",
    "from IPython.display import Markdown as md\n",
    "from IPython.display import display\n",
    "import pandas as pd\n",
    "\n",
    "from sympy import solve_poly_inequality, reduce_abs_inequality\n",
    "from sympy.solvers.inequalities import solve_univariate_inequality\n",
    "\n",
    "\n",
    "init_session()\n",
    "\n",
    "a, b, c, d = symbols('a b c d', real = True)\n",
    "from docparts import añadir_ejercicios, doc_ejer, escribir_preambulo, escribir_ejercicios, escribir_fin\n",
    "\n",
    "df_ejercicios = pd.DataFrame()\n",
    "\n",
    "fichero = 'ecuexplog'\n",
    "titulo = '9 - Ecuaciones exponenciales y logarítmicas'\n",
    "curso = '1BC'\n",
    "\n",
    "\n",
    "x,y = symbols('x, y', real=True)\n"
   ]
  },
  {
   "cell_type": "code",
   "execution_count": 2,
   "metadata": {},
   "outputs": [
    {
     "data": {
      "text/markdown": [
       "**Resuelve las siguientes ecuaciones exponenciales:**"
      ],
      "text/plain": [
       "<IPython.core.display.Markdown object>"
      ]
     },
     "metadata": {},
     "output_type": "display_data"
    },
    {
     "data": {
      "text/markdown": [
       "${10^{3 - x}} = 1 \\rightarrow \\left [ 3\\right ]$"
      ],
      "text/plain": [
       "<IPython.core.display.Markdown object>"
      ]
     },
     "metadata": {},
     "output_type": "display_data"
    },
    {
     "data": {
      "text/markdown": [
       "${5^{x + 3}} = 125 \\rightarrow \\left [ 0\\right ]$"
      ],
      "text/plain": [
       "<IPython.core.display.Markdown object>"
      ]
     },
     "metadata": {},
     "output_type": "display_data"
    },
    {
     "data": {
      "text/markdown": [
       "$5^{1-x^2}=\\frac{1}{125} \\rightarrow \\left [ -2, \\quad 2\\right ]$"
      ],
      "text/plain": [
       "<IPython.core.display.Markdown object>"
      ]
     },
     "metadata": {},
     "output_type": "display_data"
    },
    {
     "data": {
      "text/markdown": [
       "${5^{{x^2} - 5x + 6}} = 1 \\rightarrow \\left [ 2, \\quad 3\\right ]$"
      ],
      "text/plain": [
       "<IPython.core.display.Markdown object>"
      ]
     },
     "metadata": {},
     "output_type": "display_data"
    },
    {
     "data": {
      "text/markdown": [
       "${2^{1 - x}} = \\frac{1}{8} \\rightarrow \\left [ 4\\right ]$"
      ],
      "text/plain": [
       "<IPython.core.display.Markdown object>"
      ]
     },
     "metadata": {},
     "output_type": "display_data"
    },
    {
     "data": {
      "text/markdown": [
       "$2^{x + 3} = 4^{- x} \\rightarrow \\left [ -1\\right ]$"
      ],
      "text/plain": [
       "<IPython.core.display.Markdown object>"
      ]
     },
     "metadata": {},
     "output_type": "display_data"
    },
    {
     "data": {
      "text/markdown": [
       "${9^{x - 1}} = {3^{x + 1}} \\rightarrow \\left [ 3\\right ]$"
      ],
      "text/plain": [
       "<IPython.core.display.Markdown object>"
      ]
     },
     "metadata": {},
     "output_type": "display_data"
    },
    {
     "data": {
      "text/markdown": [
       "${4^{4x + 3}} = {2^{ - x}} \\rightarrow \\left [ - \\frac{2}{3}\\right ]$"
      ],
      "text/plain": [
       "<IPython.core.display.Markdown object>"
      ]
     },
     "metadata": {},
     "output_type": "display_data"
    },
    {
     "data": {
      "text/markdown": [
       "${8^{x - 1}} = {4^{3x + 1}} \\rightarrow \\left [ - \\frac{5}{3}\\right ]$"
      ],
      "text/plain": [
       "<IPython.core.display.Markdown object>"
      ]
     },
     "metadata": {},
     "output_type": "display_data"
    },
    {
     "data": {
      "text/markdown": [
       "${5^{ - x}} = 0.04 \\rightarrow \\left [ 2\\right ]$"
      ],
      "text/plain": [
       "<IPython.core.display.Markdown object>"
      ]
     },
     "metadata": {},
     "output_type": "display_data"
    },
    {
     "data": {
      "text/markdown": [
       "${10^x} \\cdot {10^{ - 2x + 7}} = 100 \\rightarrow \\left [ 5\\right ]$"
      ],
      "text/plain": [
       "<IPython.core.display.Markdown object>"
      ]
     },
     "metadata": {},
     "output_type": "display_data"
    },
    {
     "data": {
      "text/markdown": [
       "${( {{3^x}} )^2} \\cdot {3^x} = {9^3} \\rightarrow \\left [ 2\\right ]$"
      ],
      "text/plain": [
       "<IPython.core.display.Markdown object>"
      ]
     },
     "metadata": {},
     "output_type": "display_data"
    },
    {
     "data": {
      "text/markdown": [
       "$\\sqrt{2 \\cdot \\sqrt{2 \\cdot \\sqrt{2} } } = {2^x} \\rightarrow \\left [ \\frac{7}{8}\\right ]$"
      ],
      "text/plain": [
       "<IPython.core.display.Markdown object>"
      ]
     },
     "metadata": {},
     "output_type": "display_data"
    },
    {
     "data": {
      "text/markdown": [
       "${2^{{x^2} - 5x}} = {64^{ - 1}} \\rightarrow \\left [ 2, \\quad 3\\right ]$"
      ],
      "text/plain": [
       "<IPython.core.display.Markdown object>"
      ]
     },
     "metadata": {},
     "output_type": "display_data"
    },
    {
     "data": {
      "text/markdown": [
       "$\\sqrt{\\sqrt {3}  + \\sqrt {3}  + \\sqrt {3} }  = {3^{x + 2}} \\rightarrow \\left [ - \\frac{5}{4}\\right ]$"
      ],
      "text/plain": [
       "<IPython.core.display.Markdown object>"
      ]
     },
     "metadata": {},
     "output_type": "display_data"
    },
    {
     "data": {
      "text/markdown": [
       "$\\sqrt[x]{216}  = 6 \\rightarrow \\left [ 3\\right ]$"
      ],
      "text/plain": [
       "<IPython.core.display.Markdown object>"
      ]
     },
     "metadata": {},
     "output_type": "display_data"
    },
    {
     "data": {
      "text/markdown": [
       "${4^x} - {2^x} = 2 \\rightarrow \\left [ 1\\right ]$"
      ],
      "text/plain": [
       "<IPython.core.display.Markdown object>"
      ]
     },
     "metadata": {},
     "output_type": "display_data"
    },
    {
     "data": {
      "text/markdown": [
       "${5^x} - 30 \\cdot {5^x} + 145 = 0 \\rightarrow \\left [ 1\\right ]$"
      ],
      "text/plain": [
       "<IPython.core.display.Markdown object>"
      ]
     },
     "metadata": {},
     "output_type": "display_data"
    },
    {
     "data": {
      "text/markdown": [
       "${2^{x - 1}} + {2^x} + {2^{x + 1}} = 7 \\rightarrow \\left [ 1\\right ]$"
      ],
      "text/plain": [
       "<IPython.core.display.Markdown object>"
      ]
     },
     "metadata": {},
     "output_type": "display_data"
    }
   ],
   "source": [
    "# Página 27 ejercicio 4\n",
    "\n",
    "texto_ejercicio = 'Resuelve las siguientes ecuaciones exponenciales:'\n",
    "n_ejercicio = 'p027e04'\n",
    "\n",
    "display(md(\"**\"+texto_ejercicio+\"**\"))\n",
    "\n",
    "enunciado_latex = [r'{10^{3 - x}} = 1',\n",
    "                   r'{5^{x + 3}} = 125',\n",
    "                   r'5^{1-x^2}=\\frac{1}{125}',\n",
    "                   r'{5^{{x^2} - 5x + 6}} = 1',\n",
    "                   r'{2^{1 - x}} = \\frac{1}{8}',\n",
    "                   r'2^{x + 3} = 4^{- x}',\n",
    "                   r'{9^{x - 1}} = {3^{x + 1}}',\n",
    "                   r'{4^{4x + 3}} = {2^{ - x}}',\n",
    "                   r'{8^{x - 1}} = {4^{3x + 1}}',\n",
    "                   r'{5^{ - x}} = 0.04',\n",
    "                   r'{10^x} \\cdot {10^{ - 2x + 7}} = 100',\n",
    "                   r'{( {{3^x}} )^2} \\cdot {3^x} = {9^3}',\n",
    "                   r'\\sqrt{2 \\cdot \\sqrt{2 \\cdot \\sqrt{2} } } = {2^x}',\n",
    "                   r'{2^{{x^2} - 5x}} = {64^{ - 1}}',\n",
    "                   r'\\sqrt{\\sqrt {3}  + \\sqrt {3}  + \\sqrt {3} }  = {3^{x + 2}}',\n",
    "                   r'\\sqrt[x]{216}  = 6',\n",
    "                   r'{4^x} - {2^x} = 2',\n",
    "                   r'{5^x} - 30 \\cdot {5^x} + 145 = 0',\n",
    "                   r'{2^{x - 1}} + {2^x} + {2^{x + 1}} = 7'\n",
    "                ]\n",
    "\n",
    "enunciado, solucion = [], []\n",
    "\n",
    "for i, s in enumerate(enunciado_latex) : \n",
    "    en = parse_latex(s)\n",
    "    enunciado.append(en)\n",
    "    so = solve(eval(str(en)))\n",
    "    sol = latex([nsimplify(t) for t in so])\n",
    "    solucion.append(sol) \n",
    "    display(md(\"$\"+ s +\" \\\\rightarrow \" + solucion[i] +\"$\"))\n",
    "\n",
    "df_ejercicios = df_ejercicios.append(añadir_ejercicios(enunciado_latex, enunciado, solucion, texto_ejercicio, curso, titulo , n_ejercicio, '1', '2'), ignore_index=True)\n"
   ]
  },
  {
   "cell_type": "code",
   "execution_count": null,
   "metadata": {},
   "outputs": [
    {
     "data": {
      "text/markdown": [
       "**Resuelve las siguientes ecuaciones exponenciales:**"
      ],
      "text/plain": [
       "<IPython.core.display.Markdown object>"
      ]
     },
     "metadata": {},
     "output_type": "display_data"
    }
   ],
   "source": [
    "# Página 28 ejercicio 5\n",
    "\n",
    "texto_ejercicio = 'Resuelve las siguientes ecuaciones exponenciales:'\n",
    "n_ejercicio = 'p028e05'\n",
    "\n",
    "\n",
    "\n",
    "display(md(\"**\"+texto_ejercicio+\"**\"))\n",
    "\n",
    "enunciado_latex = [r'{3^{x + 1}} + {3^x} + {3^{x - 1}} = 117',\n",
    "                   r'{3^x} + {3^{x - 1}} + {3^{x - 2}} + {3^{x - 3}} + {3^{x - 4}} = 363',\n",
    "                   r'{2^{3x}} - \\frac{3}{{{2^{3x + 2}}}} + 1 = 0',\n",
    "                   r'{3^{x - 1}} + {3^{2 - x}} = 4',\n",
    "                   r'{2^{x + 1}} + {4^x} = 80',\n",
    "                   r'2^{2x} - 3 \\cdot {2^{x + 1}} + 8 = 0',\n",
    "                   r'{3^{2x - 3}} + 1 = 4 \\cdot {3^{x - 2}}',\n",
    "                   r'{2^{2x}} - 10 \\cdot {2^x} + 16 = 0',\n",
    "                   r'{16^x} - {4^x} = 240',\n",
    "                   r'9^x - 6 \\cdot {3^{x + 1}} + 81 = 0',\n",
    "                   r'{3^{x + 2}} + {9^{x + 1}} = 810',\n",
    "                   r'{5^{x - 1}} = 2 + \\frac{3}{{{5^{x - 2}}}}',\n",
    "                   r'{3^{x + 1}} + {3^{x - 2}} = \\frac{{15}}{{{3^{x - 1}}}} + \\frac{{247}}{{{3^{x - 2}}}}',\n",
    "                   r'{4^{2x}} + 16 \\cdot {4^{ - 2x}} - 10 = 0'\n",
    "                ]\n",
    "\n",
    "enunciado, solucion = [], []\n",
    "\n",
    "for i, s in enumerate(enunciado_latex) : \n",
    "    en = parse_latex(s)\n",
    "    enunciado.append(en)\n",
    "    so = solve(eval(str(en)))\n",
    "    sol = latex([nsimplify(t) for t in so])\n",
    "    solucion.append(sol) \n",
    "    display(md(\"$\"+ s +\" \\\\rightarrow \" + solucion[i] +\"$\"))\n",
    "\n",
    "df_ejercicios = df_ejercicios.append(añadir_ejercicios(enunciado_latex, enunciado, solucion, texto_ejercicio, curso, titulo , n_ejercicio, '1', '2'), ignore_index=True)\n"
   ]
  },
  {
   "cell_type": "code",
   "execution_count": null,
   "metadata": {},
   "outputs": [],
   "source": [
    "# Página 28 ejercicio 6\n",
    "\n",
    "texto_ejercicio = 'Resuelve los siguientes sistemas:'\n",
    "n_ejercicio = 'p028e06'\n",
    "\n",
    "\n",
    "\n",
    "pre_enunciado_latex = [[r'{3^x} = {3^y}',r'{4^x} \\cdot {4^y} = 256'],\n",
    "                       [r'{2^{x + 2y}} = 32', r'{2^{3x - 5y}} = 16'],\n",
    "                       [r'{5^x} = {5^y} \\cdot 625 ', r'{2^x} \\cdot {2^y} = 256'],\n",
    "                       [r'{2^x} + {2^y} = 24',r'{2^{x + y}} = 128']\n",
    "                                             ]\n",
    "                       \n",
    "\n",
    "enunciado_latex,enunciado, solucion = [], [], []\n",
    "\n",
    "for i, s in enumerate(pre_enunciado_latex) :\n",
    "    enl = r\"\"\"\\left\\{\\begin{matrix}\"\"\"+ s[0] + r'\\\\' + s[1] + r\"\"\"\\end{matrix}\\right.\"\"\"\n",
    "    en = [eval(str(parse_latex(t))) for t in s]\n",
    "    so = solve(en)\n",
    "    enunciado_latex.append(enl)\n",
    "    enunciado.append(en)\n",
    "    so_l=latex(so)\n",
    "    solucion.append(so_l) \n",
    "    display(md(\"$\"+ enunciado_latex[i] +\" \\\\rightarrow \" + solucion[i] +\"$\"))\n",
    "\n",
    "df_ejercicios = df_ejercicios.append(añadir_ejercicios(enunciado_latex, enunciado, solucion, texto_ejercicio, curso, titulo , n_ejercicio, '1', '2'), ignore_index=True)\n"
   ]
  },
  {
   "cell_type": "code",
   "execution_count": null,
   "metadata": {},
   "outputs": [],
   "source": [
    "# Página 28 ejercicio 7\n",
    "\n",
    "texto_ejercicio = 'Calcula:'\n",
    "n_ejercicio = 'p028e07'\n",
    "\n",
    "display(md(\"**\"+texto_ejercicio+\"**\"))\n",
    "\n",
    "enunciado_latex = [r'\\log 100',\n",
    "                   r'\\log_{5}(625)',\n",
    "                   r'\\log_{2}(32)',\n",
    "                   r'\\log_{3}(81)',\n",
    "                   r'\\log_{2}(1024)',\n",
    "                   r'\\log 1000',\n",
    "                   r'\\log 10000',\n",
    "                   r'\\log 1000000',\n",
    "                   r'\\log (10^6)',\n",
    "                   r'\\log 0.1',\n",
    "                   r'\\log 0.01',\n",
    "                   r'\\log 0.001',\n",
    "                   r'\\log 0.000001',\n",
    "                   r'\\log_{5}(625)',\n",
    "                   r'\\log_{2}(4)',\n",
    "                   r'\\log_{2}(64)'                  \n",
    "                   \n",
    "                  ]\n",
    "                   \n",
    "            \n",
    "enunciado, solucion = [], []\n",
    "\n",
    "for i, s in enumerate(enunciado_latex) : \n",
    "    en = parse_latex(s)\n",
    "    enunciado.append(en)\n",
    "    so = nsimplify(eval(str(en)))\n",
    "    sol = latex(so)\n",
    "    solucion.append(sol) \n",
    "    display(md(\"$\"+ s +\" \\\\rightarrow \" + solucion[i] +\"$\"))\n",
    "\n",
    "df_ejercicios = df_ejercicios.append(añadir_ejercicios(enunciado_latex, enunciado, solucion, texto_ejercicio, curso, titulo , n_ejercicio, '1', '4'), ignore_index=True)\n"
   ]
  },
  {
   "cell_type": "code",
   "execution_count": null,
   "metadata": {},
   "outputs": [],
   "source": [
    "# Página 28 ejercicio 7\n",
    "\n",
    "texto_ejercicio = 'Calcula (continuación):'\n",
    "n_ejercicio = 'p028e07b'\n",
    "\n",
    "display(md(\"**\"+texto_ejercicio+\"**\"))\n",
    "\n",
    "enunciado_latex = [\n",
    "                   r'\\log_{2}(\\frac{1}{2})',\n",
    "                   r'\\log_{2}(\\frac{1}{4})',\n",
    "                   r'\\log_{2}(\\sqrt{2})',\n",
    "                   r'\\log_{2}(\\sqrt{8})',\n",
    "                   r'\\log_{3}(3)',\n",
    "                   r'\\log_{3}(27)',\n",
    "                   r'\\log_{3}(27)',\n",
    "                   r'\\log_{3}(\\frac{1}{3})',\n",
    "                   r'\\log_{3}(\\frac{1}{9})',\n",
    "                   r'\\log_{3}{\\sqrt[3]{3}}',\n",
    "                   r'\\log_{\\frac{1}{3}}(81)',\n",
    "                   r'\\log_{0.8}(1)',\n",
    "                   r'\\log_{0.01}({10}^{-3})',\n",
    "                   r'\\log_{\\frac{1}{49}}(7)',\n",
    "                   r'\\log_{\\frac{1}{5}}({\\frac{1}{25}})^{\\frac{1}{5}}',\n",
    "                   \n",
    "                   \n",
    "                   \n",
    "                  ]\n",
    "                   \n",
    "            \n",
    "enunciado, solucion = [], []\n",
    "\n",
    "for i, s in enumerate(enunciado_latex) : \n",
    "    en = parse_latex(s)\n",
    "    enunciado.append(en)\n",
    "    so = nsimplify(eval(str(en)))\n",
    "    sol = latex(so)\n",
    "    solucion.append(sol) \n",
    "    display(md(\"$\"+ s +\" \\\\rightarrow \" + solucion[i] +\"$\"))\n",
    "\n",
    "df_ejercicios = df_ejercicios.append(añadir_ejercicios(enunciado_latex, enunciado, solucion, texto_ejercicio, curso, titulo , n_ejercicio, '1', '4'), ignore_index=True)\n"
   ]
  },
  {
   "cell_type": "code",
   "execution_count": null,
   "metadata": {},
   "outputs": [],
   "source": [
    "# Página 28 ejercicio 8\n",
    "\n",
    "texto_ejercicio = 'Averigua el valor de x en los siguientes casos:'\n",
    "n_ejercicio = 'p028e08'\n",
    "\n",
    "\n",
    "\n",
    "display(md(\"**\"+texto_ejercicio+\"**\"))\n",
    "\n",
    "enunciado_latex = [r'\\log_{7}(x) = 2',\n",
    "                   r'\\log_{8}(x) = \\frac{1}{3}',\n",
    "                   r'\\log_{2}(\\frac{1}{16}) = x',\n",
    "                   r'\\log_{x}(125) = 3',\n",
    "                   r'\\log_{2}(64) = x',\n",
    "                   r'\\log_{x}(9) = 2',\n",
    "                   r'\\log_{2}(x) = -3',\n",
    "                   r'\\log_{x}(5) + 2',\n",
    "                   r'\\log_{0.008}(625) = 2x'\n",
    "                ]\n",
    "\n",
    "enunciado, solucion = [], []\n",
    "\n",
    "for i, s in enumerate(enunciado_latex) : \n",
    "    en = parse_latex(s)\n",
    "    enunciado.append(en)\n",
    "    so = [nsimplify(t) for t in solve(eval(str(en)))]\n",
    "    sol = latex(so)\n",
    "    solucion.append(sol) \n",
    "    display(md(\"$\"+ s +\" \\\\rightarrow \" + solucion[i] +\"$\"))\n",
    "\n",
    "df_ejercicios = df_ejercicios.append(añadir_ejercicios(enunciado_latex, enunciado, solucion, texto_ejercicio, curso, titulo , n_ejercicio, '1', '2'), ignore_index=True)\n"
   ]
  },
  {
   "cell_type": "code",
   "execution_count": null,
   "metadata": {},
   "outputs": [],
   "source": [
    "# Página 28 ejercicio 9\n",
    "\n",
    "texto_ejercicio = 'Sabiendo que log 2 = 0,301030, calcula'\n",
    "n_ejercicio = 'p028e09'\n",
    "\n",
    "display(md(\"**\"+texto_ejercicio+\"**\"))\n",
    "\n",
    "enunciado_latex = [\n",
    "                   r'\\log(16)',\n",
    "                   r'\\log(64)',\n",
    "                   r'\\log(1024)',\n",
    "                   r'\\log(\\frac{1}{2})',\n",
    "                   r'\\log(\\frac{1}{16})',\n",
    "                   r'\\log(5)',\n",
    "                   r'\\log(25)',\n",
    "                   r'\\log(0.0016)',\n",
    "                   r'\\log(\\sqrt[ 4 ]{\\frac{1}{{0.04}}} )',\n",
    "                   r'\\log{\\sqrt[ 3 ]{0.002}}',\n",
    "                   r'\\log(0.025)',\n",
    "                   r'\\log(\\sqrt[ 4 ]{\\frac{1}{{1024}}} )'\n",
    "                  ]\n",
    "                   \n",
    "            \n",
    "enunciado, solucion = [], []\n",
    "\n",
    "for i, s in enumerate(enunciado_latex) : \n",
    "    en = parse_latex(s)\n",
    "    enunciado.append(en)\n",
    "    so = simplify(eval(str(en)).n(9))\n",
    "    sol = latex(so)\n",
    "    solucion.append(sol) \n",
    "    display(md(\"$\"+ s +\" \\\\rightarrow \" + solucion[i] +\"$\"))\n",
    "\n",
    "df_ejercicios = df_ejercicios.append(añadir_ejercicios(enunciado_latex, enunciado, solucion, texto_ejercicio, curso, titulo , n_ejercicio, '1', '3'), ignore_index=True)\n"
   ]
  },
  {
   "cell_type": "code",
   "execution_count": null,
   "metadata": {},
   "outputs": [],
   "source": [
    "# Página 28 ejercicio 10\n",
    "\n",
    "texto_ejercicio = 'Sabiendo que log 3 = 0,477121, calcula'\n",
    "n_ejercicio = 'p028e10'\n",
    "\n",
    "display(md(\"**\"+texto_ejercicio+\"**\"))\n",
    "\n",
    "enunciado_latex = [\n",
    "                   r'\\log(243)',\n",
    "                   r'\\log(0.0027)',\n",
    "                   r'\\log(0.003)',\n",
    "                   r'\\log(\\sqrt[ 4 ]{{0.03}^3})',\n",
    "                   r'\\log(\\sqrt[ 5 ]{0.81})',\n",
    "                   r'\\log(\\frac{1}{81})'\n",
    "                  ]\n",
    "                   \n",
    "            \n",
    "enunciado, solucion = [], []\n",
    "\n",
    "for i, s in enumerate(enunciado_latex) : \n",
    "    en = parse_latex(s)\n",
    "    enunciado.append(en)\n",
    "    so = simplify(eval(str(en)).n(9))\n",
    "    sol = latex(so)\n",
    "    solucion.append(sol) \n",
    "    display(md(\"$\"+ s +\" \\\\rightarrow \" + solucion[i] +\"$\"))\n",
    "\n",
    "df_ejercicios = df_ejercicios.append(añadir_ejercicios(enunciado_latex, enunciado, solucion, texto_ejercicio, curso, titulo , n_ejercicio, '1', '3'), ignore_index=True)\n"
   ]
  },
  {
   "cell_type": "code",
   "execution_count": null,
   "metadata": {},
   "outputs": [],
   "source": [
    "# Página 28 ejercicio 11\n",
    "\n",
    "texto_ejercicio = 'Sabiendo que log 2 = 0,301030 y que log 3 = 0,477121 averigua, sin calculadora:'\n",
    "n_ejercicio = 'p028e11'\n",
    "\n",
    "display(md(\"**\"+texto_ejercicio+\"**\"))\n",
    "\n",
    "enunciado_latex = [\n",
    "                   r'\\log(8)',\n",
    "                   r'\\log(15)',\n",
    "                   r'\\log(12)',\n",
    "                   r'\\log(\\sqrt[ 3 ]{162})',\n",
    "                   r'\\log(0.18)',\n",
    "                   r'\\log(0.002)',\n",
    "                   r'\\log(0.0625)',\n",
    "                   r'\\log(40.5)',\n",
    "                   r'\\log(\\frac{1}{3})'\n",
    "                  ]\n",
    "                   \n",
    "            \n",
    "enunciado, solucion = [], []\n",
    "\n",
    "for i, s in enumerate(enunciado_latex) : \n",
    "    en = parse_latex(s)\n",
    "    enunciado.append(en)\n",
    "    so = simplify(eval(str(en)).n(9))\n",
    "    sol = latex(so)\n",
    "    solucion.append(sol) \n",
    "    display(md(\"$\"+ s +\" \\\\rightarrow \" + solucion[i] +\"$\"))\n",
    "\n",
    "df_ejercicios = df_ejercicios.append(añadir_ejercicios(enunciado_latex, enunciado, solucion, texto_ejercicio, curso, titulo , n_ejercicio, '1', '3'), ignore_index=True)\n"
   ]
  },
  {
   "cell_type": "code",
   "execution_count": null,
   "metadata": {},
   "outputs": [],
   "source": [
    "# Página 28 ejercicio 12\n",
    "\n",
    "texto_ejercicio = 'Sabiendo que log 2 = 0,301030 y que log 3 = 0,477121 averigua, sin calculadora:'\n",
    "n_ejercicio = 'p028e12'\n",
    "\n",
    "display(md(\"**\"+texto_ejercicio+\"**\"))\n",
    "\n",
    "enunciado_latex = [\n",
    "                   r'\\log \\frac{{{{0.0027}^3} \\cdot \\sqrt[ 4 ]{540} }}{{96 \\cdot \\sqrt[ 5]{51.84} }}'\n",
    "                  ]\n",
    "                   \n",
    "            \n",
    "enunciado, solucion = [], []\n",
    "\n",
    "for i, s in enumerate(enunciado_latex) : \n",
    "    en = parse_latex(s)\n",
    "    enunciado.append(en)\n",
    "    so = simplify(eval(str(en)).n(9))\n",
    "    sol = latex(so)\n",
    "    solucion.append(sol) \n",
    "    display(md(\"$\"+ s +\" \\\\rightarrow \" + solucion[i] +\"$\"))\n",
    "\n",
    "df_ejercicios = df_ejercicios.append(añadir_ejercicios(enunciado_latex, enunciado, solucion, texto_ejercicio, curso, titulo , n_ejercicio, '1', '3'), ignore_index=True)\n"
   ]
  },
  {
   "cell_type": "code",
   "execution_count": null,
   "metadata": {},
   "outputs": [],
   "source": [
    "# Página 29 ejercicio 15\n",
    "\n",
    "texto_ejercicio = 'Realiza las siguientes operaciones:'\n",
    "n_ejercicio = 'p029e15'\n",
    "\n",
    "display(md(\"**\"+texto_ejercicio+\"**\"))\n",
    "\n",
    "enunciado_latex = [\n",
    "                   r'\\log ( {4 - \\sqrt{ 6} } ) + \\log ( {4 + \\sqrt {6} } )',\n",
    "                   r'\\frac{1}{2}\\log ( {12 - 2\\sqrt {11} } ) + \\frac{1}{2}\\log ( {12 + 2\\sqrt {11} } )',\n",
    "                   r'\\log ( {7 - \\sqrt {22} } ) + \\log ( {7 + \\sqrt {22} } ) - 3\\log 3'\n",
    "                  ]\n",
    "                   \n",
    "            \n",
    "enunciado, solucion = [], []\n",
    "\n",
    "for i, s in enumerate(enunciado_latex) : \n",
    "    en = parse_latex(s)\n",
    "    enunciado.append(en)\n",
    "    so = nsimplify(eval(str(en)).n(9))\n",
    "    sol = latex(so)\n",
    "    solucion.append(sol) \n",
    "    display(md(\"$\"+ s +\" \\\\rightarrow \" + solucion[i] +\"$\"))\n",
    "\n",
    "df_ejercicios = df_ejercicios.append(añadir_ejercicios(enunciado_latex, enunciado, solucion, texto_ejercicio, curso, titulo , n_ejercicio, '1', '3'), ignore_index=True)\n"
   ]
  },
  {
   "cell_type": "code",
   "execution_count": null,
   "metadata": {},
   "outputs": [],
   "source": [
    "# Página 29 ejercicio 18\n",
    "\n",
    "texto_ejercicio = 'Averigua el valor de x en los siguientes casos:'\n",
    "n_ejercicio = 'p029e18'\n",
    "\n",
    "\n",
    "\n",
    "display(md(\"**\"+texto_ejercicio+\"**\"))\n",
    "\n",
    "enunciado_latex = [r'\\log (x) - \\log (3) = 2',\n",
    "                   r' \\log 2 + \\log x = 1',\n",
    "                   r'5\\log x - \\log 32 = \\log(\\frac{x}{2})',\n",
    "                   r'2\\log x - \\log (x - 16) = 2',\n",
    "                   r'\\log x + \\log (50) = \\log (1000)',\n",
    "                   r'\\log (x^3) = \\log (6) + 2 \\log (x)',\n",
    "                   r'2\\log (\\frac{x}{2}) + 2\\log (\\frac{x}{3}) = 3\\log (x) - \\log (\\frac{{32}}{9})',\n",
    "                   r'\\log(2) + \\log(11-x^2) = 2\\log(5-x)',\n",
    "                   #r'\\log(x - 1) - \\log (\\sqrt{5 + x})  = \\log(\\sqrt{5 - x})'\n",
    "                   #r'\\frac{{\\log (x - 1) + \\log (x + 1)}}{{\\log (2 - x)}} = 2',\n",
    "                   r'\\log(1250) - 2 = 2 - \\log {( {{2^{2 - x}}} )^{2 + x}}'\n",
    "                   \n",
    "                ]\n",
    "\n",
    "enunciado, solucion = [], []\n",
    "\n",
    "for i, s in enumerate(enunciado_latex) : \n",
    "    en = parse_latex(s)\n",
    "    enunciado.append(en)\n",
    "    so = [nsimplify(t) for t in solve(en)]\n",
    "    sol = latex(so)\n",
    "    solucion.append(sol) \n",
    "    display(md(\"$\"+ s +\" \\\\rightarrow \" + solucion[i] +\"$\"))\n",
    "\n",
    "df_ejercicios = df_ejercicios.append(añadir_ejercicios(enunciado_latex, enunciado, solucion, texto_ejercicio, curso, titulo , n_ejercicio, '1', '2'), ignore_index=True)\n"
   ]
  },
  {
   "cell_type": "code",
   "execution_count": null,
   "metadata": {},
   "outputs": [],
   "source": [
    "# Página 29 ejercicio 18\n",
    "\n",
    "texto_ejercicio = 'Averigua el valor de x en los siguientes casos:'\n",
    "n_ejercicio = 'p029e18'\n",
    "\n",
    "\n",
    "\n",
    "display(md(\"**\"+texto_ejercicio+\"**\"))\n",
    "\n",
    "enunciado_latex = [r'\\log(x - 1) - \\log (\\sqrt{5 + x})  - \\log(\\sqrt{5 - x})=0',\n",
    "                   r'{\\log (x - 1) + \\log (x + 1)} = 2{\\log (2 - x)}'                   \n",
    "                ]\n",
    "\n",
    "enunciado, solucion = [], []\n",
    "\n",
    "for i, s in enumerate(enunciado_latex) : \n",
    "    en = parse_latex(s)\n",
    "    enunciado.append(en)\n",
    "    so = solve(logcombine(en,force = True))\n",
    "    sol = latex(so)\n",
    "    solucion.append(sol) \n",
    "    display(md(\"$\"+ s +\" \\\\rightarrow \" + solucion[i] +\"$\"))\n",
    "\n",
    "df_ejercicios = df_ejercicios.append(añadir_ejercicios(enunciado_latex, enunciado, solucion, texto_ejercicio, curso, titulo , n_ejercicio, '1', '2'), ignore_index=True)\n"
   ]
  },
  {
   "cell_type": "code",
   "execution_count": null,
   "metadata": {},
   "outputs": [],
   "source": [
    "# Página 28 ejercicio 19\n",
    "\n",
    "\n",
    "\n",
    "texto_ejercicio = 'Resuelve los siguientes sistemas de inecuaciones:'\n",
    "n_ejercicio = 'p028e19'\n",
    "\n",
    "display(md(\"**\"+texto_ejercicio+\"**\"))\n",
    "\n",
    "pre_enunciado_latex = [[r'\\log x + \\log y = 5 ',r'\\log x - \\log y = 1'],\n",
    "                       [r'3\\log x - 2\\log y = 10',r'\\log x + 3\\log y = 7'],\n",
    "                       [r'\\log_{2}(x) + \\log_{2}(x + y) = 4',r'x + y = 2 ']\n",
    "                                             ]\n",
    "                       \n",
    "\n",
    "\n",
    "\n",
    "enunciado_latex,enunciado, solucion = [], [], []\n",
    "\n",
    "for i, s in enumerate(pre_enunciado_latex) :\n",
    "    enl = r\"\"\"\\left\\{\\begin{matrix}\"\"\"+ s[0] + r'\\\\' + s[1] + r\"\"\"\\end{matrix}\\right.\"\"\"\n",
    "    en = [parse_latex(t) for t in s]\n",
    "    so = solve(en)\n",
    "    enunciado_latex.append(enl)\n",
    "    enunciado.append(en)\n",
    "    so_l=latex(so)\n",
    "    solucion.append(so_l) \n",
    "    display(md(\"$\"+ enunciado_latex[i] +\" \\\\rightarrow \" + solucion[i] +\"$\"))\n",
    "\n",
    "df_ejercicios = df_ejercicios.append(añadir_ejercicios(enunciado_latex, enunciado, solucion, texto_ejercicio, curso, titulo , n_ejercicio, '1', '2'), ignore_index=True)\n"
   ]
  },
  {
   "cell_type": "code",
   "execution_count": null,
   "metadata": {},
   "outputs": [],
   "source": [
    "df_ejercicios.to_csv('ejercicios9.csv', index = False)"
   ]
  },
  {
   "cell_type": "code",
   "execution_count": null,
   "metadata": {},
   "outputs": [],
   "source": [
    "df_ejercicios = pd.read_csv('ejercicios9.csv', index_col= None)"
   ]
  },
  {
   "cell_type": "code",
   "execution_count": null,
   "metadata": {},
   "outputs": [],
   "source": [
    "escribir_preambulo(fichero, titulo, 'ejercicios')\n",
    "for s in df_ejercicios.groupby('n_ejercicio').count().index : \n",
    "    display(md(\"**Ejercicio: **\" + s ))\n",
    "    display(df_ejercicios[df_ejercicios.n_ejercicio == s])\n",
    "    escribir_ejercicios(df_ejercicios[df_ejercicios.n_ejercicio == s],fichero)\n",
    "\n",
    "escribir_fin(fichero)"
   ]
  }
 ],
 "metadata": {
  "kernelspec": {
   "display_name": "Python 3",
   "language": "python",
   "name": "python3"
  },
  "language_info": {
   "codemirror_mode": {
    "name": "ipython",
    "version": 3
   },
   "file_extension": ".py",
   "mimetype": "text/x-python",
   "name": "python",
   "nbconvert_exporter": "python",
   "pygments_lexer": "ipython3",
   "version": "3.6.5"
  }
 },
 "nbformat": 4,
 "nbformat_minor": 2
}
