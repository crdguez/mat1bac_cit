{
 "cells": [
  {
   "cell_type": "code",
   "execution_count": 1,
   "metadata": {},
   "outputs": [
    {
     "name": "stdout",
     "output_type": "stream",
     "text": [
      "IPython console for SymPy 1.2 (Python 3.6.5-64-bit) (ground types: gmpy)\n",
      "\n",
      "These commands were executed:\n",
      ">>> from __future__ import division\n",
      ">>> from sympy import *\n",
      ">>> x, y, z, t = symbols('x y z t')\n",
      ">>> k, m, n = symbols('k m n', integer=True)\n",
      ">>> f, g, h = symbols('f g h', cls=Function)\n",
      ">>> init_printing()\n",
      "\n",
      "Documentation can be found at http://docs.sympy.org/1.2/\n",
      "\n"
     ]
    }
   ],
   "source": [
    "from sympy import init_session\n",
    "from sympy import div, QQ\n",
    "from sympy.parsing.latex import parse_latex\n",
    "from sympy.parsing.sympy_parser import parse_expr\n",
    "from IPython.display import Markdown as md\n",
    "from IPython.display import display\n",
    "import pandas as pd\n",
    "\n",
    "from sympy import solve_poly_inequality, reduce_abs_inequality\n",
    "from sympy.solvers.inequalities import solve_univariate_inequality\n",
    "\n",
    "\n",
    "init_session()\n",
    "\n",
    "a, b, c, d = symbols('a b c d', real = True)\n",
    "from docparts import añadir_ejercicios, doc_ejer, escribir_preambulo, escribir_ejercicios, escribir_fin\n",
    "\n",
    "df_ejercicios = pd.DataFrame()\n",
    "\n",
    "fichero = 'ecuexplog'\n",
    "titulo = '9 - Ecuaciones exponenciales y logarítmicas'\n",
    "curso = '1BC'\n",
    "\n",
    "\n",
    "x = symbols('x', real=True)\n"
   ]
  },
  {
   "cell_type": "code",
   "execution_count": 2,
   "metadata": {},
   "outputs": [
    {
     "data": {
      "text/markdown": [
       "**Resuelve las siguientes ecuaciones exponenciales:**"
      ],
      "text/plain": [
       "<IPython.core.display.Markdown object>"
      ]
     },
     "metadata": {},
     "output_type": "display_data"
    },
    {
     "data": {
      "text/markdown": [
       "${10^{3 - x}} = 1 \\rightarrow \\left [ 3\\right ]$"
      ],
      "text/plain": [
       "<IPython.core.display.Markdown object>"
      ]
     },
     "metadata": {},
     "output_type": "display_data"
    },
    {
     "data": {
      "text/markdown": [
       "${5^{x + 3}} = 125 \\rightarrow \\left [ 0\\right ]$"
      ],
      "text/plain": [
       "<IPython.core.display.Markdown object>"
      ]
     },
     "metadata": {},
     "output_type": "display_data"
    },
    {
     "data": {
      "text/markdown": [
       "$5^{1-x^2}=\\frac{1}{125} \\rightarrow \\left [ -2.0, \\quad 2.0\\right ]$"
      ],
      "text/plain": [
       "<IPython.core.display.Markdown object>"
      ]
     },
     "metadata": {},
     "output_type": "display_data"
    },
    {
     "data": {
      "text/markdown": [
       "${5^{{x^2} - 5x + 6}} = 1 \\rightarrow \\left [ 2, \\quad 3\\right ]$"
      ],
      "text/plain": [
       "<IPython.core.display.Markdown object>"
      ]
     },
     "metadata": {},
     "output_type": "display_data"
    },
    {
     "data": {
      "text/markdown": [
       "${2^{1 - x}} = \\frac{1}{8} \\rightarrow \\left [ 4.0\\right ]$"
      ],
      "text/plain": [
       "<IPython.core.display.Markdown object>"
      ]
     },
     "metadata": {},
     "output_type": "display_data"
    },
    {
     "data": {
      "text/markdown": [
       "$2^{x + 3} = 4^{- x} \\rightarrow \\left [ -1\\right ]$"
      ],
      "text/plain": [
       "<IPython.core.display.Markdown object>"
      ]
     },
     "metadata": {},
     "output_type": "display_data"
    },
    {
     "data": {
      "text/markdown": [
       "$3+x=-2x \\rightarrow \\left [ -1\\right ]$"
      ],
      "text/plain": [
       "<IPython.core.display.Markdown object>"
      ]
     },
     "metadata": {},
     "output_type": "display_data"
    },
    {
     "data": {
      "text/markdown": [
       "${9^{x - 1}} = {3^{x + 1}} \\rightarrow \\left [ 3\\right ]$"
      ],
      "text/plain": [
       "<IPython.core.display.Markdown object>"
      ]
     },
     "metadata": {},
     "output_type": "display_data"
    },
    {
     "data": {
      "text/markdown": [
       "${4^{4x + 3}} = {2^{ - x}} \\rightarrow \\left [ - \\frac{2}{3}\\right ]$"
      ],
      "text/plain": [
       "<IPython.core.display.Markdown object>"
      ]
     },
     "metadata": {},
     "output_type": "display_data"
    }
   ],
   "source": [
    "# Página 27 ejercicio 4\n",
    "\n",
    "texto_ejercicio = 'Resuelve las siguientes ecuaciones exponenciales:'\n",
    "n_ejercicio = 'p027e04'\n",
    "\n",
    "x,y = symbols('x,y', real=True)\n",
    "\n",
    "display(md(\"**\"+texto_ejercicio+\"**\"))\n",
    "\n",
    "enunciado_latex = [r'{10^{3 - x}} = 1',\n",
    "                   r'{5^{x + 3}} = 125',\n",
    "                   r'5^{1-x^2}=\\frac{1}{125}',\n",
    "                   r'{5^{{x^2} - 5x + 6}} = 1',\n",
    "                   r'{2^{1 - x}} = \\frac{1}{8}',\n",
    "                   r'2^{x + 3} = 4^{- x}',\n",
    "                   r'3+x=-2x',\n",
    "                   r'{9^{x - 1}} = {3^{x + 1}}',\n",
    "                   r'{4^{4x + 3}} = {2^{ - x}}'                \n",
    "                ]\n",
    "\n",
    "enunciado, solucion = [], []\n",
    "\n",
    "for i, s in enumerate(enunciado_latex) : \n",
    "    en = parse_latex(s)\n",
    "    enunciado.append(en)\n",
    "    so = solve(eval(str(en)))\n",
    "    sol = latex(so)\n",
    "    solucion.append(sol) \n",
    "    display(md(\"$\"+ s +\" \\\\rightarrow \" + solucion[i] +\"$\"))\n",
    "\n",
    "df_ejercicios = df_ejercicios.append(añadir_ejercicios(enunciado_latex, enunciado, solucion, texto_ejercicio, curso, titulo , n_ejercicio, '1', '2'), ignore_index=True)\n"
   ]
  },
  {
   "cell_type": "code",
   "execution_count": null,
   "metadata": {},
   "outputs": [
    {
     "data": {
      "text/markdown": [
       "**Resuelve las siguientes ecuaciones exponenciales:**"
      ],
      "text/plain": [
       "<IPython.core.display.Markdown object>"
      ]
     },
     "metadata": {},
     "output_type": "display_data"
    },
    {
     "data": {
      "text/markdown": [
       "${3^{x + 1}} + {3^x} + {3^{x - 1}} = 117 \\rightarrow \\left [ 3\\right ]$"
      ],
      "text/plain": [
       "<IPython.core.display.Markdown object>"
      ]
     },
     "metadata": {},
     "output_type": "display_data"
    },
    {
     "data": {
      "text/markdown": [
       "${3^x} + {3^{x - 1}} + {3^{x - 2}} + {3^{x - 3}} + {3^{x - 4}} = 363 \\rightarrow \\left [ 5\\right ]$"
      ],
      "text/plain": [
       "<IPython.core.display.Markdown object>"
      ]
     },
     "metadata": {},
     "output_type": "display_data"
    }
   ],
   "source": [
    "# Página 27 ejercicio 5\n",
    "\n",
    "texto_ejercicio = 'Resuelve las siguientes ecuaciones exponenciales:'\n",
    "n_ejercicio = 'p027e05'\n",
    "\n",
    "x,y = symbols('x,y', real=True)\n",
    "\n",
    "display(md(\"**\"+texto_ejercicio+\"**\"))\n",
    "\n",
    "enunciado_latex = [r'{3^{x + 1}} + {3^x} + {3^{x - 1}} = 117',\n",
    "                   r'{3^x} + {3^{x - 1}} + {3^{x - 2}} + {3^{x - 3}} + {3^{x - 4}} = 363',\n",
    "                   r'{2^{3x}} - \\frac{3}{{{2^{3x + 2}}}} + 1 = 0',\n",
    "                   r'{3^{x - 1}} + {3^{2 - x}} = 4',\n",
    "                   r'{2^{x + 1}} + {4^x} = 80',\n",
    "                   r'2^{2x} - 3 \\cdot {2^{x + 1}} + 8 = 0',\n",
    "                   r'{3^{2x - 3}} + 1 = 4 \\cdot {3^{x - 2}}',\n",
    "                   r'{2^{2x}} - 10 \\cdot {2^x} + 16 = 0',\n",
    "                   r'{16^x} - {4^x} = 240'                \n",
    "                ]\n",
    "\n",
    "enunciado, solucion = [], []\n",
    "\n",
    "for i, s in enumerate(enunciado_latex) : \n",
    "    en = parse_latex(s)\n",
    "    enunciado.append(en)\n",
    "    so = solve(eval(str(en)))\n",
    "    sol = latex(so)\n",
    "    solucion.append(sol) \n",
    "    display(md(\"$\"+ s +\" \\\\rightarrow \" + solucion[i] +\"$\"))\n",
    "\n",
    "df_ejercicios = df_ejercicios.append(añadir_ejercicios(enunciado_latex, enunciado, solucion, texto_ejercicio, curso, titulo , n_ejercicio, '1', '2'), ignore_index=True)\n"
   ]
  },
  {
   "cell_type": "code",
   "execution_count": null,
   "metadata": {},
   "outputs": [],
   "source": [
    "df_ejercicios.to_csv('ejercicios9.csv', index = False)"
   ]
  },
  {
   "cell_type": "code",
   "execution_count": null,
   "metadata": {},
   "outputs": [],
   "source": [
    "df_ejercicios = pd.read_csv('ejercicios9.csv', index_col= None)"
   ]
  },
  {
   "cell_type": "code",
   "execution_count": null,
   "metadata": {},
   "outputs": [],
   "source": [
    "escribir_preambulo(fichero, titulo, 'ejercicios')\n",
    "for s in df_ejercicios.groupby('n_ejercicio').count().index : \n",
    "    display(md(\"**Ejercicio: **\" + s ))\n",
    "    display(df_ejercicios[df_ejercicios.n_ejercicio == s])\n",
    "    escribir_ejercicios(df_ejercicios[df_ejercicios.n_ejercicio == s],fichero)\n",
    "\n",
    "escribir_fin(fichero)"
   ]
  }
 ],
 "metadata": {
  "kernelspec": {
   "display_name": "Python 3",
   "language": "python",
   "name": "python3"
  },
  "language_info": {
   "codemirror_mode": {
    "name": "ipython",
    "version": 3
   },
   "file_extension": ".py",
   "mimetype": "text/x-python",
   "name": "python",
   "nbconvert_exporter": "python",
   "pygments_lexer": "ipython3",
   "version": "3.6.5"
  }
 },
 "nbformat": 4,
 "nbformat_minor": 2
}
