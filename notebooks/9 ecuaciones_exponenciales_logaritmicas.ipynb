{
 "cells": [
  {
   "cell_type": "code",
   "execution_count": 1,
   "metadata": {},
   "outputs": [
    {
     "name": "stdout",
     "output_type": "stream",
     "text": [
      "IPython console for SymPy 1.2 (Python 3.6.5-64-bit) (ground types: gmpy)\n",
      "\n",
      "These commands were executed:\n",
      ">>> from __future__ import division\n",
      ">>> from sympy import *\n",
      ">>> x, y, z, t = symbols('x y z t')\n",
      ">>> k, m, n = symbols('k m n', integer=True)\n",
      ">>> f, g, h = symbols('f g h', cls=Function)\n",
      ">>> init_printing()\n",
      "\n",
      "Documentation can be found at http://docs.sympy.org/1.2/\n",
      "\n"
     ]
    }
   ],
   "source": [
    "from sympy import init_session\n",
    "from sympy import div, QQ\n",
    "from sympy.parsing.latex import parse_latex\n",
    "from sympy.parsing.sympy_parser import parse_expr\n",
    "from IPython.display import Markdown as md\n",
    "from IPython.display import display\n",
    "import pandas as pd\n",
    "\n",
    "from sympy import solve_poly_inequality, reduce_abs_inequality\n",
    "from sympy.solvers.inequalities import solve_univariate_inequality\n",
    "\n",
    "\n",
    "init_session()\n",
    "\n",
    "a, b, c, d = symbols('a b c d', real = True)\n",
    "from docparts import añadir_ejercicios, doc_ejer, escribir_preambulo, escribir_ejercicios, escribir_fin\n",
    "\n",
    "df_ejercicios = pd.DataFrame()\n",
    "\n",
    "fichero = 'ecuexplog'\n",
    "titulo = '9 - Ecuaciones exponenciales y logarítmicas'\n",
    "curso = '1BC'\n",
    "\n",
    "\n",
    "x,y = symbols('x, y', real=True)\n"
   ]
  },
  {
   "cell_type": "code",
   "execution_count": 2,
   "metadata": {},
   "outputs": [
    {
     "data": {
      "text/markdown": [
       "**Resuelve las siguientes ecuaciones exponenciales:**"
      ],
      "text/plain": [
       "<IPython.core.display.Markdown object>"
      ]
     },
     "metadata": {},
     "output_type": "display_data"
    },
    {
     "data": {
      "text/markdown": [
       "${10^{3 - x}} = 1 \\rightarrow \\left [ 3\\right ]$"
      ],
      "text/plain": [
       "<IPython.core.display.Markdown object>"
      ]
     },
     "metadata": {},
     "output_type": "display_data"
    },
    {
     "data": {
      "text/markdown": [
       "${5^{x + 3}} = 125 \\rightarrow \\left [ 0\\right ]$"
      ],
      "text/plain": [
       "<IPython.core.display.Markdown object>"
      ]
     },
     "metadata": {},
     "output_type": "display_data"
    },
    {
     "data": {
      "text/markdown": [
       "$5^{1-x^2}=\\frac{1}{125} \\rightarrow \\left [ -2, \\quad 2\\right ]$"
      ],
      "text/plain": [
       "<IPython.core.display.Markdown object>"
      ]
     },
     "metadata": {},
     "output_type": "display_data"
    },
    {
     "data": {
      "text/markdown": [
       "${5^{{x^2} - 5x + 6}} = 1 \\rightarrow \\left [ 2, \\quad 3\\right ]$"
      ],
      "text/plain": [
       "<IPython.core.display.Markdown object>"
      ]
     },
     "metadata": {},
     "output_type": "display_data"
    },
    {
     "data": {
      "text/markdown": [
       "${2^{1 - x}} = \\frac{1}{8} \\rightarrow \\left [ 4\\right ]$"
      ],
      "text/plain": [
       "<IPython.core.display.Markdown object>"
      ]
     },
     "metadata": {},
     "output_type": "display_data"
    },
    {
     "data": {
      "text/markdown": [
       "$2^{x + 3} = 4^{- x} \\rightarrow \\left [ -1\\right ]$"
      ],
      "text/plain": [
       "<IPython.core.display.Markdown object>"
      ]
     },
     "metadata": {},
     "output_type": "display_data"
    },
    {
     "data": {
      "text/markdown": [
       "${9^{x - 1}} = {3^{x + 1}} \\rightarrow \\left [ 3\\right ]$"
      ],
      "text/plain": [
       "<IPython.core.display.Markdown object>"
      ]
     },
     "metadata": {},
     "output_type": "display_data"
    },
    {
     "data": {
      "text/markdown": [
       "${4^{4x + 3}} = {2^{ - x}} \\rightarrow \\left [ - \\frac{2}{3}\\right ]$"
      ],
      "text/plain": [
       "<IPython.core.display.Markdown object>"
      ]
     },
     "metadata": {},
     "output_type": "display_data"
    },
    {
     "data": {
      "text/markdown": [
       "${8^{x - 1}} = {4^{3x + 1}} \\rightarrow \\left [ - \\frac{5}{3}\\right ]$"
      ],
      "text/plain": [
       "<IPython.core.display.Markdown object>"
      ]
     },
     "metadata": {},
     "output_type": "display_data"
    },
    {
     "data": {
      "text/markdown": [
       "${5^{ - x}} = 0.04 \\rightarrow \\left [ 2\\right ]$"
      ],
      "text/plain": [
       "<IPython.core.display.Markdown object>"
      ]
     },
     "metadata": {},
     "output_type": "display_data"
    },
    {
     "data": {
      "text/markdown": [
       "${10^x} \\cdot {10^{ - 2x + 7}} = 100 \\rightarrow \\left [ 5\\right ]$"
      ],
      "text/plain": [
       "<IPython.core.display.Markdown object>"
      ]
     },
     "metadata": {},
     "output_type": "display_data"
    },
    {
     "data": {
      "text/markdown": [
       "${( {{3^x}} )^2} \\cdot {3^x} = {9^3} \\rightarrow \\left [ 2\\right ]$"
      ],
      "text/plain": [
       "<IPython.core.display.Markdown object>"
      ]
     },
     "metadata": {},
     "output_type": "display_data"
    },
    {
     "data": {
      "text/markdown": [
       "$\\sqrt{2 \\cdot \\sqrt{2 \\cdot \\sqrt{2} } } = {2^x} \\rightarrow \\left [ \\frac{7}{8}\\right ]$"
      ],
      "text/plain": [
       "<IPython.core.display.Markdown object>"
      ]
     },
     "metadata": {},
     "output_type": "display_data"
    },
    {
     "data": {
      "text/markdown": [
       "${2^{{x^2} - 5x}} = {64^{ - 1}} \\rightarrow \\left [ 2, \\quad 3\\right ]$"
      ],
      "text/plain": [
       "<IPython.core.display.Markdown object>"
      ]
     },
     "metadata": {},
     "output_type": "display_data"
    },
    {
     "data": {
      "text/markdown": [
       "$\\sqrt{\\sqrt {3}  + \\sqrt {3}  + \\sqrt {3} }  = {3^{x + 2}} \\rightarrow \\left [ - \\frac{5}{4}\\right ]$"
      ],
      "text/plain": [
       "<IPython.core.display.Markdown object>"
      ]
     },
     "metadata": {},
     "output_type": "display_data"
    },
    {
     "data": {
      "text/markdown": [
       "$\\sqrt[x]{216}  = 6 \\rightarrow \\left [ 3\\right ]$"
      ],
      "text/plain": [
       "<IPython.core.display.Markdown object>"
      ]
     },
     "metadata": {},
     "output_type": "display_data"
    },
    {
     "data": {
      "text/markdown": [
       "${4^x} - {2^x} = 2 \\rightarrow \\left [ 1\\right ]$"
      ],
      "text/plain": [
       "<IPython.core.display.Markdown object>"
      ]
     },
     "metadata": {},
     "output_type": "display_data"
    },
    {
     "data": {
      "text/markdown": [
       "${5^x} - 30 \\cdot {5^x} + 145 = 0 \\rightarrow \\left [ 1\\right ]$"
      ],
      "text/plain": [
       "<IPython.core.display.Markdown object>"
      ]
     },
     "metadata": {},
     "output_type": "display_data"
    },
    {
     "data": {
      "text/markdown": [
       "${2^{x - 1}} + {2^x} + {2^{x + 1}} = 7 \\rightarrow \\left [ 1\\right ]$"
      ],
      "text/plain": [
       "<IPython.core.display.Markdown object>"
      ]
     },
     "metadata": {},
     "output_type": "display_data"
    }
   ],
   "source": [
    "# Página 27 ejercicio 4\n",
    "\n",
    "texto_ejercicio = 'Resuelve las siguientes ecuaciones exponenciales:'\n",
    "n_ejercicio = 'p027e04'\n",
    "\n",
    "display(md(\"**\"+texto_ejercicio+\"**\"))\n",
    "\n",
    "enunciado_latex = [r'{10^{3 - x}} = 1',\n",
    "                   r'{5^{x + 3}} = 125',\n",
    "                   r'5^{1-x^2}=\\frac{1}{125}',\n",
    "                   r'{5^{{x^2} - 5x + 6}} = 1',\n",
    "                   r'{2^{1 - x}} = \\frac{1}{8}',\n",
    "                   r'2^{x + 3} = 4^{- x}',\n",
    "                   r'{9^{x - 1}} = {3^{x + 1}}',\n",
    "                   r'{4^{4x + 3}} = {2^{ - x}}',\n",
    "                   r'{8^{x - 1}} = {4^{3x + 1}}',\n",
    "                   r'{5^{ - x}} = 0.04',\n",
    "                   r'{10^x} \\cdot {10^{ - 2x + 7}} = 100',\n",
    "                   r'{( {{3^x}} )^2} \\cdot {3^x} = {9^3}',\n",
    "                   r'\\sqrt{2 \\cdot \\sqrt{2 \\cdot \\sqrt{2} } } = {2^x}',\n",
    "                   r'{2^{{x^2} - 5x}} = {64^{ - 1}}',\n",
    "                   r'\\sqrt{\\sqrt {3}  + \\sqrt {3}  + \\sqrt {3} }  = {3^{x + 2}}',\n",
    "                   r'\\sqrt[x]{216}  = 6',\n",
    "                   r'{4^x} - {2^x} = 2',\n",
    "                   r'{5^x} - 30 \\cdot {5^x} + 145 = 0',\n",
    "                   r'{2^{x - 1}} + {2^x} + {2^{x + 1}} = 7'\n",
    "                ]\n",
    "\n",
    "enunciado, solucion = [], []\n",
    "\n",
    "for i, s in enumerate(enunciado_latex) : \n",
    "    en = parse_latex(s)\n",
    "    enunciado.append(en)\n",
    "    so = solve(eval(str(en)))\n",
    "    sol = latex([nsimplify(t) for t in so])\n",
    "    solucion.append(sol) \n",
    "    display(md(\"$\"+ s +\" \\\\rightarrow \" + solucion[i] +\"$\"))\n",
    "\n",
    "df_ejercicios = df_ejercicios.append(añadir_ejercicios(enunciado_latex, enunciado, solucion, texto_ejercicio, curso, titulo , n_ejercicio, '1', '2'), ignore_index=True)\n"
   ]
  },
  {
   "cell_type": "code",
   "execution_count": 3,
   "metadata": {},
   "outputs": [
    {
     "data": {
      "text/markdown": [
       "**Resuelve las siguientes ecuaciones exponenciales:**"
      ],
      "text/plain": [
       "<IPython.core.display.Markdown object>"
      ]
     },
     "metadata": {},
     "output_type": "display_data"
    },
    {
     "data": {
      "text/markdown": [
       "${3^{x + 1}} + {3^x} + {3^{x - 1}} = 117 \\rightarrow \\left [ 3\\right ]$"
      ],
      "text/plain": [
       "<IPython.core.display.Markdown object>"
      ]
     },
     "metadata": {},
     "output_type": "display_data"
    },
    {
     "data": {
      "text/markdown": [
       "${3^x} + {3^{x - 1}} + {3^{x - 2}} + {3^{x - 3}} + {3^{x - 4}} = 363 \\rightarrow \\left [ 5\\right ]$"
      ],
      "text/plain": [
       "<IPython.core.display.Markdown object>"
      ]
     },
     "metadata": {},
     "output_type": "display_data"
    },
    {
     "data": {
      "text/markdown": [
       "${2^{3x}} - \\frac{3}{{{2^{3x + 2}}}} + 1 = 0 \\rightarrow \\left [ - \\frac{1}{3}\\right ]$"
      ],
      "text/plain": [
       "<IPython.core.display.Markdown object>"
      ]
     },
     "metadata": {},
     "output_type": "display_data"
    },
    {
     "data": {
      "text/markdown": [
       "${3^{x - 1}} + {3^{2 - x}} = 4 \\rightarrow \\left [ 1, \\quad 2\\right ]$"
      ],
      "text/plain": [
       "<IPython.core.display.Markdown object>"
      ]
     },
     "metadata": {},
     "output_type": "display_data"
    },
    {
     "data": {
      "text/markdown": [
       "${2^{x + 1}} + {4^x} = 80 \\rightarrow \\left [ 3\\right ]$"
      ],
      "text/plain": [
       "<IPython.core.display.Markdown object>"
      ]
     },
     "metadata": {},
     "output_type": "display_data"
    },
    {
     "data": {
      "text/markdown": [
       "$2^{2x} - 3 \\cdot {2^{x + 1}} + 8 = 0 \\rightarrow \\left [ 1, \\quad 2\\right ]$"
      ],
      "text/plain": [
       "<IPython.core.display.Markdown object>"
      ]
     },
     "metadata": {},
     "output_type": "display_data"
    },
    {
     "data": {
      "text/markdown": [
       "${3^{2x - 3}} + 1 = 4 \\cdot {3^{x - 2}} \\rightarrow \\left [ 1, \\quad 2\\right ]$"
      ],
      "text/plain": [
       "<IPython.core.display.Markdown object>"
      ]
     },
     "metadata": {},
     "output_type": "display_data"
    },
    {
     "data": {
      "text/markdown": [
       "${2^{2x}} - 10 \\cdot {2^x} + 16 = 0 \\rightarrow \\left [ 1, \\quad 3\\right ]$"
      ],
      "text/plain": [
       "<IPython.core.display.Markdown object>"
      ]
     },
     "metadata": {},
     "output_type": "display_data"
    },
    {
     "data": {
      "text/markdown": [
       "${16^x} - {4^x} = 240 \\rightarrow \\left [ 2\\right ]$"
      ],
      "text/plain": [
       "<IPython.core.display.Markdown object>"
      ]
     },
     "metadata": {},
     "output_type": "display_data"
    },
    {
     "data": {
      "text/markdown": [
       "$9^x - 6 \\cdot {3^{x + 1}} + 81 = 0 \\rightarrow \\left [ 2\\right ]$"
      ],
      "text/plain": [
       "<IPython.core.display.Markdown object>"
      ]
     },
     "metadata": {},
     "output_type": "display_data"
    },
    {
     "data": {
      "text/markdown": [
       "${3^{x + 2}} + {9^{x + 1}} = 810 \\rightarrow \\left [ 2\\right ]$"
      ],
      "text/plain": [
       "<IPython.core.display.Markdown object>"
      ]
     },
     "metadata": {},
     "output_type": "display_data"
    },
    {
     "data": {
      "text/markdown": [
       "${5^{x - 1}} = 2 + \\frac{3}{{{5^{x - 2}}}} \\rightarrow \\left [ 2\\right ]$"
      ],
      "text/plain": [
       "<IPython.core.display.Markdown object>"
      ]
     },
     "metadata": {},
     "output_type": "display_data"
    },
    {
     "data": {
      "text/markdown": [
       "${3^{x + 1}} + {3^{x - 2}} = \\frac{{15}}{{{3^{x - 1}}}} + \\frac{{247}}{{{3^{x - 2}}}} \\rightarrow \\left [ 3\\right ]$"
      ],
      "text/plain": [
       "<IPython.core.display.Markdown object>"
      ]
     },
     "metadata": {},
     "output_type": "display_data"
    },
    {
     "data": {
      "text/markdown": [
       "${4^{2x}} + 16 \\cdot {4^{ - 2x}} - 10 = 0 \\rightarrow \\left [ \\frac{1}{4}, \\quad \\frac{3}{4}\\right ]$"
      ],
      "text/plain": [
       "<IPython.core.display.Markdown object>"
      ]
     },
     "metadata": {},
     "output_type": "display_data"
    }
   ],
   "source": [
    "# Página 28 ejercicio 5\n",
    "\n",
    "texto_ejercicio = 'Resuelve las siguientes ecuaciones exponenciales:'\n",
    "n_ejercicio = 'p028e05'\n",
    "\n",
    "\n",
    "\n",
    "display(md(\"**\"+texto_ejercicio+\"**\"))\n",
    "\n",
    "enunciado_latex = [r'{3^{x + 1}} + {3^x} + {3^{x - 1}} = 117',\n",
    "                   r'{3^x} + {3^{x - 1}} + {3^{x - 2}} + {3^{x - 3}} + {3^{x - 4}} = 363',\n",
    "                   r'{2^{3x}} - \\frac{3}{{{2^{3x + 2}}}} + 1 = 0',\n",
    "                   r'{3^{x - 1}} + {3^{2 - x}} = 4',\n",
    "                   r'{2^{x + 1}} + {4^x} = 80',\n",
    "                   r'2^{2x} - 3 \\cdot {2^{x + 1}} + 8 = 0',\n",
    "                   r'{3^{2x - 3}} + 1 = 4 \\cdot {3^{x - 2}}',\n",
    "                   r'{2^{2x}} - 10 \\cdot {2^x} + 16 = 0',\n",
    "                   r'{16^x} - {4^x} = 240',\n",
    "                   r'9^x - 6 \\cdot {3^{x + 1}} + 81 = 0',\n",
    "                   r'{3^{x + 2}} + {9^{x + 1}} = 810',\n",
    "                   r'{5^{x - 1}} = 2 + \\frac{3}{{{5^{x - 2}}}}',\n",
    "                   r'{3^{x + 1}} + {3^{x - 2}} = \\frac{{15}}{{{3^{x - 1}}}} + \\frac{{247}}{{{3^{x - 2}}}}',\n",
    "                   r'{4^{2x}} + 16 \\cdot {4^{ - 2x}} - 10 = 0'\n",
    "                ]\n",
    "\n",
    "enunciado, solucion = [], []\n",
    "\n",
    "for i, s in enumerate(enunciado_latex) : \n",
    "    en = parse_latex(s)\n",
    "    enunciado.append(en)\n",
    "    so = solve(eval(str(en)))\n",
    "    sol = latex([nsimplify(t) for t in so])\n",
    "    solucion.append(sol) \n",
    "    display(md(\"$\"+ s +\" \\\\rightarrow \" + solucion[i] +\"$\"))\n",
    "\n",
    "df_ejercicios = df_ejercicios.append(añadir_ejercicios(enunciado_latex, enunciado, solucion, texto_ejercicio, curso, titulo , n_ejercicio, '1', '2'), ignore_index=True)\n"
   ]
  },
  {
   "cell_type": "code",
   "execution_count": 4,
   "metadata": {},
   "outputs": [
    {
     "data": {
      "text/markdown": [
       "$\\left\\{\\begin{matrix}{3^x} = {3^y}\\\\{4^x} \\cdot {4^y} = 256\\end{matrix}\\right. \\rightarrow \\left [ \\left \\{ x : 2, \\quad y : 2\\right \\}\\right ]$"
      ],
      "text/plain": [
       "<IPython.core.display.Markdown object>"
      ]
     },
     "metadata": {},
     "output_type": "display_data"
    },
    {
     "data": {
      "text/markdown": [
       "$\\left\\{\\begin{matrix}{2^{x + 2y}} = 32\\\\{2^{3x - 5y}} = 16\\end{matrix}\\right. \\rightarrow \\left [ \\left \\{ x : 3, \\quad y : 1\\right \\}\\right ]$"
      ],
      "text/plain": [
       "<IPython.core.display.Markdown object>"
      ]
     },
     "metadata": {},
     "output_type": "display_data"
    },
    {
     "data": {
      "text/markdown": [
       "$\\left\\{\\begin{matrix}{5^x} = {5^y} \\cdot 625 \\\\{2^x} \\cdot {2^y} = 256\\end{matrix}\\right. \\rightarrow \\left [ \\left \\{ x : 6, \\quad y : 2\\right \\}\\right ]$"
      ],
      "text/plain": [
       "<IPython.core.display.Markdown object>"
      ]
     },
     "metadata": {},
     "output_type": "display_data"
    },
    {
     "data": {
      "text/markdown": [
       "$\\left\\{\\begin{matrix}{2^x} + {2^y} = 24\\\\{2^{x + y}} = 128\\end{matrix}\\right. \\rightarrow \\left [ \\left \\{ x : 3, \\quad y : 4\\right \\}, \\quad \\left \\{ x : 4, \\quad y : 3\\right \\}\\right ]$"
      ],
      "text/plain": [
       "<IPython.core.display.Markdown object>"
      ]
     },
     "metadata": {},
     "output_type": "display_data"
    }
   ],
   "source": [
    "# Página 28 ejercicio 6\n",
    "\n",
    "texto_ejercicio = 'Resuelve los siguientes sistemas:'\n",
    "n_ejercicio = 'p028e06'\n",
    "\n",
    "\n",
    "\n",
    "pre_enunciado_latex = [[r'{3^x} = {3^y}',r'{4^x} \\cdot {4^y} = 256'],\n",
    "                       [r'{2^{x + 2y}} = 32', r'{2^{3x - 5y}} = 16'],\n",
    "                       [r'{5^x} = {5^y} \\cdot 625 ', r'{2^x} \\cdot {2^y} = 256'],\n",
    "                       [r'{2^x} + {2^y} = 24',r'{2^{x + y}} = 128']\n",
    "                                             ]\n",
    "                       \n",
    "\n",
    "enunciado_latex,enunciado, solucion = [], [], []\n",
    "\n",
    "for i, s in enumerate(pre_enunciado_latex) :\n",
    "    enl = r\"\"\"\\left\\{\\begin{matrix}\"\"\"+ s[0] + r'\\\\' + s[1] + r\"\"\"\\end{matrix}\\right.\"\"\"\n",
    "    en = [eval(str(parse_latex(t))) for t in s]\n",
    "    so = solve(en)\n",
    "    enunciado_latex.append(enl)\n",
    "    enunciado.append(en)\n",
    "    so_l=latex(so)\n",
    "    solucion.append(so_l) \n",
    "    display(md(\"$\"+ enunciado_latex[i] +\" \\\\rightarrow \" + solucion[i] +\"$\"))\n",
    "\n",
    "df_ejercicios = df_ejercicios.append(añadir_ejercicios(enunciado_latex, enunciado, solucion, texto_ejercicio, curso, titulo , n_ejercicio, '1', '2'), ignore_index=True)\n"
   ]
  },
  {
   "cell_type": "code",
   "execution_count": 5,
   "metadata": {},
   "outputs": [
    {
     "data": {
      "text/markdown": [
       "**Calcula:**"
      ],
      "text/plain": [
       "<IPython.core.display.Markdown object>"
      ]
     },
     "metadata": {},
     "output_type": "display_data"
    },
    {
     "data": {
      "text/markdown": [
       "$\\log 100 \\rightarrow 2$"
      ],
      "text/plain": [
       "<IPython.core.display.Markdown object>"
      ]
     },
     "metadata": {},
     "output_type": "display_data"
    },
    {
     "data": {
      "text/markdown": [
       "$\\log_{5}(625) \\rightarrow 4$"
      ],
      "text/plain": [
       "<IPython.core.display.Markdown object>"
      ]
     },
     "metadata": {},
     "output_type": "display_data"
    },
    {
     "data": {
      "text/markdown": [
       "$\\log_{2}(32) \\rightarrow 5$"
      ],
      "text/plain": [
       "<IPython.core.display.Markdown object>"
      ]
     },
     "metadata": {},
     "output_type": "display_data"
    },
    {
     "data": {
      "text/markdown": [
       "$\\log_{3}(81) \\rightarrow 4$"
      ],
      "text/plain": [
       "<IPython.core.display.Markdown object>"
      ]
     },
     "metadata": {},
     "output_type": "display_data"
    },
    {
     "data": {
      "text/markdown": [
       "$\\log_{2}(1024) \\rightarrow 10$"
      ],
      "text/plain": [
       "<IPython.core.display.Markdown object>"
      ]
     },
     "metadata": {},
     "output_type": "display_data"
    },
    {
     "data": {
      "text/markdown": [
       "$\\log 1000 \\rightarrow 3$"
      ],
      "text/plain": [
       "<IPython.core.display.Markdown object>"
      ]
     },
     "metadata": {},
     "output_type": "display_data"
    },
    {
     "data": {
      "text/markdown": [
       "$\\log 10000 \\rightarrow 4$"
      ],
      "text/plain": [
       "<IPython.core.display.Markdown object>"
      ]
     },
     "metadata": {},
     "output_type": "display_data"
    },
    {
     "data": {
      "text/markdown": [
       "$\\log 1000000 \\rightarrow 6$"
      ],
      "text/plain": [
       "<IPython.core.display.Markdown object>"
      ]
     },
     "metadata": {},
     "output_type": "display_data"
    },
    {
     "data": {
      "text/markdown": [
       "$\\log (10^6) \\rightarrow 6$"
      ],
      "text/plain": [
       "<IPython.core.display.Markdown object>"
      ]
     },
     "metadata": {},
     "output_type": "display_data"
    },
    {
     "data": {
      "text/markdown": [
       "$\\log 0.1 \\rightarrow -1$"
      ],
      "text/plain": [
       "<IPython.core.display.Markdown object>"
      ]
     },
     "metadata": {},
     "output_type": "display_data"
    },
    {
     "data": {
      "text/markdown": [
       "$\\log 0.01 \\rightarrow -2$"
      ],
      "text/plain": [
       "<IPython.core.display.Markdown object>"
      ]
     },
     "metadata": {},
     "output_type": "display_data"
    },
    {
     "data": {
      "text/markdown": [
       "$\\log 0.001 \\rightarrow -3$"
      ],
      "text/plain": [
       "<IPython.core.display.Markdown object>"
      ]
     },
     "metadata": {},
     "output_type": "display_data"
    },
    {
     "data": {
      "text/markdown": [
       "$\\log 0.000001 \\rightarrow -6$"
      ],
      "text/plain": [
       "<IPython.core.display.Markdown object>"
      ]
     },
     "metadata": {},
     "output_type": "display_data"
    },
    {
     "data": {
      "text/markdown": [
       "$\\log_{5}(625) \\rightarrow 4$"
      ],
      "text/plain": [
       "<IPython.core.display.Markdown object>"
      ]
     },
     "metadata": {},
     "output_type": "display_data"
    },
    {
     "data": {
      "text/markdown": [
       "$\\log_{2}(4) \\rightarrow 2$"
      ],
      "text/plain": [
       "<IPython.core.display.Markdown object>"
      ]
     },
     "metadata": {},
     "output_type": "display_data"
    },
    {
     "data": {
      "text/markdown": [
       "$\\log_{2}(64) \\rightarrow 6$"
      ],
      "text/plain": [
       "<IPython.core.display.Markdown object>"
      ]
     },
     "metadata": {},
     "output_type": "display_data"
    }
   ],
   "source": [
    "# Página 28 ejercicio 7\n",
    "\n",
    "texto_ejercicio = 'Calcula:'\n",
    "n_ejercicio = 'p028e07'\n",
    "\n",
    "display(md(\"**\"+texto_ejercicio+\"**\"))\n",
    "\n",
    "enunciado_latex = [r'\\log 100',\n",
    "                   r'\\log_{5}(625)',\n",
    "                   r'\\log_{2}(32)',\n",
    "                   r'\\log_{3}(81)',\n",
    "                   r'\\log_{2}(1024)',\n",
    "                   r'\\log 1000',\n",
    "                   r'\\log 10000',\n",
    "                   r'\\log 1000000',\n",
    "                   r'\\log (10^6)',\n",
    "                   r'\\log 0.1',\n",
    "                   r'\\log 0.01',\n",
    "                   r'\\log 0.001',\n",
    "                   r'\\log 0.000001',\n",
    "                   r'\\log_{5}(625)',\n",
    "                   r'\\log_{2}(4)',\n",
    "                   r'\\log_{2}(64)'                  \n",
    "                   \n",
    "                  ]\n",
    "                   \n",
    "            \n",
    "enunciado, solucion = [], []\n",
    "\n",
    "for i, s in enumerate(enunciado_latex) : \n",
    "    en = parse_latex(s)\n",
    "    enunciado.append(en)\n",
    "    so = nsimplify(eval(str(en)))\n",
    "    sol = latex(so)\n",
    "    solucion.append(sol) \n",
    "    display(md(\"$\"+ s +\" \\\\rightarrow \" + solucion[i] +\"$\"))\n",
    "\n",
    "df_ejercicios = df_ejercicios.append(añadir_ejercicios(enunciado_latex, enunciado, solucion, texto_ejercicio, curso, titulo , n_ejercicio, '1', '4'), ignore_index=True)\n"
   ]
  },
  {
   "cell_type": "code",
   "execution_count": 6,
   "metadata": {},
   "outputs": [
    {
     "data": {
      "text/markdown": [
       "**Calcula (continuación):**"
      ],
      "text/plain": [
       "<IPython.core.display.Markdown object>"
      ]
     },
     "metadata": {},
     "output_type": "display_data"
    },
    {
     "data": {
      "text/markdown": [
       "$\\log_{2}(\\frac{1}{2}) \\rightarrow -1$"
      ],
      "text/plain": [
       "<IPython.core.display.Markdown object>"
      ]
     },
     "metadata": {},
     "output_type": "display_data"
    },
    {
     "data": {
      "text/markdown": [
       "$\\log_{2}(\\frac{1}{4}) \\rightarrow -2$"
      ],
      "text/plain": [
       "<IPython.core.display.Markdown object>"
      ]
     },
     "metadata": {},
     "output_type": "display_data"
    },
    {
     "data": {
      "text/markdown": [
       "$\\log_{2}(\\sqrt{2}) \\rightarrow \\frac{1}{2}$"
      ],
      "text/plain": [
       "<IPython.core.display.Markdown object>"
      ]
     },
     "metadata": {},
     "output_type": "display_data"
    },
    {
     "data": {
      "text/markdown": [
       "$\\log_{2}(\\sqrt{8}) \\rightarrow \\frac{3}{2}$"
      ],
      "text/plain": [
       "<IPython.core.display.Markdown object>"
      ]
     },
     "metadata": {},
     "output_type": "display_data"
    },
    {
     "data": {
      "text/markdown": [
       "$\\log_{3}(3) \\rightarrow 1$"
      ],
      "text/plain": [
       "<IPython.core.display.Markdown object>"
      ]
     },
     "metadata": {},
     "output_type": "display_data"
    },
    {
     "data": {
      "text/markdown": [
       "$\\log_{3}(27) \\rightarrow 3$"
      ],
      "text/plain": [
       "<IPython.core.display.Markdown object>"
      ]
     },
     "metadata": {},
     "output_type": "display_data"
    },
    {
     "data": {
      "text/markdown": [
       "$\\log_{3}(27) \\rightarrow 3$"
      ],
      "text/plain": [
       "<IPython.core.display.Markdown object>"
      ]
     },
     "metadata": {},
     "output_type": "display_data"
    },
    {
     "data": {
      "text/markdown": [
       "$\\log_{3}(\\frac{1}{3}) \\rightarrow -1$"
      ],
      "text/plain": [
       "<IPython.core.display.Markdown object>"
      ]
     },
     "metadata": {},
     "output_type": "display_data"
    },
    {
     "data": {
      "text/markdown": [
       "$\\log_{3}(\\frac{1}{9}) \\rightarrow -2$"
      ],
      "text/plain": [
       "<IPython.core.display.Markdown object>"
      ]
     },
     "metadata": {},
     "output_type": "display_data"
    },
    {
     "data": {
      "text/markdown": [
       "$\\log_{3}{\\sqrt[3]{3}} \\rightarrow \\frac{1}{3}$"
      ],
      "text/plain": [
       "<IPython.core.display.Markdown object>"
      ]
     },
     "metadata": {},
     "output_type": "display_data"
    },
    {
     "data": {
      "text/markdown": [
       "$\\log_{\\frac{1}{3}}(81) \\rightarrow -4$"
      ],
      "text/plain": [
       "<IPython.core.display.Markdown object>"
      ]
     },
     "metadata": {},
     "output_type": "display_data"
    },
    {
     "data": {
      "text/markdown": [
       "$\\log_{0.8}(1) \\rightarrow 0$"
      ],
      "text/plain": [
       "<IPython.core.display.Markdown object>"
      ]
     },
     "metadata": {},
     "output_type": "display_data"
    },
    {
     "data": {
      "text/markdown": [
       "$\\log_{0.01}({10}^{-3}) \\rightarrow \\frac{3}{2}$"
      ],
      "text/plain": [
       "<IPython.core.display.Markdown object>"
      ]
     },
     "metadata": {},
     "output_type": "display_data"
    },
    {
     "data": {
      "text/markdown": [
       "$\\log_{\\frac{1}{49}}(7) \\rightarrow - \\frac{1}{2}$"
      ],
      "text/plain": [
       "<IPython.core.display.Markdown object>"
      ]
     },
     "metadata": {},
     "output_type": "display_data"
    },
    {
     "data": {
      "text/markdown": [
       "$\\log_{\\frac{1}{5}}({\\frac{1}{25}})^{\\frac{1}{5}} \\rightarrow \\sqrt[5]{2}$"
      ],
      "text/plain": [
       "<IPython.core.display.Markdown object>"
      ]
     },
     "metadata": {},
     "output_type": "display_data"
    }
   ],
   "source": [
    "# Página 28 ejercicio 7\n",
    "\n",
    "texto_ejercicio = 'Calcula (continuación):'\n",
    "n_ejercicio = 'p028e07b'\n",
    "\n",
    "display(md(\"**\"+texto_ejercicio+\"**\"))\n",
    "\n",
    "enunciado_latex = [\n",
    "                   r'\\log_{2}(\\frac{1}{2})',\n",
    "                   r'\\log_{2}(\\frac{1}{4})',\n",
    "                   r'\\log_{2}(\\sqrt{2})',\n",
    "                   r'\\log_{2}(\\sqrt{8})',\n",
    "                   r'\\log_{3}(3)',\n",
    "                   r'\\log_{3}(27)',\n",
    "                   r'\\log_{3}(27)',\n",
    "                   r'\\log_{3}(\\frac{1}{3})',\n",
    "                   r'\\log_{3}(\\frac{1}{9})',\n",
    "                   r'\\log_{3}{\\sqrt[3]{3}}',\n",
    "                   r'\\log_{\\frac{1}{3}}(81)',\n",
    "                   r'\\log_{0.8}(1)',\n",
    "                   r'\\log_{0.01}({10}^{-3})',\n",
    "                   r'\\log_{\\frac{1}{49}}(7)',\n",
    "                   r'\\log_{\\frac{1}{5}}({\\frac{1}{25}})^{\\frac{1}{5}}',\n",
    "                   \n",
    "                   \n",
    "                   \n",
    "                  ]\n",
    "                   \n",
    "            \n",
    "enunciado, solucion = [], []\n",
    "\n",
    "for i, s in enumerate(enunciado_latex) : \n",
    "    en = parse_latex(s)\n",
    "    enunciado.append(en)\n",
    "    so = nsimplify(eval(str(en)))\n",
    "    sol = latex(so)\n",
    "    solucion.append(sol) \n",
    "    display(md(\"$\"+ s +\" \\\\rightarrow \" + solucion[i] +\"$\"))\n",
    "\n",
    "df_ejercicios = df_ejercicios.append(añadir_ejercicios(enunciado_latex, enunciado, solucion, texto_ejercicio, curso, titulo , n_ejercicio, '1', '4'), ignore_index=True)\n"
   ]
  },
  {
   "cell_type": "code",
   "execution_count": 7,
   "metadata": {},
   "outputs": [
    {
     "data": {
      "text/markdown": [
       "**Averigua el valor de x en los siguientes casos:**"
      ],
      "text/plain": [
       "<IPython.core.display.Markdown object>"
      ]
     },
     "metadata": {},
     "output_type": "display_data"
    },
    {
     "data": {
      "text/markdown": [
       "$\\log_{7}(x) = 2 \\rightarrow \\left [ 49\\right ]$"
      ],
      "text/plain": [
       "<IPython.core.display.Markdown object>"
      ]
     },
     "metadata": {},
     "output_type": "display_data"
    },
    {
     "data": {
      "text/markdown": [
       "$\\log_{8}(x) = \\frac{1}{3} \\rightarrow \\left [ 2\\right ]$"
      ],
      "text/plain": [
       "<IPython.core.display.Markdown object>"
      ]
     },
     "metadata": {},
     "output_type": "display_data"
    },
    {
     "data": {
      "text/markdown": [
       "$\\log_{2}(\\frac{1}{16}) = x \\rightarrow \\left [ -4\\right ]$"
      ],
      "text/plain": [
       "<IPython.core.display.Markdown object>"
      ]
     },
     "metadata": {},
     "output_type": "display_data"
    },
    {
     "data": {
      "text/markdown": [
       "$\\log_{x}(125) = 3 \\rightarrow \\left [ 5\\right ]$"
      ],
      "text/plain": [
       "<IPython.core.display.Markdown object>"
      ]
     },
     "metadata": {},
     "output_type": "display_data"
    },
    {
     "data": {
      "text/markdown": [
       "$\\log_{2}(64) = x \\rightarrow \\left [ 6\\right ]$"
      ],
      "text/plain": [
       "<IPython.core.display.Markdown object>"
      ]
     },
     "metadata": {},
     "output_type": "display_data"
    },
    {
     "data": {
      "text/markdown": [
       "$\\log_{x}(9) = 2 \\rightarrow \\left [ 3\\right ]$"
      ],
      "text/plain": [
       "<IPython.core.display.Markdown object>"
      ]
     },
     "metadata": {},
     "output_type": "display_data"
    },
    {
     "data": {
      "text/markdown": [
       "$\\log_{2}(x) = -3 \\rightarrow \\left [ \\frac{1}{8}\\right ]$"
      ],
      "text/plain": [
       "<IPython.core.display.Markdown object>"
      ]
     },
     "metadata": {},
     "output_type": "display_data"
    },
    {
     "data": {
      "text/markdown": [
       "$\\log_{x}(5) + 2 \\rightarrow \\left [ \\frac{\\sqrt{5}}{5}\\right ]$"
      ],
      "text/plain": [
       "<IPython.core.display.Markdown object>"
      ]
     },
     "metadata": {},
     "output_type": "display_data"
    },
    {
     "data": {
      "text/markdown": [
       "$\\log_{0.008}(625) = 2x \\rightarrow \\left [ - \\frac{2}{3}\\right ]$"
      ],
      "text/plain": [
       "<IPython.core.display.Markdown object>"
      ]
     },
     "metadata": {},
     "output_type": "display_data"
    }
   ],
   "source": [
    "# Página 28 ejercicio 8\n",
    "\n",
    "texto_ejercicio = 'Averigua el valor de x en los siguientes casos:'\n",
    "n_ejercicio = 'p028e08'\n",
    "\n",
    "\n",
    "\n",
    "display(md(\"**\"+texto_ejercicio+\"**\"))\n",
    "\n",
    "enunciado_latex = [r'\\log_{7}(x) = 2',\n",
    "                   r'\\log_{8}(x) = \\frac{1}{3}',\n",
    "                   r'\\log_{2}(\\frac{1}{16}) = x',\n",
    "                   r'\\log_{x}(125) = 3',\n",
    "                   r'\\log_{2}(64) = x',\n",
    "                   r'\\log_{x}(9) = 2',\n",
    "                   r'\\log_{2}(x) = -3',\n",
    "                   r'\\log_{x}(5) + 2',\n",
    "                   r'\\log_{0.008}(625) = 2x'\n",
    "                ]\n",
    "\n",
    "enunciado, solucion = [], []\n",
    "\n",
    "for i, s in enumerate(enunciado_latex) : \n",
    "    en = parse_latex(s)\n",
    "    enunciado.append(en)\n",
    "    so = [nsimplify(t) for t in solve(eval(str(en)))]\n",
    "    sol = latex(so)\n",
    "    solucion.append(sol) \n",
    "    display(md(\"$\"+ s +\" \\\\rightarrow \" + solucion[i] +\"$\"))\n",
    "\n",
    "df_ejercicios = df_ejercicios.append(añadir_ejercicios(enunciado_latex, enunciado, solucion, texto_ejercicio, curso, titulo , n_ejercicio, '1', '2'), ignore_index=True)\n"
   ]
  },
  {
   "cell_type": "code",
   "execution_count": 8,
   "metadata": {},
   "outputs": [
    {
     "data": {
      "text/markdown": [
       "**Sabiendo que log 2 = 0,301030, calcula**"
      ],
      "text/plain": [
       "<IPython.core.display.Markdown object>"
      ]
     },
     "metadata": {},
     "output_type": "display_data"
    },
    {
     "data": {
      "text/markdown": [
       "$\\log(16) \\rightarrow 1.20411998265592$"
      ],
      "text/plain": [
       "<IPython.core.display.Markdown object>"
      ]
     },
     "metadata": {},
     "output_type": "display_data"
    },
    {
     "data": {
      "text/markdown": [
       "$\\log(64) \\rightarrow 1.80617997398389$"
      ],
      "text/plain": [
       "<IPython.core.display.Markdown object>"
      ]
     },
     "metadata": {},
     "output_type": "display_data"
    },
    {
     "data": {
      "text/markdown": [
       "$\\log(1024) \\rightarrow 3.01029995663981$"
      ],
      "text/plain": [
       "<IPython.core.display.Markdown object>"
      ]
     },
     "metadata": {},
     "output_type": "display_data"
    },
    {
     "data": {
      "text/markdown": [
       "$\\log(\\frac{1}{2}) \\rightarrow -0.301029995663981$"
      ],
      "text/plain": [
       "<IPython.core.display.Markdown object>"
      ]
     },
     "metadata": {},
     "output_type": "display_data"
    },
    {
     "data": {
      "text/markdown": [
       "$\\log(\\frac{1}{16}) \\rightarrow -1.20411998265592$"
      ],
      "text/plain": [
       "<IPython.core.display.Markdown object>"
      ]
     },
     "metadata": {},
     "output_type": "display_data"
    },
    {
     "data": {
      "text/markdown": [
       "$\\log(5) \\rightarrow 0.698970004336019$"
      ],
      "text/plain": [
       "<IPython.core.display.Markdown object>"
      ]
     },
     "metadata": {},
     "output_type": "display_data"
    },
    {
     "data": {
      "text/markdown": [
       "$\\log(25) \\rightarrow 1.39794000867204$"
      ],
      "text/plain": [
       "<IPython.core.display.Markdown object>"
      ]
     },
     "metadata": {},
     "output_type": "display_data"
    },
    {
     "data": {
      "text/markdown": [
       "$\\log(0.0016) \\rightarrow -2.79588001734407$"
      ],
      "text/plain": [
       "<IPython.core.display.Markdown object>"
      ]
     },
     "metadata": {},
     "output_type": "display_data"
    },
    {
     "data": {
      "text/markdown": [
       "$\\log(\\sqrt[ 4 ]{\\frac{1}{{0.04}}} ) \\rightarrow 0.349485002168009$"
      ],
      "text/plain": [
       "<IPython.core.display.Markdown object>"
      ]
     },
     "metadata": {},
     "output_type": "display_data"
    },
    {
     "data": {
      "text/markdown": [
       "$\\log{\\sqrt[ 3 ]{0.002}} \\rightarrow -0.899656668112007$"
      ],
      "text/plain": [
       "<IPython.core.display.Markdown object>"
      ]
     },
     "metadata": {},
     "output_type": "display_data"
    },
    {
     "data": {
      "text/markdown": [
       "$\\log(0.025) \\rightarrow -1.60205999132796$"
      ],
      "text/plain": [
       "<IPython.core.display.Markdown object>"
      ]
     },
     "metadata": {},
     "output_type": "display_data"
    },
    {
     "data": {
      "text/markdown": [
       "$\\log(\\sqrt[ 4 ]{\\frac{1}{{1024}}} ) \\rightarrow -0.752574989159953$"
      ],
      "text/plain": [
       "<IPython.core.display.Markdown object>"
      ]
     },
     "metadata": {},
     "output_type": "display_data"
    }
   ],
   "source": [
    "# Página 28 ejercicio 9\n",
    "\n",
    "texto_ejercicio = 'Sabiendo que log 2 = 0,301030, calcula'\n",
    "n_ejercicio = 'p028e9'\n",
    "\n",
    "display(md(\"**\"+texto_ejercicio+\"**\"))\n",
    "\n",
    "enunciado_latex = [\n",
    "                   r'\\log(16)',\n",
    "                   r'\\log(64)',\n",
    "                   r'\\log(1024)',\n",
    "                   r'\\log(\\frac{1}{2})',\n",
    "                   r'\\log(\\frac{1}{16})',\n",
    "                   r'\\log(5)',\n",
    "                   r'\\log(25)',\n",
    "                   r'\\log(0.0016)',\n",
    "                   r'\\log(\\sqrt[ 4 ]{\\frac{1}{{0.04}}} )',\n",
    "                   r'\\log{\\sqrt[ 3 ]{0.002}}',\n",
    "                   r'\\log(0.025)',\n",
    "                   r'\\log(\\sqrt[ 4 ]{\\frac{1}{{1024}}} )'\n",
    "                  ]\n",
    "                   \n",
    "            \n",
    "enunciado, solucion = [], []\n",
    "\n",
    "for i, s in enumerate(enunciado_latex) : \n",
    "    en = parse_latex(s)\n",
    "    enunciado.append(en)\n",
    "    so = simplify(eval(str(en)).n())\n",
    "    sol = latex(so)\n",
    "    solucion.append(sol) \n",
    "    display(md(\"$\"+ s +\" \\\\rightarrow \" + solucion[i] +\"$\"))\n",
    "\n",
    "df_ejercicios = df_ejercicios.append(añadir_ejercicios(enunciado_latex, enunciado, solucion, texto_ejercicio, curso, titulo , n_ejercicio, '1', '4'), ignore_index=True)\n"
   ]
  },
  {
   "cell_type": "code",
   "execution_count": 9,
   "metadata": {},
   "outputs": [],
   "source": [
    "df_ejercicios.to_csv('ejercicios9.csv', index = False)"
   ]
  },
  {
   "cell_type": "code",
   "execution_count": 10,
   "metadata": {},
   "outputs": [],
   "source": [
    "df_ejercicios = pd.read_csv('ejercicios9.csv', index_col= None)"
   ]
  },
  {
   "cell_type": "code",
   "execution_count": 11,
   "metadata": {},
   "outputs": [
    {
     "data": {
      "text/markdown": [
       "**Ejercicio: **p027e04"
      ],
      "text/plain": [
       "<IPython.core.display.Markdown object>"
      ]
     },
     "metadata": {},
     "output_type": "display_data"
    },
    {
     "data": {
      "text/html": [
       "<div>\n",
       "<style scoped>\n",
       "    .dataframe tbody tr th:only-of-type {\n",
       "        vertical-align: middle;\n",
       "    }\n",
       "\n",
       "    .dataframe tbody tr th {\n",
       "        vertical-align: top;\n",
       "    }\n",
       "\n",
       "    .dataframe thead th {\n",
       "        text-align: right;\n",
       "    }\n",
       "</style>\n",
       "<table border=\"1\" class=\"dataframe\">\n",
       "  <thead>\n",
       "    <tr style=\"text-align: right;\">\n",
       "      <th></th>\n",
       "      <th>enunciado_latex</th>\n",
       "      <th>enunciado</th>\n",
       "      <th>solucion</th>\n",
       "      <th>texto</th>\n",
       "      <th>curso</th>\n",
       "      <th>titulo</th>\n",
       "      <th>n_ejercicio</th>\n",
       "      <th>dificultad</th>\n",
       "      <th>n_columnas</th>\n",
       "      <th>puntos</th>\n",
       "      <th>enun_tex</th>\n",
       "      <th>sol_tex</th>\n",
       "    </tr>\n",
       "  </thead>\n",
       "  <tbody>\n",
       "    <tr>\n",
       "      <th>0</th>\n",
       "      <td>{10^{3 - x}} = 1</td>\n",
       "      <td>Eq(10**(-x + 3), 1)</td>\n",
       "      <td>\\left [ 3\\right ]</td>\n",
       "      <td>Resuelve las siguientes ecuaciones exponenciales:</td>\n",
       "      <td>1BC</td>\n",
       "      <td>9 - Ecuaciones exponenciales y logarítmicas</td>\n",
       "      <td>p027e04</td>\n",
       "      <td>1</td>\n",
       "      <td>2</td>\n",
       "      <td>1</td>\n",
       "      <td>True</td>\n",
       "      <td>True</td>\n",
       "    </tr>\n",
       "    <tr>\n",
       "      <th>1</th>\n",
       "      <td>{5^{x + 3}} = 125</td>\n",
       "      <td>Eq(5**(x + 3), 125)</td>\n",
       "      <td>\\left [ 0\\right ]</td>\n",
       "      <td>Resuelve las siguientes ecuaciones exponenciales:</td>\n",
       "      <td>1BC</td>\n",
       "      <td>9 - Ecuaciones exponenciales y logarítmicas</td>\n",
       "      <td>p027e04</td>\n",
       "      <td>1</td>\n",
       "      <td>2</td>\n",
       "      <td>1</td>\n",
       "      <td>True</td>\n",
       "      <td>True</td>\n",
       "    </tr>\n",
       "    <tr>\n",
       "      <th>2</th>\n",
       "      <td>5^{1-x^2}=\\frac{1}{125}</td>\n",
       "      <td>Eq(5**(-x**2 + 1), 1/125)</td>\n",
       "      <td>\\left [ -2, \\quad 2\\right ]</td>\n",
       "      <td>Resuelve las siguientes ecuaciones exponenciales:</td>\n",
       "      <td>1BC</td>\n",
       "      <td>9 - Ecuaciones exponenciales y logarítmicas</td>\n",
       "      <td>p027e04</td>\n",
       "      <td>1</td>\n",
       "      <td>2</td>\n",
       "      <td>1</td>\n",
       "      <td>True</td>\n",
       "      <td>True</td>\n",
       "    </tr>\n",
       "    <tr>\n",
       "      <th>3</th>\n",
       "      <td>{5^{{x^2} - 5x + 6}} = 1</td>\n",
       "      <td>Eq(5**(x**2 - 5*x + 6), 1)</td>\n",
       "      <td>\\left [ 2, \\quad 3\\right ]</td>\n",
       "      <td>Resuelve las siguientes ecuaciones exponenciales:</td>\n",
       "      <td>1BC</td>\n",
       "      <td>9 - Ecuaciones exponenciales y logarítmicas</td>\n",
       "      <td>p027e04</td>\n",
       "      <td>1</td>\n",
       "      <td>2</td>\n",
       "      <td>1</td>\n",
       "      <td>True</td>\n",
       "      <td>True</td>\n",
       "    </tr>\n",
       "    <tr>\n",
       "      <th>4</th>\n",
       "      <td>{2^{1 - x}} = \\frac{1}{8}</td>\n",
       "      <td>Eq(2**(-x + 1), 1/8)</td>\n",
       "      <td>\\left [ 4\\right ]</td>\n",
       "      <td>Resuelve las siguientes ecuaciones exponenciales:</td>\n",
       "      <td>1BC</td>\n",
       "      <td>9 - Ecuaciones exponenciales y logarítmicas</td>\n",
       "      <td>p027e04</td>\n",
       "      <td>1</td>\n",
       "      <td>2</td>\n",
       "      <td>1</td>\n",
       "      <td>True</td>\n",
       "      <td>True</td>\n",
       "    </tr>\n",
       "    <tr>\n",
       "      <th>5</th>\n",
       "      <td>2^{x + 3} = 4^{- x}</td>\n",
       "      <td>Eq(2**(x + 3), 4**(-x))</td>\n",
       "      <td>\\left [ -1\\right ]</td>\n",
       "      <td>Resuelve las siguientes ecuaciones exponenciales:</td>\n",
       "      <td>1BC</td>\n",
       "      <td>9 - Ecuaciones exponenciales y logarítmicas</td>\n",
       "      <td>p027e04</td>\n",
       "      <td>1</td>\n",
       "      <td>2</td>\n",
       "      <td>1</td>\n",
       "      <td>True</td>\n",
       "      <td>True</td>\n",
       "    </tr>\n",
       "    <tr>\n",
       "      <th>6</th>\n",
       "      <td>{9^{x - 1}} = {3^{x + 1}}</td>\n",
       "      <td>Eq(9**(x - 1), 3**(x + 1))</td>\n",
       "      <td>\\left [ 3\\right ]</td>\n",
       "      <td>Resuelve las siguientes ecuaciones exponenciales:</td>\n",
       "      <td>1BC</td>\n",
       "      <td>9 - Ecuaciones exponenciales y logarítmicas</td>\n",
       "      <td>p027e04</td>\n",
       "      <td>1</td>\n",
       "      <td>2</td>\n",
       "      <td>1</td>\n",
       "      <td>True</td>\n",
       "      <td>True</td>\n",
       "    </tr>\n",
       "    <tr>\n",
       "      <th>7</th>\n",
       "      <td>{4^{4x + 3}} = {2^{ - x}}</td>\n",
       "      <td>Eq(4**(4*x + 3), 2**(-x))</td>\n",
       "      <td>\\left [ - \\frac{2}{3}\\right ]</td>\n",
       "      <td>Resuelve las siguientes ecuaciones exponenciales:</td>\n",
       "      <td>1BC</td>\n",
       "      <td>9 - Ecuaciones exponenciales y logarítmicas</td>\n",
       "      <td>p027e04</td>\n",
       "      <td>1</td>\n",
       "      <td>2</td>\n",
       "      <td>1</td>\n",
       "      <td>True</td>\n",
       "      <td>True</td>\n",
       "    </tr>\n",
       "    <tr>\n",
       "      <th>8</th>\n",
       "      <td>{8^{x - 1}} = {4^{3x + 1}}</td>\n",
       "      <td>Eq(8**(x - 1), 4**(3*x + 1))</td>\n",
       "      <td>\\left [ - \\frac{5}{3}\\right ]</td>\n",
       "      <td>Resuelve las siguientes ecuaciones exponenciales:</td>\n",
       "      <td>1BC</td>\n",
       "      <td>9 - Ecuaciones exponenciales y logarítmicas</td>\n",
       "      <td>p027e04</td>\n",
       "      <td>1</td>\n",
       "      <td>2</td>\n",
       "      <td>1</td>\n",
       "      <td>True</td>\n",
       "      <td>True</td>\n",
       "    </tr>\n",
       "    <tr>\n",
       "      <th>9</th>\n",
       "      <td>{5^{ - x}} = 0.04</td>\n",
       "      <td>Eq(5**(-x), 0.04)</td>\n",
       "      <td>\\left [ 2\\right ]</td>\n",
       "      <td>Resuelve las siguientes ecuaciones exponenciales:</td>\n",
       "      <td>1BC</td>\n",
       "      <td>9 - Ecuaciones exponenciales y logarítmicas</td>\n",
       "      <td>p027e04</td>\n",
       "      <td>1</td>\n",
       "      <td>2</td>\n",
       "      <td>1</td>\n",
       "      <td>True</td>\n",
       "      <td>True</td>\n",
       "    </tr>\n",
       "    <tr>\n",
       "      <th>10</th>\n",
       "      <td>{10^x} \\cdot {10^{ - 2x + 7}} = 100</td>\n",
       "      <td>Eq(10**x*10**(-2*x + 7), 100)</td>\n",
       "      <td>\\left [ 5\\right ]</td>\n",
       "      <td>Resuelve las siguientes ecuaciones exponenciales:</td>\n",
       "      <td>1BC</td>\n",
       "      <td>9 - Ecuaciones exponenciales y logarítmicas</td>\n",
       "      <td>p027e04</td>\n",
       "      <td>1</td>\n",
       "      <td>2</td>\n",
       "      <td>1</td>\n",
       "      <td>True</td>\n",
       "      <td>True</td>\n",
       "    </tr>\n",
       "    <tr>\n",
       "      <th>11</th>\n",
       "      <td>{( {{3^x}} )^2} \\cdot {3^x} = {9^3}</td>\n",
       "      <td>Eq(3**x*(3**x)**2, 9**3)</td>\n",
       "      <td>\\left [ 2\\right ]</td>\n",
       "      <td>Resuelve las siguientes ecuaciones exponenciales:</td>\n",
       "      <td>1BC</td>\n",
       "      <td>9 - Ecuaciones exponenciales y logarítmicas</td>\n",
       "      <td>p027e04</td>\n",
       "      <td>1</td>\n",
       "      <td>2</td>\n",
       "      <td>1</td>\n",
       "      <td>True</td>\n",
       "      <td>True</td>\n",
       "    </tr>\n",
       "    <tr>\n",
       "      <th>12</th>\n",
       "      <td>\\sqrt{2 \\cdot \\sqrt{2 \\cdot \\sqrt{2} } } = {2^x}</td>\n",
       "      <td>Eq(sqrt(2)*(2**(1/8)*2**(1/4)), 2**x)</td>\n",
       "      <td>\\left [ \\frac{7}{8}\\right ]</td>\n",
       "      <td>Resuelve las siguientes ecuaciones exponenciales:</td>\n",
       "      <td>1BC</td>\n",
       "      <td>9 - Ecuaciones exponenciales y logarítmicas</td>\n",
       "      <td>p027e04</td>\n",
       "      <td>1</td>\n",
       "      <td>2</td>\n",
       "      <td>1</td>\n",
       "      <td>True</td>\n",
       "      <td>True</td>\n",
       "    </tr>\n",
       "    <tr>\n",
       "      <th>13</th>\n",
       "      <td>{2^{{x^2} - 5x}} = {64^{ - 1}}</td>\n",
       "      <td>Eq(2**(x**2 - 5*x), 1/64)</td>\n",
       "      <td>\\left [ 2, \\quad 3\\right ]</td>\n",
       "      <td>Resuelve las siguientes ecuaciones exponenciales:</td>\n",
       "      <td>1BC</td>\n",
       "      <td>9 - Ecuaciones exponenciales y logarítmicas</td>\n",
       "      <td>p027e04</td>\n",
       "      <td>1</td>\n",
       "      <td>2</td>\n",
       "      <td>1</td>\n",
       "      <td>True</td>\n",
       "      <td>True</td>\n",
       "    </tr>\n",
       "    <tr>\n",
       "      <th>14</th>\n",
       "      <td>\\sqrt{\\sqrt {3}  + \\sqrt {3}  + \\sqrt {3} }  =...</td>\n",
       "      <td>Eq(sqrt(sqrt(3) + sqrt(3) + sqrt(3)), 3**(x + 2))</td>\n",
       "      <td>\\left [ - \\frac{5}{4}\\right ]</td>\n",
       "      <td>Resuelve las siguientes ecuaciones exponenciales:</td>\n",
       "      <td>1BC</td>\n",
       "      <td>9 - Ecuaciones exponenciales y logarítmicas</td>\n",
       "      <td>p027e04</td>\n",
       "      <td>1</td>\n",
       "      <td>2</td>\n",
       "      <td>1</td>\n",
       "      <td>True</td>\n",
       "      <td>True</td>\n",
       "    </tr>\n",
       "    <tr>\n",
       "      <th>15</th>\n",
       "      <td>\\sqrt[x]{216}  = 6</td>\n",
       "      <td>Eq(216**(1/x), 6)</td>\n",
       "      <td>\\left [ 3\\right ]</td>\n",
       "      <td>Resuelve las siguientes ecuaciones exponenciales:</td>\n",
       "      <td>1BC</td>\n",
       "      <td>9 - Ecuaciones exponenciales y logarítmicas</td>\n",
       "      <td>p027e04</td>\n",
       "      <td>1</td>\n",
       "      <td>2</td>\n",
       "      <td>1</td>\n",
       "      <td>True</td>\n",
       "      <td>True</td>\n",
       "    </tr>\n",
       "    <tr>\n",
       "      <th>16</th>\n",
       "      <td>{4^x} - {2^x} = 2</td>\n",
       "      <td>Eq(-2**x + 4**x, 2)</td>\n",
       "      <td>\\left [ 1\\right ]</td>\n",
       "      <td>Resuelve las siguientes ecuaciones exponenciales:</td>\n",
       "      <td>1BC</td>\n",
       "      <td>9 - Ecuaciones exponenciales y logarítmicas</td>\n",
       "      <td>p027e04</td>\n",
       "      <td>1</td>\n",
       "      <td>2</td>\n",
       "      <td>1</td>\n",
       "      <td>True</td>\n",
       "      <td>True</td>\n",
       "    </tr>\n",
       "    <tr>\n",
       "      <th>17</th>\n",
       "      <td>{5^x} - 30 \\cdot {5^x} + 145 = 0</td>\n",
       "      <td>Eq(-30*5**x + 5**x + 145, 0)</td>\n",
       "      <td>\\left [ 1\\right ]</td>\n",
       "      <td>Resuelve las siguientes ecuaciones exponenciales:</td>\n",
       "      <td>1BC</td>\n",
       "      <td>9 - Ecuaciones exponenciales y logarítmicas</td>\n",
       "      <td>p027e04</td>\n",
       "      <td>1</td>\n",
       "      <td>2</td>\n",
       "      <td>1</td>\n",
       "      <td>True</td>\n",
       "      <td>True</td>\n",
       "    </tr>\n",
       "    <tr>\n",
       "      <th>18</th>\n",
       "      <td>{2^{x - 1}} + {2^x} + {2^{x + 1}} = 7</td>\n",
       "      <td>Eq(2**(x + 1) + 2**x + 2**(x - 1), 7)</td>\n",
       "      <td>\\left [ 1\\right ]</td>\n",
       "      <td>Resuelve las siguientes ecuaciones exponenciales:</td>\n",
       "      <td>1BC</td>\n",
       "      <td>9 - Ecuaciones exponenciales y logarítmicas</td>\n",
       "      <td>p027e04</td>\n",
       "      <td>1</td>\n",
       "      <td>2</td>\n",
       "      <td>1</td>\n",
       "      <td>True</td>\n",
       "      <td>True</td>\n",
       "    </tr>\n",
       "  </tbody>\n",
       "</table>\n",
       "</div>"
      ],
      "text/plain": [
       "                                      enunciado_latex  \\\n",
       "0                                    {10^{3 - x}} = 1   \n",
       "1                                   {5^{x + 3}} = 125   \n",
       "2                             5^{1-x^2}=\\frac{1}{125}   \n",
       "3                            {5^{{x^2} - 5x + 6}} = 1   \n",
       "4                           {2^{1 - x}} = \\frac{1}{8}   \n",
       "5                                 2^{x + 3} = 4^{- x}   \n",
       "6                           {9^{x - 1}} = {3^{x + 1}}   \n",
       "7                           {4^{4x + 3}} = {2^{ - x}}   \n",
       "8                          {8^{x - 1}} = {4^{3x + 1}}   \n",
       "9                                   {5^{ - x}} = 0.04   \n",
       "10                {10^x} \\cdot {10^{ - 2x + 7}} = 100   \n",
       "11                {( {{3^x}} )^2} \\cdot {3^x} = {9^3}   \n",
       "12   \\sqrt{2 \\cdot \\sqrt{2 \\cdot \\sqrt{2} } } = {2^x}   \n",
       "13                     {2^{{x^2} - 5x}} = {64^{ - 1}}   \n",
       "14  \\sqrt{\\sqrt {3}  + \\sqrt {3}  + \\sqrt {3} }  =...   \n",
       "15                                 \\sqrt[x]{216}  = 6   \n",
       "16                                  {4^x} - {2^x} = 2   \n",
       "17                   {5^x} - 30 \\cdot {5^x} + 145 = 0   \n",
       "18              {2^{x - 1}} + {2^x} + {2^{x + 1}} = 7   \n",
       "\n",
       "                                            enunciado  \\\n",
       "0                                 Eq(10**(-x + 3), 1)   \n",
       "1                                 Eq(5**(x + 3), 125)   \n",
       "2                           Eq(5**(-x**2 + 1), 1/125)   \n",
       "3                          Eq(5**(x**2 - 5*x + 6), 1)   \n",
       "4                                Eq(2**(-x + 1), 1/8)   \n",
       "5                             Eq(2**(x + 3), 4**(-x))   \n",
       "6                          Eq(9**(x - 1), 3**(x + 1))   \n",
       "7                           Eq(4**(4*x + 3), 2**(-x))   \n",
       "8                        Eq(8**(x - 1), 4**(3*x + 1))   \n",
       "9                                   Eq(5**(-x), 0.04)   \n",
       "10                      Eq(10**x*10**(-2*x + 7), 100)   \n",
       "11                           Eq(3**x*(3**x)**2, 9**3)   \n",
       "12              Eq(sqrt(2)*(2**(1/8)*2**(1/4)), 2**x)   \n",
       "13                          Eq(2**(x**2 - 5*x), 1/64)   \n",
       "14  Eq(sqrt(sqrt(3) + sqrt(3) + sqrt(3)), 3**(x + 2))   \n",
       "15                                  Eq(216**(1/x), 6)   \n",
       "16                                Eq(-2**x + 4**x, 2)   \n",
       "17                       Eq(-30*5**x + 5**x + 145, 0)   \n",
       "18              Eq(2**(x + 1) + 2**x + 2**(x - 1), 7)   \n",
       "\n",
       "                         solucion  \\\n",
       "0               \\left [ 3\\right ]   \n",
       "1               \\left [ 0\\right ]   \n",
       "2     \\left [ -2, \\quad 2\\right ]   \n",
       "3      \\left [ 2, \\quad 3\\right ]   \n",
       "4               \\left [ 4\\right ]   \n",
       "5              \\left [ -1\\right ]   \n",
       "6               \\left [ 3\\right ]   \n",
       "7   \\left [ - \\frac{2}{3}\\right ]   \n",
       "8   \\left [ - \\frac{5}{3}\\right ]   \n",
       "9               \\left [ 2\\right ]   \n",
       "10              \\left [ 5\\right ]   \n",
       "11              \\left [ 2\\right ]   \n",
       "12    \\left [ \\frac{7}{8}\\right ]   \n",
       "13     \\left [ 2, \\quad 3\\right ]   \n",
       "14  \\left [ - \\frac{5}{4}\\right ]   \n",
       "15              \\left [ 3\\right ]   \n",
       "16              \\left [ 1\\right ]   \n",
       "17              \\left [ 1\\right ]   \n",
       "18              \\left [ 1\\right ]   \n",
       "\n",
       "                                                texto curso  \\\n",
       "0   Resuelve las siguientes ecuaciones exponenciales:   1BC   \n",
       "1   Resuelve las siguientes ecuaciones exponenciales:   1BC   \n",
       "2   Resuelve las siguientes ecuaciones exponenciales:   1BC   \n",
       "3   Resuelve las siguientes ecuaciones exponenciales:   1BC   \n",
       "4   Resuelve las siguientes ecuaciones exponenciales:   1BC   \n",
       "5   Resuelve las siguientes ecuaciones exponenciales:   1BC   \n",
       "6   Resuelve las siguientes ecuaciones exponenciales:   1BC   \n",
       "7   Resuelve las siguientes ecuaciones exponenciales:   1BC   \n",
       "8   Resuelve las siguientes ecuaciones exponenciales:   1BC   \n",
       "9   Resuelve las siguientes ecuaciones exponenciales:   1BC   \n",
       "10  Resuelve las siguientes ecuaciones exponenciales:   1BC   \n",
       "11  Resuelve las siguientes ecuaciones exponenciales:   1BC   \n",
       "12  Resuelve las siguientes ecuaciones exponenciales:   1BC   \n",
       "13  Resuelve las siguientes ecuaciones exponenciales:   1BC   \n",
       "14  Resuelve las siguientes ecuaciones exponenciales:   1BC   \n",
       "15  Resuelve las siguientes ecuaciones exponenciales:   1BC   \n",
       "16  Resuelve las siguientes ecuaciones exponenciales:   1BC   \n",
       "17  Resuelve las siguientes ecuaciones exponenciales:   1BC   \n",
       "18  Resuelve las siguientes ecuaciones exponenciales:   1BC   \n",
       "\n",
       "                                         titulo n_ejercicio  dificultad  \\\n",
       "0   9 - Ecuaciones exponenciales y logarítmicas     p027e04           1   \n",
       "1   9 - Ecuaciones exponenciales y logarítmicas     p027e04           1   \n",
       "2   9 - Ecuaciones exponenciales y logarítmicas     p027e04           1   \n",
       "3   9 - Ecuaciones exponenciales y logarítmicas     p027e04           1   \n",
       "4   9 - Ecuaciones exponenciales y logarítmicas     p027e04           1   \n",
       "5   9 - Ecuaciones exponenciales y logarítmicas     p027e04           1   \n",
       "6   9 - Ecuaciones exponenciales y logarítmicas     p027e04           1   \n",
       "7   9 - Ecuaciones exponenciales y logarítmicas     p027e04           1   \n",
       "8   9 - Ecuaciones exponenciales y logarítmicas     p027e04           1   \n",
       "9   9 - Ecuaciones exponenciales y logarítmicas     p027e04           1   \n",
       "10  9 - Ecuaciones exponenciales y logarítmicas     p027e04           1   \n",
       "11  9 - Ecuaciones exponenciales y logarítmicas     p027e04           1   \n",
       "12  9 - Ecuaciones exponenciales y logarítmicas     p027e04           1   \n",
       "13  9 - Ecuaciones exponenciales y logarítmicas     p027e04           1   \n",
       "14  9 - Ecuaciones exponenciales y logarítmicas     p027e04           1   \n",
       "15  9 - Ecuaciones exponenciales y logarítmicas     p027e04           1   \n",
       "16  9 - Ecuaciones exponenciales y logarítmicas     p027e04           1   \n",
       "17  9 - Ecuaciones exponenciales y logarítmicas     p027e04           1   \n",
       "18  9 - Ecuaciones exponenciales y logarítmicas     p027e04           1   \n",
       "\n",
       "    n_columnas  puntos  enun_tex  sol_tex  \n",
       "0            2       1      True     True  \n",
       "1            2       1      True     True  \n",
       "2            2       1      True     True  \n",
       "3            2       1      True     True  \n",
       "4            2       1      True     True  \n",
       "5            2       1      True     True  \n",
       "6            2       1      True     True  \n",
       "7            2       1      True     True  \n",
       "8            2       1      True     True  \n",
       "9            2       1      True     True  \n",
       "10           2       1      True     True  \n",
       "11           2       1      True     True  \n",
       "12           2       1      True     True  \n",
       "13           2       1      True     True  \n",
       "14           2       1      True     True  \n",
       "15           2       1      True     True  \n",
       "16           2       1      True     True  \n",
       "17           2       1      True     True  \n",
       "18           2       1      True     True  "
      ]
     },
     "metadata": {},
     "output_type": "display_data"
    },
    {
     "data": {
      "text/markdown": [
       "**Ejercicio: **p028e05"
      ],
      "text/plain": [
       "<IPython.core.display.Markdown object>"
      ]
     },
     "metadata": {},
     "output_type": "display_data"
    },
    {
     "data": {
      "text/html": [
       "<div>\n",
       "<style scoped>\n",
       "    .dataframe tbody tr th:only-of-type {\n",
       "        vertical-align: middle;\n",
       "    }\n",
       "\n",
       "    .dataframe tbody tr th {\n",
       "        vertical-align: top;\n",
       "    }\n",
       "\n",
       "    .dataframe thead th {\n",
       "        text-align: right;\n",
       "    }\n",
       "</style>\n",
       "<table border=\"1\" class=\"dataframe\">\n",
       "  <thead>\n",
       "    <tr style=\"text-align: right;\">\n",
       "      <th></th>\n",
       "      <th>enunciado_latex</th>\n",
       "      <th>enunciado</th>\n",
       "      <th>solucion</th>\n",
       "      <th>texto</th>\n",
       "      <th>curso</th>\n",
       "      <th>titulo</th>\n",
       "      <th>n_ejercicio</th>\n",
       "      <th>dificultad</th>\n",
       "      <th>n_columnas</th>\n",
       "      <th>puntos</th>\n",
       "      <th>enun_tex</th>\n",
       "      <th>sol_tex</th>\n",
       "    </tr>\n",
       "  </thead>\n",
       "  <tbody>\n",
       "    <tr>\n",
       "      <th>19</th>\n",
       "      <td>{3^{x + 1}} + {3^x} + {3^{x - 1}} = 117</td>\n",
       "      <td>Eq(3**(x - 1) + 3**x + 3**(x + 1), 117)</td>\n",
       "      <td>\\left [ 3\\right ]</td>\n",
       "      <td>Resuelve las siguientes ecuaciones exponenciales:</td>\n",
       "      <td>1BC</td>\n",
       "      <td>9 - Ecuaciones exponenciales y logarítmicas</td>\n",
       "      <td>p028e05</td>\n",
       "      <td>1</td>\n",
       "      <td>2</td>\n",
       "      <td>1</td>\n",
       "      <td>True</td>\n",
       "      <td>True</td>\n",
       "    </tr>\n",
       "    <tr>\n",
       "      <th>20</th>\n",
       "      <td>{3^x} + {3^{x - 1}} + {3^{x - 2}} + {3^{x - 3}...</td>\n",
       "      <td>Eq(3**(x - 4) + 3**(x - 3) + 3**(x - 2) + 3**x...</td>\n",
       "      <td>\\left [ 5\\right ]</td>\n",
       "      <td>Resuelve las siguientes ecuaciones exponenciales:</td>\n",
       "      <td>1BC</td>\n",
       "      <td>9 - Ecuaciones exponenciales y logarítmicas</td>\n",
       "      <td>p028e05</td>\n",
       "      <td>1</td>\n",
       "      <td>2</td>\n",
       "      <td>1</td>\n",
       "      <td>True</td>\n",
       "      <td>True</td>\n",
       "    </tr>\n",
       "    <tr>\n",
       "      <th>21</th>\n",
       "      <td>{2^{3x}} - \\frac{3}{{{2^{3x + 2}}}} + 1 = 0</td>\n",
       "      <td>Eq(2**(3*x) - 3*2**(-3*x - 2) + 1, 0)</td>\n",
       "      <td>\\left [ - \\frac{1}{3}\\right ]</td>\n",
       "      <td>Resuelve las siguientes ecuaciones exponenciales:</td>\n",
       "      <td>1BC</td>\n",
       "      <td>9 - Ecuaciones exponenciales y logarítmicas</td>\n",
       "      <td>p028e05</td>\n",
       "      <td>1</td>\n",
       "      <td>2</td>\n",
       "      <td>1</td>\n",
       "      <td>True</td>\n",
       "      <td>True</td>\n",
       "    </tr>\n",
       "    <tr>\n",
       "      <th>22</th>\n",
       "      <td>{3^{x - 1}} + {3^{2 - x}} = 4</td>\n",
       "      <td>Eq(3**(-x + 2) + 3**(x - 1), 4)</td>\n",
       "      <td>\\left [ 1, \\quad 2\\right ]</td>\n",
       "      <td>Resuelve las siguientes ecuaciones exponenciales:</td>\n",
       "      <td>1BC</td>\n",
       "      <td>9 - Ecuaciones exponenciales y logarítmicas</td>\n",
       "      <td>p028e05</td>\n",
       "      <td>1</td>\n",
       "      <td>2</td>\n",
       "      <td>1</td>\n",
       "      <td>True</td>\n",
       "      <td>True</td>\n",
       "    </tr>\n",
       "    <tr>\n",
       "      <th>23</th>\n",
       "      <td>{2^{x + 1}} + {4^x} = 80</td>\n",
       "      <td>Eq(2**(x + 1) + 4**x, 80)</td>\n",
       "      <td>\\left [ 3\\right ]</td>\n",
       "      <td>Resuelve las siguientes ecuaciones exponenciales:</td>\n",
       "      <td>1BC</td>\n",
       "      <td>9 - Ecuaciones exponenciales y logarítmicas</td>\n",
       "      <td>p028e05</td>\n",
       "      <td>1</td>\n",
       "      <td>2</td>\n",
       "      <td>1</td>\n",
       "      <td>True</td>\n",
       "      <td>True</td>\n",
       "    </tr>\n",
       "    <tr>\n",
       "      <th>24</th>\n",
       "      <td>2^{2x} - 3 \\cdot {2^{x + 1}} + 8 = 0</td>\n",
       "      <td>Eq(2**(2*x) - 3*2**(x + 1) + 8, 0)</td>\n",
       "      <td>\\left [ 1, \\quad 2\\right ]</td>\n",
       "      <td>Resuelve las siguientes ecuaciones exponenciales:</td>\n",
       "      <td>1BC</td>\n",
       "      <td>9 - Ecuaciones exponenciales y logarítmicas</td>\n",
       "      <td>p028e05</td>\n",
       "      <td>1</td>\n",
       "      <td>2</td>\n",
       "      <td>1</td>\n",
       "      <td>True</td>\n",
       "      <td>True</td>\n",
       "    </tr>\n",
       "    <tr>\n",
       "      <th>25</th>\n",
       "      <td>{3^{2x - 3}} + 1 = 4 \\cdot {3^{x - 2}}</td>\n",
       "      <td>Eq(3**(2*x - 3) + 1, 4*3**(x - 2))</td>\n",
       "      <td>\\left [ 1, \\quad 2\\right ]</td>\n",
       "      <td>Resuelve las siguientes ecuaciones exponenciales:</td>\n",
       "      <td>1BC</td>\n",
       "      <td>9 - Ecuaciones exponenciales y logarítmicas</td>\n",
       "      <td>p028e05</td>\n",
       "      <td>1</td>\n",
       "      <td>2</td>\n",
       "      <td>1</td>\n",
       "      <td>True</td>\n",
       "      <td>True</td>\n",
       "    </tr>\n",
       "    <tr>\n",
       "      <th>26</th>\n",
       "      <td>{2^{2x}} - 10 \\cdot {2^x} + 16 = 0</td>\n",
       "      <td>Eq(2**(2*x) - 10*2**x + 16, 0)</td>\n",
       "      <td>\\left [ 1, \\quad 3\\right ]</td>\n",
       "      <td>Resuelve las siguientes ecuaciones exponenciales:</td>\n",
       "      <td>1BC</td>\n",
       "      <td>9 - Ecuaciones exponenciales y logarítmicas</td>\n",
       "      <td>p028e05</td>\n",
       "      <td>1</td>\n",
       "      <td>2</td>\n",
       "      <td>1</td>\n",
       "      <td>True</td>\n",
       "      <td>True</td>\n",
       "    </tr>\n",
       "    <tr>\n",
       "      <th>27</th>\n",
       "      <td>{16^x} - {4^x} = 240</td>\n",
       "      <td>Eq(16**x - 4**x, 240)</td>\n",
       "      <td>\\left [ 2\\right ]</td>\n",
       "      <td>Resuelve las siguientes ecuaciones exponenciales:</td>\n",
       "      <td>1BC</td>\n",
       "      <td>9 - Ecuaciones exponenciales y logarítmicas</td>\n",
       "      <td>p028e05</td>\n",
       "      <td>1</td>\n",
       "      <td>2</td>\n",
       "      <td>1</td>\n",
       "      <td>True</td>\n",
       "      <td>True</td>\n",
       "    </tr>\n",
       "    <tr>\n",
       "      <th>28</th>\n",
       "      <td>9^x - 6 \\cdot {3^{x + 1}} + 81 = 0</td>\n",
       "      <td>Eq(-6*3**(x + 1) + 9**x + 81, 0)</td>\n",
       "      <td>\\left [ 2\\right ]</td>\n",
       "      <td>Resuelve las siguientes ecuaciones exponenciales:</td>\n",
       "      <td>1BC</td>\n",
       "      <td>9 - Ecuaciones exponenciales y logarítmicas</td>\n",
       "      <td>p028e05</td>\n",
       "      <td>1</td>\n",
       "      <td>2</td>\n",
       "      <td>1</td>\n",
       "      <td>True</td>\n",
       "      <td>True</td>\n",
       "    </tr>\n",
       "    <tr>\n",
       "      <th>29</th>\n",
       "      <td>{3^{x + 2}} + {9^{x + 1}} = 810</td>\n",
       "      <td>Eq(3**(x + 2) + 9**(x + 1), 810)</td>\n",
       "      <td>\\left [ 2\\right ]</td>\n",
       "      <td>Resuelve las siguientes ecuaciones exponenciales:</td>\n",
       "      <td>1BC</td>\n",
       "      <td>9 - Ecuaciones exponenciales y logarítmicas</td>\n",
       "      <td>p028e05</td>\n",
       "      <td>1</td>\n",
       "      <td>2</td>\n",
       "      <td>1</td>\n",
       "      <td>True</td>\n",
       "      <td>True</td>\n",
       "    </tr>\n",
       "    <tr>\n",
       "      <th>30</th>\n",
       "      <td>{5^{x - 1}} = 2 + \\frac{3}{{{5^{x - 2}}}}</td>\n",
       "      <td>Eq(5**(x - 1), 2 + 3/5**(x - 2))</td>\n",
       "      <td>\\left [ 2\\right ]</td>\n",
       "      <td>Resuelve las siguientes ecuaciones exponenciales:</td>\n",
       "      <td>1BC</td>\n",
       "      <td>9 - Ecuaciones exponenciales y logarítmicas</td>\n",
       "      <td>p028e05</td>\n",
       "      <td>1</td>\n",
       "      <td>2</td>\n",
       "      <td>1</td>\n",
       "      <td>True</td>\n",
       "      <td>True</td>\n",
       "    </tr>\n",
       "    <tr>\n",
       "      <th>31</th>\n",
       "      <td>{3^{x + 1}} + {3^{x - 2}} = \\frac{{15}}{{{3^{x...</td>\n",
       "      <td>Eq(3**(x - 2) + 3**(x + 1), 15/3**(x - 1) + 24...</td>\n",
       "      <td>\\left [ 3\\right ]</td>\n",
       "      <td>Resuelve las siguientes ecuaciones exponenciales:</td>\n",
       "      <td>1BC</td>\n",
       "      <td>9 - Ecuaciones exponenciales y logarítmicas</td>\n",
       "      <td>p028e05</td>\n",
       "      <td>1</td>\n",
       "      <td>2</td>\n",
       "      <td>1</td>\n",
       "      <td>True</td>\n",
       "      <td>True</td>\n",
       "    </tr>\n",
       "    <tr>\n",
       "      <th>32</th>\n",
       "      <td>{4^{2x}} + 16 \\cdot {4^{ - 2x}} - 10 = 0</td>\n",
       "      <td>Eq(4**(2*x) + 16*4**(-2*x) - 10, 0)</td>\n",
       "      <td>\\left [ \\frac{1}{4}, \\quad \\frac{3}{4}\\right ]</td>\n",
       "      <td>Resuelve las siguientes ecuaciones exponenciales:</td>\n",
       "      <td>1BC</td>\n",
       "      <td>9 - Ecuaciones exponenciales y logarítmicas</td>\n",
       "      <td>p028e05</td>\n",
       "      <td>1</td>\n",
       "      <td>2</td>\n",
       "      <td>1</td>\n",
       "      <td>True</td>\n",
       "      <td>True</td>\n",
       "    </tr>\n",
       "  </tbody>\n",
       "</table>\n",
       "</div>"
      ],
      "text/plain": [
       "                                      enunciado_latex  \\\n",
       "19            {3^{x + 1}} + {3^x} + {3^{x - 1}} = 117   \n",
       "20  {3^x} + {3^{x - 1}} + {3^{x - 2}} + {3^{x - 3}...   \n",
       "21        {2^{3x}} - \\frac{3}{{{2^{3x + 2}}}} + 1 = 0   \n",
       "22                      {3^{x - 1}} + {3^{2 - x}} = 4   \n",
       "23                           {2^{x + 1}} + {4^x} = 80   \n",
       "24               2^{2x} - 3 \\cdot {2^{x + 1}} + 8 = 0   \n",
       "25             {3^{2x - 3}} + 1 = 4 \\cdot {3^{x - 2}}   \n",
       "26                 {2^{2x}} - 10 \\cdot {2^x} + 16 = 0   \n",
       "27                               {16^x} - {4^x} = 240   \n",
       "28                 9^x - 6 \\cdot {3^{x + 1}} + 81 = 0   \n",
       "29                    {3^{x + 2}} + {9^{x + 1}} = 810   \n",
       "30          {5^{x - 1}} = 2 + \\frac{3}{{{5^{x - 2}}}}   \n",
       "31  {3^{x + 1}} + {3^{x - 2}} = \\frac{{15}}{{{3^{x...   \n",
       "32           {4^{2x}} + 16 \\cdot {4^{ - 2x}} - 10 = 0   \n",
       "\n",
       "                                            enunciado  \\\n",
       "19            Eq(3**(x - 1) + 3**x + 3**(x + 1), 117)   \n",
       "20  Eq(3**(x - 4) + 3**(x - 3) + 3**(x - 2) + 3**x...   \n",
       "21              Eq(2**(3*x) - 3*2**(-3*x - 2) + 1, 0)   \n",
       "22                    Eq(3**(-x + 2) + 3**(x - 1), 4)   \n",
       "23                          Eq(2**(x + 1) + 4**x, 80)   \n",
       "24                 Eq(2**(2*x) - 3*2**(x + 1) + 8, 0)   \n",
       "25                 Eq(3**(2*x - 3) + 1, 4*3**(x - 2))   \n",
       "26                     Eq(2**(2*x) - 10*2**x + 16, 0)   \n",
       "27                              Eq(16**x - 4**x, 240)   \n",
       "28                   Eq(-6*3**(x + 1) + 9**x + 81, 0)   \n",
       "29                   Eq(3**(x + 2) + 9**(x + 1), 810)   \n",
       "30                   Eq(5**(x - 1), 2 + 3/5**(x - 2))   \n",
       "31  Eq(3**(x - 2) + 3**(x + 1), 15/3**(x - 1) + 24...   \n",
       "32                Eq(4**(2*x) + 16*4**(-2*x) - 10, 0)   \n",
       "\n",
       "                                          solucion  \\\n",
       "19                               \\left [ 3\\right ]   \n",
       "20                               \\left [ 5\\right ]   \n",
       "21                   \\left [ - \\frac{1}{3}\\right ]   \n",
       "22                      \\left [ 1, \\quad 2\\right ]   \n",
       "23                               \\left [ 3\\right ]   \n",
       "24                      \\left [ 1, \\quad 2\\right ]   \n",
       "25                      \\left [ 1, \\quad 2\\right ]   \n",
       "26                      \\left [ 1, \\quad 3\\right ]   \n",
       "27                               \\left [ 2\\right ]   \n",
       "28                               \\left [ 2\\right ]   \n",
       "29                               \\left [ 2\\right ]   \n",
       "30                               \\left [ 2\\right ]   \n",
       "31                               \\left [ 3\\right ]   \n",
       "32  \\left [ \\frac{1}{4}, \\quad \\frac{3}{4}\\right ]   \n",
       "\n",
       "                                                texto curso  \\\n",
       "19  Resuelve las siguientes ecuaciones exponenciales:   1BC   \n",
       "20  Resuelve las siguientes ecuaciones exponenciales:   1BC   \n",
       "21  Resuelve las siguientes ecuaciones exponenciales:   1BC   \n",
       "22  Resuelve las siguientes ecuaciones exponenciales:   1BC   \n",
       "23  Resuelve las siguientes ecuaciones exponenciales:   1BC   \n",
       "24  Resuelve las siguientes ecuaciones exponenciales:   1BC   \n",
       "25  Resuelve las siguientes ecuaciones exponenciales:   1BC   \n",
       "26  Resuelve las siguientes ecuaciones exponenciales:   1BC   \n",
       "27  Resuelve las siguientes ecuaciones exponenciales:   1BC   \n",
       "28  Resuelve las siguientes ecuaciones exponenciales:   1BC   \n",
       "29  Resuelve las siguientes ecuaciones exponenciales:   1BC   \n",
       "30  Resuelve las siguientes ecuaciones exponenciales:   1BC   \n",
       "31  Resuelve las siguientes ecuaciones exponenciales:   1BC   \n",
       "32  Resuelve las siguientes ecuaciones exponenciales:   1BC   \n",
       "\n",
       "                                         titulo n_ejercicio  dificultad  \\\n",
       "19  9 - Ecuaciones exponenciales y logarítmicas     p028e05           1   \n",
       "20  9 - Ecuaciones exponenciales y logarítmicas     p028e05           1   \n",
       "21  9 - Ecuaciones exponenciales y logarítmicas     p028e05           1   \n",
       "22  9 - Ecuaciones exponenciales y logarítmicas     p028e05           1   \n",
       "23  9 - Ecuaciones exponenciales y logarítmicas     p028e05           1   \n",
       "24  9 - Ecuaciones exponenciales y logarítmicas     p028e05           1   \n",
       "25  9 - Ecuaciones exponenciales y logarítmicas     p028e05           1   \n",
       "26  9 - Ecuaciones exponenciales y logarítmicas     p028e05           1   \n",
       "27  9 - Ecuaciones exponenciales y logarítmicas     p028e05           1   \n",
       "28  9 - Ecuaciones exponenciales y logarítmicas     p028e05           1   \n",
       "29  9 - Ecuaciones exponenciales y logarítmicas     p028e05           1   \n",
       "30  9 - Ecuaciones exponenciales y logarítmicas     p028e05           1   \n",
       "31  9 - Ecuaciones exponenciales y logarítmicas     p028e05           1   \n",
       "32  9 - Ecuaciones exponenciales y logarítmicas     p028e05           1   \n",
       "\n",
       "    n_columnas  puntos  enun_tex  sol_tex  \n",
       "19           2       1      True     True  \n",
       "20           2       1      True     True  \n",
       "21           2       1      True     True  \n",
       "22           2       1      True     True  \n",
       "23           2       1      True     True  \n",
       "24           2       1      True     True  \n",
       "25           2       1      True     True  \n",
       "26           2       1      True     True  \n",
       "27           2       1      True     True  \n",
       "28           2       1      True     True  \n",
       "29           2       1      True     True  \n",
       "30           2       1      True     True  \n",
       "31           2       1      True     True  \n",
       "32           2       1      True     True  "
      ]
     },
     "metadata": {},
     "output_type": "display_data"
    },
    {
     "data": {
      "text/markdown": [
       "**Ejercicio: **p028e06"
      ],
      "text/plain": [
       "<IPython.core.display.Markdown object>"
      ]
     },
     "metadata": {},
     "output_type": "display_data"
    },
    {
     "data": {
      "text/html": [
       "<div>\n",
       "<style scoped>\n",
       "    .dataframe tbody tr th:only-of-type {\n",
       "        vertical-align: middle;\n",
       "    }\n",
       "\n",
       "    .dataframe tbody tr th {\n",
       "        vertical-align: top;\n",
       "    }\n",
       "\n",
       "    .dataframe thead th {\n",
       "        text-align: right;\n",
       "    }\n",
       "</style>\n",
       "<table border=\"1\" class=\"dataframe\">\n",
       "  <thead>\n",
       "    <tr style=\"text-align: right;\">\n",
       "      <th></th>\n",
       "      <th>enunciado_latex</th>\n",
       "      <th>enunciado</th>\n",
       "      <th>solucion</th>\n",
       "      <th>texto</th>\n",
       "      <th>curso</th>\n",
       "      <th>titulo</th>\n",
       "      <th>n_ejercicio</th>\n",
       "      <th>dificultad</th>\n",
       "      <th>n_columnas</th>\n",
       "      <th>puntos</th>\n",
       "      <th>enun_tex</th>\n",
       "      <th>sol_tex</th>\n",
       "    </tr>\n",
       "  </thead>\n",
       "  <tbody>\n",
       "    <tr>\n",
       "      <th>33</th>\n",
       "      <td>\\left\\{\\begin{matrix}{3^x} = {3^y}\\\\{4^x} \\cdo...</td>\n",
       "      <td>[Eq(3**x, 3**y), Eq(4**x*4**y, 256)]</td>\n",
       "      <td>\\left [ \\left \\{ x : 2, \\quad y : 2\\right \\}\\r...</td>\n",
       "      <td>Resuelve los siguientes sistemas:</td>\n",
       "      <td>1BC</td>\n",
       "      <td>9 - Ecuaciones exponenciales y logarítmicas</td>\n",
       "      <td>p028e06</td>\n",
       "      <td>1</td>\n",
       "      <td>2</td>\n",
       "      <td>1</td>\n",
       "      <td>True</td>\n",
       "      <td>True</td>\n",
       "    </tr>\n",
       "    <tr>\n",
       "      <th>34</th>\n",
       "      <td>\\left\\{\\begin{matrix}{2^{x + 2y}} = 32\\\\{2^{3x...</td>\n",
       "      <td>[Eq(2**(x + 2*y), 32), Eq(2**(3*x - 5*y), 16)]</td>\n",
       "      <td>\\left [ \\left \\{ x : 3, \\quad y : 1\\right \\}\\r...</td>\n",
       "      <td>Resuelve los siguientes sistemas:</td>\n",
       "      <td>1BC</td>\n",
       "      <td>9 - Ecuaciones exponenciales y logarítmicas</td>\n",
       "      <td>p028e06</td>\n",
       "      <td>1</td>\n",
       "      <td>2</td>\n",
       "      <td>1</td>\n",
       "      <td>True</td>\n",
       "      <td>True</td>\n",
       "    </tr>\n",
       "    <tr>\n",
       "      <th>35</th>\n",
       "      <td>\\left\\{\\begin{matrix}{5^x} = {5^y} \\cdot 625 \\...</td>\n",
       "      <td>[Eq(5**x, 625*5**y), Eq(2**x*2**y, 256)]</td>\n",
       "      <td>\\left [ \\left \\{ x : 6, \\quad y : 2\\right \\}\\r...</td>\n",
       "      <td>Resuelve los siguientes sistemas:</td>\n",
       "      <td>1BC</td>\n",
       "      <td>9 - Ecuaciones exponenciales y logarítmicas</td>\n",
       "      <td>p028e06</td>\n",
       "      <td>1</td>\n",
       "      <td>2</td>\n",
       "      <td>1</td>\n",
       "      <td>True</td>\n",
       "      <td>True</td>\n",
       "    </tr>\n",
       "    <tr>\n",
       "      <th>36</th>\n",
       "      <td>\\left\\{\\begin{matrix}{2^x} + {2^y} = 24\\\\{2^{x...</td>\n",
       "      <td>[Eq(2**x + 2**y, 24), Eq(2**(x + y), 128)]</td>\n",
       "      <td>\\left [ \\left \\{ x : 3, \\quad y : 4\\right \\}, ...</td>\n",
       "      <td>Resuelve los siguientes sistemas:</td>\n",
       "      <td>1BC</td>\n",
       "      <td>9 - Ecuaciones exponenciales y logarítmicas</td>\n",
       "      <td>p028e06</td>\n",
       "      <td>1</td>\n",
       "      <td>2</td>\n",
       "      <td>1</td>\n",
       "      <td>True</td>\n",
       "      <td>True</td>\n",
       "    </tr>\n",
       "  </tbody>\n",
       "</table>\n",
       "</div>"
      ],
      "text/plain": [
       "                                      enunciado_latex  \\\n",
       "33  \\left\\{\\begin{matrix}{3^x} = {3^y}\\\\{4^x} \\cdo...   \n",
       "34  \\left\\{\\begin{matrix}{2^{x + 2y}} = 32\\\\{2^{3x...   \n",
       "35  \\left\\{\\begin{matrix}{5^x} = {5^y} \\cdot 625 \\...   \n",
       "36  \\left\\{\\begin{matrix}{2^x} + {2^y} = 24\\\\{2^{x...   \n",
       "\n",
       "                                         enunciado  \\\n",
       "33            [Eq(3**x, 3**y), Eq(4**x*4**y, 256)]   \n",
       "34  [Eq(2**(x + 2*y), 32), Eq(2**(3*x - 5*y), 16)]   \n",
       "35        [Eq(5**x, 625*5**y), Eq(2**x*2**y, 256)]   \n",
       "36      [Eq(2**x + 2**y, 24), Eq(2**(x + y), 128)]   \n",
       "\n",
       "                                             solucion  \\\n",
       "33  \\left [ \\left \\{ x : 2, \\quad y : 2\\right \\}\\r...   \n",
       "34  \\left [ \\left \\{ x : 3, \\quad y : 1\\right \\}\\r...   \n",
       "35  \\left [ \\left \\{ x : 6, \\quad y : 2\\right \\}\\r...   \n",
       "36  \\left [ \\left \\{ x : 3, \\quad y : 4\\right \\}, ...   \n",
       "\n",
       "                                texto curso  \\\n",
       "33  Resuelve los siguientes sistemas:   1BC   \n",
       "34  Resuelve los siguientes sistemas:   1BC   \n",
       "35  Resuelve los siguientes sistemas:   1BC   \n",
       "36  Resuelve los siguientes sistemas:   1BC   \n",
       "\n",
       "                                         titulo n_ejercicio  dificultad  \\\n",
       "33  9 - Ecuaciones exponenciales y logarítmicas     p028e06           1   \n",
       "34  9 - Ecuaciones exponenciales y logarítmicas     p028e06           1   \n",
       "35  9 - Ecuaciones exponenciales y logarítmicas     p028e06           1   \n",
       "36  9 - Ecuaciones exponenciales y logarítmicas     p028e06           1   \n",
       "\n",
       "    n_columnas  puntos  enun_tex  sol_tex  \n",
       "33           2       1      True     True  \n",
       "34           2       1      True     True  \n",
       "35           2       1      True     True  \n",
       "36           2       1      True     True  "
      ]
     },
     "metadata": {},
     "output_type": "display_data"
    },
    {
     "data": {
      "text/markdown": [
       "**Ejercicio: **p028e07"
      ],
      "text/plain": [
       "<IPython.core.display.Markdown object>"
      ]
     },
     "metadata": {},
     "output_type": "display_data"
    },
    {
     "data": {
      "text/html": [
       "<div>\n",
       "<style scoped>\n",
       "    .dataframe tbody tr th:only-of-type {\n",
       "        vertical-align: middle;\n",
       "    }\n",
       "\n",
       "    .dataframe tbody tr th {\n",
       "        vertical-align: top;\n",
       "    }\n",
       "\n",
       "    .dataframe thead th {\n",
       "        text-align: right;\n",
       "    }\n",
       "</style>\n",
       "<table border=\"1\" class=\"dataframe\">\n",
       "  <thead>\n",
       "    <tr style=\"text-align: right;\">\n",
       "      <th></th>\n",
       "      <th>enunciado_latex</th>\n",
       "      <th>enunciado</th>\n",
       "      <th>solucion</th>\n",
       "      <th>texto</th>\n",
       "      <th>curso</th>\n",
       "      <th>titulo</th>\n",
       "      <th>n_ejercicio</th>\n",
       "      <th>dificultad</th>\n",
       "      <th>n_columnas</th>\n",
       "      <th>puntos</th>\n",
       "      <th>enun_tex</th>\n",
       "      <th>sol_tex</th>\n",
       "    </tr>\n",
       "  </thead>\n",
       "  <tbody>\n",
       "    <tr>\n",
       "      <th>37</th>\n",
       "      <td>\\log 100</td>\n",
       "      <td>log(100, 10)</td>\n",
       "      <td>2</td>\n",
       "      <td>Calcula:</td>\n",
       "      <td>1BC</td>\n",
       "      <td>9 - Ecuaciones exponenciales y logarítmicas</td>\n",
       "      <td>p028e07</td>\n",
       "      <td>1</td>\n",
       "      <td>4</td>\n",
       "      <td>1</td>\n",
       "      <td>True</td>\n",
       "      <td>True</td>\n",
       "    </tr>\n",
       "    <tr>\n",
       "      <th>38</th>\n",
       "      <td>\\log_{5}(625)</td>\n",
       "      <td>log(625, 5)</td>\n",
       "      <td>4</td>\n",
       "      <td>Calcula:</td>\n",
       "      <td>1BC</td>\n",
       "      <td>9 - Ecuaciones exponenciales y logarítmicas</td>\n",
       "      <td>p028e07</td>\n",
       "      <td>1</td>\n",
       "      <td>4</td>\n",
       "      <td>1</td>\n",
       "      <td>True</td>\n",
       "      <td>True</td>\n",
       "    </tr>\n",
       "    <tr>\n",
       "      <th>39</th>\n",
       "      <td>\\log_{2}(32)</td>\n",
       "      <td>log(32, 2)</td>\n",
       "      <td>5</td>\n",
       "      <td>Calcula:</td>\n",
       "      <td>1BC</td>\n",
       "      <td>9 - Ecuaciones exponenciales y logarítmicas</td>\n",
       "      <td>p028e07</td>\n",
       "      <td>1</td>\n",
       "      <td>4</td>\n",
       "      <td>1</td>\n",
       "      <td>True</td>\n",
       "      <td>True</td>\n",
       "    </tr>\n",
       "    <tr>\n",
       "      <th>40</th>\n",
       "      <td>\\log_{3}(81)</td>\n",
       "      <td>log(81, 3)</td>\n",
       "      <td>4</td>\n",
       "      <td>Calcula:</td>\n",
       "      <td>1BC</td>\n",
       "      <td>9 - Ecuaciones exponenciales y logarítmicas</td>\n",
       "      <td>p028e07</td>\n",
       "      <td>1</td>\n",
       "      <td>4</td>\n",
       "      <td>1</td>\n",
       "      <td>True</td>\n",
       "      <td>True</td>\n",
       "    </tr>\n",
       "    <tr>\n",
       "      <th>41</th>\n",
       "      <td>\\log_{2}(1024)</td>\n",
       "      <td>log(1024, 2)</td>\n",
       "      <td>10</td>\n",
       "      <td>Calcula:</td>\n",
       "      <td>1BC</td>\n",
       "      <td>9 - Ecuaciones exponenciales y logarítmicas</td>\n",
       "      <td>p028e07</td>\n",
       "      <td>1</td>\n",
       "      <td>4</td>\n",
       "      <td>1</td>\n",
       "      <td>True</td>\n",
       "      <td>True</td>\n",
       "    </tr>\n",
       "    <tr>\n",
       "      <th>42</th>\n",
       "      <td>\\log 1000</td>\n",
       "      <td>log(1000, 10)</td>\n",
       "      <td>3</td>\n",
       "      <td>Calcula:</td>\n",
       "      <td>1BC</td>\n",
       "      <td>9 - Ecuaciones exponenciales y logarítmicas</td>\n",
       "      <td>p028e07</td>\n",
       "      <td>1</td>\n",
       "      <td>4</td>\n",
       "      <td>1</td>\n",
       "      <td>True</td>\n",
       "      <td>True</td>\n",
       "    </tr>\n",
       "    <tr>\n",
       "      <th>43</th>\n",
       "      <td>\\log 10000</td>\n",
       "      <td>log(10000, 10)</td>\n",
       "      <td>4</td>\n",
       "      <td>Calcula:</td>\n",
       "      <td>1BC</td>\n",
       "      <td>9 - Ecuaciones exponenciales y logarítmicas</td>\n",
       "      <td>p028e07</td>\n",
       "      <td>1</td>\n",
       "      <td>4</td>\n",
       "      <td>1</td>\n",
       "      <td>True</td>\n",
       "      <td>True</td>\n",
       "    </tr>\n",
       "    <tr>\n",
       "      <th>44</th>\n",
       "      <td>\\log 1000000</td>\n",
       "      <td>log(1000000, 10)</td>\n",
       "      <td>6</td>\n",
       "      <td>Calcula:</td>\n",
       "      <td>1BC</td>\n",
       "      <td>9 - Ecuaciones exponenciales y logarítmicas</td>\n",
       "      <td>p028e07</td>\n",
       "      <td>1</td>\n",
       "      <td>4</td>\n",
       "      <td>1</td>\n",
       "      <td>True</td>\n",
       "      <td>True</td>\n",
       "    </tr>\n",
       "    <tr>\n",
       "      <th>45</th>\n",
       "      <td>\\log (10^6)</td>\n",
       "      <td>log(10**6, 10)</td>\n",
       "      <td>6</td>\n",
       "      <td>Calcula:</td>\n",
       "      <td>1BC</td>\n",
       "      <td>9 - Ecuaciones exponenciales y logarítmicas</td>\n",
       "      <td>p028e07</td>\n",
       "      <td>1</td>\n",
       "      <td>4</td>\n",
       "      <td>1</td>\n",
       "      <td>True</td>\n",
       "      <td>True</td>\n",
       "    </tr>\n",
       "    <tr>\n",
       "      <th>46</th>\n",
       "      <td>\\log 0.1</td>\n",
       "      <td>log(0.1, 10)</td>\n",
       "      <td>-1</td>\n",
       "      <td>Calcula:</td>\n",
       "      <td>1BC</td>\n",
       "      <td>9 - Ecuaciones exponenciales y logarítmicas</td>\n",
       "      <td>p028e07</td>\n",
       "      <td>1</td>\n",
       "      <td>4</td>\n",
       "      <td>1</td>\n",
       "      <td>True</td>\n",
       "      <td>True</td>\n",
       "    </tr>\n",
       "    <tr>\n",
       "      <th>47</th>\n",
       "      <td>\\log 0.01</td>\n",
       "      <td>log(0.01, 10)</td>\n",
       "      <td>-2</td>\n",
       "      <td>Calcula:</td>\n",
       "      <td>1BC</td>\n",
       "      <td>9 - Ecuaciones exponenciales y logarítmicas</td>\n",
       "      <td>p028e07</td>\n",
       "      <td>1</td>\n",
       "      <td>4</td>\n",
       "      <td>1</td>\n",
       "      <td>True</td>\n",
       "      <td>True</td>\n",
       "    </tr>\n",
       "    <tr>\n",
       "      <th>48</th>\n",
       "      <td>\\log 0.001</td>\n",
       "      <td>log(0.001, 10)</td>\n",
       "      <td>-3</td>\n",
       "      <td>Calcula:</td>\n",
       "      <td>1BC</td>\n",
       "      <td>9 - Ecuaciones exponenciales y logarítmicas</td>\n",
       "      <td>p028e07</td>\n",
       "      <td>1</td>\n",
       "      <td>4</td>\n",
       "      <td>1</td>\n",
       "      <td>True</td>\n",
       "      <td>True</td>\n",
       "    </tr>\n",
       "    <tr>\n",
       "      <th>49</th>\n",
       "      <td>\\log 0.000001</td>\n",
       "      <td>log(1.0e-6, 10)</td>\n",
       "      <td>-6</td>\n",
       "      <td>Calcula:</td>\n",
       "      <td>1BC</td>\n",
       "      <td>9 - Ecuaciones exponenciales y logarítmicas</td>\n",
       "      <td>p028e07</td>\n",
       "      <td>1</td>\n",
       "      <td>4</td>\n",
       "      <td>1</td>\n",
       "      <td>True</td>\n",
       "      <td>True</td>\n",
       "    </tr>\n",
       "    <tr>\n",
       "      <th>50</th>\n",
       "      <td>\\log_{5}(625)</td>\n",
       "      <td>log(625, 5)</td>\n",
       "      <td>4</td>\n",
       "      <td>Calcula:</td>\n",
       "      <td>1BC</td>\n",
       "      <td>9 - Ecuaciones exponenciales y logarítmicas</td>\n",
       "      <td>p028e07</td>\n",
       "      <td>1</td>\n",
       "      <td>4</td>\n",
       "      <td>1</td>\n",
       "      <td>True</td>\n",
       "      <td>True</td>\n",
       "    </tr>\n",
       "    <tr>\n",
       "      <th>51</th>\n",
       "      <td>\\log_{2}(4)</td>\n",
       "      <td>log(4, 2)</td>\n",
       "      <td>2</td>\n",
       "      <td>Calcula:</td>\n",
       "      <td>1BC</td>\n",
       "      <td>9 - Ecuaciones exponenciales y logarítmicas</td>\n",
       "      <td>p028e07</td>\n",
       "      <td>1</td>\n",
       "      <td>4</td>\n",
       "      <td>1</td>\n",
       "      <td>True</td>\n",
       "      <td>True</td>\n",
       "    </tr>\n",
       "    <tr>\n",
       "      <th>52</th>\n",
       "      <td>\\log_{2}(64)</td>\n",
       "      <td>log(64, 2)</td>\n",
       "      <td>6</td>\n",
       "      <td>Calcula:</td>\n",
       "      <td>1BC</td>\n",
       "      <td>9 - Ecuaciones exponenciales y logarítmicas</td>\n",
       "      <td>p028e07</td>\n",
       "      <td>1</td>\n",
       "      <td>4</td>\n",
       "      <td>1</td>\n",
       "      <td>True</td>\n",
       "      <td>True</td>\n",
       "    </tr>\n",
       "  </tbody>\n",
       "</table>\n",
       "</div>"
      ],
      "text/plain": [
       "   enunciado_latex         enunciado solucion     texto curso  \\\n",
       "37        \\log 100      log(100, 10)        2  Calcula:   1BC   \n",
       "38   \\log_{5}(625)       log(625, 5)        4  Calcula:   1BC   \n",
       "39    \\log_{2}(32)        log(32, 2)        5  Calcula:   1BC   \n",
       "40    \\log_{3}(81)        log(81, 3)        4  Calcula:   1BC   \n",
       "41  \\log_{2}(1024)      log(1024, 2)       10  Calcula:   1BC   \n",
       "42       \\log 1000     log(1000, 10)        3  Calcula:   1BC   \n",
       "43      \\log 10000    log(10000, 10)        4  Calcula:   1BC   \n",
       "44    \\log 1000000  log(1000000, 10)        6  Calcula:   1BC   \n",
       "45     \\log (10^6)    log(10**6, 10)        6  Calcula:   1BC   \n",
       "46        \\log 0.1      log(0.1, 10)       -1  Calcula:   1BC   \n",
       "47       \\log 0.01     log(0.01, 10)       -2  Calcula:   1BC   \n",
       "48      \\log 0.001    log(0.001, 10)       -3  Calcula:   1BC   \n",
       "49   \\log 0.000001   log(1.0e-6, 10)       -6  Calcula:   1BC   \n",
       "50   \\log_{5}(625)       log(625, 5)        4  Calcula:   1BC   \n",
       "51     \\log_{2}(4)         log(4, 2)        2  Calcula:   1BC   \n",
       "52    \\log_{2}(64)        log(64, 2)        6  Calcula:   1BC   \n",
       "\n",
       "                                         titulo n_ejercicio  dificultad  \\\n",
       "37  9 - Ecuaciones exponenciales y logarítmicas     p028e07           1   \n",
       "38  9 - Ecuaciones exponenciales y logarítmicas     p028e07           1   \n",
       "39  9 - Ecuaciones exponenciales y logarítmicas     p028e07           1   \n",
       "40  9 - Ecuaciones exponenciales y logarítmicas     p028e07           1   \n",
       "41  9 - Ecuaciones exponenciales y logarítmicas     p028e07           1   \n",
       "42  9 - Ecuaciones exponenciales y logarítmicas     p028e07           1   \n",
       "43  9 - Ecuaciones exponenciales y logarítmicas     p028e07           1   \n",
       "44  9 - Ecuaciones exponenciales y logarítmicas     p028e07           1   \n",
       "45  9 - Ecuaciones exponenciales y logarítmicas     p028e07           1   \n",
       "46  9 - Ecuaciones exponenciales y logarítmicas     p028e07           1   \n",
       "47  9 - Ecuaciones exponenciales y logarítmicas     p028e07           1   \n",
       "48  9 - Ecuaciones exponenciales y logarítmicas     p028e07           1   \n",
       "49  9 - Ecuaciones exponenciales y logarítmicas     p028e07           1   \n",
       "50  9 - Ecuaciones exponenciales y logarítmicas     p028e07           1   \n",
       "51  9 - Ecuaciones exponenciales y logarítmicas     p028e07           1   \n",
       "52  9 - Ecuaciones exponenciales y logarítmicas     p028e07           1   \n",
       "\n",
       "    n_columnas  puntos  enun_tex  sol_tex  \n",
       "37           4       1      True     True  \n",
       "38           4       1      True     True  \n",
       "39           4       1      True     True  \n",
       "40           4       1      True     True  \n",
       "41           4       1      True     True  \n",
       "42           4       1      True     True  \n",
       "43           4       1      True     True  \n",
       "44           4       1      True     True  \n",
       "45           4       1      True     True  \n",
       "46           4       1      True     True  \n",
       "47           4       1      True     True  \n",
       "48           4       1      True     True  \n",
       "49           4       1      True     True  \n",
       "50           4       1      True     True  \n",
       "51           4       1      True     True  \n",
       "52           4       1      True     True  "
      ]
     },
     "metadata": {},
     "output_type": "display_data"
    },
    {
     "data": {
      "text/markdown": [
       "**Ejercicio: **p028e07b"
      ],
      "text/plain": [
       "<IPython.core.display.Markdown object>"
      ]
     },
     "metadata": {},
     "output_type": "display_data"
    },
    {
     "data": {
      "text/html": [
       "<div>\n",
       "<style scoped>\n",
       "    .dataframe tbody tr th:only-of-type {\n",
       "        vertical-align: middle;\n",
       "    }\n",
       "\n",
       "    .dataframe tbody tr th {\n",
       "        vertical-align: top;\n",
       "    }\n",
       "\n",
       "    .dataframe thead th {\n",
       "        text-align: right;\n",
       "    }\n",
       "</style>\n",
       "<table border=\"1\" class=\"dataframe\">\n",
       "  <thead>\n",
       "    <tr style=\"text-align: right;\">\n",
       "      <th></th>\n",
       "      <th>enunciado_latex</th>\n",
       "      <th>enunciado</th>\n",
       "      <th>solucion</th>\n",
       "      <th>texto</th>\n",
       "      <th>curso</th>\n",
       "      <th>titulo</th>\n",
       "      <th>n_ejercicio</th>\n",
       "      <th>dificultad</th>\n",
       "      <th>n_columnas</th>\n",
       "      <th>puntos</th>\n",
       "      <th>enun_tex</th>\n",
       "      <th>sol_tex</th>\n",
       "    </tr>\n",
       "  </thead>\n",
       "  <tbody>\n",
       "    <tr>\n",
       "      <th>53</th>\n",
       "      <td>\\log_{2}(\\frac{1}{2})</td>\n",
       "      <td>log(1/2, 2)</td>\n",
       "      <td>-1</td>\n",
       "      <td>Calcula (continuación):</td>\n",
       "      <td>1BC</td>\n",
       "      <td>9 - Ecuaciones exponenciales y logarítmicas</td>\n",
       "      <td>p028e07b</td>\n",
       "      <td>1</td>\n",
       "      <td>4</td>\n",
       "      <td>1</td>\n",
       "      <td>True</td>\n",
       "      <td>True</td>\n",
       "    </tr>\n",
       "    <tr>\n",
       "      <th>54</th>\n",
       "      <td>\\log_{2}(\\frac{1}{4})</td>\n",
       "      <td>log(1/4, 2)</td>\n",
       "      <td>-2</td>\n",
       "      <td>Calcula (continuación):</td>\n",
       "      <td>1BC</td>\n",
       "      <td>9 - Ecuaciones exponenciales y logarítmicas</td>\n",
       "      <td>p028e07b</td>\n",
       "      <td>1</td>\n",
       "      <td>4</td>\n",
       "      <td>1</td>\n",
       "      <td>True</td>\n",
       "      <td>True</td>\n",
       "    </tr>\n",
       "    <tr>\n",
       "      <th>55</th>\n",
       "      <td>\\log_{2}(\\sqrt{2})</td>\n",
       "      <td>log(sqrt(2), 2)</td>\n",
       "      <td>\\frac{1}{2}</td>\n",
       "      <td>Calcula (continuación):</td>\n",
       "      <td>1BC</td>\n",
       "      <td>9 - Ecuaciones exponenciales y logarítmicas</td>\n",
       "      <td>p028e07b</td>\n",
       "      <td>1</td>\n",
       "      <td>4</td>\n",
       "      <td>1</td>\n",
       "      <td>True</td>\n",
       "      <td>True</td>\n",
       "    </tr>\n",
       "    <tr>\n",
       "      <th>56</th>\n",
       "      <td>\\log_{2}(\\sqrt{8})</td>\n",
       "      <td>log(2*sqrt(2), 2)</td>\n",
       "      <td>\\frac{3}{2}</td>\n",
       "      <td>Calcula (continuación):</td>\n",
       "      <td>1BC</td>\n",
       "      <td>9 - Ecuaciones exponenciales y logarítmicas</td>\n",
       "      <td>p028e07b</td>\n",
       "      <td>1</td>\n",
       "      <td>4</td>\n",
       "      <td>1</td>\n",
       "      <td>True</td>\n",
       "      <td>True</td>\n",
       "    </tr>\n",
       "    <tr>\n",
       "      <th>57</th>\n",
       "      <td>\\log_{3}(3)</td>\n",
       "      <td>log(3, 3)</td>\n",
       "      <td>1</td>\n",
       "      <td>Calcula (continuación):</td>\n",
       "      <td>1BC</td>\n",
       "      <td>9 - Ecuaciones exponenciales y logarítmicas</td>\n",
       "      <td>p028e07b</td>\n",
       "      <td>1</td>\n",
       "      <td>4</td>\n",
       "      <td>1</td>\n",
       "      <td>True</td>\n",
       "      <td>True</td>\n",
       "    </tr>\n",
       "    <tr>\n",
       "      <th>58</th>\n",
       "      <td>\\log_{3}(27)</td>\n",
       "      <td>log(27, 3)</td>\n",
       "      <td>3</td>\n",
       "      <td>Calcula (continuación):</td>\n",
       "      <td>1BC</td>\n",
       "      <td>9 - Ecuaciones exponenciales y logarítmicas</td>\n",
       "      <td>p028e07b</td>\n",
       "      <td>1</td>\n",
       "      <td>4</td>\n",
       "      <td>1</td>\n",
       "      <td>True</td>\n",
       "      <td>True</td>\n",
       "    </tr>\n",
       "    <tr>\n",
       "      <th>59</th>\n",
       "      <td>\\log_{3}(27)</td>\n",
       "      <td>log(27, 3)</td>\n",
       "      <td>3</td>\n",
       "      <td>Calcula (continuación):</td>\n",
       "      <td>1BC</td>\n",
       "      <td>9 - Ecuaciones exponenciales y logarítmicas</td>\n",
       "      <td>p028e07b</td>\n",
       "      <td>1</td>\n",
       "      <td>4</td>\n",
       "      <td>1</td>\n",
       "      <td>True</td>\n",
       "      <td>True</td>\n",
       "    </tr>\n",
       "    <tr>\n",
       "      <th>60</th>\n",
       "      <td>\\log_{3}(\\frac{1}{3})</td>\n",
       "      <td>log(1/3, 3)</td>\n",
       "      <td>-1</td>\n",
       "      <td>Calcula (continuación):</td>\n",
       "      <td>1BC</td>\n",
       "      <td>9 - Ecuaciones exponenciales y logarítmicas</td>\n",
       "      <td>p028e07b</td>\n",
       "      <td>1</td>\n",
       "      <td>4</td>\n",
       "      <td>1</td>\n",
       "      <td>True</td>\n",
       "      <td>True</td>\n",
       "    </tr>\n",
       "    <tr>\n",
       "      <th>61</th>\n",
       "      <td>\\log_{3}(\\frac{1}{9})</td>\n",
       "      <td>log(1/9, 3)</td>\n",
       "      <td>-2</td>\n",
       "      <td>Calcula (continuación):</td>\n",
       "      <td>1BC</td>\n",
       "      <td>9 - Ecuaciones exponenciales y logarítmicas</td>\n",
       "      <td>p028e07b</td>\n",
       "      <td>1</td>\n",
       "      <td>4</td>\n",
       "      <td>1</td>\n",
       "      <td>True</td>\n",
       "      <td>True</td>\n",
       "    </tr>\n",
       "    <tr>\n",
       "      <th>62</th>\n",
       "      <td>\\log_{3}{\\sqrt[3]{3}}</td>\n",
       "      <td>log(3**(1/3), 3)</td>\n",
       "      <td>\\frac{1}{3}</td>\n",
       "      <td>Calcula (continuación):</td>\n",
       "      <td>1BC</td>\n",
       "      <td>9 - Ecuaciones exponenciales y logarítmicas</td>\n",
       "      <td>p028e07b</td>\n",
       "      <td>1</td>\n",
       "      <td>4</td>\n",
       "      <td>1</td>\n",
       "      <td>True</td>\n",
       "      <td>True</td>\n",
       "    </tr>\n",
       "    <tr>\n",
       "      <th>63</th>\n",
       "      <td>\\log_{\\frac{1}{3}}(81)</td>\n",
       "      <td>log(81, 1/3)</td>\n",
       "      <td>-4</td>\n",
       "      <td>Calcula (continuación):</td>\n",
       "      <td>1BC</td>\n",
       "      <td>9 - Ecuaciones exponenciales y logarítmicas</td>\n",
       "      <td>p028e07b</td>\n",
       "      <td>1</td>\n",
       "      <td>4</td>\n",
       "      <td>1</td>\n",
       "      <td>True</td>\n",
       "      <td>True</td>\n",
       "    </tr>\n",
       "    <tr>\n",
       "      <th>64</th>\n",
       "      <td>\\log_{0.8}(1)</td>\n",
       "      <td>log(1, 0.8)</td>\n",
       "      <td>0</td>\n",
       "      <td>Calcula (continuación):</td>\n",
       "      <td>1BC</td>\n",
       "      <td>9 - Ecuaciones exponenciales y logarítmicas</td>\n",
       "      <td>p028e07b</td>\n",
       "      <td>1</td>\n",
       "      <td>4</td>\n",
       "      <td>1</td>\n",
       "      <td>True</td>\n",
       "      <td>True</td>\n",
       "    </tr>\n",
       "    <tr>\n",
       "      <th>65</th>\n",
       "      <td>\\log_{0.01}({10}^{-3})</td>\n",
       "      <td>log(10**(-3), 0.01)</td>\n",
       "      <td>\\frac{3}{2}</td>\n",
       "      <td>Calcula (continuación):</td>\n",
       "      <td>1BC</td>\n",
       "      <td>9 - Ecuaciones exponenciales y logarítmicas</td>\n",
       "      <td>p028e07b</td>\n",
       "      <td>1</td>\n",
       "      <td>4</td>\n",
       "      <td>1</td>\n",
       "      <td>True</td>\n",
       "      <td>True</td>\n",
       "    </tr>\n",
       "    <tr>\n",
       "      <th>66</th>\n",
       "      <td>\\log_{\\frac{1}{49}}(7)</td>\n",
       "      <td>log(7, 1/49)</td>\n",
       "      <td>- \\frac{1}{2}</td>\n",
       "      <td>Calcula (continuación):</td>\n",
       "      <td>1BC</td>\n",
       "      <td>9 - Ecuaciones exponenciales y logarítmicas</td>\n",
       "      <td>p028e07b</td>\n",
       "      <td>1</td>\n",
       "      <td>4</td>\n",
       "      <td>1</td>\n",
       "      <td>True</td>\n",
       "      <td>True</td>\n",
       "    </tr>\n",
       "    <tr>\n",
       "      <th>67</th>\n",
       "      <td>\\log_{\\frac{1}{5}}({\\frac{1}{25}})^{\\frac{1}{5}}</td>\n",
       "      <td>log(1/25, 1/5)**(1/5)</td>\n",
       "      <td>\\sqrt[5]{2}</td>\n",
       "      <td>Calcula (continuación):</td>\n",
       "      <td>1BC</td>\n",
       "      <td>9 - Ecuaciones exponenciales y logarítmicas</td>\n",
       "      <td>p028e07b</td>\n",
       "      <td>1</td>\n",
       "      <td>4</td>\n",
       "      <td>1</td>\n",
       "      <td>True</td>\n",
       "      <td>True</td>\n",
       "    </tr>\n",
       "  </tbody>\n",
       "</table>\n",
       "</div>"
      ],
      "text/plain": [
       "                                     enunciado_latex              enunciado  \\\n",
       "53                             \\log_{2}(\\frac{1}{2})            log(1/2, 2)   \n",
       "54                             \\log_{2}(\\frac{1}{4})            log(1/4, 2)   \n",
       "55                                \\log_{2}(\\sqrt{2})        log(sqrt(2), 2)   \n",
       "56                                \\log_{2}(\\sqrt{8})      log(2*sqrt(2), 2)   \n",
       "57                                       \\log_{3}(3)              log(3, 3)   \n",
       "58                                      \\log_{3}(27)             log(27, 3)   \n",
       "59                                      \\log_{3}(27)             log(27, 3)   \n",
       "60                             \\log_{3}(\\frac{1}{3})            log(1/3, 3)   \n",
       "61                             \\log_{3}(\\frac{1}{9})            log(1/9, 3)   \n",
       "62                             \\log_{3}{\\sqrt[3]{3}}       log(3**(1/3), 3)   \n",
       "63                            \\log_{\\frac{1}{3}}(81)           log(81, 1/3)   \n",
       "64                                     \\log_{0.8}(1)            log(1, 0.8)   \n",
       "65                            \\log_{0.01}({10}^{-3})    log(10**(-3), 0.01)   \n",
       "66                            \\log_{\\frac{1}{49}}(7)           log(7, 1/49)   \n",
       "67  \\log_{\\frac{1}{5}}({\\frac{1}{25}})^{\\frac{1}{5}}  log(1/25, 1/5)**(1/5)   \n",
       "\n",
       "         solucion                    texto curso  \\\n",
       "53             -1  Calcula (continuación):   1BC   \n",
       "54             -2  Calcula (continuación):   1BC   \n",
       "55    \\frac{1}{2}  Calcula (continuación):   1BC   \n",
       "56    \\frac{3}{2}  Calcula (continuación):   1BC   \n",
       "57              1  Calcula (continuación):   1BC   \n",
       "58              3  Calcula (continuación):   1BC   \n",
       "59              3  Calcula (continuación):   1BC   \n",
       "60             -1  Calcula (continuación):   1BC   \n",
       "61             -2  Calcula (continuación):   1BC   \n",
       "62    \\frac{1}{3}  Calcula (continuación):   1BC   \n",
       "63             -4  Calcula (continuación):   1BC   \n",
       "64              0  Calcula (continuación):   1BC   \n",
       "65    \\frac{3}{2}  Calcula (continuación):   1BC   \n",
       "66  - \\frac{1}{2}  Calcula (continuación):   1BC   \n",
       "67    \\sqrt[5]{2}  Calcula (continuación):   1BC   \n",
       "\n",
       "                                         titulo n_ejercicio  dificultad  \\\n",
       "53  9 - Ecuaciones exponenciales y logarítmicas    p028e07b           1   \n",
       "54  9 - Ecuaciones exponenciales y logarítmicas    p028e07b           1   \n",
       "55  9 - Ecuaciones exponenciales y logarítmicas    p028e07b           1   \n",
       "56  9 - Ecuaciones exponenciales y logarítmicas    p028e07b           1   \n",
       "57  9 - Ecuaciones exponenciales y logarítmicas    p028e07b           1   \n",
       "58  9 - Ecuaciones exponenciales y logarítmicas    p028e07b           1   \n",
       "59  9 - Ecuaciones exponenciales y logarítmicas    p028e07b           1   \n",
       "60  9 - Ecuaciones exponenciales y logarítmicas    p028e07b           1   \n",
       "61  9 - Ecuaciones exponenciales y logarítmicas    p028e07b           1   \n",
       "62  9 - Ecuaciones exponenciales y logarítmicas    p028e07b           1   \n",
       "63  9 - Ecuaciones exponenciales y logarítmicas    p028e07b           1   \n",
       "64  9 - Ecuaciones exponenciales y logarítmicas    p028e07b           1   \n",
       "65  9 - Ecuaciones exponenciales y logarítmicas    p028e07b           1   \n",
       "66  9 - Ecuaciones exponenciales y logarítmicas    p028e07b           1   \n",
       "67  9 - Ecuaciones exponenciales y logarítmicas    p028e07b           1   \n",
       "\n",
       "    n_columnas  puntos  enun_tex  sol_tex  \n",
       "53           4       1      True     True  \n",
       "54           4       1      True     True  \n",
       "55           4       1      True     True  \n",
       "56           4       1      True     True  \n",
       "57           4       1      True     True  \n",
       "58           4       1      True     True  \n",
       "59           4       1      True     True  \n",
       "60           4       1      True     True  \n",
       "61           4       1      True     True  \n",
       "62           4       1      True     True  \n",
       "63           4       1      True     True  \n",
       "64           4       1      True     True  \n",
       "65           4       1      True     True  \n",
       "66           4       1      True     True  \n",
       "67           4       1      True     True  "
      ]
     },
     "metadata": {},
     "output_type": "display_data"
    },
    {
     "data": {
      "text/markdown": [
       "**Ejercicio: **p028e08"
      ],
      "text/plain": [
       "<IPython.core.display.Markdown object>"
      ]
     },
     "metadata": {},
     "output_type": "display_data"
    },
    {
     "data": {
      "text/html": [
       "<div>\n",
       "<style scoped>\n",
       "    .dataframe tbody tr th:only-of-type {\n",
       "        vertical-align: middle;\n",
       "    }\n",
       "\n",
       "    .dataframe tbody tr th {\n",
       "        vertical-align: top;\n",
       "    }\n",
       "\n",
       "    .dataframe thead th {\n",
       "        text-align: right;\n",
       "    }\n",
       "</style>\n",
       "<table border=\"1\" class=\"dataframe\">\n",
       "  <thead>\n",
       "    <tr style=\"text-align: right;\">\n",
       "      <th></th>\n",
       "      <th>enunciado_latex</th>\n",
       "      <th>enunciado</th>\n",
       "      <th>solucion</th>\n",
       "      <th>texto</th>\n",
       "      <th>curso</th>\n",
       "      <th>titulo</th>\n",
       "      <th>n_ejercicio</th>\n",
       "      <th>dificultad</th>\n",
       "      <th>n_columnas</th>\n",
       "      <th>puntos</th>\n",
       "      <th>enun_tex</th>\n",
       "      <th>sol_tex</th>\n",
       "    </tr>\n",
       "  </thead>\n",
       "  <tbody>\n",
       "    <tr>\n",
       "      <th>68</th>\n",
       "      <td>\\log_{7}(x) = 2</td>\n",
       "      <td>Eq(log(x, 7), 2)</td>\n",
       "      <td>\\left [ 49\\right ]</td>\n",
       "      <td>Averigua el valor de x en los siguientes casos:</td>\n",
       "      <td>1BC</td>\n",
       "      <td>9 - Ecuaciones exponenciales y logarítmicas</td>\n",
       "      <td>p028e08</td>\n",
       "      <td>1</td>\n",
       "      <td>2</td>\n",
       "      <td>1</td>\n",
       "      <td>True</td>\n",
       "      <td>True</td>\n",
       "    </tr>\n",
       "    <tr>\n",
       "      <th>69</th>\n",
       "      <td>\\log_{8}(x) = \\frac{1}{3}</td>\n",
       "      <td>Eq(log(x, 8), 1/3)</td>\n",
       "      <td>\\left [ 2\\right ]</td>\n",
       "      <td>Averigua el valor de x en los siguientes casos:</td>\n",
       "      <td>1BC</td>\n",
       "      <td>9 - Ecuaciones exponenciales y logarítmicas</td>\n",
       "      <td>p028e08</td>\n",
       "      <td>1</td>\n",
       "      <td>2</td>\n",
       "      <td>1</td>\n",
       "      <td>True</td>\n",
       "      <td>True</td>\n",
       "    </tr>\n",
       "    <tr>\n",
       "      <th>70</th>\n",
       "      <td>\\log_{2}(\\frac{1}{16}) = x</td>\n",
       "      <td>Eq(log(1/16, 2), x)</td>\n",
       "      <td>\\left [ -4\\right ]</td>\n",
       "      <td>Averigua el valor de x en los siguientes casos:</td>\n",
       "      <td>1BC</td>\n",
       "      <td>9 - Ecuaciones exponenciales y logarítmicas</td>\n",
       "      <td>p028e08</td>\n",
       "      <td>1</td>\n",
       "      <td>2</td>\n",
       "      <td>1</td>\n",
       "      <td>True</td>\n",
       "      <td>True</td>\n",
       "    </tr>\n",
       "    <tr>\n",
       "      <th>71</th>\n",
       "      <td>\\log_{x}(125) = 3</td>\n",
       "      <td>Eq(log(125, x), 3)</td>\n",
       "      <td>\\left [ 5\\right ]</td>\n",
       "      <td>Averigua el valor de x en los siguientes casos:</td>\n",
       "      <td>1BC</td>\n",
       "      <td>9 - Ecuaciones exponenciales y logarítmicas</td>\n",
       "      <td>p028e08</td>\n",
       "      <td>1</td>\n",
       "      <td>2</td>\n",
       "      <td>1</td>\n",
       "      <td>True</td>\n",
       "      <td>True</td>\n",
       "    </tr>\n",
       "    <tr>\n",
       "      <th>72</th>\n",
       "      <td>\\log_{2}(64) = x</td>\n",
       "      <td>Eq(log(64, 2), x)</td>\n",
       "      <td>\\left [ 6\\right ]</td>\n",
       "      <td>Averigua el valor de x en los siguientes casos:</td>\n",
       "      <td>1BC</td>\n",
       "      <td>9 - Ecuaciones exponenciales y logarítmicas</td>\n",
       "      <td>p028e08</td>\n",
       "      <td>1</td>\n",
       "      <td>2</td>\n",
       "      <td>1</td>\n",
       "      <td>True</td>\n",
       "      <td>True</td>\n",
       "    </tr>\n",
       "    <tr>\n",
       "      <th>73</th>\n",
       "      <td>\\log_{x}(9) = 2</td>\n",
       "      <td>Eq(log(9, x), 2)</td>\n",
       "      <td>\\left [ 3\\right ]</td>\n",
       "      <td>Averigua el valor de x en los siguientes casos:</td>\n",
       "      <td>1BC</td>\n",
       "      <td>9 - Ecuaciones exponenciales y logarítmicas</td>\n",
       "      <td>p028e08</td>\n",
       "      <td>1</td>\n",
       "      <td>2</td>\n",
       "      <td>1</td>\n",
       "      <td>True</td>\n",
       "      <td>True</td>\n",
       "    </tr>\n",
       "    <tr>\n",
       "      <th>74</th>\n",
       "      <td>\\log_{2}(x) = -3</td>\n",
       "      <td>Eq(log(x, 2), -3)</td>\n",
       "      <td>\\left [ \\frac{1}{8}\\right ]</td>\n",
       "      <td>Averigua el valor de x en los siguientes casos:</td>\n",
       "      <td>1BC</td>\n",
       "      <td>9 - Ecuaciones exponenciales y logarítmicas</td>\n",
       "      <td>p028e08</td>\n",
       "      <td>1</td>\n",
       "      <td>2</td>\n",
       "      <td>1</td>\n",
       "      <td>True</td>\n",
       "      <td>True</td>\n",
       "    </tr>\n",
       "    <tr>\n",
       "      <th>75</th>\n",
       "      <td>\\log_{x}(5) + 2</td>\n",
       "      <td>log(5, x) + 2</td>\n",
       "      <td>\\left [ \\frac{\\sqrt{5}}{5}\\right ]</td>\n",
       "      <td>Averigua el valor de x en los siguientes casos:</td>\n",
       "      <td>1BC</td>\n",
       "      <td>9 - Ecuaciones exponenciales y logarítmicas</td>\n",
       "      <td>p028e08</td>\n",
       "      <td>1</td>\n",
       "      <td>2</td>\n",
       "      <td>1</td>\n",
       "      <td>True</td>\n",
       "      <td>True</td>\n",
       "    </tr>\n",
       "    <tr>\n",
       "      <th>76</th>\n",
       "      <td>\\log_{0.008}(625) = 2x</td>\n",
       "      <td>Eq(log(625, 0.008), 2*x)</td>\n",
       "      <td>\\left [ - \\frac{2}{3}\\right ]</td>\n",
       "      <td>Averigua el valor de x en los siguientes casos:</td>\n",
       "      <td>1BC</td>\n",
       "      <td>9 - Ecuaciones exponenciales y logarítmicas</td>\n",
       "      <td>p028e08</td>\n",
       "      <td>1</td>\n",
       "      <td>2</td>\n",
       "      <td>1</td>\n",
       "      <td>True</td>\n",
       "      <td>True</td>\n",
       "    </tr>\n",
       "  </tbody>\n",
       "</table>\n",
       "</div>"
      ],
      "text/plain": [
       "               enunciado_latex                 enunciado  \\\n",
       "68             \\log_{7}(x) = 2          Eq(log(x, 7), 2)   \n",
       "69   \\log_{8}(x) = \\frac{1}{3}        Eq(log(x, 8), 1/3)   \n",
       "70  \\log_{2}(\\frac{1}{16}) = x       Eq(log(1/16, 2), x)   \n",
       "71           \\log_{x}(125) = 3        Eq(log(125, x), 3)   \n",
       "72            \\log_{2}(64) = x         Eq(log(64, 2), x)   \n",
       "73             \\log_{x}(9) = 2          Eq(log(9, x), 2)   \n",
       "74            \\log_{2}(x) = -3         Eq(log(x, 2), -3)   \n",
       "75             \\log_{x}(5) + 2             log(5, x) + 2   \n",
       "76      \\log_{0.008}(625) = 2x  Eq(log(625, 0.008), 2*x)   \n",
       "\n",
       "                              solucion  \\\n",
       "68                  \\left [ 49\\right ]   \n",
       "69                   \\left [ 2\\right ]   \n",
       "70                  \\left [ -4\\right ]   \n",
       "71                   \\left [ 5\\right ]   \n",
       "72                   \\left [ 6\\right ]   \n",
       "73                   \\left [ 3\\right ]   \n",
       "74         \\left [ \\frac{1}{8}\\right ]   \n",
       "75  \\left [ \\frac{\\sqrt{5}}{5}\\right ]   \n",
       "76       \\left [ - \\frac{2}{3}\\right ]   \n",
       "\n",
       "                                              texto curso  \\\n",
       "68  Averigua el valor de x en los siguientes casos:   1BC   \n",
       "69  Averigua el valor de x en los siguientes casos:   1BC   \n",
       "70  Averigua el valor de x en los siguientes casos:   1BC   \n",
       "71  Averigua el valor de x en los siguientes casos:   1BC   \n",
       "72  Averigua el valor de x en los siguientes casos:   1BC   \n",
       "73  Averigua el valor de x en los siguientes casos:   1BC   \n",
       "74  Averigua el valor de x en los siguientes casos:   1BC   \n",
       "75  Averigua el valor de x en los siguientes casos:   1BC   \n",
       "76  Averigua el valor de x en los siguientes casos:   1BC   \n",
       "\n",
       "                                         titulo n_ejercicio  dificultad  \\\n",
       "68  9 - Ecuaciones exponenciales y logarítmicas     p028e08           1   \n",
       "69  9 - Ecuaciones exponenciales y logarítmicas     p028e08           1   \n",
       "70  9 - Ecuaciones exponenciales y logarítmicas     p028e08           1   \n",
       "71  9 - Ecuaciones exponenciales y logarítmicas     p028e08           1   \n",
       "72  9 - Ecuaciones exponenciales y logarítmicas     p028e08           1   \n",
       "73  9 - Ecuaciones exponenciales y logarítmicas     p028e08           1   \n",
       "74  9 - Ecuaciones exponenciales y logarítmicas     p028e08           1   \n",
       "75  9 - Ecuaciones exponenciales y logarítmicas     p028e08           1   \n",
       "76  9 - Ecuaciones exponenciales y logarítmicas     p028e08           1   \n",
       "\n",
       "    n_columnas  puntos  enun_tex  sol_tex  \n",
       "68           2       1      True     True  \n",
       "69           2       1      True     True  \n",
       "70           2       1      True     True  \n",
       "71           2       1      True     True  \n",
       "72           2       1      True     True  \n",
       "73           2       1      True     True  \n",
       "74           2       1      True     True  \n",
       "75           2       1      True     True  \n",
       "76           2       1      True     True  "
      ]
     },
     "metadata": {},
     "output_type": "display_data"
    },
    {
     "data": {
      "text/markdown": [
       "**Ejercicio: **p028e9"
      ],
      "text/plain": [
       "<IPython.core.display.Markdown object>"
      ]
     },
     "metadata": {},
     "output_type": "display_data"
    },
    {
     "data": {
      "text/html": [
       "<div>\n",
       "<style scoped>\n",
       "    .dataframe tbody tr th:only-of-type {\n",
       "        vertical-align: middle;\n",
       "    }\n",
       "\n",
       "    .dataframe tbody tr th {\n",
       "        vertical-align: top;\n",
       "    }\n",
       "\n",
       "    .dataframe thead th {\n",
       "        text-align: right;\n",
       "    }\n",
       "</style>\n",
       "<table border=\"1\" class=\"dataframe\">\n",
       "  <thead>\n",
       "    <tr style=\"text-align: right;\">\n",
       "      <th></th>\n",
       "      <th>enunciado_latex</th>\n",
       "      <th>enunciado</th>\n",
       "      <th>solucion</th>\n",
       "      <th>texto</th>\n",
       "      <th>curso</th>\n",
       "      <th>titulo</th>\n",
       "      <th>n_ejercicio</th>\n",
       "      <th>dificultad</th>\n",
       "      <th>n_columnas</th>\n",
       "      <th>puntos</th>\n",
       "      <th>enun_tex</th>\n",
       "      <th>sol_tex</th>\n",
       "    </tr>\n",
       "  </thead>\n",
       "  <tbody>\n",
       "    <tr>\n",
       "      <th>77</th>\n",
       "      <td>\\log(16)</td>\n",
       "      <td>log(16, 10)</td>\n",
       "      <td>1.20411998265592</td>\n",
       "      <td>Sabiendo que log 2 = 0,301030, calcula</td>\n",
       "      <td>1BC</td>\n",
       "      <td>9 - Ecuaciones exponenciales y logarítmicas</td>\n",
       "      <td>p028e9</td>\n",
       "      <td>1</td>\n",
       "      <td>4</td>\n",
       "      <td>1</td>\n",
       "      <td>True</td>\n",
       "      <td>True</td>\n",
       "    </tr>\n",
       "    <tr>\n",
       "      <th>78</th>\n",
       "      <td>\\log(64)</td>\n",
       "      <td>log(64, 10)</td>\n",
       "      <td>1.80617997398389</td>\n",
       "      <td>Sabiendo que log 2 = 0,301030, calcula</td>\n",
       "      <td>1BC</td>\n",
       "      <td>9 - Ecuaciones exponenciales y logarítmicas</td>\n",
       "      <td>p028e9</td>\n",
       "      <td>1</td>\n",
       "      <td>4</td>\n",
       "      <td>1</td>\n",
       "      <td>True</td>\n",
       "      <td>True</td>\n",
       "    </tr>\n",
       "    <tr>\n",
       "      <th>79</th>\n",
       "      <td>\\log(1024)</td>\n",
       "      <td>log(1024, 10)</td>\n",
       "      <td>3.01029995663981</td>\n",
       "      <td>Sabiendo que log 2 = 0,301030, calcula</td>\n",
       "      <td>1BC</td>\n",
       "      <td>9 - Ecuaciones exponenciales y logarítmicas</td>\n",
       "      <td>p028e9</td>\n",
       "      <td>1</td>\n",
       "      <td>4</td>\n",
       "      <td>1</td>\n",
       "      <td>True</td>\n",
       "      <td>True</td>\n",
       "    </tr>\n",
       "    <tr>\n",
       "      <th>80</th>\n",
       "      <td>\\log(\\frac{1}{2})</td>\n",
       "      <td>log(1/2, 10)</td>\n",
       "      <td>-0.301029995663981</td>\n",
       "      <td>Sabiendo que log 2 = 0,301030, calcula</td>\n",
       "      <td>1BC</td>\n",
       "      <td>9 - Ecuaciones exponenciales y logarítmicas</td>\n",
       "      <td>p028e9</td>\n",
       "      <td>1</td>\n",
       "      <td>4</td>\n",
       "      <td>1</td>\n",
       "      <td>True</td>\n",
       "      <td>True</td>\n",
       "    </tr>\n",
       "    <tr>\n",
       "      <th>81</th>\n",
       "      <td>\\log(\\frac{1}{16})</td>\n",
       "      <td>log(1/16, 10)</td>\n",
       "      <td>-1.20411998265592</td>\n",
       "      <td>Sabiendo que log 2 = 0,301030, calcula</td>\n",
       "      <td>1BC</td>\n",
       "      <td>9 - Ecuaciones exponenciales y logarítmicas</td>\n",
       "      <td>p028e9</td>\n",
       "      <td>1</td>\n",
       "      <td>4</td>\n",
       "      <td>1</td>\n",
       "      <td>True</td>\n",
       "      <td>True</td>\n",
       "    </tr>\n",
       "    <tr>\n",
       "      <th>82</th>\n",
       "      <td>\\log(5)</td>\n",
       "      <td>log(5, 10)</td>\n",
       "      <td>0.698970004336019</td>\n",
       "      <td>Sabiendo que log 2 = 0,301030, calcula</td>\n",
       "      <td>1BC</td>\n",
       "      <td>9 - Ecuaciones exponenciales y logarítmicas</td>\n",
       "      <td>p028e9</td>\n",
       "      <td>1</td>\n",
       "      <td>4</td>\n",
       "      <td>1</td>\n",
       "      <td>True</td>\n",
       "      <td>True</td>\n",
       "    </tr>\n",
       "    <tr>\n",
       "      <th>83</th>\n",
       "      <td>\\log(25)</td>\n",
       "      <td>log(25, 10)</td>\n",
       "      <td>1.39794000867204</td>\n",
       "      <td>Sabiendo que log 2 = 0,301030, calcula</td>\n",
       "      <td>1BC</td>\n",
       "      <td>9 - Ecuaciones exponenciales y logarítmicas</td>\n",
       "      <td>p028e9</td>\n",
       "      <td>1</td>\n",
       "      <td>4</td>\n",
       "      <td>1</td>\n",
       "      <td>True</td>\n",
       "      <td>True</td>\n",
       "    </tr>\n",
       "    <tr>\n",
       "      <th>84</th>\n",
       "      <td>\\log(0.0016)</td>\n",
       "      <td>log(0.0016, 10)</td>\n",
       "      <td>-2.79588001734407</td>\n",
       "      <td>Sabiendo que log 2 = 0,301030, calcula</td>\n",
       "      <td>1BC</td>\n",
       "      <td>9 - Ecuaciones exponenciales y logarítmicas</td>\n",
       "      <td>p028e9</td>\n",
       "      <td>1</td>\n",
       "      <td>4</td>\n",
       "      <td>1</td>\n",
       "      <td>True</td>\n",
       "      <td>True</td>\n",
       "    </tr>\n",
       "    <tr>\n",
       "      <th>85</th>\n",
       "      <td>\\log(\\sqrt[ 4 ]{\\frac{1}{{0.04}}} )</td>\n",
       "      <td>log(2.23606797749979, 10)</td>\n",
       "      <td>0.349485002168009</td>\n",
       "      <td>Sabiendo que log 2 = 0,301030, calcula</td>\n",
       "      <td>1BC</td>\n",
       "      <td>9 - Ecuaciones exponenciales y logarítmicas</td>\n",
       "      <td>p028e9</td>\n",
       "      <td>1</td>\n",
       "      <td>4</td>\n",
       "      <td>1</td>\n",
       "      <td>True</td>\n",
       "      <td>True</td>\n",
       "    </tr>\n",
       "    <tr>\n",
       "      <th>86</th>\n",
       "      <td>\\log{\\sqrt[ 3 ]{0.002}}</td>\n",
       "      <td>log(0.125992104989487, 10)</td>\n",
       "      <td>-0.899656668112007</td>\n",
       "      <td>Sabiendo que log 2 = 0,301030, calcula</td>\n",
       "      <td>1BC</td>\n",
       "      <td>9 - Ecuaciones exponenciales y logarítmicas</td>\n",
       "      <td>p028e9</td>\n",
       "      <td>1</td>\n",
       "      <td>4</td>\n",
       "      <td>1</td>\n",
       "      <td>True</td>\n",
       "      <td>True</td>\n",
       "    </tr>\n",
       "    <tr>\n",
       "      <th>87</th>\n",
       "      <td>\\log(0.025)</td>\n",
       "      <td>log(0.025, 10)</td>\n",
       "      <td>-1.60205999132796</td>\n",
       "      <td>Sabiendo que log 2 = 0,301030, calcula</td>\n",
       "      <td>1BC</td>\n",
       "      <td>9 - Ecuaciones exponenciales y logarítmicas</td>\n",
       "      <td>p028e9</td>\n",
       "      <td>1</td>\n",
       "      <td>4</td>\n",
       "      <td>1</td>\n",
       "      <td>True</td>\n",
       "      <td>True</td>\n",
       "    </tr>\n",
       "    <tr>\n",
       "      <th>88</th>\n",
       "      <td>\\log(\\sqrt[ 4 ]{\\frac{1}{{1024}}} )</td>\n",
       "      <td>log(sqrt(2)/8, 10)</td>\n",
       "      <td>-0.752574989159953</td>\n",
       "      <td>Sabiendo que log 2 = 0,301030, calcula</td>\n",
       "      <td>1BC</td>\n",
       "      <td>9 - Ecuaciones exponenciales y logarítmicas</td>\n",
       "      <td>p028e9</td>\n",
       "      <td>1</td>\n",
       "      <td>4</td>\n",
       "      <td>1</td>\n",
       "      <td>True</td>\n",
       "      <td>True</td>\n",
       "    </tr>\n",
       "  </tbody>\n",
       "</table>\n",
       "</div>"
      ],
      "text/plain": [
       "                        enunciado_latex                   enunciado  \\\n",
       "77                             \\log(16)                 log(16, 10)   \n",
       "78                             \\log(64)                 log(64, 10)   \n",
       "79                           \\log(1024)               log(1024, 10)   \n",
       "80                    \\log(\\frac{1}{2})                log(1/2, 10)   \n",
       "81                   \\log(\\frac{1}{16})               log(1/16, 10)   \n",
       "82                              \\log(5)                  log(5, 10)   \n",
       "83                             \\log(25)                 log(25, 10)   \n",
       "84                         \\log(0.0016)             log(0.0016, 10)   \n",
       "85  \\log(\\sqrt[ 4 ]{\\frac{1}{{0.04}}} )   log(2.23606797749979, 10)   \n",
       "86              \\log{\\sqrt[ 3 ]{0.002}}  log(0.125992104989487, 10)   \n",
       "87                          \\log(0.025)              log(0.025, 10)   \n",
       "88  \\log(\\sqrt[ 4 ]{\\frac{1}{{1024}}} )          log(sqrt(2)/8, 10)   \n",
       "\n",
       "              solucion                                   texto curso  \\\n",
       "77    1.20411998265592  Sabiendo que log 2 = 0,301030, calcula   1BC   \n",
       "78    1.80617997398389  Sabiendo que log 2 = 0,301030, calcula   1BC   \n",
       "79    3.01029995663981  Sabiendo que log 2 = 0,301030, calcula   1BC   \n",
       "80  -0.301029995663981  Sabiendo que log 2 = 0,301030, calcula   1BC   \n",
       "81   -1.20411998265592  Sabiendo que log 2 = 0,301030, calcula   1BC   \n",
       "82   0.698970004336019  Sabiendo que log 2 = 0,301030, calcula   1BC   \n",
       "83    1.39794000867204  Sabiendo que log 2 = 0,301030, calcula   1BC   \n",
       "84   -2.79588001734407  Sabiendo que log 2 = 0,301030, calcula   1BC   \n",
       "85   0.349485002168009  Sabiendo que log 2 = 0,301030, calcula   1BC   \n",
       "86  -0.899656668112007  Sabiendo que log 2 = 0,301030, calcula   1BC   \n",
       "87   -1.60205999132796  Sabiendo que log 2 = 0,301030, calcula   1BC   \n",
       "88  -0.752574989159953  Sabiendo que log 2 = 0,301030, calcula   1BC   \n",
       "\n",
       "                                         titulo n_ejercicio  dificultad  \\\n",
       "77  9 - Ecuaciones exponenciales y logarítmicas      p028e9           1   \n",
       "78  9 - Ecuaciones exponenciales y logarítmicas      p028e9           1   \n",
       "79  9 - Ecuaciones exponenciales y logarítmicas      p028e9           1   \n",
       "80  9 - Ecuaciones exponenciales y logarítmicas      p028e9           1   \n",
       "81  9 - Ecuaciones exponenciales y logarítmicas      p028e9           1   \n",
       "82  9 - Ecuaciones exponenciales y logarítmicas      p028e9           1   \n",
       "83  9 - Ecuaciones exponenciales y logarítmicas      p028e9           1   \n",
       "84  9 - Ecuaciones exponenciales y logarítmicas      p028e9           1   \n",
       "85  9 - Ecuaciones exponenciales y logarítmicas      p028e9           1   \n",
       "86  9 - Ecuaciones exponenciales y logarítmicas      p028e9           1   \n",
       "87  9 - Ecuaciones exponenciales y logarítmicas      p028e9           1   \n",
       "88  9 - Ecuaciones exponenciales y logarítmicas      p028e9           1   \n",
       "\n",
       "    n_columnas  puntos  enun_tex  sol_tex  \n",
       "77           4       1      True     True  \n",
       "78           4       1      True     True  \n",
       "79           4       1      True     True  \n",
       "80           4       1      True     True  \n",
       "81           4       1      True     True  \n",
       "82           4       1      True     True  \n",
       "83           4       1      True     True  \n",
       "84           4       1      True     True  \n",
       "85           4       1      True     True  \n",
       "86           4       1      True     True  \n",
       "87           4       1      True     True  \n",
       "88           4       1      True     True  "
      ]
     },
     "metadata": {},
     "output_type": "display_data"
    }
   ],
   "source": [
    "escribir_preambulo(fichero, titulo, 'ejercicios')\n",
    "for s in df_ejercicios.groupby('n_ejercicio').count().index : \n",
    "    display(md(\"**Ejercicio: **\" + s ))\n",
    "    display(df_ejercicios[df_ejercicios.n_ejercicio == s])\n",
    "    escribir_ejercicios(df_ejercicios[df_ejercicios.n_ejercicio == s],fichero)\n",
    "\n",
    "escribir_fin(fichero)"
   ]
  }
 ],
 "metadata": {
  "kernelspec": {
   "display_name": "Python 3",
   "language": "python",
   "name": "python3"
  },
  "language_info": {
   "codemirror_mode": {
    "name": "ipython",
    "version": 3
   },
   "file_extension": ".py",
   "mimetype": "text/x-python",
   "name": "python",
   "nbconvert_exporter": "python",
   "pygments_lexer": "ipython3",
   "version": "3.6.5"
  }
 },
 "nbformat": 4,
 "nbformat_minor": 2
}
