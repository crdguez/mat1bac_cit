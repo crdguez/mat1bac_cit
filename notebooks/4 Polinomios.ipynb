{
 "cells": [
  {
   "cell_type": "markdown",
   "metadata": {},
   "source": [
    "<a href=\"https://colab.research.google.com/github/crdguez/mat1bac_cit/blob/master/notebooks/Ejercicios1_3.ipynb\"><img align=\"left\" src=\"https://colab.research.google.com/assets/colab-badge.svg\" alt=\"Open in Colab\" title=\"Open and Execute in Google Colaboratory\"></a>"
   ]
  },
  {
   "cell_type": "code",
   "execution_count": 38,
   "metadata": {},
   "outputs": [
    {
     "name": "stdout",
     "output_type": "stream",
     "text": [
      "IPython console for SymPy 1.2 (Python 3.6.5-64-bit) (ground types: gmpy)\n",
      "\n",
      "These commands were executed:\n",
      ">>> from __future__ import division\n",
      ">>> from sympy import *\n",
      ">>> x, y, z, t = symbols('x y z t')\n",
      ">>> k, m, n = symbols('k m n', integer=True)\n",
      ">>> f, g, h = symbols('f g h', cls=Function)\n",
      ">>> init_printing()\n",
      "\n",
      "Documentation can be found at http://docs.sympy.org/1.2/\n",
      "\n"
     ]
    }
   ],
   "source": [
    "from sympy import init_session\n",
    "from sympy import div, QQ\n",
    "from sympy.parsing.latex import parse_latex\n",
    "from sympy.parsing.sympy_parser import parse_expr\n",
    "#from sympy.functions.combinatorial.numbers import nC, nP, nT\n",
    "from IPython.display import Markdown as md\n",
    "from IPython.display import display\n",
    "import pandas as pd\n",
    "\n",
    "init_session()\n",
    "\n",
    "a, b, c, d = symbols('a b c d', real = True)\n",
    "from docparts import añadir_ejercicios, doc_ejer, escribir_preambulo, escribir_ejercicios, escribir_fin\n",
    "\n",
    "df_ejercicios = pd.DataFrame()\n",
    "\n",
    "fichero = 'polinomios.tex'\n",
    "titulo = '4 - Polinomios'\n",
    "curso = '1BC'\n",
    "\n"
   ]
  },
  {
   "cell_type": "code",
   "execution_count": 15,
   "metadata": {},
   "outputs": [
    {
     "data": {
      "text/markdown": [
       "Dados los polinomios $ A(x)=2{x^3} - 5{x^2} + 6, B(x)- \\frac{1}{2}{x^5} - {x^4} + 6x$ halla:"
      ],
      "text/plain": [
       "<IPython.core.display.Markdown object>"
      ]
     },
     "metadata": {},
     "output_type": "display_data"
    },
    {
     "data": {
      "text/markdown": [
       "$A(x) + B(x) \\rightarrow - \\frac{x^{5}}{2} - x^{4} + 2 x^{3} - 5 x^{2} + 6 x + 6$"
      ],
      "text/plain": [
       "<IPython.core.display.Markdown object>"
      ]
     },
     "metadata": {},
     "output_type": "display_data"
    },
    {
     "data": {
      "text/markdown": [
       "$A(x) - B(x) \\rightarrow \\frac{x^{5}}{2} + x^{4} + 2 x^{3} - 5 x^{2} - 6 x + 6$"
      ],
      "text/plain": [
       "<IPython.core.display.Markdown object>"
      ]
     },
     "metadata": {},
     "output_type": "display_data"
    }
   ],
   "source": [
    "# Página 12 ejercicios 3\n",
    "\n",
    "\n",
    "A = r'2{x^3} - 5{x^2} + 6'\n",
    "B = r'- \\frac{1}{2}{x^5} - {x^4} + 6x'\n",
    "\n",
    "\n",
    "\n",
    "texto_ejercicio = r'Dados los polinomios $ A(x)=' + A +\", B(x)\" + B +r'$ halla:'\n",
    "\n",
    "n_ejercicio = 'p12e3'\n",
    "\n",
    "display(md(\"\"+texto_ejercicio+\"\"))\n",
    "\n",
    "\n",
    "enunciado_latex = [r'A(x) + B(x)', r'A(x) - B(x)'\n",
    "                  ]\n",
    "enunciado, solucion = [], [latex(parse_latex(A)+parse_latex(B)), latex(parse_latex(A)-parse_latex(B))]\n",
    "\n",
    "solucion[0]\n",
    "\n",
    "for i, s  in enumerate(enunciado_latex) :\n",
    "    display(md(\"$\"+ s +\" \\\\rightarrow \" + solucion[i]+\"$\"))\n",
    "    enunciado.append(parse_latex(s))\n",
    "     \n",
    "\n",
    "df_ejercicios = df_ejercicios.append(añadir_ejercicios(enunciado_latex, enunciado, solucion, texto_ejercicio, curso, titulo, n_ejercicio), ignore_index=True)\n"
   ]
  },
  {
   "cell_type": "code",
   "execution_count": 16,
   "metadata": {},
   "outputs": [
    {
     "data": {
      "text/markdown": [
       "Dados los polinomios $ A(x)=3{x^3} - 6{x^2} + 2x - 1, B(x)- {x^4} + {x^3} + x - 6, C(x){x^4} - {x^2} + x + \\frac{1}{2}$ halla:"
      ],
      "text/plain": [
       "<IPython.core.display.Markdown object>"
      ]
     },
     "metadata": {},
     "output_type": "display_data"
    },
    {
     "data": {
      "text/markdown": [
       "$A(x) \\cdot B(x) \\rightarrow - 3 x^{7} + 9 x^{6} - 8 x^{5} + 6 x^{4} - 25 x^{3} + 38 x^{2} - 13 x + 6$"
      ],
      "text/plain": [
       "<IPython.core.display.Markdown object>"
      ]
     },
     "metadata": {},
     "output_type": "display_data"
    },
    {
     "data": {
      "text/markdown": [
       "$A(x) - 3B(x) + 5C(x) \\rightarrow 8 x^{4} - 11 x^{2} + 4 x + \\frac{39}{2}$"
      ],
      "text/plain": [
       "<IPython.core.display.Markdown object>"
      ]
     },
     "metadata": {},
     "output_type": "display_data"
    },
    {
     "data": {
      "text/markdown": [
       "$x^2\\cdot A(x) + 3x\\cdot B(x) \\rightarrow - 3 x^{4} + 2 x^{3} + 2 x^{2} - 18 x$"
      ],
      "text/plain": [
       "<IPython.core.display.Markdown object>"
      ]
     },
     "metadata": {},
     "output_type": "display_data"
    }
   ],
   "source": [
    "# Página 12 ejercicios 4\n",
    "\n",
    "\n",
    "A = r'3{x^3} - 6{x^2} + 2x - 1'\n",
    "B = r'- {x^4} + {x^3} + x - 6'\n",
    "C = r'{x^4} - {x^2} + x + \\frac{1}{2}'\n",
    "\n",
    "\n",
    "texto_ejercicio = r'Dados los polinomios $ A(x)=' + A +\", B(x)\" + B +\", C(x)\"+ C +r'$ halla:'\n",
    "\n",
    "n_ejercicio = 'p12e4'\n",
    "\n",
    "display(md(\"\"+texto_ejercicio+\"\"))\n",
    "\n",
    "\n",
    "enunciado_latex = [r'A(x) \\cdot B(x)', \n",
    "                   r'A(x) - 3B(x) + 5C(x)',\n",
    "                   r'x^2\\cdot A(x) + 3x\\cdot B(x)'\n",
    "                  ]\n",
    "enunciado, solucion = [], [latex(expand(simplify(parse_latex(A) * parse_latex(B)))),\n",
    "                           latex(expand(simplify(parse_latex(A) - 3 * parse_latex(B) + 5 * parse_latex(C)))),\n",
    "                          latex(expand(simplify(x**2*parse_latex(A) + 3*x*parse_latex(B) )))]\n",
    "\n",
    "\n",
    "\n",
    "solucion[0]\n",
    "\n",
    "for i, s  in enumerate(enunciado_latex) :\n",
    "    display(md(\"$\"+ s +\" \\\\rightarrow \" + solucion[i]+\"$\"))\n",
    "    enunciado.append(parse_latex(s))\n",
    "     \n",
    "\n",
    "df_ejercicios = df_ejercicios.append(añadir_ejercicios(enunciado_latex, enunciado, solucion, texto_ejercicio, curso, titulo, n_ejercicio), ignore_index=True)\n"
   ]
  },
  {
   "cell_type": "code",
   "execution_count": 69,
   "metadata": {},
   "outputs": [
    {
     "data": {
      "text/markdown": [
       "**Halla el cociente y el resto de:**"
      ],
      "text/plain": [
       "<IPython.core.display.Markdown object>"
      ]
     },
     "metadata": {},
     "output_type": "display_data"
    },
    {
     "data": {
      "text/markdown": [
       "$( {5{x^4} - 7{x^2} + 6x + 1} ): ( {3{x^2}} ) \\rightarrow \\left ( \\frac{5 x^{2}}{3} - \\frac{7}{3}, \\quad 6 x + 1\\right )$"
      ],
      "text/plain": [
       "<IPython.core.display.Markdown object>"
      ]
     },
     "metadata": {},
     "output_type": "display_data"
    }
   ],
   "source": [
    "# Página 12 ejercicio 7\n",
    "\n",
    "texto_ejercicio = 'Halla el cociente y el resto de:'\n",
    "n_ejercicio = 'p12e7'\n",
    "\n",
    "display(md(\"**\"+texto_ejercicio+\"**\"))\n",
    "\n",
    "pre_enunciado_latex = [[r'( {5{x^4} - 7{x^2} + 6x + 1} )', r'( {3{x^2}} )']\n",
    "                 ]\n",
    "enunciado_latex, enunciado, solucion = [], [], []\n",
    "for i, s in enumerate(pre_enunciado_latex) :\n",
    "    display(md(\"$\"+ s[0] + \": \" + s[1]+ \" \\\\rightarrow \" +latex(div(simplify(expand(parse_latex(s[0]))),simplify(expand(parse_latex(s[1]))))) +\"$\"))\n",
    "    enunciado_latex.append(s[0]+\":\"+s[1])\n",
    "    enunciado.append(parse_latex(s[0])/parse_latex(s[1]))\n",
    "    solucion.append(latex(div(simplify(expand(parse_latex(s[0]))),simplify(expand(parse_latex(s[1])))))) \n",
    "    \n",
    "df_ejercicios = df_ejercicios.append(añadir_ejercicios(enunciado_latex, enunciado, solucion, texto_ejercicio, curso, titulo, n_ejercicio), ignore_index=True)\n",
    "  "
   ]
  },
  {
   "cell_type": "code",
   "execution_count": 60,
   "metadata": {},
   "outputs": [
    {
     "data": {
      "text/plain": [
       "'\\\\left ( \\\\frac{5 x^{2}}{3} - \\\\frac{7}{3}, \\\\quad 6 x + 1\\\\right )'"
      ]
     },
     "execution_count": 60,
     "metadata": {},
     "output_type": "execute_result"
    }
   ],
   "source": [
    "latex(div(simplify(expand(parse_latex(enunciado_latex[0][0]))),simplify(expand(parse_latex(enunciado_latex[0][1])))))"
   ]
  },
  {
   "cell_type": "code",
   "execution_count": 4,
   "metadata": {},
   "outputs": [
    {
     "data": {
      "text/markdown": [
       "**Resuelve las siguientes ecuaciones:**"
      ],
      "text/plain": [
       "<IPython.core.display.Markdown object>"
      ]
     },
     "metadata": {},
     "output_type": "display_data"
    },
    {
     "data": {
      "text/markdown": [
       "$x^4 = 81 \\rightarrow\\left\\{-3, 3\\right\\}$"
      ],
      "text/plain": [
       "<IPython.core.display.Markdown object>"
      ]
     },
     "metadata": {},
     "output_type": "display_data"
    },
    {
     "data": {
      "text/markdown": [
       "$x^3 = 125 \\rightarrow\\left\\{5\\right\\}$"
      ],
      "text/plain": [
       "<IPython.core.display.Markdown object>"
      ]
     },
     "metadata": {},
     "output_type": "display_data"
    },
    {
     "data": {
      "text/markdown": [
       "$x^2 = -6 \\rightarrow\\emptyset$"
      ],
      "text/plain": [
       "<IPython.core.display.Markdown object>"
      ]
     },
     "metadata": {},
     "output_type": "display_data"
    },
    {
     "data": {
      "text/markdown": [
       "$x^5 = -1 \\rightarrow\\left\\{-1\\right\\}$"
      ],
      "text/plain": [
       "<IPython.core.display.Markdown object>"
      ]
     },
     "metadata": {},
     "output_type": "display_data"
    }
   ],
   "source": [
    "# Página 6 ejercicios 14\n",
    "\n",
    "texto_ejercicio = 'Resuelve las siguientes ecuaciones:'\n",
    "n_ejercicio = 'p6e14'\n",
    "\n",
    "display(md(\"**\"+texto_ejercicio+\"**\"))\n",
    "\n",
    "enunciado_latex = [r'x^4 = 81',\n",
    "                   r'x^3 = 125',\n",
    "                   r'x^2 = -6',\n",
    "                   r'x^5 = -1'\n",
    "                  ]\n",
    "enunciado, solucion = [], []\n",
    "x = Symbol('x')\n",
    "\n",
    "for s in enunciado_latex :\n",
    "    display(md(\"$\"+ s +\" \\\\rightarrow\" + latex(solveset(parse_latex(s), domain=S.Reals))+\"$\"))\n",
    "    enunciado.append(parse_latex(s))\n",
    "    solucion.append(latex(simplify(parse_latex(s))))\n",
    "\n",
    "df_ejercicios = df_ejercicios.append(añadir_ejercicios(enunciado_latex, enunciado, solucion, texto_ejercicio, curso, titulo, n_ejercicio), ignore_index=True)\n"
   ]
  },
  {
   "cell_type": "code",
   "execution_count": 5,
   "metadata": {},
   "outputs": [
    {
     "data": {
      "text/markdown": [
       "**Calcula y expresa el resultado de la forma más simple:**"
      ],
      "text/plain": [
       "<IPython.core.display.Markdown object>"
      ]
     },
     "metadata": {},
     "output_type": "display_data"
    },
    {
     "data": {
      "text/markdown": [
       "$\\sqrt {27}  \\cdot \\sqrt {243}  \\cdot \\sqrt {81} \\rightarrow729$"
      ],
      "text/plain": [
       "<IPython.core.display.Markdown object>"
      ]
     },
     "metadata": {},
     "output_type": "display_data"
    },
    {
     "data": {
      "text/markdown": [
       "$\\frac{{\\sqrt[3] {625} }}{{\\sqrt[3] {5}  }} \\rightarrow5$"
      ],
      "text/plain": [
       "<IPython.core.display.Markdown object>"
      ]
     },
     "metadata": {},
     "output_type": "display_data"
    },
    {
     "data": {
      "text/markdown": [
       "$({\\sqrt[3]{5}})^7 \\rightarrow25 \\sqrt[3]{5}$"
      ],
      "text/plain": [
       "<IPython.core.display.Markdown object>"
      ]
     },
     "metadata": {},
     "output_type": "display_data"
    },
    {
     "data": {
      "text/markdown": [
       "$\\sqrt[3]{\\sqrt{8}} \\rightarrow\\sqrt{2}$"
      ],
      "text/plain": [
       "<IPython.core.display.Markdown object>"
      ]
     },
     "metadata": {},
     "output_type": "display_data"
    }
   ],
   "source": [
    "# Página 6 ejercicios 15\n",
    "\n",
    "texto_ejercicio = 'Calcula y expresa el resultado de la forma más simple:'\n",
    "n_ejercicio = 'p6e15'\n",
    "\n",
    "display(md(\"**\"+texto_ejercicio+\"**\"))\n",
    "\n",
    "enunciado_latex = [r'\\sqrt {27}  \\cdot \\sqrt {243}  \\cdot \\sqrt {81}',\n",
    "                  r'\\frac{{\\sqrt[3] {625} }}{{\\sqrt[3] {5}  }}',\n",
    "                  r'({\\sqrt[3]{5}})^7',\n",
    "                  r'\\sqrt[3]{\\sqrt{8}}']\n",
    "enunciado, solucion = [], []\n",
    "for s in enunciado_latex :\n",
    "    display(md(\"$\"+ s +\" \\\\rightarrow\" + latex(simplify(parse_latex(s)))+\"$\"))\n",
    "    enunciado.append(parse_latex(s))\n",
    "    solucion.append(latex(simplify(parse_latex(s)))) \n",
    "\n",
    "df_ejercicios = df_ejercicios.append(añadir_ejercicios(enunciado_latex, enunciado, solucion, texto_ejercicio, curso, titulo, n_ejercicio), ignore_index=True)\n"
   ]
  },
  {
   "cell_type": "code",
   "execution_count": 6,
   "metadata": {},
   "outputs": [
    {
     "data": {
      "text/markdown": [
       "**Extrae factores fuera del signo radical en:**"
      ],
      "text/plain": [
       "<IPython.core.display.Markdown object>"
      ]
     },
     "metadata": {},
     "output_type": "display_data"
    },
    {
     "data": {
      "text/markdown": [
       "$\\sqrt {512} \\rightarrow 16 \\sqrt{2}$"
      ],
      "text/plain": [
       "<IPython.core.display.Markdown object>"
      ]
     },
     "metadata": {},
     "output_type": "display_data"
    },
    {
     "data": {
      "text/markdown": [
       "$\\sqrt[3]{11664} \\rightarrow 18 \\sqrt[3]{2}$"
      ],
      "text/plain": [
       "<IPython.core.display.Markdown object>"
      ]
     },
     "metadata": {},
     "output_type": "display_data"
    },
    {
     "data": {
      "text/markdown": [
       "$\\sqrt[4]{48} \\rightarrow 2 \\sqrt[4]{3}$"
      ],
      "text/plain": [
       "<IPython.core.display.Markdown object>"
      ]
     },
     "metadata": {},
     "output_type": "display_data"
    },
    {
     "data": {
      "text/markdown": [
       "$\\sqrt{a^5\\cdot b^3} \\rightarrow \\sqrt{a^{5} b^{3}}$"
      ],
      "text/plain": [
       "<IPython.core.display.Markdown object>"
      ]
     },
     "metadata": {},
     "output_type": "display_data"
    }
   ],
   "source": [
    "# Página 6 ejercicios 16\n",
    "\n",
    "\n",
    "texto_ejercicio = 'Extrae factores fuera del signo radical en:'\n",
    "n_ejercicio = 'p6e16'\n",
    "\n",
    "display(md(\"**\"+texto_ejercicio+\"**\"))\n",
    "\n",
    "enunciado_latex = [r'\\sqrt {512}',\n",
    "                  r'\\sqrt[3]{11664}',\n",
    "                  r'\\sqrt[4]{48}',\n",
    "                  r'\\sqrt{a^5\\cdot b^3}'\n",
    "                  ]\n",
    "enunciado, solucion = [], []\n",
    "for s in enunciado_latex :\n",
    "    display(md(\"$\"+ s +\" \\\\rightarrow \" + latex(simplify(parse_latex(s)))+\"$\"))\n",
    "    enunciado.append(parse_latex(s))\n",
    "    solucion.append(latex(simplify(parse_latex(s)))) \n",
    "    \n",
    "df_ejercicios = df_ejercicios.append(añadir_ejercicios(enunciado_latex, enunciado, solucion, texto_ejercicio, curso, titulo, n_ejercicio), ignore_index=True)\n",
    "    "
   ]
  },
  {
   "cell_type": "code",
   "execution_count": 7,
   "metadata": {},
   "outputs": [
    {
     "data": {
      "text/markdown": [
       "**Calcula y expresa el resultado como potencia de exponente racional:**"
      ],
      "text/plain": [
       "<IPython.core.display.Markdown object>"
      ]
     },
     "metadata": {},
     "output_type": "display_data"
    },
    {
     "data": {
      "text/markdown": [
       "$\\sqrt{a}  \\cdot \\sqrt[5]{a} \\cdot \\sqrt[6]{a} \\rightarrow a^{\\frac{13}{15}}$"
      ],
      "text/plain": [
       "<IPython.core.display.Markdown object>"
      ]
     },
     "metadata": {},
     "output_type": "display_data"
    },
    {
     "data": {
      "text/markdown": [
       "$\\sqrt[3]{\\sqrt{a} } \\rightarrow \\sqrt[6]{a}$"
      ],
      "text/plain": [
       "<IPython.core.display.Markdown object>"
      ]
     },
     "metadata": {},
     "output_type": "display_data"
    },
    {
     "data": {
      "text/markdown": [
       "$\\frac{{\\sqrt[3]{a} 3}}{{\\sqrt{a}}} \\rightarrow \\frac{3}{\\sqrt[6]{a}}$"
      ],
      "text/plain": [
       "<IPython.core.display.Markdown object>"
      ]
     },
     "metadata": {},
     "output_type": "display_data"
    },
    {
     "data": {
      "text/markdown": [
       "$\\sqrt {\\sqrt {\\sqrt {2} } } \\rightarrow \\sqrt[8]{2}$"
      ],
      "text/plain": [
       "<IPython.core.display.Markdown object>"
      ]
     },
     "metadata": {},
     "output_type": "display_data"
    },
    {
     "data": {
      "text/markdown": [
       "$\\sqrt {a\\sqrt[3]{a} } \\rightarrow \\sqrt{a^{\\frac{4}{3}}}$"
      ],
      "text/plain": [
       "<IPython.core.display.Markdown object>"
      ]
     },
     "metadata": {},
     "output_type": "display_data"
    },
    {
     "data": {
      "text/markdown": [
       "$\\frac{{\\sqrt[5]{a}  \\cdot \\sqrt {a} }}{{{a^{\\frac{1}{3}}}}} \\rightarrow a^{\\frac{11}{30}}$"
      ],
      "text/plain": [
       "<IPython.core.display.Markdown object>"
      ]
     },
     "metadata": {},
     "output_type": "display_data"
    }
   ],
   "source": [
    "# Página 6 ejercicios 17\n",
    "\n",
    "\n",
    "texto_ejercicio = 'Calcula y expresa el resultado como potencia de exponente racional:'\n",
    "n_ejercicio = 'p6e17'\n",
    "\n",
    "display(md(\"**\"+texto_ejercicio+\"**\"))\n",
    "\n",
    "enunciado_latex = [r'\\sqrt{a}  \\cdot \\sqrt[5]{a} \\cdot \\sqrt[6]{a}' ,\n",
    "                   r'\\sqrt[3]{\\sqrt{a} }',\n",
    "                   r'\\frac{{\\sqrt[3]{a} 3}}{{\\sqrt{a}}}',\n",
    "                   r'\\sqrt {\\sqrt {\\sqrt {2} } }',\n",
    "                   r'\\sqrt {a\\sqrt[3]{a} }',\n",
    "                   r'\\frac{{\\sqrt[5]{a}  \\cdot \\sqrt {a} }}{{{a^{\\frac{1}{3}}}}}'\n",
    "                  ]\n",
    "enunciado, solucion = [], []\n",
    "for s in enunciado_latex :\n",
    "    display(md(\"$\"+ s +\" \\\\rightarrow \" + latex(simplify(parse_latex(s)))+\"$\"))\n",
    "    enunciado.append(parse_latex(s))\n",
    "    solucion.append(latex(simplify(parse_latex(s)))) \n",
    "\n",
    "df_ejercicios = df_ejercicios.append(añadir_ejercicios(enunciado_latex, enunciado, solucion, texto_ejercicio, curso, titulo, n_ejercicio), ignore_index=True)\n",
    "\n",
    "    "
   ]
  },
  {
   "cell_type": "code",
   "execution_count": 8,
   "metadata": {},
   "outputs": [
    {
     "data": {
      "text/markdown": [
       "**Calcula:**"
      ],
      "text/plain": [
       "<IPython.core.display.Markdown object>"
      ]
     },
     "metadata": {},
     "output_type": "display_data"
    },
    {
     "data": {
      "text/markdown": [
       "$4\\sqrt {3125}  + 2\\sqrt {20}  - 30\\sqrt {45} \\rightarrow 14 \\sqrt{5}$"
      ],
      "text/plain": [
       "<IPython.core.display.Markdown object>"
      ]
     },
     "metadata": {},
     "output_type": "display_data"
    },
    {
     "data": {
      "text/markdown": [
       "$\\frac{1}{4}\\sqrt {3125}  - 2\\sqrt {20}  - \\frac{3}{2}\\sqrt {45} \\rightarrow - \\frac{9 \\sqrt{5}}{4}$"
      ],
      "text/plain": [
       "<IPython.core.display.Markdown object>"
      ]
     },
     "metadata": {},
     "output_type": "display_data"
    }
   ],
   "source": [
    "# Página 6 ejercicios 18\n",
    "\n",
    "\n",
    "texto_ejercicio = 'Calcula:'\n",
    "n_ejercicio = 'p6e18'\n",
    "\n",
    "display(md(\"**\"+texto_ejercicio+\"**\"))\n",
    "\n",
    "enunciado_latex = [r'4\\sqrt {3125}  + 2\\sqrt {20}  - 30\\sqrt {45}',\n",
    "                   r'\\frac{1}{4}\\sqrt {3125}  - 2\\sqrt {20}  - \\frac{3}{2}\\sqrt {45}'\n",
    "                  ]\n",
    "enunciado, solucion = [], []\n",
    "for s in enunciado_latex :\n",
    "    display(md(\"$\"+ s +\" \\\\rightarrow \" + latex(simplify(parse_latex(s)))+\"$\"))\n",
    "    enunciado.append(parse_latex(s))\n",
    "    solucion.append(latex(simplify(parse_latex(s)))) \n",
    "\n",
    "df_ejercicios = df_ejercicios.append(añadir_ejercicios(enunciado_latex, enunciado, solucion, texto_ejercicio, curso, titulo, n_ejercicio), ignore_index=True)\n",
    "\n",
    "    "
   ]
  },
  {
   "cell_type": "code",
   "execution_count": 9,
   "metadata": {},
   "outputs": [
    {
     "data": {
      "text/markdown": [
       "**Racionaliza:**"
      ],
      "text/plain": [
       "<IPython.core.display.Markdown object>"
      ]
     },
     "metadata": {},
     "output_type": "display_data"
    },
    {
     "data": {
      "text/markdown": [
       "$\\frac{3}{{2\\sqrt {6} }} \\rightarrow \\frac{\\sqrt{6}}{4}$"
      ],
      "text/plain": [
       "<IPython.core.display.Markdown object>"
      ]
     },
     "metadata": {},
     "output_type": "display_data"
    },
    {
     "data": {
      "text/markdown": [
       "$\\frac{5}{{\\sqrt{2} }} \\rightarrow \\frac{5 \\sqrt{2}}{2}$"
      ],
      "text/plain": [
       "<IPython.core.display.Markdown object>"
      ]
     },
     "metadata": {},
     "output_type": "display_data"
    },
    {
     "data": {
      "text/markdown": [
       "$\\frac{2}{{3\\sqrt[3]{ 2} }} \\rightarrow \\frac{2^{\\frac{2}{3}}}{3}$"
      ],
      "text/plain": [
       "<IPython.core.display.Markdown object>"
      ]
     },
     "metadata": {},
     "output_type": "display_data"
    },
    {
     "data": {
      "text/markdown": [
       "$\\frac{2}{{5\\sqrt[5]{ 2} }} \\rightarrow \\frac{2^{\\frac{4}{5}}}{5}$"
      ],
      "text/plain": [
       "<IPython.core.display.Markdown object>"
      ]
     },
     "metadata": {},
     "output_type": "display_data"
    },
    {
     "data": {
      "text/markdown": [
       "$\\frac{6}{{\\sqrt {5}  + \\sqrt {2} }} \\rightarrow - 2 \\sqrt{2} + 2 \\sqrt{5}$"
      ],
      "text/plain": [
       "<IPython.core.display.Markdown object>"
      ]
     },
     "metadata": {},
     "output_type": "display_data"
    },
    {
     "data": {
      "text/markdown": [
       "$\\frac{5}{{2 - \\sqrt {6} }} \\rightarrow \\frac{- 5 \\sqrt{6} - 10}{2}$"
      ],
      "text/plain": [
       "<IPython.core.display.Markdown object>"
      ]
     },
     "metadata": {},
     "output_type": "display_data"
    }
   ],
   "source": [
    "# Página 6 ejercicios 19\n",
    "\n",
    "\n",
    "texto_ejercicio = 'Racionaliza:'\n",
    "n_ejercicio = 'p6e19'\n",
    "\n",
    "display(md(\"**\"+texto_ejercicio+\"**\"))\n",
    "\n",
    "enunciado_latex = [r'\\frac{3}{{2\\sqrt {6} }}',\n",
    "                   r'\\frac{5}{{\\sqrt{2} }}',\n",
    "                   r'\\frac{2}{{3\\sqrt[3]{ 2} }}',\n",
    "                   r'\\frac{2}{{5\\sqrt[5]{ 2} }}',\n",
    "                   r'\\frac{6}{{\\sqrt {5}  + \\sqrt {2} }}',\n",
    "                   r'\\frac{5}{{2 - \\sqrt {6} }}'\n",
    "                  ]\n",
    "enunciado, solucion = [], []\n",
    "for s in enunciado_latex :\n",
    "    display(md(\"$\"+ s +\" \\\\rightarrow \" + latex(radsimp(parse_latex(s)))+\"$\"))\n",
    "    enunciado.append(parse_latex(s))\n",
    "    solucion.append(latex(radsimp(parse_latex(s)))) \n",
    "    \n",
    "df_ejercicios = df_ejercicios.append(añadir_ejercicios(enunciado_latex, enunciado, solucion, texto_ejercicio, curso, titulo, n_ejercicio), ignore_index=True)\n",
    "    "
   ]
  },
  {
   "cell_type": "code",
   "execution_count": 10,
   "metadata": {},
   "outputs": [
    {
     "data": {
      "text/markdown": [
       "**Calcula, descomponiendo el radicando en factores primos:**"
      ],
      "text/plain": [
       "<IPython.core.display.Markdown object>"
      ]
     },
     "metadata": {},
     "output_type": "display_data"
    },
    {
     "data": {
      "text/markdown": [
       "$\\sqrt {729} \\rightarrow 27$"
      ],
      "text/plain": [
       "<IPython.core.display.Markdown object>"
      ]
     },
     "metadata": {},
     "output_type": "display_data"
    },
    {
     "data": {
      "text/markdown": [
       "$\\sqrt[3]{64000} \\rightarrow 40$"
      ],
      "text/plain": [
       "<IPython.core.display.Markdown object>"
      ]
     },
     "metadata": {},
     "output_type": "display_data"
    },
    {
     "data": {
      "text/markdown": [
       "$\\sqrt[4]{50625} \\rightarrow 15$"
      ],
      "text/plain": [
       "<IPython.core.display.Markdown object>"
      ]
     },
     "metadata": {},
     "output_type": "display_data"
    },
    {
     "data": {
      "text/markdown": [
       "$\\sqrt[5]{59049} \\rightarrow 9$"
      ],
      "text/plain": [
       "<IPython.core.display.Markdown object>"
      ]
     },
     "metadata": {},
     "output_type": "display_data"
    }
   ],
   "source": [
    "# Página 6 ejercicios 23\n",
    "\n",
    "\n",
    "texto_ejercicio = 'Calcula, descomponiendo el radicando en factores primos:'\n",
    "n_ejercicio = 'p6e23'\n",
    "\n",
    "display(md(\"**\"+texto_ejercicio+\"**\"))\n",
    "\n",
    "enunciado_latex = [r'\\sqrt {729}',\n",
    "                   r'\\sqrt[3]{64000}',\n",
    "                   r'\\sqrt[4]{50625}',\n",
    "                   r'\\sqrt[5]{59049}'\n",
    "                  ]\n",
    "enunciado, solucion = [], []\n",
    "for s in enunciado_latex :\n",
    "    display(md(\"$\"+ s +\" \\\\rightarrow \" + latex(simplify(parse_latex(s)))+\"$\"))\n",
    "    enunciado.append(parse_latex(s))\n",
    "    solucion.append(latex(simplify(parse_latex(s)))) \n",
    "    \n",
    "df_ejercicios = df_ejercicios.append(añadir_ejercicios(enunciado_latex, enunciado, solucion, texto_ejercicio, curso, titulo, n_ejercicio), ignore_index=True)\n",
    "\n",
    "    "
   ]
  },
  {
   "cell_type": "code",
   "execution_count": 11,
   "metadata": {},
   "outputs": [
    {
     "data": {
      "text/markdown": [
       "**Calcula:**"
      ],
      "text/plain": [
       "<IPython.core.display.Markdown object>"
      ]
     },
     "metadata": {},
     "output_type": "display_data"
    },
    {
     "data": {
      "text/markdown": [
       "$5\\sqrt {8}  - 2\\sqrt {50}  + \\sqrt {32}  - \\sqrt {2} \\rightarrow 3 \\sqrt{2}$"
      ],
      "text/plain": [
       "<IPython.core.display.Markdown object>"
      ]
     },
     "metadata": {},
     "output_type": "display_data"
    },
    {
     "data": {
      "text/markdown": [
       "$\\sqrt {27}  - \\frac{1}{4}\\sqrt {12}  + \\frac{2}{5}\\sqrt {75} \\rightarrow \\frac{9 \\sqrt{3}}{2}$"
      ],
      "text/plain": [
       "<IPython.core.display.Markdown object>"
      ]
     },
     "metadata": {},
     "output_type": "display_data"
    },
    {
     "data": {
      "text/markdown": [
       "$\\sqrt {\\frac{2}{9}}  + \\sqrt 8  - \\sqrt {\\frac{1}{8}} \\rightarrow \\frac{\\sqrt{2}}{3}$"
      ],
      "text/plain": [
       "<IPython.core.display.Markdown object>"
      ]
     },
     "metadata": {},
     "output_type": "display_data"
    }
   ],
   "source": [
    "# Página 6 ejercicios 25\n",
    "\n",
    "\n",
    "texto_ejercicio = 'Calcula:'\n",
    "n_ejercicio = 'p6e25'\n",
    "\n",
    "display(md(\"**\"+texto_ejercicio+\"**\"))\n",
    "\n",
    "enunciado_latex = [r'5\\sqrt {8}  - 2\\sqrt {50}  + \\sqrt {32}  - \\sqrt {2}',\n",
    "                   r'\\sqrt {27}  - \\frac{1}{4}\\sqrt {12}  + \\frac{2}{5}\\sqrt {75}',\n",
    "                   r'\\sqrt {\\frac{2}{9}}  + \\sqrt 8  - \\sqrt {\\frac{1}{8}}'\n",
    "                   \n",
    "                  ]\n",
    "enunciado, solucion = [], []\n",
    "for s in enunciado_latex :\n",
    "    display(md(\"$\"+ s +\" \\\\rightarrow \" + latex(simplify(parse_latex(s)))+\"$\"))\n",
    "    enunciado.append(parse_latex(s))\n",
    "    solucion.append(latex(simplify(parse_latex(s))))\n",
    "    \n",
    "df_ejercicios = df_ejercicios.append(añadir_ejercicios(enunciado_latex, enunciado, solucion, texto_ejercicio, curso, titulo, n_ejercicio), ignore_index=True)\n",
    "\n",
    "    "
   ]
  },
  {
   "cell_type": "code",
   "execution_count": 12,
   "metadata": {},
   "outputs": [
    {
     "data": {
      "text/markdown": [
       "**Calcula y simplifica:**"
      ],
      "text/plain": [
       "<IPython.core.display.Markdown object>"
      ]
     },
     "metadata": {},
     "output_type": "display_data"
    },
    {
     "data": {
      "text/markdown": [
       "$\\sqrt [3] {5}  \\cdot \\sqrt [4] {3}   \\cdot \\sqrt {2} \\rightarrow \\sqrt{2} \\sqrt[4]{3} \\sqrt[3]{5}$"
      ],
      "text/plain": [
       "<IPython.core.display.Markdown object>"
      ]
     },
     "metadata": {},
     "output_type": "display_data"
    },
    {
     "data": {
      "text/markdown": [
       "$\\frac{{\\sqrt[3]{5} \\cdot \\sqrt{3}}}{{\\sqrt {15}  \\cdot \\sqrt {6} }} \\rightarrow \\frac{5^{\\frac{5}{6}} \\sqrt{6}}{30}$"
      ],
      "text/plain": [
       "<IPython.core.display.Markdown object>"
      ]
     },
     "metadata": {},
     "output_type": "display_data"
    },
    {
     "data": {
      "text/markdown": [
       "$\\frac{{\\sqrt[6]{5}}}{{\\sqrt[3]{5}}} \\rightarrow \\frac{5^{\\frac{5}{6}}}{5}$"
      ],
      "text/plain": [
       "<IPython.core.display.Markdown object>"
      ]
     },
     "metadata": {},
     "output_type": "display_data"
    },
    {
     "data": {
      "text/markdown": [
       "$\\sqrt[5]{{{27}^{\\frac{5}{3}}}} \\rightarrow 3$"
      ],
      "text/plain": [
       "<IPython.core.display.Markdown object>"
      ]
     },
     "metadata": {},
     "output_type": "display_data"
    },
    {
     "data": {
      "text/markdown": [
       "$\\sqrt[3] {4}  \\cdot \\sqrt[4] {8}  \\cdot \\sqrt {2} \\rightarrow 2 \\cdot 2^{\\frac{11}{12}}$"
      ],
      "text/plain": [
       "<IPython.core.display.Markdown object>"
      ]
     },
     "metadata": {},
     "output_type": "display_data"
    }
   ],
   "source": [
    "# Página 6 ejercicios 26\n",
    "\n",
    "\n",
    "texto_ejercicio = 'Calcula y simplifica:'\n",
    "n_ejercicio = 'p6e26'\n",
    "\n",
    "display(md(\"**\"+texto_ejercicio+\"**\"))\n",
    "\n",
    "enunciado_latex = [r'\\sqrt [3] {5}  \\cdot \\sqrt [4] {3}   \\cdot \\sqrt {2}',\n",
    "                   r'\\frac{{\\sqrt[3]{5} \\cdot \\sqrt{3}}}{{\\sqrt {15}  \\cdot \\sqrt {6} }}',\n",
    "                   r'\\frac{{\\sqrt[6]{5}}}{{\\sqrt[3]{5}}}',\n",
    "                   r'\\sqrt[5]{{{27}^{\\frac{5}{3}}}}',\n",
    "                   r'\\sqrt[3] {4}  \\cdot \\sqrt[4] {8}  \\cdot \\sqrt {2}'\n",
    "                  ]\n",
    "enunciado, solucion = [], []\n",
    "for s in enunciado_latex :\n",
    "    display(md(\"$\"+ s +\" \\\\rightarrow \" + latex(simplify(parse_latex(s)))+\"$\"))\n",
    "    enunciado.append(parse_latex(s))\n",
    "    solucion.append(latex(radsimp(parse_latex(s)))) \n",
    "    \n",
    "df_ejercicios = df_ejercicios.append(añadir_ejercicios(enunciado_latex, enunciado, solucion, texto_ejercicio, curso, titulo, n_ejercicio), ignore_index=True)\n",
    "\n",
    "    "
   ]
  },
  {
   "cell_type": "code",
   "execution_count": 13,
   "metadata": {},
   "outputs": [
    {
     "data": {
      "text/markdown": [
       "**Efectúa:**"
      ],
      "text/plain": [
       "<IPython.core.display.Markdown object>"
      ]
     },
     "metadata": {},
     "output_type": "display_data"
    },
    {
     "data": {
      "text/markdown": [
       "$\\sqrt[3] {5} \\cdot \\sqrt[3]{5^2} \\rightarrow 5$"
      ],
      "text/plain": [
       "<IPython.core.display.Markdown object>"
      ]
     },
     "metadata": {},
     "output_type": "display_data"
    },
    {
     "data": {
      "text/markdown": [
       "$\\frac{{\\sqrt[3]{{x^2}{y^3}} }}{{\\sqrt[3]{xy} }} \\rightarrow \\frac{\\sqrt[3]{x^{2} y^{3}}}{\\sqrt[3]{x y}}$"
      ],
      "text/plain": [
       "<IPython.core.display.Markdown object>"
      ]
     },
     "metadata": {},
     "output_type": "display_data"
    },
    {
     "data": {
      "text/markdown": [
       "$( {\\sqrt[5]{{3^2}} } )^4 \\rightarrow 3 \\cdot 3^{\\frac{3}{5}}$"
      ],
      "text/plain": [
       "<IPython.core.display.Markdown object>"
      ]
     },
     "metadata": {},
     "output_type": "display_data"
    },
    {
     "data": {
      "text/markdown": [
       "$\\sqrt[3] {5}  \\cdot \\sqrt[4] {{5^2}} \\rightarrow 5^{\\frac{5}{6}}$"
      ],
      "text/plain": [
       "<IPython.core.display.Markdown object>"
      ]
     },
     "metadata": {},
     "output_type": "display_data"
    },
    {
     "data": {
      "text/markdown": [
       "$3\\sqrt{ 5}  \\cdot 2\\sqrt[3]{25} \\rightarrow 30 \\sqrt[6]{5}$"
      ],
      "text/plain": [
       "<IPython.core.display.Markdown object>"
      ]
     },
     "metadata": {},
     "output_type": "display_data"
    },
    {
     "data": {
      "text/markdown": [
       "$\\sqrt[3]{{a^3} b}  \\cdot \\sqrt[6]{a{b^4}} \\rightarrow \\sqrt[6]{a b^{4}} \\sqrt[3]{a^{3} b}$"
      ],
      "text/plain": [
       "<IPython.core.display.Markdown object>"
      ]
     },
     "metadata": {},
     "output_type": "display_data"
    },
    {
     "data": {
      "text/markdown": [
       "$3\\sqrt[4]{2}  \\cdot \\sqrt {8}  \\rightarrow 6 \\cdot 2^{\\frac{3}{4}}$"
      ],
      "text/plain": [
       "<IPython.core.display.Markdown object>"
      ]
     },
     "metadata": {},
     "output_type": "display_data"
    },
    {
     "data": {
      "text/markdown": [
       "$\\frac{{\\sqrt[4]{{x^3}{y^3}} }}{{\\sqrt[3]{xy} }} \\rightarrow \\frac{\\sqrt[4]{x^{3} y^{3}}}{\\sqrt[3]{x y}}$"
      ],
      "text/plain": [
       "<IPython.core.display.Markdown object>"
      ]
     },
     "metadata": {},
     "output_type": "display_data"
    },
    {
     "data": {
      "text/markdown": [
       "$\\frac{{4\\sqrt [4]{6} }}{{2\\sqrt {3} }} \\rightarrow \\frac{2 \\sqrt[4]{2} \\cdot 3^{\\frac{3}{4}}}{3}$"
      ],
      "text/plain": [
       "<IPython.core.display.Markdown object>"
      ]
     },
     "metadata": {},
     "output_type": "display_data"
    },
    {
     "data": {
      "text/markdown": [
       "$\\frac{{6\\sqrt[3] { 5} }}{{2\\sqrt {10} }} \\rightarrow \\frac{3 \\sqrt{2} \\cdot 5^{\\frac{5}{6}}}{10}$"
      ],
      "text/plain": [
       "<IPython.core.display.Markdown object>"
      ]
     },
     "metadata": {},
     "output_type": "display_data"
    },
    {
     "data": {
      "text/markdown": [
       "$\\frac{{\\sqrt[5]{{{( {a + b})}^3}} }}{{\\sqrt {a + b} }} \\rightarrow \\frac{\\sqrt{a + b} \\sqrt[5]{\\left(a + b\\right)^{3}}}{a + b}$"
      ],
      "text/plain": [
       "<IPython.core.display.Markdown object>"
      ]
     },
     "metadata": {},
     "output_type": "display_data"
    },
    {
     "data": {
      "text/markdown": [
       "$\\sqrt [3] {{x^2}}  \\cdot \\frac{{\\sqrt [5] {xy} }}{{\\sqrt {x{y^3}} }} \\rightarrow \\frac{\\sqrt[5]{x y} \\sqrt{x y^{3}} \\sqrt[3]{x^{2}}}{x y^{3}}$"
      ],
      "text/plain": [
       "<IPython.core.display.Markdown object>"
      ]
     },
     "metadata": {},
     "output_type": "display_data"
    },
    {
     "data": {
      "text/markdown": [
       "$\\sqrt [3] {\\sqrt[4] {a} } \\rightarrow \\sqrt[12]{a}$"
      ],
      "text/plain": [
       "<IPython.core.display.Markdown object>"
      ]
     },
     "metadata": {},
     "output_type": "display_data"
    },
    {
     "data": {
      "text/markdown": [
       "$\\sqrt {\\sqrt [3]  {{x^2}\\sqrt[5] {{x^3}} } } \\rightarrow \\sqrt[6]{x^{2} \\sqrt[5]{x^{3}}}$"
      ],
      "text/plain": [
       "<IPython.core.display.Markdown object>"
      ]
     },
     "metadata": {},
     "output_type": "display_data"
    },
    {
     "data": {
      "text/markdown": [
       "$\\sqrt {n\\sqrt [5] {n\\sqrt [6]{n} } } \\rightarrow \\sqrt{n \\sqrt[5]{n^{\\frac{7}{6}}}}$"
      ],
      "text/plain": [
       "<IPython.core.display.Markdown object>"
      ]
     },
     "metadata": {},
     "output_type": "display_data"
    }
   ],
   "source": [
    "# Página 6 ejercicios 27\n",
    "\n",
    "\n",
    "texto_ejercicio = 'Efectúa:'\n",
    "n_ejercicio = 'p6e27'\n",
    "\n",
    "\n",
    "display(md(\"**\"+texto_ejercicio+\"**\"))\n",
    "\n",
    "enunciado_latex = [r'\\sqrt[3] {5} \\cdot \\sqrt[3]{5^2}',\n",
    "                   r'\\frac{{\\sqrt[3]{{x^2}{y^3}} }}{{\\sqrt[3]{xy} }}',\n",
    "                   r'( {\\sqrt[5]{{3^2}} } )^4',\n",
    "                   r'\\sqrt[3] {5}  \\cdot \\sqrt[4] {{5^2}}',\n",
    "                   r'3\\sqrt{ 5}  \\cdot 2\\sqrt[3]{25}',\n",
    "                   r'\\sqrt[3]{{a^3} b}  \\cdot \\sqrt[6]{a{b^4}}',\n",
    "                   r'3\\sqrt[4]{2}  \\cdot \\sqrt {8} ',\n",
    "                   r'\\frac{{\\sqrt[4]{{x^3}{y^3}} }}{{\\sqrt[3]{xy} }}',\n",
    "                   r'\\frac{{4\\sqrt [4]{6} }}{{2\\sqrt {3} }}',\n",
    "                   r'\\frac{{6\\sqrt[3] { 5} }}{{2\\sqrt {10} }}',\n",
    "                   r'\\frac{{\\sqrt[5]{{{( {a + b})}^3}} }}{{\\sqrt {a + b} }}',\n",
    "                   r'\\sqrt [3] {{x^2}}  \\cdot \\frac{{\\sqrt [5] {xy} }}{{\\sqrt {x{y^3}} }}',\n",
    "                   r'\\sqrt [3] {\\sqrt[4] {a} }',\n",
    "                   r'\\sqrt {\\sqrt [3]  {{x^2}\\sqrt[5] {{x^3}} } }',\n",
    "                   r'\\sqrt {n\\sqrt [5] {n\\sqrt [6]{n} } }'\n",
    "                   \n",
    "                  ]\n",
    "enunciado, solucion = [], []\n",
    "for s in enunciado_latex :\n",
    "    display(md(\"$\"+ s +\" \\\\rightarrow \" + latex(radsimp(parse_latex(s)))+\"$\"))\n",
    "    enunciado.append(parse_latex(s))\n",
    "    solucion.append(latex(radsimp(parse_latex(s)))) \n",
    "    \n",
    "df_ejercicios = df_ejercicios.append(añadir_ejercicios(enunciado_latex, enunciado, solucion, texto_ejercicio, curso, titulo, n_ejercicio), ignore_index=True)\n",
    "\n",
    "    "
   ]
  },
  {
   "cell_type": "code",
   "execution_count": 14,
   "metadata": {},
   "outputs": [
    {
     "data": {
      "text/markdown": [
       "**Racionaliza:**"
      ],
      "text/plain": [
       "<IPython.core.display.Markdown object>"
      ]
     },
     "metadata": {},
     "output_type": "display_data"
    },
    {
     "data": {
      "text/markdown": [
       "$\\frac{3}{{\\sqrt {5} }} \\rightarrow \\frac{3 \\sqrt{5}}{5}$"
      ],
      "text/plain": [
       "<IPython.core.display.Markdown object>"
      ]
     },
     "metadata": {},
     "output_type": "display_data"
    },
    {
     "data": {
      "text/markdown": [
       "$\\frac{{12}}{{\\sqrt {8} }} \\rightarrow 3 \\sqrt{2}$"
      ],
      "text/plain": [
       "<IPython.core.display.Markdown object>"
      ]
     },
     "metadata": {},
     "output_type": "display_data"
    },
    {
     "data": {
      "text/markdown": [
       "$\\frac{5}{{\\sqrt {5} }} \\rightarrow \\sqrt{5}$"
      ],
      "text/plain": [
       "<IPython.core.display.Markdown object>"
      ]
     },
     "metadata": {},
     "output_type": "display_data"
    },
    {
     "data": {
      "text/markdown": [
       "$\\frac{a}{{\\sqrt[3]{{a^2}} }} \\rightarrow \\frac{a}{\\sqrt[3]{a^{2}}}$"
      ],
      "text/plain": [
       "<IPython.core.display.Markdown object>"
      ]
     },
     "metadata": {},
     "output_type": "display_data"
    },
    {
     "data": {
      "text/markdown": [
       "$\\frac{{{x^2}}}{{\\sqrt [4] {x} }} \\rightarrow x^{\\frac{7}{4}}$"
      ],
      "text/plain": [
       "<IPython.core.display.Markdown object>"
      ]
     },
     "metadata": {},
     "output_type": "display_data"
    },
    {
     "data": {
      "text/markdown": [
       "$\\frac{{abc}}{{\\sqrt {ab{c^3}} }} \\rightarrow \\frac{\\sqrt{a b c^{3}}}{c^{2}}$"
      ],
      "text/plain": [
       "<IPython.core.display.Markdown object>"
      ]
     },
     "metadata": {},
     "output_type": "display_data"
    },
    {
     "data": {
      "text/markdown": [
       "$\\frac{5}{{2 + \\sqrt {3} }} \\rightarrow - 5 \\sqrt{3} + 10$"
      ],
      "text/plain": [
       "<IPython.core.display.Markdown object>"
      ]
     },
     "metadata": {},
     "output_type": "display_data"
    },
    {
     "data": {
      "text/markdown": [
       "$\\frac{{\\sqrt {2}  - \\sqrt {3} }}{{\\sqrt{ 2}  + \\sqrt {3} }} \\rightarrow - \\left(- \\sqrt{3} + \\sqrt{2}\\right)^{2}$"
      ],
      "text/plain": [
       "<IPython.core.display.Markdown object>"
      ]
     },
     "metadata": {},
     "output_type": "display_data"
    },
    {
     "data": {
      "text/markdown": [
       "$\\frac{{2 - \\sqrt {2} }}{{2 + \\sqrt {2} }} \\rightarrow \\frac{\\left(- \\sqrt{2} + 2\\right)^{2}}{2}$"
      ],
      "text/plain": [
       "<IPython.core.display.Markdown object>"
      ]
     },
     "metadata": {},
     "output_type": "display_data"
    },
    {
     "data": {
      "text/markdown": [
       "$\\frac{1}{{\\sqrt {\\sqrt {2 }} }} \\rightarrow \\frac{2^{\\frac{3}{4}}}{2}$"
      ],
      "text/plain": [
       "<IPython.core.display.Markdown object>"
      ]
     },
     "metadata": {},
     "output_type": "display_data"
    },
    {
     "data": {
      "text/markdown": [
       "$\\frac{a}{{\\sqrt {a}  + \\sqrt {b} }} \\rightarrow \\frac{a^{\\frac{3}{2}} - a \\sqrt{b}}{a - b}$"
      ],
      "text/plain": [
       "<IPython.core.display.Markdown object>"
      ]
     },
     "metadata": {},
     "output_type": "display_data"
    }
   ],
   "source": [
    "# Página 6 ejercicios 28\n",
    "\n",
    "\n",
    "texto_ejercicio = 'Racionaliza:'\n",
    "n_ejercicio = 'p6e28'\n",
    "\n",
    "\n",
    "display(md(\"**\"+texto_ejercicio+\"**\"))\n",
    "\n",
    "enunciado_latex = [r'\\frac{3}{{\\sqrt {5} }}',\n",
    "                   r'\\frac{{12}}{{\\sqrt {8} }}',\n",
    "                   r'\\frac{5}{{\\sqrt {5} }}',\n",
    "                   r'\\frac{a}{{\\sqrt[3]{{a^2}} }}',\n",
    "                   r'\\frac{{{x^2}}}{{\\sqrt [4] {x} }}',\n",
    "                   r'\\frac{{abc}}{{\\sqrt {ab{c^3}} }}',\n",
    "                   r'\\frac{5}{{2 + \\sqrt {3} }}',\n",
    "                   r'\\frac{{\\sqrt {2}  - \\sqrt {3} }}{{\\sqrt{ 2}  + \\sqrt {3} }}',\n",
    "                   r'\\frac{{2 - \\sqrt {2} }}{{2 + \\sqrt {2} }}',\n",
    "                   r'\\frac{1}{{\\sqrt {\\sqrt {2 }} }}',\n",
    "                   r'\\frac{a}{{\\sqrt {a}  + \\sqrt {b} }}'\n",
    "                   \n",
    "                  ]\n",
    "enunciado, solucion = [], []\n",
    "for s in enunciado_latex :\n",
    "    display(md(\"$\"+ s +\" \\\\rightarrow \" + latex(radsimp(parse_latex(s)))+\"$\"))\n",
    "    enunciado.append(parse_latex(s))\n",
    "    solucion.append(latex(radsimp(parse_latex(s)))) \n",
    "    \n",
    "df_ejercicios = df_ejercicios.append(añadir_ejercicios(enunciado_latex, enunciado, solucion, texto_ejercicio, curso, titulo, n_ejercicio), ignore_index=True)\n",
    "\n",
    "    "
   ]
  },
  {
   "cell_type": "code",
   "execution_count": 25,
   "metadata": {},
   "outputs": [],
   "source": [
    "df_ejercicios.to_csv('ejercicios2.csv', index = False)"
   ]
  },
  {
   "cell_type": "code",
   "execution_count": 26,
   "metadata": {},
   "outputs": [],
   "source": [
    "df_ejercicios = pd.read_csv('ejercicios2.csv', index_col= None)"
   ]
  },
  {
   "cell_type": "code",
   "execution_count": 70,
   "metadata": {},
   "outputs": [
    {
     "data": {
      "text/markdown": [
       "**Ejercicio: **p12e7"
      ],
      "text/plain": [
       "<IPython.core.display.Markdown object>"
      ]
     },
     "metadata": {},
     "output_type": "display_data"
    },
    {
     "data": {
      "text/html": [
       "<div>\n",
       "<style scoped>\n",
       "    .dataframe tbody tr th:only-of-type {\n",
       "        vertical-align: middle;\n",
       "    }\n",
       "\n",
       "    .dataframe tbody tr th {\n",
       "        vertical-align: top;\n",
       "    }\n",
       "\n",
       "    .dataframe thead th {\n",
       "        text-align: right;\n",
       "    }\n",
       "</style>\n",
       "<table border=\"1\" class=\"dataframe\">\n",
       "  <thead>\n",
       "    <tr style=\"text-align: right;\">\n",
       "      <th></th>\n",
       "      <th>enunciado_latex</th>\n",
       "      <th>enunciado</th>\n",
       "      <th>solucion</th>\n",
       "      <th>texto</th>\n",
       "      <th>curso</th>\n",
       "      <th>titulo</th>\n",
       "      <th>n_ejercicio</th>\n",
       "      <th>dificultad</th>\n",
       "    </tr>\n",
       "  </thead>\n",
       "  <tbody>\n",
       "    <tr>\n",
       "      <th>0</th>\n",
       "      <td>[( {5{x^4} - 7{x^2} + 6x + 1} ), ( {3{x^2}} )]</td>\n",
       "      <td>(6*x + 5*x**4 - 7*x**2 + 1)/(3*x**2)</td>\n",
       "      <td>\\left ( \\frac{5 x^{2}}{3} - \\frac{7}{3}, \\quad...</td>\n",
       "      <td>Halla el cociente y el resto de:</td>\n",
       "      <td>1BC</td>\n",
       "      <td>4 - Polinomios</td>\n",
       "      <td>p12e7</td>\n",
       "      <td>1</td>\n",
       "    </tr>\n",
       "    <tr>\n",
       "      <th>1</th>\n",
       "      <td>( {5{x^4} - 7{x^2} + 6x + 1} ):( {3{x^2}} )</td>\n",
       "      <td>(6*x + 5*x**4 - 7*x**2 + 1)/(3*x**2)</td>\n",
       "      <td>\\left ( \\frac{5 x^{2}}{3} - \\frac{7}{3}, \\quad...</td>\n",
       "      <td>Halla el cociente y el resto de:</td>\n",
       "      <td>1BC</td>\n",
       "      <td>4 - Polinomios</td>\n",
       "      <td>p12e7</td>\n",
       "      <td>1</td>\n",
       "    </tr>\n",
       "    <tr>\n",
       "      <th>2</th>\n",
       "      <td>( {5{x^4} - 7{x^2} + 6x + 1} ):( {3{x^2}} )</td>\n",
       "      <td>(6*x + 5*x**4 - 7*x**2 + 1)/(3*x**2)</td>\n",
       "      <td>\\left ( \\frac{5 x^{2}}{3} - \\frac{7}{3}, \\quad...</td>\n",
       "      <td>Halla el cociente y el resto de:</td>\n",
       "      <td>1BC</td>\n",
       "      <td>4 - Polinomios</td>\n",
       "      <td>p12e7</td>\n",
       "      <td>1</td>\n",
       "    </tr>\n",
       "  </tbody>\n",
       "</table>\n",
       "</div>"
      ],
      "text/plain": [
       "                                  enunciado_latex  \\\n",
       "0  [( {5{x^4} - 7{x^2} + 6x + 1} ), ( {3{x^2}} )]   \n",
       "1     ( {5{x^4} - 7{x^2} + 6x + 1} ):( {3{x^2}} )   \n",
       "2     ( {5{x^4} - 7{x^2} + 6x + 1} ):( {3{x^2}} )   \n",
       "\n",
       "                              enunciado  \\\n",
       "0  (6*x + 5*x**4 - 7*x**2 + 1)/(3*x**2)   \n",
       "1  (6*x + 5*x**4 - 7*x**2 + 1)/(3*x**2)   \n",
       "2  (6*x + 5*x**4 - 7*x**2 + 1)/(3*x**2)   \n",
       "\n",
       "                                            solucion  \\\n",
       "0  \\left ( \\frac{5 x^{2}}{3} - \\frac{7}{3}, \\quad...   \n",
       "1  \\left ( \\frac{5 x^{2}}{3} - \\frac{7}{3}, \\quad...   \n",
       "2  \\left ( \\frac{5 x^{2}}{3} - \\frac{7}{3}, \\quad...   \n",
       "\n",
       "                              texto curso          titulo n_ejercicio  \\\n",
       "0  Halla el cociente y el resto de:   1BC  4 - Polinomios       p12e7   \n",
       "1  Halla el cociente y el resto de:   1BC  4 - Polinomios       p12e7   \n",
       "2  Halla el cociente y el resto de:   1BC  4 - Polinomios       p12e7   \n",
       "\n",
       "  dificultad  \n",
       "0          1  \n",
       "1          1  \n",
       "2          1  "
      ]
     },
     "metadata": {},
     "output_type": "display_data"
    }
   ],
   "source": [
    "escribir_preambulo(fichero, titulo)\n",
    "for s in df_ejercicios.groupby('n_ejercicio').count().index : \n",
    "    display(md(\"**Ejercicio: **\" + s ))\n",
    "    display(df_ejercicios[df_ejercicios.n_ejercicio == s])\n",
    "    escribir_ejercicios(df_ejercicios[df_ejercicios.n_ejercicio == s],fichero)\n",
    "\n",
    "escribir_fin(fichero)"
   ]
  }
 ],
 "metadata": {
  "kernelspec": {
   "display_name": "Python 3",
   "language": "python",
   "name": "python3"
  },
  "language_info": {
   "codemirror_mode": {
    "name": "ipython",
    "version": 3
   },
   "file_extension": ".py",
   "mimetype": "text/x-python",
   "name": "python",
   "nbconvert_exporter": "python",
   "pygments_lexer": "ipython3",
   "version": "3.6.5"
  }
 },
 "nbformat": 4,
 "nbformat_minor": 2
}
