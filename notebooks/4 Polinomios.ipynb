{
 "cells": [
  {
   "cell_type": "markdown",
   "metadata": {},
   "source": [
    "<a href=\"https://colab.research.google.com/github/crdguez/mat1bac_cit/blob/master/notebooks/Ejercicios1_3.ipynb\"><img align=\"left\" src=\"https://colab.research.google.com/assets/colab-badge.svg\" alt=\"Open in Colab\" title=\"Open and Execute in Google Colaboratory\"></a>"
   ]
  },
  {
   "cell_type": "code",
   "execution_count": 1,
   "metadata": {},
   "outputs": [
    {
     "name": "stdout",
     "output_type": "stream",
     "text": [
      "IPython console for SymPy 1.2 (Python 3.6.5-64-bit) (ground types: gmpy)\n",
      "\n",
      "These commands were executed:\n",
      ">>> from __future__ import division\n",
      ">>> from sympy import *\n",
      ">>> x, y, z, t = symbols('x y z t')\n",
      ">>> k, m, n = symbols('k m n', integer=True)\n",
      ">>> f, g, h = symbols('f g h', cls=Function)\n",
      ">>> init_printing()\n",
      "\n",
      "Documentation can be found at http://docs.sympy.org/1.2/\n",
      "\n"
     ]
    }
   ],
   "source": [
    "from sympy import init_session\n",
    "from sympy import div, QQ\n",
    "from sympy.parsing.latex import parse_latex\n",
    "from sympy.parsing.sympy_parser import parse_expr\n",
    "#from sympy.functions.combinatorial.numbers import nC, nP, nT\n",
    "from IPython.display import Markdown as md\n",
    "from IPython.display import display\n",
    "import pandas as pd\n",
    "\n",
    "init_session()\n",
    "\n",
    "a, b, c, d = symbols('a b c d', real = True)\n",
    "from docparts import añadir_ejercicios, doc_ejer, escribir_preambulo, escribir_ejercicios, escribir_fin\n",
    "\n",
    "df_ejercicios = pd.DataFrame()\n",
    "\n",
    "fichero = 'polinomios.tex'\n",
    "titulo = '4 - Polinomios'\n",
    "curso = '1BC'\n",
    "\n"
   ]
  },
  {
   "cell_type": "code",
   "execution_count": 2,
   "metadata": {},
   "outputs": [
    {
     "data": {
      "text/markdown": [
       "Dados los polinomios $ A(x)=2{x^3} - 5{x^2} + 6, \\  B(x)=- \\frac{1}{2}{x^5} - {x^4} + 6x$ halla:"
      ],
      "text/plain": [
       "<IPython.core.display.Markdown object>"
      ]
     },
     "metadata": {},
     "output_type": "display_data"
    },
    {
     "data": {
      "text/markdown": [
       "$A(x) + B(x) \\rightarrow - \\frac{x^{5}}{2} - x^{4} + 2 x^{3} - 5 x^{2} + 6 x + 6$"
      ],
      "text/plain": [
       "<IPython.core.display.Markdown object>"
      ]
     },
     "metadata": {},
     "output_type": "display_data"
    },
    {
     "data": {
      "text/markdown": [
       "$A(x) - B(x) \\rightarrow \\frac{x^{5}}{2} + x^{4} + 2 x^{3} - 5 x^{2} - 6 x + 6$"
      ],
      "text/plain": [
       "<IPython.core.display.Markdown object>"
      ]
     },
     "metadata": {},
     "output_type": "display_data"
    }
   ],
   "source": [
    "# Página 12 ejercicios 3\n",
    "\n",
    "\n",
    "A = r'2{x^3} - 5{x^2} + 6'\n",
    "B = r'- \\frac{1}{2}{x^5} - {x^4} + 6x'\n",
    "\n",
    "\n",
    "\n",
    "texto_ejercicio = r'Dados los polinomios $ A(x)=' + A +r\", \\  B(x)=\" + B +r'$ halla:'\n",
    "\n",
    "n_ejercicio = 'p012e03'\n",
    "\n",
    "display(md(\"\"+texto_ejercicio+\"\"))\n",
    "\n",
    "\n",
    "enunciado_latex = [r'A(x) + B(x)', r'A(x) - B(x)'\n",
    "                  ]\n",
    "enunciado, solucion = [], [latex(parse_latex(A)+parse_latex(B)), latex(parse_latex(A)-parse_latex(B))]\n",
    "\n",
    "solucion[0]\n",
    "\n",
    "for i, s  in enumerate(enunciado_latex) :\n",
    "    display(md(\"$\"+ s +\" \\\\rightarrow \" + solucion[i]+\"$\"))\n",
    "    enunciado.append(parse_latex(s))\n",
    "     \n",
    "\n",
    "df_ejercicios = df_ejercicios.append(añadir_ejercicios(enunciado_latex, enunciado, solucion, texto_ejercicio, curso, titulo, n_ejercicio), ignore_index=True)\n"
   ]
  },
  {
   "cell_type": "code",
   "execution_count": 3,
   "metadata": {},
   "outputs": [
    {
     "data": {
      "text/markdown": [
       "Dados los polinomios $ A(x)=3{x^3} - 6{x^2} + 2x - 1, \\  B(x)=- {x^4} + {x^3} + x - 6, \\  C(x)={x^4} - {x^2} + x + \\frac{1}{2}$ halla:"
      ],
      "text/plain": [
       "<IPython.core.display.Markdown object>"
      ]
     },
     "metadata": {},
     "output_type": "display_data"
    },
    {
     "data": {
      "text/markdown": [
       "$A(x) \\cdot B(x) \\rightarrow - 3 x^{7} + 9 x^{6} - 8 x^{5} + 6 x^{4} - 25 x^{3} + 38 x^{2} - 13 x + 6$"
      ],
      "text/plain": [
       "<IPython.core.display.Markdown object>"
      ]
     },
     "metadata": {},
     "output_type": "display_data"
    },
    {
     "data": {
      "text/markdown": [
       "$A(x) - 3B(x) + 5C(x) \\rightarrow 8 x^{4} - 11 x^{2} + 4 x + \\frac{39}{2}$"
      ],
      "text/plain": [
       "<IPython.core.display.Markdown object>"
      ]
     },
     "metadata": {},
     "output_type": "display_data"
    },
    {
     "data": {
      "text/markdown": [
       "$x^2\\cdot A(x) + 3x\\cdot B(x) \\rightarrow - 3 x^{4} + 2 x^{3} + 2 x^{2} - 18 x$"
      ],
      "text/plain": [
       "<IPython.core.display.Markdown object>"
      ]
     },
     "metadata": {},
     "output_type": "display_data"
    }
   ],
   "source": [
    "# Página 12 ejercicios 4\n",
    "\n",
    "\n",
    "A = r'3{x^3} - 6{x^2} + 2x - 1'\n",
    "B = r'- {x^4} + {x^3} + x - 6'\n",
    "C = r'{x^4} - {x^2} + x + \\frac{1}{2}'\n",
    "\n",
    "\n",
    "texto_ejercicio = r'Dados los polinomios $ A(x)=' + A +r\", \\  B(x)=\" + B +r\", \\  C(x)=\"+ C +r'$ halla:'\n",
    "\n",
    "n_ejercicio = 'p012e04'\n",
    "\n",
    "display(md(\"\"+texto_ejercicio+\"\"))\n",
    "\n",
    "\n",
    "enunciado_latex = [r'A(x) \\cdot B(x)', \n",
    "                   r'A(x) - 3B(x) + 5C(x)',\n",
    "                   r'x^2\\cdot A(x) + 3x\\cdot B(x)'\n",
    "                  ]\n",
    "enunciado, solucion = [], [latex(expand(simplify(parse_latex(A) * parse_latex(B)))),\n",
    "                           latex(expand(simplify(parse_latex(A) - 3 * parse_latex(B) + 5 * parse_latex(C)))),\n",
    "                          latex(expand(simplify(x**2*parse_latex(A) + 3*x*parse_latex(B) )))]\n",
    "\n",
    "\n",
    "\n",
    "solucion[0]\n",
    "\n",
    "for i, s  in enumerate(enunciado_latex) :\n",
    "    display(md(\"$\"+ s +\" \\\\rightarrow \" + solucion[i]+\"$\"))\n",
    "    enunciado.append(parse_latex(s))\n",
    "     \n",
    "\n",
    "df_ejercicios = df_ejercicios.append(añadir_ejercicios(enunciado_latex, enunciado, solucion, texto_ejercicio, curso, titulo, n_ejercicio), ignore_index=True)\n"
   ]
  },
  {
   "cell_type": "code",
   "execution_count": 4,
   "metadata": {},
   "outputs": [
    {
     "data": {
      "text/markdown": [
       "**Halla el cociente y el resto de:**"
      ],
      "text/plain": [
       "<IPython.core.display.Markdown object>"
      ]
     },
     "metadata": {},
     "output_type": "display_data"
    },
    {
     "data": {
      "text/markdown": [
       "$( {5{x^4} - 7{x^2} + 6x + 1} ): ( {3{x^2}} ) \\rightarrow \\left ( \\frac{5 x^{2}}{3} - \\frac{7}{3}, \\quad 6 x + 1\\right )$"
      ],
      "text/plain": [
       "<IPython.core.display.Markdown object>"
      ]
     },
     "metadata": {},
     "output_type": "display_data"
    },
    {
     "data": {
      "text/markdown": [
       "$( {7{x^4} - 3{x^2} + 6x - 1} ): ( {{x^2}-x+3} ) \\rightarrow \\left ( 7 x^{2} + 7 x - 17, \\quad - 32 x + 50\\right )$"
      ],
      "text/plain": [
       "<IPython.core.display.Markdown object>"
      ]
     },
     "metadata": {},
     "output_type": "display_data"
    },
    {
     "data": {
      "text/markdown": [
       "$( {{x^6} - 5} ): ( {{x^2} - x}) \\rightarrow \\left ( x^{4} + x^{3} + x^{2} + x + 1, \\quad x - 5\\right )$"
      ],
      "text/plain": [
       "<IPython.core.display.Markdown object>"
      ]
     },
     "metadata": {},
     "output_type": "display_data"
    },
    {
     "data": {
      "text/markdown": [
       "$( {8{x^6} - 5x^4 + 6 } ): ( {2x^2} - 1) \\rightarrow \\left ( 4 x^{4} - \\frac{x^{2}}{2} - \\frac{1}{4}, \\quad \\frac{23}{4}\\right )$"
      ],
      "text/plain": [
       "<IPython.core.display.Markdown object>"
      ]
     },
     "metadata": {},
     "output_type": "display_data"
    },
    {
     "data": {
      "text/markdown": [
       "$( {3{x^5} - 6{x^2} + 9} ): ( {{x^2} + 1} ) \\rightarrow \\left ( 3 x^{3} - 3 x - 6, \\quad 3 x + 15\\right )$"
      ],
      "text/plain": [
       "<IPython.core.display.Markdown object>"
      ]
     },
     "metadata": {},
     "output_type": "display_data"
    },
    {
     "data": {
      "text/markdown": [
       "$( {x^9} - 7{x} + 1 ): ( {{x^3} + x} ) \\rightarrow \\left ( x^{6} - x^{4} + x^{2} - 1, \\quad - 6 x + 1\\right )$"
      ],
      "text/plain": [
       "<IPython.core.display.Markdown object>"
      ]
     },
     "metadata": {},
     "output_type": "display_data"
    }
   ],
   "source": [
    "# Página 12 ejercicio 7\n",
    "\n",
    "texto_ejercicio = 'Halla el cociente y el resto de:'\n",
    "n_ejercicio = 'p012e07'\n",
    "\n",
    "display(md(\"**\"+texto_ejercicio+\"**\"))\n",
    "\n",
    "pre_enunciado_latex = [[r'( {5{x^4} - 7{x^2} + 6x + 1} )', r'( {3{x^2}} )'],\n",
    "                       [r'( {7{x^4} - 3{x^2} + 6x - 1} )', r'( {{x^2}-x+3} )'],\n",
    "                       [r'( {{x^6} - 5} )', r'( {{x^2} - x})'],\n",
    "                       [r'( {8{x^6} - 5x^4 + 6 } )', r'( {2x^2} - 1)'],\n",
    "                       [r'( {3{x^5} - 6{x^2} + 9} )', r'( {{x^2} + 1} )'],\n",
    "                       [r'( {x^9} - 7{x} + 1 )', r'( {{x^3} + x} )']\n",
    "                 ]\n",
    "enunciado_latex, enunciado, solucion = [], [], []\n",
    "for i, s in enumerate(pre_enunciado_latex) :\n",
    "    enunciado_latex.append(s[0]+\":\"+s[1])\n",
    "    enunciado.append(parse_latex(s[0])/parse_latex(s[1]))\n",
    "    solucion.append(latex(div(simplify(expand(parse_latex(s[0]))),simplify(expand(parse_latex(s[1])))))) \n",
    "    display(md(\"$\"+ s[0] + \": \" + s[1]+ \" \\\\rightarrow \" +solucion[i] +\"$\"))\n",
    "    \n",
    "df_ejercicios = df_ejercicios.append(añadir_ejercicios(enunciado_latex, enunciado, solucion, texto_ejercicio, curso, titulo, n_ejercicio, '1', '1'), ignore_index=True)\n",
    "  "
   ]
  },
  {
   "cell_type": "code",
   "execution_count": 5,
   "metadata": {},
   "outputs": [
    {
     "data": {
      "text/markdown": [
       "**Dados $ A(x)= - {x^3} + 2{x^2} + 5, \\  B(x)= 2{x^4} + 3x + 6$ halla el valor numérico de ambos polinomios en:**"
      ],
      "text/plain": [
       "<IPython.core.display.Markdown object>"
      ]
     },
     "metadata": {},
     "output_type": "display_data"
    },
    {
     "data": {
      "text/markdown": [
       "$x=1 \\rightarrow 6\\ y \\ 11$"
      ],
      "text/plain": [
       "<IPython.core.display.Markdown object>"
      ]
     },
     "metadata": {},
     "output_type": "display_data"
    },
    {
     "data": {
      "text/markdown": [
       "$x=-1 \\rightarrow 8\\ y \\ 5$"
      ],
      "text/plain": [
       "<IPython.core.display.Markdown object>"
      ]
     },
     "metadata": {},
     "output_type": "display_data"
    },
    {
     "data": {
      "text/markdown": [
       "$x=2 \\rightarrow 5\\ y \\ 44$"
      ],
      "text/plain": [
       "<IPython.core.display.Markdown object>"
      ]
     },
     "metadata": {},
     "output_type": "display_data"
    },
    {
     "data": {
      "text/markdown": [
       "$x=-2 \\rightarrow 21\\ y \\ 32$"
      ],
      "text/plain": [
       "<IPython.core.display.Markdown object>"
      ]
     },
     "metadata": {},
     "output_type": "display_data"
    },
    {
     "data": {
      "text/markdown": [
       "$x=\\frac{1}{2} \\rightarrow \\frac{43}{8}\\ y \\ \\frac{61}{8}$"
      ],
      "text/plain": [
       "<IPython.core.display.Markdown object>"
      ]
     },
     "metadata": {},
     "output_type": "display_data"
    },
    {
     "data": {
      "text/markdown": [
       "$x=-\\frac{1}{2} \\rightarrow \\frac{45}{8}\\ y \\ \\frac{37}{8}$"
      ],
      "text/plain": [
       "<IPython.core.display.Markdown object>"
      ]
     },
     "metadata": {},
     "output_type": "display_data"
    }
   ],
   "source": [
    "# Página 12 ejercicio 8\n",
    "\n",
    "A = r' - {x^3} + 2{x^2} + 5'\n",
    "B = r' 2{x^4} + 3x + 6'\n",
    "\n",
    "texto_ejercicio = r'Dados $ A(x)=' + A +r\", \\  B(x)=\" + B +r'$ halla el valor numérico de ambos polinomios en:'\n",
    "n_ejercicio = 'p012e08'\n",
    "\n",
    "display(md(\"**\"+texto_ejercicio+\"**\"))\n",
    "\n",
    "pre_enunciado_latex = ['1','-1','2','-2',r'\\frac{1}{2}',r'-\\frac{1}{2}']        \n",
    "enunciado_latex, enunciado, solucion = [], [], []\n",
    "for i, s in enumerate(pre_enunciado_latex) :\n",
    "    enunciado_latex.append(\"x=\"+s)\n",
    "    enunciado.append(\"x=\"+s)\n",
    "    solucion.append(latex(parse_latex(A).subs({x:parse_latex(s)}))+latex(r\"\\ y \\ \")+latex(parse_latex(B).subs({x:parse_latex(s)}))) \n",
    "    display(md(\"$\"+ enunciado_latex[i] + \" \\\\rightarrow \" +solucion[i] +\"$\"))\n",
    "    \n",
    "df_ejercicios = df_ejercicios.append(añadir_ejercicios(enunciado_latex, enunciado, solucion, texto_ejercicio, curso, titulo, n_ejercicio), ignore_index=True)\n",
    "  "
   ]
  },
  {
   "cell_type": "code",
   "execution_count": 6,
   "metadata": {},
   "outputs": [
    {
     "data": {
      "text/markdown": [
       "**Halla, para cada uno  de los siguientes polinomios, sus raíces:**"
      ],
      "text/plain": [
       "<IPython.core.display.Markdown object>"
      ]
     },
     "metadata": {},
     "output_type": "display_data"
    },
    {
     "data": {
      "text/markdown": [
       "$x^2 - 1 \\rightarrow\\left\\{-1, 1\\right\\}$"
      ],
      "text/plain": [
       "<IPython.core.display.Markdown object>"
      ]
     },
     "metadata": {},
     "output_type": "display_data"
    },
    {
     "data": {
      "text/markdown": [
       "$x^2 - 7 \\rightarrow\\left\\{- \\sqrt{7}, \\sqrt{7}\\right\\}$"
      ],
      "text/plain": [
       "<IPython.core.display.Markdown object>"
      ]
     },
     "metadata": {},
     "output_type": "display_data"
    },
    {
     "data": {
      "text/markdown": [
       "$3x^2 -12 \\rightarrow\\left\\{-2, 2\\right\\}$"
      ],
      "text/plain": [
       "<IPython.core.display.Markdown object>"
      ]
     },
     "metadata": {},
     "output_type": "display_data"
    },
    {
     "data": {
      "text/markdown": [
       "$5x^2 -25 \\rightarrow\\left\\{- \\sqrt{5}, \\sqrt{5}\\right\\}$"
      ],
      "text/plain": [
       "<IPython.core.display.Markdown object>"
      ]
     },
     "metadata": {},
     "output_type": "display_data"
    }
   ],
   "source": [
    "# Página 12 ejercicios 9\n",
    "\n",
    "texto_ejercicio = 'Halla, para cada uno  de los siguientes polinomios, sus raíces:'\n",
    "n_ejercicio = 'p012e09'\n",
    "\n",
    "display(md(\"**\"+texto_ejercicio+\"**\"))\n",
    "\n",
    "enunciado_latex = [r'x^2 - 1',\n",
    "                   r'x^2 - 7',\n",
    "                   r'3x^2 -12',\n",
    "                   r'5x^2 -25'\n",
    "                  ]\n",
    "enunciado, solucion = [], []\n",
    "x = Symbol('x')\n",
    "\n",
    "for i, s in enumerate(enunciado_latex) :\n",
    "    enunciado.append(parse_latex(s))\n",
    "    solucion.append(latex(solveset(parse_latex(s), domain=S.Reals)))\n",
    "    display(md(\"$\"+ s +\" \\\\rightarrow\" + solucion[i] +\"$\"))\n",
    "\n",
    "df_ejercicios = df_ejercicios.append(añadir_ejercicios(enunciado_latex, enunciado, solucion, texto_ejercicio, curso, titulo, n_ejercicio), ignore_index=True)\n"
   ]
  },
  {
   "cell_type": "code",
   "execution_count": 7,
   "metadata": {},
   "outputs": [
    {
     "data": {
      "text/markdown": [
       "**¿Tiene el polinomio A(x)= $x^4 +3$ alguna raíz real?**"
      ],
      "text/plain": [
       "<IPython.core.display.Markdown object>"
      ]
     },
     "metadata": {},
     "output_type": "display_data"
    },
    {
     "data": {
      "text/markdown": [
       "$x^4 +3 \\rightarrow\\left\\{- \\frac{\\sqrt{2} \\sqrt[4]{3}}{2} - \\frac{\\sqrt{2} \\sqrt[4]{3} i}{2}, - \\frac{\\sqrt{2} \\sqrt[4]{3}}{2} + \\frac{\\sqrt{2} \\sqrt[4]{3} i}{2}, \\frac{\\sqrt{2} \\sqrt[4]{3}}{2} - \\frac{\\sqrt{2} \\sqrt[4]{3} i}{2}, \\frac{\\sqrt{2} \\sqrt[4]{3}}{2} + \\frac{\\sqrt{2} \\sqrt[4]{3} i}{2}\\right\\}$"
      ],
      "text/plain": [
       "<IPython.core.display.Markdown object>"
      ]
     },
     "metadata": {},
     "output_type": "display_data"
    }
   ],
   "source": [
    "# Página 12 ejercicios 10\n",
    "\n",
    "A = r'x^4 +3'\n",
    "\n",
    "texto_ejercicio = '¿Tiene el polinomio A(x)= $'+ A +'$ alguna raíz real?'\n",
    "n_ejercicio = 'p012e10'\n",
    "\n",
    "\n",
    "display(md(\"**\"+texto_ejercicio+\"**\"))\n",
    "\n",
    "enunciado_latex = [A]\n",
    "enunciado, solucion = [], []\n",
    "x = Symbol('x')\n",
    "\n",
    "for i, s in enumerate(enunciado_latex) :\n",
    "    enunciado.append(parse_latex(s))\n",
    "    solucion.append(latex(solveset(parse_latex(s))))\n",
    "    display(md(\"$\"+ s +\" \\\\rightarrow\" + solucion[i] +\"$\"))\n",
    "\n",
    "df_ejercicios = df_ejercicios.append(añadir_ejercicios(enunciado_latex, enunciado, solucion, texto_ejercicio, curso, titulo, n_ejercicio, '1', '1'), ignore_index=True)\n"
   ]
  },
  {
   "cell_type": "code",
   "execution_count": 8,
   "metadata": {},
   "outputs": [
    {
     "data": {
      "text/markdown": [
       "**Aplica la regla de Ruffini para hallar el cociente y el resto de las siguientes divisiones:**"
      ],
      "text/plain": [
       "<IPython.core.display.Markdown object>"
      ]
     },
     "metadata": {},
     "output_type": "display_data"
    },
    {
     "data": {
      "text/markdown": [
       "$( {{x^2} - 3x + 6} ): ( {x+2} ) \\rightarrow \\left ( x - 5, \\quad 16\\right )$"
      ],
      "text/plain": [
       "<IPython.core.display.Markdown object>"
      ]
     },
     "metadata": {},
     "output_type": "display_data"
    },
    {
     "data": {
      "text/markdown": [
       "$( {2{x^6} - 7{x^4} + 6x - 9} ): ( {x+3} ) \\rightarrow \\left ( 2 x^{5} - 6 x^{4} + 11 x^{3} - 33 x^{2} + 99 x - 291, \\quad 864\\right )$"
      ],
      "text/plain": [
       "<IPython.core.display.Markdown object>"
      ]
     },
     "metadata": {},
     "output_type": "display_data"
    },
    {
     "data": {
      "text/markdown": [
       "$( {7{x^3} - 4x - 3} ): ( {{x} - 1}) \\rightarrow \\left ( 7 x^{2} + 7 x + 3, \\quad 0\\right )$"
      ],
      "text/plain": [
       "<IPython.core.display.Markdown object>"
      ]
     },
     "metadata": {},
     "output_type": "display_data"
    },
    {
     "data": {
      "text/markdown": [
       "$( {x^2 - 1 } ): ( {x} + 1) \\rightarrow \\left ( x - 1, \\quad 0\\right )$"
      ],
      "text/plain": [
       "<IPython.core.display.Markdown object>"
      ]
     },
     "metadata": {},
     "output_type": "display_data"
    }
   ],
   "source": [
    "# Página 13 ejercicio 11\n",
    "\n",
    "texto_ejercicio = 'Aplica la regla de Ruffini para hallar el cociente y el resto de las siguientes divisiones:'\n",
    "n_ejercicio = 'p013e11'\n",
    "\n",
    "display(md(\"**\"+texto_ejercicio+\"**\"))\n",
    "\n",
    "pre_enunciado_latex = [[r'( {{x^2} - 3x + 6} )', r'( {x+2} )'],\n",
    "                       [r'( {2{x^6} - 7{x^4} + 6x - 9} )', r'( {x+3} )'],\n",
    "                       [r'( {7{x^3} - 4x - 3} )', r'( {{x} - 1})'],\n",
    "                       [r'( {x^2 - 1 } )', r'( {x} + 1)']\n",
    "                      ]\n",
    "enunciado_latex, enunciado, solucion = [], [], []\n",
    "for i, s in enumerate(pre_enunciado_latex) :\n",
    "    enunciado_latex.append(s[0]+\":\"+s[1])\n",
    "    enunciado.append(parse_latex(s[0])/parse_latex(s[1]))\n",
    "    solucion.append(latex(div(simplify(expand(parse_latex(s[0]))),simplify(expand(parse_latex(s[1])))))) \n",
    "    display(md(\"$\"+ s[0] + \": \" + s[1]+ \" \\\\rightarrow \" +solucion[i] +\"$\"))\n",
    "    \n",
    "df_ejercicios = df_ejercicios.append(añadir_ejercicios(enunciado_latex, enunciado, solucion, texto_ejercicio, curso, titulo, n_ejercicio, '1', '1'), ignore_index=True)\n",
    "  "
   ]
  },
  {
   "cell_type": "code",
   "execution_count": 9,
   "metadata": {},
   "outputs": [
    {
     "data": {
      "text/markdown": [
       "**Aplica el teorema del resto para calcular el resto de las siguientes divisiones:**"
      ],
      "text/plain": [
       "<IPython.core.display.Markdown object>"
      ]
     },
     "metadata": {},
     "output_type": "display_data"
    },
    {
     "data": {
      "text/markdown": [
       "$( {7{x^3} - 4x + 9} ): ( {x+1} ) \\rightarrow 6$"
      ],
      "text/plain": [
       "<IPython.core.display.Markdown object>"
      ]
     },
     "metadata": {},
     "output_type": "display_data"
    },
    {
     "data": {
      "text/markdown": [
       "$( {7{x^3} - 4x - 3} ): ( {x-1} ) \\rightarrow 0$"
      ],
      "text/plain": [
       "<IPython.core.display.Markdown object>"
      ]
     },
     "metadata": {},
     "output_type": "display_data"
    },
    {
     "data": {
      "text/markdown": [
       "$( {x^2 - 1} ): ( {x + 1}) \\rightarrow 0$"
      ],
      "text/plain": [
       "<IPython.core.display.Markdown object>"
      ]
     },
     "metadata": {},
     "output_type": "display_data"
    }
   ],
   "source": [
    "# Página 13 ejercicio 12\n",
    "\n",
    "texto_ejercicio = 'Aplica el teorema del resto para calcular el resto de las siguientes divisiones:'\n",
    "n_ejercicio = 'p013e12'\n",
    "\n",
    "display(md(\"**\"+texto_ejercicio+\"**\"))\n",
    "\n",
    "pre_enunciado_latex = [[r'( {7{x^3} - 4x + 9} )', r'( {x+1} )'],\n",
    "                       [r'( {7{x^3} - 4x - 3} )', r'( {x-1} )'],\n",
    "                       [r'( {x^2 - 1} )', r'( {x + 1})']\n",
    "                 ]\n",
    "enunciado_latex, enunciado, solucion = [], [], []\n",
    "for i, s in enumerate(pre_enunciado_latex) :\n",
    "    enunciado_latex.append(s[0]+\":\"+s[1])\n",
    "    enunciado.append(parse_latex(s[0])/parse_latex(s[1]))\n",
    "    solucion.append(latex(div(simplify(expand(parse_latex(s[0]))),simplify(expand(parse_latex(s[1]))))[1])) \n",
    "    display(md(\"$\"+ s[0] + \": \" + s[1]+ \" \\\\rightarrow \" +solucion[i] +\"$\"))\n",
    "    \n",
    "df_ejercicios = df_ejercicios.append(añadir_ejercicios(enunciado_latex, enunciado, solucion, texto_ejercicio, curso, titulo, n_ejercicio), ignore_index=True)\n",
    "  "
   ]
  },
  {
   "cell_type": "code",
   "execution_count": 10,
   "metadata": {},
   "outputs": [
    {
     "data": {
      "text/markdown": [
       "**Descomponer en factores**"
      ],
      "text/plain": [
       "<IPython.core.display.Markdown object>"
      ]
     },
     "metadata": {},
     "output_type": "display_data"
    },
    {
     "data": {
      "text/markdown": [
       "$x^2-81 \\rightarrow \\left(x - 9\\right) \\left(x + 9\\right)$"
      ],
      "text/plain": [
       "<IPython.core.display.Markdown object>"
      ]
     },
     "metadata": {},
     "output_type": "display_data"
    },
    {
     "data": {
      "text/markdown": [
       "$x^2-2 \\rightarrow \\left(x - \\sqrt{2}\\right) \\left(x + \\sqrt{2}\\right)$"
      ],
      "text/plain": [
       "<IPython.core.display.Markdown object>"
      ]
     },
     "metadata": {},
     "output_type": "display_data"
    },
    {
     "data": {
      "text/markdown": [
       "$4x^2-9 \\rightarrow 4 \\left(x - \\frac{3}{2}\\right) \\left(x + \\frac{3}{2}\\right)$"
      ],
      "text/plain": [
       "<IPython.core.display.Markdown object>"
      ]
     },
     "metadata": {},
     "output_type": "display_data"
    },
    {
     "data": {
      "text/markdown": [
       "$x^3-x \\rightarrow x \\left(x - 1\\right) \\left(x + 1\\right)$"
      ],
      "text/plain": [
       "<IPython.core.display.Markdown object>"
      ]
     },
     "metadata": {},
     "output_type": "display_data"
    },
    {
     "data": {
      "text/markdown": [
       "$x^2-3x \\rightarrow x \\left(x - 3\\right)$"
      ],
      "text/plain": [
       "<IPython.core.display.Markdown object>"
      ]
     },
     "metadata": {},
     "output_type": "display_data"
    },
    {
     "data": {
      "text/markdown": [
       "$x^2-2x+1 \\rightarrow \\left(x - 1\\right)^{2}$"
      ],
      "text/plain": [
       "<IPython.core.display.Markdown object>"
      ]
     },
     "metadata": {},
     "output_type": "display_data"
    },
    {
     "data": {
      "text/markdown": [
       "$x^5-3x^4+2x^3 \\rightarrow x^{3} \\left(x - 2\\right) \\left(x - 1\\right)$"
      ],
      "text/plain": [
       "<IPython.core.display.Markdown object>"
      ]
     },
     "metadata": {},
     "output_type": "display_data"
    },
    {
     "data": {
      "text/markdown": [
       "$x^2-x-30 \\rightarrow \\left(x - 6\\right) \\left(x + 5\\right)$"
      ],
      "text/plain": [
       "<IPython.core.display.Markdown object>"
      ]
     },
     "metadata": {},
     "output_type": "display_data"
    },
    {
     "data": {
      "text/markdown": [
       "$x^2+2x+1 \\rightarrow \\left(x + 1\\right)^{2}$"
      ],
      "text/plain": [
       "<IPython.core.display.Markdown object>"
      ]
     },
     "metadata": {},
     "output_type": "display_data"
    },
    {
     "data": {
      "text/markdown": [
       "$x^3-x^2-x+1 \\rightarrow \\left(x - 1\\right)^{2} \\left(x + 1\\right)$"
      ],
      "text/plain": [
       "<IPython.core.display.Markdown object>"
      ]
     },
     "metadata": {},
     "output_type": "display_data"
    },
    {
     "data": {
      "text/markdown": [
       "$x^3-2x^2-5x+6 \\rightarrow \\left(x - 3\\right) \\left(x - 1\\right) \\left(x + 2\\right)$"
      ],
      "text/plain": [
       "<IPython.core.display.Markdown object>"
      ]
     },
     "metadata": {},
     "output_type": "display_data"
    },
    {
     "data": {
      "text/markdown": [
       "$x^5+4x^4+x^3-10x^2-4x+8 \\rightarrow \\left(x - 1\\right)^{2} \\left(x + 2\\right)^{3}$"
      ],
      "text/plain": [
       "<IPython.core.display.Markdown object>"
      ]
     },
     "metadata": {},
     "output_type": "display_data"
    },
    {
     "data": {
      "text/markdown": [
       "$x^3+3x^2-2x-6 \\rightarrow \\left(x + 3\\right) \\left(x - \\sqrt{2}\\right) \\left(x + \\sqrt{2}\\right)$"
      ],
      "text/plain": [
       "<IPython.core.display.Markdown object>"
      ]
     },
     "metadata": {},
     "output_type": "display_data"
    },
    {
     "data": {
      "text/markdown": [
       "$x^3-3x^2-13x+15 \\rightarrow \\left(x - 5\\right) \\left(x - 1\\right) \\left(x + 3\\right)$"
      ],
      "text/plain": [
       "<IPython.core.display.Markdown object>"
      ]
     },
     "metadata": {},
     "output_type": "display_data"
    },
    {
     "data": {
      "text/markdown": [
       "$x^3+x^2-6x \\rightarrow x \\left(x - 2\\right) \\left(x + 3\\right)$"
      ],
      "text/plain": [
       "<IPython.core.display.Markdown object>"
      ]
     },
     "metadata": {},
     "output_type": "display_data"
    },
    {
     "data": {
      "text/markdown": [
       "$3x^3+x^2-12x-4 \\rightarrow 3 \\left(x - 2\\right) \\left(x + \\frac{1}{3}\\right) \\left(x + 2\\right)$"
      ],
      "text/plain": [
       "<IPython.core.display.Markdown object>"
      ]
     },
     "metadata": {},
     "output_type": "display_data"
    },
    {
     "data": {
      "text/markdown": [
       "$x^4+2x^3-x^2-2x \\rightarrow x \\left(x - 1\\right) \\left(x + 1\\right) \\left(x + 2\\right)$"
      ],
      "text/plain": [
       "<IPython.core.display.Markdown object>"
      ]
     },
     "metadata": {},
     "output_type": "display_data"
    },
    {
     "data": {
      "text/markdown": [
       "$x^4-2x^3+2x^2-2x+1 \\rightarrow \\left(x - 1\\right)^{2} \\left(x^{2} + 1\\right)$"
      ],
      "text/plain": [
       "<IPython.core.display.Markdown object>"
      ]
     },
     "metadata": {},
     "output_type": "display_data"
    },
    {
     "data": {
      "text/markdown": [
       "$x^4+2x^3-3x^2-4x+4 \\rightarrow \\left(x - 1\\right)^{2} \\left(x + 2\\right)^{2}$"
      ],
      "text/plain": [
       "<IPython.core.display.Markdown object>"
      ]
     },
     "metadata": {},
     "output_type": "display_data"
    },
    {
     "data": {
      "text/markdown": [
       "$x^3+4x^2+x-6 \\rightarrow \\left(x - 1\\right) \\left(x + 2\\right) \\left(x + 3\\right)$"
      ],
      "text/plain": [
       "<IPython.core.display.Markdown object>"
      ]
     },
     "metadata": {},
     "output_type": "display_data"
    },
    {
     "data": {
      "text/markdown": [
       "$x^5- 4x^3-x^2+4 \\rightarrow \\left(x - 2\\right) \\left(x - 1\\right) \\left(x + 2\\right) \\left(x^{2} + x + 1\\right)$"
      ],
      "text/plain": [
       "<IPython.core.display.Markdown object>"
      ]
     },
     "metadata": {},
     "output_type": "display_data"
    }
   ],
   "source": [
    "# Página 13 ejercicio 17 y 18\n",
    "\n",
    "texto_ejercicio = 'Descomponer en factores'\n",
    "n_ejercicio = 'p013e17-18'\n",
    "\n",
    "display(md(\"**\"+texto_ejercicio+\"**\"))\n",
    "\n",
    "enunciado_latex = [r'x^2-81',\n",
    "                   r'x^2-2',\n",
    "                   r'4x^2-9',\n",
    "                   r'x^3-x',\n",
    "                   r'x^2-3x',\n",
    "                   r'x^2-2x+1',\n",
    "                   r'x^5-3x^4+2x^3',\n",
    "                   r'x^2-x-30',\n",
    "                   r'x^2+2x+1',\n",
    "                   r'x^3-x^2-x+1',\n",
    "                   r'x^3-2x^2-5x+6',\n",
    "                   r'x^5+4x^4+x^3-10x^2-4x+8',\n",
    "                   r'x^3+3x^2-2x-6',\n",
    "                   r'x^3-3x^2-13x+15',\n",
    "                   r'x^3+x^2-6x',\n",
    "                   r'3x^3+x^2-12x-4',\n",
    "                   r'x^4+2x^3-x^2-2x',\n",
    "                   r'x^4-2x^3+2x^2-2x+1',\n",
    "                   r'x^4+2x^3-3x^2-4x+4',\n",
    "                   r'x^3+4x^2+x-6',\n",
    "                   r'x^5- 4x^3-x^2+4'                        \n",
    "                  ]\n",
    "\n",
    "\n",
    "\n",
    "\n",
    "enunciado, solucion = [], []\n",
    "\n",
    "for i, s in enumerate(enunciado_latex) : \n",
    "    enunciado.append(parse_latex(s))\n",
    "    solucion.append(latex(factor(parse_latex(s), domain = 'QQ<sqrt(2)>'))) \n",
    "    display(md(\"$\"+ s +\" \\\\rightarrow \" + solucion[i] +\"$\"))\n",
    "\n",
    "df_ejercicios = df_ejercicios.append(añadir_ejercicios(enunciado_latex, enunciado, solucion, texto_ejercicio, curso, titulo , n_ejercicio, '1', '2'), ignore_index=True)\n"
   ]
  },
  {
   "cell_type": "code",
   "execution_count": 11,
   "metadata": {},
   "outputs": [
    {
     "data": {
      "text/markdown": [
       "**Halla el valor numérico del polinomio $x^4-2x^3-x^2+3$,  para los valores:**"
      ],
      "text/plain": [
       "<IPython.core.display.Markdown object>"
      ]
     },
     "metadata": {},
     "output_type": "display_data"
    },
    {
     "data": {
      "text/markdown": [
       "$x=0 \\rightarrow 3$"
      ],
      "text/plain": [
       "<IPython.core.display.Markdown object>"
      ]
     },
     "metadata": {},
     "output_type": "display_data"
    },
    {
     "data": {
      "text/markdown": [
       "$x=1 \\rightarrow 1$"
      ],
      "text/plain": [
       "<IPython.core.display.Markdown object>"
      ]
     },
     "metadata": {},
     "output_type": "display_data"
    },
    {
     "data": {
      "text/markdown": [
       "$x=2 \\rightarrow -1$"
      ],
      "text/plain": [
       "<IPython.core.display.Markdown object>"
      ]
     },
     "metadata": {},
     "output_type": "display_data"
    },
    {
     "data": {
      "text/markdown": [
       "$x=\\frac{2}{3} \\rightarrow \\frac{175}{81}$"
      ],
      "text/plain": [
       "<IPython.core.display.Markdown object>"
      ]
     },
     "metadata": {},
     "output_type": "display_data"
    }
   ],
   "source": [
    "# Página 13 ejercicio 21\n",
    "\n",
    "A = r'x^4-2x^3-x^2+3'\n",
    "\n",
    "\n",
    "texto_ejercicio = r'Halla el valor numérico del polinomio $' + A +r\"$,  para los valores:\"\n",
    "n_ejercicio = 'p013e21'\n",
    "\n",
    "display(md(\"**\"+texto_ejercicio+\"**\"))\n",
    "\n",
    "pre_enunciado_latex = ['0','1','2',r'\\frac{2}{3}']        \n",
    "enunciado_latex, enunciado, solucion = [], [], []\n",
    "for i, s in enumerate(pre_enunciado_latex) :\n",
    "    enunciado_latex.append(\"x=\"+s)\n",
    "    enunciado.append(\"x=\"+s)\n",
    "    solucion.append(latex(parse_latex(A).subs({x:parse_latex(s)}))) \n",
    "    display(md(\"$\"+ enunciado_latex[i] + \" \\\\rightarrow \" +solucion[i] +\"$\"))\n",
    "    \n",
    "df_ejercicios = df_ejercicios.append(añadir_ejercicios(enunciado_latex, enunciado, solucion, texto_ejercicio, curso, titulo, n_ejercicio), ignore_index=True)\n",
    "  "
   ]
  },
  {
   "cell_type": "code",
   "execution_count": 12,
   "metadata": {},
   "outputs": [],
   "source": [
    "df_ejercicios.to_csv('ejercicios4.csv', index = False)"
   ]
  },
  {
   "cell_type": "code",
   "execution_count": 13,
   "metadata": {},
   "outputs": [],
   "source": [
    "df_ejercicios = pd.read_csv('ejercicios4.csv', index_col= None)"
   ]
  },
  {
   "cell_type": "code",
   "execution_count": 14,
   "metadata": {},
   "outputs": [
    {
     "data": {
      "text/markdown": [
       "**Ejercicio: **p012e03"
      ],
      "text/plain": [
       "<IPython.core.display.Markdown object>"
      ]
     },
     "metadata": {},
     "output_type": "display_data"
    },
    {
     "data": {
      "text/html": [
       "<div>\n",
       "<style scoped>\n",
       "    .dataframe tbody tr th:only-of-type {\n",
       "        vertical-align: middle;\n",
       "    }\n",
       "\n",
       "    .dataframe tbody tr th {\n",
       "        vertical-align: top;\n",
       "    }\n",
       "\n",
       "    .dataframe thead th {\n",
       "        text-align: right;\n",
       "    }\n",
       "</style>\n",
       "<table border=\"1\" class=\"dataframe\">\n",
       "  <thead>\n",
       "    <tr style=\"text-align: right;\">\n",
       "      <th></th>\n",
       "      <th>enunciado_latex</th>\n",
       "      <th>enunciado</th>\n",
       "      <th>solucion</th>\n",
       "      <th>texto</th>\n",
       "      <th>curso</th>\n",
       "      <th>titulo</th>\n",
       "      <th>n_ejercicio</th>\n",
       "      <th>dificultad</th>\n",
       "      <th>n_columnas</th>\n",
       "    </tr>\n",
       "  </thead>\n",
       "  <tbody>\n",
       "    <tr>\n",
       "      <th>0</th>\n",
       "      <td>A(x) + B(x)</td>\n",
       "      <td>A(x) + B(x)</td>\n",
       "      <td>- \\frac{x^{5}}{2} - x^{4} + 2 x^{3} - 5 x^{2} ...</td>\n",
       "      <td>Dados los polinomios $ A(x)=2{x^3} - 5{x^2} + ...</td>\n",
       "      <td>1BC</td>\n",
       "      <td>4 - Polinomios</td>\n",
       "      <td>p012e03</td>\n",
       "      <td>1</td>\n",
       "      <td>3</td>\n",
       "    </tr>\n",
       "    <tr>\n",
       "      <th>1</th>\n",
       "      <td>A(x) - B(x)</td>\n",
       "      <td>A(x) - B(x)</td>\n",
       "      <td>\\frac{x^{5}}{2} + x^{4} + 2 x^{3} - 5 x^{2} - ...</td>\n",
       "      <td>Dados los polinomios $ A(x)=2{x^3} - 5{x^2} + ...</td>\n",
       "      <td>1BC</td>\n",
       "      <td>4 - Polinomios</td>\n",
       "      <td>p012e03</td>\n",
       "      <td>1</td>\n",
       "      <td>3</td>\n",
       "    </tr>\n",
       "  </tbody>\n",
       "</table>\n",
       "</div>"
      ],
      "text/plain": [
       "  enunciado_latex    enunciado  \\\n",
       "0     A(x) + B(x)  A(x) + B(x)   \n",
       "1     A(x) - B(x)  A(x) - B(x)   \n",
       "\n",
       "                                            solucion  \\\n",
       "0  - \\frac{x^{5}}{2} - x^{4} + 2 x^{3} - 5 x^{2} ...   \n",
       "1  \\frac{x^{5}}{2} + x^{4} + 2 x^{3} - 5 x^{2} - ...   \n",
       "\n",
       "                                               texto curso          titulo  \\\n",
       "0  Dados los polinomios $ A(x)=2{x^3} - 5{x^2} + ...   1BC  4 - Polinomios   \n",
       "1  Dados los polinomios $ A(x)=2{x^3} - 5{x^2} + ...   1BC  4 - Polinomios   \n",
       "\n",
       "  n_ejercicio  dificultad  n_columnas  \n",
       "0     p012e03           1           3  \n",
       "1     p012e03           1           3  "
      ]
     },
     "metadata": {},
     "output_type": "display_data"
    },
    {
     "data": {
      "text/markdown": [
       "**Ejercicio: **p012e04"
      ],
      "text/plain": [
       "<IPython.core.display.Markdown object>"
      ]
     },
     "metadata": {},
     "output_type": "display_data"
    },
    {
     "data": {
      "text/html": [
       "<div>\n",
       "<style scoped>\n",
       "    .dataframe tbody tr th:only-of-type {\n",
       "        vertical-align: middle;\n",
       "    }\n",
       "\n",
       "    .dataframe tbody tr th {\n",
       "        vertical-align: top;\n",
       "    }\n",
       "\n",
       "    .dataframe thead th {\n",
       "        text-align: right;\n",
       "    }\n",
       "</style>\n",
       "<table border=\"1\" class=\"dataframe\">\n",
       "  <thead>\n",
       "    <tr style=\"text-align: right;\">\n",
       "      <th></th>\n",
       "      <th>enunciado_latex</th>\n",
       "      <th>enunciado</th>\n",
       "      <th>solucion</th>\n",
       "      <th>texto</th>\n",
       "      <th>curso</th>\n",
       "      <th>titulo</th>\n",
       "      <th>n_ejercicio</th>\n",
       "      <th>dificultad</th>\n",
       "      <th>n_columnas</th>\n",
       "    </tr>\n",
       "  </thead>\n",
       "  <tbody>\n",
       "    <tr>\n",
       "      <th>2</th>\n",
       "      <td>A(x) \\cdot B(x)</td>\n",
       "      <td>A(x)*B(x)</td>\n",
       "      <td>- 3 x^{7} + 9 x^{6} - 8 x^{5} + 6 x^{4} - 25 x...</td>\n",
       "      <td>Dados los polinomios $ A(x)=3{x^3} - 6{x^2} + ...</td>\n",
       "      <td>1BC</td>\n",
       "      <td>4 - Polinomios</td>\n",
       "      <td>p012e04</td>\n",
       "      <td>1</td>\n",
       "      <td>3</td>\n",
       "    </tr>\n",
       "    <tr>\n",
       "      <th>3</th>\n",
       "      <td>A(x) - 3B(x) + 5C(x)</td>\n",
       "      <td>A(x) - 3*B(x) + 5*C(x)</td>\n",
       "      <td>8 x^{4} - 11 x^{2} + 4 x + \\frac{39}{2}</td>\n",
       "      <td>Dados los polinomios $ A(x)=3{x^3} - 6{x^2} + ...</td>\n",
       "      <td>1BC</td>\n",
       "      <td>4 - Polinomios</td>\n",
       "      <td>p012e04</td>\n",
       "      <td>1</td>\n",
       "      <td>3</td>\n",
       "    </tr>\n",
       "    <tr>\n",
       "      <th>4</th>\n",
       "      <td>x^2\\cdot A(x) + 3x\\cdot B(x)</td>\n",
       "      <td>x**2*A(x) + (3*x)*B(x)</td>\n",
       "      <td>- 3 x^{4} + 2 x^{3} + 2 x^{2} - 18 x</td>\n",
       "      <td>Dados los polinomios $ A(x)=3{x^3} - 6{x^2} + ...</td>\n",
       "      <td>1BC</td>\n",
       "      <td>4 - Polinomios</td>\n",
       "      <td>p012e04</td>\n",
       "      <td>1</td>\n",
       "      <td>3</td>\n",
       "    </tr>\n",
       "  </tbody>\n",
       "</table>\n",
       "</div>"
      ],
      "text/plain": [
       "                enunciado_latex               enunciado  \\\n",
       "2               A(x) \\cdot B(x)               A(x)*B(x)   \n",
       "3          A(x) - 3B(x) + 5C(x)  A(x) - 3*B(x) + 5*C(x)   \n",
       "4  x^2\\cdot A(x) + 3x\\cdot B(x)  x**2*A(x) + (3*x)*B(x)   \n",
       "\n",
       "                                            solucion  \\\n",
       "2  - 3 x^{7} + 9 x^{6} - 8 x^{5} + 6 x^{4} - 25 x...   \n",
       "3            8 x^{4} - 11 x^{2} + 4 x + \\frac{39}{2}   \n",
       "4               - 3 x^{4} + 2 x^{3} + 2 x^{2} - 18 x   \n",
       "\n",
       "                                               texto curso          titulo  \\\n",
       "2  Dados los polinomios $ A(x)=3{x^3} - 6{x^2} + ...   1BC  4 - Polinomios   \n",
       "3  Dados los polinomios $ A(x)=3{x^3} - 6{x^2} + ...   1BC  4 - Polinomios   \n",
       "4  Dados los polinomios $ A(x)=3{x^3} - 6{x^2} + ...   1BC  4 - Polinomios   \n",
       "\n",
       "  n_ejercicio  dificultad  n_columnas  \n",
       "2     p012e04           1           3  \n",
       "3     p012e04           1           3  \n",
       "4     p012e04           1           3  "
      ]
     },
     "metadata": {},
     "output_type": "display_data"
    },
    {
     "data": {
      "text/markdown": [
       "**Ejercicio: **p012e07"
      ],
      "text/plain": [
       "<IPython.core.display.Markdown object>"
      ]
     },
     "metadata": {},
     "output_type": "display_data"
    },
    {
     "data": {
      "text/html": [
       "<div>\n",
       "<style scoped>\n",
       "    .dataframe tbody tr th:only-of-type {\n",
       "        vertical-align: middle;\n",
       "    }\n",
       "\n",
       "    .dataframe tbody tr th {\n",
       "        vertical-align: top;\n",
       "    }\n",
       "\n",
       "    .dataframe thead th {\n",
       "        text-align: right;\n",
       "    }\n",
       "</style>\n",
       "<table border=\"1\" class=\"dataframe\">\n",
       "  <thead>\n",
       "    <tr style=\"text-align: right;\">\n",
       "      <th></th>\n",
       "      <th>enunciado_latex</th>\n",
       "      <th>enunciado</th>\n",
       "      <th>solucion</th>\n",
       "      <th>texto</th>\n",
       "      <th>curso</th>\n",
       "      <th>titulo</th>\n",
       "      <th>n_ejercicio</th>\n",
       "      <th>dificultad</th>\n",
       "      <th>n_columnas</th>\n",
       "    </tr>\n",
       "  </thead>\n",
       "  <tbody>\n",
       "    <tr>\n",
       "      <th>5</th>\n",
       "      <td>( {5{x^4} - 7{x^2} + 6x + 1} ):( {3{x^2}} )</td>\n",
       "      <td>(6*x + 5*x**4 - 7*x**2 + 1)/(3*x**2)</td>\n",
       "      <td>\\left ( \\frac{5 x^{2}}{3} - \\frac{7}{3}, \\quad...</td>\n",
       "      <td>Halla el cociente y el resto de:</td>\n",
       "      <td>1BC</td>\n",
       "      <td>4 - Polinomios</td>\n",
       "      <td>p012e07</td>\n",
       "      <td>1</td>\n",
       "      <td>1</td>\n",
       "    </tr>\n",
       "    <tr>\n",
       "      <th>6</th>\n",
       "      <td>( {7{x^4} - 3{x^2} + 6x - 1} ):( {{x^2}-x+3} )</td>\n",
       "      <td>(6*x + 7*x**4 - 3*x**2 - 1)/(x**2 - x + 3)</td>\n",
       "      <td>\\left ( 7 x^{2} + 7 x - 17, \\quad - 32 x + 50\\...</td>\n",
       "      <td>Halla el cociente y el resto de:</td>\n",
       "      <td>1BC</td>\n",
       "      <td>4 - Polinomios</td>\n",
       "      <td>p012e07</td>\n",
       "      <td>1</td>\n",
       "      <td>1</td>\n",
       "    </tr>\n",
       "    <tr>\n",
       "      <th>7</th>\n",
       "      <td>( {{x^6} - 5} ):( {{x^2} - x})</td>\n",
       "      <td>(x**6 - 5)/(x**2 - x)</td>\n",
       "      <td>\\left ( x^{4} + x^{3} + x^{2} + x + 1, \\quad x...</td>\n",
       "      <td>Halla el cociente y el resto de:</td>\n",
       "      <td>1BC</td>\n",
       "      <td>4 - Polinomios</td>\n",
       "      <td>p012e07</td>\n",
       "      <td>1</td>\n",
       "      <td>1</td>\n",
       "    </tr>\n",
       "    <tr>\n",
       "      <th>8</th>\n",
       "      <td>( {8{x^6} - 5x^4 + 6 } ):( {2x^2} - 1)</td>\n",
       "      <td>(8*x**6 - 5*x**4 + 6)/(2*x**2 - 1)</td>\n",
       "      <td>\\left ( 4 x^{4} - \\frac{x^{2}}{2} - \\frac{1}{4...</td>\n",
       "      <td>Halla el cociente y el resto de:</td>\n",
       "      <td>1BC</td>\n",
       "      <td>4 - Polinomios</td>\n",
       "      <td>p012e07</td>\n",
       "      <td>1</td>\n",
       "      <td>1</td>\n",
       "    </tr>\n",
       "    <tr>\n",
       "      <th>9</th>\n",
       "      <td>( {3{x^5} - 6{x^2} + 9} ):( {{x^2} + 1} )</td>\n",
       "      <td>(3*x**5 - 6*x**2 + 9)/(x**2 + 1)</td>\n",
       "      <td>\\left ( 3 x^{3} - 3 x - 6, \\quad 3 x + 15\\right )</td>\n",
       "      <td>Halla el cociente y el resto de:</td>\n",
       "      <td>1BC</td>\n",
       "      <td>4 - Polinomios</td>\n",
       "      <td>p012e07</td>\n",
       "      <td>1</td>\n",
       "      <td>1</td>\n",
       "    </tr>\n",
       "    <tr>\n",
       "      <th>10</th>\n",
       "      <td>( {x^9} - 7{x} + 1 ):( {{x^3} + x} )</td>\n",
       "      <td>(x**9 - 7*x + 1)/(x**3 + x)</td>\n",
       "      <td>\\left ( x^{6} - x^{4} + x^{2} - 1, \\quad - 6 x...</td>\n",
       "      <td>Halla el cociente y el resto de:</td>\n",
       "      <td>1BC</td>\n",
       "      <td>4 - Polinomios</td>\n",
       "      <td>p012e07</td>\n",
       "      <td>1</td>\n",
       "      <td>1</td>\n",
       "    </tr>\n",
       "  </tbody>\n",
       "</table>\n",
       "</div>"
      ],
      "text/plain": [
       "                                   enunciado_latex  \\\n",
       "5      ( {5{x^4} - 7{x^2} + 6x + 1} ):( {3{x^2}} )   \n",
       "6   ( {7{x^4} - 3{x^2} + 6x - 1} ):( {{x^2}-x+3} )   \n",
       "7                   ( {{x^6} - 5} ):( {{x^2} - x})   \n",
       "8           ( {8{x^6} - 5x^4 + 6 } ):( {2x^2} - 1)   \n",
       "9        ( {3{x^5} - 6{x^2} + 9} ):( {{x^2} + 1} )   \n",
       "10            ( {x^9} - 7{x} + 1 ):( {{x^3} + x} )   \n",
       "\n",
       "                                     enunciado  \\\n",
       "5         (6*x + 5*x**4 - 7*x**2 + 1)/(3*x**2)   \n",
       "6   (6*x + 7*x**4 - 3*x**2 - 1)/(x**2 - x + 3)   \n",
       "7                        (x**6 - 5)/(x**2 - x)   \n",
       "8           (8*x**6 - 5*x**4 + 6)/(2*x**2 - 1)   \n",
       "9             (3*x**5 - 6*x**2 + 9)/(x**2 + 1)   \n",
       "10                 (x**9 - 7*x + 1)/(x**3 + x)   \n",
       "\n",
       "                                             solucion  \\\n",
       "5   \\left ( \\frac{5 x^{2}}{3} - \\frac{7}{3}, \\quad...   \n",
       "6   \\left ( 7 x^{2} + 7 x - 17, \\quad - 32 x + 50\\...   \n",
       "7   \\left ( x^{4} + x^{3} + x^{2} + x + 1, \\quad x...   \n",
       "8   \\left ( 4 x^{4} - \\frac{x^{2}}{2} - \\frac{1}{4...   \n",
       "9   \\left ( 3 x^{3} - 3 x - 6, \\quad 3 x + 15\\right )   \n",
       "10  \\left ( x^{6} - x^{4} + x^{2} - 1, \\quad - 6 x...   \n",
       "\n",
       "                               texto curso          titulo n_ejercicio  \\\n",
       "5   Halla el cociente y el resto de:   1BC  4 - Polinomios     p012e07   \n",
       "6   Halla el cociente y el resto de:   1BC  4 - Polinomios     p012e07   \n",
       "7   Halla el cociente y el resto de:   1BC  4 - Polinomios     p012e07   \n",
       "8   Halla el cociente y el resto de:   1BC  4 - Polinomios     p012e07   \n",
       "9   Halla el cociente y el resto de:   1BC  4 - Polinomios     p012e07   \n",
       "10  Halla el cociente y el resto de:   1BC  4 - Polinomios     p012e07   \n",
       "\n",
       "    dificultad  n_columnas  \n",
       "5            1           1  \n",
       "6            1           1  \n",
       "7            1           1  \n",
       "8            1           1  \n",
       "9            1           1  \n",
       "10           1           1  "
      ]
     },
     "metadata": {},
     "output_type": "display_data"
    },
    {
     "data": {
      "text/markdown": [
       "**Ejercicio: **p012e08"
      ],
      "text/plain": [
       "<IPython.core.display.Markdown object>"
      ]
     },
     "metadata": {},
     "output_type": "display_data"
    },
    {
     "data": {
      "text/html": [
       "<div>\n",
       "<style scoped>\n",
       "    .dataframe tbody tr th:only-of-type {\n",
       "        vertical-align: middle;\n",
       "    }\n",
       "\n",
       "    .dataframe tbody tr th {\n",
       "        vertical-align: top;\n",
       "    }\n",
       "\n",
       "    .dataframe thead th {\n",
       "        text-align: right;\n",
       "    }\n",
       "</style>\n",
       "<table border=\"1\" class=\"dataframe\">\n",
       "  <thead>\n",
       "    <tr style=\"text-align: right;\">\n",
       "      <th></th>\n",
       "      <th>enunciado_latex</th>\n",
       "      <th>enunciado</th>\n",
       "      <th>solucion</th>\n",
       "      <th>texto</th>\n",
       "      <th>curso</th>\n",
       "      <th>titulo</th>\n",
       "      <th>n_ejercicio</th>\n",
       "      <th>dificultad</th>\n",
       "      <th>n_columnas</th>\n",
       "    </tr>\n",
       "  </thead>\n",
       "  <tbody>\n",
       "    <tr>\n",
       "      <th>11</th>\n",
       "      <td>x=1</td>\n",
       "      <td>x=1</td>\n",
       "      <td>6\\ y \\ 11</td>\n",
       "      <td>Dados $ A(x)= - {x^3} + 2{x^2} + 5, \\  B(x)= 2...</td>\n",
       "      <td>1BC</td>\n",
       "      <td>4 - Polinomios</td>\n",
       "      <td>p012e08</td>\n",
       "      <td>1</td>\n",
       "      <td>3</td>\n",
       "    </tr>\n",
       "    <tr>\n",
       "      <th>12</th>\n",
       "      <td>x=-1</td>\n",
       "      <td>x=-1</td>\n",
       "      <td>8\\ y \\ 5</td>\n",
       "      <td>Dados $ A(x)= - {x^3} + 2{x^2} + 5, \\  B(x)= 2...</td>\n",
       "      <td>1BC</td>\n",
       "      <td>4 - Polinomios</td>\n",
       "      <td>p012e08</td>\n",
       "      <td>1</td>\n",
       "      <td>3</td>\n",
       "    </tr>\n",
       "    <tr>\n",
       "      <th>13</th>\n",
       "      <td>x=2</td>\n",
       "      <td>x=2</td>\n",
       "      <td>5\\ y \\ 44</td>\n",
       "      <td>Dados $ A(x)= - {x^3} + 2{x^2} + 5, \\  B(x)= 2...</td>\n",
       "      <td>1BC</td>\n",
       "      <td>4 - Polinomios</td>\n",
       "      <td>p012e08</td>\n",
       "      <td>1</td>\n",
       "      <td>3</td>\n",
       "    </tr>\n",
       "    <tr>\n",
       "      <th>14</th>\n",
       "      <td>x=-2</td>\n",
       "      <td>x=-2</td>\n",
       "      <td>21\\ y \\ 32</td>\n",
       "      <td>Dados $ A(x)= - {x^3} + 2{x^2} + 5, \\  B(x)= 2...</td>\n",
       "      <td>1BC</td>\n",
       "      <td>4 - Polinomios</td>\n",
       "      <td>p012e08</td>\n",
       "      <td>1</td>\n",
       "      <td>3</td>\n",
       "    </tr>\n",
       "    <tr>\n",
       "      <th>15</th>\n",
       "      <td>x=\\frac{1}{2}</td>\n",
       "      <td>x=\\frac{1}{2}</td>\n",
       "      <td>\\frac{43}{8}\\ y \\ \\frac{61}{8}</td>\n",
       "      <td>Dados $ A(x)= - {x^3} + 2{x^2} + 5, \\  B(x)= 2...</td>\n",
       "      <td>1BC</td>\n",
       "      <td>4 - Polinomios</td>\n",
       "      <td>p012e08</td>\n",
       "      <td>1</td>\n",
       "      <td>3</td>\n",
       "    </tr>\n",
       "    <tr>\n",
       "      <th>16</th>\n",
       "      <td>x=-\\frac{1}{2}</td>\n",
       "      <td>x=-\\frac{1}{2}</td>\n",
       "      <td>\\frac{45}{8}\\ y \\ \\frac{37}{8}</td>\n",
       "      <td>Dados $ A(x)= - {x^3} + 2{x^2} + 5, \\  B(x)= 2...</td>\n",
       "      <td>1BC</td>\n",
       "      <td>4 - Polinomios</td>\n",
       "      <td>p012e08</td>\n",
       "      <td>1</td>\n",
       "      <td>3</td>\n",
       "    </tr>\n",
       "  </tbody>\n",
       "</table>\n",
       "</div>"
      ],
      "text/plain": [
       "   enunciado_latex       enunciado                        solucion  \\\n",
       "11             x=1             x=1                       6\\ y \\ 11   \n",
       "12            x=-1            x=-1                        8\\ y \\ 5   \n",
       "13             x=2             x=2                       5\\ y \\ 44   \n",
       "14            x=-2            x=-2                      21\\ y \\ 32   \n",
       "15   x=\\frac{1}{2}   x=\\frac{1}{2}  \\frac{43}{8}\\ y \\ \\frac{61}{8}   \n",
       "16  x=-\\frac{1}{2}  x=-\\frac{1}{2}  \\frac{45}{8}\\ y \\ \\frac{37}{8}   \n",
       "\n",
       "                                                texto curso          titulo  \\\n",
       "11  Dados $ A(x)= - {x^3} + 2{x^2} + 5, \\  B(x)= 2...   1BC  4 - Polinomios   \n",
       "12  Dados $ A(x)= - {x^3} + 2{x^2} + 5, \\  B(x)= 2...   1BC  4 - Polinomios   \n",
       "13  Dados $ A(x)= - {x^3} + 2{x^2} + 5, \\  B(x)= 2...   1BC  4 - Polinomios   \n",
       "14  Dados $ A(x)= - {x^3} + 2{x^2} + 5, \\  B(x)= 2...   1BC  4 - Polinomios   \n",
       "15  Dados $ A(x)= - {x^3} + 2{x^2} + 5, \\  B(x)= 2...   1BC  4 - Polinomios   \n",
       "16  Dados $ A(x)= - {x^3} + 2{x^2} + 5, \\  B(x)= 2...   1BC  4 - Polinomios   \n",
       "\n",
       "   n_ejercicio  dificultad  n_columnas  \n",
       "11     p012e08           1           3  \n",
       "12     p012e08           1           3  \n",
       "13     p012e08           1           3  \n",
       "14     p012e08           1           3  \n",
       "15     p012e08           1           3  \n",
       "16     p012e08           1           3  "
      ]
     },
     "metadata": {},
     "output_type": "display_data"
    },
    {
     "data": {
      "text/markdown": [
       "**Ejercicio: **p012e09"
      ],
      "text/plain": [
       "<IPython.core.display.Markdown object>"
      ]
     },
     "metadata": {},
     "output_type": "display_data"
    },
    {
     "data": {
      "text/html": [
       "<div>\n",
       "<style scoped>\n",
       "    .dataframe tbody tr th:only-of-type {\n",
       "        vertical-align: middle;\n",
       "    }\n",
       "\n",
       "    .dataframe tbody tr th {\n",
       "        vertical-align: top;\n",
       "    }\n",
       "\n",
       "    .dataframe thead th {\n",
       "        text-align: right;\n",
       "    }\n",
       "</style>\n",
       "<table border=\"1\" class=\"dataframe\">\n",
       "  <thead>\n",
       "    <tr style=\"text-align: right;\">\n",
       "      <th></th>\n",
       "      <th>enunciado_latex</th>\n",
       "      <th>enunciado</th>\n",
       "      <th>solucion</th>\n",
       "      <th>texto</th>\n",
       "      <th>curso</th>\n",
       "      <th>titulo</th>\n",
       "      <th>n_ejercicio</th>\n",
       "      <th>dificultad</th>\n",
       "      <th>n_columnas</th>\n",
       "    </tr>\n",
       "  </thead>\n",
       "  <tbody>\n",
       "    <tr>\n",
       "      <th>17</th>\n",
       "      <td>x^2 - 1</td>\n",
       "      <td>x**2 - 1</td>\n",
       "      <td>\\left\\{-1, 1\\right\\}</td>\n",
       "      <td>Halla, para cada uno  de los siguientes polino...</td>\n",
       "      <td>1BC</td>\n",
       "      <td>4 - Polinomios</td>\n",
       "      <td>p012e09</td>\n",
       "      <td>1</td>\n",
       "      <td>3</td>\n",
       "    </tr>\n",
       "    <tr>\n",
       "      <th>18</th>\n",
       "      <td>x^2 - 7</td>\n",
       "      <td>x**2 - 7</td>\n",
       "      <td>\\left\\{- \\sqrt{7}, \\sqrt{7}\\right\\}</td>\n",
       "      <td>Halla, para cada uno  de los siguientes polino...</td>\n",
       "      <td>1BC</td>\n",
       "      <td>4 - Polinomios</td>\n",
       "      <td>p012e09</td>\n",
       "      <td>1</td>\n",
       "      <td>3</td>\n",
       "    </tr>\n",
       "    <tr>\n",
       "      <th>19</th>\n",
       "      <td>3x^2 -12</td>\n",
       "      <td>3*x**2 - 12</td>\n",
       "      <td>\\left\\{-2, 2\\right\\}</td>\n",
       "      <td>Halla, para cada uno  de los siguientes polino...</td>\n",
       "      <td>1BC</td>\n",
       "      <td>4 - Polinomios</td>\n",
       "      <td>p012e09</td>\n",
       "      <td>1</td>\n",
       "      <td>3</td>\n",
       "    </tr>\n",
       "    <tr>\n",
       "      <th>20</th>\n",
       "      <td>5x^2 -25</td>\n",
       "      <td>5*x**2 - 25</td>\n",
       "      <td>\\left\\{- \\sqrt{5}, \\sqrt{5}\\right\\}</td>\n",
       "      <td>Halla, para cada uno  de los siguientes polino...</td>\n",
       "      <td>1BC</td>\n",
       "      <td>4 - Polinomios</td>\n",
       "      <td>p012e09</td>\n",
       "      <td>1</td>\n",
       "      <td>3</td>\n",
       "    </tr>\n",
       "  </tbody>\n",
       "</table>\n",
       "</div>"
      ],
      "text/plain": [
       "   enunciado_latex    enunciado                             solucion  \\\n",
       "17         x^2 - 1     x**2 - 1                 \\left\\{-1, 1\\right\\}   \n",
       "18         x^2 - 7     x**2 - 7  \\left\\{- \\sqrt{7}, \\sqrt{7}\\right\\}   \n",
       "19        3x^2 -12  3*x**2 - 12                 \\left\\{-2, 2\\right\\}   \n",
       "20        5x^2 -25  5*x**2 - 25  \\left\\{- \\sqrt{5}, \\sqrt{5}\\right\\}   \n",
       "\n",
       "                                                texto curso          titulo  \\\n",
       "17  Halla, para cada uno  de los siguientes polino...   1BC  4 - Polinomios   \n",
       "18  Halla, para cada uno  de los siguientes polino...   1BC  4 - Polinomios   \n",
       "19  Halla, para cada uno  de los siguientes polino...   1BC  4 - Polinomios   \n",
       "20  Halla, para cada uno  de los siguientes polino...   1BC  4 - Polinomios   \n",
       "\n",
       "   n_ejercicio  dificultad  n_columnas  \n",
       "17     p012e09           1           3  \n",
       "18     p012e09           1           3  \n",
       "19     p012e09           1           3  \n",
       "20     p012e09           1           3  "
      ]
     },
     "metadata": {},
     "output_type": "display_data"
    },
    {
     "data": {
      "text/markdown": [
       "**Ejercicio: **p012e10"
      ],
      "text/plain": [
       "<IPython.core.display.Markdown object>"
      ]
     },
     "metadata": {},
     "output_type": "display_data"
    },
    {
     "data": {
      "text/html": [
       "<div>\n",
       "<style scoped>\n",
       "    .dataframe tbody tr th:only-of-type {\n",
       "        vertical-align: middle;\n",
       "    }\n",
       "\n",
       "    .dataframe tbody tr th {\n",
       "        vertical-align: top;\n",
       "    }\n",
       "\n",
       "    .dataframe thead th {\n",
       "        text-align: right;\n",
       "    }\n",
       "</style>\n",
       "<table border=\"1\" class=\"dataframe\">\n",
       "  <thead>\n",
       "    <tr style=\"text-align: right;\">\n",
       "      <th></th>\n",
       "      <th>enunciado_latex</th>\n",
       "      <th>enunciado</th>\n",
       "      <th>solucion</th>\n",
       "      <th>texto</th>\n",
       "      <th>curso</th>\n",
       "      <th>titulo</th>\n",
       "      <th>n_ejercicio</th>\n",
       "      <th>dificultad</th>\n",
       "      <th>n_columnas</th>\n",
       "    </tr>\n",
       "  </thead>\n",
       "  <tbody>\n",
       "    <tr>\n",
       "      <th>21</th>\n",
       "      <td>x^4 +3</td>\n",
       "      <td>x**4 + 3</td>\n",
       "      <td>\\left\\{- \\frac{\\sqrt{2} \\sqrt[4]{3}}{2} - \\fra...</td>\n",
       "      <td>¿Tiene el polinomio A(x)= $x^4 +3$ alguna raíz...</td>\n",
       "      <td>1BC</td>\n",
       "      <td>4 - Polinomios</td>\n",
       "      <td>p012e10</td>\n",
       "      <td>1</td>\n",
       "      <td>1</td>\n",
       "    </tr>\n",
       "  </tbody>\n",
       "</table>\n",
       "</div>"
      ],
      "text/plain": [
       "   enunciado_latex enunciado  \\\n",
       "21          x^4 +3  x**4 + 3   \n",
       "\n",
       "                                             solucion  \\\n",
       "21  \\left\\{- \\frac{\\sqrt{2} \\sqrt[4]{3}}{2} - \\fra...   \n",
       "\n",
       "                                                texto curso          titulo  \\\n",
       "21  ¿Tiene el polinomio A(x)= $x^4 +3$ alguna raíz...   1BC  4 - Polinomios   \n",
       "\n",
       "   n_ejercicio  dificultad  n_columnas  \n",
       "21     p012e10           1           1  "
      ]
     },
     "metadata": {},
     "output_type": "display_data"
    },
    {
     "data": {
      "text/markdown": [
       "**Ejercicio: **p013e11"
      ],
      "text/plain": [
       "<IPython.core.display.Markdown object>"
      ]
     },
     "metadata": {},
     "output_type": "display_data"
    },
    {
     "data": {
      "text/html": [
       "<div>\n",
       "<style scoped>\n",
       "    .dataframe tbody tr th:only-of-type {\n",
       "        vertical-align: middle;\n",
       "    }\n",
       "\n",
       "    .dataframe tbody tr th {\n",
       "        vertical-align: top;\n",
       "    }\n",
       "\n",
       "    .dataframe thead th {\n",
       "        text-align: right;\n",
       "    }\n",
       "</style>\n",
       "<table border=\"1\" class=\"dataframe\">\n",
       "  <thead>\n",
       "    <tr style=\"text-align: right;\">\n",
       "      <th></th>\n",
       "      <th>enunciado_latex</th>\n",
       "      <th>enunciado</th>\n",
       "      <th>solucion</th>\n",
       "      <th>texto</th>\n",
       "      <th>curso</th>\n",
       "      <th>titulo</th>\n",
       "      <th>n_ejercicio</th>\n",
       "      <th>dificultad</th>\n",
       "      <th>n_columnas</th>\n",
       "    </tr>\n",
       "  </thead>\n",
       "  <tbody>\n",
       "    <tr>\n",
       "      <th>22</th>\n",
       "      <td>( {{x^2} - 3x + 6} ):( {x+2} )</td>\n",
       "      <td>(x**2 - 3*x + 6)/(x + 2)</td>\n",
       "      <td>\\left ( x - 5, \\quad 16\\right )</td>\n",
       "      <td>Aplica la regla de Ruffini para hallar el coci...</td>\n",
       "      <td>1BC</td>\n",
       "      <td>4 - Polinomios</td>\n",
       "      <td>p013e11</td>\n",
       "      <td>1</td>\n",
       "      <td>1</td>\n",
       "    </tr>\n",
       "    <tr>\n",
       "      <th>23</th>\n",
       "      <td>( {2{x^6} - 7{x^4} + 6x - 9} ):( {x+3} )</td>\n",
       "      <td>(6*x + 2*x**6 - 7*x**4 - 9)/(x + 3)</td>\n",
       "      <td>\\left ( 2 x^{5} - 6 x^{4} + 11 x^{3} - 33 x^{2...</td>\n",
       "      <td>Aplica la regla de Ruffini para hallar el coci...</td>\n",
       "      <td>1BC</td>\n",
       "      <td>4 - Polinomios</td>\n",
       "      <td>p013e11</td>\n",
       "      <td>1</td>\n",
       "      <td>1</td>\n",
       "    </tr>\n",
       "    <tr>\n",
       "      <th>24</th>\n",
       "      <td>( {7{x^3} - 4x - 3} ):( {{x} - 1})</td>\n",
       "      <td>(7*x**3 - 4*x - 3)/(x - 1)</td>\n",
       "      <td>\\left ( 7 x^{2} + 7 x + 3, \\quad 0\\right )</td>\n",
       "      <td>Aplica la regla de Ruffini para hallar el coci...</td>\n",
       "      <td>1BC</td>\n",
       "      <td>4 - Polinomios</td>\n",
       "      <td>p013e11</td>\n",
       "      <td>1</td>\n",
       "      <td>1</td>\n",
       "    </tr>\n",
       "    <tr>\n",
       "      <th>25</th>\n",
       "      <td>( {x^2 - 1 } ):( {x} + 1)</td>\n",
       "      <td>(x**2 - 1)/(x + 1)</td>\n",
       "      <td>\\left ( x - 1, \\quad 0\\right )</td>\n",
       "      <td>Aplica la regla de Ruffini para hallar el coci...</td>\n",
       "      <td>1BC</td>\n",
       "      <td>4 - Polinomios</td>\n",
       "      <td>p013e11</td>\n",
       "      <td>1</td>\n",
       "      <td>1</td>\n",
       "    </tr>\n",
       "  </tbody>\n",
       "</table>\n",
       "</div>"
      ],
      "text/plain": [
       "                             enunciado_latex  \\\n",
       "22            ( {{x^2} - 3x + 6} ):( {x+2} )   \n",
       "23  ( {2{x^6} - 7{x^4} + 6x - 9} ):( {x+3} )   \n",
       "24        ( {7{x^3} - 4x - 3} ):( {{x} - 1})   \n",
       "25                 ( {x^2 - 1 } ):( {x} + 1)   \n",
       "\n",
       "                              enunciado  \\\n",
       "22             (x**2 - 3*x + 6)/(x + 2)   \n",
       "23  (6*x + 2*x**6 - 7*x**4 - 9)/(x + 3)   \n",
       "24           (7*x**3 - 4*x - 3)/(x - 1)   \n",
       "25                   (x**2 - 1)/(x + 1)   \n",
       "\n",
       "                                             solucion  \\\n",
       "22                    \\left ( x - 5, \\quad 16\\right )   \n",
       "23  \\left ( 2 x^{5} - 6 x^{4} + 11 x^{3} - 33 x^{2...   \n",
       "24         \\left ( 7 x^{2} + 7 x + 3, \\quad 0\\right )   \n",
       "25                     \\left ( x - 1, \\quad 0\\right )   \n",
       "\n",
       "                                                texto curso          titulo  \\\n",
       "22  Aplica la regla de Ruffini para hallar el coci...   1BC  4 - Polinomios   \n",
       "23  Aplica la regla de Ruffini para hallar el coci...   1BC  4 - Polinomios   \n",
       "24  Aplica la regla de Ruffini para hallar el coci...   1BC  4 - Polinomios   \n",
       "25  Aplica la regla de Ruffini para hallar el coci...   1BC  4 - Polinomios   \n",
       "\n",
       "   n_ejercicio  dificultad  n_columnas  \n",
       "22     p013e11           1           1  \n",
       "23     p013e11           1           1  \n",
       "24     p013e11           1           1  \n",
       "25     p013e11           1           1  "
      ]
     },
     "metadata": {},
     "output_type": "display_data"
    },
    {
     "data": {
      "text/markdown": [
       "**Ejercicio: **p013e12"
      ],
      "text/plain": [
       "<IPython.core.display.Markdown object>"
      ]
     },
     "metadata": {},
     "output_type": "display_data"
    },
    {
     "data": {
      "text/html": [
       "<div>\n",
       "<style scoped>\n",
       "    .dataframe tbody tr th:only-of-type {\n",
       "        vertical-align: middle;\n",
       "    }\n",
       "\n",
       "    .dataframe tbody tr th {\n",
       "        vertical-align: top;\n",
       "    }\n",
       "\n",
       "    .dataframe thead th {\n",
       "        text-align: right;\n",
       "    }\n",
       "</style>\n",
       "<table border=\"1\" class=\"dataframe\">\n",
       "  <thead>\n",
       "    <tr style=\"text-align: right;\">\n",
       "      <th></th>\n",
       "      <th>enunciado_latex</th>\n",
       "      <th>enunciado</th>\n",
       "      <th>solucion</th>\n",
       "      <th>texto</th>\n",
       "      <th>curso</th>\n",
       "      <th>titulo</th>\n",
       "      <th>n_ejercicio</th>\n",
       "      <th>dificultad</th>\n",
       "      <th>n_columnas</th>\n",
       "    </tr>\n",
       "  </thead>\n",
       "  <tbody>\n",
       "    <tr>\n",
       "      <th>26</th>\n",
       "      <td>( {7{x^3} - 4x + 9} ):( {x+1} )</td>\n",
       "      <td>(7*x**3 - 4*x + 9)/(x + 1)</td>\n",
       "      <td>6</td>\n",
       "      <td>Aplica el teorema del resto para calcular el r...</td>\n",
       "      <td>1BC</td>\n",
       "      <td>4 - Polinomios</td>\n",
       "      <td>p013e12</td>\n",
       "      <td>1</td>\n",
       "      <td>3</td>\n",
       "    </tr>\n",
       "    <tr>\n",
       "      <th>27</th>\n",
       "      <td>( {7{x^3} - 4x - 3} ):( {x-1} )</td>\n",
       "      <td>(7*x**3 - 4*x - 3)/(x - 1)</td>\n",
       "      <td>0</td>\n",
       "      <td>Aplica el teorema del resto para calcular el r...</td>\n",
       "      <td>1BC</td>\n",
       "      <td>4 - Polinomios</td>\n",
       "      <td>p013e12</td>\n",
       "      <td>1</td>\n",
       "      <td>3</td>\n",
       "    </tr>\n",
       "    <tr>\n",
       "      <th>28</th>\n",
       "      <td>( {x^2 - 1} ):( {x + 1})</td>\n",
       "      <td>(x**2 - 1)/(x + 1)</td>\n",
       "      <td>0</td>\n",
       "      <td>Aplica el teorema del resto para calcular el r...</td>\n",
       "      <td>1BC</td>\n",
       "      <td>4 - Polinomios</td>\n",
       "      <td>p013e12</td>\n",
       "      <td>1</td>\n",
       "      <td>3</td>\n",
       "    </tr>\n",
       "  </tbody>\n",
       "</table>\n",
       "</div>"
      ],
      "text/plain": [
       "                    enunciado_latex                   enunciado solucion  \\\n",
       "26  ( {7{x^3} - 4x + 9} ):( {x+1} )  (7*x**3 - 4*x + 9)/(x + 1)        6   \n",
       "27  ( {7{x^3} - 4x - 3} ):( {x-1} )  (7*x**3 - 4*x - 3)/(x - 1)        0   \n",
       "28         ( {x^2 - 1} ):( {x + 1})          (x**2 - 1)/(x + 1)        0   \n",
       "\n",
       "                                                texto curso          titulo  \\\n",
       "26  Aplica el teorema del resto para calcular el r...   1BC  4 - Polinomios   \n",
       "27  Aplica el teorema del resto para calcular el r...   1BC  4 - Polinomios   \n",
       "28  Aplica el teorema del resto para calcular el r...   1BC  4 - Polinomios   \n",
       "\n",
       "   n_ejercicio  dificultad  n_columnas  \n",
       "26     p013e12           1           3  \n",
       "27     p013e12           1           3  \n",
       "28     p013e12           1           3  "
      ]
     },
     "metadata": {},
     "output_type": "display_data"
    },
    {
     "data": {
      "text/markdown": [
       "**Ejercicio: **p013e17-18"
      ],
      "text/plain": [
       "<IPython.core.display.Markdown object>"
      ]
     },
     "metadata": {},
     "output_type": "display_data"
    },
    {
     "data": {
      "text/html": [
       "<div>\n",
       "<style scoped>\n",
       "    .dataframe tbody tr th:only-of-type {\n",
       "        vertical-align: middle;\n",
       "    }\n",
       "\n",
       "    .dataframe tbody tr th {\n",
       "        vertical-align: top;\n",
       "    }\n",
       "\n",
       "    .dataframe thead th {\n",
       "        text-align: right;\n",
       "    }\n",
       "</style>\n",
       "<table border=\"1\" class=\"dataframe\">\n",
       "  <thead>\n",
       "    <tr style=\"text-align: right;\">\n",
       "      <th></th>\n",
       "      <th>enunciado_latex</th>\n",
       "      <th>enunciado</th>\n",
       "      <th>solucion</th>\n",
       "      <th>texto</th>\n",
       "      <th>curso</th>\n",
       "      <th>titulo</th>\n",
       "      <th>n_ejercicio</th>\n",
       "      <th>dificultad</th>\n",
       "      <th>n_columnas</th>\n",
       "    </tr>\n",
       "  </thead>\n",
       "  <tbody>\n",
       "    <tr>\n",
       "      <th>29</th>\n",
       "      <td>x^2-81</td>\n",
       "      <td>x**2 - 81</td>\n",
       "      <td>\\left(x - 9\\right) \\left(x + 9\\right)</td>\n",
       "      <td>Descomponer en factores</td>\n",
       "      <td>1BC</td>\n",
       "      <td>4 - Polinomios</td>\n",
       "      <td>p013e17-18</td>\n",
       "      <td>1</td>\n",
       "      <td>2</td>\n",
       "    </tr>\n",
       "    <tr>\n",
       "      <th>30</th>\n",
       "      <td>x^2-2</td>\n",
       "      <td>x**2 - 2</td>\n",
       "      <td>\\left(x - \\sqrt{2}\\right) \\left(x + \\sqrt{2}\\r...</td>\n",
       "      <td>Descomponer en factores</td>\n",
       "      <td>1BC</td>\n",
       "      <td>4 - Polinomios</td>\n",
       "      <td>p013e17-18</td>\n",
       "      <td>1</td>\n",
       "      <td>2</td>\n",
       "    </tr>\n",
       "    <tr>\n",
       "      <th>31</th>\n",
       "      <td>4x^2-9</td>\n",
       "      <td>4*x**2 - 9</td>\n",
       "      <td>4 \\left(x - \\frac{3}{2}\\right) \\left(x + \\frac...</td>\n",
       "      <td>Descomponer en factores</td>\n",
       "      <td>1BC</td>\n",
       "      <td>4 - Polinomios</td>\n",
       "      <td>p013e17-18</td>\n",
       "      <td>1</td>\n",
       "      <td>2</td>\n",
       "    </tr>\n",
       "    <tr>\n",
       "      <th>32</th>\n",
       "      <td>x^3-x</td>\n",
       "      <td>x**3 - x</td>\n",
       "      <td>x \\left(x - 1\\right) \\left(x + 1\\right)</td>\n",
       "      <td>Descomponer en factores</td>\n",
       "      <td>1BC</td>\n",
       "      <td>4 - Polinomios</td>\n",
       "      <td>p013e17-18</td>\n",
       "      <td>1</td>\n",
       "      <td>2</td>\n",
       "    </tr>\n",
       "    <tr>\n",
       "      <th>33</th>\n",
       "      <td>x^2-3x</td>\n",
       "      <td>x**2 - 3*x</td>\n",
       "      <td>x \\left(x - 3\\right)</td>\n",
       "      <td>Descomponer en factores</td>\n",
       "      <td>1BC</td>\n",
       "      <td>4 - Polinomios</td>\n",
       "      <td>p013e17-18</td>\n",
       "      <td>1</td>\n",
       "      <td>2</td>\n",
       "    </tr>\n",
       "    <tr>\n",
       "      <th>34</th>\n",
       "      <td>x^2-2x+1</td>\n",
       "      <td>x**2 - 2*x + 1</td>\n",
       "      <td>\\left(x - 1\\right)^{2}</td>\n",
       "      <td>Descomponer en factores</td>\n",
       "      <td>1BC</td>\n",
       "      <td>4 - Polinomios</td>\n",
       "      <td>p013e17-18</td>\n",
       "      <td>1</td>\n",
       "      <td>2</td>\n",
       "    </tr>\n",
       "    <tr>\n",
       "      <th>35</th>\n",
       "      <td>x^5-3x^4+2x^3</td>\n",
       "      <td>2*x**3 + x**5 - 3*x**4</td>\n",
       "      <td>x^{3} \\left(x - 2\\right) \\left(x - 1\\right)</td>\n",
       "      <td>Descomponer en factores</td>\n",
       "      <td>1BC</td>\n",
       "      <td>4 - Polinomios</td>\n",
       "      <td>p013e17-18</td>\n",
       "      <td>1</td>\n",
       "      <td>2</td>\n",
       "    </tr>\n",
       "    <tr>\n",
       "      <th>36</th>\n",
       "      <td>x^2-x-30</td>\n",
       "      <td>x**2 - x - 30</td>\n",
       "      <td>\\left(x - 6\\right) \\left(x + 5\\right)</td>\n",
       "      <td>Descomponer en factores</td>\n",
       "      <td>1BC</td>\n",
       "      <td>4 - Polinomios</td>\n",
       "      <td>p013e17-18</td>\n",
       "      <td>1</td>\n",
       "      <td>2</td>\n",
       "    </tr>\n",
       "    <tr>\n",
       "      <th>37</th>\n",
       "      <td>x^2+2x+1</td>\n",
       "      <td>x**2 + 2*x + 1</td>\n",
       "      <td>\\left(x + 1\\right)^{2}</td>\n",
       "      <td>Descomponer en factores</td>\n",
       "      <td>1BC</td>\n",
       "      <td>4 - Polinomios</td>\n",
       "      <td>p013e17-18</td>\n",
       "      <td>1</td>\n",
       "      <td>2</td>\n",
       "    </tr>\n",
       "    <tr>\n",
       "      <th>38</th>\n",
       "      <td>x^3-x^2-x+1</td>\n",
       "      <td>-x + x**3 - x**2 + 1</td>\n",
       "      <td>\\left(x - 1\\right)^{2} \\left(x + 1\\right)</td>\n",
       "      <td>Descomponer en factores</td>\n",
       "      <td>1BC</td>\n",
       "      <td>4 - Polinomios</td>\n",
       "      <td>p013e17-18</td>\n",
       "      <td>1</td>\n",
       "      <td>2</td>\n",
       "    </tr>\n",
       "    <tr>\n",
       "      <th>39</th>\n",
       "      <td>x^3-2x^2-5x+6</td>\n",
       "      <td>-5*x + x**3 - 2*x**2 + 6</td>\n",
       "      <td>\\left(x - 3\\right) \\left(x - 1\\right) \\left(x ...</td>\n",
       "      <td>Descomponer en factores</td>\n",
       "      <td>1BC</td>\n",
       "      <td>4 - Polinomios</td>\n",
       "      <td>p013e17-18</td>\n",
       "      <td>1</td>\n",
       "      <td>2</td>\n",
       "    </tr>\n",
       "    <tr>\n",
       "      <th>40</th>\n",
       "      <td>x^5+4x^4+x^3-10x^2-4x+8</td>\n",
       "      <td>-4*x - 10*x**2 + x**3 + x**5 + 4*x**4 + 8</td>\n",
       "      <td>\\left(x - 1\\right)^{2} \\left(x + 2\\right)^{3}</td>\n",
       "      <td>Descomponer en factores</td>\n",
       "      <td>1BC</td>\n",
       "      <td>4 - Polinomios</td>\n",
       "      <td>p013e17-18</td>\n",
       "      <td>1</td>\n",
       "      <td>2</td>\n",
       "    </tr>\n",
       "    <tr>\n",
       "      <th>41</th>\n",
       "      <td>x^3+3x^2-2x-6</td>\n",
       "      <td>-2*x + x**3 + 3*x**2 - 6</td>\n",
       "      <td>\\left(x + 3\\right) \\left(x - \\sqrt{2}\\right) \\...</td>\n",
       "      <td>Descomponer en factores</td>\n",
       "      <td>1BC</td>\n",
       "      <td>4 - Polinomios</td>\n",
       "      <td>p013e17-18</td>\n",
       "      <td>1</td>\n",
       "      <td>2</td>\n",
       "    </tr>\n",
       "    <tr>\n",
       "      <th>42</th>\n",
       "      <td>x^3-3x^2-13x+15</td>\n",
       "      <td>-13*x + x**3 - 3*x**2 + 15</td>\n",
       "      <td>\\left(x - 5\\right) \\left(x - 1\\right) \\left(x ...</td>\n",
       "      <td>Descomponer en factores</td>\n",
       "      <td>1BC</td>\n",
       "      <td>4 - Polinomios</td>\n",
       "      <td>p013e17-18</td>\n",
       "      <td>1</td>\n",
       "      <td>2</td>\n",
       "    </tr>\n",
       "    <tr>\n",
       "      <th>43</th>\n",
       "      <td>x^3+x^2-6x</td>\n",
       "      <td>-6*x + x**3 + x**2</td>\n",
       "      <td>x \\left(x - 2\\right) \\left(x + 3\\right)</td>\n",
       "      <td>Descomponer en factores</td>\n",
       "      <td>1BC</td>\n",
       "      <td>4 - Polinomios</td>\n",
       "      <td>p013e17-18</td>\n",
       "      <td>1</td>\n",
       "      <td>2</td>\n",
       "    </tr>\n",
       "    <tr>\n",
       "      <th>44</th>\n",
       "      <td>3x^3+x^2-12x-4</td>\n",
       "      <td>-12*x + 3*x**3 + x**2 - 4</td>\n",
       "      <td>3 \\left(x - 2\\right) \\left(x + \\frac{1}{3}\\rig...</td>\n",
       "      <td>Descomponer en factores</td>\n",
       "      <td>1BC</td>\n",
       "      <td>4 - Polinomios</td>\n",
       "      <td>p013e17-18</td>\n",
       "      <td>1</td>\n",
       "      <td>2</td>\n",
       "    </tr>\n",
       "    <tr>\n",
       "      <th>45</th>\n",
       "      <td>x^4+2x^3-x^2-2x</td>\n",
       "      <td>-2*x - x**2 + x**4 + 2*x**3</td>\n",
       "      <td>x \\left(x - 1\\right) \\left(x + 1\\right) \\left(...</td>\n",
       "      <td>Descomponer en factores</td>\n",
       "      <td>1BC</td>\n",
       "      <td>4 - Polinomios</td>\n",
       "      <td>p013e17-18</td>\n",
       "      <td>1</td>\n",
       "      <td>2</td>\n",
       "    </tr>\n",
       "    <tr>\n",
       "      <th>46</th>\n",
       "      <td>x^4-2x^3+2x^2-2x+1</td>\n",
       "      <td>-2*x + 2*x**2 + x**4 - 2*x**3 + 1</td>\n",
       "      <td>\\left(x - 1\\right)^{2} \\left(x^{2} + 1\\right)</td>\n",
       "      <td>Descomponer en factores</td>\n",
       "      <td>1BC</td>\n",
       "      <td>4 - Polinomios</td>\n",
       "      <td>p013e17-18</td>\n",
       "      <td>1</td>\n",
       "      <td>2</td>\n",
       "    </tr>\n",
       "    <tr>\n",
       "      <th>47</th>\n",
       "      <td>x^4+2x^3-3x^2-4x+4</td>\n",
       "      <td>-4*x - 3*x**2 + x**4 + 2*x**3 + 4</td>\n",
       "      <td>\\left(x - 1\\right)^{2} \\left(x + 2\\right)^{2}</td>\n",
       "      <td>Descomponer en factores</td>\n",
       "      <td>1BC</td>\n",
       "      <td>4 - Polinomios</td>\n",
       "      <td>p013e17-18</td>\n",
       "      <td>1</td>\n",
       "      <td>2</td>\n",
       "    </tr>\n",
       "    <tr>\n",
       "      <th>48</th>\n",
       "      <td>x^3+4x^2+x-6</td>\n",
       "      <td>x + x**3 + 4*x**2 - 6</td>\n",
       "      <td>\\left(x - 1\\right) \\left(x + 2\\right) \\left(x ...</td>\n",
       "      <td>Descomponer en factores</td>\n",
       "      <td>1BC</td>\n",
       "      <td>4 - Polinomios</td>\n",
       "      <td>p013e17-18</td>\n",
       "      <td>1</td>\n",
       "      <td>2</td>\n",
       "    </tr>\n",
       "    <tr>\n",
       "      <th>49</th>\n",
       "      <td>x^5- 4x^3-x^2+4</td>\n",
       "      <td>-x**2 + x**5 - 4*x**3 + 4</td>\n",
       "      <td>\\left(x - 2\\right) \\left(x - 1\\right) \\left(x ...</td>\n",
       "      <td>Descomponer en factores</td>\n",
       "      <td>1BC</td>\n",
       "      <td>4 - Polinomios</td>\n",
       "      <td>p013e17-18</td>\n",
       "      <td>1</td>\n",
       "      <td>2</td>\n",
       "    </tr>\n",
       "  </tbody>\n",
       "</table>\n",
       "</div>"
      ],
      "text/plain": [
       "            enunciado_latex                                  enunciado  \\\n",
       "29                   x^2-81                                  x**2 - 81   \n",
       "30                    x^2-2                                   x**2 - 2   \n",
       "31                   4x^2-9                                 4*x**2 - 9   \n",
       "32                    x^3-x                                   x**3 - x   \n",
       "33                   x^2-3x                                 x**2 - 3*x   \n",
       "34                 x^2-2x+1                             x**2 - 2*x + 1   \n",
       "35            x^5-3x^4+2x^3                     2*x**3 + x**5 - 3*x**4   \n",
       "36                 x^2-x-30                              x**2 - x - 30   \n",
       "37                 x^2+2x+1                             x**2 + 2*x + 1   \n",
       "38              x^3-x^2-x+1                       -x + x**3 - x**2 + 1   \n",
       "39            x^3-2x^2-5x+6                   -5*x + x**3 - 2*x**2 + 6   \n",
       "40  x^5+4x^4+x^3-10x^2-4x+8  -4*x - 10*x**2 + x**3 + x**5 + 4*x**4 + 8   \n",
       "41            x^3+3x^2-2x-6                   -2*x + x**3 + 3*x**2 - 6   \n",
       "42          x^3-3x^2-13x+15                 -13*x + x**3 - 3*x**2 + 15   \n",
       "43               x^3+x^2-6x                         -6*x + x**3 + x**2   \n",
       "44           3x^3+x^2-12x-4                  -12*x + 3*x**3 + x**2 - 4   \n",
       "45          x^4+2x^3-x^2-2x                -2*x - x**2 + x**4 + 2*x**3   \n",
       "46       x^4-2x^3+2x^2-2x+1          -2*x + 2*x**2 + x**4 - 2*x**3 + 1   \n",
       "47       x^4+2x^3-3x^2-4x+4          -4*x - 3*x**2 + x**4 + 2*x**3 + 4   \n",
       "48             x^3+4x^2+x-6                      x + x**3 + 4*x**2 - 6   \n",
       "49          x^5- 4x^3-x^2+4                  -x**2 + x**5 - 4*x**3 + 4   \n",
       "\n",
       "                                             solucion  \\\n",
       "29              \\left(x - 9\\right) \\left(x + 9\\right)   \n",
       "30  \\left(x - \\sqrt{2}\\right) \\left(x + \\sqrt{2}\\r...   \n",
       "31  4 \\left(x - \\frac{3}{2}\\right) \\left(x + \\frac...   \n",
       "32            x \\left(x - 1\\right) \\left(x + 1\\right)   \n",
       "33                               x \\left(x - 3\\right)   \n",
       "34                             \\left(x - 1\\right)^{2}   \n",
       "35        x^{3} \\left(x - 2\\right) \\left(x - 1\\right)   \n",
       "36              \\left(x - 6\\right) \\left(x + 5\\right)   \n",
       "37                             \\left(x + 1\\right)^{2}   \n",
       "38          \\left(x - 1\\right)^{2} \\left(x + 1\\right)   \n",
       "39  \\left(x - 3\\right) \\left(x - 1\\right) \\left(x ...   \n",
       "40      \\left(x - 1\\right)^{2} \\left(x + 2\\right)^{3}   \n",
       "41  \\left(x + 3\\right) \\left(x - \\sqrt{2}\\right) \\...   \n",
       "42  \\left(x - 5\\right) \\left(x - 1\\right) \\left(x ...   \n",
       "43            x \\left(x - 2\\right) \\left(x + 3\\right)   \n",
       "44  3 \\left(x - 2\\right) \\left(x + \\frac{1}{3}\\rig...   \n",
       "45  x \\left(x - 1\\right) \\left(x + 1\\right) \\left(...   \n",
       "46      \\left(x - 1\\right)^{2} \\left(x^{2} + 1\\right)   \n",
       "47      \\left(x - 1\\right)^{2} \\left(x + 2\\right)^{2}   \n",
       "48  \\left(x - 1\\right) \\left(x + 2\\right) \\left(x ...   \n",
       "49  \\left(x - 2\\right) \\left(x - 1\\right) \\left(x ...   \n",
       "\n",
       "                      texto curso          titulo n_ejercicio  dificultad  \\\n",
       "29  Descomponer en factores   1BC  4 - Polinomios  p013e17-18           1   \n",
       "30  Descomponer en factores   1BC  4 - Polinomios  p013e17-18           1   \n",
       "31  Descomponer en factores   1BC  4 - Polinomios  p013e17-18           1   \n",
       "32  Descomponer en factores   1BC  4 - Polinomios  p013e17-18           1   \n",
       "33  Descomponer en factores   1BC  4 - Polinomios  p013e17-18           1   \n",
       "34  Descomponer en factores   1BC  4 - Polinomios  p013e17-18           1   \n",
       "35  Descomponer en factores   1BC  4 - Polinomios  p013e17-18           1   \n",
       "36  Descomponer en factores   1BC  4 - Polinomios  p013e17-18           1   \n",
       "37  Descomponer en factores   1BC  4 - Polinomios  p013e17-18           1   \n",
       "38  Descomponer en factores   1BC  4 - Polinomios  p013e17-18           1   \n",
       "39  Descomponer en factores   1BC  4 - Polinomios  p013e17-18           1   \n",
       "40  Descomponer en factores   1BC  4 - Polinomios  p013e17-18           1   \n",
       "41  Descomponer en factores   1BC  4 - Polinomios  p013e17-18           1   \n",
       "42  Descomponer en factores   1BC  4 - Polinomios  p013e17-18           1   \n",
       "43  Descomponer en factores   1BC  4 - Polinomios  p013e17-18           1   \n",
       "44  Descomponer en factores   1BC  4 - Polinomios  p013e17-18           1   \n",
       "45  Descomponer en factores   1BC  4 - Polinomios  p013e17-18           1   \n",
       "46  Descomponer en factores   1BC  4 - Polinomios  p013e17-18           1   \n",
       "47  Descomponer en factores   1BC  4 - Polinomios  p013e17-18           1   \n",
       "48  Descomponer en factores   1BC  4 - Polinomios  p013e17-18           1   \n",
       "49  Descomponer en factores   1BC  4 - Polinomios  p013e17-18           1   \n",
       "\n",
       "    n_columnas  \n",
       "29           2  \n",
       "30           2  \n",
       "31           2  \n",
       "32           2  \n",
       "33           2  \n",
       "34           2  \n",
       "35           2  \n",
       "36           2  \n",
       "37           2  \n",
       "38           2  \n",
       "39           2  \n",
       "40           2  \n",
       "41           2  \n",
       "42           2  \n",
       "43           2  \n",
       "44           2  \n",
       "45           2  \n",
       "46           2  \n",
       "47           2  \n",
       "48           2  \n",
       "49           2  "
      ]
     },
     "metadata": {},
     "output_type": "display_data"
    },
    {
     "data": {
      "text/markdown": [
       "**Ejercicio: **p013e21"
      ],
      "text/plain": [
       "<IPython.core.display.Markdown object>"
      ]
     },
     "metadata": {},
     "output_type": "display_data"
    },
    {
     "data": {
      "text/html": [
       "<div>\n",
       "<style scoped>\n",
       "    .dataframe tbody tr th:only-of-type {\n",
       "        vertical-align: middle;\n",
       "    }\n",
       "\n",
       "    .dataframe tbody tr th {\n",
       "        vertical-align: top;\n",
       "    }\n",
       "\n",
       "    .dataframe thead th {\n",
       "        text-align: right;\n",
       "    }\n",
       "</style>\n",
       "<table border=\"1\" class=\"dataframe\">\n",
       "  <thead>\n",
       "    <tr style=\"text-align: right;\">\n",
       "      <th></th>\n",
       "      <th>enunciado_latex</th>\n",
       "      <th>enunciado</th>\n",
       "      <th>solucion</th>\n",
       "      <th>texto</th>\n",
       "      <th>curso</th>\n",
       "      <th>titulo</th>\n",
       "      <th>n_ejercicio</th>\n",
       "      <th>dificultad</th>\n",
       "      <th>n_columnas</th>\n",
       "    </tr>\n",
       "  </thead>\n",
       "  <tbody>\n",
       "    <tr>\n",
       "      <th>50</th>\n",
       "      <td>x=0</td>\n",
       "      <td>x=0</td>\n",
       "      <td>3</td>\n",
       "      <td>Halla el valor numérico del polinomio $x^4-2x^...</td>\n",
       "      <td>1BC</td>\n",
       "      <td>4 - Polinomios</td>\n",
       "      <td>p013e21</td>\n",
       "      <td>1</td>\n",
       "      <td>3</td>\n",
       "    </tr>\n",
       "    <tr>\n",
       "      <th>51</th>\n",
       "      <td>x=1</td>\n",
       "      <td>x=1</td>\n",
       "      <td>1</td>\n",
       "      <td>Halla el valor numérico del polinomio $x^4-2x^...</td>\n",
       "      <td>1BC</td>\n",
       "      <td>4 - Polinomios</td>\n",
       "      <td>p013e21</td>\n",
       "      <td>1</td>\n",
       "      <td>3</td>\n",
       "    </tr>\n",
       "    <tr>\n",
       "      <th>52</th>\n",
       "      <td>x=2</td>\n",
       "      <td>x=2</td>\n",
       "      <td>-1</td>\n",
       "      <td>Halla el valor numérico del polinomio $x^4-2x^...</td>\n",
       "      <td>1BC</td>\n",
       "      <td>4 - Polinomios</td>\n",
       "      <td>p013e21</td>\n",
       "      <td>1</td>\n",
       "      <td>3</td>\n",
       "    </tr>\n",
       "    <tr>\n",
       "      <th>53</th>\n",
       "      <td>x=\\frac{2}{3}</td>\n",
       "      <td>x=\\frac{2}{3}</td>\n",
       "      <td>\\frac{175}{81}</td>\n",
       "      <td>Halla el valor numérico del polinomio $x^4-2x^...</td>\n",
       "      <td>1BC</td>\n",
       "      <td>4 - Polinomios</td>\n",
       "      <td>p013e21</td>\n",
       "      <td>1</td>\n",
       "      <td>3</td>\n",
       "    </tr>\n",
       "  </tbody>\n",
       "</table>\n",
       "</div>"
      ],
      "text/plain": [
       "   enunciado_latex      enunciado        solucion  \\\n",
       "50             x=0            x=0               3   \n",
       "51             x=1            x=1               1   \n",
       "52             x=2            x=2              -1   \n",
       "53   x=\\frac{2}{3}  x=\\frac{2}{3}  \\frac{175}{81}   \n",
       "\n",
       "                                                texto curso          titulo  \\\n",
       "50  Halla el valor numérico del polinomio $x^4-2x^...   1BC  4 - Polinomios   \n",
       "51  Halla el valor numérico del polinomio $x^4-2x^...   1BC  4 - Polinomios   \n",
       "52  Halla el valor numérico del polinomio $x^4-2x^...   1BC  4 - Polinomios   \n",
       "53  Halla el valor numérico del polinomio $x^4-2x^...   1BC  4 - Polinomios   \n",
       "\n",
       "   n_ejercicio  dificultad  n_columnas  \n",
       "50     p013e21           1           3  \n",
       "51     p013e21           1           3  \n",
       "52     p013e21           1           3  \n",
       "53     p013e21           1           3  "
      ]
     },
     "metadata": {},
     "output_type": "display_data"
    }
   ],
   "source": [
    "escribir_preambulo(fichero, titulo)\n",
    "for s in df_ejercicios.groupby('n_ejercicio').count().index : \n",
    "    display(md(\"**Ejercicio: **\" + s ))\n",
    "    display(df_ejercicios[df_ejercicios.n_ejercicio == s])\n",
    "    escribir_ejercicios(df_ejercicios[df_ejercicios.n_ejercicio == s],fichero)\n",
    "\n",
    "escribir_fin(fichero)"
   ]
  }
 ],
 "metadata": {
  "kernelspec": {
   "display_name": "Python 3",
   "language": "python",
   "name": "python3"
  },
  "language_info": {
   "codemirror_mode": {
    "name": "ipython",
    "version": 3
   },
   "file_extension": ".py",
   "mimetype": "text/x-python",
   "name": "python",
   "nbconvert_exporter": "python",
   "pygments_lexer": "ipython3",
   "version": "3.6.5"
  }
 },
 "nbformat": 4,
 "nbformat_minor": 2
}
