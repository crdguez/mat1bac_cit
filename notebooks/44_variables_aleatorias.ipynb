{
 "cells": [
  {
   "cell_type": "code",
   "execution_count": 1,
   "metadata": {},
   "outputs": [
    {
     "name": "stdout",
     "output_type": "stream",
     "text": [
      "IPython console for SymPy 1.2 (Python 3.6.8-64-bit) (ground types: gmpy)\n",
      "\n",
      "These commands were executed:\n",
      ">>> from __future__ import division\n",
      ">>> from sympy import *\n",
      ">>> x, y, z, t = symbols('x y z t')\n",
      ">>> k, m, n = symbols('k m n', integer=True)\n",
      ">>> f, g, h = symbols('f g h', cls=Function)\n",
      ">>> init_printing()\n",
      "\n",
      "Documentation can be found at http://docs.sympy.org/1.2/\n",
      "\n"
     ]
    }
   ],
   "source": [
    "from sympy import init_session\n",
    "from sympy import div, QQ\n",
    "from sympy.parsing.latex import parse_latex\n",
    "from sympy.parsing.sympy_parser import parse_expr\n",
    "from IPython.display import Markdown as md\n",
    "from IPython.display import display\n",
    "import pandas as pd\n",
    "\n",
    "import numpy as np\n",
    "\n",
    "#import scipy as sc\n",
    "from tabulate import tabulate\n",
    "#from scipy.stats import cumfreq, relfreq, stats\n",
    "\n",
    "\n",
    "init_session()\n",
    "\n",
    "a, b, c, d = symbols('a b c d', real = True)\n",
    "from docparts import añadir_ejercicios, doc_ejer, escribir_preambulo, escribir_ejercicios, escribir_fin\n",
    "\n",
    "df_ejercicios = pd.DataFrame()\n",
    "\n",
    "fichero = 'var_ale'\n",
    "titulo = '44 - Variables aleatorias'\n",
    "curso = '1BC'\n",
    "\n",
    "\n",
    "x,y = symbols('x, y', real=True)\n",
    "\n",
    "from sympy.stats import variance, Die, Normal, Binomial, FiniteRV, density, P, E, Normal\n",
    "\n",
    "%matplotlib inline\n"
   ]
  },
  {
   "cell_type": "code",
   "execution_count": 2,
   "metadata": {},
   "outputs": [
    {
     "data": {
      "text/markdown": [
       "**Sea X una variable aleatoria discreta cuya función de probabilidad es ($x_i:p_i$):\\\\{0: 0.1, 1: 0.2, 2: 0.1, 3: 0.4, 4: 0.1, 5: 0.1} \n",
       "    **"
      ],
      "text/plain": [
       "<IPython.core.display.Markdown object>"
      ]
     },
     "metadata": {},
     "output_type": "display_data"
    },
    {
     "data": {
      "image/png": "[encoded data removed]",
      "text/latex": [
       "$$FiniteDistributionHandmade({0: 0.1, 1: 0.2, 2: 0.1, 3: 0.4, 4: 0.1, 5: 0.1})$$"
      ],
      "text/plain": [
       "FiniteDistributionHandmade({0: 0.1, 1: 0.2, 2: 0.1, 3: 0.4, 4: 0.1, 5: 0.1})"
      ]
     },
     "metadata": {},
     "output_type": "display_data"
    },
    {
     "data": {
      "text/markdown": [
       "Calcula sus parámetros $ \\rightarrow $\\\\La media es: $2.5$ \\\\La varianza: $2.05$"
      ],
      "text/plain": [
       "<IPython.core.display.Markdown object>"
      ]
     },
     "metadata": {},
     "output_type": "display_data"
    },
    {
     "data": {
      "image/png": "[encoded data removed]",
      "text/latex": [
       "$$FiniteDistributionHandmade({0: 0.1, 1: 0.2, 2: 0.1, 3: 0.4, 4: 0.1, 5: 0.1})$$"
      ],
      "text/plain": [
       "FiniteDistributionHandmade({0: 0.1, 1: 0.2, 2: 0.1, 3: 0.4, 4: 0.1, 5: 0.1})"
      ]
     },
     "metadata": {},
     "output_type": "display_data"
    },
    {
     "data": {
      "text/markdown": [
       "Calcula $P\\left(X < 4.5\\right)$: , $P\\left( X \\geqslant 3 \\right)$, $P\\left(3\\leqslant X < 4.5 \\right)$  $ \\rightarrow $ $\\left [ 0.9, \\quad 0.6, \\quad 0.5\\right ]$"
      ],
      "text/plain": [
       "<IPython.core.display.Markdown object>"
      ]
     },
     "metadata": {},
     "output_type": "display_data"
    }
   ],
   "source": [
    "puntuacion = '1'                          \n",
    "                      \n",
    "datos = [{0:0.1,1:0.2,2:0.1,3:0.4,4:0.1,5:0.1}]\n",
    "\n",
    "# vectores iniciales correspondientes al texto del enunciado\n",
    "\n",
    "for i, s in enumerate(datos) : \n",
    "    n_ejercicio = 'p105e02-'+str(i)\n",
    "    enunciado_latex, enunciado, solucion = [],[],[]\n",
    "    \n",
    "    texto_ejercicio = r\"\"\"Sea X una variable aleatoria discreta cuya función de probabilidad es ($x_i:p_i$):\\\\{} \n",
    "    \"\"\".format(datos[i])\n",
    "    \n",
    "    display(md(\"**\"+texto_ejercicio+\"**\"))\n",
    "    \n",
    "    \n",
    "    enunciado_latex.append(r\"Calcula sus parámetros\")\n",
    "    enunciado = str(s)\n",
    "    densidad = datos[i]\n",
    "    X = FiniteRV('X',densidad) \n",
    "    display(density(X))\n",
    "        \n",
    "    sol = r\"\\\\La media es: $\"\n",
    "    sol+=latex(E(X))+r\"$ \\\\\" + r\"La varianza: $\" + latex(variance(X))+r\"$\"\n",
    "    solucion.append(sol)\n",
    "    display(md(enunciado_latex[0] +\" $ \\\\rightarrow $\" + solucion[0] ))\n",
    "    \n",
    "    enunciado_latex.append(r\"Calcula $P\\left(X < 4.5\\right)$: , $P\\left( X \\geqslant 3 \\right)$, $P\\left(3\\leqslant X < 4.5 \\right)$ \")\n",
    "    enunciado = str(s)\n",
    "    densidad = datos[i]\n",
    "    X = FiniteRV('X',densidad) \n",
    "    display(density(X))\n",
    "        \n",
    "    sol = r\" $\"\n",
    "    sol+=latex([P(X<4.5), P(X>=3), P(And(3<=X, X<4.5))])+r\"$\"\n",
    "    solucion.append(sol)\n",
    "    display(md(enunciado_latex[1] +\" $ \\\\rightarrow $\" + solucion[1] ))\n",
    "    \n",
    "   \n",
    "    df_ejercicios = df_ejercicios.append(añadir_ejercicios(enunciado_latex, enunciado, solucion, texto_ejercicio, curso, titulo , n_ejercicio, '5', '1', enun_tex=False, sol_tex=False), ignore_index=True)\n",
    "\n",
    "    \n",
    "\n"
   ]
  },
  {
   "cell_type": "code",
   "execution_count": 32,
   "metadata": {},
   "outputs": [
    {
     "data": {
      "text/markdown": [
       "**En una distribución binomial B(9 , 0.2) calcula::\\\\ \n",
       "    **"
      ],
      "text/plain": [
       "<IPython.core.display.Markdown object>"
      ]
     },
     "metadata": {},
     "output_type": "display_data"
    },
    {
     "data": {
      "text/markdown": [
       "$\\left [ $P\\left(X > 3\\right)$\\right ]  \\rightarrow \\left [  $0.085641728$\\right ]$"
      ],
      "text/plain": [
       "<IPython.core.display.Markdown object>"
      ]
     },
     "metadata": {},
     "output_type": "display_data"
    },
    {
     "data": {
      "text/markdown": [
       "$\\left [ $P\\left(X \\geq 7\\right)$\\right ]  \\rightarrow \\left [  $0.000313856$\\right ]$"
      ],
      "text/plain": [
       "<IPython.core.display.Markdown object>"
      ]
     },
     "metadata": {},
     "output_type": "display_data"
    },
    {
     "data": {
      "text/markdown": [
       "$\\left [ $P\\left(X > 0\\right)$\\right ]  \\rightarrow \\left [  $0.865782272$\\right ]$"
      ],
      "text/plain": [
       "<IPython.core.display.Markdown object>"
      ]
     },
     "metadata": {},
     "output_type": "display_data"
    },
    {
     "data": {
      "text/markdown": [
       "$\\left [ $P\\left(X \\leq 9\\right)$\\right ]  \\rightarrow \\left [  $1.0$\\right ]$"
      ],
      "text/plain": [
       "<IPython.core.display.Markdown object>"
      ]
     },
     "metadata": {},
     "output_type": "display_data"
    }
   ],
   "source": [
    "puntuacion = '1'                          \n",
    "                      \n",
    "\n",
    "datos = [[[9,0.2],[\"X > 3\", \"X >= 7\", \"X>0\", \"X<=9\"]],]\n",
    "\n",
    "# vectores iniciales correspondientes al texto del enunciado\n",
    "\n",
    "for i, s in enumerate(datos) : \n",
    "    n_ejercicio = 'p105e08-'+ str(i)\n",
    "    \n",
    "    \n",
    "    texto_ejercicio = r\"\"\"En una distribución binomial B({} , {}) calcula::\\\\ \n",
    "    \"\"\".format(datos[i][0][0],datos[i][0][1])\n",
    "    \n",
    "    display(md(\"**\"+texto_ejercicio+\"**\"))\n",
    "    \n",
    "    n, p = datos[i][0]\n",
    "    X = Binomial('X',n,p) \n",
    "        \n",
    "    for k,j in enumerate(datos[i][1]) :\n",
    "        enunciado_latex, enunciado, solucion = [],[],[]\n",
    "        expr = parse_expr(j)\n",
    "        expr2 = eval(j)\n",
    "        enunciado_latex.append(r\"$P\\left(\"+latex(expr)+r\"\\right)$\")\n",
    "        enunciado = str(s)\n",
    "\n",
    "        sol = r\" $\"\n",
    "        sol+=latex(P(expr2))+r\"$\"\n",
    "        solucion.append(sol)\n",
    "        display(md(\"$\"+latex(enunciado_latex) +\"  \\\\rightarrow \" + latex(solucion)+\"$\" ))\n",
    "        df_ejercicios = df_ejercicios.append(añadir_ejercicios(enunciado_latex, enunciado, solucion, texto_ejercicio, curso, titulo , n_ejercicio, '5', '1', enun_tex=False, sol_tex=False), ignore_index=True)\n",
    "\n",
    "    \n",
    "\n"
   ]
  },
  {
   "cell_type": "code",
   "execution_count": 4,
   "metadata": {},
   "outputs": [
    {
     "data": {
      "image/png": "[encoded data removed]",
      "text/latex": [
       "$$0.738197504$$"
      ],
      "text/plain": [
       "0.738197504000000"
      ]
     },
     "metadata": {},
     "output_type": "display_data"
    },
    {
     "data": {
      "image/png": "[encoded data removed]",
      "text/latex": [
       "$$0.003066368$$"
      ],
      "text/plain": [
       "0.00306636800000000"
      ]
     },
     "metadata": {},
     "output_type": "display_data"
    }
   ],
   "source": [
    "datos = [\"X < 3\", \"X > 5\"]\n",
    "\n",
    "for s in datos:\n",
    "    display(P(eval(s)))\n"
   ]
  },
  {
   "cell_type": "code",
   "execution_count": 5,
   "metadata": {},
   "outputs": [
    {
     "data": {
      "text/plain": [
       "(0, False)"
      ]
     },
     "execution_count": 5,
     "metadata": {},
     "output_type": "execute_result"
    }
   ],
   "source": [
    "expr = \"X < 3\"\n",
    "\n",
    "X = Binomial('X',9,0.2)\n",
    "\n",
    "#P(expr)\n",
    "latex(parse_expr(expr, evaluate=False))\n",
    "latex(parse_expr(expr))\n",
    "\n",
    "\n",
    "datos = [[[9,0.2],[\"X < 3\"]],]\n",
    "\n",
    "i, s in enumerate(datos)"
   ]
  },
  {
   "cell_type": "markdown",
   "metadata": {},
   "source": [
    "Sea X una variable aleatoria discreta cuya función de probabilidad es:\n",
    "\n",
    "\n",
    "i) Representa gráficamente la función de probabilidad\n",
    "ii) Calcula sus parámetros\n",
    "iii) Calcula P(X<4,5) , P(X>=3), P(3<=x<4.5)"
   ]
  },
  {
   "cell_type": "code",
   "execution_count": 6,
   "metadata": {},
   "outputs": [
    {
     "data": {
      "image/png": "[encoded data removed]",
      "text/latex": [
       "$$FiniteDistributionHandmade({0: 0.1, 1: 0.2, 2: 0.1, 3: 0.4, 4: 0.1, 5: 0.1})$$"
      ],
      "text/plain": [
       "FiniteDistributionHandmade({0: 0.1, 1: 0.2, 2: 0.1, 3: 0.4, 4: 0.1, 5: 0.1})"
      ]
     },
     "execution_count": 6,
     "metadata": {},
     "output_type": "execute_result"
    }
   ],
   "source": [
    "densidad = {0:0.1,1:0.2,2:0.1,3:0.4,4:0.1,5:0.1}\n",
    "X = FiniteRV('X',densidad) \n",
    "density(X)"
   ]
  },
  {
   "cell_type": "code",
   "execution_count": 7,
   "metadata": {},
   "outputs": [
    {
     "data": {
      "image/png": "[encoded data removed]",
      "text/latex": [
       "$$\\left ( 2.5, \\quad 2.05\\right )$$"
      ],
      "text/plain": [
       "(2.5, 2.05)"
      ]
     },
     "execution_count": 7,
     "metadata": {},
     "output_type": "execute_result"
    }
   ],
   "source": [
    "E(X), variance(X)"
   ]
  },
  {
   "cell_type": "code",
   "execution_count": 8,
   "metadata": {},
   "outputs": [
    {
     "data": {
      "image/png": "[encoded data removed]",
      "text/latex": [
       "$$0.9$$"
      ],
      "text/plain": [
       "0.900000000000000"
      ]
     },
     "execution_count": 8,
     "metadata": {},
     "output_type": "execute_result"
    }
   ],
   "source": [
    "P(X<4.5)"
   ]
  },
  {
   "cell_type": "code",
   "execution_count": 9,
   "metadata": {},
   "outputs": [
    {
     "data": {
      "image/png": "[encoded data removed]",
      "text/latex": [
       "$$\\left ( 0.9, \\quad 0.6, \\quad 0.5\\right )$$"
      ],
      "text/plain": [
       "(0.9, 0.6, 0.5)"
      ]
     },
     "execution_count": 9,
     "metadata": {},
     "output_type": "execute_result"
    }
   ],
   "source": [
    "P(X<4.5), P(X>=3), P(And(3<=X, X<4.5))"
   ]
  },
  {
   "cell_type": "markdown",
   "metadata": {},
   "source": [
    "La probabilidad de que un jugador de baloncesto enceste una canasta de 3 puntos es 0,6. Si tira 6\n",
    "veces, calcula la probabilidad:\n",
    "i) de que enceste 3\n",
    "ii) de que enceste al menos 1\n",
    "iii) de que enceste mas de 3"
   ]
  },
  {
   "cell_type": "code",
   "execution_count": 10,
   "metadata": {},
   "outputs": [
    {
     "data": {
      "image/png": "[encoded data removed]",
      "text/latex": [
       "$$\\left \\{ 0 : 0.004096, \\quad 1 : 0.036864, \\quad 2 : 0.13824, \\quad 3 : 0.27648, \\quad 4 : 0.31104, \\quad 5 : 0.186624, \\quad 6 : 0.046656\\right \\}$$"
      ],
      "text/plain": [
       "{0: 0.004096, 1: 0.036864, 2: 0.13824, 3: 0.27648, 4: 0.31104, 5: 0.186624, 6:\n",
       " 0.046656}"
      ]
     },
     "execution_count": 10,
     "metadata": {},
     "output_type": "execute_result"
    }
   ],
   "source": [
    "X = Binomial('X',6,0.6)\n",
    "\n",
    "density(X).dict"
   ]
  },
  {
   "cell_type": "code",
   "execution_count": 11,
   "metadata": {},
   "outputs": [
    {
     "data": {
      "image/png": "[encoded data removed]",
      "text/latex": [
       "$$\\left ( 9, \\quad 0.2\\right )$$"
      ],
      "text/plain": [
       "(9, 0.2)"
      ]
     },
     "execution_count": 11,
     "metadata": {},
     "output_type": "execute_result"
    }
   ],
   "source": [
    "tuple(datos[0][0])"
   ]
  },
  {
   "cell_type": "code",
   "execution_count": 12,
   "metadata": {},
   "outputs": [
    {
     "data": {
      "image/png": "[encoded data removed]",
      "text/latex": [
       "$$3.6$$"
      ],
      "text/plain": [
       "3.60000000000000"
      ]
     },
     "execution_count": 12,
     "metadata": {},
     "output_type": "execute_result"
    }
   ],
   "source": [
    "E(X)"
   ]
  },
  {
   "cell_type": "code",
   "execution_count": 13,
   "metadata": {},
   "outputs": [
    {
     "data": {
      "image/png": "[encoded data removed]",
      "text/latex": [
       "$$\\left ( 0.27648, \\quad 0.995904, \\quad 0.54432\\right )$$"
      ],
      "text/plain": [
       "(0.27648, 0.995904, 0.54432)"
      ]
     },
     "execution_count": 13,
     "metadata": {},
     "output_type": "execute_result"
    }
   ],
   "source": [
    "P(Eq(X,3)), P(X>=1), P(X>3), "
   ]
  },
  {
   "cell_type": "markdown",
   "metadata": {},
   "source": [
    "La última novela de cierto afamado autor ha tenido un importante éxito, hasta el punto de que el\n",
    "80% de los lectores ya la han leído. Un grupo de 4 amigos son aficionados a la lectura\n",
    "i) Describe la distribución que indica el número de individuos del grupo que han leído la novela\n",
    "ii) ¿Cuál es la probabilidad de que en el grupo hayan leído la obra 2 personas? ¿Y al menos 2?"
   ]
  },
  {
   "cell_type": "code",
   "execution_count": 14,
   "metadata": {},
   "outputs": [
    {
     "data": {
      "image/png": "[encoded data removed]",
      "text/latex": [
       "$$\\left \\{ 0 : 0.0016, \\quad 1 : 0.0256, \\quad 2 : 0.1536, \\quad 3 : 0.4096, \\quad 4 : 0.4096\\right \\}$$"
      ],
      "text/plain": [
       "{0: 0.0016, 1: 0.0256, 2: 0.1536, 3: 0.4096, 4: 0.4096}"
      ]
     },
     "execution_count": 14,
     "metadata": {},
     "output_type": "execute_result"
    }
   ],
   "source": [
    "X = Binomial('X',4,0.8)\n",
    "\n",
    "density(X).dict"
   ]
  },
  {
   "cell_type": "code",
   "execution_count": 15,
   "metadata": {},
   "outputs": [
    {
     "data": {
      "image/png": "[encoded data removed]",
      "text/latex": [
       "$$\\left ( 0.1536, \\quad 0.9728\\right )$$"
      ],
      "text/plain": [
       "(0.1536, 0.9728)"
      ]
     },
     "execution_count": 15,
     "metadata": {},
     "output_type": "execute_result"
    }
   ],
   "source": [
    "P(Eq(X,2)), P(X>=2)"
   ]
  },
  {
   "cell_type": "code",
   "execution_count": 16,
   "metadata": {},
   "outputs": [],
   "source": [
    "X = Normal('X',0,1)"
   ]
  },
  {
   "cell_type": "code",
   "execution_count": 17,
   "metadata": {},
   "outputs": [
    {
     "data": {
      "image/png": "[encoded data removed]",
      "text/latex": [
       "$$\\frac{\\sqrt{2} e^{- \\frac{z^{2}}{2}}}{2 \\sqrt{\\pi}}$$"
      ],
      "text/plain": [
       "      2 \n",
       "    -z  \n",
       "    ────\n",
       "     2  \n",
       "√2⋅ℯ    \n",
       "────────\n",
       "  2⋅√π  "
      ]
     },
     "execution_count": 17,
     "metadata": {},
     "output_type": "execute_result"
    }
   ],
   "source": [
    "z = Symbol(\"z\")\n",
    "density(X)(z)"
   ]
  },
  {
   "cell_type": "code",
   "execution_count": 18,
   "metadata": {},
   "outputs": [
    {
     "data": {
      "image/png": "[encoded data removed]",
      "text/latex": [
       "$$\\left ( \\frac{1}{2}, \\quad 0.9999519036559824\\right )$$"
      ],
      "text/plain": [
       "(1/2, 0.9999519036559824)"
      ]
     },
     "execution_count": 18,
     "metadata": {},
     "output_type": "execute_result"
    }
   ],
   "source": [
    "P(X<0),float(P(X<3.9))"
   ]
  },
  {
   "cell_type": "code",
   "execution_count": 19,
   "metadata": {},
   "outputs": [],
   "source": [
    "Z = Normal('Z',0,1)"
   ]
  },
  {
   "cell_type": "code",
   "execution_count": 20,
   "metadata": {},
   "outputs": [
    {
     "data": {
      "image/png": "[encoded data removed]",
      "text/latex": [
       "$$\\frac{1}{2}$$"
      ],
      "text/plain": [
       "1/2"
      ]
     },
     "execution_count": 20,
     "metadata": {},
     "output_type": "execute_result"
    }
   ],
   "source": [
    "P(Z<0)"
   ]
  },
  {
   "cell_type": "code",
   "execution_count": 21,
   "metadata": {},
   "outputs": [],
   "source": [
    "Y=Binomial('Y',30,1/4)"
   ]
  },
  {
   "cell_type": "code",
   "execution_count": 22,
   "metadata": {},
   "outputs": [
    {
     "data": {
      "image/png": "[encoded data removed]",
      "text/latex": [
       "$$0.196593363050489$$"
      ],
      "text/plain": [
       "0.196593363050489"
      ]
     },
     "execution_count": 22,
     "metadata": {},
     "output_type": "execute_result"
    }
   ],
   "source": [
    "P(Y>=10)"
   ]
  },
  {
   "cell_type": "code",
   "execution_count": 23,
   "metadata": {},
   "outputs": [
    {
     "data": {
      "image/png": "[encoded data removed]",
      "text/latex": [
       "$$\\left ( 7.5, \\quad 2.37170824512628, \\quad 0.1995375982741186\\right )$$"
      ],
      "text/plain": [
       "(7.5, 2.37170824512628, 0.1995375982741186)"
      ]
     },
     "execution_count": 23,
     "metadata": {},
     "output_type": "execute_result"
    }
   ],
   "source": [
    "media = 30*1/4\n",
    "desviacion = sqrt(30*3/(4**2))\n",
    "media, desviacion, float(P(Z>(9.5-media)/desviacion))"
   ]
  },
  {
   "cell_type": "code",
   "execution_count": 24,
   "metadata": {},
   "outputs": [
    {
     "data": {
      "text/html": [
       "<div>\n",
       "<style scoped>\n",
       "    .dataframe tbody tr th:only-of-type {\n",
       "        vertical-align: middle;\n",
       "    }\n",
       "\n",
       "    .dataframe tbody tr th {\n",
       "        vertical-align: top;\n",
       "    }\n",
       "\n",
       "    .dataframe thead th {\n",
       "        text-align: right;\n",
       "    }\n",
       "</style>\n",
       "<table border=\"1\" class=\"dataframe\">\n",
       "  <thead>\n",
       "    <tr style=\"text-align: right;\">\n",
       "      <th></th>\n",
       "      <th>enunciado_latex</th>\n",
       "      <th>enunciado</th>\n",
       "      <th>solucion</th>\n",
       "      <th>texto</th>\n",
       "      <th>curso</th>\n",
       "      <th>titulo</th>\n",
       "      <th>n_ejercicio</th>\n",
       "      <th>dificultad</th>\n",
       "      <th>n_columnas</th>\n",
       "      <th>puntos</th>\n",
       "      <th>enun_tex</th>\n",
       "      <th>sol_tex</th>\n",
       "    </tr>\n",
       "  </thead>\n",
       "  <tbody>\n",
       "    <tr>\n",
       "      <th>0</th>\n",
       "      <td>Calcula sus parámetros</td>\n",
       "      <td>{0: 0.1, 1: 0.2, 2: 0.1, 3: 0.4, 4: 0.1, 5: 0.1}</td>\n",
       "      <td>\\\\La media es: $2.5$ \\\\La varianza: $2.05$</td>\n",
       "      <td>Sea X una variable aleatoria discreta cuya fun...</td>\n",
       "      <td>1BC</td>\n",
       "      <td>44 - Variables aleatorias</td>\n",
       "      <td>p105e02-0</td>\n",
       "      <td>5</td>\n",
       "      <td>1</td>\n",
       "      <td>1</td>\n",
       "      <td>False</td>\n",
       "      <td>False</td>\n",
       "    </tr>\n",
       "    <tr>\n",
       "      <th>1</th>\n",
       "      <td>Calcula $P\\left(X &lt; 4.5\\right)$: , $P\\left( X ...</td>\n",
       "      <td>{0: 0.1, 1: 0.2, 2: 0.1, 3: 0.4, 4: 0.1, 5: 0.1}</td>\n",
       "      <td>$\\left [ 0.9, \\quad 0.6, \\quad 0.5\\right ]$</td>\n",
       "      <td>Sea X una variable aleatoria discreta cuya fun...</td>\n",
       "      <td>1BC</td>\n",
       "      <td>44 - Variables aleatorias</td>\n",
       "      <td>p105e02-0</td>\n",
       "      <td>5</td>\n",
       "      <td>1</td>\n",
       "      <td>1</td>\n",
       "      <td>False</td>\n",
       "      <td>False</td>\n",
       "    </tr>\n",
       "    <tr>\n",
       "      <th>2</th>\n",
       "      <td>$P\\left(X &gt; 3\\right)$</td>\n",
       "      <td>[[9, 0.2], ['X &gt; 3', 'X &gt;= 7', 'X&gt;0', 'X&lt;=9']]</td>\n",
       "      <td>$0.085641728$</td>\n",
       "      <td>En una distribución binomial B(9 , 0.2) calcul...</td>\n",
       "      <td>1BC</td>\n",
       "      <td>44 - Variables aleatorias</td>\n",
       "      <td>p105e08-0</td>\n",
       "      <td>5</td>\n",
       "      <td>1</td>\n",
       "      <td>1</td>\n",
       "      <td>False</td>\n",
       "      <td>False</td>\n",
       "    </tr>\n",
       "    <tr>\n",
       "      <th>3</th>\n",
       "      <td>$P\\left(X \\geq 7\\right)$</td>\n",
       "      <td>[[9, 0.2], ['X &gt; 3', 'X &gt;= 7', 'X&gt;0', 'X&lt;=9']]</td>\n",
       "      <td>$0.000313856$</td>\n",
       "      <td>En una distribución binomial B(9 , 0.2) calcul...</td>\n",
       "      <td>1BC</td>\n",
       "      <td>44 - Variables aleatorias</td>\n",
       "      <td>p105e08-0</td>\n",
       "      <td>5</td>\n",
       "      <td>1</td>\n",
       "      <td>1</td>\n",
       "      <td>False</td>\n",
       "      <td>False</td>\n",
       "    </tr>\n",
       "    <tr>\n",
       "      <th>4</th>\n",
       "      <td>$P\\left(X &gt; 0\\right)$</td>\n",
       "      <td>[[9, 0.2], ['X &gt; 3', 'X &gt;= 7', 'X&gt;0', 'X&lt;=9']]</td>\n",
       "      <td>$0.865782272$</td>\n",
       "      <td>En una distribución binomial B(9 , 0.2) calcul...</td>\n",
       "      <td>1BC</td>\n",
       "      <td>44 - Variables aleatorias</td>\n",
       "      <td>p105e08-0</td>\n",
       "      <td>5</td>\n",
       "      <td>1</td>\n",
       "      <td>1</td>\n",
       "      <td>False</td>\n",
       "      <td>False</td>\n",
       "    </tr>\n",
       "    <tr>\n",
       "      <th>5</th>\n",
       "      <td>$P\\left(X \\leq 9\\right)$</td>\n",
       "      <td>[[9, 0.2], ['X &gt; 3', 'X &gt;= 7', 'X&gt;0', 'X&lt;=9']]</td>\n",
       "      <td>$1.0$</td>\n",
       "      <td>En una distribución binomial B(9 , 0.2) calcul...</td>\n",
       "      <td>1BC</td>\n",
       "      <td>44 - Variables aleatorias</td>\n",
       "      <td>p105e08-0</td>\n",
       "      <td>5</td>\n",
       "      <td>1</td>\n",
       "      <td>1</td>\n",
       "      <td>False</td>\n",
       "      <td>False</td>\n",
       "    </tr>\n",
       "  </tbody>\n",
       "</table>\n",
       "</div>"
      ],
      "text/plain": [
       "                                     enunciado_latex  \\\n",
       "0                             Calcula sus parámetros   \n",
       "1  Calcula $P\\left(X < 4.5\\right)$: , $P\\left( X ...   \n",
       "2                              $P\\left(X > 3\\right)$   \n",
       "3                           $P\\left(X \\geq 7\\right)$   \n",
       "4                              $P\\left(X > 0\\right)$   \n",
       "5                           $P\\left(X \\leq 9\\right)$   \n",
       "\n",
       "                                          enunciado  \\\n",
       "0  {0: 0.1, 1: 0.2, 2: 0.1, 3: 0.4, 4: 0.1, 5: 0.1}   \n",
       "1  {0: 0.1, 1: 0.2, 2: 0.1, 3: 0.4, 4: 0.1, 5: 0.1}   \n",
       "2    [[9, 0.2], ['X > 3', 'X >= 7', 'X>0', 'X<=9']]   \n",
       "3    [[9, 0.2], ['X > 3', 'X >= 7', 'X>0', 'X<=9']]   \n",
       "4    [[9, 0.2], ['X > 3', 'X >= 7', 'X>0', 'X<=9']]   \n",
       "5    [[9, 0.2], ['X > 3', 'X >= 7', 'X>0', 'X<=9']]   \n",
       "\n",
       "                                       solucion  \\\n",
       "0    \\\\La media es: $2.5$ \\\\La varianza: $2.05$   \n",
       "1   $\\left [ 0.9, \\quad 0.6, \\quad 0.5\\right ]$   \n",
       "2                                 $0.085641728$   \n",
       "3                                 $0.000313856$   \n",
       "4                                 $0.865782272$   \n",
       "5                                         $1.0$   \n",
       "\n",
       "                                               texto curso  \\\n",
       "0  Sea X una variable aleatoria discreta cuya fun...   1BC   \n",
       "1  Sea X una variable aleatoria discreta cuya fun...   1BC   \n",
       "2  En una distribución binomial B(9 , 0.2) calcul...   1BC   \n",
       "3  En una distribución binomial B(9 , 0.2) calcul...   1BC   \n",
       "4  En una distribución binomial B(9 , 0.2) calcul...   1BC   \n",
       "5  En una distribución binomial B(9 , 0.2) calcul...   1BC   \n",
       "\n",
       "                      titulo n_ejercicio dificultad n_columnas puntos  \\\n",
       "0  44 - Variables aleatorias   p105e02-0          5          1      1   \n",
       "1  44 - Variables aleatorias   p105e02-0          5          1      1   \n",
       "2  44 - Variables aleatorias   p105e08-0          5          1      1   \n",
       "3  44 - Variables aleatorias   p105e08-0          5          1      1   \n",
       "4  44 - Variables aleatorias   p105e08-0          5          1      1   \n",
       "5  44 - Variables aleatorias   p105e08-0          5          1      1   \n",
       "\n",
       "   enun_tex  sol_tex  \n",
       "0     False    False  \n",
       "1     False    False  \n",
       "2     False    False  \n",
       "3     False    False  \n",
       "4     False    False  \n",
       "5     False    False  "
      ]
     },
     "execution_count": 24,
     "metadata": {},
     "output_type": "execute_result"
    }
   ],
   "source": [
    "df_ejercicios"
   ]
  },
  {
   "cell_type": "code",
   "execution_count": 25,
   "metadata": {},
   "outputs": [],
   "source": [
    "df_ejercicios.to_csv('ejercicios44.csv', index = False)"
   ]
  },
  {
   "cell_type": "code",
   "execution_count": 26,
   "metadata": {},
   "outputs": [],
   "source": [
    "df_ejercicios = pd.read_csv('ejercicios44.csv', index_col= None)"
   ]
  },
  {
   "cell_type": "code",
   "execution_count": 27,
   "metadata": {},
   "outputs": [
    {
     "data": {
      "text/markdown": [
       "**Ejercicio: **p105e02-0"
      ],
      "text/plain": [
       "<IPython.core.display.Markdown object>"
      ]
     },
     "metadata": {},
     "output_type": "display_data"
    },
    {
     "data": {
      "text/html": [
       "<div>\n",
       "<style scoped>\n",
       "    .dataframe tbody tr th:only-of-type {\n",
       "        vertical-align: middle;\n",
       "    }\n",
       "\n",
       "    .dataframe tbody tr th {\n",
       "        vertical-align: top;\n",
       "    }\n",
       "\n",
       "    .dataframe thead th {\n",
       "        text-align: right;\n",
       "    }\n",
       "</style>\n",
       "<table border=\"1\" class=\"dataframe\">\n",
       "  <thead>\n",
       "    <tr style=\"text-align: right;\">\n",
       "      <th></th>\n",
       "      <th>enunciado_latex</th>\n",
       "      <th>enunciado</th>\n",
       "      <th>solucion</th>\n",
       "      <th>texto</th>\n",
       "      <th>curso</th>\n",
       "      <th>titulo</th>\n",
       "      <th>n_ejercicio</th>\n",
       "      <th>dificultad</th>\n",
       "      <th>n_columnas</th>\n",
       "      <th>puntos</th>\n",
       "      <th>enun_tex</th>\n",
       "      <th>sol_tex</th>\n",
       "    </tr>\n",
       "  </thead>\n",
       "  <tbody>\n",
       "    <tr>\n",
       "      <th>0</th>\n",
       "      <td>Calcula sus parámetros</td>\n",
       "      <td>{0: 0.1, 1: 0.2, 2: 0.1, 3: 0.4, 4: 0.1, 5: 0.1}</td>\n",
       "      <td>\\\\La media es: $2.5$ \\\\La varianza: $2.05$</td>\n",
       "      <td>Sea X una variable aleatoria discreta cuya fun...</td>\n",
       "      <td>1BC</td>\n",
       "      <td>44 - Variables aleatorias</td>\n",
       "      <td>p105e02-0</td>\n",
       "      <td>5</td>\n",
       "      <td>1</td>\n",
       "      <td>1</td>\n",
       "      <td>False</td>\n",
       "      <td>False</td>\n",
       "    </tr>\n",
       "    <tr>\n",
       "      <th>1</th>\n",
       "      <td>Calcula $P\\left(X &lt; 4.5\\right)$: , $P\\left( X ...</td>\n",
       "      <td>{0: 0.1, 1: 0.2, 2: 0.1, 3: 0.4, 4: 0.1, 5: 0.1}</td>\n",
       "      <td>$\\left [ 0.9, \\quad 0.6, \\quad 0.5\\right ]$</td>\n",
       "      <td>Sea X una variable aleatoria discreta cuya fun...</td>\n",
       "      <td>1BC</td>\n",
       "      <td>44 - Variables aleatorias</td>\n",
       "      <td>p105e02-0</td>\n",
       "      <td>5</td>\n",
       "      <td>1</td>\n",
       "      <td>1</td>\n",
       "      <td>False</td>\n",
       "      <td>False</td>\n",
       "    </tr>\n",
       "  </tbody>\n",
       "</table>\n",
       "</div>"
      ],
      "text/plain": [
       "                                     enunciado_latex  \\\n",
       "0                             Calcula sus parámetros   \n",
       "1  Calcula $P\\left(X < 4.5\\right)$: , $P\\left( X ...   \n",
       "\n",
       "                                          enunciado  \\\n",
       "0  {0: 0.1, 1: 0.2, 2: 0.1, 3: 0.4, 4: 0.1, 5: 0.1}   \n",
       "1  {0: 0.1, 1: 0.2, 2: 0.1, 3: 0.4, 4: 0.1, 5: 0.1}   \n",
       "\n",
       "                                       solucion  \\\n",
       "0    \\\\La media es: $2.5$ \\\\La varianza: $2.05$   \n",
       "1   $\\left [ 0.9, \\quad 0.6, \\quad 0.5\\right ]$   \n",
       "\n",
       "                                               texto curso  \\\n",
       "0  Sea X una variable aleatoria discreta cuya fun...   1BC   \n",
       "1  Sea X una variable aleatoria discreta cuya fun...   1BC   \n",
       "\n",
       "                      titulo n_ejercicio  dificultad  n_columnas  puntos  \\\n",
       "0  44 - Variables aleatorias   p105e02-0           5           1       1   \n",
       "1  44 - Variables aleatorias   p105e02-0           5           1       1   \n",
       "\n",
       "   enun_tex  sol_tex  \n",
       "0     False    False  \n",
       "1     False    False  "
      ]
     },
     "metadata": {},
     "output_type": "display_data"
    },
    {
     "data": {
      "text/markdown": [
       "**Ejercicio: **p105e08-0"
      ],
      "text/plain": [
       "<IPython.core.display.Markdown object>"
      ]
     },
     "metadata": {},
     "output_type": "display_data"
    },
    {
     "data": {
      "text/html": [
       "<div>\n",
       "<style scoped>\n",
       "    .dataframe tbody tr th:only-of-type {\n",
       "        vertical-align: middle;\n",
       "    }\n",
       "\n",
       "    .dataframe tbody tr th {\n",
       "        vertical-align: top;\n",
       "    }\n",
       "\n",
       "    .dataframe thead th {\n",
       "        text-align: right;\n",
       "    }\n",
       "</style>\n",
       "<table border=\"1\" class=\"dataframe\">\n",
       "  <thead>\n",
       "    <tr style=\"text-align: right;\">\n",
       "      <th></th>\n",
       "      <th>enunciado_latex</th>\n",
       "      <th>enunciado</th>\n",
       "      <th>solucion</th>\n",
       "      <th>texto</th>\n",
       "      <th>curso</th>\n",
       "      <th>titulo</th>\n",
       "      <th>n_ejercicio</th>\n",
       "      <th>dificultad</th>\n",
       "      <th>n_columnas</th>\n",
       "      <th>puntos</th>\n",
       "      <th>enun_tex</th>\n",
       "      <th>sol_tex</th>\n",
       "    </tr>\n",
       "  </thead>\n",
       "  <tbody>\n",
       "    <tr>\n",
       "      <th>2</th>\n",
       "      <td>$P\\left(X &gt; 3\\right)$</td>\n",
       "      <td>[[9, 0.2], ['X &gt; 3', 'X &gt;= 7', 'X&gt;0', 'X&lt;=9']]</td>\n",
       "      <td>$0.085641728$</td>\n",
       "      <td>En una distribución binomial B(9 , 0.2) calcul...</td>\n",
       "      <td>1BC</td>\n",
       "      <td>44 - Variables aleatorias</td>\n",
       "      <td>p105e08-0</td>\n",
       "      <td>5</td>\n",
       "      <td>1</td>\n",
       "      <td>1</td>\n",
       "      <td>False</td>\n",
       "      <td>False</td>\n",
       "    </tr>\n",
       "    <tr>\n",
       "      <th>3</th>\n",
       "      <td>$P\\left(X \\geq 7\\right)$</td>\n",
       "      <td>[[9, 0.2], ['X &gt; 3', 'X &gt;= 7', 'X&gt;0', 'X&lt;=9']]</td>\n",
       "      <td>$0.000313856$</td>\n",
       "      <td>En una distribución binomial B(9 , 0.2) calcul...</td>\n",
       "      <td>1BC</td>\n",
       "      <td>44 - Variables aleatorias</td>\n",
       "      <td>p105e08-0</td>\n",
       "      <td>5</td>\n",
       "      <td>1</td>\n",
       "      <td>1</td>\n",
       "      <td>False</td>\n",
       "      <td>False</td>\n",
       "    </tr>\n",
       "    <tr>\n",
       "      <th>4</th>\n",
       "      <td>$P\\left(X &gt; 0\\right)$</td>\n",
       "      <td>[[9, 0.2], ['X &gt; 3', 'X &gt;= 7', 'X&gt;0', 'X&lt;=9']]</td>\n",
       "      <td>$0.865782272$</td>\n",
       "      <td>En una distribución binomial B(9 , 0.2) calcul...</td>\n",
       "      <td>1BC</td>\n",
       "      <td>44 - Variables aleatorias</td>\n",
       "      <td>p105e08-0</td>\n",
       "      <td>5</td>\n",
       "      <td>1</td>\n",
       "      <td>1</td>\n",
       "      <td>False</td>\n",
       "      <td>False</td>\n",
       "    </tr>\n",
       "    <tr>\n",
       "      <th>5</th>\n",
       "      <td>$P\\left(X \\leq 9\\right)$</td>\n",
       "      <td>[[9, 0.2], ['X &gt; 3', 'X &gt;= 7', 'X&gt;0', 'X&lt;=9']]</td>\n",
       "      <td>$1.0$</td>\n",
       "      <td>En una distribución binomial B(9 , 0.2) calcul...</td>\n",
       "      <td>1BC</td>\n",
       "      <td>44 - Variables aleatorias</td>\n",
       "      <td>p105e08-0</td>\n",
       "      <td>5</td>\n",
       "      <td>1</td>\n",
       "      <td>1</td>\n",
       "      <td>False</td>\n",
       "      <td>False</td>\n",
       "    </tr>\n",
       "  </tbody>\n",
       "</table>\n",
       "</div>"
      ],
      "text/plain": [
       "            enunciado_latex                                       enunciado  \\\n",
       "2     $P\\left(X > 3\\right)$  [[9, 0.2], ['X > 3', 'X >= 7', 'X>0', 'X<=9']]   \n",
       "3  $P\\left(X \\geq 7\\right)$  [[9, 0.2], ['X > 3', 'X >= 7', 'X>0', 'X<=9']]   \n",
       "4     $P\\left(X > 0\\right)$  [[9, 0.2], ['X > 3', 'X >= 7', 'X>0', 'X<=9']]   \n",
       "5  $P\\left(X \\leq 9\\right)$  [[9, 0.2], ['X > 3', 'X >= 7', 'X>0', 'X<=9']]   \n",
       "\n",
       "         solucion                                              texto curso  \\\n",
       "2   $0.085641728$  En una distribución binomial B(9 , 0.2) calcul...   1BC   \n",
       "3   $0.000313856$  En una distribución binomial B(9 , 0.2) calcul...   1BC   \n",
       "4   $0.865782272$  En una distribución binomial B(9 , 0.2) calcul...   1BC   \n",
       "5           $1.0$  En una distribución binomial B(9 , 0.2) calcul...   1BC   \n",
       "\n",
       "                      titulo n_ejercicio  dificultad  n_columnas  puntos  \\\n",
       "2  44 - Variables aleatorias   p105e08-0           5           1       1   \n",
       "3  44 - Variables aleatorias   p105e08-0           5           1       1   \n",
       "4  44 - Variables aleatorias   p105e08-0           5           1       1   \n",
       "5  44 - Variables aleatorias   p105e08-0           5           1       1   \n",
       "\n",
       "   enun_tex  sol_tex  \n",
       "2     False    False  \n",
       "3     False    False  \n",
       "4     False    False  \n",
       "5     False    False  "
      ]
     },
     "metadata": {},
     "output_type": "display_data"
    }
   ],
   "source": [
    "escribir_preambulo(fichero, titulo, 'ejercicios')\n",
    "for s in df_ejercicios.groupby('n_ejercicio').count().index : \n",
    "    display(md(\"**Ejercicio: **\" + s ))\n",
    "    display(df_ejercicios[df_ejercicios.n_ejercicio == s])\n",
    "    escribir_ejercicios(df_ejercicios[df_ejercicios.n_ejercicio == s],fichero)\n",
    "\n",
    "escribir_fin(fichero)"
   ]
  }
 ],
 "metadata": {
  "kernelspec": {
   "display_name": "Python 3",
   "language": "python",
   "name": "python3"
  },
  "language_info": {
   "codemirror_mode": {
    "name": "ipython",
    "version": 3
   },
   "file_extension": ".py",
   "mimetype": "text/x-python",
   "name": "python",
   "nbconvert_exporter": "python",
   "pygments_lexer": "ipython3",
   "version": "3.6.8"
  }
 },
 "nbformat": 4,
 "nbformat_minor": 2
}
