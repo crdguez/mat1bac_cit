{
 "cells": [
  {
   "cell_type": "code",
   "execution_count": 1,
   "metadata": {},
   "outputs": [
    {
     "name": "stdout",
     "output_type": "stream",
     "text": [
      "IPython console for SymPy 1.2 (Python 3.6.8-64-bit) (ground types: gmpy)\n",
      "\n",
      "These commands were executed:\n",
      ">>> from __future__ import division\n",
      ">>> from sympy import *\n",
      ">>> x, y, z, t = symbols('x y z t')\n",
      ">>> k, m, n = symbols('k m n', integer=True)\n",
      ">>> f, g, h = symbols('f g h', cls=Function)\n",
      ">>> init_printing()\n",
      "\n",
      "Documentation can be found at http://docs.sympy.org/1.2/\n",
      "\n"
     ]
    }
   ],
   "source": [
    "from sympy import init_session\n",
    "from sympy import div, QQ\n",
    "from sympy.parsing.latex import parse_latex\n",
    "from sympy.parsing.sympy_parser import parse_expr\n",
    "from IPython.display import Markdown as md\n",
    "from IPython.display import display\n",
    "import pandas as pd\n",
    "\n",
    "import numpy as np\n",
    "\n",
    "#import scipy as sc\n",
    "from tabulate import tabulate\n",
    "#from scipy.stats import cumfreq, relfreq, stats\n",
    "\n",
    "\n",
    "init_session()\n",
    "\n",
    "a, b, c, d = symbols('a b c d', real = True)\n",
    "from docparts import añadir_ejercicios, doc_ejer, escribir_preambulo, escribir_ejercicios, escribir_fin\n",
    "\n",
    "df_ejercicios = pd.DataFrame()\n",
    "\n",
    "fichero = 'var_ale'\n",
    "titulo = '44 - Variables aleatorias'\n",
    "curso = '1BC'\n",
    "\n",
    "\n",
    "x,y = symbols('x, y', real=True)\n",
    "\n",
    "from sympy.stats import variance, Die, Normal, Binomial, FiniteRV, density, P, E, Normal\n",
    "\n",
    "%matplotlib inline\n"
   ]
  },
  {
   "cell_type": "code",
   "execution_count": 2,
   "metadata": {},
   "outputs": [
    {
     "data": {
      "text/markdown": [
       "**Sea X una variable aleatoria discreta cuya función de probabilidad es:\\\\{0: 0.1, 1: 0.2, 2: 0.1, 3: 0.4, 4: 0.1, 5: 0.1} \n",
       "    **"
      ],
      "text/plain": [
       "<IPython.core.display.Markdown object>"
      ]
     },
     "metadata": {},
     "output_type": "display_data"
    },
    {
     "data": {
      "image/png": "[encoded data removed]",
      "text/latex": [
       "$$FiniteDistributionHandmade({0: 0.1, 1: 0.2, 2: 0.1, 3: 0.4, 4: 0.1, 5: 0.1})$$"
      ],
      "text/plain": [
       "FiniteDistributionHandmade({0: 0.1, 1: 0.2, 2: 0.1, 3: 0.4, 4: 0.1, 5: 0.1})"
      ]
     },
     "metadata": {},
     "output_type": "display_data"
    },
    {
     "data": {
      "text/markdown": [
       "Calcula sus parámetros $ \\rightarrow $\\\\La media es: $2.5$ \\\\La varianza: $2.05$"
      ],
      "text/plain": [
       "<IPython.core.display.Markdown object>"
      ]
     },
     "metadata": {},
     "output_type": "display_data"
    },
    {
     "data": {
      "image/png": "[encoded data removed]",
      "text/latex": [
       "$$FiniteDistributionHandmade({0: 0.1, 1: 0.2, 2: 0.1, 3: 0.4, 4: 0.1, 5: 0.1})$$"
      ],
      "text/plain": [
       "FiniteDistributionHandmade({0: 0.1, 1: 0.2, 2: 0.1, 3: 0.4, 4: 0.1, 5: 0.1})"
      ]
     },
     "metadata": {},
     "output_type": "display_data"
    },
    {
     "data": {
      "text/markdown": [
       "Calcula $P\\left(X < 4.5\\right)$: , P(X>=3), P(3<=X and X<4.5)  $ \\rightarrow $ $\\left [ 0.9, \\quad 0.6, \\quad 0.5\\right ]$"
      ],
      "text/plain": [
       "<IPython.core.display.Markdown object>"
      ]
     },
     "metadata": {},
     "output_type": "display_data"
    }
   ],
   "source": [
    "puntuacion = '1'\n",
    "\n",
    "                             \n",
    "                      \n",
    "datos = [{0:0.1,1:0.2,2:0.1,3:0.4,4:0.1,5:0.1}]\n",
    "\n",
    "\n",
    "# vectores iniciales correspondientes al texto del enunciado\n",
    "\n",
    "\n",
    "\n",
    "for i, s in enumerate(datos) : \n",
    "    n_ejercicio = 'p105e02-'+str(i)\n",
    "    enunciado_latex, enunciado, solucion = [],[],[]\n",
    "    \n",
    "    texto_ejercicio = r\"\"\"Sea X una variable aleatoria discreta cuya función de probabilidad es:\\\\{} \n",
    "    \"\"\".format(datos[i])\n",
    "    \n",
    "    display(md(\"**\"+texto_ejercicio+\"**\"))\n",
    "    \n",
    "    \n",
    "    enunciado_latex.append(r\"Calcula sus parámetros\")\n",
    "    enunciado = str(s)\n",
    "    densidad = datos[i]\n",
    "    X = FiniteRV('X',densidad) \n",
    "    display(density(X))\n",
    "        \n",
    "    sol = r\"\\\\La media es: $\"\n",
    "    sol+=latex(E(X))+r\"$ \\\\\" + r\"La varianza: $\" + latex(variance(X))+r\"$\"\n",
    "    solucion.append(sol)\n",
    "    display(md(enunciado_latex[0] +\" $ \\\\rightarrow $\" + solucion[0] ))\n",
    "    \n",
    "    enunciado_latex.append(r\"Calcula $P\\left(X < 4.5\\right)$: , P(X>=3), P(3<=X and X<4.5) \")\n",
    "    enunciado = str(s)\n",
    "    densidad = datos[i]\n",
    "    X = FiniteRV('X',densidad) \n",
    "    display(density(X))\n",
    "        \n",
    "    sol = r\" $\"\n",
    "    sol+=latex([P(X<4.5), P(X>=3), P(And(3<=X, X<4.5))])+r\"$\"\n",
    "    solucion.append(sol)\n",
    "    display(md(enunciado_latex[1] +\" $ \\\\rightarrow $\" + solucion[1] ))\n",
    "    \n",
    "   \n",
    "    df_ejercicios = df_ejercicios.append(añadir_ejercicios(enunciado_latex, enunciado, solucion, texto_ejercicio, curso, titulo , n_ejercicio, '5', '1', enun_tex=False, sol_tex=False), ignore_index=True)\n",
    "\n",
    "    \n",
    "\n"
   ]
  },
  {
   "cell_type": "markdown",
   "metadata": {},
   "source": [
    "Sea X una variable aleatoria discreta cuya función de probabilidad es:\n",
    "\n",
    "\n",
    "i) Representa gráficamente la función de probabilidad\n",
    "ii) Calcula sus parámetros\n",
    "iii) Calcula P(X<4,5) , P(X>=3), P(3<=x<4.5)"
   ]
  },
  {
   "cell_type": "code",
   "execution_count": 3,
   "metadata": {},
   "outputs": [
    {
     "data": {
      "image/png": "[encoded data removed]",
      "text/latex": [
       "$$FiniteDistributionHandmade({0: 0.1, 1: 0.2, 2: 0.1, 3: 0.4, 4: 0.1, 5: 0.1})$$"
      ],
      "text/plain": [
       "FiniteDistributionHandmade({0: 0.1, 1: 0.2, 2: 0.1, 3: 0.4, 4: 0.1, 5: 0.1})"
      ]
     },
     "execution_count": 3,
     "metadata": {},
     "output_type": "execute_result"
    }
   ],
   "source": [
    "densidad = {0:0.1,1:0.2,2:0.1,3:0.4,4:0.1,5:0.1}\n",
    "X = FiniteRV('X',densidad) \n",
    "density(X)"
   ]
  },
  {
   "cell_type": "code",
   "execution_count": 4,
   "metadata": {},
   "outputs": [
    {
     "data": {
      "image/png": "[encoded data removed]",
      "text/latex": [
       "$$\\left ( 2.5, \\quad 2.05\\right )$$"
      ],
      "text/plain": [
       "(2.5, 2.05)"
      ]
     },
     "execution_count": 4,
     "metadata": {},
     "output_type": "execute_result"
    }
   ],
   "source": [
    "E(X), variance(X)"
   ]
  },
  {
   "cell_type": "code",
   "execution_count": 5,
   "metadata": {},
   "outputs": [
    {
     "data": {
      "image/png": "[encoded data removed]",
      "text/latex": [
       "$$0.9$$"
      ],
      "text/plain": [
       "0.900000000000000"
      ]
     },
     "execution_count": 5,
     "metadata": {},
     "output_type": "execute_result"
    }
   ],
   "source": [
    "P(X<4.5)"
   ]
  },
  {
   "cell_type": "code",
   "execution_count": 6,
   "metadata": {},
   "outputs": [
    {
     "data": {
      "image/png": "[encoded data removed]",
      "text/latex": [
       "$$\\left ( 0.9, \\quad 0.6, \\quad 0.5\\right )$$"
      ],
      "text/plain": [
       "(0.9, 0.6, 0.5)"
      ]
     },
     "execution_count": 6,
     "metadata": {},
     "output_type": "execute_result"
    }
   ],
   "source": [
    "P(X<4.5), P(X>=3), P(And(3<=X, X<4.5))"
   ]
  },
  {
   "cell_type": "markdown",
   "metadata": {},
   "source": [
    "La probabilidad de que un jugador de baloncesto enceste una canasta de 3 puntos es 0,6. Si tira 6\n",
    "veces, calcula la probabilidad:\n",
    "i) de que enceste 3\n",
    "ii) de que enceste al menos 1\n",
    "iii) de que enceste mas de 3"
   ]
  },
  {
   "cell_type": "code",
   "execution_count": 7,
   "metadata": {},
   "outputs": [
    {
     "data": {
      "image/png": "[encoded data removed]",
      "text/latex": [
       "$$\\left \\{ 0 : 0.004096, \\quad 1 : 0.036864, \\quad 2 : 0.13824, \\quad 3 : 0.27648, \\quad 4 : 0.31104, \\quad 5 : 0.186624, \\quad 6 : 0.046656\\right \\}$$"
      ],
      "text/plain": [
       "{0: 0.004096, 1: 0.036864, 2: 0.13824, 3: 0.27648, 4: 0.31104, 5: 0.186624, 6:\n",
       " 0.046656}"
      ]
     },
     "execution_count": 7,
     "metadata": {},
     "output_type": "execute_result"
    }
   ],
   "source": [
    "X = Binomial('X',6,0.6)\n",
    "\n",
    "density(X).dict"
   ]
  },
  {
   "cell_type": "code",
   "execution_count": 8,
   "metadata": {},
   "outputs": [
    {
     "data": {
      "image/png": "[encoded data removed]",
      "text/latex": [
       "$$3.6$$"
      ],
      "text/plain": [
       "3.60000000000000"
      ]
     },
     "execution_count": 8,
     "metadata": {},
     "output_type": "execute_result"
    }
   ],
   "source": [
    "E(X)"
   ]
  },
  {
   "cell_type": "code",
   "execution_count": 9,
   "metadata": {},
   "outputs": [
    {
     "data": {
      "image/png": "[encoded data removed]",
      "text/latex": [
       "$$\\left ( 0.27648, \\quad 0.995904, \\quad 0.54432\\right )$$"
      ],
      "text/plain": [
       "(0.27648, 0.995904, 0.54432)"
      ]
     },
     "execution_count": 9,
     "metadata": {},
     "output_type": "execute_result"
    }
   ],
   "source": [
    "P(Eq(X,3)), P(X>=1), P(X>3), "
   ]
  },
  {
   "cell_type": "markdown",
   "metadata": {},
   "source": [
    "La última novela de cierto afamado autor ha tenido un importante éxito, hasta el punto de que el\n",
    "80% de los lectores ya la han leído. Un grupo de 4 amigos son aficionados a la lectura\n",
    "i) Describe la distribución que indica el número de individuos del grupo que han leído la novela\n",
    "ii) ¿Cuál es la probabilidad de que en el grupo hayan leído la obra 2 personas? ¿Y al menos 2?"
   ]
  },
  {
   "cell_type": "code",
   "execution_count": 10,
   "metadata": {},
   "outputs": [
    {
     "data": {
      "image/png": "[encoded data removed]",
      "text/latex": [
       "$$\\left \\{ 0 : 0.0016, \\quad 1 : 0.0256, \\quad 2 : 0.1536, \\quad 3 : 0.4096, \\quad 4 : 0.4096\\right \\}$$"
      ],
      "text/plain": [
       "{0: 0.0016, 1: 0.0256, 2: 0.1536, 3: 0.4096, 4: 0.4096}"
      ]
     },
     "execution_count": 10,
     "metadata": {},
     "output_type": "execute_result"
    }
   ],
   "source": [
    "X = Binomial('X',4,0.8)\n",
    "\n",
    "density(X).dict"
   ]
  },
  {
   "cell_type": "code",
   "execution_count": 11,
   "metadata": {},
   "outputs": [
    {
     "data": {
      "image/png": "[encoded data removed]",
      "text/latex": [
       "$$\\left ( 0.1536, \\quad 0.9728\\right )$$"
      ],
      "text/plain": [
       "(0.1536, 0.9728)"
      ]
     },
     "execution_count": 11,
     "metadata": {},
     "output_type": "execute_result"
    }
   ],
   "source": [
    "P(Eq(X,2)), P(X>=2)"
   ]
  },
  {
   "cell_type": "code",
   "execution_count": 12,
   "metadata": {},
   "outputs": [],
   "source": [
    "X = Normal('X',0,1)"
   ]
  },
  {
   "cell_type": "code",
   "execution_count": 13,
   "metadata": {},
   "outputs": [
    {
     "ename": "SyntaxError",
     "evalue": "invalid syntax (<ipython-input-13-b24c8ddfb5c6>, line 1)",
     "output_type": "error",
     "traceback": [
      "\u001b[0;36m  File \u001b[0;32m\"<ipython-input-13-b24c8ddfb5c6>\"\u001b[0;36m, line \u001b[0;32m1\u001b[0m\n\u001b[0;31m    z = Symbol(\"z\")b\u001b[0m\n\u001b[0m                   ^\u001b[0m\n\u001b[0;31mSyntaxError\u001b[0m\u001b[0;31m:\u001b[0m invalid syntax\n"
     ]
    }
   ],
   "source": [
    "z = Symbol(\"z\")\n",
    "density(X)(z)"
   ]
  },
  {
   "cell_type": "code",
   "execution_count": null,
   "metadata": {},
   "outputs": [],
   "source": [
    "P(X<0),float(P(X<3.9))"
   ]
  },
  {
   "cell_type": "code",
   "execution_count": null,
   "metadata": {},
   "outputs": [],
   "source": [
    "Z = Normal('Z',0,1)"
   ]
  },
  {
   "cell_type": "code",
   "execution_count": null,
   "metadata": {},
   "outputs": [],
   "source": [
    "P(Z<0)"
   ]
  },
  {
   "cell_type": "code",
   "execution_count": null,
   "metadata": {},
   "outputs": [],
   "source": [
    "Y=Binomial('Y',30,1/4)"
   ]
  },
  {
   "cell_type": "code",
   "execution_count": null,
   "metadata": {},
   "outputs": [],
   "source": [
    "P(Y>=10)"
   ]
  },
  {
   "cell_type": "code",
   "execution_count": null,
   "metadata": {},
   "outputs": [],
   "source": [
    "media = 30*1/4\n",
    "desviacion = sqrt(30*3/(4**2))\n",
    "media, desviacion, float(P(Z>(9.5-media)/desviacion))"
   ]
  },
  {
   "cell_type": "code",
   "execution_count": null,
   "metadata": {},
   "outputs": [],
   "source": [
    "df_ejercicios"
   ]
  },
  {
   "cell_type": "code",
   "execution_count": null,
   "metadata": {},
   "outputs": [],
   "source": [
    "df_ejercicios.to_csv('ejercicios44.csv', index = False)"
   ]
  },
  {
   "cell_type": "code",
   "execution_count": null,
   "metadata": {},
   "outputs": [],
   "source": [
    "df_ejercicios = pd.read_csv('ejercicios44.csv', index_col= None)"
   ]
  },
  {
   "cell_type": "code",
   "execution_count": null,
   "metadata": {},
   "outputs": [],
   "source": [
    "escribir_preambulo(fichero, titulo, 'ejercicios')\n",
    "for s in df_ejercicios.groupby('n_ejercicio').count().index : \n",
    "    display(md(\"**Ejercicio: **\" + s ))\n",
    "    display(df_ejercicios[df_ejercicios.n_ejercicio == s])\n",
    "    escribir_ejercicios(df_ejercicios[df_ejercicios.n_ejercicio == s],fichero)\n",
    "\n",
    "escribir_fin(fichero)"
   ]
  }
 ],
 "metadata": {
  "kernelspec": {
   "display_name": "Python 3",
   "language": "python",
   "name": "python3"
  },
  "language_info": {
   "codemirror_mode": {
    "name": "ipython",
    "version": 3
   },
   "file_extension": ".py",
   "mimetype": "text/x-python",
   "name": "python",
   "nbconvert_exporter": "python",
   "pygments_lexer": "ipython3",
   "version": "3.6.8"
  }
 },
 "nbformat": 4,
 "nbformat_minor": 2
}
