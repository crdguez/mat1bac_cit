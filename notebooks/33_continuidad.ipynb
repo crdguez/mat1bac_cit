{
 "cells": [
  {
   "cell_type": "code",
   "execution_count": 1,
   "metadata": {},
   "outputs": [
    {
     "name": "stdout",
     "output_type": "stream",
     "text": [
      "IPython console for SymPy 1.4 (Python 3.6.8-64-bit) (ground types: gmpy)\n",
      "\n",
      "These commands were executed:\n",
      ">>> from __future__ import division\n",
      ">>> from sympy import *\n",
      ">>> x, y, z, t = symbols('x y z t')\n",
      ">>> k, m, n = symbols('k m n', integer=True)\n",
      ">>> f, g, h = symbols('f g h', cls=Function)\n",
      ">>> init_printing()\n",
      "\n",
      "Documentation can be found at https://docs.sympy.org/1.4/\n",
      "\n"
     ]
    }
   ],
   "source": [
    "from sympy import init_session\n",
    "from sympy import div, QQ\n",
    "from sympy.parsing.latex import parse_latex\n",
    "from sympy.parsing.sympy_parser import parse_expr\n",
    "from IPython.display import Markdown as md\n",
    "from IPython.display import display\n",
    "import pandas as pd\n",
    "\n",
    "import numpy as np\n",
    "\n",
    "\n",
    "\n",
    "\n",
    "init_session()\n",
    "\n",
    "a, b, c, d = symbols('a b c d', real = True)\n",
    "from docparts import añadir_ejercicios, doc_ejer, escribir_preambulo, escribir_ejercicios, escribir_fin\n",
    "\n",
    "df_ejercicios = pd.DataFrame()\n",
    "\n",
    "fichero = 'continuidad'\n",
    "titulo = 'Continuidad'\n",
    "curso = '1BC'\n",
    "\n",
    "\n",
    "x,y = symbols('x, y', real=True)\n",
    "\n",
    "import matplotlib.pyplot as plt\n",
    "from matplotlib import style\n",
    "#style.use('ggplot')\n",
    "style.use('seaborn-whitegrid')\n",
    "\n",
    "\n",
    "%matplotlib inline\n"
   ]
  },
  {
   "cell_type": "code",
   "execution_count": 2,
   "metadata": {},
   "outputs": [],
   "source": [
    "from sympy.calculus.util import continuous_domain"
   ]
  },
  {
   "cell_type": "code",
   "execution_count": 9,
   "metadata": {},
   "outputs": [
    {
     "data": {
      "image/png": "[encoded data removed]",
      "text/latex": [
       "$\\displaystyle 2.7$"
      ],
      "text/plain": [
       "2.7"
      ]
     },
     "execution_count": 9,
     "metadata": {},
     "output_type": "execute_result"
    }
   ],
   "source": [
    "E.evalf(2)"
   ]
  },
  {
   "cell_type": "code",
   "execution_count": 3,
   "metadata": {},
   "outputs": [],
   "source": [
    "def trozos(f):\n",
    "    # Función que devuelve el extremo superior de los tramos, los límites laterales, y el valor de la función\n",
    "    sol = []\n",
    "    for i,s  in enumerate(f.args):\n",
    "        if(i<len(f.args)-1):\n",
    "            extremo = f.args[i][1].as_set().sup\n",
    "            #display(extremo)\n",
    "            #display(s)\n",
    "            #display(limit(f.args[i][0],x,extremo, dir='-'))\n",
    "            #display(limit(f.args[i][0],x,extremo, dir='+'))\n",
    "            #display(f.subs(x,extremo))\n",
    "            sol.append((extremo, limit(f.args[i][0],x,extremo, dir='-'), limit(f.args[i+1][0],x,extremo, dir='+'),f.subs(x,extremo)))        \n",
    "    return sol        \n",
    "            "
   ]
  },
  {
   "cell_type": "code",
   "execution_count": 4,
   "metadata": {},
   "outputs": [],
   "source": [
    "def estudio(f) :\n",
    "    # Estudio en una función a trozos\n",
    "    \n",
    "    set = S.Reals\n",
    "    conj_singular = S.EmptySet\n",
    "    for j, t in enumerate(f.args) :\n",
    "        #display(singularities(t[0],x))\n",
    "        #conj_singular = Union(conj_singular,singularities(t[0],x))\n",
    "        #display(Union(conj_singular,singularities(t[0],x)))\n",
    "        #conj_singular = Union(conj_singular,Complement(S.Reals,continuous_domain(t[0],x,S.Reals)))\n",
    "        #conj_singular = Union(conj_singular,Intersection(t[1].as_set(),Complement(S.Reals,continuous_domain(t[0],x,S.Reals))))\n",
    "        set2 = Intersection(set,t[1].as_set())\n",
    "        conj_singular = Union(conj_singular,Intersection(set2,Complement(S.Reals,continuous_domain(t[0],x,S.Reals))))\n",
    "        set = Complement(S.Reals,t[1].as_set())\n",
    "        \n",
    "    sol = r\"Singularidades de las expresiones analíticas: $\"+ latex(conj_singular)+\"$\"  \n",
    "    sol += r\".\\\\ Posibles discontinuidades en los extremos de los trozos:\"\n",
    "\n",
    "    xs = []\n",
    "    estudio = []\n",
    "\n",
    "    for j, t in enumerate(trozos(f)) :\n",
    "        xs.append(str(t[0]))\n",
    "        if (t[1]==t[2]) :\n",
    "            estudio.append(r\"\\\\En {} es continua ya que hay límite y $\\lim = f({})={}$\".format(t[0],t[0],t[3]))\n",
    "            display(r\"En $x_0={}$ hay límite y f({})={}\".format(t[0],t[0],t[3]))\n",
    "        else :\n",
    "            estudio.append(r\"\\\\En {} no es continua porque no existe límite. Límites laterales: ${}$ y ${}$\".format(t[0], latex(t[1]), latex(t[2])))\n",
    "            display(r\"En {} no existe límite. Límites laterales: {} y  {}\".format(t[0], t[1], t[2]))\n",
    "\n",
    "    sol+=', '.join(xs)+r\".\"+'. '.join(estudio)\n",
    "    return(sol)\n",
    "    "
   ]
  },
  {
   "cell_type": "code",
   "execution_count": 5,
   "metadata": {},
   "outputs": [
    {
     "data": {
      "text/markdown": [
       "**Hallar el dominio de continuidad de las siguientes funciones:\n",
       "**"
      ],
      "text/plain": [
       "<IPython.core.display.Markdown object>"
      ]
     },
     "metadata": {},
     "output_type": "display_data"
    },
    {
     "data": {
      "text/markdown": [
       "$$f(x)=\\frac{x + 1}{x^{2} + 1}$$ $ \\rightarrow $$$\\mathbb{R}$$"
      ],
      "text/plain": [
       "<IPython.core.display.Markdown object>"
      ]
     },
     "metadata": {},
     "output_type": "display_data"
    },
    {
     "data": {
      "text/markdown": [
       "$$f(x)=\\frac{2 x - 1}{2 x^{2} - 5 x + 2}$$ $ \\rightarrow $$$\\left(-\\infty, \\frac{1}{2}\\right) \\cup \\left(\\frac{1}{2}, 2\\right) \\cup \\left(2, \\infty\\right)$$"
      ],
      "text/plain": [
       "<IPython.core.display.Markdown object>"
      ]
     },
     "metadata": {},
     "output_type": "display_data"
    },
    {
     "data": {
      "text/markdown": [
       "$$f(x)=\\frac{x - 1}{x^{4} - 3 x^{3} + 6 x - 4}$$ $ \\rightarrow $$$\\left(-\\infty, - \\sqrt{2}\\right) \\cup \\left(- \\sqrt{2}, 1\\right) \\cup \\left(1, \\sqrt{2}\\right) \\cup \\left(\\sqrt{2}, 2\\right) \\cup \\left(2, \\infty\\right)$$"
      ],
      "text/plain": [
       "<IPython.core.display.Markdown object>"
      ]
     },
     "metadata": {},
     "output_type": "display_data"
    },
    {
     "data": {
      "text/markdown": [
       "$$f(x)=\\sqrt{2 x^{2} - 5 x + 2}$$ $ \\rightarrow $$$\\left(-\\infty, \\frac{1}{2}\\right] \\cup \\left[2, \\infty\\right)$$"
      ],
      "text/plain": [
       "<IPython.core.display.Markdown object>"
      ]
     },
     "metadata": {},
     "output_type": "display_data"
    },
    {
     "data": {
      "text/markdown": [
       "$$f(x)=\\sqrt{\\frac{x + 1}{x - 3}}$$ $ \\rightarrow $$$\\left(-\\infty, -1\\right] \\cup \\left(3, \\infty\\right)$$"
      ],
      "text/plain": [
       "<IPython.core.display.Markdown object>"
      ]
     },
     "metadata": {},
     "output_type": "display_data"
    },
    {
     "data": {
      "text/markdown": [
       "$$f(x)=\\frac{2}{\\left|{x}\\right| - 2}$$ $ \\rightarrow $$$\\left(-\\infty, -2\\right) \\cup \\left(-2, 2\\right) \\cup \\left(2, \\infty\\right)$$"
      ],
      "text/plain": [
       "<IPython.core.display.Markdown object>"
      ]
     },
     "metadata": {},
     "output_type": "display_data"
    },
    {
     "data": {
      "text/markdown": [
       "$$f(x)=\\frac{2}{\\left|{x - 2}\\right| - 2}$$ $ \\rightarrow $$$\\left(-\\infty, 0\\right) \\cup \\left(0, 4\\right) \\cup \\left(4, \\infty\\right)$$"
      ],
      "text/plain": [
       "<IPython.core.display.Markdown object>"
      ]
     },
     "metadata": {},
     "output_type": "display_data"
    },
    {
     "data": {
      "text/markdown": [
       "$$f(x)=x e^{x^{2}}$$ $ \\rightarrow $$$\\mathbb{R}$$"
      ],
      "text/plain": [
       "<IPython.core.display.Markdown object>"
      ]
     },
     "metadata": {},
     "output_type": "display_data"
    }
   ],
   "source": [
    "puntuacion = '1'                          \n",
    "                      \n",
    "datos =  [  \n",
    "            (x+1)/(x**2+1), (2*x-1)/(2*x**2-5*x+2), (x-1)/(x**4-3*x**3+6*x-4), sqrt(2*x**2-5*x+2),\n",
    "            sqrt((x+1)/(x-3)), 2/(abs(x)-2), 2/(abs(x-2)-2), x*E**x**2\n",
    "         ]\n",
    "        \n",
    "\n",
    "# vectores iniciales correspondientes al texto del enunciado\n",
    "\n",
    "n_ejercicio = 'p076e10: '\n",
    "enunciado_latex, enunciado, solucion = [],[],[]\n",
    "\n",
    "texto_ejercicio = r\"\"\"Hallar el dominio de continuidad de las siguientes funciones:\n",
    "\"\"\"\n",
    "\n",
    "display(md(\"**\"+texto_ejercicio+\"**\"))\n",
    "\n",
    "for j, t in enumerate(datos):\n",
    "    enunciado_latex.append(r'$$f(x)='+latex(t)+r'$$')\n",
    "    enunciado.append(t)\n",
    "    solucion.append(r'$$'+latex(continuous_domain(t,x,domain=S.Reals))+r'$$')\n",
    "    display(md(enunciado_latex[j] +\" $ \\\\rightarrow $\" + solucion[j] ))\n",
    "\n",
    "\n",
    "df_ejercicios = df_ejercicios.append(añadir_ejercicios(enunciado_latex, enunciado, solucion, texto_ejercicio, curso, titulo , n_ejercicio, '5', '1', enun_tex=False, sol_tex=False), ignore_index=True)\n",
    "\n",
    "\n"
   ]
  },
  {
   "cell_type": "code",
   "execution_count": 7,
   "metadata": {},
   "outputs": [
    {
     "data": {
      "text/markdown": [
       "**Estudia la continuidad de las siguientes funciones:\n",
       "**"
      ],
      "text/plain": [
       "<IPython.core.display.Markdown object>"
      ]
     },
     "metadata": {},
     "output_type": "display_data"
    },
    {
     "data": {
      "text/plain": [
       "'En $x_0=1$ hay límite y f(1)=1'"
      ]
     },
     "metadata": {},
     "output_type": "display_data"
    },
    {
     "data": {
      "text/plain": [
       "'Esto es:Piecewise((x, x < 1), (x**2, True))'"
      ]
     },
     "metadata": {},
     "output_type": "display_data"
    },
    {
     "data": {
      "text/plain": [
       "'En $x_0=1$ hay límite y f(1)=1'"
      ]
     },
     "metadata": {},
     "output_type": "display_data"
    },
    {
     "data": {
      "text/markdown": [
       "$$f(x)=\\begin{cases} x & \\text{for}\\: x < 1 \\\\x^{2} & \\text{otherwise} \\end{cases}$$ $ \\rightarrow $Singularidades de las expresiones analíticas: $\\emptyset$.\\\\ Posibles discontinuidades en los extremos de los trozos:1.\\\\En 1 es continua ya que hay límite y $\\lim = f(1)=1$"
      ],
      "text/plain": [
       "<IPython.core.display.Markdown object>"
      ]
     },
     "metadata": {},
     "output_type": "display_data"
    },
    {
     "data": {
      "text/plain": [
       "'En 1 no existe límite. Límites laterales: E y  0'"
      ]
     },
     "metadata": {},
     "output_type": "display_data"
    },
    {
     "data": {
      "text/plain": [
       "'Esto es:Piecewise((exp(x), x < 1), (log(x), True))'"
      ]
     },
     "metadata": {},
     "output_type": "display_data"
    },
    {
     "data": {
      "text/plain": [
       "'En 1 no existe límite. Límites laterales: E y  0'"
      ]
     },
     "metadata": {},
     "output_type": "display_data"
    },
    {
     "data": {
      "text/markdown": [
       "$$f(x)=\\begin{cases} e^{x} & \\text{for}\\: x < 1 \\\\\\log{\\left(x \\right)} & \\text{otherwise} \\end{cases}$$ $ \\rightarrow $Singularidades de las expresiones analíticas: $\\emptyset$.\\\\ Posibles discontinuidades en los extremos de los trozos:1.\\\\En 1 no es continua porque no existe límite. Límites laterales: $e$ y $0$"
      ],
      "text/plain": [
       "<IPython.core.display.Markdown object>"
      ]
     },
     "metadata": {},
     "output_type": "display_data"
    },
    {
     "data": {
      "text/plain": [
       "'En 1 no existe límite. Límites laterales: 1 y  0'"
      ]
     },
     "metadata": {},
     "output_type": "display_data"
    },
    {
     "data": {
      "text/plain": [
       "'Esto es:Piecewise((1/x, x < 1), (x**2 - 1, True))'"
      ]
     },
     "metadata": {},
     "output_type": "display_data"
    },
    {
     "data": {
      "text/plain": [
       "'En 1 no existe límite. Límites laterales: 1 y  0'"
      ]
     },
     "metadata": {},
     "output_type": "display_data"
    },
    {
     "data": {
      "text/markdown": [
       "$$f(x)=\\begin{cases} \\frac{1}{x} & \\text{for}\\: x < 1 \\\\x^{2} - 1 & \\text{otherwise} \\end{cases}$$ $ \\rightarrow $Singularidades de las expresiones analíticas: $\\left\\{0\\right\\}$.\\\\ Posibles discontinuidades en los extremos de los trozos:1.\\\\En 1 no es continua porque no existe límite. Límites laterales: $1$ y $0$"
      ],
      "text/plain": [
       "<IPython.core.display.Markdown object>"
      ]
     },
     "metadata": {},
     "output_type": "display_data"
    },
    {
     "data": {
      "text/plain": [
       "'En $x_0=-1$ hay límite y f(-1)=1'"
      ]
     },
     "metadata": {},
     "output_type": "display_data"
    },
    {
     "data": {
      "text/plain": [
       "'En 1 no existe límite. Límites laterales: 1 y  3'"
      ]
     },
     "metadata": {},
     "output_type": "display_data"
    },
    {
     "data": {
      "text/plain": [
       "'Esto es:Piecewise((Abs(x + 2), x < -1), (x**2, x < 1), (2*x + 1, x > 1))'"
      ]
     },
     "metadata": {},
     "output_type": "display_data"
    },
    {
     "data": {
      "text/plain": [
       "'En $x_0=-1$ hay límite y f(-1)=1'"
      ]
     },
     "metadata": {},
     "output_type": "display_data"
    },
    {
     "data": {
      "text/plain": [
       "'En 1 no existe límite. Límites laterales: 1 y  3'"
      ]
     },
     "metadata": {},
     "output_type": "display_data"
    },
    {
     "data": {
      "text/markdown": [
       "$$f(x)=\\begin{cases} \\left|{x + 2}\\right| & \\text{for}\\: x < -1 \\\\x^{2} & \\text{for}\\: x < 1 \\\\2 x + 1 & \\text{for}\\: x > 1 \\end{cases}$$ $ \\rightarrow $Singularidades de las expresiones analíticas: $\\emptyset$.\\\\ Posibles discontinuidades en los extremos de los trozos:-1, 1.\\\\En -1 es continua ya que hay límite y $\\lim = f(-1)=1$. \\\\En 1 no es continua porque no existe límite. Límites laterales: $1$ y $3$"
      ],
      "text/plain": [
       "<IPython.core.display.Markdown object>"
      ]
     },
     "metadata": {},
     "output_type": "display_data"
    }
   ],
   "source": [
    "puntuacion = '1'                          \n",
    "                      \n",
    "datos =  [  \n",
    "            Piecewise((x,x<1),(x**2,x>=1)),        \n",
    "            Piecewise((E**x,x<1),(log(x),True)),\n",
    "            Piecewise((1/x,x<1),(x**2-1,True)),\n",
    "            Piecewise((abs(x+2),x<-1),(x**2,x<1), (2*x+1,x>1)),    \n",
    "         ]\n",
    "        \n",
    "\n",
    "# vectores iniciales correspondientes al texto del enunciado\n",
    "\n",
    "n_ejercicio = 'p076e14: '\n",
    "enunciado_latex, enunciado, solucion = [],[],[]\n",
    "\n",
    "texto_ejercicio = r\"\"\"Estudia la continuidad de las siguientes funciones:\n",
    "\"\"\"\n",
    "\n",
    "display(md(\"**\"+texto_ejercicio+\"**\"))\n",
    "\n",
    "for j, t in enumerate(datos):\n",
    "    enunciado_latex.append(r'$$f(x)='+latex(t)+r'$$')\n",
    "    enunciado.append(t)\n",
    "    sol = estudio(t)\n",
    "    plt.rcParams['figure.figsize'] = 10,10\n",
    "    display(\"Esto es:\"+str(t))\n",
    "    #plot(t)\n",
    "    #p1 = plot(parse_latex(t),show=True, xlim=(-10,10), ylim=(-10,10))\n",
    "    #p1.save(n_ejercicio+\"-\"+str(j)+\".png\")\n",
    "    #sol+=r\"\\\\ \\resizebox{0.4\\textwidth}{!}{\\includegraphics[width=1\\columnwidth]{%s}}\" % (n_ejercicio+\"-\"+str(j))\n",
    "\n",
    "    #solucion.append(sol)\n",
    "    solucion.append(estudio(t))\n",
    "    display(md(enunciado_latex[j] +\" $ \\\\rightarrow $\" + solucion[j] ))\n",
    "\n",
    "\n",
    "df_ejercicios = df_ejercicios.append(añadir_ejercicios(enunciado_latex, enunciado, solucion, texto_ejercicio, curso, titulo , n_ejercicio, '5', '1', enun_tex=False, sol_tex=False), ignore_index=True)\n",
    "\n",
    "\n"
   ]
  },
  {
   "cell_type": "code",
   "execution_count": null,
   "metadata": {},
   "outputs": [],
   "source": [
    "puntuacion = '1'                          \n",
    "                      \n",
    "datos =  [  \n",
    "            Piecewise((x+1,x<=2),(k-x,True)),\n",
    "            Piecewise((x+k,x<=0),(x**2-1,True)),\n",
    "            Piecewise(((x**4-1)/(x-1),x<1),(k,x<=1),((x**4-1)/(x-1),True)),\n",
    "            Piecewise(((sqrt(x)-1)/(x-1),x<=1),(k,True)),\n",
    "            \n",
    "            \n",
    "         ]\n",
    "        \n",
    "\n",
    "# vectores iniciales correspondientes al texto del enunciado\n",
    "\n",
    "n_ejercicio = 'p076e15: '\n",
    "enunciado_latex, enunciado, solucion = [],[],[]\n",
    "\n",
    "texto_ejercicio = r\"\"\"Calcula el valor de k para que las siguientes funciones sean continuas:\n",
    "\"\"\"\n",
    "\n",
    "display(md(\"**\"+texto_ejercicio+\"**\"))\n",
    "\n",
    "for j, t in enumerate(datos):\n",
    "    enunciado_latex.append(r'$$f(x)='+latex(t)+r'$$')\n",
    "    enunciado.append(t)\n",
    "    sol = solveset(trozos(t)[0][1]-trozos(t)[0][2],k)\n",
    "    solucion.append(r\"$\"+latex(sol)+r\"$\")\n",
    "    display(md(enunciado_latex[j] +\" $ \\\\rightarrow $\" + solucion[j] ))\n",
    "\n",
    "\n",
    "df_ejercicios = df_ejercicios.append(añadir_ejercicios(enunciado_latex, enunciado, solucion, texto_ejercicio, curso, titulo , n_ejercicio, '5', '1', enun_tex=False, sol_tex=False), ignore_index=True)\n",
    "\n",
    "\n"
   ]
  },
  {
   "cell_type": "code",
   "execution_count": null,
   "metadata": {},
   "outputs": [],
   "source": [
    "puntuacion = '1'                          \n",
    "                      \n",
    "datos =  [  \n",
    "            Piecewise((x**2,x<0),(a*x+b,x<1),(2,True)),\n",
    "            Piecewise((a*(x-1)**2,x<0),(sin(b+x),x<pi),(pi/x,True)),\n",
    "            \n",
    "            \n",
    "         ]\n",
    "        \n",
    "\n",
    "\n",
    "n_ejercicio = 'p076e16: '\n",
    "enunciado_latex, enunciado, solucion = [],[],[]\n",
    "\n",
    "texto_ejercicio = r\"\"\"Halla a y b de modo que las siguientes funciones sean continuas:\n",
    "\"\"\"\n",
    "\n",
    "display(md(\"**\"+texto_ejercicio+\"**\"))\n",
    "\n",
    "for j, t in enumerate(datos):\n",
    "    enunciado_latex.append(r'$$f(x)='+latex(t)+r'$$')\n",
    "    enunciado.append(t)\n",
    "    sol = solve([trozos(t)[0][1]-trozos(t)[0][2],trozos(t)[1][1]-trozos(t)[1][2]])\n",
    "    solucion.append(r\"$\"+latex(sol)+r\"$\")\n",
    "    display(md(enunciado_latex[j] +\" $ \\\\rightarrow $\" + solucion[j] ))\n",
    "    \n",
    "dato = Piecewise((log(x),x<1),(a*x**2+b,True))\n",
    "enunciado_latex.append(r'$$f(x)='+latex(dato)+r'$$')\n",
    "enunciado.append(dato)\n",
    "sol = solveset(trozos(dato)[0][1]-trozos(dato)[0][2],a)\n",
    "solucion.append(r\"$\"+latex(sol)+r\"$\")\n",
    "    \n",
    "\n",
    "\n",
    "df_ejercicios = df_ejercicios.append(añadir_ejercicios(enunciado_latex, enunciado, solucion, texto_ejercicio, curso, titulo , n_ejercicio, '5', '1', enun_tex=False, sol_tex=False), ignore_index=True)\n",
    "\n",
    "\n"
   ]
  },
  {
   "cell_type": "code",
   "execution_count": null,
   "metadata": {},
   "outputs": [],
   "source": [
    "df_ejercicios"
   ]
  },
  {
   "cell_type": "code",
   "execution_count": null,
   "metadata": {},
   "outputs": [],
   "source": [
    "escribir_preambulo(fichero, titulo, 'ejercicios')\n",
    "for s in df_ejercicios.groupby('n_ejercicio').count().index : \n",
    "    display(md(\"**Ejercicio: **\" + s ))\n",
    "    display(df_ejercicios[df_ejercicios.n_ejercicio == s])\n",
    "    escribir_ejercicios(df_ejercicios[df_ejercicios.n_ejercicio == s],fichero)\n",
    "\n",
    "escribir_fin(fichero)"
   ]
  },
  {
   "cell_type": "code",
   "execution_count": null,
   "metadata": {},
   "outputs": [],
   "source": [
    "escribir_preambulo(fichero, titulo, 'ejercicios')\n",
    "for s in df_ejercicios.groupby('n_ejercicio').count().index : \n",
    "    display(md(\"**Ejercicio: **\" + s ))\n",
    "    display(df_ejercicios[df_ejercicios.n_ejercicio == s])\n",
    "    escribir_ejercicios(df_ejercicios[df_ejercicios.n_ejercicio == s],fichero)\n",
    "\n",
    "escribir_fin(fichero)"
   ]
  }
 ],
 "metadata": {
  "kernelspec": {
   "display_name": "Python 3",
   "language": "python",
   "name": "python3"
  },
  "language_info": {
   "codemirror_mode": {
    "name": "ipython",
    "version": 3
   },
   "file_extension": ".py",
   "mimetype": "text/x-python",
   "name": "python",
   "nbconvert_exporter": "python",
   "pygments_lexer": "ipython3",
   "version": "3.6.8"
  }
 },
 "nbformat": 4,
 "nbformat_minor": 2
}
