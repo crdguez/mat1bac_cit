{
  "nbformat": 4,
  "nbformat_minor": 0,
  "metadata": {
    "colab": {
      "name": "7 Sistemas.ipynb",
      "provenance": []
    },
    "kernelspec": {
      "display_name": "Python 3",
      "language": "python",
      "name": "python3"
    },
    "language_info": {
      "codemirror_mode": {
        "name": "ipython",
        "version": 3
      },
      "file_extension": ".py",
      "mimetype": "text/x-python",
      "name": "python",
      "nbconvert_exporter": "python",
      "pygments_lexer": "ipython3",
      "version": "3.6.12"
    }
  },
  "cells": [
    {
      "cell_type": "code",
      "metadata": {
        "id": "XLjKRF_kknDB"
      },
      "source": [
        "# Ejecutar para que funcione el parse_latex en google colab\n",
        " \n",
        "# !pip install sympy==1.5 antlr4-python3-runtime==4.7.1"
      ],
      "execution_count": null,
      "outputs": []
    },
    {
      "cell_type": "code",
      "metadata": {
        "colab": {
          "base_uri": "https://localhost:8080/"
        },
        "id": "tVIMjcDSknDa",
        "scrolled": true,
        "outputId": "324bd0b6-db06-4d0e-b783-8fb93bc60a44"
      },
      "source": [
        "from sympy import init_session\n",
        "from sympy.parsing.latex import parse_latex\n",
        "from sympy.parsing.sympy_parser import parse_expr\n",
        "from IPython.display import Markdown as md\n",
        "from IPython.display import display\n",
        "\n",
        "import numpy as np\n",
        "import pandas as pd\n",
        "import matplotlib.pyplot as plt\n",
        "\n",
        "import scipy as sc\n",
        "from tabulate import tabulate\n",
        "from scipy.stats import cumfreq, relfreq, stats\n",
        "\n",
        "init_session()\n",
        "\n",
        "%matplotlib inline"
      ],
      "execution_count": null,
      "outputs": [
        {
          "name": "stdout",
          "output_type": "stream",
          "text": [
            "IPython console for SymPy 1.6.2 (Python 3.6.12-64-bit) (ground types: gmpy)\n",
            "\n",
            "These commands were executed:\n",
            ">>> from __future__ import division\n",
            ">>> from sympy import *\n",
            ">>> x, y, z, t = symbols('x y z t')\n",
            ">>> k, m, n = symbols('k m n', integer=True)\n",
            ">>> f, g, h = symbols('f g h', cls=Function)\n",
            ">>> init_printing()\n",
            "\n",
            "Documentation can be found at https://docs.sympy.org/1.6.2/\n",
            "\n"
          ]
        }
      ]
    },
    {
      "cell_type": "code",
      "metadata": {
        "id": "U_EQ3XUBknDf"
      },
      "source": [
        "def latex_exam(question, parts):\n",
        "    tex=r\"\\question \"+question+r\"\\begin{parts} \"\n",
        "    for p in parts :\n",
        "        tex+=r\"\\part[1] \"+p[0]+r\"\\begin{solution} \"+p[1]+r\"\\end{solution} \" \n",
        "    tex+=r\"\\end{parts} \"\n",
        "    \n",
        "    return tex\n",
        "\n",
        "def mostrar_ejercicio(ejercicio,solucion,tipo=0) :\n",
        "    #tipo=0 se pasa el ejercicio y la solucion en formato latex\n",
        "    if tipo == 0 :\n",
        "        display(md(\"#### Ejercicio:\"))\n",
        "        display(md(r\"{} $\\to$ {}\".format(ejercicio, solucion)))\n",
        "        print(\"enunciado_latex: \" + ejercicio)\n",
        "        print(\"solucion_latex: \" + solucion)\n",
        "        return ejercicio, solucion\n",
        "    elif tipo == 1:\n",
        "        # falta desarrollar ...\n",
        "        display(md(\"#### Ejercicio:\"))\n",
        "        display(md(r\"{} $\\to$ {}\".format(ejercicio, solucion)))\n",
        "        print(\"enunciado_latex: \" + ejercicio)\n",
        "        print(\"solucion_latex: \" + solucion)\n",
        "        return ejercicio, solucion\n",
        "\n",
        "        "
      ],
      "execution_count": null,
      "outputs": []
    },
    {
      "cell_type": "code",
      "metadata": {
        "id": "D-ZFt91KhSG5"
      },
      "source": [
        "def texto_a_datos(str_datos, tipo=int) :\n",
        "    datos = np.loadtxt(str_datos.split())\n",
        "    datos = datos.astype(tipo)\n",
        "    return datos\n",
        "\n",
        "def datos_a_tabla(datos) :\n",
        "    tabla = pd.DataFrame({'$x_i$':np.unique(datos), \n",
        "                          '$f_i$':np.unique(datos, return_counts=True)[1],\n",
        "                          '$F_i$':np.unique(datos, return_counts=True)[1].cumsum(),\n",
        "                          '$h_i$':np.unique(datos, return_counts=True)[1]/len(datos),  \n",
        "                          '$H_i$':(np.unique(datos, return_counts=True)[1]/len(datos)).cumsum(), \n",
        "                          r'\\%_i':np.unique(datos, return_counts=True)[1]*100/len(datos), \n",
        "                          r'\\%A_i':(np.unique(datos, return_counts=True)[1]*100/len(datos)).cumsum(),\n",
        "                         })\n",
        "    tabla['$x_if_i$']=tabla['$x_i$']*tabla['$f_i$']\n",
        "    tabla['$x^2_if_i$']=tabla['$x_i$']**2*tabla['$f_i$']\n",
        "    \n",
        "    totales = pd.DataFrame([[np.nan,tabla['$f_i$'].sum(),\n",
        "                         np.nan, tabla['$h_i$'].sum(), np.nan, tabla[r'\\%_i'].sum(), np.nan,\n",
        "                        tabla['$x_if_i$'].sum(),tabla['$x^2_if_i$'].sum()]],columns=list(tabla.columns))\n",
        "\n",
        "    tabla=tabla.append(totales,ignore_index=True)\n",
        "    return tabla\n",
        "\n",
        "def diagrama_barras(datos) :\n",
        "    d = np.diff(np.unique(datos)).min()\n",
        "    left_of_first_bin = datos.min() - float(d)/2\n",
        "    right_of_last_bin = datos.max() + float(d)/2\n",
        "    plt.clf()\n",
        "    plt.hist(datos, np.arange(left_of_first_bin, right_of_last_bin + d, d), rwidth=0.9, cumulative = False)\n",
        "    plt.title(\"Diagrama \")\n",
        "#     plt.savefig(\"../img/diagrama\"+n_ejercicio)\n",
        "    \n",
        "    return plt.figure\n",
        "\n",
        "def analisis_discreto(texto_ejercicio, datos, n_ejercicio='_'):\n",
        "    texto_ejercicio = texto_ejercicio + \" \". join(map(str,datos))\n",
        "    enunciado_latex = [r'Realiza una tabla de frecuencias',\n",
        "                   r'Realiza un diagrama de barras',\n",
        "                   r'Calcular los parámetros de centralización',\n",
        "                   r'Calcular los parámetros de posición P70, Q1, Q3, D4',\n",
        "                   r'Calcular los parámetros de dispersión',\n",
        "                       r'Realiza un diagrama de caja'\n",
        "                ]\n",
        "\n",
        "    enunciado = texto_ejercicio+r\". \\begin{itemize} \\item \"+r\" \\item \".join(enunciado_latex)+ r\". \\end{itemize}\"\n",
        "    \n",
        "    tabla = datos_a_tabla(datos)\n",
        "\n",
        "#     solucion=\"$\"+tabulate(tabla, headers=\"keys\", tablefmt=\"latex\", showindex=False)+r\"$\"\n",
        "    solucion=\"$\"+tabulate(tabla, headers=\"keys\", tablefmt=\"latex_raw\", showindex=False)+r\"$\"\n",
        "\n",
        "\n",
        "\n",
        "#     d = np.diff(np.unique(datos)).min()\n",
        "#     left_of_first_bin = datos.min() - float(d)/2\n",
        "#     right_of_last_bin = datos.max() + float(d)/2\n",
        "#     plt.clf()\n",
        "#     plt.hist(datos, np.arange(left_of_first_bin, right_of_last_bin + d, d), rwidth=0.9, cumulative = False)\n",
        "#     plt.title(\"Diagrama \")\n",
        "#     plt.savefig(\"../img/diagrama\"+n_ejercicio)\n",
        "\n",
        "#     plt.show()\n",
        "    fig=diagrama_barras(datos)\n",
        "    plt.savefig(\"../img/diagrama\"+n_ejercicio)\n",
        "    plt.show()\n",
        "    \n",
        "    plt.boxplot(datos, vert=False)\n",
        "    plt.savefig(\"../img/caja\"+n_ejercicio)\n",
        "    plt.show()\n",
        "\n",
        "\n",
        "\n",
        "    solucion += r\"\\\\ \\includegraphics[width=1\\columnwidth]{%s}\" % (\"diagrama\"+n_ejercicio)\n",
        "    solucion += r\" \\\\ $\"+latex({\"media\":datos.mean().round(2), \"Me\":np.percentile(datos,50), \"Mo\":stats.mode(datos)})+r\"$ \\\\\"\n",
        "    solucion += \"$\"+latex({\"P70\":np.percentile(datos,70), \"Q1\":np.percentile(datos,25),\"Q3\":np.percentile(datos,75),\"D4\":np.percentile(datos,40),})+r\"$ \\\\\"\n",
        "    solucion += \"$\"+latex({\"rango\":np.amax(datos)-np.amin(datos), \"var\": np.var(datos).round(2), \"desv.tip\":sqrt(np.var(datos)).round(2), \"C.V\": (sqrt(np.var(datos))/abs(np.mean(datos))).round(2)})+r\"$\"\n",
        "    solucion += r\"\\\\ \\includegraphics[width=1\\columnwidth]{%s}\" % (\"caja\"+n_ejercicio)\n",
        "    \n",
        "    display(tabla, solucion)\n",
        "    return  texto_ejercicio, enunciado_latex, enunciado, solucion, tabla, n_ejercicio\n",
        "\n"
      ],
      "execution_count": null,
      "outputs": []
    },
    {
      "cell_type": "code",
      "metadata": {
        "colab": {
          "base_uri": "https://localhost:8080/",
          "height": 662
        },
        "id": "Tk7UygoXhSG9",
        "outputId": "af9c5ce3-a5dc-4dc7-faab-a44d13cd2f3e"
      },
      "source": [
        "lista_problemas = [\n",
        "                  ['p089e01','Las calificaciones de un grupo de 34 alumnos han sido: ',r\"9 6 5 0 1 5 7 9 10 7 5 1 2 5 7 6 3 4 6 8 8 6 4 4 6 5 3 5 7 7 8 7 2 2\"],\n",
        "                ['p198e01','Dada la siguiente distribución de datos: ',r\"\"\"0 1 1 2 2\n",
        "6 6 7 7 7\n",
        "2 3 3 4 4\n",
        "7 8 8 8 8\n",
        "4 4 5 5 5\n",
        "9 9 9 10 10\"\"\"]\n",
        "                                    ]\n",
        "\n",
        "question='Responde a las siguientes cuestiones:'\n",
        "parts=[]\n",
        "for i,p in enumerate(lista_problemas):\n",
        "    texto_ejercicio, enunciado_latex, enunciado, solucion, tabla, n_ejercicio = analisis_discreto(texto_ejercicio=p[1], datos=texto_a_datos(p[2]), n_ejercicio='_prueba'+str(i))\n",
        "    mostrar_ejercicio(enunciado,solucion)\n",
        "    parts.append([enunciado, solucion]) \n",
        "#     datos = np.loadtxt(p[2].split())\n",
        "#     datos = datos.astype(int)\n",
        "#     display(datos)\n",
        "#     plt.boxplot(datos, vert=False)\n",
        "\n",
        "print(latex_exam(question, parts))"
      ],
      "execution_count": null,
      "outputs": [
        {
          "data": {
            "image/png": "[encoded data removed]",
            "text/plain": [
              "<Figure size 432x288 with 1 Axes>"
            ]
          },
          "metadata": {
            "needs_background": "light"
          },
          "output_type": "display_data"
        },
        {
          "data": {
            "image/png": "[encoded data removed]",
            "text/plain": [
              "<Figure size 432x288 with 1 Axes>"
            ]
          },
          "metadata": {
            "needs_background": "light"
          },
          "output_type": "display_data"
        },
        {
          "data": {
            "text/html": [
              "<div>\n",
              "<style scoped>\n",
              "    .dataframe tbody tr th:only-of-type {\n",
              "        vertical-align: middle;\n",
              "    }\n",
              "\n",
              "    .dataframe tbody tr th {\n",
              "        vertical-align: top;\n",
              "    }\n",
              "\n",
              "    .dataframe thead th {\n",
              "        text-align: right;\n",
              "    }\n",
              "</style>\n",
              "<table border=\"1\" class=\"dataframe\">\n",
              "  <thead>\n",
              "    <tr style=\"text-align: right;\">\n",
              "      <th></th>\n",
              "      <th>$x_i$</th>\n",
              "      <th>$f_i$</th>\n",
              "      <th>$F_i$</th>\n",
              "      <th>$h_i$</th>\n",
              "      <th>$H_i$</th>\n",
              "      <th>\\%_i</th>\n",
              "      <th>\\%A_i</th>\n",
              "      <th>$x_if_i$</th>\n",
              "      <th>$x^2_if_i$</th>\n",
              "    </tr>\n",
              "  </thead>\n",
              "  <tbody>\n",
              "    <tr>\n",
              "      <th>0</th>\n",
              "      <td>0.0</td>\n",
              "      <td>1</td>\n",
              "      <td>1.0</td>\n",
              "      <td>0.029412</td>\n",
              "      <td>0.029412</td>\n",
              "      <td>2.941176</td>\n",
              "      <td>2.941176</td>\n",
              "      <td>0</td>\n",
              "      <td>0</td>\n",
              "    </tr>\n",
              "    <tr>\n",
              "      <th>1</th>\n",
              "      <td>1.0</td>\n",
              "      <td>2</td>\n",
              "      <td>3.0</td>\n",
              "      <td>0.058824</td>\n",
              "      <td>0.088235</td>\n",
              "      <td>5.882353</td>\n",
              "      <td>8.823529</td>\n",
              "      <td>2</td>\n",
              "      <td>2</td>\n",
              "    </tr>\n",
              "    <tr>\n",
              "      <th>2</th>\n",
              "      <td>2.0</td>\n",
              "      <td>3</td>\n",
              "      <td>6.0</td>\n",
              "      <td>0.088235</td>\n",
              "      <td>0.176471</td>\n",
              "      <td>8.823529</td>\n",
              "      <td>17.647059</td>\n",
              "      <td>6</td>\n",
              "      <td>12</td>\n",
              "    </tr>\n",
              "    <tr>\n",
              "      <th>3</th>\n",
              "      <td>3.0</td>\n",
              "      <td>2</td>\n",
              "      <td>8.0</td>\n",
              "      <td>0.058824</td>\n",
              "      <td>0.235294</td>\n",
              "      <td>5.882353</td>\n",
              "      <td>23.529412</td>\n",
              "      <td>6</td>\n",
              "      <td>18</td>\n",
              "    </tr>\n",
              "    <tr>\n",
              "      <th>4</th>\n",
              "      <td>4.0</td>\n",
              "      <td>3</td>\n",
              "      <td>11.0</td>\n",
              "      <td>0.088235</td>\n",
              "      <td>0.323529</td>\n",
              "      <td>8.823529</td>\n",
              "      <td>32.352941</td>\n",
              "      <td>12</td>\n",
              "      <td>48</td>\n",
              "    </tr>\n",
              "    <tr>\n",
              "      <th>5</th>\n",
              "      <td>5.0</td>\n",
              "      <td>6</td>\n",
              "      <td>17.0</td>\n",
              "      <td>0.176471</td>\n",
              "      <td>0.500000</td>\n",
              "      <td>17.647059</td>\n",
              "      <td>50.000000</td>\n",
              "      <td>30</td>\n",
              "      <td>150</td>\n",
              "    </tr>\n",
              "    <tr>\n",
              "      <th>6</th>\n",
              "      <td>6.0</td>\n",
              "      <td>5</td>\n",
              "      <td>22.0</td>\n",
              "      <td>0.147059</td>\n",
              "      <td>0.647059</td>\n",
              "      <td>14.705882</td>\n",
              "      <td>64.705882</td>\n",
              "      <td>30</td>\n",
              "      <td>180</td>\n",
              "    </tr>\n",
              "    <tr>\n",
              "      <th>7</th>\n",
              "      <td>7.0</td>\n",
              "      <td>6</td>\n",
              "      <td>28.0</td>\n",
              "      <td>0.176471</td>\n",
              "      <td>0.823529</td>\n",
              "      <td>17.647059</td>\n",
              "      <td>82.352941</td>\n",
              "      <td>42</td>\n",
              "      <td>294</td>\n",
              "    </tr>\n",
              "    <tr>\n",
              "      <th>8</th>\n",
              "      <td>8.0</td>\n",
              "      <td>3</td>\n",
              "      <td>31.0</td>\n",
              "      <td>0.088235</td>\n",
              "      <td>0.911765</td>\n",
              "      <td>8.823529</td>\n",
              "      <td>91.176471</td>\n",
              "      <td>24</td>\n",
              "      <td>192</td>\n",
              "    </tr>\n",
              "    <tr>\n",
              "      <th>9</th>\n",
              "      <td>9.0</td>\n",
              "      <td>2</td>\n",
              "      <td>33.0</td>\n",
              "      <td>0.058824</td>\n",
              "      <td>0.970588</td>\n",
              "      <td>5.882353</td>\n",
              "      <td>97.058824</td>\n",
              "      <td>18</td>\n",
              "      <td>162</td>\n",
              "    </tr>\n",
              "    <tr>\n",
              "      <th>10</th>\n",
              "      <td>10.0</td>\n",
              "      <td>1</td>\n",
              "      <td>34.0</td>\n",
              "      <td>0.029412</td>\n",
              "      <td>1.000000</td>\n",
              "      <td>2.941176</td>\n",
              "      <td>100.000000</td>\n",
              "      <td>10</td>\n",
              "      <td>100</td>\n",
              "    </tr>\n",
              "    <tr>\n",
              "      <th>11</th>\n",
              "      <td>NaN</td>\n",
              "      <td>34</td>\n",
              "      <td>NaN</td>\n",
              "      <td>1.000000</td>\n",
              "      <td>NaN</td>\n",
              "      <td>100.000000</td>\n",
              "      <td>NaN</td>\n",
              "      <td>180</td>\n",
              "      <td>1158</td>\n",
              "    </tr>\n",
              "  </tbody>\n",
              "</table>\n",
              "</div>"
            ],
            "text/plain": [
              "    $x_i$  $f_i$  $F_i$     $h_i$     $H_i$        \\%_i       \\%A_i  $x_if_i$  \\\n",
              "0     0.0      1    1.0  0.029412  0.029412    2.941176    2.941176         0   \n",
              "1     1.0      2    3.0  0.058824  0.088235    5.882353    8.823529         2   \n",
              "2     2.0      3    6.0  0.088235  0.176471    8.823529   17.647059         6   \n",
              "3     3.0      2    8.0  0.058824  0.235294    5.882353   23.529412         6   \n",
              "4     4.0      3   11.0  0.088235  0.323529    8.823529   32.352941        12   \n",
              "5     5.0      6   17.0  0.176471  0.500000   17.647059   50.000000        30   \n",
              "6     6.0      5   22.0  0.147059  0.647059   14.705882   64.705882        30   \n",
              "7     7.0      6   28.0  0.176471  0.823529   17.647059   82.352941        42   \n",
              "8     8.0      3   31.0  0.088235  0.911765    8.823529   91.176471        24   \n",
              "9     9.0      2   33.0  0.058824  0.970588    5.882353   97.058824        18   \n",
              "10   10.0      1   34.0  0.029412  1.000000    2.941176  100.000000        10   \n",
              "11    NaN     34    NaN  1.000000       NaN  100.000000         NaN       180   \n",
              "\n",
              "    $x^2_if_i$  \n",
              "0            0  \n",
              "1            2  \n",
              "2           12  \n",
              "3           18  \n",
              "4           48  \n",
              "5          150  \n",
              "6          180  \n",
              "7          294  \n",
              "8          192  \n",
              "9          162  \n",
              "10         100  \n",
              "11        1158  "
            ]
          },
          "metadata": {},
          "output_type": "display_data"
        },
        {
          "data": {
            "text/plain": [
              "'$\\\\begin{tabular}{rrrrrrrrr}\\n\\\\hline\\n   $x_i$ &   $f_i$ &   $F_i$ &     $h_i$ &       $H_i$ &      \\\\%_i &     \\\\%A_i &   $x_if_i$ &   $x^2_if_i$ \\\\\\\\\\n\\\\hline\\n       0 &       1 &       1 & 0.0294118 &   0.0294118 &   2.94118 &   2.94118 &          0 &            0 \\\\\\\\\\n       1 &       2 &       3 & 0.0588235 &   0.0882353 &   5.88235 &   8.82353 &          2 &            2 \\\\\\\\\\n       2 &       3 &       6 & 0.0882353 &   0.176471  &   8.82353 &  17.6471  &          6 &           12 \\\\\\\\\\n       3 &       2 &       8 & 0.0588235 &   0.235294  &   5.88235 &  23.5294  &          6 &           18 \\\\\\\\\\n       4 &       3 &      11 & 0.0882353 &   0.323529  &   8.82353 &  32.3529  &         12 &           48 \\\\\\\\\\n       5 &       6 &      17 & 0.176471  &   0.5       &  17.6471  &  50       &         30 &          150 \\\\\\\\\\n       6 &       5 &      22 & 0.147059  &   0.647059  &  14.7059  &  64.7059  &         30 &          180 \\\\\\\\\\n       7 &       6 &      28 & 0.176471  &   0.823529  &  17.6471  &  82.3529  &         42 &          294 \\\\\\\\\\n       8 &       3 &      31 & 0.0882353 &   0.911765  &   8.82353 &  91.1765  &         24 &          192 \\\\\\\\\\n       9 &       2 &      33 & 0.0588235 &   0.970588  &   5.88235 &  97.0588  &         18 &          162 \\\\\\\\\\n      10 &       1 &      34 & 0.0294118 &   1         &   2.94118 & 100       &         10 &          100 \\\\\\\\\\n     nan &      34 &     nan & 1         & nan         & 100       & nan       &        180 &         1158 \\\\\\\\\\n\\\\hline\\n\\\\end{tabular}$\\\\\\\\ \\\\includegraphics[width=1\\\\columnwidth]{diagrama_prueba0} \\\\\\\\ $\\\\left\\\\{ Me : 5.5, \\\\  Mo : \\\\left( [5], \\\\  [6]\\\\right), \\\\  media : 5.29\\\\right\\\\}$ \\\\\\\\$\\\\left\\\\{ D4 : 5.0, \\\\  P70 : 7.0, \\\\  Q1 : 4.0, \\\\  Q3 : 7.0\\\\right\\\\}$ \\\\\\\\$\\\\left\\\\{ C.V : 0.46, \\\\  desv.tip : 2.46, \\\\  rango : 10, \\\\  var : 6.03\\\\right\\\\}$\\\\\\\\ \\\\includegraphics[width=1\\\\columnwidth]{caja_prueba0}'"
            ]
          },
          "metadata": {},
          "output_type": "display_data"
        },
        {
          "data": {
            "text/markdown": [
              "#### Ejercicio:"
            ],
            "text/plain": [
              "<IPython.core.display.Markdown object>"
            ]
          },
          "metadata": {},
          "output_type": "display_data"
        },
        {
          "data": {
            "text/markdown": [
              "Las calificaciones de un grupo de 34 alumnos han sido: 9 6 5 0 1 5 7 9 10 7 5 1 2 5 7 6 3 4 6 8 8 6 4 4 6 5 3 5 7 7 8 7 2 2. \\begin{itemize} \\item Realiza una tabla de frecuencias \\item Realiza un diagrama de barras \\item Calcular los parámetros de centralización \\item Calcular los parámetros de posición P70, Q1, Q3, D4 \\item Calcular los parámetros de dispersión \\item Realiza un diagrama de caja. \\end{itemize} $\\to$ $\\begin{tabular}{rrrrrrrrr}\n",
              "\\hline\n",
              "   $x_i$ &   $f_i$ &   $F_i$ &     $h_i$ &       $H_i$ &      \\%_i &     \\%A_i &   $x_if_i$ &   $x^2_if_i$ \\\\\n",
              "\\hline\n",
              "       0 &       1 &       1 & 0.0294118 &   0.0294118 &   2.94118 &   2.94118 &          0 &            0 \\\\\n",
              "       1 &       2 &       3 & 0.0588235 &   0.0882353 &   5.88235 &   8.82353 &          2 &            2 \\\\\n",
              "       2 &       3 &       6 & 0.0882353 &   0.176471  &   8.82353 &  17.6471  &          6 &           12 \\\\\n",
              "       3 &       2 &       8 & 0.0588235 &   0.235294  &   5.88235 &  23.5294  &          6 &           18 \\\\\n",
              "       4 &       3 &      11 & 0.0882353 &   0.323529  &   8.82353 &  32.3529  &         12 &           48 \\\\\n",
              "       5 &       6 &      17 & 0.176471  &   0.5       &  17.6471  &  50       &         30 &          150 \\\\\n",
              "       6 &       5 &      22 & 0.147059  &   0.647059  &  14.7059  &  64.7059  &         30 &          180 \\\\\n",
              "       7 &       6 &      28 & 0.176471  &   0.823529  &  17.6471  &  82.3529  &         42 &          294 \\\\\n",
              "       8 &       3 &      31 & 0.0882353 &   0.911765  &   8.82353 &  91.1765  &         24 &          192 \\\\\n",
              "       9 &       2 &      33 & 0.0588235 &   0.970588  &   5.88235 &  97.0588  &         18 &          162 \\\\\n",
              "      10 &       1 &      34 & 0.0294118 &   1         &   2.94118 & 100       &         10 &          100 \\\\\n",
              "     nan &      34 &     nan & 1         & nan         & 100       & nan       &        180 &         1158 \\\\\n",
              "\\hline\n",
              "\\end{tabular}$\\\\ \\includegraphics[width=1\\columnwidth]{diagrama_prueba0} \\\\ $\\left\\{ Me : 5.5, \\  Mo : \\left( [5], \\  [6]\\right), \\  media : 5.29\\right\\}$ \\\\$\\left\\{ D4 : 5.0, \\  P70 : 7.0, \\  Q1 : 4.0, \\  Q3 : 7.0\\right\\}$ \\\\$\\left\\{ C.V : 0.46, \\  desv.tip : 2.46, \\  rango : 10, \\  var : 6.03\\right\\}$\\\\ \\includegraphics[width=1\\columnwidth]{caja_prueba0}"
            ],
            "text/plain": [
              "<IPython.core.display.Markdown object>"
            ]
          },
          "metadata": {},
          "output_type": "display_data"
        },
        {
          "name": "stdout",
          "output_type": "stream",
          "text": [
            "enunciado_latex: Las calificaciones de un grupo de 34 alumnos han sido: 9 6 5 0 1 5 7 9 10 7 5 1 2 5 7 6 3 4 6 8 8 6 4 4 6 5 3 5 7 7 8 7 2 2. \\begin{itemize} \\item Realiza una tabla de frecuencias \\item Realiza un diagrama de barras \\item Calcular los parámetros de centralización \\item Calcular los parámetros de posición P70, Q1, Q3, D4 \\item Calcular los parámetros de dispersión \\item Realiza un diagrama de caja. \\end{itemize}\n",
            "solucion_latex: $\\begin{tabular}{rrrrrrrrr}\n",
            "\\hline\n",
            "   $x_i$ &   $f_i$ &   $F_i$ &     $h_i$ &       $H_i$ &      \\%_i &     \\%A_i &   $x_if_i$ &   $x^2_if_i$ \\\\\n",
            "\\hline\n",
            "       0 &       1 &       1 & 0.0294118 &   0.0294118 &   2.94118 &   2.94118 &          0 &            0 \\\\\n",
            "       1 &       2 &       3 & 0.0588235 &   0.0882353 &   5.88235 &   8.82353 &          2 &            2 \\\\\n",
            "       2 &       3 &       6 & 0.0882353 &   0.176471  &   8.82353 &  17.6471  &          6 &           12 \\\\\n",
            "       3 &       2 &       8 & 0.0588235 &   0.235294  &   5.88235 &  23.5294  &          6 &           18 \\\\\n",
            "       4 &       3 &      11 & 0.0882353 &   0.323529  &   8.82353 &  32.3529  &         12 &           48 \\\\\n",
            "       5 &       6 &      17 & 0.176471  &   0.5       &  17.6471  &  50       &         30 &          150 \\\\\n",
            "       6 &       5 &      22 & 0.147059  &   0.647059  &  14.7059  &  64.7059  &         30 &          180 \\\\\n",
            "       7 &       6 &      28 & 0.176471  &   0.823529  &  17.6471  &  82.3529  &         42 &          294 \\\\\n",
            "       8 &       3 &      31 & 0.0882353 &   0.911765  &   8.82353 &  91.1765  &         24 &          192 \\\\\n",
            "       9 &       2 &      33 & 0.0588235 &   0.970588  &   5.88235 &  97.0588  &         18 &          162 \\\\\n",
            "      10 &       1 &      34 & 0.0294118 &   1         &   2.94118 & 100       &         10 &          100 \\\\\n",
            "     nan &      34 &     nan & 1         & nan         & 100       & nan       &        180 &         1158 \\\\\n",
            "\\hline\n",
            "\\end{tabular}$\\\\ \\includegraphics[width=1\\columnwidth]{diagrama_prueba0} \\\\ $\\left\\{ Me : 5.5, \\  Mo : \\left( [5], \\  [6]\\right), \\  media : 5.29\\right\\}$ \\\\$\\left\\{ D4 : 5.0, \\  P70 : 7.0, \\  Q1 : 4.0, \\  Q3 : 7.0\\right\\}$ \\\\$\\left\\{ C.V : 0.46, \\  desv.tip : 2.46, \\  rango : 10, \\  var : 6.03\\right\\}$\\\\ \\includegraphics[width=1\\columnwidth]{caja_prueba0}\n"
          ]
        },
        {
          "data": {
            "image/png": "[encoded data removed]",
            "text/plain": [
              "<Figure size 432x288 with 1 Axes>"
            ]
          },
          "metadata": {
            "needs_background": "light"
          },
          "output_type": "display_data"
        },
        {
          "data": {
            "image/png": "[encoded data removed]",
            "text/plain": [
              "<Figure size 432x288 with 1 Axes>"
            ]
          },
          "metadata": {
            "needs_background": "light"
          },
          "output_type": "display_data"
        },
        {
          "data": {
            "text/html": [
              "<div>\n",
              "<style scoped>\n",
              "    .dataframe tbody tr th:only-of-type {\n",
              "        vertical-align: middle;\n",
              "    }\n",
              "\n",
              "    .dataframe tbody tr th {\n",
              "        vertical-align: top;\n",
              "    }\n",
              "\n",
              "    .dataframe thead th {\n",
              "        text-align: right;\n",
              "    }\n",
              "</style>\n",
              "<table border=\"1\" class=\"dataframe\">\n",
              "  <thead>\n",
              "    <tr style=\"text-align: right;\">\n",
              "      <th></th>\n",
              "      <th>$x_i$</th>\n",
              "      <th>$f_i$</th>\n",
              "      <th>$F_i$</th>\n",
              "      <th>$h_i$</th>\n",
              "      <th>$H_i$</th>\n",
              "      <th>\\%_i</th>\n",
              "      <th>\\%A_i</th>\n",
              "      <th>$x_if_i$</th>\n",
              "      <th>$x^2_if_i$</th>\n",
              "    </tr>\n",
              "  </thead>\n",
              "  <tbody>\n",
              "    <tr>\n",
              "      <th>0</th>\n",
              "      <td>0.0</td>\n",
              "      <td>1</td>\n",
              "      <td>1.0</td>\n",
              "      <td>0.033333</td>\n",
              "      <td>0.033333</td>\n",
              "      <td>3.333333</td>\n",
              "      <td>3.333333</td>\n",
              "      <td>0</td>\n",
              "      <td>0</td>\n",
              "    </tr>\n",
              "    <tr>\n",
              "      <th>1</th>\n",
              "      <td>1.0</td>\n",
              "      <td>2</td>\n",
              "      <td>3.0</td>\n",
              "      <td>0.066667</td>\n",
              "      <td>0.100000</td>\n",
              "      <td>6.666667</td>\n",
              "      <td>10.000000</td>\n",
              "      <td>2</td>\n",
              "      <td>2</td>\n",
              "    </tr>\n",
              "    <tr>\n",
              "      <th>2</th>\n",
              "      <td>2.0</td>\n",
              "      <td>3</td>\n",
              "      <td>6.0</td>\n",
              "      <td>0.100000</td>\n",
              "      <td>0.200000</td>\n",
              "      <td>10.000000</td>\n",
              "      <td>20.000000</td>\n",
              "      <td>6</td>\n",
              "      <td>12</td>\n",
              "    </tr>\n",
              "    <tr>\n",
              "      <th>3</th>\n",
              "      <td>3.0</td>\n",
              "      <td>2</td>\n",
              "      <td>8.0</td>\n",
              "      <td>0.066667</td>\n",
              "      <td>0.266667</td>\n",
              "      <td>6.666667</td>\n",
              "      <td>26.666667</td>\n",
              "      <td>6</td>\n",
              "      <td>18</td>\n",
              "    </tr>\n",
              "    <tr>\n",
              "      <th>4</th>\n",
              "      <td>4.0</td>\n",
              "      <td>4</td>\n",
              "      <td>12.0</td>\n",
              "      <td>0.133333</td>\n",
              "      <td>0.400000</td>\n",
              "      <td>13.333333</td>\n",
              "      <td>40.000000</td>\n",
              "      <td>16</td>\n",
              "      <td>64</td>\n",
              "    </tr>\n",
              "    <tr>\n",
              "      <th>5</th>\n",
              "      <td>5.0</td>\n",
              "      <td>3</td>\n",
              "      <td>15.0</td>\n",
              "      <td>0.100000</td>\n",
              "      <td>0.500000</td>\n",
              "      <td>10.000000</td>\n",
              "      <td>50.000000</td>\n",
              "      <td>15</td>\n",
              "      <td>75</td>\n",
              "    </tr>\n",
              "    <tr>\n",
              "      <th>6</th>\n",
              "      <td>6.0</td>\n",
              "      <td>2</td>\n",
              "      <td>17.0</td>\n",
              "      <td>0.066667</td>\n",
              "      <td>0.566667</td>\n",
              "      <td>6.666667</td>\n",
              "      <td>56.666667</td>\n",
              "      <td>12</td>\n",
              "      <td>72</td>\n",
              "    </tr>\n",
              "    <tr>\n",
              "      <th>7</th>\n",
              "      <td>7.0</td>\n",
              "      <td>4</td>\n",
              "      <td>21.0</td>\n",
              "      <td>0.133333</td>\n",
              "      <td>0.700000</td>\n",
              "      <td>13.333333</td>\n",
              "      <td>70.000000</td>\n",
              "      <td>28</td>\n",
              "      <td>196</td>\n",
              "    </tr>\n",
              "    <tr>\n",
              "      <th>8</th>\n",
              "      <td>8.0</td>\n",
              "      <td>4</td>\n",
              "      <td>25.0</td>\n",
              "      <td>0.133333</td>\n",
              "      <td>0.833333</td>\n",
              "      <td>13.333333</td>\n",
              "      <td>83.333333</td>\n",
              "      <td>32</td>\n",
              "      <td>256</td>\n",
              "    </tr>\n",
              "    <tr>\n",
              "      <th>9</th>\n",
              "      <td>9.0</td>\n",
              "      <td>3</td>\n",
              "      <td>28.0</td>\n",
              "      <td>0.100000</td>\n",
              "      <td>0.933333</td>\n",
              "      <td>10.000000</td>\n",
              "      <td>93.333333</td>\n",
              "      <td>27</td>\n",
              "      <td>243</td>\n",
              "    </tr>\n",
              "    <tr>\n",
              "      <th>10</th>\n",
              "      <td>10.0</td>\n",
              "      <td>2</td>\n",
              "      <td>30.0</td>\n",
              "      <td>0.066667</td>\n",
              "      <td>1.000000</td>\n",
              "      <td>6.666667</td>\n",
              "      <td>100.000000</td>\n",
              "      <td>20</td>\n",
              "      <td>200</td>\n",
              "    </tr>\n",
              "    <tr>\n",
              "      <th>11</th>\n",
              "      <td>NaN</td>\n",
              "      <td>30</td>\n",
              "      <td>NaN</td>\n",
              "      <td>1.000000</td>\n",
              "      <td>NaN</td>\n",
              "      <td>100.000000</td>\n",
              "      <td>NaN</td>\n",
              "      <td>164</td>\n",
              "      <td>1138</td>\n",
              "    </tr>\n",
              "  </tbody>\n",
              "</table>\n",
              "</div>"
            ],
            "text/plain": [
              "    $x_i$  $f_i$  $F_i$     $h_i$     $H_i$        \\%_i       \\%A_i  $x_if_i$  \\\n",
              "0     0.0      1    1.0  0.033333  0.033333    3.333333    3.333333         0   \n",
              "1     1.0      2    3.0  0.066667  0.100000    6.666667   10.000000         2   \n",
              "2     2.0      3    6.0  0.100000  0.200000   10.000000   20.000000         6   \n",
              "3     3.0      2    8.0  0.066667  0.266667    6.666667   26.666667         6   \n",
              "4     4.0      4   12.0  0.133333  0.400000   13.333333   40.000000        16   \n",
              "5     5.0      3   15.0  0.100000  0.500000   10.000000   50.000000        15   \n",
              "6     6.0      2   17.0  0.066667  0.566667    6.666667   56.666667        12   \n",
              "7     7.0      4   21.0  0.133333  0.700000   13.333333   70.000000        28   \n",
              "8     8.0      4   25.0  0.133333  0.833333   13.333333   83.333333        32   \n",
              "9     9.0      3   28.0  0.100000  0.933333   10.000000   93.333333        27   \n",
              "10   10.0      2   30.0  0.066667  1.000000    6.666667  100.000000        20   \n",
              "11    NaN     30    NaN  1.000000       NaN  100.000000         NaN       164   \n",
              "\n",
              "    $x^2_if_i$  \n",
              "0            0  \n",
              "1            2  \n",
              "2           12  \n",
              "3           18  \n",
              "4           64  \n",
              "5           75  \n",
              "6           72  \n",
              "7          196  \n",
              "8          256  \n",
              "9          243  \n",
              "10         200  \n",
              "11        1138  "
            ]
          },
          "metadata": {},
          "output_type": "display_data"
        },
        {
          "data": {
            "text/plain": [
              "'$\\\\begin{tabular}{rrrrrrrrr}\\n\\\\hline\\n   $x_i$ &   $f_i$ &   $F_i$ &     $h_i$ &       $H_i$ &      \\\\%_i &     \\\\%A_i &   $x_if_i$ &   $x^2_if_i$ \\\\\\\\\\n\\\\hline\\n       0 &       1 &       1 & 0.0333333 &   0.0333333 &   3.33333 &   3.33333 &          0 &            0 \\\\\\\\\\n       1 &       2 &       3 & 0.0666667 &   0.1       &   6.66667 &  10       &          2 &            2 \\\\\\\\\\n       2 &       3 &       6 & 0.1       &   0.2       &  10       &  20       &          6 &           12 \\\\\\\\\\n       3 &       2 &       8 & 0.0666667 &   0.266667  &   6.66667 &  26.6667  &          6 &           18 \\\\\\\\\\n       4 &       4 &      12 & 0.133333  &   0.4       &  13.3333  &  40       &         16 &           64 \\\\\\\\\\n       5 &       3 &      15 & 0.1       &   0.5       &  10       &  50       &         15 &           75 \\\\\\\\\\n       6 &       2 &      17 & 0.0666667 &   0.566667  &   6.66667 &  56.6667  &         12 &           72 \\\\\\\\\\n       7 &       4 &      21 & 0.133333  &   0.7       &  13.3333  &  70       &         28 &          196 \\\\\\\\\\n       8 &       4 &      25 & 0.133333  &   0.833333  &  13.3333  &  83.3333  &         32 &          256 \\\\\\\\\\n       9 &       3 &      28 & 0.1       &   0.933333  &  10       &  93.3333  &         27 &          243 \\\\\\\\\\n      10 &       2 &      30 & 0.0666667 &   1         &   6.66667 & 100       &         20 &          200 \\\\\\\\\\n     nan &      30 &     nan & 1         & nan         & 100       & nan       &        164 &         1138 \\\\\\\\\\n\\\\hline\\n\\\\end{tabular}$\\\\\\\\ \\\\includegraphics[width=1\\\\columnwidth]{diagrama_prueba1} \\\\\\\\ $\\\\left\\\\{ Me : 5.5, \\\\  Mo : \\\\left( [4], \\\\  [4]\\\\right), \\\\  media : 5.47\\\\right\\\\}$ \\\\\\\\$\\\\left\\\\{ D4 : 4.600000000000001, \\\\  P70 : 7.299999999999997, \\\\  Q1 : 3.25, \\\\  Q3 : 8.0\\\\right\\\\}$ \\\\\\\\$\\\\left\\\\{ C.V : 0.52, \\\\  desv.tip : 2.84, \\\\  rango : 10, \\\\  var : 8.05\\\\right\\\\}$\\\\\\\\ \\\\includegraphics[width=1\\\\columnwidth]{caja_prueba1}'"
            ]
          },
          "metadata": {},
          "output_type": "display_data"
        },
        {
          "data": {
            "text/markdown": [
              "#### Ejercicio:"
            ],
            "text/plain": [
              "<IPython.core.display.Markdown object>"
            ]
          },
          "metadata": {},
          "output_type": "display_data"
        },
        {
          "data": {
            "text/markdown": [
              "Dada la siguiente distribución de datos: 0 1 1 2 2 6 6 7 7 7 2 3 3 4 4 7 8 8 8 8 4 4 5 5 5 9 9 9 10 10. \\begin{itemize} \\item Realiza una tabla de frecuencias \\item Realiza un diagrama de barras \\item Calcular los parámetros de centralización \\item Calcular los parámetros de posición P70, Q1, Q3, D4 \\item Calcular los parámetros de dispersión \\item Realiza un diagrama de caja. \\end{itemize} $\\to$ $\\begin{tabular}{rrrrrrrrr}\n",
              "\\hline\n",
              "   $x_i$ &   $f_i$ &   $F_i$ &     $h_i$ &       $H_i$ &      \\%_i &     \\%A_i &   $x_if_i$ &   $x^2_if_i$ \\\\\n",
              "\\hline\n",
              "       0 &       1 &       1 & 0.0333333 &   0.0333333 &   3.33333 &   3.33333 &          0 &            0 \\\\\n",
              "       1 &       2 &       3 & 0.0666667 &   0.1       &   6.66667 &  10       &          2 &            2 \\\\\n",
              "       2 &       3 &       6 & 0.1       &   0.2       &  10       &  20       &          6 &           12 \\\\\n",
              "       3 &       2 &       8 & 0.0666667 &   0.266667  &   6.66667 &  26.6667  &          6 &           18 \\\\\n",
              "       4 &       4 &      12 & 0.133333  &   0.4       &  13.3333  &  40       &         16 &           64 \\\\\n",
              "       5 &       3 &      15 & 0.1       &   0.5       &  10       &  50       &         15 &           75 \\\\\n",
              "       6 &       2 &      17 & 0.0666667 &   0.566667  &   6.66667 &  56.6667  &         12 &           72 \\\\\n",
              "       7 &       4 &      21 & 0.133333  &   0.7       &  13.3333  &  70       &         28 &          196 \\\\\n",
              "       8 &       4 &      25 & 0.133333  &   0.833333  &  13.3333  &  83.3333  &         32 &          256 \\\\\n",
              "       9 &       3 &      28 & 0.1       &   0.933333  &  10       &  93.3333  &         27 &          243 \\\\\n",
              "      10 &       2 &      30 & 0.0666667 &   1         &   6.66667 & 100       &         20 &          200 \\\\\n",
              "     nan &      30 &     nan & 1         & nan         & 100       & nan       &        164 &         1138 \\\\\n",
              "\\hline\n",
              "\\end{tabular}$\\\\ \\includegraphics[width=1\\columnwidth]{diagrama_prueba1} \\\\ $\\left\\{ Me : 5.5, \\  Mo : \\left( [4], \\  [4]\\right), \\  media : 5.47\\right\\}$ \\\\$\\left\\{ D4 : 4.600000000000001, \\  P70 : 7.299999999999997, \\  Q1 : 3.25, \\  Q3 : 8.0\\right\\}$ \\\\$\\left\\{ C.V : 0.52, \\  desv.tip : 2.84, \\  rango : 10, \\  var : 8.05\\right\\}$\\\\ \\includegraphics[width=1\\columnwidth]{caja_prueba1}"
            ],
            "text/plain": [
              "<IPython.core.display.Markdown object>"
            ]
          },
          "metadata": {},
          "output_type": "display_data"
        },
        {
          "name": "stdout",
          "output_type": "stream",
          "text": [
            "enunciado_latex: Dada la siguiente distribución de datos: 0 1 1 2 2 6 6 7 7 7 2 3 3 4 4 7 8 8 8 8 4 4 5 5 5 9 9 9 10 10. \\begin{itemize} \\item Realiza una tabla de frecuencias \\item Realiza un diagrama de barras \\item Calcular los parámetros de centralización \\item Calcular los parámetros de posición P70, Q1, Q3, D4 \\item Calcular los parámetros de dispersión \\item Realiza un diagrama de caja. \\end{itemize}\n",
            "solucion_latex: $\\begin{tabular}{rrrrrrrrr}\n",
            "\\hline\n",
            "   $x_i$ &   $f_i$ &   $F_i$ &     $h_i$ &       $H_i$ &      \\%_i &     \\%A_i &   $x_if_i$ &   $x^2_if_i$ \\\\\n",
            "\\hline\n",
            "       0 &       1 &       1 & 0.0333333 &   0.0333333 &   3.33333 &   3.33333 &          0 &            0 \\\\\n",
            "       1 &       2 &       3 & 0.0666667 &   0.1       &   6.66667 &  10       &          2 &            2 \\\\\n",
            "       2 &       3 &       6 & 0.1       &   0.2       &  10       &  20       &          6 &           12 \\\\\n",
            "       3 &       2 &       8 & 0.0666667 &   0.266667  &   6.66667 &  26.6667  &          6 &           18 \\\\\n",
            "       4 &       4 &      12 & 0.133333  &   0.4       &  13.3333  &  40       &         16 &           64 \\\\\n",
            "       5 &       3 &      15 & 0.1       &   0.5       &  10       &  50       &         15 &           75 \\\\\n",
            "       6 &       2 &      17 & 0.0666667 &   0.566667  &   6.66667 &  56.6667  &         12 &           72 \\\\\n",
            "       7 &       4 &      21 & 0.133333  &   0.7       &  13.3333  &  70       &         28 &          196 \\\\\n",
            "       8 &       4 &      25 & 0.133333  &   0.833333  &  13.3333  &  83.3333  &         32 &          256 \\\\\n",
            "       9 &       3 &      28 & 0.1       &   0.933333  &  10       &  93.3333  &         27 &          243 \\\\\n",
            "      10 &       2 &      30 & 0.0666667 &   1         &   6.66667 & 100       &         20 &          200 \\\\\n",
            "     nan &      30 &     nan & 1         & nan         & 100       & nan       &        164 &         1138 \\\\\n",
            "\\hline\n",
            "\\end{tabular}$\\\\ \\includegraphics[width=1\\columnwidth]{diagrama_prueba1} \\\\ $\\left\\{ Me : 5.5, \\  Mo : \\left( [4], \\  [4]\\right), \\  media : 5.47\\right\\}$ \\\\$\\left\\{ D4 : 4.600000000000001, \\  P70 : 7.299999999999997, \\  Q1 : 3.25, \\  Q3 : 8.0\\right\\}$ \\\\$\\left\\{ C.V : 0.52, \\  desv.tip : 2.84, \\  rango : 10, \\  var : 8.05\\right\\}$\\\\ \\includegraphics[width=1\\columnwidth]{caja_prueba1}\n",
            "\\question Responde a las siguientes cuestiones:\\begin{parts} \\part[1] Las calificaciones de un grupo de 34 alumnos han sido: 9 6 5 0 1 5 7 9 10 7 5 1 2 5 7 6 3 4 6 8 8 6 4 4 6 5 3 5 7 7 8 7 2 2. \\begin{itemize} \\item Realiza una tabla de frecuencias \\item Realiza un diagrama de barras \\item Calcular los parámetros de centralización \\item Calcular los parámetros de posición P70, Q1, Q3, D4 \\item Calcular los parámetros de dispersión \\item Realiza un diagrama de caja. \\end{itemize}\\begin{solution} $\\begin{tabular}{rrrrrrrrr}\n",
            "\\hline\n",
            "   $x_i$ &   $f_i$ &   $F_i$ &     $h_i$ &       $H_i$ &      \\%_i &     \\%A_i &   $x_if_i$ &   $x^2_if_i$ \\\\\n",
            "\\hline\n",
            "       0 &       1 &       1 & 0.0294118 &   0.0294118 &   2.94118 &   2.94118 &          0 &            0 \\\\\n",
            "       1 &       2 &       3 & 0.0588235 &   0.0882353 &   5.88235 &   8.82353 &          2 &            2 \\\\\n",
            "       2 &       3 &       6 & 0.0882353 &   0.176471  &   8.82353 &  17.6471  &          6 &           12 \\\\\n",
            "       3 &       2 &       8 & 0.0588235 &   0.235294  &   5.88235 &  23.5294  &          6 &           18 \\\\\n",
            "       4 &       3 &      11 & 0.0882353 &   0.323529  &   8.82353 &  32.3529  &         12 &           48 \\\\\n",
            "       5 &       6 &      17 & 0.176471  &   0.5       &  17.6471  &  50       &         30 &          150 \\\\\n",
            "       6 &       5 &      22 & 0.147059  &   0.647059  &  14.7059  &  64.7059  &         30 &          180 \\\\\n",
            "       7 &       6 &      28 & 0.176471  &   0.823529  &  17.6471  &  82.3529  &         42 &          294 \\\\\n",
            "       8 &       3 &      31 & 0.0882353 &   0.911765  &   8.82353 &  91.1765  &         24 &          192 \\\\\n",
            "       9 &       2 &      33 & 0.0588235 &   0.970588  &   5.88235 &  97.0588  &         18 &          162 \\\\\n",
            "      10 &       1 &      34 & 0.0294118 &   1         &   2.94118 & 100       &         10 &          100 \\\\\n",
            "     nan &      34 &     nan & 1         & nan         & 100       & nan       &        180 &         1158 \\\\\n",
            "\\hline\n",
            "\\end{tabular}$\\\\ \\includegraphics[width=1\\columnwidth]{diagrama_prueba0} \\\\ $\\left\\{ Me : 5.5, \\  Mo : \\left( [5], \\  [6]\\right), \\  media : 5.29\\right\\}$ \\\\$\\left\\{ D4 : 5.0, \\  P70 : 7.0, \\  Q1 : 4.0, \\  Q3 : 7.0\\right\\}$ \\\\$\\left\\{ C.V : 0.46, \\  desv.tip : 2.46, \\  rango : 10, \\  var : 6.03\\right\\}$\\\\ \\includegraphics[width=1\\columnwidth]{caja_prueba0}\\end{solution} \\part[1] Dada la siguiente distribución de datos: 0 1 1 2 2 6 6 7 7 7 2 3 3 4 4 7 8 8 8 8 4 4 5 5 5 9 9 9 10 10. \\begin{itemize} \\item Realiza una tabla de frecuencias \\item Realiza un diagrama de barras \\item Calcular los parámetros de centralización \\item Calcular los parámetros de posición P70, Q1, Q3, D4 \\item Calcular los parámetros de dispersión \\item Realiza un diagrama de caja. \\end{itemize}\\begin{solution} $\\begin{tabular}{rrrrrrrrr}\n",
            "\\hline\n",
            "   $x_i$ &   $f_i$ &   $F_i$ &     $h_i$ &       $H_i$ &      \\%_i &     \\%A_i &   $x_if_i$ &   $x^2_if_i$ \\\\\n",
            "\\hline\n",
            "       0 &       1 &       1 & 0.0333333 &   0.0333333 &   3.33333 &   3.33333 &          0 &            0 \\\\\n",
            "       1 &       2 &       3 & 0.0666667 &   0.1       &   6.66667 &  10       &          2 &            2 \\\\\n",
            "       2 &       3 &       6 & 0.1       &   0.2       &  10       &  20       &          6 &           12 \\\\\n",
            "       3 &       2 &       8 & 0.0666667 &   0.266667  &   6.66667 &  26.6667  &          6 &           18 \\\\\n",
            "       4 &       4 &      12 & 0.133333  &   0.4       &  13.3333  &  40       &         16 &           64 \\\\\n",
            "       5 &       3 &      15 & 0.1       &   0.5       &  10       &  50       &         15 &           75 \\\\\n",
            "       6 &       2 &      17 & 0.0666667 &   0.566667  &   6.66667 &  56.6667  &         12 &           72 \\\\\n",
            "       7 &       4 &      21 & 0.133333  &   0.7       &  13.3333  &  70       &         28 &          196 \\\\\n",
            "       8 &       4 &      25 & 0.133333  &   0.833333  &  13.3333  &  83.3333  &         32 &          256 \\\\\n",
            "       9 &       3 &      28 & 0.1       &   0.933333  &  10       &  93.3333  &         27 &          243 \\\\\n",
            "      10 &       2 &      30 & 0.0666667 &   1         &   6.66667 & 100       &         20 &          200 \\\\\n",
            "     nan &      30 &     nan & 1         & nan         & 100       & nan       &        164 &         1138 \\\\\n",
            "\\hline\n",
            "\\end{tabular}$\\\\ \\includegraphics[width=1\\columnwidth]{diagrama_prueba1} \\\\ $\\left\\{ Me : 5.5, \\  Mo : \\left( [4], \\  [4]\\right), \\  media : 5.47\\right\\}$ \\\\$\\left\\{ D4 : 4.600000000000001, \\  P70 : 7.299999999999997, \\  Q1 : 3.25, \\  Q3 : 8.0\\right\\}$ \\\\$\\left\\{ C.V : 0.52, \\  desv.tip : 2.84, \\  rango : 10, \\  var : 8.05\\right\\}$\\\\ \\includegraphics[width=1\\columnwidth]{caja_prueba1}\\end{solution} \\end{parts} \n"
          ]
        }
      ]
    },
    {
      "cell_type": "code",
      "metadata": {
        "id": "ksYGoN8j8Yl0"
      },
      "source": [
        "tabulate?"
      ],
      "execution_count": null,
      "outputs": []
    },
    {
      "cell_type": "code",
      "metadata": {
        "id": "89H2tyu6hSHC",
        "outputId": "6eb5dc0c-d38a-440f-9e7d-47962779c649"
      },
      "source": [
        "lista_problemas = [\n",
        "                  ['p089e01','Las calificaciones de un grupo de 34 alumnos han sido: ',r\"9 6 5 0 1 5 7 9 10 7 5 1 2 5 7 6 3 4 6 8 8 6 4 4 6 5 3 5 7 7 8 7 2 2\"],\n",
        "                  ['p089e03','Estos datos reflejan el tiempo, en minutos, que tardan en llegar a su centro escolar varios alumnos. ',r\"10 15 11 11 14 14 11 14 17 11 17 15 10 16 12 12 13 16 13 16 18 12 18 16\"],\n",
        "                  ['p089e04','La altura en cm de 30 alumnos de un curso son:',r\"\"\"174 157 168 166 169 168 173 184 176 171 172 168 \n",
        "                  167 162 162 163 166 166 167 167 \n",
        "                  174 159 170 172 173 164 161 163 176 177\"\"\"],\n",
        "                  ['p089e02', \"\"\"En un grupo de personas de 1º de Bachillerato hemos preguntado por el número medio de días que\n",
        "                    practican deporte al mes. Las respuestas han sido las siguientes:\"\"\",\n",
        "                  \"\"\"16 11 17 12 10 5 1 8 10 14 15 20 10 3 8 10 2 5 12 6 16 7 6 16 10 3 3 9 4 12\"\"\"],\n",
        "                  ['autoevaluacion1',\"\"\"Se realiza una encuesta a un grupo de 20 personas acerca del número \n",
        "                  de veces que acuden al cine a lo largo de un año, obteniéndose los siguientes resultados:\"\"\",\n",
        "                  r\"\"\"4 2 6 8 3 4 3 5 7 1 3 4 5 7 2 2 1 3 4 5\"\"\"]  \n",
        "                                    ]\n",
        "for i,p in enumerate(lista_problemas):\n",
        "    texto_ejercicio, enunciado_latex, enunciado, solucion, tabla, n_ejercicio = analisis_discreto(texto_ejercicio=p[1], datos=texto_a_datos(p[2]), n_ejercicio=str(i))\n",
        "    mostrar_ejercicio(enunciado,solucion)\n",
        "\n",
        "\n"
      ],
      "execution_count": null,
      "outputs": [
        {
          "data": {
            "image/png": "[encoded data removed]",
            "text/plain": [
              "<Figure size 432x288 with 1 Axes>"
            ]
          },
          "metadata": {
            "needs_background": "light",
            "tags": []
          },
          "output_type": "display_data"
        },
        {
          "data": {
            "image/png": "[encoded data removed]",
            "text/plain": [
              "<Figure size 432x288 with 1 Axes>"
            ]
          },
          "metadata": {
            "needs_background": "light",
            "tags": []
          },
          "output_type": "display_data"
        },
        {
          "data": {
            "text/html": [
              "<div>\n",
              "<style scoped>\n",
              "    .dataframe tbody tr th:only-of-type {\n",
              "        vertical-align: middle;\n",
              "    }\n",
              "\n",
              "    .dataframe tbody tr th {\n",
              "        vertical-align: top;\n",
              "    }\n",
              "\n",
              "    .dataframe thead th {\n",
              "        text-align: right;\n",
              "    }\n",
              "</style>\n",
              "<table border=\"1\" class=\"dataframe\">\n",
              "  <thead>\n",
              "    <tr style=\"text-align: right;\">\n",
              "      <th></th>\n",
              "      <th>x_i</th>\n",
              "      <th>f_i</th>\n",
              "      <th>F_i</th>\n",
              "      <th>h_i</th>\n",
              "      <th>H_i</th>\n",
              "      <th>%_i</th>\n",
              "      <th>%A_i</th>\n",
              "      <th>x_if_i</th>\n",
              "      <th>x^2_if_i</th>\n",
              "    </tr>\n",
              "  </thead>\n",
              "  <tbody>\n",
              "    <tr>\n",
              "      <th>0</th>\n",
              "      <td>0.0</td>\n",
              "      <td>1</td>\n",
              "      <td>1.0</td>\n",
              "      <td>0.029412</td>\n",
              "      <td>0.029412</td>\n",
              "      <td>2.941176</td>\n",
              "      <td>2.941176</td>\n",
              "      <td>0</td>\n",
              "      <td>0</td>\n",
              "    </tr>\n",
              "    <tr>\n",
              "      <th>1</th>\n",
              "      <td>1.0</td>\n",
              "      <td>2</td>\n",
              "      <td>3.0</td>\n",
              "      <td>0.058824</td>\n",
              "      <td>0.088235</td>\n",
              "      <td>5.882353</td>\n",
              "      <td>8.823529</td>\n",
              "      <td>2</td>\n",
              "      <td>2</td>\n",
              "    </tr>\n",
              "    <tr>\n",
              "      <th>2</th>\n",
              "      <td>2.0</td>\n",
              "      <td>3</td>\n",
              "      <td>6.0</td>\n",
              "      <td>0.088235</td>\n",
              "      <td>0.176471</td>\n",
              "      <td>8.823529</td>\n",
              "      <td>17.647059</td>\n",
              "      <td>6</td>\n",
              "      <td>12</td>\n",
              "    </tr>\n",
              "    <tr>\n",
              "      <th>3</th>\n",
              "      <td>3.0</td>\n",
              "      <td>2</td>\n",
              "      <td>8.0</td>\n",
              "      <td>0.058824</td>\n",
              "      <td>0.235294</td>\n",
              "      <td>5.882353</td>\n",
              "      <td>23.529412</td>\n",
              "      <td>6</td>\n",
              "      <td>18</td>\n",
              "    </tr>\n",
              "    <tr>\n",
              "      <th>4</th>\n",
              "      <td>4.0</td>\n",
              "      <td>3</td>\n",
              "      <td>11.0</td>\n",
              "      <td>0.088235</td>\n",
              "      <td>0.323529</td>\n",
              "      <td>8.823529</td>\n",
              "      <td>32.352941</td>\n",
              "      <td>12</td>\n",
              "      <td>48</td>\n",
              "    </tr>\n",
              "    <tr>\n",
              "      <th>5</th>\n",
              "      <td>5.0</td>\n",
              "      <td>6</td>\n",
              "      <td>17.0</td>\n",
              "      <td>0.176471</td>\n",
              "      <td>0.500000</td>\n",
              "      <td>17.647059</td>\n",
              "      <td>50.000000</td>\n",
              "      <td>30</td>\n",
              "      <td>150</td>\n",
              "    </tr>\n",
              "    <tr>\n",
              "      <th>6</th>\n",
              "      <td>6.0</td>\n",
              "      <td>5</td>\n",
              "      <td>22.0</td>\n",
              "      <td>0.147059</td>\n",
              "      <td>0.647059</td>\n",
              "      <td>14.705882</td>\n",
              "      <td>64.705882</td>\n",
              "      <td>30</td>\n",
              "      <td>180</td>\n",
              "    </tr>\n",
              "    <tr>\n",
              "      <th>7</th>\n",
              "      <td>7.0</td>\n",
              "      <td>6</td>\n",
              "      <td>28.0</td>\n",
              "      <td>0.176471</td>\n",
              "      <td>0.823529</td>\n",
              "      <td>17.647059</td>\n",
              "      <td>82.352941</td>\n",
              "      <td>42</td>\n",
              "      <td>294</td>\n",
              "    </tr>\n",
              "    <tr>\n",
              "      <th>8</th>\n",
              "      <td>8.0</td>\n",
              "      <td>3</td>\n",
              "      <td>31.0</td>\n",
              "      <td>0.088235</td>\n",
              "      <td>0.911765</td>\n",
              "      <td>8.823529</td>\n",
              "      <td>91.176471</td>\n",
              "      <td>24</td>\n",
              "      <td>192</td>\n",
              "    </tr>\n",
              "    <tr>\n",
              "      <th>9</th>\n",
              "      <td>9.0</td>\n",
              "      <td>2</td>\n",
              "      <td>33.0</td>\n",
              "      <td>0.058824</td>\n",
              "      <td>0.970588</td>\n",
              "      <td>5.882353</td>\n",
              "      <td>97.058824</td>\n",
              "      <td>18</td>\n",
              "      <td>162</td>\n",
              "    </tr>\n",
              "    <tr>\n",
              "      <th>10</th>\n",
              "      <td>10.0</td>\n",
              "      <td>1</td>\n",
              "      <td>34.0</td>\n",
              "      <td>0.029412</td>\n",
              "      <td>1.000000</td>\n",
              "      <td>2.941176</td>\n",
              "      <td>100.000000</td>\n",
              "      <td>10</td>\n",
              "      <td>100</td>\n",
              "    </tr>\n",
              "    <tr>\n",
              "      <th>11</th>\n",
              "      <td>NaN</td>\n",
              "      <td>34</td>\n",
              "      <td>NaN</td>\n",
              "      <td>1.000000</td>\n",
              "      <td>NaN</td>\n",
              "      <td>100.000000</td>\n",
              "      <td>NaN</td>\n",
              "      <td>180</td>\n",
              "      <td>1158</td>\n",
              "    </tr>\n",
              "  </tbody>\n",
              "</table>\n",
              "</div>"
            ],
            "text/plain": [
              "     x_i  f_i   F_i       h_i       H_i         %_i        %A_i  x_if_i  \\\n",
              "0    0.0    1   1.0  0.029412  0.029412    2.941176    2.941176       0   \n",
              "1    1.0    2   3.0  0.058824  0.088235    5.882353    8.823529       2   \n",
              "2    2.0    3   6.0  0.088235  0.176471    8.823529   17.647059       6   \n",
              "3    3.0    2   8.0  0.058824  0.235294    5.882353   23.529412       6   \n",
              "4    4.0    3  11.0  0.088235  0.323529    8.823529   32.352941      12   \n",
              "5    5.0    6  17.0  0.176471  0.500000   17.647059   50.000000      30   \n",
              "6    6.0    5  22.0  0.147059  0.647059   14.705882   64.705882      30   \n",
              "7    7.0    6  28.0  0.176471  0.823529   17.647059   82.352941      42   \n",
              "8    8.0    3  31.0  0.088235  0.911765    8.823529   91.176471      24   \n",
              "9    9.0    2  33.0  0.058824  0.970588    5.882353   97.058824      18   \n",
              "10  10.0    1  34.0  0.029412  1.000000    2.941176  100.000000      10   \n",
              "11   NaN   34   NaN  1.000000       NaN  100.000000         NaN     180   \n",
              "\n",
              "    x^2_if_i  \n",
              "0          0  \n",
              "1          2  \n",
              "2         12  \n",
              "3         18  \n",
              "4         48  \n",
              "5        150  \n",
              "6        180  \n",
              "7        294  \n",
              "8        192  \n",
              "9        162  \n",
              "10       100  \n",
              "11      1158  "
            ]
          },
          "metadata": {
            "tags": []
          },
          "output_type": "display_data"
        },
        {
          "data": {
            "text/plain": [
              "'$\\\\begin{tabular}{rrrrrrrrr}\\n\\\\hline\\n   x\\\\_i &   f\\\\_i &   F\\\\_i &       h\\\\_i &         H\\\\_i &       \\\\%\\\\_i &      \\\\%A\\\\_i &   x\\\\_if\\\\_i &   x\\\\^{}2\\\\_if\\\\_i \\\\\\\\\\n\\\\hline\\n     0 &     1 &     1 & 0.0294118 &   0.0294118 &   2.94118 &   2.94118 &        0 &          0 \\\\\\\\\\n     1 &     2 &     3 & 0.0588235 &   0.0882353 &   5.88235 &   8.82353 &        2 &          2 \\\\\\\\\\n     2 &     3 &     6 & 0.0882353 &   0.176471  &   8.82353 &  17.6471  &        6 &         12 \\\\\\\\\\n     3 &     2 &     8 & 0.0588235 &   0.235294  &   5.88235 &  23.5294  &        6 &         18 \\\\\\\\\\n     4 &     3 &    11 & 0.0882353 &   0.323529  &   8.82353 &  32.3529  &       12 &         48 \\\\\\\\\\n     5 &     6 &    17 & 0.176471  &   0.5       &  17.6471  &  50       &       30 &        150 \\\\\\\\\\n     6 &     5 &    22 & 0.147059  &   0.647059  &  14.7059  &  64.7059  &       30 &        180 \\\\\\\\\\n     7 &     6 &    28 & 0.176471  &   0.823529  &  17.6471  &  82.3529  &       42 &        294 \\\\\\\\\\n     8 &     3 &    31 & 0.0882353 &   0.911765  &   8.82353 &  91.1765  &       24 &        192 \\\\\\\\\\n     9 &     2 &    33 & 0.0588235 &   0.970588  &   5.88235 &  97.0588  &       18 &        162 \\\\\\\\\\n    10 &     1 &    34 & 0.0294118 &   1         &   2.94118 & 100       &       10 &        100 \\\\\\\\\\n   nan &    34 &   nan & 1         & nan         & 100       & nan       &      180 &       1158 \\\\\\\\\\n\\\\hline\\n\\\\end{tabular}$\\\\\\\\ \\\\includegraphics[width=1\\\\columnwidth]{diagrama0} \\\\\\\\ $\\\\left\\\\{ Me : 5.5, \\\\  Mo : \\\\left( [5], \\\\  [6]\\\\right), \\\\  media : 5.29\\\\right\\\\}$ \\\\\\\\$\\\\left\\\\{ D4 : 5.0, \\\\  P70 : 7.0, \\\\  Q1 : 4.0, \\\\  Q3 : 7.0\\\\right\\\\}$ \\\\\\\\$\\\\left\\\\{ C.V : 0.46, \\\\  desv.tip : 2.46, \\\\  rango : 10, \\\\  var : 6.03\\\\right\\\\}$'"
            ]
          },
          "metadata": {
            "tags": []
          },
          "output_type": "display_data"
        },
        {
          "data": {
            "text/markdown": [
              "#### Ejercicio:"
            ],
            "text/plain": [
              "<IPython.core.display.Markdown object>"
            ]
          },
          "metadata": {
            "tags": []
          },
          "output_type": "display_data"
        },
        {
          "data": {
            "text/markdown": [
              "Las calificaciones de un grupo de 34 alumnos han sido: 9 6 5 0 1 5 7 9 10 7 5 1 2 5 7 6 3 4 6 8 8 6 4 4 6 5 3 5 7 7 8 7 2 2. Realiza una tabla de frecuencias. Realiza un diagrama de barras. Calcular los parámetros de centralización. Calcular los parámetros de posición P70, Q1, Q3, D4. Calcular los parámetros de dispersión $\\to$ $\\begin{tabular}{rrrrrrrrr}\n",
              "\\hline\n",
              "   x\\_i &   f\\_i &   F\\_i &       h\\_i &         H\\_i &       \\%\\_i &      \\%A\\_i &   x\\_if\\_i &   x\\^{}2\\_if\\_i \\\\\n",
              "\\hline\n",
              "     0 &     1 &     1 & 0.0294118 &   0.0294118 &   2.94118 &   2.94118 &        0 &          0 \\\\\n",
              "     1 &     2 &     3 & 0.0588235 &   0.0882353 &   5.88235 &   8.82353 &        2 &          2 \\\\\n",
              "     2 &     3 &     6 & 0.0882353 &   0.176471  &   8.82353 &  17.6471  &        6 &         12 \\\\\n",
              "     3 &     2 &     8 & 0.0588235 &   0.235294  &   5.88235 &  23.5294  &        6 &         18 \\\\\n",
              "     4 &     3 &    11 & 0.0882353 &   0.323529  &   8.82353 &  32.3529  &       12 &         48 \\\\\n",
              "     5 &     6 &    17 & 0.176471  &   0.5       &  17.6471  &  50       &       30 &        150 \\\\\n",
              "     6 &     5 &    22 & 0.147059  &   0.647059  &  14.7059  &  64.7059  &       30 &        180 \\\\\n",
              "     7 &     6 &    28 & 0.176471  &   0.823529  &  17.6471  &  82.3529  &       42 &        294 \\\\\n",
              "     8 &     3 &    31 & 0.0882353 &   0.911765  &   8.82353 &  91.1765  &       24 &        192 \\\\\n",
              "     9 &     2 &    33 & 0.0588235 &   0.970588  &   5.88235 &  97.0588  &       18 &        162 \\\\\n",
              "    10 &     1 &    34 & 0.0294118 &   1         &   2.94118 & 100       &       10 &        100 \\\\\n",
              "   nan &    34 &   nan & 1         & nan         & 100       & nan       &      180 &       1158 \\\\\n",
              "\\hline\n",
              "\\end{tabular}$\\\\ \\includegraphics[width=1\\columnwidth]{diagrama0} \\\\ $\\left\\{ Me : 5.5, \\  Mo : \\left( [5], \\  [6]\\right), \\  media : 5.29\\right\\}$ \\\\$\\left\\{ D4 : 5.0, \\  P70 : 7.0, \\  Q1 : 4.0, \\  Q3 : 7.0\\right\\}$ \\\\$\\left\\{ C.V : 0.46, \\  desv.tip : 2.46, \\  rango : 10, \\  var : 6.03\\right\\}$"
            ],
            "text/plain": [
              "<IPython.core.display.Markdown object>"
            ]
          },
          "metadata": {
            "tags": []
          },
          "output_type": "display_data"
        },
        {
          "name": "stdout",
          "output_type": "stream",
          "text": [
            "enunciado_latex: Las calificaciones de un grupo de 34 alumnos han sido: 9 6 5 0 1 5 7 9 10 7 5 1 2 5 7 6 3 4 6 8 8 6 4 4 6 5 3 5 7 7 8 7 2 2. Realiza una tabla de frecuencias. Realiza un diagrama de barras. Calcular los parámetros de centralización. Calcular los parámetros de posición P70, Q1, Q3, D4. Calcular los parámetros de dispersión\n",
            "solucion_latex: $\\begin{tabular}{rrrrrrrrr}\n",
            "\\hline\n",
            "   x\\_i &   f\\_i &   F\\_i &       h\\_i &         H\\_i &       \\%\\_i &      \\%A\\_i &   x\\_if\\_i &   x\\^{}2\\_if\\_i \\\\\n",
            "\\hline\n",
            "     0 &     1 &     1 & 0.0294118 &   0.0294118 &   2.94118 &   2.94118 &        0 &          0 \\\\\n",
            "     1 &     2 &     3 & 0.0588235 &   0.0882353 &   5.88235 &   8.82353 &        2 &          2 \\\\\n",
            "     2 &     3 &     6 & 0.0882353 &   0.176471  &   8.82353 &  17.6471  &        6 &         12 \\\\\n",
            "     3 &     2 &     8 & 0.0588235 &   0.235294  &   5.88235 &  23.5294  &        6 &         18 \\\\\n",
            "     4 &     3 &    11 & 0.0882353 &   0.323529  &   8.82353 &  32.3529  &       12 &         48 \\\\\n",
            "     5 &     6 &    17 & 0.176471  &   0.5       &  17.6471  &  50       &       30 &        150 \\\\\n",
            "     6 &     5 &    22 & 0.147059  &   0.647059  &  14.7059  &  64.7059  &       30 &        180 \\\\\n",
            "     7 &     6 &    28 & 0.176471  &   0.823529  &  17.6471  &  82.3529  &       42 &        294 \\\\\n",
            "     8 &     3 &    31 & 0.0882353 &   0.911765  &   8.82353 &  91.1765  &       24 &        192 \\\\\n",
            "     9 &     2 &    33 & 0.0588235 &   0.970588  &   5.88235 &  97.0588  &       18 &        162 \\\\\n",
            "    10 &     1 &    34 & 0.0294118 &   1         &   2.94118 & 100       &       10 &        100 \\\\\n",
            "   nan &    34 &   nan & 1         & nan         & 100       & nan       &      180 &       1158 \\\\\n",
            "\\hline\n",
            "\\end{tabular}$\\\\ \\includegraphics[width=1\\columnwidth]{diagrama0} \\\\ $\\left\\{ Me : 5.5, \\  Mo : \\left( [5], \\  [6]\\right), \\  media : 5.29\\right\\}$ \\\\$\\left\\{ D4 : 5.0, \\  P70 : 7.0, \\  Q1 : 4.0, \\  Q3 : 7.0\\right\\}$ \\\\$\\left\\{ C.V : 0.46, \\  desv.tip : 2.46, \\  rango : 10, \\  var : 6.03\\right\\}$\n"
          ]
        },
        {
          "data": {
            "image/png": "[encoded data removed]",
            "text/plain": [
              "<Figure size 432x288 with 1 Axes>"
            ]
          },
          "metadata": {
            "needs_background": "light",
            "tags": []
          },
          "output_type": "display_data"
        },
        {
          "data": {
            "image/png": "[encoded data removed]",
            "text/plain": [
              "<Figure size 432x288 with 1 Axes>"
            ]
          },
          "metadata": {
            "needs_background": "light",
            "tags": []
          },
          "output_type": "display_data"
        },
        {
          "data": {
            "text/html": [
              "<div>\n",
              "<style scoped>\n",
              "    .dataframe tbody tr th:only-of-type {\n",
              "        vertical-align: middle;\n",
              "    }\n",
              "\n",
              "    .dataframe tbody tr th {\n",
              "        vertical-align: top;\n",
              "    }\n",
              "\n",
              "    .dataframe thead th {\n",
              "        text-align: right;\n",
              "    }\n",
              "</style>\n",
              "<table border=\"1\" class=\"dataframe\">\n",
              "  <thead>\n",
              "    <tr style=\"text-align: right;\">\n",
              "      <th></th>\n",
              "      <th>x_i</th>\n",
              "      <th>f_i</th>\n",
              "      <th>F_i</th>\n",
              "      <th>h_i</th>\n",
              "      <th>H_i</th>\n",
              "      <th>%_i</th>\n",
              "      <th>%A_i</th>\n",
              "      <th>x_if_i</th>\n",
              "      <th>x^2_if_i</th>\n",
              "    </tr>\n",
              "  </thead>\n",
              "  <tbody>\n",
              "    <tr>\n",
              "      <th>0</th>\n",
              "      <td>10.0</td>\n",
              "      <td>2</td>\n",
              "      <td>2.0</td>\n",
              "      <td>0.083333</td>\n",
              "      <td>0.083333</td>\n",
              "      <td>8.333333</td>\n",
              "      <td>8.333333</td>\n",
              "      <td>20</td>\n",
              "      <td>200</td>\n",
              "    </tr>\n",
              "    <tr>\n",
              "      <th>1</th>\n",
              "      <td>11.0</td>\n",
              "      <td>4</td>\n",
              "      <td>6.0</td>\n",
              "      <td>0.166667</td>\n",
              "      <td>0.250000</td>\n",
              "      <td>16.666667</td>\n",
              "      <td>25.000000</td>\n",
              "      <td>44</td>\n",
              "      <td>484</td>\n",
              "    </tr>\n",
              "    <tr>\n",
              "      <th>2</th>\n",
              "      <td>12.0</td>\n",
              "      <td>3</td>\n",
              "      <td>9.0</td>\n",
              "      <td>0.125000</td>\n",
              "      <td>0.375000</td>\n",
              "      <td>12.500000</td>\n",
              "      <td>37.500000</td>\n",
              "      <td>36</td>\n",
              "      <td>432</td>\n",
              "    </tr>\n",
              "    <tr>\n",
              "      <th>3</th>\n",
              "      <td>13.0</td>\n",
              "      <td>2</td>\n",
              "      <td>11.0</td>\n",
              "      <td>0.083333</td>\n",
              "      <td>0.458333</td>\n",
              "      <td>8.333333</td>\n",
              "      <td>45.833333</td>\n",
              "      <td>26</td>\n",
              "      <td>338</td>\n",
              "    </tr>\n",
              "    <tr>\n",
              "      <th>4</th>\n",
              "      <td>14.0</td>\n",
              "      <td>3</td>\n",
              "      <td>14.0</td>\n",
              "      <td>0.125000</td>\n",
              "      <td>0.583333</td>\n",
              "      <td>12.500000</td>\n",
              "      <td>58.333333</td>\n",
              "      <td>42</td>\n",
              "      <td>588</td>\n",
              "    </tr>\n",
              "    <tr>\n",
              "      <th>5</th>\n",
              "      <td>15.0</td>\n",
              "      <td>2</td>\n",
              "      <td>16.0</td>\n",
              "      <td>0.083333</td>\n",
              "      <td>0.666667</td>\n",
              "      <td>8.333333</td>\n",
              "      <td>66.666667</td>\n",
              "      <td>30</td>\n",
              "      <td>450</td>\n",
              "    </tr>\n",
              "    <tr>\n",
              "      <th>6</th>\n",
              "      <td>16.0</td>\n",
              "      <td>4</td>\n",
              "      <td>20.0</td>\n",
              "      <td>0.166667</td>\n",
              "      <td>0.833333</td>\n",
              "      <td>16.666667</td>\n",
              "      <td>83.333333</td>\n",
              "      <td>64</td>\n",
              "      <td>1024</td>\n",
              "    </tr>\n",
              "    <tr>\n",
              "      <th>7</th>\n",
              "      <td>17.0</td>\n",
              "      <td>2</td>\n",
              "      <td>22.0</td>\n",
              "      <td>0.083333</td>\n",
              "      <td>0.916667</td>\n",
              "      <td>8.333333</td>\n",
              "      <td>91.666667</td>\n",
              "      <td>34</td>\n",
              "      <td>578</td>\n",
              "    </tr>\n",
              "    <tr>\n",
              "      <th>8</th>\n",
              "      <td>18.0</td>\n",
              "      <td>2</td>\n",
              "      <td>24.0</td>\n",
              "      <td>0.083333</td>\n",
              "      <td>1.000000</td>\n",
              "      <td>8.333333</td>\n",
              "      <td>100.000000</td>\n",
              "      <td>36</td>\n",
              "      <td>648</td>\n",
              "    </tr>\n",
              "    <tr>\n",
              "      <th>9</th>\n",
              "      <td>NaN</td>\n",
              "      <td>24</td>\n",
              "      <td>NaN</td>\n",
              "      <td>1.000000</td>\n",
              "      <td>NaN</td>\n",
              "      <td>100.000000</td>\n",
              "      <td>NaN</td>\n",
              "      <td>332</td>\n",
              "      <td>4742</td>\n",
              "    </tr>\n",
              "  </tbody>\n",
              "</table>\n",
              "</div>"
            ],
            "text/plain": [
              "    x_i  f_i   F_i       h_i       H_i         %_i        %A_i  x_if_i  \\\n",
              "0  10.0    2   2.0  0.083333  0.083333    8.333333    8.333333      20   \n",
              "1  11.0    4   6.0  0.166667  0.250000   16.666667   25.000000      44   \n",
              "2  12.0    3   9.0  0.125000  0.375000   12.500000   37.500000      36   \n",
              "3  13.0    2  11.0  0.083333  0.458333    8.333333   45.833333      26   \n",
              "4  14.0    3  14.0  0.125000  0.583333   12.500000   58.333333      42   \n",
              "5  15.0    2  16.0  0.083333  0.666667    8.333333   66.666667      30   \n",
              "6  16.0    4  20.0  0.166667  0.833333   16.666667   83.333333      64   \n",
              "7  17.0    2  22.0  0.083333  0.916667    8.333333   91.666667      34   \n",
              "8  18.0    2  24.0  0.083333  1.000000    8.333333  100.000000      36   \n",
              "9   NaN   24   NaN  1.000000       NaN  100.000000         NaN     332   \n",
              "\n",
              "   x^2_if_i  \n",
              "0       200  \n",
              "1       484  \n",
              "2       432  \n",
              "3       338  \n",
              "4       588  \n",
              "5       450  \n",
              "6      1024  \n",
              "7       578  \n",
              "8       648  \n",
              "9      4742  "
            ]
          },
          "metadata": {
            "tags": []
          },
          "output_type": "display_data"
        },
        {
          "data": {
            "text/plain": [
              "'$\\\\begin{tabular}{rrrrrrrrr}\\n\\\\hline\\n   x\\\\_i &   f\\\\_i &   F\\\\_i &       h\\\\_i &         H\\\\_i &       \\\\%\\\\_i &      \\\\%A\\\\_i &   x\\\\_if\\\\_i &   x\\\\^{}2\\\\_if\\\\_i \\\\\\\\\\n\\\\hline\\n    10 &     2 &     2 & 0.0833333 &   0.0833333 &   8.33333 &   8.33333 &       20 &        200 \\\\\\\\\\n    11 &     4 &     6 & 0.166667  &   0.25      &  16.6667  &  25       &       44 &        484 \\\\\\\\\\n    12 &     3 &     9 & 0.125     &   0.375     &  12.5     &  37.5     &       36 &        432 \\\\\\\\\\n    13 &     2 &    11 & 0.0833333 &   0.458333  &   8.33333 &  45.8333  &       26 &        338 \\\\\\\\\\n    14 &     3 &    14 & 0.125     &   0.583333  &  12.5     &  58.3333  &       42 &        588 \\\\\\\\\\n    15 &     2 &    16 & 0.0833333 &   0.666667  &   8.33333 &  66.6667  &       30 &        450 \\\\\\\\\\n    16 &     4 &    20 & 0.166667  &   0.833333  &  16.6667  &  83.3333  &       64 &       1024 \\\\\\\\\\n    17 &     2 &    22 & 0.0833333 &   0.916667  &   8.33333 &  91.6667  &       34 &        578 \\\\\\\\\\n    18 &     2 &    24 & 0.0833333 &   1         &   8.33333 & 100       &       36 &        648 \\\\\\\\\\n   nan &    24 &   nan & 1         & nan         & 100       & nan       &      332 &       4742 \\\\\\\\\\n\\\\hline\\n\\\\end{tabular}$\\\\\\\\ \\\\includegraphics[width=1\\\\columnwidth]{diagrama1} \\\\\\\\ $\\\\left\\\\{ Me : 14.0, \\\\  Mo : \\\\left( [11], \\\\  [4]\\\\right), \\\\  media : 13.83\\\\right\\\\}$ \\\\\\\\$\\\\left\\\\{ D4 : 13.0, \\\\  P70 : 16.0, \\\\  Q1 : 11.75, \\\\  Q3 : 16.0\\\\right\\\\}$ \\\\\\\\$\\\\left\\\\{ C.V : 0.18, \\\\  desv.tip : 2.49, \\\\  rango : 8, \\\\  var : 6.22\\\\right\\\\}$'"
            ]
          },
          "metadata": {
            "tags": []
          },
          "output_type": "display_data"
        },
        {
          "data": {
            "text/markdown": [
              "#### Ejercicio:"
            ],
            "text/plain": [
              "<IPython.core.display.Markdown object>"
            ]
          },
          "metadata": {
            "tags": []
          },
          "output_type": "display_data"
        },
        {
          "data": {
            "text/markdown": [
              "Estos datos reflejan el tiempo, en minutos, que tardan en llegar a su centro escolar varios alumnos. 10 15 11 11 14 14 11 14 17 11 17 15 10 16 12 12 13 16 13 16 18 12 18 16. Realiza una tabla de frecuencias. Realiza un diagrama de barras. Calcular los parámetros de centralización. Calcular los parámetros de posición P70, Q1, Q3, D4. Calcular los parámetros de dispersión $\\to$ $\\begin{tabular}{rrrrrrrrr}\n",
              "\\hline\n",
              "   x\\_i &   f\\_i &   F\\_i &       h\\_i &         H\\_i &       \\%\\_i &      \\%A\\_i &   x\\_if\\_i &   x\\^{}2\\_if\\_i \\\\\n",
              "\\hline\n",
              "    10 &     2 &     2 & 0.0833333 &   0.0833333 &   8.33333 &   8.33333 &       20 &        200 \\\\\n",
              "    11 &     4 &     6 & 0.166667  &   0.25      &  16.6667  &  25       &       44 &        484 \\\\\n",
              "    12 &     3 &     9 & 0.125     &   0.375     &  12.5     &  37.5     &       36 &        432 \\\\\n",
              "    13 &     2 &    11 & 0.0833333 &   0.458333  &   8.33333 &  45.8333  &       26 &        338 \\\\\n",
              "    14 &     3 &    14 & 0.125     &   0.583333  &  12.5     &  58.3333  &       42 &        588 \\\\\n",
              "    15 &     2 &    16 & 0.0833333 &   0.666667  &   8.33333 &  66.6667  &       30 &        450 \\\\\n",
              "    16 &     4 &    20 & 0.166667  &   0.833333  &  16.6667  &  83.3333  &       64 &       1024 \\\\\n",
              "    17 &     2 &    22 & 0.0833333 &   0.916667  &   8.33333 &  91.6667  &       34 &        578 \\\\\n",
              "    18 &     2 &    24 & 0.0833333 &   1         &   8.33333 & 100       &       36 &        648 \\\\\n",
              "   nan &    24 &   nan & 1         & nan         & 100       & nan       &      332 &       4742 \\\\\n",
              "\\hline\n",
              "\\end{tabular}$\\\\ \\includegraphics[width=1\\columnwidth]{diagrama1} \\\\ $\\left\\{ Me : 14.0, \\  Mo : \\left( [11], \\  [4]\\right), \\  media : 13.83\\right\\}$ \\\\$\\left\\{ D4 : 13.0, \\  P70 : 16.0, \\  Q1 : 11.75, \\  Q3 : 16.0\\right\\}$ \\\\$\\left\\{ C.V : 0.18, \\  desv.tip : 2.49, \\  rango : 8, \\  var : 6.22\\right\\}$"
            ],
            "text/plain": [
              "<IPython.core.display.Markdown object>"
            ]
          },
          "metadata": {
            "tags": []
          },
          "output_type": "display_data"
        },
        {
          "name": "stdout",
          "output_type": "stream",
          "text": [
            "enunciado_latex: Estos datos reflejan el tiempo, en minutos, que tardan en llegar a su centro escolar varios alumnos. 10 15 11 11 14 14 11 14 17 11 17 15 10 16 12 12 13 16 13 16 18 12 18 16. Realiza una tabla de frecuencias. Realiza un diagrama de barras. Calcular los parámetros de centralización. Calcular los parámetros de posición P70, Q1, Q3, D4. Calcular los parámetros de dispersión\n",
            "solucion_latex: $\\begin{tabular}{rrrrrrrrr}\n",
            "\\hline\n",
            "   x\\_i &   f\\_i &   F\\_i &       h\\_i &         H\\_i &       \\%\\_i &      \\%A\\_i &   x\\_if\\_i &   x\\^{}2\\_if\\_i \\\\\n",
            "\\hline\n",
            "    10 &     2 &     2 & 0.0833333 &   0.0833333 &   8.33333 &   8.33333 &       20 &        200 \\\\\n",
            "    11 &     4 &     6 & 0.166667  &   0.25      &  16.6667  &  25       &       44 &        484 \\\\\n",
            "    12 &     3 &     9 & 0.125     &   0.375     &  12.5     &  37.5     &       36 &        432 \\\\\n",
            "    13 &     2 &    11 & 0.0833333 &   0.458333  &   8.33333 &  45.8333  &       26 &        338 \\\\\n",
            "    14 &     3 &    14 & 0.125     &   0.583333  &  12.5     &  58.3333  &       42 &        588 \\\\\n",
            "    15 &     2 &    16 & 0.0833333 &   0.666667  &   8.33333 &  66.6667  &       30 &        450 \\\\\n",
            "    16 &     4 &    20 & 0.166667  &   0.833333  &  16.6667  &  83.3333  &       64 &       1024 \\\\\n",
            "    17 &     2 &    22 & 0.0833333 &   0.916667  &   8.33333 &  91.6667  &       34 &        578 \\\\\n",
            "    18 &     2 &    24 & 0.0833333 &   1         &   8.33333 & 100       &       36 &        648 \\\\\n",
            "   nan &    24 &   nan & 1         & nan         & 100       & nan       &      332 &       4742 \\\\\n",
            "\\hline\n",
            "\\end{tabular}$\\\\ \\includegraphics[width=1\\columnwidth]{diagrama1} \\\\ $\\left\\{ Me : 14.0, \\  Mo : \\left( [11], \\  [4]\\right), \\  media : 13.83\\right\\}$ \\\\$\\left\\{ D4 : 13.0, \\  P70 : 16.0, \\  Q1 : 11.75, \\  Q3 : 16.0\\right\\}$ \\\\$\\left\\{ C.V : 0.18, \\  desv.tip : 2.49, \\  rango : 8, \\  var : 6.22\\right\\}$\n"
          ]
        },
        {
          "data": {
            "image/png": "[encoded data removed]",
            "text/plain": [
              "<Figure size 432x288 with 1 Axes>"
            ]
          },
          "metadata": {
            "needs_background": "light",
            "tags": []
          },
          "output_type": "display_data"
        },
        {
          "data": {
            "image/png": "[encoded data removed]",
            "text/plain": [
              "<Figure size 432x288 with 1 Axes>"
            ]
          },
          "metadata": {
            "needs_background": "light",
            "tags": []
          },
          "output_type": "display_data"
        },
        {
          "data": {
            "text/html": [
              "<div>\n",
              "<style scoped>\n",
              "    .dataframe tbody tr th:only-of-type {\n",
              "        vertical-align: middle;\n",
              "    }\n",
              "\n",
              "    .dataframe tbody tr th {\n",
              "        vertical-align: top;\n",
              "    }\n",
              "\n",
              "    .dataframe thead th {\n",
              "        text-align: right;\n",
              "    }\n",
              "</style>\n",
              "<table border=\"1\" class=\"dataframe\">\n",
              "  <thead>\n",
              "    <tr style=\"text-align: right;\">\n",
              "      <th></th>\n",
              "      <th>x_i</th>\n",
              "      <th>f_i</th>\n",
              "      <th>F_i</th>\n",
              "      <th>h_i</th>\n",
              "      <th>H_i</th>\n",
              "      <th>%_i</th>\n",
              "      <th>%A_i</th>\n",
              "      <th>x_if_i</th>\n",
              "      <th>x^2_if_i</th>\n",
              "    </tr>\n",
              "  </thead>\n",
              "  <tbody>\n",
              "    <tr>\n",
              "      <th>0</th>\n",
              "      <td>157.0</td>\n",
              "      <td>1</td>\n",
              "      <td>1.0</td>\n",
              "      <td>0.033333</td>\n",
              "      <td>0.033333</td>\n",
              "      <td>3.333333</td>\n",
              "      <td>3.333333</td>\n",
              "      <td>157</td>\n",
              "      <td>24649</td>\n",
              "    </tr>\n",
              "    <tr>\n",
              "      <th>1</th>\n",
              "      <td>159.0</td>\n",
              "      <td>1</td>\n",
              "      <td>2.0</td>\n",
              "      <td>0.033333</td>\n",
              "      <td>0.066667</td>\n",
              "      <td>3.333333</td>\n",
              "      <td>6.666667</td>\n",
              "      <td>159</td>\n",
              "      <td>25281</td>\n",
              "    </tr>\n",
              "    <tr>\n",
              "      <th>2</th>\n",
              "      <td>161.0</td>\n",
              "      <td>1</td>\n",
              "      <td>3.0</td>\n",
              "      <td>0.033333</td>\n",
              "      <td>0.100000</td>\n",
              "      <td>3.333333</td>\n",
              "      <td>10.000000</td>\n",
              "      <td>161</td>\n",
              "      <td>25921</td>\n",
              "    </tr>\n",
              "    <tr>\n",
              "      <th>3</th>\n",
              "      <td>162.0</td>\n",
              "      <td>2</td>\n",
              "      <td>5.0</td>\n",
              "      <td>0.066667</td>\n",
              "      <td>0.166667</td>\n",
              "      <td>6.666667</td>\n",
              "      <td>16.666667</td>\n",
              "      <td>324</td>\n",
              "      <td>52488</td>\n",
              "    </tr>\n",
              "    <tr>\n",
              "      <th>4</th>\n",
              "      <td>163.0</td>\n",
              "      <td>2</td>\n",
              "      <td>7.0</td>\n",
              "      <td>0.066667</td>\n",
              "      <td>0.233333</td>\n",
              "      <td>6.666667</td>\n",
              "      <td>23.333333</td>\n",
              "      <td>326</td>\n",
              "      <td>53138</td>\n",
              "    </tr>\n",
              "    <tr>\n",
              "      <th>5</th>\n",
              "      <td>164.0</td>\n",
              "      <td>1</td>\n",
              "      <td>8.0</td>\n",
              "      <td>0.033333</td>\n",
              "      <td>0.266667</td>\n",
              "      <td>3.333333</td>\n",
              "      <td>26.666667</td>\n",
              "      <td>164</td>\n",
              "      <td>26896</td>\n",
              "    </tr>\n",
              "    <tr>\n",
              "      <th>6</th>\n",
              "      <td>166.0</td>\n",
              "      <td>3</td>\n",
              "      <td>11.0</td>\n",
              "      <td>0.100000</td>\n",
              "      <td>0.366667</td>\n",
              "      <td>10.000000</td>\n",
              "      <td>36.666667</td>\n",
              "      <td>498</td>\n",
              "      <td>82668</td>\n",
              "    </tr>\n",
              "    <tr>\n",
              "      <th>7</th>\n",
              "      <td>167.0</td>\n",
              "      <td>3</td>\n",
              "      <td>14.0</td>\n",
              "      <td>0.100000</td>\n",
              "      <td>0.466667</td>\n",
              "      <td>10.000000</td>\n",
              "      <td>46.666667</td>\n",
              "      <td>501</td>\n",
              "      <td>83667</td>\n",
              "    </tr>\n",
              "    <tr>\n",
              "      <th>8</th>\n",
              "      <td>168.0</td>\n",
              "      <td>3</td>\n",
              "      <td>17.0</td>\n",
              "      <td>0.100000</td>\n",
              "      <td>0.566667</td>\n",
              "      <td>10.000000</td>\n",
              "      <td>56.666667</td>\n",
              "      <td>504</td>\n",
              "      <td>84672</td>\n",
              "    </tr>\n",
              "    <tr>\n",
              "      <th>9</th>\n",
              "      <td>169.0</td>\n",
              "      <td>1</td>\n",
              "      <td>18.0</td>\n",
              "      <td>0.033333</td>\n",
              "      <td>0.600000</td>\n",
              "      <td>3.333333</td>\n",
              "      <td>60.000000</td>\n",
              "      <td>169</td>\n",
              "      <td>28561</td>\n",
              "    </tr>\n",
              "    <tr>\n",
              "      <th>10</th>\n",
              "      <td>170.0</td>\n",
              "      <td>1</td>\n",
              "      <td>19.0</td>\n",
              "      <td>0.033333</td>\n",
              "      <td>0.633333</td>\n",
              "      <td>3.333333</td>\n",
              "      <td>63.333333</td>\n",
              "      <td>170</td>\n",
              "      <td>28900</td>\n",
              "    </tr>\n",
              "    <tr>\n",
              "      <th>11</th>\n",
              "      <td>171.0</td>\n",
              "      <td>1</td>\n",
              "      <td>20.0</td>\n",
              "      <td>0.033333</td>\n",
              "      <td>0.666667</td>\n",
              "      <td>3.333333</td>\n",
              "      <td>66.666667</td>\n",
              "      <td>171</td>\n",
              "      <td>29241</td>\n",
              "    </tr>\n",
              "    <tr>\n",
              "      <th>12</th>\n",
              "      <td>172.0</td>\n",
              "      <td>2</td>\n",
              "      <td>22.0</td>\n",
              "      <td>0.066667</td>\n",
              "      <td>0.733333</td>\n",
              "      <td>6.666667</td>\n",
              "      <td>73.333333</td>\n",
              "      <td>344</td>\n",
              "      <td>59168</td>\n",
              "    </tr>\n",
              "    <tr>\n",
              "      <th>13</th>\n",
              "      <td>173.0</td>\n",
              "      <td>2</td>\n",
              "      <td>24.0</td>\n",
              "      <td>0.066667</td>\n",
              "      <td>0.800000</td>\n",
              "      <td>6.666667</td>\n",
              "      <td>80.000000</td>\n",
              "      <td>346</td>\n",
              "      <td>59858</td>\n",
              "    </tr>\n",
              "    <tr>\n",
              "      <th>14</th>\n",
              "      <td>174.0</td>\n",
              "      <td>2</td>\n",
              "      <td>26.0</td>\n",
              "      <td>0.066667</td>\n",
              "      <td>0.866667</td>\n",
              "      <td>6.666667</td>\n",
              "      <td>86.666667</td>\n",
              "      <td>348</td>\n",
              "      <td>60552</td>\n",
              "    </tr>\n",
              "    <tr>\n",
              "      <th>15</th>\n",
              "      <td>176.0</td>\n",
              "      <td>2</td>\n",
              "      <td>28.0</td>\n",
              "      <td>0.066667</td>\n",
              "      <td>0.933333</td>\n",
              "      <td>6.666667</td>\n",
              "      <td>93.333333</td>\n",
              "      <td>352</td>\n",
              "      <td>61952</td>\n",
              "    </tr>\n",
              "    <tr>\n",
              "      <th>16</th>\n",
              "      <td>177.0</td>\n",
              "      <td>1</td>\n",
              "      <td>29.0</td>\n",
              "      <td>0.033333</td>\n",
              "      <td>0.966667</td>\n",
              "      <td>3.333333</td>\n",
              "      <td>96.666667</td>\n",
              "      <td>177</td>\n",
              "      <td>31329</td>\n",
              "    </tr>\n",
              "    <tr>\n",
              "      <th>17</th>\n",
              "      <td>184.0</td>\n",
              "      <td>1</td>\n",
              "      <td>30.0</td>\n",
              "      <td>0.033333</td>\n",
              "      <td>1.000000</td>\n",
              "      <td>3.333333</td>\n",
              "      <td>100.000000</td>\n",
              "      <td>184</td>\n",
              "      <td>33856</td>\n",
              "    </tr>\n",
              "    <tr>\n",
              "      <th>18</th>\n",
              "      <td>NaN</td>\n",
              "      <td>30</td>\n",
              "      <td>NaN</td>\n",
              "      <td>1.000000</td>\n",
              "      <td>NaN</td>\n",
              "      <td>100.000000</td>\n",
              "      <td>NaN</td>\n",
              "      <td>5055</td>\n",
              "      <td>852797</td>\n",
              "    </tr>\n",
              "  </tbody>\n",
              "</table>\n",
              "</div>"
            ],
            "text/plain": [
              "      x_i  f_i   F_i       h_i       H_i         %_i        %A_i  x_if_i  \\\n",
              "0   157.0    1   1.0  0.033333  0.033333    3.333333    3.333333     157   \n",
              "1   159.0    1   2.0  0.033333  0.066667    3.333333    6.666667     159   \n",
              "2   161.0    1   3.0  0.033333  0.100000    3.333333   10.000000     161   \n",
              "3   162.0    2   5.0  0.066667  0.166667    6.666667   16.666667     324   \n",
              "4   163.0    2   7.0  0.066667  0.233333    6.666667   23.333333     326   \n",
              "5   164.0    1   8.0  0.033333  0.266667    3.333333   26.666667     164   \n",
              "6   166.0    3  11.0  0.100000  0.366667   10.000000   36.666667     498   \n",
              "7   167.0    3  14.0  0.100000  0.466667   10.000000   46.666667     501   \n",
              "8   168.0    3  17.0  0.100000  0.566667   10.000000   56.666667     504   \n",
              "9   169.0    1  18.0  0.033333  0.600000    3.333333   60.000000     169   \n",
              "10  170.0    1  19.0  0.033333  0.633333    3.333333   63.333333     170   \n",
              "11  171.0    1  20.0  0.033333  0.666667    3.333333   66.666667     171   \n",
              "12  172.0    2  22.0  0.066667  0.733333    6.666667   73.333333     344   \n",
              "13  173.0    2  24.0  0.066667  0.800000    6.666667   80.000000     346   \n",
              "14  174.0    2  26.0  0.066667  0.866667    6.666667   86.666667     348   \n",
              "15  176.0    2  28.0  0.066667  0.933333    6.666667   93.333333     352   \n",
              "16  177.0    1  29.0  0.033333  0.966667    3.333333   96.666667     177   \n",
              "17  184.0    1  30.0  0.033333  1.000000    3.333333  100.000000     184   \n",
              "18    NaN   30   NaN  1.000000       NaN  100.000000         NaN    5055   \n",
              "\n",
              "    x^2_if_i  \n",
              "0      24649  \n",
              "1      25281  \n",
              "2      25921  \n",
              "3      52488  \n",
              "4      53138  \n",
              "5      26896  \n",
              "6      82668  \n",
              "7      83667  \n",
              "8      84672  \n",
              "9      28561  \n",
              "10     28900  \n",
              "11     29241  \n",
              "12     59168  \n",
              "13     59858  \n",
              "14     60552  \n",
              "15     61952  \n",
              "16     31329  \n",
              "17     33856  \n",
              "18    852797  "
            ]
          },
          "metadata": {
            "tags": []
          },
          "output_type": "display_data"
        },
        {
          "data": {
            "text/plain": [
              "'$\\\\begin{tabular}{rrrrrrrrr}\\n\\\\hline\\n   x\\\\_i &   f\\\\_i &   F\\\\_i &       h\\\\_i &         H\\\\_i &       \\\\%\\\\_i &      \\\\%A\\\\_i &   x\\\\_if\\\\_i &   x\\\\^{}2\\\\_if\\\\_i \\\\\\\\\\n\\\\hline\\n   157 &     1 &     1 & 0.0333333 &   0.0333333 &   3.33333 &   3.33333 &      157 &      24649 \\\\\\\\\\n   159 &     1 &     2 & 0.0333333 &   0.0666667 &   3.33333 &   6.66667 &      159 &      25281 \\\\\\\\\\n   161 &     1 &     3 & 0.0333333 &   0.1       &   3.33333 &  10       &      161 &      25921 \\\\\\\\\\n   162 &     2 &     5 & 0.0666667 &   0.166667  &   6.66667 &  16.6667  &      324 &      52488 \\\\\\\\\\n   163 &     2 &     7 & 0.0666667 &   0.233333  &   6.66667 &  23.3333  &      326 &      53138 \\\\\\\\\\n   164 &     1 &     8 & 0.0333333 &   0.266667  &   3.33333 &  26.6667  &      164 &      26896 \\\\\\\\\\n   166 &     3 &    11 & 0.1       &   0.366667  &  10       &  36.6667  &      498 &      82668 \\\\\\\\\\n   167 &     3 &    14 & 0.1       &   0.466667  &  10       &  46.6667  &      501 &      83667 \\\\\\\\\\n   168 &     3 &    17 & 0.1       &   0.566667  &  10       &  56.6667  &      504 &      84672 \\\\\\\\\\n   169 &     1 &    18 & 0.0333333 &   0.6       &   3.33333 &  60       &      169 &      28561 \\\\\\\\\\n   170 &     1 &    19 & 0.0333333 &   0.633333  &   3.33333 &  63.3333  &      170 &      28900 \\\\\\\\\\n   171 &     1 &    20 & 0.0333333 &   0.666667  &   3.33333 &  66.6667  &      171 &      29241 \\\\\\\\\\n   172 &     2 &    22 & 0.0666667 &   0.733333  &   6.66667 &  73.3333  &      344 &      59168 \\\\\\\\\\n   173 &     2 &    24 & 0.0666667 &   0.8       &   6.66667 &  80       &      346 &      59858 \\\\\\\\\\n   174 &     2 &    26 & 0.0666667 &   0.866667  &   6.66667 &  86.6667  &      348 &      60552 \\\\\\\\\\n   176 &     2 &    28 & 0.0666667 &   0.933333  &   6.66667 &  93.3333  &      352 &      61952 \\\\\\\\\\n   177 &     1 &    29 & 0.0333333 &   0.966667  &   3.33333 &  96.6667  &      177 &      31329 \\\\\\\\\\n   184 &     1 &    30 & 0.0333333 &   1         &   3.33333 & 100       &      184 &      33856 \\\\\\\\\\n   nan &    30 &   nan & 1         & nan         & 100       & nan       &     5055 &     852797 \\\\\\\\\\n\\\\hline\\n\\\\end{tabular}$\\\\\\\\ \\\\includegraphics[width=1\\\\columnwidth]{diagrama2} \\\\\\\\ $\\\\left\\\\{ Me : 168.0, \\\\  Mo : \\\\left( [166], \\\\  [3]\\\\right), \\\\  media : 168.5\\\\right\\\\}$ \\\\\\\\$\\\\left\\\\{ D4 : 167.0, \\\\  P70 : 172.0, \\\\  Q1 : 164.5, \\\\  Q3 : 172.75\\\\right\\\\}$ \\\\\\\\$\\\\left\\\\{ C.V : 0.03, \\\\  desv.tip : 5.86, \\\\  rango : 27, \\\\  var : 34.32\\\\right\\\\}$'"
            ]
          },
          "metadata": {
            "tags": []
          },
          "output_type": "display_data"
        },
        {
          "data": {
            "text/markdown": [
              "#### Ejercicio:"
            ],
            "text/plain": [
              "<IPython.core.display.Markdown object>"
            ]
          },
          "metadata": {
            "tags": []
          },
          "output_type": "display_data"
        },
        {
          "data": {
            "text/markdown": [
              "La altura en cm de 30 alumnos de un curso son:174 157 168 166 169 168 173 184 176 171 172 168 167 162 162 163 166 166 167 167 174 159 170 172 173 164 161 163 176 177. Realiza una tabla de frecuencias. Realiza un diagrama de barras. Calcular los parámetros de centralización. Calcular los parámetros de posición P70, Q1, Q3, D4. Calcular los parámetros de dispersión $\\to$ $\\begin{tabular}{rrrrrrrrr}\n",
              "\\hline\n",
              "   x\\_i &   f\\_i &   F\\_i &       h\\_i &         H\\_i &       \\%\\_i &      \\%A\\_i &   x\\_if\\_i &   x\\^{}2\\_if\\_i \\\\\n",
              "\\hline\n",
              "   157 &     1 &     1 & 0.0333333 &   0.0333333 &   3.33333 &   3.33333 &      157 &      24649 \\\\\n",
              "   159 &     1 &     2 & 0.0333333 &   0.0666667 &   3.33333 &   6.66667 &      159 &      25281 \\\\\n",
              "   161 &     1 &     3 & 0.0333333 &   0.1       &   3.33333 &  10       &      161 &      25921 \\\\\n",
              "   162 &     2 &     5 & 0.0666667 &   0.166667  &   6.66667 &  16.6667  &      324 &      52488 \\\\\n",
              "   163 &     2 &     7 & 0.0666667 &   0.233333  &   6.66667 &  23.3333  &      326 &      53138 \\\\\n",
              "   164 &     1 &     8 & 0.0333333 &   0.266667  &   3.33333 &  26.6667  &      164 &      26896 \\\\\n",
              "   166 &     3 &    11 & 0.1       &   0.366667  &  10       &  36.6667  &      498 &      82668 \\\\\n",
              "   167 &     3 &    14 & 0.1       &   0.466667  &  10       &  46.6667  &      501 &      83667 \\\\\n",
              "   168 &     3 &    17 & 0.1       &   0.566667  &  10       &  56.6667  &      504 &      84672 \\\\\n",
              "   169 &     1 &    18 & 0.0333333 &   0.6       &   3.33333 &  60       &      169 &      28561 \\\\\n",
              "   170 &     1 &    19 & 0.0333333 &   0.633333  &   3.33333 &  63.3333  &      170 &      28900 \\\\\n",
              "   171 &     1 &    20 & 0.0333333 &   0.666667  &   3.33333 &  66.6667  &      171 &      29241 \\\\\n",
              "   172 &     2 &    22 & 0.0666667 &   0.733333  &   6.66667 &  73.3333  &      344 &      59168 \\\\\n",
              "   173 &     2 &    24 & 0.0666667 &   0.8       &   6.66667 &  80       &      346 &      59858 \\\\\n",
              "   174 &     2 &    26 & 0.0666667 &   0.866667  &   6.66667 &  86.6667  &      348 &      60552 \\\\\n",
              "   176 &     2 &    28 & 0.0666667 &   0.933333  &   6.66667 &  93.3333  &      352 &      61952 \\\\\n",
              "   177 &     1 &    29 & 0.0333333 &   0.966667  &   3.33333 &  96.6667  &      177 &      31329 \\\\\n",
              "   184 &     1 &    30 & 0.0333333 &   1         &   3.33333 & 100       &      184 &      33856 \\\\\n",
              "   nan &    30 &   nan & 1         & nan         & 100       & nan       &     5055 &     852797 \\\\\n",
              "\\hline\n",
              "\\end{tabular}$\\\\ \\includegraphics[width=1\\columnwidth]{diagrama2} \\\\ $\\left\\{ Me : 168.0, \\  Mo : \\left( [166], \\  [3]\\right), \\  media : 168.5\\right\\}$ \\\\$\\left\\{ D4 : 167.0, \\  P70 : 172.0, \\  Q1 : 164.5, \\  Q3 : 172.75\\right\\}$ \\\\$\\left\\{ C.V : 0.03, \\  desv.tip : 5.86, \\  rango : 27, \\  var : 34.32\\right\\}$"
            ],
            "text/plain": [
              "<IPython.core.display.Markdown object>"
            ]
          },
          "metadata": {
            "tags": []
          },
          "output_type": "display_data"
        },
        {
          "name": "stdout",
          "output_type": "stream",
          "text": [
            "enunciado_latex: La altura en cm de 30 alumnos de un curso son:174 157 168 166 169 168 173 184 176 171 172 168 167 162 162 163 166 166 167 167 174 159 170 172 173 164 161 163 176 177. Realiza una tabla de frecuencias. Realiza un diagrama de barras. Calcular los parámetros de centralización. Calcular los parámetros de posición P70, Q1, Q3, D4. Calcular los parámetros de dispersión\n",
            "solucion_latex: $\\begin{tabular}{rrrrrrrrr}\n",
            "\\hline\n",
            "   x\\_i &   f\\_i &   F\\_i &       h\\_i &         H\\_i &       \\%\\_i &      \\%A\\_i &   x\\_if\\_i &   x\\^{}2\\_if\\_i \\\\\n",
            "\\hline\n",
            "   157 &     1 &     1 & 0.0333333 &   0.0333333 &   3.33333 &   3.33333 &      157 &      24649 \\\\\n",
            "   159 &     1 &     2 & 0.0333333 &   0.0666667 &   3.33333 &   6.66667 &      159 &      25281 \\\\\n",
            "   161 &     1 &     3 & 0.0333333 &   0.1       &   3.33333 &  10       &      161 &      25921 \\\\\n",
            "   162 &     2 &     5 & 0.0666667 &   0.166667  &   6.66667 &  16.6667  &      324 &      52488 \\\\\n",
            "   163 &     2 &     7 & 0.0666667 &   0.233333  &   6.66667 &  23.3333  &      326 &      53138 \\\\\n",
            "   164 &     1 &     8 & 0.0333333 &   0.266667  &   3.33333 &  26.6667  &      164 &      26896 \\\\\n",
            "   166 &     3 &    11 & 0.1       &   0.366667  &  10       &  36.6667  &      498 &      82668 \\\\\n",
            "   167 &     3 &    14 & 0.1       &   0.466667  &  10       &  46.6667  &      501 &      83667 \\\\\n",
            "   168 &     3 &    17 & 0.1       &   0.566667  &  10       &  56.6667  &      504 &      84672 \\\\\n",
            "   169 &     1 &    18 & 0.0333333 &   0.6       &   3.33333 &  60       &      169 &      28561 \\\\\n",
            "   170 &     1 &    19 & 0.0333333 &   0.633333  &   3.33333 &  63.3333  &      170 &      28900 \\\\\n",
            "   171 &     1 &    20 & 0.0333333 &   0.666667  &   3.33333 &  66.6667  &      171 &      29241 \\\\\n",
            "   172 &     2 &    22 & 0.0666667 &   0.733333  &   6.66667 &  73.3333  &      344 &      59168 \\\\\n",
            "   173 &     2 &    24 & 0.0666667 &   0.8       &   6.66667 &  80       &      346 &      59858 \\\\\n",
            "   174 &     2 &    26 & 0.0666667 &   0.866667  &   6.66667 &  86.6667  &      348 &      60552 \\\\\n",
            "   176 &     2 &    28 & 0.0666667 &   0.933333  &   6.66667 &  93.3333  &      352 &      61952 \\\\\n",
            "   177 &     1 &    29 & 0.0333333 &   0.966667  &   3.33333 &  96.6667  &      177 &      31329 \\\\\n",
            "   184 &     1 &    30 & 0.0333333 &   1         &   3.33333 & 100       &      184 &      33856 \\\\\n",
            "   nan &    30 &   nan & 1         & nan         & 100       & nan       &     5055 &     852797 \\\\\n",
            "\\hline\n",
            "\\end{tabular}$\\\\ \\includegraphics[width=1\\columnwidth]{diagrama2} \\\\ $\\left\\{ Me : 168.0, \\  Mo : \\left( [166], \\  [3]\\right), \\  media : 168.5\\right\\}$ \\\\$\\left\\{ D4 : 167.0, \\  P70 : 172.0, \\  Q1 : 164.5, \\  Q3 : 172.75\\right\\}$ \\\\$\\left\\{ C.V : 0.03, \\  desv.tip : 5.86, \\  rango : 27, \\  var : 34.32\\right\\}$\n"
          ]
        },
        {
          "data": {
            "image/png": "[encoded data removed]",
            "text/plain": [
              "<Figure size 432x288 with 1 Axes>"
            ]
          },
          "metadata": {
            "needs_background": "light",
            "tags": []
          },
          "output_type": "display_data"
        },
        {
          "data": {
            "image/png": "[encoded data removed]",
            "text/plain": [
              "<Figure size 432x288 with 1 Axes>"
            ]
          },
          "metadata": {
            "needs_background": "light",
            "tags": []
          },
          "output_type": "display_data"
        },
        {
          "data": {
            "text/html": [
              "<div>\n",
              "<style scoped>\n",
              "    .dataframe tbody tr th:only-of-type {\n",
              "        vertical-align: middle;\n",
              "    }\n",
              "\n",
              "    .dataframe tbody tr th {\n",
              "        vertical-align: top;\n",
              "    }\n",
              "\n",
              "    .dataframe thead th {\n",
              "        text-align: right;\n",
              "    }\n",
              "</style>\n",
              "<table border=\"1\" class=\"dataframe\">\n",
              "  <thead>\n",
              "    <tr style=\"text-align: right;\">\n",
              "      <th></th>\n",
              "      <th>x_i</th>\n",
              "      <th>f_i</th>\n",
              "      <th>F_i</th>\n",
              "      <th>h_i</th>\n",
              "      <th>H_i</th>\n",
              "      <th>%_i</th>\n",
              "      <th>%A_i</th>\n",
              "      <th>x_if_i</th>\n",
              "      <th>x^2_if_i</th>\n",
              "    </tr>\n",
              "  </thead>\n",
              "  <tbody>\n",
              "    <tr>\n",
              "      <th>0</th>\n",
              "      <td>1.0</td>\n",
              "      <td>1</td>\n",
              "      <td>1.0</td>\n",
              "      <td>0.033333</td>\n",
              "      <td>0.033333</td>\n",
              "      <td>3.333333</td>\n",
              "      <td>3.333333</td>\n",
              "      <td>1</td>\n",
              "      <td>1</td>\n",
              "    </tr>\n",
              "    <tr>\n",
              "      <th>1</th>\n",
              "      <td>2.0</td>\n",
              "      <td>1</td>\n",
              "      <td>2.0</td>\n",
              "      <td>0.033333</td>\n",
              "      <td>0.066667</td>\n",
              "      <td>3.333333</td>\n",
              "      <td>6.666667</td>\n",
              "      <td>2</td>\n",
              "      <td>4</td>\n",
              "    </tr>\n",
              "    <tr>\n",
              "      <th>2</th>\n",
              "      <td>3.0</td>\n",
              "      <td>3</td>\n",
              "      <td>5.0</td>\n",
              "      <td>0.100000</td>\n",
              "      <td>0.166667</td>\n",
              "      <td>10.000000</td>\n",
              "      <td>16.666667</td>\n",
              "      <td>9</td>\n",
              "      <td>27</td>\n",
              "    </tr>\n",
              "    <tr>\n",
              "      <th>3</th>\n",
              "      <td>4.0</td>\n",
              "      <td>1</td>\n",
              "      <td>6.0</td>\n",
              "      <td>0.033333</td>\n",
              "      <td>0.200000</td>\n",
              "      <td>3.333333</td>\n",
              "      <td>20.000000</td>\n",
              "      <td>4</td>\n",
              "      <td>16</td>\n",
              "    </tr>\n",
              "    <tr>\n",
              "      <th>4</th>\n",
              "      <td>5.0</td>\n",
              "      <td>2</td>\n",
              "      <td>8.0</td>\n",
              "      <td>0.066667</td>\n",
              "      <td>0.266667</td>\n",
              "      <td>6.666667</td>\n",
              "      <td>26.666667</td>\n",
              "      <td>10</td>\n",
              "      <td>50</td>\n",
              "    </tr>\n",
              "    <tr>\n",
              "      <th>5</th>\n",
              "      <td>6.0</td>\n",
              "      <td>2</td>\n",
              "      <td>10.0</td>\n",
              "      <td>0.066667</td>\n",
              "      <td>0.333333</td>\n",
              "      <td>6.666667</td>\n",
              "      <td>33.333333</td>\n",
              "      <td>12</td>\n",
              "      <td>72</td>\n",
              "    </tr>\n",
              "    <tr>\n",
              "      <th>6</th>\n",
              "      <td>7.0</td>\n",
              "      <td>1</td>\n",
              "      <td>11.0</td>\n",
              "      <td>0.033333</td>\n",
              "      <td>0.366667</td>\n",
              "      <td>3.333333</td>\n",
              "      <td>36.666667</td>\n",
              "      <td>7</td>\n",
              "      <td>49</td>\n",
              "    </tr>\n",
              "    <tr>\n",
              "      <th>7</th>\n",
              "      <td>8.0</td>\n",
              "      <td>2</td>\n",
              "      <td>13.0</td>\n",
              "      <td>0.066667</td>\n",
              "      <td>0.433333</td>\n",
              "      <td>6.666667</td>\n",
              "      <td>43.333333</td>\n",
              "      <td>16</td>\n",
              "      <td>128</td>\n",
              "    </tr>\n",
              "    <tr>\n",
              "      <th>8</th>\n",
              "      <td>9.0</td>\n",
              "      <td>1</td>\n",
              "      <td>14.0</td>\n",
              "      <td>0.033333</td>\n",
              "      <td>0.466667</td>\n",
              "      <td>3.333333</td>\n",
              "      <td>46.666667</td>\n",
              "      <td>9</td>\n",
              "      <td>81</td>\n",
              "    </tr>\n",
              "    <tr>\n",
              "      <th>9</th>\n",
              "      <td>10.0</td>\n",
              "      <td>5</td>\n",
              "      <td>19.0</td>\n",
              "      <td>0.166667</td>\n",
              "      <td>0.633333</td>\n",
              "      <td>16.666667</td>\n",
              "      <td>63.333333</td>\n",
              "      <td>50</td>\n",
              "      <td>500</td>\n",
              "    </tr>\n",
              "    <tr>\n",
              "      <th>10</th>\n",
              "      <td>11.0</td>\n",
              "      <td>1</td>\n",
              "      <td>20.0</td>\n",
              "      <td>0.033333</td>\n",
              "      <td>0.666667</td>\n",
              "      <td>3.333333</td>\n",
              "      <td>66.666667</td>\n",
              "      <td>11</td>\n",
              "      <td>121</td>\n",
              "    </tr>\n",
              "    <tr>\n",
              "      <th>11</th>\n",
              "      <td>12.0</td>\n",
              "      <td>3</td>\n",
              "      <td>23.0</td>\n",
              "      <td>0.100000</td>\n",
              "      <td>0.766667</td>\n",
              "      <td>10.000000</td>\n",
              "      <td>76.666667</td>\n",
              "      <td>36</td>\n",
              "      <td>432</td>\n",
              "    </tr>\n",
              "    <tr>\n",
              "      <th>12</th>\n",
              "      <td>14.0</td>\n",
              "      <td>1</td>\n",
              "      <td>24.0</td>\n",
              "      <td>0.033333</td>\n",
              "      <td>0.800000</td>\n",
              "      <td>3.333333</td>\n",
              "      <td>80.000000</td>\n",
              "      <td>14</td>\n",
              "      <td>196</td>\n",
              "    </tr>\n",
              "    <tr>\n",
              "      <th>13</th>\n",
              "      <td>15.0</td>\n",
              "      <td>1</td>\n",
              "      <td>25.0</td>\n",
              "      <td>0.033333</td>\n",
              "      <td>0.833333</td>\n",
              "      <td>3.333333</td>\n",
              "      <td>83.333333</td>\n",
              "      <td>15</td>\n",
              "      <td>225</td>\n",
              "    </tr>\n",
              "    <tr>\n",
              "      <th>14</th>\n",
              "      <td>16.0</td>\n",
              "      <td>3</td>\n",
              "      <td>28.0</td>\n",
              "      <td>0.100000</td>\n",
              "      <td>0.933333</td>\n",
              "      <td>10.000000</td>\n",
              "      <td>93.333333</td>\n",
              "      <td>48</td>\n",
              "      <td>768</td>\n",
              "    </tr>\n",
              "    <tr>\n",
              "      <th>15</th>\n",
              "      <td>17.0</td>\n",
              "      <td>1</td>\n",
              "      <td>29.0</td>\n",
              "      <td>0.033333</td>\n",
              "      <td>0.966667</td>\n",
              "      <td>3.333333</td>\n",
              "      <td>96.666667</td>\n",
              "      <td>17</td>\n",
              "      <td>289</td>\n",
              "    </tr>\n",
              "    <tr>\n",
              "      <th>16</th>\n",
              "      <td>20.0</td>\n",
              "      <td>1</td>\n",
              "      <td>30.0</td>\n",
              "      <td>0.033333</td>\n",
              "      <td>1.000000</td>\n",
              "      <td>3.333333</td>\n",
              "      <td>100.000000</td>\n",
              "      <td>20</td>\n",
              "      <td>400</td>\n",
              "    </tr>\n",
              "    <tr>\n",
              "      <th>17</th>\n",
              "      <td>NaN</td>\n",
              "      <td>30</td>\n",
              "      <td>NaN</td>\n",
              "      <td>1.000000</td>\n",
              "      <td>NaN</td>\n",
              "      <td>100.000000</td>\n",
              "      <td>NaN</td>\n",
              "      <td>281</td>\n",
              "      <td>3359</td>\n",
              "    </tr>\n",
              "  </tbody>\n",
              "</table>\n",
              "</div>"
            ],
            "text/plain": [
              "     x_i  f_i   F_i       h_i       H_i         %_i        %A_i  x_if_i  \\\n",
              "0    1.0    1   1.0  0.033333  0.033333    3.333333    3.333333       1   \n",
              "1    2.0    1   2.0  0.033333  0.066667    3.333333    6.666667       2   \n",
              "2    3.0    3   5.0  0.100000  0.166667   10.000000   16.666667       9   \n",
              "3    4.0    1   6.0  0.033333  0.200000    3.333333   20.000000       4   \n",
              "4    5.0    2   8.0  0.066667  0.266667    6.666667   26.666667      10   \n",
              "5    6.0    2  10.0  0.066667  0.333333    6.666667   33.333333      12   \n",
              "6    7.0    1  11.0  0.033333  0.366667    3.333333   36.666667       7   \n",
              "7    8.0    2  13.0  0.066667  0.433333    6.666667   43.333333      16   \n",
              "8    9.0    1  14.0  0.033333  0.466667    3.333333   46.666667       9   \n",
              "9   10.0    5  19.0  0.166667  0.633333   16.666667   63.333333      50   \n",
              "10  11.0    1  20.0  0.033333  0.666667    3.333333   66.666667      11   \n",
              "11  12.0    3  23.0  0.100000  0.766667   10.000000   76.666667      36   \n",
              "12  14.0    1  24.0  0.033333  0.800000    3.333333   80.000000      14   \n",
              "13  15.0    1  25.0  0.033333  0.833333    3.333333   83.333333      15   \n",
              "14  16.0    3  28.0  0.100000  0.933333   10.000000   93.333333      48   \n",
              "15  17.0    1  29.0  0.033333  0.966667    3.333333   96.666667      17   \n",
              "16  20.0    1  30.0  0.033333  1.000000    3.333333  100.000000      20   \n",
              "17   NaN   30   NaN  1.000000       NaN  100.000000         NaN     281   \n",
              "\n",
              "    x^2_if_i  \n",
              "0          1  \n",
              "1          4  \n",
              "2         27  \n",
              "3         16  \n",
              "4         50  \n",
              "5         72  \n",
              "6         49  \n",
              "7        128  \n",
              "8         81  \n",
              "9        500  \n",
              "10       121  \n",
              "11       432  \n",
              "12       196  \n",
              "13       225  \n",
              "14       768  \n",
              "15       289  \n",
              "16       400  \n",
              "17      3359  "
            ]
          },
          "metadata": {
            "tags": []
          },
          "output_type": "display_data"
        },
        {
          "data": {
            "text/plain": [
              "'$\\\\begin{tabular}{rrrrrrrrr}\\n\\\\hline\\n   x\\\\_i &   f\\\\_i &   F\\\\_i &       h\\\\_i &         H\\\\_i &       \\\\%\\\\_i &      \\\\%A\\\\_i &   x\\\\_if\\\\_i &   x\\\\^{}2\\\\_if\\\\_i \\\\\\\\\\n\\\\hline\\n     1 &     1 &     1 & 0.0333333 &   0.0333333 &   3.33333 &   3.33333 &        1 &          1 \\\\\\\\\\n     2 &     1 &     2 & 0.0333333 &   0.0666667 &   3.33333 &   6.66667 &        2 &          4 \\\\\\\\\\n     3 &     3 &     5 & 0.1       &   0.166667  &  10       &  16.6667  &        9 &         27 \\\\\\\\\\n     4 &     1 &     6 & 0.0333333 &   0.2       &   3.33333 &  20       &        4 &         16 \\\\\\\\\\n     5 &     2 &     8 & 0.0666667 &   0.266667  &   6.66667 &  26.6667  &       10 &         50 \\\\\\\\\\n     6 &     2 &    10 & 0.0666667 &   0.333333  &   6.66667 &  33.3333  &       12 &         72 \\\\\\\\\\n     7 &     1 &    11 & 0.0333333 &   0.366667  &   3.33333 &  36.6667  &        7 &         49 \\\\\\\\\\n     8 &     2 &    13 & 0.0666667 &   0.433333  &   6.66667 &  43.3333  &       16 &        128 \\\\\\\\\\n     9 &     1 &    14 & 0.0333333 &   0.466667  &   3.33333 &  46.6667  &        9 &         81 \\\\\\\\\\n    10 &     5 &    19 & 0.166667  &   0.633333  &  16.6667  &  63.3333  &       50 &        500 \\\\\\\\\\n    11 &     1 &    20 & 0.0333333 &   0.666667  &   3.33333 &  66.6667  &       11 &        121 \\\\\\\\\\n    12 &     3 &    23 & 0.1       &   0.766667  &  10       &  76.6667  &       36 &        432 \\\\\\\\\\n    14 &     1 &    24 & 0.0333333 &   0.8       &   3.33333 &  80       &       14 &        196 \\\\\\\\\\n    15 &     1 &    25 & 0.0333333 &   0.833333  &   3.33333 &  83.3333  &       15 &        225 \\\\\\\\\\n    16 &     3 &    28 & 0.1       &   0.933333  &  10       &  93.3333  &       48 &        768 \\\\\\\\\\n    17 &     1 &    29 & 0.0333333 &   0.966667  &   3.33333 &  96.6667  &       17 &        289 \\\\\\\\\\n    20 &     1 &    30 & 0.0333333 &   1         &   3.33333 & 100       &       20 &        400 \\\\\\\\\\n   nan &    30 &   nan & 1         & nan         & 100       & nan       &      281 &       3359 \\\\\\\\\\n\\\\hline\\n\\\\end{tabular}$\\\\\\\\ \\\\includegraphics[width=1\\\\columnwidth]{diagrama3} \\\\\\\\ $\\\\left\\\\{ Me : 10.0, \\\\  Mo : \\\\left( [10], \\\\  [5]\\\\right), \\\\  media : 9.37\\\\right\\\\}$ \\\\\\\\$\\\\left\\\\{ D4 : 8.0, \\\\  P70 : 12.0, \\\\  Q1 : 5.25, \\\\  Q3 : 12.0\\\\right\\\\}$ \\\\\\\\$\\\\left\\\\{ C.V : 0.53, \\\\  desv.tip : 4.92, \\\\  rango : 19, \\\\  var : 24.23\\\\right\\\\}$'"
            ]
          },
          "metadata": {
            "tags": []
          },
          "output_type": "display_data"
        },
        {
          "data": {
            "text/markdown": [
              "#### Ejercicio:"
            ],
            "text/plain": [
              "<IPython.core.display.Markdown object>"
            ]
          },
          "metadata": {
            "tags": []
          },
          "output_type": "display_data"
        },
        {
          "data": {
            "text/markdown": [
              "En un grupo de personas de 1º de Bachillerato hemos preguntado por el número medio de días que\n",
              "                    practican deporte al mes. Las respuestas han sido las siguientes:16 11 17 12 10 5 1 8 10 14 15 20 10 3 8 10 2 5 12 6 16 7 6 16 10 3 3 9 4 12. Realiza una tabla de frecuencias. Realiza un diagrama de barras. Calcular los parámetros de centralización. Calcular los parámetros de posición P70, Q1, Q3, D4. Calcular los parámetros de dispersión $\\to$ $\\begin{tabular}{rrrrrrrrr}\n",
              "\\hline\n",
              "   x\\_i &   f\\_i &   F\\_i &       h\\_i &         H\\_i &       \\%\\_i &      \\%A\\_i &   x\\_if\\_i &   x\\^{}2\\_if\\_i \\\\\n",
              "\\hline\n",
              "     1 &     1 &     1 & 0.0333333 &   0.0333333 &   3.33333 &   3.33333 &        1 &          1 \\\\\n",
              "     2 &     1 &     2 & 0.0333333 &   0.0666667 &   3.33333 &   6.66667 &        2 &          4 \\\\\n",
              "     3 &     3 &     5 & 0.1       &   0.166667  &  10       &  16.6667  &        9 &         27 \\\\\n",
              "     4 &     1 &     6 & 0.0333333 &   0.2       &   3.33333 &  20       &        4 &         16 \\\\\n",
              "     5 &     2 &     8 & 0.0666667 &   0.266667  &   6.66667 &  26.6667  &       10 &         50 \\\\\n",
              "     6 &     2 &    10 & 0.0666667 &   0.333333  &   6.66667 &  33.3333  &       12 &         72 \\\\\n",
              "     7 &     1 &    11 & 0.0333333 &   0.366667  &   3.33333 &  36.6667  &        7 &         49 \\\\\n",
              "     8 &     2 &    13 & 0.0666667 &   0.433333  &   6.66667 &  43.3333  &       16 &        128 \\\\\n",
              "     9 &     1 &    14 & 0.0333333 &   0.466667  &   3.33333 &  46.6667  &        9 &         81 \\\\\n",
              "    10 &     5 &    19 & 0.166667  &   0.633333  &  16.6667  &  63.3333  &       50 &        500 \\\\\n",
              "    11 &     1 &    20 & 0.0333333 &   0.666667  &   3.33333 &  66.6667  &       11 &        121 \\\\\n",
              "    12 &     3 &    23 & 0.1       &   0.766667  &  10       &  76.6667  &       36 &        432 \\\\\n",
              "    14 &     1 &    24 & 0.0333333 &   0.8       &   3.33333 &  80       &       14 &        196 \\\\\n",
              "    15 &     1 &    25 & 0.0333333 &   0.833333  &   3.33333 &  83.3333  &       15 &        225 \\\\\n",
              "    16 &     3 &    28 & 0.1       &   0.933333  &  10       &  93.3333  &       48 &        768 \\\\\n",
              "    17 &     1 &    29 & 0.0333333 &   0.966667  &   3.33333 &  96.6667  &       17 &        289 \\\\\n",
              "    20 &     1 &    30 & 0.0333333 &   1         &   3.33333 & 100       &       20 &        400 \\\\\n",
              "   nan &    30 &   nan & 1         & nan         & 100       & nan       &      281 &       3359 \\\\\n",
              "\\hline\n",
              "\\end{tabular}$\\\\ \\includegraphics[width=1\\columnwidth]{diagrama3} \\\\ $\\left\\{ Me : 10.0, \\  Mo : \\left( [10], \\  [5]\\right), \\  media : 9.37\\right\\}$ \\\\$\\left\\{ D4 : 8.0, \\  P70 : 12.0, \\  Q1 : 5.25, \\  Q3 : 12.0\\right\\}$ \\\\$\\left\\{ C.V : 0.53, \\  desv.tip : 4.92, \\  rango : 19, \\  var : 24.23\\right\\}$"
            ],
            "text/plain": [
              "<IPython.core.display.Markdown object>"
            ]
          },
          "metadata": {
            "tags": []
          },
          "output_type": "display_data"
        },
        {
          "name": "stdout",
          "output_type": "stream",
          "text": [
            "enunciado_latex: En un grupo de personas de 1º de Bachillerato hemos preguntado por el número medio de días que\n",
            "                    practican deporte al mes. Las respuestas han sido las siguientes:16 11 17 12 10 5 1 8 10 14 15 20 10 3 8 10 2 5 12 6 16 7 6 16 10 3 3 9 4 12. Realiza una tabla de frecuencias. Realiza un diagrama de barras. Calcular los parámetros de centralización. Calcular los parámetros de posición P70, Q1, Q3, D4. Calcular los parámetros de dispersión\n",
            "solucion_latex: $\\begin{tabular}{rrrrrrrrr}\n",
            "\\hline\n",
            "   x\\_i &   f\\_i &   F\\_i &       h\\_i &         H\\_i &       \\%\\_i &      \\%A\\_i &   x\\_if\\_i &   x\\^{}2\\_if\\_i \\\\\n",
            "\\hline\n",
            "     1 &     1 &     1 & 0.0333333 &   0.0333333 &   3.33333 &   3.33333 &        1 &          1 \\\\\n",
            "     2 &     1 &     2 & 0.0333333 &   0.0666667 &   3.33333 &   6.66667 &        2 &          4 \\\\\n",
            "     3 &     3 &     5 & 0.1       &   0.166667  &  10       &  16.6667  &        9 &         27 \\\\\n",
            "     4 &     1 &     6 & 0.0333333 &   0.2       &   3.33333 &  20       &        4 &         16 \\\\\n",
            "     5 &     2 &     8 & 0.0666667 &   0.266667  &   6.66667 &  26.6667  &       10 &         50 \\\\\n",
            "     6 &     2 &    10 & 0.0666667 &   0.333333  &   6.66667 &  33.3333  &       12 &         72 \\\\\n",
            "     7 &     1 &    11 & 0.0333333 &   0.366667  &   3.33333 &  36.6667  &        7 &         49 \\\\\n",
            "     8 &     2 &    13 & 0.0666667 &   0.433333  &   6.66667 &  43.3333  &       16 &        128 \\\\\n",
            "     9 &     1 &    14 & 0.0333333 &   0.466667  &   3.33333 &  46.6667  &        9 &         81 \\\\\n",
            "    10 &     5 &    19 & 0.166667  &   0.633333  &  16.6667  &  63.3333  &       50 &        500 \\\\\n",
            "    11 &     1 &    20 & 0.0333333 &   0.666667  &   3.33333 &  66.6667  &       11 &        121 \\\\\n",
            "    12 &     3 &    23 & 0.1       &   0.766667  &  10       &  76.6667  &       36 &        432 \\\\\n",
            "    14 &     1 &    24 & 0.0333333 &   0.8       &   3.33333 &  80       &       14 &        196 \\\\\n",
            "    15 &     1 &    25 & 0.0333333 &   0.833333  &   3.33333 &  83.3333  &       15 &        225 \\\\\n",
            "    16 &     3 &    28 & 0.1       &   0.933333  &  10       &  93.3333  &       48 &        768 \\\\\n",
            "    17 &     1 &    29 & 0.0333333 &   0.966667  &   3.33333 &  96.6667  &       17 &        289 \\\\\n",
            "    20 &     1 &    30 & 0.0333333 &   1         &   3.33333 & 100       &       20 &        400 \\\\\n",
            "   nan &    30 &   nan & 1         & nan         & 100       & nan       &      281 &       3359 \\\\\n",
            "\\hline\n",
            "\\end{tabular}$\\\\ \\includegraphics[width=1\\columnwidth]{diagrama3} \\\\ $\\left\\{ Me : 10.0, \\  Mo : \\left( [10], \\  [5]\\right), \\  media : 9.37\\right\\}$ \\\\$\\left\\{ D4 : 8.0, \\  P70 : 12.0, \\  Q1 : 5.25, \\  Q3 : 12.0\\right\\}$ \\\\$\\left\\{ C.V : 0.53, \\  desv.tip : 4.92, \\  rango : 19, \\  var : 24.23\\right\\}$\n"
          ]
        },
        {
          "data": {
            "image/png": "[encoded data removed]",
            "text/plain": [
              "<Figure size 432x288 with 1 Axes>"
            ]
          },
          "metadata": {
            "needs_background": "light",
            "tags": []
          },
          "output_type": "display_data"
        },
        {
          "data": {
            "image/png": "[encoded data removed]",
            "text/plain": [
              "<Figure size 432x288 with 1 Axes>"
            ]
          },
          "metadata": {
            "needs_background": "light",
            "tags": []
          },
          "output_type": "display_data"
        },
        {
          "data": {
            "text/html": [
              "<div>\n",
              "<style scoped>\n",
              "    .dataframe tbody tr th:only-of-type {\n",
              "        vertical-align: middle;\n",
              "    }\n",
              "\n",
              "    .dataframe tbody tr th {\n",
              "        vertical-align: top;\n",
              "    }\n",
              "\n",
              "    .dataframe thead th {\n",
              "        text-align: right;\n",
              "    }\n",
              "</style>\n",
              "<table border=\"1\" class=\"dataframe\">\n",
              "  <thead>\n",
              "    <tr style=\"text-align: right;\">\n",
              "      <th></th>\n",
              "      <th>x_i</th>\n",
              "      <th>f_i</th>\n",
              "      <th>F_i</th>\n",
              "      <th>h_i</th>\n",
              "      <th>H_i</th>\n",
              "      <th>%_i</th>\n",
              "      <th>%A_i</th>\n",
              "      <th>x_if_i</th>\n",
              "      <th>x^2_if_i</th>\n",
              "    </tr>\n",
              "  </thead>\n",
              "  <tbody>\n",
              "    <tr>\n",
              "      <th>0</th>\n",
              "      <td>1.0</td>\n",
              "      <td>2</td>\n",
              "      <td>2.0</td>\n",
              "      <td>0.10</td>\n",
              "      <td>0.10</td>\n",
              "      <td>10.0</td>\n",
              "      <td>10.0</td>\n",
              "      <td>2</td>\n",
              "      <td>2</td>\n",
              "    </tr>\n",
              "    <tr>\n",
              "      <th>1</th>\n",
              "      <td>2.0</td>\n",
              "      <td>3</td>\n",
              "      <td>5.0</td>\n",
              "      <td>0.15</td>\n",
              "      <td>0.25</td>\n",
              "      <td>15.0</td>\n",
              "      <td>25.0</td>\n",
              "      <td>6</td>\n",
              "      <td>12</td>\n",
              "    </tr>\n",
              "    <tr>\n",
              "      <th>2</th>\n",
              "      <td>3.0</td>\n",
              "      <td>4</td>\n",
              "      <td>9.0</td>\n",
              "      <td>0.20</td>\n",
              "      <td>0.45</td>\n",
              "      <td>20.0</td>\n",
              "      <td>45.0</td>\n",
              "      <td>12</td>\n",
              "      <td>36</td>\n",
              "    </tr>\n",
              "    <tr>\n",
              "      <th>3</th>\n",
              "      <td>4.0</td>\n",
              "      <td>4</td>\n",
              "      <td>13.0</td>\n",
              "      <td>0.20</td>\n",
              "      <td>0.65</td>\n",
              "      <td>20.0</td>\n",
              "      <td>65.0</td>\n",
              "      <td>16</td>\n",
              "      <td>64</td>\n",
              "    </tr>\n",
              "    <tr>\n",
              "      <th>4</th>\n",
              "      <td>5.0</td>\n",
              "      <td>3</td>\n",
              "      <td>16.0</td>\n",
              "      <td>0.15</td>\n",
              "      <td>0.80</td>\n",
              "      <td>15.0</td>\n",
              "      <td>80.0</td>\n",
              "      <td>15</td>\n",
              "      <td>75</td>\n",
              "    </tr>\n",
              "    <tr>\n",
              "      <th>5</th>\n",
              "      <td>6.0</td>\n",
              "      <td>1</td>\n",
              "      <td>17.0</td>\n",
              "      <td>0.05</td>\n",
              "      <td>0.85</td>\n",
              "      <td>5.0</td>\n",
              "      <td>85.0</td>\n",
              "      <td>6</td>\n",
              "      <td>36</td>\n",
              "    </tr>\n",
              "    <tr>\n",
              "      <th>6</th>\n",
              "      <td>7.0</td>\n",
              "      <td>2</td>\n",
              "      <td>19.0</td>\n",
              "      <td>0.10</td>\n",
              "      <td>0.95</td>\n",
              "      <td>10.0</td>\n",
              "      <td>95.0</td>\n",
              "      <td>14</td>\n",
              "      <td>98</td>\n",
              "    </tr>\n",
              "    <tr>\n",
              "      <th>7</th>\n",
              "      <td>8.0</td>\n",
              "      <td>1</td>\n",
              "      <td>20.0</td>\n",
              "      <td>0.05</td>\n",
              "      <td>1.00</td>\n",
              "      <td>5.0</td>\n",
              "      <td>100.0</td>\n",
              "      <td>8</td>\n",
              "      <td>64</td>\n",
              "    </tr>\n",
              "    <tr>\n",
              "      <th>8</th>\n",
              "      <td>NaN</td>\n",
              "      <td>20</td>\n",
              "      <td>NaN</td>\n",
              "      <td>1.00</td>\n",
              "      <td>NaN</td>\n",
              "      <td>100.0</td>\n",
              "      <td>NaN</td>\n",
              "      <td>79</td>\n",
              "      <td>387</td>\n",
              "    </tr>\n",
              "  </tbody>\n",
              "</table>\n",
              "</div>"
            ],
            "text/plain": [
              "   x_i  f_i   F_i   h_i   H_i    %_i   %A_i  x_if_i  x^2_if_i\n",
              "0  1.0    2   2.0  0.10  0.10   10.0   10.0       2         2\n",
              "1  2.0    3   5.0  0.15  0.25   15.0   25.0       6        12\n",
              "2  3.0    4   9.0  0.20  0.45   20.0   45.0      12        36\n",
              "3  4.0    4  13.0  0.20  0.65   20.0   65.0      16        64\n",
              "4  5.0    3  16.0  0.15  0.80   15.0   80.0      15        75\n",
              "5  6.0    1  17.0  0.05  0.85    5.0   85.0       6        36\n",
              "6  7.0    2  19.0  0.10  0.95   10.0   95.0      14        98\n",
              "7  8.0    1  20.0  0.05  1.00    5.0  100.0       8        64\n",
              "8  NaN   20   NaN  1.00   NaN  100.0    NaN      79       387"
            ]
          },
          "metadata": {
            "tags": []
          },
          "output_type": "display_data"
        },
        {
          "data": {
            "text/plain": [
              "'$\\\\begin{tabular}{rrrrrrrrr}\\n\\\\hline\\n   x\\\\_i &   f\\\\_i &   F\\\\_i &   h\\\\_i &    H\\\\_i &   \\\\%\\\\_i &   \\\\%A\\\\_i &   x\\\\_if\\\\_i &   x\\\\^{}2\\\\_if\\\\_i \\\\\\\\\\n\\\\hline\\n     1 &     2 &     2 &  0.1  &   0.1  &    10 &     10 &        2 &          2 \\\\\\\\\\n     2 &     3 &     5 &  0.15 &   0.25 &    15 &     25 &        6 &         12 \\\\\\\\\\n     3 &     4 &     9 &  0.2  &   0.45 &    20 &     45 &       12 &         36 \\\\\\\\\\n     4 &     4 &    13 &  0.2  &   0.65 &    20 &     65 &       16 &         64 \\\\\\\\\\n     5 &     3 &    16 &  0.15 &   0.8  &    15 &     80 &       15 &         75 \\\\\\\\\\n     6 &     1 &    17 &  0.05 &   0.85 &     5 &     85 &        6 &         36 \\\\\\\\\\n     7 &     2 &    19 &  0.1  &   0.95 &    10 &     95 &       14 &         98 \\\\\\\\\\n     8 &     1 &    20 &  0.05 &   1    &     5 &    100 &        8 &         64 \\\\\\\\\\n   nan &    20 &   nan &  1    & nan    &   100 &    nan &       79 &        387 \\\\\\\\\\n\\\\hline\\n\\\\end{tabular}$\\\\\\\\ \\\\includegraphics[width=1\\\\columnwidth]{diagrama4} \\\\\\\\ $\\\\left\\\\{ Me : 4.0, \\\\  Mo : \\\\left( [3], \\\\  [4]\\\\right), \\\\  media : 3.95\\\\right\\\\}$ \\\\\\\\$\\\\left\\\\{ D4 : 3.0, \\\\  P70 : 5.0, \\\\  Q1 : 2.75, \\\\  Q3 : 5.0\\\\right\\\\}$ \\\\\\\\$\\\\left\\\\{ C.V : 0.49, \\\\  desv.tip : 1.94, \\\\  rango : 7, \\\\  var : 3.75\\\\right\\\\}$'"
            ]
          },
          "metadata": {
            "tags": []
          },
          "output_type": "display_data"
        },
        {
          "data": {
            "text/markdown": [
              "#### Ejercicio:"
            ],
            "text/plain": [
              "<IPython.core.display.Markdown object>"
            ]
          },
          "metadata": {
            "tags": []
          },
          "output_type": "display_data"
        },
        {
          "data": {
            "text/markdown": [
              "Se realiza una encuesta a un grupo de 20 personas acerca del número \n",
              "                  de veces que acuden al cine a lo largo de un año, obteniéndose los siguientes resultados:4 2 6 8 3 4 3 5 7 1 3 4 5 7 2 2 1 3 4 5. Realiza una tabla de frecuencias. Realiza un diagrama de barras. Calcular los parámetros de centralización. Calcular los parámetros de posición P70, Q1, Q3, D4. Calcular los parámetros de dispersión $\\to$ $\\begin{tabular}{rrrrrrrrr}\n",
              "\\hline\n",
              "   x\\_i &   f\\_i &   F\\_i &   h\\_i &    H\\_i &   \\%\\_i &   \\%A\\_i &   x\\_if\\_i &   x\\^{}2\\_if\\_i \\\\\n",
              "\\hline\n",
              "     1 &     2 &     2 &  0.1  &   0.1  &    10 &     10 &        2 &          2 \\\\\n",
              "     2 &     3 &     5 &  0.15 &   0.25 &    15 &     25 &        6 &         12 \\\\\n",
              "     3 &     4 &     9 &  0.2  &   0.45 &    20 &     45 &       12 &         36 \\\\\n",
              "     4 &     4 &    13 &  0.2  &   0.65 &    20 &     65 &       16 &         64 \\\\\n",
              "     5 &     3 &    16 &  0.15 &   0.8  &    15 &     80 &       15 &         75 \\\\\n",
              "     6 &     1 &    17 &  0.05 &   0.85 &     5 &     85 &        6 &         36 \\\\\n",
              "     7 &     2 &    19 &  0.1  &   0.95 &    10 &     95 &       14 &         98 \\\\\n",
              "     8 &     1 &    20 &  0.05 &   1    &     5 &    100 &        8 &         64 \\\\\n",
              "   nan &    20 &   nan &  1    & nan    &   100 &    nan &       79 &        387 \\\\\n",
              "\\hline\n",
              "\\end{tabular}$\\\\ \\includegraphics[width=1\\columnwidth]{diagrama4} \\\\ $\\left\\{ Me : 4.0, \\  Mo : \\left( [3], \\  [4]\\right), \\  media : 3.95\\right\\}$ \\\\$\\left\\{ D4 : 3.0, \\  P70 : 5.0, \\  Q1 : 2.75, \\  Q3 : 5.0\\right\\}$ \\\\$\\left\\{ C.V : 0.49, \\  desv.tip : 1.94, \\  rango : 7, \\  var : 3.75\\right\\}$"
            ],
            "text/plain": [
              "<IPython.core.display.Markdown object>"
            ]
          },
          "metadata": {
            "tags": []
          },
          "output_type": "display_data"
        },
        {
          "name": "stdout",
          "output_type": "stream",
          "text": [
            "enunciado_latex: Se realiza una encuesta a un grupo de 20 personas acerca del número \n",
            "                  de veces que acuden al cine a lo largo de un año, obteniéndose los siguientes resultados:4 2 6 8 3 4 3 5 7 1 3 4 5 7 2 2 1 3 4 5. Realiza una tabla de frecuencias. Realiza un diagrama de barras. Calcular los parámetros de centralización. Calcular los parámetros de posición P70, Q1, Q3, D4. Calcular los parámetros de dispersión\n",
            "solucion_latex: $\\begin{tabular}{rrrrrrrrr}\n",
            "\\hline\n",
            "   x\\_i &   f\\_i &   F\\_i &   h\\_i &    H\\_i &   \\%\\_i &   \\%A\\_i &   x\\_if\\_i &   x\\^{}2\\_if\\_i \\\\\n",
            "\\hline\n",
            "     1 &     2 &     2 &  0.1  &   0.1  &    10 &     10 &        2 &          2 \\\\\n",
            "     2 &     3 &     5 &  0.15 &   0.25 &    15 &     25 &        6 &         12 \\\\\n",
            "     3 &     4 &     9 &  0.2  &   0.45 &    20 &     45 &       12 &         36 \\\\\n",
            "     4 &     4 &    13 &  0.2  &   0.65 &    20 &     65 &       16 &         64 \\\\\n",
            "     5 &     3 &    16 &  0.15 &   0.8  &    15 &     80 &       15 &         75 \\\\\n",
            "     6 &     1 &    17 &  0.05 &   0.85 &     5 &     85 &        6 &         36 \\\\\n",
            "     7 &     2 &    19 &  0.1  &   0.95 &    10 &     95 &       14 &         98 \\\\\n",
            "     8 &     1 &    20 &  0.05 &   1    &     5 &    100 &        8 &         64 \\\\\n",
            "   nan &    20 &   nan &  1    & nan    &   100 &    nan &       79 &        387 \\\\\n",
            "\\hline\n",
            "\\end{tabular}$\\\\ \\includegraphics[width=1\\columnwidth]{diagrama4} \\\\ $\\left\\{ Me : 4.0, \\  Mo : \\left( [3], \\  [4]\\right), \\  media : 3.95\\right\\}$ \\\\$\\left\\{ D4 : 3.0, \\  P70 : 5.0, \\  Q1 : 2.75, \\  Q3 : 5.0\\right\\}$ \\\\$\\left\\{ C.V : 0.49, \\  desv.tip : 1.94, \\  rango : 7, \\  var : 3.75\\right\\}$\n"
          ]
        }
      ]
    },
    {
      "cell_type": "code",
      "metadata": {
        "colab": {
          "base_uri": "https://localhost:8080/",
          "height": 597
        },
        "id": "0L9rDGMChSHG",
        "outputId": "aa1c9e13-0c3d-4878-8747-22e9369ec7cc"
      },
      "source": [
        "str1=\"\"\"16 11 17 12 10 5 1 8 10 14 15 20 10 3 8 10 2 5 12 6 16 7 6 16 10 3 3 9 4 12\"\"\"\n",
        "str2=r\"9 6 5 0 1 5 7 9 10 7 5 1 2 5 7 6 3 4 6 8 8 6 4 4 6 5 3 5 7 7 8 7 2 2\"\n",
        "datos = [texto_a_datos(str1),texto_a_datos(str2, tipo=float)]\n",
        "datos\n",
        "plt.boxplot(datos, vert=False, labels=['a','b'], manage_ticks=True)"
      ],
      "execution_count": null,
      "outputs": [
        {
          "name": "stderr",
          "output_type": "stream",
          "text": [
            "/usr/local/lib/python3.7/dist-packages/numpy/core/_asarray.py:83: VisibleDeprecationWarning: Creating an ndarray from ragged nested sequences (which is a list-or-tuple of lists-or-tuples-or ndarrays with different lengths or shapes) is deprecated. If you meant to do this, you must specify 'dtype=object' when creating the ndarray\n",
            "  return array(a, dtype, copy=False, order=order)\n"
          ]
        },
        {
          "data": {
            "text/plain": [
              "{'boxes': [<matplotlib.lines.Line2D at 0x7fd426deda10>,\n",
              "  <matplotlib.lines.Line2D at 0x7fd426e0a150>],\n",
              " 'caps': [<matplotlib.lines.Line2D at 0x7fd426dfba90>,\n",
              "  <matplotlib.lines.Line2D at 0x7fd426dfbfd0>,\n",
              "  <matplotlib.lines.Line2D at 0x7fd426e13190>,\n",
              "  <matplotlib.lines.Line2D at 0x7fd426e136d0>],\n",
              " 'fliers': [<matplotlib.lines.Line2D at 0x7fd426dd7e50>,\n",
              "  <matplotlib.lines.Line2D at 0x7fd426d9c190>],\n",
              " 'means': [],\n",
              " 'medians': [<matplotlib.lines.Line2D at 0x7fd426e01590>,\n",
              "  <matplotlib.lines.Line2D at 0x7fd426e13c10>],\n",
              " 'whiskers': [<matplotlib.lines.Line2D at 0x7fd426dedfd0>,\n",
              "  <matplotlib.lines.Line2D at 0x7fd426dfb550>,\n",
              "  <matplotlib.lines.Line2D at 0x7fd426e0a710>,\n",
              "  <matplotlib.lines.Line2D at 0x7fd426e0ac10>]}"
            ]
          },
          "execution_count": 5,
          "metadata": {
            "tags": []
          },
          "output_type": "execute_result"
        },
        {
          "data": {
            "image/png": "[encoded data removed]",
            "text/plain": [
              "<Figure size 432x288 with 1 Axes>"
            ]
          },
          "metadata": {
            "needs_background": "light",
            "tags": []
          },
          "output_type": "display_data"
        }
      ]
    },
    {
      "cell_type": "code",
      "metadata": {
        "id": "aFdpEmsthSHI"
      },
      "source": [
        "def analisis_agrupado(texto_ejercicio, str_datos, n_ejercicio='_', bin_size = 10 ):\n",
        "    texto_ejercicio = texto_ejercicio + str_datos\n",
        "    enunciado_latex = [r'Realiza una tabla de frecuencias',\n",
        "                   r'Realiza un diagrama de barras y un polígono de frecuencias',\n",
        "                   r'Calcular los parámetros de centralización',\n",
        "                   r'Calcular los parámetros de posición',\n",
        "                   r'Calcular los parámetros de dispersión'\n",
        "                ]\n",
        "    enunciado, solucion = [], []\n",
        "    enunciado = enunciado_latex\n",
        "\n",
        "    datos = np.loadtxt(str_datos.split())\n",
        "    datos = datos.astype(int)\n",
        "    \n",
        "    display(datos)\n",
        "    \n",
        "    #dfrec, dagr = np.histogram(datos,range=(5*int(datos.min()/5),5*(int(datos.max()/5)+1)), bins=round((5*(int(datos.max()/5)+1)-5*int(datos.min()/5))/bin_size))\n",
        "    dfrec, dagr = np.histogram(datos,range=(5*int(datos.min()/5),5*(int(datos.max()/5)+1)), bins = np.arange(5*int(datos.min()/5), 5*(int(datos.max()/5)+1)+bin_size,bin_size))\n",
        "\n",
        "    display(dfrec, dagr, )\n",
        "\n",
        "    display([dagr[i]+bin_size/2 for i in range(len(dagr)-1)])\n",
        "\n",
        "    marca = [dagr[i]+bin_size/2 for i in range(len(dagr)-1)]\n",
        "\n",
        "    datos2=[]\n",
        "    [datos2.append(np.ones(j)*marca[i]) for i, j in enumerate(dfrec) ]\n",
        "    #datos2.append([np.ones(j)*marca[i] for i, j in enumerate(dfrec) ])\n",
        "\n",
        "\n",
        "    datos2 = np.concatenate(datos2)\n",
        "    display(datos2)\n",
        "    datos = datos2\n",
        "    display(5*int(datos.min()/5),5*(int(datos.max()/5)+1),int((5*(int(datos.max()/5)+1)-5*int(datos.min()/5))/bin_size))\n",
        "\n",
        "    #display(np.array(datos2))\n",
        "\n",
        "    #x_i, f_i, F_i, r_i  = np.unique(datos),np.bincount(datos), cumfreq(datos, numbins=len(np.unique(datos)))[0].astype(int), np.multiply(relfreq(datos, numbins=len(np.unique(datos)))[0],100)\n",
        "    tabla = pd.DataFrame({'x_i':np.unique(datos), 'f_i':np.unique(datos, return_counts=True)[1], 'F_i':np.unique(datos, return_counts=True)[1].cumsum(), 'r_i':np.unique(datos, return_counts=True)[1]/len(datos), 'R_i':(np.unique(datos, return_counts=True)[1]/len(datos)).cumsum(), '%_i':np.unique(datos, return_counts=True)[1]*100/len(datos), '%A_i':(np.unique(datos, return_counts=True)[1]*100/len(datos)).cumsum()}).set_index('x_i')\n",
        "    solucion.append(tabulate(tabla, headers=\"keys\", tablefmt=\"latex\"))\n",
        "\n",
        "    d = np.diff(np.unique(datos)).min()\n",
        "    left_of_first_bin = datos.min() - float(d)/2\n",
        "    right_of_last_bin = datos.max() + float(d)/2\n",
        "    plt.clf()\n",
        "    plt.hist(datos, np.arange(left_of_first_bin, right_of_last_bin + d, d), rwidth=0.9, cumulative = False)\n",
        "    plt.title(\"Diagrama \"+n_ejercicio)\n",
        "    plt.savefig(\"../img/\"+n_ejercicio)\n",
        "\n",
        "    solucion.append(r\"\\\\ \\includegraphics[width=1\\columnwidth]{%s}\" % n_ejercicio)\n",
        "\n",
        "    solucion.append({\"media\":datos.mean(), \"mediana\":np.percentile(datos,50), \"moda\":stats.mode(datos)})\n",
        "    solucion.append({\"Q1\":np.percentile(datos,25),\"Q3\":np.percentile(datos,75)})\n",
        "    solucion.append({\"rango\":np.amax(datos)-np.amin(datos), \"varianza\": np.var(datos), \"desviación típica\":sqrt(np.var(datos)), \"coeficiente variación\": sqrt(np.var(datos))/abs(np.mean(datos))})\n",
        "    display(tabla, solucion[2] , solucion[3], solucion[4])\n",
        "    return  texto_ejercicio, enunciado_latex, enunciado, solucion, tabla, n_ejercicio"
      ],
      "execution_count": null,
      "outputs": []
    },
    {
      "cell_type": "code",
      "metadata": {
        "colab": {
          "base_uri": "https://localhost:8080/",
          "height": 594
        },
        "id": "g3RdX80ahSHL",
        "outputId": "27654d0c-40f7-4d42-a89b-da6c259952f2"
      },
      "source": [
        "# str1=\"\"\"16 11 17 12 10 5 1 8 10 14 15 20 10 3 8 10 2 5 12 6 16 7 6 16 10 3 3 9 4 12\"\"\"\n",
        "str1=\"\"\"168\n",
        "167\n",
        "178\n",
        "162\n",
        "160\n",
        "161\n",
        "170\n",
        "165\n",
        "160\n",
        "168\n",
        "166\n",
        "165\n",
        "165\n",
        "162\n",
        "165\n",
        "173\n",
        "167\n",
        "158\n",
        "158\n",
        "163\n",
        "154\n",
        "166\n",
        "150\n",
        "164\n",
        "175\n",
        "149\n",
        "163\n",
        "156\n",
        "163\n",
        "163\n",
        "167\n",
        "169\n",
        "175\n",
        "160\n",
        "171\n",
        "174\n",
        "165\n",
        "159\n",
        "164\n",
        "170\"\"\"\n",
        "datos=texto_a_datos(str1)\n",
        "extinf=148.5\n",
        "extsup=178.5\n",
        "numbin= 6\n",
        "\n",
        "binsize=(extsup-extinf)/numbin\n",
        "dfrec, dagr = np.histogram(datos, bins = np.arange(extinf, extsup+1,binsize))\n",
        "display(dfrec, dagr)\n",
        "marca = [dagr[i]+binsize/2 for i in range(len(dagr)-1)]\n",
        "display(marca)\n",
        "\n",
        "datos2=np.concatenate([np.ones(j)*marca[i] for i, j in enumerate(dfrec)])\n",
        "datos2\n",
        "datos_a_tabla(datos2)\n",
        "\n",
        "intervalos=[str(dagr[i])+\"-\"+str(dagr[i+1]) for i in range(len(dagr)-1)]\n",
        "intervalos.append(np.nan)\n",
        "tabla=pd.concat([pd.DataFrame({'intervalos':intervalos}),datos_a_tabla(datos2)], axis=1)\n",
        "display(tabla)\n",
        "\n",
        "# diagrama_barras(datos2)\n",
        "plt.hist(datos2 , bins=numbin, range=(extinf,extsup), rwidth=0.95)\n",
        "display(np.percentile(datos2,95))\n",
        "\n"
      ],
      "execution_count": null,
      "outputs": [
        {
          "data": {
            "text/plain": [
              "array([ 2,  4, 11, 14,  5,  4])"
            ]
          },
          "metadata": {},
          "output_type": "display_data"
        },
        {
          "data": {
            "text/plain": [
              "array([148.5, 153.5, 158.5, 163.5, 168.5, 173.5, 178.5])"
            ]
          },
          "metadata": {},
          "output_type": "display_data"
        },
        {
          "data": {
            "image/png": "[encoded data removed]",
            "text/latex": [
              "$\\displaystyle \\left[ 151.0, \\  156.0, \\  161.0, \\  166.0, \\  171.0, \\  176.0\\right]$"
            ],
            "text/plain": [
              "[151.0, 156.0, 161.0, 166.0, 171.0, 176.0]"
            ]
          },
          "metadata": {},
          "output_type": "display_data"
        },
        {
          "data": {
            "text/html": [
              "<div>\n",
              "<style scoped>\n",
              "    .dataframe tbody tr th:only-of-type {\n",
              "        vertical-align: middle;\n",
              "    }\n",
              "\n",
              "    .dataframe tbody tr th {\n",
              "        vertical-align: top;\n",
              "    }\n",
              "\n",
              "    .dataframe thead th {\n",
              "        text-align: right;\n",
              "    }\n",
              "</style>\n",
              "<table border=\"1\" class=\"dataframe\">\n",
              "  <thead>\n",
              "    <tr style=\"text-align: right;\">\n",
              "      <th></th>\n",
              "      <th>intervalos</th>\n",
              "      <th>x_i</th>\n",
              "      <th>f_i</th>\n",
              "      <th>F_i</th>\n",
              "      <th>h_i</th>\n",
              "      <th>H_i</th>\n",
              "      <th>%_i</th>\n",
              "      <th>%A_i</th>\n",
              "      <th>x_if_i</th>\n",
              "      <th>x^2_if_i</th>\n",
              "    </tr>\n",
              "  </thead>\n",
              "  <tbody>\n",
              "    <tr>\n",
              "      <th>0</th>\n",
              "      <td>148.5-153.5</td>\n",
              "      <td>151.0</td>\n",
              "      <td>2</td>\n",
              "      <td>2.0</td>\n",
              "      <td>0.050</td>\n",
              "      <td>0.050</td>\n",
              "      <td>5.0</td>\n",
              "      <td>5.0</td>\n",
              "      <td>302.0</td>\n",
              "      <td>45602.0</td>\n",
              "    </tr>\n",
              "    <tr>\n",
              "      <th>1</th>\n",
              "      <td>153.5-158.5</td>\n",
              "      <td>156.0</td>\n",
              "      <td>4</td>\n",
              "      <td>6.0</td>\n",
              "      <td>0.100</td>\n",
              "      <td>0.150</td>\n",
              "      <td>10.0</td>\n",
              "      <td>15.0</td>\n",
              "      <td>624.0</td>\n",
              "      <td>97344.0</td>\n",
              "    </tr>\n",
              "    <tr>\n",
              "      <th>2</th>\n",
              "      <td>158.5-163.5</td>\n",
              "      <td>161.0</td>\n",
              "      <td>11</td>\n",
              "      <td>17.0</td>\n",
              "      <td>0.275</td>\n",
              "      <td>0.425</td>\n",
              "      <td>27.5</td>\n",
              "      <td>42.5</td>\n",
              "      <td>1771.0</td>\n",
              "      <td>285131.0</td>\n",
              "    </tr>\n",
              "    <tr>\n",
              "      <th>3</th>\n",
              "      <td>163.5-168.5</td>\n",
              "      <td>166.0</td>\n",
              "      <td>14</td>\n",
              "      <td>31.0</td>\n",
              "      <td>0.350</td>\n",
              "      <td>0.775</td>\n",
              "      <td>35.0</td>\n",
              "      <td>77.5</td>\n",
              "      <td>2324.0</td>\n",
              "      <td>385784.0</td>\n",
              "    </tr>\n",
              "    <tr>\n",
              "      <th>4</th>\n",
              "      <td>168.5-173.5</td>\n",
              "      <td>171.0</td>\n",
              "      <td>5</td>\n",
              "      <td>36.0</td>\n",
              "      <td>0.125</td>\n",
              "      <td>0.900</td>\n",
              "      <td>12.5</td>\n",
              "      <td>90.0</td>\n",
              "      <td>855.0</td>\n",
              "      <td>146205.0</td>\n",
              "    </tr>\n",
              "    <tr>\n",
              "      <th>5</th>\n",
              "      <td>173.5-178.5</td>\n",
              "      <td>176.0</td>\n",
              "      <td>4</td>\n",
              "      <td>40.0</td>\n",
              "      <td>0.100</td>\n",
              "      <td>1.000</td>\n",
              "      <td>10.0</td>\n",
              "      <td>100.0</td>\n",
              "      <td>704.0</td>\n",
              "      <td>123904.0</td>\n",
              "    </tr>\n",
              "    <tr>\n",
              "      <th>6</th>\n",
              "      <td>NaN</td>\n",
              "      <td>NaN</td>\n",
              "      <td>40</td>\n",
              "      <td>NaN</td>\n",
              "      <td>1.000</td>\n",
              "      <td>NaN</td>\n",
              "      <td>100.0</td>\n",
              "      <td>NaN</td>\n",
              "      <td>6580.0</td>\n",
              "      <td>1083970.0</td>\n",
              "    </tr>\n",
              "  </tbody>\n",
              "</table>\n",
              "</div>"
            ],
            "text/plain": [
              "    intervalos    x_i  f_i   F_i    h_i    H_i    %_i   %A_i  x_if_i  \\\n",
              "0  148.5-153.5  151.0    2   2.0  0.050  0.050    5.0    5.0   302.0   \n",
              "1  153.5-158.5  156.0    4   6.0  0.100  0.150   10.0   15.0   624.0   \n",
              "2  158.5-163.5  161.0   11  17.0  0.275  0.425   27.5   42.5  1771.0   \n",
              "3  163.5-168.5  166.0   14  31.0  0.350  0.775   35.0   77.5  2324.0   \n",
              "4  168.5-173.5  171.0    5  36.0  0.125  0.900   12.5   90.0   855.0   \n",
              "5  173.5-178.5  176.0    4  40.0  0.100  1.000   10.0  100.0   704.0   \n",
              "6          NaN    NaN   40   NaN  1.000    NaN  100.0    NaN  6580.0   \n",
              "\n",
              "    x^2_if_i  \n",
              "0    45602.0  \n",
              "1    97344.0  \n",
              "2   285131.0  \n",
              "3   385784.0  \n",
              "4   146205.0  \n",
              "5   123904.0  \n",
              "6  1083970.0  "
            ]
          },
          "metadata": {},
          "output_type": "display_data"
        },
        {
          "data": {
            "image/png": "[encoded data removed]",
            "text/latex": [
              "$\\displaystyle 176.0$"
            ],
            "text/plain": [
              "176.0"
            ]
          },
          "metadata": {},
          "output_type": "display_data"
        },
        {
          "data": {
            "image/png": "[encoded data removed]",
            "text/plain": [
              "<Figure size 432x288 with 1 Axes>"
            ]
          },
          "metadata": {
            "needs_background": "light"
          },
          "output_type": "display_data"
        }
      ]
    },
    {
      "cell_type": "code",
      "metadata": {
        "id": "s-OX1XHEhSHM"
      },
      "source": [
        "import numpy as np\n",
        "import matplotlib.pyplot as plt\n",
        "\n",
        "%matplotlib inline"
      ],
      "execution_count": null,
      "outputs": []
    },
    {
      "cell_type": "code",
      "metadata": {
        "id": "_gyLD5FdhSHP"
      },
      "source": [
        "# Funciones\n",
        "\n",
        "def dibujar_ejes(size=10) :\n",
        "#     xs = [0, 2, -3, -1.5]\n",
        "#     ys = [0, 3, 1, -2.5]\n",
        "#     colors = ['m', 'g', 'r', 'b']\n",
        "\n",
        "    # Select length of axes and the space between tick labels\n",
        "    xmin, xmax, ymin, ymax = -size, size , -size, size\n",
        "    ticks_frequency = 1\n",
        "    \n",
        "\n",
        "    # Plot points\n",
        "    fig, ax = plt.subplots(figsize=(10, 10))\n",
        "#     ax.scatter(xs, ys, c=colors)\n",
        "#     # Draw lines connecting points to axes\n",
        "#     for x, y, c in zip(xs, ys, colors):\n",
        "#         ax.plot([x, x], [0, y], c=c, ls='--', lw=1.5, alpha=0.5)\n",
        "#         ax.plot([0, x], [y, y], c=c, ls='--', lw=1.5, alpha=0.5)\n",
        "\n",
        "    # Set identical scales for both axes\n",
        "    ax.set(xlim=(xmin-1, xmax+1), ylim=(ymin-1, ymax+1), aspect='equal')\n",
        "\n",
        "    # Set bottom and left spines as x and y axes of coordinate system\n",
        "    ax.spines['bottom'].set_position('zero')\n",
        "    ax.spines['left'].set_position('zero')\n",
        "\n",
        "    # Remove top and right spines\n",
        "    ax.spines['top'].set_visible(False)\n",
        "    ax.spines['right'].set_visible(False)\n",
        "\n",
        "    # Create 'x' and 'y' labels placed at the end of the axes\n",
        "    ax.set_xlabel('x', size=14, labelpad=-24, x=1.03)\n",
        "    ax.set_ylabel('y', size=14, labelpad=-21, y=1.02, rotation=0)\n",
        "\n",
        "    # Create custom major ticks to determine position of tick labels\n",
        "    x_ticks = np.arange(xmin, xmax+1, ticks_frequency)\n",
        "    y_ticks = np.arange(ymin, ymax+1, ticks_frequency)\n",
        "    ax.set_xticks(x_ticks[x_ticks != 0])\n",
        "    ax.set_yticks(y_ticks[y_ticks != 0])\n",
        "\n",
        "    # Create minor ticks placed at each integer to enable drawing of minor grid\n",
        "    # lines: note that this has no effect in this example with ticks_frequency=1\n",
        "    ax.set_xticks(np.arange(xmin, xmax+1), minor=True)\n",
        "    ax.set_yticks(np.arange(ymin, ymax+1), minor=True)\n",
        "\n",
        "    # Draw major and minor grid lines\n",
        "    ax.grid(which='both', color='grey', linewidth=1, linestyle='-', alpha=0.2)\n",
        "\n",
        "    return fig, ax\n",
        "    \n",
        "\n",
        "\n",
        "def añadir_vectores(X,Y,U,V,T,fig,ax, clr='red') :\n",
        "#    puedes pasar listas o enteros. (X,Y) punto de origen, (u,v) vector\n",
        "    ax.quiver(X,Y,U,V, angles='xy', scale_units='xy', scale=1, width=0.004, headwidth=3., headlength=4., color=clr)\n",
        "    if type(X) == list :\n",
        "        for i in range(len(X)):\n",
        "            plt.text(X[i]+U[i]/2+0.75,Y[i]+V[i]/2-0.75,r\"$\\overrightarrow{\"+T[i]+r\"}$\",c=clr)\n",
        "    else :\n",
        "        plt.text(X+U/2+0.75,Y+V/2-0.75,r\"$\\overrightarrow{\"+T+r\"}$\",c=clr)\n",
        "#     plt.show()\n",
        "#     fig.savefig(\"a.png\")\n",
        "    \n",
        "\n"
      ],
      "execution_count": null,
      "outputs": []
    },
    {
      "cell_type": "code",
      "metadata": {
        "id": "hLRxnDmHhSHa",
        "outputId": "59810206-eb59-4287-b467-f80bbb2c5171"
      },
      "source": [
        "# Ejemplo de uso\n",
        "\n",
        "fig, ax =dibujar_ejes(20)    \n",
        "\n",
        "# datos en listas\n",
        "X,Y,U,V,T = [-1,-5],[6,1],[1,8],[-4,2],['u','v']   \n",
        "añadir_vectores(X,Y,U,V,T,fig,ax)\n",
        "añadir_vectores([10],[10],[-5],[8],['s'],fig,ax)\n",
        "# datos en enteros\n",
        "añadir_vectores(-10,10,3,2,'t',fig,ax,'b')\n",
        "plt.show()"
      ],
      "execution_count": null,
      "outputs": [
        {
          "data": {
            "image/png": "[encoded data removed]",
            "text/plain": [
              "<Figure size 720x720 with 1 Axes>"
            ]
          },
          "metadata": {
            "needs_background": "light",
            "tags": []
          },
          "output_type": "display_data"
        }
      ]
    },
    {
      "cell_type": "code",
      "metadata": {
        "id": "yCLzhBpVhSHc",
        "outputId": "fd5c7039-4e0e-4743-82a5-0ca228258ab1"
      },
      "source": [
        "# Representar y calcular vectores suma\n",
        "\n",
        "texto_ejercicio = r'Representa y calcula las coordenadas de $\\overrightarrow{u}+\\overrightarrow{v}$'\n",
        "\n",
        "display(md(\"**\"+texto_ejercicio+\"**\"))\n",
        "\n",
        "datos = [       [[1,2,3,4, 'u'],[-10,-5,6,-8, 'v']],                    \n",
        "    \n",
        "                    ]\n",
        "\n",
        "\n",
        "for d in datos :\n",
        "    display(d[0][4])\n",
        "    fig, ax =dibujar_ejes(20)\n",
        "    for v in d:\n",
        "        X, Y, U, V, T = v\n",
        "        añadir_vectores(X, Y, U, V, T,fig,ax,'b')\n",
        "    sol=[x + y for x, y in zip(d[0],d[1])][-3:-1]\n",
        "    U,V=sol\n",
        "    añadir_vectores(0, 0, U, V, 'u+v',fig,ax,'r')\n",
        "    display(Point(sol))\n",
        "        \n",
        "    \n",
        "#     p1.save('sistema_ine_ex{}.png'.format(j))\n",
        "#     p1.show()\n",
        "#     mostrar_ejercicio(r\"$\"+sist_latex+r\"$\",r\"\"\"\\scalebox{.99}{\\includegraphics[width=1\\columnwidth]{sistema_ine_ex\"\"\"+latex(j)+r\"\"\".png}}\"\"\")\n",
        "#     lista.append([r\"$\"+sist_latex+r\"$\",r\"\"\"\\scalebox{.99}{\\includegraphics[width=1\\columnwidth]{sistema_ine_ex\"\"\"+latex(j)+r\"\"\".png}}\"\"\"])\n",
        "    \n",
        "# print(latex_exam('Resuelve el siguiente sistema de inecuaciones con dos incógnitas:',lista))"
      ],
      "execution_count": null,
      "outputs": [
        {
          "data": {
            "text/markdown": [
              "**Representa y calcula las coordenadas de $\\overrightarrow{u}+\\overrightarrow{v}$**"
            ],
            "text/plain": [
              "<IPython.core.display.Markdown object>"
            ]
          },
          "metadata": {
            "tags": []
          },
          "output_type": "display_data"
        },
        {
          "data": {
            "text/plain": [
              "'u'"
            ]
          },
          "metadata": {
            "tags": []
          },
          "output_type": "display_data"
        },
        {
          "data": {
            "image/png": "[encoded data removed]",
            "text/latex": [
              "$\\displaystyle Point2D\\left(9, -4\\right)$"
            ],
            "text/plain": [
              "Point2D(9, -4)"
            ]
          },
          "metadata": {
            "tags": []
          },
          "output_type": "display_data"
        },
        {
          "data": {
            "image/png": "[encoded data removed]",
            "text/plain": [
              "<Figure size 720x720 with 1 Axes>"
            ]
          },
          "metadata": {
            "needs_background": "light",
            "tags": []
          },
          "output_type": "display_data"
        }
      ]
    },
    {
      "cell_type": "code",
      "metadata": {
        "id": "gJwMWK15hSHd",
        "outputId": "10849352-a7d7-46f6-bf71-024876f32d49"
      },
      "source": [
        "# Representar y calcular vectores combinaciones lineales\n",
        "\n",
        "texto_ejercicio = r'Representa y calcula las coordenadas de las siguientes combinaciones de $\\overrightarrow{u}$ y $\\overrightarrow{v}$: '\n",
        "\n",
        "display(md(\"**\"+texto_ejercicio+\"**\"))\n",
        "\n",
        "datos = [       [[1,2,3,4, 'u'],[-10,-5,6,-8, 'v'],[(1,1),(1,2),(-2,0)]], \n",
        "         [[1,2,-3,4, 'u'],[-10,-5,4,3, 'v'],[(1,1),(1,-1),(1,2),(2,-1),(-2,0)]],   \n",
        "    \n",
        "                    ]\n",
        "question=texto_ejercicio\n",
        "parts=[]\n",
        "\n",
        "for n, d in enumerate(datos) :\n",
        "#     display(d[0][4])\n",
        "\n",
        "    fig, ax =dibujar_ejes(20)\n",
        "    for v in d[:-1]:\n",
        "        X, Y, U, V, T = v\n",
        "        añadir_vectores(X, Y, U, V, T,fig,ax,'b')\n",
        "    plt.savefig('../img/comb_lineal_'+latex(n)+'.png')\n",
        "#     sol=[x + y for x, y in zip(d[0],d[1])][-3:-1]\n",
        "#     U,V=sol\n",
        "#     añadir_vectores(0, 0, U, V, 'u+v',fig,ax,'r')\n",
        "\n",
        "    enun = \"$\"+r\"$, $\". join([latex(c[0]*x+c[1]*y).replace('x',r'\\overrightarrow{u}').replace('y',r'\\overrightarrow{v}') for c in d[-1]])+\"$\"\n",
        "    enun += r\". Siendo $\\overrightarrow{u}$ y $\\overrightarrow{v}$: \\\\\"\n",
        "    enun += r\"\\scalebox{.65}{\\includegraphics[width=1\\columnwidth]{comb_lineal_\"+latex(n)+r\".png}} \\\\ \"\n",
        "\n",
        "    display(enun)\n",
        "    puntos_solu=[]\n",
        "    for c in d[-1]:\n",
        "#         display([c[0]*x + c[1]*y for x, y in zip(d[0],d[1])][-3:-1])\n",
        "        U,V = [c[0]*x + c[1]*y for x, y in zip(d[0],d[1])][-3:-1]\n",
        "        añadir_vectores(0,0,U,V,latex(c[0]*x+c[1]*y).replace('x','u').replace('y','v'),fig,ax,'g')\n",
        "        display(Point(U,V))\n",
        "        puntos_solu.append(Point(U,V))\n",
        "    plt.savefig('../img/comb_lineal_sol_'+latex(n)+'.png')\n",
        "    sol = r\"\\scalebox{.65}{\\includegraphics[width=1\\columnwidth]{comb_lineal_sol_\"+latex(n)+r\".png}}\"\n",
        "    sol += r\"\\\\ $\"+\"$, $\".join(map(latex,puntos_solu))+\"$\"\n",
        "    mostrar_ejercicio(enun, sol) \n",
        "    parts.append([enun, sol])         \n",
        "\n",
        "print(latex_exam(question, parts))\n"
      ],
      "execution_count": null,
      "outputs": [
        {
          "data": {
            "text/markdown": [
              "**Representa y calcula las coordenadas de las siguientes combinaciones de $\\overrightarrow{u}$ y $\\overrightarrow{v}$: **"
            ],
            "text/plain": [
              "<IPython.core.display.Markdown object>"
            ]
          },
          "metadata": {
            "tags": []
          },
          "output_type": "display_data"
        },
        {
          "data": {
            "text/plain": [
              "'$\\\\overrightarrow{u} + \\\\overrightarrow{v}$, $\\\\overrightarrow{u} + 2 \\\\overrightarrow{v}$, $- 2 \\\\overrightarrow{u}$. Siendo $\\\\overrightarrow{u}$ y $\\\\overrightarrow{v}$: \\\\\\\\\\\\scalebox{.65}{\\\\includegraphics[width=1\\\\columnwidth]{comb_lineal_0.png}} \\\\\\\\ '"
            ]
          },
          "metadata": {
            "tags": []
          },
          "output_type": "display_data"
        },
        {
          "data": {
            "image/png": "[encoded data removed]",
            "text/latex": [
              "$\\displaystyle Point2D\\left(9, -4\\right)$"
            ],
            "text/plain": [
              "Point2D(9, -4)"
            ]
          },
          "metadata": {
            "tags": []
          },
          "output_type": "display_data"
        },
        {
          "data": {
            "image/png": "[encoded data removed]",
            "text/latex": [
              "$\\displaystyle Point2D\\left(15, -12\\right)$"
            ],
            "text/plain": [
              "Point2D(15, -12)"
            ]
          },
          "metadata": {
            "tags": []
          },
          "output_type": "display_data"
        },
        {
          "data": {
            "image/png": "[encoded data removed]",
            "text/latex": [
              "$\\displaystyle Point2D\\left(-6, -8\\right)$"
            ],
            "text/plain": [
              "Point2D(-6, -8)"
            ]
          },
          "metadata": {
            "tags": []
          },
          "output_type": "display_data"
        },
        {
          "data": {
            "text/markdown": [
              "#### Ejercicio:"
            ],
            "text/plain": [
              "<IPython.core.display.Markdown object>"
            ]
          },
          "metadata": {
            "tags": []
          },
          "output_type": "display_data"
        },
        {
          "data": {
            "text/markdown": [
              "$\\overrightarrow{u} + \\overrightarrow{v}$, $\\overrightarrow{u} + 2 \\overrightarrow{v}$, $- 2 \\overrightarrow{u}$. Siendo $\\overrightarrow{u}$ y $\\overrightarrow{v}$: \\\\\\scalebox{.65}{\\includegraphics[width=1\\columnwidth]{comb_lineal_0.png}} \\\\  $\\to$ \\scalebox{.65}{\\includegraphics[width=1\\columnwidth]{comb_lineal_sol_0.png}}\\\\ $Point2D\\left(9, -4\\right)$, $Point2D\\left(15, -12\\right)$, $Point2D\\left(-6, -8\\right)$"
            ],
            "text/plain": [
              "<IPython.core.display.Markdown object>"
            ]
          },
          "metadata": {
            "tags": []
          },
          "output_type": "display_data"
        },
        {
          "name": "stdout",
          "output_type": "stream",
          "text": [
            "enunciado_latex: $\\overrightarrow{u} + \\overrightarrow{v}$, $\\overrightarrow{u} + 2 \\overrightarrow{v}$, $- 2 \\overrightarrow{u}$. Siendo $\\overrightarrow{u}$ y $\\overrightarrow{v}$: \\\\\\scalebox{.65}{\\includegraphics[width=1\\columnwidth]{comb_lineal_0.png}} \\\\ \n",
            "solucion_latex: \\scalebox{.65}{\\includegraphics[width=1\\columnwidth]{comb_lineal_sol_0.png}}\\\\ $Point2D\\left(9, -4\\right)$, $Point2D\\left(15, -12\\right)$, $Point2D\\left(-6, -8\\right)$\n"
          ]
        },
        {
          "data": {
            "text/plain": [
              "'$\\\\overrightarrow{u} + \\\\overrightarrow{v}$, $\\\\overrightarrow{u} - \\\\overrightarrow{v}$, $\\\\overrightarrow{u} + 2 \\\\overrightarrow{v}$, $2 \\\\overrightarrow{u} - \\\\overrightarrow{v}$, $- 2 \\\\overrightarrow{u}$. Siendo $\\\\overrightarrow{u}$ y $\\\\overrightarrow{v}$: \\\\\\\\\\\\scalebox{.65}{\\\\includegraphics[width=1\\\\columnwidth]{comb_lineal_1.png}} \\\\\\\\ '"
            ]
          },
          "metadata": {
            "tags": []
          },
          "output_type": "display_data"
        },
        {
          "data": {
            "image/png": "[encoded data removed]",
            "text/latex": [
              "$\\displaystyle Point2D\\left(1, 7\\right)$"
            ],
            "text/plain": [
              "Point2D(1, 7)"
            ]
          },
          "metadata": {
            "tags": []
          },
          "output_type": "display_data"
        },
        {
          "data": {
            "image/png": "[encoded data removed]",
            "text/latex": [
              "$\\displaystyle Point2D\\left(-7, 1\\right)$"
            ],
            "text/plain": [
              "Point2D(-7, 1)"
            ]
          },
          "metadata": {
            "tags": []
          },
          "output_type": "display_data"
        },
        {
          "data": {
            "image/png": "[encoded data removed]",
            "text/latex": [
              "$\\displaystyle Point2D\\left(5, 10\\right)$"
            ],
            "text/plain": [
              "Point2D(5, 10)"
            ]
          },
          "metadata": {
            "tags": []
          },
          "output_type": "display_data"
        },
        {
          "data": {
            "image/png": "[encoded data removed]",
            "text/latex": [
              "$\\displaystyle Point2D\\left(-10, 5\\right)$"
            ],
            "text/plain": [
              "Point2D(-10, 5)"
            ]
          },
          "metadata": {
            "tags": []
          },
          "output_type": "display_data"
        },
        {
          "data": {
            "image/png": "[encoded data removed]",
            "text/latex": [
              "$\\displaystyle Point2D\\left(6, -8\\right)$"
            ],
            "text/plain": [
              "Point2D(6, -8)"
            ]
          },
          "metadata": {
            "tags": []
          },
          "output_type": "display_data"
        },
        {
          "data": {
            "text/markdown": [
              "#### Ejercicio:"
            ],
            "text/plain": [
              "<IPython.core.display.Markdown object>"
            ]
          },
          "metadata": {
            "tags": []
          },
          "output_type": "display_data"
        },
        {
          "data": {
            "text/markdown": [
              "$\\overrightarrow{u} + \\overrightarrow{v}$, $\\overrightarrow{u} - \\overrightarrow{v}$, $\\overrightarrow{u} + 2 \\overrightarrow{v}$, $2 \\overrightarrow{u} - \\overrightarrow{v}$, $- 2 \\overrightarrow{u}$. Siendo $\\overrightarrow{u}$ y $\\overrightarrow{v}$: \\\\\\scalebox{.65}{\\includegraphics[width=1\\columnwidth]{comb_lineal_1.png}} \\\\  $\\to$ \\scalebox{.65}{\\includegraphics[width=1\\columnwidth]{comb_lineal_sol_1.png}}\\\\ $Point2D\\left(1, 7\\right)$, $Point2D\\left(-7, 1\\right)$, $Point2D\\left(5, 10\\right)$, $Point2D\\left(-10, 5\\right)$, $Point2D\\left(6, -8\\right)$"
            ],
            "text/plain": [
              "<IPython.core.display.Markdown object>"
            ]
          },
          "metadata": {
            "tags": []
          },
          "output_type": "display_data"
        },
        {
          "name": "stdout",
          "output_type": "stream",
          "text": [
            "enunciado_latex: $\\overrightarrow{u} + \\overrightarrow{v}$, $\\overrightarrow{u} - \\overrightarrow{v}$, $\\overrightarrow{u} + 2 \\overrightarrow{v}$, $2 \\overrightarrow{u} - \\overrightarrow{v}$, $- 2 \\overrightarrow{u}$. Siendo $\\overrightarrow{u}$ y $\\overrightarrow{v}$: \\\\\\scalebox{.65}{\\includegraphics[width=1\\columnwidth]{comb_lineal_1.png}} \\\\ \n",
            "solucion_latex: \\scalebox{.65}{\\includegraphics[width=1\\columnwidth]{comb_lineal_sol_1.png}}\\\\ $Point2D\\left(1, 7\\right)$, $Point2D\\left(-7, 1\\right)$, $Point2D\\left(5, 10\\right)$, $Point2D\\left(-10, 5\\right)$, $Point2D\\left(6, -8\\right)$\n",
            "\\question Representa y calcula las coordenadas de las siguientes combinaciones de $\\overrightarrow{u}$ y $\\overrightarrow{v}$: \\begin{parts} \\part[1] $\\overrightarrow{u} + \\overrightarrow{v}$, $\\overrightarrow{u} + 2 \\overrightarrow{v}$, $- 2 \\overrightarrow{u}$. Siendo $\\overrightarrow{u}$ y $\\overrightarrow{v}$: \\\\\\scalebox{.65}{\\includegraphics[width=1\\columnwidth]{comb_lineal_0.png}} \\\\ \\begin{solution} \\scalebox{.65}{\\includegraphics[width=1\\columnwidth]{comb_lineal_sol_0.png}}\\\\ $Point2D\\left(9, -4\\right)$, $Point2D\\left(15, -12\\right)$, $Point2D\\left(-6, -8\\right)$\\end{solution} \\part[1] $\\overrightarrow{u} + \\overrightarrow{v}$, $\\overrightarrow{u} - \\overrightarrow{v}$, $\\overrightarrow{u} + 2 \\overrightarrow{v}$, $2 \\overrightarrow{u} - \\overrightarrow{v}$, $- 2 \\overrightarrow{u}$. Siendo $\\overrightarrow{u}$ y $\\overrightarrow{v}$: \\\\\\scalebox{.65}{\\includegraphics[width=1\\columnwidth]{comb_lineal_1.png}} \\\\ \\begin{solution} \\scalebox{.65}{\\includegraphics[width=1\\columnwidth]{comb_lineal_sol_1.png}}\\\\ $Point2D\\left(1, 7\\right)$, $Point2D\\left(-7, 1\\right)$, $Point2D\\left(5, 10\\right)$, $Point2D\\left(-10, 5\\right)$, $Point2D\\left(6, -8\\right)$\\end{solution} \\end{parts} \n"
          ]
        },
        {
          "data": {
            "image/png": "[encoded data removed]",
            "text/plain": [
              "<Figure size 720x720 with 1 Axes>"
            ]
          },
          "metadata": {
            "needs_background": "light",
            "tags": []
          },
          "output_type": "display_data"
        },
        {
          "data": {
            "image/png": "[encoded data removed]",
            "text/plain": [
              "<Figure size 720x720 with 1 Axes>"
            ]
          },
          "metadata": {
            "needs_background": "light",
            "tags": []
          },
          "output_type": "display_data"
        }
      ]
    },
    {
      "cell_type": "code",
      "metadata": {
        "id": "fg8NX6JwhSHh",
        "outputId": "9876e703-948f-4f38-a9ba-c6ef0259cac8"
      },
      "source": [
        "# Calcular el punto medio\n",
        "\n",
        "texto_ejercicio = 'Calcula el punto medio del segmento que une los puntos:'\n",
        "display(md(\"**\"+texto_ejercicio+\"**\"))\n",
        "\n",
        "pre_enunciado_latex = [\n",
        "#     [(-5,0),(3,7)],\n",
        "    [(-5,1),(3,7)],\n",
        "    [(4,-1),(-2,-4)],\n",
        "    [(1,-5),(5,-3)],\n",
        "\n",
        "    \n",
        "                      ]\n",
        "question=texto_ejercicio\n",
        "parts=[]\n",
        "for i in pre_enunciado_latex :\n",
        "    enun = \"$A\"+latex(i[0])+\" y \\ B\"+latex(i[1])+\"$ \"\n",
        "#     enun = enun.replace(r'[',r'(').replace(r']',r')')\n",
        "    sol = \"$M\"+latex(list(Point(i[0]).midpoint(Point(i[1]))))+\"$\"\n",
        "    sol=sol.replace(r'[',r'(').replace(r']',r')')\n",
        "    mostrar_ejercicio(enun, sol) \n",
        "    parts.append([enun, sol])         \n",
        "\n",
        "print(latex_exam(question, parts).replace(r'\\frac',r'\\dfrac'))"
      ],
      "execution_count": null,
      "outputs": [
        {
          "data": {
            "text/markdown": [
              "**Calcula el punto medio del segmento que une los puntos:**"
            ],
            "text/plain": [
              "<IPython.core.display.Markdown object>"
            ]
          },
          "metadata": {
            "tags": []
          },
          "output_type": "display_data"
        },
        {
          "data": {
            "text/markdown": [
              "#### Ejercicio:"
            ],
            "text/plain": [
              "<IPython.core.display.Markdown object>"
            ]
          },
          "metadata": {
            "tags": []
          },
          "output_type": "display_data"
        },
        {
          "data": {
            "text/markdown": [
              "$A\\left( -5, \\  1\\right) y \\ B\\left( 3, \\  7\\right)$  $\\to$ $M\\left( -1, \\  4\\right)$"
            ],
            "text/plain": [
              "<IPython.core.display.Markdown object>"
            ]
          },
          "metadata": {
            "tags": []
          },
          "output_type": "display_data"
        },
        {
          "name": "stdout",
          "output_type": "stream",
          "text": [
            "enunciado_latex: $A\\left( -5, \\  1\\right) y \\ B\\left( 3, \\  7\\right)$ \n",
            "solucion_latex: $M\\left( -1, \\  4\\right)$\n"
          ]
        },
        {
          "data": {
            "text/markdown": [
              "#### Ejercicio:"
            ],
            "text/plain": [
              "<IPython.core.display.Markdown object>"
            ]
          },
          "metadata": {
            "tags": []
          },
          "output_type": "display_data"
        },
        {
          "data": {
            "text/markdown": [
              "$A\\left( 4, \\  -1\\right) y \\ B\\left( -2, \\  -4\\right)$  $\\to$ $M\\left( 1, \\  - \\frac{5}{2}\\right)$"
            ],
            "text/plain": [
              "<IPython.core.display.Markdown object>"
            ]
          },
          "metadata": {
            "tags": []
          },
          "output_type": "display_data"
        },
        {
          "name": "stdout",
          "output_type": "stream",
          "text": [
            "enunciado_latex: $A\\left( 4, \\  -1\\right) y \\ B\\left( -2, \\  -4\\right)$ \n",
            "solucion_latex: $M\\left( 1, \\  - \\frac{5}{2}\\right)$\n"
          ]
        },
        {
          "data": {
            "text/markdown": [
              "#### Ejercicio:"
            ],
            "text/plain": [
              "<IPython.core.display.Markdown object>"
            ]
          },
          "metadata": {
            "tags": []
          },
          "output_type": "display_data"
        },
        {
          "data": {
            "text/markdown": [
              "$A\\left( 1, \\  -5\\right) y \\ B\\left( 5, \\  -3\\right)$  $\\to$ $M\\left( 3, \\  -4\\right)$"
            ],
            "text/plain": [
              "<IPython.core.display.Markdown object>"
            ]
          },
          "metadata": {
            "tags": []
          },
          "output_type": "display_data"
        },
        {
          "name": "stdout",
          "output_type": "stream",
          "text": [
            "enunciado_latex: $A\\left( 1, \\  -5\\right) y \\ B\\left( 5, \\  -3\\right)$ \n",
            "solucion_latex: $M\\left( 3, \\  -4\\right)$\n",
            "\\question Calcula el punto medio del segmento que une los puntos:\\begin{parts} \\part[1] $A\\left( -5, \\  1\\right) y \\ B\\left( 3, \\  7\\right)$ \\begin{solution} $M\\left( -1, \\  4\\right)$\\end{solution} \\part[1] $A\\left( 4, \\  -1\\right) y \\ B\\left( -2, \\  -4\\right)$ \\begin{solution} $M\\left( 1, \\  - \\dfrac{5}{2}\\right)$\\end{solution} \\part[1] $A\\left( 1, \\  -5\\right) y \\ B\\left( 5, \\  -3\\right)$ \\begin{solution} $M\\left( 3, \\  -4\\right)$\\end{solution} \\end{parts} \n"
          ]
        }
      ]
    },
    {
      "cell_type": "code",
      "metadata": {
        "id": "ZgGqMBfihSHl",
        "outputId": "918a0bfc-d464-4fac-f0e1-6a8357401ea5"
      },
      "source": [
        "# Calcular puntos alineados\n",
        "\n",
        "texto_ejercicio = 'Halla el valor de z para que los puntos A  , B    y C estén alineados. Siendo:'\n",
        "display(md(\"**\"+texto_ejercicio+\"**\"))\n",
        "\n",
        "pre_enunciado_latex = [\n",
        "#     [(1, -5), (3, 0) ,  (6,z)],\n",
        "    [(1, -2), (3, 1) ,  (4,z)],\n",
        "        [(2, -4), (5, 3) ,  (6,z)],\n",
        "            [(5, 4), (-5, -2) ,  (1,z)],\n",
        "                      ]\n",
        "question=texto_ejercicio\n",
        "parts=[]\n",
        "for i in pre_enunciado_latex :\n",
        "    enun = \"$A\"+latex(i[0])+\"$, $B \"+latex(i[1])+\"$ y $C\"+latex(i[2])+\"$ \"\n",
        "    A,B,C = map(Point,i)\n",
        "    u=B-A\n",
        "    v=C-A\n",
        "    s=solve(u[0]*v[1]-u[1]*v[0],z)\n",
        "    sol = \"$\"+latex(u)+r\"\\parallel \"+latex(v)+r\" \\to z=\"+latex(s)+\"$\"\n",
        "#     sol=enun\n",
        "    mostrar_ejercicio(enun, sol) \n",
        "    parts.append([enun, sol])         \n",
        "\n",
        "print(latex_exam(question, parts).replace(r'\\frac',r'\\frac'))"
      ],
      "execution_count": null,
      "outputs": [
        {
          "data": {
            "text/markdown": [
              "**Halla el valor de z para que los puntos A  , B    y C estén alineados. Siendo:**"
            ],
            "text/plain": [
              "<IPython.core.display.Markdown object>"
            ]
          },
          "metadata": {
            "tags": []
          },
          "output_type": "display_data"
        },
        {
          "data": {
            "text/markdown": [
              "#### Ejercicio:"
            ],
            "text/plain": [
              "<IPython.core.display.Markdown object>"
            ]
          },
          "metadata": {
            "tags": []
          },
          "output_type": "display_data"
        },
        {
          "data": {
            "text/markdown": [
              "$A\\left( 1, \\  -2\\right)$, $B \\left( 3, \\  1\\right)$ y $C\\left( 4, \\  z\\right)$  $\\to$ $Point2D\\left(2, 3\\right)\\parallel Point2D\\left(3, z + 2\\right) \\to z=\\left[ \\frac{5}{2}\\right]$"
            ],
            "text/plain": [
              "<IPython.core.display.Markdown object>"
            ]
          },
          "metadata": {
            "tags": []
          },
          "output_type": "display_data"
        },
        {
          "name": "stdout",
          "output_type": "stream",
          "text": [
            "enunciado_latex: $A\\left( 1, \\  -2\\right)$, $B \\left( 3, \\  1\\right)$ y $C\\left( 4, \\  z\\right)$ \n",
            "solucion_latex: $Point2D\\left(2, 3\\right)\\parallel Point2D\\left(3, z + 2\\right) \\to z=\\left[ \\frac{5}{2}\\right]$\n"
          ]
        },
        {
          "data": {
            "text/markdown": [
              "#### Ejercicio:"
            ],
            "text/plain": [
              "<IPython.core.display.Markdown object>"
            ]
          },
          "metadata": {
            "tags": []
          },
          "output_type": "display_data"
        },
        {
          "data": {
            "text/markdown": [
              "$A\\left( 2, \\  -4\\right)$, $B \\left( 5, \\  3\\right)$ y $C\\left( 6, \\  z\\right)$  $\\to$ $Point2D\\left(3, 7\\right)\\parallel Point2D\\left(4, z + 4\\right) \\to z=\\left[ \\frac{16}{3}\\right]$"
            ],
            "text/plain": [
              "<IPython.core.display.Markdown object>"
            ]
          },
          "metadata": {
            "tags": []
          },
          "output_type": "display_data"
        },
        {
          "name": "stdout",
          "output_type": "stream",
          "text": [
            "enunciado_latex: $A\\left( 2, \\  -4\\right)$, $B \\left( 5, \\  3\\right)$ y $C\\left( 6, \\  z\\right)$ \n",
            "solucion_latex: $Point2D\\left(3, 7\\right)\\parallel Point2D\\left(4, z + 4\\right) \\to z=\\left[ \\frac{16}{3}\\right]$\n"
          ]
        },
        {
          "data": {
            "text/markdown": [
              "#### Ejercicio:"
            ],
            "text/plain": [
              "<IPython.core.display.Markdown object>"
            ]
          },
          "metadata": {
            "tags": []
          },
          "output_type": "display_data"
        },
        {
          "data": {
            "text/markdown": [
              "$A\\left( 5, \\  4\\right)$, $B \\left( -5, \\  -2\\right)$ y $C\\left( 1, \\  z\\right)$  $\\to$ $Point2D\\left(-10, -6\\right)\\parallel Point2D\\left(-4, z - 4\\right) \\to z=\\left[ \\frac{8}{5}\\right]$"
            ],
            "text/plain": [
              "<IPython.core.display.Markdown object>"
            ]
          },
          "metadata": {
            "tags": []
          },
          "output_type": "display_data"
        },
        {
          "name": "stdout",
          "output_type": "stream",
          "text": [
            "enunciado_latex: $A\\left( 5, \\  4\\right)$, $B \\left( -5, \\  -2\\right)$ y $C\\left( 1, \\  z\\right)$ \n",
            "solucion_latex: $Point2D\\left(-10, -6\\right)\\parallel Point2D\\left(-4, z - 4\\right) \\to z=\\left[ \\frac{8}{5}\\right]$\n",
            "\\question Halla el valor de z para que los puntos A  , B    y C estén alineados. Siendo:\\begin{parts} \\part[1] $A\\left( 1, \\  -2\\right)$, $B \\left( 3, \\  1\\right)$ y $C\\left( 4, \\  z\\right)$ \\begin{solution} $Point2D\\left(2, 3\\right)\\parallel Point2D\\left(3, z + 2\\right) \\to z=\\left[ \\frac{5}{2}\\right]$\\end{solution} \\part[1] $A\\left( 2, \\  -4\\right)$, $B \\left( 5, \\  3\\right)$ y $C\\left( 6, \\  z\\right)$ \\begin{solution} $Point2D\\left(3, 7\\right)\\parallel Point2D\\left(4, z + 4\\right) \\to z=\\left[ \\frac{16}{3}\\right]$\\end{solution} \\part[1] $A\\left( 5, \\  4\\right)$, $B \\left( -5, \\  -2\\right)$ y $C\\left( 1, \\  z\\right)$ \\begin{solution} $Point2D\\left(-10, -6\\right)\\parallel Point2D\\left(-4, z - 4\\right) \\to z=\\left[ \\frac{8}{5}\\right]$\\end{solution} \\end{parts} \n"
          ]
        }
      ]
    },
    {
      "cell_type": "code",
      "metadata": {
        "id": "kMSD-OtbhSHo",
        "outputId": "9de2275e-8dc2-486b-bcfa-669511c4a4e4"
      },
      "source": [
        "# Calcular el punto simétrico\n",
        "\n",
        "texto_ejercicio = 'Calcula el punto simétrico:'\n",
        "display(md(\"**\"+texto_ejercicio+\"**\"))\n",
        "\n",
        "pre_enunciado_latex = [\n",
        "#     [(-7,-15),(2,0)],\n",
        "    [(7,6),(2,1)],\n",
        "    [(5,-3),(1,3)],\n",
        "    [(6,-5),(-3,2)],\n",
        "    [(-6,-2),(4,1)],\n",
        "    \n",
        "                      ]\n",
        "question=texto_ejercicio\n",
        "parts=[]\n",
        "for i in pre_enunciado_latex :\n",
        "    enun = \"De $A\"+latex(i[0])+\"$ respecto  de  $M\"+latex(i[1])+\"$ \"\n",
        "#     enun = enun.replace(r'[',r'(').replace(r']',r')')\n",
        "    A,M = map(Point, i)\n",
        "    B=(x,y)\n",
        "    sol = \"$\"+latex(Eq(A.midpoint(B),M))+r\"\\to A'\\left(\"+\",\".join([latex(i[0]) for i in list(map(solve,list(A.midpoint(B)-M)))])+r\"\\right)$\"\n",
        "    sol=sol.replace(r'[',r'(').replace(r']',r')')\n",
        "    mostrar_ejercicio(enun, sol) \n",
        "    parts.append([enun, sol])         \n",
        "\n",
        "print(latex_exam(question, parts).replace(r'\\frac',r'\\dfrac'))"
      ],
      "execution_count": null,
      "outputs": [
        {
          "data": {
            "text/markdown": [
              "**Calcula el punto simétrico:**"
            ],
            "text/plain": [
              "<IPython.core.display.Markdown object>"
            ]
          },
          "metadata": {
            "tags": []
          },
          "output_type": "display_data"
        },
        {
          "data": {
            "text/markdown": [
              "#### Ejercicio:"
            ],
            "text/plain": [
              "<IPython.core.display.Markdown object>"
            ]
          },
          "metadata": {
            "tags": []
          },
          "output_type": "display_data"
        },
        {
          "data": {
            "text/markdown": [
              "De $A\\left( 7, \\  6\\right)$ respecto  de  $M\\left( 2, \\  1\\right)$  $\\to$ $Point2D\\left(\\frac{x}{2} + \\frac{7}{2}, \\frac{y}{2} + 3\\right) = Point2D\\left(2, 1\\right)\\to A'\\left(-3,-4\\right)$"
            ],
            "text/plain": [
              "<IPython.core.display.Markdown object>"
            ]
          },
          "metadata": {
            "tags": []
          },
          "output_type": "display_data"
        },
        {
          "name": "stdout",
          "output_type": "stream",
          "text": [
            "enunciado_latex: De $A\\left( 7, \\  6\\right)$ respecto  de  $M\\left( 2, \\  1\\right)$ \n",
            "solucion_latex: $Point2D\\left(\\frac{x}{2} + \\frac{7}{2}, \\frac{y}{2} + 3\\right) = Point2D\\left(2, 1\\right)\\to A'\\left(-3,-4\\right)$\n"
          ]
        },
        {
          "data": {
            "text/markdown": [
              "#### Ejercicio:"
            ],
            "text/plain": [
              "<IPython.core.display.Markdown object>"
            ]
          },
          "metadata": {
            "tags": []
          },
          "output_type": "display_data"
        },
        {
          "data": {
            "text/markdown": [
              "De $A\\left( 5, \\  -3\\right)$ respecto  de  $M\\left( 1, \\  3\\right)$  $\\to$ $Point2D\\left(\\frac{x}{2} + \\frac{5}{2}, \\frac{y}{2} - \\frac{3}{2}\\right) = Point2D\\left(1, 3\\right)\\to A'\\left(-3,9\\right)$"
            ],
            "text/plain": [
              "<IPython.core.display.Markdown object>"
            ]
          },
          "metadata": {
            "tags": []
          },
          "output_type": "display_data"
        },
        {
          "name": "stdout",
          "output_type": "stream",
          "text": [
            "enunciado_latex: De $A\\left( 5, \\  -3\\right)$ respecto  de  $M\\left( 1, \\  3\\right)$ \n",
            "solucion_latex: $Point2D\\left(\\frac{x}{2} + \\frac{5}{2}, \\frac{y}{2} - \\frac{3}{2}\\right) = Point2D\\left(1, 3\\right)\\to A'\\left(-3,9\\right)$\n"
          ]
        },
        {
          "data": {
            "text/markdown": [
              "#### Ejercicio:"
            ],
            "text/plain": [
              "<IPython.core.display.Markdown object>"
            ]
          },
          "metadata": {
            "tags": []
          },
          "output_type": "display_data"
        },
        {
          "data": {
            "text/markdown": [
              "De $A\\left( 6, \\  -5\\right)$ respecto  de  $M\\left( -3, \\  2\\right)$  $\\to$ $Point2D\\left(\\frac{x}{2} + 3, \\frac{y}{2} - \\frac{5}{2}\\right) = Point2D\\left(-3, 2\\right)\\to A'\\left(-12,9\\right)$"
            ],
            "text/plain": [
              "<IPython.core.display.Markdown object>"
            ]
          },
          "metadata": {
            "tags": []
          },
          "output_type": "display_data"
        },
        {
          "name": "stdout",
          "output_type": "stream",
          "text": [
            "enunciado_latex: De $A\\left( 6, \\  -5\\right)$ respecto  de  $M\\left( -3, \\  2\\right)$ \n",
            "solucion_latex: $Point2D\\left(\\frac{x}{2} + 3, \\frac{y}{2} - \\frac{5}{2}\\right) = Point2D\\left(-3, 2\\right)\\to A'\\left(-12,9\\right)$\n"
          ]
        },
        {
          "data": {
            "text/markdown": [
              "#### Ejercicio:"
            ],
            "text/plain": [
              "<IPython.core.display.Markdown object>"
            ]
          },
          "metadata": {
            "tags": []
          },
          "output_type": "display_data"
        },
        {
          "data": {
            "text/markdown": [
              "De $A\\left( -6, \\  -2\\right)$ respecto  de  $M\\left( 4, \\  1\\right)$  $\\to$ $Point2D\\left(\\frac{x}{2} - 3, \\frac{y}{2} - 1\\right) = Point2D\\left(4, 1\\right)\\to A'\\left(14,4\\right)$"
            ],
            "text/plain": [
              "<IPython.core.display.Markdown object>"
            ]
          },
          "metadata": {
            "tags": []
          },
          "output_type": "display_data"
        },
        {
          "name": "stdout",
          "output_type": "stream",
          "text": [
            "enunciado_latex: De $A\\left( -6, \\  -2\\right)$ respecto  de  $M\\left( 4, \\  1\\right)$ \n",
            "solucion_latex: $Point2D\\left(\\frac{x}{2} - 3, \\frac{y}{2} - 1\\right) = Point2D\\left(4, 1\\right)\\to A'\\left(14,4\\right)$\n",
            "\\question Calcula el punto simétrico:\\begin{parts} \\part[1] De $A\\left( 7, \\  6\\right)$ respecto  de  $M\\left( 2, \\  1\\right)$ \\begin{solution} $Point2D\\left(\\dfrac{x}{2} + \\dfrac{7}{2}, \\dfrac{y}{2} + 3\\right) = Point2D\\left(2, 1\\right)\\to A'\\left(-3,-4\\right)$\\end{solution} \\part[1] De $A\\left( 5, \\  -3\\right)$ respecto  de  $M\\left( 1, \\  3\\right)$ \\begin{solution} $Point2D\\left(\\dfrac{x}{2} + \\dfrac{5}{2}, \\dfrac{y}{2} - \\dfrac{3}{2}\\right) = Point2D\\left(1, 3\\right)\\to A'\\left(-3,9\\right)$\\end{solution} \\part[1] De $A\\left( 6, \\  -5\\right)$ respecto  de  $M\\left( -3, \\  2\\right)$ \\begin{solution} $Point2D\\left(\\dfrac{x}{2} + 3, \\dfrac{y}{2} - \\dfrac{5}{2}\\right) = Point2D\\left(-3, 2\\right)\\to A'\\left(-12,9\\right)$\\end{solution} \\part[1] De $A\\left( -6, \\  -2\\right)$ respecto  de  $M\\left( 4, \\  1\\right)$ \\begin{solution} $Point2D\\left(\\dfrac{x}{2} - 3, \\dfrac{y}{2} - 1\\right) = Point2D\\left(4, 1\\right)\\to A'\\left(14,4\\right)$\\end{solution} \\end{parts} \n"
          ]
        }
      ]
    },
    {
      "cell_type": "code",
      "metadata": {
        "id": "18jgC1J7hSHs",
        "outputId": "7ee618a5-4522-420f-a595-07829a295c5c"
      },
      "source": [
        "# Calcular punto de paralelogramo\n",
        "\n",
        "texto_ejercicio = 'Halla las coordenadas del punto D, de modo que ABCD sea un paralelogramo siendo'\n",
        "display(md(\"**\"+texto_ejercicio+\"**\"))\n",
        "\n",
        "pre_enunciado_latex = [\n",
        "#     [(1, -1), (0, 2), (6, 5)],\n",
        "    [(2, -3), (0, 1), (4, 3)],\n",
        "    [(1, -1), (1, 1), (2, 3)],\n",
        "    [(-2, -3), (-2, 2), (5,4)],\n",
        "                      ]\n",
        "question=texto_ejercicio\n",
        "parts=[]\n",
        "for i in pre_enunciado_latex :\n",
        "    enun = \"Siendo $A$, $B$ y $C$ respectivamente: $\"+\" $, $\".join(map(latex,i))+\"$\"\n",
        "    A, B, C = map(Point,i)\n",
        "    D = Point(x,y)\n",
        "    sol=r\"$\\overrightarrow{AB} = \\overrightarrow{DC} \\to \"+latex(Eq(B-A, C-D))+r\" \\to D\"\n",
        "    sol += latex([i[0] for i in list(map(solve,list(B-A-C+D)))])+\"$\"\n",
        "    sol=sol.replace(r'[',r'(').replace(r']',r')')\n",
        "    mostrar_ejercicio(enun, sol) \n",
        "    parts.append([enun, sol])         \n",
        "\n",
        "print(latex_exam(question, parts).replace(r'\\frac',r'\\dfrac'))"
      ],
      "execution_count": null,
      "outputs": [
        {
          "data": {
            "text/markdown": [
              "**Halla las coordenadas del punto D, de modo que ABCD sea un paralelogramo siendo**"
            ],
            "text/plain": [
              "<IPython.core.display.Markdown object>"
            ]
          },
          "metadata": {
            "tags": []
          },
          "output_type": "display_data"
        },
        {
          "data": {
            "text/markdown": [
              "#### Ejercicio:"
            ],
            "text/plain": [
              "<IPython.core.display.Markdown object>"
            ]
          },
          "metadata": {
            "tags": []
          },
          "output_type": "display_data"
        },
        {
          "data": {
            "text/markdown": [
              "Siendo $A$, $B$ y $C$ respectivamente: $\\left( 2, \\  -3\\right) $, $\\left( 0, \\  1\\right) $, $\\left( 4, \\  3\\right)$ $\\to$ $\\overrightarrow{AB} = \\overrightarrow{DC} \\to Point2D\\left(-2, 4\\right) = Point2D\\left(4 - x, 3 - y\\right) \\to D\\left( 6, \\  -1\\right)$"
            ],
            "text/plain": [
              "<IPython.core.display.Markdown object>"
            ]
          },
          "metadata": {
            "tags": []
          },
          "output_type": "display_data"
        },
        {
          "name": "stdout",
          "output_type": "stream",
          "text": [
            "enunciado_latex: Siendo $A$, $B$ y $C$ respectivamente: $\\left( 2, \\  -3\\right) $, $\\left( 0, \\  1\\right) $, $\\left( 4, \\  3\\right)$\n",
            "solucion_latex: $\\overrightarrow{AB} = \\overrightarrow{DC} \\to Point2D\\left(-2, 4\\right) = Point2D\\left(4 - x, 3 - y\\right) \\to D\\left( 6, \\  -1\\right)$\n"
          ]
        },
        {
          "data": {
            "text/markdown": [
              "#### Ejercicio:"
            ],
            "text/plain": [
              "<IPython.core.display.Markdown object>"
            ]
          },
          "metadata": {
            "tags": []
          },
          "output_type": "display_data"
        },
        {
          "data": {
            "text/markdown": [
              "Siendo $A$, $B$ y $C$ respectivamente: $\\left( 1, \\  -1\\right) $, $\\left( 1, \\  1\\right) $, $\\left( 2, \\  3\\right)$ $\\to$ $\\overrightarrow{AB} = \\overrightarrow{DC} \\to Point2D\\left(0, 2\\right) = Point2D\\left(2 - x, 3 - y\\right) \\to D\\left( 2, \\  1\\right)$"
            ],
            "text/plain": [
              "<IPython.core.display.Markdown object>"
            ]
          },
          "metadata": {
            "tags": []
          },
          "output_type": "display_data"
        },
        {
          "name": "stdout",
          "output_type": "stream",
          "text": [
            "enunciado_latex: Siendo $A$, $B$ y $C$ respectivamente: $\\left( 1, \\  -1\\right) $, $\\left( 1, \\  1\\right) $, $\\left( 2, \\  3\\right)$\n",
            "solucion_latex: $\\overrightarrow{AB} = \\overrightarrow{DC} \\to Point2D\\left(0, 2\\right) = Point2D\\left(2 - x, 3 - y\\right) \\to D\\left( 2, \\  1\\right)$\n"
          ]
        },
        {
          "data": {
            "text/markdown": [
              "#### Ejercicio:"
            ],
            "text/plain": [
              "<IPython.core.display.Markdown object>"
            ]
          },
          "metadata": {
            "tags": []
          },
          "output_type": "display_data"
        },
        {
          "data": {
            "text/markdown": [
              "Siendo $A$, $B$ y $C$ respectivamente: $\\left( -2, \\  -3\\right) $, $\\left( -2, \\  2\\right) $, $\\left( 5, \\  4\\right)$ $\\to$ $\\overrightarrow{AB} = \\overrightarrow{DC} \\to Point2D\\left(0, 5\\right) = Point2D\\left(5 - x, 4 - y\\right) \\to D\\left( 5, \\  -1\\right)$"
            ],
            "text/plain": [
              "<IPython.core.display.Markdown object>"
            ]
          },
          "metadata": {
            "tags": []
          },
          "output_type": "display_data"
        },
        {
          "name": "stdout",
          "output_type": "stream",
          "text": [
            "enunciado_latex: Siendo $A$, $B$ y $C$ respectivamente: $\\left( -2, \\  -3\\right) $, $\\left( -2, \\  2\\right) $, $\\left( 5, \\  4\\right)$\n",
            "solucion_latex: $\\overrightarrow{AB} = \\overrightarrow{DC} \\to Point2D\\left(0, 5\\right) = Point2D\\left(5 - x, 4 - y\\right) \\to D\\left( 5, \\  -1\\right)$\n",
            "\\question Halla las coordenadas del punto D, de modo que ABCD sea un paralelogramo siendo\\begin{parts} \\part[1] Siendo $A$, $B$ y $C$ respectivamente: $\\left( 2, \\  -3\\right) $, $\\left( 0, \\  1\\right) $, $\\left( 4, \\  3\\right)$\\begin{solution} $\\overrightarrow{AB} = \\overrightarrow{DC} \\to Point2D\\left(-2, 4\\right) = Point2D\\left(4 - x, 3 - y\\right) \\to D\\left( 6, \\  -1\\right)$\\end{solution} \\part[1] Siendo $A$, $B$ y $C$ respectivamente: $\\left( 1, \\  -1\\right) $, $\\left( 1, \\  1\\right) $, $\\left( 2, \\  3\\right)$\\begin{solution} $\\overrightarrow{AB} = \\overrightarrow{DC} \\to Point2D\\left(0, 2\\right) = Point2D\\left(2 - x, 3 - y\\right) \\to D\\left( 2, \\  1\\right)$\\end{solution} \\part[1] Siendo $A$, $B$ y $C$ respectivamente: $\\left( -2, \\  -3\\right) $, $\\left( -2, \\  2\\right) $, $\\left( 5, \\  4\\right)$\\begin{solution} $\\overrightarrow{AB} = \\overrightarrow{DC} \\to Point2D\\left(0, 5\\right) = Point2D\\left(5 - x, 4 - y\\right) \\to D\\left( 5, \\  -1\\right)$\\end{solution} \\end{parts} \n"
          ]
        }
      ]
    },
    {
      "cell_type": "code",
      "metadata": {
        "id": "ZhvQ_FmohSH0",
        "outputId": "2dc4394f-2236-4831-e4cf-df8b2a16c86c"
      },
      "source": [
        "# Calcular rectas\n",
        "\n",
        "texto_ejercicio = 'Escribe las ecuaciones vectorial, paramétricas, en forma continua y explícita de la recta que:'\n",
        "display(md(\"**\"+texto_ejercicio+\"**\"))\n",
        "\n",
        "pre_enunciado_latex = [\n",
        "#     [(3, -2), (-1, 5)],\n",
        "        [(3, -1), (-2, 5)],\n",
        "        [(1, -3), (3, -2)],\n",
        "        [(2, 3), (-3, 5)],\n",
        "                      ]\n",
        "question=texto_ejercicio\n",
        "parts=[]\n",
        "for i in pre_enunciado_latex :\n",
        "    enun = r\"Pasa por el punto $P$ y tiene por vector dirección $\\overrightarrow{d}$ respectivamente: $\"+\" $, $\".join(map(latex,i))+\"$\"\n",
        "    P, d = map(Point,i)\n",
        "    r=Line(P, P+d)\n",
        "    sol=r\"Solución orientativa: $\"+latex(Eq(Point(x,y),(r.arbitrary_point())))+r\" \\to \"\n",
        "    sol += latex(Eq(r.equation(),0))+r\" \\to \"+latex(Eq(y,solve(r.equation(y=y),y)[0]))+\"$\"\n",
        "    mostrar_ejercicio(enun, sol) \n",
        "    parts.append([enun, sol])         \n",
        "\n",
        "print(latex_exam(question, parts).replace(r'\\frac',r'\\dfrac'))"
      ],
      "execution_count": null,
      "outputs": [
        {
          "data": {
            "text/markdown": [
              "**Escribe las ecuaciones vectorial, paramétricas, en forma continua y explícita de la recta que:**"
            ],
            "text/plain": [
              "<IPython.core.display.Markdown object>"
            ]
          },
          "metadata": {
            "tags": []
          },
          "output_type": "display_data"
        },
        {
          "data": {
            "text/markdown": [
              "#### Ejercicio:"
            ],
            "text/plain": [
              "<IPython.core.display.Markdown object>"
            ]
          },
          "metadata": {
            "tags": []
          },
          "output_type": "display_data"
        },
        {
          "data": {
            "text/markdown": [
              "Pasa por el punto $P$ y tiene por vector dirección $\\overrightarrow{d}$ respectivamente: $\\left( 3, \\  -1\\right) $, $\\left( -2, \\  5\\right)$ $\\to$ Solución orientativa: $Point2D\\left(x, y\\right) = Point2D\\left(3 - 2 t, 5 t - 1\\right) \\to - 5 x - 2 y + 13 = 0 \\to y = \\frac{13}{2} - \\frac{5 x}{2}$"
            ],
            "text/plain": [
              "<IPython.core.display.Markdown object>"
            ]
          },
          "metadata": {
            "tags": []
          },
          "output_type": "display_data"
        },
        {
          "name": "stdout",
          "output_type": "stream",
          "text": [
            "enunciado_latex: Pasa por el punto $P$ y tiene por vector dirección $\\overrightarrow{d}$ respectivamente: $\\left( 3, \\  -1\\right) $, $\\left( -2, \\  5\\right)$\n",
            "solucion_latex: Solución orientativa: $Point2D\\left(x, y\\right) = Point2D\\left(3 - 2 t, 5 t - 1\\right) \\to - 5 x - 2 y + 13 = 0 \\to y = \\frac{13}{2} - \\frac{5 x}{2}$\n"
          ]
        },
        {
          "data": {
            "text/markdown": [
              "#### Ejercicio:"
            ],
            "text/plain": [
              "<IPython.core.display.Markdown object>"
            ]
          },
          "metadata": {
            "tags": []
          },
          "output_type": "display_data"
        },
        {
          "data": {
            "text/markdown": [
              "Pasa por el punto $P$ y tiene por vector dirección $\\overrightarrow{d}$ respectivamente: $\\left( 1, \\  -3\\right) $, $\\left( 3, \\  -2\\right)$ $\\to$ Solución orientativa: $Point2D\\left(x, y\\right) = Point2D\\left(3 t + 1, - 2 t - 3\\right) \\to 2 x + 3 y + 7 = 0 \\to y = - \\frac{2 x}{3} - \\frac{7}{3}$"
            ],
            "text/plain": [
              "<IPython.core.display.Markdown object>"
            ]
          },
          "metadata": {
            "tags": []
          },
          "output_type": "display_data"
        },
        {
          "name": "stdout",
          "output_type": "stream",
          "text": [
            "enunciado_latex: Pasa por el punto $P$ y tiene por vector dirección $\\overrightarrow{d}$ respectivamente: $\\left( 1, \\  -3\\right) $, $\\left( 3, \\  -2\\right)$\n",
            "solucion_latex: Solución orientativa: $Point2D\\left(x, y\\right) = Point2D\\left(3 t + 1, - 2 t - 3\\right) \\to 2 x + 3 y + 7 = 0 \\to y = - \\frac{2 x}{3} - \\frac{7}{3}$\n"
          ]
        },
        {
          "data": {
            "text/markdown": [
              "#### Ejercicio:"
            ],
            "text/plain": [
              "<IPython.core.display.Markdown object>"
            ]
          },
          "metadata": {
            "tags": []
          },
          "output_type": "display_data"
        },
        {
          "data": {
            "text/markdown": [
              "Pasa por el punto $P$ y tiene por vector dirección $\\overrightarrow{d}$ respectivamente: $\\left( 2, \\  3\\right) $, $\\left( -3, \\  5\\right)$ $\\to$ Solución orientativa: $Point2D\\left(x, y\\right) = Point2D\\left(2 - 3 t, 5 t + 3\\right) \\to - 5 x - 3 y + 19 = 0 \\to y = \\frac{19}{3} - \\frac{5 x}{3}$"
            ],
            "text/plain": [
              "<IPython.core.display.Markdown object>"
            ]
          },
          "metadata": {
            "tags": []
          },
          "output_type": "display_data"
        },
        {
          "name": "stdout",
          "output_type": "stream",
          "text": [
            "enunciado_latex: Pasa por el punto $P$ y tiene por vector dirección $\\overrightarrow{d}$ respectivamente: $\\left( 2, \\  3\\right) $, $\\left( -3, \\  5\\right)$\n",
            "solucion_latex: Solución orientativa: $Point2D\\left(x, y\\right) = Point2D\\left(2 - 3 t, 5 t + 3\\right) \\to - 5 x - 3 y + 19 = 0 \\to y = \\frac{19}{3} - \\frac{5 x}{3}$\n",
            "\\question Escribe las ecuaciones vectorial, paramétricas, en forma continua y explícita de la recta que:\\begin{parts} \\part[1] Pasa por el punto $P$ y tiene por vector dirección $\\overrightarrow{d}$ respectivamente: $\\left( 3, \\  -1\\right) $, $\\left( -2, \\  5\\right)$\\begin{solution} Solución orientativa: $Point2D\\left(x, y\\right) = Point2D\\left(3 - 2 t, 5 t - 1\\right) \\to - 5 x - 2 y + 13 = 0 \\to y = \\dfrac{13}{2} - \\dfrac{5 x}{2}$\\end{solution} \\part[1] Pasa por el punto $P$ y tiene por vector dirección $\\overrightarrow{d}$ respectivamente: $\\left( 1, \\  -3\\right) $, $\\left( 3, \\  -2\\right)$\\begin{solution} Solución orientativa: $Point2D\\left(x, y\\right) = Point2D\\left(3 t + 1, - 2 t - 3\\right) \\to 2 x + 3 y + 7 = 0 \\to y = - \\dfrac{2 x}{3} - \\dfrac{7}{3}$\\end{solution} \\part[1] Pasa por el punto $P$ y tiene por vector dirección $\\overrightarrow{d}$ respectivamente: $\\left( 2, \\  3\\right) $, $\\left( -3, \\  5\\right)$\\begin{solution} Solución orientativa: $Point2D\\left(x, y\\right) = Point2D\\left(2 - 3 t, 5 t + 3\\right) \\to - 5 x - 3 y + 19 = 0 \\to y = \\dfrac{19}{3} - \\dfrac{5 x}{3}$\\end{solution} \\end{parts} \n"
          ]
        }
      ]
    },
    {
      "cell_type": "code",
      "metadata": {
        "id": "vpZeGkJ9hSH6",
        "outputId": "4830c134-5f6d-4b3b-969a-bd95203d966e"
      },
      "source": [
        "# Calcular rectas\n",
        "\n",
        "texto_ejercicio = 'Escribe las ecuaciones vectorial, paramétricas, en forma continua y explícita de la recta que:'\n",
        "display(md(\"**\"+texto_ejercicio+\"**\"))\n",
        "\n",
        "pre_enunciado_latex = [\n",
        "#     [(3, -2), (-1, 5)],\n",
        "            [(2, -1), (-2, 5)],\n",
        "        [(2, -3), (3, -2)],\n",
        "        [(-4, 3), (-3, 5)],\n",
        "                      ]\n",
        "question=texto_ejercicio\n",
        "parts=[]\n",
        "for i in pre_enunciado_latex :\n",
        "    enun = r\"Pasa por los puntos $P$ y $Q$ respectivamente: $\"+\" $, $\".join(map(latex,i))+\"$\"\n",
        "    P, Q = map(Point,i)\n",
        "    r=Line(P, Q)\n",
        "    sol=r\"Solución orientativa: $\"+latex(Eq(Point(x,y),(r.arbitrary_point())))+r\" \\to \"\n",
        "    sol += latex(Eq(r.equation(),0))+r\" \\to \"+latex(Eq(y,solve(r.equation(y=y),y)[0]))+\"$\"\n",
        "    mostrar_ejercicio(enun, sol) \n",
        "    parts.append([enun, sol])         \n",
        "\n",
        "print(latex_exam(question, parts).replace(r'\\frac',r'\\dfrac'))"
      ],
      "execution_count": null,
      "outputs": [
        {
          "data": {
            "text/markdown": [
              "**Escribe las ecuaciones vectorial, paramétricas, en forma continua y explícita de la recta que:**"
            ],
            "text/plain": [
              "<IPython.core.display.Markdown object>"
            ]
          },
          "metadata": {
            "tags": []
          },
          "output_type": "display_data"
        },
        {
          "data": {
            "text/markdown": [
              "#### Ejercicio:"
            ],
            "text/plain": [
              "<IPython.core.display.Markdown object>"
            ]
          },
          "metadata": {
            "tags": []
          },
          "output_type": "display_data"
        },
        {
          "data": {
            "text/markdown": [
              "Pasa por los puntos $P$ y $Q$ respectivamente: $\\left( 2, \\  -1\\right) $, $\\left( -2, \\  5\\right)$ $\\to$ Solución orientativa: $Point2D\\left(x, y\\right) = Point2D\\left(2 - 4 t, 6 t - 1\\right) \\to - 6 x - 4 y + 8 = 0 \\to y = 2 - \\frac{3 x}{2}$"
            ],
            "text/plain": [
              "<IPython.core.display.Markdown object>"
            ]
          },
          "metadata": {
            "tags": []
          },
          "output_type": "display_data"
        },
        {
          "name": "stdout",
          "output_type": "stream",
          "text": [
            "enunciado_latex: Pasa por los puntos $P$ y $Q$ respectivamente: $\\left( 2, \\  -1\\right) $, $\\left( -2, \\  5\\right)$\n",
            "solucion_latex: Solución orientativa: $Point2D\\left(x, y\\right) = Point2D\\left(2 - 4 t, 6 t - 1\\right) \\to - 6 x - 4 y + 8 = 0 \\to y = 2 - \\frac{3 x}{2}$\n"
          ]
        },
        {
          "data": {
            "text/markdown": [
              "#### Ejercicio:"
            ],
            "text/plain": [
              "<IPython.core.display.Markdown object>"
            ]
          },
          "metadata": {
            "tags": []
          },
          "output_type": "display_data"
        },
        {
          "data": {
            "text/markdown": [
              "Pasa por los puntos $P$ y $Q$ respectivamente: $\\left( 2, \\  -3\\right) $, $\\left( 3, \\  -2\\right)$ $\\to$ Solución orientativa: $Point2D\\left(x, y\\right) = Point2D\\left(t + 2, t - 3\\right) \\to - x + y + 5 = 0 \\to y = x - 5$"
            ],
            "text/plain": [
              "<IPython.core.display.Markdown object>"
            ]
          },
          "metadata": {
            "tags": []
          },
          "output_type": "display_data"
        },
        {
          "name": "stdout",
          "output_type": "stream",
          "text": [
            "enunciado_latex: Pasa por los puntos $P$ y $Q$ respectivamente: $\\left( 2, \\  -3\\right) $, $\\left( 3, \\  -2\\right)$\n",
            "solucion_latex: Solución orientativa: $Point2D\\left(x, y\\right) = Point2D\\left(t + 2, t - 3\\right) \\to - x + y + 5 = 0 \\to y = x - 5$\n"
          ]
        },
        {
          "data": {
            "text/markdown": [
              "#### Ejercicio:"
            ],
            "text/plain": [
              "<IPython.core.display.Markdown object>"
            ]
          },
          "metadata": {
            "tags": []
          },
          "output_type": "display_data"
        },
        {
          "data": {
            "text/markdown": [
              "Pasa por los puntos $P$ y $Q$ respectivamente: $\\left( -4, \\  3\\right) $, $\\left( -3, \\  5\\right)$ $\\to$ Solución orientativa: $Point2D\\left(x, y\\right) = Point2D\\left(t - 4, 2 t + 3\\right) \\to - 2 x + y - 11 = 0 \\to y = 2 x + 11$"
            ],
            "text/plain": [
              "<IPython.core.display.Markdown object>"
            ]
          },
          "metadata": {
            "tags": []
          },
          "output_type": "display_data"
        },
        {
          "name": "stdout",
          "output_type": "stream",
          "text": [
            "enunciado_latex: Pasa por los puntos $P$ y $Q$ respectivamente: $\\left( -4, \\  3\\right) $, $\\left( -3, \\  5\\right)$\n",
            "solucion_latex: Solución orientativa: $Point2D\\left(x, y\\right) = Point2D\\left(t - 4, 2 t + 3\\right) \\to - 2 x + y - 11 = 0 \\to y = 2 x + 11$\n",
            "\\question Escribe las ecuaciones vectorial, paramétricas, en forma continua y explícita de la recta que:\\begin{parts} \\part[1] Pasa por los puntos $P$ y $Q$ respectivamente: $\\left( 2, \\  -1\\right) $, $\\left( -2, \\  5\\right)$\\begin{solution} Solución orientativa: $Point2D\\left(x, y\\right) = Point2D\\left(2 - 4 t, 6 t - 1\\right) \\to - 6 x - 4 y + 8 = 0 \\to y = 2 - \\dfrac{3 x}{2}$\\end{solution} \\part[1] Pasa por los puntos $P$ y $Q$ respectivamente: $\\left( 2, \\  -3\\right) $, $\\left( 3, \\  -2\\right)$\\begin{solution} Solución orientativa: $Point2D\\left(x, y\\right) = Point2D\\left(t + 2, t - 3\\right) \\to - x + y + 5 = 0 \\to y = x - 5$\\end{solution} \\part[1] Pasa por los puntos $P$ y $Q$ respectivamente: $\\left( -4, \\  3\\right) $, $\\left( -3, \\  5\\right)$\\begin{solution} Solución orientativa: $Point2D\\left(x, y\\right) = Point2D\\left(t - 4, 2 t + 3\\right) \\to - 2 x + y - 11 = 0 \\to y = 2 x + 11$\\end{solution} \\end{parts} \n"
          ]
        }
      ]
    },
    {
      "cell_type": "code",
      "metadata": {
        "id": "79p0kEHphSH9",
        "outputId": "343352a7-befe-47ee-9df2-784f7b0c72eb"
      },
      "source": [
        "# Calcular rectas paralelas\n",
        "\n",
        "texto_ejercicio = 'Calcula la recta $s$ que:'\n",
        "display(md(\"**\"+texto_ejercicio+\"**\"))\n",
        "\n",
        "pre_enunciado_latex = [\n",
        "#     [(-3, 2), 8*x-3*y+6],\n",
        "              [(3, 1), 4*x-2*y+1],\n",
        "      [(-1, 2), 2*x-3*y+1],\n",
        "\n",
        "    \n",
        "                      ]\n",
        "question=texto_ejercicio\n",
        "parts=[]\n",
        "for i in pre_enunciado_latex :\n",
        "    enun = r\"pasa por P${}$ y es paralela a $r \\equiv {} = 0$\".format(latex(i[0]),latex(i[1]))\n",
        "    s=Line(i[1]).parallel_line(Point(i[0]))\n",
        "    sol=r\"$s\\equiv \"+latex(Eq(y,solve(s.equation(y=y),y)[0]))+r\"$\"\n",
        "    mostrar_ejercicio(enun, sol) \n",
        "    parts.append([enun, sol])         \n",
        "\n",
        "print(latex_exam(question, parts).replace(r'\\frac',r'\\dfrac'))"
      ],
      "execution_count": null,
      "outputs": [
        {
          "data": {
            "text/markdown": [
              "**Calcula la recta $s$ que:**"
            ],
            "text/plain": [
              "<IPython.core.display.Markdown object>"
            ]
          },
          "metadata": {
            "tags": []
          },
          "output_type": "display_data"
        },
        {
          "data": {
            "text/markdown": [
              "#### Ejercicio:"
            ],
            "text/plain": [
              "<IPython.core.display.Markdown object>"
            ]
          },
          "metadata": {
            "tags": []
          },
          "output_type": "display_data"
        },
        {
          "data": {
            "text/markdown": [
              "pasa por P$\\left( 3, \\  1\\right)$ y es paralela a $r \\equiv 4 x - 2 y + 1 = 0$ $\\to$ $s\\equiv y = 2 x - 5$"
            ],
            "text/plain": [
              "<IPython.core.display.Markdown object>"
            ]
          },
          "metadata": {
            "tags": []
          },
          "output_type": "display_data"
        },
        {
          "name": "stdout",
          "output_type": "stream",
          "text": [
            "enunciado_latex: pasa por P$\\left( 3, \\  1\\right)$ y es paralela a $r \\equiv 4 x - 2 y + 1 = 0$\n",
            "solucion_latex: $s\\equiv y = 2 x - 5$\n"
          ]
        },
        {
          "data": {
            "text/markdown": [
              "#### Ejercicio:"
            ],
            "text/plain": [
              "<IPython.core.display.Markdown object>"
            ]
          },
          "metadata": {
            "tags": []
          },
          "output_type": "display_data"
        },
        {
          "data": {
            "text/markdown": [
              "pasa por P$\\left( -1, \\  2\\right)$ y es paralela a $r \\equiv 2 x - 3 y + 1 = 0$ $\\to$ $s\\equiv y = \\frac{2 x}{3} + \\frac{8}{3}$"
            ],
            "text/plain": [
              "<IPython.core.display.Markdown object>"
            ]
          },
          "metadata": {
            "tags": []
          },
          "output_type": "display_data"
        },
        {
          "name": "stdout",
          "output_type": "stream",
          "text": [
            "enunciado_latex: pasa por P$\\left( -1, \\  2\\right)$ y es paralela a $r \\equiv 2 x - 3 y + 1 = 0$\n",
            "solucion_latex: $s\\equiv y = \\frac{2 x}{3} + \\frac{8}{3}$\n",
            "\\question Calcula la recta $s$ que:\\begin{parts} \\part[1] pasa por P$\\left( 3, \\  1\\right)$ y es paralela a $r \\equiv 4 x - 2 y + 1 = 0$\\begin{solution} $s\\equiv y = 2 x - 5$\\end{solution} \\part[1] pasa por P$\\left( -1, \\  2\\right)$ y es paralela a $r \\equiv 2 x - 3 y + 1 = 0$\\begin{solution} $s\\equiv y = \\dfrac{2 x}{3} + \\dfrac{8}{3}$\\end{solution} \\end{parts} \n"
          ]
        }
      ]
    },
    {
      "cell_type": "code",
      "metadata": {
        "id": "LzHOZy5OhSH-",
        "outputId": "c8cb51ee-57fe-48ea-a2bc-1d329232f37b"
      },
      "source": [
        "# Calcular rectas y cortes\n",
        "\n",
        "texto_ejercicio = 'Calcula la recta $s$ que:'\n",
        "display(md(\"**\"+texto_ejercicio+\"**\"))\n",
        "\n",
        "pre_enunciado_latex = [\n",
        "#     [(3,-2), (2,1)],\n",
        "#     [(3,-2), (-5,4)],\n",
        "#     [(3,-2), (-1,0)],\n",
        "        [(-1,2), (-2,1)],\n",
        "    [(1,-2), (5,-4)],\n",
        "    [(1,-2), (-1,0)],\n",
        "                      ]\n",
        "question=texto_ejercicio\n",
        "parts=[]\n",
        "for i in pre_enunciado_latex :\n",
        "    enun = r\"pasa por P$\"+latex(i[0])+\"$ y es perpendicular a $\\overrightarrow{v}\"+latex(i[1])+\"$\"\n",
        "    p, v = map(Point,i)\n",
        "    s=Line(p,p+v).perpendicular_line(p)\n",
        "    sol=r\"$s\\equiv \"+latex(Eq(s.equation(),0))+\"$\"\n",
        "#     sol+=r\"$\\to s\\equiv \"+latex(Eq(y,solve(s.equation(y=y),y)[0]))+r\"$\"\n",
        "    mostrar_ejercicio(enun, sol) \n",
        "    parts.append([enun, sol])         \n",
        "\n",
        "print(latex_exam(question, parts).replace(r'\\frac',r'\\dfrac'))"
      ],
      "execution_count": null,
      "outputs": [
        {
          "data": {
            "text/markdown": [
              "**Calcula la recta $s$ que:**"
            ],
            "text/plain": [
              "<IPython.core.display.Markdown object>"
            ]
          },
          "metadata": {
            "tags": []
          },
          "output_type": "display_data"
        },
        {
          "data": {
            "text/markdown": [
              "#### Ejercicio:"
            ],
            "text/plain": [
              "<IPython.core.display.Markdown object>"
            ]
          },
          "metadata": {
            "tags": []
          },
          "output_type": "display_data"
        },
        {
          "data": {
            "text/markdown": [
              "pasa por P$\\left( -1, \\  2\\right)$ y es perpendicular a $\\overrightarrow{v}\\left( -2, \\  1\\right)$ $\\to$ $s\\equiv 2 x - y + 4 = 0$"
            ],
            "text/plain": [
              "<IPython.core.display.Markdown object>"
            ]
          },
          "metadata": {
            "tags": []
          },
          "output_type": "display_data"
        },
        {
          "name": "stdout",
          "output_type": "stream",
          "text": [
            "enunciado_latex: pasa por P$\\left( -1, \\  2\\right)$ y es perpendicular a $\\overrightarrow{v}\\left( -2, \\  1\\right)$\n",
            "solucion_latex: $s\\equiv 2 x - y + 4 = 0$\n"
          ]
        },
        {
          "data": {
            "text/markdown": [
              "#### Ejercicio:"
            ],
            "text/plain": [
              "<IPython.core.display.Markdown object>"
            ]
          },
          "metadata": {
            "tags": []
          },
          "output_type": "display_data"
        },
        {
          "data": {
            "text/markdown": [
              "pasa por P$\\left( 1, \\  -2\\right)$ y es perpendicular a $\\overrightarrow{v}\\left( 5, \\  -4\\right)$ $\\to$ $s\\equiv - 5 x + 4 y + 13 = 0$"
            ],
            "text/plain": [
              "<IPython.core.display.Markdown object>"
            ]
          },
          "metadata": {
            "tags": []
          },
          "output_type": "display_data"
        },
        {
          "name": "stdout",
          "output_type": "stream",
          "text": [
            "enunciado_latex: pasa por P$\\left( 1, \\  -2\\right)$ y es perpendicular a $\\overrightarrow{v}\\left( 5, \\  -4\\right)$\n",
            "solucion_latex: $s\\equiv - 5 x + 4 y + 13 = 0$\n"
          ]
        },
        {
          "data": {
            "text/markdown": [
              "#### Ejercicio:"
            ],
            "text/plain": [
              "<IPython.core.display.Markdown object>"
            ]
          },
          "metadata": {
            "tags": []
          },
          "output_type": "display_data"
        },
        {
          "data": {
            "text/markdown": [
              "pasa por P$\\left( 1, \\  -2\\right)$ y es perpendicular a $\\overrightarrow{v}\\left( -1, \\  0\\right)$ $\\to$ $s\\equiv x - 1 = 0$"
            ],
            "text/plain": [
              "<IPython.core.display.Markdown object>"
            ]
          },
          "metadata": {
            "tags": []
          },
          "output_type": "display_data"
        },
        {
          "name": "stdout",
          "output_type": "stream",
          "text": [
            "enunciado_latex: pasa por P$\\left( 1, \\  -2\\right)$ y es perpendicular a $\\overrightarrow{v}\\left( -1, \\  0\\right)$\n",
            "solucion_latex: $s\\equiv x - 1 = 0$\n",
            "\\question Calcula la recta $s$ que:\\begin{parts} \\part[1] pasa por P$\\left( -1, \\  2\\right)$ y es perpendicular a $\\overrightarrow{v}\\left( -2, \\  1\\right)$\\begin{solution} $s\\equiv 2 x - y + 4 = 0$\\end{solution} \\part[1] pasa por P$\\left( 1, \\  -2\\right)$ y es perpendicular a $\\overrightarrow{v}\\left( 5, \\  -4\\right)$\\begin{solution} $s\\equiv - 5 x + 4 y + 13 = 0$\\end{solution} \\part[1] pasa por P$\\left( 1, \\  -2\\right)$ y es perpendicular a $\\overrightarrow{v}\\left( -1, \\  0\\right)$\\begin{solution} $s\\equiv x - 1 = 0$\\end{solution} \\end{parts} \n"
          ]
        }
      ]
    },
    {
      "cell_type": "code",
      "metadata": {
        "id": "IQ6nyAchhSIB",
        "outputId": "d17378c5-0eba-4ca0-944a-b0cd8e1628fa"
      },
      "source": [
        "# Calcular rectas y cortes\n",
        "\n",
        "texto_ejercicio = 'Calcula la recta $s$ que:'\n",
        "display(md(\"**\"+texto_ejercicio+\"**\"))\n",
        "\n",
        "pre_enunciado_latex = [\n",
        "#     [(-3, 2), 8*x-3*y+6],\n",
        "                  [(3, 1), 4*x-2*y+1],\n",
        "      [(-1, 2), 2*x-3*y+1],\n",
        "\n",
        "                      ]\n",
        "question=texto_ejercicio\n",
        "parts=[]\n",
        "for i in pre_enunciado_latex :\n",
        "    enun = r\"pasa por P${}$ y es perpendicular a $r \\equiv {} = 0$\".format(latex(i[0]),latex(i[1]))\n",
        "    s=Line(i[1]).perpendicular_line(Point(i[0]))\n",
        "    sol=r\"$s\\equiv \"+latex(Eq(y,solve(s.equation(y=y),y)[0]))+r\"$\"\n",
        "    mostrar_ejercicio(enun, sol) \n",
        "    parts.append([enun, sol])         \n",
        "\n",
        "print(latex_exam(question, parts).replace(r'\\frac',r'\\dfrac'))"
      ],
      "execution_count": null,
      "outputs": [
        {
          "data": {
            "text/markdown": [
              "**Calcula la recta $s$ que:**"
            ],
            "text/plain": [
              "<IPython.core.display.Markdown object>"
            ]
          },
          "metadata": {
            "tags": []
          },
          "output_type": "display_data"
        },
        {
          "data": {
            "text/markdown": [
              "#### Ejercicio:"
            ],
            "text/plain": [
              "<IPython.core.display.Markdown object>"
            ]
          },
          "metadata": {
            "tags": []
          },
          "output_type": "display_data"
        },
        {
          "data": {
            "text/markdown": [
              "pasa por P$\\left( 3, \\  1\\right)$ y es perpendicular a $r \\equiv 4 x - 2 y + 1 = 0$ $\\to$ $s\\equiv y = \\frac{5}{2} - \\frac{x}{2}$"
            ],
            "text/plain": [
              "<IPython.core.display.Markdown object>"
            ]
          },
          "metadata": {
            "tags": []
          },
          "output_type": "display_data"
        },
        {
          "name": "stdout",
          "output_type": "stream",
          "text": [
            "enunciado_latex: pasa por P$\\left( 3, \\  1\\right)$ y es perpendicular a $r \\equiv 4 x - 2 y + 1 = 0$\n",
            "solucion_latex: $s\\equiv y = \\frac{5}{2} - \\frac{x}{2}$\n"
          ]
        },
        {
          "data": {
            "text/markdown": [
              "#### Ejercicio:"
            ],
            "text/plain": [
              "<IPython.core.display.Markdown object>"
            ]
          },
          "metadata": {
            "tags": []
          },
          "output_type": "display_data"
        },
        {
          "data": {
            "text/markdown": [
              "pasa por P$\\left( -1, \\  2\\right)$ y es perpendicular a $r \\equiv 2 x - 3 y + 1 = 0$ $\\to$ $s\\equiv y = \\frac{1}{2} - \\frac{3 x}{2}$"
            ],
            "text/plain": [
              "<IPython.core.display.Markdown object>"
            ]
          },
          "metadata": {
            "tags": []
          },
          "output_type": "display_data"
        },
        {
          "name": "stdout",
          "output_type": "stream",
          "text": [
            "enunciado_latex: pasa por P$\\left( -1, \\  2\\right)$ y es perpendicular a $r \\equiv 2 x - 3 y + 1 = 0$\n",
            "solucion_latex: $s\\equiv y = \\frac{1}{2} - \\frac{3 x}{2}$\n",
            "\\question Calcula la recta $s$ que:\\begin{parts} \\part[1] pasa por P$\\left( 3, \\  1\\right)$ y es perpendicular a $r \\equiv 4 x - 2 y + 1 = 0$\\begin{solution} $s\\equiv y = \\dfrac{5}{2} - \\dfrac{x}{2}$\\end{solution} \\part[1] pasa por P$\\left( -1, \\  2\\right)$ y es perpendicular a $r \\equiv 2 x - 3 y + 1 = 0$\\begin{solution} $s\\equiv y = \\dfrac{1}{2} - \\dfrac{3 x}{2}$\\end{solution} \\end{parts} \n"
          ]
        }
      ]
    },
    {
      "cell_type": "code",
      "metadata": {
        "id": "rhGJi10ehSIE",
        "scrolled": true,
        "outputId": "ae734e26-aa4d-4414-c93f-84fd662a6f0f"
      },
      "source": [
        "# Calcular rectas y cortes\n",
        "\n",
        "texto_ejercicio = 'Obtén las ecuaciones de las rectas $r$ y $s$ y su punto de intersección sabiendo que:'\n",
        "display(md(\"**\"+texto_ejercicio+\"**\"))\n",
        "\n",
        "pre_enunciado_latex = [\n",
        "#     [(-3, 2), 8*x-3*y+6, (9, -5/2), 2*x+y-7],\n",
        "      [(1, -2), 6*x-3*y+6, (3, 1), 2*x+y-7],\n",
        "          [(1, 3), 4*x-2*y+1, (3, 1), 2*x+y-3],\n",
        "    \n",
        "                      ]\n",
        "question=texto_ejercicio\n",
        "parts=[]\n",
        "for i in pre_enunciado_latex :\n",
        "    enun = r\"r pasa por ${}$ y es perpendicular a ${} = 0$. Y s pasa por ${}$ y es paralela a ${}= 0$\".format(latex(i[0]),latex(i[1]),latex(i[2]),latex(i[3]))\n",
        "    r=Line(i[1]).perpendicular_line(Point(i[0]))\n",
        "    Eq(y,solve(r.equation(y=y),y)[0])\n",
        "\n",
        "    s=Line(i[3]).parallel_line(Point(i[2]))\n",
        "    Eq(y,solve(s.equation(y=y),y)[0])\n",
        "    sol=r\"Solución: \\\\ $r\\equiv \"+latex(Eq(y,solve(r.equation(y=y),y)[0]))+r\"$ \\\\ $s\\equiv \"+latex(Eq(y,solve(s.equation(y=y),y)[0]))+r\"\\to  $$\"+latex(r.intersection(s))+r\" $ \"\n",
        "    mostrar_ejercicio(enun, sol) \n",
        "    parts.append([enun, sol])         \n",
        "\n",
        "print(latex_exam(question, parts).replace(r'\\frac',r'\\dfrac'))"
      ],
      "execution_count": null,
      "outputs": [
        {
          "data": {
            "text/markdown": [
              "**Obtén las ecuaciones de las rectas $r$ y $s$ y su punto de intersección sabiendo que:**"
            ],
            "text/plain": [
              "<IPython.core.display.Markdown object>"
            ]
          },
          "metadata": {
            "tags": []
          },
          "output_type": "display_data"
        },
        {
          "data": {
            "text/markdown": [
              "#### Ejercicio:"
            ],
            "text/plain": [
              "<IPython.core.display.Markdown object>"
            ]
          },
          "metadata": {
            "tags": []
          },
          "output_type": "display_data"
        },
        {
          "data": {
            "text/markdown": [
              "r pasa por $\\left( 1, \\  -2\\right)$ y es perpendicular a $6 x - 3 y + 6 = 0$. Y s pasa por $\\left( 3, \\  1\\right)$ y es paralela a $2 x + y - 7= 0$ $\\to$ Solución: \\\\ $r\\equiv y = - \\frac{x}{2} - \\frac{3}{2}$ \\\\ $s\\equiv y = 7 - 2 x\\to  $$\\left[ Point2D\\left(\\frac{17}{3}, - \\frac{13}{3}\\right)\\right] $ "
            ],
            "text/plain": [
              "<IPython.core.display.Markdown object>"
            ]
          },
          "metadata": {
            "tags": []
          },
          "output_type": "display_data"
        },
        {
          "name": "stdout",
          "output_type": "stream",
          "text": [
            "enunciado_latex: r pasa por $\\left( 1, \\  -2\\right)$ y es perpendicular a $6 x - 3 y + 6 = 0$. Y s pasa por $\\left( 3, \\  1\\right)$ y es paralela a $2 x + y - 7= 0$\n",
            "solucion_latex: Solución: \\\\ $r\\equiv y = - \\frac{x}{2} - \\frac{3}{2}$ \\\\ $s\\equiv y = 7 - 2 x\\to  $$\\left[ Point2D\\left(\\frac{17}{3}, - \\frac{13}{3}\\right)\\right] $ \n"
          ]
        },
        {
          "data": {
            "text/markdown": [
              "#### Ejercicio:"
            ],
            "text/plain": [
              "<IPython.core.display.Markdown object>"
            ]
          },
          "metadata": {
            "tags": []
          },
          "output_type": "display_data"
        },
        {
          "data": {
            "text/markdown": [
              "r pasa por $\\left( 1, \\  3\\right)$ y es perpendicular a $4 x - 2 y + 1 = 0$. Y s pasa por $\\left( 3, \\  1\\right)$ y es paralela a $2 x + y - 3= 0$ $\\to$ Solución: \\\\ $r\\equiv y = \\frac{7}{2} - \\frac{x}{2}$ \\\\ $s\\equiv y = 7 - 2 x\\to  $$\\left[ Point2D\\left(\\frac{7}{3}, \\frac{7}{3}\\right)\\right] $ "
            ],
            "text/plain": [
              "<IPython.core.display.Markdown object>"
            ]
          },
          "metadata": {
            "tags": []
          },
          "output_type": "display_data"
        },
        {
          "name": "stdout",
          "output_type": "stream",
          "text": [
            "enunciado_latex: r pasa por $\\left( 1, \\  3\\right)$ y es perpendicular a $4 x - 2 y + 1 = 0$. Y s pasa por $\\left( 3, \\  1\\right)$ y es paralela a $2 x + y - 3= 0$\n",
            "solucion_latex: Solución: \\\\ $r\\equiv y = \\frac{7}{2} - \\frac{x}{2}$ \\\\ $s\\equiv y = 7 - 2 x\\to  $$\\left[ Point2D\\left(\\frac{7}{3}, \\frac{7}{3}\\right)\\right] $ \n",
            "\\question Obtén las ecuaciones de las rectas $r$ y $s$ y su punto de intersección sabiendo que:\\begin{parts} \\part[1] r pasa por $\\left( 1, \\  -2\\right)$ y es perpendicular a $6 x - 3 y + 6 = 0$. Y s pasa por $\\left( 3, \\  1\\right)$ y es paralela a $2 x + y - 7= 0$\\begin{solution} Solución: \\\\ $r\\equiv y = - \\dfrac{x}{2} - \\dfrac{3}{2}$ \\\\ $s\\equiv y = 7 - 2 x\\to  $$\\left[ Point2D\\left(\\dfrac{17}{3}, - \\dfrac{13}{3}\\right)\\right] $ \\end{solution} \\part[1] r pasa por $\\left( 1, \\  3\\right)$ y es perpendicular a $4 x - 2 y + 1 = 0$. Y s pasa por $\\left( 3, \\  1\\right)$ y es paralela a $2 x + y - 3= 0$\\begin{solution} Solución: \\\\ $r\\equiv y = \\dfrac{7}{2} - \\dfrac{x}{2}$ \\\\ $s\\equiv y = 7 - 2 x\\to  $$\\left[ Point2D\\left(\\dfrac{7}{3}, \\dfrac{7}{3}\\right)\\right] $ \\end{solution} \\end{parts} \n"
          ]
        }
      ]
    },
    {
      "cell_type": "code",
      "metadata": {
        "id": "3l4Vu5EmhSIH",
        "outputId": "7b4b4849-1a5c-40c8-9c01-aa1e1d79f61a"
      },
      "source": [
        "# Calcular distancias\n",
        "\n",
        "texto_ejercicio = 'Calcula la distancia entre $P$ y $Q$ siendo:'\n",
        "display(md(\"**\"+texto_ejercicio+\"**\"))\n",
        "\n",
        "pre_enunciado_latex = [\n",
        "#     [(3, 5), (3,-7)],\n",
        "#     [(-8, 3), (-6,1)],\n",
        "#     [(0, -3), (-5,1)],\n",
        "#     [(-3, 0), (15,0)],\n",
        "    [(-2, 0), (12,0)],\n",
        "    [(-1, 1), (3,1)],\n",
        "    [(-2, 2), (3,-4)],\n",
        "                      ]\n",
        "question=texto_ejercicio\n",
        "parts=[]\n",
        "for i in pre_enunciado_latex :\n",
        "    enun = r\"Siendo $P\"+latex(i[0])+\"$ y $Q\"+latex(i[1])+\"$\"\n",
        "    P,Q=map(Point,i)\n",
        "    d=P.distance(Q)\n",
        "    sol=r\"$dist(P,Q)=|\"+latex((Q-P))+\"|=\"+latex(d)+r\"$\"\n",
        "    mostrar_ejercicio(enun, sol) \n",
        "    parts.append([enun, sol])         \n",
        "\n",
        "print(latex_exam(question, parts).replace(r'\\frac',r'\\dfrac'))"
      ],
      "execution_count": null,
      "outputs": [
        {
          "data": {
            "text/markdown": [
              "**Calcula la distancia entre $P$ y $Q$ siendo:**"
            ],
            "text/plain": [
              "<IPython.core.display.Markdown object>"
            ]
          },
          "metadata": {
            "tags": []
          },
          "output_type": "display_data"
        },
        {
          "data": {
            "text/markdown": [
              "#### Ejercicio:"
            ],
            "text/plain": [
              "<IPython.core.display.Markdown object>"
            ]
          },
          "metadata": {
            "tags": []
          },
          "output_type": "display_data"
        },
        {
          "data": {
            "text/markdown": [
              "Siendo $P\\left( -2, \\  0\\right)$ y $Q\\left( 12, \\  0\\right)$ $\\to$ $dist(P,Q)=|Point2D\\left(14, 0\\right)|=14$"
            ],
            "text/plain": [
              "<IPython.core.display.Markdown object>"
            ]
          },
          "metadata": {
            "tags": []
          },
          "output_type": "display_data"
        },
        {
          "name": "stdout",
          "output_type": "stream",
          "text": [
            "enunciado_latex: Siendo $P\\left( -2, \\  0\\right)$ y $Q\\left( 12, \\  0\\right)$\n",
            "solucion_latex: $dist(P,Q)=|Point2D\\left(14, 0\\right)|=14$\n"
          ]
        },
        {
          "data": {
            "text/markdown": [
              "#### Ejercicio:"
            ],
            "text/plain": [
              "<IPython.core.display.Markdown object>"
            ]
          },
          "metadata": {
            "tags": []
          },
          "output_type": "display_data"
        },
        {
          "data": {
            "text/markdown": [
              "Siendo $P\\left( -1, \\  1\\right)$ y $Q\\left( 3, \\  1\\right)$ $\\to$ $dist(P,Q)=|Point2D\\left(4, 0\\right)|=4$"
            ],
            "text/plain": [
              "<IPython.core.display.Markdown object>"
            ]
          },
          "metadata": {
            "tags": []
          },
          "output_type": "display_data"
        },
        {
          "name": "stdout",
          "output_type": "stream",
          "text": [
            "enunciado_latex: Siendo $P\\left( -1, \\  1\\right)$ y $Q\\left( 3, \\  1\\right)$\n",
            "solucion_latex: $dist(P,Q)=|Point2D\\left(4, 0\\right)|=4$\n"
          ]
        },
        {
          "data": {
            "text/markdown": [
              "#### Ejercicio:"
            ],
            "text/plain": [
              "<IPython.core.display.Markdown object>"
            ]
          },
          "metadata": {
            "tags": []
          },
          "output_type": "display_data"
        },
        {
          "data": {
            "text/markdown": [
              "Siendo $P\\left( -2, \\  2\\right)$ y $Q\\left( 3, \\  -4\\right)$ $\\to$ $dist(P,Q)=|Point2D\\left(5, -6\\right)|=\\sqrt{61}$"
            ],
            "text/plain": [
              "<IPython.core.display.Markdown object>"
            ]
          },
          "metadata": {
            "tags": []
          },
          "output_type": "display_data"
        },
        {
          "name": "stdout",
          "output_type": "stream",
          "text": [
            "enunciado_latex: Siendo $P\\left( -2, \\  2\\right)$ y $Q\\left( 3, \\  -4\\right)$\n",
            "solucion_latex: $dist(P,Q)=|Point2D\\left(5, -6\\right)|=\\sqrt{61}$\n",
            "\\question Calcula la distancia entre $P$ y $Q$ siendo:\\begin{parts} \\part[1] Siendo $P\\left( -2, \\  0\\right)$ y $Q\\left( 12, \\  0\\right)$\\begin{solution} $dist(P,Q)=|Point2D\\left(14, 0\\right)|=14$\\end{solution} \\part[1] Siendo $P\\left( -1, \\  1\\right)$ y $Q\\left( 3, \\  1\\right)$\\begin{solution} $dist(P,Q)=|Point2D\\left(4, 0\\right)|=4$\\end{solution} \\part[1] Siendo $P\\left( -2, \\  2\\right)$ y $Q\\left( 3, \\  -4\\right)$\\begin{solution} $dist(P,Q)=|Point2D\\left(5, -6\\right)|=\\sqrt{61}$\\end{solution} \\end{parts} \n"
          ]
        }
      ]
    },
    {
      "cell_type": "code",
      "metadata": {
        "id": "kuELr7E2hSIJ",
        "outputId": "5304d1d0-8ce9-4e22-d26e-75d5e508abd2"
      },
      "source": [
        "# Calcular distancias de un triángulo\n",
        "\n",
        "texto_ejercicio = 'Calcula el perímetro del triángulo de vértices $A$, $B$ y $C$ siendo:'\n",
        "display(md(\"**\"+texto_ejercicio+\"**\"))\n",
        "\n",
        "pre_enunciado_latex = [\n",
        "#     [(-4, 1), (6,3),(-2,-3)],\n",
        "        [(-2, 1), (4,1),(-1,-2)],\n",
        "                      ]\n",
        "question=texto_ejercicio\n",
        "parts=[]\n",
        "for i in pre_enunciado_latex :\n",
        "    enun = r\"Siendo $A\"+latex(i[0])+\"$, $B\"+latex(i[1])+\"$ y $C\"+latex(i[2])+\"$\"\n",
        "    A,B,C=map(Point,i)\n",
        "    d1=A.distance(B)\n",
        "    d2=A.distance(C)\n",
        "    d3=B.distance(C)\n",
        "    sol=r\"Los lados miden $\"+latex(d1)+\"$, $\"+latex(d2)+\"$ y $\"+latex(d3)+r\"\\to Perímetro\\approx\"+latex(round(d1+d2+d3,2))+\"$\"\n",
        "#     sol=enun\n",
        "    mostrar_ejercicio(enun, sol) \n",
        "    parts.append([enun, sol])         \n",
        "\n",
        "print(latex_exam(question, parts).replace(r'\\frac',r'\\dfrac'))"
      ],
      "execution_count": null,
      "outputs": [
        {
          "data": {
            "text/markdown": [
              "**Calcula el perímetro del triángulo de vértices $A$, $B$ y $C$ siendo:**"
            ],
            "text/plain": [
              "<IPython.core.display.Markdown object>"
            ]
          },
          "metadata": {
            "tags": []
          },
          "output_type": "display_data"
        },
        {
          "data": {
            "text/markdown": [
              "#### Ejercicio:"
            ],
            "text/plain": [
              "<IPython.core.display.Markdown object>"
            ]
          },
          "metadata": {
            "tags": []
          },
          "output_type": "display_data"
        },
        {
          "data": {
            "text/markdown": [
              "Siendo $A\\left( -2, \\  1\\right)$, $B\\left( 4, \\  1\\right)$ y $C\\left( -1, \\  -2\\right)$ $\\to$ Los lados miden $6$, $\\sqrt{10}$ y $\\sqrt{34}\\to Perímetro\\approx14.99$"
            ],
            "text/plain": [
              "<IPython.core.display.Markdown object>"
            ]
          },
          "metadata": {
            "tags": []
          },
          "output_type": "display_data"
        },
        {
          "name": "stdout",
          "output_type": "stream",
          "text": [
            "enunciado_latex: Siendo $A\\left( -2, \\  1\\right)$, $B\\left( 4, \\  1\\right)$ y $C\\left( -1, \\  -2\\right)$\n",
            "solucion_latex: Los lados miden $6$, $\\sqrt{10}$ y $\\sqrt{34}\\to Perímetro\\approx14.99$\n",
            "\\question Calcula el perímetro del triángulo de vértices $A$, $B$ y $C$ siendo:\\begin{parts} \\part[1] Siendo $A\\left( -2, \\  1\\right)$, $B\\left( 4, \\  1\\right)$ y $C\\left( -1, \\  -2\\right)$\\begin{solution} Los lados miden $6$, $\\sqrt{10}$ y $\\sqrt{34}\\to Perímetro\\approx14.99$\\end{solution} \\end{parts} \n"
          ]
        }
      ]
    }
  ]
}