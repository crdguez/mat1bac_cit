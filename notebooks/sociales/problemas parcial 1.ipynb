{
 "cells": [
  {
   "cell_type": "code",
   "execution_count": 59,
   "metadata": {},
   "outputs": [
    {
     "name": "stdout",
     "output_type": "stream",
     "text": [
      "IPython console for SymPy 1.6.2 (Python 3.6.12-64-bit) (ground types: gmpy)\n",
      "\n",
      "These commands were executed:\n",
      ">>> from __future__ import division\n",
      ">>> from sympy import *\n",
      ">>> x, y, z, t = symbols('x y z t')\n",
      ">>> k, m, n = symbols('k m n', integer=True)\n",
      ">>> f, g, h = symbols('f g h', cls=Function)\n",
      ">>> init_printing()\n",
      "\n",
      "Documentation can be found at https://docs.sympy.org/1.6.2/\n",
      "\n"
     ]
    }
   ],
   "source": [
    "from sympy import init_session\n",
    "from sympy import *\n",
    "from sympy.parsing.latex import parse_latex\n",
    "from sympy.parsing.sympy_parser import parse_expr\n",
    "from sympy.solvers.inequalities import solve_univariate_inequality\n",
    "\n",
    "init_session()"
   ]
  },
  {
   "cell_type": "code",
   "execution_count": 71,
   "metadata": {},
   "outputs": [
    {
     "name": "stdout",
     "output_type": "stream",
     "text": [
      "\\left[ 81.4713896457766, \\  81, \\  0.5, \\  0.00617283950617284\\right]\n"
     ]
    }
   ],
   "source": [
    "# La masa de la Tierra es $5.98\\cdot 10^{24}$ kg y la masa de la Luna es de $7,34\\cdot 10^{22}$ kg. ¿Cuántas Lunas se podrán formar con la masa de la Tierra? Da el resultado con dos cifras significativas y obtén cotas del error absoluto y relativo producidos en el redondeo.\n",
    "\n",
    "datos=list(map(parse_latex,[r\"5.98\\cdot 10^{24}\",\"7.34\\cdot 10^{22}\"]))\n",
    "\n",
    "print(latex([datos[0]/datos[1],S('{:.2g}'.format(datos[0]/datos[1])), S('0.5'), 0.5/S('{:.2g}'.format(datos[0]/datos[1]))])\n",
    ")\n"
   ]
  },
  {
   "cell_type": "code",
   "execution_count": 74,
   "metadata": {},
   "outputs": [
    {
     "data": {
      "text/plain": [
       "'\\\\sqrt{5}'"
      ]
     },
     "execution_count": 74,
     "metadata": {},
     "output_type": "execute_result"
    }
   ],
   "source": [
    "\n",
    "datos=list(map(parse_latex,[r\"\\frac{1+\\sqrt{5}}{\\sqrt{5}-1}+\\frac{1-\\sqrt{5}}{\\sqrt{5}+1}\"]))\n",
    "datos\n",
    "latex(simplify(datos[0]))"
   ]
  },
  {
   "cell_type": "code",
   "execution_count": 77,
   "metadata": {},
   "outputs": [
    {
     "data": {
      "image/png": "[encoded data removed]",
      "text/latex": [
       "$\\displaystyle \\frac{\\log{\\left(8 \\right)}}{\\log{\\left(3 \\right)}}$"
      ],
      "text/plain": [
       "log(8)\n",
       "──────\n",
       "log(3)"
      ]
     },
     "execution_count": 77,
     "metadata": {},
     "output_type": "execute_result"
    }
   ],
   "source": [
    "parse_latex(r'\\log_{8}5')\n",
    "log(2,x)"
   ]
  }
 ],
 "metadata": {
  "kernelspec": {
   "display_name": "Python 3",
   "language": "python",
   "name": "python3"
  },
  "language_info": {
   "codemirror_mode": {
    "name": "ipython",
    "version": 3
   },
   "file_extension": ".py",
   "mimetype": "text/x-python",
   "name": "python",
   "nbconvert_exporter": "python",
   "pygments_lexer": "ipython3",
   "version": "3.6.12"
  }
 },
 "nbformat": 4,
 "nbformat_minor": 4
}
