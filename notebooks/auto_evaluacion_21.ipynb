{
 "cells": [
  {
   "cell_type": "code",
   "execution_count": 2,
   "metadata": {},
   "outputs": [
    {
     "name": "stdout",
     "output_type": "stream",
     "text": [
      "IPython console for SymPy 1.2 (Python 3.6.5-64-bit) (ground types: gmpy)\n",
      "\n",
      "These commands were executed:\n",
      ">>> from __future__ import division\n",
      ">>> from sympy import *\n",
      ">>> x, y, z, t = symbols('x y z t')\n",
      ">>> k, m, n = symbols('k m n', integer=True)\n",
      ">>> f, g, h = symbols('f g h', cls=Function)\n",
      ">>> init_printing()\n",
      "\n",
      "Documentation can be found at http://docs.sympy.org/1.2/\n",
      "\n"
     ]
    }
   ],
   "source": [
    "from sympy import init_session\n",
    "from sympy import div, QQ\n",
    "from sympy.parsing.latex import parse_latex\n",
    "from sympy.parsing.sympy_parser import parse_expr\n",
    "from IPython.display import Markdown as md\n",
    "from IPython.display import display\n",
    "import numpy as np\n",
    "import pandas as pd\n",
    "    \n",
    "from sympy.geometry import Point, Line\n",
    "from sympy.vector import CoordSys3D, vector\n",
    "\n",
    "\n",
    "init_session()\n",
    "\n",
    "a, b, c, d = symbols('a b c d', real = True)\n",
    "from docparts import añadir_ejercicios, doc_ejer, escribir_preambulo, escribir_ejercicios, escribir_fin\n",
    "\n",
    "df_ejercicios = pd.DataFrame()\n",
    "df_ejercicios = pd.DataFrame()\n",
    "\n",
    "fichero = 'autoev21'\n",
    "titulo = 'Autoevaluación 1 ev2'\n",
    "curso = '1BC'\n"
   ]
  },
  {
   "cell_type": "code",
   "execution_count": 2,
   "metadata": {},
   "outputs": [],
   "source": [
    "def simbolo (operacion):\n",
    "    if operacion == '<=' :\n",
    "        return('\\leq')\n",
    "    elif operacion == '>=' :\n",
    "        return('\\geq')\n",
    "    else :\n",
    "        return(operacion)"
   ]
  },
  {
   "cell_type": "code",
   "execution_count": 3,
   "metadata": {},
   "outputs": [],
   "source": [
    "def sol_sist(sist):\n",
    "    # Función que recibe un sistema de ecuaciones en Latex y devuelve: \n",
    "    # El sistema en latex, la lista de exuaciones sympy, la solución y la matriz de ecuacuibes\n",
    "    \n",
    "    sist_latex = r\"\"\"\\left\\{\\begin{matrix}\"\"\"\n",
    "    eq = []\n",
    "    sb = EmptySet() # variables de las ecuaciones\n",
    "    \n",
    "    for i,e in enumerate(sist):\n",
    "        sist_latex = sist_latex + e + r'\\\\ '\n",
    "        eq.append(Eq(parse_latex(e[:e.find('=')]),parse_latex(e[e.find('=')+1:])).simplify())\n",
    "        sb = parse_latex(e[:e.find('=')]).free_symbols.union(sb)\n",
    "        sb = parse_latex(e[e.find('=')+1:]).free_symbols.union(sb)\n",
    "        \n",
    "       \n",
    "\n",
    "    sist_latex = sist_latex + r'\\end{matrix}\\right.'\n",
    "    \n",
    "    matriz = linear_eq_to_matrix(eq,list(sb))\n",
    "    matriz = matriz[0].row_join(matriz[1])\n",
    "    \n",
    "    return [sist_latex, eq, solve(eq), matriz]    "
   ]
  },
  {
   "cell_type": "code",
   "execution_count": 4,
   "metadata": {},
   "outputs": [
    {
     "data": {
      "text/markdown": [
       "**¿Son equipolentes los vectores  $\\overrightarrow {AB} $  y  $\\overrightarrow {CD} $ siendo A, B, C y D los puntos de coordenadas:?**"
      ],
      "text/plain": [
       "<IPython.core.display.Markdown object>"
      ]
     },
     "metadata": {},
     "output_type": "display_data"
    },
    {
     "data": {
      "text/markdown": [
       "A(2, 4), B(7, 3), C(-2, 0) y D(3, -1)$ \\rightarrow $Point2D(5, -1), Point2D(5, -1): True"
      ],
      "text/plain": [
       "<IPython.core.display.Markdown object>"
      ]
     },
     "metadata": {},
     "output_type": "display_data"
    }
   ],
   "source": [
    "# Página 27 ejercicio 4\n",
    "\n",
    "texto_ejercicio = '¿Son equipolentes los vectores  $\\overrightarrow {AB} $  y  $\\overrightarrow {CD} $ siendo A, B, C y D los puntos de coordenadas:?'\n",
    "n_ejercicio = 'p21e01'\n",
    "\n",
    "display(md(\"**\"+texto_ejercicio+\"**\"))\n",
    "\n",
    "pre_enunciado_latex = [[(2 , 4), (7 , 3), (-2, 0), (3, -1)],\n",
    "                ]\n",
    "\n",
    "enunciado_latex, enunciado, solucion = [], [], []\n",
    "\n",
    "for i, s in enumerate(pre_enunciado_latex) : \n",
    "    el = r\"A\"+str(s[0])+r\", B\"+str(s[1])+r\", C\"+str(s[2])+r\" y D\"+str(s[3]) \n",
    "    enunciado_latex.append(el)\n",
    "    en = [Point(s[j]) for j in range(len(s))]\n",
    "    enunciado.append(en)\n",
    "    so = str(Line(en[0],en[1]).direction)+\", \"+str(Line(en[2],en[3]).direction)+\": \"+str(Line(en[0],en[1]).direction.equals(Line(en[2],en[3]).direction))\n",
    "    solucion.append(so) \n",
    "    display(md( el +\"$ \\\\rightarrow $\" + solucion[i]))\n",
    "\n",
    "df_ejercicios = df_ejercicios.append(añadir_ejercicios(enunciado_latex, enunciado, solucion, texto_ejercicio, curso, titulo , n_ejercicio, '1', '2', enun_tex=False), ignore_index=True)\n"
   ]
  },
  {
   "cell_type": "code",
   "execution_count": 5,
   "metadata": {},
   "outputs": [
    {
     "data": {
      "text/markdown": [
       "**Sea \n",
       "$\\left\\lbrace\\overrightarrow{ i},\\overrightarrow{ j}\\right\\rbrace$ la base canónica de $V_2$, y los vectores:\n",
       "$\\overrightarrow u=  - 3\\overrightarrow i + \\overrightarrow j$, \n",
       "$\\overrightarrow v = 2\\overrightarrow i - 2\\overrightarrow j$, \n",
       "$\\overrightarrow w = \\overrightarrow i - \\overrightarrow j$, \n",
       "$\\overrightarrow z =  - \\overrightarrow i - 4\\overrightarrow j$\n",
       "\tCalcular:**"
      ],
      "text/plain": [
       "<IPython.core.display.Markdown object>"
      ]
     },
     "metadata": {},
     "output_type": "display_data"
    },
    {
     "data": {
      "image/png": "[encoded data removed]",
      "text/latex": [
       "$$\\left [ \\left [ \\left ( -3, \\quad 1\\right ), \\quad \\left ( 2, \\quad -2\\right ), \\quad \\left ( 1, \\quad -1\\right ), \\quad \\left ( -1, \\quad -4\\right )\\right ], \\quad \\left [ \\left ( 1, \\quad -3\\right ), \\quad \\left ( 6, \\quad -16\\right ), \\quad \\left ( 2, \\quad -2\\right ), \\quad \\left ( 3, \\quad 7\\right )\\right ]\\right ]$$"
      ],
      "text/plain": [
       "[[(-3, 1), (2, -2), (1, -1), (-1, -4)], [(1, -3), (6, -16), (2, -2), (3, 7)]]"
      ]
     },
     "metadata": {},
     "output_type": "display_data"
    }
   ],
   "source": [
    "# Página 35 ejercicio 1\n",
    "\n",
    "texto_ejercicio = r\"\"\"Sea \n",
    "$\\left\\lbrace\\overrightarrow{ i},\\overrightarrow{ j}\\right\\rbrace$ la base canónica de $V_2$, y los vectores:\n",
    "$\\overrightarrow u=  - 3\\overrightarrow i + \\overrightarrow j$, \n",
    "$\\overrightarrow v = 2\\overrightarrow i - 2\\overrightarrow j$, \n",
    "$\\overrightarrow w = \\overrightarrow i - \\overrightarrow j$, \n",
    "$\\overrightarrow z =  - \\overrightarrow i - 4\\overrightarrow j$\n",
    "\tCalcular:\"\"\"\n",
    "\n",
    "n_ejercicio = 'pa21e02'\n",
    "\n",
    "display(md(\"**\"+texto_ejercicio+\"**\"))\n",
    "\n",
    "N = CoordSys3D('N') #instanciamos un sistema de coordenadas en R3\n",
    "\n",
    "i, j, k = N.base_vectors()\n",
    "\n",
    "# vectores iniciales correspondientes al texto del enunciado\n",
    "\n",
    "vectores = [-3*i+j, 2*i-2*j, i-j, -i-4*j]\n",
    "\n",
    "u,v,w,z = vectores\n",
    "\n",
    "enunciado_latex = [\"\"\"Las coordenadas de cada uno de ellos respecto de la base canónica.\n",
    "\tLas coordenadas de los vectores:$\\overrightarrow u + 2\\overrightarrow v$, \n",
    "    $5\\overrightarrow u - \\overrightarrow w$, \n",
    "    $ - 3\\overrightarrow v + 4\\overrightarrow w$, \n",
    "    $\\overrightarrow w - 2\\overrightarrow z$\"\"\", ]\n",
    "\n",
    "enunciado = [[u+2*v, 5*u-w, -3*v+4*w, w-2*z]]\n",
    "\n",
    "solucion = []\n",
    "\n",
    "for i, s in enumerate(enunciado) : \n",
    "    so1 = [tuple(l.components.values()) for l in  vectores]\n",
    "    so2 = [tuple(l.components.values()) for l in s]\n",
    "    solucion.append([so1,so2])\n",
    "    display([so1,so2])\n",
    "\n",
    "df_ejercicios = df_ejercicios.append(añadir_ejercicios(enunciado_latex, enunciado, solucion, texto_ejercicio, curso, titulo , n_ejercicio, '1', '1', enun_tex=False), ignore_index=True)\n"
   ]
  },
  {
   "cell_type": "code",
   "execution_count": 6,
   "metadata": {},
   "outputs": [
    {
     "data": {
      "text/markdown": [
       "**Estudia la dependencia lineal de los siguientes conjuntos de vectores:**"
      ],
      "text/plain": [
       "<IPython.core.display.Markdown object>"
      ]
     },
     "metadata": {},
     "output_type": "display_data"
    },
    {
     "data": {
      "text/markdown": [
       "$\\overrightarrow{u}=(8, 12) \\, \\ \\overrightarrow{v}=(2, 3)$"
      ],
      "text/plain": [
       "<IPython.core.display.Markdown object>"
      ]
     },
     "metadata": {},
     "output_type": "display_data"
    },
    {
     "data": {
      "text/plain": [
       "True"
      ]
     },
     "metadata": {},
     "output_type": "display_data"
    },
    {
     "data": {
      "text/markdown": [
       "$\\overrightarrow{u}=(2, 6) \\, \\ \\overrightarrow{v}=(4, 7)$"
      ],
      "text/plain": [
       "<IPython.core.display.Markdown object>"
      ]
     },
     "metadata": {},
     "output_type": "display_data"
    },
    {
     "data": {
      "text/plain": [
       "False"
      ]
     },
     "metadata": {},
     "output_type": "display_data"
    }
   ],
   "source": [
    "# Página 35 ejercicio 2\n",
    "\n",
    "texto_ejercicio = r\"\"\"Estudia la dependencia lineal de los siguientes conjuntos de vectores:\"\"\"\n",
    "\n",
    "n_ejercicio = 'pa21e03'\n",
    "\n",
    "display(md(\"**\"+texto_ejercicio+\"**\"))\n",
    "\n",
    "pre_enunciado_latex = [[(8,12),(2,3)],\n",
    "                       [(2,6),(4,7)],\n",
    "\n",
    "                      ]\n",
    "\n",
    "enunciado_latex, enunciado, solucion = [],[],[]\n",
    "\n",
    "for i, s in enumerate(pre_enunciado_latex) :\n",
    "    enunciado_latex.append(r\"\\overrightarrow{u}=\"+str(s[0])+r\" \\, \\ \\overrightarrow{v}=\"+str(s[1]))\n",
    "    display(md(\"$\"+enunciado_latex[i]+\"$\"))\n",
    "    en=\"Point\"+str(s[0])+\".is_collinear(Point\"+str(s[1])+\", Point(0,0))\"\n",
    "    enunciado.append(en)\n",
    "    solucion.append(S(en))\n",
    "    display(solucion[i])\n",
    "\n",
    "df_ejercicios = df_ejercicios.append(añadir_ejercicios(enunciado_latex, enunciado, solucion, texto_ejercicio, curso, titulo , n_ejercicio, '1', '2', enun_tex=True), ignore_index=True)\n"
   ]
  },
  {
   "cell_type": "code",
   "execution_count": 7,
   "metadata": {},
   "outputs": [
    {
     "data": {
      "text/markdown": [
       "**Respecto de una base ortonormal tenemos dos vectores $\\overrightarrow{u}$ y $\\overrightarrow{v}$.\n",
       "Calcular $\\overrightarrow{u}\\cdot\\overrightarrow{v}$, $|\\overrightarrow{u}| \\ y \\ |\\overrightarrow{v}|$ \n",
       "y $\\angle(\\overrightarrow{u},\\overrightarrow{v})$ siendo:**"
      ],
      "text/plain": [
       "<IPython.core.display.Markdown object>"
      ]
     },
     "metadata": {},
     "output_type": "display_data"
    },
    {
     "data": {
      "text/markdown": [
       "$\\overrightarrow{u}=(2, -5) \\, \\ \\overrightarrow{v}=(6, 2)$"
      ],
      "text/plain": [
       "<IPython.core.display.Markdown object>"
      ]
     },
     "metadata": {},
     "output_type": "display_data"
    },
    {
     "data": {
      "text/markdown": [
       "$\\left [ 2, \\quad \\left [ \\sqrt{29}, \\quad 2 \\sqrt{10}\\right ], \\quad 86.6335393365702\\right ]$"
      ],
      "text/plain": [
       "<IPython.core.display.Markdown object>"
      ]
     },
     "metadata": {},
     "output_type": "display_data"
    },
    {
     "data": {
      "text/markdown": [
       "$\\overrightarrow{u}=(1, 4) \\, \\ \\overrightarrow{v}=(3, 8)$"
      ],
      "text/plain": [
       "<IPython.core.display.Markdown object>"
      ]
     },
     "metadata": {},
     "output_type": "display_data"
    },
    {
     "data": {
      "text/markdown": [
       "$\\left [ 35, \\quad \\left [ \\sqrt{17}, \\quad \\sqrt{73}\\right ], \\quad 6.51980175165697\\right ]$"
      ],
      "text/plain": [
       "<IPython.core.display.Markdown object>"
      ]
     },
     "metadata": {},
     "output_type": "display_data"
    }
   ],
   "source": [
    "# Página 36 ejercicio 9\n",
    "\n",
    "texto_ejercicio = r\"\"\"Respecto de una base ortonormal tenemos dos vectores $\\overrightarrow{u}$ y $\\overrightarrow{v}$.\n",
    "Calcular $\\overrightarrow{u}\\cdot\\overrightarrow{v}$, $|\\overrightarrow{u}| \\ y \\ |\\overrightarrow{v}|$ \n",
    "y $\\angle(\\overrightarrow{u},\\overrightarrow{v})$ siendo:\"\"\"\n",
    "\n",
    "\n",
    "n_ejercicio = 'pa21e04'\n",
    "\n",
    "display(md(\"**\"+texto_ejercicio+\"**\"))\n",
    "\n",
    "N = CoordSys3D('N') #instanciamos un sistema de coordenadas en R3\n",
    "\n",
    "i, j, k = N.base_vectors()\n",
    "\n",
    "pre_enunciado_latex = [[(2,-5),(6,2)],\n",
    "                       [(1,4),(3,8)],]\n",
    "\n",
    "enunciado_latex, enunciado, solucion = [],[],[]\n",
    "\n",
    "for i, s in enumerate(pre_enunciado_latex) :\n",
    "    enunciado_latex.append(r\"\\overrightarrow{u}=\"+str(s[0])+r\" \\, \\ \\overrightarrow{v}=\"+str(s[1]))\n",
    "    display(md(\"$\"+enunciado_latex[i]+\"$\"))\n",
    "    en=[\"Point\"+str(s[0])+\".dot(Point\"+str(s[1])+\")\"]\n",
    "    en.append([\"Point\"+str(s[0])+\".distance(Point(0,0))\",\"Point\"+str(s[1])+\".distance(Point(0,0))\"])\n",
    "    angulo = float(deg(acos(float(S(str(en[0])+\"/(\"+str(en[1][0])+\"*\"+str(en[1][1])+\")\")))))\n",
    "    #en.append(\"acos(\"+str(en[0])+\"/(\"+str(en[1][0])+\"*\"+str(en[1][1])+\"))\")\n",
    "    en.append(angulo)\n",
    "    enunciado.append(en)\n",
    "    solucion.append(latex(S(en)))\n",
    "    \n",
    "    display(md(\"$\"+solucion[i]+\"$\"))\n",
    "\n",
    "df_ejercicios = df_ejercicios.append(añadir_ejercicios(enunciado_latex, enunciado, solucion, texto_ejercicio, curso, titulo , n_ejercicio, '1', '2', enun_tex=True), ignore_index=True)\n"
   ]
  },
  {
   "cell_type": "code",
   "execution_count": 8,
   "metadata": {},
   "outputs": [
    {
     "data": {
      "text/markdown": [
       "**Calcula x para que los vectores\n",
       "$\\overrightarrow{u}$ y $\\overrightarrow{v}$ formen 60º siendo: **"
      ],
      "text/plain": [
       "<IPython.core.display.Markdown object>"
      ]
     },
     "metadata": {},
     "output_type": "display_data"
    },
    {
     "data": {
      "text/markdown": [
       "$\\overrightarrow{u}=(6, x) \\, \\ \\overrightarrow{v}=(10, 2)$"
      ],
      "text/plain": [
       "<IPython.core.display.Markdown object>"
      ]
     },
     "metadata": {},
     "output_type": "display_data"
    },
    {
     "data": {
      "image/png": "[encoded data removed]",
      "text/latex": [
       "$$\\frac{\\sqrt{26} \\left(2 x + 60\\right)}{52 \\sqrt{x^{2} + 36}} = \\frac{1}{2}$$"
      ],
      "text/plain": [
       " √26⋅(2⋅x + 60)      \n",
       "─────────────── = 1/2\n",
       "      _________      \n",
       "     ╱  2            \n",
       "52⋅╲╱  x  + 36       "
      ]
     },
     "metadata": {},
     "output_type": "display_data"
    },
    {
     "data": {
      "text/markdown": [
       "$\\left [ \\frac{60}{11} + \\frac{78 \\sqrt{3}}{11}, \\quad - \\frac{78 \\sqrt{3}}{11} + \\frac{60}{11}\\right ]$"
      ],
      "text/plain": [
       "<IPython.core.display.Markdown object>"
      ]
     },
     "metadata": {},
     "output_type": "display_data"
    }
   ],
   "source": [
    "# Página 36 ejercicio 15\n",
    "\n",
    "texto_ejercicio = r\"\"\"Calcula x para que los vectores\n",
    "$\\overrightarrow{u}$ y $\\overrightarrow{v}$ formen 60º siendo: \"\"\"\n",
    "\n",
    "\n",
    "n_ejercicio = 'pa21e05'\n",
    "\n",
    "display(md(\"**\"+texto_ejercicio+\"**\"))\n",
    "\n",
    "N = CoordSys3D('N') #instanciamos un sistema de coordenadas en R3\n",
    "\n",
    "i, j, k = N.base_vectors()\n",
    "\n",
    "pre_enunciado_latex = [[(6,x),(10,2)],\n",
    "\n",
    "                    \n",
    "                      ]\n",
    "\n",
    "enunciado_latex, enunciado, solucion = [],[],[]\n",
    "\n",
    "for id, s in enumerate(pre_enunciado_latex) :\n",
    "    enunciado_latex.append(r\"\\overrightarrow{u}=\"+str(s[0])+r\" \\, \\ \\overrightarrow{v}=\"+str(s[1]))\n",
    "    display(md(\"$\"+enunciado_latex[id]+\"$\"))\n",
    "    u = s[0][0]*i+s[0][1]*j\n",
    "    v = s[1][0]*i+s[1][1]*j\n",
    "    en=Eq(u.dot(v)/(u.magnitude()*v.magnitude()),cos(rad(60)))\n",
    "    display(en)\n",
    "    enunciado.append(en)\n",
    "    solucion.append(latex(solve(en)))\n",
    "    \n",
    "    display(md(\"$\"+solucion[id]+\"$\"))\n",
    "\n",
    "df_ejercicios = df_ejercicios.append(añadir_ejercicios(enunciado_latex, enunciado, solucion, texto_ejercicio, curso, titulo , n_ejercicio, '1', '2', enun_tex=True), ignore_index=True)\n"
   ]
  },
  {
   "cell_type": "code",
   "execution_count": 9,
   "metadata": {},
   "outputs": [
    {
     "data": {
      "text/markdown": [
       "**Resolver las siguientes ecuaciones para ángulos en el primer cuadrante:**"
      ],
      "text/plain": [
       "<IPython.core.display.Markdown object>"
      ]
     },
     "metadata": {},
     "output_type": "display_data"
    },
    {
     "data": {
      "text/markdown": [
       "$\\sin{2x}=\\frac{\\sqrt {3}}{2} \\rightarrow \\left [ \\frac{\\pi}{6}, \\quad \\frac{\\pi}{3}\\right ]$"
      ],
      "text/plain": [
       "<IPython.core.display.Markdown object>"
      ]
     },
     "metadata": {},
     "output_type": "display_data"
    },
    {
     "data": {
      "text/markdown": [
       "$\\tan{\\frac{x}{2}}=1 \\rightarrow \\left [ \\frac{\\pi}{2}\\right ]$"
      ],
      "text/plain": [
       "<IPython.core.display.Markdown object>"
      ]
     },
     "metadata": {},
     "output_type": "display_data"
    },
    {
     "data": {
      "text/markdown": [
       "$\\sin{(3x-\\frac{\\pi}{2})}=-\\frac{\\sqrt{2}}{2} \\rightarrow \\left [ \\frac{\\pi}{12}, \\quad \\frac{7 \\pi}{12}\\right ]$"
      ],
      "text/plain": [
       "<IPython.core.display.Markdown object>"
      ]
     },
     "metadata": {},
     "output_type": "display_data"
    }
   ],
   "source": [
    "# Página 41 ejercicio 27\n",
    "\n",
    "texto_ejercicio = 'Resolver las siguientes ecuaciones para ángulos en el primer cuadrante:'\n",
    "n_ejercicio = 'pa21e06'\n",
    "\n",
    "display(md(\"**\"+texto_ejercicio+\"**\"))\n",
    "\n",
    "enunciado_latex = [r'\\sin{2x}=\\frac{\\sqrt {3}}{2}',\n",
    "                   r'\\tan{\\frac{x}{2}}=1',\n",
    "                   r'\\sin{(3x-\\frac{\\pi}{2})}=-\\frac{\\sqrt{2}}{2}',\n",
    "                   \n",
    "                  ]\n",
    "                                       \n",
    "\n",
    "\n",
    "\n",
    "\n",
    "enunciado, solucion = [], []\n",
    "\n",
    "for i, s in enumerate(enunciado_latex) :\n",
    "    enunciado.append(parse_latex(s))\n",
    "    #solucion.append(latex(solve(parse_latex(s)))) \n",
    "    solucion.append(latex([nsimplify(i/pi)*pi for i in solve(eval(str(parse_latex(s))))])) \n",
    "    display(md(\"$\"+ enunciado_latex[i] +\" \\\\rightarrow \" + solucion[i] +\"$\"))\n",
    "\n",
    "df_ejercicios = df_ejercicios.append(añadir_ejercicios(enunciado_latex, enunciado, solucion, texto_ejercicio, curso, titulo , n_ejercicio, '1', '1'), ignore_index=True)\n"
   ]
  },
  {
   "cell_type": "code",
   "execution_count": 3,
   "metadata": {},
   "outputs": [
    {
     "data": {
      "text/markdown": [
       "**Resolver las siguientes ecuaciones:**"
      ],
      "text/plain": [
       "<IPython.core.display.Markdown object>"
      ]
     },
     "metadata": {},
     "output_type": "display_data"
    },
    {
     "data": {
      "text/markdown": [
       "$\\tan{2x}=\\cot{x} \\rightarrow \\left [ -90.0, \\quad 90.0, \\quad -150.0, \\quad 150.0, \\quad -30.0, \\quad 30.0\\right ]$"
      ],
      "text/plain": [
       "<IPython.core.display.Markdown object>"
      ]
     },
     "metadata": {},
     "output_type": "display_data"
    },
    {
     "data": {
      "text/markdown": [
       "$\\sin{x}\\cos{x}=\\frac{1}{2} \\rightarrow \\left [ -135.0, \\quad 45.0\\right ]$"
      ],
      "text/plain": [
       "<IPython.core.display.Markdown object>"
      ]
     },
     "metadata": {},
     "output_type": "display_data"
    },
    {
     "data": {
      "text/markdown": [
       "$3\\sin{x}+\\cos{x}=1 \\rightarrow \\left [ 0.0, \\quad 143.13\\right ]$"
      ],
      "text/plain": [
       "<IPython.core.display.Markdown object>"
      ]
     },
     "metadata": {},
     "output_type": "display_data"
    }
   ],
   "source": [
    "texto_ejercicio = 'Resolver las siguientes ecuaciones:'\n",
    "n_ejercicio = 'pa21e07'\n",
    "\n",
    "enunciado_latex = [r'\\tan{2x}=\\cot{x}',\n",
    "                  r'\\sin{x}\\cos{x}=\\frac{1}{2}',\n",
    "                  r'3\\sin{x}+\\cos{x}=1',            \n",
    "                 ]\n",
    "                                       \n",
    "\n",
    "display(md(\"**\"+texto_ejercicio+\"**\"))\n",
    "\n",
    "                                       \n",
    "\n",
    "\n",
    "\n",
    "\n",
    "enunciado, solucion = [], []\n",
    "\n",
    "for i, s in enumerate(enunciado_latex) :\n",
    "    enunciado.append(parse_latex(s))\n",
    "    #solucion.append(latex(solve(parse_latex(s)))) \n",
    "    solucion.append(latex([round(float(deg(nsimplify(i/pi)*pi)),3) for i in solve(eval(str(parse_latex(s))))])) \n",
    "    display(md(\"$\"+ enunciado_latex[i] +\" \\\\rightarrow \" + solucion[i] +\"$\"))\n",
    "\n",
    "df_ejercicios = df_ejercicios.append(añadir_ejercicios(enunciado_latex, enunciado, solucion, texto_ejercicio, curso, titulo , n_ejercicio, '1', '1'), ignore_index=True)\n"
   ]
  },
  {
   "cell_type": "code",
   "execution_count": 4,
   "metadata": {},
   "outputs": [
    {
     "data": {
      "image/png": "[encoded data removed]",
      "text/latex": [
       "$$\\left [ \\frac{\\pi}{6}, \\quad - 2 \\operatorname{atan}{\\left (- 2 \\sqrt{2} + 3 \\right )}, \\quad - 2 \\operatorname{atan}{\\left (2 \\sqrt{2} + 3 \\right )}, \\quad 2 \\operatorname{atan}{\\left (\\sqrt{3} + 2 \\right )}\\right ]$$"
      ],
      "text/plain": [
       "⎡π                                                       ⎤\n",
       "⎢─, -2⋅atan(-2⋅√2 + 3), -2⋅atan(2⋅√2 + 3), 2⋅atan(√3 + 2)⎥\n",
       "⎣6                                                       ⎦"
      ]
     },
     "execution_count": 4,
     "metadata": {},
     "output_type": "execute_result"
    }
   ],
   "source": [
    "ecu = r'\\tan(x)+4\\cot(x)=5'\n",
    "ecu = r'\\sin(x)(\\sin(x)-1)=5\\cos^2(x)-4'\n",
    "#[round(float(deg(nsimplify(i/pi)*pi)),3) for i in solve(eval(str(parse_latex(ecu))))]\n",
    "solve(eval(str(parse_latex(ecu))))\n"
   ]
  },
  {
   "cell_type": "code",
   "execution_count": 6,
   "metadata": {},
   "outputs": [
    {
     "data": {
      "image/png": "[encoded data removed]",
      "text/latex": [
       "$$\\left ( 0, \\quad 0\\right )$$"
      ],
      "text/plain": [
       "(0, 0)"
      ]
     },
     "execution_count": 6,
     "metadata": {},
     "output_type": "execute_result"
    }
   ],
   "source": [
    "tan(rad(180)), cot(rad(90))"
   ]
  },
  {
   "cell_type": "code",
   "execution_count": 10,
   "metadata": {},
   "outputs": [
    {
     "data": {
      "image/png": "[encoded data removed]",
      "text/latex": [
       "$$\\left [ - \\frac{\\sqrt{3}}{3}, \\quad \\frac{\\sqrt{3}}{3}\\right ]$$"
      ],
      "text/plain": [
       "⎡-√3   √3⎤\n",
       "⎢────, ──⎥\n",
       "⎣ 3    3 ⎦"
      ]
     },
     "execution_count": 10,
     "metadata": {},
     "output_type": "execute_result"
    }
   ],
   "source": [
    "solve(Eq(2*y/(1-y**2),1/y))"
   ]
  },
  {
   "cell_type": "code",
   "execution_count": 14,
   "metadata": {},
   "outputs": [
    {
     "data": {
      "image/png": "[encoded data removed]",
      "text/latex": [
       "$$\\left [ - \\frac{\\pi}{6}, \\quad \\frac{\\pi}{6}\\right ]$$"
      ],
      "text/plain": [
       "⎡-π   π⎤\n",
       "⎢───, ─⎥\n",
       "⎣ 6   6⎦"
      ]
     },
     "execution_count": 14,
     "metadata": {},
     "output_type": "execute_result"
    }
   ],
   "source": [
    "solve(Eq(2*tan(x)/(1-tan(x)**2),1/tan(x)))"
   ]
  },
  {
   "cell_type": "code",
   "execution_count": 12,
   "metadata": {},
   "outputs": [
    {
     "data": {
      "image/png": "[encoded data removed]",
      "text/latex": [
       "$$\\left [ - \\frac{\\pi}{6}\\right ]$$"
      ],
      "text/plain": [
       "⎡-π ⎤\n",
       "⎢───⎥\n",
       "⎣ 6 ⎦"
      ]
     },
     "execution_count": 12,
     "metadata": {},
     "output_type": "execute_result"
    }
   ],
   "source": [
    "solve(tan(x)+sqrt(3)/3)"
   ]
  },
  {
   "cell_type": "code",
   "execution_count": 13,
   "metadata": {},
   "outputs": [
    {
     "data": {
      "image/png": "[encoded data removed]",
      "text/latex": [
       "$$\\tilde{\\infty}$$"
      ],
      "text/plain": [
       "zoo"
      ]
     },
     "execution_count": 13,
     "metadata": {},
     "output_type": "execute_result"
    }
   ],
   "source": [
    "tan(rad(90))"
   ]
  },
  {
   "cell_type": "code",
   "execution_count": null,
   "metadata": {},
   "outputs": [],
   "source": []
  },
  {
   "cell_type": "code",
   "execution_count": 8,
   "metadata": {},
   "outputs": [
    {
     "data": {
      "image/png": "[encoded data removed]",
      "text/latex": [
       "$$\\tan{\\left (2 x \\right )}$$"
      ],
      "text/plain": [
       "tan(2⋅x)"
      ]
     },
     "execution_count": 8,
     "metadata": {},
     "output_type": "execute_result"
    }
   ],
   "source": [
    "expand(simplify(tan(2*x)))"
   ]
  },
  {
   "cell_type": "code",
   "execution_count": 11,
   "metadata": {},
   "outputs": [
    {
     "data": {
      "text/markdown": [
       "**Dado el siguiente número $z$, calcula el valor de $\\frac{z-\\overline{z}}{z+\\overline{z}}$**"
      ],
      "text/plain": [
       "<IPython.core.display.Markdown object>"
      ]
     },
     "metadata": {},
     "output_type": "display_data"
    },
    {
     "data": {
      "text/markdown": [
       "$\\sqrt{3}-2\\sqrt{2}i \\rightarrow - \\frac{2 \\sqrt{6} i}{3}$"
      ],
      "text/plain": [
       "<IPython.core.display.Markdown object>"
      ]
     },
     "metadata": {},
     "output_type": "display_data"
    },
    {
     "data": {
      "text/markdown": [
       "$\\sqrt{2}-2\\sqrt{5}i \\rightarrow - \\sqrt{10} i$"
      ],
      "text/plain": [
       "<IPython.core.display.Markdown object>"
      ]
     },
     "metadata": {},
     "output_type": "display_data"
    }
   ],
   "source": [
    "# Página 45 ejercicio 12\n",
    "\n",
    "\n",
    "\n",
    "texto_ejercicio = 'Dado el siguiente número $z$, calcula el valor de $\\\\frac{z-\\overline{z}}{z+\\overline{z}}$'\n",
    "n_ejercicio = 'pa21e08'\n",
    "\n",
    "display(md(\"**\"+texto_ejercicio+\"**\"))\n",
    "\n",
    "enunciado_latex = [r'\\sqrt{3}-2\\sqrt{2}i', \n",
    "                   r'\\sqrt{2}-2\\sqrt{5}i', \n",
    "                   \n",
    "                   \n",
    "                  ]\n",
    "                                       \n",
    "\n",
    "\n",
    "\n",
    "\n",
    "enunciado, solucion = [], []\n",
    "\n",
    "for i, s in enumerate(enunciado_latex) :\n",
    "    enunciado.append(parse_latex(s))\n",
    "    solucion.append(latex((simplify(eval(str(parse_latex(s).replace('i','I'))))-conjugate(simplify(eval(str(parse_latex(s).replace('i','I'))))))/((simplify(eval(str(parse_latex(s).replace('i','I')))))+conjugate(simplify(eval(str(parse_latex(s).replace('i','I')))))))) \n",
    "    display(md(\"$\"+ enunciado_latex[i] +\" \\\\rightarrow \" + solucion[i] +\"$\"))\n",
    "\n",
    "df_ejercicios = df_ejercicios.append(añadir_ejercicios(enunciado_latex, enunciado, solucion, texto_ejercicio, curso, titulo , n_ejercicio, '1', '2'), ignore_index=True)\n"
   ]
  },
  {
   "cell_type": "code",
   "execution_count": 12,
   "metadata": {},
   "outputs": [
    {
     "data": {
      "text/markdown": [
       "**Ejercicio: **p21e01"
      ],
      "text/plain": [
       "<IPython.core.display.Markdown object>"
      ]
     },
     "metadata": {},
     "output_type": "display_data"
    },
    {
     "data": {
      "text/html": [
       "<div>\n",
       "<style scoped>\n",
       "    .dataframe tbody tr th:only-of-type {\n",
       "        vertical-align: middle;\n",
       "    }\n",
       "\n",
       "    .dataframe tbody tr th {\n",
       "        vertical-align: top;\n",
       "    }\n",
       "\n",
       "    .dataframe thead th {\n",
       "        text-align: right;\n",
       "    }\n",
       "</style>\n",
       "<table border=\"1\" class=\"dataframe\">\n",
       "  <thead>\n",
       "    <tr style=\"text-align: right;\">\n",
       "      <th></th>\n",
       "      <th>enunciado_latex</th>\n",
       "      <th>enunciado</th>\n",
       "      <th>solucion</th>\n",
       "      <th>texto</th>\n",
       "      <th>curso</th>\n",
       "      <th>titulo</th>\n",
       "      <th>n_ejercicio</th>\n",
       "      <th>dificultad</th>\n",
       "      <th>n_columnas</th>\n",
       "      <th>puntos</th>\n",
       "      <th>enun_tex</th>\n",
       "      <th>sol_tex</th>\n",
       "    </tr>\n",
       "  </thead>\n",
       "  <tbody>\n",
       "    <tr>\n",
       "      <th>0</th>\n",
       "      <td>A(2, 4), B(7, 3), C(-2, 0) y D(3, -1)</td>\n",
       "      <td>[Point2D(2, 4), Point2D(7, 3), Point2D(-2, 0),...</td>\n",
       "      <td>Point2D(5, -1), Point2D(5, -1): True</td>\n",
       "      <td>¿Son equipolentes los vectores  $\\overrightarr...</td>\n",
       "      <td>1BC</td>\n",
       "      <td>Autoevaluación 1 ev2</td>\n",
       "      <td>p21e01</td>\n",
       "      <td>1</td>\n",
       "      <td>2</td>\n",
       "      <td>1</td>\n",
       "      <td>False</td>\n",
       "      <td>True</td>\n",
       "    </tr>\n",
       "  </tbody>\n",
       "</table>\n",
       "</div>"
      ],
      "text/plain": [
       "                         enunciado_latex  \\\n",
       "0  A(2, 4), B(7, 3), C(-2, 0) y D(3, -1)   \n",
       "\n",
       "                                           enunciado  \\\n",
       "0  [Point2D(2, 4), Point2D(7, 3), Point2D(-2, 0),...   \n",
       "\n",
       "                               solucion  \\\n",
       "0  Point2D(5, -1), Point2D(5, -1): True   \n",
       "\n",
       "                                               texto curso  \\\n",
       "0  ¿Son equipolentes los vectores  $\\overrightarr...   1BC   \n",
       "\n",
       "                 titulo n_ejercicio  dificultad  n_columnas  puntos  enun_tex  \\\n",
       "0  Autoevaluación 1 ev2      p21e01           1           2       1     False   \n",
       "\n",
       "   sol_tex  \n",
       "0     True  "
      ]
     },
     "metadata": {},
     "output_type": "display_data"
    },
    {
     "data": {
      "text/markdown": [
       "**Ejercicio: **pa21e02"
      ],
      "text/plain": [
       "<IPython.core.display.Markdown object>"
      ]
     },
     "metadata": {},
     "output_type": "display_data"
    },
    {
     "data": {
      "text/html": [
       "<div>\n",
       "<style scoped>\n",
       "    .dataframe tbody tr th:only-of-type {\n",
       "        vertical-align: middle;\n",
       "    }\n",
       "\n",
       "    .dataframe tbody tr th {\n",
       "        vertical-align: top;\n",
       "    }\n",
       "\n",
       "    .dataframe thead th {\n",
       "        text-align: right;\n",
       "    }\n",
       "</style>\n",
       "<table border=\"1\" class=\"dataframe\">\n",
       "  <thead>\n",
       "    <tr style=\"text-align: right;\">\n",
       "      <th></th>\n",
       "      <th>enunciado_latex</th>\n",
       "      <th>enunciado</th>\n",
       "      <th>solucion</th>\n",
       "      <th>texto</th>\n",
       "      <th>curso</th>\n",
       "      <th>titulo</th>\n",
       "      <th>n_ejercicio</th>\n",
       "      <th>dificultad</th>\n",
       "      <th>n_columnas</th>\n",
       "      <th>puntos</th>\n",
       "      <th>enun_tex</th>\n",
       "      <th>sol_tex</th>\n",
       "    </tr>\n",
       "  </thead>\n",
       "  <tbody>\n",
       "    <tr>\n",
       "      <th>1</th>\n",
       "      <td>Las coordenadas de cada uno de ellos respecto ...</td>\n",
       "      <td>[N.i + (-3)*N.j, (-16)*N.i + 6*N.j, (-2)*N.i +...</td>\n",
       "      <td>[[(-3, 1), (2, -2), (1, -1), (-1, -4)], [(1, -...</td>\n",
       "      <td>Sea \\n$\\left\\lbrace\\overrightarrow{ i},\\overri...</td>\n",
       "      <td>1BC</td>\n",
       "      <td>Autoevaluación 1 ev2</td>\n",
       "      <td>pa21e02</td>\n",
       "      <td>1</td>\n",
       "      <td>1</td>\n",
       "      <td>1</td>\n",
       "      <td>False</td>\n",
       "      <td>True</td>\n",
       "    </tr>\n",
       "  </tbody>\n",
       "</table>\n",
       "</div>"
      ],
      "text/plain": [
       "                                     enunciado_latex  \\\n",
       "1  Las coordenadas de cada uno de ellos respecto ...   \n",
       "\n",
       "                                           enunciado  \\\n",
       "1  [N.i + (-3)*N.j, (-16)*N.i + 6*N.j, (-2)*N.i +...   \n",
       "\n",
       "                                            solucion  \\\n",
       "1  [[(-3, 1), (2, -2), (1, -1), (-1, -4)], [(1, -...   \n",
       "\n",
       "                                               texto curso  \\\n",
       "1  Sea \\n$\\left\\lbrace\\overrightarrow{ i},\\overri...   1BC   \n",
       "\n",
       "                 titulo n_ejercicio  dificultad  n_columnas  puntos  enun_tex  \\\n",
       "1  Autoevaluación 1 ev2     pa21e02           1           1       1     False   \n",
       "\n",
       "   sol_tex  \n",
       "1     True  "
      ]
     },
     "metadata": {},
     "output_type": "display_data"
    },
    {
     "data": {
      "text/markdown": [
       "**Ejercicio: **pa21e03"
      ],
      "text/plain": [
       "<IPython.core.display.Markdown object>"
      ]
     },
     "metadata": {},
     "output_type": "display_data"
    },
    {
     "data": {
      "text/html": [
       "<div>\n",
       "<style scoped>\n",
       "    .dataframe tbody tr th:only-of-type {\n",
       "        vertical-align: middle;\n",
       "    }\n",
       "\n",
       "    .dataframe tbody tr th {\n",
       "        vertical-align: top;\n",
       "    }\n",
       "\n",
       "    .dataframe thead th {\n",
       "        text-align: right;\n",
       "    }\n",
       "</style>\n",
       "<table border=\"1\" class=\"dataframe\">\n",
       "  <thead>\n",
       "    <tr style=\"text-align: right;\">\n",
       "      <th></th>\n",
       "      <th>enunciado_latex</th>\n",
       "      <th>enunciado</th>\n",
       "      <th>solucion</th>\n",
       "      <th>texto</th>\n",
       "      <th>curso</th>\n",
       "      <th>titulo</th>\n",
       "      <th>n_ejercicio</th>\n",
       "      <th>dificultad</th>\n",
       "      <th>n_columnas</th>\n",
       "      <th>puntos</th>\n",
       "      <th>enun_tex</th>\n",
       "      <th>sol_tex</th>\n",
       "    </tr>\n",
       "  </thead>\n",
       "  <tbody>\n",
       "    <tr>\n",
       "      <th>2</th>\n",
       "      <td>\\overrightarrow{u}=(8, 12) \\, \\ \\overrightarro...</td>\n",
       "      <td>Point(8, 12).is_collinear(Point(2, 3), Point(0...</td>\n",
       "      <td>True</td>\n",
       "      <td>Estudia la dependencia lineal de los siguiente...</td>\n",
       "      <td>1BC</td>\n",
       "      <td>Autoevaluación 1 ev2</td>\n",
       "      <td>pa21e03</td>\n",
       "      <td>1</td>\n",
       "      <td>2</td>\n",
       "      <td>1</td>\n",
       "      <td>True</td>\n",
       "      <td>True</td>\n",
       "    </tr>\n",
       "    <tr>\n",
       "      <th>3</th>\n",
       "      <td>\\overrightarrow{u}=(2, 6) \\, \\ \\overrightarrow...</td>\n",
       "      <td>Point(2, 6).is_collinear(Point(4, 7), Point(0,0))</td>\n",
       "      <td>False</td>\n",
       "      <td>Estudia la dependencia lineal de los siguiente...</td>\n",
       "      <td>1BC</td>\n",
       "      <td>Autoevaluación 1 ev2</td>\n",
       "      <td>pa21e03</td>\n",
       "      <td>1</td>\n",
       "      <td>2</td>\n",
       "      <td>1</td>\n",
       "      <td>True</td>\n",
       "      <td>True</td>\n",
       "    </tr>\n",
       "  </tbody>\n",
       "</table>\n",
       "</div>"
      ],
      "text/plain": [
       "                                     enunciado_latex  \\\n",
       "2  \\overrightarrow{u}=(8, 12) \\, \\ \\overrightarro...   \n",
       "3  \\overrightarrow{u}=(2, 6) \\, \\ \\overrightarrow...   \n",
       "\n",
       "                                           enunciado solucion  \\\n",
       "2  Point(8, 12).is_collinear(Point(2, 3), Point(0...     True   \n",
       "3  Point(2, 6).is_collinear(Point(4, 7), Point(0,0))    False   \n",
       "\n",
       "                                               texto curso  \\\n",
       "2  Estudia la dependencia lineal de los siguiente...   1BC   \n",
       "3  Estudia la dependencia lineal de los siguiente...   1BC   \n",
       "\n",
       "                 titulo n_ejercicio  dificultad  n_columnas  puntos  enun_tex  \\\n",
       "2  Autoevaluación 1 ev2     pa21e03           1           2       1      True   \n",
       "3  Autoevaluación 1 ev2     pa21e03           1           2       1      True   \n",
       "\n",
       "   sol_tex  \n",
       "2     True  \n",
       "3     True  "
      ]
     },
     "metadata": {},
     "output_type": "display_data"
    },
    {
     "data": {
      "text/markdown": [
       "**Ejercicio: **pa21e04"
      ],
      "text/plain": [
       "<IPython.core.display.Markdown object>"
      ]
     },
     "metadata": {},
     "output_type": "display_data"
    },
    {
     "data": {
      "text/html": [
       "<div>\n",
       "<style scoped>\n",
       "    .dataframe tbody tr th:only-of-type {\n",
       "        vertical-align: middle;\n",
       "    }\n",
       "\n",
       "    .dataframe tbody tr th {\n",
       "        vertical-align: top;\n",
       "    }\n",
       "\n",
       "    .dataframe thead th {\n",
       "        text-align: right;\n",
       "    }\n",
       "</style>\n",
       "<table border=\"1\" class=\"dataframe\">\n",
       "  <thead>\n",
       "    <tr style=\"text-align: right;\">\n",
       "      <th></th>\n",
       "      <th>enunciado_latex</th>\n",
       "      <th>enunciado</th>\n",
       "      <th>solucion</th>\n",
       "      <th>texto</th>\n",
       "      <th>curso</th>\n",
       "      <th>titulo</th>\n",
       "      <th>n_ejercicio</th>\n",
       "      <th>dificultad</th>\n",
       "      <th>n_columnas</th>\n",
       "      <th>puntos</th>\n",
       "      <th>enun_tex</th>\n",
       "      <th>sol_tex</th>\n",
       "    </tr>\n",
       "  </thead>\n",
       "  <tbody>\n",
       "    <tr>\n",
       "      <th>4</th>\n",
       "      <td>\\overrightarrow{u}=(2, -5) \\, \\ \\overrightarro...</td>\n",
       "      <td>['Point(2, -5).dot(Point(6, 2))', ['Point(2, -...</td>\n",
       "      <td>\\left [ 2, \\quad \\left [ \\sqrt{29}, \\quad 2 \\s...</td>\n",
       "      <td>Respecto de una base ortonormal tenemos dos ve...</td>\n",
       "      <td>1BC</td>\n",
       "      <td>Autoevaluación 1 ev2</td>\n",
       "      <td>pa21e04</td>\n",
       "      <td>1</td>\n",
       "      <td>2</td>\n",
       "      <td>1</td>\n",
       "      <td>True</td>\n",
       "      <td>True</td>\n",
       "    </tr>\n",
       "    <tr>\n",
       "      <th>5</th>\n",
       "      <td>\\overrightarrow{u}=(1, 4) \\, \\ \\overrightarrow...</td>\n",
       "      <td>['Point(1, 4).dot(Point(3, 8))', ['Point(1, 4)...</td>\n",
       "      <td>\\left [ 35, \\quad \\left [ \\sqrt{17}, \\quad \\sq...</td>\n",
       "      <td>Respecto de una base ortonormal tenemos dos ve...</td>\n",
       "      <td>1BC</td>\n",
       "      <td>Autoevaluación 1 ev2</td>\n",
       "      <td>pa21e04</td>\n",
       "      <td>1</td>\n",
       "      <td>2</td>\n",
       "      <td>1</td>\n",
       "      <td>True</td>\n",
       "      <td>True</td>\n",
       "    </tr>\n",
       "  </tbody>\n",
       "</table>\n",
       "</div>"
      ],
      "text/plain": [
       "                                     enunciado_latex  \\\n",
       "4  \\overrightarrow{u}=(2, -5) \\, \\ \\overrightarro...   \n",
       "5  \\overrightarrow{u}=(1, 4) \\, \\ \\overrightarrow...   \n",
       "\n",
       "                                           enunciado  \\\n",
       "4  ['Point(2, -5).dot(Point(6, 2))', ['Point(2, -...   \n",
       "5  ['Point(1, 4).dot(Point(3, 8))', ['Point(1, 4)...   \n",
       "\n",
       "                                            solucion  \\\n",
       "4  \\left [ 2, \\quad \\left [ \\sqrt{29}, \\quad 2 \\s...   \n",
       "5  \\left [ 35, \\quad \\left [ \\sqrt{17}, \\quad \\sq...   \n",
       "\n",
       "                                               texto curso  \\\n",
       "4  Respecto de una base ortonormal tenemos dos ve...   1BC   \n",
       "5  Respecto de una base ortonormal tenemos dos ve...   1BC   \n",
       "\n",
       "                 titulo n_ejercicio  dificultad  n_columnas  puntos  enun_tex  \\\n",
       "4  Autoevaluación 1 ev2     pa21e04           1           2       1      True   \n",
       "5  Autoevaluación 1 ev2     pa21e04           1           2       1      True   \n",
       "\n",
       "   sol_tex  \n",
       "4     True  \n",
       "5     True  "
      ]
     },
     "metadata": {},
     "output_type": "display_data"
    },
    {
     "data": {
      "text/markdown": [
       "**Ejercicio: **pa21e05"
      ],
      "text/plain": [
       "<IPython.core.display.Markdown object>"
      ]
     },
     "metadata": {},
     "output_type": "display_data"
    },
    {
     "data": {
      "text/html": [
       "<div>\n",
       "<style scoped>\n",
       "    .dataframe tbody tr th:only-of-type {\n",
       "        vertical-align: middle;\n",
       "    }\n",
       "\n",
       "    .dataframe tbody tr th {\n",
       "        vertical-align: top;\n",
       "    }\n",
       "\n",
       "    .dataframe thead th {\n",
       "        text-align: right;\n",
       "    }\n",
       "</style>\n",
       "<table border=\"1\" class=\"dataframe\">\n",
       "  <thead>\n",
       "    <tr style=\"text-align: right;\">\n",
       "      <th></th>\n",
       "      <th>enunciado_latex</th>\n",
       "      <th>enunciado</th>\n",
       "      <th>solucion</th>\n",
       "      <th>texto</th>\n",
       "      <th>curso</th>\n",
       "      <th>titulo</th>\n",
       "      <th>n_ejercicio</th>\n",
       "      <th>dificultad</th>\n",
       "      <th>n_columnas</th>\n",
       "      <th>puntos</th>\n",
       "      <th>enun_tex</th>\n",
       "      <th>sol_tex</th>\n",
       "    </tr>\n",
       "  </thead>\n",
       "  <tbody>\n",
       "    <tr>\n",
       "      <th>6</th>\n",
       "      <td>\\overrightarrow{u}=(6, x) \\, \\ \\overrightarrow...</td>\n",
       "      <td>Eq(sqrt(26)*(2*x + 60)/(52*sqrt(x**2 + 36)), 1/2)</td>\n",
       "      <td>\\left [ \\frac{60}{11} + \\frac{78 \\sqrt{3}}{11}...</td>\n",
       "      <td>Calcula x para que los vectores\\n$\\overrightar...</td>\n",
       "      <td>1BC</td>\n",
       "      <td>Autoevaluación 1 ev2</td>\n",
       "      <td>pa21e05</td>\n",
       "      <td>1</td>\n",
       "      <td>2</td>\n",
       "      <td>1</td>\n",
       "      <td>True</td>\n",
       "      <td>True</td>\n",
       "    </tr>\n",
       "  </tbody>\n",
       "</table>\n",
       "</div>"
      ],
      "text/plain": [
       "                                     enunciado_latex  \\\n",
       "6  \\overrightarrow{u}=(6, x) \\, \\ \\overrightarrow...   \n",
       "\n",
       "                                           enunciado  \\\n",
       "6  Eq(sqrt(26)*(2*x + 60)/(52*sqrt(x**2 + 36)), 1/2)   \n",
       "\n",
       "                                            solucion  \\\n",
       "6  \\left [ \\frac{60}{11} + \\frac{78 \\sqrt{3}}{11}...   \n",
       "\n",
       "                                               texto curso  \\\n",
       "6  Calcula x para que los vectores\\n$\\overrightar...   1BC   \n",
       "\n",
       "                 titulo n_ejercicio  dificultad  n_columnas  puntos  enun_tex  \\\n",
       "6  Autoevaluación 1 ev2     pa21e05           1           2       1      True   \n",
       "\n",
       "   sol_tex  \n",
       "6     True  "
      ]
     },
     "metadata": {},
     "output_type": "display_data"
    },
    {
     "data": {
      "text/markdown": [
       "**Ejercicio: **pa21e06"
      ],
      "text/plain": [
       "<IPython.core.display.Markdown object>"
      ]
     },
     "metadata": {},
     "output_type": "display_data"
    },
    {
     "data": {
      "text/html": [
       "<div>\n",
       "<style scoped>\n",
       "    .dataframe tbody tr th:only-of-type {\n",
       "        vertical-align: middle;\n",
       "    }\n",
       "\n",
       "    .dataframe tbody tr th {\n",
       "        vertical-align: top;\n",
       "    }\n",
       "\n",
       "    .dataframe thead th {\n",
       "        text-align: right;\n",
       "    }\n",
       "</style>\n",
       "<table border=\"1\" class=\"dataframe\">\n",
       "  <thead>\n",
       "    <tr style=\"text-align: right;\">\n",
       "      <th></th>\n",
       "      <th>enunciado_latex</th>\n",
       "      <th>enunciado</th>\n",
       "      <th>solucion</th>\n",
       "      <th>texto</th>\n",
       "      <th>curso</th>\n",
       "      <th>titulo</th>\n",
       "      <th>n_ejercicio</th>\n",
       "      <th>dificultad</th>\n",
       "      <th>n_columnas</th>\n",
       "      <th>puntos</th>\n",
       "      <th>enun_tex</th>\n",
       "      <th>sol_tex</th>\n",
       "    </tr>\n",
       "  </thead>\n",
       "  <tbody>\n",
       "    <tr>\n",
       "      <th>7</th>\n",
       "      <td>\\sin{2x}=\\frac{\\sqrt {3}}{2}</td>\n",
       "      <td>Eq(sin(2*x), sqrt(3)/2)</td>\n",
       "      <td>\\left [ \\frac{\\pi}{6}, \\quad \\frac{\\pi}{3}\\rig...</td>\n",
       "      <td>Resolver las siguientes ecuaciones para ángulo...</td>\n",
       "      <td>1BC</td>\n",
       "      <td>Autoevaluación 1 ev2</td>\n",
       "      <td>pa21e06</td>\n",
       "      <td>1</td>\n",
       "      <td>1</td>\n",
       "      <td>1</td>\n",
       "      <td>True</td>\n",
       "      <td>True</td>\n",
       "    </tr>\n",
       "    <tr>\n",
       "      <th>8</th>\n",
       "      <td>\\tan{\\frac{x}{2}}=1</td>\n",
       "      <td>Eq(tan(x/2), 1)</td>\n",
       "      <td>\\left [ \\frac{\\pi}{2}\\right ]</td>\n",
       "      <td>Resolver las siguientes ecuaciones para ángulo...</td>\n",
       "      <td>1BC</td>\n",
       "      <td>Autoevaluación 1 ev2</td>\n",
       "      <td>pa21e06</td>\n",
       "      <td>1</td>\n",
       "      <td>1</td>\n",
       "      <td>1</td>\n",
       "      <td>True</td>\n",
       "      <td>True</td>\n",
       "    </tr>\n",
       "    <tr>\n",
       "      <th>9</th>\n",
       "      <td>\\sin{(3x-\\frac{\\pi}{2})}=-\\frac{\\sqrt{2}}{2}</td>\n",
       "      <td>Eq(sin(-pi/2 + 3*x), -sqrt(2)/2)</td>\n",
       "      <td>\\left [ \\frac{\\pi}{12}, \\quad \\frac{7 \\pi}{12}...</td>\n",
       "      <td>Resolver las siguientes ecuaciones para ángulo...</td>\n",
       "      <td>1BC</td>\n",
       "      <td>Autoevaluación 1 ev2</td>\n",
       "      <td>pa21e06</td>\n",
       "      <td>1</td>\n",
       "      <td>1</td>\n",
       "      <td>1</td>\n",
       "      <td>True</td>\n",
       "      <td>True</td>\n",
       "    </tr>\n",
       "  </tbody>\n",
       "</table>\n",
       "</div>"
      ],
      "text/plain": [
       "                                enunciado_latex  \\\n",
       "7                  \\sin{2x}=\\frac{\\sqrt {3}}{2}   \n",
       "8                           \\tan{\\frac{x}{2}}=1   \n",
       "9  \\sin{(3x-\\frac{\\pi}{2})}=-\\frac{\\sqrt{2}}{2}   \n",
       "\n",
       "                          enunciado  \\\n",
       "7           Eq(sin(2*x), sqrt(3)/2)   \n",
       "8                   Eq(tan(x/2), 1)   \n",
       "9  Eq(sin(-pi/2 + 3*x), -sqrt(2)/2)   \n",
       "\n",
       "                                            solucion  \\\n",
       "7  \\left [ \\frac{\\pi}{6}, \\quad \\frac{\\pi}{3}\\rig...   \n",
       "8                      \\left [ \\frac{\\pi}{2}\\right ]   \n",
       "9  \\left [ \\frac{\\pi}{12}, \\quad \\frac{7 \\pi}{12}...   \n",
       "\n",
       "                                               texto curso  \\\n",
       "7  Resolver las siguientes ecuaciones para ángulo...   1BC   \n",
       "8  Resolver las siguientes ecuaciones para ángulo...   1BC   \n",
       "9  Resolver las siguientes ecuaciones para ángulo...   1BC   \n",
       "\n",
       "                 titulo n_ejercicio  dificultad  n_columnas  puntos  enun_tex  \\\n",
       "7  Autoevaluación 1 ev2     pa21e06           1           1       1      True   \n",
       "8  Autoevaluación 1 ev2     pa21e06           1           1       1      True   \n",
       "9  Autoevaluación 1 ev2     pa21e06           1           1       1      True   \n",
       "\n",
       "   sol_tex  \n",
       "7     True  \n",
       "8     True  \n",
       "9     True  "
      ]
     },
     "metadata": {},
     "output_type": "display_data"
    },
    {
     "data": {
      "text/markdown": [
       "**Ejercicio: **pa21e07"
      ],
      "text/plain": [
       "<IPython.core.display.Markdown object>"
      ]
     },
     "metadata": {},
     "output_type": "display_data"
    },
    {
     "data": {
      "text/html": [
       "<div>\n",
       "<style scoped>\n",
       "    .dataframe tbody tr th:only-of-type {\n",
       "        vertical-align: middle;\n",
       "    }\n",
       "\n",
       "    .dataframe tbody tr th {\n",
       "        vertical-align: top;\n",
       "    }\n",
       "\n",
       "    .dataframe thead th {\n",
       "        text-align: right;\n",
       "    }\n",
       "</style>\n",
       "<table border=\"1\" class=\"dataframe\">\n",
       "  <thead>\n",
       "    <tr style=\"text-align: right;\">\n",
       "      <th></th>\n",
       "      <th>enunciado_latex</th>\n",
       "      <th>enunciado</th>\n",
       "      <th>solucion</th>\n",
       "      <th>texto</th>\n",
       "      <th>curso</th>\n",
       "      <th>titulo</th>\n",
       "      <th>n_ejercicio</th>\n",
       "      <th>dificultad</th>\n",
       "      <th>n_columnas</th>\n",
       "      <th>puntos</th>\n",
       "      <th>enun_tex</th>\n",
       "      <th>sol_tex</th>\n",
       "    </tr>\n",
       "  </thead>\n",
       "  <tbody>\n",
       "    <tr>\n",
       "      <th>10</th>\n",
       "      <td>\\tan{2x}=\\cot{x}</td>\n",
       "      <td>Eq(tan(2*x), cot(x))</td>\n",
       "      <td>\\left [ -90, \\quad 90, \\quad -150, \\quad 150, ...</td>\n",
       "      <td>Resolver las siguientes ecuaciones:</td>\n",
       "      <td>1BC</td>\n",
       "      <td>Autoevaluación 1 ev2</td>\n",
       "      <td>pa21e07</td>\n",
       "      <td>1</td>\n",
       "      <td>1</td>\n",
       "      <td>1</td>\n",
       "      <td>True</td>\n",
       "      <td>True</td>\n",
       "    </tr>\n",
       "    <tr>\n",
       "      <th>11</th>\n",
       "      <td>\\sin{x}\\cos{x}=\\frac{1}{2}</td>\n",
       "      <td>Eq(sin(x)*cos(x), 1/2)</td>\n",
       "      <td>\\left [ -135, \\quad 45\\right ]</td>\n",
       "      <td>Resolver las siguientes ecuaciones:</td>\n",
       "      <td>1BC</td>\n",
       "      <td>Autoevaluación 1 ev2</td>\n",
       "      <td>pa21e07</td>\n",
       "      <td>1</td>\n",
       "      <td>1</td>\n",
       "      <td>1</td>\n",
       "      <td>True</td>\n",
       "      <td>True</td>\n",
       "    </tr>\n",
       "    <tr>\n",
       "      <th>12</th>\n",
       "      <td>3\\sin{x}+\\cos{x}=1</td>\n",
       "      <td>Eq(3*sin(x) + cos(x), 1)</td>\n",
       "      <td>\\left [ 0, \\quad \\frac{360 \\operatorname{atan}...</td>\n",
       "      <td>Resolver las siguientes ecuaciones:</td>\n",
       "      <td>1BC</td>\n",
       "      <td>Autoevaluación 1 ev2</td>\n",
       "      <td>pa21e07</td>\n",
       "      <td>1</td>\n",
       "      <td>1</td>\n",
       "      <td>1</td>\n",
       "      <td>True</td>\n",
       "      <td>True</td>\n",
       "    </tr>\n",
       "  </tbody>\n",
       "</table>\n",
       "</div>"
      ],
      "text/plain": [
       "               enunciado_latex                 enunciado  \\\n",
       "10            \\tan{2x}=\\cot{x}      Eq(tan(2*x), cot(x))   \n",
       "11  \\sin{x}\\cos{x}=\\frac{1}{2}    Eq(sin(x)*cos(x), 1/2)   \n",
       "12          3\\sin{x}+\\cos{x}=1  Eq(3*sin(x) + cos(x), 1)   \n",
       "\n",
       "                                             solucion  \\\n",
       "10  \\left [ -90, \\quad 90, \\quad -150, \\quad 150, ...   \n",
       "11                     \\left [ -135, \\quad 45\\right ]   \n",
       "12  \\left [ 0, \\quad \\frac{360 \\operatorname{atan}...   \n",
       "\n",
       "                                  texto curso                titulo  \\\n",
       "10  Resolver las siguientes ecuaciones:   1BC  Autoevaluación 1 ev2   \n",
       "11  Resolver las siguientes ecuaciones:   1BC  Autoevaluación 1 ev2   \n",
       "12  Resolver las siguientes ecuaciones:   1BC  Autoevaluación 1 ev2   \n",
       "\n",
       "   n_ejercicio  dificultad  n_columnas  puntos  enun_tex  sol_tex  \n",
       "10     pa21e07           1           1       1      True     True  \n",
       "11     pa21e07           1           1       1      True     True  \n",
       "12     pa21e07           1           1       1      True     True  "
      ]
     },
     "metadata": {},
     "output_type": "display_data"
    },
    {
     "data": {
      "text/markdown": [
       "**Ejercicio: **pa21e08"
      ],
      "text/plain": [
       "<IPython.core.display.Markdown object>"
      ]
     },
     "metadata": {},
     "output_type": "display_data"
    },
    {
     "data": {
      "text/html": [
       "<div>\n",
       "<style scoped>\n",
       "    .dataframe tbody tr th:only-of-type {\n",
       "        vertical-align: middle;\n",
       "    }\n",
       "\n",
       "    .dataframe tbody tr th {\n",
       "        vertical-align: top;\n",
       "    }\n",
       "\n",
       "    .dataframe thead th {\n",
       "        text-align: right;\n",
       "    }\n",
       "</style>\n",
       "<table border=\"1\" class=\"dataframe\">\n",
       "  <thead>\n",
       "    <tr style=\"text-align: right;\">\n",
       "      <th></th>\n",
       "      <th>enunciado_latex</th>\n",
       "      <th>enunciado</th>\n",
       "      <th>solucion</th>\n",
       "      <th>texto</th>\n",
       "      <th>curso</th>\n",
       "      <th>titulo</th>\n",
       "      <th>n_ejercicio</th>\n",
       "      <th>dificultad</th>\n",
       "      <th>n_columnas</th>\n",
       "      <th>puntos</th>\n",
       "      <th>enun_tex</th>\n",
       "      <th>sol_tex</th>\n",
       "    </tr>\n",
       "  </thead>\n",
       "  <tbody>\n",
       "    <tr>\n",
       "      <th>13</th>\n",
       "      <td>\\sqrt{3}-2\\sqrt{2}i</td>\n",
       "      <td>-2*sqrt(2)*i + sqrt(3)</td>\n",
       "      <td>- \\frac{2 \\sqrt{6} i}{3}</td>\n",
       "      <td>Dado el siguiente número $z$, calcula el valor...</td>\n",
       "      <td>1BC</td>\n",
       "      <td>Autoevaluación 1 ev2</td>\n",
       "      <td>pa21e08</td>\n",
       "      <td>1</td>\n",
       "      <td>2</td>\n",
       "      <td>1</td>\n",
       "      <td>True</td>\n",
       "      <td>True</td>\n",
       "    </tr>\n",
       "    <tr>\n",
       "      <th>14</th>\n",
       "      <td>\\sqrt{2}-2\\sqrt{5}i</td>\n",
       "      <td>-2*sqrt(5)*i + sqrt(2)</td>\n",
       "      <td>- \\sqrt{10} i</td>\n",
       "      <td>Dado el siguiente número $z$, calcula el valor...</td>\n",
       "      <td>1BC</td>\n",
       "      <td>Autoevaluación 1 ev2</td>\n",
       "      <td>pa21e08</td>\n",
       "      <td>1</td>\n",
       "      <td>2</td>\n",
       "      <td>1</td>\n",
       "      <td>True</td>\n",
       "      <td>True</td>\n",
       "    </tr>\n",
       "  </tbody>\n",
       "</table>\n",
       "</div>"
      ],
      "text/plain": [
       "        enunciado_latex               enunciado                  solucion  \\\n",
       "13  \\sqrt{3}-2\\sqrt{2}i  -2*sqrt(2)*i + sqrt(3)  - \\frac{2 \\sqrt{6} i}{3}   \n",
       "14  \\sqrt{2}-2\\sqrt{5}i  -2*sqrt(5)*i + sqrt(2)             - \\sqrt{10} i   \n",
       "\n",
       "                                                texto curso  \\\n",
       "13  Dado el siguiente número $z$, calcula el valor...   1BC   \n",
       "14  Dado el siguiente número $z$, calcula el valor...   1BC   \n",
       "\n",
       "                  titulo n_ejercicio  dificultad  n_columnas  puntos  \\\n",
       "13  Autoevaluación 1 ev2     pa21e08           1           2       1   \n",
       "14  Autoevaluación 1 ev2     pa21e08           1           2       1   \n",
       "\n",
       "    enun_tex  sol_tex  \n",
       "13      True     True  \n",
       "14      True     True  "
      ]
     },
     "metadata": {},
     "output_type": "display_data"
    }
   ],
   "source": [
    "df_ejercicios.to_csv('ejercicios_auto21.csv', index = False)\n",
    "df_ejercicios = pd.read_csv('ejercicios_auto21.csv', index_col= None)\n",
    "escribir_preambulo(fichero, titulo)\n",
    "for s in df_ejercicios.groupby('n_ejercicio').count().index : \n",
    "    display(md(\"**Ejercicio: **\" + s ))\n",
    "    display(df_ejercicios[df_ejercicios.n_ejercicio == s])\n",
    "    escribir_ejercicios(df_ejercicios[df_ejercicios.n_ejercicio == s],fichero)\n",
    "\n",
    "escribir_fin(fichero)"
   ]
  },
  {
   "cell_type": "code",
   "execution_count": null,
   "metadata": {},
   "outputs": [],
   "source": []
  }
 ],
 "metadata": {
  "kernelspec": {
   "display_name": "Python 3",
   "language": "python",
   "name": "python3"
  },
  "language_info": {
   "codemirror_mode": {
    "name": "ipython",
    "version": 3
   },
   "file_extension": ".py",
   "mimetype": "text/x-python",
   "name": "python",
   "nbconvert_exporter": "python",
   "pygments_lexer": "ipython3",
   "version": "3.6.5"
  }
 },
 "nbformat": 4,
 "nbformat_minor": 2
}
