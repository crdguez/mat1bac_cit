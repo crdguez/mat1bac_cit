{
 "cells": [
  {
   "cell_type": "code",
   "execution_count": 1,
   "metadata": {},
   "outputs": [
    {
     "name": "stdout",
     "output_type": "stream",
     "text": [
      "IPython console for SymPy 1.2 (Python 3.6.8-64-bit) (ground types: gmpy)\n",
      "\n",
      "These commands were executed:\n",
      ">>> from __future__ import division\n",
      ">>> from sympy import *\n",
      ">>> x, y, z, t = symbols('x y z t')\n",
      ">>> k, m, n = symbols('k m n', integer=True)\n",
      ">>> f, g, h = symbols('f g h', cls=Function)\n",
      ">>> init_printing()\n",
      "\n",
      "Documentation can be found at http://docs.sympy.org/1.2/\n",
      "\n"
     ]
    }
   ],
   "source": [
    "from sympy import init_session\n",
    "from sympy import div, QQ\n",
    "from sympy.parsing.latex import parse_latex\n",
    "from sympy.parsing.sympy_parser import parse_expr\n",
    "from IPython.display import Markdown as md\n",
    "from IPython.display import display\n",
    "import pandas as pd\n",
    "\n",
    "import numpy as np\n",
    "\n",
    "\n",
    "\n",
    "\n",
    "init_session()\n",
    "\n",
    "a, b, c, d = symbols('a b c d', real = True)\n",
    "from docparts import añadir_ejercicios, doc_ejer, escribir_preambulo, escribir_ejercicios, escribir_fin\n",
    "\n",
    "df_ejercicios = pd.DataFrame()\n",
    "\n",
    "fichero = 'func'\n",
    "titulo = '31 - Funciones'\n",
    "curso = '1BC'\n",
    "\n",
    "\n",
    "x,y = symbols('x, y', real=True)\n",
    "\n",
    "import matplotlib.pyplot as plt\n",
    "from matplotlib import style\n",
    "#style.use('ggplot')\n",
    "style.use('seaborn-whitegrid')\n",
    "\n",
    "\n",
    "%matplotlib inline\n"
   ]
  },
  {
   "cell_type": "code",
   "execution_count": 2,
   "metadata": {},
   "outputs": [],
   "source": [
    "expr = r'x-y=0'\n",
    "eq=parse_latex(expr)"
   ]
  },
  {
   "cell_type": "code",
   "execution_count": 3,
   "metadata": {},
   "outputs": [
    {
     "data": {
      "text/markdown": [
       "**Halla el dominio de las siguientes funciones: \n",
       "    **"
      ],
      "text/plain": [
       "<IPython.core.display.Markdown object>"
      ]
     },
     "metadata": {},
     "output_type": "display_data"
    },
    {
     "data": {
      "text/markdown": [
       "$f(x)=0x-3$ $ \\rightarrow $$Dom\\left(f \\right)=\\mathbb{R}$"
      ],
      "text/plain": [
       "<IPython.core.display.Markdown object>"
      ]
     },
     "metadata": {},
     "output_type": "display_data"
    },
    {
     "data": {
      "text/markdown": [
       "$f(x)=x^3-5x^2+2$ $ \\rightarrow $$Dom\\left(f \\right)=\\mathbb{R}$"
      ],
      "text/plain": [
       "<IPython.core.display.Markdown object>"
      ]
     },
     "metadata": {},
     "output_type": "display_data"
    },
    {
     "data": {
      "text/markdown": [
       "$f(x)=\\frac{{x - 1}}{{x + 5}}$ $ \\rightarrow $$Dom\\left(f \\right)=\\left(-\\infty, -5\\right) \\cup \\left(-5, \\infty\\right)$"
      ],
      "text/plain": [
       "<IPython.core.display.Markdown object>"
      ]
     },
     "metadata": {},
     "output_type": "display_data"
    },
    {
     "data": {
      "text/markdown": [
       "$f(x)=7x-1$ $ \\rightarrow $$Dom\\left(f \\right)=\\mathbb{R}$"
      ],
      "text/plain": [
       "<IPython.core.display.Markdown object>"
      ]
     },
     "metadata": {},
     "output_type": "display_data"
    },
    {
     "data": {
      "text/markdown": [
       "$f(x)=\\frac{2}{x}$ $ \\rightarrow $$Dom\\left(f \\right)=\\left(-\\infty, 0\\right) \\cup \\left(0, \\infty\\right)$"
      ],
      "text/plain": [
       "<IPython.core.display.Markdown object>"
      ]
     },
     "metadata": {},
     "output_type": "display_data"
    },
    {
     "data": {
      "text/markdown": [
       "$f(x)=\\sqrt[3]{\\frac{x + 1}{x - 2}}$ $ \\rightarrow $$Dom\\left(f \\right)=\\left(-\\infty, 2\\right) \\cup \\left(2, \\infty\\right)$"
      ],
      "text/plain": [
       "<IPython.core.display.Markdown object>"
      ]
     },
     "metadata": {},
     "output_type": "display_data"
    },
    {
     "data": {
      "text/markdown": [
       "$f(x)=\\sqrt {{x^2} - 9}$ $ \\rightarrow $$Dom\\left(f \\right)=\\left(-\\infty, -3\\right] \\cup \\left[3, \\infty\\right)$"
      ],
      "text/plain": [
       "<IPython.core.display.Markdown object>"
      ]
     },
     "metadata": {},
     "output_type": "display_data"
    },
    {
     "data": {
      "text/markdown": [
       "$f(x)=\\sqrt {x+3}$ $ \\rightarrow $$Dom\\left(f \\right)=\\left[-3, \\infty\\right)$"
      ],
      "text/plain": [
       "<IPython.core.display.Markdown object>"
      ]
     },
     "metadata": {},
     "output_type": "display_data"
    }
   ],
   "source": [
    "puntuacion = '1'                          \n",
    "                      \n",
    "datos = [[r'0x-3',r'x^3-5x^2+2',r'\\frac{{x - 1}}{{x + 5}}', r'7x-1', r'\\frac{2}{x}'],]\n",
    "\n",
    "# vectores iniciales correspondientes al texto del enunciado\n",
    "\n",
    "for i, s in enumerate(datos) : \n",
    "    n_ejercicio = 'p65e06-'+str(i)\n",
    "    enunciado_latex, enunciado, solucion = [],[],[]\n",
    "    \n",
    "    texto_ejercicio = r\"\"\"Halla el dominio de las siguientes funciones: \n",
    "    \"\"\"\n",
    "    \n",
    "    display(md(\"**\"+texto_ejercicio+\"**\"))\n",
    "    \n",
    "    for j, t in enumerate(s):\n",
    "        enunciado_latex.append(\"$f(x)=\"+t+\"$\")\n",
    "        enunciado.append(parse_latex(t))\n",
    "        # voy por aquí\n",
    "\n",
    "        sol = r\"$Dom\\left(f \\right)=\"\n",
    "        sol+=latex(S.Reals - singularities(eval(str(parse_latex(t))),x))+r\"$\"\n",
    "        solucion.append(sol)\n",
    "        display(md(enunciado_latex[j] +\" $ \\\\rightarrow $\" + solucion[j] ))\n",
    "        \n",
    "    # Estos los añado yo\n",
    "    \n",
    "    dato = r'\\sqrt[3]{\\frac{x + 1}{x - 2}}'\n",
    "    enunciado_latex.append(\"$f(x)=\"+dato+\"$\")\n",
    "    enunciado.append(parse_latex(dato))\n",
    "    sol = r\"$Dom\\left(f \\right)=\"\n",
    "    sol+=latex(S.Reals - singularities((x+1)/(x-2),x))+r\"$\"\n",
    "    solucion.append(sol)\n",
    "    display(md(r\"$f(x)=\"+dato+\"$\"+\" $ \\\\rightarrow $\" + sol))\n",
    "    \n",
    "    dato = r'\\sqrt {{x^2} - 9}'\n",
    "    enunciado_latex.append(\"$f(x)=\"+dato+\"$\")\n",
    "    enunciado.append(parse_latex(dato))\n",
    "    sol = r\"$Dom\\left(f \\right)=\"\n",
    "    sol+=latex(S.Reals - solve_univariate_inequality(x**2-9<0,x, relational=False))+r\"$\"\n",
    "    solucion.append(sol)\n",
    "    display(md(r\"$f(x)=\"+dato+\"$\"+\" $ \\\\rightarrow $\" + sol))\n",
    "    \n",
    "    dato = r'\\sqrt {x+3}'\n",
    "    enunciado_latex.append(\"$f(x)=\"+dato+\"$\")\n",
    "    enunciado.append(parse_latex(dato))\n",
    "    sol = r\"$Dom\\left(f \\right)=\"\n",
    "    sol+=latex(S.Reals - solve_univariate_inequality(x+3<0,x, relational=False))+r\"$\"\n",
    "    solucion.append(sol)\n",
    "    display(md(r\"$f(x)=\"+dato+\"$\"+\" $ \\\\rightarrow $\" + sol))\n",
    "\n",
    "        \n",
    "    df_ejercicios = df_ejercicios.append(añadir_ejercicios(enunciado_latex, enunciado, solucion, texto_ejercicio, curso, titulo , n_ejercicio, '5', '1', enun_tex=False, sol_tex=False), ignore_index=True)\n",
    "\n",
    "\n"
   ]
  },
  {
   "cell_type": "code",
   "execution_count": 4,
   "metadata": {},
   "outputs": [
    {
     "data": {
      "image/png": "[encoded data removed]",
      "text/latex": [
       "$$\\left ( \\frac{x^{2} + 4}{x^{2} + 8}, \\quad \\frac{\\left(x - 1\\right)^{2}}{\\left(x + 3\\right)^{2}} + 5, \\quad \\frac{\\sqrt{x^{2} + 4}}{\\sqrt{x^{2} + 8}}\\right )$$"
      ],
      "text/plain": [
       "⎛                         ________⎞\n",
       "⎜ 2             2        ╱  2     ⎟\n",
       "⎜x  + 4  (x - 1)       ╲╱  x  + 4 ⎟\n",
       "⎜──────, ──────── + 5, ───────────⎟\n",
       "⎜ 2             2         ________⎟\n",
       "⎜x  + 8  (x + 3)         ╱  2     ⎟\n",
       "⎝                      ╲╱  x  + 8 ⎠"
      ]
     },
     "execution_count": 4,
     "metadata": {},
     "output_type": "execute_result"
    }
   ],
   "source": [
    "f = Lambda(x,x**2+5)\n",
    "g = Lambda(x,(x-1)/(x+3))\n",
    "h = Lambda(x,sqrt(x))\n",
    "g(f(x)), f(g(x)),h(g(f(x))),\n"
   ]
  },
  {
   "cell_type": "code",
   "execution_count": 5,
   "metadata": {},
   "outputs": [
    {
     "data": {
      "text/markdown": [
       "**Dadas las funciones $f(x)= x^2+5$, $g(x)= \\frac{{x - 1}}{{x + 3}}$ y $h(x)= \\sqrt{x}$. Calcula: \n",
       "    **"
      ],
      "text/plain": [
       "<IPython.core.display.Markdown object>"
      ]
     },
     "metadata": {},
     "output_type": "display_data"
    },
    {
     "data": {
      "text/markdown": [
       "$g \\circ f$ $ \\rightarrow $$g{\\left (f{\\left (x \\right )} \\right )}=\\frac{x^{2} + 4}{x^{2} + 8}$"
      ],
      "text/plain": [
       "<IPython.core.display.Markdown object>"
      ]
     },
     "metadata": {},
     "output_type": "display_data"
    },
    {
     "data": {
      "text/markdown": [
       "$f \\circ g$ $ \\rightarrow $$f{\\left (g{\\left (x \\right )} \\right )}=\\frac{\\left(x - 1\\right)^{2}}{\\left(x + 3\\right)^{2}} + 5$"
      ],
      "text/plain": [
       "<IPython.core.display.Markdown object>"
      ]
     },
     "metadata": {},
     "output_type": "display_data"
    },
    {
     "data": {
      "text/markdown": [
       "$h \\circ g \\circ f$ $ \\rightarrow $$h{\\left (g{\\left (f{\\left (x \\right )} \\right )} \\right )}=\\frac{\\sqrt{x^{2} + 4}}{\\sqrt{x^{2} + 8}}$"
      ],
      "text/plain": [
       "<IPython.core.display.Markdown object>"
      ]
     },
     "metadata": {},
     "output_type": "display_data"
    }
   ],
   "source": [
    "puntuacion = '1'                          \n",
    "                      \n",
    "datos = [[r'x^2+5',r'\\frac{{x - 1}}{{x + 3}}',r'\\sqrt{x}'],]\n",
    "\n",
    "# vectores iniciales correspondientes al texto del enunciado\n",
    "\n",
    "for i, s in enumerate(datos) : \n",
    "    n_ejercicio = 'p65e17-'+str(i)\n",
    "    enunciado_latex, enunciado, solucion = [],[],[]\n",
    "    \n",
    "    texto_ejercicio = r\"\"\"Dadas las funciones $f(x)= {}$, $g(x)= {}$ y $h(x)= {}$. Calcula: \n",
    "    \"\"\".format(datos[i][0],datos[i][1],datos[i][2])\n",
    "    \n",
    "    display(md(\"**\"+texto_ejercicio+\"**\"))\n",
    "    \n",
    "    f = Lambda(x,eval(str(parse_latex(s[0]))))\n",
    "    g = Lambda(x,eval(str(parse_latex(s[1]))))\n",
    "    h = Lambda(x,eval(str(parse_latex(s[2]))))\n",
    "    \n",
    "    apartados = [[r'g \\circ f','g(f(x))'],[r'f \\circ g','f(g(x))'],[r'h \\circ g \\circ f','h(g(f(x)))']]\n",
    "    \n",
    "    for j, t in enumerate(apartados):\n",
    "        enunciado_latex.append(\"$\"+t[0]+\"$\")\n",
    "        enunciado.append(t[1])\n",
    "\n",
    "\n",
    "        sol = r\"$\"+latex(S(t[1]))+\"=\"\n",
    "        sol+=latex(eval(t[1]))+r\"$\"\n",
    "        solucion.append(sol)\n",
    "        display(md(enunciado_latex[j] +\" $ \\\\rightarrow $\" + solucion[j] ))\n",
    "        \n",
    "\n",
    "        \n",
    "    df_ejercicios = df_ejercicios.append(añadir_ejercicios(enunciado_latex, enunciado, solucion, texto_ejercicio, curso, titulo , n_ejercicio, '5', '1', enun_tex=False, sol_tex=False), ignore_index=True)\n",
    "\n",
    "\n"
   ]
  },
  {
   "cell_type": "code",
   "execution_count": 6,
   "metadata": {
    "scrolled": true
   },
   "outputs": [
    {
     "data": {
      "text/markdown": [
       "**Halla la función inversa de $f(x)$, y comprueba el resultado, siendo:**"
      ],
      "text/plain": [
       "<IPython.core.display.Markdown object>"
      ]
     },
     "metadata": {},
     "output_type": "display_data"
    },
    {
     "data": {
      "image/png": "[encoded data removed]",
      "text/plain": [
       "<Figure size 720x720 with 1 Axes>"
      ]
     },
     "metadata": {},
     "output_type": "display_data"
    },
    {
     "data": {
      "text/markdown": [
       "$f(x)=3 x - 2$ $ \\rightarrow $$f^{-1}(x)=\\frac{x}{3} + \\frac{2}{3}$ \\\\ $f^{-1} \\circ f(x)=x=x$ \\\\\\\\ \\resizebox{0.4\\textwidth}{!}{\\includegraphics[width=1\\columnwidth]{p66e23y24-0}}"
      ],
      "text/plain": [
       "<IPython.core.display.Markdown object>"
      ]
     },
     "metadata": {},
     "output_type": "display_data"
    },
    {
     "data": {
      "image/png": "[encoded data removed]",
      "text/plain": [
       "<Figure size 720x720 with 1 Axes>"
      ]
     },
     "metadata": {},
     "output_type": "display_data"
    },
    {
     "data": {
      "image/png": "[encoded data removed]",
      "text/plain": [
       "<Figure size 720x720 with 1 Axes>"
      ]
     },
     "metadata": {},
     "output_type": "display_data"
    },
    {
     "data": {
      "text/markdown": [
       "$f(x)=\\frac{x + 2}{- x + 1}$ $ \\rightarrow $$f^{-1}(x)=\\frac{x - 2}{x + 1}$ \\\\ $f^{-1} \\circ f(x)=\\frac{-2 + \\frac{x + 2}{- x + 1}}{1 + \\frac{x + 2}{- x + 1}}=x$ \\\\\\\\ \\resizebox{0.4\\textwidth}{!}{\\includegraphics[width=1\\columnwidth]{p66e23y24-1}}"
      ],
      "text/plain": [
       "<IPython.core.display.Markdown object>"
      ]
     },
     "metadata": {},
     "output_type": "display_data"
    },
    {
     "data": {
      "image/png": "[encoded data removed]",
      "text/plain": [
       "<Figure size 720x720 with 1 Axes>"
      ]
     },
     "metadata": {},
     "output_type": "display_data"
    }
   ],
   "source": [
    "puntuacion = '1'                          \n",
    "                      \n",
    "datos = [r'3x-2',r'\\frac{{2 + x}}{{1 - x}}']\n",
    "\n",
    "# vectores iniciales correspondientes al texto del enunciado\n",
    "n_ejercicio = 'p66e23y24'\n",
    "enunciado_latex, enunciado, solucion = [],[],[]\n",
    "\n",
    "texto_ejercicio = r\"\"\"Halla la función inversa de $f(x)$, y comprueba el resultado, siendo:\"\"\"\n",
    "display(md(\"**\"+texto_ejercicio+\"**\"))\n",
    "\n",
    "for i, s in enumerate(datos) : \n",
    "    \n",
    "    enunciado_latex.append(\"$f(x)=\"+latex(parse_latex(s))+\"$\")\n",
    "    enunciado.append(s)\n",
    "    \n",
    "    inv = solve(S('x')-eval(str(parse_latex(s))).subs([(x,y)]),y)[0]\n",
    "    f = Lambda(x,eval(str(parse_latex(s))))\n",
    "    g = Lambda(x,eval(str(inv)))\n",
    "    \n",
    "    #display(f(x),g(x), f(g(x)), g(f(x)))\n",
    "    sol = r\"$f^{-1}(x)=\"\n",
    "    sol+=latex(inv)+r\"$ \\\\ $f^{-1} \\circ f(x)=\"+ latex(g(f(x)))+ \"=\" + latex(simplify(g(f(x)))) + r\"$ \\\\\"\n",
    "    \n",
    "    plt.rcParams['figure.figsize'] = 10,10\n",
    "    p1 = plot(f(x),g(x),show=True, xlim=(-10,10), ylim=(-10,10))\n",
    "    p1.save(n_ejercicio+\"-\"+str(i)+\".png\")\n",
    "    sol+=r\"\\\\ \\resizebox{0.4\\textwidth}{!}{\\includegraphics[width=1\\columnwidth]{%s}}\" % (n_ejercicio+\"-\"+str(i))\n",
    "    \n",
    "       \n",
    "    \n",
    "    solucion.append(sol)\n",
    "    display(md(enunciado_latex[i] +\" $ \\\\rightarrow $\" + solucion[i] ))\n",
    "        \n",
    "df_ejercicios = df_ejercicios.append(añadir_ejercicios(enunciado_latex, enunciado, solucion, texto_ejercicio, curso, titulo , n_ejercicio, '5', '1', enun_tex=False, sol_tex=False), ignore_index=True)\n",
    "\n",
    "\n"
   ]
  },
  {
   "cell_type": "code",
   "execution_count": 7,
   "metadata": {
    "scrolled": true
   },
   "outputs": [
    {
     "data": {
      "text/markdown": [
       "**Representa gráficamente las siguientes funciones:**"
      ],
      "text/plain": [
       "<IPython.core.display.Markdown object>"
      ]
     },
     "metadata": {},
     "output_type": "display_data"
    },
    {
     "data": {
      "text/markdown": [
       "$y=-5x$ $ \\rightarrow $\\\\ \\resizebox{0.4\\textwidth}{!}{\\includegraphics[width=1\\columnwidth]{p68e28-0}}"
      ],
      "text/plain": [
       "<IPython.core.display.Markdown object>"
      ]
     },
     "metadata": {},
     "output_type": "display_data"
    },
    {
     "data": {
      "text/markdown": [
       "$y=-5x+3$ $ \\rightarrow $\\\\ \\resizebox{0.4\\textwidth}{!}{\\includegraphics[width=1\\columnwidth]{p68e28-1}}"
      ],
      "text/plain": [
       "<IPython.core.display.Markdown object>"
      ]
     },
     "metadata": {},
     "output_type": "display_data"
    },
    {
     "data": {
      "text/markdown": [
       "$y=x^2-2x-3$ $ \\rightarrow $\\\\ \\resizebox{0.4\\textwidth}{!}{\\includegraphics[width=1\\columnwidth]{p68e28-2}}"
      ],
      "text/plain": [
       "<IPython.core.display.Markdown object>"
      ]
     },
     "metadata": {},
     "output_type": "display_data"
    },
    {
     "data": {
      "text/markdown": [
       "$y=4x^2-8x-21$ $ \\rightarrow $\\\\ \\resizebox{0.4\\textwidth}{!}{\\includegraphics[width=1\\columnwidth]{p68e28-3}}"
      ],
      "text/plain": [
       "<IPython.core.display.Markdown object>"
      ]
     },
     "metadata": {},
     "output_type": "display_data"
    },
    {
     "data": {
      "image/png": "[encoded data removed]",
      "text/plain": [
       "<Figure size 720x720 with 1 Axes>"
      ]
     },
     "metadata": {},
     "output_type": "display_data"
    },
    {
     "data": {
      "image/png": "[encoded data removed]",
      "text/plain": [
       "<Figure size 720x720 with 1 Axes>"
      ]
     },
     "metadata": {},
     "output_type": "display_data"
    },
    {
     "data": {
      "image/png": "[encoded data removed]",
      "text/plain": [
       "<Figure size 720x720 with 1 Axes>"
      ]
     },
     "metadata": {},
     "output_type": "display_data"
    },
    {
     "data": {
      "image/png": "[encoded data removed]",
      "text/plain": [
       "<Figure size 720x720 with 1 Axes>"
      ]
     },
     "metadata": {},
     "output_type": "display_data"
    }
   ],
   "source": [
    "puntuacion = '1'                          \n",
    "                      \n",
    "datos = [r'-5x',r'-5x+3', r'x^2-2x-3',r'4x^2-8x-21']\n",
    "\n",
    "# vectores iniciales correspondientes al texto del enunciado\n",
    "n_ejercicio = 'p68e28'\n",
    "enunciado_latex, enunciado, solucion = [],[],[]\n",
    "\n",
    "texto_ejercicio = r\"\"\"Representa gráficamente las siguientes funciones:\"\"\"\n",
    "display(md(\"**\"+texto_ejercicio+\"**\"))\n",
    "\n",
    "for i, s in enumerate(datos) : \n",
    "    \n",
    "    enunciado_latex.append(\"$y=\"+s+\"$\")\n",
    "    enunciado.append(s)\n",
    "    \n",
    "       \n",
    "    plt.rcParams['figure.figsize'] = 10,10\n",
    "    p1 = plot(parse_latex(s),show=False, xlim=(-10,10), ylim=(-10,10))\n",
    "    p1.save(n_ejercicio+\"-\"+str(i)+\".png\")\n",
    "    sol=r\"\\\\ \\resizebox{0.4\\textwidth}{!}{\\includegraphics[width=1\\columnwidth]{%s}}\" % (n_ejercicio+\"-\"+str(i))\n",
    "    \n",
    "       \n",
    "    \n",
    "    solucion.append(sol)\n",
    "    display(md(enunciado_latex[i] +\" $ \\\\rightarrow $\" + solucion[i] ))\n",
    "        \n",
    "df_ejercicios = df_ejercicios.append(añadir_ejercicios(enunciado_latex, enunciado, solucion, texto_ejercicio, curso, titulo , n_ejercicio, '5', '1', enun_tex=False, sol_tex=False), ignore_index=True)\n",
    "\n",
    "\n"
   ]
  },
  {
   "cell_type": "code",
   "execution_count": 8,
   "metadata": {
    "scrolled": true
   },
   "outputs": [
    {
     "data": {
      "text/markdown": [
       "**Representa gráficamente las siguientes funciones:**"
      ],
      "text/plain": [
       "<IPython.core.display.Markdown object>"
      ]
     },
     "metadata": {},
     "output_type": "display_data"
    },
    {
     "data": {
      "text/markdown": [
       "$y=\\left|{x + 1}\\right|$ $ \\rightarrow $\\\\ \\resizebox{0.4\\textwidth}{!}{\\includegraphics[width=1\\columnwidth]{p68e35-0}}"
      ],
      "text/plain": [
       "<IPython.core.display.Markdown object>"
      ]
     },
     "metadata": {},
     "output_type": "display_data"
    },
    {
     "data": {
      "image/png": "[encoded data removed]",
      "text/plain": [
       "<Figure size 720x720 with 1 Axes>"
      ]
     },
     "metadata": {},
     "output_type": "display_data"
    }
   ],
   "source": [
    "puntuacion = '1'                          \n",
    "                      \n",
    "datos = [['\\\\left|{x + 1}\\\\right|', abs(x+1)],]\n",
    "\n",
    "# vectores iniciales correspondientes al texto del enunciado\n",
    "n_ejercicio = 'p68e35'\n",
    "enunciado_latex, enunciado, solucion = [],[],[]\n",
    "\n",
    "texto_ejercicio = r\"\"\"Representa gráficamente las siguientes funciones:\"\"\"\n",
    "display(md(\"**\"+texto_ejercicio+\"**\"))\n",
    "\n",
    "for i, s in enumerate(datos) : \n",
    "    \n",
    "    enunciado_latex.append(\"$y=\"+s[0]+\"$\")\n",
    "    enunciado.append(s[1])\n",
    "    \n",
    "       \n",
    "    plt.rcParams['figure.figsize'] = 10,10\n",
    "    p1 = plot(s[1],show=False, xlim=(-10,10), ylim=(-10,10))\n",
    "    p1.save(n_ejercicio+\"-\"+str(i)+\".png\")\n",
    "    sol=r\"\\\\ \\resizebox{0.4\\textwidth}{!}{\\includegraphics[width=1\\columnwidth]{%s}}\" % (n_ejercicio+\"-\"+str(i))\n",
    "    \n",
    "       \n",
    "    \n",
    "    solucion.append(sol)\n",
    "    display(md(enunciado_latex[i] +\" $ \\\\rightarrow $\" + solucion[i] ))\n",
    "        \n",
    "df_ejercicios = df_ejercicios.append(añadir_ejercicios(enunciado_latex, enunciado, solucion, texto_ejercicio, curso, titulo , n_ejercicio, '5', '1', enun_tex=False, sol_tex=False), ignore_index=True)\n",
    "\n",
    "\n"
   ]
  },
  {
   "cell_type": "code",
   "execution_count": 9,
   "metadata": {},
   "outputs": [
    {
     "data": {
      "text/plain": [
       "'\\\\left|{x + 1}\\\\right|'"
      ]
     },
     "execution_count": 9,
     "metadata": {},
     "output_type": "execute_result"
    }
   ],
   "source": [
    "latex(abs(x+1))"
   ]
  },
  {
   "cell_type": "code",
   "execution_count": 10,
   "metadata": {},
   "outputs": [
    {
     "name": "stdout",
     "output_type": "stream",
     "text": [
      "['seaborn-poster', 'seaborn-colorblind', 'tableau-colorblind10', '_classic_test', 'bmh', 'seaborn-talk', 'seaborn-dark', 'classic', 'seaborn-white', 'seaborn-dark-palette', 'Solarize_Light2', 'fast', 'fivethirtyeight', 'seaborn-muted', 'seaborn-bright', 'seaborn-ticks', 'seaborn-pastel', 'seaborn-paper', 'seaborn-darkgrid', 'ggplot', 'grayscale', 'seaborn-whitegrid', 'seaborn-deep', 'dark_background', 'seaborn-notebook', 'seaborn']\n"
     ]
    }
   ],
   "source": [
    "print(plt.style.available)"
   ]
  },
  {
   "cell_type": "code",
   "execution_count": 11,
   "metadata": {},
   "outputs": [
    {
     "data": {
      "image/png": "[encoded data removed]",
      "text/plain": [
       "<Figure size 720x720 with 1 Axes>"
      ]
     },
     "metadata": {},
     "output_type": "display_data"
    },
    {
     "data": {
      "text/plain": [
       "<sympy.plotting.plot.Plot at 0x7f0c37903208>"
      ]
     },
     "execution_count": 11,
     "metadata": {},
     "output_type": "execute_result"
    }
   ],
   "source": [
    "plot(x**2, xlim=(-10,10), ylim=(-10,10))\n"
   ]
  },
  {
   "cell_type": "code",
   "execution_count": 12,
   "metadata": {},
   "outputs": [
    {
     "data": {
      "image/png": "[encoded data removed]",
      "text/latex": [
       "$$\\lim_{x \\to 2}\\left(\\frac{x + 1}{x - 2}\\right)$$"
      ],
      "text/plain": [
       "    ⎛x + 1⎞\n",
       "lim ⎜─────⎟\n",
       "x─→2⎝x - 2⎠"
      ]
     },
     "metadata": {},
     "output_type": "display_data"
    },
    {
     "data": {
      "text/plain": [
       "'Límite por la izquierda / Límite por la derecha / valor de la función en el punto: '"
      ]
     },
     "metadata": {},
     "output_type": "display_data"
    },
    {
     "data": {
      "image/png": "[encoded data removed]",
      "text/latex": [
       "$$\\left [ -\\infty, \\quad \\infty, \\quad \\tilde{\\infty}\\right ]$$"
      ],
      "text/plain": [
       "[-∞, ∞, zoo]"
      ]
     },
     "metadata": {},
     "output_type": "display_data"
    },
    {
     "data": {
      "text/plain": [
       "{'Límite por la izquierda': -oo,\n",
       " 'Límite por la derecha': oo,\n",
       " 'Valor de la función en el punto': zoo}"
      ]
     },
     "metadata": {},
     "output_type": "display_data"
    },
    {
     "data": {
      "image/png": "[encoded data removed]",
      "text/plain": [
       "<Figure size 720x720 with 1 Axes>"
      ]
     },
     "metadata": {},
     "output_type": "display_data"
    },
    {
     "data": {
      "text/plain": [
       "'lim-2.png'"
      ]
     },
     "metadata": {},
     "output_type": "display_data"
    },
    {
     "data": {
      "image/png": "[encoded data removed]",
      "text/latex": [
       "$$\\lim_{x \\to 2}\\left(\\frac{x^{2} - 5 x + 6}{x^{2} + 3 x - 10}\\right)$$"
      ],
      "text/plain": [
       "    ⎛  2          ⎞\n",
       "    ⎜ x  - 5⋅x + 6⎟\n",
       "lim ⎜─────────────⎟\n",
       "x─→2⎜ 2           ⎟\n",
       "    ⎝x  + 3⋅x - 10⎠"
      ]
     },
     "metadata": {},
     "output_type": "display_data"
    },
    {
     "data": {
      "text/plain": [
       "'Límite por la izquierda / Límite por la derecha / valor de la función en el punto: '"
      ]
     },
     "metadata": {},
     "output_type": "display_data"
    },
    {
     "data": {
      "image/png": "[encoded data removed]",
      "text/latex": [
       "$$\\left [ - \\frac{1}{7}, \\quad - \\frac{1}{7}, \\quad \\mathrm{NaN}\\right ]$$"
      ],
      "text/plain": [
       "[-1/7, -1/7, nan]"
      ]
     },
     "metadata": {},
     "output_type": "display_data"
    },
    {
     "data": {
      "text/plain": [
       "{'Límite por la izquierda': -1/7,\n",
       " 'Límite por la derecha': -1/7,\n",
       " 'Valor de la función en el punto': nan}"
      ]
     },
     "metadata": {},
     "output_type": "display_data"
    },
    {
     "data": {
      "image/png": "[encoded data removed]",
      "text/plain": [
       "<Figure size 720x720 with 1 Axes>"
      ]
     },
     "metadata": {},
     "output_type": "display_data"
    },
    {
     "data": {
      "image/png": "[encoded data removed]",
      "text/plain": [
       "<Figure size 720x720 with 1 Axes>"
      ]
     },
     "metadata": {},
     "output_type": "display_data"
    },
    {
     "data": {
      "text/plain": [
       "'lim-2.png'"
      ]
     },
     "metadata": {},
     "output_type": "display_data"
    },
    {
     "data": {
      "image/png": "[encoded data removed]",
      "text/latex": [
       "$$\\lim_{x \\to 0}\\left(\\frac{\\sqrt{- x + 2} - \\sqrt{x + 2}}{x^{2} + x}\\right)$$"
      ],
      "text/plain": [
       "    ⎛  ________     _______⎞\n",
       "    ⎜╲╱ -x + 2  - ╲╱ x + 2 ⎟\n",
       "lim ⎜──────────────────────⎟\n",
       "x─→0⎜         2            ⎟\n",
       "    ⎝        x  + x        ⎠"
      ]
     },
     "metadata": {},
     "output_type": "display_data"
    },
    {
     "data": {
      "text/plain": [
       "'Límite por la izquierda / Límite por la derecha / valor de la función en el punto: '"
      ]
     },
     "metadata": {},
     "output_type": "display_data"
    },
    {
     "data": {
      "image/png": "[encoded data removed]",
      "text/latex": [
       "$$\\left [ - \\frac{\\sqrt{2}}{2}, \\quad - \\frac{\\sqrt{2}}{2}, \\quad \\mathrm{NaN}\\right ]$$"
      ],
      "text/plain": [
       "⎡-√2   -√2      ⎤\n",
       "⎢────, ────, nan⎥\n",
       "⎣ 2     2       ⎦"
      ]
     },
     "metadata": {},
     "output_type": "display_data"
    },
    {
     "data": {
      "text/plain": [
       "{'Límite por la izquierda': -sqrt(2)/2,\n",
       " 'Límite por la derecha': -sqrt(2)/2,\n",
       " 'Valor de la función en el punto': nan}"
      ]
     },
     "metadata": {},
     "output_type": "display_data"
    },
    {
     "data": {
      "image/png": "[encoded data removed]",
      "text/plain": [
       "<Figure size 720x720 with 1 Axes>"
      ]
     },
     "metadata": {},
     "output_type": "display_data"
    },
    {
     "data": {
      "image/png": "[encoded data removed]",
      "text/plain": [
       "<Figure size 720x720 with 1 Axes>"
      ]
     },
     "metadata": {},
     "output_type": "display_data"
    },
    {
     "data": {
      "text/plain": [
       "'lim-0.png'"
      ]
     },
     "metadata": {},
     "output_type": "display_data"
    },
    {
     "data": {
      "text/plain": [
       "[None, None, None]"
      ]
     },
     "execution_count": 12,
     "metadata": {},
     "output_type": "execute_result"
    },
    {
     "data": {
      "image/png": "[encoded data removed]",
      "text/plain": [
       "<Figure size 720x720 with 1 Axes>"
      ]
     },
     "metadata": {},
     "output_type": "display_data"
    }
   ],
   "source": [
    "def lim(expr,x0):\n",
    "    f = Lambda(x,eval(expr))\n",
    "    display(Limit(S(expr),x,x0,dir='+-'))\n",
    "    display(\"Límite por la izquierda / Límite por la derecha / valor de la función en el punto: \")\n",
    "    display([limit(f(x),x,x0, dir='-'),limit(f(x),x,x0), f(x0)])\n",
    "    display({'Límite por la izquierda':limit(f(x),x,x0, dir='-'),'Límite por la derecha':limit(f(x),x,x0),'Valor de la función en el punto': f(x0)})\n",
    "    plt.rcParams['figure.figsize'] = 10,10\n",
    "    p1 = plot(f(x),xlim=(-10,10), ylim=(-10,10))\n",
    "    #p1.save(\"lim-\"+expr+\"-\"+str(x0)+\".png\")\n",
    "    p1.save(\"a-ver.png\")\n",
    "    display(\"lim-\"+str(x0)+\".png\")\n",
    "    \n",
    "    \n",
    "# lim('(x+1)/(x-2)',2), lim('(x**2-5*x+6)/(x**2+3*x-10)',2)\n",
    "\n",
    "datos = [['(x+1)/(x-2)',2],['(x**2-5*x+6)/(x**2+3*x-10)',2], ['(sqrt(2-x)-sqrt(2+x))/(x**2+x)',0]]\n",
    "[lim(k[0],k[1]) for k in datos]\n"
   ]
  },
  {
   "cell_type": "code",
   "execution_count": 13,
   "metadata": {},
   "outputs": [
    {
     "data": {
      "text/latex": [
       "$$\\begin{cases} 0 & \\text{for}\\: x < -1 \\\\x^{2} & \\text{for}\\: x \\leq 1 \\\\2 x - 1 & \\text{otherwise} \\end{cases}$$"
      ],
      "text/plain": [
       "⎧   0     for x < -1\n",
       "⎪                   \n",
       "⎪   2               \n",
       "⎨  x      for x ≤ 1 \n",
       "⎪                   \n",
       "⎪2⋅x - 1  otherwise \n",
       "⎩                   "
      ]
     },
     "execution_count": 13,
     "metadata": {},
     "output_type": "execute_result"
    }
   ],
   "source": [
    "from sympy import Piecewise\n",
    "f=x**2\n",
    "g=2*x-1\n",
    "p = Piecewise( (0, x<-1), (f, x<=1), (g, True))\n",
    "p\n"
   ]
  },
  {
   "cell_type": "code",
   "execution_count": 14,
   "metadata": {},
   "outputs": [
    {
     "data": {
      "text/latex": [
       "$$\\begin{cases} 0 & \\text{for}\\: x < -1 \\\\x^{2} & \\text{for}\\: x < 1 \\\\2 x - 1 & \\text{for}\\: x > 1 \\end{cases}$$"
      ],
      "text/plain": [
       "⎧   0     for x < -1\n",
       "⎪                   \n",
       "⎪   2               \n",
       "⎨  x      for x < 1 \n",
       "⎪                   \n",
       "⎪2⋅x - 1  for x > 1 \n",
       "⎩                   "
      ]
     },
     "execution_count": 14,
     "metadata": {},
     "output_type": "execute_result"
    }
   ],
   "source": [
    "f=x**2\n",
    "g=2*x-1\n",
    "p = Piecewise( (0, x<-1), (f, x<1), (g, x>1))\n",
    "p"
   ]
  },
  {
   "cell_type": "code",
   "execution_count": 15,
   "metadata": {},
   "outputs": [
    {
     "data": {
      "image/png": "[encoded data removed]",
      "text/plain": [
       "<Figure size 720x720 with 1 Axes>"
      ]
     },
     "metadata": {},
     "output_type": "display_data"
    },
    {
     "data": {
      "image/png": "[encoded data removed]",
      "text/plain": [
       "<Figure size 720x720 with 1 Axes>"
      ]
     },
     "metadata": {},
     "output_type": "display_data"
    }
   ],
   "source": [
    "p1=plot(Piecewise((x/2,x<=1),(1/(x-1),x>1)))\n",
    "fg, ax = p1._backend.fig, p1._backend.ax\n",
    "p1.autoscale\n",
    "ax.set_aspect(\"equal\")\n",
    "p1.show()"
   ]
  },
  {
   "cell_type": "code",
   "execution_count": 16,
   "metadata": {},
   "outputs": [
    {
     "data": {
      "text/html": [
       "<div>\n",
       "<style scoped>\n",
       "    .dataframe tbody tr th:only-of-type {\n",
       "        vertical-align: middle;\n",
       "    }\n",
       "\n",
       "    .dataframe tbody tr th {\n",
       "        vertical-align: top;\n",
       "    }\n",
       "\n",
       "    .dataframe thead th {\n",
       "        text-align: right;\n",
       "    }\n",
       "</style>\n",
       "<table border=\"1\" class=\"dataframe\">\n",
       "  <thead>\n",
       "    <tr style=\"text-align: right;\">\n",
       "      <th></th>\n",
       "      <th>enunciado_latex</th>\n",
       "      <th>enunciado</th>\n",
       "      <th>solucion</th>\n",
       "      <th>texto</th>\n",
       "      <th>curso</th>\n",
       "      <th>titulo</th>\n",
       "      <th>n_ejercicio</th>\n",
       "      <th>dificultad</th>\n",
       "      <th>n_columnas</th>\n",
       "      <th>puntos</th>\n",
       "      <th>enun_tex</th>\n",
       "      <th>sol_tex</th>\n",
       "    </tr>\n",
       "  </thead>\n",
       "  <tbody>\n",
       "    <tr>\n",
       "      <th>0</th>\n",
       "      <td>$f(x)=0x-3$</td>\n",
       "      <td>0*x - 3</td>\n",
       "      <td>$Dom\\left(f \\right)=\\mathbb{R}$</td>\n",
       "      <td>Halla el dominio de las siguientes funciones: ...</td>\n",
       "      <td>1BC</td>\n",
       "      <td>31 - Funciones</td>\n",
       "      <td>p65e06-0</td>\n",
       "      <td>5</td>\n",
       "      <td>1</td>\n",
       "      <td>1</td>\n",
       "      <td>False</td>\n",
       "      <td>False</td>\n",
       "    </tr>\n",
       "    <tr>\n",
       "      <th>1</th>\n",
       "      <td>$f(x)=x^3-5x^2+2$</td>\n",
       "      <td>x**3 - 5*x**2 + 2</td>\n",
       "      <td>$Dom\\left(f \\right)=\\mathbb{R}$</td>\n",
       "      <td>Halla el dominio de las siguientes funciones: ...</td>\n",
       "      <td>1BC</td>\n",
       "      <td>31 - Funciones</td>\n",
       "      <td>p65e06-0</td>\n",
       "      <td>5</td>\n",
       "      <td>1</td>\n",
       "      <td>1</td>\n",
       "      <td>False</td>\n",
       "      <td>False</td>\n",
       "    </tr>\n",
       "    <tr>\n",
       "      <th>2</th>\n",
       "      <td>$f(x)=\\frac{{x - 1}}{{x + 5}}$</td>\n",
       "      <td>(x - 1)/(x + 5)</td>\n",
       "      <td>$Dom\\left(f \\right)=\\left(-\\infty, -5\\right) \\...</td>\n",
       "      <td>Halla el dominio de las siguientes funciones: ...</td>\n",
       "      <td>1BC</td>\n",
       "      <td>31 - Funciones</td>\n",
       "      <td>p65e06-0</td>\n",
       "      <td>5</td>\n",
       "      <td>1</td>\n",
       "      <td>1</td>\n",
       "      <td>False</td>\n",
       "      <td>False</td>\n",
       "    </tr>\n",
       "    <tr>\n",
       "      <th>3</th>\n",
       "      <td>$f(x)=7x-1$</td>\n",
       "      <td>7*x - 1</td>\n",
       "      <td>$Dom\\left(f \\right)=\\mathbb{R}$</td>\n",
       "      <td>Halla el dominio de las siguientes funciones: ...</td>\n",
       "      <td>1BC</td>\n",
       "      <td>31 - Funciones</td>\n",
       "      <td>p65e06-0</td>\n",
       "      <td>5</td>\n",
       "      <td>1</td>\n",
       "      <td>1</td>\n",
       "      <td>False</td>\n",
       "      <td>False</td>\n",
       "    </tr>\n",
       "    <tr>\n",
       "      <th>4</th>\n",
       "      <td>$f(x)=\\frac{2}{x}$</td>\n",
       "      <td>2/x</td>\n",
       "      <td>$Dom\\left(f \\right)=\\left(-\\infty, 0\\right) \\c...</td>\n",
       "      <td>Halla el dominio de las siguientes funciones: ...</td>\n",
       "      <td>1BC</td>\n",
       "      <td>31 - Funciones</td>\n",
       "      <td>p65e06-0</td>\n",
       "      <td>5</td>\n",
       "      <td>1</td>\n",
       "      <td>1</td>\n",
       "      <td>False</td>\n",
       "      <td>False</td>\n",
       "    </tr>\n",
       "    <tr>\n",
       "      <th>5</th>\n",
       "      <td>$f(x)=\\sqrt[3]{\\frac{x + 1}{x - 2}}$</td>\n",
       "      <td>((x + 1)/(x - 2))**(1/3)</td>\n",
       "      <td>$Dom\\left(f \\right)=\\left(-\\infty, 2\\right) \\c...</td>\n",
       "      <td>Halla el dominio de las siguientes funciones: ...</td>\n",
       "      <td>1BC</td>\n",
       "      <td>31 - Funciones</td>\n",
       "      <td>p65e06-0</td>\n",
       "      <td>5</td>\n",
       "      <td>1</td>\n",
       "      <td>1</td>\n",
       "      <td>False</td>\n",
       "      <td>False</td>\n",
       "    </tr>\n",
       "    <tr>\n",
       "      <th>6</th>\n",
       "      <td>$f(x)=\\sqrt {{x^2} - 9}$</td>\n",
       "      <td>sqrt(x**2 - 9)</td>\n",
       "      <td>$Dom\\left(f \\right)=\\left(-\\infty, -3\\right] \\...</td>\n",
       "      <td>Halla el dominio de las siguientes funciones: ...</td>\n",
       "      <td>1BC</td>\n",
       "      <td>31 - Funciones</td>\n",
       "      <td>p65e06-0</td>\n",
       "      <td>5</td>\n",
       "      <td>1</td>\n",
       "      <td>1</td>\n",
       "      <td>False</td>\n",
       "      <td>False</td>\n",
       "    </tr>\n",
       "    <tr>\n",
       "      <th>7</th>\n",
       "      <td>$f(x)=\\sqrt {x+3}$</td>\n",
       "      <td>sqrt(x + 3)</td>\n",
       "      <td>$Dom\\left(f \\right)=\\left[-3, \\infty\\right)$</td>\n",
       "      <td>Halla el dominio de las siguientes funciones: ...</td>\n",
       "      <td>1BC</td>\n",
       "      <td>31 - Funciones</td>\n",
       "      <td>p65e06-0</td>\n",
       "      <td>5</td>\n",
       "      <td>1</td>\n",
       "      <td>1</td>\n",
       "      <td>False</td>\n",
       "      <td>False</td>\n",
       "    </tr>\n",
       "    <tr>\n",
       "      <th>8</th>\n",
       "      <td>$g \\circ f$</td>\n",
       "      <td>g(f(x))</td>\n",
       "      <td>$g{\\left (f{\\left (x \\right )} \\right )}=\\frac...</td>\n",
       "      <td>Dadas las funciones $f(x)= x^2+5$, $g(x)= \\fra...</td>\n",
       "      <td>1BC</td>\n",
       "      <td>31 - Funciones</td>\n",
       "      <td>p65e17-0</td>\n",
       "      <td>5</td>\n",
       "      <td>1</td>\n",
       "      <td>1</td>\n",
       "      <td>False</td>\n",
       "      <td>False</td>\n",
       "    </tr>\n",
       "    <tr>\n",
       "      <th>9</th>\n",
       "      <td>$f \\circ g$</td>\n",
       "      <td>f(g(x))</td>\n",
       "      <td>$f{\\left (g{\\left (x \\right )} \\right )}=\\frac...</td>\n",
       "      <td>Dadas las funciones $f(x)= x^2+5$, $g(x)= \\fra...</td>\n",
       "      <td>1BC</td>\n",
       "      <td>31 - Funciones</td>\n",
       "      <td>p65e17-0</td>\n",
       "      <td>5</td>\n",
       "      <td>1</td>\n",
       "      <td>1</td>\n",
       "      <td>False</td>\n",
       "      <td>False</td>\n",
       "    </tr>\n",
       "    <tr>\n",
       "      <th>10</th>\n",
       "      <td>$h \\circ g \\circ f$</td>\n",
       "      <td>h(g(f(x)))</td>\n",
       "      <td>$h{\\left (g{\\left (f{\\left (x \\right )} \\right...</td>\n",
       "      <td>Dadas las funciones $f(x)= x^2+5$, $g(x)= \\fra...</td>\n",
       "      <td>1BC</td>\n",
       "      <td>31 - Funciones</td>\n",
       "      <td>p65e17-0</td>\n",
       "      <td>5</td>\n",
       "      <td>1</td>\n",
       "      <td>1</td>\n",
       "      <td>False</td>\n",
       "      <td>False</td>\n",
       "    </tr>\n",
       "    <tr>\n",
       "      <th>11</th>\n",
       "      <td>$f(x)=3 x - 2$</td>\n",
       "      <td>3x-2</td>\n",
       "      <td>$f^{-1}(x)=\\frac{x}{3} + \\frac{2}{3}$ \\\\ $f^{-...</td>\n",
       "      <td>Halla la función inversa de $f(x)$, y comprueb...</td>\n",
       "      <td>1BC</td>\n",
       "      <td>31 - Funciones</td>\n",
       "      <td>p66e23y24</td>\n",
       "      <td>5</td>\n",
       "      <td>1</td>\n",
       "      <td>1</td>\n",
       "      <td>False</td>\n",
       "      <td>False</td>\n",
       "    </tr>\n",
       "    <tr>\n",
       "      <th>12</th>\n",
       "      <td>$f(x)=\\frac{x + 2}{- x + 1}$</td>\n",
       "      <td>\\frac{{2 + x}}{{1 - x}}</td>\n",
       "      <td>$f^{-1}(x)=\\frac{x - 2}{x + 1}$ \\\\ $f^{-1} \\ci...</td>\n",
       "      <td>Halla la función inversa de $f(x)$, y comprueb...</td>\n",
       "      <td>1BC</td>\n",
       "      <td>31 - Funciones</td>\n",
       "      <td>p66e23y24</td>\n",
       "      <td>5</td>\n",
       "      <td>1</td>\n",
       "      <td>1</td>\n",
       "      <td>False</td>\n",
       "      <td>False</td>\n",
       "    </tr>\n",
       "    <tr>\n",
       "      <th>13</th>\n",
       "      <td>$y=-5x$</td>\n",
       "      <td>-5x</td>\n",
       "      <td>\\\\ \\resizebox{0.4\\textwidth}{!}{\\includegraphi...</td>\n",
       "      <td>Representa gráficamente las siguientes funciones:</td>\n",
       "      <td>1BC</td>\n",
       "      <td>31 - Funciones</td>\n",
       "      <td>p68e28</td>\n",
       "      <td>5</td>\n",
       "      <td>1</td>\n",
       "      <td>1</td>\n",
       "      <td>False</td>\n",
       "      <td>False</td>\n",
       "    </tr>\n",
       "    <tr>\n",
       "      <th>14</th>\n",
       "      <td>$y=-5x+3$</td>\n",
       "      <td>-5x+3</td>\n",
       "      <td>\\\\ \\resizebox{0.4\\textwidth}{!}{\\includegraphi...</td>\n",
       "      <td>Representa gráficamente las siguientes funciones:</td>\n",
       "      <td>1BC</td>\n",
       "      <td>31 - Funciones</td>\n",
       "      <td>p68e28</td>\n",
       "      <td>5</td>\n",
       "      <td>1</td>\n",
       "      <td>1</td>\n",
       "      <td>False</td>\n",
       "      <td>False</td>\n",
       "    </tr>\n",
       "    <tr>\n",
       "      <th>15</th>\n",
       "      <td>$y=x^2-2x-3$</td>\n",
       "      <td>x^2-2x-3</td>\n",
       "      <td>\\\\ \\resizebox{0.4\\textwidth}{!}{\\includegraphi...</td>\n",
       "      <td>Representa gráficamente las siguientes funciones:</td>\n",
       "      <td>1BC</td>\n",
       "      <td>31 - Funciones</td>\n",
       "      <td>p68e28</td>\n",
       "      <td>5</td>\n",
       "      <td>1</td>\n",
       "      <td>1</td>\n",
       "      <td>False</td>\n",
       "      <td>False</td>\n",
       "    </tr>\n",
       "    <tr>\n",
       "      <th>16</th>\n",
       "      <td>$y=4x^2-8x-21$</td>\n",
       "      <td>4x^2-8x-21</td>\n",
       "      <td>\\\\ \\resizebox{0.4\\textwidth}{!}{\\includegraphi...</td>\n",
       "      <td>Representa gráficamente las siguientes funciones:</td>\n",
       "      <td>1BC</td>\n",
       "      <td>31 - Funciones</td>\n",
       "      <td>p68e28</td>\n",
       "      <td>5</td>\n",
       "      <td>1</td>\n",
       "      <td>1</td>\n",
       "      <td>False</td>\n",
       "      <td>False</td>\n",
       "    </tr>\n",
       "    <tr>\n",
       "      <th>17</th>\n",
       "      <td>$y=\\left|{x + 1}\\right|$</td>\n",
       "      <td>Abs(x + 1)</td>\n",
       "      <td>\\\\ \\resizebox{0.4\\textwidth}{!}{\\includegraphi...</td>\n",
       "      <td>Representa gráficamente las siguientes funciones:</td>\n",
       "      <td>1BC</td>\n",
       "      <td>31 - Funciones</td>\n",
       "      <td>p68e35</td>\n",
       "      <td>5</td>\n",
       "      <td>1</td>\n",
       "      <td>1</td>\n",
       "      <td>False</td>\n",
       "      <td>False</td>\n",
       "    </tr>\n",
       "  </tbody>\n",
       "</table>\n",
       "</div>"
      ],
      "text/plain": [
       "                         enunciado_latex                 enunciado  \\\n",
       "0                            $f(x)=0x-3$                   0*x - 3   \n",
       "1                      $f(x)=x^3-5x^2+2$         x**3 - 5*x**2 + 2   \n",
       "2         $f(x)=\\frac{{x - 1}}{{x + 5}}$           (x - 1)/(x + 5)   \n",
       "3                            $f(x)=7x-1$                   7*x - 1   \n",
       "4                     $f(x)=\\frac{2}{x}$                       2/x   \n",
       "5   $f(x)=\\sqrt[3]{\\frac{x + 1}{x - 2}}$  ((x + 1)/(x - 2))**(1/3)   \n",
       "6               $f(x)=\\sqrt {{x^2} - 9}$            sqrt(x**2 - 9)   \n",
       "7                     $f(x)=\\sqrt {x+3}$               sqrt(x + 3)   \n",
       "8                            $g \\circ f$                   g(f(x))   \n",
       "9                            $f \\circ g$                   f(g(x))   \n",
       "10                   $h \\circ g \\circ f$                h(g(f(x)))   \n",
       "11                        $f(x)=3 x - 2$                      3x-2   \n",
       "12          $f(x)=\\frac{x + 2}{- x + 1}$   \\frac{{2 + x}}{{1 - x}}   \n",
       "13                               $y=-5x$                       -5x   \n",
       "14                             $y=-5x+3$                     -5x+3   \n",
       "15                          $y=x^2-2x-3$                  x^2-2x-3   \n",
       "16                        $y=4x^2-8x-21$                4x^2-8x-21   \n",
       "17              $y=\\left|{x + 1}\\right|$                Abs(x + 1)   \n",
       "\n",
       "                                             solucion  \\\n",
       "0                     $Dom\\left(f \\right)=\\mathbb{R}$   \n",
       "1                     $Dom\\left(f \\right)=\\mathbb{R}$   \n",
       "2   $Dom\\left(f \\right)=\\left(-\\infty, -5\\right) \\...   \n",
       "3                     $Dom\\left(f \\right)=\\mathbb{R}$   \n",
       "4   $Dom\\left(f \\right)=\\left(-\\infty, 0\\right) \\c...   \n",
       "5   $Dom\\left(f \\right)=\\left(-\\infty, 2\\right) \\c...   \n",
       "6   $Dom\\left(f \\right)=\\left(-\\infty, -3\\right] \\...   \n",
       "7        $Dom\\left(f \\right)=\\left[-3, \\infty\\right)$   \n",
       "8   $g{\\left (f{\\left (x \\right )} \\right )}=\\frac...   \n",
       "9   $f{\\left (g{\\left (x \\right )} \\right )}=\\frac...   \n",
       "10  $h{\\left (g{\\left (f{\\left (x \\right )} \\right...   \n",
       "11  $f^{-1}(x)=\\frac{x}{3} + \\frac{2}{3}$ \\\\ $f^{-...   \n",
       "12  $f^{-1}(x)=\\frac{x - 2}{x + 1}$ \\\\ $f^{-1} \\ci...   \n",
       "13  \\\\ \\resizebox{0.4\\textwidth}{!}{\\includegraphi...   \n",
       "14  \\\\ \\resizebox{0.4\\textwidth}{!}{\\includegraphi...   \n",
       "15  \\\\ \\resizebox{0.4\\textwidth}{!}{\\includegraphi...   \n",
       "16  \\\\ \\resizebox{0.4\\textwidth}{!}{\\includegraphi...   \n",
       "17  \\\\ \\resizebox{0.4\\textwidth}{!}{\\includegraphi...   \n",
       "\n",
       "                                                texto curso          titulo  \\\n",
       "0   Halla el dominio de las siguientes funciones: ...   1BC  31 - Funciones   \n",
       "1   Halla el dominio de las siguientes funciones: ...   1BC  31 - Funciones   \n",
       "2   Halla el dominio de las siguientes funciones: ...   1BC  31 - Funciones   \n",
       "3   Halla el dominio de las siguientes funciones: ...   1BC  31 - Funciones   \n",
       "4   Halla el dominio de las siguientes funciones: ...   1BC  31 - Funciones   \n",
       "5   Halla el dominio de las siguientes funciones: ...   1BC  31 - Funciones   \n",
       "6   Halla el dominio de las siguientes funciones: ...   1BC  31 - Funciones   \n",
       "7   Halla el dominio de las siguientes funciones: ...   1BC  31 - Funciones   \n",
       "8   Dadas las funciones $f(x)= x^2+5$, $g(x)= \\fra...   1BC  31 - Funciones   \n",
       "9   Dadas las funciones $f(x)= x^2+5$, $g(x)= \\fra...   1BC  31 - Funciones   \n",
       "10  Dadas las funciones $f(x)= x^2+5$, $g(x)= \\fra...   1BC  31 - Funciones   \n",
       "11  Halla la función inversa de $f(x)$, y comprueb...   1BC  31 - Funciones   \n",
       "12  Halla la función inversa de $f(x)$, y comprueb...   1BC  31 - Funciones   \n",
       "13  Representa gráficamente las siguientes funciones:   1BC  31 - Funciones   \n",
       "14  Representa gráficamente las siguientes funciones:   1BC  31 - Funciones   \n",
       "15  Representa gráficamente las siguientes funciones:   1BC  31 - Funciones   \n",
       "16  Representa gráficamente las siguientes funciones:   1BC  31 - Funciones   \n",
       "17  Representa gráficamente las siguientes funciones:   1BC  31 - Funciones   \n",
       "\n",
       "   n_ejercicio dificultad n_columnas puntos  enun_tex  sol_tex  \n",
       "0     p65e06-0          5          1      1     False    False  \n",
       "1     p65e06-0          5          1      1     False    False  \n",
       "2     p65e06-0          5          1      1     False    False  \n",
       "3     p65e06-0          5          1      1     False    False  \n",
       "4     p65e06-0          5          1      1     False    False  \n",
       "5     p65e06-0          5          1      1     False    False  \n",
       "6     p65e06-0          5          1      1     False    False  \n",
       "7     p65e06-0          5          1      1     False    False  \n",
       "8     p65e17-0          5          1      1     False    False  \n",
       "9     p65e17-0          5          1      1     False    False  \n",
       "10    p65e17-0          5          1      1     False    False  \n",
       "11   p66e23y24          5          1      1     False    False  \n",
       "12   p66e23y24          5          1      1     False    False  \n",
       "13      p68e28          5          1      1     False    False  \n",
       "14      p68e28          5          1      1     False    False  \n",
       "15      p68e28          5          1      1     False    False  \n",
       "16      p68e28          5          1      1     False    False  \n",
       "17      p68e35          5          1      1     False    False  "
      ]
     },
     "execution_count": 16,
     "metadata": {},
     "output_type": "execute_result"
    }
   ],
   "source": [
    "df_ejercicios"
   ]
  },
  {
   "cell_type": "code",
   "execution_count": 17,
   "metadata": {},
   "outputs": [],
   "source": [
    "df_ejercicios.to_csv('ejercicios31.csv', index = False)"
   ]
  },
  {
   "cell_type": "code",
   "execution_count": 18,
   "metadata": {},
   "outputs": [],
   "source": [
    "df_ejercicios = pd.read_csv('ejercicios31.csv', index_col= None)"
   ]
  },
  {
   "cell_type": "code",
   "execution_count": 19,
   "metadata": {},
   "outputs": [
    {
     "data": {
      "text/markdown": [
       "**Ejercicio: **p65e06-0"
      ],
      "text/plain": [
       "<IPython.core.display.Markdown object>"
      ]
     },
     "metadata": {},
     "output_type": "display_data"
    },
    {
     "data": {
      "text/html": [
       "<div>\n",
       "<style scoped>\n",
       "    .dataframe tbody tr th:only-of-type {\n",
       "        vertical-align: middle;\n",
       "    }\n",
       "\n",
       "    .dataframe tbody tr th {\n",
       "        vertical-align: top;\n",
       "    }\n",
       "\n",
       "    .dataframe thead th {\n",
       "        text-align: right;\n",
       "    }\n",
       "</style>\n",
       "<table border=\"1\" class=\"dataframe\">\n",
       "  <thead>\n",
       "    <tr style=\"text-align: right;\">\n",
       "      <th></th>\n",
       "      <th>enunciado_latex</th>\n",
       "      <th>enunciado</th>\n",
       "      <th>solucion</th>\n",
       "      <th>texto</th>\n",
       "      <th>curso</th>\n",
       "      <th>titulo</th>\n",
       "      <th>n_ejercicio</th>\n",
       "      <th>dificultad</th>\n",
       "      <th>n_columnas</th>\n",
       "      <th>puntos</th>\n",
       "      <th>enun_tex</th>\n",
       "      <th>sol_tex</th>\n",
       "    </tr>\n",
       "  </thead>\n",
       "  <tbody>\n",
       "    <tr>\n",
       "      <th>0</th>\n",
       "      <td>$f(x)=0x-3$</td>\n",
       "      <td>0*x - 3</td>\n",
       "      <td>$Dom\\left(f \\right)=\\mathbb{R}$</td>\n",
       "      <td>Halla el dominio de las siguientes funciones: ...</td>\n",
       "      <td>1BC</td>\n",
       "      <td>31 - Funciones</td>\n",
       "      <td>p65e06-0</td>\n",
       "      <td>5</td>\n",
       "      <td>1</td>\n",
       "      <td>1</td>\n",
       "      <td>False</td>\n",
       "      <td>False</td>\n",
       "    </tr>\n",
       "    <tr>\n",
       "      <th>1</th>\n",
       "      <td>$f(x)=x^3-5x^2+2$</td>\n",
       "      <td>x**3 - 5*x**2 + 2</td>\n",
       "      <td>$Dom\\left(f \\right)=\\mathbb{R}$</td>\n",
       "      <td>Halla el dominio de las siguientes funciones: ...</td>\n",
       "      <td>1BC</td>\n",
       "      <td>31 - Funciones</td>\n",
       "      <td>p65e06-0</td>\n",
       "      <td>5</td>\n",
       "      <td>1</td>\n",
       "      <td>1</td>\n",
       "      <td>False</td>\n",
       "      <td>False</td>\n",
       "    </tr>\n",
       "    <tr>\n",
       "      <th>2</th>\n",
       "      <td>$f(x)=\\frac{{x - 1}}{{x + 5}}$</td>\n",
       "      <td>(x - 1)/(x + 5)</td>\n",
       "      <td>$Dom\\left(f \\right)=\\left(-\\infty, -5\\right) \\...</td>\n",
       "      <td>Halla el dominio de las siguientes funciones: ...</td>\n",
       "      <td>1BC</td>\n",
       "      <td>31 - Funciones</td>\n",
       "      <td>p65e06-0</td>\n",
       "      <td>5</td>\n",
       "      <td>1</td>\n",
       "      <td>1</td>\n",
       "      <td>False</td>\n",
       "      <td>False</td>\n",
       "    </tr>\n",
       "    <tr>\n",
       "      <th>3</th>\n",
       "      <td>$f(x)=7x-1$</td>\n",
       "      <td>7*x - 1</td>\n",
       "      <td>$Dom\\left(f \\right)=\\mathbb{R}$</td>\n",
       "      <td>Halla el dominio de las siguientes funciones: ...</td>\n",
       "      <td>1BC</td>\n",
       "      <td>31 - Funciones</td>\n",
       "      <td>p65e06-0</td>\n",
       "      <td>5</td>\n",
       "      <td>1</td>\n",
       "      <td>1</td>\n",
       "      <td>False</td>\n",
       "      <td>False</td>\n",
       "    </tr>\n",
       "    <tr>\n",
       "      <th>4</th>\n",
       "      <td>$f(x)=\\frac{2}{x}$</td>\n",
       "      <td>2/x</td>\n",
       "      <td>$Dom\\left(f \\right)=\\left(-\\infty, 0\\right) \\c...</td>\n",
       "      <td>Halla el dominio de las siguientes funciones: ...</td>\n",
       "      <td>1BC</td>\n",
       "      <td>31 - Funciones</td>\n",
       "      <td>p65e06-0</td>\n",
       "      <td>5</td>\n",
       "      <td>1</td>\n",
       "      <td>1</td>\n",
       "      <td>False</td>\n",
       "      <td>False</td>\n",
       "    </tr>\n",
       "    <tr>\n",
       "      <th>5</th>\n",
       "      <td>$f(x)=\\sqrt[3]{\\frac{x + 1}{x - 2}}$</td>\n",
       "      <td>((x + 1)/(x - 2))**(1/3)</td>\n",
       "      <td>$Dom\\left(f \\right)=\\left(-\\infty, 2\\right) \\c...</td>\n",
       "      <td>Halla el dominio de las siguientes funciones: ...</td>\n",
       "      <td>1BC</td>\n",
       "      <td>31 - Funciones</td>\n",
       "      <td>p65e06-0</td>\n",
       "      <td>5</td>\n",
       "      <td>1</td>\n",
       "      <td>1</td>\n",
       "      <td>False</td>\n",
       "      <td>False</td>\n",
       "    </tr>\n",
       "    <tr>\n",
       "      <th>6</th>\n",
       "      <td>$f(x)=\\sqrt {{x^2} - 9}$</td>\n",
       "      <td>sqrt(x**2 - 9)</td>\n",
       "      <td>$Dom\\left(f \\right)=\\left(-\\infty, -3\\right] \\...</td>\n",
       "      <td>Halla el dominio de las siguientes funciones: ...</td>\n",
       "      <td>1BC</td>\n",
       "      <td>31 - Funciones</td>\n",
       "      <td>p65e06-0</td>\n",
       "      <td>5</td>\n",
       "      <td>1</td>\n",
       "      <td>1</td>\n",
       "      <td>False</td>\n",
       "      <td>False</td>\n",
       "    </tr>\n",
       "    <tr>\n",
       "      <th>7</th>\n",
       "      <td>$f(x)=\\sqrt {x+3}$</td>\n",
       "      <td>sqrt(x + 3)</td>\n",
       "      <td>$Dom\\left(f \\right)=\\left[-3, \\infty\\right)$</td>\n",
       "      <td>Halla el dominio de las siguientes funciones: ...</td>\n",
       "      <td>1BC</td>\n",
       "      <td>31 - Funciones</td>\n",
       "      <td>p65e06-0</td>\n",
       "      <td>5</td>\n",
       "      <td>1</td>\n",
       "      <td>1</td>\n",
       "      <td>False</td>\n",
       "      <td>False</td>\n",
       "    </tr>\n",
       "  </tbody>\n",
       "</table>\n",
       "</div>"
      ],
      "text/plain": [
       "                        enunciado_latex                 enunciado  \\\n",
       "0                           $f(x)=0x-3$                   0*x - 3   \n",
       "1                     $f(x)=x^3-5x^2+2$         x**3 - 5*x**2 + 2   \n",
       "2        $f(x)=\\frac{{x - 1}}{{x + 5}}$           (x - 1)/(x + 5)   \n",
       "3                           $f(x)=7x-1$                   7*x - 1   \n",
       "4                    $f(x)=\\frac{2}{x}$                       2/x   \n",
       "5  $f(x)=\\sqrt[3]{\\frac{x + 1}{x - 2}}$  ((x + 1)/(x - 2))**(1/3)   \n",
       "6              $f(x)=\\sqrt {{x^2} - 9}$            sqrt(x**2 - 9)   \n",
       "7                    $f(x)=\\sqrt {x+3}$               sqrt(x + 3)   \n",
       "\n",
       "                                            solucion  \\\n",
       "0                    $Dom\\left(f \\right)=\\mathbb{R}$   \n",
       "1                    $Dom\\left(f \\right)=\\mathbb{R}$   \n",
       "2  $Dom\\left(f \\right)=\\left(-\\infty, -5\\right) \\...   \n",
       "3                    $Dom\\left(f \\right)=\\mathbb{R}$   \n",
       "4  $Dom\\left(f \\right)=\\left(-\\infty, 0\\right) \\c...   \n",
       "5  $Dom\\left(f \\right)=\\left(-\\infty, 2\\right) \\c...   \n",
       "6  $Dom\\left(f \\right)=\\left(-\\infty, -3\\right] \\...   \n",
       "7       $Dom\\left(f \\right)=\\left[-3, \\infty\\right)$   \n",
       "\n",
       "                                               texto curso          titulo  \\\n",
       "0  Halla el dominio de las siguientes funciones: ...   1BC  31 - Funciones   \n",
       "1  Halla el dominio de las siguientes funciones: ...   1BC  31 - Funciones   \n",
       "2  Halla el dominio de las siguientes funciones: ...   1BC  31 - Funciones   \n",
       "3  Halla el dominio de las siguientes funciones: ...   1BC  31 - Funciones   \n",
       "4  Halla el dominio de las siguientes funciones: ...   1BC  31 - Funciones   \n",
       "5  Halla el dominio de las siguientes funciones: ...   1BC  31 - Funciones   \n",
       "6  Halla el dominio de las siguientes funciones: ...   1BC  31 - Funciones   \n",
       "7  Halla el dominio de las siguientes funciones: ...   1BC  31 - Funciones   \n",
       "\n",
       "  n_ejercicio  dificultad  n_columnas  puntos  enun_tex  sol_tex  \n",
       "0    p65e06-0           5           1       1     False    False  \n",
       "1    p65e06-0           5           1       1     False    False  \n",
       "2    p65e06-0           5           1       1     False    False  \n",
       "3    p65e06-0           5           1       1     False    False  \n",
       "4    p65e06-0           5           1       1     False    False  \n",
       "5    p65e06-0           5           1       1     False    False  \n",
       "6    p65e06-0           5           1       1     False    False  \n",
       "7    p65e06-0           5           1       1     False    False  "
      ]
     },
     "metadata": {},
     "output_type": "display_data"
    },
    {
     "data": {
      "text/markdown": [
       "**Ejercicio: **p65e17-0"
      ],
      "text/plain": [
       "<IPython.core.display.Markdown object>"
      ]
     },
     "metadata": {},
     "output_type": "display_data"
    },
    {
     "data": {
      "text/html": [
       "<div>\n",
       "<style scoped>\n",
       "    .dataframe tbody tr th:only-of-type {\n",
       "        vertical-align: middle;\n",
       "    }\n",
       "\n",
       "    .dataframe tbody tr th {\n",
       "        vertical-align: top;\n",
       "    }\n",
       "\n",
       "    .dataframe thead th {\n",
       "        text-align: right;\n",
       "    }\n",
       "</style>\n",
       "<table border=\"1\" class=\"dataframe\">\n",
       "  <thead>\n",
       "    <tr style=\"text-align: right;\">\n",
       "      <th></th>\n",
       "      <th>enunciado_latex</th>\n",
       "      <th>enunciado</th>\n",
       "      <th>solucion</th>\n",
       "      <th>texto</th>\n",
       "      <th>curso</th>\n",
       "      <th>titulo</th>\n",
       "      <th>n_ejercicio</th>\n",
       "      <th>dificultad</th>\n",
       "      <th>n_columnas</th>\n",
       "      <th>puntos</th>\n",
       "      <th>enun_tex</th>\n",
       "      <th>sol_tex</th>\n",
       "    </tr>\n",
       "  </thead>\n",
       "  <tbody>\n",
       "    <tr>\n",
       "      <th>8</th>\n",
       "      <td>$g \\circ f$</td>\n",
       "      <td>g(f(x))</td>\n",
       "      <td>$g{\\left (f{\\left (x \\right )} \\right )}=\\frac...</td>\n",
       "      <td>Dadas las funciones $f(x)= x^2+5$, $g(x)= \\fra...</td>\n",
       "      <td>1BC</td>\n",
       "      <td>31 - Funciones</td>\n",
       "      <td>p65e17-0</td>\n",
       "      <td>5</td>\n",
       "      <td>1</td>\n",
       "      <td>1</td>\n",
       "      <td>False</td>\n",
       "      <td>False</td>\n",
       "    </tr>\n",
       "    <tr>\n",
       "      <th>9</th>\n",
       "      <td>$f \\circ g$</td>\n",
       "      <td>f(g(x))</td>\n",
       "      <td>$f{\\left (g{\\left (x \\right )} \\right )}=\\frac...</td>\n",
       "      <td>Dadas las funciones $f(x)= x^2+5$, $g(x)= \\fra...</td>\n",
       "      <td>1BC</td>\n",
       "      <td>31 - Funciones</td>\n",
       "      <td>p65e17-0</td>\n",
       "      <td>5</td>\n",
       "      <td>1</td>\n",
       "      <td>1</td>\n",
       "      <td>False</td>\n",
       "      <td>False</td>\n",
       "    </tr>\n",
       "    <tr>\n",
       "      <th>10</th>\n",
       "      <td>$h \\circ g \\circ f$</td>\n",
       "      <td>h(g(f(x)))</td>\n",
       "      <td>$h{\\left (g{\\left (f{\\left (x \\right )} \\right...</td>\n",
       "      <td>Dadas las funciones $f(x)= x^2+5$, $g(x)= \\fra...</td>\n",
       "      <td>1BC</td>\n",
       "      <td>31 - Funciones</td>\n",
       "      <td>p65e17-0</td>\n",
       "      <td>5</td>\n",
       "      <td>1</td>\n",
       "      <td>1</td>\n",
       "      <td>False</td>\n",
       "      <td>False</td>\n",
       "    </tr>\n",
       "  </tbody>\n",
       "</table>\n",
       "</div>"
      ],
      "text/plain": [
       "        enunciado_latex   enunciado  \\\n",
       "8           $g \\circ f$     g(f(x))   \n",
       "9           $f \\circ g$     f(g(x))   \n",
       "10  $h \\circ g \\circ f$  h(g(f(x)))   \n",
       "\n",
       "                                             solucion  \\\n",
       "8   $g{\\left (f{\\left (x \\right )} \\right )}=\\frac...   \n",
       "9   $f{\\left (g{\\left (x \\right )} \\right )}=\\frac...   \n",
       "10  $h{\\left (g{\\left (f{\\left (x \\right )} \\right...   \n",
       "\n",
       "                                                texto curso          titulo  \\\n",
       "8   Dadas las funciones $f(x)= x^2+5$, $g(x)= \\fra...   1BC  31 - Funciones   \n",
       "9   Dadas las funciones $f(x)= x^2+5$, $g(x)= \\fra...   1BC  31 - Funciones   \n",
       "10  Dadas las funciones $f(x)= x^2+5$, $g(x)= \\fra...   1BC  31 - Funciones   \n",
       "\n",
       "   n_ejercicio  dificultad  n_columnas  puntos  enun_tex  sol_tex  \n",
       "8     p65e17-0           5           1       1     False    False  \n",
       "9     p65e17-0           5           1       1     False    False  \n",
       "10    p65e17-0           5           1       1     False    False  "
      ]
     },
     "metadata": {},
     "output_type": "display_data"
    },
    {
     "data": {
      "text/markdown": [
       "**Ejercicio: **p66e23y24"
      ],
      "text/plain": [
       "<IPython.core.display.Markdown object>"
      ]
     },
     "metadata": {},
     "output_type": "display_data"
    },
    {
     "data": {
      "text/html": [
       "<div>\n",
       "<style scoped>\n",
       "    .dataframe tbody tr th:only-of-type {\n",
       "        vertical-align: middle;\n",
       "    }\n",
       "\n",
       "    .dataframe tbody tr th {\n",
       "        vertical-align: top;\n",
       "    }\n",
       "\n",
       "    .dataframe thead th {\n",
       "        text-align: right;\n",
       "    }\n",
       "</style>\n",
       "<table border=\"1\" class=\"dataframe\">\n",
       "  <thead>\n",
       "    <tr style=\"text-align: right;\">\n",
       "      <th></th>\n",
       "      <th>enunciado_latex</th>\n",
       "      <th>enunciado</th>\n",
       "      <th>solucion</th>\n",
       "      <th>texto</th>\n",
       "      <th>curso</th>\n",
       "      <th>titulo</th>\n",
       "      <th>n_ejercicio</th>\n",
       "      <th>dificultad</th>\n",
       "      <th>n_columnas</th>\n",
       "      <th>puntos</th>\n",
       "      <th>enun_tex</th>\n",
       "      <th>sol_tex</th>\n",
       "    </tr>\n",
       "  </thead>\n",
       "  <tbody>\n",
       "    <tr>\n",
       "      <th>11</th>\n",
       "      <td>$f(x)=3 x - 2$</td>\n",
       "      <td>3x-2</td>\n",
       "      <td>$f^{-1}(x)=\\frac{x}{3} + \\frac{2}{3}$ \\\\ $f^{-...</td>\n",
       "      <td>Halla la función inversa de $f(x)$, y comprueb...</td>\n",
       "      <td>1BC</td>\n",
       "      <td>31 - Funciones</td>\n",
       "      <td>p66e23y24</td>\n",
       "      <td>5</td>\n",
       "      <td>1</td>\n",
       "      <td>1</td>\n",
       "      <td>False</td>\n",
       "      <td>False</td>\n",
       "    </tr>\n",
       "    <tr>\n",
       "      <th>12</th>\n",
       "      <td>$f(x)=\\frac{x + 2}{- x + 1}$</td>\n",
       "      <td>\\frac{{2 + x}}{{1 - x}}</td>\n",
       "      <td>$f^{-1}(x)=\\frac{x - 2}{x + 1}$ \\\\ $f^{-1} \\ci...</td>\n",
       "      <td>Halla la función inversa de $f(x)$, y comprueb...</td>\n",
       "      <td>1BC</td>\n",
       "      <td>31 - Funciones</td>\n",
       "      <td>p66e23y24</td>\n",
       "      <td>5</td>\n",
       "      <td>1</td>\n",
       "      <td>1</td>\n",
       "      <td>False</td>\n",
       "      <td>False</td>\n",
       "    </tr>\n",
       "  </tbody>\n",
       "</table>\n",
       "</div>"
      ],
      "text/plain": [
       "                 enunciado_latex                enunciado  \\\n",
       "11                $f(x)=3 x - 2$                     3x-2   \n",
       "12  $f(x)=\\frac{x + 2}{- x + 1}$  \\frac{{2 + x}}{{1 - x}}   \n",
       "\n",
       "                                             solucion  \\\n",
       "11  $f^{-1}(x)=\\frac{x}{3} + \\frac{2}{3}$ \\\\ $f^{-...   \n",
       "12  $f^{-1}(x)=\\frac{x - 2}{x + 1}$ \\\\ $f^{-1} \\ci...   \n",
       "\n",
       "                                                texto curso          titulo  \\\n",
       "11  Halla la función inversa de $f(x)$, y comprueb...   1BC  31 - Funciones   \n",
       "12  Halla la función inversa de $f(x)$, y comprueb...   1BC  31 - Funciones   \n",
       "\n",
       "   n_ejercicio  dificultad  n_columnas  puntos  enun_tex  sol_tex  \n",
       "11   p66e23y24           5           1       1     False    False  \n",
       "12   p66e23y24           5           1       1     False    False  "
      ]
     },
     "metadata": {},
     "output_type": "display_data"
    },
    {
     "data": {
      "text/markdown": [
       "**Ejercicio: **p68e28"
      ],
      "text/plain": [
       "<IPython.core.display.Markdown object>"
      ]
     },
     "metadata": {},
     "output_type": "display_data"
    },
    {
     "data": {
      "text/html": [
       "<div>\n",
       "<style scoped>\n",
       "    .dataframe tbody tr th:only-of-type {\n",
       "        vertical-align: middle;\n",
       "    }\n",
       "\n",
       "    .dataframe tbody tr th {\n",
       "        vertical-align: top;\n",
       "    }\n",
       "\n",
       "    .dataframe thead th {\n",
       "        text-align: right;\n",
       "    }\n",
       "</style>\n",
       "<table border=\"1\" class=\"dataframe\">\n",
       "  <thead>\n",
       "    <tr style=\"text-align: right;\">\n",
       "      <th></th>\n",
       "      <th>enunciado_latex</th>\n",
       "      <th>enunciado</th>\n",
       "      <th>solucion</th>\n",
       "      <th>texto</th>\n",
       "      <th>curso</th>\n",
       "      <th>titulo</th>\n",
       "      <th>n_ejercicio</th>\n",
       "      <th>dificultad</th>\n",
       "      <th>n_columnas</th>\n",
       "      <th>puntos</th>\n",
       "      <th>enun_tex</th>\n",
       "      <th>sol_tex</th>\n",
       "    </tr>\n",
       "  </thead>\n",
       "  <tbody>\n",
       "    <tr>\n",
       "      <th>13</th>\n",
       "      <td>$y=-5x$</td>\n",
       "      <td>-5x</td>\n",
       "      <td>\\\\ \\resizebox{0.4\\textwidth}{!}{\\includegraphi...</td>\n",
       "      <td>Representa gráficamente las siguientes funciones:</td>\n",
       "      <td>1BC</td>\n",
       "      <td>31 - Funciones</td>\n",
       "      <td>p68e28</td>\n",
       "      <td>5</td>\n",
       "      <td>1</td>\n",
       "      <td>1</td>\n",
       "      <td>False</td>\n",
       "      <td>False</td>\n",
       "    </tr>\n",
       "    <tr>\n",
       "      <th>14</th>\n",
       "      <td>$y=-5x+3$</td>\n",
       "      <td>-5x+3</td>\n",
       "      <td>\\\\ \\resizebox{0.4\\textwidth}{!}{\\includegraphi...</td>\n",
       "      <td>Representa gráficamente las siguientes funciones:</td>\n",
       "      <td>1BC</td>\n",
       "      <td>31 - Funciones</td>\n",
       "      <td>p68e28</td>\n",
       "      <td>5</td>\n",
       "      <td>1</td>\n",
       "      <td>1</td>\n",
       "      <td>False</td>\n",
       "      <td>False</td>\n",
       "    </tr>\n",
       "    <tr>\n",
       "      <th>15</th>\n",
       "      <td>$y=x^2-2x-3$</td>\n",
       "      <td>x^2-2x-3</td>\n",
       "      <td>\\\\ \\resizebox{0.4\\textwidth}{!}{\\includegraphi...</td>\n",
       "      <td>Representa gráficamente las siguientes funciones:</td>\n",
       "      <td>1BC</td>\n",
       "      <td>31 - Funciones</td>\n",
       "      <td>p68e28</td>\n",
       "      <td>5</td>\n",
       "      <td>1</td>\n",
       "      <td>1</td>\n",
       "      <td>False</td>\n",
       "      <td>False</td>\n",
       "    </tr>\n",
       "    <tr>\n",
       "      <th>16</th>\n",
       "      <td>$y=4x^2-8x-21$</td>\n",
       "      <td>4x^2-8x-21</td>\n",
       "      <td>\\\\ \\resizebox{0.4\\textwidth}{!}{\\includegraphi...</td>\n",
       "      <td>Representa gráficamente las siguientes funciones:</td>\n",
       "      <td>1BC</td>\n",
       "      <td>31 - Funciones</td>\n",
       "      <td>p68e28</td>\n",
       "      <td>5</td>\n",
       "      <td>1</td>\n",
       "      <td>1</td>\n",
       "      <td>False</td>\n",
       "      <td>False</td>\n",
       "    </tr>\n",
       "  </tbody>\n",
       "</table>\n",
       "</div>"
      ],
      "text/plain": [
       "   enunciado_latex   enunciado  \\\n",
       "13         $y=-5x$         -5x   \n",
       "14       $y=-5x+3$       -5x+3   \n",
       "15    $y=x^2-2x-3$    x^2-2x-3   \n",
       "16  $y=4x^2-8x-21$  4x^2-8x-21   \n",
       "\n",
       "                                             solucion  \\\n",
       "13  \\\\ \\resizebox{0.4\\textwidth}{!}{\\includegraphi...   \n",
       "14  \\\\ \\resizebox{0.4\\textwidth}{!}{\\includegraphi...   \n",
       "15  \\\\ \\resizebox{0.4\\textwidth}{!}{\\includegraphi...   \n",
       "16  \\\\ \\resizebox{0.4\\textwidth}{!}{\\includegraphi...   \n",
       "\n",
       "                                                texto curso          titulo  \\\n",
       "13  Representa gráficamente las siguientes funciones:   1BC  31 - Funciones   \n",
       "14  Representa gráficamente las siguientes funciones:   1BC  31 - Funciones   \n",
       "15  Representa gráficamente las siguientes funciones:   1BC  31 - Funciones   \n",
       "16  Representa gráficamente las siguientes funciones:   1BC  31 - Funciones   \n",
       "\n",
       "   n_ejercicio  dificultad  n_columnas  puntos  enun_tex  sol_tex  \n",
       "13      p68e28           5           1       1     False    False  \n",
       "14      p68e28           5           1       1     False    False  \n",
       "15      p68e28           5           1       1     False    False  \n",
       "16      p68e28           5           1       1     False    False  "
      ]
     },
     "metadata": {},
     "output_type": "display_data"
    },
    {
     "data": {
      "text/markdown": [
       "**Ejercicio: **p68e35"
      ],
      "text/plain": [
       "<IPython.core.display.Markdown object>"
      ]
     },
     "metadata": {},
     "output_type": "display_data"
    },
    {
     "data": {
      "text/html": [
       "<div>\n",
       "<style scoped>\n",
       "    .dataframe tbody tr th:only-of-type {\n",
       "        vertical-align: middle;\n",
       "    }\n",
       "\n",
       "    .dataframe tbody tr th {\n",
       "        vertical-align: top;\n",
       "    }\n",
       "\n",
       "    .dataframe thead th {\n",
       "        text-align: right;\n",
       "    }\n",
       "</style>\n",
       "<table border=\"1\" class=\"dataframe\">\n",
       "  <thead>\n",
       "    <tr style=\"text-align: right;\">\n",
       "      <th></th>\n",
       "      <th>enunciado_latex</th>\n",
       "      <th>enunciado</th>\n",
       "      <th>solucion</th>\n",
       "      <th>texto</th>\n",
       "      <th>curso</th>\n",
       "      <th>titulo</th>\n",
       "      <th>n_ejercicio</th>\n",
       "      <th>dificultad</th>\n",
       "      <th>n_columnas</th>\n",
       "      <th>puntos</th>\n",
       "      <th>enun_tex</th>\n",
       "      <th>sol_tex</th>\n",
       "    </tr>\n",
       "  </thead>\n",
       "  <tbody>\n",
       "    <tr>\n",
       "      <th>17</th>\n",
       "      <td>$y=\\left|{x + 1}\\right|$</td>\n",
       "      <td>Abs(x + 1)</td>\n",
       "      <td>\\\\ \\resizebox{0.4\\textwidth}{!}{\\includegraphi...</td>\n",
       "      <td>Representa gráficamente las siguientes funciones:</td>\n",
       "      <td>1BC</td>\n",
       "      <td>31 - Funciones</td>\n",
       "      <td>p68e35</td>\n",
       "      <td>5</td>\n",
       "      <td>1</td>\n",
       "      <td>1</td>\n",
       "      <td>False</td>\n",
       "      <td>False</td>\n",
       "    </tr>\n",
       "  </tbody>\n",
       "</table>\n",
       "</div>"
      ],
      "text/plain": [
       "             enunciado_latex   enunciado  \\\n",
       "17  $y=\\left|{x + 1}\\right|$  Abs(x + 1)   \n",
       "\n",
       "                                             solucion  \\\n",
       "17  \\\\ \\resizebox{0.4\\textwidth}{!}{\\includegraphi...   \n",
       "\n",
       "                                                texto curso          titulo  \\\n",
       "17  Representa gráficamente las siguientes funciones:   1BC  31 - Funciones   \n",
       "\n",
       "   n_ejercicio  dificultad  n_columnas  puntos  enun_tex  sol_tex  \n",
       "17      p68e35           5           1       1     False    False  "
      ]
     },
     "metadata": {},
     "output_type": "display_data"
    }
   ],
   "source": [
    "escribir_preambulo(fichero, titulo, 'ejercicios')\n",
    "for s in df_ejercicios.groupby('n_ejercicio').count().index : \n",
    "    display(md(\"**Ejercicio: **\" + s ))\n",
    "    display(df_ejercicios[df_ejercicios.n_ejercicio == s])\n",
    "    escribir_ejercicios(df_ejercicios[df_ejercicios.n_ejercicio == s],fichero)\n",
    "\n",
    "escribir_fin(fichero)"
   ]
  },
  {
   "cell_type": "code",
   "execution_count": 20,
   "metadata": {},
   "outputs": [
    {
     "data": {
      "text/markdown": [
       "**Ejercicio: **p65e06-0"
      ],
      "text/plain": [
       "<IPython.core.display.Markdown object>"
      ]
     },
     "metadata": {},
     "output_type": "display_data"
    },
    {
     "data": {
      "text/html": [
       "<div>\n",
       "<style scoped>\n",
       "    .dataframe tbody tr th:only-of-type {\n",
       "        vertical-align: middle;\n",
       "    }\n",
       "\n",
       "    .dataframe tbody tr th {\n",
       "        vertical-align: top;\n",
       "    }\n",
       "\n",
       "    .dataframe thead th {\n",
       "        text-align: right;\n",
       "    }\n",
       "</style>\n",
       "<table border=\"1\" class=\"dataframe\">\n",
       "  <thead>\n",
       "    <tr style=\"text-align: right;\">\n",
       "      <th></th>\n",
       "      <th>enunciado_latex</th>\n",
       "      <th>enunciado</th>\n",
       "      <th>solucion</th>\n",
       "      <th>texto</th>\n",
       "      <th>curso</th>\n",
       "      <th>titulo</th>\n",
       "      <th>n_ejercicio</th>\n",
       "      <th>dificultad</th>\n",
       "      <th>n_columnas</th>\n",
       "      <th>puntos</th>\n",
       "      <th>enun_tex</th>\n",
       "      <th>sol_tex</th>\n",
       "    </tr>\n",
       "  </thead>\n",
       "  <tbody>\n",
       "    <tr>\n",
       "      <th>0</th>\n",
       "      <td>$f(x)=0x-3$</td>\n",
       "      <td>0*x - 3</td>\n",
       "      <td>$Dom\\left(f \\right)=\\mathbb{R}$</td>\n",
       "      <td>Halla el dominio de las siguientes funciones: ...</td>\n",
       "      <td>1BC</td>\n",
       "      <td>31 - Funciones</td>\n",
       "      <td>p65e06-0</td>\n",
       "      <td>5</td>\n",
       "      <td>1</td>\n",
       "      <td>1</td>\n",
       "      <td>False</td>\n",
       "      <td>False</td>\n",
       "    </tr>\n",
       "    <tr>\n",
       "      <th>1</th>\n",
       "      <td>$f(x)=x^3-5x^2+2$</td>\n",
       "      <td>x**3 - 5*x**2 + 2</td>\n",
       "      <td>$Dom\\left(f \\right)=\\mathbb{R}$</td>\n",
       "      <td>Halla el dominio de las siguientes funciones: ...</td>\n",
       "      <td>1BC</td>\n",
       "      <td>31 - Funciones</td>\n",
       "      <td>p65e06-0</td>\n",
       "      <td>5</td>\n",
       "      <td>1</td>\n",
       "      <td>1</td>\n",
       "      <td>False</td>\n",
       "      <td>False</td>\n",
       "    </tr>\n",
       "    <tr>\n",
       "      <th>2</th>\n",
       "      <td>$f(x)=\\frac{{x - 1}}{{x + 5}}$</td>\n",
       "      <td>(x - 1)/(x + 5)</td>\n",
       "      <td>$Dom\\left(f \\right)=\\left(-\\infty, -5\\right) \\...</td>\n",
       "      <td>Halla el dominio de las siguientes funciones: ...</td>\n",
       "      <td>1BC</td>\n",
       "      <td>31 - Funciones</td>\n",
       "      <td>p65e06-0</td>\n",
       "      <td>5</td>\n",
       "      <td>1</td>\n",
       "      <td>1</td>\n",
       "      <td>False</td>\n",
       "      <td>False</td>\n",
       "    </tr>\n",
       "    <tr>\n",
       "      <th>3</th>\n",
       "      <td>$f(x)=7x-1$</td>\n",
       "      <td>7*x - 1</td>\n",
       "      <td>$Dom\\left(f \\right)=\\mathbb{R}$</td>\n",
       "      <td>Halla el dominio de las siguientes funciones: ...</td>\n",
       "      <td>1BC</td>\n",
       "      <td>31 - Funciones</td>\n",
       "      <td>p65e06-0</td>\n",
       "      <td>5</td>\n",
       "      <td>1</td>\n",
       "      <td>1</td>\n",
       "      <td>False</td>\n",
       "      <td>False</td>\n",
       "    </tr>\n",
       "    <tr>\n",
       "      <th>4</th>\n",
       "      <td>$f(x)=\\frac{2}{x}$</td>\n",
       "      <td>2/x</td>\n",
       "      <td>$Dom\\left(f \\right)=\\left(-\\infty, 0\\right) \\c...</td>\n",
       "      <td>Halla el dominio de las siguientes funciones: ...</td>\n",
       "      <td>1BC</td>\n",
       "      <td>31 - Funciones</td>\n",
       "      <td>p65e06-0</td>\n",
       "      <td>5</td>\n",
       "      <td>1</td>\n",
       "      <td>1</td>\n",
       "      <td>False</td>\n",
       "      <td>False</td>\n",
       "    </tr>\n",
       "    <tr>\n",
       "      <th>5</th>\n",
       "      <td>$f(x)=\\sqrt[3]{\\frac{x + 1}{x - 2}}$</td>\n",
       "      <td>((x + 1)/(x - 2))**(1/3)</td>\n",
       "      <td>$Dom\\left(f \\right)=\\left(-\\infty, 2\\right) \\c...</td>\n",
       "      <td>Halla el dominio de las siguientes funciones: ...</td>\n",
       "      <td>1BC</td>\n",
       "      <td>31 - Funciones</td>\n",
       "      <td>p65e06-0</td>\n",
       "      <td>5</td>\n",
       "      <td>1</td>\n",
       "      <td>1</td>\n",
       "      <td>False</td>\n",
       "      <td>False</td>\n",
       "    </tr>\n",
       "    <tr>\n",
       "      <th>6</th>\n",
       "      <td>$f(x)=\\sqrt {{x^2} - 9}$</td>\n",
       "      <td>sqrt(x**2 - 9)</td>\n",
       "      <td>$Dom\\left(f \\right)=\\left(-\\infty, -3\\right] \\...</td>\n",
       "      <td>Halla el dominio de las siguientes funciones: ...</td>\n",
       "      <td>1BC</td>\n",
       "      <td>31 - Funciones</td>\n",
       "      <td>p65e06-0</td>\n",
       "      <td>5</td>\n",
       "      <td>1</td>\n",
       "      <td>1</td>\n",
       "      <td>False</td>\n",
       "      <td>False</td>\n",
       "    </tr>\n",
       "    <tr>\n",
       "      <th>7</th>\n",
       "      <td>$f(x)=\\sqrt {x+3}$</td>\n",
       "      <td>sqrt(x + 3)</td>\n",
       "      <td>$Dom\\left(f \\right)=\\left[-3, \\infty\\right)$</td>\n",
       "      <td>Halla el dominio de las siguientes funciones: ...</td>\n",
       "      <td>1BC</td>\n",
       "      <td>31 - Funciones</td>\n",
       "      <td>p65e06-0</td>\n",
       "      <td>5</td>\n",
       "      <td>1</td>\n",
       "      <td>1</td>\n",
       "      <td>False</td>\n",
       "      <td>False</td>\n",
       "    </tr>\n",
       "  </tbody>\n",
       "</table>\n",
       "</div>"
      ],
      "text/plain": [
       "                        enunciado_latex                 enunciado  \\\n",
       "0                           $f(x)=0x-3$                   0*x - 3   \n",
       "1                     $f(x)=x^3-5x^2+2$         x**3 - 5*x**2 + 2   \n",
       "2        $f(x)=\\frac{{x - 1}}{{x + 5}}$           (x - 1)/(x + 5)   \n",
       "3                           $f(x)=7x-1$                   7*x - 1   \n",
       "4                    $f(x)=\\frac{2}{x}$                       2/x   \n",
       "5  $f(x)=\\sqrt[3]{\\frac{x + 1}{x - 2}}$  ((x + 1)/(x - 2))**(1/3)   \n",
       "6              $f(x)=\\sqrt {{x^2} - 9}$            sqrt(x**2 - 9)   \n",
       "7                    $f(x)=\\sqrt {x+3}$               sqrt(x + 3)   \n",
       "\n",
       "                                            solucion  \\\n",
       "0                    $Dom\\left(f \\right)=\\mathbb{R}$   \n",
       "1                    $Dom\\left(f \\right)=\\mathbb{R}$   \n",
       "2  $Dom\\left(f \\right)=\\left(-\\infty, -5\\right) \\...   \n",
       "3                    $Dom\\left(f \\right)=\\mathbb{R}$   \n",
       "4  $Dom\\left(f \\right)=\\left(-\\infty, 0\\right) \\c...   \n",
       "5  $Dom\\left(f \\right)=\\left(-\\infty, 2\\right) \\c...   \n",
       "6  $Dom\\left(f \\right)=\\left(-\\infty, -3\\right] \\...   \n",
       "7       $Dom\\left(f \\right)=\\left[-3, \\infty\\right)$   \n",
       "\n",
       "                                               texto curso          titulo  \\\n",
       "0  Halla el dominio de las siguientes funciones: ...   1BC  31 - Funciones   \n",
       "1  Halla el dominio de las siguientes funciones: ...   1BC  31 - Funciones   \n",
       "2  Halla el dominio de las siguientes funciones: ...   1BC  31 - Funciones   \n",
       "3  Halla el dominio de las siguientes funciones: ...   1BC  31 - Funciones   \n",
       "4  Halla el dominio de las siguientes funciones: ...   1BC  31 - Funciones   \n",
       "5  Halla el dominio de las siguientes funciones: ...   1BC  31 - Funciones   \n",
       "6  Halla el dominio de las siguientes funciones: ...   1BC  31 - Funciones   \n",
       "7  Halla el dominio de las siguientes funciones: ...   1BC  31 - Funciones   \n",
       "\n",
       "  n_ejercicio  dificultad  n_columnas  puntos  enun_tex  sol_tex  \n",
       "0    p65e06-0           5           1       1     False    False  \n",
       "1    p65e06-0           5           1       1     False    False  \n",
       "2    p65e06-0           5           1       1     False    False  \n",
       "3    p65e06-0           5           1       1     False    False  \n",
       "4    p65e06-0           5           1       1     False    False  \n",
       "5    p65e06-0           5           1       1     False    False  \n",
       "6    p65e06-0           5           1       1     False    False  \n",
       "7    p65e06-0           5           1       1     False    False  "
      ]
     },
     "metadata": {},
     "output_type": "display_data"
    },
    {
     "data": {
      "text/markdown": [
       "**Ejercicio: **p65e17-0"
      ],
      "text/plain": [
       "<IPython.core.display.Markdown object>"
      ]
     },
     "metadata": {},
     "output_type": "display_data"
    },
    {
     "data": {
      "text/html": [
       "<div>\n",
       "<style scoped>\n",
       "    .dataframe tbody tr th:only-of-type {\n",
       "        vertical-align: middle;\n",
       "    }\n",
       "\n",
       "    .dataframe tbody tr th {\n",
       "        vertical-align: top;\n",
       "    }\n",
       "\n",
       "    .dataframe thead th {\n",
       "        text-align: right;\n",
       "    }\n",
       "</style>\n",
       "<table border=\"1\" class=\"dataframe\">\n",
       "  <thead>\n",
       "    <tr style=\"text-align: right;\">\n",
       "      <th></th>\n",
       "      <th>enunciado_latex</th>\n",
       "      <th>enunciado</th>\n",
       "      <th>solucion</th>\n",
       "      <th>texto</th>\n",
       "      <th>curso</th>\n",
       "      <th>titulo</th>\n",
       "      <th>n_ejercicio</th>\n",
       "      <th>dificultad</th>\n",
       "      <th>n_columnas</th>\n",
       "      <th>puntos</th>\n",
       "      <th>enun_tex</th>\n",
       "      <th>sol_tex</th>\n",
       "    </tr>\n",
       "  </thead>\n",
       "  <tbody>\n",
       "    <tr>\n",
       "      <th>8</th>\n",
       "      <td>$g \\circ f$</td>\n",
       "      <td>g(f(x))</td>\n",
       "      <td>$g{\\left (f{\\left (x \\right )} \\right )}=\\frac...</td>\n",
       "      <td>Dadas las funciones $f(x)= x^2+5$, $g(x)= \\fra...</td>\n",
       "      <td>1BC</td>\n",
       "      <td>31 - Funciones</td>\n",
       "      <td>p65e17-0</td>\n",
       "      <td>5</td>\n",
       "      <td>1</td>\n",
       "      <td>1</td>\n",
       "      <td>False</td>\n",
       "      <td>False</td>\n",
       "    </tr>\n",
       "    <tr>\n",
       "      <th>9</th>\n",
       "      <td>$f \\circ g$</td>\n",
       "      <td>f(g(x))</td>\n",
       "      <td>$f{\\left (g{\\left (x \\right )} \\right )}=\\frac...</td>\n",
       "      <td>Dadas las funciones $f(x)= x^2+5$, $g(x)= \\fra...</td>\n",
       "      <td>1BC</td>\n",
       "      <td>31 - Funciones</td>\n",
       "      <td>p65e17-0</td>\n",
       "      <td>5</td>\n",
       "      <td>1</td>\n",
       "      <td>1</td>\n",
       "      <td>False</td>\n",
       "      <td>False</td>\n",
       "    </tr>\n",
       "    <tr>\n",
       "      <th>10</th>\n",
       "      <td>$h \\circ g \\circ f$</td>\n",
       "      <td>h(g(f(x)))</td>\n",
       "      <td>$h{\\left (g{\\left (f{\\left (x \\right )} \\right...</td>\n",
       "      <td>Dadas las funciones $f(x)= x^2+5$, $g(x)= \\fra...</td>\n",
       "      <td>1BC</td>\n",
       "      <td>31 - Funciones</td>\n",
       "      <td>p65e17-0</td>\n",
       "      <td>5</td>\n",
       "      <td>1</td>\n",
       "      <td>1</td>\n",
       "      <td>False</td>\n",
       "      <td>False</td>\n",
       "    </tr>\n",
       "  </tbody>\n",
       "</table>\n",
       "</div>"
      ],
      "text/plain": [
       "        enunciado_latex   enunciado  \\\n",
       "8           $g \\circ f$     g(f(x))   \n",
       "9           $f \\circ g$     f(g(x))   \n",
       "10  $h \\circ g \\circ f$  h(g(f(x)))   \n",
       "\n",
       "                                             solucion  \\\n",
       "8   $g{\\left (f{\\left (x \\right )} \\right )}=\\frac...   \n",
       "9   $f{\\left (g{\\left (x \\right )} \\right )}=\\frac...   \n",
       "10  $h{\\left (g{\\left (f{\\left (x \\right )} \\right...   \n",
       "\n",
       "                                                texto curso          titulo  \\\n",
       "8   Dadas las funciones $f(x)= x^2+5$, $g(x)= \\fra...   1BC  31 - Funciones   \n",
       "9   Dadas las funciones $f(x)= x^2+5$, $g(x)= \\fra...   1BC  31 - Funciones   \n",
       "10  Dadas las funciones $f(x)= x^2+5$, $g(x)= \\fra...   1BC  31 - Funciones   \n",
       "\n",
       "   n_ejercicio  dificultad  n_columnas  puntos  enun_tex  sol_tex  \n",
       "8     p65e17-0           5           1       1     False    False  \n",
       "9     p65e17-0           5           1       1     False    False  \n",
       "10    p65e17-0           5           1       1     False    False  "
      ]
     },
     "metadata": {},
     "output_type": "display_data"
    },
    {
     "data": {
      "text/markdown": [
       "**Ejercicio: **p66e23y24"
      ],
      "text/plain": [
       "<IPython.core.display.Markdown object>"
      ]
     },
     "metadata": {},
     "output_type": "display_data"
    },
    {
     "data": {
      "text/html": [
       "<div>\n",
       "<style scoped>\n",
       "    .dataframe tbody tr th:only-of-type {\n",
       "        vertical-align: middle;\n",
       "    }\n",
       "\n",
       "    .dataframe tbody tr th {\n",
       "        vertical-align: top;\n",
       "    }\n",
       "\n",
       "    .dataframe thead th {\n",
       "        text-align: right;\n",
       "    }\n",
       "</style>\n",
       "<table border=\"1\" class=\"dataframe\">\n",
       "  <thead>\n",
       "    <tr style=\"text-align: right;\">\n",
       "      <th></th>\n",
       "      <th>enunciado_latex</th>\n",
       "      <th>enunciado</th>\n",
       "      <th>solucion</th>\n",
       "      <th>texto</th>\n",
       "      <th>curso</th>\n",
       "      <th>titulo</th>\n",
       "      <th>n_ejercicio</th>\n",
       "      <th>dificultad</th>\n",
       "      <th>n_columnas</th>\n",
       "      <th>puntos</th>\n",
       "      <th>enun_tex</th>\n",
       "      <th>sol_tex</th>\n",
       "    </tr>\n",
       "  </thead>\n",
       "  <tbody>\n",
       "    <tr>\n",
       "      <th>11</th>\n",
       "      <td>$f(x)=3 x - 2$</td>\n",
       "      <td>3x-2</td>\n",
       "      <td>$f^{-1}(x)=\\frac{x}{3} + \\frac{2}{3}$ \\\\ $f^{-...</td>\n",
       "      <td>Halla la función inversa de $f(x)$, y comprueb...</td>\n",
       "      <td>1BC</td>\n",
       "      <td>31 - Funciones</td>\n",
       "      <td>p66e23y24</td>\n",
       "      <td>5</td>\n",
       "      <td>1</td>\n",
       "      <td>1</td>\n",
       "      <td>False</td>\n",
       "      <td>False</td>\n",
       "    </tr>\n",
       "    <tr>\n",
       "      <th>12</th>\n",
       "      <td>$f(x)=\\frac{x + 2}{- x + 1}$</td>\n",
       "      <td>\\frac{{2 + x}}{{1 - x}}</td>\n",
       "      <td>$f^{-1}(x)=\\frac{x - 2}{x + 1}$ \\\\ $f^{-1} \\ci...</td>\n",
       "      <td>Halla la función inversa de $f(x)$, y comprueb...</td>\n",
       "      <td>1BC</td>\n",
       "      <td>31 - Funciones</td>\n",
       "      <td>p66e23y24</td>\n",
       "      <td>5</td>\n",
       "      <td>1</td>\n",
       "      <td>1</td>\n",
       "      <td>False</td>\n",
       "      <td>False</td>\n",
       "    </tr>\n",
       "  </tbody>\n",
       "</table>\n",
       "</div>"
      ],
      "text/plain": [
       "                 enunciado_latex                enunciado  \\\n",
       "11                $f(x)=3 x - 2$                     3x-2   \n",
       "12  $f(x)=\\frac{x + 2}{- x + 1}$  \\frac{{2 + x}}{{1 - x}}   \n",
       "\n",
       "                                             solucion  \\\n",
       "11  $f^{-1}(x)=\\frac{x}{3} + \\frac{2}{3}$ \\\\ $f^{-...   \n",
       "12  $f^{-1}(x)=\\frac{x - 2}{x + 1}$ \\\\ $f^{-1} \\ci...   \n",
       "\n",
       "                                                texto curso          titulo  \\\n",
       "11  Halla la función inversa de $f(x)$, y comprueb...   1BC  31 - Funciones   \n",
       "12  Halla la función inversa de $f(x)$, y comprueb...   1BC  31 - Funciones   \n",
       "\n",
       "   n_ejercicio  dificultad  n_columnas  puntos  enun_tex  sol_tex  \n",
       "11   p66e23y24           5           1       1     False    False  \n",
       "12   p66e23y24           5           1       1     False    False  "
      ]
     },
     "metadata": {},
     "output_type": "display_data"
    },
    {
     "data": {
      "text/markdown": [
       "**Ejercicio: **p68e28"
      ],
      "text/plain": [
       "<IPython.core.display.Markdown object>"
      ]
     },
     "metadata": {},
     "output_type": "display_data"
    },
    {
     "data": {
      "text/html": [
       "<div>\n",
       "<style scoped>\n",
       "    .dataframe tbody tr th:only-of-type {\n",
       "        vertical-align: middle;\n",
       "    }\n",
       "\n",
       "    .dataframe tbody tr th {\n",
       "        vertical-align: top;\n",
       "    }\n",
       "\n",
       "    .dataframe thead th {\n",
       "        text-align: right;\n",
       "    }\n",
       "</style>\n",
       "<table border=\"1\" class=\"dataframe\">\n",
       "  <thead>\n",
       "    <tr style=\"text-align: right;\">\n",
       "      <th></th>\n",
       "      <th>enunciado_latex</th>\n",
       "      <th>enunciado</th>\n",
       "      <th>solucion</th>\n",
       "      <th>texto</th>\n",
       "      <th>curso</th>\n",
       "      <th>titulo</th>\n",
       "      <th>n_ejercicio</th>\n",
       "      <th>dificultad</th>\n",
       "      <th>n_columnas</th>\n",
       "      <th>puntos</th>\n",
       "      <th>enun_tex</th>\n",
       "      <th>sol_tex</th>\n",
       "    </tr>\n",
       "  </thead>\n",
       "  <tbody>\n",
       "    <tr>\n",
       "      <th>13</th>\n",
       "      <td>$y=-5x$</td>\n",
       "      <td>-5x</td>\n",
       "      <td>\\\\ \\resizebox{0.4\\textwidth}{!}{\\includegraphi...</td>\n",
       "      <td>Representa gráficamente las siguientes funciones:</td>\n",
       "      <td>1BC</td>\n",
       "      <td>31 - Funciones</td>\n",
       "      <td>p68e28</td>\n",
       "      <td>5</td>\n",
       "      <td>1</td>\n",
       "      <td>1</td>\n",
       "      <td>False</td>\n",
       "      <td>False</td>\n",
       "    </tr>\n",
       "    <tr>\n",
       "      <th>14</th>\n",
       "      <td>$y=-5x+3$</td>\n",
       "      <td>-5x+3</td>\n",
       "      <td>\\\\ \\resizebox{0.4\\textwidth}{!}{\\includegraphi...</td>\n",
       "      <td>Representa gráficamente las siguientes funciones:</td>\n",
       "      <td>1BC</td>\n",
       "      <td>31 - Funciones</td>\n",
       "      <td>p68e28</td>\n",
       "      <td>5</td>\n",
       "      <td>1</td>\n",
       "      <td>1</td>\n",
       "      <td>False</td>\n",
       "      <td>False</td>\n",
       "    </tr>\n",
       "    <tr>\n",
       "      <th>15</th>\n",
       "      <td>$y=x^2-2x-3$</td>\n",
       "      <td>x^2-2x-3</td>\n",
       "      <td>\\\\ \\resizebox{0.4\\textwidth}{!}{\\includegraphi...</td>\n",
       "      <td>Representa gráficamente las siguientes funciones:</td>\n",
       "      <td>1BC</td>\n",
       "      <td>31 - Funciones</td>\n",
       "      <td>p68e28</td>\n",
       "      <td>5</td>\n",
       "      <td>1</td>\n",
       "      <td>1</td>\n",
       "      <td>False</td>\n",
       "      <td>False</td>\n",
       "    </tr>\n",
       "    <tr>\n",
       "      <th>16</th>\n",
       "      <td>$y=4x^2-8x-21$</td>\n",
       "      <td>4x^2-8x-21</td>\n",
       "      <td>\\\\ \\resizebox{0.4\\textwidth}{!}{\\includegraphi...</td>\n",
       "      <td>Representa gráficamente las siguientes funciones:</td>\n",
       "      <td>1BC</td>\n",
       "      <td>31 - Funciones</td>\n",
       "      <td>p68e28</td>\n",
       "      <td>5</td>\n",
       "      <td>1</td>\n",
       "      <td>1</td>\n",
       "      <td>False</td>\n",
       "      <td>False</td>\n",
       "    </tr>\n",
       "  </tbody>\n",
       "</table>\n",
       "</div>"
      ],
      "text/plain": [
       "   enunciado_latex   enunciado  \\\n",
       "13         $y=-5x$         -5x   \n",
       "14       $y=-5x+3$       -5x+3   \n",
       "15    $y=x^2-2x-3$    x^2-2x-3   \n",
       "16  $y=4x^2-8x-21$  4x^2-8x-21   \n",
       "\n",
       "                                             solucion  \\\n",
       "13  \\\\ \\resizebox{0.4\\textwidth}{!}{\\includegraphi...   \n",
       "14  \\\\ \\resizebox{0.4\\textwidth}{!}{\\includegraphi...   \n",
       "15  \\\\ \\resizebox{0.4\\textwidth}{!}{\\includegraphi...   \n",
       "16  \\\\ \\resizebox{0.4\\textwidth}{!}{\\includegraphi...   \n",
       "\n",
       "                                                texto curso          titulo  \\\n",
       "13  Representa gráficamente las siguientes funciones:   1BC  31 - Funciones   \n",
       "14  Representa gráficamente las siguientes funciones:   1BC  31 - Funciones   \n",
       "15  Representa gráficamente las siguientes funciones:   1BC  31 - Funciones   \n",
       "16  Representa gráficamente las siguientes funciones:   1BC  31 - Funciones   \n",
       "\n",
       "   n_ejercicio  dificultad  n_columnas  puntos  enun_tex  sol_tex  \n",
       "13      p68e28           5           1       1     False    False  \n",
       "14      p68e28           5           1       1     False    False  \n",
       "15      p68e28           5           1       1     False    False  \n",
       "16      p68e28           5           1       1     False    False  "
      ]
     },
     "metadata": {},
     "output_type": "display_data"
    },
    {
     "data": {
      "text/markdown": [
       "**Ejercicio: **p68e35"
      ],
      "text/plain": [
       "<IPython.core.display.Markdown object>"
      ]
     },
     "metadata": {},
     "output_type": "display_data"
    },
    {
     "data": {
      "text/html": [
       "<div>\n",
       "<style scoped>\n",
       "    .dataframe tbody tr th:only-of-type {\n",
       "        vertical-align: middle;\n",
       "    }\n",
       "\n",
       "    .dataframe tbody tr th {\n",
       "        vertical-align: top;\n",
       "    }\n",
       "\n",
       "    .dataframe thead th {\n",
       "        text-align: right;\n",
       "    }\n",
       "</style>\n",
       "<table border=\"1\" class=\"dataframe\">\n",
       "  <thead>\n",
       "    <tr style=\"text-align: right;\">\n",
       "      <th></th>\n",
       "      <th>enunciado_latex</th>\n",
       "      <th>enunciado</th>\n",
       "      <th>solucion</th>\n",
       "      <th>texto</th>\n",
       "      <th>curso</th>\n",
       "      <th>titulo</th>\n",
       "      <th>n_ejercicio</th>\n",
       "      <th>dificultad</th>\n",
       "      <th>n_columnas</th>\n",
       "      <th>puntos</th>\n",
       "      <th>enun_tex</th>\n",
       "      <th>sol_tex</th>\n",
       "    </tr>\n",
       "  </thead>\n",
       "  <tbody>\n",
       "    <tr>\n",
       "      <th>17</th>\n",
       "      <td>$y=\\left|{x + 1}\\right|$</td>\n",
       "      <td>Abs(x + 1)</td>\n",
       "      <td>\\\\ \\resizebox{0.4\\textwidth}{!}{\\includegraphi...</td>\n",
       "      <td>Representa gráficamente las siguientes funciones:</td>\n",
       "      <td>1BC</td>\n",
       "      <td>31 - Funciones</td>\n",
       "      <td>p68e35</td>\n",
       "      <td>5</td>\n",
       "      <td>1</td>\n",
       "      <td>1</td>\n",
       "      <td>False</td>\n",
       "      <td>False</td>\n",
       "    </tr>\n",
       "  </tbody>\n",
       "</table>\n",
       "</div>"
      ],
      "text/plain": [
       "             enunciado_latex   enunciado  \\\n",
       "17  $y=\\left|{x + 1}\\right|$  Abs(x + 1)   \n",
       "\n",
       "                                             solucion  \\\n",
       "17  \\\\ \\resizebox{0.4\\textwidth}{!}{\\includegraphi...   \n",
       "\n",
       "                                                texto curso          titulo  \\\n",
       "17  Representa gráficamente las siguientes funciones:   1BC  31 - Funciones   \n",
       "\n",
       "   n_ejercicio  dificultad  n_columnas  puntos  enun_tex  sol_tex  \n",
       "17      p68e35           5           1       1     False    False  "
      ]
     },
     "metadata": {},
     "output_type": "display_data"
    }
   ],
   "source": [
    "escribir_preambulo(fichero, titulo, 'ejercicios')\n",
    "for s in df_ejercicios.groupby('n_ejercicio').count().index : \n",
    "    display(md(\"**Ejercicio: **\" + s ))\n",
    "    display(df_ejercicios[df_ejercicios.n_ejercicio == s])\n",
    "    escribir_ejercicios(df_ejercicios[df_ejercicios.n_ejercicio == s],fichero)\n",
    "\n",
    "escribir_fin(fichero)"
   ]
  }
 ],
 "metadata": {
  "kernelspec": {
   "display_name": "Python 3",
   "language": "python",
   "name": "python3"
  },
  "language_info": {
   "codemirror_mode": {
    "name": "ipython",
    "version": 3
   },
   "file_extension": ".py",
   "mimetype": "text/x-python",
   "name": "python",
   "nbconvert_exporter": "python",
   "pygments_lexer": "ipython3",
   "version": "3.6.8"
  }
 },
 "nbformat": 4,
 "nbformat_minor": 2
}
