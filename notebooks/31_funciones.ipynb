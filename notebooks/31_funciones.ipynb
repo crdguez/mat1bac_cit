{
 "cells": [
  {
   "cell_type": "code",
   "execution_count": 1,
   "metadata": {},
   "outputs": [
    {
     "name": "stdout",
     "output_type": "stream",
     "text": [
      "IPython console for SymPy 1.2 (Python 3.6.8-64-bit) (ground types: gmpy)\n",
      "\n",
      "These commands were executed:\n",
      ">>> from __future__ import division\n",
      ">>> from sympy import *\n",
      ">>> x, y, z, t = symbols('x y z t')\n",
      ">>> k, m, n = symbols('k m n', integer=True)\n",
      ">>> f, g, h = symbols('f g h', cls=Function)\n",
      ">>> init_printing()\n",
      "\n",
      "Documentation can be found at http://docs.sympy.org/1.2/\n",
      "\n"
     ]
    }
   ],
   "source": [
    "from sympy import init_session\n",
    "from sympy import div, QQ\n",
    "from sympy.parsing.latex import parse_latex\n",
    "from sympy.parsing.sympy_parser import parse_expr\n",
    "from IPython.display import Markdown as md\n",
    "from IPython.display import display\n",
    "import pandas as pd\n",
    "\n",
    "import numpy as np\n",
    "\n",
    "\n",
    "init_session()\n",
    "\n",
    "a, b, c, d = symbols('a b c d', real = True)\n",
    "from docparts import añadir_ejercicios, doc_ejer, escribir_preambulo, escribir_ejercicios, escribir_fin\n",
    "\n",
    "df_ejercicios = pd.DataFrame()\n",
    "\n",
    "fichero = 'func'\n",
    "titulo = '31 - Funciones'\n",
    "curso = '1BC'\n",
    "\n",
    "\n",
    "x,y = symbols('x, y', real=True)\n",
    "\n",
    "\n",
    "%matplotlib inline\n"
   ]
  },
  {
   "cell_type": "code",
   "execution_count": 2,
   "metadata": {},
   "outputs": [
    {
     "data": {
      "text/markdown": [
       "**Halla el dominio de las siguientes funciones: \n",
       "    **"
      ],
      "text/plain": [
       "<IPython.core.display.Markdown object>"
      ]
     },
     "metadata": {},
     "output_type": "display_data"
    },
    {
     "data": {
      "text/markdown": [
       "$f(x)=0x-3$ $ \\rightarrow $$Dom\\left(f \\right)=\\mathbb{R}$"
      ],
      "text/plain": [
       "<IPython.core.display.Markdown object>"
      ]
     },
     "metadata": {},
     "output_type": "display_data"
    },
    {
     "data": {
      "text/markdown": [
       "$f(x)=x^3-5x^2+2$ $ \\rightarrow $$Dom\\left(f \\right)=\\mathbb{R}$"
      ],
      "text/plain": [
       "<IPython.core.display.Markdown object>"
      ]
     },
     "metadata": {},
     "output_type": "display_data"
    },
    {
     "data": {
      "text/markdown": [
       "$f(x)=\\frac{{x - 1}}{{x + 5}}$ $ \\rightarrow $$Dom\\left(f \\right)=\\left(-\\infty, -5\\right) \\cup \\left(-5, \\infty\\right)$"
      ],
      "text/plain": [
       "<IPython.core.display.Markdown object>"
      ]
     },
     "metadata": {},
     "output_type": "display_data"
    },
    {
     "data": {
      "text/markdown": [
       "$f(x)=7x-1$ $ \\rightarrow $$Dom\\left(f \\right)=\\mathbb{R}$"
      ],
      "text/plain": [
       "<IPython.core.display.Markdown object>"
      ]
     },
     "metadata": {},
     "output_type": "display_data"
    },
    {
     "data": {
      "text/markdown": [
       "$f(x)=\\frac{2}{x}$ $ \\rightarrow $$Dom\\left(f \\right)=\\left(-\\infty, 0\\right) \\cup \\left(0, \\infty\\right)$"
      ],
      "text/plain": [
       "<IPython.core.display.Markdown object>"
      ]
     },
     "metadata": {},
     "output_type": "display_data"
    },
    {
     "data": {
      "text/markdown": [
       "$f(x)=\\sqrt[3]{\\frac{x + 1}{x - 2}}$ $ \\rightarrow $$Dom\\left(f \\right)=\\left(-\\infty, 2\\right) \\cup \\left(2, \\infty\\right)$"
      ],
      "text/plain": [
       "<IPython.core.display.Markdown object>"
      ]
     },
     "metadata": {},
     "output_type": "display_data"
    },
    {
     "data": {
      "text/markdown": [
       "$f(x)=\\sqrt {{x^2} - 9}$ $ \\rightarrow $$Dom\\left(f \\right)=\\left(-\\infty, -3\\right] \\cup \\left[3, \\infty\\right)$"
      ],
      "text/plain": [
       "<IPython.core.display.Markdown object>"
      ]
     },
     "metadata": {},
     "output_type": "display_data"
    },
    {
     "data": {
      "text/markdown": [
       "$f(x)=\\sqrt {x+3}$ $ \\rightarrow $$Dom\\left(f \\right)=\\left[-3, \\infty\\right)$"
      ],
      "text/plain": [
       "<IPython.core.display.Markdown object>"
      ]
     },
     "metadata": {},
     "output_type": "display_data"
    }
   ],
   "source": [
    "puntuacion = '1'                          \n",
    "                      \n",
    "datos = [[r'0x-3',r'x^3-5x^2+2',r'\\frac{{x - 1}}{{x + 5}}', r'7x-1', r'\\frac{2}{x}'],]\n",
    "\n",
    "# vectores iniciales correspondientes al texto del enunciado\n",
    "\n",
    "for i, s in enumerate(datos) : \n",
    "    n_ejercicio = 'p65e6-'+str(i)\n",
    "    enunciado_latex, enunciado, solucion = [],[],[]\n",
    "    \n",
    "    texto_ejercicio = r\"\"\"Halla el dominio de las siguientes funciones: \n",
    "    \"\"\"\n",
    "    \n",
    "    display(md(\"**\"+texto_ejercicio+\"**\"))\n",
    "    \n",
    "    for j, t in enumerate(s):\n",
    "        enunciado_latex.append(\"$f(x)=\"+t+\"$\")\n",
    "        enunciado.append(parse_latex(t))\n",
    "        # voy por aquí\n",
    "\n",
    "        sol = r\"$Dom\\left(f \\right)=\"\n",
    "        sol+=latex(S.Reals - singularities(eval(str(parse_latex(t))),x))+r\"$\"\n",
    "        solucion.append(sol)\n",
    "        display(md(enunciado_latex[j] +\" $ \\\\rightarrow $\" + solucion[j] ))\n",
    "        \n",
    "    # Estos los añado yo\n",
    "    \n",
    "    dato = r'\\sqrt[3]{\\frac{x + 1}{x - 2}}'\n",
    "    enunciado_latex.append(\"$f(x)=\"+dato+\"$\")\n",
    "    enunciado.append(parse_latex(dato))\n",
    "    sol = r\"$Dom\\left(f \\right)=\"\n",
    "    sol+=latex(S.Reals - singularities((x+1)/(x-2),x))+r\"$\"\n",
    "    solucion.append(sol)\n",
    "    display(md(r\"$f(x)=\"+dato+\"$\"+\" $ \\\\rightarrow $\" + sol))\n",
    "    \n",
    "    dato = r'\\sqrt {{x^2} - 9}'\n",
    "    enunciado_latex.append(\"$f(x)=\"+dato+\"$\")\n",
    "    enunciado.append(parse_latex(dato))\n",
    "    sol = r\"$Dom\\left(f \\right)=\"\n",
    "    sol+=latex(S.Reals - solve_univariate_inequality(x**2-9<0,x, relational=False))+r\"$\"\n",
    "    solucion.append(sol)\n",
    "    display(md(r\"$f(x)=\"+dato+\"$\"+\" $ \\\\rightarrow $\" + sol))\n",
    "    \n",
    "    dato = r'\\sqrt {x+3}'\n",
    "    enunciado_latex.append(\"$f(x)=\"+dato+\"$\")\n",
    "    enunciado.append(parse_latex(dato))\n",
    "    sol = r\"$Dom\\left(f \\right)=\"\n",
    "    sol+=latex(S.Reals - solve_univariate_inequality(x+3<0,x, relational=False))+r\"$\"\n",
    "    solucion.append(sol)\n",
    "    display(md(r\"$f(x)=\"+dato+\"$\"+\" $ \\\\rightarrow $\" + sol))\n",
    "\n",
    "        \n",
    "    df_ejercicios = df_ejercicios.append(añadir_ejercicios(enunciado_latex, enunciado, solucion, texto_ejercicio, curso, titulo , n_ejercicio, '5', '1', enun_tex=False, sol_tex=False), ignore_index=True)\n",
    "\n",
    "\n"
   ]
  },
  {
   "cell_type": "code",
   "execution_count": 3,
   "metadata": {},
   "outputs": [
    {
     "data": {
      "image/png": "[encoded data removed]",
      "text/latex": [
       "$$\\left ( \\frac{x^{2} + 4}{x^{2} + 8}, \\quad \\frac{\\left(x - 1\\right)^{2}}{\\left(x + 3\\right)^{2}} + 5, \\quad \\frac{\\sqrt{x^{2} + 4}}{\\sqrt{x^{2} + 8}}\\right )$$"
      ],
      "text/plain": [
       "⎛                         ________⎞\n",
       "⎜ 2             2        ╱  2     ⎟\n",
       "⎜x  + 4  (x - 1)       ╲╱  x  + 4 ⎟\n",
       "⎜──────, ──────── + 5, ───────────⎟\n",
       "⎜ 2             2         ________⎟\n",
       "⎜x  + 8  (x + 3)         ╱  2     ⎟\n",
       "⎝                      ╲╱  x  + 8 ⎠"
      ]
     },
     "execution_count": 3,
     "metadata": {},
     "output_type": "execute_result"
    }
   ],
   "source": [
    "f = Lambda(x,x**2+5)\n",
    "g = Lambda(x,(x-1)/(x+3))\n",
    "h = Lambda(x,sqrt(x))\n",
    "g(f(x)), f(g(x)),h(g(f(x))),\n"
   ]
  },
  {
   "cell_type": "code",
   "execution_count": 4,
   "metadata": {},
   "outputs": [
    {
     "data": {
      "text/markdown": [
       "**Dadas las funciones $f(x)= x^2+5$, $g(x)= \\frac{{x - 1}}{{x + 3}}$ y $h(x)= \\sqrt x$. Calcula: \n",
       "    **"
      ],
      "text/plain": [
       "<IPython.core.display.Markdown object>"
      ]
     },
     "metadata": {},
     "output_type": "display_data"
    },
    {
     "data": {
      "text/markdown": [
       "$g \\circ f$ $ \\rightarrow $$g{\\left (f{\\left (x \\right )} \\right )}=\\frac{x^{2} + 4}{x^{2} + 8}$"
      ],
      "text/plain": [
       "<IPython.core.display.Markdown object>"
      ]
     },
     "metadata": {},
     "output_type": "display_data"
    },
    {
     "data": {
      "text/markdown": [
       "$f \\circ g$ $ \\rightarrow $$f{\\left (g{\\left (x \\right )} \\right )}=\\frac{\\left(x - 1\\right)^{2}}{\\left(x + 3\\right)^{2}} + 5$"
      ],
      "text/plain": [
       "<IPython.core.display.Markdown object>"
      ]
     },
     "metadata": {},
     "output_type": "display_data"
    },
    {
     "data": {
      "text/markdown": [
       "$h \\circ g \\circ f$ $ \\rightarrow $$h{\\left (g{\\left (f{\\left (x \\right )} \\right )} \\right )}=\\frac{\\sqrt{x^{2} + 4}}{\\sqrt{x^{2} + 8}}$"
      ],
      "text/plain": [
       "<IPython.core.display.Markdown object>"
      ]
     },
     "metadata": {},
     "output_type": "display_data"
    }
   ],
   "source": [
    "puntuacion = '1'                          \n",
    "                      \n",
    "datos = [[r'x^2+5',r'\\frac{{x - 1}}{{x + 3}}',r'\\sqrt x'],]\n",
    "\n",
    "# vectores iniciales correspondientes al texto del enunciado\n",
    "\n",
    "for i, s in enumerate(datos) : \n",
    "    n_ejercicio = 'p65e17-'+str(i)\n",
    "    enunciado_latex, enunciado, solucion = [],[],[]\n",
    "    \n",
    "    texto_ejercicio = r\"\"\"Dadas las funciones $f(x)= {}$, $g(x)= {}$ y $h(x)= {}$. Calcula: \n",
    "    \"\"\".format(datos[i][0],datos[i][1],datos[i][2])\n",
    "    \n",
    "    display(md(\"**\"+texto_ejercicio+\"**\"))\n",
    "    \n",
    "    apartados = [[r'g \\circ f','g(f(x))'],[r'f \\circ g','f(g(x))'],[r'h \\circ g \\circ f','h(g(f(x)))']]\n",
    "    \n",
    "    for j, t in enumerate(apartados):\n",
    "        enunciado_latex.append(\"$\"+t[0]+\"$\")\n",
    "        enunciado.append(t[1])\n",
    "\n",
    "\n",
    "        sol = r\"$\"+latex(S(t[1]))+\"=\"\n",
    "        sol+=latex(eval(t[1]))+r\"$\"\n",
    "        solucion.append(sol)\n",
    "        display(md(enunciado_latex[j] +\" $ \\\\rightarrow $\" + solucion[j] ))\n",
    "        \n",
    "\n",
    "        \n",
    "    df_ejercicios = df_ejercicios.append(añadir_ejercicios(enunciado_latex, enunciado, solucion, texto_ejercicio, curso, titulo , n_ejercicio, '5', '1', enun_tex=False, sol_tex=False), ignore_index=True)\n",
    "\n",
    "\n"
   ]
  },
  {
   "cell_type": "code",
   "execution_count": 5,
   "metadata": {},
   "outputs": [
    {
     "data": {
      "text/markdown": [
       "**Dadas las funciones $f(x)= x^2+5$, $g(x)= \\frac{{x - 1}}{{x + 3}}$ y $h(x)= \\sqrt x$. Calcula: \n",
       "    **"
      ],
      "text/plain": [
       "<IPython.core.display.Markdown object>"
      ]
     },
     "metadata": {},
     "output_type": "display_data"
    }
   ],
   "source": [
    "puntuacion = '1'                          \n",
    "                      \n",
    "datos = [[r'x^2+5',r'\\frac{{x - 1}}{{x + 3}}',r'\\sqrt x'],]\n",
    "\n",
    "# vectores iniciales correspondientes al texto del enunciado\n",
    "\n",
    "for i, s in enumerate(datos) : \n",
    "    n_ejercicio = 'p65e17-'+str(i)\n",
    "    enunciado_latex, enunciado, solucion = [],[],[]\n",
    "    \n",
    "    texto_ejercicio = r\"\"\"Dadas las funciones $f(x)= {}$, $g(x)= {}$ y $h(x)= {}$. Calcula: \n",
    "    \"\"\".format(datos[i][0],datos[i][1],datos[i][2])\n",
    "    \n",
    "    display(md(\"**\"+texto_ejercicio+\"**\"))\n"
   ]
  },
  {
   "cell_type": "code",
   "execution_count": 6,
   "metadata": {},
   "outputs": [
    {
     "data": {
      "image/png": "[encoded data removed]",
      "text/latex": [
       "$$4$$"
      ],
      "text/plain": [
       "4"
      ]
     },
     "execution_count": 6,
     "metadata": {},
     "output_type": "execute_result"
    }
   ],
   "source": [
    "f = lambdify(x, x**2)\n",
    "\n",
    "f(2)"
   ]
  },
  {
   "cell_type": "code",
   "execution_count": 7,
   "metadata": {},
   "outputs": [
    {
     "data": {
      "text/plain": [
       "[array([0, 1, 2, 3, 4, 5, 6, 7, 8, 9]),\n",
       " array([ 0,  1,  4,  9, 16, 25, 36, 49, 64, 81])]"
      ]
     },
     "execution_count": 7,
     "metadata": {},
     "output_type": "execute_result"
    }
   ],
   "source": [
    "a = np.arange(10)\n",
    "[a,f(a)]"
   ]
  },
  {
   "cell_type": "code",
   "execution_count": 8,
   "metadata": {},
   "outputs": [
    {
     "data": {
      "image/png": "[encoded data removed]",
      "text/plain": [
       "<Figure size 432x288 with 1 Axes>"
      ]
     },
     "metadata": {},
     "output_type": "display_data"
    },
    {
     "data": {
      "image/png": "[encoded data removed]",
      "text/latex": [
       "$$-2$$"
      ],
      "text/plain": [
       "-2"
      ]
     },
     "execution_count": 8,
     "metadata": {},
     "output_type": "execute_result"
    }
   ],
   "source": [
    "f = lambdify(x, x**2-2*x-2)\n",
    "\n",
    "\n",
    "f(np.array([0,-3]))\n",
    "\n",
    "\n",
    "#f = tan(x)\n",
    "\n",
    "plot(f(x))\n",
    "\n",
    "limit(f(x), x, 2)\n",
    "\n",
    "\n",
    "\n"
   ]
  },
  {
   "cell_type": "code",
   "execution_count": 9,
   "metadata": {},
   "outputs": [
    {
     "data": {
      "image/png": "[encoded data removed]",
      "text/plain": [
       "<Figure size 432x288 with 1 Axes>"
      ]
     },
     "metadata": {},
     "output_type": "display_data"
    },
    {
     "data": {
      "image/png": "[encoded data removed]",
      "text/latex": [
       "$$64$$"
      ],
      "text/plain": [
       "64"
      ]
     },
     "execution_count": 9,
     "metadata": {},
     "output_type": "execute_result"
    }
   ],
   "source": [
    "from sympy import Function\n",
    "f=x**2\n",
    "\n",
    "f.subs(x,2)\n",
    "\n",
    "f = Lambda(x, x**2)\n",
    "\n",
    "g = Lambda(x, x**3)\n",
    "\n",
    "\n",
    "g(f(x))\n",
    "\n",
    "plot(g(f(x)))\n",
    "\n",
    "\n",
    "solve(g(f(x))-64)\n",
    "\n",
    "\n",
    "limit(g(f(x)), x, 2)"
   ]
  },
  {
   "cell_type": "code",
   "execution_count": 10,
   "metadata": {},
   "outputs": [
    {
     "data": {
      "image/png": "[encoded data removed]",
      "text/latex": [
       "$$1$$"
      ],
      "text/plain": [
       "1"
      ]
     },
     "execution_count": 10,
     "metadata": {},
     "output_type": "execute_result"
    }
   ],
   "source": [
    "f = Lambda(x, sin(x)/x)\n",
    "limit(f(x),x,0)"
   ]
  },
  {
   "cell_type": "code",
   "execution_count": 11,
   "metadata": {},
   "outputs": [
    {
     "data": {
      "image/png": "[encoded data removed]",
      "text/latex": [
       "$$\\lim_{x \\to 0^-}\\left(\\frac{\\cos{\\left (x \\right )} - 1}{x}\\right)$$"
      ],
      "text/plain": [
       "     ⎛cos(x) - 1⎞\n",
       " lim ⎜──────────⎟\n",
       "x─→0⁻⎝    x     ⎠"
      ]
     },
     "metadata": {},
     "output_type": "display_data"
    },
    {
     "data": {
      "image/png": "[encoded data removed]",
      "text/latex": [
       "$$0$$"
      ],
      "text/plain": [
       "0"
      ]
     },
     "execution_count": 11,
     "metadata": {},
     "output_type": "execute_result"
    }
   ],
   "source": [
    "expr = Limit((cos(x) - 1)/x, x, 0, dir='-')\n",
    "display(expr)\n",
    "expr.doit()\n",
    "\n"
   ]
  },
  {
   "cell_type": "code",
   "execution_count": 12,
   "metadata": {},
   "outputs": [
    {
     "data": {
      "image/png": "[encoded data removed]",
      "text/latex": [
       "$$\\lim_{x \\to 2}\\left(\\frac{x + 1}{x - 2}\\right)$$"
      ],
      "text/plain": [
       "    ⎛x + 1⎞\n",
       "lim ⎜─────⎟\n",
       "x─→2⎝x - 2⎠"
      ]
     },
     "metadata": {},
     "output_type": "display_data"
    },
    {
     "data": {
      "text/plain": [
       "'Límite por la izquierda / Límite por la derecha / valor de la función en el punto: '"
      ]
     },
     "metadata": {},
     "output_type": "display_data"
    },
    {
     "data": {
      "image/png": "[encoded data removed]",
      "text/latex": [
       "$$\\left [ -\\infty, \\quad \\infty, \\quad \\tilde{\\infty}\\right ]$$"
      ],
      "text/plain": [
       "[-∞, ∞, zoo]"
      ]
     },
     "metadata": {},
     "output_type": "display_data"
    },
    {
     "data": {
      "text/plain": [
       "{'Límite por la izquierda': -oo,\n",
       " 'Límite por la derecha': oo,\n",
       " 'Valor de la función en el punto': zoo}"
      ]
     },
     "metadata": {},
     "output_type": "display_data"
    },
    {
     "data": {
      "image/png": "[encoded data removed]",
      "text/plain": [
       "<Figure size 432x288 with 1 Axes>"
      ]
     },
     "metadata": {},
     "output_type": "display_data"
    },
    {
     "data": {
      "image/png": "[encoded data removed]",
      "text/latex": [
       "$$\\lim_{x \\to 2}\\left(\\frac{x^{2} - 5 x + 6}{x^{2} + 3 x - 10}\\right)$$"
      ],
      "text/plain": [
       "    ⎛  2          ⎞\n",
       "    ⎜ x  - 5⋅x + 6⎟\n",
       "lim ⎜─────────────⎟\n",
       "x─→2⎜ 2           ⎟\n",
       "    ⎝x  + 3⋅x - 10⎠"
      ]
     },
     "metadata": {},
     "output_type": "display_data"
    },
    {
     "data": {
      "text/plain": [
       "'Límite por la izquierda / Límite por la derecha / valor de la función en el punto: '"
      ]
     },
     "metadata": {},
     "output_type": "display_data"
    },
    {
     "data": {
      "image/png": "[encoded data removed]",
      "text/latex": [
       "$$\\left [ - \\frac{1}{7}, \\quad - \\frac{1}{7}, \\quad \\mathrm{NaN}\\right ]$$"
      ],
      "text/plain": [
       "[-1/7, -1/7, nan]"
      ]
     },
     "metadata": {},
     "output_type": "display_data"
    },
    {
     "data": {
      "text/plain": [
       "{'Límite por la izquierda': -1/7,\n",
       " 'Límite por la derecha': -1/7,\n",
       " 'Valor de la función en el punto': nan}"
      ]
     },
     "metadata": {},
     "output_type": "display_data"
    },
    {
     "data": {
      "image/png": "[encoded data removed]",
      "text/plain": [
       "<Figure size 432x288 with 1 Axes>"
      ]
     },
     "metadata": {},
     "output_type": "display_data"
    },
    {
     "data": {
      "image/png": "[encoded data removed]",
      "text/latex": [
       "$$\\lim_{x \\to 0}\\left(\\frac{\\sqrt{- x + 2} - \\sqrt{x + 2}}{x^{2} + x}\\right)$$"
      ],
      "text/plain": [
       "    ⎛  ________     _______⎞\n",
       "    ⎜╲╱ -x + 2  - ╲╱ x + 2 ⎟\n",
       "lim ⎜──────────────────────⎟\n",
       "x─→0⎜         2            ⎟\n",
       "    ⎝        x  + x        ⎠"
      ]
     },
     "metadata": {},
     "output_type": "display_data"
    },
    {
     "data": {
      "text/plain": [
       "'Límite por la izquierda / Límite por la derecha / valor de la función en el punto: '"
      ]
     },
     "metadata": {},
     "output_type": "display_data"
    },
    {
     "data": {
      "image/png": "[encoded data removed]",
      "text/latex": [
       "$$\\left [ - \\frac{\\sqrt{2}}{2}, \\quad - \\frac{\\sqrt{2}}{2}, \\quad \\mathrm{NaN}\\right ]$$"
      ],
      "text/plain": [
       "⎡-√2   -√2      ⎤\n",
       "⎢────, ────, nan⎥\n",
       "⎣ 2     2       ⎦"
      ]
     },
     "metadata": {},
     "output_type": "display_data"
    },
    {
     "data": {
      "text/plain": [
       "{'Límite por la izquierda': -sqrt(2)/2,\n",
       " 'Límite por la derecha': -sqrt(2)/2,\n",
       " 'Valor de la función en el punto': nan}"
      ]
     },
     "metadata": {},
     "output_type": "display_data"
    },
    {
     "data": {
      "image/png": "[encoded data removed]",
      "text/plain": [
       "<Figure size 432x288 with 1 Axes>"
      ]
     },
     "metadata": {},
     "output_type": "display_data"
    },
    {
     "data": {
      "text/plain": [
       "[None, None, None]"
      ]
     },
     "execution_count": 12,
     "metadata": {},
     "output_type": "execute_result"
    }
   ],
   "source": [
    "def lim(expr,x0):\n",
    "    f = Lambda(x,eval(expr))\n",
    "    display(Limit(S(expr),x,x0,dir='+-'))\n",
    "    display(\"Límite por la izquierda / Límite por la derecha / valor de la función en el punto: \")\n",
    "    display([limit(f(x),x,x0, dir='-'),limit(f(x),x,x0), f(x0)])\n",
    "    display({'Límite por la izquierda':limit(f(x),x,x0, dir='-'),'Límite por la derecha':limit(f(x),x,x0),'Valor de la función en el punto': f(x0)})\n",
    "    plot(f(x))\n",
    "    \n",
    "# lim('(x+1)/(x-2)',2), lim('(x**2-5*x+6)/(x**2+3*x-10)',2)\n",
    "\n",
    "datos = [['(x+1)/(x-2)',2],['(x**2-5*x+6)/(x**2+3*x-10)',2], ['(sqrt(2-x)-sqrt(2+x))/(x**2+x)',0]]\n",
    "[lim(k[0],k[1]) for k in datos]\n"
   ]
  },
  {
   "cell_type": "code",
   "execution_count": 13,
   "metadata": {},
   "outputs": [
    {
     "data": {
      "text/latex": [
       "$$\\begin{cases} 0 & \\text{for}\\: x < -1 \\\\x^{2} & \\text{for}\\: x \\leq 1 \\\\2 x - 1 & \\text{otherwise} \\end{cases}$$"
      ],
      "text/plain": [
       "⎧   0     for x < -1\n",
       "⎪                   \n",
       "⎪   2               \n",
       "⎨  x      for x ≤ 1 \n",
       "⎪                   \n",
       "⎪2⋅x - 1  otherwise \n",
       "⎩                   "
      ]
     },
     "execution_count": 13,
     "metadata": {},
     "output_type": "execute_result"
    }
   ],
   "source": [
    "from sympy import Piecewise\n",
    "f=x**2\n",
    "g=2*x-1\n",
    "p = Piecewise( (0, x<-1), (f, x<=1), (g, True))\n",
    "p\n"
   ]
  },
  {
   "cell_type": "code",
   "execution_count": 14,
   "metadata": {},
   "outputs": [
    {
     "data": {
      "text/latex": [
       "$$\\begin{cases} 0 & \\text{for}\\: x < -1 \\\\x^{2} & \\text{for}\\: x < 1 \\\\2 x - 1 & \\text{for}\\: x > 1 \\end{cases}$$"
      ],
      "text/plain": [
       "⎧   0     for x < -1\n",
       "⎪                   \n",
       "⎪   2               \n",
       "⎨  x      for x < 1 \n",
       "⎪                   \n",
       "⎪2⋅x - 1  for x > 1 \n",
       "⎩                   "
      ]
     },
     "execution_count": 14,
     "metadata": {},
     "output_type": "execute_result"
    }
   ],
   "source": [
    "f=x**2\n",
    "g=2*x-1\n",
    "p = Piecewise( (0, x<-1), (f, x<1), (g, x>1))\n",
    "p"
   ]
  },
  {
   "cell_type": "code",
   "execution_count": 15,
   "metadata": {},
   "outputs": [
    {
     "data": {
      "image/png": "[encoded data removed]",
      "text/plain": [
       "<Figure size 432x288 with 1 Axes>"
      ]
     },
     "metadata": {},
     "output_type": "display_data"
    },
    {
     "data": {
      "image/png": "[encoded data removed]",
      "text/plain": [
       "<Figure size 432x288 with 1 Axes>"
      ]
     },
     "metadata": {},
     "output_type": "display_data"
    }
   ],
   "source": [
    "p1=plot(Piecewise((x/2,x<=1),(1/(x-1),x>1)))\n",
    "fg, ax = p1._backend.fig, p1._backend.ax\n",
    "p1.autoscale\n",
    "ax.set_aspect(\"equal\")\n",
    "p1.show()"
   ]
  },
  {
   "cell_type": "code",
   "execution_count": 16,
   "metadata": {},
   "outputs": [
    {
     "data": {
      "text/html": [
       "<div>\n",
       "<style scoped>\n",
       "    .dataframe tbody tr th:only-of-type {\n",
       "        vertical-align: middle;\n",
       "    }\n",
       "\n",
       "    .dataframe tbody tr th {\n",
       "        vertical-align: top;\n",
       "    }\n",
       "\n",
       "    .dataframe thead th {\n",
       "        text-align: right;\n",
       "    }\n",
       "</style>\n",
       "<table border=\"1\" class=\"dataframe\">\n",
       "  <thead>\n",
       "    <tr style=\"text-align: right;\">\n",
       "      <th></th>\n",
       "      <th>enunciado_latex</th>\n",
       "      <th>enunciado</th>\n",
       "      <th>solucion</th>\n",
       "      <th>texto</th>\n",
       "      <th>curso</th>\n",
       "      <th>titulo</th>\n",
       "      <th>n_ejercicio</th>\n",
       "      <th>dificultad</th>\n",
       "      <th>n_columnas</th>\n",
       "      <th>puntos</th>\n",
       "      <th>enun_tex</th>\n",
       "      <th>sol_tex</th>\n",
       "    </tr>\n",
       "  </thead>\n",
       "  <tbody>\n",
       "    <tr>\n",
       "      <th>0</th>\n",
       "      <td>$f(x)=0x-3$</td>\n",
       "      <td>0*x - 3</td>\n",
       "      <td>$Dom\\left(f \\right)=\\mathbb{R}$</td>\n",
       "      <td>Halla el dominio de las siguientes funciones: ...</td>\n",
       "      <td>1BC</td>\n",
       "      <td>31 - Funciones</td>\n",
       "      <td>p65e6-0</td>\n",
       "      <td>5</td>\n",
       "      <td>1</td>\n",
       "      <td>1</td>\n",
       "      <td>False</td>\n",
       "      <td>False</td>\n",
       "    </tr>\n",
       "    <tr>\n",
       "      <th>1</th>\n",
       "      <td>$f(x)=x^3-5x^2+2$</td>\n",
       "      <td>x**3 - 5*x**2 + 2</td>\n",
       "      <td>$Dom\\left(f \\right)=\\mathbb{R}$</td>\n",
       "      <td>Halla el dominio de las siguientes funciones: ...</td>\n",
       "      <td>1BC</td>\n",
       "      <td>31 - Funciones</td>\n",
       "      <td>p65e6-0</td>\n",
       "      <td>5</td>\n",
       "      <td>1</td>\n",
       "      <td>1</td>\n",
       "      <td>False</td>\n",
       "      <td>False</td>\n",
       "    </tr>\n",
       "    <tr>\n",
       "      <th>2</th>\n",
       "      <td>$f(x)=\\frac{{x - 1}}{{x + 5}}$</td>\n",
       "      <td>(x - 1)/(x + 5)</td>\n",
       "      <td>$Dom\\left(f \\right)=\\left(-\\infty, -5\\right) \\...</td>\n",
       "      <td>Halla el dominio de las siguientes funciones: ...</td>\n",
       "      <td>1BC</td>\n",
       "      <td>31 - Funciones</td>\n",
       "      <td>p65e6-0</td>\n",
       "      <td>5</td>\n",
       "      <td>1</td>\n",
       "      <td>1</td>\n",
       "      <td>False</td>\n",
       "      <td>False</td>\n",
       "    </tr>\n",
       "    <tr>\n",
       "      <th>3</th>\n",
       "      <td>$f(x)=7x-1$</td>\n",
       "      <td>7*x - 1</td>\n",
       "      <td>$Dom\\left(f \\right)=\\mathbb{R}$</td>\n",
       "      <td>Halla el dominio de las siguientes funciones: ...</td>\n",
       "      <td>1BC</td>\n",
       "      <td>31 - Funciones</td>\n",
       "      <td>p65e6-0</td>\n",
       "      <td>5</td>\n",
       "      <td>1</td>\n",
       "      <td>1</td>\n",
       "      <td>False</td>\n",
       "      <td>False</td>\n",
       "    </tr>\n",
       "    <tr>\n",
       "      <th>4</th>\n",
       "      <td>$f(x)=\\frac{2}{x}$</td>\n",
       "      <td>2/x</td>\n",
       "      <td>$Dom\\left(f \\right)=\\left(-\\infty, 0\\right) \\c...</td>\n",
       "      <td>Halla el dominio de las siguientes funciones: ...</td>\n",
       "      <td>1BC</td>\n",
       "      <td>31 - Funciones</td>\n",
       "      <td>p65e6-0</td>\n",
       "      <td>5</td>\n",
       "      <td>1</td>\n",
       "      <td>1</td>\n",
       "      <td>False</td>\n",
       "      <td>False</td>\n",
       "    </tr>\n",
       "    <tr>\n",
       "      <th>5</th>\n",
       "      <td>$f(x)=\\sqrt[3]{\\frac{x + 1}{x - 2}}$</td>\n",
       "      <td>((x + 1)/(x - 2))**(1/3)</td>\n",
       "      <td>$Dom\\left(f \\right)=\\left(-\\infty, 2\\right) \\c...</td>\n",
       "      <td>Halla el dominio de las siguientes funciones: ...</td>\n",
       "      <td>1BC</td>\n",
       "      <td>31 - Funciones</td>\n",
       "      <td>p65e6-0</td>\n",
       "      <td>5</td>\n",
       "      <td>1</td>\n",
       "      <td>1</td>\n",
       "      <td>False</td>\n",
       "      <td>False</td>\n",
       "    </tr>\n",
       "    <tr>\n",
       "      <th>6</th>\n",
       "      <td>$f(x)=\\sqrt {{x^2} - 9}$</td>\n",
       "      <td>sqrt(x**2 - 9)</td>\n",
       "      <td>$Dom\\left(f \\right)=\\left(-\\infty, -3\\right] \\...</td>\n",
       "      <td>Halla el dominio de las siguientes funciones: ...</td>\n",
       "      <td>1BC</td>\n",
       "      <td>31 - Funciones</td>\n",
       "      <td>p65e6-0</td>\n",
       "      <td>5</td>\n",
       "      <td>1</td>\n",
       "      <td>1</td>\n",
       "      <td>False</td>\n",
       "      <td>False</td>\n",
       "    </tr>\n",
       "    <tr>\n",
       "      <th>7</th>\n",
       "      <td>$f(x)=\\sqrt {x+3}$</td>\n",
       "      <td>sqrt(x + 3)</td>\n",
       "      <td>$Dom\\left(f \\right)=\\left[-3, \\infty\\right)$</td>\n",
       "      <td>Halla el dominio de las siguientes funciones: ...</td>\n",
       "      <td>1BC</td>\n",
       "      <td>31 - Funciones</td>\n",
       "      <td>p65e6-0</td>\n",
       "      <td>5</td>\n",
       "      <td>1</td>\n",
       "      <td>1</td>\n",
       "      <td>False</td>\n",
       "      <td>False</td>\n",
       "    </tr>\n",
       "    <tr>\n",
       "      <th>8</th>\n",
       "      <td>$g \\circ f$</td>\n",
       "      <td>g(f(x))</td>\n",
       "      <td>$g{\\left (f{\\left (x \\right )} \\right )}=\\frac...</td>\n",
       "      <td>Dadas las funciones $f(x)= x^2+5$, $g(x)= \\fra...</td>\n",
       "      <td>1BC</td>\n",
       "      <td>31 - Funciones</td>\n",
       "      <td>p65e17-0</td>\n",
       "      <td>5</td>\n",
       "      <td>1</td>\n",
       "      <td>1</td>\n",
       "      <td>False</td>\n",
       "      <td>False</td>\n",
       "    </tr>\n",
       "    <tr>\n",
       "      <th>9</th>\n",
       "      <td>$f \\circ g$</td>\n",
       "      <td>f(g(x))</td>\n",
       "      <td>$f{\\left (g{\\left (x \\right )} \\right )}=\\frac...</td>\n",
       "      <td>Dadas las funciones $f(x)= x^2+5$, $g(x)= \\fra...</td>\n",
       "      <td>1BC</td>\n",
       "      <td>31 - Funciones</td>\n",
       "      <td>p65e17-0</td>\n",
       "      <td>5</td>\n",
       "      <td>1</td>\n",
       "      <td>1</td>\n",
       "      <td>False</td>\n",
       "      <td>False</td>\n",
       "    </tr>\n",
       "    <tr>\n",
       "      <th>10</th>\n",
       "      <td>$h \\circ g \\circ f$</td>\n",
       "      <td>h(g(f(x)))</td>\n",
       "      <td>$h{\\left (g{\\left (f{\\left (x \\right )} \\right...</td>\n",
       "      <td>Dadas las funciones $f(x)= x^2+5$, $g(x)= \\fra...</td>\n",
       "      <td>1BC</td>\n",
       "      <td>31 - Funciones</td>\n",
       "      <td>p65e17-0</td>\n",
       "      <td>5</td>\n",
       "      <td>1</td>\n",
       "      <td>1</td>\n",
       "      <td>False</td>\n",
       "      <td>False</td>\n",
       "    </tr>\n",
       "  </tbody>\n",
       "</table>\n",
       "</div>"
      ],
      "text/plain": [
       "                         enunciado_latex                 enunciado  \\\n",
       "0                            $f(x)=0x-3$                   0*x - 3   \n",
       "1                      $f(x)=x^3-5x^2+2$         x**3 - 5*x**2 + 2   \n",
       "2         $f(x)=\\frac{{x - 1}}{{x + 5}}$           (x - 1)/(x + 5)   \n",
       "3                            $f(x)=7x-1$                   7*x - 1   \n",
       "4                     $f(x)=\\frac{2}{x}$                       2/x   \n",
       "5   $f(x)=\\sqrt[3]{\\frac{x + 1}{x - 2}}$  ((x + 1)/(x - 2))**(1/3)   \n",
       "6               $f(x)=\\sqrt {{x^2} - 9}$            sqrt(x**2 - 9)   \n",
       "7                     $f(x)=\\sqrt {x+3}$               sqrt(x + 3)   \n",
       "8                            $g \\circ f$                   g(f(x))   \n",
       "9                            $f \\circ g$                   f(g(x))   \n",
       "10                   $h \\circ g \\circ f$                h(g(f(x)))   \n",
       "\n",
       "                                             solucion  \\\n",
       "0                     $Dom\\left(f \\right)=\\mathbb{R}$   \n",
       "1                     $Dom\\left(f \\right)=\\mathbb{R}$   \n",
       "2   $Dom\\left(f \\right)=\\left(-\\infty, -5\\right) \\...   \n",
       "3                     $Dom\\left(f \\right)=\\mathbb{R}$   \n",
       "4   $Dom\\left(f \\right)=\\left(-\\infty, 0\\right) \\c...   \n",
       "5   $Dom\\left(f \\right)=\\left(-\\infty, 2\\right) \\c...   \n",
       "6   $Dom\\left(f \\right)=\\left(-\\infty, -3\\right] \\...   \n",
       "7        $Dom\\left(f \\right)=\\left[-3, \\infty\\right)$   \n",
       "8   $g{\\left (f{\\left (x \\right )} \\right )}=\\frac...   \n",
       "9   $f{\\left (g{\\left (x \\right )} \\right )}=\\frac...   \n",
       "10  $h{\\left (g{\\left (f{\\left (x \\right )} \\right...   \n",
       "\n",
       "                                                texto curso          titulo  \\\n",
       "0   Halla el dominio de las siguientes funciones: ...   1BC  31 - Funciones   \n",
       "1   Halla el dominio de las siguientes funciones: ...   1BC  31 - Funciones   \n",
       "2   Halla el dominio de las siguientes funciones: ...   1BC  31 - Funciones   \n",
       "3   Halla el dominio de las siguientes funciones: ...   1BC  31 - Funciones   \n",
       "4   Halla el dominio de las siguientes funciones: ...   1BC  31 - Funciones   \n",
       "5   Halla el dominio de las siguientes funciones: ...   1BC  31 - Funciones   \n",
       "6   Halla el dominio de las siguientes funciones: ...   1BC  31 - Funciones   \n",
       "7   Halla el dominio de las siguientes funciones: ...   1BC  31 - Funciones   \n",
       "8   Dadas las funciones $f(x)= x^2+5$, $g(x)= \\fra...   1BC  31 - Funciones   \n",
       "9   Dadas las funciones $f(x)= x^2+5$, $g(x)= \\fra...   1BC  31 - Funciones   \n",
       "10  Dadas las funciones $f(x)= x^2+5$, $g(x)= \\fra...   1BC  31 - Funciones   \n",
       "\n",
       "   n_ejercicio dificultad n_columnas puntos  enun_tex  sol_tex  \n",
       "0      p65e6-0          5          1      1     False    False  \n",
       "1      p65e6-0          5          1      1     False    False  \n",
       "2      p65e6-0          5          1      1     False    False  \n",
       "3      p65e6-0          5          1      1     False    False  \n",
       "4      p65e6-0          5          1      1     False    False  \n",
       "5      p65e6-0          5          1      1     False    False  \n",
       "6      p65e6-0          5          1      1     False    False  \n",
       "7      p65e6-0          5          1      1     False    False  \n",
       "8     p65e17-0          5          1      1     False    False  \n",
       "9     p65e17-0          5          1      1     False    False  \n",
       "10    p65e17-0          5          1      1     False    False  "
      ]
     },
     "execution_count": 16,
     "metadata": {},
     "output_type": "execute_result"
    }
   ],
   "source": [
    "df_ejercicios"
   ]
  },
  {
   "cell_type": "code",
   "execution_count": 17,
   "metadata": {},
   "outputs": [],
   "source": [
    "df_ejercicios.to_csv('ejercicios31.csv', index = False)"
   ]
  },
  {
   "cell_type": "code",
   "execution_count": 18,
   "metadata": {},
   "outputs": [],
   "source": [
    "df_ejercicios = pd.read_csv('ejercicios31.csv', index_col= None)"
   ]
  },
  {
   "cell_type": "code",
   "execution_count": 19,
   "metadata": {},
   "outputs": [
    {
     "data": {
      "text/markdown": [
       "**Ejercicio: **p65e17-0"
      ],
      "text/plain": [
       "<IPython.core.display.Markdown object>"
      ]
     },
     "metadata": {},
     "output_type": "display_data"
    },
    {
     "data": {
      "text/html": [
       "<div>\n",
       "<style scoped>\n",
       "    .dataframe tbody tr th:only-of-type {\n",
       "        vertical-align: middle;\n",
       "    }\n",
       "\n",
       "    .dataframe tbody tr th {\n",
       "        vertical-align: top;\n",
       "    }\n",
       "\n",
       "    .dataframe thead th {\n",
       "        text-align: right;\n",
       "    }\n",
       "</style>\n",
       "<table border=\"1\" class=\"dataframe\">\n",
       "  <thead>\n",
       "    <tr style=\"text-align: right;\">\n",
       "      <th></th>\n",
       "      <th>enunciado_latex</th>\n",
       "      <th>enunciado</th>\n",
       "      <th>solucion</th>\n",
       "      <th>texto</th>\n",
       "      <th>curso</th>\n",
       "      <th>titulo</th>\n",
       "      <th>n_ejercicio</th>\n",
       "      <th>dificultad</th>\n",
       "      <th>n_columnas</th>\n",
       "      <th>puntos</th>\n",
       "      <th>enun_tex</th>\n",
       "      <th>sol_tex</th>\n",
       "    </tr>\n",
       "  </thead>\n",
       "  <tbody>\n",
       "    <tr>\n",
       "      <th>8</th>\n",
       "      <td>$g \\circ f$</td>\n",
       "      <td>g(f(x))</td>\n",
       "      <td>$g{\\left (f{\\left (x \\right )} \\right )}=\\frac...</td>\n",
       "      <td>Dadas las funciones $f(x)= x^2+5$, $g(x)= \\fra...</td>\n",
       "      <td>1BC</td>\n",
       "      <td>31 - Funciones</td>\n",
       "      <td>p65e17-0</td>\n",
       "      <td>5</td>\n",
       "      <td>1</td>\n",
       "      <td>1</td>\n",
       "      <td>False</td>\n",
       "      <td>False</td>\n",
       "    </tr>\n",
       "    <tr>\n",
       "      <th>9</th>\n",
       "      <td>$f \\circ g$</td>\n",
       "      <td>f(g(x))</td>\n",
       "      <td>$f{\\left (g{\\left (x \\right )} \\right )}=\\frac...</td>\n",
       "      <td>Dadas las funciones $f(x)= x^2+5$, $g(x)= \\fra...</td>\n",
       "      <td>1BC</td>\n",
       "      <td>31 - Funciones</td>\n",
       "      <td>p65e17-0</td>\n",
       "      <td>5</td>\n",
       "      <td>1</td>\n",
       "      <td>1</td>\n",
       "      <td>False</td>\n",
       "      <td>False</td>\n",
       "    </tr>\n",
       "    <tr>\n",
       "      <th>10</th>\n",
       "      <td>$h \\circ g \\circ f$</td>\n",
       "      <td>h(g(f(x)))</td>\n",
       "      <td>$h{\\left (g{\\left (f{\\left (x \\right )} \\right...</td>\n",
       "      <td>Dadas las funciones $f(x)= x^2+5$, $g(x)= \\fra...</td>\n",
       "      <td>1BC</td>\n",
       "      <td>31 - Funciones</td>\n",
       "      <td>p65e17-0</td>\n",
       "      <td>5</td>\n",
       "      <td>1</td>\n",
       "      <td>1</td>\n",
       "      <td>False</td>\n",
       "      <td>False</td>\n",
       "    </tr>\n",
       "  </tbody>\n",
       "</table>\n",
       "</div>"
      ],
      "text/plain": [
       "        enunciado_latex   enunciado  \\\n",
       "8           $g \\circ f$     g(f(x))   \n",
       "9           $f \\circ g$     f(g(x))   \n",
       "10  $h \\circ g \\circ f$  h(g(f(x)))   \n",
       "\n",
       "                                             solucion  \\\n",
       "8   $g{\\left (f{\\left (x \\right )} \\right )}=\\frac...   \n",
       "9   $f{\\left (g{\\left (x \\right )} \\right )}=\\frac...   \n",
       "10  $h{\\left (g{\\left (f{\\left (x \\right )} \\right...   \n",
       "\n",
       "                                                texto curso          titulo  \\\n",
       "8   Dadas las funciones $f(x)= x^2+5$, $g(x)= \\fra...   1BC  31 - Funciones   \n",
       "9   Dadas las funciones $f(x)= x^2+5$, $g(x)= \\fra...   1BC  31 - Funciones   \n",
       "10  Dadas las funciones $f(x)= x^2+5$, $g(x)= \\fra...   1BC  31 - Funciones   \n",
       "\n",
       "   n_ejercicio  dificultad  n_columnas  puntos  enun_tex  sol_tex  \n",
       "8     p65e17-0           5           1       1     False    False  \n",
       "9     p65e17-0           5           1       1     False    False  \n",
       "10    p65e17-0           5           1       1     False    False  "
      ]
     },
     "metadata": {},
     "output_type": "display_data"
    },
    {
     "data": {
      "text/markdown": [
       "**Ejercicio: **p65e6-0"
      ],
      "text/plain": [
       "<IPython.core.display.Markdown object>"
      ]
     },
     "metadata": {},
     "output_type": "display_data"
    },
    {
     "data": {
      "text/html": [
       "<div>\n",
       "<style scoped>\n",
       "    .dataframe tbody tr th:only-of-type {\n",
       "        vertical-align: middle;\n",
       "    }\n",
       "\n",
       "    .dataframe tbody tr th {\n",
       "        vertical-align: top;\n",
       "    }\n",
       "\n",
       "    .dataframe thead th {\n",
       "        text-align: right;\n",
       "    }\n",
       "</style>\n",
       "<table border=\"1\" class=\"dataframe\">\n",
       "  <thead>\n",
       "    <tr style=\"text-align: right;\">\n",
       "      <th></th>\n",
       "      <th>enunciado_latex</th>\n",
       "      <th>enunciado</th>\n",
       "      <th>solucion</th>\n",
       "      <th>texto</th>\n",
       "      <th>curso</th>\n",
       "      <th>titulo</th>\n",
       "      <th>n_ejercicio</th>\n",
       "      <th>dificultad</th>\n",
       "      <th>n_columnas</th>\n",
       "      <th>puntos</th>\n",
       "      <th>enun_tex</th>\n",
       "      <th>sol_tex</th>\n",
       "    </tr>\n",
       "  </thead>\n",
       "  <tbody>\n",
       "    <tr>\n",
       "      <th>0</th>\n",
       "      <td>$f(x)=0x-3$</td>\n",
       "      <td>0*x - 3</td>\n",
       "      <td>$Dom\\left(f \\right)=\\mathbb{R}$</td>\n",
       "      <td>Halla el dominio de las siguientes funciones: ...</td>\n",
       "      <td>1BC</td>\n",
       "      <td>31 - Funciones</td>\n",
       "      <td>p65e6-0</td>\n",
       "      <td>5</td>\n",
       "      <td>1</td>\n",
       "      <td>1</td>\n",
       "      <td>False</td>\n",
       "      <td>False</td>\n",
       "    </tr>\n",
       "    <tr>\n",
       "      <th>1</th>\n",
       "      <td>$f(x)=x^3-5x^2+2$</td>\n",
       "      <td>x**3 - 5*x**2 + 2</td>\n",
       "      <td>$Dom\\left(f \\right)=\\mathbb{R}$</td>\n",
       "      <td>Halla el dominio de las siguientes funciones: ...</td>\n",
       "      <td>1BC</td>\n",
       "      <td>31 - Funciones</td>\n",
       "      <td>p65e6-0</td>\n",
       "      <td>5</td>\n",
       "      <td>1</td>\n",
       "      <td>1</td>\n",
       "      <td>False</td>\n",
       "      <td>False</td>\n",
       "    </tr>\n",
       "    <tr>\n",
       "      <th>2</th>\n",
       "      <td>$f(x)=\\frac{{x - 1}}{{x + 5}}$</td>\n",
       "      <td>(x - 1)/(x + 5)</td>\n",
       "      <td>$Dom\\left(f \\right)=\\left(-\\infty, -5\\right) \\...</td>\n",
       "      <td>Halla el dominio de las siguientes funciones: ...</td>\n",
       "      <td>1BC</td>\n",
       "      <td>31 - Funciones</td>\n",
       "      <td>p65e6-0</td>\n",
       "      <td>5</td>\n",
       "      <td>1</td>\n",
       "      <td>1</td>\n",
       "      <td>False</td>\n",
       "      <td>False</td>\n",
       "    </tr>\n",
       "    <tr>\n",
       "      <th>3</th>\n",
       "      <td>$f(x)=7x-1$</td>\n",
       "      <td>7*x - 1</td>\n",
       "      <td>$Dom\\left(f \\right)=\\mathbb{R}$</td>\n",
       "      <td>Halla el dominio de las siguientes funciones: ...</td>\n",
       "      <td>1BC</td>\n",
       "      <td>31 - Funciones</td>\n",
       "      <td>p65e6-0</td>\n",
       "      <td>5</td>\n",
       "      <td>1</td>\n",
       "      <td>1</td>\n",
       "      <td>False</td>\n",
       "      <td>False</td>\n",
       "    </tr>\n",
       "    <tr>\n",
       "      <th>4</th>\n",
       "      <td>$f(x)=\\frac{2}{x}$</td>\n",
       "      <td>2/x</td>\n",
       "      <td>$Dom\\left(f \\right)=\\left(-\\infty, 0\\right) \\c...</td>\n",
       "      <td>Halla el dominio de las siguientes funciones: ...</td>\n",
       "      <td>1BC</td>\n",
       "      <td>31 - Funciones</td>\n",
       "      <td>p65e6-0</td>\n",
       "      <td>5</td>\n",
       "      <td>1</td>\n",
       "      <td>1</td>\n",
       "      <td>False</td>\n",
       "      <td>False</td>\n",
       "    </tr>\n",
       "    <tr>\n",
       "      <th>5</th>\n",
       "      <td>$f(x)=\\sqrt[3]{\\frac{x + 1}{x - 2}}$</td>\n",
       "      <td>((x + 1)/(x - 2))**(1/3)</td>\n",
       "      <td>$Dom\\left(f \\right)=\\left(-\\infty, 2\\right) \\c...</td>\n",
       "      <td>Halla el dominio de las siguientes funciones: ...</td>\n",
       "      <td>1BC</td>\n",
       "      <td>31 - Funciones</td>\n",
       "      <td>p65e6-0</td>\n",
       "      <td>5</td>\n",
       "      <td>1</td>\n",
       "      <td>1</td>\n",
       "      <td>False</td>\n",
       "      <td>False</td>\n",
       "    </tr>\n",
       "    <tr>\n",
       "      <th>6</th>\n",
       "      <td>$f(x)=\\sqrt {{x^2} - 9}$</td>\n",
       "      <td>sqrt(x**2 - 9)</td>\n",
       "      <td>$Dom\\left(f \\right)=\\left(-\\infty, -3\\right] \\...</td>\n",
       "      <td>Halla el dominio de las siguientes funciones: ...</td>\n",
       "      <td>1BC</td>\n",
       "      <td>31 - Funciones</td>\n",
       "      <td>p65e6-0</td>\n",
       "      <td>5</td>\n",
       "      <td>1</td>\n",
       "      <td>1</td>\n",
       "      <td>False</td>\n",
       "      <td>False</td>\n",
       "    </tr>\n",
       "    <tr>\n",
       "      <th>7</th>\n",
       "      <td>$f(x)=\\sqrt {x+3}$</td>\n",
       "      <td>sqrt(x + 3)</td>\n",
       "      <td>$Dom\\left(f \\right)=\\left[-3, \\infty\\right)$</td>\n",
       "      <td>Halla el dominio de las siguientes funciones: ...</td>\n",
       "      <td>1BC</td>\n",
       "      <td>31 - Funciones</td>\n",
       "      <td>p65e6-0</td>\n",
       "      <td>5</td>\n",
       "      <td>1</td>\n",
       "      <td>1</td>\n",
       "      <td>False</td>\n",
       "      <td>False</td>\n",
       "    </tr>\n",
       "  </tbody>\n",
       "</table>\n",
       "</div>"
      ],
      "text/plain": [
       "                        enunciado_latex                 enunciado  \\\n",
       "0                           $f(x)=0x-3$                   0*x - 3   \n",
       "1                     $f(x)=x^3-5x^2+2$         x**3 - 5*x**2 + 2   \n",
       "2        $f(x)=\\frac{{x - 1}}{{x + 5}}$           (x - 1)/(x + 5)   \n",
       "3                           $f(x)=7x-1$                   7*x - 1   \n",
       "4                    $f(x)=\\frac{2}{x}$                       2/x   \n",
       "5  $f(x)=\\sqrt[3]{\\frac{x + 1}{x - 2}}$  ((x + 1)/(x - 2))**(1/3)   \n",
       "6              $f(x)=\\sqrt {{x^2} - 9}$            sqrt(x**2 - 9)   \n",
       "7                    $f(x)=\\sqrt {x+3}$               sqrt(x + 3)   \n",
       "\n",
       "                                            solucion  \\\n",
       "0                    $Dom\\left(f \\right)=\\mathbb{R}$   \n",
       "1                    $Dom\\left(f \\right)=\\mathbb{R}$   \n",
       "2  $Dom\\left(f \\right)=\\left(-\\infty, -5\\right) \\...   \n",
       "3                    $Dom\\left(f \\right)=\\mathbb{R}$   \n",
       "4  $Dom\\left(f \\right)=\\left(-\\infty, 0\\right) \\c...   \n",
       "5  $Dom\\left(f \\right)=\\left(-\\infty, 2\\right) \\c...   \n",
       "6  $Dom\\left(f \\right)=\\left(-\\infty, -3\\right] \\...   \n",
       "7       $Dom\\left(f \\right)=\\left[-3, \\infty\\right)$   \n",
       "\n",
       "                                               texto curso          titulo  \\\n",
       "0  Halla el dominio de las siguientes funciones: ...   1BC  31 - Funciones   \n",
       "1  Halla el dominio de las siguientes funciones: ...   1BC  31 - Funciones   \n",
       "2  Halla el dominio de las siguientes funciones: ...   1BC  31 - Funciones   \n",
       "3  Halla el dominio de las siguientes funciones: ...   1BC  31 - Funciones   \n",
       "4  Halla el dominio de las siguientes funciones: ...   1BC  31 - Funciones   \n",
       "5  Halla el dominio de las siguientes funciones: ...   1BC  31 - Funciones   \n",
       "6  Halla el dominio de las siguientes funciones: ...   1BC  31 - Funciones   \n",
       "7  Halla el dominio de las siguientes funciones: ...   1BC  31 - Funciones   \n",
       "\n",
       "  n_ejercicio  dificultad  n_columnas  puntos  enun_tex  sol_tex  \n",
       "0     p65e6-0           5           1       1     False    False  \n",
       "1     p65e6-0           5           1       1     False    False  \n",
       "2     p65e6-0           5           1       1     False    False  \n",
       "3     p65e6-0           5           1       1     False    False  \n",
       "4     p65e6-0           5           1       1     False    False  \n",
       "5     p65e6-0           5           1       1     False    False  \n",
       "6     p65e6-0           5           1       1     False    False  \n",
       "7     p65e6-0           5           1       1     False    False  "
      ]
     },
     "metadata": {},
     "output_type": "display_data"
    }
   ],
   "source": [
    "escribir_preambulo(fichero, titulo, 'ejercicios')\n",
    "for s in df_ejercicios.groupby('n_ejercicio').count().index : \n",
    "    display(md(\"**Ejercicio: **\" + s ))\n",
    "    display(df_ejercicios[df_ejercicios.n_ejercicio == s])\n",
    "    escribir_ejercicios(df_ejercicios[df_ejercicios.n_ejercicio == s],fichero)\n",
    "\n",
    "escribir_fin(fichero)"
   ]
  }
 ],
 "metadata": {
  "kernelspec": {
   "display_name": "Python 3",
   "language": "python",
   "name": "python3"
  },
  "language_info": {
   "codemirror_mode": {
    "name": "ipython",
    "version": 3
   },
   "file_extension": ".py",
   "mimetype": "text/x-python",
   "name": "python",
   "nbconvert_exporter": "python",
   "pygments_lexer": "ipython3",
   "version": "3.6.8"
  }
 },
 "nbformat": 4,
 "nbformat_minor": 2
}
