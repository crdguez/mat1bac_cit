{
 "cells": [
  {
   "cell_type": "code",
   "execution_count": 2,
   "metadata": {},
   "outputs": [
    {
     "name": "stdout",
     "output_type": "stream",
     "text": [
      "IPython console for SymPy 1.2 (Python 3.6.5-64-bit) (ground types: gmpy)\n",
      "\n",
      "These commands were executed:\n",
      ">>> from __future__ import division\n",
      ">>> from sympy import *\n",
      ">>> x, y, z, t = symbols('x y z t')\n",
      ">>> k, m, n = symbols('k m n', integer=True)\n",
      ">>> f, g, h = symbols('f g h', cls=Function)\n",
      ">>> init_printing()\n",
      "\n",
      "Documentation can be found at http://docs.sympy.org/1.2/\n",
      "\n"
     ]
    }
   ],
   "source": [
    "from sympy import init_session\n",
    "from sympy.parsing.latex import parse_latex\n",
    "from IPython.display import Markdown as md\n",
    "from IPython.display import display\n",
    "\n",
    "from sympy import *\n",
    "init_session()"
   ]
  },
  {
   "cell_type": "code",
   "execution_count": 13,
   "metadata": {},
   "outputs": [],
   "source": [
    "from docparts import doc_ejer"
   ]
  },
  {
   "cell_type": "code",
   "execution_count": 6,
   "metadata": {},
   "outputs": [
    {
     "data": {
      "text/plain": [
       "'\\n\\t\\\\documentclass[spanish, 11pt]{exam}\\n\\t\\n\\t%These tell TeX which packages to use.\\n\\t\\\\usepackage{array,epsfig}\\n\\t\\\\usepackage{amsmath, textcomp}\\n\\t\\\\usepackage{amsfonts}\\n\\t\\\\usepackage{amssymb}\\n\\t\\\\usepackage{amsxtra}\\n\\t\\\\usepackage{amsthm}\\n\\t\\\\usepackage{mathrsfs}\\n\\t\\\\usepackage{color}\\n\\t\\\\usepackage{multicol}\\n\\t\\\\usepackage{verbatim}\\n\\t\\n\\t\\n\\t\\\\usepackage[utf8]{inputenc}\\n\\t\\\\usepackage[spanish]{babel}\\n\\t\\\\usepackage{eurosym}\\n\\t\\n\\t\\\\usepackage{graphicx}\\n\\t\\\\graphicspath{{../img/}}\\n\\t\\n\\t\\n\\t\\n\\t\\\\printanswers\\n\\t\\\\nopointsinmargin\\n\\t\\\\pointformat{}\\n\\t\\n\\t%Pagination stuff.\\n\\t%\\\\setlength{\\\\topmargin}{-.3 in}\\n\\t%\\\\setlength{\\\\oddsidemargin}{0in}\\n\\t%\\\\setlength{\\\\evensidemargin}{0in}\\n\\t%\\\\setlength{\\\\textheight}{9.in}\\n\\t%\\\\setlength{\\\\textwidth}{6.5in}\\n\\t%\\\\pagestyle{empty}\\n\\t\\n\\t\\\\renewcommand{\\\\solutiontitle}{\\\\noindent\\\\textbf{Sol:}\\\\enspace}\\n\\t\\n\\t\\\\newcommand{\\\\samedir}{\\\\mathbin{\\\\!/\\\\mkern-5mu/\\\\!}}\\n\\t\\n\\t\\\\newcommand{\\\\class}{4º Académicas}\\n\\t\\\\newcommand{\\\\examdate}{\\\\today}\\n\\t\\\\newcommand{\\\\examnum}{Geometría Analítica}\\n\\t\\\\newcommand{\\\\tipo}{A}\\n\\t\\n\\t\\n\\t\\\\newcommand{\\\\timelimit}{50 minutos}\\n\\t\\n\\t\\n\\t\\n\\t\\\\pagestyle{head}\\n\\t\\\\firstpageheader{\\\\includegraphics[width=0.2\\\\columnwidth]{header_left}}{\\\\textbf{Departamento de Matemáticas\\\\linebreak \\\\class}\\\\linebreak \\\\examnum}{\\\\includegraphics[width=0.1\\\\columnwidth]{header_right}}\\n\\t\\\\runningheader{\\\\class}{\\\\examnum}{Página \\\\thepage\\\\ of \\\\numpages}\\n\\t\\\\runningheadrule\\n\\t\\n\\t\\\\begin{document}\\n    \\\\title{Esto es un prueba} \\n \\\\date{\\\\vspace{-5ex}} \\n \\\\maketitle'"
      ]
     },
     "metadata": {},
     "output_type": "display_data"
    }
   ],
   "source": [
    "display(doc_ejer(title=\"Esto es un prueba\", author=\"CRJ\")[0])"
   ]
  },
  {
   "cell_type": "code",
   "execution_count": 11,
   "metadata": {},
   "outputs": [],
   "source": [
    "start = \"\"\"\n",
    "    \\\\documentclass{article}\n",
    "    \\\\usepackage{amsfonts}\n",
    "    \\\\usepackage{amsmath,multicol,eso-pic}\n",
    "    \\\\begin{document}\n",
    "    \"\"\""
   ]
  },
  {
   "cell_type": "code",
   "execution_count": 12,
   "metadata": {},
   "outputs": [
    {
     "data": {
      "text/plain": [
       "'\\n\\\\documentclass{article}\\n    \\\\usepackage{amsfonts}\\n    \\\\usepackage{amsmath,multicol,eso-pic}\\n    \\\\begin{document}\\n    '"
      ]
     },
     "execution_count": 12,
     "metadata": {},
     "output_type": "execute_result"
    }
   ],
   "source": [
    "start"
   ]
  },
  {
   "cell_type": "code",
   "execution_count": 1,
   "metadata": {},
   "outputs": [
    {
     "ename": "NameError",
     "evalue": "name 'doc_ejer' is not defined",
     "output_type": "error",
     "traceback": [
      "\u001b[0;31m---------------------------------------------------------------------------\u001b[0m",
      "\u001b[0;31mNameError\u001b[0m                                 Traceback (most recent call last)",
      "\u001b[0;32m<ipython-input-1-8c541c6f50e1>\u001b[0m in \u001b[0;36m<module>\u001b[0;34m()\u001b[0m\n\u001b[1;32m      1\u001b[0m \u001b[0mf\u001b[0m \u001b[0;34m=\u001b[0m \u001b[0mopen\u001b[0m\u001b[0;34m(\u001b[0m\u001b[0;34m'prueba.tex'\u001b[0m\u001b[0;34m,\u001b[0m\u001b[0;34m'w'\u001b[0m\u001b[0;34m)\u001b[0m\u001b[0;34m\u001b[0m\u001b[0m\n\u001b[0;32m----> 2\u001b[0;31m \u001b[0mf\u001b[0m\u001b[0;34m.\u001b[0m\u001b[0mwrite\u001b[0m\u001b[0;34m(\u001b[0m\u001b[0mdoc_ejer\u001b[0m\u001b[0;34m(\u001b[0m\u001b[0;34m)\u001b[0m\u001b[0;34m[\u001b[0m\u001b[0;36m0\u001b[0m\u001b[0;34m]\u001b[0m\u001b[0;34m)\u001b[0m\u001b[0;34m\u001b[0m\u001b[0m\n\u001b[0m\u001b[1;32m      3\u001b[0m \u001b[0mf\u001b[0m\u001b[0;34m.\u001b[0m\u001b[0mwrite\u001b[0m\u001b[0;34m(\u001b[0m\u001b[0;34m\"$\"\u001b[0m \u001b[0;34m+\u001b[0m \u001b[0menunciado_latex\u001b[0m\u001b[0;34m[\u001b[0m\u001b[0;36m0\u001b[0m\u001b[0;34m]\u001b[0m\u001b[0;34m.\u001b[0m\u001b[0mreplace\u001b[0m\u001b[0;34m(\u001b[0m\u001b[0;34m\"left|\"\u001b[0m\u001b[0;34m,\u001b[0m\u001b[0;34m\"left\\\\lvert\"\u001b[0m\u001b[0;34m)\u001b[0m\u001b[0;34m.\u001b[0m\u001b[0mreplace\u001b[0m\u001b[0;34m(\u001b[0m\u001b[0;34m\"right|\"\u001b[0m\u001b[0;34m,\u001b[0m\u001b[0;34m\"right\\\\rvert\"\u001b[0m\u001b[0;34m)\u001b[0m \u001b[0;34m+\u001b[0m \u001b[0;34m\"$\"\u001b[0m\u001b[0;34m)\u001b[0m\u001b[0;34m\u001b[0m\u001b[0m\n\u001b[1;32m      4\u001b[0m \u001b[0mf\u001b[0m\u001b[0;34m.\u001b[0m\u001b[0mwrite\u001b[0m\u001b[0;34m(\u001b[0m\u001b[0mdoc_ejer\u001b[0m\u001b[0;34m(\u001b[0m\u001b[0;34m)\u001b[0m\u001b[0;34m[\u001b[0m\u001b[0;36m1\u001b[0m\u001b[0;34m]\u001b[0m\u001b[0;34m)\u001b[0m\u001b[0;34m\u001b[0m\u001b[0m\n\u001b[1;32m      5\u001b[0m \u001b[0mf\u001b[0m\u001b[0;34m.\u001b[0m\u001b[0mclose\u001b[0m\u001b[0;34m(\u001b[0m\u001b[0;34m)\u001b[0m\u001b[0;34m\u001b[0m\u001b[0m\n",
      "\u001b[0;31mNameError\u001b[0m: name 'doc_ejer' is not defined"
     ]
    }
   ],
   "source": [
    "f = open('prueba.tex','w')\n",
    "f.write(doc_ejer()[0])\n",
    "f.write(\"$\" + enunciado_latex[0].replace(\"left|\",\"left\\\\lvert\").replace(\"right|\",\"right\\\\rvert\") + \"$\")\n",
    "f.write(doc_ejer()[1])\n",
    "f.close()"
   ]
  },
  {
   "cell_type": "code",
   "execution_count": 56,
   "metadata": {},
   "outputs": [
    {
     "data": {
      "image/png": "[encoded data removed]",
      "text/latex": [
       "$$183$$"
      ],
      "text/plain": [
       "183"
      ]
     },
     "execution_count": 56,
     "metadata": {},
     "output_type": "execute_result"
    }
   ],
   "source": []
  },
  {
   "cell_type": "code",
   "execution_count": 107,
   "metadata": {},
   "outputs": [
    {
     "data": {
      "text/plain": [
       "'$\\x0crac{1}{2}$'"
      ]
     },
     "execution_count": 107,
     "metadata": {},
     "output_type": "execute_result"
    }
   ],
   "source": [
    "s='$\\frac{1}{2}$'\n",
    "r''+s"
   ]
  },
  {
   "cell_type": "code",
   "execution_count": 124,
   "metadata": {},
   "outputs": [
    {
     "data": {
      "text/plain": [
       "'\\\\left\\\\lvert{x - 2}\\\\right\\\\rvert - 1\\\\leq 0'"
      ]
     },
     "execution_count": 124,
     "metadata": {},
     "output_type": "execute_result"
    }
   ],
   "source": [
    "enunciado_latex[0].replace(\"left|\",\"left\\\\lvert\").replace(\"right|\",\"right\\\\rvert\")"
   ]
  },
  {
   "cell_type": "code",
   "execution_count": 59,
   "metadata": {},
   "outputs": [],
   "source": [
    "f.close()"
   ]
  },
  {
   "cell_type": "code",
   "execution_count": 7,
   "metadata": {},
   "outputs": [],
   "source": [
    "def simbolo (operacion):\n",
    "    if operacion == '<=' :\n",
    "        return('\\leq')\n",
    "    elif operacion == '>=' :\n",
    "        return('\\geq')\n",
    "    else :\n",
    "        return(operacion)"
   ]
  },
  {
   "cell_type": "code",
   "execution_count": 8,
   "metadata": {
    "scrolled": true
   },
   "outputs": [
    {
     "data": {
      "text/markdown": [
       "## Solución:"
      ],
      "text/plain": [
       "<IPython.core.display.Markdown object>"
      ]
     },
     "metadata": {},
     "output_type": "display_data"
    },
    {
     "name": "stdout",
     "output_type": "stream",
     "text": [
      "$\\left|{x - 2}\\right| - 1\\leq0 \\rightarrow  1 \\leq x \\wedge x \\leq 3$\n",
      "$\\left|{2 x + 3}\\right| - 4<0 \\rightarrow  - \\frac{7}{2} < x \\wedge x < \\frac{1}{2}$\n",
      "$\\left|{x + 5}\\right| - 2\\leq0 \\rightarrow  -7 \\leq x \\wedge x \\leq -3$\n",
      "$\\left|{3 x - 2}\\right| - 0.5\\leq0 \\rightarrow  0.5 \\leq x \\wedge x \\leq 0.833333333333333$\n",
      "$\\left|{x - 1}\\right| - 2>0 \\rightarrow  \\left(-\\infty < x \\wedge x < -1\\right) \\vee \\left(3 < x \\wedge x < \\infty\\right)$\n",
      "$\\left|{x + 2}\\right| - 5>0 \\rightarrow  \\left(-\\infty < x \\wedge x < -7\\right) \\vee \\left(3 < x \\wedge x < \\infty\\right)$\n",
      "$\\left|{2 x - 3}\\right| - 1\\geq0 \\rightarrow  \\left(2 \\leq x \\wedge x < \\infty\\right) \\vee \\left(x \\leq 1 \\wedge -\\infty < x\\right)$\n",
      "$\\left|{2 x + 1}\\right| - 0.5\\geq0 \\rightarrow  \\left(-0.25 \\leq x \\wedge x < \\infty\\right) \\vee \\left(x \\leq -0.75 \\wedge - \\infty < x\\right)$\n"
     ]
    }
   ],
   "source": [
    "enunciado =[(Abs(x-2)-1,'<='),(Abs(2*x+3)-4,'<'),(Abs(x+5)-2,'<='),\n",
    "            (Abs(3*x-2)-1/2,'<='),(Abs(x-1)-2,'>'),(Abs(x+2)-5,'>'),\n",
    "            (Abs(2*x-3)-1,'>='),(Abs(2*x+1)-1/2,'>=')]\n",
    "\n",
    "enunciado_latex = []\n",
    "solucion = []\n",
    "display(md('## Solución:'))\n",
    "for s in enunciado:\n",
    "    enunciado_latex.append(latex(s[0])+simbolo(s[1])+' 0')\n",
    "    solucion.append(reduce_abs_inequalities([s], x))\n",
    "    print('$'+latex(s[0])+simbolo(s[1])+\n",
    "               '0 \\\\rightarrow  '+ latex(reduce_abs_inequalities([s], x))+'$')\n",
    "    # display(md('$'+latex(s[0])+simbolo(s[1])+\n",
    "    #          '0 \\\\rightarrow  '+ latex(reduce_abs_inequalities([s], x))+'$'))  \n",
    "    "
   ]
  },
  {
   "cell_type": "code",
   "execution_count": 54,
   "metadata": {},
   "outputs": [
    {
     "data": {
      "text/plain": [
       "(['\\\\left|{x - 2}\\\\right| - 1<=0', '\\\\left|{x - 2}\\\\right| - 1<=0'],\n",
       " [(Abs(x - 2) - 1, '<='), (Abs(x - 2) - 1, '<=')])"
      ]
     },
     "execution_count": 54,
     "metadata": {},
     "output_type": "execute_result"
    }
   ],
   "source": [
    "enunciado_latex, enunciado"
   ]
  },
  {
   "cell_type": "code",
   "execution_count": 14,
   "metadata": {},
   "outputs": [
    {
     "data": {
      "image/png": "[encoded data removed]",
      "text/latex": [
       "$$\\left|{x - 2}\\right| - 1$$"
      ],
      "text/plain": [
       "│x - 2│ - 1"
      ]
     },
     "execution_count": 14,
     "metadata": {},
     "output_type": "execute_result"
    }
   ],
   "source": [
    "texto_ejercicio = 'Resolver las siguientes inecuaciones:'\n",
    "\n",
    "\n",
    "\n",
    "enunciado_latex = list([r'\\frac{7!}{6!}',r'\\frac{{8!}}{{9!}}',r'\\frac{{9!}}{{5!\\cdot 4!}}',r'\\frac{{m!}}{{(m - 1)!}}', r'\\frac{{( {m + 1} )!}}{{( {m - 1} )!}}'])\n",
    "\n",
    "#display(md(\"**Enunciado en código latex:**\")); display(enunciado_latex)    \n",
    "\n",
    "enunciado=[]\n",
    "for s in enunciado_latex : \n",
    "    enunciado.append(parse_latex(s))\n",
    "    \n",
    "\n",
    "#display(md(\"**Enunciado:**\"));    display(enunciado)    \n",
    "\n",
    "display(md(\"**Solución:**\"))\n",
    "solucion=[]\n",
    "for i in range(len(enunciado)) : \n",
    "    solucion.append(latex(simplify(enunciado[i])))\n",
    "    display(md(\"$\"+enunciado_latex[i]+\"  \\\\rightarrow   \"+latex(simplify(enunciado[i]))+\"$\"))\n",
    "\n",
    "# display(md(\"**Solución-lista:**\"));    display(solucion)    \n",
    "    "
   ]
  },
  {
   "cell_type": "code",
   "execution_count": 24,
   "metadata": {},
   "outputs": [
    {
     "data": {
      "text/plain": [
       "'- \\\\frac{4}{3} \\\\leq x \\\\wedge x \\\\leq 2'"
      ]
     },
     "execution_count": 24,
     "metadata": {},
     "output_type": "execute_result"
    }
   ],
   "source": [
    "latex(reduce_abs_inequalities([(Abs(3*x - 1) - 5, '<=')], x))"
   ]
  },
  {
   "cell_type": "code",
   "execution_count": 6,
   "metadata": {},
   "outputs": [
    {
     "data": {
      "image/png": "[encoded data removed]",
      "text/latex": [
       "$$\\left|{3 x - 1}\\right| - 5$$"
      ],
      "text/plain": [
       "│3⋅x - 1│ - 5"
      ]
     },
     "execution_count": 6,
     "metadata": {},
     "output_type": "execute_result"
    }
   ],
   "source": [
    "Abs(3*x - 1) - 5"
   ]
  },
  {
   "cell_type": "code",
   "execution_count": 21,
   "metadata": {},
   "outputs": [
    {
     "data": {
      "image/png": "[encoded data removed]",
      "text/latex": [
       "$$- \\frac{4}{3} \\leq x land x \\leq 2$$"
      ],
      "text/plain": [
       " 4               \n",
       "-─ ≤ x⋅land⋅x ≤ 2\n",
       " 3               "
      ]
     },
     "execution_count": 21,
     "metadata": {},
     "output_type": "execute_result"
    }
   ],
   "source": [
    "parse_latex('- \\\\frac{4}{3} \\\\leq x \\\\land x \\\\leq 2')"
   ]
  },
  {
   "cell_type": "code",
   "execution_count": 27,
   "metadata": {},
   "outputs": [
    {
     "data": {
      "text/markdown": [
       "$\\wedge$ $\\land$"
      ],
      "text/plain": [
       "<IPython.core.display.Markdown object>"
      ]
     },
     "execution_count": 27,
     "metadata": {},
     "output_type": "execute_result"
    }
   ],
   "source": [
    "md('$\\wedge$' +' '+'$\\land$')"
   ]
  },
  {
   "cell_type": "code",
   "execution_count": 4,
   "metadata": {},
   "outputs": [
    {
     "data": {
      "text/plain": [
       "'\\\\left|{3 x - 1}\\\\right| - 5'"
      ]
     },
     "execution_count": 4,
     "metadata": {},
     "output_type": "execute_result"
    }
   ],
   "source": [
    "latex(Abs(3*x - 1) - 5)"
   ]
  }
 ],
 "metadata": {
  "kernelspec": {
   "display_name": "Python 3",
   "language": "python",
   "name": "python3"
  },
  "language_info": {
   "codemirror_mode": {
    "name": "ipython",
    "version": 3
   },
   "file_extension": ".py",
   "mimetype": "text/x-python",
   "name": "python",
   "nbconvert_exporter": "python",
   "pygments_lexer": "ipython3",
   "version": "3.6.5"
  }
 },
 "nbformat": 4,
 "nbformat_minor": 2
}
