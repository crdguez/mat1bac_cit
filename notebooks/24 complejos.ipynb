{
 "cells": [
  {
   "cell_type": "code",
   "execution_count": 1,
   "metadata": {},
   "outputs": [
    {
     "name": "stdout",
     "output_type": "stream",
     "text": [
      "IPython console for SymPy 1.2 (Python 3.6.5-64-bit) (ground types: gmpy)\n",
      "\n",
      "These commands were executed:\n",
      ">>> from __future__ import division\n",
      ">>> from sympy import *\n",
      ">>> x, y, z, t = symbols('x y z t')\n",
      ">>> k, m, n = symbols('k m n', integer=True)\n",
      ">>> f, g, h = symbols('f g h', cls=Function)\n",
      ">>> init_printing()\n",
      "\n",
      "Documentation can be found at http://docs.sympy.org/1.2/\n",
      "\n"
     ]
    }
   ],
   "source": [
    "from sympy import init_session\n",
    "from sympy import div, QQ\n",
    "from sympy.parsing.latex import parse_latex\n",
    "from sympy.parsing.sympy_parser import parse_expr\n",
    "from sympy import solve_poly_system\n",
    "from IPython.display import Markdown as md\n",
    "from IPython.display import display\n",
    "import numpy as np\n",
    "import pandas as pd\n",
    "    \n",
    "\n",
    "\n",
    "\n",
    "init_session()\n",
    "\n",
    "\n",
    "a, b, c, d, k = symbols('a b c d k', real = True)\n",
    "from docparts import añadir_ejercicios, doc_ejer, escribir_preambulo, escribir_ejercicios, escribir_fin\n",
    "\n",
    "alpha = Symbol(\"alpha\")\n",
    "beta = Symbol(\"beta\")\n",
    "\n",
    "df_ejercicios = pd.DataFrame()\n",
    "\n",
    "fichero = 'complejos'\n",
    "titulo = '24 - Complejos'\n",
    "curso = '1BC'\n",
    "\n",
    "\n",
    "# x,y = symbols('x, y', real=True)\n"
   ]
  },
  {
   "cell_type": "code",
   "execution_count": 2,
   "metadata": {},
   "outputs": [],
   "source": [
    "def a_polar(binomico) :\n",
    "    return [abs(binomico), arg(binomico)]"
   ]
  },
  {
   "cell_type": "code",
   "execution_count": 3,
   "metadata": {},
   "outputs": [
    {
     "data": {
      "image/png": "[encoded data removed]",
      "text/latex": [
       "$$\\frac{\\pi}{4}$$"
      ],
      "text/plain": [
       "π\n",
       "─\n",
       "4"
      ]
     },
     "execution_count": 3,
     "metadata": {},
     "output_type": "execute_result"
    }
   ],
   "source": [
    "mod, argu = a_polar(1+I)\n",
    "argu"
   ]
  },
  {
   "cell_type": "code",
   "execution_count": 4,
   "metadata": {},
   "outputs": [
    {
     "data": {
      "image/png": "[encoded data removed]",
      "text/latex": [
       "$$\\left ( 1, \\quad 1\\right )$$"
      ],
      "text/plain": [
       "(1, 1)"
      ]
     },
     "execution_count": 4,
     "metadata": {},
     "output_type": "execute_result"
    }
   ],
   "source": [
    "a = 1+I\n",
    "a.as_real_imag()"
   ]
  },
  {
   "cell_type": "code",
   "execution_count": 5,
   "metadata": {},
   "outputs": [],
   "source": [
    "def a_binomico(polar) :\n",
    "    return(polar[0]*cos(polar[1])+polar[0]*sin(polar[1])*I)"
   ]
  },
  {
   "cell_type": "code",
   "execution_count": 6,
   "metadata": {},
   "outputs": [
    {
     "data": {
      "image/png": "[encoded data removed]",
      "text/latex": [
       "$$1 + i$$"
      ],
      "text/plain": [
       "1 + ⅈ"
      ]
     },
     "execution_count": 6,
     "metadata": {},
     "output_type": "execute_result"
    }
   ],
   "source": [
    "a_binomico([sqrt(2), pi/4])"
   ]
  },
  {
   "cell_type": "code",
   "execution_count": 7,
   "metadata": {},
   "outputs": [
    {
     "data": {
      "text/markdown": [
       "**Calcula:**"
      ],
      "text/plain": [
       "<IPython.core.display.Markdown object>"
      ]
     },
     "metadata": {},
     "output_type": "display_data"
    },
    {
     "data": {
      "text/markdown": [
       "$(7-2i)^2 + (3+4i)(5-2i) \\rightarrow 68 - 14 i$"
      ],
      "text/plain": [
       "<IPython.core.display.Markdown object>"
      ]
     },
     "metadata": {},
     "output_type": "display_data"
    },
    {
     "data": {
      "text/markdown": [
       "$(2+i)^2(3-2i) + (5-i)i^2 \\rightarrow 12 + 7 i$"
      ],
      "text/plain": [
       "<IPython.core.display.Markdown object>"
      ]
     },
     "metadata": {},
     "output_type": "display_data"
    },
    {
     "data": {
      "text/markdown": [
       "$(\\sqrt{3}  - 2i)^2 + (2\\sqrt{3}  -  5i)({1  -  2i}) \\rightarrow -11 + 2 \\sqrt{3} + i \\left(- 8 \\sqrt{3} - 5\\right)$"
      ],
      "text/plain": [
       "<IPython.core.display.Markdown object>"
      ]
     },
     "metadata": {},
     "output_type": "display_data"
    },
    {
     "data": {
      "text/markdown": [
       "$(i^7-1)(i^{16} + i^3-i^9)^5 + (1-2i)^5(1+i) \\rightarrow 0$"
      ],
      "text/plain": [
       "<IPython.core.display.Markdown object>"
      ]
     },
     "metadata": {},
     "output_type": "display_data"
    },
    {
     "data": {
      "text/markdown": [
       "$(1+i)^2+\\frac{1+i}{1-i} \\rightarrow 3 i$"
      ],
      "text/plain": [
       "<IPython.core.display.Markdown object>"
      ]
     },
     "metadata": {},
     "output_type": "display_data"
    }
   ],
   "source": [
    "# Página 45 ejercicio 1\n",
    "\n",
    "texto_ejercicio = 'Calcula:'\n",
    "n_ejercicio = 'p045e01'\n",
    "\n",
    "display(md(\"**\"+texto_ejercicio+\"**\"))\n",
    "\n",
    "enunciado_latex = [r'(7-2i)^2 + (3+4i)(5-2i)',\n",
    "                   r'(2+i)^2(3-2i) + (5-i)i^2',\n",
    "                   r'(\\sqrt{3}  - 2i)^2 + (2\\sqrt{3}  -  5i)({1  -  2i})',\n",
    "                   r'(i^7-1)(i^{16} + i^3-i^9)^5 + (1-2i)^5(1+i)',\n",
    "                   r'(1+i)^2+\\frac{1+i}{1-i}'\n",
    "                   \n",
    "                  ]\n",
    "                                       \n",
    "\n",
    "\n",
    "\n",
    "\n",
    "enunciado, solucion = [], []\n",
    "\n",
    "for i, s in enumerate(enunciado_latex) :\n",
    "    enunciado.append(parse_latex(s))\n",
    "    solucion.append(latex(nsimplify(eval(str(parse_latex(s)).replace('i','I'))))) \n",
    "    display(md(\"$\"+ enunciado_latex[i] +\" \\\\rightarrow \" + solucion[i] +\"$\"))\n",
    "\n",
    "df_ejercicios = df_ejercicios.append(añadir_ejercicios(enunciado_latex, enunciado, solucion, texto_ejercicio, curso, titulo , n_ejercicio, '1', '2'), ignore_index=True)\n"
   ]
  },
  {
   "cell_type": "code",
   "execution_count": 8,
   "metadata": {},
   "outputs": [
    {
     "data": {
      "text/markdown": [
       "**Halla el valor de k, sabiendo que se cumple:**"
      ],
      "text/plain": [
       "<IPython.core.display.Markdown object>"
      ]
     },
     "metadata": {},
     "output_type": "display_data"
    },
    {
     "data": {
      "text/markdown": [
       "$(k+5i) + (3+i) = (1+5i) + (-k+i) \\rightarrow \\left [ -1\\right ]$"
      ],
      "text/plain": [
       "<IPython.core.display.Markdown object>"
      ]
     },
     "metadata": {},
     "output_type": "display_data"
    },
    {
     "data": {
      "text/markdown": [
       "$(1+3i)(k+2i) = 13+59i \\rightarrow \\left \\{ k : 19\\right \\}$"
      ],
      "text/plain": [
       "<IPython.core.display.Markdown object>"
      ]
     },
     "metadata": {},
     "output_type": "display_data"
    },
    {
     "data": {
      "text/markdown": [
       "$k+\\frac{4}{5}i=\\frac{5+i}{3-i} \\rightarrow \\left [ \\frac{7}{5}\\right ]$"
      ],
      "text/plain": [
       "<IPython.core.display.Markdown object>"
      ]
     },
     "metadata": {},
     "output_type": "display_data"
    }
   ],
   "source": [
    "# Página 45 ejercicio 2\n",
    "\n",
    "texto_ejercicio = 'Halla el valor de k, sabiendo que se cumple:'\n",
    "n_ejercicio = 'p045e02'\n",
    "\n",
    "display(md(\"**\"+texto_ejercicio+\"**\"))\n",
    "\n",
    "enunciado_latex = [r'(k+5i) + (3+i) = (1+5i) + (-k+i)',\n",
    "                   r'(1+3i)(k+2i) = 13+59i',\n",
    "                   r'k+\\frac{4}{5}i=\\frac{5+i}{3-i}',\n",
    "                   \n",
    "                   \n",
    "                  ]\n",
    "                                       \n",
    "\n",
    "\n",
    "\n",
    "\n",
    "enunciado, solucion = [], []\n",
    "\n",
    "for i, s in enumerate(enunciado_latex) :\n",
    "    enunciado.append(parse_latex(s))\n",
    "    solucion.append(latex(solve(nsimplify(eval(str(parse_latex(s).replace('i','I'))))))) \n",
    "    display(md(\"$\"+ enunciado_latex[i] +\" \\\\rightarrow \" + solucion[i] +\"$\"))\n",
    "\n",
    "df_ejercicios = df_ejercicios.append(añadir_ejercicios(enunciado_latex, enunciado, solucion, texto_ejercicio, curso, titulo , n_ejercicio, '1', '2'), ignore_index=True)\n"
   ]
  },
  {
   "cell_type": "code",
   "execution_count": 9,
   "metadata": {},
   "outputs": [
    {
     "data": {
      "text/markdown": [
       "**Calcula el inverso de los siguientes números complejos:**"
      ],
      "text/plain": [
       "<IPython.core.display.Markdown object>"
      ]
     },
     "metadata": {},
     "output_type": "display_data"
    },
    {
     "data": {
      "text/markdown": [
       "$-1 + 2i \\rightarrow - \\frac{1}{5} - \\frac{2 i}{5}$"
      ],
      "text/plain": [
       "<IPython.core.display.Markdown object>"
      ]
     },
     "metadata": {},
     "output_type": "display_data"
    },
    {
     "data": {
      "text/markdown": [
       "$3-\\sqrt{2}i \\rightarrow \\frac{3}{11} + \\frac{\\sqrt{2} i}{11}$"
      ],
      "text/plain": [
       "<IPython.core.display.Markdown object>"
      ]
     },
     "metadata": {},
     "output_type": "display_data"
    },
    {
     "data": {
      "text/markdown": [
       "$\\frac{1}{3}-\\frac{1}{2}i \\rightarrow \\frac{12}{13} + \\frac{18 i}{13}$"
      ],
      "text/plain": [
       "<IPython.core.display.Markdown object>"
      ]
     },
     "metadata": {},
     "output_type": "display_data"
    }
   ],
   "source": [
    "# Página 45 ejercicio 3\n",
    "\n",
    "texto_ejercicio = 'Calcula el inverso de los siguientes números complejos:'\n",
    "n_ejercicio = 'p045e03'\n",
    "\n",
    "display(md(\"**\"+texto_ejercicio+\"**\"))\n",
    "\n",
    "enunciado_latex = [r'-1 + 2i',\n",
    "                   r'3-\\sqrt{2}i', \n",
    "                   r'\\frac{1}{3}-\\frac{1}{2}i'\n",
    "                  ]\n",
    "                                       \n",
    "\n",
    "\n",
    "\n",
    "\n",
    "enunciado, solucion = [], []\n",
    "\n",
    "for i, s in enumerate(enunciado_latex) :\n",
    "    enunciado.append(parse_latex(s))\n",
    "    solucion.append(latex(nsimplify(1/(eval(str(parse_latex(s)).replace('i','I')))))) \n",
    "    display(md(\"$\"+ enunciado_latex[i] +\" \\\\rightarrow \" + solucion[i] +\"$\"))\n",
    "\n",
    "df_ejercicios = df_ejercicios.append(añadir_ejercicios(enunciado_latex, enunciado, solucion, texto_ejercicio, curso, titulo , n_ejercicio, '1', '2'), ignore_index=True)\n"
   ]
  },
  {
   "cell_type": "code",
   "execution_count": 10,
   "metadata": {},
   "outputs": [
    {
     "data": {
      "text/markdown": [
       "**Calcular el valor de k para que la siguiente expresión sea a) real y b) imaginario:**"
      ],
      "text/plain": [
       "<IPython.core.display.Markdown object>"
      ]
     },
     "metadata": {},
     "output_type": "display_data"
    },
    {
     "data": {
      "text/markdown": [
       "$\\frac{{k - 2i}}{{3 + 4i}} \\rightarrow \\frac{3 k}{25} - \\frac{4 i k}{25} - \\frac{8}{25} - \\frac{6 i}{25}\\to\\left [ - \\frac{3}{2}\\right ]\\land\\left [ \\frac{8}{3}\\right ]$"
      ],
      "text/plain": [
       "<IPython.core.display.Markdown object>"
      ]
     },
     "metadata": {},
     "output_type": "display_data"
    },
    {
     "data": {
      "text/markdown": [
       "$k-2+(\\frac{1}{4}+k)i \\rightarrow k + i k - 2 + \\frac{i}{4}\\to\\left [ - \\frac{1}{4}\\right ]\\land\\left [ 2\\right ]$"
      ],
      "text/plain": [
       "<IPython.core.display.Markdown object>"
      ]
     },
     "metadata": {},
     "output_type": "display_data"
    }
   ],
   "source": [
    "# Página 45 ejercicio 4 y 14\n",
    "\n",
    "\n",
    "\n",
    "texto_ejercicio = 'Calcular el valor de k para que la siguiente expresión sea a) real y b) imaginario:'\n",
    "n_ejercicio = 'p045e04y14'\n",
    "\n",
    "display(md(\"**\"+texto_ejercicio+\"**\"))\n",
    "\n",
    "enunciado_latex = [r'\\frac{{k - 2i}}{{3 + 4i}}', \n",
    "                   r'k-2+(\\frac{1}{4}+k)i'\n",
    "                   \n",
    "                   \n",
    "                  ]\n",
    "                                       \n",
    "\n",
    "\n",
    "\n",
    "\n",
    "enunciado, solucion = [], []\n",
    "\n",
    "for i, s in enumerate(enunciado_latex) :\n",
    "    enunciado.append(parse_latex(s))\n",
    "    solucion.append(latex(expand(nsimplify(eval(str(parse_latex(s).replace('i','I'))))))+\"\\\\to\"+latex(solve(im(nsimplify(eval(str(parse_latex(s).replace('i','I')))))))+\"\\land\"+latex(solve(re(simplify(eval(str(parse_latex(s).replace('i','I')))))))) \n",
    "    display(md(\"$\"+ enunciado_latex[i] +\" \\\\rightarrow \" + solucion[i] +\"$\"))\n",
    "\n",
    "df_ejercicios = df_ejercicios.append(añadir_ejercicios(enunciado_latex, enunciado, solucion, texto_ejercicio, curso, titulo , n_ejercicio, '1', '2'), ignore_index=True)\n"
   ]
  },
  {
   "cell_type": "code",
   "execution_count": 11,
   "metadata": {},
   "outputs": [
    {
     "data": {
      "text/markdown": [
       "**Determina el valor que debe tener k para que la siguiente expresión sea un número real.**"
      ],
      "text/plain": [
       "<IPython.core.display.Markdown object>"
      ]
     },
     "metadata": {},
     "output_type": "display_data"
    },
    {
     "data": {
      "text/markdown": [
       "$(k-i)^3 \\rightarrow k^{3} - 3 i k^{2} - 3 k + i\\to\\left [ - \\frac{\\sqrt{3}}{3}, \\quad \\frac{\\sqrt{3}}{3}\\right ]$"
      ],
      "text/plain": [
       "<IPython.core.display.Markdown object>"
      ]
     },
     "metadata": {},
     "output_type": "display_data"
    }
   ],
   "source": [
    "# Página 45 ejercicio 5\n",
    "\n",
    "\n",
    "\n",
    "texto_ejercicio = 'Determina el valor que debe tener k para que la siguiente expresión sea un número real.'\n",
    "n_ejercicio = 'p045e05'\n",
    "\n",
    "display(md(\"**\"+texto_ejercicio+\"**\"))\n",
    "\n",
    "enunciado_latex = [r'(k-i)^3',                 \n",
    "                   \n",
    "                   \n",
    "                  ]\n",
    "                                       \n",
    "\n",
    "\n",
    "\n",
    "\n",
    "\n",
    "enunciado, solucion = [], []\n",
    "\n",
    "for i, s in enumerate(enunciado_latex) :\n",
    "    enunciado.append(parse_latex(s))\n",
    "    solucion.append(latex(expand(simplify(eval(str(parse_latex(s).replace('i','I'))))))+\"\\\\to\"+latex(solve(im(simplify(eval(str(parse_latex(s).replace('i','I')))))))) \n",
    "    display(md(\"$\"+ enunciado_latex[i] +\" \\\\rightarrow \" + solucion[i] +\"$\"))\n",
    "\n",
    "df_ejercicios = df_ejercicios.append(añadir_ejercicios(enunciado_latex, enunciado, solucion, texto_ejercicio, curso, titulo , n_ejercicio, '1', '2'), ignore_index=True)\n"
   ]
  },
  {
   "cell_type": "code",
   "execution_count": 12,
   "metadata": {},
   "outputs": [
    {
     "data": {
      "text/markdown": [
       "**Dados los siguientes números complejos, indica sus afijos:**"
      ],
      "text/plain": [
       "<IPython.core.display.Markdown object>"
      ]
     },
     "metadata": {},
     "output_type": "display_data"
    },
    {
     "data": {
      "text/markdown": [
       "$1+i \\rightarrow \\left ( 1, \\quad 1\\right )$"
      ],
      "text/plain": [
       "<IPython.core.display.Markdown object>"
      ]
     },
     "metadata": {},
     "output_type": "display_data"
    },
    {
     "data": {
      "text/markdown": [
       "$(1+i)i \\rightarrow \\left ( -1, \\quad 1\\right )$"
      ],
      "text/plain": [
       "<IPython.core.display.Markdown object>"
      ]
     },
     "metadata": {},
     "output_type": "display_data"
    },
    {
     "data": {
      "text/markdown": [
       "$(1+i)i\\cdot i \\rightarrow \\left ( -1, \\quad -1\\right )$"
      ],
      "text/plain": [
       "<IPython.core.display.Markdown object>"
      ]
     },
     "metadata": {},
     "output_type": "display_data"
    },
    {
     "data": {
      "text/markdown": [
       "$(1+i)i\\cdot i \\cdot i \\rightarrow \\left ( 1, \\quad -1\\right )$"
      ],
      "text/plain": [
       "<IPython.core.display.Markdown object>"
      ]
     },
     "metadata": {},
     "output_type": "display_data"
    },
    {
     "data": {
      "text/markdown": [
       "$i \\rightarrow \\left ( 0, \\quad 1\\right )$"
      ],
      "text/plain": [
       "<IPython.core.display.Markdown object>"
      ]
     },
     "metadata": {},
     "output_type": "display_data"
    },
    {
     "data": {
      "text/markdown": [
       "$\\frac{1}{2}(-1+\\sqrt{3}i) \\cdot i \\rightarrow \\left ( - 0.5 \\sqrt{3}, \\quad -0.5\\right )$"
      ],
      "text/plain": [
       "<IPython.core.display.Markdown object>"
      ]
     },
     "metadata": {},
     "output_type": "display_data"
    },
    {
     "data": {
      "text/markdown": [
       "$\\frac{1}{2}(-1+\\sqrt{3}i) \\cdot \\frac{1}{2}(-1+\\sqrt{3}i) \\cdot i \\rightarrow \\left ( 0.5 \\sqrt{3}, \\quad -0.5\\right )$"
      ],
      "text/plain": [
       "<IPython.core.display.Markdown object>"
      ]
     },
     "metadata": {},
     "output_type": "display_data"
    }
   ],
   "source": [
    "# Página 45 ejercicio 6\n",
    "\n",
    "\n",
    "\n",
    "texto_ejercicio = 'Dados los siguientes números complejos, indica sus afijos:'\n",
    "n_ejercicio = 'p045e06y7'\n",
    "\n",
    "display(md(\"**\"+texto_ejercicio+\"**\"))\n",
    "\n",
    "enunciado_latex = [r'1+i', \n",
    "                   r'(1+i)i',\n",
    "                   r'(1+i)i\\cdot i',\n",
    "                   r'(1+i)i\\cdot i \\cdot i',\n",
    "                   r'i',\n",
    "                   r'\\frac{1}{2}(-1+\\sqrt{3}i) \\cdot i',\n",
    "                   r'\\frac{1}{2}(-1+\\sqrt{3}i) \\cdot \\frac{1}{2}(-1+\\sqrt{3}i) \\cdot i'\n",
    "                   \n",
    "                   \n",
    "                   \n",
    "                  ]\n",
    "                                       \n",
    "\n",
    "\n",
    "\n",
    "\n",
    "enunciado, solucion = [], []\n",
    "\n",
    "for i, s in enumerate(enunciado_latex) :\n",
    "    enunciado.append(parse_latex(s))\n",
    "    solucion.append(latex(expand(simplify(eval(str(parse_latex(s).replace('i','I'))))).as_real_imag())) \n",
    "    display(md(\"$\"+ enunciado_latex[i] +\" \\\\rightarrow \" + solucion[i] +\"$\"))\n",
    "\n",
    "df_ejercicios = df_ejercicios.append(añadir_ejercicios(enunciado_latex, enunciado, solucion, texto_ejercicio, curso, titulo , n_ejercicio, '1', '2'), ignore_index=True)\n"
   ]
  },
  {
   "cell_type": "code",
   "execution_count": 13,
   "metadata": {},
   "outputs": [
    {
     "data": {
      "text/markdown": [
       "**Dado el siguiente número $z$, calcula el valor de $z\\cdot\\overline{z}$**"
      ],
      "text/plain": [
       "<IPython.core.display.Markdown object>"
      ]
     },
     "metadata": {},
     "output_type": "display_data"
    },
    {
     "data": {
      "text/markdown": [
       "$\\sqrt{3}-2i \\rightarrow 7$"
      ],
      "text/plain": [
       "<IPython.core.display.Markdown object>"
      ]
     },
     "metadata": {},
     "output_type": "display_data"
    }
   ],
   "source": [
    "# Página 45 ejercicio 11\n",
    "\n",
    "\n",
    "\n",
    "texto_ejercicio = 'Dado el siguiente número $z$, calcula el valor de $z\\cdot\\overline{z}$'\n",
    "n_ejercicio = 'p045e11'\n",
    "\n",
    "display(md(\"**\"+texto_ejercicio+\"**\"))\n",
    "\n",
    "enunciado_latex = [r'\\sqrt{3}-2i',                 \n",
    "                   \n",
    "                   \n",
    "                  ]\n",
    "                                       \n",
    "\n",
    "\n",
    "\n",
    "\n",
    "enunciado, solucion = [], []\n",
    "\n",
    "for i, s in enumerate(enunciado_latex) :\n",
    "    enunciado.append(parse_latex(s))\n",
    "    solucion.append(latex(expand(simplify(eval(str(parse_latex(s).replace('i','I'))))*conjugate(simplify(eval(str(parse_latex(s).replace('i','I')))))))) \n",
    "    display(md(\"$\"+ enunciado_latex[i] +\" \\\\rightarrow \" + solucion[i] +\"$\"))\n",
    "\n",
    "df_ejercicios = df_ejercicios.append(añadir_ejercicios(enunciado_latex, enunciado, solucion, texto_ejercicio, curso, titulo , n_ejercicio, '1', '2'), ignore_index=True)\n"
   ]
  },
  {
   "cell_type": "code",
   "execution_count": 14,
   "metadata": {},
   "outputs": [
    {
     "data": {
      "text/markdown": [
       "**Dado el siguiente número $z$, calcula el valor de $\\frac{z-\\overline{z}}{z+\\overline{z}}$**"
      ],
      "text/plain": [
       "<IPython.core.display.Markdown object>"
      ]
     },
     "metadata": {},
     "output_type": "display_data"
    },
    {
     "data": {
      "text/markdown": [
       "$4-2i \\rightarrow - \\frac{i}{2}$"
      ],
      "text/plain": [
       "<IPython.core.display.Markdown object>"
      ]
     },
     "metadata": {},
     "output_type": "display_data"
    }
   ],
   "source": [
    "# Página 45 ejercicio 12\n",
    "\n",
    "\n",
    "\n",
    "texto_ejercicio = 'Dado el siguiente número $z$, calcula el valor de $\\\\frac{z-\\overline{z}}{z+\\overline{z}}$'\n",
    "n_ejercicio = 'p045e11'\n",
    "\n",
    "display(md(\"**\"+texto_ejercicio+\"**\"))\n",
    "\n",
    "enunciado_latex = [r'4-2i',                 \n",
    "                   \n",
    "                   \n",
    "                  ]\n",
    "                                       \n",
    "\n",
    "\n",
    "\n",
    "\n",
    "enunciado, solucion = [], []\n",
    "\n",
    "for i, s in enumerate(enunciado_latex) :\n",
    "    enunciado.append(parse_latex(s))\n",
    "    solucion.append(latex((simplify(eval(str(parse_latex(s).replace('i','I'))))-conjugate(simplify(eval(str(parse_latex(s).replace('i','I'))))))/((simplify(eval(str(parse_latex(s).replace('i','I')))))+conjugate(simplify(eval(str(parse_latex(s).replace('i','I')))))))) \n",
    "    display(md(\"$\"+ enunciado_latex[i] +\" \\\\rightarrow \" + solucion[i] +\"$\"))\n",
    "\n",
    "df_ejercicios = df_ejercicios.append(añadir_ejercicios(enunciado_latex, enunciado, solucion, texto_ejercicio, curso, titulo , n_ejercicio, '1', '2'), ignore_index=True)\n"
   ]
  },
  {
   "cell_type": "code",
   "execution_count": 15,
   "metadata": {},
   "outputs": [
    {
     "data": {
      "text/markdown": [
       "**Calcula**"
      ],
      "text/plain": [
       "<IPython.core.display.Markdown object>"
      ]
     },
     "metadata": {},
     "output_type": "display_data"
    },
    {
     "data": {
      "text/markdown": [
       "$(5-i)(3+2i) \\rightarrow 17 + 7 i$"
      ],
      "text/plain": [
       "<IPython.core.display.Markdown object>"
      ]
     },
     "metadata": {},
     "output_type": "display_data"
    },
    {
     "data": {
      "text/markdown": [
       "$(2+\\frac{1}{3}i)(-5-i) \\rightarrow - \\frac{29}{3} - \\frac{11 i}{3}$"
      ],
      "text/plain": [
       "<IPython.core.display.Markdown object>"
      ]
     },
     "metadata": {},
     "output_type": "display_data"
    },
    {
     "data": {
      "text/markdown": [
       "$(2-i)(2+i) \\rightarrow 5$"
      ],
      "text/plain": [
       "<IPython.core.display.Markdown object>"
      ]
     },
     "metadata": {},
     "output_type": "display_data"
    },
    {
     "data": {
      "text/markdown": [
       "$(3-\\frac{1}{4}i)(2-i)(3+2i) \\rightarrow \\frac{97}{4} + i$"
      ],
      "text/plain": [
       "<IPython.core.display.Markdown object>"
      ]
     },
     "metadata": {},
     "output_type": "display_data"
    },
    {
     "data": {
      "text/markdown": [
       "$\\frac{2-i}{1+3i} \\rightarrow - \\frac{1}{10} - \\frac{7 i}{10}$"
      ],
      "text/plain": [
       "<IPython.core.display.Markdown object>"
      ]
     },
     "metadata": {},
     "output_type": "display_data"
    },
    {
     "data": {
      "text/markdown": [
       "$\\frac{{\\sqrt{2} - 3i}}{{2 + i}} \\rightarrow - \\frac{3}{5} + \\frac{2 \\sqrt{2}}{5} - \\frac{6 i}{5} - \\frac{\\sqrt{2} i}{5}$"
      ],
      "text/plain": [
       "<IPython.core.display.Markdown object>"
      ]
     },
     "metadata": {},
     "output_type": "display_data"
    },
    {
     "data": {
      "text/markdown": [
       "$\\frac{1}{{3 - i}} \\rightarrow \\frac{3}{10} + \\frac{i}{10}$"
      ],
      "text/plain": [
       "<IPython.core.display.Markdown object>"
      ]
     },
     "metadata": {},
     "output_type": "display_data"
    },
    {
     "data": {
      "text/markdown": [
       "$\\frac{{3i}}{{2 - 4i}} \\rightarrow - \\frac{3}{5} + \\frac{3 i}{10}$"
      ],
      "text/plain": [
       "<IPython.core.display.Markdown object>"
      ]
     },
     "metadata": {},
     "output_type": "display_data"
    },
    {
     "data": {
      "text/markdown": [
       "$\\frac{{5 - i}}{i} \\rightarrow -1 - 5 i$"
      ],
      "text/plain": [
       "<IPython.core.display.Markdown object>"
      ]
     },
     "metadata": {},
     "output_type": "display_data"
    },
    {
     "data": {
      "text/markdown": [
       "$\\frac{1 + 2i}{3 + 3i} \\rightarrow \\frac{1}{2} + \\frac{i}{6}$"
      ],
      "text/plain": [
       "<IPython.core.display.Markdown object>"
      ]
     },
     "metadata": {},
     "output_type": "display_data"
    },
    {
     "data": {
      "text/markdown": [
       "$({\\sqrt {2}  - i})\\frac{{\\sqrt{ 2} +i}}{{1 - 2i}} \\rightarrow \\frac{3}{5} + \\frac{6 i}{5}$"
      ],
      "text/plain": [
       "<IPython.core.display.Markdown object>"
      ]
     },
     "metadata": {},
     "output_type": "display_data"
    },
    {
     "data": {
      "text/markdown": [
       "$( {2\\sqrt {3} - i})\\frac{{\\sqrt {3} i}}{{1 + i}} \\rightarrow \\frac{\\sqrt{3}}{2} + 3 - \\frac{\\sqrt{3} i}{2} + 3 i$"
      ],
      "text/plain": [
       "<IPython.core.display.Markdown object>"
      ]
     },
     "metadata": {},
     "output_type": "display_data"
    },
    {
     "data": {
      "text/markdown": [
       "$\\frac{{1 - i}}{{3 + 2i}}\\frac{{2i}}{{1 + i}} \\rightarrow \\frac{6}{13} - \\frac{4 i}{13}$"
      ],
      "text/plain": [
       "<IPython.core.display.Markdown object>"
      ]
     },
     "metadata": {},
     "output_type": "display_data"
    },
    {
     "data": {
      "text/markdown": [
       "$\\frac{{\\sqrt {2} }}{{ - 2 - i}}\\frac{1}{{2 + 3i}} \\rightarrow - \\frac{\\sqrt{2}}{65} + \\frac{8 \\sqrt{2} i}{65}$"
      ],
      "text/plain": [
       "<IPython.core.display.Markdown object>"
      ]
     },
     "metadata": {},
     "output_type": "display_data"
    }
   ],
   "source": [
    "# Página 45 ejercicio 17\n",
    "\n",
    "\n",
    "\n",
    "texto_ejercicio = 'Calcula'\n",
    "n_ejercicio = 'p045e17'\n",
    "\n",
    "display(md(\"**\"+texto_ejercicio+\"**\"))\n",
    "\n",
    "enunciado_latex = [r'(5-i)(3+2i)',\n",
    "                   r'(2+\\frac{1}{3}i)(-5-i)',\n",
    "                   r'(2-i)(2+i)',\n",
    "                   r'(3-\\frac{1}{4}i)(2-i)(3+2i)',\n",
    "                   r'\\frac{2-i}{1+3i}',\n",
    "                   r'\\frac{{\\sqrt{2} - 3i}}{{2 + i}}',\n",
    "                   r'\\frac{1}{{3 - i}}',\n",
    "                   r'\\frac{{3i}}{{2 - 4i}}',\n",
    "                   r'\\frac{{5 - i}}{i}',\n",
    "                   r'\\frac{1 + 2i}{3 + 3i}',\n",
    "                   r'({\\sqrt {2}  - i})\\frac{{\\sqrt{ 2} +i}}{{1 - 2i}}',\n",
    "                   r'( {2\\sqrt {3} - i})\\frac{{\\sqrt {3} i}}{{1 + i}}',\n",
    "                   r'\\frac{{1 - i}}{{3 + 2i}}\\frac{{2i}}{{1 + i}}',\n",
    "                   r'\\frac{{\\sqrt {2} }}{{ - 2 - i}}\\frac{1}{{2 + 3i}}'\n",
    "                   \n",
    "                  ]\n",
    "                                       \n",
    "\n",
    "\n",
    "\n",
    "\n",
    "enunciado, solucion = [], []\n",
    "\n",
    "for i, s in enumerate(enunciado_latex) :\n",
    "    enunciado.append(parse_latex(s))\n",
    "    solucion.append(latex(expand(nsimplify(eval(str(parse_latex(s).replace('i','I'))))))) \n",
    "    display(md(\"$\"+ enunciado_latex[i] +\" \\\\rightarrow \" + solucion[i] +\"$\"))\n",
    "\n",
    "df_ejercicios = df_ejercicios.append(añadir_ejercicios(enunciado_latex, enunciado, solucion, texto_ejercicio, curso, titulo , n_ejercicio, '1', '2'), ignore_index=True)\n"
   ]
  },
  {
   "cell_type": "code",
   "execution_count": 16,
   "metadata": {},
   "outputs": [
    {
     "data": {
      "text/markdown": [
       "**Calcular el módulo y el argumento (en radianes) de los siguientes números complejos:**"
      ],
      "text/plain": [
       "<IPython.core.display.Markdown object>"
      ]
     },
     "metadata": {},
     "output_type": "display_data"
    },
    {
     "data": {
      "text/markdown": [
       "$2 - 2\\sqrt {3}i \\rightarrow 4_{- \\frac{\\pi}{3}}$"
      ],
      "text/plain": [
       "<IPython.core.display.Markdown object>"
      ]
     },
     "metadata": {},
     "output_type": "display_data"
    },
    {
     "data": {
      "text/markdown": [
       "$-1-i \\rightarrow \\sqrt{2}_{- \\frac{3 \\pi}{4}}$"
      ],
      "text/plain": [
       "<IPython.core.display.Markdown object>"
      ]
     },
     "metadata": {},
     "output_type": "display_data"
    },
    {
     "data": {
      "text/markdown": [
       "$\\sqrt {3}  + i \\rightarrow 2_{\\frac{\\pi}{6}}$"
      ],
      "text/plain": [
       "<IPython.core.display.Markdown object>"
      ]
     },
     "metadata": {},
     "output_type": "display_data"
    },
    {
     "data": {
      "text/markdown": [
       "$2\\sqrt{3}+2i \\rightarrow 4_{\\frac{\\pi}{6}}$"
      ],
      "text/plain": [
       "<IPython.core.display.Markdown object>"
      ]
     },
     "metadata": {},
     "output_type": "display_data"
    },
    {
     "data": {
      "text/markdown": [
       "$2-2i \\rightarrow 2 \\sqrt{2}_{- \\frac{\\pi}{4}}$"
      ],
      "text/plain": [
       "<IPython.core.display.Markdown object>"
      ]
     },
     "metadata": {},
     "output_type": "display_data"
    },
    {
     "data": {
      "text/markdown": [
       "$ -5-5i \\rightarrow 5 \\sqrt{2}_{- \\frac{3 \\pi}{4}}$"
      ],
      "text/plain": [
       "<IPython.core.display.Markdown object>"
      ]
     },
     "metadata": {},
     "output_type": "display_data"
    },
    {
     "data": {
      "text/markdown": [
       "$5i \\rightarrow 5_{\\frac{\\pi}{2}}$"
      ],
      "text/plain": [
       "<IPython.core.display.Markdown object>"
      ]
     },
     "metadata": {},
     "output_type": "display_data"
    },
    {
     "data": {
      "text/markdown": [
       "$4 \\rightarrow 4_{0}$"
      ],
      "text/plain": [
       "<IPython.core.display.Markdown object>"
      ]
     },
     "metadata": {},
     "output_type": "display_data"
    },
    {
     "data": {
      "text/markdown": [
       "$1+i \\rightarrow \\sqrt{2}_{\\frac{\\pi}{4}}$"
      ],
      "text/plain": [
       "<IPython.core.display.Markdown object>"
      ]
     },
     "metadata": {},
     "output_type": "display_data"
    },
    {
     "data": {
      "text/markdown": [
       "$-9i \\rightarrow 9_{- \\frac{\\pi}{2}}$"
      ],
      "text/plain": [
       "<IPython.core.display.Markdown object>"
      ]
     },
     "metadata": {},
     "output_type": "display_data"
    },
    {
     "data": {
      "text/markdown": [
       "$-3+3i \\rightarrow 3 \\sqrt{2}_{\\frac{3 \\pi}{4}}$"
      ],
      "text/plain": [
       "<IPython.core.display.Markdown object>"
      ]
     },
     "metadata": {},
     "output_type": "display_data"
    },
    {
     "data": {
      "text/markdown": [
       "$\\sqrt{3}+i \\rightarrow 2_{\\frac{\\pi}{6}}$"
      ],
      "text/plain": [
       "<IPython.core.display.Markdown object>"
      ]
     },
     "metadata": {},
     "output_type": "display_data"
    }
   ],
   "source": [
    "# Página 46 ejercicio 31\n",
    "\n",
    "\n",
    "\n",
    "texto_ejercicio = 'Calcular el módulo y el argumento (en radianes) de los siguientes números complejos:'\n",
    "n_ejercicio = 'p046e31y 32'\n",
    "\n",
    "display(md(\"**\"+texto_ejercicio+\"**\"))\n",
    "\n",
    "enunciado_latex = [r'2 - 2\\sqrt {3}i',\n",
    "                   r'-1-i',\n",
    "                   r'\\sqrt {3}  + i',\n",
    "                   r'2\\sqrt{3}+2i',\n",
    "                   r'2-2i',\n",
    "                   r' -5-5i',\n",
    "                   r'5i',\n",
    "                   r'4',\n",
    "                   r'1+i',\n",
    "                   r'-9i',\n",
    "                   r'-3+3i',\n",
    "                   r'\\sqrt{3}+i'\n",
    "                   \n",
    "                  ]\n",
    "                                       \n",
    "\n",
    "\n",
    "\n",
    "\n",
    "enunciado, solucion = [], []\n",
    "\n",
    "for i, s in enumerate(enunciado_latex) :\n",
    "    enunciado.append(parse_latex(s))\n",
    "    mod, argu = a_polar(eval(str(parse_latex(s).replace('i','I'))))\n",
    "    solucion.append(latex(mod)+\"_{\"+latex(argu)+\"}\") \n",
    "    display(md(\"$\"+ enunciado_latex[i] +\" \\\\rightarrow \" + solucion[i] +\"$\"))\n",
    "\n",
    "df_ejercicios = df_ejercicios.append(añadir_ejercicios(enunciado_latex, enunciado, solucion, texto_ejercicio, curso, titulo , n_ejercicio, '1', '2'), ignore_index=True)\n"
   ]
  },
  {
   "cell_type": "code",
   "execution_count": 17,
   "metadata": {},
   "outputs": [
    {
     "data": {
      "text/markdown": [
       "**Escribe en forma binómica los siguientes números complejos:**"
      ],
      "text/plain": [
       "<IPython.core.display.Markdown object>"
      ]
     },
     "metadata": {},
     "output_type": "display_data"
    },
    {
     "data": {
      "text/markdown": [
       "$2_{\\frac{\\pi}{4}} \\rightarrow \\sqrt{2} + \\sqrt{2} i$"
      ],
      "text/plain": [
       "<IPython.core.display.Markdown object>"
      ]
     },
     "metadata": {},
     "output_type": "display_data"
    },
    {
     "data": {
      "text/markdown": [
       "$3_{\\frac{\\pi}{6}} \\rightarrow \\frac{3 \\sqrt{3}}{2} + \\frac{3 i}{2}$"
      ],
      "text/plain": [
       "<IPython.core.display.Markdown object>"
      ]
     },
     "metadata": {},
     "output_type": "display_data"
    },
    {
     "data": {
      "text/markdown": [
       "$\\sqrt{2}_{\\pi} \\rightarrow - \\sqrt{2}$"
      ],
      "text/plain": [
       "<IPython.core.display.Markdown object>"
      ]
     },
     "metadata": {},
     "output_type": "display_data"
    },
    {
     "data": {
      "text/markdown": [
       "$17_{0} \\rightarrow 17$"
      ],
      "text/plain": [
       "<IPython.core.display.Markdown object>"
      ]
     },
     "metadata": {},
     "output_type": "display_data"
    },
    {
     "data": {
      "text/markdown": [
       "$1_{\\frac{\\pi}{2}} \\rightarrow i$"
      ],
      "text/plain": [
       "<IPython.core.display.Markdown object>"
      ]
     },
     "metadata": {},
     "output_type": "display_data"
    },
    {
     "data": {
      "text/markdown": [
       "$5_{\\frac{3 \\pi}{2}} \\rightarrow - 5 i$"
      ],
      "text/plain": [
       "<IPython.core.display.Markdown object>"
      ]
     },
     "metadata": {},
     "output_type": "display_data"
    },
    {
     "data": {
      "text/markdown": [
       "$1_{\\frac{5 \\pi}{6}} \\rightarrow - \\frac{\\sqrt{3}}{2} + \\frac{i}{2}$"
      ],
      "text/plain": [
       "<IPython.core.display.Markdown object>"
      ]
     },
     "metadata": {},
     "output_type": "display_data"
    },
    {
     "data": {
      "text/markdown": [
       "$4_{\\frac{2 \\pi}{3}} \\rightarrow -2 + 2 \\sqrt{3} i$"
      ],
      "text/plain": [
       "<IPython.core.display.Markdown object>"
      ]
     },
     "metadata": {},
     "output_type": "display_data"
    }
   ],
   "source": [
    "# Página 46 ejercicio 34\n",
    "\n",
    "\n",
    "\n",
    "texto_ejercicio = 'Escribe en forma binómica los siguientes números complejos:'\n",
    "n_ejercicio = 'p046e34'\n",
    "\n",
    "display(md(\"**\"+texto_ejercicio+\"**\"))\n",
    "\n",
    "enunciado = [[2,pi/4],\n",
    "             [3,pi/6],\n",
    "             [sqrt(2),pi],\n",
    "             [17,0],\n",
    "             [1,pi/2],\n",
    "             [5,3*pi/2],\n",
    "             [1,5*pi/6],\n",
    "             [4,2*pi/3],\n",
    "                   \n",
    "                  ]\n",
    "                                       \n",
    "\n",
    "\n",
    "\n",
    "\n",
    "enunciado_latex, solucion = [], []\n",
    "\n",
    "for i, s in enumerate(enunciado) :\n",
    "    enunciado_latex.append(latex(s[0])+\"_{\"+latex(s[1])+\"}\")\n",
    "    solucion.append(latex(a_binomico(s))) \n",
    "    display(md(\"$\"+ enunciado_latex[i] +\" \\\\rightarrow \" + solucion[i] +\"$\"))\n",
    "\n",
    "df_ejercicios = df_ejercicios.append(añadir_ejercicios(enunciado_latex, enunciado, solucion, texto_ejercicio, curso, titulo , n_ejercicio, '1', '2'), ignore_index=True)\n"
   ]
  },
  {
   "cell_type": "code",
   "execution_count": 18,
   "metadata": {},
   "outputs": [
    {
     "data": {
      "text/markdown": [
       "**Determina el valor que debe tener k para que la siguiente expresión sea un número real.**"
      ],
      "text/plain": [
       "<IPython.core.display.Markdown object>"
      ]
     },
     "metadata": {},
     "output_type": "display_data"
    },
    {
     "data": {
      "text/markdown": [
       "$(k-i)^3 \\rightarrow k^{3} - 3 i k^{2} - 3 k + i\\to\\left [ - \\frac{\\sqrt{3}}{3}, \\quad \\frac{\\sqrt{3}}{3}\\right ]$"
      ],
      "text/plain": [
       "<IPython.core.display.Markdown object>"
      ]
     },
     "metadata": {},
     "output_type": "display_data"
    }
   ],
   "source": [
    "# Página 45 ejercicio 5\n",
    "\n",
    "\n",
    "\n",
    "texto_ejercicio = 'Determina el valor que debe tener k para que la siguiente expresión sea un número real.'\n",
    "n_ejercicio = 'p045e05'\n",
    "\n",
    "display(md(\"**\"+texto_ejercicio+\"**\"))\n",
    "\n",
    "enunciado_latex = [r'(k-i)^3',                 \n",
    "                   \n",
    "                   \n",
    "                  ]\n",
    "                                       \n",
    "\n",
    "\n",
    "\n",
    "\n",
    "\n",
    "enunciado, solucion = [], []\n",
    "\n",
    "for i, s in enumerate(enunciado_latex) :\n",
    "    enunciado.append(parse_latex(s))\n",
    "    solucion.append(latex(expand(simplify(eval(str(parse_latex(s).replace('i','I'))))))+\"\\\\to\"+latex(solve(im(simplify(eval(str(parse_latex(s).replace('i','I')))))))) \n",
    "    display(md(\"$\"+ enunciado_latex[i] +\" \\\\rightarrow \" + solucion[i] +\"$\"))\n",
    "\n",
    "df_ejercicios = df_ejercicios.append(añadir_ejercicios(enunciado_latex, enunciado, solucion, texto_ejercicio, curso, titulo , n_ejercicio, '1', '2'), ignore_index=True)\n"
   ]
  },
  {
   "cell_type": "code",
   "execution_count": 21,
   "metadata": {},
   "outputs": [
    {
     "data": {
      "text/markdown": [
       "**Determina el valor que han de tener a y k para que sean iguales los siguientes números:**"
      ],
      "text/plain": [
       "<IPython.core.display.Markdown object>"
      ]
     },
     "metadata": {},
     "output_type": "display_data"
    },
    {
     "data": {
      "text/markdown": [
       "$\\frac{a + 2 i}{3+k\\cdot i} \\ y \\sqrt{2}_{\\frac{7 \\pi}{4}} \\rightarrow \\left [ \\left \\{ a : 8, \\quad k : 5\\right \\}\\right ]$"
      ],
      "text/plain": [
       "<IPython.core.display.Markdown object>"
      ]
     },
     "metadata": {},
     "output_type": "display_data"
    }
   ],
   "source": [
    "# Página 47 ejercicio 40\n",
    "\n",
    "\n",
    "\n",
    "\n",
    "texto_ejercicio = 'Determina el valor que han de tener a y k para que sean iguales los siguientes números:'\n",
    "n_ejercicio = 'p047e40'\n",
    "\n",
    "display(md(\"**\"+texto_ejercicio+\"**\"))\n",
    "\n",
    "enunciado = [[r'\\frac{a + 2 i}{3+k\\cdot i}',[sqrt(2),7*pi/4]],\n",
    "             #[r'\\frac{1+a\\cdot i}{k+2i}',[sqrt(2),pi/4]],\n",
    "             #[r'\\frac{-8+a\\cdot i}{k+2i}',[sqrt(2),3*pi/4]],\n",
    "             \n",
    "                  ]                                      \n",
    "\n",
    "\n",
    "\n",
    "enunciado_latex, solucion = [], []\n",
    "\n",
    "for i, s in enumerate(enunciado) :\n",
    "    a, k = symbols('a k', real = True)\n",
    "    expr = eval(str(parse_latex(s[0]).replace('i','I')))\n",
    "    enunciado_latex.append(s[0]+\" \\ y \" + latex(s[1][0])+\"_{\"+latex(s[1][1])+\"}\")\n",
    "    solucion.append(latex(solve([re(nsimplify(expr)-re(a_binomico(s[1]))),im(nsimplify(expr))-im(a_binomico(s[1]))])))\n",
    "    display(md(\"$\"+ enunciado_latex[i] +\" \\\\rightarrow \" + solucion[i] +\"$\"))\n",
    "\n",
    "df_ejercicios = df_ejercicios.append(añadir_ejercicios(enunciado_latex, enunciado, solucion, texto_ejercicio, curso, titulo , n_ejercicio, '1', '2'), ignore_index=True)\n"
   ]
  },
  {
   "cell_type": "code",
   "execution_count": 36,
   "metadata": {},
   "outputs": [
    {
     "data": {
      "text/markdown": [
       "**Hallar la ecuación de segundo grado cuyas raíces sean los números complejos:**"
      ],
      "text/plain": [
       "<IPython.core.display.Markdown object>"
      ]
     },
     "metadata": {},
     "output_type": "display_data"
    },
    {
     "data": {
      "text/markdown": [
       "$2_{\\frac{\\pi}{3}} \\ y \\ 2_{\\frac{5 \\pi}{3}} \\rightarrow x^{2} - 2 x + 4=0$"
      ],
      "text/plain": [
       "<IPython.core.display.Markdown object>"
      ]
     },
     "metadata": {},
     "output_type": "display_data"
    }
   ],
   "source": [
    "# Página 47 ejercicio 41\n",
    "\n",
    "\n",
    "\n",
    "\n",
    "texto_ejercicio = 'Hallar la ecuación de segundo grado cuyas raíces sean los números complejos:'\n",
    "n_ejercicio = 'p047e41'\n",
    "\n",
    "display(md(\"**\"+texto_ejercicio+\"**\"))\n",
    "\n",
    "enunciado = [[[2,pi/3],[2,5*pi/3]],\n",
    "             \n",
    "                  ]                                      \n",
    "\n",
    "\n",
    "\n",
    "enunciado_latex, solucion = [], []\n",
    "\n",
    "for i, s in enumerate(enunciado) :\n",
    "    expr=(x-a_binomico(s[0]))*(x-a_binomico(s[1]))\n",
    "    enunciado_latex.append(latex(s[0][0])+\"_{\"+latex(s[0][1])+\"}\"+\" \\ y \\ \" + latex(s[1][0])+\"_{\"+latex(s[1][1])+\"}\")\n",
    "    solucion.append(latex(expand(expr))+\"=0\")\n",
    "    display(md(\"$\"+ enunciado_latex[i] +\" \\\\rightarrow \" + solucion[i] +\"$\"))\n",
    "\n",
    "df_ejercicios = df_ejercicios.append(añadir_ejercicios(enunciado_latex, enunciado, solucion, texto_ejercicio, curso, titulo , n_ejercicio, '1', '2'), ignore_index=True)\n"
   ]
  },
  {
   "cell_type": "code",
   "execution_count": 34,
   "metadata": {},
   "outputs": [
    {
     "data": {
      "image/png": "[encoded data removed]",
      "text/latex": [
       "$$x^{2} - 2 x + 4$$"
      ],
      "text/plain": [
       " 2          \n",
       "x  - 2⋅x + 4"
      ]
     },
     "execution_count": 34,
     "metadata": {},
     "output_type": "execute_result"
    }
   ],
   "source": [
    "s=[[2,pi/3],[2,5*pi/3]]\n",
    "expr=(x-a_binomico(s[0]))*(x-a_binomico(s[1]))\n",
    "expand(expr)"
   ]
  },
  {
   "cell_type": "code",
   "execution_count": 22,
   "metadata": {},
   "outputs": [
    {
     "data": {
      "image/png": "[encoded data removed]",
      "text/latex": [
       "$$\\left ( \\left(-1 + i\\right) \\left(6 + 2 i\\right), \\quad -8 + 4 i\\right )$$"
      ],
      "text/plain": [
       "((-1 + ⅈ)⋅(6 + 2⋅ⅈ), -8 + 4⋅ⅈ)"
      ]
     },
     "execution_count": 22,
     "metadata": {},
     "output_type": "execute_result"
    }
   ],
   "source": [
    "# para calcular\n",
    "n_polar = [sqrt(2),3*pi/4]\n",
    "\n",
    "k = 6\n",
    "\n",
    "resultado = (a_binomico(n_polar))*(k+2*I)\n",
    "resultado, expand(resultado)"
   ]
  },
  {
   "cell_type": "code",
   "execution_count": 19,
   "metadata": {},
   "outputs": [
    {
     "data": {
      "text/markdown": [
       "**Calcula dos números complejos conjugados cuya suma y la suma de sus módulos sea respectivamente**"
      ],
      "text/plain": [
       "<IPython.core.display.Markdown object>"
      ]
     },
     "metadata": {},
     "output_type": "display_data"
    },
    {
     "data": {
      "text/markdown": [
       "$8\\ y \\ 10 \\rightarrow 4 - 3 i\\land4 + 3 i$"
      ],
      "text/plain": [
       "<IPython.core.display.Markdown object>"
      ]
     },
     "metadata": {},
     "output_type": "display_data"
    }
   ],
   "source": [
    "# Página 47 ejercicio 51\n",
    "\n",
    "\n",
    "\n",
    "texto_ejercicio = 'Calcula dos números complejos conjugados cuya suma y la suma de sus módulos sea respectivamente'\n",
    "n_ejercicio = 'p047e51'\n",
    "\n",
    "display(md(\"**\"+texto_ejercicio+\"**\"))\n",
    "\n",
    "enunciado = [[8,10],\n",
    "             \n",
    "              \n",
    "                   \n",
    "                  ]                                      \n",
    "\n",
    "\n",
    "\n",
    "enunciado_latex, solucion = [], []\n",
    "\n",
    "for i, s in enumerate(enunciado) :\n",
    "    enunciado_latex.append(latex(s[0])+\"\\ y \\ \"+latex(s[1]))\n",
    "    sa = s[0]/2\n",
    "    sb = solve(2*sqrt(sa**2+x**2)-s[1])\n",
    "    solucion.append(latex(nsimplify(sa+sb[0]*I))+\"\\land\"+latex(nsimplify(sa+sb[1]*I))) \n",
    "    display(md(\"$\"+ enunciado_latex[i] +\" \\\\rightarrow \" + solucion[i] +\"$\"))\n",
    "\n",
    "df_ejercicios = df_ejercicios.append(añadir_ejercicios(enunciado_latex, enunciado, solucion, texto_ejercicio, curso, titulo , n_ejercicio, '1', '2'), ignore_index=True)\n"
   ]
  },
  {
   "cell_type": "code",
   "execution_count": 23,
   "metadata": {},
   "outputs": [],
   "source": [
    "df_ejercicios.to_csv('ejercicios24.csv', index = False)"
   ]
  },
  {
   "cell_type": "code",
   "execution_count": 24,
   "metadata": {},
   "outputs": [],
   "source": [
    "df_ejercicios = pd.read_csv('ejercicios24.csv', index_col= None)"
   ]
  },
  {
   "cell_type": "code",
   "execution_count": 25,
   "metadata": {},
   "outputs": [
    {
     "data": {
      "text/html": [
       "<div>\n",
       "<style scoped>\n",
       "    .dataframe tbody tr th:only-of-type {\n",
       "        vertical-align: middle;\n",
       "    }\n",
       "\n",
       "    .dataframe tbody tr th {\n",
       "        vertical-align: top;\n",
       "    }\n",
       "\n",
       "    .dataframe thead th {\n",
       "        text-align: right;\n",
       "    }\n",
       "</style>\n",
       "<table border=\"1\" class=\"dataframe\">\n",
       "  <thead>\n",
       "    <tr style=\"text-align: right;\">\n",
       "      <th></th>\n",
       "      <th>enunciado_latex</th>\n",
       "      <th>enunciado</th>\n",
       "      <th>solucion</th>\n",
       "      <th>texto</th>\n",
       "      <th>curso</th>\n",
       "      <th>titulo</th>\n",
       "      <th>n_ejercicio</th>\n",
       "      <th>dificultad</th>\n",
       "      <th>n_columnas</th>\n",
       "      <th>puntos</th>\n",
       "      <th>enun_tex</th>\n",
       "      <th>sol_tex</th>\n",
       "    </tr>\n",
       "  </thead>\n",
       "  <tbody>\n",
       "    <tr>\n",
       "      <th>0</th>\n",
       "      <td>(7-2i)^2 + (3+4i)(5-2i)</td>\n",
       "      <td>(-2*i + 5)*(4*i + 3) + (-2*i + 7)**2</td>\n",
       "      <td>68 - 14 i</td>\n",
       "      <td>Calcula:</td>\n",
       "      <td>1BC</td>\n",
       "      <td>24 - Complejos</td>\n",
       "      <td>p045e01</td>\n",
       "      <td>1</td>\n",
       "      <td>2</td>\n",
       "      <td>1</td>\n",
       "      <td>True</td>\n",
       "      <td>True</td>\n",
       "    </tr>\n",
       "    <tr>\n",
       "      <th>1</th>\n",
       "      <td>(2+i)^2(3-2i) + (5-i)i^2</td>\n",
       "      <td>i**2*(-i + 5) + (-2*i + 3)*(i + 2)**2</td>\n",
       "      <td>12 + 7 i</td>\n",
       "      <td>Calcula:</td>\n",
       "      <td>1BC</td>\n",
       "      <td>24 - Complejos</td>\n",
       "      <td>p045e01</td>\n",
       "      <td>1</td>\n",
       "      <td>2</td>\n",
       "      <td>1</td>\n",
       "      <td>True</td>\n",
       "      <td>True</td>\n",
       "    </tr>\n",
       "    <tr>\n",
       "      <th>2</th>\n",
       "      <td>(\\sqrt{3}  - 2i)^2 + (2\\sqrt{3}  -  5i)({1  - ...</td>\n",
       "      <td>(-5*i + 2*sqrt(3))*(-2*i + 1) + (-2*i + sqrt(3...</td>\n",
       "      <td>-11 + 2 \\sqrt{3} + i \\left(- 8 \\sqrt{3} - 5\\ri...</td>\n",
       "      <td>Calcula:</td>\n",
       "      <td>1BC</td>\n",
       "      <td>24 - Complejos</td>\n",
       "      <td>p045e01</td>\n",
       "      <td>1</td>\n",
       "      <td>2</td>\n",
       "      <td>1</td>\n",
       "      <td>True</td>\n",
       "      <td>True</td>\n",
       "    </tr>\n",
       "    <tr>\n",
       "      <th>3</th>\n",
       "      <td>(i^7-1)(i^{16} + i^3-i^9)^5 + (1-2i)^5(1+i)</td>\n",
       "      <td>(-2*i + 1)**5*(i + 1) + (i**7 - 1)*(-i**9 + i*...</td>\n",
       "      <td>0</td>\n",
       "      <td>Calcula:</td>\n",
       "      <td>1BC</td>\n",
       "      <td>24 - Complejos</td>\n",
       "      <td>p045e01</td>\n",
       "      <td>1</td>\n",
       "      <td>2</td>\n",
       "      <td>1</td>\n",
       "      <td>True</td>\n",
       "      <td>True</td>\n",
       "    </tr>\n",
       "    <tr>\n",
       "      <th>4</th>\n",
       "      <td>(1+i)^2+\\frac{1+i}{1-i}</td>\n",
       "      <td>(i + 1)**2 + (i + 1)/(-i + 1)</td>\n",
       "      <td>3 i</td>\n",
       "      <td>Calcula:</td>\n",
       "      <td>1BC</td>\n",
       "      <td>24 - Complejos</td>\n",
       "      <td>p045e01</td>\n",
       "      <td>1</td>\n",
       "      <td>2</td>\n",
       "      <td>1</td>\n",
       "      <td>True</td>\n",
       "      <td>True</td>\n",
       "    </tr>\n",
       "    <tr>\n",
       "      <th>5</th>\n",
       "      <td>(k+5i) + (3+i) = (1+5i) + (-k+i)</td>\n",
       "      <td>Eq(i + 3 + 5*i + k, i - k + 5*i + 1)</td>\n",
       "      <td>\\left [ -1\\right ]</td>\n",
       "      <td>Halla el valor de k, sabiendo que se cumple:</td>\n",
       "      <td>1BC</td>\n",
       "      <td>24 - Complejos</td>\n",
       "      <td>p045e02</td>\n",
       "      <td>1</td>\n",
       "      <td>2</td>\n",
       "      <td>1</td>\n",
       "      <td>True</td>\n",
       "      <td>True</td>\n",
       "    </tr>\n",
       "    <tr>\n",
       "      <th>6</th>\n",
       "      <td>(1+3i)(k+2i) = 13+59i</td>\n",
       "      <td>Eq((2*i + k)*(3*i + 1), 59*i + 13)</td>\n",
       "      <td>\\left \\{ k : 19\\right \\}</td>\n",
       "      <td>Halla el valor de k, sabiendo que se cumple:</td>\n",
       "      <td>1BC</td>\n",
       "      <td>24 - Complejos</td>\n",
       "      <td>p045e02</td>\n",
       "      <td>1</td>\n",
       "      <td>2</td>\n",
       "      <td>1</td>\n",
       "      <td>True</td>\n",
       "      <td>True</td>\n",
       "    </tr>\n",
       "    <tr>\n",
       "      <th>7</th>\n",
       "      <td>k+\\frac{4}{5}i=\\frac{5+i}{3-i}</td>\n",
       "      <td>Eq((4/5)*i + k, (i + 5)/(-i + 3))</td>\n",
       "      <td>\\left [ \\frac{7}{5}\\right ]</td>\n",
       "      <td>Halla el valor de k, sabiendo que se cumple:</td>\n",
       "      <td>1BC</td>\n",
       "      <td>24 - Complejos</td>\n",
       "      <td>p045e02</td>\n",
       "      <td>1</td>\n",
       "      <td>2</td>\n",
       "      <td>1</td>\n",
       "      <td>True</td>\n",
       "      <td>True</td>\n",
       "    </tr>\n",
       "    <tr>\n",
       "      <th>8</th>\n",
       "      <td>-1 + 2i</td>\n",
       "      <td>2*i - 1</td>\n",
       "      <td>- \\frac{1}{5} - \\frac{2 i}{5}</td>\n",
       "      <td>Calcula el inverso de los siguientes números c...</td>\n",
       "      <td>1BC</td>\n",
       "      <td>24 - Complejos</td>\n",
       "      <td>p045e03</td>\n",
       "      <td>1</td>\n",
       "      <td>2</td>\n",
       "      <td>1</td>\n",
       "      <td>True</td>\n",
       "      <td>True</td>\n",
       "    </tr>\n",
       "    <tr>\n",
       "      <th>9</th>\n",
       "      <td>3-\\sqrt{2}i</td>\n",
       "      <td>-sqrt(2)*i + 3</td>\n",
       "      <td>\\frac{3}{11} + \\frac{\\sqrt{2} i}{11}</td>\n",
       "      <td>Calcula el inverso de los siguientes números c...</td>\n",
       "      <td>1BC</td>\n",
       "      <td>24 - Complejos</td>\n",
       "      <td>p045e03</td>\n",
       "      <td>1</td>\n",
       "      <td>2</td>\n",
       "      <td>1</td>\n",
       "      <td>True</td>\n",
       "      <td>True</td>\n",
       "    </tr>\n",
       "    <tr>\n",
       "      <th>10</th>\n",
       "      <td>\\frac{1}{3}-\\frac{1}{2}i</td>\n",
       "      <td>-i/2 + 1/3</td>\n",
       "      <td>\\frac{12}{13} + \\frac{18 i}{13}</td>\n",
       "      <td>Calcula el inverso de los siguientes números c...</td>\n",
       "      <td>1BC</td>\n",
       "      <td>24 - Complejos</td>\n",
       "      <td>p045e03</td>\n",
       "      <td>1</td>\n",
       "      <td>2</td>\n",
       "      <td>1</td>\n",
       "      <td>True</td>\n",
       "      <td>True</td>\n",
       "    </tr>\n",
       "    <tr>\n",
       "      <th>11</th>\n",
       "      <td>\\frac{{k - 2i}}{{3 + 4i}}</td>\n",
       "      <td>(-2*i + k)/(4*i + 3)</td>\n",
       "      <td>\\frac{3 k}{25} - \\frac{4 i k}{25} - \\frac{8}{2...</td>\n",
       "      <td>Calcular el valor de k para que la siguiente e...</td>\n",
       "      <td>1BC</td>\n",
       "      <td>24 - Complejos</td>\n",
       "      <td>p045e04y14</td>\n",
       "      <td>1</td>\n",
       "      <td>2</td>\n",
       "      <td>1</td>\n",
       "      <td>True</td>\n",
       "      <td>True</td>\n",
       "    </tr>\n",
       "    <tr>\n",
       "      <th>12</th>\n",
       "      <td>k-2+(\\frac{1}{4}+k)i</td>\n",
       "      <td>i*(k + 1/4) + k - 2</td>\n",
       "      <td>k + i k - 2 + \\frac{i}{4}\\to\\left [ - \\frac{1}...</td>\n",
       "      <td>Calcular el valor de k para que la siguiente e...</td>\n",
       "      <td>1BC</td>\n",
       "      <td>24 - Complejos</td>\n",
       "      <td>p045e04y14</td>\n",
       "      <td>1</td>\n",
       "      <td>2</td>\n",
       "      <td>1</td>\n",
       "      <td>True</td>\n",
       "      <td>True</td>\n",
       "    </tr>\n",
       "    <tr>\n",
       "      <th>13</th>\n",
       "      <td>(k-i)^3</td>\n",
       "      <td>(-i + k)**3</td>\n",
       "      <td>k^{3} - 3 i k^{2} - 3 k + i\\to\\left [ - \\frac{...</td>\n",
       "      <td>Determina el valor que debe tener k para que l...</td>\n",
       "      <td>1BC</td>\n",
       "      <td>24 - Complejos</td>\n",
       "      <td>p045e05</td>\n",
       "      <td>1</td>\n",
       "      <td>2</td>\n",
       "      <td>1</td>\n",
       "      <td>True</td>\n",
       "      <td>True</td>\n",
       "    </tr>\n",
       "    <tr>\n",
       "      <th>14</th>\n",
       "      <td>1+i</td>\n",
       "      <td>i + 1</td>\n",
       "      <td>\\left ( 1, \\quad 1\\right )</td>\n",
       "      <td>Dados los siguientes números complejos, indica...</td>\n",
       "      <td>1BC</td>\n",
       "      <td>24 - Complejos</td>\n",
       "      <td>p045e06y7</td>\n",
       "      <td>1</td>\n",
       "      <td>2</td>\n",
       "      <td>1</td>\n",
       "      <td>True</td>\n",
       "      <td>True</td>\n",
       "    </tr>\n",
       "    <tr>\n",
       "      <th>15</th>\n",
       "      <td>(1+i)i</td>\n",
       "      <td>i*(i + 1)</td>\n",
       "      <td>\\left ( -1, \\quad 1\\right )</td>\n",
       "      <td>Dados los siguientes números complejos, indica...</td>\n",
       "      <td>1BC</td>\n",
       "      <td>24 - Complejos</td>\n",
       "      <td>p045e06y7</td>\n",
       "      <td>1</td>\n",
       "      <td>2</td>\n",
       "      <td>1</td>\n",
       "      <td>True</td>\n",
       "      <td>True</td>\n",
       "    </tr>\n",
       "    <tr>\n",
       "      <th>16</th>\n",
       "      <td>(1+i)i\\cdot i</td>\n",
       "      <td>i*(i*(i + 1))</td>\n",
       "      <td>\\left ( -1, \\quad -1\\right )</td>\n",
       "      <td>Dados los siguientes números complejos, indica...</td>\n",
       "      <td>1BC</td>\n",
       "      <td>24 - Complejos</td>\n",
       "      <td>p045e06y7</td>\n",
       "      <td>1</td>\n",
       "      <td>2</td>\n",
       "      <td>1</td>\n",
       "      <td>True</td>\n",
       "      <td>True</td>\n",
       "    </tr>\n",
       "    <tr>\n",
       "      <th>17</th>\n",
       "      <td>(1+i)i\\cdot i \\cdot i</td>\n",
       "      <td>i*(i*(i*(i + 1)))</td>\n",
       "      <td>\\left ( 1, \\quad -1\\right )</td>\n",
       "      <td>Dados los siguientes números complejos, indica...</td>\n",
       "      <td>1BC</td>\n",
       "      <td>24 - Complejos</td>\n",
       "      <td>p045e06y7</td>\n",
       "      <td>1</td>\n",
       "      <td>2</td>\n",
       "      <td>1</td>\n",
       "      <td>True</td>\n",
       "      <td>True</td>\n",
       "    </tr>\n",
       "    <tr>\n",
       "      <th>18</th>\n",
       "      <td>i</td>\n",
       "      <td>i</td>\n",
       "      <td>\\left ( 0, \\quad 1\\right )</td>\n",
       "      <td>Dados los siguientes números complejos, indica...</td>\n",
       "      <td>1BC</td>\n",
       "      <td>24 - Complejos</td>\n",
       "      <td>p045e06y7</td>\n",
       "      <td>1</td>\n",
       "      <td>2</td>\n",
       "      <td>1</td>\n",
       "      <td>True</td>\n",
       "      <td>True</td>\n",
       "    </tr>\n",
       "    <tr>\n",
       "      <th>19</th>\n",
       "      <td>\\frac{1}{2}(-1+\\sqrt{3}i) \\cdot i</td>\n",
       "      <td>i*((sqrt(3)*i - 1)/2)</td>\n",
       "      <td>\\left ( - 0.5 \\sqrt{3}, \\quad -0.5\\right )</td>\n",
       "      <td>Dados los siguientes números complejos, indica...</td>\n",
       "      <td>1BC</td>\n",
       "      <td>24 - Complejos</td>\n",
       "      <td>p045e06y7</td>\n",
       "      <td>1</td>\n",
       "      <td>2</td>\n",
       "      <td>1</td>\n",
       "      <td>True</td>\n",
       "      <td>True</td>\n",
       "    </tr>\n",
       "    <tr>\n",
       "      <th>20</th>\n",
       "      <td>\\frac{1}{2}(-1+\\sqrt{3}i) \\cdot \\frac{1}{2}(-1...</td>\n",
       "      <td>i*(((sqrt(3)*i - 1)/2)*((sqrt(3)*i - 1)/2))</td>\n",
       "      <td>\\left ( 0.5 \\sqrt{3}, \\quad -0.5\\right )</td>\n",
       "      <td>Dados los siguientes números complejos, indica...</td>\n",
       "      <td>1BC</td>\n",
       "      <td>24 - Complejos</td>\n",
       "      <td>p045e06y7</td>\n",
       "      <td>1</td>\n",
       "      <td>2</td>\n",
       "      <td>1</td>\n",
       "      <td>True</td>\n",
       "      <td>True</td>\n",
       "    </tr>\n",
       "    <tr>\n",
       "      <th>21</th>\n",
       "      <td>\\sqrt{3}-2i</td>\n",
       "      <td>-2*i + sqrt(3)</td>\n",
       "      <td>7</td>\n",
       "      <td>Dado el siguiente número $z$, calcula el valor...</td>\n",
       "      <td>1BC</td>\n",
       "      <td>24 - Complejos</td>\n",
       "      <td>p045e11</td>\n",
       "      <td>1</td>\n",
       "      <td>2</td>\n",
       "      <td>1</td>\n",
       "      <td>True</td>\n",
       "      <td>True</td>\n",
       "    </tr>\n",
       "    <tr>\n",
       "      <th>22</th>\n",
       "      <td>4-2i</td>\n",
       "      <td>-2*i + 4</td>\n",
       "      <td>- \\frac{i}{2}</td>\n",
       "      <td>Dado el siguiente número $z$, calcula el valor...</td>\n",
       "      <td>1BC</td>\n",
       "      <td>24 - Complejos</td>\n",
       "      <td>p045e11</td>\n",
       "      <td>1</td>\n",
       "      <td>2</td>\n",
       "      <td>1</td>\n",
       "      <td>True</td>\n",
       "      <td>True</td>\n",
       "    </tr>\n",
       "    <tr>\n",
       "      <th>23</th>\n",
       "      <td>(5-i)(3+2i)</td>\n",
       "      <td>(-i + 5)*(2*i + 3)</td>\n",
       "      <td>17 + 7 i</td>\n",
       "      <td>Calcula</td>\n",
       "      <td>1BC</td>\n",
       "      <td>24 - Complejos</td>\n",
       "      <td>p045e17</td>\n",
       "      <td>1</td>\n",
       "      <td>2</td>\n",
       "      <td>1</td>\n",
       "      <td>True</td>\n",
       "      <td>True</td>\n",
       "    </tr>\n",
       "    <tr>\n",
       "      <th>24</th>\n",
       "      <td>(2+\\frac{1}{3}i)(-5-i)</td>\n",
       "      <td>(-i - 5)*(i/3 + 2)</td>\n",
       "      <td>- \\frac{29}{3} - \\frac{11 i}{3}</td>\n",
       "      <td>Calcula</td>\n",
       "      <td>1BC</td>\n",
       "      <td>24 - Complejos</td>\n",
       "      <td>p045e17</td>\n",
       "      <td>1</td>\n",
       "      <td>2</td>\n",
       "      <td>1</td>\n",
       "      <td>True</td>\n",
       "      <td>True</td>\n",
       "    </tr>\n",
       "    <tr>\n",
       "      <th>25</th>\n",
       "      <td>(2-i)(2+i)</td>\n",
       "      <td>(-i + 2)*(i + 2)</td>\n",
       "      <td>5</td>\n",
       "      <td>Calcula</td>\n",
       "      <td>1BC</td>\n",
       "      <td>24 - Complejos</td>\n",
       "      <td>p045e17</td>\n",
       "      <td>1</td>\n",
       "      <td>2</td>\n",
       "      <td>1</td>\n",
       "      <td>True</td>\n",
       "      <td>True</td>\n",
       "    </tr>\n",
       "    <tr>\n",
       "      <th>26</th>\n",
       "      <td>(3-\\frac{1}{4}i)(2-i)(3+2i)</td>\n",
       "      <td>((-i + 2)*(2*i + 3))*(-i/4 + 3)</td>\n",
       "      <td>\\frac{97}{4} + i</td>\n",
       "      <td>Calcula</td>\n",
       "      <td>1BC</td>\n",
       "      <td>24 - Complejos</td>\n",
       "      <td>p045e17</td>\n",
       "      <td>1</td>\n",
       "      <td>2</td>\n",
       "      <td>1</td>\n",
       "      <td>True</td>\n",
       "      <td>True</td>\n",
       "    </tr>\n",
       "    <tr>\n",
       "      <th>27</th>\n",
       "      <td>\\frac{2-i}{1+3i}</td>\n",
       "      <td>(-i + 2)/(3*i + 1)</td>\n",
       "      <td>- \\frac{1}{10} - \\frac{7 i}{10}</td>\n",
       "      <td>Calcula</td>\n",
       "      <td>1BC</td>\n",
       "      <td>24 - Complejos</td>\n",
       "      <td>p045e17</td>\n",
       "      <td>1</td>\n",
       "      <td>2</td>\n",
       "      <td>1</td>\n",
       "      <td>True</td>\n",
       "      <td>True</td>\n",
       "    </tr>\n",
       "    <tr>\n",
       "      <th>28</th>\n",
       "      <td>\\frac{{\\sqrt{2} - 3i}}{{2 + i}}</td>\n",
       "      <td>(-3*i + sqrt(2))/(i + 2)</td>\n",
       "      <td>- \\frac{3}{5} + \\frac{2 \\sqrt{2}}{5} - \\frac{6...</td>\n",
       "      <td>Calcula</td>\n",
       "      <td>1BC</td>\n",
       "      <td>24 - Complejos</td>\n",
       "      <td>p045e17</td>\n",
       "      <td>1</td>\n",
       "      <td>2</td>\n",
       "      <td>1</td>\n",
       "      <td>True</td>\n",
       "      <td>True</td>\n",
       "    </tr>\n",
       "    <tr>\n",
       "      <th>29</th>\n",
       "      <td>\\frac{1}{{3 - i}}</td>\n",
       "      <td>1/(-i + 3)</td>\n",
       "      <td>\\frac{3}{10} + \\frac{i}{10}</td>\n",
       "      <td>Calcula</td>\n",
       "      <td>1BC</td>\n",
       "      <td>24 - Complejos</td>\n",
       "      <td>p045e17</td>\n",
       "      <td>1</td>\n",
       "      <td>2</td>\n",
       "      <td>1</td>\n",
       "      <td>True</td>\n",
       "      <td>True</td>\n",
       "    </tr>\n",
       "    <tr>\n",
       "      <th>...</th>\n",
       "      <td>...</td>\n",
       "      <td>...</td>\n",
       "      <td>...</td>\n",
       "      <td>...</td>\n",
       "      <td>...</td>\n",
       "      <td>...</td>\n",
       "      <td>...</td>\n",
       "      <td>...</td>\n",
       "      <td>...</td>\n",
       "      <td>...</td>\n",
       "      <td>...</td>\n",
       "      <td>...</td>\n",
       "    </tr>\n",
       "    <tr>\n",
       "      <th>31</th>\n",
       "      <td>\\frac{{5 - i}}{i}</td>\n",
       "      <td>(-i + 5)/i</td>\n",
       "      <td>-1 - 5 i</td>\n",
       "      <td>Calcula</td>\n",
       "      <td>1BC</td>\n",
       "      <td>24 - Complejos</td>\n",
       "      <td>p045e17</td>\n",
       "      <td>1</td>\n",
       "      <td>2</td>\n",
       "      <td>1</td>\n",
       "      <td>True</td>\n",
       "      <td>True</td>\n",
       "    </tr>\n",
       "    <tr>\n",
       "      <th>32</th>\n",
       "      <td>\\frac{1 + 2i}{3 + 3i}</td>\n",
       "      <td>(2*i + 1)/(3*i + 3)</td>\n",
       "      <td>\\frac{1}{2} + \\frac{i}{6}</td>\n",
       "      <td>Calcula</td>\n",
       "      <td>1BC</td>\n",
       "      <td>24 - Complejos</td>\n",
       "      <td>p045e17</td>\n",
       "      <td>1</td>\n",
       "      <td>2</td>\n",
       "      <td>1</td>\n",
       "      <td>True</td>\n",
       "      <td>True</td>\n",
       "    </tr>\n",
       "    <tr>\n",
       "      <th>33</th>\n",
       "      <td>({\\sqrt {2}  - i})\\frac{{\\sqrt{ 2} +i}}{{1 - 2i}}</td>\n",
       "      <td>((i + sqrt(2))/(-2*i + 1))*(-i + sqrt(2))</td>\n",
       "      <td>\\frac{3}{5} + \\frac{6 i}{5}</td>\n",
       "      <td>Calcula</td>\n",
       "      <td>1BC</td>\n",
       "      <td>24 - Complejos</td>\n",
       "      <td>p045e17</td>\n",
       "      <td>1</td>\n",
       "      <td>2</td>\n",
       "      <td>1</td>\n",
       "      <td>True</td>\n",
       "      <td>True</td>\n",
       "    </tr>\n",
       "    <tr>\n",
       "      <th>34</th>\n",
       "      <td>( {2\\sqrt {3} - i})\\frac{{\\sqrt {3} i}}{{1 + i}}</td>\n",
       "      <td>((sqrt(3)*i)/(i + 1))*(-i + 2*sqrt(3))</td>\n",
       "      <td>\\frac{\\sqrt{3}}{2} + 3 - \\frac{\\sqrt{3} i}{2} ...</td>\n",
       "      <td>Calcula</td>\n",
       "      <td>1BC</td>\n",
       "      <td>24 - Complejos</td>\n",
       "      <td>p045e17</td>\n",
       "      <td>1</td>\n",
       "      <td>2</td>\n",
       "      <td>1</td>\n",
       "      <td>True</td>\n",
       "      <td>True</td>\n",
       "    </tr>\n",
       "    <tr>\n",
       "      <th>35</th>\n",
       "      <td>\\frac{{1 - i}}{{3 + 2i}}\\frac{{2i}}{{1 + i}}</td>\n",
       "      <td>((2*i)/(i + 1))*((-i + 1)/(2*i + 3))</td>\n",
       "      <td>\\frac{6}{13} - \\frac{4 i}{13}</td>\n",
       "      <td>Calcula</td>\n",
       "      <td>1BC</td>\n",
       "      <td>24 - Complejos</td>\n",
       "      <td>p045e17</td>\n",
       "      <td>1</td>\n",
       "      <td>2</td>\n",
       "      <td>1</td>\n",
       "      <td>True</td>\n",
       "      <td>True</td>\n",
       "    </tr>\n",
       "    <tr>\n",
       "      <th>36</th>\n",
       "      <td>\\frac{{\\sqrt {2} }}{{ - 2 - i}}\\frac{1}{{2 + 3i}}</td>\n",
       "      <td>(sqrt(2)/(-i - 2))/(3*i + 2)</td>\n",
       "      <td>- \\frac{\\sqrt{2}}{65} + \\frac{8 \\sqrt{2} i}{65}</td>\n",
       "      <td>Calcula</td>\n",
       "      <td>1BC</td>\n",
       "      <td>24 - Complejos</td>\n",
       "      <td>p045e17</td>\n",
       "      <td>1</td>\n",
       "      <td>2</td>\n",
       "      <td>1</td>\n",
       "      <td>True</td>\n",
       "      <td>True</td>\n",
       "    </tr>\n",
       "    <tr>\n",
       "      <th>37</th>\n",
       "      <td>2 - 2\\sqrt {3}i</td>\n",
       "      <td>-2*sqrt(3)*i + 2</td>\n",
       "      <td>4_{- \\frac{\\pi}{3}}</td>\n",
       "      <td>Calcular el módulo y el argumento (en radianes...</td>\n",
       "      <td>1BC</td>\n",
       "      <td>24 - Complejos</td>\n",
       "      <td>p046e31y 32</td>\n",
       "      <td>1</td>\n",
       "      <td>2</td>\n",
       "      <td>1</td>\n",
       "      <td>True</td>\n",
       "      <td>True</td>\n",
       "    </tr>\n",
       "    <tr>\n",
       "      <th>38</th>\n",
       "      <td>-1-i</td>\n",
       "      <td>-i - 1</td>\n",
       "      <td>\\sqrt{2}_{- \\frac{3 \\pi}{4}}</td>\n",
       "      <td>Calcular el módulo y el argumento (en radianes...</td>\n",
       "      <td>1BC</td>\n",
       "      <td>24 - Complejos</td>\n",
       "      <td>p046e31y 32</td>\n",
       "      <td>1</td>\n",
       "      <td>2</td>\n",
       "      <td>1</td>\n",
       "      <td>True</td>\n",
       "      <td>True</td>\n",
       "    </tr>\n",
       "    <tr>\n",
       "      <th>39</th>\n",
       "      <td>\\sqrt {3}  + i</td>\n",
       "      <td>i + sqrt(3)</td>\n",
       "      <td>2_{\\frac{\\pi}{6}}</td>\n",
       "      <td>Calcular el módulo y el argumento (en radianes...</td>\n",
       "      <td>1BC</td>\n",
       "      <td>24 - Complejos</td>\n",
       "      <td>p046e31y 32</td>\n",
       "      <td>1</td>\n",
       "      <td>2</td>\n",
       "      <td>1</td>\n",
       "      <td>True</td>\n",
       "      <td>True</td>\n",
       "    </tr>\n",
       "    <tr>\n",
       "      <th>40</th>\n",
       "      <td>2\\sqrt{3}+2i</td>\n",
       "      <td>2*i + 2*sqrt(3)</td>\n",
       "      <td>4_{\\frac{\\pi}{6}}</td>\n",
       "      <td>Calcular el módulo y el argumento (en radianes...</td>\n",
       "      <td>1BC</td>\n",
       "      <td>24 - Complejos</td>\n",
       "      <td>p046e31y 32</td>\n",
       "      <td>1</td>\n",
       "      <td>2</td>\n",
       "      <td>1</td>\n",
       "      <td>True</td>\n",
       "      <td>True</td>\n",
       "    </tr>\n",
       "    <tr>\n",
       "      <th>41</th>\n",
       "      <td>2-2i</td>\n",
       "      <td>-2*i + 2</td>\n",
       "      <td>2 \\sqrt{2}_{- \\frac{\\pi}{4}}</td>\n",
       "      <td>Calcular el módulo y el argumento (en radianes...</td>\n",
       "      <td>1BC</td>\n",
       "      <td>24 - Complejos</td>\n",
       "      <td>p046e31y 32</td>\n",
       "      <td>1</td>\n",
       "      <td>2</td>\n",
       "      <td>1</td>\n",
       "      <td>True</td>\n",
       "      <td>True</td>\n",
       "    </tr>\n",
       "    <tr>\n",
       "      <th>42</th>\n",
       "      <td>-5-5i</td>\n",
       "      <td>-5*i - 5</td>\n",
       "      <td>5 \\sqrt{2}_{- \\frac{3 \\pi}{4}}</td>\n",
       "      <td>Calcular el módulo y el argumento (en radianes...</td>\n",
       "      <td>1BC</td>\n",
       "      <td>24 - Complejos</td>\n",
       "      <td>p046e31y 32</td>\n",
       "      <td>1</td>\n",
       "      <td>2</td>\n",
       "      <td>1</td>\n",
       "      <td>True</td>\n",
       "      <td>True</td>\n",
       "    </tr>\n",
       "    <tr>\n",
       "      <th>43</th>\n",
       "      <td>5i</td>\n",
       "      <td>5*i</td>\n",
       "      <td>5_{\\frac{\\pi}{2}}</td>\n",
       "      <td>Calcular el módulo y el argumento (en radianes...</td>\n",
       "      <td>1BC</td>\n",
       "      <td>24 - Complejos</td>\n",
       "      <td>p046e31y 32</td>\n",
       "      <td>1</td>\n",
       "      <td>2</td>\n",
       "      <td>1</td>\n",
       "      <td>True</td>\n",
       "      <td>True</td>\n",
       "    </tr>\n",
       "    <tr>\n",
       "      <th>44</th>\n",
       "      <td>4</td>\n",
       "      <td>4</td>\n",
       "      <td>4_{0}</td>\n",
       "      <td>Calcular el módulo y el argumento (en radianes...</td>\n",
       "      <td>1BC</td>\n",
       "      <td>24 - Complejos</td>\n",
       "      <td>p046e31y 32</td>\n",
       "      <td>1</td>\n",
       "      <td>2</td>\n",
       "      <td>1</td>\n",
       "      <td>True</td>\n",
       "      <td>True</td>\n",
       "    </tr>\n",
       "    <tr>\n",
       "      <th>45</th>\n",
       "      <td>1+i</td>\n",
       "      <td>i + 1</td>\n",
       "      <td>\\sqrt{2}_{\\frac{\\pi}{4}}</td>\n",
       "      <td>Calcular el módulo y el argumento (en radianes...</td>\n",
       "      <td>1BC</td>\n",
       "      <td>24 - Complejos</td>\n",
       "      <td>p046e31y 32</td>\n",
       "      <td>1</td>\n",
       "      <td>2</td>\n",
       "      <td>1</td>\n",
       "      <td>True</td>\n",
       "      <td>True</td>\n",
       "    </tr>\n",
       "    <tr>\n",
       "      <th>46</th>\n",
       "      <td>-9i</td>\n",
       "      <td>-9*i</td>\n",
       "      <td>9_{- \\frac{\\pi}{2}}</td>\n",
       "      <td>Calcular el módulo y el argumento (en radianes...</td>\n",
       "      <td>1BC</td>\n",
       "      <td>24 - Complejos</td>\n",
       "      <td>p046e31y 32</td>\n",
       "      <td>1</td>\n",
       "      <td>2</td>\n",
       "      <td>1</td>\n",
       "      <td>True</td>\n",
       "      <td>True</td>\n",
       "    </tr>\n",
       "    <tr>\n",
       "      <th>47</th>\n",
       "      <td>-3+3i</td>\n",
       "      <td>3*i - 3</td>\n",
       "      <td>3 \\sqrt{2}_{\\frac{3 \\pi}{4}}</td>\n",
       "      <td>Calcular el módulo y el argumento (en radianes...</td>\n",
       "      <td>1BC</td>\n",
       "      <td>24 - Complejos</td>\n",
       "      <td>p046e31y 32</td>\n",
       "      <td>1</td>\n",
       "      <td>2</td>\n",
       "      <td>1</td>\n",
       "      <td>True</td>\n",
       "      <td>True</td>\n",
       "    </tr>\n",
       "    <tr>\n",
       "      <th>48</th>\n",
       "      <td>\\sqrt{3}+i</td>\n",
       "      <td>i + sqrt(3)</td>\n",
       "      <td>2_{\\frac{\\pi}{6}}</td>\n",
       "      <td>Calcular el módulo y el argumento (en radianes...</td>\n",
       "      <td>1BC</td>\n",
       "      <td>24 - Complejos</td>\n",
       "      <td>p046e31y 32</td>\n",
       "      <td>1</td>\n",
       "      <td>2</td>\n",
       "      <td>1</td>\n",
       "      <td>True</td>\n",
       "      <td>True</td>\n",
       "    </tr>\n",
       "    <tr>\n",
       "      <th>49</th>\n",
       "      <td>2_{\\frac{\\pi}{4}}</td>\n",
       "      <td>[2, pi/4]</td>\n",
       "      <td>\\sqrt{2} + \\sqrt{2} i</td>\n",
       "      <td>Escribe en forma binómica los siguientes númer...</td>\n",
       "      <td>1BC</td>\n",
       "      <td>24 - Complejos</td>\n",
       "      <td>p046e34</td>\n",
       "      <td>1</td>\n",
       "      <td>2</td>\n",
       "      <td>1</td>\n",
       "      <td>True</td>\n",
       "      <td>True</td>\n",
       "    </tr>\n",
       "    <tr>\n",
       "      <th>50</th>\n",
       "      <td>3_{\\frac{\\pi}{6}}</td>\n",
       "      <td>[3, pi/6]</td>\n",
       "      <td>\\frac{3 \\sqrt{3}}{2} + \\frac{3 i}{2}</td>\n",
       "      <td>Escribe en forma binómica los siguientes númer...</td>\n",
       "      <td>1BC</td>\n",
       "      <td>24 - Complejos</td>\n",
       "      <td>p046e34</td>\n",
       "      <td>1</td>\n",
       "      <td>2</td>\n",
       "      <td>1</td>\n",
       "      <td>True</td>\n",
       "      <td>True</td>\n",
       "    </tr>\n",
       "    <tr>\n",
       "      <th>51</th>\n",
       "      <td>\\sqrt{2}_{\\pi}</td>\n",
       "      <td>[sqrt(2), pi]</td>\n",
       "      <td>- \\sqrt{2}</td>\n",
       "      <td>Escribe en forma binómica los siguientes númer...</td>\n",
       "      <td>1BC</td>\n",
       "      <td>24 - Complejos</td>\n",
       "      <td>p046e34</td>\n",
       "      <td>1</td>\n",
       "      <td>2</td>\n",
       "      <td>1</td>\n",
       "      <td>True</td>\n",
       "      <td>True</td>\n",
       "    </tr>\n",
       "    <tr>\n",
       "      <th>52</th>\n",
       "      <td>17_{0}</td>\n",
       "      <td>[17, 0]</td>\n",
       "      <td>17</td>\n",
       "      <td>Escribe en forma binómica los siguientes númer...</td>\n",
       "      <td>1BC</td>\n",
       "      <td>24 - Complejos</td>\n",
       "      <td>p046e34</td>\n",
       "      <td>1</td>\n",
       "      <td>2</td>\n",
       "      <td>1</td>\n",
       "      <td>True</td>\n",
       "      <td>True</td>\n",
       "    </tr>\n",
       "    <tr>\n",
       "      <th>53</th>\n",
       "      <td>1_{\\frac{\\pi}{2}}</td>\n",
       "      <td>[1, pi/2]</td>\n",
       "      <td>i</td>\n",
       "      <td>Escribe en forma binómica los siguientes númer...</td>\n",
       "      <td>1BC</td>\n",
       "      <td>24 - Complejos</td>\n",
       "      <td>p046e34</td>\n",
       "      <td>1</td>\n",
       "      <td>2</td>\n",
       "      <td>1</td>\n",
       "      <td>True</td>\n",
       "      <td>True</td>\n",
       "    </tr>\n",
       "    <tr>\n",
       "      <th>54</th>\n",
       "      <td>5_{\\frac{3 \\pi}{2}}</td>\n",
       "      <td>[5, 3*pi/2]</td>\n",
       "      <td>- 5 i</td>\n",
       "      <td>Escribe en forma binómica los siguientes númer...</td>\n",
       "      <td>1BC</td>\n",
       "      <td>24 - Complejos</td>\n",
       "      <td>p046e34</td>\n",
       "      <td>1</td>\n",
       "      <td>2</td>\n",
       "      <td>1</td>\n",
       "      <td>True</td>\n",
       "      <td>True</td>\n",
       "    </tr>\n",
       "    <tr>\n",
       "      <th>55</th>\n",
       "      <td>1_{\\frac{5 \\pi}{6}}</td>\n",
       "      <td>[1, 5*pi/6]</td>\n",
       "      <td>- \\frac{\\sqrt{3}}{2} + \\frac{i}{2}</td>\n",
       "      <td>Escribe en forma binómica los siguientes númer...</td>\n",
       "      <td>1BC</td>\n",
       "      <td>24 - Complejos</td>\n",
       "      <td>p046e34</td>\n",
       "      <td>1</td>\n",
       "      <td>2</td>\n",
       "      <td>1</td>\n",
       "      <td>True</td>\n",
       "      <td>True</td>\n",
       "    </tr>\n",
       "    <tr>\n",
       "      <th>56</th>\n",
       "      <td>4_{\\frac{2 \\pi}{3}}</td>\n",
       "      <td>[4, 2*pi/3]</td>\n",
       "      <td>-2 + 2 \\sqrt{3} i</td>\n",
       "      <td>Escribe en forma binómica los siguientes númer...</td>\n",
       "      <td>1BC</td>\n",
       "      <td>24 - Complejos</td>\n",
       "      <td>p046e34</td>\n",
       "      <td>1</td>\n",
       "      <td>2</td>\n",
       "      <td>1</td>\n",
       "      <td>True</td>\n",
       "      <td>True</td>\n",
       "    </tr>\n",
       "    <tr>\n",
       "      <th>57</th>\n",
       "      <td>(k-i)^3</td>\n",
       "      <td>(-i + k)**3</td>\n",
       "      <td>k^{3} - 3 i k^{2} - 3 k + i\\to\\left [ - \\frac{...</td>\n",
       "      <td>Determina el valor que debe tener k para que l...</td>\n",
       "      <td>1BC</td>\n",
       "      <td>24 - Complejos</td>\n",
       "      <td>p045e05</td>\n",
       "      <td>1</td>\n",
       "      <td>2</td>\n",
       "      <td>1</td>\n",
       "      <td>True</td>\n",
       "      <td>True</td>\n",
       "    </tr>\n",
       "    <tr>\n",
       "      <th>58</th>\n",
       "      <td>8\\ y \\ 10</td>\n",
       "      <td>[8, 10]</td>\n",
       "      <td>4 - 3 i\\land4 + 3 i</td>\n",
       "      <td>Calcula dos números complejos conjugados cuya ...</td>\n",
       "      <td>1BC</td>\n",
       "      <td>24 - Complejos</td>\n",
       "      <td>p047e51</td>\n",
       "      <td>1</td>\n",
       "      <td>2</td>\n",
       "      <td>1</td>\n",
       "      <td>True</td>\n",
       "      <td>True</td>\n",
       "    </tr>\n",
       "    <tr>\n",
       "      <th>59</th>\n",
       "      <td>i k + \\frac{1}{3} + i \\ y \\sqrt{2}_{\\frac{7 \\p...</td>\n",
       "      <td>[I*k + 1/3 + I, [sqrt(2), 7*pi/4]]</td>\n",
       "      <td>\\left [ \\right ]\\land\\left [ -1\\right ]</td>\n",
       "      <td>Determina el valor que han de tener a y k para...</td>\n",
       "      <td>1BC</td>\n",
       "      <td>24 - Complejos</td>\n",
       "      <td>p047e40</td>\n",
       "      <td>1</td>\n",
       "      <td>2</td>\n",
       "      <td>1</td>\n",
       "      <td>True</td>\n",
       "      <td>True</td>\n",
       "    </tr>\n",
       "    <tr>\n",
       "      <th>60</th>\n",
       "      <td>\\frac{a + 2 i}{3+k\\cdot i} \\ y \\sqrt{2}_{\\frac...</td>\n",
       "      <td>['\\\\frac{a + 2 i}{3+k\\\\cdot i}', [sqrt(2), 7*p...</td>\n",
       "      <td>\\left [ \\left \\{ a : 8, \\quad k : 5\\right \\}\\r...</td>\n",
       "      <td>Determina el valor que han de tener a y k para...</td>\n",
       "      <td>1BC</td>\n",
       "      <td>24 - Complejos</td>\n",
       "      <td>p047e40</td>\n",
       "      <td>1</td>\n",
       "      <td>2</td>\n",
       "      <td>1</td>\n",
       "      <td>True</td>\n",
       "      <td>True</td>\n",
       "    </tr>\n",
       "  </tbody>\n",
       "</table>\n",
       "<p>61 rows × 12 columns</p>\n",
       "</div>"
      ],
      "text/plain": [
       "                                      enunciado_latex  \\\n",
       "0                             (7-2i)^2 + (3+4i)(5-2i)   \n",
       "1                            (2+i)^2(3-2i) + (5-i)i^2   \n",
       "2   (\\sqrt{3}  - 2i)^2 + (2\\sqrt{3}  -  5i)({1  - ...   \n",
       "3         (i^7-1)(i^{16} + i^3-i^9)^5 + (1-2i)^5(1+i)   \n",
       "4                             (1+i)^2+\\frac{1+i}{1-i}   \n",
       "5                    (k+5i) + (3+i) = (1+5i) + (-k+i)   \n",
       "6                               (1+3i)(k+2i) = 13+59i   \n",
       "7                      k+\\frac{4}{5}i=\\frac{5+i}{3-i}   \n",
       "8                                             -1 + 2i   \n",
       "9                                         3-\\sqrt{2}i   \n",
       "10                           \\frac{1}{3}-\\frac{1}{2}i   \n",
       "11                          \\frac{{k - 2i}}{{3 + 4i}}   \n",
       "12                               k-2+(\\frac{1}{4}+k)i   \n",
       "13                                            (k-i)^3   \n",
       "14                                                1+i   \n",
       "15                                             (1+i)i   \n",
       "16                                      (1+i)i\\cdot i   \n",
       "17                              (1+i)i\\cdot i \\cdot i   \n",
       "18                                                  i   \n",
       "19                  \\frac{1}{2}(-1+\\sqrt{3}i) \\cdot i   \n",
       "20  \\frac{1}{2}(-1+\\sqrt{3}i) \\cdot \\frac{1}{2}(-1...   \n",
       "21                                        \\sqrt{3}-2i   \n",
       "22                                               4-2i   \n",
       "23                                        (5-i)(3+2i)   \n",
       "24                             (2+\\frac{1}{3}i)(-5-i)   \n",
       "25                                         (2-i)(2+i)   \n",
       "26                        (3-\\frac{1}{4}i)(2-i)(3+2i)   \n",
       "27                                   \\frac{2-i}{1+3i}   \n",
       "28                    \\frac{{\\sqrt{2} - 3i}}{{2 + i}}   \n",
       "29                                  \\frac{1}{{3 - i}}   \n",
       "..                                                ...   \n",
       "31                                  \\frac{{5 - i}}{i}   \n",
       "32                              \\frac{1 + 2i}{3 + 3i}   \n",
       "33  ({\\sqrt {2}  - i})\\frac{{\\sqrt{ 2} +i}}{{1 - 2i}}   \n",
       "34   ( {2\\sqrt {3} - i})\\frac{{\\sqrt {3} i}}{{1 + i}}   \n",
       "35       \\frac{{1 - i}}{{3 + 2i}}\\frac{{2i}}{{1 + i}}   \n",
       "36  \\frac{{\\sqrt {2} }}{{ - 2 - i}}\\frac{1}{{2 + 3i}}   \n",
       "37                                    2 - 2\\sqrt {3}i   \n",
       "38                                               -1-i   \n",
       "39                                     \\sqrt {3}  + i   \n",
       "40                                       2\\sqrt{3}+2i   \n",
       "41                                               2-2i   \n",
       "42                                              -5-5i   \n",
       "43                                                 5i   \n",
       "44                                                  4   \n",
       "45                                                1+i   \n",
       "46                                                -9i   \n",
       "47                                              -3+3i   \n",
       "48                                         \\sqrt{3}+i   \n",
       "49                                  2_{\\frac{\\pi}{4}}   \n",
       "50                                  3_{\\frac{\\pi}{6}}   \n",
       "51                                     \\sqrt{2}_{\\pi}   \n",
       "52                                             17_{0}   \n",
       "53                                  1_{\\frac{\\pi}{2}}   \n",
       "54                                5_{\\frac{3 \\pi}{2}}   \n",
       "55                                1_{\\frac{5 \\pi}{6}}   \n",
       "56                                4_{\\frac{2 \\pi}{3}}   \n",
       "57                                            (k-i)^3   \n",
       "58                                          8\\ y \\ 10   \n",
       "59  i k + \\frac{1}{3} + i \\ y \\sqrt{2}_{\\frac{7 \\p...   \n",
       "60  \\frac{a + 2 i}{3+k\\cdot i} \\ y \\sqrt{2}_{\\frac...   \n",
       "\n",
       "                                            enunciado  \\\n",
       "0                (-2*i + 5)*(4*i + 3) + (-2*i + 7)**2   \n",
       "1               i**2*(-i + 5) + (-2*i + 3)*(i + 2)**2   \n",
       "2   (-5*i + 2*sqrt(3))*(-2*i + 1) + (-2*i + sqrt(3...   \n",
       "3   (-2*i + 1)**5*(i + 1) + (i**7 - 1)*(-i**9 + i*...   \n",
       "4                       (i + 1)**2 + (i + 1)/(-i + 1)   \n",
       "5                Eq(i + 3 + 5*i + k, i - k + 5*i + 1)   \n",
       "6                  Eq((2*i + k)*(3*i + 1), 59*i + 13)   \n",
       "7                   Eq((4/5)*i + k, (i + 5)/(-i + 3))   \n",
       "8                                             2*i - 1   \n",
       "9                                      -sqrt(2)*i + 3   \n",
       "10                                         -i/2 + 1/3   \n",
       "11                               (-2*i + k)/(4*i + 3)   \n",
       "12                                i*(k + 1/4) + k - 2   \n",
       "13                                        (-i + k)**3   \n",
       "14                                              i + 1   \n",
       "15                                          i*(i + 1)   \n",
       "16                                      i*(i*(i + 1))   \n",
       "17                                  i*(i*(i*(i + 1)))   \n",
       "18                                                  i   \n",
       "19                              i*((sqrt(3)*i - 1)/2)   \n",
       "20        i*(((sqrt(3)*i - 1)/2)*((sqrt(3)*i - 1)/2))   \n",
       "21                                     -2*i + sqrt(3)   \n",
       "22                                           -2*i + 4   \n",
       "23                                 (-i + 5)*(2*i + 3)   \n",
       "24                                 (-i - 5)*(i/3 + 2)   \n",
       "25                                   (-i + 2)*(i + 2)   \n",
       "26                    ((-i + 2)*(2*i + 3))*(-i/4 + 3)   \n",
       "27                                 (-i + 2)/(3*i + 1)   \n",
       "28                           (-3*i + sqrt(2))/(i + 2)   \n",
       "29                                         1/(-i + 3)   \n",
       "..                                                ...   \n",
       "31                                         (-i + 5)/i   \n",
       "32                                (2*i + 1)/(3*i + 3)   \n",
       "33          ((i + sqrt(2))/(-2*i + 1))*(-i + sqrt(2))   \n",
       "34             ((sqrt(3)*i)/(i + 1))*(-i + 2*sqrt(3))   \n",
       "35               ((2*i)/(i + 1))*((-i + 1)/(2*i + 3))   \n",
       "36                       (sqrt(2)/(-i - 2))/(3*i + 2)   \n",
       "37                                   -2*sqrt(3)*i + 2   \n",
       "38                                             -i - 1   \n",
       "39                                        i + sqrt(3)   \n",
       "40                                    2*i + 2*sqrt(3)   \n",
       "41                                           -2*i + 2   \n",
       "42                                           -5*i - 5   \n",
       "43                                                5*i   \n",
       "44                                                  4   \n",
       "45                                              i + 1   \n",
       "46                                               -9*i   \n",
       "47                                            3*i - 3   \n",
       "48                                        i + sqrt(3)   \n",
       "49                                          [2, pi/4]   \n",
       "50                                          [3, pi/6]   \n",
       "51                                      [sqrt(2), pi]   \n",
       "52                                            [17, 0]   \n",
       "53                                          [1, pi/2]   \n",
       "54                                        [5, 3*pi/2]   \n",
       "55                                        [1, 5*pi/6]   \n",
       "56                                        [4, 2*pi/3]   \n",
       "57                                        (-i + k)**3   \n",
       "58                                            [8, 10]   \n",
       "59                 [I*k + 1/3 + I, [sqrt(2), 7*pi/4]]   \n",
       "60  ['\\\\frac{a + 2 i}{3+k\\\\cdot i}', [sqrt(2), 7*p...   \n",
       "\n",
       "                                             solucion  \\\n",
       "0                                           68 - 14 i   \n",
       "1                                            12 + 7 i   \n",
       "2   -11 + 2 \\sqrt{3} + i \\left(- 8 \\sqrt{3} - 5\\ri...   \n",
       "3                                                   0   \n",
       "4                                                 3 i   \n",
       "5                                  \\left [ -1\\right ]   \n",
       "6                            \\left \\{ k : 19\\right \\}   \n",
       "7                         \\left [ \\frac{7}{5}\\right ]   \n",
       "8                       - \\frac{1}{5} - \\frac{2 i}{5}   \n",
       "9                \\frac{3}{11} + \\frac{\\sqrt{2} i}{11}   \n",
       "10                    \\frac{12}{13} + \\frac{18 i}{13}   \n",
       "11  \\frac{3 k}{25} - \\frac{4 i k}{25} - \\frac{8}{2...   \n",
       "12  k + i k - 2 + \\frac{i}{4}\\to\\left [ - \\frac{1}...   \n",
       "13  k^{3} - 3 i k^{2} - 3 k + i\\to\\left [ - \\frac{...   \n",
       "14                         \\left ( 1, \\quad 1\\right )   \n",
       "15                        \\left ( -1, \\quad 1\\right )   \n",
       "16                       \\left ( -1, \\quad -1\\right )   \n",
       "17                        \\left ( 1, \\quad -1\\right )   \n",
       "18                         \\left ( 0, \\quad 1\\right )   \n",
       "19         \\left ( - 0.5 \\sqrt{3}, \\quad -0.5\\right )   \n",
       "20           \\left ( 0.5 \\sqrt{3}, \\quad -0.5\\right )   \n",
       "21                                                  7   \n",
       "22                                      - \\frac{i}{2}   \n",
       "23                                           17 + 7 i   \n",
       "24                    - \\frac{29}{3} - \\frac{11 i}{3}   \n",
       "25                                                  5   \n",
       "26                                   \\frac{97}{4} + i   \n",
       "27                    - \\frac{1}{10} - \\frac{7 i}{10}   \n",
       "28  - \\frac{3}{5} + \\frac{2 \\sqrt{2}}{5} - \\frac{6...   \n",
       "29                        \\frac{3}{10} + \\frac{i}{10}   \n",
       "..                                                ...   \n",
       "31                                           -1 - 5 i   \n",
       "32                          \\frac{1}{2} + \\frac{i}{6}   \n",
       "33                        \\frac{3}{5} + \\frac{6 i}{5}   \n",
       "34  \\frac{\\sqrt{3}}{2} + 3 - \\frac{\\sqrt{3} i}{2} ...   \n",
       "35                      \\frac{6}{13} - \\frac{4 i}{13}   \n",
       "36    - \\frac{\\sqrt{2}}{65} + \\frac{8 \\sqrt{2} i}{65}   \n",
       "37                                4_{- \\frac{\\pi}{3}}   \n",
       "38                       \\sqrt{2}_{- \\frac{3 \\pi}{4}}   \n",
       "39                                  2_{\\frac{\\pi}{6}}   \n",
       "40                                  4_{\\frac{\\pi}{6}}   \n",
       "41                       2 \\sqrt{2}_{- \\frac{\\pi}{4}}   \n",
       "42                     5 \\sqrt{2}_{- \\frac{3 \\pi}{4}}   \n",
       "43                                  5_{\\frac{\\pi}{2}}   \n",
       "44                                              4_{0}   \n",
       "45                           \\sqrt{2}_{\\frac{\\pi}{4}}   \n",
       "46                                9_{- \\frac{\\pi}{2}}   \n",
       "47                       3 \\sqrt{2}_{\\frac{3 \\pi}{4}}   \n",
       "48                                  2_{\\frac{\\pi}{6}}   \n",
       "49                              \\sqrt{2} + \\sqrt{2} i   \n",
       "50               \\frac{3 \\sqrt{3}}{2} + \\frac{3 i}{2}   \n",
       "51                                         - \\sqrt{2}   \n",
       "52                                                 17   \n",
       "53                                                  i   \n",
       "54                                              - 5 i   \n",
       "55                 - \\frac{\\sqrt{3}}{2} + \\frac{i}{2}   \n",
       "56                                  -2 + 2 \\sqrt{3} i   \n",
       "57  k^{3} - 3 i k^{2} - 3 k + i\\to\\left [ - \\frac{...   \n",
       "58                                4 - 3 i\\land4 + 3 i   \n",
       "59            \\left [ \\right ]\\land\\left [ -1\\right ]   \n",
       "60  \\left [ \\left \\{ a : 8, \\quad k : 5\\right \\}\\r...   \n",
       "\n",
       "                                                texto curso          titulo  \\\n",
       "0                                            Calcula:   1BC  24 - Complejos   \n",
       "1                                            Calcula:   1BC  24 - Complejos   \n",
       "2                                            Calcula:   1BC  24 - Complejos   \n",
       "3                                            Calcula:   1BC  24 - Complejos   \n",
       "4                                            Calcula:   1BC  24 - Complejos   \n",
       "5        Halla el valor de k, sabiendo que se cumple:   1BC  24 - Complejos   \n",
       "6        Halla el valor de k, sabiendo que se cumple:   1BC  24 - Complejos   \n",
       "7        Halla el valor de k, sabiendo que se cumple:   1BC  24 - Complejos   \n",
       "8   Calcula el inverso de los siguientes números c...   1BC  24 - Complejos   \n",
       "9   Calcula el inverso de los siguientes números c...   1BC  24 - Complejos   \n",
       "10  Calcula el inverso de los siguientes números c...   1BC  24 - Complejos   \n",
       "11  Calcular el valor de k para que la siguiente e...   1BC  24 - Complejos   \n",
       "12  Calcular el valor de k para que la siguiente e...   1BC  24 - Complejos   \n",
       "13  Determina el valor que debe tener k para que l...   1BC  24 - Complejos   \n",
       "14  Dados los siguientes números complejos, indica...   1BC  24 - Complejos   \n",
       "15  Dados los siguientes números complejos, indica...   1BC  24 - Complejos   \n",
       "16  Dados los siguientes números complejos, indica...   1BC  24 - Complejos   \n",
       "17  Dados los siguientes números complejos, indica...   1BC  24 - Complejos   \n",
       "18  Dados los siguientes números complejos, indica...   1BC  24 - Complejos   \n",
       "19  Dados los siguientes números complejos, indica...   1BC  24 - Complejos   \n",
       "20  Dados los siguientes números complejos, indica...   1BC  24 - Complejos   \n",
       "21  Dado el siguiente número $z$, calcula el valor...   1BC  24 - Complejos   \n",
       "22  Dado el siguiente número $z$, calcula el valor...   1BC  24 - Complejos   \n",
       "23                                            Calcula   1BC  24 - Complejos   \n",
       "24                                            Calcula   1BC  24 - Complejos   \n",
       "25                                            Calcula   1BC  24 - Complejos   \n",
       "26                                            Calcula   1BC  24 - Complejos   \n",
       "27                                            Calcula   1BC  24 - Complejos   \n",
       "28                                            Calcula   1BC  24 - Complejos   \n",
       "29                                            Calcula   1BC  24 - Complejos   \n",
       "..                                                ...   ...             ...   \n",
       "31                                            Calcula   1BC  24 - Complejos   \n",
       "32                                            Calcula   1BC  24 - Complejos   \n",
       "33                                            Calcula   1BC  24 - Complejos   \n",
       "34                                            Calcula   1BC  24 - Complejos   \n",
       "35                                            Calcula   1BC  24 - Complejos   \n",
       "36                                            Calcula   1BC  24 - Complejos   \n",
       "37  Calcular el módulo y el argumento (en radianes...   1BC  24 - Complejos   \n",
       "38  Calcular el módulo y el argumento (en radianes...   1BC  24 - Complejos   \n",
       "39  Calcular el módulo y el argumento (en radianes...   1BC  24 - Complejos   \n",
       "40  Calcular el módulo y el argumento (en radianes...   1BC  24 - Complejos   \n",
       "41  Calcular el módulo y el argumento (en radianes...   1BC  24 - Complejos   \n",
       "42  Calcular el módulo y el argumento (en radianes...   1BC  24 - Complejos   \n",
       "43  Calcular el módulo y el argumento (en radianes...   1BC  24 - Complejos   \n",
       "44  Calcular el módulo y el argumento (en radianes...   1BC  24 - Complejos   \n",
       "45  Calcular el módulo y el argumento (en radianes...   1BC  24 - Complejos   \n",
       "46  Calcular el módulo y el argumento (en radianes...   1BC  24 - Complejos   \n",
       "47  Calcular el módulo y el argumento (en radianes...   1BC  24 - Complejos   \n",
       "48  Calcular el módulo y el argumento (en radianes...   1BC  24 - Complejos   \n",
       "49  Escribe en forma binómica los siguientes númer...   1BC  24 - Complejos   \n",
       "50  Escribe en forma binómica los siguientes númer...   1BC  24 - Complejos   \n",
       "51  Escribe en forma binómica los siguientes númer...   1BC  24 - Complejos   \n",
       "52  Escribe en forma binómica los siguientes númer...   1BC  24 - Complejos   \n",
       "53  Escribe en forma binómica los siguientes númer...   1BC  24 - Complejos   \n",
       "54  Escribe en forma binómica los siguientes númer...   1BC  24 - Complejos   \n",
       "55  Escribe en forma binómica los siguientes númer...   1BC  24 - Complejos   \n",
       "56  Escribe en forma binómica los siguientes númer...   1BC  24 - Complejos   \n",
       "57  Determina el valor que debe tener k para que l...   1BC  24 - Complejos   \n",
       "58  Calcula dos números complejos conjugados cuya ...   1BC  24 - Complejos   \n",
       "59  Determina el valor que han de tener a y k para...   1BC  24 - Complejos   \n",
       "60  Determina el valor que han de tener a y k para...   1BC  24 - Complejos   \n",
       "\n",
       "    n_ejercicio  dificultad  n_columnas  puntos  enun_tex  sol_tex  \n",
       "0       p045e01           1           2       1      True     True  \n",
       "1       p045e01           1           2       1      True     True  \n",
       "2       p045e01           1           2       1      True     True  \n",
       "3       p045e01           1           2       1      True     True  \n",
       "4       p045e01           1           2       1      True     True  \n",
       "5       p045e02           1           2       1      True     True  \n",
       "6       p045e02           1           2       1      True     True  \n",
       "7       p045e02           1           2       1      True     True  \n",
       "8       p045e03           1           2       1      True     True  \n",
       "9       p045e03           1           2       1      True     True  \n",
       "10      p045e03           1           2       1      True     True  \n",
       "11   p045e04y14           1           2       1      True     True  \n",
       "12   p045e04y14           1           2       1      True     True  \n",
       "13      p045e05           1           2       1      True     True  \n",
       "14    p045e06y7           1           2       1      True     True  \n",
       "15    p045e06y7           1           2       1      True     True  \n",
       "16    p045e06y7           1           2       1      True     True  \n",
       "17    p045e06y7           1           2       1      True     True  \n",
       "18    p045e06y7           1           2       1      True     True  \n",
       "19    p045e06y7           1           2       1      True     True  \n",
       "20    p045e06y7           1           2       1      True     True  \n",
       "21      p045e11           1           2       1      True     True  \n",
       "22      p045e11           1           2       1      True     True  \n",
       "23      p045e17           1           2       1      True     True  \n",
       "24      p045e17           1           2       1      True     True  \n",
       "25      p045e17           1           2       1      True     True  \n",
       "26      p045e17           1           2       1      True     True  \n",
       "27      p045e17           1           2       1      True     True  \n",
       "28      p045e17           1           2       1      True     True  \n",
       "29      p045e17           1           2       1      True     True  \n",
       "..          ...         ...         ...     ...       ...      ...  \n",
       "31      p045e17           1           2       1      True     True  \n",
       "32      p045e17           1           2       1      True     True  \n",
       "33      p045e17           1           2       1      True     True  \n",
       "34      p045e17           1           2       1      True     True  \n",
       "35      p045e17           1           2       1      True     True  \n",
       "36      p045e17           1           2       1      True     True  \n",
       "37  p046e31y 32           1           2       1      True     True  \n",
       "38  p046e31y 32           1           2       1      True     True  \n",
       "39  p046e31y 32           1           2       1      True     True  \n",
       "40  p046e31y 32           1           2       1      True     True  \n",
       "41  p046e31y 32           1           2       1      True     True  \n",
       "42  p046e31y 32           1           2       1      True     True  \n",
       "43  p046e31y 32           1           2       1      True     True  \n",
       "44  p046e31y 32           1           2       1      True     True  \n",
       "45  p046e31y 32           1           2       1      True     True  \n",
       "46  p046e31y 32           1           2       1      True     True  \n",
       "47  p046e31y 32           1           2       1      True     True  \n",
       "48  p046e31y 32           1           2       1      True     True  \n",
       "49      p046e34           1           2       1      True     True  \n",
       "50      p046e34           1           2       1      True     True  \n",
       "51      p046e34           1           2       1      True     True  \n",
       "52      p046e34           1           2       1      True     True  \n",
       "53      p046e34           1           2       1      True     True  \n",
       "54      p046e34           1           2       1      True     True  \n",
       "55      p046e34           1           2       1      True     True  \n",
       "56      p046e34           1           2       1      True     True  \n",
       "57      p045e05           1           2       1      True     True  \n",
       "58      p047e51           1           2       1      True     True  \n",
       "59      p047e40           1           2       1      True     True  \n",
       "60      p047e40           1           2       1      True     True  \n",
       "\n",
       "[61 rows x 12 columns]"
      ]
     },
     "execution_count": 25,
     "metadata": {},
     "output_type": "execute_result"
    }
   ],
   "source": [
    "df_ejercicios"
   ]
  },
  {
   "cell_type": "code",
   "execution_count": 26,
   "metadata": {
    "scrolled": false
   },
   "outputs": [
    {
     "data": {
      "text/markdown": [
       "**Ejercicio: **p045e01"
      ],
      "text/plain": [
       "<IPython.core.display.Markdown object>"
      ]
     },
     "metadata": {},
     "output_type": "display_data"
    },
    {
     "data": {
      "text/html": [
       "<div>\n",
       "<style scoped>\n",
       "    .dataframe tbody tr th:only-of-type {\n",
       "        vertical-align: middle;\n",
       "    }\n",
       "\n",
       "    .dataframe tbody tr th {\n",
       "        vertical-align: top;\n",
       "    }\n",
       "\n",
       "    .dataframe thead th {\n",
       "        text-align: right;\n",
       "    }\n",
       "</style>\n",
       "<table border=\"1\" class=\"dataframe\">\n",
       "  <thead>\n",
       "    <tr style=\"text-align: right;\">\n",
       "      <th></th>\n",
       "      <th>enunciado_latex</th>\n",
       "      <th>enunciado</th>\n",
       "      <th>solucion</th>\n",
       "      <th>texto</th>\n",
       "      <th>curso</th>\n",
       "      <th>titulo</th>\n",
       "      <th>n_ejercicio</th>\n",
       "      <th>dificultad</th>\n",
       "      <th>n_columnas</th>\n",
       "      <th>puntos</th>\n",
       "      <th>enun_tex</th>\n",
       "      <th>sol_tex</th>\n",
       "    </tr>\n",
       "  </thead>\n",
       "  <tbody>\n",
       "    <tr>\n",
       "      <th>0</th>\n",
       "      <td>(7-2i)^2 + (3+4i)(5-2i)</td>\n",
       "      <td>(-2*i + 5)*(4*i + 3) + (-2*i + 7)**2</td>\n",
       "      <td>68 - 14 i</td>\n",
       "      <td>Calcula:</td>\n",
       "      <td>1BC</td>\n",
       "      <td>24 - Complejos</td>\n",
       "      <td>p045e01</td>\n",
       "      <td>1</td>\n",
       "      <td>2</td>\n",
       "      <td>1</td>\n",
       "      <td>True</td>\n",
       "      <td>True</td>\n",
       "    </tr>\n",
       "    <tr>\n",
       "      <th>1</th>\n",
       "      <td>(2+i)^2(3-2i) + (5-i)i^2</td>\n",
       "      <td>i**2*(-i + 5) + (-2*i + 3)*(i + 2)**2</td>\n",
       "      <td>12 + 7 i</td>\n",
       "      <td>Calcula:</td>\n",
       "      <td>1BC</td>\n",
       "      <td>24 - Complejos</td>\n",
       "      <td>p045e01</td>\n",
       "      <td>1</td>\n",
       "      <td>2</td>\n",
       "      <td>1</td>\n",
       "      <td>True</td>\n",
       "      <td>True</td>\n",
       "    </tr>\n",
       "    <tr>\n",
       "      <th>2</th>\n",
       "      <td>(\\sqrt{3}  - 2i)^2 + (2\\sqrt{3}  -  5i)({1  - ...</td>\n",
       "      <td>(-5*i + 2*sqrt(3))*(-2*i + 1) + (-2*i + sqrt(3...</td>\n",
       "      <td>-11 + 2 \\sqrt{3} + i \\left(- 8 \\sqrt{3} - 5\\ri...</td>\n",
       "      <td>Calcula:</td>\n",
       "      <td>1BC</td>\n",
       "      <td>24 - Complejos</td>\n",
       "      <td>p045e01</td>\n",
       "      <td>1</td>\n",
       "      <td>2</td>\n",
       "      <td>1</td>\n",
       "      <td>True</td>\n",
       "      <td>True</td>\n",
       "    </tr>\n",
       "    <tr>\n",
       "      <th>3</th>\n",
       "      <td>(i^7-1)(i^{16} + i^3-i^9)^5 + (1-2i)^5(1+i)</td>\n",
       "      <td>(-2*i + 1)**5*(i + 1) + (i**7 - 1)*(-i**9 + i*...</td>\n",
       "      <td>0</td>\n",
       "      <td>Calcula:</td>\n",
       "      <td>1BC</td>\n",
       "      <td>24 - Complejos</td>\n",
       "      <td>p045e01</td>\n",
       "      <td>1</td>\n",
       "      <td>2</td>\n",
       "      <td>1</td>\n",
       "      <td>True</td>\n",
       "      <td>True</td>\n",
       "    </tr>\n",
       "    <tr>\n",
       "      <th>4</th>\n",
       "      <td>(1+i)^2+\\frac{1+i}{1-i}</td>\n",
       "      <td>(i + 1)**2 + (i + 1)/(-i + 1)</td>\n",
       "      <td>3 i</td>\n",
       "      <td>Calcula:</td>\n",
       "      <td>1BC</td>\n",
       "      <td>24 - Complejos</td>\n",
       "      <td>p045e01</td>\n",
       "      <td>1</td>\n",
       "      <td>2</td>\n",
       "      <td>1</td>\n",
       "      <td>True</td>\n",
       "      <td>True</td>\n",
       "    </tr>\n",
       "  </tbody>\n",
       "</table>\n",
       "</div>"
      ],
      "text/plain": [
       "                                     enunciado_latex  \\\n",
       "0                            (7-2i)^2 + (3+4i)(5-2i)   \n",
       "1                           (2+i)^2(3-2i) + (5-i)i^2   \n",
       "2  (\\sqrt{3}  - 2i)^2 + (2\\sqrt{3}  -  5i)({1  - ...   \n",
       "3        (i^7-1)(i^{16} + i^3-i^9)^5 + (1-2i)^5(1+i)   \n",
       "4                            (1+i)^2+\\frac{1+i}{1-i}   \n",
       "\n",
       "                                           enunciado  \\\n",
       "0               (-2*i + 5)*(4*i + 3) + (-2*i + 7)**2   \n",
       "1              i**2*(-i + 5) + (-2*i + 3)*(i + 2)**2   \n",
       "2  (-5*i + 2*sqrt(3))*(-2*i + 1) + (-2*i + sqrt(3...   \n",
       "3  (-2*i + 1)**5*(i + 1) + (i**7 - 1)*(-i**9 + i*...   \n",
       "4                      (i + 1)**2 + (i + 1)/(-i + 1)   \n",
       "\n",
       "                                            solucion     texto curso  \\\n",
       "0                                          68 - 14 i  Calcula:   1BC   \n",
       "1                                           12 + 7 i  Calcula:   1BC   \n",
       "2  -11 + 2 \\sqrt{3} + i \\left(- 8 \\sqrt{3} - 5\\ri...  Calcula:   1BC   \n",
       "3                                                  0  Calcula:   1BC   \n",
       "4                                                3 i  Calcula:   1BC   \n",
       "\n",
       "           titulo n_ejercicio  dificultad  n_columnas  puntos  enun_tex  \\\n",
       "0  24 - Complejos     p045e01           1           2       1      True   \n",
       "1  24 - Complejos     p045e01           1           2       1      True   \n",
       "2  24 - Complejos     p045e01           1           2       1      True   \n",
       "3  24 - Complejos     p045e01           1           2       1      True   \n",
       "4  24 - Complejos     p045e01           1           2       1      True   \n",
       "\n",
       "   sol_tex  \n",
       "0     True  \n",
       "1     True  \n",
       "2     True  \n",
       "3     True  \n",
       "4     True  "
      ]
     },
     "metadata": {},
     "output_type": "display_data"
    },
    {
     "data": {
      "text/markdown": [
       "**Ejercicio: **p045e02"
      ],
      "text/plain": [
       "<IPython.core.display.Markdown object>"
      ]
     },
     "metadata": {},
     "output_type": "display_data"
    },
    {
     "data": {
      "text/html": [
       "<div>\n",
       "<style scoped>\n",
       "    .dataframe tbody tr th:only-of-type {\n",
       "        vertical-align: middle;\n",
       "    }\n",
       "\n",
       "    .dataframe tbody tr th {\n",
       "        vertical-align: top;\n",
       "    }\n",
       "\n",
       "    .dataframe thead th {\n",
       "        text-align: right;\n",
       "    }\n",
       "</style>\n",
       "<table border=\"1\" class=\"dataframe\">\n",
       "  <thead>\n",
       "    <tr style=\"text-align: right;\">\n",
       "      <th></th>\n",
       "      <th>enunciado_latex</th>\n",
       "      <th>enunciado</th>\n",
       "      <th>solucion</th>\n",
       "      <th>texto</th>\n",
       "      <th>curso</th>\n",
       "      <th>titulo</th>\n",
       "      <th>n_ejercicio</th>\n",
       "      <th>dificultad</th>\n",
       "      <th>n_columnas</th>\n",
       "      <th>puntos</th>\n",
       "      <th>enun_tex</th>\n",
       "      <th>sol_tex</th>\n",
       "    </tr>\n",
       "  </thead>\n",
       "  <tbody>\n",
       "    <tr>\n",
       "      <th>5</th>\n",
       "      <td>(k+5i) + (3+i) = (1+5i) + (-k+i)</td>\n",
       "      <td>Eq(i + 3 + 5*i + k, i - k + 5*i + 1)</td>\n",
       "      <td>\\left [ -1\\right ]</td>\n",
       "      <td>Halla el valor de k, sabiendo que se cumple:</td>\n",
       "      <td>1BC</td>\n",
       "      <td>24 - Complejos</td>\n",
       "      <td>p045e02</td>\n",
       "      <td>1</td>\n",
       "      <td>2</td>\n",
       "      <td>1</td>\n",
       "      <td>True</td>\n",
       "      <td>True</td>\n",
       "    </tr>\n",
       "    <tr>\n",
       "      <th>6</th>\n",
       "      <td>(1+3i)(k+2i) = 13+59i</td>\n",
       "      <td>Eq((2*i + k)*(3*i + 1), 59*i + 13)</td>\n",
       "      <td>\\left \\{ k : 19\\right \\}</td>\n",
       "      <td>Halla el valor de k, sabiendo que se cumple:</td>\n",
       "      <td>1BC</td>\n",
       "      <td>24 - Complejos</td>\n",
       "      <td>p045e02</td>\n",
       "      <td>1</td>\n",
       "      <td>2</td>\n",
       "      <td>1</td>\n",
       "      <td>True</td>\n",
       "      <td>True</td>\n",
       "    </tr>\n",
       "    <tr>\n",
       "      <th>7</th>\n",
       "      <td>k+\\frac{4}{5}i=\\frac{5+i}{3-i}</td>\n",
       "      <td>Eq((4/5)*i + k, (i + 5)/(-i + 3))</td>\n",
       "      <td>\\left [ \\frac{7}{5}\\right ]</td>\n",
       "      <td>Halla el valor de k, sabiendo que se cumple:</td>\n",
       "      <td>1BC</td>\n",
       "      <td>24 - Complejos</td>\n",
       "      <td>p045e02</td>\n",
       "      <td>1</td>\n",
       "      <td>2</td>\n",
       "      <td>1</td>\n",
       "      <td>True</td>\n",
       "      <td>True</td>\n",
       "    </tr>\n",
       "  </tbody>\n",
       "</table>\n",
       "</div>"
      ],
      "text/plain": [
       "                    enunciado_latex                             enunciado  \\\n",
       "5  (k+5i) + (3+i) = (1+5i) + (-k+i)  Eq(i + 3 + 5*i + k, i - k + 5*i + 1)   \n",
       "6             (1+3i)(k+2i) = 13+59i    Eq((2*i + k)*(3*i + 1), 59*i + 13)   \n",
       "7    k+\\frac{4}{5}i=\\frac{5+i}{3-i}     Eq((4/5)*i + k, (i + 5)/(-i + 3))   \n",
       "\n",
       "                      solucion                                         texto  \\\n",
       "5           \\left [ -1\\right ]  Halla el valor de k, sabiendo que se cumple:   \n",
       "6     \\left \\{ k : 19\\right \\}  Halla el valor de k, sabiendo que se cumple:   \n",
       "7  \\left [ \\frac{7}{5}\\right ]  Halla el valor de k, sabiendo que se cumple:   \n",
       "\n",
       "  curso          titulo n_ejercicio  dificultad  n_columnas  puntos  enun_tex  \\\n",
       "5   1BC  24 - Complejos     p045e02           1           2       1      True   \n",
       "6   1BC  24 - Complejos     p045e02           1           2       1      True   \n",
       "7   1BC  24 - Complejos     p045e02           1           2       1      True   \n",
       "\n",
       "   sol_tex  \n",
       "5     True  \n",
       "6     True  \n",
       "7     True  "
      ]
     },
     "metadata": {},
     "output_type": "display_data"
    },
    {
     "data": {
      "text/markdown": [
       "**Ejercicio: **p045e03"
      ],
      "text/plain": [
       "<IPython.core.display.Markdown object>"
      ]
     },
     "metadata": {},
     "output_type": "display_data"
    },
    {
     "data": {
      "text/html": [
       "<div>\n",
       "<style scoped>\n",
       "    .dataframe tbody tr th:only-of-type {\n",
       "        vertical-align: middle;\n",
       "    }\n",
       "\n",
       "    .dataframe tbody tr th {\n",
       "        vertical-align: top;\n",
       "    }\n",
       "\n",
       "    .dataframe thead th {\n",
       "        text-align: right;\n",
       "    }\n",
       "</style>\n",
       "<table border=\"1\" class=\"dataframe\">\n",
       "  <thead>\n",
       "    <tr style=\"text-align: right;\">\n",
       "      <th></th>\n",
       "      <th>enunciado_latex</th>\n",
       "      <th>enunciado</th>\n",
       "      <th>solucion</th>\n",
       "      <th>texto</th>\n",
       "      <th>curso</th>\n",
       "      <th>titulo</th>\n",
       "      <th>n_ejercicio</th>\n",
       "      <th>dificultad</th>\n",
       "      <th>n_columnas</th>\n",
       "      <th>puntos</th>\n",
       "      <th>enun_tex</th>\n",
       "      <th>sol_tex</th>\n",
       "    </tr>\n",
       "  </thead>\n",
       "  <tbody>\n",
       "    <tr>\n",
       "      <th>8</th>\n",
       "      <td>-1 + 2i</td>\n",
       "      <td>2*i - 1</td>\n",
       "      <td>- \\frac{1}{5} - \\frac{2 i}{5}</td>\n",
       "      <td>Calcula el inverso de los siguientes números c...</td>\n",
       "      <td>1BC</td>\n",
       "      <td>24 - Complejos</td>\n",
       "      <td>p045e03</td>\n",
       "      <td>1</td>\n",
       "      <td>2</td>\n",
       "      <td>1</td>\n",
       "      <td>True</td>\n",
       "      <td>True</td>\n",
       "    </tr>\n",
       "    <tr>\n",
       "      <th>9</th>\n",
       "      <td>3-\\sqrt{2}i</td>\n",
       "      <td>-sqrt(2)*i + 3</td>\n",
       "      <td>\\frac{3}{11} + \\frac{\\sqrt{2} i}{11}</td>\n",
       "      <td>Calcula el inverso de los siguientes números c...</td>\n",
       "      <td>1BC</td>\n",
       "      <td>24 - Complejos</td>\n",
       "      <td>p045e03</td>\n",
       "      <td>1</td>\n",
       "      <td>2</td>\n",
       "      <td>1</td>\n",
       "      <td>True</td>\n",
       "      <td>True</td>\n",
       "    </tr>\n",
       "    <tr>\n",
       "      <th>10</th>\n",
       "      <td>\\frac{1}{3}-\\frac{1}{2}i</td>\n",
       "      <td>-i/2 + 1/3</td>\n",
       "      <td>\\frac{12}{13} + \\frac{18 i}{13}</td>\n",
       "      <td>Calcula el inverso de los siguientes números c...</td>\n",
       "      <td>1BC</td>\n",
       "      <td>24 - Complejos</td>\n",
       "      <td>p045e03</td>\n",
       "      <td>1</td>\n",
       "      <td>2</td>\n",
       "      <td>1</td>\n",
       "      <td>True</td>\n",
       "      <td>True</td>\n",
       "    </tr>\n",
       "  </tbody>\n",
       "</table>\n",
       "</div>"
      ],
      "text/plain": [
       "             enunciado_latex       enunciado  \\\n",
       "8                    -1 + 2i         2*i - 1   \n",
       "9                3-\\sqrt{2}i  -sqrt(2)*i + 3   \n",
       "10  \\frac{1}{3}-\\frac{1}{2}i      -i/2 + 1/3   \n",
       "\n",
       "                                solucion  \\\n",
       "8          - \\frac{1}{5} - \\frac{2 i}{5}   \n",
       "9   \\frac{3}{11} + \\frac{\\sqrt{2} i}{11}   \n",
       "10       \\frac{12}{13} + \\frac{18 i}{13}   \n",
       "\n",
       "                                                texto curso          titulo  \\\n",
       "8   Calcula el inverso de los siguientes números c...   1BC  24 - Complejos   \n",
       "9   Calcula el inverso de los siguientes números c...   1BC  24 - Complejos   \n",
       "10  Calcula el inverso de los siguientes números c...   1BC  24 - Complejos   \n",
       "\n",
       "   n_ejercicio  dificultad  n_columnas  puntos  enun_tex  sol_tex  \n",
       "8      p045e03           1           2       1      True     True  \n",
       "9      p045e03           1           2       1      True     True  \n",
       "10     p045e03           1           2       1      True     True  "
      ]
     },
     "metadata": {},
     "output_type": "display_data"
    },
    {
     "data": {
      "text/markdown": [
       "**Ejercicio: **p045e04y14"
      ],
      "text/plain": [
       "<IPython.core.display.Markdown object>"
      ]
     },
     "metadata": {},
     "output_type": "display_data"
    },
    {
     "data": {
      "text/html": [
       "<div>\n",
       "<style scoped>\n",
       "    .dataframe tbody tr th:only-of-type {\n",
       "        vertical-align: middle;\n",
       "    }\n",
       "\n",
       "    .dataframe tbody tr th {\n",
       "        vertical-align: top;\n",
       "    }\n",
       "\n",
       "    .dataframe thead th {\n",
       "        text-align: right;\n",
       "    }\n",
       "</style>\n",
       "<table border=\"1\" class=\"dataframe\">\n",
       "  <thead>\n",
       "    <tr style=\"text-align: right;\">\n",
       "      <th></th>\n",
       "      <th>enunciado_latex</th>\n",
       "      <th>enunciado</th>\n",
       "      <th>solucion</th>\n",
       "      <th>texto</th>\n",
       "      <th>curso</th>\n",
       "      <th>titulo</th>\n",
       "      <th>n_ejercicio</th>\n",
       "      <th>dificultad</th>\n",
       "      <th>n_columnas</th>\n",
       "      <th>puntos</th>\n",
       "      <th>enun_tex</th>\n",
       "      <th>sol_tex</th>\n",
       "    </tr>\n",
       "  </thead>\n",
       "  <tbody>\n",
       "    <tr>\n",
       "      <th>11</th>\n",
       "      <td>\\frac{{k - 2i}}{{3 + 4i}}</td>\n",
       "      <td>(-2*i + k)/(4*i + 3)</td>\n",
       "      <td>\\frac{3 k}{25} - \\frac{4 i k}{25} - \\frac{8}{2...</td>\n",
       "      <td>Calcular el valor de k para que la siguiente e...</td>\n",
       "      <td>1BC</td>\n",
       "      <td>24 - Complejos</td>\n",
       "      <td>p045e04y14</td>\n",
       "      <td>1</td>\n",
       "      <td>2</td>\n",
       "      <td>1</td>\n",
       "      <td>True</td>\n",
       "      <td>True</td>\n",
       "    </tr>\n",
       "    <tr>\n",
       "      <th>12</th>\n",
       "      <td>k-2+(\\frac{1}{4}+k)i</td>\n",
       "      <td>i*(k + 1/4) + k - 2</td>\n",
       "      <td>k + i k - 2 + \\frac{i}{4}\\to\\left [ - \\frac{1}...</td>\n",
       "      <td>Calcular el valor de k para que la siguiente e...</td>\n",
       "      <td>1BC</td>\n",
       "      <td>24 - Complejos</td>\n",
       "      <td>p045e04y14</td>\n",
       "      <td>1</td>\n",
       "      <td>2</td>\n",
       "      <td>1</td>\n",
       "      <td>True</td>\n",
       "      <td>True</td>\n",
       "    </tr>\n",
       "  </tbody>\n",
       "</table>\n",
       "</div>"
      ],
      "text/plain": [
       "              enunciado_latex             enunciado  \\\n",
       "11  \\frac{{k - 2i}}{{3 + 4i}}  (-2*i + k)/(4*i + 3)   \n",
       "12       k-2+(\\frac{1}{4}+k)i   i*(k + 1/4) + k - 2   \n",
       "\n",
       "                                             solucion  \\\n",
       "11  \\frac{3 k}{25} - \\frac{4 i k}{25} - \\frac{8}{2...   \n",
       "12  k + i k - 2 + \\frac{i}{4}\\to\\left [ - \\frac{1}...   \n",
       "\n",
       "                                                texto curso          titulo  \\\n",
       "11  Calcular el valor de k para que la siguiente e...   1BC  24 - Complejos   \n",
       "12  Calcular el valor de k para que la siguiente e...   1BC  24 - Complejos   \n",
       "\n",
       "   n_ejercicio  dificultad  n_columnas  puntos  enun_tex  sol_tex  \n",
       "11  p045e04y14           1           2       1      True     True  \n",
       "12  p045e04y14           1           2       1      True     True  "
      ]
     },
     "metadata": {},
     "output_type": "display_data"
    },
    {
     "data": {
      "text/markdown": [
       "**Ejercicio: **p045e05"
      ],
      "text/plain": [
       "<IPython.core.display.Markdown object>"
      ]
     },
     "metadata": {},
     "output_type": "display_data"
    },
    {
     "data": {
      "text/html": [
       "<div>\n",
       "<style scoped>\n",
       "    .dataframe tbody tr th:only-of-type {\n",
       "        vertical-align: middle;\n",
       "    }\n",
       "\n",
       "    .dataframe tbody tr th {\n",
       "        vertical-align: top;\n",
       "    }\n",
       "\n",
       "    .dataframe thead th {\n",
       "        text-align: right;\n",
       "    }\n",
       "</style>\n",
       "<table border=\"1\" class=\"dataframe\">\n",
       "  <thead>\n",
       "    <tr style=\"text-align: right;\">\n",
       "      <th></th>\n",
       "      <th>enunciado_latex</th>\n",
       "      <th>enunciado</th>\n",
       "      <th>solucion</th>\n",
       "      <th>texto</th>\n",
       "      <th>curso</th>\n",
       "      <th>titulo</th>\n",
       "      <th>n_ejercicio</th>\n",
       "      <th>dificultad</th>\n",
       "      <th>n_columnas</th>\n",
       "      <th>puntos</th>\n",
       "      <th>enun_tex</th>\n",
       "      <th>sol_tex</th>\n",
       "    </tr>\n",
       "  </thead>\n",
       "  <tbody>\n",
       "    <tr>\n",
       "      <th>13</th>\n",
       "      <td>(k-i)^3</td>\n",
       "      <td>(-i + k)**3</td>\n",
       "      <td>k^{3} - 3 i k^{2} - 3 k + i\\to\\left [ - \\frac{...</td>\n",
       "      <td>Determina el valor que debe tener k para que l...</td>\n",
       "      <td>1BC</td>\n",
       "      <td>24 - Complejos</td>\n",
       "      <td>p045e05</td>\n",
       "      <td>1</td>\n",
       "      <td>2</td>\n",
       "      <td>1</td>\n",
       "      <td>True</td>\n",
       "      <td>True</td>\n",
       "    </tr>\n",
       "    <tr>\n",
       "      <th>57</th>\n",
       "      <td>(k-i)^3</td>\n",
       "      <td>(-i + k)**3</td>\n",
       "      <td>k^{3} - 3 i k^{2} - 3 k + i\\to\\left [ - \\frac{...</td>\n",
       "      <td>Determina el valor que debe tener k para que l...</td>\n",
       "      <td>1BC</td>\n",
       "      <td>24 - Complejos</td>\n",
       "      <td>p045e05</td>\n",
       "      <td>1</td>\n",
       "      <td>2</td>\n",
       "      <td>1</td>\n",
       "      <td>True</td>\n",
       "      <td>True</td>\n",
       "    </tr>\n",
       "  </tbody>\n",
       "</table>\n",
       "</div>"
      ],
      "text/plain": [
       "   enunciado_latex    enunciado  \\\n",
       "13         (k-i)^3  (-i + k)**3   \n",
       "57         (k-i)^3  (-i + k)**3   \n",
       "\n",
       "                                             solucion  \\\n",
       "13  k^{3} - 3 i k^{2} - 3 k + i\\to\\left [ - \\frac{...   \n",
       "57  k^{3} - 3 i k^{2} - 3 k + i\\to\\left [ - \\frac{...   \n",
       "\n",
       "                                                texto curso          titulo  \\\n",
       "13  Determina el valor que debe tener k para que l...   1BC  24 - Complejos   \n",
       "57  Determina el valor que debe tener k para que l...   1BC  24 - Complejos   \n",
       "\n",
       "   n_ejercicio  dificultad  n_columnas  puntos  enun_tex  sol_tex  \n",
       "13     p045e05           1           2       1      True     True  \n",
       "57     p045e05           1           2       1      True     True  "
      ]
     },
     "metadata": {},
     "output_type": "display_data"
    },
    {
     "data": {
      "text/markdown": [
       "**Ejercicio: **p045e06y7"
      ],
      "text/plain": [
       "<IPython.core.display.Markdown object>"
      ]
     },
     "metadata": {},
     "output_type": "display_data"
    },
    {
     "data": {
      "text/html": [
       "<div>\n",
       "<style scoped>\n",
       "    .dataframe tbody tr th:only-of-type {\n",
       "        vertical-align: middle;\n",
       "    }\n",
       "\n",
       "    .dataframe tbody tr th {\n",
       "        vertical-align: top;\n",
       "    }\n",
       "\n",
       "    .dataframe thead th {\n",
       "        text-align: right;\n",
       "    }\n",
       "</style>\n",
       "<table border=\"1\" class=\"dataframe\">\n",
       "  <thead>\n",
       "    <tr style=\"text-align: right;\">\n",
       "      <th></th>\n",
       "      <th>enunciado_latex</th>\n",
       "      <th>enunciado</th>\n",
       "      <th>solucion</th>\n",
       "      <th>texto</th>\n",
       "      <th>curso</th>\n",
       "      <th>titulo</th>\n",
       "      <th>n_ejercicio</th>\n",
       "      <th>dificultad</th>\n",
       "      <th>n_columnas</th>\n",
       "      <th>puntos</th>\n",
       "      <th>enun_tex</th>\n",
       "      <th>sol_tex</th>\n",
       "    </tr>\n",
       "  </thead>\n",
       "  <tbody>\n",
       "    <tr>\n",
       "      <th>14</th>\n",
       "      <td>1+i</td>\n",
       "      <td>i + 1</td>\n",
       "      <td>\\left ( 1, \\quad 1\\right )</td>\n",
       "      <td>Dados los siguientes números complejos, indica...</td>\n",
       "      <td>1BC</td>\n",
       "      <td>24 - Complejos</td>\n",
       "      <td>p045e06y7</td>\n",
       "      <td>1</td>\n",
       "      <td>2</td>\n",
       "      <td>1</td>\n",
       "      <td>True</td>\n",
       "      <td>True</td>\n",
       "    </tr>\n",
       "    <tr>\n",
       "      <th>15</th>\n",
       "      <td>(1+i)i</td>\n",
       "      <td>i*(i + 1)</td>\n",
       "      <td>\\left ( -1, \\quad 1\\right )</td>\n",
       "      <td>Dados los siguientes números complejos, indica...</td>\n",
       "      <td>1BC</td>\n",
       "      <td>24 - Complejos</td>\n",
       "      <td>p045e06y7</td>\n",
       "      <td>1</td>\n",
       "      <td>2</td>\n",
       "      <td>1</td>\n",
       "      <td>True</td>\n",
       "      <td>True</td>\n",
       "    </tr>\n",
       "    <tr>\n",
       "      <th>16</th>\n",
       "      <td>(1+i)i\\cdot i</td>\n",
       "      <td>i*(i*(i + 1))</td>\n",
       "      <td>\\left ( -1, \\quad -1\\right )</td>\n",
       "      <td>Dados los siguientes números complejos, indica...</td>\n",
       "      <td>1BC</td>\n",
       "      <td>24 - Complejos</td>\n",
       "      <td>p045e06y7</td>\n",
       "      <td>1</td>\n",
       "      <td>2</td>\n",
       "      <td>1</td>\n",
       "      <td>True</td>\n",
       "      <td>True</td>\n",
       "    </tr>\n",
       "    <tr>\n",
       "      <th>17</th>\n",
       "      <td>(1+i)i\\cdot i \\cdot i</td>\n",
       "      <td>i*(i*(i*(i + 1)))</td>\n",
       "      <td>\\left ( 1, \\quad -1\\right )</td>\n",
       "      <td>Dados los siguientes números complejos, indica...</td>\n",
       "      <td>1BC</td>\n",
       "      <td>24 - Complejos</td>\n",
       "      <td>p045e06y7</td>\n",
       "      <td>1</td>\n",
       "      <td>2</td>\n",
       "      <td>1</td>\n",
       "      <td>True</td>\n",
       "      <td>True</td>\n",
       "    </tr>\n",
       "    <tr>\n",
       "      <th>18</th>\n",
       "      <td>i</td>\n",
       "      <td>i</td>\n",
       "      <td>\\left ( 0, \\quad 1\\right )</td>\n",
       "      <td>Dados los siguientes números complejos, indica...</td>\n",
       "      <td>1BC</td>\n",
       "      <td>24 - Complejos</td>\n",
       "      <td>p045e06y7</td>\n",
       "      <td>1</td>\n",
       "      <td>2</td>\n",
       "      <td>1</td>\n",
       "      <td>True</td>\n",
       "      <td>True</td>\n",
       "    </tr>\n",
       "    <tr>\n",
       "      <th>19</th>\n",
       "      <td>\\frac{1}{2}(-1+\\sqrt{3}i) \\cdot i</td>\n",
       "      <td>i*((sqrt(3)*i - 1)/2)</td>\n",
       "      <td>\\left ( - 0.5 \\sqrt{3}, \\quad -0.5\\right )</td>\n",
       "      <td>Dados los siguientes números complejos, indica...</td>\n",
       "      <td>1BC</td>\n",
       "      <td>24 - Complejos</td>\n",
       "      <td>p045e06y7</td>\n",
       "      <td>1</td>\n",
       "      <td>2</td>\n",
       "      <td>1</td>\n",
       "      <td>True</td>\n",
       "      <td>True</td>\n",
       "    </tr>\n",
       "    <tr>\n",
       "      <th>20</th>\n",
       "      <td>\\frac{1}{2}(-1+\\sqrt{3}i) \\cdot \\frac{1}{2}(-1...</td>\n",
       "      <td>i*(((sqrt(3)*i - 1)/2)*((sqrt(3)*i - 1)/2))</td>\n",
       "      <td>\\left ( 0.5 \\sqrt{3}, \\quad -0.5\\right )</td>\n",
       "      <td>Dados los siguientes números complejos, indica...</td>\n",
       "      <td>1BC</td>\n",
       "      <td>24 - Complejos</td>\n",
       "      <td>p045e06y7</td>\n",
       "      <td>1</td>\n",
       "      <td>2</td>\n",
       "      <td>1</td>\n",
       "      <td>True</td>\n",
       "      <td>True</td>\n",
       "    </tr>\n",
       "  </tbody>\n",
       "</table>\n",
       "</div>"
      ],
      "text/plain": [
       "                                      enunciado_latex  \\\n",
       "14                                                1+i   \n",
       "15                                             (1+i)i   \n",
       "16                                      (1+i)i\\cdot i   \n",
       "17                              (1+i)i\\cdot i \\cdot i   \n",
       "18                                                  i   \n",
       "19                  \\frac{1}{2}(-1+\\sqrt{3}i) \\cdot i   \n",
       "20  \\frac{1}{2}(-1+\\sqrt{3}i) \\cdot \\frac{1}{2}(-1...   \n",
       "\n",
       "                                      enunciado  \\\n",
       "14                                        i + 1   \n",
       "15                                    i*(i + 1)   \n",
       "16                                i*(i*(i + 1))   \n",
       "17                            i*(i*(i*(i + 1)))   \n",
       "18                                            i   \n",
       "19                        i*((sqrt(3)*i - 1)/2)   \n",
       "20  i*(((sqrt(3)*i - 1)/2)*((sqrt(3)*i - 1)/2))   \n",
       "\n",
       "                                      solucion  \\\n",
       "14                  \\left ( 1, \\quad 1\\right )   \n",
       "15                 \\left ( -1, \\quad 1\\right )   \n",
       "16                \\left ( -1, \\quad -1\\right )   \n",
       "17                 \\left ( 1, \\quad -1\\right )   \n",
       "18                  \\left ( 0, \\quad 1\\right )   \n",
       "19  \\left ( - 0.5 \\sqrt{3}, \\quad -0.5\\right )   \n",
       "20    \\left ( 0.5 \\sqrt{3}, \\quad -0.5\\right )   \n",
       "\n",
       "                                                texto curso          titulo  \\\n",
       "14  Dados los siguientes números complejos, indica...   1BC  24 - Complejos   \n",
       "15  Dados los siguientes números complejos, indica...   1BC  24 - Complejos   \n",
       "16  Dados los siguientes números complejos, indica...   1BC  24 - Complejos   \n",
       "17  Dados los siguientes números complejos, indica...   1BC  24 - Complejos   \n",
       "18  Dados los siguientes números complejos, indica...   1BC  24 - Complejos   \n",
       "19  Dados los siguientes números complejos, indica...   1BC  24 - Complejos   \n",
       "20  Dados los siguientes números complejos, indica...   1BC  24 - Complejos   \n",
       "\n",
       "   n_ejercicio  dificultad  n_columnas  puntos  enun_tex  sol_tex  \n",
       "14   p045e06y7           1           2       1      True     True  \n",
       "15   p045e06y7           1           2       1      True     True  \n",
       "16   p045e06y7           1           2       1      True     True  \n",
       "17   p045e06y7           1           2       1      True     True  \n",
       "18   p045e06y7           1           2       1      True     True  \n",
       "19   p045e06y7           1           2       1      True     True  \n",
       "20   p045e06y7           1           2       1      True     True  "
      ]
     },
     "metadata": {},
     "output_type": "display_data"
    },
    {
     "data": {
      "text/markdown": [
       "**Ejercicio: **p045e11"
      ],
      "text/plain": [
       "<IPython.core.display.Markdown object>"
      ]
     },
     "metadata": {},
     "output_type": "display_data"
    },
    {
     "data": {
      "text/html": [
       "<div>\n",
       "<style scoped>\n",
       "    .dataframe tbody tr th:only-of-type {\n",
       "        vertical-align: middle;\n",
       "    }\n",
       "\n",
       "    .dataframe tbody tr th {\n",
       "        vertical-align: top;\n",
       "    }\n",
       "\n",
       "    .dataframe thead th {\n",
       "        text-align: right;\n",
       "    }\n",
       "</style>\n",
       "<table border=\"1\" class=\"dataframe\">\n",
       "  <thead>\n",
       "    <tr style=\"text-align: right;\">\n",
       "      <th></th>\n",
       "      <th>enunciado_latex</th>\n",
       "      <th>enunciado</th>\n",
       "      <th>solucion</th>\n",
       "      <th>texto</th>\n",
       "      <th>curso</th>\n",
       "      <th>titulo</th>\n",
       "      <th>n_ejercicio</th>\n",
       "      <th>dificultad</th>\n",
       "      <th>n_columnas</th>\n",
       "      <th>puntos</th>\n",
       "      <th>enun_tex</th>\n",
       "      <th>sol_tex</th>\n",
       "    </tr>\n",
       "  </thead>\n",
       "  <tbody>\n",
       "    <tr>\n",
       "      <th>21</th>\n",
       "      <td>\\sqrt{3}-2i</td>\n",
       "      <td>-2*i + sqrt(3)</td>\n",
       "      <td>7</td>\n",
       "      <td>Dado el siguiente número $z$, calcula el valor...</td>\n",
       "      <td>1BC</td>\n",
       "      <td>24 - Complejos</td>\n",
       "      <td>p045e11</td>\n",
       "      <td>1</td>\n",
       "      <td>2</td>\n",
       "      <td>1</td>\n",
       "      <td>True</td>\n",
       "      <td>True</td>\n",
       "    </tr>\n",
       "    <tr>\n",
       "      <th>22</th>\n",
       "      <td>4-2i</td>\n",
       "      <td>-2*i + 4</td>\n",
       "      <td>- \\frac{i}{2}</td>\n",
       "      <td>Dado el siguiente número $z$, calcula el valor...</td>\n",
       "      <td>1BC</td>\n",
       "      <td>24 - Complejos</td>\n",
       "      <td>p045e11</td>\n",
       "      <td>1</td>\n",
       "      <td>2</td>\n",
       "      <td>1</td>\n",
       "      <td>True</td>\n",
       "      <td>True</td>\n",
       "    </tr>\n",
       "  </tbody>\n",
       "</table>\n",
       "</div>"
      ],
      "text/plain": [
       "   enunciado_latex       enunciado       solucion  \\\n",
       "21     \\sqrt{3}-2i  -2*i + sqrt(3)              7   \n",
       "22            4-2i        -2*i + 4  - \\frac{i}{2}   \n",
       "\n",
       "                                                texto curso          titulo  \\\n",
       "21  Dado el siguiente número $z$, calcula el valor...   1BC  24 - Complejos   \n",
       "22  Dado el siguiente número $z$, calcula el valor...   1BC  24 - Complejos   \n",
       "\n",
       "   n_ejercicio  dificultad  n_columnas  puntos  enun_tex  sol_tex  \n",
       "21     p045e11           1           2       1      True     True  \n",
       "22     p045e11           1           2       1      True     True  "
      ]
     },
     "metadata": {},
     "output_type": "display_data"
    },
    {
     "data": {
      "text/markdown": [
       "**Ejercicio: **p045e17"
      ],
      "text/plain": [
       "<IPython.core.display.Markdown object>"
      ]
     },
     "metadata": {},
     "output_type": "display_data"
    },
    {
     "data": {
      "text/html": [
       "<div>\n",
       "<style scoped>\n",
       "    .dataframe tbody tr th:only-of-type {\n",
       "        vertical-align: middle;\n",
       "    }\n",
       "\n",
       "    .dataframe tbody tr th {\n",
       "        vertical-align: top;\n",
       "    }\n",
       "\n",
       "    .dataframe thead th {\n",
       "        text-align: right;\n",
       "    }\n",
       "</style>\n",
       "<table border=\"1\" class=\"dataframe\">\n",
       "  <thead>\n",
       "    <tr style=\"text-align: right;\">\n",
       "      <th></th>\n",
       "      <th>enunciado_latex</th>\n",
       "      <th>enunciado</th>\n",
       "      <th>solucion</th>\n",
       "      <th>texto</th>\n",
       "      <th>curso</th>\n",
       "      <th>titulo</th>\n",
       "      <th>n_ejercicio</th>\n",
       "      <th>dificultad</th>\n",
       "      <th>n_columnas</th>\n",
       "      <th>puntos</th>\n",
       "      <th>enun_tex</th>\n",
       "      <th>sol_tex</th>\n",
       "    </tr>\n",
       "  </thead>\n",
       "  <tbody>\n",
       "    <tr>\n",
       "      <th>23</th>\n",
       "      <td>(5-i)(3+2i)</td>\n",
       "      <td>(-i + 5)*(2*i + 3)</td>\n",
       "      <td>17 + 7 i</td>\n",
       "      <td>Calcula</td>\n",
       "      <td>1BC</td>\n",
       "      <td>24 - Complejos</td>\n",
       "      <td>p045e17</td>\n",
       "      <td>1</td>\n",
       "      <td>2</td>\n",
       "      <td>1</td>\n",
       "      <td>True</td>\n",
       "      <td>True</td>\n",
       "    </tr>\n",
       "    <tr>\n",
       "      <th>24</th>\n",
       "      <td>(2+\\frac{1}{3}i)(-5-i)</td>\n",
       "      <td>(-i - 5)*(i/3 + 2)</td>\n",
       "      <td>- \\frac{29}{3} - \\frac{11 i}{3}</td>\n",
       "      <td>Calcula</td>\n",
       "      <td>1BC</td>\n",
       "      <td>24 - Complejos</td>\n",
       "      <td>p045e17</td>\n",
       "      <td>1</td>\n",
       "      <td>2</td>\n",
       "      <td>1</td>\n",
       "      <td>True</td>\n",
       "      <td>True</td>\n",
       "    </tr>\n",
       "    <tr>\n",
       "      <th>25</th>\n",
       "      <td>(2-i)(2+i)</td>\n",
       "      <td>(-i + 2)*(i + 2)</td>\n",
       "      <td>5</td>\n",
       "      <td>Calcula</td>\n",
       "      <td>1BC</td>\n",
       "      <td>24 - Complejos</td>\n",
       "      <td>p045e17</td>\n",
       "      <td>1</td>\n",
       "      <td>2</td>\n",
       "      <td>1</td>\n",
       "      <td>True</td>\n",
       "      <td>True</td>\n",
       "    </tr>\n",
       "    <tr>\n",
       "      <th>26</th>\n",
       "      <td>(3-\\frac{1}{4}i)(2-i)(3+2i)</td>\n",
       "      <td>((-i + 2)*(2*i + 3))*(-i/4 + 3)</td>\n",
       "      <td>\\frac{97}{4} + i</td>\n",
       "      <td>Calcula</td>\n",
       "      <td>1BC</td>\n",
       "      <td>24 - Complejos</td>\n",
       "      <td>p045e17</td>\n",
       "      <td>1</td>\n",
       "      <td>2</td>\n",
       "      <td>1</td>\n",
       "      <td>True</td>\n",
       "      <td>True</td>\n",
       "    </tr>\n",
       "    <tr>\n",
       "      <th>27</th>\n",
       "      <td>\\frac{2-i}{1+3i}</td>\n",
       "      <td>(-i + 2)/(3*i + 1)</td>\n",
       "      <td>- \\frac{1}{10} - \\frac{7 i}{10}</td>\n",
       "      <td>Calcula</td>\n",
       "      <td>1BC</td>\n",
       "      <td>24 - Complejos</td>\n",
       "      <td>p045e17</td>\n",
       "      <td>1</td>\n",
       "      <td>2</td>\n",
       "      <td>1</td>\n",
       "      <td>True</td>\n",
       "      <td>True</td>\n",
       "    </tr>\n",
       "    <tr>\n",
       "      <th>28</th>\n",
       "      <td>\\frac{{\\sqrt{2} - 3i}}{{2 + i}}</td>\n",
       "      <td>(-3*i + sqrt(2))/(i + 2)</td>\n",
       "      <td>- \\frac{3}{5} + \\frac{2 \\sqrt{2}}{5} - \\frac{6...</td>\n",
       "      <td>Calcula</td>\n",
       "      <td>1BC</td>\n",
       "      <td>24 - Complejos</td>\n",
       "      <td>p045e17</td>\n",
       "      <td>1</td>\n",
       "      <td>2</td>\n",
       "      <td>1</td>\n",
       "      <td>True</td>\n",
       "      <td>True</td>\n",
       "    </tr>\n",
       "    <tr>\n",
       "      <th>29</th>\n",
       "      <td>\\frac{1}{{3 - i}}</td>\n",
       "      <td>1/(-i + 3)</td>\n",
       "      <td>\\frac{3}{10} + \\frac{i}{10}</td>\n",
       "      <td>Calcula</td>\n",
       "      <td>1BC</td>\n",
       "      <td>24 - Complejos</td>\n",
       "      <td>p045e17</td>\n",
       "      <td>1</td>\n",
       "      <td>2</td>\n",
       "      <td>1</td>\n",
       "      <td>True</td>\n",
       "      <td>True</td>\n",
       "    </tr>\n",
       "    <tr>\n",
       "      <th>30</th>\n",
       "      <td>\\frac{{3i}}{{2 - 4i}}</td>\n",
       "      <td>(3*i)/(-4*i + 2)</td>\n",
       "      <td>- \\frac{3}{5} + \\frac{3 i}{10}</td>\n",
       "      <td>Calcula</td>\n",
       "      <td>1BC</td>\n",
       "      <td>24 - Complejos</td>\n",
       "      <td>p045e17</td>\n",
       "      <td>1</td>\n",
       "      <td>2</td>\n",
       "      <td>1</td>\n",
       "      <td>True</td>\n",
       "      <td>True</td>\n",
       "    </tr>\n",
       "    <tr>\n",
       "      <th>31</th>\n",
       "      <td>\\frac{{5 - i}}{i}</td>\n",
       "      <td>(-i + 5)/i</td>\n",
       "      <td>-1 - 5 i</td>\n",
       "      <td>Calcula</td>\n",
       "      <td>1BC</td>\n",
       "      <td>24 - Complejos</td>\n",
       "      <td>p045e17</td>\n",
       "      <td>1</td>\n",
       "      <td>2</td>\n",
       "      <td>1</td>\n",
       "      <td>True</td>\n",
       "      <td>True</td>\n",
       "    </tr>\n",
       "    <tr>\n",
       "      <th>32</th>\n",
       "      <td>\\frac{1 + 2i}{3 + 3i}</td>\n",
       "      <td>(2*i + 1)/(3*i + 3)</td>\n",
       "      <td>\\frac{1}{2} + \\frac{i}{6}</td>\n",
       "      <td>Calcula</td>\n",
       "      <td>1BC</td>\n",
       "      <td>24 - Complejos</td>\n",
       "      <td>p045e17</td>\n",
       "      <td>1</td>\n",
       "      <td>2</td>\n",
       "      <td>1</td>\n",
       "      <td>True</td>\n",
       "      <td>True</td>\n",
       "    </tr>\n",
       "    <tr>\n",
       "      <th>33</th>\n",
       "      <td>({\\sqrt {2}  - i})\\frac{{\\sqrt{ 2} +i}}{{1 - 2i}}</td>\n",
       "      <td>((i + sqrt(2))/(-2*i + 1))*(-i + sqrt(2))</td>\n",
       "      <td>\\frac{3}{5} + \\frac{6 i}{5}</td>\n",
       "      <td>Calcula</td>\n",
       "      <td>1BC</td>\n",
       "      <td>24 - Complejos</td>\n",
       "      <td>p045e17</td>\n",
       "      <td>1</td>\n",
       "      <td>2</td>\n",
       "      <td>1</td>\n",
       "      <td>True</td>\n",
       "      <td>True</td>\n",
       "    </tr>\n",
       "    <tr>\n",
       "      <th>34</th>\n",
       "      <td>( {2\\sqrt {3} - i})\\frac{{\\sqrt {3} i}}{{1 + i}}</td>\n",
       "      <td>((sqrt(3)*i)/(i + 1))*(-i + 2*sqrt(3))</td>\n",
       "      <td>\\frac{\\sqrt{3}}{2} + 3 - \\frac{\\sqrt{3} i}{2} ...</td>\n",
       "      <td>Calcula</td>\n",
       "      <td>1BC</td>\n",
       "      <td>24 - Complejos</td>\n",
       "      <td>p045e17</td>\n",
       "      <td>1</td>\n",
       "      <td>2</td>\n",
       "      <td>1</td>\n",
       "      <td>True</td>\n",
       "      <td>True</td>\n",
       "    </tr>\n",
       "    <tr>\n",
       "      <th>35</th>\n",
       "      <td>\\frac{{1 - i}}{{3 + 2i}}\\frac{{2i}}{{1 + i}}</td>\n",
       "      <td>((2*i)/(i + 1))*((-i + 1)/(2*i + 3))</td>\n",
       "      <td>\\frac{6}{13} - \\frac{4 i}{13}</td>\n",
       "      <td>Calcula</td>\n",
       "      <td>1BC</td>\n",
       "      <td>24 - Complejos</td>\n",
       "      <td>p045e17</td>\n",
       "      <td>1</td>\n",
       "      <td>2</td>\n",
       "      <td>1</td>\n",
       "      <td>True</td>\n",
       "      <td>True</td>\n",
       "    </tr>\n",
       "    <tr>\n",
       "      <th>36</th>\n",
       "      <td>\\frac{{\\sqrt {2} }}{{ - 2 - i}}\\frac{1}{{2 + 3i}}</td>\n",
       "      <td>(sqrt(2)/(-i - 2))/(3*i + 2)</td>\n",
       "      <td>- \\frac{\\sqrt{2}}{65} + \\frac{8 \\sqrt{2} i}{65}</td>\n",
       "      <td>Calcula</td>\n",
       "      <td>1BC</td>\n",
       "      <td>24 - Complejos</td>\n",
       "      <td>p045e17</td>\n",
       "      <td>1</td>\n",
       "      <td>2</td>\n",
       "      <td>1</td>\n",
       "      <td>True</td>\n",
       "      <td>True</td>\n",
       "    </tr>\n",
       "  </tbody>\n",
       "</table>\n",
       "</div>"
      ],
      "text/plain": [
       "                                      enunciado_latex  \\\n",
       "23                                        (5-i)(3+2i)   \n",
       "24                             (2+\\frac{1}{3}i)(-5-i)   \n",
       "25                                         (2-i)(2+i)   \n",
       "26                        (3-\\frac{1}{4}i)(2-i)(3+2i)   \n",
       "27                                   \\frac{2-i}{1+3i}   \n",
       "28                    \\frac{{\\sqrt{2} - 3i}}{{2 + i}}   \n",
       "29                                  \\frac{1}{{3 - i}}   \n",
       "30                              \\frac{{3i}}{{2 - 4i}}   \n",
       "31                                  \\frac{{5 - i}}{i}   \n",
       "32                              \\frac{1 + 2i}{3 + 3i}   \n",
       "33  ({\\sqrt {2}  - i})\\frac{{\\sqrt{ 2} +i}}{{1 - 2i}}   \n",
       "34   ( {2\\sqrt {3} - i})\\frac{{\\sqrt {3} i}}{{1 + i}}   \n",
       "35       \\frac{{1 - i}}{{3 + 2i}}\\frac{{2i}}{{1 + i}}   \n",
       "36  \\frac{{\\sqrt {2} }}{{ - 2 - i}}\\frac{1}{{2 + 3i}}   \n",
       "\n",
       "                                    enunciado  \\\n",
       "23                         (-i + 5)*(2*i + 3)   \n",
       "24                         (-i - 5)*(i/3 + 2)   \n",
       "25                           (-i + 2)*(i + 2)   \n",
       "26            ((-i + 2)*(2*i + 3))*(-i/4 + 3)   \n",
       "27                         (-i + 2)/(3*i + 1)   \n",
       "28                   (-3*i + sqrt(2))/(i + 2)   \n",
       "29                                 1/(-i + 3)   \n",
       "30                           (3*i)/(-4*i + 2)   \n",
       "31                                 (-i + 5)/i   \n",
       "32                        (2*i + 1)/(3*i + 3)   \n",
       "33  ((i + sqrt(2))/(-2*i + 1))*(-i + sqrt(2))   \n",
       "34     ((sqrt(3)*i)/(i + 1))*(-i + 2*sqrt(3))   \n",
       "35       ((2*i)/(i + 1))*((-i + 1)/(2*i + 3))   \n",
       "36               (sqrt(2)/(-i - 2))/(3*i + 2)   \n",
       "\n",
       "                                             solucion    texto curso  \\\n",
       "23                                           17 + 7 i  Calcula   1BC   \n",
       "24                    - \\frac{29}{3} - \\frac{11 i}{3}  Calcula   1BC   \n",
       "25                                                  5  Calcula   1BC   \n",
       "26                                   \\frac{97}{4} + i  Calcula   1BC   \n",
       "27                    - \\frac{1}{10} - \\frac{7 i}{10}  Calcula   1BC   \n",
       "28  - \\frac{3}{5} + \\frac{2 \\sqrt{2}}{5} - \\frac{6...  Calcula   1BC   \n",
       "29                        \\frac{3}{10} + \\frac{i}{10}  Calcula   1BC   \n",
       "30                     - \\frac{3}{5} + \\frac{3 i}{10}  Calcula   1BC   \n",
       "31                                           -1 - 5 i  Calcula   1BC   \n",
       "32                          \\frac{1}{2} + \\frac{i}{6}  Calcula   1BC   \n",
       "33                        \\frac{3}{5} + \\frac{6 i}{5}  Calcula   1BC   \n",
       "34  \\frac{\\sqrt{3}}{2} + 3 - \\frac{\\sqrt{3} i}{2} ...  Calcula   1BC   \n",
       "35                      \\frac{6}{13} - \\frac{4 i}{13}  Calcula   1BC   \n",
       "36    - \\frac{\\sqrt{2}}{65} + \\frac{8 \\sqrt{2} i}{65}  Calcula   1BC   \n",
       "\n",
       "            titulo n_ejercicio  dificultad  n_columnas  puntos  enun_tex  \\\n",
       "23  24 - Complejos     p045e17           1           2       1      True   \n",
       "24  24 - Complejos     p045e17           1           2       1      True   \n",
       "25  24 - Complejos     p045e17           1           2       1      True   \n",
       "26  24 - Complejos     p045e17           1           2       1      True   \n",
       "27  24 - Complejos     p045e17           1           2       1      True   \n",
       "28  24 - Complejos     p045e17           1           2       1      True   \n",
       "29  24 - Complejos     p045e17           1           2       1      True   \n",
       "30  24 - Complejos     p045e17           1           2       1      True   \n",
       "31  24 - Complejos     p045e17           1           2       1      True   \n",
       "32  24 - Complejos     p045e17           1           2       1      True   \n",
       "33  24 - Complejos     p045e17           1           2       1      True   \n",
       "34  24 - Complejos     p045e17           1           2       1      True   \n",
       "35  24 - Complejos     p045e17           1           2       1      True   \n",
       "36  24 - Complejos     p045e17           1           2       1      True   \n",
       "\n",
       "    sol_tex  \n",
       "23     True  \n",
       "24     True  \n",
       "25     True  \n",
       "26     True  \n",
       "27     True  \n",
       "28     True  \n",
       "29     True  \n",
       "30     True  \n",
       "31     True  \n",
       "32     True  \n",
       "33     True  \n",
       "34     True  \n",
       "35     True  \n",
       "36     True  "
      ]
     },
     "metadata": {},
     "output_type": "display_data"
    },
    {
     "data": {
      "text/markdown": [
       "**Ejercicio: **p046e31y 32"
      ],
      "text/plain": [
       "<IPython.core.display.Markdown object>"
      ]
     },
     "metadata": {},
     "output_type": "display_data"
    },
    {
     "data": {
      "text/html": [
       "<div>\n",
       "<style scoped>\n",
       "    .dataframe tbody tr th:only-of-type {\n",
       "        vertical-align: middle;\n",
       "    }\n",
       "\n",
       "    .dataframe tbody tr th {\n",
       "        vertical-align: top;\n",
       "    }\n",
       "\n",
       "    .dataframe thead th {\n",
       "        text-align: right;\n",
       "    }\n",
       "</style>\n",
       "<table border=\"1\" class=\"dataframe\">\n",
       "  <thead>\n",
       "    <tr style=\"text-align: right;\">\n",
       "      <th></th>\n",
       "      <th>enunciado_latex</th>\n",
       "      <th>enunciado</th>\n",
       "      <th>solucion</th>\n",
       "      <th>texto</th>\n",
       "      <th>curso</th>\n",
       "      <th>titulo</th>\n",
       "      <th>n_ejercicio</th>\n",
       "      <th>dificultad</th>\n",
       "      <th>n_columnas</th>\n",
       "      <th>puntos</th>\n",
       "      <th>enun_tex</th>\n",
       "      <th>sol_tex</th>\n",
       "    </tr>\n",
       "  </thead>\n",
       "  <tbody>\n",
       "    <tr>\n",
       "      <th>37</th>\n",
       "      <td>2 - 2\\sqrt {3}i</td>\n",
       "      <td>-2*sqrt(3)*i + 2</td>\n",
       "      <td>4_{- \\frac{\\pi}{3}}</td>\n",
       "      <td>Calcular el módulo y el argumento (en radianes...</td>\n",
       "      <td>1BC</td>\n",
       "      <td>24 - Complejos</td>\n",
       "      <td>p046e31y 32</td>\n",
       "      <td>1</td>\n",
       "      <td>2</td>\n",
       "      <td>1</td>\n",
       "      <td>True</td>\n",
       "      <td>True</td>\n",
       "    </tr>\n",
       "    <tr>\n",
       "      <th>38</th>\n",
       "      <td>-1-i</td>\n",
       "      <td>-i - 1</td>\n",
       "      <td>\\sqrt{2}_{- \\frac{3 \\pi}{4}}</td>\n",
       "      <td>Calcular el módulo y el argumento (en radianes...</td>\n",
       "      <td>1BC</td>\n",
       "      <td>24 - Complejos</td>\n",
       "      <td>p046e31y 32</td>\n",
       "      <td>1</td>\n",
       "      <td>2</td>\n",
       "      <td>1</td>\n",
       "      <td>True</td>\n",
       "      <td>True</td>\n",
       "    </tr>\n",
       "    <tr>\n",
       "      <th>39</th>\n",
       "      <td>\\sqrt {3}  + i</td>\n",
       "      <td>i + sqrt(3)</td>\n",
       "      <td>2_{\\frac{\\pi}{6}}</td>\n",
       "      <td>Calcular el módulo y el argumento (en radianes...</td>\n",
       "      <td>1BC</td>\n",
       "      <td>24 - Complejos</td>\n",
       "      <td>p046e31y 32</td>\n",
       "      <td>1</td>\n",
       "      <td>2</td>\n",
       "      <td>1</td>\n",
       "      <td>True</td>\n",
       "      <td>True</td>\n",
       "    </tr>\n",
       "    <tr>\n",
       "      <th>40</th>\n",
       "      <td>2\\sqrt{3}+2i</td>\n",
       "      <td>2*i + 2*sqrt(3)</td>\n",
       "      <td>4_{\\frac{\\pi}{6}}</td>\n",
       "      <td>Calcular el módulo y el argumento (en radianes...</td>\n",
       "      <td>1BC</td>\n",
       "      <td>24 - Complejos</td>\n",
       "      <td>p046e31y 32</td>\n",
       "      <td>1</td>\n",
       "      <td>2</td>\n",
       "      <td>1</td>\n",
       "      <td>True</td>\n",
       "      <td>True</td>\n",
       "    </tr>\n",
       "    <tr>\n",
       "      <th>41</th>\n",
       "      <td>2-2i</td>\n",
       "      <td>-2*i + 2</td>\n",
       "      <td>2 \\sqrt{2}_{- \\frac{\\pi}{4}}</td>\n",
       "      <td>Calcular el módulo y el argumento (en radianes...</td>\n",
       "      <td>1BC</td>\n",
       "      <td>24 - Complejos</td>\n",
       "      <td>p046e31y 32</td>\n",
       "      <td>1</td>\n",
       "      <td>2</td>\n",
       "      <td>1</td>\n",
       "      <td>True</td>\n",
       "      <td>True</td>\n",
       "    </tr>\n",
       "    <tr>\n",
       "      <th>42</th>\n",
       "      <td>-5-5i</td>\n",
       "      <td>-5*i - 5</td>\n",
       "      <td>5 \\sqrt{2}_{- \\frac{3 \\pi}{4}}</td>\n",
       "      <td>Calcular el módulo y el argumento (en radianes...</td>\n",
       "      <td>1BC</td>\n",
       "      <td>24 - Complejos</td>\n",
       "      <td>p046e31y 32</td>\n",
       "      <td>1</td>\n",
       "      <td>2</td>\n",
       "      <td>1</td>\n",
       "      <td>True</td>\n",
       "      <td>True</td>\n",
       "    </tr>\n",
       "    <tr>\n",
       "      <th>43</th>\n",
       "      <td>5i</td>\n",
       "      <td>5*i</td>\n",
       "      <td>5_{\\frac{\\pi}{2}}</td>\n",
       "      <td>Calcular el módulo y el argumento (en radianes...</td>\n",
       "      <td>1BC</td>\n",
       "      <td>24 - Complejos</td>\n",
       "      <td>p046e31y 32</td>\n",
       "      <td>1</td>\n",
       "      <td>2</td>\n",
       "      <td>1</td>\n",
       "      <td>True</td>\n",
       "      <td>True</td>\n",
       "    </tr>\n",
       "    <tr>\n",
       "      <th>44</th>\n",
       "      <td>4</td>\n",
       "      <td>4</td>\n",
       "      <td>4_{0}</td>\n",
       "      <td>Calcular el módulo y el argumento (en radianes...</td>\n",
       "      <td>1BC</td>\n",
       "      <td>24 - Complejos</td>\n",
       "      <td>p046e31y 32</td>\n",
       "      <td>1</td>\n",
       "      <td>2</td>\n",
       "      <td>1</td>\n",
       "      <td>True</td>\n",
       "      <td>True</td>\n",
       "    </tr>\n",
       "    <tr>\n",
       "      <th>45</th>\n",
       "      <td>1+i</td>\n",
       "      <td>i + 1</td>\n",
       "      <td>\\sqrt{2}_{\\frac{\\pi}{4}}</td>\n",
       "      <td>Calcular el módulo y el argumento (en radianes...</td>\n",
       "      <td>1BC</td>\n",
       "      <td>24 - Complejos</td>\n",
       "      <td>p046e31y 32</td>\n",
       "      <td>1</td>\n",
       "      <td>2</td>\n",
       "      <td>1</td>\n",
       "      <td>True</td>\n",
       "      <td>True</td>\n",
       "    </tr>\n",
       "    <tr>\n",
       "      <th>46</th>\n",
       "      <td>-9i</td>\n",
       "      <td>-9*i</td>\n",
       "      <td>9_{- \\frac{\\pi}{2}}</td>\n",
       "      <td>Calcular el módulo y el argumento (en radianes...</td>\n",
       "      <td>1BC</td>\n",
       "      <td>24 - Complejos</td>\n",
       "      <td>p046e31y 32</td>\n",
       "      <td>1</td>\n",
       "      <td>2</td>\n",
       "      <td>1</td>\n",
       "      <td>True</td>\n",
       "      <td>True</td>\n",
       "    </tr>\n",
       "    <tr>\n",
       "      <th>47</th>\n",
       "      <td>-3+3i</td>\n",
       "      <td>3*i - 3</td>\n",
       "      <td>3 \\sqrt{2}_{\\frac{3 \\pi}{4}}</td>\n",
       "      <td>Calcular el módulo y el argumento (en radianes...</td>\n",
       "      <td>1BC</td>\n",
       "      <td>24 - Complejos</td>\n",
       "      <td>p046e31y 32</td>\n",
       "      <td>1</td>\n",
       "      <td>2</td>\n",
       "      <td>1</td>\n",
       "      <td>True</td>\n",
       "      <td>True</td>\n",
       "    </tr>\n",
       "    <tr>\n",
       "      <th>48</th>\n",
       "      <td>\\sqrt{3}+i</td>\n",
       "      <td>i + sqrt(3)</td>\n",
       "      <td>2_{\\frac{\\pi}{6}}</td>\n",
       "      <td>Calcular el módulo y el argumento (en radianes...</td>\n",
       "      <td>1BC</td>\n",
       "      <td>24 - Complejos</td>\n",
       "      <td>p046e31y 32</td>\n",
       "      <td>1</td>\n",
       "      <td>2</td>\n",
       "      <td>1</td>\n",
       "      <td>True</td>\n",
       "      <td>True</td>\n",
       "    </tr>\n",
       "  </tbody>\n",
       "</table>\n",
       "</div>"
      ],
      "text/plain": [
       "    enunciado_latex         enunciado                        solucion  \\\n",
       "37  2 - 2\\sqrt {3}i  -2*sqrt(3)*i + 2             4_{- \\frac{\\pi}{3}}   \n",
       "38             -1-i            -i - 1    \\sqrt{2}_{- \\frac{3 \\pi}{4}}   \n",
       "39   \\sqrt {3}  + i       i + sqrt(3)               2_{\\frac{\\pi}{6}}   \n",
       "40     2\\sqrt{3}+2i   2*i + 2*sqrt(3)               4_{\\frac{\\pi}{6}}   \n",
       "41             2-2i          -2*i + 2    2 \\sqrt{2}_{- \\frac{\\pi}{4}}   \n",
       "42            -5-5i          -5*i - 5  5 \\sqrt{2}_{- \\frac{3 \\pi}{4}}   \n",
       "43               5i               5*i               5_{\\frac{\\pi}{2}}   \n",
       "44                4                 4                           4_{0}   \n",
       "45              1+i             i + 1        \\sqrt{2}_{\\frac{\\pi}{4}}   \n",
       "46              -9i              -9*i             9_{- \\frac{\\pi}{2}}   \n",
       "47            -3+3i           3*i - 3    3 \\sqrt{2}_{\\frac{3 \\pi}{4}}   \n",
       "48       \\sqrt{3}+i       i + sqrt(3)               2_{\\frac{\\pi}{6}}   \n",
       "\n",
       "                                                texto curso          titulo  \\\n",
       "37  Calcular el módulo y el argumento (en radianes...   1BC  24 - Complejos   \n",
       "38  Calcular el módulo y el argumento (en radianes...   1BC  24 - Complejos   \n",
       "39  Calcular el módulo y el argumento (en radianes...   1BC  24 - Complejos   \n",
       "40  Calcular el módulo y el argumento (en radianes...   1BC  24 - Complejos   \n",
       "41  Calcular el módulo y el argumento (en radianes...   1BC  24 - Complejos   \n",
       "42  Calcular el módulo y el argumento (en radianes...   1BC  24 - Complejos   \n",
       "43  Calcular el módulo y el argumento (en radianes...   1BC  24 - Complejos   \n",
       "44  Calcular el módulo y el argumento (en radianes...   1BC  24 - Complejos   \n",
       "45  Calcular el módulo y el argumento (en radianes...   1BC  24 - Complejos   \n",
       "46  Calcular el módulo y el argumento (en radianes...   1BC  24 - Complejos   \n",
       "47  Calcular el módulo y el argumento (en radianes...   1BC  24 - Complejos   \n",
       "48  Calcular el módulo y el argumento (en radianes...   1BC  24 - Complejos   \n",
       "\n",
       "    n_ejercicio  dificultad  n_columnas  puntos  enun_tex  sol_tex  \n",
       "37  p046e31y 32           1           2       1      True     True  \n",
       "38  p046e31y 32           1           2       1      True     True  \n",
       "39  p046e31y 32           1           2       1      True     True  \n",
       "40  p046e31y 32           1           2       1      True     True  \n",
       "41  p046e31y 32           1           2       1      True     True  \n",
       "42  p046e31y 32           1           2       1      True     True  \n",
       "43  p046e31y 32           1           2       1      True     True  \n",
       "44  p046e31y 32           1           2       1      True     True  \n",
       "45  p046e31y 32           1           2       1      True     True  \n",
       "46  p046e31y 32           1           2       1      True     True  \n",
       "47  p046e31y 32           1           2       1      True     True  \n",
       "48  p046e31y 32           1           2       1      True     True  "
      ]
     },
     "metadata": {},
     "output_type": "display_data"
    },
    {
     "data": {
      "text/markdown": [
       "**Ejercicio: **p046e34"
      ],
      "text/plain": [
       "<IPython.core.display.Markdown object>"
      ]
     },
     "metadata": {},
     "output_type": "display_data"
    },
    {
     "data": {
      "text/html": [
       "<div>\n",
       "<style scoped>\n",
       "    .dataframe tbody tr th:only-of-type {\n",
       "        vertical-align: middle;\n",
       "    }\n",
       "\n",
       "    .dataframe tbody tr th {\n",
       "        vertical-align: top;\n",
       "    }\n",
       "\n",
       "    .dataframe thead th {\n",
       "        text-align: right;\n",
       "    }\n",
       "</style>\n",
       "<table border=\"1\" class=\"dataframe\">\n",
       "  <thead>\n",
       "    <tr style=\"text-align: right;\">\n",
       "      <th></th>\n",
       "      <th>enunciado_latex</th>\n",
       "      <th>enunciado</th>\n",
       "      <th>solucion</th>\n",
       "      <th>texto</th>\n",
       "      <th>curso</th>\n",
       "      <th>titulo</th>\n",
       "      <th>n_ejercicio</th>\n",
       "      <th>dificultad</th>\n",
       "      <th>n_columnas</th>\n",
       "      <th>puntos</th>\n",
       "      <th>enun_tex</th>\n",
       "      <th>sol_tex</th>\n",
       "    </tr>\n",
       "  </thead>\n",
       "  <tbody>\n",
       "    <tr>\n",
       "      <th>49</th>\n",
       "      <td>2_{\\frac{\\pi}{4}}</td>\n",
       "      <td>[2, pi/4]</td>\n",
       "      <td>\\sqrt{2} + \\sqrt{2} i</td>\n",
       "      <td>Escribe en forma binómica los siguientes númer...</td>\n",
       "      <td>1BC</td>\n",
       "      <td>24 - Complejos</td>\n",
       "      <td>p046e34</td>\n",
       "      <td>1</td>\n",
       "      <td>2</td>\n",
       "      <td>1</td>\n",
       "      <td>True</td>\n",
       "      <td>True</td>\n",
       "    </tr>\n",
       "    <tr>\n",
       "      <th>50</th>\n",
       "      <td>3_{\\frac{\\pi}{6}}</td>\n",
       "      <td>[3, pi/6]</td>\n",
       "      <td>\\frac{3 \\sqrt{3}}{2} + \\frac{3 i}{2}</td>\n",
       "      <td>Escribe en forma binómica los siguientes númer...</td>\n",
       "      <td>1BC</td>\n",
       "      <td>24 - Complejos</td>\n",
       "      <td>p046e34</td>\n",
       "      <td>1</td>\n",
       "      <td>2</td>\n",
       "      <td>1</td>\n",
       "      <td>True</td>\n",
       "      <td>True</td>\n",
       "    </tr>\n",
       "    <tr>\n",
       "      <th>51</th>\n",
       "      <td>\\sqrt{2}_{\\pi}</td>\n",
       "      <td>[sqrt(2), pi]</td>\n",
       "      <td>- \\sqrt{2}</td>\n",
       "      <td>Escribe en forma binómica los siguientes númer...</td>\n",
       "      <td>1BC</td>\n",
       "      <td>24 - Complejos</td>\n",
       "      <td>p046e34</td>\n",
       "      <td>1</td>\n",
       "      <td>2</td>\n",
       "      <td>1</td>\n",
       "      <td>True</td>\n",
       "      <td>True</td>\n",
       "    </tr>\n",
       "    <tr>\n",
       "      <th>52</th>\n",
       "      <td>17_{0}</td>\n",
       "      <td>[17, 0]</td>\n",
       "      <td>17</td>\n",
       "      <td>Escribe en forma binómica los siguientes númer...</td>\n",
       "      <td>1BC</td>\n",
       "      <td>24 - Complejos</td>\n",
       "      <td>p046e34</td>\n",
       "      <td>1</td>\n",
       "      <td>2</td>\n",
       "      <td>1</td>\n",
       "      <td>True</td>\n",
       "      <td>True</td>\n",
       "    </tr>\n",
       "    <tr>\n",
       "      <th>53</th>\n",
       "      <td>1_{\\frac{\\pi}{2}}</td>\n",
       "      <td>[1, pi/2]</td>\n",
       "      <td>i</td>\n",
       "      <td>Escribe en forma binómica los siguientes númer...</td>\n",
       "      <td>1BC</td>\n",
       "      <td>24 - Complejos</td>\n",
       "      <td>p046e34</td>\n",
       "      <td>1</td>\n",
       "      <td>2</td>\n",
       "      <td>1</td>\n",
       "      <td>True</td>\n",
       "      <td>True</td>\n",
       "    </tr>\n",
       "    <tr>\n",
       "      <th>54</th>\n",
       "      <td>5_{\\frac{3 \\pi}{2}}</td>\n",
       "      <td>[5, 3*pi/2]</td>\n",
       "      <td>- 5 i</td>\n",
       "      <td>Escribe en forma binómica los siguientes númer...</td>\n",
       "      <td>1BC</td>\n",
       "      <td>24 - Complejos</td>\n",
       "      <td>p046e34</td>\n",
       "      <td>1</td>\n",
       "      <td>2</td>\n",
       "      <td>1</td>\n",
       "      <td>True</td>\n",
       "      <td>True</td>\n",
       "    </tr>\n",
       "    <tr>\n",
       "      <th>55</th>\n",
       "      <td>1_{\\frac{5 \\pi}{6}}</td>\n",
       "      <td>[1, 5*pi/6]</td>\n",
       "      <td>- \\frac{\\sqrt{3}}{2} + \\frac{i}{2}</td>\n",
       "      <td>Escribe en forma binómica los siguientes númer...</td>\n",
       "      <td>1BC</td>\n",
       "      <td>24 - Complejos</td>\n",
       "      <td>p046e34</td>\n",
       "      <td>1</td>\n",
       "      <td>2</td>\n",
       "      <td>1</td>\n",
       "      <td>True</td>\n",
       "      <td>True</td>\n",
       "    </tr>\n",
       "    <tr>\n",
       "      <th>56</th>\n",
       "      <td>4_{\\frac{2 \\pi}{3}}</td>\n",
       "      <td>[4, 2*pi/3]</td>\n",
       "      <td>-2 + 2 \\sqrt{3} i</td>\n",
       "      <td>Escribe en forma binómica los siguientes númer...</td>\n",
       "      <td>1BC</td>\n",
       "      <td>24 - Complejos</td>\n",
       "      <td>p046e34</td>\n",
       "      <td>1</td>\n",
       "      <td>2</td>\n",
       "      <td>1</td>\n",
       "      <td>True</td>\n",
       "      <td>True</td>\n",
       "    </tr>\n",
       "  </tbody>\n",
       "</table>\n",
       "</div>"
      ],
      "text/plain": [
       "        enunciado_latex      enunciado                              solucion  \\\n",
       "49    2_{\\frac{\\pi}{4}}      [2, pi/4]                 \\sqrt{2} + \\sqrt{2} i   \n",
       "50    3_{\\frac{\\pi}{6}}      [3, pi/6]  \\frac{3 \\sqrt{3}}{2} + \\frac{3 i}{2}   \n",
       "51       \\sqrt{2}_{\\pi}  [sqrt(2), pi]                            - \\sqrt{2}   \n",
       "52               17_{0}        [17, 0]                                    17   \n",
       "53    1_{\\frac{\\pi}{2}}      [1, pi/2]                                     i   \n",
       "54  5_{\\frac{3 \\pi}{2}}    [5, 3*pi/2]                                 - 5 i   \n",
       "55  1_{\\frac{5 \\pi}{6}}    [1, 5*pi/6]    - \\frac{\\sqrt{3}}{2} + \\frac{i}{2}   \n",
       "56  4_{\\frac{2 \\pi}{3}}    [4, 2*pi/3]                     -2 + 2 \\sqrt{3} i   \n",
       "\n",
       "                                                texto curso          titulo  \\\n",
       "49  Escribe en forma binómica los siguientes númer...   1BC  24 - Complejos   \n",
       "50  Escribe en forma binómica los siguientes númer...   1BC  24 - Complejos   \n",
       "51  Escribe en forma binómica los siguientes númer...   1BC  24 - Complejos   \n",
       "52  Escribe en forma binómica los siguientes númer...   1BC  24 - Complejos   \n",
       "53  Escribe en forma binómica los siguientes númer...   1BC  24 - Complejos   \n",
       "54  Escribe en forma binómica los siguientes númer...   1BC  24 - Complejos   \n",
       "55  Escribe en forma binómica los siguientes númer...   1BC  24 - Complejos   \n",
       "56  Escribe en forma binómica los siguientes númer...   1BC  24 - Complejos   \n",
       "\n",
       "   n_ejercicio  dificultad  n_columnas  puntos  enun_tex  sol_tex  \n",
       "49     p046e34           1           2       1      True     True  \n",
       "50     p046e34           1           2       1      True     True  \n",
       "51     p046e34           1           2       1      True     True  \n",
       "52     p046e34           1           2       1      True     True  \n",
       "53     p046e34           1           2       1      True     True  \n",
       "54     p046e34           1           2       1      True     True  \n",
       "55     p046e34           1           2       1      True     True  \n",
       "56     p046e34           1           2       1      True     True  "
      ]
     },
     "metadata": {},
     "output_type": "display_data"
    },
    {
     "data": {
      "text/markdown": [
       "**Ejercicio: **p047e40"
      ],
      "text/plain": [
       "<IPython.core.display.Markdown object>"
      ]
     },
     "metadata": {},
     "output_type": "display_data"
    },
    {
     "data": {
      "text/html": [
       "<div>\n",
       "<style scoped>\n",
       "    .dataframe tbody tr th:only-of-type {\n",
       "        vertical-align: middle;\n",
       "    }\n",
       "\n",
       "    .dataframe tbody tr th {\n",
       "        vertical-align: top;\n",
       "    }\n",
       "\n",
       "    .dataframe thead th {\n",
       "        text-align: right;\n",
       "    }\n",
       "</style>\n",
       "<table border=\"1\" class=\"dataframe\">\n",
       "  <thead>\n",
       "    <tr style=\"text-align: right;\">\n",
       "      <th></th>\n",
       "      <th>enunciado_latex</th>\n",
       "      <th>enunciado</th>\n",
       "      <th>solucion</th>\n",
       "      <th>texto</th>\n",
       "      <th>curso</th>\n",
       "      <th>titulo</th>\n",
       "      <th>n_ejercicio</th>\n",
       "      <th>dificultad</th>\n",
       "      <th>n_columnas</th>\n",
       "      <th>puntos</th>\n",
       "      <th>enun_tex</th>\n",
       "      <th>sol_tex</th>\n",
       "    </tr>\n",
       "  </thead>\n",
       "  <tbody>\n",
       "    <tr>\n",
       "      <th>59</th>\n",
       "      <td>i k + \\frac{1}{3} + i \\ y \\sqrt{2}_{\\frac{7 \\p...</td>\n",
       "      <td>[I*k + 1/3 + I, [sqrt(2), 7*pi/4]]</td>\n",
       "      <td>\\left [ \\right ]\\land\\left [ -1\\right ]</td>\n",
       "      <td>Determina el valor que han de tener a y k para...</td>\n",
       "      <td>1BC</td>\n",
       "      <td>24 - Complejos</td>\n",
       "      <td>p047e40</td>\n",
       "      <td>1</td>\n",
       "      <td>2</td>\n",
       "      <td>1</td>\n",
       "      <td>True</td>\n",
       "      <td>True</td>\n",
       "    </tr>\n",
       "    <tr>\n",
       "      <th>60</th>\n",
       "      <td>\\frac{a + 2 i}{3+k\\cdot i} \\ y \\sqrt{2}_{\\frac...</td>\n",
       "      <td>['\\\\frac{a + 2 i}{3+k\\\\cdot i}', [sqrt(2), 7*p...</td>\n",
       "      <td>\\left [ \\left \\{ a : 8, \\quad k : 5\\right \\}\\r...</td>\n",
       "      <td>Determina el valor que han de tener a y k para...</td>\n",
       "      <td>1BC</td>\n",
       "      <td>24 - Complejos</td>\n",
       "      <td>p047e40</td>\n",
       "      <td>1</td>\n",
       "      <td>2</td>\n",
       "      <td>1</td>\n",
       "      <td>True</td>\n",
       "      <td>True</td>\n",
       "    </tr>\n",
       "  </tbody>\n",
       "</table>\n",
       "</div>"
      ],
      "text/plain": [
       "                                      enunciado_latex  \\\n",
       "59  i k + \\frac{1}{3} + i \\ y \\sqrt{2}_{\\frac{7 \\p...   \n",
       "60  \\frac{a + 2 i}{3+k\\cdot i} \\ y \\sqrt{2}_{\\frac...   \n",
       "\n",
       "                                            enunciado  \\\n",
       "59                 [I*k + 1/3 + I, [sqrt(2), 7*pi/4]]   \n",
       "60  ['\\\\frac{a + 2 i}{3+k\\\\cdot i}', [sqrt(2), 7*p...   \n",
       "\n",
       "                                             solucion  \\\n",
       "59            \\left [ \\right ]\\land\\left [ -1\\right ]   \n",
       "60  \\left [ \\left \\{ a : 8, \\quad k : 5\\right \\}\\r...   \n",
       "\n",
       "                                                texto curso          titulo  \\\n",
       "59  Determina el valor que han de tener a y k para...   1BC  24 - Complejos   \n",
       "60  Determina el valor que han de tener a y k para...   1BC  24 - Complejos   \n",
       "\n",
       "   n_ejercicio  dificultad  n_columnas  puntos  enun_tex  sol_tex  \n",
       "59     p047e40           1           2       1      True     True  \n",
       "60     p047e40           1           2       1      True     True  "
      ]
     },
     "metadata": {},
     "output_type": "display_data"
    },
    {
     "data": {
      "text/markdown": [
       "**Ejercicio: **p047e51"
      ],
      "text/plain": [
       "<IPython.core.display.Markdown object>"
      ]
     },
     "metadata": {},
     "output_type": "display_data"
    },
    {
     "data": {
      "text/html": [
       "<div>\n",
       "<style scoped>\n",
       "    .dataframe tbody tr th:only-of-type {\n",
       "        vertical-align: middle;\n",
       "    }\n",
       "\n",
       "    .dataframe tbody tr th {\n",
       "        vertical-align: top;\n",
       "    }\n",
       "\n",
       "    .dataframe thead th {\n",
       "        text-align: right;\n",
       "    }\n",
       "</style>\n",
       "<table border=\"1\" class=\"dataframe\">\n",
       "  <thead>\n",
       "    <tr style=\"text-align: right;\">\n",
       "      <th></th>\n",
       "      <th>enunciado_latex</th>\n",
       "      <th>enunciado</th>\n",
       "      <th>solucion</th>\n",
       "      <th>texto</th>\n",
       "      <th>curso</th>\n",
       "      <th>titulo</th>\n",
       "      <th>n_ejercicio</th>\n",
       "      <th>dificultad</th>\n",
       "      <th>n_columnas</th>\n",
       "      <th>puntos</th>\n",
       "      <th>enun_tex</th>\n",
       "      <th>sol_tex</th>\n",
       "    </tr>\n",
       "  </thead>\n",
       "  <tbody>\n",
       "    <tr>\n",
       "      <th>58</th>\n",
       "      <td>8\\ y \\ 10</td>\n",
       "      <td>[8, 10]</td>\n",
       "      <td>4 - 3 i\\land4 + 3 i</td>\n",
       "      <td>Calcula dos números complejos conjugados cuya ...</td>\n",
       "      <td>1BC</td>\n",
       "      <td>24 - Complejos</td>\n",
       "      <td>p047e51</td>\n",
       "      <td>1</td>\n",
       "      <td>2</td>\n",
       "      <td>1</td>\n",
       "      <td>True</td>\n",
       "      <td>True</td>\n",
       "    </tr>\n",
       "  </tbody>\n",
       "</table>\n",
       "</div>"
      ],
      "text/plain": [
       "   enunciado_latex enunciado             solucion  \\\n",
       "58       8\\ y \\ 10   [8, 10]  4 - 3 i\\land4 + 3 i   \n",
       "\n",
       "                                                texto curso          titulo  \\\n",
       "58  Calcula dos números complejos conjugados cuya ...   1BC  24 - Complejos   \n",
       "\n",
       "   n_ejercicio  dificultad  n_columnas  puntos  enun_tex  sol_tex  \n",
       "58     p047e51           1           2       1      True     True  "
      ]
     },
     "metadata": {},
     "output_type": "display_data"
    }
   ],
   "source": [
    "escribir_preambulo(fichero, titulo, 'ejercicios')\n",
    "for s in df_ejercicios.groupby('n_ejercicio').count().index : \n",
    "    display(md(\"**Ejercicio: **\" + s ))\n",
    "    display(df_ejercicios[df_ejercicios.n_ejercicio == s])\n",
    "    escribir_ejercicios(df_ejercicios[df_ejercicios.n_ejercicio == s],fichero)\n",
    "\n",
    "escribir_fin(fichero)"
   ]
  }
 ],
 "metadata": {
  "kernelspec": {
   "display_name": "Python 3",
   "language": "python",
   "name": "python3"
  },
  "language_info": {
   "codemirror_mode": {
    "name": "ipython",
    "version": 3
   },
   "file_extension": ".py",
   "mimetype": "text/x-python",
   "name": "python",
   "nbconvert_exporter": "python",
   "pygments_lexer": "ipython3",
   "version": "3.6.5"
  }
 },
 "nbformat": 4,
 "nbformat_minor": 2
}
