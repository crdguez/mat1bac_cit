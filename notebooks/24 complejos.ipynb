{
 "cells": [
  {
   "cell_type": "code",
   "execution_count": 1,
   "metadata": {},
   "outputs": [
    {
     "name": "stdout",
     "output_type": "stream",
     "text": [
      "IPython console for SymPy 1.2 (Python 3.6.5-64-bit) (ground types: gmpy)\n",
      "\n",
      "These commands were executed:\n",
      ">>> from __future__ import division\n",
      ">>> from sympy import *\n",
      ">>> x, y, z, t = symbols('x y z t')\n",
      ">>> k, m, n = symbols('k m n', integer=True)\n",
      ">>> f, g, h = symbols('f g h', cls=Function)\n",
      ">>> init_printing()\n",
      "\n",
      "Documentation can be found at http://docs.sympy.org/1.2/\n",
      "\n"
     ]
    }
   ],
   "source": [
    "from sympy import init_session\n",
    "from sympy import div, QQ\n",
    "from sympy.parsing.latex import parse_latex\n",
    "from sympy.parsing.sympy_parser import parse_expr\n",
    "from sympy import solve_poly_system\n",
    "from IPython.display import Markdown as md\n",
    "from IPython.display import display\n",
    "import numpy as np\n",
    "import pandas as pd\n",
    "    \n",
    "\n",
    "\n",
    "\n",
    "init_session()\n",
    "\n",
    "a, b, c, d, k = symbols('a b c d k', real = True)\n",
    "from docparts import añadir_ejercicios, doc_ejer, escribir_preambulo, escribir_ejercicios, escribir_fin\n",
    "\n",
    "alpha = Symbol(\"alpha\")\n",
    "beta = Symbol(\"beta\")\n",
    "\n",
    "df_ejercicios = pd.DataFrame()\n",
    "\n",
    "fichero = 'complejos'\n",
    "titulo = '24 - Complejos'\n",
    "curso = '1BC'\n",
    "\n",
    "\n",
    "# x,y = symbols('x, y', real=True)\n"
   ]
  },
  {
   "cell_type": "code",
   "execution_count": 2,
   "metadata": {},
   "outputs": [
    {
     "data": {
      "text/markdown": [
       "**Calcula:**"
      ],
      "text/plain": [
       "<IPython.core.display.Markdown object>"
      ]
     },
     "metadata": {},
     "output_type": "display_data"
    },
    {
     "data": {
      "text/markdown": [
       "$(7-2i)^2 + (3+4i)(5-2i) \\rightarrow 68 - 14 i$"
      ],
      "text/plain": [
       "<IPython.core.display.Markdown object>"
      ]
     },
     "metadata": {},
     "output_type": "display_data"
    },
    {
     "data": {
      "text/markdown": [
       "$(2+i)^2(3-2i) + (5-i)i^2 \\rightarrow 12 + 7 i$"
      ],
      "text/plain": [
       "<IPython.core.display.Markdown object>"
      ]
     },
     "metadata": {},
     "output_type": "display_data"
    },
    {
     "data": {
      "text/markdown": [
       "$(\\sqrt{3}  - 2i)^2 + (2\\sqrt{3}  -  5i)({1  -  2i}) \\rightarrow -11 + 2 \\sqrt{3} + i \\left(- 8 \\sqrt{3} - 5\\right)$"
      ],
      "text/plain": [
       "<IPython.core.display.Markdown object>"
      ]
     },
     "metadata": {},
     "output_type": "display_data"
    },
    {
     "data": {
      "text/markdown": [
       "$(i^7-1)(i^{16} + i^3-i^9)^5 + (1-2i)^5(1+i) \\rightarrow 0$"
      ],
      "text/plain": [
       "<IPython.core.display.Markdown object>"
      ]
     },
     "metadata": {},
     "output_type": "display_data"
    },
    {
     "data": {
      "text/markdown": [
       "$(1+i)^2+\\frac{1+i}{1-i} \\rightarrow 3 i$"
      ],
      "text/plain": [
       "<IPython.core.display.Markdown object>"
      ]
     },
     "metadata": {},
     "output_type": "display_data"
    }
   ],
   "source": [
    "# Página 45 ejercicio 1\n",
    "\n",
    "texto_ejercicio = 'Calcula:'\n",
    "n_ejercicio = 'p045e01'\n",
    "\n",
    "display(md(\"**\"+texto_ejercicio+\"**\"))\n",
    "\n",
    "enunciado_latex = [r'(7-2i)^2 + (3+4i)(5-2i)',\n",
    "                   r'(2+i)^2(3-2i) + (5-i)i^2',\n",
    "                   r'(\\sqrt{3}  - 2i)^2 + (2\\sqrt{3}  -  5i)({1  -  2i})',\n",
    "                   r'(i^7-1)(i^{16} + i^3-i^9)^5 + (1-2i)^5(1+i)',\n",
    "                   r'(1+i)^2+\\frac{1+i}{1-i}'\n",
    "                   \n",
    "                  ]\n",
    "                                       \n",
    "\n",
    "\n",
    "\n",
    "\n",
    "enunciado, solucion = [], []\n",
    "\n",
    "for i, s in enumerate(enunciado_latex) :\n",
    "    enunciado.append(parse_latex(s))\n",
    "    solucion.append(latex(nsimplify(eval(str(parse_latex(s)).replace('i','I'))))) \n",
    "    display(md(\"$\"+ enunciado_latex[i] +\" \\\\rightarrow \" + solucion[i] +\"$\"))\n",
    "\n",
    "df_ejercicios = df_ejercicios.append(añadir_ejercicios(enunciado_latex, enunciado, solucion, texto_ejercicio, curso, titulo , n_ejercicio, '1', '2'), ignore_index=True)\n"
   ]
  },
  {
   "cell_type": "code",
   "execution_count": 3,
   "metadata": {},
   "outputs": [
    {
     "data": {
      "text/markdown": [
       "**Halla el valor de k, sabiendo que se cumple:**"
      ],
      "text/plain": [
       "<IPython.core.display.Markdown object>"
      ]
     },
     "metadata": {},
     "output_type": "display_data"
    },
    {
     "data": {
      "text/markdown": [
       "$(k+5i) + (3+i) = (1+5i) + (-k+i) \\rightarrow \\left [ -1\\right ]$"
      ],
      "text/plain": [
       "<IPython.core.display.Markdown object>"
      ]
     },
     "metadata": {},
     "output_type": "display_data"
    },
    {
     "data": {
      "text/markdown": [
       "$(1+3i)(k+2i) = 13+59i \\rightarrow \\left \\{ k : 19\\right \\}$"
      ],
      "text/plain": [
       "<IPython.core.display.Markdown object>"
      ]
     },
     "metadata": {},
     "output_type": "display_data"
    },
    {
     "data": {
      "text/markdown": [
       "$k+\\frac{4}{5}i=\\frac{5+i}{3-i} \\rightarrow \\left [ \\frac{7}{5}\\right ]$"
      ],
      "text/plain": [
       "<IPython.core.display.Markdown object>"
      ]
     },
     "metadata": {},
     "output_type": "display_data"
    }
   ],
   "source": [
    "# Página 45 ejercicio 2\n",
    "\n",
    "texto_ejercicio = 'Halla el valor de k, sabiendo que se cumple:'\n",
    "n_ejercicio = 'p045e02'\n",
    "\n",
    "display(md(\"**\"+texto_ejercicio+\"**\"))\n",
    "\n",
    "enunciado_latex = [r'(k+5i) + (3+i) = (1+5i) + (-k+i)',\n",
    "                   r'(1+3i)(k+2i) = 13+59i',\n",
    "                   r'k+\\frac{4}{5}i=\\frac{5+i}{3-i}',\n",
    "                   \n",
    "                   \n",
    "                  ]\n",
    "                                       \n",
    "\n",
    "\n",
    "\n",
    "\n",
    "enunciado, solucion = [], []\n",
    "\n",
    "for i, s in enumerate(enunciado_latex) :\n",
    "    enunciado.append(parse_latex(s))\n",
    "    solucion.append(latex(solve(nsimplify(eval(str(parse_latex(s).replace('i','I'))))))) \n",
    "    display(md(\"$\"+ enunciado_latex[i] +\" \\\\rightarrow \" + solucion[i] +\"$\"))\n",
    "\n",
    "df_ejercicios = df_ejercicios.append(añadir_ejercicios(enunciado_latex, enunciado, solucion, texto_ejercicio, curso, titulo , n_ejercicio, '1', '2'), ignore_index=True)\n"
   ]
  },
  {
   "cell_type": "code",
   "execution_count": 4,
   "metadata": {},
   "outputs": [
    {
     "data": {
      "text/markdown": [
       "**Calcula el inverso de los siguientes números complejos:**"
      ],
      "text/plain": [
       "<IPython.core.display.Markdown object>"
      ]
     },
     "metadata": {},
     "output_type": "display_data"
    },
    {
     "data": {
      "text/markdown": [
       "$-1 + 2i \\rightarrow - \\frac{1}{5} - \\frac{2 i}{5}$"
      ],
      "text/plain": [
       "<IPython.core.display.Markdown object>"
      ]
     },
     "metadata": {},
     "output_type": "display_data"
    },
    {
     "data": {
      "text/markdown": [
       "$3-\\sqrt{2}i \\rightarrow \\frac{3}{11} + \\frac{\\sqrt{2} i}{11}$"
      ],
      "text/plain": [
       "<IPython.core.display.Markdown object>"
      ]
     },
     "metadata": {},
     "output_type": "display_data"
    },
    {
     "data": {
      "text/markdown": [
       "$\\frac{1}{3}-\\frac{1}{2}i \\rightarrow \\frac{12}{13} + \\frac{18 i}{13}$"
      ],
      "text/plain": [
       "<IPython.core.display.Markdown object>"
      ]
     },
     "metadata": {},
     "output_type": "display_data"
    }
   ],
   "source": [
    "# Página 45 ejercicio 3\n",
    "\n",
    "texto_ejercicio = 'Calcula el inverso de los siguientes números complejos:'\n",
    "n_ejercicio = 'p045e03'\n",
    "\n",
    "display(md(\"**\"+texto_ejercicio+\"**\"))\n",
    "\n",
    "enunciado_latex = [r'-1 + 2i',\n",
    "                   r'3-\\sqrt{2}i', \n",
    "                   r'\\frac{1}{3}-\\frac{1}{2}i'\n",
    "                  ]\n",
    "                                       \n",
    "\n",
    "\n",
    "\n",
    "\n",
    "enunciado, solucion = [], []\n",
    "\n",
    "for i, s in enumerate(enunciado_latex) :\n",
    "    enunciado.append(parse_latex(s))\n",
    "    solucion.append(latex(nsimplify(1/(eval(str(parse_latex(s)).replace('i','I')))))) \n",
    "    display(md(\"$\"+ enunciado_latex[i] +\" \\\\rightarrow \" + solucion[i] +\"$\"))\n",
    "\n",
    "df_ejercicios = df_ejercicios.append(añadir_ejercicios(enunciado_latex, enunciado, solucion, texto_ejercicio, curso, titulo , n_ejercicio, '1', '2'), ignore_index=True)\n"
   ]
  },
  {
   "cell_type": "code",
   "execution_count": 13,
   "metadata": {},
   "outputs": [
    {
     "data": {
      "text/markdown": [
       "**Calcular el valor de k para que la siguiente expresión sea a) real y b) imaginario:**"
      ],
      "text/plain": [
       "<IPython.core.display.Markdown object>"
      ]
     },
     "metadata": {},
     "output_type": "display_data"
    },
    {
     "data": {
      "text/markdown": [
       "$\\frac{{k - 2i}}{{3 + 4i}} \\rightarrow \\frac{3 k}{25} - \\frac{4 i k}{25} - \\frac{8}{25} - \\frac{6 i}{25}\\to\\left [ - \\frac{3}{2}\\right ]\\land\\left [ \\frac{8}{3}\\right ]$"
      ],
      "text/plain": [
       "<IPython.core.display.Markdown object>"
      ]
     },
     "metadata": {},
     "output_type": "display_data"
    }
   ],
   "source": [
    "# Página 45 ejercicio 4\n",
    "\n",
    "\n",
    "\n",
    "texto_ejercicio = 'Calcular el valor de k para que la siguiente expresión sea a) real y b) imaginario:'\n",
    "n_ejercicio = 'p045e04'\n",
    "\n",
    "display(md(\"**\"+texto_ejercicio+\"**\"))\n",
    "\n",
    "enunciado_latex = [r'\\frac{{k - 2i}}{{3 + 4i}}',                 \n",
    "                   \n",
    "                   \n",
    "                  ]\n",
    "                                       \n",
    "\n",
    "\n",
    "\n",
    "\n",
    "enunciado, solucion = [], []\n",
    "\n",
    "for i, s in enumerate(enunciado_latex) :\n",
    "    enunciado.append(parse_latex(s))\n",
    "    solucion.append(latex(expand(simplify(eval(str(parse_latex(s).replace('i','I'))))))+\"\\\\to\"+latex(solve(im(simplify(eval(str(parse_latex(s).replace('i','I')))))))+\"\\land\"+latex(solve(re(simplify(eval(str(parse_latex(s).replace('i','I')))))))) \n",
    "    display(md(\"$\"+ enunciado_latex[i] +\" \\\\rightarrow \" + solucion[i] +\"$\"))\n",
    "\n",
    "df_ejercicios = df_ejercicios.append(añadir_ejercicios(enunciado_latex, enunciado, solucion, texto_ejercicio, curso, titulo , n_ejercicio, '1', '2'), ignore_index=True)\n"
   ]
  },
  {
   "cell_type": "code",
   "execution_count": 15,
   "metadata": {},
   "outputs": [
    {
     "data": {
      "text/markdown": [
       "**Determina el valor que debe tener k para que la siguiente expresión sea un número real.**"
      ],
      "text/plain": [
       "<IPython.core.display.Markdown object>"
      ]
     },
     "metadata": {},
     "output_type": "display_data"
    },
    {
     "data": {
      "text/markdown": [
       "$(k-i)^3 \\rightarrow k^{3} - 3 i k^{2} - 3 k + i\\to\\left [ - \\frac{\\sqrt{3}}{3}, \\quad \\frac{\\sqrt{3}}{3}\\right ]$"
      ],
      "text/plain": [
       "<IPython.core.display.Markdown object>"
      ]
     },
     "metadata": {},
     "output_type": "display_data"
    }
   ],
   "source": [
    "# Página 45 ejercicio 5\n",
    "\n",
    "\n",
    "\n",
    "texto_ejercicio = 'Determina el valor que debe tener k para que la siguiente expresión sea un número real.'\n",
    "n_ejercicio = 'p045e05'\n",
    "\n",
    "display(md(\"**\"+texto_ejercicio+\"**\"))\n",
    "\n",
    "enunciado_latex = [r'(k-i)^3',                 \n",
    "                   \n",
    "                   \n",
    "                  ]\n",
    "                                       \n",
    "\n",
    "\n",
    "\n",
    "\n",
    "enunciado, solucion = [], []\n",
    "\n",
    "for i, s in enumerate(enunciado_latex) :\n",
    "    enunciado.append(parse_latex(s))\n",
    "    solucion.append(latex(expand(simplify(eval(str(parse_latex(s).replace('i','I'))))))+\"\\\\to\"+latex(solve(im(simplify(eval(str(parse_latex(s).replace('i','I')))))))) \n",
    "    display(md(\"$\"+ enunciado_latex[i] +\" \\\\rightarrow \" + solucion[i] +\"$\"))\n",
    "\n",
    "df_ejercicios = df_ejercicios.append(añadir_ejercicios(enunciado_latex, enunciado, solucion, texto_ejercicio, curso, titulo , n_ejercicio, '1', '2'), ignore_index=True)\n"
   ]
  },
  {
   "cell_type": "code",
   "execution_count": 24,
   "metadata": {},
   "outputs": [
    {
     "data": {
      "text/markdown": [
       "**Dado el siguiente número $z$, calcula el valor de $z\\cdot\\overline{z}$**"
      ],
      "text/plain": [
       "<IPython.core.display.Markdown object>"
      ]
     },
     "metadata": {},
     "output_type": "display_data"
    },
    {
     "data": {
      "text/markdown": [
       "$\\sqrt{3}-2i \\rightarrow \\left(\\sqrt{3} - 2 i\\right) \\left(\\sqrt{3} + 2 i\\right)$"
      ],
      "text/plain": [
       "<IPython.core.display.Markdown object>"
      ]
     },
     "metadata": {},
     "output_type": "display_data"
    }
   ],
   "source": [
    "# Página 45 ejercicio 11\n",
    "\n",
    "\n",
    "\n",
    "texto_ejercicio = 'Dado el siguiente número $z$, calcula el valor de $z\\cdot\\overline{z}$'\n",
    "n_ejercicio = 'p045e11'\n",
    "\n",
    "display(md(\"**\"+texto_ejercicio+\"**\"))\n",
    "\n",
    "enunciado_latex = [r'\\sqrt{3}-2i',                 \n",
    "                   \n",
    "                   \n",
    "                  ]\n",
    "                                       \n",
    "\n",
    "\n",
    "\n",
    "\n",
    "enunciado, solucion = [], []\n",
    "\n",
    "for i, s in enumerate(enunciado_latex) :\n",
    "    enunciado.append(parse_latex(s))\n",
    "    solucion.append(latex(simplify(eval(str(parse_latex(s).replace('i','I'))))*conjugate(simplify(eval(str(parse_latex(s).replace('i','I'))))))) \n",
    "    display(md(\"$\"+ enunciado_latex[i] +\" \\\\rightarrow \" + solucion[i] +\"$\"))\n",
    "\n",
    "df_ejercicios = df_ejercicios.append(añadir_ejercicios(enunciado_latex, enunciado, solucion, texto_ejercicio, curso, titulo , n_ejercicio, '1', '2'), ignore_index=True)\n"
   ]
  },
  {
   "cell_type": "code",
   "execution_count": 23,
   "metadata": {},
   "outputs": [
    {
     "data": {
      "image/png": "[encoded data removed]",
      "text/latex": [
       "$$\\sqrt{3} + 2 i$$"
      ],
      "text/plain": [
       "√3 + 2⋅ⅈ"
      ]
     },
     "execution_count": 23,
     "metadata": {},
     "output_type": "execute_result"
    }
   ],
   "source": [
    "z = sqrt(3)-2*I\n",
    "z\n",
    "conjugate(z)"
   ]
  },
  {
   "cell_type": "code",
   "execution_count": 6,
   "metadata": {},
   "outputs": [],
   "source": [
    "df_ejercicios.to_csv('ejercicios24.csv', index = False)"
   ]
  },
  {
   "cell_type": "code",
   "execution_count": 7,
   "metadata": {},
   "outputs": [],
   "source": [
    "df_ejercicios = pd.read_csv('ejercicios24.csv', index_col= None)"
   ]
  },
  {
   "cell_type": "code",
   "execution_count": 8,
   "metadata": {},
   "outputs": [
    {
     "data": {
      "text/html": [
       "<div>\n",
       "<style scoped>\n",
       "    .dataframe tbody tr th:only-of-type {\n",
       "        vertical-align: middle;\n",
       "    }\n",
       "\n",
       "    .dataframe tbody tr th {\n",
       "        vertical-align: top;\n",
       "    }\n",
       "\n",
       "    .dataframe thead th {\n",
       "        text-align: right;\n",
       "    }\n",
       "</style>\n",
       "<table border=\"1\" class=\"dataframe\">\n",
       "  <thead>\n",
       "    <tr style=\"text-align: right;\">\n",
       "      <th></th>\n",
       "      <th>enunciado_latex</th>\n",
       "      <th>enunciado</th>\n",
       "      <th>solucion</th>\n",
       "      <th>texto</th>\n",
       "      <th>curso</th>\n",
       "      <th>titulo</th>\n",
       "      <th>n_ejercicio</th>\n",
       "      <th>dificultad</th>\n",
       "      <th>n_columnas</th>\n",
       "      <th>puntos</th>\n",
       "      <th>enun_tex</th>\n",
       "      <th>sol_tex</th>\n",
       "    </tr>\n",
       "  </thead>\n",
       "  <tbody>\n",
       "    <tr>\n",
       "      <th>0</th>\n",
       "      <td>(7-2i)^2 + (3+4i)(5-2i)</td>\n",
       "      <td>(-2*i + 5)*(4*i + 3) + (-2*i + 7)**2</td>\n",
       "      <td>68 - 14 i</td>\n",
       "      <td>Calcula:</td>\n",
       "      <td>1BC</td>\n",
       "      <td>24 - Complejos</td>\n",
       "      <td>p045e01</td>\n",
       "      <td>1</td>\n",
       "      <td>2</td>\n",
       "      <td>1</td>\n",
       "      <td>True</td>\n",
       "      <td>True</td>\n",
       "    </tr>\n",
       "    <tr>\n",
       "      <th>1</th>\n",
       "      <td>(2+i)^2(3-2i) + (5-i)i^2</td>\n",
       "      <td>i**2*(-i + 5) + (-2*i + 3)*(i + 2)**2</td>\n",
       "      <td>12 + 7 i</td>\n",
       "      <td>Calcula:</td>\n",
       "      <td>1BC</td>\n",
       "      <td>24 - Complejos</td>\n",
       "      <td>p045e01</td>\n",
       "      <td>1</td>\n",
       "      <td>2</td>\n",
       "      <td>1</td>\n",
       "      <td>True</td>\n",
       "      <td>True</td>\n",
       "    </tr>\n",
       "    <tr>\n",
       "      <th>2</th>\n",
       "      <td>(\\sqrt{3}  - 2i)^2 + (2\\sqrt{3}  -  5i)({1  - ...</td>\n",
       "      <td>(-5*i + 2*sqrt(3))*(-2*i + 1) + (-2*i + sqrt(3...</td>\n",
       "      <td>-11 + 2 \\sqrt{3} + i \\left(- 8 \\sqrt{3} - 5\\ri...</td>\n",
       "      <td>Calcula:</td>\n",
       "      <td>1BC</td>\n",
       "      <td>24 - Complejos</td>\n",
       "      <td>p045e01</td>\n",
       "      <td>1</td>\n",
       "      <td>2</td>\n",
       "      <td>1</td>\n",
       "      <td>True</td>\n",
       "      <td>True</td>\n",
       "    </tr>\n",
       "    <tr>\n",
       "      <th>3</th>\n",
       "      <td>(i^7-1)(i^{16} + i^3-i^9)^5 + (1-2i)^5(1+i)</td>\n",
       "      <td>(-2*i + 1)**5*(i + 1) + (i**7 - 1)*(-i**9 + i*...</td>\n",
       "      <td>0</td>\n",
       "      <td>Calcula:</td>\n",
       "      <td>1BC</td>\n",
       "      <td>24 - Complejos</td>\n",
       "      <td>p045e01</td>\n",
       "      <td>1</td>\n",
       "      <td>2</td>\n",
       "      <td>1</td>\n",
       "      <td>True</td>\n",
       "      <td>True</td>\n",
       "    </tr>\n",
       "    <tr>\n",
       "      <th>4</th>\n",
       "      <td>(1+i)^2+\\frac{1+i}{1-i}</td>\n",
       "      <td>(i + 1)**2 + (i + 1)/(-i + 1)</td>\n",
       "      <td>3 i</td>\n",
       "      <td>Calcula:</td>\n",
       "      <td>1BC</td>\n",
       "      <td>24 - Complejos</td>\n",
       "      <td>p045e01</td>\n",
       "      <td>1</td>\n",
       "      <td>2</td>\n",
       "      <td>1</td>\n",
       "      <td>True</td>\n",
       "      <td>True</td>\n",
       "    </tr>\n",
       "    <tr>\n",
       "      <th>5</th>\n",
       "      <td>(k+5i) + (3+i) = (1+5i) + (-k+i)</td>\n",
       "      <td>Eq(i + 3 + 5*i + k, i - k + 5*i + 1)</td>\n",
       "      <td>\\left [ -1\\right ]</td>\n",
       "      <td>Halla el valor de k, sabiendo que se cumple:</td>\n",
       "      <td>1BC</td>\n",
       "      <td>24 - Complejos</td>\n",
       "      <td>p045e02</td>\n",
       "      <td>1</td>\n",
       "      <td>2</td>\n",
       "      <td>1</td>\n",
       "      <td>True</td>\n",
       "      <td>True</td>\n",
       "    </tr>\n",
       "    <tr>\n",
       "      <th>6</th>\n",
       "      <td>(1+3i)(k+2i) = 13+59i</td>\n",
       "      <td>Eq((2*i + k)*(3*i + 1), 59*i + 13)</td>\n",
       "      <td>\\left \\{ k : 19\\right \\}</td>\n",
       "      <td>Halla el valor de k, sabiendo que se cumple:</td>\n",
       "      <td>1BC</td>\n",
       "      <td>24 - Complejos</td>\n",
       "      <td>p045e02</td>\n",
       "      <td>1</td>\n",
       "      <td>2</td>\n",
       "      <td>1</td>\n",
       "      <td>True</td>\n",
       "      <td>True</td>\n",
       "    </tr>\n",
       "    <tr>\n",
       "      <th>7</th>\n",
       "      <td>k+\\frac{4}{5}i=\\frac{5+i}{3-i}</td>\n",
       "      <td>Eq((4/5)*i + k, (i + 5)/(-i + 3))</td>\n",
       "      <td>\\left [ \\frac{7}{5}\\right ]</td>\n",
       "      <td>Halla el valor de k, sabiendo que se cumple:</td>\n",
       "      <td>1BC</td>\n",
       "      <td>24 - Complejos</td>\n",
       "      <td>p045e02</td>\n",
       "      <td>1</td>\n",
       "      <td>2</td>\n",
       "      <td>1</td>\n",
       "      <td>True</td>\n",
       "      <td>True</td>\n",
       "    </tr>\n",
       "    <tr>\n",
       "      <th>8</th>\n",
       "      <td>-1 + 2i</td>\n",
       "      <td>2*i - 1</td>\n",
       "      <td>- \\frac{1}{5} - \\frac{2 i}{5}</td>\n",
       "      <td>Calcula el inverso de los siguientes números c...</td>\n",
       "      <td>1BC</td>\n",
       "      <td>24 - Complejos</td>\n",
       "      <td>p045e03</td>\n",
       "      <td>1</td>\n",
       "      <td>2</td>\n",
       "      <td>1</td>\n",
       "      <td>True</td>\n",
       "      <td>True</td>\n",
       "    </tr>\n",
       "    <tr>\n",
       "      <th>9</th>\n",
       "      <td>3-\\sqrt{2}i</td>\n",
       "      <td>-sqrt(2)*i + 3</td>\n",
       "      <td>\\frac{3}{11} + \\frac{\\sqrt{2} i}{11}</td>\n",
       "      <td>Calcula el inverso de los siguientes números c...</td>\n",
       "      <td>1BC</td>\n",
       "      <td>24 - Complejos</td>\n",
       "      <td>p045e03</td>\n",
       "      <td>1</td>\n",
       "      <td>2</td>\n",
       "      <td>1</td>\n",
       "      <td>True</td>\n",
       "      <td>True</td>\n",
       "    </tr>\n",
       "    <tr>\n",
       "      <th>10</th>\n",
       "      <td>\\frac{1}{3}-\\frac{1}{2}i</td>\n",
       "      <td>-i/2 + 1/3</td>\n",
       "      <td>\\frac{12}{13} + \\frac{18 i}{13}</td>\n",
       "      <td>Calcula el inverso de los siguientes números c...</td>\n",
       "      <td>1BC</td>\n",
       "      <td>24 - Complejos</td>\n",
       "      <td>p045e03</td>\n",
       "      <td>1</td>\n",
       "      <td>2</td>\n",
       "      <td>1</td>\n",
       "      <td>True</td>\n",
       "      <td>True</td>\n",
       "    </tr>\n",
       "    <tr>\n",
       "      <th>11</th>\n",
       "      <td>\\frac{{k - 2i}}{{3 + 4i}}</td>\n",
       "      <td>(-2*i + k)/(4*i + 3)</td>\n",
       "      <td>\\frac{3 k}{25} - \\frac{4 i k}{25} - \\frac{8}{2...</td>\n",
       "      <td>Calcular el valor de k para que la siguiente e...</td>\n",
       "      <td>1BC</td>\n",
       "      <td>24 - Complejos</td>\n",
       "      <td>p045e04</td>\n",
       "      <td>1</td>\n",
       "      <td>2</td>\n",
       "      <td>1</td>\n",
       "      <td>True</td>\n",
       "      <td>True</td>\n",
       "    </tr>\n",
       "  </tbody>\n",
       "</table>\n",
       "</div>"
      ],
      "text/plain": [
       "                                      enunciado_latex  \\\n",
       "0                             (7-2i)^2 + (3+4i)(5-2i)   \n",
       "1                            (2+i)^2(3-2i) + (5-i)i^2   \n",
       "2   (\\sqrt{3}  - 2i)^2 + (2\\sqrt{3}  -  5i)({1  - ...   \n",
       "3         (i^7-1)(i^{16} + i^3-i^9)^5 + (1-2i)^5(1+i)   \n",
       "4                             (1+i)^2+\\frac{1+i}{1-i}   \n",
       "5                    (k+5i) + (3+i) = (1+5i) + (-k+i)   \n",
       "6                               (1+3i)(k+2i) = 13+59i   \n",
       "7                      k+\\frac{4}{5}i=\\frac{5+i}{3-i}   \n",
       "8                                             -1 + 2i   \n",
       "9                                         3-\\sqrt{2}i   \n",
       "10                           \\frac{1}{3}-\\frac{1}{2}i   \n",
       "11                          \\frac{{k - 2i}}{{3 + 4i}}   \n",
       "\n",
       "                                            enunciado  \\\n",
       "0                (-2*i + 5)*(4*i + 3) + (-2*i + 7)**2   \n",
       "1               i**2*(-i + 5) + (-2*i + 3)*(i + 2)**2   \n",
       "2   (-5*i + 2*sqrt(3))*(-2*i + 1) + (-2*i + sqrt(3...   \n",
       "3   (-2*i + 1)**5*(i + 1) + (i**7 - 1)*(-i**9 + i*...   \n",
       "4                       (i + 1)**2 + (i + 1)/(-i + 1)   \n",
       "5                Eq(i + 3 + 5*i + k, i - k + 5*i + 1)   \n",
       "6                  Eq((2*i + k)*(3*i + 1), 59*i + 13)   \n",
       "7                   Eq((4/5)*i + k, (i + 5)/(-i + 3))   \n",
       "8                                             2*i - 1   \n",
       "9                                      -sqrt(2)*i + 3   \n",
       "10                                         -i/2 + 1/3   \n",
       "11                               (-2*i + k)/(4*i + 3)   \n",
       "\n",
       "                                             solucion  \\\n",
       "0                                           68 - 14 i   \n",
       "1                                            12 + 7 i   \n",
       "2   -11 + 2 \\sqrt{3} + i \\left(- 8 \\sqrt{3} - 5\\ri...   \n",
       "3                                                   0   \n",
       "4                                                 3 i   \n",
       "5                                  \\left [ -1\\right ]   \n",
       "6                            \\left \\{ k : 19\\right \\}   \n",
       "7                         \\left [ \\frac{7}{5}\\right ]   \n",
       "8                       - \\frac{1}{5} - \\frac{2 i}{5}   \n",
       "9                \\frac{3}{11} + \\frac{\\sqrt{2} i}{11}   \n",
       "10                    \\frac{12}{13} + \\frac{18 i}{13}   \n",
       "11  \\frac{3 k}{25} - \\frac{4 i k}{25} - \\frac{8}{2...   \n",
       "\n",
       "                                                texto curso          titulo  \\\n",
       "0                                            Calcula:   1BC  24 - Complejos   \n",
       "1                                            Calcula:   1BC  24 - Complejos   \n",
       "2                                            Calcula:   1BC  24 - Complejos   \n",
       "3                                            Calcula:   1BC  24 - Complejos   \n",
       "4                                            Calcula:   1BC  24 - Complejos   \n",
       "5        Halla el valor de k, sabiendo que se cumple:   1BC  24 - Complejos   \n",
       "6        Halla el valor de k, sabiendo que se cumple:   1BC  24 - Complejos   \n",
       "7        Halla el valor de k, sabiendo que se cumple:   1BC  24 - Complejos   \n",
       "8   Calcula el inverso de los siguientes números c...   1BC  24 - Complejos   \n",
       "9   Calcula el inverso de los siguientes números c...   1BC  24 - Complejos   \n",
       "10  Calcula el inverso de los siguientes números c...   1BC  24 - Complejos   \n",
       "11  Calcular el valor de k para que la siguiente e...   1BC  24 - Complejos   \n",
       "\n",
       "   n_ejercicio  dificultad  n_columnas  puntos  enun_tex  sol_tex  \n",
       "0      p045e01           1           2       1      True     True  \n",
       "1      p045e01           1           2       1      True     True  \n",
       "2      p045e01           1           2       1      True     True  \n",
       "3      p045e01           1           2       1      True     True  \n",
       "4      p045e01           1           2       1      True     True  \n",
       "5      p045e02           1           2       1      True     True  \n",
       "6      p045e02           1           2       1      True     True  \n",
       "7      p045e02           1           2       1      True     True  \n",
       "8      p045e03           1           2       1      True     True  \n",
       "9      p045e03           1           2       1      True     True  \n",
       "10     p045e03           1           2       1      True     True  \n",
       "11     p045e04           1           2       1      True     True  "
      ]
     },
     "execution_count": 8,
     "metadata": {},
     "output_type": "execute_result"
    }
   ],
   "source": [
    "df_ejercicios"
   ]
  },
  {
   "cell_type": "code",
   "execution_count": 9,
   "metadata": {
    "scrolled": false
   },
   "outputs": [
    {
     "data": {
      "text/markdown": [
       "**Ejercicio: **p045e01"
      ],
      "text/plain": [
       "<IPython.core.display.Markdown object>"
      ]
     },
     "metadata": {},
     "output_type": "display_data"
    },
    {
     "data": {
      "text/html": [
       "<div>\n",
       "<style scoped>\n",
       "    .dataframe tbody tr th:only-of-type {\n",
       "        vertical-align: middle;\n",
       "    }\n",
       "\n",
       "    .dataframe tbody tr th {\n",
       "        vertical-align: top;\n",
       "    }\n",
       "\n",
       "    .dataframe thead th {\n",
       "        text-align: right;\n",
       "    }\n",
       "</style>\n",
       "<table border=\"1\" class=\"dataframe\">\n",
       "  <thead>\n",
       "    <tr style=\"text-align: right;\">\n",
       "      <th></th>\n",
       "      <th>enunciado_latex</th>\n",
       "      <th>enunciado</th>\n",
       "      <th>solucion</th>\n",
       "      <th>texto</th>\n",
       "      <th>curso</th>\n",
       "      <th>titulo</th>\n",
       "      <th>n_ejercicio</th>\n",
       "      <th>dificultad</th>\n",
       "      <th>n_columnas</th>\n",
       "      <th>puntos</th>\n",
       "      <th>enun_tex</th>\n",
       "      <th>sol_tex</th>\n",
       "    </tr>\n",
       "  </thead>\n",
       "  <tbody>\n",
       "    <tr>\n",
       "      <th>0</th>\n",
       "      <td>(7-2i)^2 + (3+4i)(5-2i)</td>\n",
       "      <td>(-2*i + 5)*(4*i + 3) + (-2*i + 7)**2</td>\n",
       "      <td>68 - 14 i</td>\n",
       "      <td>Calcula:</td>\n",
       "      <td>1BC</td>\n",
       "      <td>24 - Complejos</td>\n",
       "      <td>p045e01</td>\n",
       "      <td>1</td>\n",
       "      <td>2</td>\n",
       "      <td>1</td>\n",
       "      <td>True</td>\n",
       "      <td>True</td>\n",
       "    </tr>\n",
       "    <tr>\n",
       "      <th>1</th>\n",
       "      <td>(2+i)^2(3-2i) + (5-i)i^2</td>\n",
       "      <td>i**2*(-i + 5) + (-2*i + 3)*(i + 2)**2</td>\n",
       "      <td>12 + 7 i</td>\n",
       "      <td>Calcula:</td>\n",
       "      <td>1BC</td>\n",
       "      <td>24 - Complejos</td>\n",
       "      <td>p045e01</td>\n",
       "      <td>1</td>\n",
       "      <td>2</td>\n",
       "      <td>1</td>\n",
       "      <td>True</td>\n",
       "      <td>True</td>\n",
       "    </tr>\n",
       "    <tr>\n",
       "      <th>2</th>\n",
       "      <td>(\\sqrt{3}  - 2i)^2 + (2\\sqrt{3}  -  5i)({1  - ...</td>\n",
       "      <td>(-5*i + 2*sqrt(3))*(-2*i + 1) + (-2*i + sqrt(3...</td>\n",
       "      <td>-11 + 2 \\sqrt{3} + i \\left(- 8 \\sqrt{3} - 5\\ri...</td>\n",
       "      <td>Calcula:</td>\n",
       "      <td>1BC</td>\n",
       "      <td>24 - Complejos</td>\n",
       "      <td>p045e01</td>\n",
       "      <td>1</td>\n",
       "      <td>2</td>\n",
       "      <td>1</td>\n",
       "      <td>True</td>\n",
       "      <td>True</td>\n",
       "    </tr>\n",
       "    <tr>\n",
       "      <th>3</th>\n",
       "      <td>(i^7-1)(i^{16} + i^3-i^9)^5 + (1-2i)^5(1+i)</td>\n",
       "      <td>(-2*i + 1)**5*(i + 1) + (i**7 - 1)*(-i**9 + i*...</td>\n",
       "      <td>0</td>\n",
       "      <td>Calcula:</td>\n",
       "      <td>1BC</td>\n",
       "      <td>24 - Complejos</td>\n",
       "      <td>p045e01</td>\n",
       "      <td>1</td>\n",
       "      <td>2</td>\n",
       "      <td>1</td>\n",
       "      <td>True</td>\n",
       "      <td>True</td>\n",
       "    </tr>\n",
       "    <tr>\n",
       "      <th>4</th>\n",
       "      <td>(1+i)^2+\\frac{1+i}{1-i}</td>\n",
       "      <td>(i + 1)**2 + (i + 1)/(-i + 1)</td>\n",
       "      <td>3 i</td>\n",
       "      <td>Calcula:</td>\n",
       "      <td>1BC</td>\n",
       "      <td>24 - Complejos</td>\n",
       "      <td>p045e01</td>\n",
       "      <td>1</td>\n",
       "      <td>2</td>\n",
       "      <td>1</td>\n",
       "      <td>True</td>\n",
       "      <td>True</td>\n",
       "    </tr>\n",
       "  </tbody>\n",
       "</table>\n",
       "</div>"
      ],
      "text/plain": [
       "                                     enunciado_latex  \\\n",
       "0                            (7-2i)^2 + (3+4i)(5-2i)   \n",
       "1                           (2+i)^2(3-2i) + (5-i)i^2   \n",
       "2  (\\sqrt{3}  - 2i)^2 + (2\\sqrt{3}  -  5i)({1  - ...   \n",
       "3        (i^7-1)(i^{16} + i^3-i^9)^5 + (1-2i)^5(1+i)   \n",
       "4                            (1+i)^2+\\frac{1+i}{1-i}   \n",
       "\n",
       "                                           enunciado  \\\n",
       "0               (-2*i + 5)*(4*i + 3) + (-2*i + 7)**2   \n",
       "1              i**2*(-i + 5) + (-2*i + 3)*(i + 2)**2   \n",
       "2  (-5*i + 2*sqrt(3))*(-2*i + 1) + (-2*i + sqrt(3...   \n",
       "3  (-2*i + 1)**5*(i + 1) + (i**7 - 1)*(-i**9 + i*...   \n",
       "4                      (i + 1)**2 + (i + 1)/(-i + 1)   \n",
       "\n",
       "                                            solucion     texto curso  \\\n",
       "0                                          68 - 14 i  Calcula:   1BC   \n",
       "1                                           12 + 7 i  Calcula:   1BC   \n",
       "2  -11 + 2 \\sqrt{3} + i \\left(- 8 \\sqrt{3} - 5\\ri...  Calcula:   1BC   \n",
       "3                                                  0  Calcula:   1BC   \n",
       "4                                                3 i  Calcula:   1BC   \n",
       "\n",
       "           titulo n_ejercicio  dificultad  n_columnas  puntos  enun_tex  \\\n",
       "0  24 - Complejos     p045e01           1           2       1      True   \n",
       "1  24 - Complejos     p045e01           1           2       1      True   \n",
       "2  24 - Complejos     p045e01           1           2       1      True   \n",
       "3  24 - Complejos     p045e01           1           2       1      True   \n",
       "4  24 - Complejos     p045e01           1           2       1      True   \n",
       "\n",
       "   sol_tex  \n",
       "0     True  \n",
       "1     True  \n",
       "2     True  \n",
       "3     True  \n",
       "4     True  "
      ]
     },
     "metadata": {},
     "output_type": "display_data"
    },
    {
     "data": {
      "text/markdown": [
       "**Ejercicio: **p045e02"
      ],
      "text/plain": [
       "<IPython.core.display.Markdown object>"
      ]
     },
     "metadata": {},
     "output_type": "display_data"
    },
    {
     "data": {
      "text/html": [
       "<div>\n",
       "<style scoped>\n",
       "    .dataframe tbody tr th:only-of-type {\n",
       "        vertical-align: middle;\n",
       "    }\n",
       "\n",
       "    .dataframe tbody tr th {\n",
       "        vertical-align: top;\n",
       "    }\n",
       "\n",
       "    .dataframe thead th {\n",
       "        text-align: right;\n",
       "    }\n",
       "</style>\n",
       "<table border=\"1\" class=\"dataframe\">\n",
       "  <thead>\n",
       "    <tr style=\"text-align: right;\">\n",
       "      <th></th>\n",
       "      <th>enunciado_latex</th>\n",
       "      <th>enunciado</th>\n",
       "      <th>solucion</th>\n",
       "      <th>texto</th>\n",
       "      <th>curso</th>\n",
       "      <th>titulo</th>\n",
       "      <th>n_ejercicio</th>\n",
       "      <th>dificultad</th>\n",
       "      <th>n_columnas</th>\n",
       "      <th>puntos</th>\n",
       "      <th>enun_tex</th>\n",
       "      <th>sol_tex</th>\n",
       "    </tr>\n",
       "  </thead>\n",
       "  <tbody>\n",
       "    <tr>\n",
       "      <th>5</th>\n",
       "      <td>(k+5i) + (3+i) = (1+5i) + (-k+i)</td>\n",
       "      <td>Eq(i + 3 + 5*i + k, i - k + 5*i + 1)</td>\n",
       "      <td>\\left [ -1\\right ]</td>\n",
       "      <td>Halla el valor de k, sabiendo que se cumple:</td>\n",
       "      <td>1BC</td>\n",
       "      <td>24 - Complejos</td>\n",
       "      <td>p045e02</td>\n",
       "      <td>1</td>\n",
       "      <td>2</td>\n",
       "      <td>1</td>\n",
       "      <td>True</td>\n",
       "      <td>True</td>\n",
       "    </tr>\n",
       "    <tr>\n",
       "      <th>6</th>\n",
       "      <td>(1+3i)(k+2i) = 13+59i</td>\n",
       "      <td>Eq((2*i + k)*(3*i + 1), 59*i + 13)</td>\n",
       "      <td>\\left \\{ k : 19\\right \\}</td>\n",
       "      <td>Halla el valor de k, sabiendo que se cumple:</td>\n",
       "      <td>1BC</td>\n",
       "      <td>24 - Complejos</td>\n",
       "      <td>p045e02</td>\n",
       "      <td>1</td>\n",
       "      <td>2</td>\n",
       "      <td>1</td>\n",
       "      <td>True</td>\n",
       "      <td>True</td>\n",
       "    </tr>\n",
       "    <tr>\n",
       "      <th>7</th>\n",
       "      <td>k+\\frac{4}{5}i=\\frac{5+i}{3-i}</td>\n",
       "      <td>Eq((4/5)*i + k, (i + 5)/(-i + 3))</td>\n",
       "      <td>\\left [ \\frac{7}{5}\\right ]</td>\n",
       "      <td>Halla el valor de k, sabiendo que se cumple:</td>\n",
       "      <td>1BC</td>\n",
       "      <td>24 - Complejos</td>\n",
       "      <td>p045e02</td>\n",
       "      <td>1</td>\n",
       "      <td>2</td>\n",
       "      <td>1</td>\n",
       "      <td>True</td>\n",
       "      <td>True</td>\n",
       "    </tr>\n",
       "  </tbody>\n",
       "</table>\n",
       "</div>"
      ],
      "text/plain": [
       "                    enunciado_latex                             enunciado  \\\n",
       "5  (k+5i) + (3+i) = (1+5i) + (-k+i)  Eq(i + 3 + 5*i + k, i - k + 5*i + 1)   \n",
       "6             (1+3i)(k+2i) = 13+59i    Eq((2*i + k)*(3*i + 1), 59*i + 13)   \n",
       "7    k+\\frac{4}{5}i=\\frac{5+i}{3-i}     Eq((4/5)*i + k, (i + 5)/(-i + 3))   \n",
       "\n",
       "                      solucion                                         texto  \\\n",
       "5           \\left [ -1\\right ]  Halla el valor de k, sabiendo que se cumple:   \n",
       "6     \\left \\{ k : 19\\right \\}  Halla el valor de k, sabiendo que se cumple:   \n",
       "7  \\left [ \\frac{7}{5}\\right ]  Halla el valor de k, sabiendo que se cumple:   \n",
       "\n",
       "  curso          titulo n_ejercicio  dificultad  n_columnas  puntos  enun_tex  \\\n",
       "5   1BC  24 - Complejos     p045e02           1           2       1      True   \n",
       "6   1BC  24 - Complejos     p045e02           1           2       1      True   \n",
       "7   1BC  24 - Complejos     p045e02           1           2       1      True   \n",
       "\n",
       "   sol_tex  \n",
       "5     True  \n",
       "6     True  \n",
       "7     True  "
      ]
     },
     "metadata": {},
     "output_type": "display_data"
    },
    {
     "data": {
      "text/markdown": [
       "**Ejercicio: **p045e03"
      ],
      "text/plain": [
       "<IPython.core.display.Markdown object>"
      ]
     },
     "metadata": {},
     "output_type": "display_data"
    },
    {
     "data": {
      "text/html": [
       "<div>\n",
       "<style scoped>\n",
       "    .dataframe tbody tr th:only-of-type {\n",
       "        vertical-align: middle;\n",
       "    }\n",
       "\n",
       "    .dataframe tbody tr th {\n",
       "        vertical-align: top;\n",
       "    }\n",
       "\n",
       "    .dataframe thead th {\n",
       "        text-align: right;\n",
       "    }\n",
       "</style>\n",
       "<table border=\"1\" class=\"dataframe\">\n",
       "  <thead>\n",
       "    <tr style=\"text-align: right;\">\n",
       "      <th></th>\n",
       "      <th>enunciado_latex</th>\n",
       "      <th>enunciado</th>\n",
       "      <th>solucion</th>\n",
       "      <th>texto</th>\n",
       "      <th>curso</th>\n",
       "      <th>titulo</th>\n",
       "      <th>n_ejercicio</th>\n",
       "      <th>dificultad</th>\n",
       "      <th>n_columnas</th>\n",
       "      <th>puntos</th>\n",
       "      <th>enun_tex</th>\n",
       "      <th>sol_tex</th>\n",
       "    </tr>\n",
       "  </thead>\n",
       "  <tbody>\n",
       "    <tr>\n",
       "      <th>8</th>\n",
       "      <td>-1 + 2i</td>\n",
       "      <td>2*i - 1</td>\n",
       "      <td>- \\frac{1}{5} - \\frac{2 i}{5}</td>\n",
       "      <td>Calcula el inverso de los siguientes números c...</td>\n",
       "      <td>1BC</td>\n",
       "      <td>24 - Complejos</td>\n",
       "      <td>p045e03</td>\n",
       "      <td>1</td>\n",
       "      <td>2</td>\n",
       "      <td>1</td>\n",
       "      <td>True</td>\n",
       "      <td>True</td>\n",
       "    </tr>\n",
       "    <tr>\n",
       "      <th>9</th>\n",
       "      <td>3-\\sqrt{2}i</td>\n",
       "      <td>-sqrt(2)*i + 3</td>\n",
       "      <td>\\frac{3}{11} + \\frac{\\sqrt{2} i}{11}</td>\n",
       "      <td>Calcula el inverso de los siguientes números c...</td>\n",
       "      <td>1BC</td>\n",
       "      <td>24 - Complejos</td>\n",
       "      <td>p045e03</td>\n",
       "      <td>1</td>\n",
       "      <td>2</td>\n",
       "      <td>1</td>\n",
       "      <td>True</td>\n",
       "      <td>True</td>\n",
       "    </tr>\n",
       "    <tr>\n",
       "      <th>10</th>\n",
       "      <td>\\frac{1}{3}-\\frac{1}{2}i</td>\n",
       "      <td>-i/2 + 1/3</td>\n",
       "      <td>\\frac{12}{13} + \\frac{18 i}{13}</td>\n",
       "      <td>Calcula el inverso de los siguientes números c...</td>\n",
       "      <td>1BC</td>\n",
       "      <td>24 - Complejos</td>\n",
       "      <td>p045e03</td>\n",
       "      <td>1</td>\n",
       "      <td>2</td>\n",
       "      <td>1</td>\n",
       "      <td>True</td>\n",
       "      <td>True</td>\n",
       "    </tr>\n",
       "  </tbody>\n",
       "</table>\n",
       "</div>"
      ],
      "text/plain": [
       "             enunciado_latex       enunciado  \\\n",
       "8                    -1 + 2i         2*i - 1   \n",
       "9                3-\\sqrt{2}i  -sqrt(2)*i + 3   \n",
       "10  \\frac{1}{3}-\\frac{1}{2}i      -i/2 + 1/3   \n",
       "\n",
       "                                solucion  \\\n",
       "8          - \\frac{1}{5} - \\frac{2 i}{5}   \n",
       "9   \\frac{3}{11} + \\frac{\\sqrt{2} i}{11}   \n",
       "10       \\frac{12}{13} + \\frac{18 i}{13}   \n",
       "\n",
       "                                                texto curso          titulo  \\\n",
       "8   Calcula el inverso de los siguientes números c...   1BC  24 - Complejos   \n",
       "9   Calcula el inverso de los siguientes números c...   1BC  24 - Complejos   \n",
       "10  Calcula el inverso de los siguientes números c...   1BC  24 - Complejos   \n",
       "\n",
       "   n_ejercicio  dificultad  n_columnas  puntos  enun_tex  sol_tex  \n",
       "8      p045e03           1           2       1      True     True  \n",
       "9      p045e03           1           2       1      True     True  \n",
       "10     p045e03           1           2       1      True     True  "
      ]
     },
     "metadata": {},
     "output_type": "display_data"
    },
    {
     "data": {
      "text/markdown": [
       "**Ejercicio: **p045e04"
      ],
      "text/plain": [
       "<IPython.core.display.Markdown object>"
      ]
     },
     "metadata": {},
     "output_type": "display_data"
    },
    {
     "data": {
      "text/html": [
       "<div>\n",
       "<style scoped>\n",
       "    .dataframe tbody tr th:only-of-type {\n",
       "        vertical-align: middle;\n",
       "    }\n",
       "\n",
       "    .dataframe tbody tr th {\n",
       "        vertical-align: top;\n",
       "    }\n",
       "\n",
       "    .dataframe thead th {\n",
       "        text-align: right;\n",
       "    }\n",
       "</style>\n",
       "<table border=\"1\" class=\"dataframe\">\n",
       "  <thead>\n",
       "    <tr style=\"text-align: right;\">\n",
       "      <th></th>\n",
       "      <th>enunciado_latex</th>\n",
       "      <th>enunciado</th>\n",
       "      <th>solucion</th>\n",
       "      <th>texto</th>\n",
       "      <th>curso</th>\n",
       "      <th>titulo</th>\n",
       "      <th>n_ejercicio</th>\n",
       "      <th>dificultad</th>\n",
       "      <th>n_columnas</th>\n",
       "      <th>puntos</th>\n",
       "      <th>enun_tex</th>\n",
       "      <th>sol_tex</th>\n",
       "    </tr>\n",
       "  </thead>\n",
       "  <tbody>\n",
       "    <tr>\n",
       "      <th>11</th>\n",
       "      <td>\\frac{{k - 2i}}{{3 + 4i}}</td>\n",
       "      <td>(-2*i + k)/(4*i + 3)</td>\n",
       "      <td>\\frac{3 k}{25} - \\frac{4 i k}{25} - \\frac{8}{2...</td>\n",
       "      <td>Calcular el valor de k para que la siguiente e...</td>\n",
       "      <td>1BC</td>\n",
       "      <td>24 - Complejos</td>\n",
       "      <td>p045e04</td>\n",
       "      <td>1</td>\n",
       "      <td>2</td>\n",
       "      <td>1</td>\n",
       "      <td>True</td>\n",
       "      <td>True</td>\n",
       "    </tr>\n",
       "  </tbody>\n",
       "</table>\n",
       "</div>"
      ],
      "text/plain": [
       "              enunciado_latex             enunciado  \\\n",
       "11  \\frac{{k - 2i}}{{3 + 4i}}  (-2*i + k)/(4*i + 3)   \n",
       "\n",
       "                                             solucion  \\\n",
       "11  \\frac{3 k}{25} - \\frac{4 i k}{25} - \\frac{8}{2...   \n",
       "\n",
       "                                                texto curso          titulo  \\\n",
       "11  Calcular el valor de k para que la siguiente e...   1BC  24 - Complejos   \n",
       "\n",
       "   n_ejercicio  dificultad  n_columnas  puntos  enun_tex  sol_tex  \n",
       "11     p045e04           1           2       1      True     True  "
      ]
     },
     "metadata": {},
     "output_type": "display_data"
    }
   ],
   "source": [
    "escribir_preambulo(fichero, titulo, 'ejercicios')\n",
    "for s in df_ejercicios.groupby('n_ejercicio').count().index : \n",
    "    display(md(\"**Ejercicio: **\" + s ))\n",
    "    display(df_ejercicios[df_ejercicios.n_ejercicio == s])\n",
    "    escribir_ejercicios(df_ejercicios[df_ejercicios.n_ejercicio == s],fichero)\n",
    "\n",
    "escribir_fin(fichero)"
   ]
  }
 ],
 "metadata": {
  "kernelspec": {
   "display_name": "Python 3",
   "language": "python",
   "name": "python3"
  },
  "language_info": {
   "codemirror_mode": {
    "name": "ipython",
    "version": 3
   },
   "file_extension": ".py",
   "mimetype": "text/x-python",
   "name": "python",
   "nbconvert_exporter": "python",
   "pygments_lexer": "ipython3",
   "version": "3.6.5"
  }
 },
 "nbformat": 4,
 "nbformat_minor": 2
}
