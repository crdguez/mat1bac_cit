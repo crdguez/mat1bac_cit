{
 "cells": [
  {
   "cell_type": "code",
   "execution_count": 1,
   "metadata": {},
   "outputs": [
    {
     "name": "stdout",
     "output_type": "stream",
     "text": [
      "IPython console for SymPy 1.2 (Python 3.6.5-64-bit) (ground types: gmpy)\n",
      "\n",
      "These commands were executed:\n",
      ">>> from __future__ import division\n",
      ">>> from sympy import *\n",
      ">>> x, y, z, t = symbols('x y z t')\n",
      ">>> k, m, n = symbols('k m n', integer=True)\n",
      ">>> f, g, h = symbols('f g h', cls=Function)\n",
      ">>> init_printing()\n",
      "\n",
      "Documentation can be found at http://docs.sympy.org/1.2/\n",
      "\n"
     ]
    }
   ],
   "source": [
    "from sympy import init_session\n",
    "from sympy import div, QQ\n",
    "from sympy.parsing.latex import parse_latex\n",
    "from sympy.parsing.sympy_parser import parse_expr\n",
    "from sympy import solve_poly_system\n",
    "from IPython.display import Markdown as md\n",
    "from IPython.display import display\n",
    "import numpy as np\n",
    "import pandas as pd\n",
    "    \n",
    "\n",
    "\n",
    "\n",
    "init_session()\n",
    "\n",
    "a, b, c, d = symbols('a b c d', real = True)\n",
    "from docparts import añadir_ejercicios, doc_ejer, escribir_preambulo, escribir_ejercicios, escribir_fin\n",
    "\n",
    "alpha = Symbol(\"alpha\")\n",
    "beta = Symbol(\"beta\")\n",
    "\n",
    "df_ejercicios = pd.DataFrame()\n",
    "\n",
    "fichero = 'complejos'\n",
    "titulo = '24 - Complejos'\n",
    "curso = '1BC'\n",
    "\n",
    "\n",
    "# x,y = symbols('x, y', real=True)\n"
   ]
  },
  {
   "cell_type": "code",
   "execution_count": 2,
   "metadata": {},
   "outputs": [
    {
     "data": {
      "text/markdown": [
       "**Calcula:**"
      ],
      "text/plain": [
       "<IPython.core.display.Markdown object>"
      ]
     },
     "metadata": {},
     "output_type": "display_data"
    },
    {
     "data": {
      "text/markdown": [
       "$(7-2i)^2 + (3+4i)(5-2i) \\rightarrow 68 - 14 i$"
      ],
      "text/plain": [
       "<IPython.core.display.Markdown object>"
      ]
     },
     "metadata": {},
     "output_type": "display_data"
    },
    {
     "data": {
      "text/markdown": [
       "$(2+i)^2(3-2i) + (5-i)i^2 \\rightarrow 12 + 7 i$"
      ],
      "text/plain": [
       "<IPython.core.display.Markdown object>"
      ]
     },
     "metadata": {},
     "output_type": "display_data"
    },
    {
     "data": {
      "text/markdown": [
       "$(\\sqrt{3}  - 2i)^2 + (2\\sqrt{3}  -  5i)({1  -  2i}) \\rightarrow -11 + 2 \\sqrt{3} + i \\left(- 8 \\sqrt{3} - 5\\right)$"
      ],
      "text/plain": [
       "<IPython.core.display.Markdown object>"
      ]
     },
     "metadata": {},
     "output_type": "display_data"
    },
    {
     "data": {
      "text/markdown": [
       "$(i^7-1)(i^{16} + i^3-i^9)^5 + (1-2i)^5(1+i) \\rightarrow 0$"
      ],
      "text/plain": [
       "<IPython.core.display.Markdown object>"
      ]
     },
     "metadata": {},
     "output_type": "display_data"
    },
    {
     "data": {
      "text/markdown": [
       "$(1+i)^2+\\frac{1+i}{1-i} \\rightarrow 3 i$"
      ],
      "text/plain": [
       "<IPython.core.display.Markdown object>"
      ]
     },
     "metadata": {},
     "output_type": "display_data"
    }
   ],
   "source": [
    "# Página 45 ejercicio 1\n",
    "\n",
    "texto_ejercicio = 'Calcula:'\n",
    "n_ejercicio = 'p045e01'\n",
    "\n",
    "display(md(\"**\"+texto_ejercicio+\"**\"))\n",
    "\n",
    "enunciado_latex = [r'(7-2i)^2 + (3+4i)(5-2i)',\n",
    "                   r'(2+i)^2(3-2i) + (5-i)i^2',\n",
    "                   r'(\\sqrt{3}  - 2i)^2 + (2\\sqrt{3}  -  5i)({1  -  2i})',\n",
    "                   r'(i^7-1)(i^{16} + i^3-i^9)^5 + (1-2i)^5(1+i)',\n",
    "                   r'(1+i)^2+\\frac{1+i}{1-i}'\n",
    "                   \n",
    "                  ]\n",
    "                                       \n",
    "\n",
    "\n",
    "\n",
    "\n",
    "enunciado, solucion = [], []\n",
    "\n",
    "for i, s in enumerate(enunciado_latex) :\n",
    "    enunciado.append(parse_latex(s))\n",
    "    solucion.append(latex(nsimplify(eval(str(parse_latex(s)).replace('i','I'))))) \n",
    "    display(md(\"$\"+ enunciado_latex[i] +\" \\\\rightarrow \" + solucion[i] +\"$\"))\n",
    "\n",
    "df_ejercicios = df_ejercicios.append(añadir_ejercicios(enunciado_latex, enunciado, solucion, texto_ejercicio, curso, titulo , n_ejercicio, '1', '2'), ignore_index=True)\n"
   ]
  },
  {
   "cell_type": "code",
   "execution_count": 15,
   "metadata": {},
   "outputs": [
    {
     "data": {
      "text/markdown": [
       "**Halla el valor de k, sabiendo que se cumple:**"
      ],
      "text/plain": [
       "<IPython.core.display.Markdown object>"
      ]
     },
     "metadata": {},
     "output_type": "display_data"
    },
    {
     "data": {
      "text/markdown": [
       "$(k+5i) + (3+i) = (1+5i) + (-k+i) \\rightarrow \\left [ -1\\right ]$"
      ],
      "text/plain": [
       "<IPython.core.display.Markdown object>"
      ]
     },
     "metadata": {},
     "output_type": "display_data"
    },
    {
     "data": {
      "text/markdown": [
       "$(1+3i)(k+2i) = 13+59i \\rightarrow \\left \\{ k : 19\\right \\}$"
      ],
      "text/plain": [
       "<IPython.core.display.Markdown object>"
      ]
     },
     "metadata": {},
     "output_type": "display_data"
    },
    {
     "data": {
      "text/markdown": [
       "$k+\\frac{4}{5}i=\\frac{5+i}{3-i} \\rightarrow \\left [ \\right ]$"
      ],
      "text/plain": [
       "<IPython.core.display.Markdown object>"
      ]
     },
     "metadata": {},
     "output_type": "display_data"
    }
   ],
   "source": [
    "# Página 45 ejercicio 2\n",
    "\n",
    "texto_ejercicio = 'Halla el valor de k, sabiendo que se cumple:'\n",
    "n_ejercicio = 'p045e02'\n",
    "\n",
    "display(md(\"**\"+texto_ejercicio+\"**\"))\n",
    "\n",
    "enunciado_latex = [r'(k+5i) + (3+i) = (1+5i) + (-k+i)',\n",
    "                   r'(1+3i)(k+2i) = 13+59i',\n",
    "                   r'k+\\frac{4}{5}i=\\frac{5+i}{3-i}',\n",
    "                   \n",
    "                   \n",
    "                  ]\n",
    "                                       \n",
    "\n",
    "\n",
    "\n",
    "\n",
    "enunciado, solucion = [], []\n",
    "\n",
    "for i, s in enumerate(enunciado_latex) :\n",
    "    enunciado.append(parse_latex(s))\n",
    "    solucion.append(latex(solve(nsimplify(eval(str(parse_latex(s).replace('i','I'))))))) \n",
    "    display(md(\"$\"+ enunciado_latex[i] +\" \\\\rightarrow \" + solucion[i] +\"$\"))\n",
    "\n",
    "df_ejercicios = df_ejercicios.append(añadir_ejercicios(enunciado_latex, enunciado, solucion, texto_ejercicio, curso, titulo , n_ejercicio, '1', '2'), ignore_index=True)\n"
   ]
  },
  {
   "cell_type": "code",
   "execution_count": 18,
   "metadata": {},
   "outputs": [
    {
     "data": {
      "text/markdown": [
       "**Calcula el inverso de los siguientes números complejos:**"
      ],
      "text/plain": [
       "<IPython.core.display.Markdown object>"
      ]
     },
     "metadata": {},
     "output_type": "display_data"
    },
    {
     "data": {
      "text/markdown": [
       "$-1 + 2i \\rightarrow - \\frac{1}{5} - \\frac{2 i}{5}$"
      ],
      "text/plain": [
       "<IPython.core.display.Markdown object>"
      ]
     },
     "metadata": {},
     "output_type": "display_data"
    },
    {
     "data": {
      "text/markdown": [
       "$3-\\sqrt{2}i \\rightarrow \\frac{3}{11} + \\frac{\\sqrt{2} i}{11}$"
      ],
      "text/plain": [
       "<IPython.core.display.Markdown object>"
      ]
     },
     "metadata": {},
     "output_type": "display_data"
    }
   ],
   "source": [
    "# Página 45 ejercicio 3\n",
    "\n",
    "texto_ejercicio = 'Calcula el inverso de los siguientes números complejos:'\n",
    "n_ejercicio = 'p045e03'\n",
    "\n",
    "display(md(\"**\"+texto_ejercicio+\"**\"))\n",
    "\n",
    "enunciado_latex = [r'-1 + 2i',\n",
    "                   r'3-\\sqrt{2}i', \n",
    "                   r'\\frac{1}{3}-\\frac{}'\n",
    "                  ]\n",
    "                                       \n",
    "\n",
    "\n",
    "\n",
    "\n",
    "enunciado, solucion = [], []\n",
    "\n",
    "for i, s in enumerate(enunciado_latex) :\n",
    "    enunciado.append(parse_latex(s))\n",
    "    solucion.append(latex(nsimplify(1/(eval(str(parse_latex(s)).replace('i','I')))))) \n",
    "    display(md(\"$\"+ enunciado_latex[i] +\" \\\\rightarrow \" + solucion[i] +\"$\"))\n",
    "\n",
    "df_ejercicios = df_ejercicios.append(añadir_ejercicios(enunciado_latex, enunciado, solucion, texto_ejercicio, curso, titulo , n_ejercicio, '1', '2'), ignore_index=True)\n"
   ]
  },
  {
   "cell_type": "code",
   "execution_count": 3,
   "metadata": {},
   "outputs": [],
   "source": [
    "df_ejercicios.to_csv('ejercicios24.csv', index = False)"
   ]
  },
  {
   "cell_type": "code",
   "execution_count": 4,
   "metadata": {},
   "outputs": [],
   "source": [
    "df_ejercicios = pd.read_csv('ejercicios24.csv', index_col= None)"
   ]
  },
  {
   "cell_type": "code",
   "execution_count": 5,
   "metadata": {},
   "outputs": [
    {
     "data": {
      "text/html": [
       "<div>\n",
       "<style scoped>\n",
       "    .dataframe tbody tr th:only-of-type {\n",
       "        vertical-align: middle;\n",
       "    }\n",
       "\n",
       "    .dataframe tbody tr th {\n",
       "        vertical-align: top;\n",
       "    }\n",
       "\n",
       "    .dataframe thead th {\n",
       "        text-align: right;\n",
       "    }\n",
       "</style>\n",
       "<table border=\"1\" class=\"dataframe\">\n",
       "  <thead>\n",
       "    <tr style=\"text-align: right;\">\n",
       "      <th></th>\n",
       "      <th>enunciado_latex</th>\n",
       "      <th>enunciado</th>\n",
       "      <th>solucion</th>\n",
       "      <th>texto</th>\n",
       "      <th>curso</th>\n",
       "      <th>titulo</th>\n",
       "      <th>n_ejercicio</th>\n",
       "      <th>dificultad</th>\n",
       "      <th>n_columnas</th>\n",
       "      <th>puntos</th>\n",
       "      <th>enun_tex</th>\n",
       "      <th>sol_tex</th>\n",
       "    </tr>\n",
       "  </thead>\n",
       "  <tbody>\n",
       "    <tr>\n",
       "      <th>0</th>\n",
       "      <td>(7-2i)^2 + (3+4i)(5-2i)</td>\n",
       "      <td>(-2*i + 5)*(4*i + 3) + (-2*i + 7)**2</td>\n",
       "      <td>68 - 14 i</td>\n",
       "      <td>Calcula:</td>\n",
       "      <td>1BC</td>\n",
       "      <td>24 - Complejos</td>\n",
       "      <td>p045e01</td>\n",
       "      <td>1</td>\n",
       "      <td>2</td>\n",
       "      <td>1</td>\n",
       "      <td>True</td>\n",
       "      <td>True</td>\n",
       "    </tr>\n",
       "    <tr>\n",
       "      <th>1</th>\n",
       "      <td>(2+i)^2(3-2i) + (5-i)i^2</td>\n",
       "      <td>i**2*(-i + 5) + (-2*i + 3)*(i + 2)**2</td>\n",
       "      <td>12 + 7 i</td>\n",
       "      <td>Calcula:</td>\n",
       "      <td>1BC</td>\n",
       "      <td>24 - Complejos</td>\n",
       "      <td>p045e01</td>\n",
       "      <td>1</td>\n",
       "      <td>2</td>\n",
       "      <td>1</td>\n",
       "      <td>True</td>\n",
       "      <td>True</td>\n",
       "    </tr>\n",
       "    <tr>\n",
       "      <th>2</th>\n",
       "      <td>(\\sqrt{3}  - 2i)^2 + (2\\sqrt{3}  -  5i)({1  - ...</td>\n",
       "      <td>(-5*i + 2*sqrt(3))*(-2*i + 1) + (-2*i + sqrt(3...</td>\n",
       "      <td>-11 + 2 \\sqrt{3} + i \\left(- 8 \\sqrt{3} - 5\\ri...</td>\n",
       "      <td>Calcula:</td>\n",
       "      <td>1BC</td>\n",
       "      <td>24 - Complejos</td>\n",
       "      <td>p045e01</td>\n",
       "      <td>1</td>\n",
       "      <td>2</td>\n",
       "      <td>1</td>\n",
       "      <td>True</td>\n",
       "      <td>True</td>\n",
       "    </tr>\n",
       "    <tr>\n",
       "      <th>3</th>\n",
       "      <td>(i^7-1)(i^{16} + i^3-i^9)^5 + (1-2i)^5(1+i)</td>\n",
       "      <td>(-2*i + 1)**5*(i + 1) + (i**7 - 1)*(-i**9 + i*...</td>\n",
       "      <td>0</td>\n",
       "      <td>Calcula:</td>\n",
       "      <td>1BC</td>\n",
       "      <td>24 - Complejos</td>\n",
       "      <td>p045e01</td>\n",
       "      <td>1</td>\n",
       "      <td>2</td>\n",
       "      <td>1</td>\n",
       "      <td>True</td>\n",
       "      <td>True</td>\n",
       "    </tr>\n",
       "    <tr>\n",
       "      <th>4</th>\n",
       "      <td>(1+i)^2+\\frac{1+i}{1-i}</td>\n",
       "      <td>(i + 1)**2 + (i + 1)/(-i + 1)</td>\n",
       "      <td>3 i</td>\n",
       "      <td>Calcula:</td>\n",
       "      <td>1BC</td>\n",
       "      <td>24 - Complejos</td>\n",
       "      <td>p045e01</td>\n",
       "      <td>1</td>\n",
       "      <td>2</td>\n",
       "      <td>1</td>\n",
       "      <td>True</td>\n",
       "      <td>True</td>\n",
       "    </tr>\n",
       "  </tbody>\n",
       "</table>\n",
       "</div>"
      ],
      "text/plain": [
       "                                     enunciado_latex  \\\n",
       "0                            (7-2i)^2 + (3+4i)(5-2i)   \n",
       "1                           (2+i)^2(3-2i) + (5-i)i^2   \n",
       "2  (\\sqrt{3}  - 2i)^2 + (2\\sqrt{3}  -  5i)({1  - ...   \n",
       "3        (i^7-1)(i^{16} + i^3-i^9)^5 + (1-2i)^5(1+i)   \n",
       "4                            (1+i)^2+\\frac{1+i}{1-i}   \n",
       "\n",
       "                                           enunciado  \\\n",
       "0               (-2*i + 5)*(4*i + 3) + (-2*i + 7)**2   \n",
       "1              i**2*(-i + 5) + (-2*i + 3)*(i + 2)**2   \n",
       "2  (-5*i + 2*sqrt(3))*(-2*i + 1) + (-2*i + sqrt(3...   \n",
       "3  (-2*i + 1)**5*(i + 1) + (i**7 - 1)*(-i**9 + i*...   \n",
       "4                      (i + 1)**2 + (i + 1)/(-i + 1)   \n",
       "\n",
       "                                            solucion     texto curso  \\\n",
       "0                                          68 - 14 i  Calcula:   1BC   \n",
       "1                                           12 + 7 i  Calcula:   1BC   \n",
       "2  -11 + 2 \\sqrt{3} + i \\left(- 8 \\sqrt{3} - 5\\ri...  Calcula:   1BC   \n",
       "3                                                  0  Calcula:   1BC   \n",
       "4                                                3 i  Calcula:   1BC   \n",
       "\n",
       "           titulo n_ejercicio  dificultad  n_columnas  puntos  enun_tex  \\\n",
       "0  24 - Complejos     p045e01           1           2       1      True   \n",
       "1  24 - Complejos     p045e01           1           2       1      True   \n",
       "2  24 - Complejos     p045e01           1           2       1      True   \n",
       "3  24 - Complejos     p045e01           1           2       1      True   \n",
       "4  24 - Complejos     p045e01           1           2       1      True   \n",
       "\n",
       "   sol_tex  \n",
       "0     True  \n",
       "1     True  \n",
       "2     True  \n",
       "3     True  \n",
       "4     True  "
      ]
     },
     "execution_count": 5,
     "metadata": {},
     "output_type": "execute_result"
    }
   ],
   "source": [
    "df_ejercicios"
   ]
  },
  {
   "cell_type": "code",
   "execution_count": 6,
   "metadata": {
    "scrolled": false
   },
   "outputs": [
    {
     "data": {
      "text/markdown": [
       "**Ejercicio: **p045e01"
      ],
      "text/plain": [
       "<IPython.core.display.Markdown object>"
      ]
     },
     "metadata": {},
     "output_type": "display_data"
    },
    {
     "data": {
      "text/html": [
       "<div>\n",
       "<style scoped>\n",
       "    .dataframe tbody tr th:only-of-type {\n",
       "        vertical-align: middle;\n",
       "    }\n",
       "\n",
       "    .dataframe tbody tr th {\n",
       "        vertical-align: top;\n",
       "    }\n",
       "\n",
       "    .dataframe thead th {\n",
       "        text-align: right;\n",
       "    }\n",
       "</style>\n",
       "<table border=\"1\" class=\"dataframe\">\n",
       "  <thead>\n",
       "    <tr style=\"text-align: right;\">\n",
       "      <th></th>\n",
       "      <th>enunciado_latex</th>\n",
       "      <th>enunciado</th>\n",
       "      <th>solucion</th>\n",
       "      <th>texto</th>\n",
       "      <th>curso</th>\n",
       "      <th>titulo</th>\n",
       "      <th>n_ejercicio</th>\n",
       "      <th>dificultad</th>\n",
       "      <th>n_columnas</th>\n",
       "      <th>puntos</th>\n",
       "      <th>enun_tex</th>\n",
       "      <th>sol_tex</th>\n",
       "    </tr>\n",
       "  </thead>\n",
       "  <tbody>\n",
       "    <tr>\n",
       "      <th>0</th>\n",
       "      <td>(7-2i)^2 + (3+4i)(5-2i)</td>\n",
       "      <td>(-2*i + 5)*(4*i + 3) + (-2*i + 7)**2</td>\n",
       "      <td>68 - 14 i</td>\n",
       "      <td>Calcula:</td>\n",
       "      <td>1BC</td>\n",
       "      <td>24 - Complejos</td>\n",
       "      <td>p045e01</td>\n",
       "      <td>1</td>\n",
       "      <td>2</td>\n",
       "      <td>1</td>\n",
       "      <td>True</td>\n",
       "      <td>True</td>\n",
       "    </tr>\n",
       "    <tr>\n",
       "      <th>1</th>\n",
       "      <td>(2+i)^2(3-2i) + (5-i)i^2</td>\n",
       "      <td>i**2*(-i + 5) + (-2*i + 3)*(i + 2)**2</td>\n",
       "      <td>12 + 7 i</td>\n",
       "      <td>Calcula:</td>\n",
       "      <td>1BC</td>\n",
       "      <td>24 - Complejos</td>\n",
       "      <td>p045e01</td>\n",
       "      <td>1</td>\n",
       "      <td>2</td>\n",
       "      <td>1</td>\n",
       "      <td>True</td>\n",
       "      <td>True</td>\n",
       "    </tr>\n",
       "    <tr>\n",
       "      <th>2</th>\n",
       "      <td>(\\sqrt{3}  - 2i)^2 + (2\\sqrt{3}  -  5i)({1  - ...</td>\n",
       "      <td>(-5*i + 2*sqrt(3))*(-2*i + 1) + (-2*i + sqrt(3...</td>\n",
       "      <td>-11 + 2 \\sqrt{3} + i \\left(- 8 \\sqrt{3} - 5\\ri...</td>\n",
       "      <td>Calcula:</td>\n",
       "      <td>1BC</td>\n",
       "      <td>24 - Complejos</td>\n",
       "      <td>p045e01</td>\n",
       "      <td>1</td>\n",
       "      <td>2</td>\n",
       "      <td>1</td>\n",
       "      <td>True</td>\n",
       "      <td>True</td>\n",
       "    </tr>\n",
       "    <tr>\n",
       "      <th>3</th>\n",
       "      <td>(i^7-1)(i^{16} + i^3-i^9)^5 + (1-2i)^5(1+i)</td>\n",
       "      <td>(-2*i + 1)**5*(i + 1) + (i**7 - 1)*(-i**9 + i*...</td>\n",
       "      <td>0</td>\n",
       "      <td>Calcula:</td>\n",
       "      <td>1BC</td>\n",
       "      <td>24 - Complejos</td>\n",
       "      <td>p045e01</td>\n",
       "      <td>1</td>\n",
       "      <td>2</td>\n",
       "      <td>1</td>\n",
       "      <td>True</td>\n",
       "      <td>True</td>\n",
       "    </tr>\n",
       "    <tr>\n",
       "      <th>4</th>\n",
       "      <td>(1+i)^2+\\frac{1+i}{1-i}</td>\n",
       "      <td>(i + 1)**2 + (i + 1)/(-i + 1)</td>\n",
       "      <td>3 i</td>\n",
       "      <td>Calcula:</td>\n",
       "      <td>1BC</td>\n",
       "      <td>24 - Complejos</td>\n",
       "      <td>p045e01</td>\n",
       "      <td>1</td>\n",
       "      <td>2</td>\n",
       "      <td>1</td>\n",
       "      <td>True</td>\n",
       "      <td>True</td>\n",
       "    </tr>\n",
       "  </tbody>\n",
       "</table>\n",
       "</div>"
      ],
      "text/plain": [
       "                                     enunciado_latex  \\\n",
       "0                            (7-2i)^2 + (3+4i)(5-2i)   \n",
       "1                           (2+i)^2(3-2i) + (5-i)i^2   \n",
       "2  (\\sqrt{3}  - 2i)^2 + (2\\sqrt{3}  -  5i)({1  - ...   \n",
       "3        (i^7-1)(i^{16} + i^3-i^9)^5 + (1-2i)^5(1+i)   \n",
       "4                            (1+i)^2+\\frac{1+i}{1-i}   \n",
       "\n",
       "                                           enunciado  \\\n",
       "0               (-2*i + 5)*(4*i + 3) + (-2*i + 7)**2   \n",
       "1              i**2*(-i + 5) + (-2*i + 3)*(i + 2)**2   \n",
       "2  (-5*i + 2*sqrt(3))*(-2*i + 1) + (-2*i + sqrt(3...   \n",
       "3  (-2*i + 1)**5*(i + 1) + (i**7 - 1)*(-i**9 + i*...   \n",
       "4                      (i + 1)**2 + (i + 1)/(-i + 1)   \n",
       "\n",
       "                                            solucion     texto curso  \\\n",
       "0                                          68 - 14 i  Calcula:   1BC   \n",
       "1                                           12 + 7 i  Calcula:   1BC   \n",
       "2  -11 + 2 \\sqrt{3} + i \\left(- 8 \\sqrt{3} - 5\\ri...  Calcula:   1BC   \n",
       "3                                                  0  Calcula:   1BC   \n",
       "4                                                3 i  Calcula:   1BC   \n",
       "\n",
       "           titulo n_ejercicio  dificultad  n_columnas  puntos  enun_tex  \\\n",
       "0  24 - Complejos     p045e01           1           2       1      True   \n",
       "1  24 - Complejos     p045e01           1           2       1      True   \n",
       "2  24 - Complejos     p045e01           1           2       1      True   \n",
       "3  24 - Complejos     p045e01           1           2       1      True   \n",
       "4  24 - Complejos     p045e01           1           2       1      True   \n",
       "\n",
       "   sol_tex  \n",
       "0     True  \n",
       "1     True  \n",
       "2     True  \n",
       "3     True  \n",
       "4     True  "
      ]
     },
     "metadata": {},
     "output_type": "display_data"
    }
   ],
   "source": [
    "escribir_preambulo(fichero, titulo, 'ejercicios')\n",
    "for s in df_ejercicios.groupby('n_ejercicio').count().index : \n",
    "    display(md(\"**Ejercicio: **\" + s ))\n",
    "    display(df_ejercicios[df_ejercicios.n_ejercicio == s])\n",
    "    escribir_ejercicios(df_ejercicios[df_ejercicios.n_ejercicio == s],fichero)\n",
    "\n",
    "escribir_fin(fichero)"
   ]
  }
 ],
 "metadata": {
  "kernelspec": {
   "display_name": "Python 3",
   "language": "python",
   "name": "python3"
  },
  "language_info": {
   "codemirror_mode": {
    "name": "ipython",
    "version": 3
   },
   "file_extension": ".py",
   "mimetype": "text/x-python",
   "name": "python",
   "nbconvert_exporter": "python",
   "pygments_lexer": "ipython3",
   "version": "3.6.5"
  }
 },
 "nbformat": 4,
 "nbformat_minor": 2
}
