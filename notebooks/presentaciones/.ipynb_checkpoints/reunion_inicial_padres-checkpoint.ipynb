{
 "cells": [
  {
   "cell_type": "markdown",
   "metadata": {
    "slideshow": {
     "slide_type": "slide"
    }
   },
   "source": [
    "# Reunión de inicio de Curso 2018-2019\n",
    "\n",
    "## 1º Bachillerato CIE"
   ]
  },
  {
   "cell_type": "markdown",
   "metadata": {
    "slideshow": {
     "slide_type": "slide"
    }
   },
   "source": [
    "## Introducción\n",
    "\n",
    "* Saludo y presentación\n",
    "\n",
    "    - **Carlos Rodríguez Jaso** (email: rodriguezjasoc@iespedrocerrada.org)\n",
    "* Objetivo de la sesión"
   ]
  },
  {
   "cell_type": "markdown",
   "metadata": {
    "slideshow": {
     "slide_type": "slide"
    }
   },
   "source": [
    "## Información general del curso\n",
    "\n",
    "* Equipo educativo y horario de atención a padres\n",
    "* \n",
    "\n",
    "\n",
    "\n"
   ]
  },
  {
   "cell_type": "markdown",
   "metadata": {
    "slideshow": {
     "slide_type": "subslide"
    }
   },
   "source": [
    "### Equipo educativo y horario de atención a padres\n",
    "\n",
    "| Profesorado                     | Asignatura                          |\n",
    "| ------------------------------- | ----------------------------------- |\n",
    "| SANTIAGO ARAIZ ESCO             | Lengua castellana y literatura I    |\n",
    "| EVA MARIA CEBOLLA ANDRES        | Tecnologías inform y comunicac      |\n",
    "| LINA F. DE LA FUENTE CANO       | Anatomía aplicada                   |\n",
    "| DANIEL GONZALEZ GARCIA          | Primera Lengua Extranjera I Inglés  |\n",
    "| NURIA GRASA ADIEGO              | Biología y Geología                 |\n",
    "| RUBEN MUELA EDO                 | Educación para la ciudadanía        |\n",
    "| MARIA ESTER NEVADO PELAEZ       | Religión Católica                   |\n",
    "| M. ELENA ORTEGA PEÑA            | Cultura científica                  |\n",
    "| JOSE LUIS RODRIGUEZ BIENVENIDO  | Filosofía                           |\n",
    "| CARLOS RODRIGUEZ JASO           | Matemáticas I  y tutoría            |\n",
    "| MANUELA INES SANCHO LAHOZ       | Segunda Lengua Extranjera I Francés |\n",
    "| M. ESPERANZA TELLA VICENTE      | Tecnología industrial I             |\n",
    "| YOLANDA TURON MARCO             | Educación física                    |\n",
    "| MANUEL ANTONIO VEAMONTE SERRANO | Física y Química                    |\n",
    "\n",
    "\n",
    "**Horario de atención a padres:** Martes de 11:30 a 12:20 (4º periodo) \n"
   ]
  },
  {
   "cell_type": "markdown",
   "metadata": {
    "slideshow": {
     "slide_type": "subslide"
    }
   },
   "source": [
    "### Características del Bachillerato\n",
    "\n",
    "* Enseñanza no obligatoria\n",
    "* Objetivo la EVAU (\n",
    "* Di"
   ]
  }
 ],
 "metadata": {
  "celltoolbar": "Slideshow",
  "kernelspec": {
   "display_name": "Python 3",
   "language": "python",
   "name": "python3"
  },
  "language_info": {
   "codemirror_mode": {
    "name": "ipython",
    "version": 3
   },
   "file_extension": ".py",
   "mimetype": "text/x-python",
   "name": "python",
   "nbconvert_exporter": "python",
   "pygments_lexer": "ipython3",
   "version": "3.6.5"
  }
 },
 "nbformat": 4,
 "nbformat_minor": 2
}
