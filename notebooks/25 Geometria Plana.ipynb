{
 "cells": [
  {
   "cell_type": "code",
   "execution_count": 1,
   "metadata": {},
   "outputs": [
    {
     "name": "stdout",
     "output_type": "stream",
     "text": [
      "IPython console for SymPy 1.2 (Python 3.6.5-64-bit) (ground types: gmpy)\n",
      "\n",
      "These commands were executed:\n",
      ">>> from __future__ import division\n",
      ">>> from sympy import *\n",
      ">>> x, y, z, t = symbols('x y z t')\n",
      ">>> k, m, n = symbols('k m n', integer=True)\n",
      ">>> f, g, h = symbols('f g h', cls=Function)\n",
      ">>> init_printing()\n",
      "\n",
      "Documentation can be found at http://docs.sympy.org/1.2/\n",
      "\n"
     ]
    }
   ],
   "source": [
    "from sympy import init_session\n",
    "from sympy import div, QQ\n",
    "from sympy.parsing.latex import parse_latex\n",
    "from sympy.parsing.sympy_parser import parse_expr\n",
    "from IPython.display import Markdown as md\n",
    "from IPython.display import display\n",
    "import numpy as np\n",
    "import pandas as pd\n",
    "    \n",
    "from sympy.geometry import Point, Line, Triangle\n",
    "from sympy.vector import CoordSys3D, vector\n",
    "\n",
    "\n",
    "init_session()\n",
    "\n",
    "a, b, c, d = symbols('a b c d', real = True)\n",
    "from docparts import añadir_ejercicios, doc_ejer, escribir_preambulo, escribir_ejercicios, escribir_fin\n",
    "\n",
    "df_ejercicios = pd.DataFrame()\n",
    "\n",
    "fichero = 'geopla'\n",
    "titulo = '25 - Geometría Plana'\n",
    "curso = '1BC'\n",
    "\n",
    "\n",
    "x,y = symbols('x, y', real=True)\n"
   ]
  },
  {
   "cell_type": "code",
   "execution_count": 2,
   "metadata": {},
   "outputs": [
    {
     "data": {
      "image/png": "[encoded data removed]",
      "text/latex": [
       "$$2 x^{2} + 4 x$$"
      ],
      "text/plain": [
       "   2      \n",
       "2⋅x  + 4⋅x"
      ]
     },
     "execution_count": 2,
     "metadata": {},
     "output_type": "execute_result"
    }
   ],
   "source": [
    "exp=(2*x**2+4*x)\n",
    "e=Eq(exp,0)\n",
    "exp"
   ]
  },
  {
   "cell_type": "code",
   "execution_count": 3,
   "metadata": {},
   "outputs": [],
   "source": [
    "def Linea(expr) :\n",
    "    eq = eval(str(parse_latex(expr)))\n",
    "    p1 = Point(0,nsimplify(solve(Eq(eq.args[0].subs(x,0),eq.args[1].subs(x,0)),y)[0]))\n",
    "    p2 = Point(1,nsimplify(solve(Eq(eq.args[0].subs(x,1),eq.args[1].subs(x,1)),y)[0]))\n",
    "    \n",
    "    return Line(p1,p2)\n",
    "    #return [p1,p2]"
   ]
  },
  {
   "cell_type": "code",
   "execution_count": 4,
   "metadata": {},
   "outputs": [
    {
     "data": {
      "image/png": "[encoded data removed]",
      "text/latex": [
       "$$\\left ( \\mathbf{\\hat{i}_{N}}, \\quad \\mathbf{\\hat{j}_{N}}, \\quad \\mathbf{\\hat{k}_{N}}\\right )$$"
      ],
      "text/plain": [
       "(N_i, N_j, N_k)"
      ]
     },
     "metadata": {},
     "output_type": "display_data"
    },
    {
     "data": {
      "image/png": "[encoded data removed]",
      "text/latex": [
       "$$\\mathbf{\\hat{i}_{N}} + (2)\\mathbf{\\hat{j}_{N}}$$"
      ],
      "text/plain": [
       "N.i + 2*N.j"
      ]
     },
     "execution_count": 4,
     "metadata": {},
     "output_type": "execute_result"
    }
   ],
   "source": [
    "N = CoordSys3D('N') #instanciamos un sistema de coordenadas en R3\n",
    "\n",
    "i, j, k = N.base_vectors()\n",
    "\n",
    "display(N.base_vectors())\n",
    "v = [1,2,0]\n",
    "base = [i,j,k]\n",
    "u=(np.array(v)*np.array(base)).sum()\n",
    "type(u)\n",
    "u.components\n",
    "u\n"
   ]
  },
  {
   "cell_type": "code",
   "execution_count": 5,
   "metadata": {},
   "outputs": [
    {
     "name": "stdout",
     "output_type": "stream",
     "text": [
      "\\mathbf{\\hat{i}_{N}} + (2)\\mathbf{\\hat{j}_{N}}\n"
     ]
    },
    {
     "data": {
      "image/png": "[encoded data removed]",
      "text/latex": [
       "$$\\mathbf{\\hat{i}_{N}} + (2)\\mathbf{\\hat{j}_{N}}$$"
      ],
      "text/plain": [
       "N.i + 2*N.j"
      ]
     },
     "execution_count": 5,
     "metadata": {},
     "output_type": "execute_result"
    }
   ],
   "source": [
    "w=i+2*j\n",
    "print(latex(w))\n",
    "w"
   ]
  },
  {
   "cell_type": "code",
   "execution_count": 6,
   "metadata": {},
   "outputs": [],
   "source": [
    "N = CoordSys3D('N') #instanciamos un sistema de coordenadas en R3\n",
    "\n",
    "i, j, k = N.base_vectors()\n"
   ]
  },
  {
   "cell_type": "code",
   "execution_count": 7,
   "metadata": {},
   "outputs": [
    {
     "data": {
      "text/markdown": [
       "**Hallar las ecuaciones paramétricas, continua, general y explícita de la recta r \n",
       "determinada por:**"
      ],
      "text/plain": [
       "<IPython.core.display.Markdown object>"
      ]
     },
     "metadata": {},
     "output_type": "display_data"
    },
    {
     "data": {
      "text/plain": [
       "['- 5 x + 2 y - 11 = 0 y Point2D(2*t - 1, 5*t + 3) = \\\\left ( x, \\\\quad y\\\\right )']"
      ]
     },
     "metadata": {},
     "output_type": "display_data"
    }
   ],
   "source": [
    "# Página 50 ejercicio 1\n",
    "\n",
    "texto_ejercicio = r\"\"\"Hallar las ecuaciones paramétricas, continua, general y explícita de la recta r \n",
    "determinada por:\"\"\"\n",
    "\n",
    "n_ejercicio = 'p050e01'\n",
    "\n",
    "display(md(\"**\"+texto_ejercicio+\"**\"))\n",
    "\n",
    "# vectores iniciales correspondientes al texto del enunciado\n",
    "\n",
    "pre_enunciado_latex = [[(-1,3),(2,5)],]\n",
    "\n",
    "enunciado_latex, enunciado, solucion = [],[],[]\n",
    "\n",
    "for i, s in enumerate(pre_enunciado_latex) : \n",
    "    enunciado_latex.append(r\"A{} \\ y \\overrightarrow\".format(s[0])+\"{u}=\"+r\"{}\".format(s[1]))\n",
    "    enunciado = str(s)\n",
    "    sol1, sol2 =Line(Point(s[0]),Point(s[0])+Point(s[1])).equation(), Line(Point(s[0]),Point(s[0])+Point(s[1])).arbitrary_point()\n",
    "    solucion.append(latex(Eq(sol1,0)) + \" y \" + latex(Eq(sol2,(x,y))))\n",
    "    display(solucion)\n",
    "\n",
    "df_ejercicios = df_ejercicios.append(añadir_ejercicios(enunciado_latex, enunciado, solucion, texto_ejercicio, curso, titulo , n_ejercicio, '1', '2', enun_tex=True), ignore_index=True)\n"
   ]
  },
  {
   "cell_type": "code",
   "execution_count": 8,
   "metadata": {},
   "outputs": [
    {
     "data": {
      "text/markdown": [
       "**Halla un vector direccional y un vector perpendicular a la recta:**"
      ],
      "text/plain": [
       "<IPython.core.display.Markdown object>"
      ]
     },
     "metadata": {},
     "output_type": "display_data"
    },
    {
     "data": {
      "text/markdown": [
       "$3x+2y+8=0 \\rightarrow \\left ( Point2D(1, -3/2), \\quad Point2D(3/2, 1)\\right )$"
      ],
      "text/plain": [
       "<IPython.core.display.Markdown object>"
      ]
     },
     "metadata": {},
     "output_type": "display_data"
    },
    {
     "data": {
      "text/markdown": [
       "$\\frac{x-1}{3}=\\frac{2-y}{1} \\rightarrow \\left ( Point2D(1, -1/3), \\quad Point2D(1/3, 1)\\right )$"
      ],
      "text/plain": [
       "<IPython.core.display.Markdown object>"
      ]
     },
     "metadata": {},
     "output_type": "display_data"
    },
    {
     "data": {
      "text/markdown": [
       "$y=5 \\rightarrow \\left ( Point2D(1, 0), \\quad Point2D(0, 1)\\right )$"
      ],
      "text/plain": [
       "<IPython.core.display.Markdown object>"
      ]
     },
     "metadata": {},
     "output_type": "display_data"
    }
   ],
   "source": [
    "# Página 50 ejercicio 2\n",
    "\n",
    "texto_ejercicio = r\"\"\"Halla un vector direccional y un vector perpendicular a la recta:\"\"\"\n",
    "\n",
    "n_ejercicio = 'p050e02'\n",
    "\n",
    "display(md(\"**\"+texto_ejercicio+\"**\"))\n",
    "\n",
    "# vectores iniciales correspondientes al texto del enunciado\n",
    "\n",
    "enunciado_latex = [\n",
    "                    r'3x+2y+8=0',\n",
    "                    r'\\frac{x-1}{3}=\\frac{2-y}{1}',\n",
    "                       r'y=5'\n",
    "                      ]\n",
    "\n",
    "enunciado, solucion = [],[]\n",
    "\n",
    "for i, s in enumerate(enunciado_latex) : \n",
    "    enunciado = str(parse_latex(s))\n",
    "    so=Linea(s).direction\n",
    "    solucion.append((so,so.orthogonal_direction))\n",
    "    display(md(\"$\"+ s +\" \\\\rightarrow \" + latex(solucion[i]) +\"$\"))\n",
    "\n",
    "df_ejercicios = df_ejercicios.append(añadir_ejercicios(enunciado_latex, enunciado, solucion, texto_ejercicio, curso, titulo , n_ejercicio, '1', '2', enun_tex=True), ignore_index=True)\n"
   ]
  },
  {
   "cell_type": "code",
   "execution_count": 9,
   "metadata": {},
   "outputs": [
    {
     "data": {
      "text/markdown": [
       "**Comprobar que es isósceles el triángulo de vértices:**"
      ],
      "text/plain": [
       "<IPython.core.display.Markdown object>"
      ]
     },
     "metadata": {},
     "output_type": "display_data"
    },
    {
     "data": {
      "text/markdown": [
       "$A=(2, 1), \\ B=(1, 2),\\  y \\ C=(3, 3) \\rightarrow \\mathrm{True}$"
      ],
      "text/plain": [
       "<IPython.core.display.Markdown object>"
      ]
     },
     "metadata": {},
     "output_type": "display_data"
    }
   ],
   "source": [
    "# Página 50 ejercicio 4\n",
    "\n",
    "texto_ejercicio = r\"\"\"Comprobar que es isósceles el triángulo de vértices:\"\"\"\n",
    "\n",
    "n_ejercicio = 'p050e04'\n",
    "\n",
    "display(md(\"**\"+texto_ejercicio+\"**\"))\n",
    "\n",
    "# vectores iniciales correspondientes al texto del enunciado\n",
    "\n",
    "pre_enunciado_latex = [\n",
    "                    [(2,1),(1,2),(3,3)],\n",
    "                      ]\n",
    "\n",
    "enunciado_latex, enunciado, solucion = [],[],[]\n",
    "\n",
    "for i, s in enumerate(pre_enunciado_latex) : \n",
    "    enunciado_latex.append(\"A=\"+str(s[0])+\", \\ B=\"+str(s[1])+\",\\  y \\ C=\"+str(s[2])+\"\")\n",
    "    enunciado = str(s)\n",
    "    pa, pb, pc = [Point(k) for k in s]\n",
    "    tr = Triangle(pa,pb,pc)\n",
    "    solucion.append(tr.is_isosceles())\n",
    "    display(md(\"$\"+ enunciado_latex[i] +\" \\\\rightarrow \" + latex(solucion[i]) +\"$\"))\n",
    "\n",
    "df_ejercicios = df_ejercicios.append(añadir_ejercicios(enunciado_latex, enunciado, solucion, texto_ejercicio, curso, titulo , n_ejercicio, '1', '2', enun_tex=True), ignore_index=True)\n"
   ]
  },
  {
   "cell_type": "code",
   "execution_count": 10,
   "metadata": {},
   "outputs": [
    {
     "data": {
      "text/markdown": [
       "**Determinar m con la condición de que disten 1 unidad los siguiente puntos**"
      ],
      "text/plain": [
       "<IPython.core.display.Markdown object>"
      ]
     },
     "metadata": {},
     "output_type": "display_data"
    },
    {
     "data": {
      "text/markdown": [
       "$A=(0, m)\\  y \\ B=(1, 2) \\rightarrow \\left [ 2\\right ]$"
      ],
      "text/plain": [
       "<IPython.core.display.Markdown object>"
      ]
     },
     "metadata": {},
     "output_type": "display_data"
    }
   ],
   "source": [
    "# Página 50 ejercicio 5\n",
    "\n",
    "texto_ejercicio = r\"\"\"Determinar m con la condición de que disten 1 unidad los siguiente puntos\"\"\"\n",
    "\n",
    "n_ejercicio = 'p050e05'\n",
    "\n",
    "display(md(\"**\"+texto_ejercicio+\"**\"))\n",
    "\n",
    "# vectores iniciales correspondientes al texto del enunciado\n",
    "\n",
    "pre_enunciado_latex = [\n",
    "                    [(0,m),(1,2)],\n",
    "                      ]\n",
    "\n",
    "enunciado_latex, enunciado, solucion = [],[],[]\n",
    "\n",
    "for i, s in enumerate(pre_enunciado_latex) : \n",
    "    enunciado_latex.append(\"A=\"+str(s[0])+\"\\  y \\ B=\"+str(s[1])+\"\")\n",
    "    enunciado = str(s)\n",
    "    pa, pb = [Point(k) for k in s]\n",
    "    solucion.append(solve(Eq(pa.distance(pb),1),m))\n",
    "    display(md(\"$\"+ enunciado_latex[i] +\" \\\\rightarrow \" + latex(solucion[i]) +\"$\"))\n",
    "\n",
    "df_ejercicios = df_ejercicios.append(añadir_ejercicios(enunciado_latex, enunciado, solucion, texto_ejercicio, curso, titulo , n_ejercicio, '1', '2', enun_tex=True), ignore_index=True)\n"
   ]
  },
  {
   "cell_type": "code",
   "execution_count": 11,
   "metadata": {},
   "outputs": [
    {
     "data": {
      "text/markdown": [
       "**Determinar el ángulo formado por las rectas:**"
      ],
      "text/plain": [
       "<IPython.core.display.Markdown object>"
      ]
     },
     "metadata": {},
     "output_type": "display_data"
    },
    {
     "data": {
      "text/markdown": [
       "$r\\equiv4x-y-1=0\\  y \\ s\\equiv2x+7y-6=0 \\rightarrow 91.90915243299638$"
      ],
      "text/plain": [
       "<IPython.core.display.Markdown object>"
      ]
     },
     "metadata": {},
     "output_type": "display_data"
    },
    {
     "data": {
      "text/markdown": [
       "$r\\equiv-x+2y+1=0\\  y \\ s\\equiv3x+y+5=0 \\rightarrow 98.13010235415598$"
      ],
      "text/plain": [
       "<IPython.core.display.Markdown object>"
      ]
     },
     "metadata": {},
     "output_type": "display_data"
    }
   ],
   "source": [
    "# Página 50 ejercicio 6\n",
    "\n",
    "texto_ejercicio = r\"\"\"Determinar el ángulo formado por las rectas:\"\"\"\n",
    "\n",
    "n_ejercicio = 'p050e05'\n",
    "\n",
    "display(md(\"**\"+texto_ejercicio+\"**\"))\n",
    "\n",
    "# vectores iniciales correspondientes al texto del enunciado\n",
    "\n",
    "pre_enunciado_latex = [\n",
    "                    [r'4x-y-1=0',r'2x+7y-6=0'],\n",
    "                    [r'-x+2y+1=0',r'3x+y+5=0'],\n",
    "                      ]\n",
    "\n",
    "enunciado_latex, enunciado, solucion = [],[],[]\n",
    "\n",
    "for i, s in enumerate(pre_enunciado_latex) : \n",
    "    enunciado_latex.append(\"r\\equiv\"+str(s[0])+\"\\  y \\ s\\equiv\"+str(s[1])+\"\")\n",
    "    enunciado = str(s)\n",
    "\n",
    "    solucion.append(float(deg(Linea(s[0]).angle_between(Linea(s[1])))))\n",
    "    display(md(\"$\"+ enunciado_latex[i] +\" \\\\rightarrow \" + latex(solucion[i]) +\"$\"))\n",
    "\n",
    "df_ejercicios = df_ejercicios.append(añadir_ejercicios(enunciado_latex, enunciado, solucion, texto_ejercicio, curso, titulo , n_ejercicio, '1', '2', enun_tex=True), ignore_index=True)\n"
   ]
  },
  {
   "cell_type": "code",
   "execution_count": 12,
   "metadata": {},
   "outputs": [
    {
     "data": {
      "text/markdown": [
       "**Hallar la recta r que:**"
      ],
      "text/plain": [
       "<IPython.core.display.Markdown object>"
      ]
     },
     "metadata": {},
     "output_type": "display_data"
    },
    {
     "data": {
      "text/markdown": [
       "$Pasa \\ por \\ A(1, -2)\\  y \\ forma \\ 120 º \\  con \\ s\\equiv y=0 \\rightarrow \\frac{\\sqrt{3} x}{2} + \\frac{y}{2} - \\frac{\\sqrt{3}}{2} + 1 = 0$"
      ],
      "text/plain": [
       "<IPython.core.display.Markdown object>"
      ]
     },
     "metadata": {},
     "output_type": "display_data"
    },
    {
     "data": {
      "text/markdown": [
       "$Pasa \\ por \\ A(2, 3)\\  y \\ forma \\ 45 º \\  con \\ s\\equiv 2x+y-1=0 \\rightarrow \\frac{\\sqrt{2} \\left(- x - 3 y + 11\\right)}{2} = 0$"
      ],
      "text/plain": [
       "<IPython.core.display.Markdown object>"
      ]
     },
     "metadata": {},
     "output_type": "display_data"
    }
   ],
   "source": [
    "# Página 50 ejercicio 7 y 8\n",
    "\n",
    "texto_ejercicio = r\"\"\"Hallar la recta r que:\"\"\"\n",
    "\n",
    "n_ejercicio = 'p050e07y8'\n",
    "\n",
    "display(md(\"**\"+texto_ejercicio+\"**\"))\n",
    " \n",
    "# vectores iniciales correspondientes al texto del enunciado\n",
    "\n",
    "pre_enunciado_latex = [\n",
    "                    [(1,-2),r'y=0', 120],\n",
    "                    [(2,3),r'2x+y-1=0', 45],\n",
    "                    \n",
    "                      ]\n",
    "\n",
    "enunciado_latex, enunciado, solucion = [],[],[]\n",
    "\n",
    "for i, s in enumerate(pre_enunciado_latex) : \n",
    "    enunciado_latex.append(\"Pasa \\ por \\ A\"+str(s[0])+\"\\  y \\ forma \\ \" +str(s[2])+ \" º \\  con \\ s\\equiv \"+str(s[1]))\n",
    "    enunciado = str(s)\n",
    "    Point(s[0])\n",
    "    A, B =Linea(s[1]).coefficients[:2]\n",
    "    solucion.append(latex(Eq(simplify(Line(Point(s[0]),Point(s[0])+Point(-B,A).rotate(rad(s[2]))).equation()),0)))\n",
    "    display(md(\"$\"+ enunciado_latex[i] +\" \\\\rightarrow \" + solucion[i] +\"$\"))\n",
    "\n",
    "df_ejercicios = df_ejercicios.append(añadir_ejercicios(enunciado_latex, enunciado, solucion, texto_ejercicio, curso, titulo , n_ejercicio, '1', '2', enun_tex=True), ignore_index=True)\n"
   ]
  },
  {
   "cell_type": "code",
   "execution_count": 13,
   "metadata": {},
   "outputs": [
    {
     "data": {
      "image/png": "[encoded data removed]",
      "image/svg+xml": [
       "<svg xmlns=\"http://www.w3.org/2000/svg\"\n",
       "            xmlns:xlink=\"http://www.w3.org/1999/xlink\"\n",
       "            width=\"100.0\" height=\"100.0\" viewBox=\"-0.150000000000000 -5.65000000000000 1.30000000000000 1.80000000000000\"\n",
       "            preserveAspectRatio=\"xMinYMin meet\">\n",
       "            <defs>\n",
       "                <marker id=\"markerCircle\" markerWidth=\"8\" markerHeight=\"8\"\n",
       "                    refx=\"5\" refy=\"5\" markerUnits=\"strokeWidth\">\n",
       "                    <circle cx=\"5\" cy=\"5\" r=\"1.5\" style=\"stroke: none; fill:#000000;\"/>\n",
       "                </marker>\n",
       "                <marker id=\"markerArrow\" markerWidth=\"13\" markerHeight=\"13\" refx=\"2\" refy=\"4\"\n",
       "                       orient=\"auto\" markerUnits=\"strokeWidth\">\n",
       "                    <path d=\"M2,2 L2,6 L6,4\" style=\"fill: #000000;\" />\n",
       "                </marker>\n",
       "                <marker id=\"markerReverseArrow\" markerWidth=\"13\" markerHeight=\"13\" refx=\"6\" refy=\"4\"\n",
       "                       orient=\"auto\" markerUnits=\"strokeWidth\">\n",
       "                    <path d=\"M6,2 L6,6 L2,4\" style=\"fill: #000000;\" />\n",
       "                </marker>\n",
       "            </defs><g transform=\"matrix(1,0,0,-1,0,-9.50000000000000)\"><path fill-rule=\"evenodd\" fill=\"#66cc99\" stroke=\"#555555\" stroke-width=\"0.0360000000000000\" opacity=\"0.6\" d=\"M 0,-4.00000000000000 L 1.00000000000000,-5.50000000000000\" marker-start=\"url(#markerReverseArrow)\" marker-end=\"url(#markerArrow)\"/></g></svg>"
      ],
      "text/latex": [
       "$$Line2D(Point2D(0, -4), Point2D(1, -11/2))$$"
      ],
      "text/plain": [
       "Line2D(Point2D(0, -4), Point2D(1, -11/2))"
      ]
     },
     "execution_count": 13,
     "metadata": {},
     "output_type": "execute_result"
    }
   ],
   "source": [
    "Linea(r'3x+2y+8=0')"
   ]
  },
  {
   "cell_type": "code",
   "execution_count": 14,
   "metadata": {},
   "outputs": [
    {
     "data": {
      "image/png": "[encoded data removed]",
      "text/plain": [
       "<Figure size 432x288 with 1 Axes>"
      ]
     },
     "metadata": {},
     "output_type": "display_data"
    },
    {
     "data": {
      "image/png": "[encoded data removed]",
      "text/latex": [
       "$$Point2D(3/2, 1)$$"
      ],
      "text/plain": [
       "Point2D(3/2, 1)"
      ]
     },
     "execution_count": 14,
     "metadata": {},
     "output_type": "execute_result"
    }
   ],
   "source": [
    "%matplotlib inline\n",
    "plot_implicit(Linea(r'\\frac{\\sqrt{3} x}{2} + \\frac{y}{2} - \\frac{\\sqrt{3}}{2} + 1 = 0').equation())\n",
    "Linea(r'3x+2y+8=0').direction.orthogonal_direction"
   ]
  },
  {
   "cell_type": "code",
   "execution_count": 15,
   "metadata": {},
   "outputs": [
    {
     "data": {
      "image/png": "[encoded data removed]",
      "text/plain": [
       "<Figure size 432x288 with 1 Axes>"
      ]
     },
     "metadata": {},
     "output_type": "display_data"
    },
    {
     "data": {
      "image/png": "[encoded data removed]",
      "text/latex": [
       "$$Point2D(1, 0)$$"
      ],
      "text/plain": [
       "Point2D(1, 0)"
      ]
     },
     "execution_count": 15,
     "metadata": {},
     "output_type": "execute_result"
    }
   ],
   "source": [
    "#expr = r'3x+2y+8=0'\n",
    "expr = r'y=5'\n",
    "%matplotlib inline\n",
    "plot_implicit(Linea(expr).equation())\n",
    "Linea(expr).direction"
   ]
  },
  {
   "cell_type": "code",
   "execution_count": 16,
   "metadata": {},
   "outputs": [],
   "source": [
    "df_ejercicios.to_csv('ejercicios25.csv', index = False)"
   ]
  },
  {
   "cell_type": "code",
   "execution_count": 17,
   "metadata": {},
   "outputs": [],
   "source": [
    "df_ejercicios = pd.read_csv('ejercicios25.csv', index_col= None)"
   ]
  },
  {
   "cell_type": "code",
   "execution_count": 18,
   "metadata": {},
   "outputs": [
    {
     "data": {
      "text/html": [
       "<div>\n",
       "<style scoped>\n",
       "    .dataframe tbody tr th:only-of-type {\n",
       "        vertical-align: middle;\n",
       "    }\n",
       "\n",
       "    .dataframe tbody tr th {\n",
       "        vertical-align: top;\n",
       "    }\n",
       "\n",
       "    .dataframe thead th {\n",
       "        text-align: right;\n",
       "    }\n",
       "</style>\n",
       "<table border=\"1\" class=\"dataframe\">\n",
       "  <thead>\n",
       "    <tr style=\"text-align: right;\">\n",
       "      <th></th>\n",
       "      <th>enunciado_latex</th>\n",
       "      <th>enunciado</th>\n",
       "      <th>solucion</th>\n",
       "      <th>texto</th>\n",
       "      <th>curso</th>\n",
       "      <th>titulo</th>\n",
       "      <th>n_ejercicio</th>\n",
       "      <th>dificultad</th>\n",
       "      <th>n_columnas</th>\n",
       "      <th>puntos</th>\n",
       "      <th>enun_tex</th>\n",
       "      <th>sol_tex</th>\n",
       "    </tr>\n",
       "  </thead>\n",
       "  <tbody>\n",
       "    <tr>\n",
       "      <th>0</th>\n",
       "      <td>A(-1, 3) \\ y \\overrightarrow{u}=(2, 5)</td>\n",
       "      <td>[(-1, 3), (2, 5)]</td>\n",
       "      <td>- 5 x + 2 y - 11 = 0 y Point2D(2*t - 1, 5*t + ...</td>\n",
       "      <td>Hallar las ecuaciones paramétricas, continua, ...</td>\n",
       "      <td>1BC</td>\n",
       "      <td>25 - Geometría Plana</td>\n",
       "      <td>p050e01</td>\n",
       "      <td>1</td>\n",
       "      <td>2</td>\n",
       "      <td>1</td>\n",
       "      <td>True</td>\n",
       "      <td>True</td>\n",
       "    </tr>\n",
       "    <tr>\n",
       "      <th>1</th>\n",
       "      <td>3x+2y+8=0</td>\n",
       "      <td>Eq(y, 5)</td>\n",
       "      <td>(Point2D(1, -3/2), Point2D(3/2, 1))</td>\n",
       "      <td>Halla un vector direccional y un vector perpen...</td>\n",
       "      <td>1BC</td>\n",
       "      <td>25 - Geometría Plana</td>\n",
       "      <td>p050e02</td>\n",
       "      <td>1</td>\n",
       "      <td>2</td>\n",
       "      <td>1</td>\n",
       "      <td>True</td>\n",
       "      <td>True</td>\n",
       "    </tr>\n",
       "    <tr>\n",
       "      <th>2</th>\n",
       "      <td>\\frac{x-1}{3}=\\frac{2-y}{1}</td>\n",
       "      <td>Eq(y, 5)</td>\n",
       "      <td>(Point2D(1, -1/3), Point2D(1/3, 1))</td>\n",
       "      <td>Halla un vector direccional y un vector perpen...</td>\n",
       "      <td>1BC</td>\n",
       "      <td>25 - Geometría Plana</td>\n",
       "      <td>p050e02</td>\n",
       "      <td>1</td>\n",
       "      <td>2</td>\n",
       "      <td>1</td>\n",
       "      <td>True</td>\n",
       "      <td>True</td>\n",
       "    </tr>\n",
       "    <tr>\n",
       "      <th>3</th>\n",
       "      <td>y=5</td>\n",
       "      <td>Eq(y, 5)</td>\n",
       "      <td>(Point2D(1, 0), Point2D(0, 1))</td>\n",
       "      <td>Halla un vector direccional y un vector perpen...</td>\n",
       "      <td>1BC</td>\n",
       "      <td>25 - Geometría Plana</td>\n",
       "      <td>p050e02</td>\n",
       "      <td>1</td>\n",
       "      <td>2</td>\n",
       "      <td>1</td>\n",
       "      <td>True</td>\n",
       "      <td>True</td>\n",
       "    </tr>\n",
       "    <tr>\n",
       "      <th>4</th>\n",
       "      <td>A=(2, 1), \\ B=(1, 2),\\  y \\ C=(3, 3)</td>\n",
       "      <td>[(2, 1), (1, 2), (3, 3)]</td>\n",
       "      <td>True</td>\n",
       "      <td>Comprobar que es isósceles el triángulo de vér...</td>\n",
       "      <td>1BC</td>\n",
       "      <td>25 - Geometría Plana</td>\n",
       "      <td>p050e04</td>\n",
       "      <td>1</td>\n",
       "      <td>2</td>\n",
       "      <td>1</td>\n",
       "      <td>True</td>\n",
       "      <td>True</td>\n",
       "    </tr>\n",
       "    <tr>\n",
       "      <th>5</th>\n",
       "      <td>A=(0, m)\\  y \\ B=(1, 2)</td>\n",
       "      <td>[(0, m), (1, 2)]</td>\n",
       "      <td>[2]</td>\n",
       "      <td>Determinar m con la condición de que disten 1 ...</td>\n",
       "      <td>1BC</td>\n",
       "      <td>25 - Geometría Plana</td>\n",
       "      <td>p050e05</td>\n",
       "      <td>1</td>\n",
       "      <td>2</td>\n",
       "      <td>1</td>\n",
       "      <td>True</td>\n",
       "      <td>True</td>\n",
       "    </tr>\n",
       "    <tr>\n",
       "      <th>6</th>\n",
       "      <td>r\\equiv4x-y-1=0\\  y \\ s\\equiv2x+7y-6=0</td>\n",
       "      <td>['-x+2y+1=0', '3x+y+5=0']</td>\n",
       "      <td>91.90915243299638</td>\n",
       "      <td>Determinar el ángulo formado por las rectas:</td>\n",
       "      <td>1BC</td>\n",
       "      <td>25 - Geometría Plana</td>\n",
       "      <td>p050e05</td>\n",
       "      <td>1</td>\n",
       "      <td>2</td>\n",
       "      <td>1</td>\n",
       "      <td>True</td>\n",
       "      <td>True</td>\n",
       "    </tr>\n",
       "    <tr>\n",
       "      <th>7</th>\n",
       "      <td>r\\equiv-x+2y+1=0\\  y \\ s\\equiv3x+y+5=0</td>\n",
       "      <td>['-x+2y+1=0', '3x+y+5=0']</td>\n",
       "      <td>98.13010235415598</td>\n",
       "      <td>Determinar el ángulo formado por las rectas:</td>\n",
       "      <td>1BC</td>\n",
       "      <td>25 - Geometría Plana</td>\n",
       "      <td>p050e05</td>\n",
       "      <td>1</td>\n",
       "      <td>2</td>\n",
       "      <td>1</td>\n",
       "      <td>True</td>\n",
       "      <td>True</td>\n",
       "    </tr>\n",
       "    <tr>\n",
       "      <th>8</th>\n",
       "      <td>Pasa \\ por \\ A(1, -2)\\  y \\ forma \\ 120 º \\  c...</td>\n",
       "      <td>[(2, 3), '2x+y-1=0', 45]</td>\n",
       "      <td>\\frac{\\sqrt{3} x}{2} + \\frac{y}{2} - \\frac{\\sq...</td>\n",
       "      <td>Hallar la recta r que:</td>\n",
       "      <td>1BC</td>\n",
       "      <td>25 - Geometría Plana</td>\n",
       "      <td>p050e07y8</td>\n",
       "      <td>1</td>\n",
       "      <td>2</td>\n",
       "      <td>1</td>\n",
       "      <td>True</td>\n",
       "      <td>True</td>\n",
       "    </tr>\n",
       "    <tr>\n",
       "      <th>9</th>\n",
       "      <td>Pasa \\ por \\ A(2, 3)\\  y \\ forma \\ 45 º \\  con...</td>\n",
       "      <td>[(2, 3), '2x+y-1=0', 45]</td>\n",
       "      <td>\\frac{\\sqrt{2} \\left(- x - 3 y + 11\\right)}{2}...</td>\n",
       "      <td>Hallar la recta r que:</td>\n",
       "      <td>1BC</td>\n",
       "      <td>25 - Geometría Plana</td>\n",
       "      <td>p050e07y8</td>\n",
       "      <td>1</td>\n",
       "      <td>2</td>\n",
       "      <td>1</td>\n",
       "      <td>True</td>\n",
       "      <td>True</td>\n",
       "    </tr>\n",
       "  </tbody>\n",
       "</table>\n",
       "</div>"
      ],
      "text/plain": [
       "                                     enunciado_latex  \\\n",
       "0             A(-1, 3) \\ y \\overrightarrow{u}=(2, 5)   \n",
       "1                                          3x+2y+8=0   \n",
       "2                        \\frac{x-1}{3}=\\frac{2-y}{1}   \n",
       "3                                                y=5   \n",
       "4               A=(2, 1), \\ B=(1, 2),\\  y \\ C=(3, 3)   \n",
       "5                            A=(0, m)\\  y \\ B=(1, 2)   \n",
       "6             r\\equiv4x-y-1=0\\  y \\ s\\equiv2x+7y-6=0   \n",
       "7             r\\equiv-x+2y+1=0\\  y \\ s\\equiv3x+y+5=0   \n",
       "8  Pasa \\ por \\ A(1, -2)\\  y \\ forma \\ 120 º \\  c...   \n",
       "9  Pasa \\ por \\ A(2, 3)\\  y \\ forma \\ 45 º \\  con...   \n",
       "\n",
       "                   enunciado  \\\n",
       "0          [(-1, 3), (2, 5)]   \n",
       "1                   Eq(y, 5)   \n",
       "2                   Eq(y, 5)   \n",
       "3                   Eq(y, 5)   \n",
       "4   [(2, 1), (1, 2), (3, 3)]   \n",
       "5           [(0, m), (1, 2)]   \n",
       "6  ['-x+2y+1=0', '3x+y+5=0']   \n",
       "7  ['-x+2y+1=0', '3x+y+5=0']   \n",
       "8   [(2, 3), '2x+y-1=0', 45]   \n",
       "9   [(2, 3), '2x+y-1=0', 45]   \n",
       "\n",
       "                                            solucion  \\\n",
       "0  - 5 x + 2 y - 11 = 0 y Point2D(2*t - 1, 5*t + ...   \n",
       "1                (Point2D(1, -3/2), Point2D(3/2, 1))   \n",
       "2                (Point2D(1, -1/3), Point2D(1/3, 1))   \n",
       "3                     (Point2D(1, 0), Point2D(0, 1))   \n",
       "4                                               True   \n",
       "5                                                [2]   \n",
       "6                                  91.90915243299638   \n",
       "7                                  98.13010235415598   \n",
       "8  \\frac{\\sqrt{3} x}{2} + \\frac{y}{2} - \\frac{\\sq...   \n",
       "9  \\frac{\\sqrt{2} \\left(- x - 3 y + 11\\right)}{2}...   \n",
       "\n",
       "                                               texto curso  \\\n",
       "0  Hallar las ecuaciones paramétricas, continua, ...   1BC   \n",
       "1  Halla un vector direccional y un vector perpen...   1BC   \n",
       "2  Halla un vector direccional y un vector perpen...   1BC   \n",
       "3  Halla un vector direccional y un vector perpen...   1BC   \n",
       "4  Comprobar que es isósceles el triángulo de vér...   1BC   \n",
       "5  Determinar m con la condición de que disten 1 ...   1BC   \n",
       "6       Determinar el ángulo formado por las rectas:   1BC   \n",
       "7       Determinar el ángulo formado por las rectas:   1BC   \n",
       "8                             Hallar la recta r que:   1BC   \n",
       "9                             Hallar la recta r que:   1BC   \n",
       "\n",
       "                 titulo n_ejercicio  dificultad  n_columnas  puntos  enun_tex  \\\n",
       "0  25 - Geometría Plana     p050e01           1           2       1      True   \n",
       "1  25 - Geometría Plana     p050e02           1           2       1      True   \n",
       "2  25 - Geometría Plana     p050e02           1           2       1      True   \n",
       "3  25 - Geometría Plana     p050e02           1           2       1      True   \n",
       "4  25 - Geometría Plana     p050e04           1           2       1      True   \n",
       "5  25 - Geometría Plana     p050e05           1           2       1      True   \n",
       "6  25 - Geometría Plana     p050e05           1           2       1      True   \n",
       "7  25 - Geometría Plana     p050e05           1           2       1      True   \n",
       "8  25 - Geometría Plana   p050e07y8           1           2       1      True   \n",
       "9  25 - Geometría Plana   p050e07y8           1           2       1      True   \n",
       "\n",
       "   sol_tex  \n",
       "0     True  \n",
       "1     True  \n",
       "2     True  \n",
       "3     True  \n",
       "4     True  \n",
       "5     True  \n",
       "6     True  \n",
       "7     True  \n",
       "8     True  \n",
       "9     True  "
      ]
     },
     "execution_count": 18,
     "metadata": {},
     "output_type": "execute_result"
    }
   ],
   "source": [
    "df_ejercicios"
   ]
  },
  {
   "cell_type": "code",
   "execution_count": 19,
   "metadata": {},
   "outputs": [
    {
     "data": {
      "text/markdown": [
       "**Ejercicio: **p050e01"
      ],
      "text/plain": [
       "<IPython.core.display.Markdown object>"
      ]
     },
     "metadata": {},
     "output_type": "display_data"
    },
    {
     "data": {
      "text/html": [
       "<div>\n",
       "<style scoped>\n",
       "    .dataframe tbody tr th:only-of-type {\n",
       "        vertical-align: middle;\n",
       "    }\n",
       "\n",
       "    .dataframe tbody tr th {\n",
       "        vertical-align: top;\n",
       "    }\n",
       "\n",
       "    .dataframe thead th {\n",
       "        text-align: right;\n",
       "    }\n",
       "</style>\n",
       "<table border=\"1\" class=\"dataframe\">\n",
       "  <thead>\n",
       "    <tr style=\"text-align: right;\">\n",
       "      <th></th>\n",
       "      <th>enunciado_latex</th>\n",
       "      <th>enunciado</th>\n",
       "      <th>solucion</th>\n",
       "      <th>texto</th>\n",
       "      <th>curso</th>\n",
       "      <th>titulo</th>\n",
       "      <th>n_ejercicio</th>\n",
       "      <th>dificultad</th>\n",
       "      <th>n_columnas</th>\n",
       "      <th>puntos</th>\n",
       "      <th>enun_tex</th>\n",
       "      <th>sol_tex</th>\n",
       "    </tr>\n",
       "  </thead>\n",
       "  <tbody>\n",
       "    <tr>\n",
       "      <th>0</th>\n",
       "      <td>A(-1, 3) \\ y \\overrightarrow{u}=(2, 5)</td>\n",
       "      <td>[(-1, 3), (2, 5)]</td>\n",
       "      <td>- 5 x + 2 y - 11 = 0 y Point2D(2*t - 1, 5*t + ...</td>\n",
       "      <td>Hallar las ecuaciones paramétricas, continua, ...</td>\n",
       "      <td>1BC</td>\n",
       "      <td>25 - Geometría Plana</td>\n",
       "      <td>p050e01</td>\n",
       "      <td>1</td>\n",
       "      <td>2</td>\n",
       "      <td>1</td>\n",
       "      <td>True</td>\n",
       "      <td>True</td>\n",
       "    </tr>\n",
       "  </tbody>\n",
       "</table>\n",
       "</div>"
      ],
      "text/plain": [
       "                          enunciado_latex          enunciado  \\\n",
       "0  A(-1, 3) \\ y \\overrightarrow{u}=(2, 5)  [(-1, 3), (2, 5)]   \n",
       "\n",
       "                                            solucion  \\\n",
       "0  - 5 x + 2 y - 11 = 0 y Point2D(2*t - 1, 5*t + ...   \n",
       "\n",
       "                                               texto curso  \\\n",
       "0  Hallar las ecuaciones paramétricas, continua, ...   1BC   \n",
       "\n",
       "                 titulo n_ejercicio  dificultad  n_columnas  puntos  enun_tex  \\\n",
       "0  25 - Geometría Plana     p050e01           1           2       1      True   \n",
       "\n",
       "   sol_tex  \n",
       "0     True  "
      ]
     },
     "metadata": {},
     "output_type": "display_data"
    },
    {
     "data": {
      "text/markdown": [
       "**Ejercicio: **p050e02"
      ],
      "text/plain": [
       "<IPython.core.display.Markdown object>"
      ]
     },
     "metadata": {},
     "output_type": "display_data"
    },
    {
     "data": {
      "text/html": [
       "<div>\n",
       "<style scoped>\n",
       "    .dataframe tbody tr th:only-of-type {\n",
       "        vertical-align: middle;\n",
       "    }\n",
       "\n",
       "    .dataframe tbody tr th {\n",
       "        vertical-align: top;\n",
       "    }\n",
       "\n",
       "    .dataframe thead th {\n",
       "        text-align: right;\n",
       "    }\n",
       "</style>\n",
       "<table border=\"1\" class=\"dataframe\">\n",
       "  <thead>\n",
       "    <tr style=\"text-align: right;\">\n",
       "      <th></th>\n",
       "      <th>enunciado_latex</th>\n",
       "      <th>enunciado</th>\n",
       "      <th>solucion</th>\n",
       "      <th>texto</th>\n",
       "      <th>curso</th>\n",
       "      <th>titulo</th>\n",
       "      <th>n_ejercicio</th>\n",
       "      <th>dificultad</th>\n",
       "      <th>n_columnas</th>\n",
       "      <th>puntos</th>\n",
       "      <th>enun_tex</th>\n",
       "      <th>sol_tex</th>\n",
       "    </tr>\n",
       "  </thead>\n",
       "  <tbody>\n",
       "    <tr>\n",
       "      <th>1</th>\n",
       "      <td>3x+2y+8=0</td>\n",
       "      <td>Eq(y, 5)</td>\n",
       "      <td>(Point2D(1, -3/2), Point2D(3/2, 1))</td>\n",
       "      <td>Halla un vector direccional y un vector perpen...</td>\n",
       "      <td>1BC</td>\n",
       "      <td>25 - Geometría Plana</td>\n",
       "      <td>p050e02</td>\n",
       "      <td>1</td>\n",
       "      <td>2</td>\n",
       "      <td>1</td>\n",
       "      <td>True</td>\n",
       "      <td>True</td>\n",
       "    </tr>\n",
       "    <tr>\n",
       "      <th>2</th>\n",
       "      <td>\\frac{x-1}{3}=\\frac{2-y}{1}</td>\n",
       "      <td>Eq(y, 5)</td>\n",
       "      <td>(Point2D(1, -1/3), Point2D(1/3, 1))</td>\n",
       "      <td>Halla un vector direccional y un vector perpen...</td>\n",
       "      <td>1BC</td>\n",
       "      <td>25 - Geometría Plana</td>\n",
       "      <td>p050e02</td>\n",
       "      <td>1</td>\n",
       "      <td>2</td>\n",
       "      <td>1</td>\n",
       "      <td>True</td>\n",
       "      <td>True</td>\n",
       "    </tr>\n",
       "    <tr>\n",
       "      <th>3</th>\n",
       "      <td>y=5</td>\n",
       "      <td>Eq(y, 5)</td>\n",
       "      <td>(Point2D(1, 0), Point2D(0, 1))</td>\n",
       "      <td>Halla un vector direccional y un vector perpen...</td>\n",
       "      <td>1BC</td>\n",
       "      <td>25 - Geometría Plana</td>\n",
       "      <td>p050e02</td>\n",
       "      <td>1</td>\n",
       "      <td>2</td>\n",
       "      <td>1</td>\n",
       "      <td>True</td>\n",
       "      <td>True</td>\n",
       "    </tr>\n",
       "  </tbody>\n",
       "</table>\n",
       "</div>"
      ],
      "text/plain": [
       "               enunciado_latex enunciado                             solucion  \\\n",
       "1                    3x+2y+8=0  Eq(y, 5)  (Point2D(1, -3/2), Point2D(3/2, 1))   \n",
       "2  \\frac{x-1}{3}=\\frac{2-y}{1}  Eq(y, 5)  (Point2D(1, -1/3), Point2D(1/3, 1))   \n",
       "3                          y=5  Eq(y, 5)       (Point2D(1, 0), Point2D(0, 1))   \n",
       "\n",
       "                                               texto curso  \\\n",
       "1  Halla un vector direccional y un vector perpen...   1BC   \n",
       "2  Halla un vector direccional y un vector perpen...   1BC   \n",
       "3  Halla un vector direccional y un vector perpen...   1BC   \n",
       "\n",
       "                 titulo n_ejercicio  dificultad  n_columnas  puntos  enun_tex  \\\n",
       "1  25 - Geometría Plana     p050e02           1           2       1      True   \n",
       "2  25 - Geometría Plana     p050e02           1           2       1      True   \n",
       "3  25 - Geometría Plana     p050e02           1           2       1      True   \n",
       "\n",
       "   sol_tex  \n",
       "1     True  \n",
       "2     True  \n",
       "3     True  "
      ]
     },
     "metadata": {},
     "output_type": "display_data"
    },
    {
     "data": {
      "text/markdown": [
       "**Ejercicio: **p050e04"
      ],
      "text/plain": [
       "<IPython.core.display.Markdown object>"
      ]
     },
     "metadata": {},
     "output_type": "display_data"
    },
    {
     "data": {
      "text/html": [
       "<div>\n",
       "<style scoped>\n",
       "    .dataframe tbody tr th:only-of-type {\n",
       "        vertical-align: middle;\n",
       "    }\n",
       "\n",
       "    .dataframe tbody tr th {\n",
       "        vertical-align: top;\n",
       "    }\n",
       "\n",
       "    .dataframe thead th {\n",
       "        text-align: right;\n",
       "    }\n",
       "</style>\n",
       "<table border=\"1\" class=\"dataframe\">\n",
       "  <thead>\n",
       "    <tr style=\"text-align: right;\">\n",
       "      <th></th>\n",
       "      <th>enunciado_latex</th>\n",
       "      <th>enunciado</th>\n",
       "      <th>solucion</th>\n",
       "      <th>texto</th>\n",
       "      <th>curso</th>\n",
       "      <th>titulo</th>\n",
       "      <th>n_ejercicio</th>\n",
       "      <th>dificultad</th>\n",
       "      <th>n_columnas</th>\n",
       "      <th>puntos</th>\n",
       "      <th>enun_tex</th>\n",
       "      <th>sol_tex</th>\n",
       "    </tr>\n",
       "  </thead>\n",
       "  <tbody>\n",
       "    <tr>\n",
       "      <th>4</th>\n",
       "      <td>A=(2, 1), \\ B=(1, 2),\\  y \\ C=(3, 3)</td>\n",
       "      <td>[(2, 1), (1, 2), (3, 3)]</td>\n",
       "      <td>True</td>\n",
       "      <td>Comprobar que es isósceles el triángulo de vér...</td>\n",
       "      <td>1BC</td>\n",
       "      <td>25 - Geometría Plana</td>\n",
       "      <td>p050e04</td>\n",
       "      <td>1</td>\n",
       "      <td>2</td>\n",
       "      <td>1</td>\n",
       "      <td>True</td>\n",
       "      <td>True</td>\n",
       "    </tr>\n",
       "  </tbody>\n",
       "</table>\n",
       "</div>"
      ],
      "text/plain": [
       "                        enunciado_latex                 enunciado solucion  \\\n",
       "4  A=(2, 1), \\ B=(1, 2),\\  y \\ C=(3, 3)  [(2, 1), (1, 2), (3, 3)]     True   \n",
       "\n",
       "                                               texto curso  \\\n",
       "4  Comprobar que es isósceles el triángulo de vér...   1BC   \n",
       "\n",
       "                 titulo n_ejercicio  dificultad  n_columnas  puntos  enun_tex  \\\n",
       "4  25 - Geometría Plana     p050e04           1           2       1      True   \n",
       "\n",
       "   sol_tex  \n",
       "4     True  "
      ]
     },
     "metadata": {},
     "output_type": "display_data"
    },
    {
     "data": {
      "text/markdown": [
       "**Ejercicio: **p050e05"
      ],
      "text/plain": [
       "<IPython.core.display.Markdown object>"
      ]
     },
     "metadata": {},
     "output_type": "display_data"
    },
    {
     "data": {
      "text/html": [
       "<div>\n",
       "<style scoped>\n",
       "    .dataframe tbody tr th:only-of-type {\n",
       "        vertical-align: middle;\n",
       "    }\n",
       "\n",
       "    .dataframe tbody tr th {\n",
       "        vertical-align: top;\n",
       "    }\n",
       "\n",
       "    .dataframe thead th {\n",
       "        text-align: right;\n",
       "    }\n",
       "</style>\n",
       "<table border=\"1\" class=\"dataframe\">\n",
       "  <thead>\n",
       "    <tr style=\"text-align: right;\">\n",
       "      <th></th>\n",
       "      <th>enunciado_latex</th>\n",
       "      <th>enunciado</th>\n",
       "      <th>solucion</th>\n",
       "      <th>texto</th>\n",
       "      <th>curso</th>\n",
       "      <th>titulo</th>\n",
       "      <th>n_ejercicio</th>\n",
       "      <th>dificultad</th>\n",
       "      <th>n_columnas</th>\n",
       "      <th>puntos</th>\n",
       "      <th>enun_tex</th>\n",
       "      <th>sol_tex</th>\n",
       "    </tr>\n",
       "  </thead>\n",
       "  <tbody>\n",
       "    <tr>\n",
       "      <th>5</th>\n",
       "      <td>A=(0, m)\\  y \\ B=(1, 2)</td>\n",
       "      <td>[(0, m), (1, 2)]</td>\n",
       "      <td>[2]</td>\n",
       "      <td>Determinar m con la condición de que disten 1 ...</td>\n",
       "      <td>1BC</td>\n",
       "      <td>25 - Geometría Plana</td>\n",
       "      <td>p050e05</td>\n",
       "      <td>1</td>\n",
       "      <td>2</td>\n",
       "      <td>1</td>\n",
       "      <td>True</td>\n",
       "      <td>True</td>\n",
       "    </tr>\n",
       "    <tr>\n",
       "      <th>6</th>\n",
       "      <td>r\\equiv4x-y-1=0\\  y \\ s\\equiv2x+7y-6=0</td>\n",
       "      <td>['-x+2y+1=0', '3x+y+5=0']</td>\n",
       "      <td>91.90915243299638</td>\n",
       "      <td>Determinar el ángulo formado por las rectas:</td>\n",
       "      <td>1BC</td>\n",
       "      <td>25 - Geometría Plana</td>\n",
       "      <td>p050e05</td>\n",
       "      <td>1</td>\n",
       "      <td>2</td>\n",
       "      <td>1</td>\n",
       "      <td>True</td>\n",
       "      <td>True</td>\n",
       "    </tr>\n",
       "    <tr>\n",
       "      <th>7</th>\n",
       "      <td>r\\equiv-x+2y+1=0\\  y \\ s\\equiv3x+y+5=0</td>\n",
       "      <td>['-x+2y+1=0', '3x+y+5=0']</td>\n",
       "      <td>98.13010235415598</td>\n",
       "      <td>Determinar el ángulo formado por las rectas:</td>\n",
       "      <td>1BC</td>\n",
       "      <td>25 - Geometría Plana</td>\n",
       "      <td>p050e05</td>\n",
       "      <td>1</td>\n",
       "      <td>2</td>\n",
       "      <td>1</td>\n",
       "      <td>True</td>\n",
       "      <td>True</td>\n",
       "    </tr>\n",
       "  </tbody>\n",
       "</table>\n",
       "</div>"
      ],
      "text/plain": [
       "                          enunciado_latex                  enunciado  \\\n",
       "5                 A=(0, m)\\  y \\ B=(1, 2)           [(0, m), (1, 2)]   \n",
       "6  r\\equiv4x-y-1=0\\  y \\ s\\equiv2x+7y-6=0  ['-x+2y+1=0', '3x+y+5=0']   \n",
       "7  r\\equiv-x+2y+1=0\\  y \\ s\\equiv3x+y+5=0  ['-x+2y+1=0', '3x+y+5=0']   \n",
       "\n",
       "            solucion                                              texto curso  \\\n",
       "5                [2]  Determinar m con la condición de que disten 1 ...   1BC   \n",
       "6  91.90915243299638       Determinar el ángulo formado por las rectas:   1BC   \n",
       "7  98.13010235415598       Determinar el ángulo formado por las rectas:   1BC   \n",
       "\n",
       "                 titulo n_ejercicio  dificultad  n_columnas  puntos  enun_tex  \\\n",
       "5  25 - Geometría Plana     p050e05           1           2       1      True   \n",
       "6  25 - Geometría Plana     p050e05           1           2       1      True   \n",
       "7  25 - Geometría Plana     p050e05           1           2       1      True   \n",
       "\n",
       "   sol_tex  \n",
       "5     True  \n",
       "6     True  \n",
       "7     True  "
      ]
     },
     "metadata": {},
     "output_type": "display_data"
    },
    {
     "data": {
      "text/markdown": [
       "**Ejercicio: **p050e07y8"
      ],
      "text/plain": [
       "<IPython.core.display.Markdown object>"
      ]
     },
     "metadata": {},
     "output_type": "display_data"
    },
    {
     "data": {
      "text/html": [
       "<div>\n",
       "<style scoped>\n",
       "    .dataframe tbody tr th:only-of-type {\n",
       "        vertical-align: middle;\n",
       "    }\n",
       "\n",
       "    .dataframe tbody tr th {\n",
       "        vertical-align: top;\n",
       "    }\n",
       "\n",
       "    .dataframe thead th {\n",
       "        text-align: right;\n",
       "    }\n",
       "</style>\n",
       "<table border=\"1\" class=\"dataframe\">\n",
       "  <thead>\n",
       "    <tr style=\"text-align: right;\">\n",
       "      <th></th>\n",
       "      <th>enunciado_latex</th>\n",
       "      <th>enunciado</th>\n",
       "      <th>solucion</th>\n",
       "      <th>texto</th>\n",
       "      <th>curso</th>\n",
       "      <th>titulo</th>\n",
       "      <th>n_ejercicio</th>\n",
       "      <th>dificultad</th>\n",
       "      <th>n_columnas</th>\n",
       "      <th>puntos</th>\n",
       "      <th>enun_tex</th>\n",
       "      <th>sol_tex</th>\n",
       "    </tr>\n",
       "  </thead>\n",
       "  <tbody>\n",
       "    <tr>\n",
       "      <th>8</th>\n",
       "      <td>Pasa \\ por \\ A(1, -2)\\  y \\ forma \\ 120 º \\  c...</td>\n",
       "      <td>[(2, 3), '2x+y-1=0', 45]</td>\n",
       "      <td>\\frac{\\sqrt{3} x}{2} + \\frac{y}{2} - \\frac{\\sq...</td>\n",
       "      <td>Hallar la recta r que:</td>\n",
       "      <td>1BC</td>\n",
       "      <td>25 - Geometría Plana</td>\n",
       "      <td>p050e07y8</td>\n",
       "      <td>1</td>\n",
       "      <td>2</td>\n",
       "      <td>1</td>\n",
       "      <td>True</td>\n",
       "      <td>True</td>\n",
       "    </tr>\n",
       "    <tr>\n",
       "      <th>9</th>\n",
       "      <td>Pasa \\ por \\ A(2, 3)\\  y \\ forma \\ 45 º \\  con...</td>\n",
       "      <td>[(2, 3), '2x+y-1=0', 45]</td>\n",
       "      <td>\\frac{\\sqrt{2} \\left(- x - 3 y + 11\\right)}{2}...</td>\n",
       "      <td>Hallar la recta r que:</td>\n",
       "      <td>1BC</td>\n",
       "      <td>25 - Geometría Plana</td>\n",
       "      <td>p050e07y8</td>\n",
       "      <td>1</td>\n",
       "      <td>2</td>\n",
       "      <td>1</td>\n",
       "      <td>True</td>\n",
       "      <td>True</td>\n",
       "    </tr>\n",
       "  </tbody>\n",
       "</table>\n",
       "</div>"
      ],
      "text/plain": [
       "                                     enunciado_latex  \\\n",
       "8  Pasa \\ por \\ A(1, -2)\\  y \\ forma \\ 120 º \\  c...   \n",
       "9  Pasa \\ por \\ A(2, 3)\\  y \\ forma \\ 45 º \\  con...   \n",
       "\n",
       "                  enunciado  \\\n",
       "8  [(2, 3), '2x+y-1=0', 45]   \n",
       "9  [(2, 3), '2x+y-1=0', 45]   \n",
       "\n",
       "                                            solucion                   texto  \\\n",
       "8  \\frac{\\sqrt{3} x}{2} + \\frac{y}{2} - \\frac{\\sq...  Hallar la recta r que:   \n",
       "9  \\frac{\\sqrt{2} \\left(- x - 3 y + 11\\right)}{2}...  Hallar la recta r que:   \n",
       "\n",
       "  curso                titulo n_ejercicio  dificultad  n_columnas  puntos  \\\n",
       "8   1BC  25 - Geometría Plana   p050e07y8           1           2       1   \n",
       "9   1BC  25 - Geometría Plana   p050e07y8           1           2       1   \n",
       "\n",
       "   enun_tex  sol_tex  \n",
       "8      True     True  \n",
       "9      True     True  "
      ]
     },
     "metadata": {},
     "output_type": "display_data"
    }
   ],
   "source": [
    "escribir_preambulo(fichero, titulo, 'ejercicios')\n",
    "for s in df_ejercicios.groupby('n_ejercicio').count().index : \n",
    "    display(md(\"**Ejercicio: **\" + s ))\n",
    "    display(df_ejercicios[df_ejercicios.n_ejercicio == s])\n",
    "    escribir_ejercicios(df_ejercicios[df_ejercicios.n_ejercicio == s],fichero)\n",
    "\n",
    "escribir_fin(fichero)"
   ]
  }
 ],
 "metadata": {
  "kernelspec": {
   "display_name": "Python 3",
   "language": "python",
   "name": "python3"
  },
  "language_info": {
   "codemirror_mode": {
    "name": "ipython",
    "version": 3
   },
   "file_extension": ".py",
   "mimetype": "text/x-python",
   "name": "python",
   "nbconvert_exporter": "python",
   "pygments_lexer": "ipython3",
   "version": "3.6.5"
  }
 },
 "nbformat": 4,
 "nbformat_minor": 2
}
