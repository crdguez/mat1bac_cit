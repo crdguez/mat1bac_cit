{
 "cells": [
  {
   "cell_type": "code",
   "execution_count": 1,
   "metadata": {},
   "outputs": [
    {
     "name": "stdout",
     "output_type": "stream",
     "text": [
      "IPython console for SymPy 1.2 (Python 3.6.5-64-bit) (ground types: gmpy)\n",
      "\n",
      "These commands were executed:\n",
      ">>> from __future__ import division\n",
      ">>> from sympy import *\n",
      ">>> x, y, z, t = symbols('x y z t')\n",
      ">>> k, m, n = symbols('k m n', integer=True)\n",
      ">>> f, g, h = symbols('f g h', cls=Function)\n",
      ">>> init_printing()\n",
      "\n",
      "Documentation can be found at http://docs.sympy.org/1.2/\n",
      "\n"
     ]
    }
   ],
   "source": [
    "from sympy import init_session\n",
    "from sympy import div, QQ\n",
    "from sympy.parsing.latex import parse_latex\n",
    "from sympy.parsing.sympy_parser import parse_expr\n",
    "from IPython.display import Markdown as md\n",
    "from IPython.display import display\n",
    "import numpy as np\n",
    "import pandas as pd\n",
    "    \n",
    "from sympy.geometry import Point, Line, Triangle\n",
    "from sympy.vector import CoordSys3D, vector\n",
    "\n",
    "\n",
    "init_session()\n",
    "\n",
    "a, b, c, d = symbols('a b c d', real = True)\n",
    "from docparts import añadir_ejercicios, doc_ejer, escribir_preambulo, escribir_ejercicios, escribir_fin\n",
    "\n",
    "df_ejercicios = pd.DataFrame()\n",
    "\n",
    "fichero = 'final2'\n",
    "titulo = 'Final 2ª Ev.'\n",
    "curso = '1BC'\n",
    "\n",
    "\n",
    "x,y = symbols('x, y', real=True)\n"
   ]
  },
  {
   "cell_type": "code",
   "execution_count": 2,
   "metadata": {},
   "outputs": [],
   "source": [
    "def Linea(expr) :\n",
    "    eq = eval(str(parse_latex(expr)))\n",
    "    p1 = Point(0,nsimplify(solve(Eq(eq.args[0].subs(x,0),eq.args[1].subs(x,0)),y)[0]))\n",
    "    p2 = Point(1,nsimplify(solve(Eq(eq.args[0].subs(x,1),eq.args[1].subs(x,1)),y)[0]))\n",
    "    \n",
    "    return Line(p1,p2)\n",
    "    #return [p1,p2]"
   ]
  },
  {
   "cell_type": "code",
   "execution_count": 3,
   "metadata": {},
   "outputs": [],
   "source": [
    "def a_polar(binomico) :\n",
    "    return [abs(binomico), arg(binomico)]"
   ]
  },
  {
   "cell_type": "code",
   "execution_count": 4,
   "metadata": {},
   "outputs": [],
   "source": [
    "def a_binomico(polar) :\n",
    "    return(polar[0]*cos(polar[1])+polar[0]*sin(polar[1])*I)"
   ]
  },
  {
   "cell_type": "code",
   "execution_count": 5,
   "metadata": {},
   "outputs": [
    {
     "data": {
      "text/markdown": [
       "**Justifica si los siguientes pares de vectores forman base de $\\mathbb{R}^2$:**"
      ],
      "text/plain": [
       "<IPython.core.display.Markdown object>"
      ]
     },
     "metadata": {},
     "output_type": "display_data"
    },
    {
     "data": {
      "text/markdown": [
       "$\\overrightarrow{u}=(4, 12) \\, \\ \\overrightarrow{v}=(2, 6)$"
      ],
      "text/plain": [
       "<IPython.core.display.Markdown object>"
      ]
     },
     "metadata": {},
     "output_type": "display_data"
    },
    {
     "data": {
      "image/png": "[encoded data removed]",
      "text/latex": [
       "$$\\mathrm{False}$$"
      ],
      "text/plain": [
       "False"
      ]
     },
     "metadata": {},
     "output_type": "display_data"
    },
    {
     "data": {
      "text/markdown": [
       "$\\overrightarrow{u}=(1, 2) \\, \\ \\overrightarrow{v}=(3, 4)$"
      ],
      "text/plain": [
       "<IPython.core.display.Markdown object>"
      ]
     },
     "metadata": {},
     "output_type": "display_data"
    },
    {
     "data": {
      "image/png": "[encoded data removed]",
      "text/latex": [
       "$$\\mathrm{True}$$"
      ],
      "text/plain": [
       "True"
      ]
     },
     "metadata": {},
     "output_type": "display_data"
    }
   ],
   "source": [
    "texto_ejercicio = r\"\"\"Justifica si los siguientes pares de vectores forman base de $\\mathbb{R}^2$:\"\"\"\n",
    "\n",
    "n_ejercicio = 'ex12e01'\n",
    "\n",
    "display(md(\"**\"+texto_ejercicio+\"**\"))\n",
    "\n",
    "pre_enunciado_latex = [[(4,12),(2,6)],\n",
    "                       [(1,2),(3,4)],\n",
    "                      ]\n",
    "\n",
    "enunciado_latex, enunciado, solucion = [],[],[]\n",
    "\n",
    "for i, s in enumerate(pre_enunciado_latex) :\n",
    "    enunciado_latex.append(r\"\\overrightarrow{u}=\"+str(s[0])+r\" \\, \\ \\overrightarrow{v}=\"+str(s[1]))\n",
    "    display(md(\"$\"+enunciado_latex[i]+\"$\"))\n",
    "    en=\"Point\"+str(s[0])+\".is_collinear(Point\"+str(s[1])+\", Point(0,0))\"\n",
    "    enunciado.append(en)\n",
    "    solucion.append(Not(S(en)))\n",
    "    display(solucion[i])\n",
    "\n",
    "df_ejercicios = df_ejercicios.append(añadir_ejercicios(enunciado_latex, enunciado, solucion, texto_ejercicio, curso, titulo , n_ejercicio, '1', '2', enun_tex=True), ignore_index=True)\n"
   ]
  },
  {
   "cell_type": "code",
   "execution_count": 6,
   "metadata": {},
   "outputs": [
    {
     "data": {
      "text/markdown": [
       "**Determinar el ángulo formado por las rectas:**"
      ],
      "text/plain": [
       "<IPython.core.display.Markdown object>"
      ]
     },
     "metadata": {},
     "output_type": "display_data"
    },
    {
     "data": {
      "text/markdown": [
       "$r\\equiv2x-y-2=0\\  y \\ s\\equiv3x+2y-4=0 \\rightarrow 119.74488129694222$"
      ],
      "text/plain": [
       "<IPython.core.display.Markdown object>"
      ]
     },
     "metadata": {},
     "output_type": "display_data"
    }
   ],
   "source": [
    "# Página 50 ejercicio 6\n",
    "\n",
    "texto_ejercicio = r\"\"\"Determinar el ángulo formado por las rectas:\"\"\"\n",
    "\n",
    "n_ejercicio = 'ex12e02'\n",
    "\n",
    "display(md(\"**\"+texto_ejercicio+\"**\"))\n",
    "\n",
    "# vectores iniciales correspondientes al texto del enunciado\n",
    "\n",
    "pre_enunciado_latex = [\n",
    "                    [r'2x-y-2=0',r'3x+2y-4=0'],\n",
    "                      ]\n",
    "\n",
    "enunciado_latex, enunciado, solucion = [],[],[]\n",
    "\n",
    "for i, s in enumerate(pre_enunciado_latex) : \n",
    "    enunciado_latex.append(\"r\\equiv\"+str(s[0])+\"\\  y \\ s\\equiv\"+str(s[1])+\"\")\n",
    "    enunciado = str(s)\n",
    "\n",
    "    solucion.append(float(deg(Linea(s[0]).angle_between(Linea(s[1])))))\n",
    "    display(md(\"$\"+ enunciado_latex[i] +\" \\\\rightarrow \" + latex(solucion[i]) +\"$\"))\n",
    "\n",
    "df_ejercicios = df_ejercicios.append(añadir_ejercicios(enunciado_latex, enunciado, solucion, texto_ejercicio, curso, titulo , n_ejercicio, '1', '2', enun_tex=True), ignore_index=True)\n"
   ]
  },
  {
   "cell_type": "code",
   "execution_count": 7,
   "metadata": {},
   "outputs": [
    {
     "data": {
      "text/markdown": [
       "**Calcula el vértice C de un triángulo isósceles ABC, sabiendo que:**"
      ],
      "text/plain": [
       "<IPython.core.display.Markdown object>"
      ]
     },
     "metadata": {},
     "output_type": "display_data"
    },
    {
     "data": {
      "text/markdown": [
       "$ A(2, -3)\\  , \\ B=(5, 2) \\ y \\  C \\in r\\equiv -x+3y-16=0 \\rightarrow \\left [ \\left \\{ x : -4, \\quad y : 4\\right \\}\\right ]$"
      ],
      "text/plain": [
       "<IPython.core.display.Markdown object>"
      ]
     },
     "metadata": {},
     "output_type": "display_data"
    }
   ],
   "source": [
    "# Página 51 ejercicio 20\n",
    "\n",
    "texto_ejercicio = r\"\"\"Calcula el vértice C de un triángulo isósceles ABC, sabiendo que:\"\"\"\n",
    "\n",
    "n_ejercicio = 'ex12e03'\n",
    "\n",
    "display(md(\"**\"+texto_ejercicio+\"**\"))\n",
    " \n",
    "# vectores iniciales correspondientes al texto del enunciado\n",
    "\n",
    "pre_enunciado_latex = [\n",
    "\n",
    "                        [(2,-3),(5,2),r'-x+3y-16=0'],  \n",
    "                      ]\n",
    "\n",
    "enunciado_latex, enunciado, solucion = [],[],[]\n",
    "\n",
    "for i, s in enumerate(pre_enunciado_latex) : \n",
    "    enunciado_latex.append(\" A\"+str(s[0])+\"\\  , \\ B=\" +str(s[1])+ \" \\ y \\  C \\in r\\equiv \"+str(s[2]))\n",
    "    enunciado = str(s)\n",
    "    r = Linea(s[2])\n",
    "\n",
    "    P = Point(x,y)\n",
    "\n",
    "    r.distance(Point(s[0]))\n",
    "\n",
    "    sol = solve([P.distance(s[0])-P.distance(s[1]),r.equation()])\n",
    "    solucion.append(latex(sol))\n",
    "    display(md(\"$\"+ enunciado_latex[i] +\" \\\\rightarrow \" + solucion[i] +\"$\"))\n",
    "    \n",
    "    #p1 = plot_implicit(Linea(s[1]).equation(),show=False)\n",
    "    #p2 = plot_implicit(Line(s[0],slope=m).equation(),show=False)\n",
    "    #p1.extend(p2)\n",
    "    #p1.show()\n",
    "\n",
    "df_ejercicios = df_ejercicios.append(añadir_ejercicios(enunciado_latex, enunciado, solucion, texto_ejercicio, curso, titulo , n_ejercicio, '2', '1', enun_tex=True), ignore_index=True)\n"
   ]
  },
  {
   "cell_type": "code",
   "execution_count": 8,
   "metadata": {},
   "outputs": [
    {
     "data": {
      "text/markdown": [
       "**Dado el triángulo ABC, hallar: \\\\ \n",
       "\\begin{itemize} \\item la mediana correspondiente al vértice A \\item la mediatriz correspondiente al lado AB \\item y el área \\end{itemize} Siendo:**"
      ],
      "text/plain": [
       "<IPython.core.display.Markdown object>"
      ]
     },
     "metadata": {},
     "output_type": "display_data"
    },
    {
     "data": {
      "text/markdown": [
       "$A=(2, 1), \\ B=(4, 3),\\  y \\ C=(6, -1) \\rightarrow \\left [ y - 1 = 0, \\quad - 2 x - 2 y + 10 = 0, \\quad \\left [ 3 \\sqrt{2}, \\quad 6\\right ]\\right ]$"
      ],
      "text/plain": [
       "<IPython.core.display.Markdown object>"
      ]
     },
     "metadata": {},
     "output_type": "display_data"
    }
   ],
   "source": [
    "# Página 52 ejercicio 57\n",
    "\n",
    "texto_ejercicio = r\"\"\"Dado el triángulo ABC, hallar: \\\\ \n",
    "\\begin{itemize} \\item la mediana correspondiente al vértice A \\item la mediatriz correspondiente al lado AB \\item y el área \\end{itemize} Siendo:\"\"\"\n",
    "\n",
    "n_ejercicio = 'ex12e04'\n",
    "\n",
    "display(md(\"**\"+texto_ejercicio+\"**\"))\n",
    " \n",
    "# vectores iniciales correspondientes al texto del enunciado\n",
    "\n",
    "pre_enunciado_latex = [\n",
    "                  [(2,1),(4,3),(6,-1)],                                   \n",
    "                      ]\n",
    "\n",
    "enunciado_latex, enunciado, solucion = [],[],[]\n",
    "\n",
    "for i, s in enumerate(pre_enunciado_latex) : \n",
    "    enunciado_latex.append(\"A=\"+str(s[0])+\", \\ B=\"+str(s[1])+\",\\  y \\ C=\"+str(s[2])+\"\")\n",
    "    enunciado = str(s)\n",
    "    A, B, C = [Point(k) for k in s]\n",
    "    T=Triangle(A,B,C)\n",
    "    sol=[Eq(Line(T.medians[A]).equation(),0),\n",
    "        #Eq(factor(Line(T.altitudes[C]).equation()),0),\n",
    "        Eq(Line(A,B).perpendicular_line(A.midpoint(B)).equation(),0),\n",
    "        [Line(A,B).distance(C), abs(T.area) ] \n",
    "        ] \n",
    "    solucion.append(latex(sol))\n",
    "    display(md(\"$\"+ enunciado_latex[i] +\" \\\\rightarrow \" + solucion[i] +\"$\"))\n",
    "    \n",
    "\n",
    "df_ejercicios = df_ejercicios.append(añadir_ejercicios(enunciado_latex, enunciado, solucion, texto_ejercicio, curso, titulo , n_ejercicio, '5', '1', enun_tex=True), ignore_index=True)\n"
   ]
  },
  {
   "cell_type": "code",
   "execution_count": 9,
   "metadata": {},
   "outputs": [
    {
     "data": {
      "text/markdown": [
       "**Resolver las siguientes ecuaciones:**"
      ],
      "text/plain": [
       "<IPython.core.display.Markdown object>"
      ]
     },
     "metadata": {},
     "output_type": "display_data"
    },
    {
     "data": {
      "text/markdown": [
       "$2\\cos^2{x}-\\sqrt{3}\\cos{x}=0 \\rightarrow \\left [ 30, \\quad 90, \\quad 270, \\quad 330\\right ]$"
      ],
      "text/plain": [
       "<IPython.core.display.Markdown object>"
      ]
     },
     "metadata": {},
     "output_type": "display_data"
    },
    {
     "data": {
      "text/markdown": [
       "$\\cos{2x}-3\\cos{x}+1=0 \\rightarrow \\left [ -90, \\quad 90\\right ]$"
      ],
      "text/plain": [
       "<IPython.core.display.Markdown object>"
      ]
     },
     "metadata": {},
     "output_type": "display_data"
    }
   ],
   "source": [
    "# Página 41 ejercicio 28\n",
    "\n",
    "texto_ejercicio = 'Resolver las siguientes ecuaciones:'\n",
    "n_ejercicio = 'ex12e05'\n",
    "\n",
    "display(md(\"**\"+texto_ejercicio+\"**\"))\n",
    "\n",
    "enunciado_latex = [r'2\\cos^2{x}-\\sqrt{3}\\cos{x}=0',\n",
    "                   r'\\cos{2x}-3\\cos{x}+1=0'\n",
    "                  ]\n",
    "                                       \n",
    "\n",
    "\n",
    "\n",
    "\n",
    "enunciado, solucion = [], []\n",
    "\n",
    "for i, s in enumerate(enunciado_latex) :\n",
    "    enunciado.append(parse_latex(s))\n",
    "    #solucion.append(latex(solve(parse_latex(s)))) \n",
    "    solucion.append(latex([deg(nsimplify(i/pi)*pi) for i in solve(eval(str(parse_latex(s))))])) \n",
    "    display(md(\"$\"+ enunciado_latex[i] +\" \\\\rightarrow \" + solucion[i] +\"$\"))\n",
    "\n",
    "df_ejercicios = df_ejercicios.append(añadir_ejercicios(enunciado_latex, enunciado, solucion, texto_ejercicio, curso, titulo , n_ejercicio, '1', '1'), ignore_index=True)\n"
   ]
  },
  {
   "cell_type": "code",
   "execution_count": 10,
   "metadata": {},
   "outputs": [
    {
     "data": {
      "text/markdown": [
       "**Calcula:**"
      ],
      "text/plain": [
       "<IPython.core.display.Markdown object>"
      ]
     },
     "metadata": {},
     "output_type": "display_data"
    },
    {
     "data": {
      "text/markdown": [
       "$\\frac{(1+2i)i^7}{(3-2i)-(2+i)} \\rightarrow \\frac{1}{2} + \\frac{i}{2}$"
      ],
      "text/plain": [
       "<IPython.core.display.Markdown object>"
      ]
     },
     "metadata": {},
     "output_type": "display_data"
    }
   ],
   "source": [
    "# Página 45 ejercicio 1\n",
    "\n",
    "texto_ejercicio = 'Calcula:'\n",
    "n_ejercicio = 'ex12e06'\n",
    "\n",
    "display(md(\"**\"+texto_ejercicio+\"**\"))\n",
    "\n",
    "enunciado_latex = [r'\\frac{(1+2i)i^7}{(3-2i)-(2+i)}',\n",
    "                 \n",
    "                   \n",
    "                  ]\n",
    "                                       \n",
    "\n",
    "\n",
    "\n",
    "\n",
    "enunciado, solucion = [], []\n",
    "\n",
    "for i, s in enumerate(enunciado_latex) :\n",
    "    enunciado.append(parse_latex(s))\n",
    "    solucion.append(latex(nsimplify(eval(str(parse_latex(s)).replace('i','I'))))) \n",
    "    display(md(\"$\"+ enunciado_latex[i] +\" \\\\rightarrow \" + solucion[i] +\"$\"))\n",
    "\n",
    "df_ejercicios = df_ejercicios.append(añadir_ejercicios(enunciado_latex, enunciado, solucion, texto_ejercicio, curso, titulo , n_ejercicio, '2', '2'), ignore_index=True)\n"
   ]
  },
  {
   "cell_type": "code",
   "execution_count": 11,
   "metadata": {},
   "outputs": [
    {
     "data": {
      "text/markdown": [
       "**Escribe los siguientes números complejos en forma polar con el argumento en radianes:**"
      ],
      "text/plain": [
       "<IPython.core.display.Markdown object>"
      ]
     },
     "metadata": {},
     "output_type": "display_data"
    },
    {
     "data": {
      "text/markdown": [
       "$2 - 2\\sqrt {3}i \\rightarrow 4_{- \\frac{\\pi}{3}}$"
      ],
      "text/plain": [
       "<IPython.core.display.Markdown object>"
      ]
     },
     "metadata": {},
     "output_type": "display_data"
    },
    {
     "data": {
      "text/markdown": [
       "$2i \\rightarrow 2_{\\frac{\\pi}{2}}$"
      ],
      "text/plain": [
       "<IPython.core.display.Markdown object>"
      ]
     },
     "metadata": {},
     "output_type": "display_data"
    },
    {
     "data": {
      "text/markdown": [
       "$-4 \\rightarrow 4_{\\pi}$"
      ],
      "text/plain": [
       "<IPython.core.display.Markdown object>"
      ]
     },
     "metadata": {},
     "output_type": "display_data"
    }
   ],
   "source": [
    "# Página 46 ejercicio 31\n",
    "\n",
    "\n",
    "\n",
    "texto_ejercicio = 'Escribe los siguientes números complejos en forma polar con el argumento en radianes:'\n",
    "n_ejercicio = 'ex12e07'\n",
    "\n",
    "display(md(\"**\"+texto_ejercicio+\"**\"))\n",
    "\n",
    "enunciado_latex = [r'2 - 2\\sqrt {3}i',\n",
    "                   r'2i',\n",
    "                   r'-4',\n",
    "                  ]\n",
    "                                       \n",
    "\n",
    "\n",
    "\n",
    "\n",
    "enunciado, solucion = [], []\n",
    "\n",
    "for i, s in enumerate(enunciado_latex) :\n",
    "    enunciado.append(parse_latex(s))\n",
    "    mod, argu = a_polar(eval(str(parse_latex(s).replace('i','I'))))\n",
    "    solucion.append(latex(mod)+\"_{\"+latex(argu)+\"}\") \n",
    "    display(md(\"$\"+ enunciado_latex[i] +\" \\\\rightarrow \" + solucion[i] +\"$\"))\n",
    "\n",
    "df_ejercicios = df_ejercicios.append(añadir_ejercicios(enunciado_latex, enunciado, solucion, texto_ejercicio, curso, titulo , n_ejercicio, '1', '2'), ignore_index=True)\n"
   ]
  },
  {
   "cell_type": "code",
   "execution_count": 12,
   "metadata": {},
   "outputs": [],
   "source": [
    "df_ejercicios.to_csv('ejercicios_final2.csv', index = False)"
   ]
  },
  {
   "cell_type": "code",
   "execution_count": 13,
   "metadata": {},
   "outputs": [],
   "source": [
    "df_ejercicios = pd.read_csv('ejercicios_final2.csv', index_col= None)"
   ]
  },
  {
   "cell_type": "code",
   "execution_count": 14,
   "metadata": {},
   "outputs": [
    {
     "data": {
      "text/html": [
       "<div>\n",
       "<style scoped>\n",
       "    .dataframe tbody tr th:only-of-type {\n",
       "        vertical-align: middle;\n",
       "    }\n",
       "\n",
       "    .dataframe tbody tr th {\n",
       "        vertical-align: top;\n",
       "    }\n",
       "\n",
       "    .dataframe thead th {\n",
       "        text-align: right;\n",
       "    }\n",
       "</style>\n",
       "<table border=\"1\" class=\"dataframe\">\n",
       "  <thead>\n",
       "    <tr style=\"text-align: right;\">\n",
       "      <th></th>\n",
       "      <th>enunciado_latex</th>\n",
       "      <th>enunciado</th>\n",
       "      <th>solucion</th>\n",
       "      <th>texto</th>\n",
       "      <th>curso</th>\n",
       "      <th>titulo</th>\n",
       "      <th>n_ejercicio</th>\n",
       "      <th>dificultad</th>\n",
       "      <th>n_columnas</th>\n",
       "      <th>puntos</th>\n",
       "      <th>enun_tex</th>\n",
       "      <th>sol_tex</th>\n",
       "    </tr>\n",
       "  </thead>\n",
       "  <tbody>\n",
       "    <tr>\n",
       "      <th>0</th>\n",
       "      <td>\\overrightarrow{u}=(4, 12) \\, \\ \\overrightarro...</td>\n",
       "      <td>Point(4, 12).is_collinear(Point(2, 6), Point(0...</td>\n",
       "      <td>False</td>\n",
       "      <td>Justifica si los siguientes pares de vectores ...</td>\n",
       "      <td>1BC</td>\n",
       "      <td>Final 2ª Ev.</td>\n",
       "      <td>ex12e01</td>\n",
       "      <td>1</td>\n",
       "      <td>2</td>\n",
       "      <td>1</td>\n",
       "      <td>True</td>\n",
       "      <td>True</td>\n",
       "    </tr>\n",
       "    <tr>\n",
       "      <th>1</th>\n",
       "      <td>\\overrightarrow{u}=(1, 2) \\, \\ \\overrightarrow...</td>\n",
       "      <td>Point(1, 2).is_collinear(Point(3, 4), Point(0,0))</td>\n",
       "      <td>True</td>\n",
       "      <td>Justifica si los siguientes pares de vectores ...</td>\n",
       "      <td>1BC</td>\n",
       "      <td>Final 2ª Ev.</td>\n",
       "      <td>ex12e01</td>\n",
       "      <td>1</td>\n",
       "      <td>2</td>\n",
       "      <td>1</td>\n",
       "      <td>True</td>\n",
       "      <td>True</td>\n",
       "    </tr>\n",
       "    <tr>\n",
       "      <th>2</th>\n",
       "      <td>r\\equiv2x-y-2=0\\  y \\ s\\equiv3x+2y-4=0</td>\n",
       "      <td>['2x-y-2=0', '3x+2y-4=0']</td>\n",
       "      <td>119.74488129694222</td>\n",
       "      <td>Determinar el ángulo formado por las rectas:</td>\n",
       "      <td>1BC</td>\n",
       "      <td>Final 2ª Ev.</td>\n",
       "      <td>ex12e02</td>\n",
       "      <td>1</td>\n",
       "      <td>2</td>\n",
       "      <td>1</td>\n",
       "      <td>True</td>\n",
       "      <td>True</td>\n",
       "    </tr>\n",
       "    <tr>\n",
       "      <th>3</th>\n",
       "      <td>A(2, -3)\\  , \\ B=(5, 2) \\ y \\  C \\in r\\equiv ...</td>\n",
       "      <td>[(2, -3), (5, 2), '-x+3y-16=0']</td>\n",
       "      <td>\\left [ \\left \\{ x : -4, \\quad y : 4\\right \\}\\...</td>\n",
       "      <td>Calcula el vértice C de un triángulo isósceles...</td>\n",
       "      <td>1BC</td>\n",
       "      <td>Final 2ª Ev.</td>\n",
       "      <td>ex12e03</td>\n",
       "      <td>1</td>\n",
       "      <td>1</td>\n",
       "      <td>1</td>\n",
       "      <td>True</td>\n",
       "      <td>True</td>\n",
       "    </tr>\n",
       "    <tr>\n",
       "      <th>4</th>\n",
       "      <td>A=(2, 1), \\ B=(4, 3),\\  y \\ C=(6, -1)</td>\n",
       "      <td>[(2, 1), (4, 3), (6, -1)]</td>\n",
       "      <td>\\left [ y - 1 = 0, \\quad - 2 x - 2 y + 10 = 0,...</td>\n",
       "      <td>Dado el triángulo ABC, hallar: \\\\ \\n\\begin{ite...</td>\n",
       "      <td>1BC</td>\n",
       "      <td>Final 2ª Ev.</td>\n",
       "      <td>ex12e04</td>\n",
       "      <td>5</td>\n",
       "      <td>1</td>\n",
       "      <td>1</td>\n",
       "      <td>True</td>\n",
       "      <td>True</td>\n",
       "    </tr>\n",
       "    <tr>\n",
       "      <th>5</th>\n",
       "      <td>2\\cos^2{x}-\\sqrt{3}\\cos{x}=0</td>\n",
       "      <td>Eq(2*cos(x)**2 - sqrt(3)*cos(x), 0)</td>\n",
       "      <td>\\left [ 30, \\quad 90, \\quad 270, \\quad 330\\rig...</td>\n",
       "      <td>Resolver las siguientes ecuaciones:</td>\n",
       "      <td>1BC</td>\n",
       "      <td>Final 2ª Ev.</td>\n",
       "      <td>ex12e05</td>\n",
       "      <td>1</td>\n",
       "      <td>1</td>\n",
       "      <td>1</td>\n",
       "      <td>True</td>\n",
       "      <td>True</td>\n",
       "    </tr>\n",
       "    <tr>\n",
       "      <th>6</th>\n",
       "      <td>\\cos{2x}-3\\cos{x}+1=0</td>\n",
       "      <td>Eq(-3*cos(x) + cos(2*x) + 1, 0)</td>\n",
       "      <td>\\left [ -90, \\quad 90\\right ]</td>\n",
       "      <td>Resolver las siguientes ecuaciones:</td>\n",
       "      <td>1BC</td>\n",
       "      <td>Final 2ª Ev.</td>\n",
       "      <td>ex12e05</td>\n",
       "      <td>1</td>\n",
       "      <td>1</td>\n",
       "      <td>1</td>\n",
       "      <td>True</td>\n",
       "      <td>True</td>\n",
       "    </tr>\n",
       "    <tr>\n",
       "      <th>7</th>\n",
       "      <td>\\frac{(1+2i)i^7}{(3-2i)-(2+i)}</td>\n",
       "      <td>(i**7*(2*i + 1))/(-2*i + 3 - i - 2)</td>\n",
       "      <td>\\frac{1}{2} + \\frac{i}{2}</td>\n",
       "      <td>Calcula:</td>\n",
       "      <td>1BC</td>\n",
       "      <td>Final 2ª Ev.</td>\n",
       "      <td>ex12e06</td>\n",
       "      <td>2</td>\n",
       "      <td>2</td>\n",
       "      <td>1</td>\n",
       "      <td>True</td>\n",
       "      <td>True</td>\n",
       "    </tr>\n",
       "    <tr>\n",
       "      <th>8</th>\n",
       "      <td>2 - 2\\sqrt {3}i</td>\n",
       "      <td>-2*sqrt(3)*i + 2</td>\n",
       "      <td>4_{- \\frac{\\pi}{3}}</td>\n",
       "      <td>Escribe los siguientes números complejos en fo...</td>\n",
       "      <td>1BC</td>\n",
       "      <td>Final 2ª Ev.</td>\n",
       "      <td>ex12e07</td>\n",
       "      <td>1</td>\n",
       "      <td>2</td>\n",
       "      <td>1</td>\n",
       "      <td>True</td>\n",
       "      <td>True</td>\n",
       "    </tr>\n",
       "    <tr>\n",
       "      <th>9</th>\n",
       "      <td>2i</td>\n",
       "      <td>2*i</td>\n",
       "      <td>2_{\\frac{\\pi}{2}}</td>\n",
       "      <td>Escribe los siguientes números complejos en fo...</td>\n",
       "      <td>1BC</td>\n",
       "      <td>Final 2ª Ev.</td>\n",
       "      <td>ex12e07</td>\n",
       "      <td>1</td>\n",
       "      <td>2</td>\n",
       "      <td>1</td>\n",
       "      <td>True</td>\n",
       "      <td>True</td>\n",
       "    </tr>\n",
       "    <tr>\n",
       "      <th>10</th>\n",
       "      <td>-4</td>\n",
       "      <td>-4</td>\n",
       "      <td>4_{\\pi}</td>\n",
       "      <td>Escribe los siguientes números complejos en fo...</td>\n",
       "      <td>1BC</td>\n",
       "      <td>Final 2ª Ev.</td>\n",
       "      <td>ex12e07</td>\n",
       "      <td>1</td>\n",
       "      <td>2</td>\n",
       "      <td>1</td>\n",
       "      <td>True</td>\n",
       "      <td>True</td>\n",
       "    </tr>\n",
       "  </tbody>\n",
       "</table>\n",
       "</div>"
      ],
      "text/plain": [
       "                                      enunciado_latex  \\\n",
       "0   \\overrightarrow{u}=(4, 12) \\, \\ \\overrightarro...   \n",
       "1   \\overrightarrow{u}=(1, 2) \\, \\ \\overrightarrow...   \n",
       "2              r\\equiv2x-y-2=0\\  y \\ s\\equiv3x+2y-4=0   \n",
       "3    A(2, -3)\\  , \\ B=(5, 2) \\ y \\  C \\in r\\equiv ...   \n",
       "4               A=(2, 1), \\ B=(4, 3),\\  y \\ C=(6, -1)   \n",
       "5                        2\\cos^2{x}-\\sqrt{3}\\cos{x}=0   \n",
       "6                               \\cos{2x}-3\\cos{x}+1=0   \n",
       "7                      \\frac{(1+2i)i^7}{(3-2i)-(2+i)}   \n",
       "8                                     2 - 2\\sqrt {3}i   \n",
       "9                                                  2i   \n",
       "10                                                 -4   \n",
       "\n",
       "                                            enunciado  \\\n",
       "0   Point(4, 12).is_collinear(Point(2, 6), Point(0...   \n",
       "1   Point(1, 2).is_collinear(Point(3, 4), Point(0,0))   \n",
       "2                           ['2x-y-2=0', '3x+2y-4=0']   \n",
       "3                     [(2, -3), (5, 2), '-x+3y-16=0']   \n",
       "4                           [(2, 1), (4, 3), (6, -1)]   \n",
       "5                 Eq(2*cos(x)**2 - sqrt(3)*cos(x), 0)   \n",
       "6                     Eq(-3*cos(x) + cos(2*x) + 1, 0)   \n",
       "7                 (i**7*(2*i + 1))/(-2*i + 3 - i - 2)   \n",
       "8                                    -2*sqrt(3)*i + 2   \n",
       "9                                                 2*i   \n",
       "10                                                 -4   \n",
       "\n",
       "                                             solucion  \\\n",
       "0                                               False   \n",
       "1                                                True   \n",
       "2                                  119.74488129694222   \n",
       "3   \\left [ \\left \\{ x : -4, \\quad y : 4\\right \\}\\...   \n",
       "4   \\left [ y - 1 = 0, \\quad - 2 x - 2 y + 10 = 0,...   \n",
       "5   \\left [ 30, \\quad 90, \\quad 270, \\quad 330\\rig...   \n",
       "6                       \\left [ -90, \\quad 90\\right ]   \n",
       "7                           \\frac{1}{2} + \\frac{i}{2}   \n",
       "8                                 4_{- \\frac{\\pi}{3}}   \n",
       "9                                   2_{\\frac{\\pi}{2}}   \n",
       "10                                            4_{\\pi}   \n",
       "\n",
       "                                                texto curso        titulo  \\\n",
       "0   Justifica si los siguientes pares de vectores ...   1BC  Final 2ª Ev.   \n",
       "1   Justifica si los siguientes pares de vectores ...   1BC  Final 2ª Ev.   \n",
       "2        Determinar el ángulo formado por las rectas:   1BC  Final 2ª Ev.   \n",
       "3   Calcula el vértice C de un triángulo isósceles...   1BC  Final 2ª Ev.   \n",
       "4   Dado el triángulo ABC, hallar: \\\\ \\n\\begin{ite...   1BC  Final 2ª Ev.   \n",
       "5                 Resolver las siguientes ecuaciones:   1BC  Final 2ª Ev.   \n",
       "6                 Resolver las siguientes ecuaciones:   1BC  Final 2ª Ev.   \n",
       "7                                            Calcula:   1BC  Final 2ª Ev.   \n",
       "8   Escribe los siguientes números complejos en fo...   1BC  Final 2ª Ev.   \n",
       "9   Escribe los siguientes números complejos en fo...   1BC  Final 2ª Ev.   \n",
       "10  Escribe los siguientes números complejos en fo...   1BC  Final 2ª Ev.   \n",
       "\n",
       "   n_ejercicio  dificultad  n_columnas  puntos  enun_tex  sol_tex  \n",
       "0      ex12e01           1           2       1      True     True  \n",
       "1      ex12e01           1           2       1      True     True  \n",
       "2      ex12e02           1           2       1      True     True  \n",
       "3      ex12e03           1           1       1      True     True  \n",
       "4      ex12e04           5           1       1      True     True  \n",
       "5      ex12e05           1           1       1      True     True  \n",
       "6      ex12e05           1           1       1      True     True  \n",
       "7      ex12e06           2           2       1      True     True  \n",
       "8      ex12e07           1           2       1      True     True  \n",
       "9      ex12e07           1           2       1      True     True  \n",
       "10     ex12e07           1           2       1      True     True  "
      ]
     },
     "execution_count": 14,
     "metadata": {},
     "output_type": "execute_result"
    }
   ],
   "source": [
    "df_ejercicios"
   ]
  },
  {
   "cell_type": "code",
   "execution_count": 15,
   "metadata": {},
   "outputs": [
    {
     "data": {
      "text/markdown": [
       "**Ejercicio: **ex12e01"
      ],
      "text/plain": [
       "<IPython.core.display.Markdown object>"
      ]
     },
     "metadata": {},
     "output_type": "display_data"
    },
    {
     "data": {
      "text/html": [
       "<div>\n",
       "<style scoped>\n",
       "    .dataframe tbody tr th:only-of-type {\n",
       "        vertical-align: middle;\n",
       "    }\n",
       "\n",
       "    .dataframe tbody tr th {\n",
       "        vertical-align: top;\n",
       "    }\n",
       "\n",
       "    .dataframe thead th {\n",
       "        text-align: right;\n",
       "    }\n",
       "</style>\n",
       "<table border=\"1\" class=\"dataframe\">\n",
       "  <thead>\n",
       "    <tr style=\"text-align: right;\">\n",
       "      <th></th>\n",
       "      <th>enunciado_latex</th>\n",
       "      <th>enunciado</th>\n",
       "      <th>solucion</th>\n",
       "      <th>texto</th>\n",
       "      <th>curso</th>\n",
       "      <th>titulo</th>\n",
       "      <th>n_ejercicio</th>\n",
       "      <th>dificultad</th>\n",
       "      <th>n_columnas</th>\n",
       "      <th>puntos</th>\n",
       "      <th>enun_tex</th>\n",
       "      <th>sol_tex</th>\n",
       "    </tr>\n",
       "  </thead>\n",
       "  <tbody>\n",
       "    <tr>\n",
       "      <th>0</th>\n",
       "      <td>\\overrightarrow{u}=(4, 12) \\, \\ \\overrightarro...</td>\n",
       "      <td>Point(4, 12).is_collinear(Point(2, 6), Point(0...</td>\n",
       "      <td>False</td>\n",
       "      <td>Justifica si los siguientes pares de vectores ...</td>\n",
       "      <td>1BC</td>\n",
       "      <td>Final 2ª Ev.</td>\n",
       "      <td>ex12e01</td>\n",
       "      <td>1</td>\n",
       "      <td>2</td>\n",
       "      <td>1</td>\n",
       "      <td>True</td>\n",
       "      <td>True</td>\n",
       "    </tr>\n",
       "    <tr>\n",
       "      <th>1</th>\n",
       "      <td>\\overrightarrow{u}=(1, 2) \\, \\ \\overrightarrow...</td>\n",
       "      <td>Point(1, 2).is_collinear(Point(3, 4), Point(0,0))</td>\n",
       "      <td>True</td>\n",
       "      <td>Justifica si los siguientes pares de vectores ...</td>\n",
       "      <td>1BC</td>\n",
       "      <td>Final 2ª Ev.</td>\n",
       "      <td>ex12e01</td>\n",
       "      <td>1</td>\n",
       "      <td>2</td>\n",
       "      <td>1</td>\n",
       "      <td>True</td>\n",
       "      <td>True</td>\n",
       "    </tr>\n",
       "  </tbody>\n",
       "</table>\n",
       "</div>"
      ],
      "text/plain": [
       "                                     enunciado_latex  \\\n",
       "0  \\overrightarrow{u}=(4, 12) \\, \\ \\overrightarro...   \n",
       "1  \\overrightarrow{u}=(1, 2) \\, \\ \\overrightarrow...   \n",
       "\n",
       "                                           enunciado solucion  \\\n",
       "0  Point(4, 12).is_collinear(Point(2, 6), Point(0...    False   \n",
       "1  Point(1, 2).is_collinear(Point(3, 4), Point(0,0))     True   \n",
       "\n",
       "                                               texto curso        titulo  \\\n",
       "0  Justifica si los siguientes pares de vectores ...   1BC  Final 2ª Ev.   \n",
       "1  Justifica si los siguientes pares de vectores ...   1BC  Final 2ª Ev.   \n",
       "\n",
       "  n_ejercicio  dificultad  n_columnas  puntos  enun_tex  sol_tex  \n",
       "0     ex12e01           1           2       1      True     True  \n",
       "1     ex12e01           1           2       1      True     True  "
      ]
     },
     "metadata": {},
     "output_type": "display_data"
    },
    {
     "data": {
      "text/markdown": [
       "**Ejercicio: **ex12e02"
      ],
      "text/plain": [
       "<IPython.core.display.Markdown object>"
      ]
     },
     "metadata": {},
     "output_type": "display_data"
    },
    {
     "data": {
      "text/html": [
       "<div>\n",
       "<style scoped>\n",
       "    .dataframe tbody tr th:only-of-type {\n",
       "        vertical-align: middle;\n",
       "    }\n",
       "\n",
       "    .dataframe tbody tr th {\n",
       "        vertical-align: top;\n",
       "    }\n",
       "\n",
       "    .dataframe thead th {\n",
       "        text-align: right;\n",
       "    }\n",
       "</style>\n",
       "<table border=\"1\" class=\"dataframe\">\n",
       "  <thead>\n",
       "    <tr style=\"text-align: right;\">\n",
       "      <th></th>\n",
       "      <th>enunciado_latex</th>\n",
       "      <th>enunciado</th>\n",
       "      <th>solucion</th>\n",
       "      <th>texto</th>\n",
       "      <th>curso</th>\n",
       "      <th>titulo</th>\n",
       "      <th>n_ejercicio</th>\n",
       "      <th>dificultad</th>\n",
       "      <th>n_columnas</th>\n",
       "      <th>puntos</th>\n",
       "      <th>enun_tex</th>\n",
       "      <th>sol_tex</th>\n",
       "    </tr>\n",
       "  </thead>\n",
       "  <tbody>\n",
       "    <tr>\n",
       "      <th>2</th>\n",
       "      <td>r\\equiv2x-y-2=0\\  y \\ s\\equiv3x+2y-4=0</td>\n",
       "      <td>['2x-y-2=0', '3x+2y-4=0']</td>\n",
       "      <td>119.74488129694222</td>\n",
       "      <td>Determinar el ángulo formado por las rectas:</td>\n",
       "      <td>1BC</td>\n",
       "      <td>Final 2ª Ev.</td>\n",
       "      <td>ex12e02</td>\n",
       "      <td>1</td>\n",
       "      <td>2</td>\n",
       "      <td>1</td>\n",
       "      <td>True</td>\n",
       "      <td>True</td>\n",
       "    </tr>\n",
       "  </tbody>\n",
       "</table>\n",
       "</div>"
      ],
      "text/plain": [
       "                          enunciado_latex                  enunciado  \\\n",
       "2  r\\equiv2x-y-2=0\\  y \\ s\\equiv3x+2y-4=0  ['2x-y-2=0', '3x+2y-4=0']   \n",
       "\n",
       "             solucion                                         texto curso  \\\n",
       "2  119.74488129694222  Determinar el ángulo formado por las rectas:   1BC   \n",
       "\n",
       "         titulo n_ejercicio  dificultad  n_columnas  puntos  enun_tex  sol_tex  \n",
       "2  Final 2ª Ev.     ex12e02           1           2       1      True     True  "
      ]
     },
     "metadata": {},
     "output_type": "display_data"
    },
    {
     "data": {
      "text/markdown": [
       "**Ejercicio: **ex12e03"
      ],
      "text/plain": [
       "<IPython.core.display.Markdown object>"
      ]
     },
     "metadata": {},
     "output_type": "display_data"
    },
    {
     "data": {
      "text/html": [
       "<div>\n",
       "<style scoped>\n",
       "    .dataframe tbody tr th:only-of-type {\n",
       "        vertical-align: middle;\n",
       "    }\n",
       "\n",
       "    .dataframe tbody tr th {\n",
       "        vertical-align: top;\n",
       "    }\n",
       "\n",
       "    .dataframe thead th {\n",
       "        text-align: right;\n",
       "    }\n",
       "</style>\n",
       "<table border=\"1\" class=\"dataframe\">\n",
       "  <thead>\n",
       "    <tr style=\"text-align: right;\">\n",
       "      <th></th>\n",
       "      <th>enunciado_latex</th>\n",
       "      <th>enunciado</th>\n",
       "      <th>solucion</th>\n",
       "      <th>texto</th>\n",
       "      <th>curso</th>\n",
       "      <th>titulo</th>\n",
       "      <th>n_ejercicio</th>\n",
       "      <th>dificultad</th>\n",
       "      <th>n_columnas</th>\n",
       "      <th>puntos</th>\n",
       "      <th>enun_tex</th>\n",
       "      <th>sol_tex</th>\n",
       "    </tr>\n",
       "  </thead>\n",
       "  <tbody>\n",
       "    <tr>\n",
       "      <th>3</th>\n",
       "      <td>A(2, -3)\\  , \\ B=(5, 2) \\ y \\  C \\in r\\equiv ...</td>\n",
       "      <td>[(2, -3), (5, 2), '-x+3y-16=0']</td>\n",
       "      <td>\\left [ \\left \\{ x : -4, \\quad y : 4\\right \\}\\...</td>\n",
       "      <td>Calcula el vértice C de un triángulo isósceles...</td>\n",
       "      <td>1BC</td>\n",
       "      <td>Final 2ª Ev.</td>\n",
       "      <td>ex12e03</td>\n",
       "      <td>1</td>\n",
       "      <td>1</td>\n",
       "      <td>1</td>\n",
       "      <td>True</td>\n",
       "      <td>True</td>\n",
       "    </tr>\n",
       "  </tbody>\n",
       "</table>\n",
       "</div>"
      ],
      "text/plain": [
       "                                     enunciado_latex  \\\n",
       "3   A(2, -3)\\  , \\ B=(5, 2) \\ y \\  C \\in r\\equiv ...   \n",
       "\n",
       "                         enunciado  \\\n",
       "3  [(2, -3), (5, 2), '-x+3y-16=0']   \n",
       "\n",
       "                                            solucion  \\\n",
       "3  \\left [ \\left \\{ x : -4, \\quad y : 4\\right \\}\\...   \n",
       "\n",
       "                                               texto curso        titulo  \\\n",
       "3  Calcula el vértice C de un triángulo isósceles...   1BC  Final 2ª Ev.   \n",
       "\n",
       "  n_ejercicio  dificultad  n_columnas  puntos  enun_tex  sol_tex  \n",
       "3     ex12e03           1           1       1      True     True  "
      ]
     },
     "metadata": {},
     "output_type": "display_data"
    },
    {
     "data": {
      "text/markdown": [
       "**Ejercicio: **ex12e04"
      ],
      "text/plain": [
       "<IPython.core.display.Markdown object>"
      ]
     },
     "metadata": {},
     "output_type": "display_data"
    },
    {
     "data": {
      "text/html": [
       "<div>\n",
       "<style scoped>\n",
       "    .dataframe tbody tr th:only-of-type {\n",
       "        vertical-align: middle;\n",
       "    }\n",
       "\n",
       "    .dataframe tbody tr th {\n",
       "        vertical-align: top;\n",
       "    }\n",
       "\n",
       "    .dataframe thead th {\n",
       "        text-align: right;\n",
       "    }\n",
       "</style>\n",
       "<table border=\"1\" class=\"dataframe\">\n",
       "  <thead>\n",
       "    <tr style=\"text-align: right;\">\n",
       "      <th></th>\n",
       "      <th>enunciado_latex</th>\n",
       "      <th>enunciado</th>\n",
       "      <th>solucion</th>\n",
       "      <th>texto</th>\n",
       "      <th>curso</th>\n",
       "      <th>titulo</th>\n",
       "      <th>n_ejercicio</th>\n",
       "      <th>dificultad</th>\n",
       "      <th>n_columnas</th>\n",
       "      <th>puntos</th>\n",
       "      <th>enun_tex</th>\n",
       "      <th>sol_tex</th>\n",
       "    </tr>\n",
       "  </thead>\n",
       "  <tbody>\n",
       "    <tr>\n",
       "      <th>4</th>\n",
       "      <td>A=(2, 1), \\ B=(4, 3),\\  y \\ C=(6, -1)</td>\n",
       "      <td>[(2, 1), (4, 3), (6, -1)]</td>\n",
       "      <td>\\left [ y - 1 = 0, \\quad - 2 x - 2 y + 10 = 0,...</td>\n",
       "      <td>Dado el triángulo ABC, hallar: \\\\ \\n\\begin{ite...</td>\n",
       "      <td>1BC</td>\n",
       "      <td>Final 2ª Ev.</td>\n",
       "      <td>ex12e04</td>\n",
       "      <td>5</td>\n",
       "      <td>1</td>\n",
       "      <td>1</td>\n",
       "      <td>True</td>\n",
       "      <td>True</td>\n",
       "    </tr>\n",
       "  </tbody>\n",
       "</table>\n",
       "</div>"
      ],
      "text/plain": [
       "                         enunciado_latex                  enunciado  \\\n",
       "4  A=(2, 1), \\ B=(4, 3),\\  y \\ C=(6, -1)  [(2, 1), (4, 3), (6, -1)]   \n",
       "\n",
       "                                            solucion  \\\n",
       "4  \\left [ y - 1 = 0, \\quad - 2 x - 2 y + 10 = 0,...   \n",
       "\n",
       "                                               texto curso        titulo  \\\n",
       "4  Dado el triángulo ABC, hallar: \\\\ \\n\\begin{ite...   1BC  Final 2ª Ev.   \n",
       "\n",
       "  n_ejercicio  dificultad  n_columnas  puntos  enun_tex  sol_tex  \n",
       "4     ex12e04           5           1       1      True     True  "
      ]
     },
     "metadata": {},
     "output_type": "display_data"
    },
    {
     "data": {
      "text/markdown": [
       "**Ejercicio: **ex12e05"
      ],
      "text/plain": [
       "<IPython.core.display.Markdown object>"
      ]
     },
     "metadata": {},
     "output_type": "display_data"
    },
    {
     "data": {
      "text/html": [
       "<div>\n",
       "<style scoped>\n",
       "    .dataframe tbody tr th:only-of-type {\n",
       "        vertical-align: middle;\n",
       "    }\n",
       "\n",
       "    .dataframe tbody tr th {\n",
       "        vertical-align: top;\n",
       "    }\n",
       "\n",
       "    .dataframe thead th {\n",
       "        text-align: right;\n",
       "    }\n",
       "</style>\n",
       "<table border=\"1\" class=\"dataframe\">\n",
       "  <thead>\n",
       "    <tr style=\"text-align: right;\">\n",
       "      <th></th>\n",
       "      <th>enunciado_latex</th>\n",
       "      <th>enunciado</th>\n",
       "      <th>solucion</th>\n",
       "      <th>texto</th>\n",
       "      <th>curso</th>\n",
       "      <th>titulo</th>\n",
       "      <th>n_ejercicio</th>\n",
       "      <th>dificultad</th>\n",
       "      <th>n_columnas</th>\n",
       "      <th>puntos</th>\n",
       "      <th>enun_tex</th>\n",
       "      <th>sol_tex</th>\n",
       "    </tr>\n",
       "  </thead>\n",
       "  <tbody>\n",
       "    <tr>\n",
       "      <th>5</th>\n",
       "      <td>2\\cos^2{x}-\\sqrt{3}\\cos{x}=0</td>\n",
       "      <td>Eq(2*cos(x)**2 - sqrt(3)*cos(x), 0)</td>\n",
       "      <td>\\left [ 30, \\quad 90, \\quad 270, \\quad 330\\rig...</td>\n",
       "      <td>Resolver las siguientes ecuaciones:</td>\n",
       "      <td>1BC</td>\n",
       "      <td>Final 2ª Ev.</td>\n",
       "      <td>ex12e05</td>\n",
       "      <td>1</td>\n",
       "      <td>1</td>\n",
       "      <td>1</td>\n",
       "      <td>True</td>\n",
       "      <td>True</td>\n",
       "    </tr>\n",
       "    <tr>\n",
       "      <th>6</th>\n",
       "      <td>\\cos{2x}-3\\cos{x}+1=0</td>\n",
       "      <td>Eq(-3*cos(x) + cos(2*x) + 1, 0)</td>\n",
       "      <td>\\left [ -90, \\quad 90\\right ]</td>\n",
       "      <td>Resolver las siguientes ecuaciones:</td>\n",
       "      <td>1BC</td>\n",
       "      <td>Final 2ª Ev.</td>\n",
       "      <td>ex12e05</td>\n",
       "      <td>1</td>\n",
       "      <td>1</td>\n",
       "      <td>1</td>\n",
       "      <td>True</td>\n",
       "      <td>True</td>\n",
       "    </tr>\n",
       "  </tbody>\n",
       "</table>\n",
       "</div>"
      ],
      "text/plain": [
       "                enunciado_latex                            enunciado  \\\n",
       "5  2\\cos^2{x}-\\sqrt{3}\\cos{x}=0  Eq(2*cos(x)**2 - sqrt(3)*cos(x), 0)   \n",
       "6         \\cos{2x}-3\\cos{x}+1=0      Eq(-3*cos(x) + cos(2*x) + 1, 0)   \n",
       "\n",
       "                                            solucion  \\\n",
       "5  \\left [ 30, \\quad 90, \\quad 270, \\quad 330\\rig...   \n",
       "6                      \\left [ -90, \\quad 90\\right ]   \n",
       "\n",
       "                                 texto curso        titulo n_ejercicio  \\\n",
       "5  Resolver las siguientes ecuaciones:   1BC  Final 2ª Ev.     ex12e05   \n",
       "6  Resolver las siguientes ecuaciones:   1BC  Final 2ª Ev.     ex12e05   \n",
       "\n",
       "   dificultad  n_columnas  puntos  enun_tex  sol_tex  \n",
       "5           1           1       1      True     True  \n",
       "6           1           1       1      True     True  "
      ]
     },
     "metadata": {},
     "output_type": "display_data"
    },
    {
     "data": {
      "text/markdown": [
       "**Ejercicio: **ex12e06"
      ],
      "text/plain": [
       "<IPython.core.display.Markdown object>"
      ]
     },
     "metadata": {},
     "output_type": "display_data"
    },
    {
     "data": {
      "text/html": [
       "<div>\n",
       "<style scoped>\n",
       "    .dataframe tbody tr th:only-of-type {\n",
       "        vertical-align: middle;\n",
       "    }\n",
       "\n",
       "    .dataframe tbody tr th {\n",
       "        vertical-align: top;\n",
       "    }\n",
       "\n",
       "    .dataframe thead th {\n",
       "        text-align: right;\n",
       "    }\n",
       "</style>\n",
       "<table border=\"1\" class=\"dataframe\">\n",
       "  <thead>\n",
       "    <tr style=\"text-align: right;\">\n",
       "      <th></th>\n",
       "      <th>enunciado_latex</th>\n",
       "      <th>enunciado</th>\n",
       "      <th>solucion</th>\n",
       "      <th>texto</th>\n",
       "      <th>curso</th>\n",
       "      <th>titulo</th>\n",
       "      <th>n_ejercicio</th>\n",
       "      <th>dificultad</th>\n",
       "      <th>n_columnas</th>\n",
       "      <th>puntos</th>\n",
       "      <th>enun_tex</th>\n",
       "      <th>sol_tex</th>\n",
       "    </tr>\n",
       "  </thead>\n",
       "  <tbody>\n",
       "    <tr>\n",
       "      <th>7</th>\n",
       "      <td>\\frac{(1+2i)i^7}{(3-2i)-(2+i)}</td>\n",
       "      <td>(i**7*(2*i + 1))/(-2*i + 3 - i - 2)</td>\n",
       "      <td>\\frac{1}{2} + \\frac{i}{2}</td>\n",
       "      <td>Calcula:</td>\n",
       "      <td>1BC</td>\n",
       "      <td>Final 2ª Ev.</td>\n",
       "      <td>ex12e06</td>\n",
       "      <td>2</td>\n",
       "      <td>2</td>\n",
       "      <td>1</td>\n",
       "      <td>True</td>\n",
       "      <td>True</td>\n",
       "    </tr>\n",
       "  </tbody>\n",
       "</table>\n",
       "</div>"
      ],
      "text/plain": [
       "                  enunciado_latex                            enunciado  \\\n",
       "7  \\frac{(1+2i)i^7}{(3-2i)-(2+i)}  (i**7*(2*i + 1))/(-2*i + 3 - i - 2)   \n",
       "\n",
       "                    solucion     texto curso        titulo n_ejercicio  \\\n",
       "7  \\frac{1}{2} + \\frac{i}{2}  Calcula:   1BC  Final 2ª Ev.     ex12e06   \n",
       "\n",
       "   dificultad  n_columnas  puntos  enun_tex  sol_tex  \n",
       "7           2           2       1      True     True  "
      ]
     },
     "metadata": {},
     "output_type": "display_data"
    },
    {
     "data": {
      "text/markdown": [
       "**Ejercicio: **ex12e07"
      ],
      "text/plain": [
       "<IPython.core.display.Markdown object>"
      ]
     },
     "metadata": {},
     "output_type": "display_data"
    },
    {
     "data": {
      "text/html": [
       "<div>\n",
       "<style scoped>\n",
       "    .dataframe tbody tr th:only-of-type {\n",
       "        vertical-align: middle;\n",
       "    }\n",
       "\n",
       "    .dataframe tbody tr th {\n",
       "        vertical-align: top;\n",
       "    }\n",
       "\n",
       "    .dataframe thead th {\n",
       "        text-align: right;\n",
       "    }\n",
       "</style>\n",
       "<table border=\"1\" class=\"dataframe\">\n",
       "  <thead>\n",
       "    <tr style=\"text-align: right;\">\n",
       "      <th></th>\n",
       "      <th>enunciado_latex</th>\n",
       "      <th>enunciado</th>\n",
       "      <th>solucion</th>\n",
       "      <th>texto</th>\n",
       "      <th>curso</th>\n",
       "      <th>titulo</th>\n",
       "      <th>n_ejercicio</th>\n",
       "      <th>dificultad</th>\n",
       "      <th>n_columnas</th>\n",
       "      <th>puntos</th>\n",
       "      <th>enun_tex</th>\n",
       "      <th>sol_tex</th>\n",
       "    </tr>\n",
       "  </thead>\n",
       "  <tbody>\n",
       "    <tr>\n",
       "      <th>8</th>\n",
       "      <td>2 - 2\\sqrt {3}i</td>\n",
       "      <td>-2*sqrt(3)*i + 2</td>\n",
       "      <td>4_{- \\frac{\\pi}{3}}</td>\n",
       "      <td>Escribe los siguientes números complejos en fo...</td>\n",
       "      <td>1BC</td>\n",
       "      <td>Final 2ª Ev.</td>\n",
       "      <td>ex12e07</td>\n",
       "      <td>1</td>\n",
       "      <td>2</td>\n",
       "      <td>1</td>\n",
       "      <td>True</td>\n",
       "      <td>True</td>\n",
       "    </tr>\n",
       "    <tr>\n",
       "      <th>9</th>\n",
       "      <td>2i</td>\n",
       "      <td>2*i</td>\n",
       "      <td>2_{\\frac{\\pi}{2}}</td>\n",
       "      <td>Escribe los siguientes números complejos en fo...</td>\n",
       "      <td>1BC</td>\n",
       "      <td>Final 2ª Ev.</td>\n",
       "      <td>ex12e07</td>\n",
       "      <td>1</td>\n",
       "      <td>2</td>\n",
       "      <td>1</td>\n",
       "      <td>True</td>\n",
       "      <td>True</td>\n",
       "    </tr>\n",
       "    <tr>\n",
       "      <th>10</th>\n",
       "      <td>-4</td>\n",
       "      <td>-4</td>\n",
       "      <td>4_{\\pi}</td>\n",
       "      <td>Escribe los siguientes números complejos en fo...</td>\n",
       "      <td>1BC</td>\n",
       "      <td>Final 2ª Ev.</td>\n",
       "      <td>ex12e07</td>\n",
       "      <td>1</td>\n",
       "      <td>2</td>\n",
       "      <td>1</td>\n",
       "      <td>True</td>\n",
       "      <td>True</td>\n",
       "    </tr>\n",
       "  </tbody>\n",
       "</table>\n",
       "</div>"
      ],
      "text/plain": [
       "    enunciado_latex         enunciado             solucion  \\\n",
       "8   2 - 2\\sqrt {3}i  -2*sqrt(3)*i + 2  4_{- \\frac{\\pi}{3}}   \n",
       "9                2i               2*i    2_{\\frac{\\pi}{2}}   \n",
       "10               -4                -4              4_{\\pi}   \n",
       "\n",
       "                                                texto curso        titulo  \\\n",
       "8   Escribe los siguientes números complejos en fo...   1BC  Final 2ª Ev.   \n",
       "9   Escribe los siguientes números complejos en fo...   1BC  Final 2ª Ev.   \n",
       "10  Escribe los siguientes números complejos en fo...   1BC  Final 2ª Ev.   \n",
       "\n",
       "   n_ejercicio  dificultad  n_columnas  puntos  enun_tex  sol_tex  \n",
       "8      ex12e07           1           2       1      True     True  \n",
       "9      ex12e07           1           2       1      True     True  \n",
       "10     ex12e07           1           2       1      True     True  "
      ]
     },
     "metadata": {},
     "output_type": "display_data"
    }
   ],
   "source": [
    "escribir_preambulo(fichero, titulo, 'ejercicios')\n",
    "for s in df_ejercicios.groupby('n_ejercicio').count().index : \n",
    "    display(md(\"**Ejercicio: **\" + s ))\n",
    "    display(df_ejercicios[df_ejercicios.n_ejercicio == s])\n",
    "    escribir_ejercicios(df_ejercicios[df_ejercicios.n_ejercicio == s],fichero)\n",
    "\n",
    "escribir_fin(fichero)"
   ]
  }
 ],
 "metadata": {
  "kernelspec": {
   "display_name": "Python 3",
   "language": "python",
   "name": "python3"
  },
  "language_info": {
   "codemirror_mode": {
    "name": "ipython",
    "version": 3
   },
   "file_extension": ".py",
   "mimetype": "text/x-python",
   "name": "python",
   "nbconvert_exporter": "python",
   "pygments_lexer": "ipython3",
   "version": "3.6.5"
  }
 },
 "nbformat": 4,
 "nbformat_minor": 2
}
