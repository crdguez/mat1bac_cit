{
 "cells": [
  {
   "cell_type": "code",
   "execution_count": 1,
   "metadata": {},
   "outputs": [
    {
     "name": "stdout",
     "output_type": "stream",
     "text": [
      "IPython console for SymPy 1.2 (Python 3.6.8-64-bit) (ground types: gmpy)\n",
      "\n",
      "These commands were executed:\n",
      ">>> from __future__ import division\n",
      ">>> from sympy import *\n",
      ">>> x, y, z, t = symbols('x y z t')\n",
      ">>> k, m, n = symbols('k m n', integer=True)\n",
      ">>> f, g, h = symbols('f g h', cls=Function)\n",
      ">>> init_printing()\n",
      "\n",
      "Documentation can be found at http://docs.sympy.org/1.2/\n",
      "\n"
     ]
    }
   ],
   "source": [
    "from sympy import init_session\n",
    "from sympy import div, QQ\n",
    "from sympy.parsing.latex import parse_latex\n",
    "from sympy.parsing.sympy_parser import parse_expr\n",
    "from IPython.display import Markdown as md\n",
    "from IPython.display import display\n",
    "import numpy as np\n",
    "import pandas as pd\n",
    "    \n",
    "from sympy.geometry import Point, Line, Triangle\n",
    "from sympy.vector import CoordSys3D, vector\n",
    "\n",
    "\n",
    "init_session()\n",
    "\n",
    "a, b, c, d, k = symbols('a b c d k', real = True)\n",
    "from docparts import añadir_ejercicios, doc_ejer, escribir_preambulo, escribir_ejercicios, escribir_fin\n",
    "\n",
    "df_ejercicios = pd.DataFrame()\n",
    "\n",
    "fichero = 'rec2'\n",
    "titulo = 'Recuperación 2ª Ev.'\n",
    "curso = '1BC'\n",
    "\n",
    "# x,y = symbols('x, y', real=True)\n"
   ]
  },
  {
   "cell_type": "code",
   "execution_count": 2,
   "metadata": {},
   "outputs": [],
   "source": [
    "def simbolo (operacion):\n",
    "    if operacion == '<=' :\n",
    "        return('\\leq')\n",
    "    elif operacion == '>=' :\n",
    "        return('\\geq')\n",
    "    else :\n",
    "        return(operacion)"
   ]
  },
  {
   "cell_type": "code",
   "execution_count": 3,
   "metadata": {},
   "outputs": [],
   "source": [
    "def Linea(expr) :\n",
    "    eq = eval(str(parse_latex(expr)))\n",
    "    p1 = Point(0,nsimplify(solve(Eq(eq.args[0].subs(x,0),eq.args[1].subs(x,0)),y)[0]))\n",
    "    p2 = Point(1,nsimplify(solve(Eq(eq.args[0].subs(x,1),eq.args[1].subs(x,1)),y)[0]))\n",
    "    \n",
    "    return Line(p1,p2)\n",
    "    #return [p1,p2]\n",
    "\n",
    "def a_polar(binomico) :\n",
    "    return [abs(binomico), arg(binomico)]\n",
    "\n",
    "def a_binomico(polar) :\n",
    "    return(polar[0]*cos(polar[1])+polar[0]*sin(polar[1])*I)"
   ]
  },
  {
   "cell_type": "code",
   "execution_count": 3,
   "metadata": {},
   "outputs": [
    {
     "data": {
      "text/markdown": [
       "**Dado el triángulo ABC de coordenadas A=(2, 1), B=(6, 5),  y C=(5, 1), hallar: \n",
       "    **"
      ],
      "text/plain": [
       "<IPython.core.display.Markdown object>"
      ]
     },
     "metadata": {},
     "output_type": "display_data"
    },
    {
     "data": {
      "text/markdown": [
       "El área del triángulo $ \\rightarrow $\\\\La base mide: $4 \\sqrt{2}$ \\\\La altura mide: $\\frac{3 \\sqrt{2}}{2}$ \\\\El área es: $6$"
      ],
      "text/plain": [
       "<IPython.core.display.Markdown object>"
      ]
     },
     "metadata": {},
     "output_type": "display_data"
    },
    {
     "data": {
      "text/markdown": [
       "El ángulo $\\widehat{A}$. $ \\rightarrow $El ángulo mide: $45$"
      ],
      "text/plain": [
       "<IPython.core.display.Markdown object>"
      ]
     },
     "metadata": {},
     "output_type": "display_data"
    },
    {
     "data": {
      "text/markdown": [
       "El punto simétrico de C respecto a AB $ \\rightarrow $$r_{AB} \\equiv - 4 x + 4 y + 4=0$, \\\\ $t_{C}\\bot r_{AB} \\equiv - 4 x - 4 y + 24=0$, \\\\  $r\\bot t \\equiv Point2D(7/2, 5/2)$, \\\\ El punto simétrico: $Point2D(2, 4)$"
      ],
      "text/plain": [
       "<IPython.core.display.Markdown object>"
      ]
     },
     "metadata": {},
     "output_type": "display_data"
    },
    {
     "data": {
      "text/markdown": [
       "**Dado el triángulo ABC de coordenadas A=(5, 1), B=(6, 5),  y C=(2, 1), hallar: \n",
       "    **"
      ],
      "text/plain": [
       "<IPython.core.display.Markdown object>"
      ]
     },
     "metadata": {},
     "output_type": "display_data"
    },
    {
     "data": {
      "text/markdown": [
       "El área del triángulo $ \\rightarrow $\\\\La base mide: $\\sqrt{17}$ \\\\La altura mide: $\\frac{12 \\sqrt{17}}{17}$ \\\\El área es: $6$"
      ],
      "text/plain": [
       "<IPython.core.display.Markdown object>"
      ]
     },
     "metadata": {},
     "output_type": "display_data"
    },
    {
     "data": {
      "text/markdown": [
       "El ángulo $\\widehat{A}$. $ \\rightarrow $El ángulo mide: $\\frac{180 \\operatorname{acos}{\\left (- \\frac{\\sqrt{17}}{17} \\right )}}{\\pi}$"
      ],
      "text/plain": [
       "<IPython.core.display.Markdown object>"
      ]
     },
     "metadata": {},
     "output_type": "display_data"
    },
    {
     "data": {
      "text/markdown": [
       "El punto simétrico de C respecto a AB $ \\rightarrow $$r_{AB} \\equiv - 4 x + y + 19=0$, \\\\ $t_{C}\\bot r_{AB} \\equiv - x - 4 y + 6=0$, \\\\  $r\\bot t \\equiv Point2D(82/17, 5/17)$, \\\\ El punto simétrico: $Point2D(130/17, -7/17)$"
      ],
      "text/plain": [
       "<IPython.core.display.Markdown object>"
      ]
     },
     "metadata": {},
     "output_type": "display_data"
    },
    {
     "data": {
      "text/markdown": [
       "**Dado el triángulo ABC de coordenadas A=(2, 1), B=(6, 5),  y C=(2, 4), hallar: \n",
       "    **"
      ],
      "text/plain": [
       "<IPython.core.display.Markdown object>"
      ]
     },
     "metadata": {},
     "output_type": "display_data"
    },
    {
     "data": {
      "text/markdown": [
       "El área del triángulo $ \\rightarrow $\\\\La base mide: $4 \\sqrt{2}$ \\\\La altura mide: $\\frac{3 \\sqrt{2}}{2}$ \\\\El área es: $6$"
      ],
      "text/plain": [
       "<IPython.core.display.Markdown object>"
      ]
     },
     "metadata": {},
     "output_type": "display_data"
    },
    {
     "data": {
      "text/markdown": [
       "El ángulo $\\widehat{A}$. $ \\rightarrow $El ángulo mide: $45$"
      ],
      "text/plain": [
       "<IPython.core.display.Markdown object>"
      ]
     },
     "metadata": {},
     "output_type": "display_data"
    },
    {
     "data": {
      "text/markdown": [
       "El punto simétrico de C respecto a AB $ \\rightarrow $$r_{AB} \\equiv - 4 x + 4 y + 4=0$, \\\\ $t_{C}\\bot r_{AB} \\equiv - 4 x - 4 y + 24=0$, \\\\  $r\\bot t \\equiv Point2D(7/2, 5/2)$, \\\\ El punto simétrico: $Point2D(5, 1)$"
      ],
      "text/plain": [
       "<IPython.core.display.Markdown object>"
      ]
     },
     "metadata": {},
     "output_type": "display_data"
    }
   ],
   "source": [
    "# ejercicio de examen 1\n",
    "\n",
    "\n",
    "puntuacion = '1'\n",
    "\n",
    "                             \n",
    "                      \n",
    "datos = [[(2,1),(6,5),(5,1)],\n",
    "         [(5,1),(6,5),(2,1)],\n",
    "        [(2,1),(6,5),(2,4)]]\n",
    "\n",
    "\n",
    "# vectores iniciales correspondientes al texto del enunciado\n",
    "\n",
    "\n",
    "\n",
    "for i, s in enumerate(datos) : \n",
    "    n_ejercicio = 'ex13e01-'+str(i)\n",
    "    enunciado_latex, enunciado, solucion = [],[],[]\n",
    "    \n",
    "    texto_ejercicio = r\"\"\"Dado el triángulo ABC de coordenadas A={}, B={},  y C={}, hallar: \n",
    "    \"\"\".format(datos[i][0],datos[i][1],datos[i][2])\n",
    "    \n",
    "    A, B, C = [Point(k) for k in s]\n",
    "    T=Triangle(A,B,C)\n",
    "\n",
    "\n",
    "    display(md(\"**\"+texto_ejercicio+\"**\"))\n",
    "    \n",
    "    enunciado_latex.append(\"El área del triángulo\")\n",
    "    enunciado = str(s)\n",
    "    base = A.distance(B)\n",
    "    altura = Line(A,B).distance(C)\n",
    "    sol = r\"\\\\La base mide: $\"\n",
    "    sol+=latex(base)+r\"$ \\\\\" + r\"La altura mide: $\" + latex(altura)+r\"$ \\\\\" + r\"El área es: $\"+latex(base*altura/2)+r\"$\"\n",
    "    solucion.append(sol)\n",
    "    display(md(enunciado_latex[0] +\" $ \\\\rightarrow $\" + solucion[0] ))\n",
    "    \n",
    "    \n",
    "    enunciado_latex.append(\"El ángulo $\\widehat{A}$.\")\n",
    "    enunciado = str(s)\n",
    "    angulo = deg(Line(A,B).angle_between(Line(A,C)))\n",
    "    sol = r\"El ángulo mide: $\"\n",
    "    sol+=latex(angulo)+r\"$\"\n",
    "    solucion.append(sol)\n",
    "    display(md(enunciado_latex[1] +\" $ \\\\rightarrow $\" + solucion[1] ))\n",
    "    \n",
    "    enunciado_latex.append(\"El punto simétrico de C respecto a AB\")\n",
    "    enunciado = str(s)\n",
    "    recta_ab = Line(A,B).equation()\n",
    "    recta_per = Line(A,B).perpendicular_line(C).equation()\n",
    "    pm=Point(list(solve([recta_ab,recta_per]).values()))\n",
    "    ps=C.rotate(pi,pm)\n",
    "    sol = r\"$r_{AB} \\equiv \"\n",
    "    sol+=latex(recta_ab)+r\"=0$, \\\\ $t_{C}\\bot r_{AB} \\equiv \"+latex(recta_per)\n",
    "    sol+=r\"=0$, \\\\  $r\\bot t \\equiv \"+latex(pm)+r\"$, \\\\ El punto simétrico: $\"+latex(ps)+\"$\"\n",
    "    solucion.append(sol)\n",
    "    display(md(enunciado_latex[2] +\" $ \\\\rightarrow $\" + solucion[2] ))\n",
    "\n",
    "    df_ejercicios = df_ejercicios.append(añadir_ejercicios(enunciado_latex, enunciado, solucion, texto_ejercicio, curso, titulo , n_ejercicio, '5', '1', enun_tex=False, sol_tex=False), ignore_index=True)\n",
    "\n",
    "    \n",
    "\n"
   ]
  },
  {
   "cell_type": "code",
   "execution_count": 5,
   "metadata": {},
   "outputs": [
    {
     "data": {
      "text/markdown": [
       "$2\\sin^2{x}+\\cos{2x}=4\\cos^2{x} \\rightarrow \\left [ -120, \\quad 120, \\quad -60, \\quad 60\\right ]$"
      ],
      "text/plain": [
       "<IPython.core.display.Markdown object>"
      ]
     },
     "metadata": {},
     "output_type": "display_data"
    },
    {
     "data": {
      "text/markdown": [
       "$\\cos^2{2x}=\\frac{1}{4}+\\sin{2x} \\rightarrow \\left [ 15, \\quad 75, \\quad \\frac{180 \\left(- \\frac{98174770424681}{125000000000000} - \\frac{481211825059603 i}{1000000000000000}\\right)}{\\pi}, \\quad \\frac{180 \\left(- \\frac{98174770424681}{125000000000000} + \\frac{481211825059603 i}{1000000000000000}\\right)}{\\pi}\\right ]$"
      ],
      "text/plain": [
       "<IPython.core.display.Markdown object>"
      ]
     },
     "metadata": {},
     "output_type": "display_data"
    }
   ],
   "source": [
    "# ejercicio de examen 1b\n",
    "\n",
    "n_ejercicio = 'ex03e01b'\n",
    "\n",
    "texto_ejercicio = 'Resuelve:'\n",
    "\n",
    "puntuacion = '1'\n",
    "\n",
    "enunciado_latex = [r'2\\sin^2{x}+\\cos{2x}=4\\cos^2{x}',\n",
    "                   r'\\cos^2{2x}=\\frac{1}{4}+\\sin{2x}',\n",
    "                  ]\n",
    "                                       \n",
    "\n",
    "\n",
    "\n",
    "\n",
    "enunciado, solucion = [], []\n",
    "\n",
    "for i, s in enumerate(enunciado_latex) :\n",
    "    enunciado.append(parse_latex(s))\n",
    "    #solucion.append(latex(solve(parse_latex(s)))) \n",
    "    solucion.append(latex([deg(nsimplify(i/pi)*pi) for i in solve(eval(str(parse_latex(s))))])) \n",
    "    display(md(\"$\"+ enunciado_latex[i] +\" \\\\rightarrow \" + solucion[i] +\"$\"))\n",
    "\n",
    "df_ejercicios = df_ejercicios.append(añadir_ejercicios(enunciado_latex, enunciado, solucion, texto_ejercicio, curso, titulo , n_ejercicio, '1', '1'), ignore_index=True)\n"
   ]
  },
  {
   "cell_type": "code",
   "execution_count": 6,
   "metadata": {},
   "outputs": [
    {
     "data": {
      "text/markdown": [
       "**Determina el valor que debe tener k ($k \\in \\mathbb{R}$)para que la siguiente expresión sea un número real.**"
      ],
      "text/plain": [
       "<IPython.core.display.Markdown object>"
      ]
     },
     "metadata": {},
     "output_type": "display_data"
    },
    {
     "data": {
      "text/markdown": [
       "$(k+2i)^2+(5+2i) \\rightarrow k^{2} + 4 i k + 1 + 2 i\\to\\left [ - \\frac{1}{2}\\right ]$"
      ],
      "text/plain": [
       "<IPython.core.display.Markdown object>"
      ]
     },
     "metadata": {},
     "output_type": "display_data"
    }
   ],
   "source": [
    "# ejercicio de examen 2\n",
    "\n",
    "n_ejercicio = 'ex13e02-0'\n",
    "\n",
    "\n",
    "puntuacion = '1'\n",
    "\n",
    "texto_ejercicio = 'Determina el valor que debe tener k ($k \\in \\mathbb{R}$)para que la siguiente expresión sea un número real.'\n",
    "\n",
    "display(md(\"**\"+texto_ejercicio+\"**\"))\n",
    "\n",
    "enunciado_latex = [r'(k+2i)^2+(5+2i)',                                  \n",
    "                  ]\n",
    "\n",
    "enunciado, solucion = [], []\n",
    "\n",
    "for i, s in enumerate(enunciado_latex) :\n",
    "    enunciado.append(parse_latex(s))\n",
    "    solucion.append(latex(expand(simplify(eval(str(parse_latex(s).replace('i','I'))))))+\"\\\\to\"+latex(solve(im(simplify(eval(str(parse_latex(s).replace('i','I')))))))) \n",
    "    display(md(\"$\"+ enunciado_latex[i] +\" \\\\rightarrow \" + solucion[i] +\"$\"))\n",
    "df_ejercicios = df_ejercicios.append(añadir_ejercicios(enunciado_latex, enunciado, solucion, texto_ejercicio, curso, titulo , n_ejercicio, '1', '2'), ignore_index=True)\n"
   ]
  },
  {
   "cell_type": "code",
   "execution_count": 7,
   "metadata": {},
   "outputs": [
    {
     "data": {
      "text/markdown": [
       "**Determina el valor que debe tener k ($k \\in \\mathbb{R}$)para que la siguiente expresión sea un número imaginario puro.**"
      ],
      "text/plain": [
       "<IPython.core.display.Markdown object>"
      ]
     },
     "metadata": {},
     "output_type": "display_data"
    },
    {
     "data": {
      "text/markdown": [
       "$(k-2i)^2+(-5+2i) \\rightarrow k^{2} - 4 i k - 9 + 2 i\\to\\left [ -3, \\quad 3\\right ]$"
      ],
      "text/plain": [
       "<IPython.core.display.Markdown object>"
      ]
     },
     "metadata": {},
     "output_type": "display_data"
    }
   ],
   "source": [
    "# ejercicio de examen 2\n",
    "\n",
    "n_ejercicio = 'ex13e02-1'\n",
    "\n",
    "\n",
    "puntuacion = '1'\n",
    "\n",
    "texto_ejercicio = 'Determina el valor que debe tener k ($k \\in \\mathbb{R}$)para que la siguiente expresión sea un número imaginario puro.'\n",
    "\n",
    "display(md(\"**\"+texto_ejercicio+\"**\"))\n",
    "\n",
    "enunciado_latex = [r'(k-2i)^2+(-5+2i)',                                  \n",
    "                  ]\n",
    "\n",
    "enunciado, solucion = [], []\n",
    "\n",
    "for i, s in enumerate(enunciado_latex) :\n",
    "    enunciado.append(parse_latex(s))\n",
    "    solucion.append(latex(expand(simplify(eval(str(parse_latex(s).replace('i','I'))))))+\"\\\\to\"+latex(solve(re(simplify(eval(str(parse_latex(s).replace('i','I')))))))) \n",
    "    display(md(\"$\"+ enunciado_latex[i] +\" \\\\rightarrow \" + solucion[i] +\"$\"))\n",
    "df_ejercicios = df_ejercicios.append(añadir_ejercicios(enunciado_latex, enunciado, solucion, texto_ejercicio, curso, titulo , n_ejercicio, '1', '2'), ignore_index=True)\n"
   ]
  },
  {
   "cell_type": "code",
   "execution_count": 8,
   "metadata": {},
   "outputs": [
    {
     "data": {
      "text/markdown": [
       "**Halla el punto de la recta que equidista de los puntos A y B, siendo:**"
      ],
      "text/plain": [
       "<IPython.core.display.Markdown object>"
      ]
     },
     "metadata": {},
     "output_type": "display_data"
    },
    {
     "data": {
      "text/markdown": [
       "$ A(2, 2)\\  , \\ B=(-2, 4) \\ y \\  C \\in r\\equiv 2x+y+1=0 \\rightarrow \\left [ \\left \\{ x : - \\frac{y}{2} - \\frac{1}{2}, \\quad x : \\frac{y}{2} - \\frac{3}{2}\\right \\}\\right ]$"
      ],
      "text/plain": [
       "<IPython.core.display.Markdown object>"
      ]
     },
     "metadata": {},
     "output_type": "display_data"
    },
    {
     "data": {
      "image/png": "[encoded data removed]",
      "text/latex": [
       "$$Point2D(0, 3)$$"
      ],
      "text/plain": [
       "Point2D(0, 3)"
      ]
     },
     "metadata": {},
     "output_type": "display_data"
    },
    {
     "data": {
      "image/png": "[encoded data removed]",
      "text/latex": [
       "$$Point2D(-4, 2)$$"
      ],
      "text/plain": [
       "Point2D(-4, 2)"
      ]
     },
     "metadata": {},
     "output_type": "display_data"
    },
    {
     "data": {
      "image/png": "[encoded data removed]",
      "text/latex": [
       "$$- 2 x - 4 y + 12$$"
      ],
      "text/plain": [
       "-2⋅x - 4⋅y + 12"
      ]
     },
     "metadata": {},
     "output_type": "display_data"
    },
    {
     "data": {
      "image/png": "[encoded data removed]",
      "text/latex": [
       "$$Point2D(-2, -4)$$"
      ],
      "text/plain": [
       "Point2D(-2, -4)"
      ]
     },
     "metadata": {},
     "output_type": "display_data"
    },
    {
     "data": {
      "image/png": "[encoded data removed]",
      "text/latex": [
       "$$4 x - 2 y + 6$$"
      ],
      "text/plain": [
       "4⋅x - 2⋅y + 6"
      ]
     },
     "metadata": {},
     "output_type": "display_data"
    },
    {
     "data": {
      "image/png": "[encoded data removed]",
      "text/latex": [
       "$$\\left \\{ x : -1, \\quad y : 1\\right \\}$$"
      ],
      "text/plain": [
       "{x: -1, y: 1}"
      ]
     },
     "metadata": {},
     "output_type": "display_data"
    }
   ],
   "source": [
    "# ejercicio de examen 3\n",
    "\n",
    "texto_ejercicio = 'Halla el punto de la recta que equidista de los puntos A y B, siendo:'\n",
    "\n",
    "n_ejercicio = 'ex13e03'\n",
    "puntuacion = '2'\n",
    "\n",
    "display(md(\"**\"+texto_ejercicio+\"**\"))\n",
    " \n",
    "# vectores iniciales correspondientes al texto del enunciado\n",
    "\n",
    "pre_enunciado_latex = [\n",
    "\n",
    "                        [(2,2),(-2,4),r'2x+y+1=0'],  \n",
    "                      ]\n",
    "\n",
    "enunciado_latex, enunciado, solucion = [],[],[]\n",
    "\n",
    "for i, s in enumerate(pre_enunciado_latex) : \n",
    "    enunciado_latex.append(\" A\"+str(s[0])+\"\\  , \\ B=\" +str(s[1])+ \" \\ y \\  C \\in r\\equiv \"+str(s[2]))\n",
    "    enunciado = str(s)\n",
    "    r = Linea(s[2])\n",
    "\n",
    "    P = Point(x,y)\n",
    "\n",
    "    r.distance(Point(s[0]))\n",
    "\n",
    "    sol = solve([P.distance(s[0])-P.distance(s[1]),r.equation()])\n",
    "    solucion.append(latex(sol))\n",
    "    display(md(\"$\"+ enunciado_latex[i] +\" \\\\rightarrow \" + solucion[i] +\"$\"))\n",
    "    \n",
    "    #p1 = plot_implicit(Linea(s[1]).equation(),show=False)\n",
    "    #p2 = plot_implicit(Line(s[0],slope=m).equation(),show=False)\n",
    "    #p1.extend(p2)\n",
    "    #p1.show()\n",
    "    \n",
    "    A, B = Point(s[0]), Point(s[1])\n",
    "    t, s = Line(A,B), Line(A,B).perpendicular_line(A.midpoint(B)) \n",
    "    display(A.midpoint(B), t.direction, t.equation(), s.direction, s.equation(), solve([r.equation(),s.equation()]))\n",
    "\n",
    "df_ejercicios = df_ejercicios.append(añadir_ejercicios(enunciado_latex, enunciado, solucion, texto_ejercicio, curso, titulo , n_ejercicio, '2', '1', enun_tex=True), ignore_index=True)\n"
   ]
  },
  {
   "cell_type": "code",
   "execution_count": 9,
   "metadata": {},
   "outputs": [
    {
     "data": {
      "text/markdown": [
       "**Escribe en forma binómica los siguientes números complejos:**"
      ],
      "text/plain": [
       "<IPython.core.display.Markdown object>"
      ]
     },
     "metadata": {},
     "output_type": "display_data"
    },
    {
     "data": {
      "text/markdown": [
       "$2_{\\frac{\\pi}{4}} \\rightarrow \\sqrt{2} + \\sqrt{2} i$"
      ],
      "text/plain": [
       "<IPython.core.display.Markdown object>"
      ]
     },
     "metadata": {},
     "output_type": "display_data"
    },
    {
     "data": {
      "text/markdown": [
       "$3_{\\frac{\\pi}{6}} \\rightarrow \\frac{3 \\sqrt{3}}{2} + \\frac{3 i}{2}$"
      ],
      "text/plain": [
       "<IPython.core.display.Markdown object>"
      ]
     },
     "metadata": {},
     "output_type": "display_data"
    },
    {
     "data": {
      "text/markdown": [
       "$\\sqrt{2}_{\\pi} \\rightarrow - \\sqrt{2}$"
      ],
      "text/plain": [
       "<IPython.core.display.Markdown object>"
      ]
     },
     "metadata": {},
     "output_type": "display_data"
    },
    {
     "data": {
      "text/markdown": [
       "$3_{- \\frac{\\pi}{2}} \\rightarrow - 3 i$"
      ],
      "text/plain": [
       "<IPython.core.display.Markdown object>"
      ]
     },
     "metadata": {},
     "output_type": "display_data"
    }
   ],
   "source": [
    "# ejercicio de examen 4\n",
    "\n",
    "n_ejercicio = 'ex13e04'\n",
    "puntuacion = '1'\n",
    "\n",
    "texto_ejercicio = \"Escribe en forma binómica los siguientes números complejos:\"\n",
    "\n",
    "display(md(\"**\"+texto_ejercicio+\"**\"))\n",
    "\n",
    "enunciado = [[2,pi/4],\n",
    "             [3,pi/6],\n",
    "             [sqrt(2),pi],\n",
    "             [3,-pi/2],\n",
    "                   \n",
    "                  ]\n",
    "                                       \n",
    "enunciado_latex, solucion = [], []\n",
    "\n",
    "for i, s in enumerate(enunciado) :\n",
    "    enunciado_latex.append(latex(s[0])+\"_{\"+latex(s[1])+\"}\")\n",
    "    solucion.append(latex(a_binomico(s))) \n",
    "    display(md(\"$\"+ enunciado_latex[i] +\" \\\\rightarrow \" + solucion[i] +\"$\"))\n",
    "\n",
    "df_ejercicios = df_ejercicios.append(añadir_ejercicios(enunciado_latex, enunciado, solucion, texto_ejercicio, curso, titulo , n_ejercicio, '1', '2'), ignore_index=True)\n"
   ]
  },
  {
   "cell_type": "code",
   "execution_count": 10,
   "metadata": {},
   "outputs": [
    {
     "data": {
      "text/html": [
       "<div>\n",
       "<style scoped>\n",
       "    .dataframe tbody tr th:only-of-type {\n",
       "        vertical-align: middle;\n",
       "    }\n",
       "\n",
       "    .dataframe tbody tr th {\n",
       "        vertical-align: top;\n",
       "    }\n",
       "\n",
       "    .dataframe thead th {\n",
       "        text-align: right;\n",
       "    }\n",
       "</style>\n",
       "<table border=\"1\" class=\"dataframe\">\n",
       "  <thead>\n",
       "    <tr style=\"text-align: right;\">\n",
       "      <th></th>\n",
       "      <th>enunciado_latex</th>\n",
       "      <th>enunciado</th>\n",
       "      <th>solucion</th>\n",
       "      <th>texto</th>\n",
       "      <th>curso</th>\n",
       "      <th>titulo</th>\n",
       "      <th>n_ejercicio</th>\n",
       "      <th>dificultad</th>\n",
       "      <th>n_columnas</th>\n",
       "      <th>puntos</th>\n",
       "      <th>enun_tex</th>\n",
       "      <th>sol_tex</th>\n",
       "    </tr>\n",
       "  </thead>\n",
       "  <tbody>\n",
       "    <tr>\n",
       "      <th>0</th>\n",
       "      <td>El área del triángulo</td>\n",
       "      <td>[(2, 1), (6, 5), (5, 1)]</td>\n",
       "      <td>\\\\La base mide: $4 \\sqrt{2}$ \\\\La altura mide:...</td>\n",
       "      <td>Dado el triángulo ABC de coordenadas A=(2, 1),...</td>\n",
       "      <td>1BC</td>\n",
       "      <td>Recuperación 2ª Ev.</td>\n",
       "      <td>ex13e01-0</td>\n",
       "      <td>5</td>\n",
       "      <td>1</td>\n",
       "      <td>1</td>\n",
       "      <td>False</td>\n",
       "      <td>False</td>\n",
       "    </tr>\n",
       "    <tr>\n",
       "      <th>1</th>\n",
       "      <td>El ángulo $\\widehat{A}$.</td>\n",
       "      <td>[(2, 1), (6, 5), (5, 1)]</td>\n",
       "      <td>El ángulo mide: $45$</td>\n",
       "      <td>Dado el triángulo ABC de coordenadas A=(2, 1),...</td>\n",
       "      <td>1BC</td>\n",
       "      <td>Recuperación 2ª Ev.</td>\n",
       "      <td>ex13e01-0</td>\n",
       "      <td>5</td>\n",
       "      <td>1</td>\n",
       "      <td>1</td>\n",
       "      <td>False</td>\n",
       "      <td>False</td>\n",
       "    </tr>\n",
       "    <tr>\n",
       "      <th>2</th>\n",
       "      <td>El punto simétrico de C respecto a AB</td>\n",
       "      <td>[(2, 1), (6, 5), (5, 1)]</td>\n",
       "      <td>$r_{AB} \\equiv - 4 x + 4 y + 4=0$, \\\\ $t_{C}\\b...</td>\n",
       "      <td>Dado el triángulo ABC de coordenadas A=(2, 1),...</td>\n",
       "      <td>1BC</td>\n",
       "      <td>Recuperación 2ª Ev.</td>\n",
       "      <td>ex13e01-0</td>\n",
       "      <td>5</td>\n",
       "      <td>1</td>\n",
       "      <td>1</td>\n",
       "      <td>False</td>\n",
       "      <td>False</td>\n",
       "    </tr>\n",
       "    <tr>\n",
       "      <th>3</th>\n",
       "      <td>El área del triángulo</td>\n",
       "      <td>[(2, 1), (6, 5), (2, 4)]</td>\n",
       "      <td>\\\\La base mide: $4 \\sqrt{2}$ \\\\La altura mide:...</td>\n",
       "      <td>Dado el triángulo ABC de coordenadas A=(2, 1),...</td>\n",
       "      <td>1BC</td>\n",
       "      <td>Recuperación 2ª Ev.</td>\n",
       "      <td>ex13e01-1</td>\n",
       "      <td>5</td>\n",
       "      <td>1</td>\n",
       "      <td>1</td>\n",
       "      <td>False</td>\n",
       "      <td>False</td>\n",
       "    </tr>\n",
       "    <tr>\n",
       "      <th>4</th>\n",
       "      <td>El ángulo $\\widehat{A}$.</td>\n",
       "      <td>[(2, 1), (6, 5), (2, 4)]</td>\n",
       "      <td>El ángulo mide: $45$</td>\n",
       "      <td>Dado el triángulo ABC de coordenadas A=(2, 1),...</td>\n",
       "      <td>1BC</td>\n",
       "      <td>Recuperación 2ª Ev.</td>\n",
       "      <td>ex13e01-1</td>\n",
       "      <td>5</td>\n",
       "      <td>1</td>\n",
       "      <td>1</td>\n",
       "      <td>False</td>\n",
       "      <td>False</td>\n",
       "    </tr>\n",
       "    <tr>\n",
       "      <th>5</th>\n",
       "      <td>El punto simétrico de C respecto a AB</td>\n",
       "      <td>[(2, 1), (6, 5), (2, 4)]</td>\n",
       "      <td>$r_{AB} \\equiv - 4 x + 4 y + 4=0$, \\\\ $t_{C}\\b...</td>\n",
       "      <td>Dado el triángulo ABC de coordenadas A=(2, 1),...</td>\n",
       "      <td>1BC</td>\n",
       "      <td>Recuperación 2ª Ev.</td>\n",
       "      <td>ex13e01-1</td>\n",
       "      <td>5</td>\n",
       "      <td>1</td>\n",
       "      <td>1</td>\n",
       "      <td>False</td>\n",
       "      <td>False</td>\n",
       "    </tr>\n",
       "    <tr>\n",
       "      <th>6</th>\n",
       "      <td>2\\sin^2{x}+\\cos{2x}=4\\cos^2{x}</td>\n",
       "      <td>Eq(2*sin(x)**2 + cos(2*x), 4*cos(x)**2)</td>\n",
       "      <td>\\left [ -120, \\quad 120, \\quad -60, \\quad 60\\r...</td>\n",
       "      <td>Resuelve:</td>\n",
       "      <td>1BC</td>\n",
       "      <td>Recuperación 2ª Ev.</td>\n",
       "      <td>ex03e01b</td>\n",
       "      <td>1</td>\n",
       "      <td>1</td>\n",
       "      <td>1</td>\n",
       "      <td>True</td>\n",
       "      <td>True</td>\n",
       "    </tr>\n",
       "    <tr>\n",
       "      <th>7</th>\n",
       "      <td>\\cos^2{2x}=\\frac{1}{4}+\\sin{2x}</td>\n",
       "      <td>Eq(cos(2*x)**2, sin(2*x) + 1/4)</td>\n",
       "      <td>\\left [ 15, \\quad 75, \\quad \\frac{180 \\left(- ...</td>\n",
       "      <td>Resuelve:</td>\n",
       "      <td>1BC</td>\n",
       "      <td>Recuperación 2ª Ev.</td>\n",
       "      <td>ex03e01b</td>\n",
       "      <td>1</td>\n",
       "      <td>1</td>\n",
       "      <td>1</td>\n",
       "      <td>True</td>\n",
       "      <td>True</td>\n",
       "    </tr>\n",
       "    <tr>\n",
       "      <th>8</th>\n",
       "      <td>(k+2i)^2+(5+2i)</td>\n",
       "      <td>2*i + 5 + (2*i + k)**2</td>\n",
       "      <td>k^{2} + 4 i k + 1 + 2 i\\to\\left [ - \\frac{1}{2...</td>\n",
       "      <td>Determina el valor que debe tener k ($k \\in \\m...</td>\n",
       "      <td>1BC</td>\n",
       "      <td>Recuperación 2ª Ev.</td>\n",
       "      <td>ex13e02-0</td>\n",
       "      <td>1</td>\n",
       "      <td>2</td>\n",
       "      <td>1</td>\n",
       "      <td>True</td>\n",
       "      <td>True</td>\n",
       "    </tr>\n",
       "    <tr>\n",
       "      <th>9</th>\n",
       "      <td>(k-2i)^2+(-5+2i)</td>\n",
       "      <td>(-2*i + k)**2 + 2*i - 5</td>\n",
       "      <td>k^{2} - 4 i k - 9 + 2 i\\to\\left [ -3, \\quad 3\\...</td>\n",
       "      <td>Determina el valor que debe tener k ($k \\in \\m...</td>\n",
       "      <td>1BC</td>\n",
       "      <td>Recuperación 2ª Ev.</td>\n",
       "      <td>ex13e02-1</td>\n",
       "      <td>1</td>\n",
       "      <td>2</td>\n",
       "      <td>1</td>\n",
       "      <td>True</td>\n",
       "      <td>True</td>\n",
       "    </tr>\n",
       "    <tr>\n",
       "      <th>10</th>\n",
       "      <td>A(2, 2)\\  , \\ B=(-2, 4) \\ y \\  C \\in r\\equiv ...</td>\n",
       "      <td>[(2, 2), (-2, 4), '2x+y+1=0']</td>\n",
       "      <td>\\left [ \\left \\{ x : - \\frac{y}{2} - \\frac{1}{...</td>\n",
       "      <td>Halla el punto de la recta que equidista de lo...</td>\n",
       "      <td>1BC</td>\n",
       "      <td>Recuperación 2ª Ev.</td>\n",
       "      <td>ex13e03</td>\n",
       "      <td>2</td>\n",
       "      <td>1</td>\n",
       "      <td>1</td>\n",
       "      <td>True</td>\n",
       "      <td>True</td>\n",
       "    </tr>\n",
       "    <tr>\n",
       "      <th>11</th>\n",
       "      <td>2_{\\frac{\\pi}{4}}</td>\n",
       "      <td>[2, pi/4]</td>\n",
       "      <td>\\sqrt{2} + \\sqrt{2} i</td>\n",
       "      <td>Escribe en forma binómica los siguientes númer...</td>\n",
       "      <td>1BC</td>\n",
       "      <td>Recuperación 2ª Ev.</td>\n",
       "      <td>ex13e04</td>\n",
       "      <td>1</td>\n",
       "      <td>2</td>\n",
       "      <td>1</td>\n",
       "      <td>True</td>\n",
       "      <td>True</td>\n",
       "    </tr>\n",
       "    <tr>\n",
       "      <th>12</th>\n",
       "      <td>3_{\\frac{\\pi}{6}}</td>\n",
       "      <td>[3, pi/6]</td>\n",
       "      <td>\\frac{3 \\sqrt{3}}{2} + \\frac{3 i}{2}</td>\n",
       "      <td>Escribe en forma binómica los siguientes númer...</td>\n",
       "      <td>1BC</td>\n",
       "      <td>Recuperación 2ª Ev.</td>\n",
       "      <td>ex13e04</td>\n",
       "      <td>1</td>\n",
       "      <td>2</td>\n",
       "      <td>1</td>\n",
       "      <td>True</td>\n",
       "      <td>True</td>\n",
       "    </tr>\n",
       "    <tr>\n",
       "      <th>13</th>\n",
       "      <td>\\sqrt{2}_{\\pi}</td>\n",
       "      <td>[sqrt(2), pi]</td>\n",
       "      <td>- \\sqrt{2}</td>\n",
       "      <td>Escribe en forma binómica los siguientes númer...</td>\n",
       "      <td>1BC</td>\n",
       "      <td>Recuperación 2ª Ev.</td>\n",
       "      <td>ex13e04</td>\n",
       "      <td>1</td>\n",
       "      <td>2</td>\n",
       "      <td>1</td>\n",
       "      <td>True</td>\n",
       "      <td>True</td>\n",
       "    </tr>\n",
       "    <tr>\n",
       "      <th>14</th>\n",
       "      <td>3_{- \\frac{\\pi}{2}}</td>\n",
       "      <td>[3, -pi/2]</td>\n",
       "      <td>- 3 i</td>\n",
       "      <td>Escribe en forma binómica los siguientes númer...</td>\n",
       "      <td>1BC</td>\n",
       "      <td>Recuperación 2ª Ev.</td>\n",
       "      <td>ex13e04</td>\n",
       "      <td>1</td>\n",
       "      <td>2</td>\n",
       "      <td>1</td>\n",
       "      <td>True</td>\n",
       "      <td>True</td>\n",
       "    </tr>\n",
       "  </tbody>\n",
       "</table>\n",
       "</div>"
      ],
      "text/plain": [
       "                                      enunciado_latex  \\\n",
       "0                               El área del triángulo   \n",
       "1                            El ángulo $\\widehat{A}$.   \n",
       "2               El punto simétrico de C respecto a AB   \n",
       "3                               El área del triángulo   \n",
       "4                            El ángulo $\\widehat{A}$.   \n",
       "5               El punto simétrico de C respecto a AB   \n",
       "6                      2\\sin^2{x}+\\cos{2x}=4\\cos^2{x}   \n",
       "7                     \\cos^2{2x}=\\frac{1}{4}+\\sin{2x}   \n",
       "8                                     (k+2i)^2+(5+2i)   \n",
       "9                                    (k-2i)^2+(-5+2i)   \n",
       "10   A(2, 2)\\  , \\ B=(-2, 4) \\ y \\  C \\in r\\equiv ...   \n",
       "11                                  2_{\\frac{\\pi}{4}}   \n",
       "12                                  3_{\\frac{\\pi}{6}}   \n",
       "13                                     \\sqrt{2}_{\\pi}   \n",
       "14                                3_{- \\frac{\\pi}{2}}   \n",
       "\n",
       "                                  enunciado  \\\n",
       "0                  [(2, 1), (6, 5), (5, 1)]   \n",
       "1                  [(2, 1), (6, 5), (5, 1)]   \n",
       "2                  [(2, 1), (6, 5), (5, 1)]   \n",
       "3                  [(2, 1), (6, 5), (2, 4)]   \n",
       "4                  [(2, 1), (6, 5), (2, 4)]   \n",
       "5                  [(2, 1), (6, 5), (2, 4)]   \n",
       "6   Eq(2*sin(x)**2 + cos(2*x), 4*cos(x)**2)   \n",
       "7           Eq(cos(2*x)**2, sin(2*x) + 1/4)   \n",
       "8                    2*i + 5 + (2*i + k)**2   \n",
       "9                   (-2*i + k)**2 + 2*i - 5   \n",
       "10            [(2, 2), (-2, 4), '2x+y+1=0']   \n",
       "11                                [2, pi/4]   \n",
       "12                                [3, pi/6]   \n",
       "13                            [sqrt(2), pi]   \n",
       "14                               [3, -pi/2]   \n",
       "\n",
       "                                             solucion  \\\n",
       "0   \\\\La base mide: $4 \\sqrt{2}$ \\\\La altura mide:...   \n",
       "1                                El ángulo mide: $45$   \n",
       "2   $r_{AB} \\equiv - 4 x + 4 y + 4=0$, \\\\ $t_{C}\\b...   \n",
       "3   \\\\La base mide: $4 \\sqrt{2}$ \\\\La altura mide:...   \n",
       "4                                El ángulo mide: $45$   \n",
       "5   $r_{AB} \\equiv - 4 x + 4 y + 4=0$, \\\\ $t_{C}\\b...   \n",
       "6   \\left [ -120, \\quad 120, \\quad -60, \\quad 60\\r...   \n",
       "7   \\left [ 15, \\quad 75, \\quad \\frac{180 \\left(- ...   \n",
       "8   k^{2} + 4 i k + 1 + 2 i\\to\\left [ - \\frac{1}{2...   \n",
       "9   k^{2} - 4 i k - 9 + 2 i\\to\\left [ -3, \\quad 3\\...   \n",
       "10  \\left [ \\left \\{ x : - \\frac{y}{2} - \\frac{1}{...   \n",
       "11                              \\sqrt{2} + \\sqrt{2} i   \n",
       "12               \\frac{3 \\sqrt{3}}{2} + \\frac{3 i}{2}   \n",
       "13                                         - \\sqrt{2}   \n",
       "14                                              - 3 i   \n",
       "\n",
       "                                                texto curso  \\\n",
       "0   Dado el triángulo ABC de coordenadas A=(2, 1),...   1BC   \n",
       "1   Dado el triángulo ABC de coordenadas A=(2, 1),...   1BC   \n",
       "2   Dado el triángulo ABC de coordenadas A=(2, 1),...   1BC   \n",
       "3   Dado el triángulo ABC de coordenadas A=(2, 1),...   1BC   \n",
       "4   Dado el triángulo ABC de coordenadas A=(2, 1),...   1BC   \n",
       "5   Dado el triángulo ABC de coordenadas A=(2, 1),...   1BC   \n",
       "6                                           Resuelve:   1BC   \n",
       "7                                           Resuelve:   1BC   \n",
       "8   Determina el valor que debe tener k ($k \\in \\m...   1BC   \n",
       "9   Determina el valor que debe tener k ($k \\in \\m...   1BC   \n",
       "10  Halla el punto de la recta que equidista de lo...   1BC   \n",
       "11  Escribe en forma binómica los siguientes númer...   1BC   \n",
       "12  Escribe en forma binómica los siguientes númer...   1BC   \n",
       "13  Escribe en forma binómica los siguientes númer...   1BC   \n",
       "14  Escribe en forma binómica los siguientes númer...   1BC   \n",
       "\n",
       "                 titulo n_ejercicio dificultad n_columnas puntos  enun_tex  \\\n",
       "0   Recuperación 2ª Ev.   ex13e01-0          5          1      1     False   \n",
       "1   Recuperación 2ª Ev.   ex13e01-0          5          1      1     False   \n",
       "2   Recuperación 2ª Ev.   ex13e01-0          5          1      1     False   \n",
       "3   Recuperación 2ª Ev.   ex13e01-1          5          1      1     False   \n",
       "4   Recuperación 2ª Ev.   ex13e01-1          5          1      1     False   \n",
       "5   Recuperación 2ª Ev.   ex13e01-1          5          1      1     False   \n",
       "6   Recuperación 2ª Ev.    ex03e01b          1          1      1      True   \n",
       "7   Recuperación 2ª Ev.    ex03e01b          1          1      1      True   \n",
       "8   Recuperación 2ª Ev.   ex13e02-0          1          2      1      True   \n",
       "9   Recuperación 2ª Ev.   ex13e02-1          1          2      1      True   \n",
       "10  Recuperación 2ª Ev.     ex13e03          2          1      1      True   \n",
       "11  Recuperación 2ª Ev.     ex13e04          1          2      1      True   \n",
       "12  Recuperación 2ª Ev.     ex13e04          1          2      1      True   \n",
       "13  Recuperación 2ª Ev.     ex13e04          1          2      1      True   \n",
       "14  Recuperación 2ª Ev.     ex13e04          1          2      1      True   \n",
       "\n",
       "    sol_tex  \n",
       "0     False  \n",
       "1     False  \n",
       "2     False  \n",
       "3     False  \n",
       "4     False  \n",
       "5     False  \n",
       "6      True  \n",
       "7      True  \n",
       "8      True  \n",
       "9      True  \n",
       "10     True  \n",
       "11     True  \n",
       "12     True  \n",
       "13     True  \n",
       "14     True  "
      ]
     },
     "execution_count": 10,
     "metadata": {},
     "output_type": "execute_result"
    }
   ],
   "source": [
    "df_ejercicios"
   ]
  },
  {
   "cell_type": "code",
   "execution_count": 11,
   "metadata": {},
   "outputs": [
    {
     "data": {
      "text/markdown": [
       "**Ejercicio: **ex03e01b"
      ],
      "text/plain": [
       "<IPython.core.display.Markdown object>"
      ]
     },
     "metadata": {},
     "output_type": "display_data"
    },
    {
     "data": {
      "text/html": [
       "<div>\n",
       "<style scoped>\n",
       "    .dataframe tbody tr th:only-of-type {\n",
       "        vertical-align: middle;\n",
       "    }\n",
       "\n",
       "    .dataframe tbody tr th {\n",
       "        vertical-align: top;\n",
       "    }\n",
       "\n",
       "    .dataframe thead th {\n",
       "        text-align: right;\n",
       "    }\n",
       "</style>\n",
       "<table border=\"1\" class=\"dataframe\">\n",
       "  <thead>\n",
       "    <tr style=\"text-align: right;\">\n",
       "      <th></th>\n",
       "      <th>enunciado_latex</th>\n",
       "      <th>enunciado</th>\n",
       "      <th>solucion</th>\n",
       "      <th>texto</th>\n",
       "      <th>curso</th>\n",
       "      <th>titulo</th>\n",
       "      <th>n_ejercicio</th>\n",
       "      <th>dificultad</th>\n",
       "      <th>n_columnas</th>\n",
       "      <th>puntos</th>\n",
       "      <th>enun_tex</th>\n",
       "      <th>sol_tex</th>\n",
       "    </tr>\n",
       "  </thead>\n",
       "  <tbody>\n",
       "    <tr>\n",
       "      <th>6</th>\n",
       "      <td>2\\sin^2{x}+\\cos{2x}=4\\cos^2{x}</td>\n",
       "      <td>Eq(2*sin(x)**2 + cos(2*x), 4*cos(x)**2)</td>\n",
       "      <td>\\left [ -120, \\quad 120, \\quad -60, \\quad 60\\r...</td>\n",
       "      <td>Resuelve:</td>\n",
       "      <td>1BC</td>\n",
       "      <td>Recuperación 2ª Ev.</td>\n",
       "      <td>ex03e01b</td>\n",
       "      <td>1</td>\n",
       "      <td>1</td>\n",
       "      <td>1</td>\n",
       "      <td>True</td>\n",
       "      <td>True</td>\n",
       "    </tr>\n",
       "    <tr>\n",
       "      <th>7</th>\n",
       "      <td>\\cos^2{2x}=\\frac{1}{4}+\\sin{2x}</td>\n",
       "      <td>Eq(cos(2*x)**2, sin(2*x) + 1/4)</td>\n",
       "      <td>\\left [ 15, \\quad 75, \\quad \\frac{180 \\left(- ...</td>\n",
       "      <td>Resuelve:</td>\n",
       "      <td>1BC</td>\n",
       "      <td>Recuperación 2ª Ev.</td>\n",
       "      <td>ex03e01b</td>\n",
       "      <td>1</td>\n",
       "      <td>1</td>\n",
       "      <td>1</td>\n",
       "      <td>True</td>\n",
       "      <td>True</td>\n",
       "    </tr>\n",
       "  </tbody>\n",
       "</table>\n",
       "</div>"
      ],
      "text/plain": [
       "                   enunciado_latex                                enunciado  \\\n",
       "6   2\\sin^2{x}+\\cos{2x}=4\\cos^2{x}  Eq(2*sin(x)**2 + cos(2*x), 4*cos(x)**2)   \n",
       "7  \\cos^2{2x}=\\frac{1}{4}+\\sin{2x}          Eq(cos(2*x)**2, sin(2*x) + 1/4)   \n",
       "\n",
       "                                            solucion      texto curso  \\\n",
       "6  \\left [ -120, \\quad 120, \\quad -60, \\quad 60\\r...  Resuelve:   1BC   \n",
       "7  \\left [ 15, \\quad 75, \\quad \\frac{180 \\left(- ...  Resuelve:   1BC   \n",
       "\n",
       "                titulo n_ejercicio  dificultad  n_columnas  puntos  enun_tex  \\\n",
       "6  Recuperación 2ª Ev.    ex03e01b           1           1       1      True   \n",
       "7  Recuperación 2ª Ev.    ex03e01b           1           1       1      True   \n",
       "\n",
       "   sol_tex  \n",
       "6     True  \n",
       "7     True  "
      ]
     },
     "metadata": {},
     "output_type": "display_data"
    },
    {
     "data": {
      "text/markdown": [
       "**Ejercicio: **ex13e01-0"
      ],
      "text/plain": [
       "<IPython.core.display.Markdown object>"
      ]
     },
     "metadata": {},
     "output_type": "display_data"
    },
    {
     "data": {
      "text/html": [
       "<div>\n",
       "<style scoped>\n",
       "    .dataframe tbody tr th:only-of-type {\n",
       "        vertical-align: middle;\n",
       "    }\n",
       "\n",
       "    .dataframe tbody tr th {\n",
       "        vertical-align: top;\n",
       "    }\n",
       "\n",
       "    .dataframe thead th {\n",
       "        text-align: right;\n",
       "    }\n",
       "</style>\n",
       "<table border=\"1\" class=\"dataframe\">\n",
       "  <thead>\n",
       "    <tr style=\"text-align: right;\">\n",
       "      <th></th>\n",
       "      <th>enunciado_latex</th>\n",
       "      <th>enunciado</th>\n",
       "      <th>solucion</th>\n",
       "      <th>texto</th>\n",
       "      <th>curso</th>\n",
       "      <th>titulo</th>\n",
       "      <th>n_ejercicio</th>\n",
       "      <th>dificultad</th>\n",
       "      <th>n_columnas</th>\n",
       "      <th>puntos</th>\n",
       "      <th>enun_tex</th>\n",
       "      <th>sol_tex</th>\n",
       "    </tr>\n",
       "  </thead>\n",
       "  <tbody>\n",
       "    <tr>\n",
       "      <th>0</th>\n",
       "      <td>El área del triángulo</td>\n",
       "      <td>[(2, 1), (6, 5), (5, 1)]</td>\n",
       "      <td>\\\\La base mide: $4 \\sqrt{2}$ \\\\La altura mide:...</td>\n",
       "      <td>Dado el triángulo ABC de coordenadas A=(2, 1),...</td>\n",
       "      <td>1BC</td>\n",
       "      <td>Recuperación 2ª Ev.</td>\n",
       "      <td>ex13e01-0</td>\n",
       "      <td>5</td>\n",
       "      <td>1</td>\n",
       "      <td>1</td>\n",
       "      <td>False</td>\n",
       "      <td>False</td>\n",
       "    </tr>\n",
       "    <tr>\n",
       "      <th>1</th>\n",
       "      <td>El ángulo $\\widehat{A}$.</td>\n",
       "      <td>[(2, 1), (6, 5), (5, 1)]</td>\n",
       "      <td>El ángulo mide: $45$</td>\n",
       "      <td>Dado el triángulo ABC de coordenadas A=(2, 1),...</td>\n",
       "      <td>1BC</td>\n",
       "      <td>Recuperación 2ª Ev.</td>\n",
       "      <td>ex13e01-0</td>\n",
       "      <td>5</td>\n",
       "      <td>1</td>\n",
       "      <td>1</td>\n",
       "      <td>False</td>\n",
       "      <td>False</td>\n",
       "    </tr>\n",
       "    <tr>\n",
       "      <th>2</th>\n",
       "      <td>El punto simétrico de C respecto a AB</td>\n",
       "      <td>[(2, 1), (6, 5), (5, 1)]</td>\n",
       "      <td>$r_{AB} \\equiv - 4 x + 4 y + 4=0$, \\\\ $t_{C}\\b...</td>\n",
       "      <td>Dado el triángulo ABC de coordenadas A=(2, 1),...</td>\n",
       "      <td>1BC</td>\n",
       "      <td>Recuperación 2ª Ev.</td>\n",
       "      <td>ex13e01-0</td>\n",
       "      <td>5</td>\n",
       "      <td>1</td>\n",
       "      <td>1</td>\n",
       "      <td>False</td>\n",
       "      <td>False</td>\n",
       "    </tr>\n",
       "  </tbody>\n",
       "</table>\n",
       "</div>"
      ],
      "text/plain": [
       "                         enunciado_latex                 enunciado  \\\n",
       "0                  El área del triángulo  [(2, 1), (6, 5), (5, 1)]   \n",
       "1               El ángulo $\\widehat{A}$.  [(2, 1), (6, 5), (5, 1)]   \n",
       "2  El punto simétrico de C respecto a AB  [(2, 1), (6, 5), (5, 1)]   \n",
       "\n",
       "                                            solucion  \\\n",
       "0  \\\\La base mide: $4 \\sqrt{2}$ \\\\La altura mide:...   \n",
       "1                               El ángulo mide: $45$   \n",
       "2  $r_{AB} \\equiv - 4 x + 4 y + 4=0$, \\\\ $t_{C}\\b...   \n",
       "\n",
       "                                               texto curso  \\\n",
       "0  Dado el triángulo ABC de coordenadas A=(2, 1),...   1BC   \n",
       "1  Dado el triángulo ABC de coordenadas A=(2, 1),...   1BC   \n",
       "2  Dado el triángulo ABC de coordenadas A=(2, 1),...   1BC   \n",
       "\n",
       "                titulo n_ejercicio  dificultad  n_columnas  puntos  enun_tex  \\\n",
       "0  Recuperación 2ª Ev.   ex13e01-0           5           1       1     False   \n",
       "1  Recuperación 2ª Ev.   ex13e01-0           5           1       1     False   \n",
       "2  Recuperación 2ª Ev.   ex13e01-0           5           1       1     False   \n",
       "\n",
       "   sol_tex  \n",
       "0    False  \n",
       "1    False  \n",
       "2    False  "
      ]
     },
     "metadata": {},
     "output_type": "display_data"
    },
    {
     "data": {
      "text/markdown": [
       "**Ejercicio: **ex13e01-1"
      ],
      "text/plain": [
       "<IPython.core.display.Markdown object>"
      ]
     },
     "metadata": {},
     "output_type": "display_data"
    },
    {
     "data": {
      "text/html": [
       "<div>\n",
       "<style scoped>\n",
       "    .dataframe tbody tr th:only-of-type {\n",
       "        vertical-align: middle;\n",
       "    }\n",
       "\n",
       "    .dataframe tbody tr th {\n",
       "        vertical-align: top;\n",
       "    }\n",
       "\n",
       "    .dataframe thead th {\n",
       "        text-align: right;\n",
       "    }\n",
       "</style>\n",
       "<table border=\"1\" class=\"dataframe\">\n",
       "  <thead>\n",
       "    <tr style=\"text-align: right;\">\n",
       "      <th></th>\n",
       "      <th>enunciado_latex</th>\n",
       "      <th>enunciado</th>\n",
       "      <th>solucion</th>\n",
       "      <th>texto</th>\n",
       "      <th>curso</th>\n",
       "      <th>titulo</th>\n",
       "      <th>n_ejercicio</th>\n",
       "      <th>dificultad</th>\n",
       "      <th>n_columnas</th>\n",
       "      <th>puntos</th>\n",
       "      <th>enun_tex</th>\n",
       "      <th>sol_tex</th>\n",
       "    </tr>\n",
       "  </thead>\n",
       "  <tbody>\n",
       "    <tr>\n",
       "      <th>3</th>\n",
       "      <td>El área del triángulo</td>\n",
       "      <td>[(2, 1), (6, 5), (2, 4)]</td>\n",
       "      <td>\\\\La base mide: $4 \\sqrt{2}$ \\\\La altura mide:...</td>\n",
       "      <td>Dado el triángulo ABC de coordenadas A=(2, 1),...</td>\n",
       "      <td>1BC</td>\n",
       "      <td>Recuperación 2ª Ev.</td>\n",
       "      <td>ex13e01-1</td>\n",
       "      <td>5</td>\n",
       "      <td>1</td>\n",
       "      <td>1</td>\n",
       "      <td>False</td>\n",
       "      <td>False</td>\n",
       "    </tr>\n",
       "    <tr>\n",
       "      <th>4</th>\n",
       "      <td>El ángulo $\\widehat{A}$.</td>\n",
       "      <td>[(2, 1), (6, 5), (2, 4)]</td>\n",
       "      <td>El ángulo mide: $45$</td>\n",
       "      <td>Dado el triángulo ABC de coordenadas A=(2, 1),...</td>\n",
       "      <td>1BC</td>\n",
       "      <td>Recuperación 2ª Ev.</td>\n",
       "      <td>ex13e01-1</td>\n",
       "      <td>5</td>\n",
       "      <td>1</td>\n",
       "      <td>1</td>\n",
       "      <td>False</td>\n",
       "      <td>False</td>\n",
       "    </tr>\n",
       "    <tr>\n",
       "      <th>5</th>\n",
       "      <td>El punto simétrico de C respecto a AB</td>\n",
       "      <td>[(2, 1), (6, 5), (2, 4)]</td>\n",
       "      <td>$r_{AB} \\equiv - 4 x + 4 y + 4=0$, \\\\ $t_{C}\\b...</td>\n",
       "      <td>Dado el triángulo ABC de coordenadas A=(2, 1),...</td>\n",
       "      <td>1BC</td>\n",
       "      <td>Recuperación 2ª Ev.</td>\n",
       "      <td>ex13e01-1</td>\n",
       "      <td>5</td>\n",
       "      <td>1</td>\n",
       "      <td>1</td>\n",
       "      <td>False</td>\n",
       "      <td>False</td>\n",
       "    </tr>\n",
       "  </tbody>\n",
       "</table>\n",
       "</div>"
      ],
      "text/plain": [
       "                         enunciado_latex                 enunciado  \\\n",
       "3                  El área del triángulo  [(2, 1), (6, 5), (2, 4)]   \n",
       "4               El ángulo $\\widehat{A}$.  [(2, 1), (6, 5), (2, 4)]   \n",
       "5  El punto simétrico de C respecto a AB  [(2, 1), (6, 5), (2, 4)]   \n",
       "\n",
       "                                            solucion  \\\n",
       "3  \\\\La base mide: $4 \\sqrt{2}$ \\\\La altura mide:...   \n",
       "4                               El ángulo mide: $45$   \n",
       "5  $r_{AB} \\equiv - 4 x + 4 y + 4=0$, \\\\ $t_{C}\\b...   \n",
       "\n",
       "                                               texto curso  \\\n",
       "3  Dado el triángulo ABC de coordenadas A=(2, 1),...   1BC   \n",
       "4  Dado el triángulo ABC de coordenadas A=(2, 1),...   1BC   \n",
       "5  Dado el triángulo ABC de coordenadas A=(2, 1),...   1BC   \n",
       "\n",
       "                titulo n_ejercicio  dificultad  n_columnas  puntos  enun_tex  \\\n",
       "3  Recuperación 2ª Ev.   ex13e01-1           5           1       1     False   \n",
       "4  Recuperación 2ª Ev.   ex13e01-1           5           1       1     False   \n",
       "5  Recuperación 2ª Ev.   ex13e01-1           5           1       1     False   \n",
       "\n",
       "   sol_tex  \n",
       "3    False  \n",
       "4    False  \n",
       "5    False  "
      ]
     },
     "metadata": {},
     "output_type": "display_data"
    },
    {
     "data": {
      "text/markdown": [
       "**Ejercicio: **ex13e02-0"
      ],
      "text/plain": [
       "<IPython.core.display.Markdown object>"
      ]
     },
     "metadata": {},
     "output_type": "display_data"
    },
    {
     "data": {
      "text/html": [
       "<div>\n",
       "<style scoped>\n",
       "    .dataframe tbody tr th:only-of-type {\n",
       "        vertical-align: middle;\n",
       "    }\n",
       "\n",
       "    .dataframe tbody tr th {\n",
       "        vertical-align: top;\n",
       "    }\n",
       "\n",
       "    .dataframe thead th {\n",
       "        text-align: right;\n",
       "    }\n",
       "</style>\n",
       "<table border=\"1\" class=\"dataframe\">\n",
       "  <thead>\n",
       "    <tr style=\"text-align: right;\">\n",
       "      <th></th>\n",
       "      <th>enunciado_latex</th>\n",
       "      <th>enunciado</th>\n",
       "      <th>solucion</th>\n",
       "      <th>texto</th>\n",
       "      <th>curso</th>\n",
       "      <th>titulo</th>\n",
       "      <th>n_ejercicio</th>\n",
       "      <th>dificultad</th>\n",
       "      <th>n_columnas</th>\n",
       "      <th>puntos</th>\n",
       "      <th>enun_tex</th>\n",
       "      <th>sol_tex</th>\n",
       "    </tr>\n",
       "  </thead>\n",
       "  <tbody>\n",
       "    <tr>\n",
       "      <th>8</th>\n",
       "      <td>(k+2i)^2+(5+2i)</td>\n",
       "      <td>2*i + 5 + (2*i + k)**2</td>\n",
       "      <td>k^{2} + 4 i k + 1 + 2 i\\to\\left [ - \\frac{1}{2...</td>\n",
       "      <td>Determina el valor que debe tener k ($k \\in \\m...</td>\n",
       "      <td>1BC</td>\n",
       "      <td>Recuperación 2ª Ev.</td>\n",
       "      <td>ex13e02-0</td>\n",
       "      <td>1</td>\n",
       "      <td>2</td>\n",
       "      <td>1</td>\n",
       "      <td>True</td>\n",
       "      <td>True</td>\n",
       "    </tr>\n",
       "  </tbody>\n",
       "</table>\n",
       "</div>"
      ],
      "text/plain": [
       "   enunciado_latex               enunciado  \\\n",
       "8  (k+2i)^2+(5+2i)  2*i + 5 + (2*i + k)**2   \n",
       "\n",
       "                                            solucion  \\\n",
       "8  k^{2} + 4 i k + 1 + 2 i\\to\\left [ - \\frac{1}{2...   \n",
       "\n",
       "                                               texto curso  \\\n",
       "8  Determina el valor que debe tener k ($k \\in \\m...   1BC   \n",
       "\n",
       "                titulo n_ejercicio  dificultad  n_columnas  puntos  enun_tex  \\\n",
       "8  Recuperación 2ª Ev.   ex13e02-0           1           2       1      True   \n",
       "\n",
       "   sol_tex  \n",
       "8     True  "
      ]
     },
     "metadata": {},
     "output_type": "display_data"
    },
    {
     "data": {
      "text/markdown": [
       "**Ejercicio: **ex13e02-1"
      ],
      "text/plain": [
       "<IPython.core.display.Markdown object>"
      ]
     },
     "metadata": {},
     "output_type": "display_data"
    },
    {
     "data": {
      "text/html": [
       "<div>\n",
       "<style scoped>\n",
       "    .dataframe tbody tr th:only-of-type {\n",
       "        vertical-align: middle;\n",
       "    }\n",
       "\n",
       "    .dataframe tbody tr th {\n",
       "        vertical-align: top;\n",
       "    }\n",
       "\n",
       "    .dataframe thead th {\n",
       "        text-align: right;\n",
       "    }\n",
       "</style>\n",
       "<table border=\"1\" class=\"dataframe\">\n",
       "  <thead>\n",
       "    <tr style=\"text-align: right;\">\n",
       "      <th></th>\n",
       "      <th>enunciado_latex</th>\n",
       "      <th>enunciado</th>\n",
       "      <th>solucion</th>\n",
       "      <th>texto</th>\n",
       "      <th>curso</th>\n",
       "      <th>titulo</th>\n",
       "      <th>n_ejercicio</th>\n",
       "      <th>dificultad</th>\n",
       "      <th>n_columnas</th>\n",
       "      <th>puntos</th>\n",
       "      <th>enun_tex</th>\n",
       "      <th>sol_tex</th>\n",
       "    </tr>\n",
       "  </thead>\n",
       "  <tbody>\n",
       "    <tr>\n",
       "      <th>9</th>\n",
       "      <td>(k-2i)^2+(-5+2i)</td>\n",
       "      <td>(-2*i + k)**2 + 2*i - 5</td>\n",
       "      <td>k^{2} - 4 i k - 9 + 2 i\\to\\left [ -3, \\quad 3\\...</td>\n",
       "      <td>Determina el valor que debe tener k ($k \\in \\m...</td>\n",
       "      <td>1BC</td>\n",
       "      <td>Recuperación 2ª Ev.</td>\n",
       "      <td>ex13e02-1</td>\n",
       "      <td>1</td>\n",
       "      <td>2</td>\n",
       "      <td>1</td>\n",
       "      <td>True</td>\n",
       "      <td>True</td>\n",
       "    </tr>\n",
       "  </tbody>\n",
       "</table>\n",
       "</div>"
      ],
      "text/plain": [
       "    enunciado_latex                enunciado  \\\n",
       "9  (k-2i)^2+(-5+2i)  (-2*i + k)**2 + 2*i - 5   \n",
       "\n",
       "                                            solucion  \\\n",
       "9  k^{2} - 4 i k - 9 + 2 i\\to\\left [ -3, \\quad 3\\...   \n",
       "\n",
       "                                               texto curso  \\\n",
       "9  Determina el valor que debe tener k ($k \\in \\m...   1BC   \n",
       "\n",
       "                titulo n_ejercicio  dificultad  n_columnas  puntos  enun_tex  \\\n",
       "9  Recuperación 2ª Ev.   ex13e02-1           1           2       1      True   \n",
       "\n",
       "   sol_tex  \n",
       "9     True  "
      ]
     },
     "metadata": {},
     "output_type": "display_data"
    },
    {
     "data": {
      "text/markdown": [
       "**Ejercicio: **ex13e03"
      ],
      "text/plain": [
       "<IPython.core.display.Markdown object>"
      ]
     },
     "metadata": {},
     "output_type": "display_data"
    },
    {
     "data": {
      "text/html": [
       "<div>\n",
       "<style scoped>\n",
       "    .dataframe tbody tr th:only-of-type {\n",
       "        vertical-align: middle;\n",
       "    }\n",
       "\n",
       "    .dataframe tbody tr th {\n",
       "        vertical-align: top;\n",
       "    }\n",
       "\n",
       "    .dataframe thead th {\n",
       "        text-align: right;\n",
       "    }\n",
       "</style>\n",
       "<table border=\"1\" class=\"dataframe\">\n",
       "  <thead>\n",
       "    <tr style=\"text-align: right;\">\n",
       "      <th></th>\n",
       "      <th>enunciado_latex</th>\n",
       "      <th>enunciado</th>\n",
       "      <th>solucion</th>\n",
       "      <th>texto</th>\n",
       "      <th>curso</th>\n",
       "      <th>titulo</th>\n",
       "      <th>n_ejercicio</th>\n",
       "      <th>dificultad</th>\n",
       "      <th>n_columnas</th>\n",
       "      <th>puntos</th>\n",
       "      <th>enun_tex</th>\n",
       "      <th>sol_tex</th>\n",
       "    </tr>\n",
       "  </thead>\n",
       "  <tbody>\n",
       "    <tr>\n",
       "      <th>10</th>\n",
       "      <td>A(2, 2)\\  , \\ B=(-2, 4) \\ y \\  C \\in r\\equiv ...</td>\n",
       "      <td>[(2, 2), (-2, 4), '2x+y+1=0']</td>\n",
       "      <td>\\left [ \\left \\{ x : - \\frac{y}{2} - \\frac{1}{...</td>\n",
       "      <td>Halla el punto de la recta que equidista de lo...</td>\n",
       "      <td>1BC</td>\n",
       "      <td>Recuperación 2ª Ev.</td>\n",
       "      <td>ex13e03</td>\n",
       "      <td>2</td>\n",
       "      <td>1</td>\n",
       "      <td>1</td>\n",
       "      <td>True</td>\n",
       "      <td>True</td>\n",
       "    </tr>\n",
       "  </tbody>\n",
       "</table>\n",
       "</div>"
      ],
      "text/plain": [
       "                                      enunciado_latex  \\\n",
       "10   A(2, 2)\\  , \\ B=(-2, 4) \\ y \\  C \\in r\\equiv ...   \n",
       "\n",
       "                        enunciado  \\\n",
       "10  [(2, 2), (-2, 4), '2x+y+1=0']   \n",
       "\n",
       "                                             solucion  \\\n",
       "10  \\left [ \\left \\{ x : - \\frac{y}{2} - \\frac{1}{...   \n",
       "\n",
       "                                                texto curso  \\\n",
       "10  Halla el punto de la recta que equidista de lo...   1BC   \n",
       "\n",
       "                 titulo n_ejercicio  dificultad  n_columnas  puntos  enun_tex  \\\n",
       "10  Recuperación 2ª Ev.     ex13e03           2           1       1      True   \n",
       "\n",
       "    sol_tex  \n",
       "10     True  "
      ]
     },
     "metadata": {},
     "output_type": "display_data"
    },
    {
     "data": {
      "text/markdown": [
       "**Ejercicio: **ex13e04"
      ],
      "text/plain": [
       "<IPython.core.display.Markdown object>"
      ]
     },
     "metadata": {},
     "output_type": "display_data"
    },
    {
     "data": {
      "text/html": [
       "<div>\n",
       "<style scoped>\n",
       "    .dataframe tbody tr th:only-of-type {\n",
       "        vertical-align: middle;\n",
       "    }\n",
       "\n",
       "    .dataframe tbody tr th {\n",
       "        vertical-align: top;\n",
       "    }\n",
       "\n",
       "    .dataframe thead th {\n",
       "        text-align: right;\n",
       "    }\n",
       "</style>\n",
       "<table border=\"1\" class=\"dataframe\">\n",
       "  <thead>\n",
       "    <tr style=\"text-align: right;\">\n",
       "      <th></th>\n",
       "      <th>enunciado_latex</th>\n",
       "      <th>enunciado</th>\n",
       "      <th>solucion</th>\n",
       "      <th>texto</th>\n",
       "      <th>curso</th>\n",
       "      <th>titulo</th>\n",
       "      <th>n_ejercicio</th>\n",
       "      <th>dificultad</th>\n",
       "      <th>n_columnas</th>\n",
       "      <th>puntos</th>\n",
       "      <th>enun_tex</th>\n",
       "      <th>sol_tex</th>\n",
       "    </tr>\n",
       "  </thead>\n",
       "  <tbody>\n",
       "    <tr>\n",
       "      <th>11</th>\n",
       "      <td>2_{\\frac{\\pi}{4}}</td>\n",
       "      <td>[2, pi/4]</td>\n",
       "      <td>\\sqrt{2} + \\sqrt{2} i</td>\n",
       "      <td>Escribe en forma binómica los siguientes númer...</td>\n",
       "      <td>1BC</td>\n",
       "      <td>Recuperación 2ª Ev.</td>\n",
       "      <td>ex13e04</td>\n",
       "      <td>1</td>\n",
       "      <td>2</td>\n",
       "      <td>1</td>\n",
       "      <td>True</td>\n",
       "      <td>True</td>\n",
       "    </tr>\n",
       "    <tr>\n",
       "      <th>12</th>\n",
       "      <td>3_{\\frac{\\pi}{6}}</td>\n",
       "      <td>[3, pi/6]</td>\n",
       "      <td>\\frac{3 \\sqrt{3}}{2} + \\frac{3 i}{2}</td>\n",
       "      <td>Escribe en forma binómica los siguientes númer...</td>\n",
       "      <td>1BC</td>\n",
       "      <td>Recuperación 2ª Ev.</td>\n",
       "      <td>ex13e04</td>\n",
       "      <td>1</td>\n",
       "      <td>2</td>\n",
       "      <td>1</td>\n",
       "      <td>True</td>\n",
       "      <td>True</td>\n",
       "    </tr>\n",
       "    <tr>\n",
       "      <th>13</th>\n",
       "      <td>\\sqrt{2}_{\\pi}</td>\n",
       "      <td>[sqrt(2), pi]</td>\n",
       "      <td>- \\sqrt{2}</td>\n",
       "      <td>Escribe en forma binómica los siguientes númer...</td>\n",
       "      <td>1BC</td>\n",
       "      <td>Recuperación 2ª Ev.</td>\n",
       "      <td>ex13e04</td>\n",
       "      <td>1</td>\n",
       "      <td>2</td>\n",
       "      <td>1</td>\n",
       "      <td>True</td>\n",
       "      <td>True</td>\n",
       "    </tr>\n",
       "    <tr>\n",
       "      <th>14</th>\n",
       "      <td>3_{- \\frac{\\pi}{2}}</td>\n",
       "      <td>[3, -pi/2]</td>\n",
       "      <td>- 3 i</td>\n",
       "      <td>Escribe en forma binómica los siguientes númer...</td>\n",
       "      <td>1BC</td>\n",
       "      <td>Recuperación 2ª Ev.</td>\n",
       "      <td>ex13e04</td>\n",
       "      <td>1</td>\n",
       "      <td>2</td>\n",
       "      <td>1</td>\n",
       "      <td>True</td>\n",
       "      <td>True</td>\n",
       "    </tr>\n",
       "  </tbody>\n",
       "</table>\n",
       "</div>"
      ],
      "text/plain": [
       "        enunciado_latex      enunciado                              solucion  \\\n",
       "11    2_{\\frac{\\pi}{4}}      [2, pi/4]                 \\sqrt{2} + \\sqrt{2} i   \n",
       "12    3_{\\frac{\\pi}{6}}      [3, pi/6]  \\frac{3 \\sqrt{3}}{2} + \\frac{3 i}{2}   \n",
       "13       \\sqrt{2}_{\\pi}  [sqrt(2), pi]                            - \\sqrt{2}   \n",
       "14  3_{- \\frac{\\pi}{2}}     [3, -pi/2]                                 - 3 i   \n",
       "\n",
       "                                                texto curso  \\\n",
       "11  Escribe en forma binómica los siguientes númer...   1BC   \n",
       "12  Escribe en forma binómica los siguientes númer...   1BC   \n",
       "13  Escribe en forma binómica los siguientes númer...   1BC   \n",
       "14  Escribe en forma binómica los siguientes númer...   1BC   \n",
       "\n",
       "                 titulo n_ejercicio  dificultad  n_columnas  puntos  enun_tex  \\\n",
       "11  Recuperación 2ª Ev.     ex13e04           1           2       1      True   \n",
       "12  Recuperación 2ª Ev.     ex13e04           1           2       1      True   \n",
       "13  Recuperación 2ª Ev.     ex13e04           1           2       1      True   \n",
       "14  Recuperación 2ª Ev.     ex13e04           1           2       1      True   \n",
       "\n",
       "    sol_tex  \n",
       "11     True  \n",
       "12     True  \n",
       "13     True  \n",
       "14     True  "
      ]
     },
     "metadata": {},
     "output_type": "display_data"
    }
   ],
   "source": [
    "df_ejercicios.to_csv('ejercicios_rec2.csv', index = False)\n",
    "df_ejercicios = pd.read_csv('ejercicios_rec2.csv', index_col= None)\n",
    "escribir_preambulo(fichero, titulo, 'ejercicios')\n",
    "for s in df_ejercicios.groupby('n_ejercicio').count().index : \n",
    "    display(md(\"**Ejercicio: **\" + s ))\n",
    "    display(df_ejercicios[df_ejercicios.n_ejercicio == s])\n",
    "    escribir_ejercicios(df_ejercicios[df_ejercicios.n_ejercicio == s],fichero)\n",
    "\n",
    "escribir_fin(fichero)"
   ]
  }
 ],
 "metadata": {
  "kernelspec": {
   "display_name": "Python 3",
   "language": "python",
   "name": "python3"
  },
  "language_info": {
   "codemirror_mode": {
    "name": "ipython",
    "version": 3
   },
   "file_extension": ".py",
   "mimetype": "text/x-python",
   "name": "python",
   "nbconvert_exporter": "python",
   "pygments_lexer": "ipython3",
   "version": "3.6.8"
  }
 },
 "nbformat": 4,
 "nbformat_minor": 2
}
