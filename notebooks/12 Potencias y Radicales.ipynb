{
 "cells": [
  {
   "cell_type": "markdown",
   "metadata": {},
   "source": [
    "<a href=\"https://colab.research.google.com/github/crdguez/mat1bac_cit/blob/master/notebooks/Ejercicios1_3.ipynb\"><img align=\"left\" src=\"https://colab.research.google.com/assets/colab-badge.svg\" alt=\"Open in Colab\" title=\"Open and Execute in Google Colaboratory\"></a>"
   ]
  },
  {
   "cell_type": "code",
   "execution_count": 1,
   "metadata": {},
   "outputs": [
    {
     "name": "stdout",
     "output_type": "stream",
     "text": [
      "IPython console for SymPy 1.2 (Python 3.6.5-64-bit) (ground types: gmpy)\n",
      "\n",
      "These commands were executed:\n",
      ">>> from __future__ import division\n",
      ">>> from sympy import *\n",
      ">>> x, y, z, t = symbols('x y z t')\n",
      ">>> k, m, n = symbols('k m n', integer=True)\n",
      ">>> f, g, h = symbols('f g h', cls=Function)\n",
      ">>> init_printing()\n",
      "\n",
      "Documentation can be found at http://docs.sympy.org/1.2/\n",
      "\n"
     ]
    }
   ],
   "source": [
    "from sympy import init_session\n",
    "from sympy.parsing.latex import parse_latex\n",
    "from sympy.parsing.sympy_parser import parse_expr\n",
    "#from sympy.functions.combinatorial.numbers import nC, nP, nT\n",
    "from IPython.display import Markdown as md\n",
    "from IPython.display import display\n",
    "import pandas as pd\n",
    "\n",
    "init_session()\n",
    "\n",
    "a, b, c, d = symbols('a b c d', real = True)\n",
    "from docparts import añadir_ejercicios, doc_ejer, escribir_preambulo, escribir_ejercicios, escribir_fin\n",
    "\n",
    "df_ejercicios = pd.DataFrame()\n",
    "\n",
    "fichero = 'radicales'\n",
    "titulo = '2 - Potencias y radicales'\n",
    "curso = '1BC'\n",
    "\n"
   ]
  },
  {
   "cell_type": "code",
   "execution_count": 12,
   "metadata": {},
   "outputs": [
    {
     "data": {
      "image/png": "[encoded data removed]",
      "text/latex": [
       "$$3 \\sqrt{6} + 8$$"
      ],
      "text/plain": [
       "3⋅√6 + 8"
      ]
     },
     "execution_count": 12,
     "metadata": {},
     "output_type": "execute_result"
    }
   ],
   "source": [
    "radsimp((10*sqrt(3)+10*sqrt(2))/(2*sqrt(3)-sqrt(2)))"
   ]
  },
  {
   "cell_type": "code",
   "execution_count": 2,
   "metadata": {},
   "outputs": [
    {
     "data": {
      "text/markdown": [
       "**Calcula:**"
      ],
      "text/plain": [
       "<IPython.core.display.Markdown object>"
      ]
     },
     "metadata": {},
     "output_type": "display_data"
    },
    {
     "data": {
      "text/markdown": [
       "$\\frac{{{3^{ - 2}} \\cdot {3^5} \\cdot {2^3}}}{{{{( {3 \\cdot 2} )}^4}}} \\rightarrow\\frac{1}{6}$"
      ],
      "text/plain": [
       "<IPython.core.display.Markdown object>"
      ]
     },
     "metadata": {},
     "output_type": "display_data"
    },
    {
     "data": {
      "text/markdown": [
       "${3^{ - 5}} \\cdot {( {\\frac{1}{3}} )^{ - 2}} \\cdot 81 \\rightarrow3$"
      ],
      "text/plain": [
       "<IPython.core.display.Markdown object>"
      ]
     },
     "metadata": {},
     "output_type": "display_data"
    },
    {
     "data": {
      "text/markdown": [
       "${( {\\frac{5}{4}} )^5} \\cdot \\frac{{{2^6}}}{{{5^2}}} \\rightarrow\\frac{125}{16}$"
      ],
      "text/plain": [
       "<IPython.core.display.Markdown object>"
      ]
     },
     "metadata": {},
     "output_type": "display_data"
    },
    {
     "data": {
      "text/markdown": [
       "$\\frac{{{2^{ - 2}} \\cdot {{( {{2^2}} )}^3}}}{{{2^{ - 3}}}} \\rightarrow128$"
      ],
      "text/plain": [
       "<IPython.core.display.Markdown object>"
      ]
     },
     "metadata": {},
     "output_type": "display_data"
    },
    {
     "data": {
      "text/markdown": [
       "$\\frac{{{5^{ - 3}} \\cdot {5^{ - 1}} \\cdot {5^2}}}{{{5^0} + {5^6}}} \\rightarrow\\frac{1}{390650}$"
      ],
      "text/plain": [
       "<IPython.core.display.Markdown object>"
      ]
     },
     "metadata": {},
     "output_type": "display_data"
    },
    {
     "data": {
      "text/markdown": [
       "${( {\\frac{2}{3}} )^{ - 2}} \\cdot {( {\\frac{3}{2}} )^4} \\rightarrow\\frac{729}{64}$"
      ],
      "text/plain": [
       "<IPython.core.display.Markdown object>"
      ]
     },
     "metadata": {},
     "output_type": "display_data"
    },
    {
     "data": {
      "text/markdown": [
       "$\\frac{{\\sqrt {2}  \\cdot {{( {\\sqrt {2} } )}^3} \\cdot {{( {\\sqrt {5} } )}^3}}}{{{{( {5\\sqrt{2} } )}^2}}} \\rightarrow\\frac{2 \\sqrt{5}}{5}$"
      ],
      "text/plain": [
       "<IPython.core.display.Markdown object>"
      ]
     },
     "metadata": {},
     "output_type": "display_data"
    },
    {
     "data": {
      "text/markdown": [
       "$\\frac{{{9^{\\frac{1}{2}}} \\cdot {3^{ - 1}} \\cdot {2^{\\frac{3}{2}}}}}{{\\sqrt {2} }} \\rightarrow2$"
      ],
      "text/plain": [
       "<IPython.core.display.Markdown object>"
      ]
     },
     "metadata": {},
     "output_type": "display_data"
    }
   ],
   "source": [
    "# Página 4 ejercicios 1 y 2\n",
    "\n",
    "texto_ejercicio = 'Calcula:'\n",
    "n_ejercicio = 'p4e1-2'\n",
    "\n",
    "display(md(\"**\"+texto_ejercicio+\"**\"))\n",
    "\n",
    "texto_ejercicio = 'Calcula :'\n",
    "enunciado_latex = [r'\\frac{{{3^{ - 2}} \\cdot {3^5} \\cdot {2^3}}}{{{{( {3 \\cdot 2} )}^4}}}',\n",
    "                  r'{3^{ - 5}} \\cdot {( {\\frac{1}{3}} )^{ - 2}} \\cdot 81',\n",
    "                  r'{( {\\frac{5}{4}} )^5} \\cdot \\frac{{{2^6}}}{{{5^2}}}',\n",
    "                  r'\\frac{{{2^{ - 2}} \\cdot {{( {{2^2}} )}^3}}}{{{2^{ - 3}}}}',\n",
    "                  r'\\frac{{{5^{ - 3}} \\cdot {5^{ - 1}} \\cdot {5^2}}}{{{5^0} + {5^6}}}',\n",
    "                  r'{( {\\frac{2}{3}} )^{ - 2}} \\cdot {( {\\frac{3}{2}} )^4}',\n",
    "                  r'\\frac{{\\sqrt {2}  \\cdot {{( {\\sqrt {2} } )}^3} \\cdot {{( {\\sqrt {5} } )}^3}}}{{{{( {5\\sqrt{2} } )}^2}}}',\n",
    "                  r'\\frac{{{9^{\\frac{1}{2}}} \\cdot {3^{ - 1}} \\cdot {2^{\\frac{3}{2}}}}}{{\\sqrt {2} }}'\n",
    "                  ]\n",
    "enunciado, solucion = [], []\n",
    "for s in enunciado_latex :\n",
    "    display(md(\"$\"+ s +\" \\\\rightarrow\" + latex(simplify(parse_latex(s)))+\"$\"))\n",
    "    enunciado.append(parse_latex(s))\n",
    "    solucion.append(latex(simplify(parse_latex(s)))) \n",
    "\n",
    "df_ejercicios = df_ejercicios.append(añadir_ejercicios(enunciado_latex, enunciado, solucion, texto_ejercicio, curso, titulo, n_ejercicio), ignore_index=True)\n"
   ]
  },
  {
   "cell_type": "code",
   "execution_count": 3,
   "metadata": {},
   "outputs": [
    {
     "data": {
      "text/markdown": [
       "**Calcula los siguientes radicales:**"
      ],
      "text/plain": [
       "<IPython.core.display.Markdown object>"
      ]
     },
     "metadata": {},
     "output_type": "display_data"
    },
    {
     "data": {
      "text/markdown": [
       "$\\sqrt {16} \\rightarrow4$"
      ],
      "text/plain": [
       "<IPython.core.display.Markdown object>"
      ]
     },
     "metadata": {},
     "output_type": "display_data"
    },
    {
     "data": {
      "text/markdown": [
       "$\\sqrt[4]{ - 16} \\rightarrow2 \\sqrt[4]{-1}$"
      ],
      "text/plain": [
       "<IPython.core.display.Markdown object>"
      ]
     },
     "metadata": {},
     "output_type": "display_data"
    },
    {
     "data": {
      "text/markdown": [
       "$\\sqrt[3]{27} \\rightarrow3$"
      ],
      "text/plain": [
       "<IPython.core.display.Markdown object>"
      ]
     },
     "metadata": {},
     "output_type": "display_data"
    },
    {
     "data": {
      "text/markdown": [
       "$\\sqrt[5]{-1} \\rightarrow\\sqrt[5]{-1}$"
      ],
      "text/plain": [
       "<IPython.core.display.Markdown object>"
      ]
     },
     "metadata": {},
     "output_type": "display_data"
    },
    {
     "data": {
      "text/markdown": [
       "$\\sqrt {1225} \\rightarrow35$"
      ],
      "text/plain": [
       "<IPython.core.display.Markdown object>"
      ]
     },
     "metadata": {},
     "output_type": "display_data"
    },
    {
     "data": {
      "text/markdown": [
       "$\\sqrt[7]{1} \\rightarrow1$"
      ],
      "text/plain": [
       "<IPython.core.display.Markdown object>"
      ]
     },
     "metadata": {},
     "output_type": "display_data"
    }
   ],
   "source": [
    "# Página 6 ejercicios 13\n",
    "\n",
    "texto_ejercicio = 'Calcula los siguientes radicales:'\n",
    "n_ejercicio = 'p6e13'\n",
    "\n",
    "display(md(\"**\"+texto_ejercicio+\"**\"))\n",
    "\n",
    "enunciado_latex = [r'\\sqrt {16}',\n",
    "                  r'\\sqrt[4]{ - 16}',\n",
    "                  r'\\sqrt[3]{27}',\n",
    "                  r'\\sqrt[5]{-1}',\n",
    "                  r'\\sqrt {1225}',\n",
    "                  r'\\sqrt[7]{1}']\n",
    "enunciado, solucion = [], []\n",
    "for s in enunciado_latex :\n",
    "    display(md(\"$\"+ s +\" \\\\rightarrow\" + latex(simplify(parse_latex(s)))+\"$\"))\n",
    "    enunciado.append(parse_latex(s))\n",
    "    solucion.append(latex(simplify(parse_latex(s)))) \n",
    "    \n",
    "df_ejercicios = df_ejercicios.append(añadir_ejercicios(enunciado_latex, enunciado, solucion, texto_ejercicio, curso, titulo, n_ejercicio), ignore_index=True)\n",
    "  "
   ]
  },
  {
   "cell_type": "code",
   "execution_count": 4,
   "metadata": {},
   "outputs": [
    {
     "data": {
      "text/markdown": [
       "**Resuelve las siguientes ecuaciones:**"
      ],
      "text/plain": [
       "<IPython.core.display.Markdown object>"
      ]
     },
     "metadata": {},
     "output_type": "display_data"
    },
    {
     "data": {
      "text/markdown": [
       "$x^4 = 81 \\rightarrow\\left\\{-3, 3\\right\\}$"
      ],
      "text/plain": [
       "<IPython.core.display.Markdown object>"
      ]
     },
     "metadata": {},
     "output_type": "display_data"
    },
    {
     "data": {
      "text/markdown": [
       "$x^3 = 125 \\rightarrow\\left\\{5\\right\\}$"
      ],
      "text/plain": [
       "<IPython.core.display.Markdown object>"
      ]
     },
     "metadata": {},
     "output_type": "display_data"
    },
    {
     "data": {
      "text/markdown": [
       "$x^2 = -6 \\rightarrow\\emptyset$"
      ],
      "text/plain": [
       "<IPython.core.display.Markdown object>"
      ]
     },
     "metadata": {},
     "output_type": "display_data"
    },
    {
     "data": {
      "text/markdown": [
       "$x^5 = -1 \\rightarrow\\left\\{-1\\right\\}$"
      ],
      "text/plain": [
       "<IPython.core.display.Markdown object>"
      ]
     },
     "metadata": {},
     "output_type": "display_data"
    }
   ],
   "source": [
    "# Página 6 ejercicios 14\n",
    "\n",
    "texto_ejercicio = 'Resuelve las siguientes ecuaciones:'\n",
    "n_ejercicio = 'p6e14'\n",
    "\n",
    "display(md(\"**\"+texto_ejercicio+\"**\"))\n",
    "\n",
    "enunciado_latex = [r'x^4 = 81',\n",
    "                   r'x^3 = 125',\n",
    "                   r'x^2 = -6',\n",
    "                   r'x^5 = -1'\n",
    "                  ]\n",
    "enunciado, solucion = [], []\n",
    "x = Symbol('x')\n",
    "\n",
    "for s in enunciado_latex :\n",
    "    display(md(\"$\"+ s +\" \\\\rightarrow\" + latex(solveset(parse_latex(s), domain=S.Reals))+\"$\"))\n",
    "    enunciado.append(parse_latex(s))\n",
    "    solucion.append(latex(simplify(parse_latex(s))))\n",
    "\n",
    "df_ejercicios = df_ejercicios.append(añadir_ejercicios(enunciado_latex, enunciado, solucion, texto_ejercicio, curso, titulo, n_ejercicio), ignore_index=True)\n"
   ]
  },
  {
   "cell_type": "code",
   "execution_count": 5,
   "metadata": {},
   "outputs": [
    {
     "data": {
      "text/markdown": [
       "**Calcula y expresa el resultado de la forma más simple:**"
      ],
      "text/plain": [
       "<IPython.core.display.Markdown object>"
      ]
     },
     "metadata": {},
     "output_type": "display_data"
    },
    {
     "data": {
      "text/markdown": [
       "$\\sqrt {27}  \\cdot \\sqrt {243}  \\cdot \\sqrt {81} \\rightarrow729$"
      ],
      "text/plain": [
       "<IPython.core.display.Markdown object>"
      ]
     },
     "metadata": {},
     "output_type": "display_data"
    },
    {
     "data": {
      "text/markdown": [
       "$\\frac{{\\sqrt[3] {625} }}{{\\sqrt[3] {5}  }} \\rightarrow5$"
      ],
      "text/plain": [
       "<IPython.core.display.Markdown object>"
      ]
     },
     "metadata": {},
     "output_type": "display_data"
    },
    {
     "data": {
      "text/markdown": [
       "$({\\sqrt[3]{5}})^7 \\rightarrow25 \\sqrt[3]{5}$"
      ],
      "text/plain": [
       "<IPython.core.display.Markdown object>"
      ]
     },
     "metadata": {},
     "output_type": "display_data"
    },
    {
     "data": {
      "text/markdown": [
       "$\\sqrt[3]{\\sqrt{8}} \\rightarrow\\sqrt{2}$"
      ],
      "text/plain": [
       "<IPython.core.display.Markdown object>"
      ]
     },
     "metadata": {},
     "output_type": "display_data"
    }
   ],
   "source": [
    "# Página 6 ejercicios 15\n",
    "\n",
    "texto_ejercicio = 'Calcula y expresa el resultado de la forma más simple:'\n",
    "n_ejercicio = 'p6e15'\n",
    "\n",
    "display(md(\"**\"+texto_ejercicio+\"**\"))\n",
    "\n",
    "enunciado_latex = [r'\\sqrt {27}  \\cdot \\sqrt {243}  \\cdot \\sqrt {81}',\n",
    "                  r'\\frac{{\\sqrt[3] {625} }}{{\\sqrt[3] {5}  }}',\n",
    "                  r'({\\sqrt[3]{5}})^7',\n",
    "                  r'\\sqrt[3]{\\sqrt{8}}']\n",
    "enunciado, solucion = [], []\n",
    "for s in enunciado_latex :\n",
    "    display(md(\"$\"+ s +\" \\\\rightarrow\" + latex(simplify(parse_latex(s)))+\"$\"))\n",
    "    enunciado.append(parse_latex(s))\n",
    "    solucion.append(latex(simplify(parse_latex(s)))) \n",
    "\n",
    "df_ejercicios = df_ejercicios.append(añadir_ejercicios(enunciado_latex, enunciado, solucion, texto_ejercicio, curso, titulo, n_ejercicio), ignore_index=True)\n"
   ]
  },
  {
   "cell_type": "code",
   "execution_count": 5,
   "metadata": {},
   "outputs": [
    {
     "data": {
      "text/markdown": [
       "**Extrae factores fuera del signo radical en:**"
      ],
      "text/plain": [
       "<IPython.core.display.Markdown object>"
      ]
     },
     "metadata": {},
     "output_type": "display_data"
    },
    {
     "data": {
      "text/markdown": [
       "$\\sqrt {512} \\rightarrow 16 \\sqrt{2}$"
      ],
      "text/plain": [
       "<IPython.core.display.Markdown object>"
      ]
     },
     "metadata": {},
     "output_type": "display_data"
    },
    {
     "data": {
      "text/markdown": [
       "$\\sqrt[3]{11664} \\rightarrow 18 \\sqrt[3]{2}$"
      ],
      "text/plain": [
       "<IPython.core.display.Markdown object>"
      ]
     },
     "metadata": {},
     "output_type": "display_data"
    },
    {
     "data": {
      "text/markdown": [
       "$\\sqrt[4]{48} \\rightarrow 2 \\sqrt[4]{3}$"
      ],
      "text/plain": [
       "<IPython.core.display.Markdown object>"
      ]
     },
     "metadata": {},
     "output_type": "display_data"
    },
    {
     "data": {
      "text/markdown": [
       "$\\sqrt{a^5\\cdot b^3} \\rightarrow \\sqrt{a^{5} b^{3}}$"
      ],
      "text/plain": [
       "<IPython.core.display.Markdown object>"
      ]
     },
     "metadata": {},
     "output_type": "display_data"
    }
   ],
   "source": [
    "# Página 6 ejercicios 16\n",
    "\n",
    "a , b  = symbols('a, b')\n",
    "\n",
    "texto_ejercicio = 'Extrae factores fuera del signo radical en:'\n",
    "n_ejercicio = 'p6e16'\n",
    "\n",
    "display(md(\"**\"+texto_ejercicio+\"**\"))\n",
    "\n",
    "enunciado_latex = [r'\\sqrt {512}',\n",
    "                  r'\\sqrt[3]{11664}',\n",
    "                  r'\\sqrt[4]{48}',\n",
    "                  r'\\sqrt{a^5\\cdot b^3}'\n",
    "                  ]\n",
    "enunciado, solucion = [], []\n",
    "for s in enunciado_latex :\n",
    "    display(md(\"$\"+ s +\" \\\\rightarrow \" + latex(simplify(parse_latex(s)))+\"$\"))\n",
    "    enunciado.append(parse_latex(s))\n",
    "    solucion.append(latex(simplify(radsimp(parse_latex(s)))))\n",
    "    \n",
    "df_ejercicios = df_ejercicios.append(añadir_ejercicios(enunciado_latex, enunciado, solucion, texto_ejercicio, curso, titulo, n_ejercicio), ignore_index=True)\n",
    "    "
   ]
  },
  {
   "cell_type": "code",
   "execution_count": 7,
   "metadata": {},
   "outputs": [
    {
     "data": {
      "text/markdown": [
       "**Calcula y expresa el resultado como potencia de exponente racional:**"
      ],
      "text/plain": [
       "<IPython.core.display.Markdown object>"
      ]
     },
     "metadata": {},
     "output_type": "display_data"
    },
    {
     "data": {
      "text/markdown": [
       "$\\sqrt{a}  \\cdot \\sqrt[5]{a} \\cdot \\sqrt[6]{a} \\rightarrow a^{\\frac{13}{15}}$"
      ],
      "text/plain": [
       "<IPython.core.display.Markdown object>"
      ]
     },
     "metadata": {},
     "output_type": "display_data"
    },
    {
     "data": {
      "text/markdown": [
       "$\\sqrt[3]{\\sqrt{a} } \\rightarrow \\sqrt[6]{a}$"
      ],
      "text/plain": [
       "<IPython.core.display.Markdown object>"
      ]
     },
     "metadata": {},
     "output_type": "display_data"
    },
    {
     "data": {
      "text/markdown": [
       "$\\frac{{\\sqrt[3]{a} 3}}{{\\sqrt{a}}} \\rightarrow \\frac{3}{\\sqrt[6]{a}}$"
      ],
      "text/plain": [
       "<IPython.core.display.Markdown object>"
      ]
     },
     "metadata": {},
     "output_type": "display_data"
    },
    {
     "data": {
      "text/markdown": [
       "$\\sqrt {\\sqrt {\\sqrt {2} } } \\rightarrow \\sqrt[8]{2}$"
      ],
      "text/plain": [
       "<IPython.core.display.Markdown object>"
      ]
     },
     "metadata": {},
     "output_type": "display_data"
    },
    {
     "data": {
      "text/markdown": [
       "$\\sqrt {a\\sqrt[3]{a} } \\rightarrow \\sqrt{a^{\\frac{4}{3}}}$"
      ],
      "text/plain": [
       "<IPython.core.display.Markdown object>"
      ]
     },
     "metadata": {},
     "output_type": "display_data"
    },
    {
     "data": {
      "text/markdown": [
       "$\\frac{{\\sqrt[5]{a}  \\cdot \\sqrt {a} }}{{{a^{\\frac{1}{3}}}}} \\rightarrow a^{\\frac{11}{30}}$"
      ],
      "text/plain": [
       "<IPython.core.display.Markdown object>"
      ]
     },
     "metadata": {},
     "output_type": "display_data"
    }
   ],
   "source": [
    "# Página 6 ejercicios 17\n",
    "\n",
    "\n",
    "texto_ejercicio = 'Calcula y expresa el resultado como potencia de exponente racional:'\n",
    "n_ejercicio = 'p6e17'\n",
    "\n",
    "display(md(\"**\"+texto_ejercicio+\"**\"))\n",
    "\n",
    "enunciado_latex = [r'\\sqrt{a}  \\cdot \\sqrt[5]{a} \\cdot \\sqrt[6]{a}' ,\n",
    "                   r'\\sqrt[3]{\\sqrt{a} }',\n",
    "                   r'\\frac{{\\sqrt[3]{a} 3}}{{\\sqrt{a}}}',\n",
    "                   r'\\sqrt {\\sqrt {\\sqrt {2} } }',\n",
    "                   r'\\sqrt {a\\sqrt[3]{a} }',\n",
    "                   r'\\frac{{\\sqrt[5]{a}  \\cdot \\sqrt {a} }}{{{a^{\\frac{1}{3}}}}}'\n",
    "                  ]\n",
    "enunciado, solucion = [], []\n",
    "for s in enunciado_latex :\n",
    "    display(md(\"$\"+ s +\" \\\\rightarrow \" + latex(simplify(parse_latex(s)))+\"$\"))\n",
    "    enunciado.append(parse_latex(s))\n",
    "    solucion.append(latex(simplify(parse_latex(s)))) \n",
    "\n",
    "df_ejercicios = df_ejercicios.append(añadir_ejercicios(enunciado_latex, enunciado, solucion, texto_ejercicio, curso, titulo, n_ejercicio), ignore_index=True)\n",
    "\n",
    "    "
   ]
  },
  {
   "cell_type": "code",
   "execution_count": 8,
   "metadata": {},
   "outputs": [
    {
     "data": {
      "text/markdown": [
       "**Calcula:**"
      ],
      "text/plain": [
       "<IPython.core.display.Markdown object>"
      ]
     },
     "metadata": {},
     "output_type": "display_data"
    },
    {
     "data": {
      "text/markdown": [
       "$4\\sqrt {3125}  + 2\\sqrt {20}  - 30\\sqrt {45} \\rightarrow 14 \\sqrt{5}$"
      ],
      "text/plain": [
       "<IPython.core.display.Markdown object>"
      ]
     },
     "metadata": {},
     "output_type": "display_data"
    },
    {
     "data": {
      "text/markdown": [
       "$\\frac{1}{4}\\sqrt {3125}  - 2\\sqrt {20}  - \\frac{3}{2}\\sqrt {45} \\rightarrow - \\frac{9 \\sqrt{5}}{4}$"
      ],
      "text/plain": [
       "<IPython.core.display.Markdown object>"
      ]
     },
     "metadata": {},
     "output_type": "display_data"
    }
   ],
   "source": [
    "# Página 6 ejercicios 18\n",
    "\n",
    "\n",
    "texto_ejercicio = 'Calcula:'\n",
    "n_ejercicio = 'p6e18'\n",
    "\n",
    "display(md(\"**\"+texto_ejercicio+\"**\"))\n",
    "\n",
    "enunciado_latex = [r'4\\sqrt {3125}  + 2\\sqrt {20}  - 30\\sqrt {45}',\n",
    "                   r'\\frac{1}{4}\\sqrt {3125}  - 2\\sqrt {20}  - \\frac{3}{2}\\sqrt {45}'\n",
    "                  ]\n",
    "enunciado, solucion = [], []\n",
    "for s in enunciado_latex :\n",
    "    display(md(\"$\"+ s +\" \\\\rightarrow \" + latex(simplify(parse_latex(s)))+\"$\"))\n",
    "    enunciado.append(parse_latex(s))\n",
    "    solucion.append(latex(simplify(parse_latex(s)))) \n",
    "\n",
    "df_ejercicios = df_ejercicios.append(añadir_ejercicios(enunciado_latex, enunciado, solucion, texto_ejercicio, curso, titulo, n_ejercicio), ignore_index=True)\n",
    "\n",
    "    "
   ]
  },
  {
   "cell_type": "code",
   "execution_count": 9,
   "metadata": {},
   "outputs": [
    {
     "data": {
      "text/markdown": [
       "**Racionaliza:**"
      ],
      "text/plain": [
       "<IPython.core.display.Markdown object>"
      ]
     },
     "metadata": {},
     "output_type": "display_data"
    },
    {
     "data": {
      "text/markdown": [
       "$\\frac{3}{{2\\sqrt {6} }} \\rightarrow \\frac{\\sqrt{6}}{4}$"
      ],
      "text/plain": [
       "<IPython.core.display.Markdown object>"
      ]
     },
     "metadata": {},
     "output_type": "display_data"
    },
    {
     "data": {
      "text/markdown": [
       "$\\frac{5}{{\\sqrt{2} }} \\rightarrow \\frac{5 \\sqrt{2}}{2}$"
      ],
      "text/plain": [
       "<IPython.core.display.Markdown object>"
      ]
     },
     "metadata": {},
     "output_type": "display_data"
    },
    {
     "data": {
      "text/markdown": [
       "$\\frac{2}{{3\\sqrt[3]{ 2} }} \\rightarrow \\frac{2^{\\frac{2}{3}}}{3}$"
      ],
      "text/plain": [
       "<IPython.core.display.Markdown object>"
      ]
     },
     "metadata": {},
     "output_type": "display_data"
    },
    {
     "data": {
      "text/markdown": [
       "$\\frac{2}{{5\\sqrt[5]{ 2} }} \\rightarrow \\frac{2^{\\frac{4}{5}}}{5}$"
      ],
      "text/plain": [
       "<IPython.core.display.Markdown object>"
      ]
     },
     "metadata": {},
     "output_type": "display_data"
    },
    {
     "data": {
      "text/markdown": [
       "$\\frac{6}{{\\sqrt {5}  + \\sqrt {2} }} \\rightarrow - 2 \\sqrt{2} + 2 \\sqrt{5}$"
      ],
      "text/plain": [
       "<IPython.core.display.Markdown object>"
      ]
     },
     "metadata": {},
     "output_type": "display_data"
    },
    {
     "data": {
      "text/markdown": [
       "$\\frac{5}{{2 - \\sqrt {6} }} \\rightarrow \\frac{- 5 \\sqrt{6} - 10}{2}$"
      ],
      "text/plain": [
       "<IPython.core.display.Markdown object>"
      ]
     },
     "metadata": {},
     "output_type": "display_data"
    }
   ],
   "source": [
    "# Página 6 ejercicios 19\n",
    "\n",
    "\n",
    "texto_ejercicio = 'Racionaliza:'\n",
    "n_ejercicio = 'p6e19'\n",
    "\n",
    "display(md(\"**\"+texto_ejercicio+\"**\"))\n",
    "\n",
    "enunciado_latex = [r'\\frac{3}{{2\\sqrt {6} }}',\n",
    "                   r'\\frac{5}{{\\sqrt{2} }}',\n",
    "                   r'\\frac{2}{{3\\sqrt[3]{ 2} }}',\n",
    "                   r'\\frac{2}{{5\\sqrt[5]{ 2} }}',\n",
    "                   r'\\frac{6}{{\\sqrt {5}  + \\sqrt {2} }}',\n",
    "                   r'\\frac{5}{{2 - \\sqrt {6} }}'\n",
    "                  ]\n",
    "enunciado, solucion = [], []\n",
    "for s in enunciado_latex :\n",
    "    display(md(\"$\"+ s +\" \\\\rightarrow \" + latex(radsimp(parse_latex(s)))+\"$\"))\n",
    "    enunciado.append(parse_latex(s))\n",
    "    solucion.append(latex(radsimp(parse_latex(s)))) \n",
    "    \n",
    "df_ejercicios = df_ejercicios.append(añadir_ejercicios(enunciado_latex, enunciado, solucion, texto_ejercicio, curso, titulo, n_ejercicio), ignore_index=True)\n",
    "    "
   ]
  },
  {
   "cell_type": "code",
   "execution_count": 10,
   "metadata": {},
   "outputs": [
    {
     "data": {
      "text/markdown": [
       "**Calcula, descomponiendo el radicando en factores primos:**"
      ],
      "text/plain": [
       "<IPython.core.display.Markdown object>"
      ]
     },
     "metadata": {},
     "output_type": "display_data"
    },
    {
     "data": {
      "text/markdown": [
       "$\\sqrt {729} \\rightarrow 27$"
      ],
      "text/plain": [
       "<IPython.core.display.Markdown object>"
      ]
     },
     "metadata": {},
     "output_type": "display_data"
    },
    {
     "data": {
      "text/markdown": [
       "$\\sqrt[3]{64000} \\rightarrow 40$"
      ],
      "text/plain": [
       "<IPython.core.display.Markdown object>"
      ]
     },
     "metadata": {},
     "output_type": "display_data"
    },
    {
     "data": {
      "text/markdown": [
       "$\\sqrt[4]{50625} \\rightarrow 15$"
      ],
      "text/plain": [
       "<IPython.core.display.Markdown object>"
      ]
     },
     "metadata": {},
     "output_type": "display_data"
    },
    {
     "data": {
      "text/markdown": [
       "$\\sqrt[5]{59049} \\rightarrow 9$"
      ],
      "text/plain": [
       "<IPython.core.display.Markdown object>"
      ]
     },
     "metadata": {},
     "output_type": "display_data"
    }
   ],
   "source": [
    "# Página 6 ejercicios 23\n",
    "\n",
    "\n",
    "texto_ejercicio = 'Calcula, descomponiendo el radicando en factores primos:'\n",
    "n_ejercicio = 'p6e23'\n",
    "\n",
    "display(md(\"**\"+texto_ejercicio+\"**\"))\n",
    "\n",
    "enunciado_latex = [r'\\sqrt {729}',\n",
    "                   r'\\sqrt[3]{64000}',\n",
    "                   r'\\sqrt[4]{50625}',\n",
    "                   r'\\sqrt[5]{59049}'\n",
    "                  ]\n",
    "enunciado, solucion = [], []\n",
    "for s in enunciado_latex :\n",
    "    display(md(\"$\"+ s +\" \\\\rightarrow \" + latex(simplify(parse_latex(s)))+\"$\"))\n",
    "    enunciado.append(parse_latex(s))\n",
    "    solucion.append(latex(simplify(parse_latex(s)))) \n",
    "    \n",
    "df_ejercicios = df_ejercicios.append(añadir_ejercicios(enunciado_latex, enunciado, solucion, texto_ejercicio, curso, titulo, n_ejercicio), ignore_index=True)\n",
    "\n",
    "    "
   ]
  },
  {
   "cell_type": "code",
   "execution_count": 11,
   "metadata": {},
   "outputs": [
    {
     "data": {
      "text/markdown": [
       "**Calcula:**"
      ],
      "text/plain": [
       "<IPython.core.display.Markdown object>"
      ]
     },
     "metadata": {},
     "output_type": "display_data"
    },
    {
     "data": {
      "text/markdown": [
       "$5\\sqrt {8}  - 2\\sqrt {50}  + \\sqrt {32}  - \\sqrt {2} \\rightarrow 3 \\sqrt{2}$"
      ],
      "text/plain": [
       "<IPython.core.display.Markdown object>"
      ]
     },
     "metadata": {},
     "output_type": "display_data"
    },
    {
     "data": {
      "text/markdown": [
       "$\\sqrt {27}  - \\frac{1}{4}\\sqrt {12}  + \\frac{2}{5}\\sqrt {75} \\rightarrow \\frac{9 \\sqrt{3}}{2}$"
      ],
      "text/plain": [
       "<IPython.core.display.Markdown object>"
      ]
     },
     "metadata": {},
     "output_type": "display_data"
    },
    {
     "data": {
      "text/markdown": [
       "$\\sqrt {\\frac{2}{9}}  + \\sqrt 8  - \\sqrt {\\frac{1}{8}} \\rightarrow \\frac{\\sqrt{2}}{3}$"
      ],
      "text/plain": [
       "<IPython.core.display.Markdown object>"
      ]
     },
     "metadata": {},
     "output_type": "display_data"
    }
   ],
   "source": [
    "# Página 6 ejercicios 25\n",
    "\n",
    "\n",
    "texto_ejercicio = 'Calcula:'\n",
    "n_ejercicio = 'p6e25'\n",
    "\n",
    "display(md(\"**\"+texto_ejercicio+\"**\"))\n",
    "\n",
    "enunciado_latex = [r'5\\sqrt {8}  - 2\\sqrt {50}  + \\sqrt {32}  - \\sqrt {2}',\n",
    "                   r'\\sqrt {27}  - \\frac{1}{4}\\sqrt {12}  + \\frac{2}{5}\\sqrt {75}',\n",
    "                   r'\\sqrt {\\frac{2}{9}}  + \\sqrt 8  - \\sqrt {\\frac{1}{8}}'\n",
    "                   \n",
    "                  ]\n",
    "enunciado, solucion = [], []\n",
    "for s in enunciado_latex :\n",
    "    display(md(\"$\"+ s +\" \\\\rightarrow \" + latex(simplify(parse_latex(s)))+\"$\"))\n",
    "    enunciado.append(parse_latex(s))\n",
    "    solucion.append(latex(simplify(parse_latex(s))))\n",
    "    \n",
    "df_ejercicios = df_ejercicios.append(añadir_ejercicios(enunciado_latex, enunciado, solucion, texto_ejercicio, curso, titulo, n_ejercicio), ignore_index=True)\n",
    "\n",
    "    "
   ]
  },
  {
   "cell_type": "code",
   "execution_count": 12,
   "metadata": {},
   "outputs": [
    {
     "data": {
      "text/markdown": [
       "**Calcula y simplifica:**"
      ],
      "text/plain": [
       "<IPython.core.display.Markdown object>"
      ]
     },
     "metadata": {},
     "output_type": "display_data"
    },
    {
     "data": {
      "text/markdown": [
       "$\\sqrt [3] {5}  \\cdot \\sqrt [4] {3}   \\cdot \\sqrt {2} \\rightarrow \\sqrt{2} \\sqrt[4]{3} \\sqrt[3]{5}$"
      ],
      "text/plain": [
       "<IPython.core.display.Markdown object>"
      ]
     },
     "metadata": {},
     "output_type": "display_data"
    },
    {
     "data": {
      "text/markdown": [
       "$\\frac{{\\sqrt[3]{5} \\cdot \\sqrt{3}}}{{\\sqrt {15}  \\cdot \\sqrt {6} }} \\rightarrow \\frac{5^{\\frac{5}{6}} \\sqrt{6}}{30}$"
      ],
      "text/plain": [
       "<IPython.core.display.Markdown object>"
      ]
     },
     "metadata": {},
     "output_type": "display_data"
    },
    {
     "data": {
      "text/markdown": [
       "$\\frac{{\\sqrt[6]{5}}}{{\\sqrt[3]{5}}} \\rightarrow \\frac{5^{\\frac{5}{6}}}{5}$"
      ],
      "text/plain": [
       "<IPython.core.display.Markdown object>"
      ]
     },
     "metadata": {},
     "output_type": "display_data"
    },
    {
     "data": {
      "text/markdown": [
       "$\\sqrt[5]{{{27}^{\\frac{5}{3}}}} \\rightarrow 3$"
      ],
      "text/plain": [
       "<IPython.core.display.Markdown object>"
      ]
     },
     "metadata": {},
     "output_type": "display_data"
    },
    {
     "data": {
      "text/markdown": [
       "$\\sqrt[3] {4}  \\cdot \\sqrt[4] {8}  \\cdot \\sqrt {2} \\rightarrow 2 \\cdot 2^{\\frac{11}{12}}$"
      ],
      "text/plain": [
       "<IPython.core.display.Markdown object>"
      ]
     },
     "metadata": {},
     "output_type": "display_data"
    }
   ],
   "source": [
    "# Página 6 ejercicios 26\n",
    "\n",
    "\n",
    "texto_ejercicio = 'Calcula y simplifica:'\n",
    "n_ejercicio = 'p6e26'\n",
    "\n",
    "display(md(\"**\"+texto_ejercicio+\"**\"))\n",
    "\n",
    "enunciado_latex = [r'\\sqrt [3] {5}  \\cdot \\sqrt [4] {3}   \\cdot \\sqrt {2}',\n",
    "                   r'\\frac{{\\sqrt[3]{5} \\cdot \\sqrt{3}}}{{\\sqrt {15}  \\cdot \\sqrt {6} }}',\n",
    "                   r'\\frac{{\\sqrt[6]{5}}}{{\\sqrt[3]{5}}}',\n",
    "                   r'\\sqrt[5]{{{27}^{\\frac{5}{3}}}}',\n",
    "                   r'\\sqrt[3] {4}  \\cdot \\sqrt[4] {8}  \\cdot \\sqrt {2}'\n",
    "                  ]\n",
    "enunciado, solucion = [], []\n",
    "for s in enunciado_latex :\n",
    "    display(md(\"$\"+ s +\" \\\\rightarrow \" + latex(simplify(parse_latex(s)))+\"$\"))\n",
    "    enunciado.append(parse_latex(s))\n",
    "    solucion.append(latex(radsimp(parse_latex(s)))) \n",
    "    \n",
    "df_ejercicios = df_ejercicios.append(añadir_ejercicios(enunciado_latex, enunciado, solucion, texto_ejercicio, curso, titulo, n_ejercicio), ignore_index=True)\n",
    "\n",
    "    "
   ]
  },
  {
   "cell_type": "code",
   "execution_count": 13,
   "metadata": {},
   "outputs": [
    {
     "data": {
      "text/markdown": [
       "**Efectúa:**"
      ],
      "text/plain": [
       "<IPython.core.display.Markdown object>"
      ]
     },
     "metadata": {},
     "output_type": "display_data"
    },
    {
     "data": {
      "text/markdown": [
       "$\\sqrt[3] {5} \\cdot \\sqrt[3]{5^2} \\rightarrow 5$"
      ],
      "text/plain": [
       "<IPython.core.display.Markdown object>"
      ]
     },
     "metadata": {},
     "output_type": "display_data"
    },
    {
     "data": {
      "text/markdown": [
       "$\\frac{{\\sqrt[3]{{x^2}{y^3}} }}{{\\sqrt[3]{xy} }} \\rightarrow \\frac{\\sqrt[3]{x^{2} y^{3}}}{\\sqrt[3]{x y}}$"
      ],
      "text/plain": [
       "<IPython.core.display.Markdown object>"
      ]
     },
     "metadata": {},
     "output_type": "display_data"
    },
    {
     "data": {
      "text/markdown": [
       "$( {\\sqrt[5]{{3^2}} } )^4 \\rightarrow 3 \\cdot 3^{\\frac{3}{5}}$"
      ],
      "text/plain": [
       "<IPython.core.display.Markdown object>"
      ]
     },
     "metadata": {},
     "output_type": "display_data"
    },
    {
     "data": {
      "text/markdown": [
       "$\\sqrt[3] {5}  \\cdot \\sqrt[4] {{5^2}} \\rightarrow 5^{\\frac{5}{6}}$"
      ],
      "text/plain": [
       "<IPython.core.display.Markdown object>"
      ]
     },
     "metadata": {},
     "output_type": "display_data"
    },
    {
     "data": {
      "text/markdown": [
       "$3\\sqrt{ 5}  \\cdot 2\\sqrt[3]{25} \\rightarrow 30 \\sqrt[6]{5}$"
      ],
      "text/plain": [
       "<IPython.core.display.Markdown object>"
      ]
     },
     "metadata": {},
     "output_type": "display_data"
    },
    {
     "data": {
      "text/markdown": [
       "$\\sqrt[3]{{a^3} b}  \\cdot \\sqrt[6]{a{b^4}} \\rightarrow \\sqrt[6]{a b^{4}} \\sqrt[3]{a^{3} b}$"
      ],
      "text/plain": [
       "<IPython.core.display.Markdown object>"
      ]
     },
     "metadata": {},
     "output_type": "display_data"
    },
    {
     "data": {
      "text/markdown": [
       "$3\\sqrt[4]{2}  \\cdot \\sqrt {8}  \\rightarrow 6 \\cdot 2^{\\frac{3}{4}}$"
      ],
      "text/plain": [
       "<IPython.core.display.Markdown object>"
      ]
     },
     "metadata": {},
     "output_type": "display_data"
    },
    {
     "data": {
      "text/markdown": [
       "$\\frac{{\\sqrt[4]{{x^3}{y^3}} }}{{\\sqrt[3]{xy} }} \\rightarrow \\frac{\\sqrt[4]{x^{3} y^{3}}}{\\sqrt[3]{x y}}$"
      ],
      "text/plain": [
       "<IPython.core.display.Markdown object>"
      ]
     },
     "metadata": {},
     "output_type": "display_data"
    },
    {
     "data": {
      "text/markdown": [
       "$\\frac{{4\\sqrt [4]{6} }}{{2\\sqrt {3} }} \\rightarrow \\frac{2 \\sqrt[4]{2} \\cdot 3^{\\frac{3}{4}}}{3}$"
      ],
      "text/plain": [
       "<IPython.core.display.Markdown object>"
      ]
     },
     "metadata": {},
     "output_type": "display_data"
    },
    {
     "data": {
      "text/markdown": [
       "$\\frac{{6\\sqrt[3] { 5} }}{{2\\sqrt {10} }} \\rightarrow \\frac{3 \\sqrt{2} \\cdot 5^{\\frac{5}{6}}}{10}$"
      ],
      "text/plain": [
       "<IPython.core.display.Markdown object>"
      ]
     },
     "metadata": {},
     "output_type": "display_data"
    },
    {
     "data": {
      "text/markdown": [
       "$\\frac{{\\sqrt[5]{{{( {a + b})}^3}} }}{{\\sqrt {a + b} }} \\rightarrow \\frac{\\sqrt{a + b} \\sqrt[5]{\\left(a + b\\right)^{3}}}{a + b}$"
      ],
      "text/plain": [
       "<IPython.core.display.Markdown object>"
      ]
     },
     "metadata": {},
     "output_type": "display_data"
    },
    {
     "data": {
      "text/markdown": [
       "$\\sqrt [3] {{x^2}}  \\cdot \\frac{{\\sqrt [5] {xy} }}{{\\sqrt {x{y^3}} }} \\rightarrow \\frac{\\sqrt[5]{x y} \\sqrt{x y^{3}} \\sqrt[3]{x^{2}}}{x y^{3}}$"
      ],
      "text/plain": [
       "<IPython.core.display.Markdown object>"
      ]
     },
     "metadata": {},
     "output_type": "display_data"
    },
    {
     "data": {
      "text/markdown": [
       "$\\sqrt [3] {\\sqrt[4] {a} } \\rightarrow \\sqrt[12]{a}$"
      ],
      "text/plain": [
       "<IPython.core.display.Markdown object>"
      ]
     },
     "metadata": {},
     "output_type": "display_data"
    },
    {
     "data": {
      "text/markdown": [
       "$\\sqrt {\\sqrt [3]  {{x^2}\\sqrt[5] {{x^3}} } } \\rightarrow \\sqrt[6]{x^{2} \\sqrt[5]{x^{3}}}$"
      ],
      "text/plain": [
       "<IPython.core.display.Markdown object>"
      ]
     },
     "metadata": {},
     "output_type": "display_data"
    },
    {
     "data": {
      "text/markdown": [
       "$\\sqrt {n\\sqrt [5] {n\\sqrt [6]{n} } } \\rightarrow \\sqrt{n \\sqrt[5]{n^{\\frac{7}{6}}}}$"
      ],
      "text/plain": [
       "<IPython.core.display.Markdown object>"
      ]
     },
     "metadata": {},
     "output_type": "display_data"
    }
   ],
   "source": [
    "# Página 6 ejercicios 27\n",
    "\n",
    "\n",
    "texto_ejercicio = 'Efectúa:'\n",
    "n_ejercicio = 'p6e27'\n",
    "\n",
    "\n",
    "display(md(\"**\"+texto_ejercicio+\"**\"))\n",
    "\n",
    "enunciado_latex = [r'\\sqrt[3] {5} \\cdot \\sqrt[3]{5^2}',\n",
    "                   r'\\frac{{\\sqrt[3]{{x^2}{y^3}} }}{{\\sqrt[3]{xy} }}',\n",
    "                   r'( {\\sqrt[5]{{3^2}} } )^4',\n",
    "                   r'\\sqrt[3] {5}  \\cdot \\sqrt[4] {{5^2}}',\n",
    "                   r'3\\sqrt{ 5}  \\cdot 2\\sqrt[3]{25}',\n",
    "                   r'\\sqrt[3]{{a^3} b}  \\cdot \\sqrt[6]{a{b^4}}',\n",
    "                   r'3\\sqrt[4]{2}  \\cdot \\sqrt {8} ',\n",
    "                   r'\\frac{{\\sqrt[4]{{x^3}{y^3}} }}{{\\sqrt[3]{xy} }}',\n",
    "                   r'\\frac{{4\\sqrt [4]{6} }}{{2\\sqrt {3} }}',\n",
    "                   r'\\frac{{6\\sqrt[3] { 5} }}{{2\\sqrt {10} }}',\n",
    "                   r'\\frac{{\\sqrt[5]{{{( {a + b})}^3}} }}{{\\sqrt {a + b} }}',\n",
    "                   r'\\sqrt [3] {{x^2}}  \\cdot \\frac{{\\sqrt [5] {xy} }}{{\\sqrt {x{y^3}} }}',\n",
    "                   r'\\sqrt [3] {\\sqrt[4] {a} }',\n",
    "                   r'\\sqrt {\\sqrt [3]  {{x^2}\\sqrt[5] {{x^3}} } }',\n",
    "                   r'\\sqrt {n\\sqrt [5] {n\\sqrt [6]{n} } }'\n",
    "                   \n",
    "                  ]\n",
    "enunciado, solucion = [], []\n",
    "for s in enunciado_latex :\n",
    "    display(md(\"$\"+ s +\" \\\\rightarrow \" + latex(radsimp(parse_latex(s)))+\"$\"))\n",
    "    enunciado.append(parse_latex(s))\n",
    "    solucion.append(latex(radsimp(parse_latex(s)))) \n",
    "    \n",
    "df_ejercicios = df_ejercicios.append(añadir_ejercicios(enunciado_latex, enunciado, solucion, texto_ejercicio, curso, titulo, n_ejercicio), ignore_index=True)\n",
    "\n",
    "    "
   ]
  },
  {
   "cell_type": "code",
   "execution_count": 14,
   "metadata": {},
   "outputs": [
    {
     "data": {
      "text/markdown": [
       "**Racionaliza:**"
      ],
      "text/plain": [
       "<IPython.core.display.Markdown object>"
      ]
     },
     "metadata": {},
     "output_type": "display_data"
    },
    {
     "data": {
      "text/markdown": [
       "$\\frac{3}{{\\sqrt {5} }} \\rightarrow \\frac{3 \\sqrt{5}}{5}$"
      ],
      "text/plain": [
       "<IPython.core.display.Markdown object>"
      ]
     },
     "metadata": {},
     "output_type": "display_data"
    },
    {
     "data": {
      "text/markdown": [
       "$\\frac{{12}}{{\\sqrt {8} }} \\rightarrow 3 \\sqrt{2}$"
      ],
      "text/plain": [
       "<IPython.core.display.Markdown object>"
      ]
     },
     "metadata": {},
     "output_type": "display_data"
    },
    {
     "data": {
      "text/markdown": [
       "$\\frac{5}{{\\sqrt {5} }} \\rightarrow \\sqrt{5}$"
      ],
      "text/plain": [
       "<IPython.core.display.Markdown object>"
      ]
     },
     "metadata": {},
     "output_type": "display_data"
    },
    {
     "data": {
      "text/markdown": [
       "$\\frac{a}{{\\sqrt[3]{{a^2}} }} \\rightarrow \\frac{a}{\\sqrt[3]{a^{2}}}$"
      ],
      "text/plain": [
       "<IPython.core.display.Markdown object>"
      ]
     },
     "metadata": {},
     "output_type": "display_data"
    },
    {
     "data": {
      "text/markdown": [
       "$\\frac{{{x^2}}}{{\\sqrt [4] {x} }} \\rightarrow x^{\\frac{7}{4}}$"
      ],
      "text/plain": [
       "<IPython.core.display.Markdown object>"
      ]
     },
     "metadata": {},
     "output_type": "display_data"
    },
    {
     "data": {
      "text/markdown": [
       "$\\frac{{abc}}{{\\sqrt {ab{c^3}} }} \\rightarrow \\frac{\\sqrt{a b c^{3}}}{c^{2}}$"
      ],
      "text/plain": [
       "<IPython.core.display.Markdown object>"
      ]
     },
     "metadata": {},
     "output_type": "display_data"
    },
    {
     "data": {
      "text/markdown": [
       "$\\frac{5}{{2 + \\sqrt {3} }} \\rightarrow - 5 \\sqrt{3} + 10$"
      ],
      "text/plain": [
       "<IPython.core.display.Markdown object>"
      ]
     },
     "metadata": {},
     "output_type": "display_data"
    },
    {
     "data": {
      "text/markdown": [
       "$\\frac{{\\sqrt {2}  - \\sqrt {3} }}{{\\sqrt{ 2}  + \\sqrt {3} }} \\rightarrow - \\left(- \\sqrt{3} + \\sqrt{2}\\right)^{2}$"
      ],
      "text/plain": [
       "<IPython.core.display.Markdown object>"
      ]
     },
     "metadata": {},
     "output_type": "display_data"
    },
    {
     "data": {
      "text/markdown": [
       "$\\frac{{2 - \\sqrt {2} }}{{2 + \\sqrt {2} }} \\rightarrow \\frac{\\left(- \\sqrt{2} + 2\\right)^{2}}{2}$"
      ],
      "text/plain": [
       "<IPython.core.display.Markdown object>"
      ]
     },
     "metadata": {},
     "output_type": "display_data"
    },
    {
     "data": {
      "text/markdown": [
       "$\\frac{1}{{\\sqrt {\\sqrt {2 }} }} \\rightarrow \\frac{2^{\\frac{3}{4}}}{2}$"
      ],
      "text/plain": [
       "<IPython.core.display.Markdown object>"
      ]
     },
     "metadata": {},
     "output_type": "display_data"
    },
    {
     "data": {
      "text/markdown": [
       "$\\frac{a}{{\\sqrt {a}  + \\sqrt {b} }} \\rightarrow \\frac{a^{\\frac{3}{2}} - a \\sqrt{b}}{a - b}$"
      ],
      "text/plain": [
       "<IPython.core.display.Markdown object>"
      ]
     },
     "metadata": {},
     "output_type": "display_data"
    }
   ],
   "source": [
    "# Página 6 ejercicios 28\n",
    "\n",
    "\n",
    "texto_ejercicio = 'Racionaliza:'\n",
    "n_ejercicio = 'p6e28'\n",
    "\n",
    "\n",
    "display(md(\"**\"+texto_ejercicio+\"**\"))\n",
    "\n",
    "enunciado_latex = [r'\\frac{3}{{\\sqrt {5} }}',\n",
    "                   r'\\frac{{12}}{{\\sqrt {8} }}',\n",
    "                   r'\\frac{5}{{\\sqrt {5} }}',\n",
    "                   r'\\frac{a}{{\\sqrt[3]{{a^2}} }}',\n",
    "                   r'\\frac{{{x^2}}}{{\\sqrt [4] {x} }}',\n",
    "                   r'\\frac{{abc}}{{\\sqrt {ab{c^3}} }}',\n",
    "                   r'\\frac{5}{{2 + \\sqrt {3} }}',\n",
    "                   r'\\frac{{\\sqrt {2}  - \\sqrt {3} }}{{\\sqrt{ 2}  + \\sqrt {3} }}',\n",
    "                   r'\\frac{{2 - \\sqrt {2} }}{{2 + \\sqrt {2} }}',\n",
    "                   r'\\frac{1}{{\\sqrt {\\sqrt {2 }} }}',\n",
    "                   r'\\frac{a}{{\\sqrt {a}  + \\sqrt {b} }}'\n",
    "                   \n",
    "                  ]\n",
    "enunciado, solucion = [], []\n",
    "for s in enunciado_latex :\n",
    "    display(md(\"$\"+ s +\" \\\\rightarrow \" + latex(radsimp(parse_latex(s)))+\"$\"))\n",
    "    enunciado.append(parse_latex(s))\n",
    "    solucion.append(latex(radsimp(parse_latex(s)))) \n",
    "    \n",
    "df_ejercicios = df_ejercicios.append(añadir_ejercicios(enunciado_latex, enunciado, solucion, texto_ejercicio, curso, titulo, n_ejercicio), ignore_index=True)\n",
    "\n",
    "    "
   ]
  },
  {
   "cell_type": "code",
   "execution_count": 15,
   "metadata": {},
   "outputs": [],
   "source": [
    "df_ejercicios.to_csv('ejercicios2.csv', index = False)"
   ]
  },
  {
   "cell_type": "code",
   "execution_count": 16,
   "metadata": {},
   "outputs": [],
   "source": [
    "df_ejercicios = pd.read_csv('ejercicios2.csv', index_col= None)"
   ]
  },
  {
   "cell_type": "code",
   "execution_count": 17,
   "metadata": {},
   "outputs": [
    {
     "data": {
      "text/markdown": [
       "**Ejercicio: **p4e1-2"
      ],
      "text/plain": [
       "<IPython.core.display.Markdown object>"
      ]
     },
     "metadata": {},
     "output_type": "display_data"
    },
    {
     "data": {
      "text/html": [
       "<div>\n",
       "<style scoped>\n",
       "    .dataframe tbody tr th:only-of-type {\n",
       "        vertical-align: middle;\n",
       "    }\n",
       "\n",
       "    .dataframe tbody tr th {\n",
       "        vertical-align: top;\n",
       "    }\n",
       "\n",
       "    .dataframe thead th {\n",
       "        text-align: right;\n",
       "    }\n",
       "</style>\n",
       "<table border=\"1\" class=\"dataframe\">\n",
       "  <thead>\n",
       "    <tr style=\"text-align: right;\">\n",
       "      <th></th>\n",
       "      <th>enunciado_latex</th>\n",
       "      <th>enunciado</th>\n",
       "      <th>solucion</th>\n",
       "      <th>texto</th>\n",
       "      <th>curso</th>\n",
       "      <th>titulo</th>\n",
       "      <th>n_ejercicio</th>\n",
       "      <th>dificultad</th>\n",
       "      <th>n_columnas</th>\n",
       "      <th>puntos</th>\n",
       "    </tr>\n",
       "  </thead>\n",
       "  <tbody>\n",
       "    <tr>\n",
       "      <th>0</th>\n",
       "      <td>\\frac{{{3^{ - 2}} \\cdot {3^5} \\cdot {2^3}}}{{{...</td>\n",
       "      <td>(2**3*(3**5*3**(-2)))/(2*3)**4</td>\n",
       "      <td>\\frac{1}{6}</td>\n",
       "      <td>Calcula :</td>\n",
       "      <td>1BC</td>\n",
       "      <td>2 - Potencias y radicales</td>\n",
       "      <td>p4e1-2</td>\n",
       "      <td>1</td>\n",
       "      <td>3</td>\n",
       "      <td>1</td>\n",
       "    </tr>\n",
       "    <tr>\n",
       "      <th>1</th>\n",
       "      <td>{3^{ - 5}} \\cdot {( {\\frac{1}{3}} )^{ - 2}} \\c...</td>\n",
       "      <td>81*(3**(-5)*(1/3)**(-2))</td>\n",
       "      <td>3</td>\n",
       "      <td>Calcula :</td>\n",
       "      <td>1BC</td>\n",
       "      <td>2 - Potencias y radicales</td>\n",
       "      <td>p4e1-2</td>\n",
       "      <td>1</td>\n",
       "      <td>3</td>\n",
       "      <td>1</td>\n",
       "    </tr>\n",
       "    <tr>\n",
       "      <th>2</th>\n",
       "      <td>{( {\\frac{5}{4}} )^5} \\cdot \\frac{{{2^6}}}{{{5...</td>\n",
       "      <td>(5/4)**5*(2**6/5**2)</td>\n",
       "      <td>\\frac{125}{16}</td>\n",
       "      <td>Calcula :</td>\n",
       "      <td>1BC</td>\n",
       "      <td>2 - Potencias y radicales</td>\n",
       "      <td>p4e1-2</td>\n",
       "      <td>1</td>\n",
       "      <td>3</td>\n",
       "      <td>1</td>\n",
       "    </tr>\n",
       "    <tr>\n",
       "      <th>3</th>\n",
       "      <td>\\frac{{{2^{ - 2}} \\cdot {{( {{2^2}} )}^3}}}{{{...</td>\n",
       "      <td>(2**(-2)*(2**2)**3)/2**(-3)</td>\n",
       "      <td>128</td>\n",
       "      <td>Calcula :</td>\n",
       "      <td>1BC</td>\n",
       "      <td>2 - Potencias y radicales</td>\n",
       "      <td>p4e1-2</td>\n",
       "      <td>1</td>\n",
       "      <td>3</td>\n",
       "      <td>1</td>\n",
       "    </tr>\n",
       "    <tr>\n",
       "      <th>4</th>\n",
       "      <td>\\frac{{{5^{ - 3}} \\cdot {5^{ - 1}} \\cdot {5^2}...</td>\n",
       "      <td>(5**2*(5**(-3)/5))/(5**0 + 5**6)</td>\n",
       "      <td>\\frac{1}{390650}</td>\n",
       "      <td>Calcula :</td>\n",
       "      <td>1BC</td>\n",
       "      <td>2 - Potencias y radicales</td>\n",
       "      <td>p4e1-2</td>\n",
       "      <td>1</td>\n",
       "      <td>3</td>\n",
       "      <td>1</td>\n",
       "    </tr>\n",
       "    <tr>\n",
       "      <th>5</th>\n",
       "      <td>{( {\\frac{2}{3}} )^{ - 2}} \\cdot {( {\\frac{3}{...</td>\n",
       "      <td>(2/3)**(-2)*(3/2)**4</td>\n",
       "      <td>\\frac{729}{64}</td>\n",
       "      <td>Calcula :</td>\n",
       "      <td>1BC</td>\n",
       "      <td>2 - Potencias y radicales</td>\n",
       "      <td>p4e1-2</td>\n",
       "      <td>1</td>\n",
       "      <td>3</td>\n",
       "      <td>1</td>\n",
       "    </tr>\n",
       "    <tr>\n",
       "      <th>6</th>\n",
       "      <td>\\frac{{\\sqrt {2}  \\cdot {{( {\\sqrt {2} } )}^3}...</td>\n",
       "      <td>((sqrt(2)*(sqrt(2))**3)*(sqrt(5))**3)/(5*sqrt(...</td>\n",
       "      <td>\\frac{2 \\sqrt{5}}{5}</td>\n",
       "      <td>Calcula :</td>\n",
       "      <td>1BC</td>\n",
       "      <td>2 - Potencias y radicales</td>\n",
       "      <td>p4e1-2</td>\n",
       "      <td>1</td>\n",
       "      <td>3</td>\n",
       "      <td>1</td>\n",
       "    </tr>\n",
       "    <tr>\n",
       "      <th>7</th>\n",
       "      <td>\\frac{{{9^{\\frac{1}{2}}} \\cdot {3^{ - 1}} \\cdo...</td>\n",
       "      <td>(2**(3/2)*(9**(1/2)/3))/sqrt(2)</td>\n",
       "      <td>2</td>\n",
       "      <td>Calcula :</td>\n",
       "      <td>1BC</td>\n",
       "      <td>2 - Potencias y radicales</td>\n",
       "      <td>p4e1-2</td>\n",
       "      <td>1</td>\n",
       "      <td>3</td>\n",
       "      <td>1</td>\n",
       "    </tr>\n",
       "  </tbody>\n",
       "</table>\n",
       "</div>"
      ],
      "text/plain": [
       "                                     enunciado_latex  \\\n",
       "0  \\frac{{{3^{ - 2}} \\cdot {3^5} \\cdot {2^3}}}{{{...   \n",
       "1  {3^{ - 5}} \\cdot {( {\\frac{1}{3}} )^{ - 2}} \\c...   \n",
       "2  {( {\\frac{5}{4}} )^5} \\cdot \\frac{{{2^6}}}{{{5...   \n",
       "3  \\frac{{{2^{ - 2}} \\cdot {{( {{2^2}} )}^3}}}{{{...   \n",
       "4  \\frac{{{5^{ - 3}} \\cdot {5^{ - 1}} \\cdot {5^2}...   \n",
       "5  {( {\\frac{2}{3}} )^{ - 2}} \\cdot {( {\\frac{3}{...   \n",
       "6  \\frac{{\\sqrt {2}  \\cdot {{( {\\sqrt {2} } )}^3}...   \n",
       "7  \\frac{{{9^{\\frac{1}{2}}} \\cdot {3^{ - 1}} \\cdo...   \n",
       "\n",
       "                                           enunciado              solucion  \\\n",
       "0                     (2**3*(3**5*3**(-2)))/(2*3)**4           \\frac{1}{6}   \n",
       "1                           81*(3**(-5)*(1/3)**(-2))                     3   \n",
       "2                               (5/4)**5*(2**6/5**2)        \\frac{125}{16}   \n",
       "3                        (2**(-2)*(2**2)**3)/2**(-3)                   128   \n",
       "4                   (5**2*(5**(-3)/5))/(5**0 + 5**6)      \\frac{1}{390650}   \n",
       "5                               (2/3)**(-2)*(3/2)**4        \\frac{729}{64}   \n",
       "6  ((sqrt(2)*(sqrt(2))**3)*(sqrt(5))**3)/(5*sqrt(...  \\frac{2 \\sqrt{5}}{5}   \n",
       "7                    (2**(3/2)*(9**(1/2)/3))/sqrt(2)                     2   \n",
       "\n",
       "       texto curso                     titulo n_ejercicio  dificultad  \\\n",
       "0  Calcula :   1BC  2 - Potencias y radicales      p4e1-2           1   \n",
       "1  Calcula :   1BC  2 - Potencias y radicales      p4e1-2           1   \n",
       "2  Calcula :   1BC  2 - Potencias y radicales      p4e1-2           1   \n",
       "3  Calcula :   1BC  2 - Potencias y radicales      p4e1-2           1   \n",
       "4  Calcula :   1BC  2 - Potencias y radicales      p4e1-2           1   \n",
       "5  Calcula :   1BC  2 - Potencias y radicales      p4e1-2           1   \n",
       "6  Calcula :   1BC  2 - Potencias y radicales      p4e1-2           1   \n",
       "7  Calcula :   1BC  2 - Potencias y radicales      p4e1-2           1   \n",
       "\n",
       "   n_columnas  puntos  \n",
       "0           3       1  \n",
       "1           3       1  \n",
       "2           3       1  \n",
       "3           3       1  \n",
       "4           3       1  \n",
       "5           3       1  \n",
       "6           3       1  \n",
       "7           3       1  "
      ]
     },
     "metadata": {},
     "output_type": "display_data"
    },
    {
     "data": {
      "text/markdown": [
       "**Ejercicio: **p6e13"
      ],
      "text/plain": [
       "<IPython.core.display.Markdown object>"
      ]
     },
     "metadata": {},
     "output_type": "display_data"
    },
    {
     "data": {
      "text/html": [
       "<div>\n",
       "<style scoped>\n",
       "    .dataframe tbody tr th:only-of-type {\n",
       "        vertical-align: middle;\n",
       "    }\n",
       "\n",
       "    .dataframe tbody tr th {\n",
       "        vertical-align: top;\n",
       "    }\n",
       "\n",
       "    .dataframe thead th {\n",
       "        text-align: right;\n",
       "    }\n",
       "</style>\n",
       "<table border=\"1\" class=\"dataframe\">\n",
       "  <thead>\n",
       "    <tr style=\"text-align: right;\">\n",
       "      <th></th>\n",
       "      <th>enunciado_latex</th>\n",
       "      <th>enunciado</th>\n",
       "      <th>solucion</th>\n",
       "      <th>texto</th>\n",
       "      <th>curso</th>\n",
       "      <th>titulo</th>\n",
       "      <th>n_ejercicio</th>\n",
       "      <th>dificultad</th>\n",
       "      <th>n_columnas</th>\n",
       "      <th>puntos</th>\n",
       "    </tr>\n",
       "  </thead>\n",
       "  <tbody>\n",
       "    <tr>\n",
       "      <th>8</th>\n",
       "      <td>\\sqrt {16}</td>\n",
       "      <td>4</td>\n",
       "      <td>4</td>\n",
       "      <td>Calcula los siguientes radicales:</td>\n",
       "      <td>1BC</td>\n",
       "      <td>2 - Potencias y radicales</td>\n",
       "      <td>p6e13</td>\n",
       "      <td>1</td>\n",
       "      <td>3</td>\n",
       "      <td>1</td>\n",
       "    </tr>\n",
       "    <tr>\n",
       "      <th>9</th>\n",
       "      <td>\\sqrt[4]{ - 16}</td>\n",
       "      <td>2*(-1)**(1/4)</td>\n",
       "      <td>2 \\sqrt[4]{-1}</td>\n",
       "      <td>Calcula los siguientes radicales:</td>\n",
       "      <td>1BC</td>\n",
       "      <td>2 - Potencias y radicales</td>\n",
       "      <td>p6e13</td>\n",
       "      <td>1</td>\n",
       "      <td>3</td>\n",
       "      <td>1</td>\n",
       "    </tr>\n",
       "    <tr>\n",
       "      <th>10</th>\n",
       "      <td>\\sqrt[3]{27}</td>\n",
       "      <td>3</td>\n",
       "      <td>3</td>\n",
       "      <td>Calcula los siguientes radicales:</td>\n",
       "      <td>1BC</td>\n",
       "      <td>2 - Potencias y radicales</td>\n",
       "      <td>p6e13</td>\n",
       "      <td>1</td>\n",
       "      <td>3</td>\n",
       "      <td>1</td>\n",
       "    </tr>\n",
       "    <tr>\n",
       "      <th>11</th>\n",
       "      <td>\\sqrt[5]{-1}</td>\n",
       "      <td>(-1)**(1/5)</td>\n",
       "      <td>\\sqrt[5]{-1}</td>\n",
       "      <td>Calcula los siguientes radicales:</td>\n",
       "      <td>1BC</td>\n",
       "      <td>2 - Potencias y radicales</td>\n",
       "      <td>p6e13</td>\n",
       "      <td>1</td>\n",
       "      <td>3</td>\n",
       "      <td>1</td>\n",
       "    </tr>\n",
       "    <tr>\n",
       "      <th>12</th>\n",
       "      <td>\\sqrt {1225}</td>\n",
       "      <td>35</td>\n",
       "      <td>35</td>\n",
       "      <td>Calcula los siguientes radicales:</td>\n",
       "      <td>1BC</td>\n",
       "      <td>2 - Potencias y radicales</td>\n",
       "      <td>p6e13</td>\n",
       "      <td>1</td>\n",
       "      <td>3</td>\n",
       "      <td>1</td>\n",
       "    </tr>\n",
       "    <tr>\n",
       "      <th>13</th>\n",
       "      <td>\\sqrt[7]{1}</td>\n",
       "      <td>1</td>\n",
       "      <td>1</td>\n",
       "      <td>Calcula los siguientes radicales:</td>\n",
       "      <td>1BC</td>\n",
       "      <td>2 - Potencias y radicales</td>\n",
       "      <td>p6e13</td>\n",
       "      <td>1</td>\n",
       "      <td>3</td>\n",
       "      <td>1</td>\n",
       "    </tr>\n",
       "  </tbody>\n",
       "</table>\n",
       "</div>"
      ],
      "text/plain": [
       "    enunciado_latex      enunciado        solucion  \\\n",
       "8        \\sqrt {16}              4               4   \n",
       "9   \\sqrt[4]{ - 16}  2*(-1)**(1/4)  2 \\sqrt[4]{-1}   \n",
       "10     \\sqrt[3]{27}              3               3   \n",
       "11     \\sqrt[5]{-1}    (-1)**(1/5)    \\sqrt[5]{-1}   \n",
       "12     \\sqrt {1225}             35              35   \n",
       "13      \\sqrt[7]{1}              1               1   \n",
       "\n",
       "                                texto curso                     titulo  \\\n",
       "8   Calcula los siguientes radicales:   1BC  2 - Potencias y radicales   \n",
       "9   Calcula los siguientes radicales:   1BC  2 - Potencias y radicales   \n",
       "10  Calcula los siguientes radicales:   1BC  2 - Potencias y radicales   \n",
       "11  Calcula los siguientes radicales:   1BC  2 - Potencias y radicales   \n",
       "12  Calcula los siguientes radicales:   1BC  2 - Potencias y radicales   \n",
       "13  Calcula los siguientes radicales:   1BC  2 - Potencias y radicales   \n",
       "\n",
       "   n_ejercicio  dificultad  n_columnas  puntos  \n",
       "8        p6e13           1           3       1  \n",
       "9        p6e13           1           3       1  \n",
       "10       p6e13           1           3       1  \n",
       "11       p6e13           1           3       1  \n",
       "12       p6e13           1           3       1  \n",
       "13       p6e13           1           3       1  "
      ]
     },
     "metadata": {},
     "output_type": "display_data"
    },
    {
     "data": {
      "text/markdown": [
       "**Ejercicio: **p6e14"
      ],
      "text/plain": [
       "<IPython.core.display.Markdown object>"
      ]
     },
     "metadata": {},
     "output_type": "display_data"
    },
    {
     "data": {
      "text/html": [
       "<div>\n",
       "<style scoped>\n",
       "    .dataframe tbody tr th:only-of-type {\n",
       "        vertical-align: middle;\n",
       "    }\n",
       "\n",
       "    .dataframe tbody tr th {\n",
       "        vertical-align: top;\n",
       "    }\n",
       "\n",
       "    .dataframe thead th {\n",
       "        text-align: right;\n",
       "    }\n",
       "</style>\n",
       "<table border=\"1\" class=\"dataframe\">\n",
       "  <thead>\n",
       "    <tr style=\"text-align: right;\">\n",
       "      <th></th>\n",
       "      <th>enunciado_latex</th>\n",
       "      <th>enunciado</th>\n",
       "      <th>solucion</th>\n",
       "      <th>texto</th>\n",
       "      <th>curso</th>\n",
       "      <th>titulo</th>\n",
       "      <th>n_ejercicio</th>\n",
       "      <th>dificultad</th>\n",
       "      <th>n_columnas</th>\n",
       "      <th>puntos</th>\n",
       "    </tr>\n",
       "  </thead>\n",
       "  <tbody>\n",
       "    <tr>\n",
       "      <th>14</th>\n",
       "      <td>x^4 = 81</td>\n",
       "      <td>Eq(x**4, 81)</td>\n",
       "      <td>x^{4} = 81</td>\n",
       "      <td>Resuelve las siguientes ecuaciones:</td>\n",
       "      <td>1BC</td>\n",
       "      <td>2 - Potencias y radicales</td>\n",
       "      <td>p6e14</td>\n",
       "      <td>1</td>\n",
       "      <td>3</td>\n",
       "      <td>1</td>\n",
       "    </tr>\n",
       "    <tr>\n",
       "      <th>15</th>\n",
       "      <td>x^3 = 125</td>\n",
       "      <td>Eq(x**3, 125)</td>\n",
       "      <td>x^{3} = 125</td>\n",
       "      <td>Resuelve las siguientes ecuaciones:</td>\n",
       "      <td>1BC</td>\n",
       "      <td>2 - Potencias y radicales</td>\n",
       "      <td>p6e14</td>\n",
       "      <td>1</td>\n",
       "      <td>3</td>\n",
       "      <td>1</td>\n",
       "    </tr>\n",
       "    <tr>\n",
       "      <th>16</th>\n",
       "      <td>x^2 = -6</td>\n",
       "      <td>Eq(x**2, -6)</td>\n",
       "      <td>x^{2} = -6</td>\n",
       "      <td>Resuelve las siguientes ecuaciones:</td>\n",
       "      <td>1BC</td>\n",
       "      <td>2 - Potencias y radicales</td>\n",
       "      <td>p6e14</td>\n",
       "      <td>1</td>\n",
       "      <td>3</td>\n",
       "      <td>1</td>\n",
       "    </tr>\n",
       "    <tr>\n",
       "      <th>17</th>\n",
       "      <td>x^5 = -1</td>\n",
       "      <td>Eq(x**5, -1)</td>\n",
       "      <td>x^{5} = -1</td>\n",
       "      <td>Resuelve las siguientes ecuaciones:</td>\n",
       "      <td>1BC</td>\n",
       "      <td>2 - Potencias y radicales</td>\n",
       "      <td>p6e14</td>\n",
       "      <td>1</td>\n",
       "      <td>3</td>\n",
       "      <td>1</td>\n",
       "    </tr>\n",
       "  </tbody>\n",
       "</table>\n",
       "</div>"
      ],
      "text/plain": [
       "   enunciado_latex      enunciado     solucion  \\\n",
       "14        x^4 = 81   Eq(x**4, 81)   x^{4} = 81   \n",
       "15       x^3 = 125  Eq(x**3, 125)  x^{3} = 125   \n",
       "16        x^2 = -6   Eq(x**2, -6)   x^{2} = -6   \n",
       "17        x^5 = -1   Eq(x**5, -1)   x^{5} = -1   \n",
       "\n",
       "                                  texto curso                     titulo  \\\n",
       "14  Resuelve las siguientes ecuaciones:   1BC  2 - Potencias y radicales   \n",
       "15  Resuelve las siguientes ecuaciones:   1BC  2 - Potencias y radicales   \n",
       "16  Resuelve las siguientes ecuaciones:   1BC  2 - Potencias y radicales   \n",
       "17  Resuelve las siguientes ecuaciones:   1BC  2 - Potencias y radicales   \n",
       "\n",
       "   n_ejercicio  dificultad  n_columnas  puntos  \n",
       "14       p6e14           1           3       1  \n",
       "15       p6e14           1           3       1  \n",
       "16       p6e14           1           3       1  \n",
       "17       p6e14           1           3       1  "
      ]
     },
     "metadata": {},
     "output_type": "display_data"
    },
    {
     "data": {
      "text/markdown": [
       "**Ejercicio: **p6e15"
      ],
      "text/plain": [
       "<IPython.core.display.Markdown object>"
      ]
     },
     "metadata": {},
     "output_type": "display_data"
    },
    {
     "data": {
      "text/html": [
       "<div>\n",
       "<style scoped>\n",
       "    .dataframe tbody tr th:only-of-type {\n",
       "        vertical-align: middle;\n",
       "    }\n",
       "\n",
       "    .dataframe tbody tr th {\n",
       "        vertical-align: top;\n",
       "    }\n",
       "\n",
       "    .dataframe thead th {\n",
       "        text-align: right;\n",
       "    }\n",
       "</style>\n",
       "<table border=\"1\" class=\"dataframe\">\n",
       "  <thead>\n",
       "    <tr style=\"text-align: right;\">\n",
       "      <th></th>\n",
       "      <th>enunciado_latex</th>\n",
       "      <th>enunciado</th>\n",
       "      <th>solucion</th>\n",
       "      <th>texto</th>\n",
       "      <th>curso</th>\n",
       "      <th>titulo</th>\n",
       "      <th>n_ejercicio</th>\n",
       "      <th>dificultad</th>\n",
       "      <th>n_columnas</th>\n",
       "      <th>puntos</th>\n",
       "    </tr>\n",
       "  </thead>\n",
       "  <tbody>\n",
       "    <tr>\n",
       "      <th>18</th>\n",
       "      <td>\\sqrt {27}  \\cdot \\sqrt {243}  \\cdot \\sqrt {81}</td>\n",
       "      <td>9*((3*sqrt(3))*(9*sqrt(3)))</td>\n",
       "      <td>729</td>\n",
       "      <td>Calcula y expresa el resultado de la forma más...</td>\n",
       "      <td>1BC</td>\n",
       "      <td>2 - Potencias y radicales</td>\n",
       "      <td>p6e15</td>\n",
       "      <td>1</td>\n",
       "      <td>3</td>\n",
       "      <td>1</td>\n",
       "    </tr>\n",
       "    <tr>\n",
       "      <th>19</th>\n",
       "      <td>\\frac{{\\sqrt[3] {625} }}{{\\sqrt[3] {5}  }}</td>\n",
       "      <td>(5*5**(1/3))/5**(1/3)</td>\n",
       "      <td>5</td>\n",
       "      <td>Calcula y expresa el resultado de la forma más...</td>\n",
       "      <td>1BC</td>\n",
       "      <td>2 - Potencias y radicales</td>\n",
       "      <td>p6e15</td>\n",
       "      <td>1</td>\n",
       "      <td>3</td>\n",
       "      <td>1</td>\n",
       "    </tr>\n",
       "    <tr>\n",
       "      <th>20</th>\n",
       "      <td>({\\sqrt[3]{5}})^7</td>\n",
       "      <td>(5**(1/3))**7</td>\n",
       "      <td>25 \\sqrt[3]{5}</td>\n",
       "      <td>Calcula y expresa el resultado de la forma más...</td>\n",
       "      <td>1BC</td>\n",
       "      <td>2 - Potencias y radicales</td>\n",
       "      <td>p6e15</td>\n",
       "      <td>1</td>\n",
       "      <td>3</td>\n",
       "      <td>1</td>\n",
       "    </tr>\n",
       "    <tr>\n",
       "      <th>21</th>\n",
       "      <td>\\sqrt[3]{\\sqrt{8}}</td>\n",
       "      <td>2**(1/6)*2**(1/3)</td>\n",
       "      <td>\\sqrt{2}</td>\n",
       "      <td>Calcula y expresa el resultado de la forma más...</td>\n",
       "      <td>1BC</td>\n",
       "      <td>2 - Potencias y radicales</td>\n",
       "      <td>p6e15</td>\n",
       "      <td>1</td>\n",
       "      <td>3</td>\n",
       "      <td>1</td>\n",
       "    </tr>\n",
       "  </tbody>\n",
       "</table>\n",
       "</div>"
      ],
      "text/plain": [
       "                                    enunciado_latex  \\\n",
       "18  \\sqrt {27}  \\cdot \\sqrt {243}  \\cdot \\sqrt {81}   \n",
       "19       \\frac{{\\sqrt[3] {625} }}{{\\sqrt[3] {5}  }}   \n",
       "20                                ({\\sqrt[3]{5}})^7   \n",
       "21                               \\sqrt[3]{\\sqrt{8}}   \n",
       "\n",
       "                      enunciado        solucion  \\\n",
       "18  9*((3*sqrt(3))*(9*sqrt(3)))             729   \n",
       "19        (5*5**(1/3))/5**(1/3)               5   \n",
       "20                (5**(1/3))**7  25 \\sqrt[3]{5}   \n",
       "21            2**(1/6)*2**(1/3)        \\sqrt{2}   \n",
       "\n",
       "                                                texto curso  \\\n",
       "18  Calcula y expresa el resultado de la forma más...   1BC   \n",
       "19  Calcula y expresa el resultado de la forma más...   1BC   \n",
       "20  Calcula y expresa el resultado de la forma más...   1BC   \n",
       "21  Calcula y expresa el resultado de la forma más...   1BC   \n",
       "\n",
       "                       titulo n_ejercicio  dificultad  n_columnas  puntos  \n",
       "18  2 - Potencias y radicales       p6e15           1           3       1  \n",
       "19  2 - Potencias y radicales       p6e15           1           3       1  \n",
       "20  2 - Potencias y radicales       p6e15           1           3       1  \n",
       "21  2 - Potencias y radicales       p6e15           1           3       1  "
      ]
     },
     "metadata": {},
     "output_type": "display_data"
    },
    {
     "data": {
      "text/markdown": [
       "**Ejercicio: **p6e16"
      ],
      "text/plain": [
       "<IPython.core.display.Markdown object>"
      ]
     },
     "metadata": {},
     "output_type": "display_data"
    },
    {
     "data": {
      "text/html": [
       "<div>\n",
       "<style scoped>\n",
       "    .dataframe tbody tr th:only-of-type {\n",
       "        vertical-align: middle;\n",
       "    }\n",
       "\n",
       "    .dataframe tbody tr th {\n",
       "        vertical-align: top;\n",
       "    }\n",
       "\n",
       "    .dataframe thead th {\n",
       "        text-align: right;\n",
       "    }\n",
       "</style>\n",
       "<table border=\"1\" class=\"dataframe\">\n",
       "  <thead>\n",
       "    <tr style=\"text-align: right;\">\n",
       "      <th></th>\n",
       "      <th>enunciado_latex</th>\n",
       "      <th>enunciado</th>\n",
       "      <th>solucion</th>\n",
       "      <th>texto</th>\n",
       "      <th>curso</th>\n",
       "      <th>titulo</th>\n",
       "      <th>n_ejercicio</th>\n",
       "      <th>dificultad</th>\n",
       "      <th>n_columnas</th>\n",
       "      <th>puntos</th>\n",
       "    </tr>\n",
       "  </thead>\n",
       "  <tbody>\n",
       "    <tr>\n",
       "      <th>22</th>\n",
       "      <td>\\sqrt {512}</td>\n",
       "      <td>16*sqrt(2)</td>\n",
       "      <td>16 \\sqrt{2}</td>\n",
       "      <td>Extrae factores fuera del signo radical en:</td>\n",
       "      <td>1BC</td>\n",
       "      <td>2 - Potencias y radicales</td>\n",
       "      <td>p6e16</td>\n",
       "      <td>1</td>\n",
       "      <td>3</td>\n",
       "      <td>1</td>\n",
       "    </tr>\n",
       "    <tr>\n",
       "      <th>23</th>\n",
       "      <td>\\sqrt[3]{11664}</td>\n",
       "      <td>18*2**(1/3)</td>\n",
       "      <td>18 \\sqrt[3]{2}</td>\n",
       "      <td>Extrae factores fuera del signo radical en:</td>\n",
       "      <td>1BC</td>\n",
       "      <td>2 - Potencias y radicales</td>\n",
       "      <td>p6e16</td>\n",
       "      <td>1</td>\n",
       "      <td>3</td>\n",
       "      <td>1</td>\n",
       "    </tr>\n",
       "    <tr>\n",
       "      <th>24</th>\n",
       "      <td>\\sqrt[4]{48}</td>\n",
       "      <td>2*3**(1/4)</td>\n",
       "      <td>2 \\sqrt[4]{3}</td>\n",
       "      <td>Extrae factores fuera del signo radical en:</td>\n",
       "      <td>1BC</td>\n",
       "      <td>2 - Potencias y radicales</td>\n",
       "      <td>p6e16</td>\n",
       "      <td>1</td>\n",
       "      <td>3</td>\n",
       "      <td>1</td>\n",
       "    </tr>\n",
       "    <tr>\n",
       "      <th>25</th>\n",
       "      <td>\\sqrt{a^5\\cdot b^3}</td>\n",
       "      <td>sqrt(a**5*b**3)</td>\n",
       "      <td>\\sqrt{a^{5} b^{3}}</td>\n",
       "      <td>Extrae factores fuera del signo radical en:</td>\n",
       "      <td>1BC</td>\n",
       "      <td>2 - Potencias y radicales</td>\n",
       "      <td>p6e16</td>\n",
       "      <td>1</td>\n",
       "      <td>3</td>\n",
       "      <td>1</td>\n",
       "    </tr>\n",
       "  </tbody>\n",
       "</table>\n",
       "</div>"
      ],
      "text/plain": [
       "        enunciado_latex        enunciado            solucion  \\\n",
       "22          \\sqrt {512}       16*sqrt(2)         16 \\sqrt{2}   \n",
       "23      \\sqrt[3]{11664}      18*2**(1/3)      18 \\sqrt[3]{2}   \n",
       "24         \\sqrt[4]{48}       2*3**(1/4)       2 \\sqrt[4]{3}   \n",
       "25  \\sqrt{a^5\\cdot b^3}  sqrt(a**5*b**3)  \\sqrt{a^{5} b^{3}}   \n",
       "\n",
       "                                          texto curso  \\\n",
       "22  Extrae factores fuera del signo radical en:   1BC   \n",
       "23  Extrae factores fuera del signo radical en:   1BC   \n",
       "24  Extrae factores fuera del signo radical en:   1BC   \n",
       "25  Extrae factores fuera del signo radical en:   1BC   \n",
       "\n",
       "                       titulo n_ejercicio  dificultad  n_columnas  puntos  \n",
       "22  2 - Potencias y radicales       p6e16           1           3       1  \n",
       "23  2 - Potencias y radicales       p6e16           1           3       1  \n",
       "24  2 - Potencias y radicales       p6e16           1           3       1  \n",
       "25  2 - Potencias y radicales       p6e16           1           3       1  "
      ]
     },
     "metadata": {},
     "output_type": "display_data"
    },
    {
     "data": {
      "text/markdown": [
       "**Ejercicio: **p6e17"
      ],
      "text/plain": [
       "<IPython.core.display.Markdown object>"
      ]
     },
     "metadata": {},
     "output_type": "display_data"
    },
    {
     "data": {
      "text/html": [
       "<div>\n",
       "<style scoped>\n",
       "    .dataframe tbody tr th:only-of-type {\n",
       "        vertical-align: middle;\n",
       "    }\n",
       "\n",
       "    .dataframe tbody tr th {\n",
       "        vertical-align: top;\n",
       "    }\n",
       "\n",
       "    .dataframe thead th {\n",
       "        text-align: right;\n",
       "    }\n",
       "</style>\n",
       "<table border=\"1\" class=\"dataframe\">\n",
       "  <thead>\n",
       "    <tr style=\"text-align: right;\">\n",
       "      <th></th>\n",
       "      <th>enunciado_latex</th>\n",
       "      <th>enunciado</th>\n",
       "      <th>solucion</th>\n",
       "      <th>texto</th>\n",
       "      <th>curso</th>\n",
       "      <th>titulo</th>\n",
       "      <th>n_ejercicio</th>\n",
       "      <th>dificultad</th>\n",
       "      <th>n_columnas</th>\n",
       "      <th>puntos</th>\n",
       "    </tr>\n",
       "  </thead>\n",
       "  <tbody>\n",
       "    <tr>\n",
       "      <th>26</th>\n",
       "      <td>\\sqrt{a}  \\cdot \\sqrt[5]{a} \\cdot \\sqrt[6]{a}</td>\n",
       "      <td>a**(1/6)*(a**(1/5)*sqrt(a))</td>\n",
       "      <td>a^{\\frac{13}{15}}</td>\n",
       "      <td>Calcula y expresa el resultado como potencia d...</td>\n",
       "      <td>1BC</td>\n",
       "      <td>2 - Potencias y radicales</td>\n",
       "      <td>p6e17</td>\n",
       "      <td>1</td>\n",
       "      <td>3</td>\n",
       "      <td>1</td>\n",
       "    </tr>\n",
       "    <tr>\n",
       "      <th>27</th>\n",
       "      <td>\\sqrt[3]{\\sqrt{a} }</td>\n",
       "      <td>a**(1/6)</td>\n",
       "      <td>\\sqrt[6]{a}</td>\n",
       "      <td>Calcula y expresa el resultado como potencia d...</td>\n",
       "      <td>1BC</td>\n",
       "      <td>2 - Potencias y radicales</td>\n",
       "      <td>p6e17</td>\n",
       "      <td>1</td>\n",
       "      <td>3</td>\n",
       "      <td>1</td>\n",
       "    </tr>\n",
       "    <tr>\n",
       "      <th>28</th>\n",
       "      <td>\\frac{{\\sqrt[3]{a} 3}}{{\\sqrt{a}}}</td>\n",
       "      <td>(3*a**(1/3))/sqrt(a)</td>\n",
       "      <td>\\frac{3}{\\sqrt[6]{a}}</td>\n",
       "      <td>Calcula y expresa el resultado como potencia d...</td>\n",
       "      <td>1BC</td>\n",
       "      <td>2 - Potencias y radicales</td>\n",
       "      <td>p6e17</td>\n",
       "      <td>1</td>\n",
       "      <td>3</td>\n",
       "      <td>1</td>\n",
       "    </tr>\n",
       "    <tr>\n",
       "      <th>29</th>\n",
       "      <td>\\sqrt {\\sqrt {\\sqrt {2} } }</td>\n",
       "      <td>2**(1/8)</td>\n",
       "      <td>\\sqrt[8]{2}</td>\n",
       "      <td>Calcula y expresa el resultado como potencia d...</td>\n",
       "      <td>1BC</td>\n",
       "      <td>2 - Potencias y radicales</td>\n",
       "      <td>p6e17</td>\n",
       "      <td>1</td>\n",
       "      <td>3</td>\n",
       "      <td>1</td>\n",
       "    </tr>\n",
       "    <tr>\n",
       "      <th>30</th>\n",
       "      <td>\\sqrt {a\\sqrt[3]{a} }</td>\n",
       "      <td>sqrt(a**(4/3))</td>\n",
       "      <td>\\sqrt{a^{\\frac{4}{3}}}</td>\n",
       "      <td>Calcula y expresa el resultado como potencia d...</td>\n",
       "      <td>1BC</td>\n",
       "      <td>2 - Potencias y radicales</td>\n",
       "      <td>p6e17</td>\n",
       "      <td>1</td>\n",
       "      <td>3</td>\n",
       "      <td>1</td>\n",
       "    </tr>\n",
       "    <tr>\n",
       "      <th>31</th>\n",
       "      <td>\\frac{{\\sqrt[5]{a}  \\cdot \\sqrt {a} }}{{{a^{\\f...</td>\n",
       "      <td>(a**(1/5)*sqrt(a))/a**(1/3)</td>\n",
       "      <td>a^{\\frac{11}{30}}</td>\n",
       "      <td>Calcula y expresa el resultado como potencia d...</td>\n",
       "      <td>1BC</td>\n",
       "      <td>2 - Potencias y radicales</td>\n",
       "      <td>p6e17</td>\n",
       "      <td>1</td>\n",
       "      <td>3</td>\n",
       "      <td>1</td>\n",
       "    </tr>\n",
       "  </tbody>\n",
       "</table>\n",
       "</div>"
      ],
      "text/plain": [
       "                                      enunciado_latex  \\\n",
       "26      \\sqrt{a}  \\cdot \\sqrt[5]{a} \\cdot \\sqrt[6]{a}   \n",
       "27                                \\sqrt[3]{\\sqrt{a} }   \n",
       "28                 \\frac{{\\sqrt[3]{a} 3}}{{\\sqrt{a}}}   \n",
       "29                        \\sqrt {\\sqrt {\\sqrt {2} } }   \n",
       "30                              \\sqrt {a\\sqrt[3]{a} }   \n",
       "31  \\frac{{\\sqrt[5]{a}  \\cdot \\sqrt {a} }}{{{a^{\\f...   \n",
       "\n",
       "                      enunciado                solucion  \\\n",
       "26  a**(1/6)*(a**(1/5)*sqrt(a))       a^{\\frac{13}{15}}   \n",
       "27                     a**(1/6)             \\sqrt[6]{a}   \n",
       "28         (3*a**(1/3))/sqrt(a)   \\frac{3}{\\sqrt[6]{a}}   \n",
       "29                     2**(1/8)             \\sqrt[8]{2}   \n",
       "30               sqrt(a**(4/3))  \\sqrt{a^{\\frac{4}{3}}}   \n",
       "31  (a**(1/5)*sqrt(a))/a**(1/3)       a^{\\frac{11}{30}}   \n",
       "\n",
       "                                                texto curso  \\\n",
       "26  Calcula y expresa el resultado como potencia d...   1BC   \n",
       "27  Calcula y expresa el resultado como potencia d...   1BC   \n",
       "28  Calcula y expresa el resultado como potencia d...   1BC   \n",
       "29  Calcula y expresa el resultado como potencia d...   1BC   \n",
       "30  Calcula y expresa el resultado como potencia d...   1BC   \n",
       "31  Calcula y expresa el resultado como potencia d...   1BC   \n",
       "\n",
       "                       titulo n_ejercicio  dificultad  n_columnas  puntos  \n",
       "26  2 - Potencias y radicales       p6e17           1           3       1  \n",
       "27  2 - Potencias y radicales       p6e17           1           3       1  \n",
       "28  2 - Potencias y radicales       p6e17           1           3       1  \n",
       "29  2 - Potencias y radicales       p6e17           1           3       1  \n",
       "30  2 - Potencias y radicales       p6e17           1           3       1  \n",
       "31  2 - Potencias y radicales       p6e17           1           3       1  "
      ]
     },
     "metadata": {},
     "output_type": "display_data"
    },
    {
     "data": {
      "text/markdown": [
       "**Ejercicio: **p6e18"
      ],
      "text/plain": [
       "<IPython.core.display.Markdown object>"
      ]
     },
     "metadata": {},
     "output_type": "display_data"
    },
    {
     "data": {
      "text/html": [
       "<div>\n",
       "<style scoped>\n",
       "    .dataframe tbody tr th:only-of-type {\n",
       "        vertical-align: middle;\n",
       "    }\n",
       "\n",
       "    .dataframe tbody tr th {\n",
       "        vertical-align: top;\n",
       "    }\n",
       "\n",
       "    .dataframe thead th {\n",
       "        text-align: right;\n",
       "    }\n",
       "</style>\n",
       "<table border=\"1\" class=\"dataframe\">\n",
       "  <thead>\n",
       "    <tr style=\"text-align: right;\">\n",
       "      <th></th>\n",
       "      <th>enunciado_latex</th>\n",
       "      <th>enunciado</th>\n",
       "      <th>solucion</th>\n",
       "      <th>texto</th>\n",
       "      <th>curso</th>\n",
       "      <th>titulo</th>\n",
       "      <th>n_ejercicio</th>\n",
       "      <th>dificultad</th>\n",
       "      <th>n_columnas</th>\n",
       "      <th>puntos</th>\n",
       "    </tr>\n",
       "  </thead>\n",
       "  <tbody>\n",
       "    <tr>\n",
       "      <th>32</th>\n",
       "      <td>4\\sqrt {3125}  + 2\\sqrt {20}  - 30\\sqrt {45}</td>\n",
       "      <td>-90*sqrt(5) + 2*(2*sqrt(5)) + 4*(25*sqrt(5))</td>\n",
       "      <td>14 \\sqrt{5}</td>\n",
       "      <td>Calcula:</td>\n",
       "      <td>1BC</td>\n",
       "      <td>2 - Potencias y radicales</td>\n",
       "      <td>p6e18</td>\n",
       "      <td>1</td>\n",
       "      <td>3</td>\n",
       "      <td>1</td>\n",
       "    </tr>\n",
       "    <tr>\n",
       "      <th>33</th>\n",
       "      <td>\\frac{1}{4}\\sqrt {3125}  - 2\\sqrt {20}  - \\fra...</td>\n",
       "      <td>-9*sqrt(5)/2 - 4*sqrt(5) + (25*sqrt(5))/4</td>\n",
       "      <td>- \\frac{9 \\sqrt{5}}{4}</td>\n",
       "      <td>Calcula:</td>\n",
       "      <td>1BC</td>\n",
       "      <td>2 - Potencias y radicales</td>\n",
       "      <td>p6e18</td>\n",
       "      <td>1</td>\n",
       "      <td>3</td>\n",
       "      <td>1</td>\n",
       "    </tr>\n",
       "  </tbody>\n",
       "</table>\n",
       "</div>"
      ],
      "text/plain": [
       "                                      enunciado_latex  \\\n",
       "32       4\\sqrt {3125}  + 2\\sqrt {20}  - 30\\sqrt {45}   \n",
       "33  \\frac{1}{4}\\sqrt {3125}  - 2\\sqrt {20}  - \\fra...   \n",
       "\n",
       "                                       enunciado                solucion  \\\n",
       "32  -90*sqrt(5) + 2*(2*sqrt(5)) + 4*(25*sqrt(5))             14 \\sqrt{5}   \n",
       "33     -9*sqrt(5)/2 - 4*sqrt(5) + (25*sqrt(5))/4  - \\frac{9 \\sqrt{5}}{4}   \n",
       "\n",
       "       texto curso                     titulo n_ejercicio  dificultad  \\\n",
       "32  Calcula:   1BC  2 - Potencias y radicales       p6e18           1   \n",
       "33  Calcula:   1BC  2 - Potencias y radicales       p6e18           1   \n",
       "\n",
       "    n_columnas  puntos  \n",
       "32           3       1  \n",
       "33           3       1  "
      ]
     },
     "metadata": {},
     "output_type": "display_data"
    },
    {
     "data": {
      "text/markdown": [
       "**Ejercicio: **p6e19"
      ],
      "text/plain": [
       "<IPython.core.display.Markdown object>"
      ]
     },
     "metadata": {},
     "output_type": "display_data"
    },
    {
     "data": {
      "text/html": [
       "<div>\n",
       "<style scoped>\n",
       "    .dataframe tbody tr th:only-of-type {\n",
       "        vertical-align: middle;\n",
       "    }\n",
       "\n",
       "    .dataframe tbody tr th {\n",
       "        vertical-align: top;\n",
       "    }\n",
       "\n",
       "    .dataframe thead th {\n",
       "        text-align: right;\n",
       "    }\n",
       "</style>\n",
       "<table border=\"1\" class=\"dataframe\">\n",
       "  <thead>\n",
       "    <tr style=\"text-align: right;\">\n",
       "      <th></th>\n",
       "      <th>enunciado_latex</th>\n",
       "      <th>enunciado</th>\n",
       "      <th>solucion</th>\n",
       "      <th>texto</th>\n",
       "      <th>curso</th>\n",
       "      <th>titulo</th>\n",
       "      <th>n_ejercicio</th>\n",
       "      <th>dificultad</th>\n",
       "      <th>n_columnas</th>\n",
       "      <th>puntos</th>\n",
       "    </tr>\n",
       "  </thead>\n",
       "  <tbody>\n",
       "    <tr>\n",
       "      <th>34</th>\n",
       "      <td>\\frac{3}{{2\\sqrt {6} }}</td>\n",
       "      <td>3/((2*sqrt(6)))</td>\n",
       "      <td>\\frac{\\sqrt{6}}{4}</td>\n",
       "      <td>Racionaliza:</td>\n",
       "      <td>1BC</td>\n",
       "      <td>2 - Potencias y radicales</td>\n",
       "      <td>p6e19</td>\n",
       "      <td>1</td>\n",
       "      <td>3</td>\n",
       "      <td>1</td>\n",
       "    </tr>\n",
       "    <tr>\n",
       "      <th>35</th>\n",
       "      <td>\\frac{5}{{\\sqrt{2} }}</td>\n",
       "      <td>5/sqrt(2)</td>\n",
       "      <td>\\frac{5 \\sqrt{2}}{2}</td>\n",
       "      <td>Racionaliza:</td>\n",
       "      <td>1BC</td>\n",
       "      <td>2 - Potencias y radicales</td>\n",
       "      <td>p6e19</td>\n",
       "      <td>1</td>\n",
       "      <td>3</td>\n",
       "      <td>1</td>\n",
       "    </tr>\n",
       "    <tr>\n",
       "      <th>36</th>\n",
       "      <td>\\frac{2}{{3\\sqrt[3]{ 2} }}</td>\n",
       "      <td>2/((3*2**(1/3)))</td>\n",
       "      <td>\\frac{2^{\\frac{2}{3}}}{3}</td>\n",
       "      <td>Racionaliza:</td>\n",
       "      <td>1BC</td>\n",
       "      <td>2 - Potencias y radicales</td>\n",
       "      <td>p6e19</td>\n",
       "      <td>1</td>\n",
       "      <td>3</td>\n",
       "      <td>1</td>\n",
       "    </tr>\n",
       "    <tr>\n",
       "      <th>37</th>\n",
       "      <td>\\frac{2}{{5\\sqrt[5]{ 2} }}</td>\n",
       "      <td>2/((5*2**(1/5)))</td>\n",
       "      <td>\\frac{2^{\\frac{4}{5}}}{5}</td>\n",
       "      <td>Racionaliza:</td>\n",
       "      <td>1BC</td>\n",
       "      <td>2 - Potencias y radicales</td>\n",
       "      <td>p6e19</td>\n",
       "      <td>1</td>\n",
       "      <td>3</td>\n",
       "      <td>1</td>\n",
       "    </tr>\n",
       "    <tr>\n",
       "      <th>38</th>\n",
       "      <td>\\frac{6}{{\\sqrt {5}  + \\sqrt {2} }}</td>\n",
       "      <td>6/(sqrt(2) + sqrt(5))</td>\n",
       "      <td>- 2 \\sqrt{2} + 2 \\sqrt{5}</td>\n",
       "      <td>Racionaliza:</td>\n",
       "      <td>1BC</td>\n",
       "      <td>2 - Potencias y radicales</td>\n",
       "      <td>p6e19</td>\n",
       "      <td>1</td>\n",
       "      <td>3</td>\n",
       "      <td>1</td>\n",
       "    </tr>\n",
       "    <tr>\n",
       "      <th>39</th>\n",
       "      <td>\\frac{5}{{2 - \\sqrt {6} }}</td>\n",
       "      <td>5/(-sqrt(6) + 2)</td>\n",
       "      <td>\\frac{- 5 \\sqrt{6} - 10}{2}</td>\n",
       "      <td>Racionaliza:</td>\n",
       "      <td>1BC</td>\n",
       "      <td>2 - Potencias y radicales</td>\n",
       "      <td>p6e19</td>\n",
       "      <td>1</td>\n",
       "      <td>3</td>\n",
       "      <td>1</td>\n",
       "    </tr>\n",
       "  </tbody>\n",
       "</table>\n",
       "</div>"
      ],
      "text/plain": [
       "                        enunciado_latex              enunciado  \\\n",
       "34              \\frac{3}{{2\\sqrt {6} }}        3/((2*sqrt(6)))   \n",
       "35                \\frac{5}{{\\sqrt{2} }}              5/sqrt(2)   \n",
       "36           \\frac{2}{{3\\sqrt[3]{ 2} }}       2/((3*2**(1/3)))   \n",
       "37           \\frac{2}{{5\\sqrt[5]{ 2} }}       2/((5*2**(1/5)))   \n",
       "38  \\frac{6}{{\\sqrt {5}  + \\sqrt {2} }}  6/(sqrt(2) + sqrt(5))   \n",
       "39           \\frac{5}{{2 - \\sqrt {6} }}       5/(-sqrt(6) + 2)   \n",
       "\n",
       "                       solucion         texto curso  \\\n",
       "34           \\frac{\\sqrt{6}}{4}  Racionaliza:   1BC   \n",
       "35         \\frac{5 \\sqrt{2}}{2}  Racionaliza:   1BC   \n",
       "36    \\frac{2^{\\frac{2}{3}}}{3}  Racionaliza:   1BC   \n",
       "37    \\frac{2^{\\frac{4}{5}}}{5}  Racionaliza:   1BC   \n",
       "38    - 2 \\sqrt{2} + 2 \\sqrt{5}  Racionaliza:   1BC   \n",
       "39  \\frac{- 5 \\sqrt{6} - 10}{2}  Racionaliza:   1BC   \n",
       "\n",
       "                       titulo n_ejercicio  dificultad  n_columnas  puntos  \n",
       "34  2 - Potencias y radicales       p6e19           1           3       1  \n",
       "35  2 - Potencias y radicales       p6e19           1           3       1  \n",
       "36  2 - Potencias y radicales       p6e19           1           3       1  \n",
       "37  2 - Potencias y radicales       p6e19           1           3       1  \n",
       "38  2 - Potencias y radicales       p6e19           1           3       1  \n",
       "39  2 - Potencias y radicales       p6e19           1           3       1  "
      ]
     },
     "metadata": {},
     "output_type": "display_data"
    },
    {
     "data": {
      "text/markdown": [
       "**Ejercicio: **p6e23"
      ],
      "text/plain": [
       "<IPython.core.display.Markdown object>"
      ]
     },
     "metadata": {},
     "output_type": "display_data"
    },
    {
     "data": {
      "text/html": [
       "<div>\n",
       "<style scoped>\n",
       "    .dataframe tbody tr th:only-of-type {\n",
       "        vertical-align: middle;\n",
       "    }\n",
       "\n",
       "    .dataframe tbody tr th {\n",
       "        vertical-align: top;\n",
       "    }\n",
       "\n",
       "    .dataframe thead th {\n",
       "        text-align: right;\n",
       "    }\n",
       "</style>\n",
       "<table border=\"1\" class=\"dataframe\">\n",
       "  <thead>\n",
       "    <tr style=\"text-align: right;\">\n",
       "      <th></th>\n",
       "      <th>enunciado_latex</th>\n",
       "      <th>enunciado</th>\n",
       "      <th>solucion</th>\n",
       "      <th>texto</th>\n",
       "      <th>curso</th>\n",
       "      <th>titulo</th>\n",
       "      <th>n_ejercicio</th>\n",
       "      <th>dificultad</th>\n",
       "      <th>n_columnas</th>\n",
       "      <th>puntos</th>\n",
       "    </tr>\n",
       "  </thead>\n",
       "  <tbody>\n",
       "    <tr>\n",
       "      <th>40</th>\n",
       "      <td>\\sqrt {729}</td>\n",
       "      <td>27</td>\n",
       "      <td>27</td>\n",
       "      <td>Calcula, descomponiendo el radicando en factor...</td>\n",
       "      <td>1BC</td>\n",
       "      <td>2 - Potencias y radicales</td>\n",
       "      <td>p6e23</td>\n",
       "      <td>1</td>\n",
       "      <td>3</td>\n",
       "      <td>1</td>\n",
       "    </tr>\n",
       "    <tr>\n",
       "      <th>41</th>\n",
       "      <td>\\sqrt[3]{64000}</td>\n",
       "      <td>40</td>\n",
       "      <td>40</td>\n",
       "      <td>Calcula, descomponiendo el radicando en factor...</td>\n",
       "      <td>1BC</td>\n",
       "      <td>2 - Potencias y radicales</td>\n",
       "      <td>p6e23</td>\n",
       "      <td>1</td>\n",
       "      <td>3</td>\n",
       "      <td>1</td>\n",
       "    </tr>\n",
       "    <tr>\n",
       "      <th>42</th>\n",
       "      <td>\\sqrt[4]{50625}</td>\n",
       "      <td>15</td>\n",
       "      <td>15</td>\n",
       "      <td>Calcula, descomponiendo el radicando en factor...</td>\n",
       "      <td>1BC</td>\n",
       "      <td>2 - Potencias y radicales</td>\n",
       "      <td>p6e23</td>\n",
       "      <td>1</td>\n",
       "      <td>3</td>\n",
       "      <td>1</td>\n",
       "    </tr>\n",
       "    <tr>\n",
       "      <th>43</th>\n",
       "      <td>\\sqrt[5]{59049}</td>\n",
       "      <td>9</td>\n",
       "      <td>9</td>\n",
       "      <td>Calcula, descomponiendo el radicando en factor...</td>\n",
       "      <td>1BC</td>\n",
       "      <td>2 - Potencias y radicales</td>\n",
       "      <td>p6e23</td>\n",
       "      <td>1</td>\n",
       "      <td>3</td>\n",
       "      <td>1</td>\n",
       "    </tr>\n",
       "  </tbody>\n",
       "</table>\n",
       "</div>"
      ],
      "text/plain": [
       "    enunciado_latex enunciado solucion  \\\n",
       "40      \\sqrt {729}        27       27   \n",
       "41  \\sqrt[3]{64000}        40       40   \n",
       "42  \\sqrt[4]{50625}        15       15   \n",
       "43  \\sqrt[5]{59049}         9        9   \n",
       "\n",
       "                                                texto curso  \\\n",
       "40  Calcula, descomponiendo el radicando en factor...   1BC   \n",
       "41  Calcula, descomponiendo el radicando en factor...   1BC   \n",
       "42  Calcula, descomponiendo el radicando en factor...   1BC   \n",
       "43  Calcula, descomponiendo el radicando en factor...   1BC   \n",
       "\n",
       "                       titulo n_ejercicio  dificultad  n_columnas  puntos  \n",
       "40  2 - Potencias y radicales       p6e23           1           3       1  \n",
       "41  2 - Potencias y radicales       p6e23           1           3       1  \n",
       "42  2 - Potencias y radicales       p6e23           1           3       1  \n",
       "43  2 - Potencias y radicales       p6e23           1           3       1  "
      ]
     },
     "metadata": {},
     "output_type": "display_data"
    },
    {
     "data": {
      "text/markdown": [
       "**Ejercicio: **p6e25"
      ],
      "text/plain": [
       "<IPython.core.display.Markdown object>"
      ]
     },
     "metadata": {},
     "output_type": "display_data"
    },
    {
     "data": {
      "text/html": [
       "<div>\n",
       "<style scoped>\n",
       "    .dataframe tbody tr th:only-of-type {\n",
       "        vertical-align: middle;\n",
       "    }\n",
       "\n",
       "    .dataframe tbody tr th {\n",
       "        vertical-align: top;\n",
       "    }\n",
       "\n",
       "    .dataframe thead th {\n",
       "        text-align: right;\n",
       "    }\n",
       "</style>\n",
       "<table border=\"1\" class=\"dataframe\">\n",
       "  <thead>\n",
       "    <tr style=\"text-align: right;\">\n",
       "      <th></th>\n",
       "      <th>enunciado_latex</th>\n",
       "      <th>enunciado</th>\n",
       "      <th>solucion</th>\n",
       "      <th>texto</th>\n",
       "      <th>curso</th>\n",
       "      <th>titulo</th>\n",
       "      <th>n_ejercicio</th>\n",
       "      <th>dificultad</th>\n",
       "      <th>n_columnas</th>\n",
       "      <th>puntos</th>\n",
       "    </tr>\n",
       "  </thead>\n",
       "  <tbody>\n",
       "    <tr>\n",
       "      <th>44</th>\n",
       "      <td>5\\sqrt {8}  - 2\\sqrt {50}  + \\sqrt {32}  - \\sq...</td>\n",
       "      <td>-sqrt(2) - 10*sqrt(2) + 5*(2*sqrt(2)) + 4*sqrt(2)</td>\n",
       "      <td>3 \\sqrt{2}</td>\n",
       "      <td>Calcula:</td>\n",
       "      <td>1BC</td>\n",
       "      <td>2 - Potencias y radicales</td>\n",
       "      <td>p6e25</td>\n",
       "      <td>1</td>\n",
       "      <td>3</td>\n",
       "      <td>1</td>\n",
       "    </tr>\n",
       "    <tr>\n",
       "      <th>45</th>\n",
       "      <td>\\sqrt {27}  - \\frac{1}{4}\\sqrt {12}  + \\frac{2...</td>\n",
       "      <td>(5*sqrt(3))*(2/5) - sqrt(3)/2 + 3*sqrt(3)</td>\n",
       "      <td>\\frac{9 \\sqrt{3}}{2}</td>\n",
       "      <td>Calcula:</td>\n",
       "      <td>1BC</td>\n",
       "      <td>2 - Potencias y radicales</td>\n",
       "      <td>p6e25</td>\n",
       "      <td>1</td>\n",
       "      <td>3</td>\n",
       "      <td>1</td>\n",
       "    </tr>\n",
       "    <tr>\n",
       "      <th>46</th>\n",
       "      <td>\\sqrt {\\frac{2}{9}}  + \\sqrt 8  - \\sqrt {\\frac...</td>\n",
       "      <td>sqrt(2)/3</td>\n",
       "      <td>\\frac{\\sqrt{2}}{3}</td>\n",
       "      <td>Calcula:</td>\n",
       "      <td>1BC</td>\n",
       "      <td>2 - Potencias y radicales</td>\n",
       "      <td>p6e25</td>\n",
       "      <td>1</td>\n",
       "      <td>3</td>\n",
       "      <td>1</td>\n",
       "    </tr>\n",
       "  </tbody>\n",
       "</table>\n",
       "</div>"
      ],
      "text/plain": [
       "                                      enunciado_latex  \\\n",
       "44  5\\sqrt {8}  - 2\\sqrt {50}  + \\sqrt {32}  - \\sq...   \n",
       "45  \\sqrt {27}  - \\frac{1}{4}\\sqrt {12}  + \\frac{2...   \n",
       "46  \\sqrt {\\frac{2}{9}}  + \\sqrt 8  - \\sqrt {\\frac...   \n",
       "\n",
       "                                            enunciado              solucion  \\\n",
       "44  -sqrt(2) - 10*sqrt(2) + 5*(2*sqrt(2)) + 4*sqrt(2)            3 \\sqrt{2}   \n",
       "45          (5*sqrt(3))*(2/5) - sqrt(3)/2 + 3*sqrt(3)  \\frac{9 \\sqrt{3}}{2}   \n",
       "46                                          sqrt(2)/3    \\frac{\\sqrt{2}}{3}   \n",
       "\n",
       "       texto curso                     titulo n_ejercicio  dificultad  \\\n",
       "44  Calcula:   1BC  2 - Potencias y radicales       p6e25           1   \n",
       "45  Calcula:   1BC  2 - Potencias y radicales       p6e25           1   \n",
       "46  Calcula:   1BC  2 - Potencias y radicales       p6e25           1   \n",
       "\n",
       "    n_columnas  puntos  \n",
       "44           3       1  \n",
       "45           3       1  \n",
       "46           3       1  "
      ]
     },
     "metadata": {},
     "output_type": "display_data"
    },
    {
     "data": {
      "text/markdown": [
       "**Ejercicio: **p6e26"
      ],
      "text/plain": [
       "<IPython.core.display.Markdown object>"
      ]
     },
     "metadata": {},
     "output_type": "display_data"
    },
    {
     "data": {
      "text/html": [
       "<div>\n",
       "<style scoped>\n",
       "    .dataframe tbody tr th:only-of-type {\n",
       "        vertical-align: middle;\n",
       "    }\n",
       "\n",
       "    .dataframe tbody tr th {\n",
       "        vertical-align: top;\n",
       "    }\n",
       "\n",
       "    .dataframe thead th {\n",
       "        text-align: right;\n",
       "    }\n",
       "</style>\n",
       "<table border=\"1\" class=\"dataframe\">\n",
       "  <thead>\n",
       "    <tr style=\"text-align: right;\">\n",
       "      <th></th>\n",
       "      <th>enunciado_latex</th>\n",
       "      <th>enunciado</th>\n",
       "      <th>solucion</th>\n",
       "      <th>texto</th>\n",
       "      <th>curso</th>\n",
       "      <th>titulo</th>\n",
       "      <th>n_ejercicio</th>\n",
       "      <th>dificultad</th>\n",
       "      <th>n_columnas</th>\n",
       "      <th>puntos</th>\n",
       "    </tr>\n",
       "  </thead>\n",
       "  <tbody>\n",
       "    <tr>\n",
       "      <th>47</th>\n",
       "      <td>\\sqrt [3] {5}  \\cdot \\sqrt [4] {3}   \\cdot \\sq...</td>\n",
       "      <td>sqrt(2)*(3**(1/4)*5**(1/3))</td>\n",
       "      <td>\\sqrt{2} \\sqrt[4]{3} \\sqrt[3]{5}</td>\n",
       "      <td>Calcula y simplifica:</td>\n",
       "      <td>1BC</td>\n",
       "      <td>2 - Potencias y radicales</td>\n",
       "      <td>p6e26</td>\n",
       "      <td>1</td>\n",
       "      <td>3</td>\n",
       "      <td>1</td>\n",
       "    </tr>\n",
       "    <tr>\n",
       "      <th>48</th>\n",
       "      <td>\\frac{{\\sqrt[3]{5} \\cdot \\sqrt{3}}}{{\\sqrt {15...</td>\n",
       "      <td>(sqrt(3)*5**(1/3))/((sqrt(15)*sqrt(6)))</td>\n",
       "      <td>\\frac{5^{\\frac{5}{6}} \\sqrt{6}}{30}</td>\n",
       "      <td>Calcula y simplifica:</td>\n",
       "      <td>1BC</td>\n",
       "      <td>2 - Potencias y radicales</td>\n",
       "      <td>p6e26</td>\n",
       "      <td>1</td>\n",
       "      <td>3</td>\n",
       "      <td>1</td>\n",
       "    </tr>\n",
       "    <tr>\n",
       "      <th>49</th>\n",
       "      <td>\\frac{{\\sqrt[6]{5}}}{{\\sqrt[3]{5}}}</td>\n",
       "      <td>5**(1/6)/5**(1/3)</td>\n",
       "      <td>\\frac{5^{\\frac{5}{6}}}{5}</td>\n",
       "      <td>Calcula y simplifica:</td>\n",
       "      <td>1BC</td>\n",
       "      <td>2 - Potencias y radicales</td>\n",
       "      <td>p6e26</td>\n",
       "      <td>1</td>\n",
       "      <td>3</td>\n",
       "      <td>1</td>\n",
       "    </tr>\n",
       "    <tr>\n",
       "      <th>50</th>\n",
       "      <td>\\sqrt[5]{{{27}^{\\frac{5}{3}}}}</td>\n",
       "      <td>3</td>\n",
       "      <td>3</td>\n",
       "      <td>Calcula y simplifica:</td>\n",
       "      <td>1BC</td>\n",
       "      <td>2 - Potencias y radicales</td>\n",
       "      <td>p6e26</td>\n",
       "      <td>1</td>\n",
       "      <td>3</td>\n",
       "      <td>1</td>\n",
       "    </tr>\n",
       "    <tr>\n",
       "      <th>51</th>\n",
       "      <td>\\sqrt[3] {4}  \\cdot \\sqrt[4] {8}  \\cdot \\sqrt {2}</td>\n",
       "      <td>sqrt(2)*(2**(2/3)*2**(3/4))</td>\n",
       "      <td>2 \\cdot 2^{\\frac{11}{12}}</td>\n",
       "      <td>Calcula y simplifica:</td>\n",
       "      <td>1BC</td>\n",
       "      <td>2 - Potencias y radicales</td>\n",
       "      <td>p6e26</td>\n",
       "      <td>1</td>\n",
       "      <td>3</td>\n",
       "      <td>1</td>\n",
       "    </tr>\n",
       "  </tbody>\n",
       "</table>\n",
       "</div>"
      ],
      "text/plain": [
       "                                      enunciado_latex  \\\n",
       "47  \\sqrt [3] {5}  \\cdot \\sqrt [4] {3}   \\cdot \\sq...   \n",
       "48  \\frac{{\\sqrt[3]{5} \\cdot \\sqrt{3}}}{{\\sqrt {15...   \n",
       "49                \\frac{{\\sqrt[6]{5}}}{{\\sqrt[3]{5}}}   \n",
       "50                     \\sqrt[5]{{{27}^{\\frac{5}{3}}}}   \n",
       "51  \\sqrt[3] {4}  \\cdot \\sqrt[4] {8}  \\cdot \\sqrt {2}   \n",
       "\n",
       "                                  enunciado  \\\n",
       "47              sqrt(2)*(3**(1/4)*5**(1/3))   \n",
       "48  (sqrt(3)*5**(1/3))/((sqrt(15)*sqrt(6)))   \n",
       "49                        5**(1/6)/5**(1/3)   \n",
       "50                                        3   \n",
       "51              sqrt(2)*(2**(2/3)*2**(3/4))   \n",
       "\n",
       "                               solucion                  texto curso  \\\n",
       "47     \\sqrt{2} \\sqrt[4]{3} \\sqrt[3]{5}  Calcula y simplifica:   1BC   \n",
       "48  \\frac{5^{\\frac{5}{6}} \\sqrt{6}}{30}  Calcula y simplifica:   1BC   \n",
       "49            \\frac{5^{\\frac{5}{6}}}{5}  Calcula y simplifica:   1BC   \n",
       "50                                    3  Calcula y simplifica:   1BC   \n",
       "51            2 \\cdot 2^{\\frac{11}{12}}  Calcula y simplifica:   1BC   \n",
       "\n",
       "                       titulo n_ejercicio  dificultad  n_columnas  puntos  \n",
       "47  2 - Potencias y radicales       p6e26           1           3       1  \n",
       "48  2 - Potencias y radicales       p6e26           1           3       1  \n",
       "49  2 - Potencias y radicales       p6e26           1           3       1  \n",
       "50  2 - Potencias y radicales       p6e26           1           3       1  \n",
       "51  2 - Potencias y radicales       p6e26           1           3       1  "
      ]
     },
     "metadata": {},
     "output_type": "display_data"
    },
    {
     "data": {
      "text/markdown": [
       "**Ejercicio: **p6e27"
      ],
      "text/plain": [
       "<IPython.core.display.Markdown object>"
      ]
     },
     "metadata": {},
     "output_type": "display_data"
    },
    {
     "data": {
      "text/html": [
       "<div>\n",
       "<style scoped>\n",
       "    .dataframe tbody tr th:only-of-type {\n",
       "        vertical-align: middle;\n",
       "    }\n",
       "\n",
       "    .dataframe tbody tr th {\n",
       "        vertical-align: top;\n",
       "    }\n",
       "\n",
       "    .dataframe thead th {\n",
       "        text-align: right;\n",
       "    }\n",
       "</style>\n",
       "<table border=\"1\" class=\"dataframe\">\n",
       "  <thead>\n",
       "    <tr style=\"text-align: right;\">\n",
       "      <th></th>\n",
       "      <th>enunciado_latex</th>\n",
       "      <th>enunciado</th>\n",
       "      <th>solucion</th>\n",
       "      <th>texto</th>\n",
       "      <th>curso</th>\n",
       "      <th>titulo</th>\n",
       "      <th>n_ejercicio</th>\n",
       "      <th>dificultad</th>\n",
       "      <th>n_columnas</th>\n",
       "      <th>puntos</th>\n",
       "    </tr>\n",
       "  </thead>\n",
       "  <tbody>\n",
       "    <tr>\n",
       "      <th>52</th>\n",
       "      <td>\\sqrt[3] {5} \\cdot \\sqrt[3]{5^2}</td>\n",
       "      <td>5**(1/3)*5**(2/3)</td>\n",
       "      <td>5</td>\n",
       "      <td>Efectúa:</td>\n",
       "      <td>1BC</td>\n",
       "      <td>2 - Potencias y radicales</td>\n",
       "      <td>p6e27</td>\n",
       "      <td>1</td>\n",
       "      <td>3</td>\n",
       "      <td>1</td>\n",
       "    </tr>\n",
       "    <tr>\n",
       "      <th>53</th>\n",
       "      <td>\\frac{{\\sqrt[3]{{x^2}{y^3}} }}{{\\sqrt[3]{xy} }}</td>\n",
       "      <td>(x**2*y**3)**(1/3)/(x*y)**(1/3)</td>\n",
       "      <td>\\frac{\\sqrt[3]{x^{2} y^{3}}}{\\sqrt[3]{x y}}</td>\n",
       "      <td>Efectúa:</td>\n",
       "      <td>1BC</td>\n",
       "      <td>2 - Potencias y radicales</td>\n",
       "      <td>p6e27</td>\n",
       "      <td>1</td>\n",
       "      <td>3</td>\n",
       "      <td>1</td>\n",
       "    </tr>\n",
       "    <tr>\n",
       "      <th>54</th>\n",
       "      <td>( {\\sqrt[5]{{3^2}} } )^4</td>\n",
       "      <td>(3**(2/5))**4</td>\n",
       "      <td>3 \\cdot 3^{\\frac{3}{5}}</td>\n",
       "      <td>Efectúa:</td>\n",
       "      <td>1BC</td>\n",
       "      <td>2 - Potencias y radicales</td>\n",
       "      <td>p6e27</td>\n",
       "      <td>1</td>\n",
       "      <td>3</td>\n",
       "      <td>1</td>\n",
       "    </tr>\n",
       "    <tr>\n",
       "      <th>55</th>\n",
       "      <td>\\sqrt[3] {5}  \\cdot \\sqrt[4] {{5^2}}</td>\n",
       "      <td>5**(1/3)*sqrt(5)</td>\n",
       "      <td>5^{\\frac{5}{6}}</td>\n",
       "      <td>Efectúa:</td>\n",
       "      <td>1BC</td>\n",
       "      <td>2 - Potencias y radicales</td>\n",
       "      <td>p6e27</td>\n",
       "      <td>1</td>\n",
       "      <td>3</td>\n",
       "      <td>1</td>\n",
       "    </tr>\n",
       "    <tr>\n",
       "      <th>56</th>\n",
       "      <td>3\\sqrt{ 5}  \\cdot 2\\sqrt[3]{25}</td>\n",
       "      <td>(3*sqrt(5))*(2*5**(2/3))</td>\n",
       "      <td>30 \\sqrt[6]{5}</td>\n",
       "      <td>Efectúa:</td>\n",
       "      <td>1BC</td>\n",
       "      <td>2 - Potencias y radicales</td>\n",
       "      <td>p6e27</td>\n",
       "      <td>1</td>\n",
       "      <td>3</td>\n",
       "      <td>1</td>\n",
       "    </tr>\n",
       "    <tr>\n",
       "      <th>57</th>\n",
       "      <td>\\sqrt[3]{{a^3} b}  \\cdot \\sqrt[6]{a{b^4}}</td>\n",
       "      <td>(a*b**4)**(1/6)*(a**3*b)**(1/3)</td>\n",
       "      <td>\\sqrt[6]{a b^{4}} \\sqrt[3]{a^{3} b}</td>\n",
       "      <td>Efectúa:</td>\n",
       "      <td>1BC</td>\n",
       "      <td>2 - Potencias y radicales</td>\n",
       "      <td>p6e27</td>\n",
       "      <td>1</td>\n",
       "      <td>3</td>\n",
       "      <td>1</td>\n",
       "    </tr>\n",
       "    <tr>\n",
       "      <th>58</th>\n",
       "      <td>3\\sqrt[4]{2}  \\cdot \\sqrt {8}</td>\n",
       "      <td>(3*2**(1/4))*(2*sqrt(2))</td>\n",
       "      <td>6 \\cdot 2^{\\frac{3}{4}}</td>\n",
       "      <td>Efectúa:</td>\n",
       "      <td>1BC</td>\n",
       "      <td>2 - Potencias y radicales</td>\n",
       "      <td>p6e27</td>\n",
       "      <td>1</td>\n",
       "      <td>3</td>\n",
       "      <td>1</td>\n",
       "    </tr>\n",
       "    <tr>\n",
       "      <th>59</th>\n",
       "      <td>\\frac{{\\sqrt[4]{{x^3}{y^3}} }}{{\\sqrt[3]{xy} }}</td>\n",
       "      <td>(x**3*y**3)**(1/4)/(x*y)**(1/3)</td>\n",
       "      <td>\\frac{\\sqrt[4]{x^{3} y^{3}}}{\\sqrt[3]{x y}}</td>\n",
       "      <td>Efectúa:</td>\n",
       "      <td>1BC</td>\n",
       "      <td>2 - Potencias y radicales</td>\n",
       "      <td>p6e27</td>\n",
       "      <td>1</td>\n",
       "      <td>3</td>\n",
       "      <td>1</td>\n",
       "    </tr>\n",
       "    <tr>\n",
       "      <th>60</th>\n",
       "      <td>\\frac{{4\\sqrt [4]{6} }}{{2\\sqrt {3} }}</td>\n",
       "      <td>(4*6**(1/4))/((2*sqrt(3)))</td>\n",
       "      <td>\\frac{2 \\sqrt[4]{2} \\cdot 3^{\\frac{3}{4}}}{3}</td>\n",
       "      <td>Efectúa:</td>\n",
       "      <td>1BC</td>\n",
       "      <td>2 - Potencias y radicales</td>\n",
       "      <td>p6e27</td>\n",
       "      <td>1</td>\n",
       "      <td>3</td>\n",
       "      <td>1</td>\n",
       "    </tr>\n",
       "    <tr>\n",
       "      <th>61</th>\n",
       "      <td>\\frac{{6\\sqrt[3] { 5} }}{{2\\sqrt {10} }}</td>\n",
       "      <td>(6*5**(1/3))/((2*sqrt(10)))</td>\n",
       "      <td>\\frac{3 \\sqrt{2} \\cdot 5^{\\frac{5}{6}}}{10}</td>\n",
       "      <td>Efectúa:</td>\n",
       "      <td>1BC</td>\n",
       "      <td>2 - Potencias y radicales</td>\n",
       "      <td>p6e27</td>\n",
       "      <td>1</td>\n",
       "      <td>3</td>\n",
       "      <td>1</td>\n",
       "    </tr>\n",
       "    <tr>\n",
       "      <th>62</th>\n",
       "      <td>\\frac{{\\sqrt[5]{{{( {a + b})}^3}} }}{{\\sqrt {a...</td>\n",
       "      <td>((a + b)**3)**(1/5)/sqrt(a + b)</td>\n",
       "      <td>\\frac{\\sqrt{a + b} \\sqrt[5]{\\left(a + b\\right)...</td>\n",
       "      <td>Efectúa:</td>\n",
       "      <td>1BC</td>\n",
       "      <td>2 - Potencias y radicales</td>\n",
       "      <td>p6e27</td>\n",
       "      <td>1</td>\n",
       "      <td>3</td>\n",
       "      <td>1</td>\n",
       "    </tr>\n",
       "    <tr>\n",
       "      <th>63</th>\n",
       "      <td>\\sqrt [3] {{x^2}}  \\cdot \\frac{{\\sqrt [5] {xy}...</td>\n",
       "      <td>((x*y)**(1/5)/sqrt(x*y**3))*(x**2)**(1/3)</td>\n",
       "      <td>\\frac{\\sqrt[5]{x y} \\sqrt{x y^{3}} \\sqrt[3]{x^...</td>\n",
       "      <td>Efectúa:</td>\n",
       "      <td>1BC</td>\n",
       "      <td>2 - Potencias y radicales</td>\n",
       "      <td>p6e27</td>\n",
       "      <td>1</td>\n",
       "      <td>3</td>\n",
       "      <td>1</td>\n",
       "    </tr>\n",
       "    <tr>\n",
       "      <th>64</th>\n",
       "      <td>\\sqrt [3] {\\sqrt[4] {a} }</td>\n",
       "      <td>a**(1/12)</td>\n",
       "      <td>\\sqrt[12]{a}</td>\n",
       "      <td>Efectúa:</td>\n",
       "      <td>1BC</td>\n",
       "      <td>2 - Potencias y radicales</td>\n",
       "      <td>p6e27</td>\n",
       "      <td>1</td>\n",
       "      <td>3</td>\n",
       "      <td>1</td>\n",
       "    </tr>\n",
       "    <tr>\n",
       "      <th>65</th>\n",
       "      <td>\\sqrt {\\sqrt [3]  {{x^2}\\sqrt[5] {{x^3}} } }</td>\n",
       "      <td>(x**2*(x**3)**(1/5))**(1/6)</td>\n",
       "      <td>\\sqrt[6]{x^{2} \\sqrt[5]{x^{3}}}</td>\n",
       "      <td>Efectúa:</td>\n",
       "      <td>1BC</td>\n",
       "      <td>2 - Potencias y radicales</td>\n",
       "      <td>p6e27</td>\n",
       "      <td>1</td>\n",
       "      <td>3</td>\n",
       "      <td>1</td>\n",
       "    </tr>\n",
       "    <tr>\n",
       "      <th>66</th>\n",
       "      <td>\\sqrt {n\\sqrt [5] {n\\sqrt [6]{n} } }</td>\n",
       "      <td>sqrt(n*(n**(7/6))**(1/5))</td>\n",
       "      <td>\\sqrt{n \\sqrt[5]{n^{\\frac{7}{6}}}}</td>\n",
       "      <td>Efectúa:</td>\n",
       "      <td>1BC</td>\n",
       "      <td>2 - Potencias y radicales</td>\n",
       "      <td>p6e27</td>\n",
       "      <td>1</td>\n",
       "      <td>3</td>\n",
       "      <td>1</td>\n",
       "    </tr>\n",
       "  </tbody>\n",
       "</table>\n",
       "</div>"
      ],
      "text/plain": [
       "                                      enunciado_latex  \\\n",
       "52                   \\sqrt[3] {5} \\cdot \\sqrt[3]{5^2}   \n",
       "53    \\frac{{\\sqrt[3]{{x^2}{y^3}} }}{{\\sqrt[3]{xy} }}   \n",
       "54                           ( {\\sqrt[5]{{3^2}} } )^4   \n",
       "55               \\sqrt[3] {5}  \\cdot \\sqrt[4] {{5^2}}   \n",
       "56                    3\\sqrt{ 5}  \\cdot 2\\sqrt[3]{25}   \n",
       "57          \\sqrt[3]{{a^3} b}  \\cdot \\sqrt[6]{a{b^4}}   \n",
       "58                     3\\sqrt[4]{2}  \\cdot \\sqrt {8}    \n",
       "59    \\frac{{\\sqrt[4]{{x^3}{y^3}} }}{{\\sqrt[3]{xy} }}   \n",
       "60             \\frac{{4\\sqrt [4]{6} }}{{2\\sqrt {3} }}   \n",
       "61           \\frac{{6\\sqrt[3] { 5} }}{{2\\sqrt {10} }}   \n",
       "62  \\frac{{\\sqrt[5]{{{( {a + b})}^3}} }}{{\\sqrt {a...   \n",
       "63  \\sqrt [3] {{x^2}}  \\cdot \\frac{{\\sqrt [5] {xy}...   \n",
       "64                          \\sqrt [3] {\\sqrt[4] {a} }   \n",
       "65       \\sqrt {\\sqrt [3]  {{x^2}\\sqrt[5] {{x^3}} } }   \n",
       "66               \\sqrt {n\\sqrt [5] {n\\sqrt [6]{n} } }   \n",
       "\n",
       "                                    enunciado  \\\n",
       "52                          5**(1/3)*5**(2/3)   \n",
       "53            (x**2*y**3)**(1/3)/(x*y)**(1/3)   \n",
       "54                              (3**(2/5))**4   \n",
       "55                           5**(1/3)*sqrt(5)   \n",
       "56                   (3*sqrt(5))*(2*5**(2/3))   \n",
       "57            (a*b**4)**(1/6)*(a**3*b)**(1/3)   \n",
       "58                   (3*2**(1/4))*(2*sqrt(2))   \n",
       "59            (x**3*y**3)**(1/4)/(x*y)**(1/3)   \n",
       "60                 (4*6**(1/4))/((2*sqrt(3)))   \n",
       "61                (6*5**(1/3))/((2*sqrt(10)))   \n",
       "62            ((a + b)**3)**(1/5)/sqrt(a + b)   \n",
       "63  ((x*y)**(1/5)/sqrt(x*y**3))*(x**2)**(1/3)   \n",
       "64                                  a**(1/12)   \n",
       "65                (x**2*(x**3)**(1/5))**(1/6)   \n",
       "66                  sqrt(n*(n**(7/6))**(1/5))   \n",
       "\n",
       "                                             solucion     texto curso  \\\n",
       "52                                                  5  Efectúa:   1BC   \n",
       "53        \\frac{\\sqrt[3]{x^{2} y^{3}}}{\\sqrt[3]{x y}}  Efectúa:   1BC   \n",
       "54                            3 \\cdot 3^{\\frac{3}{5}}  Efectúa:   1BC   \n",
       "55                                    5^{\\frac{5}{6}}  Efectúa:   1BC   \n",
       "56                                     30 \\sqrt[6]{5}  Efectúa:   1BC   \n",
       "57                \\sqrt[6]{a b^{4}} \\sqrt[3]{a^{3} b}  Efectúa:   1BC   \n",
       "58                            6 \\cdot 2^{\\frac{3}{4}}  Efectúa:   1BC   \n",
       "59        \\frac{\\sqrt[4]{x^{3} y^{3}}}{\\sqrt[3]{x y}}  Efectúa:   1BC   \n",
       "60      \\frac{2 \\sqrt[4]{2} \\cdot 3^{\\frac{3}{4}}}{3}  Efectúa:   1BC   \n",
       "61        \\frac{3 \\sqrt{2} \\cdot 5^{\\frac{5}{6}}}{10}  Efectúa:   1BC   \n",
       "62  \\frac{\\sqrt{a + b} \\sqrt[5]{\\left(a + b\\right)...  Efectúa:   1BC   \n",
       "63  \\frac{\\sqrt[5]{x y} \\sqrt{x y^{3}} \\sqrt[3]{x^...  Efectúa:   1BC   \n",
       "64                                       \\sqrt[12]{a}  Efectúa:   1BC   \n",
       "65                    \\sqrt[6]{x^{2} \\sqrt[5]{x^{3}}}  Efectúa:   1BC   \n",
       "66                 \\sqrt{n \\sqrt[5]{n^{\\frac{7}{6}}}}  Efectúa:   1BC   \n",
       "\n",
       "                       titulo n_ejercicio  dificultad  n_columnas  puntos  \n",
       "52  2 - Potencias y radicales       p6e27           1           3       1  \n",
       "53  2 - Potencias y radicales       p6e27           1           3       1  \n",
       "54  2 - Potencias y radicales       p6e27           1           3       1  \n",
       "55  2 - Potencias y radicales       p6e27           1           3       1  \n",
       "56  2 - Potencias y radicales       p6e27           1           3       1  \n",
       "57  2 - Potencias y radicales       p6e27           1           3       1  \n",
       "58  2 - Potencias y radicales       p6e27           1           3       1  \n",
       "59  2 - Potencias y radicales       p6e27           1           3       1  \n",
       "60  2 - Potencias y radicales       p6e27           1           3       1  \n",
       "61  2 - Potencias y radicales       p6e27           1           3       1  \n",
       "62  2 - Potencias y radicales       p6e27           1           3       1  \n",
       "63  2 - Potencias y radicales       p6e27           1           3       1  \n",
       "64  2 - Potencias y radicales       p6e27           1           3       1  \n",
       "65  2 - Potencias y radicales       p6e27           1           3       1  \n",
       "66  2 - Potencias y radicales       p6e27           1           3       1  "
      ]
     },
     "metadata": {},
     "output_type": "display_data"
    },
    {
     "data": {
      "text/markdown": [
       "**Ejercicio: **p6e28"
      ],
      "text/plain": [
       "<IPython.core.display.Markdown object>"
      ]
     },
     "metadata": {},
     "output_type": "display_data"
    },
    {
     "data": {
      "text/html": [
       "<div>\n",
       "<style scoped>\n",
       "    .dataframe tbody tr th:only-of-type {\n",
       "        vertical-align: middle;\n",
       "    }\n",
       "\n",
       "    .dataframe tbody tr th {\n",
       "        vertical-align: top;\n",
       "    }\n",
       "\n",
       "    .dataframe thead th {\n",
       "        text-align: right;\n",
       "    }\n",
       "</style>\n",
       "<table border=\"1\" class=\"dataframe\">\n",
       "  <thead>\n",
       "    <tr style=\"text-align: right;\">\n",
       "      <th></th>\n",
       "      <th>enunciado_latex</th>\n",
       "      <th>enunciado</th>\n",
       "      <th>solucion</th>\n",
       "      <th>texto</th>\n",
       "      <th>curso</th>\n",
       "      <th>titulo</th>\n",
       "      <th>n_ejercicio</th>\n",
       "      <th>dificultad</th>\n",
       "      <th>n_columnas</th>\n",
       "      <th>puntos</th>\n",
       "    </tr>\n",
       "  </thead>\n",
       "  <tbody>\n",
       "    <tr>\n",
       "      <th>67</th>\n",
       "      <td>\\frac{3}{{\\sqrt {5} }}</td>\n",
       "      <td>3/sqrt(5)</td>\n",
       "      <td>\\frac{3 \\sqrt{5}}{5}</td>\n",
       "      <td>Racionaliza:</td>\n",
       "      <td>1BC</td>\n",
       "      <td>2 - Potencias y radicales</td>\n",
       "      <td>p6e28</td>\n",
       "      <td>1</td>\n",
       "      <td>3</td>\n",
       "      <td>1</td>\n",
       "    </tr>\n",
       "    <tr>\n",
       "      <th>68</th>\n",
       "      <td>\\frac{{12}}{{\\sqrt {8} }}</td>\n",
       "      <td>12/((2*sqrt(2)))</td>\n",
       "      <td>3 \\sqrt{2}</td>\n",
       "      <td>Racionaliza:</td>\n",
       "      <td>1BC</td>\n",
       "      <td>2 - Potencias y radicales</td>\n",
       "      <td>p6e28</td>\n",
       "      <td>1</td>\n",
       "      <td>3</td>\n",
       "      <td>1</td>\n",
       "    </tr>\n",
       "    <tr>\n",
       "      <th>69</th>\n",
       "      <td>\\frac{5}{{\\sqrt {5} }}</td>\n",
       "      <td>5/sqrt(5)</td>\n",
       "      <td>\\sqrt{5}</td>\n",
       "      <td>Racionaliza:</td>\n",
       "      <td>1BC</td>\n",
       "      <td>2 - Potencias y radicales</td>\n",
       "      <td>p6e28</td>\n",
       "      <td>1</td>\n",
       "      <td>3</td>\n",
       "      <td>1</td>\n",
       "    </tr>\n",
       "    <tr>\n",
       "      <th>70</th>\n",
       "      <td>\\frac{a}{{\\sqrt[3]{{a^2}} }}</td>\n",
       "      <td>a/(a**2)**(1/3)</td>\n",
       "      <td>\\frac{a}{\\sqrt[3]{a^{2}}}</td>\n",
       "      <td>Racionaliza:</td>\n",
       "      <td>1BC</td>\n",
       "      <td>2 - Potencias y radicales</td>\n",
       "      <td>p6e28</td>\n",
       "      <td>1</td>\n",
       "      <td>3</td>\n",
       "      <td>1</td>\n",
       "    </tr>\n",
       "    <tr>\n",
       "      <th>71</th>\n",
       "      <td>\\frac{{{x^2}}}{{\\sqrt [4] {x} }}</td>\n",
       "      <td>x**2/x**(1/4)</td>\n",
       "      <td>x^{\\frac{7}{4}}</td>\n",
       "      <td>Racionaliza:</td>\n",
       "      <td>1BC</td>\n",
       "      <td>2 - Potencias y radicales</td>\n",
       "      <td>p6e28</td>\n",
       "      <td>1</td>\n",
       "      <td>3</td>\n",
       "      <td>1</td>\n",
       "    </tr>\n",
       "    <tr>\n",
       "      <th>72</th>\n",
       "      <td>\\frac{{abc}}{{\\sqrt {ab{c^3}} }}</td>\n",
       "      <td>(a*(b*c))/sqrt(a*b*c**3)</td>\n",
       "      <td>\\frac{\\sqrt{a b c^{3}}}{c^{2}}</td>\n",
       "      <td>Racionaliza:</td>\n",
       "      <td>1BC</td>\n",
       "      <td>2 - Potencias y radicales</td>\n",
       "      <td>p6e28</td>\n",
       "      <td>1</td>\n",
       "      <td>3</td>\n",
       "      <td>1</td>\n",
       "    </tr>\n",
       "    <tr>\n",
       "      <th>73</th>\n",
       "      <td>\\frac{5}{{2 + \\sqrt {3} }}</td>\n",
       "      <td>5/(sqrt(3) + 2)</td>\n",
       "      <td>- 5 \\sqrt{3} + 10</td>\n",
       "      <td>Racionaliza:</td>\n",
       "      <td>1BC</td>\n",
       "      <td>2 - Potencias y radicales</td>\n",
       "      <td>p6e28</td>\n",
       "      <td>1</td>\n",
       "      <td>3</td>\n",
       "      <td>1</td>\n",
       "    </tr>\n",
       "    <tr>\n",
       "      <th>74</th>\n",
       "      <td>\\frac{{\\sqrt {2}  - \\sqrt {3} }}{{\\sqrt{ 2}  +...</td>\n",
       "      <td>(-sqrt(3) + sqrt(2))/(sqrt(2) + sqrt(3))</td>\n",
       "      <td>- \\left(- \\sqrt{3} + \\sqrt{2}\\right)^{2}</td>\n",
       "      <td>Racionaliza:</td>\n",
       "      <td>1BC</td>\n",
       "      <td>2 - Potencias y radicales</td>\n",
       "      <td>p6e28</td>\n",
       "      <td>1</td>\n",
       "      <td>3</td>\n",
       "      <td>1</td>\n",
       "    </tr>\n",
       "    <tr>\n",
       "      <th>75</th>\n",
       "      <td>\\frac{{2 - \\sqrt {2} }}{{2 + \\sqrt {2} }}</td>\n",
       "      <td>(-sqrt(2) + 2)/(sqrt(2) + 2)</td>\n",
       "      <td>\\frac{\\left(- \\sqrt{2} + 2\\right)^{2}}{2}</td>\n",
       "      <td>Racionaliza:</td>\n",
       "      <td>1BC</td>\n",
       "      <td>2 - Potencias y radicales</td>\n",
       "      <td>p6e28</td>\n",
       "      <td>1</td>\n",
       "      <td>3</td>\n",
       "      <td>1</td>\n",
       "    </tr>\n",
       "    <tr>\n",
       "      <th>76</th>\n",
       "      <td>\\frac{1}{{\\sqrt {\\sqrt {2 }} }}</td>\n",
       "      <td>1/(2**(1/4))</td>\n",
       "      <td>\\frac{2^{\\frac{3}{4}}}{2}</td>\n",
       "      <td>Racionaliza:</td>\n",
       "      <td>1BC</td>\n",
       "      <td>2 - Potencias y radicales</td>\n",
       "      <td>p6e28</td>\n",
       "      <td>1</td>\n",
       "      <td>3</td>\n",
       "      <td>1</td>\n",
       "    </tr>\n",
       "    <tr>\n",
       "      <th>77</th>\n",
       "      <td>\\frac{a}{{\\sqrt {a}  + \\sqrt {b} }}</td>\n",
       "      <td>a/(sqrt(a) + sqrt(b))</td>\n",
       "      <td>\\frac{a^{\\frac{3}{2}} - a \\sqrt{b}}{a - b}</td>\n",
       "      <td>Racionaliza:</td>\n",
       "      <td>1BC</td>\n",
       "      <td>2 - Potencias y radicales</td>\n",
       "      <td>p6e28</td>\n",
       "      <td>1</td>\n",
       "      <td>3</td>\n",
       "      <td>1</td>\n",
       "    </tr>\n",
       "  </tbody>\n",
       "</table>\n",
       "</div>"
      ],
      "text/plain": [
       "                                      enunciado_latex  \\\n",
       "67                             \\frac{3}{{\\sqrt {5} }}   \n",
       "68                          \\frac{{12}}{{\\sqrt {8} }}   \n",
       "69                             \\frac{5}{{\\sqrt {5} }}   \n",
       "70                       \\frac{a}{{\\sqrt[3]{{a^2}} }}   \n",
       "71                   \\frac{{{x^2}}}{{\\sqrt [4] {x} }}   \n",
       "72                   \\frac{{abc}}{{\\sqrt {ab{c^3}} }}   \n",
       "73                         \\frac{5}{{2 + \\sqrt {3} }}   \n",
       "74  \\frac{{\\sqrt {2}  - \\sqrt {3} }}{{\\sqrt{ 2}  +...   \n",
       "75          \\frac{{2 - \\sqrt {2} }}{{2 + \\sqrt {2} }}   \n",
       "76                    \\frac{1}{{\\sqrt {\\sqrt {2 }} }}   \n",
       "77                \\frac{a}{{\\sqrt {a}  + \\sqrt {b} }}   \n",
       "\n",
       "                                   enunciado  \\\n",
       "67                                 3/sqrt(5)   \n",
       "68                          12/((2*sqrt(2)))   \n",
       "69                                 5/sqrt(5)   \n",
       "70                           a/(a**2)**(1/3)   \n",
       "71                             x**2/x**(1/4)   \n",
       "72                  (a*(b*c))/sqrt(a*b*c**3)   \n",
       "73                           5/(sqrt(3) + 2)   \n",
       "74  (-sqrt(3) + sqrt(2))/(sqrt(2) + sqrt(3))   \n",
       "75              (-sqrt(2) + 2)/(sqrt(2) + 2)   \n",
       "76                              1/(2**(1/4))   \n",
       "77                     a/(sqrt(a) + sqrt(b))   \n",
       "\n",
       "                                      solucion         texto curso  \\\n",
       "67                        \\frac{3 \\sqrt{5}}{5}  Racionaliza:   1BC   \n",
       "68                                  3 \\sqrt{2}  Racionaliza:   1BC   \n",
       "69                                    \\sqrt{5}  Racionaliza:   1BC   \n",
       "70                   \\frac{a}{\\sqrt[3]{a^{2}}}  Racionaliza:   1BC   \n",
       "71                             x^{\\frac{7}{4}}  Racionaliza:   1BC   \n",
       "72              \\frac{\\sqrt{a b c^{3}}}{c^{2}}  Racionaliza:   1BC   \n",
       "73                           - 5 \\sqrt{3} + 10  Racionaliza:   1BC   \n",
       "74    - \\left(- \\sqrt{3} + \\sqrt{2}\\right)^{2}  Racionaliza:   1BC   \n",
       "75   \\frac{\\left(- \\sqrt{2} + 2\\right)^{2}}{2}  Racionaliza:   1BC   \n",
       "76                   \\frac{2^{\\frac{3}{4}}}{2}  Racionaliza:   1BC   \n",
       "77  \\frac{a^{\\frac{3}{2}} - a \\sqrt{b}}{a - b}  Racionaliza:   1BC   \n",
       "\n",
       "                       titulo n_ejercicio  dificultad  n_columnas  puntos  \n",
       "67  2 - Potencias y radicales       p6e28           1           3       1  \n",
       "68  2 - Potencias y radicales       p6e28           1           3       1  \n",
       "69  2 - Potencias y radicales       p6e28           1           3       1  \n",
       "70  2 - Potencias y radicales       p6e28           1           3       1  \n",
       "71  2 - Potencias y radicales       p6e28           1           3       1  \n",
       "72  2 - Potencias y radicales       p6e28           1           3       1  \n",
       "73  2 - Potencias y radicales       p6e28           1           3       1  \n",
       "74  2 - Potencias y radicales       p6e28           1           3       1  \n",
       "75  2 - Potencias y radicales       p6e28           1           3       1  \n",
       "76  2 - Potencias y radicales       p6e28           1           3       1  \n",
       "77  2 - Potencias y radicales       p6e28           1           3       1  "
      ]
     },
     "metadata": {},
     "output_type": "display_data"
    }
   ],
   "source": [
    "escribir_preambulo(fichero, titulo)\n",
    "for s in df_ejercicios.groupby('n_ejercicio').count().index : \n",
    "    display(md(\"**Ejercicio: **\" + s ))\n",
    "    display(df_ejercicios[df_ejercicios.n_ejercicio == s])\n",
    "    escribir_ejercicios(df_ejercicios[df_ejercicios.n_ejercicio == s],fichero)\n",
    "\n",
    "escribir_fin(fichero)"
   ]
  }
 ],
 "metadata": {
  "kernelspec": {
   "display_name": "Python 3",
   "language": "python",
   "name": "python3"
  },
  "language_info": {
   "codemirror_mode": {
    "name": "ipython",
    "version": 3
   },
   "file_extension": ".py",
   "mimetype": "text/x-python",
   "name": "python",
   "nbconvert_exporter": "python",
   "pygments_lexer": "ipython3",
   "version": "3.6.5"
  }
 },
 "nbformat": 4,
 "nbformat_minor": 2
}
