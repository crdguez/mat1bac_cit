{
 "cells": [
  {
   "cell_type": "code",
   "execution_count": 193,
   "metadata": {},
   "outputs": [
    {
     "name": "stdout",
     "output_type": "stream",
     "text": [
      "IPython console for SymPy 1.2 (Python 3.6.5-64-bit) (ground types: gmpy)\n",
      "\n",
      "These commands were executed:\n",
      ">>> from __future__ import division\n",
      ">>> from sympy import *\n",
      ">>> x, y, z, t = symbols('x y z t')\n",
      ">>> k, m, n = symbols('k m n', integer=True)\n",
      ">>> f, g, h = symbols('f g h', cls=Function)\n",
      ">>> init_printing()\n",
      "\n",
      "Documentation can be found at http://docs.sympy.org/1.2/\n",
      "\n"
     ]
    }
   ],
   "source": [
    "from sympy import init_session\n",
    "from sympy import div, QQ\n",
    "from sympy.parsing.latex import parse_latex\n",
    "from sympy.parsing.sympy_parser import parse_expr\n",
    "from IPython.display import Markdown as md\n",
    "from IPython.display import display\n",
    "import numpy as np\n",
    "import pandas as pd\n",
    "    \n",
    "alpha = Symbol(\"alpha\")\n",
    "beta = Symbol(\"beta\")\n",
    "\n",
    "\n",
    "init_session()\n",
    "\n",
    "a, b, c, d = symbols('a b c d', real = True)\n",
    "from docparts import añadir_ejercicios, doc_ejer, escribir_preambulo, escribir_ejercicios, escribir_fin\n",
    "\n",
    "df_ejercicios = pd.DataFrame()\n",
    "\n",
    "fichero = 'trigono'\n",
    "titulo = '23 - Trigonometría'\n",
    "curso = '1BC'\n",
    "\n",
    "\n",
    "x,y = symbols('x, y', real=True)\n"
   ]
  },
  {
   "cell_type": "code",
   "execution_count": 194,
   "metadata": {},
   "outputs": [
    {
     "data": {
      "text/markdown": [
       "**Expresa en radianes los siguientes ángulos, dados en grados:**"
      ],
      "text/plain": [
       "<IPython.core.display.Markdown object>"
      ]
     },
     "metadata": {},
     "output_type": "display_data"
    },
    {
     "data": {
      "text/markdown": [
       "$45º \\to \\frac{\\pi}{4}$"
      ],
      "text/plain": [
       "<IPython.core.display.Markdown object>"
      ]
     },
     "metadata": {},
     "output_type": "display_data"
    },
    {
     "data": {
      "text/markdown": [
       "$75º \\to \\frac{5 \\pi}{12}$"
      ],
      "text/plain": [
       "<IPython.core.display.Markdown object>"
      ]
     },
     "metadata": {},
     "output_type": "display_data"
    },
    {
     "data": {
      "text/markdown": [
       "$105º \\to \\frac{7 \\pi}{12}$"
      ],
      "text/plain": [
       "<IPython.core.display.Markdown object>"
      ]
     },
     "metadata": {},
     "output_type": "display_data"
    },
    {
     "data": {
      "text/markdown": [
       "$230º \\to \\frac{23 \\pi}{18}$"
      ],
      "text/plain": [
       "<IPython.core.display.Markdown object>"
      ]
     },
     "metadata": {},
     "output_type": "display_data"
    }
   ],
   "source": [
    "# Página 39 ejercicio 1\n",
    "\n",
    "texto_ejercicio = r\"\"\"Expresa en radianes los siguientes ángulos, dados en grados:\"\"\"\n",
    "\n",
    "n_ejercicio = 'p039e01'\n",
    "\n",
    "display(md(\"**\"+texto_ejercicio+\"**\"))\n",
    "\n",
    "\n",
    "pre_enunciado_latex = [45, 75, 105, 230]\n",
    "\n",
    "enunciado_latex,enunciado, solucion = [],[],[]\n",
    "\n",
    "\n",
    "for i, s in enumerate(pre_enunciado_latex) : \n",
    "    enunciado_latex.append(str(s)+\"º\")\n",
    "    enunciado.append(s)\n",
    "    solucion.append(latex(rad(s)))\n",
    "    display(md(\"$\"+enunciado_latex[i]+\" \\\\to \"+solucion[i]+\"$\"))\n",
    "\n",
    "df_ejercicios = df_ejercicios.append(añadir_ejercicios(enunciado_latex, enunciado, solucion, texto_ejercicio, curso, titulo , n_ejercicio, '1', '3', enun_tex=False), ignore_index=True)\n"
   ]
  },
  {
   "cell_type": "code",
   "execution_count": 195,
   "metadata": {},
   "outputs": [
    {
     "data": {
      "text/markdown": [
       "**Expresa en grados los siguientes ángulos dados en radianes:**"
      ],
      "text/plain": [
       "<IPython.core.display.Markdown object>"
      ]
     },
     "metadata": {},
     "output_type": "display_data"
    },
    {
     "data": {
      "text/markdown": [
       "$\\frac{{3\\pi }}{4} \\to 135$"
      ],
      "text/plain": [
       "<IPython.core.display.Markdown object>"
      ]
     },
     "metadata": {},
     "output_type": "display_data"
    },
    {
     "data": {
      "text/markdown": [
       "$\\frac{{{5}\\pi }}{{3}} \\to 300$"
      ],
      "text/plain": [
       "<IPython.core.display.Markdown object>"
      ]
     },
     "metadata": {},
     "output_type": "display_data"
    },
    {
     "data": {
      "text/markdown": [
       "$\\frac{{{{3}}\\pi }}{{{2}}} \\to 270$"
      ],
      "text/plain": [
       "<IPython.core.display.Markdown object>"
      ]
     },
     "metadata": {},
     "output_type": "display_data"
    },
    {
     "data": {
      "text/markdown": [
       "$\\frac{{{{9}}\\pi }}{{{2}}} \\to 810$"
      ],
      "text/plain": [
       "<IPython.core.display.Markdown object>"
      ]
     },
     "metadata": {},
     "output_type": "display_data"
    },
    {
     "data": {
      "text/markdown": [
       "$\\frac{{{{4}}\\pi }}{{{3}}} \\to 240$"
      ],
      "text/plain": [
       "<IPython.core.display.Markdown object>"
      ]
     },
     "metadata": {},
     "output_type": "display_data"
    }
   ],
   "source": [
    "# Página 39 ejercicio 2\n",
    "\n",
    "texto_ejercicio = r\"\"\"Expresa en grados los siguientes ángulos dados en radianes:\"\"\"\n",
    "\n",
    "n_ejercicio = 'p039e02'\n",
    "\n",
    "display(md(\"**\"+texto_ejercicio+\"**\"))\n",
    "\n",
    "\n",
    "enunciado_latex = [r'\\frac{{3\\pi }}{4}',r'\\frac{{{5}\\pi }}{{3}}',\n",
    "                  r'\\frac{{{{3}}\\pi }}{{{2}}}',\n",
    "                  r'\\frac{{{{9}}\\pi }}{{{2}}}',\n",
    "                  r'\\frac{{{{4}}\\pi }}{{{3}}}']\n",
    "\n",
    "enunciado, solucion = [],[]\n",
    "\n",
    "\n",
    "for i, s in enumerate(enunciado_latex) : \n",
    "    enunciado.append(parse_latex(s))\n",
    "    solucion.append(latex(deg(eval(str(parse_latex(s))))))\n",
    "    display(md(\"$\"+enunciado_latex[i]+\" \\\\to \"+solucion[i]+\"$\"))\n",
    "\n",
    "df_ejercicios = df_ejercicios.append(añadir_ejercicios(enunciado_latex, enunciado, solucion, texto_ejercicio, curso, titulo , n_ejercicio, '1', '3', enun_tex=True), ignore_index=True)\n"
   ]
  },
  {
   "cell_type": "code",
   "execution_count": 196,
   "metadata": {},
   "outputs": [
    {
     "data": {
      "text/markdown": [
       "**Demostrar si son verdaderas o falsas las siguientes ecuaciones:**"
      ],
      "text/plain": [
       "<IPython.core.display.Markdown object>"
      ]
     },
     "metadata": {},
     "output_type": "display_data"
    },
    {
     "data": {
      "text/markdown": [
       "$\\frac{\\tan\\alpha+\\tan\\beta}{\\cot\\alpha+\\cot\\beta}={\\tan\\alpha} \\cdot {\\tan\\beta} \\to \\mathrm{True}$"
      ],
      "text/plain": [
       "<IPython.core.display.Markdown object>"
      ]
     },
     "metadata": {},
     "output_type": "display_data"
    }
   ],
   "source": [
    "# Página 39 ejercicio 5 y 6\n",
    "\n",
    "texto_ejercicio = r\"\"\"Demostrar si son verdaderas o falsas las siguientes ecuaciones:\"\"\"\n",
    "\n",
    "n_ejercicio = 'p039e05y6'\n",
    "\n",
    "display(md(\"**\"+texto_ejercicio+\"**\"))\n",
    "\n",
    "\n",
    "enunciado_latex = [r'\\frac{\\tan\\alpha+\\tan\\beta}{\\cot\\alpha+\\cot\\beta}={\\tan\\alpha} \\cdot {\\tan\\beta}']\n",
    "\n",
    "enunciado, solucion = [],[]\n",
    "\n",
    "\n",
    "for i, s in enumerate(enunciado_latex) : \n",
    "    enunciado.append(parse_latex(s))\n",
    "    solucion.append(latex(not(bool(trigsimp(enunciado[i].args[0]-enunciado[i].args[1])))))\n",
    "    display(md(\"$\"+enunciado_latex[i]+\" \\\\to \"+solucion[i]+\"$\"))\n",
    "\n",
    "df_ejercicios = df_ejercicios.append(añadir_ejercicios(enunciado_latex, enunciado, solucion, texto_ejercicio, curso, titulo , n_ejercicio, '1', '3', enun_tex=False), ignore_index=True)\n"
   ]
  },
  {
   "cell_type": "code",
   "execution_count": 65,
   "metadata": {},
   "outputs": [
    {
     "data": {
      "image/png": "[encoded data removed]",
      "text/latex": [
       "$$135$$"
      ],
      "text/plain": [
       "135"
      ]
     },
     "execution_count": 65,
     "metadata": {},
     "output_type": "execute_result"
    }
   ],
   "source": [
    "deg(eval(str(parse_latex(r'\\frac{{3\\pi }}{4}'))))"
   ]
  },
  {
   "cell_type": "code",
   "execution_count": 166,
   "metadata": {},
   "outputs": [
    {
     "data": {
      "text/plain": [
       "False"
      ]
     },
     "execution_count": 166,
     "metadata": {},
     "output_type": "execute_result"
    }
   ],
   "source": [
    "alpha = Symbol(\"alpha\")\n",
    "beta = Symbol(\"beta\")\n",
    "\n",
    "\n",
    "str(parse_latex(r'\\alpha'))\n",
    "\n",
    "sec(alpha)**2+csc(alpha)**2 == sec(alpha)**2*csc(alpha)**2\n",
    "\n",
    "expr=sin(alpha)**2 + cos(alpha)**2-1\n",
    "expr == 0\n"
   ]
  },
  {
   "cell_type": "code",
   "execution_count": 126,
   "metadata": {},
   "outputs": [
    {
     "data": {
      "text/plain": [
       "True"
      ]
     },
     "execution_count": 126,
     "metadata": {},
     "output_type": "execute_result"
    }
   ],
   "source": [
    "\n",
    "trigsimp(sec(alpha)**2+csc(alpha)**2)==trigsimp(sec(alpha)**2*csc(alpha)**2)"
   ]
  },
  {
   "cell_type": "code",
   "execution_count": 168,
   "metadata": {},
   "outputs": [
    {
     "data": {
      "text/plain": [
       "True"
      ]
     },
     "execution_count": 168,
     "metadata": {},
     "output_type": "execute_result"
    }
   ],
   "source": [
    "ec = Eq(sec(alpha)**2+csc(alpha)**2,sec(alpha)**2*csc(alpha)**2)\n",
    "not(bool(trigsimp(ec.args[0]-ec.args[1])))\n"
   ]
  },
  {
   "cell_type": "code",
   "execution_count": 189,
   "metadata": {},
   "outputs": [
    {
     "data": {
      "text/plain": [
       "True"
      ]
     },
     "execution_count": 189,
     "metadata": {},
     "output_type": "execute_result"
    }
   ],
   "source": [
    "enunciado = parse_latex(r'\\frac{\\tan\\alpha+\\tan\\beta}{\\cot\\alpha+\\cot\\beta}={\\tan\\alpha} \\cdot {\\tan\\beta}')\n",
    "not(bool(trigsimp(enunciado.args[0]-enunciado.args[1])))"
   ]
  },
  {
   "cell_type": "code",
   "execution_count": 6,
   "metadata": {},
   "outputs": [
    {
     "data": {
      "text/markdown": [
       "**Estudia la dependencia lineal de los siguientes conjuntos de vectores:**"
      ],
      "text/plain": [
       "<IPython.core.display.Markdown object>"
      ]
     },
     "metadata": {},
     "output_type": "display_data"
    },
    {
     "data": {
      "text/markdown": [
       "$\\overrightarrow{u}=(4, 12) \\, \\ \\overrightarrow{v}=(2, 6)$"
      ],
      "text/plain": [
       "<IPython.core.display.Markdown object>"
      ]
     },
     "metadata": {},
     "output_type": "display_data"
    },
    {
     "data": {
      "text/plain": [
       "True"
      ]
     },
     "metadata": {},
     "output_type": "display_data"
    },
    {
     "data": {
      "text/markdown": [
       "$\\overrightarrow{u}=(1, 2) \\, \\ \\overrightarrow{v}=(3, 4)$"
      ],
      "text/plain": [
       "<IPython.core.display.Markdown object>"
      ]
     },
     "metadata": {},
     "output_type": "display_data"
    },
    {
     "data": {
      "text/plain": [
       "False"
      ]
     },
     "metadata": {},
     "output_type": "display_data"
    },
    {
     "data": {
      "text/markdown": [
       "$\\overrightarrow{u}=(1, 1) \\, \\ \\overrightarrow{v}=(-2, -3)$"
      ],
      "text/plain": [
       "<IPython.core.display.Markdown object>"
      ]
     },
     "metadata": {},
     "output_type": "display_data"
    },
    {
     "data": {
      "text/plain": [
       "False"
      ]
     },
     "metadata": {},
     "output_type": "display_data"
    }
   ],
   "source": [
    "# Página 35 ejercicio 2\n",
    "\n",
    "texto_ejercicio = r\"\"\"Estudia la dependencia lineal de los siguientes conjuntos de vectores:\"\"\"\n",
    "\n",
    "n_ejercicio = 'p035e02'\n",
    "\n",
    "display(md(\"**\"+texto_ejercicio+\"**\"))\n",
    "\n",
    "pre_enunciado_latex = [[(4,12),(2,6)],\n",
    "                       [(1,2),(3,4)],\n",
    "                       [(1,1),(-2,-3)]\n",
    "                      ]\n",
    "\n",
    "enunciado_latex, enunciado, solucion = [],[],[]\n",
    "\n",
    "for i, s in enumerate(pre_enunciado_latex) :\n",
    "    enunciado_latex.append(r\"\\overrightarrow{u}=\"+str(s[0])+r\" \\, \\ \\overrightarrow{v}=\"+str(s[1]))\n",
    "    display(md(\"$\"+enunciado_latex[i]+\"$\"))\n",
    "    en=\"Point\"+str(s[0])+\".is_collinear(Point\"+str(s[1])+\", Point(0,0))\"\n",
    "    enunciado.append(en)\n",
    "    solucion.append(S(en))\n",
    "    display(solucion[i])\n",
    "\n",
    "df_ejercicios = df_ejercicios.append(añadir_ejercicios(enunciado_latex, enunciado, solucion, texto_ejercicio, curso, titulo , n_ejercicio, '1', '2', enun_tex=True), ignore_index=True)\n"
   ]
  },
  {
   "cell_type": "code",
   "execution_count": 7,
   "metadata": {},
   "outputs": [
    {
     "data": {
      "text/latex": [
       "$$\\left ( \\left[\\begin{matrix}1 & 0\\\\0 & 1\\end{matrix}\\right], \\quad \\left ( 0, \\quad 1\\right )\\right )$$"
      ],
      "text/plain": [
       "⎛⎡1  0⎤        ⎞\n",
       "⎜⎢    ⎥, (0, 1)⎟\n",
       "⎝⎣0  1⎦        ⎠"
      ]
     },
     "execution_count": 7,
     "metadata": {},
     "output_type": "execute_result"
    }
   ],
   "source": [
    "# otra forma con matrices, aqui dice que el vector 0 y el 1 son linelamente independientes\n",
    "Matrix([(1,2),(3,4)]).rref()"
   ]
  },
  {
   "cell_type": "code",
   "execution_count": 8,
   "metadata": {},
   "outputs": [
    {
     "data": {
      "text/markdown": [
       "**Respecto de una base ortonormal tenemos dos vectores $\\overrightarrow{u}$ y $\\overrightarrow{v}$.\n",
       "Calcular $\\overrightarrow{u}\\cdot\\overrightarrow{v}$, $|\\overrightarrow{u}| \\ y \\ |\\overrightarrow{v}|$ \n",
       "y $\\angle(\\overrightarrow{u},\\overrightarrow{v})$ siendo:**"
      ],
      "text/plain": [
       "<IPython.core.display.Markdown object>"
      ]
     },
     "metadata": {},
     "output_type": "display_data"
    },
    {
     "data": {
      "text/markdown": [
       "$\\overrightarrow{u}=(2, -3) \\, \\ \\overrightarrow{v}=(5, 4)$"
      ],
      "text/plain": [
       "<IPython.core.display.Markdown object>"
      ]
     },
     "metadata": {},
     "output_type": "display_data"
    },
    {
     "data": {
      "text/markdown": [
       "$\\left [ -2, \\quad \\left [ \\sqrt{13}, \\quad \\sqrt{41}\\right ], \\quad 94.9697407281103\\right ]$"
      ],
      "text/plain": [
       "<IPython.core.display.Markdown object>"
      ]
     },
     "metadata": {},
     "output_type": "display_data"
    },
    {
     "data": {
      "text/markdown": [
       "$\\overrightarrow{u}=(1, 2) \\, \\ \\overrightarrow{v}=(3, 4)$"
      ],
      "text/plain": [
       "<IPython.core.display.Markdown object>"
      ]
     },
     "metadata": {},
     "output_type": "display_data"
    },
    {
     "data": {
      "text/markdown": [
       "$\\left [ 11, \\quad \\left [ \\sqrt{5}, \\quad 5\\right ], \\quad 10.304846468766\\right ]$"
      ],
      "text/plain": [
       "<IPython.core.display.Markdown object>"
      ]
     },
     "metadata": {},
     "output_type": "display_data"
    },
    {
     "data": {
      "text/markdown": [
       "$\\overrightarrow{u}=(1, 1) \\, \\ \\overrightarrow{v}=(-2, -3)$"
      ],
      "text/plain": [
       "<IPython.core.display.Markdown object>"
      ]
     },
     "metadata": {},
     "output_type": "display_data"
    },
    {
     "data": {
      "text/markdown": [
       "$\\left [ -5, \\quad \\left [ \\sqrt{2}, \\quad \\sqrt{13}\\right ], \\quad 168.69006752598\\right ]$"
      ],
      "text/plain": [
       "<IPython.core.display.Markdown object>"
      ]
     },
     "metadata": {},
     "output_type": "display_data"
    }
   ],
   "source": [
    "# Página 36 ejercicio 9\n",
    "\n",
    "texto_ejercicio = r\"\"\"Respecto de una base ortonormal tenemos dos vectores $\\overrightarrow{u}$ y $\\overrightarrow{v}$.\n",
    "Calcular $\\overrightarrow{u}\\cdot\\overrightarrow{v}$, $|\\overrightarrow{u}| \\ y \\ |\\overrightarrow{v}|$ \n",
    "y $\\angle(\\overrightarrow{u},\\overrightarrow{v})$ siendo:\"\"\"\n",
    "\n",
    "\n",
    "n_ejercicio = 'p036e09'\n",
    "\n",
    "display(md(\"**\"+texto_ejercicio+\"**\"))\n",
    "\n",
    "N = CoordSys3D('N') #instanciamos un sistema de coordenadas en R3\n",
    "\n",
    "i, j, k = N.base_vectors()\n",
    "\n",
    "pre_enunciado_latex = [[(2,-3),(5,4)],\n",
    "                       [(1,2),(3,4)],\n",
    "                       [(1,1),(-2,-3)]\n",
    "                      ]\n",
    "\n",
    "enunciado_latex, enunciado, solucion = [],[],[]\n",
    "\n",
    "for i, s in enumerate(pre_enunciado_latex) :\n",
    "    enunciado_latex.append(r\"\\overrightarrow{u}=\"+str(s[0])+r\" \\, \\ \\overrightarrow{v}=\"+str(s[1]))\n",
    "    display(md(\"$\"+enunciado_latex[i]+\"$\"))\n",
    "    en=[\"Point\"+str(s[0])+\".dot(Point\"+str(s[1])+\")\"]\n",
    "    en.append([\"Point\"+str(s[0])+\".distance(Point(0,0))\",\"Point\"+str(s[1])+\".distance(Point(0,0))\"])\n",
    "    angulo = float(deg(acos(float(S(str(en[0])+\"/(\"+str(en[1][0])+\"*\"+str(en[1][1])+\")\")))))\n",
    "    #en.append(\"acos(\"+str(en[0])+\"/(\"+str(en[1][0])+\"*\"+str(en[1][1])+\"))\")\n",
    "    en.append(angulo)\n",
    "    enunciado.append(en)\n",
    "    solucion.append(latex(S(en)))\n",
    "    \n",
    "    display(md(\"$\"+solucion[i]+\"$\"))\n",
    "\n",
    "df_ejercicios = df_ejercicios.append(añadir_ejercicios(enunciado_latex, enunciado, solucion, texto_ejercicio, curso, titulo , n_ejercicio, '1', '2', enun_tex=True), ignore_index=True)\n"
   ]
  },
  {
   "cell_type": "code",
   "execution_count": 9,
   "metadata": {},
   "outputs": [
    {
     "data": {
      "text/markdown": [
       "**Respecto de una base ortonormal tenemos dos vectores $\\overrightarrow{u}$ y $\\overrightarrow{v}$.\n",
       "Calcular $\\overrightarrow{u}\\cdot\\overrightarrow{v}$, $|\\overrightarrow{u}| \\ y \\ |\\overrightarrow{v}|$ \n",
       "y $\\angle(\\overrightarrow{u},\\overrightarrow{v})$ siendo:**"
      ],
      "text/plain": [
       "<IPython.core.display.Markdown object>"
      ]
     },
     "metadata": {},
     "output_type": "display_data"
    },
    {
     "data": {
      "text/markdown": [
       "$\\overrightarrow{u}=(2, -3) \\, \\ \\overrightarrow{v}=(5, 4)$"
      ],
      "text/plain": [
       "<IPython.core.display.Markdown object>"
      ]
     },
     "metadata": {},
     "output_type": "display_data"
    },
    {
     "data": {
      "text/markdown": [
       "$\\left [ -2, \\quad \\left [ \\sqrt{13}, \\quad \\sqrt{41}\\right ], \\quad 94.9697407281103\\right ]$"
      ],
      "text/plain": [
       "<IPython.core.display.Markdown object>"
      ]
     },
     "metadata": {},
     "output_type": "display_data"
    },
    {
     "data": {
      "text/markdown": [
       "$\\overrightarrow{u}=(1, 2) \\, \\ \\overrightarrow{v}=(3, 4)$"
      ],
      "text/plain": [
       "<IPython.core.display.Markdown object>"
      ]
     },
     "metadata": {},
     "output_type": "display_data"
    },
    {
     "data": {
      "text/markdown": [
       "$\\left [ 11, \\quad \\left [ \\sqrt{5}, \\quad 5\\right ], \\quad 10.304846468766\\right ]$"
      ],
      "text/plain": [
       "<IPython.core.display.Markdown object>"
      ]
     },
     "metadata": {},
     "output_type": "display_data"
    },
    {
     "data": {
      "text/markdown": [
       "$\\overrightarrow{u}=(1, 1) \\, \\ \\overrightarrow{v}=(-2, -3)$"
      ],
      "text/plain": [
       "<IPython.core.display.Markdown object>"
      ]
     },
     "metadata": {},
     "output_type": "display_data"
    },
    {
     "data": {
      "text/markdown": [
       "$\\left [ -5, \\quad \\left [ \\sqrt{2}, \\quad \\sqrt{13}\\right ], \\quad 168.69006752598\\right ]$"
      ],
      "text/plain": [
       "<IPython.core.display.Markdown object>"
      ]
     },
     "metadata": {},
     "output_type": "display_data"
    }
   ],
   "source": [
    "# Página 36 ejercicio 9\n",
    "\n",
    "texto_ejercicio = r\"\"\"Respecto de una base ortonormal tenemos dos vectores $\\overrightarrow{u}$ y $\\overrightarrow{v}$.\n",
    "Calcular $\\overrightarrow{u}\\cdot\\overrightarrow{v}$, $|\\overrightarrow{u}| \\ y \\ |\\overrightarrow{v}|$ \n",
    "y $\\angle(\\overrightarrow{u},\\overrightarrow{v})$ siendo:\"\"\"\n",
    "\n",
    "\n",
    "n_ejercicio = 'p036e09'\n",
    "\n",
    "display(md(\"**\"+texto_ejercicio+\"**\"))\n",
    "\n",
    "N = CoordSys3D('N') #instanciamos un sistema de coordenadas en R3\n",
    "\n",
    "i, j, k = N.base_vectors()\n",
    "\n",
    "pre_enunciado_latex = [[(2,-3),(5,4)],\n",
    "                       [(1,2),(3,4)],\n",
    "                       [(1,1),(-2,-3)]\n",
    "                      ]\n",
    "\n",
    "enunciado_latex, enunciado, solucion = [],[],[]\n",
    "\n",
    "for i, s in enumerate(pre_enunciado_latex) :\n",
    "    enunciado_latex.append(r\"\\overrightarrow{u}=\"+str(s[0])+r\" \\, \\ \\overrightarrow{v}=\"+str(s[1]))\n",
    "    display(md(\"$\"+enunciado_latex[i]+\"$\"))\n",
    "    en=[\"Point\"+str(s[0])+\".dot(Point\"+str(s[1])+\")\"]\n",
    "    en.append([\"Point\"+str(s[0])+\".distance(Point(0,0))\",\"Point\"+str(s[1])+\".distance(Point(0,0))\"])\n",
    "    angulo = float(deg(acos(float(S(str(en[0])+\"/(\"+str(en[1][0])+\"*\"+str(en[1][1])+\")\")))))\n",
    "    #en.append(\"acos(\"+str(en[0])+\"/(\"+str(en[1][0])+\"*\"+str(en[1][1])+\"))\")\n",
    "    en.append(angulo)\n",
    "    enunciado.append(en)\n",
    "    solucion.append(latex(S(en)))\n",
    "    \n",
    "    display(md(\"$\"+solucion[i]+\"$\"))\n",
    "\n",
    "df_ejercicios = df_ejercicios.append(añadir_ejercicios(enunciado_latex, enunciado, solucion, texto_ejercicio, curso, titulo , n_ejercicio, '1', '2', enun_tex=True), ignore_index=True)\n"
   ]
  },
  {
   "cell_type": "code",
   "execution_count": 10,
   "metadata": {},
   "outputs": [
    {
     "data": {
      "text/markdown": [
       "**Calcula x, de modo que el producto escalar\n",
       "de  $\\overrightarrow{u}$ y $\\overrightarrow{v}$ sea igual a 7, siendo: **"
      ],
      "text/plain": [
       "<IPython.core.display.Markdown object>"
      ]
     },
     "metadata": {},
     "output_type": "display_data"
    },
    {
     "data": {
      "text/markdown": [
       "$\\overrightarrow{u}=(3, -5) \\, \\ \\overrightarrow{v}=(x, 2)$"
      ],
      "text/plain": [
       "<IPython.core.display.Markdown object>"
      ]
     },
     "metadata": {},
     "output_type": "display_data"
    },
    {
     "data": {
      "text/markdown": [
       "$\\left [ \\frac{17}{3}\\right ]$"
      ],
      "text/plain": [
       "<IPython.core.display.Markdown object>"
      ]
     },
     "metadata": {},
     "output_type": "display_data"
    },
    {
     "data": {
      "text/markdown": [
       "$\\overrightarrow{u}=(3, 1) \\, \\ \\overrightarrow{v}=(2, x)$"
      ],
      "text/plain": [
       "<IPython.core.display.Markdown object>"
      ]
     },
     "metadata": {},
     "output_type": "display_data"
    },
    {
     "data": {
      "text/markdown": [
       "$\\left [ 1\\right ]$"
      ],
      "text/plain": [
       "<IPython.core.display.Markdown object>"
      ]
     },
     "metadata": {},
     "output_type": "display_data"
    }
   ],
   "source": [
    "# Página 36 ejercicio 12\n",
    "\n",
    "texto_ejercicio = r\"\"\"Calcula x, de modo que el producto escalar\n",
    "de  $\\overrightarrow{u}$ y $\\overrightarrow{v}$ sea igual a 7, siendo: \"\"\"\n",
    "\n",
    "\n",
    "n_ejercicio = 'p036e12'\n",
    "\n",
    "display(md(\"**\"+texto_ejercicio+\"**\"))\n",
    "\n",
    "N = CoordSys3D('N') #instanciamos un sistema de coordenadas en R3\n",
    "\n",
    "i, j, k = N.base_vectors()\n",
    "\n",
    "pre_enunciado_latex = [[(3,-5),(x,2)],\n",
    "                       [(3,1),(2,x)],\n",
    "                    \n",
    "                      ]\n",
    "\n",
    "enunciado_latex, enunciado, solucion = [],[],[]\n",
    "\n",
    "for id, s in enumerate(pre_enunciado_latex) :\n",
    "    enunciado_latex.append(r\"\\overrightarrow{u}=\"+str(s[0])+r\" \\, \\ \\overrightarrow{v}=\"+str(s[1]))\n",
    "    display(md(\"$\"+enunciado_latex[id]+\"$\"))\n",
    "    u = s[0][0]*i+s[0][1]*j\n",
    "    v = s[1][0]*i+s[1][1]*j\n",
    "    enunciado.append(Eq(u.dot(v),7))\n",
    "    solucion.append(latex(solve(u.dot(v)-7)))\n",
    "    \n",
    "    display(md(\"$\"+solucion[id]+\"$\"))\n",
    "\n",
    "df_ejercicios = df_ejercicios.append(añadir_ejercicios(enunciado_latex, enunciado, solucion, texto_ejercicio, curso, titulo , n_ejercicio, '1', '2', enun_tex=True), ignore_index=True)\n"
   ]
  },
  {
   "cell_type": "code",
   "execution_count": 11,
   "metadata": {},
   "outputs": [
    {
     "data": {
      "text/markdown": [
       "**Dado el vector\n",
       "$\\overrightarrow{u}$, calcula x de modo que sea ortogonal a $\\overrightarrow{v}$ siendo: **"
      ],
      "text/plain": [
       "<IPython.core.display.Markdown object>"
      ]
     },
     "metadata": {},
     "output_type": "display_data"
    },
    {
     "data": {
      "text/markdown": [
       "$\\overrightarrow{u}=(-5, x) \\, \\ \\overrightarrow{v}=(4, -2)$"
      ],
      "text/plain": [
       "<IPython.core.display.Markdown object>"
      ]
     },
     "metadata": {},
     "output_type": "display_data"
    },
    {
     "data": {
      "text/markdown": [
       "$\\left [ -10\\right ]$"
      ],
      "text/plain": [
       "<IPython.core.display.Markdown object>"
      ]
     },
     "metadata": {},
     "output_type": "display_data"
    },
    {
     "data": {
      "text/markdown": [
       "$\\overrightarrow{u}=(2, x) \\, \\ \\overrightarrow{v}=(3, 1)$"
      ],
      "text/plain": [
       "<IPython.core.display.Markdown object>"
      ]
     },
     "metadata": {},
     "output_type": "display_data"
    },
    {
     "data": {
      "text/markdown": [
       "$\\left [ -6\\right ]$"
      ],
      "text/plain": [
       "<IPython.core.display.Markdown object>"
      ]
     },
     "metadata": {},
     "output_type": "display_data"
    }
   ],
   "source": [
    "# Página 36 ejercicio 13\n",
    "\n",
    "texto_ejercicio = r\"\"\"Dado el vector\n",
    "$\\overrightarrow{u}$, calcula x de modo que sea ortogonal a $\\overrightarrow{v}$ siendo: \"\"\"\n",
    "\n",
    "\n",
    "n_ejercicio = 'p036e13'\n",
    "\n",
    "display(md(\"**\"+texto_ejercicio+\"**\"))\n",
    "\n",
    "N = CoordSys3D('N') #instanciamos un sistema de coordenadas en R3\n",
    "\n",
    "i, j, k = N.base_vectors()\n",
    "\n",
    "pre_enunciado_latex = [[(-5,x),(4,-2)],\n",
    "                       [(2,x),(3,1)],\n",
    "                    \n",
    "                      ]\n",
    "\n",
    "enunciado_latex, enunciado, solucion = [],[],[]\n",
    "\n",
    "for id, s in enumerate(pre_enunciado_latex) :\n",
    "    enunciado_latex.append(r\"\\overrightarrow{u}=\"+str(s[0])+r\" \\, \\ \\overrightarrow{v}=\"+str(s[1]))\n",
    "    display(md(\"$\"+enunciado_latex[id]+\"$\"))\n",
    "    u = s[0][0]*i+s[0][1]*j\n",
    "    v = s[1][0]*i+s[1][1]*j\n",
    "    enunciado.append(Eq(u.dot(v),0))\n",
    "    solucion.append(latex(solve(u.dot(v))))\n",
    "    \n",
    "    display(md(\"$\"+solucion[id]+\"$\"))\n",
    "\n",
    "df_ejercicios = df_ejercicios.append(añadir_ejercicios(enunciado_latex, enunciado, solucion, texto_ejercicio, curso, titulo , n_ejercicio, '1', '2', enun_tex=True), ignore_index=True)\n"
   ]
  },
  {
   "cell_type": "code",
   "execution_count": 12,
   "metadata": {},
   "outputs": [
    {
     "data": {
      "text/markdown": [
       "**Dado el vector\n",
       "$\\overrightarrow{u}$, calcula x de modo que $|\\overrightarrow{u}|=\\sqrt{34}$ siendo: **"
      ],
      "text/plain": [
       "<IPython.core.display.Markdown object>"
      ]
     },
     "metadata": {},
     "output_type": "display_data"
    },
    {
     "data": {
      "text/markdown": [
       "$\\overrightarrow{u}=(-5, x)$"
      ],
      "text/plain": [
       "<IPython.core.display.Markdown object>"
      ]
     },
     "metadata": {},
     "output_type": "display_data"
    },
    {
     "data": {
      "image/png": "[encoded data removed]",
      "text/latex": [
       "$$\\sqrt{x^{2} + 25}$$"
      ],
      "text/plain": [
       "   _________\n",
       "  ╱  2      \n",
       "╲╱  x  + 25 "
      ]
     },
     "metadata": {},
     "output_type": "display_data"
    },
    {
     "data": {
      "text/markdown": [
       "$\\left [ -3, \\quad 3\\right ]$"
      ],
      "text/plain": [
       "<IPython.core.display.Markdown object>"
      ]
     },
     "metadata": {},
     "output_type": "display_data"
    },
    {
     "data": {
      "text/markdown": [
       "$\\overrightarrow{u}=(2, x)$"
      ],
      "text/plain": [
       "<IPython.core.display.Markdown object>"
      ]
     },
     "metadata": {},
     "output_type": "display_data"
    },
    {
     "data": {
      "image/png": "[encoded data removed]",
      "text/latex": [
       "$$\\sqrt{x^{2} + 4}$$"
      ],
      "text/plain": [
       "   ________\n",
       "  ╱  2     \n",
       "╲╱  x  + 4 "
      ]
     },
     "metadata": {},
     "output_type": "display_data"
    },
    {
     "data": {
      "text/markdown": [
       "$\\left [ - \\sqrt{30}, \\quad \\sqrt{30}\\right ]$"
      ],
      "text/plain": [
       "<IPython.core.display.Markdown object>"
      ]
     },
     "metadata": {},
     "output_type": "display_data"
    }
   ],
   "source": [
    "# Página 36 ejercicio 13b\n",
    "\n",
    "texto_ejercicio = r\"\"\"Dado el vector\n",
    "$\\overrightarrow{u}$, calcula x de modo que $|\\overrightarrow{u}|=\\sqrt{34}$ siendo: \"\"\"\n",
    "\n",
    "\n",
    "n_ejercicio = 'p036e13b'\n",
    "\n",
    "display(md(\"**\"+texto_ejercicio+\"**\"))\n",
    "\n",
    "N = CoordSys3D('N') #instanciamos un sistema de coordenadas en R3\n",
    "\n",
    "i, j, k = N.base_vectors()\n",
    "\n",
    "pre_enunciado_latex = [[(-5,x)],\n",
    "                       [(2,x)],\n",
    "                    \n",
    "                      ]\n",
    "\n",
    "enunciado_latex, enunciado, solucion = [],[],[]\n",
    "\n",
    "for id, s in enumerate(pre_enunciado_latex) :\n",
    "    enunciado_latex.append(r\"\\overrightarrow{u}=\"+str(s[0]))\n",
    "    display(md(\"$\"+enunciado_latex[id]+\"$\"))\n",
    "    u = s[0][0]*i+s[0][1]*j\n",
    "    display(u.magnitude())\n",
    "    enunciado.append(Eq(u.magnitude(),sqrt(34)))\n",
    "    solucion.append(latex(solve(Eq(u.magnitude(),sqrt(34)))))\n",
    "    \n",
    "    display(md(\"$\"+solucion[id]+\"$\"))\n",
    "\n",
    "df_ejercicios = df_ejercicios.append(añadir_ejercicios(enunciado_latex, enunciado, solucion, texto_ejercicio, curso, titulo , n_ejercicio, '1', '2', enun_tex=True), ignore_index=True)\n"
   ]
  },
  {
   "cell_type": "code",
   "execution_count": 13,
   "metadata": {},
   "outputs": [
    {
     "data": {
      "text/markdown": [
       "**Respecto de una base ortonormal tenemos dos vectores $\\overrightarrow{u}$ y $\\overrightarrow{v}$.\n",
       "Calcular $\\overrightarrow{u}\\cdot\\overrightarrow{v}$, $|\\overrightarrow{u}| \\ y \\ |\\overrightarrow{v}|$ \n",
       "y $\\angle(\\overrightarrow{u},\\overrightarrow{v})$ siendo:**"
      ],
      "text/plain": [
       "<IPython.core.display.Markdown object>"
      ]
     },
     "metadata": {},
     "output_type": "display_data"
    },
    {
     "data": {
      "text/markdown": [
       "$\\overrightarrow{u}=\\left ( 3, \\quad 2\\right ) \\, \\ \\overrightarrow{v}=\\left ( 1, \\quad -5\\right )$"
      ],
      "text/plain": [
       "<IPython.core.display.Markdown object>"
      ]
     },
     "metadata": {},
     "output_type": "display_data"
    },
    {
     "data": {
      "text/markdown": [
       "$\\left [ -7, \\quad \\left [ \\sqrt{13}, \\quad \\sqrt{26}\\right ], \\quad 112.38013505196\\right ]$"
      ],
      "text/plain": [
       "<IPython.core.display.Markdown object>"
      ]
     },
     "metadata": {},
     "output_type": "display_data"
    },
    {
     "data": {
      "text/markdown": [
       "$\\overrightarrow{u}=\\left ( 1, \\quad 6\\right ) \\, \\ \\overrightarrow{v}=\\left ( -0.5, \\quad -3\\right )$"
      ],
      "text/plain": [
       "<IPython.core.display.Markdown object>"
      ]
     },
     "metadata": {},
     "output_type": "display_data"
    },
    {
     "data": {
      "text/markdown": [
       "$\\left [ - \\frac{37}{2}, \\quad \\left [ \\sqrt{37}, \\quad \\frac{\\sqrt{37}}{2}\\right ], \\quad 180.0\\right ]$"
      ],
      "text/plain": [
       "<IPython.core.display.Markdown object>"
      ]
     },
     "metadata": {},
     "output_type": "display_data"
    }
   ],
   "source": [
    "# Página 36 ejercicio 14\n",
    "\n",
    "texto_ejercicio = r\"\"\"Respecto de una base ortonormal tenemos dos vectores $\\overrightarrow{u}$ y $\\overrightarrow{v}$.\n",
    "Calcular $\\overrightarrow{u}\\cdot\\overrightarrow{v}$, $|\\overrightarrow{u}| \\ y \\ |\\overrightarrow{v}|$ \n",
    "y $\\angle(\\overrightarrow{u},\\overrightarrow{v})$ siendo:\"\"\"\n",
    "\n",
    "\n",
    "n_ejercicio = 'p036e14'\n",
    "\n",
    "display(md(\"**\"+texto_ejercicio+\"**\"))\n",
    "\n",
    "N = CoordSys3D('N') #instanciamos un sistema de coordenadas en R3\n",
    "\n",
    "i, j, k = N.base_vectors()\n",
    "\n",
    "pre_enunciado_latex = [[(3,2),(1,-5)],\n",
    "                       [(1,6),(-1/2,-3)],\n",
    "                      ]\n",
    "\n",
    "enunciado_latex, enunciado, solucion = [],[],[]\n",
    "\n",
    "for i, s in enumerate(pre_enunciado_latex) :\n",
    "    enunciado_latex.append(r\"\\overrightarrow{u}=\"+latex(S(s[0]))+r\" \\, \\ \\overrightarrow{v}=\"+latex(S(s[1])))\n",
    "    display(md(\"$\"+enunciado_latex[i]+\"$\"))\n",
    "    en=[\"Point\"+str(s[0])+\".dot(Point\"+str(s[1])+\")\"]\n",
    "    en.append([\"Point\"+str(s[0])+\".distance(Point(0,0))\",\"Point\"+str(s[1])+\".distance(Point(0,0))\"])\n",
    "    angulo = float(deg(acos(float(S(str(en[0])+\"/(\"+str(en[1][0])+\"*\"+str(en[1][1])+\")\")))))\n",
    "    #en.append(\"acos(\"+str(en[0])+\"/(\"+str(en[1][0])+\"*\"+str(en[1][1])+\"))\")\n",
    "    en.append(angulo)\n",
    "    enunciado.append(en)\n",
    "    solucion.append(latex(S(en)))\n",
    "    \n",
    "    display(md(\"$\"+solucion[i]+\"$\"))\n",
    "\n",
    "df_ejercicios = df_ejercicios.append(añadir_ejercicios(enunciado_latex, enunciado, solucion, texto_ejercicio, curso, titulo , n_ejercicio, '1', '2', enun_tex=True), ignore_index=True)\n"
   ]
  },
  {
   "cell_type": "code",
   "execution_count": 14,
   "metadata": {},
   "outputs": [
    {
     "data": {
      "text/markdown": [
       "**Calcula x para que los vectores\n",
       "$\\overrightarrow{u}$ y $\\overrightarrow{v}$ formen 60º siendo: **"
      ],
      "text/plain": [
       "<IPython.core.display.Markdown object>"
      ]
     },
     "metadata": {},
     "output_type": "display_data"
    },
    {
     "data": {
      "text/markdown": [
       "$\\overrightarrow{u}=(3, x) \\, \\ \\overrightarrow{v}=(5, 2)$"
      ],
      "text/plain": [
       "<IPython.core.display.Markdown object>"
      ]
     },
     "metadata": {},
     "output_type": "display_data"
    },
    {
     "data": {
      "image/png": "[encoded data removed]",
      "text/latex": [
       "$$\\frac{\\sqrt{29} \\left(2 x + 15\\right)}{29 \\sqrt{x^{2} + 9}} = \\frac{1}{2}$$"
      ],
      "text/plain": [
       "√29⋅(2⋅x + 15)      \n",
       "────────────── = 1/2\n",
       "      ________      \n",
       "     ╱  2           \n",
       "29⋅╲╱  x  + 9       "
      ]
     },
     "metadata": {},
     "output_type": "display_data"
    },
    {
     "data": {
      "text/markdown": [
       "$\\left [ \\frac{120}{13} + \\frac{87 \\sqrt{3}}{13}, \\quad - \\frac{87 \\sqrt{3}}{13} + \\frac{120}{13}\\right ]$"
      ],
      "text/plain": [
       "<IPython.core.display.Markdown object>"
      ]
     },
     "metadata": {},
     "output_type": "display_data"
    },
    {
     "data": {
      "text/markdown": [
       "$\\overrightarrow{u}=(2, x) \\, \\ \\overrightarrow{v}=(3, 1)$"
      ],
      "text/plain": [
       "<IPython.core.display.Markdown object>"
      ]
     },
     "metadata": {},
     "output_type": "display_data"
    },
    {
     "data": {
      "image/png": "[encoded data removed]",
      "text/latex": [
       "$$\\frac{\\sqrt{10} \\left(x + 6\\right)}{10 \\sqrt{x^{2} + 4}} = \\frac{1}{2}$$"
      ],
      "text/plain": [
       " √10⋅(x + 6)        \n",
       "────────────── = 1/2\n",
       "      ________      \n",
       "     ╱  2           \n",
       "10⋅╲╱  x  + 4       "
      ]
     },
     "metadata": {},
     "output_type": "display_data"
    },
    {
     "data": {
      "text/markdown": [
       "$\\left [ 4 + \\frac{10 \\sqrt{3}}{3}, \\quad - \\frac{10 \\sqrt{3}}{3} + 4\\right ]$"
      ],
      "text/plain": [
       "<IPython.core.display.Markdown object>"
      ]
     },
     "metadata": {},
     "output_type": "display_data"
    },
    {
     "data": {
      "text/markdown": [
       "$\\overrightarrow{u}=(1, 0) \\, \\ \\overrightarrow{v}=(1, x)$"
      ],
      "text/plain": [
       "<IPython.core.display.Markdown object>"
      ]
     },
     "metadata": {},
     "output_type": "display_data"
    },
    {
     "data": {
      "image/png": "[encoded data removed]",
      "text/latex": [
       "$$\\frac{1}{\\sqrt{x^{2} + 1}} = \\frac{1}{2}$$"
      ],
      "text/plain": [
       "     1           \n",
       "─────────── = 1/2\n",
       "   ________      \n",
       "  ╱  2           \n",
       "╲╱  x  + 1       "
      ]
     },
     "metadata": {},
     "output_type": "display_data"
    },
    {
     "data": {
      "text/markdown": [
       "$\\left [ - \\sqrt{3}, \\quad \\sqrt{3}\\right ]$"
      ],
      "text/plain": [
       "<IPython.core.display.Markdown object>"
      ]
     },
     "metadata": {},
     "output_type": "display_data"
    }
   ],
   "source": [
    "# Página 36 ejercicio 15\n",
    "\n",
    "texto_ejercicio = r\"\"\"Calcula x para que los vectores\n",
    "$\\overrightarrow{u}$ y $\\overrightarrow{v}$ formen 60º siendo: \"\"\"\n",
    "\n",
    "\n",
    "n_ejercicio = 'p036e15'\n",
    "\n",
    "display(md(\"**\"+texto_ejercicio+\"**\"))\n",
    "\n",
    "N = CoordSys3D('N') #instanciamos un sistema de coordenadas en R3\n",
    "\n",
    "i, j, k = N.base_vectors()\n",
    "\n",
    "pre_enunciado_latex = [[(3,x),(5,2)],\n",
    "                       [(2,x),(3,1)],\n",
    "                       [(1,0),(1,x)]\n",
    "                    \n",
    "                      ]\n",
    "\n",
    "enunciado_latex, enunciado, solucion = [],[],[]\n",
    "\n",
    "for id, s in enumerate(pre_enunciado_latex) :\n",
    "    enunciado_latex.append(r\"\\overrightarrow{u}=\"+str(s[0])+r\" \\, \\ \\overrightarrow{v}=\"+str(s[1]))\n",
    "    display(md(\"$\"+enunciado_latex[id]+\"$\"))\n",
    "    u = s[0][0]*i+s[0][1]*j\n",
    "    v = s[1][0]*i+s[1][1]*j\n",
    "    en=Eq(u.dot(v)/(u.magnitude()*v.magnitude()),cos(rad(60)))\n",
    "    display(en)\n",
    "    enunciado.append(en)\n",
    "    solucion.append(latex(solve(en)))\n",
    "    \n",
    "    display(md(\"$\"+solucion[id]+\"$\"))\n",
    "\n",
    "df_ejercicios = df_ejercicios.append(añadir_ejercicios(enunciado_latex, enunciado, solucion, texto_ejercicio, curso, titulo , n_ejercicio, '1', '2', enun_tex=True), ignore_index=True)\n"
   ]
  },
  {
   "cell_type": "code",
   "execution_count": 15,
   "metadata": {},
   "outputs": [
    {
     "data": {
      "text/markdown": [
       "**Halla las coordenadas de un cierto vector\n",
       "$\\overrightarrow{u}$, sabiendo que forma un ángulo de 60º con y $\\overrightarrow{v}$ y que los \n",
       "módulos de ambos vectores son iguales, siendo: **"
      ],
      "text/plain": [
       "<IPython.core.display.Markdown object>"
      ]
     },
     "metadata": {},
     "output_type": "display_data"
    },
    {
     "data": {
      "text/markdown": [
       "$\\overrightarrow{v}=(2, 4)$"
      ],
      "text/plain": [
       "<IPython.core.display.Markdown object>"
      ]
     },
     "metadata": {},
     "output_type": "display_data"
    },
    {
     "data": {
      "image/png": "[encoded data removed]",
      "text/latex": [
       "$$\\left [ \\frac{\\sqrt{5} \\left(2 x + 4 y\\right)}{10 \\sqrt{x^{2} + y^{2}}} = \\frac{1}{2}, \\quad \\sqrt{x^{2} + y^{2}} = 2 \\sqrt{5}\\right ]$$"
      ],
      "text/plain": [
       "⎡                          _________       ⎤\n",
       "⎢ √5⋅(2⋅x + 4⋅y)          ╱  2    2        ⎥\n",
       "⎢─────────────── = 1/2, ╲╱  x  + y   = 2⋅√5⎥\n",
       "⎢      _________                           ⎥\n",
       "⎢     ╱  2    2                            ⎥\n",
       "⎣10⋅╲╱  x  + y                             ⎦"
      ]
     },
     "metadata": {},
     "output_type": "display_data"
    },
    {
     "data": {
      "text/markdown": [
       "$\\left [ \\left \\{ x : - \\sqrt{- 4 \\sqrt{3} + 13}, \\quad y : \\sqrt{3} + 2\\right \\}, \\quad \\left \\{ x : \\sqrt{4 \\sqrt{3} + 13}, \\quad y : - \\sqrt{3} + 2\\right \\}\\right ]$"
      ],
      "text/plain": [
       "<IPython.core.display.Markdown object>"
      ]
     },
     "metadata": {},
     "output_type": "display_data"
    },
    {
     "data": {
      "text/markdown": [
       "$\\overrightarrow{v}=(2, 3)$"
      ],
      "text/plain": [
       "<IPython.core.display.Markdown object>"
      ]
     },
     "metadata": {},
     "output_type": "display_data"
    },
    {
     "data": {
      "image/png": "[encoded data removed]",
      "text/latex": [
       "$$\\left [ \\frac{\\sqrt{13} \\left(2 x + 3 y\\right)}{13 \\sqrt{x^{2} + y^{2}}} = \\frac{1}{2}, \\quad \\sqrt{x^{2} + y^{2}} = \\sqrt{13}\\right ]$$"
      ],
      "text/plain": [
       "⎡                          _________      ⎤\n",
       "⎢√13⋅(2⋅x + 3⋅y)          ╱  2    2       ⎥\n",
       "⎢─────────────── = 1/2, ╲╱  x  + y   = √13⎥\n",
       "⎢      _________                          ⎥\n",
       "⎢     ╱  2    2                           ⎥\n",
       "⎣13⋅╲╱  x  + y                            ⎦"
      ]
     },
     "metadata": {},
     "output_type": "display_data"
    },
    {
     "data": {
      "text/markdown": [
       "$\\left [ \\left \\{ x : - \\frac{\\sqrt{- 12 \\sqrt{3} + 31}}{2}, \\quad y : \\frac{3}{2} + \\sqrt{3}\\right \\}, \\quad \\left \\{ x : \\frac{\\sqrt{12 \\sqrt{3} + 31}}{2}, \\quad y : - \\sqrt{3} + \\frac{3}{2}\\right \\}\\right ]$"
      ],
      "text/plain": [
       "<IPython.core.display.Markdown object>"
      ]
     },
     "metadata": {},
     "output_type": "display_data"
    },
    {
     "data": {
      "text/markdown": [
       "$\\overrightarrow{v}=(1, 0)$"
      ],
      "text/plain": [
       "<IPython.core.display.Markdown object>"
      ]
     },
     "metadata": {},
     "output_type": "display_data"
    },
    {
     "data": {
      "image/png": "[encoded data removed]",
      "text/latex": [
       "$$\\left [ \\frac{x}{\\sqrt{x^{2} + y^{2}}} = \\frac{1}{2}, \\quad \\sqrt{x^{2} + y^{2}} = 1\\right ]$$"
      ],
      "text/plain": [
       "⎡                       _________    ⎤\n",
       "⎢     x                ╱  2    2     ⎥\n",
       "⎢──────────── = 1/2, ╲╱  x  + y   = 1⎥\n",
       "⎢   _________                        ⎥\n",
       "⎢  ╱  2    2                         ⎥\n",
       "⎣╲╱  x  + y                          ⎦"
      ]
     },
     "metadata": {},
     "output_type": "display_data"
    },
    {
     "data": {
      "text/markdown": [
       "$\\left [ \\left \\{ x : \\frac{1}{2}, \\quad y : - \\frac{\\sqrt{3}}{2}\\right \\}, \\quad \\left \\{ x : \\frac{1}{2}, \\quad y : \\frac{\\sqrt{3}}{2}\\right \\}\\right ]$"
      ],
      "text/plain": [
       "<IPython.core.display.Markdown object>"
      ]
     },
     "metadata": {},
     "output_type": "display_data"
    }
   ],
   "source": [
    "# Página 36 ejercicio 16\n",
    "\n",
    "texto_ejercicio = r\"\"\"Halla las coordenadas de un cierto vector\n",
    "$\\overrightarrow{u}$, sabiendo que forma un ángulo de 60º con y $\\overrightarrow{v}$ y que los \n",
    "módulos de ambos vectores son iguales, siendo: \"\"\"\n",
    "\n",
    "\n",
    "n_ejercicio = 'p036e16'\n",
    "\n",
    "display(md(\"**\"+texto_ejercicio+\"**\"))\n",
    "\n",
    "N = CoordSys3D('N') #instanciamos un sistema de coordenadas en R3\n",
    "\n",
    "i, j, k = N.base_vectors()\n",
    "\n",
    "pre_enunciado_latex = [[(2,4)],\n",
    "                       [(2,3)],\n",
    "                       [(1,0)]\n",
    "                    \n",
    "                      ]\n",
    "\n",
    "enunciado_latex, enunciado, solucion = [],[],[]\n",
    "\n",
    "for id, s in enumerate(pre_enunciado_latex) :\n",
    "    enunciado_latex.append(r\"\\overrightarrow{v}=\"+str(s[0]))\n",
    "    display(md(\"$\"+enunciado_latex[id]+\"$\"))\n",
    "    u = x*i+y*j\n",
    "    v = s[0][0]*i+s[0][1]*j\n",
    "    en=[Eq(u.dot(v)/(u.magnitude()*v.magnitude()),cos(rad(60))),Eq(u.magnitude(),v.magnitude())]\n",
    "    display(en)\n",
    "    enunciado.append(en)\n",
    "    solucion.append(latex(solve(en)))\n",
    "    \n",
    "    display(md(\"$\"+solucion[id]+\"$\"))\n",
    "\n",
    "df_ejercicios = df_ejercicios.append(añadir_ejercicios(enunciado_latex, enunciado, solucion, texto_ejercicio, curso, titulo , n_ejercicio, '1', '1', enun_tex=True), ignore_index=True)\n"
   ]
  },
  {
   "cell_type": "code",
   "execution_count": 16,
   "metadata": {},
   "outputs": [
    {
     "data": {
      "image/png": "[encoded data removed]",
      "text/latex": [
       "$$\\left [ \\left \\{ x : -2.46410161513775, \\quad y : 3.73205080756888\\right \\}, \\quad \\left \\{ x : 4.46410161513775, \\quad y : 0.267949192431123\\right \\}\\right ]$$"
      ],
      "text/plain": [
       "[{x: -2.46410161513775, y: 3.73205080756888}, {x: 4.46410161513775, y: 0.26794\n",
       "9192431123}]"
      ]
     },
     "execution_count": 16,
     "metadata": {},
     "output_type": "execute_result"
    }
   ],
   "source": [
    "en = [Eq(sqrt(5)*(2*x + 4*y)/(10*sqrt(x**2 + y**2)), 1/2), Eq(sqrt(x**2 + y**2), 2*sqrt(5))]\n",
    "solve(en)\n"
   ]
  },
  {
   "cell_type": "code",
   "execution_count": 197,
   "metadata": {},
   "outputs": [],
   "source": [
    "df_ejercicios.to_csv('ejercicios23.csv', index = False)"
   ]
  },
  {
   "cell_type": "code",
   "execution_count": 198,
   "metadata": {},
   "outputs": [],
   "source": [
    "df_ejercicios = pd.read_csv('ejercicios23.csv', index_col= None)"
   ]
  },
  {
   "cell_type": "code",
   "execution_count": 14,
   "metadata": {},
   "outputs": [
    {
     "data": {
      "text/html": [
       "<div>\n",
       "<style scoped>\n",
       "    .dataframe tbody tr th:only-of-type {\n",
       "        vertical-align: middle;\n",
       "    }\n",
       "\n",
       "    .dataframe tbody tr th {\n",
       "        vertical-align: top;\n",
       "    }\n",
       "\n",
       "    .dataframe thead th {\n",
       "        text-align: right;\n",
       "    }\n",
       "</style>\n",
       "<table border=\"1\" class=\"dataframe\">\n",
       "  <thead>\n",
       "    <tr style=\"text-align: right;\">\n",
       "      <th></th>\n",
       "      <th>enunciado_latex</th>\n",
       "      <th>enunciado</th>\n",
       "      <th>solucion</th>\n",
       "      <th>texto</th>\n",
       "      <th>curso</th>\n",
       "      <th>titulo</th>\n",
       "      <th>n_ejercicio</th>\n",
       "      <th>dificultad</th>\n",
       "      <th>n_columnas</th>\n",
       "      <th>puntos</th>\n",
       "      <th>enun_tex</th>\n",
       "      <th>sol_tex</th>\n",
       "    </tr>\n",
       "  </thead>\n",
       "  <tbody>\n",
       "    <tr>\n",
       "      <th>0</th>\n",
       "      <td>45º</td>\n",
       "      <td>45</td>\n",
       "      <td>pi/4</td>\n",
       "      <td>Expresa en radianes los siguientes ángulos, da...</td>\n",
       "      <td>1BC</td>\n",
       "      <td>23 - Trigonometría</td>\n",
       "      <td>p039e01</td>\n",
       "      <td>1</td>\n",
       "      <td>1</td>\n",
       "      <td>1</td>\n",
       "      <td>False</td>\n",
       "      <td>True</td>\n",
       "    </tr>\n",
       "  </tbody>\n",
       "</table>\n",
       "</div>"
      ],
      "text/plain": [
       "  enunciado_latex  enunciado solucion  \\\n",
       "0             45º         45     pi/4   \n",
       "\n",
       "                                               texto curso  \\\n",
       "0  Expresa en radianes los siguientes ángulos, da...   1BC   \n",
       "\n",
       "               titulo n_ejercicio dificultad n_columnas puntos  enun_tex  \\\n",
       "0  23 - Trigonometría     p039e01          1          1      1     False   \n",
       "\n",
       "   sol_tex  \n",
       "0     True  "
      ]
     },
     "execution_count": 14,
     "metadata": {},
     "output_type": "execute_result"
    }
   ],
   "source": [
    "df_ejercicios"
   ]
  },
  {
   "cell_type": "code",
   "execution_count": 200,
   "metadata": {},
   "outputs": [
    {
     "data": {
      "text/markdown": [
       "**Ejercicio: **p039e01"
      ],
      "text/plain": [
       "<IPython.core.display.Markdown object>"
      ]
     },
     "metadata": {},
     "output_type": "display_data"
    },
    {
     "data": {
      "text/html": [
       "<div>\n",
       "<style scoped>\n",
       "    .dataframe tbody tr th:only-of-type {\n",
       "        vertical-align: middle;\n",
       "    }\n",
       "\n",
       "    .dataframe tbody tr th {\n",
       "        vertical-align: top;\n",
       "    }\n",
       "\n",
       "    .dataframe thead th {\n",
       "        text-align: right;\n",
       "    }\n",
       "</style>\n",
       "<table border=\"1\" class=\"dataframe\">\n",
       "  <thead>\n",
       "    <tr style=\"text-align: right;\">\n",
       "      <th></th>\n",
       "      <th>enunciado_latex</th>\n",
       "      <th>enunciado</th>\n",
       "      <th>solucion</th>\n",
       "      <th>texto</th>\n",
       "      <th>curso</th>\n",
       "      <th>titulo</th>\n",
       "      <th>n_ejercicio</th>\n",
       "      <th>dificultad</th>\n",
       "      <th>n_columnas</th>\n",
       "      <th>puntos</th>\n",
       "      <th>enun_tex</th>\n",
       "      <th>sol_tex</th>\n",
       "    </tr>\n",
       "  </thead>\n",
       "  <tbody>\n",
       "    <tr>\n",
       "      <th>0</th>\n",
       "      <td>45º</td>\n",
       "      <td>45</td>\n",
       "      <td>\\frac{\\pi}{4}</td>\n",
       "      <td>Expresa en radianes los siguientes ángulos, da...</td>\n",
       "      <td>1BC</td>\n",
       "      <td>23 - Trigonometría</td>\n",
       "      <td>p039e01</td>\n",
       "      <td>1</td>\n",
       "      <td>3</td>\n",
       "      <td>1</td>\n",
       "      <td>False</td>\n",
       "      <td>True</td>\n",
       "    </tr>\n",
       "    <tr>\n",
       "      <th>1</th>\n",
       "      <td>75º</td>\n",
       "      <td>75</td>\n",
       "      <td>\\frac{5 \\pi}{12}</td>\n",
       "      <td>Expresa en radianes los siguientes ángulos, da...</td>\n",
       "      <td>1BC</td>\n",
       "      <td>23 - Trigonometría</td>\n",
       "      <td>p039e01</td>\n",
       "      <td>1</td>\n",
       "      <td>3</td>\n",
       "      <td>1</td>\n",
       "      <td>False</td>\n",
       "      <td>True</td>\n",
       "    </tr>\n",
       "    <tr>\n",
       "      <th>2</th>\n",
       "      <td>105º</td>\n",
       "      <td>105</td>\n",
       "      <td>\\frac{7 \\pi}{12}</td>\n",
       "      <td>Expresa en radianes los siguientes ángulos, da...</td>\n",
       "      <td>1BC</td>\n",
       "      <td>23 - Trigonometría</td>\n",
       "      <td>p039e01</td>\n",
       "      <td>1</td>\n",
       "      <td>3</td>\n",
       "      <td>1</td>\n",
       "      <td>False</td>\n",
       "      <td>True</td>\n",
       "    </tr>\n",
       "    <tr>\n",
       "      <th>3</th>\n",
       "      <td>230º</td>\n",
       "      <td>230</td>\n",
       "      <td>\\frac{23 \\pi}{18}</td>\n",
       "      <td>Expresa en radianes los siguientes ángulos, da...</td>\n",
       "      <td>1BC</td>\n",
       "      <td>23 - Trigonometría</td>\n",
       "      <td>p039e01</td>\n",
       "      <td>1</td>\n",
       "      <td>3</td>\n",
       "      <td>1</td>\n",
       "      <td>False</td>\n",
       "      <td>True</td>\n",
       "    </tr>\n",
       "  </tbody>\n",
       "</table>\n",
       "</div>"
      ],
      "text/plain": [
       "  enunciado_latex enunciado           solucion  \\\n",
       "0             45º        45      \\frac{\\pi}{4}   \n",
       "1             75º        75   \\frac{5 \\pi}{12}   \n",
       "2            105º       105   \\frac{7 \\pi}{12}   \n",
       "3            230º       230  \\frac{23 \\pi}{18}   \n",
       "\n",
       "                                               texto curso  \\\n",
       "0  Expresa en radianes los siguientes ángulos, da...   1BC   \n",
       "1  Expresa en radianes los siguientes ángulos, da...   1BC   \n",
       "2  Expresa en radianes los siguientes ángulos, da...   1BC   \n",
       "3  Expresa en radianes los siguientes ángulos, da...   1BC   \n",
       "\n",
       "               titulo n_ejercicio  dificultad  n_columnas  puntos  enun_tex  \\\n",
       "0  23 - Trigonometría     p039e01           1           3       1     False   \n",
       "1  23 - Trigonometría     p039e01           1           3       1     False   \n",
       "2  23 - Trigonometría     p039e01           1           3       1     False   \n",
       "3  23 - Trigonometría     p039e01           1           3       1     False   \n",
       "\n",
       "   sol_tex  \n",
       "0     True  \n",
       "1     True  \n",
       "2     True  \n",
       "3     True  "
      ]
     },
     "metadata": {},
     "output_type": "display_data"
    },
    {
     "data": {
      "text/markdown": [
       "**Ejercicio: **p039e02"
      ],
      "text/plain": [
       "<IPython.core.display.Markdown object>"
      ]
     },
     "metadata": {},
     "output_type": "display_data"
    },
    {
     "data": {
      "text/html": [
       "<div>\n",
       "<style scoped>\n",
       "    .dataframe tbody tr th:only-of-type {\n",
       "        vertical-align: middle;\n",
       "    }\n",
       "\n",
       "    .dataframe tbody tr th {\n",
       "        vertical-align: top;\n",
       "    }\n",
       "\n",
       "    .dataframe thead th {\n",
       "        text-align: right;\n",
       "    }\n",
       "</style>\n",
       "<table border=\"1\" class=\"dataframe\">\n",
       "  <thead>\n",
       "    <tr style=\"text-align: right;\">\n",
       "      <th></th>\n",
       "      <th>enunciado_latex</th>\n",
       "      <th>enunciado</th>\n",
       "      <th>solucion</th>\n",
       "      <th>texto</th>\n",
       "      <th>curso</th>\n",
       "      <th>titulo</th>\n",
       "      <th>n_ejercicio</th>\n",
       "      <th>dificultad</th>\n",
       "      <th>n_columnas</th>\n",
       "      <th>puntos</th>\n",
       "      <th>enun_tex</th>\n",
       "      <th>sol_tex</th>\n",
       "    </tr>\n",
       "  </thead>\n",
       "  <tbody>\n",
       "    <tr>\n",
       "      <th>4</th>\n",
       "      <td>\\frac{{3\\pi }}{4}</td>\n",
       "      <td>(3*pi)/4</td>\n",
       "      <td>135</td>\n",
       "      <td>Expresa en grados los siguientes ángulos dados...</td>\n",
       "      <td>1BC</td>\n",
       "      <td>23 - Trigonometría</td>\n",
       "      <td>p039e02</td>\n",
       "      <td>1</td>\n",
       "      <td>3</td>\n",
       "      <td>1</td>\n",
       "      <td>False</td>\n",
       "      <td>True</td>\n",
       "    </tr>\n",
       "    <tr>\n",
       "      <th>5</th>\n",
       "      <td>\\frac{{{5}\\pi }}{{3}}</td>\n",
       "      <td>(5*pi)/3</td>\n",
       "      <td>300</td>\n",
       "      <td>Expresa en grados los siguientes ángulos dados...</td>\n",
       "      <td>1BC</td>\n",
       "      <td>23 - Trigonometría</td>\n",
       "      <td>p039e02</td>\n",
       "      <td>1</td>\n",
       "      <td>3</td>\n",
       "      <td>1</td>\n",
       "      <td>False</td>\n",
       "      <td>True</td>\n",
       "    </tr>\n",
       "    <tr>\n",
       "      <th>6</th>\n",
       "      <td>\\frac{{{{3}}\\pi }}{{{2}}}</td>\n",
       "      <td>(3*pi)/2</td>\n",
       "      <td>270</td>\n",
       "      <td>Expresa en grados los siguientes ángulos dados...</td>\n",
       "      <td>1BC</td>\n",
       "      <td>23 - Trigonometría</td>\n",
       "      <td>p039e02</td>\n",
       "      <td>1</td>\n",
       "      <td>3</td>\n",
       "      <td>1</td>\n",
       "      <td>False</td>\n",
       "      <td>True</td>\n",
       "    </tr>\n",
       "    <tr>\n",
       "      <th>7</th>\n",
       "      <td>\\frac{{{{9}}\\pi }}{{{2}}}</td>\n",
       "      <td>(9*pi)/2</td>\n",
       "      <td>810</td>\n",
       "      <td>Expresa en grados los siguientes ángulos dados...</td>\n",
       "      <td>1BC</td>\n",
       "      <td>23 - Trigonometría</td>\n",
       "      <td>p039e02</td>\n",
       "      <td>1</td>\n",
       "      <td>3</td>\n",
       "      <td>1</td>\n",
       "      <td>False</td>\n",
       "      <td>True</td>\n",
       "    </tr>\n",
       "    <tr>\n",
       "      <th>8</th>\n",
       "      <td>\\frac{{{{4}}\\pi }}{{{3}}}</td>\n",
       "      <td>(4*pi)/3</td>\n",
       "      <td>240</td>\n",
       "      <td>Expresa en grados los siguientes ángulos dados...</td>\n",
       "      <td>1BC</td>\n",
       "      <td>23 - Trigonometría</td>\n",
       "      <td>p039e02</td>\n",
       "      <td>1</td>\n",
       "      <td>3</td>\n",
       "      <td>1</td>\n",
       "      <td>False</td>\n",
       "      <td>True</td>\n",
       "    </tr>\n",
       "  </tbody>\n",
       "</table>\n",
       "</div>"
      ],
      "text/plain": [
       "             enunciado_latex enunciado solucion  \\\n",
       "4          \\frac{{3\\pi }}{4}  (3*pi)/4      135   \n",
       "5      \\frac{{{5}\\pi }}{{3}}  (5*pi)/3      300   \n",
       "6  \\frac{{{{3}}\\pi }}{{{2}}}  (3*pi)/2      270   \n",
       "7  \\frac{{{{9}}\\pi }}{{{2}}}  (9*pi)/2      810   \n",
       "8  \\frac{{{{4}}\\pi }}{{{3}}}  (4*pi)/3      240   \n",
       "\n",
       "                                               texto curso  \\\n",
       "4  Expresa en grados los siguientes ángulos dados...   1BC   \n",
       "5  Expresa en grados los siguientes ángulos dados...   1BC   \n",
       "6  Expresa en grados los siguientes ángulos dados...   1BC   \n",
       "7  Expresa en grados los siguientes ángulos dados...   1BC   \n",
       "8  Expresa en grados los siguientes ángulos dados...   1BC   \n",
       "\n",
       "               titulo n_ejercicio  dificultad  n_columnas  puntos  enun_tex  \\\n",
       "4  23 - Trigonometría     p039e02           1           3       1     False   \n",
       "5  23 - Trigonometría     p039e02           1           3       1     False   \n",
       "6  23 - Trigonometría     p039e02           1           3       1     False   \n",
       "7  23 - Trigonometría     p039e02           1           3       1     False   \n",
       "8  23 - Trigonometría     p039e02           1           3       1     False   \n",
       "\n",
       "   sol_tex  \n",
       "4     True  \n",
       "5     True  \n",
       "6     True  \n",
       "7     True  \n",
       "8     True  "
      ]
     },
     "metadata": {},
     "output_type": "display_data"
    },
    {
     "data": {
      "text/markdown": [
       "**Ejercicio: **p039e05y6"
      ],
      "text/plain": [
       "<IPython.core.display.Markdown object>"
      ]
     },
     "metadata": {},
     "output_type": "display_data"
    },
    {
     "data": {
      "text/html": [
       "<div>\n",
       "<style scoped>\n",
       "    .dataframe tbody tr th:only-of-type {\n",
       "        vertical-align: middle;\n",
       "    }\n",
       "\n",
       "    .dataframe tbody tr th {\n",
       "        vertical-align: top;\n",
       "    }\n",
       "\n",
       "    .dataframe thead th {\n",
       "        text-align: right;\n",
       "    }\n",
       "</style>\n",
       "<table border=\"1\" class=\"dataframe\">\n",
       "  <thead>\n",
       "    <tr style=\"text-align: right;\">\n",
       "      <th></th>\n",
       "      <th>enunciado_latex</th>\n",
       "      <th>enunciado</th>\n",
       "      <th>solucion</th>\n",
       "      <th>texto</th>\n",
       "      <th>curso</th>\n",
       "      <th>titulo</th>\n",
       "      <th>n_ejercicio</th>\n",
       "      <th>dificultad</th>\n",
       "      <th>n_columnas</th>\n",
       "      <th>puntos</th>\n",
       "      <th>enun_tex</th>\n",
       "      <th>sol_tex</th>\n",
       "    </tr>\n",
       "  </thead>\n",
       "  <tbody>\n",
       "    <tr>\n",
       "      <th>9</th>\n",
       "      <td>\\frac{\\tan\\alpha+\\tan\\beta}{\\cot\\alpha+\\cot\\be...</td>\n",
       "      <td>Eq((tan(alpha) + tan(beta))/(cot(alpha) + cot(...</td>\n",
       "      <td>\\mathrm{True}</td>\n",
       "      <td>Demostrar si son verdaderas o falsas las sigui...</td>\n",
       "      <td>1BC</td>\n",
       "      <td>23 - Trigonometría</td>\n",
       "      <td>p039e05y6</td>\n",
       "      <td>1</td>\n",
       "      <td>3</td>\n",
       "      <td>1</td>\n",
       "      <td>False</td>\n",
       "      <td>True</td>\n",
       "    </tr>\n",
       "  </tbody>\n",
       "</table>\n",
       "</div>"
      ],
      "text/plain": [
       "                                     enunciado_latex  \\\n",
       "9  \\frac{\\tan\\alpha+\\tan\\beta}{\\cot\\alpha+\\cot\\be...   \n",
       "\n",
       "                                           enunciado       solucion  \\\n",
       "9  Eq((tan(alpha) + tan(beta))/(cot(alpha) + cot(...  \\mathrm{True}   \n",
       "\n",
       "                                               texto curso  \\\n",
       "9  Demostrar si son verdaderas o falsas las sigui...   1BC   \n",
       "\n",
       "               titulo n_ejercicio  dificultad  n_columnas  puntos  enun_tex  \\\n",
       "9  23 - Trigonometría   p039e05y6           1           3       1     False   \n",
       "\n",
       "   sol_tex  \n",
       "9     True  "
      ]
     },
     "metadata": {},
     "output_type": "display_data"
    },
    {
     "ename": "FileNotFoundError",
     "evalue": "[Errno 2] No existe el archivo o el directorio: '/home/hp/mi_git/mat1bac_cit/notebooks/trigono.pdf' -> '../ejercicios/build/trigono.pdf'",
     "output_type": "error",
     "traceback": [
      "\u001b[0;31m---------------------------------------------------------------------------\u001b[0m",
      "\u001b[0;31mFileNotFoundError\u001b[0m                         Traceback (most recent call last)",
      "\u001b[0;32m<ipython-input-200-30e0b480c3de>\u001b[0m in \u001b[0;36m<module>\u001b[0;34m()\u001b[0m\n\u001b[1;32m      5\u001b[0m     \u001b[0mescribir_ejercicios\u001b[0m\u001b[0;34m(\u001b[0m\u001b[0mdf_ejercicios\u001b[0m\u001b[0;34m[\u001b[0m\u001b[0mdf_ejercicios\u001b[0m\u001b[0;34m.\u001b[0m\u001b[0mn_ejercicio\u001b[0m \u001b[0;34m==\u001b[0m \u001b[0ms\u001b[0m\u001b[0;34m]\u001b[0m\u001b[0;34m,\u001b[0m\u001b[0mfichero\u001b[0m\u001b[0;34m)\u001b[0m\u001b[0;34m\u001b[0m\u001b[0m\n\u001b[1;32m      6\u001b[0m \u001b[0;34m\u001b[0m\u001b[0m\n\u001b[0;32m----> 7\u001b[0;31m \u001b[0mescribir_fin\u001b[0m\u001b[0;34m(\u001b[0m\u001b[0mfichero\u001b[0m\u001b[0;34m)\u001b[0m\u001b[0;34m\u001b[0m\u001b[0m\n\u001b[0m",
      "\u001b[0;32m~/mi_git/mat1bac_cit/notebooks/docparts.py\u001b[0m in \u001b[0;36mescribir_fin\u001b[0;34m(fichero)\u001b[0m\n\u001b[1;32m    454\u001b[0m     \u001b[0mos\u001b[0m\u001b[0;34m.\u001b[0m\u001b[0msystem\u001b[0m\u001b[0;34m(\u001b[0m\u001b[0;34m\"pdflatex %s.tex\"\u001b[0m \u001b[0;34m%\u001b[0m \u001b[0mfichero\u001b[0m\u001b[0;34m)\u001b[0m\u001b[0;34m\u001b[0m\u001b[0m\n\u001b[1;32m    455\u001b[0m     \u001b[0mos\u001b[0m\u001b[0;34m.\u001b[0m\u001b[0msystem\u001b[0m\u001b[0;34m(\u001b[0m\u001b[0;34m\"pdflatex %s.tex\"\u001b[0m \u001b[0;34m%\u001b[0m \u001b[0mfichero\u001b[0m\u001b[0;34m)\u001b[0m\u001b[0;34m\u001b[0m\u001b[0m\n\u001b[0;32m--> 456\u001b[0;31m     \u001b[0mos\u001b[0m\u001b[0;34m.\u001b[0m\u001b[0mrename\u001b[0m\u001b[0;34m(\u001b[0m\u001b[0mcwd\u001b[0m\u001b[0;34m+\u001b[0m\u001b[0;34m'/'\u001b[0m\u001b[0;34m+\u001b[0m\u001b[0mfichero\u001b[0m\u001b[0;34m+\u001b[0m\u001b[0;34m'.pdf'\u001b[0m\u001b[0;34m,\u001b[0m\u001b[0;34m'../ejercicios/build/'\u001b[0m\u001b[0;34m+\u001b[0m\u001b[0mfichero\u001b[0m\u001b[0;34m+\u001b[0m\u001b[0;34m'.pdf'\u001b[0m\u001b[0;34m)\u001b[0m\u001b[0;34m\u001b[0m\u001b[0m\n\u001b[0m\u001b[1;32m    457\u001b[0m     \u001b[0mos\u001b[0m\u001b[0;34m.\u001b[0m\u001b[0mrename\u001b[0m\u001b[0;34m(\u001b[0m\u001b[0mcwd\u001b[0m\u001b[0;34m+\u001b[0m\u001b[0;34m'/'\u001b[0m\u001b[0;34m+\u001b[0m\u001b[0mfichero\u001b[0m\u001b[0;34m+\u001b[0m\u001b[0;34m'.tex'\u001b[0m\u001b[0;34m,\u001b[0m\u001b[0;34m'../ejercicios/'\u001b[0m\u001b[0;34m+\u001b[0m\u001b[0mfichero\u001b[0m\u001b[0;34m+\u001b[0m\u001b[0;34m'.tex'\u001b[0m\u001b[0;34m)\u001b[0m\u001b[0;34m\u001b[0m\u001b[0m\n\u001b[1;32m    458\u001b[0m     \u001b[0mos\u001b[0m\u001b[0;34m.\u001b[0m\u001b[0mremove\u001b[0m\u001b[0;34m(\u001b[0m\u001b[0;34m\"%s.log\"\u001b[0m \u001b[0;34m%\u001b[0m \u001b[0mfichero\u001b[0m\u001b[0;34m)\u001b[0m\u001b[0;34m\u001b[0m\u001b[0m\n",
      "\u001b[0;31mFileNotFoundError\u001b[0m: [Errno 2] No existe el archivo o el directorio: '/home/hp/mi_git/mat1bac_cit/notebooks/trigono.pdf' -> '../ejercicios/build/trigono.pdf'"
     ]
    }
   ],
   "source": [
    "escribir_preambulo(fichero, titulo, 'ejercicios')\n",
    "for s in df_ejercicios.groupby('n_ejercicio').count().index : \n",
    "    display(md(\"**Ejercicio: **\" + s ))\n",
    "    display(df_ejercicios[df_ejercicios.n_ejercicio == s])\n",
    "    escribir_ejercicios(df_ejercicios[df_ejercicios.n_ejercicio == s],fichero)\n",
    "\n",
    "escribir_fin(fichero)"
   ]
  }
 ],
 "metadata": {
  "kernelspec": {
   "display_name": "Python 3",
   "language": "python",
   "name": "python3"
  },
  "language_info": {
   "codemirror_mode": {
    "name": "ipython",
    "version": 3
   },
   "file_extension": ".py",
   "mimetype": "text/x-python",
   "name": "python",
   "nbconvert_exporter": "python",
   "pygments_lexer": "ipython3",
   "version": "3.6.5"
  }
 },
 "nbformat": 4,
 "nbformat_minor": 2
}
