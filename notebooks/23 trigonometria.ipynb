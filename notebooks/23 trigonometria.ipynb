{
 "cells": [
  {
   "cell_type": "code",
   "execution_count": 1,
   "metadata": {},
   "outputs": [
    {
     "name": "stdout",
     "output_type": "stream",
     "text": [
      "IPython console for SymPy 1.2 (Python 3.6.5-64-bit) (ground types: gmpy)\n",
      "\n",
      "These commands were executed:\n",
      ">>> from __future__ import division\n",
      ">>> from sympy import *\n",
      ">>> x, y, z, t = symbols('x y z t')\n",
      ">>> k, m, n = symbols('k m n', integer=True)\n",
      ">>> f, g, h = symbols('f g h', cls=Function)\n",
      ">>> init_printing()\n",
      "\n",
      "Documentation can be found at http://docs.sympy.org/1.2/\n",
      "\n"
     ]
    }
   ],
   "source": [
    "from sympy import init_session\n",
    "from sympy import div, QQ\n",
    "from sympy.parsing.latex import parse_latex\n",
    "from sympy.parsing.sympy_parser import parse_expr\n",
    "from IPython.display import Markdown as md\n",
    "from IPython.display import display\n",
    "import numpy as np\n",
    "import pandas as pd\n",
    "    \n",
    "\n",
    "\n",
    "\n",
    "init_session()\n",
    "\n",
    "a, b, c, d = symbols('a b c d', real = True)\n",
    "from docparts import añadir_ejercicios, doc_ejer, escribir_preambulo, escribir_ejercicios, escribir_fin\n",
    "\n",
    "alpha = Symbol(\"alpha\")\n",
    "beta = Symbol(\"beta\")\n",
    "\n",
    "df_ejercicios = pd.DataFrame()\n",
    "\n",
    "fichero = 'trigono'\n",
    "titulo = '23 - Trigonometría'\n",
    "curso = '1BC'\n",
    "\n",
    "\n",
    "x,y = symbols('x, y', real=True)\n"
   ]
  },
  {
   "cell_type": "code",
   "execution_count": 5,
   "metadata": {},
   "outputs": [
    {
     "data": {
      "text/markdown": [
       "**Resolver las siguientes ecuaciones para ángulos en el primer cuadrante:**"
      ],
      "text/plain": [
       "<IPython.core.display.Markdown object>"
      ]
     },
     "metadata": {},
     "output_type": "display_data"
    },
    {
     "data": {
      "text/markdown": [
       "$\\sin{2x}=\\frac{1}{2} \\rightarrow \\left [ \\frac{\\pi}{12}, \\quad \\frac{5 \\pi}{12}\\right ]$"
      ],
      "text/plain": [
       "<IPython.core.display.Markdown object>"
      ]
     },
     "metadata": {},
     "output_type": "display_data"
    },
    {
     "data": {
      "text/markdown": [
       "$\\tan{\\frac{x}{2}}=\\frac{{\\sqrt {3} }}{3} \\rightarrow \\left [ \\frac{\\pi}{3}\\right ]$"
      ],
      "text/plain": [
       "<IPython.core.display.Markdown object>"
      ]
     },
     "metadata": {},
     "output_type": "display_data"
    },
    {
     "data": {
      "text/markdown": [
       "$\\sin{(3x-\\frac{\\pi}{2})}=-\\frac{1}{2} \\rightarrow \\left [ \\frac{\\pi}{9}, \\quad \\frac{5 \\pi}{9}\\right ]$"
      ],
      "text/plain": [
       "<IPython.core.display.Markdown object>"
      ]
     },
     "metadata": {},
     "output_type": "display_data"
    }
   ],
   "source": [
    "# Página 41 ejercicio 27\n",
    "\n",
    "texto_ejercicio = 'Resolver las siguientes ecuaciones para ángulos en el primer cuadrante:'\n",
    "n_ejercicio = 'p041e27'\n",
    "\n",
    "display(md(\"**\"+texto_ejercicio+\"**\"))\n",
    "\n",
    "enunciado_latex = [r'\\sin{2x}=\\frac{1}{2}',\n",
    "                   r'\\tan{\\frac{x}{2}}=\\frac{{\\sqrt {3} }}{3}',\n",
    "                   r'\\sin{(3x-\\frac{\\pi}{2})}=-\\frac{1}{2}',\n",
    "                   \n",
    "                  ]\n",
    "                                       \n",
    "\n",
    "\n",
    "\n",
    "\n",
    "enunciado, solucion = [], []\n",
    "\n",
    "for i, s in enumerate(enunciado_latex) :\n",
    "    enunciado.append(parse_latex(s))\n",
    "    #solucion.append(latex(solve(parse_latex(s)))) \n",
    "    solucion.append(latex([nsimplify(i/pi)*pi for i in solve(eval(str(parse_latex(s))))])) \n",
    "    display(md(\"$\"+ enunciado_latex[i] +\" \\\\rightarrow \" + solucion[i] +\"$\"))\n",
    "\n",
    "df_ejercicios = df_ejercicios.append(añadir_ejercicios(enunciado_latex, enunciado, solucion, texto_ejercicio, curso, titulo , n_ejercicio, '1', '2'), ignore_index=True)\n"
   ]
  },
  {
   "cell_type": "code",
   "execution_count": 10,
   "metadata": {},
   "outputs": [
    {
     "data": {
      "text/markdown": [
       "**Resolver las siguientes ecuaciones:**"
      ],
      "text/plain": [
       "<IPython.core.display.Markdown object>"
      ]
     },
     "metadata": {},
     "output_type": "display_data"
    },
    {
     "data": {
      "text/markdown": [
       "$2\\sin{x}+\\csc{x}=2\\sqrt{2} \\rightarrow \\left [ 45, \\quad 135\\right ]$"
      ],
      "text/plain": [
       "<IPython.core.display.Markdown object>"
      ]
     },
     "metadata": {},
     "output_type": "display_data"
    },
    {
     "data": {
      "text/markdown": [
       "$\\sin{x}=\\cos^2{x}+1 \\rightarrow \\left [ 90\\right ]$"
      ],
      "text/plain": [
       "<IPython.core.display.Markdown object>"
      ]
     },
     "metadata": {},
     "output_type": "display_data"
    },
    {
     "data": {
      "text/markdown": [
       "$\\sin{x}\\cos{x}=0 \\rightarrow \\left [ 0, \\quad 90, \\quad 180, \\quad 270\\right ]$"
      ],
      "text/plain": [
       "<IPython.core.display.Markdown object>"
      ]
     },
     "metadata": {},
     "output_type": "display_data"
    },
    {
     "data": {
      "text/markdown": [
       "$\\tan{x}-\\sin{x}=0 \\rightarrow \\left [ 0, \\quad -180, \\quad 180, \\quad 360\\right ]$"
      ],
      "text/plain": [
       "<IPython.core.display.Markdown object>"
      ]
     },
     "metadata": {},
     "output_type": "display_data"
    },
    {
     "data": {
      "text/markdown": [
       "$\\sin{x}\\cos{x}=2\\sin{x} \\rightarrow \\left [ 0\\right ]$"
      ],
      "text/plain": [
       "<IPython.core.display.Markdown object>"
      ]
     },
     "metadata": {},
     "output_type": "display_data"
    },
    {
     "data": {
      "text/markdown": [
       "$2\\cos{x}-3\\tan{x}=0 \\rightarrow \\left [ 150, \\quad 30, \\quad - \\frac{180 i \\log{\\left (- i \\left(- \\sqrt{3} + 2\\right) \\right )}}{\\pi}, \\quad - \\frac{180 i \\log{\\left (- i \\left(\\sqrt{3} + 2\\right) \\right )}}{\\pi}\\right ]$"
      ],
      "text/plain": [
       "<IPython.core.display.Markdown object>"
      ]
     },
     "metadata": {},
     "output_type": "display_data"
    },
    {
     "data": {
      "text/markdown": [
       "$\\sin{2x}=2\\cos{x} \\rightarrow \\left [ -90, \\quad 90\\right ]$"
      ],
      "text/plain": [
       "<IPython.core.display.Markdown object>"
      ]
     },
     "metadata": {},
     "output_type": "display_data"
    },
    {
     "data": {
      "text/markdown": [
       "$4\\tan{x}=\\frac{\\sqrt{3}}{\\cos^2{x}} \\rightarrow \\left [ -120, \\quad -150, \\quad 60, \\quad 30\\right ]$"
      ],
      "text/plain": [
       "<IPython.core.display.Markdown object>"
      ]
     },
     "metadata": {},
     "output_type": "display_data"
    },
    {
     "data": {
      "text/markdown": [
       "$\\sin{x}+\\cos{x}=\\sqrt{2} \\rightarrow \\left [ 45\\right ]$"
      ],
      "text/plain": [
       "<IPython.core.display.Markdown object>"
      ]
     },
     "metadata": {},
     "output_type": "display_data"
    },
    {
     "data": {
      "text/markdown": [
       "$\\sin{2x}\\cos{x}=6\\sin^3{x} \\rightarrow \\left [ 0, \\quad 180, \\quad -150, \\quad 150, \\quad -30, \\quad 30\\right ]$"
      ],
      "text/plain": [
       "<IPython.core.display.Markdown object>"
      ]
     },
     "metadata": {},
     "output_type": "display_data"
    },
    {
     "data": {
      "text/markdown": [
       "$4\\sin{\\frac{x}{2}}\\cos{x}=3 \\rightarrow \\left [ \\right ]$"
      ],
      "text/plain": [
       "<IPython.core.display.Markdown object>"
      ]
     },
     "metadata": {},
     "output_type": "display_data"
    },
    {
     "data": {
      "text/markdown": [
       "$\\tan{x}\\tan{2x}=1 \\rightarrow \\left [ -150, \\quad 150, \\quad -30, \\quad 30\\right ]$"
      ],
      "text/plain": [
       "<IPython.core.display.Markdown object>"
      ]
     },
     "metadata": {},
     "output_type": "display_data"
    },
    {
     "data": {
      "text/markdown": [
       "$4\\cos{2x}+3\\cos{x}=1 \\rightarrow \\left [ 180, \\quad - \\frac{180 i \\log{\\left (\\frac{5}{8} - \\frac{\\sqrt{39} i}{8} \\right )}}{\\pi}, \\quad - \\frac{180 i \\log{\\left (\\frac{5}{8} + \\frac{\\sqrt{39} i}{8} \\right )}}{\\pi}\\right ]$"
      ],
      "text/plain": [
       "<IPython.core.display.Markdown object>"
      ]
     },
     "metadata": {},
     "output_type": "display_data"
    },
    {
     "data": {
      "text/markdown": [
       "$\\tan{x}+3\\cot{x}=4 \\rightarrow \\left [ 45, \\quad \\frac{180 \\operatorname{atan}{\\left (3 \\right )}}{\\pi}\\right ]$"
      ],
      "text/plain": [
       "<IPython.core.display.Markdown object>"
      ]
     },
     "metadata": {},
     "output_type": "display_data"
    },
    {
     "data": {
      "text/markdown": [
       "$4\\sin{(x-30)}\\cos{(x-30)}=\\sqrt{3} \\rightarrow \\left [ \\frac{180 \\left(- \\frac{2 \\pi}{3} + 30\\right)}{\\pi}, \\quad \\frac{180 \\left(\\frac{\\pi}{6} + 30\\right)}{\\pi}, \\quad \\frac{180 \\left(\\frac{\\pi}{3} + 30\\right)}{\\pi}, \\quad \\frac{180 \\left(- 2 \\operatorname{atan}{\\left (\\sqrt{3} + 2 \\right )} + 30\\right)}{\\pi}\\right ]$"
      ],
      "text/plain": [
       "<IPython.core.display.Markdown object>"
      ]
     },
     "metadata": {},
     "output_type": "display_data"
    }
   ],
   "source": [
    "# Página 41 ejercicio 28\n",
    "\n",
    "texto_ejercicio = 'Resolver las siguientes ecuaciones:'\n",
    "n_ejercicio = 'p041e28'\n",
    "\n",
    "display(md(\"**\"+texto_ejercicio+\"**\"))\n",
    "\n",
    "enunciado_latex = [r'2\\sin{x}+\\csc{x}=2\\sqrt{2}',\n",
    "                   r'\\sin{x}=\\cos^2{x}+1',\n",
    "                   r'\\sin{x}\\cos{x}=0',\n",
    "                   r'\\tan{x}-\\sin{x}=0',\n",
    "                   r'\\sin{x}\\cos{x}=2\\sin{x}',\n",
    "                   r'2\\cos{x}-3\\tan{x}=0',\n",
    "                   r'\\sin{2x}=2\\cos{x}',\n",
    "                   r'4\\tan{x}=\\frac{\\sqrt{3}}{\\cos^2{x}}',\n",
    "                   r'\\sin{x}+\\cos{x}=\\sqrt{2}',\n",
    "                   r'\\sin{2x}\\cos{x}=6\\sin^3{x}',\n",
    "                   r'4\\sin{\\frac{x}{2}}\\cos{x}=3',\n",
    "                   r'\\tan{x}\\tan{2x}=1',\n",
    "                   r'4\\cos{2x}+3\\cos{x}=1',\n",
    "                   r'\\tan{x}+3\\cot{x}=4',\n",
    "                   r'4\\sin{(x-30)}\\cos{(x-30)}=\\sqrt{3}'\n",
    "                \n",
    "                   \n",
    "                   \n",
    "                  ]\n",
    "                                       \n",
    "\n",
    "\n",
    "\n",
    "\n",
    "enunciado, solucion = [], []\n",
    "\n",
    "for i, s in enumerate(enunciado_latex) :\n",
    "    enunciado.append(parse_latex(s))\n",
    "    #solucion.append(latex(solve(parse_latex(s)))) \n",
    "    solucion.append(latex([deg(nsimplify(i/pi)*pi) for i in solve(eval(str(parse_latex(s))))])) \n",
    "    display(md(\"$\"+ enunciado_latex[i] +\" \\\\rightarrow \" + solucion[i] +\"$\"))\n",
    "\n",
    "df_ejercicios = df_ejercicios.append(añadir_ejercicios(enunciado_latex, enunciado, solucion, texto_ejercicio, curso, titulo , n_ejercicio, '1', '2'), ignore_index=True)\n"
   ]
  },
  {
   "cell_type": "code",
   "execution_count": 6,
   "metadata": {},
   "outputs": [
    {
     "data": {
      "image/png": "[encoded data removed]",
      "text/latex": [
       "$$c s c x + 2 \\sin{\\left (x \\right )} = 2 \\sqrt{2}$$"
      ],
      "text/plain": [
       "c⋅s⋅c⋅x + 2⋅sin(x) = 2⋅√2"
      ]
     },
     "execution_count": 6,
     "metadata": {},
     "output_type": "execute_result"
    }
   ],
   "source": [
    "parse_latex(r'2\\sin{x}+csc{x}=2\\sqrt{2}')"
   ]
  },
  {
   "cell_type": "code",
   "execution_count": 21,
   "metadata": {},
   "outputs": [
    {
     "data": {
      "image/png": "[encoded data removed]",
      "text/latex": [
       "$$\\left [ \\frac{\\pi}{9}, \\quad \\frac{5 \\pi}{9}\\right ]$$"
      ],
      "text/plain": [
       "⎡π  5⋅π⎤\n",
       "⎢─, ───⎥\n",
       "⎣9   9 ⎦"
      ]
     },
     "execution_count": 21,
     "metadata": {},
     "output_type": "execute_result"
    }
   ],
   "source": [
    "[nsimplify(i/pi)*pi for i in solve(eval(str(parse_latex(r'\\sin{(3x-\\frac{\\pi}{2})}=-\\frac{1}{2}'))))]"
   ]
  },
  {
   "cell_type": "code",
   "execution_count": 7,
   "metadata": {},
   "outputs": [
    {
     "data": {
      "image/png": "[encoded data removed]",
      "text/latex": [
       "$$\\left [ 0.349065850398866, \\quad 1.74532925199433\\right ]$$"
      ],
      "text/plain": [
       "[0.349065850398866, 1.74532925199433]"
      ]
     },
     "execution_count": 7,
     "metadata": {},
     "output_type": "execute_result"
    }
   ],
   "source": [
    "solve(sin(3*x-pi/2)+1/2)"
   ]
  },
  {
   "cell_type": "code",
   "execution_count": 19,
   "metadata": {},
   "outputs": [
    {
     "data": {
      "image/png": "[encoded data removed]",
      "text/latex": [
       "$$\\left [ - \\frac{\\pi}{2}, \\quad \\frac{\\pi}{2}\\right ]$$"
      ],
      "text/plain": [
       "⎡-π   π⎤\n",
       "⎢───, ─⎥\n",
       "⎣ 2   2⎦"
      ]
     },
     "execution_count": 19,
     "metadata": {},
     "output_type": "execute_result"
    }
   ],
   "source": [
    "solve(sin(2*x)-2*cos(x))"
   ]
  },
  {
   "cell_type": "code",
   "execution_count": 22,
   "metadata": {},
   "outputs": [
    {
     "data": {
      "image/png": "[encoded data removed]",
      "text/latex": [
       "$$\\left [ 15.0, \\quad 75.0\\right ]$$"
      ],
      "text/plain": [
       "[15.0, 75.0]"
      ]
     },
     "execution_count": 22,
     "metadata": {},
     "output_type": "execute_result"
    }
   ],
   "source": [
    "[float(deg(i)) for i in solve(sin(2*x)-1/2)]"
   ]
  },
  {
   "cell_type": "code",
   "execution_count": 2,
   "metadata": {},
   "outputs": [],
   "source": [
    "from sympy import solve_poly_system\n",
    "a, c =solve_poly_system([Eq(36,a*c*sin(rad(45))),Eq(c/sin(rad(105)),a/sin(rad(30)))],a,c)[1]"
   ]
  },
  {
   "cell_type": "code",
   "execution_count": 3,
   "metadata": {},
   "outputs": [
    {
     "data": {
      "image/png": "[encoded data removed]",
      "text/latex": [
       "$$\\left ( 5.133598063004113, \\quad 7.260004004472667, \\quad 9.917349901686418\\right )$$"
      ],
      "text/plain": [
       "(5.133598063004113, 7.260004004472667, 9.917349901686418)"
      ]
     },
     "execution_count": 3,
     "metadata": {},
     "output_type": "execute_result"
    }
   ],
   "source": [
    "float(a), float(a*sin(rad(45))/sin(rad(30))), float(c)"
   ]
  },
  {
   "cell_type": "code",
   "execution_count": 4,
   "metadata": {},
   "outputs": [],
   "source": [
    "h = c* sin(rad(45))"
   ]
  },
  {
   "cell_type": "code",
   "execution_count": 5,
   "metadata": {},
   "outputs": [
    {
     "data": {
      "image/png": "[encoded data removed]",
      "text/latex": [
       "$$18.0$$"
      ],
      "text/plain": [
       "18.0"
      ]
     },
     "execution_count": 5,
     "metadata": {},
     "output_type": "execute_result"
    }
   ],
   "source": [
    "float(a*h/2)"
   ]
  },
  {
   "cell_type": "code",
   "execution_count": 6,
   "metadata": {},
   "outputs": [
    {
     "data": {
      "image/png": "[encoded data removed]",
      "text/latex": [
       "$$\\mathrm{True}$$"
      ],
      "text/plain": [
       "True"
      ]
     },
     "execution_count": 6,
     "metadata": {},
     "output_type": "execute_result"
    }
   ],
   "source": [
    "Eq(c/sin(rad(105)),a/sin(rad(30)))"
   ]
  },
  {
   "cell_type": "code",
   "execution_count": 7,
   "metadata": {},
   "outputs": [
    {
     "data": {
      "image/png": "[encoded data removed]",
      "text/latex": [
       "$$\\mathrm{True}$$"
      ],
      "text/plain": [
       "True"
      ]
     },
     "execution_count": 7,
     "metadata": {},
     "output_type": "execute_result"
    }
   ],
   "source": [
    "Eq(36,a*c*sin(rad(45)))"
   ]
  },
  {
   "cell_type": "code",
   "execution_count": 8,
   "metadata": {},
   "outputs": [
    {
     "data": {
      "text/markdown": [
       "**Expresa en radianes los siguientes ángulos, dados en grados:**"
      ],
      "text/plain": [
       "<IPython.core.display.Markdown object>"
      ]
     },
     "metadata": {},
     "output_type": "display_data"
    },
    {
     "data": {
      "text/markdown": [
       "$45º \\to \\frac{\\pi}{4}$"
      ],
      "text/plain": [
       "<IPython.core.display.Markdown object>"
      ]
     },
     "metadata": {},
     "output_type": "display_data"
    },
    {
     "data": {
      "text/markdown": [
       "$75º \\to \\frac{5 \\pi}{12}$"
      ],
      "text/plain": [
       "<IPython.core.display.Markdown object>"
      ]
     },
     "metadata": {},
     "output_type": "display_data"
    },
    {
     "data": {
      "text/markdown": [
       "$105º \\to \\frac{7 \\pi}{12}$"
      ],
      "text/plain": [
       "<IPython.core.display.Markdown object>"
      ]
     },
     "metadata": {},
     "output_type": "display_data"
    },
    {
     "data": {
      "text/markdown": [
       "$230º \\to \\frac{23 \\pi}{18}$"
      ],
      "text/plain": [
       "<IPython.core.display.Markdown object>"
      ]
     },
     "metadata": {},
     "output_type": "display_data"
    }
   ],
   "source": [
    "# Página 39 ejercicio 1\n",
    "\n",
    "texto_ejercicio = r\"\"\"Expresa en radianes los siguientes ángulos, dados en grados:\"\"\"\n",
    "\n",
    "n_ejercicio = 'p039e01'\n",
    "\n",
    "display(md(\"**\"+texto_ejercicio+\"**\"))\n",
    "\n",
    "\n",
    "pre_enunciado_latex = [45, 75, 105, 230]\n",
    "\n",
    "enunciado_latex,enunciado, solucion = [],[],[]\n",
    "\n",
    "\n",
    "for i, s in enumerate(pre_enunciado_latex) : \n",
    "    enunciado_latex.append(str(s)+\"º\")\n",
    "    enunciado.append(s)\n",
    "    solucion.append(latex(rad(s)))\n",
    "    display(md(\"$\"+enunciado_latex[i]+\" \\\\to \"+solucion[i]+\"$\"))\n",
    "\n",
    "df_ejercicios = df_ejercicios.append(añadir_ejercicios(enunciado_latex, enunciado, solucion, texto_ejercicio, curso, titulo , n_ejercicio, '1', '3', enun_tex=False), ignore_index=True)\n"
   ]
  },
  {
   "cell_type": "code",
   "execution_count": 9,
   "metadata": {},
   "outputs": [
    {
     "data": {
      "text/markdown": [
       "**Expresa en grados los siguientes ángulos dados en radianes:**"
      ],
      "text/plain": [
       "<IPython.core.display.Markdown object>"
      ]
     },
     "metadata": {},
     "output_type": "display_data"
    },
    {
     "data": {
      "text/markdown": [
       "$\\frac{{3\\pi }}{4} \\to 135$"
      ],
      "text/plain": [
       "<IPython.core.display.Markdown object>"
      ]
     },
     "metadata": {},
     "output_type": "display_data"
    },
    {
     "data": {
      "text/markdown": [
       "$\\frac{{{5}\\pi }}{{3}} \\to 300$"
      ],
      "text/plain": [
       "<IPython.core.display.Markdown object>"
      ]
     },
     "metadata": {},
     "output_type": "display_data"
    },
    {
     "data": {
      "text/markdown": [
       "$\\frac{{{{3}}\\pi }}{{{2}}} \\to 270$"
      ],
      "text/plain": [
       "<IPython.core.display.Markdown object>"
      ]
     },
     "metadata": {},
     "output_type": "display_data"
    },
    {
     "data": {
      "text/markdown": [
       "$\\frac{{{{9}}\\pi }}{{{2}}} \\to 810$"
      ],
      "text/plain": [
       "<IPython.core.display.Markdown object>"
      ]
     },
     "metadata": {},
     "output_type": "display_data"
    },
    {
     "data": {
      "text/markdown": [
       "$\\frac{{{{4}}\\pi }}{{{3}}} \\to 240$"
      ],
      "text/plain": [
       "<IPython.core.display.Markdown object>"
      ]
     },
     "metadata": {},
     "output_type": "display_data"
    }
   ],
   "source": [
    "# Página 39 ejercicio 2\n",
    "\n",
    "texto_ejercicio = r\"\"\"Expresa en grados los siguientes ángulos dados en radianes:\"\"\"\n",
    "\n",
    "n_ejercicio = 'p039e02'\n",
    "\n",
    "display(md(\"**\"+texto_ejercicio+\"**\"))\n",
    "\n",
    "\n",
    "enunciado_latex = [r'\\frac{{3\\pi }}{4}',r'\\frac{{{5}\\pi }}{{3}}',\n",
    "                  r'\\frac{{{{3}}\\pi }}{{{2}}}',\n",
    "                  r'\\frac{{{{9}}\\pi }}{{{2}}}',\n",
    "                  r'\\frac{{{{4}}\\pi }}{{{3}}}']\n",
    "\n",
    "enunciado, solucion = [],[]\n",
    "\n",
    "\n",
    "for i, s in enumerate(enunciado_latex) : \n",
    "    enunciado.append(parse_latex(s))\n",
    "    solucion.append(latex(deg(eval(str(parse_latex(s))))))\n",
    "    display(md(\"$\"+enunciado_latex[i]+\" \\\\to \"+solucion[i]+\"$\"))\n",
    "\n",
    "df_ejercicios = df_ejercicios.append(añadir_ejercicios(enunciado_latex, enunciado, solucion, texto_ejercicio, curso, titulo , n_ejercicio, '1', '3', enun_tex=True), ignore_index=True)\n"
   ]
  },
  {
   "cell_type": "code",
   "execution_count": 10,
   "metadata": {
    "scrolled": true
   },
   "outputs": [
    {
     "data": {
      "text/markdown": [
       "**Demostrar si son verdaderas o falsas las siguientes ecuaciones:**"
      ],
      "text/plain": [
       "<IPython.core.display.Markdown object>"
      ]
     },
     "metadata": {},
     "output_type": "display_data"
    },
    {
     "data": {
      "text/markdown": [
       "$\\sec^2\\alpha+\\csc^2\\alpha={\\sec^2\\alpha}\\cdot{\\csc^2\\alpha} \\to \\left [ \\frac{8}{- \\cos{\\left (4 \\alpha \\right )} + 1}, \\quad \\frac{8}{- \\cos{\\left (4 \\alpha \\right )} + 1}\\right ] \\to \\mathrm{True}$"
      ],
      "text/plain": [
       "<IPython.core.display.Markdown object>"
      ]
     },
     "metadata": {},
     "output_type": "display_data"
    },
    {
     "data": {
      "text/markdown": [
       "$\\frac{\\tan\\alpha+\\tan\\beta}{\\cot\\alpha+\\cot\\beta}={\\tan\\alpha} \\cdot {\\tan\\beta} \\to \\left [ \\tan{\\left (\\alpha \\right )} \\tan{\\left (\\beta \\right )}, \\quad \\tan{\\left (\\alpha \\right )} \\tan{\\left (\\beta \\right )}\\right ] \\to \\mathrm{True}$"
      ],
      "text/plain": [
       "<IPython.core.display.Markdown object>"
      ]
     },
     "metadata": {},
     "output_type": "display_data"
    },
    {
     "data": {
      "text/markdown": [
       "$\\frac{{\\sin\\alpha}\\cdot{\\cos\\alpha}}{{\\cos^2\\alpha}-{\\sin^2\\alpha}}=\\frac{\\tan\\alpha}{1-{\\tan^2\\alpha}} \\to \\left [ \\frac{\\tan{\\left (2 \\alpha \\right )}}{2}, \\quad \\frac{\\tan{\\left (2 \\alpha \\right )}}{2}\\right ] \\to \\mathrm{True}$"
      ],
      "text/plain": [
       "<IPython.core.display.Markdown object>"
      ]
     },
     "metadata": {},
     "output_type": "display_data"
    },
    {
     "data": {
      "text/markdown": [
       "$\\cot\\alpha-\\frac{{\\cot^2\\alpha}-1}{\\cot\\alpha}=\\tan\\alpha \\to \\left [ \\tan{\\left (\\alpha \\right )}, \\quad \\tan{\\left (\\alpha \\right )}\\right ] \\to \\mathrm{True}$"
      ],
      "text/plain": [
       "<IPython.core.display.Markdown object>"
      ]
     },
     "metadata": {},
     "output_type": "display_data"
    },
    {
     "data": {
      "text/markdown": [
       "$\\frac{\\sin\\alpha+ \\cot \\alpha}{\\tan\\alpha+ \\csc \\alpha}=\\cos\\alpha \\to \\left [ \\cos{\\left (\\alpha \\right )}, \\quad \\cos{\\left (\\alpha \\right )}\\right ] \\to \\mathrm{True}$"
      ],
      "text/plain": [
       "<IPython.core.display.Markdown object>"
      ]
     },
     "metadata": {},
     "output_type": "display_data"
    },
    {
     "data": {
      "text/markdown": [
       "$\\cot^2\\alpha-\\cos^2\\alpha={\\cot^2\\alpha}\\cdot{\\cos^2\\alpha} \\to \\left [ - \\cos^{2}{\\left (\\alpha \\right )} + \\cot^{2}{\\left (\\alpha \\right )}, \\quad \\cos^{2}{\\left (\\alpha \\right )} \\cot^{2}{\\left (\\alpha \\right )}\\right ] \\to \\mathrm{True}$"
      ],
      "text/plain": [
       "<IPython.core.display.Markdown object>"
      ]
     },
     "metadata": {},
     "output_type": "display_data"
    },
    {
     "data": {
      "text/markdown": [
       "$\\sin\\alpha\\cos\\alpha\\tan\\alpha\\cot\\alpha\\sec\\alpha\\csc\\alpha=1 \\to \\left [ 1, \\quad 1\\right ] \\to \\mathrm{True}$"
      ],
      "text/plain": [
       "<IPython.core.display.Markdown object>"
      ]
     },
     "metadata": {},
     "output_type": "display_data"
    },
    {
     "data": {
      "text/markdown": [
       "$\\frac{1+\\tan\\alpha}{1-\\tan\\alpha}=\\frac{\\cos\\alpha+\\sin\\alpha}{\\cos\\alpha-\\sin\\alpha} \\to \\left [ \\frac{\\tan{\\left (\\alpha \\right )} + 1}{- \\tan{\\left (\\alpha \\right )} + 1}, \\quad \\tan{\\left (\\alpha + \\frac{\\pi}{4} \\right )}\\right ] \\to \\mathrm{True}$"
      ],
      "text/plain": [
       "<IPython.core.display.Markdown object>"
      ]
     },
     "metadata": {},
     "output_type": "display_data"
    },
    {
     "data": {
      "text/markdown": [
       "$\\frac{1+\\tan^2\\alpha}{\\cot\\alpha}=\\frac{\\tan\\alpha}{\\cos^2\\alpha} \\to \\left [ \\frac{\\tan{\\left (\\alpha \\right )}}{\\cos^{2}{\\left (\\alpha \\right )}}, \\quad \\frac{\\tan{\\left (\\alpha \\right )}}{\\cos^{2}{\\left (\\alpha \\right )}}\\right ] \\to \\mathrm{True}$"
      ],
      "text/plain": [
       "<IPython.core.display.Markdown object>"
      ]
     },
     "metadata": {},
     "output_type": "display_data"
    }
   ],
   "source": [
    "# Página 39 ejercicio 5 y 6\n",
    "\n",
    "texto_ejercicio = r\"\"\"Demostrar si son verdaderas o falsas las siguientes ecuaciones:\"\"\"\n",
    "\n",
    "n_ejercicio = 'p039e05y6'\n",
    "\n",
    "display(md(\"**\"+texto_ejercicio+\"**\"))\n",
    "\n",
    "\n",
    "enunciado_latex = [r'\\sec^2\\alpha+\\csc^2\\alpha={\\sec^2\\alpha}\\cdot{\\csc^2\\alpha}',\n",
    "    r'\\frac{\\tan\\alpha+\\tan\\beta}{\\cot\\alpha+\\cot\\beta}={\\tan\\alpha} \\cdot {\\tan\\beta}',\n",
    "    r'\\frac{{\\sin\\alpha}\\cdot{\\cos\\alpha}}{{\\cos^2\\alpha}-{\\sin^2\\alpha}}=\\frac{\\tan\\alpha}{1-{\\tan^2\\alpha}}',\n",
    "    r'\\cot\\alpha-\\frac{{\\cot^2\\alpha}-1}{\\cot\\alpha}=\\tan\\alpha',\n",
    "    r'\\frac{\\sin\\alpha+ \\cot \\alpha}{\\tan\\alpha+ \\csc \\alpha}=\\cos\\alpha',\n",
    "    r'\\cot^2\\alpha-\\cos^2\\alpha={\\cot^2\\alpha}\\cdot{\\cos^2\\alpha}',\n",
    "    r'\\sin\\alpha\\cos\\alpha\\tan\\alpha\\cot\\alpha\\sec\\alpha\\csc\\alpha=1',\n",
    "    r'\\frac{1+\\tan\\alpha}{1-\\tan\\alpha}=\\frac{\\cos\\alpha+\\sin\\alpha}{\\cos\\alpha-\\sin\\alpha}',\n",
    "    r'\\frac{1+\\tan^2\\alpha}{\\cot\\alpha}=\\frac{\\tan\\alpha}{\\cos^2\\alpha}'\n",
    "    \n",
    "                  ]\n",
    "\n",
    "enunciado, solucion = [],[]\n",
    "\n",
    "\n",
    "for i, s in enumerate(enunciado_latex) : \n",
    "    enunciado.append(parse_latex(s))\n",
    "    exp = []\n",
    "    exp.append(trigsimp(enunciado[i].args[0]))\n",
    "    exp.append(trigsimp(enunciado[i].args[1]))\n",
    "    solucion.append(latex(exp)+ r' \\to ' +latex(not(bool(trigsimp(enunciado[i].args[0]-enunciado[i].args[1])))))\n",
    "    display(md(\"$\"+enunciado_latex[i]+\" \\\\to \"+solucion[i]+\"$\"))\n",
    "\n",
    "df_ejercicios = df_ejercicios.append(añadir_ejercicios(enunciado_latex, enunciado, solucion, texto_ejercicio, curso, titulo , n_ejercicio, '1', '1', enun_tex=True), ignore_index=True)\n"
   ]
  },
  {
   "cell_type": "code",
   "execution_count": 11,
   "metadata": {
    "scrolled": true
   },
   "outputs": [
    {
     "data": {
      "text/markdown": [
       "**Simplificar las siguientes expresiones:**"
      ],
      "text/plain": [
       "<IPython.core.display.Markdown object>"
      ]
     },
     "metadata": {},
     "output_type": "display_data"
    },
    {
     "data": {
      "text/markdown": [
       "${\\sin\\alpha}\\cdot{\\frac{1}{\\tan\\alpha}} \\to \\cos{\\left (\\alpha \\right )}$"
      ],
      "text/plain": [
       "<IPython.core.display.Markdown object>"
      ]
     },
     "metadata": {},
     "output_type": "display_data"
    },
    {
     "data": {
      "text/markdown": [
       "$\\sin^3\\alpha+{\\sin\\alpha}\\cdot{\\cos^2\\alpha} \\to \\sin{\\left (\\alpha \\right )}$"
      ],
      "text/plain": [
       "<IPython.core.display.Markdown object>"
      ]
     },
     "metadata": {},
     "output_type": "display_data"
    },
    {
     "data": {
      "text/markdown": [
       "$\\sqrt{(1-\\sin\\alpha)\\cdot(1+\\sin\\alpha)} \\to \\sqrt{\\cos^{2}{\\left (\\alpha \\right )}}$"
      ],
      "text/plain": [
       "<IPython.core.display.Markdown object>"
      ]
     },
     "metadata": {},
     "output_type": "display_data"
    },
    {
     "data": {
      "text/markdown": [
       "$\\sin^4\\alpha-\\cos^4\\alpha \\to - \\cos{\\left (2 \\alpha \\right )}$"
      ],
      "text/plain": [
       "<IPython.core.display.Markdown object>"
      ]
     },
     "metadata": {},
     "output_type": "display_data"
    },
    {
     "data": {
      "text/markdown": [
       "$\\cos^3\\alpha+{\\cos^2\\alpha}\\cdot{\\sin\\alpha}+{\\cos\\alpha}\\cdot{\\sin^2\\alpha}+{\\sin^3\\alpha} \\to \\sqrt{2} \\sin{\\left (\\alpha + \\frac{\\pi}{4} \\right )}$"
      ],
      "text/plain": [
       "<IPython.core.display.Markdown object>"
      ]
     },
     "metadata": {},
     "output_type": "display_data"
    },
    {
     "data": {
      "text/markdown": [
       "${\\sin\\alpha}\\cdot{\\cos\\alpha}\\cdot(\\tan\\alpha+\\frac{1}{\\tan\\alpha}) \\to 1$"
      ],
      "text/plain": [
       "<IPython.core.display.Markdown object>"
      ]
     },
     "metadata": {},
     "output_type": "display_data"
    },
    {
     "data": {
      "text/markdown": [
       "$\\frac{\\cos^2\\alpha-\\sin^2\\alpha}{\\cos^4\\alpha-\\sin^4\\alpha} \\to 1$"
      ],
      "text/plain": [
       "<IPython.core.display.Markdown object>"
      ]
     },
     "metadata": {},
     "output_type": "display_data"
    },
    {
     "data": {
      "text/markdown": [
       "$\\frac{\\sec^2\\alpha+\\cos^2\\alpha}{\\sec^2\\alpha-\\cos^2\\alpha} \\to \\frac{\\left(- \\cos^{2}{\\left (\\alpha \\right )} + 1\\right)^{2} + 2 \\cos^{2}{\\left (\\alpha \\right )}}{- \\cos^{4}{\\left (\\alpha \\right )} + 1}$"
      ],
      "text/plain": [
       "<IPython.core.display.Markdown object>"
      ]
     },
     "metadata": {},
     "output_type": "display_data"
    },
    {
     "data": {
      "text/markdown": [
       "$\\frac{\\cos^2\\alpha}{1-\\sin\\alpha} \\to \\sin{\\left (\\alpha \\right )} + 1$"
      ],
      "text/plain": [
       "<IPython.core.display.Markdown object>"
      ]
     },
     "metadata": {},
     "output_type": "display_data"
    },
    {
     "data": {
      "text/markdown": [
       "$\\frac{\\csc\\alpha}{1+\\cot^2\\alpha} \\to \\sin{\\left (\\alpha \\right )}$"
      ],
      "text/plain": [
       "<IPython.core.display.Markdown object>"
      ]
     },
     "metadata": {},
     "output_type": "display_data"
    }
   ],
   "source": [
    "# Página 39 ejercicio 7\n",
    "\n",
    "texto_ejercicio = r\"\"\"Simplificar las siguientes expresiones:\"\"\"\n",
    "\n",
    "n_ejercicio = 'p039e07'\n",
    "\n",
    "display(md(\"**\"+texto_ejercicio+\"**\"))\n",
    "\n",
    "\n",
    "enunciado_latex = [r'{\\sin\\alpha}\\cdot{\\frac{1}{\\tan\\alpha}}',\n",
    "                   r'\\sin^3\\alpha+{\\sin\\alpha}\\cdot{\\cos^2\\alpha}',\n",
    "                   r'\\sqrt{(1-\\sin\\alpha)\\cdot(1+\\sin\\alpha)}',\n",
    "                   r'\\sin^4\\alpha-\\cos^4\\alpha',\n",
    "        r'\\cos^3\\alpha+{\\cos^2\\alpha}\\cdot{\\sin\\alpha}+{\\cos\\alpha}\\cdot{\\sin^2\\alpha}+{\\sin^3\\alpha}',\n",
    "        r'{\\sin\\alpha}\\cdot{\\cos\\alpha}\\cdot(\\tan\\alpha+\\frac{1}{\\tan\\alpha})',\n",
    "        r'\\frac{\\cos^2\\alpha-\\sin^2\\alpha}{\\cos^4\\alpha-\\sin^4\\alpha}',\n",
    "        r'\\frac{\\sec^2\\alpha+\\cos^2\\alpha}{\\sec^2\\alpha-\\cos^2\\alpha}',\n",
    "        r'\\frac{\\cos^2\\alpha}{1-\\sin\\alpha}',\n",
    "        r'\\frac{\\csc\\alpha}{1+\\cot^2\\alpha}'\n",
    "                   \n",
    "                   \n",
    "    \n",
    "                  ]\n",
    "\n",
    "enunciado, solucion = [],[]\n",
    "\n",
    "\n",
    "for i, s in enumerate(enunciado_latex) : \n",
    "    enunciado.append(parse_latex(s))\n",
    "    solucion.append(latex(radsimp(trigsimp(eval(str(enunciado[i]))))))\n",
    "    display(md(\"$\"+enunciado_latex[i]+\" \\\\to \"+solucion[i]+\"$\"))\n",
    "\n",
    "df_ejercicios = df_ejercicios.append(añadir_ejercicios(enunciado_latex, enunciado, solucion, texto_ejercicio, curso, titulo , n_ejercicio, '1', '1', enun_tex=True), ignore_index=True)\n"
   ]
  },
  {
   "cell_type": "code",
   "execution_count": 12,
   "metadata": {
    "scrolled": true
   },
   "outputs": [
    {
     "data": {
      "text/markdown": [
       "**Calcular las restantes razones trigonométricas de $\\alpha$, conocida:**"
      ],
      "text/plain": [
       "<IPython.core.display.Markdown object>"
      ]
     },
     "metadata": {},
     "output_type": "display_data"
    },
    {
     "data": {
      "text/markdown": [
       "$\\cos\\alpha=\\frac{4}{5} \\land \\alpha \\in I \\to \\left [ 36.86989764584401, \\quad \\frac{3}{5}, \\quad \\frac{4}{5}, \\quad \\frac{3}{4}\\right ]$"
      ],
      "text/plain": [
       "<IPython.core.display.Markdown object>"
      ]
     },
     "metadata": {},
     "output_type": "display_data"
    },
    {
     "data": {
      "text/markdown": [
       "$\\sin\\alpha=\\frac{3}{5} \\land \\alpha \\in II \\to \\left [ 36.86989764584402, \\quad \\frac{3}{5}, \\quad - \\frac{4}{5}, \\quad - \\frac{3}{4}\\right ]$"
      ],
      "text/plain": [
       "<IPython.core.display.Markdown object>"
      ]
     },
     "metadata": {},
     "output_type": "display_data"
    },
    {
     "data": {
      "text/markdown": [
       "$\\tan\\alpha=-\\frac{3}{4} \\land \\alpha \\in II \\to \\left [ 36.86989764584402, \\quad \\frac{3}{5}, \\quad - \\frac{4}{5}, \\quad - \\frac{3}{4}\\right ]$"
      ],
      "text/plain": [
       "<IPython.core.display.Markdown object>"
      ]
     },
     "metadata": {},
     "output_type": "display_data"
    },
    {
     "data": {
      "text/markdown": [
       "$\\sec\\alpha=2 \\land \\alpha \\in IV \\to \\left [ 60.0, \\quad - \\frac{\\sqrt{3}}{2}, \\quad \\frac{1}{2}, \\quad - \\sqrt{3}\\right ]$"
      ],
      "text/plain": [
       "<IPython.core.display.Markdown object>"
      ]
     },
     "metadata": {},
     "output_type": "display_data"
    },
    {
     "data": {
      "text/markdown": [
       "$\\csc\\alpha=-2 \\land \\alpha \\in III \\to \\left [ 30.0, \\quad - \\frac{1}{2}, \\quad - \\frac{\\sqrt{3}}{2}, \\quad \\frac{\\sqrt{3}}{3}\\right ]$"
      ],
      "text/plain": [
       "<IPython.core.display.Markdown object>"
      ]
     },
     "metadata": {},
     "output_type": "display_data"
    },
    {
     "data": {
      "text/markdown": [
       "$\\cot\\alpha=-2 \\land \\alpha \\in IV \\to \\left [ 26.56505117707799, \\quad - \\frac{\\sqrt{5}}{5}, \\quad \\frac{2 \\sqrt{5}}{5}, \\quad - \\frac{1}{2}\\right ]$"
      ],
      "text/plain": [
       "<IPython.core.display.Markdown object>"
      ]
     },
     "metadata": {},
     "output_type": "display_data"
    }
   ],
   "source": [
    "# Página 39 ejercicio 8\n",
    "\n",
    "texto_ejercicio = r\"\"\"Calcular las restantes razones trigonométricas de $\\alpha$, conocida:\"\"\"\n",
    "\n",
    "n_ejercicio = 'p039e08'\n",
    "\n",
    "display(md(\"**\"+texto_ejercicio+\"**\"))\n",
    "\n",
    "\n",
    "pre_enunciado_latex = [\n",
    "    [r'\\cos\\alpha=\\frac{4}{5} \\land \\alpha \\in I', [float(deg(acos(4/5))), sin(acos((nsimplify(frac(4/5))))), cos(acos((nsimplify(frac(4/5))))), tan(acos((nsimplify(frac(4/5)))))]],             \n",
    "    [r'\\sin\\alpha=\\frac{3}{5} \\land \\alpha \\in II', [float(deg(asin(3/5))), sin(asin((nsimplify(frac(3/5))))), -cos(asin((nsimplify(frac(3/5))))), -tan(asin((nsimplify(frac(3/5)))))]],             \n",
    "    [r'\\tan\\alpha=-\\frac{3}{4} \\land \\alpha \\in II', [float(deg(atan(3/4))), sin(atan((nsimplify(frac(3/4))))), -cos(atan((nsimplify(frac(3/4))))), -tan(atan((nsimplify(frac(3/4)))))]],             \n",
    "    [r'\\sec\\alpha=2 \\land \\alpha \\in IV', [float(deg(asec(2))), -sin(asec((nsimplify(2)))), cos(asec((nsimplify(2)))), -tan(asec((nsimplify(2))))]],             \n",
    "    [r'\\csc\\alpha=-2 \\land \\alpha \\in III', [float(deg(acsc(2))), -sin(acsc((nsimplify(2)))), -cos(acsc((nsimplify(2)))), tan(acsc((nsimplify(2))))]],             \n",
    "    [r'\\cot\\alpha=-2 \\land \\alpha \\in IV', [float(deg(acot(2))), -sin(acot((nsimplify(2)))), cos(acot((nsimplify(2)))), -tan(acot((nsimplify(2))))]],             \n",
    "           \n",
    "    \n",
    "                  ]\n",
    "\n",
    "enunciado_latex, enunciado, solucion = [],[],[]\n",
    "\n",
    "\n",
    "for i, s in enumerate(pre_enunciado_latex) : \n",
    "    enunciado_latex.append(s[0])\n",
    "    enunciado.append([str(t) for t in s[1]])\n",
    "    solucion.append(latex([t for t in s[1]]))\n",
    "    display(md(\"$\"+enunciado_latex[i]+\" \\\\to \"+str(solucion[i])+\"$\"))\n",
    "\n",
    "df_ejercicios = df_ejercicios.append(añadir_ejercicios(enunciado_latex, enunciado, solucion, texto_ejercicio, curso, titulo , n_ejercicio, '1', '1', enun_tex=True), ignore_index=True)\n"
   ]
  },
  {
   "cell_type": "code",
   "execution_count": 13,
   "metadata": {
    "scrolled": true
   },
   "outputs": [
    {
     "data": {
      "text/markdown": [
       "**Expresa las siguientes razones trigonométricas en función de ángulos del primer cuadrante:**"
      ],
      "text/plain": [
       "<IPython.core.display.Markdown object>"
      ]
     },
     "metadata": {},
     "output_type": "display_data"
    },
    {
     "data": {
      "text/markdown": [
       "$\\sin(-120) \\to \\left [ 60, \\quad - \\frac{\\sqrt{3}}{2}\\right ]$"
      ],
      "text/plain": [
       "<IPython.core.display.Markdown object>"
      ]
     },
     "metadata": {},
     "output_type": "display_data"
    },
    {
     "data": {
      "text/markdown": [
       "$\\sin(2700) \\to \\left [ 0, \\quad 0\\right ]$"
      ],
      "text/plain": [
       "<IPython.core.display.Markdown object>"
      ]
     },
     "metadata": {},
     "output_type": "display_data"
    },
    {
     "data": {
      "text/markdown": [
       "$\\cos(-30) \\to \\left [ 30, \\quad \\frac{\\sqrt{3}}{2}\\right ]$"
      ],
      "text/plain": [
       "<IPython.core.display.Markdown object>"
      ]
     },
     "metadata": {},
     "output_type": "display_data"
    },
    {
     "data": {
      "text/markdown": [
       "$\\cos(3000) \\to \\left [ 60, \\quad - \\frac{1}{2}\\right ]$"
      ],
      "text/plain": [
       "<IPython.core.display.Markdown object>"
      ]
     },
     "metadata": {},
     "output_type": "display_data"
    },
    {
     "data": {
      "text/markdown": [
       "$\\tan(-275) \\to \\left [ \\frac{180 \\operatorname{atan}{\\left (\\frac{\\cos{\\left (\\frac{\\pi}{18} \\right )} + 1}{\\cos{\\left (\\frac{4 \\pi}{9} \\right )}} \\right )}}{\\pi}, \\quad \\frac{\\cos{\\left (\\frac{\\pi}{18} \\right )} + 1}{\\cos{\\left (\\frac{4 \\pi}{9} \\right )}}\\right ]$"
      ],
      "text/plain": [
       "<IPython.core.display.Markdown object>"
      ]
     },
     "metadata": {},
     "output_type": "display_data"
    },
    {
     "data": {
      "text/markdown": [
       "$\\tan(10330) \\to \\left [ 70, \\quad \\tan{\\left (\\frac{7 \\pi}{18} \\right )}\\right ]$"
      ],
      "text/plain": [
       "<IPython.core.display.Markdown object>"
      ]
     },
     "metadata": {},
     "output_type": "display_data"
    },
    {
     "data": {
      "text/markdown": [
       "$\\cot(-150) \\to \\left [ 30, \\quad \\sqrt{3}\\right ]$"
      ],
      "text/plain": [
       "<IPython.core.display.Markdown object>"
      ]
     },
     "metadata": {},
     "output_type": "display_data"
    },
    {
     "data": {
      "text/markdown": [
       "$\\cot(4500) \\to \\left [ 0, \\quad \\tilde{\\infty}\\right ]$"
      ],
      "text/plain": [
       "<IPython.core.display.Markdown object>"
      ]
     },
     "metadata": {},
     "output_type": "display_data"
    },
    {
     "data": {
      "text/markdown": [
       "$\\sec(-25) \\to \\left [ 25, \\quad \\sec{\\left (\\frac{5 \\pi}{36} \\right )}\\right ]$"
      ],
      "text/plain": [
       "<IPython.core.display.Markdown object>"
      ]
     },
     "metadata": {},
     "output_type": "display_data"
    },
    {
     "data": {
      "text/markdown": [
       "$\\sec(745) \\to \\left [ 25, \\quad \\sec{\\left (\\frac{149 \\pi}{36} \\right )}\\right ]$"
      ],
      "text/plain": [
       "<IPython.core.display.Markdown object>"
      ]
     },
     "metadata": {},
     "output_type": "display_data"
    },
    {
     "data": {
      "text/markdown": [
       "$\\csc(-155) \\to \\left [ 25, \\quad - \\csc{\\left (\\frac{5 \\pi}{36} \\right )}\\right ]$"
      ],
      "text/plain": [
       "<IPython.core.display.Markdown object>"
      ]
     },
     "metadata": {},
     "output_type": "display_data"
    },
    {
     "data": {
      "text/markdown": [
       "$\\csc(4420) \\to \\left [ 80, \\quad \\csc{\\left (\\frac{4 \\pi}{9} \\right )}\\right ]$"
      ],
      "text/plain": [
       "<IPython.core.display.Markdown object>"
      ]
     },
     "metadata": {},
     "output_type": "display_data"
    }
   ],
   "source": [
    "# Página 39 ejercicio 9\n",
    "\n",
    "texto_ejercicio = r\"\"\"Expresa las siguientes razones trigonométricas en función de ángulos del primer cuadrante:\"\"\"\n",
    "\n",
    "n_ejercicio = 'p039e09'\n",
    "\n",
    "display(md(\"**\"+texto_ejercicio+\"**\"))\n",
    "\n",
    "\n",
    "enunciado_latex = [r'\\sin(-120)',r'\\sin(2700)',r'\\cos(-30)', r'\\cos(3000)',\n",
    "                   r'\\tan(-275)',r'\\tan(10330)',r'\\cot(-150)', r'\\cot(4500)',\n",
    "                   r'\\sec(-25)',r'\\sec(745)',r'\\csc(-155)', r'\\csc(4420)'\n",
    "    \n",
    "                  ]\n",
    "\n",
    "enunciado, solucion = [],[]\n",
    "\n",
    "\n",
    "for i, s in enumerate(enunciado_latex) : \n",
    "    enunciado.append(str(parse_latex(s)).replace('(','(rad(').replace(')','))'))\n",
    "    #solucion.append(latex(eval(str(parse_latex(s)).replace('(','(rad(').replace(')','))'))))\n",
    "    #solucion.append(latex(eval((\"a\"+str(parse_latex(s))[:str(parse_latex(s)).find('(')]+\"(\"+str(parse_latex(s)).replace('(','(rad(').replace(')','))')+\")\"))))\n",
    "    solucion.append(latex([deg(eval((\"a\"+str(parse_latex(s))[:str(parse_latex(s)).find('(')]+\"(abs(\"+str(parse_latex(s)).replace('(','(rad(').replace(')','))')+\"))\"))),eval(str(parse_latex(s)).replace('(','(rad(').replace(')','))'))]))\n",
    "    display(md(\"$\"+enunciado_latex[i]+\" \\\\to \"+solucion[i]+\"$\"))\n",
    "\n",
    "df_ejercicios = df_ejercicios.append(añadir_ejercicios(enunciado_latex, enunciado, solucion, texto_ejercicio, curso, titulo , n_ejercicio, '1', '2', enun_tex=True), ignore_index=True)\n"
   ]
  },
  {
   "cell_type": "code",
   "execution_count": 14,
   "metadata": {
    "scrolled": true
   },
   "outputs": [
    {
     "data": {
      "text/markdown": [
       "**Si sen 37º = 0,6. Calcula, sin usar la calculadora, las razones trigonométricas de los siguientes ángulos dados en grados:**"
      ],
      "text/plain": [
       "<IPython.core.display.Markdown object>"
      ]
     },
     "metadata": {},
     "output_type": "display_data"
    },
    {
     "data": {
      "text/markdown": [
       "$53 \\to \\left [ 0.8, \\quad 0.6, \\quad 1.33\\right ]$"
      ],
      "text/plain": [
       "<IPython.core.display.Markdown object>"
      ]
     },
     "metadata": {},
     "output_type": "display_data"
    },
    {
     "data": {
      "text/markdown": [
       "$127 \\to \\left [ 0.8, \\quad -0.6, \\quad -1.33\\right ]$"
      ],
      "text/plain": [
       "<IPython.core.display.Markdown object>"
      ]
     },
     "metadata": {},
     "output_type": "display_data"
    },
    {
     "data": {
      "text/markdown": [
       "$143 \\to \\left [ 0.6, \\quad -0.8, \\quad -0.75\\right ]$"
      ],
      "text/plain": [
       "<IPython.core.display.Markdown object>"
      ]
     },
     "metadata": {},
     "output_type": "display_data"
    }
   ],
   "source": [
    "# Página 39 ejercicio 10\n",
    "\n",
    "texto_ejercicio = r\"\"\"Si sen 37º = 0,6. Calcula, sin usar la calculadora, las razones trigonométricas de los siguientes ángulos dados en grados:\"\"\"\n",
    "\n",
    "n_ejercicio = 'p039e10'\n",
    "\n",
    "display(md(\"**\"+texto_ejercicio+\"**\"))\n",
    "\n",
    "\n",
    "enunciado_latex = [r'53', r'127', r'143'\n",
    "    \n",
    "                  ]\n",
    "\n",
    "enunciado, solucion = [],[]\n",
    "\n",
    "\n",
    "for i, s in enumerate(enunciado_latex) : \n",
    "    enunciado.append(S(s))\n",
    "    solucion.append(latex([round(float(sin(rad(parse_latex(s)))),2),round(float(cos(rad(parse_latex(s)))),2),round(float(tan(rad(parse_latex(s)))),2)]))\n",
    "    display(md(\"$\"+enunciado_latex[i]+\" \\\\to \"+solucion[i]+\"$\"))\n",
    "\n",
    "df_ejercicios = df_ejercicios.append(añadir_ejercicios(enunciado_latex, enunciado, solucion, texto_ejercicio, curso, titulo , n_ejercicio, '1', '2', enun_tex=True), ignore_index=True)\n"
   ]
  },
  {
   "cell_type": "code",
   "execution_count": 15,
   "metadata": {},
   "outputs": [],
   "source": [
    "df_ejercicios.to_csv('ejercicios23.csv', index = False)"
   ]
  },
  {
   "cell_type": "code",
   "execution_count": 16,
   "metadata": {},
   "outputs": [],
   "source": [
    "df_ejercicios = pd.read_csv('ejercicios23.csv', index_col= None)"
   ]
  },
  {
   "cell_type": "code",
   "execution_count": 17,
   "metadata": {},
   "outputs": [
    {
     "data": {
      "text/html": [
       "<div>\n",
       "<style scoped>\n",
       "    .dataframe tbody tr th:only-of-type {\n",
       "        vertical-align: middle;\n",
       "    }\n",
       "\n",
       "    .dataframe tbody tr th {\n",
       "        vertical-align: top;\n",
       "    }\n",
       "\n",
       "    .dataframe thead th {\n",
       "        text-align: right;\n",
       "    }\n",
       "</style>\n",
       "<table border=\"1\" class=\"dataframe\">\n",
       "  <thead>\n",
       "    <tr style=\"text-align: right;\">\n",
       "      <th></th>\n",
       "      <th>enunciado_latex</th>\n",
       "      <th>enunciado</th>\n",
       "      <th>solucion</th>\n",
       "      <th>texto</th>\n",
       "      <th>curso</th>\n",
       "      <th>titulo</th>\n",
       "      <th>n_ejercicio</th>\n",
       "      <th>dificultad</th>\n",
       "      <th>n_columnas</th>\n",
       "      <th>puntos</th>\n",
       "      <th>enun_tex</th>\n",
       "      <th>sol_tex</th>\n",
       "    </tr>\n",
       "  </thead>\n",
       "  <tbody>\n",
       "    <tr>\n",
       "      <th>0</th>\n",
       "      <td>45º</td>\n",
       "      <td>45</td>\n",
       "      <td>\\frac{\\pi}{4}</td>\n",
       "      <td>Expresa en radianes los siguientes ángulos, da...</td>\n",
       "      <td>1BC</td>\n",
       "      <td>23 - Trigonometría</td>\n",
       "      <td>p039e01</td>\n",
       "      <td>1</td>\n",
       "      <td>3</td>\n",
       "      <td>1</td>\n",
       "      <td>False</td>\n",
       "      <td>True</td>\n",
       "    </tr>\n",
       "    <tr>\n",
       "      <th>1</th>\n",
       "      <td>75º</td>\n",
       "      <td>75</td>\n",
       "      <td>\\frac{5 \\pi}{12}</td>\n",
       "      <td>Expresa en radianes los siguientes ángulos, da...</td>\n",
       "      <td>1BC</td>\n",
       "      <td>23 - Trigonometría</td>\n",
       "      <td>p039e01</td>\n",
       "      <td>1</td>\n",
       "      <td>3</td>\n",
       "      <td>1</td>\n",
       "      <td>False</td>\n",
       "      <td>True</td>\n",
       "    </tr>\n",
       "    <tr>\n",
       "      <th>2</th>\n",
       "      <td>105º</td>\n",
       "      <td>105</td>\n",
       "      <td>\\frac{7 \\pi}{12}</td>\n",
       "      <td>Expresa en radianes los siguientes ángulos, da...</td>\n",
       "      <td>1BC</td>\n",
       "      <td>23 - Trigonometría</td>\n",
       "      <td>p039e01</td>\n",
       "      <td>1</td>\n",
       "      <td>3</td>\n",
       "      <td>1</td>\n",
       "      <td>False</td>\n",
       "      <td>True</td>\n",
       "    </tr>\n",
       "    <tr>\n",
       "      <th>3</th>\n",
       "      <td>230º</td>\n",
       "      <td>230</td>\n",
       "      <td>\\frac{23 \\pi}{18}</td>\n",
       "      <td>Expresa en radianes los siguientes ángulos, da...</td>\n",
       "      <td>1BC</td>\n",
       "      <td>23 - Trigonometría</td>\n",
       "      <td>p039e01</td>\n",
       "      <td>1</td>\n",
       "      <td>3</td>\n",
       "      <td>1</td>\n",
       "      <td>False</td>\n",
       "      <td>True</td>\n",
       "    </tr>\n",
       "    <tr>\n",
       "      <th>4</th>\n",
       "      <td>\\frac{{3\\pi }}{4}</td>\n",
       "      <td>(3*pi)/4</td>\n",
       "      <td>135</td>\n",
       "      <td>Expresa en grados los siguientes ángulos dados...</td>\n",
       "      <td>1BC</td>\n",
       "      <td>23 - Trigonometría</td>\n",
       "      <td>p039e02</td>\n",
       "      <td>1</td>\n",
       "      <td>3</td>\n",
       "      <td>1</td>\n",
       "      <td>True</td>\n",
       "      <td>True</td>\n",
       "    </tr>\n",
       "    <tr>\n",
       "      <th>5</th>\n",
       "      <td>\\frac{{{5}\\pi }}{{3}}</td>\n",
       "      <td>(5*pi)/3</td>\n",
       "      <td>300</td>\n",
       "      <td>Expresa en grados los siguientes ángulos dados...</td>\n",
       "      <td>1BC</td>\n",
       "      <td>23 - Trigonometría</td>\n",
       "      <td>p039e02</td>\n",
       "      <td>1</td>\n",
       "      <td>3</td>\n",
       "      <td>1</td>\n",
       "      <td>True</td>\n",
       "      <td>True</td>\n",
       "    </tr>\n",
       "    <tr>\n",
       "      <th>6</th>\n",
       "      <td>\\frac{{{{3}}\\pi }}{{{2}}}</td>\n",
       "      <td>(3*pi)/2</td>\n",
       "      <td>270</td>\n",
       "      <td>Expresa en grados los siguientes ángulos dados...</td>\n",
       "      <td>1BC</td>\n",
       "      <td>23 - Trigonometría</td>\n",
       "      <td>p039e02</td>\n",
       "      <td>1</td>\n",
       "      <td>3</td>\n",
       "      <td>1</td>\n",
       "      <td>True</td>\n",
       "      <td>True</td>\n",
       "    </tr>\n",
       "    <tr>\n",
       "      <th>7</th>\n",
       "      <td>\\frac{{{{9}}\\pi }}{{{2}}}</td>\n",
       "      <td>(9*pi)/2</td>\n",
       "      <td>810</td>\n",
       "      <td>Expresa en grados los siguientes ángulos dados...</td>\n",
       "      <td>1BC</td>\n",
       "      <td>23 - Trigonometría</td>\n",
       "      <td>p039e02</td>\n",
       "      <td>1</td>\n",
       "      <td>3</td>\n",
       "      <td>1</td>\n",
       "      <td>True</td>\n",
       "      <td>True</td>\n",
       "    </tr>\n",
       "    <tr>\n",
       "      <th>8</th>\n",
       "      <td>\\frac{{{{4}}\\pi }}{{{3}}}</td>\n",
       "      <td>(4*pi)/3</td>\n",
       "      <td>240</td>\n",
       "      <td>Expresa en grados los siguientes ángulos dados...</td>\n",
       "      <td>1BC</td>\n",
       "      <td>23 - Trigonometría</td>\n",
       "      <td>p039e02</td>\n",
       "      <td>1</td>\n",
       "      <td>3</td>\n",
       "      <td>1</td>\n",
       "      <td>True</td>\n",
       "      <td>True</td>\n",
       "    </tr>\n",
       "    <tr>\n",
       "      <th>9</th>\n",
       "      <td>\\sec^2\\alpha+\\csc^2\\alpha={\\sec^2\\alpha}\\cdot{...</td>\n",
       "      <td>Eq(csc(alpha)**2 + sec(alpha)**2, csc(alpha)**...</td>\n",
       "      <td>\\left [ \\frac{8}{- \\cos{\\left (4 \\alpha \\right...</td>\n",
       "      <td>Demostrar si son verdaderas o falsas las sigui...</td>\n",
       "      <td>1BC</td>\n",
       "      <td>23 - Trigonometría</td>\n",
       "      <td>p039e05y6</td>\n",
       "      <td>1</td>\n",
       "      <td>1</td>\n",
       "      <td>1</td>\n",
       "      <td>True</td>\n",
       "      <td>True</td>\n",
       "    </tr>\n",
       "    <tr>\n",
       "      <th>10</th>\n",
       "      <td>\\frac{\\tan\\alpha+\\tan\\beta}{\\cot\\alpha+\\cot\\be...</td>\n",
       "      <td>Eq((tan(alpha) + tan(beta))/(cot(alpha) + cot(...</td>\n",
       "      <td>\\left [ \\tan{\\left (\\alpha \\right )} \\tan{\\lef...</td>\n",
       "      <td>Demostrar si son verdaderas o falsas las sigui...</td>\n",
       "      <td>1BC</td>\n",
       "      <td>23 - Trigonometría</td>\n",
       "      <td>p039e05y6</td>\n",
       "      <td>1</td>\n",
       "      <td>1</td>\n",
       "      <td>1</td>\n",
       "      <td>True</td>\n",
       "      <td>True</td>\n",
       "    </tr>\n",
       "    <tr>\n",
       "      <th>11</th>\n",
       "      <td>\\frac{{\\sin\\alpha}\\cdot{\\cos\\alpha}}{{\\cos^2\\a...</td>\n",
       "      <td>Eq((sin(alpha)*cos(alpha))/(-sin(alpha)**2 + c...</td>\n",
       "      <td>\\left [ \\frac{\\tan{\\left (2 \\alpha \\right )}}{...</td>\n",
       "      <td>Demostrar si son verdaderas o falsas las sigui...</td>\n",
       "      <td>1BC</td>\n",
       "      <td>23 - Trigonometría</td>\n",
       "      <td>p039e05y6</td>\n",
       "      <td>1</td>\n",
       "      <td>1</td>\n",
       "      <td>1</td>\n",
       "      <td>True</td>\n",
       "      <td>True</td>\n",
       "    </tr>\n",
       "    <tr>\n",
       "      <th>12</th>\n",
       "      <td>\\cot\\alpha-\\frac{{\\cot^2\\alpha}-1}{\\cot\\alpha}...</td>\n",
       "      <td>Eq(-(cot(alpha)**2 - 1)/cot(alpha) + cot(alpha...</td>\n",
       "      <td>\\left [ \\tan{\\left (\\alpha \\right )}, \\quad \\t...</td>\n",
       "      <td>Demostrar si son verdaderas o falsas las sigui...</td>\n",
       "      <td>1BC</td>\n",
       "      <td>23 - Trigonometría</td>\n",
       "      <td>p039e05y6</td>\n",
       "      <td>1</td>\n",
       "      <td>1</td>\n",
       "      <td>1</td>\n",
       "      <td>True</td>\n",
       "      <td>True</td>\n",
       "    </tr>\n",
       "    <tr>\n",
       "      <th>13</th>\n",
       "      <td>\\frac{\\sin\\alpha+ \\cot \\alpha}{\\tan\\alpha+ \\cs...</td>\n",
       "      <td>Eq((sin(alpha) + cot(alpha))/(tan(alpha) + csc...</td>\n",
       "      <td>\\left [ \\cos{\\left (\\alpha \\right )}, \\quad \\c...</td>\n",
       "      <td>Demostrar si son verdaderas o falsas las sigui...</td>\n",
       "      <td>1BC</td>\n",
       "      <td>23 - Trigonometría</td>\n",
       "      <td>p039e05y6</td>\n",
       "      <td>1</td>\n",
       "      <td>1</td>\n",
       "      <td>1</td>\n",
       "      <td>True</td>\n",
       "      <td>True</td>\n",
       "    </tr>\n",
       "    <tr>\n",
       "      <th>14</th>\n",
       "      <td>\\cot^2\\alpha-\\cos^2\\alpha={\\cot^2\\alpha}\\cdot{...</td>\n",
       "      <td>Eq(-cos(alpha)**2 + cot(alpha)**2, cos(alpha)*...</td>\n",
       "      <td>\\left [ - \\cos^{2}{\\left (\\alpha \\right )} + \\...</td>\n",
       "      <td>Demostrar si son verdaderas o falsas las sigui...</td>\n",
       "      <td>1BC</td>\n",
       "      <td>23 - Trigonometría</td>\n",
       "      <td>p039e05y6</td>\n",
       "      <td>1</td>\n",
       "      <td>1</td>\n",
       "      <td>1</td>\n",
       "      <td>True</td>\n",
       "      <td>True</td>\n",
       "    </tr>\n",
       "    <tr>\n",
       "      <th>15</th>\n",
       "      <td>\\sin\\alpha\\cos\\alpha\\tan\\alpha\\cot\\alpha\\sec\\a...</td>\n",
       "      <td>Eq(((((csc(alpha)*sec(alpha))*cot(alpha))*tan(...</td>\n",
       "      <td>\\left [ 1, \\quad 1\\right ] \\to \\mathrm{True}</td>\n",
       "      <td>Demostrar si son verdaderas o falsas las sigui...</td>\n",
       "      <td>1BC</td>\n",
       "      <td>23 - Trigonometría</td>\n",
       "      <td>p039e05y6</td>\n",
       "      <td>1</td>\n",
       "      <td>1</td>\n",
       "      <td>1</td>\n",
       "      <td>True</td>\n",
       "      <td>True</td>\n",
       "    </tr>\n",
       "    <tr>\n",
       "      <th>16</th>\n",
       "      <td>\\frac{1+\\tan\\alpha}{1-\\tan\\alpha}=\\frac{\\cos\\a...</td>\n",
       "      <td>Eq((tan(alpha) + 1)/(-tan(alpha) + 1), (sin(al...</td>\n",
       "      <td>\\left [ \\frac{\\tan{\\left (\\alpha \\right )} + 1...</td>\n",
       "      <td>Demostrar si son verdaderas o falsas las sigui...</td>\n",
       "      <td>1BC</td>\n",
       "      <td>23 - Trigonometría</td>\n",
       "      <td>p039e05y6</td>\n",
       "      <td>1</td>\n",
       "      <td>1</td>\n",
       "      <td>1</td>\n",
       "      <td>True</td>\n",
       "      <td>True</td>\n",
       "    </tr>\n",
       "    <tr>\n",
       "      <th>17</th>\n",
       "      <td>\\frac{1+\\tan^2\\alpha}{\\cot\\alpha}=\\frac{\\tan\\a...</td>\n",
       "      <td>Eq((tan(alpha)**2 + 1)/cot(alpha), tan(alpha)/...</td>\n",
       "      <td>\\left [ \\frac{\\tan{\\left (\\alpha \\right )}}{\\c...</td>\n",
       "      <td>Demostrar si son verdaderas o falsas las sigui...</td>\n",
       "      <td>1BC</td>\n",
       "      <td>23 - Trigonometría</td>\n",
       "      <td>p039e05y6</td>\n",
       "      <td>1</td>\n",
       "      <td>1</td>\n",
       "      <td>1</td>\n",
       "      <td>True</td>\n",
       "      <td>True</td>\n",
       "    </tr>\n",
       "    <tr>\n",
       "      <th>18</th>\n",
       "      <td>{\\sin\\alpha}\\cdot{\\frac{1}{\\tan\\alpha}}</td>\n",
       "      <td>sin(alpha)/tan(alpha)</td>\n",
       "      <td>\\cos{\\left (\\alpha \\right )}</td>\n",
       "      <td>Simplificar las siguientes expresiones:</td>\n",
       "      <td>1BC</td>\n",
       "      <td>23 - Trigonometría</td>\n",
       "      <td>p039e07</td>\n",
       "      <td>1</td>\n",
       "      <td>1</td>\n",
       "      <td>1</td>\n",
       "      <td>True</td>\n",
       "      <td>True</td>\n",
       "    </tr>\n",
       "    <tr>\n",
       "      <th>19</th>\n",
       "      <td>\\sin^3\\alpha+{\\sin\\alpha}\\cdot{\\cos^2\\alpha}</td>\n",
       "      <td>sin(alpha)**3 + sin(alpha)*cos(alpha)**2</td>\n",
       "      <td>\\sin{\\left (\\alpha \\right )}</td>\n",
       "      <td>Simplificar las siguientes expresiones:</td>\n",
       "      <td>1BC</td>\n",
       "      <td>23 - Trigonometría</td>\n",
       "      <td>p039e07</td>\n",
       "      <td>1</td>\n",
       "      <td>1</td>\n",
       "      <td>1</td>\n",
       "      <td>True</td>\n",
       "      <td>True</td>\n",
       "    </tr>\n",
       "    <tr>\n",
       "      <th>20</th>\n",
       "      <td>\\sqrt{(1-\\sin\\alpha)\\cdot(1+\\sin\\alpha)}</td>\n",
       "      <td>sqrt((-sin(alpha) + 1)*(sin(alpha) + 1))</td>\n",
       "      <td>\\sqrt{\\cos^{2}{\\left (\\alpha \\right )}}</td>\n",
       "      <td>Simplificar las siguientes expresiones:</td>\n",
       "      <td>1BC</td>\n",
       "      <td>23 - Trigonometría</td>\n",
       "      <td>p039e07</td>\n",
       "      <td>1</td>\n",
       "      <td>1</td>\n",
       "      <td>1</td>\n",
       "      <td>True</td>\n",
       "      <td>True</td>\n",
       "    </tr>\n",
       "    <tr>\n",
       "      <th>21</th>\n",
       "      <td>\\sin^4\\alpha-\\cos^4\\alpha</td>\n",
       "      <td>sin(alpha)**4 - cos(alpha)**4</td>\n",
       "      <td>- \\cos{\\left (2 \\alpha \\right )}</td>\n",
       "      <td>Simplificar las siguientes expresiones:</td>\n",
       "      <td>1BC</td>\n",
       "      <td>23 - Trigonometría</td>\n",
       "      <td>p039e07</td>\n",
       "      <td>1</td>\n",
       "      <td>1</td>\n",
       "      <td>1</td>\n",
       "      <td>True</td>\n",
       "      <td>True</td>\n",
       "    </tr>\n",
       "    <tr>\n",
       "      <th>22</th>\n",
       "      <td>\\cos^3\\alpha+{\\cos^2\\alpha}\\cdot{\\sin\\alpha}+{...</td>\n",
       "      <td>sin(alpha)*cos(alpha)**2 + cos(alpha)**3 + sin...</td>\n",
       "      <td>\\sqrt{2} \\sin{\\left (\\alpha + \\frac{\\pi}{4} \\r...</td>\n",
       "      <td>Simplificar las siguientes expresiones:</td>\n",
       "      <td>1BC</td>\n",
       "      <td>23 - Trigonometría</td>\n",
       "      <td>p039e07</td>\n",
       "      <td>1</td>\n",
       "      <td>1</td>\n",
       "      <td>1</td>\n",
       "      <td>True</td>\n",
       "      <td>True</td>\n",
       "    </tr>\n",
       "    <tr>\n",
       "      <th>23</th>\n",
       "      <td>{\\sin\\alpha}\\cdot{\\cos\\alpha}\\cdot(\\tan\\alpha+...</td>\n",
       "      <td>(sin(alpha)*cos(alpha))*(tan(alpha) + 1/tan(al...</td>\n",
       "      <td>1</td>\n",
       "      <td>Simplificar las siguientes expresiones:</td>\n",
       "      <td>1BC</td>\n",
       "      <td>23 - Trigonometría</td>\n",
       "      <td>p039e07</td>\n",
       "      <td>1</td>\n",
       "      <td>1</td>\n",
       "      <td>1</td>\n",
       "      <td>True</td>\n",
       "      <td>True</td>\n",
       "    </tr>\n",
       "    <tr>\n",
       "      <th>24</th>\n",
       "      <td>\\frac{\\cos^2\\alpha-\\sin^2\\alpha}{\\cos^4\\alpha-...</td>\n",
       "      <td>(-sin(alpha)**2 + cos(alpha)**2)/(-sin(alpha)*...</td>\n",
       "      <td>1</td>\n",
       "      <td>Simplificar las siguientes expresiones:</td>\n",
       "      <td>1BC</td>\n",
       "      <td>23 - Trigonometría</td>\n",
       "      <td>p039e07</td>\n",
       "      <td>1</td>\n",
       "      <td>1</td>\n",
       "      <td>1</td>\n",
       "      <td>True</td>\n",
       "      <td>True</td>\n",
       "    </tr>\n",
       "    <tr>\n",
       "      <th>25</th>\n",
       "      <td>\\frac{\\sec^2\\alpha+\\cos^2\\alpha}{\\sec^2\\alpha-...</td>\n",
       "      <td>(cos(alpha)**2 + sec(alpha)**2)/(-cos(alpha)**...</td>\n",
       "      <td>\\frac{\\left(- \\cos^{2}{\\left (\\alpha \\right )}...</td>\n",
       "      <td>Simplificar las siguientes expresiones:</td>\n",
       "      <td>1BC</td>\n",
       "      <td>23 - Trigonometría</td>\n",
       "      <td>p039e07</td>\n",
       "      <td>1</td>\n",
       "      <td>1</td>\n",
       "      <td>1</td>\n",
       "      <td>True</td>\n",
       "      <td>True</td>\n",
       "    </tr>\n",
       "    <tr>\n",
       "      <th>26</th>\n",
       "      <td>\\frac{\\cos^2\\alpha}{1-\\sin\\alpha}</td>\n",
       "      <td>cos(alpha)**2/(-sin(alpha) + 1)</td>\n",
       "      <td>\\sin{\\left (\\alpha \\right )} + 1</td>\n",
       "      <td>Simplificar las siguientes expresiones:</td>\n",
       "      <td>1BC</td>\n",
       "      <td>23 - Trigonometría</td>\n",
       "      <td>p039e07</td>\n",
       "      <td>1</td>\n",
       "      <td>1</td>\n",
       "      <td>1</td>\n",
       "      <td>True</td>\n",
       "      <td>True</td>\n",
       "    </tr>\n",
       "    <tr>\n",
       "      <th>27</th>\n",
       "      <td>\\frac{\\csc\\alpha}{1+\\cot^2\\alpha}</td>\n",
       "      <td>csc(alpha)/(cot(alpha)**2 + 1)</td>\n",
       "      <td>\\sin{\\left (\\alpha \\right )}</td>\n",
       "      <td>Simplificar las siguientes expresiones:</td>\n",
       "      <td>1BC</td>\n",
       "      <td>23 - Trigonometría</td>\n",
       "      <td>p039e07</td>\n",
       "      <td>1</td>\n",
       "      <td>1</td>\n",
       "      <td>1</td>\n",
       "      <td>True</td>\n",
       "      <td>True</td>\n",
       "    </tr>\n",
       "    <tr>\n",
       "      <th>28</th>\n",
       "      <td>\\cos\\alpha=\\frac{4}{5} \\land \\alpha \\in I</td>\n",
       "      <td>['36.86989764584401', '3/5', '4/5', '3/4']</td>\n",
       "      <td>\\left [ 36.86989764584401, \\quad \\frac{3}{5}, ...</td>\n",
       "      <td>Calcular las restantes razones trigonométricas...</td>\n",
       "      <td>1BC</td>\n",
       "      <td>23 - Trigonometría</td>\n",
       "      <td>p039e08</td>\n",
       "      <td>1</td>\n",
       "      <td>1</td>\n",
       "      <td>1</td>\n",
       "      <td>True</td>\n",
       "      <td>True</td>\n",
       "    </tr>\n",
       "    <tr>\n",
       "      <th>29</th>\n",
       "      <td>\\sin\\alpha=\\frac{3}{5} \\land \\alpha \\in II</td>\n",
       "      <td>['36.86989764584402', '3/5', '-4/5', '-3/4']</td>\n",
       "      <td>\\left [ 36.86989764584402, \\quad \\frac{3}{5}, ...</td>\n",
       "      <td>Calcular las restantes razones trigonométricas...</td>\n",
       "      <td>1BC</td>\n",
       "      <td>23 - Trigonometría</td>\n",
       "      <td>p039e08</td>\n",
       "      <td>1</td>\n",
       "      <td>1</td>\n",
       "      <td>1</td>\n",
       "      <td>True</td>\n",
       "      <td>True</td>\n",
       "    </tr>\n",
       "    <tr>\n",
       "      <th>30</th>\n",
       "      <td>\\tan\\alpha=-\\frac{3}{4} \\land \\alpha \\in II</td>\n",
       "      <td>['36.86989764584402', '3/5', '-4/5', '-3/4']</td>\n",
       "      <td>\\left [ 36.86989764584402, \\quad \\frac{3}{5}, ...</td>\n",
       "      <td>Calcular las restantes razones trigonométricas...</td>\n",
       "      <td>1BC</td>\n",
       "      <td>23 - Trigonometría</td>\n",
       "      <td>p039e08</td>\n",
       "      <td>1</td>\n",
       "      <td>1</td>\n",
       "      <td>1</td>\n",
       "      <td>True</td>\n",
       "      <td>True</td>\n",
       "    </tr>\n",
       "    <tr>\n",
       "      <th>31</th>\n",
       "      <td>\\sec\\alpha=2 \\land \\alpha \\in IV</td>\n",
       "      <td>['60.0', '-sqrt(3)/2', '1/2', '-sqrt(3)']</td>\n",
       "      <td>\\left [ 60.0, \\quad - \\frac{\\sqrt{3}}{2}, \\qua...</td>\n",
       "      <td>Calcular las restantes razones trigonométricas...</td>\n",
       "      <td>1BC</td>\n",
       "      <td>23 - Trigonometría</td>\n",
       "      <td>p039e08</td>\n",
       "      <td>1</td>\n",
       "      <td>1</td>\n",
       "      <td>1</td>\n",
       "      <td>True</td>\n",
       "      <td>True</td>\n",
       "    </tr>\n",
       "    <tr>\n",
       "      <th>32</th>\n",
       "      <td>\\csc\\alpha=-2 \\land \\alpha \\in III</td>\n",
       "      <td>['30.0', '-1/2', '-sqrt(3)/2', 'sqrt(3)/3']</td>\n",
       "      <td>\\left [ 30.0, \\quad - \\frac{1}{2}, \\quad - \\fr...</td>\n",
       "      <td>Calcular las restantes razones trigonométricas...</td>\n",
       "      <td>1BC</td>\n",
       "      <td>23 - Trigonometría</td>\n",
       "      <td>p039e08</td>\n",
       "      <td>1</td>\n",
       "      <td>1</td>\n",
       "      <td>1</td>\n",
       "      <td>True</td>\n",
       "      <td>True</td>\n",
       "    </tr>\n",
       "    <tr>\n",
       "      <th>33</th>\n",
       "      <td>\\cot\\alpha=-2 \\land \\alpha \\in IV</td>\n",
       "      <td>['26.56505117707799', '-sqrt(5)/5', '2*sqrt(5)...</td>\n",
       "      <td>\\left [ 26.56505117707799, \\quad - \\frac{\\sqrt...</td>\n",
       "      <td>Calcular las restantes razones trigonométricas...</td>\n",
       "      <td>1BC</td>\n",
       "      <td>23 - Trigonometría</td>\n",
       "      <td>p039e08</td>\n",
       "      <td>1</td>\n",
       "      <td>1</td>\n",
       "      <td>1</td>\n",
       "      <td>True</td>\n",
       "      <td>True</td>\n",
       "    </tr>\n",
       "    <tr>\n",
       "      <th>34</th>\n",
       "      <td>\\sin(-120)</td>\n",
       "      <td>sin(rad(-120))</td>\n",
       "      <td>\\left [ 60, \\quad - \\frac{\\sqrt{3}}{2}\\right ]</td>\n",
       "      <td>Expresa las siguientes razones trigonométricas...</td>\n",
       "      <td>1BC</td>\n",
       "      <td>23 - Trigonometría</td>\n",
       "      <td>p039e09</td>\n",
       "      <td>1</td>\n",
       "      <td>2</td>\n",
       "      <td>1</td>\n",
       "      <td>True</td>\n",
       "      <td>True</td>\n",
       "    </tr>\n",
       "    <tr>\n",
       "      <th>35</th>\n",
       "      <td>\\sin(2700)</td>\n",
       "      <td>sin(rad(2700))</td>\n",
       "      <td>\\left [ 0, \\quad 0\\right ]</td>\n",
       "      <td>Expresa las siguientes razones trigonométricas...</td>\n",
       "      <td>1BC</td>\n",
       "      <td>23 - Trigonometría</td>\n",
       "      <td>p039e09</td>\n",
       "      <td>1</td>\n",
       "      <td>2</td>\n",
       "      <td>1</td>\n",
       "      <td>True</td>\n",
       "      <td>True</td>\n",
       "    </tr>\n",
       "    <tr>\n",
       "      <th>36</th>\n",
       "      <td>\\cos(-30)</td>\n",
       "      <td>cos(rad(-30))</td>\n",
       "      <td>\\left [ 30, \\quad \\frac{\\sqrt{3}}{2}\\right ]</td>\n",
       "      <td>Expresa las siguientes razones trigonométricas...</td>\n",
       "      <td>1BC</td>\n",
       "      <td>23 - Trigonometría</td>\n",
       "      <td>p039e09</td>\n",
       "      <td>1</td>\n",
       "      <td>2</td>\n",
       "      <td>1</td>\n",
       "      <td>True</td>\n",
       "      <td>True</td>\n",
       "    </tr>\n",
       "    <tr>\n",
       "      <th>37</th>\n",
       "      <td>\\cos(3000)</td>\n",
       "      <td>cos(rad(3000))</td>\n",
       "      <td>\\left [ 60, \\quad - \\frac{1}{2}\\right ]</td>\n",
       "      <td>Expresa las siguientes razones trigonométricas...</td>\n",
       "      <td>1BC</td>\n",
       "      <td>23 - Trigonometría</td>\n",
       "      <td>p039e09</td>\n",
       "      <td>1</td>\n",
       "      <td>2</td>\n",
       "      <td>1</td>\n",
       "      <td>True</td>\n",
       "      <td>True</td>\n",
       "    </tr>\n",
       "    <tr>\n",
       "      <th>38</th>\n",
       "      <td>\\tan(-275)</td>\n",
       "      <td>tan(rad(-275))</td>\n",
       "      <td>\\left [ \\frac{180 \\operatorname{atan}{\\left (\\...</td>\n",
       "      <td>Expresa las siguientes razones trigonométricas...</td>\n",
       "      <td>1BC</td>\n",
       "      <td>23 - Trigonometría</td>\n",
       "      <td>p039e09</td>\n",
       "      <td>1</td>\n",
       "      <td>2</td>\n",
       "      <td>1</td>\n",
       "      <td>True</td>\n",
       "      <td>True</td>\n",
       "    </tr>\n",
       "    <tr>\n",
       "      <th>39</th>\n",
       "      <td>\\tan(10330)</td>\n",
       "      <td>tan(rad(10330))</td>\n",
       "      <td>\\left [ 70, \\quad \\tan{\\left (\\frac{7 \\pi}{18}...</td>\n",
       "      <td>Expresa las siguientes razones trigonométricas...</td>\n",
       "      <td>1BC</td>\n",
       "      <td>23 - Trigonometría</td>\n",
       "      <td>p039e09</td>\n",
       "      <td>1</td>\n",
       "      <td>2</td>\n",
       "      <td>1</td>\n",
       "      <td>True</td>\n",
       "      <td>True</td>\n",
       "    </tr>\n",
       "    <tr>\n",
       "      <th>40</th>\n",
       "      <td>\\cot(-150)</td>\n",
       "      <td>cot(rad(-150))</td>\n",
       "      <td>\\left [ 30, \\quad \\sqrt{3}\\right ]</td>\n",
       "      <td>Expresa las siguientes razones trigonométricas...</td>\n",
       "      <td>1BC</td>\n",
       "      <td>23 - Trigonometría</td>\n",
       "      <td>p039e09</td>\n",
       "      <td>1</td>\n",
       "      <td>2</td>\n",
       "      <td>1</td>\n",
       "      <td>True</td>\n",
       "      <td>True</td>\n",
       "    </tr>\n",
       "    <tr>\n",
       "      <th>41</th>\n",
       "      <td>\\cot(4500)</td>\n",
       "      <td>cot(rad(4500))</td>\n",
       "      <td>\\left [ 0, \\quad \\tilde{\\infty}\\right ]</td>\n",
       "      <td>Expresa las siguientes razones trigonométricas...</td>\n",
       "      <td>1BC</td>\n",
       "      <td>23 - Trigonometría</td>\n",
       "      <td>p039e09</td>\n",
       "      <td>1</td>\n",
       "      <td>2</td>\n",
       "      <td>1</td>\n",
       "      <td>True</td>\n",
       "      <td>True</td>\n",
       "    </tr>\n",
       "    <tr>\n",
       "      <th>42</th>\n",
       "      <td>\\sec(-25)</td>\n",
       "      <td>sec(rad(-25))</td>\n",
       "      <td>\\left [ 25, \\quad \\sec{\\left (\\frac{5 \\pi}{36}...</td>\n",
       "      <td>Expresa las siguientes razones trigonométricas...</td>\n",
       "      <td>1BC</td>\n",
       "      <td>23 - Trigonometría</td>\n",
       "      <td>p039e09</td>\n",
       "      <td>1</td>\n",
       "      <td>2</td>\n",
       "      <td>1</td>\n",
       "      <td>True</td>\n",
       "      <td>True</td>\n",
       "    </tr>\n",
       "    <tr>\n",
       "      <th>43</th>\n",
       "      <td>\\sec(745)</td>\n",
       "      <td>sec(rad(745))</td>\n",
       "      <td>\\left [ 25, \\quad \\sec{\\left (\\frac{149 \\pi}{3...</td>\n",
       "      <td>Expresa las siguientes razones trigonométricas...</td>\n",
       "      <td>1BC</td>\n",
       "      <td>23 - Trigonometría</td>\n",
       "      <td>p039e09</td>\n",
       "      <td>1</td>\n",
       "      <td>2</td>\n",
       "      <td>1</td>\n",
       "      <td>True</td>\n",
       "      <td>True</td>\n",
       "    </tr>\n",
       "    <tr>\n",
       "      <th>44</th>\n",
       "      <td>\\csc(-155)</td>\n",
       "      <td>csc(rad(-155))</td>\n",
       "      <td>\\left [ 25, \\quad - \\csc{\\left (\\frac{5 \\pi}{3...</td>\n",
       "      <td>Expresa las siguientes razones trigonométricas...</td>\n",
       "      <td>1BC</td>\n",
       "      <td>23 - Trigonometría</td>\n",
       "      <td>p039e09</td>\n",
       "      <td>1</td>\n",
       "      <td>2</td>\n",
       "      <td>1</td>\n",
       "      <td>True</td>\n",
       "      <td>True</td>\n",
       "    </tr>\n",
       "    <tr>\n",
       "      <th>45</th>\n",
       "      <td>\\csc(4420)</td>\n",
       "      <td>csc(rad(4420))</td>\n",
       "      <td>\\left [ 80, \\quad \\csc{\\left (\\frac{4 \\pi}{9} ...</td>\n",
       "      <td>Expresa las siguientes razones trigonométricas...</td>\n",
       "      <td>1BC</td>\n",
       "      <td>23 - Trigonometría</td>\n",
       "      <td>p039e09</td>\n",
       "      <td>1</td>\n",
       "      <td>2</td>\n",
       "      <td>1</td>\n",
       "      <td>True</td>\n",
       "      <td>True</td>\n",
       "    </tr>\n",
       "    <tr>\n",
       "      <th>46</th>\n",
       "      <td>53</td>\n",
       "      <td>53</td>\n",
       "      <td>\\left [ 0.8, \\quad 0.6, \\quad 1.33\\right ]</td>\n",
       "      <td>Si sen 37º = 0,6. Calcula, sin usar la calcula...</td>\n",
       "      <td>1BC</td>\n",
       "      <td>23 - Trigonometría</td>\n",
       "      <td>p039e10</td>\n",
       "      <td>1</td>\n",
       "      <td>2</td>\n",
       "      <td>1</td>\n",
       "      <td>True</td>\n",
       "      <td>True</td>\n",
       "    </tr>\n",
       "    <tr>\n",
       "      <th>47</th>\n",
       "      <td>127</td>\n",
       "      <td>127</td>\n",
       "      <td>\\left [ 0.8, \\quad -0.6, \\quad -1.33\\right ]</td>\n",
       "      <td>Si sen 37º = 0,6. Calcula, sin usar la calcula...</td>\n",
       "      <td>1BC</td>\n",
       "      <td>23 - Trigonometría</td>\n",
       "      <td>p039e10</td>\n",
       "      <td>1</td>\n",
       "      <td>2</td>\n",
       "      <td>1</td>\n",
       "      <td>True</td>\n",
       "      <td>True</td>\n",
       "    </tr>\n",
       "    <tr>\n",
       "      <th>48</th>\n",
       "      <td>143</td>\n",
       "      <td>143</td>\n",
       "      <td>\\left [ 0.6, \\quad -0.8, \\quad -0.75\\right ]</td>\n",
       "      <td>Si sen 37º = 0,6. Calcula, sin usar la calcula...</td>\n",
       "      <td>1BC</td>\n",
       "      <td>23 - Trigonometría</td>\n",
       "      <td>p039e10</td>\n",
       "      <td>1</td>\n",
       "      <td>2</td>\n",
       "      <td>1</td>\n",
       "      <td>True</td>\n",
       "      <td>True</td>\n",
       "    </tr>\n",
       "  </tbody>\n",
       "</table>\n",
       "</div>"
      ],
      "text/plain": [
       "                                      enunciado_latex  \\\n",
       "0                                                 45º   \n",
       "1                                                 75º   \n",
       "2                                                105º   \n",
       "3                                                230º   \n",
       "4                                   \\frac{{3\\pi }}{4}   \n",
       "5                               \\frac{{{5}\\pi }}{{3}}   \n",
       "6                           \\frac{{{{3}}\\pi }}{{{2}}}   \n",
       "7                           \\frac{{{{9}}\\pi }}{{{2}}}   \n",
       "8                           \\frac{{{{4}}\\pi }}{{{3}}}   \n",
       "9   \\sec^2\\alpha+\\csc^2\\alpha={\\sec^2\\alpha}\\cdot{...   \n",
       "10  \\frac{\\tan\\alpha+\\tan\\beta}{\\cot\\alpha+\\cot\\be...   \n",
       "11  \\frac{{\\sin\\alpha}\\cdot{\\cos\\alpha}}{{\\cos^2\\a...   \n",
       "12  \\cot\\alpha-\\frac{{\\cot^2\\alpha}-1}{\\cot\\alpha}...   \n",
       "13  \\frac{\\sin\\alpha+ \\cot \\alpha}{\\tan\\alpha+ \\cs...   \n",
       "14  \\cot^2\\alpha-\\cos^2\\alpha={\\cot^2\\alpha}\\cdot{...   \n",
       "15  \\sin\\alpha\\cos\\alpha\\tan\\alpha\\cot\\alpha\\sec\\a...   \n",
       "16  \\frac{1+\\tan\\alpha}{1-\\tan\\alpha}=\\frac{\\cos\\a...   \n",
       "17  \\frac{1+\\tan^2\\alpha}{\\cot\\alpha}=\\frac{\\tan\\a...   \n",
       "18            {\\sin\\alpha}\\cdot{\\frac{1}{\\tan\\alpha}}   \n",
       "19       \\sin^3\\alpha+{\\sin\\alpha}\\cdot{\\cos^2\\alpha}   \n",
       "20           \\sqrt{(1-\\sin\\alpha)\\cdot(1+\\sin\\alpha)}   \n",
       "21                          \\sin^4\\alpha-\\cos^4\\alpha   \n",
       "22  \\cos^3\\alpha+{\\cos^2\\alpha}\\cdot{\\sin\\alpha}+{...   \n",
       "23  {\\sin\\alpha}\\cdot{\\cos\\alpha}\\cdot(\\tan\\alpha+...   \n",
       "24  \\frac{\\cos^2\\alpha-\\sin^2\\alpha}{\\cos^4\\alpha-...   \n",
       "25  \\frac{\\sec^2\\alpha+\\cos^2\\alpha}{\\sec^2\\alpha-...   \n",
       "26                  \\frac{\\cos^2\\alpha}{1-\\sin\\alpha}   \n",
       "27                  \\frac{\\csc\\alpha}{1+\\cot^2\\alpha}   \n",
       "28          \\cos\\alpha=\\frac{4}{5} \\land \\alpha \\in I   \n",
       "29         \\sin\\alpha=\\frac{3}{5} \\land \\alpha \\in II   \n",
       "30        \\tan\\alpha=-\\frac{3}{4} \\land \\alpha \\in II   \n",
       "31                   \\sec\\alpha=2 \\land \\alpha \\in IV   \n",
       "32                 \\csc\\alpha=-2 \\land \\alpha \\in III   \n",
       "33                  \\cot\\alpha=-2 \\land \\alpha \\in IV   \n",
       "34                                         \\sin(-120)   \n",
       "35                                         \\sin(2700)   \n",
       "36                                          \\cos(-30)   \n",
       "37                                         \\cos(3000)   \n",
       "38                                         \\tan(-275)   \n",
       "39                                        \\tan(10330)   \n",
       "40                                         \\cot(-150)   \n",
       "41                                         \\cot(4500)   \n",
       "42                                          \\sec(-25)   \n",
       "43                                          \\sec(745)   \n",
       "44                                         \\csc(-155)   \n",
       "45                                         \\csc(4420)   \n",
       "46                                                 53   \n",
       "47                                                127   \n",
       "48                                                143   \n",
       "\n",
       "                                            enunciado  \\\n",
       "0                                                  45   \n",
       "1                                                  75   \n",
       "2                                                 105   \n",
       "3                                                 230   \n",
       "4                                            (3*pi)/4   \n",
       "5                                            (5*pi)/3   \n",
       "6                                            (3*pi)/2   \n",
       "7                                            (9*pi)/2   \n",
       "8                                            (4*pi)/3   \n",
       "9   Eq(csc(alpha)**2 + sec(alpha)**2, csc(alpha)**...   \n",
       "10  Eq((tan(alpha) + tan(beta))/(cot(alpha) + cot(...   \n",
       "11  Eq((sin(alpha)*cos(alpha))/(-sin(alpha)**2 + c...   \n",
       "12  Eq(-(cot(alpha)**2 - 1)/cot(alpha) + cot(alpha...   \n",
       "13  Eq((sin(alpha) + cot(alpha))/(tan(alpha) + csc...   \n",
       "14  Eq(-cos(alpha)**2 + cot(alpha)**2, cos(alpha)*...   \n",
       "15  Eq(((((csc(alpha)*sec(alpha))*cot(alpha))*tan(...   \n",
       "16  Eq((tan(alpha) + 1)/(-tan(alpha) + 1), (sin(al...   \n",
       "17  Eq((tan(alpha)**2 + 1)/cot(alpha), tan(alpha)/...   \n",
       "18                              sin(alpha)/tan(alpha)   \n",
       "19           sin(alpha)**3 + sin(alpha)*cos(alpha)**2   \n",
       "20           sqrt((-sin(alpha) + 1)*(sin(alpha) + 1))   \n",
       "21                      sin(alpha)**4 - cos(alpha)**4   \n",
       "22  sin(alpha)*cos(alpha)**2 + cos(alpha)**3 + sin...   \n",
       "23  (sin(alpha)*cos(alpha))*(tan(alpha) + 1/tan(al...   \n",
       "24  (-sin(alpha)**2 + cos(alpha)**2)/(-sin(alpha)*...   \n",
       "25  (cos(alpha)**2 + sec(alpha)**2)/(-cos(alpha)**...   \n",
       "26                    cos(alpha)**2/(-sin(alpha) + 1)   \n",
       "27                     csc(alpha)/(cot(alpha)**2 + 1)   \n",
       "28         ['36.86989764584401', '3/5', '4/5', '3/4']   \n",
       "29       ['36.86989764584402', '3/5', '-4/5', '-3/4']   \n",
       "30       ['36.86989764584402', '3/5', '-4/5', '-3/4']   \n",
       "31          ['60.0', '-sqrt(3)/2', '1/2', '-sqrt(3)']   \n",
       "32        ['30.0', '-1/2', '-sqrt(3)/2', 'sqrt(3)/3']   \n",
       "33  ['26.56505117707799', '-sqrt(5)/5', '2*sqrt(5)...   \n",
       "34                                     sin(rad(-120))   \n",
       "35                                     sin(rad(2700))   \n",
       "36                                      cos(rad(-30))   \n",
       "37                                     cos(rad(3000))   \n",
       "38                                     tan(rad(-275))   \n",
       "39                                    tan(rad(10330))   \n",
       "40                                     cot(rad(-150))   \n",
       "41                                     cot(rad(4500))   \n",
       "42                                      sec(rad(-25))   \n",
       "43                                      sec(rad(745))   \n",
       "44                                     csc(rad(-155))   \n",
       "45                                     csc(rad(4420))   \n",
       "46                                                 53   \n",
       "47                                                127   \n",
       "48                                                143   \n",
       "\n",
       "                                             solucion  \\\n",
       "0                                       \\frac{\\pi}{4}   \n",
       "1                                    \\frac{5 \\pi}{12}   \n",
       "2                                    \\frac{7 \\pi}{12}   \n",
       "3                                   \\frac{23 \\pi}{18}   \n",
       "4                                                 135   \n",
       "5                                                 300   \n",
       "6                                                 270   \n",
       "7                                                 810   \n",
       "8                                                 240   \n",
       "9   \\left [ \\frac{8}{- \\cos{\\left (4 \\alpha \\right...   \n",
       "10  \\left [ \\tan{\\left (\\alpha \\right )} \\tan{\\lef...   \n",
       "11  \\left [ \\frac{\\tan{\\left (2 \\alpha \\right )}}{...   \n",
       "12  \\left [ \\tan{\\left (\\alpha \\right )}, \\quad \\t...   \n",
       "13  \\left [ \\cos{\\left (\\alpha \\right )}, \\quad \\c...   \n",
       "14  \\left [ - \\cos^{2}{\\left (\\alpha \\right )} + \\...   \n",
       "15       \\left [ 1, \\quad 1\\right ] \\to \\mathrm{True}   \n",
       "16  \\left [ \\frac{\\tan{\\left (\\alpha \\right )} + 1...   \n",
       "17  \\left [ \\frac{\\tan{\\left (\\alpha \\right )}}{\\c...   \n",
       "18                       \\cos{\\left (\\alpha \\right )}   \n",
       "19                       \\sin{\\left (\\alpha \\right )}   \n",
       "20            \\sqrt{\\cos^{2}{\\left (\\alpha \\right )}}   \n",
       "21                   - \\cos{\\left (2 \\alpha \\right )}   \n",
       "22  \\sqrt{2} \\sin{\\left (\\alpha + \\frac{\\pi}{4} \\r...   \n",
       "23                                                  1   \n",
       "24                                                  1   \n",
       "25  \\frac{\\left(- \\cos^{2}{\\left (\\alpha \\right )}...   \n",
       "26                   \\sin{\\left (\\alpha \\right )} + 1   \n",
       "27                       \\sin{\\left (\\alpha \\right )}   \n",
       "28  \\left [ 36.86989764584401, \\quad \\frac{3}{5}, ...   \n",
       "29  \\left [ 36.86989764584402, \\quad \\frac{3}{5}, ...   \n",
       "30  \\left [ 36.86989764584402, \\quad \\frac{3}{5}, ...   \n",
       "31  \\left [ 60.0, \\quad - \\frac{\\sqrt{3}}{2}, \\qua...   \n",
       "32  \\left [ 30.0, \\quad - \\frac{1}{2}, \\quad - \\fr...   \n",
       "33  \\left [ 26.56505117707799, \\quad - \\frac{\\sqrt...   \n",
       "34     \\left [ 60, \\quad - \\frac{\\sqrt{3}}{2}\\right ]   \n",
       "35                         \\left [ 0, \\quad 0\\right ]   \n",
       "36       \\left [ 30, \\quad \\frac{\\sqrt{3}}{2}\\right ]   \n",
       "37            \\left [ 60, \\quad - \\frac{1}{2}\\right ]   \n",
       "38  \\left [ \\frac{180 \\operatorname{atan}{\\left (\\...   \n",
       "39  \\left [ 70, \\quad \\tan{\\left (\\frac{7 \\pi}{18}...   \n",
       "40                 \\left [ 30, \\quad \\sqrt{3}\\right ]   \n",
       "41            \\left [ 0, \\quad \\tilde{\\infty}\\right ]   \n",
       "42  \\left [ 25, \\quad \\sec{\\left (\\frac{5 \\pi}{36}...   \n",
       "43  \\left [ 25, \\quad \\sec{\\left (\\frac{149 \\pi}{3...   \n",
       "44  \\left [ 25, \\quad - \\csc{\\left (\\frac{5 \\pi}{3...   \n",
       "45  \\left [ 80, \\quad \\csc{\\left (\\frac{4 \\pi}{9} ...   \n",
       "46         \\left [ 0.8, \\quad 0.6, \\quad 1.33\\right ]   \n",
       "47       \\left [ 0.8, \\quad -0.6, \\quad -1.33\\right ]   \n",
       "48       \\left [ 0.6, \\quad -0.8, \\quad -0.75\\right ]   \n",
       "\n",
       "                                                texto curso  \\\n",
       "0   Expresa en radianes los siguientes ángulos, da...   1BC   \n",
       "1   Expresa en radianes los siguientes ángulos, da...   1BC   \n",
       "2   Expresa en radianes los siguientes ángulos, da...   1BC   \n",
       "3   Expresa en radianes los siguientes ángulos, da...   1BC   \n",
       "4   Expresa en grados los siguientes ángulos dados...   1BC   \n",
       "5   Expresa en grados los siguientes ángulos dados...   1BC   \n",
       "6   Expresa en grados los siguientes ángulos dados...   1BC   \n",
       "7   Expresa en grados los siguientes ángulos dados...   1BC   \n",
       "8   Expresa en grados los siguientes ángulos dados...   1BC   \n",
       "9   Demostrar si son verdaderas o falsas las sigui...   1BC   \n",
       "10  Demostrar si son verdaderas o falsas las sigui...   1BC   \n",
       "11  Demostrar si son verdaderas o falsas las sigui...   1BC   \n",
       "12  Demostrar si son verdaderas o falsas las sigui...   1BC   \n",
       "13  Demostrar si son verdaderas o falsas las sigui...   1BC   \n",
       "14  Demostrar si son verdaderas o falsas las sigui...   1BC   \n",
       "15  Demostrar si son verdaderas o falsas las sigui...   1BC   \n",
       "16  Demostrar si son verdaderas o falsas las sigui...   1BC   \n",
       "17  Demostrar si son verdaderas o falsas las sigui...   1BC   \n",
       "18            Simplificar las siguientes expresiones:   1BC   \n",
       "19            Simplificar las siguientes expresiones:   1BC   \n",
       "20            Simplificar las siguientes expresiones:   1BC   \n",
       "21            Simplificar las siguientes expresiones:   1BC   \n",
       "22            Simplificar las siguientes expresiones:   1BC   \n",
       "23            Simplificar las siguientes expresiones:   1BC   \n",
       "24            Simplificar las siguientes expresiones:   1BC   \n",
       "25            Simplificar las siguientes expresiones:   1BC   \n",
       "26            Simplificar las siguientes expresiones:   1BC   \n",
       "27            Simplificar las siguientes expresiones:   1BC   \n",
       "28  Calcular las restantes razones trigonométricas...   1BC   \n",
       "29  Calcular las restantes razones trigonométricas...   1BC   \n",
       "30  Calcular las restantes razones trigonométricas...   1BC   \n",
       "31  Calcular las restantes razones trigonométricas...   1BC   \n",
       "32  Calcular las restantes razones trigonométricas...   1BC   \n",
       "33  Calcular las restantes razones trigonométricas...   1BC   \n",
       "34  Expresa las siguientes razones trigonométricas...   1BC   \n",
       "35  Expresa las siguientes razones trigonométricas...   1BC   \n",
       "36  Expresa las siguientes razones trigonométricas...   1BC   \n",
       "37  Expresa las siguientes razones trigonométricas...   1BC   \n",
       "38  Expresa las siguientes razones trigonométricas...   1BC   \n",
       "39  Expresa las siguientes razones trigonométricas...   1BC   \n",
       "40  Expresa las siguientes razones trigonométricas...   1BC   \n",
       "41  Expresa las siguientes razones trigonométricas...   1BC   \n",
       "42  Expresa las siguientes razones trigonométricas...   1BC   \n",
       "43  Expresa las siguientes razones trigonométricas...   1BC   \n",
       "44  Expresa las siguientes razones trigonométricas...   1BC   \n",
       "45  Expresa las siguientes razones trigonométricas...   1BC   \n",
       "46  Si sen 37º = 0,6. Calcula, sin usar la calcula...   1BC   \n",
       "47  Si sen 37º = 0,6. Calcula, sin usar la calcula...   1BC   \n",
       "48  Si sen 37º = 0,6. Calcula, sin usar la calcula...   1BC   \n",
       "\n",
       "                titulo n_ejercicio  dificultad  n_columnas  puntos  enun_tex  \\\n",
       "0   23 - Trigonometría     p039e01           1           3       1     False   \n",
       "1   23 - Trigonometría     p039e01           1           3       1     False   \n",
       "2   23 - Trigonometría     p039e01           1           3       1     False   \n",
       "3   23 - Trigonometría     p039e01           1           3       1     False   \n",
       "4   23 - Trigonometría     p039e02           1           3       1      True   \n",
       "5   23 - Trigonometría     p039e02           1           3       1      True   \n",
       "6   23 - Trigonometría     p039e02           1           3       1      True   \n",
       "7   23 - Trigonometría     p039e02           1           3       1      True   \n",
       "8   23 - Trigonometría     p039e02           1           3       1      True   \n",
       "9   23 - Trigonometría   p039e05y6           1           1       1      True   \n",
       "10  23 - Trigonometría   p039e05y6           1           1       1      True   \n",
       "11  23 - Trigonometría   p039e05y6           1           1       1      True   \n",
       "12  23 - Trigonometría   p039e05y6           1           1       1      True   \n",
       "13  23 - Trigonometría   p039e05y6           1           1       1      True   \n",
       "14  23 - Trigonometría   p039e05y6           1           1       1      True   \n",
       "15  23 - Trigonometría   p039e05y6           1           1       1      True   \n",
       "16  23 - Trigonometría   p039e05y6           1           1       1      True   \n",
       "17  23 - Trigonometría   p039e05y6           1           1       1      True   \n",
       "18  23 - Trigonometría     p039e07           1           1       1      True   \n",
       "19  23 - Trigonometría     p039e07           1           1       1      True   \n",
       "20  23 - Trigonometría     p039e07           1           1       1      True   \n",
       "21  23 - Trigonometría     p039e07           1           1       1      True   \n",
       "22  23 - Trigonometría     p039e07           1           1       1      True   \n",
       "23  23 - Trigonometría     p039e07           1           1       1      True   \n",
       "24  23 - Trigonometría     p039e07           1           1       1      True   \n",
       "25  23 - Trigonometría     p039e07           1           1       1      True   \n",
       "26  23 - Trigonometría     p039e07           1           1       1      True   \n",
       "27  23 - Trigonometría     p039e07           1           1       1      True   \n",
       "28  23 - Trigonometría     p039e08           1           1       1      True   \n",
       "29  23 - Trigonometría     p039e08           1           1       1      True   \n",
       "30  23 - Trigonometría     p039e08           1           1       1      True   \n",
       "31  23 - Trigonometría     p039e08           1           1       1      True   \n",
       "32  23 - Trigonometría     p039e08           1           1       1      True   \n",
       "33  23 - Trigonometría     p039e08           1           1       1      True   \n",
       "34  23 - Trigonometría     p039e09           1           2       1      True   \n",
       "35  23 - Trigonometría     p039e09           1           2       1      True   \n",
       "36  23 - Trigonometría     p039e09           1           2       1      True   \n",
       "37  23 - Trigonometría     p039e09           1           2       1      True   \n",
       "38  23 - Trigonometría     p039e09           1           2       1      True   \n",
       "39  23 - Trigonometría     p039e09           1           2       1      True   \n",
       "40  23 - Trigonometría     p039e09           1           2       1      True   \n",
       "41  23 - Trigonometría     p039e09           1           2       1      True   \n",
       "42  23 - Trigonometría     p039e09           1           2       1      True   \n",
       "43  23 - Trigonometría     p039e09           1           2       1      True   \n",
       "44  23 - Trigonometría     p039e09           1           2       1      True   \n",
       "45  23 - Trigonometría     p039e09           1           2       1      True   \n",
       "46  23 - Trigonometría     p039e10           1           2       1      True   \n",
       "47  23 - Trigonometría     p039e10           1           2       1      True   \n",
       "48  23 - Trigonometría     p039e10           1           2       1      True   \n",
       "\n",
       "    sol_tex  \n",
       "0      True  \n",
       "1      True  \n",
       "2      True  \n",
       "3      True  \n",
       "4      True  \n",
       "5      True  \n",
       "6      True  \n",
       "7      True  \n",
       "8      True  \n",
       "9      True  \n",
       "10     True  \n",
       "11     True  \n",
       "12     True  \n",
       "13     True  \n",
       "14     True  \n",
       "15     True  \n",
       "16     True  \n",
       "17     True  \n",
       "18     True  \n",
       "19     True  \n",
       "20     True  \n",
       "21     True  \n",
       "22     True  \n",
       "23     True  \n",
       "24     True  \n",
       "25     True  \n",
       "26     True  \n",
       "27     True  \n",
       "28     True  \n",
       "29     True  \n",
       "30     True  \n",
       "31     True  \n",
       "32     True  \n",
       "33     True  \n",
       "34     True  \n",
       "35     True  \n",
       "36     True  \n",
       "37     True  \n",
       "38     True  \n",
       "39     True  \n",
       "40     True  \n",
       "41     True  \n",
       "42     True  \n",
       "43     True  \n",
       "44     True  \n",
       "45     True  \n",
       "46     True  \n",
       "47     True  \n",
       "48     True  "
      ]
     },
     "execution_count": 17,
     "metadata": {},
     "output_type": "execute_result"
    }
   ],
   "source": [
    "df_ejercicios"
   ]
  },
  {
   "cell_type": "code",
   "execution_count": 18,
   "metadata": {
    "scrolled": false
   },
   "outputs": [
    {
     "data": {
      "text/markdown": [
       "**Ejercicio: **p039e01"
      ],
      "text/plain": [
       "<IPython.core.display.Markdown object>"
      ]
     },
     "metadata": {},
     "output_type": "display_data"
    },
    {
     "data": {
      "text/html": [
       "<div>\n",
       "<style scoped>\n",
       "    .dataframe tbody tr th:only-of-type {\n",
       "        vertical-align: middle;\n",
       "    }\n",
       "\n",
       "    .dataframe tbody tr th {\n",
       "        vertical-align: top;\n",
       "    }\n",
       "\n",
       "    .dataframe thead th {\n",
       "        text-align: right;\n",
       "    }\n",
       "</style>\n",
       "<table border=\"1\" class=\"dataframe\">\n",
       "  <thead>\n",
       "    <tr style=\"text-align: right;\">\n",
       "      <th></th>\n",
       "      <th>enunciado_latex</th>\n",
       "      <th>enunciado</th>\n",
       "      <th>solucion</th>\n",
       "      <th>texto</th>\n",
       "      <th>curso</th>\n",
       "      <th>titulo</th>\n",
       "      <th>n_ejercicio</th>\n",
       "      <th>dificultad</th>\n",
       "      <th>n_columnas</th>\n",
       "      <th>puntos</th>\n",
       "      <th>enun_tex</th>\n",
       "      <th>sol_tex</th>\n",
       "    </tr>\n",
       "  </thead>\n",
       "  <tbody>\n",
       "    <tr>\n",
       "      <th>0</th>\n",
       "      <td>45º</td>\n",
       "      <td>45</td>\n",
       "      <td>\\frac{\\pi}{4}</td>\n",
       "      <td>Expresa en radianes los siguientes ángulos, da...</td>\n",
       "      <td>1BC</td>\n",
       "      <td>23 - Trigonometría</td>\n",
       "      <td>p039e01</td>\n",
       "      <td>1</td>\n",
       "      <td>3</td>\n",
       "      <td>1</td>\n",
       "      <td>False</td>\n",
       "      <td>True</td>\n",
       "    </tr>\n",
       "    <tr>\n",
       "      <th>1</th>\n",
       "      <td>75º</td>\n",
       "      <td>75</td>\n",
       "      <td>\\frac{5 \\pi}{12}</td>\n",
       "      <td>Expresa en radianes los siguientes ángulos, da...</td>\n",
       "      <td>1BC</td>\n",
       "      <td>23 - Trigonometría</td>\n",
       "      <td>p039e01</td>\n",
       "      <td>1</td>\n",
       "      <td>3</td>\n",
       "      <td>1</td>\n",
       "      <td>False</td>\n",
       "      <td>True</td>\n",
       "    </tr>\n",
       "    <tr>\n",
       "      <th>2</th>\n",
       "      <td>105º</td>\n",
       "      <td>105</td>\n",
       "      <td>\\frac{7 \\pi}{12}</td>\n",
       "      <td>Expresa en radianes los siguientes ángulos, da...</td>\n",
       "      <td>1BC</td>\n",
       "      <td>23 - Trigonometría</td>\n",
       "      <td>p039e01</td>\n",
       "      <td>1</td>\n",
       "      <td>3</td>\n",
       "      <td>1</td>\n",
       "      <td>False</td>\n",
       "      <td>True</td>\n",
       "    </tr>\n",
       "    <tr>\n",
       "      <th>3</th>\n",
       "      <td>230º</td>\n",
       "      <td>230</td>\n",
       "      <td>\\frac{23 \\pi}{18}</td>\n",
       "      <td>Expresa en radianes los siguientes ángulos, da...</td>\n",
       "      <td>1BC</td>\n",
       "      <td>23 - Trigonometría</td>\n",
       "      <td>p039e01</td>\n",
       "      <td>1</td>\n",
       "      <td>3</td>\n",
       "      <td>1</td>\n",
       "      <td>False</td>\n",
       "      <td>True</td>\n",
       "    </tr>\n",
       "  </tbody>\n",
       "</table>\n",
       "</div>"
      ],
      "text/plain": [
       "  enunciado_latex enunciado           solucion  \\\n",
       "0             45º        45      \\frac{\\pi}{4}   \n",
       "1             75º        75   \\frac{5 \\pi}{12}   \n",
       "2            105º       105   \\frac{7 \\pi}{12}   \n",
       "3            230º       230  \\frac{23 \\pi}{18}   \n",
       "\n",
       "                                               texto curso  \\\n",
       "0  Expresa en radianes los siguientes ángulos, da...   1BC   \n",
       "1  Expresa en radianes los siguientes ángulos, da...   1BC   \n",
       "2  Expresa en radianes los siguientes ángulos, da...   1BC   \n",
       "3  Expresa en radianes los siguientes ángulos, da...   1BC   \n",
       "\n",
       "               titulo n_ejercicio  dificultad  n_columnas  puntos  enun_tex  \\\n",
       "0  23 - Trigonometría     p039e01           1           3       1     False   \n",
       "1  23 - Trigonometría     p039e01           1           3       1     False   \n",
       "2  23 - Trigonometría     p039e01           1           3       1     False   \n",
       "3  23 - Trigonometría     p039e01           1           3       1     False   \n",
       "\n",
       "   sol_tex  \n",
       "0     True  \n",
       "1     True  \n",
       "2     True  \n",
       "3     True  "
      ]
     },
     "metadata": {},
     "output_type": "display_data"
    },
    {
     "data": {
      "text/markdown": [
       "**Ejercicio: **p039e02"
      ],
      "text/plain": [
       "<IPython.core.display.Markdown object>"
      ]
     },
     "metadata": {},
     "output_type": "display_data"
    },
    {
     "data": {
      "text/html": [
       "<div>\n",
       "<style scoped>\n",
       "    .dataframe tbody tr th:only-of-type {\n",
       "        vertical-align: middle;\n",
       "    }\n",
       "\n",
       "    .dataframe tbody tr th {\n",
       "        vertical-align: top;\n",
       "    }\n",
       "\n",
       "    .dataframe thead th {\n",
       "        text-align: right;\n",
       "    }\n",
       "</style>\n",
       "<table border=\"1\" class=\"dataframe\">\n",
       "  <thead>\n",
       "    <tr style=\"text-align: right;\">\n",
       "      <th></th>\n",
       "      <th>enunciado_latex</th>\n",
       "      <th>enunciado</th>\n",
       "      <th>solucion</th>\n",
       "      <th>texto</th>\n",
       "      <th>curso</th>\n",
       "      <th>titulo</th>\n",
       "      <th>n_ejercicio</th>\n",
       "      <th>dificultad</th>\n",
       "      <th>n_columnas</th>\n",
       "      <th>puntos</th>\n",
       "      <th>enun_tex</th>\n",
       "      <th>sol_tex</th>\n",
       "    </tr>\n",
       "  </thead>\n",
       "  <tbody>\n",
       "    <tr>\n",
       "      <th>4</th>\n",
       "      <td>\\frac{{3\\pi }}{4}</td>\n",
       "      <td>(3*pi)/4</td>\n",
       "      <td>135</td>\n",
       "      <td>Expresa en grados los siguientes ángulos dados...</td>\n",
       "      <td>1BC</td>\n",
       "      <td>23 - Trigonometría</td>\n",
       "      <td>p039e02</td>\n",
       "      <td>1</td>\n",
       "      <td>3</td>\n",
       "      <td>1</td>\n",
       "      <td>True</td>\n",
       "      <td>True</td>\n",
       "    </tr>\n",
       "    <tr>\n",
       "      <th>5</th>\n",
       "      <td>\\frac{{{5}\\pi }}{{3}}</td>\n",
       "      <td>(5*pi)/3</td>\n",
       "      <td>300</td>\n",
       "      <td>Expresa en grados los siguientes ángulos dados...</td>\n",
       "      <td>1BC</td>\n",
       "      <td>23 - Trigonometría</td>\n",
       "      <td>p039e02</td>\n",
       "      <td>1</td>\n",
       "      <td>3</td>\n",
       "      <td>1</td>\n",
       "      <td>True</td>\n",
       "      <td>True</td>\n",
       "    </tr>\n",
       "    <tr>\n",
       "      <th>6</th>\n",
       "      <td>\\frac{{{{3}}\\pi }}{{{2}}}</td>\n",
       "      <td>(3*pi)/2</td>\n",
       "      <td>270</td>\n",
       "      <td>Expresa en grados los siguientes ángulos dados...</td>\n",
       "      <td>1BC</td>\n",
       "      <td>23 - Trigonometría</td>\n",
       "      <td>p039e02</td>\n",
       "      <td>1</td>\n",
       "      <td>3</td>\n",
       "      <td>1</td>\n",
       "      <td>True</td>\n",
       "      <td>True</td>\n",
       "    </tr>\n",
       "    <tr>\n",
       "      <th>7</th>\n",
       "      <td>\\frac{{{{9}}\\pi }}{{{2}}}</td>\n",
       "      <td>(9*pi)/2</td>\n",
       "      <td>810</td>\n",
       "      <td>Expresa en grados los siguientes ángulos dados...</td>\n",
       "      <td>1BC</td>\n",
       "      <td>23 - Trigonometría</td>\n",
       "      <td>p039e02</td>\n",
       "      <td>1</td>\n",
       "      <td>3</td>\n",
       "      <td>1</td>\n",
       "      <td>True</td>\n",
       "      <td>True</td>\n",
       "    </tr>\n",
       "    <tr>\n",
       "      <th>8</th>\n",
       "      <td>\\frac{{{{4}}\\pi }}{{{3}}}</td>\n",
       "      <td>(4*pi)/3</td>\n",
       "      <td>240</td>\n",
       "      <td>Expresa en grados los siguientes ángulos dados...</td>\n",
       "      <td>1BC</td>\n",
       "      <td>23 - Trigonometría</td>\n",
       "      <td>p039e02</td>\n",
       "      <td>1</td>\n",
       "      <td>3</td>\n",
       "      <td>1</td>\n",
       "      <td>True</td>\n",
       "      <td>True</td>\n",
       "    </tr>\n",
       "  </tbody>\n",
       "</table>\n",
       "</div>"
      ],
      "text/plain": [
       "             enunciado_latex enunciado solucion  \\\n",
       "4          \\frac{{3\\pi }}{4}  (3*pi)/4      135   \n",
       "5      \\frac{{{5}\\pi }}{{3}}  (5*pi)/3      300   \n",
       "6  \\frac{{{{3}}\\pi }}{{{2}}}  (3*pi)/2      270   \n",
       "7  \\frac{{{{9}}\\pi }}{{{2}}}  (9*pi)/2      810   \n",
       "8  \\frac{{{{4}}\\pi }}{{{3}}}  (4*pi)/3      240   \n",
       "\n",
       "                                               texto curso  \\\n",
       "4  Expresa en grados los siguientes ángulos dados...   1BC   \n",
       "5  Expresa en grados los siguientes ángulos dados...   1BC   \n",
       "6  Expresa en grados los siguientes ángulos dados...   1BC   \n",
       "7  Expresa en grados los siguientes ángulos dados...   1BC   \n",
       "8  Expresa en grados los siguientes ángulos dados...   1BC   \n",
       "\n",
       "               titulo n_ejercicio  dificultad  n_columnas  puntos  enun_tex  \\\n",
       "4  23 - Trigonometría     p039e02           1           3       1      True   \n",
       "5  23 - Trigonometría     p039e02           1           3       1      True   \n",
       "6  23 - Trigonometría     p039e02           1           3       1      True   \n",
       "7  23 - Trigonometría     p039e02           1           3       1      True   \n",
       "8  23 - Trigonometría     p039e02           1           3       1      True   \n",
       "\n",
       "   sol_tex  \n",
       "4     True  \n",
       "5     True  \n",
       "6     True  \n",
       "7     True  \n",
       "8     True  "
      ]
     },
     "metadata": {},
     "output_type": "display_data"
    },
    {
     "data": {
      "text/markdown": [
       "**Ejercicio: **p039e05y6"
      ],
      "text/plain": [
       "<IPython.core.display.Markdown object>"
      ]
     },
     "metadata": {},
     "output_type": "display_data"
    },
    {
     "data": {
      "text/html": [
       "<div>\n",
       "<style scoped>\n",
       "    .dataframe tbody tr th:only-of-type {\n",
       "        vertical-align: middle;\n",
       "    }\n",
       "\n",
       "    .dataframe tbody tr th {\n",
       "        vertical-align: top;\n",
       "    }\n",
       "\n",
       "    .dataframe thead th {\n",
       "        text-align: right;\n",
       "    }\n",
       "</style>\n",
       "<table border=\"1\" class=\"dataframe\">\n",
       "  <thead>\n",
       "    <tr style=\"text-align: right;\">\n",
       "      <th></th>\n",
       "      <th>enunciado_latex</th>\n",
       "      <th>enunciado</th>\n",
       "      <th>solucion</th>\n",
       "      <th>texto</th>\n",
       "      <th>curso</th>\n",
       "      <th>titulo</th>\n",
       "      <th>n_ejercicio</th>\n",
       "      <th>dificultad</th>\n",
       "      <th>n_columnas</th>\n",
       "      <th>puntos</th>\n",
       "      <th>enun_tex</th>\n",
       "      <th>sol_tex</th>\n",
       "    </tr>\n",
       "  </thead>\n",
       "  <tbody>\n",
       "    <tr>\n",
       "      <th>9</th>\n",
       "      <td>\\sec^2\\alpha+\\csc^2\\alpha={\\sec^2\\alpha}\\cdot{...</td>\n",
       "      <td>Eq(csc(alpha)**2 + sec(alpha)**2, csc(alpha)**...</td>\n",
       "      <td>\\left [ \\frac{8}{- \\cos{\\left (4 \\alpha \\right...</td>\n",
       "      <td>Demostrar si son verdaderas o falsas las sigui...</td>\n",
       "      <td>1BC</td>\n",
       "      <td>23 - Trigonometría</td>\n",
       "      <td>p039e05y6</td>\n",
       "      <td>1</td>\n",
       "      <td>1</td>\n",
       "      <td>1</td>\n",
       "      <td>True</td>\n",
       "      <td>True</td>\n",
       "    </tr>\n",
       "    <tr>\n",
       "      <th>10</th>\n",
       "      <td>\\frac{\\tan\\alpha+\\tan\\beta}{\\cot\\alpha+\\cot\\be...</td>\n",
       "      <td>Eq((tan(alpha) + tan(beta))/(cot(alpha) + cot(...</td>\n",
       "      <td>\\left [ \\tan{\\left (\\alpha \\right )} \\tan{\\lef...</td>\n",
       "      <td>Demostrar si son verdaderas o falsas las sigui...</td>\n",
       "      <td>1BC</td>\n",
       "      <td>23 - Trigonometría</td>\n",
       "      <td>p039e05y6</td>\n",
       "      <td>1</td>\n",
       "      <td>1</td>\n",
       "      <td>1</td>\n",
       "      <td>True</td>\n",
       "      <td>True</td>\n",
       "    </tr>\n",
       "    <tr>\n",
       "      <th>11</th>\n",
       "      <td>\\frac{{\\sin\\alpha}\\cdot{\\cos\\alpha}}{{\\cos^2\\a...</td>\n",
       "      <td>Eq((sin(alpha)*cos(alpha))/(-sin(alpha)**2 + c...</td>\n",
       "      <td>\\left [ \\frac{\\tan{\\left (2 \\alpha \\right )}}{...</td>\n",
       "      <td>Demostrar si son verdaderas o falsas las sigui...</td>\n",
       "      <td>1BC</td>\n",
       "      <td>23 - Trigonometría</td>\n",
       "      <td>p039e05y6</td>\n",
       "      <td>1</td>\n",
       "      <td>1</td>\n",
       "      <td>1</td>\n",
       "      <td>True</td>\n",
       "      <td>True</td>\n",
       "    </tr>\n",
       "    <tr>\n",
       "      <th>12</th>\n",
       "      <td>\\cot\\alpha-\\frac{{\\cot^2\\alpha}-1}{\\cot\\alpha}...</td>\n",
       "      <td>Eq(-(cot(alpha)**2 - 1)/cot(alpha) + cot(alpha...</td>\n",
       "      <td>\\left [ \\tan{\\left (\\alpha \\right )}, \\quad \\t...</td>\n",
       "      <td>Demostrar si son verdaderas o falsas las sigui...</td>\n",
       "      <td>1BC</td>\n",
       "      <td>23 - Trigonometría</td>\n",
       "      <td>p039e05y6</td>\n",
       "      <td>1</td>\n",
       "      <td>1</td>\n",
       "      <td>1</td>\n",
       "      <td>True</td>\n",
       "      <td>True</td>\n",
       "    </tr>\n",
       "    <tr>\n",
       "      <th>13</th>\n",
       "      <td>\\frac{\\sin\\alpha+ \\cot \\alpha}{\\tan\\alpha+ \\cs...</td>\n",
       "      <td>Eq((sin(alpha) + cot(alpha))/(tan(alpha) + csc...</td>\n",
       "      <td>\\left [ \\cos{\\left (\\alpha \\right )}, \\quad \\c...</td>\n",
       "      <td>Demostrar si son verdaderas o falsas las sigui...</td>\n",
       "      <td>1BC</td>\n",
       "      <td>23 - Trigonometría</td>\n",
       "      <td>p039e05y6</td>\n",
       "      <td>1</td>\n",
       "      <td>1</td>\n",
       "      <td>1</td>\n",
       "      <td>True</td>\n",
       "      <td>True</td>\n",
       "    </tr>\n",
       "    <tr>\n",
       "      <th>14</th>\n",
       "      <td>\\cot^2\\alpha-\\cos^2\\alpha={\\cot^2\\alpha}\\cdot{...</td>\n",
       "      <td>Eq(-cos(alpha)**2 + cot(alpha)**2, cos(alpha)*...</td>\n",
       "      <td>\\left [ - \\cos^{2}{\\left (\\alpha \\right )} + \\...</td>\n",
       "      <td>Demostrar si son verdaderas o falsas las sigui...</td>\n",
       "      <td>1BC</td>\n",
       "      <td>23 - Trigonometría</td>\n",
       "      <td>p039e05y6</td>\n",
       "      <td>1</td>\n",
       "      <td>1</td>\n",
       "      <td>1</td>\n",
       "      <td>True</td>\n",
       "      <td>True</td>\n",
       "    </tr>\n",
       "    <tr>\n",
       "      <th>15</th>\n",
       "      <td>\\sin\\alpha\\cos\\alpha\\tan\\alpha\\cot\\alpha\\sec\\a...</td>\n",
       "      <td>Eq(((((csc(alpha)*sec(alpha))*cot(alpha))*tan(...</td>\n",
       "      <td>\\left [ 1, \\quad 1\\right ] \\to \\mathrm{True}</td>\n",
       "      <td>Demostrar si son verdaderas o falsas las sigui...</td>\n",
       "      <td>1BC</td>\n",
       "      <td>23 - Trigonometría</td>\n",
       "      <td>p039e05y6</td>\n",
       "      <td>1</td>\n",
       "      <td>1</td>\n",
       "      <td>1</td>\n",
       "      <td>True</td>\n",
       "      <td>True</td>\n",
       "    </tr>\n",
       "    <tr>\n",
       "      <th>16</th>\n",
       "      <td>\\frac{1+\\tan\\alpha}{1-\\tan\\alpha}=\\frac{\\cos\\a...</td>\n",
       "      <td>Eq((tan(alpha) + 1)/(-tan(alpha) + 1), (sin(al...</td>\n",
       "      <td>\\left [ \\frac{\\tan{\\left (\\alpha \\right )} + 1...</td>\n",
       "      <td>Demostrar si son verdaderas o falsas las sigui...</td>\n",
       "      <td>1BC</td>\n",
       "      <td>23 - Trigonometría</td>\n",
       "      <td>p039e05y6</td>\n",
       "      <td>1</td>\n",
       "      <td>1</td>\n",
       "      <td>1</td>\n",
       "      <td>True</td>\n",
       "      <td>True</td>\n",
       "    </tr>\n",
       "    <tr>\n",
       "      <th>17</th>\n",
       "      <td>\\frac{1+\\tan^2\\alpha}{\\cot\\alpha}=\\frac{\\tan\\a...</td>\n",
       "      <td>Eq((tan(alpha)**2 + 1)/cot(alpha), tan(alpha)/...</td>\n",
       "      <td>\\left [ \\frac{\\tan{\\left (\\alpha \\right )}}{\\c...</td>\n",
       "      <td>Demostrar si son verdaderas o falsas las sigui...</td>\n",
       "      <td>1BC</td>\n",
       "      <td>23 - Trigonometría</td>\n",
       "      <td>p039e05y6</td>\n",
       "      <td>1</td>\n",
       "      <td>1</td>\n",
       "      <td>1</td>\n",
       "      <td>True</td>\n",
       "      <td>True</td>\n",
       "    </tr>\n",
       "  </tbody>\n",
       "</table>\n",
       "</div>"
      ],
      "text/plain": [
       "                                      enunciado_latex  \\\n",
       "9   \\sec^2\\alpha+\\csc^2\\alpha={\\sec^2\\alpha}\\cdot{...   \n",
       "10  \\frac{\\tan\\alpha+\\tan\\beta}{\\cot\\alpha+\\cot\\be...   \n",
       "11  \\frac{{\\sin\\alpha}\\cdot{\\cos\\alpha}}{{\\cos^2\\a...   \n",
       "12  \\cot\\alpha-\\frac{{\\cot^2\\alpha}-1}{\\cot\\alpha}...   \n",
       "13  \\frac{\\sin\\alpha+ \\cot \\alpha}{\\tan\\alpha+ \\cs...   \n",
       "14  \\cot^2\\alpha-\\cos^2\\alpha={\\cot^2\\alpha}\\cdot{...   \n",
       "15  \\sin\\alpha\\cos\\alpha\\tan\\alpha\\cot\\alpha\\sec\\a...   \n",
       "16  \\frac{1+\\tan\\alpha}{1-\\tan\\alpha}=\\frac{\\cos\\a...   \n",
       "17  \\frac{1+\\tan^2\\alpha}{\\cot\\alpha}=\\frac{\\tan\\a...   \n",
       "\n",
       "                                            enunciado  \\\n",
       "9   Eq(csc(alpha)**2 + sec(alpha)**2, csc(alpha)**...   \n",
       "10  Eq((tan(alpha) + tan(beta))/(cot(alpha) + cot(...   \n",
       "11  Eq((sin(alpha)*cos(alpha))/(-sin(alpha)**2 + c...   \n",
       "12  Eq(-(cot(alpha)**2 - 1)/cot(alpha) + cot(alpha...   \n",
       "13  Eq((sin(alpha) + cot(alpha))/(tan(alpha) + csc...   \n",
       "14  Eq(-cos(alpha)**2 + cot(alpha)**2, cos(alpha)*...   \n",
       "15  Eq(((((csc(alpha)*sec(alpha))*cot(alpha))*tan(...   \n",
       "16  Eq((tan(alpha) + 1)/(-tan(alpha) + 1), (sin(al...   \n",
       "17  Eq((tan(alpha)**2 + 1)/cot(alpha), tan(alpha)/...   \n",
       "\n",
       "                                             solucion  \\\n",
       "9   \\left [ \\frac{8}{- \\cos{\\left (4 \\alpha \\right...   \n",
       "10  \\left [ \\tan{\\left (\\alpha \\right )} \\tan{\\lef...   \n",
       "11  \\left [ \\frac{\\tan{\\left (2 \\alpha \\right )}}{...   \n",
       "12  \\left [ \\tan{\\left (\\alpha \\right )}, \\quad \\t...   \n",
       "13  \\left [ \\cos{\\left (\\alpha \\right )}, \\quad \\c...   \n",
       "14  \\left [ - \\cos^{2}{\\left (\\alpha \\right )} + \\...   \n",
       "15       \\left [ 1, \\quad 1\\right ] \\to \\mathrm{True}   \n",
       "16  \\left [ \\frac{\\tan{\\left (\\alpha \\right )} + 1...   \n",
       "17  \\left [ \\frac{\\tan{\\left (\\alpha \\right )}}{\\c...   \n",
       "\n",
       "                                                texto curso  \\\n",
       "9   Demostrar si son verdaderas o falsas las sigui...   1BC   \n",
       "10  Demostrar si son verdaderas o falsas las sigui...   1BC   \n",
       "11  Demostrar si son verdaderas o falsas las sigui...   1BC   \n",
       "12  Demostrar si son verdaderas o falsas las sigui...   1BC   \n",
       "13  Demostrar si son verdaderas o falsas las sigui...   1BC   \n",
       "14  Demostrar si son verdaderas o falsas las sigui...   1BC   \n",
       "15  Demostrar si son verdaderas o falsas las sigui...   1BC   \n",
       "16  Demostrar si son verdaderas o falsas las sigui...   1BC   \n",
       "17  Demostrar si son verdaderas o falsas las sigui...   1BC   \n",
       "\n",
       "                titulo n_ejercicio  dificultad  n_columnas  puntos  enun_tex  \\\n",
       "9   23 - Trigonometría   p039e05y6           1           1       1      True   \n",
       "10  23 - Trigonometría   p039e05y6           1           1       1      True   \n",
       "11  23 - Trigonometría   p039e05y6           1           1       1      True   \n",
       "12  23 - Trigonometría   p039e05y6           1           1       1      True   \n",
       "13  23 - Trigonometría   p039e05y6           1           1       1      True   \n",
       "14  23 - Trigonometría   p039e05y6           1           1       1      True   \n",
       "15  23 - Trigonometría   p039e05y6           1           1       1      True   \n",
       "16  23 - Trigonometría   p039e05y6           1           1       1      True   \n",
       "17  23 - Trigonometría   p039e05y6           1           1       1      True   \n",
       "\n",
       "    sol_tex  \n",
       "9      True  \n",
       "10     True  \n",
       "11     True  \n",
       "12     True  \n",
       "13     True  \n",
       "14     True  \n",
       "15     True  \n",
       "16     True  \n",
       "17     True  "
      ]
     },
     "metadata": {},
     "output_type": "display_data"
    },
    {
     "data": {
      "text/markdown": [
       "**Ejercicio: **p039e07"
      ],
      "text/plain": [
       "<IPython.core.display.Markdown object>"
      ]
     },
     "metadata": {},
     "output_type": "display_data"
    },
    {
     "data": {
      "text/html": [
       "<div>\n",
       "<style scoped>\n",
       "    .dataframe tbody tr th:only-of-type {\n",
       "        vertical-align: middle;\n",
       "    }\n",
       "\n",
       "    .dataframe tbody tr th {\n",
       "        vertical-align: top;\n",
       "    }\n",
       "\n",
       "    .dataframe thead th {\n",
       "        text-align: right;\n",
       "    }\n",
       "</style>\n",
       "<table border=\"1\" class=\"dataframe\">\n",
       "  <thead>\n",
       "    <tr style=\"text-align: right;\">\n",
       "      <th></th>\n",
       "      <th>enunciado_latex</th>\n",
       "      <th>enunciado</th>\n",
       "      <th>solucion</th>\n",
       "      <th>texto</th>\n",
       "      <th>curso</th>\n",
       "      <th>titulo</th>\n",
       "      <th>n_ejercicio</th>\n",
       "      <th>dificultad</th>\n",
       "      <th>n_columnas</th>\n",
       "      <th>puntos</th>\n",
       "      <th>enun_tex</th>\n",
       "      <th>sol_tex</th>\n",
       "    </tr>\n",
       "  </thead>\n",
       "  <tbody>\n",
       "    <tr>\n",
       "      <th>18</th>\n",
       "      <td>{\\sin\\alpha}\\cdot{\\frac{1}{\\tan\\alpha}}</td>\n",
       "      <td>sin(alpha)/tan(alpha)</td>\n",
       "      <td>\\cos{\\left (\\alpha \\right )}</td>\n",
       "      <td>Simplificar las siguientes expresiones:</td>\n",
       "      <td>1BC</td>\n",
       "      <td>23 - Trigonometría</td>\n",
       "      <td>p039e07</td>\n",
       "      <td>1</td>\n",
       "      <td>1</td>\n",
       "      <td>1</td>\n",
       "      <td>True</td>\n",
       "      <td>True</td>\n",
       "    </tr>\n",
       "    <tr>\n",
       "      <th>19</th>\n",
       "      <td>\\sin^3\\alpha+{\\sin\\alpha}\\cdot{\\cos^2\\alpha}</td>\n",
       "      <td>sin(alpha)**3 + sin(alpha)*cos(alpha)**2</td>\n",
       "      <td>\\sin{\\left (\\alpha \\right )}</td>\n",
       "      <td>Simplificar las siguientes expresiones:</td>\n",
       "      <td>1BC</td>\n",
       "      <td>23 - Trigonometría</td>\n",
       "      <td>p039e07</td>\n",
       "      <td>1</td>\n",
       "      <td>1</td>\n",
       "      <td>1</td>\n",
       "      <td>True</td>\n",
       "      <td>True</td>\n",
       "    </tr>\n",
       "    <tr>\n",
       "      <th>20</th>\n",
       "      <td>\\sqrt{(1-\\sin\\alpha)\\cdot(1+\\sin\\alpha)}</td>\n",
       "      <td>sqrt((-sin(alpha) + 1)*(sin(alpha) + 1))</td>\n",
       "      <td>\\sqrt{\\cos^{2}{\\left (\\alpha \\right )}}</td>\n",
       "      <td>Simplificar las siguientes expresiones:</td>\n",
       "      <td>1BC</td>\n",
       "      <td>23 - Trigonometría</td>\n",
       "      <td>p039e07</td>\n",
       "      <td>1</td>\n",
       "      <td>1</td>\n",
       "      <td>1</td>\n",
       "      <td>True</td>\n",
       "      <td>True</td>\n",
       "    </tr>\n",
       "    <tr>\n",
       "      <th>21</th>\n",
       "      <td>\\sin^4\\alpha-\\cos^4\\alpha</td>\n",
       "      <td>sin(alpha)**4 - cos(alpha)**4</td>\n",
       "      <td>- \\cos{\\left (2 \\alpha \\right )}</td>\n",
       "      <td>Simplificar las siguientes expresiones:</td>\n",
       "      <td>1BC</td>\n",
       "      <td>23 - Trigonometría</td>\n",
       "      <td>p039e07</td>\n",
       "      <td>1</td>\n",
       "      <td>1</td>\n",
       "      <td>1</td>\n",
       "      <td>True</td>\n",
       "      <td>True</td>\n",
       "    </tr>\n",
       "    <tr>\n",
       "      <th>22</th>\n",
       "      <td>\\cos^3\\alpha+{\\cos^2\\alpha}\\cdot{\\sin\\alpha}+{...</td>\n",
       "      <td>sin(alpha)*cos(alpha)**2 + cos(alpha)**3 + sin...</td>\n",
       "      <td>\\sqrt{2} \\sin{\\left (\\alpha + \\frac{\\pi}{4} \\r...</td>\n",
       "      <td>Simplificar las siguientes expresiones:</td>\n",
       "      <td>1BC</td>\n",
       "      <td>23 - Trigonometría</td>\n",
       "      <td>p039e07</td>\n",
       "      <td>1</td>\n",
       "      <td>1</td>\n",
       "      <td>1</td>\n",
       "      <td>True</td>\n",
       "      <td>True</td>\n",
       "    </tr>\n",
       "    <tr>\n",
       "      <th>23</th>\n",
       "      <td>{\\sin\\alpha}\\cdot{\\cos\\alpha}\\cdot(\\tan\\alpha+...</td>\n",
       "      <td>(sin(alpha)*cos(alpha))*(tan(alpha) + 1/tan(al...</td>\n",
       "      <td>1</td>\n",
       "      <td>Simplificar las siguientes expresiones:</td>\n",
       "      <td>1BC</td>\n",
       "      <td>23 - Trigonometría</td>\n",
       "      <td>p039e07</td>\n",
       "      <td>1</td>\n",
       "      <td>1</td>\n",
       "      <td>1</td>\n",
       "      <td>True</td>\n",
       "      <td>True</td>\n",
       "    </tr>\n",
       "    <tr>\n",
       "      <th>24</th>\n",
       "      <td>\\frac{\\cos^2\\alpha-\\sin^2\\alpha}{\\cos^4\\alpha-...</td>\n",
       "      <td>(-sin(alpha)**2 + cos(alpha)**2)/(-sin(alpha)*...</td>\n",
       "      <td>1</td>\n",
       "      <td>Simplificar las siguientes expresiones:</td>\n",
       "      <td>1BC</td>\n",
       "      <td>23 - Trigonometría</td>\n",
       "      <td>p039e07</td>\n",
       "      <td>1</td>\n",
       "      <td>1</td>\n",
       "      <td>1</td>\n",
       "      <td>True</td>\n",
       "      <td>True</td>\n",
       "    </tr>\n",
       "    <tr>\n",
       "      <th>25</th>\n",
       "      <td>\\frac{\\sec^2\\alpha+\\cos^2\\alpha}{\\sec^2\\alpha-...</td>\n",
       "      <td>(cos(alpha)**2 + sec(alpha)**2)/(-cos(alpha)**...</td>\n",
       "      <td>\\frac{\\left(- \\cos^{2}{\\left (\\alpha \\right )}...</td>\n",
       "      <td>Simplificar las siguientes expresiones:</td>\n",
       "      <td>1BC</td>\n",
       "      <td>23 - Trigonometría</td>\n",
       "      <td>p039e07</td>\n",
       "      <td>1</td>\n",
       "      <td>1</td>\n",
       "      <td>1</td>\n",
       "      <td>True</td>\n",
       "      <td>True</td>\n",
       "    </tr>\n",
       "    <tr>\n",
       "      <th>26</th>\n",
       "      <td>\\frac{\\cos^2\\alpha}{1-\\sin\\alpha}</td>\n",
       "      <td>cos(alpha)**2/(-sin(alpha) + 1)</td>\n",
       "      <td>\\sin{\\left (\\alpha \\right )} + 1</td>\n",
       "      <td>Simplificar las siguientes expresiones:</td>\n",
       "      <td>1BC</td>\n",
       "      <td>23 - Trigonometría</td>\n",
       "      <td>p039e07</td>\n",
       "      <td>1</td>\n",
       "      <td>1</td>\n",
       "      <td>1</td>\n",
       "      <td>True</td>\n",
       "      <td>True</td>\n",
       "    </tr>\n",
       "    <tr>\n",
       "      <th>27</th>\n",
       "      <td>\\frac{\\csc\\alpha}{1+\\cot^2\\alpha}</td>\n",
       "      <td>csc(alpha)/(cot(alpha)**2 + 1)</td>\n",
       "      <td>\\sin{\\left (\\alpha \\right )}</td>\n",
       "      <td>Simplificar las siguientes expresiones:</td>\n",
       "      <td>1BC</td>\n",
       "      <td>23 - Trigonometría</td>\n",
       "      <td>p039e07</td>\n",
       "      <td>1</td>\n",
       "      <td>1</td>\n",
       "      <td>1</td>\n",
       "      <td>True</td>\n",
       "      <td>True</td>\n",
       "    </tr>\n",
       "  </tbody>\n",
       "</table>\n",
       "</div>"
      ],
      "text/plain": [
       "                                      enunciado_latex  \\\n",
       "18            {\\sin\\alpha}\\cdot{\\frac{1}{\\tan\\alpha}}   \n",
       "19       \\sin^3\\alpha+{\\sin\\alpha}\\cdot{\\cos^2\\alpha}   \n",
       "20           \\sqrt{(1-\\sin\\alpha)\\cdot(1+\\sin\\alpha)}   \n",
       "21                          \\sin^4\\alpha-\\cos^4\\alpha   \n",
       "22  \\cos^3\\alpha+{\\cos^2\\alpha}\\cdot{\\sin\\alpha}+{...   \n",
       "23  {\\sin\\alpha}\\cdot{\\cos\\alpha}\\cdot(\\tan\\alpha+...   \n",
       "24  \\frac{\\cos^2\\alpha-\\sin^2\\alpha}{\\cos^4\\alpha-...   \n",
       "25  \\frac{\\sec^2\\alpha+\\cos^2\\alpha}{\\sec^2\\alpha-...   \n",
       "26                  \\frac{\\cos^2\\alpha}{1-\\sin\\alpha}   \n",
       "27                  \\frac{\\csc\\alpha}{1+\\cot^2\\alpha}   \n",
       "\n",
       "                                            enunciado  \\\n",
       "18                              sin(alpha)/tan(alpha)   \n",
       "19           sin(alpha)**3 + sin(alpha)*cos(alpha)**2   \n",
       "20           sqrt((-sin(alpha) + 1)*(sin(alpha) + 1))   \n",
       "21                      sin(alpha)**4 - cos(alpha)**4   \n",
       "22  sin(alpha)*cos(alpha)**2 + cos(alpha)**3 + sin...   \n",
       "23  (sin(alpha)*cos(alpha))*(tan(alpha) + 1/tan(al...   \n",
       "24  (-sin(alpha)**2 + cos(alpha)**2)/(-sin(alpha)*...   \n",
       "25  (cos(alpha)**2 + sec(alpha)**2)/(-cos(alpha)**...   \n",
       "26                    cos(alpha)**2/(-sin(alpha) + 1)   \n",
       "27                     csc(alpha)/(cot(alpha)**2 + 1)   \n",
       "\n",
       "                                             solucion  \\\n",
       "18                       \\cos{\\left (\\alpha \\right )}   \n",
       "19                       \\sin{\\left (\\alpha \\right )}   \n",
       "20            \\sqrt{\\cos^{2}{\\left (\\alpha \\right )}}   \n",
       "21                   - \\cos{\\left (2 \\alpha \\right )}   \n",
       "22  \\sqrt{2} \\sin{\\left (\\alpha + \\frac{\\pi}{4} \\r...   \n",
       "23                                                  1   \n",
       "24                                                  1   \n",
       "25  \\frac{\\left(- \\cos^{2}{\\left (\\alpha \\right )}...   \n",
       "26                   \\sin{\\left (\\alpha \\right )} + 1   \n",
       "27                       \\sin{\\left (\\alpha \\right )}   \n",
       "\n",
       "                                      texto curso              titulo  \\\n",
       "18  Simplificar las siguientes expresiones:   1BC  23 - Trigonometría   \n",
       "19  Simplificar las siguientes expresiones:   1BC  23 - Trigonometría   \n",
       "20  Simplificar las siguientes expresiones:   1BC  23 - Trigonometría   \n",
       "21  Simplificar las siguientes expresiones:   1BC  23 - Trigonometría   \n",
       "22  Simplificar las siguientes expresiones:   1BC  23 - Trigonometría   \n",
       "23  Simplificar las siguientes expresiones:   1BC  23 - Trigonometría   \n",
       "24  Simplificar las siguientes expresiones:   1BC  23 - Trigonometría   \n",
       "25  Simplificar las siguientes expresiones:   1BC  23 - Trigonometría   \n",
       "26  Simplificar las siguientes expresiones:   1BC  23 - Trigonometría   \n",
       "27  Simplificar las siguientes expresiones:   1BC  23 - Trigonometría   \n",
       "\n",
       "   n_ejercicio  dificultad  n_columnas  puntos  enun_tex  sol_tex  \n",
       "18     p039e07           1           1       1      True     True  \n",
       "19     p039e07           1           1       1      True     True  \n",
       "20     p039e07           1           1       1      True     True  \n",
       "21     p039e07           1           1       1      True     True  \n",
       "22     p039e07           1           1       1      True     True  \n",
       "23     p039e07           1           1       1      True     True  \n",
       "24     p039e07           1           1       1      True     True  \n",
       "25     p039e07           1           1       1      True     True  \n",
       "26     p039e07           1           1       1      True     True  \n",
       "27     p039e07           1           1       1      True     True  "
      ]
     },
     "metadata": {},
     "output_type": "display_data"
    },
    {
     "data": {
      "text/markdown": [
       "**Ejercicio: **p039e08"
      ],
      "text/plain": [
       "<IPython.core.display.Markdown object>"
      ]
     },
     "metadata": {},
     "output_type": "display_data"
    },
    {
     "data": {
      "text/html": [
       "<div>\n",
       "<style scoped>\n",
       "    .dataframe tbody tr th:only-of-type {\n",
       "        vertical-align: middle;\n",
       "    }\n",
       "\n",
       "    .dataframe tbody tr th {\n",
       "        vertical-align: top;\n",
       "    }\n",
       "\n",
       "    .dataframe thead th {\n",
       "        text-align: right;\n",
       "    }\n",
       "</style>\n",
       "<table border=\"1\" class=\"dataframe\">\n",
       "  <thead>\n",
       "    <tr style=\"text-align: right;\">\n",
       "      <th></th>\n",
       "      <th>enunciado_latex</th>\n",
       "      <th>enunciado</th>\n",
       "      <th>solucion</th>\n",
       "      <th>texto</th>\n",
       "      <th>curso</th>\n",
       "      <th>titulo</th>\n",
       "      <th>n_ejercicio</th>\n",
       "      <th>dificultad</th>\n",
       "      <th>n_columnas</th>\n",
       "      <th>puntos</th>\n",
       "      <th>enun_tex</th>\n",
       "      <th>sol_tex</th>\n",
       "    </tr>\n",
       "  </thead>\n",
       "  <tbody>\n",
       "    <tr>\n",
       "      <th>28</th>\n",
       "      <td>\\cos\\alpha=\\frac{4}{5} \\land \\alpha \\in I</td>\n",
       "      <td>['36.86989764584401', '3/5', '4/5', '3/4']</td>\n",
       "      <td>\\left [ 36.86989764584401, \\quad \\frac{3}{5}, ...</td>\n",
       "      <td>Calcular las restantes razones trigonométricas...</td>\n",
       "      <td>1BC</td>\n",
       "      <td>23 - Trigonometría</td>\n",
       "      <td>p039e08</td>\n",
       "      <td>1</td>\n",
       "      <td>1</td>\n",
       "      <td>1</td>\n",
       "      <td>True</td>\n",
       "      <td>True</td>\n",
       "    </tr>\n",
       "    <tr>\n",
       "      <th>29</th>\n",
       "      <td>\\sin\\alpha=\\frac{3}{5} \\land \\alpha \\in II</td>\n",
       "      <td>['36.86989764584402', '3/5', '-4/5', '-3/4']</td>\n",
       "      <td>\\left [ 36.86989764584402, \\quad \\frac{3}{5}, ...</td>\n",
       "      <td>Calcular las restantes razones trigonométricas...</td>\n",
       "      <td>1BC</td>\n",
       "      <td>23 - Trigonometría</td>\n",
       "      <td>p039e08</td>\n",
       "      <td>1</td>\n",
       "      <td>1</td>\n",
       "      <td>1</td>\n",
       "      <td>True</td>\n",
       "      <td>True</td>\n",
       "    </tr>\n",
       "    <tr>\n",
       "      <th>30</th>\n",
       "      <td>\\tan\\alpha=-\\frac{3}{4} \\land \\alpha \\in II</td>\n",
       "      <td>['36.86989764584402', '3/5', '-4/5', '-3/4']</td>\n",
       "      <td>\\left [ 36.86989764584402, \\quad \\frac{3}{5}, ...</td>\n",
       "      <td>Calcular las restantes razones trigonométricas...</td>\n",
       "      <td>1BC</td>\n",
       "      <td>23 - Trigonometría</td>\n",
       "      <td>p039e08</td>\n",
       "      <td>1</td>\n",
       "      <td>1</td>\n",
       "      <td>1</td>\n",
       "      <td>True</td>\n",
       "      <td>True</td>\n",
       "    </tr>\n",
       "    <tr>\n",
       "      <th>31</th>\n",
       "      <td>\\sec\\alpha=2 \\land \\alpha \\in IV</td>\n",
       "      <td>['60.0', '-sqrt(3)/2', '1/2', '-sqrt(3)']</td>\n",
       "      <td>\\left [ 60.0, \\quad - \\frac{\\sqrt{3}}{2}, \\qua...</td>\n",
       "      <td>Calcular las restantes razones trigonométricas...</td>\n",
       "      <td>1BC</td>\n",
       "      <td>23 - Trigonometría</td>\n",
       "      <td>p039e08</td>\n",
       "      <td>1</td>\n",
       "      <td>1</td>\n",
       "      <td>1</td>\n",
       "      <td>True</td>\n",
       "      <td>True</td>\n",
       "    </tr>\n",
       "    <tr>\n",
       "      <th>32</th>\n",
       "      <td>\\csc\\alpha=-2 \\land \\alpha \\in III</td>\n",
       "      <td>['30.0', '-1/2', '-sqrt(3)/2', 'sqrt(3)/3']</td>\n",
       "      <td>\\left [ 30.0, \\quad - \\frac{1}{2}, \\quad - \\fr...</td>\n",
       "      <td>Calcular las restantes razones trigonométricas...</td>\n",
       "      <td>1BC</td>\n",
       "      <td>23 - Trigonometría</td>\n",
       "      <td>p039e08</td>\n",
       "      <td>1</td>\n",
       "      <td>1</td>\n",
       "      <td>1</td>\n",
       "      <td>True</td>\n",
       "      <td>True</td>\n",
       "    </tr>\n",
       "    <tr>\n",
       "      <th>33</th>\n",
       "      <td>\\cot\\alpha=-2 \\land \\alpha \\in IV</td>\n",
       "      <td>['26.56505117707799', '-sqrt(5)/5', '2*sqrt(5)...</td>\n",
       "      <td>\\left [ 26.56505117707799, \\quad - \\frac{\\sqrt...</td>\n",
       "      <td>Calcular las restantes razones trigonométricas...</td>\n",
       "      <td>1BC</td>\n",
       "      <td>23 - Trigonometría</td>\n",
       "      <td>p039e08</td>\n",
       "      <td>1</td>\n",
       "      <td>1</td>\n",
       "      <td>1</td>\n",
       "      <td>True</td>\n",
       "      <td>True</td>\n",
       "    </tr>\n",
       "  </tbody>\n",
       "</table>\n",
       "</div>"
      ],
      "text/plain": [
       "                                enunciado_latex  \\\n",
       "28    \\cos\\alpha=\\frac{4}{5} \\land \\alpha \\in I   \n",
       "29   \\sin\\alpha=\\frac{3}{5} \\land \\alpha \\in II   \n",
       "30  \\tan\\alpha=-\\frac{3}{4} \\land \\alpha \\in II   \n",
       "31             \\sec\\alpha=2 \\land \\alpha \\in IV   \n",
       "32           \\csc\\alpha=-2 \\land \\alpha \\in III   \n",
       "33            \\cot\\alpha=-2 \\land \\alpha \\in IV   \n",
       "\n",
       "                                            enunciado  \\\n",
       "28         ['36.86989764584401', '3/5', '4/5', '3/4']   \n",
       "29       ['36.86989764584402', '3/5', '-4/5', '-3/4']   \n",
       "30       ['36.86989764584402', '3/5', '-4/5', '-3/4']   \n",
       "31          ['60.0', '-sqrt(3)/2', '1/2', '-sqrt(3)']   \n",
       "32        ['30.0', '-1/2', '-sqrt(3)/2', 'sqrt(3)/3']   \n",
       "33  ['26.56505117707799', '-sqrt(5)/5', '2*sqrt(5)...   \n",
       "\n",
       "                                             solucion  \\\n",
       "28  \\left [ 36.86989764584401, \\quad \\frac{3}{5}, ...   \n",
       "29  \\left [ 36.86989764584402, \\quad \\frac{3}{5}, ...   \n",
       "30  \\left [ 36.86989764584402, \\quad \\frac{3}{5}, ...   \n",
       "31  \\left [ 60.0, \\quad - \\frac{\\sqrt{3}}{2}, \\qua...   \n",
       "32  \\left [ 30.0, \\quad - \\frac{1}{2}, \\quad - \\fr...   \n",
       "33  \\left [ 26.56505117707799, \\quad - \\frac{\\sqrt...   \n",
       "\n",
       "                                                texto curso  \\\n",
       "28  Calcular las restantes razones trigonométricas...   1BC   \n",
       "29  Calcular las restantes razones trigonométricas...   1BC   \n",
       "30  Calcular las restantes razones trigonométricas...   1BC   \n",
       "31  Calcular las restantes razones trigonométricas...   1BC   \n",
       "32  Calcular las restantes razones trigonométricas...   1BC   \n",
       "33  Calcular las restantes razones trigonométricas...   1BC   \n",
       "\n",
       "                titulo n_ejercicio  dificultad  n_columnas  puntos  enun_tex  \\\n",
       "28  23 - Trigonometría     p039e08           1           1       1      True   \n",
       "29  23 - Trigonometría     p039e08           1           1       1      True   \n",
       "30  23 - Trigonometría     p039e08           1           1       1      True   \n",
       "31  23 - Trigonometría     p039e08           1           1       1      True   \n",
       "32  23 - Trigonometría     p039e08           1           1       1      True   \n",
       "33  23 - Trigonometría     p039e08           1           1       1      True   \n",
       "\n",
       "    sol_tex  \n",
       "28     True  \n",
       "29     True  \n",
       "30     True  \n",
       "31     True  \n",
       "32     True  \n",
       "33     True  "
      ]
     },
     "metadata": {},
     "output_type": "display_data"
    },
    {
     "data": {
      "text/markdown": [
       "**Ejercicio: **p039e09"
      ],
      "text/plain": [
       "<IPython.core.display.Markdown object>"
      ]
     },
     "metadata": {},
     "output_type": "display_data"
    },
    {
     "data": {
      "text/html": [
       "<div>\n",
       "<style scoped>\n",
       "    .dataframe tbody tr th:only-of-type {\n",
       "        vertical-align: middle;\n",
       "    }\n",
       "\n",
       "    .dataframe tbody tr th {\n",
       "        vertical-align: top;\n",
       "    }\n",
       "\n",
       "    .dataframe thead th {\n",
       "        text-align: right;\n",
       "    }\n",
       "</style>\n",
       "<table border=\"1\" class=\"dataframe\">\n",
       "  <thead>\n",
       "    <tr style=\"text-align: right;\">\n",
       "      <th></th>\n",
       "      <th>enunciado_latex</th>\n",
       "      <th>enunciado</th>\n",
       "      <th>solucion</th>\n",
       "      <th>texto</th>\n",
       "      <th>curso</th>\n",
       "      <th>titulo</th>\n",
       "      <th>n_ejercicio</th>\n",
       "      <th>dificultad</th>\n",
       "      <th>n_columnas</th>\n",
       "      <th>puntos</th>\n",
       "      <th>enun_tex</th>\n",
       "      <th>sol_tex</th>\n",
       "    </tr>\n",
       "  </thead>\n",
       "  <tbody>\n",
       "    <tr>\n",
       "      <th>34</th>\n",
       "      <td>\\sin(-120)</td>\n",
       "      <td>sin(rad(-120))</td>\n",
       "      <td>\\left [ 60, \\quad - \\frac{\\sqrt{3}}{2}\\right ]</td>\n",
       "      <td>Expresa las siguientes razones trigonométricas...</td>\n",
       "      <td>1BC</td>\n",
       "      <td>23 - Trigonometría</td>\n",
       "      <td>p039e09</td>\n",
       "      <td>1</td>\n",
       "      <td>2</td>\n",
       "      <td>1</td>\n",
       "      <td>True</td>\n",
       "      <td>True</td>\n",
       "    </tr>\n",
       "    <tr>\n",
       "      <th>35</th>\n",
       "      <td>\\sin(2700)</td>\n",
       "      <td>sin(rad(2700))</td>\n",
       "      <td>\\left [ 0, \\quad 0\\right ]</td>\n",
       "      <td>Expresa las siguientes razones trigonométricas...</td>\n",
       "      <td>1BC</td>\n",
       "      <td>23 - Trigonometría</td>\n",
       "      <td>p039e09</td>\n",
       "      <td>1</td>\n",
       "      <td>2</td>\n",
       "      <td>1</td>\n",
       "      <td>True</td>\n",
       "      <td>True</td>\n",
       "    </tr>\n",
       "    <tr>\n",
       "      <th>36</th>\n",
       "      <td>\\cos(-30)</td>\n",
       "      <td>cos(rad(-30))</td>\n",
       "      <td>\\left [ 30, \\quad \\frac{\\sqrt{3}}{2}\\right ]</td>\n",
       "      <td>Expresa las siguientes razones trigonométricas...</td>\n",
       "      <td>1BC</td>\n",
       "      <td>23 - Trigonometría</td>\n",
       "      <td>p039e09</td>\n",
       "      <td>1</td>\n",
       "      <td>2</td>\n",
       "      <td>1</td>\n",
       "      <td>True</td>\n",
       "      <td>True</td>\n",
       "    </tr>\n",
       "    <tr>\n",
       "      <th>37</th>\n",
       "      <td>\\cos(3000)</td>\n",
       "      <td>cos(rad(3000))</td>\n",
       "      <td>\\left [ 60, \\quad - \\frac{1}{2}\\right ]</td>\n",
       "      <td>Expresa las siguientes razones trigonométricas...</td>\n",
       "      <td>1BC</td>\n",
       "      <td>23 - Trigonometría</td>\n",
       "      <td>p039e09</td>\n",
       "      <td>1</td>\n",
       "      <td>2</td>\n",
       "      <td>1</td>\n",
       "      <td>True</td>\n",
       "      <td>True</td>\n",
       "    </tr>\n",
       "    <tr>\n",
       "      <th>38</th>\n",
       "      <td>\\tan(-275)</td>\n",
       "      <td>tan(rad(-275))</td>\n",
       "      <td>\\left [ \\frac{180 \\operatorname{atan}{\\left (\\...</td>\n",
       "      <td>Expresa las siguientes razones trigonométricas...</td>\n",
       "      <td>1BC</td>\n",
       "      <td>23 - Trigonometría</td>\n",
       "      <td>p039e09</td>\n",
       "      <td>1</td>\n",
       "      <td>2</td>\n",
       "      <td>1</td>\n",
       "      <td>True</td>\n",
       "      <td>True</td>\n",
       "    </tr>\n",
       "    <tr>\n",
       "      <th>39</th>\n",
       "      <td>\\tan(10330)</td>\n",
       "      <td>tan(rad(10330))</td>\n",
       "      <td>\\left [ 70, \\quad \\tan{\\left (\\frac{7 \\pi}{18}...</td>\n",
       "      <td>Expresa las siguientes razones trigonométricas...</td>\n",
       "      <td>1BC</td>\n",
       "      <td>23 - Trigonometría</td>\n",
       "      <td>p039e09</td>\n",
       "      <td>1</td>\n",
       "      <td>2</td>\n",
       "      <td>1</td>\n",
       "      <td>True</td>\n",
       "      <td>True</td>\n",
       "    </tr>\n",
       "    <tr>\n",
       "      <th>40</th>\n",
       "      <td>\\cot(-150)</td>\n",
       "      <td>cot(rad(-150))</td>\n",
       "      <td>\\left [ 30, \\quad \\sqrt{3}\\right ]</td>\n",
       "      <td>Expresa las siguientes razones trigonométricas...</td>\n",
       "      <td>1BC</td>\n",
       "      <td>23 - Trigonometría</td>\n",
       "      <td>p039e09</td>\n",
       "      <td>1</td>\n",
       "      <td>2</td>\n",
       "      <td>1</td>\n",
       "      <td>True</td>\n",
       "      <td>True</td>\n",
       "    </tr>\n",
       "    <tr>\n",
       "      <th>41</th>\n",
       "      <td>\\cot(4500)</td>\n",
       "      <td>cot(rad(4500))</td>\n",
       "      <td>\\left [ 0, \\quad \\tilde{\\infty}\\right ]</td>\n",
       "      <td>Expresa las siguientes razones trigonométricas...</td>\n",
       "      <td>1BC</td>\n",
       "      <td>23 - Trigonometría</td>\n",
       "      <td>p039e09</td>\n",
       "      <td>1</td>\n",
       "      <td>2</td>\n",
       "      <td>1</td>\n",
       "      <td>True</td>\n",
       "      <td>True</td>\n",
       "    </tr>\n",
       "    <tr>\n",
       "      <th>42</th>\n",
       "      <td>\\sec(-25)</td>\n",
       "      <td>sec(rad(-25))</td>\n",
       "      <td>\\left [ 25, \\quad \\sec{\\left (\\frac{5 \\pi}{36}...</td>\n",
       "      <td>Expresa las siguientes razones trigonométricas...</td>\n",
       "      <td>1BC</td>\n",
       "      <td>23 - Trigonometría</td>\n",
       "      <td>p039e09</td>\n",
       "      <td>1</td>\n",
       "      <td>2</td>\n",
       "      <td>1</td>\n",
       "      <td>True</td>\n",
       "      <td>True</td>\n",
       "    </tr>\n",
       "    <tr>\n",
       "      <th>43</th>\n",
       "      <td>\\sec(745)</td>\n",
       "      <td>sec(rad(745))</td>\n",
       "      <td>\\left [ 25, \\quad \\sec{\\left (\\frac{149 \\pi}{3...</td>\n",
       "      <td>Expresa las siguientes razones trigonométricas...</td>\n",
       "      <td>1BC</td>\n",
       "      <td>23 - Trigonometría</td>\n",
       "      <td>p039e09</td>\n",
       "      <td>1</td>\n",
       "      <td>2</td>\n",
       "      <td>1</td>\n",
       "      <td>True</td>\n",
       "      <td>True</td>\n",
       "    </tr>\n",
       "    <tr>\n",
       "      <th>44</th>\n",
       "      <td>\\csc(-155)</td>\n",
       "      <td>csc(rad(-155))</td>\n",
       "      <td>\\left [ 25, \\quad - \\csc{\\left (\\frac{5 \\pi}{3...</td>\n",
       "      <td>Expresa las siguientes razones trigonométricas...</td>\n",
       "      <td>1BC</td>\n",
       "      <td>23 - Trigonometría</td>\n",
       "      <td>p039e09</td>\n",
       "      <td>1</td>\n",
       "      <td>2</td>\n",
       "      <td>1</td>\n",
       "      <td>True</td>\n",
       "      <td>True</td>\n",
       "    </tr>\n",
       "    <tr>\n",
       "      <th>45</th>\n",
       "      <td>\\csc(4420)</td>\n",
       "      <td>csc(rad(4420))</td>\n",
       "      <td>\\left [ 80, \\quad \\csc{\\left (\\frac{4 \\pi}{9} ...</td>\n",
       "      <td>Expresa las siguientes razones trigonométricas...</td>\n",
       "      <td>1BC</td>\n",
       "      <td>23 - Trigonometría</td>\n",
       "      <td>p039e09</td>\n",
       "      <td>1</td>\n",
       "      <td>2</td>\n",
       "      <td>1</td>\n",
       "      <td>True</td>\n",
       "      <td>True</td>\n",
       "    </tr>\n",
       "  </tbody>\n",
       "</table>\n",
       "</div>"
      ],
      "text/plain": [
       "   enunciado_latex        enunciado  \\\n",
       "34      \\sin(-120)   sin(rad(-120))   \n",
       "35      \\sin(2700)   sin(rad(2700))   \n",
       "36       \\cos(-30)    cos(rad(-30))   \n",
       "37      \\cos(3000)   cos(rad(3000))   \n",
       "38      \\tan(-275)   tan(rad(-275))   \n",
       "39     \\tan(10330)  tan(rad(10330))   \n",
       "40      \\cot(-150)   cot(rad(-150))   \n",
       "41      \\cot(4500)   cot(rad(4500))   \n",
       "42       \\sec(-25)    sec(rad(-25))   \n",
       "43       \\sec(745)    sec(rad(745))   \n",
       "44      \\csc(-155)   csc(rad(-155))   \n",
       "45      \\csc(4420)   csc(rad(4420))   \n",
       "\n",
       "                                             solucion  \\\n",
       "34     \\left [ 60, \\quad - \\frac{\\sqrt{3}}{2}\\right ]   \n",
       "35                         \\left [ 0, \\quad 0\\right ]   \n",
       "36       \\left [ 30, \\quad \\frac{\\sqrt{3}}{2}\\right ]   \n",
       "37            \\left [ 60, \\quad - \\frac{1}{2}\\right ]   \n",
       "38  \\left [ \\frac{180 \\operatorname{atan}{\\left (\\...   \n",
       "39  \\left [ 70, \\quad \\tan{\\left (\\frac{7 \\pi}{18}...   \n",
       "40                 \\left [ 30, \\quad \\sqrt{3}\\right ]   \n",
       "41            \\left [ 0, \\quad \\tilde{\\infty}\\right ]   \n",
       "42  \\left [ 25, \\quad \\sec{\\left (\\frac{5 \\pi}{36}...   \n",
       "43  \\left [ 25, \\quad \\sec{\\left (\\frac{149 \\pi}{3...   \n",
       "44  \\left [ 25, \\quad - \\csc{\\left (\\frac{5 \\pi}{3...   \n",
       "45  \\left [ 80, \\quad \\csc{\\left (\\frac{4 \\pi}{9} ...   \n",
       "\n",
       "                                                texto curso  \\\n",
       "34  Expresa las siguientes razones trigonométricas...   1BC   \n",
       "35  Expresa las siguientes razones trigonométricas...   1BC   \n",
       "36  Expresa las siguientes razones trigonométricas...   1BC   \n",
       "37  Expresa las siguientes razones trigonométricas...   1BC   \n",
       "38  Expresa las siguientes razones trigonométricas...   1BC   \n",
       "39  Expresa las siguientes razones trigonométricas...   1BC   \n",
       "40  Expresa las siguientes razones trigonométricas...   1BC   \n",
       "41  Expresa las siguientes razones trigonométricas...   1BC   \n",
       "42  Expresa las siguientes razones trigonométricas...   1BC   \n",
       "43  Expresa las siguientes razones trigonométricas...   1BC   \n",
       "44  Expresa las siguientes razones trigonométricas...   1BC   \n",
       "45  Expresa las siguientes razones trigonométricas...   1BC   \n",
       "\n",
       "                titulo n_ejercicio  dificultad  n_columnas  puntos  enun_tex  \\\n",
       "34  23 - Trigonometría     p039e09           1           2       1      True   \n",
       "35  23 - Trigonometría     p039e09           1           2       1      True   \n",
       "36  23 - Trigonometría     p039e09           1           2       1      True   \n",
       "37  23 - Trigonometría     p039e09           1           2       1      True   \n",
       "38  23 - Trigonometría     p039e09           1           2       1      True   \n",
       "39  23 - Trigonometría     p039e09           1           2       1      True   \n",
       "40  23 - Trigonometría     p039e09           1           2       1      True   \n",
       "41  23 - Trigonometría     p039e09           1           2       1      True   \n",
       "42  23 - Trigonometría     p039e09           1           2       1      True   \n",
       "43  23 - Trigonometría     p039e09           1           2       1      True   \n",
       "44  23 - Trigonometría     p039e09           1           2       1      True   \n",
       "45  23 - Trigonometría     p039e09           1           2       1      True   \n",
       "\n",
       "    sol_tex  \n",
       "34     True  \n",
       "35     True  \n",
       "36     True  \n",
       "37     True  \n",
       "38     True  \n",
       "39     True  \n",
       "40     True  \n",
       "41     True  \n",
       "42     True  \n",
       "43     True  \n",
       "44     True  \n",
       "45     True  "
      ]
     },
     "metadata": {},
     "output_type": "display_data"
    },
    {
     "data": {
      "text/markdown": [
       "**Ejercicio: **p039e10"
      ],
      "text/plain": [
       "<IPython.core.display.Markdown object>"
      ]
     },
     "metadata": {},
     "output_type": "display_data"
    },
    {
     "data": {
      "text/html": [
       "<div>\n",
       "<style scoped>\n",
       "    .dataframe tbody tr th:only-of-type {\n",
       "        vertical-align: middle;\n",
       "    }\n",
       "\n",
       "    .dataframe tbody tr th {\n",
       "        vertical-align: top;\n",
       "    }\n",
       "\n",
       "    .dataframe thead th {\n",
       "        text-align: right;\n",
       "    }\n",
       "</style>\n",
       "<table border=\"1\" class=\"dataframe\">\n",
       "  <thead>\n",
       "    <tr style=\"text-align: right;\">\n",
       "      <th></th>\n",
       "      <th>enunciado_latex</th>\n",
       "      <th>enunciado</th>\n",
       "      <th>solucion</th>\n",
       "      <th>texto</th>\n",
       "      <th>curso</th>\n",
       "      <th>titulo</th>\n",
       "      <th>n_ejercicio</th>\n",
       "      <th>dificultad</th>\n",
       "      <th>n_columnas</th>\n",
       "      <th>puntos</th>\n",
       "      <th>enun_tex</th>\n",
       "      <th>sol_tex</th>\n",
       "    </tr>\n",
       "  </thead>\n",
       "  <tbody>\n",
       "    <tr>\n",
       "      <th>46</th>\n",
       "      <td>53</td>\n",
       "      <td>53</td>\n",
       "      <td>\\left [ 0.8, \\quad 0.6, \\quad 1.33\\right ]</td>\n",
       "      <td>Si sen 37º = 0,6. Calcula, sin usar la calcula...</td>\n",
       "      <td>1BC</td>\n",
       "      <td>23 - Trigonometría</td>\n",
       "      <td>p039e10</td>\n",
       "      <td>1</td>\n",
       "      <td>2</td>\n",
       "      <td>1</td>\n",
       "      <td>True</td>\n",
       "      <td>True</td>\n",
       "    </tr>\n",
       "    <tr>\n",
       "      <th>47</th>\n",
       "      <td>127</td>\n",
       "      <td>127</td>\n",
       "      <td>\\left [ 0.8, \\quad -0.6, \\quad -1.33\\right ]</td>\n",
       "      <td>Si sen 37º = 0,6. Calcula, sin usar la calcula...</td>\n",
       "      <td>1BC</td>\n",
       "      <td>23 - Trigonometría</td>\n",
       "      <td>p039e10</td>\n",
       "      <td>1</td>\n",
       "      <td>2</td>\n",
       "      <td>1</td>\n",
       "      <td>True</td>\n",
       "      <td>True</td>\n",
       "    </tr>\n",
       "    <tr>\n",
       "      <th>48</th>\n",
       "      <td>143</td>\n",
       "      <td>143</td>\n",
       "      <td>\\left [ 0.6, \\quad -0.8, \\quad -0.75\\right ]</td>\n",
       "      <td>Si sen 37º = 0,6. Calcula, sin usar la calcula...</td>\n",
       "      <td>1BC</td>\n",
       "      <td>23 - Trigonometría</td>\n",
       "      <td>p039e10</td>\n",
       "      <td>1</td>\n",
       "      <td>2</td>\n",
       "      <td>1</td>\n",
       "      <td>True</td>\n",
       "      <td>True</td>\n",
       "    </tr>\n",
       "  </tbody>\n",
       "</table>\n",
       "</div>"
      ],
      "text/plain": [
       "   enunciado_latex enunciado                                      solucion  \\\n",
       "46              53        53    \\left [ 0.8, \\quad 0.6, \\quad 1.33\\right ]   \n",
       "47             127       127  \\left [ 0.8, \\quad -0.6, \\quad -1.33\\right ]   \n",
       "48             143       143  \\left [ 0.6, \\quad -0.8, \\quad -0.75\\right ]   \n",
       "\n",
       "                                                texto curso  \\\n",
       "46  Si sen 37º = 0,6. Calcula, sin usar la calcula...   1BC   \n",
       "47  Si sen 37º = 0,6. Calcula, sin usar la calcula...   1BC   \n",
       "48  Si sen 37º = 0,6. Calcula, sin usar la calcula...   1BC   \n",
       "\n",
       "                titulo n_ejercicio  dificultad  n_columnas  puntos  enun_tex  \\\n",
       "46  23 - Trigonometría     p039e10           1           2       1      True   \n",
       "47  23 - Trigonometría     p039e10           1           2       1      True   \n",
       "48  23 - Trigonometría     p039e10           1           2       1      True   \n",
       "\n",
       "    sol_tex  \n",
       "46     True  \n",
       "47     True  \n",
       "48     True  "
      ]
     },
     "metadata": {},
     "output_type": "display_data"
    }
   ],
   "source": [
    "escribir_preambulo(fichero, titulo, 'ejercicios')\n",
    "for s in df_ejercicios.groupby('n_ejercicio').count().index : \n",
    "    display(md(\"**Ejercicio: **\" + s ))\n",
    "    display(df_ejercicios[df_ejercicios.n_ejercicio == s])\n",
    "    escribir_ejercicios(df_ejercicios[df_ejercicios.n_ejercicio == s],fichero)\n",
    "\n",
    "escribir_fin(fichero)"
   ]
  }
 ],
 "metadata": {
  "kernelspec": {
   "display_name": "Python 3",
   "language": "python",
   "name": "python3"
  },
  "language_info": {
   "codemirror_mode": {
    "name": "ipython",
    "version": 3
   },
   "file_extension": ".py",
   "mimetype": "text/x-python",
   "name": "python",
   "nbconvert_exporter": "python",
   "pygments_lexer": "ipython3",
   "version": "3.6.5"
  }
 },
 "nbformat": 4,
 "nbformat_minor": 2
}
