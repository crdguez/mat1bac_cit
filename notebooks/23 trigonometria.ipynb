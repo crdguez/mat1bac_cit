{
 "cells": [
  {
   "cell_type": "code",
   "execution_count": 1,
   "metadata": {},
   "outputs": [
    {
     "name": "stdout",
     "output_type": "stream",
     "text": [
      "IPython console for SymPy 1.2 (Python 3.6.5-64-bit) (ground types: gmpy)\n",
      "\n",
      "These commands were executed:\n",
      ">>> from __future__ import division\n",
      ">>> from sympy import *\n",
      ">>> x, y, z, t = symbols('x y z t')\n",
      ">>> k, m, n = symbols('k m n', integer=True)\n",
      ">>> f, g, h = symbols('f g h', cls=Function)\n",
      ">>> init_printing()\n",
      "\n",
      "Documentation can be found at http://docs.sympy.org/1.2/\n",
      "\n"
     ]
    }
   ],
   "source": [
    "from sympy import init_session\n",
    "from sympy import div, QQ\n",
    "from sympy.parsing.latex import parse_latex\n",
    "from sympy.parsing.sympy_parser import parse_expr\n",
    "from IPython.display import Markdown as md\n",
    "from IPython.display import display\n",
    "import numpy as np\n",
    "import pandas as pd\n",
    "    \n",
    "\n",
    "\n",
    "\n",
    "init_session()\n",
    "\n",
    "a, b, c, d = symbols('a b c d', real = True)\n",
    "from docparts import añadir_ejercicios, doc_ejer, escribir_preambulo, escribir_ejercicios, escribir_fin\n",
    "\n",
    "alpha = Symbol(\"alpha\")\n",
    "beta = Symbol(\"beta\")\n",
    "\n",
    "df_ejercicios = pd.DataFrame()\n",
    "\n",
    "fichero = 'trigono'\n",
    "titulo = '23 - Trigonometría'\n",
    "curso = '1BC'\n",
    "\n",
    "\n",
    "x,y = symbols('x, y', real=True)\n"
   ]
  },
  {
   "cell_type": "code",
   "execution_count": 2,
   "metadata": {},
   "outputs": [
    {
     "data": {
      "text/markdown": [
       "**Expresa en radianes los siguientes ángulos, dados en grados:**"
      ],
      "text/plain": [
       "<IPython.core.display.Markdown object>"
      ]
     },
     "metadata": {},
     "output_type": "display_data"
    },
    {
     "data": {
      "text/markdown": [
       "$45º \\to \\frac{\\pi}{4}$"
      ],
      "text/plain": [
       "<IPython.core.display.Markdown object>"
      ]
     },
     "metadata": {},
     "output_type": "display_data"
    },
    {
     "data": {
      "text/markdown": [
       "$75º \\to \\frac{5 \\pi}{12}$"
      ],
      "text/plain": [
       "<IPython.core.display.Markdown object>"
      ]
     },
     "metadata": {},
     "output_type": "display_data"
    },
    {
     "data": {
      "text/markdown": [
       "$105º \\to \\frac{7 \\pi}{12}$"
      ],
      "text/plain": [
       "<IPython.core.display.Markdown object>"
      ]
     },
     "metadata": {},
     "output_type": "display_data"
    },
    {
     "data": {
      "text/markdown": [
       "$230º \\to \\frac{23 \\pi}{18}$"
      ],
      "text/plain": [
       "<IPython.core.display.Markdown object>"
      ]
     },
     "metadata": {},
     "output_type": "display_data"
    }
   ],
   "source": [
    "# Página 39 ejercicio 1\n",
    "\n",
    "texto_ejercicio = r\"\"\"Expresa en radianes los siguientes ángulos, dados en grados:\"\"\"\n",
    "\n",
    "n_ejercicio = 'p039e01'\n",
    "\n",
    "display(md(\"**\"+texto_ejercicio+\"**\"))\n",
    "\n",
    "\n",
    "pre_enunciado_latex = [45, 75, 105, 230]\n",
    "\n",
    "enunciado_latex,enunciado, solucion = [],[],[]\n",
    "\n",
    "\n",
    "for i, s in enumerate(pre_enunciado_latex) : \n",
    "    enunciado_latex.append(str(s)+\"º\")\n",
    "    enunciado.append(s)\n",
    "    solucion.append(latex(rad(s)))\n",
    "    display(md(\"$\"+enunciado_latex[i]+\" \\\\to \"+solucion[i]+\"$\"))\n",
    "\n",
    "df_ejercicios = df_ejercicios.append(añadir_ejercicios(enunciado_latex, enunciado, solucion, texto_ejercicio, curso, titulo , n_ejercicio, '1', '3', enun_tex=False), ignore_index=True)\n"
   ]
  },
  {
   "cell_type": "code",
   "execution_count": 3,
   "metadata": {},
   "outputs": [
    {
     "data": {
      "text/markdown": [
       "**Expresa en grados los siguientes ángulos dados en radianes:**"
      ],
      "text/plain": [
       "<IPython.core.display.Markdown object>"
      ]
     },
     "metadata": {},
     "output_type": "display_data"
    },
    {
     "data": {
      "text/markdown": [
       "$\\frac{{3\\pi }}{4} \\to 135$"
      ],
      "text/plain": [
       "<IPython.core.display.Markdown object>"
      ]
     },
     "metadata": {},
     "output_type": "display_data"
    },
    {
     "data": {
      "text/markdown": [
       "$\\frac{{{5}\\pi }}{{3}} \\to 300$"
      ],
      "text/plain": [
       "<IPython.core.display.Markdown object>"
      ]
     },
     "metadata": {},
     "output_type": "display_data"
    },
    {
     "data": {
      "text/markdown": [
       "$\\frac{{{{3}}\\pi }}{{{2}}} \\to 270$"
      ],
      "text/plain": [
       "<IPython.core.display.Markdown object>"
      ]
     },
     "metadata": {},
     "output_type": "display_data"
    },
    {
     "data": {
      "text/markdown": [
       "$\\frac{{{{9}}\\pi }}{{{2}}} \\to 810$"
      ],
      "text/plain": [
       "<IPython.core.display.Markdown object>"
      ]
     },
     "metadata": {},
     "output_type": "display_data"
    },
    {
     "data": {
      "text/markdown": [
       "$\\frac{{{{4}}\\pi }}{{{3}}} \\to 240$"
      ],
      "text/plain": [
       "<IPython.core.display.Markdown object>"
      ]
     },
     "metadata": {},
     "output_type": "display_data"
    }
   ],
   "source": [
    "# Página 39 ejercicio 2\n",
    "\n",
    "texto_ejercicio = r\"\"\"Expresa en grados los siguientes ángulos dados en radianes:\"\"\"\n",
    "\n",
    "n_ejercicio = 'p039e02'\n",
    "\n",
    "display(md(\"**\"+texto_ejercicio+\"**\"))\n",
    "\n",
    "\n",
    "enunciado_latex = [r'\\frac{{3\\pi }}{4}',r'\\frac{{{5}\\pi }}{{3}}',\n",
    "                  r'\\frac{{{{3}}\\pi }}{{{2}}}',\n",
    "                  r'\\frac{{{{9}}\\pi }}{{{2}}}',\n",
    "                  r'\\frac{{{{4}}\\pi }}{{{3}}}']\n",
    "\n",
    "enunciado, solucion = [],[]\n",
    "\n",
    "\n",
    "for i, s in enumerate(enunciado_latex) : \n",
    "    enunciado.append(parse_latex(s))\n",
    "    solucion.append(latex(deg(eval(str(parse_latex(s))))))\n",
    "    display(md(\"$\"+enunciado_latex[i]+\" \\\\to \"+solucion[i]+\"$\"))\n",
    "\n",
    "df_ejercicios = df_ejercicios.append(añadir_ejercicios(enunciado_latex, enunciado, solucion, texto_ejercicio, curso, titulo , n_ejercicio, '1', '3', enun_tex=True), ignore_index=True)\n"
   ]
  },
  {
   "cell_type": "code",
   "execution_count": 4,
   "metadata": {
    "scrolled": true
   },
   "outputs": [
    {
     "data": {
      "text/markdown": [
       "**Demostrar si son verdaderas o falsas las siguientes ecuaciones:**"
      ],
      "text/plain": [
       "<IPython.core.display.Markdown object>"
      ]
     },
     "metadata": {},
     "output_type": "display_data"
    },
    {
     "data": {
      "text/markdown": [
       "$\\sec^2\\alpha+\\csc^2\\alpha={\\sec^2\\alpha}\\cdot{\\csc^2\\alpha} \\to \\left [ \\frac{8}{- \\cos{\\left (4 \\alpha \\right )} + 1}, \\quad \\frac{8}{- \\cos{\\left (4 \\alpha \\right )} + 1}\\right ] \\to \\mathrm{True}$"
      ],
      "text/plain": [
       "<IPython.core.display.Markdown object>"
      ]
     },
     "metadata": {},
     "output_type": "display_data"
    },
    {
     "data": {
      "text/markdown": [
       "$\\frac{\\tan\\alpha+\\tan\\beta}{\\cot\\alpha+\\cot\\beta}={\\tan\\alpha} \\cdot {\\tan\\beta} \\to \\left [ \\tan{\\left (\\alpha \\right )} \\tan{\\left (\\beta \\right )}, \\quad \\tan{\\left (\\alpha \\right )} \\tan{\\left (\\beta \\right )}\\right ] \\to \\mathrm{True}$"
      ],
      "text/plain": [
       "<IPython.core.display.Markdown object>"
      ]
     },
     "metadata": {},
     "output_type": "display_data"
    },
    {
     "data": {
      "text/markdown": [
       "$\\frac{{\\sin\\alpha}\\cdot{\\cos\\alpha}}{{\\cos^2\\alpha}-{\\sin^2\\alpha}}=\\frac{\\tan\\alpha}{1-{\\tan^2\\alpha}} \\to \\left [ \\frac{\\tan{\\left (2 \\alpha \\right )}}{2}, \\quad \\frac{\\tan{\\left (2 \\alpha \\right )}}{2}\\right ] \\to \\mathrm{True}$"
      ],
      "text/plain": [
       "<IPython.core.display.Markdown object>"
      ]
     },
     "metadata": {},
     "output_type": "display_data"
    },
    {
     "data": {
      "text/markdown": [
       "$\\cot\\alpha-\\frac{{\\cot^2\\alpha}-1}{\\cot\\alpha}=\\tan\\alpha \\to \\left [ \\tan{\\left (\\alpha \\right )}, \\quad \\tan{\\left (\\alpha \\right )}\\right ] \\to \\mathrm{True}$"
      ],
      "text/plain": [
       "<IPython.core.display.Markdown object>"
      ]
     },
     "metadata": {},
     "output_type": "display_data"
    },
    {
     "data": {
      "text/markdown": [
       "$\\frac{\\sin\\alpha+ \\cot \\alpha}{\\tan\\alpha+ \\csc \\alpha}=\\cos\\alpha \\to \\left [ \\cos{\\left (\\alpha \\right )}, \\quad \\cos{\\left (\\alpha \\right )}\\right ] \\to \\mathrm{True}$"
      ],
      "text/plain": [
       "<IPython.core.display.Markdown object>"
      ]
     },
     "metadata": {},
     "output_type": "display_data"
    },
    {
     "data": {
      "text/markdown": [
       "$\\cot^2\\alpha-\\cos^2\\alpha={\\cot^2\\alpha}\\cdot{\\cos^2\\alpha} \\to \\left [ - \\cos^{2}{\\left (\\alpha \\right )} + \\cot^{2}{\\left (\\alpha \\right )}, \\quad \\cos^{2}{\\left (\\alpha \\right )} \\cot^{2}{\\left (\\alpha \\right )}\\right ] \\to \\mathrm{True}$"
      ],
      "text/plain": [
       "<IPython.core.display.Markdown object>"
      ]
     },
     "metadata": {},
     "output_type": "display_data"
    },
    {
     "data": {
      "text/markdown": [
       "$\\sin\\alpha\\cos\\alpha\\tan\\alpha\\cot\\alpha\\sec\\alpha\\csc\\alpha=1 \\to \\left [ 1, \\quad 1\\right ] \\to \\mathrm{True}$"
      ],
      "text/plain": [
       "<IPython.core.display.Markdown object>"
      ]
     },
     "metadata": {},
     "output_type": "display_data"
    },
    {
     "data": {
      "text/markdown": [
       "$\\frac{1+\\tan\\alpha}{1-\\tan\\alpha}=\\frac{\\cos\\alpha+\\sin\\alpha}{\\cos\\alpha-\\sin\\alpha} \\to \\left [ \\frac{\\tan{\\left (\\alpha \\right )} + 1}{- \\tan{\\left (\\alpha \\right )} + 1}, \\quad \\tan{\\left (\\alpha + \\frac{\\pi}{4} \\right )}\\right ] \\to \\mathrm{True}$"
      ],
      "text/plain": [
       "<IPython.core.display.Markdown object>"
      ]
     },
     "metadata": {},
     "output_type": "display_data"
    },
    {
     "data": {
      "text/markdown": [
       "$\\frac{1+\\tan^2\\alpha}{\\cot\\alpha}=\\frac{\\tan\\alpha}{\\cos^2\\alpha} \\to \\left [ \\frac{\\tan{\\left (\\alpha \\right )}}{\\cos^{2}{\\left (\\alpha \\right )}}, \\quad \\frac{\\tan{\\left (\\alpha \\right )}}{\\cos^{2}{\\left (\\alpha \\right )}}\\right ] \\to \\mathrm{True}$"
      ],
      "text/plain": [
       "<IPython.core.display.Markdown object>"
      ]
     },
     "metadata": {},
     "output_type": "display_data"
    }
   ],
   "source": [
    "# Página 39 ejercicio 5 y 6\n",
    "\n",
    "texto_ejercicio = r\"\"\"Demostrar si son verdaderas o falsas las siguientes ecuaciones:\"\"\"\n",
    "\n",
    "n_ejercicio = 'p039e05y6'\n",
    "\n",
    "display(md(\"**\"+texto_ejercicio+\"**\"))\n",
    "\n",
    "\n",
    "enunciado_latex = [r'\\sec^2\\alpha+\\csc^2\\alpha={\\sec^2\\alpha}\\cdot{\\csc^2\\alpha}',\n",
    "    r'\\frac{\\tan\\alpha+\\tan\\beta}{\\cot\\alpha+\\cot\\beta}={\\tan\\alpha} \\cdot {\\tan\\beta}',\n",
    "    r'\\frac{{\\sin\\alpha}\\cdot{\\cos\\alpha}}{{\\cos^2\\alpha}-{\\sin^2\\alpha}}=\\frac{\\tan\\alpha}{1-{\\tan^2\\alpha}}',\n",
    "    r'\\cot\\alpha-\\frac{{\\cot^2\\alpha}-1}{\\cot\\alpha}=\\tan\\alpha',\n",
    "    r'\\frac{\\sin\\alpha+ \\cot \\alpha}{\\tan\\alpha+ \\csc \\alpha}=\\cos\\alpha',\n",
    "    r'\\cot^2\\alpha-\\cos^2\\alpha={\\cot^2\\alpha}\\cdot{\\cos^2\\alpha}',\n",
    "    r'\\sin\\alpha\\cos\\alpha\\tan\\alpha\\cot\\alpha\\sec\\alpha\\csc\\alpha=1',\n",
    "    r'\\frac{1+\\tan\\alpha}{1-\\tan\\alpha}=\\frac{\\cos\\alpha+\\sin\\alpha}{\\cos\\alpha-\\sin\\alpha}',\n",
    "    r'\\frac{1+\\tan^2\\alpha}{\\cot\\alpha}=\\frac{\\tan\\alpha}{\\cos^2\\alpha}'\n",
    "    \n",
    "                  ]\n",
    "\n",
    "enunciado, solucion = [],[]\n",
    "\n",
    "\n",
    "for i, s in enumerate(enunciado_latex) : \n",
    "    enunciado.append(parse_latex(s))\n",
    "    exp = []\n",
    "    exp.append(trigsimp(enunciado[i].args[0]))\n",
    "    exp.append(trigsimp(enunciado[i].args[1]))\n",
    "    solucion.append(latex(exp)+ r' \\to ' +latex(not(bool(trigsimp(enunciado[i].args[0]-enunciado[i].args[1])))))\n",
    "    display(md(\"$\"+enunciado_latex[i]+\" \\\\to \"+solucion[i]+\"$\"))\n",
    "\n",
    "df_ejercicios = df_ejercicios.append(añadir_ejercicios(enunciado_latex, enunciado, solucion, texto_ejercicio, curso, titulo , n_ejercicio, '1', '1', enun_tex=True), ignore_index=True)\n"
   ]
  },
  {
   "cell_type": "code",
   "execution_count": 5,
   "metadata": {
    "scrolled": true
   },
   "outputs": [
    {
     "data": {
      "text/markdown": [
       "**Simplificar las siguientes expresiones:**"
      ],
      "text/plain": [
       "<IPython.core.display.Markdown object>"
      ]
     },
     "metadata": {},
     "output_type": "display_data"
    },
    {
     "data": {
      "text/markdown": [
       "${\\sin\\alpha}\\cdot{\\frac{1}{\\tan\\alpha}} \\to \\cos{\\left (\\alpha \\right )}$"
      ],
      "text/plain": [
       "<IPython.core.display.Markdown object>"
      ]
     },
     "metadata": {},
     "output_type": "display_data"
    },
    {
     "data": {
      "text/markdown": [
       "$\\sin^3\\alpha+{\\sin\\alpha}\\cdot{\\cos^2\\alpha} \\to \\sin{\\left (\\alpha \\right )}$"
      ],
      "text/plain": [
       "<IPython.core.display.Markdown object>"
      ]
     },
     "metadata": {},
     "output_type": "display_data"
    },
    {
     "data": {
      "text/markdown": [
       "$\\sqrt{(1-\\sin\\alpha)\\cdot(1+\\sin\\alpha)} \\to \\sqrt{\\cos^{2}{\\left (\\alpha \\right )}}$"
      ],
      "text/plain": [
       "<IPython.core.display.Markdown object>"
      ]
     },
     "metadata": {},
     "output_type": "display_data"
    },
    {
     "data": {
      "text/markdown": [
       "$\\sin^4\\alpha-\\cos^4\\alpha \\to - \\cos{\\left (2 \\alpha \\right )}$"
      ],
      "text/plain": [
       "<IPython.core.display.Markdown object>"
      ]
     },
     "metadata": {},
     "output_type": "display_data"
    },
    {
     "data": {
      "text/markdown": [
       "$\\cos^3\\alpha+{\\cos^2\\alpha}\\cdot{\\sin\\alpha}+{\\cos\\alpha}\\cdot{\\sin^2\\alpha}+{\\sin^3\\alpha} \\to \\sqrt{2} \\sin{\\left (\\alpha + \\frac{\\pi}{4} \\right )}$"
      ],
      "text/plain": [
       "<IPython.core.display.Markdown object>"
      ]
     },
     "metadata": {},
     "output_type": "display_data"
    },
    {
     "data": {
      "text/markdown": [
       "${\\sin\\alpha}\\cdot{\\cos\\alpha}\\cdot(\\tan\\alpha+\\frac{1}{\\tan\\alpha}) \\to 1$"
      ],
      "text/plain": [
       "<IPython.core.display.Markdown object>"
      ]
     },
     "metadata": {},
     "output_type": "display_data"
    },
    {
     "data": {
      "text/markdown": [
       "$\\frac{\\cos^2\\alpha-\\sin^2\\alpha}{\\cos^4\\alpha-\\sin^4\\alpha} \\to 1$"
      ],
      "text/plain": [
       "<IPython.core.display.Markdown object>"
      ]
     },
     "metadata": {},
     "output_type": "display_data"
    },
    {
     "data": {
      "text/markdown": [
       "$\\frac{\\sec^2\\alpha+\\cos^2\\alpha}{\\sec^2\\alpha-\\cos^2\\alpha} \\to \\frac{\\left(- \\cos^{2}{\\left (\\alpha \\right )} + 1\\right)^{2} + 2 \\cos^{2}{\\left (\\alpha \\right )}}{- \\cos^{4}{\\left (\\alpha \\right )} + 1}$"
      ],
      "text/plain": [
       "<IPython.core.display.Markdown object>"
      ]
     },
     "metadata": {},
     "output_type": "display_data"
    },
    {
     "data": {
      "text/markdown": [
       "$\\frac{\\cos^2\\alpha}{1-\\sin\\alpha} \\to \\sin{\\left (\\alpha \\right )} + 1$"
      ],
      "text/plain": [
       "<IPython.core.display.Markdown object>"
      ]
     },
     "metadata": {},
     "output_type": "display_data"
    },
    {
     "data": {
      "text/markdown": [
       "$\\frac{\\csc\\alpha}{1+\\cot^2\\alpha} \\to \\sin{\\left (\\alpha \\right )}$"
      ],
      "text/plain": [
       "<IPython.core.display.Markdown object>"
      ]
     },
     "metadata": {},
     "output_type": "display_data"
    }
   ],
   "source": [
    "# Página 39 ejercicio 7\n",
    "\n",
    "texto_ejercicio = r\"\"\"Simplificar las siguientes expresiones:\"\"\"\n",
    "\n",
    "n_ejercicio = 'p039e07'\n",
    "\n",
    "display(md(\"**\"+texto_ejercicio+\"**\"))\n",
    "\n",
    "\n",
    "enunciado_latex = [r'{\\sin\\alpha}\\cdot{\\frac{1}{\\tan\\alpha}}',\n",
    "                   r'\\sin^3\\alpha+{\\sin\\alpha}\\cdot{\\cos^2\\alpha}',\n",
    "                   r'\\sqrt{(1-\\sin\\alpha)\\cdot(1+\\sin\\alpha)}',\n",
    "                   r'\\sin^4\\alpha-\\cos^4\\alpha',\n",
    "        r'\\cos^3\\alpha+{\\cos^2\\alpha}\\cdot{\\sin\\alpha}+{\\cos\\alpha}\\cdot{\\sin^2\\alpha}+{\\sin^3\\alpha}',\n",
    "        r'{\\sin\\alpha}\\cdot{\\cos\\alpha}\\cdot(\\tan\\alpha+\\frac{1}{\\tan\\alpha})',\n",
    "        r'\\frac{\\cos^2\\alpha-\\sin^2\\alpha}{\\cos^4\\alpha-\\sin^4\\alpha}',\n",
    "        r'\\frac{\\sec^2\\alpha+\\cos^2\\alpha}{\\sec^2\\alpha-\\cos^2\\alpha}',\n",
    "        r'\\frac{\\cos^2\\alpha}{1-\\sin\\alpha}',\n",
    "        r'\\frac{\\csc\\alpha}{1+\\cot^2\\alpha}'\n",
    "                   \n",
    "                   \n",
    "    \n",
    "                  ]\n",
    "\n",
    "enunciado, solucion = [],[]\n",
    "\n",
    "\n",
    "for i, s in enumerate(enunciado_latex) : \n",
    "    enunciado.append(parse_latex(s))\n",
    "    solucion.append(latex(radsimp(trigsimp(eval(str(enunciado[i]))))))\n",
    "    display(md(\"$\"+enunciado_latex[i]+\" \\\\to \"+solucion[i]+\"$\"))\n",
    "\n",
    "df_ejercicios = df_ejercicios.append(añadir_ejercicios(enunciado_latex, enunciado, solucion, texto_ejercicio, curso, titulo , n_ejercicio, '1', '1', enun_tex=True), ignore_index=True)\n"
   ]
  },
  {
   "cell_type": "code",
   "execution_count": 14,
   "metadata": {
    "scrolled": true
   },
   "outputs": [
    {
     "data": {
      "text/markdown": [
       "**Calcular las restantes razones trigonométricas de $\\alpha$, conocida:**"
      ],
      "text/plain": [
       "<IPython.core.display.Markdown object>"
      ]
     },
     "metadata": {},
     "output_type": "display_data"
    },
    {
     "data": {
      "text/markdown": [
       "$\\cos\\alpha=\\frac{4}{5} \\land \\alpha \\in I \\to \\left [ 36.86989764584401, \\quad \\frac{3}{5}, \\quad \\frac{4}{5}, \\quad \\frac{3}{4}\\right ]$"
      ],
      "text/plain": [
       "<IPython.core.display.Markdown object>"
      ]
     },
     "metadata": {},
     "output_type": "display_data"
    },
    {
     "data": {
      "text/markdown": [
       "$\\sin\\alpha=\\frac{3}{5} \\land \\alpha \\in II \\to \\left [ 36.86989764584402, \\quad \\frac{3}{5}, \\quad - \\frac{4}{5}, \\quad - \\frac{3}{4}\\right ]$"
      ],
      "text/plain": [
       "<IPython.core.display.Markdown object>"
      ]
     },
     "metadata": {},
     "output_type": "display_data"
    },
    {
     "data": {
      "text/markdown": [
       "$\\tan\\alpha=-\\frac{3}{4} \\land \\alpha \\in II \\to \\left [ 36.86989764584402, \\quad \\frac{3}{5}, \\quad - \\frac{4}{5}, \\quad - \\frac{3}{4}\\right ]$"
      ],
      "text/plain": [
       "<IPython.core.display.Markdown object>"
      ]
     },
     "metadata": {},
     "output_type": "display_data"
    },
    {
     "data": {
      "text/markdown": [
       "$\\sec\\alpha=-2 \\land \\alpha \\in IV \\to \\left [ 60.0, \\quad - \\frac{\\sqrt{3}}{2}, \\quad \\frac{1}{2}, \\quad - \\sqrt{3}\\right ]$"
      ],
      "text/plain": [
       "<IPython.core.display.Markdown object>"
      ]
     },
     "metadata": {},
     "output_type": "display_data"
    },
    {
     "data": {
      "text/markdown": [
       "$\\csc\\alpha=-2 \\land \\alpha \\in III \\to \\left [ 30.0, \\quad - \\frac{1}{2}, \\quad - \\frac{\\sqrt{3}}{2}, \\quad \\frac{\\sqrt{3}}{3}\\right ]$"
      ],
      "text/plain": [
       "<IPython.core.display.Markdown object>"
      ]
     },
     "metadata": {},
     "output_type": "display_data"
    }
   ],
   "source": [
    "# Página 39 ejercicio 8\n",
    "\n",
    "texto_ejercicio = r\"\"\"Calcular las restantes razones trigonométricas de $\\alpha$, conocida:\"\"\"\n",
    "\n",
    "n_ejercicio = 'p039e07'\n",
    "\n",
    "display(md(\"**\"+texto_ejercicio+\"**\"))\n",
    "\n",
    "\n",
    "pre_enunciado_latex = [\n",
    "    [r'\\cos\\alpha=\\frac{4}{5} \\land \\alpha \\in I', [float(deg(acos(4/5))), sin(acos((nsimplify(frac(4/5))))), cos(acos((nsimplify(frac(4/5))))), tan(acos((nsimplify(frac(4/5)))))]],             \n",
    "    [r'\\sin\\alpha=\\frac{3}{5} \\land \\alpha \\in II', [float(deg(asin(3/5))), sin(asin((nsimplify(frac(3/5))))), -cos(asin((nsimplify(frac(3/5))))), -tan(asin((nsimplify(frac(3/5)))))]],             \n",
    "    [r'\\tan\\alpha=-\\frac{3}{4} \\land \\alpha \\in II', [float(deg(atan(3/4))), sin(atan((nsimplify(frac(3/4))))), -cos(atan((nsimplify(frac(3/4))))), -tan(atan((nsimplify(frac(3/4)))))]],             \n",
    "    [r'\\sec\\alpha=-2 \\land \\alpha \\in IV', [float(deg(asec(2))), -sin(asec((nsimplify(2)))), cos(asec((nsimplify(2)))), -tan(asec((nsimplify(2))))]],             \n",
    "    [r'\\csc\\alpha=-2 \\land \\alpha \\in III', [float(deg(acsc(2))), -sin(acsc((nsimplify(2)))), -cos(acsc((nsimplify(2)))), tan(acsc((nsimplify(2))))]],             \n",
    "    [r'\\cot\\alpha=-2 \\land \\alpha \\in IV', [float(deg(acot(2))), -sin(acot((nsimplify(2)))), cos(asec((nsimplify(2)))), -tan(asec((nsimplify(2))))]],             \n",
    "           \n",
    "    \n",
    "                  ]\n",
    "\n",
    "enunciado_latex, enunciado, solucion = [],[],[]\n",
    "\n",
    "\n",
    "for i, s in enumerate(pre_enunciado_latex) : \n",
    "    enunciado_latex.append(s[0])\n",
    "    enunciado.append([str(t) for t in s[1]])\n",
    "    solucion.append(latex([t for t in s[1]]))\n",
    "    display(md(\"$\"+enunciado_latex[i]+\" \\\\to \"+str(solucion[i])+\"$\"))\n",
    "\n",
    "df_ejercicios = df_ejercicios.append(añadir_ejercicios(enunciado_latex, enunciado, solucion, texto_ejercicio, curso, titulo , n_ejercicio, '1', '1', enun_tex=True), ignore_index=True)\n"
   ]
  },
  {
   "cell_type": "code",
   "execution_count": 7,
   "metadata": {},
   "outputs": [
    {
     "data": {
      "image/png": "[encoded data removed]",
      "text/latex": [
       "$$36.86989764584401$$"
      ],
      "text/plain": [
       "36.86989764584401"
      ]
     },
     "execution_count": 7,
     "metadata": {},
     "output_type": "execute_result"
    }
   ],
   "source": [
    "float(deg(acos(4/5)))"
   ]
  },
  {
   "cell_type": "markdown",
   "metadata": {},
   "source": [
    "$\\cos\\alpha=\\frac{4}{5} \\land \\alpha \\in I$"
   ]
  },
  {
   "cell_type": "code",
   "execution_count": 8,
   "metadata": {},
   "outputs": [
    {
     "data": {
      "image/png": "[encoded data removed]",
      "text/latex": [
       "$$\\frac{4}{5}$$"
      ],
      "text/plain": [
       "4/5"
      ]
     },
     "execution_count": 8,
     "metadata": {},
     "output_type": "execute_result"
    }
   ],
   "source": [
    "tan(atan(nsimplify(frac(4/5))))\n",
    "\n"
   ]
  },
  {
   "cell_type": "code",
   "execution_count": 9,
   "metadata": {},
   "outputs": [
    {
     "data": {
      "image/png": "[encoded data removed]",
      "text/latex": [
       "$$\\frac{\\pi}{4}$$"
      ],
      "text/plain": [
       "π\n",
       "─\n",
       "4"
      ]
     },
     "execution_count": 9,
     "metadata": {},
     "output_type": "execute_result"
    }
   ],
   "source": [
    "asin(sqrt(2)/2)"
   ]
  },
  {
   "cell_type": "code",
   "execution_count": null,
   "metadata": {},
   "outputs": [],
   "source": []
  },
  {
   "cell_type": "code",
   "execution_count": null,
   "metadata": {},
   "outputs": [],
   "source": []
  },
  {
   "cell_type": "code",
   "execution_count": 10,
   "metadata": {},
   "outputs": [],
   "source": [
    "df_ejercicios.to_csv('ejercicios23.csv', index = False)"
   ]
  },
  {
   "cell_type": "code",
   "execution_count": 11,
   "metadata": {},
   "outputs": [],
   "source": [
    "df_ejercicios = pd.read_csv('ejercicios23.csv', index_col= None)"
   ]
  },
  {
   "cell_type": "code",
   "execution_count": 12,
   "metadata": {},
   "outputs": [
    {
     "data": {
      "text/html": [
       "<div>\n",
       "<style scoped>\n",
       "    .dataframe tbody tr th:only-of-type {\n",
       "        vertical-align: middle;\n",
       "    }\n",
       "\n",
       "    .dataframe tbody tr th {\n",
       "        vertical-align: top;\n",
       "    }\n",
       "\n",
       "    .dataframe thead th {\n",
       "        text-align: right;\n",
       "    }\n",
       "</style>\n",
       "<table border=\"1\" class=\"dataframe\">\n",
       "  <thead>\n",
       "    <tr style=\"text-align: right;\">\n",
       "      <th></th>\n",
       "      <th>enunciado_latex</th>\n",
       "      <th>enunciado</th>\n",
       "      <th>solucion</th>\n",
       "      <th>texto</th>\n",
       "      <th>curso</th>\n",
       "      <th>titulo</th>\n",
       "      <th>n_ejercicio</th>\n",
       "      <th>dificultad</th>\n",
       "      <th>n_columnas</th>\n",
       "      <th>puntos</th>\n",
       "      <th>enun_tex</th>\n",
       "      <th>sol_tex</th>\n",
       "    </tr>\n",
       "  </thead>\n",
       "  <tbody>\n",
       "    <tr>\n",
       "      <th>0</th>\n",
       "      <td>45º</td>\n",
       "      <td>45</td>\n",
       "      <td>\\frac{\\pi}{4}</td>\n",
       "      <td>Expresa en radianes los siguientes ángulos, da...</td>\n",
       "      <td>1BC</td>\n",
       "      <td>23 - Trigonometría</td>\n",
       "      <td>p039e01</td>\n",
       "      <td>1</td>\n",
       "      <td>3</td>\n",
       "      <td>1</td>\n",
       "      <td>False</td>\n",
       "      <td>True</td>\n",
       "    </tr>\n",
       "    <tr>\n",
       "      <th>1</th>\n",
       "      <td>75º</td>\n",
       "      <td>75</td>\n",
       "      <td>\\frac{5 \\pi}{12}</td>\n",
       "      <td>Expresa en radianes los siguientes ángulos, da...</td>\n",
       "      <td>1BC</td>\n",
       "      <td>23 - Trigonometría</td>\n",
       "      <td>p039e01</td>\n",
       "      <td>1</td>\n",
       "      <td>3</td>\n",
       "      <td>1</td>\n",
       "      <td>False</td>\n",
       "      <td>True</td>\n",
       "    </tr>\n",
       "    <tr>\n",
       "      <th>2</th>\n",
       "      <td>105º</td>\n",
       "      <td>105</td>\n",
       "      <td>\\frac{7 \\pi}{12}</td>\n",
       "      <td>Expresa en radianes los siguientes ángulos, da...</td>\n",
       "      <td>1BC</td>\n",
       "      <td>23 - Trigonometría</td>\n",
       "      <td>p039e01</td>\n",
       "      <td>1</td>\n",
       "      <td>3</td>\n",
       "      <td>1</td>\n",
       "      <td>False</td>\n",
       "      <td>True</td>\n",
       "    </tr>\n",
       "    <tr>\n",
       "      <th>3</th>\n",
       "      <td>230º</td>\n",
       "      <td>230</td>\n",
       "      <td>\\frac{23 \\pi}{18}</td>\n",
       "      <td>Expresa en radianes los siguientes ángulos, da...</td>\n",
       "      <td>1BC</td>\n",
       "      <td>23 - Trigonometría</td>\n",
       "      <td>p039e01</td>\n",
       "      <td>1</td>\n",
       "      <td>3</td>\n",
       "      <td>1</td>\n",
       "      <td>False</td>\n",
       "      <td>True</td>\n",
       "    </tr>\n",
       "    <tr>\n",
       "      <th>4</th>\n",
       "      <td>\\frac{{3\\pi }}{4}</td>\n",
       "      <td>(3*pi)/4</td>\n",
       "      <td>135</td>\n",
       "      <td>Expresa en grados los siguientes ángulos dados...</td>\n",
       "      <td>1BC</td>\n",
       "      <td>23 - Trigonometría</td>\n",
       "      <td>p039e02</td>\n",
       "      <td>1</td>\n",
       "      <td>3</td>\n",
       "      <td>1</td>\n",
       "      <td>True</td>\n",
       "      <td>True</td>\n",
       "    </tr>\n",
       "    <tr>\n",
       "      <th>5</th>\n",
       "      <td>\\frac{{{5}\\pi }}{{3}}</td>\n",
       "      <td>(5*pi)/3</td>\n",
       "      <td>300</td>\n",
       "      <td>Expresa en grados los siguientes ángulos dados...</td>\n",
       "      <td>1BC</td>\n",
       "      <td>23 - Trigonometría</td>\n",
       "      <td>p039e02</td>\n",
       "      <td>1</td>\n",
       "      <td>3</td>\n",
       "      <td>1</td>\n",
       "      <td>True</td>\n",
       "      <td>True</td>\n",
       "    </tr>\n",
       "    <tr>\n",
       "      <th>6</th>\n",
       "      <td>\\frac{{{{3}}\\pi }}{{{2}}}</td>\n",
       "      <td>(3*pi)/2</td>\n",
       "      <td>270</td>\n",
       "      <td>Expresa en grados los siguientes ángulos dados...</td>\n",
       "      <td>1BC</td>\n",
       "      <td>23 - Trigonometría</td>\n",
       "      <td>p039e02</td>\n",
       "      <td>1</td>\n",
       "      <td>3</td>\n",
       "      <td>1</td>\n",
       "      <td>True</td>\n",
       "      <td>True</td>\n",
       "    </tr>\n",
       "    <tr>\n",
       "      <th>7</th>\n",
       "      <td>\\frac{{{{9}}\\pi }}{{{2}}}</td>\n",
       "      <td>(9*pi)/2</td>\n",
       "      <td>810</td>\n",
       "      <td>Expresa en grados los siguientes ángulos dados...</td>\n",
       "      <td>1BC</td>\n",
       "      <td>23 - Trigonometría</td>\n",
       "      <td>p039e02</td>\n",
       "      <td>1</td>\n",
       "      <td>3</td>\n",
       "      <td>1</td>\n",
       "      <td>True</td>\n",
       "      <td>True</td>\n",
       "    </tr>\n",
       "    <tr>\n",
       "      <th>8</th>\n",
       "      <td>\\frac{{{{4}}\\pi }}{{{3}}}</td>\n",
       "      <td>(4*pi)/3</td>\n",
       "      <td>240</td>\n",
       "      <td>Expresa en grados los siguientes ángulos dados...</td>\n",
       "      <td>1BC</td>\n",
       "      <td>23 - Trigonometría</td>\n",
       "      <td>p039e02</td>\n",
       "      <td>1</td>\n",
       "      <td>3</td>\n",
       "      <td>1</td>\n",
       "      <td>True</td>\n",
       "      <td>True</td>\n",
       "    </tr>\n",
       "    <tr>\n",
       "      <th>9</th>\n",
       "      <td>\\sec^2\\alpha+\\csc^2\\alpha={\\sec^2\\alpha}\\cdot{...</td>\n",
       "      <td>Eq(csc(alpha)**2 + sec(alpha)**2, csc(alpha)**...</td>\n",
       "      <td>\\left [ \\frac{8}{- \\cos{\\left (4 \\alpha \\right...</td>\n",
       "      <td>Demostrar si son verdaderas o falsas las sigui...</td>\n",
       "      <td>1BC</td>\n",
       "      <td>23 - Trigonometría</td>\n",
       "      <td>p039e05y6</td>\n",
       "      <td>1</td>\n",
       "      <td>1</td>\n",
       "      <td>1</td>\n",
       "      <td>True</td>\n",
       "      <td>True</td>\n",
       "    </tr>\n",
       "    <tr>\n",
       "      <th>10</th>\n",
       "      <td>\\frac{\\tan\\alpha+\\tan\\beta}{\\cot\\alpha+\\cot\\be...</td>\n",
       "      <td>Eq((tan(alpha) + tan(beta))/(cot(alpha) + cot(...</td>\n",
       "      <td>\\left [ \\tan{\\left (\\alpha \\right )} \\tan{\\lef...</td>\n",
       "      <td>Demostrar si son verdaderas o falsas las sigui...</td>\n",
       "      <td>1BC</td>\n",
       "      <td>23 - Trigonometría</td>\n",
       "      <td>p039e05y6</td>\n",
       "      <td>1</td>\n",
       "      <td>1</td>\n",
       "      <td>1</td>\n",
       "      <td>True</td>\n",
       "      <td>True</td>\n",
       "    </tr>\n",
       "    <tr>\n",
       "      <th>11</th>\n",
       "      <td>\\frac{{\\sin\\alpha}\\cdot{\\cos\\alpha}}{{\\cos^2\\a...</td>\n",
       "      <td>Eq((sin(alpha)*cos(alpha))/(-sin(alpha)**2 + c...</td>\n",
       "      <td>\\left [ \\frac{\\tan{\\left (2 \\alpha \\right )}}{...</td>\n",
       "      <td>Demostrar si son verdaderas o falsas las sigui...</td>\n",
       "      <td>1BC</td>\n",
       "      <td>23 - Trigonometría</td>\n",
       "      <td>p039e05y6</td>\n",
       "      <td>1</td>\n",
       "      <td>1</td>\n",
       "      <td>1</td>\n",
       "      <td>True</td>\n",
       "      <td>True</td>\n",
       "    </tr>\n",
       "    <tr>\n",
       "      <th>12</th>\n",
       "      <td>\\cot\\alpha-\\frac{{\\cot^2\\alpha}-1}{\\cot\\alpha}...</td>\n",
       "      <td>Eq(-(cot(alpha)**2 - 1)/cot(alpha) + cot(alpha...</td>\n",
       "      <td>\\left [ \\tan{\\left (\\alpha \\right )}, \\quad \\t...</td>\n",
       "      <td>Demostrar si son verdaderas o falsas las sigui...</td>\n",
       "      <td>1BC</td>\n",
       "      <td>23 - Trigonometría</td>\n",
       "      <td>p039e05y6</td>\n",
       "      <td>1</td>\n",
       "      <td>1</td>\n",
       "      <td>1</td>\n",
       "      <td>True</td>\n",
       "      <td>True</td>\n",
       "    </tr>\n",
       "    <tr>\n",
       "      <th>13</th>\n",
       "      <td>\\frac{\\sin\\alpha+ \\cot \\alpha}{\\tan\\alpha+ \\cs...</td>\n",
       "      <td>Eq((sin(alpha) + cot(alpha))/(tan(alpha) + csc...</td>\n",
       "      <td>\\left [ \\cos{\\left (\\alpha \\right )}, \\quad \\c...</td>\n",
       "      <td>Demostrar si son verdaderas o falsas las sigui...</td>\n",
       "      <td>1BC</td>\n",
       "      <td>23 - Trigonometría</td>\n",
       "      <td>p039e05y6</td>\n",
       "      <td>1</td>\n",
       "      <td>1</td>\n",
       "      <td>1</td>\n",
       "      <td>True</td>\n",
       "      <td>True</td>\n",
       "    </tr>\n",
       "    <tr>\n",
       "      <th>14</th>\n",
       "      <td>\\cot^2\\alpha-\\cos^2\\alpha={\\cot^2\\alpha}\\cdot{...</td>\n",
       "      <td>Eq(-cos(alpha)**2 + cot(alpha)**2, cos(alpha)*...</td>\n",
       "      <td>\\left [ - \\cos^{2}{\\left (\\alpha \\right )} + \\...</td>\n",
       "      <td>Demostrar si son verdaderas o falsas las sigui...</td>\n",
       "      <td>1BC</td>\n",
       "      <td>23 - Trigonometría</td>\n",
       "      <td>p039e05y6</td>\n",
       "      <td>1</td>\n",
       "      <td>1</td>\n",
       "      <td>1</td>\n",
       "      <td>True</td>\n",
       "      <td>True</td>\n",
       "    </tr>\n",
       "    <tr>\n",
       "      <th>15</th>\n",
       "      <td>\\sin\\alpha\\cos\\alpha\\tan\\alpha\\cot\\alpha\\sec\\a...</td>\n",
       "      <td>Eq(((((csc(alpha)*sec(alpha))*cot(alpha))*tan(...</td>\n",
       "      <td>\\left [ 1, \\quad 1\\right ] \\to \\mathrm{True}</td>\n",
       "      <td>Demostrar si son verdaderas o falsas las sigui...</td>\n",
       "      <td>1BC</td>\n",
       "      <td>23 - Trigonometría</td>\n",
       "      <td>p039e05y6</td>\n",
       "      <td>1</td>\n",
       "      <td>1</td>\n",
       "      <td>1</td>\n",
       "      <td>True</td>\n",
       "      <td>True</td>\n",
       "    </tr>\n",
       "    <tr>\n",
       "      <th>16</th>\n",
       "      <td>\\frac{1+\\tan\\alpha}{1-\\tan\\alpha}=\\frac{\\cos\\a...</td>\n",
       "      <td>Eq((tan(alpha) + 1)/(-tan(alpha) + 1), (sin(al...</td>\n",
       "      <td>\\left [ \\frac{\\tan{\\left (\\alpha \\right )} + 1...</td>\n",
       "      <td>Demostrar si son verdaderas o falsas las sigui...</td>\n",
       "      <td>1BC</td>\n",
       "      <td>23 - Trigonometría</td>\n",
       "      <td>p039e05y6</td>\n",
       "      <td>1</td>\n",
       "      <td>1</td>\n",
       "      <td>1</td>\n",
       "      <td>True</td>\n",
       "      <td>True</td>\n",
       "    </tr>\n",
       "    <tr>\n",
       "      <th>17</th>\n",
       "      <td>\\frac{1+\\tan^2\\alpha}{\\cot\\alpha}=\\frac{\\tan\\a...</td>\n",
       "      <td>Eq((tan(alpha)**2 + 1)/cot(alpha), tan(alpha)/...</td>\n",
       "      <td>\\left [ \\frac{\\tan{\\left (\\alpha \\right )}}{\\c...</td>\n",
       "      <td>Demostrar si son verdaderas o falsas las sigui...</td>\n",
       "      <td>1BC</td>\n",
       "      <td>23 - Trigonometría</td>\n",
       "      <td>p039e05y6</td>\n",
       "      <td>1</td>\n",
       "      <td>1</td>\n",
       "      <td>1</td>\n",
       "      <td>True</td>\n",
       "      <td>True</td>\n",
       "    </tr>\n",
       "    <tr>\n",
       "      <th>18</th>\n",
       "      <td>{\\sin\\alpha}\\cdot{\\frac{1}{\\tan\\alpha}}</td>\n",
       "      <td>sin(alpha)/tan(alpha)</td>\n",
       "      <td>\\cos{\\left (\\alpha \\right )}</td>\n",
       "      <td>Simplificar las siguientes expresiones:</td>\n",
       "      <td>1BC</td>\n",
       "      <td>23 - Trigonometría</td>\n",
       "      <td>p039e07</td>\n",
       "      <td>1</td>\n",
       "      <td>1</td>\n",
       "      <td>1</td>\n",
       "      <td>True</td>\n",
       "      <td>True</td>\n",
       "    </tr>\n",
       "    <tr>\n",
       "      <th>19</th>\n",
       "      <td>\\sin^3\\alpha+{\\sin\\alpha}\\cdot{\\cos^2\\alpha}</td>\n",
       "      <td>sin(alpha)**3 + sin(alpha)*cos(alpha)**2</td>\n",
       "      <td>\\sin{\\left (\\alpha \\right )}</td>\n",
       "      <td>Simplificar las siguientes expresiones:</td>\n",
       "      <td>1BC</td>\n",
       "      <td>23 - Trigonometría</td>\n",
       "      <td>p039e07</td>\n",
       "      <td>1</td>\n",
       "      <td>1</td>\n",
       "      <td>1</td>\n",
       "      <td>True</td>\n",
       "      <td>True</td>\n",
       "    </tr>\n",
       "    <tr>\n",
       "      <th>20</th>\n",
       "      <td>\\sqrt{(1-\\sin\\alpha)\\cdot(1+\\sin\\alpha)}</td>\n",
       "      <td>sqrt((-sin(alpha) + 1)*(sin(alpha) + 1))</td>\n",
       "      <td>\\sqrt{\\cos^{2}{\\left (\\alpha \\right )}}</td>\n",
       "      <td>Simplificar las siguientes expresiones:</td>\n",
       "      <td>1BC</td>\n",
       "      <td>23 - Trigonometría</td>\n",
       "      <td>p039e07</td>\n",
       "      <td>1</td>\n",
       "      <td>1</td>\n",
       "      <td>1</td>\n",
       "      <td>True</td>\n",
       "      <td>True</td>\n",
       "    </tr>\n",
       "    <tr>\n",
       "      <th>21</th>\n",
       "      <td>\\sin^4\\alpha-\\cos^4\\alpha</td>\n",
       "      <td>sin(alpha)**4 - cos(alpha)**4</td>\n",
       "      <td>- \\cos{\\left (2 \\alpha \\right )}</td>\n",
       "      <td>Simplificar las siguientes expresiones:</td>\n",
       "      <td>1BC</td>\n",
       "      <td>23 - Trigonometría</td>\n",
       "      <td>p039e07</td>\n",
       "      <td>1</td>\n",
       "      <td>1</td>\n",
       "      <td>1</td>\n",
       "      <td>True</td>\n",
       "      <td>True</td>\n",
       "    </tr>\n",
       "    <tr>\n",
       "      <th>22</th>\n",
       "      <td>\\cos^3\\alpha+{\\cos^2\\alpha}\\cdot{\\sin\\alpha}+{...</td>\n",
       "      <td>sin(alpha)*cos(alpha)**2 + cos(alpha)**3 + sin...</td>\n",
       "      <td>\\sqrt{2} \\sin{\\left (\\alpha + \\frac{\\pi}{4} \\r...</td>\n",
       "      <td>Simplificar las siguientes expresiones:</td>\n",
       "      <td>1BC</td>\n",
       "      <td>23 - Trigonometría</td>\n",
       "      <td>p039e07</td>\n",
       "      <td>1</td>\n",
       "      <td>1</td>\n",
       "      <td>1</td>\n",
       "      <td>True</td>\n",
       "      <td>True</td>\n",
       "    </tr>\n",
       "    <tr>\n",
       "      <th>23</th>\n",
       "      <td>{\\sin\\alpha}\\cdot{\\cos\\alpha}\\cdot(\\tan\\alpha+...</td>\n",
       "      <td>(sin(alpha)*cos(alpha))*(tan(alpha) + 1/tan(al...</td>\n",
       "      <td>1</td>\n",
       "      <td>Simplificar las siguientes expresiones:</td>\n",
       "      <td>1BC</td>\n",
       "      <td>23 - Trigonometría</td>\n",
       "      <td>p039e07</td>\n",
       "      <td>1</td>\n",
       "      <td>1</td>\n",
       "      <td>1</td>\n",
       "      <td>True</td>\n",
       "      <td>True</td>\n",
       "    </tr>\n",
       "    <tr>\n",
       "      <th>24</th>\n",
       "      <td>\\frac{\\cos^2\\alpha-\\sin^2\\alpha}{\\cos^4\\alpha-...</td>\n",
       "      <td>(-sin(alpha)**2 + cos(alpha)**2)/(-sin(alpha)*...</td>\n",
       "      <td>1</td>\n",
       "      <td>Simplificar las siguientes expresiones:</td>\n",
       "      <td>1BC</td>\n",
       "      <td>23 - Trigonometría</td>\n",
       "      <td>p039e07</td>\n",
       "      <td>1</td>\n",
       "      <td>1</td>\n",
       "      <td>1</td>\n",
       "      <td>True</td>\n",
       "      <td>True</td>\n",
       "    </tr>\n",
       "    <tr>\n",
       "      <th>25</th>\n",
       "      <td>\\frac{\\sec^2\\alpha+\\cos^2\\alpha}{\\sec^2\\alpha-...</td>\n",
       "      <td>(cos(alpha)**2 + sec(alpha)**2)/(-cos(alpha)**...</td>\n",
       "      <td>\\frac{\\left(- \\cos^{2}{\\left (\\alpha \\right )}...</td>\n",
       "      <td>Simplificar las siguientes expresiones:</td>\n",
       "      <td>1BC</td>\n",
       "      <td>23 - Trigonometría</td>\n",
       "      <td>p039e07</td>\n",
       "      <td>1</td>\n",
       "      <td>1</td>\n",
       "      <td>1</td>\n",
       "      <td>True</td>\n",
       "      <td>True</td>\n",
       "    </tr>\n",
       "    <tr>\n",
       "      <th>26</th>\n",
       "      <td>\\frac{\\cos^2\\alpha}{1-\\sin\\alpha}</td>\n",
       "      <td>cos(alpha)**2/(-sin(alpha) + 1)</td>\n",
       "      <td>\\sin{\\left (\\alpha \\right )} + 1</td>\n",
       "      <td>Simplificar las siguientes expresiones:</td>\n",
       "      <td>1BC</td>\n",
       "      <td>23 - Trigonometría</td>\n",
       "      <td>p039e07</td>\n",
       "      <td>1</td>\n",
       "      <td>1</td>\n",
       "      <td>1</td>\n",
       "      <td>True</td>\n",
       "      <td>True</td>\n",
       "    </tr>\n",
       "    <tr>\n",
       "      <th>27</th>\n",
       "      <td>\\frac{\\csc\\alpha}{1+\\cot^2\\alpha}</td>\n",
       "      <td>csc(alpha)/(cot(alpha)**2 + 1)</td>\n",
       "      <td>\\sin{\\left (\\alpha \\right )}</td>\n",
       "      <td>Simplificar las siguientes expresiones:</td>\n",
       "      <td>1BC</td>\n",
       "      <td>23 - Trigonometría</td>\n",
       "      <td>p039e07</td>\n",
       "      <td>1</td>\n",
       "      <td>1</td>\n",
       "      <td>1</td>\n",
       "      <td>True</td>\n",
       "      <td>True</td>\n",
       "    </tr>\n",
       "    <tr>\n",
       "      <th>28</th>\n",
       "      <td>\\cos\\alpha=\\frac{4}{5} \\land \\alpha \\in I</td>\n",
       "      <td>['36.86989764584401', '3/5', '4/5', '3/4']</td>\n",
       "      <td>\\left [ 36.86989764584401, \\quad \\frac{3}{5}, ...</td>\n",
       "      <td>Calcular las restantes razones trigonométricas...</td>\n",
       "      <td>1BC</td>\n",
       "      <td>23 - Trigonometría</td>\n",
       "      <td>p039e07</td>\n",
       "      <td>1</td>\n",
       "      <td>1</td>\n",
       "      <td>1</td>\n",
       "      <td>True</td>\n",
       "      <td>True</td>\n",
       "    </tr>\n",
       "    <tr>\n",
       "      <th>29</th>\n",
       "      <td>\\sin\\alpha=\\frac{3}{5} \\land \\alpha \\in II</td>\n",
       "      <td>['36.86989764584402', '3/5', '-4/5', '-3/4']</td>\n",
       "      <td>\\left [ 36.86989764584402, \\quad \\frac{3}{5}, ...</td>\n",
       "      <td>Calcular las restantes razones trigonométricas...</td>\n",
       "      <td>1BC</td>\n",
       "      <td>23 - Trigonometría</td>\n",
       "      <td>p039e07</td>\n",
       "      <td>1</td>\n",
       "      <td>1</td>\n",
       "      <td>1</td>\n",
       "      <td>True</td>\n",
       "      <td>True</td>\n",
       "    </tr>\n",
       "    <tr>\n",
       "      <th>30</th>\n",
       "      <td>\\tan\\alpha=-\\frac{3}{4} \\land \\alpha \\in II</td>\n",
       "      <td>['36.86989764584402', '3/5', '-4/5', '-3/4']</td>\n",
       "      <td>\\left [ 36.86989764584402, \\quad \\frac{3}{5}, ...</td>\n",
       "      <td>Calcular las restantes razones trigonométricas...</td>\n",
       "      <td>1BC</td>\n",
       "      <td>23 - Trigonometría</td>\n",
       "      <td>p039e07</td>\n",
       "      <td>1</td>\n",
       "      <td>1</td>\n",
       "      <td>1</td>\n",
       "      <td>True</td>\n",
       "      <td>True</td>\n",
       "    </tr>\n",
       "    <tr>\n",
       "      <th>31</th>\n",
       "      <td>\\sec\\alpha=-2 \\land \\alpha \\in IV</td>\n",
       "      <td>['60.0', '-sqrt(3)/2', '1/2', '-sqrt(3)']</td>\n",
       "      <td>\\left [ 60.0, \\quad - \\frac{\\sqrt{3}}{2}, \\qua...</td>\n",
       "      <td>Calcular las restantes razones trigonométricas...</td>\n",
       "      <td>1BC</td>\n",
       "      <td>23 - Trigonometría</td>\n",
       "      <td>p039e07</td>\n",
       "      <td>1</td>\n",
       "      <td>1</td>\n",
       "      <td>1</td>\n",
       "      <td>True</td>\n",
       "      <td>True</td>\n",
       "    </tr>\n",
       "  </tbody>\n",
       "</table>\n",
       "</div>"
      ],
      "text/plain": [
       "                                      enunciado_latex  \\\n",
       "0                                                 45º   \n",
       "1                                                 75º   \n",
       "2                                                105º   \n",
       "3                                                230º   \n",
       "4                                   \\frac{{3\\pi }}{4}   \n",
       "5                               \\frac{{{5}\\pi }}{{3}}   \n",
       "6                           \\frac{{{{3}}\\pi }}{{{2}}}   \n",
       "7                           \\frac{{{{9}}\\pi }}{{{2}}}   \n",
       "8                           \\frac{{{{4}}\\pi }}{{{3}}}   \n",
       "9   \\sec^2\\alpha+\\csc^2\\alpha={\\sec^2\\alpha}\\cdot{...   \n",
       "10  \\frac{\\tan\\alpha+\\tan\\beta}{\\cot\\alpha+\\cot\\be...   \n",
       "11  \\frac{{\\sin\\alpha}\\cdot{\\cos\\alpha}}{{\\cos^2\\a...   \n",
       "12  \\cot\\alpha-\\frac{{\\cot^2\\alpha}-1}{\\cot\\alpha}...   \n",
       "13  \\frac{\\sin\\alpha+ \\cot \\alpha}{\\tan\\alpha+ \\cs...   \n",
       "14  \\cot^2\\alpha-\\cos^2\\alpha={\\cot^2\\alpha}\\cdot{...   \n",
       "15  \\sin\\alpha\\cos\\alpha\\tan\\alpha\\cot\\alpha\\sec\\a...   \n",
       "16  \\frac{1+\\tan\\alpha}{1-\\tan\\alpha}=\\frac{\\cos\\a...   \n",
       "17  \\frac{1+\\tan^2\\alpha}{\\cot\\alpha}=\\frac{\\tan\\a...   \n",
       "18            {\\sin\\alpha}\\cdot{\\frac{1}{\\tan\\alpha}}   \n",
       "19       \\sin^3\\alpha+{\\sin\\alpha}\\cdot{\\cos^2\\alpha}   \n",
       "20           \\sqrt{(1-\\sin\\alpha)\\cdot(1+\\sin\\alpha)}   \n",
       "21                          \\sin^4\\alpha-\\cos^4\\alpha   \n",
       "22  \\cos^3\\alpha+{\\cos^2\\alpha}\\cdot{\\sin\\alpha}+{...   \n",
       "23  {\\sin\\alpha}\\cdot{\\cos\\alpha}\\cdot(\\tan\\alpha+...   \n",
       "24  \\frac{\\cos^2\\alpha-\\sin^2\\alpha}{\\cos^4\\alpha-...   \n",
       "25  \\frac{\\sec^2\\alpha+\\cos^2\\alpha}{\\sec^2\\alpha-...   \n",
       "26                  \\frac{\\cos^2\\alpha}{1-\\sin\\alpha}   \n",
       "27                  \\frac{\\csc\\alpha}{1+\\cot^2\\alpha}   \n",
       "28          \\cos\\alpha=\\frac{4}{5} \\land \\alpha \\in I   \n",
       "29         \\sin\\alpha=\\frac{3}{5} \\land \\alpha \\in II   \n",
       "30        \\tan\\alpha=-\\frac{3}{4} \\land \\alpha \\in II   \n",
       "31                  \\sec\\alpha=-2 \\land \\alpha \\in IV   \n",
       "\n",
       "                                            enunciado  \\\n",
       "0                                                  45   \n",
       "1                                                  75   \n",
       "2                                                 105   \n",
       "3                                                 230   \n",
       "4                                            (3*pi)/4   \n",
       "5                                            (5*pi)/3   \n",
       "6                                            (3*pi)/2   \n",
       "7                                            (9*pi)/2   \n",
       "8                                            (4*pi)/3   \n",
       "9   Eq(csc(alpha)**2 + sec(alpha)**2, csc(alpha)**...   \n",
       "10  Eq((tan(alpha) + tan(beta))/(cot(alpha) + cot(...   \n",
       "11  Eq((sin(alpha)*cos(alpha))/(-sin(alpha)**2 + c...   \n",
       "12  Eq(-(cot(alpha)**2 - 1)/cot(alpha) + cot(alpha...   \n",
       "13  Eq((sin(alpha) + cot(alpha))/(tan(alpha) + csc...   \n",
       "14  Eq(-cos(alpha)**2 + cot(alpha)**2, cos(alpha)*...   \n",
       "15  Eq(((((csc(alpha)*sec(alpha))*cot(alpha))*tan(...   \n",
       "16  Eq((tan(alpha) + 1)/(-tan(alpha) + 1), (sin(al...   \n",
       "17  Eq((tan(alpha)**2 + 1)/cot(alpha), tan(alpha)/...   \n",
       "18                              sin(alpha)/tan(alpha)   \n",
       "19           sin(alpha)**3 + sin(alpha)*cos(alpha)**2   \n",
       "20           sqrt((-sin(alpha) + 1)*(sin(alpha) + 1))   \n",
       "21                      sin(alpha)**4 - cos(alpha)**4   \n",
       "22  sin(alpha)*cos(alpha)**2 + cos(alpha)**3 + sin...   \n",
       "23  (sin(alpha)*cos(alpha))*(tan(alpha) + 1/tan(al...   \n",
       "24  (-sin(alpha)**2 + cos(alpha)**2)/(-sin(alpha)*...   \n",
       "25  (cos(alpha)**2 + sec(alpha)**2)/(-cos(alpha)**...   \n",
       "26                    cos(alpha)**2/(-sin(alpha) + 1)   \n",
       "27                     csc(alpha)/(cot(alpha)**2 + 1)   \n",
       "28         ['36.86989764584401', '3/5', '4/5', '3/4']   \n",
       "29       ['36.86989764584402', '3/5', '-4/5', '-3/4']   \n",
       "30       ['36.86989764584402', '3/5', '-4/5', '-3/4']   \n",
       "31          ['60.0', '-sqrt(3)/2', '1/2', '-sqrt(3)']   \n",
       "\n",
       "                                             solucion  \\\n",
       "0                                       \\frac{\\pi}{4}   \n",
       "1                                    \\frac{5 \\pi}{12}   \n",
       "2                                    \\frac{7 \\pi}{12}   \n",
       "3                                   \\frac{23 \\pi}{18}   \n",
       "4                                                 135   \n",
       "5                                                 300   \n",
       "6                                                 270   \n",
       "7                                                 810   \n",
       "8                                                 240   \n",
       "9   \\left [ \\frac{8}{- \\cos{\\left (4 \\alpha \\right...   \n",
       "10  \\left [ \\tan{\\left (\\alpha \\right )} \\tan{\\lef...   \n",
       "11  \\left [ \\frac{\\tan{\\left (2 \\alpha \\right )}}{...   \n",
       "12  \\left [ \\tan{\\left (\\alpha \\right )}, \\quad \\t...   \n",
       "13  \\left [ \\cos{\\left (\\alpha \\right )}, \\quad \\c...   \n",
       "14  \\left [ - \\cos^{2}{\\left (\\alpha \\right )} + \\...   \n",
       "15       \\left [ 1, \\quad 1\\right ] \\to \\mathrm{True}   \n",
       "16  \\left [ \\frac{\\tan{\\left (\\alpha \\right )} + 1...   \n",
       "17  \\left [ \\frac{\\tan{\\left (\\alpha \\right )}}{\\c...   \n",
       "18                       \\cos{\\left (\\alpha \\right )}   \n",
       "19                       \\sin{\\left (\\alpha \\right )}   \n",
       "20            \\sqrt{\\cos^{2}{\\left (\\alpha \\right )}}   \n",
       "21                   - \\cos{\\left (2 \\alpha \\right )}   \n",
       "22  \\sqrt{2} \\sin{\\left (\\alpha + \\frac{\\pi}{4} \\r...   \n",
       "23                                                  1   \n",
       "24                                                  1   \n",
       "25  \\frac{\\left(- \\cos^{2}{\\left (\\alpha \\right )}...   \n",
       "26                   \\sin{\\left (\\alpha \\right )} + 1   \n",
       "27                       \\sin{\\left (\\alpha \\right )}   \n",
       "28  \\left [ 36.86989764584401, \\quad \\frac{3}{5}, ...   \n",
       "29  \\left [ 36.86989764584402, \\quad \\frac{3}{5}, ...   \n",
       "30  \\left [ 36.86989764584402, \\quad \\frac{3}{5}, ...   \n",
       "31  \\left [ 60.0, \\quad - \\frac{\\sqrt{3}}{2}, \\qua...   \n",
       "\n",
       "                                                texto curso  \\\n",
       "0   Expresa en radianes los siguientes ángulos, da...   1BC   \n",
       "1   Expresa en radianes los siguientes ángulos, da...   1BC   \n",
       "2   Expresa en radianes los siguientes ángulos, da...   1BC   \n",
       "3   Expresa en radianes los siguientes ángulos, da...   1BC   \n",
       "4   Expresa en grados los siguientes ángulos dados...   1BC   \n",
       "5   Expresa en grados los siguientes ángulos dados...   1BC   \n",
       "6   Expresa en grados los siguientes ángulos dados...   1BC   \n",
       "7   Expresa en grados los siguientes ángulos dados...   1BC   \n",
       "8   Expresa en grados los siguientes ángulos dados...   1BC   \n",
       "9   Demostrar si son verdaderas o falsas las sigui...   1BC   \n",
       "10  Demostrar si son verdaderas o falsas las sigui...   1BC   \n",
       "11  Demostrar si son verdaderas o falsas las sigui...   1BC   \n",
       "12  Demostrar si son verdaderas o falsas las sigui...   1BC   \n",
       "13  Demostrar si son verdaderas o falsas las sigui...   1BC   \n",
       "14  Demostrar si son verdaderas o falsas las sigui...   1BC   \n",
       "15  Demostrar si son verdaderas o falsas las sigui...   1BC   \n",
       "16  Demostrar si son verdaderas o falsas las sigui...   1BC   \n",
       "17  Demostrar si son verdaderas o falsas las sigui...   1BC   \n",
       "18            Simplificar las siguientes expresiones:   1BC   \n",
       "19            Simplificar las siguientes expresiones:   1BC   \n",
       "20            Simplificar las siguientes expresiones:   1BC   \n",
       "21            Simplificar las siguientes expresiones:   1BC   \n",
       "22            Simplificar las siguientes expresiones:   1BC   \n",
       "23            Simplificar las siguientes expresiones:   1BC   \n",
       "24            Simplificar las siguientes expresiones:   1BC   \n",
       "25            Simplificar las siguientes expresiones:   1BC   \n",
       "26            Simplificar las siguientes expresiones:   1BC   \n",
       "27            Simplificar las siguientes expresiones:   1BC   \n",
       "28  Calcular las restantes razones trigonométricas...   1BC   \n",
       "29  Calcular las restantes razones trigonométricas...   1BC   \n",
       "30  Calcular las restantes razones trigonométricas...   1BC   \n",
       "31  Calcular las restantes razones trigonométricas...   1BC   \n",
       "\n",
       "                titulo n_ejercicio  dificultad  n_columnas  puntos  enun_tex  \\\n",
       "0   23 - Trigonometría     p039e01           1           3       1     False   \n",
       "1   23 - Trigonometría     p039e01           1           3       1     False   \n",
       "2   23 - Trigonometría     p039e01           1           3       1     False   \n",
       "3   23 - Trigonometría     p039e01           1           3       1     False   \n",
       "4   23 - Trigonometría     p039e02           1           3       1      True   \n",
       "5   23 - Trigonometría     p039e02           1           3       1      True   \n",
       "6   23 - Trigonometría     p039e02           1           3       1      True   \n",
       "7   23 - Trigonometría     p039e02           1           3       1      True   \n",
       "8   23 - Trigonometría     p039e02           1           3       1      True   \n",
       "9   23 - Trigonometría   p039e05y6           1           1       1      True   \n",
       "10  23 - Trigonometría   p039e05y6           1           1       1      True   \n",
       "11  23 - Trigonometría   p039e05y6           1           1       1      True   \n",
       "12  23 - Trigonometría   p039e05y6           1           1       1      True   \n",
       "13  23 - Trigonometría   p039e05y6           1           1       1      True   \n",
       "14  23 - Trigonometría   p039e05y6           1           1       1      True   \n",
       "15  23 - Trigonometría   p039e05y6           1           1       1      True   \n",
       "16  23 - Trigonometría   p039e05y6           1           1       1      True   \n",
       "17  23 - Trigonometría   p039e05y6           1           1       1      True   \n",
       "18  23 - Trigonometría     p039e07           1           1       1      True   \n",
       "19  23 - Trigonometría     p039e07           1           1       1      True   \n",
       "20  23 - Trigonometría     p039e07           1           1       1      True   \n",
       "21  23 - Trigonometría     p039e07           1           1       1      True   \n",
       "22  23 - Trigonometría     p039e07           1           1       1      True   \n",
       "23  23 - Trigonometría     p039e07           1           1       1      True   \n",
       "24  23 - Trigonometría     p039e07           1           1       1      True   \n",
       "25  23 - Trigonometría     p039e07           1           1       1      True   \n",
       "26  23 - Trigonometría     p039e07           1           1       1      True   \n",
       "27  23 - Trigonometría     p039e07           1           1       1      True   \n",
       "28  23 - Trigonometría     p039e07           1           1       1      True   \n",
       "29  23 - Trigonometría     p039e07           1           1       1      True   \n",
       "30  23 - Trigonometría     p039e07           1           1       1      True   \n",
       "31  23 - Trigonometría     p039e07           1           1       1      True   \n",
       "\n",
       "    sol_tex  \n",
       "0      True  \n",
       "1      True  \n",
       "2      True  \n",
       "3      True  \n",
       "4      True  \n",
       "5      True  \n",
       "6      True  \n",
       "7      True  \n",
       "8      True  \n",
       "9      True  \n",
       "10     True  \n",
       "11     True  \n",
       "12     True  \n",
       "13     True  \n",
       "14     True  \n",
       "15     True  \n",
       "16     True  \n",
       "17     True  \n",
       "18     True  \n",
       "19     True  \n",
       "20     True  \n",
       "21     True  \n",
       "22     True  \n",
       "23     True  \n",
       "24     True  \n",
       "25     True  \n",
       "26     True  \n",
       "27     True  \n",
       "28     True  \n",
       "29     True  \n",
       "30     True  \n",
       "31     True  "
      ]
     },
     "execution_count": 12,
     "metadata": {},
     "output_type": "execute_result"
    }
   ],
   "source": [
    "df_ejercicios"
   ]
  },
  {
   "cell_type": "code",
   "execution_count": 13,
   "metadata": {
    "scrolled": false
   },
   "outputs": [
    {
     "data": {
      "text/markdown": [
       "**Ejercicio: **p039e01"
      ],
      "text/plain": [
       "<IPython.core.display.Markdown object>"
      ]
     },
     "metadata": {},
     "output_type": "display_data"
    },
    {
     "data": {
      "text/html": [
       "<div>\n",
       "<style scoped>\n",
       "    .dataframe tbody tr th:only-of-type {\n",
       "        vertical-align: middle;\n",
       "    }\n",
       "\n",
       "    .dataframe tbody tr th {\n",
       "        vertical-align: top;\n",
       "    }\n",
       "\n",
       "    .dataframe thead th {\n",
       "        text-align: right;\n",
       "    }\n",
       "</style>\n",
       "<table border=\"1\" class=\"dataframe\">\n",
       "  <thead>\n",
       "    <tr style=\"text-align: right;\">\n",
       "      <th></th>\n",
       "      <th>enunciado_latex</th>\n",
       "      <th>enunciado</th>\n",
       "      <th>solucion</th>\n",
       "      <th>texto</th>\n",
       "      <th>curso</th>\n",
       "      <th>titulo</th>\n",
       "      <th>n_ejercicio</th>\n",
       "      <th>dificultad</th>\n",
       "      <th>n_columnas</th>\n",
       "      <th>puntos</th>\n",
       "      <th>enun_tex</th>\n",
       "      <th>sol_tex</th>\n",
       "    </tr>\n",
       "  </thead>\n",
       "  <tbody>\n",
       "    <tr>\n",
       "      <th>0</th>\n",
       "      <td>45º</td>\n",
       "      <td>45</td>\n",
       "      <td>\\frac{\\pi}{4}</td>\n",
       "      <td>Expresa en radianes los siguientes ángulos, da...</td>\n",
       "      <td>1BC</td>\n",
       "      <td>23 - Trigonometría</td>\n",
       "      <td>p039e01</td>\n",
       "      <td>1</td>\n",
       "      <td>3</td>\n",
       "      <td>1</td>\n",
       "      <td>False</td>\n",
       "      <td>True</td>\n",
       "    </tr>\n",
       "    <tr>\n",
       "      <th>1</th>\n",
       "      <td>75º</td>\n",
       "      <td>75</td>\n",
       "      <td>\\frac{5 \\pi}{12}</td>\n",
       "      <td>Expresa en radianes los siguientes ángulos, da...</td>\n",
       "      <td>1BC</td>\n",
       "      <td>23 - Trigonometría</td>\n",
       "      <td>p039e01</td>\n",
       "      <td>1</td>\n",
       "      <td>3</td>\n",
       "      <td>1</td>\n",
       "      <td>False</td>\n",
       "      <td>True</td>\n",
       "    </tr>\n",
       "    <tr>\n",
       "      <th>2</th>\n",
       "      <td>105º</td>\n",
       "      <td>105</td>\n",
       "      <td>\\frac{7 \\pi}{12}</td>\n",
       "      <td>Expresa en radianes los siguientes ángulos, da...</td>\n",
       "      <td>1BC</td>\n",
       "      <td>23 - Trigonometría</td>\n",
       "      <td>p039e01</td>\n",
       "      <td>1</td>\n",
       "      <td>3</td>\n",
       "      <td>1</td>\n",
       "      <td>False</td>\n",
       "      <td>True</td>\n",
       "    </tr>\n",
       "    <tr>\n",
       "      <th>3</th>\n",
       "      <td>230º</td>\n",
       "      <td>230</td>\n",
       "      <td>\\frac{23 \\pi}{18}</td>\n",
       "      <td>Expresa en radianes los siguientes ángulos, da...</td>\n",
       "      <td>1BC</td>\n",
       "      <td>23 - Trigonometría</td>\n",
       "      <td>p039e01</td>\n",
       "      <td>1</td>\n",
       "      <td>3</td>\n",
       "      <td>1</td>\n",
       "      <td>False</td>\n",
       "      <td>True</td>\n",
       "    </tr>\n",
       "  </tbody>\n",
       "</table>\n",
       "</div>"
      ],
      "text/plain": [
       "  enunciado_latex enunciado           solucion  \\\n",
       "0             45º        45      \\frac{\\pi}{4}   \n",
       "1             75º        75   \\frac{5 \\pi}{12}   \n",
       "2            105º       105   \\frac{7 \\pi}{12}   \n",
       "3            230º       230  \\frac{23 \\pi}{18}   \n",
       "\n",
       "                                               texto curso  \\\n",
       "0  Expresa en radianes los siguientes ángulos, da...   1BC   \n",
       "1  Expresa en radianes los siguientes ángulos, da...   1BC   \n",
       "2  Expresa en radianes los siguientes ángulos, da...   1BC   \n",
       "3  Expresa en radianes los siguientes ángulos, da...   1BC   \n",
       "\n",
       "               titulo n_ejercicio  dificultad  n_columnas  puntos  enun_tex  \\\n",
       "0  23 - Trigonometría     p039e01           1           3       1     False   \n",
       "1  23 - Trigonometría     p039e01           1           3       1     False   \n",
       "2  23 - Trigonometría     p039e01           1           3       1     False   \n",
       "3  23 - Trigonometría     p039e01           1           3       1     False   \n",
       "\n",
       "   sol_tex  \n",
       "0     True  \n",
       "1     True  \n",
       "2     True  \n",
       "3     True  "
      ]
     },
     "metadata": {},
     "output_type": "display_data"
    },
    {
     "data": {
      "text/markdown": [
       "**Ejercicio: **p039e02"
      ],
      "text/plain": [
       "<IPython.core.display.Markdown object>"
      ]
     },
     "metadata": {},
     "output_type": "display_data"
    },
    {
     "data": {
      "text/html": [
       "<div>\n",
       "<style scoped>\n",
       "    .dataframe tbody tr th:only-of-type {\n",
       "        vertical-align: middle;\n",
       "    }\n",
       "\n",
       "    .dataframe tbody tr th {\n",
       "        vertical-align: top;\n",
       "    }\n",
       "\n",
       "    .dataframe thead th {\n",
       "        text-align: right;\n",
       "    }\n",
       "</style>\n",
       "<table border=\"1\" class=\"dataframe\">\n",
       "  <thead>\n",
       "    <tr style=\"text-align: right;\">\n",
       "      <th></th>\n",
       "      <th>enunciado_latex</th>\n",
       "      <th>enunciado</th>\n",
       "      <th>solucion</th>\n",
       "      <th>texto</th>\n",
       "      <th>curso</th>\n",
       "      <th>titulo</th>\n",
       "      <th>n_ejercicio</th>\n",
       "      <th>dificultad</th>\n",
       "      <th>n_columnas</th>\n",
       "      <th>puntos</th>\n",
       "      <th>enun_tex</th>\n",
       "      <th>sol_tex</th>\n",
       "    </tr>\n",
       "  </thead>\n",
       "  <tbody>\n",
       "    <tr>\n",
       "      <th>4</th>\n",
       "      <td>\\frac{{3\\pi }}{4}</td>\n",
       "      <td>(3*pi)/4</td>\n",
       "      <td>135</td>\n",
       "      <td>Expresa en grados los siguientes ángulos dados...</td>\n",
       "      <td>1BC</td>\n",
       "      <td>23 - Trigonometría</td>\n",
       "      <td>p039e02</td>\n",
       "      <td>1</td>\n",
       "      <td>3</td>\n",
       "      <td>1</td>\n",
       "      <td>True</td>\n",
       "      <td>True</td>\n",
       "    </tr>\n",
       "    <tr>\n",
       "      <th>5</th>\n",
       "      <td>\\frac{{{5}\\pi }}{{3}}</td>\n",
       "      <td>(5*pi)/3</td>\n",
       "      <td>300</td>\n",
       "      <td>Expresa en grados los siguientes ángulos dados...</td>\n",
       "      <td>1BC</td>\n",
       "      <td>23 - Trigonometría</td>\n",
       "      <td>p039e02</td>\n",
       "      <td>1</td>\n",
       "      <td>3</td>\n",
       "      <td>1</td>\n",
       "      <td>True</td>\n",
       "      <td>True</td>\n",
       "    </tr>\n",
       "    <tr>\n",
       "      <th>6</th>\n",
       "      <td>\\frac{{{{3}}\\pi }}{{{2}}}</td>\n",
       "      <td>(3*pi)/2</td>\n",
       "      <td>270</td>\n",
       "      <td>Expresa en grados los siguientes ángulos dados...</td>\n",
       "      <td>1BC</td>\n",
       "      <td>23 - Trigonometría</td>\n",
       "      <td>p039e02</td>\n",
       "      <td>1</td>\n",
       "      <td>3</td>\n",
       "      <td>1</td>\n",
       "      <td>True</td>\n",
       "      <td>True</td>\n",
       "    </tr>\n",
       "    <tr>\n",
       "      <th>7</th>\n",
       "      <td>\\frac{{{{9}}\\pi }}{{{2}}}</td>\n",
       "      <td>(9*pi)/2</td>\n",
       "      <td>810</td>\n",
       "      <td>Expresa en grados los siguientes ángulos dados...</td>\n",
       "      <td>1BC</td>\n",
       "      <td>23 - Trigonometría</td>\n",
       "      <td>p039e02</td>\n",
       "      <td>1</td>\n",
       "      <td>3</td>\n",
       "      <td>1</td>\n",
       "      <td>True</td>\n",
       "      <td>True</td>\n",
       "    </tr>\n",
       "    <tr>\n",
       "      <th>8</th>\n",
       "      <td>\\frac{{{{4}}\\pi }}{{{3}}}</td>\n",
       "      <td>(4*pi)/3</td>\n",
       "      <td>240</td>\n",
       "      <td>Expresa en grados los siguientes ángulos dados...</td>\n",
       "      <td>1BC</td>\n",
       "      <td>23 - Trigonometría</td>\n",
       "      <td>p039e02</td>\n",
       "      <td>1</td>\n",
       "      <td>3</td>\n",
       "      <td>1</td>\n",
       "      <td>True</td>\n",
       "      <td>True</td>\n",
       "    </tr>\n",
       "  </tbody>\n",
       "</table>\n",
       "</div>"
      ],
      "text/plain": [
       "             enunciado_latex enunciado solucion  \\\n",
       "4          \\frac{{3\\pi }}{4}  (3*pi)/4      135   \n",
       "5      \\frac{{{5}\\pi }}{{3}}  (5*pi)/3      300   \n",
       "6  \\frac{{{{3}}\\pi }}{{{2}}}  (3*pi)/2      270   \n",
       "7  \\frac{{{{9}}\\pi }}{{{2}}}  (9*pi)/2      810   \n",
       "8  \\frac{{{{4}}\\pi }}{{{3}}}  (4*pi)/3      240   \n",
       "\n",
       "                                               texto curso  \\\n",
       "4  Expresa en grados los siguientes ángulos dados...   1BC   \n",
       "5  Expresa en grados los siguientes ángulos dados...   1BC   \n",
       "6  Expresa en grados los siguientes ángulos dados...   1BC   \n",
       "7  Expresa en grados los siguientes ángulos dados...   1BC   \n",
       "8  Expresa en grados los siguientes ángulos dados...   1BC   \n",
       "\n",
       "               titulo n_ejercicio  dificultad  n_columnas  puntos  enun_tex  \\\n",
       "4  23 - Trigonometría     p039e02           1           3       1      True   \n",
       "5  23 - Trigonometría     p039e02           1           3       1      True   \n",
       "6  23 - Trigonometría     p039e02           1           3       1      True   \n",
       "7  23 - Trigonometría     p039e02           1           3       1      True   \n",
       "8  23 - Trigonometría     p039e02           1           3       1      True   \n",
       "\n",
       "   sol_tex  \n",
       "4     True  \n",
       "5     True  \n",
       "6     True  \n",
       "7     True  \n",
       "8     True  "
      ]
     },
     "metadata": {},
     "output_type": "display_data"
    },
    {
     "data": {
      "text/markdown": [
       "**Ejercicio: **p039e05y6"
      ],
      "text/plain": [
       "<IPython.core.display.Markdown object>"
      ]
     },
     "metadata": {},
     "output_type": "display_data"
    },
    {
     "data": {
      "text/html": [
       "<div>\n",
       "<style scoped>\n",
       "    .dataframe tbody tr th:only-of-type {\n",
       "        vertical-align: middle;\n",
       "    }\n",
       "\n",
       "    .dataframe tbody tr th {\n",
       "        vertical-align: top;\n",
       "    }\n",
       "\n",
       "    .dataframe thead th {\n",
       "        text-align: right;\n",
       "    }\n",
       "</style>\n",
       "<table border=\"1\" class=\"dataframe\">\n",
       "  <thead>\n",
       "    <tr style=\"text-align: right;\">\n",
       "      <th></th>\n",
       "      <th>enunciado_latex</th>\n",
       "      <th>enunciado</th>\n",
       "      <th>solucion</th>\n",
       "      <th>texto</th>\n",
       "      <th>curso</th>\n",
       "      <th>titulo</th>\n",
       "      <th>n_ejercicio</th>\n",
       "      <th>dificultad</th>\n",
       "      <th>n_columnas</th>\n",
       "      <th>puntos</th>\n",
       "      <th>enun_tex</th>\n",
       "      <th>sol_tex</th>\n",
       "    </tr>\n",
       "  </thead>\n",
       "  <tbody>\n",
       "    <tr>\n",
       "      <th>9</th>\n",
       "      <td>\\sec^2\\alpha+\\csc^2\\alpha={\\sec^2\\alpha}\\cdot{...</td>\n",
       "      <td>Eq(csc(alpha)**2 + sec(alpha)**2, csc(alpha)**...</td>\n",
       "      <td>\\left [ \\frac{8}{- \\cos{\\left (4 \\alpha \\right...</td>\n",
       "      <td>Demostrar si son verdaderas o falsas las sigui...</td>\n",
       "      <td>1BC</td>\n",
       "      <td>23 - Trigonometría</td>\n",
       "      <td>p039e05y6</td>\n",
       "      <td>1</td>\n",
       "      <td>1</td>\n",
       "      <td>1</td>\n",
       "      <td>True</td>\n",
       "      <td>True</td>\n",
       "    </tr>\n",
       "    <tr>\n",
       "      <th>10</th>\n",
       "      <td>\\frac{\\tan\\alpha+\\tan\\beta}{\\cot\\alpha+\\cot\\be...</td>\n",
       "      <td>Eq((tan(alpha) + tan(beta))/(cot(alpha) + cot(...</td>\n",
       "      <td>\\left [ \\tan{\\left (\\alpha \\right )} \\tan{\\lef...</td>\n",
       "      <td>Demostrar si son verdaderas o falsas las sigui...</td>\n",
       "      <td>1BC</td>\n",
       "      <td>23 - Trigonometría</td>\n",
       "      <td>p039e05y6</td>\n",
       "      <td>1</td>\n",
       "      <td>1</td>\n",
       "      <td>1</td>\n",
       "      <td>True</td>\n",
       "      <td>True</td>\n",
       "    </tr>\n",
       "    <tr>\n",
       "      <th>11</th>\n",
       "      <td>\\frac{{\\sin\\alpha}\\cdot{\\cos\\alpha}}{{\\cos^2\\a...</td>\n",
       "      <td>Eq((sin(alpha)*cos(alpha))/(-sin(alpha)**2 + c...</td>\n",
       "      <td>\\left [ \\frac{\\tan{\\left (2 \\alpha \\right )}}{...</td>\n",
       "      <td>Demostrar si son verdaderas o falsas las sigui...</td>\n",
       "      <td>1BC</td>\n",
       "      <td>23 - Trigonometría</td>\n",
       "      <td>p039e05y6</td>\n",
       "      <td>1</td>\n",
       "      <td>1</td>\n",
       "      <td>1</td>\n",
       "      <td>True</td>\n",
       "      <td>True</td>\n",
       "    </tr>\n",
       "    <tr>\n",
       "      <th>12</th>\n",
       "      <td>\\cot\\alpha-\\frac{{\\cot^2\\alpha}-1}{\\cot\\alpha}...</td>\n",
       "      <td>Eq(-(cot(alpha)**2 - 1)/cot(alpha) + cot(alpha...</td>\n",
       "      <td>\\left [ \\tan{\\left (\\alpha \\right )}, \\quad \\t...</td>\n",
       "      <td>Demostrar si son verdaderas o falsas las sigui...</td>\n",
       "      <td>1BC</td>\n",
       "      <td>23 - Trigonometría</td>\n",
       "      <td>p039e05y6</td>\n",
       "      <td>1</td>\n",
       "      <td>1</td>\n",
       "      <td>1</td>\n",
       "      <td>True</td>\n",
       "      <td>True</td>\n",
       "    </tr>\n",
       "    <tr>\n",
       "      <th>13</th>\n",
       "      <td>\\frac{\\sin\\alpha+ \\cot \\alpha}{\\tan\\alpha+ \\cs...</td>\n",
       "      <td>Eq((sin(alpha) + cot(alpha))/(tan(alpha) + csc...</td>\n",
       "      <td>\\left [ \\cos{\\left (\\alpha \\right )}, \\quad \\c...</td>\n",
       "      <td>Demostrar si son verdaderas o falsas las sigui...</td>\n",
       "      <td>1BC</td>\n",
       "      <td>23 - Trigonometría</td>\n",
       "      <td>p039e05y6</td>\n",
       "      <td>1</td>\n",
       "      <td>1</td>\n",
       "      <td>1</td>\n",
       "      <td>True</td>\n",
       "      <td>True</td>\n",
       "    </tr>\n",
       "    <tr>\n",
       "      <th>14</th>\n",
       "      <td>\\cot^2\\alpha-\\cos^2\\alpha={\\cot^2\\alpha}\\cdot{...</td>\n",
       "      <td>Eq(-cos(alpha)**2 + cot(alpha)**2, cos(alpha)*...</td>\n",
       "      <td>\\left [ - \\cos^{2}{\\left (\\alpha \\right )} + \\...</td>\n",
       "      <td>Demostrar si son verdaderas o falsas las sigui...</td>\n",
       "      <td>1BC</td>\n",
       "      <td>23 - Trigonometría</td>\n",
       "      <td>p039e05y6</td>\n",
       "      <td>1</td>\n",
       "      <td>1</td>\n",
       "      <td>1</td>\n",
       "      <td>True</td>\n",
       "      <td>True</td>\n",
       "    </tr>\n",
       "    <tr>\n",
       "      <th>15</th>\n",
       "      <td>\\sin\\alpha\\cos\\alpha\\tan\\alpha\\cot\\alpha\\sec\\a...</td>\n",
       "      <td>Eq(((((csc(alpha)*sec(alpha))*cot(alpha))*tan(...</td>\n",
       "      <td>\\left [ 1, \\quad 1\\right ] \\to \\mathrm{True}</td>\n",
       "      <td>Demostrar si son verdaderas o falsas las sigui...</td>\n",
       "      <td>1BC</td>\n",
       "      <td>23 - Trigonometría</td>\n",
       "      <td>p039e05y6</td>\n",
       "      <td>1</td>\n",
       "      <td>1</td>\n",
       "      <td>1</td>\n",
       "      <td>True</td>\n",
       "      <td>True</td>\n",
       "    </tr>\n",
       "    <tr>\n",
       "      <th>16</th>\n",
       "      <td>\\frac{1+\\tan\\alpha}{1-\\tan\\alpha}=\\frac{\\cos\\a...</td>\n",
       "      <td>Eq((tan(alpha) + 1)/(-tan(alpha) + 1), (sin(al...</td>\n",
       "      <td>\\left [ \\frac{\\tan{\\left (\\alpha \\right )} + 1...</td>\n",
       "      <td>Demostrar si son verdaderas o falsas las sigui...</td>\n",
       "      <td>1BC</td>\n",
       "      <td>23 - Trigonometría</td>\n",
       "      <td>p039e05y6</td>\n",
       "      <td>1</td>\n",
       "      <td>1</td>\n",
       "      <td>1</td>\n",
       "      <td>True</td>\n",
       "      <td>True</td>\n",
       "    </tr>\n",
       "    <tr>\n",
       "      <th>17</th>\n",
       "      <td>\\frac{1+\\tan^2\\alpha}{\\cot\\alpha}=\\frac{\\tan\\a...</td>\n",
       "      <td>Eq((tan(alpha)**2 + 1)/cot(alpha), tan(alpha)/...</td>\n",
       "      <td>\\left [ \\frac{\\tan{\\left (\\alpha \\right )}}{\\c...</td>\n",
       "      <td>Demostrar si son verdaderas o falsas las sigui...</td>\n",
       "      <td>1BC</td>\n",
       "      <td>23 - Trigonometría</td>\n",
       "      <td>p039e05y6</td>\n",
       "      <td>1</td>\n",
       "      <td>1</td>\n",
       "      <td>1</td>\n",
       "      <td>True</td>\n",
       "      <td>True</td>\n",
       "    </tr>\n",
       "  </tbody>\n",
       "</table>\n",
       "</div>"
      ],
      "text/plain": [
       "                                      enunciado_latex  \\\n",
       "9   \\sec^2\\alpha+\\csc^2\\alpha={\\sec^2\\alpha}\\cdot{...   \n",
       "10  \\frac{\\tan\\alpha+\\tan\\beta}{\\cot\\alpha+\\cot\\be...   \n",
       "11  \\frac{{\\sin\\alpha}\\cdot{\\cos\\alpha}}{{\\cos^2\\a...   \n",
       "12  \\cot\\alpha-\\frac{{\\cot^2\\alpha}-1}{\\cot\\alpha}...   \n",
       "13  \\frac{\\sin\\alpha+ \\cot \\alpha}{\\tan\\alpha+ \\cs...   \n",
       "14  \\cot^2\\alpha-\\cos^2\\alpha={\\cot^2\\alpha}\\cdot{...   \n",
       "15  \\sin\\alpha\\cos\\alpha\\tan\\alpha\\cot\\alpha\\sec\\a...   \n",
       "16  \\frac{1+\\tan\\alpha}{1-\\tan\\alpha}=\\frac{\\cos\\a...   \n",
       "17  \\frac{1+\\tan^2\\alpha}{\\cot\\alpha}=\\frac{\\tan\\a...   \n",
       "\n",
       "                                            enunciado  \\\n",
       "9   Eq(csc(alpha)**2 + sec(alpha)**2, csc(alpha)**...   \n",
       "10  Eq((tan(alpha) + tan(beta))/(cot(alpha) + cot(...   \n",
       "11  Eq((sin(alpha)*cos(alpha))/(-sin(alpha)**2 + c...   \n",
       "12  Eq(-(cot(alpha)**2 - 1)/cot(alpha) + cot(alpha...   \n",
       "13  Eq((sin(alpha) + cot(alpha))/(tan(alpha) + csc...   \n",
       "14  Eq(-cos(alpha)**2 + cot(alpha)**2, cos(alpha)*...   \n",
       "15  Eq(((((csc(alpha)*sec(alpha))*cot(alpha))*tan(...   \n",
       "16  Eq((tan(alpha) + 1)/(-tan(alpha) + 1), (sin(al...   \n",
       "17  Eq((tan(alpha)**2 + 1)/cot(alpha), tan(alpha)/...   \n",
       "\n",
       "                                             solucion  \\\n",
       "9   \\left [ \\frac{8}{- \\cos{\\left (4 \\alpha \\right...   \n",
       "10  \\left [ \\tan{\\left (\\alpha \\right )} \\tan{\\lef...   \n",
       "11  \\left [ \\frac{\\tan{\\left (2 \\alpha \\right )}}{...   \n",
       "12  \\left [ \\tan{\\left (\\alpha \\right )}, \\quad \\t...   \n",
       "13  \\left [ \\cos{\\left (\\alpha \\right )}, \\quad \\c...   \n",
       "14  \\left [ - \\cos^{2}{\\left (\\alpha \\right )} + \\...   \n",
       "15       \\left [ 1, \\quad 1\\right ] \\to \\mathrm{True}   \n",
       "16  \\left [ \\frac{\\tan{\\left (\\alpha \\right )} + 1...   \n",
       "17  \\left [ \\frac{\\tan{\\left (\\alpha \\right )}}{\\c...   \n",
       "\n",
       "                                                texto curso  \\\n",
       "9   Demostrar si son verdaderas o falsas las sigui...   1BC   \n",
       "10  Demostrar si son verdaderas o falsas las sigui...   1BC   \n",
       "11  Demostrar si son verdaderas o falsas las sigui...   1BC   \n",
       "12  Demostrar si son verdaderas o falsas las sigui...   1BC   \n",
       "13  Demostrar si son verdaderas o falsas las sigui...   1BC   \n",
       "14  Demostrar si son verdaderas o falsas las sigui...   1BC   \n",
       "15  Demostrar si son verdaderas o falsas las sigui...   1BC   \n",
       "16  Demostrar si son verdaderas o falsas las sigui...   1BC   \n",
       "17  Demostrar si son verdaderas o falsas las sigui...   1BC   \n",
       "\n",
       "                titulo n_ejercicio  dificultad  n_columnas  puntos  enun_tex  \\\n",
       "9   23 - Trigonometría   p039e05y6           1           1       1      True   \n",
       "10  23 - Trigonometría   p039e05y6           1           1       1      True   \n",
       "11  23 - Trigonometría   p039e05y6           1           1       1      True   \n",
       "12  23 - Trigonometría   p039e05y6           1           1       1      True   \n",
       "13  23 - Trigonometría   p039e05y6           1           1       1      True   \n",
       "14  23 - Trigonometría   p039e05y6           1           1       1      True   \n",
       "15  23 - Trigonometría   p039e05y6           1           1       1      True   \n",
       "16  23 - Trigonometría   p039e05y6           1           1       1      True   \n",
       "17  23 - Trigonometría   p039e05y6           1           1       1      True   \n",
       "\n",
       "    sol_tex  \n",
       "9      True  \n",
       "10     True  \n",
       "11     True  \n",
       "12     True  \n",
       "13     True  \n",
       "14     True  \n",
       "15     True  \n",
       "16     True  \n",
       "17     True  "
      ]
     },
     "metadata": {},
     "output_type": "display_data"
    },
    {
     "data": {
      "text/markdown": [
       "**Ejercicio: **p039e07"
      ],
      "text/plain": [
       "<IPython.core.display.Markdown object>"
      ]
     },
     "metadata": {},
     "output_type": "display_data"
    },
    {
     "data": {
      "text/html": [
       "<div>\n",
       "<style scoped>\n",
       "    .dataframe tbody tr th:only-of-type {\n",
       "        vertical-align: middle;\n",
       "    }\n",
       "\n",
       "    .dataframe tbody tr th {\n",
       "        vertical-align: top;\n",
       "    }\n",
       "\n",
       "    .dataframe thead th {\n",
       "        text-align: right;\n",
       "    }\n",
       "</style>\n",
       "<table border=\"1\" class=\"dataframe\">\n",
       "  <thead>\n",
       "    <tr style=\"text-align: right;\">\n",
       "      <th></th>\n",
       "      <th>enunciado_latex</th>\n",
       "      <th>enunciado</th>\n",
       "      <th>solucion</th>\n",
       "      <th>texto</th>\n",
       "      <th>curso</th>\n",
       "      <th>titulo</th>\n",
       "      <th>n_ejercicio</th>\n",
       "      <th>dificultad</th>\n",
       "      <th>n_columnas</th>\n",
       "      <th>puntos</th>\n",
       "      <th>enun_tex</th>\n",
       "      <th>sol_tex</th>\n",
       "    </tr>\n",
       "  </thead>\n",
       "  <tbody>\n",
       "    <tr>\n",
       "      <th>18</th>\n",
       "      <td>{\\sin\\alpha}\\cdot{\\frac{1}{\\tan\\alpha}}</td>\n",
       "      <td>sin(alpha)/tan(alpha)</td>\n",
       "      <td>\\cos{\\left (\\alpha \\right )}</td>\n",
       "      <td>Simplificar las siguientes expresiones:</td>\n",
       "      <td>1BC</td>\n",
       "      <td>23 - Trigonometría</td>\n",
       "      <td>p039e07</td>\n",
       "      <td>1</td>\n",
       "      <td>1</td>\n",
       "      <td>1</td>\n",
       "      <td>True</td>\n",
       "      <td>True</td>\n",
       "    </tr>\n",
       "    <tr>\n",
       "      <th>19</th>\n",
       "      <td>\\sin^3\\alpha+{\\sin\\alpha}\\cdot{\\cos^2\\alpha}</td>\n",
       "      <td>sin(alpha)**3 + sin(alpha)*cos(alpha)**2</td>\n",
       "      <td>\\sin{\\left (\\alpha \\right )}</td>\n",
       "      <td>Simplificar las siguientes expresiones:</td>\n",
       "      <td>1BC</td>\n",
       "      <td>23 - Trigonometría</td>\n",
       "      <td>p039e07</td>\n",
       "      <td>1</td>\n",
       "      <td>1</td>\n",
       "      <td>1</td>\n",
       "      <td>True</td>\n",
       "      <td>True</td>\n",
       "    </tr>\n",
       "    <tr>\n",
       "      <th>20</th>\n",
       "      <td>\\sqrt{(1-\\sin\\alpha)\\cdot(1+\\sin\\alpha)}</td>\n",
       "      <td>sqrt((-sin(alpha) + 1)*(sin(alpha) + 1))</td>\n",
       "      <td>\\sqrt{\\cos^{2}{\\left (\\alpha \\right )}}</td>\n",
       "      <td>Simplificar las siguientes expresiones:</td>\n",
       "      <td>1BC</td>\n",
       "      <td>23 - Trigonometría</td>\n",
       "      <td>p039e07</td>\n",
       "      <td>1</td>\n",
       "      <td>1</td>\n",
       "      <td>1</td>\n",
       "      <td>True</td>\n",
       "      <td>True</td>\n",
       "    </tr>\n",
       "    <tr>\n",
       "      <th>21</th>\n",
       "      <td>\\sin^4\\alpha-\\cos^4\\alpha</td>\n",
       "      <td>sin(alpha)**4 - cos(alpha)**4</td>\n",
       "      <td>- \\cos{\\left (2 \\alpha \\right )}</td>\n",
       "      <td>Simplificar las siguientes expresiones:</td>\n",
       "      <td>1BC</td>\n",
       "      <td>23 - Trigonometría</td>\n",
       "      <td>p039e07</td>\n",
       "      <td>1</td>\n",
       "      <td>1</td>\n",
       "      <td>1</td>\n",
       "      <td>True</td>\n",
       "      <td>True</td>\n",
       "    </tr>\n",
       "    <tr>\n",
       "      <th>22</th>\n",
       "      <td>\\cos^3\\alpha+{\\cos^2\\alpha}\\cdot{\\sin\\alpha}+{...</td>\n",
       "      <td>sin(alpha)*cos(alpha)**2 + cos(alpha)**3 + sin...</td>\n",
       "      <td>\\sqrt{2} \\sin{\\left (\\alpha + \\frac{\\pi}{4} \\r...</td>\n",
       "      <td>Simplificar las siguientes expresiones:</td>\n",
       "      <td>1BC</td>\n",
       "      <td>23 - Trigonometría</td>\n",
       "      <td>p039e07</td>\n",
       "      <td>1</td>\n",
       "      <td>1</td>\n",
       "      <td>1</td>\n",
       "      <td>True</td>\n",
       "      <td>True</td>\n",
       "    </tr>\n",
       "    <tr>\n",
       "      <th>23</th>\n",
       "      <td>{\\sin\\alpha}\\cdot{\\cos\\alpha}\\cdot(\\tan\\alpha+...</td>\n",
       "      <td>(sin(alpha)*cos(alpha))*(tan(alpha) + 1/tan(al...</td>\n",
       "      <td>1</td>\n",
       "      <td>Simplificar las siguientes expresiones:</td>\n",
       "      <td>1BC</td>\n",
       "      <td>23 - Trigonometría</td>\n",
       "      <td>p039e07</td>\n",
       "      <td>1</td>\n",
       "      <td>1</td>\n",
       "      <td>1</td>\n",
       "      <td>True</td>\n",
       "      <td>True</td>\n",
       "    </tr>\n",
       "    <tr>\n",
       "      <th>24</th>\n",
       "      <td>\\frac{\\cos^2\\alpha-\\sin^2\\alpha}{\\cos^4\\alpha-...</td>\n",
       "      <td>(-sin(alpha)**2 + cos(alpha)**2)/(-sin(alpha)*...</td>\n",
       "      <td>1</td>\n",
       "      <td>Simplificar las siguientes expresiones:</td>\n",
       "      <td>1BC</td>\n",
       "      <td>23 - Trigonometría</td>\n",
       "      <td>p039e07</td>\n",
       "      <td>1</td>\n",
       "      <td>1</td>\n",
       "      <td>1</td>\n",
       "      <td>True</td>\n",
       "      <td>True</td>\n",
       "    </tr>\n",
       "    <tr>\n",
       "      <th>25</th>\n",
       "      <td>\\frac{\\sec^2\\alpha+\\cos^2\\alpha}{\\sec^2\\alpha-...</td>\n",
       "      <td>(cos(alpha)**2 + sec(alpha)**2)/(-cos(alpha)**...</td>\n",
       "      <td>\\frac{\\left(- \\cos^{2}{\\left (\\alpha \\right )}...</td>\n",
       "      <td>Simplificar las siguientes expresiones:</td>\n",
       "      <td>1BC</td>\n",
       "      <td>23 - Trigonometría</td>\n",
       "      <td>p039e07</td>\n",
       "      <td>1</td>\n",
       "      <td>1</td>\n",
       "      <td>1</td>\n",
       "      <td>True</td>\n",
       "      <td>True</td>\n",
       "    </tr>\n",
       "    <tr>\n",
       "      <th>26</th>\n",
       "      <td>\\frac{\\cos^2\\alpha}{1-\\sin\\alpha}</td>\n",
       "      <td>cos(alpha)**2/(-sin(alpha) + 1)</td>\n",
       "      <td>\\sin{\\left (\\alpha \\right )} + 1</td>\n",
       "      <td>Simplificar las siguientes expresiones:</td>\n",
       "      <td>1BC</td>\n",
       "      <td>23 - Trigonometría</td>\n",
       "      <td>p039e07</td>\n",
       "      <td>1</td>\n",
       "      <td>1</td>\n",
       "      <td>1</td>\n",
       "      <td>True</td>\n",
       "      <td>True</td>\n",
       "    </tr>\n",
       "    <tr>\n",
       "      <th>27</th>\n",
       "      <td>\\frac{\\csc\\alpha}{1+\\cot^2\\alpha}</td>\n",
       "      <td>csc(alpha)/(cot(alpha)**2 + 1)</td>\n",
       "      <td>\\sin{\\left (\\alpha \\right )}</td>\n",
       "      <td>Simplificar las siguientes expresiones:</td>\n",
       "      <td>1BC</td>\n",
       "      <td>23 - Trigonometría</td>\n",
       "      <td>p039e07</td>\n",
       "      <td>1</td>\n",
       "      <td>1</td>\n",
       "      <td>1</td>\n",
       "      <td>True</td>\n",
       "      <td>True</td>\n",
       "    </tr>\n",
       "    <tr>\n",
       "      <th>28</th>\n",
       "      <td>\\cos\\alpha=\\frac{4}{5} \\land \\alpha \\in I</td>\n",
       "      <td>['36.86989764584401', '3/5', '4/5', '3/4']</td>\n",
       "      <td>\\left [ 36.86989764584401, \\quad \\frac{3}{5}, ...</td>\n",
       "      <td>Calcular las restantes razones trigonométricas...</td>\n",
       "      <td>1BC</td>\n",
       "      <td>23 - Trigonometría</td>\n",
       "      <td>p039e07</td>\n",
       "      <td>1</td>\n",
       "      <td>1</td>\n",
       "      <td>1</td>\n",
       "      <td>True</td>\n",
       "      <td>True</td>\n",
       "    </tr>\n",
       "    <tr>\n",
       "      <th>29</th>\n",
       "      <td>\\sin\\alpha=\\frac{3}{5} \\land \\alpha \\in II</td>\n",
       "      <td>['36.86989764584402', '3/5', '-4/5', '-3/4']</td>\n",
       "      <td>\\left [ 36.86989764584402, \\quad \\frac{3}{5}, ...</td>\n",
       "      <td>Calcular las restantes razones trigonométricas...</td>\n",
       "      <td>1BC</td>\n",
       "      <td>23 - Trigonometría</td>\n",
       "      <td>p039e07</td>\n",
       "      <td>1</td>\n",
       "      <td>1</td>\n",
       "      <td>1</td>\n",
       "      <td>True</td>\n",
       "      <td>True</td>\n",
       "    </tr>\n",
       "    <tr>\n",
       "      <th>30</th>\n",
       "      <td>\\tan\\alpha=-\\frac{3}{4} \\land \\alpha \\in II</td>\n",
       "      <td>['36.86989764584402', '3/5', '-4/5', '-3/4']</td>\n",
       "      <td>\\left [ 36.86989764584402, \\quad \\frac{3}{5}, ...</td>\n",
       "      <td>Calcular las restantes razones trigonométricas...</td>\n",
       "      <td>1BC</td>\n",
       "      <td>23 - Trigonometría</td>\n",
       "      <td>p039e07</td>\n",
       "      <td>1</td>\n",
       "      <td>1</td>\n",
       "      <td>1</td>\n",
       "      <td>True</td>\n",
       "      <td>True</td>\n",
       "    </tr>\n",
       "    <tr>\n",
       "      <th>31</th>\n",
       "      <td>\\sec\\alpha=-2 \\land \\alpha \\in IV</td>\n",
       "      <td>['60.0', '-sqrt(3)/2', '1/2', '-sqrt(3)']</td>\n",
       "      <td>\\left [ 60.0, \\quad - \\frac{\\sqrt{3}}{2}, \\qua...</td>\n",
       "      <td>Calcular las restantes razones trigonométricas...</td>\n",
       "      <td>1BC</td>\n",
       "      <td>23 - Trigonometría</td>\n",
       "      <td>p039e07</td>\n",
       "      <td>1</td>\n",
       "      <td>1</td>\n",
       "      <td>1</td>\n",
       "      <td>True</td>\n",
       "      <td>True</td>\n",
       "    </tr>\n",
       "  </tbody>\n",
       "</table>\n",
       "</div>"
      ],
      "text/plain": [
       "                                      enunciado_latex  \\\n",
       "18            {\\sin\\alpha}\\cdot{\\frac{1}{\\tan\\alpha}}   \n",
       "19       \\sin^3\\alpha+{\\sin\\alpha}\\cdot{\\cos^2\\alpha}   \n",
       "20           \\sqrt{(1-\\sin\\alpha)\\cdot(1+\\sin\\alpha)}   \n",
       "21                          \\sin^4\\alpha-\\cos^4\\alpha   \n",
       "22  \\cos^3\\alpha+{\\cos^2\\alpha}\\cdot{\\sin\\alpha}+{...   \n",
       "23  {\\sin\\alpha}\\cdot{\\cos\\alpha}\\cdot(\\tan\\alpha+...   \n",
       "24  \\frac{\\cos^2\\alpha-\\sin^2\\alpha}{\\cos^4\\alpha-...   \n",
       "25  \\frac{\\sec^2\\alpha+\\cos^2\\alpha}{\\sec^2\\alpha-...   \n",
       "26                  \\frac{\\cos^2\\alpha}{1-\\sin\\alpha}   \n",
       "27                  \\frac{\\csc\\alpha}{1+\\cot^2\\alpha}   \n",
       "28          \\cos\\alpha=\\frac{4}{5} \\land \\alpha \\in I   \n",
       "29         \\sin\\alpha=\\frac{3}{5} \\land \\alpha \\in II   \n",
       "30        \\tan\\alpha=-\\frac{3}{4} \\land \\alpha \\in II   \n",
       "31                  \\sec\\alpha=-2 \\land \\alpha \\in IV   \n",
       "\n",
       "                                            enunciado  \\\n",
       "18                              sin(alpha)/tan(alpha)   \n",
       "19           sin(alpha)**3 + sin(alpha)*cos(alpha)**2   \n",
       "20           sqrt((-sin(alpha) + 1)*(sin(alpha) + 1))   \n",
       "21                      sin(alpha)**4 - cos(alpha)**4   \n",
       "22  sin(alpha)*cos(alpha)**2 + cos(alpha)**3 + sin...   \n",
       "23  (sin(alpha)*cos(alpha))*(tan(alpha) + 1/tan(al...   \n",
       "24  (-sin(alpha)**2 + cos(alpha)**2)/(-sin(alpha)*...   \n",
       "25  (cos(alpha)**2 + sec(alpha)**2)/(-cos(alpha)**...   \n",
       "26                    cos(alpha)**2/(-sin(alpha) + 1)   \n",
       "27                     csc(alpha)/(cot(alpha)**2 + 1)   \n",
       "28         ['36.86989764584401', '3/5', '4/5', '3/4']   \n",
       "29       ['36.86989764584402', '3/5', '-4/5', '-3/4']   \n",
       "30       ['36.86989764584402', '3/5', '-4/5', '-3/4']   \n",
       "31          ['60.0', '-sqrt(3)/2', '1/2', '-sqrt(3)']   \n",
       "\n",
       "                                             solucion  \\\n",
       "18                       \\cos{\\left (\\alpha \\right )}   \n",
       "19                       \\sin{\\left (\\alpha \\right )}   \n",
       "20            \\sqrt{\\cos^{2}{\\left (\\alpha \\right )}}   \n",
       "21                   - \\cos{\\left (2 \\alpha \\right )}   \n",
       "22  \\sqrt{2} \\sin{\\left (\\alpha + \\frac{\\pi}{4} \\r...   \n",
       "23                                                  1   \n",
       "24                                                  1   \n",
       "25  \\frac{\\left(- \\cos^{2}{\\left (\\alpha \\right )}...   \n",
       "26                   \\sin{\\left (\\alpha \\right )} + 1   \n",
       "27                       \\sin{\\left (\\alpha \\right )}   \n",
       "28  \\left [ 36.86989764584401, \\quad \\frac{3}{5}, ...   \n",
       "29  \\left [ 36.86989764584402, \\quad \\frac{3}{5}, ...   \n",
       "30  \\left [ 36.86989764584402, \\quad \\frac{3}{5}, ...   \n",
       "31  \\left [ 60.0, \\quad - \\frac{\\sqrt{3}}{2}, \\qua...   \n",
       "\n",
       "                                                texto curso  \\\n",
       "18            Simplificar las siguientes expresiones:   1BC   \n",
       "19            Simplificar las siguientes expresiones:   1BC   \n",
       "20            Simplificar las siguientes expresiones:   1BC   \n",
       "21            Simplificar las siguientes expresiones:   1BC   \n",
       "22            Simplificar las siguientes expresiones:   1BC   \n",
       "23            Simplificar las siguientes expresiones:   1BC   \n",
       "24            Simplificar las siguientes expresiones:   1BC   \n",
       "25            Simplificar las siguientes expresiones:   1BC   \n",
       "26            Simplificar las siguientes expresiones:   1BC   \n",
       "27            Simplificar las siguientes expresiones:   1BC   \n",
       "28  Calcular las restantes razones trigonométricas...   1BC   \n",
       "29  Calcular las restantes razones trigonométricas...   1BC   \n",
       "30  Calcular las restantes razones trigonométricas...   1BC   \n",
       "31  Calcular las restantes razones trigonométricas...   1BC   \n",
       "\n",
       "                titulo n_ejercicio  dificultad  n_columnas  puntos  enun_tex  \\\n",
       "18  23 - Trigonometría     p039e07           1           1       1      True   \n",
       "19  23 - Trigonometría     p039e07           1           1       1      True   \n",
       "20  23 - Trigonometría     p039e07           1           1       1      True   \n",
       "21  23 - Trigonometría     p039e07           1           1       1      True   \n",
       "22  23 - Trigonometría     p039e07           1           1       1      True   \n",
       "23  23 - Trigonometría     p039e07           1           1       1      True   \n",
       "24  23 - Trigonometría     p039e07           1           1       1      True   \n",
       "25  23 - Trigonometría     p039e07           1           1       1      True   \n",
       "26  23 - Trigonometría     p039e07           1           1       1      True   \n",
       "27  23 - Trigonometría     p039e07           1           1       1      True   \n",
       "28  23 - Trigonometría     p039e07           1           1       1      True   \n",
       "29  23 - Trigonometría     p039e07           1           1       1      True   \n",
       "30  23 - Trigonometría     p039e07           1           1       1      True   \n",
       "31  23 - Trigonometría     p039e07           1           1       1      True   \n",
       "\n",
       "    sol_tex  \n",
       "18     True  \n",
       "19     True  \n",
       "20     True  \n",
       "21     True  \n",
       "22     True  \n",
       "23     True  \n",
       "24     True  \n",
       "25     True  \n",
       "26     True  \n",
       "27     True  \n",
       "28     True  \n",
       "29     True  \n",
       "30     True  \n",
       "31     True  "
      ]
     },
     "metadata": {},
     "output_type": "display_data"
    }
   ],
   "source": [
    "escribir_preambulo(fichero, titulo, 'ejercicios')\n",
    "for s in df_ejercicios.groupby('n_ejercicio').count().index : \n",
    "    display(md(\"**Ejercicio: **\" + s ))\n",
    "    display(df_ejercicios[df_ejercicios.n_ejercicio == s])\n",
    "    escribir_ejercicios(df_ejercicios[df_ejercicios.n_ejercicio == s],fichero)\n",
    "\n",
    "escribir_fin(fichero)"
   ]
  }
 ],
 "metadata": {
  "kernelspec": {
   "display_name": "Python 3",
   "language": "python",
   "name": "python3"
  },
  "language_info": {
   "codemirror_mode": {
    "name": "ipython",
    "version": 3
   },
   "file_extension": ".py",
   "mimetype": "text/x-python",
   "name": "python",
   "nbconvert_exporter": "python",
   "pygments_lexer": "ipython3",
   "version": "3.6.5"
  }
 },
 "nbformat": 4,
 "nbformat_minor": 2
}
