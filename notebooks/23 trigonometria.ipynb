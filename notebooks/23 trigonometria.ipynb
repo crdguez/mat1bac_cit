{
 "cells": [
  {
   "cell_type": "code",
   "execution_count": 1,
   "metadata": {},
   "outputs": [
    {
     "name": "stdout",
     "output_type": "stream",
     "text": [
      "IPython console for SymPy 1.2 (Python 3.6.5-64-bit) (ground types: gmpy)\n",
      "\n",
      "These commands were executed:\n",
      ">>> from __future__ import division\n",
      ">>> from sympy import *\n",
      ">>> x, y, z, t = symbols('x y z t')\n",
      ">>> k, m, n = symbols('k m n', integer=True)\n",
      ">>> f, g, h = symbols('f g h', cls=Function)\n",
      ">>> init_printing()\n",
      "\n",
      "Documentation can be found at http://docs.sympy.org/1.2/\n",
      "\n"
     ]
    }
   ],
   "source": [
    "from sympy import init_session\n",
    "from sympy import div, QQ\n",
    "from sympy.parsing.latex import parse_latex\n",
    "from sympy.parsing.sympy_parser import parse_expr\n",
    "from IPython.display import Markdown as md\n",
    "from IPython.display import display\n",
    "import numpy as np\n",
    "import pandas as pd\n",
    "    \n",
    "\n",
    "\n",
    "\n",
    "init_session()\n",
    "\n",
    "a, b, c, d = symbols('a b c d', real = True)\n",
    "from docparts import añadir_ejercicios, doc_ejer, escribir_preambulo, escribir_ejercicios, escribir_fin\n",
    "\n",
    "alpha = Symbol(\"alpha\")\n",
    "beta = Symbol(\"beta\")\n",
    "\n",
    "df_ejercicios = pd.DataFrame()\n",
    "\n",
    "fichero = 'trigono'\n",
    "titulo = '23 - Trigonometría'\n",
    "curso = '1BC'\n",
    "\n",
    "\n",
    "x,y = symbols('x, y', real=True)\n"
   ]
  },
  {
   "cell_type": "code",
   "execution_count": 2,
   "metadata": {},
   "outputs": [
    {
     "data": {
      "text/markdown": [
       "**Expresa en radianes los siguientes ángulos, dados en grados:**"
      ],
      "text/plain": [
       "<IPython.core.display.Markdown object>"
      ]
     },
     "metadata": {},
     "output_type": "display_data"
    },
    {
     "data": {
      "text/markdown": [
       "$45º \\to \\frac{\\pi}{4}$"
      ],
      "text/plain": [
       "<IPython.core.display.Markdown object>"
      ]
     },
     "metadata": {},
     "output_type": "display_data"
    },
    {
     "data": {
      "text/markdown": [
       "$75º \\to \\frac{5 \\pi}{12}$"
      ],
      "text/plain": [
       "<IPython.core.display.Markdown object>"
      ]
     },
     "metadata": {},
     "output_type": "display_data"
    },
    {
     "data": {
      "text/markdown": [
       "$105º \\to \\frac{7 \\pi}{12}$"
      ],
      "text/plain": [
       "<IPython.core.display.Markdown object>"
      ]
     },
     "metadata": {},
     "output_type": "display_data"
    },
    {
     "data": {
      "text/markdown": [
       "$230º \\to \\frac{23 \\pi}{18}$"
      ],
      "text/plain": [
       "<IPython.core.display.Markdown object>"
      ]
     },
     "metadata": {},
     "output_type": "display_data"
    }
   ],
   "source": [
    "# Página 39 ejercicio 1\n",
    "\n",
    "texto_ejercicio = r\"\"\"Expresa en radianes los siguientes ángulos, dados en grados:\"\"\"\n",
    "\n",
    "n_ejercicio = 'p039e01'\n",
    "\n",
    "display(md(\"**\"+texto_ejercicio+\"**\"))\n",
    "\n",
    "\n",
    "pre_enunciado_latex = [45, 75, 105, 230]\n",
    "\n",
    "enunciado_latex,enunciado, solucion = [],[],[]\n",
    "\n",
    "\n",
    "for i, s in enumerate(pre_enunciado_latex) : \n",
    "    enunciado_latex.append(str(s)+\"º\")\n",
    "    enunciado.append(s)\n",
    "    solucion.append(latex(rad(s)))\n",
    "    display(md(\"$\"+enunciado_latex[i]+\" \\\\to \"+solucion[i]+\"$\"))\n",
    "\n",
    "df_ejercicios = df_ejercicios.append(añadir_ejercicios(enunciado_latex, enunciado, solucion, texto_ejercicio, curso, titulo , n_ejercicio, '1', '3', enun_tex=False), ignore_index=True)\n"
   ]
  },
  {
   "cell_type": "code",
   "execution_count": 3,
   "metadata": {},
   "outputs": [
    {
     "data": {
      "text/markdown": [
       "**Expresa en grados los siguientes ángulos dados en radianes:**"
      ],
      "text/plain": [
       "<IPython.core.display.Markdown object>"
      ]
     },
     "metadata": {},
     "output_type": "display_data"
    },
    {
     "data": {
      "text/markdown": [
       "$\\frac{{3\\pi }}{4} \\to 135$"
      ],
      "text/plain": [
       "<IPython.core.display.Markdown object>"
      ]
     },
     "metadata": {},
     "output_type": "display_data"
    },
    {
     "data": {
      "text/markdown": [
       "$\\frac{{{5}\\pi }}{{3}} \\to 300$"
      ],
      "text/plain": [
       "<IPython.core.display.Markdown object>"
      ]
     },
     "metadata": {},
     "output_type": "display_data"
    },
    {
     "data": {
      "text/markdown": [
       "$\\frac{{{{3}}\\pi }}{{{2}}} \\to 270$"
      ],
      "text/plain": [
       "<IPython.core.display.Markdown object>"
      ]
     },
     "metadata": {},
     "output_type": "display_data"
    },
    {
     "data": {
      "text/markdown": [
       "$\\frac{{{{9}}\\pi }}{{{2}}} \\to 810$"
      ],
      "text/plain": [
       "<IPython.core.display.Markdown object>"
      ]
     },
     "metadata": {},
     "output_type": "display_data"
    },
    {
     "data": {
      "text/markdown": [
       "$\\frac{{{{4}}\\pi }}{{{3}}} \\to 240$"
      ],
      "text/plain": [
       "<IPython.core.display.Markdown object>"
      ]
     },
     "metadata": {},
     "output_type": "display_data"
    }
   ],
   "source": [
    "# Página 39 ejercicio 2\n",
    "\n",
    "texto_ejercicio = r\"\"\"Expresa en grados los siguientes ángulos dados en radianes:\"\"\"\n",
    "\n",
    "n_ejercicio = 'p039e02'\n",
    "\n",
    "display(md(\"**\"+texto_ejercicio+\"**\"))\n",
    "\n",
    "\n",
    "enunciado_latex = [r'\\frac{{3\\pi }}{4}',r'\\frac{{{5}\\pi }}{{3}}',\n",
    "                  r'\\frac{{{{3}}\\pi }}{{{2}}}',\n",
    "                  r'\\frac{{{{9}}\\pi }}{{{2}}}',\n",
    "                  r'\\frac{{{{4}}\\pi }}{{{3}}}']\n",
    "\n",
    "enunciado, solucion = [],[]\n",
    "\n",
    "\n",
    "for i, s in enumerate(enunciado_latex) : \n",
    "    enunciado.append(parse_latex(s))\n",
    "    solucion.append(latex(deg(eval(str(parse_latex(s))))))\n",
    "    display(md(\"$\"+enunciado_latex[i]+\" \\\\to \"+solucion[i]+\"$\"))\n",
    "\n",
    "df_ejercicios = df_ejercicios.append(añadir_ejercicios(enunciado_latex, enunciado, solucion, texto_ejercicio, curso, titulo , n_ejercicio, '1', '3', enun_tex=True), ignore_index=True)\n"
   ]
  },
  {
   "cell_type": "code",
   "execution_count": 4,
   "metadata": {},
   "outputs": [
    {
     "data": {
      "text/markdown": [
       "**Demostrar si son verdaderas o falsas las siguientes ecuaciones:**"
      ],
      "text/plain": [
       "<IPython.core.display.Markdown object>"
      ]
     },
     "metadata": {},
     "output_type": "display_data"
    },
    {
     "data": {
      "text/markdown": [
       "${\\sec\\alpha}^2+{\\csc\\alpha}^2={\\sec\\alpha}^2\\cdot{\\csc\\alpha}^2 \\to \\left [ \\frac{8}{- \\cos{\\left (4 \\alpha \\right )} + 1}, \\quad \\frac{8}{- \\cos{\\left (4 \\alpha \\right )} + 1}\\right ] \\to \\mathrm{True}$"
      ],
      "text/plain": [
       "<IPython.core.display.Markdown object>"
      ]
     },
     "metadata": {},
     "output_type": "display_data"
    },
    {
     "data": {
      "text/markdown": [
       "$\\frac{\\tan\\alpha+\\tan\\beta}{\\cot\\alpha+\\cot\\beta}={\\tan\\alpha} \\cdot {\\tan\\beta} \\to \\left [ \\tan{\\left (\\alpha \\right )} \\tan{\\left (\\beta \\right )}, \\quad \\tan{\\left (\\alpha \\right )} \\tan{\\left (\\beta \\right )}\\right ] \\to \\mathrm{True}$"
      ],
      "text/plain": [
       "<IPython.core.display.Markdown object>"
      ]
     },
     "metadata": {},
     "output_type": "display_data"
    },
    {
     "data": {
      "text/markdown": [
       "$\\frac{{\\sin\\alpha}\\cdot{\\cos\\alpha}}{{\\cos\\alpha}^2-{\\sin\\alpha}^2}=\\frac{\\tan\\alpha}{1-{\\tan\\alpha}^2} \\to \\left [ \\frac{\\tan{\\left (2 \\alpha \\right )}}{2}, \\quad \\frac{\\tan{\\left (2 \\alpha \\right )}}{2}\\right ] \\to \\mathrm{True}$"
      ],
      "text/plain": [
       "<IPython.core.display.Markdown object>"
      ]
     },
     "metadata": {},
     "output_type": "display_data"
    }
   ],
   "source": [
    "# Página 39 ejercicio 5 y 6\n",
    "\n",
    "texto_ejercicio = r\"\"\"Demostrar si son verdaderas o falsas las siguientes ecuaciones:\"\"\"\n",
    "\n",
    "n_ejercicio = 'p039e05y6'\n",
    "\n",
    "display(md(\"**\"+texto_ejercicio+\"**\"))\n",
    "\n",
    "\n",
    "enunciado_latex = [r'{\\sec\\alpha}^2+{\\csc\\alpha}^2={\\sec\\alpha}^2\\cdot{\\csc\\alpha}^2',\n",
    "    r'\\frac{\\tan\\alpha+\\tan\\beta}{\\cot\\alpha+\\cot\\beta}={\\tan\\alpha} \\cdot {\\tan\\beta}',\n",
    "    r'\\frac{{\\sin\\alpha}\\cdot{\\cos\\alpha}}{{\\cos\\alpha}^2-{\\sin\\alpha}^2}=\\frac{\\tan\\alpha}{1-{\\tan\\alpha}^2}'\n",
    "                  ]\n",
    "\n",
    "enunciado, solucion = [],[]\n",
    "\n",
    "\n",
    "for i, s in enumerate(enunciado_latex) : \n",
    "    enunciado.append(parse_latex(s))\n",
    "    exp = []\n",
    "    exp.append(trigsimp(enunciado[i].args[0]))\n",
    "    exp.append(trigsimp(enunciado[i].args[1]))\n",
    "    solucion.append(latex(exp)+ r' \\to ' +latex(not(bool(trigsimp(enunciado[i].args[0]-enunciado[i].args[1])))))\n",
    "    display(md(\"$\"+enunciado_latex[i]+\" \\\\to \"+solucion[i]+\"$\"))\n",
    "\n",
    "df_ejercicios = df_ejercicios.append(añadir_ejercicios(enunciado_latex, enunciado, solucion, texto_ejercicio, curso, titulo , n_ejercicio, '1', '1', enun_tex=True), ignore_index=True)\n"
   ]
  },
  {
   "cell_type": "code",
   "execution_count": 5,
   "metadata": {},
   "outputs": [],
   "source": [
    "df_ejercicios.to_csv('ejercicios23.csv', index = False)"
   ]
  },
  {
   "cell_type": "code",
   "execution_count": 6,
   "metadata": {},
   "outputs": [],
   "source": [
    "df_ejercicios = pd.read_csv('ejercicios23.csv', index_col= None)"
   ]
  },
  {
   "cell_type": "code",
   "execution_count": 7,
   "metadata": {},
   "outputs": [
    {
     "data": {
      "text/html": [
       "<div>\n",
       "<style scoped>\n",
       "    .dataframe tbody tr th:only-of-type {\n",
       "        vertical-align: middle;\n",
       "    }\n",
       "\n",
       "    .dataframe tbody tr th {\n",
       "        vertical-align: top;\n",
       "    }\n",
       "\n",
       "    .dataframe thead th {\n",
       "        text-align: right;\n",
       "    }\n",
       "</style>\n",
       "<table border=\"1\" class=\"dataframe\">\n",
       "  <thead>\n",
       "    <tr style=\"text-align: right;\">\n",
       "      <th></th>\n",
       "      <th>enunciado_latex</th>\n",
       "      <th>enunciado</th>\n",
       "      <th>solucion</th>\n",
       "      <th>texto</th>\n",
       "      <th>curso</th>\n",
       "      <th>titulo</th>\n",
       "      <th>n_ejercicio</th>\n",
       "      <th>dificultad</th>\n",
       "      <th>n_columnas</th>\n",
       "      <th>puntos</th>\n",
       "      <th>enun_tex</th>\n",
       "      <th>sol_tex</th>\n",
       "    </tr>\n",
       "  </thead>\n",
       "  <tbody>\n",
       "    <tr>\n",
       "      <th>0</th>\n",
       "      <td>45º</td>\n",
       "      <td>45</td>\n",
       "      <td>\\frac{\\pi}{4}</td>\n",
       "      <td>Expresa en radianes los siguientes ángulos, da...</td>\n",
       "      <td>1BC</td>\n",
       "      <td>23 - Trigonometría</td>\n",
       "      <td>p039e01</td>\n",
       "      <td>1</td>\n",
       "      <td>3</td>\n",
       "      <td>1</td>\n",
       "      <td>False</td>\n",
       "      <td>True</td>\n",
       "    </tr>\n",
       "    <tr>\n",
       "      <th>1</th>\n",
       "      <td>75º</td>\n",
       "      <td>75</td>\n",
       "      <td>\\frac{5 \\pi}{12}</td>\n",
       "      <td>Expresa en radianes los siguientes ángulos, da...</td>\n",
       "      <td>1BC</td>\n",
       "      <td>23 - Trigonometría</td>\n",
       "      <td>p039e01</td>\n",
       "      <td>1</td>\n",
       "      <td>3</td>\n",
       "      <td>1</td>\n",
       "      <td>False</td>\n",
       "      <td>True</td>\n",
       "    </tr>\n",
       "    <tr>\n",
       "      <th>2</th>\n",
       "      <td>105º</td>\n",
       "      <td>105</td>\n",
       "      <td>\\frac{7 \\pi}{12}</td>\n",
       "      <td>Expresa en radianes los siguientes ángulos, da...</td>\n",
       "      <td>1BC</td>\n",
       "      <td>23 - Trigonometría</td>\n",
       "      <td>p039e01</td>\n",
       "      <td>1</td>\n",
       "      <td>3</td>\n",
       "      <td>1</td>\n",
       "      <td>False</td>\n",
       "      <td>True</td>\n",
       "    </tr>\n",
       "    <tr>\n",
       "      <th>3</th>\n",
       "      <td>230º</td>\n",
       "      <td>230</td>\n",
       "      <td>\\frac{23 \\pi}{18}</td>\n",
       "      <td>Expresa en radianes los siguientes ángulos, da...</td>\n",
       "      <td>1BC</td>\n",
       "      <td>23 - Trigonometría</td>\n",
       "      <td>p039e01</td>\n",
       "      <td>1</td>\n",
       "      <td>3</td>\n",
       "      <td>1</td>\n",
       "      <td>False</td>\n",
       "      <td>True</td>\n",
       "    </tr>\n",
       "    <tr>\n",
       "      <th>4</th>\n",
       "      <td>\\frac{{3\\pi }}{4}</td>\n",
       "      <td>(3*pi)/4</td>\n",
       "      <td>135</td>\n",
       "      <td>Expresa en grados los siguientes ángulos dados...</td>\n",
       "      <td>1BC</td>\n",
       "      <td>23 - Trigonometría</td>\n",
       "      <td>p039e02</td>\n",
       "      <td>1</td>\n",
       "      <td>3</td>\n",
       "      <td>1</td>\n",
       "      <td>True</td>\n",
       "      <td>True</td>\n",
       "    </tr>\n",
       "    <tr>\n",
       "      <th>5</th>\n",
       "      <td>\\frac{{{5}\\pi }}{{3}}</td>\n",
       "      <td>(5*pi)/3</td>\n",
       "      <td>300</td>\n",
       "      <td>Expresa en grados los siguientes ángulos dados...</td>\n",
       "      <td>1BC</td>\n",
       "      <td>23 - Trigonometría</td>\n",
       "      <td>p039e02</td>\n",
       "      <td>1</td>\n",
       "      <td>3</td>\n",
       "      <td>1</td>\n",
       "      <td>True</td>\n",
       "      <td>True</td>\n",
       "    </tr>\n",
       "    <tr>\n",
       "      <th>6</th>\n",
       "      <td>\\frac{{{{3}}\\pi }}{{{2}}}</td>\n",
       "      <td>(3*pi)/2</td>\n",
       "      <td>270</td>\n",
       "      <td>Expresa en grados los siguientes ángulos dados...</td>\n",
       "      <td>1BC</td>\n",
       "      <td>23 - Trigonometría</td>\n",
       "      <td>p039e02</td>\n",
       "      <td>1</td>\n",
       "      <td>3</td>\n",
       "      <td>1</td>\n",
       "      <td>True</td>\n",
       "      <td>True</td>\n",
       "    </tr>\n",
       "    <tr>\n",
       "      <th>7</th>\n",
       "      <td>\\frac{{{{9}}\\pi }}{{{2}}}</td>\n",
       "      <td>(9*pi)/2</td>\n",
       "      <td>810</td>\n",
       "      <td>Expresa en grados los siguientes ángulos dados...</td>\n",
       "      <td>1BC</td>\n",
       "      <td>23 - Trigonometría</td>\n",
       "      <td>p039e02</td>\n",
       "      <td>1</td>\n",
       "      <td>3</td>\n",
       "      <td>1</td>\n",
       "      <td>True</td>\n",
       "      <td>True</td>\n",
       "    </tr>\n",
       "    <tr>\n",
       "      <th>8</th>\n",
       "      <td>\\frac{{{{4}}\\pi }}{{{3}}}</td>\n",
       "      <td>(4*pi)/3</td>\n",
       "      <td>240</td>\n",
       "      <td>Expresa en grados los siguientes ángulos dados...</td>\n",
       "      <td>1BC</td>\n",
       "      <td>23 - Trigonometría</td>\n",
       "      <td>p039e02</td>\n",
       "      <td>1</td>\n",
       "      <td>3</td>\n",
       "      <td>1</td>\n",
       "      <td>True</td>\n",
       "      <td>True</td>\n",
       "    </tr>\n",
       "    <tr>\n",
       "      <th>9</th>\n",
       "      <td>{\\sec\\alpha}^2+{\\csc\\alpha}^2={\\sec\\alpha}^2\\c...</td>\n",
       "      <td>Eq(csc(alpha)**2 + sec(alpha)**2, csc(alpha)**...</td>\n",
       "      <td>\\left [ \\frac{8}{- \\cos{\\left (4 \\alpha \\right...</td>\n",
       "      <td>Demostrar si son verdaderas o falsas las sigui...</td>\n",
       "      <td>1BC</td>\n",
       "      <td>23 - Trigonometría</td>\n",
       "      <td>p039e05y6</td>\n",
       "      <td>1</td>\n",
       "      <td>1</td>\n",
       "      <td>1</td>\n",
       "      <td>True</td>\n",
       "      <td>True</td>\n",
       "    </tr>\n",
       "    <tr>\n",
       "      <th>10</th>\n",
       "      <td>\\frac{\\tan\\alpha+\\tan\\beta}{\\cot\\alpha+\\cot\\be...</td>\n",
       "      <td>Eq((tan(alpha) + tan(beta))/(cot(alpha) + cot(...</td>\n",
       "      <td>\\left [ \\tan{\\left (\\alpha \\right )} \\tan{\\lef...</td>\n",
       "      <td>Demostrar si son verdaderas o falsas las sigui...</td>\n",
       "      <td>1BC</td>\n",
       "      <td>23 - Trigonometría</td>\n",
       "      <td>p039e05y6</td>\n",
       "      <td>1</td>\n",
       "      <td>1</td>\n",
       "      <td>1</td>\n",
       "      <td>True</td>\n",
       "      <td>True</td>\n",
       "    </tr>\n",
       "    <tr>\n",
       "      <th>11</th>\n",
       "      <td>\\frac{{\\sin\\alpha}\\cdot{\\cos\\alpha}}{{\\cos\\alp...</td>\n",
       "      <td>Eq((sin(alpha)*cos(alpha))/(-sin(alpha)**2 + c...</td>\n",
       "      <td>\\left [ \\frac{\\tan{\\left (2 \\alpha \\right )}}{...</td>\n",
       "      <td>Demostrar si son verdaderas o falsas las sigui...</td>\n",
       "      <td>1BC</td>\n",
       "      <td>23 - Trigonometría</td>\n",
       "      <td>p039e05y6</td>\n",
       "      <td>1</td>\n",
       "      <td>1</td>\n",
       "      <td>1</td>\n",
       "      <td>True</td>\n",
       "      <td>True</td>\n",
       "    </tr>\n",
       "  </tbody>\n",
       "</table>\n",
       "</div>"
      ],
      "text/plain": [
       "                                      enunciado_latex  \\\n",
       "0                                                 45º   \n",
       "1                                                 75º   \n",
       "2                                                105º   \n",
       "3                                                230º   \n",
       "4                                   \\frac{{3\\pi }}{4}   \n",
       "5                               \\frac{{{5}\\pi }}{{3}}   \n",
       "6                           \\frac{{{{3}}\\pi }}{{{2}}}   \n",
       "7                           \\frac{{{{9}}\\pi }}{{{2}}}   \n",
       "8                           \\frac{{{{4}}\\pi }}{{{3}}}   \n",
       "9   {\\sec\\alpha}^2+{\\csc\\alpha}^2={\\sec\\alpha}^2\\c...   \n",
       "10  \\frac{\\tan\\alpha+\\tan\\beta}{\\cot\\alpha+\\cot\\be...   \n",
       "11  \\frac{{\\sin\\alpha}\\cdot{\\cos\\alpha}}{{\\cos\\alp...   \n",
       "\n",
       "                                            enunciado  \\\n",
       "0                                                  45   \n",
       "1                                                  75   \n",
       "2                                                 105   \n",
       "3                                                 230   \n",
       "4                                            (3*pi)/4   \n",
       "5                                            (5*pi)/3   \n",
       "6                                            (3*pi)/2   \n",
       "7                                            (9*pi)/2   \n",
       "8                                            (4*pi)/3   \n",
       "9   Eq(csc(alpha)**2 + sec(alpha)**2, csc(alpha)**...   \n",
       "10  Eq((tan(alpha) + tan(beta))/(cot(alpha) + cot(...   \n",
       "11  Eq((sin(alpha)*cos(alpha))/(-sin(alpha)**2 + c...   \n",
       "\n",
       "                                             solucion  \\\n",
       "0                                       \\frac{\\pi}{4}   \n",
       "1                                    \\frac{5 \\pi}{12}   \n",
       "2                                    \\frac{7 \\pi}{12}   \n",
       "3                                   \\frac{23 \\pi}{18}   \n",
       "4                                                 135   \n",
       "5                                                 300   \n",
       "6                                                 270   \n",
       "7                                                 810   \n",
       "8                                                 240   \n",
       "9   \\left [ \\frac{8}{- \\cos{\\left (4 \\alpha \\right...   \n",
       "10  \\left [ \\tan{\\left (\\alpha \\right )} \\tan{\\lef...   \n",
       "11  \\left [ \\frac{\\tan{\\left (2 \\alpha \\right )}}{...   \n",
       "\n",
       "                                                texto curso  \\\n",
       "0   Expresa en radianes los siguientes ángulos, da...   1BC   \n",
       "1   Expresa en radianes los siguientes ángulos, da...   1BC   \n",
       "2   Expresa en radianes los siguientes ángulos, da...   1BC   \n",
       "3   Expresa en radianes los siguientes ángulos, da...   1BC   \n",
       "4   Expresa en grados los siguientes ángulos dados...   1BC   \n",
       "5   Expresa en grados los siguientes ángulos dados...   1BC   \n",
       "6   Expresa en grados los siguientes ángulos dados...   1BC   \n",
       "7   Expresa en grados los siguientes ángulos dados...   1BC   \n",
       "8   Expresa en grados los siguientes ángulos dados...   1BC   \n",
       "9   Demostrar si son verdaderas o falsas las sigui...   1BC   \n",
       "10  Demostrar si son verdaderas o falsas las sigui...   1BC   \n",
       "11  Demostrar si son verdaderas o falsas las sigui...   1BC   \n",
       "\n",
       "                titulo n_ejercicio  dificultad  n_columnas  puntos  enun_tex  \\\n",
       "0   23 - Trigonometría     p039e01           1           3       1     False   \n",
       "1   23 - Trigonometría     p039e01           1           3       1     False   \n",
       "2   23 - Trigonometría     p039e01           1           3       1     False   \n",
       "3   23 - Trigonometría     p039e01           1           3       1     False   \n",
       "4   23 - Trigonometría     p039e02           1           3       1      True   \n",
       "5   23 - Trigonometría     p039e02           1           3       1      True   \n",
       "6   23 - Trigonometría     p039e02           1           3       1      True   \n",
       "7   23 - Trigonometría     p039e02           1           3       1      True   \n",
       "8   23 - Trigonometría     p039e02           1           3       1      True   \n",
       "9   23 - Trigonometría   p039e05y6           1           1       1      True   \n",
       "10  23 - Trigonometría   p039e05y6           1           1       1      True   \n",
       "11  23 - Trigonometría   p039e05y6           1           1       1      True   \n",
       "\n",
       "    sol_tex  \n",
       "0      True  \n",
       "1      True  \n",
       "2      True  \n",
       "3      True  \n",
       "4      True  \n",
       "5      True  \n",
       "6      True  \n",
       "7      True  \n",
       "8      True  \n",
       "9      True  \n",
       "10     True  \n",
       "11     True  "
      ]
     },
     "execution_count": 7,
     "metadata": {},
     "output_type": "execute_result"
    }
   ],
   "source": [
    "df_ejercicios"
   ]
  },
  {
   "cell_type": "code",
   "execution_count": 8,
   "metadata": {},
   "outputs": [
    {
     "data": {
      "text/markdown": [
       "**Ejercicio: **p039e01"
      ],
      "text/plain": [
       "<IPython.core.display.Markdown object>"
      ]
     },
     "metadata": {},
     "output_type": "display_data"
    },
    {
     "data": {
      "text/html": [
       "<div>\n",
       "<style scoped>\n",
       "    .dataframe tbody tr th:only-of-type {\n",
       "        vertical-align: middle;\n",
       "    }\n",
       "\n",
       "    .dataframe tbody tr th {\n",
       "        vertical-align: top;\n",
       "    }\n",
       "\n",
       "    .dataframe thead th {\n",
       "        text-align: right;\n",
       "    }\n",
       "</style>\n",
       "<table border=\"1\" class=\"dataframe\">\n",
       "  <thead>\n",
       "    <tr style=\"text-align: right;\">\n",
       "      <th></th>\n",
       "      <th>enunciado_latex</th>\n",
       "      <th>enunciado</th>\n",
       "      <th>solucion</th>\n",
       "      <th>texto</th>\n",
       "      <th>curso</th>\n",
       "      <th>titulo</th>\n",
       "      <th>n_ejercicio</th>\n",
       "      <th>dificultad</th>\n",
       "      <th>n_columnas</th>\n",
       "      <th>puntos</th>\n",
       "      <th>enun_tex</th>\n",
       "      <th>sol_tex</th>\n",
       "    </tr>\n",
       "  </thead>\n",
       "  <tbody>\n",
       "    <tr>\n",
       "      <th>0</th>\n",
       "      <td>45º</td>\n",
       "      <td>45</td>\n",
       "      <td>\\frac{\\pi}{4}</td>\n",
       "      <td>Expresa en radianes los siguientes ángulos, da...</td>\n",
       "      <td>1BC</td>\n",
       "      <td>23 - Trigonometría</td>\n",
       "      <td>p039e01</td>\n",
       "      <td>1</td>\n",
       "      <td>3</td>\n",
       "      <td>1</td>\n",
       "      <td>False</td>\n",
       "      <td>True</td>\n",
       "    </tr>\n",
       "    <tr>\n",
       "      <th>1</th>\n",
       "      <td>75º</td>\n",
       "      <td>75</td>\n",
       "      <td>\\frac{5 \\pi}{12}</td>\n",
       "      <td>Expresa en radianes los siguientes ángulos, da...</td>\n",
       "      <td>1BC</td>\n",
       "      <td>23 - Trigonometría</td>\n",
       "      <td>p039e01</td>\n",
       "      <td>1</td>\n",
       "      <td>3</td>\n",
       "      <td>1</td>\n",
       "      <td>False</td>\n",
       "      <td>True</td>\n",
       "    </tr>\n",
       "    <tr>\n",
       "      <th>2</th>\n",
       "      <td>105º</td>\n",
       "      <td>105</td>\n",
       "      <td>\\frac{7 \\pi}{12}</td>\n",
       "      <td>Expresa en radianes los siguientes ángulos, da...</td>\n",
       "      <td>1BC</td>\n",
       "      <td>23 - Trigonometría</td>\n",
       "      <td>p039e01</td>\n",
       "      <td>1</td>\n",
       "      <td>3</td>\n",
       "      <td>1</td>\n",
       "      <td>False</td>\n",
       "      <td>True</td>\n",
       "    </tr>\n",
       "    <tr>\n",
       "      <th>3</th>\n",
       "      <td>230º</td>\n",
       "      <td>230</td>\n",
       "      <td>\\frac{23 \\pi}{18}</td>\n",
       "      <td>Expresa en radianes los siguientes ángulos, da...</td>\n",
       "      <td>1BC</td>\n",
       "      <td>23 - Trigonometría</td>\n",
       "      <td>p039e01</td>\n",
       "      <td>1</td>\n",
       "      <td>3</td>\n",
       "      <td>1</td>\n",
       "      <td>False</td>\n",
       "      <td>True</td>\n",
       "    </tr>\n",
       "  </tbody>\n",
       "</table>\n",
       "</div>"
      ],
      "text/plain": [
       "  enunciado_latex enunciado           solucion  \\\n",
       "0             45º        45      \\frac{\\pi}{4}   \n",
       "1             75º        75   \\frac{5 \\pi}{12}   \n",
       "2            105º       105   \\frac{7 \\pi}{12}   \n",
       "3            230º       230  \\frac{23 \\pi}{18}   \n",
       "\n",
       "                                               texto curso  \\\n",
       "0  Expresa en radianes los siguientes ángulos, da...   1BC   \n",
       "1  Expresa en radianes los siguientes ángulos, da...   1BC   \n",
       "2  Expresa en radianes los siguientes ángulos, da...   1BC   \n",
       "3  Expresa en radianes los siguientes ángulos, da...   1BC   \n",
       "\n",
       "               titulo n_ejercicio  dificultad  n_columnas  puntos  enun_tex  \\\n",
       "0  23 - Trigonometría     p039e01           1           3       1     False   \n",
       "1  23 - Trigonometría     p039e01           1           3       1     False   \n",
       "2  23 - Trigonometría     p039e01           1           3       1     False   \n",
       "3  23 - Trigonometría     p039e01           1           3       1     False   \n",
       "\n",
       "   sol_tex  \n",
       "0     True  \n",
       "1     True  \n",
       "2     True  \n",
       "3     True  "
      ]
     },
     "metadata": {},
     "output_type": "display_data"
    },
    {
     "data": {
      "text/markdown": [
       "**Ejercicio: **p039e02"
      ],
      "text/plain": [
       "<IPython.core.display.Markdown object>"
      ]
     },
     "metadata": {},
     "output_type": "display_data"
    },
    {
     "data": {
      "text/html": [
       "<div>\n",
       "<style scoped>\n",
       "    .dataframe tbody tr th:only-of-type {\n",
       "        vertical-align: middle;\n",
       "    }\n",
       "\n",
       "    .dataframe tbody tr th {\n",
       "        vertical-align: top;\n",
       "    }\n",
       "\n",
       "    .dataframe thead th {\n",
       "        text-align: right;\n",
       "    }\n",
       "</style>\n",
       "<table border=\"1\" class=\"dataframe\">\n",
       "  <thead>\n",
       "    <tr style=\"text-align: right;\">\n",
       "      <th></th>\n",
       "      <th>enunciado_latex</th>\n",
       "      <th>enunciado</th>\n",
       "      <th>solucion</th>\n",
       "      <th>texto</th>\n",
       "      <th>curso</th>\n",
       "      <th>titulo</th>\n",
       "      <th>n_ejercicio</th>\n",
       "      <th>dificultad</th>\n",
       "      <th>n_columnas</th>\n",
       "      <th>puntos</th>\n",
       "      <th>enun_tex</th>\n",
       "      <th>sol_tex</th>\n",
       "    </tr>\n",
       "  </thead>\n",
       "  <tbody>\n",
       "    <tr>\n",
       "      <th>4</th>\n",
       "      <td>\\frac{{3\\pi }}{4}</td>\n",
       "      <td>(3*pi)/4</td>\n",
       "      <td>135</td>\n",
       "      <td>Expresa en grados los siguientes ángulos dados...</td>\n",
       "      <td>1BC</td>\n",
       "      <td>23 - Trigonometría</td>\n",
       "      <td>p039e02</td>\n",
       "      <td>1</td>\n",
       "      <td>3</td>\n",
       "      <td>1</td>\n",
       "      <td>True</td>\n",
       "      <td>True</td>\n",
       "    </tr>\n",
       "    <tr>\n",
       "      <th>5</th>\n",
       "      <td>\\frac{{{5}\\pi }}{{3}}</td>\n",
       "      <td>(5*pi)/3</td>\n",
       "      <td>300</td>\n",
       "      <td>Expresa en grados los siguientes ángulos dados...</td>\n",
       "      <td>1BC</td>\n",
       "      <td>23 - Trigonometría</td>\n",
       "      <td>p039e02</td>\n",
       "      <td>1</td>\n",
       "      <td>3</td>\n",
       "      <td>1</td>\n",
       "      <td>True</td>\n",
       "      <td>True</td>\n",
       "    </tr>\n",
       "    <tr>\n",
       "      <th>6</th>\n",
       "      <td>\\frac{{{{3}}\\pi }}{{{2}}}</td>\n",
       "      <td>(3*pi)/2</td>\n",
       "      <td>270</td>\n",
       "      <td>Expresa en grados los siguientes ángulos dados...</td>\n",
       "      <td>1BC</td>\n",
       "      <td>23 - Trigonometría</td>\n",
       "      <td>p039e02</td>\n",
       "      <td>1</td>\n",
       "      <td>3</td>\n",
       "      <td>1</td>\n",
       "      <td>True</td>\n",
       "      <td>True</td>\n",
       "    </tr>\n",
       "    <tr>\n",
       "      <th>7</th>\n",
       "      <td>\\frac{{{{9}}\\pi }}{{{2}}}</td>\n",
       "      <td>(9*pi)/2</td>\n",
       "      <td>810</td>\n",
       "      <td>Expresa en grados los siguientes ángulos dados...</td>\n",
       "      <td>1BC</td>\n",
       "      <td>23 - Trigonometría</td>\n",
       "      <td>p039e02</td>\n",
       "      <td>1</td>\n",
       "      <td>3</td>\n",
       "      <td>1</td>\n",
       "      <td>True</td>\n",
       "      <td>True</td>\n",
       "    </tr>\n",
       "    <tr>\n",
       "      <th>8</th>\n",
       "      <td>\\frac{{{{4}}\\pi }}{{{3}}}</td>\n",
       "      <td>(4*pi)/3</td>\n",
       "      <td>240</td>\n",
       "      <td>Expresa en grados los siguientes ángulos dados...</td>\n",
       "      <td>1BC</td>\n",
       "      <td>23 - Trigonometría</td>\n",
       "      <td>p039e02</td>\n",
       "      <td>1</td>\n",
       "      <td>3</td>\n",
       "      <td>1</td>\n",
       "      <td>True</td>\n",
       "      <td>True</td>\n",
       "    </tr>\n",
       "  </tbody>\n",
       "</table>\n",
       "</div>"
      ],
      "text/plain": [
       "             enunciado_latex enunciado solucion  \\\n",
       "4          \\frac{{3\\pi }}{4}  (3*pi)/4      135   \n",
       "5      \\frac{{{5}\\pi }}{{3}}  (5*pi)/3      300   \n",
       "6  \\frac{{{{3}}\\pi }}{{{2}}}  (3*pi)/2      270   \n",
       "7  \\frac{{{{9}}\\pi }}{{{2}}}  (9*pi)/2      810   \n",
       "8  \\frac{{{{4}}\\pi }}{{{3}}}  (4*pi)/3      240   \n",
       "\n",
       "                                               texto curso  \\\n",
       "4  Expresa en grados los siguientes ángulos dados...   1BC   \n",
       "5  Expresa en grados los siguientes ángulos dados...   1BC   \n",
       "6  Expresa en grados los siguientes ángulos dados...   1BC   \n",
       "7  Expresa en grados los siguientes ángulos dados...   1BC   \n",
       "8  Expresa en grados los siguientes ángulos dados...   1BC   \n",
       "\n",
       "               titulo n_ejercicio  dificultad  n_columnas  puntos  enun_tex  \\\n",
       "4  23 - Trigonometría     p039e02           1           3       1      True   \n",
       "5  23 - Trigonometría     p039e02           1           3       1      True   \n",
       "6  23 - Trigonometría     p039e02           1           3       1      True   \n",
       "7  23 - Trigonometría     p039e02           1           3       1      True   \n",
       "8  23 - Trigonometría     p039e02           1           3       1      True   \n",
       "\n",
       "   sol_tex  \n",
       "4     True  \n",
       "5     True  \n",
       "6     True  \n",
       "7     True  \n",
       "8     True  "
      ]
     },
     "metadata": {},
     "output_type": "display_data"
    },
    {
     "data": {
      "text/markdown": [
       "**Ejercicio: **p039e05y6"
      ],
      "text/plain": [
       "<IPython.core.display.Markdown object>"
      ]
     },
     "metadata": {},
     "output_type": "display_data"
    },
    {
     "data": {
      "text/html": [
       "<div>\n",
       "<style scoped>\n",
       "    .dataframe tbody tr th:only-of-type {\n",
       "        vertical-align: middle;\n",
       "    }\n",
       "\n",
       "    .dataframe tbody tr th {\n",
       "        vertical-align: top;\n",
       "    }\n",
       "\n",
       "    .dataframe thead th {\n",
       "        text-align: right;\n",
       "    }\n",
       "</style>\n",
       "<table border=\"1\" class=\"dataframe\">\n",
       "  <thead>\n",
       "    <tr style=\"text-align: right;\">\n",
       "      <th></th>\n",
       "      <th>enunciado_latex</th>\n",
       "      <th>enunciado</th>\n",
       "      <th>solucion</th>\n",
       "      <th>texto</th>\n",
       "      <th>curso</th>\n",
       "      <th>titulo</th>\n",
       "      <th>n_ejercicio</th>\n",
       "      <th>dificultad</th>\n",
       "      <th>n_columnas</th>\n",
       "      <th>puntos</th>\n",
       "      <th>enun_tex</th>\n",
       "      <th>sol_tex</th>\n",
       "    </tr>\n",
       "  </thead>\n",
       "  <tbody>\n",
       "    <tr>\n",
       "      <th>9</th>\n",
       "      <td>{\\sec\\alpha}^2+{\\csc\\alpha}^2={\\sec\\alpha}^2\\c...</td>\n",
       "      <td>Eq(csc(alpha)**2 + sec(alpha)**2, csc(alpha)**...</td>\n",
       "      <td>\\left [ \\frac{8}{- \\cos{\\left (4 \\alpha \\right...</td>\n",
       "      <td>Demostrar si son verdaderas o falsas las sigui...</td>\n",
       "      <td>1BC</td>\n",
       "      <td>23 - Trigonometría</td>\n",
       "      <td>p039e05y6</td>\n",
       "      <td>1</td>\n",
       "      <td>1</td>\n",
       "      <td>1</td>\n",
       "      <td>True</td>\n",
       "      <td>True</td>\n",
       "    </tr>\n",
       "    <tr>\n",
       "      <th>10</th>\n",
       "      <td>\\frac{\\tan\\alpha+\\tan\\beta}{\\cot\\alpha+\\cot\\be...</td>\n",
       "      <td>Eq((tan(alpha) + tan(beta))/(cot(alpha) + cot(...</td>\n",
       "      <td>\\left [ \\tan{\\left (\\alpha \\right )} \\tan{\\lef...</td>\n",
       "      <td>Demostrar si son verdaderas o falsas las sigui...</td>\n",
       "      <td>1BC</td>\n",
       "      <td>23 - Trigonometría</td>\n",
       "      <td>p039e05y6</td>\n",
       "      <td>1</td>\n",
       "      <td>1</td>\n",
       "      <td>1</td>\n",
       "      <td>True</td>\n",
       "      <td>True</td>\n",
       "    </tr>\n",
       "    <tr>\n",
       "      <th>11</th>\n",
       "      <td>\\frac{{\\sin\\alpha}\\cdot{\\cos\\alpha}}{{\\cos\\alp...</td>\n",
       "      <td>Eq((sin(alpha)*cos(alpha))/(-sin(alpha)**2 + c...</td>\n",
       "      <td>\\left [ \\frac{\\tan{\\left (2 \\alpha \\right )}}{...</td>\n",
       "      <td>Demostrar si son verdaderas o falsas las sigui...</td>\n",
       "      <td>1BC</td>\n",
       "      <td>23 - Trigonometría</td>\n",
       "      <td>p039e05y6</td>\n",
       "      <td>1</td>\n",
       "      <td>1</td>\n",
       "      <td>1</td>\n",
       "      <td>True</td>\n",
       "      <td>True</td>\n",
       "    </tr>\n",
       "  </tbody>\n",
       "</table>\n",
       "</div>"
      ],
      "text/plain": [
       "                                      enunciado_latex  \\\n",
       "9   {\\sec\\alpha}^2+{\\csc\\alpha}^2={\\sec\\alpha}^2\\c...   \n",
       "10  \\frac{\\tan\\alpha+\\tan\\beta}{\\cot\\alpha+\\cot\\be...   \n",
       "11  \\frac{{\\sin\\alpha}\\cdot{\\cos\\alpha}}{{\\cos\\alp...   \n",
       "\n",
       "                                            enunciado  \\\n",
       "9   Eq(csc(alpha)**2 + sec(alpha)**2, csc(alpha)**...   \n",
       "10  Eq((tan(alpha) + tan(beta))/(cot(alpha) + cot(...   \n",
       "11  Eq((sin(alpha)*cos(alpha))/(-sin(alpha)**2 + c...   \n",
       "\n",
       "                                             solucion  \\\n",
       "9   \\left [ \\frac{8}{- \\cos{\\left (4 \\alpha \\right...   \n",
       "10  \\left [ \\tan{\\left (\\alpha \\right )} \\tan{\\lef...   \n",
       "11  \\left [ \\frac{\\tan{\\left (2 \\alpha \\right )}}{...   \n",
       "\n",
       "                                                texto curso  \\\n",
       "9   Demostrar si son verdaderas o falsas las sigui...   1BC   \n",
       "10  Demostrar si son verdaderas o falsas las sigui...   1BC   \n",
       "11  Demostrar si son verdaderas o falsas las sigui...   1BC   \n",
       "\n",
       "                titulo n_ejercicio  dificultad  n_columnas  puntos  enun_tex  \\\n",
       "9   23 - Trigonometría   p039e05y6           1           1       1      True   \n",
       "10  23 - Trigonometría   p039e05y6           1           1       1      True   \n",
       "11  23 - Trigonometría   p039e05y6           1           1       1      True   \n",
       "\n",
       "    sol_tex  \n",
       "9      True  \n",
       "10     True  \n",
       "11     True  "
      ]
     },
     "metadata": {},
     "output_type": "display_data"
    }
   ],
   "source": [
    "escribir_preambulo(fichero, titulo, 'ejercicios')\n",
    "for s in df_ejercicios.groupby('n_ejercicio').count().index : \n",
    "    display(md(\"**Ejercicio: **\" + s ))\n",
    "    display(df_ejercicios[df_ejercicios.n_ejercicio == s])\n",
    "    escribir_ejercicios(df_ejercicios[df_ejercicios.n_ejercicio == s],fichero)\n",
    "\n",
    "escribir_fin(fichero)"
   ]
  }
 ],
 "metadata": {
  "kernelspec": {
   "display_name": "Python 3",
   "language": "python",
   "name": "python3"
  },
  "language_info": {
   "codemirror_mode": {
    "name": "ipython",
    "version": 3
   },
   "file_extension": ".py",
   "mimetype": "text/x-python",
   "name": "python",
   "nbconvert_exporter": "python",
   "pygments_lexer": "ipython3",
   "version": "3.6.5"
  }
 },
 "nbformat": 4,
 "nbformat_minor": 2
}
