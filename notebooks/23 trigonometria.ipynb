{
 "cells": [
  {
   "cell_type": "code",
   "execution_count": 1,
   "metadata": {},
   "outputs": [
    {
     "name": "stdout",
     "output_type": "stream",
     "text": [
      "IPython console for SymPy 1.8 (Python 3.6.13-64-bit) (ground types: gmpy)\n",
      "\n",
      "These commands were executed:\n",
      ">>> from __future__ import division\n",
      ">>> from sympy import *\n",
      ">>> x, y, z, t = symbols('x y z t')\n",
      ">>> k, m, n = symbols('k m n', integer=True)\n",
      ">>> f, g, h = symbols('f g h', cls=Function)\n",
      ">>> init_printing()\n",
      "\n",
      "Documentation can be found at https://docs.sympy.org/1.8/\n",
      "\n"
     ]
    }
   ],
   "source": [
    "from sympy import init_session\n",
    "from sympy import div, QQ\n",
    "from sympy.parsing.latex import parse_latex\n",
    "from sympy.parsing.sympy_parser import parse_expr\n",
    "from sympy import solve_poly_system\n",
    "from IPython.display import Markdown as md\n",
    "from IPython.display import display\n",
    "import numpy as np\n",
    "import pandas as pd\n",
    "    \n",
    "\n",
    "\n",
    "\n",
    "init_session()\n",
    "\n",
    "a, b, c, d = symbols('a b c d', real = True)\n",
    "from docparts import añadir_ejercicios, doc_ejer, escribir_preambulo, escribir_ejercicios, escribir_fin\n",
    "\n",
    "alpha = Symbol(\"alpha\")\n",
    "beta = Symbol(\"beta\")\n",
    "\n",
    "df_ejercicios = pd.DataFrame()\n",
    "\n",
    "fichero = 'trigono'\n",
    "titulo = '23 - Trigonometría'\n",
    "curso = '1BC'\n",
    "\n",
    "\n",
    "x,y = symbols('x, y', real=True)\n"
   ]
  },
  {
   "cell_type": "code",
   "execution_count": 2,
   "metadata": {},
   "outputs": [
    {
     "data": {
      "text/markdown": [
       "**Resolver las siguientes ecuaciones para ángulos en el primer cuadrante:**"
      ],
      "text/plain": [
       "<IPython.core.display.Markdown object>"
      ]
     },
     "metadata": {},
     "output_type": "display_data"
    },
    {
     "data": {
      "text/markdown": [
       "$\\sin{2x}=\\frac{1}{2} \\rightarrow \\left [ \\frac{\\pi}{12}, \\quad \\frac{5 \\pi}{12}\\right ]$"
      ],
      "text/plain": [
       "<IPython.core.display.Markdown object>"
      ]
     },
     "metadata": {},
     "output_type": "display_data"
    },
    {
     "data": {
      "text/markdown": [
       "$\\tan{\\frac{x}{2}}=\\frac{{\\sqrt {3} }}{3} \\rightarrow \\left [ \\frac{\\pi}{3}\\right ]$"
      ],
      "text/plain": [
       "<IPython.core.display.Markdown object>"
      ]
     },
     "metadata": {},
     "output_type": "display_data"
    },
    {
     "data": {
      "text/markdown": [
       "$\\sin{(3x-\\frac{\\pi}{2})}=-\\frac{1}{2} \\rightarrow \\left [ \\frac{\\pi}{9}, \\quad \\frac{5 \\pi}{9}\\right ]$"
      ],
      "text/plain": [
       "<IPython.core.display.Markdown object>"
      ]
     },
     "metadata": {},
     "output_type": "display_data"
    }
   ],
   "source": [
    "# Página 41 ejercicio 27\n",
    "\n",
    "texto_ejercicio = 'Resolver las siguientes ecuaciones para ángulos en el primer cuadrante:'\n",
    "n_ejercicio = 'p041e27'\n",
    "\n",
    "display(md(\"**\"+texto_ejercicio+\"**\"))\n",
    "\n",
    "enunciado_latex = [r'\\sin{2x}=\\frac{1}{2}',\n",
    "                   r'\\tan{\\frac{x}{2}}=\\frac{{\\sqrt {3} }}{3}',\n",
    "                   r'\\sin{(3x-\\frac{\\pi}{2})}=-\\frac{1}{2}',\n",
    "                   \n",
    "                  ]\n",
    "                                       \n",
    "\n",
    "\n",
    "\n",
    "\n",
    "enunciado, solucion = [], []\n",
    "\n",
    "for i, s in enumerate(enunciado_latex) :\n",
    "    enunciado.append(parse_latex(s))\n",
    "    #solucion.append(latex(solve(parse_latex(s)))) \n",
    "    solucion.append(latex([nsimplify(i/pi)*pi for i in solve(eval(str(parse_latex(s))))])) \n",
    "    display(md(\"$\"+ enunciado_latex[i] +\" \\\\rightarrow \" + solucion[i] +\"$\"))\n",
    "\n",
    "df_ejercicios = df_ejercicios.append(añadir_ejercicios(enunciado_latex, enunciado, solucion, texto_ejercicio, curso, titulo , n_ejercicio, '1', '1'), ignore_index=True)\n"
   ]
  },
  {
   "cell_type": "code",
   "execution_count": 3,
   "metadata": {},
   "outputs": [
    {
     "data": {
      "text/markdown": [
       "**Resolver las siguientes ecuaciones:**"
      ],
      "text/plain": [
       "<IPython.core.display.Markdown object>"
      ]
     },
     "metadata": {},
     "output_type": "display_data"
    },
    {
     "data": {
      "text/markdown": [
       "$2\\sin{x}+\\csc{x}=2\\sqrt{2} \\rightarrow \\left [ 45, \\quad 135\\right ]$"
      ],
      "text/plain": [
       "<IPython.core.display.Markdown object>"
      ]
     },
     "metadata": {},
     "output_type": "display_data"
    },
    {
     "data": {
      "text/markdown": [
       "$\\sin{x}=\\cos^2{x}+1 \\rightarrow \\left [ 90\\right ]$"
      ],
      "text/plain": [
       "<IPython.core.display.Markdown object>"
      ]
     },
     "metadata": {},
     "output_type": "display_data"
    },
    {
     "data": {
      "text/markdown": [
       "$\\sin{x}\\cos{x}=0 \\rightarrow \\left [ 0, \\quad 90, \\quad 180, \\quad 270\\right ]$"
      ],
      "text/plain": [
       "<IPython.core.display.Markdown object>"
      ]
     },
     "metadata": {},
     "output_type": "display_data"
    },
    {
     "data": {
      "text/markdown": [
       "$\\tan{x}-\\sin{x}=0 \\rightarrow \\left [ 0, \\quad -180, \\quad 180, \\quad 360\\right ]$"
      ],
      "text/plain": [
       "<IPython.core.display.Markdown object>"
      ]
     },
     "metadata": {},
     "output_type": "display_data"
    },
    {
     "data": {
      "text/markdown": [
       "$\\sin{x}\\cos{x}=2\\sin{x} \\rightarrow \\left [ 0\\right ]$"
      ],
      "text/plain": [
       "<IPython.core.display.Markdown object>"
      ]
     },
     "metadata": {},
     "output_type": "display_data"
    },
    {
     "data": {
      "text/markdown": [
       "$2\\cos{x}-3\\tan{x}=0 \\rightarrow \\left [ 150, \\quad 30, \\quad - \\frac{180 i \\log{\\left (- i \\left(- \\sqrt{3} + 2\\right) \\right )}}{\\pi}, \\quad - \\frac{180 i \\log{\\left (- i \\left(\\sqrt{3} + 2\\right) \\right )}}{\\pi}\\right ]$"
      ],
      "text/plain": [
       "<IPython.core.display.Markdown object>"
      ]
     },
     "metadata": {},
     "output_type": "display_data"
    },
    {
     "data": {
      "text/markdown": [
       "$\\sin{2x}=2\\cos{x} \\rightarrow \\left [ -90, \\quad 90\\right ]$"
      ],
      "text/plain": [
       "<IPython.core.display.Markdown object>"
      ]
     },
     "metadata": {},
     "output_type": "display_data"
    },
    {
     "data": {
      "text/markdown": [
       "$4\\tan{x}=\\frac{\\sqrt{3}}{\\cos^2{x}} \\rightarrow \\left [ -120, \\quad -150, \\quad 60, \\quad 30\\right ]$"
      ],
      "text/plain": [
       "<IPython.core.display.Markdown object>"
      ]
     },
     "metadata": {},
     "output_type": "display_data"
    },
    {
     "data": {
      "text/markdown": [
       "$\\sin{x}+\\cos{x}=\\sqrt{2} \\rightarrow \\left [ 45\\right ]$"
      ],
      "text/plain": [
       "<IPython.core.display.Markdown object>"
      ]
     },
     "metadata": {},
     "output_type": "display_data"
    },
    {
     "data": {
      "text/markdown": [
       "$\\sin{2x}\\cos{x}=6\\sin^3{x} \\rightarrow \\left [ 0, \\quad 180, \\quad -150, \\quad 150, \\quad -30, \\quad 30\\right ]$"
      ],
      "text/plain": [
       "<IPython.core.display.Markdown object>"
      ]
     },
     "metadata": {},
     "output_type": "display_data"
    },
    {
     "data": {
      "text/markdown": [
       "$4\\sin{\\frac{x}{2}}\\cos{x}=3 \\rightarrow \\left [ \\right ]$"
      ],
      "text/plain": [
       "<IPython.core.display.Markdown object>"
      ]
     },
     "metadata": {},
     "output_type": "display_data"
    },
    {
     "data": {
      "text/markdown": [
       "$\\tan{x}\\tan{2x}=1 \\rightarrow \\left [ -150, \\quad 150, \\quad -30, \\quad 30\\right ]$"
      ],
      "text/plain": [
       "<IPython.core.display.Markdown object>"
      ]
     },
     "metadata": {},
     "output_type": "display_data"
    },
    {
     "data": {
      "text/markdown": [
       "$4\\cos{2x}+3\\cos{x}=1 \\rightarrow \\left [ 180, \\quad - \\frac{180 i \\log{\\left (\\frac{5}{8} - \\frac{\\sqrt{39} i}{8} \\right )}}{\\pi}, \\quad - \\frac{180 i \\log{\\left (\\frac{5}{8} + \\frac{\\sqrt{39} i}{8} \\right )}}{\\pi}\\right ]$"
      ],
      "text/plain": [
       "<IPython.core.display.Markdown object>"
      ]
     },
     "metadata": {},
     "output_type": "display_data"
    },
    {
     "data": {
      "text/markdown": [
       "$\\tan{x}+3\\cot{x}=4 \\rightarrow \\left [ 45, \\quad \\frac{180 \\operatorname{atan}{\\left (3 \\right )}}{\\pi}\\right ]$"
      ],
      "text/plain": [
       "<IPython.core.display.Markdown object>"
      ]
     },
     "metadata": {},
     "output_type": "display_data"
    },
    {
     "data": {
      "text/markdown": [
       "$4\\sin{(x-30)}\\cos{(x-30)}=\\sqrt{3} \\rightarrow \\left [ \\frac{180 \\left(- \\frac{2 \\pi}{3} + 30\\right)}{\\pi}, \\quad \\frac{180 \\left(\\frac{\\pi}{6} + 30\\right)}{\\pi}, \\quad \\frac{180 \\left(\\frac{\\pi}{3} + 30\\right)}{\\pi}, \\quad \\frac{180 \\left(- 2 \\operatorname{atan}{\\left (\\sqrt{3} + 2 \\right )} + 30\\right)}{\\pi}\\right ]$"
      ],
      "text/plain": [
       "<IPython.core.display.Markdown object>"
      ]
     },
     "metadata": {},
     "output_type": "display_data"
    }
   ],
   "source": [
    "# Página 41 ejercicio 28\n",
    "\n",
    "texto_ejercicio = 'Resolver las siguientes ecuaciones:'\n",
    "n_ejercicio = 'p041e28'\n",
    "\n",
    "display(md(\"**\"+texto_ejercicio+\"**\"))\n",
    "\n",
    "enunciado_latex = [r'2\\sin{x}+\\csc{x}=2\\sqrt{2}',\n",
    "                   r'\\sin{x}=\\cos^2{x}+1',\n",
    "                   r'\\sin{x}\\cos{x}=0',\n",
    "                   r'\\tan{x}-\\sin{x}=0',\n",
    "                   r'\\sin{x}\\cos{x}=2\\sin{x}',\n",
    "                   r'2\\cos{x}-3\\tan{x}=0',\n",
    "                   r'\\sin{2x}=2\\cos{x}',\n",
    "                   r'4\\tan{x}=\\frac{\\sqrt{3}}{\\cos^2{x}}',\n",
    "                   r'\\sin{x}+\\cos{x}=\\sqrt{2}',\n",
    "                   r'\\sin{2x}\\cos{x}=6\\sin^3{x}',\n",
    "                   r'4\\sin{\\frac{x}{2}}\\cos{x}=3',\n",
    "                   r'\\tan{x}\\tan{2x}=1',\n",
    "                   r'4\\cos{2x}+3\\cos{x}=1',\n",
    "                   r'\\tan{x}+3\\cot{x}=4',\n",
    "                   r'4\\sin{(x-30)}\\cos{(x-30)}=\\sqrt{3}'\n",
    "                \n",
    "                   \n",
    "                   \n",
    "                  ]\n",
    "                                       \n",
    "\n",
    "\n",
    "\n",
    "\n",
    "enunciado, solucion = [], []\n",
    "\n",
    "for i, s in enumerate(enunciado_latex) :\n",
    "    enunciado.append(parse_latex(s))\n",
    "    #solucion.append(latex(solve(parse_latex(s)))) \n",
    "    solucion.append(latex([deg(nsimplify(i/pi)*pi) for i in solve(eval(str(parse_latex(s))))])) \n",
    "    display(md(\"$\"+ enunciado_latex[i] +\" \\\\rightarrow \" + solucion[i] +\"$\"))\n",
    "\n",
    "df_ejercicios = df_ejercicios.append(añadir_ejercicios(enunciado_latex, enunciado, solucion, texto_ejercicio, curso, titulo , n_ejercicio, '1', '1'), ignore_index=True)\n"
   ]
  },
  {
   "cell_type": "code",
   "execution_count": 4,
   "metadata": {},
   "outputs": [
    {
     "data": {
      "text/markdown": [
       "**Calcular los restantes elementos de un triángulo del que se conocen:**"
      ],
      "text/plain": [
       "<IPython.core.display.Markdown object>"
      ]
     },
     "metadata": {},
     "output_type": "display_data"
    },
    {
     "data": {
      "text/markdown": [
       "El lado a = 6, y los ángulos B=45º, C=105º$ \\to 6 \\sqrt{2},\\ 3 \\sqrt{2} + 3 \\sqrt{6},\\ 30º$"
      ],
      "text/plain": [
       "<IPython.core.display.Markdown object>"
      ]
     },
     "metadata": {},
     "output_type": "display_data"
    },
    {
     "data": {
      "text/markdown": [
       "El lado a = 8, y los ángulos B=30º, C=60º$ \\to 4,\\ 4 \\sqrt{3},\\ 90º$"
      ],
      "text/plain": [
       "<IPython.core.display.Markdown object>"
      ]
     },
     "metadata": {},
     "output_type": "display_data"
    }
   ],
   "source": [
    "# Página 42 ejercicio 1\n",
    "\n",
    "texto_ejercicio = r\"\"\"Calcular los restantes elementos de un triángulo del que se conocen:\"\"\" \n",
    "n_ejercicio = 'p042e01'\n",
    "\n",
    "display(md(\"**\"+texto_ejercicio+\"**\"))\n",
    "\n",
    "\n",
    "pre_enunciado_latex = [[6,45,105],\n",
    "                       [8,30,60]\n",
    "]\n",
    "\n",
    "enunciado_latex, enunciado, solucion = [],[],[]\n",
    "\n",
    "\n",
    "for i, s in enumerate(pre_enunciado_latex) : \n",
    "    enunciado_latex.append(\"El lado a = \"+str(s[0])+\", y los ángulos B=\"+str(s[1])+\"º, C=\"+str(s[2])+\"º\")\n",
    "    exp1 = 's[0]/(sin(rad(180-s[1]-s[2])))'\n",
    "    r = eval(exp1)\n",
    "    exp2 = 'r*sin(rad(s[1]))'\n",
    "    eval(exp2)\n",
    "    exp3 = 'r*sin(rad(s[2]))'\n",
    "    enunciado.append([exp1, exp2, exp3])\n",
    "    solucion.append(latex(eval(exp2))+\",\\ \"+latex(eval(exp3))+\",\\ \"+latex(180-s[1]-s[2])+\"º\")\n",
    "    display(md(\"\"+enunciado_latex[i]+\"$ \\\\to \"+str(solucion[i])+\"$\"))\n",
    "\n",
    "#enunciado_latex, enunciado, solucion\n",
    "df_ejercicios = df_ejercicios.append(añadir_ejercicios(enunciado_latex, enunciado, solucion, texto_ejercicio, curso, titulo , n_ejercicio, '1', '1', enun_tex=False), ignore_index=True)\n"
   ]
  },
  {
   "cell_type": "code",
   "execution_count": 26,
   "metadata": {},
   "outputs": [
    {
     "data": {
      "text/markdown": [
       "**Calcular los restantes elementos de un triángulo del que se conocen:**"
      ],
      "text/plain": [
       "<IPython.core.display.Markdown object>"
      ]
     },
     "metadata": {},
     "output_type": "display_data"
    },
    {
     "data": {
      "text/markdown": [
       "Los lados a=10 y b=7, y C=30º$ \\to \\sqrt{- 70 \\sqrt{3} + 149} = 5.268438428052338,\\ 108.36878841450955º,\\ 41.63121158549045º$"
      ],
      "text/plain": [
       "<IPython.core.display.Markdown object>"
      ]
     },
     "metadata": {},
     "output_type": "display_data"
    }
   ],
   "source": [
    "# Página 42 ejercicio 2\n",
    "\n",
    "# Válido para a el lado mayor y ángulo C < 90\n",
    "\n",
    "texto_ejercicio = r\"\"\"Calcular los restantes elementos de un triángulo del que se conocen:\"\"\" \n",
    "n_ejercicio = 'p042e02'\n",
    "\n",
    "display(md(\"**\"+texto_ejercicio+\"**\"))\n",
    "\n",
    "\n",
    "pre_enunciado_latex = [[10,7,30],\n",
    "]\n",
    "\n",
    "enunciado_latex, enunciado, solucion = [],[],[]\n",
    "\n",
    "\n",
    "for i, s in enumerate(pre_enunciado_latex) : \n",
    "    enunciado_latex.append(\"Los lados a=\"+str(s[0])+\" y b=\"+str(s[1])+\", y C=\"+str(s[2])+\"º\")\n",
    "    lc = sqrt(s[0]**2+s[1]**2-2*s[0]*s[1]*(cos(rad(s[2]))))\n",
    "    r = (lc/sin(rad(s[2])))\n",
    "    # display(lc,r)\n",
    "    \n",
    "    ab = float(deg(asin(s[1]/r)))\n",
    "    aa = 180 - s[2] - ab\n",
    "    enunciado.append([lc, aa, ab])\n",
    "    solucion.append(latex(lc)+\" = \"+latex(float(lc))+\",\\ \"+latex(aa)+\"º,\\ \"+latex(ab)+\"º\")\n",
    "    display(md(\"\"+enunciado_latex[i]+\"$ \\\\to \"+str(solucion[i])+\"$\"))\n",
    "\n",
    "#enunciado_latex, enunciado, solucion\n",
    "df_ejercicios = df_ejercicios.append(añadir_ejercicios(enunciado_latex, enunciado, solucion, texto_ejercicio, curso, titulo , n_ejercicio, '1', '1', enun_tex=False), ignore_index=True)\n"
   ]
  },
  {
   "cell_type": "code",
   "execution_count": 6,
   "metadata": {},
   "outputs": [
    {
     "data": {
      "text/markdown": [
       "**Determina si se puede construir un triángulo ABC sabiendo que**"
      ],
      "text/plain": [
       "<IPython.core.display.Markdown object>"
      ]
     },
     "metadata": {},
     "output_type": "display_data"
    },
    {
     "data": {
      "text/markdown": [
       "El lado a = 52 y b = 32 y que B = 40.5º.$ \\to distancia_{a recta}=33.77129851316955  \\to \\mathrm{False}$"
      ],
      "text/plain": [
       "<IPython.core.display.Markdown object>"
      ]
     },
     "metadata": {},
     "output_type": "display_data"
    },
    {
     "data": {
      "text/markdown": [
       "El lado a = 50 y b = 32 y que B = 39.5º.$ \\to distancia_{a recta}=31.803911013888197  \\to \\mathrm{True}$"
      ],
      "text/plain": [
       "<IPython.core.display.Markdown object>"
      ]
     },
     "metadata": {},
     "output_type": "display_data"
    }
   ],
   "source": [
    "# Página 42 ejercicio 3\n",
    "\n",
    "# Aplicar la distancia a la recta formada por el ángulo que nos dan\n",
    "\n",
    "texto_ejercicio = r\"\"\"Determina si se puede construir un triángulo ABC sabiendo que\"\"\" \n",
    "n_ejercicio = 'p042e03'\n",
    "\n",
    "display(md(\"**\"+texto_ejercicio+\"**\"))\n",
    "\n",
    "\n",
    "pre_enunciado_latex = [[52,32,40.5],\n",
    "                       [50,32,39.5]\n",
    "]\n",
    "\n",
    "enunciado_latex, enunciado, solucion = [],[],[]\n",
    "\n",
    "\n",
    "for i, s in enumerate(pre_enunciado_latex) : \n",
    "    enunciado_latex.append(\"El lado a = \"+str(s[0])+\" y b = \"+str(s[1])+\" y que B = \"+str(s[2])+\"º.\")\n",
    "    distancia_a_recta_c = float(s[0]*cos(rad(90-s[2])))\n",
    "    enunciado.append([distancia_a_recta_c, distancia_a_recta_c>s[1]])\n",
    "    solucion.append(\"distancia_{a recta}=\"+latex(distancia_a_recta_c)+\"  \\\\to \"+latex(distancia_a_recta_c<s[1]))\n",
    "    display(md(\"\"+enunciado_latex[i]+\"$ \\\\to \"+str(solucion[i])+\"$\"))\n",
    "\n",
    "#enunciado_latex, enunciado, solucion\n",
    "df_ejercicios = df_ejercicios.append(añadir_ejercicios(enunciado_latex, enunciado, solucion, texto_ejercicio, curso, titulo , n_ejercicio, '1', '1', enun_tex=False), ignore_index=True)\n"
   ]
  },
  {
   "cell_type": "code",
   "execution_count": 7,
   "metadata": {},
   "outputs": [
    {
     "data": {
      "text/markdown": [
       "**Calcula los ángulo del triángulo ABC, si se conocen:**"
      ],
      "text/plain": [
       "<IPython.core.display.Markdown object>"
      ]
     },
     "metadata": {},
     "output_type": "display_data"
    },
    {
     "data": {
      "text/markdown": [
       "Los lados a=22, b=17, y c=15$ \\to \\left [ 86.62771331656609, \\quad 50.47880364135783, \\quad 42.89348304207606\\right ]º$"
      ],
      "text/plain": [
       "<IPython.core.display.Markdown object>"
      ]
     },
     "metadata": {},
     "output_type": "display_data"
    }
   ],
   "source": [
    "# Página 42 ejercicio 4\n",
    "\n",
    "\n",
    "texto_ejercicio = r\"\"\"Calcula los ángulo del triángulo ABC, si se conocen:\"\"\" \n",
    "n_ejercicio = 'p042e04'\n",
    "\n",
    "display(md(\"**\"+texto_ejercicio+\"**\"))\n",
    "\n",
    "\n",
    "pre_enunciado_latex = [[22,17,15],\n",
    "]\n",
    "\n",
    "enunciado_latex, enunciado, solucion = [],[],[]\n",
    "\n",
    "\n",
    "for i, s in enumerate(pre_enunciado_latex) : \n",
    "    enunciado_latex.append(\"Los lados a=\"+str(s[0])+\", b=\"+str(s[1])+\", y c=\"+str(s[2])+\"\")\n",
    "    s1=float(deg(acos((-s[0]**2+s[1]**2+s[2]**2)/(2*s[1]*s[2]))))\n",
    "    s2=float(deg(acos((-s[1]**2+s[0]**2+s[2]**2)/(2*s[0]*s[2]))))\n",
    "    s3=float(deg(acos((-s[2]**2+s[0]**2+s[1]**2)/(2*s[0]*s[1]))))\n",
    "    enunciado.append([s1,s1,s3])\n",
    "    solucion.append(latex([s1,s2,s3])+\"º\")\n",
    "    display(md(\"\"+enunciado_latex[i]+\"$ \\\\to \"+str(solucion[i])+\"$\"))\n",
    "\n",
    "#enunciado_latex, enunciado, solucion\n",
    "df_ejercicios = df_ejercicios.append(añadir_ejercicios(enunciado_latex, enunciado, solucion, texto_ejercicio, curso, titulo , n_ejercicio, '1', '1', enun_tex=False), ignore_index=True)\n"
   ]
  },
  {
   "cell_type": "code",
   "execution_count": 8,
   "metadata": {},
   "outputs": [
    {
     "data": {
      "text/markdown": [
       "**Calcular el área de un triángulo sabiendo que:**"
      ],
      "text/plain": [
       "<IPython.core.display.Markdown object>"
      ]
     },
     "metadata": {},
     "output_type": "display_data"
    },
    {
     "data": {
      "text/markdown": [
       "El lado a=8, y los ángulos B=30º, y C=105º$ \\to 2 \\sqrt{2} \\left(2 \\sqrt{2} + 2 \\sqrt{6}\\right) \\to 21.856406460551018$"
      ],
      "text/plain": [
       "<IPython.core.display.Markdown object>"
      ]
     },
     "metadata": {},
     "output_type": "display_data"
    }
   ],
   "source": [
    "# Página 42 ejercicio 7\n",
    "\n",
    "# El ángulo C tiene que ser mayor que 90, si no hay que revisarlo --> [tan(rad(s[2]))-x/(s[0]-y), tan(rad(s[1]))-x/(y)]\n",
    "\n",
    "texto_ejercicio = r\"\"\"Calcular el área de un triángulo sabiendo que:\"\"\" \n",
    "n_ejercicio = 'p042e07'\n",
    "\n",
    "display(md(\"**\"+texto_ejercicio+\"**\"))\n",
    "\n",
    "\n",
    "pre_enunciado_latex = [[8,30,105],\n",
    "]\n",
    "\n",
    "enunciado_latex, enunciado, solucion = [],[],[]\n",
    "\n",
    "\n",
    "for i, s in enumerate(pre_enunciado_latex) : \n",
    "    enunciado_latex.append(\"El lado a=\"+str(s[0])+\", y los ángulos B=\"+str(s[1])+\"º, y C=\"+str(s[2])+\"º\")\n",
    "    b, c = [sin(rad(s[1]))*s[0]/sin(rad(180-s[1]-s[2])),sin(rad(s[2]))*s[0]/sin(rad(180-s[1]-s[2]))]\n",
    "    h =  s[0]*sin(rad(s[1]))\n",
    "    ar = c*h/2\n",
    "    enunciado.append([s[2]*s[1], s[0]*s[1]*s[2]/2])\n",
    "    solucion.append(latex(ar)+\"\"+\" \\\\to \"+latex(float(ar)))\n",
    "    display(md(\"\"+enunciado_latex[i]+\"$ \\\\to \"+str(solucion[i])+\"$\"))\n",
    "\n",
    "#enunciado_latex, enunciado, solucion\n",
    "df_ejercicios = df_ejercicios.append(añadir_ejercicios(enunciado_latex, enunciado, solucion, texto_ejercicio, curso, titulo , n_ejercicio, '1', '1', enun_tex=False), ignore_index=True)\n"
   ]
  },
  {
   "cell_type": "code",
   "execution_count": 4,
   "metadata": {},
   "outputs": [
    {
     "data": {
      "text/markdown": [
       "**Calcular los lados de un triángulo sabiendo que:**"
      ],
      "text/plain": [
       "<IPython.core.display.Markdown object>"
      ]
     },
     "metadata": {},
     "output_type": "display_data"
    },
    {
     "data": {
      "text/markdown": [
       "Su área mide=18cm², y los ángulos A=30º, y B=45º$ \\to 6, 6, 6 \\sqrt{2}$"
      ],
      "text/plain": [
       "<IPython.core.display.Markdown object>"
      ]
     },
     "metadata": {},
     "output_type": "display_data"
    },
    {
     "data": {
      "text/markdown": [
       "Su área mide=40cm², y los ángulos A=30º, y B=45º$ \\to 6, 6, 6 \\sqrt{2}$"
      ],
      "text/plain": [
       "<IPython.core.display.Markdown object>"
      ]
     },
     "metadata": {},
     "output_type": "display_data"
    }
   ],
   "source": [
    "# Página 42 ejercicio 8 (Revisar)\n",
    "\n",
    "# El ángulo C tiene que ser mayor que 90 (o la suma de los que te dan menor que 90), si no hay que revisarlo \n",
    "\n",
    "texto_ejercicio = r\"\"\"Calcular los lados de un triángulo sabiendo que:\"\"\" \n",
    "n_ejercicio = 'p042e08'\n",
    "\n",
    "display(md(\"**\"+texto_ejercicio+\"**\"))\n",
    "\n",
    "\n",
    "pre_enunciado_latex = [[18,30,45],\n",
    "#                        [40,30,45]\n",
    "]\n",
    "\n",
    "enunciado_latex, enunciado, solucion = [],[],[]\n",
    "\n",
    "\n",
    "for i, s in enumerate(pre_enunciado_latex) : \n",
    "    enunciado_latex.append(\"Su área mide=\"+str(s[0])+\"cm², y los ángulos A=\"+str(s[1])+\"º, y B=\"+str(s[2])+\"º\")\n",
    "    sx, sy, sz  = nonlinsolve([(x+y)/sin(rad(90-s[2]))-z/sin(rad(s[2])), tan(rad(s[1]+s[2]))-z/y, (x+y)*z/2-18],x,y,z).args[0]\n",
    "    enunciado.append([(x+y)/sin(rad(90-s[2]))-z/sin(rad(s[2])), tan(rad(s[1]+s[2]))-z/y, (x+y)*z/2-18])\n",
    "    solucion.append(latex(sx + sy)+\", \"+latex(sz)+\", \"+latex(sqrt((sx+sy)**2+sz**2)))\n",
    "    display(md(\"\"+enunciado_latex[i]+\"$ \\\\to \"+str(solucion[i])+\"$\"))\n",
    "\n",
    "#enunciado_latex, enunciado, solucion\n",
    "df_ejercicios = df_ejercicios.append(añadir_ejercicios(enunciado_latex, enunciado, solucion, texto_ejercicio, curso, titulo , n_ejercicio, '1', '1', enun_tex=False), ignore_index=True)\n"
   ]
  },
  {
   "cell_type": "code",
   "execution_count": 10,
   "metadata": {},
   "outputs": [
    {
     "data": {
      "text/markdown": [
       "**Tres puntos A, B y C están unidos por carreteras rectas y llanas. ¿Cuánto distan A y C?, si:**"
      ],
      "text/plain": [
       "<IPython.core.display.Markdown object>"
      ]
     },
     "metadata": {},
     "output_type": "display_data"
    },
    {
     "data": {
      "text/markdown": [
       "La distancia AB es de 6km, la BC es=9km, y el ángulo que forman AB y BC es de 120º$ \\to 3 \\sqrt{19}=13.076696830622021$"
      ],
      "text/plain": [
       "<IPython.core.display.Markdown object>"
      ]
     },
     "metadata": {},
     "output_type": "display_data"
    }
   ],
   "source": [
    "# Página 42 ejercicio 9\n",
    "\n",
    "texto_ejercicio = r\"\"\"Tres puntos A, B y C están unidos por carreteras rectas y llanas. ¿Cuánto distan A y C?, si:\"\"\" \n",
    "n_ejercicio = 'p042e09'\n",
    "\n",
    "display(md(\"**\"+texto_ejercicio+\"**\"))\n",
    "\n",
    "\n",
    "pre_enunciado_latex = [[6,9,120],\n",
    "]\n",
    "\n",
    "enunciado_latex, enunciado, solucion = [],[],[]\n",
    "\n",
    "\n",
    "for i, s in enumerate(pre_enunciado_latex) : \n",
    "    enunciado_latex.append(\"La distancia AB es de \"+str(s[0])+\"km, la BC es=\"+str(s[1])+\"km, y el ángulo que forman AB y BC es de \"+str(s[2])+\"º\")\n",
    "    exp1 = 'sqrt(s[0]**2+s[1]**2-2*s[0]*s[1]*cos(rad(s[2])))'\n",
    "    enunciado.append(exp1)\n",
    "    solucion.append(latex(eval(exp1))+\"=\"+latex(float(eval(exp1))))\n",
    "    display(md(\"\"+enunciado_latex[i]+\"$ \\\\to \"+str(solucion[i])+\"$\"))\n",
    "\n",
    "#enunciado_latex, enunciado, solucion\n",
    "df_ejercicios = df_ejercicios.append(añadir_ejercicios(enunciado_latex, enunciado, solucion, texto_ejercicio, curso, titulo , n_ejercicio, '1', '1', enun_tex=False), ignore_index=True)\n"
   ]
  },
  {
   "cell_type": "code",
   "execution_count": 11,
   "metadata": {},
   "outputs": [
    {
     "data": {
      "text/markdown": [
       "**Calcular el área de un triángulo ABC sabiendo que**"
      ],
      "text/plain": [
       "<IPython.core.display.Markdown object>"
      ]
     },
     "metadata": {},
     "output_type": "display_data"
    },
    {
     "data": {
      "text/markdown": [
       "a=25km, b=28, y sen(C)=0.96, siendo C < 90º$ \\to 336.0$"
      ],
      "text/plain": [
       "<IPython.core.display.Markdown object>"
      ]
     },
     "metadata": {},
     "output_type": "display_data"
    }
   ],
   "source": [
    "# Página 42 ejercicio 10\n",
    "\n",
    "texto_ejercicio = r\"\"\"Calcular el área de un triángulo ABC sabiendo que\"\"\" \n",
    "n_ejercicio = 'p042e10'\n",
    "\n",
    "display(md(\"**\"+texto_ejercicio+\"**\"))\n",
    "\n",
    "\n",
    "pre_enunciado_latex = [[25,28,0.96],\n",
    "]\n",
    "\n",
    "enunciado_latex, enunciado, solucion = [],[],[]\n",
    "\n",
    "\n",
    "for i, s in enumerate(pre_enunciado_latex) : \n",
    "    enunciado_latex.append(\"a=\"+str(s[0])+\"km, b=\"+str(s[1])+\", y sen(C)=\"+str(s[2])+\", siendo C < 90º\")\n",
    "    h, ar =  [s[2]*s[1], s[0]*s[1]*s[2]/2]\n",
    "    enunciado.append([s[2]*s[1], s[0]*s[1]*s[2]/2])\n",
    "    solucion.append(latex(ar)+\"\")\n",
    "    display(md(\"\"+enunciado_latex[i]+\"$ \\\\to \"+str(solucion[i])+\"$\"))\n",
    "\n",
    "#enunciado_latex, enunciado, solucion\n",
    "df_ejercicios = df_ejercicios.append(añadir_ejercicios(enunciado_latex, enunciado, solucion, texto_ejercicio, curso, titulo , n_ejercicio, '1', '1', enun_tex=False), ignore_index=True)\n"
   ]
  },
  {
   "cell_type": "code",
   "execution_count": 12,
   "metadata": {},
   "outputs": [
    {
     "data": {
      "text/markdown": [
       "**Resuelve**"
      ],
      "text/plain": [
       "<IPython.core.display.Markdown object>"
      ]
     },
     "metadata": {},
     "output_type": "display_data"
    },
    {
     "data": {
      "text/markdown": [
       "Un barco se encuentra a una distancia de 3.5 km del espigón del puerto en el instante en que otro barco se\n",
       "encuentra a 3 km del primero. Si ambos son observados desde el espigón bajo un ángulo de 43º, ¿a qué\n",
       "distancia se encuentra el segundo barco del puerto?$ \\to b=\\left [ 0.742526244918245, \\quad 4.37694966641595\\right ]$"
      ],
      "text/plain": [
       "<IPython.core.display.Markdown object>"
      ]
     },
     "metadata": {},
     "output_type": "display_data"
    }
   ],
   "source": [
    "# Página 42 ejercicio 11\n",
    "\n",
    "# Ojo, ángulos obtusángulos\n",
    "\n",
    "texto_ejercicio = r\"\"\"Resuelve\"\"\" \n",
    "n_ejercicio = 'p042e11'\n",
    "\n",
    "display(md(\"**\"+texto_ejercicio+\"**\"))\n",
    "\n",
    "\n",
    "pre_enunciado_latex = [[3.5,3,43],\n",
    "]\n",
    "\n",
    "enunciado_latex, enunciado, solucion = [],[],[]\n",
    "\n",
    "\n",
    "for i, s in enumerate(pre_enunciado_latex) : \n",
    "    enunciado_latex.append(\"\"\"Un barco se encuentra a una distancia de {} km del espigón del puerto en el instante en que otro barco se\n",
    "encuentra a {} km del primero. Si ambos son observados desde el espigón bajo un ángulo de {}º, ¿a qué\n",
    "distancia se encuentra el segundo barco del puerto?\"\"\".format(s[0],s[1],s[2]))\n",
    "    b = solve(s[1]**2-s[0]**2-x**2+2*s[0]*x*cos(rad(s[2])))\n",
    "    enunciado.append(b)\n",
    "    solucion.append(\"b=\"+latex(b))\n",
    "    display(md(\"\"+enunciado_latex[i]+\"$ \\\\to \"+str(solucion[i])+\"$\"))\n",
    "\n",
    "#enunciado_latex, enunciado, solucion\n",
    "df_ejercicios = df_ejercicios.append(añadir_ejercicios(enunciado_latex, enunciado, solucion, texto_ejercicio, curso, titulo , n_ejercicio, '1', '1', enun_tex=False), ignore_index=True)\n"
   ]
  },
  {
   "cell_type": "code",
   "execution_count": 13,
   "metadata": {},
   "outputs": [
    {
     "data": {
      "text/markdown": [
       "**Resuelve**"
      ],
      "text/plain": [
       "<IPython.core.display.Markdown object>"
      ]
     },
     "metadata": {},
     "output_type": "display_data"
    },
    {
     "data": {
      "text/markdown": [
       "Las visuales a lo alto de una torre desde dos puntos A y B del plano horizontal,\n",
       "    separados 300m entre sí,\n",
       "forman con el segmento AB ángulos de 50º y 45º, respectivamente. Calcula la distancia desde lo alto de la\n",
       "torre a los dos puntos A y B.$ \\to A:212.9423442649438\\ B:230.69118253280297$"
      ],
      "text/plain": [
       "<IPython.core.display.Markdown object>"
      ]
     },
     "metadata": {},
     "output_type": "display_data"
    }
   ],
   "source": [
    "# Página 42 ejercicio 12\n",
    "\n",
    "# La torre queda en medio\n",
    "\n",
    "texto_ejercicio = r\"\"\"Resuelve\"\"\" \n",
    "n_ejercicio = 'p042e12'\n",
    "\n",
    "display(md(\"**\"+texto_ejercicio+\"**\"))\n",
    "\n",
    "\n",
    "pre_enunciado_latex = [[300,50,45],\n",
    "]\n",
    "\n",
    "enunciado_latex, enunciado, solucion = [],[],[]\n",
    "\n",
    "\n",
    "for i, s in enumerate(pre_enunciado_latex) : \n",
    "    enunciado_latex.append(\"\"\"Las visuales a lo alto de una torre desde dos puntos A y B del plano horizontal,\n",
    "    separados {}m entre sí,\n",
    "forman con el segmento AB ángulos de {}º y {}º, respectivamente. Calcula la distancia desde lo alto de la\n",
    "torre a los dos puntos A y B.\"\"\".format(s[0],s[1],s[2]))\n",
    "    a,  b = solve(s[0]/sin(rad(180 - s[1] - s[2]))-x/sin(rad(s[2]))), solve(s[0]/sin(rad(180 - s[1] - s[2]))-x/sin(rad(s[1])))\n",
    "    enunciado.append([a,b])\n",
    "    solucion.append(\"A:\"+latex(float(a[0]))+ \"\\\\ B:\"+latex(float(b[0])))\n",
    "    display(md(\"\"+enunciado_latex[i]+\"$ \\\\to \"+str(solucion[i])+\"$\"))\n",
    "\n",
    "#enunciado_latex, enunciado, solucion\n",
    "df_ejercicios = df_ejercicios.append(añadir_ejercicios(enunciado_latex, enunciado, solucion, texto_ejercicio, curso, titulo , n_ejercicio, '1', '1', enun_tex=False), ignore_index=True)\n"
   ]
  },
  {
   "cell_type": "code",
   "execution_count": 14,
   "metadata": {},
   "outputs": [
    {
     "data": {
      "text/markdown": [
       "**Resuelve**"
      ],
      "text/plain": [
       "<IPython.core.display.Markdown object>"
      ]
     },
     "metadata": {},
     "output_type": "display_data"
    },
    {
     "data": {
      "text/markdown": [
       "Las visuales a lo alto de una torre desde dos puntos A y B del plano horizontal,\n",
       "    separados 300m entre sí,\n",
       "forman con el segmento AB ángulos de 50º y 45º, respectivamente. Calcula la distancia desde lo alto de la\n",
       "torre a los dos puntos A y B.$ \\to A:\\left [ \\frac{300 \\sin{\\left (\\frac{5 \\pi}{18} \\right )}}{\\sin{\\left (\\frac{\\pi}{36} \\right )}}\\right ]\\ B:2433.9421324209197$"
      ],
      "text/plain": [
       "<IPython.core.display.Markdown object>"
      ]
     },
     "metadata": {},
     "output_type": "display_data"
    }
   ],
   "source": [
    "# Página 42 ejercicio 12\n",
    "\n",
    "# Ojo, ángulos obtusángulos\n",
    "\n",
    "texto_ejercicio = r\"\"\"Resuelve\"\"\" \n",
    "n_ejercicio = 'p042e12'\n",
    "\n",
    "display(md(\"**\"+texto_ejercicio+\"**\"))\n",
    "\n",
    "\n",
    "pre_enunciado_latex = [[300,50,45],\n",
    "]\n",
    "\n",
    "enunciado_latex, enunciado, solucion = [],[],[]\n",
    "\n",
    "\n",
    "for i, s in enumerate(pre_enunciado_latex) : \n",
    "    enunciado_latex.append(\"\"\"Las visuales a lo alto de una torre desde dos puntos A y B del plano horizontal,\n",
    "    separados {}m entre sí,\n",
    "forman con el segmento AB ángulos de {}º y {}º, respectivamente. Calcula la distancia desde lo alto de la\n",
    "torre a los dos puntos A y B.\"\"\".format(s[0],s[1],s[2]))\n",
    "    a,  b = solve(x/sin(rad(180 - s[1]))-300/sin(rad(s[1]-s[2]))),solve(x/sin(rad(s[2]))-300/sin(rad(s[1]-s[2])))\n",
    "    enunciado.append([a,b])\n",
    "    solucion.append(\"A:\"+latex((a))+ \"\\\\ B:\"+latex(float(b[0])))\n",
    "    display(md(\"\"+enunciado_latex[i]+\"$ \\\\to \"+str(solucion[i])+\"$\"))\n",
    "\n",
    "#enunciado_latex, enunciado, solucion\n",
    "df_ejercicios = df_ejercicios.append(añadir_ejercicios(enunciado_latex, enunciado, solucion, texto_ejercicio, curso, titulo , n_ejercicio, '1', '1', enun_tex=False), ignore_index=True)\n"
   ]
  },
  {
   "cell_type": "code",
   "execution_count": 15,
   "metadata": {},
   "outputs": [
    {
     "data": {
      "text/markdown": [
       "**Expresa en radianes los siguientes ángulos, dados en grados:**"
      ],
      "text/plain": [
       "<IPython.core.display.Markdown object>"
      ]
     },
     "metadata": {},
     "output_type": "display_data"
    },
    {
     "data": {
      "text/markdown": [
       "$45º \\to \\frac{\\pi}{4}$"
      ],
      "text/plain": [
       "<IPython.core.display.Markdown object>"
      ]
     },
     "metadata": {},
     "output_type": "display_data"
    },
    {
     "data": {
      "text/markdown": [
       "$75º \\to \\frac{5 \\pi}{12}$"
      ],
      "text/plain": [
       "<IPython.core.display.Markdown object>"
      ]
     },
     "metadata": {},
     "output_type": "display_data"
    },
    {
     "data": {
      "text/markdown": [
       "$105º \\to \\frac{7 \\pi}{12}$"
      ],
      "text/plain": [
       "<IPython.core.display.Markdown object>"
      ]
     },
     "metadata": {},
     "output_type": "display_data"
    },
    {
     "data": {
      "text/markdown": [
       "$230º \\to \\frac{23 \\pi}{18}$"
      ],
      "text/plain": [
       "<IPython.core.display.Markdown object>"
      ]
     },
     "metadata": {},
     "output_type": "display_data"
    }
   ],
   "source": [
    "# Página 39 ejercicio 1\n",
    "\n",
    "texto_ejercicio = r\"\"\"Expresa en radianes los siguientes ángulos, dados en grados:\"\"\"\n",
    "\n",
    "n_ejercicio = 'p039e01'\n",
    "\n",
    "display(md(\"**\"+texto_ejercicio+\"**\"))\n",
    "\n",
    "\n",
    "pre_enunciado_latex = [45, 75, 105, 230]\n",
    "\n",
    "enunciado_latex,enunciado, solucion = [],[],[]\n",
    "\n",
    "\n",
    "for i, s in enumerate(pre_enunciado_latex) : \n",
    "    enunciado_latex.append(str(s)+\"º\")\n",
    "    enunciado.append(s)\n",
    "    solucion.append(latex(rad(s)))\n",
    "    display(md(\"$\"+enunciado_latex[i]+\" \\\\to \"+solucion[i]+\"$\"))\n",
    "\n",
    "df_ejercicios = df_ejercicios.append(añadir_ejercicios(enunciado_latex, enunciado, solucion, texto_ejercicio, curso, titulo , n_ejercicio, '1', '3', enun_tex=False), ignore_index=True)\n"
   ]
  },
  {
   "cell_type": "code",
   "execution_count": 16,
   "metadata": {},
   "outputs": [
    {
     "data": {
      "text/markdown": [
       "**Expresa en grados los siguientes ángulos dados en radianes:**"
      ],
      "text/plain": [
       "<IPython.core.display.Markdown object>"
      ]
     },
     "metadata": {},
     "output_type": "display_data"
    },
    {
     "data": {
      "text/markdown": [
       "$\\frac{{3\\pi }}{4} \\to 135$"
      ],
      "text/plain": [
       "<IPython.core.display.Markdown object>"
      ]
     },
     "metadata": {},
     "output_type": "display_data"
    },
    {
     "data": {
      "text/markdown": [
       "$\\frac{{{5}\\pi }}{{3}} \\to 300$"
      ],
      "text/plain": [
       "<IPython.core.display.Markdown object>"
      ]
     },
     "metadata": {},
     "output_type": "display_data"
    },
    {
     "data": {
      "text/markdown": [
       "$\\frac{{{{3}}\\pi }}{{{2}}} \\to 270$"
      ],
      "text/plain": [
       "<IPython.core.display.Markdown object>"
      ]
     },
     "metadata": {},
     "output_type": "display_data"
    },
    {
     "data": {
      "text/markdown": [
       "$\\frac{{{{9}}\\pi }}{{{2}}} \\to 810$"
      ],
      "text/plain": [
       "<IPython.core.display.Markdown object>"
      ]
     },
     "metadata": {},
     "output_type": "display_data"
    },
    {
     "data": {
      "text/markdown": [
       "$\\frac{{{{4}}\\pi }}{{{3}}} \\to 240$"
      ],
      "text/plain": [
       "<IPython.core.display.Markdown object>"
      ]
     },
     "metadata": {},
     "output_type": "display_data"
    }
   ],
   "source": [
    "# Página 39 ejercicio 2\n",
    "\n",
    "texto_ejercicio = r\"\"\"Expresa en grados los siguientes ángulos dados en radianes:\"\"\"\n",
    "\n",
    "n_ejercicio = 'p039e02'\n",
    "\n",
    "display(md(\"**\"+texto_ejercicio+\"**\"))\n",
    "\n",
    "\n",
    "enunciado_latex = [r'\\frac{{3\\pi }}{4}',r'\\frac{{{5}\\pi }}{{3}}',\n",
    "                  r'\\frac{{{{3}}\\pi }}{{{2}}}',\n",
    "                  r'\\frac{{{{9}}\\pi }}{{{2}}}',\n",
    "                  r'\\frac{{{{4}}\\pi }}{{{3}}}']\n",
    "\n",
    "enunciado, solucion = [],[]\n",
    "\n",
    "\n",
    "for i, s in enumerate(enunciado_latex) : \n",
    "    enunciado.append(parse_latex(s))\n",
    "    solucion.append(latex(deg(eval(str(parse_latex(s))))))\n",
    "    display(md(\"$\"+enunciado_latex[i]+\" \\\\to \"+solucion[i]+\"$\"))\n",
    "\n",
    "df_ejercicios = df_ejercicios.append(añadir_ejercicios(enunciado_latex, enunciado, solucion, texto_ejercicio, curso, titulo , n_ejercicio, '1', '3', enun_tex=True), ignore_index=True)\n"
   ]
  },
  {
   "cell_type": "code",
   "execution_count": 17,
   "metadata": {
    "scrolled": true
   },
   "outputs": [
    {
     "data": {
      "text/markdown": [
       "**Demostrar si son verdaderas o falsas las siguientes ecuaciones:**"
      ],
      "text/plain": [
       "<IPython.core.display.Markdown object>"
      ]
     },
     "metadata": {},
     "output_type": "display_data"
    },
    {
     "data": {
      "text/markdown": [
       "$\\sec^2\\alpha+\\csc^2\\alpha={\\sec^2\\alpha}\\cdot{\\csc^2\\alpha} \\to \\left [ \\frac{8}{- \\cos{\\left (4 \\alpha \\right )} + 1}, \\quad \\frac{8}{- \\cos{\\left (4 \\alpha \\right )} + 1}\\right ] \\to \\mathrm{True}$"
      ],
      "text/plain": [
       "<IPython.core.display.Markdown object>"
      ]
     },
     "metadata": {},
     "output_type": "display_data"
    },
    {
     "data": {
      "text/markdown": [
       "$\\frac{\\tan\\alpha+\\tan\\beta}{\\cot\\alpha+\\cot\\beta}={\\tan\\alpha} \\cdot {\\tan\\beta} \\to \\left [ \\tan{\\left (\\alpha \\right )} \\tan{\\left (\\beta \\right )}, \\quad \\tan{\\left (\\alpha \\right )} \\tan{\\left (\\beta \\right )}\\right ] \\to \\mathrm{True}$"
      ],
      "text/plain": [
       "<IPython.core.display.Markdown object>"
      ]
     },
     "metadata": {},
     "output_type": "display_data"
    },
    {
     "data": {
      "text/markdown": [
       "$\\frac{{\\sin\\alpha}\\cdot{\\cos\\alpha}}{{\\cos^2\\alpha}-{\\sin^2\\alpha}}=\\frac{\\tan\\alpha}{1-{\\tan^2\\alpha}} \\to \\left [ \\frac{\\tan{\\left (2 \\alpha \\right )}}{2}, \\quad \\frac{\\tan{\\left (2 \\alpha \\right )}}{2}\\right ] \\to \\mathrm{True}$"
      ],
      "text/plain": [
       "<IPython.core.display.Markdown object>"
      ]
     },
     "metadata": {},
     "output_type": "display_data"
    },
    {
     "data": {
      "text/markdown": [
       "$\\cot\\alpha-\\frac{{\\cot^2\\alpha}-1}{\\cot\\alpha}=\\tan\\alpha \\to \\left [ \\tan{\\left (\\alpha \\right )}, \\quad \\tan{\\left (\\alpha \\right )}\\right ] \\to \\mathrm{True}$"
      ],
      "text/plain": [
       "<IPython.core.display.Markdown object>"
      ]
     },
     "metadata": {},
     "output_type": "display_data"
    },
    {
     "data": {
      "text/markdown": [
       "$\\frac{\\sin\\alpha+ \\cot \\alpha}{\\tan\\alpha+ \\csc \\alpha}=\\cos\\alpha \\to \\left [ \\cos{\\left (\\alpha \\right )}, \\quad \\cos{\\left (\\alpha \\right )}\\right ] \\to \\mathrm{True}$"
      ],
      "text/plain": [
       "<IPython.core.display.Markdown object>"
      ]
     },
     "metadata": {},
     "output_type": "display_data"
    },
    {
     "data": {
      "text/markdown": [
       "$\\cot^2\\alpha-\\cos^2\\alpha={\\cot^2\\alpha}\\cdot{\\cos^2\\alpha} \\to \\left [ - \\cos^{2}{\\left (\\alpha \\right )} + \\cot^{2}{\\left (\\alpha \\right )}, \\quad \\cos^{2}{\\left (\\alpha \\right )} \\cot^{2}{\\left (\\alpha \\right )}\\right ] \\to \\mathrm{True}$"
      ],
      "text/plain": [
       "<IPython.core.display.Markdown object>"
      ]
     },
     "metadata": {},
     "output_type": "display_data"
    },
    {
     "data": {
      "text/markdown": [
       "$\\sin\\alpha\\cos\\alpha\\tan\\alpha\\cot\\alpha\\sec\\alpha\\csc\\alpha=1 \\to \\left [ 1, \\quad 1\\right ] \\to \\mathrm{True}$"
      ],
      "text/plain": [
       "<IPython.core.display.Markdown object>"
      ]
     },
     "metadata": {},
     "output_type": "display_data"
    },
    {
     "data": {
      "text/markdown": [
       "$\\frac{1+\\tan\\alpha}{1-\\tan\\alpha}=\\frac{\\cos\\alpha+\\sin\\alpha}{\\cos\\alpha-\\sin\\alpha} \\to \\left [ \\frac{\\tan{\\left (\\alpha \\right )} + 1}{- \\tan{\\left (\\alpha \\right )} + 1}, \\quad \\tan{\\left (\\alpha + \\frac{\\pi}{4} \\right )}\\right ] \\to \\mathrm{True}$"
      ],
      "text/plain": [
       "<IPython.core.display.Markdown object>"
      ]
     },
     "metadata": {},
     "output_type": "display_data"
    },
    {
     "data": {
      "text/markdown": [
       "$\\frac{1+\\tan^2\\alpha}{\\cot\\alpha}=\\frac{\\tan\\alpha}{\\cos^2\\alpha} \\to \\left [ \\frac{\\tan{\\left (\\alpha \\right )}}{\\cos^{2}{\\left (\\alpha \\right )}}, \\quad \\frac{\\tan{\\left (\\alpha \\right )}}{\\cos^{2}{\\left (\\alpha \\right )}}\\right ] \\to \\mathrm{True}$"
      ],
      "text/plain": [
       "<IPython.core.display.Markdown object>"
      ]
     },
     "metadata": {},
     "output_type": "display_data"
    }
   ],
   "source": [
    "# Página 39 ejercicio 5 y 6\n",
    "\n",
    "texto_ejercicio = r\"\"\"Demostrar si son verdaderas o falsas las siguientes ecuaciones:\"\"\"\n",
    "\n",
    "n_ejercicio = 'p039e05y6'\n",
    "\n",
    "display(md(\"**\"+texto_ejercicio+\"**\"))\n",
    "\n",
    "\n",
    "enunciado_latex = [r'\\sec^2\\alpha+\\csc^2\\alpha={\\sec^2\\alpha}\\cdot{\\csc^2\\alpha}',\n",
    "    r'\\frac{\\tan\\alpha+\\tan\\beta}{\\cot\\alpha+\\cot\\beta}={\\tan\\alpha} \\cdot {\\tan\\beta}',\n",
    "    r'\\frac{{\\sin\\alpha}\\cdot{\\cos\\alpha}}{{\\cos^2\\alpha}-{\\sin^2\\alpha}}=\\frac{\\tan\\alpha}{1-{\\tan^2\\alpha}}',\n",
    "    r'\\cot\\alpha-\\frac{{\\cot^2\\alpha}-1}{\\cot\\alpha}=\\tan\\alpha',\n",
    "    r'\\frac{\\sin\\alpha+ \\cot \\alpha}{\\tan\\alpha+ \\csc \\alpha}=\\cos\\alpha',\n",
    "    r'\\cot^2\\alpha-\\cos^2\\alpha={\\cot^2\\alpha}\\cdot{\\cos^2\\alpha}',\n",
    "    r'\\sin\\alpha\\cos\\alpha\\tan\\alpha\\cot\\alpha\\sec\\alpha\\csc\\alpha=1',\n",
    "    r'\\frac{1+\\tan\\alpha}{1-\\tan\\alpha}=\\frac{\\cos\\alpha+\\sin\\alpha}{\\cos\\alpha-\\sin\\alpha}',\n",
    "    r'\\frac{1+\\tan^2\\alpha}{\\cot\\alpha}=\\frac{\\tan\\alpha}{\\cos^2\\alpha}'\n",
    "    \n",
    "                  ]\n",
    "\n",
    "enunciado, solucion = [],[]\n",
    "\n",
    "\n",
    "for i, s in enumerate(enunciado_latex) : \n",
    "    enunciado.append(parse_latex(s))\n",
    "    exp = []\n",
    "    exp.append(trigsimp(enunciado[i].args[0]))\n",
    "    exp.append(trigsimp(enunciado[i].args[1]))\n",
    "    solucion.append(latex(exp)+ r' \\to ' +latex(not(bool(trigsimp(enunciado[i].args[0]-enunciado[i].args[1])))))\n",
    "    display(md(\"$\"+enunciado_latex[i]+\" \\\\to \"+solucion[i]+\"$\"))\n",
    "\n",
    "df_ejercicios = df_ejercicios.append(añadir_ejercicios(enunciado_latex, enunciado, solucion, texto_ejercicio, curso, titulo , n_ejercicio, '1', '1', enun_tex=True), ignore_index=True)\n"
   ]
  },
  {
   "cell_type": "code",
   "execution_count": 18,
   "metadata": {
    "scrolled": true
   },
   "outputs": [
    {
     "data": {
      "text/markdown": [
       "**Simplificar las siguientes expresiones:**"
      ],
      "text/plain": [
       "<IPython.core.display.Markdown object>"
      ]
     },
     "metadata": {},
     "output_type": "display_data"
    },
    {
     "data": {
      "text/markdown": [
       "${\\sin\\alpha}\\cdot{\\frac{1}{\\tan\\alpha}} \\to \\cos{\\left (\\alpha \\right )}$"
      ],
      "text/plain": [
       "<IPython.core.display.Markdown object>"
      ]
     },
     "metadata": {},
     "output_type": "display_data"
    },
    {
     "data": {
      "text/markdown": [
       "$\\sin^3\\alpha+{\\sin\\alpha}\\cdot{\\cos^2\\alpha} \\to \\sin{\\left (\\alpha \\right )}$"
      ],
      "text/plain": [
       "<IPython.core.display.Markdown object>"
      ]
     },
     "metadata": {},
     "output_type": "display_data"
    },
    {
     "data": {
      "text/markdown": [
       "$\\sqrt{(1-\\sin\\alpha)\\cdot(1+\\sin\\alpha)} \\to \\sqrt{\\cos^{2}{\\left (\\alpha \\right )}}$"
      ],
      "text/plain": [
       "<IPython.core.display.Markdown object>"
      ]
     },
     "metadata": {},
     "output_type": "display_data"
    },
    {
     "data": {
      "text/markdown": [
       "$\\sin^4\\alpha-\\cos^4\\alpha \\to - \\cos{\\left (2 \\alpha \\right )}$"
      ],
      "text/plain": [
       "<IPython.core.display.Markdown object>"
      ]
     },
     "metadata": {},
     "output_type": "display_data"
    },
    {
     "data": {
      "text/markdown": [
       "$\\cos^3\\alpha+{\\cos^2\\alpha}\\cdot{\\sin\\alpha}+{\\cos\\alpha}\\cdot{\\sin^2\\alpha}+{\\sin^3\\alpha} \\to \\sqrt{2} \\sin{\\left (\\alpha + \\frac{\\pi}{4} \\right )}$"
      ],
      "text/plain": [
       "<IPython.core.display.Markdown object>"
      ]
     },
     "metadata": {},
     "output_type": "display_data"
    },
    {
     "data": {
      "text/markdown": [
       "${\\sin\\alpha}\\cdot{\\cos\\alpha}\\cdot(\\tan\\alpha+\\frac{1}{\\tan\\alpha}) \\to 1$"
      ],
      "text/plain": [
       "<IPython.core.display.Markdown object>"
      ]
     },
     "metadata": {},
     "output_type": "display_data"
    },
    {
     "data": {
      "text/markdown": [
       "$\\frac{\\cos^2\\alpha-\\sin^2\\alpha}{\\cos^4\\alpha-\\sin^4\\alpha} \\to 1$"
      ],
      "text/plain": [
       "<IPython.core.display.Markdown object>"
      ]
     },
     "metadata": {},
     "output_type": "display_data"
    },
    {
     "data": {
      "text/markdown": [
       "$\\frac{\\sec^2\\alpha+\\cos^2\\alpha}{\\sec^2\\alpha-\\cos^2\\alpha} \\to \\frac{\\left(- \\cos^{2}{\\left (\\alpha \\right )} + 1\\right)^{2} + 2 \\cos^{2}{\\left (\\alpha \\right )}}{- \\cos^{4}{\\left (\\alpha \\right )} + 1}$"
      ],
      "text/plain": [
       "<IPython.core.display.Markdown object>"
      ]
     },
     "metadata": {},
     "output_type": "display_data"
    },
    {
     "data": {
      "text/markdown": [
       "$\\frac{\\cos^2\\alpha}{1-\\sin\\alpha} \\to \\sin{\\left (\\alpha \\right )} + 1$"
      ],
      "text/plain": [
       "<IPython.core.display.Markdown object>"
      ]
     },
     "metadata": {},
     "output_type": "display_data"
    },
    {
     "data": {
      "text/markdown": [
       "$\\frac{\\csc\\alpha}{1+\\cot^2\\alpha} \\to \\sin{\\left (\\alpha \\right )}$"
      ],
      "text/plain": [
       "<IPython.core.display.Markdown object>"
      ]
     },
     "metadata": {},
     "output_type": "display_data"
    }
   ],
   "source": [
    "# Página 39 ejercicio 7\n",
    "\n",
    "texto_ejercicio = r\"\"\"Simplificar las siguientes expresiones:\"\"\"\n",
    "\n",
    "n_ejercicio = 'p039e07'\n",
    "\n",
    "display(md(\"**\"+texto_ejercicio+\"**\"))\n",
    "\n",
    "\n",
    "enunciado_latex = [r'{\\sin\\alpha}\\cdot{\\frac{1}{\\tan\\alpha}}',\n",
    "                   r'\\sin^3\\alpha+{\\sin\\alpha}\\cdot{\\cos^2\\alpha}',\n",
    "                   r'\\sqrt{(1-\\sin\\alpha)\\cdot(1+\\sin\\alpha)}',\n",
    "                   r'\\sin^4\\alpha-\\cos^4\\alpha',\n",
    "        r'\\cos^3\\alpha+{\\cos^2\\alpha}\\cdot{\\sin\\alpha}+{\\cos\\alpha}\\cdot{\\sin^2\\alpha}+{\\sin^3\\alpha}',\n",
    "        r'{\\sin\\alpha}\\cdot{\\cos\\alpha}\\cdot(\\tan\\alpha+\\frac{1}{\\tan\\alpha})',\n",
    "        r'\\frac{\\cos^2\\alpha-\\sin^2\\alpha}{\\cos^4\\alpha-\\sin^4\\alpha}',\n",
    "        r'\\frac{\\sec^2\\alpha+\\cos^2\\alpha}{\\sec^2\\alpha-\\cos^2\\alpha}',\n",
    "        r'\\frac{\\cos^2\\alpha}{1-\\sin\\alpha}',\n",
    "        r'\\frac{\\csc\\alpha}{1+\\cot^2\\alpha}'\n",
    "                   \n",
    "                   \n",
    "    \n",
    "                  ]\n",
    "\n",
    "enunciado, solucion = [],[]\n",
    "\n",
    "\n",
    "for i, s in enumerate(enunciado_latex) : \n",
    "    enunciado.append(parse_latex(s))\n",
    "    solucion.append(latex(radsimp(trigsimp(eval(str(enunciado[i]))))))\n",
    "    display(md(\"$\"+enunciado_latex[i]+\" \\\\to \"+solucion[i]+\"$\"))\n",
    "\n",
    "df_ejercicios = df_ejercicios.append(añadir_ejercicios(enunciado_latex, enunciado, solucion, texto_ejercicio, curso, titulo , n_ejercicio, '1', '1', enun_tex=True), ignore_index=True)\n"
   ]
  },
  {
   "cell_type": "code",
   "execution_count": 19,
   "metadata": {
    "scrolled": true
   },
   "outputs": [
    {
     "data": {
      "text/markdown": [
       "**Calcular las restantes razones trigonométricas de $\\alpha$, conocida:**"
      ],
      "text/plain": [
       "<IPython.core.display.Markdown object>"
      ]
     },
     "metadata": {},
     "output_type": "display_data"
    },
    {
     "data": {
      "text/markdown": [
       "$\\cos\\alpha=\\frac{4}{5} \\land \\alpha \\in I \\to \\left [ 36.86989764584401, \\quad \\frac{3}{5}, \\quad \\frac{4}{5}, \\quad \\frac{3}{4}\\right ]$"
      ],
      "text/plain": [
       "<IPython.core.display.Markdown object>"
      ]
     },
     "metadata": {},
     "output_type": "display_data"
    },
    {
     "data": {
      "text/markdown": [
       "$\\sin\\alpha=\\frac{3}{5} \\land \\alpha \\in II \\to \\left [ 36.86989764584402, \\quad \\frac{3}{5}, \\quad - \\frac{4}{5}, \\quad - \\frac{3}{4}\\right ]$"
      ],
      "text/plain": [
       "<IPython.core.display.Markdown object>"
      ]
     },
     "metadata": {},
     "output_type": "display_data"
    },
    {
     "data": {
      "text/markdown": [
       "$\\tan\\alpha=-\\frac{3}{4} \\land \\alpha \\in II \\to \\left [ 36.86989764584402, \\quad \\frac{3}{5}, \\quad - \\frac{4}{5}, \\quad - \\frac{3}{4}\\right ]$"
      ],
      "text/plain": [
       "<IPython.core.display.Markdown object>"
      ]
     },
     "metadata": {},
     "output_type": "display_data"
    },
    {
     "data": {
      "text/markdown": [
       "$\\sec\\alpha=2 \\land \\alpha \\in IV \\to \\left [ 60.0, \\quad - \\frac{\\sqrt{3}}{2}, \\quad \\frac{1}{2}, \\quad - \\sqrt{3}\\right ]$"
      ],
      "text/plain": [
       "<IPython.core.display.Markdown object>"
      ]
     },
     "metadata": {},
     "output_type": "display_data"
    },
    {
     "data": {
      "text/markdown": [
       "$\\csc\\alpha=-2 \\land \\alpha \\in III \\to \\left [ 30.0, \\quad - \\frac{1}{2}, \\quad - \\frac{\\sqrt{3}}{2}, \\quad \\frac{\\sqrt{3}}{3}\\right ]$"
      ],
      "text/plain": [
       "<IPython.core.display.Markdown object>"
      ]
     },
     "metadata": {},
     "output_type": "display_data"
    },
    {
     "data": {
      "text/markdown": [
       "$\\cot\\alpha=-2 \\land \\alpha \\in IV \\to \\left [ 26.56505117707799, \\quad - \\frac{\\sqrt{5}}{5}, \\quad \\frac{2 \\sqrt{5}}{5}, \\quad - \\frac{1}{2}\\right ]$"
      ],
      "text/plain": [
       "<IPython.core.display.Markdown object>"
      ]
     },
     "metadata": {},
     "output_type": "display_data"
    }
   ],
   "source": [
    "# Página 39 ejercicio 8\n",
    "\n",
    "texto_ejercicio = r\"\"\"Calcular las restantes razones trigonométricas de $\\alpha$, conocida:\"\"\"\n",
    "\n",
    "n_ejercicio = 'p039e08'\n",
    "\n",
    "display(md(\"**\"+texto_ejercicio+\"**\"))\n",
    "\n",
    "\n",
    "pre_enunciado_latex = [\n",
    "    [r'\\cos\\alpha=\\frac{4}{5} \\land \\alpha \\in I', [float(deg(acos(4/5))), sin(acos((nsimplify(frac(4/5))))), cos(acos((nsimplify(frac(4/5))))), tan(acos((nsimplify(frac(4/5)))))]],             \n",
    "    [r'\\sin\\alpha=\\frac{3}{5} \\land \\alpha \\in II', [float(deg(asin(3/5))), sin(asin((nsimplify(frac(3/5))))), -cos(asin((nsimplify(frac(3/5))))), -tan(asin((nsimplify(frac(3/5)))))]],             \n",
    "    [r'\\tan\\alpha=-\\frac{3}{4} \\land \\alpha \\in II', [float(deg(atan(3/4))), sin(atan((nsimplify(frac(3/4))))), -cos(atan((nsimplify(frac(3/4))))), -tan(atan((nsimplify(frac(3/4)))))]],             \n",
    "    [r'\\sec\\alpha=2 \\land \\alpha \\in IV', [float(deg(asec(2))), -sin(asec((nsimplify(2)))), cos(asec((nsimplify(2)))), -tan(asec((nsimplify(2))))]],             \n",
    "    [r'\\csc\\alpha=-2 \\land \\alpha \\in III', [float(deg(acsc(2))), -sin(acsc((nsimplify(2)))), -cos(acsc((nsimplify(2)))), tan(acsc((nsimplify(2))))]],             \n",
    "    [r'\\cot\\alpha=-2 \\land \\alpha \\in IV', [float(deg(acot(2))), -sin(acot((nsimplify(2)))), cos(acot((nsimplify(2)))), -tan(acot((nsimplify(2))))]],             \n",
    "           \n",
    "    \n",
    "                  ]\n",
    "\n",
    "enunciado_latex, enunciado, solucion = [],[],[]\n",
    "\n",
    "\n",
    "for i, s in enumerate(pre_enunciado_latex) : \n",
    "    enunciado_latex.append(s[0])\n",
    "    enunciado.append([str(t) for t in s[1]])\n",
    "    solucion.append(latex([t for t in s[1]]))\n",
    "    display(md(\"$\"+enunciado_latex[i]+\" \\\\to \"+str(solucion[i])+\"$\"))\n",
    "\n",
    "df_ejercicios = df_ejercicios.append(añadir_ejercicios(enunciado_latex, enunciado, solucion, texto_ejercicio, curso, titulo , n_ejercicio, '1', '1', enun_tex=True), ignore_index=True)\n"
   ]
  },
  {
   "cell_type": "code",
   "execution_count": 20,
   "metadata": {
    "scrolled": true
   },
   "outputs": [
    {
     "data": {
      "text/markdown": [
       "**Expresa las siguientes razones trigonométricas en función de ángulos del primer cuadrante:**"
      ],
      "text/plain": [
       "<IPython.core.display.Markdown object>"
      ]
     },
     "metadata": {},
     "output_type": "display_data"
    },
    {
     "data": {
      "text/markdown": [
       "$\\sin(-120) \\to \\left [ 60, \\quad - \\frac{\\sqrt{3}}{2}\\right ]$"
      ],
      "text/plain": [
       "<IPython.core.display.Markdown object>"
      ]
     },
     "metadata": {},
     "output_type": "display_data"
    },
    {
     "data": {
      "text/markdown": [
       "$\\sin(2700) \\to \\left [ 0, \\quad 0\\right ]$"
      ],
      "text/plain": [
       "<IPython.core.display.Markdown object>"
      ]
     },
     "metadata": {},
     "output_type": "display_data"
    },
    {
     "data": {
      "text/markdown": [
       "$\\cos(-30) \\to \\left [ 30, \\quad \\frac{\\sqrt{3}}{2}\\right ]$"
      ],
      "text/plain": [
       "<IPython.core.display.Markdown object>"
      ]
     },
     "metadata": {},
     "output_type": "display_data"
    },
    {
     "data": {
      "text/markdown": [
       "$\\cos(3000) \\to \\left [ 60, \\quad - \\frac{1}{2}\\right ]$"
      ],
      "text/plain": [
       "<IPython.core.display.Markdown object>"
      ]
     },
     "metadata": {},
     "output_type": "display_data"
    },
    {
     "data": {
      "text/markdown": [
       "$\\tan(-275) \\to \\left [ \\frac{180 \\operatorname{atan}{\\left (\\frac{\\cos{\\left (\\frac{\\pi}{18} \\right )} + 1}{\\cos{\\left (\\frac{4 \\pi}{9} \\right )}} \\right )}}{\\pi}, \\quad \\frac{\\cos{\\left (\\frac{\\pi}{18} \\right )} + 1}{\\cos{\\left (\\frac{4 \\pi}{9} \\right )}}\\right ]$"
      ],
      "text/plain": [
       "<IPython.core.display.Markdown object>"
      ]
     },
     "metadata": {},
     "output_type": "display_data"
    },
    {
     "data": {
      "text/markdown": [
       "$\\tan(10330) \\to \\left [ 70, \\quad \\tan{\\left (\\frac{7 \\pi}{18} \\right )}\\right ]$"
      ],
      "text/plain": [
       "<IPython.core.display.Markdown object>"
      ]
     },
     "metadata": {},
     "output_type": "display_data"
    },
    {
     "data": {
      "text/markdown": [
       "$\\cot(-150) \\to \\left [ 30, \\quad \\sqrt{3}\\right ]$"
      ],
      "text/plain": [
       "<IPython.core.display.Markdown object>"
      ]
     },
     "metadata": {},
     "output_type": "display_data"
    },
    {
     "data": {
      "text/markdown": [
       "$\\cot(4500) \\to \\left [ 0, \\quad \\tilde{\\infty}\\right ]$"
      ],
      "text/plain": [
       "<IPython.core.display.Markdown object>"
      ]
     },
     "metadata": {},
     "output_type": "display_data"
    },
    {
     "data": {
      "text/markdown": [
       "$\\sec(-25) \\to \\left [ 25, \\quad \\sec{\\left (\\frac{5 \\pi}{36} \\right )}\\right ]$"
      ],
      "text/plain": [
       "<IPython.core.display.Markdown object>"
      ]
     },
     "metadata": {},
     "output_type": "display_data"
    },
    {
     "data": {
      "text/markdown": [
       "$\\sec(745) \\to \\left [ 25, \\quad \\sec{\\left (\\frac{149 \\pi}{36} \\right )}\\right ]$"
      ],
      "text/plain": [
       "<IPython.core.display.Markdown object>"
      ]
     },
     "metadata": {},
     "output_type": "display_data"
    },
    {
     "data": {
      "text/markdown": [
       "$\\csc(-155) \\to \\left [ 25, \\quad - \\csc{\\left (\\frac{5 \\pi}{36} \\right )}\\right ]$"
      ],
      "text/plain": [
       "<IPython.core.display.Markdown object>"
      ]
     },
     "metadata": {},
     "output_type": "display_data"
    },
    {
     "data": {
      "text/markdown": [
       "$\\csc(4420) \\to \\left [ 80, \\quad \\csc{\\left (\\frac{4 \\pi}{9} \\right )}\\right ]$"
      ],
      "text/plain": [
       "<IPython.core.display.Markdown object>"
      ]
     },
     "metadata": {},
     "output_type": "display_data"
    }
   ],
   "source": [
    "# Página 39 ejercicio 9\n",
    "\n",
    "texto_ejercicio = r\"\"\"Expresa las siguientes razones trigonométricas en función de ángulos del primer cuadrante:\"\"\"\n",
    "\n",
    "n_ejercicio = 'p039e09'\n",
    "\n",
    "display(md(\"**\"+texto_ejercicio+\"**\"))\n",
    "\n",
    "\n",
    "enunciado_latex = [r'\\sin(-120)',r'\\sin(2700)',r'\\cos(-30)', r'\\cos(3000)',\n",
    "                   r'\\tan(-275)',r'\\tan(10330)',r'\\cot(-150)', r'\\cot(4500)',\n",
    "                   r'\\sec(-25)',r'\\sec(745)',r'\\csc(-155)', r'\\csc(4420)'\n",
    "    \n",
    "                  ]\n",
    "\n",
    "enunciado, solucion = [],[]\n",
    "\n",
    "\n",
    "for i, s in enumerate(enunciado_latex) : \n",
    "    enunciado.append(str(parse_latex(s)).replace('(','(rad(').replace(')','))'))\n",
    "    #solucion.append(latex(eval(str(parse_latex(s)).replace('(','(rad(').replace(')','))'))))\n",
    "    #solucion.append(latex(eval((\"a\"+str(parse_latex(s))[:str(parse_latex(s)).find('(')]+\"(\"+str(parse_latex(s)).replace('(','(rad(').replace(')','))')+\")\"))))\n",
    "    solucion.append(latex([deg(eval((\"a\"+str(parse_latex(s))[:str(parse_latex(s)).find('(')]+\"(abs(\"+str(parse_latex(s)).replace('(','(rad(').replace(')','))')+\"))\"))),eval(str(parse_latex(s)).replace('(','(rad(').replace(')','))'))]))\n",
    "    display(md(\"$\"+enunciado_latex[i]+\" \\\\to \"+solucion[i]+\"$\"))\n",
    "\n",
    "df_ejercicios = df_ejercicios.append(añadir_ejercicios(enunciado_latex, enunciado, solucion, texto_ejercicio, curso, titulo , n_ejercicio, '1', '2', enun_tex=True), ignore_index=True)\n"
   ]
  },
  {
   "cell_type": "code",
   "execution_count": 21,
   "metadata": {
    "scrolled": true
   },
   "outputs": [
    {
     "data": {
      "text/markdown": [
       "**Si sen 37º = 0,6. Calcula, sin usar la calculadora, las razones trigonométricas de los siguientes ángulos dados en grados:**"
      ],
      "text/plain": [
       "<IPython.core.display.Markdown object>"
      ]
     },
     "metadata": {},
     "output_type": "display_data"
    },
    {
     "data": {
      "text/markdown": [
       "$53 \\to \\left [ 0.8, \\quad 0.6, \\quad 1.33\\right ]$"
      ],
      "text/plain": [
       "<IPython.core.display.Markdown object>"
      ]
     },
     "metadata": {},
     "output_type": "display_data"
    },
    {
     "data": {
      "text/markdown": [
       "$127 \\to \\left [ 0.8, \\quad -0.6, \\quad -1.33\\right ]$"
      ],
      "text/plain": [
       "<IPython.core.display.Markdown object>"
      ]
     },
     "metadata": {},
     "output_type": "display_data"
    },
    {
     "data": {
      "text/markdown": [
       "$143 \\to \\left [ 0.6, \\quad -0.8, \\quad -0.75\\right ]$"
      ],
      "text/plain": [
       "<IPython.core.display.Markdown object>"
      ]
     },
     "metadata": {},
     "output_type": "display_data"
    }
   ],
   "source": [
    "# Página 39 ejercicio 10\n",
    "\n",
    "texto_ejercicio = r\"\"\"Si sen 37º = 0,6. Calcula, sin usar la calculadora, las razones trigonométricas de los siguientes ángulos dados en grados:\"\"\"\n",
    "\n",
    "n_ejercicio = 'p039e10'\n",
    "\n",
    "display(md(\"**\"+texto_ejercicio+\"**\"))\n",
    "\n",
    "\n",
    "enunciado_latex = [r'53', r'127', r'143'\n",
    "    \n",
    "                  ]\n",
    "\n",
    "enunciado, solucion = [],[]\n",
    "\n",
    "\n",
    "for i, s in enumerate(enunciado_latex) : \n",
    "    enunciado.append(S(s))\n",
    "    solucion.append(latex([round(float(sin(rad(parse_latex(s)))),2),round(float(cos(rad(parse_latex(s)))),2),round(float(tan(rad(parse_latex(s)))),2)]))\n",
    "    display(md(\"$\"+enunciado_latex[i]+\" \\\\to \"+solucion[i]+\"$\"))\n",
    "\n",
    "df_ejercicios = df_ejercicios.append(añadir_ejercicios(enunciado_latex, enunciado, solucion, texto_ejercicio, curso, titulo , n_ejercicio, '1', '2', enun_tex=True), ignore_index=True)\n"
   ]
  },
  {
   "cell_type": "code",
   "execution_count": 22,
   "metadata": {},
   "outputs": [],
   "source": [
    "df_ejercicios.to_csv('ejercicios23.csv', index = False)"
   ]
  },
  {
   "cell_type": "code",
   "execution_count": 23,
   "metadata": {},
   "outputs": [],
   "source": [
    "df_ejercicios = pd.read_csv('ejercicios23.csv', index_col= None)"
   ]
  },
  {
   "cell_type": "code",
   "execution_count": 24,
   "metadata": {},
   "outputs": [
    {
     "data": {
      "text/html": [
       "<div>\n",
       "<style scoped>\n",
       "    .dataframe tbody tr th:only-of-type {\n",
       "        vertical-align: middle;\n",
       "    }\n",
       "\n",
       "    .dataframe tbody tr th {\n",
       "        vertical-align: top;\n",
       "    }\n",
       "\n",
       "    .dataframe thead th {\n",
       "        text-align: right;\n",
       "    }\n",
       "</style>\n",
       "<table border=\"1\" class=\"dataframe\">\n",
       "  <thead>\n",
       "    <tr style=\"text-align: right;\">\n",
       "      <th></th>\n",
       "      <th>enunciado_latex</th>\n",
       "      <th>enunciado</th>\n",
       "      <th>solucion</th>\n",
       "      <th>texto</th>\n",
       "      <th>curso</th>\n",
       "      <th>titulo</th>\n",
       "      <th>n_ejercicio</th>\n",
       "      <th>dificultad</th>\n",
       "      <th>n_columnas</th>\n",
       "      <th>puntos</th>\n",
       "      <th>enun_tex</th>\n",
       "      <th>sol_tex</th>\n",
       "    </tr>\n",
       "  </thead>\n",
       "  <tbody>\n",
       "    <tr>\n",
       "      <th>0</th>\n",
       "      <td>\\sin{2x}=\\frac{1}{2}</td>\n",
       "      <td>Eq(sin(2*x), 1/2)</td>\n",
       "      <td>\\left [ \\frac{\\pi}{12}, \\quad \\frac{5 \\pi}{12}...</td>\n",
       "      <td>Resolver las siguientes ecuaciones para ángulo...</td>\n",
       "      <td>1BC</td>\n",
       "      <td>23 - Trigonometría</td>\n",
       "      <td>p041e27</td>\n",
       "      <td>1</td>\n",
       "      <td>1</td>\n",
       "      <td>1</td>\n",
       "      <td>True</td>\n",
       "      <td>True</td>\n",
       "    </tr>\n",
       "    <tr>\n",
       "      <th>1</th>\n",
       "      <td>\\tan{\\frac{x}{2}}=\\frac{{\\sqrt {3} }}{3}</td>\n",
       "      <td>Eq(tan(x/2), sqrt(3)/3)</td>\n",
       "      <td>\\left [ \\frac{\\pi}{3}\\right ]</td>\n",
       "      <td>Resolver las siguientes ecuaciones para ángulo...</td>\n",
       "      <td>1BC</td>\n",
       "      <td>23 - Trigonometría</td>\n",
       "      <td>p041e27</td>\n",
       "      <td>1</td>\n",
       "      <td>1</td>\n",
       "      <td>1</td>\n",
       "      <td>True</td>\n",
       "      <td>True</td>\n",
       "    </tr>\n",
       "    <tr>\n",
       "      <th>2</th>\n",
       "      <td>\\sin{(3x-\\frac{\\pi}{2})}=-\\frac{1}{2}</td>\n",
       "      <td>Eq(sin(-pi/2 + 3*x), -1/2)</td>\n",
       "      <td>\\left [ \\frac{\\pi}{9}, \\quad \\frac{5 \\pi}{9}\\r...</td>\n",
       "      <td>Resolver las siguientes ecuaciones para ángulo...</td>\n",
       "      <td>1BC</td>\n",
       "      <td>23 - Trigonometría</td>\n",
       "      <td>p041e27</td>\n",
       "      <td>1</td>\n",
       "      <td>1</td>\n",
       "      <td>1</td>\n",
       "      <td>True</td>\n",
       "      <td>True</td>\n",
       "    </tr>\n",
       "    <tr>\n",
       "      <th>3</th>\n",
       "      <td>2\\sin{x}+\\csc{x}=2\\sqrt{2}</td>\n",
       "      <td>Eq(2*sin(x) + csc(x), 2*sqrt(2))</td>\n",
       "      <td>\\left [ 45, \\quad 135\\right ]</td>\n",
       "      <td>Resolver las siguientes ecuaciones:</td>\n",
       "      <td>1BC</td>\n",
       "      <td>23 - Trigonometría</td>\n",
       "      <td>p041e28</td>\n",
       "      <td>1</td>\n",
       "      <td>1</td>\n",
       "      <td>1</td>\n",
       "      <td>True</td>\n",
       "      <td>True</td>\n",
       "    </tr>\n",
       "    <tr>\n",
       "      <th>4</th>\n",
       "      <td>\\sin{x}=\\cos^2{x}+1</td>\n",
       "      <td>Eq(sin(x), cos(x)**2 + 1)</td>\n",
       "      <td>\\left [ 90\\right ]</td>\n",
       "      <td>Resolver las siguientes ecuaciones:</td>\n",
       "      <td>1BC</td>\n",
       "      <td>23 - Trigonometría</td>\n",
       "      <td>p041e28</td>\n",
       "      <td>1</td>\n",
       "      <td>1</td>\n",
       "      <td>1</td>\n",
       "      <td>True</td>\n",
       "      <td>True</td>\n",
       "    </tr>\n",
       "    <tr>\n",
       "      <th>5</th>\n",
       "      <td>\\sin{x}\\cos{x}=0</td>\n",
       "      <td>Eq(sin(x)*cos(x), 0)</td>\n",
       "      <td>\\left [ 0, \\quad 90, \\quad 180, \\quad 270\\right ]</td>\n",
       "      <td>Resolver las siguientes ecuaciones:</td>\n",
       "      <td>1BC</td>\n",
       "      <td>23 - Trigonometría</td>\n",
       "      <td>p041e28</td>\n",
       "      <td>1</td>\n",
       "      <td>1</td>\n",
       "      <td>1</td>\n",
       "      <td>True</td>\n",
       "      <td>True</td>\n",
       "    </tr>\n",
       "    <tr>\n",
       "      <th>6</th>\n",
       "      <td>\\tan{x}-\\sin{x}=0</td>\n",
       "      <td>Eq(-sin(x) + tan(x), 0)</td>\n",
       "      <td>\\left [ 0, \\quad -180, \\quad 180, \\quad 360\\ri...</td>\n",
       "      <td>Resolver las siguientes ecuaciones:</td>\n",
       "      <td>1BC</td>\n",
       "      <td>23 - Trigonometría</td>\n",
       "      <td>p041e28</td>\n",
       "      <td>1</td>\n",
       "      <td>1</td>\n",
       "      <td>1</td>\n",
       "      <td>True</td>\n",
       "      <td>True</td>\n",
       "    </tr>\n",
       "    <tr>\n",
       "      <th>7</th>\n",
       "      <td>\\sin{x}\\cos{x}=2\\sin{x}</td>\n",
       "      <td>Eq(sin(x)*cos(x), 2*sin(x))</td>\n",
       "      <td>\\left [ 0\\right ]</td>\n",
       "      <td>Resolver las siguientes ecuaciones:</td>\n",
       "      <td>1BC</td>\n",
       "      <td>23 - Trigonometría</td>\n",
       "      <td>p041e28</td>\n",
       "      <td>1</td>\n",
       "      <td>1</td>\n",
       "      <td>1</td>\n",
       "      <td>True</td>\n",
       "      <td>True</td>\n",
       "    </tr>\n",
       "    <tr>\n",
       "      <th>8</th>\n",
       "      <td>2\\cos{x}-3\\tan{x}=0</td>\n",
       "      <td>Eq(2*cos(x) - 3*tan(x), 0)</td>\n",
       "      <td>\\left [ 150, \\quad 30, \\quad - \\frac{180 i \\lo...</td>\n",
       "      <td>Resolver las siguientes ecuaciones:</td>\n",
       "      <td>1BC</td>\n",
       "      <td>23 - Trigonometría</td>\n",
       "      <td>p041e28</td>\n",
       "      <td>1</td>\n",
       "      <td>1</td>\n",
       "      <td>1</td>\n",
       "      <td>True</td>\n",
       "      <td>True</td>\n",
       "    </tr>\n",
       "    <tr>\n",
       "      <th>9</th>\n",
       "      <td>\\sin{2x}=2\\cos{x}</td>\n",
       "      <td>Eq(sin(2*x), 2*cos(x))</td>\n",
       "      <td>\\left [ -90, \\quad 90\\right ]</td>\n",
       "      <td>Resolver las siguientes ecuaciones:</td>\n",
       "      <td>1BC</td>\n",
       "      <td>23 - Trigonometría</td>\n",
       "      <td>p041e28</td>\n",
       "      <td>1</td>\n",
       "      <td>1</td>\n",
       "      <td>1</td>\n",
       "      <td>True</td>\n",
       "      <td>True</td>\n",
       "    </tr>\n",
       "    <tr>\n",
       "      <th>10</th>\n",
       "      <td>4\\tan{x}=\\frac{\\sqrt{3}}{\\cos^2{x}}</td>\n",
       "      <td>Eq(4*tan(x), sqrt(3)/cos(x)**2)</td>\n",
       "      <td>\\left [ -120, \\quad -150, \\quad 60, \\quad 30\\r...</td>\n",
       "      <td>Resolver las siguientes ecuaciones:</td>\n",
       "      <td>1BC</td>\n",
       "      <td>23 - Trigonometría</td>\n",
       "      <td>p041e28</td>\n",
       "      <td>1</td>\n",
       "      <td>1</td>\n",
       "      <td>1</td>\n",
       "      <td>True</td>\n",
       "      <td>True</td>\n",
       "    </tr>\n",
       "    <tr>\n",
       "      <th>11</th>\n",
       "      <td>\\sin{x}+\\cos{x}=\\sqrt{2}</td>\n",
       "      <td>Eq(sin(x) + cos(x), sqrt(2))</td>\n",
       "      <td>\\left [ 45\\right ]</td>\n",
       "      <td>Resolver las siguientes ecuaciones:</td>\n",
       "      <td>1BC</td>\n",
       "      <td>23 - Trigonometría</td>\n",
       "      <td>p041e28</td>\n",
       "      <td>1</td>\n",
       "      <td>1</td>\n",
       "      <td>1</td>\n",
       "      <td>True</td>\n",
       "      <td>True</td>\n",
       "    </tr>\n",
       "    <tr>\n",
       "      <th>12</th>\n",
       "      <td>\\sin{2x}\\cos{x}=6\\sin^3{x}</td>\n",
       "      <td>Eq(sin(2*x)*cos(x), 6*sin(x)**3)</td>\n",
       "      <td>\\left [ 0, \\quad 180, \\quad -150, \\quad 150, \\...</td>\n",
       "      <td>Resolver las siguientes ecuaciones:</td>\n",
       "      <td>1BC</td>\n",
       "      <td>23 - Trigonometría</td>\n",
       "      <td>p041e28</td>\n",
       "      <td>1</td>\n",
       "      <td>1</td>\n",
       "      <td>1</td>\n",
       "      <td>True</td>\n",
       "      <td>True</td>\n",
       "    </tr>\n",
       "    <tr>\n",
       "      <th>13</th>\n",
       "      <td>4\\sin{\\frac{x}{2}}\\cos{x}=3</td>\n",
       "      <td>Eq(4*(sin(x/2)*cos(x)), 3)</td>\n",
       "      <td>\\left [ \\right ]</td>\n",
       "      <td>Resolver las siguientes ecuaciones:</td>\n",
       "      <td>1BC</td>\n",
       "      <td>23 - Trigonometría</td>\n",
       "      <td>p041e28</td>\n",
       "      <td>1</td>\n",
       "      <td>1</td>\n",
       "      <td>1</td>\n",
       "      <td>True</td>\n",
       "      <td>True</td>\n",
       "    </tr>\n",
       "    <tr>\n",
       "      <th>14</th>\n",
       "      <td>\\tan{x}\\tan{2x}=1</td>\n",
       "      <td>Eq(tan(x)*tan(2*x), 1)</td>\n",
       "      <td>\\left [ -150, \\quad 150, \\quad -30, \\quad 30\\r...</td>\n",
       "      <td>Resolver las siguientes ecuaciones:</td>\n",
       "      <td>1BC</td>\n",
       "      <td>23 - Trigonometría</td>\n",
       "      <td>p041e28</td>\n",
       "      <td>1</td>\n",
       "      <td>1</td>\n",
       "      <td>1</td>\n",
       "      <td>True</td>\n",
       "      <td>True</td>\n",
       "    </tr>\n",
       "    <tr>\n",
       "      <th>15</th>\n",
       "      <td>4\\cos{2x}+3\\cos{x}=1</td>\n",
       "      <td>Eq(3*cos(x) + 4*cos(2*x), 1)</td>\n",
       "      <td>\\left [ 180, \\quad - \\frac{180 i \\log{\\left (\\...</td>\n",
       "      <td>Resolver las siguientes ecuaciones:</td>\n",
       "      <td>1BC</td>\n",
       "      <td>23 - Trigonometría</td>\n",
       "      <td>p041e28</td>\n",
       "      <td>1</td>\n",
       "      <td>1</td>\n",
       "      <td>1</td>\n",
       "      <td>True</td>\n",
       "      <td>True</td>\n",
       "    </tr>\n",
       "    <tr>\n",
       "      <th>16</th>\n",
       "      <td>\\tan{x}+3\\cot{x}=4</td>\n",
       "      <td>Eq(tan(x) + 3*cot(x), 4)</td>\n",
       "      <td>\\left [ 45, \\quad \\frac{180 \\operatorname{atan...</td>\n",
       "      <td>Resolver las siguientes ecuaciones:</td>\n",
       "      <td>1BC</td>\n",
       "      <td>23 - Trigonometría</td>\n",
       "      <td>p041e28</td>\n",
       "      <td>1</td>\n",
       "      <td>1</td>\n",
       "      <td>1</td>\n",
       "      <td>True</td>\n",
       "      <td>True</td>\n",
       "    </tr>\n",
       "    <tr>\n",
       "      <th>17</th>\n",
       "      <td>4\\sin{(x-30)}\\cos{(x-30)}=\\sqrt{3}</td>\n",
       "      <td>Eq(4*(sin(x - 30)*cos(x - 30)), sqrt(3))</td>\n",
       "      <td>\\left [ \\frac{180 \\left(- \\frac{2 \\pi}{3} + 30...</td>\n",
       "      <td>Resolver las siguientes ecuaciones:</td>\n",
       "      <td>1BC</td>\n",
       "      <td>23 - Trigonometría</td>\n",
       "      <td>p041e28</td>\n",
       "      <td>1</td>\n",
       "      <td>1</td>\n",
       "      <td>1</td>\n",
       "      <td>True</td>\n",
       "      <td>True</td>\n",
       "    </tr>\n",
       "    <tr>\n",
       "      <th>18</th>\n",
       "      <td>El lado a = 6, y los ángulos B=45º, C=105º</td>\n",
       "      <td>['s[0]/(sin(rad(180-s[1]-s[2])))', 'r*sin(rad(...</td>\n",
       "      <td>6 \\sqrt{2},\\ 3 \\sqrt{2} + 3 \\sqrt{6},\\ 30º</td>\n",
       "      <td>Calcular los restantes elementos de un triángu...</td>\n",
       "      <td>1BC</td>\n",
       "      <td>23 - Trigonometría</td>\n",
       "      <td>p042e01</td>\n",
       "      <td>1</td>\n",
       "      <td>1</td>\n",
       "      <td>1</td>\n",
       "      <td>False</td>\n",
       "      <td>True</td>\n",
       "    </tr>\n",
       "    <tr>\n",
       "      <th>19</th>\n",
       "      <td>El lado a = 8, y los ángulos B=30º, C=60º</td>\n",
       "      <td>['s[0]/(sin(rad(180-s[1]-s[2])))', 'r*sin(rad(...</td>\n",
       "      <td>4,\\ 4 \\sqrt{3},\\ 90º</td>\n",
       "      <td>Calcular los restantes elementos de un triángu...</td>\n",
       "      <td>1BC</td>\n",
       "      <td>23 - Trigonometría</td>\n",
       "      <td>p042e01</td>\n",
       "      <td>1</td>\n",
       "      <td>1</td>\n",
       "      <td>1</td>\n",
       "      <td>False</td>\n",
       "      <td>True</td>\n",
       "    </tr>\n",
       "    <tr>\n",
       "      <th>20</th>\n",
       "      <td>Los lados a=10y b=7, y C=30º</td>\n",
       "      <td>[sqrt(-70*sqrt(3) + 149), 108.36878841450955, ...</td>\n",
       "      <td>\\sqrt{- 70 \\sqrt{3} + 149} = 5.268438428052338...</td>\n",
       "      <td>Calcular los restantes elementos de un triángu...</td>\n",
       "      <td>1BC</td>\n",
       "      <td>23 - Trigonometría</td>\n",
       "      <td>p042e02</td>\n",
       "      <td>1</td>\n",
       "      <td>1</td>\n",
       "      <td>1</td>\n",
       "      <td>False</td>\n",
       "      <td>True</td>\n",
       "    </tr>\n",
       "    <tr>\n",
       "      <th>21</th>\n",
       "      <td>El lado a = 52 y b = 32 y que B = 40.5º.</td>\n",
       "      <td>[33.77129851316955, True]</td>\n",
       "      <td>distancia_{a recta}=33.77129851316955  \\to \\ma...</td>\n",
       "      <td>Determina si se puede construir un triángulo A...</td>\n",
       "      <td>1BC</td>\n",
       "      <td>23 - Trigonometría</td>\n",
       "      <td>p042e03</td>\n",
       "      <td>1</td>\n",
       "      <td>1</td>\n",
       "      <td>1</td>\n",
       "      <td>False</td>\n",
       "      <td>True</td>\n",
       "    </tr>\n",
       "    <tr>\n",
       "      <th>22</th>\n",
       "      <td>El lado a = 50 y b = 32 y que B = 39.5º.</td>\n",
       "      <td>[31.803911013888197, False]</td>\n",
       "      <td>distancia_{a recta}=31.803911013888197  \\to \\m...</td>\n",
       "      <td>Determina si se puede construir un triángulo A...</td>\n",
       "      <td>1BC</td>\n",
       "      <td>23 - Trigonometría</td>\n",
       "      <td>p042e03</td>\n",
       "      <td>1</td>\n",
       "      <td>1</td>\n",
       "      <td>1</td>\n",
       "      <td>False</td>\n",
       "      <td>True</td>\n",
       "    </tr>\n",
       "    <tr>\n",
       "      <th>23</th>\n",
       "      <td>Los lados a=22, b=17, y c=15</td>\n",
       "      <td>[86.62771331656609, 86.62771331656609, 42.8934...</td>\n",
       "      <td>\\left [ 86.62771331656609, \\quad 50.4788036413...</td>\n",
       "      <td>Calcula los ángulo del triángulo ABC, si se co...</td>\n",
       "      <td>1BC</td>\n",
       "      <td>23 - Trigonometría</td>\n",
       "      <td>p042e04</td>\n",
       "      <td>1</td>\n",
       "      <td>1</td>\n",
       "      <td>1</td>\n",
       "      <td>False</td>\n",
       "      <td>True</td>\n",
       "    </tr>\n",
       "    <tr>\n",
       "      <th>24</th>\n",
       "      <td>El lado a=8, y los ángulos B=30º, y C=105º</td>\n",
       "      <td>[3150, 12600.0]</td>\n",
       "      <td>2 \\sqrt{2} \\left(2 \\sqrt{2} + 2 \\sqrt{6}\\right...</td>\n",
       "      <td>Calcular el área de un triángulo sabiendo que:</td>\n",
       "      <td>1BC</td>\n",
       "      <td>23 - Trigonometría</td>\n",
       "      <td>p042e07</td>\n",
       "      <td>1</td>\n",
       "      <td>1</td>\n",
       "      <td>1</td>\n",
       "      <td>False</td>\n",
       "      <td>True</td>\n",
       "    </tr>\n",
       "    <tr>\n",
       "      <th>25</th>\n",
       "      <td>Su área mide=18cm², y los ángulos A=30º, y B=45º</td>\n",
       "      <td>[-sqrt(2)*z + sqrt(2)*(x + y), sqrt(3) + 2 - z...</td>\n",
       "      <td>6, 6, 6 \\sqrt{2}</td>\n",
       "      <td>Calcular los lados de un triángulo sabiendo que:</td>\n",
       "      <td>1BC</td>\n",
       "      <td>23 - Trigonometría</td>\n",
       "      <td>p042e08</td>\n",
       "      <td>1</td>\n",
       "      <td>1</td>\n",
       "      <td>1</td>\n",
       "      <td>False</td>\n",
       "      <td>True</td>\n",
       "    </tr>\n",
       "    <tr>\n",
       "      <th>26</th>\n",
       "      <td>La distancia AB es de 6km, la BC es=9km, y el ...</td>\n",
       "      <td>sqrt(s[0]**2+s[1]**2-2*s[0]*s[1]*cos(rad(s[2])))</td>\n",
       "      <td>3 \\sqrt{19}=13.076696830622021</td>\n",
       "      <td>Tres puntos A, B y C están unidos por carreter...</td>\n",
       "      <td>1BC</td>\n",
       "      <td>23 - Trigonometría</td>\n",
       "      <td>p042e09</td>\n",
       "      <td>1</td>\n",
       "      <td>1</td>\n",
       "      <td>1</td>\n",
       "      <td>False</td>\n",
       "      <td>True</td>\n",
       "    </tr>\n",
       "    <tr>\n",
       "      <th>27</th>\n",
       "      <td>a=25km, b=28, y sen(C)=0.96, siendo C &lt; 90º</td>\n",
       "      <td>[26.88, 336.0]</td>\n",
       "      <td>336.0</td>\n",
       "      <td>Calcular el área de un triángulo ABC sabiendo que</td>\n",
       "      <td>1BC</td>\n",
       "      <td>23 - Trigonometría</td>\n",
       "      <td>p042e10</td>\n",
       "      <td>1</td>\n",
       "      <td>1</td>\n",
       "      <td>1</td>\n",
       "      <td>False</td>\n",
       "      <td>True</td>\n",
       "    </tr>\n",
       "    <tr>\n",
       "      <th>28</th>\n",
       "      <td>Un barco se encuentra a una distancia de 3.5 k...</td>\n",
       "      <td>[0.742526244918245, 4.37694966641595]</td>\n",
       "      <td>b=\\left [ 0.742526244918245, \\quad 4.376949666...</td>\n",
       "      <td>Resuelve</td>\n",
       "      <td>1BC</td>\n",
       "      <td>23 - Trigonometría</td>\n",
       "      <td>p042e11</td>\n",
       "      <td>1</td>\n",
       "      <td>1</td>\n",
       "      <td>1</td>\n",
       "      <td>False</td>\n",
       "      <td>True</td>\n",
       "    </tr>\n",
       "    <tr>\n",
       "      <th>29</th>\n",
       "      <td>Las visuales a lo alto de una torre desde dos ...</td>\n",
       "      <td>[[150*sqrt(2)/cos(pi/36)], [300*sin(5*pi/18)/c...</td>\n",
       "      <td>A:212.9423442649438\\ B:230.69118253280297</td>\n",
       "      <td>Resuelve</td>\n",
       "      <td>1BC</td>\n",
       "      <td>23 - Trigonometría</td>\n",
       "      <td>p042e12</td>\n",
       "      <td>1</td>\n",
       "      <td>1</td>\n",
       "      <td>1</td>\n",
       "      <td>False</td>\n",
       "      <td>True</td>\n",
       "    </tr>\n",
       "    <tr>\n",
       "      <th>...</th>\n",
       "      <td>...</td>\n",
       "      <td>...</td>\n",
       "      <td>...</td>\n",
       "      <td>...</td>\n",
       "      <td>...</td>\n",
       "      <td>...</td>\n",
       "      <td>...</td>\n",
       "      <td>...</td>\n",
       "      <td>...</td>\n",
       "      <td>...</td>\n",
       "      <td>...</td>\n",
       "      <td>...</td>\n",
       "    </tr>\n",
       "    <tr>\n",
       "      <th>50</th>\n",
       "      <td>\\sin^3\\alpha+{\\sin\\alpha}\\cdot{\\cos^2\\alpha}</td>\n",
       "      <td>sin(alpha)**3 + sin(alpha)*cos(alpha)**2</td>\n",
       "      <td>\\sin{\\left (\\alpha \\right )}</td>\n",
       "      <td>Simplificar las siguientes expresiones:</td>\n",
       "      <td>1BC</td>\n",
       "      <td>23 - Trigonometría</td>\n",
       "      <td>p039e07</td>\n",
       "      <td>1</td>\n",
       "      <td>1</td>\n",
       "      <td>1</td>\n",
       "      <td>True</td>\n",
       "      <td>True</td>\n",
       "    </tr>\n",
       "    <tr>\n",
       "      <th>51</th>\n",
       "      <td>\\sqrt{(1-\\sin\\alpha)\\cdot(1+\\sin\\alpha)}</td>\n",
       "      <td>sqrt((-sin(alpha) + 1)*(sin(alpha) + 1))</td>\n",
       "      <td>\\sqrt{\\cos^{2}{\\left (\\alpha \\right )}}</td>\n",
       "      <td>Simplificar las siguientes expresiones:</td>\n",
       "      <td>1BC</td>\n",
       "      <td>23 - Trigonometría</td>\n",
       "      <td>p039e07</td>\n",
       "      <td>1</td>\n",
       "      <td>1</td>\n",
       "      <td>1</td>\n",
       "      <td>True</td>\n",
       "      <td>True</td>\n",
       "    </tr>\n",
       "    <tr>\n",
       "      <th>52</th>\n",
       "      <td>\\sin^4\\alpha-\\cos^4\\alpha</td>\n",
       "      <td>sin(alpha)**4 - cos(alpha)**4</td>\n",
       "      <td>- \\cos{\\left (2 \\alpha \\right )}</td>\n",
       "      <td>Simplificar las siguientes expresiones:</td>\n",
       "      <td>1BC</td>\n",
       "      <td>23 - Trigonometría</td>\n",
       "      <td>p039e07</td>\n",
       "      <td>1</td>\n",
       "      <td>1</td>\n",
       "      <td>1</td>\n",
       "      <td>True</td>\n",
       "      <td>True</td>\n",
       "    </tr>\n",
       "    <tr>\n",
       "      <th>53</th>\n",
       "      <td>\\cos^3\\alpha+{\\cos^2\\alpha}\\cdot{\\sin\\alpha}+{...</td>\n",
       "      <td>sin(alpha)*cos(alpha)**2 + cos(alpha)**3 + sin...</td>\n",
       "      <td>\\sqrt{2} \\sin{\\left (\\alpha + \\frac{\\pi}{4} \\r...</td>\n",
       "      <td>Simplificar las siguientes expresiones:</td>\n",
       "      <td>1BC</td>\n",
       "      <td>23 - Trigonometría</td>\n",
       "      <td>p039e07</td>\n",
       "      <td>1</td>\n",
       "      <td>1</td>\n",
       "      <td>1</td>\n",
       "      <td>True</td>\n",
       "      <td>True</td>\n",
       "    </tr>\n",
       "    <tr>\n",
       "      <th>54</th>\n",
       "      <td>{\\sin\\alpha}\\cdot{\\cos\\alpha}\\cdot(\\tan\\alpha+...</td>\n",
       "      <td>(sin(alpha)*cos(alpha))*(tan(alpha) + 1/tan(al...</td>\n",
       "      <td>1</td>\n",
       "      <td>Simplificar las siguientes expresiones:</td>\n",
       "      <td>1BC</td>\n",
       "      <td>23 - Trigonometría</td>\n",
       "      <td>p039e07</td>\n",
       "      <td>1</td>\n",
       "      <td>1</td>\n",
       "      <td>1</td>\n",
       "      <td>True</td>\n",
       "      <td>True</td>\n",
       "    </tr>\n",
       "    <tr>\n",
       "      <th>55</th>\n",
       "      <td>\\frac{\\cos^2\\alpha-\\sin^2\\alpha}{\\cos^4\\alpha-...</td>\n",
       "      <td>(-sin(alpha)**2 + cos(alpha)**2)/(-sin(alpha)*...</td>\n",
       "      <td>1</td>\n",
       "      <td>Simplificar las siguientes expresiones:</td>\n",
       "      <td>1BC</td>\n",
       "      <td>23 - Trigonometría</td>\n",
       "      <td>p039e07</td>\n",
       "      <td>1</td>\n",
       "      <td>1</td>\n",
       "      <td>1</td>\n",
       "      <td>True</td>\n",
       "      <td>True</td>\n",
       "    </tr>\n",
       "    <tr>\n",
       "      <th>56</th>\n",
       "      <td>\\frac{\\sec^2\\alpha+\\cos^2\\alpha}{\\sec^2\\alpha-...</td>\n",
       "      <td>(cos(alpha)**2 + sec(alpha)**2)/(-cos(alpha)**...</td>\n",
       "      <td>\\frac{\\left(- \\cos^{2}{\\left (\\alpha \\right )}...</td>\n",
       "      <td>Simplificar las siguientes expresiones:</td>\n",
       "      <td>1BC</td>\n",
       "      <td>23 - Trigonometría</td>\n",
       "      <td>p039e07</td>\n",
       "      <td>1</td>\n",
       "      <td>1</td>\n",
       "      <td>1</td>\n",
       "      <td>True</td>\n",
       "      <td>True</td>\n",
       "    </tr>\n",
       "    <tr>\n",
       "      <th>57</th>\n",
       "      <td>\\frac{\\cos^2\\alpha}{1-\\sin\\alpha}</td>\n",
       "      <td>cos(alpha)**2/(-sin(alpha) + 1)</td>\n",
       "      <td>\\sin{\\left (\\alpha \\right )} + 1</td>\n",
       "      <td>Simplificar las siguientes expresiones:</td>\n",
       "      <td>1BC</td>\n",
       "      <td>23 - Trigonometría</td>\n",
       "      <td>p039e07</td>\n",
       "      <td>1</td>\n",
       "      <td>1</td>\n",
       "      <td>1</td>\n",
       "      <td>True</td>\n",
       "      <td>True</td>\n",
       "    </tr>\n",
       "    <tr>\n",
       "      <th>58</th>\n",
       "      <td>\\frac{\\csc\\alpha}{1+\\cot^2\\alpha}</td>\n",
       "      <td>csc(alpha)/(cot(alpha)**2 + 1)</td>\n",
       "      <td>\\sin{\\left (\\alpha \\right )}</td>\n",
       "      <td>Simplificar las siguientes expresiones:</td>\n",
       "      <td>1BC</td>\n",
       "      <td>23 - Trigonometría</td>\n",
       "      <td>p039e07</td>\n",
       "      <td>1</td>\n",
       "      <td>1</td>\n",
       "      <td>1</td>\n",
       "      <td>True</td>\n",
       "      <td>True</td>\n",
       "    </tr>\n",
       "    <tr>\n",
       "      <th>59</th>\n",
       "      <td>\\cos\\alpha=\\frac{4}{5} \\land \\alpha \\in I</td>\n",
       "      <td>['36.86989764584401', '3/5', '4/5', '3/4']</td>\n",
       "      <td>\\left [ 36.86989764584401, \\quad \\frac{3}{5}, ...</td>\n",
       "      <td>Calcular las restantes razones trigonométricas...</td>\n",
       "      <td>1BC</td>\n",
       "      <td>23 - Trigonometría</td>\n",
       "      <td>p039e08</td>\n",
       "      <td>1</td>\n",
       "      <td>1</td>\n",
       "      <td>1</td>\n",
       "      <td>True</td>\n",
       "      <td>True</td>\n",
       "    </tr>\n",
       "    <tr>\n",
       "      <th>60</th>\n",
       "      <td>\\sin\\alpha=\\frac{3}{5} \\land \\alpha \\in II</td>\n",
       "      <td>['36.86989764584402', '3/5', '-4/5', '-3/4']</td>\n",
       "      <td>\\left [ 36.86989764584402, \\quad \\frac{3}{5}, ...</td>\n",
       "      <td>Calcular las restantes razones trigonométricas...</td>\n",
       "      <td>1BC</td>\n",
       "      <td>23 - Trigonometría</td>\n",
       "      <td>p039e08</td>\n",
       "      <td>1</td>\n",
       "      <td>1</td>\n",
       "      <td>1</td>\n",
       "      <td>True</td>\n",
       "      <td>True</td>\n",
       "    </tr>\n",
       "    <tr>\n",
       "      <th>61</th>\n",
       "      <td>\\tan\\alpha=-\\frac{3}{4} \\land \\alpha \\in II</td>\n",
       "      <td>['36.86989764584402', '3/5', '-4/5', '-3/4']</td>\n",
       "      <td>\\left [ 36.86989764584402, \\quad \\frac{3}{5}, ...</td>\n",
       "      <td>Calcular las restantes razones trigonométricas...</td>\n",
       "      <td>1BC</td>\n",
       "      <td>23 - Trigonometría</td>\n",
       "      <td>p039e08</td>\n",
       "      <td>1</td>\n",
       "      <td>1</td>\n",
       "      <td>1</td>\n",
       "      <td>True</td>\n",
       "      <td>True</td>\n",
       "    </tr>\n",
       "    <tr>\n",
       "      <th>62</th>\n",
       "      <td>\\sec\\alpha=2 \\land \\alpha \\in IV</td>\n",
       "      <td>['60.0', '-sqrt(3)/2', '1/2', '-sqrt(3)']</td>\n",
       "      <td>\\left [ 60.0, \\quad - \\frac{\\sqrt{3}}{2}, \\qua...</td>\n",
       "      <td>Calcular las restantes razones trigonométricas...</td>\n",
       "      <td>1BC</td>\n",
       "      <td>23 - Trigonometría</td>\n",
       "      <td>p039e08</td>\n",
       "      <td>1</td>\n",
       "      <td>1</td>\n",
       "      <td>1</td>\n",
       "      <td>True</td>\n",
       "      <td>True</td>\n",
       "    </tr>\n",
       "    <tr>\n",
       "      <th>63</th>\n",
       "      <td>\\csc\\alpha=-2 \\land \\alpha \\in III</td>\n",
       "      <td>['30.0', '-1/2', '-sqrt(3)/2', 'sqrt(3)/3']</td>\n",
       "      <td>\\left [ 30.0, \\quad - \\frac{1}{2}, \\quad - \\fr...</td>\n",
       "      <td>Calcular las restantes razones trigonométricas...</td>\n",
       "      <td>1BC</td>\n",
       "      <td>23 - Trigonometría</td>\n",
       "      <td>p039e08</td>\n",
       "      <td>1</td>\n",
       "      <td>1</td>\n",
       "      <td>1</td>\n",
       "      <td>True</td>\n",
       "      <td>True</td>\n",
       "    </tr>\n",
       "    <tr>\n",
       "      <th>64</th>\n",
       "      <td>\\cot\\alpha=-2 \\land \\alpha \\in IV</td>\n",
       "      <td>['26.56505117707799', '-sqrt(5)/5', '2*sqrt(5)...</td>\n",
       "      <td>\\left [ 26.56505117707799, \\quad - \\frac{\\sqrt...</td>\n",
       "      <td>Calcular las restantes razones trigonométricas...</td>\n",
       "      <td>1BC</td>\n",
       "      <td>23 - Trigonometría</td>\n",
       "      <td>p039e08</td>\n",
       "      <td>1</td>\n",
       "      <td>1</td>\n",
       "      <td>1</td>\n",
       "      <td>True</td>\n",
       "      <td>True</td>\n",
       "    </tr>\n",
       "    <tr>\n",
       "      <th>65</th>\n",
       "      <td>\\sin(-120)</td>\n",
       "      <td>sin(rad(-120))</td>\n",
       "      <td>\\left [ 60, \\quad - \\frac{\\sqrt{3}}{2}\\right ]</td>\n",
       "      <td>Expresa las siguientes razones trigonométricas...</td>\n",
       "      <td>1BC</td>\n",
       "      <td>23 - Trigonometría</td>\n",
       "      <td>p039e09</td>\n",
       "      <td>1</td>\n",
       "      <td>2</td>\n",
       "      <td>1</td>\n",
       "      <td>True</td>\n",
       "      <td>True</td>\n",
       "    </tr>\n",
       "    <tr>\n",
       "      <th>66</th>\n",
       "      <td>\\sin(2700)</td>\n",
       "      <td>sin(rad(2700))</td>\n",
       "      <td>\\left [ 0, \\quad 0\\right ]</td>\n",
       "      <td>Expresa las siguientes razones trigonométricas...</td>\n",
       "      <td>1BC</td>\n",
       "      <td>23 - Trigonometría</td>\n",
       "      <td>p039e09</td>\n",
       "      <td>1</td>\n",
       "      <td>2</td>\n",
       "      <td>1</td>\n",
       "      <td>True</td>\n",
       "      <td>True</td>\n",
       "    </tr>\n",
       "    <tr>\n",
       "      <th>67</th>\n",
       "      <td>\\cos(-30)</td>\n",
       "      <td>cos(rad(-30))</td>\n",
       "      <td>\\left [ 30, \\quad \\frac{\\sqrt{3}}{2}\\right ]</td>\n",
       "      <td>Expresa las siguientes razones trigonométricas...</td>\n",
       "      <td>1BC</td>\n",
       "      <td>23 - Trigonometría</td>\n",
       "      <td>p039e09</td>\n",
       "      <td>1</td>\n",
       "      <td>2</td>\n",
       "      <td>1</td>\n",
       "      <td>True</td>\n",
       "      <td>True</td>\n",
       "    </tr>\n",
       "    <tr>\n",
       "      <th>68</th>\n",
       "      <td>\\cos(3000)</td>\n",
       "      <td>cos(rad(3000))</td>\n",
       "      <td>\\left [ 60, \\quad - \\frac{1}{2}\\right ]</td>\n",
       "      <td>Expresa las siguientes razones trigonométricas...</td>\n",
       "      <td>1BC</td>\n",
       "      <td>23 - Trigonometría</td>\n",
       "      <td>p039e09</td>\n",
       "      <td>1</td>\n",
       "      <td>2</td>\n",
       "      <td>1</td>\n",
       "      <td>True</td>\n",
       "      <td>True</td>\n",
       "    </tr>\n",
       "    <tr>\n",
       "      <th>69</th>\n",
       "      <td>\\tan(-275)</td>\n",
       "      <td>tan(rad(-275))</td>\n",
       "      <td>\\left [ \\frac{180 \\operatorname{atan}{\\left (\\...</td>\n",
       "      <td>Expresa las siguientes razones trigonométricas...</td>\n",
       "      <td>1BC</td>\n",
       "      <td>23 - Trigonometría</td>\n",
       "      <td>p039e09</td>\n",
       "      <td>1</td>\n",
       "      <td>2</td>\n",
       "      <td>1</td>\n",
       "      <td>True</td>\n",
       "      <td>True</td>\n",
       "    </tr>\n",
       "    <tr>\n",
       "      <th>70</th>\n",
       "      <td>\\tan(10330)</td>\n",
       "      <td>tan(rad(10330))</td>\n",
       "      <td>\\left [ 70, \\quad \\tan{\\left (\\frac{7 \\pi}{18}...</td>\n",
       "      <td>Expresa las siguientes razones trigonométricas...</td>\n",
       "      <td>1BC</td>\n",
       "      <td>23 - Trigonometría</td>\n",
       "      <td>p039e09</td>\n",
       "      <td>1</td>\n",
       "      <td>2</td>\n",
       "      <td>1</td>\n",
       "      <td>True</td>\n",
       "      <td>True</td>\n",
       "    </tr>\n",
       "    <tr>\n",
       "      <th>71</th>\n",
       "      <td>\\cot(-150)</td>\n",
       "      <td>cot(rad(-150))</td>\n",
       "      <td>\\left [ 30, \\quad \\sqrt{3}\\right ]</td>\n",
       "      <td>Expresa las siguientes razones trigonométricas...</td>\n",
       "      <td>1BC</td>\n",
       "      <td>23 - Trigonometría</td>\n",
       "      <td>p039e09</td>\n",
       "      <td>1</td>\n",
       "      <td>2</td>\n",
       "      <td>1</td>\n",
       "      <td>True</td>\n",
       "      <td>True</td>\n",
       "    </tr>\n",
       "    <tr>\n",
       "      <th>72</th>\n",
       "      <td>\\cot(4500)</td>\n",
       "      <td>cot(rad(4500))</td>\n",
       "      <td>\\left [ 0, \\quad \\tilde{\\infty}\\right ]</td>\n",
       "      <td>Expresa las siguientes razones trigonométricas...</td>\n",
       "      <td>1BC</td>\n",
       "      <td>23 - Trigonometría</td>\n",
       "      <td>p039e09</td>\n",
       "      <td>1</td>\n",
       "      <td>2</td>\n",
       "      <td>1</td>\n",
       "      <td>True</td>\n",
       "      <td>True</td>\n",
       "    </tr>\n",
       "    <tr>\n",
       "      <th>73</th>\n",
       "      <td>\\sec(-25)</td>\n",
       "      <td>sec(rad(-25))</td>\n",
       "      <td>\\left [ 25, \\quad \\sec{\\left (\\frac{5 \\pi}{36}...</td>\n",
       "      <td>Expresa las siguientes razones trigonométricas...</td>\n",
       "      <td>1BC</td>\n",
       "      <td>23 - Trigonometría</td>\n",
       "      <td>p039e09</td>\n",
       "      <td>1</td>\n",
       "      <td>2</td>\n",
       "      <td>1</td>\n",
       "      <td>True</td>\n",
       "      <td>True</td>\n",
       "    </tr>\n",
       "    <tr>\n",
       "      <th>74</th>\n",
       "      <td>\\sec(745)</td>\n",
       "      <td>sec(rad(745))</td>\n",
       "      <td>\\left [ 25, \\quad \\sec{\\left (\\frac{149 \\pi}{3...</td>\n",
       "      <td>Expresa las siguientes razones trigonométricas...</td>\n",
       "      <td>1BC</td>\n",
       "      <td>23 - Trigonometría</td>\n",
       "      <td>p039e09</td>\n",
       "      <td>1</td>\n",
       "      <td>2</td>\n",
       "      <td>1</td>\n",
       "      <td>True</td>\n",
       "      <td>True</td>\n",
       "    </tr>\n",
       "    <tr>\n",
       "      <th>75</th>\n",
       "      <td>\\csc(-155)</td>\n",
       "      <td>csc(rad(-155))</td>\n",
       "      <td>\\left [ 25, \\quad - \\csc{\\left (\\frac{5 \\pi}{3...</td>\n",
       "      <td>Expresa las siguientes razones trigonométricas...</td>\n",
       "      <td>1BC</td>\n",
       "      <td>23 - Trigonometría</td>\n",
       "      <td>p039e09</td>\n",
       "      <td>1</td>\n",
       "      <td>2</td>\n",
       "      <td>1</td>\n",
       "      <td>True</td>\n",
       "      <td>True</td>\n",
       "    </tr>\n",
       "    <tr>\n",
       "      <th>76</th>\n",
       "      <td>\\csc(4420)</td>\n",
       "      <td>csc(rad(4420))</td>\n",
       "      <td>\\left [ 80, \\quad \\csc{\\left (\\frac{4 \\pi}{9} ...</td>\n",
       "      <td>Expresa las siguientes razones trigonométricas...</td>\n",
       "      <td>1BC</td>\n",
       "      <td>23 - Trigonometría</td>\n",
       "      <td>p039e09</td>\n",
       "      <td>1</td>\n",
       "      <td>2</td>\n",
       "      <td>1</td>\n",
       "      <td>True</td>\n",
       "      <td>True</td>\n",
       "    </tr>\n",
       "    <tr>\n",
       "      <th>77</th>\n",
       "      <td>53</td>\n",
       "      <td>53</td>\n",
       "      <td>\\left [ 0.8, \\quad 0.6, \\quad 1.33\\right ]</td>\n",
       "      <td>Si sen 37º = 0,6. Calcula, sin usar la calcula...</td>\n",
       "      <td>1BC</td>\n",
       "      <td>23 - Trigonometría</td>\n",
       "      <td>p039e10</td>\n",
       "      <td>1</td>\n",
       "      <td>2</td>\n",
       "      <td>1</td>\n",
       "      <td>True</td>\n",
       "      <td>True</td>\n",
       "    </tr>\n",
       "    <tr>\n",
       "      <th>78</th>\n",
       "      <td>127</td>\n",
       "      <td>127</td>\n",
       "      <td>\\left [ 0.8, \\quad -0.6, \\quad -1.33\\right ]</td>\n",
       "      <td>Si sen 37º = 0,6. Calcula, sin usar la calcula...</td>\n",
       "      <td>1BC</td>\n",
       "      <td>23 - Trigonometría</td>\n",
       "      <td>p039e10</td>\n",
       "      <td>1</td>\n",
       "      <td>2</td>\n",
       "      <td>1</td>\n",
       "      <td>True</td>\n",
       "      <td>True</td>\n",
       "    </tr>\n",
       "    <tr>\n",
       "      <th>79</th>\n",
       "      <td>143</td>\n",
       "      <td>143</td>\n",
       "      <td>\\left [ 0.6, \\quad -0.8, \\quad -0.75\\right ]</td>\n",
       "      <td>Si sen 37º = 0,6. Calcula, sin usar la calcula...</td>\n",
       "      <td>1BC</td>\n",
       "      <td>23 - Trigonometría</td>\n",
       "      <td>p039e10</td>\n",
       "      <td>1</td>\n",
       "      <td>2</td>\n",
       "      <td>1</td>\n",
       "      <td>True</td>\n",
       "      <td>True</td>\n",
       "    </tr>\n",
       "  </tbody>\n",
       "</table>\n",
       "<p>80 rows × 12 columns</p>\n",
       "</div>"
      ],
      "text/plain": [
       "                                      enunciado_latex  \\\n",
       "0                                \\sin{2x}=\\frac{1}{2}   \n",
       "1            \\tan{\\frac{x}{2}}=\\frac{{\\sqrt {3} }}{3}   \n",
       "2               \\sin{(3x-\\frac{\\pi}{2})}=-\\frac{1}{2}   \n",
       "3                          2\\sin{x}+\\csc{x}=2\\sqrt{2}   \n",
       "4                                 \\sin{x}=\\cos^2{x}+1   \n",
       "5                                    \\sin{x}\\cos{x}=0   \n",
       "6                                   \\tan{x}-\\sin{x}=0   \n",
       "7                             \\sin{x}\\cos{x}=2\\sin{x}   \n",
       "8                                 2\\cos{x}-3\\tan{x}=0   \n",
       "9                                   \\sin{2x}=2\\cos{x}   \n",
       "10                4\\tan{x}=\\frac{\\sqrt{3}}{\\cos^2{x}}   \n",
       "11                           \\sin{x}+\\cos{x}=\\sqrt{2}   \n",
       "12                         \\sin{2x}\\cos{x}=6\\sin^3{x}   \n",
       "13                        4\\sin{\\frac{x}{2}}\\cos{x}=3   \n",
       "14                                  \\tan{x}\\tan{2x}=1   \n",
       "15                               4\\cos{2x}+3\\cos{x}=1   \n",
       "16                                 \\tan{x}+3\\cot{x}=4   \n",
       "17                 4\\sin{(x-30)}\\cos{(x-30)}=\\sqrt{3}   \n",
       "18         El lado a = 6, y los ángulos B=45º, C=105º   \n",
       "19          El lado a = 8, y los ángulos B=30º, C=60º   \n",
       "20                       Los lados a=10y b=7, y C=30º   \n",
       "21           El lado a = 52 y b = 32 y que B = 40.5º.   \n",
       "22           El lado a = 50 y b = 32 y que B = 39.5º.   \n",
       "23                       Los lados a=22, b=17, y c=15   \n",
       "24         El lado a=8, y los ángulos B=30º, y C=105º   \n",
       "25   Su área mide=18cm², y los ángulos A=30º, y B=45º   \n",
       "26  La distancia AB es de 6km, la BC es=9km, y el ...   \n",
       "27        a=25km, b=28, y sen(C)=0.96, siendo C < 90º   \n",
       "28  Un barco se encuentra a una distancia de 3.5 k...   \n",
       "29  Las visuales a lo alto de una torre desde dos ...   \n",
       "..                                                ...   \n",
       "50       \\sin^3\\alpha+{\\sin\\alpha}\\cdot{\\cos^2\\alpha}   \n",
       "51           \\sqrt{(1-\\sin\\alpha)\\cdot(1+\\sin\\alpha)}   \n",
       "52                          \\sin^4\\alpha-\\cos^4\\alpha   \n",
       "53  \\cos^3\\alpha+{\\cos^2\\alpha}\\cdot{\\sin\\alpha}+{...   \n",
       "54  {\\sin\\alpha}\\cdot{\\cos\\alpha}\\cdot(\\tan\\alpha+...   \n",
       "55  \\frac{\\cos^2\\alpha-\\sin^2\\alpha}{\\cos^4\\alpha-...   \n",
       "56  \\frac{\\sec^2\\alpha+\\cos^2\\alpha}{\\sec^2\\alpha-...   \n",
       "57                  \\frac{\\cos^2\\alpha}{1-\\sin\\alpha}   \n",
       "58                  \\frac{\\csc\\alpha}{1+\\cot^2\\alpha}   \n",
       "59          \\cos\\alpha=\\frac{4}{5} \\land \\alpha \\in I   \n",
       "60         \\sin\\alpha=\\frac{3}{5} \\land \\alpha \\in II   \n",
       "61        \\tan\\alpha=-\\frac{3}{4} \\land \\alpha \\in II   \n",
       "62                   \\sec\\alpha=2 \\land \\alpha \\in IV   \n",
       "63                 \\csc\\alpha=-2 \\land \\alpha \\in III   \n",
       "64                  \\cot\\alpha=-2 \\land \\alpha \\in IV   \n",
       "65                                         \\sin(-120)   \n",
       "66                                         \\sin(2700)   \n",
       "67                                          \\cos(-30)   \n",
       "68                                         \\cos(3000)   \n",
       "69                                         \\tan(-275)   \n",
       "70                                        \\tan(10330)   \n",
       "71                                         \\cot(-150)   \n",
       "72                                         \\cot(4500)   \n",
       "73                                          \\sec(-25)   \n",
       "74                                          \\sec(745)   \n",
       "75                                         \\csc(-155)   \n",
       "76                                         \\csc(4420)   \n",
       "77                                                 53   \n",
       "78                                                127   \n",
       "79                                                143   \n",
       "\n",
       "                                            enunciado  \\\n",
       "0                                   Eq(sin(2*x), 1/2)   \n",
       "1                             Eq(tan(x/2), sqrt(3)/3)   \n",
       "2                          Eq(sin(-pi/2 + 3*x), -1/2)   \n",
       "3                    Eq(2*sin(x) + csc(x), 2*sqrt(2))   \n",
       "4                           Eq(sin(x), cos(x)**2 + 1)   \n",
       "5                                Eq(sin(x)*cos(x), 0)   \n",
       "6                             Eq(-sin(x) + tan(x), 0)   \n",
       "7                         Eq(sin(x)*cos(x), 2*sin(x))   \n",
       "8                          Eq(2*cos(x) - 3*tan(x), 0)   \n",
       "9                              Eq(sin(2*x), 2*cos(x))   \n",
       "10                    Eq(4*tan(x), sqrt(3)/cos(x)**2)   \n",
       "11                       Eq(sin(x) + cos(x), sqrt(2))   \n",
       "12                   Eq(sin(2*x)*cos(x), 6*sin(x)**3)   \n",
       "13                         Eq(4*(sin(x/2)*cos(x)), 3)   \n",
       "14                             Eq(tan(x)*tan(2*x), 1)   \n",
       "15                       Eq(3*cos(x) + 4*cos(2*x), 1)   \n",
       "16                           Eq(tan(x) + 3*cot(x), 4)   \n",
       "17           Eq(4*(sin(x - 30)*cos(x - 30)), sqrt(3))   \n",
       "18  ['s[0]/(sin(rad(180-s[1]-s[2])))', 'r*sin(rad(...   \n",
       "19  ['s[0]/(sin(rad(180-s[1]-s[2])))', 'r*sin(rad(...   \n",
       "20  [sqrt(-70*sqrt(3) + 149), 108.36878841450955, ...   \n",
       "21                          [33.77129851316955, True]   \n",
       "22                        [31.803911013888197, False]   \n",
       "23  [86.62771331656609, 86.62771331656609, 42.8934...   \n",
       "24                                    [3150, 12600.0]   \n",
       "25  [-sqrt(2)*z + sqrt(2)*(x + y), sqrt(3) + 2 - z...   \n",
       "26   sqrt(s[0]**2+s[1]**2-2*s[0]*s[1]*cos(rad(s[2])))   \n",
       "27                                     [26.88, 336.0]   \n",
       "28              [0.742526244918245, 4.37694966641595]   \n",
       "29  [[150*sqrt(2)/cos(pi/36)], [300*sin(5*pi/18)/c...   \n",
       "..                                                ...   \n",
       "50           sin(alpha)**3 + sin(alpha)*cos(alpha)**2   \n",
       "51           sqrt((-sin(alpha) + 1)*(sin(alpha) + 1))   \n",
       "52                      sin(alpha)**4 - cos(alpha)**4   \n",
       "53  sin(alpha)*cos(alpha)**2 + cos(alpha)**3 + sin...   \n",
       "54  (sin(alpha)*cos(alpha))*(tan(alpha) + 1/tan(al...   \n",
       "55  (-sin(alpha)**2 + cos(alpha)**2)/(-sin(alpha)*...   \n",
       "56  (cos(alpha)**2 + sec(alpha)**2)/(-cos(alpha)**...   \n",
       "57                    cos(alpha)**2/(-sin(alpha) + 1)   \n",
       "58                     csc(alpha)/(cot(alpha)**2 + 1)   \n",
       "59         ['36.86989764584401', '3/5', '4/5', '3/4']   \n",
       "60       ['36.86989764584402', '3/5', '-4/5', '-3/4']   \n",
       "61       ['36.86989764584402', '3/5', '-4/5', '-3/4']   \n",
       "62          ['60.0', '-sqrt(3)/2', '1/2', '-sqrt(3)']   \n",
       "63        ['30.0', '-1/2', '-sqrt(3)/2', 'sqrt(3)/3']   \n",
       "64  ['26.56505117707799', '-sqrt(5)/5', '2*sqrt(5)...   \n",
       "65                                     sin(rad(-120))   \n",
       "66                                     sin(rad(2700))   \n",
       "67                                      cos(rad(-30))   \n",
       "68                                     cos(rad(3000))   \n",
       "69                                     tan(rad(-275))   \n",
       "70                                    tan(rad(10330))   \n",
       "71                                     cot(rad(-150))   \n",
       "72                                     cot(rad(4500))   \n",
       "73                                      sec(rad(-25))   \n",
       "74                                      sec(rad(745))   \n",
       "75                                     csc(rad(-155))   \n",
       "76                                     csc(rad(4420))   \n",
       "77                                                 53   \n",
       "78                                                127   \n",
       "79                                                143   \n",
       "\n",
       "                                             solucion  \\\n",
       "0   \\left [ \\frac{\\pi}{12}, \\quad \\frac{5 \\pi}{12}...   \n",
       "1                       \\left [ \\frac{\\pi}{3}\\right ]   \n",
       "2   \\left [ \\frac{\\pi}{9}, \\quad \\frac{5 \\pi}{9}\\r...   \n",
       "3                       \\left [ 45, \\quad 135\\right ]   \n",
       "4                                  \\left [ 90\\right ]   \n",
       "5   \\left [ 0, \\quad 90, \\quad 180, \\quad 270\\right ]   \n",
       "6   \\left [ 0, \\quad -180, \\quad 180, \\quad 360\\ri...   \n",
       "7                                   \\left [ 0\\right ]   \n",
       "8   \\left [ 150, \\quad 30, \\quad - \\frac{180 i \\lo...   \n",
       "9                       \\left [ -90, \\quad 90\\right ]   \n",
       "10  \\left [ -120, \\quad -150, \\quad 60, \\quad 30\\r...   \n",
       "11                                 \\left [ 45\\right ]   \n",
       "12  \\left [ 0, \\quad 180, \\quad -150, \\quad 150, \\...   \n",
       "13                                   \\left [ \\right ]   \n",
       "14  \\left [ -150, \\quad 150, \\quad -30, \\quad 30\\r...   \n",
       "15  \\left [ 180, \\quad - \\frac{180 i \\log{\\left (\\...   \n",
       "16  \\left [ 45, \\quad \\frac{180 \\operatorname{atan...   \n",
       "17  \\left [ \\frac{180 \\left(- \\frac{2 \\pi}{3} + 30...   \n",
       "18         6 \\sqrt{2},\\ 3 \\sqrt{2} + 3 \\sqrt{6},\\ 30º   \n",
       "19                               4,\\ 4 \\sqrt{3},\\ 90º   \n",
       "20  \\sqrt{- 70 \\sqrt{3} + 149} = 5.268438428052338...   \n",
       "21  distancia_{a recta}=33.77129851316955  \\to \\ma...   \n",
       "22  distancia_{a recta}=31.803911013888197  \\to \\m...   \n",
       "23  \\left [ 86.62771331656609, \\quad 50.4788036413...   \n",
       "24  2 \\sqrt{2} \\left(2 \\sqrt{2} + 2 \\sqrt{6}\\right...   \n",
       "25                                   6, 6, 6 \\sqrt{2}   \n",
       "26                     3 \\sqrt{19}=13.076696830622021   \n",
       "27                                              336.0   \n",
       "28  b=\\left [ 0.742526244918245, \\quad 4.376949666...   \n",
       "29          A:212.9423442649438\\ B:230.69118253280297   \n",
       "..                                                ...   \n",
       "50                       \\sin{\\left (\\alpha \\right )}   \n",
       "51            \\sqrt{\\cos^{2}{\\left (\\alpha \\right )}}   \n",
       "52                   - \\cos{\\left (2 \\alpha \\right )}   \n",
       "53  \\sqrt{2} \\sin{\\left (\\alpha + \\frac{\\pi}{4} \\r...   \n",
       "54                                                  1   \n",
       "55                                                  1   \n",
       "56  \\frac{\\left(- \\cos^{2}{\\left (\\alpha \\right )}...   \n",
       "57                   \\sin{\\left (\\alpha \\right )} + 1   \n",
       "58                       \\sin{\\left (\\alpha \\right )}   \n",
       "59  \\left [ 36.86989764584401, \\quad \\frac{3}{5}, ...   \n",
       "60  \\left [ 36.86989764584402, \\quad \\frac{3}{5}, ...   \n",
       "61  \\left [ 36.86989764584402, \\quad \\frac{3}{5}, ...   \n",
       "62  \\left [ 60.0, \\quad - \\frac{\\sqrt{3}}{2}, \\qua...   \n",
       "63  \\left [ 30.0, \\quad - \\frac{1}{2}, \\quad - \\fr...   \n",
       "64  \\left [ 26.56505117707799, \\quad - \\frac{\\sqrt...   \n",
       "65     \\left [ 60, \\quad - \\frac{\\sqrt{3}}{2}\\right ]   \n",
       "66                         \\left [ 0, \\quad 0\\right ]   \n",
       "67       \\left [ 30, \\quad \\frac{\\sqrt{3}}{2}\\right ]   \n",
       "68            \\left [ 60, \\quad - \\frac{1}{2}\\right ]   \n",
       "69  \\left [ \\frac{180 \\operatorname{atan}{\\left (\\...   \n",
       "70  \\left [ 70, \\quad \\tan{\\left (\\frac{7 \\pi}{18}...   \n",
       "71                 \\left [ 30, \\quad \\sqrt{3}\\right ]   \n",
       "72            \\left [ 0, \\quad \\tilde{\\infty}\\right ]   \n",
       "73  \\left [ 25, \\quad \\sec{\\left (\\frac{5 \\pi}{36}...   \n",
       "74  \\left [ 25, \\quad \\sec{\\left (\\frac{149 \\pi}{3...   \n",
       "75  \\left [ 25, \\quad - \\csc{\\left (\\frac{5 \\pi}{3...   \n",
       "76  \\left [ 80, \\quad \\csc{\\left (\\frac{4 \\pi}{9} ...   \n",
       "77         \\left [ 0.8, \\quad 0.6, \\quad 1.33\\right ]   \n",
       "78       \\left [ 0.8, \\quad -0.6, \\quad -1.33\\right ]   \n",
       "79       \\left [ 0.6, \\quad -0.8, \\quad -0.75\\right ]   \n",
       "\n",
       "                                                texto curso  \\\n",
       "0   Resolver las siguientes ecuaciones para ángulo...   1BC   \n",
       "1   Resolver las siguientes ecuaciones para ángulo...   1BC   \n",
       "2   Resolver las siguientes ecuaciones para ángulo...   1BC   \n",
       "3                 Resolver las siguientes ecuaciones:   1BC   \n",
       "4                 Resolver las siguientes ecuaciones:   1BC   \n",
       "5                 Resolver las siguientes ecuaciones:   1BC   \n",
       "6                 Resolver las siguientes ecuaciones:   1BC   \n",
       "7                 Resolver las siguientes ecuaciones:   1BC   \n",
       "8                 Resolver las siguientes ecuaciones:   1BC   \n",
       "9                 Resolver las siguientes ecuaciones:   1BC   \n",
       "10                Resolver las siguientes ecuaciones:   1BC   \n",
       "11                Resolver las siguientes ecuaciones:   1BC   \n",
       "12                Resolver las siguientes ecuaciones:   1BC   \n",
       "13                Resolver las siguientes ecuaciones:   1BC   \n",
       "14                Resolver las siguientes ecuaciones:   1BC   \n",
       "15                Resolver las siguientes ecuaciones:   1BC   \n",
       "16                Resolver las siguientes ecuaciones:   1BC   \n",
       "17                Resolver las siguientes ecuaciones:   1BC   \n",
       "18  Calcular los restantes elementos de un triángu...   1BC   \n",
       "19  Calcular los restantes elementos de un triángu...   1BC   \n",
       "20  Calcular los restantes elementos de un triángu...   1BC   \n",
       "21  Determina si se puede construir un triángulo A...   1BC   \n",
       "22  Determina si se puede construir un triángulo A...   1BC   \n",
       "23  Calcula los ángulo del triángulo ABC, si se co...   1BC   \n",
       "24     Calcular el área de un triángulo sabiendo que:   1BC   \n",
       "25   Calcular los lados de un triángulo sabiendo que:   1BC   \n",
       "26  Tres puntos A, B y C están unidos por carreter...   1BC   \n",
       "27  Calcular el área de un triángulo ABC sabiendo que   1BC   \n",
       "28                                           Resuelve   1BC   \n",
       "29                                           Resuelve   1BC   \n",
       "..                                                ...   ...   \n",
       "50            Simplificar las siguientes expresiones:   1BC   \n",
       "51            Simplificar las siguientes expresiones:   1BC   \n",
       "52            Simplificar las siguientes expresiones:   1BC   \n",
       "53            Simplificar las siguientes expresiones:   1BC   \n",
       "54            Simplificar las siguientes expresiones:   1BC   \n",
       "55            Simplificar las siguientes expresiones:   1BC   \n",
       "56            Simplificar las siguientes expresiones:   1BC   \n",
       "57            Simplificar las siguientes expresiones:   1BC   \n",
       "58            Simplificar las siguientes expresiones:   1BC   \n",
       "59  Calcular las restantes razones trigonométricas...   1BC   \n",
       "60  Calcular las restantes razones trigonométricas...   1BC   \n",
       "61  Calcular las restantes razones trigonométricas...   1BC   \n",
       "62  Calcular las restantes razones trigonométricas...   1BC   \n",
       "63  Calcular las restantes razones trigonométricas...   1BC   \n",
       "64  Calcular las restantes razones trigonométricas...   1BC   \n",
       "65  Expresa las siguientes razones trigonométricas...   1BC   \n",
       "66  Expresa las siguientes razones trigonométricas...   1BC   \n",
       "67  Expresa las siguientes razones trigonométricas...   1BC   \n",
       "68  Expresa las siguientes razones trigonométricas...   1BC   \n",
       "69  Expresa las siguientes razones trigonométricas...   1BC   \n",
       "70  Expresa las siguientes razones trigonométricas...   1BC   \n",
       "71  Expresa las siguientes razones trigonométricas...   1BC   \n",
       "72  Expresa las siguientes razones trigonométricas...   1BC   \n",
       "73  Expresa las siguientes razones trigonométricas...   1BC   \n",
       "74  Expresa las siguientes razones trigonométricas...   1BC   \n",
       "75  Expresa las siguientes razones trigonométricas...   1BC   \n",
       "76  Expresa las siguientes razones trigonométricas...   1BC   \n",
       "77  Si sen 37º = 0,6. Calcula, sin usar la calcula...   1BC   \n",
       "78  Si sen 37º = 0,6. Calcula, sin usar la calcula...   1BC   \n",
       "79  Si sen 37º = 0,6. Calcula, sin usar la calcula...   1BC   \n",
       "\n",
       "                titulo n_ejercicio  dificultad  n_columnas  puntos  enun_tex  \\\n",
       "0   23 - Trigonometría     p041e27           1           1       1      True   \n",
       "1   23 - Trigonometría     p041e27           1           1       1      True   \n",
       "2   23 - Trigonometría     p041e27           1           1       1      True   \n",
       "3   23 - Trigonometría     p041e28           1           1       1      True   \n",
       "4   23 - Trigonometría     p041e28           1           1       1      True   \n",
       "5   23 - Trigonometría     p041e28           1           1       1      True   \n",
       "6   23 - Trigonometría     p041e28           1           1       1      True   \n",
       "7   23 - Trigonometría     p041e28           1           1       1      True   \n",
       "8   23 - Trigonometría     p041e28           1           1       1      True   \n",
       "9   23 - Trigonometría     p041e28           1           1       1      True   \n",
       "10  23 - Trigonometría     p041e28           1           1       1      True   \n",
       "11  23 - Trigonometría     p041e28           1           1       1      True   \n",
       "12  23 - Trigonometría     p041e28           1           1       1      True   \n",
       "13  23 - Trigonometría     p041e28           1           1       1      True   \n",
       "14  23 - Trigonometría     p041e28           1           1       1      True   \n",
       "15  23 - Trigonometría     p041e28           1           1       1      True   \n",
       "16  23 - Trigonometría     p041e28           1           1       1      True   \n",
       "17  23 - Trigonometría     p041e28           1           1       1      True   \n",
       "18  23 - Trigonometría     p042e01           1           1       1     False   \n",
       "19  23 - Trigonometría     p042e01           1           1       1     False   \n",
       "20  23 - Trigonometría     p042e02           1           1       1     False   \n",
       "21  23 - Trigonometría     p042e03           1           1       1     False   \n",
       "22  23 - Trigonometría     p042e03           1           1       1     False   \n",
       "23  23 - Trigonometría     p042e04           1           1       1     False   \n",
       "24  23 - Trigonometría     p042e07           1           1       1     False   \n",
       "25  23 - Trigonometría     p042e08           1           1       1     False   \n",
       "26  23 - Trigonometría     p042e09           1           1       1     False   \n",
       "27  23 - Trigonometría     p042e10           1           1       1     False   \n",
       "28  23 - Trigonometría     p042e11           1           1       1     False   \n",
       "29  23 - Trigonometría     p042e12           1           1       1     False   \n",
       "..                 ...         ...         ...         ...     ...       ...   \n",
       "50  23 - Trigonometría     p039e07           1           1       1      True   \n",
       "51  23 - Trigonometría     p039e07           1           1       1      True   \n",
       "52  23 - Trigonometría     p039e07           1           1       1      True   \n",
       "53  23 - Trigonometría     p039e07           1           1       1      True   \n",
       "54  23 - Trigonometría     p039e07           1           1       1      True   \n",
       "55  23 - Trigonometría     p039e07           1           1       1      True   \n",
       "56  23 - Trigonometría     p039e07           1           1       1      True   \n",
       "57  23 - Trigonometría     p039e07           1           1       1      True   \n",
       "58  23 - Trigonometría     p039e07           1           1       1      True   \n",
       "59  23 - Trigonometría     p039e08           1           1       1      True   \n",
       "60  23 - Trigonometría     p039e08           1           1       1      True   \n",
       "61  23 - Trigonometría     p039e08           1           1       1      True   \n",
       "62  23 - Trigonometría     p039e08           1           1       1      True   \n",
       "63  23 - Trigonometría     p039e08           1           1       1      True   \n",
       "64  23 - Trigonometría     p039e08           1           1       1      True   \n",
       "65  23 - Trigonometría     p039e09           1           2       1      True   \n",
       "66  23 - Trigonometría     p039e09           1           2       1      True   \n",
       "67  23 - Trigonometría     p039e09           1           2       1      True   \n",
       "68  23 - Trigonometría     p039e09           1           2       1      True   \n",
       "69  23 - Trigonometría     p039e09           1           2       1      True   \n",
       "70  23 - Trigonometría     p039e09           1           2       1      True   \n",
       "71  23 - Trigonometría     p039e09           1           2       1      True   \n",
       "72  23 - Trigonometría     p039e09           1           2       1      True   \n",
       "73  23 - Trigonometría     p039e09           1           2       1      True   \n",
       "74  23 - Trigonometría     p039e09           1           2       1      True   \n",
       "75  23 - Trigonometría     p039e09           1           2       1      True   \n",
       "76  23 - Trigonometría     p039e09           1           2       1      True   \n",
       "77  23 - Trigonometría     p039e10           1           2       1      True   \n",
       "78  23 - Trigonometría     p039e10           1           2       1      True   \n",
       "79  23 - Trigonometría     p039e10           1           2       1      True   \n",
       "\n",
       "    sol_tex  \n",
       "0      True  \n",
       "1      True  \n",
       "2      True  \n",
       "3      True  \n",
       "4      True  \n",
       "5      True  \n",
       "6      True  \n",
       "7      True  \n",
       "8      True  \n",
       "9      True  \n",
       "10     True  \n",
       "11     True  \n",
       "12     True  \n",
       "13     True  \n",
       "14     True  \n",
       "15     True  \n",
       "16     True  \n",
       "17     True  \n",
       "18     True  \n",
       "19     True  \n",
       "20     True  \n",
       "21     True  \n",
       "22     True  \n",
       "23     True  \n",
       "24     True  \n",
       "25     True  \n",
       "26     True  \n",
       "27     True  \n",
       "28     True  \n",
       "29     True  \n",
       "..      ...  \n",
       "50     True  \n",
       "51     True  \n",
       "52     True  \n",
       "53     True  \n",
       "54     True  \n",
       "55     True  \n",
       "56     True  \n",
       "57     True  \n",
       "58     True  \n",
       "59     True  \n",
       "60     True  \n",
       "61     True  \n",
       "62     True  \n",
       "63     True  \n",
       "64     True  \n",
       "65     True  \n",
       "66     True  \n",
       "67     True  \n",
       "68     True  \n",
       "69     True  \n",
       "70     True  \n",
       "71     True  \n",
       "72     True  \n",
       "73     True  \n",
       "74     True  \n",
       "75     True  \n",
       "76     True  \n",
       "77     True  \n",
       "78     True  \n",
       "79     True  \n",
       "\n",
       "[80 rows x 12 columns]"
      ]
     },
     "execution_count": 24,
     "metadata": {},
     "output_type": "execute_result"
    }
   ],
   "source": [
    "df_ejercicios"
   ]
  },
  {
   "cell_type": "code",
   "execution_count": 25,
   "metadata": {
    "scrolled": false
   },
   "outputs": [
    {
     "data": {
      "text/markdown": [
       "**Ejercicio: **p039e01"
      ],
      "text/plain": [
       "<IPython.core.display.Markdown object>"
      ]
     },
     "metadata": {},
     "output_type": "display_data"
    },
    {
     "data": {
      "text/html": [
       "<div>\n",
       "<style scoped>\n",
       "    .dataframe tbody tr th:only-of-type {\n",
       "        vertical-align: middle;\n",
       "    }\n",
       "\n",
       "    .dataframe tbody tr th {\n",
       "        vertical-align: top;\n",
       "    }\n",
       "\n",
       "    .dataframe thead th {\n",
       "        text-align: right;\n",
       "    }\n",
       "</style>\n",
       "<table border=\"1\" class=\"dataframe\">\n",
       "  <thead>\n",
       "    <tr style=\"text-align: right;\">\n",
       "      <th></th>\n",
       "      <th>enunciado_latex</th>\n",
       "      <th>enunciado</th>\n",
       "      <th>solucion</th>\n",
       "      <th>texto</th>\n",
       "      <th>curso</th>\n",
       "      <th>titulo</th>\n",
       "      <th>n_ejercicio</th>\n",
       "      <th>dificultad</th>\n",
       "      <th>n_columnas</th>\n",
       "      <th>puntos</th>\n",
       "      <th>enun_tex</th>\n",
       "      <th>sol_tex</th>\n",
       "    </tr>\n",
       "  </thead>\n",
       "  <tbody>\n",
       "    <tr>\n",
       "      <th>31</th>\n",
       "      <td>45º</td>\n",
       "      <td>45</td>\n",
       "      <td>\\frac{\\pi}{4}</td>\n",
       "      <td>Expresa en radianes los siguientes ángulos, da...</td>\n",
       "      <td>1BC</td>\n",
       "      <td>23 - Trigonometría</td>\n",
       "      <td>p039e01</td>\n",
       "      <td>1</td>\n",
       "      <td>3</td>\n",
       "      <td>1</td>\n",
       "      <td>False</td>\n",
       "      <td>True</td>\n",
       "    </tr>\n",
       "    <tr>\n",
       "      <th>32</th>\n",
       "      <td>75º</td>\n",
       "      <td>75</td>\n",
       "      <td>\\frac{5 \\pi}{12}</td>\n",
       "      <td>Expresa en radianes los siguientes ángulos, da...</td>\n",
       "      <td>1BC</td>\n",
       "      <td>23 - Trigonometría</td>\n",
       "      <td>p039e01</td>\n",
       "      <td>1</td>\n",
       "      <td>3</td>\n",
       "      <td>1</td>\n",
       "      <td>False</td>\n",
       "      <td>True</td>\n",
       "    </tr>\n",
       "    <tr>\n",
       "      <th>33</th>\n",
       "      <td>105º</td>\n",
       "      <td>105</td>\n",
       "      <td>\\frac{7 \\pi}{12}</td>\n",
       "      <td>Expresa en radianes los siguientes ángulos, da...</td>\n",
       "      <td>1BC</td>\n",
       "      <td>23 - Trigonometría</td>\n",
       "      <td>p039e01</td>\n",
       "      <td>1</td>\n",
       "      <td>3</td>\n",
       "      <td>1</td>\n",
       "      <td>False</td>\n",
       "      <td>True</td>\n",
       "    </tr>\n",
       "    <tr>\n",
       "      <th>34</th>\n",
       "      <td>230º</td>\n",
       "      <td>230</td>\n",
       "      <td>\\frac{23 \\pi}{18}</td>\n",
       "      <td>Expresa en radianes los siguientes ángulos, da...</td>\n",
       "      <td>1BC</td>\n",
       "      <td>23 - Trigonometría</td>\n",
       "      <td>p039e01</td>\n",
       "      <td>1</td>\n",
       "      <td>3</td>\n",
       "      <td>1</td>\n",
       "      <td>False</td>\n",
       "      <td>True</td>\n",
       "    </tr>\n",
       "  </tbody>\n",
       "</table>\n",
       "</div>"
      ],
      "text/plain": [
       "   enunciado_latex enunciado           solucion  \\\n",
       "31             45º        45      \\frac{\\pi}{4}   \n",
       "32             75º        75   \\frac{5 \\pi}{12}   \n",
       "33            105º       105   \\frac{7 \\pi}{12}   \n",
       "34            230º       230  \\frac{23 \\pi}{18}   \n",
       "\n",
       "                                                texto curso  \\\n",
       "31  Expresa en radianes los siguientes ángulos, da...   1BC   \n",
       "32  Expresa en radianes los siguientes ángulos, da...   1BC   \n",
       "33  Expresa en radianes los siguientes ángulos, da...   1BC   \n",
       "34  Expresa en radianes los siguientes ángulos, da...   1BC   \n",
       "\n",
       "                titulo n_ejercicio  dificultad  n_columnas  puntos  enun_tex  \\\n",
       "31  23 - Trigonometría     p039e01           1           3       1     False   \n",
       "32  23 - Trigonometría     p039e01           1           3       1     False   \n",
       "33  23 - Trigonometría     p039e01           1           3       1     False   \n",
       "34  23 - Trigonometría     p039e01           1           3       1     False   \n",
       "\n",
       "    sol_tex  \n",
       "31     True  \n",
       "32     True  \n",
       "33     True  \n",
       "34     True  "
      ]
     },
     "metadata": {},
     "output_type": "display_data"
    },
    {
     "data": {
      "text/markdown": [
       "**Ejercicio: **p039e02"
      ],
      "text/plain": [
       "<IPython.core.display.Markdown object>"
      ]
     },
     "metadata": {},
     "output_type": "display_data"
    },
    {
     "data": {
      "text/html": [
       "<div>\n",
       "<style scoped>\n",
       "    .dataframe tbody tr th:only-of-type {\n",
       "        vertical-align: middle;\n",
       "    }\n",
       "\n",
       "    .dataframe tbody tr th {\n",
       "        vertical-align: top;\n",
       "    }\n",
       "\n",
       "    .dataframe thead th {\n",
       "        text-align: right;\n",
       "    }\n",
       "</style>\n",
       "<table border=\"1\" class=\"dataframe\">\n",
       "  <thead>\n",
       "    <tr style=\"text-align: right;\">\n",
       "      <th></th>\n",
       "      <th>enunciado_latex</th>\n",
       "      <th>enunciado</th>\n",
       "      <th>solucion</th>\n",
       "      <th>texto</th>\n",
       "      <th>curso</th>\n",
       "      <th>titulo</th>\n",
       "      <th>n_ejercicio</th>\n",
       "      <th>dificultad</th>\n",
       "      <th>n_columnas</th>\n",
       "      <th>puntos</th>\n",
       "      <th>enun_tex</th>\n",
       "      <th>sol_tex</th>\n",
       "    </tr>\n",
       "  </thead>\n",
       "  <tbody>\n",
       "    <tr>\n",
       "      <th>35</th>\n",
       "      <td>\\frac{{3\\pi }}{4}</td>\n",
       "      <td>(3*pi)/4</td>\n",
       "      <td>135</td>\n",
       "      <td>Expresa en grados los siguientes ángulos dados...</td>\n",
       "      <td>1BC</td>\n",
       "      <td>23 - Trigonometría</td>\n",
       "      <td>p039e02</td>\n",
       "      <td>1</td>\n",
       "      <td>3</td>\n",
       "      <td>1</td>\n",
       "      <td>True</td>\n",
       "      <td>True</td>\n",
       "    </tr>\n",
       "    <tr>\n",
       "      <th>36</th>\n",
       "      <td>\\frac{{{5}\\pi }}{{3}}</td>\n",
       "      <td>(5*pi)/3</td>\n",
       "      <td>300</td>\n",
       "      <td>Expresa en grados los siguientes ángulos dados...</td>\n",
       "      <td>1BC</td>\n",
       "      <td>23 - Trigonometría</td>\n",
       "      <td>p039e02</td>\n",
       "      <td>1</td>\n",
       "      <td>3</td>\n",
       "      <td>1</td>\n",
       "      <td>True</td>\n",
       "      <td>True</td>\n",
       "    </tr>\n",
       "    <tr>\n",
       "      <th>37</th>\n",
       "      <td>\\frac{{{{3}}\\pi }}{{{2}}}</td>\n",
       "      <td>(3*pi)/2</td>\n",
       "      <td>270</td>\n",
       "      <td>Expresa en grados los siguientes ángulos dados...</td>\n",
       "      <td>1BC</td>\n",
       "      <td>23 - Trigonometría</td>\n",
       "      <td>p039e02</td>\n",
       "      <td>1</td>\n",
       "      <td>3</td>\n",
       "      <td>1</td>\n",
       "      <td>True</td>\n",
       "      <td>True</td>\n",
       "    </tr>\n",
       "    <tr>\n",
       "      <th>38</th>\n",
       "      <td>\\frac{{{{9}}\\pi }}{{{2}}}</td>\n",
       "      <td>(9*pi)/2</td>\n",
       "      <td>810</td>\n",
       "      <td>Expresa en grados los siguientes ángulos dados...</td>\n",
       "      <td>1BC</td>\n",
       "      <td>23 - Trigonometría</td>\n",
       "      <td>p039e02</td>\n",
       "      <td>1</td>\n",
       "      <td>3</td>\n",
       "      <td>1</td>\n",
       "      <td>True</td>\n",
       "      <td>True</td>\n",
       "    </tr>\n",
       "    <tr>\n",
       "      <th>39</th>\n",
       "      <td>\\frac{{{{4}}\\pi }}{{{3}}}</td>\n",
       "      <td>(4*pi)/3</td>\n",
       "      <td>240</td>\n",
       "      <td>Expresa en grados los siguientes ángulos dados...</td>\n",
       "      <td>1BC</td>\n",
       "      <td>23 - Trigonometría</td>\n",
       "      <td>p039e02</td>\n",
       "      <td>1</td>\n",
       "      <td>3</td>\n",
       "      <td>1</td>\n",
       "      <td>True</td>\n",
       "      <td>True</td>\n",
       "    </tr>\n",
       "  </tbody>\n",
       "</table>\n",
       "</div>"
      ],
      "text/plain": [
       "              enunciado_latex enunciado solucion  \\\n",
       "35          \\frac{{3\\pi }}{4}  (3*pi)/4      135   \n",
       "36      \\frac{{{5}\\pi }}{{3}}  (5*pi)/3      300   \n",
       "37  \\frac{{{{3}}\\pi }}{{{2}}}  (3*pi)/2      270   \n",
       "38  \\frac{{{{9}}\\pi }}{{{2}}}  (9*pi)/2      810   \n",
       "39  \\frac{{{{4}}\\pi }}{{{3}}}  (4*pi)/3      240   \n",
       "\n",
       "                                                texto curso  \\\n",
       "35  Expresa en grados los siguientes ángulos dados...   1BC   \n",
       "36  Expresa en grados los siguientes ángulos dados...   1BC   \n",
       "37  Expresa en grados los siguientes ángulos dados...   1BC   \n",
       "38  Expresa en grados los siguientes ángulos dados...   1BC   \n",
       "39  Expresa en grados los siguientes ángulos dados...   1BC   \n",
       "\n",
       "                titulo n_ejercicio  dificultad  n_columnas  puntos  enun_tex  \\\n",
       "35  23 - Trigonometría     p039e02           1           3       1      True   \n",
       "36  23 - Trigonometría     p039e02           1           3       1      True   \n",
       "37  23 - Trigonometría     p039e02           1           3       1      True   \n",
       "38  23 - Trigonometría     p039e02           1           3       1      True   \n",
       "39  23 - Trigonometría     p039e02           1           3       1      True   \n",
       "\n",
       "    sol_tex  \n",
       "35     True  \n",
       "36     True  \n",
       "37     True  \n",
       "38     True  \n",
       "39     True  "
      ]
     },
     "metadata": {},
     "output_type": "display_data"
    },
    {
     "data": {
      "text/markdown": [
       "**Ejercicio: **p039e05y6"
      ],
      "text/plain": [
       "<IPython.core.display.Markdown object>"
      ]
     },
     "metadata": {},
     "output_type": "display_data"
    },
    {
     "data": {
      "text/html": [
       "<div>\n",
       "<style scoped>\n",
       "    .dataframe tbody tr th:only-of-type {\n",
       "        vertical-align: middle;\n",
       "    }\n",
       "\n",
       "    .dataframe tbody tr th {\n",
       "        vertical-align: top;\n",
       "    }\n",
       "\n",
       "    .dataframe thead th {\n",
       "        text-align: right;\n",
       "    }\n",
       "</style>\n",
       "<table border=\"1\" class=\"dataframe\">\n",
       "  <thead>\n",
       "    <tr style=\"text-align: right;\">\n",
       "      <th></th>\n",
       "      <th>enunciado_latex</th>\n",
       "      <th>enunciado</th>\n",
       "      <th>solucion</th>\n",
       "      <th>texto</th>\n",
       "      <th>curso</th>\n",
       "      <th>titulo</th>\n",
       "      <th>n_ejercicio</th>\n",
       "      <th>dificultad</th>\n",
       "      <th>n_columnas</th>\n",
       "      <th>puntos</th>\n",
       "      <th>enun_tex</th>\n",
       "      <th>sol_tex</th>\n",
       "    </tr>\n",
       "  </thead>\n",
       "  <tbody>\n",
       "    <tr>\n",
       "      <th>40</th>\n",
       "      <td>\\sec^2\\alpha+\\csc^2\\alpha={\\sec^2\\alpha}\\cdot{...</td>\n",
       "      <td>Eq(csc(alpha)**2 + sec(alpha)**2, csc(alpha)**...</td>\n",
       "      <td>\\left [ \\frac{8}{- \\cos{\\left (4 \\alpha \\right...</td>\n",
       "      <td>Demostrar si son verdaderas o falsas las sigui...</td>\n",
       "      <td>1BC</td>\n",
       "      <td>23 - Trigonometría</td>\n",
       "      <td>p039e05y6</td>\n",
       "      <td>1</td>\n",
       "      <td>1</td>\n",
       "      <td>1</td>\n",
       "      <td>True</td>\n",
       "      <td>True</td>\n",
       "    </tr>\n",
       "    <tr>\n",
       "      <th>41</th>\n",
       "      <td>\\frac{\\tan\\alpha+\\tan\\beta}{\\cot\\alpha+\\cot\\be...</td>\n",
       "      <td>Eq((tan(alpha) + tan(beta))/(cot(alpha) + cot(...</td>\n",
       "      <td>\\left [ \\tan{\\left (\\alpha \\right )} \\tan{\\lef...</td>\n",
       "      <td>Demostrar si son verdaderas o falsas las sigui...</td>\n",
       "      <td>1BC</td>\n",
       "      <td>23 - Trigonometría</td>\n",
       "      <td>p039e05y6</td>\n",
       "      <td>1</td>\n",
       "      <td>1</td>\n",
       "      <td>1</td>\n",
       "      <td>True</td>\n",
       "      <td>True</td>\n",
       "    </tr>\n",
       "    <tr>\n",
       "      <th>42</th>\n",
       "      <td>\\frac{{\\sin\\alpha}\\cdot{\\cos\\alpha}}{{\\cos^2\\a...</td>\n",
       "      <td>Eq((sin(alpha)*cos(alpha))/(-sin(alpha)**2 + c...</td>\n",
       "      <td>\\left [ \\frac{\\tan{\\left (2 \\alpha \\right )}}{...</td>\n",
       "      <td>Demostrar si son verdaderas o falsas las sigui...</td>\n",
       "      <td>1BC</td>\n",
       "      <td>23 - Trigonometría</td>\n",
       "      <td>p039e05y6</td>\n",
       "      <td>1</td>\n",
       "      <td>1</td>\n",
       "      <td>1</td>\n",
       "      <td>True</td>\n",
       "      <td>True</td>\n",
       "    </tr>\n",
       "    <tr>\n",
       "      <th>43</th>\n",
       "      <td>\\cot\\alpha-\\frac{{\\cot^2\\alpha}-1}{\\cot\\alpha}...</td>\n",
       "      <td>Eq(-(cot(alpha)**2 - 1)/cot(alpha) + cot(alpha...</td>\n",
       "      <td>\\left [ \\tan{\\left (\\alpha \\right )}, \\quad \\t...</td>\n",
       "      <td>Demostrar si son verdaderas o falsas las sigui...</td>\n",
       "      <td>1BC</td>\n",
       "      <td>23 - Trigonometría</td>\n",
       "      <td>p039e05y6</td>\n",
       "      <td>1</td>\n",
       "      <td>1</td>\n",
       "      <td>1</td>\n",
       "      <td>True</td>\n",
       "      <td>True</td>\n",
       "    </tr>\n",
       "    <tr>\n",
       "      <th>44</th>\n",
       "      <td>\\frac{\\sin\\alpha+ \\cot \\alpha}{\\tan\\alpha+ \\cs...</td>\n",
       "      <td>Eq((sin(alpha) + cot(alpha))/(tan(alpha) + csc...</td>\n",
       "      <td>\\left [ \\cos{\\left (\\alpha \\right )}, \\quad \\c...</td>\n",
       "      <td>Demostrar si son verdaderas o falsas las sigui...</td>\n",
       "      <td>1BC</td>\n",
       "      <td>23 - Trigonometría</td>\n",
       "      <td>p039e05y6</td>\n",
       "      <td>1</td>\n",
       "      <td>1</td>\n",
       "      <td>1</td>\n",
       "      <td>True</td>\n",
       "      <td>True</td>\n",
       "    </tr>\n",
       "    <tr>\n",
       "      <th>45</th>\n",
       "      <td>\\cot^2\\alpha-\\cos^2\\alpha={\\cot^2\\alpha}\\cdot{...</td>\n",
       "      <td>Eq(-cos(alpha)**2 + cot(alpha)**2, cos(alpha)*...</td>\n",
       "      <td>\\left [ - \\cos^{2}{\\left (\\alpha \\right )} + \\...</td>\n",
       "      <td>Demostrar si son verdaderas o falsas las sigui...</td>\n",
       "      <td>1BC</td>\n",
       "      <td>23 - Trigonometría</td>\n",
       "      <td>p039e05y6</td>\n",
       "      <td>1</td>\n",
       "      <td>1</td>\n",
       "      <td>1</td>\n",
       "      <td>True</td>\n",
       "      <td>True</td>\n",
       "    </tr>\n",
       "    <tr>\n",
       "      <th>46</th>\n",
       "      <td>\\sin\\alpha\\cos\\alpha\\tan\\alpha\\cot\\alpha\\sec\\a...</td>\n",
       "      <td>Eq(((((csc(alpha)*sec(alpha))*cot(alpha))*tan(...</td>\n",
       "      <td>\\left [ 1, \\quad 1\\right ] \\to \\mathrm{True}</td>\n",
       "      <td>Demostrar si son verdaderas o falsas las sigui...</td>\n",
       "      <td>1BC</td>\n",
       "      <td>23 - Trigonometría</td>\n",
       "      <td>p039e05y6</td>\n",
       "      <td>1</td>\n",
       "      <td>1</td>\n",
       "      <td>1</td>\n",
       "      <td>True</td>\n",
       "      <td>True</td>\n",
       "    </tr>\n",
       "    <tr>\n",
       "      <th>47</th>\n",
       "      <td>\\frac{1+\\tan\\alpha}{1-\\tan\\alpha}=\\frac{\\cos\\a...</td>\n",
       "      <td>Eq((tan(alpha) + 1)/(-tan(alpha) + 1), (sin(al...</td>\n",
       "      <td>\\left [ \\frac{\\tan{\\left (\\alpha \\right )} + 1...</td>\n",
       "      <td>Demostrar si son verdaderas o falsas las sigui...</td>\n",
       "      <td>1BC</td>\n",
       "      <td>23 - Trigonometría</td>\n",
       "      <td>p039e05y6</td>\n",
       "      <td>1</td>\n",
       "      <td>1</td>\n",
       "      <td>1</td>\n",
       "      <td>True</td>\n",
       "      <td>True</td>\n",
       "    </tr>\n",
       "    <tr>\n",
       "      <th>48</th>\n",
       "      <td>\\frac{1+\\tan^2\\alpha}{\\cot\\alpha}=\\frac{\\tan\\a...</td>\n",
       "      <td>Eq((tan(alpha)**2 + 1)/cot(alpha), tan(alpha)/...</td>\n",
       "      <td>\\left [ \\frac{\\tan{\\left (\\alpha \\right )}}{\\c...</td>\n",
       "      <td>Demostrar si son verdaderas o falsas las sigui...</td>\n",
       "      <td>1BC</td>\n",
       "      <td>23 - Trigonometría</td>\n",
       "      <td>p039e05y6</td>\n",
       "      <td>1</td>\n",
       "      <td>1</td>\n",
       "      <td>1</td>\n",
       "      <td>True</td>\n",
       "      <td>True</td>\n",
       "    </tr>\n",
       "  </tbody>\n",
       "</table>\n",
       "</div>"
      ],
      "text/plain": [
       "                                      enunciado_latex  \\\n",
       "40  \\sec^2\\alpha+\\csc^2\\alpha={\\sec^2\\alpha}\\cdot{...   \n",
       "41  \\frac{\\tan\\alpha+\\tan\\beta}{\\cot\\alpha+\\cot\\be...   \n",
       "42  \\frac{{\\sin\\alpha}\\cdot{\\cos\\alpha}}{{\\cos^2\\a...   \n",
       "43  \\cot\\alpha-\\frac{{\\cot^2\\alpha}-1}{\\cot\\alpha}...   \n",
       "44  \\frac{\\sin\\alpha+ \\cot \\alpha}{\\tan\\alpha+ \\cs...   \n",
       "45  \\cot^2\\alpha-\\cos^2\\alpha={\\cot^2\\alpha}\\cdot{...   \n",
       "46  \\sin\\alpha\\cos\\alpha\\tan\\alpha\\cot\\alpha\\sec\\a...   \n",
       "47  \\frac{1+\\tan\\alpha}{1-\\tan\\alpha}=\\frac{\\cos\\a...   \n",
       "48  \\frac{1+\\tan^2\\alpha}{\\cot\\alpha}=\\frac{\\tan\\a...   \n",
       "\n",
       "                                            enunciado  \\\n",
       "40  Eq(csc(alpha)**2 + sec(alpha)**2, csc(alpha)**...   \n",
       "41  Eq((tan(alpha) + tan(beta))/(cot(alpha) + cot(...   \n",
       "42  Eq((sin(alpha)*cos(alpha))/(-sin(alpha)**2 + c...   \n",
       "43  Eq(-(cot(alpha)**2 - 1)/cot(alpha) + cot(alpha...   \n",
       "44  Eq((sin(alpha) + cot(alpha))/(tan(alpha) + csc...   \n",
       "45  Eq(-cos(alpha)**2 + cot(alpha)**2, cos(alpha)*...   \n",
       "46  Eq(((((csc(alpha)*sec(alpha))*cot(alpha))*tan(...   \n",
       "47  Eq((tan(alpha) + 1)/(-tan(alpha) + 1), (sin(al...   \n",
       "48  Eq((tan(alpha)**2 + 1)/cot(alpha), tan(alpha)/...   \n",
       "\n",
       "                                             solucion  \\\n",
       "40  \\left [ \\frac{8}{- \\cos{\\left (4 \\alpha \\right...   \n",
       "41  \\left [ \\tan{\\left (\\alpha \\right )} \\tan{\\lef...   \n",
       "42  \\left [ \\frac{\\tan{\\left (2 \\alpha \\right )}}{...   \n",
       "43  \\left [ \\tan{\\left (\\alpha \\right )}, \\quad \\t...   \n",
       "44  \\left [ \\cos{\\left (\\alpha \\right )}, \\quad \\c...   \n",
       "45  \\left [ - \\cos^{2}{\\left (\\alpha \\right )} + \\...   \n",
       "46       \\left [ 1, \\quad 1\\right ] \\to \\mathrm{True}   \n",
       "47  \\left [ \\frac{\\tan{\\left (\\alpha \\right )} + 1...   \n",
       "48  \\left [ \\frac{\\tan{\\left (\\alpha \\right )}}{\\c...   \n",
       "\n",
       "                                                texto curso  \\\n",
       "40  Demostrar si son verdaderas o falsas las sigui...   1BC   \n",
       "41  Demostrar si son verdaderas o falsas las sigui...   1BC   \n",
       "42  Demostrar si son verdaderas o falsas las sigui...   1BC   \n",
       "43  Demostrar si son verdaderas o falsas las sigui...   1BC   \n",
       "44  Demostrar si son verdaderas o falsas las sigui...   1BC   \n",
       "45  Demostrar si son verdaderas o falsas las sigui...   1BC   \n",
       "46  Demostrar si son verdaderas o falsas las sigui...   1BC   \n",
       "47  Demostrar si son verdaderas o falsas las sigui...   1BC   \n",
       "48  Demostrar si son verdaderas o falsas las sigui...   1BC   \n",
       "\n",
       "                titulo n_ejercicio  dificultad  n_columnas  puntos  enun_tex  \\\n",
       "40  23 - Trigonometría   p039e05y6           1           1       1      True   \n",
       "41  23 - Trigonometría   p039e05y6           1           1       1      True   \n",
       "42  23 - Trigonometría   p039e05y6           1           1       1      True   \n",
       "43  23 - Trigonometría   p039e05y6           1           1       1      True   \n",
       "44  23 - Trigonometría   p039e05y6           1           1       1      True   \n",
       "45  23 - Trigonometría   p039e05y6           1           1       1      True   \n",
       "46  23 - Trigonometría   p039e05y6           1           1       1      True   \n",
       "47  23 - Trigonometría   p039e05y6           1           1       1      True   \n",
       "48  23 - Trigonometría   p039e05y6           1           1       1      True   \n",
       "\n",
       "    sol_tex  \n",
       "40     True  \n",
       "41     True  \n",
       "42     True  \n",
       "43     True  \n",
       "44     True  \n",
       "45     True  \n",
       "46     True  \n",
       "47     True  \n",
       "48     True  "
      ]
     },
     "metadata": {},
     "output_type": "display_data"
    },
    {
     "data": {
      "text/markdown": [
       "**Ejercicio: **p039e07"
      ],
      "text/plain": [
       "<IPython.core.display.Markdown object>"
      ]
     },
     "metadata": {},
     "output_type": "display_data"
    },
    {
     "data": {
      "text/html": [
       "<div>\n",
       "<style scoped>\n",
       "    .dataframe tbody tr th:only-of-type {\n",
       "        vertical-align: middle;\n",
       "    }\n",
       "\n",
       "    .dataframe tbody tr th {\n",
       "        vertical-align: top;\n",
       "    }\n",
       "\n",
       "    .dataframe thead th {\n",
       "        text-align: right;\n",
       "    }\n",
       "</style>\n",
       "<table border=\"1\" class=\"dataframe\">\n",
       "  <thead>\n",
       "    <tr style=\"text-align: right;\">\n",
       "      <th></th>\n",
       "      <th>enunciado_latex</th>\n",
       "      <th>enunciado</th>\n",
       "      <th>solucion</th>\n",
       "      <th>texto</th>\n",
       "      <th>curso</th>\n",
       "      <th>titulo</th>\n",
       "      <th>n_ejercicio</th>\n",
       "      <th>dificultad</th>\n",
       "      <th>n_columnas</th>\n",
       "      <th>puntos</th>\n",
       "      <th>enun_tex</th>\n",
       "      <th>sol_tex</th>\n",
       "    </tr>\n",
       "  </thead>\n",
       "  <tbody>\n",
       "    <tr>\n",
       "      <th>49</th>\n",
       "      <td>{\\sin\\alpha}\\cdot{\\frac{1}{\\tan\\alpha}}</td>\n",
       "      <td>sin(alpha)/tan(alpha)</td>\n",
       "      <td>\\cos{\\left (\\alpha \\right )}</td>\n",
       "      <td>Simplificar las siguientes expresiones:</td>\n",
       "      <td>1BC</td>\n",
       "      <td>23 - Trigonometría</td>\n",
       "      <td>p039e07</td>\n",
       "      <td>1</td>\n",
       "      <td>1</td>\n",
       "      <td>1</td>\n",
       "      <td>True</td>\n",
       "      <td>True</td>\n",
       "    </tr>\n",
       "    <tr>\n",
       "      <th>50</th>\n",
       "      <td>\\sin^3\\alpha+{\\sin\\alpha}\\cdot{\\cos^2\\alpha}</td>\n",
       "      <td>sin(alpha)**3 + sin(alpha)*cos(alpha)**2</td>\n",
       "      <td>\\sin{\\left (\\alpha \\right )}</td>\n",
       "      <td>Simplificar las siguientes expresiones:</td>\n",
       "      <td>1BC</td>\n",
       "      <td>23 - Trigonometría</td>\n",
       "      <td>p039e07</td>\n",
       "      <td>1</td>\n",
       "      <td>1</td>\n",
       "      <td>1</td>\n",
       "      <td>True</td>\n",
       "      <td>True</td>\n",
       "    </tr>\n",
       "    <tr>\n",
       "      <th>51</th>\n",
       "      <td>\\sqrt{(1-\\sin\\alpha)\\cdot(1+\\sin\\alpha)}</td>\n",
       "      <td>sqrt((-sin(alpha) + 1)*(sin(alpha) + 1))</td>\n",
       "      <td>\\sqrt{\\cos^{2}{\\left (\\alpha \\right )}}</td>\n",
       "      <td>Simplificar las siguientes expresiones:</td>\n",
       "      <td>1BC</td>\n",
       "      <td>23 - Trigonometría</td>\n",
       "      <td>p039e07</td>\n",
       "      <td>1</td>\n",
       "      <td>1</td>\n",
       "      <td>1</td>\n",
       "      <td>True</td>\n",
       "      <td>True</td>\n",
       "    </tr>\n",
       "    <tr>\n",
       "      <th>52</th>\n",
       "      <td>\\sin^4\\alpha-\\cos^4\\alpha</td>\n",
       "      <td>sin(alpha)**4 - cos(alpha)**4</td>\n",
       "      <td>- \\cos{\\left (2 \\alpha \\right )}</td>\n",
       "      <td>Simplificar las siguientes expresiones:</td>\n",
       "      <td>1BC</td>\n",
       "      <td>23 - Trigonometría</td>\n",
       "      <td>p039e07</td>\n",
       "      <td>1</td>\n",
       "      <td>1</td>\n",
       "      <td>1</td>\n",
       "      <td>True</td>\n",
       "      <td>True</td>\n",
       "    </tr>\n",
       "    <tr>\n",
       "      <th>53</th>\n",
       "      <td>\\cos^3\\alpha+{\\cos^2\\alpha}\\cdot{\\sin\\alpha}+{...</td>\n",
       "      <td>sin(alpha)*cos(alpha)**2 + cos(alpha)**3 + sin...</td>\n",
       "      <td>\\sqrt{2} \\sin{\\left (\\alpha + \\frac{\\pi}{4} \\r...</td>\n",
       "      <td>Simplificar las siguientes expresiones:</td>\n",
       "      <td>1BC</td>\n",
       "      <td>23 - Trigonometría</td>\n",
       "      <td>p039e07</td>\n",
       "      <td>1</td>\n",
       "      <td>1</td>\n",
       "      <td>1</td>\n",
       "      <td>True</td>\n",
       "      <td>True</td>\n",
       "    </tr>\n",
       "    <tr>\n",
       "      <th>54</th>\n",
       "      <td>{\\sin\\alpha}\\cdot{\\cos\\alpha}\\cdot(\\tan\\alpha+...</td>\n",
       "      <td>(sin(alpha)*cos(alpha))*(tan(alpha) + 1/tan(al...</td>\n",
       "      <td>1</td>\n",
       "      <td>Simplificar las siguientes expresiones:</td>\n",
       "      <td>1BC</td>\n",
       "      <td>23 - Trigonometría</td>\n",
       "      <td>p039e07</td>\n",
       "      <td>1</td>\n",
       "      <td>1</td>\n",
       "      <td>1</td>\n",
       "      <td>True</td>\n",
       "      <td>True</td>\n",
       "    </tr>\n",
       "    <tr>\n",
       "      <th>55</th>\n",
       "      <td>\\frac{\\cos^2\\alpha-\\sin^2\\alpha}{\\cos^4\\alpha-...</td>\n",
       "      <td>(-sin(alpha)**2 + cos(alpha)**2)/(-sin(alpha)*...</td>\n",
       "      <td>1</td>\n",
       "      <td>Simplificar las siguientes expresiones:</td>\n",
       "      <td>1BC</td>\n",
       "      <td>23 - Trigonometría</td>\n",
       "      <td>p039e07</td>\n",
       "      <td>1</td>\n",
       "      <td>1</td>\n",
       "      <td>1</td>\n",
       "      <td>True</td>\n",
       "      <td>True</td>\n",
       "    </tr>\n",
       "    <tr>\n",
       "      <th>56</th>\n",
       "      <td>\\frac{\\sec^2\\alpha+\\cos^2\\alpha}{\\sec^2\\alpha-...</td>\n",
       "      <td>(cos(alpha)**2 + sec(alpha)**2)/(-cos(alpha)**...</td>\n",
       "      <td>\\frac{\\left(- \\cos^{2}{\\left (\\alpha \\right )}...</td>\n",
       "      <td>Simplificar las siguientes expresiones:</td>\n",
       "      <td>1BC</td>\n",
       "      <td>23 - Trigonometría</td>\n",
       "      <td>p039e07</td>\n",
       "      <td>1</td>\n",
       "      <td>1</td>\n",
       "      <td>1</td>\n",
       "      <td>True</td>\n",
       "      <td>True</td>\n",
       "    </tr>\n",
       "    <tr>\n",
       "      <th>57</th>\n",
       "      <td>\\frac{\\cos^2\\alpha}{1-\\sin\\alpha}</td>\n",
       "      <td>cos(alpha)**2/(-sin(alpha) + 1)</td>\n",
       "      <td>\\sin{\\left (\\alpha \\right )} + 1</td>\n",
       "      <td>Simplificar las siguientes expresiones:</td>\n",
       "      <td>1BC</td>\n",
       "      <td>23 - Trigonometría</td>\n",
       "      <td>p039e07</td>\n",
       "      <td>1</td>\n",
       "      <td>1</td>\n",
       "      <td>1</td>\n",
       "      <td>True</td>\n",
       "      <td>True</td>\n",
       "    </tr>\n",
       "    <tr>\n",
       "      <th>58</th>\n",
       "      <td>\\frac{\\csc\\alpha}{1+\\cot^2\\alpha}</td>\n",
       "      <td>csc(alpha)/(cot(alpha)**2 + 1)</td>\n",
       "      <td>\\sin{\\left (\\alpha \\right )}</td>\n",
       "      <td>Simplificar las siguientes expresiones:</td>\n",
       "      <td>1BC</td>\n",
       "      <td>23 - Trigonometría</td>\n",
       "      <td>p039e07</td>\n",
       "      <td>1</td>\n",
       "      <td>1</td>\n",
       "      <td>1</td>\n",
       "      <td>True</td>\n",
       "      <td>True</td>\n",
       "    </tr>\n",
       "  </tbody>\n",
       "</table>\n",
       "</div>"
      ],
      "text/plain": [
       "                                      enunciado_latex  \\\n",
       "49            {\\sin\\alpha}\\cdot{\\frac{1}{\\tan\\alpha}}   \n",
       "50       \\sin^3\\alpha+{\\sin\\alpha}\\cdot{\\cos^2\\alpha}   \n",
       "51           \\sqrt{(1-\\sin\\alpha)\\cdot(1+\\sin\\alpha)}   \n",
       "52                          \\sin^4\\alpha-\\cos^4\\alpha   \n",
       "53  \\cos^3\\alpha+{\\cos^2\\alpha}\\cdot{\\sin\\alpha}+{...   \n",
       "54  {\\sin\\alpha}\\cdot{\\cos\\alpha}\\cdot(\\tan\\alpha+...   \n",
       "55  \\frac{\\cos^2\\alpha-\\sin^2\\alpha}{\\cos^4\\alpha-...   \n",
       "56  \\frac{\\sec^2\\alpha+\\cos^2\\alpha}{\\sec^2\\alpha-...   \n",
       "57                  \\frac{\\cos^2\\alpha}{1-\\sin\\alpha}   \n",
       "58                  \\frac{\\csc\\alpha}{1+\\cot^2\\alpha}   \n",
       "\n",
       "                                            enunciado  \\\n",
       "49                              sin(alpha)/tan(alpha)   \n",
       "50           sin(alpha)**3 + sin(alpha)*cos(alpha)**2   \n",
       "51           sqrt((-sin(alpha) + 1)*(sin(alpha) + 1))   \n",
       "52                      sin(alpha)**4 - cos(alpha)**4   \n",
       "53  sin(alpha)*cos(alpha)**2 + cos(alpha)**3 + sin...   \n",
       "54  (sin(alpha)*cos(alpha))*(tan(alpha) + 1/tan(al...   \n",
       "55  (-sin(alpha)**2 + cos(alpha)**2)/(-sin(alpha)*...   \n",
       "56  (cos(alpha)**2 + sec(alpha)**2)/(-cos(alpha)**...   \n",
       "57                    cos(alpha)**2/(-sin(alpha) + 1)   \n",
       "58                     csc(alpha)/(cot(alpha)**2 + 1)   \n",
       "\n",
       "                                             solucion  \\\n",
       "49                       \\cos{\\left (\\alpha \\right )}   \n",
       "50                       \\sin{\\left (\\alpha \\right )}   \n",
       "51            \\sqrt{\\cos^{2}{\\left (\\alpha \\right )}}   \n",
       "52                   - \\cos{\\left (2 \\alpha \\right )}   \n",
       "53  \\sqrt{2} \\sin{\\left (\\alpha + \\frac{\\pi}{4} \\r...   \n",
       "54                                                  1   \n",
       "55                                                  1   \n",
       "56  \\frac{\\left(- \\cos^{2}{\\left (\\alpha \\right )}...   \n",
       "57                   \\sin{\\left (\\alpha \\right )} + 1   \n",
       "58                       \\sin{\\left (\\alpha \\right )}   \n",
       "\n",
       "                                      texto curso              titulo  \\\n",
       "49  Simplificar las siguientes expresiones:   1BC  23 - Trigonometría   \n",
       "50  Simplificar las siguientes expresiones:   1BC  23 - Trigonometría   \n",
       "51  Simplificar las siguientes expresiones:   1BC  23 - Trigonometría   \n",
       "52  Simplificar las siguientes expresiones:   1BC  23 - Trigonometría   \n",
       "53  Simplificar las siguientes expresiones:   1BC  23 - Trigonometría   \n",
       "54  Simplificar las siguientes expresiones:   1BC  23 - Trigonometría   \n",
       "55  Simplificar las siguientes expresiones:   1BC  23 - Trigonometría   \n",
       "56  Simplificar las siguientes expresiones:   1BC  23 - Trigonometría   \n",
       "57  Simplificar las siguientes expresiones:   1BC  23 - Trigonometría   \n",
       "58  Simplificar las siguientes expresiones:   1BC  23 - Trigonometría   \n",
       "\n",
       "   n_ejercicio  dificultad  n_columnas  puntos  enun_tex  sol_tex  \n",
       "49     p039e07           1           1       1      True     True  \n",
       "50     p039e07           1           1       1      True     True  \n",
       "51     p039e07           1           1       1      True     True  \n",
       "52     p039e07           1           1       1      True     True  \n",
       "53     p039e07           1           1       1      True     True  \n",
       "54     p039e07           1           1       1      True     True  \n",
       "55     p039e07           1           1       1      True     True  \n",
       "56     p039e07           1           1       1      True     True  \n",
       "57     p039e07           1           1       1      True     True  \n",
       "58     p039e07           1           1       1      True     True  "
      ]
     },
     "metadata": {},
     "output_type": "display_data"
    },
    {
     "data": {
      "text/markdown": [
       "**Ejercicio: **p039e08"
      ],
      "text/plain": [
       "<IPython.core.display.Markdown object>"
      ]
     },
     "metadata": {},
     "output_type": "display_data"
    },
    {
     "data": {
      "text/html": [
       "<div>\n",
       "<style scoped>\n",
       "    .dataframe tbody tr th:only-of-type {\n",
       "        vertical-align: middle;\n",
       "    }\n",
       "\n",
       "    .dataframe tbody tr th {\n",
       "        vertical-align: top;\n",
       "    }\n",
       "\n",
       "    .dataframe thead th {\n",
       "        text-align: right;\n",
       "    }\n",
       "</style>\n",
       "<table border=\"1\" class=\"dataframe\">\n",
       "  <thead>\n",
       "    <tr style=\"text-align: right;\">\n",
       "      <th></th>\n",
       "      <th>enunciado_latex</th>\n",
       "      <th>enunciado</th>\n",
       "      <th>solucion</th>\n",
       "      <th>texto</th>\n",
       "      <th>curso</th>\n",
       "      <th>titulo</th>\n",
       "      <th>n_ejercicio</th>\n",
       "      <th>dificultad</th>\n",
       "      <th>n_columnas</th>\n",
       "      <th>puntos</th>\n",
       "      <th>enun_tex</th>\n",
       "      <th>sol_tex</th>\n",
       "    </tr>\n",
       "  </thead>\n",
       "  <tbody>\n",
       "    <tr>\n",
       "      <th>59</th>\n",
       "      <td>\\cos\\alpha=\\frac{4}{5} \\land \\alpha \\in I</td>\n",
       "      <td>['36.86989764584401', '3/5', '4/5', '3/4']</td>\n",
       "      <td>\\left [ 36.86989764584401, \\quad \\frac{3}{5}, ...</td>\n",
       "      <td>Calcular las restantes razones trigonométricas...</td>\n",
       "      <td>1BC</td>\n",
       "      <td>23 - Trigonometría</td>\n",
       "      <td>p039e08</td>\n",
       "      <td>1</td>\n",
       "      <td>1</td>\n",
       "      <td>1</td>\n",
       "      <td>True</td>\n",
       "      <td>True</td>\n",
       "    </tr>\n",
       "    <tr>\n",
       "      <th>60</th>\n",
       "      <td>\\sin\\alpha=\\frac{3}{5} \\land \\alpha \\in II</td>\n",
       "      <td>['36.86989764584402', '3/5', '-4/5', '-3/4']</td>\n",
       "      <td>\\left [ 36.86989764584402, \\quad \\frac{3}{5}, ...</td>\n",
       "      <td>Calcular las restantes razones trigonométricas...</td>\n",
       "      <td>1BC</td>\n",
       "      <td>23 - Trigonometría</td>\n",
       "      <td>p039e08</td>\n",
       "      <td>1</td>\n",
       "      <td>1</td>\n",
       "      <td>1</td>\n",
       "      <td>True</td>\n",
       "      <td>True</td>\n",
       "    </tr>\n",
       "    <tr>\n",
       "      <th>61</th>\n",
       "      <td>\\tan\\alpha=-\\frac{3}{4} \\land \\alpha \\in II</td>\n",
       "      <td>['36.86989764584402', '3/5', '-4/5', '-3/4']</td>\n",
       "      <td>\\left [ 36.86989764584402, \\quad \\frac{3}{5}, ...</td>\n",
       "      <td>Calcular las restantes razones trigonométricas...</td>\n",
       "      <td>1BC</td>\n",
       "      <td>23 - Trigonometría</td>\n",
       "      <td>p039e08</td>\n",
       "      <td>1</td>\n",
       "      <td>1</td>\n",
       "      <td>1</td>\n",
       "      <td>True</td>\n",
       "      <td>True</td>\n",
       "    </tr>\n",
       "    <tr>\n",
       "      <th>62</th>\n",
       "      <td>\\sec\\alpha=2 \\land \\alpha \\in IV</td>\n",
       "      <td>['60.0', '-sqrt(3)/2', '1/2', '-sqrt(3)']</td>\n",
       "      <td>\\left [ 60.0, \\quad - \\frac{\\sqrt{3}}{2}, \\qua...</td>\n",
       "      <td>Calcular las restantes razones trigonométricas...</td>\n",
       "      <td>1BC</td>\n",
       "      <td>23 - Trigonometría</td>\n",
       "      <td>p039e08</td>\n",
       "      <td>1</td>\n",
       "      <td>1</td>\n",
       "      <td>1</td>\n",
       "      <td>True</td>\n",
       "      <td>True</td>\n",
       "    </tr>\n",
       "    <tr>\n",
       "      <th>63</th>\n",
       "      <td>\\csc\\alpha=-2 \\land \\alpha \\in III</td>\n",
       "      <td>['30.0', '-1/2', '-sqrt(3)/2', 'sqrt(3)/3']</td>\n",
       "      <td>\\left [ 30.0, \\quad - \\frac{1}{2}, \\quad - \\fr...</td>\n",
       "      <td>Calcular las restantes razones trigonométricas...</td>\n",
       "      <td>1BC</td>\n",
       "      <td>23 - Trigonometría</td>\n",
       "      <td>p039e08</td>\n",
       "      <td>1</td>\n",
       "      <td>1</td>\n",
       "      <td>1</td>\n",
       "      <td>True</td>\n",
       "      <td>True</td>\n",
       "    </tr>\n",
       "    <tr>\n",
       "      <th>64</th>\n",
       "      <td>\\cot\\alpha=-2 \\land \\alpha \\in IV</td>\n",
       "      <td>['26.56505117707799', '-sqrt(5)/5', '2*sqrt(5)...</td>\n",
       "      <td>\\left [ 26.56505117707799, \\quad - \\frac{\\sqrt...</td>\n",
       "      <td>Calcular las restantes razones trigonométricas...</td>\n",
       "      <td>1BC</td>\n",
       "      <td>23 - Trigonometría</td>\n",
       "      <td>p039e08</td>\n",
       "      <td>1</td>\n",
       "      <td>1</td>\n",
       "      <td>1</td>\n",
       "      <td>True</td>\n",
       "      <td>True</td>\n",
       "    </tr>\n",
       "  </tbody>\n",
       "</table>\n",
       "</div>"
      ],
      "text/plain": [
       "                                enunciado_latex  \\\n",
       "59    \\cos\\alpha=\\frac{4}{5} \\land \\alpha \\in I   \n",
       "60   \\sin\\alpha=\\frac{3}{5} \\land \\alpha \\in II   \n",
       "61  \\tan\\alpha=-\\frac{3}{4} \\land \\alpha \\in II   \n",
       "62             \\sec\\alpha=2 \\land \\alpha \\in IV   \n",
       "63           \\csc\\alpha=-2 \\land \\alpha \\in III   \n",
       "64            \\cot\\alpha=-2 \\land \\alpha \\in IV   \n",
       "\n",
       "                                            enunciado  \\\n",
       "59         ['36.86989764584401', '3/5', '4/5', '3/4']   \n",
       "60       ['36.86989764584402', '3/5', '-4/5', '-3/4']   \n",
       "61       ['36.86989764584402', '3/5', '-4/5', '-3/4']   \n",
       "62          ['60.0', '-sqrt(3)/2', '1/2', '-sqrt(3)']   \n",
       "63        ['30.0', '-1/2', '-sqrt(3)/2', 'sqrt(3)/3']   \n",
       "64  ['26.56505117707799', '-sqrt(5)/5', '2*sqrt(5)...   \n",
       "\n",
       "                                             solucion  \\\n",
       "59  \\left [ 36.86989764584401, \\quad \\frac{3}{5}, ...   \n",
       "60  \\left [ 36.86989764584402, \\quad \\frac{3}{5}, ...   \n",
       "61  \\left [ 36.86989764584402, \\quad \\frac{3}{5}, ...   \n",
       "62  \\left [ 60.0, \\quad - \\frac{\\sqrt{3}}{2}, \\qua...   \n",
       "63  \\left [ 30.0, \\quad - \\frac{1}{2}, \\quad - \\fr...   \n",
       "64  \\left [ 26.56505117707799, \\quad - \\frac{\\sqrt...   \n",
       "\n",
       "                                                texto curso  \\\n",
       "59  Calcular las restantes razones trigonométricas...   1BC   \n",
       "60  Calcular las restantes razones trigonométricas...   1BC   \n",
       "61  Calcular las restantes razones trigonométricas...   1BC   \n",
       "62  Calcular las restantes razones trigonométricas...   1BC   \n",
       "63  Calcular las restantes razones trigonométricas...   1BC   \n",
       "64  Calcular las restantes razones trigonométricas...   1BC   \n",
       "\n",
       "                titulo n_ejercicio  dificultad  n_columnas  puntos  enun_tex  \\\n",
       "59  23 - Trigonometría     p039e08           1           1       1      True   \n",
       "60  23 - Trigonometría     p039e08           1           1       1      True   \n",
       "61  23 - Trigonometría     p039e08           1           1       1      True   \n",
       "62  23 - Trigonometría     p039e08           1           1       1      True   \n",
       "63  23 - Trigonometría     p039e08           1           1       1      True   \n",
       "64  23 - Trigonometría     p039e08           1           1       1      True   \n",
       "\n",
       "    sol_tex  \n",
       "59     True  \n",
       "60     True  \n",
       "61     True  \n",
       "62     True  \n",
       "63     True  \n",
       "64     True  "
      ]
     },
     "metadata": {},
     "output_type": "display_data"
    },
    {
     "data": {
      "text/markdown": [
       "**Ejercicio: **p039e09"
      ],
      "text/plain": [
       "<IPython.core.display.Markdown object>"
      ]
     },
     "metadata": {},
     "output_type": "display_data"
    },
    {
     "data": {
      "text/html": [
       "<div>\n",
       "<style scoped>\n",
       "    .dataframe tbody tr th:only-of-type {\n",
       "        vertical-align: middle;\n",
       "    }\n",
       "\n",
       "    .dataframe tbody tr th {\n",
       "        vertical-align: top;\n",
       "    }\n",
       "\n",
       "    .dataframe thead th {\n",
       "        text-align: right;\n",
       "    }\n",
       "</style>\n",
       "<table border=\"1\" class=\"dataframe\">\n",
       "  <thead>\n",
       "    <tr style=\"text-align: right;\">\n",
       "      <th></th>\n",
       "      <th>enunciado_latex</th>\n",
       "      <th>enunciado</th>\n",
       "      <th>solucion</th>\n",
       "      <th>texto</th>\n",
       "      <th>curso</th>\n",
       "      <th>titulo</th>\n",
       "      <th>n_ejercicio</th>\n",
       "      <th>dificultad</th>\n",
       "      <th>n_columnas</th>\n",
       "      <th>puntos</th>\n",
       "      <th>enun_tex</th>\n",
       "      <th>sol_tex</th>\n",
       "    </tr>\n",
       "  </thead>\n",
       "  <tbody>\n",
       "    <tr>\n",
       "      <th>65</th>\n",
       "      <td>\\sin(-120)</td>\n",
       "      <td>sin(rad(-120))</td>\n",
       "      <td>\\left [ 60, \\quad - \\frac{\\sqrt{3}}{2}\\right ]</td>\n",
       "      <td>Expresa las siguientes razones trigonométricas...</td>\n",
       "      <td>1BC</td>\n",
       "      <td>23 - Trigonometría</td>\n",
       "      <td>p039e09</td>\n",
       "      <td>1</td>\n",
       "      <td>2</td>\n",
       "      <td>1</td>\n",
       "      <td>True</td>\n",
       "      <td>True</td>\n",
       "    </tr>\n",
       "    <tr>\n",
       "      <th>66</th>\n",
       "      <td>\\sin(2700)</td>\n",
       "      <td>sin(rad(2700))</td>\n",
       "      <td>\\left [ 0, \\quad 0\\right ]</td>\n",
       "      <td>Expresa las siguientes razones trigonométricas...</td>\n",
       "      <td>1BC</td>\n",
       "      <td>23 - Trigonometría</td>\n",
       "      <td>p039e09</td>\n",
       "      <td>1</td>\n",
       "      <td>2</td>\n",
       "      <td>1</td>\n",
       "      <td>True</td>\n",
       "      <td>True</td>\n",
       "    </tr>\n",
       "    <tr>\n",
       "      <th>67</th>\n",
       "      <td>\\cos(-30)</td>\n",
       "      <td>cos(rad(-30))</td>\n",
       "      <td>\\left [ 30, \\quad \\frac{\\sqrt{3}}{2}\\right ]</td>\n",
       "      <td>Expresa las siguientes razones trigonométricas...</td>\n",
       "      <td>1BC</td>\n",
       "      <td>23 - Trigonometría</td>\n",
       "      <td>p039e09</td>\n",
       "      <td>1</td>\n",
       "      <td>2</td>\n",
       "      <td>1</td>\n",
       "      <td>True</td>\n",
       "      <td>True</td>\n",
       "    </tr>\n",
       "    <tr>\n",
       "      <th>68</th>\n",
       "      <td>\\cos(3000)</td>\n",
       "      <td>cos(rad(3000))</td>\n",
       "      <td>\\left [ 60, \\quad - \\frac{1}{2}\\right ]</td>\n",
       "      <td>Expresa las siguientes razones trigonométricas...</td>\n",
       "      <td>1BC</td>\n",
       "      <td>23 - Trigonometría</td>\n",
       "      <td>p039e09</td>\n",
       "      <td>1</td>\n",
       "      <td>2</td>\n",
       "      <td>1</td>\n",
       "      <td>True</td>\n",
       "      <td>True</td>\n",
       "    </tr>\n",
       "    <tr>\n",
       "      <th>69</th>\n",
       "      <td>\\tan(-275)</td>\n",
       "      <td>tan(rad(-275))</td>\n",
       "      <td>\\left [ \\frac{180 \\operatorname{atan}{\\left (\\...</td>\n",
       "      <td>Expresa las siguientes razones trigonométricas...</td>\n",
       "      <td>1BC</td>\n",
       "      <td>23 - Trigonometría</td>\n",
       "      <td>p039e09</td>\n",
       "      <td>1</td>\n",
       "      <td>2</td>\n",
       "      <td>1</td>\n",
       "      <td>True</td>\n",
       "      <td>True</td>\n",
       "    </tr>\n",
       "    <tr>\n",
       "      <th>70</th>\n",
       "      <td>\\tan(10330)</td>\n",
       "      <td>tan(rad(10330))</td>\n",
       "      <td>\\left [ 70, \\quad \\tan{\\left (\\frac{7 \\pi}{18}...</td>\n",
       "      <td>Expresa las siguientes razones trigonométricas...</td>\n",
       "      <td>1BC</td>\n",
       "      <td>23 - Trigonometría</td>\n",
       "      <td>p039e09</td>\n",
       "      <td>1</td>\n",
       "      <td>2</td>\n",
       "      <td>1</td>\n",
       "      <td>True</td>\n",
       "      <td>True</td>\n",
       "    </tr>\n",
       "    <tr>\n",
       "      <th>71</th>\n",
       "      <td>\\cot(-150)</td>\n",
       "      <td>cot(rad(-150))</td>\n",
       "      <td>\\left [ 30, \\quad \\sqrt{3}\\right ]</td>\n",
       "      <td>Expresa las siguientes razones trigonométricas...</td>\n",
       "      <td>1BC</td>\n",
       "      <td>23 - Trigonometría</td>\n",
       "      <td>p039e09</td>\n",
       "      <td>1</td>\n",
       "      <td>2</td>\n",
       "      <td>1</td>\n",
       "      <td>True</td>\n",
       "      <td>True</td>\n",
       "    </tr>\n",
       "    <tr>\n",
       "      <th>72</th>\n",
       "      <td>\\cot(4500)</td>\n",
       "      <td>cot(rad(4500))</td>\n",
       "      <td>\\left [ 0, \\quad \\tilde{\\infty}\\right ]</td>\n",
       "      <td>Expresa las siguientes razones trigonométricas...</td>\n",
       "      <td>1BC</td>\n",
       "      <td>23 - Trigonometría</td>\n",
       "      <td>p039e09</td>\n",
       "      <td>1</td>\n",
       "      <td>2</td>\n",
       "      <td>1</td>\n",
       "      <td>True</td>\n",
       "      <td>True</td>\n",
       "    </tr>\n",
       "    <tr>\n",
       "      <th>73</th>\n",
       "      <td>\\sec(-25)</td>\n",
       "      <td>sec(rad(-25))</td>\n",
       "      <td>\\left [ 25, \\quad \\sec{\\left (\\frac{5 \\pi}{36}...</td>\n",
       "      <td>Expresa las siguientes razones trigonométricas...</td>\n",
       "      <td>1BC</td>\n",
       "      <td>23 - Trigonometría</td>\n",
       "      <td>p039e09</td>\n",
       "      <td>1</td>\n",
       "      <td>2</td>\n",
       "      <td>1</td>\n",
       "      <td>True</td>\n",
       "      <td>True</td>\n",
       "    </tr>\n",
       "    <tr>\n",
       "      <th>74</th>\n",
       "      <td>\\sec(745)</td>\n",
       "      <td>sec(rad(745))</td>\n",
       "      <td>\\left [ 25, \\quad \\sec{\\left (\\frac{149 \\pi}{3...</td>\n",
       "      <td>Expresa las siguientes razones trigonométricas...</td>\n",
       "      <td>1BC</td>\n",
       "      <td>23 - Trigonometría</td>\n",
       "      <td>p039e09</td>\n",
       "      <td>1</td>\n",
       "      <td>2</td>\n",
       "      <td>1</td>\n",
       "      <td>True</td>\n",
       "      <td>True</td>\n",
       "    </tr>\n",
       "    <tr>\n",
       "      <th>75</th>\n",
       "      <td>\\csc(-155)</td>\n",
       "      <td>csc(rad(-155))</td>\n",
       "      <td>\\left [ 25, \\quad - \\csc{\\left (\\frac{5 \\pi}{3...</td>\n",
       "      <td>Expresa las siguientes razones trigonométricas...</td>\n",
       "      <td>1BC</td>\n",
       "      <td>23 - Trigonometría</td>\n",
       "      <td>p039e09</td>\n",
       "      <td>1</td>\n",
       "      <td>2</td>\n",
       "      <td>1</td>\n",
       "      <td>True</td>\n",
       "      <td>True</td>\n",
       "    </tr>\n",
       "    <tr>\n",
       "      <th>76</th>\n",
       "      <td>\\csc(4420)</td>\n",
       "      <td>csc(rad(4420))</td>\n",
       "      <td>\\left [ 80, \\quad \\csc{\\left (\\frac{4 \\pi}{9} ...</td>\n",
       "      <td>Expresa las siguientes razones trigonométricas...</td>\n",
       "      <td>1BC</td>\n",
       "      <td>23 - Trigonometría</td>\n",
       "      <td>p039e09</td>\n",
       "      <td>1</td>\n",
       "      <td>2</td>\n",
       "      <td>1</td>\n",
       "      <td>True</td>\n",
       "      <td>True</td>\n",
       "    </tr>\n",
       "  </tbody>\n",
       "</table>\n",
       "</div>"
      ],
      "text/plain": [
       "   enunciado_latex        enunciado  \\\n",
       "65      \\sin(-120)   sin(rad(-120))   \n",
       "66      \\sin(2700)   sin(rad(2700))   \n",
       "67       \\cos(-30)    cos(rad(-30))   \n",
       "68      \\cos(3000)   cos(rad(3000))   \n",
       "69      \\tan(-275)   tan(rad(-275))   \n",
       "70     \\tan(10330)  tan(rad(10330))   \n",
       "71      \\cot(-150)   cot(rad(-150))   \n",
       "72      \\cot(4500)   cot(rad(4500))   \n",
       "73       \\sec(-25)    sec(rad(-25))   \n",
       "74       \\sec(745)    sec(rad(745))   \n",
       "75      \\csc(-155)   csc(rad(-155))   \n",
       "76      \\csc(4420)   csc(rad(4420))   \n",
       "\n",
       "                                             solucion  \\\n",
       "65     \\left [ 60, \\quad - \\frac{\\sqrt{3}}{2}\\right ]   \n",
       "66                         \\left [ 0, \\quad 0\\right ]   \n",
       "67       \\left [ 30, \\quad \\frac{\\sqrt{3}}{2}\\right ]   \n",
       "68            \\left [ 60, \\quad - \\frac{1}{2}\\right ]   \n",
       "69  \\left [ \\frac{180 \\operatorname{atan}{\\left (\\...   \n",
       "70  \\left [ 70, \\quad \\tan{\\left (\\frac{7 \\pi}{18}...   \n",
       "71                 \\left [ 30, \\quad \\sqrt{3}\\right ]   \n",
       "72            \\left [ 0, \\quad \\tilde{\\infty}\\right ]   \n",
       "73  \\left [ 25, \\quad \\sec{\\left (\\frac{5 \\pi}{36}...   \n",
       "74  \\left [ 25, \\quad \\sec{\\left (\\frac{149 \\pi}{3...   \n",
       "75  \\left [ 25, \\quad - \\csc{\\left (\\frac{5 \\pi}{3...   \n",
       "76  \\left [ 80, \\quad \\csc{\\left (\\frac{4 \\pi}{9} ...   \n",
       "\n",
       "                                                texto curso  \\\n",
       "65  Expresa las siguientes razones trigonométricas...   1BC   \n",
       "66  Expresa las siguientes razones trigonométricas...   1BC   \n",
       "67  Expresa las siguientes razones trigonométricas...   1BC   \n",
       "68  Expresa las siguientes razones trigonométricas...   1BC   \n",
       "69  Expresa las siguientes razones trigonométricas...   1BC   \n",
       "70  Expresa las siguientes razones trigonométricas...   1BC   \n",
       "71  Expresa las siguientes razones trigonométricas...   1BC   \n",
       "72  Expresa las siguientes razones trigonométricas...   1BC   \n",
       "73  Expresa las siguientes razones trigonométricas...   1BC   \n",
       "74  Expresa las siguientes razones trigonométricas...   1BC   \n",
       "75  Expresa las siguientes razones trigonométricas...   1BC   \n",
       "76  Expresa las siguientes razones trigonométricas...   1BC   \n",
       "\n",
       "                titulo n_ejercicio  dificultad  n_columnas  puntos  enun_tex  \\\n",
       "65  23 - Trigonometría     p039e09           1           2       1      True   \n",
       "66  23 - Trigonometría     p039e09           1           2       1      True   \n",
       "67  23 - Trigonometría     p039e09           1           2       1      True   \n",
       "68  23 - Trigonometría     p039e09           1           2       1      True   \n",
       "69  23 - Trigonometría     p039e09           1           2       1      True   \n",
       "70  23 - Trigonometría     p039e09           1           2       1      True   \n",
       "71  23 - Trigonometría     p039e09           1           2       1      True   \n",
       "72  23 - Trigonometría     p039e09           1           2       1      True   \n",
       "73  23 - Trigonometría     p039e09           1           2       1      True   \n",
       "74  23 - Trigonometría     p039e09           1           2       1      True   \n",
       "75  23 - Trigonometría     p039e09           1           2       1      True   \n",
       "76  23 - Trigonometría     p039e09           1           2       1      True   \n",
       "\n",
       "    sol_tex  \n",
       "65     True  \n",
       "66     True  \n",
       "67     True  \n",
       "68     True  \n",
       "69     True  \n",
       "70     True  \n",
       "71     True  \n",
       "72     True  \n",
       "73     True  \n",
       "74     True  \n",
       "75     True  \n",
       "76     True  "
      ]
     },
     "metadata": {},
     "output_type": "display_data"
    },
    {
     "data": {
      "text/markdown": [
       "**Ejercicio: **p039e10"
      ],
      "text/plain": [
       "<IPython.core.display.Markdown object>"
      ]
     },
     "metadata": {},
     "output_type": "display_data"
    },
    {
     "data": {
      "text/html": [
       "<div>\n",
       "<style scoped>\n",
       "    .dataframe tbody tr th:only-of-type {\n",
       "        vertical-align: middle;\n",
       "    }\n",
       "\n",
       "    .dataframe tbody tr th {\n",
       "        vertical-align: top;\n",
       "    }\n",
       "\n",
       "    .dataframe thead th {\n",
       "        text-align: right;\n",
       "    }\n",
       "</style>\n",
       "<table border=\"1\" class=\"dataframe\">\n",
       "  <thead>\n",
       "    <tr style=\"text-align: right;\">\n",
       "      <th></th>\n",
       "      <th>enunciado_latex</th>\n",
       "      <th>enunciado</th>\n",
       "      <th>solucion</th>\n",
       "      <th>texto</th>\n",
       "      <th>curso</th>\n",
       "      <th>titulo</th>\n",
       "      <th>n_ejercicio</th>\n",
       "      <th>dificultad</th>\n",
       "      <th>n_columnas</th>\n",
       "      <th>puntos</th>\n",
       "      <th>enun_tex</th>\n",
       "      <th>sol_tex</th>\n",
       "    </tr>\n",
       "  </thead>\n",
       "  <tbody>\n",
       "    <tr>\n",
       "      <th>77</th>\n",
       "      <td>53</td>\n",
       "      <td>53</td>\n",
       "      <td>\\left [ 0.8, \\quad 0.6, \\quad 1.33\\right ]</td>\n",
       "      <td>Si sen 37º = 0,6. Calcula, sin usar la calcula...</td>\n",
       "      <td>1BC</td>\n",
       "      <td>23 - Trigonometría</td>\n",
       "      <td>p039e10</td>\n",
       "      <td>1</td>\n",
       "      <td>2</td>\n",
       "      <td>1</td>\n",
       "      <td>True</td>\n",
       "      <td>True</td>\n",
       "    </tr>\n",
       "    <tr>\n",
       "      <th>78</th>\n",
       "      <td>127</td>\n",
       "      <td>127</td>\n",
       "      <td>\\left [ 0.8, \\quad -0.6, \\quad -1.33\\right ]</td>\n",
       "      <td>Si sen 37º = 0,6. Calcula, sin usar la calcula...</td>\n",
       "      <td>1BC</td>\n",
       "      <td>23 - Trigonometría</td>\n",
       "      <td>p039e10</td>\n",
       "      <td>1</td>\n",
       "      <td>2</td>\n",
       "      <td>1</td>\n",
       "      <td>True</td>\n",
       "      <td>True</td>\n",
       "    </tr>\n",
       "    <tr>\n",
       "      <th>79</th>\n",
       "      <td>143</td>\n",
       "      <td>143</td>\n",
       "      <td>\\left [ 0.6, \\quad -0.8, \\quad -0.75\\right ]</td>\n",
       "      <td>Si sen 37º = 0,6. Calcula, sin usar la calcula...</td>\n",
       "      <td>1BC</td>\n",
       "      <td>23 - Trigonometría</td>\n",
       "      <td>p039e10</td>\n",
       "      <td>1</td>\n",
       "      <td>2</td>\n",
       "      <td>1</td>\n",
       "      <td>True</td>\n",
       "      <td>True</td>\n",
       "    </tr>\n",
       "  </tbody>\n",
       "</table>\n",
       "</div>"
      ],
      "text/plain": [
       "   enunciado_latex enunciado                                      solucion  \\\n",
       "77              53        53    \\left [ 0.8, \\quad 0.6, \\quad 1.33\\right ]   \n",
       "78             127       127  \\left [ 0.8, \\quad -0.6, \\quad -1.33\\right ]   \n",
       "79             143       143  \\left [ 0.6, \\quad -0.8, \\quad -0.75\\right ]   \n",
       "\n",
       "                                                texto curso  \\\n",
       "77  Si sen 37º = 0,6. Calcula, sin usar la calcula...   1BC   \n",
       "78  Si sen 37º = 0,6. Calcula, sin usar la calcula...   1BC   \n",
       "79  Si sen 37º = 0,6. Calcula, sin usar la calcula...   1BC   \n",
       "\n",
       "                titulo n_ejercicio  dificultad  n_columnas  puntos  enun_tex  \\\n",
       "77  23 - Trigonometría     p039e10           1           2       1      True   \n",
       "78  23 - Trigonometría     p039e10           1           2       1      True   \n",
       "79  23 - Trigonometría     p039e10           1           2       1      True   \n",
       "\n",
       "    sol_tex  \n",
       "77     True  \n",
       "78     True  \n",
       "79     True  "
      ]
     },
     "metadata": {},
     "output_type": "display_data"
    },
    {
     "data": {
      "text/markdown": [
       "**Ejercicio: **p041e27"
      ],
      "text/plain": [
       "<IPython.core.display.Markdown object>"
      ]
     },
     "metadata": {},
     "output_type": "display_data"
    },
    {
     "data": {
      "text/html": [
       "<div>\n",
       "<style scoped>\n",
       "    .dataframe tbody tr th:only-of-type {\n",
       "        vertical-align: middle;\n",
       "    }\n",
       "\n",
       "    .dataframe tbody tr th {\n",
       "        vertical-align: top;\n",
       "    }\n",
       "\n",
       "    .dataframe thead th {\n",
       "        text-align: right;\n",
       "    }\n",
       "</style>\n",
       "<table border=\"1\" class=\"dataframe\">\n",
       "  <thead>\n",
       "    <tr style=\"text-align: right;\">\n",
       "      <th></th>\n",
       "      <th>enunciado_latex</th>\n",
       "      <th>enunciado</th>\n",
       "      <th>solucion</th>\n",
       "      <th>texto</th>\n",
       "      <th>curso</th>\n",
       "      <th>titulo</th>\n",
       "      <th>n_ejercicio</th>\n",
       "      <th>dificultad</th>\n",
       "      <th>n_columnas</th>\n",
       "      <th>puntos</th>\n",
       "      <th>enun_tex</th>\n",
       "      <th>sol_tex</th>\n",
       "    </tr>\n",
       "  </thead>\n",
       "  <tbody>\n",
       "    <tr>\n",
       "      <th>0</th>\n",
       "      <td>\\sin{2x}=\\frac{1}{2}</td>\n",
       "      <td>Eq(sin(2*x), 1/2)</td>\n",
       "      <td>\\left [ \\frac{\\pi}{12}, \\quad \\frac{5 \\pi}{12}...</td>\n",
       "      <td>Resolver las siguientes ecuaciones para ángulo...</td>\n",
       "      <td>1BC</td>\n",
       "      <td>23 - Trigonometría</td>\n",
       "      <td>p041e27</td>\n",
       "      <td>1</td>\n",
       "      <td>1</td>\n",
       "      <td>1</td>\n",
       "      <td>True</td>\n",
       "      <td>True</td>\n",
       "    </tr>\n",
       "    <tr>\n",
       "      <th>1</th>\n",
       "      <td>\\tan{\\frac{x}{2}}=\\frac{{\\sqrt {3} }}{3}</td>\n",
       "      <td>Eq(tan(x/2), sqrt(3)/3)</td>\n",
       "      <td>\\left [ \\frac{\\pi}{3}\\right ]</td>\n",
       "      <td>Resolver las siguientes ecuaciones para ángulo...</td>\n",
       "      <td>1BC</td>\n",
       "      <td>23 - Trigonometría</td>\n",
       "      <td>p041e27</td>\n",
       "      <td>1</td>\n",
       "      <td>1</td>\n",
       "      <td>1</td>\n",
       "      <td>True</td>\n",
       "      <td>True</td>\n",
       "    </tr>\n",
       "    <tr>\n",
       "      <th>2</th>\n",
       "      <td>\\sin{(3x-\\frac{\\pi}{2})}=-\\frac{1}{2}</td>\n",
       "      <td>Eq(sin(-pi/2 + 3*x), -1/2)</td>\n",
       "      <td>\\left [ \\frac{\\pi}{9}, \\quad \\frac{5 \\pi}{9}\\r...</td>\n",
       "      <td>Resolver las siguientes ecuaciones para ángulo...</td>\n",
       "      <td>1BC</td>\n",
       "      <td>23 - Trigonometría</td>\n",
       "      <td>p041e27</td>\n",
       "      <td>1</td>\n",
       "      <td>1</td>\n",
       "      <td>1</td>\n",
       "      <td>True</td>\n",
       "      <td>True</td>\n",
       "    </tr>\n",
       "  </tbody>\n",
       "</table>\n",
       "</div>"
      ],
      "text/plain": [
       "                            enunciado_latex                   enunciado  \\\n",
       "0                      \\sin{2x}=\\frac{1}{2}           Eq(sin(2*x), 1/2)   \n",
       "1  \\tan{\\frac{x}{2}}=\\frac{{\\sqrt {3} }}{3}     Eq(tan(x/2), sqrt(3)/3)   \n",
       "2     \\sin{(3x-\\frac{\\pi}{2})}=-\\frac{1}{2}  Eq(sin(-pi/2 + 3*x), -1/2)   \n",
       "\n",
       "                                            solucion  \\\n",
       "0  \\left [ \\frac{\\pi}{12}, \\quad \\frac{5 \\pi}{12}...   \n",
       "1                      \\left [ \\frac{\\pi}{3}\\right ]   \n",
       "2  \\left [ \\frac{\\pi}{9}, \\quad \\frac{5 \\pi}{9}\\r...   \n",
       "\n",
       "                                               texto curso  \\\n",
       "0  Resolver las siguientes ecuaciones para ángulo...   1BC   \n",
       "1  Resolver las siguientes ecuaciones para ángulo...   1BC   \n",
       "2  Resolver las siguientes ecuaciones para ángulo...   1BC   \n",
       "\n",
       "               titulo n_ejercicio  dificultad  n_columnas  puntos  enun_tex  \\\n",
       "0  23 - Trigonometría     p041e27           1           1       1      True   \n",
       "1  23 - Trigonometría     p041e27           1           1       1      True   \n",
       "2  23 - Trigonometría     p041e27           1           1       1      True   \n",
       "\n",
       "   sol_tex  \n",
       "0     True  \n",
       "1     True  \n",
       "2     True  "
      ]
     },
     "metadata": {},
     "output_type": "display_data"
    },
    {
     "data": {
      "text/markdown": [
       "**Ejercicio: **p041e28"
      ],
      "text/plain": [
       "<IPython.core.display.Markdown object>"
      ]
     },
     "metadata": {},
     "output_type": "display_data"
    },
    {
     "data": {
      "text/html": [
       "<div>\n",
       "<style scoped>\n",
       "    .dataframe tbody tr th:only-of-type {\n",
       "        vertical-align: middle;\n",
       "    }\n",
       "\n",
       "    .dataframe tbody tr th {\n",
       "        vertical-align: top;\n",
       "    }\n",
       "\n",
       "    .dataframe thead th {\n",
       "        text-align: right;\n",
       "    }\n",
       "</style>\n",
       "<table border=\"1\" class=\"dataframe\">\n",
       "  <thead>\n",
       "    <tr style=\"text-align: right;\">\n",
       "      <th></th>\n",
       "      <th>enunciado_latex</th>\n",
       "      <th>enunciado</th>\n",
       "      <th>solucion</th>\n",
       "      <th>texto</th>\n",
       "      <th>curso</th>\n",
       "      <th>titulo</th>\n",
       "      <th>n_ejercicio</th>\n",
       "      <th>dificultad</th>\n",
       "      <th>n_columnas</th>\n",
       "      <th>puntos</th>\n",
       "      <th>enun_tex</th>\n",
       "      <th>sol_tex</th>\n",
       "    </tr>\n",
       "  </thead>\n",
       "  <tbody>\n",
       "    <tr>\n",
       "      <th>3</th>\n",
       "      <td>2\\sin{x}+\\csc{x}=2\\sqrt{2}</td>\n",
       "      <td>Eq(2*sin(x) + csc(x), 2*sqrt(2))</td>\n",
       "      <td>\\left [ 45, \\quad 135\\right ]</td>\n",
       "      <td>Resolver las siguientes ecuaciones:</td>\n",
       "      <td>1BC</td>\n",
       "      <td>23 - Trigonometría</td>\n",
       "      <td>p041e28</td>\n",
       "      <td>1</td>\n",
       "      <td>1</td>\n",
       "      <td>1</td>\n",
       "      <td>True</td>\n",
       "      <td>True</td>\n",
       "    </tr>\n",
       "    <tr>\n",
       "      <th>4</th>\n",
       "      <td>\\sin{x}=\\cos^2{x}+1</td>\n",
       "      <td>Eq(sin(x), cos(x)**2 + 1)</td>\n",
       "      <td>\\left [ 90\\right ]</td>\n",
       "      <td>Resolver las siguientes ecuaciones:</td>\n",
       "      <td>1BC</td>\n",
       "      <td>23 - Trigonometría</td>\n",
       "      <td>p041e28</td>\n",
       "      <td>1</td>\n",
       "      <td>1</td>\n",
       "      <td>1</td>\n",
       "      <td>True</td>\n",
       "      <td>True</td>\n",
       "    </tr>\n",
       "    <tr>\n",
       "      <th>5</th>\n",
       "      <td>\\sin{x}\\cos{x}=0</td>\n",
       "      <td>Eq(sin(x)*cos(x), 0)</td>\n",
       "      <td>\\left [ 0, \\quad 90, \\quad 180, \\quad 270\\right ]</td>\n",
       "      <td>Resolver las siguientes ecuaciones:</td>\n",
       "      <td>1BC</td>\n",
       "      <td>23 - Trigonometría</td>\n",
       "      <td>p041e28</td>\n",
       "      <td>1</td>\n",
       "      <td>1</td>\n",
       "      <td>1</td>\n",
       "      <td>True</td>\n",
       "      <td>True</td>\n",
       "    </tr>\n",
       "    <tr>\n",
       "      <th>6</th>\n",
       "      <td>\\tan{x}-\\sin{x}=0</td>\n",
       "      <td>Eq(-sin(x) + tan(x), 0)</td>\n",
       "      <td>\\left [ 0, \\quad -180, \\quad 180, \\quad 360\\ri...</td>\n",
       "      <td>Resolver las siguientes ecuaciones:</td>\n",
       "      <td>1BC</td>\n",
       "      <td>23 - Trigonometría</td>\n",
       "      <td>p041e28</td>\n",
       "      <td>1</td>\n",
       "      <td>1</td>\n",
       "      <td>1</td>\n",
       "      <td>True</td>\n",
       "      <td>True</td>\n",
       "    </tr>\n",
       "    <tr>\n",
       "      <th>7</th>\n",
       "      <td>\\sin{x}\\cos{x}=2\\sin{x}</td>\n",
       "      <td>Eq(sin(x)*cos(x), 2*sin(x))</td>\n",
       "      <td>\\left [ 0\\right ]</td>\n",
       "      <td>Resolver las siguientes ecuaciones:</td>\n",
       "      <td>1BC</td>\n",
       "      <td>23 - Trigonometría</td>\n",
       "      <td>p041e28</td>\n",
       "      <td>1</td>\n",
       "      <td>1</td>\n",
       "      <td>1</td>\n",
       "      <td>True</td>\n",
       "      <td>True</td>\n",
       "    </tr>\n",
       "    <tr>\n",
       "      <th>8</th>\n",
       "      <td>2\\cos{x}-3\\tan{x}=0</td>\n",
       "      <td>Eq(2*cos(x) - 3*tan(x), 0)</td>\n",
       "      <td>\\left [ 150, \\quad 30, \\quad - \\frac{180 i \\lo...</td>\n",
       "      <td>Resolver las siguientes ecuaciones:</td>\n",
       "      <td>1BC</td>\n",
       "      <td>23 - Trigonometría</td>\n",
       "      <td>p041e28</td>\n",
       "      <td>1</td>\n",
       "      <td>1</td>\n",
       "      <td>1</td>\n",
       "      <td>True</td>\n",
       "      <td>True</td>\n",
       "    </tr>\n",
       "    <tr>\n",
       "      <th>9</th>\n",
       "      <td>\\sin{2x}=2\\cos{x}</td>\n",
       "      <td>Eq(sin(2*x), 2*cos(x))</td>\n",
       "      <td>\\left [ -90, \\quad 90\\right ]</td>\n",
       "      <td>Resolver las siguientes ecuaciones:</td>\n",
       "      <td>1BC</td>\n",
       "      <td>23 - Trigonometría</td>\n",
       "      <td>p041e28</td>\n",
       "      <td>1</td>\n",
       "      <td>1</td>\n",
       "      <td>1</td>\n",
       "      <td>True</td>\n",
       "      <td>True</td>\n",
       "    </tr>\n",
       "    <tr>\n",
       "      <th>10</th>\n",
       "      <td>4\\tan{x}=\\frac{\\sqrt{3}}{\\cos^2{x}}</td>\n",
       "      <td>Eq(4*tan(x), sqrt(3)/cos(x)**2)</td>\n",
       "      <td>\\left [ -120, \\quad -150, \\quad 60, \\quad 30\\r...</td>\n",
       "      <td>Resolver las siguientes ecuaciones:</td>\n",
       "      <td>1BC</td>\n",
       "      <td>23 - Trigonometría</td>\n",
       "      <td>p041e28</td>\n",
       "      <td>1</td>\n",
       "      <td>1</td>\n",
       "      <td>1</td>\n",
       "      <td>True</td>\n",
       "      <td>True</td>\n",
       "    </tr>\n",
       "    <tr>\n",
       "      <th>11</th>\n",
       "      <td>\\sin{x}+\\cos{x}=\\sqrt{2}</td>\n",
       "      <td>Eq(sin(x) + cos(x), sqrt(2))</td>\n",
       "      <td>\\left [ 45\\right ]</td>\n",
       "      <td>Resolver las siguientes ecuaciones:</td>\n",
       "      <td>1BC</td>\n",
       "      <td>23 - Trigonometría</td>\n",
       "      <td>p041e28</td>\n",
       "      <td>1</td>\n",
       "      <td>1</td>\n",
       "      <td>1</td>\n",
       "      <td>True</td>\n",
       "      <td>True</td>\n",
       "    </tr>\n",
       "    <tr>\n",
       "      <th>12</th>\n",
       "      <td>\\sin{2x}\\cos{x}=6\\sin^3{x}</td>\n",
       "      <td>Eq(sin(2*x)*cos(x), 6*sin(x)**3)</td>\n",
       "      <td>\\left [ 0, \\quad 180, \\quad -150, \\quad 150, \\...</td>\n",
       "      <td>Resolver las siguientes ecuaciones:</td>\n",
       "      <td>1BC</td>\n",
       "      <td>23 - Trigonometría</td>\n",
       "      <td>p041e28</td>\n",
       "      <td>1</td>\n",
       "      <td>1</td>\n",
       "      <td>1</td>\n",
       "      <td>True</td>\n",
       "      <td>True</td>\n",
       "    </tr>\n",
       "    <tr>\n",
       "      <th>13</th>\n",
       "      <td>4\\sin{\\frac{x}{2}}\\cos{x}=3</td>\n",
       "      <td>Eq(4*(sin(x/2)*cos(x)), 3)</td>\n",
       "      <td>\\left [ \\right ]</td>\n",
       "      <td>Resolver las siguientes ecuaciones:</td>\n",
       "      <td>1BC</td>\n",
       "      <td>23 - Trigonometría</td>\n",
       "      <td>p041e28</td>\n",
       "      <td>1</td>\n",
       "      <td>1</td>\n",
       "      <td>1</td>\n",
       "      <td>True</td>\n",
       "      <td>True</td>\n",
       "    </tr>\n",
       "    <tr>\n",
       "      <th>14</th>\n",
       "      <td>\\tan{x}\\tan{2x}=1</td>\n",
       "      <td>Eq(tan(x)*tan(2*x), 1)</td>\n",
       "      <td>\\left [ -150, \\quad 150, \\quad -30, \\quad 30\\r...</td>\n",
       "      <td>Resolver las siguientes ecuaciones:</td>\n",
       "      <td>1BC</td>\n",
       "      <td>23 - Trigonometría</td>\n",
       "      <td>p041e28</td>\n",
       "      <td>1</td>\n",
       "      <td>1</td>\n",
       "      <td>1</td>\n",
       "      <td>True</td>\n",
       "      <td>True</td>\n",
       "    </tr>\n",
       "    <tr>\n",
       "      <th>15</th>\n",
       "      <td>4\\cos{2x}+3\\cos{x}=1</td>\n",
       "      <td>Eq(3*cos(x) + 4*cos(2*x), 1)</td>\n",
       "      <td>\\left [ 180, \\quad - \\frac{180 i \\log{\\left (\\...</td>\n",
       "      <td>Resolver las siguientes ecuaciones:</td>\n",
       "      <td>1BC</td>\n",
       "      <td>23 - Trigonometría</td>\n",
       "      <td>p041e28</td>\n",
       "      <td>1</td>\n",
       "      <td>1</td>\n",
       "      <td>1</td>\n",
       "      <td>True</td>\n",
       "      <td>True</td>\n",
       "    </tr>\n",
       "    <tr>\n",
       "      <th>16</th>\n",
       "      <td>\\tan{x}+3\\cot{x}=4</td>\n",
       "      <td>Eq(tan(x) + 3*cot(x), 4)</td>\n",
       "      <td>\\left [ 45, \\quad \\frac{180 \\operatorname{atan...</td>\n",
       "      <td>Resolver las siguientes ecuaciones:</td>\n",
       "      <td>1BC</td>\n",
       "      <td>23 - Trigonometría</td>\n",
       "      <td>p041e28</td>\n",
       "      <td>1</td>\n",
       "      <td>1</td>\n",
       "      <td>1</td>\n",
       "      <td>True</td>\n",
       "      <td>True</td>\n",
       "    </tr>\n",
       "    <tr>\n",
       "      <th>17</th>\n",
       "      <td>4\\sin{(x-30)}\\cos{(x-30)}=\\sqrt{3}</td>\n",
       "      <td>Eq(4*(sin(x - 30)*cos(x - 30)), sqrt(3))</td>\n",
       "      <td>\\left [ \\frac{180 \\left(- \\frac{2 \\pi}{3} + 30...</td>\n",
       "      <td>Resolver las siguientes ecuaciones:</td>\n",
       "      <td>1BC</td>\n",
       "      <td>23 - Trigonometría</td>\n",
       "      <td>p041e28</td>\n",
       "      <td>1</td>\n",
       "      <td>1</td>\n",
       "      <td>1</td>\n",
       "      <td>True</td>\n",
       "      <td>True</td>\n",
       "    </tr>\n",
       "  </tbody>\n",
       "</table>\n",
       "</div>"
      ],
      "text/plain": [
       "                        enunciado_latex  \\\n",
       "3            2\\sin{x}+\\csc{x}=2\\sqrt{2}   \n",
       "4                   \\sin{x}=\\cos^2{x}+1   \n",
       "5                      \\sin{x}\\cos{x}=0   \n",
       "6                     \\tan{x}-\\sin{x}=0   \n",
       "7               \\sin{x}\\cos{x}=2\\sin{x}   \n",
       "8                   2\\cos{x}-3\\tan{x}=0   \n",
       "9                     \\sin{2x}=2\\cos{x}   \n",
       "10  4\\tan{x}=\\frac{\\sqrt{3}}{\\cos^2{x}}   \n",
       "11             \\sin{x}+\\cos{x}=\\sqrt{2}   \n",
       "12           \\sin{2x}\\cos{x}=6\\sin^3{x}   \n",
       "13          4\\sin{\\frac{x}{2}}\\cos{x}=3   \n",
       "14                    \\tan{x}\\tan{2x}=1   \n",
       "15                 4\\cos{2x}+3\\cos{x}=1   \n",
       "16                   \\tan{x}+3\\cot{x}=4   \n",
       "17   4\\sin{(x-30)}\\cos{(x-30)}=\\sqrt{3}   \n",
       "\n",
       "                                   enunciado  \\\n",
       "3           Eq(2*sin(x) + csc(x), 2*sqrt(2))   \n",
       "4                  Eq(sin(x), cos(x)**2 + 1)   \n",
       "5                       Eq(sin(x)*cos(x), 0)   \n",
       "6                    Eq(-sin(x) + tan(x), 0)   \n",
       "7                Eq(sin(x)*cos(x), 2*sin(x))   \n",
       "8                 Eq(2*cos(x) - 3*tan(x), 0)   \n",
       "9                     Eq(sin(2*x), 2*cos(x))   \n",
       "10           Eq(4*tan(x), sqrt(3)/cos(x)**2)   \n",
       "11              Eq(sin(x) + cos(x), sqrt(2))   \n",
       "12          Eq(sin(2*x)*cos(x), 6*sin(x)**3)   \n",
       "13                Eq(4*(sin(x/2)*cos(x)), 3)   \n",
       "14                    Eq(tan(x)*tan(2*x), 1)   \n",
       "15              Eq(3*cos(x) + 4*cos(2*x), 1)   \n",
       "16                  Eq(tan(x) + 3*cot(x), 4)   \n",
       "17  Eq(4*(sin(x - 30)*cos(x - 30)), sqrt(3))   \n",
       "\n",
       "                                             solucion  \\\n",
       "3                       \\left [ 45, \\quad 135\\right ]   \n",
       "4                                  \\left [ 90\\right ]   \n",
       "5   \\left [ 0, \\quad 90, \\quad 180, \\quad 270\\right ]   \n",
       "6   \\left [ 0, \\quad -180, \\quad 180, \\quad 360\\ri...   \n",
       "7                                   \\left [ 0\\right ]   \n",
       "8   \\left [ 150, \\quad 30, \\quad - \\frac{180 i \\lo...   \n",
       "9                       \\left [ -90, \\quad 90\\right ]   \n",
       "10  \\left [ -120, \\quad -150, \\quad 60, \\quad 30\\r...   \n",
       "11                                 \\left [ 45\\right ]   \n",
       "12  \\left [ 0, \\quad 180, \\quad -150, \\quad 150, \\...   \n",
       "13                                   \\left [ \\right ]   \n",
       "14  \\left [ -150, \\quad 150, \\quad -30, \\quad 30\\r...   \n",
       "15  \\left [ 180, \\quad - \\frac{180 i \\log{\\left (\\...   \n",
       "16  \\left [ 45, \\quad \\frac{180 \\operatorname{atan...   \n",
       "17  \\left [ \\frac{180 \\left(- \\frac{2 \\pi}{3} + 30...   \n",
       "\n",
       "                                  texto curso              titulo n_ejercicio  \\\n",
       "3   Resolver las siguientes ecuaciones:   1BC  23 - Trigonometría     p041e28   \n",
       "4   Resolver las siguientes ecuaciones:   1BC  23 - Trigonometría     p041e28   \n",
       "5   Resolver las siguientes ecuaciones:   1BC  23 - Trigonometría     p041e28   \n",
       "6   Resolver las siguientes ecuaciones:   1BC  23 - Trigonometría     p041e28   \n",
       "7   Resolver las siguientes ecuaciones:   1BC  23 - Trigonometría     p041e28   \n",
       "8   Resolver las siguientes ecuaciones:   1BC  23 - Trigonometría     p041e28   \n",
       "9   Resolver las siguientes ecuaciones:   1BC  23 - Trigonometría     p041e28   \n",
       "10  Resolver las siguientes ecuaciones:   1BC  23 - Trigonometría     p041e28   \n",
       "11  Resolver las siguientes ecuaciones:   1BC  23 - Trigonometría     p041e28   \n",
       "12  Resolver las siguientes ecuaciones:   1BC  23 - Trigonometría     p041e28   \n",
       "13  Resolver las siguientes ecuaciones:   1BC  23 - Trigonometría     p041e28   \n",
       "14  Resolver las siguientes ecuaciones:   1BC  23 - Trigonometría     p041e28   \n",
       "15  Resolver las siguientes ecuaciones:   1BC  23 - Trigonometría     p041e28   \n",
       "16  Resolver las siguientes ecuaciones:   1BC  23 - Trigonometría     p041e28   \n",
       "17  Resolver las siguientes ecuaciones:   1BC  23 - Trigonometría     p041e28   \n",
       "\n",
       "    dificultad  n_columnas  puntos  enun_tex  sol_tex  \n",
       "3            1           1       1      True     True  \n",
       "4            1           1       1      True     True  \n",
       "5            1           1       1      True     True  \n",
       "6            1           1       1      True     True  \n",
       "7            1           1       1      True     True  \n",
       "8            1           1       1      True     True  \n",
       "9            1           1       1      True     True  \n",
       "10           1           1       1      True     True  \n",
       "11           1           1       1      True     True  \n",
       "12           1           1       1      True     True  \n",
       "13           1           1       1      True     True  \n",
       "14           1           1       1      True     True  \n",
       "15           1           1       1      True     True  \n",
       "16           1           1       1      True     True  \n",
       "17           1           1       1      True     True  "
      ]
     },
     "metadata": {},
     "output_type": "display_data"
    },
    {
     "data": {
      "text/markdown": [
       "**Ejercicio: **p042e01"
      ],
      "text/plain": [
       "<IPython.core.display.Markdown object>"
      ]
     },
     "metadata": {},
     "output_type": "display_data"
    },
    {
     "data": {
      "text/html": [
       "<div>\n",
       "<style scoped>\n",
       "    .dataframe tbody tr th:only-of-type {\n",
       "        vertical-align: middle;\n",
       "    }\n",
       "\n",
       "    .dataframe tbody tr th {\n",
       "        vertical-align: top;\n",
       "    }\n",
       "\n",
       "    .dataframe thead th {\n",
       "        text-align: right;\n",
       "    }\n",
       "</style>\n",
       "<table border=\"1\" class=\"dataframe\">\n",
       "  <thead>\n",
       "    <tr style=\"text-align: right;\">\n",
       "      <th></th>\n",
       "      <th>enunciado_latex</th>\n",
       "      <th>enunciado</th>\n",
       "      <th>solucion</th>\n",
       "      <th>texto</th>\n",
       "      <th>curso</th>\n",
       "      <th>titulo</th>\n",
       "      <th>n_ejercicio</th>\n",
       "      <th>dificultad</th>\n",
       "      <th>n_columnas</th>\n",
       "      <th>puntos</th>\n",
       "      <th>enun_tex</th>\n",
       "      <th>sol_tex</th>\n",
       "    </tr>\n",
       "  </thead>\n",
       "  <tbody>\n",
       "    <tr>\n",
       "      <th>18</th>\n",
       "      <td>El lado a = 6, y los ángulos B=45º, C=105º</td>\n",
       "      <td>['s[0]/(sin(rad(180-s[1]-s[2])))', 'r*sin(rad(...</td>\n",
       "      <td>6 \\sqrt{2},\\ 3 \\sqrt{2} + 3 \\sqrt{6},\\ 30º</td>\n",
       "      <td>Calcular los restantes elementos de un triángu...</td>\n",
       "      <td>1BC</td>\n",
       "      <td>23 - Trigonometría</td>\n",
       "      <td>p042e01</td>\n",
       "      <td>1</td>\n",
       "      <td>1</td>\n",
       "      <td>1</td>\n",
       "      <td>False</td>\n",
       "      <td>True</td>\n",
       "    </tr>\n",
       "    <tr>\n",
       "      <th>19</th>\n",
       "      <td>El lado a = 8, y los ángulos B=30º, C=60º</td>\n",
       "      <td>['s[0]/(sin(rad(180-s[1]-s[2])))', 'r*sin(rad(...</td>\n",
       "      <td>4,\\ 4 \\sqrt{3},\\ 90º</td>\n",
       "      <td>Calcular los restantes elementos de un triángu...</td>\n",
       "      <td>1BC</td>\n",
       "      <td>23 - Trigonometría</td>\n",
       "      <td>p042e01</td>\n",
       "      <td>1</td>\n",
       "      <td>1</td>\n",
       "      <td>1</td>\n",
       "      <td>False</td>\n",
       "      <td>True</td>\n",
       "    </tr>\n",
       "  </tbody>\n",
       "</table>\n",
       "</div>"
      ],
      "text/plain": [
       "                               enunciado_latex  \\\n",
       "18  El lado a = 6, y los ángulos B=45º, C=105º   \n",
       "19   El lado a = 8, y los ángulos B=30º, C=60º   \n",
       "\n",
       "                                            enunciado  \\\n",
       "18  ['s[0]/(sin(rad(180-s[1]-s[2])))', 'r*sin(rad(...   \n",
       "19  ['s[0]/(sin(rad(180-s[1]-s[2])))', 'r*sin(rad(...   \n",
       "\n",
       "                                      solucion  \\\n",
       "18  6 \\sqrt{2},\\ 3 \\sqrt{2} + 3 \\sqrt{6},\\ 30º   \n",
       "19                        4,\\ 4 \\sqrt{3},\\ 90º   \n",
       "\n",
       "                                                texto curso  \\\n",
       "18  Calcular los restantes elementos de un triángu...   1BC   \n",
       "19  Calcular los restantes elementos de un triángu...   1BC   \n",
       "\n",
       "                titulo n_ejercicio  dificultad  n_columnas  puntos  enun_tex  \\\n",
       "18  23 - Trigonometría     p042e01           1           1       1     False   \n",
       "19  23 - Trigonometría     p042e01           1           1       1     False   \n",
       "\n",
       "    sol_tex  \n",
       "18     True  \n",
       "19     True  "
      ]
     },
     "metadata": {},
     "output_type": "display_data"
    },
    {
     "data": {
      "text/markdown": [
       "**Ejercicio: **p042e02"
      ],
      "text/plain": [
       "<IPython.core.display.Markdown object>"
      ]
     },
     "metadata": {},
     "output_type": "display_data"
    },
    {
     "data": {
      "text/html": [
       "<div>\n",
       "<style scoped>\n",
       "    .dataframe tbody tr th:only-of-type {\n",
       "        vertical-align: middle;\n",
       "    }\n",
       "\n",
       "    .dataframe tbody tr th {\n",
       "        vertical-align: top;\n",
       "    }\n",
       "\n",
       "    .dataframe thead th {\n",
       "        text-align: right;\n",
       "    }\n",
       "</style>\n",
       "<table border=\"1\" class=\"dataframe\">\n",
       "  <thead>\n",
       "    <tr style=\"text-align: right;\">\n",
       "      <th></th>\n",
       "      <th>enunciado_latex</th>\n",
       "      <th>enunciado</th>\n",
       "      <th>solucion</th>\n",
       "      <th>texto</th>\n",
       "      <th>curso</th>\n",
       "      <th>titulo</th>\n",
       "      <th>n_ejercicio</th>\n",
       "      <th>dificultad</th>\n",
       "      <th>n_columnas</th>\n",
       "      <th>puntos</th>\n",
       "      <th>enun_tex</th>\n",
       "      <th>sol_tex</th>\n",
       "    </tr>\n",
       "  </thead>\n",
       "  <tbody>\n",
       "    <tr>\n",
       "      <th>20</th>\n",
       "      <td>Los lados a=10y b=7, y C=30º</td>\n",
       "      <td>[sqrt(-70*sqrt(3) + 149), 108.36878841450955, ...</td>\n",
       "      <td>\\sqrt{- 70 \\sqrt{3} + 149} = 5.268438428052338...</td>\n",
       "      <td>Calcular los restantes elementos de un triángu...</td>\n",
       "      <td>1BC</td>\n",
       "      <td>23 - Trigonometría</td>\n",
       "      <td>p042e02</td>\n",
       "      <td>1</td>\n",
       "      <td>1</td>\n",
       "      <td>1</td>\n",
       "      <td>False</td>\n",
       "      <td>True</td>\n",
       "    </tr>\n",
       "  </tbody>\n",
       "</table>\n",
       "</div>"
      ],
      "text/plain": [
       "                 enunciado_latex  \\\n",
       "20  Los lados a=10y b=7, y C=30º   \n",
       "\n",
       "                                            enunciado  \\\n",
       "20  [sqrt(-70*sqrt(3) + 149), 108.36878841450955, ...   \n",
       "\n",
       "                                             solucion  \\\n",
       "20  \\sqrt{- 70 \\sqrt{3} + 149} = 5.268438428052338...   \n",
       "\n",
       "                                                texto curso  \\\n",
       "20  Calcular los restantes elementos de un triángu...   1BC   \n",
       "\n",
       "                titulo n_ejercicio  dificultad  n_columnas  puntos  enun_tex  \\\n",
       "20  23 - Trigonometría     p042e02           1           1       1     False   \n",
       "\n",
       "    sol_tex  \n",
       "20     True  "
      ]
     },
     "metadata": {},
     "output_type": "display_data"
    },
    {
     "data": {
      "text/markdown": [
       "**Ejercicio: **p042e03"
      ],
      "text/plain": [
       "<IPython.core.display.Markdown object>"
      ]
     },
     "metadata": {},
     "output_type": "display_data"
    },
    {
     "data": {
      "text/html": [
       "<div>\n",
       "<style scoped>\n",
       "    .dataframe tbody tr th:only-of-type {\n",
       "        vertical-align: middle;\n",
       "    }\n",
       "\n",
       "    .dataframe tbody tr th {\n",
       "        vertical-align: top;\n",
       "    }\n",
       "\n",
       "    .dataframe thead th {\n",
       "        text-align: right;\n",
       "    }\n",
       "</style>\n",
       "<table border=\"1\" class=\"dataframe\">\n",
       "  <thead>\n",
       "    <tr style=\"text-align: right;\">\n",
       "      <th></th>\n",
       "      <th>enunciado_latex</th>\n",
       "      <th>enunciado</th>\n",
       "      <th>solucion</th>\n",
       "      <th>texto</th>\n",
       "      <th>curso</th>\n",
       "      <th>titulo</th>\n",
       "      <th>n_ejercicio</th>\n",
       "      <th>dificultad</th>\n",
       "      <th>n_columnas</th>\n",
       "      <th>puntos</th>\n",
       "      <th>enun_tex</th>\n",
       "      <th>sol_tex</th>\n",
       "    </tr>\n",
       "  </thead>\n",
       "  <tbody>\n",
       "    <tr>\n",
       "      <th>21</th>\n",
       "      <td>El lado a = 52 y b = 32 y que B = 40.5º.</td>\n",
       "      <td>[33.77129851316955, True]</td>\n",
       "      <td>distancia_{a recta}=33.77129851316955  \\to \\ma...</td>\n",
       "      <td>Determina si se puede construir un triángulo A...</td>\n",
       "      <td>1BC</td>\n",
       "      <td>23 - Trigonometría</td>\n",
       "      <td>p042e03</td>\n",
       "      <td>1</td>\n",
       "      <td>1</td>\n",
       "      <td>1</td>\n",
       "      <td>False</td>\n",
       "      <td>True</td>\n",
       "    </tr>\n",
       "    <tr>\n",
       "      <th>22</th>\n",
       "      <td>El lado a = 50 y b = 32 y que B = 39.5º.</td>\n",
       "      <td>[31.803911013888197, False]</td>\n",
       "      <td>distancia_{a recta}=31.803911013888197  \\to \\m...</td>\n",
       "      <td>Determina si se puede construir un triángulo A...</td>\n",
       "      <td>1BC</td>\n",
       "      <td>23 - Trigonometría</td>\n",
       "      <td>p042e03</td>\n",
       "      <td>1</td>\n",
       "      <td>1</td>\n",
       "      <td>1</td>\n",
       "      <td>False</td>\n",
       "      <td>True</td>\n",
       "    </tr>\n",
       "  </tbody>\n",
       "</table>\n",
       "</div>"
      ],
      "text/plain": [
       "                             enunciado_latex                    enunciado  \\\n",
       "21  El lado a = 52 y b = 32 y que B = 40.5º.    [33.77129851316955, True]   \n",
       "22  El lado a = 50 y b = 32 y que B = 39.5º.  [31.803911013888197, False]   \n",
       "\n",
       "                                             solucion  \\\n",
       "21  distancia_{a recta}=33.77129851316955  \\to \\ma...   \n",
       "22  distancia_{a recta}=31.803911013888197  \\to \\m...   \n",
       "\n",
       "                                                texto curso  \\\n",
       "21  Determina si se puede construir un triángulo A...   1BC   \n",
       "22  Determina si se puede construir un triángulo A...   1BC   \n",
       "\n",
       "                titulo n_ejercicio  dificultad  n_columnas  puntos  enun_tex  \\\n",
       "21  23 - Trigonometría     p042e03           1           1       1     False   \n",
       "22  23 - Trigonometría     p042e03           1           1       1     False   \n",
       "\n",
       "    sol_tex  \n",
       "21     True  \n",
       "22     True  "
      ]
     },
     "metadata": {},
     "output_type": "display_data"
    },
    {
     "data": {
      "text/markdown": [
       "**Ejercicio: **p042e04"
      ],
      "text/plain": [
       "<IPython.core.display.Markdown object>"
      ]
     },
     "metadata": {},
     "output_type": "display_data"
    },
    {
     "data": {
      "text/html": [
       "<div>\n",
       "<style scoped>\n",
       "    .dataframe tbody tr th:only-of-type {\n",
       "        vertical-align: middle;\n",
       "    }\n",
       "\n",
       "    .dataframe tbody tr th {\n",
       "        vertical-align: top;\n",
       "    }\n",
       "\n",
       "    .dataframe thead th {\n",
       "        text-align: right;\n",
       "    }\n",
       "</style>\n",
       "<table border=\"1\" class=\"dataframe\">\n",
       "  <thead>\n",
       "    <tr style=\"text-align: right;\">\n",
       "      <th></th>\n",
       "      <th>enunciado_latex</th>\n",
       "      <th>enunciado</th>\n",
       "      <th>solucion</th>\n",
       "      <th>texto</th>\n",
       "      <th>curso</th>\n",
       "      <th>titulo</th>\n",
       "      <th>n_ejercicio</th>\n",
       "      <th>dificultad</th>\n",
       "      <th>n_columnas</th>\n",
       "      <th>puntos</th>\n",
       "      <th>enun_tex</th>\n",
       "      <th>sol_tex</th>\n",
       "    </tr>\n",
       "  </thead>\n",
       "  <tbody>\n",
       "    <tr>\n",
       "      <th>23</th>\n",
       "      <td>Los lados a=22, b=17, y c=15</td>\n",
       "      <td>[86.62771331656609, 86.62771331656609, 42.8934...</td>\n",
       "      <td>\\left [ 86.62771331656609, \\quad 50.4788036413...</td>\n",
       "      <td>Calcula los ángulo del triángulo ABC, si se co...</td>\n",
       "      <td>1BC</td>\n",
       "      <td>23 - Trigonometría</td>\n",
       "      <td>p042e04</td>\n",
       "      <td>1</td>\n",
       "      <td>1</td>\n",
       "      <td>1</td>\n",
       "      <td>False</td>\n",
       "      <td>True</td>\n",
       "    </tr>\n",
       "  </tbody>\n",
       "</table>\n",
       "</div>"
      ],
      "text/plain": [
       "                 enunciado_latex  \\\n",
       "23  Los lados a=22, b=17, y c=15   \n",
       "\n",
       "                                            enunciado  \\\n",
       "23  [86.62771331656609, 86.62771331656609, 42.8934...   \n",
       "\n",
       "                                             solucion  \\\n",
       "23  \\left [ 86.62771331656609, \\quad 50.4788036413...   \n",
       "\n",
       "                                                texto curso  \\\n",
       "23  Calcula los ángulo del triángulo ABC, si se co...   1BC   \n",
       "\n",
       "                titulo n_ejercicio  dificultad  n_columnas  puntos  enun_tex  \\\n",
       "23  23 - Trigonometría     p042e04           1           1       1     False   \n",
       "\n",
       "    sol_tex  \n",
       "23     True  "
      ]
     },
     "metadata": {},
     "output_type": "display_data"
    },
    {
     "data": {
      "text/markdown": [
       "**Ejercicio: **p042e07"
      ],
      "text/plain": [
       "<IPython.core.display.Markdown object>"
      ]
     },
     "metadata": {},
     "output_type": "display_data"
    },
    {
     "data": {
      "text/html": [
       "<div>\n",
       "<style scoped>\n",
       "    .dataframe tbody tr th:only-of-type {\n",
       "        vertical-align: middle;\n",
       "    }\n",
       "\n",
       "    .dataframe tbody tr th {\n",
       "        vertical-align: top;\n",
       "    }\n",
       "\n",
       "    .dataframe thead th {\n",
       "        text-align: right;\n",
       "    }\n",
       "</style>\n",
       "<table border=\"1\" class=\"dataframe\">\n",
       "  <thead>\n",
       "    <tr style=\"text-align: right;\">\n",
       "      <th></th>\n",
       "      <th>enunciado_latex</th>\n",
       "      <th>enunciado</th>\n",
       "      <th>solucion</th>\n",
       "      <th>texto</th>\n",
       "      <th>curso</th>\n",
       "      <th>titulo</th>\n",
       "      <th>n_ejercicio</th>\n",
       "      <th>dificultad</th>\n",
       "      <th>n_columnas</th>\n",
       "      <th>puntos</th>\n",
       "      <th>enun_tex</th>\n",
       "      <th>sol_tex</th>\n",
       "    </tr>\n",
       "  </thead>\n",
       "  <tbody>\n",
       "    <tr>\n",
       "      <th>24</th>\n",
       "      <td>El lado a=8, y los ángulos B=30º, y C=105º</td>\n",
       "      <td>[3150, 12600.0]</td>\n",
       "      <td>2 \\sqrt{2} \\left(2 \\sqrt{2} + 2 \\sqrt{6}\\right...</td>\n",
       "      <td>Calcular el área de un triángulo sabiendo que:</td>\n",
       "      <td>1BC</td>\n",
       "      <td>23 - Trigonometría</td>\n",
       "      <td>p042e07</td>\n",
       "      <td>1</td>\n",
       "      <td>1</td>\n",
       "      <td>1</td>\n",
       "      <td>False</td>\n",
       "      <td>True</td>\n",
       "    </tr>\n",
       "  </tbody>\n",
       "</table>\n",
       "</div>"
      ],
      "text/plain": [
       "                               enunciado_latex        enunciado  \\\n",
       "24  El lado a=8, y los ángulos B=30º, y C=105º  [3150, 12600.0]   \n",
       "\n",
       "                                             solucion  \\\n",
       "24  2 \\sqrt{2} \\left(2 \\sqrt{2} + 2 \\sqrt{6}\\right...   \n",
       "\n",
       "                                             texto curso              titulo  \\\n",
       "24  Calcular el área de un triángulo sabiendo que:   1BC  23 - Trigonometría   \n",
       "\n",
       "   n_ejercicio  dificultad  n_columnas  puntos  enun_tex  sol_tex  \n",
       "24     p042e07           1           1       1     False     True  "
      ]
     },
     "metadata": {},
     "output_type": "display_data"
    },
    {
     "data": {
      "text/markdown": [
       "**Ejercicio: **p042e08"
      ],
      "text/plain": [
       "<IPython.core.display.Markdown object>"
      ]
     },
     "metadata": {},
     "output_type": "display_data"
    },
    {
     "data": {
      "text/html": [
       "<div>\n",
       "<style scoped>\n",
       "    .dataframe tbody tr th:only-of-type {\n",
       "        vertical-align: middle;\n",
       "    }\n",
       "\n",
       "    .dataframe tbody tr th {\n",
       "        vertical-align: top;\n",
       "    }\n",
       "\n",
       "    .dataframe thead th {\n",
       "        text-align: right;\n",
       "    }\n",
       "</style>\n",
       "<table border=\"1\" class=\"dataframe\">\n",
       "  <thead>\n",
       "    <tr style=\"text-align: right;\">\n",
       "      <th></th>\n",
       "      <th>enunciado_latex</th>\n",
       "      <th>enunciado</th>\n",
       "      <th>solucion</th>\n",
       "      <th>texto</th>\n",
       "      <th>curso</th>\n",
       "      <th>titulo</th>\n",
       "      <th>n_ejercicio</th>\n",
       "      <th>dificultad</th>\n",
       "      <th>n_columnas</th>\n",
       "      <th>puntos</th>\n",
       "      <th>enun_tex</th>\n",
       "      <th>sol_tex</th>\n",
       "    </tr>\n",
       "  </thead>\n",
       "  <tbody>\n",
       "    <tr>\n",
       "      <th>25</th>\n",
       "      <td>Su área mide=18cm², y los ángulos A=30º, y B=45º</td>\n",
       "      <td>[-sqrt(2)*z + sqrt(2)*(x + y), sqrt(3) + 2 - z...</td>\n",
       "      <td>6, 6, 6 \\sqrt{2}</td>\n",
       "      <td>Calcular los lados de un triángulo sabiendo que:</td>\n",
       "      <td>1BC</td>\n",
       "      <td>23 - Trigonometría</td>\n",
       "      <td>p042e08</td>\n",
       "      <td>1</td>\n",
       "      <td>1</td>\n",
       "      <td>1</td>\n",
       "      <td>False</td>\n",
       "      <td>True</td>\n",
       "    </tr>\n",
       "  </tbody>\n",
       "</table>\n",
       "</div>"
      ],
      "text/plain": [
       "                                     enunciado_latex  \\\n",
       "25  Su área mide=18cm², y los ángulos A=30º, y B=45º   \n",
       "\n",
       "                                            enunciado          solucion  \\\n",
       "25  [-sqrt(2)*z + sqrt(2)*(x + y), sqrt(3) + 2 - z...  6, 6, 6 \\sqrt{2}   \n",
       "\n",
       "                                               texto curso  \\\n",
       "25  Calcular los lados de un triángulo sabiendo que:   1BC   \n",
       "\n",
       "                titulo n_ejercicio  dificultad  n_columnas  puntos  enun_tex  \\\n",
       "25  23 - Trigonometría     p042e08           1           1       1     False   \n",
       "\n",
       "    sol_tex  \n",
       "25     True  "
      ]
     },
     "metadata": {},
     "output_type": "display_data"
    },
    {
     "data": {
      "text/markdown": [
       "**Ejercicio: **p042e09"
      ],
      "text/plain": [
       "<IPython.core.display.Markdown object>"
      ]
     },
     "metadata": {},
     "output_type": "display_data"
    },
    {
     "data": {
      "text/html": [
       "<div>\n",
       "<style scoped>\n",
       "    .dataframe tbody tr th:only-of-type {\n",
       "        vertical-align: middle;\n",
       "    }\n",
       "\n",
       "    .dataframe tbody tr th {\n",
       "        vertical-align: top;\n",
       "    }\n",
       "\n",
       "    .dataframe thead th {\n",
       "        text-align: right;\n",
       "    }\n",
       "</style>\n",
       "<table border=\"1\" class=\"dataframe\">\n",
       "  <thead>\n",
       "    <tr style=\"text-align: right;\">\n",
       "      <th></th>\n",
       "      <th>enunciado_latex</th>\n",
       "      <th>enunciado</th>\n",
       "      <th>solucion</th>\n",
       "      <th>texto</th>\n",
       "      <th>curso</th>\n",
       "      <th>titulo</th>\n",
       "      <th>n_ejercicio</th>\n",
       "      <th>dificultad</th>\n",
       "      <th>n_columnas</th>\n",
       "      <th>puntos</th>\n",
       "      <th>enun_tex</th>\n",
       "      <th>sol_tex</th>\n",
       "    </tr>\n",
       "  </thead>\n",
       "  <tbody>\n",
       "    <tr>\n",
       "      <th>26</th>\n",
       "      <td>La distancia AB es de 6km, la BC es=9km, y el ...</td>\n",
       "      <td>sqrt(s[0]**2+s[1]**2-2*s[0]*s[1]*cos(rad(s[2])))</td>\n",
       "      <td>3 \\sqrt{19}=13.076696830622021</td>\n",
       "      <td>Tres puntos A, B y C están unidos por carreter...</td>\n",
       "      <td>1BC</td>\n",
       "      <td>23 - Trigonometría</td>\n",
       "      <td>p042e09</td>\n",
       "      <td>1</td>\n",
       "      <td>1</td>\n",
       "      <td>1</td>\n",
       "      <td>False</td>\n",
       "      <td>True</td>\n",
       "    </tr>\n",
       "  </tbody>\n",
       "</table>\n",
       "</div>"
      ],
      "text/plain": [
       "                                      enunciado_latex  \\\n",
       "26  La distancia AB es de 6km, la BC es=9km, y el ...   \n",
       "\n",
       "                                           enunciado  \\\n",
       "26  sqrt(s[0]**2+s[1]**2-2*s[0]*s[1]*cos(rad(s[2])))   \n",
       "\n",
       "                          solucion  \\\n",
       "26  3 \\sqrt{19}=13.076696830622021   \n",
       "\n",
       "                                                texto curso  \\\n",
       "26  Tres puntos A, B y C están unidos por carreter...   1BC   \n",
       "\n",
       "                titulo n_ejercicio  dificultad  n_columnas  puntos  enun_tex  \\\n",
       "26  23 - Trigonometría     p042e09           1           1       1     False   \n",
       "\n",
       "    sol_tex  \n",
       "26     True  "
      ]
     },
     "metadata": {},
     "output_type": "display_data"
    },
    {
     "data": {
      "text/markdown": [
       "**Ejercicio: **p042e10"
      ],
      "text/plain": [
       "<IPython.core.display.Markdown object>"
      ]
     },
     "metadata": {},
     "output_type": "display_data"
    },
    {
     "data": {
      "text/html": [
       "<div>\n",
       "<style scoped>\n",
       "    .dataframe tbody tr th:only-of-type {\n",
       "        vertical-align: middle;\n",
       "    }\n",
       "\n",
       "    .dataframe tbody tr th {\n",
       "        vertical-align: top;\n",
       "    }\n",
       "\n",
       "    .dataframe thead th {\n",
       "        text-align: right;\n",
       "    }\n",
       "</style>\n",
       "<table border=\"1\" class=\"dataframe\">\n",
       "  <thead>\n",
       "    <tr style=\"text-align: right;\">\n",
       "      <th></th>\n",
       "      <th>enunciado_latex</th>\n",
       "      <th>enunciado</th>\n",
       "      <th>solucion</th>\n",
       "      <th>texto</th>\n",
       "      <th>curso</th>\n",
       "      <th>titulo</th>\n",
       "      <th>n_ejercicio</th>\n",
       "      <th>dificultad</th>\n",
       "      <th>n_columnas</th>\n",
       "      <th>puntos</th>\n",
       "      <th>enun_tex</th>\n",
       "      <th>sol_tex</th>\n",
       "    </tr>\n",
       "  </thead>\n",
       "  <tbody>\n",
       "    <tr>\n",
       "      <th>27</th>\n",
       "      <td>a=25km, b=28, y sen(C)=0.96, siendo C &lt; 90º</td>\n",
       "      <td>[26.88, 336.0]</td>\n",
       "      <td>336.0</td>\n",
       "      <td>Calcular el área de un triángulo ABC sabiendo que</td>\n",
       "      <td>1BC</td>\n",
       "      <td>23 - Trigonometría</td>\n",
       "      <td>p042e10</td>\n",
       "      <td>1</td>\n",
       "      <td>1</td>\n",
       "      <td>1</td>\n",
       "      <td>False</td>\n",
       "      <td>True</td>\n",
       "    </tr>\n",
       "  </tbody>\n",
       "</table>\n",
       "</div>"
      ],
      "text/plain": [
       "                                enunciado_latex       enunciado solucion  \\\n",
       "27  a=25km, b=28, y sen(C)=0.96, siendo C < 90º  [26.88, 336.0]    336.0   \n",
       "\n",
       "                                                texto curso  \\\n",
       "27  Calcular el área de un triángulo ABC sabiendo que   1BC   \n",
       "\n",
       "                titulo n_ejercicio  dificultad  n_columnas  puntos  enun_tex  \\\n",
       "27  23 - Trigonometría     p042e10           1           1       1     False   \n",
       "\n",
       "    sol_tex  \n",
       "27     True  "
      ]
     },
     "metadata": {},
     "output_type": "display_data"
    },
    {
     "data": {
      "text/markdown": [
       "**Ejercicio: **p042e11"
      ],
      "text/plain": [
       "<IPython.core.display.Markdown object>"
      ]
     },
     "metadata": {},
     "output_type": "display_data"
    },
    {
     "data": {
      "text/html": [
       "<div>\n",
       "<style scoped>\n",
       "    .dataframe tbody tr th:only-of-type {\n",
       "        vertical-align: middle;\n",
       "    }\n",
       "\n",
       "    .dataframe tbody tr th {\n",
       "        vertical-align: top;\n",
       "    }\n",
       "\n",
       "    .dataframe thead th {\n",
       "        text-align: right;\n",
       "    }\n",
       "</style>\n",
       "<table border=\"1\" class=\"dataframe\">\n",
       "  <thead>\n",
       "    <tr style=\"text-align: right;\">\n",
       "      <th></th>\n",
       "      <th>enunciado_latex</th>\n",
       "      <th>enunciado</th>\n",
       "      <th>solucion</th>\n",
       "      <th>texto</th>\n",
       "      <th>curso</th>\n",
       "      <th>titulo</th>\n",
       "      <th>n_ejercicio</th>\n",
       "      <th>dificultad</th>\n",
       "      <th>n_columnas</th>\n",
       "      <th>puntos</th>\n",
       "      <th>enun_tex</th>\n",
       "      <th>sol_tex</th>\n",
       "    </tr>\n",
       "  </thead>\n",
       "  <tbody>\n",
       "    <tr>\n",
       "      <th>28</th>\n",
       "      <td>Un barco se encuentra a una distancia de 3.5 k...</td>\n",
       "      <td>[0.742526244918245, 4.37694966641595]</td>\n",
       "      <td>b=\\left [ 0.742526244918245, \\quad 4.376949666...</td>\n",
       "      <td>Resuelve</td>\n",
       "      <td>1BC</td>\n",
       "      <td>23 - Trigonometría</td>\n",
       "      <td>p042e11</td>\n",
       "      <td>1</td>\n",
       "      <td>1</td>\n",
       "      <td>1</td>\n",
       "      <td>False</td>\n",
       "      <td>True</td>\n",
       "    </tr>\n",
       "  </tbody>\n",
       "</table>\n",
       "</div>"
      ],
      "text/plain": [
       "                                      enunciado_latex  \\\n",
       "28  Un barco se encuentra a una distancia de 3.5 k...   \n",
       "\n",
       "                                enunciado  \\\n",
       "28  [0.742526244918245, 4.37694966641595]   \n",
       "\n",
       "                                             solucion     texto curso  \\\n",
       "28  b=\\left [ 0.742526244918245, \\quad 4.376949666...  Resuelve   1BC   \n",
       "\n",
       "                titulo n_ejercicio  dificultad  n_columnas  puntos  enun_tex  \\\n",
       "28  23 - Trigonometría     p042e11           1           1       1     False   \n",
       "\n",
       "    sol_tex  \n",
       "28     True  "
      ]
     },
     "metadata": {},
     "output_type": "display_data"
    },
    {
     "data": {
      "text/markdown": [
       "**Ejercicio: **p042e12"
      ],
      "text/plain": [
       "<IPython.core.display.Markdown object>"
      ]
     },
     "metadata": {},
     "output_type": "display_data"
    },
    {
     "data": {
      "text/html": [
       "<div>\n",
       "<style scoped>\n",
       "    .dataframe tbody tr th:only-of-type {\n",
       "        vertical-align: middle;\n",
       "    }\n",
       "\n",
       "    .dataframe tbody tr th {\n",
       "        vertical-align: top;\n",
       "    }\n",
       "\n",
       "    .dataframe thead th {\n",
       "        text-align: right;\n",
       "    }\n",
       "</style>\n",
       "<table border=\"1\" class=\"dataframe\">\n",
       "  <thead>\n",
       "    <tr style=\"text-align: right;\">\n",
       "      <th></th>\n",
       "      <th>enunciado_latex</th>\n",
       "      <th>enunciado</th>\n",
       "      <th>solucion</th>\n",
       "      <th>texto</th>\n",
       "      <th>curso</th>\n",
       "      <th>titulo</th>\n",
       "      <th>n_ejercicio</th>\n",
       "      <th>dificultad</th>\n",
       "      <th>n_columnas</th>\n",
       "      <th>puntos</th>\n",
       "      <th>enun_tex</th>\n",
       "      <th>sol_tex</th>\n",
       "    </tr>\n",
       "  </thead>\n",
       "  <tbody>\n",
       "    <tr>\n",
       "      <th>29</th>\n",
       "      <td>Las visuales a lo alto de una torre desde dos ...</td>\n",
       "      <td>[[150*sqrt(2)/cos(pi/36)], [300*sin(5*pi/18)/c...</td>\n",
       "      <td>A:212.9423442649438\\ B:230.69118253280297</td>\n",
       "      <td>Resuelve</td>\n",
       "      <td>1BC</td>\n",
       "      <td>23 - Trigonometría</td>\n",
       "      <td>p042e12</td>\n",
       "      <td>1</td>\n",
       "      <td>1</td>\n",
       "      <td>1</td>\n",
       "      <td>False</td>\n",
       "      <td>True</td>\n",
       "    </tr>\n",
       "    <tr>\n",
       "      <th>30</th>\n",
       "      <td>Las visuales a lo alto de una torre desde dos ...</td>\n",
       "      <td>[[300*sin(5*pi/18)/sin(pi/36)], [150*sqrt(2)/s...</td>\n",
       "      <td>A:\\left [ \\frac{300 \\sin{\\left (\\frac{5 \\pi}{1...</td>\n",
       "      <td>Resuelve</td>\n",
       "      <td>1BC</td>\n",
       "      <td>23 - Trigonometría</td>\n",
       "      <td>p042e12</td>\n",
       "      <td>1</td>\n",
       "      <td>1</td>\n",
       "      <td>1</td>\n",
       "      <td>False</td>\n",
       "      <td>True</td>\n",
       "    </tr>\n",
       "  </tbody>\n",
       "</table>\n",
       "</div>"
      ],
      "text/plain": [
       "                                      enunciado_latex  \\\n",
       "29  Las visuales a lo alto de una torre desde dos ...   \n",
       "30  Las visuales a lo alto de una torre desde dos ...   \n",
       "\n",
       "                                            enunciado  \\\n",
       "29  [[150*sqrt(2)/cos(pi/36)], [300*sin(5*pi/18)/c...   \n",
       "30  [[300*sin(5*pi/18)/sin(pi/36)], [150*sqrt(2)/s...   \n",
       "\n",
       "                                             solucion     texto curso  \\\n",
       "29          A:212.9423442649438\\ B:230.69118253280297  Resuelve   1BC   \n",
       "30  A:\\left [ \\frac{300 \\sin{\\left (\\frac{5 \\pi}{1...  Resuelve   1BC   \n",
       "\n",
       "                titulo n_ejercicio  dificultad  n_columnas  puntos  enun_tex  \\\n",
       "29  23 - Trigonometría     p042e12           1           1       1     False   \n",
       "30  23 - Trigonometría     p042e12           1           1       1     False   \n",
       "\n",
       "    sol_tex  \n",
       "29     True  \n",
       "30     True  "
      ]
     },
     "metadata": {},
     "output_type": "display_data"
    }
   ],
   "source": [
    "escribir_preambulo(fichero, titulo, 'ejercicios')\n",
    "for s in df_ejercicios.groupby('n_ejercicio').count().index : \n",
    "    display(md(\"**Ejercicio: **\" + s ))\n",
    "    display(df_ejercicios[df_ejercicios.n_ejercicio == s])\n",
    "    escribir_ejercicios(df_ejercicios[df_ejercicios.n_ejercicio == s],fichero)\n",
    "\n",
    "escribir_fin(fichero)"
   ]
  }
 ],
 "metadata": {
  "kernelspec": {
   "display_name": "Python 3",
   "language": "python",
   "name": "python3"
  },
  "language_info": {
   "codemirror_mode": {
    "name": "ipython",
    "version": 3
   },
   "file_extension": ".py",
   "mimetype": "text/x-python",
   "name": "python",
   "nbconvert_exporter": "python",
   "pygments_lexer": "ipython3",
   "version": "3.6.13"
  }
 },
 "nbformat": 4,
 "nbformat_minor": 2
}
