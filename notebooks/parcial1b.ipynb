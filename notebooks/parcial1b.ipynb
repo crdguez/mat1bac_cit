{
 "cells": [
  {
   "cell_type": "markdown",
   "metadata": {},
   "source": [
    "<a href=\"https://colab.research.google.com/github/crdguez/mat1bac_cit/blob/master/notebooks/Ejercicios1_3.ipynb\"><img align=\"left\" src=\"https://colab.research.google.com/assets/colab-badge.svg\" alt=\"Open in Colab\" title=\"Open and Execute in Google Colaboratory\"></a>"
   ]
  },
  {
   "cell_type": "code",
   "execution_count": 1,
   "metadata": {},
   "outputs": [
    {
     "name": "stdout",
     "output_type": "stream",
     "text": [
      "IPython console for SymPy 1.2 (Python 3.6.5-64-bit) (ground types: gmpy)\n",
      "\n",
      "These commands were executed:\n",
      ">>> from __future__ import division\n",
      ">>> from sympy import *\n",
      ">>> x, y, z, t = symbols('x y z t')\n",
      ">>> k, m, n = symbols('k m n', integer=True)\n",
      ">>> f, g, h = symbols('f g h', cls=Function)\n",
      ">>> init_printing()\n",
      "\n",
      "Documentation can be found at http://docs.sympy.org/1.2/\n",
      "\n"
     ]
    }
   ],
   "source": [
    "from sympy import init_session, prod\n",
    "from sympy.parsing.latex import parse_latex\n",
    "from sympy.parsing.sympy_parser import parse_expr\n",
    "from sympy.solvers.inequalities import solve_univariate_inequality\n",
    "from IPython.display import Markdown as md\n",
    "from IPython.display import display\n",
    "import pandas as pd\n",
    "\n",
    "init_session()\n",
    "\n",
    "a, b, c, d = symbols('a b c d', real = True)\n",
    "from docparts import añadir_ejercicios, doc_ejer, escribir_preambulo, escribir_ejercicios, escribir_fin\n",
    "\n",
    "df_ejercicios = pd.DataFrame()\n",
    "\n",
    "fichero = 'parcial1b'\n",
    "titulo = 'Parcial 1'\n",
    "curso = '1BC'\n"
   ]
  },
  {
   "cell_type": "code",
   "execution_count": 2,
   "metadata": {},
   "outputs": [],
   "source": [
    "def simbolo (operacion):\n",
    "    if operacion == '<=' :\n",
    "        return('\\leq')\n",
    "    elif operacion == '>=' :\n",
    "        return('\\geq')\n",
    "    else :\n",
    "        return(operacion)"
   ]
  },
  {
   "cell_type": "code",
   "execution_count": 3,
   "metadata": {},
   "outputs": [
    {
     "data": {
      "text/markdown": [
       "**Dados los siguientes conjuntos A, B y C, represéntalos en la recta real. A continuación, calcula $A \\cup  B$ , $A \\cap B$ y $A \\cap B \\cap C$ , \n",
       "y expresa los resultados en forma de Intervalos. \n",
       "Indica además, si existe, el supremo y el ínfimo de cada uno.de los conjuntos resultado.**"
      ],
      "text/plain": [
       "<IPython.core.display.Markdown object>"
      ]
     },
     "metadata": {},
     "output_type": "display_data"
    },
    {
     "data": {
      "text/markdown": [
       "$A=\\left\\{ x \\in \\mathbb{R}| 6 \\leq x \\wedge x < 8 \\right\\}, \\\\ B=\\left(-\\infty, -3\\right) \\cup \\left(3, \\infty\\right)  y \\\\  C=\\left\\{ x \\in \\mathbb{R}| \\left|{x + 2}\\right|\\geq12 \\right\\} \\\\ \\rightarrow Solución:  C=\\left(-\\infty, -14\\right] \\cup \\left[10, \\infty\\right) \\ \\ A \\cup  B = \\left(-\\infty, -3\\right) \\cup \\left(3, \\infty\\right)  \\\\  A \\cap B= \\left[6, 8\\right)   \\\\  A \\cap B  \\cap C= \\emptyset$"
      ],
      "text/plain": [
       "<IPython.core.display.Markdown object>"
      ]
     },
     "metadata": {},
     "output_type": "display_data"
    }
   ],
   "source": [
    "# ejercicio de examen 1\n",
    "\n",
    "n_ejercicio = 'ex01e01'\n",
    "puntuacion = '2'\n",
    "\n",
    "texto_ejercicio = 'Dados los siguientes conjuntos A, B y C, represéntalos en la recta real. '\n",
    "texto_ejercicio = texto_ejercicio +\"\"\"A continuación, calcula $A \\cup  B$ , $A \\cap B$ y $A \\cap B \\cap C$ , \n",
    "y expresa los resultados en forma de Intervalos. \n",
    "Indica además, si existe, el supremo y el ínfimo de cada uno.de los conjuntos resultado.\"\"\"\n",
    "\n",
    "\n",
    "display(md(\"**\"+texto_ejercicio+\"**\"))\n",
    "\n",
    "\n",
    "enunciado =[[Interval.Ropen(6,8),Interval.open(-oo,-3).union(Interval.open(3,oo)),['Abs(x + 2)','>=','12']]\n",
    "           ]\n",
    "\n",
    "enunciado_latex = []\n",
    "solucion = []\n",
    "\n",
    "for s in enunciado:\n",
    "    el = r\"\"\"A=\\left\\{ x \\in \\mathbb{R}| %s \\right\\}, \\\\ B=%s  y \\\\  C=\\left\\{ x \\in \\mathbb{R}| %s \\right\\} \\\\\"\"\"  % (latex(s[0].as_relational(x)), latex(s[1]), latex(S(s[2][0]))+simbolo(s[2][1])+latex(S(s[2][2])))\n",
    "\n",
    "    enunciado_latex.append(el)\n",
    "    \n",
    "    sl = r\"\"\"C=%s \\ \\ A \\cup  B = %s  \\\\  A \\cap B= %s   \\\\  A \\cap B  \\cap C= %s\"\"\" % (latex(reduce_abs_inequalities([(S(s[2][0])-S(s[2][2]),s[2][1])], x).as_set()),latex(s[0].union(s[1])), latex(s[0].intersection(s[1])),  latex(s[0].intersection(s[1]).intersection(reduce_abs_inequalities([(S(s[2][0])-S(s[2][2]),s[2][1])], x).as_set())))\n",
    "    \n",
    "    solucion.append(sl)\n",
    "    display(md('$'+el+' \\\\rightarrow Solución:  '+sl+'$'))\n",
    "    \n",
    "\n",
    "df_ejercicios = df_ejercicios.append(añadir_ejercicios(enunciado_latex, enunciado, solucion, texto_ejercicio, curso, titulo, n_ejercicio, puntos = puntuacion), ignore_index=True)\n"
   ]
  },
  {
   "cell_type": "code",
   "execution_count": 4,
   "metadata": {},
   "outputs": [
    {
     "data": {
      "text/markdown": [
       "**Usando la definición y las propiedades de los números combinatorios, resolver las ecuaciones:**"
      ],
      "text/plain": [
       "<IPython.core.display.Markdown object>"
      ]
     },
     "metadata": {},
     "output_type": "display_data"
    },
    {
     "data": {
      "text/markdown": [
       "${\\binom{23}{x}} = \\binom{23}{3x-1} \\rightarrow Solución:  \\left\\{6\\right\\}$"
      ],
      "text/plain": [
       "<IPython.core.display.Markdown object>"
      ]
     },
     "metadata": {},
     "output_type": "display_data"
    },
    {
     "data": {
      "text/markdown": [
       "${\\binom{39}{5+2x}} = \\binom{39}{2x-2} \\rightarrow Solución:  \\left\\{9\\right\\}$"
      ],
      "text/plain": [
       "<IPython.core.display.Markdown object>"
      ]
     },
     "metadata": {},
     "output_type": "display_data"
    },
    {
     "data": {
      "text/markdown": [
       "${\\binom{15}{x}} = \\binom{15}{x+1} \\rightarrow Solución:  \\left\\{7\\right\\}$"
      ],
      "text/plain": [
       "<IPython.core.display.Markdown object>"
      ]
     },
     "metadata": {},
     "output_type": "display_data"
    }
   ],
   "source": [
    "# ejercicio de examen 2\n",
    "\n",
    "n_ejercicio = 'ex01e02'\n",
    "puntuacion = '1'\n",
    "\n",
    "texto_ejercicio = 'Usando la definición y las propiedades de los números combinatorios, resolver las ecuaciones:'\n",
    "\n",
    "\n",
    "\n",
    "display(md(\"**\"+texto_ejercicio+\"**\"))\n",
    "\n",
    "\n",
    "enunciado =[Eq(binomial(23,x),binomial(23,3*x-1)),\n",
    "           Eq(binomial(39,5+2*x),binomial(39,2*x-2)),\n",
    "           Eq(binomial(15,x),binomial(15,x+1))]\n",
    "           \n",
    "\n",
    "enunciado_latex = [r'{\\binom{23}{x}} = \\binom{23}{3x-1}',\n",
    "                   r'{\\binom{39}{5+2x}} = \\binom{39}{2x-2}',\n",
    "                   r'{\\binom{15}{x}} = \\binom{15}{x+1}'\n",
    "                  ]\n",
    "solucion = []\n",
    "\n",
    "for i, s in enumerate(enunciado):\n",
    "    el=enunciado_latex[i]\n",
    "    sl=latex(solveset(s.args[0].args[1]-s.args[1].args[1], domain=S.Naturals).union(solveset(s.args[0].args[0]-s.args[0].args[1]-s.args[1].args[1], domain=S.Naturals)))\n",
    "    \n",
    "    solucion.append(sl)\n",
    "    display(md('$'+el+' \\\\rightarrow Solución:  '+sl+'$'))\n",
    "    \n",
    "\n",
    "df_ejercicios = df_ejercicios.append(añadir_ejercicios(enunciado_latex, enunciado, solucion, texto_ejercicio, curso, titulo, n_ejercicio, puntos = puntuacion), ignore_index=True)\n"
   ]
  },
  {
   "cell_type": "code",
   "execution_count": 5,
   "metadata": {},
   "outputs": [
    {
     "data": {
      "text/markdown": [
       "**Usando la definición y las propiedades de los números combinatorios, resolver las ecuaciones:**"
      ],
      "text/plain": [
       "<IPython.core.display.Markdown object>"
      ]
     },
     "metadata": {},
     "output_type": "display_data"
    },
    {
     "data": {
      "text/markdown": [
       "${\\binom{x}{2}} = 21 \\rightarrow Solución:  \\left\\{7\\right\\}$"
      ],
      "text/plain": [
       "<IPython.core.display.Markdown object>"
      ]
     },
     "metadata": {},
     "output_type": "display_data"
    },
    {
     "data": {
      "text/markdown": [
       "${\\binom{x}{2}} = 28 \\rightarrow Solución:  \\left\\{8\\right\\}$"
      ],
      "text/plain": [
       "<IPython.core.display.Markdown object>"
      ]
     },
     "metadata": {},
     "output_type": "display_data"
    },
    {
     "data": {
      "text/markdown": [
       "${\\binom{x}{x - 2}} = 10 \\rightarrow Solución:  \\left\\{5\\right\\}$"
      ],
      "text/plain": [
       "<IPython.core.display.Markdown object>"
      ]
     },
     "metadata": {},
     "output_type": "display_data"
    },
    {
     "data": {
      "text/markdown": [
       "${\\binom{x}{x - 2}} = 28 \\rightarrow Solución:  \\left\\{8\\right\\}$"
      ],
      "text/plain": [
       "<IPython.core.display.Markdown object>"
      ]
     },
     "metadata": {},
     "output_type": "display_data"
    }
   ],
   "source": [
    "# ejercicio de examen 2\n",
    "\n",
    "n_ejercicio = 'ex01e02'\n",
    "\n",
    "puntuacion = '1'\n",
    "\n",
    "texto_ejercicio = 'Usando la definición y las propiedades de los números combinatorios, resolver las ecuaciones:'\n",
    "\n",
    "\n",
    "\n",
    "display(md(\"**\"+texto_ejercicio+\"**\"))\n",
    "\n",
    "\n",
    "enunciado =[Eq(binomial(x,2),21), Eq(binomial(x,2),28), Eq(binomial(x,x-2),10), Eq(binomial(x,x-2),28)]\n",
    "           \n",
    "\n",
    "enunciado_latex = [r'{\\binom{x}{2}} = 21',\n",
    "                   r'{\\binom{x}{2}} = 28',\n",
    "                  r'{\\binom{x}{x - 2}} = 10',\n",
    "                   r'{\\binom{x}{x - 2}} = 28'\n",
    "                  ]\n",
    "solucion = []\n",
    "\n",
    "for i, s in enumerate(enunciado):\n",
    "    el=enunciado_latex[i]\n",
    "    sl=latex(solveset(s.args[0].expand(func=True)-s.args[1].expand(func=True),domain=S.Naturals))\n",
    "    \n",
    "    solucion.append(sl)\n",
    "    display(md('$'+el+' \\\\rightarrow Solución:  '+sl+'$'))\n",
    "    \n",
    "\n",
    "df_ejercicios = df_ejercicios.append(añadir_ejercicios(enunciado_latex, enunciado, solucion, texto_ejercicio, curso, titulo, n_ejercicio, puntos = puntuacion), ignore_index=True)\n"
   ]
  },
  {
   "cell_type": "code",
   "execution_count": 6,
   "metadata": {},
   "outputs": [
    {
     "data": {
      "text/markdown": [
       "**Usando la definición y las propiedades de los números combinatorios, resolver las ecuaciones:**"
      ],
      "text/plain": [
       "<IPython.core.display.Markdown object>"
      ]
     },
     "metadata": {},
     "output_type": "display_data"
    },
    {
     "data": {
      "text/markdown": [
       "${\\binom{11}{3}} = {\\binom{12}{3}}-{\\binom{11}{x}} \\rightarrow Solución:  \\left [ 2\\right ]$"
      ],
      "text/plain": [
       "<IPython.core.display.Markdown object>"
      ]
     },
     "metadata": {},
     "output_type": "display_data"
    },
    {
     "data": {
      "text/markdown": [
       "${\\binom{33}{x}} = {\\binom{33}{x+y}}-{\\binom{34}{5}} \\rightarrow Solución:  \\left \\{ x : 4, \\quad y : 1\\right \\}$"
      ],
      "text/plain": [
       "<IPython.core.display.Markdown object>"
      ]
     },
     "metadata": {},
     "output_type": "display_data"
    },
    {
     "data": {
      "text/markdown": [
       "${\\binom{20}{7}} - {\\binom{19}{x}}-{\\binom{19}{x+1}} \\rightarrow Solución:  \\left [ 6\\right ]$"
      ],
      "text/plain": [
       "<IPython.core.display.Markdown object>"
      ]
     },
     "metadata": {},
     "output_type": "display_data"
    }
   ],
   "source": [
    "# ejercicio de examen 2\n",
    "\n",
    "n_ejercicio = 'ex01e02'\n",
    "\n",
    "texto_ejercicio = 'Usando la definición y las propiedades de los números combinatorios, resolver las ecuaciones:'\n",
    "\n",
    "puntuacion = '1'\n",
    "\n",
    "display(md(\"**\"+texto_ejercicio+\"**\"))\n",
    "\n",
    "\n",
    "enunciado =[Eq(3-x,1),\n",
    "            [Eq(x+y-x,1),Eq(x+y,5)],\n",
    "            Eq(x+1,7)\n",
    "           ]\n",
    "           \n",
    "\n",
    "enunciado_latex = [r'{\\binom{11}{3}} = {\\binom{12}{3}}-{\\binom{11}{x}}',\n",
    "                  r'{\\binom{33}{x}} = {\\binom{33}{x+y}}-{\\binom{34}{5}}',\n",
    "                   r'{\\binom{20}{7}} - {\\binom{19}{x}}-{\\binom{19}{x+1}}'\n",
    "                  ]\n",
    "solucion = []\n",
    "\n",
    "for i, s in enumerate(enunciado):\n",
    "    el=enunciado_latex[i]\n",
    "    sl=latex(solve(s))\n",
    "    \n",
    "    solucion.append(sl)\n",
    "    display(md('$'+el+' \\\\rightarrow Solución:  '+sl+'$'))\n",
    "    \n",
    "\n",
    "df_ejercicios = df_ejercicios.append(añadir_ejercicios(enunciado_latex, enunciado, solucion, texto_ejercicio, curso, titulo, n_ejercicio, puntos = puntuacion), ignore_index=True)"
   ]
  },
  {
   "cell_type": "code",
   "execution_count": 7,
   "metadata": {
    "scrolled": true
   },
   "outputs": [
    {
     "data": {
      "text/markdown": [
       "**Calcula, sin hacer todo el desarrollo, el coeficiente del término asociado a:**"
      ],
      "text/plain": [
       "<IPython.core.display.Markdown object>"
      ]
     },
     "metadata": {},
     "output_type": "display_data"
    },
    {
     "data": {
      "text/markdown": [
       "$P(x)=\\left(2 x - \\frac{3}{x}\\right)^{8} \\  \\ y \\ parte \\ literal \\ \\frac{1}{x^{6}} \\rightarrow Solución:  -34992$"
      ],
      "text/plain": [
       "<IPython.core.display.Markdown object>"
      ]
     },
     "metadata": {},
     "output_type": "display_data"
    },
    {
     "data": {
      "text/markdown": [
       "$P(x)=\\left(3 x^{2} + \\frac{1}{x}\\right)^{7} \\  \\ y \\ parte \\ literal \\ x^{5} \\rightarrow Solución:  2835$"
      ],
      "text/plain": [
       "<IPython.core.display.Markdown object>"
      ]
     },
     "metadata": {},
     "output_type": "display_data"
    }
   ],
   "source": [
    "# ejercicio de examen 3\n",
    "\n",
    "n_ejercicio = 'ex01e03'\n",
    "\n",
    "puntuacion = '2'\n",
    "\n",
    "pre_enunciado_latex = [r'( 2x  - \\frac{3}{x})^8',\n",
    "                      r'{( {3{x^2} + \\frac{1}{x}})^7}']\n",
    "\n",
    "texto_ejercicio = 'Calcula, sin hacer todo el desarrollo, el coeficiente del término asociado a:'\n",
    "\n",
    "\n",
    "display(md(\"**\"+texto_ejercicio+\"**\"))\n",
    "\n",
    "\n",
    "enunciado_latex, enunciado, solucion = [],[],[]\n",
    "\n",
    "for i, s in enumerate(pre_enunciado_latex):\n",
    "    p = parse_latex(s).as_poly()\n",
    "    e = (parse_latex(s),np.prod([a**b for a,b in zip(p.gens,p.terms()[np.random.randint(len(p.coeffs())-1)][0])]))\n",
    "    el= r'P(x)=%s \\  \\ y \\ parte \\ literal \\ %s' % (latex(e[0]),latex(e[1]))\n",
    "    \n",
    "    enunciado_latex.append(el)\n",
    "    enunciado.append(e)\n",
    "    \n",
    "    sl=latex(p.coeff_monomial(e[1]))\n",
    "    solucion.append(sl)\n",
    "    display(md('$'+el+' \\\\rightarrow Solución:  '+sl+'$'))\n",
    "    \n",
    "\n",
    "df_ejercicios = df_ejercicios.append(añadir_ejercicios(enunciado_latex, enunciado, solucion, texto_ejercicio, curso, titulo, n_ejercicio, puntos = puntuacion), ignore_index=True)"
   ]
  },
  {
   "cell_type": "code",
   "execution_count": 8,
   "metadata": {},
   "outputs": [
    {
     "data": {
      "text/markdown": [
       "**Calcula, sin hacer todo el desarrollo, el coeficiente del término asociado a:**"
      ],
      "text/plain": [
       "<IPython.core.display.Markdown object>"
      ]
     },
     "metadata": {},
     "output_type": "display_data"
    },
    {
     "data": {
      "text/markdown": [
       "$P(x)=\\left(2 x - \\frac{3}{x}\\right)^{8} \\  \\ y \\ parte \\ literal \\ \\frac{1}{x^{8}} \\rightarrow Solución:  6561$"
      ],
      "text/plain": [
       "<IPython.core.display.Markdown object>"
      ]
     },
     "metadata": {},
     "output_type": "display_data"
    },
    {
     "data": {
      "text/markdown": [
       "$P(x)=\\left(3 x^{2} + \\frac{1}{x}\\right)^{7} \\  \\ y \\ parte \\ literal \\ x^{8} \\rightarrow Solución:  5103$"
      ],
      "text/plain": [
       "<IPython.core.display.Markdown object>"
      ]
     },
     "metadata": {},
     "output_type": "display_data"
    }
   ],
   "source": [
    "##### ejercicio de examen 3\n",
    "\n",
    "n_ejercicio = 'ex01e03'\n",
    "puntuacion = '2'\n",
    "\n",
    "pre_enunciado_latex = [r'( 2x  - \\frac{3}{x})^8',\n",
    "                      r'{( {3{x^2} + \\frac{1}{x}})^7}']\n",
    "\n",
    "texto_ejercicio = 'Calcula, sin hacer todo el desarrollo, el coeficiente del término asociado a:'\n",
    "\n",
    "\n",
    "display(md(\"**\"+texto_ejercicio+\"**\"))\n",
    "\n",
    "\n",
    "enunciado_latex, enunciado, solucion = [],[],[]\n",
    "\n",
    "for i, s in enumerate(pre_enunciado_latex):\n",
    "    p = parse_latex(s).as_poly()\n",
    "    e = (parse_latex(s),np.prod([a**b for a,b in zip(p.gens,p.terms()[np.random.randint(len(p.coeffs())-1)][0])]))\n",
    "    el= r'P(x)=%s \\  \\ y \\ parte \\ literal \\ %s' % (latex(e[0]),latex(e[1]))\n",
    "    \n",
    "    enunciado_latex.append(el)\n",
    "    enunciado.append(e)\n",
    "    \n",
    "    sl=latex(p.coeff_monomial(e[1]))\n",
    "    solucion.append(sl)\n",
    "    display(md('$'+el+' \\\\rightarrow Solución:  '+sl+'$'))\n",
    "    \n",
    "\n",
    "df_ejercicios = df_ejercicios.append(añadir_ejercicios(enunciado_latex, enunciado, solucion, texto_ejercicio, curso, titulo, n_ejercicio, puntos = puntuacion), ignore_index=True)"
   ]
  },
  {
   "cell_type": "code",
   "execution_count": 9,
   "metadata": {},
   "outputs": [
    {
     "data": {
      "text/markdown": [
       "**Encontrar, sin hacer todo el desarrollo, el término central del desarrollo del siguiente polinomio:**"
      ],
      "text/plain": [
       "<IPython.core.display.Markdown object>"
      ]
     },
     "metadata": {},
     "output_type": "display_data"
    },
    {
     "data": {
      "text/markdown": [
       "$P(x)=\\left(3 x^{2} - \\frac{3}{x}\\right)^{10} \\,  \\rightarrow Solución:  - 14880348 x^{10}$"
      ],
      "text/plain": [
       "<IPython.core.display.Markdown object>"
      ]
     },
     "metadata": {},
     "output_type": "display_data"
    },
    {
     "data": {
      "text/markdown": [
       "$P(x)=\\left(3 x^{2} - \\frac{1}{3 x}\\right)^{10} \\,  \\rightarrow Solución:  - 61236 x^{10}$"
      ],
      "text/plain": [
       "<IPython.core.display.Markdown object>"
      ]
     },
     "metadata": {},
     "output_type": "display_data"
    },
    {
     "data": {
      "text/markdown": [
       "$P(x)=\\left(x^{2} + x\\right)^{4} \\,  \\rightarrow Solución:  6 x^{6}$"
      ],
      "text/plain": [
       "<IPython.core.display.Markdown object>"
      ]
     },
     "metadata": {},
     "output_type": "display_data"
    }
   ],
   "source": [
    "# ejercicio de examen 4\n",
    "\n",
    "n_ejercicio = 'ex01e04'\n",
    "\n",
    "puntuacion = '2'\n",
    "\n",
    "pre_enunciado_latex = [r'( 3x^2 - \\frac{3}{x})^10',\n",
    "                       r'( 3x^2 - \\frac{1}{3x})^10',\n",
    "                      r'(x+x^2)^4']\n",
    "\n",
    "texto_ejercicio = 'Encontrar, sin hacer todo el desarrollo, el término central del desarrollo del siguiente polinomio:'\n",
    "\n",
    "\n",
    "display(md(\"**\"+texto_ejercicio+\"**\"))\n",
    "\n",
    "\n",
    "enunciado_latex, enunciado, solucion = [],[],[]\n",
    "\n",
    "for i, s in enumerate(pre_enunciado_latex):\n",
    "    p = parse_latex(s).as_poly()\n",
    "    n = parse_latex(s).as_base_exp()[1]\n",
    "    m = parse_latex(s).as_base_exp()[0].as_poly()\n",
    "    e = (parse_latex(s),binomial(n,int(n/2))*[np.array(t[1])*np.array(m.gens)**np.array(t[0]) for t in m.terms()][0][0]**(n-int(n/2))*[np.array(t[1])*np.array(m.gens)**np.array(t[0]) for t in m.terms()][1][0]**(int(n/2)))\n",
    "    el= r'P(x)=%s \\, ' % (latex(e[0]))\n",
    "    \n",
    "    enunciado_latex.append(el)\n",
    "    enunciado.append(e)\n",
    "    \n",
    "    s=S(e[1])\n",
    "    sl=latex(s)\n",
    "    solucion.append(sl)\n",
    "    display(md('$'+el+' \\\\rightarrow Solución:  '+sl+'$'))\n",
    "    \n",
    "\n",
    "df_ejercicios = df_ejercicios.append(añadir_ejercicios(enunciado_latex, enunciado, solucion, texto_ejercicio, curso, titulo, n_ejercicio, puntos = puntuacion), ignore_index=True)"
   ]
  },
  {
   "cell_type": "code",
   "execution_count": 10,
   "metadata": {},
   "outputs": [
    {
     "data": {
      "text/markdown": [
       "**Efectúa:**"
      ],
      "text/plain": [
       "<IPython.core.display.Markdown object>"
      ]
     },
     "metadata": {},
     "output_type": "display_data"
    },
    {
     "data": {
      "text/markdown": [
       "$\\frac{{2 - \\sqrt {3} }}{{1 - \\sqrt {3} }}-\\frac{1}{2\\sqrt {3}}+ \\frac{3}{2-\\sqrt{3} } \\rightarrow \\frac{14 \\sqrt{3} + 39}{6}\\to\\frac{7 \\sqrt{3}}{3} + \\frac{13}{2}$"
      ],
      "text/plain": [
       "<IPython.core.display.Markdown object>"
      ]
     },
     "metadata": {},
     "output_type": "display_data"
    },
    {
     "data": {
      "text/markdown": [
       "$\\frac{\\sqrt{3}}{\\sqrt{3}-\\sqrt{2}}-\\frac{\\sqrt{3}}{\\sqrt{3}+\\sqrt{2}} \\rightarrow 2 \\sqrt{6}\\to2 \\sqrt{6}$"
      ],
      "text/plain": [
       "<IPython.core.display.Markdown object>"
      ]
     },
     "metadata": {},
     "output_type": "display_data"
    }
   ],
   "source": [
    "# ejercicio de examen 4\n",
    "\n",
    "\n",
    "texto_ejercicio = 'Efectúa:'\n",
    "n_ejercicio = 'ex01e05'\n",
    "puntuacion = '1'\n",
    "\n",
    "display(md(\"**\"+texto_ejercicio+\"**\"))\n",
    "\n",
    "enunciado_latex = [\n",
    "                   \n",
    "                   r'\\frac{{2 - \\sqrt {3} }}{{1 - \\sqrt {3} }}-\\frac{1}{2\\sqrt {3}}+ \\frac{3}{2-\\sqrt{3} }',\n",
    "                   \n",
    "                   r'\\frac{\\sqrt{3}}{\\sqrt{3}-\\sqrt{2}}-\\frac{\\sqrt{3}}{\\sqrt{3}+\\sqrt{2}}'\n",
    "                   \n",
    "                  ]\n",
    "enunciado, solucion = [], []\n",
    "for s in enunciado_latex :\n",
    "    \n",
    "    enunciado.append(parse_latex(s))\n",
    "    sl = latex(radsimp(parse_latex(s)))\n",
    "    sl = sl + r'\\to' +latex(simplify(radsimp(parse_latex(s))))\n",
    "    solucion.append(sl) \n",
    "    display(md(\"$\"+ s +\" \\\\rightarrow \" + sl +\"$\"))\n",
    "    \n",
    "    \n",
    "df_ejercicios = df_ejercicios.append(añadir_ejercicios(enunciado_latex, enunciado, solucion, texto_ejercicio, curso, titulo, n_ejercicio, puntos = puntuacion), ignore_index=True)"
   ]
  },
  {
   "cell_type": "code",
   "execution_count": 11,
   "metadata": {},
   "outputs": [
    {
     "data": {
      "text/markdown": [
       "**Calcula el valor de $k$ para que:**"
      ],
      "text/plain": [
       "<IPython.core.display.Markdown object>"
      ]
     },
     "metadata": {},
     "output_type": "display_data"
    },
    {
     "data": {
      "text/markdown": [
       "$El \\ resto \\ de \\ dividir \\ P(x)=x^{27}-kx+3k-4 \\ entre\\  x-1 \\ sea \\ 5  \\rightarrow Solución:  4$"
      ],
      "text/plain": [
       "<IPython.core.display.Markdown object>"
      ]
     },
     "metadata": {},
     "output_type": "display_data"
    },
    {
     "data": {
      "text/markdown": [
       "$El \\ resto \\ de \\ dividir \\ P(x)=x^{27}-kx+3k-4 \\ entre\\  x+1 \\ sea \\ 11  \\rightarrow Solución:  4$"
      ],
      "text/plain": [
       "<IPython.core.display.Markdown object>"
      ]
     },
     "metadata": {},
     "output_type": "display_data"
    },
    {
     "data": {
      "text/markdown": [
       "$El \\ resto \\ de \\ dividir \\ P(x)=x^{25}-kx+3k-4 \\ entre\\  x+1 \\ sea \\ 11  \\rightarrow Solución:  4$"
      ],
      "text/plain": [
       "<IPython.core.display.Markdown object>"
      ]
     },
     "metadata": {},
     "output_type": "display_data"
    },
    {
     "data": {
      "text/markdown": [
       "$El \\ resto \\ de \\ dividir \\ P(x)=x^{25}-kx+3k-4 \\ entre\\  x-1 \\ sea \\ 3  \\rightarrow Solución:  3$"
      ],
      "text/plain": [
       "<IPython.core.display.Markdown object>"
      ]
     },
     "metadata": {},
     "output_type": "display_data"
    },
    {
     "data": {
      "text/markdown": [
       "$El \\ resto \\ de \\ dividir \\ P(x)=x^{25}-kx+3k-4 \\ entre\\  x+1 \\ sea \\ 7  \\rightarrow Solución:  3$"
      ],
      "text/plain": [
       "<IPython.core.display.Markdown object>"
      ]
     },
     "metadata": {},
     "output_type": "display_data"
    }
   ],
   "source": [
    "# ejercicio de examen 6\n",
    "\n",
    "n_ejercicio = 'ex01e06'\n",
    "puntuacion = '1'\n",
    "\n",
    "pre_enunciado_latex = [[r'x^{27}-kx+3k-4', r'x-1', r'5'],\n",
    "                      [r'x^{27}-kx+3k-4', r'x+1', r'11'],\n",
    "                      [r'x^{25}-kx+3k-4', r'x+1', r'11'],\n",
    "                      [r'x^{25}-kx+3k-4', r'x-1', r'3'],\n",
    "                      [r'x^{25}-kx+3k-4', r'x+1', r'7']]\n",
    "\n",
    "texto_ejercicio = r'Calcula el valor de $k$ para que:'\n",
    "\n",
    "\n",
    "display(md(\"**\"+texto_ejercicio+\"**\"))\n",
    "\n",
    "\n",
    "enunciado_latex, enunciado, solucion = [],[],[]\n",
    "\n",
    "for i, s in enumerate(pre_enunciado_latex):\n",
    "    D = parse_latex(s[0]).as_poly()\n",
    "    d = parse_latex(s[1]).as_poly()\n",
    "    r = parse_latex(s[2])\n",
    "    e = (D,d,r) \n",
    "    el= r'El \\ resto \\ de \\ dividir \\ P(x)=%s \\ entre\\  %s \\ sea \\ %s ' % (s[0],s[1],s[2])\n",
    "    \n",
    "    enunciado_latex.append(el)\n",
    "    enunciado.append(e)\n",
    "    \n",
    "    s=(D.subs(x,d.real_roots()[0]).as_poly()-r).real_roots()[0]\n",
    "    sl=latex(s)\n",
    "    solucion.append(sl)\n",
    "    display(md('$'+el+' \\\\rightarrow Solución:  '+sl+'$'))\n",
    "    \n",
    "\n",
    "df_ejercicios = df_ejercicios.append(añadir_ejercicios(enunciado_latex, enunciado, solucion, texto_ejercicio, curso, titulo, n_ejercicio, puntos = puntuacion), ignore_index=True)"
   ]
  },
  {
   "cell_type": "code",
   "execution_count": 12,
   "metadata": {},
   "outputs": [
    {
     "data": {
      "text/markdown": [
       "**Calcula el valor de $m$ para que:**"
      ],
      "text/plain": [
       "<IPython.core.display.Markdown object>"
      ]
     },
     "metadata": {},
     "output_type": "display_data"
    },
    {
     "data": {
      "text/markdown": [
       "$P(x)=x^2+mx-16 \\ tenga\\ dos \\ ra\\acute \\imath ces \\ opuestas \\rightarrow Solución:  \\left [ 1, \\quad m, \\quad -16\\right ]\\to \\left [ 0\\right ]$"
      ],
      "text/plain": [
       "<IPython.core.display.Markdown object>"
      ]
     },
     "metadata": {},
     "output_type": "display_data"
    },
    {
     "data": {
      "text/markdown": [
       "$P(x)=\\frac{x^2}{9}+mx+\\frac{9}{25} \\ tenga\\ dos \\ ra\\acute \\imath ces \\ opuestas \\rightarrow Solución:  \\left [ \\frac{1}{9}, \\quad m, \\quad \\frac{9}{25}\\right ]\\to \\left [ 0\\right ]$"
      ],
      "text/plain": [
       "<IPython.core.display.Markdown object>"
      ]
     },
     "metadata": {},
     "output_type": "display_data"
    },
    {
     "data": {
      "text/markdown": [
       "$P(x)=\\frac{x^2}{25}-mx+\\frac{4}{9} \\ tenga\\ dos \\ ra\\acute \\imath ces \\ opuestas \\rightarrow Solución:  \\left [ \\frac{1}{25}, \\quad - m, \\quad \\frac{4}{9}\\right ]\\to \\left [ 0\\right ]$"
      ],
      "text/plain": [
       "<IPython.core.display.Markdown object>"
      ]
     },
     "metadata": {},
     "output_type": "display_data"
    }
   ],
   "source": [
    "# ejercicio de examen 7\n",
    "\n",
    "m = symbols('m')\n",
    "\n",
    "puntuacion = '1'\n",
    "\n",
    "n_ejercicio = 'ex01e07'\n",
    "\n",
    "pre_enunciado_latex = [r'x^2+mx-16',\n",
    "                  r'\\frac{x^2}{9}+mx+\\frac{9}{25}',\n",
    "                  r'\\frac{x^2}{25}-mx+\\frac{4}{9}']\n",
    "\n",
    "texto_ejercicio = r'Calcula el valor de $m$ para que:'\n",
    "\n",
    "\n",
    "display(md(\"**\"+texto_ejercicio+\"**\"))\n",
    "\n",
    "\n",
    "enunciado_latex, enunciado, solucion = [],[],[]\n",
    "\n",
    "for i, s in enumerate(pre_enunciado_latex):\n",
    "\n",
    "    e = parse_latex(s) \n",
    "    el = r'P(x)=%s \\ tenga\\ dos \\ ra\\acute \\imath ces \\ opuestas' % s\n",
    "    enunciado_latex.append(el)\n",
    "    enunciado.append(e)\n",
    "    \n",
    "    s =  poly(e,x).all_coeffs()\n",
    "    sl=latex(s)\n",
    "    sl=sl +r'\\to '+latex(solve(-s[1]))\n",
    "    \n",
    "    solucion.append(sl)\n",
    "    display(md('$'+el+' \\\\rightarrow Solución:  '+sl+'$'))\n",
    "    \n",
    "\n",
    "df_ejercicios = df_ejercicios.append(añadir_ejercicios(enunciado_latex, enunciado, solucion, texto_ejercicio, curso, titulo, n_ejercicio, puntos = puntuacion), ignore_index=True)"
   ]
  },
  {
   "cell_type": "code",
   "execution_count": 13,
   "metadata": {},
   "outputs": [
    {
     "data": {
      "text/markdown": [
       "**Calcula el valor de $m$ para que:**"
      ],
      "text/plain": [
       "<IPython.core.display.Markdown object>"
      ]
     },
     "metadata": {},
     "output_type": "display_data"
    },
    {
     "data": {
      "text/markdown": [
       "$P(x)=4x^2-mx+9 \\ tenga\\ una \\ ra \\acute \\imath z \\ doble \\rightarrow Solución:  \\left [ 4, \\quad - m, \\quad 9\\right ]\\to \\left [ -12, \\quad 12\\right ]$"
      ],
      "text/plain": [
       "<IPython.core.display.Markdown object>"
      ]
     },
     "metadata": {},
     "output_type": "display_data"
    },
    {
     "data": {
      "text/markdown": [
       "$P(x)=\\frac{x^2}{16}-mx+\\frac{9}{4} \\ tenga\\ una \\ ra \\acute \\imath z \\ doble \\rightarrow Solución:  \\left [ \\frac{1}{16}, \\quad - m, \\quad \\frac{9}{4}\\right ]\\to \\left [ - \\frac{3}{4}, \\quad \\frac{3}{4}\\right ]$"
      ],
      "text/plain": [
       "<IPython.core.display.Markdown object>"
      ]
     },
     "metadata": {},
     "output_type": "display_data"
    },
    {
     "data": {
      "text/markdown": [
       "$P(x)=\\frac{x^2}{4}-mx+\\frac{1}{16} \\ tenga\\ una \\ ra \\acute \\imath z \\ doble \\rightarrow Solución:  \\left [ \\frac{1}{4}, \\quad - m, \\quad \\frac{1}{16}\\right ]\\to \\left [ - \\frac{1}{4}, \\quad \\frac{1}{4}\\right ]$"
      ],
      "text/plain": [
       "<IPython.core.display.Markdown object>"
      ]
     },
     "metadata": {},
     "output_type": "display_data"
    }
   ],
   "source": [
    "# ejercicio de examen 7\n",
    "\n",
    "m = symbols('m')\n",
    "\n",
    "puntuacion = '1'\n",
    "\n",
    "n_ejercicio = 'ex01e07'\n",
    "\n",
    "pre_enunciado_latex = [r'4x^2-mx+9',\n",
    "                  r'\\frac{x^2}{16}-mx+\\frac{9}{4}',\n",
    "                  r'\\frac{x^2}{4}-mx+\\frac{1}{16}']\n",
    "\n",
    "texto_ejercicio = r'Calcula el valor de $m$ para que:'\n",
    "\n",
    "\n",
    "display(md(\"**\"+texto_ejercicio+\"**\"))\n",
    "\n",
    "\n",
    "enunciado_latex, enunciado, solucion = [],[],[]\n",
    "\n",
    "for i, s in enumerate(pre_enunciado_latex):\n",
    "\n",
    "    e = parse_latex(s) \n",
    "    el = r'P(x)=%s \\ tenga\\ una \\ ra \\acute \\imath z \\ doble' % s\n",
    "    enunciado_latex.append(el)\n",
    "    enunciado.append(e)\n",
    "    \n",
    "    s =  poly(e,x).all_coeffs()\n",
    "    sl=latex(s)\n",
    "    sl=sl +r'\\to '+latex(solve(s[1]**2-4*s[0]*s[2]))\n",
    "    \n",
    "    solucion.append(sl)\n",
    "    display(md('$'+el+' \\\\rightarrow Solución:  '+sl+'$'))\n",
    "    \n",
    "\n",
    "df_ejercicios = df_ejercicios.append(añadir_ejercicios(enunciado_latex, enunciado, solucion, texto_ejercicio, curso, titulo, n_ejercicio, puntos = puntuacion), ignore_index=True)"
   ]
  },
  {
   "cell_type": "code",
   "execution_count": 14,
   "metadata": {},
   "outputs": [
    {
     "data": {
      "text/markdown": [
       "**Calcula el valor de $m$ para que:**"
      ],
      "text/plain": [
       "<IPython.core.display.Markdown object>"
      ]
     },
     "metadata": {},
     "output_type": "display_data"
    },
    {
     "data": {
      "text/markdown": [
       "$P(x)=4x^2+mx+9 \\ no \\ tenga\\ ninguna \\ ra \\acute \\imath z \\ real \\rightarrow Solución:  \\left [ 4, \\quad m, \\quad 9\\right ]\\to -12 < m \\wedge m < 12$"
      ],
      "text/plain": [
       "<IPython.core.display.Markdown object>"
      ]
     },
     "metadata": {},
     "output_type": "display_data"
    },
    {
     "data": {
      "text/markdown": [
       "$P(x)=9x^2-mx+\\frac{1}{4} \\ no \\ tenga\\ ninguna \\ ra \\acute \\imath z \\ real \\rightarrow Solución:  \\left [ 9, \\quad - m, \\quad \\frac{1}{4}\\right ]\\to -3 < m \\wedge m < 3$"
      ],
      "text/plain": [
       "<IPython.core.display.Markdown object>"
      ]
     },
     "metadata": {},
     "output_type": "display_data"
    },
    {
     "data": {
      "text/markdown": [
       "$P(x)=16x^2-mx+\\frac{9}{4} \\ no \\ tenga\\ ninguna \\ ra \\acute \\imath z \\ real \\rightarrow Solución:  \\left [ 16, \\quad - m, \\quad \\frac{9}{4}\\right ]\\to -12 < m \\wedge m < 12$"
      ],
      "text/plain": [
       "<IPython.core.display.Markdown object>"
      ]
     },
     "metadata": {},
     "output_type": "display_data"
    }
   ],
   "source": [
    "# ejercicio de examen 7\n",
    "\n",
    "m = symbols('m')\n",
    "puntuacion = 1\n",
    "\n",
    "n_ejercicio = 'ex01e07'\n",
    "\n",
    "pre_enunciado_latex = [r'4x^2+mx+9',\n",
    "                  r'9x^2-mx+\\frac{1}{4}',\n",
    "                  r'16x^2-mx+\\frac{9}{4}']\n",
    "\n",
    "texto_ejercicio = r'Calcula el valor de $m$ para que:'\n",
    "\n",
    "\n",
    "display(md(\"**\"+texto_ejercicio+\"**\"))\n",
    "\n",
    "\n",
    "enunciado_latex, enunciado, solucion = [],[], []\n",
    "\n",
    "for i, s in enumerate(pre_enunciado_latex):\n",
    "\n",
    "    e = parse_latex(s) \n",
    "    el = r'P(x)=%s \\ no \\ tenga\\ ninguna \\ ra \\acute \\imath z \\ real' % s\n",
    "    enunciado_latex.append(el)\n",
    "    enunciado.append(e)\n",
    "    \n",
    "    s =  poly(e,x).all_coeffs()\n",
    "    sl=latex(s)\n",
    "    sl=sl +r'\\to '+latex(solve_univariate_inequality(s[1]**2-4*s[0]*s[2]<0,m))\n",
    "    \n",
    "    solucion.append(sl)\n",
    "    display(md('$'+el+' \\\\rightarrow Solución:  '+sl+'$'))\n",
    "    \n",
    "\n",
    "df_ejercicios = df_ejercicios.append(añadir_ejercicios(enunciado_latex, enunciado, solucion, texto_ejercicio, curso, titulo, n_ejercicio, puntos = puntuacion), ignore_index=True)"
   ]
  },
  {
   "cell_type": "code",
   "execution_count": 15,
   "metadata": {},
   "outputs": [
    {
     "data": {
      "text/markdown": [
       "**Halla el m.c.d. y el m.c.m. de los polinomios: **"
      ],
      "text/plain": [
       "<IPython.core.display.Markdown object>"
      ]
     },
     "metadata": {},
     "output_type": "display_data"
    },
    {
     "data": {
      "text/markdown": [
       "$ A(x)= x^5+x^4-7x^3+x^2+10x-6\\  y \\\\  B(x)= x^5+5x^4+x^3-19x^2-6x+18 \\\\  \\rightarrow Solución:Descomposici \\acute on:(\\left(x - 1\\right)^{2} \\left(x + 3\\right) \\left(x^{2} - 2\\right) \\ y  \\ \\left(x - 1\\right) \\left(x + 3\\right)^{2} \\left(x^{2} - 2\\right))\\\\x^{4} + 2 x^{3} - 5 x^{2} - 4 x + 6= \\left(x - 1\\right) \\left(x + 3\\right) \\left(x^{2} - 2\\right) \\ MCD\\ y \\\\ x^{6} + 4 x^{5} - 4 x^{4} - 20 x^{3} + 13 x^{2} + 24 x - 18= \\left(x - 1\\right)^{2} \\left(x + 3\\right)^{2} \\left(x^{2} - 2\\right) \\ MCM$"
      ],
      "text/plain": [
       "<IPython.core.display.Markdown object>"
      ]
     },
     "metadata": {},
     "output_type": "display_data"
    },
    {
     "data": {
      "text/markdown": [
       "$ A(x)= x^{5} - 6 x^{3} + 2 x^{2} + 9 x - 6\\  y \\\\  B(x)= x^{5} + 3 x^{4} - 3 x^{3} - 13 x^{2} + 12 \\\\  \\rightarrow Solución:Descomposici \\acute on:(\\left(x - 1\\right)^{2} \\left(x + 2\\right) \\left(x^{2} - 3\\right) \\ y  \\ \\left(x - 1\\right) \\left(x + 2\\right)^{2} \\left(x^{2} - 3\\right))\\\\x^{4} + x^{3} - 5 x^{2} - 3 x + 6= \\left(x - 1\\right) \\left(x + 2\\right) \\left(x^{2} - 3\\right) \\ MCD\\ y \\\\ x^{6} + 2 x^{5} - 6 x^{4} - 10 x^{3} + 13 x^{2} + 12 x - 12= \\left(x - 1\\right)^{2} \\left(x + 2\\right)^{2} \\left(x^{2} - 3\\right) \\ MCM$"
      ],
      "text/plain": [
       "<IPython.core.display.Markdown object>"
      ]
     },
     "metadata": {},
     "output_type": "display_data"
    },
    {
     "data": {
      "text/markdown": [
       "$ A(x)= x^{5} - 2 x^{4} - 5 x^{3} + 10 x^{2} + 4 x - 8\\  y \\\\  B(x)= x^{5} + 2 x^{4} - 5 x^{3} - 10 x^{2} + 4 x + 8 \\\\  \\rightarrow Solución:Descomposici \\acute on:(\\left(x - 2\\right)^{2} \\left(x - 1\\right) \\left(x + 1\\right) \\left(x + 2\\right) \\ y  \\ \\left(x - 2\\right) \\left(x - 1\\right) \\left(x + 1\\right) \\left(x + 2\\right)^{2})\\\\x^{4} - 5 x^{2} + 4= \\left(x - 2\\right) \\left(x - 1\\right) \\left(x + 1\\right) \\left(x + 2\\right) \\ MCD\\ y \\\\ x^{6} - 9 x^{4} + 24 x^{2} - 16= \\left(x - 2\\right)^{2} \\left(x - 1\\right) \\left(x + 1\\right) \\left(x + 2\\right)^{2} \\ MCM$"
      ],
      "text/plain": [
       "<IPython.core.display.Markdown object>"
      ]
     },
     "metadata": {},
     "output_type": "display_data"
    }
   ],
   "source": [
    "# ejercicio de examen 8\n",
    "\n",
    "\n",
    "texto_ejercicio = r'Halla el m.c.d. y el m.c.m. de los polinomios: '\n",
    "puntuacion = '3'\n",
    "n_ejercicio = 'ex01e08'\n",
    "\n",
    "display(md(\"**\"+texto_ejercicio+\"**\"))\n",
    "\n",
    "pre_enunciado_latex = [[r' x^5+x^4-7x^3+x^2+10x-6',r' x^5+5x^4+x^3-19x^2-6x+18'],\n",
    "                       [r' x^{5} - 6 x^{3} + 2 x^{2} + 9 x - 6',r' x^{5} + 3 x^{4} - 3 x^{3} - 13 x^{2} + 12'],\n",
    "                       [r' x^{5} - 2 x^{4} - 5 x^{3} + 10 x^{2} + 4 x - 8',r' x^{5} + 2 x^{4} - 5 x^{3} - 10 x^{2} + 4 x + 8']\n",
    "                      ]        \n",
    "enunciado_latex, enunciado, solucion = [], [], []\n",
    "for i, s in enumerate(pre_enunciado_latex) :\n",
    "    enunciado_latex.append(r' A(x)=' + s[0] +r\"\\  y \\\\  B(x)=\" + s[1] +r' \\\\ ')\n",
    "    e=(poly(parse_latex(s[0])).as_expr(), poly(parse_latex(s[1])).as_expr())\n",
    "    enunciado.append(e)\n",
    "    sl=r'Descomposici \\acute on:(%s \\ y  \\ %s)\\\\' % (latex(factor(e[0])),latex(factor(e[1])))\n",
    "    sl = sl + latex(gcd_list(e))+ latex(r'= %s \\ MCD') % latex(factor(gcd_list(e))) +latex(r\"\\ y \\\\ \")\n",
    "    sl = sl + latex(lcm_list(e))+ latex(r'= %s \\ MCM') % latex(factor(lcm_list(e)))\n",
    "    solucion.append(sl)\n",
    "    display(md(\"$\"+ enunciado_latex[i] + \" \\\\rightarrow Solución:\" +solucion[i] +\"$\"))\n",
    "    \n",
    "df_ejercicios = df_ejercicios.append(añadir_ejercicios(enunciado_latex, enunciado, solucion, texto_ejercicio, curso, titulo, n_ejercicio, puntos = puntuacion), ignore_index=True)"
   ]
  },
  {
   "cell_type": "code",
   "execution_count": 16,
   "metadata": {},
   "outputs": [
    {
     "data": {
      "text/markdown": [
       "**Calcula expresando el resultado en forma de fracción algebraica irreducible:**"
      ],
      "text/plain": [
       "<IPython.core.display.Markdown object>"
      ]
     },
     "metadata": {},
     "output_type": "display_data"
    },
    {
     "data": {
      "text/markdown": [
       "$\\frac{{x^3}-x^2 -4x + 4}{{x^2} - 3x + 2}:\\frac{{x^3} - {x^2} + 3x - 3}{{{x^3} + 3x}} \\rightarrow \\frac{x^{2} + 2 x}{x - 1}$"
      ],
      "text/plain": [
       "<IPython.core.display.Markdown object>"
      ]
     },
     "metadata": {},
     "output_type": "display_data"
    },
    {
     "data": {
      "text/markdown": [
       "$\\frac{1+{ \\frac{1}{x}}}{{1 + \\frac{1}{{1 + \\frac{1}{x}}}}} \\rightarrow \\frac{x^{2} + 2 x + 1}{2 x^{2} + x}$"
      ],
      "text/plain": [
       "<IPython.core.display.Markdown object>"
      ]
     },
     "metadata": {},
     "output_type": "display_data"
    },
    {
     "data": {
      "text/markdown": [
       "$\\frac{{\\frac{1}{{x - 3}} - \\frac{1}{{x + 3}}}}{{1 - \\frac{3}{{{x^2} - 9}}}} \\rightarrow \\frac{6}{x^{2} - 12}$"
      ],
      "text/plain": [
       "<IPython.core.display.Markdown object>"
      ]
     },
     "metadata": {},
     "output_type": "display_data"
    }
   ],
   "source": [
    "# ejercicio de examen 9\n",
    "\n",
    "\n",
    "texto_ejercicio = r'Calcula expresando el resultado en forma de fracción algebraica irreducible:'\n",
    "puntuacion = '1'\n",
    "n_ejercicio = 'ex01e09'\n",
    "\n",
    "display(md(\"**\"+texto_ejercicio+\"**\"))\n",
    "\n",
    "enunciado_latex = [\n",
    "                   r'\\frac{{x^3}-x^2 -4x + 4}{{x^2} - 3x + 2}:\\frac{{x^3} - {x^2} + 3x - 3}{{{x^3} + 3x}}',\n",
    "                   r'\\frac{1+{ \\frac{1}{x}}}{{1 + \\frac{1}{{1 + \\frac{1}{x}}}}}',\n",
    "                   r'\\frac{{\\frac{1}{{x - 3}} - \\frac{1}{{x + 3}}}}{{1 - \\frac{3}{{{x^2} - 9}}}}'\n",
    "                   \n",
    "                  ]\n",
    "\n",
    "\n",
    "\n",
    "\n",
    "enunciado, solucion = [], []\n",
    "\n",
    "for i, s in enumerate(enunciado_latex) : \n",
    "    enunciado.append(parse_latex(s))\n",
    "    solucion.append(latex(cancel(parse_latex(s), domain = 'QQ<sqrt(2)>'))) \n",
    "    display(md(\"$\"+ s +\" \\\\rightarrow \" + solucion[i] +\"$\"))\n",
    "    \n",
    "df_ejercicios = df_ejercicios.append(añadir_ejercicios(enunciado_latex, enunciado, solucion, texto_ejercicio, curso, titulo, n_ejercicio, puntos = puntuacion), ignore_index=True)"
   ]
  },
  {
   "cell_type": "code",
   "execution_count": 17,
   "metadata": {},
   "outputs": [
    {
     "data": {
      "text/html": [
       "<div>\n",
       "<style scoped>\n",
       "    .dataframe tbody tr th:only-of-type {\n",
       "        vertical-align: middle;\n",
       "    }\n",
       "\n",
       "    .dataframe tbody tr th {\n",
       "        vertical-align: top;\n",
       "    }\n",
       "\n",
       "    .dataframe thead th {\n",
       "        text-align: right;\n",
       "    }\n",
       "</style>\n",
       "<table border=\"1\" class=\"dataframe\">\n",
       "  <thead>\n",
       "    <tr style=\"text-align: right;\">\n",
       "      <th></th>\n",
       "      <th>enunciado_latex</th>\n",
       "      <th>enunciado</th>\n",
       "      <th>solucion</th>\n",
       "      <th>texto</th>\n",
       "      <th>curso</th>\n",
       "      <th>titulo</th>\n",
       "      <th>n_ejercicio</th>\n",
       "      <th>dificultad</th>\n",
       "      <th>n_columnas</th>\n",
       "      <th>puntos</th>\n",
       "      <th>enun_tex</th>\n",
       "    </tr>\n",
       "  </thead>\n",
       "  <tbody>\n",
       "    <tr>\n",
       "      <th>0</th>\n",
       "      <td>A=\\left\\{ x \\in \\mathbb{R}| 6 \\leq x \\wedge x ...</td>\n",
       "      <td>[Interval.Ropen(6, 8), Union(Interval.open(-oo...</td>\n",
       "      <td>C=\\left(-\\infty, -14\\right] \\cup \\left[10, \\in...</td>\n",
       "      <td>Dados los siguientes conjuntos A, B y C, repre...</td>\n",
       "      <td>1BC</td>\n",
       "      <td>Parcial 1</td>\n",
       "      <td>ex01e01</td>\n",
       "      <td>1</td>\n",
       "      <td>3</td>\n",
       "      <td>2</td>\n",
       "      <td>True</td>\n",
       "    </tr>\n",
       "    <tr>\n",
       "      <th>1</th>\n",
       "      <td>{\\binom{23}{x}} = \\binom{23}{3x-1}</td>\n",
       "      <td>Eq(binomial(23, x), binomial(23, 3*x - 1))</td>\n",
       "      <td>\\left\\{6\\right\\}</td>\n",
       "      <td>Usando la definición y las propiedades de los ...</td>\n",
       "      <td>1BC</td>\n",
       "      <td>Parcial 1</td>\n",
       "      <td>ex01e02</td>\n",
       "      <td>1</td>\n",
       "      <td>3</td>\n",
       "      <td>1</td>\n",
       "      <td>True</td>\n",
       "    </tr>\n",
       "    <tr>\n",
       "      <th>2</th>\n",
       "      <td>{\\binom{39}{5+2x}} = \\binom{39}{2x-2}</td>\n",
       "      <td>Eq(binomial(39, 2*x + 5), binomial(39, 2*x - 2))</td>\n",
       "      <td>\\left\\{9\\right\\}</td>\n",
       "      <td>Usando la definición y las propiedades de los ...</td>\n",
       "      <td>1BC</td>\n",
       "      <td>Parcial 1</td>\n",
       "      <td>ex01e02</td>\n",
       "      <td>1</td>\n",
       "      <td>3</td>\n",
       "      <td>1</td>\n",
       "      <td>True</td>\n",
       "    </tr>\n",
       "    <tr>\n",
       "      <th>3</th>\n",
       "      <td>{\\binom{15}{x}} = \\binom{15}{x+1}</td>\n",
       "      <td>Eq(binomial(15, x), binomial(15, x + 1))</td>\n",
       "      <td>\\left\\{7\\right\\}</td>\n",
       "      <td>Usando la definición y las propiedades de los ...</td>\n",
       "      <td>1BC</td>\n",
       "      <td>Parcial 1</td>\n",
       "      <td>ex01e02</td>\n",
       "      <td>1</td>\n",
       "      <td>3</td>\n",
       "      <td>1</td>\n",
       "      <td>True</td>\n",
       "    </tr>\n",
       "    <tr>\n",
       "      <th>4</th>\n",
       "      <td>{\\binom{x}{2}} = 21</td>\n",
       "      <td>Eq(binomial(x, 2), 21)</td>\n",
       "      <td>\\left\\{7\\right\\}</td>\n",
       "      <td>Usando la definición y las propiedades de los ...</td>\n",
       "      <td>1BC</td>\n",
       "      <td>Parcial 1</td>\n",
       "      <td>ex01e02</td>\n",
       "      <td>1</td>\n",
       "      <td>3</td>\n",
       "      <td>1</td>\n",
       "      <td>True</td>\n",
       "    </tr>\n",
       "    <tr>\n",
       "      <th>5</th>\n",
       "      <td>{\\binom{x}{2}} = 28</td>\n",
       "      <td>Eq(binomial(x, 2), 28)</td>\n",
       "      <td>\\left\\{8\\right\\}</td>\n",
       "      <td>Usando la definición y las propiedades de los ...</td>\n",
       "      <td>1BC</td>\n",
       "      <td>Parcial 1</td>\n",
       "      <td>ex01e02</td>\n",
       "      <td>1</td>\n",
       "      <td>3</td>\n",
       "      <td>1</td>\n",
       "      <td>True</td>\n",
       "    </tr>\n",
       "    <tr>\n",
       "      <th>6</th>\n",
       "      <td>{\\binom{x}{x - 2}} = 10</td>\n",
       "      <td>Eq(binomial(x, x - 2), 10)</td>\n",
       "      <td>\\left\\{5\\right\\}</td>\n",
       "      <td>Usando la definición y las propiedades de los ...</td>\n",
       "      <td>1BC</td>\n",
       "      <td>Parcial 1</td>\n",
       "      <td>ex01e02</td>\n",
       "      <td>1</td>\n",
       "      <td>3</td>\n",
       "      <td>1</td>\n",
       "      <td>True</td>\n",
       "    </tr>\n",
       "    <tr>\n",
       "      <th>7</th>\n",
       "      <td>{\\binom{x}{x - 2}} = 28</td>\n",
       "      <td>Eq(binomial(x, x - 2), 28)</td>\n",
       "      <td>\\left\\{8\\right\\}</td>\n",
       "      <td>Usando la definición y las propiedades de los ...</td>\n",
       "      <td>1BC</td>\n",
       "      <td>Parcial 1</td>\n",
       "      <td>ex01e02</td>\n",
       "      <td>1</td>\n",
       "      <td>3</td>\n",
       "      <td>1</td>\n",
       "      <td>True</td>\n",
       "    </tr>\n",
       "    <tr>\n",
       "      <th>8</th>\n",
       "      <td>{\\binom{11}{3}} = {\\binom{12}{3}}-{\\binom{11}{x}}</td>\n",
       "      <td>Eq(-x + 3, 1)</td>\n",
       "      <td>\\left [ 2\\right ]</td>\n",
       "      <td>Usando la definición y las propiedades de los ...</td>\n",
       "      <td>1BC</td>\n",
       "      <td>Parcial 1</td>\n",
       "      <td>ex01e02</td>\n",
       "      <td>1</td>\n",
       "      <td>3</td>\n",
       "      <td>1</td>\n",
       "      <td>True</td>\n",
       "    </tr>\n",
       "    <tr>\n",
       "      <th>9</th>\n",
       "      <td>{\\binom{33}{x}} = {\\binom{33}{x+y}}-{\\binom{34...</td>\n",
       "      <td>[Eq(y, 1), Eq(x + y, 5)]</td>\n",
       "      <td>\\left \\{ x : 4, \\quad y : 1\\right \\}</td>\n",
       "      <td>Usando la definición y las propiedades de los ...</td>\n",
       "      <td>1BC</td>\n",
       "      <td>Parcial 1</td>\n",
       "      <td>ex01e02</td>\n",
       "      <td>1</td>\n",
       "      <td>3</td>\n",
       "      <td>1</td>\n",
       "      <td>True</td>\n",
       "    </tr>\n",
       "    <tr>\n",
       "      <th>10</th>\n",
       "      <td>{\\binom{20}{7}} - {\\binom{19}{x}}-{\\binom{19}{...</td>\n",
       "      <td>Eq(x + 1, 7)</td>\n",
       "      <td>\\left [ 6\\right ]</td>\n",
       "      <td>Usando la definición y las propiedades de los ...</td>\n",
       "      <td>1BC</td>\n",
       "      <td>Parcial 1</td>\n",
       "      <td>ex01e02</td>\n",
       "      <td>1</td>\n",
       "      <td>3</td>\n",
       "      <td>1</td>\n",
       "      <td>True</td>\n",
       "    </tr>\n",
       "    <tr>\n",
       "      <th>11</th>\n",
       "      <td>P(x)=\\left(2 x - \\frac{3}{x}\\right)^{8} \\  \\ y...</td>\n",
       "      <td>((2*x - 3/x)**8, x**(-6))</td>\n",
       "      <td>-34992</td>\n",
       "      <td>Calcula, sin hacer todo el desarrollo, el coef...</td>\n",
       "      <td>1BC</td>\n",
       "      <td>Parcial 1</td>\n",
       "      <td>ex01e03</td>\n",
       "      <td>1</td>\n",
       "      <td>3</td>\n",
       "      <td>2</td>\n",
       "      <td>True</td>\n",
       "    </tr>\n",
       "    <tr>\n",
       "      <th>12</th>\n",
       "      <td>P(x)=\\left(3 x^{2} + \\frac{1}{x}\\right)^{7} \\ ...</td>\n",
       "      <td>((3*x**2 + 1/x)**7, x**5)</td>\n",
       "      <td>2835</td>\n",
       "      <td>Calcula, sin hacer todo el desarrollo, el coef...</td>\n",
       "      <td>1BC</td>\n",
       "      <td>Parcial 1</td>\n",
       "      <td>ex01e03</td>\n",
       "      <td>1</td>\n",
       "      <td>3</td>\n",
       "      <td>2</td>\n",
       "      <td>True</td>\n",
       "    </tr>\n",
       "    <tr>\n",
       "      <th>13</th>\n",
       "      <td>P(x)=\\left(2 x - \\frac{3}{x}\\right)^{8} \\  \\ y...</td>\n",
       "      <td>((2*x - 3/x)**8, x**(-8))</td>\n",
       "      <td>6561</td>\n",
       "      <td>Calcula, sin hacer todo el desarrollo, el coef...</td>\n",
       "      <td>1BC</td>\n",
       "      <td>Parcial 1</td>\n",
       "      <td>ex01e03</td>\n",
       "      <td>1</td>\n",
       "      <td>3</td>\n",
       "      <td>2</td>\n",
       "      <td>True</td>\n",
       "    </tr>\n",
       "    <tr>\n",
       "      <th>14</th>\n",
       "      <td>P(x)=\\left(3 x^{2} + \\frac{1}{x}\\right)^{7} \\ ...</td>\n",
       "      <td>((3*x**2 + 1/x)**7, x**8)</td>\n",
       "      <td>5103</td>\n",
       "      <td>Calcula, sin hacer todo el desarrollo, el coef...</td>\n",
       "      <td>1BC</td>\n",
       "      <td>Parcial 1</td>\n",
       "      <td>ex01e03</td>\n",
       "      <td>1</td>\n",
       "      <td>3</td>\n",
       "      <td>2</td>\n",
       "      <td>True</td>\n",
       "    </tr>\n",
       "    <tr>\n",
       "      <th>15</th>\n",
       "      <td>P(x)=\\left(3 x^{2} - \\frac{3}{x}\\right)^{10} \\,</td>\n",
       "      <td>((3*x**2 - 3/x)**10, -14880348*x**10)</td>\n",
       "      <td>- 14880348 x^{10}</td>\n",
       "      <td>Encontrar, sin hacer todo el desarrollo, el té...</td>\n",
       "      <td>1BC</td>\n",
       "      <td>Parcial 1</td>\n",
       "      <td>ex01e04</td>\n",
       "      <td>1</td>\n",
       "      <td>3</td>\n",
       "      <td>2</td>\n",
       "      <td>True</td>\n",
       "    </tr>\n",
       "    <tr>\n",
       "      <th>16</th>\n",
       "      <td>P(x)=\\left(3 x^{2} - \\frac{1}{3 x}\\right)^{10}...</td>\n",
       "      <td>((3*x**2 - 1/(3*x))**10, -61236*x**10)</td>\n",
       "      <td>- 61236 x^{10}</td>\n",
       "      <td>Encontrar, sin hacer todo el desarrollo, el té...</td>\n",
       "      <td>1BC</td>\n",
       "      <td>Parcial 1</td>\n",
       "      <td>ex01e04</td>\n",
       "      <td>1</td>\n",
       "      <td>3</td>\n",
       "      <td>2</td>\n",
       "      <td>True</td>\n",
       "    </tr>\n",
       "    <tr>\n",
       "      <th>17</th>\n",
       "      <td>P(x)=\\left(x^{2} + x\\right)^{4} \\,</td>\n",
       "      <td>((x**2 + x)**4, 6*x**6)</td>\n",
       "      <td>6 x^{6}</td>\n",
       "      <td>Encontrar, sin hacer todo el desarrollo, el té...</td>\n",
       "      <td>1BC</td>\n",
       "      <td>Parcial 1</td>\n",
       "      <td>ex01e04</td>\n",
       "      <td>1</td>\n",
       "      <td>3</td>\n",
       "      <td>2</td>\n",
       "      <td>True</td>\n",
       "    </tr>\n",
       "    <tr>\n",
       "      <th>18</th>\n",
       "      <td>\\frac{{2 - \\sqrt {3} }}{{1 - \\sqrt {3} }}-\\fra...</td>\n",
       "      <td>(-sqrt(3) + 2)/(-sqrt(3) + 1) - sqrt(3)/6 + 3/...</td>\n",
       "      <td>\\frac{14 \\sqrt{3} + 39}{6}\\to\\frac{7 \\sqrt{3}}...</td>\n",
       "      <td>Efectúa:</td>\n",
       "      <td>1BC</td>\n",
       "      <td>Parcial 1</td>\n",
       "      <td>ex01e05</td>\n",
       "      <td>1</td>\n",
       "      <td>3</td>\n",
       "      <td>1</td>\n",
       "      <td>True</td>\n",
       "    </tr>\n",
       "    <tr>\n",
       "      <th>19</th>\n",
       "      <td>\\frac{\\sqrt{3}}{\\sqrt{3}-\\sqrt{2}}-\\frac{\\sqrt...</td>\n",
       "      <td>-sqrt(3)/(sqrt(2) + sqrt(3)) + sqrt(3)/(-sqrt(...</td>\n",
       "      <td>2 \\sqrt{6}\\to2 \\sqrt{6}</td>\n",
       "      <td>Efectúa:</td>\n",
       "      <td>1BC</td>\n",
       "      <td>Parcial 1</td>\n",
       "      <td>ex01e05</td>\n",
       "      <td>1</td>\n",
       "      <td>3</td>\n",
       "      <td>1</td>\n",
       "      <td>True</td>\n",
       "    </tr>\n",
       "    <tr>\n",
       "      <th>20</th>\n",
       "      <td>El \\ resto \\ de \\ dividir \\ P(x)=x^{27}-kx+3k-...</td>\n",
       "      <td>(Poly((3*k - k*x + x**27) - 4, 3*k - k*x + x**...</td>\n",
       "      <td>4</td>\n",
       "      <td>Calcula el valor de $k$ para que:</td>\n",
       "      <td>1BC</td>\n",
       "      <td>Parcial 1</td>\n",
       "      <td>ex01e06</td>\n",
       "      <td>1</td>\n",
       "      <td>3</td>\n",
       "      <td>1</td>\n",
       "      <td>True</td>\n",
       "    </tr>\n",
       "    <tr>\n",
       "      <th>21</th>\n",
       "      <td>El \\ resto \\ de \\ dividir \\ P(x)=x^{27}-kx+3k-...</td>\n",
       "      <td>(Poly((3*k - k*x + x**27) - 4, 3*k - k*x + x**...</td>\n",
       "      <td>4</td>\n",
       "      <td>Calcula el valor de $k$ para que:</td>\n",
       "      <td>1BC</td>\n",
       "      <td>Parcial 1</td>\n",
       "      <td>ex01e06</td>\n",
       "      <td>1</td>\n",
       "      <td>3</td>\n",
       "      <td>1</td>\n",
       "      <td>True</td>\n",
       "    </tr>\n",
       "    <tr>\n",
       "      <th>22</th>\n",
       "      <td>El \\ resto \\ de \\ dividir \\ P(x)=x^{25}-kx+3k-...</td>\n",
       "      <td>(Poly((3*k - k*x + x**25) - 4, 3*k - k*x + x**...</td>\n",
       "      <td>4</td>\n",
       "      <td>Calcula el valor de $k$ para que:</td>\n",
       "      <td>1BC</td>\n",
       "      <td>Parcial 1</td>\n",
       "      <td>ex01e06</td>\n",
       "      <td>1</td>\n",
       "      <td>3</td>\n",
       "      <td>1</td>\n",
       "      <td>True</td>\n",
       "    </tr>\n",
       "    <tr>\n",
       "      <th>23</th>\n",
       "      <td>El \\ resto \\ de \\ dividir \\ P(x)=x^{25}-kx+3k-...</td>\n",
       "      <td>(Poly((3*k - k*x + x**25) - 4, 3*k - k*x + x**...</td>\n",
       "      <td>3</td>\n",
       "      <td>Calcula el valor de $k$ para que:</td>\n",
       "      <td>1BC</td>\n",
       "      <td>Parcial 1</td>\n",
       "      <td>ex01e06</td>\n",
       "      <td>1</td>\n",
       "      <td>3</td>\n",
       "      <td>1</td>\n",
       "      <td>True</td>\n",
       "    </tr>\n",
       "    <tr>\n",
       "      <th>24</th>\n",
       "      <td>El \\ resto \\ de \\ dividir \\ P(x)=x^{25}-kx+3k-...</td>\n",
       "      <td>(Poly((3*k - k*x + x**25) - 4, 3*k - k*x + x**...</td>\n",
       "      <td>3</td>\n",
       "      <td>Calcula el valor de $k$ para que:</td>\n",
       "      <td>1BC</td>\n",
       "      <td>Parcial 1</td>\n",
       "      <td>ex01e06</td>\n",
       "      <td>1</td>\n",
       "      <td>3</td>\n",
       "      <td>1</td>\n",
       "      <td>True</td>\n",
       "    </tr>\n",
       "    <tr>\n",
       "      <th>25</th>\n",
       "      <td>P(x)=x^2+mx-16 \\ tenga\\ dos \\ ra\\acute \\imath ...</td>\n",
       "      <td>m*x + x**2 - 16</td>\n",
       "      <td>\\left [ 1, \\quad m, \\quad -16\\right ]\\to \\left...</td>\n",
       "      <td>Calcula el valor de $m$ para que:</td>\n",
       "      <td>1BC</td>\n",
       "      <td>Parcial 1</td>\n",
       "      <td>ex01e07</td>\n",
       "      <td>1</td>\n",
       "      <td>3</td>\n",
       "      <td>1</td>\n",
       "      <td>True</td>\n",
       "    </tr>\n",
       "    <tr>\n",
       "      <th>26</th>\n",
       "      <td>P(x)=\\frac{x^2}{9}+mx+\\frac{9}{25} \\ tenga\\ do...</td>\n",
       "      <td>m*x + x**2/9 + 9/25</td>\n",
       "      <td>\\left [ \\frac{1}{9}, \\quad m, \\quad \\frac{9}{2...</td>\n",
       "      <td>Calcula el valor de $m$ para que:</td>\n",
       "      <td>1BC</td>\n",
       "      <td>Parcial 1</td>\n",
       "      <td>ex01e07</td>\n",
       "      <td>1</td>\n",
       "      <td>3</td>\n",
       "      <td>1</td>\n",
       "      <td>True</td>\n",
       "    </tr>\n",
       "    <tr>\n",
       "      <th>27</th>\n",
       "      <td>P(x)=\\frac{x^2}{25}-mx+\\frac{4}{9} \\ tenga\\ do...</td>\n",
       "      <td>-m*x + x**2/25 + 4/9</td>\n",
       "      <td>\\left [ \\frac{1}{25}, \\quad - m, \\quad \\frac{4...</td>\n",
       "      <td>Calcula el valor de $m$ para que:</td>\n",
       "      <td>1BC</td>\n",
       "      <td>Parcial 1</td>\n",
       "      <td>ex01e07</td>\n",
       "      <td>1</td>\n",
       "      <td>3</td>\n",
       "      <td>1</td>\n",
       "      <td>True</td>\n",
       "    </tr>\n",
       "    <tr>\n",
       "      <th>28</th>\n",
       "      <td>P(x)=4x^2-mx+9 \\ tenga\\ una \\ ra \\acute \\imath...</td>\n",
       "      <td>-m*x + 4*x**2 + 9</td>\n",
       "      <td>\\left [ 4, \\quad - m, \\quad 9\\right ]\\to \\left...</td>\n",
       "      <td>Calcula el valor de $m$ para que:</td>\n",
       "      <td>1BC</td>\n",
       "      <td>Parcial 1</td>\n",
       "      <td>ex01e07</td>\n",
       "      <td>1</td>\n",
       "      <td>3</td>\n",
       "      <td>1</td>\n",
       "      <td>True</td>\n",
       "    </tr>\n",
       "    <tr>\n",
       "      <th>29</th>\n",
       "      <td>P(x)=\\frac{x^2}{16}-mx+\\frac{9}{4} \\ tenga\\ un...</td>\n",
       "      <td>-m*x + x**2/16 + 9/4</td>\n",
       "      <td>\\left [ \\frac{1}{16}, \\quad - m, \\quad \\frac{9...</td>\n",
       "      <td>Calcula el valor de $m$ para que:</td>\n",
       "      <td>1BC</td>\n",
       "      <td>Parcial 1</td>\n",
       "      <td>ex01e07</td>\n",
       "      <td>1</td>\n",
       "      <td>3</td>\n",
       "      <td>1</td>\n",
       "      <td>True</td>\n",
       "    </tr>\n",
       "    <tr>\n",
       "      <th>30</th>\n",
       "      <td>P(x)=\\frac{x^2}{4}-mx+\\frac{1}{16} \\ tenga\\ un...</td>\n",
       "      <td>-m*x + x**2/4 + 1/16</td>\n",
       "      <td>\\left [ \\frac{1}{4}, \\quad - m, \\quad \\frac{1}...</td>\n",
       "      <td>Calcula el valor de $m$ para que:</td>\n",
       "      <td>1BC</td>\n",
       "      <td>Parcial 1</td>\n",
       "      <td>ex01e07</td>\n",
       "      <td>1</td>\n",
       "      <td>3</td>\n",
       "      <td>1</td>\n",
       "      <td>True</td>\n",
       "    </tr>\n",
       "    <tr>\n",
       "      <th>31</th>\n",
       "      <td>P(x)=4x^2+mx+9 \\ no \\ tenga\\ ninguna \\ ra \\acu...</td>\n",
       "      <td>m*x + 4*x**2 + 9</td>\n",
       "      <td>\\left [ 4, \\quad m, \\quad 9\\right ]\\to -12 &lt; m...</td>\n",
       "      <td>Calcula el valor de $m$ para que:</td>\n",
       "      <td>1BC</td>\n",
       "      <td>Parcial 1</td>\n",
       "      <td>ex01e07</td>\n",
       "      <td>1</td>\n",
       "      <td>3</td>\n",
       "      <td>1</td>\n",
       "      <td>True</td>\n",
       "    </tr>\n",
       "    <tr>\n",
       "      <th>32</th>\n",
       "      <td>P(x)=9x^2-mx+\\frac{1}{4} \\ no \\ tenga\\ ninguna...</td>\n",
       "      <td>-m*x + 9*x**2 + 1/4</td>\n",
       "      <td>\\left [ 9, \\quad - m, \\quad \\frac{1}{4}\\right ...</td>\n",
       "      <td>Calcula el valor de $m$ para que:</td>\n",
       "      <td>1BC</td>\n",
       "      <td>Parcial 1</td>\n",
       "      <td>ex01e07</td>\n",
       "      <td>1</td>\n",
       "      <td>3</td>\n",
       "      <td>1</td>\n",
       "      <td>True</td>\n",
       "    </tr>\n",
       "    <tr>\n",
       "      <th>33</th>\n",
       "      <td>P(x)=16x^2-mx+\\frac{9}{4} \\ no \\ tenga\\ ningun...</td>\n",
       "      <td>-m*x + 16*x**2 + 9/4</td>\n",
       "      <td>\\left [ 16, \\quad - m, \\quad \\frac{9}{4}\\right...</td>\n",
       "      <td>Calcula el valor de $m$ para que:</td>\n",
       "      <td>1BC</td>\n",
       "      <td>Parcial 1</td>\n",
       "      <td>ex01e07</td>\n",
       "      <td>1</td>\n",
       "      <td>3</td>\n",
       "      <td>1</td>\n",
       "      <td>True</td>\n",
       "    </tr>\n",
       "    <tr>\n",
       "      <th>34</th>\n",
       "      <td>A(x)= x^5+x^4-7x^3+x^2+10x-6\\  y \\\\  B(x)= x^...</td>\n",
       "      <td>(x**5 + x**4 - 7*x**3 + x**2 + 10*x - 6, x**5 ...</td>\n",
       "      <td>Descomposici \\acute on:(\\left(x - 1\\right)^{2}...</td>\n",
       "      <td>Halla el m.c.d. y el m.c.m. de los polinomios:</td>\n",
       "      <td>1BC</td>\n",
       "      <td>Parcial 1</td>\n",
       "      <td>ex01e08</td>\n",
       "      <td>1</td>\n",
       "      <td>3</td>\n",
       "      <td>3</td>\n",
       "      <td>True</td>\n",
       "    </tr>\n",
       "    <tr>\n",
       "      <th>35</th>\n",
       "      <td>A(x)= x^{5} - 6 x^{3} + 2 x^{2} + 9 x - 6\\  y...</td>\n",
       "      <td>(x**5 - 6*x**3 + 2*x**2 + 9*x - 6, x**5 + 3*x*...</td>\n",
       "      <td>Descomposici \\acute on:(\\left(x - 1\\right)^{2}...</td>\n",
       "      <td>Halla el m.c.d. y el m.c.m. de los polinomios:</td>\n",
       "      <td>1BC</td>\n",
       "      <td>Parcial 1</td>\n",
       "      <td>ex01e08</td>\n",
       "      <td>1</td>\n",
       "      <td>3</td>\n",
       "      <td>3</td>\n",
       "      <td>True</td>\n",
       "    </tr>\n",
       "    <tr>\n",
       "      <th>36</th>\n",
       "      <td>A(x)= x^{5} - 2 x^{4} - 5 x^{3} + 10 x^{2} + ...</td>\n",
       "      <td>(x**5 - 2*x**4 - 5*x**3 + 10*x**2 + 4*x - 8, x...</td>\n",
       "      <td>Descomposici \\acute on:(\\left(x - 2\\right)^{2}...</td>\n",
       "      <td>Halla el m.c.d. y el m.c.m. de los polinomios:</td>\n",
       "      <td>1BC</td>\n",
       "      <td>Parcial 1</td>\n",
       "      <td>ex01e08</td>\n",
       "      <td>1</td>\n",
       "      <td>3</td>\n",
       "      <td>3</td>\n",
       "      <td>True</td>\n",
       "    </tr>\n",
       "    <tr>\n",
       "      <th>37</th>\n",
       "      <td>\\frac{{x^3}-x^2 -4x + 4}{{x^2} - 3x + 2}:\\frac...</td>\n",
       "      <td>((-4*x + x**3 - x**2 + 4)/(x**2 - 3*x + 2))/((...</td>\n",
       "      <td>\\frac{x^{2} + 2 x}{x - 1}</td>\n",
       "      <td>Calcula expresando el resultado en forma de fr...</td>\n",
       "      <td>1BC</td>\n",
       "      <td>Parcial 1</td>\n",
       "      <td>ex01e09</td>\n",
       "      <td>1</td>\n",
       "      <td>3</td>\n",
       "      <td>1</td>\n",
       "      <td>True</td>\n",
       "    </tr>\n",
       "    <tr>\n",
       "      <th>38</th>\n",
       "      <td>\\frac{1+{ \\frac{1}{x}}}{{1 + \\frac{1}{{1 + \\fr...</td>\n",
       "      <td>(1 + 1/x)/(1 + 1/(1 + 1/x))</td>\n",
       "      <td>\\frac{x^{2} + 2 x + 1}{2 x^{2} + x}</td>\n",
       "      <td>Calcula expresando el resultado en forma de fr...</td>\n",
       "      <td>1BC</td>\n",
       "      <td>Parcial 1</td>\n",
       "      <td>ex01e09</td>\n",
       "      <td>1</td>\n",
       "      <td>3</td>\n",
       "      <td>1</td>\n",
       "      <td>True</td>\n",
       "    </tr>\n",
       "    <tr>\n",
       "      <th>39</th>\n",
       "      <td>\\frac{{\\frac{1}{{x - 3}} - \\frac{1}{{x + 3}}}}...</td>\n",
       "      <td>(-1/(x + 3) + 1/(x - 3))/(1 - 3/(x**2 - 9))</td>\n",
       "      <td>\\frac{6}{x^{2} - 12}</td>\n",
       "      <td>Calcula expresando el resultado en forma de fr...</td>\n",
       "      <td>1BC</td>\n",
       "      <td>Parcial 1</td>\n",
       "      <td>ex01e09</td>\n",
       "      <td>1</td>\n",
       "      <td>3</td>\n",
       "      <td>1</td>\n",
       "      <td>True</td>\n",
       "    </tr>\n",
       "  </tbody>\n",
       "</table>\n",
       "</div>"
      ],
      "text/plain": [
       "                                      enunciado_latex  \\\n",
       "0   A=\\left\\{ x \\in \\mathbb{R}| 6 \\leq x \\wedge x ...   \n",
       "1                  {\\binom{23}{x}} = \\binom{23}{3x-1}   \n",
       "2               {\\binom{39}{5+2x}} = \\binom{39}{2x-2}   \n",
       "3                   {\\binom{15}{x}} = \\binom{15}{x+1}   \n",
       "4                                 {\\binom{x}{2}} = 21   \n",
       "5                                 {\\binom{x}{2}} = 28   \n",
       "6                             {\\binom{x}{x - 2}} = 10   \n",
       "7                             {\\binom{x}{x - 2}} = 28   \n",
       "8   {\\binom{11}{3}} = {\\binom{12}{3}}-{\\binom{11}{x}}   \n",
       "9   {\\binom{33}{x}} = {\\binom{33}{x+y}}-{\\binom{34...   \n",
       "10  {\\binom{20}{7}} - {\\binom{19}{x}}-{\\binom{19}{...   \n",
       "11  P(x)=\\left(2 x - \\frac{3}{x}\\right)^{8} \\  \\ y...   \n",
       "12  P(x)=\\left(3 x^{2} + \\frac{1}{x}\\right)^{7} \\ ...   \n",
       "13  P(x)=\\left(2 x - \\frac{3}{x}\\right)^{8} \\  \\ y...   \n",
       "14  P(x)=\\left(3 x^{2} + \\frac{1}{x}\\right)^{7} \\ ...   \n",
       "15   P(x)=\\left(3 x^{2} - \\frac{3}{x}\\right)^{10} \\,    \n",
       "16  P(x)=\\left(3 x^{2} - \\frac{1}{3 x}\\right)^{10}...   \n",
       "17                P(x)=\\left(x^{2} + x\\right)^{4} \\,    \n",
       "18  \\frac{{2 - \\sqrt {3} }}{{1 - \\sqrt {3} }}-\\fra...   \n",
       "19  \\frac{\\sqrt{3}}{\\sqrt{3}-\\sqrt{2}}-\\frac{\\sqrt...   \n",
       "20  El \\ resto \\ de \\ dividir \\ P(x)=x^{27}-kx+3k-...   \n",
       "21  El \\ resto \\ de \\ dividir \\ P(x)=x^{27}-kx+3k-...   \n",
       "22  El \\ resto \\ de \\ dividir \\ P(x)=x^{25}-kx+3k-...   \n",
       "23  El \\ resto \\ de \\ dividir \\ P(x)=x^{25}-kx+3k-...   \n",
       "24  El \\ resto \\ de \\ dividir \\ P(x)=x^{25}-kx+3k-...   \n",
       "25  P(x)=x^2+mx-16 \\ tenga\\ dos \\ ra\\acute \\imath ...   \n",
       "26  P(x)=\\frac{x^2}{9}+mx+\\frac{9}{25} \\ tenga\\ do...   \n",
       "27  P(x)=\\frac{x^2}{25}-mx+\\frac{4}{9} \\ tenga\\ do...   \n",
       "28  P(x)=4x^2-mx+9 \\ tenga\\ una \\ ra \\acute \\imath...   \n",
       "29  P(x)=\\frac{x^2}{16}-mx+\\frac{9}{4} \\ tenga\\ un...   \n",
       "30  P(x)=\\frac{x^2}{4}-mx+\\frac{1}{16} \\ tenga\\ un...   \n",
       "31  P(x)=4x^2+mx+9 \\ no \\ tenga\\ ninguna \\ ra \\acu...   \n",
       "32  P(x)=9x^2-mx+\\frac{1}{4} \\ no \\ tenga\\ ninguna...   \n",
       "33  P(x)=16x^2-mx+\\frac{9}{4} \\ no \\ tenga\\ ningun...   \n",
       "34   A(x)= x^5+x^4-7x^3+x^2+10x-6\\  y \\\\  B(x)= x^...   \n",
       "35   A(x)= x^{5} - 6 x^{3} + 2 x^{2} + 9 x - 6\\  y...   \n",
       "36   A(x)= x^{5} - 2 x^{4} - 5 x^{3} + 10 x^{2} + ...   \n",
       "37  \\frac{{x^3}-x^2 -4x + 4}{{x^2} - 3x + 2}:\\frac...   \n",
       "38  \\frac{1+{ \\frac{1}{x}}}{{1 + \\frac{1}{{1 + \\fr...   \n",
       "39  \\frac{{\\frac{1}{{x - 3}} - \\frac{1}{{x + 3}}}}...   \n",
       "\n",
       "                                            enunciado  \\\n",
       "0   [Interval.Ropen(6, 8), Union(Interval.open(-oo...   \n",
       "1          Eq(binomial(23, x), binomial(23, 3*x - 1))   \n",
       "2    Eq(binomial(39, 2*x + 5), binomial(39, 2*x - 2))   \n",
       "3            Eq(binomial(15, x), binomial(15, x + 1))   \n",
       "4                              Eq(binomial(x, 2), 21)   \n",
       "5                              Eq(binomial(x, 2), 28)   \n",
       "6                          Eq(binomial(x, x - 2), 10)   \n",
       "7                          Eq(binomial(x, x - 2), 28)   \n",
       "8                                       Eq(-x + 3, 1)   \n",
       "9                            [Eq(y, 1), Eq(x + y, 5)]   \n",
       "10                                       Eq(x + 1, 7)   \n",
       "11                          ((2*x - 3/x)**8, x**(-6))   \n",
       "12                          ((3*x**2 + 1/x)**7, x**5)   \n",
       "13                          ((2*x - 3/x)**8, x**(-8))   \n",
       "14                          ((3*x**2 + 1/x)**7, x**8)   \n",
       "15              ((3*x**2 - 3/x)**10, -14880348*x**10)   \n",
       "16             ((3*x**2 - 1/(3*x))**10, -61236*x**10)   \n",
       "17                            ((x**2 + x)**4, 6*x**6)   \n",
       "18  (-sqrt(3) + 2)/(-sqrt(3) + 1) - sqrt(3)/6 + 3/...   \n",
       "19  -sqrt(3)/(sqrt(2) + sqrt(3)) + sqrt(3)/(-sqrt(...   \n",
       "20  (Poly((3*k - k*x + x**27) - 4, 3*k - k*x + x**...   \n",
       "21  (Poly((3*k - k*x + x**27) - 4, 3*k - k*x + x**...   \n",
       "22  (Poly((3*k - k*x + x**25) - 4, 3*k - k*x + x**...   \n",
       "23  (Poly((3*k - k*x + x**25) - 4, 3*k - k*x + x**...   \n",
       "24  (Poly((3*k - k*x + x**25) - 4, 3*k - k*x + x**...   \n",
       "25                                    m*x + x**2 - 16   \n",
       "26                                m*x + x**2/9 + 9/25   \n",
       "27                               -m*x + x**2/25 + 4/9   \n",
       "28                                  -m*x + 4*x**2 + 9   \n",
       "29                               -m*x + x**2/16 + 9/4   \n",
       "30                               -m*x + x**2/4 + 1/16   \n",
       "31                                   m*x + 4*x**2 + 9   \n",
       "32                                -m*x + 9*x**2 + 1/4   \n",
       "33                               -m*x + 16*x**2 + 9/4   \n",
       "34  (x**5 + x**4 - 7*x**3 + x**2 + 10*x - 6, x**5 ...   \n",
       "35  (x**5 - 6*x**3 + 2*x**2 + 9*x - 6, x**5 + 3*x*...   \n",
       "36  (x**5 - 2*x**4 - 5*x**3 + 10*x**2 + 4*x - 8, x...   \n",
       "37  ((-4*x + x**3 - x**2 + 4)/(x**2 - 3*x + 2))/((...   \n",
       "38                        (1 + 1/x)/(1 + 1/(1 + 1/x))   \n",
       "39        (-1/(x + 3) + 1/(x - 3))/(1 - 3/(x**2 - 9))   \n",
       "\n",
       "                                             solucion  \\\n",
       "0   C=\\left(-\\infty, -14\\right] \\cup \\left[10, \\in...   \n",
       "1                                    \\left\\{6\\right\\}   \n",
       "2                                    \\left\\{9\\right\\}   \n",
       "3                                    \\left\\{7\\right\\}   \n",
       "4                                    \\left\\{7\\right\\}   \n",
       "5                                    \\left\\{8\\right\\}   \n",
       "6                                    \\left\\{5\\right\\}   \n",
       "7                                    \\left\\{8\\right\\}   \n",
       "8                                   \\left [ 2\\right ]   \n",
       "9                \\left \\{ x : 4, \\quad y : 1\\right \\}   \n",
       "10                                  \\left [ 6\\right ]   \n",
       "11                                             -34992   \n",
       "12                                               2835   \n",
       "13                                               6561   \n",
       "14                                               5103   \n",
       "15                                  - 14880348 x^{10}   \n",
       "16                                     - 61236 x^{10}   \n",
       "17                                            6 x^{6}   \n",
       "18  \\frac{14 \\sqrt{3} + 39}{6}\\to\\frac{7 \\sqrt{3}}...   \n",
       "19                            2 \\sqrt{6}\\to2 \\sqrt{6}   \n",
       "20                                                  4   \n",
       "21                                                  4   \n",
       "22                                                  4   \n",
       "23                                                  3   \n",
       "24                                                  3   \n",
       "25  \\left [ 1, \\quad m, \\quad -16\\right ]\\to \\left...   \n",
       "26  \\left [ \\frac{1}{9}, \\quad m, \\quad \\frac{9}{2...   \n",
       "27  \\left [ \\frac{1}{25}, \\quad - m, \\quad \\frac{4...   \n",
       "28  \\left [ 4, \\quad - m, \\quad 9\\right ]\\to \\left...   \n",
       "29  \\left [ \\frac{1}{16}, \\quad - m, \\quad \\frac{9...   \n",
       "30  \\left [ \\frac{1}{4}, \\quad - m, \\quad \\frac{1}...   \n",
       "31  \\left [ 4, \\quad m, \\quad 9\\right ]\\to -12 < m...   \n",
       "32  \\left [ 9, \\quad - m, \\quad \\frac{1}{4}\\right ...   \n",
       "33  \\left [ 16, \\quad - m, \\quad \\frac{9}{4}\\right...   \n",
       "34  Descomposici \\acute on:(\\left(x - 1\\right)^{2}...   \n",
       "35  Descomposici \\acute on:(\\left(x - 1\\right)^{2}...   \n",
       "36  Descomposici \\acute on:(\\left(x - 2\\right)^{2}...   \n",
       "37                          \\frac{x^{2} + 2 x}{x - 1}   \n",
       "38                \\frac{x^{2} + 2 x + 1}{2 x^{2} + x}   \n",
       "39                               \\frac{6}{x^{2} - 12}   \n",
       "\n",
       "                                                texto curso     titulo  \\\n",
       "0   Dados los siguientes conjuntos A, B y C, repre...   1BC  Parcial 1   \n",
       "1   Usando la definición y las propiedades de los ...   1BC  Parcial 1   \n",
       "2   Usando la definición y las propiedades de los ...   1BC  Parcial 1   \n",
       "3   Usando la definición y las propiedades de los ...   1BC  Parcial 1   \n",
       "4   Usando la definición y las propiedades de los ...   1BC  Parcial 1   \n",
       "5   Usando la definición y las propiedades de los ...   1BC  Parcial 1   \n",
       "6   Usando la definición y las propiedades de los ...   1BC  Parcial 1   \n",
       "7   Usando la definición y las propiedades de los ...   1BC  Parcial 1   \n",
       "8   Usando la definición y las propiedades de los ...   1BC  Parcial 1   \n",
       "9   Usando la definición y las propiedades de los ...   1BC  Parcial 1   \n",
       "10  Usando la definición y las propiedades de los ...   1BC  Parcial 1   \n",
       "11  Calcula, sin hacer todo el desarrollo, el coef...   1BC  Parcial 1   \n",
       "12  Calcula, sin hacer todo el desarrollo, el coef...   1BC  Parcial 1   \n",
       "13  Calcula, sin hacer todo el desarrollo, el coef...   1BC  Parcial 1   \n",
       "14  Calcula, sin hacer todo el desarrollo, el coef...   1BC  Parcial 1   \n",
       "15  Encontrar, sin hacer todo el desarrollo, el té...   1BC  Parcial 1   \n",
       "16  Encontrar, sin hacer todo el desarrollo, el té...   1BC  Parcial 1   \n",
       "17  Encontrar, sin hacer todo el desarrollo, el té...   1BC  Parcial 1   \n",
       "18                                           Efectúa:   1BC  Parcial 1   \n",
       "19                                           Efectúa:   1BC  Parcial 1   \n",
       "20                  Calcula el valor de $k$ para que:   1BC  Parcial 1   \n",
       "21                  Calcula el valor de $k$ para que:   1BC  Parcial 1   \n",
       "22                  Calcula el valor de $k$ para que:   1BC  Parcial 1   \n",
       "23                  Calcula el valor de $k$ para que:   1BC  Parcial 1   \n",
       "24                  Calcula el valor de $k$ para que:   1BC  Parcial 1   \n",
       "25                  Calcula el valor de $m$ para que:   1BC  Parcial 1   \n",
       "26                  Calcula el valor de $m$ para que:   1BC  Parcial 1   \n",
       "27                  Calcula el valor de $m$ para que:   1BC  Parcial 1   \n",
       "28                  Calcula el valor de $m$ para que:   1BC  Parcial 1   \n",
       "29                  Calcula el valor de $m$ para que:   1BC  Parcial 1   \n",
       "30                  Calcula el valor de $m$ para que:   1BC  Parcial 1   \n",
       "31                  Calcula el valor de $m$ para que:   1BC  Parcial 1   \n",
       "32                  Calcula el valor de $m$ para que:   1BC  Parcial 1   \n",
       "33                  Calcula el valor de $m$ para que:   1BC  Parcial 1   \n",
       "34    Halla el m.c.d. y el m.c.m. de los polinomios:    1BC  Parcial 1   \n",
       "35    Halla el m.c.d. y el m.c.m. de los polinomios:    1BC  Parcial 1   \n",
       "36    Halla el m.c.d. y el m.c.m. de los polinomios:    1BC  Parcial 1   \n",
       "37  Calcula expresando el resultado en forma de fr...   1BC  Parcial 1   \n",
       "38  Calcula expresando el resultado en forma de fr...   1BC  Parcial 1   \n",
       "39  Calcula expresando el resultado en forma de fr...   1BC  Parcial 1   \n",
       "\n",
       "   n_ejercicio dificultad n_columnas puntos  enun_tex  \n",
       "0      ex01e01          1          3      2      True  \n",
       "1      ex01e02          1          3      1      True  \n",
       "2      ex01e02          1          3      1      True  \n",
       "3      ex01e02          1          3      1      True  \n",
       "4      ex01e02          1          3      1      True  \n",
       "5      ex01e02          1          3      1      True  \n",
       "6      ex01e02          1          3      1      True  \n",
       "7      ex01e02          1          3      1      True  \n",
       "8      ex01e02          1          3      1      True  \n",
       "9      ex01e02          1          3      1      True  \n",
       "10     ex01e02          1          3      1      True  \n",
       "11     ex01e03          1          3      2      True  \n",
       "12     ex01e03          1          3      2      True  \n",
       "13     ex01e03          1          3      2      True  \n",
       "14     ex01e03          1          3      2      True  \n",
       "15     ex01e04          1          3      2      True  \n",
       "16     ex01e04          1          3      2      True  \n",
       "17     ex01e04          1          3      2      True  \n",
       "18     ex01e05          1          3      1      True  \n",
       "19     ex01e05          1          3      1      True  \n",
       "20     ex01e06          1          3      1      True  \n",
       "21     ex01e06          1          3      1      True  \n",
       "22     ex01e06          1          3      1      True  \n",
       "23     ex01e06          1          3      1      True  \n",
       "24     ex01e06          1          3      1      True  \n",
       "25     ex01e07          1          3      1      True  \n",
       "26     ex01e07          1          3      1      True  \n",
       "27     ex01e07          1          3      1      True  \n",
       "28     ex01e07          1          3      1      True  \n",
       "29     ex01e07          1          3      1      True  \n",
       "30     ex01e07          1          3      1      True  \n",
       "31     ex01e07          1          3      1      True  \n",
       "32     ex01e07          1          3      1      True  \n",
       "33     ex01e07          1          3      1      True  \n",
       "34     ex01e08          1          3      3      True  \n",
       "35     ex01e08          1          3      3      True  \n",
       "36     ex01e08          1          3      3      True  \n",
       "37     ex01e09          1          3      1      True  \n",
       "38     ex01e09          1          3      1      True  \n",
       "39     ex01e09          1          3      1      True  "
      ]
     },
     "execution_count": 17,
     "metadata": {},
     "output_type": "execute_result"
    }
   ],
   "source": [
    "df_ejercicios"
   ]
  },
  {
   "cell_type": "code",
   "execution_count": 18,
   "metadata": {},
   "outputs": [],
   "source": [
    "df_ejercicios.to_csv('ejercicios_parcial1b.csv', index = False)"
   ]
  }
 ],
 "metadata": {
  "kernelspec": {
   "display_name": "Python 3",
   "language": "python",
   "name": "python3"
  },
  "language_info": {
   "codemirror_mode": {
    "name": "ipython",
    "version": 3
   },
   "file_extension": ".py",
   "mimetype": "text/x-python",
   "name": "python",
   "nbconvert_exporter": "python",
   "pygments_lexer": "ipython3",
   "version": "3.6.5"
  }
 },
 "nbformat": 4,
 "nbformat_minor": 2
}
