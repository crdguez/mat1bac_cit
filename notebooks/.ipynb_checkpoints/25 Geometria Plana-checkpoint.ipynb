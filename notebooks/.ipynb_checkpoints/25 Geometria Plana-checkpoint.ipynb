{
 "cells": [
  {
   "cell_type": "code",
   "execution_count": 2,
   "metadata": {},
   "outputs": [
    {
     "name": "stdout",
     "output_type": "stream",
     "text": [
      "IPython console for SymPy 1.2 (Python 3.6.5-64-bit) (ground types: gmpy)\n",
      "\n",
      "These commands were executed:\n",
      ">>> from __future__ import division\n",
      ">>> from sympy import *\n",
      ">>> x, y, z, t = symbols('x y z t')\n",
      ">>> k, m, n = symbols('k m n', integer=True)\n",
      ">>> f, g, h = symbols('f g h', cls=Function)\n",
      ">>> init_printing()\n",
      "\n",
      "Documentation can be found at http://docs.sympy.org/1.2/\n",
      "\n"
     ]
    }
   ],
   "source": [
    "from sympy import init_session\n",
    "from sympy import div, QQ\n",
    "from sympy.parsing.latex import parse_latex\n",
    "from sympy.parsing.sympy_parser import parse_expr\n",
    "from IPython.display import Markdown as md\n",
    "from IPython.display import display\n",
    "import numpy as np\n",
    "import pandas as pd\n",
    "    \n",
    "from sympy.geometry import Point, Line\n",
    "from sympy.vector import CoordSys3D, vector\n",
    "\n",
    "\n",
    "init_session()\n",
    "\n",
    "a, b, c, d = symbols('a b c d', real = True)\n",
    "from docparts import añadir_ejercicios, doc_ejer, escribir_preambulo, escribir_ejercicios, escribir_fin\n",
    "\n",
    "df_ejercicios = pd.DataFrame()\n",
    "\n",
    "fichero = 'prodesc'\n",
    "titulo = '22 - Producto Escalar'\n",
    "curso = '1BC'\n",
    "\n",
    "\n",
    "x,y = symbols('x, y', real=True)\n"
   ]
  },
  {
   "cell_type": "code",
   "execution_count": 4,
   "metadata": {},
   "outputs": [
    {
     "data": {
      "image/png": "[encoded data removed]",
      "text/latex": [
       "$$\\left ( \\mathbf{\\hat{i}_{N}}, \\quad \\mathbf{\\hat{j}_{N}}, \\quad \\mathbf{\\hat{k}_{N}}\\right )$$"
      ],
      "text/plain": [
       "(N_i, N_j, N_k)"
      ]
     },
     "metadata": {},
     "output_type": "display_data"
    },
    {
     "data": {
      "image/png": "[encoded data removed]",
      "text/latex": [
       "$$\\mathbf{\\hat{i}_{N}} + (2)\\mathbf{\\hat{j}_{N}}$$"
      ],
      "text/plain": [
       "N.i + 2*N.j"
      ]
     },
     "execution_count": 4,
     "metadata": {},
     "output_type": "execute_result"
    }
   ],
   "source": [
    "N = CoordSys3D('N') #instanciamos un sistema de coordenadas en R3\n",
    "\n",
    "i, j, k = N.base_vectors()\n",
    "\n",
    "display(N.base_vectors())\n",
    "v = [1,2,0]\n",
    "base = [i,j,k]\n",
    "u=(np.array(v)*np.array(base)).sum()\n",
    "type(u)\n",
    "u.components\n",
    "u\n"
   ]
  },
  {
   "cell_type": "code",
   "execution_count": 3,
   "metadata": {},
   "outputs": [
    {
     "name": "stdout",
     "output_type": "stream",
     "text": [
      "\\mathbf{\\hat{i}_{N}} + (2)\\mathbf{\\hat{j}_{N}}\n"
     ]
    },
    {
     "data": {
      "image/png": "[encoded data removed]",
      "text/latex": [
       "$$\\mathbf{\\hat{i}_{N}} + (2)\\mathbf{\\hat{j}_{N}}$$"
      ],
      "text/plain": [
       "N.i + 2*N.j"
      ]
     },
     "execution_count": 3,
     "metadata": {},
     "output_type": "execute_result"
    }
   ],
   "source": [
    "w=i+2*j\n",
    "print(latex(w))\n",
    "w"
   ]
  },
  {
   "cell_type": "code",
   "execution_count": 4,
   "metadata": {},
   "outputs": [],
   "source": [
    "N = CoordSys3D('N') #instanciamos un sistema de coordenadas en R3\n",
    "\n",
    "i, j, k = N.base_vectors()\n"
   ]
  },
  {
   "cell_type": "code",
   "execution_count": 5,
   "metadata": {},
   "outputs": [
    {
     "data": {
      "text/markdown": [
       "**Sea \n",
       "$\\left\\lbrace\\overrightarrow{ i},\\overrightarrow{ j}\\right\\rbrace$ la base canónica de $V_2$, y los vectores:\n",
       "$\\overrightarrow u=  - 2\\overrightarrow i + \\overrightarrow j$, \n",
       "$\\overrightarrow v = 2\\overrightarrow i - 3\\overrightarrow j$, \n",
       "$\\overrightarrow w = \\overrightarrow i + \\overrightarrow j$, \n",
       "$\\overrightarrow z =  - \\overrightarrow i - 3\\overrightarrow j$\n",
       "\tCalcular:**"
      ],
      "text/plain": [
       "<IPython.core.display.Markdown object>"
      ]
     },
     "metadata": {},
     "output_type": "display_data"
    },
    {
     "data": {
      "image/png": "[encoded data removed]",
      "text/latex": [
       "$$\\left [ \\left [ \\left ( -2, \\quad 1\\right ), \\quad \\left ( 2, \\quad -3\\right ), \\quad \\left ( 1, \\quad 1\\right ), \\quad \\left ( -1, \\quad -3\\right )\\right ], \\quad \\left [ \\left ( 2, \\quad -5\\right ), \\quad \\left ( 4, \\quad -11\\right ), \\quad \\left ( 13, \\quad -2\\right ), \\quad \\left ( 3, \\quad 7\\right )\\right ]\\right ]$$"
      ],
      "text/plain": [
       "[[(-2, 1), (2, -3), (1, 1), (-1, -3)], [(2, -5), (4, -11), (13, -2), (3, 7)]]"
      ]
     },
     "metadata": {},
     "output_type": "display_data"
    }
   ],
   "source": [
    "# Página 35 ejercicio 1\n",
    "\n",
    "texto_ejercicio = r\"\"\"Sea \n",
    "$\\left\\lbrace\\overrightarrow{ i},\\overrightarrow{ j}\\right\\rbrace$ la base canónica de $V_2$, y los vectores:\n",
    "$\\overrightarrow u=  - 2\\overrightarrow i + \\overrightarrow j$, \n",
    "$\\overrightarrow v = 2\\overrightarrow i - 3\\overrightarrow j$, \n",
    "$\\overrightarrow w = \\overrightarrow i + \\overrightarrow j$, \n",
    "$\\overrightarrow z =  - \\overrightarrow i - 3\\overrightarrow j$\n",
    "\tCalcular:\"\"\"\n",
    "\n",
    "n_ejercicio = 'p035e01'\n",
    "\n",
    "display(md(\"**\"+texto_ejercicio+\"**\"))\n",
    "\n",
    "N = CoordSys3D('N') #instanciamos un sistema de coordenadas en R3\n",
    "\n",
    "i, j, k = N.base_vectors()\n",
    "\n",
    "# vectores iniciales correspondientes al texto del enunciado\n",
    "\n",
    "vectores = [-2*i+j, 2*i-3*j, i+j, -i-3*j]\n",
    "\n",
    "u,v,w,z = vectores\n",
    "\n",
    "enunciado_latex = [\"\"\"Las coordenadas de cada uno de ellos respecto de la base canónica.\n",
    "\tLas coordenadas de los vectores:$\\overrightarrow u + 2\\overrightarrow v$, \n",
    "    $5\\overrightarrow u - \\overrightarrow w$, \n",
    "    $ - 3\\overrightarrow v + 4\\overrightarrow w$, \n",
    "    $\\overrightarrow w - 2\\overrightarrow z$\"\"\", ]\n",
    "\n",
    "enunciado = [[u+2*v, 5*u-w, -3*v+4*w, w-2*z]]\n",
    "\n",
    "solucion = []\n",
    "\n",
    "for i, s in enumerate(enunciado) : \n",
    "    so1 = [tuple(l.components.values()) for l in  vectores]\n",
    "    so2 = [tuple(l.components.values()) for l in s]\n",
    "    solucion.append([so1,so2])\n",
    "    display([so1,so2])\n",
    "\n",
    "df_ejercicios = df_ejercicios.append(añadir_ejercicios(enunciado_latex, enunciado, solucion, texto_ejercicio, curso, titulo , n_ejercicio, '1', '1', enun_tex=False), ignore_index=True)\n"
   ]
  },
  {
   "cell_type": "code",
   "execution_count": 6,
   "metadata": {},
   "outputs": [
    {
     "data": {
      "text/markdown": [
       "**Estudia la dependencia lineal de los siguientes conjuntos de vectores:**"
      ],
      "text/plain": [
       "<IPython.core.display.Markdown object>"
      ]
     },
     "metadata": {},
     "output_type": "display_data"
    },
    {
     "data": {
      "text/markdown": [
       "$\\overrightarrow{u}=(4, 12) \\, \\ \\overrightarrow{v}=(2, 6)$"
      ],
      "text/plain": [
       "<IPython.core.display.Markdown object>"
      ]
     },
     "metadata": {},
     "output_type": "display_data"
    },
    {
     "data": {
      "text/plain": [
       "True"
      ]
     },
     "metadata": {},
     "output_type": "display_data"
    },
    {
     "data": {
      "text/markdown": [
       "$\\overrightarrow{u}=(1, 2) \\, \\ \\overrightarrow{v}=(3, 4)$"
      ],
      "text/plain": [
       "<IPython.core.display.Markdown object>"
      ]
     },
     "metadata": {},
     "output_type": "display_data"
    },
    {
     "data": {
      "text/plain": [
       "False"
      ]
     },
     "metadata": {},
     "output_type": "display_data"
    },
    {
     "data": {
      "text/markdown": [
       "$\\overrightarrow{u}=(1, 1) \\, \\ \\overrightarrow{v}=(-2, -3)$"
      ],
      "text/plain": [
       "<IPython.core.display.Markdown object>"
      ]
     },
     "metadata": {},
     "output_type": "display_data"
    },
    {
     "data": {
      "text/plain": [
       "False"
      ]
     },
     "metadata": {},
     "output_type": "display_data"
    }
   ],
   "source": [
    "# Página 35 ejercicio 2\n",
    "\n",
    "texto_ejercicio = r\"\"\"Estudia la dependencia lineal de los siguientes conjuntos de vectores:\"\"\"\n",
    "\n",
    "n_ejercicio = 'p035e02'\n",
    "\n",
    "display(md(\"**\"+texto_ejercicio+\"**\"))\n",
    "\n",
    "pre_enunciado_latex = [[(4,12),(2,6)],\n",
    "                       [(1,2),(3,4)],\n",
    "                       [(1,1),(-2,-3)]\n",
    "                      ]\n",
    "\n",
    "enunciado_latex, enunciado, solucion = [],[],[]\n",
    "\n",
    "for i, s in enumerate(pre_enunciado_latex) :\n",
    "    enunciado_latex.append(r\"\\overrightarrow{u}=\"+str(s[0])+r\" \\, \\ \\overrightarrow{v}=\"+str(s[1]))\n",
    "    display(md(\"$\"+enunciado_latex[i]+\"$\"))\n",
    "    en=\"Point\"+str(s[0])+\".is_collinear(Point\"+str(s[1])+\", Point(0,0))\"\n",
    "    enunciado.append(en)\n",
    "    solucion.append(S(en))\n",
    "    display(solucion[i])\n",
    "\n",
    "df_ejercicios = df_ejercicios.append(añadir_ejercicios(enunciado_latex, enunciado, solucion, texto_ejercicio, curso, titulo , n_ejercicio, '1', '2', enun_tex=True), ignore_index=True)\n"
   ]
  },
  {
   "cell_type": "code",
   "execution_count": 5,
   "metadata": {},
   "outputs": [
    {
     "data": {
      "text/latex": [
       "$$\\left ( \\left[\\begin{matrix}1 & 0\\\\0 & 1\\end{matrix}\\right], \\quad \\left ( 0, \\quad 1\\right )\\right )$$"
      ],
      "text/plain": [
       "⎛⎡1  0⎤        ⎞\n",
       "⎜⎢    ⎥, (0, 1)⎟\n",
       "⎝⎣0  1⎦        ⎠"
      ]
     },
     "execution_count": 5,
     "metadata": {},
     "output_type": "execute_result"
    }
   ],
   "source": [
    "# otra forma con matrices, aqui dice que el vector 0 y el 1 son linelamente independientes\n",
    "Matrix([(1,2),(3,4)]).rref()"
   ]
  },
  {
   "cell_type": "code",
   "execution_count": 4,
   "metadata": {},
   "outputs": [
    {
     "data": {
      "text/markdown": [
       "**Respecto de una base ortonormal tenemos dos vectores $\\overrightarrow{u}$ y $\\overrightarrow{v}$.\n",
       "Calcular $\\overrightarrow{u}\\cdot\\overrightarrow{v}$, $|\\overrightarrow{u}| \\ y \\ |\\overrightarrow{v}|$ \n",
       "y $\\angle(\\overrightarrow{u},\\overrightarrow{v})$ siendo:**"
      ],
      "text/plain": [
       "<IPython.core.display.Markdown object>"
      ]
     },
     "metadata": {},
     "output_type": "display_data"
    },
    {
     "data": {
      "text/markdown": [
       "$\\overrightarrow{u}=(2, -3) \\, \\ \\overrightarrow{v}=(5, 4)$"
      ],
      "text/plain": [
       "<IPython.core.display.Markdown object>"
      ]
     },
     "metadata": {},
     "output_type": "display_data"
    },
    {
     "data": {
      "text/markdown": [
       "$\\left [ -2, \\quad \\left [ \\sqrt{13}, \\quad \\sqrt{41}\\right ], \\quad 94.9697407281103\\right ]$"
      ],
      "text/plain": [
       "<IPython.core.display.Markdown object>"
      ]
     },
     "metadata": {},
     "output_type": "display_data"
    },
    {
     "data": {
      "text/markdown": [
       "$\\overrightarrow{u}=(1, 2) \\, \\ \\overrightarrow{v}=(3, 4)$"
      ],
      "text/plain": [
       "<IPython.core.display.Markdown object>"
      ]
     },
     "metadata": {},
     "output_type": "display_data"
    },
    {
     "data": {
      "text/markdown": [
       "$\\left [ 11, \\quad \\left [ \\sqrt{5}, \\quad 5\\right ], \\quad 10.304846468766\\right ]$"
      ],
      "text/plain": [
       "<IPython.core.display.Markdown object>"
      ]
     },
     "metadata": {},
     "output_type": "display_data"
    },
    {
     "data": {
      "text/markdown": [
       "$\\overrightarrow{u}=(1, 1) \\, \\ \\overrightarrow{v}=(-2, -3)$"
      ],
      "text/plain": [
       "<IPython.core.display.Markdown object>"
      ]
     },
     "metadata": {},
     "output_type": "display_data"
    },
    {
     "data": {
      "text/markdown": [
       "$\\left [ -5, \\quad \\left [ \\sqrt{2}, \\quad \\sqrt{13}\\right ], \\quad 168.69006752598\\right ]$"
      ],
      "text/plain": [
       "<IPython.core.display.Markdown object>"
      ]
     },
     "metadata": {},
     "output_type": "display_data"
    }
   ],
   "source": [
    "# Página 36 ejercicio 9\n",
    "\n",
    "texto_ejercicio = r\"\"\"Respecto de una base ortonormal tenemos dos vectores $\\overrightarrow{u}$ y $\\overrightarrow{v}$.\n",
    "Calcular $\\overrightarrow{u}\\cdot\\overrightarrow{v}$, $|\\overrightarrow{u}| \\ y \\ |\\overrightarrow{v}|$ \n",
    "y $\\angle(\\overrightarrow{u},\\overrightarrow{v})$ siendo:\"\"\"\n",
    "\n",
    "\n",
    "n_ejercicio = 'p036e09'\n",
    "\n",
    "display(md(\"**\"+texto_ejercicio+\"**\"))\n",
    "\n",
    "N = CoordSys3D('N') #instanciamos un sistema de coordenadas en R3\n",
    "\n",
    "i, j, k = N.base_vectors()\n",
    "\n",
    "pre_enunciado_latex = [[(2,-3),(5,4)],\n",
    "                       [(1,2),(3,4)],\n",
    "                       [(1,1),(-2,-3)],\n",
    "                      ]\n",
    "\n",
    "enunciado_latex, enunciado, solucion = [],[],[]\n",
    "\n",
    "for i, s in enumerate(pre_enunciado_latex) :\n",
    "    enunciado_latex.append(r\"\\overrightarrow{u}=\"+str(s[0])+r\" \\, \\ \\overrightarrow{v}=\"+str(s[1]))\n",
    "    display(md(\"$\"+enunciado_latex[i]+\"$\"))\n",
    "    en=[\"Point\"+str(s[0])+\".dot(Point\"+str(s[1])+\")\"]\n",
    "    en.append([\"Point\"+str(s[0])+\".distance(Point(0,0))\",\"Point\"+str(s[1])+\".distance(Point(0,0))\"])\n",
    "    angulo = float(deg(acos(float(S(str(en[0])+\"/(\"+str(en[1][0])+\"*\"+str(en[1][1])+\")\")))))\n",
    "    #en.append(\"acos(\"+str(en[0])+\"/(\"+str(en[1][0])+\"*\"+str(en[1][1])+\"))\")\n",
    "    en.append(angulo)\n",
    "    enunciado.append(en)\n",
    "    solucion.append(latex(S(en)))\n",
    "    \n",
    "    display(md(\"$\"+solucion[i]+\"$\"))\n",
    "\n",
    "df_ejercicios = df_ejercicios.append(añadir_ejercicios(enunciado_latex, enunciado, solucion, texto_ejercicio, curso, titulo , n_ejercicio, '1', '2', enun_tex=True), ignore_index=True)\n"
   ]
  },
  {
   "cell_type": "code",
   "execution_count": 9,
   "metadata": {},
   "outputs": [
    {
     "data": {
      "text/markdown": [
       "**Respecto de una base ortonormal tenemos dos vectores $\\overrightarrow{u}$ y $\\overrightarrow{v}$.\n",
       "Calcular $\\overrightarrow{u}\\cdot\\overrightarrow{v}$, $|\\overrightarrow{u}| \\ y \\ |\\overrightarrow{v}|$ \n",
       "y $\\angle(\\overrightarrow{u},\\overrightarrow{v})$ siendo:**"
      ],
      "text/plain": [
       "<IPython.core.display.Markdown object>"
      ]
     },
     "metadata": {},
     "output_type": "display_data"
    },
    {
     "data": {
      "text/markdown": [
       "$\\overrightarrow{u}=(2, -3) \\, \\ \\overrightarrow{v}=(5, 4)$"
      ],
      "text/plain": [
       "<IPython.core.display.Markdown object>"
      ]
     },
     "metadata": {},
     "output_type": "display_data"
    },
    {
     "data": {
      "text/markdown": [
       "$\\left [ -2, \\quad \\left [ \\sqrt{13}, \\quad \\sqrt{41}\\right ], \\quad 94.9697407281103\\right ]$"
      ],
      "text/plain": [
       "<IPython.core.display.Markdown object>"
      ]
     },
     "metadata": {},
     "output_type": "display_data"
    },
    {
     "data": {
      "text/markdown": [
       "$\\overrightarrow{u}=(1, 2) \\, \\ \\overrightarrow{v}=(3, 4)$"
      ],
      "text/plain": [
       "<IPython.core.display.Markdown object>"
      ]
     },
     "metadata": {},
     "output_type": "display_data"
    },
    {
     "data": {
      "text/markdown": [
       "$\\left [ 11, \\quad \\left [ \\sqrt{5}, \\quad 5\\right ], \\quad 10.304846468766\\right ]$"
      ],
      "text/plain": [
       "<IPython.core.display.Markdown object>"
      ]
     },
     "metadata": {},
     "output_type": "display_data"
    },
    {
     "data": {
      "text/markdown": [
       "$\\overrightarrow{u}=(1, 1) \\, \\ \\overrightarrow{v}=(-2, -3)$"
      ],
      "text/plain": [
       "<IPython.core.display.Markdown object>"
      ]
     },
     "metadata": {},
     "output_type": "display_data"
    },
    {
     "data": {
      "text/markdown": [
       "$\\left [ -5, \\quad \\left [ \\sqrt{2}, \\quad \\sqrt{13}\\right ], \\quad 168.69006752598\\right ]$"
      ],
      "text/plain": [
       "<IPython.core.display.Markdown object>"
      ]
     },
     "metadata": {},
     "output_type": "display_data"
    }
   ],
   "source": [
    "# Página 36 ejercicio 9\n",
    "\n",
    "texto_ejercicio = r\"\"\"Respecto de una base ortonormal tenemos dos vectores $\\overrightarrow{u}$ y $\\overrightarrow{v}$.\n",
    "Calcular $\\overrightarrow{u}\\cdot\\overrightarrow{v}$, $|\\overrightarrow{u}| \\ y \\ |\\overrightarrow{v}|$ \n",
    "y $\\angle(\\overrightarrow{u},\\overrightarrow{v})$ siendo:\"\"\"\n",
    "\n",
    "\n",
    "n_ejercicio = 'p036e09'\n",
    "\n",
    "display(md(\"**\"+texto_ejercicio+\"**\"))\n",
    "\n",
    "N = CoordSys3D('N') #instanciamos un sistema de coordenadas en R3\n",
    "\n",
    "i, j, k = N.base_vectors()\n",
    "\n",
    "pre_enunciado_latex = [[(2,-3),(5,4)],\n",
    "                       [(1,2),(3,4)],\n",
    "                       [(1,1),(-2,-3)]\n",
    "                      ]\n",
    "\n",
    "enunciado_latex, enunciado, solucion = [],[],[]\n",
    "\n",
    "for i, s in enumerate(pre_enunciado_latex) :\n",
    "    enunciado_latex.append(r\"\\overrightarrow{u}=\"+str(s[0])+r\" \\, \\ \\overrightarrow{v}=\"+str(s[1]))\n",
    "    display(md(\"$\"+enunciado_latex[i]+\"$\"))\n",
    "    en=[\"Point\"+str(s[0])+\".dot(Point\"+str(s[1])+\")\"]\n",
    "    en.append([\"Point\"+str(s[0])+\".distance(Point(0,0))\",\"Point\"+str(s[1])+\".distance(Point(0,0))\"])\n",
    "    angulo = float(deg(acos(float(S(str(en[0])+\"/(\"+str(en[1][0])+\"*\"+str(en[1][1])+\")\")))))\n",
    "    #en.append(\"acos(\"+str(en[0])+\"/(\"+str(en[1][0])+\"*\"+str(en[1][1])+\"))\")\n",
    "    en.append(angulo)\n",
    "    enunciado.append(en)\n",
    "    solucion.append(latex(S(en)))\n",
    "    \n",
    "    display(md(\"$\"+solucion[i]+\"$\"))\n",
    "\n",
    "df_ejercicios = df_ejercicios.append(añadir_ejercicios(enunciado_latex, enunciado, solucion, texto_ejercicio, curso, titulo , n_ejercicio, '1', '2', enun_tex=True), ignore_index=True)\n"
   ]
  },
  {
   "cell_type": "code",
   "execution_count": 10,
   "metadata": {},
   "outputs": [
    {
     "data": {
      "text/markdown": [
       "**Calcula x, de modo que el producto escalar\n",
       "de  $\\overrightarrow{u}$ y $\\overrightarrow{v}$ sea igual a 7, siendo: **"
      ],
      "text/plain": [
       "<IPython.core.display.Markdown object>"
      ]
     },
     "metadata": {},
     "output_type": "display_data"
    },
    {
     "data": {
      "text/markdown": [
       "$\\overrightarrow{u}=(3, -5) \\, \\ \\overrightarrow{v}=(x, 2)$"
      ],
      "text/plain": [
       "<IPython.core.display.Markdown object>"
      ]
     },
     "metadata": {},
     "output_type": "display_data"
    },
    {
     "data": {
      "text/markdown": [
       "$\\left [ \\frac{17}{3}\\right ]$"
      ],
      "text/plain": [
       "<IPython.core.display.Markdown object>"
      ]
     },
     "metadata": {},
     "output_type": "display_data"
    },
    {
     "data": {
      "text/markdown": [
       "$\\overrightarrow{u}=(3, 1) \\, \\ \\overrightarrow{v}=(2, x)$"
      ],
      "text/plain": [
       "<IPython.core.display.Markdown object>"
      ]
     },
     "metadata": {},
     "output_type": "display_data"
    },
    {
     "data": {
      "text/markdown": [
       "$\\left [ 1\\right ]$"
      ],
      "text/plain": [
       "<IPython.core.display.Markdown object>"
      ]
     },
     "metadata": {},
     "output_type": "display_data"
    }
   ],
   "source": [
    "# Página 36 ejercicio 12\n",
    "\n",
    "texto_ejercicio = r\"\"\"Calcula x, de modo que el producto escalar\n",
    "de  $\\overrightarrow{u}$ y $\\overrightarrow{v}$ sea igual a 7, siendo: \"\"\"\n",
    "\n",
    "\n",
    "n_ejercicio = 'p036e12'\n",
    "\n",
    "display(md(\"**\"+texto_ejercicio+\"**\"))\n",
    "\n",
    "N = CoordSys3D('N') #instanciamos un sistema de coordenadas en R3\n",
    "\n",
    "i, j, k = N.base_vectors()\n",
    "\n",
    "pre_enunciado_latex = [[(3,-5),(x,2)],\n",
    "                       [(3,1),(2,x)],\n",
    "                    \n",
    "                      ]\n",
    "\n",
    "enunciado_latex, enunciado, solucion = [],[],[]\n",
    "\n",
    "for id, s in enumerate(pre_enunciado_latex) :\n",
    "    enunciado_latex.append(r\"\\overrightarrow{u}=\"+str(s[0])+r\" \\, \\ \\overrightarrow{v}=\"+str(s[1]))\n",
    "    display(md(\"$\"+enunciado_latex[id]+\"$\"))\n",
    "    u = s[0][0]*i+s[0][1]*j\n",
    "    v = s[1][0]*i+s[1][1]*j\n",
    "    enunciado.append(Eq(u.dot(v),7))\n",
    "    solucion.append(latex(solve(u.dot(v)-7)))\n",
    "    \n",
    "    display(md(\"$\"+solucion[id]+\"$\"))\n",
    "\n",
    "df_ejercicios = df_ejercicios.append(añadir_ejercicios(enunciado_latex, enunciado, solucion, texto_ejercicio, curso, titulo , n_ejercicio, '1', '2', enun_tex=True), ignore_index=True)\n"
   ]
  },
  {
   "cell_type": "code",
   "execution_count": 11,
   "metadata": {},
   "outputs": [
    {
     "data": {
      "text/markdown": [
       "**Dado el vector\n",
       "$\\overrightarrow{u}$, calcula x de modo que sea ortogonal a $\\overrightarrow{v}$ siendo: **"
      ],
      "text/plain": [
       "<IPython.core.display.Markdown object>"
      ]
     },
     "metadata": {},
     "output_type": "display_data"
    },
    {
     "data": {
      "text/markdown": [
       "$\\overrightarrow{u}=(-5, x) \\, \\ \\overrightarrow{v}=(4, -2)$"
      ],
      "text/plain": [
       "<IPython.core.display.Markdown object>"
      ]
     },
     "metadata": {},
     "output_type": "display_data"
    },
    {
     "data": {
      "text/markdown": [
       "$\\left [ -10\\right ]$"
      ],
      "text/plain": [
       "<IPython.core.display.Markdown object>"
      ]
     },
     "metadata": {},
     "output_type": "display_data"
    },
    {
     "data": {
      "text/markdown": [
       "$\\overrightarrow{u}=(2, x) \\, \\ \\overrightarrow{v}=(3, 1)$"
      ],
      "text/plain": [
       "<IPython.core.display.Markdown object>"
      ]
     },
     "metadata": {},
     "output_type": "display_data"
    },
    {
     "data": {
      "text/markdown": [
       "$\\left [ -6\\right ]$"
      ],
      "text/plain": [
       "<IPython.core.display.Markdown object>"
      ]
     },
     "metadata": {},
     "output_type": "display_data"
    }
   ],
   "source": [
    "# Página 36 ejercicio 13\n",
    "\n",
    "texto_ejercicio = r\"\"\"Dado el vector\n",
    "$\\overrightarrow{u}$, calcula x de modo que sea ortogonal a $\\overrightarrow{v}$ siendo: \"\"\"\n",
    "\n",
    "\n",
    "n_ejercicio = 'p036e13'\n",
    "\n",
    "display(md(\"**\"+texto_ejercicio+\"**\"))\n",
    "\n",
    "N = CoordSys3D('N') #instanciamos un sistema de coordenadas en R3\n",
    "\n",
    "i, j, k = N.base_vectors()\n",
    "\n",
    "pre_enunciado_latex = [[(-5,x),(4,-2)],\n",
    "                       [(2,x),(3,1)],\n",
    "                    \n",
    "                      ]\n",
    "\n",
    "enunciado_latex, enunciado, solucion = [],[],[]\n",
    "\n",
    "for id, s in enumerate(pre_enunciado_latex) :\n",
    "    enunciado_latex.append(r\"\\overrightarrow{u}=\"+str(s[0])+r\" \\, \\ \\overrightarrow{v}=\"+str(s[1]))\n",
    "    display(md(\"$\"+enunciado_latex[id]+\"$\"))\n",
    "    u = s[0][0]*i+s[0][1]*j\n",
    "    v = s[1][0]*i+s[1][1]*j\n",
    "    enunciado.append(Eq(u.dot(v),0))\n",
    "    solucion.append(latex(solve(u.dot(v))))\n",
    "    \n",
    "    display(md(\"$\"+solucion[id]+\"$\"))\n",
    "\n",
    "df_ejercicios = df_ejercicios.append(añadir_ejercicios(enunciado_latex, enunciado, solucion, texto_ejercicio, curso, titulo , n_ejercicio, '1', '2', enun_tex=True), ignore_index=True)\n"
   ]
  },
  {
   "cell_type": "code",
   "execution_count": 12,
   "metadata": {},
   "outputs": [
    {
     "data": {
      "text/markdown": [
       "**Dado el vector\n",
       "$\\overrightarrow{u}$, calcula x de modo que $|\\overrightarrow{u}|=\\sqrt{34}$ siendo: **"
      ],
      "text/plain": [
       "<IPython.core.display.Markdown object>"
      ]
     },
     "metadata": {},
     "output_type": "display_data"
    },
    {
     "data": {
      "text/markdown": [
       "$\\overrightarrow{u}=(-5, x)$"
      ],
      "text/plain": [
       "<IPython.core.display.Markdown object>"
      ]
     },
     "metadata": {},
     "output_type": "display_data"
    },
    {
     "data": {
      "image/png": "[encoded data removed]",
      "text/latex": [
       "$$\\sqrt{x^{2} + 25}$$"
      ],
      "text/plain": [
       "   _________\n",
       "  ╱  2      \n",
       "╲╱  x  + 25 "
      ]
     },
     "metadata": {},
     "output_type": "display_data"
    },
    {
     "data": {
      "text/markdown": [
       "$\\left [ -3, \\quad 3\\right ]$"
      ],
      "text/plain": [
       "<IPython.core.display.Markdown object>"
      ]
     },
     "metadata": {},
     "output_type": "display_data"
    },
    {
     "data": {
      "text/markdown": [
       "$\\overrightarrow{u}=(2, x)$"
      ],
      "text/plain": [
       "<IPython.core.display.Markdown object>"
      ]
     },
     "metadata": {},
     "output_type": "display_data"
    },
    {
     "data": {
      "image/png": "[encoded data removed]",
      "text/latex": [
       "$$\\sqrt{x^{2} + 4}$$"
      ],
      "text/plain": [
       "   ________\n",
       "  ╱  2     \n",
       "╲╱  x  + 4 "
      ]
     },
     "metadata": {},
     "output_type": "display_data"
    },
    {
     "data": {
      "text/markdown": [
       "$\\left [ - \\sqrt{30}, \\quad \\sqrt{30}\\right ]$"
      ],
      "text/plain": [
       "<IPython.core.display.Markdown object>"
      ]
     },
     "metadata": {},
     "output_type": "display_data"
    }
   ],
   "source": [
    "# Página 36 ejercicio 13b\n",
    "\n",
    "texto_ejercicio = r\"\"\"Dado el vector\n",
    "$\\overrightarrow{u}$, calcula x de modo que $|\\overrightarrow{u}|=\\sqrt{34}$ siendo: \"\"\"\n",
    "\n",
    "\n",
    "n_ejercicio = 'p036e13b'\n",
    "\n",
    "display(md(\"**\"+texto_ejercicio+\"**\"))\n",
    "\n",
    "N = CoordSys3D('N') #instanciamos un sistema de coordenadas en R3\n",
    "\n",
    "i, j, k = N.base_vectors()\n",
    "\n",
    "pre_enunciado_latex = [[(-5,x)],\n",
    "                       [(2,x)],\n",
    "                    \n",
    "                      ]\n",
    "\n",
    "enunciado_latex, enunciado, solucion = [],[],[]\n",
    "\n",
    "for id, s in enumerate(pre_enunciado_latex) :\n",
    "    enunciado_latex.append(r\"\\overrightarrow{u}=\"+str(s[0]))\n",
    "    display(md(\"$\"+enunciado_latex[id]+\"$\"))\n",
    "    u = s[0][0]*i+s[0][1]*j\n",
    "    display(u.magnitude())\n",
    "    enunciado.append(Eq(u.magnitude(),sqrt(34)))\n",
    "    solucion.append(latex(solve(Eq(u.magnitude(),sqrt(34)))))\n",
    "    \n",
    "    display(md(\"$\"+solucion[id]+\"$\"))\n",
    "\n",
    "df_ejercicios = df_ejercicios.append(añadir_ejercicios(enunciado_latex, enunciado, solucion, texto_ejercicio, curso, titulo , n_ejercicio, '1', '2', enun_tex=True), ignore_index=True)\n"
   ]
  },
  {
   "cell_type": "code",
   "execution_count": 13,
   "metadata": {},
   "outputs": [
    {
     "data": {
      "text/markdown": [
       "**Respecto de una base ortonormal tenemos dos vectores $\\overrightarrow{u}$ y $\\overrightarrow{v}$.\n",
       "Calcular $\\overrightarrow{u}\\cdot\\overrightarrow{v}$, $|\\overrightarrow{u}| \\ y \\ |\\overrightarrow{v}|$ \n",
       "y $\\angle(\\overrightarrow{u},\\overrightarrow{v})$ siendo:**"
      ],
      "text/plain": [
       "<IPython.core.display.Markdown object>"
      ]
     },
     "metadata": {},
     "output_type": "display_data"
    },
    {
     "data": {
      "text/markdown": [
       "$\\overrightarrow{u}=\\left ( 3, \\quad 2\\right ) \\, \\ \\overrightarrow{v}=\\left ( 1, \\quad -5\\right )$"
      ],
      "text/plain": [
       "<IPython.core.display.Markdown object>"
      ]
     },
     "metadata": {},
     "output_type": "display_data"
    },
    {
     "data": {
      "text/markdown": [
       "$\\left [ -7, \\quad \\left [ \\sqrt{13}, \\quad \\sqrt{26}\\right ], \\quad 112.38013505196\\right ]$"
      ],
      "text/plain": [
       "<IPython.core.display.Markdown object>"
      ]
     },
     "metadata": {},
     "output_type": "display_data"
    },
    {
     "data": {
      "text/markdown": [
       "$\\overrightarrow{u}=\\left ( 1, \\quad 6\\right ) \\, \\ \\overrightarrow{v}=\\left ( -0.5, \\quad -3\\right )$"
      ],
      "text/plain": [
       "<IPython.core.display.Markdown object>"
      ]
     },
     "metadata": {},
     "output_type": "display_data"
    },
    {
     "data": {
      "text/markdown": [
       "$\\left [ - \\frac{37}{2}, \\quad \\left [ \\sqrt{37}, \\quad \\frac{\\sqrt{37}}{2}\\right ], \\quad 180.0\\right ]$"
      ],
      "text/plain": [
       "<IPython.core.display.Markdown object>"
      ]
     },
     "metadata": {},
     "output_type": "display_data"
    }
   ],
   "source": [
    "# Página 36 ejercicio 14\n",
    "\n",
    "texto_ejercicio = r\"\"\"Respecto de una base ortonormal tenemos dos vectores $\\overrightarrow{u}$ y $\\overrightarrow{v}$.\n",
    "Calcular $\\overrightarrow{u}\\cdot\\overrightarrow{v}$, $|\\overrightarrow{u}| \\ y \\ |\\overrightarrow{v}|$ \n",
    "y $\\angle(\\overrightarrow{u},\\overrightarrow{v})$ siendo:\"\"\"\n",
    "\n",
    "\n",
    "n_ejercicio = 'p036e14'\n",
    "\n",
    "display(md(\"**\"+texto_ejercicio+\"**\"))\n",
    "\n",
    "N = CoordSys3D('N') #instanciamos un sistema de coordenadas en R3\n",
    "\n",
    "i, j, k = N.base_vectors()\n",
    "\n",
    "pre_enunciado_latex = [[(3,2),(1,-5)],\n",
    "                       [(1,6),(-1/2,-3)],\n",
    "                      ]\n",
    "\n",
    "enunciado_latex, enunciado, solucion = [],[],[]\n",
    "\n",
    "for i, s in enumerate(pre_enunciado_latex) :\n",
    "    enunciado_latex.append(r\"\\overrightarrow{u}=\"+latex(S(s[0]))+r\" \\, \\ \\overrightarrow{v}=\"+latex(S(s[1])))\n",
    "    display(md(\"$\"+enunciado_latex[i]+\"$\"))\n",
    "    en=[\"Point\"+str(s[0])+\".dot(Point\"+str(s[1])+\")\"]\n",
    "    en.append([\"Point\"+str(s[0])+\".distance(Point(0,0))\",\"Point\"+str(s[1])+\".distance(Point(0,0))\"])\n",
    "    angulo = float(deg(acos(float(S(str(en[0])+\"/(\"+str(en[1][0])+\"*\"+str(en[1][1])+\")\")))))\n",
    "    #en.append(\"acos(\"+str(en[0])+\"/(\"+str(en[1][0])+\"*\"+str(en[1][1])+\"))\")\n",
    "    en.append(angulo)\n",
    "    enunciado.append(en)\n",
    "    solucion.append(latex(S(en)))\n",
    "    \n",
    "    display(md(\"$\"+solucion[i]+\"$\"))\n",
    "\n",
    "df_ejercicios = df_ejercicios.append(añadir_ejercicios(enunciado_latex, enunciado, solucion, texto_ejercicio, curso, titulo , n_ejercicio, '1', '2', enun_tex=True), ignore_index=True)\n"
   ]
  },
  {
   "cell_type": "code",
   "execution_count": 14,
   "metadata": {},
   "outputs": [
    {
     "data": {
      "text/markdown": [
       "**Calcula x para que los vectores\n",
       "$\\overrightarrow{u}$ y $\\overrightarrow{v}$ formen 60º siendo: **"
      ],
      "text/plain": [
       "<IPython.core.display.Markdown object>"
      ]
     },
     "metadata": {},
     "output_type": "display_data"
    },
    {
     "data": {
      "text/markdown": [
       "$\\overrightarrow{u}=(3, x) \\, \\ \\overrightarrow{v}=(5, 2)$"
      ],
      "text/plain": [
       "<IPython.core.display.Markdown object>"
      ]
     },
     "metadata": {},
     "output_type": "display_data"
    },
    {
     "data": {
      "image/png": "[encoded data removed]",
      "text/latex": [
       "$$\\frac{\\sqrt{29} \\left(2 x + 15\\right)}{29 \\sqrt{x^{2} + 9}} = \\frac{1}{2}$$"
      ],
      "text/plain": [
       "√29⋅(2⋅x + 15)      \n",
       "────────────── = 1/2\n",
       "      ________      \n",
       "     ╱  2           \n",
       "29⋅╲╱  x  + 9       "
      ]
     },
     "metadata": {},
     "output_type": "display_data"
    },
    {
     "data": {
      "text/markdown": [
       "$\\left [ \\frac{120}{13} + \\frac{87 \\sqrt{3}}{13}, \\quad - \\frac{87 \\sqrt{3}}{13} + \\frac{120}{13}\\right ]$"
      ],
      "text/plain": [
       "<IPython.core.display.Markdown object>"
      ]
     },
     "metadata": {},
     "output_type": "display_data"
    },
    {
     "data": {
      "text/markdown": [
       "$\\overrightarrow{u}=(2, x) \\, \\ \\overrightarrow{v}=(3, 1)$"
      ],
      "text/plain": [
       "<IPython.core.display.Markdown object>"
      ]
     },
     "metadata": {},
     "output_type": "display_data"
    },
    {
     "data": {
      "image/png": "[encoded data removed]",
      "text/latex": [
       "$$\\frac{\\sqrt{10} \\left(x + 6\\right)}{10 \\sqrt{x^{2} + 4}} = \\frac{1}{2}$$"
      ],
      "text/plain": [
       " √10⋅(x + 6)        \n",
       "────────────── = 1/2\n",
       "      ________      \n",
       "     ╱  2           \n",
       "10⋅╲╱  x  + 4       "
      ]
     },
     "metadata": {},
     "output_type": "display_data"
    },
    {
     "data": {
      "text/markdown": [
       "$\\left [ 4 + \\frac{10 \\sqrt{3}}{3}, \\quad - \\frac{10 \\sqrt{3}}{3} + 4\\right ]$"
      ],
      "text/plain": [
       "<IPython.core.display.Markdown object>"
      ]
     },
     "metadata": {},
     "output_type": "display_data"
    },
    {
     "data": {
      "text/markdown": [
       "$\\overrightarrow{u}=(1, 0) \\, \\ \\overrightarrow{v}=(1, x)$"
      ],
      "text/plain": [
       "<IPython.core.display.Markdown object>"
      ]
     },
     "metadata": {},
     "output_type": "display_data"
    },
    {
     "data": {
      "image/png": "[encoded data removed]",
      "text/latex": [
       "$$\\frac{1}{\\sqrt{x^{2} + 1}} = \\frac{1}{2}$$"
      ],
      "text/plain": [
       "     1           \n",
       "─────────── = 1/2\n",
       "   ________      \n",
       "  ╱  2           \n",
       "╲╱  x  + 1       "
      ]
     },
     "metadata": {},
     "output_type": "display_data"
    },
    {
     "data": {
      "text/markdown": [
       "$\\left [ - \\sqrt{3}, \\quad \\sqrt{3}\\right ]$"
      ],
      "text/plain": [
       "<IPython.core.display.Markdown object>"
      ]
     },
     "metadata": {},
     "output_type": "display_data"
    }
   ],
   "source": [
    "# Página 36 ejercicio 15\n",
    "\n",
    "texto_ejercicio = r\"\"\"Calcula x para que los vectores\n",
    "$\\overrightarrow{u}$ y $\\overrightarrow{v}$ formen 60º siendo: \"\"\"\n",
    "\n",
    "\n",
    "n_ejercicio = 'p036e15'\n",
    "\n",
    "display(md(\"**\"+texto_ejercicio+\"**\"))\n",
    "\n",
    "N = CoordSys3D('N') #instanciamos un sistema de coordenadas en R3\n",
    "\n",
    "i, j, k = N.base_vectors()\n",
    "\n",
    "pre_enunciado_latex = [[(3,x),(5,2)],\n",
    "                       [(2,x),(3,1)],\n",
    "                       [(1,0),(1,x)]\n",
    "                    \n",
    "                      ]\n",
    "\n",
    "enunciado_latex, enunciado, solucion = [],[],[]\n",
    "\n",
    "for id, s in enumerate(pre_enunciado_latex) :\n",
    "    enunciado_latex.append(r\"\\overrightarrow{u}=\"+str(s[0])+r\" \\, \\ \\overrightarrow{v}=\"+str(s[1]))\n",
    "    display(md(\"$\"+enunciado_latex[id]+\"$\"))\n",
    "    u = s[0][0]*i+s[0][1]*j\n",
    "    v = s[1][0]*i+s[1][1]*j\n",
    "    en=Eq(u.dot(v)/(u.magnitude()*v.magnitude()),cos(rad(60)))\n",
    "    display(en)\n",
    "    enunciado.append(en)\n",
    "    solucion.append(latex(solve(en)))\n",
    "    \n",
    "    display(md(\"$\"+solucion[id]+\"$\"))\n",
    "\n",
    "df_ejercicios = df_ejercicios.append(añadir_ejercicios(enunciado_latex, enunciado, solucion, texto_ejercicio, curso, titulo , n_ejercicio, '1', '2', enun_tex=True), ignore_index=True)\n"
   ]
  },
  {
   "cell_type": "code",
   "execution_count": 15,
   "metadata": {},
   "outputs": [
    {
     "data": {
      "text/markdown": [
       "**Halla las coordenadas de un cierto vector\n",
       "$\\overrightarrow{u}$, sabiendo que forma un ángulo de 60º con y $\\overrightarrow{v}$ y que los \n",
       "módulos de ambos vectores son iguales, siendo: **"
      ],
      "text/plain": [
       "<IPython.core.display.Markdown object>"
      ]
     },
     "metadata": {},
     "output_type": "display_data"
    },
    {
     "data": {
      "text/markdown": [
       "$\\overrightarrow{v}=(2, 4)$"
      ],
      "text/plain": [
       "<IPython.core.display.Markdown object>"
      ]
     },
     "metadata": {},
     "output_type": "display_data"
    },
    {
     "data": {
      "image/png": "[encoded data removed]",
      "text/latex": [
       "$$\\left [ \\frac{\\sqrt{5} \\left(2 x + 4 y\\right)}{10 \\sqrt{x^{2} + y^{2}}} = \\frac{1}{2}, \\quad \\sqrt{x^{2} + y^{2}} = 2 \\sqrt{5}\\right ]$$"
      ],
      "text/plain": [
       "⎡                          _________       ⎤\n",
       "⎢ √5⋅(2⋅x + 4⋅y)          ╱  2    2        ⎥\n",
       "⎢─────────────── = 1/2, ╲╱  x  + y   = 2⋅√5⎥\n",
       "⎢      _________                           ⎥\n",
       "⎢     ╱  2    2                            ⎥\n",
       "⎣10⋅╲╱  x  + y                             ⎦"
      ]
     },
     "metadata": {},
     "output_type": "display_data"
    },
    {
     "data": {
      "text/markdown": [
       "$\\left [ \\left \\{ x : - \\sqrt{- 4 \\sqrt{3} + 13}, \\quad y : \\sqrt{3} + 2\\right \\}, \\quad \\left \\{ x : \\sqrt{4 \\sqrt{3} + 13}, \\quad y : - \\sqrt{3} + 2\\right \\}\\right ]$"
      ],
      "text/plain": [
       "<IPython.core.display.Markdown object>"
      ]
     },
     "metadata": {},
     "output_type": "display_data"
    },
    {
     "data": {
      "text/markdown": [
       "$\\overrightarrow{v}=(2, 3)$"
      ],
      "text/plain": [
       "<IPython.core.display.Markdown object>"
      ]
     },
     "metadata": {},
     "output_type": "display_data"
    },
    {
     "data": {
      "image/png": "[encoded data removed]",
      "text/latex": [
       "$$\\left [ \\frac{\\sqrt{13} \\left(2 x + 3 y\\right)}{13 \\sqrt{x^{2} + y^{2}}} = \\frac{1}{2}, \\quad \\sqrt{x^{2} + y^{2}} = \\sqrt{13}\\right ]$$"
      ],
      "text/plain": [
       "⎡                          _________      ⎤\n",
       "⎢√13⋅(2⋅x + 3⋅y)          ╱  2    2       ⎥\n",
       "⎢─────────────── = 1/2, ╲╱  x  + y   = √13⎥\n",
       "⎢      _________                          ⎥\n",
       "⎢     ╱  2    2                           ⎥\n",
       "⎣13⋅╲╱  x  + y                            ⎦"
      ]
     },
     "metadata": {},
     "output_type": "display_data"
    },
    {
     "data": {
      "text/markdown": [
       "$\\left [ \\left \\{ x : - \\frac{\\sqrt{- 12 \\sqrt{3} + 31}}{2}, \\quad y : \\frac{3}{2} + \\sqrt{3}\\right \\}, \\quad \\left \\{ x : \\frac{\\sqrt{12 \\sqrt{3} + 31}}{2}, \\quad y : - \\sqrt{3} + \\frac{3}{2}\\right \\}\\right ]$"
      ],
      "text/plain": [
       "<IPython.core.display.Markdown object>"
      ]
     },
     "metadata": {},
     "output_type": "display_data"
    },
    {
     "data": {
      "text/markdown": [
       "$\\overrightarrow{v}=(1, 0)$"
      ],
      "text/plain": [
       "<IPython.core.display.Markdown object>"
      ]
     },
     "metadata": {},
     "output_type": "display_data"
    },
    {
     "data": {
      "image/png": "[encoded data removed]",
      "text/latex": [
       "$$\\left [ \\frac{x}{\\sqrt{x^{2} + y^{2}}} = \\frac{1}{2}, \\quad \\sqrt{x^{2} + y^{2}} = 1\\right ]$$"
      ],
      "text/plain": [
       "⎡                       _________    ⎤\n",
       "⎢     x                ╱  2    2     ⎥\n",
       "⎢──────────── = 1/2, ╲╱  x  + y   = 1⎥\n",
       "⎢   _________                        ⎥\n",
       "⎢  ╱  2    2                         ⎥\n",
       "⎣╲╱  x  + y                          ⎦"
      ]
     },
     "metadata": {},
     "output_type": "display_data"
    },
    {
     "data": {
      "text/markdown": [
       "$\\left [ \\left \\{ x : \\frac{1}{2}, \\quad y : - \\frac{\\sqrt{3}}{2}\\right \\}, \\quad \\left \\{ x : \\frac{1}{2}, \\quad y : \\frac{\\sqrt{3}}{2}\\right \\}\\right ]$"
      ],
      "text/plain": [
       "<IPython.core.display.Markdown object>"
      ]
     },
     "metadata": {},
     "output_type": "display_data"
    }
   ],
   "source": [
    "# Página 36 ejercicio 16\n",
    "\n",
    "texto_ejercicio = r\"\"\"Halla las coordenadas de un cierto vector\n",
    "$\\overrightarrow{u}$, sabiendo que forma un ángulo de 60º con y $\\overrightarrow{v}$ y que los \n",
    "módulos de ambos vectores son iguales, siendo: \"\"\"\n",
    "\n",
    "\n",
    "n_ejercicio = 'p036e16'\n",
    "\n",
    "display(md(\"**\"+texto_ejercicio+\"**\"))\n",
    "\n",
    "N = CoordSys3D('N') #instanciamos un sistema de coordenadas en R3\n",
    "\n",
    "i, j, k = N.base_vectors()\n",
    "\n",
    "pre_enunciado_latex = [[(2,4)],\n",
    "                       [(2,3)],\n",
    "                       [(1,0)]\n",
    "                    \n",
    "                      ]\n",
    "\n",
    "enunciado_latex, enunciado, solucion = [],[],[]\n",
    "\n",
    "for id, s in enumerate(pre_enunciado_latex) :\n",
    "    enunciado_latex.append(r\"\\overrightarrow{v}=\"+str(s[0]))\n",
    "    display(md(\"$\"+enunciado_latex[id]+\"$\"))\n",
    "    u = x*i+y*j\n",
    "    v = s[0][0]*i+s[0][1]*j\n",
    "    en=[Eq(u.dot(v)/(u.magnitude()*v.magnitude()),cos(rad(60))),Eq(u.magnitude(),v.magnitude())]\n",
    "    display(en)\n",
    "    enunciado.append(en)\n",
    "    solucion.append(latex(solve(en)))\n",
    "    \n",
    "    display(md(\"$\"+solucion[id]+\"$\"))\n",
    "\n",
    "df_ejercicios = df_ejercicios.append(añadir_ejercicios(enunciado_latex, enunciado, solucion, texto_ejercicio, curso, titulo , n_ejercicio, '1', '1', enun_tex=True), ignore_index=True)\n"
   ]
  },
  {
   "cell_type": "code",
   "execution_count": 16,
   "metadata": {},
   "outputs": [
    {
     "data": {
      "image/png": "[encoded data removed]",
      "text/latex": [
       "$$\\left [ \\left \\{ x : -2.46410161513775, \\quad y : 3.73205080756888\\right \\}, \\quad \\left \\{ x : 4.46410161513775, \\quad y : 0.267949192431123\\right \\}\\right ]$$"
      ],
      "text/plain": [
       "[{x: -2.46410161513775, y: 3.73205080756888}, {x: 4.46410161513775, y: 0.26794\n",
       "9192431123}]"
      ]
     },
     "execution_count": 16,
     "metadata": {},
     "output_type": "execute_result"
    }
   ],
   "source": [
    "en = [Eq(sqrt(5)*(2*x + 4*y)/(10*sqrt(x**2 + y**2)), 1/2), Eq(sqrt(x**2 + y**2), 2*sqrt(5))]\n",
    "solve(en)\n"
   ]
  },
  {
   "cell_type": "code",
   "execution_count": 17,
   "metadata": {},
   "outputs": [],
   "source": [
    "df_ejercicios.to_csv('ejercicios22.csv', index = False)"
   ]
  },
  {
   "cell_type": "code",
   "execution_count": 18,
   "metadata": {},
   "outputs": [],
   "source": [
    "df_ejercicios = pd.read_csv('ejercicios22.csv', index_col= None)"
   ]
  },
  {
   "cell_type": "code",
   "execution_count": 19,
   "metadata": {},
   "outputs": [
    {
     "data": {
      "text/html": [
       "<div>\n",
       "<style scoped>\n",
       "    .dataframe tbody tr th:only-of-type {\n",
       "        vertical-align: middle;\n",
       "    }\n",
       "\n",
       "    .dataframe tbody tr th {\n",
       "        vertical-align: top;\n",
       "    }\n",
       "\n",
       "    .dataframe thead th {\n",
       "        text-align: right;\n",
       "    }\n",
       "</style>\n",
       "<table border=\"1\" class=\"dataframe\">\n",
       "  <thead>\n",
       "    <tr style=\"text-align: right;\">\n",
       "      <th></th>\n",
       "      <th>enunciado_latex</th>\n",
       "      <th>enunciado</th>\n",
       "      <th>solucion</th>\n",
       "      <th>texto</th>\n",
       "      <th>curso</th>\n",
       "      <th>titulo</th>\n",
       "      <th>n_ejercicio</th>\n",
       "      <th>dificultad</th>\n",
       "      <th>n_columnas</th>\n",
       "      <th>puntos</th>\n",
       "      <th>enun_tex</th>\n",
       "      <th>sol_tex</th>\n",
       "    </tr>\n",
       "  </thead>\n",
       "  <tbody>\n",
       "    <tr>\n",
       "      <th>0</th>\n",
       "      <td>Las coordenadas de cada uno de ellos respecto ...</td>\n",
       "      <td>[2*N.i + (-5)*N.j, (-11)*N.i + 4*N.j, (-2)*N.i...</td>\n",
       "      <td>[[(-2, 1), (2, -3), (1, 1), (-1, -3)], [(2, -5...</td>\n",
       "      <td>Sea \\n$\\left\\lbrace\\overrightarrow{ i},\\overri...</td>\n",
       "      <td>1BC</td>\n",
       "      <td>22 - Producto Escalar</td>\n",
       "      <td>p035e01</td>\n",
       "      <td>1</td>\n",
       "      <td>1</td>\n",
       "      <td>1</td>\n",
       "      <td>False</td>\n",
       "      <td>True</td>\n",
       "    </tr>\n",
       "    <tr>\n",
       "      <th>1</th>\n",
       "      <td>\\overrightarrow{u}=(4, 12) \\, \\ \\overrightarro...</td>\n",
       "      <td>Point(4, 12).is_collinear(Point(2, 6), Point(0...</td>\n",
       "      <td>True</td>\n",
       "      <td>Estudia la dependencia lineal de los siguiente...</td>\n",
       "      <td>1BC</td>\n",
       "      <td>22 - Producto Escalar</td>\n",
       "      <td>p035e02</td>\n",
       "      <td>1</td>\n",
       "      <td>2</td>\n",
       "      <td>1</td>\n",
       "      <td>True</td>\n",
       "      <td>True</td>\n",
       "    </tr>\n",
       "    <tr>\n",
       "      <th>2</th>\n",
       "      <td>\\overrightarrow{u}=(1, 2) \\, \\ \\overrightarrow...</td>\n",
       "      <td>Point(1, 2).is_collinear(Point(3, 4), Point(0,0))</td>\n",
       "      <td>False</td>\n",
       "      <td>Estudia la dependencia lineal de los siguiente...</td>\n",
       "      <td>1BC</td>\n",
       "      <td>22 - Producto Escalar</td>\n",
       "      <td>p035e02</td>\n",
       "      <td>1</td>\n",
       "      <td>2</td>\n",
       "      <td>1</td>\n",
       "      <td>True</td>\n",
       "      <td>True</td>\n",
       "    </tr>\n",
       "    <tr>\n",
       "      <th>3</th>\n",
       "      <td>\\overrightarrow{u}=(1, 1) \\, \\ \\overrightarrow...</td>\n",
       "      <td>Point(1, 1).is_collinear(Point(-2, -3), Point(...</td>\n",
       "      <td>False</td>\n",
       "      <td>Estudia la dependencia lineal de los siguiente...</td>\n",
       "      <td>1BC</td>\n",
       "      <td>22 - Producto Escalar</td>\n",
       "      <td>p035e02</td>\n",
       "      <td>1</td>\n",
       "      <td>2</td>\n",
       "      <td>1</td>\n",
       "      <td>True</td>\n",
       "      <td>True</td>\n",
       "    </tr>\n",
       "    <tr>\n",
       "      <th>4</th>\n",
       "      <td>\\overrightarrow{u}=(2, -3) \\, \\ \\overrightarro...</td>\n",
       "      <td>['Point(2, -3).dot(Point(5, 4))', ['Point(2, -...</td>\n",
       "      <td>\\left [ -2, \\quad \\left [ \\sqrt{13}, \\quad \\sq...</td>\n",
       "      <td>Respecto de una base ortonormal tenemos dos ve...</td>\n",
       "      <td>1BC</td>\n",
       "      <td>22 - Producto Escalar</td>\n",
       "      <td>p036e09</td>\n",
       "      <td>1</td>\n",
       "      <td>2</td>\n",
       "      <td>1</td>\n",
       "      <td>True</td>\n",
       "      <td>True</td>\n",
       "    </tr>\n",
       "    <tr>\n",
       "      <th>5</th>\n",
       "      <td>\\overrightarrow{u}=(1, 2) \\, \\ \\overrightarrow...</td>\n",
       "      <td>['Point(1, 2).dot(Point(3, 4))', ['Point(1, 2)...</td>\n",
       "      <td>\\left [ 11, \\quad \\left [ \\sqrt{5}, \\quad 5\\ri...</td>\n",
       "      <td>Respecto de una base ortonormal tenemos dos ve...</td>\n",
       "      <td>1BC</td>\n",
       "      <td>22 - Producto Escalar</td>\n",
       "      <td>p036e09</td>\n",
       "      <td>1</td>\n",
       "      <td>2</td>\n",
       "      <td>1</td>\n",
       "      <td>True</td>\n",
       "      <td>True</td>\n",
       "    </tr>\n",
       "    <tr>\n",
       "      <th>6</th>\n",
       "      <td>\\overrightarrow{u}=(1, 1) \\, \\ \\overrightarrow...</td>\n",
       "      <td>['Point(1, 1).dot(Point(-2, -3))', ['Point(1, ...</td>\n",
       "      <td>\\left [ -5, \\quad \\left [ \\sqrt{2}, \\quad \\sqr...</td>\n",
       "      <td>Respecto de una base ortonormal tenemos dos ve...</td>\n",
       "      <td>1BC</td>\n",
       "      <td>22 - Producto Escalar</td>\n",
       "      <td>p036e09</td>\n",
       "      <td>1</td>\n",
       "      <td>2</td>\n",
       "      <td>1</td>\n",
       "      <td>True</td>\n",
       "      <td>True</td>\n",
       "    </tr>\n",
       "    <tr>\n",
       "      <th>7</th>\n",
       "      <td>\\overrightarrow{u}=(2, -3) \\, \\ \\overrightarro...</td>\n",
       "      <td>['Point(2, -3).dot(Point(5, 4))', ['Point(2, -...</td>\n",
       "      <td>\\left [ -2, \\quad \\left [ \\sqrt{13}, \\quad \\sq...</td>\n",
       "      <td>Respecto de una base ortonormal tenemos dos ve...</td>\n",
       "      <td>1BC</td>\n",
       "      <td>22 - Producto Escalar</td>\n",
       "      <td>p036e09</td>\n",
       "      <td>1</td>\n",
       "      <td>2</td>\n",
       "      <td>1</td>\n",
       "      <td>True</td>\n",
       "      <td>True</td>\n",
       "    </tr>\n",
       "    <tr>\n",
       "      <th>8</th>\n",
       "      <td>\\overrightarrow{u}=(1, 2) \\, \\ \\overrightarrow...</td>\n",
       "      <td>['Point(1, 2).dot(Point(3, 4))', ['Point(1, 2)...</td>\n",
       "      <td>\\left [ 11, \\quad \\left [ \\sqrt{5}, \\quad 5\\ri...</td>\n",
       "      <td>Respecto de una base ortonormal tenemos dos ve...</td>\n",
       "      <td>1BC</td>\n",
       "      <td>22 - Producto Escalar</td>\n",
       "      <td>p036e09</td>\n",
       "      <td>1</td>\n",
       "      <td>2</td>\n",
       "      <td>1</td>\n",
       "      <td>True</td>\n",
       "      <td>True</td>\n",
       "    </tr>\n",
       "    <tr>\n",
       "      <th>9</th>\n",
       "      <td>\\overrightarrow{u}=(1, 1) \\, \\ \\overrightarrow...</td>\n",
       "      <td>['Point(1, 1).dot(Point(-2, -3))', ['Point(1, ...</td>\n",
       "      <td>\\left [ -5, \\quad \\left [ \\sqrt{2}, \\quad \\sqr...</td>\n",
       "      <td>Respecto de una base ortonormal tenemos dos ve...</td>\n",
       "      <td>1BC</td>\n",
       "      <td>22 - Producto Escalar</td>\n",
       "      <td>p036e09</td>\n",
       "      <td>1</td>\n",
       "      <td>2</td>\n",
       "      <td>1</td>\n",
       "      <td>True</td>\n",
       "      <td>True</td>\n",
       "    </tr>\n",
       "    <tr>\n",
       "      <th>10</th>\n",
       "      <td>\\overrightarrow{u}=(3, -5) \\, \\ \\overrightarro...</td>\n",
       "      <td>Eq(3*x - 10, 7)</td>\n",
       "      <td>\\left [ \\frac{17}{3}\\right ]</td>\n",
       "      <td>Calcula x, de modo que el producto escalar\\nde...</td>\n",
       "      <td>1BC</td>\n",
       "      <td>22 - Producto Escalar</td>\n",
       "      <td>p036e12</td>\n",
       "      <td>1</td>\n",
       "      <td>2</td>\n",
       "      <td>1</td>\n",
       "      <td>True</td>\n",
       "      <td>True</td>\n",
       "    </tr>\n",
       "    <tr>\n",
       "      <th>11</th>\n",
       "      <td>\\overrightarrow{u}=(3, 1) \\, \\ \\overrightarrow...</td>\n",
       "      <td>Eq(x + 6, 7)</td>\n",
       "      <td>\\left [ 1\\right ]</td>\n",
       "      <td>Calcula x, de modo que el producto escalar\\nde...</td>\n",
       "      <td>1BC</td>\n",
       "      <td>22 - Producto Escalar</td>\n",
       "      <td>p036e12</td>\n",
       "      <td>1</td>\n",
       "      <td>2</td>\n",
       "      <td>1</td>\n",
       "      <td>True</td>\n",
       "      <td>True</td>\n",
       "    </tr>\n",
       "    <tr>\n",
       "      <th>12</th>\n",
       "      <td>\\overrightarrow{u}=(-5, x) \\, \\ \\overrightarro...</td>\n",
       "      <td>Eq(-2*x - 20, 0)</td>\n",
       "      <td>\\left [ -10\\right ]</td>\n",
       "      <td>Dado el vector\\n$\\overrightarrow{u}$, calcula ...</td>\n",
       "      <td>1BC</td>\n",
       "      <td>22 - Producto Escalar</td>\n",
       "      <td>p036e13</td>\n",
       "      <td>1</td>\n",
       "      <td>2</td>\n",
       "      <td>1</td>\n",
       "      <td>True</td>\n",
       "      <td>True</td>\n",
       "    </tr>\n",
       "    <tr>\n",
       "      <th>13</th>\n",
       "      <td>\\overrightarrow{u}=(2, x) \\, \\ \\overrightarrow...</td>\n",
       "      <td>Eq(x + 6, 0)</td>\n",
       "      <td>\\left [ -6\\right ]</td>\n",
       "      <td>Dado el vector\\n$\\overrightarrow{u}$, calcula ...</td>\n",
       "      <td>1BC</td>\n",
       "      <td>22 - Producto Escalar</td>\n",
       "      <td>p036e13</td>\n",
       "      <td>1</td>\n",
       "      <td>2</td>\n",
       "      <td>1</td>\n",
       "      <td>True</td>\n",
       "      <td>True</td>\n",
       "    </tr>\n",
       "    <tr>\n",
       "      <th>14</th>\n",
       "      <td>\\overrightarrow{u}=(-5, x)</td>\n",
       "      <td>Eq(sqrt(x**2 + 25), sqrt(34))</td>\n",
       "      <td>\\left [ -3, \\quad 3\\right ]</td>\n",
       "      <td>Dado el vector\\n$\\overrightarrow{u}$, calcula ...</td>\n",
       "      <td>1BC</td>\n",
       "      <td>22 - Producto Escalar</td>\n",
       "      <td>p036e13b</td>\n",
       "      <td>1</td>\n",
       "      <td>2</td>\n",
       "      <td>1</td>\n",
       "      <td>True</td>\n",
       "      <td>True</td>\n",
       "    </tr>\n",
       "    <tr>\n",
       "      <th>15</th>\n",
       "      <td>\\overrightarrow{u}=(2, x)</td>\n",
       "      <td>Eq(sqrt(x**2 + 4), sqrt(34))</td>\n",
       "      <td>\\left [ - \\sqrt{30}, \\quad \\sqrt{30}\\right ]</td>\n",
       "      <td>Dado el vector\\n$\\overrightarrow{u}$, calcula ...</td>\n",
       "      <td>1BC</td>\n",
       "      <td>22 - Producto Escalar</td>\n",
       "      <td>p036e13b</td>\n",
       "      <td>1</td>\n",
       "      <td>2</td>\n",
       "      <td>1</td>\n",
       "      <td>True</td>\n",
       "      <td>True</td>\n",
       "    </tr>\n",
       "    <tr>\n",
       "      <th>16</th>\n",
       "      <td>\\overrightarrow{u}=\\left ( 3, \\quad 2\\right ) ...</td>\n",
       "      <td>['Point(3, 2).dot(Point(1, -5))', ['Point(3, 2...</td>\n",
       "      <td>\\left [ -7, \\quad \\left [ \\sqrt{13}, \\quad \\sq...</td>\n",
       "      <td>Respecto de una base ortonormal tenemos dos ve...</td>\n",
       "      <td>1BC</td>\n",
       "      <td>22 - Producto Escalar</td>\n",
       "      <td>p036e14</td>\n",
       "      <td>1</td>\n",
       "      <td>2</td>\n",
       "      <td>1</td>\n",
       "      <td>True</td>\n",
       "      <td>True</td>\n",
       "    </tr>\n",
       "    <tr>\n",
       "      <th>17</th>\n",
       "      <td>\\overrightarrow{u}=\\left ( 1, \\quad 6\\right ) ...</td>\n",
       "      <td>['Point(1, 6).dot(Point(-0.5, -3))', ['Point(1...</td>\n",
       "      <td>\\left [ - \\frac{37}{2}, \\quad \\left [ \\sqrt{37...</td>\n",
       "      <td>Respecto de una base ortonormal tenemos dos ve...</td>\n",
       "      <td>1BC</td>\n",
       "      <td>22 - Producto Escalar</td>\n",
       "      <td>p036e14</td>\n",
       "      <td>1</td>\n",
       "      <td>2</td>\n",
       "      <td>1</td>\n",
       "      <td>True</td>\n",
       "      <td>True</td>\n",
       "    </tr>\n",
       "    <tr>\n",
       "      <th>18</th>\n",
       "      <td>\\overrightarrow{u}=(3, x) \\, \\ \\overrightarrow...</td>\n",
       "      <td>Eq(sqrt(29)*(2*x + 15)/(29*sqrt(x**2 + 9)), 1/2)</td>\n",
       "      <td>\\left [ \\frac{120}{13} + \\frac{87 \\sqrt{3}}{13...</td>\n",
       "      <td>Calcula x para que los vectores\\n$\\overrightar...</td>\n",
       "      <td>1BC</td>\n",
       "      <td>22 - Producto Escalar</td>\n",
       "      <td>p036e15</td>\n",
       "      <td>1</td>\n",
       "      <td>2</td>\n",
       "      <td>1</td>\n",
       "      <td>True</td>\n",
       "      <td>True</td>\n",
       "    </tr>\n",
       "    <tr>\n",
       "      <th>19</th>\n",
       "      <td>\\overrightarrow{u}=(2, x) \\, \\ \\overrightarrow...</td>\n",
       "      <td>Eq(sqrt(10)*(x + 6)/(10*sqrt(x**2 + 4)), 1/2)</td>\n",
       "      <td>\\left [ 4 + \\frac{10 \\sqrt{3}}{3}, \\quad - \\fr...</td>\n",
       "      <td>Calcula x para que los vectores\\n$\\overrightar...</td>\n",
       "      <td>1BC</td>\n",
       "      <td>22 - Producto Escalar</td>\n",
       "      <td>p036e15</td>\n",
       "      <td>1</td>\n",
       "      <td>2</td>\n",
       "      <td>1</td>\n",
       "      <td>True</td>\n",
       "      <td>True</td>\n",
       "    </tr>\n",
       "    <tr>\n",
       "      <th>20</th>\n",
       "      <td>\\overrightarrow{u}=(1, 0) \\, \\ \\overrightarrow...</td>\n",
       "      <td>Eq(1/sqrt(x**2 + 1), 1/2)</td>\n",
       "      <td>\\left [ - \\sqrt{3}, \\quad \\sqrt{3}\\right ]</td>\n",
       "      <td>Calcula x para que los vectores\\n$\\overrightar...</td>\n",
       "      <td>1BC</td>\n",
       "      <td>22 - Producto Escalar</td>\n",
       "      <td>p036e15</td>\n",
       "      <td>1</td>\n",
       "      <td>2</td>\n",
       "      <td>1</td>\n",
       "      <td>True</td>\n",
       "      <td>True</td>\n",
       "    </tr>\n",
       "    <tr>\n",
       "      <th>21</th>\n",
       "      <td>\\overrightarrow{v}=(2, 4)</td>\n",
       "      <td>[Eq(sqrt(5)*(2*x + 4*y)/(10*sqrt(x**2 + y**2))...</td>\n",
       "      <td>\\left [ \\left \\{ x : - \\sqrt{- 4 \\sqrt{3} + 13...</td>\n",
       "      <td>Halla las coordenadas de un cierto vector\\n$\\o...</td>\n",
       "      <td>1BC</td>\n",
       "      <td>22 - Producto Escalar</td>\n",
       "      <td>p036e16</td>\n",
       "      <td>1</td>\n",
       "      <td>1</td>\n",
       "      <td>1</td>\n",
       "      <td>True</td>\n",
       "      <td>True</td>\n",
       "    </tr>\n",
       "    <tr>\n",
       "      <th>22</th>\n",
       "      <td>\\overrightarrow{v}=(2, 3)</td>\n",
       "      <td>[Eq(sqrt(13)*(2*x + 3*y)/(13*sqrt(x**2 + y**2)...</td>\n",
       "      <td>\\left [ \\left \\{ x : - \\frac{\\sqrt{- 12 \\sqrt{...</td>\n",
       "      <td>Halla las coordenadas de un cierto vector\\n$\\o...</td>\n",
       "      <td>1BC</td>\n",
       "      <td>22 - Producto Escalar</td>\n",
       "      <td>p036e16</td>\n",
       "      <td>1</td>\n",
       "      <td>1</td>\n",
       "      <td>1</td>\n",
       "      <td>True</td>\n",
       "      <td>True</td>\n",
       "    </tr>\n",
       "    <tr>\n",
       "      <th>23</th>\n",
       "      <td>\\overrightarrow{v}=(1, 0)</td>\n",
       "      <td>[Eq(x/sqrt(x**2 + y**2), 1/2), Eq(sqrt(x**2 + ...</td>\n",
       "      <td>\\left [ \\left \\{ x : \\frac{1}{2}, \\quad y : - ...</td>\n",
       "      <td>Halla las coordenadas de un cierto vector\\n$\\o...</td>\n",
       "      <td>1BC</td>\n",
       "      <td>22 - Producto Escalar</td>\n",
       "      <td>p036e16</td>\n",
       "      <td>1</td>\n",
       "      <td>1</td>\n",
       "      <td>1</td>\n",
       "      <td>True</td>\n",
       "      <td>True</td>\n",
       "    </tr>\n",
       "  </tbody>\n",
       "</table>\n",
       "</div>"
      ],
      "text/plain": [
       "                                      enunciado_latex  \\\n",
       "0   Las coordenadas de cada uno de ellos respecto ...   \n",
       "1   \\overrightarrow{u}=(4, 12) \\, \\ \\overrightarro...   \n",
       "2   \\overrightarrow{u}=(1, 2) \\, \\ \\overrightarrow...   \n",
       "3   \\overrightarrow{u}=(1, 1) \\, \\ \\overrightarrow...   \n",
       "4   \\overrightarrow{u}=(2, -3) \\, \\ \\overrightarro...   \n",
       "5   \\overrightarrow{u}=(1, 2) \\, \\ \\overrightarrow...   \n",
       "6   \\overrightarrow{u}=(1, 1) \\, \\ \\overrightarrow...   \n",
       "7   \\overrightarrow{u}=(2, -3) \\, \\ \\overrightarro...   \n",
       "8   \\overrightarrow{u}=(1, 2) \\, \\ \\overrightarrow...   \n",
       "9   \\overrightarrow{u}=(1, 1) \\, \\ \\overrightarrow...   \n",
       "10  \\overrightarrow{u}=(3, -5) \\, \\ \\overrightarro...   \n",
       "11  \\overrightarrow{u}=(3, 1) \\, \\ \\overrightarrow...   \n",
       "12  \\overrightarrow{u}=(-5, x) \\, \\ \\overrightarro...   \n",
       "13  \\overrightarrow{u}=(2, x) \\, \\ \\overrightarrow...   \n",
       "14                         \\overrightarrow{u}=(-5, x)   \n",
       "15                          \\overrightarrow{u}=(2, x)   \n",
       "16  \\overrightarrow{u}=\\left ( 3, \\quad 2\\right ) ...   \n",
       "17  \\overrightarrow{u}=\\left ( 1, \\quad 6\\right ) ...   \n",
       "18  \\overrightarrow{u}=(3, x) \\, \\ \\overrightarrow...   \n",
       "19  \\overrightarrow{u}=(2, x) \\, \\ \\overrightarrow...   \n",
       "20  \\overrightarrow{u}=(1, 0) \\, \\ \\overrightarrow...   \n",
       "21                          \\overrightarrow{v}=(2, 4)   \n",
       "22                          \\overrightarrow{v}=(2, 3)   \n",
       "23                          \\overrightarrow{v}=(1, 0)   \n",
       "\n",
       "                                            enunciado  \\\n",
       "0   [2*N.i + (-5)*N.j, (-11)*N.i + 4*N.j, (-2)*N.i...   \n",
       "1   Point(4, 12).is_collinear(Point(2, 6), Point(0...   \n",
       "2   Point(1, 2).is_collinear(Point(3, 4), Point(0,0))   \n",
       "3   Point(1, 1).is_collinear(Point(-2, -3), Point(...   \n",
       "4   ['Point(2, -3).dot(Point(5, 4))', ['Point(2, -...   \n",
       "5   ['Point(1, 2).dot(Point(3, 4))', ['Point(1, 2)...   \n",
       "6   ['Point(1, 1).dot(Point(-2, -3))', ['Point(1, ...   \n",
       "7   ['Point(2, -3).dot(Point(5, 4))', ['Point(2, -...   \n",
       "8   ['Point(1, 2).dot(Point(3, 4))', ['Point(1, 2)...   \n",
       "9   ['Point(1, 1).dot(Point(-2, -3))', ['Point(1, ...   \n",
       "10                                    Eq(3*x - 10, 7)   \n",
       "11                                       Eq(x + 6, 7)   \n",
       "12                                   Eq(-2*x - 20, 0)   \n",
       "13                                       Eq(x + 6, 0)   \n",
       "14                      Eq(sqrt(x**2 + 25), sqrt(34))   \n",
       "15                       Eq(sqrt(x**2 + 4), sqrt(34))   \n",
       "16  ['Point(3, 2).dot(Point(1, -5))', ['Point(3, 2...   \n",
       "17  ['Point(1, 6).dot(Point(-0.5, -3))', ['Point(1...   \n",
       "18   Eq(sqrt(29)*(2*x + 15)/(29*sqrt(x**2 + 9)), 1/2)   \n",
       "19      Eq(sqrt(10)*(x + 6)/(10*sqrt(x**2 + 4)), 1/2)   \n",
       "20                          Eq(1/sqrt(x**2 + 1), 1/2)   \n",
       "21  [Eq(sqrt(5)*(2*x + 4*y)/(10*sqrt(x**2 + y**2))...   \n",
       "22  [Eq(sqrt(13)*(2*x + 3*y)/(13*sqrt(x**2 + y**2)...   \n",
       "23  [Eq(x/sqrt(x**2 + y**2), 1/2), Eq(sqrt(x**2 + ...   \n",
       "\n",
       "                                             solucion  \\\n",
       "0   [[(-2, 1), (2, -3), (1, 1), (-1, -3)], [(2, -5...   \n",
       "1                                                True   \n",
       "2                                               False   \n",
       "3                                               False   \n",
       "4   \\left [ -2, \\quad \\left [ \\sqrt{13}, \\quad \\sq...   \n",
       "5   \\left [ 11, \\quad \\left [ \\sqrt{5}, \\quad 5\\ri...   \n",
       "6   \\left [ -5, \\quad \\left [ \\sqrt{2}, \\quad \\sqr...   \n",
       "7   \\left [ -2, \\quad \\left [ \\sqrt{13}, \\quad \\sq...   \n",
       "8   \\left [ 11, \\quad \\left [ \\sqrt{5}, \\quad 5\\ri...   \n",
       "9   \\left [ -5, \\quad \\left [ \\sqrt{2}, \\quad \\sqr...   \n",
       "10                       \\left [ \\frac{17}{3}\\right ]   \n",
       "11                                  \\left [ 1\\right ]   \n",
       "12                                \\left [ -10\\right ]   \n",
       "13                                 \\left [ -6\\right ]   \n",
       "14                        \\left [ -3, \\quad 3\\right ]   \n",
       "15       \\left [ - \\sqrt{30}, \\quad \\sqrt{30}\\right ]   \n",
       "16  \\left [ -7, \\quad \\left [ \\sqrt{13}, \\quad \\sq...   \n",
       "17  \\left [ - \\frac{37}{2}, \\quad \\left [ \\sqrt{37...   \n",
       "18  \\left [ \\frac{120}{13} + \\frac{87 \\sqrt{3}}{13...   \n",
       "19  \\left [ 4 + \\frac{10 \\sqrt{3}}{3}, \\quad - \\fr...   \n",
       "20         \\left [ - \\sqrt{3}, \\quad \\sqrt{3}\\right ]   \n",
       "21  \\left [ \\left \\{ x : - \\sqrt{- 4 \\sqrt{3} + 13...   \n",
       "22  \\left [ \\left \\{ x : - \\frac{\\sqrt{- 12 \\sqrt{...   \n",
       "23  \\left [ \\left \\{ x : \\frac{1}{2}, \\quad y : - ...   \n",
       "\n",
       "                                                texto curso  \\\n",
       "0   Sea \\n$\\left\\lbrace\\overrightarrow{ i},\\overri...   1BC   \n",
       "1   Estudia la dependencia lineal de los siguiente...   1BC   \n",
       "2   Estudia la dependencia lineal de los siguiente...   1BC   \n",
       "3   Estudia la dependencia lineal de los siguiente...   1BC   \n",
       "4   Respecto de una base ortonormal tenemos dos ve...   1BC   \n",
       "5   Respecto de una base ortonormal tenemos dos ve...   1BC   \n",
       "6   Respecto de una base ortonormal tenemos dos ve...   1BC   \n",
       "7   Respecto de una base ortonormal tenemos dos ve...   1BC   \n",
       "8   Respecto de una base ortonormal tenemos dos ve...   1BC   \n",
       "9   Respecto de una base ortonormal tenemos dos ve...   1BC   \n",
       "10  Calcula x, de modo que el producto escalar\\nde...   1BC   \n",
       "11  Calcula x, de modo que el producto escalar\\nde...   1BC   \n",
       "12  Dado el vector\\n$\\overrightarrow{u}$, calcula ...   1BC   \n",
       "13  Dado el vector\\n$\\overrightarrow{u}$, calcula ...   1BC   \n",
       "14  Dado el vector\\n$\\overrightarrow{u}$, calcula ...   1BC   \n",
       "15  Dado el vector\\n$\\overrightarrow{u}$, calcula ...   1BC   \n",
       "16  Respecto de una base ortonormal tenemos dos ve...   1BC   \n",
       "17  Respecto de una base ortonormal tenemos dos ve...   1BC   \n",
       "18  Calcula x para que los vectores\\n$\\overrightar...   1BC   \n",
       "19  Calcula x para que los vectores\\n$\\overrightar...   1BC   \n",
       "20  Calcula x para que los vectores\\n$\\overrightar...   1BC   \n",
       "21  Halla las coordenadas de un cierto vector\\n$\\o...   1BC   \n",
       "22  Halla las coordenadas de un cierto vector\\n$\\o...   1BC   \n",
       "23  Halla las coordenadas de un cierto vector\\n$\\o...   1BC   \n",
       "\n",
       "                   titulo n_ejercicio  dificultad  n_columnas  puntos  \\\n",
       "0   22 - Producto Escalar     p035e01           1           1       1   \n",
       "1   22 - Producto Escalar     p035e02           1           2       1   \n",
       "2   22 - Producto Escalar     p035e02           1           2       1   \n",
       "3   22 - Producto Escalar     p035e02           1           2       1   \n",
       "4   22 - Producto Escalar     p036e09           1           2       1   \n",
       "5   22 - Producto Escalar     p036e09           1           2       1   \n",
       "6   22 - Producto Escalar     p036e09           1           2       1   \n",
       "7   22 - Producto Escalar     p036e09           1           2       1   \n",
       "8   22 - Producto Escalar     p036e09           1           2       1   \n",
       "9   22 - Producto Escalar     p036e09           1           2       1   \n",
       "10  22 - Producto Escalar     p036e12           1           2       1   \n",
       "11  22 - Producto Escalar     p036e12           1           2       1   \n",
       "12  22 - Producto Escalar     p036e13           1           2       1   \n",
       "13  22 - Producto Escalar     p036e13           1           2       1   \n",
       "14  22 - Producto Escalar    p036e13b           1           2       1   \n",
       "15  22 - Producto Escalar    p036e13b           1           2       1   \n",
       "16  22 - Producto Escalar     p036e14           1           2       1   \n",
       "17  22 - Producto Escalar     p036e14           1           2       1   \n",
       "18  22 - Producto Escalar     p036e15           1           2       1   \n",
       "19  22 - Producto Escalar     p036e15           1           2       1   \n",
       "20  22 - Producto Escalar     p036e15           1           2       1   \n",
       "21  22 - Producto Escalar     p036e16           1           1       1   \n",
       "22  22 - Producto Escalar     p036e16           1           1       1   \n",
       "23  22 - Producto Escalar     p036e16           1           1       1   \n",
       "\n",
       "    enun_tex  sol_tex  \n",
       "0      False     True  \n",
       "1       True     True  \n",
       "2       True     True  \n",
       "3       True     True  \n",
       "4       True     True  \n",
       "5       True     True  \n",
       "6       True     True  \n",
       "7       True     True  \n",
       "8       True     True  \n",
       "9       True     True  \n",
       "10      True     True  \n",
       "11      True     True  \n",
       "12      True     True  \n",
       "13      True     True  \n",
       "14      True     True  \n",
       "15      True     True  \n",
       "16      True     True  \n",
       "17      True     True  \n",
       "18      True     True  \n",
       "19      True     True  \n",
       "20      True     True  \n",
       "21      True     True  \n",
       "22      True     True  \n",
       "23      True     True  "
      ]
     },
     "execution_count": 19,
     "metadata": {},
     "output_type": "execute_result"
    }
   ],
   "source": [
    "df_ejercicios"
   ]
  },
  {
   "cell_type": "code",
   "execution_count": 20,
   "metadata": {},
   "outputs": [
    {
     "data": {
      "text/markdown": [
       "**Ejercicio: **p035e01"
      ],
      "text/plain": [
       "<IPython.core.display.Markdown object>"
      ]
     },
     "metadata": {},
     "output_type": "display_data"
    },
    {
     "data": {
      "text/html": [
       "<div>\n",
       "<style scoped>\n",
       "    .dataframe tbody tr th:only-of-type {\n",
       "        vertical-align: middle;\n",
       "    }\n",
       "\n",
       "    .dataframe tbody tr th {\n",
       "        vertical-align: top;\n",
       "    }\n",
       "\n",
       "    .dataframe thead th {\n",
       "        text-align: right;\n",
       "    }\n",
       "</style>\n",
       "<table border=\"1\" class=\"dataframe\">\n",
       "  <thead>\n",
       "    <tr style=\"text-align: right;\">\n",
       "      <th></th>\n",
       "      <th>enunciado_latex</th>\n",
       "      <th>enunciado</th>\n",
       "      <th>solucion</th>\n",
       "      <th>texto</th>\n",
       "      <th>curso</th>\n",
       "      <th>titulo</th>\n",
       "      <th>n_ejercicio</th>\n",
       "      <th>dificultad</th>\n",
       "      <th>n_columnas</th>\n",
       "      <th>puntos</th>\n",
       "      <th>enun_tex</th>\n",
       "      <th>sol_tex</th>\n",
       "    </tr>\n",
       "  </thead>\n",
       "  <tbody>\n",
       "    <tr>\n",
       "      <th>0</th>\n",
       "      <td>Las coordenadas de cada uno de ellos respecto ...</td>\n",
       "      <td>[2*N.i + (-5)*N.j, (-11)*N.i + 4*N.j, (-2)*N.i...</td>\n",
       "      <td>[[(-2, 1), (2, -3), (1, 1), (-1, -3)], [(2, -5...</td>\n",
       "      <td>Sea \\n$\\left\\lbrace\\overrightarrow{ i},\\overri...</td>\n",
       "      <td>1BC</td>\n",
       "      <td>22 - Producto Escalar</td>\n",
       "      <td>p035e01</td>\n",
       "      <td>1</td>\n",
       "      <td>1</td>\n",
       "      <td>1</td>\n",
       "      <td>False</td>\n",
       "      <td>True</td>\n",
       "    </tr>\n",
       "  </tbody>\n",
       "</table>\n",
       "</div>"
      ],
      "text/plain": [
       "                                     enunciado_latex  \\\n",
       "0  Las coordenadas de cada uno de ellos respecto ...   \n",
       "\n",
       "                                           enunciado  \\\n",
       "0  [2*N.i + (-5)*N.j, (-11)*N.i + 4*N.j, (-2)*N.i...   \n",
       "\n",
       "                                            solucion  \\\n",
       "0  [[(-2, 1), (2, -3), (1, 1), (-1, -3)], [(2, -5...   \n",
       "\n",
       "                                               texto curso  \\\n",
       "0  Sea \\n$\\left\\lbrace\\overrightarrow{ i},\\overri...   1BC   \n",
       "\n",
       "                  titulo n_ejercicio  dificultad  n_columnas  puntos  \\\n",
       "0  22 - Producto Escalar     p035e01           1           1       1   \n",
       "\n",
       "   enun_tex  sol_tex  \n",
       "0     False     True  "
      ]
     },
     "metadata": {},
     "output_type": "display_data"
    },
    {
     "data": {
      "text/markdown": [
       "**Ejercicio: **p035e02"
      ],
      "text/plain": [
       "<IPython.core.display.Markdown object>"
      ]
     },
     "metadata": {},
     "output_type": "display_data"
    },
    {
     "data": {
      "text/html": [
       "<div>\n",
       "<style scoped>\n",
       "    .dataframe tbody tr th:only-of-type {\n",
       "        vertical-align: middle;\n",
       "    }\n",
       "\n",
       "    .dataframe tbody tr th {\n",
       "        vertical-align: top;\n",
       "    }\n",
       "\n",
       "    .dataframe thead th {\n",
       "        text-align: right;\n",
       "    }\n",
       "</style>\n",
       "<table border=\"1\" class=\"dataframe\">\n",
       "  <thead>\n",
       "    <tr style=\"text-align: right;\">\n",
       "      <th></th>\n",
       "      <th>enunciado_latex</th>\n",
       "      <th>enunciado</th>\n",
       "      <th>solucion</th>\n",
       "      <th>texto</th>\n",
       "      <th>curso</th>\n",
       "      <th>titulo</th>\n",
       "      <th>n_ejercicio</th>\n",
       "      <th>dificultad</th>\n",
       "      <th>n_columnas</th>\n",
       "      <th>puntos</th>\n",
       "      <th>enun_tex</th>\n",
       "      <th>sol_tex</th>\n",
       "    </tr>\n",
       "  </thead>\n",
       "  <tbody>\n",
       "    <tr>\n",
       "      <th>1</th>\n",
       "      <td>\\overrightarrow{u}=(4, 12) \\, \\ \\overrightarro...</td>\n",
       "      <td>Point(4, 12).is_collinear(Point(2, 6), Point(0...</td>\n",
       "      <td>True</td>\n",
       "      <td>Estudia la dependencia lineal de los siguiente...</td>\n",
       "      <td>1BC</td>\n",
       "      <td>22 - Producto Escalar</td>\n",
       "      <td>p035e02</td>\n",
       "      <td>1</td>\n",
       "      <td>2</td>\n",
       "      <td>1</td>\n",
       "      <td>True</td>\n",
       "      <td>True</td>\n",
       "    </tr>\n",
       "    <tr>\n",
       "      <th>2</th>\n",
       "      <td>\\overrightarrow{u}=(1, 2) \\, \\ \\overrightarrow...</td>\n",
       "      <td>Point(1, 2).is_collinear(Point(3, 4), Point(0,0))</td>\n",
       "      <td>False</td>\n",
       "      <td>Estudia la dependencia lineal de los siguiente...</td>\n",
       "      <td>1BC</td>\n",
       "      <td>22 - Producto Escalar</td>\n",
       "      <td>p035e02</td>\n",
       "      <td>1</td>\n",
       "      <td>2</td>\n",
       "      <td>1</td>\n",
       "      <td>True</td>\n",
       "      <td>True</td>\n",
       "    </tr>\n",
       "    <tr>\n",
       "      <th>3</th>\n",
       "      <td>\\overrightarrow{u}=(1, 1) \\, \\ \\overrightarrow...</td>\n",
       "      <td>Point(1, 1).is_collinear(Point(-2, -3), Point(...</td>\n",
       "      <td>False</td>\n",
       "      <td>Estudia la dependencia lineal de los siguiente...</td>\n",
       "      <td>1BC</td>\n",
       "      <td>22 - Producto Escalar</td>\n",
       "      <td>p035e02</td>\n",
       "      <td>1</td>\n",
       "      <td>2</td>\n",
       "      <td>1</td>\n",
       "      <td>True</td>\n",
       "      <td>True</td>\n",
       "    </tr>\n",
       "  </tbody>\n",
       "</table>\n",
       "</div>"
      ],
      "text/plain": [
       "                                     enunciado_latex  \\\n",
       "1  \\overrightarrow{u}=(4, 12) \\, \\ \\overrightarro...   \n",
       "2  \\overrightarrow{u}=(1, 2) \\, \\ \\overrightarrow...   \n",
       "3  \\overrightarrow{u}=(1, 1) \\, \\ \\overrightarrow...   \n",
       "\n",
       "                                           enunciado solucion  \\\n",
       "1  Point(4, 12).is_collinear(Point(2, 6), Point(0...     True   \n",
       "2  Point(1, 2).is_collinear(Point(3, 4), Point(0,0))    False   \n",
       "3  Point(1, 1).is_collinear(Point(-2, -3), Point(...    False   \n",
       "\n",
       "                                               texto curso  \\\n",
       "1  Estudia la dependencia lineal de los siguiente...   1BC   \n",
       "2  Estudia la dependencia lineal de los siguiente...   1BC   \n",
       "3  Estudia la dependencia lineal de los siguiente...   1BC   \n",
       "\n",
       "                  titulo n_ejercicio  dificultad  n_columnas  puntos  \\\n",
       "1  22 - Producto Escalar     p035e02           1           2       1   \n",
       "2  22 - Producto Escalar     p035e02           1           2       1   \n",
       "3  22 - Producto Escalar     p035e02           1           2       1   \n",
       "\n",
       "   enun_tex  sol_tex  \n",
       "1      True     True  \n",
       "2      True     True  \n",
       "3      True     True  "
      ]
     },
     "metadata": {},
     "output_type": "display_data"
    },
    {
     "data": {
      "text/markdown": [
       "**Ejercicio: **p036e09"
      ],
      "text/plain": [
       "<IPython.core.display.Markdown object>"
      ]
     },
     "metadata": {},
     "output_type": "display_data"
    },
    {
     "data": {
      "text/html": [
       "<div>\n",
       "<style scoped>\n",
       "    .dataframe tbody tr th:only-of-type {\n",
       "        vertical-align: middle;\n",
       "    }\n",
       "\n",
       "    .dataframe tbody tr th {\n",
       "        vertical-align: top;\n",
       "    }\n",
       "\n",
       "    .dataframe thead th {\n",
       "        text-align: right;\n",
       "    }\n",
       "</style>\n",
       "<table border=\"1\" class=\"dataframe\">\n",
       "  <thead>\n",
       "    <tr style=\"text-align: right;\">\n",
       "      <th></th>\n",
       "      <th>enunciado_latex</th>\n",
       "      <th>enunciado</th>\n",
       "      <th>solucion</th>\n",
       "      <th>texto</th>\n",
       "      <th>curso</th>\n",
       "      <th>titulo</th>\n",
       "      <th>n_ejercicio</th>\n",
       "      <th>dificultad</th>\n",
       "      <th>n_columnas</th>\n",
       "      <th>puntos</th>\n",
       "      <th>enun_tex</th>\n",
       "      <th>sol_tex</th>\n",
       "    </tr>\n",
       "  </thead>\n",
       "  <tbody>\n",
       "    <tr>\n",
       "      <th>4</th>\n",
       "      <td>\\overrightarrow{u}=(2, -3) \\, \\ \\overrightarro...</td>\n",
       "      <td>['Point(2, -3).dot(Point(5, 4))', ['Point(2, -...</td>\n",
       "      <td>\\left [ -2, \\quad \\left [ \\sqrt{13}, \\quad \\sq...</td>\n",
       "      <td>Respecto de una base ortonormal tenemos dos ve...</td>\n",
       "      <td>1BC</td>\n",
       "      <td>22 - Producto Escalar</td>\n",
       "      <td>p036e09</td>\n",
       "      <td>1</td>\n",
       "      <td>2</td>\n",
       "      <td>1</td>\n",
       "      <td>True</td>\n",
       "      <td>True</td>\n",
       "    </tr>\n",
       "    <tr>\n",
       "      <th>5</th>\n",
       "      <td>\\overrightarrow{u}=(1, 2) \\, \\ \\overrightarrow...</td>\n",
       "      <td>['Point(1, 2).dot(Point(3, 4))', ['Point(1, 2)...</td>\n",
       "      <td>\\left [ 11, \\quad \\left [ \\sqrt{5}, \\quad 5\\ri...</td>\n",
       "      <td>Respecto de una base ortonormal tenemos dos ve...</td>\n",
       "      <td>1BC</td>\n",
       "      <td>22 - Producto Escalar</td>\n",
       "      <td>p036e09</td>\n",
       "      <td>1</td>\n",
       "      <td>2</td>\n",
       "      <td>1</td>\n",
       "      <td>True</td>\n",
       "      <td>True</td>\n",
       "    </tr>\n",
       "    <tr>\n",
       "      <th>6</th>\n",
       "      <td>\\overrightarrow{u}=(1, 1) \\, \\ \\overrightarrow...</td>\n",
       "      <td>['Point(1, 1).dot(Point(-2, -3))', ['Point(1, ...</td>\n",
       "      <td>\\left [ -5, \\quad \\left [ \\sqrt{2}, \\quad \\sqr...</td>\n",
       "      <td>Respecto de una base ortonormal tenemos dos ve...</td>\n",
       "      <td>1BC</td>\n",
       "      <td>22 - Producto Escalar</td>\n",
       "      <td>p036e09</td>\n",
       "      <td>1</td>\n",
       "      <td>2</td>\n",
       "      <td>1</td>\n",
       "      <td>True</td>\n",
       "      <td>True</td>\n",
       "    </tr>\n",
       "    <tr>\n",
       "      <th>7</th>\n",
       "      <td>\\overrightarrow{u}=(2, -3) \\, \\ \\overrightarro...</td>\n",
       "      <td>['Point(2, -3).dot(Point(5, 4))', ['Point(2, -...</td>\n",
       "      <td>\\left [ -2, \\quad \\left [ \\sqrt{13}, \\quad \\sq...</td>\n",
       "      <td>Respecto de una base ortonormal tenemos dos ve...</td>\n",
       "      <td>1BC</td>\n",
       "      <td>22 - Producto Escalar</td>\n",
       "      <td>p036e09</td>\n",
       "      <td>1</td>\n",
       "      <td>2</td>\n",
       "      <td>1</td>\n",
       "      <td>True</td>\n",
       "      <td>True</td>\n",
       "    </tr>\n",
       "    <tr>\n",
       "      <th>8</th>\n",
       "      <td>\\overrightarrow{u}=(1, 2) \\, \\ \\overrightarrow...</td>\n",
       "      <td>['Point(1, 2).dot(Point(3, 4))', ['Point(1, 2)...</td>\n",
       "      <td>\\left [ 11, \\quad \\left [ \\sqrt{5}, \\quad 5\\ri...</td>\n",
       "      <td>Respecto de una base ortonormal tenemos dos ve...</td>\n",
       "      <td>1BC</td>\n",
       "      <td>22 - Producto Escalar</td>\n",
       "      <td>p036e09</td>\n",
       "      <td>1</td>\n",
       "      <td>2</td>\n",
       "      <td>1</td>\n",
       "      <td>True</td>\n",
       "      <td>True</td>\n",
       "    </tr>\n",
       "    <tr>\n",
       "      <th>9</th>\n",
       "      <td>\\overrightarrow{u}=(1, 1) \\, \\ \\overrightarrow...</td>\n",
       "      <td>['Point(1, 1).dot(Point(-2, -3))', ['Point(1, ...</td>\n",
       "      <td>\\left [ -5, \\quad \\left [ \\sqrt{2}, \\quad \\sqr...</td>\n",
       "      <td>Respecto de una base ortonormal tenemos dos ve...</td>\n",
       "      <td>1BC</td>\n",
       "      <td>22 - Producto Escalar</td>\n",
       "      <td>p036e09</td>\n",
       "      <td>1</td>\n",
       "      <td>2</td>\n",
       "      <td>1</td>\n",
       "      <td>True</td>\n",
       "      <td>True</td>\n",
       "    </tr>\n",
       "  </tbody>\n",
       "</table>\n",
       "</div>"
      ],
      "text/plain": [
       "                                     enunciado_latex  \\\n",
       "4  \\overrightarrow{u}=(2, -3) \\, \\ \\overrightarro...   \n",
       "5  \\overrightarrow{u}=(1, 2) \\, \\ \\overrightarrow...   \n",
       "6  \\overrightarrow{u}=(1, 1) \\, \\ \\overrightarrow...   \n",
       "7  \\overrightarrow{u}=(2, -3) \\, \\ \\overrightarro...   \n",
       "8  \\overrightarrow{u}=(1, 2) \\, \\ \\overrightarrow...   \n",
       "9  \\overrightarrow{u}=(1, 1) \\, \\ \\overrightarrow...   \n",
       "\n",
       "                                           enunciado  \\\n",
       "4  ['Point(2, -3).dot(Point(5, 4))', ['Point(2, -...   \n",
       "5  ['Point(1, 2).dot(Point(3, 4))', ['Point(1, 2)...   \n",
       "6  ['Point(1, 1).dot(Point(-2, -3))', ['Point(1, ...   \n",
       "7  ['Point(2, -3).dot(Point(5, 4))', ['Point(2, -...   \n",
       "8  ['Point(1, 2).dot(Point(3, 4))', ['Point(1, 2)...   \n",
       "9  ['Point(1, 1).dot(Point(-2, -3))', ['Point(1, ...   \n",
       "\n",
       "                                            solucion  \\\n",
       "4  \\left [ -2, \\quad \\left [ \\sqrt{13}, \\quad \\sq...   \n",
       "5  \\left [ 11, \\quad \\left [ \\sqrt{5}, \\quad 5\\ri...   \n",
       "6  \\left [ -5, \\quad \\left [ \\sqrt{2}, \\quad \\sqr...   \n",
       "7  \\left [ -2, \\quad \\left [ \\sqrt{13}, \\quad \\sq...   \n",
       "8  \\left [ 11, \\quad \\left [ \\sqrt{5}, \\quad 5\\ri...   \n",
       "9  \\left [ -5, \\quad \\left [ \\sqrt{2}, \\quad \\sqr...   \n",
       "\n",
       "                                               texto curso  \\\n",
       "4  Respecto de una base ortonormal tenemos dos ve...   1BC   \n",
       "5  Respecto de una base ortonormal tenemos dos ve...   1BC   \n",
       "6  Respecto de una base ortonormal tenemos dos ve...   1BC   \n",
       "7  Respecto de una base ortonormal tenemos dos ve...   1BC   \n",
       "8  Respecto de una base ortonormal tenemos dos ve...   1BC   \n",
       "9  Respecto de una base ortonormal tenemos dos ve...   1BC   \n",
       "\n",
       "                  titulo n_ejercicio  dificultad  n_columnas  puntos  \\\n",
       "4  22 - Producto Escalar     p036e09           1           2       1   \n",
       "5  22 - Producto Escalar     p036e09           1           2       1   \n",
       "6  22 - Producto Escalar     p036e09           1           2       1   \n",
       "7  22 - Producto Escalar     p036e09           1           2       1   \n",
       "8  22 - Producto Escalar     p036e09           1           2       1   \n",
       "9  22 - Producto Escalar     p036e09           1           2       1   \n",
       "\n",
       "   enun_tex  sol_tex  \n",
       "4      True     True  \n",
       "5      True     True  \n",
       "6      True     True  \n",
       "7      True     True  \n",
       "8      True     True  \n",
       "9      True     True  "
      ]
     },
     "metadata": {},
     "output_type": "display_data"
    },
    {
     "data": {
      "text/markdown": [
       "**Ejercicio: **p036e12"
      ],
      "text/plain": [
       "<IPython.core.display.Markdown object>"
      ]
     },
     "metadata": {},
     "output_type": "display_data"
    },
    {
     "data": {
      "text/html": [
       "<div>\n",
       "<style scoped>\n",
       "    .dataframe tbody tr th:only-of-type {\n",
       "        vertical-align: middle;\n",
       "    }\n",
       "\n",
       "    .dataframe tbody tr th {\n",
       "        vertical-align: top;\n",
       "    }\n",
       "\n",
       "    .dataframe thead th {\n",
       "        text-align: right;\n",
       "    }\n",
       "</style>\n",
       "<table border=\"1\" class=\"dataframe\">\n",
       "  <thead>\n",
       "    <tr style=\"text-align: right;\">\n",
       "      <th></th>\n",
       "      <th>enunciado_latex</th>\n",
       "      <th>enunciado</th>\n",
       "      <th>solucion</th>\n",
       "      <th>texto</th>\n",
       "      <th>curso</th>\n",
       "      <th>titulo</th>\n",
       "      <th>n_ejercicio</th>\n",
       "      <th>dificultad</th>\n",
       "      <th>n_columnas</th>\n",
       "      <th>puntos</th>\n",
       "      <th>enun_tex</th>\n",
       "      <th>sol_tex</th>\n",
       "    </tr>\n",
       "  </thead>\n",
       "  <tbody>\n",
       "    <tr>\n",
       "      <th>10</th>\n",
       "      <td>\\overrightarrow{u}=(3, -5) \\, \\ \\overrightarro...</td>\n",
       "      <td>Eq(3*x - 10, 7)</td>\n",
       "      <td>\\left [ \\frac{17}{3}\\right ]</td>\n",
       "      <td>Calcula x, de modo que el producto escalar\\nde...</td>\n",
       "      <td>1BC</td>\n",
       "      <td>22 - Producto Escalar</td>\n",
       "      <td>p036e12</td>\n",
       "      <td>1</td>\n",
       "      <td>2</td>\n",
       "      <td>1</td>\n",
       "      <td>True</td>\n",
       "      <td>True</td>\n",
       "    </tr>\n",
       "    <tr>\n",
       "      <th>11</th>\n",
       "      <td>\\overrightarrow{u}=(3, 1) \\, \\ \\overrightarrow...</td>\n",
       "      <td>Eq(x + 6, 7)</td>\n",
       "      <td>\\left [ 1\\right ]</td>\n",
       "      <td>Calcula x, de modo que el producto escalar\\nde...</td>\n",
       "      <td>1BC</td>\n",
       "      <td>22 - Producto Escalar</td>\n",
       "      <td>p036e12</td>\n",
       "      <td>1</td>\n",
       "      <td>2</td>\n",
       "      <td>1</td>\n",
       "      <td>True</td>\n",
       "      <td>True</td>\n",
       "    </tr>\n",
       "  </tbody>\n",
       "</table>\n",
       "</div>"
      ],
      "text/plain": [
       "                                      enunciado_latex        enunciado  \\\n",
       "10  \\overrightarrow{u}=(3, -5) \\, \\ \\overrightarro...  Eq(3*x - 10, 7)   \n",
       "11  \\overrightarrow{u}=(3, 1) \\, \\ \\overrightarrow...     Eq(x + 6, 7)   \n",
       "\n",
       "                        solucion  \\\n",
       "10  \\left [ \\frac{17}{3}\\right ]   \n",
       "11             \\left [ 1\\right ]   \n",
       "\n",
       "                                                texto curso  \\\n",
       "10  Calcula x, de modo que el producto escalar\\nde...   1BC   \n",
       "11  Calcula x, de modo que el producto escalar\\nde...   1BC   \n",
       "\n",
       "                   titulo n_ejercicio  dificultad  n_columnas  puntos  \\\n",
       "10  22 - Producto Escalar     p036e12           1           2       1   \n",
       "11  22 - Producto Escalar     p036e12           1           2       1   \n",
       "\n",
       "    enun_tex  sol_tex  \n",
       "10      True     True  \n",
       "11      True     True  "
      ]
     },
     "metadata": {},
     "output_type": "display_data"
    },
    {
     "data": {
      "text/markdown": [
       "**Ejercicio: **p036e13"
      ],
      "text/plain": [
       "<IPython.core.display.Markdown object>"
      ]
     },
     "metadata": {},
     "output_type": "display_data"
    },
    {
     "data": {
      "text/html": [
       "<div>\n",
       "<style scoped>\n",
       "    .dataframe tbody tr th:only-of-type {\n",
       "        vertical-align: middle;\n",
       "    }\n",
       "\n",
       "    .dataframe tbody tr th {\n",
       "        vertical-align: top;\n",
       "    }\n",
       "\n",
       "    .dataframe thead th {\n",
       "        text-align: right;\n",
       "    }\n",
       "</style>\n",
       "<table border=\"1\" class=\"dataframe\">\n",
       "  <thead>\n",
       "    <tr style=\"text-align: right;\">\n",
       "      <th></th>\n",
       "      <th>enunciado_latex</th>\n",
       "      <th>enunciado</th>\n",
       "      <th>solucion</th>\n",
       "      <th>texto</th>\n",
       "      <th>curso</th>\n",
       "      <th>titulo</th>\n",
       "      <th>n_ejercicio</th>\n",
       "      <th>dificultad</th>\n",
       "      <th>n_columnas</th>\n",
       "      <th>puntos</th>\n",
       "      <th>enun_tex</th>\n",
       "      <th>sol_tex</th>\n",
       "    </tr>\n",
       "  </thead>\n",
       "  <tbody>\n",
       "    <tr>\n",
       "      <th>12</th>\n",
       "      <td>\\overrightarrow{u}=(-5, x) \\, \\ \\overrightarro...</td>\n",
       "      <td>Eq(-2*x - 20, 0)</td>\n",
       "      <td>\\left [ -10\\right ]</td>\n",
       "      <td>Dado el vector\\n$\\overrightarrow{u}$, calcula ...</td>\n",
       "      <td>1BC</td>\n",
       "      <td>22 - Producto Escalar</td>\n",
       "      <td>p036e13</td>\n",
       "      <td>1</td>\n",
       "      <td>2</td>\n",
       "      <td>1</td>\n",
       "      <td>True</td>\n",
       "      <td>True</td>\n",
       "    </tr>\n",
       "    <tr>\n",
       "      <th>13</th>\n",
       "      <td>\\overrightarrow{u}=(2, x) \\, \\ \\overrightarrow...</td>\n",
       "      <td>Eq(x + 6, 0)</td>\n",
       "      <td>\\left [ -6\\right ]</td>\n",
       "      <td>Dado el vector\\n$\\overrightarrow{u}$, calcula ...</td>\n",
       "      <td>1BC</td>\n",
       "      <td>22 - Producto Escalar</td>\n",
       "      <td>p036e13</td>\n",
       "      <td>1</td>\n",
       "      <td>2</td>\n",
       "      <td>1</td>\n",
       "      <td>True</td>\n",
       "      <td>True</td>\n",
       "    </tr>\n",
       "  </tbody>\n",
       "</table>\n",
       "</div>"
      ],
      "text/plain": [
       "                                      enunciado_latex         enunciado  \\\n",
       "12  \\overrightarrow{u}=(-5, x) \\, \\ \\overrightarro...  Eq(-2*x - 20, 0)   \n",
       "13  \\overrightarrow{u}=(2, x) \\, \\ \\overrightarrow...      Eq(x + 6, 0)   \n",
       "\n",
       "               solucion                                              texto  \\\n",
       "12  \\left [ -10\\right ]  Dado el vector\\n$\\overrightarrow{u}$, calcula ...   \n",
       "13   \\left [ -6\\right ]  Dado el vector\\n$\\overrightarrow{u}$, calcula ...   \n",
       "\n",
       "   curso                 titulo n_ejercicio  dificultad  n_columnas  puntos  \\\n",
       "12   1BC  22 - Producto Escalar     p036e13           1           2       1   \n",
       "13   1BC  22 - Producto Escalar     p036e13           1           2       1   \n",
       "\n",
       "    enun_tex  sol_tex  \n",
       "12      True     True  \n",
       "13      True     True  "
      ]
     },
     "metadata": {},
     "output_type": "display_data"
    },
    {
     "data": {
      "text/markdown": [
       "**Ejercicio: **p036e13b"
      ],
      "text/plain": [
       "<IPython.core.display.Markdown object>"
      ]
     },
     "metadata": {},
     "output_type": "display_data"
    },
    {
     "data": {
      "text/html": [
       "<div>\n",
       "<style scoped>\n",
       "    .dataframe tbody tr th:only-of-type {\n",
       "        vertical-align: middle;\n",
       "    }\n",
       "\n",
       "    .dataframe tbody tr th {\n",
       "        vertical-align: top;\n",
       "    }\n",
       "\n",
       "    .dataframe thead th {\n",
       "        text-align: right;\n",
       "    }\n",
       "</style>\n",
       "<table border=\"1\" class=\"dataframe\">\n",
       "  <thead>\n",
       "    <tr style=\"text-align: right;\">\n",
       "      <th></th>\n",
       "      <th>enunciado_latex</th>\n",
       "      <th>enunciado</th>\n",
       "      <th>solucion</th>\n",
       "      <th>texto</th>\n",
       "      <th>curso</th>\n",
       "      <th>titulo</th>\n",
       "      <th>n_ejercicio</th>\n",
       "      <th>dificultad</th>\n",
       "      <th>n_columnas</th>\n",
       "      <th>puntos</th>\n",
       "      <th>enun_tex</th>\n",
       "      <th>sol_tex</th>\n",
       "    </tr>\n",
       "  </thead>\n",
       "  <tbody>\n",
       "    <tr>\n",
       "      <th>14</th>\n",
       "      <td>\\overrightarrow{u}=(-5, x)</td>\n",
       "      <td>Eq(sqrt(x**2 + 25), sqrt(34))</td>\n",
       "      <td>\\left [ -3, \\quad 3\\right ]</td>\n",
       "      <td>Dado el vector\\n$\\overrightarrow{u}$, calcula ...</td>\n",
       "      <td>1BC</td>\n",
       "      <td>22 - Producto Escalar</td>\n",
       "      <td>p036e13b</td>\n",
       "      <td>1</td>\n",
       "      <td>2</td>\n",
       "      <td>1</td>\n",
       "      <td>True</td>\n",
       "      <td>True</td>\n",
       "    </tr>\n",
       "    <tr>\n",
       "      <th>15</th>\n",
       "      <td>\\overrightarrow{u}=(2, x)</td>\n",
       "      <td>Eq(sqrt(x**2 + 4), sqrt(34))</td>\n",
       "      <td>\\left [ - \\sqrt{30}, \\quad \\sqrt{30}\\right ]</td>\n",
       "      <td>Dado el vector\\n$\\overrightarrow{u}$, calcula ...</td>\n",
       "      <td>1BC</td>\n",
       "      <td>22 - Producto Escalar</td>\n",
       "      <td>p036e13b</td>\n",
       "      <td>1</td>\n",
       "      <td>2</td>\n",
       "      <td>1</td>\n",
       "      <td>True</td>\n",
       "      <td>True</td>\n",
       "    </tr>\n",
       "  </tbody>\n",
       "</table>\n",
       "</div>"
      ],
      "text/plain": [
       "               enunciado_latex                      enunciado  \\\n",
       "14  \\overrightarrow{u}=(-5, x)  Eq(sqrt(x**2 + 25), sqrt(34))   \n",
       "15   \\overrightarrow{u}=(2, x)   Eq(sqrt(x**2 + 4), sqrt(34))   \n",
       "\n",
       "                                        solucion  \\\n",
       "14                   \\left [ -3, \\quad 3\\right ]   \n",
       "15  \\left [ - \\sqrt{30}, \\quad \\sqrt{30}\\right ]   \n",
       "\n",
       "                                                texto curso  \\\n",
       "14  Dado el vector\\n$\\overrightarrow{u}$, calcula ...   1BC   \n",
       "15  Dado el vector\\n$\\overrightarrow{u}$, calcula ...   1BC   \n",
       "\n",
       "                   titulo n_ejercicio  dificultad  n_columnas  puntos  \\\n",
       "14  22 - Producto Escalar    p036e13b           1           2       1   \n",
       "15  22 - Producto Escalar    p036e13b           1           2       1   \n",
       "\n",
       "    enun_tex  sol_tex  \n",
       "14      True     True  \n",
       "15      True     True  "
      ]
     },
     "metadata": {},
     "output_type": "display_data"
    },
    {
     "data": {
      "text/markdown": [
       "**Ejercicio: **p036e14"
      ],
      "text/plain": [
       "<IPython.core.display.Markdown object>"
      ]
     },
     "metadata": {},
     "output_type": "display_data"
    },
    {
     "data": {
      "text/html": [
       "<div>\n",
       "<style scoped>\n",
       "    .dataframe tbody tr th:only-of-type {\n",
       "        vertical-align: middle;\n",
       "    }\n",
       "\n",
       "    .dataframe tbody tr th {\n",
       "        vertical-align: top;\n",
       "    }\n",
       "\n",
       "    .dataframe thead th {\n",
       "        text-align: right;\n",
       "    }\n",
       "</style>\n",
       "<table border=\"1\" class=\"dataframe\">\n",
       "  <thead>\n",
       "    <tr style=\"text-align: right;\">\n",
       "      <th></th>\n",
       "      <th>enunciado_latex</th>\n",
       "      <th>enunciado</th>\n",
       "      <th>solucion</th>\n",
       "      <th>texto</th>\n",
       "      <th>curso</th>\n",
       "      <th>titulo</th>\n",
       "      <th>n_ejercicio</th>\n",
       "      <th>dificultad</th>\n",
       "      <th>n_columnas</th>\n",
       "      <th>puntos</th>\n",
       "      <th>enun_tex</th>\n",
       "      <th>sol_tex</th>\n",
       "    </tr>\n",
       "  </thead>\n",
       "  <tbody>\n",
       "    <tr>\n",
       "      <th>16</th>\n",
       "      <td>\\overrightarrow{u}=\\left ( 3, \\quad 2\\right ) ...</td>\n",
       "      <td>['Point(3, 2).dot(Point(1, -5))', ['Point(3, 2...</td>\n",
       "      <td>\\left [ -7, \\quad \\left [ \\sqrt{13}, \\quad \\sq...</td>\n",
       "      <td>Respecto de una base ortonormal tenemos dos ve...</td>\n",
       "      <td>1BC</td>\n",
       "      <td>22 - Producto Escalar</td>\n",
       "      <td>p036e14</td>\n",
       "      <td>1</td>\n",
       "      <td>2</td>\n",
       "      <td>1</td>\n",
       "      <td>True</td>\n",
       "      <td>True</td>\n",
       "    </tr>\n",
       "    <tr>\n",
       "      <th>17</th>\n",
       "      <td>\\overrightarrow{u}=\\left ( 1, \\quad 6\\right ) ...</td>\n",
       "      <td>['Point(1, 6).dot(Point(-0.5, -3))', ['Point(1...</td>\n",
       "      <td>\\left [ - \\frac{37}{2}, \\quad \\left [ \\sqrt{37...</td>\n",
       "      <td>Respecto de una base ortonormal tenemos dos ve...</td>\n",
       "      <td>1BC</td>\n",
       "      <td>22 - Producto Escalar</td>\n",
       "      <td>p036e14</td>\n",
       "      <td>1</td>\n",
       "      <td>2</td>\n",
       "      <td>1</td>\n",
       "      <td>True</td>\n",
       "      <td>True</td>\n",
       "    </tr>\n",
       "  </tbody>\n",
       "</table>\n",
       "</div>"
      ],
      "text/plain": [
       "                                      enunciado_latex  \\\n",
       "16  \\overrightarrow{u}=\\left ( 3, \\quad 2\\right ) ...   \n",
       "17  \\overrightarrow{u}=\\left ( 1, \\quad 6\\right ) ...   \n",
       "\n",
       "                                            enunciado  \\\n",
       "16  ['Point(3, 2).dot(Point(1, -5))', ['Point(3, 2...   \n",
       "17  ['Point(1, 6).dot(Point(-0.5, -3))', ['Point(1...   \n",
       "\n",
       "                                             solucion  \\\n",
       "16  \\left [ -7, \\quad \\left [ \\sqrt{13}, \\quad \\sq...   \n",
       "17  \\left [ - \\frac{37}{2}, \\quad \\left [ \\sqrt{37...   \n",
       "\n",
       "                                                texto curso  \\\n",
       "16  Respecto de una base ortonormal tenemos dos ve...   1BC   \n",
       "17  Respecto de una base ortonormal tenemos dos ve...   1BC   \n",
       "\n",
       "                   titulo n_ejercicio  dificultad  n_columnas  puntos  \\\n",
       "16  22 - Producto Escalar     p036e14           1           2       1   \n",
       "17  22 - Producto Escalar     p036e14           1           2       1   \n",
       "\n",
       "    enun_tex  sol_tex  \n",
       "16      True     True  \n",
       "17      True     True  "
      ]
     },
     "metadata": {},
     "output_type": "display_data"
    },
    {
     "data": {
      "text/markdown": [
       "**Ejercicio: **p036e15"
      ],
      "text/plain": [
       "<IPython.core.display.Markdown object>"
      ]
     },
     "metadata": {},
     "output_type": "display_data"
    },
    {
     "data": {
      "text/html": [
       "<div>\n",
       "<style scoped>\n",
       "    .dataframe tbody tr th:only-of-type {\n",
       "        vertical-align: middle;\n",
       "    }\n",
       "\n",
       "    .dataframe tbody tr th {\n",
       "        vertical-align: top;\n",
       "    }\n",
       "\n",
       "    .dataframe thead th {\n",
       "        text-align: right;\n",
       "    }\n",
       "</style>\n",
       "<table border=\"1\" class=\"dataframe\">\n",
       "  <thead>\n",
       "    <tr style=\"text-align: right;\">\n",
       "      <th></th>\n",
       "      <th>enunciado_latex</th>\n",
       "      <th>enunciado</th>\n",
       "      <th>solucion</th>\n",
       "      <th>texto</th>\n",
       "      <th>curso</th>\n",
       "      <th>titulo</th>\n",
       "      <th>n_ejercicio</th>\n",
       "      <th>dificultad</th>\n",
       "      <th>n_columnas</th>\n",
       "      <th>puntos</th>\n",
       "      <th>enun_tex</th>\n",
       "      <th>sol_tex</th>\n",
       "    </tr>\n",
       "  </thead>\n",
       "  <tbody>\n",
       "    <tr>\n",
       "      <th>18</th>\n",
       "      <td>\\overrightarrow{u}=(3, x) \\, \\ \\overrightarrow...</td>\n",
       "      <td>Eq(sqrt(29)*(2*x + 15)/(29*sqrt(x**2 + 9)), 1/2)</td>\n",
       "      <td>\\left [ \\frac{120}{13} + \\frac{87 \\sqrt{3}}{13...</td>\n",
       "      <td>Calcula x para que los vectores\\n$\\overrightar...</td>\n",
       "      <td>1BC</td>\n",
       "      <td>22 - Producto Escalar</td>\n",
       "      <td>p036e15</td>\n",
       "      <td>1</td>\n",
       "      <td>2</td>\n",
       "      <td>1</td>\n",
       "      <td>True</td>\n",
       "      <td>True</td>\n",
       "    </tr>\n",
       "    <tr>\n",
       "      <th>19</th>\n",
       "      <td>\\overrightarrow{u}=(2, x) \\, \\ \\overrightarrow...</td>\n",
       "      <td>Eq(sqrt(10)*(x + 6)/(10*sqrt(x**2 + 4)), 1/2)</td>\n",
       "      <td>\\left [ 4 + \\frac{10 \\sqrt{3}}{3}, \\quad - \\fr...</td>\n",
       "      <td>Calcula x para que los vectores\\n$\\overrightar...</td>\n",
       "      <td>1BC</td>\n",
       "      <td>22 - Producto Escalar</td>\n",
       "      <td>p036e15</td>\n",
       "      <td>1</td>\n",
       "      <td>2</td>\n",
       "      <td>1</td>\n",
       "      <td>True</td>\n",
       "      <td>True</td>\n",
       "    </tr>\n",
       "    <tr>\n",
       "      <th>20</th>\n",
       "      <td>\\overrightarrow{u}=(1, 0) \\, \\ \\overrightarrow...</td>\n",
       "      <td>Eq(1/sqrt(x**2 + 1), 1/2)</td>\n",
       "      <td>\\left [ - \\sqrt{3}, \\quad \\sqrt{3}\\right ]</td>\n",
       "      <td>Calcula x para que los vectores\\n$\\overrightar...</td>\n",
       "      <td>1BC</td>\n",
       "      <td>22 - Producto Escalar</td>\n",
       "      <td>p036e15</td>\n",
       "      <td>1</td>\n",
       "      <td>2</td>\n",
       "      <td>1</td>\n",
       "      <td>True</td>\n",
       "      <td>True</td>\n",
       "    </tr>\n",
       "  </tbody>\n",
       "</table>\n",
       "</div>"
      ],
      "text/plain": [
       "                                      enunciado_latex  \\\n",
       "18  \\overrightarrow{u}=(3, x) \\, \\ \\overrightarrow...   \n",
       "19  \\overrightarrow{u}=(2, x) \\, \\ \\overrightarrow...   \n",
       "20  \\overrightarrow{u}=(1, 0) \\, \\ \\overrightarrow...   \n",
       "\n",
       "                                           enunciado  \\\n",
       "18  Eq(sqrt(29)*(2*x + 15)/(29*sqrt(x**2 + 9)), 1/2)   \n",
       "19     Eq(sqrt(10)*(x + 6)/(10*sqrt(x**2 + 4)), 1/2)   \n",
       "20                         Eq(1/sqrt(x**2 + 1), 1/2)   \n",
       "\n",
       "                                             solucion  \\\n",
       "18  \\left [ \\frac{120}{13} + \\frac{87 \\sqrt{3}}{13...   \n",
       "19  \\left [ 4 + \\frac{10 \\sqrt{3}}{3}, \\quad - \\fr...   \n",
       "20         \\left [ - \\sqrt{3}, \\quad \\sqrt{3}\\right ]   \n",
       "\n",
       "                                                texto curso  \\\n",
       "18  Calcula x para que los vectores\\n$\\overrightar...   1BC   \n",
       "19  Calcula x para que los vectores\\n$\\overrightar...   1BC   \n",
       "20  Calcula x para que los vectores\\n$\\overrightar...   1BC   \n",
       "\n",
       "                   titulo n_ejercicio  dificultad  n_columnas  puntos  \\\n",
       "18  22 - Producto Escalar     p036e15           1           2       1   \n",
       "19  22 - Producto Escalar     p036e15           1           2       1   \n",
       "20  22 - Producto Escalar     p036e15           1           2       1   \n",
       "\n",
       "    enun_tex  sol_tex  \n",
       "18      True     True  \n",
       "19      True     True  \n",
       "20      True     True  "
      ]
     },
     "metadata": {},
     "output_type": "display_data"
    },
    {
     "data": {
      "text/markdown": [
       "**Ejercicio: **p036e16"
      ],
      "text/plain": [
       "<IPython.core.display.Markdown object>"
      ]
     },
     "metadata": {},
     "output_type": "display_data"
    },
    {
     "data": {
      "text/html": [
       "<div>\n",
       "<style scoped>\n",
       "    .dataframe tbody tr th:only-of-type {\n",
       "        vertical-align: middle;\n",
       "    }\n",
       "\n",
       "    .dataframe tbody tr th {\n",
       "        vertical-align: top;\n",
       "    }\n",
       "\n",
       "    .dataframe thead th {\n",
       "        text-align: right;\n",
       "    }\n",
       "</style>\n",
       "<table border=\"1\" class=\"dataframe\">\n",
       "  <thead>\n",
       "    <tr style=\"text-align: right;\">\n",
       "      <th></th>\n",
       "      <th>enunciado_latex</th>\n",
       "      <th>enunciado</th>\n",
       "      <th>solucion</th>\n",
       "      <th>texto</th>\n",
       "      <th>curso</th>\n",
       "      <th>titulo</th>\n",
       "      <th>n_ejercicio</th>\n",
       "      <th>dificultad</th>\n",
       "      <th>n_columnas</th>\n",
       "      <th>puntos</th>\n",
       "      <th>enun_tex</th>\n",
       "      <th>sol_tex</th>\n",
       "    </tr>\n",
       "  </thead>\n",
       "  <tbody>\n",
       "    <tr>\n",
       "      <th>21</th>\n",
       "      <td>\\overrightarrow{v}=(2, 4)</td>\n",
       "      <td>[Eq(sqrt(5)*(2*x + 4*y)/(10*sqrt(x**2 + y**2))...</td>\n",
       "      <td>\\left [ \\left \\{ x : - \\sqrt{- 4 \\sqrt{3} + 13...</td>\n",
       "      <td>Halla las coordenadas de un cierto vector\\n$\\o...</td>\n",
       "      <td>1BC</td>\n",
       "      <td>22 - Producto Escalar</td>\n",
       "      <td>p036e16</td>\n",
       "      <td>1</td>\n",
       "      <td>1</td>\n",
       "      <td>1</td>\n",
       "      <td>True</td>\n",
       "      <td>True</td>\n",
       "    </tr>\n",
       "    <tr>\n",
       "      <th>22</th>\n",
       "      <td>\\overrightarrow{v}=(2, 3)</td>\n",
       "      <td>[Eq(sqrt(13)*(2*x + 3*y)/(13*sqrt(x**2 + y**2)...</td>\n",
       "      <td>\\left [ \\left \\{ x : - \\frac{\\sqrt{- 12 \\sqrt{...</td>\n",
       "      <td>Halla las coordenadas de un cierto vector\\n$\\o...</td>\n",
       "      <td>1BC</td>\n",
       "      <td>22 - Producto Escalar</td>\n",
       "      <td>p036e16</td>\n",
       "      <td>1</td>\n",
       "      <td>1</td>\n",
       "      <td>1</td>\n",
       "      <td>True</td>\n",
       "      <td>True</td>\n",
       "    </tr>\n",
       "    <tr>\n",
       "      <th>23</th>\n",
       "      <td>\\overrightarrow{v}=(1, 0)</td>\n",
       "      <td>[Eq(x/sqrt(x**2 + y**2), 1/2), Eq(sqrt(x**2 + ...</td>\n",
       "      <td>\\left [ \\left \\{ x : \\frac{1}{2}, \\quad y : - ...</td>\n",
       "      <td>Halla las coordenadas de un cierto vector\\n$\\o...</td>\n",
       "      <td>1BC</td>\n",
       "      <td>22 - Producto Escalar</td>\n",
       "      <td>p036e16</td>\n",
       "      <td>1</td>\n",
       "      <td>1</td>\n",
       "      <td>1</td>\n",
       "      <td>True</td>\n",
       "      <td>True</td>\n",
       "    </tr>\n",
       "  </tbody>\n",
       "</table>\n",
       "</div>"
      ],
      "text/plain": [
       "              enunciado_latex  \\\n",
       "21  \\overrightarrow{v}=(2, 4)   \n",
       "22  \\overrightarrow{v}=(2, 3)   \n",
       "23  \\overrightarrow{v}=(1, 0)   \n",
       "\n",
       "                                            enunciado  \\\n",
       "21  [Eq(sqrt(5)*(2*x + 4*y)/(10*sqrt(x**2 + y**2))...   \n",
       "22  [Eq(sqrt(13)*(2*x + 3*y)/(13*sqrt(x**2 + y**2)...   \n",
       "23  [Eq(x/sqrt(x**2 + y**2), 1/2), Eq(sqrt(x**2 + ...   \n",
       "\n",
       "                                             solucion  \\\n",
       "21  \\left [ \\left \\{ x : - \\sqrt{- 4 \\sqrt{3} + 13...   \n",
       "22  \\left [ \\left \\{ x : - \\frac{\\sqrt{- 12 \\sqrt{...   \n",
       "23  \\left [ \\left \\{ x : \\frac{1}{2}, \\quad y : - ...   \n",
       "\n",
       "                                                texto curso  \\\n",
       "21  Halla las coordenadas de un cierto vector\\n$\\o...   1BC   \n",
       "22  Halla las coordenadas de un cierto vector\\n$\\o...   1BC   \n",
       "23  Halla las coordenadas de un cierto vector\\n$\\o...   1BC   \n",
       "\n",
       "                   titulo n_ejercicio  dificultad  n_columnas  puntos  \\\n",
       "21  22 - Producto Escalar     p036e16           1           1       1   \n",
       "22  22 - Producto Escalar     p036e16           1           1       1   \n",
       "23  22 - Producto Escalar     p036e16           1           1       1   \n",
       "\n",
       "    enun_tex  sol_tex  \n",
       "21      True     True  \n",
       "22      True     True  \n",
       "23      True     True  "
      ]
     },
     "metadata": {},
     "output_type": "display_data"
    }
   ],
   "source": [
    "escribir_preambulo(fichero, titulo, 'ejercicios')\n",
    "for s in df_ejercicios.groupby('n_ejercicio').count().index : \n",
    "    display(md(\"**Ejercicio: **\" + s ))\n",
    "    display(df_ejercicios[df_ejercicios.n_ejercicio == s])\n",
    "    escribir_ejercicios(df_ejercicios[df_ejercicios.n_ejercicio == s],fichero)\n",
    "\n",
    "escribir_fin(fichero)"
   ]
  }
 ],
 "metadata": {
  "kernelspec": {
   "display_name": "Python 3",
   "language": "python",
   "name": "python3"
  },
  "language_info": {
   "codemirror_mode": {
    "name": "ipython",
    "version": 3
   },
   "file_extension": ".py",
   "mimetype": "text/x-python",
   "name": "python",
   "nbconvert_exporter": "python",
   "pygments_lexer": "ipython3",
   "version": "3.6.5"
  }
 },
 "nbformat": 4,
 "nbformat_minor": 2
}
