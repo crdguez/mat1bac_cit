{
 "cells": [
  {
   "cell_type": "code",
   "execution_count": 20,
   "metadata": {},
   "outputs": [
    {
     "name": "stdout",
     "output_type": "stream",
     "text": [
      "IPython console for SymPy 1.2 (Python 3.6.5-64-bit) (ground types: gmpy)\n",
      "\n",
      "These commands were executed:\n",
      ">>> from __future__ import division\n",
      ">>> from sympy import *\n",
      ">>> x, y, z, t = symbols('x y z t')\n",
      ">>> k, m, n = symbols('k m n', integer=True)\n",
      ">>> f, g, h = symbols('f g h', cls=Function)\n",
      ">>> init_printing()\n",
      "\n",
      "Documentation can be found at http://docs.sympy.org/1.2/\n",
      "\n"
     ]
    }
   ],
   "source": [
    "from sympy import init_session\n",
    "from sympy.parsing.latex import parse_latex\n",
    "from sympy.parsing.sympy_parser import parse_expr\n",
    "from IPython.display import Markdown as md\n",
    "from IPython.display import display\n",
    "\n",
    "init_session()"
   ]
  },
  {
   "cell_type": "markdown",
   "metadata": {},
   "source": [
    "## Ejercicio\n",
    "\n",
    "Simplifica los cocientes entre factoriales:\n",
    " - $\\frac{7!}{6!}$\n",
    " - $\\frac{{8!}}{{9!}}$\t\n",
    " - $\\frac{{9!}}{{5!.4!}}$\t\t\n",
    " - $\\frac{{m!}}{{(m - 1)!}}$\t\t\n",
    " - $\\frac{{\\left( {m + 1} \\right)!}}{{\\left( {m - 1} \\right)!}}$"
   ]
  },
  {
   "cell_type": "code",
   "execution_count": 60,
   "metadata": {},
   "outputs": [
    {
     "data": {
      "text/plain": [
       "['\\\\frac{7!}{6!}',\n",
       " '\\\\frac{{8!}}{{9!}}',\n",
       " '\\\\frac{{9!}}{{5!\\\\cdot 4!}}',\n",
       " '\\\\frac{{m!}}{{(m - 1)!}}',\n",
       " '\\\\frac{{( {m + 1} )!}}{{( {m - 1} )!}}']"
      ]
     },
     "execution_count": 60,
     "metadata": {},
     "output_type": "execute_result"
    }
   ],
   "source": [
    "enunciado = list([r'\\frac{7!}{6!}',r'\\frac{{8!}}{{9!}}',r'\\frac{{9!}}{{5!\\cdot 4!}}',r'\\frac{{m!}}{{(m - 1)!}}', r'\\frac{{( {m + 1} )!}}{{( {m - 1} )!}}'])\n",
    "enunciado"
   ]
  },
  {
   "cell_type": "code",
   "execution_count": 61,
   "metadata": {},
   "outputs": [
    {
     "data": {
      "image/png": "[encoded data removed]",
      "text/latex": [
       "$$\\left [ \\frac{7!}{6!}, \\quad \\frac{8!}{9!}, \\quad \\frac{9!}{4! 5!}, \\quad \\frac{m!}{\\left(m - 1\\right)!}, \\quad \\frac{\\left(m + 1\\right)!}{\\left(m - 1\\right)!}\\right ]$$"
      ],
      "text/plain": [
       "⎡7!  8!    9!      m!     (m + 1)!⎤\n",
       "⎢──, ──, ─────, ────────, ────────⎥\n",
       "⎣6!  9!  4!⋅5!  (m - 1)!  (m - 1)!⎦"
      ]
     },
     "execution_count": 61,
     "metadata": {},
     "output_type": "execute_result"
    }
   ],
   "source": [
    "enunciado = list([r'\\frac{7!}{6!}',r'\\frac{{8!}}{{9!}}',r'\\frac{{9!}}{{5!\\cdot 4!}}',r'\\frac{{m!}}{{(m - 1)!}}', r'\\frac{{( {m + 1} )!}}{{( {m - 1} )!}}'])\n",
    "enunciado_sympy=[]\n",
    "for i in enunciado : \n",
    "    enunciado_sympy.append(parse_latex(i)); \n",
    "    \n",
    "enunciado_sympy"
   ]
  },
  {
   "cell_type": "code",
   "execution_count": 62,
   "metadata": {},
   "outputs": [
    {
     "data": {
      "text/markdown": [
       "$\\frac{7!}{6!}  \\rightarrow   7$"
      ],
      "text/plain": [
       "<IPython.core.display.Markdown object>"
      ]
     },
     "metadata": {},
     "output_type": "display_data"
    },
    {
     "data": {
      "text/markdown": [
       "$\\frac{{8!}}{{9!}}  \\rightarrow   \\frac{1}{9}$"
      ],
      "text/plain": [
       "<IPython.core.display.Markdown object>"
      ]
     },
     "metadata": {},
     "output_type": "display_data"
    },
    {
     "data": {
      "text/markdown": [
       "$\\frac{{9!}}{{5!\\cdot 4!}}  \\rightarrow   126$"
      ],
      "text/plain": [
       "<IPython.core.display.Markdown object>"
      ]
     },
     "metadata": {},
     "output_type": "display_data"
    },
    {
     "data": {
      "text/markdown": [
       "$\\frac{{m!}}{{(m - 1)!}}  \\rightarrow   m$"
      ],
      "text/plain": [
       "<IPython.core.display.Markdown object>"
      ]
     },
     "metadata": {},
     "output_type": "display_data"
    },
    {
     "data": {
      "text/markdown": [
       "$\\frac{{( {m + 1} )!}}{{( {m - 1} )!}}  \\rightarrow   m \\left(m + 1\\right)$"
      ],
      "text/plain": [
       "<IPython.core.display.Markdown object>"
      ]
     },
     "metadata": {},
     "output_type": "display_data"
    }
   ],
   "source": [
    "for i in range(len(enunciado_sympy)) : \n",
    "    display(md(\"$\"+enunciado[i]+\"  \\\\rightarrow   \"+latex(simplify(enunciado_sympy[i]))+\"$\"))\n",
    "    "
   ]
  },
  {
   "cell_type": "markdown",
   "metadata": {},
   "source": [
    "## Ejercicio\n",
    "\n",
    "Calcula las siguientes operaciones:\n",
    "- $\\binom{252}{250}$\t\n",
    "- $\\binom{25}{3} + \\binom{25}{4} = \\binom{26}{4}$\n",
    "- $\\binom{9}{6} + \\binom{9}{7} + \\binom{10}{2}=\\binom{10}{7}+\\binom{10}{8}=\\binom{11}{8}$\n",
    "- $\\binom{4}{2} + \\binom{4}{3} + \\binom{5}{4}+\\binom{6}{5} + \\binom{7}{6} + \\binom{8}{7}=\\binom{9}{7}$\n",
    "- $\\binom{4}{0} + \\binom{4}{1} + \\binom{4}{2}+\\binom{4}{3} = 2^4-1$\n",
    "\n",
    " \\endmatrix } \\right)\\, + \\,\\left( {\\matrix\n",
    "   {25}  \\\\ \n",
    "   4  \\\\ \n",
    "\n",
    " \\endmatrix } \\right)$$\tiii) $$\\left( {\\matrix\n",
    "   9  \\\\ \n",
    "   6  \\\\ \n",
    "\n",
    " \\endmatrix } \\right)\\, + \\,\\left( {\\matrix\n",
    "   9  \\\\ \n",
    "   7  \\\\ \n",
    "\n",
    " \\endmatrix } \\right)\\, + \\,\\left( {\\matrix\n",
    "   {10}  \\\\ \n",
    "   2  \\\\ \n",
    "\n",
    " \\endmatrix } \\right)$$\n",
    "\n",
    "iv) $$\\left( {\\matrix\n",
    "   4  \\\\ \n",
    "   2  \\\\ \n",
    "\n",
    " \\endmatrix } \\right)\\, + \\,\\left( {\\matrix\n",
    "   4  \\\\ \n",
    "   3  \\\\ \n",
    "\n",
    " \\endmatrix } \\right)\\, + \\,\\left( {\\matrix\n",
    "   5  \\\\ \n",
    "   4  \\\\ \n",
    "\n",
    " \\endmatrix } \\right)\\, + \\,\\left( {\\matrix\n",
    "   6  \\\\ \n",
    "   5  \\\\ \n",
    "\n",
    " \\endmatrix } \\right)\\, + \\,\\left( {\\matrix\n",
    "   7  \\\\ \n",
    "   6  \\\\ \n",
    "\n",
    " \\endmatrix } \\right)\\, + \\,\\left( {\\matrix\n",
    "   8  \\\\ \n",
    "   7  \\\\ \n",
    "\n",
    " \\endmatrix } \\right)$$\tv) $$\\left( {\\matrix\n",
    "   4  \\\\ \n",
    "   0  \\\\ \n",
    "\n",
    " \\endmatrix } \\right)\\, + \\,\\left( {\\matrix\n",
    "   4  \\\\ \n",
    "   1  \\\\ \n",
    "\n",
    " \\endmatrix } \\right)\\, + \\,\\left( {\\matrix\n",
    "   4  \\\\ \n",
    "   2  \\\\ \n",
    "\n",
    " \\endmatrix } \\right)\\, + \\,\\left( {\\matrix\n",
    "   4  \\\\ \n",
    "   3  \\\\ \n",
    "\n",
    " \\endmatrix } \\right)$$\n"
   ]
  },
  {
   "cell_type": "code",
   "execution_count": 12,
   "metadata": {},
   "outputs": [],
   "source": [
    "from sympy.functions.combinatorial.numbers import nC, nP, nT"
   ]
  },
  {
   "cell_type": "code",
   "execution_count": 37,
   "metadata": {},
   "outputs": [
    {
     "data": {
      "image/png": "[encoded data removed]",
      "text/latex": [
       "$$10$$"
      ],
      "text/plain": [
       "10"
      ]
     },
     "execution_count": 37,
     "metadata": {},
     "output_type": "execute_result"
    }
   ],
   "source": [
    "nC(5,3)"
   ]
  },
  {
   "cell_type": "code",
   "execution_count": 58,
   "metadata": {},
   "outputs": [
    {
     "data": {
      "image/png": "[encoded data removed]",
      "text/latex": [
       "$$\\operatorname{nC}{\\left (5,3 \\right )}$$"
      ],
      "text/plain": [
       "nC(5, 3)"
      ]
     },
     "metadata": {},
     "output_type": "display_data"
    }
   ],
   "source": [
    "from sympy import *\n",
    "expr = sympify(\"nC(5,3)\")\n",
    "display(expr.expand())"
   ]
  },
  {
   "cell_type": "code",
   "execution_count": 14,
   "metadata": {},
   "outputs": [],
   "source": [
    "enunciado = [[252,250], [25,3], [25,4]]"
   ]
  },
  {
   "cell_type": "code",
   "execution_count": 17,
   "metadata": {},
   "outputs": [
    {
     "data": {
      "image/png": "[encoded data removed]",
      "text/latex": [
       "$$31626$$"
      ],
      "text/plain": [
       "31626"
      ]
     },
     "metadata": {},
     "output_type": "display_data"
    },
    {
     "data": {
      "image/png": "[encoded data removed]",
      "text/latex": [
       "$$2300$$"
      ],
      "text/plain": [
       "2300"
      ]
     },
     "metadata": {},
     "output_type": "display_data"
    },
    {
     "data": {
      "image/png": "[encoded data removed]",
      "text/latex": [
       "$$12650$$"
      ],
      "text/plain": [
       "12650"
      ]
     },
     "metadata": {},
     "output_type": "display_data"
    }
   ],
   "source": [
    "for i in range(len(enunciado)):\n",
    "    display(nC(enunciado[i][0],enunciado[i][1]))"
   ]
  },
  {
   "cell_type": "code",
   "execution_count": 10,
   "metadata": {},
   "outputs": [
    {
     "data": {
      "image/png": "[encoded data removed]",
      "text/latex": [
       "$$31626$$"
      ],
      "text/plain": [
       "31626"
      ]
     },
     "execution_count": 10,
     "metadata": {},
     "output_type": "execute_result"
    }
   ],
   "source": [
    "nC(enunciado[0][0],enunciado[0][1])"
   ]
  },
  {
   "cell_type": "code",
   "execution_count": 13,
   "metadata": {},
   "outputs": [
    {
     "data": {
      "image/png": "[encoded data removed]",
      "text/latex": [
       "$$31626$$"
      ],
      "text/plain": [
       "31626"
      ]
     },
     "execution_count": 13,
     "metadata": {},
     "output_type": "execute_result"
    }
   ],
   "source": [
    "factorial(252)/(factorial(250)*factorial(2))"
   ]
  }
 ],
 "metadata": {
  "kernelspec": {
   "display_name": "Python 3",
   "language": "python",
   "name": "python3"
  },
  "language_info": {
   "codemirror_mode": {
    "name": "ipython",
    "version": 3
   },
   "file_extension": ".py",
   "mimetype": "text/x-python",
   "name": "python",
   "nbconvert_exporter": "python",
   "pygments_lexer": "ipython3",
   "version": "3.6.5"
  }
 },
 "nbformat": 4,
 "nbformat_minor": 2
}
