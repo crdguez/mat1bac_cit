{
 "cells": [
  {
   "cell_type": "code",
   "execution_count": 1,
   "metadata": {},
   "outputs": [
    {
     "name": "stdout",
     "output_type": "stream",
     "text": [
      "IPython console for SymPy 1.2 (Python 3.6.5-64-bit) (ground types: gmpy)\n",
      "\n",
      "These commands were executed:\n",
      ">>> from __future__ import division\n",
      ">>> from sympy import *\n",
      ">>> x, y, z, t = symbols('x y z t')\n",
      ">>> k, m, n = symbols('k m n', integer=True)\n",
      ">>> f, g, h = symbols('f g h', cls=Function)\n",
      ">>> init_printing()\n",
      "\n",
      "Documentation can be found at http://docs.sympy.org/1.2/\n",
      "\n"
     ]
    }
   ],
   "source": [
    "from sympy import init_session\n",
    "from sympy import div, QQ\n",
    "from sympy.parsing.latex import parse_latex\n",
    "from sympy.parsing.sympy_parser import parse_expr\n",
    "from IPython.display import Markdown as md\n",
    "from IPython.display import display\n",
    "import numpy as np\n",
    "import pandas as pd\n",
    "    \n",
    "from sympy.geometry import Point, Line, Triangle\n",
    "from sympy.vector import CoordSys3D, vector\n",
    "\n",
    "\n",
    "init_session()\n",
    "\n",
    "a, b, c, d = symbols('a b c d', real = True)\n",
    "from docparts import añadir_ejercicios, doc_ejer, escribir_preambulo, escribir_ejercicios, escribir_fin\n",
    "\n",
    "df_ejercicios = pd.DataFrame()\n",
    "\n",
    "fichero = 'geopla'\n",
    "titulo = '25 - Geometría Plana'\n",
    "curso = '1BC'\n",
    "\n",
    "\n",
    "x,y = symbols('x, y', real=True)\n"
   ]
  },
  {
   "cell_type": "code",
   "execution_count": 2,
   "metadata": {},
   "outputs": [],
   "source": [
    "def Linea(expr) :\n",
    "    eq = eval(str(parse_latex(expr)))\n",
    "    p1 = Point(0,nsimplify(solve(Eq(eq.args[0].subs(x,0),eq.args[1].subs(x,0)),y)[0]))\n",
    "    p2 = Point(1,nsimplify(solve(Eq(eq.args[0].subs(x,1),eq.args[1].subs(x,1)),y)[0]))\n",
    "    \n",
    "    return Line(p1,p2)\n",
    "    #return [p1,p2]"
   ]
  },
  {
   "cell_type": "code",
   "execution_count": 3,
   "metadata": {},
   "outputs": [
    {
     "data": {
      "image/png": "[encoded data removed]",
      "text/latex": [
       "$$\\left ( \\mathbf{\\hat{i}_{N}}, \\quad \\mathbf{\\hat{j}_{N}}, \\quad \\mathbf{\\hat{k}_{N}}\\right )$$"
      ],
      "text/plain": [
       "(N_i, N_j, N_k)"
      ]
     },
     "metadata": {},
     "output_type": "display_data"
    },
    {
     "data": {
      "image/png": "[encoded data removed]",
      "text/latex": [
       "$$\\mathbf{\\hat{i}_{N}} + (2)\\mathbf{\\hat{j}_{N}}$$"
      ],
      "text/plain": [
       "N.i + 2*N.j"
      ]
     },
     "execution_count": 3,
     "metadata": {},
     "output_type": "execute_result"
    }
   ],
   "source": [
    "N = CoordSys3D('N') #instanciamos un sistema de coordenadas en R3\n",
    "\n",
    "i, j, k = N.base_vectors()\n",
    "\n",
    "display(N.base_vectors())\n",
    "v = [1,2,0]\n",
    "base = [i,j,k]\n",
    "u=(np.array(v)*np.array(base)).sum()\n",
    "type(u)\n",
    "u.components\n",
    "u\n"
   ]
  },
  {
   "cell_type": "code",
   "execution_count": 4,
   "metadata": {},
   "outputs": [
    {
     "name": "stdout",
     "output_type": "stream",
     "text": [
      "\\mathbf{\\hat{i}_{N}} + (2)\\mathbf{\\hat{j}_{N}}\n"
     ]
    },
    {
     "data": {
      "image/png": "[encoded data removed]",
      "text/latex": [
       "$$\\mathbf{\\hat{i}_{N}} + (2)\\mathbf{\\hat{j}_{N}}$$"
      ],
      "text/plain": [
       "N.i + 2*N.j"
      ]
     },
     "execution_count": 4,
     "metadata": {},
     "output_type": "execute_result"
    }
   ],
   "source": [
    "w=i+2*j\n",
    "print(latex(w))\n",
    "w"
   ]
  },
  {
   "cell_type": "code",
   "execution_count": 5,
   "metadata": {},
   "outputs": [],
   "source": [
    "N = CoordSys3D('N') #instanciamos un sistema de coordenadas en R3\n",
    "\n",
    "i, j, k = N.base_vectors()\n"
   ]
  },
  {
   "cell_type": "code",
   "execution_count": 6,
   "metadata": {},
   "outputs": [
    {
     "data": {
      "text/markdown": [
       "**Hallar las ecuaciones paramétricas, continua, general y explícita de la recta r \n",
       "determinada por:**"
      ],
      "text/plain": [
       "<IPython.core.display.Markdown object>"
      ]
     },
     "metadata": {},
     "output_type": "display_data"
    }
   ],
   "source": [
    "# Página 50 ejercicio 1\n",
    "\n",
    "texto_ejercicio = r\"\"\"Hallar las ecuaciones paramétricas, continua, general y explícita de la recta r \n",
    "determinada por:\"\"\"\n",
    "\n",
    "n_ejercicio = 'p050e01'\n",
    "\n",
    "display(md(\"**\"+texto_ejercicio+\"**\"))\n",
    "\n",
    "# vectores iniciales correspondientes al texto del enunciado\n",
    "\n",
    "pre_enunciado_latex = [[(-1,3),(2,5)],]\n",
    "\n",
    "enunciado_latex, enunciado, solucion = [],[],[]\n",
    "\n",
    "for i, s in enumerate(pre_enunciado_latex) : \n",
    "    enunciado_latex.append(r\"A{} \\ y \\overrightarrow\".format(s[0])+\"{u}=\"+r\"{}\".format(s[1]))\n",
    "    enunciado = str(s)\n",
    "    sol1, sol2 =Line(Point(s[0]),Point(s[0])+Point(s[1])).equation(), Line(Point(s[0]),Point(s[0])+Point(s[1])).arbitrary_point()\n",
    "    solucion.append(latex(Eq(sol1,0)) + \" \\ y \\ \" + latex(Eq(sol2,(x,y))))\n",
    "    \n",
    "\n",
    "df_ejercicios = df_ejercicios.append(añadir_ejercicios(enunciado_latex, enunciado, solucion, texto_ejercicio, curso, titulo , n_ejercicio, '1', '2', enun_tex=True), ignore_index=True)\n"
   ]
  },
  {
   "cell_type": "code",
   "execution_count": 7,
   "metadata": {},
   "outputs": [
    {
     "data": {
      "text/markdown": [
       "**Halla un vector direccional y un vector perpendicular a la recta:**"
      ],
      "text/plain": [
       "<IPython.core.display.Markdown object>"
      ]
     },
     "metadata": {},
     "output_type": "display_data"
    },
    {
     "data": {
      "text/markdown": [
       "$3x+2y+8=0 \\rightarrow \\left ( Point2D(1, -3/2), \\quad Point2D(3/2, 1)\\right )$"
      ],
      "text/plain": [
       "<IPython.core.display.Markdown object>"
      ]
     },
     "metadata": {},
     "output_type": "display_data"
    },
    {
     "data": {
      "text/markdown": [
       "$\\frac{x-1}{3}=\\frac{2-y}{1} \\rightarrow \\left ( Point2D(1, -1/3), \\quad Point2D(1/3, 1)\\right )$"
      ],
      "text/plain": [
       "<IPython.core.display.Markdown object>"
      ]
     },
     "metadata": {},
     "output_type": "display_data"
    },
    {
     "data": {
      "text/markdown": [
       "$y=5 \\rightarrow \\left ( Point2D(1, 0), \\quad Point2D(0, 1)\\right )$"
      ],
      "text/plain": [
       "<IPython.core.display.Markdown object>"
      ]
     },
     "metadata": {},
     "output_type": "display_data"
    }
   ],
   "source": [
    "# Página 50 ejercicio 2\n",
    "\n",
    "texto_ejercicio = r\"\"\"Halla un vector direccional y un vector perpendicular a la recta:\"\"\"\n",
    "\n",
    "n_ejercicio = 'p050e02'\n",
    "\n",
    "display(md(\"**\"+texto_ejercicio+\"**\"))\n",
    "\n",
    "# vectores iniciales correspondientes al texto del enunciado\n",
    "\n",
    "enunciado_latex = [\n",
    "                    r'3x+2y+8=0',\n",
    "                    r'\\frac{x-1}{3}=\\frac{2-y}{1}',\n",
    "                       r'y=5'\n",
    "                      ]\n",
    "\n",
    "enunciado, solucion = [],[]\n",
    "\n",
    "for i, s in enumerate(enunciado_latex) : \n",
    "    enunciado = str(parse_latex(s))\n",
    "    so=Linea(s).direction\n",
    "    solucion.append((so,so.orthogonal_direction))\n",
    "    display(md(\"$\"+ s +\" \\\\rightarrow \" + latex(solucion[i]) +\"$\"))\n",
    "\n",
    "df_ejercicios = df_ejercicios.append(añadir_ejercicios(enunciado_latex, enunciado, solucion, texto_ejercicio, curso, titulo , n_ejercicio, '1', '2', enun_tex=True), ignore_index=True)\n"
   ]
  },
  {
   "cell_type": "code",
   "execution_count": 8,
   "metadata": {},
   "outputs": [
    {
     "data": {
      "text/markdown": [
       "**Comprobar que es isósceles el triángulo de vértices:**"
      ],
      "text/plain": [
       "<IPython.core.display.Markdown object>"
      ]
     },
     "metadata": {},
     "output_type": "display_data"
    },
    {
     "data": {
      "text/markdown": [
       "$A=(2, 1), \\ B=(1, 2),\\  y \\ C=(3, 3) \\rightarrow \\mathrm{True}$"
      ],
      "text/plain": [
       "<IPython.core.display.Markdown object>"
      ]
     },
     "metadata": {},
     "output_type": "display_data"
    }
   ],
   "source": [
    "# Página 50 ejercicio 4\n",
    "\n",
    "texto_ejercicio = r\"\"\"Comprobar que es isósceles el triángulo de vértices:\"\"\"\n",
    "\n",
    "n_ejercicio = 'p050e04'\n",
    "\n",
    "display(md(\"**\"+texto_ejercicio+\"**\"))\n",
    "\n",
    "# vectores iniciales correspondientes al texto del enunciado\n",
    "\n",
    "pre_enunciado_latex = [\n",
    "                    [(2,1),(1,2),(3,3)],\n",
    "                      ]\n",
    "\n",
    "enunciado_latex, enunciado, solucion = [],[],[]\n",
    "\n",
    "for i, s in enumerate(pre_enunciado_latex) : \n",
    "    enunciado_latex.append(\"A=\"+str(s[0])+\", \\ B=\"+str(s[1])+\",\\  y \\ C=\"+str(s[2])+\"\")\n",
    "    enunciado = str(s)\n",
    "    pa, pb, pc = [Point(k) for k in s]\n",
    "    tr = Triangle(pa,pb,pc)\n",
    "    solucion.append(tr.is_isosceles())\n",
    "    display(md(\"$\"+ enunciado_latex[i] +\" \\\\rightarrow \" + latex(solucion[i]) +\"$\"))\n",
    "\n",
    "df_ejercicios = df_ejercicios.append(añadir_ejercicios(enunciado_latex, enunciado, solucion, texto_ejercicio, curso, titulo , n_ejercicio, '1', '2', enun_tex=True), ignore_index=True)\n"
   ]
  },
  {
   "cell_type": "code",
   "execution_count": 9,
   "metadata": {},
   "outputs": [
    {
     "data": {
      "text/markdown": [
       "**Determinar m con la condición de que disten 1 unidad los siguiente puntos**"
      ],
      "text/plain": [
       "<IPython.core.display.Markdown object>"
      ]
     },
     "metadata": {},
     "output_type": "display_data"
    },
    {
     "data": {
      "text/markdown": [
       "$A=(0, m)\\  y \\ B=(1, 2) \\rightarrow \\left [ 2\\right ]$"
      ],
      "text/plain": [
       "<IPython.core.display.Markdown object>"
      ]
     },
     "metadata": {},
     "output_type": "display_data"
    }
   ],
   "source": [
    "# Página 50 ejercicio 5\n",
    "\n",
    "texto_ejercicio = r\"\"\"Determinar m con la condición de que disten 1 unidad los siguiente puntos\"\"\"\n",
    "\n",
    "n_ejercicio = 'p050e05'\n",
    "\n",
    "display(md(\"**\"+texto_ejercicio+\"**\"))\n",
    "\n",
    "# vectores iniciales correspondientes al texto del enunciado\n",
    "\n",
    "pre_enunciado_latex = [\n",
    "                    [(0,m),(1,2)],\n",
    "                      ]\n",
    "\n",
    "enunciado_latex, enunciado, solucion = [],[],[]\n",
    "\n",
    "for i, s in enumerate(pre_enunciado_latex) : \n",
    "    enunciado_latex.append(\"A=\"+str(s[0])+\"\\  y \\ B=\"+str(s[1])+\"\")\n",
    "    enunciado = str(s)\n",
    "    pa, pb = [Point(k) for k in s]\n",
    "    solucion.append(solve(Eq(pa.distance(pb),1),m))\n",
    "    display(md(\"$\"+ enunciado_latex[i] +\" \\\\rightarrow \" + latex(solucion[i]) +\"$\"))\n",
    "\n",
    "df_ejercicios = df_ejercicios.append(añadir_ejercicios(enunciado_latex, enunciado, solucion, texto_ejercicio, curso, titulo , n_ejercicio, '1', '2', enun_tex=True), ignore_index=True)\n"
   ]
  },
  {
   "cell_type": "code",
   "execution_count": 10,
   "metadata": {},
   "outputs": [
    {
     "data": {
      "text/markdown": [
       "**Determinar el ángulo formado por las rectas:**"
      ],
      "text/plain": [
       "<IPython.core.display.Markdown object>"
      ]
     },
     "metadata": {},
     "output_type": "display_data"
    },
    {
     "data": {
      "text/markdown": [
       "$r\\equiv4x-y-1=0\\  y \\ s\\equiv2x+7y-6=0 \\rightarrow 91.90915243299638$"
      ],
      "text/plain": [
       "<IPython.core.display.Markdown object>"
      ]
     },
     "metadata": {},
     "output_type": "display_data"
    },
    {
     "data": {
      "text/markdown": [
       "$r\\equiv-x+2y+1=0\\  y \\ s\\equiv3x+y+5=0 \\rightarrow 98.13010235415598$"
      ],
      "text/plain": [
       "<IPython.core.display.Markdown object>"
      ]
     },
     "metadata": {},
     "output_type": "display_data"
    }
   ],
   "source": [
    "# Página 50 ejercicio 6\n",
    "\n",
    "texto_ejercicio = r\"\"\"Determinar el ángulo formado por las rectas:\"\"\"\n",
    "\n",
    "n_ejercicio = 'p050e06'\n",
    "\n",
    "display(md(\"**\"+texto_ejercicio+\"**\"))\n",
    "\n",
    "# vectores iniciales correspondientes al texto del enunciado\n",
    "\n",
    "pre_enunciado_latex = [\n",
    "                    [r'4x-y-1=0',r'2x+7y-6=0'],\n",
    "                    [r'-x+2y+1=0',r'3x+y+5=0'],\n",
    "                      ]\n",
    "\n",
    "enunciado_latex, enunciado, solucion = [],[],[]\n",
    "\n",
    "for i, s in enumerate(pre_enunciado_latex) : \n",
    "    enunciado_latex.append(\"r\\equiv\"+str(s[0])+\"\\  y \\ s\\equiv\"+str(s[1])+\"\")\n",
    "    enunciado = str(s)\n",
    "\n",
    "    solucion.append(float(deg(Linea(s[0]).angle_between(Linea(s[1])))))\n",
    "    display(md(\"$\"+ enunciado_latex[i] +\" \\\\rightarrow \" + latex(solucion[i]) +\"$\"))\n",
    "\n",
    "df_ejercicios = df_ejercicios.append(añadir_ejercicios(enunciado_latex, enunciado, solucion, texto_ejercicio, curso, titulo , n_ejercicio, '1', '2', enun_tex=True), ignore_index=True)\n"
   ]
  },
  {
   "cell_type": "code",
   "execution_count": 11,
   "metadata": {},
   "outputs": [
    {
     "data": {
      "text/markdown": [
       "**Hallar la recta r que:**"
      ],
      "text/plain": [
       "<IPython.core.display.Markdown object>"
      ]
     },
     "metadata": {},
     "output_type": "display_data"
    },
    {
     "data": {
      "text/markdown": [
       "$Pasa \\ por \\ A(1, -2)\\  y \\ forma \\ 120 \\ grados \\  con \\ s\\equiv y=0 \\rightarrow \\frac{\\sqrt{3} x}{2} + \\frac{y}{2} - \\frac{\\sqrt{3}}{2} + 1 = 0$"
      ],
      "text/plain": [
       "<IPython.core.display.Markdown object>"
      ]
     },
     "metadata": {},
     "output_type": "display_data"
    },
    {
     "data": {
      "text/markdown": [
       "$Pasa \\ por \\ A(2, 3)\\  y \\ forma \\ 45 \\ grados \\  con \\ s\\equiv 2x+y-1=0 \\rightarrow \\frac{\\sqrt{2} \\left(- x - 3 y + 11\\right)}{2} = 0$"
      ],
      "text/plain": [
       "<IPython.core.display.Markdown object>"
      ]
     },
     "metadata": {},
     "output_type": "display_data"
    },
    {
     "data": {
      "text/markdown": [
       "$Pasa \\ por \\ A(1, 2)\\  y \\ forma \\ 45 \\ grados \\  con \\ s\\equiv 2x+y-1=0 \\rightarrow \\frac{\\sqrt{2} \\left(- x - 3 y + 7\\right)}{2} = 0$"
      ],
      "text/plain": [
       "<IPython.core.display.Markdown object>"
      ]
     },
     "metadata": {},
     "output_type": "display_data"
    }
   ],
   "source": [
    "# Página 50 ejercicio 7 y 8 y 28\n",
    "\n",
    "texto_ejercicio = r\"\"\"Hallar la recta r que:\"\"\"\n",
    "\n",
    "n_ejercicio = 'p050e07,8y28'\n",
    "\n",
    "display(md(\"**\"+texto_ejercicio+\"**\"))\n",
    " \n",
    "# vectores iniciales correspondientes al texto del enunciado\n",
    "\n",
    "pre_enunciado_latex = [\n",
    "                    [(1,-2),r'y=0', 120],\n",
    "                    [(2,3),r'2x+y-1=0', 45],\n",
    "                    [(1,2),r'2x+y-1=0',45]\n",
    "                    \n",
    "                      ]\n",
    "\n",
    "enunciado_latex, enunciado, solucion = [],[],[]\n",
    "\n",
    "for i, s in enumerate(pre_enunciado_latex) : \n",
    "    enunciado_latex.append(\"Pasa \\ por \\ A\"+str(s[0])+\"\\  y \\ forma \\ \" +str(s[2])+ \" \\ grados \\  con \\ s\\equiv \"+str(s[1]))\n",
    "    enunciado = str(s)\n",
    "    Point(s[0])\n",
    "    A, B =Linea(s[1]).coefficients[:2]\n",
    "    solucion.append(latex(Eq(simplify(Line(Point(s[0]),Point(s[0])+Point(-B,A).rotate(rad(s[2]))).equation()),0)))\n",
    "    display(md(\"$\"+ enunciado_latex[i] +\" \\\\rightarrow \" + solucion[i] +\"$\"))\n",
    "\n",
    "# df_ejercicios = df_ejercicios.append(añadir_ejercicios(enunciado_latex, enunciado, solucion, texto_ejercicio, curso, titulo , n_ejercicio, '1', '2', enun_tex=True), ignore_index=True)\n"
   ]
  },
  {
   "cell_type": "code",
   "execution_count": 12,
   "metadata": {},
   "outputs": [
    {
     "data": {
      "text/markdown": [
       "**Hallar la recta r que:**"
      ],
      "text/plain": [
       "<IPython.core.display.Markdown object>"
      ]
     },
     "metadata": {},
     "output_type": "display_data"
    },
    {
     "data": {
      "text/markdown": [
       "$Pasa \\ por \\ A(2, 3)\\  y \\ forma \\ 45 \\ grados \\  con \\ s\\equiv 2x+y-1=0 \\rightarrow \\frac{x}{3} + y - \\frac{11}{3} = 0$"
      ],
      "text/plain": [
       "<IPython.core.display.Markdown object>"
      ]
     },
     "metadata": {},
     "output_type": "display_data"
    },
    {
     "data": {
      "text/markdown": [
       "$Pasa \\ por \\ A(1, 2)\\  y \\ forma \\ 45 \\ grados \\  con \\ s\\equiv 2x+y-1=0 \\rightarrow \\frac{x}{3} + y - \\frac{7}{3} = 0$"
      ],
      "text/plain": [
       "<IPython.core.display.Markdown object>"
      ]
     },
     "metadata": {},
     "output_type": "display_data"
    },
    {
     "data": {
      "text/markdown": [
       "$Pasa \\ por \\ A(1, -2)\\  y \\ forma \\ 120 \\ grados \\  con \\ s\\equiv y=0 \\rightarrow \\sqrt{3} x + y - \\sqrt{3} + 2 = 0$"
      ],
      "text/plain": [
       "<IPython.core.display.Markdown object>"
      ]
     },
     "metadata": {},
     "output_type": "display_data"
    }
   ],
   "source": [
    "# Página 50 ejercicio 7 y 8 y 28\n",
    "\n",
    "texto_ejercicio = r\"\"\"Hallar la recta r que:\"\"\"\n",
    "\n",
    "n_ejercicio = 'p050e07,8y28'\n",
    "\n",
    "display(md(\"**\"+texto_ejercicio+\"**\"))\n",
    " \n",
    "# vectores iniciales correspondientes al texto del enunciado\n",
    "\n",
    "pre_enunciado_latex = [\n",
    "                    [(2,3),r'2x+y-1=0', 45],\n",
    "                    [(1,2),r'2x+y-1=0',45],\n",
    "                    [(1,-2),r'y=0', 120],\n",
    "                    \n",
    "                      ]\n",
    "\n",
    "enunciado_latex, enunciado, solucion = [],[],[]\n",
    "\n",
    "for i, s in enumerate(pre_enunciado_latex) : \n",
    "    enunciado_latex.append(\"Pasa \\ por \\ A\"+str(s[0])+\"\\  y \\ forma \\ \" +str(s[2])+ \" \\ grados \\  con \\ s\\equiv \"+str(s[1]))\n",
    "    enunciado = str(s)\n",
    "    r, p, an = Linea(s[1]), Point(s[0]), rad(s[2])\n",
    "    u = r.direction\n",
    "    v = Point(1,x)\n",
    "    #display(r,p,an)\n",
    "    #u.dot(v), u.distance((0,0)), r.equation()\n",
    "    m = solve(abs(cos(an))-abs(u.dot(v))/(u.distance((0,0))*v.distance((0,0))))[0]\n",
    "\n",
    "    eq = Eq(Line(s[0],slope=m).equation(),0)\n",
    "    solucion.append(latex(eq))\n",
    "    display(md(\"$\"+ enunciado_latex[i] +\" \\\\rightarrow \" + solucion[i] +\"$\"))\n",
    "    \n",
    "    p1 = plot_implicit(Linea(s[1]).equation(),show=False)\n",
    "    p2 = plot_implicit(Line(s[0],slope=m).equation(),show=False)\n",
    "    p1.extend(p2)\n",
    "    p1.show()\n",
    "\n",
    "df_ejercicios = df_ejercicios.append(añadir_ejercicios(enunciado_latex, enunciado, solucion, texto_ejercicio, curso, titulo , n_ejercicio, '1', '2', enun_tex=True), ignore_index=True)\n"
   ]
  },
  {
   "cell_type": "code",
   "execution_count": 13,
   "metadata": {},
   "outputs": [
    {
     "data": {
      "text/markdown": [
       "**Calcula el vértice C de un triángulo isósceles ABC, sabiendo que:**"
      ],
      "text/plain": [
       "<IPython.core.display.Markdown object>"
      ]
     },
     "metadata": {},
     "output_type": "display_data"
    },
    {
     "data": {
      "text/markdown": [
       "$ A(4, 0)\\  , \\ B=(6, 2) \\ y \\  C \\in r\\equiv 3x+y-1=0 \\rightarrow \\left [ \\left \\{ x : - \\frac{5}{2}, \\quad y : \\frac{17}{2}\\right \\}\\right ]$"
      ],
      "text/plain": [
       "<IPython.core.display.Markdown object>"
      ]
     },
     "metadata": {},
     "output_type": "display_data"
    }
   ],
   "source": [
    "# Página 51 ejercicio 20\n",
    "\n",
    "texto_ejercicio = r\"\"\"Calcula el vértice C de un triángulo isósceles ABC, sabiendo que:\"\"\"\n",
    "\n",
    "n_ejercicio = 'p051e20'\n",
    "\n",
    "display(md(\"**\"+texto_ejercicio+\"**\"))\n",
    " \n",
    "# vectores iniciales correspondientes al texto del enunciado\n",
    "\n",
    "pre_enunciado_latex = [\n",
    "                    [(4,0),(6,2),r'3x+y-1=0'],                                   \n",
    "                      ]\n",
    "\n",
    "enunciado_latex, enunciado, solucion = [],[],[]\n",
    "\n",
    "for i, s in enumerate(pre_enunciado_latex) : \n",
    "    enunciado_latex.append(\" A\"+str(s[0])+\"\\  , \\ B=\" +str(s[1])+ \" \\ y \\  C \\in r\\equiv \"+str(s[2]))\n",
    "    enunciado = str(s)\n",
    "    r = Linea(s[2])\n",
    "\n",
    "    P = Point(x,y)\n",
    "\n",
    "    r.distance(Point(s[0]))\n",
    "\n",
    "    sol = solve([P.distance(s[0])-P.distance(s[1]),r.equation()])\n",
    "    solucion.append(latex(sol))\n",
    "    display(md(\"$\"+ enunciado_latex[i] +\" \\\\rightarrow \" + solucion[i] +\"$\"))\n",
    "    \n",
    "    #p1 = plot_implicit(Linea(s[1]).equation(),show=False)\n",
    "    #p2 = plot_implicit(Line(s[0],slope=m).equation(),show=False)\n",
    "    #p1.extend(p2)\n",
    "    #p1.show()\n",
    "\n",
    "df_ejercicios = df_ejercicios.append(añadir_ejercicios(enunciado_latex, enunciado, solucion, texto_ejercicio, curso, titulo , n_ejercicio, '1', '1', enun_tex=True), ignore_index=True)\n"
   ]
  },
  {
   "cell_type": "code",
   "execution_count": 14,
   "metadata": {},
   "outputs": [
    {
     "data": {
      "text/markdown": [
       "**Determinar el punto simétrico al punto y respecto de la recta siguientes:**"
      ],
      "text/plain": [
       "<IPython.core.display.Markdown object>"
      ]
     },
     "metadata": {},
     "output_type": "display_data"
    },
    {
     "data": {
      "text/markdown": [
       "$ A(2, 5) \\ y \\   r\\equiv 5x+y=2 \\rightarrow \\left [ - x + 5 y - 23, \\quad Point2D(-1/2, 9/2), \\quad Point2D(-3, 4)\\right ]$"
      ],
      "text/plain": [
       "<IPython.core.display.Markdown object>"
      ]
     },
     "metadata": {},
     "output_type": "display_data"
    }
   ],
   "source": [
    "# Página 51 ejercicio 21\n",
    "\n",
    "texto_ejercicio = r\"\"\"Determinar el punto simétrico al punto y respecto de la recta siguientes:\"\"\"\n",
    "\n",
    "n_ejercicio = 'p051e21'\n",
    "\n",
    "display(md(\"**\"+texto_ejercicio+\"**\"))\n",
    " \n",
    "# vectores iniciales correspondientes al texto del enunciado\n",
    "\n",
    "pre_enunciado_latex = [\n",
    "                  [(2,5),r'5x+y=2'],                                   \n",
    "                      ]\n",
    "\n",
    "enunciado_latex, enunciado, solucion = [],[],[]\n",
    "\n",
    "for i, s in enumerate(pre_enunciado_latex) : \n",
    "    enunciado_latex.append(\" A\"+str(s[0])+\" \\ y \\   r\\equiv \"+str(s[1]))\n",
    "    enunciado = str(s)\n",
    "    sol=[]\n",
    "    p = Point(s[0])\n",
    "    r1 = Linea(s[1])\n",
    "    sol.append(r1.perpendicular_line(p).equation())\n",
    "    dict = solve([r1.equation(),r1.perpendicular_line(p).equation()])\n",
    "    M = Point(list(dict.values()))\n",
    "    sol.append(M)\n",
    "    \n",
    "    sol.append(p.rotate(pi, M))\n",
    "    solucion.append(latex(sol))\n",
    "    display(md(\"$\"+ enunciado_latex[i] +\" \\\\rightarrow \" + solucion[i] +\"$\"))\n",
    "    \n",
    "    #p1 = plot_implicit(Linea(s[1]).equation(),show=False)\n",
    "    #p2 = plot_implicit(Line(s[0],slope=m).equation(),show=False)\n",
    "    #p1.extend(p2)\n",
    "    #p1.show()\n",
    "\n",
    "df_ejercicios = df_ejercicios.append(añadir_ejercicios(enunciado_latex, enunciado, solucion, texto_ejercicio, curso, titulo , n_ejercicio, '1', '1', enun_tex=True), ignore_index=True)\n"
   ]
  },
  {
   "cell_type": "code",
   "execution_count": 15,
   "metadata": {},
   "outputs": [
    {
     "data": {
      "text/markdown": [
       "**Hallar la ecuación de la recta paralela y que dista una unidad a la recta:**"
      ],
      "text/plain": [
       "<IPython.core.display.Markdown object>"
      ]
     },
     "metadata": {},
     "output_type": "display_data"
    },
    {
     "data": {
      "text/markdown": [
       "$r\\equiv 4x-3y=0 \\rightarrow \\frac{\\left|{4 x - 3 y}\\right|}{5} - 1 = 0$"
      ],
      "text/plain": [
       "<IPython.core.display.Markdown object>"
      ]
     },
     "metadata": {},
     "output_type": "display_data"
    }
   ],
   "source": [
    "# Página 51 ejercicio 23\n",
    "\n",
    "texto_ejercicio = r\"\"\"Hallar la ecuación de la recta paralela y que dista una unidad a la recta:\"\"\"\n",
    "\n",
    "n_ejercicio = 'p051e23'\n",
    "\n",
    "display(md(\"**\"+texto_ejercicio+\"**\"))\n",
    " \n",
    "# vectores iniciales correspondientes al texto del enunciado\n",
    "\n",
    "pre_enunciado_latex = [\n",
    "                  r'4x-3y=0',                                   \n",
    "                      ]\n",
    "\n",
    "enunciado_latex, enunciado, solucion = [],[],[]\n",
    "\n",
    "for i, s in enumerate(pre_enunciado_latex) : \n",
    "    enunciado_latex.append(\"r\\equiv \"+str(s))\n",
    "    enunciado = str(s)\n",
    "    P = Point(x,y)\n",
    "    r1 = Linea(s)\n",
    "    #r1.slope, Eq(radsimp(cancel(r1.distance(P)-1)),0)\n",
    "\n",
    "    \n",
    "    \n",
    "    sol=Eq(factor(expand(r1.distance(P)))-1,0)\n",
    "    solucion.append(latex(sol))\n",
    "    display(md(\"$\"+ enunciado_latex[i] +\" \\\\rightarrow \" + solucion[i] +\"$\"))\n",
    "    \n",
    "    #p1 = plot_implicit(Linea(s[1]).equation(),show=False)\n",
    "    #p2 = plot_implicit(Line(s[0],slope=m).equation(),show=False)\n",
    "    #p1.extend(p2)\n",
    "    #p1.show()\n",
    "\n",
    "df_ejercicios = df_ejercicios.append(añadir_ejercicios(enunciado_latex, enunciado, solucion, texto_ejercicio, curso, titulo , n_ejercicio, '1', '1', enun_tex=True), ignore_index=True)\n"
   ]
  },
  {
   "cell_type": "code",
   "execution_count": 16,
   "metadata": {},
   "outputs": [
    {
     "data": {
      "text/markdown": [
       "**Halla el valor del ángulo que forma con el eje de abscisas la mediatriz del segmento determinado por los puntos:**"
      ],
      "text/plain": [
       "<IPython.core.display.Markdown object>"
      ]
     },
     "metadata": {},
     "output_type": "display_data"
    },
    {
     "data": {
      "text/markdown": [
       "$A=(1, -3)\\ y \\ B=(4, 5) \\rightarrow 159.44395478041653$"
      ],
      "text/plain": [
       "<IPython.core.display.Markdown object>"
      ]
     },
     "metadata": {},
     "output_type": "display_data"
    }
   ],
   "source": [
    "# Página 51 ejercicio 29\n",
    "\n",
    "texto_ejercicio = r\"\"\"Halla el valor del ángulo que forma con el eje de abscisas la mediatriz del segmento determinado por los puntos:\"\"\"\n",
    "\n",
    "n_ejercicio = 'p051e29'\n",
    "\n",
    "display(md(\"**\"+texto_ejercicio+\"**\"))\n",
    " \n",
    "# vectores iniciales correspondientes al texto del enunciado\n",
    "\n",
    "pre_enunciado_latex = [\n",
    "                  [(1, - 3), (4, 5)],                                   \n",
    "                      ]\n",
    "\n",
    "enunciado_latex, enunciado, solucion = [],[],[]\n",
    "\n",
    "for i, s in enumerate(pre_enunciado_latex) : \n",
    "    enunciado_latex.append(\"A=\"+str(s[0])+\"\\ y \\ B=\"+str(s[1])+\"\")\n",
    "    enunciado = str(s)\n",
    "    A, B = Point(s[0]), Point(s[1])\n",
    "    sol = float(deg(Line(A,B).perpendicular_line(A.midpoint(B)).angle_between(Line(Point(0,0),slope=0))))\n",
    "    solucion.append(latex(sol))\n",
    "    display(md(\"$\"+ enunciado_latex[i] +\" \\\\rightarrow \" + solucion[i] +\"$\"))\n",
    "    \n",
    "    #p1 = plot_implicit(Linea(s[1]).equation(),show=False)\n",
    "    #p2 = plot_implicit(Line(s[0],slope=m).equation(),show=False)\n",
    "    #p1.extend(p2)\n",
    "    #p1.show()\n",
    "\n",
    "df_ejercicios = df_ejercicios.append(añadir_ejercicios(enunciado_latex, enunciado, solucion, texto_ejercicio, curso, titulo , n_ejercicio, '1', '1', enun_tex=True), ignore_index=True)\n"
   ]
  },
  {
   "cell_type": "code",
   "execution_count": 17,
   "metadata": {},
   "outputs": [
    {
     "data": {
      "text/markdown": [
       "**Calcula el área del triángulo de vértices:**"
      ],
      "text/plain": [
       "<IPython.core.display.Markdown object>"
      ]
     },
     "metadata": {},
     "output_type": "display_data"
    },
    {
     "data": {
      "text/markdown": [
       "$A=(-1, 1), \\ B=(1, 4),\\  y \\ C=(2, -3) \\rightarrow \\frac{17}{2}$"
      ],
      "text/plain": [
       "<IPython.core.display.Markdown object>"
      ]
     },
     "metadata": {},
     "output_type": "display_data"
    }
   ],
   "source": [
    "# Página 51 ejercicio 33\n",
    "\n",
    "texto_ejercicio = r\"\"\"Calcula el área del triángulo de vértices:\"\"\"\n",
    "\n",
    "n_ejercicio = 'p051e33'\n",
    "\n",
    "display(md(\"**\"+texto_ejercicio+\"**\"))\n",
    " \n",
    "# vectores iniciales correspondientes al texto del enunciado\n",
    "\n",
    "pre_enunciado_latex = [\n",
    "                  [(-1, 1), (1, 4), (2,-3)],                                   \n",
    "                      ]\n",
    "\n",
    "enunciado_latex, enunciado, solucion = [],[],[]\n",
    "\n",
    "for i, s in enumerate(pre_enunciado_latex) : \n",
    "    enunciado_latex.append(\"A=\"+str(s[0])+\", \\ B=\"+str(s[1])+\",\\  y \\ C=\"+str(s[2])+\"\")\n",
    "    enunciado = str(s)\n",
    "    A, B, C = [Point(k) for k in s]\n",
    "    T=Triangle(A,B,C)\n",
    "    sol=[A.distance(B),T.altitudes[C],T.altitudes[C].length, abs(T.area)]\n",
    "    solucion.append(latex(sol[3]))\n",
    "    display(md(\"$\"+ enunciado_latex[i] +\" \\\\rightarrow \" + solucion[i] +\"$\"))\n",
    "    \n",
    "\n",
    "df_ejercicios = df_ejercicios.append(añadir_ejercicios(enunciado_latex, enunciado, solucion, texto_ejercicio, curso, titulo , n_ejercicio, '1', '1', enun_tex=True), ignore_index=True)\n"
   ]
  },
  {
   "cell_type": "code",
   "execution_count": 18,
   "metadata": {},
   "outputs": [
    {
     "data": {
      "text/markdown": [
       "**Hallar las ecuaciones de las alturas y las coordenadas del ortocentro del triángulo de vértices:**"
      ],
      "text/plain": [
       "<IPython.core.display.Markdown object>"
      ]
     },
     "metadata": {},
     "output_type": "display_data"
    },
    {
     "data": {
      "text/markdown": [
       "$A=(1, 0), \\ B=(-2, 5),\\  y \\ C=(-1, -3) \\rightarrow \\left ( \\left [ \\frac{19 x}{65} - \\frac{152 y}{65} - \\frac{19}{65} = 0, \\quad \\frac{38 x}{13} + \\frac{57 y}{13} - \\frac{209}{13} = 0, \\quad - \\frac{57 x}{34} + \\frac{95 y}{34} + \\frac{114}{17} = 0\\right ], \\quad Point2D(91/19, 9/19)\\right )$"
      ],
      "text/plain": [
       "<IPython.core.display.Markdown object>"
      ]
     },
     "metadata": {},
     "output_type": "display_data"
    }
   ],
   "source": [
    "# Página 51 ejercicio 35\n",
    "\n",
    "texto_ejercicio = r\"\"\"Hallar las ecuaciones de las alturas y las coordenadas del ortocentro del triángulo de vértices:\"\"\"\n",
    "\n",
    "n_ejercicio = 'p051e35'\n",
    "\n",
    "display(md(\"**\"+texto_ejercicio+\"**\"))\n",
    " \n",
    "# vectores iniciales correspondientes al texto del enunciado\n",
    "\n",
    "pre_enunciado_latex = [\n",
    "                  [(1, 0), (-2, 5), (-1,-3)],                                   \n",
    "                      ]\n",
    "\n",
    "enunciado_latex, enunciado, solucion = [],[],[]\n",
    "\n",
    "for i, s in enumerate(pre_enunciado_latex) : \n",
    "    enunciado_latex.append(\"A=\"+str(s[0])+\", \\ B=\"+str(s[1])+\",\\  y \\ C=\"+str(s[2])+\"\")\n",
    "    enunciado = str(s)\n",
    "    A, B, C = [Point(k) for k in s]\n",
    "    T=Triangle(A,B,C)\n",
    "    sol=([simplify(Eq(Line(k).equation(),0)) for k in list(T.altitudes.values())], T.orthocenter)    \n",
    "    solucion.append(latex(sol))\n",
    "    display(md(\"$\"+ enunciado_latex[i] +\" \\\\rightarrow \" + solucion[i] +\"$\"))\n",
    "    \n",
    "\n",
    "df_ejercicios = df_ejercicios.append(añadir_ejercicios(enunciado_latex, enunciado, solucion, texto_ejercicio, curso, titulo , n_ejercicio, '1', '1', enun_tex=True), ignore_index=True)\n"
   ]
  },
  {
   "cell_type": "code",
   "execution_count": 19,
   "metadata": {},
   "outputs": [
    {
     "data": {
      "text/markdown": [
       "**Hallar la ecuación de la recta paralela a la bisectriz del segundo cuadrante y que pasar por el punto:**"
      ],
      "text/plain": [
       "<IPython.core.display.Markdown object>"
      ]
     },
     "metadata": {},
     "output_type": "display_data"
    },
    {
     "data": {
      "text/markdown": [
       "$A=(3, 5) \\rightarrow x + y - 8 = 0$"
      ],
      "text/plain": [
       "<IPython.core.display.Markdown object>"
      ]
     },
     "metadata": {},
     "output_type": "display_data"
    }
   ],
   "source": [
    "# Página 51 ejercicio 38\n",
    "\n",
    "texto_ejercicio = r\"\"\"Hallar la ecuación de la recta paralela a la bisectriz del segundo cuadrante y que pasar por el punto:\"\"\"\n",
    "\n",
    "n_ejercicio = 'p051e38'\n",
    "\n",
    "display(md(\"**\"+texto_ejercicio+\"**\"))\n",
    " \n",
    "# vectores iniciales correspondientes al texto del enunciado\n",
    "\n",
    "pre_enunciado_latex = [\n",
    "                  (3,5),                                   \n",
    "                      ]\n",
    "\n",
    "enunciado_latex, enunciado, solucion = [],[],[]\n",
    "\n",
    "for i, s in enumerate(pre_enunciado_latex) : \n",
    "    enunciado_latex.append(\"A=\"+str(s))\n",
    "    enunciado = str(s)\n",
    "    r = Linea(r'y=-x')\n",
    "    A = Point(s)\n",
    "    sol = Eq(Line(A,slope=r.slope).equation(),0)    \n",
    "    solucion.append(latex(sol))\n",
    "    display(md(\"$\"+ enunciado_latex[i] +\" \\\\rightarrow \" + solucion[i] +\"$\"))\n",
    "    \n",
    "\n",
    "df_ejercicios = df_ejercicios.append(añadir_ejercicios(enunciado_latex, enunciado, solucion, texto_ejercicio, curso, titulo , n_ejercicio, '1', '1', enun_tex=True), ignore_index=True)\n"
   ]
  },
  {
   "cell_type": "code",
   "execution_count": 20,
   "metadata": {},
   "outputs": [
    {
     "data": {
      "text/markdown": [
       "**Hallar el punto de la bisectriz de los cuadrantes 2 y 4, que equidista de los puntos:**"
      ],
      "text/plain": [
       "<IPython.core.display.Markdown object>"
      ]
     },
     "metadata": {},
     "output_type": "display_data"
    },
    {
     "data": {
      "text/markdown": [
       "$A=(4, -2)\\ y \\ B=(10, 0) \\rightarrow \\left [ \\left \\{ x : 10, \\quad y : -10\\right \\}\\right ]$"
      ],
      "text/plain": [
       "<IPython.core.display.Markdown object>"
      ]
     },
     "metadata": {},
     "output_type": "display_data"
    }
   ],
   "source": [
    "# Página 51 ejercicio 45\n",
    "\n",
    "texto_ejercicio = r\"\"\"Hallar el punto de la bisectriz de los cuadrantes 2 y 4, que equidista de los puntos:\"\"\"\n",
    "\n",
    "n_ejercicio = 'p051e45'\n",
    "\n",
    "display(md(\"**\"+texto_ejercicio+\"**\"))\n",
    " \n",
    "# vectores iniciales correspondientes al texto del enunciado\n",
    "\n",
    "pre_enunciado_latex = [\n",
    "                  [(4, -2),(10, 0)],                                   \n",
    "                      ]\n",
    "\n",
    "enunciado_latex, enunciado, solucion = [],[],[]\n",
    "\n",
    "for i, s in enumerate(pre_enunciado_latex) : \n",
    "    enunciado_latex.append(\"A=\"+str(s[0])+\"\\ y \\ B=\"+str(s[1])+\"\")\n",
    "    enunciado = str(s)\n",
    "    P = Point(x,y)\n",
    "    r = Linea(r'y=-x')\n",
    "    A, B = [Point(k) for k in s]\n",
    "    sol = solve([P.distance(A)-P.distance(B), r.equation()])    \n",
    "    solucion.append(latex(sol))\n",
    "    display(md(\"$\"+ enunciado_latex[i] +\" \\\\rightarrow \" + solucion[i] +\"$\"))\n",
    "    \n",
    "\n",
    "df_ejercicios = df_ejercicios.append(añadir_ejercicios(enunciado_latex, enunciado, solucion, texto_ejercicio, curso, titulo , n_ejercicio, '1', '1', enun_tex=True), ignore_index=True)\n"
   ]
  },
  {
   "cell_type": "code",
   "execution_count": 21,
   "metadata": {},
   "outputs": [
    {
     "data": {
      "text/markdown": [
       "**Hallar la longitud de la altura del triángulo ABC que pasa por C, y su área, si:**"
      ],
      "text/plain": [
       "<IPython.core.display.Markdown object>"
      ]
     },
     "metadata": {},
     "output_type": "display_data"
    },
    {
     "data": {
      "text/markdown": [
       "$A=(2, -1), \\ B=(-5, 1),\\  y \\ C=(0, 3) \\rightarrow \\left [ \\frac{24 \\sqrt{53}}{53}, \\quad 12\\right ]$"
      ],
      "text/plain": [
       "<IPython.core.display.Markdown object>"
      ]
     },
     "metadata": {},
     "output_type": "display_data"
    }
   ],
   "source": [
    "# Página 52 ejercicio 46\n",
    "\n",
    "texto_ejercicio = r\"\"\"Hallar la longitud de la altura del triángulo ABC que pasa por C, y su área, si:\"\"\"\n",
    "\n",
    "n_ejercicio = 'p052e46'\n",
    "\n",
    "display(md(\"**\"+texto_ejercicio+\"**\"))\n",
    " \n",
    "# vectores iniciales correspondientes al texto del enunciado\n",
    "\n",
    "pre_enunciado_latex = [\n",
    "                  [(2, - 1),(- 5, 1), (0, 3)],                                   \n",
    "                      ]\n",
    "\n",
    "enunciado_latex, enunciado, solucion = [],[],[]\n",
    "\n",
    "for i, s in enumerate(pre_enunciado_latex) : \n",
    "    enunciado_latex.append(\"A=\"+str(s[0])+\", \\ B=\"+str(s[1])+\",\\  y \\ C=\"+str(s[2])+\"\")\n",
    "    enunciado = str(s)\n",
    "    A, B, C = [Point(k) for k in s]\n",
    "    T = Triangle(A,B,C)\n",
    "    sol = [Line(A,B).distance(C), abs(T.area) ]\n",
    "    solucion.append(latex(sol))\n",
    "    display(md(\"$\"+ enunciado_latex[i] +\" \\\\rightarrow \" + solucion[i] +\"$\"))\n",
    "    \n",
    "\n",
    "df_ejercicios = df_ejercicios.append(añadir_ejercicios(enunciado_latex, enunciado, solucion, texto_ejercicio, curso, titulo , n_ejercicio, '1', '1', enun_tex=True), ignore_index=True)\n"
   ]
  },
  {
   "cell_type": "markdown",
   "metadata": {},
   "source": [
    "Hallar la longitud de la altura del triángulo A(2, - 1), B(- 5, 1) y C(0, 3), que parte del vértice C, y hallar el área del triángulo."
   ]
  },
  {
   "cell_type": "code",
   "execution_count": 22,
   "metadata": {},
   "outputs": [
    {
     "data": {
      "image/png": "[encoded data removed]",
      "text/latex": [
       "$$\\left [ \\frac{24 \\sqrt{53}}{53}, \\quad 12\\right ]$$"
      ],
      "text/plain": [
       "⎡24⋅√53    ⎤\n",
       "⎢──────, 12⎥\n",
       "⎣  53      ⎦"
      ]
     },
     "execution_count": 22,
     "metadata": {},
     "output_type": "execute_result"
    }
   ],
   "source": [
    "s = [(2, - 1),(- 5, 1), (0, 3)]\n",
    "\n",
    "A, B, C = [Point(k) for k in s]\n",
    "T = Triangle(A,B,C)\n",
    "sol = [Line(A,B).distance(C), abs(T.area) ]\n",
    "sol\n"
   ]
  },
  {
   "cell_type": "code",
   "execution_count": 23,
   "metadata": {},
   "outputs": [
    {
     "data": {
      "image/png": "[encoded data removed]",
      "text/plain": [
       "<Figure size 432x288 with 1 Axes>"
      ]
     },
     "metadata": {},
     "output_type": "display_data"
    }
   ],
   "source": [
    "%matplotlib inline\n",
    "p1 = plot_implicit(Linea(r'\\frac{\\sqrt{3} x}{2} + \\frac{y}{2} - \\frac{\\sqrt{3}}{2} + 1 = 0').equation(),show=False)\n",
    "p2 = plot_implicit(Linea(r'\\frac{\\sqrt{3} x}{2} + \\frac{y}{2} - \\frac{\\sqrt{3}}{2} + 2 = 0').equation(),show=False)\n",
    "p1.extend(p2)\n",
    "p1.show()"
   ]
  },
  {
   "cell_type": "code",
   "execution_count": 24,
   "metadata": {},
   "outputs": [
    {
     "name": "stdout",
     "output_type": "stream",
     "text": [
      "=========================================================\n",
      "Please add the following lines to your LaTeX preamble:\n",
      "\n",
      "\\usepackage[utf8]{inputenc}\n",
      "\\usepackage{fontspec} % This line only for XeLaTeX and LuaLaTeX\n",
      "\\usepackage{pgfplots}\n",
      "=========================================================\n",
      "Horizontal alignment will be ignored as no 'x tick label text width' has been passed in the 'extra' parameter\n",
      "Horizontal alignment will be ignored as no 'y tick label text width' has been passed in the 'extra' parameter\n",
      "=========================================================\n",
      "Please add the following lines to your LaTeX preamble:\n",
      "\n",
      "\\usepackage[utf8]{inputenc}\n",
      "\\usepackage{fontspec} % This line only for XeLaTeX and LuaLaTeX\n",
      "\\usepackage{pgfplots}\n",
      "=========================================================\n",
      "Horizontal alignment will be ignored as no 'x tick label text width' has been passed in the 'extra' parameter\n",
      "Horizontal alignment will be ignored as no 'y tick label text width' has been passed in the 'extra' parameter\n"
     ]
    },
    {
     "data": {
      "text/plain": [
       "'% This file was created by matplotlib2tikz v0.6.18.\\n\\\\begin{tikzpicture}\\n\\n\\\\definecolor{color0}{rgb}{0.886274509803922,0.290196078431373,0.2}\\n\\\\definecolor{color1}{rgb}{0.203921568627451,0.541176470588235,0.741176470588235}\\n\\n\\\\begin{axis}[\\naxis background/.style={fill=white!89.80392156862746!black},\\naxis line style={white},\\ntick align=outside,\\ntick pos=left,\\ntitle={Simple plot $\\\\frac{\\\\alpha}{2}$},\\nx grid style={white},\\nxlabel={time (s)},\\nxmajorgrids,\\nxmin=-0.095, xmax=1.995,\\ny grid style={white},\\nylabel={Voltage (mV)},\\nymajorgrids,\\nymin=-1.1, ymax=1.1\\n]\\n\\\\addplot [line width=1.64pt, color0, mark=*, mark size=3, mark options={solid}, forget plot]\\ntable [row sep=\\\\\\\\]{%\\n0\\t0 \\\\\\\\\\n0.1\\t0.587785252292473 \\\\\\\\\\n0.2\\t0.951056516295154 \\\\\\\\\\n0.3\\t0.951056516295154 \\\\\\\\\\n0.4\\t0.587785252292473 \\\\\\\\\\n0.5\\t1.22464679914735e-16 \\\\\\\\\\n0.6\\t-0.587785252292473 \\\\\\\\\\n0.7\\t-0.951056516295154 \\\\\\\\\\n0.8\\t-0.951056516295154 \\\\\\\\\\n0.9\\t-0.587785252292473 \\\\\\\\\\n1\\t-2.44929359829471e-16 \\\\\\\\\\n1.1\\t0.587785252292474 \\\\\\\\\\n1.2\\t0.951056516295154 \\\\\\\\\\n1.3\\t0.951056516295154 \\\\\\\\\\n1.4\\t0.587785252292473 \\\\\\\\\\n1.5\\t3.67394039744206e-16 \\\\\\\\\\n1.6\\t-0.587785252292473 \\\\\\\\\\n1.7\\t-0.951056516295154 \\\\\\\\\\n1.8\\t-0.951056516295154 \\\\\\\\\\n1.9\\t-0.587785252292473 \\\\\\\\\\n};\\n\\\\addplot [line width=1.64pt, color1, mark=*, mark size=3, mark options={solid}, forget plot]\\ntable [row sep=\\\\\\\\]{%\\n0\\t1 \\\\\\\\\\n0.1\\t0.809016994374947 \\\\\\\\\\n0.2\\t0.309016994374947 \\\\\\\\\\n0.3\\t-0.309016994374948 \\\\\\\\\\n0.4\\t-0.809016994374947 \\\\\\\\\\n0.5\\t-1 \\\\\\\\\\n0.6\\t-0.809016994374947 \\\\\\\\\\n0.7\\t-0.309016994374948 \\\\\\\\\\n0.8\\t0.309016994374947 \\\\\\\\\\n0.9\\t0.809016994374947 \\\\\\\\\\n1\\t1 \\\\\\\\\\n1.1\\t0.809016994374947 \\\\\\\\\\n1.2\\t0.309016994374947 \\\\\\\\\\n1.3\\t-0.309016994374947 \\\\\\\\\\n1.4\\t-0.809016994374947 \\\\\\\\\\n1.5\\t-1 \\\\\\\\\\n1.6\\t-0.809016994374948 \\\\\\\\\\n1.7\\t-0.309016994374946 \\\\\\\\\\n1.8\\t0.309016994374947 \\\\\\\\\\n1.9\\t0.809016994374947 \\\\\\\\\\n};\\n\\\\end{axis}\\n\\n\\\\end{tikzpicture}'"
      ]
     },
     "execution_count": 24,
     "metadata": {},
     "output_type": "execute_result"
    },
    {
     "data": {
      "image/png": "[encoded data removed]",
      "text/plain": [
       "<Figure size 432x288 with 1 Axes>"
      ]
     },
     "metadata": {},
     "output_type": "display_data"
    }
   ],
   "source": [
    "import matplotlib.pyplot as plt\n",
    "import numpy as np\n",
    "\n",
    "plt.style.use(\"ggplot\")\n",
    "\n",
    "t = np.arange(0.0, 2.0, 0.1)\n",
    "s = np.sin(2 * np.pi * t)\n",
    "s2 = np.cos(2 * np.pi * t)\n",
    "plt.plot(t, s, \"o-\", lw=4.1)\n",
    "plt.plot(t, s2, \"o-\", lw=4.1)\n",
    "plt.xlabel(\"time (s)\")\n",
    "plt.ylabel(\"Voltage (mV)\")\n",
    "plt.title(\"Simple plot $\\\\frac{\\\\alpha}{2}$\")\n",
    "plt.grid(True)\n",
    "\n",
    "from matplotlib2tikz import save as tikz_save\n",
    "from matplotlib2tikz import get_tikz_code\n",
    "tikz_save(\"test.tex\")\n",
    "get_tikz_code(\"test.tex\")"
   ]
  },
  {
   "cell_type": "markdown",
   "metadata": {},
   "source": [
    "Halla el valor del ángulo que forma la mediatriz del segmento determinado por los puntos (1, - 3) y (4, 5)\n",
    "con el eje de abscisas."
   ]
  },
  {
   "cell_type": "code",
   "execution_count": 25,
   "metadata": {},
   "outputs": [
    {
     "data": {
      "image/png": "[encoded data removed]",
      "text/latex": [
       "$$159.44395478041653$$"
      ],
      "text/plain": [
       "159.44395478041653"
      ]
     },
     "execution_count": 25,
     "metadata": {},
     "output_type": "execute_result"
    }
   ],
   "source": [
    "s = [(1, - 3), (4, 5)]\n",
    "\n",
    "A, B = Point(s[0]), Point(s[1])\n",
    "float(deg(Line(A,B).perpendicular_line(A.midpoint(B)).angle_between(Line(Point(0,0),slope=0))))\n",
    "\n"
   ]
  },
  {
   "cell_type": "code",
   "execution_count": 26,
   "metadata": {},
   "outputs": [
    {
     "data": {
      "image/png": "[encoded data removed]",
      "text/plain": [
       "<Figure size 432x288 with 1 Axes>"
      ]
     },
     "metadata": {},
     "output_type": "display_data"
    },
    {
     "data": {
      "image/png": "[encoded data removed]",
      "text/latex": [
       "$$Point2D(1, 0)$$"
      ],
      "text/plain": [
       "Point2D(1, 0)"
      ]
     },
     "execution_count": 26,
     "metadata": {},
     "output_type": "execute_result"
    }
   ],
   "source": [
    "#expr = r'3x+2y+8=0'\n",
    "expr = r'y=5'\n",
    "%matplotlib inline\n",
    "plot_implicit(Linea(expr).equation())\n",
    "Linea(expr).direction"
   ]
  },
  {
   "cell_type": "code",
   "execution_count": 27,
   "metadata": {},
   "outputs": [
    {
     "data": {
      "image/png": "[encoded data removed]",
      "text/latex": [
       "$$\\left ( \\frac{24 \\sqrt{53}}{53}, \\quad \\sqrt{53}, \\quad 12\\right )$$"
      ],
      "text/plain": [
       "⎛24⋅√53         ⎞\n",
       "⎜──────, √53, 12⎟\n",
       "⎝  53           ⎠"
      ]
     },
     "execution_count": 27,
     "metadata": {},
     "output_type": "execute_result"
    }
   ],
   "source": [
    "A, B, C = Point(2,-1), Point(-5,1), Point(0,3)\n",
    "t = Triangle(A,B,C)\n",
    "altura = t.altitudes[C].length\n",
    "base = A.distance(B)\n",
    "area = base*altura/2\n",
    "\n",
    "altura, base, area"
   ]
  },
  {
   "cell_type": "code",
   "execution_count": 28,
   "metadata": {},
   "outputs": [
    {
     "data": {
      "image/png": "[encoded data removed]",
      "text/latex": [
       "$$\\left [ \\left \\{ x : -1.2, \\quad y : 3.4\\right \\}, \\quad \\left \\{ x : 3.6, \\quad y : -0.2\\right \\}\\right ]$$"
      ],
      "text/plain": [
       "[{x: -1.2, y: 3.4}, {x: 3.6, y: -0.2}]"
      ]
     },
     "execution_count": 28,
     "metadata": {},
     "output_type": "execute_result"
    }
   ],
   "source": [
    "p = Point(solve([(3-x)**2+(4-y)**2-36, 4*x-3*y],x,y)[0])\n",
    "p.midpoint(Point(3,4))\n",
    "nsimplify(Line(p.midpoint(Point(3,4)), slope=-3/4).equation())\n",
    "\n",
    "#solve([(-3/5-x)**2+(-4/5-y)**2-9, nsimplify(Line(p.midpoint(Point(3,4)), slope=-3/4).equation())],x,y)\n",
    "p, p.midpoint(Point(3,4)), nsimplify(Line(p.midpoint(Point(3,4)), slope=-3/4).equation())\n",
    "\n",
    "solve([nsimplify(Line(p.midpoint(Point(3,4)), slope=-3/4).equation()), (x-1.2)**2+(y-1.6)**2-9 ])\n",
    "\n"
   ]
  },
  {
   "cell_type": "code",
   "execution_count": 29,
   "metadata": {},
   "outputs": [
    {
     "data": {
      "image/png": "[encoded data removed]",
      "text/latex": [
       "$$- 3 x + y + 1$$"
      ],
      "text/plain": [
       "-3⋅x + y + 1"
      ]
     },
     "execution_count": 29,
     "metadata": {},
     "output_type": "execute_result"
    }
   ],
   "source": [
    "Line(Point(1,2),slope=solve(sqrt(2)/2-(-1+2*x)/(sqrt(1+x**2)*sqrt(5)))[0]).equation()"
   ]
  },
  {
   "cell_type": "markdown",
   "metadata": {},
   "source": [
    "Ejercicio de recta con ángulo\n"
   ]
  },
  {
   "cell_type": "code",
   "execution_count": 30,
   "metadata": {},
   "outputs": [
    {
     "data": {
      "image/png": "[encoded data removed]",
      "image/svg+xml": [
       "<svg xmlns=\"http://www.w3.org/2000/svg\"\n",
       "            xmlns:xlink=\"http://www.w3.org/1999/xlink\"\n",
       "            width=\"100.0\" height=\"100.0\" viewBox=\"-0.200000000000000 -1.20000000000000 1.40000000000000 2.40000000000000\"\n",
       "            preserveAspectRatio=\"xMinYMin meet\">\n",
       "            <defs>\n",
       "                <marker id=\"markerCircle\" markerWidth=\"8\" markerHeight=\"8\"\n",
       "                    refx=\"5\" refy=\"5\" markerUnits=\"strokeWidth\">\n",
       "                    <circle cx=\"5\" cy=\"5\" r=\"1.5\" style=\"stroke: none; fill:#000000;\"/>\n",
       "                </marker>\n",
       "                <marker id=\"markerArrow\" markerWidth=\"13\" markerHeight=\"13\" refx=\"2\" refy=\"4\"\n",
       "                       orient=\"auto\" markerUnits=\"strokeWidth\">\n",
       "                    <path d=\"M2,2 L2,6 L6,4\" style=\"fill: #000000;\" />\n",
       "                </marker>\n",
       "                <marker id=\"markerReverseArrow\" markerWidth=\"13\" markerHeight=\"13\" refx=\"6\" refy=\"4\"\n",
       "                       orient=\"auto\" markerUnits=\"strokeWidth\">\n",
       "                    <path d=\"M6,2 L6,6 L2,4\" style=\"fill: #000000;\" />\n",
       "                </marker>\n",
       "            </defs><g transform=\"matrix(1,0,0,-1,0,0)\"><path fill-rule=\"evenodd\" fill=\"#66cc99\" stroke=\"#555555\" stroke-width=\"0.0480000000000000\" opacity=\"0.6\" d=\"M 0,1.00000000000000 L 1.00000000000000,-1.00000000000000\" marker-start=\"url(#markerReverseArrow)\" marker-end=\"url(#markerArrow)\"/></g></svg>"
      ],
      "text/latex": [
       "$$Line2D(Point2D(0, 1), Point2D(1, -1))$$"
      ],
      "text/plain": [
       "Line2D(Point2D(0, 1), Point2D(1, -1))"
      ]
     },
     "metadata": {},
     "output_type": "display_data"
    },
    {
     "data": {
      "image/png": "[encoded data removed]",
      "text/latex": [
       "$$Point2D(1, 2)$$"
      ],
      "text/plain": [
       "Point2D(1, 2)"
      ]
     },
     "metadata": {},
     "output_type": "display_data"
    },
    {
     "data": {
      "image/png": "[encoded data removed]",
      "text/latex": [
       "$$\\frac{\\pi}{4}$$"
      ],
      "text/plain": [
       "π\n",
       "─\n",
       "4"
      ]
     },
     "metadata": {},
     "output_type": "display_data"
    },
    {
     "data": {
      "image/png": "[encoded data removed]",
      "text/latex": [
       "$$Point2D(1, -2)$$"
      ],
      "text/plain": [
       "Point2D(1, -2)"
      ]
     },
     "metadata": {},
     "output_type": "display_data"
    },
    {
     "data": {
      "image/png": "[encoded data removed]",
      "text/latex": [
       "$$Point2D(1, x)$$"
      ],
      "text/plain": [
       "Point2D(1, x)"
      ]
     },
     "metadata": {},
     "output_type": "display_data"
    },
    {
     "data": {
      "image/png": "[encoded data removed]",
      "text/latex": [
       "$$- 2 x + 1$$"
      ],
      "text/plain": [
       "-2⋅x + 1"
      ]
     },
     "metadata": {},
     "output_type": "display_data"
    },
    {
     "data": {
      "image/png": "[encoded data removed]",
      "text/latex": [
       "$$\\sqrt{5}$$"
      ],
      "text/plain": [
       "√5"
      ]
     },
     "metadata": {},
     "output_type": "display_data"
    },
    {
     "data": {
      "image/png": "[encoded data removed]",
      "text/latex": [
       "$$\\sqrt{x^{2} + 1}$$"
      ],
      "text/plain": [
       "   ________\n",
       "  ╱  2     \n",
       "╲╱  x  + 1 "
      ]
     },
     "metadata": {},
     "output_type": "display_data"
    },
    {
     "data": {
      "image/png": "[encoded data removed]",
      "text/latex": [
       "$$- \\frac{\\sqrt{5} \\left(- 2 x + 1\\right)}{5 \\sqrt{x^{2} + 1}} + \\frac{\\sqrt{2}}{2}$$"
      ],
      "text/plain": [
       "  √5⋅(-2⋅x + 1)   √2\n",
       "- ───────────── + ──\n",
       "       ________   2 \n",
       "      ╱  2          \n",
       "  5⋅╲╱  x  + 1      "
      ]
     },
     "metadata": {},
     "output_type": "display_data"
    },
    {
     "data": {
      "image/png": "[encoded data removed]",
      "text/latex": [
       "$$\\left [ - \\frac{1}{3}, \\quad 3\\right ]$$"
      ],
      "text/plain": [
       "[-1/3, 3]"
      ]
     },
     "metadata": {},
     "output_type": "display_data"
    },
    {
     "data": {
      "image/png": "[encoded data removed]",
      "text/latex": [
       "$$\\frac{x}{3} + y - \\frac{7}{3} = 0$$"
      ],
      "text/plain": [
       "x       7    \n",
       "─ + y - ─ = 0\n",
       "3       3    "
      ]
     },
     "execution_count": 30,
     "metadata": {},
     "output_type": "execute_result"
    }
   ],
   "source": [
    "#datos = [(1,2),r'2x+y-1=0',45]\n",
    "datos = [(1,-2),r'y=0', 60]\n",
    "datos = [(1,2),r'2x+y-1=0',45]\n",
    "\n",
    "r, p, an = Linea(datos[1]), Point(datos[0]), rad(datos[2])\n",
    "\n",
    "u = r.direction\n",
    "v = Point(1,x)\n",
    "\n",
    "display(r, p, an, u, v, u.dot(v), u.distance((0,0)),v.distance((0,0)), cos(an)-(u.dot(v))/(u.distance((0,0))*v.distance((0,0))),solve(abs(cos(an))-abs(u.dot(v))/(u.distance((0,0))*v.distance((0,0)))))\n",
    "\n",
    "u.dot(v), u.distance((0,0)), r.equation()\n",
    "eq = Eq(Line(datos[0],slope=solve(abs(cos(an))-abs(u.dot(v))/(u.distance((0,0))*v.distance((0,0))))[0]).equation(),0)\n",
    "eq"
   ]
  },
  {
   "cell_type": "code",
   "execution_count": 31,
   "metadata": {},
   "outputs": [
    {
     "data": {
      "image/png": "[encoded data removed]",
      "text/latex": [
       "$$\\sqrt{5}$$"
      ],
      "text/plain": [
       "√5"
      ]
     },
     "execution_count": 31,
     "metadata": {},
     "output_type": "execute_result"
    }
   ],
   "source": [
    "Point(2,1).distance(Point(0,0))"
   ]
  },
  {
   "cell_type": "code",
   "execution_count": 32,
   "metadata": {},
   "outputs": [
    {
     "data": {
      "image/png": "[encoded data removed]",
      "image/svg+xml": [
       "<svg xmlns=\"http://www.w3.org/2000/svg\"\n",
       "            xmlns:xlink=\"http://www.w3.org/1999/xlink\"\n",
       "            width=\"100.0\" height=\"100.0\" viewBox=\"-0.100000000000000 -1.10000000000000 1.20000000000000 0.200000000000000\"\n",
       "            preserveAspectRatio=\"xMinYMin meet\">\n",
       "            <defs>\n",
       "                <marker id=\"markerCircle\" markerWidth=\"8\" markerHeight=\"8\"\n",
       "                    refx=\"5\" refy=\"5\" markerUnits=\"strokeWidth\">\n",
       "                    <circle cx=\"5\" cy=\"5\" r=\"1.5\" style=\"stroke: none; fill:#000000;\"/>\n",
       "                </marker>\n",
       "                <marker id=\"markerArrow\" markerWidth=\"13\" markerHeight=\"13\" refx=\"2\" refy=\"4\"\n",
       "                       orient=\"auto\" markerUnits=\"strokeWidth\">\n",
       "                    <path d=\"M2,2 L2,6 L6,4\" style=\"fill: #000000;\" />\n",
       "                </marker>\n",
       "                <marker id=\"markerReverseArrow\" markerWidth=\"13\" markerHeight=\"13\" refx=\"6\" refy=\"4\"\n",
       "                       orient=\"auto\" markerUnits=\"strokeWidth\">\n",
       "                    <path d=\"M6,2 L6,6 L2,4\" style=\"fill: #000000;\" />\n",
       "                </marker>\n",
       "            </defs><g transform=\"matrix(1,0,0,-1,0,-2.00000000000000)\"><path fill-rule=\"evenodd\" fill=\"#66cc99\" stroke=\"#555555\" stroke-width=\"0.0240000000000000\" opacity=\"0.6\" d=\"M 0,-1.00000000000000 L 1.00000000000000,-1.00000000000000\" marker-start=\"url(#markerReverseArrow)\" marker-end=\"url(#markerArrow)\"/></g></svg>"
      ],
      "text/latex": [
       "$$Line2D(Point2D(0, -1), Point2D(1, -1))$$"
      ],
      "text/plain": [
       "Line2D(Point2D(0, -1), Point2D(1, -1))"
      ]
     },
     "execution_count": 32,
     "metadata": {},
     "output_type": "execute_result"
    }
   ],
   "source": [
    "Linea(r'5x+y-1')"
   ]
  },
  {
   "cell_type": "code",
   "execution_count": 33,
   "metadata": {},
   "outputs": [],
   "source": [
    "df_ejercicios.to_csv('ejercicios25.csv', index = False)"
   ]
  },
  {
   "cell_type": "code",
   "execution_count": 34,
   "metadata": {},
   "outputs": [],
   "source": [
    "df_ejercicios = pd.read_csv('ejercicios25.csv', index_col= None)"
   ]
  },
  {
   "cell_type": "code",
   "execution_count": 35,
   "metadata": {},
   "outputs": [
    {
     "data": {
      "text/html": [
       "<div>\n",
       "<style scoped>\n",
       "    .dataframe tbody tr th:only-of-type {\n",
       "        vertical-align: middle;\n",
       "    }\n",
       "\n",
       "    .dataframe tbody tr th {\n",
       "        vertical-align: top;\n",
       "    }\n",
       "\n",
       "    .dataframe thead th {\n",
       "        text-align: right;\n",
       "    }\n",
       "</style>\n",
       "<table border=\"1\" class=\"dataframe\">\n",
       "  <thead>\n",
       "    <tr style=\"text-align: right;\">\n",
       "      <th></th>\n",
       "      <th>enunciado_latex</th>\n",
       "      <th>enunciado</th>\n",
       "      <th>solucion</th>\n",
       "      <th>texto</th>\n",
       "      <th>curso</th>\n",
       "      <th>titulo</th>\n",
       "      <th>n_ejercicio</th>\n",
       "      <th>dificultad</th>\n",
       "      <th>n_columnas</th>\n",
       "      <th>puntos</th>\n",
       "      <th>enun_tex</th>\n",
       "      <th>sol_tex</th>\n",
       "    </tr>\n",
       "  </thead>\n",
       "  <tbody>\n",
       "    <tr>\n",
       "      <th>0</th>\n",
       "      <td>A(-1, 3) \\ y \\overrightarrow{u}=(2, 5)</td>\n",
       "      <td>[(-1, 3), (2, 5)]</td>\n",
       "      <td>- 5 x + 2 y - 11 = 0 \\ y \\ Point2D(2*t - 1, 5*...</td>\n",
       "      <td>Hallar las ecuaciones paramétricas, continua, ...</td>\n",
       "      <td>1BC</td>\n",
       "      <td>25 - Geometría Plana</td>\n",
       "      <td>p050e01</td>\n",
       "      <td>1</td>\n",
       "      <td>2</td>\n",
       "      <td>1</td>\n",
       "      <td>True</td>\n",
       "      <td>True</td>\n",
       "    </tr>\n",
       "    <tr>\n",
       "      <th>1</th>\n",
       "      <td>3x+2y+8=0</td>\n",
       "      <td>Eq(y, 5)</td>\n",
       "      <td>(Point2D(1, -3/2), Point2D(3/2, 1))</td>\n",
       "      <td>Halla un vector direccional y un vector perpen...</td>\n",
       "      <td>1BC</td>\n",
       "      <td>25 - Geometría Plana</td>\n",
       "      <td>p050e02</td>\n",
       "      <td>1</td>\n",
       "      <td>2</td>\n",
       "      <td>1</td>\n",
       "      <td>True</td>\n",
       "      <td>True</td>\n",
       "    </tr>\n",
       "    <tr>\n",
       "      <th>2</th>\n",
       "      <td>\\frac{x-1}{3}=\\frac{2-y}{1}</td>\n",
       "      <td>Eq(y, 5)</td>\n",
       "      <td>(Point2D(1, -1/3), Point2D(1/3, 1))</td>\n",
       "      <td>Halla un vector direccional y un vector perpen...</td>\n",
       "      <td>1BC</td>\n",
       "      <td>25 - Geometría Plana</td>\n",
       "      <td>p050e02</td>\n",
       "      <td>1</td>\n",
       "      <td>2</td>\n",
       "      <td>1</td>\n",
       "      <td>True</td>\n",
       "      <td>True</td>\n",
       "    </tr>\n",
       "    <tr>\n",
       "      <th>3</th>\n",
       "      <td>y=5</td>\n",
       "      <td>Eq(y, 5)</td>\n",
       "      <td>(Point2D(1, 0), Point2D(0, 1))</td>\n",
       "      <td>Halla un vector direccional y un vector perpen...</td>\n",
       "      <td>1BC</td>\n",
       "      <td>25 - Geometría Plana</td>\n",
       "      <td>p050e02</td>\n",
       "      <td>1</td>\n",
       "      <td>2</td>\n",
       "      <td>1</td>\n",
       "      <td>True</td>\n",
       "      <td>True</td>\n",
       "    </tr>\n",
       "    <tr>\n",
       "      <th>4</th>\n",
       "      <td>A=(2, 1), \\ B=(1, 2),\\  y \\ C=(3, 3)</td>\n",
       "      <td>[(2, 1), (1, 2), (3, 3)]</td>\n",
       "      <td>True</td>\n",
       "      <td>Comprobar que es isósceles el triángulo de vér...</td>\n",
       "      <td>1BC</td>\n",
       "      <td>25 - Geometría Plana</td>\n",
       "      <td>p050e04</td>\n",
       "      <td>1</td>\n",
       "      <td>2</td>\n",
       "      <td>1</td>\n",
       "      <td>True</td>\n",
       "      <td>True</td>\n",
       "    </tr>\n",
       "    <tr>\n",
       "      <th>5</th>\n",
       "      <td>A=(0, m)\\  y \\ B=(1, 2)</td>\n",
       "      <td>[(0, m), (1, 2)]</td>\n",
       "      <td>[2]</td>\n",
       "      <td>Determinar m con la condición de que disten 1 ...</td>\n",
       "      <td>1BC</td>\n",
       "      <td>25 - Geometría Plana</td>\n",
       "      <td>p050e05</td>\n",
       "      <td>1</td>\n",
       "      <td>2</td>\n",
       "      <td>1</td>\n",
       "      <td>True</td>\n",
       "      <td>True</td>\n",
       "    </tr>\n",
       "    <tr>\n",
       "      <th>6</th>\n",
       "      <td>r\\equiv4x-y-1=0\\  y \\ s\\equiv2x+7y-6=0</td>\n",
       "      <td>['-x+2y+1=0', '3x+y+5=0']</td>\n",
       "      <td>91.90915243299638</td>\n",
       "      <td>Determinar el ángulo formado por las rectas:</td>\n",
       "      <td>1BC</td>\n",
       "      <td>25 - Geometría Plana</td>\n",
       "      <td>p050e06</td>\n",
       "      <td>1</td>\n",
       "      <td>2</td>\n",
       "      <td>1</td>\n",
       "      <td>True</td>\n",
       "      <td>True</td>\n",
       "    </tr>\n",
       "    <tr>\n",
       "      <th>7</th>\n",
       "      <td>r\\equiv-x+2y+1=0\\  y \\ s\\equiv3x+y+5=0</td>\n",
       "      <td>['-x+2y+1=0', '3x+y+5=0']</td>\n",
       "      <td>98.13010235415598</td>\n",
       "      <td>Determinar el ángulo formado por las rectas:</td>\n",
       "      <td>1BC</td>\n",
       "      <td>25 - Geometría Plana</td>\n",
       "      <td>p050e06</td>\n",
       "      <td>1</td>\n",
       "      <td>2</td>\n",
       "      <td>1</td>\n",
       "      <td>True</td>\n",
       "      <td>True</td>\n",
       "    </tr>\n",
       "    <tr>\n",
       "      <th>8</th>\n",
       "      <td>Pasa \\ por \\ A(2, 3)\\  y \\ forma \\ 45 \\ grados...</td>\n",
       "      <td>[(1, -2), 'y=0', 120]</td>\n",
       "      <td>\\frac{x}{3} + y - \\frac{11}{3} = 0</td>\n",
       "      <td>Hallar la recta r que:</td>\n",
       "      <td>1BC</td>\n",
       "      <td>25 - Geometría Plana</td>\n",
       "      <td>p050e07,8y28</td>\n",
       "      <td>1</td>\n",
       "      <td>2</td>\n",
       "      <td>1</td>\n",
       "      <td>True</td>\n",
       "      <td>True</td>\n",
       "    </tr>\n",
       "    <tr>\n",
       "      <th>9</th>\n",
       "      <td>Pasa \\ por \\ A(1, 2)\\  y \\ forma \\ 45 \\ grados...</td>\n",
       "      <td>[(1, -2), 'y=0', 120]</td>\n",
       "      <td>\\frac{x}{3} + y - \\frac{7}{3} = 0</td>\n",
       "      <td>Hallar la recta r que:</td>\n",
       "      <td>1BC</td>\n",
       "      <td>25 - Geometría Plana</td>\n",
       "      <td>p050e07,8y28</td>\n",
       "      <td>1</td>\n",
       "      <td>2</td>\n",
       "      <td>1</td>\n",
       "      <td>True</td>\n",
       "      <td>True</td>\n",
       "    </tr>\n",
       "    <tr>\n",
       "      <th>10</th>\n",
       "      <td>Pasa \\ por \\ A(1, -2)\\  y \\ forma \\ 120 \\ grad...</td>\n",
       "      <td>[(1, -2), 'y=0', 120]</td>\n",
       "      <td>\\sqrt{3} x + y - \\sqrt{3} + 2 = 0</td>\n",
       "      <td>Hallar la recta r que:</td>\n",
       "      <td>1BC</td>\n",
       "      <td>25 - Geometría Plana</td>\n",
       "      <td>p050e07,8y28</td>\n",
       "      <td>1</td>\n",
       "      <td>2</td>\n",
       "      <td>1</td>\n",
       "      <td>True</td>\n",
       "      <td>True</td>\n",
       "    </tr>\n",
       "    <tr>\n",
       "      <th>11</th>\n",
       "      <td>A(4, 0)\\  , \\ B=(6, 2) \\ y \\  C \\in r\\equiv 3...</td>\n",
       "      <td>[(4, 0), (6, 2), '3x+y-1=0']</td>\n",
       "      <td>\\left [ \\left \\{ x : - \\frac{5}{2}, \\quad y : ...</td>\n",
       "      <td>Calcula el vértice C de un triángulo isósceles...</td>\n",
       "      <td>1BC</td>\n",
       "      <td>25 - Geometría Plana</td>\n",
       "      <td>p051e20</td>\n",
       "      <td>1</td>\n",
       "      <td>1</td>\n",
       "      <td>1</td>\n",
       "      <td>True</td>\n",
       "      <td>True</td>\n",
       "    </tr>\n",
       "    <tr>\n",
       "      <th>12</th>\n",
       "      <td>A(2, 5) \\ y \\   r\\equiv 5x+y=2</td>\n",
       "      <td>[(2, 5), '5x+y=2']</td>\n",
       "      <td>\\left [ - x + 5 y - 23, \\quad Point2D(-1/2, 9/...</td>\n",
       "      <td>Determinar el punto simétrico al punto y respe...</td>\n",
       "      <td>1BC</td>\n",
       "      <td>25 - Geometría Plana</td>\n",
       "      <td>p051e21</td>\n",
       "      <td>1</td>\n",
       "      <td>1</td>\n",
       "      <td>1</td>\n",
       "      <td>True</td>\n",
       "      <td>True</td>\n",
       "    </tr>\n",
       "    <tr>\n",
       "      <th>13</th>\n",
       "      <td>r\\equiv 4x-3y=0</td>\n",
       "      <td>4x-3y=0</td>\n",
       "      <td>\\frac{\\left|{4 x - 3 y}\\right|}{5} - 1 = 0</td>\n",
       "      <td>Hallar la ecuación de la recta paralela y que ...</td>\n",
       "      <td>1BC</td>\n",
       "      <td>25 - Geometría Plana</td>\n",
       "      <td>p051e23</td>\n",
       "      <td>1</td>\n",
       "      <td>1</td>\n",
       "      <td>1</td>\n",
       "      <td>True</td>\n",
       "      <td>True</td>\n",
       "    </tr>\n",
       "    <tr>\n",
       "      <th>14</th>\n",
       "      <td>A=(1, -3)\\ y \\ B=(4, 5)</td>\n",
       "      <td>[(1, -3), (4, 5)]</td>\n",
       "      <td>159.44395478041653</td>\n",
       "      <td>Halla el valor del ángulo que forma con el eje...</td>\n",
       "      <td>1BC</td>\n",
       "      <td>25 - Geometría Plana</td>\n",
       "      <td>p051e29</td>\n",
       "      <td>1</td>\n",
       "      <td>1</td>\n",
       "      <td>1</td>\n",
       "      <td>True</td>\n",
       "      <td>True</td>\n",
       "    </tr>\n",
       "    <tr>\n",
       "      <th>15</th>\n",
       "      <td>A=(-1, 1), \\ B=(1, 4),\\  y \\ C=(2, -3)</td>\n",
       "      <td>[(-1, 1), (1, 4), (2, -3)]</td>\n",
       "      <td>\\frac{17}{2}</td>\n",
       "      <td>Calcula el área del triángulo de vértices:</td>\n",
       "      <td>1BC</td>\n",
       "      <td>25 - Geometría Plana</td>\n",
       "      <td>p051e33</td>\n",
       "      <td>1</td>\n",
       "      <td>1</td>\n",
       "      <td>1</td>\n",
       "      <td>True</td>\n",
       "      <td>True</td>\n",
       "    </tr>\n",
       "    <tr>\n",
       "      <th>16</th>\n",
       "      <td>A=(1, 0), \\ B=(-2, 5),\\  y \\ C=(-1, -3)</td>\n",
       "      <td>[(1, 0), (-2, 5), (-1, -3)]</td>\n",
       "      <td>\\left ( \\left [ \\frac{19 x}{65} - \\frac{152 y}...</td>\n",
       "      <td>Hallar las ecuaciones de las alturas y las coo...</td>\n",
       "      <td>1BC</td>\n",
       "      <td>25 - Geometría Plana</td>\n",
       "      <td>p051e35</td>\n",
       "      <td>1</td>\n",
       "      <td>1</td>\n",
       "      <td>1</td>\n",
       "      <td>True</td>\n",
       "      <td>True</td>\n",
       "    </tr>\n",
       "    <tr>\n",
       "      <th>17</th>\n",
       "      <td>A=(3, 5)</td>\n",
       "      <td>(3, 5)</td>\n",
       "      <td>x + y - 8 = 0</td>\n",
       "      <td>Hallar la ecuación de la recta paralela a la b...</td>\n",
       "      <td>1BC</td>\n",
       "      <td>25 - Geometría Plana</td>\n",
       "      <td>p051e38</td>\n",
       "      <td>1</td>\n",
       "      <td>1</td>\n",
       "      <td>1</td>\n",
       "      <td>True</td>\n",
       "      <td>True</td>\n",
       "    </tr>\n",
       "    <tr>\n",
       "      <th>18</th>\n",
       "      <td>A=(4, -2)\\ y \\ B=(10, 0)</td>\n",
       "      <td>[(4, -2), (10, 0)]</td>\n",
       "      <td>\\left [ \\left \\{ x : 10, \\quad y : -10\\right \\...</td>\n",
       "      <td>Hallar el punto de la bisectriz de los cuadran...</td>\n",
       "      <td>1BC</td>\n",
       "      <td>25 - Geometría Plana</td>\n",
       "      <td>p051e45</td>\n",
       "      <td>1</td>\n",
       "      <td>1</td>\n",
       "      <td>1</td>\n",
       "      <td>True</td>\n",
       "      <td>True</td>\n",
       "    </tr>\n",
       "    <tr>\n",
       "      <th>19</th>\n",
       "      <td>A=(2, -1), \\ B=(-5, 1),\\  y \\ C=(0, 3)</td>\n",
       "      <td>[(2, -1), (-5, 1), (0, 3)]</td>\n",
       "      <td>\\left [ \\frac{24 \\sqrt{53}}{53}, \\quad 12\\right ]</td>\n",
       "      <td>Hallar la longitud de la altura del triángulo ...</td>\n",
       "      <td>1BC</td>\n",
       "      <td>25 - Geometría Plana</td>\n",
       "      <td>p052e46</td>\n",
       "      <td>1</td>\n",
       "      <td>1</td>\n",
       "      <td>1</td>\n",
       "      <td>True</td>\n",
       "      <td>True</td>\n",
       "    </tr>\n",
       "  </tbody>\n",
       "</table>\n",
       "</div>"
      ],
      "text/plain": [
       "                                      enunciado_latex  \\\n",
       "0              A(-1, 3) \\ y \\overrightarrow{u}=(2, 5)   \n",
       "1                                           3x+2y+8=0   \n",
       "2                         \\frac{x-1}{3}=\\frac{2-y}{1}   \n",
       "3                                                 y=5   \n",
       "4                A=(2, 1), \\ B=(1, 2),\\  y \\ C=(3, 3)   \n",
       "5                             A=(0, m)\\  y \\ B=(1, 2)   \n",
       "6              r\\equiv4x-y-1=0\\  y \\ s\\equiv2x+7y-6=0   \n",
       "7              r\\equiv-x+2y+1=0\\  y \\ s\\equiv3x+y+5=0   \n",
       "8   Pasa \\ por \\ A(2, 3)\\  y \\ forma \\ 45 \\ grados...   \n",
       "9   Pasa \\ por \\ A(1, 2)\\  y \\ forma \\ 45 \\ grados...   \n",
       "10  Pasa \\ por \\ A(1, -2)\\  y \\ forma \\ 120 \\ grad...   \n",
       "11   A(4, 0)\\  , \\ B=(6, 2) \\ y \\  C \\in r\\equiv 3...   \n",
       "12                     A(2, 5) \\ y \\   r\\equiv 5x+y=2   \n",
       "13                                    r\\equiv 4x-3y=0   \n",
       "14                            A=(1, -3)\\ y \\ B=(4, 5)   \n",
       "15             A=(-1, 1), \\ B=(1, 4),\\  y \\ C=(2, -3)   \n",
       "16            A=(1, 0), \\ B=(-2, 5),\\  y \\ C=(-1, -3)   \n",
       "17                                           A=(3, 5)   \n",
       "18                           A=(4, -2)\\ y \\ B=(10, 0)   \n",
       "19             A=(2, -1), \\ B=(-5, 1),\\  y \\ C=(0, 3)   \n",
       "\n",
       "                       enunciado  \\\n",
       "0              [(-1, 3), (2, 5)]   \n",
       "1                       Eq(y, 5)   \n",
       "2                       Eq(y, 5)   \n",
       "3                       Eq(y, 5)   \n",
       "4       [(2, 1), (1, 2), (3, 3)]   \n",
       "5               [(0, m), (1, 2)]   \n",
       "6      ['-x+2y+1=0', '3x+y+5=0']   \n",
       "7      ['-x+2y+1=0', '3x+y+5=0']   \n",
       "8          [(1, -2), 'y=0', 120]   \n",
       "9          [(1, -2), 'y=0', 120]   \n",
       "10         [(1, -2), 'y=0', 120]   \n",
       "11  [(4, 0), (6, 2), '3x+y-1=0']   \n",
       "12            [(2, 5), '5x+y=2']   \n",
       "13                       4x-3y=0   \n",
       "14             [(1, -3), (4, 5)]   \n",
       "15    [(-1, 1), (1, 4), (2, -3)]   \n",
       "16   [(1, 0), (-2, 5), (-1, -3)]   \n",
       "17                        (3, 5)   \n",
       "18            [(4, -2), (10, 0)]   \n",
       "19    [(2, -1), (-5, 1), (0, 3)]   \n",
       "\n",
       "                                             solucion  \\\n",
       "0   - 5 x + 2 y - 11 = 0 \\ y \\ Point2D(2*t - 1, 5*...   \n",
       "1                 (Point2D(1, -3/2), Point2D(3/2, 1))   \n",
       "2                 (Point2D(1, -1/3), Point2D(1/3, 1))   \n",
       "3                      (Point2D(1, 0), Point2D(0, 1))   \n",
       "4                                                True   \n",
       "5                                                 [2]   \n",
       "6                                   91.90915243299638   \n",
       "7                                   98.13010235415598   \n",
       "8                  \\frac{x}{3} + y - \\frac{11}{3} = 0   \n",
       "9                   \\frac{x}{3} + y - \\frac{7}{3} = 0   \n",
       "10                  \\sqrt{3} x + y - \\sqrt{3} + 2 = 0   \n",
       "11  \\left [ \\left \\{ x : - \\frac{5}{2}, \\quad y : ...   \n",
       "12  \\left [ - x + 5 y - 23, \\quad Point2D(-1/2, 9/...   \n",
       "13         \\frac{\\left|{4 x - 3 y}\\right|}{5} - 1 = 0   \n",
       "14                                 159.44395478041653   \n",
       "15                                       \\frac{17}{2}   \n",
       "16  \\left ( \\left [ \\frac{19 x}{65} - \\frac{152 y}...   \n",
       "17                                      x + y - 8 = 0   \n",
       "18  \\left [ \\left \\{ x : 10, \\quad y : -10\\right \\...   \n",
       "19  \\left [ \\frac{24 \\sqrt{53}}{53}, \\quad 12\\right ]   \n",
       "\n",
       "                                                texto curso  \\\n",
       "0   Hallar las ecuaciones paramétricas, continua, ...   1BC   \n",
       "1   Halla un vector direccional y un vector perpen...   1BC   \n",
       "2   Halla un vector direccional y un vector perpen...   1BC   \n",
       "3   Halla un vector direccional y un vector perpen...   1BC   \n",
       "4   Comprobar que es isósceles el triángulo de vér...   1BC   \n",
       "5   Determinar m con la condición de que disten 1 ...   1BC   \n",
       "6        Determinar el ángulo formado por las rectas:   1BC   \n",
       "7        Determinar el ángulo formado por las rectas:   1BC   \n",
       "8                              Hallar la recta r que:   1BC   \n",
       "9                              Hallar la recta r que:   1BC   \n",
       "10                             Hallar la recta r que:   1BC   \n",
       "11  Calcula el vértice C de un triángulo isósceles...   1BC   \n",
       "12  Determinar el punto simétrico al punto y respe...   1BC   \n",
       "13  Hallar la ecuación de la recta paralela y que ...   1BC   \n",
       "14  Halla el valor del ángulo que forma con el eje...   1BC   \n",
       "15         Calcula el área del triángulo de vértices:   1BC   \n",
       "16  Hallar las ecuaciones de las alturas y las coo...   1BC   \n",
       "17  Hallar la ecuación de la recta paralela a la b...   1BC   \n",
       "18  Hallar el punto de la bisectriz de los cuadran...   1BC   \n",
       "19  Hallar la longitud de la altura del triángulo ...   1BC   \n",
       "\n",
       "                  titulo   n_ejercicio  dificultad  n_columnas  puntos  \\\n",
       "0   25 - Geometría Plana       p050e01           1           2       1   \n",
       "1   25 - Geometría Plana       p050e02           1           2       1   \n",
       "2   25 - Geometría Plana       p050e02           1           2       1   \n",
       "3   25 - Geometría Plana       p050e02           1           2       1   \n",
       "4   25 - Geometría Plana       p050e04           1           2       1   \n",
       "5   25 - Geometría Plana       p050e05           1           2       1   \n",
       "6   25 - Geometría Plana       p050e06           1           2       1   \n",
       "7   25 - Geometría Plana       p050e06           1           2       1   \n",
       "8   25 - Geometría Plana  p050e07,8y28           1           2       1   \n",
       "9   25 - Geometría Plana  p050e07,8y28           1           2       1   \n",
       "10  25 - Geometría Plana  p050e07,8y28           1           2       1   \n",
       "11  25 - Geometría Plana       p051e20           1           1       1   \n",
       "12  25 - Geometría Plana       p051e21           1           1       1   \n",
       "13  25 - Geometría Plana       p051e23           1           1       1   \n",
       "14  25 - Geometría Plana       p051e29           1           1       1   \n",
       "15  25 - Geometría Plana       p051e33           1           1       1   \n",
       "16  25 - Geometría Plana       p051e35           1           1       1   \n",
       "17  25 - Geometría Plana       p051e38           1           1       1   \n",
       "18  25 - Geometría Plana       p051e45           1           1       1   \n",
       "19  25 - Geometría Plana       p052e46           1           1       1   \n",
       "\n",
       "    enun_tex  sol_tex  \n",
       "0       True     True  \n",
       "1       True     True  \n",
       "2       True     True  \n",
       "3       True     True  \n",
       "4       True     True  \n",
       "5       True     True  \n",
       "6       True     True  \n",
       "7       True     True  \n",
       "8       True     True  \n",
       "9       True     True  \n",
       "10      True     True  \n",
       "11      True     True  \n",
       "12      True     True  \n",
       "13      True     True  \n",
       "14      True     True  \n",
       "15      True     True  \n",
       "16      True     True  \n",
       "17      True     True  \n",
       "18      True     True  \n",
       "19      True     True  "
      ]
     },
     "execution_count": 35,
     "metadata": {},
     "output_type": "execute_result"
    }
   ],
   "source": [
    "df_ejercicios"
   ]
  },
  {
   "cell_type": "code",
   "execution_count": 36,
   "metadata": {},
   "outputs": [
    {
     "data": {
      "text/markdown": [
       "**Ejercicio: **p050e01"
      ],
      "text/plain": [
       "<IPython.core.display.Markdown object>"
      ]
     },
     "metadata": {},
     "output_type": "display_data"
    },
    {
     "data": {
      "text/html": [
       "<div>\n",
       "<style scoped>\n",
       "    .dataframe tbody tr th:only-of-type {\n",
       "        vertical-align: middle;\n",
       "    }\n",
       "\n",
       "    .dataframe tbody tr th {\n",
       "        vertical-align: top;\n",
       "    }\n",
       "\n",
       "    .dataframe thead th {\n",
       "        text-align: right;\n",
       "    }\n",
       "</style>\n",
       "<table border=\"1\" class=\"dataframe\">\n",
       "  <thead>\n",
       "    <tr style=\"text-align: right;\">\n",
       "      <th></th>\n",
       "      <th>enunciado_latex</th>\n",
       "      <th>enunciado</th>\n",
       "      <th>solucion</th>\n",
       "      <th>texto</th>\n",
       "      <th>curso</th>\n",
       "      <th>titulo</th>\n",
       "      <th>n_ejercicio</th>\n",
       "      <th>dificultad</th>\n",
       "      <th>n_columnas</th>\n",
       "      <th>puntos</th>\n",
       "      <th>enun_tex</th>\n",
       "      <th>sol_tex</th>\n",
       "    </tr>\n",
       "  </thead>\n",
       "  <tbody>\n",
       "    <tr>\n",
       "      <th>0</th>\n",
       "      <td>A(-1, 3) \\ y \\overrightarrow{u}=(2, 5)</td>\n",
       "      <td>[(-1, 3), (2, 5)]</td>\n",
       "      <td>- 5 x + 2 y - 11 = 0 \\ y \\ Point2D(2*t - 1, 5*...</td>\n",
       "      <td>Hallar las ecuaciones paramétricas, continua, ...</td>\n",
       "      <td>1BC</td>\n",
       "      <td>25 - Geometría Plana</td>\n",
       "      <td>p050e01</td>\n",
       "      <td>1</td>\n",
       "      <td>2</td>\n",
       "      <td>1</td>\n",
       "      <td>True</td>\n",
       "      <td>True</td>\n",
       "    </tr>\n",
       "  </tbody>\n",
       "</table>\n",
       "</div>"
      ],
      "text/plain": [
       "                          enunciado_latex          enunciado  \\\n",
       "0  A(-1, 3) \\ y \\overrightarrow{u}=(2, 5)  [(-1, 3), (2, 5)]   \n",
       "\n",
       "                                            solucion  \\\n",
       "0  - 5 x + 2 y - 11 = 0 \\ y \\ Point2D(2*t - 1, 5*...   \n",
       "\n",
       "                                               texto curso  \\\n",
       "0  Hallar las ecuaciones paramétricas, continua, ...   1BC   \n",
       "\n",
       "                 titulo n_ejercicio  dificultad  n_columnas  puntos  enun_tex  \\\n",
       "0  25 - Geometría Plana     p050e01           1           2       1      True   \n",
       "\n",
       "   sol_tex  \n",
       "0     True  "
      ]
     },
     "metadata": {},
     "output_type": "display_data"
    },
    {
     "data": {
      "text/markdown": [
       "**Ejercicio: **p050e02"
      ],
      "text/plain": [
       "<IPython.core.display.Markdown object>"
      ]
     },
     "metadata": {},
     "output_type": "display_data"
    },
    {
     "data": {
      "text/html": [
       "<div>\n",
       "<style scoped>\n",
       "    .dataframe tbody tr th:only-of-type {\n",
       "        vertical-align: middle;\n",
       "    }\n",
       "\n",
       "    .dataframe tbody tr th {\n",
       "        vertical-align: top;\n",
       "    }\n",
       "\n",
       "    .dataframe thead th {\n",
       "        text-align: right;\n",
       "    }\n",
       "</style>\n",
       "<table border=\"1\" class=\"dataframe\">\n",
       "  <thead>\n",
       "    <tr style=\"text-align: right;\">\n",
       "      <th></th>\n",
       "      <th>enunciado_latex</th>\n",
       "      <th>enunciado</th>\n",
       "      <th>solucion</th>\n",
       "      <th>texto</th>\n",
       "      <th>curso</th>\n",
       "      <th>titulo</th>\n",
       "      <th>n_ejercicio</th>\n",
       "      <th>dificultad</th>\n",
       "      <th>n_columnas</th>\n",
       "      <th>puntos</th>\n",
       "      <th>enun_tex</th>\n",
       "      <th>sol_tex</th>\n",
       "    </tr>\n",
       "  </thead>\n",
       "  <tbody>\n",
       "    <tr>\n",
       "      <th>1</th>\n",
       "      <td>3x+2y+8=0</td>\n",
       "      <td>Eq(y, 5)</td>\n",
       "      <td>(Point2D(1, -3/2), Point2D(3/2, 1))</td>\n",
       "      <td>Halla un vector direccional y un vector perpen...</td>\n",
       "      <td>1BC</td>\n",
       "      <td>25 - Geometría Plana</td>\n",
       "      <td>p050e02</td>\n",
       "      <td>1</td>\n",
       "      <td>2</td>\n",
       "      <td>1</td>\n",
       "      <td>True</td>\n",
       "      <td>True</td>\n",
       "    </tr>\n",
       "    <tr>\n",
       "      <th>2</th>\n",
       "      <td>\\frac{x-1}{3}=\\frac{2-y}{1}</td>\n",
       "      <td>Eq(y, 5)</td>\n",
       "      <td>(Point2D(1, -1/3), Point2D(1/3, 1))</td>\n",
       "      <td>Halla un vector direccional y un vector perpen...</td>\n",
       "      <td>1BC</td>\n",
       "      <td>25 - Geometría Plana</td>\n",
       "      <td>p050e02</td>\n",
       "      <td>1</td>\n",
       "      <td>2</td>\n",
       "      <td>1</td>\n",
       "      <td>True</td>\n",
       "      <td>True</td>\n",
       "    </tr>\n",
       "    <tr>\n",
       "      <th>3</th>\n",
       "      <td>y=5</td>\n",
       "      <td>Eq(y, 5)</td>\n",
       "      <td>(Point2D(1, 0), Point2D(0, 1))</td>\n",
       "      <td>Halla un vector direccional y un vector perpen...</td>\n",
       "      <td>1BC</td>\n",
       "      <td>25 - Geometría Plana</td>\n",
       "      <td>p050e02</td>\n",
       "      <td>1</td>\n",
       "      <td>2</td>\n",
       "      <td>1</td>\n",
       "      <td>True</td>\n",
       "      <td>True</td>\n",
       "    </tr>\n",
       "  </tbody>\n",
       "</table>\n",
       "</div>"
      ],
      "text/plain": [
       "               enunciado_latex enunciado                             solucion  \\\n",
       "1                    3x+2y+8=0  Eq(y, 5)  (Point2D(1, -3/2), Point2D(3/2, 1))   \n",
       "2  \\frac{x-1}{3}=\\frac{2-y}{1}  Eq(y, 5)  (Point2D(1, -1/3), Point2D(1/3, 1))   \n",
       "3                          y=5  Eq(y, 5)       (Point2D(1, 0), Point2D(0, 1))   \n",
       "\n",
       "                                               texto curso  \\\n",
       "1  Halla un vector direccional y un vector perpen...   1BC   \n",
       "2  Halla un vector direccional y un vector perpen...   1BC   \n",
       "3  Halla un vector direccional y un vector perpen...   1BC   \n",
       "\n",
       "                 titulo n_ejercicio  dificultad  n_columnas  puntos  enun_tex  \\\n",
       "1  25 - Geometría Plana     p050e02           1           2       1      True   \n",
       "2  25 - Geometría Plana     p050e02           1           2       1      True   \n",
       "3  25 - Geometría Plana     p050e02           1           2       1      True   \n",
       "\n",
       "   sol_tex  \n",
       "1     True  \n",
       "2     True  \n",
       "3     True  "
      ]
     },
     "metadata": {},
     "output_type": "display_data"
    },
    {
     "data": {
      "text/markdown": [
       "**Ejercicio: **p050e04"
      ],
      "text/plain": [
       "<IPython.core.display.Markdown object>"
      ]
     },
     "metadata": {},
     "output_type": "display_data"
    },
    {
     "data": {
      "text/html": [
       "<div>\n",
       "<style scoped>\n",
       "    .dataframe tbody tr th:only-of-type {\n",
       "        vertical-align: middle;\n",
       "    }\n",
       "\n",
       "    .dataframe tbody tr th {\n",
       "        vertical-align: top;\n",
       "    }\n",
       "\n",
       "    .dataframe thead th {\n",
       "        text-align: right;\n",
       "    }\n",
       "</style>\n",
       "<table border=\"1\" class=\"dataframe\">\n",
       "  <thead>\n",
       "    <tr style=\"text-align: right;\">\n",
       "      <th></th>\n",
       "      <th>enunciado_latex</th>\n",
       "      <th>enunciado</th>\n",
       "      <th>solucion</th>\n",
       "      <th>texto</th>\n",
       "      <th>curso</th>\n",
       "      <th>titulo</th>\n",
       "      <th>n_ejercicio</th>\n",
       "      <th>dificultad</th>\n",
       "      <th>n_columnas</th>\n",
       "      <th>puntos</th>\n",
       "      <th>enun_tex</th>\n",
       "      <th>sol_tex</th>\n",
       "    </tr>\n",
       "  </thead>\n",
       "  <tbody>\n",
       "    <tr>\n",
       "      <th>4</th>\n",
       "      <td>A=(2, 1), \\ B=(1, 2),\\  y \\ C=(3, 3)</td>\n",
       "      <td>[(2, 1), (1, 2), (3, 3)]</td>\n",
       "      <td>True</td>\n",
       "      <td>Comprobar que es isósceles el triángulo de vér...</td>\n",
       "      <td>1BC</td>\n",
       "      <td>25 - Geometría Plana</td>\n",
       "      <td>p050e04</td>\n",
       "      <td>1</td>\n",
       "      <td>2</td>\n",
       "      <td>1</td>\n",
       "      <td>True</td>\n",
       "      <td>True</td>\n",
       "    </tr>\n",
       "  </tbody>\n",
       "</table>\n",
       "</div>"
      ],
      "text/plain": [
       "                        enunciado_latex                 enunciado solucion  \\\n",
       "4  A=(2, 1), \\ B=(1, 2),\\  y \\ C=(3, 3)  [(2, 1), (1, 2), (3, 3)]     True   \n",
       "\n",
       "                                               texto curso  \\\n",
       "4  Comprobar que es isósceles el triángulo de vér...   1BC   \n",
       "\n",
       "                 titulo n_ejercicio  dificultad  n_columnas  puntos  enun_tex  \\\n",
       "4  25 - Geometría Plana     p050e04           1           2       1      True   \n",
       "\n",
       "   sol_tex  \n",
       "4     True  "
      ]
     },
     "metadata": {},
     "output_type": "display_data"
    },
    {
     "data": {
      "text/markdown": [
       "**Ejercicio: **p050e05"
      ],
      "text/plain": [
       "<IPython.core.display.Markdown object>"
      ]
     },
     "metadata": {},
     "output_type": "display_data"
    },
    {
     "data": {
      "text/html": [
       "<div>\n",
       "<style scoped>\n",
       "    .dataframe tbody tr th:only-of-type {\n",
       "        vertical-align: middle;\n",
       "    }\n",
       "\n",
       "    .dataframe tbody tr th {\n",
       "        vertical-align: top;\n",
       "    }\n",
       "\n",
       "    .dataframe thead th {\n",
       "        text-align: right;\n",
       "    }\n",
       "</style>\n",
       "<table border=\"1\" class=\"dataframe\">\n",
       "  <thead>\n",
       "    <tr style=\"text-align: right;\">\n",
       "      <th></th>\n",
       "      <th>enunciado_latex</th>\n",
       "      <th>enunciado</th>\n",
       "      <th>solucion</th>\n",
       "      <th>texto</th>\n",
       "      <th>curso</th>\n",
       "      <th>titulo</th>\n",
       "      <th>n_ejercicio</th>\n",
       "      <th>dificultad</th>\n",
       "      <th>n_columnas</th>\n",
       "      <th>puntos</th>\n",
       "      <th>enun_tex</th>\n",
       "      <th>sol_tex</th>\n",
       "    </tr>\n",
       "  </thead>\n",
       "  <tbody>\n",
       "    <tr>\n",
       "      <th>5</th>\n",
       "      <td>A=(0, m)\\  y \\ B=(1, 2)</td>\n",
       "      <td>[(0, m), (1, 2)]</td>\n",
       "      <td>[2]</td>\n",
       "      <td>Determinar m con la condición de que disten 1 ...</td>\n",
       "      <td>1BC</td>\n",
       "      <td>25 - Geometría Plana</td>\n",
       "      <td>p050e05</td>\n",
       "      <td>1</td>\n",
       "      <td>2</td>\n",
       "      <td>1</td>\n",
       "      <td>True</td>\n",
       "      <td>True</td>\n",
       "    </tr>\n",
       "  </tbody>\n",
       "</table>\n",
       "</div>"
      ],
      "text/plain": [
       "           enunciado_latex         enunciado solucion  \\\n",
       "5  A=(0, m)\\  y \\ B=(1, 2)  [(0, m), (1, 2)]      [2]   \n",
       "\n",
       "                                               texto curso  \\\n",
       "5  Determinar m con la condición de que disten 1 ...   1BC   \n",
       "\n",
       "                 titulo n_ejercicio  dificultad  n_columnas  puntos  enun_tex  \\\n",
       "5  25 - Geometría Plana     p050e05           1           2       1      True   \n",
       "\n",
       "   sol_tex  \n",
       "5     True  "
      ]
     },
     "metadata": {},
     "output_type": "display_data"
    },
    {
     "data": {
      "text/markdown": [
       "**Ejercicio: **p050e06"
      ],
      "text/plain": [
       "<IPython.core.display.Markdown object>"
      ]
     },
     "metadata": {},
     "output_type": "display_data"
    },
    {
     "data": {
      "text/html": [
       "<div>\n",
       "<style scoped>\n",
       "    .dataframe tbody tr th:only-of-type {\n",
       "        vertical-align: middle;\n",
       "    }\n",
       "\n",
       "    .dataframe tbody tr th {\n",
       "        vertical-align: top;\n",
       "    }\n",
       "\n",
       "    .dataframe thead th {\n",
       "        text-align: right;\n",
       "    }\n",
       "</style>\n",
       "<table border=\"1\" class=\"dataframe\">\n",
       "  <thead>\n",
       "    <tr style=\"text-align: right;\">\n",
       "      <th></th>\n",
       "      <th>enunciado_latex</th>\n",
       "      <th>enunciado</th>\n",
       "      <th>solucion</th>\n",
       "      <th>texto</th>\n",
       "      <th>curso</th>\n",
       "      <th>titulo</th>\n",
       "      <th>n_ejercicio</th>\n",
       "      <th>dificultad</th>\n",
       "      <th>n_columnas</th>\n",
       "      <th>puntos</th>\n",
       "      <th>enun_tex</th>\n",
       "      <th>sol_tex</th>\n",
       "    </tr>\n",
       "  </thead>\n",
       "  <tbody>\n",
       "    <tr>\n",
       "      <th>6</th>\n",
       "      <td>r\\equiv4x-y-1=0\\  y \\ s\\equiv2x+7y-6=0</td>\n",
       "      <td>['-x+2y+1=0', '3x+y+5=0']</td>\n",
       "      <td>91.90915243299638</td>\n",
       "      <td>Determinar el ángulo formado por las rectas:</td>\n",
       "      <td>1BC</td>\n",
       "      <td>25 - Geometría Plana</td>\n",
       "      <td>p050e06</td>\n",
       "      <td>1</td>\n",
       "      <td>2</td>\n",
       "      <td>1</td>\n",
       "      <td>True</td>\n",
       "      <td>True</td>\n",
       "    </tr>\n",
       "    <tr>\n",
       "      <th>7</th>\n",
       "      <td>r\\equiv-x+2y+1=0\\  y \\ s\\equiv3x+y+5=0</td>\n",
       "      <td>['-x+2y+1=0', '3x+y+5=0']</td>\n",
       "      <td>98.13010235415598</td>\n",
       "      <td>Determinar el ángulo formado por las rectas:</td>\n",
       "      <td>1BC</td>\n",
       "      <td>25 - Geometría Plana</td>\n",
       "      <td>p050e06</td>\n",
       "      <td>1</td>\n",
       "      <td>2</td>\n",
       "      <td>1</td>\n",
       "      <td>True</td>\n",
       "      <td>True</td>\n",
       "    </tr>\n",
       "  </tbody>\n",
       "</table>\n",
       "</div>"
      ],
      "text/plain": [
       "                          enunciado_latex                  enunciado  \\\n",
       "6  r\\equiv4x-y-1=0\\  y \\ s\\equiv2x+7y-6=0  ['-x+2y+1=0', '3x+y+5=0']   \n",
       "7  r\\equiv-x+2y+1=0\\  y \\ s\\equiv3x+y+5=0  ['-x+2y+1=0', '3x+y+5=0']   \n",
       "\n",
       "            solucion                                         texto curso  \\\n",
       "6  91.90915243299638  Determinar el ángulo formado por las rectas:   1BC   \n",
       "7  98.13010235415598  Determinar el ángulo formado por las rectas:   1BC   \n",
       "\n",
       "                 titulo n_ejercicio  dificultad  n_columnas  puntos  enun_tex  \\\n",
       "6  25 - Geometría Plana     p050e06           1           2       1      True   \n",
       "7  25 - Geometría Plana     p050e06           1           2       1      True   \n",
       "\n",
       "   sol_tex  \n",
       "6     True  \n",
       "7     True  "
      ]
     },
     "metadata": {},
     "output_type": "display_data"
    },
    {
     "data": {
      "text/markdown": [
       "**Ejercicio: **p050e07,8y28"
      ],
      "text/plain": [
       "<IPython.core.display.Markdown object>"
      ]
     },
     "metadata": {},
     "output_type": "display_data"
    },
    {
     "data": {
      "text/html": [
       "<div>\n",
       "<style scoped>\n",
       "    .dataframe tbody tr th:only-of-type {\n",
       "        vertical-align: middle;\n",
       "    }\n",
       "\n",
       "    .dataframe tbody tr th {\n",
       "        vertical-align: top;\n",
       "    }\n",
       "\n",
       "    .dataframe thead th {\n",
       "        text-align: right;\n",
       "    }\n",
       "</style>\n",
       "<table border=\"1\" class=\"dataframe\">\n",
       "  <thead>\n",
       "    <tr style=\"text-align: right;\">\n",
       "      <th></th>\n",
       "      <th>enunciado_latex</th>\n",
       "      <th>enunciado</th>\n",
       "      <th>solucion</th>\n",
       "      <th>texto</th>\n",
       "      <th>curso</th>\n",
       "      <th>titulo</th>\n",
       "      <th>n_ejercicio</th>\n",
       "      <th>dificultad</th>\n",
       "      <th>n_columnas</th>\n",
       "      <th>puntos</th>\n",
       "      <th>enun_tex</th>\n",
       "      <th>sol_tex</th>\n",
       "    </tr>\n",
       "  </thead>\n",
       "  <tbody>\n",
       "    <tr>\n",
       "      <th>8</th>\n",
       "      <td>Pasa \\ por \\ A(2, 3)\\  y \\ forma \\ 45 \\ grados...</td>\n",
       "      <td>[(1, -2), 'y=0', 120]</td>\n",
       "      <td>\\frac{x}{3} + y - \\frac{11}{3} = 0</td>\n",
       "      <td>Hallar la recta r que:</td>\n",
       "      <td>1BC</td>\n",
       "      <td>25 - Geometría Plana</td>\n",
       "      <td>p050e07,8y28</td>\n",
       "      <td>1</td>\n",
       "      <td>2</td>\n",
       "      <td>1</td>\n",
       "      <td>True</td>\n",
       "      <td>True</td>\n",
       "    </tr>\n",
       "    <tr>\n",
       "      <th>9</th>\n",
       "      <td>Pasa \\ por \\ A(1, 2)\\  y \\ forma \\ 45 \\ grados...</td>\n",
       "      <td>[(1, -2), 'y=0', 120]</td>\n",
       "      <td>\\frac{x}{3} + y - \\frac{7}{3} = 0</td>\n",
       "      <td>Hallar la recta r que:</td>\n",
       "      <td>1BC</td>\n",
       "      <td>25 - Geometría Plana</td>\n",
       "      <td>p050e07,8y28</td>\n",
       "      <td>1</td>\n",
       "      <td>2</td>\n",
       "      <td>1</td>\n",
       "      <td>True</td>\n",
       "      <td>True</td>\n",
       "    </tr>\n",
       "    <tr>\n",
       "      <th>10</th>\n",
       "      <td>Pasa \\ por \\ A(1, -2)\\  y \\ forma \\ 120 \\ grad...</td>\n",
       "      <td>[(1, -2), 'y=0', 120]</td>\n",
       "      <td>\\sqrt{3} x + y - \\sqrt{3} + 2 = 0</td>\n",
       "      <td>Hallar la recta r que:</td>\n",
       "      <td>1BC</td>\n",
       "      <td>25 - Geometría Plana</td>\n",
       "      <td>p050e07,8y28</td>\n",
       "      <td>1</td>\n",
       "      <td>2</td>\n",
       "      <td>1</td>\n",
       "      <td>True</td>\n",
       "      <td>True</td>\n",
       "    </tr>\n",
       "  </tbody>\n",
       "</table>\n",
       "</div>"
      ],
      "text/plain": [
       "                                      enunciado_latex              enunciado  \\\n",
       "8   Pasa \\ por \\ A(2, 3)\\  y \\ forma \\ 45 \\ grados...  [(1, -2), 'y=0', 120]   \n",
       "9   Pasa \\ por \\ A(1, 2)\\  y \\ forma \\ 45 \\ grados...  [(1, -2), 'y=0', 120]   \n",
       "10  Pasa \\ por \\ A(1, -2)\\  y \\ forma \\ 120 \\ grad...  [(1, -2), 'y=0', 120]   \n",
       "\n",
       "                              solucion                   texto curso  \\\n",
       "8   \\frac{x}{3} + y - \\frac{11}{3} = 0  Hallar la recta r que:   1BC   \n",
       "9    \\frac{x}{3} + y - \\frac{7}{3} = 0  Hallar la recta r que:   1BC   \n",
       "10   \\sqrt{3} x + y - \\sqrt{3} + 2 = 0  Hallar la recta r que:   1BC   \n",
       "\n",
       "                  titulo   n_ejercicio  dificultad  n_columnas  puntos  \\\n",
       "8   25 - Geometría Plana  p050e07,8y28           1           2       1   \n",
       "9   25 - Geometría Plana  p050e07,8y28           1           2       1   \n",
       "10  25 - Geometría Plana  p050e07,8y28           1           2       1   \n",
       "\n",
       "    enun_tex  sol_tex  \n",
       "8       True     True  \n",
       "9       True     True  \n",
       "10      True     True  "
      ]
     },
     "metadata": {},
     "output_type": "display_data"
    },
    {
     "data": {
      "text/markdown": [
       "**Ejercicio: **p051e20"
      ],
      "text/plain": [
       "<IPython.core.display.Markdown object>"
      ]
     },
     "metadata": {},
     "output_type": "display_data"
    },
    {
     "data": {
      "text/html": [
       "<div>\n",
       "<style scoped>\n",
       "    .dataframe tbody tr th:only-of-type {\n",
       "        vertical-align: middle;\n",
       "    }\n",
       "\n",
       "    .dataframe tbody tr th {\n",
       "        vertical-align: top;\n",
       "    }\n",
       "\n",
       "    .dataframe thead th {\n",
       "        text-align: right;\n",
       "    }\n",
       "</style>\n",
       "<table border=\"1\" class=\"dataframe\">\n",
       "  <thead>\n",
       "    <tr style=\"text-align: right;\">\n",
       "      <th></th>\n",
       "      <th>enunciado_latex</th>\n",
       "      <th>enunciado</th>\n",
       "      <th>solucion</th>\n",
       "      <th>texto</th>\n",
       "      <th>curso</th>\n",
       "      <th>titulo</th>\n",
       "      <th>n_ejercicio</th>\n",
       "      <th>dificultad</th>\n",
       "      <th>n_columnas</th>\n",
       "      <th>puntos</th>\n",
       "      <th>enun_tex</th>\n",
       "      <th>sol_tex</th>\n",
       "    </tr>\n",
       "  </thead>\n",
       "  <tbody>\n",
       "    <tr>\n",
       "      <th>11</th>\n",
       "      <td>A(4, 0)\\  , \\ B=(6, 2) \\ y \\  C \\in r\\equiv 3...</td>\n",
       "      <td>[(4, 0), (6, 2), '3x+y-1=0']</td>\n",
       "      <td>\\left [ \\left \\{ x : - \\frac{5}{2}, \\quad y : ...</td>\n",
       "      <td>Calcula el vértice C de un triángulo isósceles...</td>\n",
       "      <td>1BC</td>\n",
       "      <td>25 - Geometría Plana</td>\n",
       "      <td>p051e20</td>\n",
       "      <td>1</td>\n",
       "      <td>1</td>\n",
       "      <td>1</td>\n",
       "      <td>True</td>\n",
       "      <td>True</td>\n",
       "    </tr>\n",
       "  </tbody>\n",
       "</table>\n",
       "</div>"
      ],
      "text/plain": [
       "                                      enunciado_latex  \\\n",
       "11   A(4, 0)\\  , \\ B=(6, 2) \\ y \\  C \\in r\\equiv 3...   \n",
       "\n",
       "                       enunciado  \\\n",
       "11  [(4, 0), (6, 2), '3x+y-1=0']   \n",
       "\n",
       "                                             solucion  \\\n",
       "11  \\left [ \\left \\{ x : - \\frac{5}{2}, \\quad y : ...   \n",
       "\n",
       "                                                texto curso  \\\n",
       "11  Calcula el vértice C de un triángulo isósceles...   1BC   \n",
       "\n",
       "                  titulo n_ejercicio  dificultad  n_columnas  puntos  \\\n",
       "11  25 - Geometría Plana     p051e20           1           1       1   \n",
       "\n",
       "    enun_tex  sol_tex  \n",
       "11      True     True  "
      ]
     },
     "metadata": {},
     "output_type": "display_data"
    },
    {
     "data": {
      "text/markdown": [
       "**Ejercicio: **p051e21"
      ],
      "text/plain": [
       "<IPython.core.display.Markdown object>"
      ]
     },
     "metadata": {},
     "output_type": "display_data"
    },
    {
     "data": {
      "text/html": [
       "<div>\n",
       "<style scoped>\n",
       "    .dataframe tbody tr th:only-of-type {\n",
       "        vertical-align: middle;\n",
       "    }\n",
       "\n",
       "    .dataframe tbody tr th {\n",
       "        vertical-align: top;\n",
       "    }\n",
       "\n",
       "    .dataframe thead th {\n",
       "        text-align: right;\n",
       "    }\n",
       "</style>\n",
       "<table border=\"1\" class=\"dataframe\">\n",
       "  <thead>\n",
       "    <tr style=\"text-align: right;\">\n",
       "      <th></th>\n",
       "      <th>enunciado_latex</th>\n",
       "      <th>enunciado</th>\n",
       "      <th>solucion</th>\n",
       "      <th>texto</th>\n",
       "      <th>curso</th>\n",
       "      <th>titulo</th>\n",
       "      <th>n_ejercicio</th>\n",
       "      <th>dificultad</th>\n",
       "      <th>n_columnas</th>\n",
       "      <th>puntos</th>\n",
       "      <th>enun_tex</th>\n",
       "      <th>sol_tex</th>\n",
       "    </tr>\n",
       "  </thead>\n",
       "  <tbody>\n",
       "    <tr>\n",
       "      <th>12</th>\n",
       "      <td>A(2, 5) \\ y \\   r\\equiv 5x+y=2</td>\n",
       "      <td>[(2, 5), '5x+y=2']</td>\n",
       "      <td>\\left [ - x + 5 y - 23, \\quad Point2D(-1/2, 9/...</td>\n",
       "      <td>Determinar el punto simétrico al punto y respe...</td>\n",
       "      <td>1BC</td>\n",
       "      <td>25 - Geometría Plana</td>\n",
       "      <td>p051e21</td>\n",
       "      <td>1</td>\n",
       "      <td>1</td>\n",
       "      <td>1</td>\n",
       "      <td>True</td>\n",
       "      <td>True</td>\n",
       "    </tr>\n",
       "  </tbody>\n",
       "</table>\n",
       "</div>"
      ],
      "text/plain": [
       "                    enunciado_latex           enunciado  \\\n",
       "12   A(2, 5) \\ y \\   r\\equiv 5x+y=2  [(2, 5), '5x+y=2']   \n",
       "\n",
       "                                             solucion  \\\n",
       "12  \\left [ - x + 5 y - 23, \\quad Point2D(-1/2, 9/...   \n",
       "\n",
       "                                                texto curso  \\\n",
       "12  Determinar el punto simétrico al punto y respe...   1BC   \n",
       "\n",
       "                  titulo n_ejercicio  dificultad  n_columnas  puntos  \\\n",
       "12  25 - Geometría Plana     p051e21           1           1       1   \n",
       "\n",
       "    enun_tex  sol_tex  \n",
       "12      True     True  "
      ]
     },
     "metadata": {},
     "output_type": "display_data"
    },
    {
     "data": {
      "text/markdown": [
       "**Ejercicio: **p051e23"
      ],
      "text/plain": [
       "<IPython.core.display.Markdown object>"
      ]
     },
     "metadata": {},
     "output_type": "display_data"
    },
    {
     "data": {
      "text/html": [
       "<div>\n",
       "<style scoped>\n",
       "    .dataframe tbody tr th:only-of-type {\n",
       "        vertical-align: middle;\n",
       "    }\n",
       "\n",
       "    .dataframe tbody tr th {\n",
       "        vertical-align: top;\n",
       "    }\n",
       "\n",
       "    .dataframe thead th {\n",
       "        text-align: right;\n",
       "    }\n",
       "</style>\n",
       "<table border=\"1\" class=\"dataframe\">\n",
       "  <thead>\n",
       "    <tr style=\"text-align: right;\">\n",
       "      <th></th>\n",
       "      <th>enunciado_latex</th>\n",
       "      <th>enunciado</th>\n",
       "      <th>solucion</th>\n",
       "      <th>texto</th>\n",
       "      <th>curso</th>\n",
       "      <th>titulo</th>\n",
       "      <th>n_ejercicio</th>\n",
       "      <th>dificultad</th>\n",
       "      <th>n_columnas</th>\n",
       "      <th>puntos</th>\n",
       "      <th>enun_tex</th>\n",
       "      <th>sol_tex</th>\n",
       "    </tr>\n",
       "  </thead>\n",
       "  <tbody>\n",
       "    <tr>\n",
       "      <th>13</th>\n",
       "      <td>r\\equiv 4x-3y=0</td>\n",
       "      <td>4x-3y=0</td>\n",
       "      <td>\\frac{\\left|{4 x - 3 y}\\right|}{5} - 1 = 0</td>\n",
       "      <td>Hallar la ecuación de la recta paralela y que ...</td>\n",
       "      <td>1BC</td>\n",
       "      <td>25 - Geometría Plana</td>\n",
       "      <td>p051e23</td>\n",
       "      <td>1</td>\n",
       "      <td>1</td>\n",
       "      <td>1</td>\n",
       "      <td>True</td>\n",
       "      <td>True</td>\n",
       "    </tr>\n",
       "  </tbody>\n",
       "</table>\n",
       "</div>"
      ],
      "text/plain": [
       "    enunciado_latex enunciado                                    solucion  \\\n",
       "13  r\\equiv 4x-3y=0   4x-3y=0  \\frac{\\left|{4 x - 3 y}\\right|}{5} - 1 = 0   \n",
       "\n",
       "                                                texto curso  \\\n",
       "13  Hallar la ecuación de la recta paralela y que ...   1BC   \n",
       "\n",
       "                  titulo n_ejercicio  dificultad  n_columnas  puntos  \\\n",
       "13  25 - Geometría Plana     p051e23           1           1       1   \n",
       "\n",
       "    enun_tex  sol_tex  \n",
       "13      True     True  "
      ]
     },
     "metadata": {},
     "output_type": "display_data"
    },
    {
     "data": {
      "text/markdown": [
       "**Ejercicio: **p051e29"
      ],
      "text/plain": [
       "<IPython.core.display.Markdown object>"
      ]
     },
     "metadata": {},
     "output_type": "display_data"
    },
    {
     "data": {
      "text/html": [
       "<div>\n",
       "<style scoped>\n",
       "    .dataframe tbody tr th:only-of-type {\n",
       "        vertical-align: middle;\n",
       "    }\n",
       "\n",
       "    .dataframe tbody tr th {\n",
       "        vertical-align: top;\n",
       "    }\n",
       "\n",
       "    .dataframe thead th {\n",
       "        text-align: right;\n",
       "    }\n",
       "</style>\n",
       "<table border=\"1\" class=\"dataframe\">\n",
       "  <thead>\n",
       "    <tr style=\"text-align: right;\">\n",
       "      <th></th>\n",
       "      <th>enunciado_latex</th>\n",
       "      <th>enunciado</th>\n",
       "      <th>solucion</th>\n",
       "      <th>texto</th>\n",
       "      <th>curso</th>\n",
       "      <th>titulo</th>\n",
       "      <th>n_ejercicio</th>\n",
       "      <th>dificultad</th>\n",
       "      <th>n_columnas</th>\n",
       "      <th>puntos</th>\n",
       "      <th>enun_tex</th>\n",
       "      <th>sol_tex</th>\n",
       "    </tr>\n",
       "  </thead>\n",
       "  <tbody>\n",
       "    <tr>\n",
       "      <th>14</th>\n",
       "      <td>A=(1, -3)\\ y \\ B=(4, 5)</td>\n",
       "      <td>[(1, -3), (4, 5)]</td>\n",
       "      <td>159.44395478041653</td>\n",
       "      <td>Halla el valor del ángulo que forma con el eje...</td>\n",
       "      <td>1BC</td>\n",
       "      <td>25 - Geometría Plana</td>\n",
       "      <td>p051e29</td>\n",
       "      <td>1</td>\n",
       "      <td>1</td>\n",
       "      <td>1</td>\n",
       "      <td>True</td>\n",
       "      <td>True</td>\n",
       "    </tr>\n",
       "  </tbody>\n",
       "</table>\n",
       "</div>"
      ],
      "text/plain": [
       "            enunciado_latex          enunciado            solucion  \\\n",
       "14  A=(1, -3)\\ y \\ B=(4, 5)  [(1, -3), (4, 5)]  159.44395478041653   \n",
       "\n",
       "                                                texto curso  \\\n",
       "14  Halla el valor del ángulo que forma con el eje...   1BC   \n",
       "\n",
       "                  titulo n_ejercicio  dificultad  n_columnas  puntos  \\\n",
       "14  25 - Geometría Plana     p051e29           1           1       1   \n",
       "\n",
       "    enun_tex  sol_tex  \n",
       "14      True     True  "
      ]
     },
     "metadata": {},
     "output_type": "display_data"
    },
    {
     "data": {
      "text/markdown": [
       "**Ejercicio: **p051e33"
      ],
      "text/plain": [
       "<IPython.core.display.Markdown object>"
      ]
     },
     "metadata": {},
     "output_type": "display_data"
    },
    {
     "data": {
      "text/html": [
       "<div>\n",
       "<style scoped>\n",
       "    .dataframe tbody tr th:only-of-type {\n",
       "        vertical-align: middle;\n",
       "    }\n",
       "\n",
       "    .dataframe tbody tr th {\n",
       "        vertical-align: top;\n",
       "    }\n",
       "\n",
       "    .dataframe thead th {\n",
       "        text-align: right;\n",
       "    }\n",
       "</style>\n",
       "<table border=\"1\" class=\"dataframe\">\n",
       "  <thead>\n",
       "    <tr style=\"text-align: right;\">\n",
       "      <th></th>\n",
       "      <th>enunciado_latex</th>\n",
       "      <th>enunciado</th>\n",
       "      <th>solucion</th>\n",
       "      <th>texto</th>\n",
       "      <th>curso</th>\n",
       "      <th>titulo</th>\n",
       "      <th>n_ejercicio</th>\n",
       "      <th>dificultad</th>\n",
       "      <th>n_columnas</th>\n",
       "      <th>puntos</th>\n",
       "      <th>enun_tex</th>\n",
       "      <th>sol_tex</th>\n",
       "    </tr>\n",
       "  </thead>\n",
       "  <tbody>\n",
       "    <tr>\n",
       "      <th>15</th>\n",
       "      <td>A=(-1, 1), \\ B=(1, 4),\\  y \\ C=(2, -3)</td>\n",
       "      <td>[(-1, 1), (1, 4), (2, -3)]</td>\n",
       "      <td>\\frac{17}{2}</td>\n",
       "      <td>Calcula el área del triángulo de vértices:</td>\n",
       "      <td>1BC</td>\n",
       "      <td>25 - Geometría Plana</td>\n",
       "      <td>p051e33</td>\n",
       "      <td>1</td>\n",
       "      <td>1</td>\n",
       "      <td>1</td>\n",
       "      <td>True</td>\n",
       "      <td>True</td>\n",
       "    </tr>\n",
       "  </tbody>\n",
       "</table>\n",
       "</div>"
      ],
      "text/plain": [
       "                           enunciado_latex                   enunciado  \\\n",
       "15  A=(-1, 1), \\ B=(1, 4),\\  y \\ C=(2, -3)  [(-1, 1), (1, 4), (2, -3)]   \n",
       "\n",
       "        solucion                                       texto curso  \\\n",
       "15  \\frac{17}{2}  Calcula el área del triángulo de vértices:   1BC   \n",
       "\n",
       "                  titulo n_ejercicio  dificultad  n_columnas  puntos  \\\n",
       "15  25 - Geometría Plana     p051e33           1           1       1   \n",
       "\n",
       "    enun_tex  sol_tex  \n",
       "15      True     True  "
      ]
     },
     "metadata": {},
     "output_type": "display_data"
    },
    {
     "data": {
      "text/markdown": [
       "**Ejercicio: **p051e35"
      ],
      "text/plain": [
       "<IPython.core.display.Markdown object>"
      ]
     },
     "metadata": {},
     "output_type": "display_data"
    },
    {
     "data": {
      "text/html": [
       "<div>\n",
       "<style scoped>\n",
       "    .dataframe tbody tr th:only-of-type {\n",
       "        vertical-align: middle;\n",
       "    }\n",
       "\n",
       "    .dataframe tbody tr th {\n",
       "        vertical-align: top;\n",
       "    }\n",
       "\n",
       "    .dataframe thead th {\n",
       "        text-align: right;\n",
       "    }\n",
       "</style>\n",
       "<table border=\"1\" class=\"dataframe\">\n",
       "  <thead>\n",
       "    <tr style=\"text-align: right;\">\n",
       "      <th></th>\n",
       "      <th>enunciado_latex</th>\n",
       "      <th>enunciado</th>\n",
       "      <th>solucion</th>\n",
       "      <th>texto</th>\n",
       "      <th>curso</th>\n",
       "      <th>titulo</th>\n",
       "      <th>n_ejercicio</th>\n",
       "      <th>dificultad</th>\n",
       "      <th>n_columnas</th>\n",
       "      <th>puntos</th>\n",
       "      <th>enun_tex</th>\n",
       "      <th>sol_tex</th>\n",
       "    </tr>\n",
       "  </thead>\n",
       "  <tbody>\n",
       "    <tr>\n",
       "      <th>16</th>\n",
       "      <td>A=(1, 0), \\ B=(-2, 5),\\  y \\ C=(-1, -3)</td>\n",
       "      <td>[(1, 0), (-2, 5), (-1, -3)]</td>\n",
       "      <td>\\left ( \\left [ \\frac{19 x}{65} - \\frac{152 y}...</td>\n",
       "      <td>Hallar las ecuaciones de las alturas y las coo...</td>\n",
       "      <td>1BC</td>\n",
       "      <td>25 - Geometría Plana</td>\n",
       "      <td>p051e35</td>\n",
       "      <td>1</td>\n",
       "      <td>1</td>\n",
       "      <td>1</td>\n",
       "      <td>True</td>\n",
       "      <td>True</td>\n",
       "    </tr>\n",
       "  </tbody>\n",
       "</table>\n",
       "</div>"
      ],
      "text/plain": [
       "                            enunciado_latex                    enunciado  \\\n",
       "16  A=(1, 0), \\ B=(-2, 5),\\  y \\ C=(-1, -3)  [(1, 0), (-2, 5), (-1, -3)]   \n",
       "\n",
       "                                             solucion  \\\n",
       "16  \\left ( \\left [ \\frac{19 x}{65} - \\frac{152 y}...   \n",
       "\n",
       "                                                texto curso  \\\n",
       "16  Hallar las ecuaciones de las alturas y las coo...   1BC   \n",
       "\n",
       "                  titulo n_ejercicio  dificultad  n_columnas  puntos  \\\n",
       "16  25 - Geometría Plana     p051e35           1           1       1   \n",
       "\n",
       "    enun_tex  sol_tex  \n",
       "16      True     True  "
      ]
     },
     "metadata": {},
     "output_type": "display_data"
    },
    {
     "data": {
      "text/markdown": [
       "**Ejercicio: **p051e38"
      ],
      "text/plain": [
       "<IPython.core.display.Markdown object>"
      ]
     },
     "metadata": {},
     "output_type": "display_data"
    },
    {
     "data": {
      "text/html": [
       "<div>\n",
       "<style scoped>\n",
       "    .dataframe tbody tr th:only-of-type {\n",
       "        vertical-align: middle;\n",
       "    }\n",
       "\n",
       "    .dataframe tbody tr th {\n",
       "        vertical-align: top;\n",
       "    }\n",
       "\n",
       "    .dataframe thead th {\n",
       "        text-align: right;\n",
       "    }\n",
       "</style>\n",
       "<table border=\"1\" class=\"dataframe\">\n",
       "  <thead>\n",
       "    <tr style=\"text-align: right;\">\n",
       "      <th></th>\n",
       "      <th>enunciado_latex</th>\n",
       "      <th>enunciado</th>\n",
       "      <th>solucion</th>\n",
       "      <th>texto</th>\n",
       "      <th>curso</th>\n",
       "      <th>titulo</th>\n",
       "      <th>n_ejercicio</th>\n",
       "      <th>dificultad</th>\n",
       "      <th>n_columnas</th>\n",
       "      <th>puntos</th>\n",
       "      <th>enun_tex</th>\n",
       "      <th>sol_tex</th>\n",
       "    </tr>\n",
       "  </thead>\n",
       "  <tbody>\n",
       "    <tr>\n",
       "      <th>17</th>\n",
       "      <td>A=(3, 5)</td>\n",
       "      <td>(3, 5)</td>\n",
       "      <td>x + y - 8 = 0</td>\n",
       "      <td>Hallar la ecuación de la recta paralela a la b...</td>\n",
       "      <td>1BC</td>\n",
       "      <td>25 - Geometría Plana</td>\n",
       "      <td>p051e38</td>\n",
       "      <td>1</td>\n",
       "      <td>1</td>\n",
       "      <td>1</td>\n",
       "      <td>True</td>\n",
       "      <td>True</td>\n",
       "    </tr>\n",
       "  </tbody>\n",
       "</table>\n",
       "</div>"
      ],
      "text/plain": [
       "   enunciado_latex enunciado       solucion  \\\n",
       "17        A=(3, 5)    (3, 5)  x + y - 8 = 0   \n",
       "\n",
       "                                                texto curso  \\\n",
       "17  Hallar la ecuación de la recta paralela a la b...   1BC   \n",
       "\n",
       "                  titulo n_ejercicio  dificultad  n_columnas  puntos  \\\n",
       "17  25 - Geometría Plana     p051e38           1           1       1   \n",
       "\n",
       "    enun_tex  sol_tex  \n",
       "17      True     True  "
      ]
     },
     "metadata": {},
     "output_type": "display_data"
    },
    {
     "data": {
      "text/markdown": [
       "**Ejercicio: **p051e45"
      ],
      "text/plain": [
       "<IPython.core.display.Markdown object>"
      ]
     },
     "metadata": {},
     "output_type": "display_data"
    },
    {
     "data": {
      "text/html": [
       "<div>\n",
       "<style scoped>\n",
       "    .dataframe tbody tr th:only-of-type {\n",
       "        vertical-align: middle;\n",
       "    }\n",
       "\n",
       "    .dataframe tbody tr th {\n",
       "        vertical-align: top;\n",
       "    }\n",
       "\n",
       "    .dataframe thead th {\n",
       "        text-align: right;\n",
       "    }\n",
       "</style>\n",
       "<table border=\"1\" class=\"dataframe\">\n",
       "  <thead>\n",
       "    <tr style=\"text-align: right;\">\n",
       "      <th></th>\n",
       "      <th>enunciado_latex</th>\n",
       "      <th>enunciado</th>\n",
       "      <th>solucion</th>\n",
       "      <th>texto</th>\n",
       "      <th>curso</th>\n",
       "      <th>titulo</th>\n",
       "      <th>n_ejercicio</th>\n",
       "      <th>dificultad</th>\n",
       "      <th>n_columnas</th>\n",
       "      <th>puntos</th>\n",
       "      <th>enun_tex</th>\n",
       "      <th>sol_tex</th>\n",
       "    </tr>\n",
       "  </thead>\n",
       "  <tbody>\n",
       "    <tr>\n",
       "      <th>18</th>\n",
       "      <td>A=(4, -2)\\ y \\ B=(10, 0)</td>\n",
       "      <td>[(4, -2), (10, 0)]</td>\n",
       "      <td>\\left [ \\left \\{ x : 10, \\quad y : -10\\right \\...</td>\n",
       "      <td>Hallar el punto de la bisectriz de los cuadran...</td>\n",
       "      <td>1BC</td>\n",
       "      <td>25 - Geometría Plana</td>\n",
       "      <td>p051e45</td>\n",
       "      <td>1</td>\n",
       "      <td>1</td>\n",
       "      <td>1</td>\n",
       "      <td>True</td>\n",
       "      <td>True</td>\n",
       "    </tr>\n",
       "  </tbody>\n",
       "</table>\n",
       "</div>"
      ],
      "text/plain": [
       "             enunciado_latex           enunciado  \\\n",
       "18  A=(4, -2)\\ y \\ B=(10, 0)  [(4, -2), (10, 0)]   \n",
       "\n",
       "                                             solucion  \\\n",
       "18  \\left [ \\left \\{ x : 10, \\quad y : -10\\right \\...   \n",
       "\n",
       "                                                texto curso  \\\n",
       "18  Hallar el punto de la bisectriz de los cuadran...   1BC   \n",
       "\n",
       "                  titulo n_ejercicio  dificultad  n_columnas  puntos  \\\n",
       "18  25 - Geometría Plana     p051e45           1           1       1   \n",
       "\n",
       "    enun_tex  sol_tex  \n",
       "18      True     True  "
      ]
     },
     "metadata": {},
     "output_type": "display_data"
    },
    {
     "data": {
      "text/markdown": [
       "**Ejercicio: **p052e46"
      ],
      "text/plain": [
       "<IPython.core.display.Markdown object>"
      ]
     },
     "metadata": {},
     "output_type": "display_data"
    },
    {
     "data": {
      "text/html": [
       "<div>\n",
       "<style scoped>\n",
       "    .dataframe tbody tr th:only-of-type {\n",
       "        vertical-align: middle;\n",
       "    }\n",
       "\n",
       "    .dataframe tbody tr th {\n",
       "        vertical-align: top;\n",
       "    }\n",
       "\n",
       "    .dataframe thead th {\n",
       "        text-align: right;\n",
       "    }\n",
       "</style>\n",
       "<table border=\"1\" class=\"dataframe\">\n",
       "  <thead>\n",
       "    <tr style=\"text-align: right;\">\n",
       "      <th></th>\n",
       "      <th>enunciado_latex</th>\n",
       "      <th>enunciado</th>\n",
       "      <th>solucion</th>\n",
       "      <th>texto</th>\n",
       "      <th>curso</th>\n",
       "      <th>titulo</th>\n",
       "      <th>n_ejercicio</th>\n",
       "      <th>dificultad</th>\n",
       "      <th>n_columnas</th>\n",
       "      <th>puntos</th>\n",
       "      <th>enun_tex</th>\n",
       "      <th>sol_tex</th>\n",
       "    </tr>\n",
       "  </thead>\n",
       "  <tbody>\n",
       "    <tr>\n",
       "      <th>19</th>\n",
       "      <td>A=(2, -1), \\ B=(-5, 1),\\  y \\ C=(0, 3)</td>\n",
       "      <td>[(2, -1), (-5, 1), (0, 3)]</td>\n",
       "      <td>\\left [ \\frac{24 \\sqrt{53}}{53}, \\quad 12\\right ]</td>\n",
       "      <td>Hallar la longitud de la altura del triángulo ...</td>\n",
       "      <td>1BC</td>\n",
       "      <td>25 - Geometría Plana</td>\n",
       "      <td>p052e46</td>\n",
       "      <td>1</td>\n",
       "      <td>1</td>\n",
       "      <td>1</td>\n",
       "      <td>True</td>\n",
       "      <td>True</td>\n",
       "    </tr>\n",
       "  </tbody>\n",
       "</table>\n",
       "</div>"
      ],
      "text/plain": [
       "                           enunciado_latex                   enunciado  \\\n",
       "19  A=(2, -1), \\ B=(-5, 1),\\  y \\ C=(0, 3)  [(2, -1), (-5, 1), (0, 3)]   \n",
       "\n",
       "                                             solucion  \\\n",
       "19  \\left [ \\frac{24 \\sqrt{53}}{53}, \\quad 12\\right ]   \n",
       "\n",
       "                                                texto curso  \\\n",
       "19  Hallar la longitud de la altura del triángulo ...   1BC   \n",
       "\n",
       "                  titulo n_ejercicio  dificultad  n_columnas  puntos  \\\n",
       "19  25 - Geometría Plana     p052e46           1           1       1   \n",
       "\n",
       "    enun_tex  sol_tex  \n",
       "19      True     True  "
      ]
     },
     "metadata": {},
     "output_type": "display_data"
    }
   ],
   "source": [
    "escribir_preambulo(fichero, titulo, 'ejercicios')\n",
    "for s in df_ejercicios.groupby('n_ejercicio').count().index : \n",
    "    display(md(\"**Ejercicio: **\" + s ))\n",
    "    display(df_ejercicios[df_ejercicios.n_ejercicio == s])\n",
    "    escribir_ejercicios(df_ejercicios[df_ejercicios.n_ejercicio == s],fichero)\n",
    "\n",
    "escribir_fin(fichero)"
   ]
  }
 ],
 "metadata": {
  "kernelspec": {
   "display_name": "Python 3",
   "language": "python",
   "name": "python3"
  },
  "language_info": {
   "codemirror_mode": {
    "name": "ipython",
    "version": 3
   },
   "file_extension": ".py",
   "mimetype": "text/x-python",
   "name": "python",
   "nbconvert_exporter": "python",
   "pygments_lexer": "ipython3",
   "version": "3.6.5"
  }
 },
 "nbformat": 4,
 "nbformat_minor": 2
}
