{
 "cells": [
  {
   "cell_type": "markdown",
   "metadata": {},
   "source": [
    "<a href=\"https://colab.research.google.com/github/crdguez/mat1bac_cit/blob/master/notebooks/Ejercicios1_3.ipynb\"><img align=\"left\" src=\"https://colab.research.google.com/assets/colab-badge.svg\" alt=\"Open in Colab\" title=\"Open and Execute in Google Colaboratory\"></a>"
   ]
  },
  {
   "cell_type": "code",
   "execution_count": 3,
   "metadata": {},
   "outputs": [
    {
     "name": "stdout",
     "output_type": "stream",
     "text": [
      "IPython console for SymPy 1.2 (Python 3.6.5-64-bit) (ground types: gmpy)\n",
      "\n",
      "These commands were executed:\n",
      ">>> from __future__ import division\n",
      ">>> from sympy import *\n",
      ">>> x, y, z, t = symbols('x y z t')\n",
      ">>> k, m, n = symbols('k m n', integer=True)\n",
      ">>> f, g, h = symbols('f g h', cls=Function)\n",
      ">>> init_printing()\n",
      "\n",
      "Documentation can be found at http://docs.sympy.org/1.2/\n",
      "\n"
     ]
    }
   ],
   "source": [
    "from sympy import init_session\n",
    "from sympy.parsing.latex import parse_latex\n",
    "from sympy.parsing.sympy_parser import parse_expr\n",
    "from sympy.functions.combinatorial.numbers import nC, nP, nT\n",
    "from IPython.display import Markdown as md\n",
    "from IPython.display import display\n",
    "import pandas as pd\n",
    "\n",
    "init_session()\n",
    "\n",
    "a, b, c, d = symbols('a b c d', real = True)\n",
    "from docparts import añadir_ejercicios, doc_ejer, escribir_preambulo, escribir_ejercicios, escribir_fin\n",
    "\n",
    "df_ejercicios = pd.DataFrame()\n",
    "\n",
    "fichero = 'parcial1'\n",
    "titulo = 'Parcial 1'\n",
    "curso = '1BC'\n"
   ]
  },
  {
   "cell_type": "code",
   "execution_count": 2,
   "metadata": {},
   "outputs": [],
   "source": [
    "def simbolo (operacion):\n",
    "    if operacion == '<=' :\n",
    "        return('\\leq')\n",
    "    elif operacion == '>=' :\n",
    "        return('\\geq')\n",
    "    else :\n",
    "        return(operacion)"
   ]
  },
  {
   "cell_type": "code",
   "execution_count": 3,
   "metadata": {},
   "outputs": [
    {
     "data": {
      "text/markdown": [
       "**Resolver las siguientes inecuaciones:**"
      ],
      "text/plain": [
       "<IPython.core.display.Markdown object>"
      ]
     },
     "metadata": {},
     "output_type": "display_data"
    },
    {
     "data": {
      "text/markdown": [
       "$\\left|{x - 2}\\right| - 1<0 \\rightarrow  1 < x \\wedge x < 3$"
      ],
      "text/plain": [
       "<IPython.core.display.Markdown object>"
      ]
     },
     "metadata": {},
     "output_type": "display_data"
    },
    {
     "data": {
      "text/markdown": [
       "$\\left|{2 x + 3}\\right| - 4<0 \\rightarrow  - \\frac{7}{2} < x \\wedge x < \\frac{1}{2}$"
      ],
      "text/plain": [
       "<IPython.core.display.Markdown object>"
      ]
     },
     "metadata": {},
     "output_type": "display_data"
    },
    {
     "data": {
      "text/markdown": [
       "$\\left|{x + 5}\\right| - 2\\leq0 \\rightarrow  -7 \\leq x \\wedge x \\leq -3$"
      ],
      "text/plain": [
       "<IPython.core.display.Markdown object>"
      ]
     },
     "metadata": {},
     "output_type": "display_data"
    },
    {
     "data": {
      "text/markdown": [
       "$\\left|{3 x - 2}\\right| - 0.5\\leq0 \\rightarrow  0.5 \\leq x \\wedge x \\leq 0.833333333333333$"
      ],
      "text/plain": [
       "<IPython.core.display.Markdown object>"
      ]
     },
     "metadata": {},
     "output_type": "display_data"
    },
    {
     "data": {
      "text/markdown": [
       "$\\left|{x - 1}\\right| - 2>0 \\rightarrow  \\left(-\\infty < x \\wedge x < -1\\right) \\vee \\left(3 < x \\wedge x < \\infty\\right)$"
      ],
      "text/plain": [
       "<IPython.core.display.Markdown object>"
      ]
     },
     "metadata": {},
     "output_type": "display_data"
    },
    {
     "data": {
      "text/markdown": [
       "$\\left|{x + 2}\\right| - 5>0 \\rightarrow  \\left(-\\infty < x \\wedge x < -7\\right) \\vee \\left(3 < x \\wedge x < \\infty\\right)$"
      ],
      "text/plain": [
       "<IPython.core.display.Markdown object>"
      ]
     },
     "metadata": {},
     "output_type": "display_data"
    },
    {
     "data": {
      "text/markdown": [
       "$\\left|{2 x - 3}\\right| - 1\\geq0 \\rightarrow  \\left(2 \\leq x \\wedge x < \\infty\\right) \\vee \\left(x \\leq 1 \\wedge -\\infty < x\\right)$"
      ],
      "text/plain": [
       "<IPython.core.display.Markdown object>"
      ]
     },
     "metadata": {},
     "output_type": "display_data"
    },
    {
     "data": {
      "text/markdown": [
       "$\\left|{2 x + 1}\\right| - 0.5\\geq0 \\rightarrow  \\left(-0.25 \\leq x \\wedge x < \\infty\\right) \\vee \\left(x \\leq -0.75 \\wedge - \\infty < x\\right)$"
      ],
      "text/plain": [
       "<IPython.core.display.Markdown object>"
      ]
     },
     "metadata": {},
     "output_type": "display_data"
    }
   ],
   "source": [
    "\n",
    "\n",
    "texto_ejercicio = 'Representa en la recta real los conjuntos A, B y C'\n",
    "texto_ejercicio = texto_ejercicio +\"\"\"A continuación, calcula calcula $A  B$ , $A B$ y $A  B C$ , \n",
    "y expresa los resultados en forma de Intervalos. \n",
    "Encuentra, si existe, el supremo y el ínfimo de cada uno de los\n",
    "conjuntos anteriores\"\"\"\n",
    "n_ejercicio = 'p009e03'\n",
    "\n",
    "display(md(\"**\"+texto_ejercicio+\"**\"))\n",
    "\n",
    "\n",
    "enunciado =[(Abs(x-2)-1,'<'),(Abs(2*x+3)-4,'<'),(Abs(x+5)-2,'<='),\n",
    "            (Abs(3*x-2)-1/2,'<='),(Abs(x-1)-2,'>'),(Abs(x+2)-5,'>'),\n",
    "            (Abs(2*x-3)-1,'>='),(Abs(2*x+1)-1/2,'>=')]\n",
    "\n",
    "enunciado_latex = []\n",
    "solucion = []\n",
    "\n",
    "for s in enunciado:\n",
    "    enunciado_latex.append(latex(s[0])+simbolo(s[1])+' 0')\n",
    "    solucion.append(latex(reduce_abs_inequalities([s], x)))\n",
    "    display(md('$'+latex(s[0])+simbolo(s[1])+\n",
    "               '0 \\\\rightarrow  '+ latex(reduce_abs_inequalities([s], x))+'$'))\n",
    "    \n",
    "\n",
    "df_ejercicios = df_ejercicios.append(añadir_ejercicios(enunciado_latex, enunciado, solucion, texto_ejercicio, curso, titulo, n_ejercicio), ignore_index=True)\n"
   ]
  },
  {
   "cell_type": "code",
   "execution_count": 102,
   "metadata": {},
   "outputs": [
    {
     "data": {
      "text/markdown": [
       "Sean:\n",
       "\n",
       "\n",
       "$A=\\left\\{ x \\in \\mathbb{R}| -2 \\leq x \\wedge x \\leq 5 \\right\\}$ \n",
       "\n",
       "$B=\\left(-\\infty, -1\\right) \\cup \\left(1, \\infty\\right) $\n",
       "\n",
       "Representa en la recta real los conjuntos A, B y C. A continuación, calcula $A \\cup  B$ , $A \\cap B$ y $A \\cap B \\cap C$ , \n",
       "y expresa los resultados en forma de Intervalos. \n",
       "Encuentra, si existe, el supremo y el ínfimo de cada uno de los\n",
       "conjuntos anteriores"
      ],
      "text/plain": [
       "<IPython.core.display.Markdown object>"
      ]
     },
     "metadata": {},
     "output_type": "display_data"
    },
    {
     "data": {
      "image/png": "[encoded data removed]",
      "text/latex": [
       "$$\\left(-\\infty < x \\wedge x < -1\\right) \\vee \\left(1 < x \\wedge x < \\infty\\right)$$"
      ],
      "text/plain": [
       "(-∞ < x ∧ x < -1) ∨ (1 < x ∧ x < ∞)"
      ]
     },
     "execution_count": 102,
     "metadata": {},
     "output_type": "execute_result"
    }
   ],
   "source": [
    "A = Interval(-2,5)\n",
    "B = Interval.open(-oo,-1).union(Interval.open(1,oo))\n",
    "\n",
    "\n",
    "texto_ejercicio = r\"\"\"Sean:\n",
    "\n",
    "\n",
    "\"\"\"\n",
    "\n",
    "\n",
    "texto_ejercicio = texto_ejercicio + r\"\"\"$A=\\left\\{ x \\in \\mathbb{R}| %s \\right\\}$ \n",
    "\n",
    "$B=%s $\n",
    "\n",
    "\"\"\"  % (latex(A.as_relational(x)), latex(B))\n",
    "\n",
    "\n",
    "\n",
    "texto_ejercicio = texto_ejercicio + r'Representa en la recta real los conjuntos A, B y C. '\n",
    "texto_ejercicio = texto_ejercicio +r\"\"\"A continuación, calcula $A \\cup  B$ , $A \\cap B$ y $A \\cap B \\cap C$ , \n",
    "y expresa los resultados en forma de Intervalos. \n",
    "Encuentra, si existe, el supremo y el ínfimo de cada uno de los\n",
    "conjuntos anteriores\"\"\"\n",
    "\n",
    "display(md(texto_ejercicio))\n",
    "A\n",
    "A.as_relational(x)\n",
    "B.as_relational(x)\n"
   ]
  },
  {
   "cell_type": "code",
   "execution_count": 87,
   "metadata": {},
   "outputs": [
    {
     "data": {
      "text/markdown": [
       "$A(X)=\\left| x \\in \\mathbb{R} \\right|$"
      ],
      "text/plain": [
       "<IPython.core.display.Markdown object>"
      ]
     },
     "execution_count": 87,
     "metadata": {},
     "output_type": "execute_result"
    }
   ],
   "source": [
    "md(r'$A(X)=\\left| x \\in \\mathbb{R} \\right|$')"
   ]
  },
  {
   "cell_type": "code",
   "execution_count": 3,
   "metadata": {},
   "outputs": [
    {
     "data": {
      "text/markdown": [
       "**Resolver las siguientes inecuaciones:**"
      ],
      "text/plain": [
       "<IPython.core.display.Markdown object>"
      ]
     },
     "metadata": {},
     "output_type": "display_data"
    },
    {
     "data": {
      "text/markdown": [
       "$\\left|{x - 2}\\right| - 1<0 \\rightarrow  1 < x \\wedge x < 3$"
      ],
      "text/plain": [
       "<IPython.core.display.Markdown object>"
      ]
     },
     "metadata": {},
     "output_type": "display_data"
    },
    {
     "data": {
      "text/markdown": [
       "$\\left|{2 x + 3}\\right| - 4<0 \\rightarrow  - \\frac{7}{2} < x \\wedge x < \\frac{1}{2}$"
      ],
      "text/plain": [
       "<IPython.core.display.Markdown object>"
      ]
     },
     "metadata": {},
     "output_type": "display_data"
    },
    {
     "data": {
      "text/markdown": [
       "$\\left|{x + 5}\\right| - 2\\leq0 \\rightarrow  -7 \\leq x \\wedge x \\leq -3$"
      ],
      "text/plain": [
       "<IPython.core.display.Markdown object>"
      ]
     },
     "metadata": {},
     "output_type": "display_data"
    },
    {
     "data": {
      "text/markdown": [
       "$\\left|{3 x - 2}\\right| - 0.5\\leq0 \\rightarrow  0.5 \\leq x \\wedge x \\leq 0.833333333333333$"
      ],
      "text/plain": [
       "<IPython.core.display.Markdown object>"
      ]
     },
     "metadata": {},
     "output_type": "display_data"
    },
    {
     "data": {
      "text/markdown": [
       "$\\left|{x - 1}\\right| - 2>0 \\rightarrow  \\left(-\\infty < x \\wedge x < -1\\right) \\vee \\left(3 < x \\wedge x < \\infty\\right)$"
      ],
      "text/plain": [
       "<IPython.core.display.Markdown object>"
      ]
     },
     "metadata": {},
     "output_type": "display_data"
    },
    {
     "data": {
      "text/markdown": [
       "$\\left|{x + 2}\\right| - 5>0 \\rightarrow  \\left(-\\infty < x \\wedge x < -7\\right) \\vee \\left(3 < x \\wedge x < \\infty\\right)$"
      ],
      "text/plain": [
       "<IPython.core.display.Markdown object>"
      ]
     },
     "metadata": {},
     "output_type": "display_data"
    },
    {
     "data": {
      "text/markdown": [
       "$\\left|{2 x - 3}\\right| - 1\\geq0 \\rightarrow  \\left(2 \\leq x \\wedge x < \\infty\\right) \\vee \\left(x \\leq 1 \\wedge -\\infty < x\\right)$"
      ],
      "text/plain": [
       "<IPython.core.display.Markdown object>"
      ]
     },
     "metadata": {},
     "output_type": "display_data"
    },
    {
     "data": {
      "text/markdown": [
       "$\\left|{2 x + 1}\\right| - 0.5\\geq0 \\rightarrow  \\left(-0.25 \\leq x \\wedge x < \\infty\\right) \\vee \\left(x \\leq -0.75 \\wedge - \\infty < x\\right)$"
      ],
      "text/plain": [
       "<IPython.core.display.Markdown object>"
      ]
     },
     "metadata": {},
     "output_type": "display_data"
    }
   ],
   "source": [
    "# Página 2 ejercicio 9\n",
    "\n",
    "texto_ejercicio = 'Resolver las siguientes inecuaciones:'\n",
    "n_ejercicio = 'p009e03'\n",
    "\n",
    "display(md(\"**\"+texto_ejercicio+\"**\"))\n",
    "\n",
    "\n",
    "enunciado =[(Abs(x-2)-1,'<'),(Abs(2*x+3)-4,'<'),(Abs(x+5)-2,'<='),\n",
    "            (Abs(3*x-2)-1/2,'<='),(Abs(x-1)-2,'>'),(Abs(x+2)-5,'>'),\n",
    "            (Abs(2*x-3)-1,'>='),(Abs(2*x+1)-1/2,'>=')]\n",
    "\n",
    "enunciado_latex = []\n",
    "solucion = []\n",
    "\n",
    "for s in enunciado:\n",
    "    enunciado_latex.append(latex(s[0])+simbolo(s[1])+' 0')\n",
    "    solucion.append(latex(reduce_abs_inequalities([s], x)))\n",
    "    display(md('$'+latex(s[0])+simbolo(s[1])+\n",
    "               '0 \\\\rightarrow  '+ latex(reduce_abs_inequalities([s], x))+'$'))\n",
    "    \n",
    "\n",
    "df_ejercicios = df_ejercicios.append(añadir_ejercicios(enunciado_latex, enunciado, solucion, texto_ejercicio, curso, titulo, n_ejercicio), ignore_index=True)\n"
   ]
  },
  {
   "cell_type": "code",
   "execution_count": 4,
   "metadata": {},
   "outputs": [
    {
     "data": {
      "text/markdown": [
       "**Ejercicio: **p9e3"
      ],
      "text/plain": [
       "<IPython.core.display.Markdown object>"
      ]
     },
     "metadata": {},
     "output_type": "display_data"
    },
    {
     "data": {
      "text/html": [
       "<div>\n",
       "<style scoped>\n",
       "    .dataframe tbody tr th:only-of-type {\n",
       "        vertical-align: middle;\n",
       "    }\n",
       "\n",
       "    .dataframe tbody tr th {\n",
       "        vertical-align: top;\n",
       "    }\n",
       "\n",
       "    .dataframe thead th {\n",
       "        text-align: right;\n",
       "    }\n",
       "</style>\n",
       "<table border=\"1\" class=\"dataframe\">\n",
       "  <thead>\n",
       "    <tr style=\"text-align: right;\">\n",
       "      <th></th>\n",
       "      <th>enunciado_latex</th>\n",
       "      <th>enunciado</th>\n",
       "      <th>solucion</th>\n",
       "      <th>texto</th>\n",
       "      <th>curso</th>\n",
       "      <th>titulo</th>\n",
       "      <th>n_ejercicio</th>\n",
       "      <th>dificultad</th>\n",
       "      <th>n_columnas</th>\n",
       "      <th>puntos</th>\n",
       "    </tr>\n",
       "  </thead>\n",
       "  <tbody>\n",
       "    <tr>\n",
       "      <th>0</th>\n",
       "      <td>\\left|{x - 2}\\right| - 1&lt; 0</td>\n",
       "      <td>(Abs(x - 2) - 1, '&lt;')</td>\n",
       "      <td>1 &lt; x \\wedge x &lt; 3</td>\n",
       "      <td>Resolver las siguientes inecuaciones:</td>\n",
       "      <td>1BC</td>\n",
       "      <td>1 - Números reales</td>\n",
       "      <td>p9e3</td>\n",
       "      <td>1</td>\n",
       "      <td>3</td>\n",
       "      <td>1</td>\n",
       "    </tr>\n",
       "    <tr>\n",
       "      <th>1</th>\n",
       "      <td>\\left|{2 x + 3}\\right| - 4&lt; 0</td>\n",
       "      <td>(Abs(2*x + 3) - 4, '&lt;')</td>\n",
       "      <td>- \\frac{7}{2} &lt; x \\wedge x &lt; \\frac{1}{2}</td>\n",
       "      <td>Resolver las siguientes inecuaciones:</td>\n",
       "      <td>1BC</td>\n",
       "      <td>1 - Números reales</td>\n",
       "      <td>p9e3</td>\n",
       "      <td>1</td>\n",
       "      <td>3</td>\n",
       "      <td>1</td>\n",
       "    </tr>\n",
       "    <tr>\n",
       "      <th>2</th>\n",
       "      <td>\\left|{x + 5}\\right| - 2\\leq 0</td>\n",
       "      <td>(Abs(x + 5) - 2, '&lt;=')</td>\n",
       "      <td>-7 \\leq x \\wedge x \\leq -3</td>\n",
       "      <td>Resolver las siguientes inecuaciones:</td>\n",
       "      <td>1BC</td>\n",
       "      <td>1 - Números reales</td>\n",
       "      <td>p9e3</td>\n",
       "      <td>1</td>\n",
       "      <td>3</td>\n",
       "      <td>1</td>\n",
       "    </tr>\n",
       "    <tr>\n",
       "      <th>3</th>\n",
       "      <td>\\left|{3 x - 2}\\right| - 0.5\\leq 0</td>\n",
       "      <td>(Abs(3*x - 2) - 0.5, '&lt;=')</td>\n",
       "      <td>0.5 \\leq x \\wedge x \\leq 0.833333333333333</td>\n",
       "      <td>Resolver las siguientes inecuaciones:</td>\n",
       "      <td>1BC</td>\n",
       "      <td>1 - Números reales</td>\n",
       "      <td>p9e3</td>\n",
       "      <td>1</td>\n",
       "      <td>3</td>\n",
       "      <td>1</td>\n",
       "    </tr>\n",
       "    <tr>\n",
       "      <th>4</th>\n",
       "      <td>\\left|{x - 1}\\right| - 2&gt; 0</td>\n",
       "      <td>(Abs(x - 1) - 2, '&gt;')</td>\n",
       "      <td>\\left(-\\infty &lt; x \\wedge x &lt; -1\\right) \\vee \\l...</td>\n",
       "      <td>Resolver las siguientes inecuaciones:</td>\n",
       "      <td>1BC</td>\n",
       "      <td>1 - Números reales</td>\n",
       "      <td>p9e3</td>\n",
       "      <td>1</td>\n",
       "      <td>3</td>\n",
       "      <td>1</td>\n",
       "    </tr>\n",
       "    <tr>\n",
       "      <th>5</th>\n",
       "      <td>\\left|{x + 2}\\right| - 5&gt; 0</td>\n",
       "      <td>(Abs(x + 2) - 5, '&gt;')</td>\n",
       "      <td>\\left(-\\infty &lt; x \\wedge x &lt; -7\\right) \\vee \\l...</td>\n",
       "      <td>Resolver las siguientes inecuaciones:</td>\n",
       "      <td>1BC</td>\n",
       "      <td>1 - Números reales</td>\n",
       "      <td>p9e3</td>\n",
       "      <td>1</td>\n",
       "      <td>3</td>\n",
       "      <td>1</td>\n",
       "    </tr>\n",
       "    <tr>\n",
       "      <th>6</th>\n",
       "      <td>\\left|{2 x - 3}\\right| - 1\\geq 0</td>\n",
       "      <td>(Abs(2*x - 3) - 1, '&gt;=')</td>\n",
       "      <td>\\left(2 \\leq x \\wedge x &lt; \\infty\\right) \\vee \\...</td>\n",
       "      <td>Resolver las siguientes inecuaciones:</td>\n",
       "      <td>1BC</td>\n",
       "      <td>1 - Números reales</td>\n",
       "      <td>p9e3</td>\n",
       "      <td>1</td>\n",
       "      <td>3</td>\n",
       "      <td>1</td>\n",
       "    </tr>\n",
       "    <tr>\n",
       "      <th>7</th>\n",
       "      <td>\\left|{2 x + 1}\\right| - 0.5\\geq 0</td>\n",
       "      <td>(Abs(2*x + 1) - 0.5, '&gt;=')</td>\n",
       "      <td>\\left(-0.25 \\leq x \\wedge x &lt; \\infty\\right) \\v...</td>\n",
       "      <td>Resolver las siguientes inecuaciones:</td>\n",
       "      <td>1BC</td>\n",
       "      <td>1 - Números reales</td>\n",
       "      <td>p9e3</td>\n",
       "      <td>1</td>\n",
       "      <td>3</td>\n",
       "      <td>1</td>\n",
       "    </tr>\n",
       "  </tbody>\n",
       "</table>\n",
       "</div>"
      ],
      "text/plain": [
       "                      enunciado_latex                   enunciado  \\\n",
       "0         \\left|{x - 2}\\right| - 1< 0       (Abs(x - 2) - 1, '<')   \n",
       "1       \\left|{2 x + 3}\\right| - 4< 0     (Abs(2*x + 3) - 4, '<')   \n",
       "2      \\left|{x + 5}\\right| - 2\\leq 0      (Abs(x + 5) - 2, '<=')   \n",
       "3  \\left|{3 x - 2}\\right| - 0.5\\leq 0  (Abs(3*x - 2) - 0.5, '<=')   \n",
       "4         \\left|{x - 1}\\right| - 2> 0       (Abs(x - 1) - 2, '>')   \n",
       "5         \\left|{x + 2}\\right| - 5> 0       (Abs(x + 2) - 5, '>')   \n",
       "6    \\left|{2 x - 3}\\right| - 1\\geq 0    (Abs(2*x - 3) - 1, '>=')   \n",
       "7  \\left|{2 x + 1}\\right| - 0.5\\geq 0  (Abs(2*x + 1) - 0.5, '>=')   \n",
       "\n",
       "                                            solucion  \\\n",
       "0                                 1 < x \\wedge x < 3   \n",
       "1           - \\frac{7}{2} < x \\wedge x < \\frac{1}{2}   \n",
       "2                         -7 \\leq x \\wedge x \\leq -3   \n",
       "3         0.5 \\leq x \\wedge x \\leq 0.833333333333333   \n",
       "4  \\left(-\\infty < x \\wedge x < -1\\right) \\vee \\l...   \n",
       "5  \\left(-\\infty < x \\wedge x < -7\\right) \\vee \\l...   \n",
       "6  \\left(2 \\leq x \\wedge x < \\infty\\right) \\vee \\...   \n",
       "7  \\left(-0.25 \\leq x \\wedge x < \\infty\\right) \\v...   \n",
       "\n",
       "                                   texto curso              titulo  \\\n",
       "0  Resolver las siguientes inecuaciones:   1BC  1 - Números reales   \n",
       "1  Resolver las siguientes inecuaciones:   1BC  1 - Números reales   \n",
       "2  Resolver las siguientes inecuaciones:   1BC  1 - Números reales   \n",
       "3  Resolver las siguientes inecuaciones:   1BC  1 - Números reales   \n",
       "4  Resolver las siguientes inecuaciones:   1BC  1 - Números reales   \n",
       "5  Resolver las siguientes inecuaciones:   1BC  1 - Números reales   \n",
       "6  Resolver las siguientes inecuaciones:   1BC  1 - Números reales   \n",
       "7  Resolver las siguientes inecuaciones:   1BC  1 - Números reales   \n",
       "\n",
       "  n_ejercicio  dificultad  n_columnas  puntos  \n",
       "0        p9e3           1           3       1  \n",
       "1        p9e3           1           3       1  \n",
       "2        p9e3           1           3       1  \n",
       "3        p9e3           1           3       1  \n",
       "4        p9e3           1           3       1  \n",
       "5        p9e3           1           3       1  \n",
       "6        p9e3           1           3       1  \n",
       "7        p9e3           1           3       1  "
      ]
     },
     "metadata": {},
     "output_type": "display_data"
    }
   ],
   "source": [
    "df_ejercicios.to_csv('ejercicios1.csv', index = False)\n",
    "df_ejercicios = pd.read_csv('ejercicios1.csv', index_col= None)\n",
    "escribir_preambulo(fichero, titulo)\n",
    "for s in df_ejercicios.groupby('n_ejercicio').count().index : \n",
    "    display(md(\"**Ejercicio: **\" + s ))\n",
    "    display(df_ejercicios[df_ejercicios.n_ejercicio == s])\n",
    "    escribir_ejercicios(df_ejercicios[df_ejercicios.n_ejercicio == s],fichero)\n",
    "\n",
    "escribir_fin(fichero)"
   ]
  }
 ],
 "metadata": {
  "kernelspec": {
   "display_name": "Python 3",
   "language": "python",
   "name": "python3"
  },
  "language_info": {
   "codemirror_mode": {
    "name": "ipython",
    "version": 3
   },
   "file_extension": ".py",
   "mimetype": "text/x-python",
   "name": "python",
   "nbconvert_exporter": "python",
   "pygments_lexer": "ipython3",
   "version": "3.6.5"
  }
 },
 "nbformat": 4,
 "nbformat_minor": 2
}
