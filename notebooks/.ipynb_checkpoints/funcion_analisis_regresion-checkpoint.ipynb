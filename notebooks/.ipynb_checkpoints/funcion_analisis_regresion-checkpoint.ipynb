{
 "cells": [
  {
   "cell_type": "code",
   "execution_count": 7,
   "metadata": {},
   "outputs": [
    {
     "name": "stdout",
     "output_type": "stream",
     "text": [
      "IPython console for SymPy 1.8 (Python 3.6.13-64-bit) (ground types: gmpy)\n",
      "\n",
      "These commands were executed:\n",
      ">>> from __future__ import division\n",
      ">>> from sympy import *\n",
      ">>> x, y, z, t = symbols('x y z t')\n",
      ">>> k, m, n = symbols('k m n', integer=True)\n",
      ">>> f, g, h = symbols('f g h', cls=Function)\n",
      ">>> init_printing()\n",
      "\n",
      "Documentation can be found at https://docs.sympy.org/1.8/\n",
      "\n"
     ]
    }
   ],
   "source": [
    "import numpy as np\n",
    "import pandas as pd\n",
    "from scipy import stats\n",
    "from sympy import *\n",
    "from tabulate import tabulate\n",
    "from IPython.display import Markdown as md\n",
    "from IPython.display import display\n",
    "import seaborn as sns\n",
    "%matplotlib inline\n",
    "\n",
    "init_session()\n",
    "x,y = symbols('x, y', real=True)"
   ]
  },
  {
   "cell_type": "code",
   "execution_count": 8,
   "metadata": {},
   "outputs": [],
   "source": [
    "def  datos_bidimensionales(datos, var1='x', var2='y'):\n",
    "#     Recibe un numpy array de datos con dos columnas, la primera la interpreta como x y la segunda como y. Devuelve un diccionario con la información del análisis de regresión\n",
    "    \n",
    "    tabla = pd.DataFrame({var1: datos[:,0], var2: datos[:,1]})\n",
    "    numero_datos=tabla.shape[0]\n",
    "\n",
    "#     print(tabulate(tabla, headers=\"keys\", tablefmt=\"latex\",showindex = False).replace('\\\\$','$').replace('textbackslash{}',''))\n",
    "\n",
    "    tabla2 =tabla\n",
    "    tabla2=tabla2.join(pd.DataFrame({'$'+var1+r'\\cdot '+var2+r'$':datos[:,0]*datos[:,1],r'$'+var1+r'^2$':datos[:,0]**2, r'$'+var2+r'^2$':datos[:,1]**2}))\n",
    "    tabla2.loc['Sumas']=tabla2.sum()\n",
    "    tabla2.loc['Medias']=tabla2.iloc[:-1].mean()\n",
    "    tabla2\n",
    "    # print(tabulate(tabla2, headers=\"keys\", tablefmt=\"latex\",showindex = False).replace('\\\\$','$').replace('textbackslash{}',''))\n",
    "#     print(tabulate(tabla2, headers=\"keys\", tablefmt=\"latex\",showindex = True).replace('\\\\$','$').replace('textbackslash{}','').replace('\\^{}','^'))\n",
    "  \n",
    "    # Medias\n",
    "    m1, m2 = [tabla2.loc[tabla2.index[-2]][c]/numero_datos for c in range(2)]\n",
    "    medias=[m1,m2]\n",
    "#     display(medias)\n",
    "    vari =[var1, var2]\n",
    "\n",
    "\n",
    "    latex_sol =r'\\\\ \\\\ Las medias son: \\\\'\n",
    "    for c in range(2) :\n",
    "        latex_sol += r\"$\\overline{\"+tabla.columns[c]+r\"}=\\frac{\\Sigma{\"+vari[c]+r\"_i}}{N}=\"+ \\\n",
    "        r\"\\frac{\"+str(tabla2.loc[tabla2.index[-2]][c])+ \\\n",
    "        r\"}{\"+latex(numero_datos)+r\"}=\"+latex(tabla2.loc[tabla2.index[-2]][c]/numero_datos)+\"$. \"\n",
    "    \n",
    "    latex_sol += r' El centro de gravedad es: $('+latex(m1)+r','+latex(m2)+')$'     \n",
    "\n",
    "    # Desviaciones típicas y covarianza\n",
    "    s1, s2 = [sqrt(tabla2.loc[tabla2.index[-2]][c+3]/numero_datos-medias[c]**2) for c in range(2)]\n",
    "    sxy=tabla2.loc[tabla2.index[-2]][2]/numero_datos-m1*m2\n",
    "#     display(s1,s2,sxy)\n",
    " \n",
    "    latex_sol += r' \\\\ \\\\ Varianzas y covarianzas'+ \\\n",
    "    r'\\\\ $\\sigma_'+var1+r'=\\sqrt{\\frac{\\sum{'+var1+r'_i^2}}{N}-\\overline{'+var1+r'}^2}=\\sqrt{\\frac{'+latex(tabla2.loc[tabla2.index[-2]][3])+r'}{'+ \\\n",
    "    latex(numero_datos)+r'}-'+latex(medias[0])+r'^2}='+latex(s1)+r'$.' + \\\n",
    "    r'\\\\ $\\sigma_'+var2+r'=\\sqrt{\\frac{\\sum{'+var2+r'_i^2}}{N}-\\overline{'+var2+r'}^2}=\\sqrt{\\frac{'+latex(tabla2.loc[tabla2.index[-2]][4])+r'}{'+ \\\n",
    "    latex(numero_datos)+r'}-'+latex(medias[1])+r'^2}='+latex(s2)+r'$.'+ \\\n",
    "    r'\\\\ $\\sigma_{'+var1+var2+r'}=\\frac{\\sum{'+var1+r'_i \\cdot '+var2+r'_i}}{N}-\\overline{'+var1+r'}\\cdot \\overline{'+var2+r'}=\\frac{'+latex(tabla2.loc[tabla2.index[-2]][2])+r'}{'+ \\\n",
    "    latex(numero_datos)+r'}-'+latex(medias[0])+r'\\cdot '+latex(medias[1])+r'='+latex(sxy)+r'$.'\n",
    "    \n",
    "    \n",
    "    latex_sol += r' \\\\ \\\\ Correlación'+ \\\n",
    "    r'\\\\ $r=\\dfrac{\\sigma_{'+var1+var2+r'}}{\\sigma_'+var1+r' \\cdot \\sigma_'+var2+r'}=\\frac{'+latex(sxy)+r'}{'+ \\\n",
    "    latex(s1)+r'\\cdot '+latex(s2)+r'}='+latex(sxy/(s1*s2))+r'$.'\n",
    "\n",
    "    pendiente, ordenada, coefcorr = stats.linregress(datos)[:3]\n",
    "#   display(pendiente, ordenada, coefcorr, Eq(y,pendiente*x+ordenada))\n",
    "\n",
    "    latex_sol += r' \\\\ \\\\ Recta de regresión: \\\\ La pendiente es: '+latex(pendiente)+r', la ordenada en el origen: '+latex(ordenada) \\\n",
    "                +r', El coeficiente de correlación:'+latex(coefcorr)+r' y la recta de regresión: $'+latex( Eq(y,pendiente*x+ordenada))+r'$'\n",
    "    \n",
    "    d=dict()\n",
    "    \n",
    "    d['tabla_ini']=tabla\n",
    "    d['tabla_ini_latex']=tabulate(tabla, headers=\"keys\", tablefmt=\"latex\",showindex = False).replace('\\\\$','$').replace('textbackslash{}','')\n",
    "    d['tabla_fin_latex']=tabulate(tabla2, headers=\"keys\", tablefmt=\"latex\",showindex = True).replace('\\\\$','$').replace('textbackslash{}','').replace('\\^{}','^')\n",
    "    d['tabla_fin']=tabla2\n",
    "    d['latex']=latex_sol \n",
    "    d['figura']=sns.regplot(x=datos[:,0],y=datos[:,1]).figure\n",
    "    \n",
    "    return d\n",
    "\n",
    "# datos_bidimensionales(datos)\n",
    "\n",
    "# f1.savefig('regresion.pgf')\n",
    "\n",
    "# datos_bidimensionales(datos)['figura'].show()"
   ]
  },
  {
   "cell_type": "markdown",
   "metadata": {},
   "source": [
    "Distribuciones bidimensionales \n",
    "En una muestra de diez viviendas de una urbanización se han contabilizado el número de personas (X)que viven en cada una y el número de habitaciones (Y) que tiene. La tabla siguiente contiene los datos recogidos: \n",
    "X 5 3 2 4 1 3 6 2 5 4 Y 5 4 2 4 2 5 5 4 4 5 \n",
    "a) Dibuja el diagrama de dispersión. ¿Existe relación lineal entre las variables? b) Calcula la covarianza y Explica los resultados. "
   ]
  },
  {
   "cell_type": "code",
   "execution_count": 10,
   "metadata": {},
   "outputs": [
    {
     "name": "stdout",
     "output_type": "stream",
     "text": [
      "\\begin{tabular}{lrrrrr}\n",
      "\\hline\n",
      "        &    a &   b &   $a\\cdot b$ &   $a^2$ &   $b^2$ \\\\\n",
      "\\hline\n",
      " 0      &  5   &   5 &         25   &    25   &    25   \\\\\n",
      " 1      &  3   &   4 &         12   &     9   &    16   \\\\\n",
      " 2      &  2   &   2 &          4   &     4   &     4   \\\\\n",
      " 3      &  4   &   4 &         16   &    16   &    16   \\\\\n",
      " 4      &  1   &   2 &          2   &     1   &     4   \\\\\n",
      " 5      &  3   &   5 &         15   &     9   &    25   \\\\\n",
      " 6      &  6   &   5 &         30   &    36   &    25   \\\\\n",
      " 7      &  2   &   4 &          8   &     4   &    16   \\\\\n",
      " 8      &  5   &   4 &         20   &    25   &    16   \\\\\n",
      " 9      &  4   &   5 &         20   &    16   &    25   \\\\\n",
      " Sumas  & 35   &  40 &        152   &   145   &   172   \\\\\n",
      " Medias &  3.5 &   4 &         15.2 &    14.5 &    17.2 \\\\\n",
      "\\hline\n",
      "\\end{tabular}\n",
      "\\\\ \\\\ Las medias son: \\\\$\\overline{a}=\\frac{\\Sigma{a_i}}{N}=\\frac{35.0}{10}=3.5$. $\\overline{b}=\\frac{\\Sigma{b_i}}{N}=\\frac{40.0}{10}=4.0$.  El centro de gravedad es: $(3.5,4.0)$ \\\\ \\\\ Varianzas y covarianzas\\\\ $\\sigma_a=\\sqrt{\\frac{\\sum{a_i^2}}{N}-\\overline{a}^2}=\\sqrt{\\frac{145.0}{10}-3.5^2}=1.5$.\\\\ $\\sigma_b=\\sqrt{\\frac{\\sum{b_i^2}}{N}-\\overline{b}^2}=\\sqrt{\\frac{172.0}{10}-4.0^2}=1.09544511501033$.\\\\ $\\sigma_{ab}=\\frac{\\sum{a_i \\cdot b_i}}{N}-\\overline{a}\\cdot \\overline{b}=\\frac{152.0}{10}-3.5\\cdot 4.0=1.2$. \\\\ \\\\ Correlación\\\\ $r=\\dfrac{\\sigma_{ab}}{\\sigma_a \\cdot \\sigma_b}=\\frac{1.2}{1.5\\cdot 1.09544511501033}=0.730296743340221$. \\\\ \\\\ Recta de regresión: \\\\ La pendiente es: 0.533333333333333, la ordenada en el origen: 2.13333333333333, El coeficiente de correlación:0.730296743340222 y la recta de regresión: $y = 0.533333333333333 x + 2.13333333333333$\n"
     ]
    },
    {
     "data": {
      "image/png": "[encoded data removed]",
      "text/plain": [
       "<Figure size 432x288 with 1 Axes>"
      ]
     },
     "metadata": {
      "needs_background": "light"
     },
     "output_type": "display_data"
    }
   ],
   "source": [
    "st='5 3 2 4 1 3 6 2 5 4 5 4 2 4 2 5 5 4 4 5'\n",
    "st = st.split(' ')\n",
    "# int(len(st)/2)\n",
    "datos=np.array(list(map(int, st))).reshape(2,int(len(st)/2)).transpose()\n",
    "%matplotlib inline\n",
    "d = datos_bidimensionales(datos,'a','b')\n",
    "# print(d['tabla_ini_latex'])\n",
    "print(d['tabla_fin_latex'])\n",
    "print(d['latex'])\n",
    "\n"
   ]
  }
 ],
 "metadata": {
  "kernelspec": {
   "display_name": "Python 3",
   "language": "python",
   "name": "python3"
  },
  "language_info": {
   "codemirror_mode": {
    "name": "ipython",
    "version": 3
   },
   "file_extension": ".py",
   "mimetype": "text/x-python",
   "name": "python",
   "nbconvert_exporter": "python",
   "pygments_lexer": "ipython3",
   "version": "3.6.13"
  }
 },
 "nbformat": 4,
 "nbformat_minor": 2
}
