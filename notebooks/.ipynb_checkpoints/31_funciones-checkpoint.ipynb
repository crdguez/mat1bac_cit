{
 "cells": [
  {
   "cell_type": "code",
   "execution_count": 1,
   "metadata": {},
   "outputs": [
    {
     "name": "stdout",
     "output_type": "stream",
     "text": [
      "IPython console for SymPy 1.2 (Python 3.6.8-64-bit) (ground types: gmpy)\n",
      "\n",
      "These commands were executed:\n",
      ">>> from __future__ import division\n",
      ">>> from sympy import *\n",
      ">>> x, y, z, t = symbols('x y z t')\n",
      ">>> k, m, n = symbols('k m n', integer=True)\n",
      ">>> f, g, h = symbols('f g h', cls=Function)\n",
      ">>> init_printing()\n",
      "\n",
      "Documentation can be found at http://docs.sympy.org/1.2/\n",
      "\n"
     ]
    }
   ],
   "source": [
    "from sympy import init_session\n",
    "from sympy import div, QQ\n",
    "from sympy.parsing.latex import parse_latex\n",
    "from sympy.parsing.sympy_parser import parse_expr\n",
    "from IPython.display import Markdown as md\n",
    "from IPython.display import display\n",
    "import pandas as pd\n",
    "\n",
    "import numpy as np\n",
    "\n",
    "\n",
    "\n",
    "\n",
    "init_session()\n",
    "\n",
    "a, b, c, d = symbols('a b c d', real = True)\n",
    "from docparts import añadir_ejercicios, doc_ejer, escribir_preambulo, escribir_ejercicios, escribir_fin\n",
    "\n",
    "df_ejercicios = pd.DataFrame()\n",
    "\n",
    "fichero = 'func'\n",
    "titulo = '31 - Funciones'\n",
    "curso = '1BC'\n",
    "\n",
    "\n",
    "x,y = symbols('x, y', real=True)\n",
    "\n",
    "import matplotlib.pyplot as plt\n",
    "%matplotlib inline\n"
   ]
  },
  {
   "cell_type": "code",
   "execution_count": 2,
   "metadata": {},
   "outputs": [],
   "source": [
    "expr = r'x-y=0'\n",
    "eq=parse_latex(expr)"
   ]
  },
  {
   "cell_type": "code",
   "execution_count": 3,
   "metadata": {},
   "outputs": [
    {
     "data": {
      "text/markdown": [
       "**Halla el dominio de las siguientes funciones: \n",
       "    **"
      ],
      "text/plain": [
       "<IPython.core.display.Markdown object>"
      ]
     },
     "metadata": {},
     "output_type": "display_data"
    },
    {
     "data": {
      "text/markdown": [
       "$f(x)=0x-3$ $ \\rightarrow $$Dom\\left(f \\right)=\\mathbb{R}$"
      ],
      "text/plain": [
       "<IPython.core.display.Markdown object>"
      ]
     },
     "metadata": {},
     "output_type": "display_data"
    },
    {
     "data": {
      "text/markdown": [
       "$f(x)=x^3-5x^2+2$ $ \\rightarrow $$Dom\\left(f \\right)=\\mathbb{R}$"
      ],
      "text/plain": [
       "<IPython.core.display.Markdown object>"
      ]
     },
     "metadata": {},
     "output_type": "display_data"
    },
    {
     "data": {
      "text/markdown": [
       "$f(x)=\\frac{{x - 1}}{{x + 5}}$ $ \\rightarrow $$Dom\\left(f \\right)=\\left(-\\infty, -5\\right) \\cup \\left(-5, \\infty\\right)$"
      ],
      "text/plain": [
       "<IPython.core.display.Markdown object>"
      ]
     },
     "metadata": {},
     "output_type": "display_data"
    },
    {
     "data": {
      "text/markdown": [
       "$f(x)=7x-1$ $ \\rightarrow $$Dom\\left(f \\right)=\\mathbb{R}$"
      ],
      "text/plain": [
       "<IPython.core.display.Markdown object>"
      ]
     },
     "metadata": {},
     "output_type": "display_data"
    },
    {
     "data": {
      "text/markdown": [
       "$f(x)=\\frac{2}{x}$ $ \\rightarrow $$Dom\\left(f \\right)=\\left(-\\infty, 0\\right) \\cup \\left(0, \\infty\\right)$"
      ],
      "text/plain": [
       "<IPython.core.display.Markdown object>"
      ]
     },
     "metadata": {},
     "output_type": "display_data"
    },
    {
     "data": {
      "text/markdown": [
       "$f(x)=\\sqrt[3]{\\frac{x + 1}{x - 2}}$ $ \\rightarrow $$Dom\\left(f \\right)=\\left(-\\infty, 2\\right) \\cup \\left(2, \\infty\\right)$"
      ],
      "text/plain": [
       "<IPython.core.display.Markdown object>"
      ]
     },
     "metadata": {},
     "output_type": "display_data"
    },
    {
     "data": {
      "text/markdown": [
       "$f(x)=\\sqrt {{x^2} - 9}$ $ \\rightarrow $$Dom\\left(f \\right)=\\left(-\\infty, -3\\right] \\cup \\left[3, \\infty\\right)$"
      ],
      "text/plain": [
       "<IPython.core.display.Markdown object>"
      ]
     },
     "metadata": {},
     "output_type": "display_data"
    },
    {
     "data": {
      "text/markdown": [
       "$f(x)=\\sqrt {x+3}$ $ \\rightarrow $$Dom\\left(f \\right)=\\left[-3, \\infty\\right)$"
      ],
      "text/plain": [
       "<IPython.core.display.Markdown object>"
      ]
     },
     "metadata": {},
     "output_type": "display_data"
    }
   ],
   "source": [
    "puntuacion = '1'                          \n",
    "                      \n",
    "datos = [[r'0x-3',r'x^3-5x^2+2',r'\\frac{{x - 1}}{{x + 5}}', r'7x-1', r'\\frac{2}{x}'],]\n",
    "\n",
    "# vectores iniciales correspondientes al texto del enunciado\n",
    "\n",
    "for i, s in enumerate(datos) : \n",
    "    n_ejercicio = 'p65e6-'+str(i)\n",
    "    enunciado_latex, enunciado, solucion = [],[],[]\n",
    "    \n",
    "    texto_ejercicio = r\"\"\"Halla el dominio de las siguientes funciones: \n",
    "    \"\"\"\n",
    "    \n",
    "    display(md(\"**\"+texto_ejercicio+\"**\"))\n",
    "    \n",
    "    for j, t in enumerate(s):\n",
    "        enunciado_latex.append(\"$f(x)=\"+t+\"$\")\n",
    "        enunciado.append(parse_latex(t))\n",
    "        # voy por aquí\n",
    "\n",
    "        sol = r\"$Dom\\left(f \\right)=\"\n",
    "        sol+=latex(S.Reals - singularities(eval(str(parse_latex(t))),x))+r\"$\"\n",
    "        solucion.append(sol)\n",
    "        display(md(enunciado_latex[j] +\" $ \\\\rightarrow $\" + solucion[j] ))\n",
    "        \n",
    "    # Estos los añado yo\n",
    "    \n",
    "    dato = r'\\sqrt[3]{\\frac{x + 1}{x - 2}}'\n",
    "    enunciado_latex.append(\"$f(x)=\"+dato+\"$\")\n",
    "    enunciado.append(parse_latex(dato))\n",
    "    sol = r\"$Dom\\left(f \\right)=\"\n",
    "    sol+=latex(S.Reals - singularities((x+1)/(x-2),x))+r\"$\"\n",
    "    solucion.append(sol)\n",
    "    display(md(r\"$f(x)=\"+dato+\"$\"+\" $ \\\\rightarrow $\" + sol))\n",
    "    \n",
    "    dato = r'\\sqrt {{x^2} - 9}'\n",
    "    enunciado_latex.append(\"$f(x)=\"+dato+\"$\")\n",
    "    enunciado.append(parse_latex(dato))\n",
    "    sol = r\"$Dom\\left(f \\right)=\"\n",
    "    sol+=latex(S.Reals - solve_univariate_inequality(x**2-9<0,x, relational=False))+r\"$\"\n",
    "    solucion.append(sol)\n",
    "    display(md(r\"$f(x)=\"+dato+\"$\"+\" $ \\\\rightarrow $\" + sol))\n",
    "    \n",
    "    dato = r'\\sqrt {x+3}'\n",
    "    enunciado_latex.append(\"$f(x)=\"+dato+\"$\")\n",
    "    enunciado.append(parse_latex(dato))\n",
    "    sol = r\"$Dom\\left(f \\right)=\"\n",
    "    sol+=latex(S.Reals - solve_univariate_inequality(x+3<0,x, relational=False))+r\"$\"\n",
    "    solucion.append(sol)\n",
    "    display(md(r\"$f(x)=\"+dato+\"$\"+\" $ \\\\rightarrow $\" + sol))\n",
    "\n",
    "        \n",
    "    df_ejercicios = df_ejercicios.append(añadir_ejercicios(enunciado_latex, enunciado, solucion, texto_ejercicio, curso, titulo , n_ejercicio, '5', '1', enun_tex=False, sol_tex=False), ignore_index=True)\n",
    "\n",
    "\n"
   ]
  },
  {
   "cell_type": "code",
   "execution_count": 4,
   "metadata": {},
   "outputs": [
    {
     "data": {
      "image/png": "[encoded data removed]",
      "text/latex": [
       "$$\\left ( \\frac{x^{2} + 4}{x^{2} + 8}, \\quad \\frac{\\left(x - 1\\right)^{2}}{\\left(x + 3\\right)^{2}} + 5, \\quad \\frac{\\sqrt{x^{2} + 4}}{\\sqrt{x^{2} + 8}}\\right )$$"
      ],
      "text/plain": [
       "⎛                         ________⎞\n",
       "⎜ 2             2        ╱  2     ⎟\n",
       "⎜x  + 4  (x - 1)       ╲╱  x  + 4 ⎟\n",
       "⎜──────, ──────── + 5, ───────────⎟\n",
       "⎜ 2             2         ________⎟\n",
       "⎜x  + 8  (x + 3)         ╱  2     ⎟\n",
       "⎝                      ╲╱  x  + 8 ⎠"
      ]
     },
     "execution_count": 4,
     "metadata": {},
     "output_type": "execute_result"
    }
   ],
   "source": [
    "f = Lambda(x,x**2+5)\n",
    "g = Lambda(x,(x-1)/(x+3))\n",
    "h = Lambda(x,sqrt(x))\n",
    "g(f(x)), f(g(x)),h(g(f(x))),\n"
   ]
  },
  {
   "cell_type": "code",
   "execution_count": 5,
   "metadata": {},
   "outputs": [
    {
     "data": {
      "text/markdown": [
       "**Dadas las funciones $f(x)= x^2+5$, $g(x)= \\frac{{x - 1}}{{x + 3}}$ y $h(x)= \\sqrt{x}$. Calcula: \n",
       "    **"
      ],
      "text/plain": [
       "<IPython.core.display.Markdown object>"
      ]
     },
     "metadata": {},
     "output_type": "display_data"
    },
    {
     "data": {
      "text/markdown": [
       "$g \\circ f$ $ \\rightarrow $$g{\\left (f{\\left (x \\right )} \\right )}=\\frac{x^{2} + 4}{x^{2} + 8}$"
      ],
      "text/plain": [
       "<IPython.core.display.Markdown object>"
      ]
     },
     "metadata": {},
     "output_type": "display_data"
    },
    {
     "data": {
      "text/markdown": [
       "$f \\circ g$ $ \\rightarrow $$f{\\left (g{\\left (x \\right )} \\right )}=\\frac{\\left(x - 1\\right)^{2}}{\\left(x + 3\\right)^{2}} + 5$"
      ],
      "text/plain": [
       "<IPython.core.display.Markdown object>"
      ]
     },
     "metadata": {},
     "output_type": "display_data"
    },
    {
     "data": {
      "text/markdown": [
       "$h \\circ g \\circ f$ $ \\rightarrow $$h{\\left (g{\\left (f{\\left (x \\right )} \\right )} \\right )}=\\frac{\\sqrt{x^{2} + 4}}{\\sqrt{x^{2} + 8}}$"
      ],
      "text/plain": [
       "<IPython.core.display.Markdown object>"
      ]
     },
     "metadata": {},
     "output_type": "display_data"
    }
   ],
   "source": [
    "puntuacion = '1'                          \n",
    "                      \n",
    "datos = [[r'x^2+5',r'\\frac{{x - 1}}{{x + 3}}',r'\\sqrt{x}'],]\n",
    "\n",
    "# vectores iniciales correspondientes al texto del enunciado\n",
    "\n",
    "for i, s in enumerate(datos) : \n",
    "    n_ejercicio = 'p65e17-'+str(i)\n",
    "    enunciado_latex, enunciado, solucion = [],[],[]\n",
    "    \n",
    "    texto_ejercicio = r\"\"\"Dadas las funciones $f(x)= {}$, $g(x)= {}$ y $h(x)= {}$. Calcula: \n",
    "    \"\"\".format(datos[i][0],datos[i][1],datos[i][2])\n",
    "    \n",
    "    display(md(\"**\"+texto_ejercicio+\"**\"))\n",
    "    \n",
    "    f = Lambda(x,eval(str(parse_latex(s[0]))))\n",
    "    g = Lambda(x,eval(str(parse_latex(s[1]))))\n",
    "    h = Lambda(x,eval(str(parse_latex(s[2]))))\n",
    "    \n",
    "    apartados = [[r'g \\circ f','g(f(x))'],[r'f \\circ g','f(g(x))'],[r'h \\circ g \\circ f','h(g(f(x)))']]\n",
    "    \n",
    "    for j, t in enumerate(apartados):\n",
    "        enunciado_latex.append(\"$\"+t[0]+\"$\")\n",
    "        enunciado.append(t[1])\n",
    "\n",
    "\n",
    "        sol = r\"$\"+latex(S(t[1]))+\"=\"\n",
    "        sol+=latex(eval(t[1]))+r\"$\"\n",
    "        solucion.append(sol)\n",
    "        display(md(enunciado_latex[j] +\" $ \\\\rightarrow $\" + solucion[j] ))\n",
    "        \n",
    "\n",
    "        \n",
    "    df_ejercicios = df_ejercicios.append(añadir_ejercicios(enunciado_latex, enunciado, solucion, texto_ejercicio, curso, titulo , n_ejercicio, '5', '1', enun_tex=False, sol_tex=False), ignore_index=True)\n",
    "\n",
    "\n"
   ]
  },
  {
   "cell_type": "code",
   "execution_count": 11,
   "metadata": {},
   "outputs": [
    {
     "data": {
      "text/markdown": [
       "**Halla la función inversa de $f(x)$, y comprueba el resultado, siendo:**"
      ],
      "text/plain": [
       "<IPython.core.display.Markdown object>"
      ]
     },
     "metadata": {},
     "output_type": "display_data"
    },
    {
     "data": {
      "image/png": "[encoded data removed]",
      "text/plain": [
       "<Figure size 216x216 with 1 Axes>"
      ]
     },
     "metadata": {},
     "output_type": "display_data"
    },
    {
     "data": {
      "text/markdown": [
       "$f(x)=3 x - 2$ $ \\rightarrow $$f^{-1}(x)=\\frac{x}{3} + \\frac{2}{3}$ \\\\ $f^{-1} \\circ f(x)=x=x$ \\\\"
      ],
      "text/plain": [
       "<IPython.core.display.Markdown object>"
      ]
     },
     "metadata": {},
     "output_type": "display_data"
    },
    {
     "data": {
      "image/png": "[encoded data removed]",
      "text/plain": [
       "<Figure size 216x216 with 1 Axes>"
      ]
     },
     "metadata": {},
     "output_type": "display_data"
    },
    {
     "data": {
      "text/markdown": [
       "$f(x)=\\frac{x + 2}{- x + 1}$ $ \\rightarrow $$f^{-1}(x)=\\frac{x - 2}{x + 1}$ \\\\ $f^{-1} \\circ f(x)=\\frac{-2 + \\frac{x + 2}{- x + 1}}{1 + \\frac{x + 2}{- x + 1}}=x$ \\\\"
      ],
      "text/plain": [
       "<IPython.core.display.Markdown object>"
      ]
     },
     "metadata": {},
     "output_type": "display_data"
    }
   ],
   "source": [
    "from matplotlib import style\n",
    "#style.use('ggplot')\n",
    "style.use('ggplot')\n",
    "\n",
    "puntuacion = '1'                          \n",
    "                      \n",
    "datos = [r'3x-2',r'\\frac{{2 + x}}{{1 - x}}']\n",
    "\n",
    "# vectores iniciales correspondientes al texto del enunciado\n",
    "n_ejercicio = 'p65e23y24'\n",
    "enunciado_latex, enunciado, solucion = [],[],[]\n",
    "\n",
    "texto_ejercicio = r\"\"\"Halla la función inversa de $f(x)$, y comprueba el resultado, siendo:\"\"\"\n",
    "display(md(\"**\"+texto_ejercicio+\"**\"))\n",
    "\n",
    "for i, s in enumerate(datos) : \n",
    "    \n",
    "    enunciado_latex.append(\"$f(x)=\"+latex(parse_latex(s))+\"$\")\n",
    "    enunciado.append(s)\n",
    "    \n",
    "    inv = solve(S('x')-eval(str(parse_latex(s))).subs([(x,y)]),y)[0]\n",
    "    f = Lambda(x,eval(str(parse_latex(s))))\n",
    "    g = Lambda(x,eval(str(inv)))\n",
    "    \n",
    "    #display(f(x),g(x), f(g(x)), g(f(x)))\n",
    "    sol = r\"$f^{-1}(x)=\"\n",
    "    sol+=latex(inv)+r\"$ \\\\ $f^{-1} \\circ f(x)=\"+ latex(g(f(x)))+ \"=\" + latex(simplify(g(f(x)))) + r\"$ \\\\\"\n",
    "    \n",
    "    #plt.grid(True)\n",
    "    plt.rcParams['figure.figsize'] = 3, 3\n",
    "\n",
    "    p1 = plot(f(x),g(x),show=True, xlim=(-10,10), ylim=(-10,10))\n",
    "    \n",
    "    \n",
    "       \n",
    "    \n",
    "    solucion.append(sol)\n",
    "    display(md(enunciado_latex[i] +\" $ \\\\rightarrow $\" + solucion[i] ))\n",
    "        \n",
    "    df_ejercicios = df_ejercicios.append(añadir_ejercicios(enunciado_latex, enunciado, solucion, texto_ejercicio, curso, titulo , n_ejercicio, '5', '1', enun_tex=False, sol_tex=False), ignore_index=True)\n",
    "\n",
    "\n"
   ]
  },
  {
   "cell_type": "code",
   "execution_count": null,
   "metadata": {},
   "outputs": [],
   "source": []
  },
  {
   "cell_type": "code",
   "execution_count": 9,
   "metadata": {},
   "outputs": [
    {
     "data": {
      "image/png": "[encoded data removed]",
      "text/plain": [
       "<Figure size 216x216 with 1 Axes>"
      ]
     },
     "metadata": {},
     "output_type": "display_data"
    },
    {
     "data": {
      "text/plain": [
       "<sympy.plotting.plot.Plot at 0x7f61cd8eef28>"
      ]
     },
     "execution_count": 9,
     "metadata": {},
     "output_type": "execute_result"
    }
   ],
   "source": [
    "plot(x**2, xlim=(-10,10), ylim=(-10,10))\n"
   ]
  },
  {
   "cell_type": "code",
   "execution_count": 8,
   "metadata": {},
   "outputs": [
    {
     "ename": "SympifyError",
     "evalue": "SympifyError: array([0, 1, 2, 3, 4, 5, 6, 7, 8, 9])",
     "output_type": "error",
     "traceback": [
      "\u001b[0;31m---------------------------------------------------------------------------\u001b[0m",
      "\u001b[0;31mSympifyError\u001b[0m                              Traceback (most recent call last)",
      "\u001b[0;32m<ipython-input-8-bd134518d269>\u001b[0m in \u001b[0;36m<module>\u001b[0;34m()\u001b[0m\n\u001b[1;32m      1\u001b[0m \u001b[0ma\u001b[0m \u001b[0;34m=\u001b[0m \u001b[0mnp\u001b[0m\u001b[0;34m.\u001b[0m\u001b[0marange\u001b[0m\u001b[0;34m(\u001b[0m\u001b[0;36m10\u001b[0m\u001b[0;34m)\u001b[0m\u001b[0;34m\u001b[0m\u001b[0;34m\u001b[0m\u001b[0m\n\u001b[0;32m----> 2\u001b[0;31m \u001b[0;34m[\u001b[0m\u001b[0ma\u001b[0m\u001b[0;34m,\u001b[0m\u001b[0mf\u001b[0m\u001b[0;34m(\u001b[0m\u001b[0ma\u001b[0m\u001b[0;34m)\u001b[0m\u001b[0;34m]\u001b[0m\u001b[0;34m\u001b[0m\u001b[0;34m\u001b[0m\u001b[0m\n\u001b[0m",
      "\u001b[0;32m~/Mis_aplicaciones/anaconda3/lib/python3.6/site-packages/sympy/core/function.py\u001b[0m in \u001b[0;36m__call__\u001b[0;34m(self, *args)\u001b[0m\n\u001b[1;32m   1695\u001b[0m                 \u001b[0;34m'plural'\u001b[0m\u001b[0;34m:\u001b[0m \u001b[0;34m's'\u001b[0m\u001b[0;34m*\u001b[0m\u001b[0;34m(\u001b[0m\u001b[0mlist\u001b[0m\u001b[0;34m(\u001b[0m\u001b[0mself\u001b[0m\u001b[0;34m.\u001b[0m\u001b[0mnargs\u001b[0m\u001b[0;34m)\u001b[0m\u001b[0;34m[\u001b[0m\u001b[0;36m0\u001b[0m\u001b[0;34m]\u001b[0m \u001b[0;34m!=\u001b[0m \u001b[0;36m1\u001b[0m\u001b[0;34m)\u001b[0m\u001b[0;34m,\u001b[0m\u001b[0;34m\u001b[0m\u001b[0;34m\u001b[0m\u001b[0m\n\u001b[1;32m   1696\u001b[0m                 'given': n})\n\u001b[0;32m-> 1697\u001b[0;31m         \u001b[0;32mreturn\u001b[0m \u001b[0mself\u001b[0m\u001b[0;34m.\u001b[0m\u001b[0mexpr\u001b[0m\u001b[0;34m.\u001b[0m\u001b[0mxreplace\u001b[0m\u001b[0;34m(\u001b[0m\u001b[0mdict\u001b[0m\u001b[0;34m(\u001b[0m\u001b[0mlist\u001b[0m\u001b[0;34m(\u001b[0m\u001b[0mzip\u001b[0m\u001b[0;34m(\u001b[0m\u001b[0mself\u001b[0m\u001b[0;34m.\u001b[0m\u001b[0mvariables\u001b[0m\u001b[0;34m,\u001b[0m \u001b[0margs\u001b[0m\u001b[0;34m)\u001b[0m\u001b[0;34m)\u001b[0m\u001b[0;34m)\u001b[0m\u001b[0;34m)\u001b[0m\u001b[0;34m\u001b[0m\u001b[0;34m\u001b[0m\u001b[0m\n\u001b[0m\u001b[1;32m   1698\u001b[0m \u001b[0;34m\u001b[0m\u001b[0m\n\u001b[1;32m   1699\u001b[0m     \u001b[0;32mdef\u001b[0m \u001b[0m__eq__\u001b[0m\u001b[0;34m(\u001b[0m\u001b[0mself\u001b[0m\u001b[0;34m,\u001b[0m \u001b[0mother\u001b[0m\u001b[0;34m)\u001b[0m\u001b[0;34m:\u001b[0m\u001b[0;34m\u001b[0m\u001b[0;34m\u001b[0m\u001b[0m\n",
      "\u001b[0;32m~/Mis_aplicaciones/anaconda3/lib/python3.6/site-packages/sympy/core/basic.py\u001b[0m in \u001b[0;36mxreplace\u001b[0;34m(self, rule)\u001b[0m\n\u001b[1;32m   1113\u001b[0m \u001b[0;34m\u001b[0m\u001b[0m\n\u001b[1;32m   1114\u001b[0m         \"\"\"\n\u001b[0;32m-> 1115\u001b[0;31m         \u001b[0mvalue\u001b[0m\u001b[0;34m,\u001b[0m \u001b[0m_\u001b[0m \u001b[0;34m=\u001b[0m \u001b[0mself\u001b[0m\u001b[0;34m.\u001b[0m\u001b[0m_xreplace\u001b[0m\u001b[0;34m(\u001b[0m\u001b[0mrule\u001b[0m\u001b[0;34m)\u001b[0m\u001b[0;34m\u001b[0m\u001b[0;34m\u001b[0m\u001b[0m\n\u001b[0m\u001b[1;32m   1116\u001b[0m         \u001b[0;32mreturn\u001b[0m \u001b[0mvalue\u001b[0m\u001b[0;34m\u001b[0m\u001b[0;34m\u001b[0m\u001b[0m\n\u001b[1;32m   1117\u001b[0m \u001b[0;34m\u001b[0m\u001b[0m\n",
      "\u001b[0;32m~/Mis_aplicaciones/anaconda3/lib/python3.6/site-packages/sympy/core/basic.py\u001b[0m in \u001b[0;36m_xreplace\u001b[0;34m(self, rule)\u001b[0m\n\u001b[1;32m   1127\u001b[0m             \u001b[0;32mfor\u001b[0m \u001b[0ma\u001b[0m \u001b[0;32min\u001b[0m \u001b[0mself\u001b[0m\u001b[0;34m.\u001b[0m\u001b[0margs\u001b[0m\u001b[0;34m:\u001b[0m\u001b[0;34m\u001b[0m\u001b[0;34m\u001b[0m\u001b[0m\n\u001b[1;32m   1128\u001b[0m                 \u001b[0;32mtry\u001b[0m\u001b[0;34m:\u001b[0m\u001b[0;34m\u001b[0m\u001b[0;34m\u001b[0m\u001b[0m\n\u001b[0;32m-> 1129\u001b[0;31m                     \u001b[0ma_xr\u001b[0m \u001b[0;34m=\u001b[0m \u001b[0ma\u001b[0m\u001b[0;34m.\u001b[0m\u001b[0m_xreplace\u001b[0m\u001b[0;34m(\u001b[0m\u001b[0mrule\u001b[0m\u001b[0;34m)\u001b[0m\u001b[0;34m\u001b[0m\u001b[0;34m\u001b[0m\u001b[0m\n\u001b[0m\u001b[1;32m   1130\u001b[0m                     \u001b[0margs\u001b[0m\u001b[0;34m.\u001b[0m\u001b[0mappend\u001b[0m\u001b[0;34m(\u001b[0m\u001b[0ma_xr\u001b[0m\u001b[0;34m[\u001b[0m\u001b[0;36m0\u001b[0m\u001b[0;34m]\u001b[0m\u001b[0;34m)\u001b[0m\u001b[0;34m\u001b[0m\u001b[0;34m\u001b[0m\u001b[0m\n\u001b[1;32m   1131\u001b[0m                     \u001b[0mchanged\u001b[0m \u001b[0;34m|=\u001b[0m \u001b[0ma_xr\u001b[0m\u001b[0;34m[\u001b[0m\u001b[0;36m1\u001b[0m\u001b[0;34m]\u001b[0m\u001b[0;34m\u001b[0m\u001b[0;34m\u001b[0m\u001b[0m\n",
      "\u001b[0;32m~/Mis_aplicaciones/anaconda3/lib/python3.6/site-packages/sympy/core/basic.py\u001b[0m in \u001b[0;36m_xreplace\u001b[0;34m(self, rule)\u001b[0m\n\u001b[1;32m   1127\u001b[0m             \u001b[0;32mfor\u001b[0m \u001b[0ma\u001b[0m \u001b[0;32min\u001b[0m \u001b[0mself\u001b[0m\u001b[0;34m.\u001b[0m\u001b[0margs\u001b[0m\u001b[0;34m:\u001b[0m\u001b[0;34m\u001b[0m\u001b[0;34m\u001b[0m\u001b[0m\n\u001b[1;32m   1128\u001b[0m                 \u001b[0;32mtry\u001b[0m\u001b[0;34m:\u001b[0m\u001b[0;34m\u001b[0m\u001b[0;34m\u001b[0m\u001b[0m\n\u001b[0;32m-> 1129\u001b[0;31m                     \u001b[0ma_xr\u001b[0m \u001b[0;34m=\u001b[0m \u001b[0ma\u001b[0m\u001b[0;34m.\u001b[0m\u001b[0m_xreplace\u001b[0m\u001b[0;34m(\u001b[0m\u001b[0mrule\u001b[0m\u001b[0;34m)\u001b[0m\u001b[0;34m\u001b[0m\u001b[0;34m\u001b[0m\u001b[0m\n\u001b[0m\u001b[1;32m   1130\u001b[0m                     \u001b[0margs\u001b[0m\u001b[0;34m.\u001b[0m\u001b[0mappend\u001b[0m\u001b[0;34m(\u001b[0m\u001b[0ma_xr\u001b[0m\u001b[0;34m[\u001b[0m\u001b[0;36m0\u001b[0m\u001b[0;34m]\u001b[0m\u001b[0;34m)\u001b[0m\u001b[0;34m\u001b[0m\u001b[0;34m\u001b[0m\u001b[0m\n\u001b[1;32m   1131\u001b[0m                     \u001b[0mchanged\u001b[0m \u001b[0;34m|=\u001b[0m \u001b[0ma_xr\u001b[0m\u001b[0;34m[\u001b[0m\u001b[0;36m1\u001b[0m\u001b[0;34m]\u001b[0m\u001b[0;34m\u001b[0m\u001b[0;34m\u001b[0m\u001b[0m\n",
      "\u001b[0;32m~/Mis_aplicaciones/anaconda3/lib/python3.6/site-packages/sympy/core/basic.py\u001b[0m in \u001b[0;36m_xreplace\u001b[0;34m(self, rule)\u001b[0m\n\u001b[1;32m   1127\u001b[0m             \u001b[0;32mfor\u001b[0m \u001b[0ma\u001b[0m \u001b[0;32min\u001b[0m \u001b[0mself\u001b[0m\u001b[0;34m.\u001b[0m\u001b[0margs\u001b[0m\u001b[0;34m:\u001b[0m\u001b[0;34m\u001b[0m\u001b[0;34m\u001b[0m\u001b[0m\n\u001b[1;32m   1128\u001b[0m                 \u001b[0;32mtry\u001b[0m\u001b[0;34m:\u001b[0m\u001b[0;34m\u001b[0m\u001b[0;34m\u001b[0m\u001b[0m\n\u001b[0;32m-> 1129\u001b[0;31m                     \u001b[0ma_xr\u001b[0m \u001b[0;34m=\u001b[0m \u001b[0ma\u001b[0m\u001b[0;34m.\u001b[0m\u001b[0m_xreplace\u001b[0m\u001b[0;34m(\u001b[0m\u001b[0mrule\u001b[0m\u001b[0;34m)\u001b[0m\u001b[0;34m\u001b[0m\u001b[0;34m\u001b[0m\u001b[0m\n\u001b[0m\u001b[1;32m   1130\u001b[0m                     \u001b[0margs\u001b[0m\u001b[0;34m.\u001b[0m\u001b[0mappend\u001b[0m\u001b[0;34m(\u001b[0m\u001b[0ma_xr\u001b[0m\u001b[0;34m[\u001b[0m\u001b[0;36m0\u001b[0m\u001b[0;34m]\u001b[0m\u001b[0;34m)\u001b[0m\u001b[0;34m\u001b[0m\u001b[0;34m\u001b[0m\u001b[0m\n\u001b[1;32m   1131\u001b[0m                     \u001b[0mchanged\u001b[0m \u001b[0;34m|=\u001b[0m \u001b[0ma_xr\u001b[0m\u001b[0;34m[\u001b[0m\u001b[0;36m1\u001b[0m\u001b[0;34m]\u001b[0m\u001b[0;34m\u001b[0m\u001b[0;34m\u001b[0m\u001b[0m\n",
      "\u001b[0;32m~/Mis_aplicaciones/anaconda3/lib/python3.6/site-packages/sympy/core/basic.py\u001b[0m in \u001b[0;36m_xreplace\u001b[0;34m(self, rule)\u001b[0m\n\u001b[1;32m   1134\u001b[0m             \u001b[0margs\u001b[0m \u001b[0;34m=\u001b[0m \u001b[0mtuple\u001b[0m\u001b[0;34m(\u001b[0m\u001b[0margs\u001b[0m\u001b[0;34m)\u001b[0m\u001b[0;34m\u001b[0m\u001b[0;34m\u001b[0m\u001b[0m\n\u001b[1;32m   1135\u001b[0m             \u001b[0;32mif\u001b[0m \u001b[0mchanged\u001b[0m\u001b[0;34m:\u001b[0m\u001b[0;34m\u001b[0m\u001b[0;34m\u001b[0m\u001b[0m\n\u001b[0;32m-> 1136\u001b[0;31m                 \u001b[0;32mreturn\u001b[0m \u001b[0mself\u001b[0m\u001b[0;34m.\u001b[0m\u001b[0mfunc\u001b[0m\u001b[0;34m(\u001b[0m\u001b[0;34m*\u001b[0m\u001b[0margs\u001b[0m\u001b[0;34m)\u001b[0m\u001b[0;34m,\u001b[0m \u001b[0;32mTrue\u001b[0m\u001b[0;34m\u001b[0m\u001b[0;34m\u001b[0m\u001b[0m\n\u001b[0m\u001b[1;32m   1137\u001b[0m         \u001b[0;32mreturn\u001b[0m \u001b[0mself\u001b[0m\u001b[0;34m,\u001b[0m \u001b[0;32mFalse\u001b[0m\u001b[0;34m\u001b[0m\u001b[0;34m\u001b[0m\u001b[0m\n\u001b[1;32m   1138\u001b[0m \u001b[0;34m\u001b[0m\u001b[0m\n",
      "\u001b[0;32m~/Mis_aplicaciones/anaconda3/lib/python3.6/site-packages/sympy/core/operations.py\u001b[0m in \u001b[0;36m__new__\u001b[0;34m(cls, *args, **options)\u001b[0m\n\u001b[1;32m     29\u001b[0m     \u001b[0;32mdef\u001b[0m \u001b[0m__new__\u001b[0m\u001b[0;34m(\u001b[0m\u001b[0mcls\u001b[0m\u001b[0;34m,\u001b[0m \u001b[0;34m*\u001b[0m\u001b[0margs\u001b[0m\u001b[0;34m,\u001b[0m \u001b[0;34m**\u001b[0m\u001b[0moptions\u001b[0m\u001b[0;34m)\u001b[0m\u001b[0;34m:\u001b[0m\u001b[0;34m\u001b[0m\u001b[0;34m\u001b[0m\u001b[0m\n\u001b[1;32m     30\u001b[0m         \u001b[0;32mfrom\u001b[0m \u001b[0msympy\u001b[0m \u001b[0;32mimport\u001b[0m \u001b[0mOrder\u001b[0m\u001b[0;34m\u001b[0m\u001b[0;34m\u001b[0m\u001b[0m\n\u001b[0;32m---> 31\u001b[0;31m         \u001b[0margs\u001b[0m \u001b[0;34m=\u001b[0m \u001b[0mlist\u001b[0m\u001b[0;34m(\u001b[0m\u001b[0mmap\u001b[0m\u001b[0;34m(\u001b[0m\u001b[0m_sympify\u001b[0m\u001b[0;34m,\u001b[0m \u001b[0margs\u001b[0m\u001b[0;34m)\u001b[0m\u001b[0;34m)\u001b[0m\u001b[0;34m\u001b[0m\u001b[0;34m\u001b[0m\u001b[0m\n\u001b[0m\u001b[1;32m     32\u001b[0m         \u001b[0margs\u001b[0m \u001b[0;34m=\u001b[0m \u001b[0;34m[\u001b[0m\u001b[0ma\u001b[0m \u001b[0;32mfor\u001b[0m \u001b[0ma\u001b[0m \u001b[0;32min\u001b[0m \u001b[0margs\u001b[0m \u001b[0;32mif\u001b[0m \u001b[0ma\u001b[0m \u001b[0;32mis\u001b[0m \u001b[0;32mnot\u001b[0m \u001b[0mcls\u001b[0m\u001b[0;34m.\u001b[0m\u001b[0midentity\u001b[0m\u001b[0;34m]\u001b[0m\u001b[0;34m\u001b[0m\u001b[0;34m\u001b[0m\u001b[0m\n\u001b[1;32m     33\u001b[0m \u001b[0;34m\u001b[0m\u001b[0m\n",
      "\u001b[0;32m~/Mis_aplicaciones/anaconda3/lib/python3.6/site-packages/sympy/core/sympify.py\u001b[0m in \u001b[0;36m_sympify\u001b[0;34m(a)\u001b[0m\n\u001b[1;32m    399\u001b[0m \u001b[0;34m\u001b[0m\u001b[0m\n\u001b[1;32m    400\u001b[0m     \"\"\"\n\u001b[0;32m--> 401\u001b[0;31m     \u001b[0;32mreturn\u001b[0m \u001b[0msympify\u001b[0m\u001b[0;34m(\u001b[0m\u001b[0ma\u001b[0m\u001b[0;34m,\u001b[0m \u001b[0mstrict\u001b[0m\u001b[0;34m=\u001b[0m\u001b[0;32mTrue\u001b[0m\u001b[0;34m)\u001b[0m\u001b[0;34m\u001b[0m\u001b[0;34m\u001b[0m\u001b[0m\n\u001b[0m\u001b[1;32m    402\u001b[0m \u001b[0;34m\u001b[0m\u001b[0m\n\u001b[1;32m    403\u001b[0m \u001b[0;34m\u001b[0m\u001b[0m\n",
      "\u001b[0;32m~/Mis_aplicaciones/anaconda3/lib/python3.6/site-packages/sympy/core/sympify.py\u001b[0m in \u001b[0;36msympify\u001b[0;34m(a, locals, convert_xor, strict, rational, evaluate)\u001b[0m\n\u001b[1;32m    321\u001b[0m \u001b[0;34m\u001b[0m\u001b[0m\n\u001b[1;32m    322\u001b[0m     \u001b[0;32mif\u001b[0m \u001b[0mstrict\u001b[0m\u001b[0;34m:\u001b[0m\u001b[0;34m\u001b[0m\u001b[0;34m\u001b[0m\u001b[0m\n\u001b[0;32m--> 323\u001b[0;31m         \u001b[0;32mraise\u001b[0m \u001b[0mSympifyError\u001b[0m\u001b[0;34m(\u001b[0m\u001b[0ma\u001b[0m\u001b[0;34m)\u001b[0m\u001b[0;34m\u001b[0m\u001b[0;34m\u001b[0m\u001b[0m\n\u001b[0m\u001b[1;32m    324\u001b[0m \u001b[0;34m\u001b[0m\u001b[0m\n\u001b[1;32m    325\u001b[0m     \u001b[0;32mif\u001b[0m \u001b[0miterable\u001b[0m\u001b[0;34m(\u001b[0m\u001b[0ma\u001b[0m\u001b[0;34m)\u001b[0m\u001b[0;34m:\u001b[0m\u001b[0;34m\u001b[0m\u001b[0;34m\u001b[0m\u001b[0m\n",
      "\u001b[0;31mSympifyError\u001b[0m: SympifyError: array([0, 1, 2, 3, 4, 5, 6, 7, 8, 9])"
     ]
    }
   ],
   "source": [
    "a = np.arange(10)\n",
    "[a,f(a)]"
   ]
  },
  {
   "cell_type": "code",
   "execution_count": null,
   "metadata": {},
   "outputs": [],
   "source": [
    "f = lambdify(x, x**2-2*x-2)\n",
    "\n",
    "\n",
    "f(np.array([0,-3]))\n",
    "\n",
    "\n",
    "#f = tan(x)\n",
    "\n",
    "plot(f(x))\n",
    "\n",
    "limit(f(x), x, 2)\n",
    "\n",
    "\n",
    "\n"
   ]
  },
  {
   "cell_type": "code",
   "execution_count": null,
   "metadata": {},
   "outputs": [],
   "source": [
    "from sympy import Function\n",
    "f=x**2\n",
    "\n",
    "f.subs(x,2)\n",
    "\n",
    "f = Lambda(x, x**2)\n",
    "\n",
    "g = Lambda(x, x**3)\n",
    "\n",
    "\n",
    "g(f(x))\n",
    "\n",
    "plot(g(f(x)))\n",
    "\n",
    "\n",
    "solve(g(f(x))-64)\n",
    "\n",
    "\n",
    "limit(g(f(x)), x, 2)"
   ]
  },
  {
   "cell_type": "code",
   "execution_count": null,
   "metadata": {},
   "outputs": [],
   "source": [
    "f = Lambda(x, sin(x)/x)\n",
    "limit(f(x),x,0)"
   ]
  },
  {
   "cell_type": "code",
   "execution_count": null,
   "metadata": {},
   "outputs": [],
   "source": [
    "expr = Limit((cos(x) - 1)/x, x, 0, dir='-')\n",
    "display(expr)\n",
    "expr.doit()\n",
    "\n"
   ]
  },
  {
   "cell_type": "code",
   "execution_count": null,
   "metadata": {},
   "outputs": [],
   "source": [
    "def lim(expr,x0):\n",
    "    f = Lambda(x,eval(expr))\n",
    "    display(Limit(S(expr),x,x0,dir='+-'))\n",
    "    display(\"Límite por la izquierda / Límite por la derecha / valor de la función en el punto: \")\n",
    "    display([limit(f(x),x,x0, dir='-'),limit(f(x),x,x0), f(x0)])\n",
    "    display({'Límite por la izquierda':limit(f(x),x,x0, dir='-'),'Límite por la derecha':limit(f(x),x,x0),'Valor de la función en el punto': f(x0)})\n",
    "    plot(f(x))\n",
    "    \n",
    "# lim('(x+1)/(x-2)',2), lim('(x**2-5*x+6)/(x**2+3*x-10)',2)\n",
    "\n",
    "datos = [['(x+1)/(x-2)',2],['(x**2-5*x+6)/(x**2+3*x-10)',2], ['(sqrt(2-x)-sqrt(2+x))/(x**2+x)',0]]\n",
    "[lim(k[0],k[1]) for k in datos]\n"
   ]
  },
  {
   "cell_type": "code",
   "execution_count": null,
   "metadata": {},
   "outputs": [],
   "source": [
    "from sympy import Piecewise\n",
    "f=x**2\n",
    "g=2*x-1\n",
    "p = Piecewise( (0, x<-1), (f, x<=1), (g, True))\n",
    "p\n"
   ]
  },
  {
   "cell_type": "code",
   "execution_count": null,
   "metadata": {},
   "outputs": [],
   "source": [
    "f=x**2\n",
    "g=2*x-1\n",
    "p = Piecewise( (0, x<-1), (f, x<1), (g, x>1))\n",
    "p"
   ]
  },
  {
   "cell_type": "code",
   "execution_count": null,
   "metadata": {},
   "outputs": [],
   "source": [
    "p1=plot(Piecewise((x/2,x<=1),(1/(x-1),x>1)))\n",
    "fg, ax = p1._backend.fig, p1._backend.ax\n",
    "p1.autoscale\n",
    "ax.set_aspect(\"equal\")\n",
    "p1.show()"
   ]
  },
  {
   "cell_type": "code",
   "execution_count": null,
   "metadata": {},
   "outputs": [],
   "source": [
    "df_ejercicios"
   ]
  },
  {
   "cell_type": "code",
   "execution_count": null,
   "metadata": {},
   "outputs": [],
   "source": [
    "df_ejercicios.to_csv('ejercicios31.csv', index = False)"
   ]
  },
  {
   "cell_type": "code",
   "execution_count": null,
   "metadata": {},
   "outputs": [],
   "source": [
    "df_ejercicios = pd.read_csv('ejercicios31.csv', index_col= None)"
   ]
  },
  {
   "cell_type": "code",
   "execution_count": null,
   "metadata": {},
   "outputs": [],
   "source": [
    "escribir_preambulo(fichero, titulo, 'ejercicios')\n",
    "for s in df_ejercicios.groupby('n_ejercicio').count().index : \n",
    "    display(md(\"**Ejercicio: **\" + s ))\n",
    "    display(df_ejercicios[df_ejercicios.n_ejercicio == s])\n",
    "    escribir_ejercicios(df_ejercicios[df_ejercicios.n_ejercicio == s],fichero)\n",
    "\n",
    "escribir_fin(fichero)"
   ]
  }
 ],
 "metadata": {
  "kernelspec": {
   "display_name": "Python 3",
   "language": "python",
   "name": "python3"
  },
  "language_info": {
   "codemirror_mode": {
    "name": "ipython",
    "version": 3
   },
   "file_extension": ".py",
   "mimetype": "text/x-python",
   "name": "python",
   "nbconvert_exporter": "python",
   "pygments_lexer": "ipython3",
   "version": "3.6.8"
  }
 },
 "nbformat": 4,
 "nbformat_minor": 2
}
