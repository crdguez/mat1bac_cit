{
 "cells": [
  {
   "cell_type": "code",
   "execution_count": 1,
   "metadata": {},
   "outputs": [
    {
     "name": "stdout",
     "output_type": "stream",
     "text": [
      "IPython console for SymPy 1.2 (Python 3.6.5-64-bit) (ground types: gmpy)\n",
      "\n",
      "These commands were executed:\n",
      ">>> from __future__ import division\n",
      ">>> from sympy import *\n",
      ">>> x, y, z, t = symbols('x y z t')\n",
      ">>> k, m, n = symbols('k m n', integer=True)\n",
      ">>> f, g, h = symbols('f g h', cls=Function)\n",
      ">>> init_printing()\n",
      "\n",
      "Documentation can be found at http://docs.sympy.org/1.2/\n",
      "\n"
     ]
    }
   ],
   "source": [
    "from sympy import init_session, prod\n",
    "from sympy.parsing.latex import parse_latex\n",
    "from sympy.parsing.sympy_parser import parse_expr\n",
    "from sympy.solvers.inequalities import solve_univariate_inequality\n",
    "from IPython.display import Markdown as md\n",
    "from IPython.display import display\n",
    "import pandas as pd\n",
    "\n",
    "from sympy import solve_poly_inequality, reduce_abs_inequality\n",
    "from sympy.solvers.inequalities import solve_univariate_inequality, reduce_rational_inequalities\n",
    "\n",
    "\n",
    "init_session()\n",
    "\n",
    "a, b, c, d = symbols('a b c d', real = True)\n",
    "from docparts import añadir_ejercicios, doc_ejer, escribir_preambulo, escribir_ejercicios, escribir_fin\n",
    "\n",
    "df_ejercicios = pd.DataFrame()\n",
    "\n",
    "fichero = 'rec1'\n",
    "titulo = 'Recuperación 1ª Ev.'\n",
    "curso = '1BC'\n",
    "\n",
    "# x,y = symbols('x, y', real=True)\n"
   ]
  },
  {
   "cell_type": "code",
   "execution_count": 2,
   "metadata": {},
   "outputs": [],
   "source": [
    "def simbolo (operacion):\n",
    "    if operacion == '<=' :\n",
    "        return('\\leq')\n",
    "    elif operacion == '>=' :\n",
    "        return('\\geq')\n",
    "    else :\n",
    "        return(operacion)"
   ]
  },
  {
   "cell_type": "code",
   "execution_count": 3,
   "metadata": {},
   "outputs": [
    {
     "data": {
      "text/markdown": [
       "**Dados los siguientes conjuntos A, B y C, represéntalos en la recta real. A continuación, calcula $A \\cap B$ y $(A \\cup B) \\cap C$ , \n",
       "y expresa los resultados en forma de Intervalos. **"
      ],
      "text/plain": [
       "<IPython.core.display.Markdown object>"
      ]
     },
     "metadata": {},
     "output_type": "display_data"
    },
    {
     "data": {
      "text/markdown": [
       "$A=\\left\\{ x \\in \\mathbb{R}| \\left|{x - 3}\\right|>0 \\right\\} \\\\ B=\\left(-\\infty, -3\\right) \\cup \\left(-3, 3\\right] \\\\  C=\\left\\{ x \\in \\mathbb{R}| \\left|{x - 3}\\right|\\leq12 \\right\\} \\\\ \\rightarrow Solución:  A=\\left(-\\infty, 3\\right) \\cup \\left(3, \\infty\\right) \\ C=\\left[-9, 15\\right] \\   \\\\  A \\cap B= \\left(-\\infty, -3\\right) \\cup \\left(-3, 3\\right)   \\\\  (A \\cup B) \\cap C= \\left[-9, 15\\right]$"
      ],
      "text/plain": [
       "<IPython.core.display.Markdown object>"
      ]
     },
     "metadata": {},
     "output_type": "display_data"
    },
    {
     "data": {
      "text/markdown": [
       "$A=\\left\\{ x \\in \\mathbb{R}| \\left|{x - 3}\\right|<10 \\right\\} \\\\ B=\\left(-10, 5\\right) \\cup \\left(5, \\infty\\right) \\\\  C=\\left\\{ x \\in \\mathbb{R}| \\left|{x - 3}\\right|\\geq6 \\right\\} \\\\ \\rightarrow Solución:  A=\\left(-7, 13\\right) \\ C=\\left(-\\infty, -3\\right] \\cup \\left[9, \\infty\\right) \\   \\\\  A \\cap B= \\left(-7, 5\\right) \\cup \\left(5, 13\\right)   \\\\  (A \\cup B) \\cap C= \\left(-10, -3\\right] \\cup \\left[9, \\infty\\right)$"
      ],
      "text/plain": [
       "<IPython.core.display.Markdown object>"
      ]
     },
     "metadata": {},
     "output_type": "display_data"
    }
   ],
   "source": [
    "# ejercicio de examen 1\n",
    "\n",
    "n_ejercicio = 'ex03e01'\n",
    "puntuacion = '1'\n",
    "\n",
    "texto_ejercicio = 'Dados los siguientes conjuntos A, B y C, represéntalos en la recta real. '\n",
    "texto_ejercicio = texto_ejercicio +\"\"\"A continuación, calcula $A \\cap B$ y $(A \\cup B) \\cap C$ , \n",
    "y expresa los resultados en forma de Intervalos. \"\"\"\n",
    "\n",
    "\n",
    "display(md(\"**\"+texto_ejercicio+\"**\"))\n",
    "\n",
    "\n",
    "enunciado =[\n",
    "    #[Interval(-4,0),Interval.open(-oo,-1).union(Interval.open(1,oo)),['Abs(x - 2)','<=','3']],\n",
    "    #[Interval.Ropen(3,10),Interval.open(-oo,1).union(Interval.open(3,oo)),['Abs(x - 2)','>=','8']],\n",
    "    #[Interval.Ropen(6,8),Interval.open(-oo,-3).union(Interval.open(3,oo)),['Abs(x - 3)','<=','12']],\n",
    "    [['Abs(x - 3)','>','0'],Interval.open(-oo,-3).union(Interval.Lopen(-3,3)),['Abs(x - 3)','<=','12']], \n",
    "    [['Abs(x - 3)','<','10'],Interval.open(-10,5).union(Interval.Lopen(5,oo)),['Abs(x - 3)','>=','6']],\n",
    "            \n",
    "           ]\n",
    "\n",
    "enunciado_latex = []\n",
    "solucion = []\n",
    "\n",
    "for s in enunciado:\n",
    "    el = r\"\"\"A=\\left\\{ x \\in \\mathbb{R}| %s \\right\\} \\\\ B=%s \\\\  C=\\left\\{ x \\in \\mathbb{R}| %s \\right\\} \\\\\"\"\"  % (latex(S(s[0][0]))+simbolo(s[0][1])+latex(S(s[0][2])), latex(s[1]), latex(S(s[2][0]))+simbolo(s[2][1])+latex(S(s[2][2])))\n",
    "\n",
    "    enunciado_latex.append(el)\n",
    "\n",
    "    \n",
    "    #sl = r\"\"\"A=%s \\ C=%s \\ \\ A \\cup  B = %s  \\\\  A \\cap B= %s   \\\\  (A \\cup B) \\cap C= %s\"\"\" % (latex(reduce_abs_inequalities([(S(s[0][0])-S(s[0][2]),s[0][1])], x).as_set()),latex(reduce_abs_inequalities([(S(s[2][0])-S(s[2][2]),s[2][1])], x).as_set()),latex(reduce_abs_inequalities([(S(s[0][0])-S(s[0][2]),s[0][1])], x).as_set().union(s[1])), latex(s[reduce_abs_inequalities([(S(s[0][0])-S(s[0][2]),s[0][1])], x).as_set().intersection(s[1])),  latex(reduce_abs_inequalities([(S(s[0][0])-S(s[0][2]),s[0][1])], x).as_set().union(s[1]).intersection(reduce_abs_inequalities([(S(s[2][0])-S(s[2][2]),s[2][1])], x).as_set())))\n",
    "    \n",
    "    CA = reduce_abs_inequalities([(S(s[0][0])-S(s[0][2]),s[0][1])], x).as_set()\n",
    "    CC = reduce_abs_inequalities([(S(s[2][0])-S(s[2][2]),s[2][1])], x).as_set()\n",
    "    \n",
    "    sl = r\"\"\"A=%s \\ C=%s \\   \\\\  A \\cap B= %s   \\\\  (A \\cup B) \\cap C= %s\"\"\" % (latex(CA),latex(CC), latex(CA.intersection(s[1])),  latex(CA.union(s[1]).intersection(CC)))\n",
    "\n",
    "\n",
    "    \n",
    "    solucion.append(sl)\n",
    "    display(md('$'+el+' \\\\rightarrow Solución:  '+sl+'$'))\n",
    "    \n",
    "\n",
    "df_ejercicios = df_ejercicios.append(añadir_ejercicios(enunciado_latex, enunciado, solucion, texto_ejercicio, curso, titulo, n_ejercicio, puntos = puntuacion), ignore_index=True)\n"
   ]
  },
  {
   "cell_type": "code",
   "execution_count": 4,
   "metadata": {},
   "outputs": [
    {
     "data": {
      "text/markdown": [
       "**Calcula, sin hacer todo el desarrollo, el coeficiente del término asociado a:**"
      ],
      "text/plain": [
       "<IPython.core.display.Markdown object>"
      ]
     },
     "metadata": {},
     "output_type": "display_data"
    },
    {
     "data": {
      "text/markdown": [
       "$P(x)=\\left(2 x - \\frac{3}{x}\\right)^{8} \\  \\ y \\ parte \\ literal \\ \\frac{1}{x^{8}} \\rightarrow Solución:  6561$"
      ],
      "text/plain": [
       "<IPython.core.display.Markdown object>"
      ]
     },
     "metadata": {},
     "output_type": "display_data"
    },
    {
     "data": {
      "text/markdown": [
       "$P(x)=\\left(3 x^{2} + \\frac{1}{x}\\right)^{7} \\  \\ y \\ parte \\ literal \\ \\frac{1}{x^{7}} \\rightarrow Solución:  1$"
      ],
      "text/plain": [
       "<IPython.core.display.Markdown object>"
      ]
     },
     "metadata": {},
     "output_type": "display_data"
    }
   ],
   "source": [
    "# ejercicio de examen 1b\n",
    "\n",
    "n_ejercicio = 'ex03e01b'\n",
    "\n",
    "puntuacion = '1'\n",
    "\n",
    "pre_enunciado_latex = [r'( 2x  - \\frac{3}{x})^8',\n",
    "                      r'{( {3{x^2} + \\frac{1}{x}})^7}']\n",
    "\n",
    "texto_ejercicio = 'Calcula, sin hacer todo el desarrollo, el coeficiente del término asociado a:'\n",
    "\n",
    "\n",
    "display(md(\"**\"+texto_ejercicio+\"**\"))\n",
    "\n",
    "\n",
    "enunciado_latex, enunciado, solucion = [],[],[]\n",
    "\n",
    "for i, s in enumerate(pre_enunciado_latex):\n",
    "    p = parse_latex(s).as_poly()\n",
    "    e = (parse_latex(s),np.prod([a**b for a,b in zip(p.gens,p.terms()[np.random.randint(len(p.coeffs())-1)][0])]))\n",
    "    el= r'P(x)=%s \\  \\ y \\ parte \\ literal \\ %s' % (latex(e[0]),latex(e[1]))\n",
    "    \n",
    "    enunciado_latex.append(el)\n",
    "    enunciado.append(e)\n",
    "    \n",
    "    sl=latex(p.coeff_monomial(e[1]))\n",
    "    solucion.append(sl)\n",
    "    display(md('$'+el+' \\\\rightarrow Solución:  '+sl+'$'))\n",
    "    \n",
    "\n",
    "df_ejercicios = df_ejercicios.append(añadir_ejercicios(enunciado_latex, enunciado, solucion, texto_ejercicio, curso, titulo, n_ejercicio, puntos = puntuacion), ignore_index=True)"
   ]
  },
  {
   "cell_type": "code",
   "execution_count": 5,
   "metadata": {},
   "outputs": [
    {
     "data": {
      "text/markdown": [
       "$\\frac{{3\\sqrt{ 2 } - 2\\sqrt {3} }}{{3\\sqrt {2}  + 2\\sqrt {3} }} + \\frac{12}{4{\\sqrt {6 }}} \\rightarrow- \\frac{3 \\sqrt{6}}{2} + 5$"
      ],
      "text/plain": [
       "<IPython.core.display.Markdown object>"
      ]
     },
     "metadata": {},
     "output_type": "display_data"
    },
    {
     "data": {
      "text/markdown": [
       "$\\frac{{( {2\\sqrt {7}  + 2\\sqrt {3} } )^2}\\cdot( {5 - \\sqrt {21} })}{(\\sqrt{6}+\\sqrt{2})\\cdot(\\sqrt{6}-\\sqrt{2})} \\rightarrow8$"
      ],
      "text/plain": [
       "<IPython.core.display.Markdown object>"
      ]
     },
     "metadata": {},
     "output_type": "display_data"
    }
   ],
   "source": [
    "# ejercicio de examen 2\n",
    "\n",
    "n_ejercicio = 'ex03e02'\n",
    "puntuacion = '1'\n",
    "\n",
    "texto_ejercicio = 'Calcular:'\n",
    "\n",
    "enunciado_latex = [\n",
    "                  r'\\frac{{3\\sqrt{ 2 } - 2\\sqrt {3} }}{{3\\sqrt {2}  + 2\\sqrt {3} }} + \\frac{12}{4{\\sqrt {6 }}}',\n",
    "                  r'\\frac{{( {2\\sqrt {7}  + 2\\sqrt {3} } )^2}\\cdot( {5 - \\sqrt {21} })}{(\\sqrt{6}+\\sqrt{2})\\cdot(\\sqrt{6}-\\sqrt{2})}'\n",
    "                  ]\n",
    "enunciado, solucion = [], []\n",
    "for s in enunciado_latex :\n",
    "    display(md(\"$\"+ s +\" \\\\rightarrow\" + latex(nsimplify(radsimp(parse_latex(s))))+\"$\"))\n",
    "    enunciado.append(parse_latex(s))\n",
    "    solucion.append(latex(nsimplify(radsimp(parse_latex(s))))) \n",
    "df_ejercicios = df_ejercicios.append(añadir_ejercicios(enunciado_latex, enunciado, solucion, texto_ejercicio, curso, titulo, n_ejercicio, puntos = puntuacion), ignore_index=True)\n"
   ]
  },
  {
   "cell_type": "code",
   "execution_count": 6,
   "metadata": {},
   "outputs": [
    {
     "data": {
      "text/markdown": [
       "**Halla:**"
      ],
      "text/plain": [
       "<IPython.core.display.Markdown object>"
      ]
     },
     "metadata": {},
     "output_type": "display_data"
    },
    {
     "data": {
      "text/markdown": [
       "$tres números pares consecutivos y negativos sabiendo que \n",
       "                    su producto es igual a cuatro veces su suma \\rightarrow \\left [ -2, \\quad 0, \\quad 2\\right ] \\to \\left [ -6, \\quad -4, \\quad -2\\right ] \\lor \\left [ -2, \\quad 0, \\quad 2\\right ] \\lor \\left [ 2, \\quad 4, \\quad 6\\right ]$"
      ],
      "text/plain": [
       "<IPython.core.display.Markdown object>"
      ]
     },
     "metadata": {},
     "output_type": "display_data"
    },
    {
     "data": {
      "text/markdown": [
       "$tres números pares consecutivos sabiendo que su \n",
       "                    producto es igual a dos veces su suma. \\rightarrow \\left [ 0, \\quad - \\frac{\\sqrt{10}}{2}, \\quad \\frac{\\sqrt{10}}{2}\\right ] \\to \\left [ -2, \\quad 0, \\quad 2\\right ] \\lor \\left [ - \\sqrt{10} - 2, \\quad - \\sqrt{10}, \\quad - \\sqrt{10} + 2\\right ] \\lor \\left [ -2 + \\sqrt{10}, \\quad \\sqrt{10}, \\quad 2 + \\sqrt{10}\\right ]$"
      ],
      "text/plain": [
       "<IPython.core.display.Markdown object>"
      ]
     },
     "metadata": {},
     "output_type": "display_data"
    }
   ],
   "source": [
    "# ejercicio de examen 3\n",
    "\n",
    "n_ejercicio = 'ex03e03'\n",
    "puntuacion = '2'\n",
    "\n",
    "texto_ejercicio = \"\"\"Halla:\"\"\"\n",
    "\n",
    "display(md(\"**\"+texto_ejercicio+\"**\"))\n",
    "\n",
    "enunciado_latex = [\"\"\"tres números pares consecutivos y negativos sabiendo que \n",
    "                    su producto es igual a cuatro veces su suma\"\"\",\n",
    "                   \"\"\"tres números pares consecutivos sabiendo que su \n",
    "                    producto es igual a dos veces su suma.\"\"\"\n",
    "                      ]\n",
    "                                       \n",
    "pre_enunciado_latex,enunciado, solucion = [[r'(2x-2)+(2x)+(2x+2)',r'\\frac{(2x-2)(2x)(2x+2)}{4}'],\n",
    "                                           [r'(2x-2)+(2x)+(2x+2)',r'\\frac{(2x-2)(2x)(2x+2)}{2}']\n",
    "                                          ], [], []\n",
    "\n",
    "for i, s in enumerate(pre_enunciado_latex) :\n",
    "    #enunciado_latex.append(latex(Eq(parse_latex(s[0]),parse_latex(s[1]))))\n",
    "    enunciado.append(Eq(parse_latex(s[0]),parse_latex(s[1])))\n",
    "    sl = solve(enunciado[i])\n",
    "    sl = latex(sl) + r\" \\to \" + latex([2*sl[0]-2,2*sl[0],2*sl[0]+2])+ r\" \\lor \" + latex([2*sl[1]-2,2*sl[1],2*sl[1]+2])+ r\" \\lor \" + latex([2*sl[2]-2,2*sl[2],2*sl[2]+2])\n",
    "    solucion.append(sl) \n",
    "    display(md(\"$\"+ enunciado_latex[i] +\" \\\\rightarrow \" + solucion[i] +\"$\"))\n",
    "\n",
    "\n",
    "df_ejercicios = df_ejercicios.append(añadir_ejercicios(enunciado_latex, enunciado, solucion, texto_ejercicio, curso, titulo, n_ejercicio, puntos = puntuacion, enun_tex = False), ignore_index=True)\n"
   ]
  },
  {
   "cell_type": "code",
   "execution_count": 7,
   "metadata": {},
   "outputs": [
    {
     "data": {
      "text/markdown": [
       "**Simplifica:**"
      ],
      "text/plain": [
       "<IPython.core.display.Markdown object>"
      ]
     },
     "metadata": {},
     "output_type": "display_data"
    },
    {
     "data": {
      "text/markdown": [
       "$\\frac{{3{x^2} + 5x - 2}}{{{x^4} + 2{x^2} - 15}}:\\frac{{9{x^2} - 6x + 1}}{{{x^4} + 5{x^2}}} \\rightarrow \\frac{x^{3} + 2 x^{2}}{3 x^{3} - x^{2} - 9 x + 3}$"
      ],
      "text/plain": [
       "<IPython.core.display.Markdown object>"
      ]
     },
     "metadata": {},
     "output_type": "display_data"
    },
    {
     "data": {
      "text/markdown": [
       "$\\frac{{{x^2} - 4}}{{{x^3} - {x^2} + 3x - 3}}:\\frac{{{x^2} - 3x + 2}}{{{x^3} + 3x}} \\rightarrow \\frac{x^{2} + 2 x}{x^{2} - 2 x + 1}$"
      ],
      "text/plain": [
       "<IPython.core.display.Markdown object>"
      ]
     },
     "metadata": {},
     "output_type": "display_data"
    },
    {
     "data": {
      "text/markdown": [
       "$\\frac{\\frac{x}{{{x^2} - 2x + 1}}}{{\\frac{{x + 1}}{{x - 1}} - \\frac{{x - 1}}{{x + 1}}}} \\rightarrow \\frac{x + 1}{4 x - 4}$"
      ],
      "text/plain": [
       "<IPython.core.display.Markdown object>"
      ]
     },
     "metadata": {},
     "output_type": "display_data"
    }
   ],
   "source": [
    "# ejercicio de examen 4\n",
    "\n",
    "n_ejercicio = 'ex03e04'\n",
    "puntuacion = '1'\n",
    "\n",
    "texto_ejercicio = \"Simplifica:\"\n",
    "\n",
    "display(md(\"**\"+texto_ejercicio+\"**\"))\n",
    "\n",
    "enunciado_latex = [r'\\frac{{3{x^2} + 5x - 2}}{{{x^4} + 2{x^2} - 15}}:\\frac{{9{x^2} - 6x + 1}}{{{x^4} + 5{x^2}}}',\n",
    "                   r'\\frac{{{x^2} - 4}}{{{x^3} - {x^2} + 3x - 3}}:\\frac{{{x^2} - 3x + 2}}{{{x^3} + 3x}}',\n",
    "                   r'\\frac{\\frac{x}{{{x^2} - 2x + 1}}}{{\\frac{{x + 1}}{{x - 1}} - \\frac{{x - 1}}{{x + 1}}}}',\n",
    "                  \n",
    "               \n",
    "                  ]\n",
    "\n",
    "\n",
    "\n",
    "\n",
    "enunciado, solucion = [], []\n",
    "\n",
    "for i, s in enumerate(enunciado_latex) : \n",
    "    enunciado.append(parse_latex(s))\n",
    "    solucion.append(latex(cancel(cancel(parse_latex(s), domain = 'QQ<sqrt(2)>')))) \n",
    "    display(md(\"$\"+ s +\" \\\\rightarrow \" + solucion[i] +\"$\"))\n",
    "\n",
    "\n",
    "df_ejercicios = df_ejercicios.append(añadir_ejercicios(enunciado_latex, enunciado, solucion, texto_ejercicio, curso, titulo, n_ejercicio, puntos = puntuacion), ignore_index=True)\n"
   ]
  },
  {
   "cell_type": "code",
   "execution_count": 8,
   "metadata": {},
   "outputs": [
    {
     "data": {
      "text/markdown": [
       "**Resolver :**"
      ],
      "text/plain": [
       "<IPython.core.display.Markdown object>"
      ]
     },
     "metadata": {},
     "output_type": "display_data"
    },
    {
     "data": {
      "text/markdown": [
       "$\\left\\{\\begin{matrix}2\\log x + \\log y = 8 \\\\\\log x - \\log y = 1\\end{matrix}\\right. \\rightarrow \\left [ \\left \\{ x : 1000, \\quad y : 100\\right \\}\\right ]$"
      ],
      "text/plain": [
       "<IPython.core.display.Markdown object>"
      ]
     },
     "metadata": {},
     "output_type": "display_data"
    },
    {
     "data": {
      "text/markdown": [
       "$\\left\\{\\begin{matrix}2\\log x - 2\\log y = 6\\\\\\log x + 3\\log y = 7\\end{matrix}\\right. \\rightarrow \\left [ \\left \\{ x : 10000, \\quad y : 10\\right \\}\\right ]$"
      ],
      "text/plain": [
       "<IPython.core.display.Markdown object>"
      ]
     },
     "metadata": {},
     "output_type": "display_data"
    },
    {
     "data": {
      "text/markdown": [
       "$\\left\\{\\begin{matrix}\\log_{2}(x) + \\log_{2}(x + y) = 4\\\\x + y = 2 \\end{matrix}\\right. \\rightarrow \\left [ \\left \\{ x : 8, \\quad y : -6\\right \\}\\right ]$"
      ],
      "text/plain": [
       "<IPython.core.display.Markdown object>"
      ]
     },
     "metadata": {},
     "output_type": "display_data"
    }
   ],
   "source": [
    "# ejercicio de examen 5\n",
    "\n",
    "n_ejercicio = 'ex03e05'\n",
    "puntuacion = '1'\n",
    "\n",
    "texto_ejercicio = 'Resolver :'\n",
    "\n",
    "\n",
    "\n",
    "display(md(\"**\"+texto_ejercicio+\"**\"))\n",
    "\n",
    "pre_enunciado_latex = [[r'2\\log x + \\log y = 8 ',r'\\log x - \\log y = 1'],\n",
    "                       [r'2\\log x - 2\\log y = 6',r'\\log x + 3\\log y = 7'],\n",
    "                       [r'\\log_{2}(x) + \\log_{2}(x + y) = 4',r'x + y = 2 ']\n",
    "                      ]\n",
    "                       \n",
    "\n",
    "\n",
    "\n",
    "enunciado_latex,enunciado, solucion = [], [], []\n",
    "\n",
    "for i, s in enumerate(pre_enunciado_latex) :\n",
    "    enl = r\"\"\"\\left\\{\\begin{matrix}\"\"\"+ s[0] + r'\\\\' + s[1] + r\"\"\"\\end{matrix}\\right.\"\"\"\n",
    "    en = [parse_latex(t) for t in s]\n",
    "    so = solve(en)\n",
    "    enunciado_latex.append(enl)\n",
    "    enunciado.append(en)\n",
    "    so_l=latex(so)\n",
    "    solucion.append(so_l) \n",
    "    display(md(\"$\"+ enunciado_latex[i] +\" \\\\rightarrow \" + solucion[i] +\"$\"))\n",
    "\n",
    "\n",
    "df_ejercicios = df_ejercicios.append(añadir_ejercicios(enunciado_latex, enunciado, solucion, texto_ejercicio, curso, titulo, n_ejercicio, puntos = puntuacion), ignore_index=True)\n"
   ]
  },
  {
   "cell_type": "code",
   "execution_count": 9,
   "metadata": {},
   "outputs": [
    {
     "data": {
      "text/markdown": [
       "**Resolver :**"
      ],
      "text/plain": [
       "<IPython.core.display.Markdown object>"
      ]
     },
     "metadata": {},
     "output_type": "display_data"
    },
    {
     "data": {
      "text/markdown": [
       "Mezclamos café de 6 euros el kg. con otro de 9 euros el kg. y queremos obtener una mezcla de calidad \n",
       "    intermedia cuyo precio no pase de 7 euros el kg. para conseguir 60 kg. de esa calidad intermedia, \n",
       "    ¿qué condiciones deberán cumplir los pesos de las dos clases mezcladas?$ \\ \\\\   \\rightarrow  6x+9(60-x)<7\\cdot60  \\rightarrow  \\\\\\left(40, \\infty\\right)$"
      ],
      "text/plain": [
       "<IPython.core.display.Markdown object>"
      ]
     },
     "metadata": {},
     "output_type": "display_data"
    },
    {
     "data": {
      "text/markdown": [
       "Un padre tiene 31 años más que su hijo, y el abuelo tiene 31 años más que el padre. \n",
       "    El año pasado sus edades sumaban menos de 102 años. \n",
       "    ¿Qué edades tienen ahora?. Indica todas las soluciones sabiendo que tienen que ser enteras.$ \\ \\\\   \\rightarrow  (x-1-31)+(x-1)+(x-1+31)<102  \\rightarrow  \\\\\\left(-\\infty, 35\\right)$"
      ],
      "text/plain": [
       "<IPython.core.display.Markdown object>"
      ]
     },
     "metadata": {},
     "output_type": "display_data"
    }
   ],
   "source": [
    "# ejercicio de examen 3\n",
    "\n",
    "\n",
    "puntuacion = 2\n",
    "\n",
    "n_ejercicio = 'ex03e03'\n",
    "\n",
    "\n",
    "\n",
    "display(md(\"**\"+texto_ejercicio+\"**\"))\n",
    "\n",
    "ine = [ r'6x+9(60-x)<7\\cdot60',\n",
    "        r'(x-1-31)+(x-1)+(x-1+31)<102'\n",
    "         \n",
    "            ]\n",
    "\n",
    "enunciado_latex, enunciado, solucion = [\n",
    "    \"\"\"Mezclamos café de 6 euros el kg. con otro de 9 euros el kg. y queremos obtener una mezcla de calidad \n",
    "    intermedia cuyo precio no pase de 7 euros el kg. para conseguir 60 kg. de esa calidad intermedia, \n",
    "    ¿qué condiciones deberán cumplir los pesos de las dos clases mezcladas?\"\"\",\n",
    "    \"\"\"Un padre tiene 31 años más que su hijo, y el abuelo tiene 31 años más que el padre. \n",
    "    El año pasado sus edades sumaban menos de 102 años. \n",
    "    ¿Qué edades tienen ahora?. Indica todas las soluciones sabiendo que tienen que ser enteras.\"\"\",\n",
    "\n",
    "    \n",
    "                           ], [], []\n",
    "\n",
    "for i, s in enumerate(ine) :\n",
    "    \n",
    "    enl = enunciado_latex[i]\n",
    "    en = s\n",
    "    #display(s)\n",
    "    so = reduce_rational_inequalities([[parse_latex(s)]],x).as_set()\n",
    "    enunciado.append(en)\n",
    "    so_l= en + r'  \\rightarrow  \\\\'+latex(so)\n",
    "    solucion.append(so_l) \n",
    "    display(md(enunciado_latex[i] +r\"$ \\ \\\\ \" + r\"  \\rightarrow  \" + solucion[i] +\"$\"))\n",
    "\n",
    "df_ejercicios = df_ejercicios.append(añadir_ejercicios(enunciado_latex, enunciado, solucion, texto_ejercicio, curso, titulo , n_ejercicio, puntos = puntuacion, enun_tex = False), ignore_index=True)\n"
   ]
  },
  {
   "cell_type": "code",
   "execution_count": 10,
   "metadata": {},
   "outputs": [
    {
     "data": {
      "text/markdown": [
       "$\\left\\{\\begin{matrix}{5^x} = {5^y} \\cdot 625 \\\\{2^x} \\cdot {2^y} = 256\\end{matrix}\\right. \\rightarrow \\left [ \\left \\{ x : 6, \\quad y : 2\\right \\}\\right ]$"
      ],
      "text/plain": [
       "<IPython.core.display.Markdown object>"
      ]
     },
     "metadata": {},
     "output_type": "display_data"
    },
    {
     "data": {
      "text/markdown": [
       "$\\left\\{\\begin{matrix}{2^x} + {2^y} = 24\\\\{2^{x + y}} = 128\\end{matrix}\\right. \\rightarrow \\left [ \\left \\{ x : 3, \\quad y : 4\\right \\}, \\quad \\left \\{ x : 4, \\quad y : 3\\right \\}\\right ]$"
      ],
      "text/plain": [
       "<IPython.core.display.Markdown object>"
      ]
     },
     "metadata": {},
     "output_type": "display_data"
    }
   ],
   "source": [
    "# ejercicio de examen 5\n",
    "\n",
    "\n",
    "puntuacion = 1\n",
    "\n",
    "n_ejercicio = 'ex03e05'\n",
    "\n",
    "x,y = symbols('x, y', real=True)\n",
    "\n",
    "texto_ejercicio = r'Resuelve:'\n",
    "\n",
    "\n",
    "\n",
    "pre_enunciado_latex = [\n",
    "                       [r'{5^x} = {5^y} \\cdot 625 ', r'{2^x} \\cdot {2^y} = 256'],\n",
    "                       [r'{2^x} + {2^y} = 24',r'{2^{x + y}} = 128']\n",
    "                                             ]\n",
    "                       \n",
    "\n",
    "enunciado_latex,enunciado, solucion = [], [], []\n",
    "\n",
    "for i, s in enumerate(pre_enunciado_latex) :\n",
    "    enl = r\"\"\"\\left\\{\\begin{matrix}\"\"\"+ s[0] + r'\\\\' + s[1] + r\"\"\"\\end{matrix}\\right.\"\"\"\n",
    "    en = [eval(str(parse_latex(t))) for t in s]\n",
    "    so = solve(en)\n",
    "    enunciado_latex.append(enl)\n",
    "    enunciado.append(en)\n",
    "    so_l=latex(so)\n",
    "    solucion.append(so_l) \n",
    "    display(md(\"$\"+ enunciado_latex[i] +\" \\\\rightarrow \" + solucion[i] +\"$\"))\n",
    "\n",
    "    \n",
    "df_ejercicios = df_ejercicios.append(añadir_ejercicios(enunciado_latex, enunciado, solucion, texto_ejercicio, curso, titulo, n_ejercicio, puntos = puntuacion), ignore_index=True)\n"
   ]
  },
  {
   "cell_type": "code",
   "execution_count": 11,
   "metadata": {},
   "outputs": [
    {
     "data": {
      "text/html": [
       "<div>\n",
       "<style scoped>\n",
       "    .dataframe tbody tr th:only-of-type {\n",
       "        vertical-align: middle;\n",
       "    }\n",
       "\n",
       "    .dataframe tbody tr th {\n",
       "        vertical-align: top;\n",
       "    }\n",
       "\n",
       "    .dataframe thead th {\n",
       "        text-align: right;\n",
       "    }\n",
       "</style>\n",
       "<table border=\"1\" class=\"dataframe\">\n",
       "  <thead>\n",
       "    <tr style=\"text-align: right;\">\n",
       "      <th></th>\n",
       "      <th>enunciado_latex</th>\n",
       "      <th>enunciado</th>\n",
       "      <th>solucion</th>\n",
       "      <th>texto</th>\n",
       "      <th>curso</th>\n",
       "      <th>titulo</th>\n",
       "      <th>n_ejercicio</th>\n",
       "      <th>dificultad</th>\n",
       "      <th>n_columnas</th>\n",
       "      <th>puntos</th>\n",
       "      <th>enun_tex</th>\n",
       "      <th>sol_tex</th>\n",
       "    </tr>\n",
       "  </thead>\n",
       "  <tbody>\n",
       "    <tr>\n",
       "      <th>0</th>\n",
       "      <td>A=\\left\\{ x \\in \\mathbb{R}| \\left|{x - 3}\\righ...</td>\n",
       "      <td>[[Abs(x - 3), &gt;, 0], Union(Interval.open(-oo, ...</td>\n",
       "      <td>A=\\left(-\\infty, 3\\right) \\cup \\left(3, \\infty...</td>\n",
       "      <td>Dados los siguientes conjuntos A, B y C, repre...</td>\n",
       "      <td>1BC</td>\n",
       "      <td>Recuperación 1ª Ev.</td>\n",
       "      <td>ex03e01</td>\n",
       "      <td>1</td>\n",
       "      <td>3</td>\n",
       "      <td>1</td>\n",
       "      <td>True</td>\n",
       "      <td>True</td>\n",
       "    </tr>\n",
       "    <tr>\n",
       "      <th>1</th>\n",
       "      <td>A=\\left\\{ x \\in \\mathbb{R}| \\left|{x - 3}\\righ...</td>\n",
       "      <td>[[Abs(x - 3), &lt;, 10], Union(Interval.open(-10,...</td>\n",
       "      <td>A=\\left(-7, 13\\right) \\ C=\\left(-\\infty, -3\\ri...</td>\n",
       "      <td>Dados los siguientes conjuntos A, B y C, repre...</td>\n",
       "      <td>1BC</td>\n",
       "      <td>Recuperación 1ª Ev.</td>\n",
       "      <td>ex03e01</td>\n",
       "      <td>1</td>\n",
       "      <td>3</td>\n",
       "      <td>1</td>\n",
       "      <td>True</td>\n",
       "      <td>True</td>\n",
       "    </tr>\n",
       "    <tr>\n",
       "      <th>2</th>\n",
       "      <td>P(x)=\\left(2 x - \\frac{3}{x}\\right)^{8} \\  \\ y...</td>\n",
       "      <td>((2*x - 3/x)**8, x**(-8))</td>\n",
       "      <td>6561</td>\n",
       "      <td>Calcula, sin hacer todo el desarrollo, el coef...</td>\n",
       "      <td>1BC</td>\n",
       "      <td>Recuperación 1ª Ev.</td>\n",
       "      <td>ex03e01b</td>\n",
       "      <td>1</td>\n",
       "      <td>3</td>\n",
       "      <td>1</td>\n",
       "      <td>True</td>\n",
       "      <td>True</td>\n",
       "    </tr>\n",
       "    <tr>\n",
       "      <th>3</th>\n",
       "      <td>P(x)=\\left(3 x^{2} + \\frac{1}{x}\\right)^{7} \\ ...</td>\n",
       "      <td>((3*x**2 + 1/x)**7, x**(-7))</td>\n",
       "      <td>1</td>\n",
       "      <td>Calcula, sin hacer todo el desarrollo, el coef...</td>\n",
       "      <td>1BC</td>\n",
       "      <td>Recuperación 1ª Ev.</td>\n",
       "      <td>ex03e01b</td>\n",
       "      <td>1</td>\n",
       "      <td>3</td>\n",
       "      <td>1</td>\n",
       "      <td>True</td>\n",
       "      <td>True</td>\n",
       "    </tr>\n",
       "    <tr>\n",
       "      <th>4</th>\n",
       "      <td>\\frac{{3\\sqrt{ 2 } - 2\\sqrt {3} }}{{3\\sqrt {2}...</td>\n",
       "      <td>(-2*sqrt(3) + 3*sqrt(2))/(2*sqrt(3) + 3*sqrt(2...</td>\n",
       "      <td>- \\frac{3 \\sqrt{6}}{2} + 5</td>\n",
       "      <td>Calcular:</td>\n",
       "      <td>1BC</td>\n",
       "      <td>Recuperación 1ª Ev.</td>\n",
       "      <td>ex03e02</td>\n",
       "      <td>1</td>\n",
       "      <td>3</td>\n",
       "      <td>1</td>\n",
       "      <td>True</td>\n",
       "      <td>True</td>\n",
       "    </tr>\n",
       "    <tr>\n",
       "      <th>5</th>\n",
       "      <td>\\frac{{( {2\\sqrt {7}  + 2\\sqrt {3} } )^2}\\cdot...</td>\n",
       "      <td>((-sqrt(21) + 5)*(2*sqrt(3) + 2*sqrt(7))**2)/(...</td>\n",
       "      <td>8</td>\n",
       "      <td>Calcular:</td>\n",
       "      <td>1BC</td>\n",
       "      <td>Recuperación 1ª Ev.</td>\n",
       "      <td>ex03e02</td>\n",
       "      <td>1</td>\n",
       "      <td>3</td>\n",
       "      <td>1</td>\n",
       "      <td>True</td>\n",
       "      <td>True</td>\n",
       "    </tr>\n",
       "    <tr>\n",
       "      <th>6</th>\n",
       "      <td>tres números pares consecutivos y negativos sa...</td>\n",
       "      <td>Eq(2*x + 2 + 2*x + 2*x - 2, (((2*x)*(2*x + 2))...</td>\n",
       "      <td>\\left [ -2, \\quad 0, \\quad 2\\right ] \\to \\left...</td>\n",
       "      <td>Halla:</td>\n",
       "      <td>1BC</td>\n",
       "      <td>Recuperación 1ª Ev.</td>\n",
       "      <td>ex03e03</td>\n",
       "      <td>1</td>\n",
       "      <td>3</td>\n",
       "      <td>2</td>\n",
       "      <td>False</td>\n",
       "      <td>True</td>\n",
       "    </tr>\n",
       "    <tr>\n",
       "      <th>7</th>\n",
       "      <td>tres números pares consecutivos sabiendo que s...</td>\n",
       "      <td>Eq(2*x + 2 + 2*x + 2*x - 2, (((2*x)*(2*x + 2))...</td>\n",
       "      <td>\\left [ 0, \\quad - \\frac{\\sqrt{10}}{2}, \\quad ...</td>\n",
       "      <td>Halla:</td>\n",
       "      <td>1BC</td>\n",
       "      <td>Recuperación 1ª Ev.</td>\n",
       "      <td>ex03e03</td>\n",
       "      <td>1</td>\n",
       "      <td>3</td>\n",
       "      <td>2</td>\n",
       "      <td>False</td>\n",
       "      <td>True</td>\n",
       "    </tr>\n",
       "    <tr>\n",
       "      <th>8</th>\n",
       "      <td>\\frac{{3{x^2} + 5x - 2}}{{{x^4} + 2{x^2} - 15}...</td>\n",
       "      <td>((3*x**2 + 5*x - 2)/(x**4 + 2*x**2 - 15))/(((9...</td>\n",
       "      <td>\\frac{x^{3} + 2 x^{2}}{3 x^{3} - x^{2} - 9 x + 3}</td>\n",
       "      <td>Simplifica:</td>\n",
       "      <td>1BC</td>\n",
       "      <td>Recuperación 1ª Ev.</td>\n",
       "      <td>ex03e04</td>\n",
       "      <td>1</td>\n",
       "      <td>3</td>\n",
       "      <td>1</td>\n",
       "      <td>True</td>\n",
       "      <td>True</td>\n",
       "    </tr>\n",
       "    <tr>\n",
       "      <th>9</th>\n",
       "      <td>\\frac{{{x^2} - 4}}{{{x^3} - {x^2} + 3x - 3}}:\\...</td>\n",
       "      <td>((x**2 - 4)/(3*x + x**3 - x**2 - 3))/(((x**2 -...</td>\n",
       "      <td>\\frac{x^{2} + 2 x}{x^{2} - 2 x + 1}</td>\n",
       "      <td>Simplifica:</td>\n",
       "      <td>1BC</td>\n",
       "      <td>Recuperación 1ª Ev.</td>\n",
       "      <td>ex03e04</td>\n",
       "      <td>1</td>\n",
       "      <td>3</td>\n",
       "      <td>1</td>\n",
       "      <td>True</td>\n",
       "      <td>True</td>\n",
       "    </tr>\n",
       "    <tr>\n",
       "      <th>10</th>\n",
       "      <td>\\frac{\\frac{x}{{{x^2} - 2x + 1}}}{{\\frac{{x + ...</td>\n",
       "      <td>(x/(x**2 - 2*x + 1))/(-(x - 1)/(x + 1) + (x + ...</td>\n",
       "      <td>\\frac{x + 1}{4 x - 4}</td>\n",
       "      <td>Simplifica:</td>\n",
       "      <td>1BC</td>\n",
       "      <td>Recuperación 1ª Ev.</td>\n",
       "      <td>ex03e04</td>\n",
       "      <td>1</td>\n",
       "      <td>3</td>\n",
       "      <td>1</td>\n",
       "      <td>True</td>\n",
       "      <td>True</td>\n",
       "    </tr>\n",
       "    <tr>\n",
       "      <th>11</th>\n",
       "      <td>\\left\\{\\begin{matrix}2\\log x + \\log y = 8 \\\\\\l...</td>\n",
       "      <td>[Eq(2*log(x, 10) + log(y, 10), 8), Eq(log(x, 1...</td>\n",
       "      <td>\\left [ \\left \\{ x : 1000, \\quad y : 100\\right...</td>\n",
       "      <td>Resolver :</td>\n",
       "      <td>1BC</td>\n",
       "      <td>Recuperación 1ª Ev.</td>\n",
       "      <td>ex03e05</td>\n",
       "      <td>1</td>\n",
       "      <td>3</td>\n",
       "      <td>1</td>\n",
       "      <td>True</td>\n",
       "      <td>True</td>\n",
       "    </tr>\n",
       "    <tr>\n",
       "      <th>12</th>\n",
       "      <td>\\left\\{\\begin{matrix}2\\log x - 2\\log y = 6\\\\\\l...</td>\n",
       "      <td>[Eq(2*log(x, 10) - 2*log(y, 10), 6), Eq(log(x,...</td>\n",
       "      <td>\\left [ \\left \\{ x : 10000, \\quad y : 10\\right...</td>\n",
       "      <td>Resolver :</td>\n",
       "      <td>1BC</td>\n",
       "      <td>Recuperación 1ª Ev.</td>\n",
       "      <td>ex03e05</td>\n",
       "      <td>1</td>\n",
       "      <td>3</td>\n",
       "      <td>1</td>\n",
       "      <td>True</td>\n",
       "      <td>True</td>\n",
       "    </tr>\n",
       "    <tr>\n",
       "      <th>13</th>\n",
       "      <td>\\left\\{\\begin{matrix}\\log_{2}(x) + \\log_{2}(x ...</td>\n",
       "      <td>[Eq(log(x, 2) + log(x + y, 2), 4), Eq(x + y, 2)]</td>\n",
       "      <td>\\left [ \\left \\{ x : 8, \\quad y : -6\\right \\}\\...</td>\n",
       "      <td>Resolver :</td>\n",
       "      <td>1BC</td>\n",
       "      <td>Recuperación 1ª Ev.</td>\n",
       "      <td>ex03e05</td>\n",
       "      <td>1</td>\n",
       "      <td>3</td>\n",
       "      <td>1</td>\n",
       "      <td>True</td>\n",
       "      <td>True</td>\n",
       "    </tr>\n",
       "    <tr>\n",
       "      <th>14</th>\n",
       "      <td>Mezclamos café de 6 euros el kg. con otro de 9...</td>\n",
       "      <td>6x+9(60-x)&lt;7\\cdot60</td>\n",
       "      <td>6x+9(60-x)&lt;7\\cdot60  \\rightarrow  \\\\\\left(40, ...</td>\n",
       "      <td>Resolver :</td>\n",
       "      <td>1BC</td>\n",
       "      <td>Recuperación 1ª Ev.</td>\n",
       "      <td>ex03e03</td>\n",
       "      <td>1</td>\n",
       "      <td>3</td>\n",
       "      <td>2</td>\n",
       "      <td>False</td>\n",
       "      <td>True</td>\n",
       "    </tr>\n",
       "    <tr>\n",
       "      <th>15</th>\n",
       "      <td>Un padre tiene 31 años más que su hijo, y el a...</td>\n",
       "      <td>(x-1-31)+(x-1)+(x-1+31)&lt;102</td>\n",
       "      <td>(x-1-31)+(x-1)+(x-1+31)&lt;102  \\rightarrow  \\\\\\l...</td>\n",
       "      <td>Resolver :</td>\n",
       "      <td>1BC</td>\n",
       "      <td>Recuperación 1ª Ev.</td>\n",
       "      <td>ex03e03</td>\n",
       "      <td>1</td>\n",
       "      <td>3</td>\n",
       "      <td>2</td>\n",
       "      <td>False</td>\n",
       "      <td>True</td>\n",
       "    </tr>\n",
       "    <tr>\n",
       "      <th>16</th>\n",
       "      <td>\\left\\{\\begin{matrix}{5^x} = {5^y} \\cdot 625 \\...</td>\n",
       "      <td>[Eq(5**x, 625*5**y), Eq(2**x*2**y, 256)]</td>\n",
       "      <td>\\left [ \\left \\{ x : 6, \\quad y : 2\\right \\}\\r...</td>\n",
       "      <td>Resuelve:</td>\n",
       "      <td>1BC</td>\n",
       "      <td>Recuperación 1ª Ev.</td>\n",
       "      <td>ex03e05</td>\n",
       "      <td>1</td>\n",
       "      <td>3</td>\n",
       "      <td>1</td>\n",
       "      <td>True</td>\n",
       "      <td>True</td>\n",
       "    </tr>\n",
       "    <tr>\n",
       "      <th>17</th>\n",
       "      <td>\\left\\{\\begin{matrix}{2^x} + {2^y} = 24\\\\{2^{x...</td>\n",
       "      <td>[Eq(2**x + 2**y, 24), Eq(2**(x + y), 128)]</td>\n",
       "      <td>\\left [ \\left \\{ x : 3, \\quad y : 4\\right \\}, ...</td>\n",
       "      <td>Resuelve:</td>\n",
       "      <td>1BC</td>\n",
       "      <td>Recuperación 1ª Ev.</td>\n",
       "      <td>ex03e05</td>\n",
       "      <td>1</td>\n",
       "      <td>3</td>\n",
       "      <td>1</td>\n",
       "      <td>True</td>\n",
       "      <td>True</td>\n",
       "    </tr>\n",
       "  </tbody>\n",
       "</table>\n",
       "</div>"
      ],
      "text/plain": [
       "                                      enunciado_latex  \\\n",
       "0   A=\\left\\{ x \\in \\mathbb{R}| \\left|{x - 3}\\righ...   \n",
       "1   A=\\left\\{ x \\in \\mathbb{R}| \\left|{x - 3}\\righ...   \n",
       "2   P(x)=\\left(2 x - \\frac{3}{x}\\right)^{8} \\  \\ y...   \n",
       "3   P(x)=\\left(3 x^{2} + \\frac{1}{x}\\right)^{7} \\ ...   \n",
       "4   \\frac{{3\\sqrt{ 2 } - 2\\sqrt {3} }}{{3\\sqrt {2}...   \n",
       "5   \\frac{{( {2\\sqrt {7}  + 2\\sqrt {3} } )^2}\\cdot...   \n",
       "6   tres números pares consecutivos y negativos sa...   \n",
       "7   tres números pares consecutivos sabiendo que s...   \n",
       "8   \\frac{{3{x^2} + 5x - 2}}{{{x^4} + 2{x^2} - 15}...   \n",
       "9   \\frac{{{x^2} - 4}}{{{x^3} - {x^2} + 3x - 3}}:\\...   \n",
       "10  \\frac{\\frac{x}{{{x^2} - 2x + 1}}}{{\\frac{{x + ...   \n",
       "11  \\left\\{\\begin{matrix}2\\log x + \\log y = 8 \\\\\\l...   \n",
       "12  \\left\\{\\begin{matrix}2\\log x - 2\\log y = 6\\\\\\l...   \n",
       "13  \\left\\{\\begin{matrix}\\log_{2}(x) + \\log_{2}(x ...   \n",
       "14  Mezclamos café de 6 euros el kg. con otro de 9...   \n",
       "15  Un padre tiene 31 años más que su hijo, y el a...   \n",
       "16  \\left\\{\\begin{matrix}{5^x} = {5^y} \\cdot 625 \\...   \n",
       "17  \\left\\{\\begin{matrix}{2^x} + {2^y} = 24\\\\{2^{x...   \n",
       "\n",
       "                                            enunciado  \\\n",
       "0   [[Abs(x - 3), >, 0], Union(Interval.open(-oo, ...   \n",
       "1   [[Abs(x - 3), <, 10], Union(Interval.open(-10,...   \n",
       "2                           ((2*x - 3/x)**8, x**(-8))   \n",
       "3                        ((3*x**2 + 1/x)**7, x**(-7))   \n",
       "4   (-2*sqrt(3) + 3*sqrt(2))/(2*sqrt(3) + 3*sqrt(2...   \n",
       "5   ((-sqrt(21) + 5)*(2*sqrt(3) + 2*sqrt(7))**2)/(...   \n",
       "6   Eq(2*x + 2 + 2*x + 2*x - 2, (((2*x)*(2*x + 2))...   \n",
       "7   Eq(2*x + 2 + 2*x + 2*x - 2, (((2*x)*(2*x + 2))...   \n",
       "8   ((3*x**2 + 5*x - 2)/(x**4 + 2*x**2 - 15))/(((9...   \n",
       "9   ((x**2 - 4)/(3*x + x**3 - x**2 - 3))/(((x**2 -...   \n",
       "10  (x/(x**2 - 2*x + 1))/(-(x - 1)/(x + 1) + (x + ...   \n",
       "11  [Eq(2*log(x, 10) + log(y, 10), 8), Eq(log(x, 1...   \n",
       "12  [Eq(2*log(x, 10) - 2*log(y, 10), 6), Eq(log(x,...   \n",
       "13   [Eq(log(x, 2) + log(x + y, 2), 4), Eq(x + y, 2)]   \n",
       "14                                6x+9(60-x)<7\\cdot60   \n",
       "15                        (x-1-31)+(x-1)+(x-1+31)<102   \n",
       "16           [Eq(5**x, 625*5**y), Eq(2**x*2**y, 256)]   \n",
       "17         [Eq(2**x + 2**y, 24), Eq(2**(x + y), 128)]   \n",
       "\n",
       "                                             solucion  \\\n",
       "0   A=\\left(-\\infty, 3\\right) \\cup \\left(3, \\infty...   \n",
       "1   A=\\left(-7, 13\\right) \\ C=\\left(-\\infty, -3\\ri...   \n",
       "2                                                6561   \n",
       "3                                                   1   \n",
       "4                          - \\frac{3 \\sqrt{6}}{2} + 5   \n",
       "5                                                   8   \n",
       "6   \\left [ -2, \\quad 0, \\quad 2\\right ] \\to \\left...   \n",
       "7   \\left [ 0, \\quad - \\frac{\\sqrt{10}}{2}, \\quad ...   \n",
       "8   \\frac{x^{3} + 2 x^{2}}{3 x^{3} - x^{2} - 9 x + 3}   \n",
       "9                 \\frac{x^{2} + 2 x}{x^{2} - 2 x + 1}   \n",
       "10                              \\frac{x + 1}{4 x - 4}   \n",
       "11  \\left [ \\left \\{ x : 1000, \\quad y : 100\\right...   \n",
       "12  \\left [ \\left \\{ x : 10000, \\quad y : 10\\right...   \n",
       "13  \\left [ \\left \\{ x : 8, \\quad y : -6\\right \\}\\...   \n",
       "14  6x+9(60-x)<7\\cdot60  \\rightarrow  \\\\\\left(40, ...   \n",
       "15  (x-1-31)+(x-1)+(x-1+31)<102  \\rightarrow  \\\\\\l...   \n",
       "16  \\left [ \\left \\{ x : 6, \\quad y : 2\\right \\}\\r...   \n",
       "17  \\left [ \\left \\{ x : 3, \\quad y : 4\\right \\}, ...   \n",
       "\n",
       "                                                texto curso  \\\n",
       "0   Dados los siguientes conjuntos A, B y C, repre...   1BC   \n",
       "1   Dados los siguientes conjuntos A, B y C, repre...   1BC   \n",
       "2   Calcula, sin hacer todo el desarrollo, el coef...   1BC   \n",
       "3   Calcula, sin hacer todo el desarrollo, el coef...   1BC   \n",
       "4                                           Calcular:   1BC   \n",
       "5                                           Calcular:   1BC   \n",
       "6                                              Halla:   1BC   \n",
       "7                                              Halla:   1BC   \n",
       "8                                         Simplifica:   1BC   \n",
       "9                                         Simplifica:   1BC   \n",
       "10                                        Simplifica:   1BC   \n",
       "11                                         Resolver :   1BC   \n",
       "12                                         Resolver :   1BC   \n",
       "13                                         Resolver :   1BC   \n",
       "14                                         Resolver :   1BC   \n",
       "15                                         Resolver :   1BC   \n",
       "16                                          Resuelve:   1BC   \n",
       "17                                          Resuelve:   1BC   \n",
       "\n",
       "                 titulo n_ejercicio dificultad n_columnas puntos  enun_tex  \\\n",
       "0   Recuperación 1ª Ev.     ex03e01          1          3      1      True   \n",
       "1   Recuperación 1ª Ev.     ex03e01          1          3      1      True   \n",
       "2   Recuperación 1ª Ev.    ex03e01b          1          3      1      True   \n",
       "3   Recuperación 1ª Ev.    ex03e01b          1          3      1      True   \n",
       "4   Recuperación 1ª Ev.     ex03e02          1          3      1      True   \n",
       "5   Recuperación 1ª Ev.     ex03e02          1          3      1      True   \n",
       "6   Recuperación 1ª Ev.     ex03e03          1          3      2     False   \n",
       "7   Recuperación 1ª Ev.     ex03e03          1          3      2     False   \n",
       "8   Recuperación 1ª Ev.     ex03e04          1          3      1      True   \n",
       "9   Recuperación 1ª Ev.     ex03e04          1          3      1      True   \n",
       "10  Recuperación 1ª Ev.     ex03e04          1          3      1      True   \n",
       "11  Recuperación 1ª Ev.     ex03e05          1          3      1      True   \n",
       "12  Recuperación 1ª Ev.     ex03e05          1          3      1      True   \n",
       "13  Recuperación 1ª Ev.     ex03e05          1          3      1      True   \n",
       "14  Recuperación 1ª Ev.     ex03e03          1          3      2     False   \n",
       "15  Recuperación 1ª Ev.     ex03e03          1          3      2     False   \n",
       "16  Recuperación 1ª Ev.     ex03e05          1          3      1      True   \n",
       "17  Recuperación 1ª Ev.     ex03e05          1          3      1      True   \n",
       "\n",
       "    sol_tex  \n",
       "0      True  \n",
       "1      True  \n",
       "2      True  \n",
       "3      True  \n",
       "4      True  \n",
       "5      True  \n",
       "6      True  \n",
       "7      True  \n",
       "8      True  \n",
       "9      True  \n",
       "10     True  \n",
       "11     True  \n",
       "12     True  \n",
       "13     True  \n",
       "14     True  \n",
       "15     True  \n",
       "16     True  \n",
       "17     True  "
      ]
     },
     "execution_count": 11,
     "metadata": {},
     "output_type": "execute_result"
    }
   ],
   "source": [
    "df_ejercicios"
   ]
  },
  {
   "cell_type": "code",
   "execution_count": 12,
   "metadata": {},
   "outputs": [],
   "source": [
    "df_ejercicios.to_csv('ejercicios_rec1.csv', index = False)"
   ]
  }
 ],
 "metadata": {
  "kernelspec": {
   "display_name": "Python 3",
   "language": "python",
   "name": "python3"
  },
  "language_info": {
   "codemirror_mode": {
    "name": "ipython",
    "version": 3
   },
   "file_extension": ".py",
   "mimetype": "text/x-python",
   "name": "python",
   "nbconvert_exporter": "python",
   "pygments_lexer": "ipython3",
   "version": "3.6.8"
  }
 },
 "nbformat": 4,
 "nbformat_minor": 2
}
