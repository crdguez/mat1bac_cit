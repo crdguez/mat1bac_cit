{
 "cells": [
  {
   "cell_type": "code",
   "execution_count": 3,
   "metadata": {},
   "outputs": [
    {
     "name": "stdout",
     "output_type": "stream",
     "text": [
      "IPython console for SymPy 1.2 (Python 3.6.5-64-bit) (ground types: gmpy)\n",
      "\n",
      "These commands were executed:\n",
      ">>> from __future__ import division\n",
      ">>> from sympy import *\n",
      ">>> x, y, z, t = symbols('x y z t')\n",
      ">>> k, m, n = symbols('k m n', integer=True)\n",
      ">>> f, g, h = symbols('f g h', cls=Function)\n",
      ">>> init_printing()\n",
      "\n",
      "Documentation can be found at http://docs.sympy.org/1.2/\n",
      "\n"
     ]
    }
   ],
   "source": [
    "from sympy import init_session\n",
    "from sympy.parsing.latex import parse_latex\n",
    "from sympy.parsing.sympy_parser import parse_expr\n",
    "from IPython.display import Markdown as md\n",
    "from IPython.display import display\n",
    "    \n",
    "from sympy.vector import CoordSys3D, vector\n",
    "import pandas as pd\n",
    "\n",
    "init_session()\n",
    "\n",
    "a, b, c, d = symbols('a b c d', real = True)\n",
    "from docparts import añadir_ejercicios, doc_ejer, escribir_preambulo, escribir_ejercicios, escribir_fin\n",
    "\n",
    "df_ejercicios = pd.DataFrame()\n",
    "\n",
    "fichero = 'probab'\n",
    "titulo = '43 - Probabilidad'\n",
    "curso = '1BC'\n",
    "\n",
    "\n",
    "x,y = symbols('x, y', real=True)\n"
   ]
  },
  {
   "cell_type": "code",
   "execution_count": 1,
   "metadata": {},
   "outputs": [],
   "source": [
    "\n",
    "from sympy import *\n",
    "\n",
    "#init_printing(use_unicode=True, use_latex=True)\n",
    "\n",
    "#init_printing()\n",
    "\n",
    "from sympy.stats import Binomial, density, Die, Coin, P, E, variance, Normal, FiniteRV\n"
   ]
  },
  {
   "cell_type": "code",
   "execution_count": 5,
   "metadata": {},
   "outputs": [
    {
     "data": {
      "image/png": "[encoded data removed]",
      "text/latex": [
       "$$\\left ( \\frac{27262976}{48828125}, \\quad 0.55834574848\\right )$$"
      ],
      "text/plain": [
       "⎛27262976               ⎞\n",
       "⎜────────, 0.55834574848⎟\n",
       "⎝48828125               ⎠"
      ]
     },
     "execution_count": 5,
     "metadata": {},
     "output_type": "execute_result"
    }
   ],
   "source": [
    "X=Binomial('X',12, .8)\n",
    "density(X).dict\n",
    "\n",
    "\n",
    "(nsimplify(P(Eq(X,10))), P(Eq(X,10)))\n",
    "\n",
    "nsimplify(P(X>=10)), P(X>=10)"
   ]
  },
  {
   "cell_type": "code",
   "execution_count": 12,
   "metadata": {},
   "outputs": [
    {
     "ename": "TypeError",
     "evalue": "'dict' object is not callable",
     "output_type": "error",
     "traceback": [
      "\u001b[0;31m---------------------------------------------------------------------------\u001b[0m",
      "\u001b[0;31mTypeError\u001b[0m                                 Traceback (most recent call last)",
      "\u001b[0;32m<ipython-input-12-b24405291bfa>\u001b[0m in \u001b[0;36m<module>\u001b[0;34m()\u001b[0m\n\u001b[1;32m      1\u001b[0m \u001b[0mdensity\u001b[0m \u001b[0;34m=\u001b[0m \u001b[0;34m{\u001b[0m\u001b[0;36m0\u001b[0m\u001b[0;34m:\u001b[0m \u001b[0;36m.1\u001b[0m\u001b[0;34m,\u001b[0m \u001b[0;36m1\u001b[0m\u001b[0;34m:\u001b[0m \u001b[0;36m.2\u001b[0m\u001b[0;34m,\u001b[0m \u001b[0;36m2\u001b[0m\u001b[0;34m:\u001b[0m \u001b[0;36m.3\u001b[0m\u001b[0;34m,\u001b[0m \u001b[0;36m3\u001b[0m\u001b[0;34m:\u001b[0m \u001b[0;36m.4\u001b[0m\u001b[0;34m}\u001b[0m\u001b[0;34m\u001b[0m\u001b[0m\n\u001b[1;32m      2\u001b[0m \u001b[0mX\u001b[0m \u001b[0;34m=\u001b[0m \u001b[0mFiniteRV\u001b[0m\u001b[0;34m(\u001b[0m\u001b[0;34m'X'\u001b[0m\u001b[0;34m,\u001b[0m \u001b[0;34m{\u001b[0m\u001b[0;36m0\u001b[0m\u001b[0;34m:\u001b[0m \u001b[0;36m0.1\u001b[0m\u001b[0;34m,\u001b[0m \u001b[0;36m1\u001b[0m\u001b[0;34m:\u001b[0m \u001b[0;36m0.2\u001b[0m\u001b[0;34m,\u001b[0m \u001b[0;36m2\u001b[0m\u001b[0;34m:\u001b[0m \u001b[0;36m0.3\u001b[0m\u001b[0;34m,\u001b[0m \u001b[0;36m3\u001b[0m\u001b[0;34m:\u001b[0m \u001b[0;36m0.4\u001b[0m\u001b[0;34m}\u001b[0m\u001b[0;34m)\u001b[0m\u001b[0;34m\u001b[0m\u001b[0m\n\u001b[0;32m----> 3\u001b[0;31m \u001b[0mdensity\u001b[0m\u001b[0;34m(\u001b[0m\u001b[0mX\u001b[0m\u001b[0;34m)\u001b[0m\u001b[0;34m\u001b[0m\u001b[0m\n\u001b[0m",
      "\u001b[0;31mTypeError\u001b[0m: 'dict' object is not callable"
     ]
    }
   ],
   "source": [
    "vdensity = {0: .1, 1: .2, 2: .3, 3: .4}\n",
    "X = FiniteRV('X', vde)\n",
    "density(X).dict"
   ]
  },
  {
   "cell_type": "code",
   "execution_count": 6,
   "metadata": {},
   "outputs": [
    {
     "data": {
      "text/plain": [
       "0.8059701492537313"
      ]
     },
     "execution_count": 6,
     "metadata": {},
     "output_type": "execute_result"
    }
   ],
   "source": [
    ".45*.6/(.3*.05+.25*.2+.45*.6)"
   ]
  },
  {
   "cell_type": "code",
   "execution_count": 8,
   "metadata": {},
   "outputs": [
    {
     "data": {
      "text/plain": [
       "2.0"
      ]
     },
     "execution_count": 8,
     "metadata": {},
     "output_type": "execute_result"
    }
   ],
   "source": []
  },
  {
   "cell_type": "code",
   "execution_count": 3,
   "metadata": {},
   "outputs": [
    {
     "ename": "TypeError",
     "evalue": "'dict' object is not callable",
     "output_type": "error",
     "traceback": [
      "\u001b[0;31m---------------------------------------------------------------------------\u001b[0m",
      "\u001b[0;31mTypeError\u001b[0m                                 Traceback (most recent call last)",
      "\u001b[0;32m<ipython-input-3-7c2b15947891>\u001b[0m in \u001b[0;36m<module>\u001b[0;34m()\u001b[0m\n\u001b[1;32m      1\u001b[0m \u001b[0mdensity\u001b[0m \u001b[0;34m=\u001b[0m \u001b[0;34m{\u001b[0m\u001b[0;34m'A'\u001b[0m\u001b[0;34m:\u001b[0m \u001b[0;36m.1\u001b[0m\u001b[0;34m,\u001b[0m \u001b[0;34m'NA'\u001b[0m\u001b[0;34m:\u001b[0m \u001b[0;36m.9\u001b[0m\u001b[0;34m}\u001b[0m\u001b[0;34m\u001b[0m\u001b[0m\n\u001b[1;32m      2\u001b[0m \u001b[0mX\u001b[0m \u001b[0;34m=\u001b[0m \u001b[0mFiniteRV\u001b[0m\u001b[0;34m(\u001b[0m\u001b[0;34m'X'\u001b[0m\u001b[0;34m,\u001b[0m \u001b[0mdensity\u001b[0m\u001b[0;34m)\u001b[0m\u001b[0;34m\u001b[0m\u001b[0m\n\u001b[0;32m----> 3\u001b[0;31m \u001b[0mdensity\u001b[0m\u001b[0;34m(\u001b[0m\u001b[0mX\u001b[0m\u001b[0;34m)\u001b[0m\u001b[0;34m.\u001b[0m\u001b[0mdict\u001b[0m\u001b[0;34m\u001b[0m\u001b[0m\n\u001b[0m",
      "\u001b[0;31mTypeError\u001b[0m: 'dict' object is not callable"
     ]
    }
   ],
   "source": [
    "density = {'A': .1, 'NA': .9}\n",
    "X = FiniteRV('X', density)\n",
    "density(X).dict\n"
   ]
  },
  {
   "cell_type": "code",
   "execution_count": 6,
   "metadata": {},
   "outputs": [
    {
     "data": {
      "text/markdown": [
       "**Hallar las ecuaciones paramétricas, continua, general y explícita de la recta r \n",
       "determinada por:**"
      ],
      "text/plain": [
       "<IPython.core.display.Markdown object>"
      ]
     },
     "metadata": {},
     "output_type": "display_data"
    },
    {
     "data": {
      "text/markdown": [
       "$A(-1, 3) \\ y \\overrightarrow{u}=(2, 5) \\rightarrow - 5 x + 2 y - 11 = 0 \\ y \\ Point2D(2*t - 1, 5*t + 3) = \\left ( x, \\quad y\\right )$"
      ],
      "text/plain": [
       "<IPython.core.display.Markdown object>"
      ]
     },
     "metadata": {},
     "output_type": "display_data"
    }
   ],
   "source": [
    "# Página 98 ejercicio 7\n",
    "\n",
    "texto_ejercicio = r\"\"\"Hallar las ecuaciones paramétricas, continua, general y explícita de la recta r \n",
    "determinada por:\"\"\"\n",
    "\n",
    "n_ejercicio = 'p050e01'\n",
    "\n",
    "display(md(\"**\"+texto_ejercicio+\"**\"))\n",
    "\n",
    "# vectores iniciales correspondientes al texto del enunciado\n",
    "\n",
    "pre_enunciado_latex = [[(-1,3),(2,5)],]\n",
    "\n",
    "enunciado_latex, enunciado, solucion = [],[],[]\n",
    "\n",
    "for i, s in enumerate(pre_enunciado_latex) : \n",
    "    enunciado_latex.append(r\"A{} \\ y \\overrightarrow\".format(s[0])+\"{u}=\"+r\"{}\".format(s[1]))\n",
    "    enunciado = str(s)\n",
    "    sol1, sol2 =Line(Point(s[0]),Point(s[0])+Point(s[1])).equation(), Line(Point(s[0]),Point(s[0])+Point(s[1])).arbitrary_point()\n",
    "    solucion.append(latex(Eq(sol1,0)) + \" \\ y \\ \" + latex(Eq(sol2,(x,y))))\n",
    "    display(md(\"$\"+ enunciado_latex[i] +\" \\\\rightarrow \" + latex(solucion[i]) +\"$\"))\n",
    "    \n",
    "\n",
    "df_ejercicios = df_ejercicios.append(añadir_ejercicios(enunciado_latex, enunciado, solucion, texto_ejercicio, curso, titulo , n_ejercicio, '1', '2', enun_tex=True), ignore_index=True)\n"
   ]
  },
  {
   "cell_type": "markdown",
   "metadata": {},
   "source": [
    "En la prensa aparece está noticia: \" En la ciudad, el 53% de sus habitantes es mayor de 30 años, el 45% está\n",
    "casado y el 60% está casado o es mayor de 30 años \". Calcula la probabilidad de los siguientes sucesos:\n",
    "i) Ser mayor de 30 años y estar casado\n",
    "ii) No estar casado"
   ]
  },
  {
   "cell_type": "code",
   "execution_count": null,
   "metadata": {},
   "outputs": [],
   "source": [
    "s = [53/100,60/100,]"
   ]
  },
  {
   "cell_type": "markdown",
   "metadata": {},
   "source": [
    "En una clase de bachillerato hay 10 chicas y 8 chicos. De ellos 3 chicas y 4 chicos juegan al\n",
    "ajedrez. Si escogemos un estudiante al azar, determine las siguientes probabilidades:\n",
    "a) Sea chica y no juegue al ajedrez.\n",
    "b) No juegue al ajedrez sabiendo que es chico."
   ]
  },
  {
   "cell_type": "code",
   "execution_count": 16,
   "metadata": {},
   "outputs": [
    {
     "data": {
      "image/png": "[encoded data removed]",
      "text/latex": [
       "$$\\left ( \\frac{7}{18}, \\quad \\frac{1}{2}\\right )$$"
      ],
      "text/plain": [
       "(7/18, 1/2)"
      ]
     },
     "execution_count": 16,
     "metadata": {},
     "output_type": "execute_result"
    }
   ],
   "source": [
    "s=[[10,3],[8,4]]\n",
    "\n",
    "n = s[0][0]+s[1][0]\n",
    "\n",
    "p1 = nsimplify((s[0][0]/n)*((s[0][0]-s[0][1])/s[0][0]))\n",
    "p2 = nsimplify((s[1][0]-s[1][1])/s[1][0])\n",
    "\n",
    "(p1,p2)\n",
    "\n"
   ]
  },
  {
   "cell_type": "markdown",
   "metadata": {},
   "source": [
    "En una urna hay 10 bolas blancas y 3 negras. Se extrae una bola al azar y, sin verla ni\n",
    "reemplazarla, se extrae una segunda bola.\n",
    "a) ¿Cuál es la probabilidad de que la segunda bola extraída sea negra?\n",
    "b) Sabiendo que la segunda bola ha sido negra, calcule la probabilidad de que la primera bola\n",
    "extraída fuera negra también.\n"
   ]
  },
  {
   "cell_type": "code",
   "execution_count": 7,
   "metadata": {},
   "outputs": [
    {
     "data": {
      "text/markdown": [
       "**Halla un vector direccional y un vector perpendicular a la recta:**"
      ],
      "text/plain": [
       "<IPython.core.display.Markdown object>"
      ]
     },
     "metadata": {},
     "output_type": "display_data"
    },
    {
     "data": {
      "text/markdown": [
       "$3x+2y+8=0 \\rightarrow \\left ( Point2D(1, -3/2), \\quad Point2D(3/2, 1)\\right )$"
      ],
      "text/plain": [
       "<IPython.core.display.Markdown object>"
      ]
     },
     "metadata": {},
     "output_type": "display_data"
    },
    {
     "data": {
      "text/markdown": [
       "$\\frac{x-1}{3}=\\frac{2-y}{1} \\rightarrow \\left ( Point2D(1, -1/3), \\quad Point2D(1/3, 1)\\right )$"
      ],
      "text/plain": [
       "<IPython.core.display.Markdown object>"
      ]
     },
     "metadata": {},
     "output_type": "display_data"
    },
    {
     "data": {
      "text/markdown": [
       "$y=5 \\rightarrow \\left ( Point2D(1, 0), \\quad Point2D(0, 1)\\right )$"
      ],
      "text/plain": [
       "<IPython.core.display.Markdown object>"
      ]
     },
     "metadata": {},
     "output_type": "display_data"
    }
   ],
   "source": [
    "# Página 50 ejercicio 2\n",
    "\n",
    "texto_ejercicio = r\"\"\"Halla un vector direccional y un vector perpendicular a la recta:\"\"\"\n",
    "\n",
    "n_ejercicio = 'p050e02'\n",
    "\n",
    "display(md(\"**\"+texto_ejercicio+\"**\"))\n",
    "\n",
    "# vectores iniciales correspondientes al texto del enunciado\n",
    "\n",
    "enunciado_latex = [\n",
    "                    r'3x+2y+8=0',\n",
    "                    r'\\frac{x-1}{3}=\\frac{2-y}{1}',\n",
    "                       r'y=5'\n",
    "                      ]\n",
    "\n",
    "enunciado, solucion = [],[]\n",
    "\n",
    "for i, s in enumerate(enunciado_latex) : \n",
    "    enunciado = str(parse_latex(s))\n",
    "    so=Linea(s).direction\n",
    "    solucion.append((so,so.orthogonal_direction))\n",
    "    display(md(\"$\"+ s +\" \\\\rightarrow \" + latex(solucion[i]) +\"$\"))\n",
    "\n",
    "df_ejercicios = df_ejercicios.append(añadir_ejercicios(enunciado_latex, enunciado, solucion, texto_ejercicio, curso, titulo , n_ejercicio, '1', '2', enun_tex=True), ignore_index=True)\n"
   ]
  },
  {
   "cell_type": "code",
   "execution_count": 8,
   "metadata": {},
   "outputs": [
    {
     "data": {
      "text/markdown": [
       "**Comprobar que es isósceles el triángulo de vértices:**"
      ],
      "text/plain": [
       "<IPython.core.display.Markdown object>"
      ]
     },
     "metadata": {},
     "output_type": "display_data"
    },
    {
     "data": {
      "text/markdown": [
       "$A=(2, 1), \\ B=(1, 2),\\  y \\ C=(3, 3) \\rightarrow \\mathrm{True}$"
      ],
      "text/plain": [
       "<IPython.core.display.Markdown object>"
      ]
     },
     "metadata": {},
     "output_type": "display_data"
    }
   ],
   "source": [
    "# Página 50 ejercicio 4\n",
    "\n",
    "texto_ejercicio = r\"\"\"Comprobar que es isósceles el triángulo de vértices:\"\"\"\n",
    "\n",
    "n_ejercicio = 'p050e04'\n",
    "\n",
    "display(md(\"**\"+texto_ejercicio+\"**\"))\n",
    "\n",
    "# vectores iniciales correspondientes al texto del enunciado\n",
    "\n",
    "pre_enunciado_latex = [\n",
    "                    [(2,1),(1,2),(3,3)],\n",
    "                      ]\n",
    "\n",
    "enunciado_latex, enunciado, solucion = [],[],[]\n",
    "\n",
    "for i, s in enumerate(pre_enunciado_latex) : \n",
    "    enunciado_latex.append(\"A=\"+str(s[0])+\", \\ B=\"+str(s[1])+\",\\  y \\ C=\"+str(s[2])+\"\")\n",
    "    enunciado = str(s)\n",
    "    pa, pb, pc = [Point(k) for k in s]\n",
    "    tr = Triangle(pa,pb,pc)\n",
    "    solucion.append(tr.is_isosceles())\n",
    "    display(md(\"$\"+ enunciado_latex[i] +\" \\\\rightarrow \" + latex(solucion[i]) +\"$\"))\n",
    "\n",
    "df_ejercicios = df_ejercicios.append(añadir_ejercicios(enunciado_latex, enunciado, solucion, texto_ejercicio, curso, titulo , n_ejercicio, '1', '2', enun_tex=True), ignore_index=True)\n"
   ]
  },
  {
   "cell_type": "code",
   "execution_count": 9,
   "metadata": {},
   "outputs": [
    {
     "data": {
      "text/markdown": [
       "**Determinar m con la condición de que disten 1 unidad los siguiente puntos**"
      ],
      "text/plain": [
       "<IPython.core.display.Markdown object>"
      ]
     },
     "metadata": {},
     "output_type": "display_data"
    },
    {
     "data": {
      "text/markdown": [
       "$A=(0, m)\\  y \\ B=(1, 2) \\rightarrow \\left [ 2\\right ]$"
      ],
      "text/plain": [
       "<IPython.core.display.Markdown object>"
      ]
     },
     "metadata": {},
     "output_type": "display_data"
    }
   ],
   "source": [
    "# Página 50 ejercicio 5\n",
    "\n",
    "texto_ejercicio = r\"\"\"Determinar m con la condición de que disten 1 unidad los siguiente puntos\"\"\"\n",
    "\n",
    "n_ejercicio = 'p050e05'\n",
    "\n",
    "display(md(\"**\"+texto_ejercicio+\"**\"))\n",
    "\n",
    "# vectores iniciales correspondientes al texto del enunciado\n",
    "\n",
    "pre_enunciado_latex = [\n",
    "                    [(0,m),(1,2)],\n",
    "                      ]\n",
    "\n",
    "enunciado_latex, enunciado, solucion = [],[],[]\n",
    "\n",
    "for i, s in enumerate(pre_enunciado_latex) : \n",
    "    enunciado_latex.append(\"A=\"+str(s[0])+\"\\  y \\ B=\"+str(s[1])+\"\")\n",
    "    enunciado = str(s)\n",
    "    pa, pb = [Point(k) for k in s]\n",
    "    solucion.append(solve(Eq(pa.distance(pb),1),m))\n",
    "    display(md(\"$\"+ enunciado_latex[i] +\" \\\\rightarrow \" + latex(solucion[i]) +\"$\"))\n",
    "\n",
    "df_ejercicios = df_ejercicios.append(añadir_ejercicios(enunciado_latex, enunciado, solucion, texto_ejercicio, curso, titulo , n_ejercicio, '1', '2', enun_tex=True), ignore_index=True)\n"
   ]
  },
  {
   "cell_type": "code",
   "execution_count": 10,
   "metadata": {},
   "outputs": [
    {
     "data": {
      "text/markdown": [
       "**Determinar el ángulo formado por las rectas:**"
      ],
      "text/plain": [
       "<IPython.core.display.Markdown object>"
      ]
     },
     "metadata": {},
     "output_type": "display_data"
    },
    {
     "data": {
      "text/markdown": [
       "$r\\equiv4x-y-1=0\\  y \\ s\\equiv2x+7y-6=0 \\rightarrow 91.90915243299638$"
      ],
      "text/plain": [
       "<IPython.core.display.Markdown object>"
      ]
     },
     "metadata": {},
     "output_type": "display_data"
    },
    {
     "data": {
      "text/markdown": [
       "$r\\equiv-x+2y+1=0\\  y \\ s\\equiv3x+y+5=0 \\rightarrow 98.13010235415598$"
      ],
      "text/plain": [
       "<IPython.core.display.Markdown object>"
      ]
     },
     "metadata": {},
     "output_type": "display_data"
    }
   ],
   "source": [
    "# Página 50 ejercicio 6\n",
    "\n",
    "texto_ejercicio = r\"\"\"Determinar el ángulo formado por las rectas:\"\"\"\n",
    "\n",
    "n_ejercicio = 'p050e06'\n",
    "\n",
    "display(md(\"**\"+texto_ejercicio+\"**\"))\n",
    "\n",
    "# vectores iniciales correspondientes al texto del enunciado\n",
    "\n",
    "pre_enunciado_latex = [\n",
    "                    [r'4x-y-1=0',r'2x+7y-6=0'],\n",
    "                    [r'-x+2y+1=0',r'3x+y+5=0'],\n",
    "                      ]\n",
    "\n",
    "enunciado_latex, enunciado, solucion = [],[],[]\n",
    "\n",
    "for i, s in enumerate(pre_enunciado_latex) : \n",
    "    enunciado_latex.append(\"r\\equiv\"+str(s[0])+\"\\  y \\ s\\equiv\"+str(s[1])+\"\")\n",
    "    enunciado = str(s)\n",
    "\n",
    "    solucion.append(float(deg(Linea(s[0]).angle_between(Linea(s[1])))))\n",
    "    display(md(\"$\"+ enunciado_latex[i] +\" \\\\rightarrow \" + latex(solucion[i]) +\"$\"))\n",
    "\n",
    "df_ejercicios = df_ejercicios.append(añadir_ejercicios(enunciado_latex, enunciado, solucion, texto_ejercicio, curso, titulo , n_ejercicio, '1', '2', enun_tex=True), ignore_index=True)\n"
   ]
  },
  {
   "cell_type": "code",
   "execution_count": 11,
   "metadata": {},
   "outputs": [
    {
     "data": {
      "text/markdown": [
       "**Hallar la recta r que:**"
      ],
      "text/plain": [
       "<IPython.core.display.Markdown object>"
      ]
     },
     "metadata": {},
     "output_type": "display_data"
    },
    {
     "data": {
      "text/markdown": [
       "$Pasa \\ por \\ A(1, -2)\\  y \\ forma \\ 120 \\ grados \\  con \\ s\\equiv y=0 \\rightarrow \\frac{\\sqrt{3} x}{2} + \\frac{y}{2} - \\frac{\\sqrt{3}}{2} + 1 = 0$"
      ],
      "text/plain": [
       "<IPython.core.display.Markdown object>"
      ]
     },
     "metadata": {},
     "output_type": "display_data"
    },
    {
     "data": {
      "text/markdown": [
       "$Pasa \\ por \\ A(2, 3)\\  y \\ forma \\ 45 \\ grados \\  con \\ s\\equiv 2x+y-1=0 \\rightarrow \\frac{\\sqrt{2} \\left(- x - 3 y + 11\\right)}{2} = 0$"
      ],
      "text/plain": [
       "<IPython.core.display.Markdown object>"
      ]
     },
     "metadata": {},
     "output_type": "display_data"
    },
    {
     "data": {
      "text/markdown": [
       "$Pasa \\ por \\ A(1, 2)\\  y \\ forma \\ 45 \\ grados \\  con \\ s\\equiv 2x+y-1=0 \\rightarrow \\frac{\\sqrt{2} \\left(- x - 3 y + 7\\right)}{2} = 0$"
      ],
      "text/plain": [
       "<IPython.core.display.Markdown object>"
      ]
     },
     "metadata": {},
     "output_type": "display_data"
    }
   ],
   "source": [
    "# Página 50 ejercicio 7 y 8 y 28\n",
    "\n",
    "texto_ejercicio = r\"\"\"Hallar la recta r que:\"\"\"\n",
    "\n",
    "n_ejercicio = 'p050e07,8y28'\n",
    "\n",
    "display(md(\"**\"+texto_ejercicio+\"**\"))\n",
    " \n",
    "# vectores iniciales correspondientes al texto del enunciado\n",
    "\n",
    "pre_enunciado_latex = [\n",
    "                    [(1,-2),r'y=0', 120],\n",
    "                    [(2,3),r'2x+y-1=0', 45],\n",
    "                    [(1,2),r'2x+y-1=0',45]\n",
    "                    \n",
    "                      ]\n",
    "\n",
    "enunciado_latex, enunciado, solucion = [],[],[]\n",
    "\n",
    "for i, s in enumerate(pre_enunciado_latex) : \n",
    "    enunciado_latex.append(\"Pasa \\ por \\ A\"+str(s[0])+\"\\  y \\ forma \\ \" +str(s[2])+ \" \\ grados \\  con \\ s\\equiv \"+str(s[1]))\n",
    "    enunciado = str(s)\n",
    "    Point(s[0])\n",
    "    A, B =Linea(s[1]).coefficients[:2]\n",
    "    solucion.append(latex(Eq(simplify(Line(Point(s[0]),Point(s[0])+Point(-B,A).rotate(rad(s[2]))).equation()),0)))\n",
    "    display(md(\"$\"+ enunciado_latex[i] +\" \\\\rightarrow \" + solucion[i] +\"$\"))\n",
    "\n",
    "# df_ejercicios = df_ejercicios.append(añadir_ejercicios(enunciado_latex, enunciado, solucion, texto_ejercicio, curso, titulo , n_ejercicio, '1', '2', enun_tex=True), ignore_index=True)\n"
   ]
  },
  {
   "cell_type": "code",
   "execution_count": 12,
   "metadata": {},
   "outputs": [
    {
     "data": {
      "text/markdown": [
       "**Hallar la recta r que:**"
      ],
      "text/plain": [
       "<IPython.core.display.Markdown object>"
      ]
     },
     "metadata": {},
     "output_type": "display_data"
    },
    {
     "data": {
      "text/markdown": [
       "$Pasa \\ por \\ A(2, 3)\\  y \\ forma \\ 45 \\ grados \\  con \\ s\\equiv 2x+y-1=0 \\rightarrow \\frac{x}{3} + y - \\frac{11}{3} = 0$"
      ],
      "text/plain": [
       "<IPython.core.display.Markdown object>"
      ]
     },
     "metadata": {},
     "output_type": "display_data"
    },
    {
     "data": {
      "text/markdown": [
       "$Pasa \\ por \\ A(1, 2)\\  y \\ forma \\ 45 \\ grados \\  con \\ s\\equiv 2x+y-1=0 \\rightarrow \\frac{x}{3} + y - \\frac{7}{3} = 0$"
      ],
      "text/plain": [
       "<IPython.core.display.Markdown object>"
      ]
     },
     "metadata": {},
     "output_type": "display_data"
    },
    {
     "data": {
      "text/markdown": [
       "$Pasa \\ por \\ A(1, -2)\\  y \\ forma \\ 120 \\ grados \\  con \\ s\\equiv y=0 \\rightarrow \\sqrt{3} x + y - \\sqrt{3} + 2 = 0$"
      ],
      "text/plain": [
       "<IPython.core.display.Markdown object>"
      ]
     },
     "metadata": {},
     "output_type": "display_data"
    }
   ],
   "source": [
    "# Página 50 ejercicio 7 y 8 y 28\n",
    "\n",
    "texto_ejercicio = r\"\"\"Hallar la recta r que:\"\"\"\n",
    "\n",
    "n_ejercicio = 'p050e07,8y28'\n",
    "\n",
    "display(md(\"**\"+texto_ejercicio+\"**\"))\n",
    " \n",
    "# vectores iniciales correspondientes al texto del enunciado\n",
    "\n",
    "pre_enunciado_latex = [\n",
    "                    [(2,3),r'2x+y-1=0', 45],\n",
    "                    [(1,2),r'2x+y-1=0',45],\n",
    "                    [(1,-2),r'y=0', 120],\n",
    "                    \n",
    "                      ]\n",
    "\n",
    "enunciado_latex, enunciado, solucion = [],[],[]\n",
    "\n",
    "for i, s in enumerate(pre_enunciado_latex) : \n",
    "    enunciado_latex.append(\"Pasa \\ por \\ A\"+str(s[0])+\"\\  y \\ forma \\ \" +str(s[2])+ \" \\ grados \\  con \\ s\\equiv \"+str(s[1]))\n",
    "    enunciado = str(s)\n",
    "    r, p, an = Linea(s[1]), Point(s[0]), rad(s[2])\n",
    "    u = r.direction\n",
    "    v = Point(1,x)\n",
    "    #display(r,p,an)\n",
    "    #u.dot(v), u.distance((0,0)), r.equation()\n",
    "    m = solve(abs(cos(an))-abs(u.dot(v))/(u.distance((0,0))*v.distance((0,0))))[0]\n",
    "\n",
    "    eq = Eq(Line(s[0],slope=m).equation(),0)\n",
    "    solucion.append(latex(eq))\n",
    "    display(md(\"$\"+ enunciado_latex[i] +\" \\\\rightarrow \" + solucion[i] +\"$\"))\n",
    "    \n",
    "    p1 = plot_implicit(Linea(s[1]).equation(),show=False)\n",
    "    p2 = plot_implicit(Line(s[0],slope=m).equation(),show=False)\n",
    "    p1.extend(p2)\n",
    "    p1.show()\n",
    "\n",
    "df_ejercicios = df_ejercicios.append(añadir_ejercicios(enunciado_latex, enunciado, solucion, texto_ejercicio, curso, titulo , n_ejercicio, '1', '2', enun_tex=True), ignore_index=True)\n"
   ]
  },
  {
   "cell_type": "code",
   "execution_count": 13,
   "metadata": {},
   "outputs": [
    {
     "data": {
      "text/markdown": [
       "**Calcula el vértice C de un triángulo isósceles ABC, sabiendo que:**"
      ],
      "text/plain": [
       "<IPython.core.display.Markdown object>"
      ]
     },
     "metadata": {},
     "output_type": "display_data"
    },
    {
     "data": {
      "text/markdown": [
       "$ A(4, 0)\\  , \\ B=(6, 2) \\ y \\  C \\in r\\equiv 3x+y-1=0 \\rightarrow \\left [ \\left \\{ x : - \\frac{5}{2}, \\quad y : \\frac{17}{2}\\right \\}\\right ]$"
      ],
      "text/plain": [
       "<IPython.core.display.Markdown object>"
      ]
     },
     "metadata": {},
     "output_type": "display_data"
    }
   ],
   "source": [
    "# Página 51 ejercicio 20\n",
    "\n",
    "texto_ejercicio = r\"\"\"Calcula el vértice C de un triángulo isósceles ABC, sabiendo que:\"\"\"\n",
    "\n",
    "n_ejercicio = 'p051e20'\n",
    "\n",
    "display(md(\"**\"+texto_ejercicio+\"**\"))\n",
    " \n",
    "# vectores iniciales correspondientes al texto del enunciado\n",
    "\n",
    "pre_enunciado_latex = [\n",
    "                    [(4,0),(6,2),r'3x+y-1=0'],                                   \n",
    "                      ]\n",
    "\n",
    "enunciado_latex, enunciado, solucion = [],[],[]\n",
    "\n",
    "for i, s in enumerate(pre_enunciado_latex) : \n",
    "    enunciado_latex.append(\" A\"+str(s[0])+\"\\  , \\ B=\" +str(s[1])+ \" \\ y \\  C \\in r\\equiv \"+str(s[2]))\n",
    "    enunciado = str(s)\n",
    "    r = Linea(s[2])\n",
    "\n",
    "    P = Point(x,y)\n",
    "\n",
    "    r.distance(Point(s[0]))\n",
    "\n",
    "    sol = solve([P.distance(s[0])-P.distance(s[1]),r.equation()])\n",
    "    solucion.append(latex(sol))\n",
    "    display(md(\"$\"+ enunciado_latex[i] +\" \\\\rightarrow \" + solucion[i] +\"$\"))\n",
    "    \n",
    "    #p1 = plot_implicit(Linea(s[1]).equation(),show=False)\n",
    "    #p2 = plot_implicit(Line(s[0],slope=m).equation(),show=False)\n",
    "    #p1.extend(p2)\n",
    "    #p1.show()\n",
    "\n",
    "df_ejercicios = df_ejercicios.append(añadir_ejercicios(enunciado_latex, enunciado, solucion, texto_ejercicio, curso, titulo , n_ejercicio, '1', '1', enun_tex=True), ignore_index=True)\n"
   ]
  },
  {
   "cell_type": "code",
   "execution_count": 14,
   "metadata": {},
   "outputs": [
    {
     "data": {
      "text/markdown": [
       "**Determinar el punto simétrico al punto y respecto de la recta siguientes:**"
      ],
      "text/plain": [
       "<IPython.core.display.Markdown object>"
      ]
     },
     "metadata": {},
     "output_type": "display_data"
    },
    {
     "data": {
      "text/markdown": [
       "$ A(2, 5) \\ y \\   r\\equiv 5x+y=2 \\rightarrow \\left [ - x + 5 y - 23, \\quad Point2D(-1/2, 9/2), \\quad Point2D(-3, 4)\\right ]$"
      ],
      "text/plain": [
       "<IPython.core.display.Markdown object>"
      ]
     },
     "metadata": {},
     "output_type": "display_data"
    }
   ],
   "source": [
    "# Página 51 ejercicio 21\n",
    "\n",
    "texto_ejercicio = r\"\"\"Determinar el punto simétrico al punto y respecto de la recta siguientes:\"\"\"\n",
    "\n",
    "n_ejercicio = 'p051e21'\n",
    "\n",
    "display(md(\"**\"+texto_ejercicio+\"**\"))\n",
    " \n",
    "# vectores iniciales correspondientes al texto del enunciado\n",
    "\n",
    "pre_enunciado_latex = [\n",
    "                  [(2,5),r'5x+y=2'],                                   \n",
    "                      ]\n",
    "\n",
    "enunciado_latex, enunciado, solucion = [],[],[]\n",
    "\n",
    "for i, s in enumerate(pre_enunciado_latex) : \n",
    "    enunciado_latex.append(\" A\"+str(s[0])+\" \\ y \\   r\\equiv \"+str(s[1]))\n",
    "    enunciado = str(s)\n",
    "    sol=[]\n",
    "    p = Point(s[0])\n",
    "    r1 = Linea(s[1])\n",
    "    sol.append(r1.perpendicular_line(p).equation())\n",
    "    dict = solve([r1.equation(),r1.perpendicular_line(p).equation()])\n",
    "    M = Point(list(dict.values()))\n",
    "    sol.append(M)\n",
    "    \n",
    "    sol.append(p.rotate(pi, M))\n",
    "    solucion.append(latex(sol))\n",
    "    display(md(\"$\"+ enunciado_latex[i] +\" \\\\rightarrow \" + solucion[i] +\"$\"))\n",
    "    \n",
    "    #p1 = plot_implicit(Linea(s[1]).equation(),show=False)\n",
    "    #p2 = plot_implicit(Line(s[0],slope=m).equation(),show=False)\n",
    "    #p1.extend(p2)\n",
    "    #p1.show()\n",
    "\n",
    "df_ejercicios = df_ejercicios.append(añadir_ejercicios(enunciado_latex, enunciado, solucion, texto_ejercicio, curso, titulo , n_ejercicio, '1', '1', enun_tex=True), ignore_index=True)\n"
   ]
  },
  {
   "cell_type": "code",
   "execution_count": 15,
   "metadata": {},
   "outputs": [
    {
     "data": {
      "text/markdown": [
       "**Hallar la ecuación de la recta paralela y que dista una unidad a la recta:**"
      ],
      "text/plain": [
       "<IPython.core.display.Markdown object>"
      ]
     },
     "metadata": {},
     "output_type": "display_data"
    },
    {
     "data": {
      "text/markdown": [
       "$r\\equiv 4x-3y=0 \\rightarrow \\frac{\\left|{4 x - 3 y}\\right|}{5} - 1 = 0$"
      ],
      "text/plain": [
       "<IPython.core.display.Markdown object>"
      ]
     },
     "metadata": {},
     "output_type": "display_data"
    }
   ],
   "source": [
    "# Página 51 ejercicio 23\n",
    "\n",
    "texto_ejercicio = r\"\"\"Hallar la ecuación de la recta paralela y que dista una unidad a la recta:\"\"\"\n",
    "\n",
    "n_ejercicio = 'p051e23'\n",
    "\n",
    "display(md(\"**\"+texto_ejercicio+\"**\"))\n",
    " \n",
    "# vectores iniciales correspondientes al texto del enunciado\n",
    "\n",
    "pre_enunciado_latex = [\n",
    "                  r'4x-3y=0',                                   \n",
    "                      ]\n",
    "\n",
    "enunciado_latex, enunciado, solucion = [],[],[]\n",
    "\n",
    "for i, s in enumerate(pre_enunciado_latex) : \n",
    "    enunciado_latex.append(\"r\\equiv \"+str(s))\n",
    "    enunciado = str(s)\n",
    "    P = Point(x,y)\n",
    "    r1 = Linea(s)\n",
    "    #r1.slope, Eq(radsimp(cancel(r1.distance(P)-1)),0)\n",
    "\n",
    "    \n",
    "    \n",
    "    sol=Eq(factor(expand(r1.distance(P)))-1,0)\n",
    "    solucion.append(latex(sol))\n",
    "    display(md(\"$\"+ enunciado_latex[i] +\" \\\\rightarrow \" + solucion[i] +\"$\"))\n",
    "    \n",
    "    #p1 = plot_implicit(Linea(s[1]).equation(),show=False)\n",
    "    #p2 = plot_implicit(Line(s[0],slope=m).equation(),show=False)\n",
    "    #p1.extend(p2)\n",
    "    #p1.show()\n",
    "\n",
    "df_ejercicios = df_ejercicios.append(añadir_ejercicios(enunciado_latex, enunciado, solucion, texto_ejercicio, curso, titulo , n_ejercicio, '1', '1', enun_tex=True), ignore_index=True)\n"
   ]
  },
  {
   "cell_type": "code",
   "execution_count": 16,
   "metadata": {},
   "outputs": [
    {
     "data": {
      "text/markdown": [
       "**Halla el valor del ángulo que forma con el eje de abscisas la mediatriz del segmento determinado por los puntos:**"
      ],
      "text/plain": [
       "<IPython.core.display.Markdown object>"
      ]
     },
     "metadata": {},
     "output_type": "display_data"
    },
    {
     "data": {
      "text/markdown": [
       "$A=(1, -3)\\ y \\ B=(4, 5) \\rightarrow 159.44395478041653$"
      ],
      "text/plain": [
       "<IPython.core.display.Markdown object>"
      ]
     },
     "metadata": {},
     "output_type": "display_data"
    }
   ],
   "source": [
    "# Página 51 ejercicio 29\n",
    "\n",
    "texto_ejercicio = r\"\"\"Halla el valor del ángulo que forma con el eje de abscisas la mediatriz del segmento determinado por los puntos:\"\"\"\n",
    "\n",
    "n_ejercicio = 'p051e29'\n",
    "\n",
    "display(md(\"**\"+texto_ejercicio+\"**\"))\n",
    " \n",
    "# vectores iniciales correspondientes al texto del enunciado\n",
    "\n",
    "pre_enunciado_latex = [\n",
    "                  [(1, - 3), (4, 5)],                                   \n",
    "                      ]\n",
    "\n",
    "enunciado_latex, enunciado, solucion = [],[],[]\n",
    "\n",
    "for i, s in enumerate(pre_enunciado_latex) : \n",
    "    enunciado_latex.append(\"A=\"+str(s[0])+\"\\ y \\ B=\"+str(s[1])+\"\")\n",
    "    enunciado = str(s)\n",
    "    A, B = Point(s[0]), Point(s[1])\n",
    "    sol = float(deg(Line(A,B).perpendicular_line(A.midpoint(B)).angle_between(Line(Point(0,0),slope=0))))\n",
    "    solucion.append(latex(sol))\n",
    "    display(md(\"$\"+ enunciado_latex[i] +\" \\\\rightarrow \" + solucion[i] +\"$\"))\n",
    "    \n",
    "    #p1 = plot_implicit(Linea(s[1]).equation(),show=False)\n",
    "    #p2 = plot_implicit(Line(s[0],slope=m).equation(),show=False)\n",
    "    #p1.extend(p2)\n",
    "    #p1.show()\n",
    "\n",
    "df_ejercicios = df_ejercicios.append(añadir_ejercicios(enunciado_latex, enunciado, solucion, texto_ejercicio, curso, titulo , n_ejercicio, '1', '1', enun_tex=True), ignore_index=True)\n"
   ]
  },
  {
   "cell_type": "code",
   "execution_count": 17,
   "metadata": {},
   "outputs": [
    {
     "data": {
      "text/markdown": [
       "**Calcula el área del triángulo de vértices:**"
      ],
      "text/plain": [
       "<IPython.core.display.Markdown object>"
      ]
     },
     "metadata": {},
     "output_type": "display_data"
    },
    {
     "data": {
      "text/markdown": [
       "$A=(-1, 1), \\ B=(1, 4),\\  y \\ C=(2, -3) \\rightarrow \\frac{17}{2}$"
      ],
      "text/plain": [
       "<IPython.core.display.Markdown object>"
      ]
     },
     "metadata": {},
     "output_type": "display_data"
    },
    {
     "data": {
      "text/markdown": [
       "$A=(0, -1), \\ B=(2, 0),\\  y \\ C=(1, 1) \\rightarrow \\frac{3}{2}$"
      ],
      "text/plain": [
       "<IPython.core.display.Markdown object>"
      ]
     },
     "metadata": {},
     "output_type": "display_data"
    }
   ],
   "source": [
    "# Página 51 ejercicio 33 y 58\n",
    "\n",
    "texto_ejercicio = r\"\"\"Calcula el área del triángulo de vértices:\"\"\"\n",
    "\n",
    "n_ejercicio = 'p051e33y58'\n",
    "\n",
    "display(md(\"**\"+texto_ejercicio+\"**\"))\n",
    " \n",
    "# vectores iniciales correspondientes al texto del enunciado\n",
    "\n",
    "pre_enunciado_latex = [\n",
    "                  [(-1, 1), (1, 4), (2,-3)], \n",
    "                    [(0,-1), (2,0),(1,1)]\n",
    "                      ]\n",
    "\n",
    "enunciado_latex, enunciado, solucion = [],[],[]\n",
    "\n",
    "for i, s in enumerate(pre_enunciado_latex) : \n",
    "    enunciado_latex.append(\"A=\"+str(s[0])+\", \\ B=\"+str(s[1])+\",\\  y \\ C=\"+str(s[2])+\"\")\n",
    "    enunciado = str(s)\n",
    "    A, B, C = [Point(k) for k in s]\n",
    "    T=Triangle(A,B,C)\n",
    "    sol=[A.distance(B),T.altitudes[C],T.altitudes[C].length, abs(T.area)]\n",
    "    solucion.append(latex(sol[3]))\n",
    "    display(md(\"$\"+ enunciado_latex[i] +\" \\\\rightarrow \" + solucion[i] +\"$\"))\n",
    "    \n",
    "\n",
    "df_ejercicios = df_ejercicios.append(añadir_ejercicios(enunciado_latex, enunciado, solucion, texto_ejercicio, curso, titulo , n_ejercicio, '1', '1', enun_tex=True), ignore_index=True)\n"
   ]
  },
  {
   "cell_type": "code",
   "execution_count": 18,
   "metadata": {},
   "outputs": [
    {
     "data": {
      "text/markdown": [
       "**Hallar las ecuaciones de las alturas y las coordenadas del ortocentro del triángulo de vértices:**"
      ],
      "text/plain": [
       "<IPython.core.display.Markdown object>"
      ]
     },
     "metadata": {},
     "output_type": "display_data"
    },
    {
     "data": {
      "text/markdown": [
       "$A=(1, 0), \\ B=(-2, 5),\\  y \\ C=(-1, -3) \\rightarrow \\left ( \\left [ \\frac{19 x}{65} - \\frac{152 y}{65} - \\frac{19}{65} = 0, \\quad \\frac{38 x}{13} + \\frac{57 y}{13} - \\frac{209}{13} = 0, \\quad - \\frac{57 x}{34} + \\frac{95 y}{34} + \\frac{114}{17} = 0\\right ], \\quad Point2D(91/19, 9/19)\\right )$"
      ],
      "text/plain": [
       "<IPython.core.display.Markdown object>"
      ]
     },
     "metadata": {},
     "output_type": "display_data"
    }
   ],
   "source": [
    "# Página 51 ejercicio 35\n",
    "\n",
    "texto_ejercicio = r\"\"\"Hallar las ecuaciones de las alturas y las coordenadas del ortocentro del triángulo de vértices:\"\"\"\n",
    "\n",
    "n_ejercicio = 'p051e35'\n",
    "\n",
    "display(md(\"**\"+texto_ejercicio+\"**\"))\n",
    " \n",
    "# vectores iniciales correspondientes al texto del enunciado\n",
    "\n",
    "pre_enunciado_latex = [\n",
    "                  [(1, 0), (-2, 5), (-1,-3)],                                   \n",
    "                      ]\n",
    "\n",
    "enunciado_latex, enunciado, solucion = [],[],[]\n",
    "\n",
    "for i, s in enumerate(pre_enunciado_latex) : \n",
    "    enunciado_latex.append(\"A=\"+str(s[0])+\", \\ B=\"+str(s[1])+\",\\  y \\ C=\"+str(s[2])+\"\")\n",
    "    enunciado = str(s)\n",
    "    A, B, C = [Point(k) for k in s]\n",
    "    T=Triangle(A,B,C)\n",
    "    sol=([simplify(Eq(Line(k).equation(),0)) for k in list(T.altitudes.values())], T.orthocenter)    \n",
    "    solucion.append(latex(sol))\n",
    "    display(md(\"$\"+ enunciado_latex[i] +\" \\\\rightarrow \" + solucion[i] +\"$\"))\n",
    "    \n",
    "\n",
    "df_ejercicios = df_ejercicios.append(añadir_ejercicios(enunciado_latex, enunciado, solucion, texto_ejercicio, curso, titulo , n_ejercicio, '1', '1', enun_tex=True), ignore_index=True)\n"
   ]
  },
  {
   "cell_type": "code",
   "execution_count": 19,
   "metadata": {},
   "outputs": [
    {
     "data": {
      "text/markdown": [
       "**Hallar la ecuación de la recta paralela a la bisectriz del segundo cuadrante y que pasar por el punto:**"
      ],
      "text/plain": [
       "<IPython.core.display.Markdown object>"
      ]
     },
     "metadata": {},
     "output_type": "display_data"
    },
    {
     "data": {
      "text/markdown": [
       "$A=(3, 5) \\rightarrow x + y - 8 = 0$"
      ],
      "text/plain": [
       "<IPython.core.display.Markdown object>"
      ]
     },
     "metadata": {},
     "output_type": "display_data"
    }
   ],
   "source": [
    "# Página 51 ejercicio 38\n",
    "\n",
    "texto_ejercicio = r\"\"\"Hallar la ecuación de la recta paralela a la bisectriz del segundo cuadrante y que pasar por el punto:\"\"\"\n",
    "\n",
    "n_ejercicio = 'p051e38'\n",
    "\n",
    "display(md(\"**\"+texto_ejercicio+\"**\"))\n",
    " \n",
    "# vectores iniciales correspondientes al texto del enunciado\n",
    "\n",
    "pre_enunciado_latex = [\n",
    "                  (3,5),                                   \n",
    "                      ]\n",
    "\n",
    "enunciado_latex, enunciado, solucion = [],[],[]\n",
    "\n",
    "for i, s in enumerate(pre_enunciado_latex) : \n",
    "    enunciado_latex.append(\"A=\"+str(s))\n",
    "    enunciado = str(s)\n",
    "    r = Linea(r'y=-x')\n",
    "    A = Point(s)\n",
    "    sol = Eq(Line(A,slope=r.slope).equation(),0)    \n",
    "    solucion.append(latex(sol))\n",
    "    display(md(\"$\"+ enunciado_latex[i] +\" \\\\rightarrow \" + solucion[i] +\"$\"))\n",
    "    \n",
    "\n",
    "df_ejercicios = df_ejercicios.append(añadir_ejercicios(enunciado_latex, enunciado, solucion, texto_ejercicio, curso, titulo , n_ejercicio, '1', '1', enun_tex=True), ignore_index=True)\n"
   ]
  },
  {
   "cell_type": "code",
   "execution_count": 20,
   "metadata": {},
   "outputs": [
    {
     "data": {
      "text/markdown": [
       "**Hallar el punto de la bisectriz de los cuadrantes 2 y 4, que equidista de los puntos:**"
      ],
      "text/plain": [
       "<IPython.core.display.Markdown object>"
      ]
     },
     "metadata": {},
     "output_type": "display_data"
    },
    {
     "data": {
      "text/markdown": [
       "$A=(4, -2)\\ y \\ B=(10, 0) \\rightarrow \\left [ \\left \\{ x : 10, \\quad y : -10\\right \\}\\right ]$"
      ],
      "text/plain": [
       "<IPython.core.display.Markdown object>"
      ]
     },
     "metadata": {},
     "output_type": "display_data"
    }
   ],
   "source": [
    "# Página 51 ejercicio 45\n",
    "\n",
    "texto_ejercicio = r\"\"\"Hallar el punto de la bisectriz de los cuadrantes 2 y 4, que equidista de los puntos:\"\"\"\n",
    "\n",
    "n_ejercicio = 'p051e45'\n",
    "\n",
    "display(md(\"**\"+texto_ejercicio+\"**\"))\n",
    " \n",
    "# vectores iniciales correspondientes al texto del enunciado\n",
    "\n",
    "pre_enunciado_latex = [\n",
    "                  [(4, -2),(10, 0)],                                   \n",
    "                      ]\n",
    "\n",
    "enunciado_latex, enunciado, solucion = [],[],[]\n",
    "\n",
    "for i, s in enumerate(pre_enunciado_latex) : \n",
    "    enunciado_latex.append(\"A=\"+str(s[0])+\"\\ y \\ B=\"+str(s[1])+\"\")\n",
    "    enunciado = str(s)\n",
    "    P = Point(x,y)\n",
    "    r = Linea(r'y=-x')\n",
    "    A, B = [Point(k) for k in s]\n",
    "    sol = solve([P.distance(A)-P.distance(B), r.equation()])    \n",
    "    solucion.append(latex(sol))\n",
    "    display(md(\"$\"+ enunciado_latex[i] +\" \\\\rightarrow \" + solucion[i] +\"$\"))\n",
    "    \n",
    "\n",
    "df_ejercicios = df_ejercicios.append(añadir_ejercicios(enunciado_latex, enunciado, solucion, texto_ejercicio, curso, titulo , n_ejercicio, '1', '1', enun_tex=True), ignore_index=True)\n"
   ]
  },
  {
   "cell_type": "code",
   "execution_count": 21,
   "metadata": {},
   "outputs": [
    {
     "data": {
      "text/markdown": [
       "**Hallar la longitud de la altura del triángulo ABC que pasa por C, y su área, si:**"
      ],
      "text/plain": [
       "<IPython.core.display.Markdown object>"
      ]
     },
     "metadata": {},
     "output_type": "display_data"
    },
    {
     "data": {
      "text/markdown": [
       "$A=(2, -1), \\ B=(-5, 1),\\  y \\ C=(0, 3) \\rightarrow \\left [ \\frac{24 \\sqrt{53}}{53}, \\quad 12\\right ]$"
      ],
      "text/plain": [
       "<IPython.core.display.Markdown object>"
      ]
     },
     "metadata": {},
     "output_type": "display_data"
    }
   ],
   "source": [
    "# Página 52 ejercicio 46\n",
    "\n",
    "texto_ejercicio = r\"\"\"Hallar la longitud de la altura del triángulo ABC que pasa por C, y su área, si:\"\"\"\n",
    "\n",
    "n_ejercicio = 'p052e46'\n",
    "\n",
    "display(md(\"**\"+texto_ejercicio+\"**\"))\n",
    " \n",
    "# vectores iniciales correspondientes al texto del enunciado\n",
    "\n",
    "pre_enunciado_latex = [\n",
    "                  [(2, - 1),(- 5, 1), (0, 3)],                                   \n",
    "                      ]\n",
    "\n",
    "enunciado_latex, enunciado, solucion = [],[],[]\n",
    "\n",
    "for i, s in enumerate(pre_enunciado_latex) : \n",
    "    enunciado_latex.append(\"A=\"+str(s[0])+\", \\ B=\"+str(s[1])+\",\\  y \\ C=\"+str(s[2])+\"\")\n",
    "    enunciado = str(s)\n",
    "    A, B, C = [Point(k) for k in s]\n",
    "    T = Triangle(A,B,C)\n",
    "    sol = [Line(A,B).distance(C), abs(T.area) ]\n",
    "    solucion.append(latex(sol))\n",
    "    display(md(\"$\"+ enunciado_latex[i] +\" \\\\rightarrow \" + solucion[i] +\"$\"))\n",
    "    \n",
    "\n",
    "df_ejercicios = df_ejercicios.append(añadir_ejercicios(enunciado_latex, enunciado, solucion, texto_ejercicio, curso, titulo , n_ejercicio, '1', '1', enun_tex=True), ignore_index=True)\n"
   ]
  },
  {
   "cell_type": "code",
   "execution_count": 22,
   "metadata": {},
   "outputs": [
    {
     "data": {
      "text/markdown": [
       "**Hallar las ecuaciones de las rectas de pendiente finita que:**"
      ],
      "text/plain": [
       "<IPython.core.display.Markdown object>"
      ]
     },
     "metadata": {},
     "output_type": "display_data"
    },
    {
     "data": {
      "text/markdown": [
       "$Pasen \\ por \\ A=(1, -2), \\ y \\  disten \\ 2 \\ de \\ B=(3, 1) \\rightarrow \\left [ - \\frac{5 x}{12} + y + \\frac{29}{12} = 0\\right ]$"
      ],
      "text/plain": [
       "<IPython.core.display.Markdown object>"
      ]
     },
     "metadata": {},
     "output_type": "display_data"
    }
   ],
   "source": [
    "# Página 52 ejercicio 47\n",
    "\n",
    "texto_ejercicio = r\"\"\"Hallar las ecuaciones de las rectas de pendiente finita que:\"\"\"\n",
    "\n",
    "n_ejercicio = 'p052e47'\n",
    "\n",
    "display(md(\"**\"+texto_ejercicio+\"**\"))\n",
    " \n",
    "# vectores iniciales correspondientes al texto del enunciado\n",
    "\n",
    "pre_enunciado_latex = [\n",
    "                  [(1, -2),(3, 1)],                                   \n",
    "                      ]\n",
    "\n",
    "enunciado_latex, enunciado, solucion = [],[],[]\n",
    "\n",
    "for i, s in enumerate(pre_enunciado_latex) : \n",
    "    enunciado_latex.append(\"Pasen \\ por \\ A=\"+str(s[0])+\", \\ y \\  disten \\ 2 \\ de \\ B=\"+str(s[1])+\"\")\n",
    "    enunciado = str(s)\n",
    "    A, B = [Point(k) for k in s]\n",
    "    pendiente = solve(Line(A, slope=x).distance(B)-2)\n",
    "    sol=[Eq(Line(A,slope=mi).equation(),0) for mi in pendiente]   \n",
    "    solucion.append(latex(sol))\n",
    "    display(md(\"$\"+ enunciado_latex[i] +\" \\\\rightarrow \" + solucion[i] +\"$\"))\n",
    "    \n",
    "\n",
    "df_ejercicios = df_ejercicios.append(añadir_ejercicios(enunciado_latex, enunciado, solucion, texto_ejercicio, curso, titulo , n_ejercicio, '1', '1', enun_tex=True), ignore_index=True)\n"
   ]
  },
  {
   "cell_type": "code",
   "execution_count": 23,
   "metadata": {},
   "outputs": [
    {
     "data": {
      "text/markdown": [
       "**Dado el triángulo, hallar la mediana correspondiente al vértice A, la altura correspondiente al vértice B y la mediatriz correspondiente al lado AB. Siendo:**"
      ],
      "text/plain": [
       "<IPython.core.display.Markdown object>"
      ]
     },
     "metadata": {},
     "output_type": "display_data"
    },
    {
     "data": {
      "text/markdown": [
       "$A=(2, -3), \\ B=(-2, -2),\\  y \\ C=(0, 3) \\rightarrow \\left [ - \\frac{7 x}{2} - 3 y - 2 = 0, \\quad - \\frac{11 \\left(x - 3 y - 4\\right)}{10} = 0, \\quad 4 x - y - \\frac{5}{2} = 0\\right ]$"
      ],
      "text/plain": [
       "<IPython.core.display.Markdown object>"
      ]
     },
     "metadata": {},
     "output_type": "display_data"
    }
   ],
   "source": [
    "# Página 52 ejercicio 57\n",
    "\n",
    "texto_ejercicio = r\"\"\"Dado el triángulo, hallar la mediana correspondiente al vértice A, la altura correspondiente al vértice B y la mediatriz correspondiente al lado AB. Siendo:\"\"\"\n",
    "\n",
    "n_ejercicio = 'p052e57'\n",
    "\n",
    "display(md(\"**\"+texto_ejercicio+\"**\"))\n",
    " \n",
    "# vectores iniciales correspondientes al texto del enunciado\n",
    "\n",
    "pre_enunciado_latex = [\n",
    "                  [(2,-3),(-2,-2),(0,3)],                                   \n",
    "                      ]\n",
    "\n",
    "enunciado_latex, enunciado, solucion = [],[],[]\n",
    "\n",
    "for i, s in enumerate(pre_enunciado_latex) : \n",
    "    enunciado_latex.append(\"A=\"+str(s[0])+\", \\ B=\"+str(s[1])+\",\\  y \\ C=\"+str(s[2])+\"\")\n",
    "    enunciado = str(s)\n",
    "    A, B, C = [Point(k) for k in s]\n",
    "    T=Triangle(A,B,C)\n",
    "    sol=[Eq(Line(T.medians[A]).equation(),0),\n",
    "        Eq(factor(Line(T.altitudes[B]).equation()),0),\n",
    "        Eq(Line(A,B).perpendicular_line(A.midpoint(B)).equation(),0)] \n",
    "    solucion.append(latex(sol))\n",
    "    display(md(\"$\"+ enunciado_latex[i] +\" \\\\rightarrow \" + solucion[i] +\"$\"))\n",
    "    \n",
    "\n",
    "df_ejercicios = df_ejercicios.append(añadir_ejercicios(enunciado_latex, enunciado, solucion, texto_ejercicio, curso, titulo , n_ejercicio, '1', '1', enun_tex=True), ignore_index=True)\n"
   ]
  },
  {
   "cell_type": "code",
   "execution_count": 24,
   "metadata": {},
   "outputs": [
    {
     "data": {
      "image/png": "[encoded data removed]",
      "text/latex": [
       "$$\\left [ - \\frac{7 x}{2} - 3 y - 2 = 0, \\quad - \\frac{11 \\left(x - 3 y - 4\\right)}{10} = 0, \\quad 4 x - y - \\frac{5}{2} = 0\\right ]$$"
      ],
      "text/plain": [
       "⎡  7⋅x                -11⋅(x - 3⋅y - 4)                        ⎤\n",
       "⎢- ─── - 3⋅y - 2 = 0, ────────────────── = 0, 4⋅x - y - 5/2 = 0⎥\n",
       "⎣   2                         10                               ⎦"
      ]
     },
     "execution_count": 24,
     "metadata": {},
     "output_type": "execute_result"
    }
   ],
   "source": [
    "s=[(2,-3),(-2,-2),(0,3)]\n",
    "A, B, C = [Point(k) for k in s]\n",
    "T=Triangle(A,B,C)\n",
    "[Eq(Line(T.medians[A]).equation(),0),\n",
    "Eq(factor(Line(T.altitudes[B]).equation()),0),\n",
    "Eq(Line(A,B).perpendicular_line(A.midpoint(B)).equation(),0)]\n"
   ]
  },
  {
   "cell_type": "code",
   "execution_count": 25,
   "metadata": {},
   "outputs": [
    {
     "data": {
      "text/markdown": [
       "**Determina el valor de m para que el área del triángulo ABC sea:**"
      ],
      "text/plain": [
       "<IPython.core.display.Markdown object>"
      ]
     },
     "metadata": {},
     "output_type": "display_data"
    },
    {
     "data": {
      "text/markdown": [
       "$6\\ unidades \\ cuadradas, \\ siendo \\ A=(2, 1), \\ B=(-3, 5)\\  y \\ C=(4, m) \\rightarrow \\left [ -3\\right ]$"
      ],
      "text/plain": [
       "<IPython.core.display.Markdown object>"
      ]
     },
     "metadata": {},
     "output_type": "display_data"
    }
   ],
   "source": [
    "# Página 52 ejercicio 58\n",
    "\n",
    "texto_ejercicio = r\"\"\"Determina el valor de m para que el área del triángulo ABC sea:\"\"\"\n",
    "\n",
    "n_ejercicio = 'p052e58'\n",
    "\n",
    "display(md(\"**\"+texto_ejercicio+\"**\"))\n",
    "\n",
    "# vectores iniciales correspondientes al texto del enunciadom \n",
    "\n",
    "m = symbols('m')\n",
    "\n",
    "pre_enunciado_latex = [\n",
    "                    [6, (2, 1),(-3, 5),(4, m)],\n",
    "                    \n",
    "                    \n",
    "                      ]\n",
    "\n",
    "enunciado_latex, enunciado, solucion = [],[],[]\n",
    "\n",
    "for i, s in enumerate(pre_enunciado_latex) : \n",
    "    enunciado_latex.append(str(s[0])+\"\\ unidades \\ cuadradas, \\ siendo \\ A=\"+str(s[1])+\", \\ B=\"+str(s[2])+\"\\  y \\ C=\"+str(s[3])+\"\")\n",
    "    enunciado = str(s)\n",
    "    A, B, C = [Point(k) for k in s[1:]]\n",
    "    T=Triangle(A,B,C)\n",
    "    sol=latex(solve(Eq(T.area,s[0])))\n",
    "    solucion.append(sol)\n",
    "    display(md(\"$\"+ enunciado_latex[i] +\" \\\\rightarrow \" + solucion[i] +\"$\"))\n",
    "\n",
    "df_ejercicios = df_ejercicios.append(añadir_ejercicios(enunciado_latex, enunciado, solucion, texto_ejercicio, curso, titulo , n_ejercicio, '1', '1', enun_tex=True), ignore_index=True)\n"
   ]
  },
  {
   "cell_type": "code",
   "execution_count": 26,
   "metadata": {},
   "outputs": [
    {
     "data": {
      "image/png": "[encoded data removed]",
      "text/plain": [
       "<Figure size 432x288 with 1 Axes>"
      ]
     },
     "metadata": {},
     "output_type": "display_data"
    }
   ],
   "source": [
    "%matplotlib inline\n",
    "p1 = plot_implicit(Linea(r'\\frac{\\sqrt{3} x}{2} + \\frac{y}{2} - \\frac{\\sqrt{3}}{2} + 1 = 0').equation(),show=False)\n",
    "p2 = plot_implicit(Linea(r'\\frac{\\sqrt{3} x}{2} + \\frac{y}{2} - \\frac{\\sqrt{3}}{2} + 2 = 0').equation(),show=False)\n",
    "p1.extend(p2)\n",
    "p1.show()"
   ]
  },
  {
   "cell_type": "code",
   "execution_count": 7,
   "metadata": {},
   "outputs": [
    {
     "name": "stdout",
     "output_type": "stream",
     "text": [
      "=========================================================\n",
      "Please add the following lines to your LaTeX preamble:\n",
      "\n",
      "\\usepackage[utf8]{inputenc}\n",
      "\\usepackage{fontspec} % This line only for XeLaTeX and LuaLaTeX\n",
      "\\usepackage{pgfplots}\n",
      "=========================================================\n",
      "Horizontal alignment will be ignored as no 'x tick label text width' has been passed in the 'extra' parameter\n",
      "Horizontal alignment will be ignored as no 'y tick label text width' has been passed in the 'extra' parameter\n",
      "=========================================================\n",
      "Please add the following lines to your LaTeX preamble:\n",
      "\n",
      "\\usepackage[utf8]{inputenc}\n",
      "\\usepackage{fontspec} % This line only for XeLaTeX and LuaLaTeX\n",
      "\\usepackage{pgfplots}\n",
      "=========================================================\n",
      "Horizontal alignment will be ignored as no 'x tick label text width' has been passed in the 'extra' parameter\n",
      "Horizontal alignment will be ignored as no 'y tick label text width' has been passed in the 'extra' parameter\n"
     ]
    },
    {
     "data": {
      "text/plain": [
       "'% This file was created by matplotlib2tikz v0.6.18.\\n\\\\begin{tikzpicture}\\n\\n\\\\definecolor{color0}{rgb}{0.12156862745098,0.466666666666667,0.705882352941177}\\n\\n\\\\begin{axis}[\\ntick align=outside,\\ntick pos=left,\\ntitle={Should be growing...},\\nx grid style={white!69.01960784313725!black},\\nxlabel={decreasing time (s)},\\nxmajorgrids,\\nxmin=0, xmax=5,\\ny grid style={white!69.01960784313725!black},\\nylabel={voltage (mV)},\\nymajorgrids,\\nymin=-0.0423565439706163, ymax=1.03921204221202\\n]\\n\\\\addplot [semithick, color0, forget plot]\\ntable [row sep=\\\\\\\\]{%\\n0.01\\t0.990049833749168 \\\\\\\\\\n0.02\\t0.980198673306755 \\\\\\\\\\n0.03\\t0.970445533548508 \\\\\\\\\\n0.04\\t0.960789439152323 \\\\\\\\\\n0.05\\t0.951229424500714 \\\\\\\\\\n0.06\\t0.941764533584249 \\\\\\\\\\n0.07\\t0.932393819905948 \\\\\\\\\\n0.08\\t0.923116346386636 \\\\\\\\\\n0.09\\t0.913931185271228 \\\\\\\\\\n0.1\\t0.90483741803596 \\\\\\\\\\n0.11\\t0.895834135296528 \\\\\\\\\\n0.12\\t0.886920436717157 \\\\\\\\\\n0.13\\t0.878095430920561 \\\\\\\\\\n0.14\\t0.869358235398806 \\\\\\\\\\n0.15\\t0.860707976425058 \\\\\\\\\\n0.16\\t0.852143788966211 \\\\\\\\\\n0.17\\t0.843664816596384 \\\\\\\\\\n0.18\\t0.835270211411272 \\\\\\\\\\n0.19\\t0.826959133943362 \\\\\\\\\\n0.2\\t0.818730753077982 \\\\\\\\\\n0.21\\t0.810584245970187 \\\\\\\\\\n0.22\\t0.802518797962478 \\\\\\\\\\n0.23\\t0.794533602503334 \\\\\\\\\\n0.24\\t0.786627861066553 \\\\\\\\\\n0.25\\t0.778800783071405 \\\\\\\\\\n0.26\\t0.771051585803566 \\\\\\\\\\n0.27\\t0.763379494336853 \\\\\\\\\\n0.28\\t0.755783741455725 \\\\\\\\\\n0.29\\t0.748263567578565 \\\\\\\\\\n0.3\\t0.740818220681718 \\\\\\\\\\n0.31\\t0.733446956224289 \\\\\\\\\\n0.32\\t0.726149037073691 \\\\\\\\\\n0.33\\t0.718923733431926 \\\\\\\\\\n0.34\\t0.71177032276261 \\\\\\\\\\n0.35\\t0.704688089718713 \\\\\\\\\\n0.36\\t0.697676326071031 \\\\\\\\\\n0.37\\t0.690734330637355 \\\\\\\\\\n0.38\\t0.683861409212356 \\\\\\\\\\n0.39\\t0.677056874498165 \\\\\\\\\\n0.4\\t0.670320046035639 \\\\\\\\\\n0.41\\t0.663650250136319 \\\\\\\\\\n0.42\\t0.657046819815057 \\\\\\\\\\n0.43\\t0.650509094723317 \\\\\\\\\\n0.44\\t0.644036421083141 \\\\\\\\\\n0.45\\t0.637628151621773 \\\\\\\\\\n0.46\\t0.631283645506926 \\\\\\\\\\n0.47\\t0.625002268282701 \\\\\\\\\\n0.48\\t0.618783391806141 \\\\\\\\\\n0.49\\t0.612626394184416 \\\\\\\\\\n0.5\\t0.606530659712633 \\\\\\\\\\n0.51\\t0.600495578812266 \\\\\\\\\\n0.52\\t0.594520547970194 \\\\\\\\\\n0.53\\t0.588604969678355 \\\\\\\\\\n0.54\\t0.58274825237399 \\\\\\\\\\n0.55\\t0.576949810380487 \\\\\\\\\\n0.56\\t0.571209063848815 \\\\\\\\\\n0.57\\t0.565525438699537 \\\\\\\\\\n0.58\\t0.559898366565402 \\\\\\\\\\n0.59\\t0.554327284734507 \\\\\\\\\\n0.6\\t0.548811636094026 \\\\\\\\\\n0.61\\t0.5433508690745 \\\\\\\\\\n0.62\\t0.537944437594674 \\\\\\\\\\n0.63\\t0.532591801006897 \\\\\\\\\\n0.64\\t0.527292424043049 \\\\\\\\\\n0.65\\t0.522045776761016 \\\\\\\\\\n0.66\\t0.516851334491699 \\\\\\\\\\n0.67\\t0.511708577786542 \\\\\\\\\\n0.68\\t0.50661699236559 \\\\\\\\\\n0.69\\t0.501576069066055 \\\\\\\\\\n0.7\\t0.496585303791409 \\\\\\\\\\n0.71\\t0.491644197460965 \\\\\\\\\\n0.72\\t0.486752255959972 \\\\\\\\\\n0.73\\t0.481908990090202 \\\\\\\\\\n0.74\\t0.477113915521034 \\\\\\\\\\n0.75\\t0.472366552741015 \\\\\\\\\\n0.76\\t0.467666427009909 \\\\\\\\\\n0.77\\t0.463013068311228 \\\\\\\\\\n0.78\\t0.458406011305224 \\\\\\\\\\n0.79\\t0.453844795282356 \\\\\\\\\\n0.8\\t0.449328964117222 \\\\\\\\\\n0.81\\t0.444858066222941 \\\\\\\\\\n0.82\\t0.440431654505999 \\\\\\\\\\n0.83\\t0.436049286321536 \\\\\\\\\\n0.84\\t0.43171052342908 \\\\\\\\\\n0.85\\t0.427414931948727 \\\\\\\\\\n0.86\\t0.423162082317749 \\\\\\\\\\n0.87\\t0.418951549247639 \\\\\\\\\\n0.88\\t0.414782911681581 \\\\\\\\\\n0.89\\t0.410655752752346 \\\\\\\\\\n0.9\\t0.406569659740599 \\\\\\\\\\n0.91\\t0.402524224033636 \\\\\\\\\\n0.92\\t0.398519041084514 \\\\\\\\\\n0.93\\t0.394553710371601 \\\\\\\\\\n0.94\\t0.390627835358521 \\\\\\\\\\n0.95\\t0.386741023454501 \\\\\\\\\\n0.96\\t0.382892885975112 \\\\\\\\\\n0.97\\t0.379083038103399 \\\\\\\\\\n0.98\\t0.3753110988514 \\\\\\\\\\n0.99\\t0.371576691022046 \\\\\\\\\\n1\\t0.367879441171442 \\\\\\\\\\n1.01\\t0.364218979571523 \\\\\\\\\\n1.02\\t0.360594940173078 \\\\\\\\\\n1.03\\t0.357006960569147 \\\\\\\\\\n1.04\\t0.35345468195878 \\\\\\\\\\n1.05\\t0.349937749111155 \\\\\\\\\\n1.06\\t0.346455810330057 \\\\\\\\\\n1.07\\t0.343008517418707 \\\\\\\\\\n1.08\\t0.339595525644939 \\\\\\\\\\n1.09\\t0.336216493706733 \\\\\\\\\\n1.1\\t0.33287108369808 \\\\\\\\\\n1.11\\t0.329558961075189 \\\\\\\\\\n1.12\\t0.326279794623039 \\\\\\\\\\n1.13\\t0.323033256422253 \\\\\\\\\\n1.14\\t0.319819021816304 \\\\\\\\\\n1.15\\t0.316636769379053 \\\\\\\\\\n1.16\\t0.313486180882605 \\\\\\\\\\n1.17\\t0.310366941265485 \\\\\\\\\\n1.18\\t0.307278738601131 \\\\\\\\\\n1.19\\t0.304221264066704 \\\\\\\\\\n1.2\\t0.301194211912202 \\\\\\\\\\n1.21\\t0.298197279429887 \\\\\\\\\\n1.22\\t0.295230166924014 \\\\\\\\\\n1.23\\t0.292292577680859 \\\\\\\\\\n1.24\\t0.289384217939051 \\\\\\\\\\n1.25\\t0.28650479686019 \\\\\\\\\\n1.26\\t0.28365402649977 \\\\\\\\\\n1.27\\t0.28083162177838 \\\\\\\\\\n1.28\\t0.278037300453194 \\\\\\\\\\n1.29\\t0.275270783089752 \\\\\\\\\\n1.3\\t0.272531793034013 \\\\\\\\\\n1.31\\t0.269820056384687 \\\\\\\\\\n1.32\\t0.26713530196585 \\\\\\\\\\n1.33\\t0.264477261299824 \\\\\\\\\\n1.34\\t0.261845668580326 \\\\\\\\\\n1.35\\t0.259240260645892 \\\\\\\\\\n1.36\\t0.256660776953556 \\\\\\\\\\n1.37\\t0.2541069595528 \\\\\\\\\\n1.38\\t0.251578553059756 \\\\\\\\\\n1.39\\t0.249075304631668 \\\\\\\\\\n1.4\\t0.246596963941606 \\\\\\\\\\n1.41\\t0.244143283153437 \\\\\\\\\\n1.42\\t0.241714016897036 \\\\\\\\\\n1.43\\t0.239308922243755 \\\\\\\\\\n1.44\\t0.236927758682122 \\\\\\\\\\n1.45\\t0.234570288093798 \\\\\\\\\\n1.46\\t0.232236274729759 \\\\\\\\\\n1.47\\t0.229925485186724 \\\\\\\\\\n1.48\\t0.227637688383813 \\\\\\\\\\n1.49\\t0.225372655539439 \\\\\\\\\\n1.5\\t0.22313016014843 \\\\\\\\\\n1.51\\t0.220909977959378 \\\\\\\\\\n1.52\\t0.218711886952215 \\\\\\\\\\n1.53\\t0.216535667316007 \\\\\\\\\\n1.54\\t0.214381101426978 \\\\\\\\\\n1.55\\t0.212247973826743 \\\\\\\\\\n1.56\\t0.210136071200765 \\\\\\\\\\n1.57\\t0.20804518235702 \\\\\\\\\\n1.58\\t0.205975098204883 \\\\\\\\\\n1.59\\t0.203925611734213 \\\\\\\\\\n1.6\\t0.201896517994655 \\\\\\\\\\n1.61\\t0.199887614075144 \\\\\\\\\\n1.62\\t0.197898699083615 \\\\\\\\\\n1.63\\t0.195929574126909 \\\\\\\\\\n1.64\\t0.193980042290892 \\\\\\\\\\n1.65\\t0.192049908620754 \\\\\\\\\\n1.66\\t0.19013898010152 \\\\\\\\\\n1.67\\t0.188247065638747 \\\\\\\\\\n1.68\\t0.18637397603941 \\\\\\\\\\n1.69\\t0.184519523992989 \\\\\\\\\\n1.7\\t0.182683524052735 \\\\\\\\\\n1.71\\t0.180865792617122 \\\\\\\\\\n1.72\\t0.179066147911493 \\\\\\\\\\n1.73\\t0.177284409969878 \\\\\\\\\\n1.74\\t0.175520400616997 \\\\\\\\\\n1.75\\t0.173773943450445 \\\\\\\\\\n1.76\\t0.172044863823051 \\\\\\\\\\n1.77\\t0.170332988825409 \\\\\\\\\\n1.78\\t0.168638147268595 \\\\\\\\\\n1.79\\t0.166960169667041 \\\\\\\\\\n1.8\\t0.165298888221587 \\\\\\\\\\n1.81\\t0.163654136802704 \\\\\\\\\\n1.82\\t0.162025750933881 \\\\\\\\\\n1.83\\t0.160413567775173 \\\\\\\\\\n1.84\\t0.158817426106921 \\\\\\\\\\n1.85\\t0.157237166313628 \\\\\\\\\\n1.86\\t0.155672630367997 \\\\\\\\\\n1.87\\t0.154123661815131 \\\\\\\\\\n1.88\\t0.152590105756884 \\\\\\\\\\n1.89\\t0.151071808836371 \\\\\\\\\\n1.9\\t0.149568619222635 \\\\\\\\\\n1.91\\t0.148080386595462 \\\\\\\\\\n1.92\\t0.14660696213035 \\\\\\\\\\n1.93\\t0.145148198483624 \\\\\\\\\\n1.94\\t0.143703949777703 \\\\\\\\\\n1.95\\t0.142274071586514 \\\\\\\\\\n1.96\\t0.140858420921045 \\\\\\\\\\n1.97\\t0.139456856215051 \\\\\\\\\\n1.98\\t0.138069237310893 \\\\\\\\\\n1.99\\t0.136695425445524 \\\\\\\\\\n2\\t0.135335283236613 \\\\\\\\\\n2.01\\t0.133988674668805 \\\\\\\\\\n2.02\\t0.132655465080122 \\\\\\\\\\n2.03\\t0.131335521148493 \\\\\\\\\\n2.04\\t0.130028710878426 \\\\\\\\\\n2.05\\t0.128734903587804 \\\\\\\\\\n2.06\\t0.127453969894821 \\\\\\\\\\n2.07\\t0.126185781705039 \\\\\\\\\\n2.08\\t0.124930212198582 \\\\\\\\\\n2.09\\t0.123687135817455 \\\\\\\\\\n2.1\\t0.122456428252982 \\\\\\\\\\n2.11\\t0.121237966433382 \\\\\\\\\\n2.12\\t0.120031628511457 \\\\\\\\\\n2.13\\t0.11883729385241 \\\\\\\\\\n2.14\\t0.117654843021779 \\\\\\\\\\n2.15\\t0.116484157773497 \\\\\\\\\\n2.16\\t0.115325121038063 \\\\\\\\\\n2.17\\t0.114177616910836 \\\\\\\\\\n2.18\\t0.11304153064045 \\\\\\\\\\n2.19\\t0.111916748617329 \\\\\\\\\\n2.2\\t0.110803158362334 \\\\\\\\\\n2.21\\t0.109700648515511 \\\\\\\\\\n2.22\\t0.108609108824958 \\\\\\\\\\n2.23\\t0.107528430135795 \\\\\\\\\\n2.24\\t0.106458504379253 \\\\\\\\\\n2.25\\t0.105399224561864 \\\\\\\\\\n2.26\\t0.104350484754765 \\\\\\\\\\n2.27\\t0.1033121800831 \\\\\\\\\\n2.28\\t0.102284206715537 \\\\\\\\\\n2.29\\t0.101266461853883 \\\\\\\\\\n2.3\\t0.100258843722804 \\\\\\\\\\n2.31\\t0.0992612515596457 \\\\\\\\\\n2.32\\t0.0982735856043615 \\\\\\\\\\n2.33\\t0.0972957470895328 \\\\\\\\\\n2.34\\t0.096327638230493 \\\\\\\\\\n2.35\\t0.0953691622155497 \\\\\\\\\\n2.36\\t0.0944202231963023 \\\\\\\\\\n2.37\\t0.0934807262780585 \\\\\\\\\\n2.38\\t0.0925505775103433 \\\\\\\\\\n2.39\\t0.0916296838775049 \\\\\\\\\\n2.4\\t0.0907179532894125 \\\\\\\\\\n2.41\\t0.0898152945722477 \\\\\\\\\\n2.42\\t0.0889216174593863 \\\\\\\\\\n2.43\\t0.0880368325823726 \\\\\\\\\\n2.44\\t0.0871608514619813 \\\\\\\\\\n2.45\\t0.0862935864993705 \\\\\\\\\\n2.46\\t0.0854349509673212 \\\\\\\\\\n2.47\\t0.0845848590015647 \\\\\\\\\\n2.48\\t0.083743225592196 \\\\\\\\\\n2.49\\t0.0829099665751727 \\\\\\\\\\n2.5\\t0.0820849986238988 \\\\\\\\\\n2.51\\t0.0812682392408917 \\\\\\\\\\n2.52\\t0.0804596067495324 \\\\\\\\\\n2.53\\t0.079659020285898 \\\\\\\\\\n2.54\\t0.0788663997906749 \\\\\\\\\\n2.55\\t0.0780816660011532 \\\\\\\\\\n2.56\\t0.0773047404432997 \\\\\\\\\\n2.57\\t0.0765355454239115 \\\\\\\\\\n2.58\\t0.0757740040228455 \\\\\\\\\\n2.59\\t0.075020040085327 \\\\\\\\\\n2.6\\t0.0742735782143339 \\\\\\\\\\n2.61\\t0.0735345437630571 \\\\\\\\\\n2.62\\t0.0728028628274356 \\\\\\\\\\n2.63\\t0.0720784622387661 \\\\\\\\\\n2.64\\t0.0713612695563861 \\\\\\\\\\n2.65\\t0.0706512130604296 \\\\\\\\\\n2.66\\t0.0699482217446554 \\\\\\\\\\n2.67\\t0.069252225309346 \\\\\\\\\\n2.68\\t0.0685631541542779 \\\\\\\\\\n2.69\\t0.0678809393717614 \\\\\\\\\\n2.7\\t0.0672055127397498 \\\\\\\\\\n2.71\\t0.0665368067150169 \\\\\\\\\\n2.72\\t0.065874754426403 \\\\\\\\\\n2.73\\t0.0652192896681275 \\\\\\\\\\n2.74\\t0.0645703468931685 \\\\\\\\\\n2.75\\t0.0639278612067076 \\\\\\\\\\n2.76\\t0.0632917683596407 \\\\\\\\\\n2.77\\t0.0626620047421532 \\\\\\\\\\n2.78\\t0.0620385073773583 \\\\\\\\\\n2.79\\t0.0614212139150001 \\\\\\\\\\n2.8\\t0.060810062625218 \\\\\\\\\\n2.81\\t0.0602049923923735 \\\\\\\\\\n2.82\\t0.0596059427089394 \\\\\\\\\\n2.83\\t0.0590128536694479 \\\\\\\\\\n2.84\\t0.0584256659645008 \\\\\\\\\\n2.85\\t0.0578443208748385 \\\\\\\\\\n2.86\\t0.0572687602654674 \\\\\\\\\\n2.87\\t0.0566989265798469 \\\\\\\\\\n2.88\\t0.0561347628341337 \\\\\\\\\\n2.89\\t0.0555762126114831 \\\\\\\\\\n2.9\\t0.0550232200564072 \\\\\\\\\\n2.91\\t0.0544757298691899 \\\\\\\\\\n2.92\\t0.053933687300356 \\\\\\\\\\n2.93\\t0.0533970381451971 \\\\\\\\\\n2.94\\t0.0528657287383504 \\\\\\\\\\n2.95\\t0.0523397059484324 \\\\\\\\\\n2.96\\t0.0518189171727258 \\\\\\\\\\n2.97\\t0.0513033103319191 \\\\\\\\\\n2.98\\t0.0507928338648985 \\\\\\\\\\n2.99\\t0.0502874367235919 \\\\\\\\\\n3\\t0.0497870683678639 \\\\\\\\\\n3.01\\t0.0492916787604622 \\\\\\\\\\n3.02\\t0.048801218362013 \\\\\\\\\\n3.03\\t0.0483156381260678 \\\\\\\\\\n3.04\\t0.0478348894941984 \\\\\\\\\\n3.05\\t0.0473589243911409 \\\\\\\\\\n3.06\\t0.0468876952199885 \\\\\\\\\\n3.07\\t0.0464211548574313 \\\\\\\\\\n3.08\\t0.0459592566490442 \\\\\\\\\\n3.09\\t0.0455019544046216 \\\\\\\\\\n3.1\\t0.0450492023935578 \\\\\\\\\\n3.11\\t0.0446009553402745 \\\\\\\\\\n3.12\\t0.0441571684196929 \\\\\\\\\\n3.13\\t0.0437177972527509 \\\\\\\\\\n3.14\\t0.0432827979019659 \\\\\\\\\\n3.15\\t0.0428521268670402 \\\\\\\\\\n3.16\\t0.0424257410805114 \\\\\\\\\\n3.17\\t0.0420035979034456 \\\\\\\\\\n3.18\\t0.0415856551211732 \\\\\\\\\\n3.19\\t0.0411718709390677 \\\\\\\\\\n3.2\\t0.0407622039783662 \\\\\\\\\\n3.21\\t0.0403566132720311 \\\\\\\\\\n3.22\\t0.0399550582606539 \\\\\\\\\\n3.23\\t0.0395574987883987 \\\\\\\\\\n3.24\\t0.0391638950989871 \\\\\\\\\\n3.25\\t0.038774207831722 \\\\\\\\\\n3.26\\t0.0383883980175521 \\\\\\\\\\n3.27\\t0.0380064270751743 \\\\\\\\\\n3.28\\t0.0376282568071762 \\\\\\\\\\n3.29\\t0.0372538493962158 \\\\\\\\\\n3.3\\t0.03688316740124 \\\\\\\\\\n3.31\\t0.0365161737537404 \\\\\\\\\\n3.32\\t0.0361528317540464 \\\\\\\\\\n3.33\\t0.0357931050676553 \\\\\\\\\\n3.34\\t0.0354369577215986 \\\\\\\\\\n3.35\\t0.035084354100845 \\\\\\\\\\n3.36\\t0.0347352589447386 \\\\\\\\\\n3.37\\t0.0343896373434727 \\\\\\\\\\n3.38\\t0.0340474547345993 \\\\\\\\\\n3.39\\t0.0337086768995724 \\\\\\\\\\n3.4\\t0.0333732699603261 \\\\\\\\\\n3.41\\t0.0330412003758869 \\\\\\\\\\n3.42\\t0.0327124349390198 \\\\\\\\\\n3.43\\t0.0323869407729071 \\\\\\\\\\n3.44\\t0.0320646853278608 \\\\\\\\\\n3.45\\t0.031745636378068 \\\\\\\\\\n3.46\\t0.0314297620183677 \\\\\\\\\\n3.47\\t0.0311170306610609 \\\\\\\\\\n3.48\\t0.0308074110327511 \\\\\\\\\\n3.49\\t0.0305008721712175 \\\\\\\\\\n3.5\\t0.0301973834223185 \\\\\\\\\\n3.51\\t0.0298969144369263 \\\\\\\\\\n3.52\\t0.029599435167892 \\\\\\\\\\n3.53\\t0.0293049158670408 \\\\\\\\\\n3.54\\t0.0290133270821971 \\\\\\\\\\n3.55\\t0.0287246396542394 \\\\\\\\\\n3.56\\t0.0284388247141845 \\\\\\\\\\n3.57\\t0.0281558536803001 \\\\\\\\\\n3.58\\t0.027875698255247 \\\\\\\\\\n3.59\\t0.0275983304232493 \\\\\\\\\\n3.6\\t0.0273237224472926 \\\\\\\\\\n3.61\\t0.0270518468663504 \\\\\\\\\\n3.62\\t0.0267826764926382 \\\\\\\\\\n3.63\\t0.0265161844088942 \\\\\\\\\\n3.64\\t0.026252343965688 \\\\\\\\\\n3.65\\t0.0259911287787553 \\\\\\\\\\n3.66\\t0.02573251272636 \\\\\\\\\\n3.67\\t0.025476469946681 \\\\\\\\\\n3.68\\t0.0252229748352272 \\\\\\\\\\n3.69\\t0.0249720020422762 \\\\\\\\\\n3.7\\t0.0247235264703394 \\\\\\\\\\n3.71\\t0.0244775232716527 \\\\\\\\\\n3.72\\t0.0242339678456911 \\\\\\\\\\n3.73\\t0.0239928358367092 \\\\\\\\\\n3.74\\t0.023754103131305 \\\\\\\\\\n3.75\\t0.0235177458560091 \\\\\\\\\\n3.76\\t0.023283740374897 \\\\\\\\\\n3.77\\t0.0230520632872256 \\\\\\\\\\n3.78\\t0.022822691425093 \\\\\\\\\\n3.79\\t0.0225956018511219 \\\\\\\\\\n3.8\\t0.0223707718561656 \\\\\\\\\\n3.81\\t0.0221481789570373 \\\\\\\\\\n3.82\\t0.0219278008942616 \\\\\\\\\\n3.83\\t0.0217096156298486 \\\\\\\\\\n3.84\\t0.0214936013450899 \\\\\\\\\\n3.85\\t0.0212797364383772 \\\\\\\\\\n3.86\\t0.0210679995230414 \\\\\\\\\\n3.87\\t0.0208583694252147 \\\\\\\\\\n3.88\\t0.0206508251817126 \\\\\\\\\\n3.89\\t0.0204453460379377 \\\\\\\\\\n3.9\\t0.0202419114458044 \\\\\\\\\\n3.91\\t0.020040501061684 \\\\\\\\\\n3.92\\t0.0198410947443703 \\\\\\\\\\n3.93\\t0.0196436725530653 \\\\\\\\\\n3.94\\t0.0194482147453854 \\\\\\\\\\n3.95\\t0.0192547017753869 \\\\\\\\\\n3.96\\t0.0190631142916116 \\\\\\\\\\n3.97\\t0.0188734331351515 \\\\\\\\\\n3.98\\t0.0186856393377328 \\\\\\\\\\n3.99\\t0.0184997141198192 \\\\\\\\\\n4\\t0.0183156388887342 \\\\\\\\\\n4.01\\t0.0181333952368011 \\\\\\\\\\n4.02\\t0.0179529649395029 \\\\\\\\\\n4.03\\t0.0177743299536594 \\\\\\\\\\n4.04\\t0.0175974724156234 \\\\\\\\\\n4.05\\t0.0174223746394935 \\\\\\\\\\n4.06\\t0.0172490191153463 \\\\\\\\\\n4.07\\t0.0170773885074848 \\\\\\\\\\n4.08\\t0.0169074656527053 \\\\\\\\\\n4.09\\t0.0167392335585806 \\\\\\\\\\n4.1\\t0.0165726754017613 \\\\\\\\\\n4.11\\t0.0164077745262927 \\\\\\\\\\n4.12\\t0.0162445144419499 \\\\\\\\\\n4.13\\t0.0160828788225884 \\\\\\\\\\n4.14\\t0.0159228515045117 \\\\\\\\\\n4.15\\t0.0157644164848545 \\\\\\\\\\n4.16\\t0.0156075579199828 \\\\\\\\\\n4.17\\t0.0154522601239095 \\\\\\\\\\n4.18\\t0.0152985075667255 \\\\\\\\\\n4.19\\t0.015146284873047 \\\\\\\\\\n4.2\\t0.0149955768204777 \\\\\\\\\\n4.21\\t0.0148463683380868 \\\\\\\\\\n4.22\\t0.0146986445049018 \\\\\\\\\\n4.23\\t0.0145523905484161 \\\\\\\\\\n4.24\\t0.0144075918431123 \\\\\\\\\\n4.25\\t0.0142642339089993 \\\\\\\\\\n4.26\\t0.014122302410164 \\\\\\\\\\n4.27\\t0.0139817831533383 \\\\\\\\\\n4.28\\t0.0138426620864795 \\\\\\\\\\n4.29\\t0.0137049252973649 \\\\\\\\\\n4.3\\t0.0135685590122009 \\\\\\\\\\n4.31\\t0.0134335495942453 \\\\\\\\\\n4.32\\t0.0132998835424438 \\\\\\\\\\n4.33\\t0.0131675474900798 \\\\\\\\\\n4.34\\t0.0130365282034377 \\\\\\\\\\n4.35\\t0.0129068125804799 \\\\\\\\\\n4.36\\t0.0127783876495358 \\\\\\\\\\n4.37\\t0.0126512405680053 \\\\\\\\\\n4.38\\t0.0125253586210744 \\\\\\\\\\n4.39\\t0.0124007292204434 \\\\\\\\\\n4.4\\t0.0122773399030684 \\\\\\\\\\n4.41\\t0.0121551783299149 \\\\\\\\\\n4.42\\t0.0120342322847238 \\\\\\\\\\n4.43\\t0.0119144896727896 \\\\\\\\\\n4.44\\t0.0117959385197516 \\\\\\\\\\n4.45\\t0.0116785669703954 \\\\\\\\\\n4.46\\t0.0115623632874685 \\\\\\\\\\n4.47\\t0.0114473158505057 \\\\\\\\\\n4.48\\t0.0113334131546674 \\\\\\\\\\n4.49\\t0.0112206438095891 \\\\\\\\\\n4.5\\t0.0111089965382423 \\\\\\\\\\n4.51\\t0.0109984601758069 \\\\\\\\\\n4.52\\t0.0108890236685545 \\\\\\\\\\n4.53\\t0.0107806760727431 \\\\\\\\\\n4.54\\t0.0106734065535229 \\\\\\\\\\n4.55\\t0.0105672043838527 \\\\\\\\\\n4.56\\t0.0104620589434268 \\\\\\\\\\n4.57\\t0.0103579597176137 \\\\\\\\\\n4.58\\t0.010254896296404 \\\\\\\\\\n4.59\\t0.0101528583733698 \\\\\\\\\\n4.6\\t0.0100518357446336 \\\\\\\\\\n4.61\\t0.00995181830784842 \\\\\\\\\\n4.62\\t0.00985279606118726 \\\\\\\\\\n4.63\\t0.0097547591023429 \\\\\\\\\\n4.64\\t0.00965769762753778 \\\\\\\\\\n4.65\\t0.00956160193054351 \\\\\\\\\\n4.66\\t0.00946646240171032 \\\\\\\\\\n4.67\\t0.00937226952700606 \\\\\\\\\\n4.68\\t0.00927901388706474 \\\\\\\\\\n4.69\\t0.00918668615624467 \\\\\\\\\\n4.7\\t0.00909527710169582 \\\\\\\\\\n4.71\\t0.00900477758243656 \\\\\\\\\\n4.72\\t0.00891517854843955 \\\\\\\\\\n4.73\\t0.00882647103972673 \\\\\\\\\\n4.74\\t0.00873864618547329 \\\\\\\\\\n4.75\\t0.00865169520312063 \\\\\\\\\\n4.76\\t0.00856560939749806 \\\\\\\\\\n4.77\\t0.00848038015995327 \\\\\\\\\\n4.78\\t0.00839599896749147 \\\\\\\\\\n4.79\\t0.00831245738192312 \\\\\\\\\\n4.8\\t0.00822974704902003 \\\\\\\\\\n4.81\\t0.00814785969767999 \\\\\\\\\\n4.82\\t0.00806678713909961 \\\\\\\\\\n4.83\\t0.0079865212659555 \\\\\\\\\\n4.84\\t0.00790705405159344 \\\\\\\\\\n4.85\\t0.00782837754922577 \\\\\\\\\\n4.86\\t0.00775048389113669 \\\\\\\\\\n4.87\\t0.00767336528789549 \\\\\\\\\\n4.88\\t0.00759701402757757 \\\\\\\\\\n4.89\\t0.00752142247499327 \\\\\\\\\\n4.9\\t0.00744658307092434 \\\\\\\\\\n4.91\\t0.00737248833136801 \\\\\\\\\\n4.92\\t0.00729913084678858 \\\\\\\\\\n4.93\\t0.00722650328137646 \\\\\\\\\\n4.94\\t0.00715459837231459 \\\\\\\\\\n4.95\\t0.00708340892905212 \\\\\\\\\\n4.96\\t0.00701292783258542 \\\\\\\\\\n4.97\\t0.00694314803474611 \\\\\\\\\\n4.98\\t0.00687406255749626 \\\\\\\\\\n4.99\\t0.00680566449223054 \\\\\\\\\\n};\\n\\\\end{axis}\\n\\n\\\\end{tikzpicture}'"
      ]
     },
     "execution_count": 7,
     "metadata": {},
     "output_type": "execute_result"
    },
    {
     "data": {
      "image/png": "[encoded data removed]",
      "text/plain": [
       "<Figure size 432x288 with 1 Axes>"
      ]
     },
     "metadata": {},
     "output_type": "display_data"
    }
   ],
   "source": [
    "%matplotlib inline\n",
    "\n",
    "t = np.arange(0.01, 5.0, 0.01)\n",
    "s = np.exp(-t)\n",
    "plt.plot(t, s)\n",
    "\n",
    "plt.xlim(0, 5)  # decreasing time\n",
    "\n",
    "\n",
    "plt.xlabel('decreasing time (s)')\n",
    "plt.ylabel('voltage (mV)')\n",
    "plt.title('Should be growing...')\n",
    "plt.grid(True)\n",
    "\n",
    "#plt.show()\n",
    "\n",
    "from matplotlib2tikz import save as tikz_save\n",
    "from matplotlib2tikz import get_tikz_code\n",
    "tikz_save(\"test.tex\")\n",
    "get_tikz_code(\"test.tex\")\n"
   ]
  },
  {
   "cell_type": "code",
   "execution_count": 27,
   "metadata": {},
   "outputs": [
    {
     "name": "stdout",
     "output_type": "stream",
     "text": [
      "=========================================================\n",
      "Please add the following lines to your LaTeX preamble:\n",
      "\n",
      "\\usepackage[utf8]{inputenc}\n",
      "\\usepackage{fontspec} % This line only for XeLaTeX and LuaLaTeX\n",
      "\\usepackage{pgfplots}\n",
      "=========================================================\n",
      "Horizontal alignment will be ignored as no 'x tick label text width' has been passed in the 'extra' parameter\n",
      "Horizontal alignment will be ignored as no 'y tick label text width' has been passed in the 'extra' parameter\n",
      "=========================================================\n",
      "Please add the following lines to your LaTeX preamble:\n",
      "\n",
      "\\usepackage[utf8]{inputenc}\n",
      "\\usepackage{fontspec} % This line only for XeLaTeX and LuaLaTeX\n",
      "\\usepackage{pgfplots}\n",
      "=========================================================\n",
      "Horizontal alignment will be ignored as no 'x tick label text width' has been passed in the 'extra' parameter\n",
      "Horizontal alignment will be ignored as no 'y tick label text width' has been passed in the 'extra' parameter\n"
     ]
    },
    {
     "data": {
      "text/plain": [
       "'% This file was created by matplotlib2tikz v0.6.18.\\n\\\\begin{tikzpicture}\\n\\n\\\\definecolor{color0}{rgb}{0.886274509803922,0.290196078431373,0.2}\\n\\\\definecolor{color1}{rgb}{0.203921568627451,0.541176470588235,0.741176470588235}\\n\\n\\\\begin{axis}[\\naxis background/.style={fill=white!89.80392156862746!black},\\naxis line style={white},\\ntick align=outside,\\ntick pos=left,\\ntitle={Simple plot $\\\\frac{\\\\alpha}{2}$},\\nx grid style={white},\\nxlabel={time (s)},\\nxmajorgrids,\\nxmin=-0.095, xmax=1.995,\\ny grid style={white},\\nylabel={Voltage (mV)},\\nymajorgrids,\\nymin=-1.1, ymax=1.1\\n]\\n\\\\addplot [line width=1.64pt, color0, mark=*, mark size=3, mark options={solid}, forget plot]\\ntable [row sep=\\\\\\\\]{%\\n0\\t0 \\\\\\\\\\n0.1\\t0.587785252292473 \\\\\\\\\\n0.2\\t0.951056516295154 \\\\\\\\\\n0.3\\t0.951056516295154 \\\\\\\\\\n0.4\\t0.587785252292473 \\\\\\\\\\n0.5\\t1.22464679914735e-16 \\\\\\\\\\n0.6\\t-0.587785252292473 \\\\\\\\\\n0.7\\t-0.951056516295154 \\\\\\\\\\n0.8\\t-0.951056516295154 \\\\\\\\\\n0.9\\t-0.587785252292473 \\\\\\\\\\n1\\t-2.44929359829471e-16 \\\\\\\\\\n1.1\\t0.587785252292474 \\\\\\\\\\n1.2\\t0.951056516295154 \\\\\\\\\\n1.3\\t0.951056516295154 \\\\\\\\\\n1.4\\t0.587785252292473 \\\\\\\\\\n1.5\\t3.67394039744206e-16 \\\\\\\\\\n1.6\\t-0.587785252292473 \\\\\\\\\\n1.7\\t-0.951056516295154 \\\\\\\\\\n1.8\\t-0.951056516295154 \\\\\\\\\\n1.9\\t-0.587785252292473 \\\\\\\\\\n};\\n\\\\addplot [line width=1.64pt, color1, mark=*, mark size=3, mark options={solid}, forget plot]\\ntable [row sep=\\\\\\\\]{%\\n0\\t1 \\\\\\\\\\n0.1\\t0.809016994374947 \\\\\\\\\\n0.2\\t0.309016994374947 \\\\\\\\\\n0.3\\t-0.309016994374948 \\\\\\\\\\n0.4\\t-0.809016994374947 \\\\\\\\\\n0.5\\t-1 \\\\\\\\\\n0.6\\t-0.809016994374947 \\\\\\\\\\n0.7\\t-0.309016994374948 \\\\\\\\\\n0.8\\t0.309016994374947 \\\\\\\\\\n0.9\\t0.809016994374947 \\\\\\\\\\n1\\t1 \\\\\\\\\\n1.1\\t0.809016994374947 \\\\\\\\\\n1.2\\t0.309016994374947 \\\\\\\\\\n1.3\\t-0.309016994374947 \\\\\\\\\\n1.4\\t-0.809016994374947 \\\\\\\\\\n1.5\\t-1 \\\\\\\\\\n1.6\\t-0.809016994374948 \\\\\\\\\\n1.7\\t-0.309016994374946 \\\\\\\\\\n1.8\\t0.309016994374947 \\\\\\\\\\n1.9\\t0.809016994374947 \\\\\\\\\\n};\\n\\\\end{axis}\\n\\n\\\\end{tikzpicture}'"
      ]
     },
     "execution_count": 27,
     "metadata": {},
     "output_type": "execute_result"
    },
    {
     "data": {
      "image/png": "[encoded data removed]",
      "text/plain": [
       "<Figure size 432x288 with 1 Axes>"
      ]
     },
     "metadata": {},
     "output_type": "display_data"
    }
   ],
   "source": [
    "import matplotlib.pyplot as plt\n",
    "import numpy as np\n",
    "\n",
    "plt.style.use(\"ggplot\")\n",
    "\n",
    "t = np.arange(0.0, 2.0, 0.1)\n",
    "s = np.sin(2 * np.pi * t)\n",
    "s2 = np.cos(2 * np.pi * t)\n",
    "plt.plot(t, s, \"o-\", lw=4.1)\n",
    "plt.plot(t, s2, \"o-\", lw=4.1)\n",
    "plt.xlabel(\"time (s)\")\n",
    "plt.ylabel(\"Voltage (mV)\")\n",
    "plt.title(\"Simple plot $\\\\frac{\\\\alpha}{2}$\")\n",
    "plt.grid(True)\n",
    "\n",
    "from matplotlib2tikz import save as tikz_save\n",
    "from matplotlib2tikz import get_tikz_code\n",
    "tikz_save(\"test.tex\")\n",
    "get_tikz_code(\"test.tex\")"
   ]
  },
  {
   "cell_type": "code",
   "execution_count": 28,
   "metadata": {},
   "outputs": [],
   "source": [
    "df_ejercicios.to_csv('ejercicios25.csv', index = False)"
   ]
  },
  {
   "cell_type": "code",
   "execution_count": 29,
   "metadata": {},
   "outputs": [],
   "source": [
    "df_ejercicios = pd.read_csv('ejercicios25.csv', index_col= None)"
   ]
  },
  {
   "cell_type": "code",
   "execution_count": 30,
   "metadata": {},
   "outputs": [
    {
     "data": {
      "text/html": [
       "<div>\n",
       "<style scoped>\n",
       "    .dataframe tbody tr th:only-of-type {\n",
       "        vertical-align: middle;\n",
       "    }\n",
       "\n",
       "    .dataframe tbody tr th {\n",
       "        vertical-align: top;\n",
       "    }\n",
       "\n",
       "    .dataframe thead th {\n",
       "        text-align: right;\n",
       "    }\n",
       "</style>\n",
       "<table border=\"1\" class=\"dataframe\">\n",
       "  <thead>\n",
       "    <tr style=\"text-align: right;\">\n",
       "      <th></th>\n",
       "      <th>enunciado_latex</th>\n",
       "      <th>enunciado</th>\n",
       "      <th>solucion</th>\n",
       "      <th>texto</th>\n",
       "      <th>curso</th>\n",
       "      <th>titulo</th>\n",
       "      <th>n_ejercicio</th>\n",
       "      <th>dificultad</th>\n",
       "      <th>n_columnas</th>\n",
       "      <th>puntos</th>\n",
       "      <th>enun_tex</th>\n",
       "      <th>sol_tex</th>\n",
       "    </tr>\n",
       "  </thead>\n",
       "  <tbody>\n",
       "    <tr>\n",
       "      <th>0</th>\n",
       "      <td>A(-1, 3) \\ y \\overrightarrow{u}=(2, 5)</td>\n",
       "      <td>[(-1, 3), (2, 5)]</td>\n",
       "      <td>- 5 x + 2 y - 11 = 0 \\ y \\ Point2D(2*t - 1, 5*...</td>\n",
       "      <td>Hallar las ecuaciones paramétricas, continua, ...</td>\n",
       "      <td>1BC</td>\n",
       "      <td>25 - Geometría Plana</td>\n",
       "      <td>p050e01</td>\n",
       "      <td>1</td>\n",
       "      <td>2</td>\n",
       "      <td>1</td>\n",
       "      <td>True</td>\n",
       "      <td>True</td>\n",
       "    </tr>\n",
       "    <tr>\n",
       "      <th>1</th>\n",
       "      <td>3x+2y+8=0</td>\n",
       "      <td>Eq(y, 5)</td>\n",
       "      <td>(Point2D(1, -3/2), Point2D(3/2, 1))</td>\n",
       "      <td>Halla un vector direccional y un vector perpen...</td>\n",
       "      <td>1BC</td>\n",
       "      <td>25 - Geometría Plana</td>\n",
       "      <td>p050e02</td>\n",
       "      <td>1</td>\n",
       "      <td>2</td>\n",
       "      <td>1</td>\n",
       "      <td>True</td>\n",
       "      <td>True</td>\n",
       "    </tr>\n",
       "    <tr>\n",
       "      <th>2</th>\n",
       "      <td>\\frac{x-1}{3}=\\frac{2-y}{1}</td>\n",
       "      <td>Eq(y, 5)</td>\n",
       "      <td>(Point2D(1, -1/3), Point2D(1/3, 1))</td>\n",
       "      <td>Halla un vector direccional y un vector perpen...</td>\n",
       "      <td>1BC</td>\n",
       "      <td>25 - Geometría Plana</td>\n",
       "      <td>p050e02</td>\n",
       "      <td>1</td>\n",
       "      <td>2</td>\n",
       "      <td>1</td>\n",
       "      <td>True</td>\n",
       "      <td>True</td>\n",
       "    </tr>\n",
       "    <tr>\n",
       "      <th>3</th>\n",
       "      <td>y=5</td>\n",
       "      <td>Eq(y, 5)</td>\n",
       "      <td>(Point2D(1, 0), Point2D(0, 1))</td>\n",
       "      <td>Halla un vector direccional y un vector perpen...</td>\n",
       "      <td>1BC</td>\n",
       "      <td>25 - Geometría Plana</td>\n",
       "      <td>p050e02</td>\n",
       "      <td>1</td>\n",
       "      <td>2</td>\n",
       "      <td>1</td>\n",
       "      <td>True</td>\n",
       "      <td>True</td>\n",
       "    </tr>\n",
       "    <tr>\n",
       "      <th>4</th>\n",
       "      <td>A=(2, 1), \\ B=(1, 2),\\  y \\ C=(3, 3)</td>\n",
       "      <td>[(2, 1), (1, 2), (3, 3)]</td>\n",
       "      <td>True</td>\n",
       "      <td>Comprobar que es isósceles el triángulo de vér...</td>\n",
       "      <td>1BC</td>\n",
       "      <td>25 - Geometría Plana</td>\n",
       "      <td>p050e04</td>\n",
       "      <td>1</td>\n",
       "      <td>2</td>\n",
       "      <td>1</td>\n",
       "      <td>True</td>\n",
       "      <td>True</td>\n",
       "    </tr>\n",
       "    <tr>\n",
       "      <th>5</th>\n",
       "      <td>A=(0, m)\\  y \\ B=(1, 2)</td>\n",
       "      <td>[(0, m), (1, 2)]</td>\n",
       "      <td>[2]</td>\n",
       "      <td>Determinar m con la condición de que disten 1 ...</td>\n",
       "      <td>1BC</td>\n",
       "      <td>25 - Geometría Plana</td>\n",
       "      <td>p050e05</td>\n",
       "      <td>1</td>\n",
       "      <td>2</td>\n",
       "      <td>1</td>\n",
       "      <td>True</td>\n",
       "      <td>True</td>\n",
       "    </tr>\n",
       "    <tr>\n",
       "      <th>6</th>\n",
       "      <td>r\\equiv4x-y-1=0\\  y \\ s\\equiv2x+7y-6=0</td>\n",
       "      <td>['-x+2y+1=0', '3x+y+5=0']</td>\n",
       "      <td>91.90915243299638</td>\n",
       "      <td>Determinar el ángulo formado por las rectas:</td>\n",
       "      <td>1BC</td>\n",
       "      <td>25 - Geometría Plana</td>\n",
       "      <td>p050e06</td>\n",
       "      <td>1</td>\n",
       "      <td>2</td>\n",
       "      <td>1</td>\n",
       "      <td>True</td>\n",
       "      <td>True</td>\n",
       "    </tr>\n",
       "    <tr>\n",
       "      <th>7</th>\n",
       "      <td>r\\equiv-x+2y+1=0\\  y \\ s\\equiv3x+y+5=0</td>\n",
       "      <td>['-x+2y+1=0', '3x+y+5=0']</td>\n",
       "      <td>98.13010235415598</td>\n",
       "      <td>Determinar el ángulo formado por las rectas:</td>\n",
       "      <td>1BC</td>\n",
       "      <td>25 - Geometría Plana</td>\n",
       "      <td>p050e06</td>\n",
       "      <td>1</td>\n",
       "      <td>2</td>\n",
       "      <td>1</td>\n",
       "      <td>True</td>\n",
       "      <td>True</td>\n",
       "    </tr>\n",
       "    <tr>\n",
       "      <th>8</th>\n",
       "      <td>Pasa \\ por \\ A(2, 3)\\  y \\ forma \\ 45 \\ grados...</td>\n",
       "      <td>[(1, -2), 'y=0', 120]</td>\n",
       "      <td>\\frac{x}{3} + y - \\frac{11}{3} = 0</td>\n",
       "      <td>Hallar la recta r que:</td>\n",
       "      <td>1BC</td>\n",
       "      <td>25 - Geometría Plana</td>\n",
       "      <td>p050e07,8y28</td>\n",
       "      <td>1</td>\n",
       "      <td>2</td>\n",
       "      <td>1</td>\n",
       "      <td>True</td>\n",
       "      <td>True</td>\n",
       "    </tr>\n",
       "    <tr>\n",
       "      <th>9</th>\n",
       "      <td>Pasa \\ por \\ A(1, 2)\\  y \\ forma \\ 45 \\ grados...</td>\n",
       "      <td>[(1, -2), 'y=0', 120]</td>\n",
       "      <td>\\frac{x}{3} + y - \\frac{7}{3} = 0</td>\n",
       "      <td>Hallar la recta r que:</td>\n",
       "      <td>1BC</td>\n",
       "      <td>25 - Geometría Plana</td>\n",
       "      <td>p050e07,8y28</td>\n",
       "      <td>1</td>\n",
       "      <td>2</td>\n",
       "      <td>1</td>\n",
       "      <td>True</td>\n",
       "      <td>True</td>\n",
       "    </tr>\n",
       "    <tr>\n",
       "      <th>10</th>\n",
       "      <td>Pasa \\ por \\ A(1, -2)\\  y \\ forma \\ 120 \\ grad...</td>\n",
       "      <td>[(1, -2), 'y=0', 120]</td>\n",
       "      <td>\\sqrt{3} x + y - \\sqrt{3} + 2 = 0</td>\n",
       "      <td>Hallar la recta r que:</td>\n",
       "      <td>1BC</td>\n",
       "      <td>25 - Geometría Plana</td>\n",
       "      <td>p050e07,8y28</td>\n",
       "      <td>1</td>\n",
       "      <td>2</td>\n",
       "      <td>1</td>\n",
       "      <td>True</td>\n",
       "      <td>True</td>\n",
       "    </tr>\n",
       "    <tr>\n",
       "      <th>11</th>\n",
       "      <td>A(4, 0)\\  , \\ B=(6, 2) \\ y \\  C \\in r\\equiv 3...</td>\n",
       "      <td>[(4, 0), (6, 2), '3x+y-1=0']</td>\n",
       "      <td>\\left [ \\left \\{ x : - \\frac{5}{2}, \\quad y : ...</td>\n",
       "      <td>Calcula el vértice C de un triángulo isósceles...</td>\n",
       "      <td>1BC</td>\n",
       "      <td>25 - Geometría Plana</td>\n",
       "      <td>p051e20</td>\n",
       "      <td>1</td>\n",
       "      <td>1</td>\n",
       "      <td>1</td>\n",
       "      <td>True</td>\n",
       "      <td>True</td>\n",
       "    </tr>\n",
       "    <tr>\n",
       "      <th>12</th>\n",
       "      <td>A(2, 5) \\ y \\   r\\equiv 5x+y=2</td>\n",
       "      <td>[(2, 5), '5x+y=2']</td>\n",
       "      <td>\\left [ - x + 5 y - 23, \\quad Point2D(-1/2, 9/...</td>\n",
       "      <td>Determinar el punto simétrico al punto y respe...</td>\n",
       "      <td>1BC</td>\n",
       "      <td>25 - Geometría Plana</td>\n",
       "      <td>p051e21</td>\n",
       "      <td>1</td>\n",
       "      <td>1</td>\n",
       "      <td>1</td>\n",
       "      <td>True</td>\n",
       "      <td>True</td>\n",
       "    </tr>\n",
       "    <tr>\n",
       "      <th>13</th>\n",
       "      <td>r\\equiv 4x-3y=0</td>\n",
       "      <td>4x-3y=0</td>\n",
       "      <td>\\frac{\\left|{4 x - 3 y}\\right|}{5} - 1 = 0</td>\n",
       "      <td>Hallar la ecuación de la recta paralela y que ...</td>\n",
       "      <td>1BC</td>\n",
       "      <td>25 - Geometría Plana</td>\n",
       "      <td>p051e23</td>\n",
       "      <td>1</td>\n",
       "      <td>1</td>\n",
       "      <td>1</td>\n",
       "      <td>True</td>\n",
       "      <td>True</td>\n",
       "    </tr>\n",
       "    <tr>\n",
       "      <th>14</th>\n",
       "      <td>A=(1, -3)\\ y \\ B=(4, 5)</td>\n",
       "      <td>[(1, -3), (4, 5)]</td>\n",
       "      <td>159.44395478041653</td>\n",
       "      <td>Halla el valor del ángulo que forma con el eje...</td>\n",
       "      <td>1BC</td>\n",
       "      <td>25 - Geometría Plana</td>\n",
       "      <td>p051e29</td>\n",
       "      <td>1</td>\n",
       "      <td>1</td>\n",
       "      <td>1</td>\n",
       "      <td>True</td>\n",
       "      <td>True</td>\n",
       "    </tr>\n",
       "    <tr>\n",
       "      <th>15</th>\n",
       "      <td>A=(-1, 1), \\ B=(1, 4),\\  y \\ C=(2, -3)</td>\n",
       "      <td>[(0, -1), (2, 0), (1, 1)]</td>\n",
       "      <td>\\frac{17}{2}</td>\n",
       "      <td>Calcula el área del triángulo de vértices:</td>\n",
       "      <td>1BC</td>\n",
       "      <td>25 - Geometría Plana</td>\n",
       "      <td>p051e33y58</td>\n",
       "      <td>1</td>\n",
       "      <td>1</td>\n",
       "      <td>1</td>\n",
       "      <td>True</td>\n",
       "      <td>True</td>\n",
       "    </tr>\n",
       "    <tr>\n",
       "      <th>16</th>\n",
       "      <td>A=(0, -1), \\ B=(2, 0),\\  y \\ C=(1, 1)</td>\n",
       "      <td>[(0, -1), (2, 0), (1, 1)]</td>\n",
       "      <td>\\frac{3}{2}</td>\n",
       "      <td>Calcula el área del triángulo de vértices:</td>\n",
       "      <td>1BC</td>\n",
       "      <td>25 - Geometría Plana</td>\n",
       "      <td>p051e33y58</td>\n",
       "      <td>1</td>\n",
       "      <td>1</td>\n",
       "      <td>1</td>\n",
       "      <td>True</td>\n",
       "      <td>True</td>\n",
       "    </tr>\n",
       "    <tr>\n",
       "      <th>17</th>\n",
       "      <td>A=(1, 0), \\ B=(-2, 5),\\  y \\ C=(-1, -3)</td>\n",
       "      <td>[(1, 0), (-2, 5), (-1, -3)]</td>\n",
       "      <td>\\left ( \\left [ \\frac{19 x}{65} - \\frac{152 y}...</td>\n",
       "      <td>Hallar las ecuaciones de las alturas y las coo...</td>\n",
       "      <td>1BC</td>\n",
       "      <td>25 - Geometría Plana</td>\n",
       "      <td>p051e35</td>\n",
       "      <td>1</td>\n",
       "      <td>1</td>\n",
       "      <td>1</td>\n",
       "      <td>True</td>\n",
       "      <td>True</td>\n",
       "    </tr>\n",
       "    <tr>\n",
       "      <th>18</th>\n",
       "      <td>A=(3, 5)</td>\n",
       "      <td>(3, 5)</td>\n",
       "      <td>x + y - 8 = 0</td>\n",
       "      <td>Hallar la ecuación de la recta paralela a la b...</td>\n",
       "      <td>1BC</td>\n",
       "      <td>25 - Geometría Plana</td>\n",
       "      <td>p051e38</td>\n",
       "      <td>1</td>\n",
       "      <td>1</td>\n",
       "      <td>1</td>\n",
       "      <td>True</td>\n",
       "      <td>True</td>\n",
       "    </tr>\n",
       "    <tr>\n",
       "      <th>19</th>\n",
       "      <td>A=(4, -2)\\ y \\ B=(10, 0)</td>\n",
       "      <td>[(4, -2), (10, 0)]</td>\n",
       "      <td>\\left [ \\left \\{ x : 10, \\quad y : -10\\right \\...</td>\n",
       "      <td>Hallar el punto de la bisectriz de los cuadran...</td>\n",
       "      <td>1BC</td>\n",
       "      <td>25 - Geometría Plana</td>\n",
       "      <td>p051e45</td>\n",
       "      <td>1</td>\n",
       "      <td>1</td>\n",
       "      <td>1</td>\n",
       "      <td>True</td>\n",
       "      <td>True</td>\n",
       "    </tr>\n",
       "    <tr>\n",
       "      <th>20</th>\n",
       "      <td>A=(2, -1), \\ B=(-5, 1),\\  y \\ C=(0, 3)</td>\n",
       "      <td>[(2, -1), (-5, 1), (0, 3)]</td>\n",
       "      <td>\\left [ \\frac{24 \\sqrt{53}}{53}, \\quad 12\\right ]</td>\n",
       "      <td>Hallar la longitud de la altura del triángulo ...</td>\n",
       "      <td>1BC</td>\n",
       "      <td>25 - Geometría Plana</td>\n",
       "      <td>p052e46</td>\n",
       "      <td>1</td>\n",
       "      <td>1</td>\n",
       "      <td>1</td>\n",
       "      <td>True</td>\n",
       "      <td>True</td>\n",
       "    </tr>\n",
       "    <tr>\n",
       "      <th>21</th>\n",
       "      <td>Pasen \\ por \\ A=(1, -2), \\ y \\  disten \\ 2 \\ d...</td>\n",
       "      <td>[(1, -2), (3, 1)]</td>\n",
       "      <td>\\left [ - \\frac{5 x}{12} + y + \\frac{29}{12} =...</td>\n",
       "      <td>Hallar las ecuaciones de las rectas de pendien...</td>\n",
       "      <td>1BC</td>\n",
       "      <td>25 - Geometría Plana</td>\n",
       "      <td>p052e47</td>\n",
       "      <td>1</td>\n",
       "      <td>1</td>\n",
       "      <td>1</td>\n",
       "      <td>True</td>\n",
       "      <td>True</td>\n",
       "    </tr>\n",
       "    <tr>\n",
       "      <th>22</th>\n",
       "      <td>A=(2, -3), \\ B=(-2, -2),\\  y \\ C=(0, 3)</td>\n",
       "      <td>[(2, -3), (-2, -2), (0, 3)]</td>\n",
       "      <td>\\left [ - \\frac{7 x}{2} - 3 y - 2 = 0, \\quad -...</td>\n",
       "      <td>Dado el triángulo, hallar la mediana correspon...</td>\n",
       "      <td>1BC</td>\n",
       "      <td>25 - Geometría Plana</td>\n",
       "      <td>p052e57</td>\n",
       "      <td>1</td>\n",
       "      <td>1</td>\n",
       "      <td>1</td>\n",
       "      <td>True</td>\n",
       "      <td>True</td>\n",
       "    </tr>\n",
       "    <tr>\n",
       "      <th>23</th>\n",
       "      <td>6\\ unidades \\ cuadradas, \\ siendo \\ A=(2, 1), ...</td>\n",
       "      <td>[6, (2, 1), (-3, 5), (4, m)]</td>\n",
       "      <td>\\left [ -3\\right ]</td>\n",
       "      <td>Determina el valor de m para que el área del t...</td>\n",
       "      <td>1BC</td>\n",
       "      <td>25 - Geometría Plana</td>\n",
       "      <td>p052e58</td>\n",
       "      <td>1</td>\n",
       "      <td>1</td>\n",
       "      <td>1</td>\n",
       "      <td>True</td>\n",
       "      <td>True</td>\n",
       "    </tr>\n",
       "  </tbody>\n",
       "</table>\n",
       "</div>"
      ],
      "text/plain": [
       "                                      enunciado_latex  \\\n",
       "0              A(-1, 3) \\ y \\overrightarrow{u}=(2, 5)   \n",
       "1                                           3x+2y+8=0   \n",
       "2                         \\frac{x-1}{3}=\\frac{2-y}{1}   \n",
       "3                                                 y=5   \n",
       "4                A=(2, 1), \\ B=(1, 2),\\  y \\ C=(3, 3)   \n",
       "5                             A=(0, m)\\  y \\ B=(1, 2)   \n",
       "6              r\\equiv4x-y-1=0\\  y \\ s\\equiv2x+7y-6=0   \n",
       "7              r\\equiv-x+2y+1=0\\  y \\ s\\equiv3x+y+5=0   \n",
       "8   Pasa \\ por \\ A(2, 3)\\  y \\ forma \\ 45 \\ grados...   \n",
       "9   Pasa \\ por \\ A(1, 2)\\  y \\ forma \\ 45 \\ grados...   \n",
       "10  Pasa \\ por \\ A(1, -2)\\  y \\ forma \\ 120 \\ grad...   \n",
       "11   A(4, 0)\\  , \\ B=(6, 2) \\ y \\  C \\in r\\equiv 3...   \n",
       "12                     A(2, 5) \\ y \\   r\\equiv 5x+y=2   \n",
       "13                                    r\\equiv 4x-3y=0   \n",
       "14                            A=(1, -3)\\ y \\ B=(4, 5)   \n",
       "15             A=(-1, 1), \\ B=(1, 4),\\  y \\ C=(2, -3)   \n",
       "16              A=(0, -1), \\ B=(2, 0),\\  y \\ C=(1, 1)   \n",
       "17            A=(1, 0), \\ B=(-2, 5),\\  y \\ C=(-1, -3)   \n",
       "18                                           A=(3, 5)   \n",
       "19                           A=(4, -2)\\ y \\ B=(10, 0)   \n",
       "20             A=(2, -1), \\ B=(-5, 1),\\  y \\ C=(0, 3)   \n",
       "21  Pasen \\ por \\ A=(1, -2), \\ y \\  disten \\ 2 \\ d...   \n",
       "22            A=(2, -3), \\ B=(-2, -2),\\  y \\ C=(0, 3)   \n",
       "23  6\\ unidades \\ cuadradas, \\ siendo \\ A=(2, 1), ...   \n",
       "\n",
       "                       enunciado  \\\n",
       "0              [(-1, 3), (2, 5)]   \n",
       "1                       Eq(y, 5)   \n",
       "2                       Eq(y, 5)   \n",
       "3                       Eq(y, 5)   \n",
       "4       [(2, 1), (1, 2), (3, 3)]   \n",
       "5               [(0, m), (1, 2)]   \n",
       "6      ['-x+2y+1=0', '3x+y+5=0']   \n",
       "7      ['-x+2y+1=0', '3x+y+5=0']   \n",
       "8          [(1, -2), 'y=0', 120]   \n",
       "9          [(1, -2), 'y=0', 120]   \n",
       "10         [(1, -2), 'y=0', 120]   \n",
       "11  [(4, 0), (6, 2), '3x+y-1=0']   \n",
       "12            [(2, 5), '5x+y=2']   \n",
       "13                       4x-3y=0   \n",
       "14             [(1, -3), (4, 5)]   \n",
       "15     [(0, -1), (2, 0), (1, 1)]   \n",
       "16     [(0, -1), (2, 0), (1, 1)]   \n",
       "17   [(1, 0), (-2, 5), (-1, -3)]   \n",
       "18                        (3, 5)   \n",
       "19            [(4, -2), (10, 0)]   \n",
       "20    [(2, -1), (-5, 1), (0, 3)]   \n",
       "21             [(1, -2), (3, 1)]   \n",
       "22   [(2, -3), (-2, -2), (0, 3)]   \n",
       "23  [6, (2, 1), (-3, 5), (4, m)]   \n",
       "\n",
       "                                             solucion  \\\n",
       "0   - 5 x + 2 y - 11 = 0 \\ y \\ Point2D(2*t - 1, 5*...   \n",
       "1                 (Point2D(1, -3/2), Point2D(3/2, 1))   \n",
       "2                 (Point2D(1, -1/3), Point2D(1/3, 1))   \n",
       "3                      (Point2D(1, 0), Point2D(0, 1))   \n",
       "4                                                True   \n",
       "5                                                 [2]   \n",
       "6                                   91.90915243299638   \n",
       "7                                   98.13010235415598   \n",
       "8                  \\frac{x}{3} + y - \\frac{11}{3} = 0   \n",
       "9                   \\frac{x}{3} + y - \\frac{7}{3} = 0   \n",
       "10                  \\sqrt{3} x + y - \\sqrt{3} + 2 = 0   \n",
       "11  \\left [ \\left \\{ x : - \\frac{5}{2}, \\quad y : ...   \n",
       "12  \\left [ - x + 5 y - 23, \\quad Point2D(-1/2, 9/...   \n",
       "13         \\frac{\\left|{4 x - 3 y}\\right|}{5} - 1 = 0   \n",
       "14                                 159.44395478041653   \n",
       "15                                       \\frac{17}{2}   \n",
       "16                                        \\frac{3}{2}   \n",
       "17  \\left ( \\left [ \\frac{19 x}{65} - \\frac{152 y}...   \n",
       "18                                      x + y - 8 = 0   \n",
       "19  \\left [ \\left \\{ x : 10, \\quad y : -10\\right \\...   \n",
       "20  \\left [ \\frac{24 \\sqrt{53}}{53}, \\quad 12\\right ]   \n",
       "21  \\left [ - \\frac{5 x}{12} + y + \\frac{29}{12} =...   \n",
       "22  \\left [ - \\frac{7 x}{2} - 3 y - 2 = 0, \\quad -...   \n",
       "23                                 \\left [ -3\\right ]   \n",
       "\n",
       "                                                texto curso  \\\n",
       "0   Hallar las ecuaciones paramétricas, continua, ...   1BC   \n",
       "1   Halla un vector direccional y un vector perpen...   1BC   \n",
       "2   Halla un vector direccional y un vector perpen...   1BC   \n",
       "3   Halla un vector direccional y un vector perpen...   1BC   \n",
       "4   Comprobar que es isósceles el triángulo de vér...   1BC   \n",
       "5   Determinar m con la condición de que disten 1 ...   1BC   \n",
       "6        Determinar el ángulo formado por las rectas:   1BC   \n",
       "7        Determinar el ángulo formado por las rectas:   1BC   \n",
       "8                              Hallar la recta r que:   1BC   \n",
       "9                              Hallar la recta r que:   1BC   \n",
       "10                             Hallar la recta r que:   1BC   \n",
       "11  Calcula el vértice C de un triángulo isósceles...   1BC   \n",
       "12  Determinar el punto simétrico al punto y respe...   1BC   \n",
       "13  Hallar la ecuación de la recta paralela y que ...   1BC   \n",
       "14  Halla el valor del ángulo que forma con el eje...   1BC   \n",
       "15         Calcula el área del triángulo de vértices:   1BC   \n",
       "16         Calcula el área del triángulo de vértices:   1BC   \n",
       "17  Hallar las ecuaciones de las alturas y las coo...   1BC   \n",
       "18  Hallar la ecuación de la recta paralela a la b...   1BC   \n",
       "19  Hallar el punto de la bisectriz de los cuadran...   1BC   \n",
       "20  Hallar la longitud de la altura del triángulo ...   1BC   \n",
       "21  Hallar las ecuaciones de las rectas de pendien...   1BC   \n",
       "22  Dado el triángulo, hallar la mediana correspon...   1BC   \n",
       "23  Determina el valor de m para que el área del t...   1BC   \n",
       "\n",
       "                  titulo   n_ejercicio  dificultad  n_columnas  puntos  \\\n",
       "0   25 - Geometría Plana       p050e01           1           2       1   \n",
       "1   25 - Geometría Plana       p050e02           1           2       1   \n",
       "2   25 - Geometría Plana       p050e02           1           2       1   \n",
       "3   25 - Geometría Plana       p050e02           1           2       1   \n",
       "4   25 - Geometría Plana       p050e04           1           2       1   \n",
       "5   25 - Geometría Plana       p050e05           1           2       1   \n",
       "6   25 - Geometría Plana       p050e06           1           2       1   \n",
       "7   25 - Geometría Plana       p050e06           1           2       1   \n",
       "8   25 - Geometría Plana  p050e07,8y28           1           2       1   \n",
       "9   25 - Geometría Plana  p050e07,8y28           1           2       1   \n",
       "10  25 - Geometría Plana  p050e07,8y28           1           2       1   \n",
       "11  25 - Geometría Plana       p051e20           1           1       1   \n",
       "12  25 - Geometría Plana       p051e21           1           1       1   \n",
       "13  25 - Geometría Plana       p051e23           1           1       1   \n",
       "14  25 - Geometría Plana       p051e29           1           1       1   \n",
       "15  25 - Geometría Plana    p051e33y58           1           1       1   \n",
       "16  25 - Geometría Plana    p051e33y58           1           1       1   \n",
       "17  25 - Geometría Plana       p051e35           1           1       1   \n",
       "18  25 - Geometría Plana       p051e38           1           1       1   \n",
       "19  25 - Geometría Plana       p051e45           1           1       1   \n",
       "20  25 - Geometría Plana       p052e46           1           1       1   \n",
       "21  25 - Geometría Plana       p052e47           1           1       1   \n",
       "22  25 - Geometría Plana       p052e57           1           1       1   \n",
       "23  25 - Geometría Plana       p052e58           1           1       1   \n",
       "\n",
       "    enun_tex  sol_tex  \n",
       "0       True     True  \n",
       "1       True     True  \n",
       "2       True     True  \n",
       "3       True     True  \n",
       "4       True     True  \n",
       "5       True     True  \n",
       "6       True     True  \n",
       "7       True     True  \n",
       "8       True     True  \n",
       "9       True     True  \n",
       "10      True     True  \n",
       "11      True     True  \n",
       "12      True     True  \n",
       "13      True     True  \n",
       "14      True     True  \n",
       "15      True     True  \n",
       "16      True     True  \n",
       "17      True     True  \n",
       "18      True     True  \n",
       "19      True     True  \n",
       "20      True     True  \n",
       "21      True     True  \n",
       "22      True     True  \n",
       "23      True     True  "
      ]
     },
     "execution_count": 30,
     "metadata": {},
     "output_type": "execute_result"
    }
   ],
   "source": [
    "df_ejercicios"
   ]
  },
  {
   "cell_type": "code",
   "execution_count": 31,
   "metadata": {},
   "outputs": [
    {
     "data": {
      "text/markdown": [
       "**Ejercicio: **p050e01"
      ],
      "text/plain": [
       "<IPython.core.display.Markdown object>"
      ]
     },
     "metadata": {},
     "output_type": "display_data"
    },
    {
     "data": {
      "text/html": [
       "<div>\n",
       "<style scoped>\n",
       "    .dataframe tbody tr th:only-of-type {\n",
       "        vertical-align: middle;\n",
       "    }\n",
       "\n",
       "    .dataframe tbody tr th {\n",
       "        vertical-align: top;\n",
       "    }\n",
       "\n",
       "    .dataframe thead th {\n",
       "        text-align: right;\n",
       "    }\n",
       "</style>\n",
       "<table border=\"1\" class=\"dataframe\">\n",
       "  <thead>\n",
       "    <tr style=\"text-align: right;\">\n",
       "      <th></th>\n",
       "      <th>enunciado_latex</th>\n",
       "      <th>enunciado</th>\n",
       "      <th>solucion</th>\n",
       "      <th>texto</th>\n",
       "      <th>curso</th>\n",
       "      <th>titulo</th>\n",
       "      <th>n_ejercicio</th>\n",
       "      <th>dificultad</th>\n",
       "      <th>n_columnas</th>\n",
       "      <th>puntos</th>\n",
       "      <th>enun_tex</th>\n",
       "      <th>sol_tex</th>\n",
       "    </tr>\n",
       "  </thead>\n",
       "  <tbody>\n",
       "    <tr>\n",
       "      <th>0</th>\n",
       "      <td>A(-1, 3) \\ y \\overrightarrow{u}=(2, 5)</td>\n",
       "      <td>[(-1, 3), (2, 5)]</td>\n",
       "      <td>- 5 x + 2 y - 11 = 0 \\ y \\ Point2D(2*t - 1, 5*...</td>\n",
       "      <td>Hallar las ecuaciones paramétricas, continua, ...</td>\n",
       "      <td>1BC</td>\n",
       "      <td>25 - Geometría Plana</td>\n",
       "      <td>p050e01</td>\n",
       "      <td>1</td>\n",
       "      <td>2</td>\n",
       "      <td>1</td>\n",
       "      <td>True</td>\n",
       "      <td>True</td>\n",
       "    </tr>\n",
       "  </tbody>\n",
       "</table>\n",
       "</div>"
      ],
      "text/plain": [
       "                          enunciado_latex          enunciado  \\\n",
       "0  A(-1, 3) \\ y \\overrightarrow{u}=(2, 5)  [(-1, 3), (2, 5)]   \n",
       "\n",
       "                                            solucion  \\\n",
       "0  - 5 x + 2 y - 11 = 0 \\ y \\ Point2D(2*t - 1, 5*...   \n",
       "\n",
       "                                               texto curso  \\\n",
       "0  Hallar las ecuaciones paramétricas, continua, ...   1BC   \n",
       "\n",
       "                 titulo n_ejercicio  dificultad  n_columnas  puntos  enun_tex  \\\n",
       "0  25 - Geometría Plana     p050e01           1           2       1      True   \n",
       "\n",
       "   sol_tex  \n",
       "0     True  "
      ]
     },
     "metadata": {},
     "output_type": "display_data"
    },
    {
     "data": {
      "text/markdown": [
       "**Ejercicio: **p050e02"
      ],
      "text/plain": [
       "<IPython.core.display.Markdown object>"
      ]
     },
     "metadata": {},
     "output_type": "display_data"
    },
    {
     "data": {
      "text/html": [
       "<div>\n",
       "<style scoped>\n",
       "    .dataframe tbody tr th:only-of-type {\n",
       "        vertical-align: middle;\n",
       "    }\n",
       "\n",
       "    .dataframe tbody tr th {\n",
       "        vertical-align: top;\n",
       "    }\n",
       "\n",
       "    .dataframe thead th {\n",
       "        text-align: right;\n",
       "    }\n",
       "</style>\n",
       "<table border=\"1\" class=\"dataframe\">\n",
       "  <thead>\n",
       "    <tr style=\"text-align: right;\">\n",
       "      <th></th>\n",
       "      <th>enunciado_latex</th>\n",
       "      <th>enunciado</th>\n",
       "      <th>solucion</th>\n",
       "      <th>texto</th>\n",
       "      <th>curso</th>\n",
       "      <th>titulo</th>\n",
       "      <th>n_ejercicio</th>\n",
       "      <th>dificultad</th>\n",
       "      <th>n_columnas</th>\n",
       "      <th>puntos</th>\n",
       "      <th>enun_tex</th>\n",
       "      <th>sol_tex</th>\n",
       "    </tr>\n",
       "  </thead>\n",
       "  <tbody>\n",
       "    <tr>\n",
       "      <th>1</th>\n",
       "      <td>3x+2y+8=0</td>\n",
       "      <td>Eq(y, 5)</td>\n",
       "      <td>(Point2D(1, -3/2), Point2D(3/2, 1))</td>\n",
       "      <td>Halla un vector direccional y un vector perpen...</td>\n",
       "      <td>1BC</td>\n",
       "      <td>25 - Geometría Plana</td>\n",
       "      <td>p050e02</td>\n",
       "      <td>1</td>\n",
       "      <td>2</td>\n",
       "      <td>1</td>\n",
       "      <td>True</td>\n",
       "      <td>True</td>\n",
       "    </tr>\n",
       "    <tr>\n",
       "      <th>2</th>\n",
       "      <td>\\frac{x-1}{3}=\\frac{2-y}{1}</td>\n",
       "      <td>Eq(y, 5)</td>\n",
       "      <td>(Point2D(1, -1/3), Point2D(1/3, 1))</td>\n",
       "      <td>Halla un vector direccional y un vector perpen...</td>\n",
       "      <td>1BC</td>\n",
       "      <td>25 - Geometría Plana</td>\n",
       "      <td>p050e02</td>\n",
       "      <td>1</td>\n",
       "      <td>2</td>\n",
       "      <td>1</td>\n",
       "      <td>True</td>\n",
       "      <td>True</td>\n",
       "    </tr>\n",
       "    <tr>\n",
       "      <th>3</th>\n",
       "      <td>y=5</td>\n",
       "      <td>Eq(y, 5)</td>\n",
       "      <td>(Point2D(1, 0), Point2D(0, 1))</td>\n",
       "      <td>Halla un vector direccional y un vector perpen...</td>\n",
       "      <td>1BC</td>\n",
       "      <td>25 - Geometría Plana</td>\n",
       "      <td>p050e02</td>\n",
       "      <td>1</td>\n",
       "      <td>2</td>\n",
       "      <td>1</td>\n",
       "      <td>True</td>\n",
       "      <td>True</td>\n",
       "    </tr>\n",
       "  </tbody>\n",
       "</table>\n",
       "</div>"
      ],
      "text/plain": [
       "               enunciado_latex enunciado                             solucion  \\\n",
       "1                    3x+2y+8=0  Eq(y, 5)  (Point2D(1, -3/2), Point2D(3/2, 1))   \n",
       "2  \\frac{x-1}{3}=\\frac{2-y}{1}  Eq(y, 5)  (Point2D(1, -1/3), Point2D(1/3, 1))   \n",
       "3                          y=5  Eq(y, 5)       (Point2D(1, 0), Point2D(0, 1))   \n",
       "\n",
       "                                               texto curso  \\\n",
       "1  Halla un vector direccional y un vector perpen...   1BC   \n",
       "2  Halla un vector direccional y un vector perpen...   1BC   \n",
       "3  Halla un vector direccional y un vector perpen...   1BC   \n",
       "\n",
       "                 titulo n_ejercicio  dificultad  n_columnas  puntos  enun_tex  \\\n",
       "1  25 - Geometría Plana     p050e02           1           2       1      True   \n",
       "2  25 - Geometría Plana     p050e02           1           2       1      True   \n",
       "3  25 - Geometría Plana     p050e02           1           2       1      True   \n",
       "\n",
       "   sol_tex  \n",
       "1     True  \n",
       "2     True  \n",
       "3     True  "
      ]
     },
     "metadata": {},
     "output_type": "display_data"
    },
    {
     "data": {
      "text/markdown": [
       "**Ejercicio: **p050e04"
      ],
      "text/plain": [
       "<IPython.core.display.Markdown object>"
      ]
     },
     "metadata": {},
     "output_type": "display_data"
    },
    {
     "data": {
      "text/html": [
       "<div>\n",
       "<style scoped>\n",
       "    .dataframe tbody tr th:only-of-type {\n",
       "        vertical-align: middle;\n",
       "    }\n",
       "\n",
       "    .dataframe tbody tr th {\n",
       "        vertical-align: top;\n",
       "    }\n",
       "\n",
       "    .dataframe thead th {\n",
       "        text-align: right;\n",
       "    }\n",
       "</style>\n",
       "<table border=\"1\" class=\"dataframe\">\n",
       "  <thead>\n",
       "    <tr style=\"text-align: right;\">\n",
       "      <th></th>\n",
       "      <th>enunciado_latex</th>\n",
       "      <th>enunciado</th>\n",
       "      <th>solucion</th>\n",
       "      <th>texto</th>\n",
       "      <th>curso</th>\n",
       "      <th>titulo</th>\n",
       "      <th>n_ejercicio</th>\n",
       "      <th>dificultad</th>\n",
       "      <th>n_columnas</th>\n",
       "      <th>puntos</th>\n",
       "      <th>enun_tex</th>\n",
       "      <th>sol_tex</th>\n",
       "    </tr>\n",
       "  </thead>\n",
       "  <tbody>\n",
       "    <tr>\n",
       "      <th>4</th>\n",
       "      <td>A=(2, 1), \\ B=(1, 2),\\  y \\ C=(3, 3)</td>\n",
       "      <td>[(2, 1), (1, 2), (3, 3)]</td>\n",
       "      <td>True</td>\n",
       "      <td>Comprobar que es isósceles el triángulo de vér...</td>\n",
       "      <td>1BC</td>\n",
       "      <td>25 - Geometría Plana</td>\n",
       "      <td>p050e04</td>\n",
       "      <td>1</td>\n",
       "      <td>2</td>\n",
       "      <td>1</td>\n",
       "      <td>True</td>\n",
       "      <td>True</td>\n",
       "    </tr>\n",
       "  </tbody>\n",
       "</table>\n",
       "</div>"
      ],
      "text/plain": [
       "                        enunciado_latex                 enunciado solucion  \\\n",
       "4  A=(2, 1), \\ B=(1, 2),\\  y \\ C=(3, 3)  [(2, 1), (1, 2), (3, 3)]     True   \n",
       "\n",
       "                                               texto curso  \\\n",
       "4  Comprobar que es isósceles el triángulo de vér...   1BC   \n",
       "\n",
       "                 titulo n_ejercicio  dificultad  n_columnas  puntos  enun_tex  \\\n",
       "4  25 - Geometría Plana     p050e04           1           2       1      True   \n",
       "\n",
       "   sol_tex  \n",
       "4     True  "
      ]
     },
     "metadata": {},
     "output_type": "display_data"
    },
    {
     "data": {
      "text/markdown": [
       "**Ejercicio: **p050e05"
      ],
      "text/plain": [
       "<IPython.core.display.Markdown object>"
      ]
     },
     "metadata": {},
     "output_type": "display_data"
    },
    {
     "data": {
      "text/html": [
       "<div>\n",
       "<style scoped>\n",
       "    .dataframe tbody tr th:only-of-type {\n",
       "        vertical-align: middle;\n",
       "    }\n",
       "\n",
       "    .dataframe tbody tr th {\n",
       "        vertical-align: top;\n",
       "    }\n",
       "\n",
       "    .dataframe thead th {\n",
       "        text-align: right;\n",
       "    }\n",
       "</style>\n",
       "<table border=\"1\" class=\"dataframe\">\n",
       "  <thead>\n",
       "    <tr style=\"text-align: right;\">\n",
       "      <th></th>\n",
       "      <th>enunciado_latex</th>\n",
       "      <th>enunciado</th>\n",
       "      <th>solucion</th>\n",
       "      <th>texto</th>\n",
       "      <th>curso</th>\n",
       "      <th>titulo</th>\n",
       "      <th>n_ejercicio</th>\n",
       "      <th>dificultad</th>\n",
       "      <th>n_columnas</th>\n",
       "      <th>puntos</th>\n",
       "      <th>enun_tex</th>\n",
       "      <th>sol_tex</th>\n",
       "    </tr>\n",
       "  </thead>\n",
       "  <tbody>\n",
       "    <tr>\n",
       "      <th>5</th>\n",
       "      <td>A=(0, m)\\  y \\ B=(1, 2)</td>\n",
       "      <td>[(0, m), (1, 2)]</td>\n",
       "      <td>[2]</td>\n",
       "      <td>Determinar m con la condición de que disten 1 ...</td>\n",
       "      <td>1BC</td>\n",
       "      <td>25 - Geometría Plana</td>\n",
       "      <td>p050e05</td>\n",
       "      <td>1</td>\n",
       "      <td>2</td>\n",
       "      <td>1</td>\n",
       "      <td>True</td>\n",
       "      <td>True</td>\n",
       "    </tr>\n",
       "  </tbody>\n",
       "</table>\n",
       "</div>"
      ],
      "text/plain": [
       "           enunciado_latex         enunciado solucion  \\\n",
       "5  A=(0, m)\\  y \\ B=(1, 2)  [(0, m), (1, 2)]      [2]   \n",
       "\n",
       "                                               texto curso  \\\n",
       "5  Determinar m con la condición de que disten 1 ...   1BC   \n",
       "\n",
       "                 titulo n_ejercicio  dificultad  n_columnas  puntos  enun_tex  \\\n",
       "5  25 - Geometría Plana     p050e05           1           2       1      True   \n",
       "\n",
       "   sol_tex  \n",
       "5     True  "
      ]
     },
     "metadata": {},
     "output_type": "display_data"
    },
    {
     "data": {
      "text/markdown": [
       "**Ejercicio: **p050e06"
      ],
      "text/plain": [
       "<IPython.core.display.Markdown object>"
      ]
     },
     "metadata": {},
     "output_type": "display_data"
    },
    {
     "data": {
      "text/html": [
       "<div>\n",
       "<style scoped>\n",
       "    .dataframe tbody tr th:only-of-type {\n",
       "        vertical-align: middle;\n",
       "    }\n",
       "\n",
       "    .dataframe tbody tr th {\n",
       "        vertical-align: top;\n",
       "    }\n",
       "\n",
       "    .dataframe thead th {\n",
       "        text-align: right;\n",
       "    }\n",
       "</style>\n",
       "<table border=\"1\" class=\"dataframe\">\n",
       "  <thead>\n",
       "    <tr style=\"text-align: right;\">\n",
       "      <th></th>\n",
       "      <th>enunciado_latex</th>\n",
       "      <th>enunciado</th>\n",
       "      <th>solucion</th>\n",
       "      <th>texto</th>\n",
       "      <th>curso</th>\n",
       "      <th>titulo</th>\n",
       "      <th>n_ejercicio</th>\n",
       "      <th>dificultad</th>\n",
       "      <th>n_columnas</th>\n",
       "      <th>puntos</th>\n",
       "      <th>enun_tex</th>\n",
       "      <th>sol_tex</th>\n",
       "    </tr>\n",
       "  </thead>\n",
       "  <tbody>\n",
       "    <tr>\n",
       "      <th>6</th>\n",
       "      <td>r\\equiv4x-y-1=0\\  y \\ s\\equiv2x+7y-6=0</td>\n",
       "      <td>['-x+2y+1=0', '3x+y+5=0']</td>\n",
       "      <td>91.90915243299638</td>\n",
       "      <td>Determinar el ángulo formado por las rectas:</td>\n",
       "      <td>1BC</td>\n",
       "      <td>25 - Geometría Plana</td>\n",
       "      <td>p050e06</td>\n",
       "      <td>1</td>\n",
       "      <td>2</td>\n",
       "      <td>1</td>\n",
       "      <td>True</td>\n",
       "      <td>True</td>\n",
       "    </tr>\n",
       "    <tr>\n",
       "      <th>7</th>\n",
       "      <td>r\\equiv-x+2y+1=0\\  y \\ s\\equiv3x+y+5=0</td>\n",
       "      <td>['-x+2y+1=0', '3x+y+5=0']</td>\n",
       "      <td>98.13010235415598</td>\n",
       "      <td>Determinar el ángulo formado por las rectas:</td>\n",
       "      <td>1BC</td>\n",
       "      <td>25 - Geometría Plana</td>\n",
       "      <td>p050e06</td>\n",
       "      <td>1</td>\n",
       "      <td>2</td>\n",
       "      <td>1</td>\n",
       "      <td>True</td>\n",
       "      <td>True</td>\n",
       "    </tr>\n",
       "  </tbody>\n",
       "</table>\n",
       "</div>"
      ],
      "text/plain": [
       "                          enunciado_latex                  enunciado  \\\n",
       "6  r\\equiv4x-y-1=0\\  y \\ s\\equiv2x+7y-6=0  ['-x+2y+1=0', '3x+y+5=0']   \n",
       "7  r\\equiv-x+2y+1=0\\  y \\ s\\equiv3x+y+5=0  ['-x+2y+1=0', '3x+y+5=0']   \n",
       "\n",
       "            solucion                                         texto curso  \\\n",
       "6  91.90915243299638  Determinar el ángulo formado por las rectas:   1BC   \n",
       "7  98.13010235415598  Determinar el ángulo formado por las rectas:   1BC   \n",
       "\n",
       "                 titulo n_ejercicio  dificultad  n_columnas  puntos  enun_tex  \\\n",
       "6  25 - Geometría Plana     p050e06           1           2       1      True   \n",
       "7  25 - Geometría Plana     p050e06           1           2       1      True   \n",
       "\n",
       "   sol_tex  \n",
       "6     True  \n",
       "7     True  "
      ]
     },
     "metadata": {},
     "output_type": "display_data"
    },
    {
     "data": {
      "text/markdown": [
       "**Ejercicio: **p050e07,8y28"
      ],
      "text/plain": [
       "<IPython.core.display.Markdown object>"
      ]
     },
     "metadata": {},
     "output_type": "display_data"
    },
    {
     "data": {
      "text/html": [
       "<div>\n",
       "<style scoped>\n",
       "    .dataframe tbody tr th:only-of-type {\n",
       "        vertical-align: middle;\n",
       "    }\n",
       "\n",
       "    .dataframe tbody tr th {\n",
       "        vertical-align: top;\n",
       "    }\n",
       "\n",
       "    .dataframe thead th {\n",
       "        text-align: right;\n",
       "    }\n",
       "</style>\n",
       "<table border=\"1\" class=\"dataframe\">\n",
       "  <thead>\n",
       "    <tr style=\"text-align: right;\">\n",
       "      <th></th>\n",
       "      <th>enunciado_latex</th>\n",
       "      <th>enunciado</th>\n",
       "      <th>solucion</th>\n",
       "      <th>texto</th>\n",
       "      <th>curso</th>\n",
       "      <th>titulo</th>\n",
       "      <th>n_ejercicio</th>\n",
       "      <th>dificultad</th>\n",
       "      <th>n_columnas</th>\n",
       "      <th>puntos</th>\n",
       "      <th>enun_tex</th>\n",
       "      <th>sol_tex</th>\n",
       "    </tr>\n",
       "  </thead>\n",
       "  <tbody>\n",
       "    <tr>\n",
       "      <th>8</th>\n",
       "      <td>Pasa \\ por \\ A(2, 3)\\  y \\ forma \\ 45 \\ grados...</td>\n",
       "      <td>[(1, -2), 'y=0', 120]</td>\n",
       "      <td>\\frac{x}{3} + y - \\frac{11}{3} = 0</td>\n",
       "      <td>Hallar la recta r que:</td>\n",
       "      <td>1BC</td>\n",
       "      <td>25 - Geometría Plana</td>\n",
       "      <td>p050e07,8y28</td>\n",
       "      <td>1</td>\n",
       "      <td>2</td>\n",
       "      <td>1</td>\n",
       "      <td>True</td>\n",
       "      <td>True</td>\n",
       "    </tr>\n",
       "    <tr>\n",
       "      <th>9</th>\n",
       "      <td>Pasa \\ por \\ A(1, 2)\\  y \\ forma \\ 45 \\ grados...</td>\n",
       "      <td>[(1, -2), 'y=0', 120]</td>\n",
       "      <td>\\frac{x}{3} + y - \\frac{7}{3} = 0</td>\n",
       "      <td>Hallar la recta r que:</td>\n",
       "      <td>1BC</td>\n",
       "      <td>25 - Geometría Plana</td>\n",
       "      <td>p050e07,8y28</td>\n",
       "      <td>1</td>\n",
       "      <td>2</td>\n",
       "      <td>1</td>\n",
       "      <td>True</td>\n",
       "      <td>True</td>\n",
       "    </tr>\n",
       "    <tr>\n",
       "      <th>10</th>\n",
       "      <td>Pasa \\ por \\ A(1, -2)\\  y \\ forma \\ 120 \\ grad...</td>\n",
       "      <td>[(1, -2), 'y=0', 120]</td>\n",
       "      <td>\\sqrt{3} x + y - \\sqrt{3} + 2 = 0</td>\n",
       "      <td>Hallar la recta r que:</td>\n",
       "      <td>1BC</td>\n",
       "      <td>25 - Geometría Plana</td>\n",
       "      <td>p050e07,8y28</td>\n",
       "      <td>1</td>\n",
       "      <td>2</td>\n",
       "      <td>1</td>\n",
       "      <td>True</td>\n",
       "      <td>True</td>\n",
       "    </tr>\n",
       "  </tbody>\n",
       "</table>\n",
       "</div>"
      ],
      "text/plain": [
       "                                      enunciado_latex              enunciado  \\\n",
       "8   Pasa \\ por \\ A(2, 3)\\  y \\ forma \\ 45 \\ grados...  [(1, -2), 'y=0', 120]   \n",
       "9   Pasa \\ por \\ A(1, 2)\\  y \\ forma \\ 45 \\ grados...  [(1, -2), 'y=0', 120]   \n",
       "10  Pasa \\ por \\ A(1, -2)\\  y \\ forma \\ 120 \\ grad...  [(1, -2), 'y=0', 120]   \n",
       "\n",
       "                              solucion                   texto curso  \\\n",
       "8   \\frac{x}{3} + y - \\frac{11}{3} = 0  Hallar la recta r que:   1BC   \n",
       "9    \\frac{x}{3} + y - \\frac{7}{3} = 0  Hallar la recta r que:   1BC   \n",
       "10   \\sqrt{3} x + y - \\sqrt{3} + 2 = 0  Hallar la recta r que:   1BC   \n",
       "\n",
       "                  titulo   n_ejercicio  dificultad  n_columnas  puntos  \\\n",
       "8   25 - Geometría Plana  p050e07,8y28           1           2       1   \n",
       "9   25 - Geometría Plana  p050e07,8y28           1           2       1   \n",
       "10  25 - Geometría Plana  p050e07,8y28           1           2       1   \n",
       "\n",
       "    enun_tex  sol_tex  \n",
       "8       True     True  \n",
       "9       True     True  \n",
       "10      True     True  "
      ]
     },
     "metadata": {},
     "output_type": "display_data"
    },
    {
     "data": {
      "text/markdown": [
       "**Ejercicio: **p051e20"
      ],
      "text/plain": [
       "<IPython.core.display.Markdown object>"
      ]
     },
     "metadata": {},
     "output_type": "display_data"
    },
    {
     "data": {
      "text/html": [
       "<div>\n",
       "<style scoped>\n",
       "    .dataframe tbody tr th:only-of-type {\n",
       "        vertical-align: middle;\n",
       "    }\n",
       "\n",
       "    .dataframe tbody tr th {\n",
       "        vertical-align: top;\n",
       "    }\n",
       "\n",
       "    .dataframe thead th {\n",
       "        text-align: right;\n",
       "    }\n",
       "</style>\n",
       "<table border=\"1\" class=\"dataframe\">\n",
       "  <thead>\n",
       "    <tr style=\"text-align: right;\">\n",
       "      <th></th>\n",
       "      <th>enunciado_latex</th>\n",
       "      <th>enunciado</th>\n",
       "      <th>solucion</th>\n",
       "      <th>texto</th>\n",
       "      <th>curso</th>\n",
       "      <th>titulo</th>\n",
       "      <th>n_ejercicio</th>\n",
       "      <th>dificultad</th>\n",
       "      <th>n_columnas</th>\n",
       "      <th>puntos</th>\n",
       "      <th>enun_tex</th>\n",
       "      <th>sol_tex</th>\n",
       "    </tr>\n",
       "  </thead>\n",
       "  <tbody>\n",
       "    <tr>\n",
       "      <th>11</th>\n",
       "      <td>A(4, 0)\\  , \\ B=(6, 2) \\ y \\  C \\in r\\equiv 3...</td>\n",
       "      <td>[(4, 0), (6, 2), '3x+y-1=0']</td>\n",
       "      <td>\\left [ \\left \\{ x : - \\frac{5}{2}, \\quad y : ...</td>\n",
       "      <td>Calcula el vértice C de un triángulo isósceles...</td>\n",
       "      <td>1BC</td>\n",
       "      <td>25 - Geometría Plana</td>\n",
       "      <td>p051e20</td>\n",
       "      <td>1</td>\n",
       "      <td>1</td>\n",
       "      <td>1</td>\n",
       "      <td>True</td>\n",
       "      <td>True</td>\n",
       "    </tr>\n",
       "  </tbody>\n",
       "</table>\n",
       "</div>"
      ],
      "text/plain": [
       "                                      enunciado_latex  \\\n",
       "11   A(4, 0)\\  , \\ B=(6, 2) \\ y \\  C \\in r\\equiv 3...   \n",
       "\n",
       "                       enunciado  \\\n",
       "11  [(4, 0), (6, 2), '3x+y-1=0']   \n",
       "\n",
       "                                             solucion  \\\n",
       "11  \\left [ \\left \\{ x : - \\frac{5}{2}, \\quad y : ...   \n",
       "\n",
       "                                                texto curso  \\\n",
       "11  Calcula el vértice C de un triángulo isósceles...   1BC   \n",
       "\n",
       "                  titulo n_ejercicio  dificultad  n_columnas  puntos  \\\n",
       "11  25 - Geometría Plana     p051e20           1           1       1   \n",
       "\n",
       "    enun_tex  sol_tex  \n",
       "11      True     True  "
      ]
     },
     "metadata": {},
     "output_type": "display_data"
    },
    {
     "data": {
      "text/markdown": [
       "**Ejercicio: **p051e21"
      ],
      "text/plain": [
       "<IPython.core.display.Markdown object>"
      ]
     },
     "metadata": {},
     "output_type": "display_data"
    },
    {
     "data": {
      "text/html": [
       "<div>\n",
       "<style scoped>\n",
       "    .dataframe tbody tr th:only-of-type {\n",
       "        vertical-align: middle;\n",
       "    }\n",
       "\n",
       "    .dataframe tbody tr th {\n",
       "        vertical-align: top;\n",
       "    }\n",
       "\n",
       "    .dataframe thead th {\n",
       "        text-align: right;\n",
       "    }\n",
       "</style>\n",
       "<table border=\"1\" class=\"dataframe\">\n",
       "  <thead>\n",
       "    <tr style=\"text-align: right;\">\n",
       "      <th></th>\n",
       "      <th>enunciado_latex</th>\n",
       "      <th>enunciado</th>\n",
       "      <th>solucion</th>\n",
       "      <th>texto</th>\n",
       "      <th>curso</th>\n",
       "      <th>titulo</th>\n",
       "      <th>n_ejercicio</th>\n",
       "      <th>dificultad</th>\n",
       "      <th>n_columnas</th>\n",
       "      <th>puntos</th>\n",
       "      <th>enun_tex</th>\n",
       "      <th>sol_tex</th>\n",
       "    </tr>\n",
       "  </thead>\n",
       "  <tbody>\n",
       "    <tr>\n",
       "      <th>12</th>\n",
       "      <td>A(2, 5) \\ y \\   r\\equiv 5x+y=2</td>\n",
       "      <td>[(2, 5), '5x+y=2']</td>\n",
       "      <td>\\left [ - x + 5 y - 23, \\quad Point2D(-1/2, 9/...</td>\n",
       "      <td>Determinar el punto simétrico al punto y respe...</td>\n",
       "      <td>1BC</td>\n",
       "      <td>25 - Geometría Plana</td>\n",
       "      <td>p051e21</td>\n",
       "      <td>1</td>\n",
       "      <td>1</td>\n",
       "      <td>1</td>\n",
       "      <td>True</td>\n",
       "      <td>True</td>\n",
       "    </tr>\n",
       "  </tbody>\n",
       "</table>\n",
       "</div>"
      ],
      "text/plain": [
       "                    enunciado_latex           enunciado  \\\n",
       "12   A(2, 5) \\ y \\   r\\equiv 5x+y=2  [(2, 5), '5x+y=2']   \n",
       "\n",
       "                                             solucion  \\\n",
       "12  \\left [ - x + 5 y - 23, \\quad Point2D(-1/2, 9/...   \n",
       "\n",
       "                                                texto curso  \\\n",
       "12  Determinar el punto simétrico al punto y respe...   1BC   \n",
       "\n",
       "                  titulo n_ejercicio  dificultad  n_columnas  puntos  \\\n",
       "12  25 - Geometría Plana     p051e21           1           1       1   \n",
       "\n",
       "    enun_tex  sol_tex  \n",
       "12      True     True  "
      ]
     },
     "metadata": {},
     "output_type": "display_data"
    },
    {
     "data": {
      "text/markdown": [
       "**Ejercicio: **p051e23"
      ],
      "text/plain": [
       "<IPython.core.display.Markdown object>"
      ]
     },
     "metadata": {},
     "output_type": "display_data"
    },
    {
     "data": {
      "text/html": [
       "<div>\n",
       "<style scoped>\n",
       "    .dataframe tbody tr th:only-of-type {\n",
       "        vertical-align: middle;\n",
       "    }\n",
       "\n",
       "    .dataframe tbody tr th {\n",
       "        vertical-align: top;\n",
       "    }\n",
       "\n",
       "    .dataframe thead th {\n",
       "        text-align: right;\n",
       "    }\n",
       "</style>\n",
       "<table border=\"1\" class=\"dataframe\">\n",
       "  <thead>\n",
       "    <tr style=\"text-align: right;\">\n",
       "      <th></th>\n",
       "      <th>enunciado_latex</th>\n",
       "      <th>enunciado</th>\n",
       "      <th>solucion</th>\n",
       "      <th>texto</th>\n",
       "      <th>curso</th>\n",
       "      <th>titulo</th>\n",
       "      <th>n_ejercicio</th>\n",
       "      <th>dificultad</th>\n",
       "      <th>n_columnas</th>\n",
       "      <th>puntos</th>\n",
       "      <th>enun_tex</th>\n",
       "      <th>sol_tex</th>\n",
       "    </tr>\n",
       "  </thead>\n",
       "  <tbody>\n",
       "    <tr>\n",
       "      <th>13</th>\n",
       "      <td>r\\equiv 4x-3y=0</td>\n",
       "      <td>4x-3y=0</td>\n",
       "      <td>\\frac{\\left|{4 x - 3 y}\\right|}{5} - 1 = 0</td>\n",
       "      <td>Hallar la ecuación de la recta paralela y que ...</td>\n",
       "      <td>1BC</td>\n",
       "      <td>25 - Geometría Plana</td>\n",
       "      <td>p051e23</td>\n",
       "      <td>1</td>\n",
       "      <td>1</td>\n",
       "      <td>1</td>\n",
       "      <td>True</td>\n",
       "      <td>True</td>\n",
       "    </tr>\n",
       "  </tbody>\n",
       "</table>\n",
       "</div>"
      ],
      "text/plain": [
       "    enunciado_latex enunciado                                    solucion  \\\n",
       "13  r\\equiv 4x-3y=0   4x-3y=0  \\frac{\\left|{4 x - 3 y}\\right|}{5} - 1 = 0   \n",
       "\n",
       "                                                texto curso  \\\n",
       "13  Hallar la ecuación de la recta paralela y que ...   1BC   \n",
       "\n",
       "                  titulo n_ejercicio  dificultad  n_columnas  puntos  \\\n",
       "13  25 - Geometría Plana     p051e23           1           1       1   \n",
       "\n",
       "    enun_tex  sol_tex  \n",
       "13      True     True  "
      ]
     },
     "metadata": {},
     "output_type": "display_data"
    },
    {
     "data": {
      "text/markdown": [
       "**Ejercicio: **p051e29"
      ],
      "text/plain": [
       "<IPython.core.display.Markdown object>"
      ]
     },
     "metadata": {},
     "output_type": "display_data"
    },
    {
     "data": {
      "text/html": [
       "<div>\n",
       "<style scoped>\n",
       "    .dataframe tbody tr th:only-of-type {\n",
       "        vertical-align: middle;\n",
       "    }\n",
       "\n",
       "    .dataframe tbody tr th {\n",
       "        vertical-align: top;\n",
       "    }\n",
       "\n",
       "    .dataframe thead th {\n",
       "        text-align: right;\n",
       "    }\n",
       "</style>\n",
       "<table border=\"1\" class=\"dataframe\">\n",
       "  <thead>\n",
       "    <tr style=\"text-align: right;\">\n",
       "      <th></th>\n",
       "      <th>enunciado_latex</th>\n",
       "      <th>enunciado</th>\n",
       "      <th>solucion</th>\n",
       "      <th>texto</th>\n",
       "      <th>curso</th>\n",
       "      <th>titulo</th>\n",
       "      <th>n_ejercicio</th>\n",
       "      <th>dificultad</th>\n",
       "      <th>n_columnas</th>\n",
       "      <th>puntos</th>\n",
       "      <th>enun_tex</th>\n",
       "      <th>sol_tex</th>\n",
       "    </tr>\n",
       "  </thead>\n",
       "  <tbody>\n",
       "    <tr>\n",
       "      <th>14</th>\n",
       "      <td>A=(1, -3)\\ y \\ B=(4, 5)</td>\n",
       "      <td>[(1, -3), (4, 5)]</td>\n",
       "      <td>159.44395478041653</td>\n",
       "      <td>Halla el valor del ángulo que forma con el eje...</td>\n",
       "      <td>1BC</td>\n",
       "      <td>25 - Geometría Plana</td>\n",
       "      <td>p051e29</td>\n",
       "      <td>1</td>\n",
       "      <td>1</td>\n",
       "      <td>1</td>\n",
       "      <td>True</td>\n",
       "      <td>True</td>\n",
       "    </tr>\n",
       "  </tbody>\n",
       "</table>\n",
       "</div>"
      ],
      "text/plain": [
       "            enunciado_latex          enunciado            solucion  \\\n",
       "14  A=(1, -3)\\ y \\ B=(4, 5)  [(1, -3), (4, 5)]  159.44395478041653   \n",
       "\n",
       "                                                texto curso  \\\n",
       "14  Halla el valor del ángulo que forma con el eje...   1BC   \n",
       "\n",
       "                  titulo n_ejercicio  dificultad  n_columnas  puntos  \\\n",
       "14  25 - Geometría Plana     p051e29           1           1       1   \n",
       "\n",
       "    enun_tex  sol_tex  \n",
       "14      True     True  "
      ]
     },
     "metadata": {},
     "output_type": "display_data"
    },
    {
     "data": {
      "text/markdown": [
       "**Ejercicio: **p051e33y58"
      ],
      "text/plain": [
       "<IPython.core.display.Markdown object>"
      ]
     },
     "metadata": {},
     "output_type": "display_data"
    },
    {
     "data": {
      "text/html": [
       "<div>\n",
       "<style scoped>\n",
       "    .dataframe tbody tr th:only-of-type {\n",
       "        vertical-align: middle;\n",
       "    }\n",
       "\n",
       "    .dataframe tbody tr th {\n",
       "        vertical-align: top;\n",
       "    }\n",
       "\n",
       "    .dataframe thead th {\n",
       "        text-align: right;\n",
       "    }\n",
       "</style>\n",
       "<table border=\"1\" class=\"dataframe\">\n",
       "  <thead>\n",
       "    <tr style=\"text-align: right;\">\n",
       "      <th></th>\n",
       "      <th>enunciado_latex</th>\n",
       "      <th>enunciado</th>\n",
       "      <th>solucion</th>\n",
       "      <th>texto</th>\n",
       "      <th>curso</th>\n",
       "      <th>titulo</th>\n",
       "      <th>n_ejercicio</th>\n",
       "      <th>dificultad</th>\n",
       "      <th>n_columnas</th>\n",
       "      <th>puntos</th>\n",
       "      <th>enun_tex</th>\n",
       "      <th>sol_tex</th>\n",
       "    </tr>\n",
       "  </thead>\n",
       "  <tbody>\n",
       "    <tr>\n",
       "      <th>15</th>\n",
       "      <td>A=(-1, 1), \\ B=(1, 4),\\  y \\ C=(2, -3)</td>\n",
       "      <td>[(0, -1), (2, 0), (1, 1)]</td>\n",
       "      <td>\\frac{17}{2}</td>\n",
       "      <td>Calcula el área del triángulo de vértices:</td>\n",
       "      <td>1BC</td>\n",
       "      <td>25 - Geometría Plana</td>\n",
       "      <td>p051e33y58</td>\n",
       "      <td>1</td>\n",
       "      <td>1</td>\n",
       "      <td>1</td>\n",
       "      <td>True</td>\n",
       "      <td>True</td>\n",
       "    </tr>\n",
       "    <tr>\n",
       "      <th>16</th>\n",
       "      <td>A=(0, -1), \\ B=(2, 0),\\  y \\ C=(1, 1)</td>\n",
       "      <td>[(0, -1), (2, 0), (1, 1)]</td>\n",
       "      <td>\\frac{3}{2}</td>\n",
       "      <td>Calcula el área del triángulo de vértices:</td>\n",
       "      <td>1BC</td>\n",
       "      <td>25 - Geometría Plana</td>\n",
       "      <td>p051e33y58</td>\n",
       "      <td>1</td>\n",
       "      <td>1</td>\n",
       "      <td>1</td>\n",
       "      <td>True</td>\n",
       "      <td>True</td>\n",
       "    </tr>\n",
       "  </tbody>\n",
       "</table>\n",
       "</div>"
      ],
      "text/plain": [
       "                           enunciado_latex                  enunciado  \\\n",
       "15  A=(-1, 1), \\ B=(1, 4),\\  y \\ C=(2, -3)  [(0, -1), (2, 0), (1, 1)]   \n",
       "16   A=(0, -1), \\ B=(2, 0),\\  y \\ C=(1, 1)  [(0, -1), (2, 0), (1, 1)]   \n",
       "\n",
       "        solucion                                       texto curso  \\\n",
       "15  \\frac{17}{2}  Calcula el área del triángulo de vértices:   1BC   \n",
       "16   \\frac{3}{2}  Calcula el área del triángulo de vértices:   1BC   \n",
       "\n",
       "                  titulo n_ejercicio  dificultad  n_columnas  puntos  \\\n",
       "15  25 - Geometría Plana  p051e33y58           1           1       1   \n",
       "16  25 - Geometría Plana  p051e33y58           1           1       1   \n",
       "\n",
       "    enun_tex  sol_tex  \n",
       "15      True     True  \n",
       "16      True     True  "
      ]
     },
     "metadata": {},
     "output_type": "display_data"
    },
    {
     "data": {
      "text/markdown": [
       "**Ejercicio: **p051e35"
      ],
      "text/plain": [
       "<IPython.core.display.Markdown object>"
      ]
     },
     "metadata": {},
     "output_type": "display_data"
    },
    {
     "data": {
      "text/html": [
       "<div>\n",
       "<style scoped>\n",
       "    .dataframe tbody tr th:only-of-type {\n",
       "        vertical-align: middle;\n",
       "    }\n",
       "\n",
       "    .dataframe tbody tr th {\n",
       "        vertical-align: top;\n",
       "    }\n",
       "\n",
       "    .dataframe thead th {\n",
       "        text-align: right;\n",
       "    }\n",
       "</style>\n",
       "<table border=\"1\" class=\"dataframe\">\n",
       "  <thead>\n",
       "    <tr style=\"text-align: right;\">\n",
       "      <th></th>\n",
       "      <th>enunciado_latex</th>\n",
       "      <th>enunciado</th>\n",
       "      <th>solucion</th>\n",
       "      <th>texto</th>\n",
       "      <th>curso</th>\n",
       "      <th>titulo</th>\n",
       "      <th>n_ejercicio</th>\n",
       "      <th>dificultad</th>\n",
       "      <th>n_columnas</th>\n",
       "      <th>puntos</th>\n",
       "      <th>enun_tex</th>\n",
       "      <th>sol_tex</th>\n",
       "    </tr>\n",
       "  </thead>\n",
       "  <tbody>\n",
       "    <tr>\n",
       "      <th>17</th>\n",
       "      <td>A=(1, 0), \\ B=(-2, 5),\\  y \\ C=(-1, -3)</td>\n",
       "      <td>[(1, 0), (-2, 5), (-1, -3)]</td>\n",
       "      <td>\\left ( \\left [ \\frac{19 x}{65} - \\frac{152 y}...</td>\n",
       "      <td>Hallar las ecuaciones de las alturas y las coo...</td>\n",
       "      <td>1BC</td>\n",
       "      <td>25 - Geometría Plana</td>\n",
       "      <td>p051e35</td>\n",
       "      <td>1</td>\n",
       "      <td>1</td>\n",
       "      <td>1</td>\n",
       "      <td>True</td>\n",
       "      <td>True</td>\n",
       "    </tr>\n",
       "  </tbody>\n",
       "</table>\n",
       "</div>"
      ],
      "text/plain": [
       "                            enunciado_latex                    enunciado  \\\n",
       "17  A=(1, 0), \\ B=(-2, 5),\\  y \\ C=(-1, -3)  [(1, 0), (-2, 5), (-1, -3)]   \n",
       "\n",
       "                                             solucion  \\\n",
       "17  \\left ( \\left [ \\frac{19 x}{65} - \\frac{152 y}...   \n",
       "\n",
       "                                                texto curso  \\\n",
       "17  Hallar las ecuaciones de las alturas y las coo...   1BC   \n",
       "\n",
       "                  titulo n_ejercicio  dificultad  n_columnas  puntos  \\\n",
       "17  25 - Geometría Plana     p051e35           1           1       1   \n",
       "\n",
       "    enun_tex  sol_tex  \n",
       "17      True     True  "
      ]
     },
     "metadata": {},
     "output_type": "display_data"
    },
    {
     "data": {
      "text/markdown": [
       "**Ejercicio: **p051e38"
      ],
      "text/plain": [
       "<IPython.core.display.Markdown object>"
      ]
     },
     "metadata": {},
     "output_type": "display_data"
    },
    {
     "data": {
      "text/html": [
       "<div>\n",
       "<style scoped>\n",
       "    .dataframe tbody tr th:only-of-type {\n",
       "        vertical-align: middle;\n",
       "    }\n",
       "\n",
       "    .dataframe tbody tr th {\n",
       "        vertical-align: top;\n",
       "    }\n",
       "\n",
       "    .dataframe thead th {\n",
       "        text-align: right;\n",
       "    }\n",
       "</style>\n",
       "<table border=\"1\" class=\"dataframe\">\n",
       "  <thead>\n",
       "    <tr style=\"text-align: right;\">\n",
       "      <th></th>\n",
       "      <th>enunciado_latex</th>\n",
       "      <th>enunciado</th>\n",
       "      <th>solucion</th>\n",
       "      <th>texto</th>\n",
       "      <th>curso</th>\n",
       "      <th>titulo</th>\n",
       "      <th>n_ejercicio</th>\n",
       "      <th>dificultad</th>\n",
       "      <th>n_columnas</th>\n",
       "      <th>puntos</th>\n",
       "      <th>enun_tex</th>\n",
       "      <th>sol_tex</th>\n",
       "    </tr>\n",
       "  </thead>\n",
       "  <tbody>\n",
       "    <tr>\n",
       "      <th>18</th>\n",
       "      <td>A=(3, 5)</td>\n",
       "      <td>(3, 5)</td>\n",
       "      <td>x + y - 8 = 0</td>\n",
       "      <td>Hallar la ecuación de la recta paralela a la b...</td>\n",
       "      <td>1BC</td>\n",
       "      <td>25 - Geometría Plana</td>\n",
       "      <td>p051e38</td>\n",
       "      <td>1</td>\n",
       "      <td>1</td>\n",
       "      <td>1</td>\n",
       "      <td>True</td>\n",
       "      <td>True</td>\n",
       "    </tr>\n",
       "  </tbody>\n",
       "</table>\n",
       "</div>"
      ],
      "text/plain": [
       "   enunciado_latex enunciado       solucion  \\\n",
       "18        A=(3, 5)    (3, 5)  x + y - 8 = 0   \n",
       "\n",
       "                                                texto curso  \\\n",
       "18  Hallar la ecuación de la recta paralela a la b...   1BC   \n",
       "\n",
       "                  titulo n_ejercicio  dificultad  n_columnas  puntos  \\\n",
       "18  25 - Geometría Plana     p051e38           1           1       1   \n",
       "\n",
       "    enun_tex  sol_tex  \n",
       "18      True     True  "
      ]
     },
     "metadata": {},
     "output_type": "display_data"
    },
    {
     "data": {
      "text/markdown": [
       "**Ejercicio: **p051e45"
      ],
      "text/plain": [
       "<IPython.core.display.Markdown object>"
      ]
     },
     "metadata": {},
     "output_type": "display_data"
    },
    {
     "data": {
      "text/html": [
       "<div>\n",
       "<style scoped>\n",
       "    .dataframe tbody tr th:only-of-type {\n",
       "        vertical-align: middle;\n",
       "    }\n",
       "\n",
       "    .dataframe tbody tr th {\n",
       "        vertical-align: top;\n",
       "    }\n",
       "\n",
       "    .dataframe thead th {\n",
       "        text-align: right;\n",
       "    }\n",
       "</style>\n",
       "<table border=\"1\" class=\"dataframe\">\n",
       "  <thead>\n",
       "    <tr style=\"text-align: right;\">\n",
       "      <th></th>\n",
       "      <th>enunciado_latex</th>\n",
       "      <th>enunciado</th>\n",
       "      <th>solucion</th>\n",
       "      <th>texto</th>\n",
       "      <th>curso</th>\n",
       "      <th>titulo</th>\n",
       "      <th>n_ejercicio</th>\n",
       "      <th>dificultad</th>\n",
       "      <th>n_columnas</th>\n",
       "      <th>puntos</th>\n",
       "      <th>enun_tex</th>\n",
       "      <th>sol_tex</th>\n",
       "    </tr>\n",
       "  </thead>\n",
       "  <tbody>\n",
       "    <tr>\n",
       "      <th>19</th>\n",
       "      <td>A=(4, -2)\\ y \\ B=(10, 0)</td>\n",
       "      <td>[(4, -2), (10, 0)]</td>\n",
       "      <td>\\left [ \\left \\{ x : 10, \\quad y : -10\\right \\...</td>\n",
       "      <td>Hallar el punto de la bisectriz de los cuadran...</td>\n",
       "      <td>1BC</td>\n",
       "      <td>25 - Geometría Plana</td>\n",
       "      <td>p051e45</td>\n",
       "      <td>1</td>\n",
       "      <td>1</td>\n",
       "      <td>1</td>\n",
       "      <td>True</td>\n",
       "      <td>True</td>\n",
       "    </tr>\n",
       "  </tbody>\n",
       "</table>\n",
       "</div>"
      ],
      "text/plain": [
       "             enunciado_latex           enunciado  \\\n",
       "19  A=(4, -2)\\ y \\ B=(10, 0)  [(4, -2), (10, 0)]   \n",
       "\n",
       "                                             solucion  \\\n",
       "19  \\left [ \\left \\{ x : 10, \\quad y : -10\\right \\...   \n",
       "\n",
       "                                                texto curso  \\\n",
       "19  Hallar el punto de la bisectriz de los cuadran...   1BC   \n",
       "\n",
       "                  titulo n_ejercicio  dificultad  n_columnas  puntos  \\\n",
       "19  25 - Geometría Plana     p051e45           1           1       1   \n",
       "\n",
       "    enun_tex  sol_tex  \n",
       "19      True     True  "
      ]
     },
     "metadata": {},
     "output_type": "display_data"
    },
    {
     "data": {
      "text/markdown": [
       "**Ejercicio: **p052e46"
      ],
      "text/plain": [
       "<IPython.core.display.Markdown object>"
      ]
     },
     "metadata": {},
     "output_type": "display_data"
    },
    {
     "data": {
      "text/html": [
       "<div>\n",
       "<style scoped>\n",
       "    .dataframe tbody tr th:only-of-type {\n",
       "        vertical-align: middle;\n",
       "    }\n",
       "\n",
       "    .dataframe tbody tr th {\n",
       "        vertical-align: top;\n",
       "    }\n",
       "\n",
       "    .dataframe thead th {\n",
       "        text-align: right;\n",
       "    }\n",
       "</style>\n",
       "<table border=\"1\" class=\"dataframe\">\n",
       "  <thead>\n",
       "    <tr style=\"text-align: right;\">\n",
       "      <th></th>\n",
       "      <th>enunciado_latex</th>\n",
       "      <th>enunciado</th>\n",
       "      <th>solucion</th>\n",
       "      <th>texto</th>\n",
       "      <th>curso</th>\n",
       "      <th>titulo</th>\n",
       "      <th>n_ejercicio</th>\n",
       "      <th>dificultad</th>\n",
       "      <th>n_columnas</th>\n",
       "      <th>puntos</th>\n",
       "      <th>enun_tex</th>\n",
       "      <th>sol_tex</th>\n",
       "    </tr>\n",
       "  </thead>\n",
       "  <tbody>\n",
       "    <tr>\n",
       "      <th>20</th>\n",
       "      <td>A=(2, -1), \\ B=(-5, 1),\\  y \\ C=(0, 3)</td>\n",
       "      <td>[(2, -1), (-5, 1), (0, 3)]</td>\n",
       "      <td>\\left [ \\frac{24 \\sqrt{53}}{53}, \\quad 12\\right ]</td>\n",
       "      <td>Hallar la longitud de la altura del triángulo ...</td>\n",
       "      <td>1BC</td>\n",
       "      <td>25 - Geometría Plana</td>\n",
       "      <td>p052e46</td>\n",
       "      <td>1</td>\n",
       "      <td>1</td>\n",
       "      <td>1</td>\n",
       "      <td>True</td>\n",
       "      <td>True</td>\n",
       "    </tr>\n",
       "  </tbody>\n",
       "</table>\n",
       "</div>"
      ],
      "text/plain": [
       "                           enunciado_latex                   enunciado  \\\n",
       "20  A=(2, -1), \\ B=(-5, 1),\\  y \\ C=(0, 3)  [(2, -1), (-5, 1), (0, 3)]   \n",
       "\n",
       "                                             solucion  \\\n",
       "20  \\left [ \\frac{24 \\sqrt{53}}{53}, \\quad 12\\right ]   \n",
       "\n",
       "                                                texto curso  \\\n",
       "20  Hallar la longitud de la altura del triángulo ...   1BC   \n",
       "\n",
       "                  titulo n_ejercicio  dificultad  n_columnas  puntos  \\\n",
       "20  25 - Geometría Plana     p052e46           1           1       1   \n",
       "\n",
       "    enun_tex  sol_tex  \n",
       "20      True     True  "
      ]
     },
     "metadata": {},
     "output_type": "display_data"
    },
    {
     "data": {
      "text/markdown": [
       "**Ejercicio: **p052e47"
      ],
      "text/plain": [
       "<IPython.core.display.Markdown object>"
      ]
     },
     "metadata": {},
     "output_type": "display_data"
    },
    {
     "data": {
      "text/html": [
       "<div>\n",
       "<style scoped>\n",
       "    .dataframe tbody tr th:only-of-type {\n",
       "        vertical-align: middle;\n",
       "    }\n",
       "\n",
       "    .dataframe tbody tr th {\n",
       "        vertical-align: top;\n",
       "    }\n",
       "\n",
       "    .dataframe thead th {\n",
       "        text-align: right;\n",
       "    }\n",
       "</style>\n",
       "<table border=\"1\" class=\"dataframe\">\n",
       "  <thead>\n",
       "    <tr style=\"text-align: right;\">\n",
       "      <th></th>\n",
       "      <th>enunciado_latex</th>\n",
       "      <th>enunciado</th>\n",
       "      <th>solucion</th>\n",
       "      <th>texto</th>\n",
       "      <th>curso</th>\n",
       "      <th>titulo</th>\n",
       "      <th>n_ejercicio</th>\n",
       "      <th>dificultad</th>\n",
       "      <th>n_columnas</th>\n",
       "      <th>puntos</th>\n",
       "      <th>enun_tex</th>\n",
       "      <th>sol_tex</th>\n",
       "    </tr>\n",
       "  </thead>\n",
       "  <tbody>\n",
       "    <tr>\n",
       "      <th>21</th>\n",
       "      <td>Pasen \\ por \\ A=(1, -2), \\ y \\  disten \\ 2 \\ d...</td>\n",
       "      <td>[(1, -2), (3, 1)]</td>\n",
       "      <td>\\left [ - \\frac{5 x}{12} + y + \\frac{29}{12} =...</td>\n",
       "      <td>Hallar las ecuaciones de las rectas de pendien...</td>\n",
       "      <td>1BC</td>\n",
       "      <td>25 - Geometría Plana</td>\n",
       "      <td>p052e47</td>\n",
       "      <td>1</td>\n",
       "      <td>1</td>\n",
       "      <td>1</td>\n",
       "      <td>True</td>\n",
       "      <td>True</td>\n",
       "    </tr>\n",
       "  </tbody>\n",
       "</table>\n",
       "</div>"
      ],
      "text/plain": [
       "                                      enunciado_latex          enunciado  \\\n",
       "21  Pasen \\ por \\ A=(1, -2), \\ y \\  disten \\ 2 \\ d...  [(1, -2), (3, 1)]   \n",
       "\n",
       "                                             solucion  \\\n",
       "21  \\left [ - \\frac{5 x}{12} + y + \\frac{29}{12} =...   \n",
       "\n",
       "                                                texto curso  \\\n",
       "21  Hallar las ecuaciones de las rectas de pendien...   1BC   \n",
       "\n",
       "                  titulo n_ejercicio  dificultad  n_columnas  puntos  \\\n",
       "21  25 - Geometría Plana     p052e47           1           1       1   \n",
       "\n",
       "    enun_tex  sol_tex  \n",
       "21      True     True  "
      ]
     },
     "metadata": {},
     "output_type": "display_data"
    },
    {
     "data": {
      "text/markdown": [
       "**Ejercicio: **p052e57"
      ],
      "text/plain": [
       "<IPython.core.display.Markdown object>"
      ]
     },
     "metadata": {},
     "output_type": "display_data"
    },
    {
     "data": {
      "text/html": [
       "<div>\n",
       "<style scoped>\n",
       "    .dataframe tbody tr th:only-of-type {\n",
       "        vertical-align: middle;\n",
       "    }\n",
       "\n",
       "    .dataframe tbody tr th {\n",
       "        vertical-align: top;\n",
       "    }\n",
       "\n",
       "    .dataframe thead th {\n",
       "        text-align: right;\n",
       "    }\n",
       "</style>\n",
       "<table border=\"1\" class=\"dataframe\">\n",
       "  <thead>\n",
       "    <tr style=\"text-align: right;\">\n",
       "      <th></th>\n",
       "      <th>enunciado_latex</th>\n",
       "      <th>enunciado</th>\n",
       "      <th>solucion</th>\n",
       "      <th>texto</th>\n",
       "      <th>curso</th>\n",
       "      <th>titulo</th>\n",
       "      <th>n_ejercicio</th>\n",
       "      <th>dificultad</th>\n",
       "      <th>n_columnas</th>\n",
       "      <th>puntos</th>\n",
       "      <th>enun_tex</th>\n",
       "      <th>sol_tex</th>\n",
       "    </tr>\n",
       "  </thead>\n",
       "  <tbody>\n",
       "    <tr>\n",
       "      <th>22</th>\n",
       "      <td>A=(2, -3), \\ B=(-2, -2),\\  y \\ C=(0, 3)</td>\n",
       "      <td>[(2, -3), (-2, -2), (0, 3)]</td>\n",
       "      <td>\\left [ - \\frac{7 x}{2} - 3 y - 2 = 0, \\quad -...</td>\n",
       "      <td>Dado el triángulo, hallar la mediana correspon...</td>\n",
       "      <td>1BC</td>\n",
       "      <td>25 - Geometría Plana</td>\n",
       "      <td>p052e57</td>\n",
       "      <td>1</td>\n",
       "      <td>1</td>\n",
       "      <td>1</td>\n",
       "      <td>True</td>\n",
       "      <td>True</td>\n",
       "    </tr>\n",
       "  </tbody>\n",
       "</table>\n",
       "</div>"
      ],
      "text/plain": [
       "                            enunciado_latex                    enunciado  \\\n",
       "22  A=(2, -3), \\ B=(-2, -2),\\  y \\ C=(0, 3)  [(2, -3), (-2, -2), (0, 3)]   \n",
       "\n",
       "                                             solucion  \\\n",
       "22  \\left [ - \\frac{7 x}{2} - 3 y - 2 = 0, \\quad -...   \n",
       "\n",
       "                                                texto curso  \\\n",
       "22  Dado el triángulo, hallar la mediana correspon...   1BC   \n",
       "\n",
       "                  titulo n_ejercicio  dificultad  n_columnas  puntos  \\\n",
       "22  25 - Geometría Plana     p052e57           1           1       1   \n",
       "\n",
       "    enun_tex  sol_tex  \n",
       "22      True     True  "
      ]
     },
     "metadata": {},
     "output_type": "display_data"
    },
    {
     "data": {
      "text/markdown": [
       "**Ejercicio: **p052e58"
      ],
      "text/plain": [
       "<IPython.core.display.Markdown object>"
      ]
     },
     "metadata": {},
     "output_type": "display_data"
    },
    {
     "data": {
      "text/html": [
       "<div>\n",
       "<style scoped>\n",
       "    .dataframe tbody tr th:only-of-type {\n",
       "        vertical-align: middle;\n",
       "    }\n",
       "\n",
       "    .dataframe tbody tr th {\n",
       "        vertical-align: top;\n",
       "    }\n",
       "\n",
       "    .dataframe thead th {\n",
       "        text-align: right;\n",
       "    }\n",
       "</style>\n",
       "<table border=\"1\" class=\"dataframe\">\n",
       "  <thead>\n",
       "    <tr style=\"text-align: right;\">\n",
       "      <th></th>\n",
       "      <th>enunciado_latex</th>\n",
       "      <th>enunciado</th>\n",
       "      <th>solucion</th>\n",
       "      <th>texto</th>\n",
       "      <th>curso</th>\n",
       "      <th>titulo</th>\n",
       "      <th>n_ejercicio</th>\n",
       "      <th>dificultad</th>\n",
       "      <th>n_columnas</th>\n",
       "      <th>puntos</th>\n",
       "      <th>enun_tex</th>\n",
       "      <th>sol_tex</th>\n",
       "    </tr>\n",
       "  </thead>\n",
       "  <tbody>\n",
       "    <tr>\n",
       "      <th>23</th>\n",
       "      <td>6\\ unidades \\ cuadradas, \\ siendo \\ A=(2, 1), ...</td>\n",
       "      <td>[6, (2, 1), (-3, 5), (4, m)]</td>\n",
       "      <td>\\left [ -3\\right ]</td>\n",
       "      <td>Determina el valor de m para que el área del t...</td>\n",
       "      <td>1BC</td>\n",
       "      <td>25 - Geometría Plana</td>\n",
       "      <td>p052e58</td>\n",
       "      <td>1</td>\n",
       "      <td>1</td>\n",
       "      <td>1</td>\n",
       "      <td>True</td>\n",
       "      <td>True</td>\n",
       "    </tr>\n",
       "  </tbody>\n",
       "</table>\n",
       "</div>"
      ],
      "text/plain": [
       "                                      enunciado_latex  \\\n",
       "23  6\\ unidades \\ cuadradas, \\ siendo \\ A=(2, 1), ...   \n",
       "\n",
       "                       enunciado            solucion  \\\n",
       "23  [6, (2, 1), (-3, 5), (4, m)]  \\left [ -3\\right ]   \n",
       "\n",
       "                                                texto curso  \\\n",
       "23  Determina el valor de m para que el área del t...   1BC   \n",
       "\n",
       "                  titulo n_ejercicio  dificultad  n_columnas  puntos  \\\n",
       "23  25 - Geometría Plana     p052e58           1           1       1   \n",
       "\n",
       "    enun_tex  sol_tex  \n",
       "23      True     True  "
      ]
     },
     "metadata": {},
     "output_type": "display_data"
    }
   ],
   "source": [
    "escribir_preambulo(fichero, titulo, 'ejercicios')\n",
    "for s in df_ejercicios.groupby('n_ejercicio').count().index : \n",
    "    display(md(\"**Ejercicio: **\" + s ))\n",
    "    display(df_ejercicios[df_ejercicios.n_ejercicio == s])\n",
    "    escribir_ejercicios(df_ejercicios[df_ejercicios.n_ejercicio == s],fichero)\n",
    "\n",
    "escribir_fin(fichero)"
   ]
  }
 ],
 "metadata": {
  "kernelspec": {
   "display_name": "Python 3",
   "language": "python",
   "name": "python3"
  },
  "language_info": {
   "codemirror_mode": {
    "name": "ipython",
    "version": 3
   },
   "file_extension": ".py",
   "mimetype": "text/x-python",
   "name": "python",
   "nbconvert_exporter": "python",
   "pygments_lexer": "ipython3",
   "version": "3.6.5"
  }
 },
 "nbformat": 4,
 "nbformat_minor": 2
}
