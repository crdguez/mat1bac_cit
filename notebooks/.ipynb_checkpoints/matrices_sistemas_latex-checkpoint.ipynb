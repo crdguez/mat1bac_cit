{
 "cells": [
  {
   "cell_type": "code",
   "execution_count": 35,
   "metadata": {
    "colab": {
     "base_uri": "https://localhost:8080/"
    },
    "executionInfo": {
     "elapsed": 315,
     "status": "ok",
     "timestamp": 1638181637640,
     "user": {
      "displayName": "CARLOS RODRÍGUEZ JASO",
      "photoUrl": "https://lh3.googleusercontent.com/a-/AOh14GjZayzfSayxeweeJkLqc21NPJmvPQY-gKWxSFB8=s64",
      "userId": "17709739924633349187"
     },
     "user_tz": -60
    },
    "id": "JNcEQh9TYNXv",
    "outputId": "4440a2ca-7f18-45e3-bd57-c66d1a6d4449"
   },
   "outputs": [
    {
     "name": "stdout",
     "output_type": "stream",
     "text": [
      "IPython console for SymPy 1.3 (Python 3.7.12-64-bit) (ground types: python)\n",
      "\n",
      "These commands were executed:\n",
      ">>> from __future__ import division\n",
      ">>> from sympy import *\n",
      ">>> x, y, z, t = symbols('x y z t')\n",
      ">>> k, m, n = symbols('k m n', integer=True)\n",
      ">>> f, g, h = symbols('f g h', cls=Function)\n",
      ">>> init_printing()\n",
      "\n",
      "Documentation can be found at http://docs.sympy.org/1.3/\n",
      "\n"
     ]
    }
   ],
   "source": [
    "from sympy import *\n",
    "\n",
    "init_session()"
   ]
  },
  {
   "cell_type": "code",
   "execution_count": 58,
   "metadata": {
    "executionInfo": {
     "elapsed": 227,
     "status": "ok",
     "timestamp": 1638181967875,
     "user": {
      "displayName": "CARLOS RODRÍGUEZ JASO",
      "photoUrl": "https://lh3.googleusercontent.com/a-/AOh14GjZayzfSayxeweeJkLqc21NPJmvPQY-gKWxSFB8=s64",
      "userId": "17709739924633349187"
     },
     "user_tz": -60
    },
    "id": "UjzPvFjLYYy6"
   },
   "outputs": [],
   "source": [
    "def sistema_a_latex(sist) :\n",
    "    \"\"\"\n",
    "    Convierte un sistema Sympy a código LaTeX\n",
    "    \"\"\"\n",
    "    sist_latex = r\"$\\left\\{ \\begin{matrix}\"\n",
    "    for e in sist:\n",
    "        sist_latex += latex(e)+r\" \\\\ \"  \n",
    "    sist_latex += r\"\\end{matrix}\\right.$\"\n",
    "    return(sist_latex)\n",
    "\n",
    "def matriz_a_sistema(M) :\n",
    "  \"\"\"\n",
    "  Convierte una matriz a sistema. Es la función inversa a linear_eq_to_matrix(sist,[x, y, z])\n",
    "  \"\"\"\n",
    "  A,b = M[:,:-1], M.col(-1)\n",
    "  return [Eq((A*Matrix([[x],[y],[z]])).row(i)[0],b.row(i)[0]) for i in range(b.rows)]\n",
    "\n",
    "\n",
    "def mi_gauss(M) :\n",
    "    return(M, M.LUdecomposition()[1].applyfunc(nsimplify),M[:,:-1].LUsolve(M.col(-1)).applyfunc(simplify))\n",
    "\n",
    "\n"
   ]
  },
  {
   "cell_type": "code",
   "execution_count": 37,
   "metadata": {
    "colab": {
     "base_uri": "https://localhost:8080/",
     "height": 440
    },
    "executionInfo": {
     "elapsed": 302,
     "status": "ok",
     "timestamp": 1638181638349,
     "user": {
      "displayName": "CARLOS RODRÍGUEZ JASO",
      "photoUrl": "https://lh3.googleusercontent.com/a-/AOh14GjZayzfSayxeweeJkLqc21NPJmvPQY-gKWxSFB8=s64",
      "userId": "17709739924633349187"
     },
     "user_tz": -60
    },
    "id": "CJehQ4wNvkyo",
    "outputId": "3bdf7262-6587-4ea5-8114-ccdf2c046eed"
   },
   "outputs": [
    {
     "name": "stdout",
     "output_type": "stream",
     "text": [
      "⎡            2    2    ⎤\n",
      "⎣x - y - 3, x  + y  - 9⎦\n"
     ]
    },
    {
     "data": {
      "image/png": "[encoded data removed]",
      "text/latex": [
       "$$\\left [ \\left \\{ x : 0, \\quad y : -3\\right \\}, \\quad \\left \\{ x : 3, \\quad y : 0\\right \\}\\right ]$$"
      ],
      "text/plain": [
       "[{x: 0, y: -3}, {x: 3, y: 0}]"
      ]
     },
     "metadata": {},
     "output_type": "display_data"
    },
    {
     "name": "stdout",
     "output_type": "stream",
     "text": [
      "⎡ 2          2       2    2    ⎤\n",
      "⎣y  + (x - 3)  - 9, x  + y  - 9⎦\n"
     ]
    },
    {
     "data": {
      "image/png": "[encoded data removed]",
      "text/latex": [
       "$$\\left [ \\left \\{ x : \\frac{3}{2}, \\quad y : - \\frac{3 \\sqrt{3}}{2}\\right \\}, \\quad \\left \\{ x : \\frac{3}{2}, \\quad y : \\frac{3 \\sqrt{3}}{2}\\right \\}\\right ]$$"
      ],
      "text/plain": [
       "⎡⎧           -3⋅√3 ⎫  ⎧           3⋅√3⎫⎤\n",
       "⎢⎨x: 3/2, y: ──────⎬, ⎨x: 3/2, y: ────⎬⎥\n",
       "⎣⎩             2   ⎭  ⎩            2  ⎭⎦"
      ]
     },
     "metadata": {},
     "output_type": "display_data"
    },
    {
     "name": "stdout",
     "output_type": "stream",
     "text": [
      "⎡                  1   1⎤\n",
      "⎢x - y - 3, -0.7 + ─ + ─⎥\n",
      "⎣                  y   x⎦\n"
     ]
    },
    {
     "data": {
      "image/png": "[encoded data removed]",
      "text/latex": [
       "$$\\left [ \\left \\{ x : \\frac{6}{7}, \\quad y : - \\frac{15}{7}\\right \\}, \\quad \\left \\{ x : 5, \\quad y : 2\\right \\}\\right ]$$"
      ],
      "text/plain": [
       "[{x: 6/7, y: -15/7}, {x: 5, y: 2}]"
      ]
     },
     "metadata": {},
     "output_type": "display_data"
    },
    {
     "name": "stdout",
     "output_type": "stream",
     "text": [
      "[x - y - 0.166666666666667, x⋅y - 0.166666666666667]\n"
     ]
    },
    {
     "data": {
      "image/png": "[encoded data removed]",
      "text/latex": [
       "$$\\left [ \\left \\{ x : - \\frac{1}{3}, \\quad y : - \\frac{1}{2}\\right \\}, \\quad \\left \\{ x : \\frac{1}{2}, \\quad y : \\frac{1}{3}\\right \\}\\right ]$$"
      ],
      "text/plain": [
       "[{x: -1/3, y: -1/2}, {x: 1/2, y: 1/3}]"
      ]
     },
     "metadata": {},
     "output_type": "display_data"
    },
    {
     "name": "stdout",
     "output_type": "stream",
     "text": [
      "[-2⋅x⋅y + x + y, -5⋅x⋅y + x - y]\n"
     ]
    },
    {
     "data": {
      "image/png": "[encoded data removed]",
      "text/latex": [
       "$$\\left [ \\left \\{ x : - \\frac{2}{3}, \\quad y : \\frac{2}{7}\\right \\}, \\quad \\left \\{ x : 0, \\quad y : 0\\right \\}\\right ]$$"
      ],
      "text/plain": [
       "[{x: -2/3, y: 2/7}, {x: 0, y: 0}]"
      ]
     },
     "metadata": {},
     "output_type": "display_data"
    },
    {
     "name": "stdout",
     "output_type": "stream",
     "text": [
      "⎡ 2          2               ⎤\n",
      "⎣x  - x⋅y + y  - 7, x + y - 5⎦\n"
     ]
    },
    {
     "data": {
      "image/png": "[encoded data removed]",
      "text/latex": [
       "$$\\left [ \\left \\{ x : 2, \\quad y : 3\\right \\}, \\quad \\left \\{ x : 3, \\quad y : 2\\right \\}\\right ]$$"
      ],
      "text/plain": [
       "[{x: 2, y: 3}, {x: 3, y: 2}]"
      ]
     },
     "metadata": {},
     "output_type": "display_data"
    },
    {
     "name": "stdout",
     "output_type": "stream",
     "text": [
      "⎡ 2    2                 ⎤\n",
      "⎣x  + y  - 9, 2⋅x + y - 3⎦\n"
     ]
    },
    {
     "data": {
      "image/png": "[encoded data removed]",
      "text/latex": [
       "$$\\left [ \\left \\{ x : 0, \\quad y : 3\\right \\}, \\quad \\left \\{ x : \\frac{12}{5}, \\quad y : - \\frac{9}{5}\\right \\}\\right ]$$"
      ],
      "text/plain": [
       "[{x: 0, y: 3}, {x: 12/5, y: -9/5}]"
      ]
     },
     "metadata": {},
     "output_type": "display_data"
    },
    {
     "name": "stdout",
     "output_type": "stream",
     "text": [
      "[x + y - 6, x⋅y - 9]\n"
     ]
    },
    {
     "data": {
      "image/png": "[encoded data removed]",
      "text/latex": [
       "$$\\left [ \\left \\{ x : 3, \\quad y : 3\\right \\}\\right ]$$"
      ],
      "text/plain": [
       "[{x: 3, y: 3}]"
      ]
     },
     "metadata": {},
     "output_type": "display_data"
    }
   ],
   "source": [
    "# Sistemas no lineales\n",
    "\n",
    "sistemas = [[x-y-3,x**2+y**2-9],[(x-3)**2+y**2-9,x**2+y**2-9],\n",
    "            [x-y-3,1/x+1/y-7/10],[x-y-1/6,x*y-1/6],[x+y-2*x*y,x-y-5*x*y],\n",
    "            [x**2-x*y+y**2-7,x+y-5],[x**2+y**2-9,2*x+y-3],\n",
    "            [x+y-6,x*y-9]]\n",
    "\n",
    "for sist in sistemas:\n",
    "  # print(sistema_a_latex(sist))\n",
    "  pprint(sist)\n",
    "  display(solve(sist,rational=True))\n",
    "\n",
    "\n",
    "\n"
   ]
  },
  {
   "cell_type": "code",
   "execution_count": 38,
   "metadata": {
    "colab": {
     "base_uri": "https://localhost:8080/",
     "height": 35
    },
    "executionInfo": {
     "elapsed": 33,
     "status": "ok",
     "timestamp": 1638181638361,
     "user": {
      "displayName": "CARLOS RODRÍGUEZ JASO",
      "photoUrl": "https://lh3.googleusercontent.com/a-/AOh14GjZayzfSayxeweeJkLqc21NPJmvPQY-gKWxSFB8=s64",
      "userId": "17709739924633349187"
     },
     "user_tz": -60
    },
    "id": "dwPN3MvsZkEr",
    "outputId": "84b4db50-60ec-488c-f65e-856e085019c3"
   },
   "outputs": [
    {
     "data": {
      "application/vnd.google.colaboratory.intrinsic+json": {
       "type": "string"
      },
      "text/plain": [
       "'$\\\\left\\\\{ \\\\begin{matrix}10 x + 5 y = 925 \\\\\\\\ 12 x + 8 y = 1200 \\\\\\\\ 6 x + 5 y + 8 z = 861 \\\\\\\\ \\\\end{matrix}\\\\right.$'"
      ]
     },
     "execution_count": 38,
     "metadata": {},
     "output_type": "execute_result"
    }
   ],
   "source": [
    "# Ejemplo de uso: Sitema a latex\n",
    "\n",
    "sist = [Eq(10*x+5*y,925),Eq(12*x+8*y,1200), Eq(6*x+5*y+8*z,861)]\n",
    "\n",
    "sistema_a_latex(sist)"
   ]
  },
  {
   "cell_type": "code",
   "execution_count": 39,
   "metadata": {
    "colab": {
     "base_uri": "https://localhost:8080/",
     "height": 78
    },
    "executionInfo": {
     "elapsed": 297,
     "status": "ok",
     "timestamp": 1638181638627,
     "user": {
      "displayName": "CARLOS RODRÍGUEZ JASO",
      "photoUrl": "https://lh3.googleusercontent.com/a-/AOh14GjZayzfSayxeweeJkLqc21NPJmvPQY-gKWxSFB8=s64",
      "userId": "17709739924633349187"
     },
     "user_tz": -60
    },
    "id": "4Q_ATqJ2ZqCZ",
    "outputId": "445920c5-101a-4295-f601-404400b61871"
   },
   "outputs": [
    {
     "data": {
      "text/latex": [
       "$$\\left ( \\left[\\begin{matrix}10 & 5 & 0\\\\12 & 8 & 0\\\\6 & 5 & 8\\end{matrix}\\right], \\quad \\left[\\begin{matrix}925\\\\1200\\\\861\\end{matrix}\\right]\\right )$$"
      ],
      "text/plain": [
       "⎛⎡10  5  0⎤  ⎡925 ⎤⎞\n",
       "⎜⎢        ⎥  ⎢    ⎥⎟\n",
       "⎜⎢12  8  0⎥, ⎢1200⎥⎟\n",
       "⎜⎢        ⎥  ⎢    ⎥⎟\n",
       "⎝⎣6   5  8⎦  ⎣861 ⎦⎠"
      ]
     },
     "execution_count": 39,
     "metadata": {},
     "output_type": "execute_result"
    }
   ],
   "source": [
    "# Ejemplo de sistema a matriz\n",
    "linear_eq_to_matrix(sist,[x, y, z])"
   ]
  },
  {
   "cell_type": "code",
   "execution_count": 40,
   "metadata": {
    "colab": {
     "base_uri": "https://localhost:8080/",
     "height": 78
    },
    "executionInfo": {
     "elapsed": 22,
     "status": "ok",
     "timestamp": 1638181638628,
     "user": {
      "displayName": "CARLOS RODRÍGUEZ JASO",
      "photoUrl": "https://lh3.googleusercontent.com/a-/AOh14GjZayzfSayxeweeJkLqc21NPJmvPQY-gKWxSFB8=s64",
      "userId": "17709739924633349187"
     },
     "user_tz": -60
    },
    "id": "ebrGue5EaB1J",
    "outputId": "ca55d088-00a5-4584-f09e-db95fc40c264"
   },
   "outputs": [
    {
     "data": {
      "text/latex": [
       "$$\\left ( \\left\\{\\left ( 70, \\quad 45, \\quad 27\\right )\\right\\}, \\quad \\left \\{ x : 70, \\quad y : 45, \\quad z : 27\\right \\}, \\quad \\left[\\begin{matrix}70\\\\45\\\\27\\end{matrix}\\right]\\right )$$"
      ],
      "text/plain": [
       "⎛                                       ⎡70⎤⎞\n",
       "⎜                                       ⎢  ⎥⎟\n",
       "⎜{(70, 45, 27)}, {x: 70, y: 45, z: 27}, ⎢45⎥⎟\n",
       "⎜                                       ⎢  ⎥⎟\n",
       "⎝                                       ⎣27⎦⎠"
      ]
     },
     "execution_count": 40,
     "metadata": {},
     "output_type": "execute_result"
    }
   ],
   "source": [
    "# Ejemplo de resolución de sistemas con las funciones linsolve y LUsolve\n",
    "\n",
    "A,b = linear_eq_to_matrix(sist,[x, y, z])\n",
    "\n",
    "linsolve((A,b),x,y,z), solve(sist), A.LUsolve(b)"
   ]
  },
  {
   "cell_type": "code",
   "execution_count": 41,
   "metadata": {
    "colab": {
     "base_uri": "https://localhost:8080/",
     "height": 78
    },
    "executionInfo": {
     "elapsed": 21,
     "status": "ok",
     "timestamp": 1638181638629,
     "user": {
      "displayName": "CARLOS RODRÍGUEZ JASO",
      "photoUrl": "https://lh3.googleusercontent.com/a-/AOh14GjZayzfSayxeweeJkLqc21NPJmvPQY-gKWxSFB8=s64",
      "userId": "17709739924633349187"
     },
     "user_tz": -60
    },
    "id": "gizJSp9_euUB",
    "outputId": "968d87b9-e57d-41d1-e263-2f3d709644a3"
   },
   "outputs": [
    {
     "data": {
      "text/latex": [
       "$$\\left ( \\left[\\begin{matrix}10 & 5 & 0 & 925\\\\12 & 8 & 0 & 1200\\\\6 & 5 & 8 & 861\\end{matrix}\\right], \\quad \\left [ 10 x + 5 y = 925, \\quad 12 x + 8 y = 1200, \\quad 6 x + 5 y + 8 z = 861\\right ], \\quad \\left ( \\left[\\begin{matrix}10 & 5 & 0\\\\12 & 8 & 0\\\\6 & 5 & 8\\end{matrix}\\right], \\quad \\left[\\begin{matrix}925\\\\1200\\\\861\\end{matrix}\\right]\\right )\\right )$$"
      ],
      "text/plain": [
       "⎛⎡10  5  0  925 ⎤                                                             \n",
       "⎜⎢              ⎥                                                             \n",
       "⎜⎢12  8  0  1200⎥, [10⋅x + 5⋅y = 925, 12⋅x + 8⋅y = 1200, 6⋅x + 5⋅y + 8⋅z = 861\n",
       "⎜⎢              ⎥                                                             \n",
       "⎝⎣6   5  8  861 ⎦                                                             \n",
       "\n",
       "   ⎛⎡10  5  0⎤  ⎡925 ⎤⎞⎞\n",
       "   ⎜⎢        ⎥  ⎢    ⎥⎟⎟\n",
       "], ⎜⎢12  8  0⎥, ⎢1200⎥⎟⎟\n",
       "   ⎜⎢        ⎥  ⎢    ⎥⎟⎟\n",
       "   ⎝⎣6   5  8⎦  ⎣861 ⎦⎠⎠"
      ]
     },
     "execution_count": 41,
     "metadata": {},
     "output_type": "execute_result"
    }
   ],
   "source": [
    "# Ejemplo de Matriz a sistema\n",
    "\n",
    "M=A.row_join(b)\n",
    "\n",
    "M, matriz_a_sistema(M), linear_eq_to_matrix(matriz_a_sistema(M),[x, y, z])"
   ]
  },
  {
   "cell_type": "code",
   "execution_count": 42,
   "metadata": {
    "colab": {
     "base_uri": "https://localhost:8080/",
     "height": 68
    },
    "executionInfo": {
     "elapsed": 371,
     "status": "ok",
     "timestamp": 1638181638981,
     "user": {
      "displayName": "CARLOS RODRÍGUEZ JASO",
      "photoUrl": "https://lh3.googleusercontent.com/a-/AOh14GjZayzfSayxeweeJkLqc21NPJmvPQY-gKWxSFB8=s64",
      "userId": "17709739924633349187"
     },
     "user_tz": -60
    },
    "id": "hlBQlTvS2gKn",
    "outputId": "8fd993df-716b-49df-c012-0cb8db34ea4a"
   },
   "outputs": [
    {
     "data": {
      "text/latex": [
       "$$\\left ( \\left \\{ x : - \\frac{6 p}{p^{2} - 36}, \\quad y : \\frac{p^{2} + 36}{p^{2} - 36}\\right \\}, \\quad \\left\\{\\left ( - \\frac{6 p}{p^{2} - 36}, \\quad \\frac{p^{2} + 36}{p^{2} - 36}\\right )\\right\\}, \\quad \\left ( \\left[\\begin{matrix}12 & p & p\\\\p & 3 & -3\\end{matrix}\\right], \\quad \\left[\\begin{matrix}12 & p & p\\\\0 & - \\frac{p^{2}}{12} + 3 & - \\frac{p^{2}}{12} - 3\\end{matrix}\\right], \\quad \\left[\\begin{matrix}- \\frac{6 p}{p^{2} - 36}\\\\\\frac{p^{2} + 36}{p^{2} - 36}\\end{matrix}\\right]\\right )\\right )$$"
      ],
      "text/plain": [
       "⎛                                                ⎛                            \n",
       "⎜                                                ⎜                            \n",
       "⎜                                                ⎜             ⎡12     p      \n",
       "⎜⎧                2     ⎫  ⎧⎛          2     ⎞⎫  ⎜             ⎢              \n",
       "⎜⎪    -6⋅p       p  + 36⎪  ⎪⎜ -6⋅p    p  + 36⎟⎪  ⎜⎡12  p  p ⎤  ⎢       2      \n",
       "⎜⎨x: ───────, y: ───────⎬, ⎨⎜───────, ───────⎟⎬, ⎜⎢         ⎥, ⎢      p       \n",
       "⎜⎪    2           2     ⎪  ⎪⎜ 2        2     ⎟⎪  ⎜⎣p   3  -3⎦  ⎢0   - ── + 3  \n",
       "⎜⎩   p  - 36     p  - 36⎭  ⎩⎝p  - 36  p  - 36⎠⎭  ⎜             ⎣      12      \n",
       "⎜                                                ⎜                            \n",
       "⎝                                                ⎝                            \n",
       "\n",
       "           ⎡ -6⋅p  ⎤⎞⎞\n",
       "           ⎢───────⎥⎟⎟\n",
       "   p    ⎤  ⎢ 2     ⎥⎟⎟\n",
       "        ⎥  ⎢p  - 36⎥⎟⎟\n",
       "   2    ⎥  ⎢       ⎥⎟⎟\n",
       "  p     ⎥, ⎢ 2     ⎥⎟⎟\n",
       "- ── - 3⎥  ⎢p  + 36⎥⎟⎟\n",
       "  12    ⎦  ⎢───────⎥⎟⎟\n",
       "           ⎢ 2     ⎥⎟⎟\n",
       "           ⎣p  - 36⎦⎠⎠"
      ]
     },
     "execution_count": 42,
     "metadata": {},
     "output_type": "execute_result"
    }
   ],
   "source": [
    "# Sistema con parámetros\n",
    "p = symbols('p')\n",
    "sist=[12*x+p*y-p,p*x+3*y+3]\n",
    "A,b = linear_eq_to_matrix(sist,[x,y])\n",
    "M=A.row_join(b)\n",
    "solve(sist,[x,y]),linsolve((A,b),x,y),mi_gauss(M)\n",
    "\n"
   ]
  },
  {
   "cell_type": "code",
   "execution_count": 43,
   "metadata": {
    "colab": {
     "base_uri": "https://localhost:8080/",
     "height": 61
    },
    "executionInfo": {
     "elapsed": 19,
     "status": "ok",
     "timestamp": 1638181638983,
     "user": {
      "displayName": "CARLOS RODRÍGUEZ JASO",
      "photoUrl": "https://lh3.googleusercontent.com/a-/AOh14GjZayzfSayxeweeJkLqc21NPJmvPQY-gKWxSFB8=s64",
      "userId": "17709739924633349187"
     },
     "user_tz": -60
    },
    "id": "fts3l213ltWX",
    "outputId": "e27e2224-9c0d-4122-c3ee-e49b45f764cc"
   },
   "outputs": [
    {
     "data": {
      "text/latex": [
       "$$\\left[\\begin{matrix}a & - b & 1\\\\0 & - a + \\frac{b^{2}}{a} & - \\frac{b}{a}\\end{matrix}\\right]$$"
      ],
      "text/plain": [
       "⎡a    -b      1 ⎤\n",
       "⎢               ⎥\n",
       "⎢         2     ⎥\n",
       "⎢        b   -b ⎥\n",
       "⎢0  -a + ──  ───⎥\n",
       "⎣        a    a ⎦"
      ]
     },
     "execution_count": 43,
     "metadata": {},
     "output_type": "execute_result"
    }
   ],
   "source": [
    "a, b = symbols('a b')\n",
    "sist=[a*x-b*y-1,b*x-a*y]\n",
    "solve(sist,[x,y])\n",
    "\n",
    "A,B = linear_eq_to_matrix(sist,[x,y])\n",
    "mi_gauss(A.row_join(B))[1]"
   ]
  },
  {
   "cell_type": "code",
   "execution_count": 44,
   "metadata": {
    "colab": {
     "base_uri": "https://localhost:8080/",
     "height": 61
    },
    "executionInfo": {
     "elapsed": 289,
     "status": "ok",
     "timestamp": 1638181639254,
     "user": {
      "displayName": "CARLOS RODRÍGUEZ JASO",
      "photoUrl": "https://lh3.googleusercontent.com/a-/AOh14GjZayzfSayxeweeJkLqc21NPJmvPQY-gKWxSFB8=s64",
      "userId": "17709739924633349187"
     },
     "user_tz": -60
    },
    "id": "3nETjmC-ptF2",
    "outputId": "df33b493-8a95-47fe-829f-c91cd3242765"
   },
   "outputs": [
    {
     "data": {
      "text/latex": [
       "$$\\left ( \\left \\{ x : \\frac{1}{a + b}, \\quad y : - \\frac{1}{a + b}\\right \\}, \\quad \\left ( \\left[\\begin{matrix}a & - b & 1\\\\b & - a & 1\\end{matrix}\\right], \\quad \\left[\\begin{matrix}a & - b & 1\\\\0 & - a + \\frac{b^{2}}{a} & 1 - \\frac{b}{a}\\end{matrix}\\right], \\quad \\left[\\begin{matrix}\\frac{1}{a + b}\\\\- \\frac{1}{a + b}\\end{matrix}\\right]\\right )\\right )$$"
      ],
      "text/plain": [
       "⎛                      ⎛            ⎡a    -b       1  ⎤  ⎡  1  ⎤⎞⎞\n",
       "⎜                      ⎜            ⎢                 ⎥  ⎢─────⎥⎟⎟\n",
       "⎜⎧     1        -1  ⎫  ⎜⎡a  -b  1⎤  ⎢         2       ⎥  ⎢a + b⎥⎟⎟\n",
       "⎜⎨x: ─────, y: ─────⎬, ⎜⎢        ⎥, ⎢        b       b⎥, ⎢     ⎥⎟⎟\n",
       "⎜⎩   a + b     a + b⎭  ⎜⎣b  -a  1⎦  ⎢0  -a + ──  1 - ─⎥  ⎢ -1  ⎥⎟⎟\n",
       "⎜                      ⎜            ⎣        a       a⎦  ⎢─────⎥⎟⎟\n",
       "⎝                      ⎝                                 ⎣a + b⎦⎠⎠"
      ]
     },
     "execution_count": 44,
     "metadata": {},
     "output_type": "execute_result"
    }
   ],
   "source": [
    "a, b = symbols('a b')\n",
    "sist=[a*x-b*y-1,b*x-a*y-1]\n",
    "\n",
    "\n",
    "A,B = linear_eq_to_matrix(sist,[x,y])\n",
    "solve(sist,[x,y]),mi_gauss(A.row_join(B))"
   ]
  },
  {
   "cell_type": "code",
   "execution_count": 45,
   "metadata": {
    "colab": {
     "base_uri": "https://localhost:8080/",
     "height": 78
    },
    "executionInfo": {
     "elapsed": 380,
     "status": "ok",
     "timestamp": 1638181639627,
     "user": {
      "displayName": "CARLOS RODRÍGUEZ JASO",
      "photoUrl": "https://lh3.googleusercontent.com/a-/AOh14GjZayzfSayxeweeJkLqc21NPJmvPQY-gKWxSFB8=s64",
      "userId": "17709739924633349187"
     },
     "user_tz": -60
    },
    "id": "azFUajdKXB77",
    "outputId": "2a0fb6f2-af96-4514-fa2d-541f4afb634c"
   },
   "outputs": [
    {
     "data": {
      "text/latex": [
       "$$\\left ( \\left \\{ x : \\frac{15 m}{7} - \\frac{5}{7}, \\quad y : -5, \\quad z : - \\frac{5 m}{7} - \\frac{10}{7}\\right \\}, \\quad \\left ( \\left[\\begin{matrix}1 & -2 & 3 & 5\\\\2 & m & -1 & 0\\\\3 & -1 & 2 & 5 m\\end{matrix}\\right], \\quad \\left[\\begin{matrix}1 & -2 & 3 & 5\\\\0 & 5 & -7 & 5 m - 15\\\\0 & 0 & \\frac{7 m}{5} - \\frac{7}{5} & - \\left(\\frac{m}{5} + \\frac{4}{5}\\right) \\left(5 m - 15\\right) - 10\\end{matrix}\\right], \\quad \\left[\\begin{matrix}\\frac{15 m}{7} - \\frac{5}{7}\\\\-5\\\\- \\frac{5 m}{7} - \\frac{10}{7}\\end{matrix}\\right]\\right )\\right )$$"
      ],
      "text/plain": [
       "⎛                                     ⎛                                       \n",
       "⎜                                     ⎜                  ⎡1  -2     3         \n",
       "⎜                                     ⎜⎡1  -2  3    5 ⎤  ⎢                    \n",
       "⎜⎧   15⋅m   5              5⋅m   10⎫  ⎜⎢              ⎥  ⎢0  5     -7         \n",
       "⎜⎨x: ──── - ─, y: -5, z: - ─── - ──⎬, ⎜⎢2  m   -1   0 ⎥, ⎢                    \n",
       "⎜⎩    7     7               7    7 ⎭  ⎜⎢              ⎥  ⎢       7⋅m   7    ⎛m\n",
       "⎜                                     ⎜⎣3  -1  2   5⋅m⎦  ⎢0  0   ─── - ─  - ⎜─\n",
       "⎜                                     ⎜                  ⎣        5    5    ⎝5\n",
       "⎝                                     ⎝                                       \n",
       "\n",
       "                        ⎡ 15⋅m   5 ⎤⎞⎞\n",
       "        5            ⎤  ⎢ ──── - ─ ⎥⎟⎟\n",
       "                     ⎥  ⎢  7     7 ⎥⎟⎟\n",
       "    5⋅m - 15         ⎥  ⎢          ⎥⎟⎟\n",
       "                     ⎥, ⎢    -5    ⎥⎟⎟\n",
       "   4⎞                ⎥  ⎢          ⎥⎟⎟\n",
       " + ─⎟⋅(5⋅m - 15) - 10⎥  ⎢  5⋅m   10⎥⎟⎟\n",
       "   5⎠                ⎦  ⎢- ─── - ──⎥⎟⎟\n",
       "                        ⎣   7    7 ⎦⎠⎠"
      ]
     },
     "execution_count": 45,
     "metadata": {},
     "output_type": "execute_result"
    }
   ],
   "source": [
    "m = symbols('m')\n",
    "\n",
    "sist = [x-2*y+3*z-5,2*x+m*y-z,3*x-y+2*z-5*m]\n",
    "A,B = linear_eq_to_matrix(sist,[x,y,z])\n",
    "solve(sist,[x,y,z]),mi_gauss(A.row_join(B))"
   ]
  },
  {
   "cell_type": "code",
   "execution_count": 46,
   "metadata": {
    "colab": {
     "base_uri": "https://localhost:8080/",
     "height": 90
    },
    "executionInfo": {
     "elapsed": 6152,
     "status": "ok",
     "timestamp": 1638181645756,
     "user": {
      "displayName": "CARLOS RODRÍGUEZ JASO",
      "photoUrl": "https://lh3.googleusercontent.com/a-/AOh14GjZayzfSayxeweeJkLqc21NPJmvPQY-gKWxSFB8=s64",
      "userId": "17709739924633349187"
     },
     "user_tz": -60
    },
    "id": "7_fMJHNocP8m",
    "outputId": "44b336a6-e597-4905-fc26-e0847cbc5fea"
   },
   "outputs": [
    {
     "name": "stdout",
     "output_type": "stream",
     "text": [
      "Requirement already satisfied: sympy==1.3 in /usr/local/lib/python3.7/dist-packages (1.3)\n",
      "Requirement already satisfied: mpmath>=0.19 in /usr/local/lib/python3.7/dist-packages (from sympy==1.3) (1.2.1)\n",
      "Requirement already satisfied: antlr4-python3-runtime==4.7.1 in /usr/local/lib/python3.7/dist-packages (4.7.1)\n"
     ]
    },
    {
     "data": {
      "image/png": "[encoded data removed]",
      "text/latex": [
       "$$x^{3}$$"
      ],
      "text/plain": [
       " 3\n",
       "x "
      ]
     },
     "execution_count": 46,
     "metadata": {},
     "output_type": "execute_result"
    }
   ],
   "source": [
    "!pip install sympy==1.3\n",
    "from sympy.parsing.latex import parse_latex\n",
    "!pip install antlr4-python3-runtime==4.7.1\n",
    "\n",
    "parse_latex(r'x^3')"
   ]
  },
  {
   "cell_type": "code",
   "execution_count": 47,
   "metadata": {
    "colab": {
     "base_uri": "https://localhost:8080/",
     "height": 38
    },
    "executionInfo": {
     "elapsed": 34,
     "status": "ok",
     "timestamp": 1638181645758,
     "user": {
      "displayName": "CARLOS RODRÍGUEZ JASO",
      "photoUrl": "https://lh3.googleusercontent.com/a-/AOh14GjZayzfSayxeweeJkLqc21NPJmvPQY-gKWxSFB8=s64",
      "userId": "17709739924633349187"
     },
     "user_tz": -60
    },
    "id": "l-cxUfBCdDAY",
    "outputId": "6d48408e-0921-4b98-c005-8a0437861c1c"
   },
   "outputs": [
    {
     "data": {
      "image/png": "[encoded data removed]",
      "text/latex": [
       "$$\\left [ 3 x - 2 y = 1, \\quad x + 6 y = 7\\right ]$$"
      ],
      "text/plain": [
       "[3⋅x - 2⋅y = 1, x + 6⋅y = 7]"
      ]
     },
     "execution_count": 47,
     "metadata": {},
     "output_type": "execute_result"
    }
   ],
   "source": [
    "sist_latex = [r'3x - 2y = 1',r'x + 6y = 7']\n",
    "\n",
    "list(map(parse_latex,sist_latex))"
   ]
  },
  {
   "cell_type": "code",
   "execution_count": 48,
   "metadata": {
    "executionInfo": {
     "elapsed": 778,
     "status": "ok",
     "timestamp": 1638181646505,
     "user": {
      "displayName": "CARLOS RODRÍGUEZ JASO",
      "photoUrl": "https://lh3.googleusercontent.com/a-/AOh14GjZayzfSayxeweeJkLqc21NPJmvPQY-gKWxSFB8=s64",
      "userId": "17709739924633349187"
     },
     "user_tz": -60
    },
    "id": "VnF3T3KJeJnW"
   },
   "outputs": [],
   "source": [
    "enunciado_latex = [\n",
    "                  #  [r'3x - 2y = 1',r'x + 6y = 7'],\n",
    "                  #      [r'6x - 2y = 14',r'3x - y = 7 '],\n",
    "                  #      [r'6x - 2y = 9',r'3x - y = 10'],\n",
    "                  #      [r'4x + 7y =  - 3',r'7x + 4y = 36'],\n",
    "                  #      [r' 4x + 16 = 5y',r' 5y - 19 = 3x'],\n",
    "                  #      [r'x - 5 = y + 2',r'1 + 3x + 2y = x - 4'],\n",
    "                  #      [r'x - 5 = y + 2',r'3x - 2y = x - 5'],\n",
    "                  #      [r'x + 3y = 6',r'6y - 5 = 7 - 2x'],\n",
    "                  #      [r'x - y = 8',r' x + y = 24'],\n",
    "                  #      [r'x + 2y = 11',r'2x - y = 2'],\n",
    "                  #      [r'3x - 4y =  - 9',r'2x + y = 5'],\n",
    "                  #      [r'10( {x - 2} ) + y = 1',r'x + 3( {x - y} ) = 5'],\n",
    "                  #      [r'\\frac{{x - y}}{2} + \\frac{{x - y}}{3} = 5',r'\\frac{{x + 7}}{4} + y = 3'],\n",
    "                  #      [r'\\frac{{3( {y + 2x + 2} )}}{4} = \\frac{{4x + y - 1}}{3} ',r' \\frac{1}{3}( {x + y} ) - \\frac{1}{6}( {x - y} ) = \\frac{{y - 1}}{6}'],\n",
    "                  #      [r' x - 2( {x + y} ) = 3y - 2',r' \\frac{x}{3} + \\frac{y}{2} = 3'],\n",
    "                  #      [r'\\frac{{3 - 2y}}{4} - \\frac{1}{4} = \\frac{{1 - 2x}}{6}',r' \\frac{{25}}{8} - 1 = \\frac{{x + 3}}{2} - \\frac{{3( {1 + y} )}}{8}'],\n",
    "                  #      [r'\\frac{{4y - 5x}}{6} + \\frac{{3x - 2y}}{2} = 1 - \\frac{2}{9}( {x + y} )',r'\\frac{{4y + x - 8}}{8} - x = \\frac{{2( {y - 2x} )}}{3}']\n",
    "\n",
    "\n",
    "                       [r'x - 2y + 5z = 13',r'2x - 5y + z = 19', r'x + 3y - 2z =  - 4'],\n",
    "                       [r'x - y + z = 7',r'x + y - 3z = 1', r'2x + y - 4z = 5'],\n",
    "                       [r'x - 2y + z = 13',r'3x - 4y + 2z = 1', r'2x - 2y + z = 0'],\n",
    "                       [r'x - y + z = 1',r' x + z = 4', r'y - 3z =  - 15'],\n",
    "                       [r'2x - y + z = 6',r'x + y - 2z = 1', r'x - 2y + 3z = 0'],\n",
    "                       [r'x + 2y - 3z = 9',r'2x - y = 6', r'4x + 3y - 6z = 24'],\n",
    "                       [r'4x - 2y = 2',r' 6y - 3z = 1', r'3z - 4x =  - 1'],\n",
    "                       [r'x + 2y = 5',r' 2x + y =  - 1', r' - x + 3y = 6'],\n",
    "                       [r'x - 3y = 1',r'4y - z = 1', r'2x - z = 1'],\n",
    "                       [r'x + 2 =  - y',r'- y + 3 = 2x', r'4x - y = 6'],\n",
    "                       [r'x - 2y + 3z = 2',r'2x - 3y + z = 1', r'3x - y + 2z = 9'],\n",
    "                       [r' x - 6 + y = 0',r' - 3y + x - 2 = 0', r'5x - 26 + y = 0 '],\n",
    "                       [r'2x + 2y =  - 2',r'x + 6 = y', r'3x + 5y = 1'],\n",
    "                       [r'x + y + z = 4',r'x - 2y + 3z = 13', r'x + 3y + 4z = 11'],\n",
    "                       [r'z - 2( {x + y} ) =  - 9',r'3x - y = 3', r'3y - z = 9'],\n",
    "                       [r'\\frac{x}{2} + \\frac{y}{3} + z = 7',r'x - \\frac{y}{2} + \\frac{z}{3} = 11', r' \\frac{x}{3} - y - \\frac{z}{2} = 5'],\n",
    "                       [r'\\frac{x}{2} + \\frac{y}{3} + \\frac{z}{3} = 9',r'\\frac{x}{3} - \\frac{y}{9} + \\frac{z}{3} = 6', r'\\frac{x}{6} + \\frac{y}{2} + \\frac{z}{2} = 13'],\n",
    "                       [r'x - y + z = 5',r'\\frac{{x - 1}}{2} + \\frac{y}{3} = 1', r'\\frac{{2x + y}}{6} - \\frac{{3z + y}}{8} = 4']\n",
    "                   \n",
    "                   \n",
    "                                      ]\n",
    "\n",
    "enunciado=[list(map(parse_latex,sist_latex)) for sist_latex in enunciado_latex]"
   ]
  },
  {
   "cell_type": "code",
   "execution_count": 64,
   "metadata": {
    "colab": {
     "base_uri": "https://localhost:8080/",
     "height": 219
    },
    "executionInfo": {
     "elapsed": 255,
     "status": "ok",
     "timestamp": 1638182286526,
     "user": {
      "displayName": "CARLOS RODRÍGUEZ JASO",
      "photoUrl": "https://lh3.googleusercontent.com/a-/AOh14GjZayzfSayxeweeJkLqc21NPJmvPQY-gKWxSFB8=s64",
      "userId": "17709739924633349187"
     },
     "user_tz": -60
    },
    "id": "5rHC7Nmdeejj",
    "outputId": "aa5e1881-17d8-40ec-bdd6-e7055fd09814"
   },
   "outputs": [
    {
     "data": {
      "application/vnd.google.colaboratory.intrinsic+json": {
       "type": "string"
      },
      "text/plain": [
       "'$\\\\left\\\\{ \\\\begin{matrix}8 x + 16 y + 11.5 z - 42 \\\\\\\\ x + y + z - 3.5 \\\\\\\\ \\\\frac{x}{2} + 2 y + 1.0 z - 4.25 \\\\\\\\ \\\\end{matrix}\\\\right.$'"
      ]
     },
     "metadata": {},
     "output_type": "display_data"
    },
    {
     "data": {
      "text/latex": [
       "$$\\left ( \\left[\\begin{matrix}8 & 16 & 11.5 & 42\\\\1 & 1 & 1 & 3.5\\\\\\frac{1}{2} & 2 & 1.0 & 4.25\\end{matrix}\\right], \\quad \\left[\\begin{matrix}8 & 16 & \\frac{23}{2} & 42\\\\0 & -1 & - \\frac{7}{16} & - \\frac{7}{4}\\\\0 & 0 & - \\frac{5}{32} & - \\frac{1}{8}\\end{matrix}\\right], \\quad \\left[\\begin{matrix}1.3\\\\1.4\\\\0.8\\end{matrix}\\right]\\right )$$"
      ],
      "text/plain": [
       "⎛⎡ 8   16  11.5   42 ⎤  ⎡8  16  23/2    42 ⎤  ⎡1.3⎤⎞\n",
       "⎜⎢                   ⎥  ⎢                  ⎥  ⎢   ⎥⎟\n",
       "⎜⎢ 1   1    1    3.5 ⎥, ⎢0  -1  -7/16  -7/4⎥, ⎢1.4⎥⎟\n",
       "⎜⎢                   ⎥  ⎢                  ⎥  ⎢   ⎥⎟\n",
       "⎝⎣1/2  2   1.0   4.25⎦  ⎣0  0   -5/32  -1/8⎦  ⎣0.8⎦⎠"
      ]
     },
     "metadata": {},
     "output_type": "display_data"
    },
    {
     "data": {
      "image/png": "[encoded data removed]",
      "text/latex": [
       "$$\\left \\{ x : 1.3, \\quad y : 1.4, \\quad z : 0.8\\right \\}$$"
      ],
      "text/plain": [
       "{x: 1.3, y: 1.4, z: 0.8}"
      ]
     },
     "metadata": {},
     "output_type": "display_data"
    },
    {
     "data": {
      "application/vnd.google.colaboratory.intrinsic+json": {
       "type": "string"
      },
      "text/plain": [
       "'$\\\\left\\\\{ \\\\begin{matrix}8 x + 16 y + 11.5 z - 42 \\\\\\\\ x + y + z - 3.5 \\\\\\\\ \\\\frac{x}{2} + 2 y + z - 4.25 \\\\\\\\ \\\\end{matrix}\\\\right.$'"
      ]
     },
     "metadata": {},
     "output_type": "display_data"
    },
    {
     "data": {
      "text/latex": [
       "$$\\left ( \\left[\\begin{matrix}8 & 16 & 11.5 & 42\\\\1 & 1 & 1 & 3.5\\\\\\frac{1}{2} & 2 & 1 & 4.25\\end{matrix}\\right], \\quad \\left[\\begin{matrix}8 & 16 & \\frac{23}{2} & 42\\\\0 & -1 & - \\frac{7}{16} & - \\frac{7}{4}\\\\0 & 0 & - \\frac{5}{32} & - \\frac{1}{8}\\end{matrix}\\right], \\quad \\left[\\begin{matrix}1.3\\\\1.4\\\\0.8\\end{matrix}\\right]\\right )$$"
      ],
      "text/plain": [
       "⎛⎡ 8   16  11.5   42 ⎤  ⎡8  16  23/2    42 ⎤  ⎡1.3⎤⎞\n",
       "⎜⎢                   ⎥  ⎢                  ⎥  ⎢   ⎥⎟\n",
       "⎜⎢ 1   1    1    3.5 ⎥, ⎢0  -1  -7/16  -7/4⎥, ⎢1.4⎥⎟\n",
       "⎜⎢                   ⎥  ⎢                  ⎥  ⎢   ⎥⎟\n",
       "⎝⎣1/2  2    1    4.25⎦  ⎣0  0   -5/32  -1/8⎦  ⎣0.8⎦⎠"
      ]
     },
     "metadata": {},
     "output_type": "display_data"
    },
    {
     "data": {
      "image/png": "[encoded data removed]",
      "text/latex": [
       "$$\\left \\{ x : 1.3, \\quad y : 1.4, \\quad z : 0.8\\right \\}$$"
      ],
      "text/plain": [
       "{x: 1.3, y: 1.4, z: 0.8}"
      ]
     },
     "metadata": {},
     "output_type": "display_data"
    }
   ],
   "source": [
    "# from sympy import linear_eq_to_matrix\n",
    "\n",
    "enunciado =[[8*x + 16*y + 11.5*z - 42, x + y + z - 3.5, 8*x/16 + 16*y/8 + 11.5*z/11.5 - 4.25], [8*x + 16*y + 23/2*z - 42, x + y + z - 7/2, 8*x/16 + 16*y/8 + z - 17/4]]\n",
    "\n",
    "for sist in enunciado :\n",
    "  A, b =linear_eq_to_matrix(sist,[x, y, z])\n",
    "  M = A.row_join(b)\n",
    "  display(sistema_a_latex(sist),mi_gauss(M), solve(sist))\n",
    "  # display()"
   ]
  },
  {
   "cell_type": "code",
   "execution_count": 50,
   "metadata": {
    "executionInfo": {
     "elapsed": 33,
     "status": "ok",
     "timestamp": 1638181646526,
     "user": {
      "displayName": "CARLOS RODRÍGUEZ JASO",
      "photoUrl": "https://lh3.googleusercontent.com/a-/AOh14GjZayzfSayxeweeJkLqc21NPJmvPQY-gKWxSFB8=s64",
      "userId": "17709739924633349187"
     },
     "user_tz": -60
    },
    "id": "5JQjsoFGJKTV"
   },
   "outputs": [],
   "source": [
    "def mi_gauss(M) :\n",
    "    return(M, M.LUdecomposition()[1],M[:,:-1].LUsolve(M.col(-1)))\n",
    "\n",
    "sist = [[1,-2,3,5],[2,m,-1,0],[3,-1,2,5*m]]\n"
   ]
  },
  {
   "cell_type": "code",
   "execution_count": 51,
   "metadata": {
    "executionInfo": {
     "elapsed": 38,
     "status": "ok",
     "timestamp": 1638181646532,
     "user": {
      "displayName": "CARLOS RODRÍGUEZ JASO",
      "photoUrl": "https://lh3.googleusercontent.com/a-/AOh14GjZayzfSayxeweeJkLqc21NPJmvPQY-gKWxSFB8=s64",
      "userId": "17709739924633349187"
     },
     "user_tz": -60
    },
    "id": "CSouS8sy6luI"
   },
   "outputs": [],
   "source": [
    "sistema = [8*x + 16*y + 11.5*z - 42, x + y + z - 3.5, 8*x/11.5 + 16*y/16 + 11.5*z/8 - 4.25]"
   ]
  },
  {
   "cell_type": "code",
   "execution_count": 55,
   "metadata": {
    "colab": {
     "base_uri": "https://localhost:8080/",
     "height": 37
    },
    "executionInfo": {
     "elapsed": 245,
     "status": "ok",
     "timestamp": 1638181875611,
     "user": {
      "displayName": "CARLOS RODRÍGUEZ JASO",
      "photoUrl": "https://lh3.googleusercontent.com/a-/AOh14GjZayzfSayxeweeJkLqc21NPJmvPQY-gKWxSFB8=s64",
      "userId": "17709739924633349187"
     },
     "user_tz": -60
    },
    "id": "9u3Bb1GCP37K",
    "outputId": "1ebbf884-016f-4ed9-eee6-2de881b8087d"
   },
   "outputs": [
    {
     "data": {
      "image/png": "[encoded data removed]",
      "text/latex": [
       "$$9.200000000000001$$"
      ],
      "text/plain": [
       "9.200000000000001"
      ]
     },
     "execution_count": 55,
     "metadata": {},
     "output_type": "execute_result"
    }
   ],
   "source": [
    "0.8*11.5"
   ]
  }
 ],
 "metadata": {
  "colab": {
   "authorship_tag": "ABX9TyMcALwY+fNsUmeOpIGOh1zS",
   "collapsed_sections": [],
   "name": "matrices_sistemas_latex.ipynb",
   "provenance": []
  },
  "kernelspec": {
   "display_name": "Python 3",
   "language": "python",
   "name": "python3"
  },
  "language_info": {
   "codemirror_mode": {
    "name": "ipython",
    "version": 3
   },
   "file_extension": ".py",
   "mimetype": "text/x-python",
   "name": "python",
   "nbconvert_exporter": "python",
   "pygments_lexer": "ipython3",
   "version": "3.6.13"
  }
 },
 "nbformat": 4,
 "nbformat_minor": 1
}
