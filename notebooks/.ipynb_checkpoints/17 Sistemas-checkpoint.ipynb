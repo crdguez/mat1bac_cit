{
 "cells": [
  {
   "cell_type": "markdown",
   "metadata": {},
   "source": [
    "<a href=\"https://colab.research.google.com/github/crdguez/mat1bac_cit/blob/master/notebooks/Ejercicios1_3.ipynb\"><img align=\"left\" src=\"https://colab.research.google.com/assets/colab-badge.svg\" alt=\"Open in Colab\" title=\"Open and Execute in Google Colaboratory\"></a>"
   ]
  },
  {
   "cell_type": "code",
   "execution_count": 1,
   "metadata": {},
   "outputs": [
    {
     "name": "stdout",
     "output_type": "stream",
     "text": [
      "IPython console for SymPy 1.2 (Python 3.6.5-64-bit) (ground types: gmpy)\n",
      "\n",
      "These commands were executed:\n",
      ">>> from __future__ import division\n",
      ">>> from sympy import *\n",
      ">>> x, y, z, t = symbols('x y z t')\n",
      ">>> k, m, n = symbols('k m n', integer=True)\n",
      ">>> f, g, h = symbols('f g h', cls=Function)\n",
      ">>> init_printing()\n",
      "\n",
      "Documentation can be found at http://docs.sympy.org/1.2/\n",
      "\n"
     ]
    }
   ],
   "source": [
    "from sympy import init_session\n",
    "from sympy import div, QQ\n",
    "from sympy.parsing.latex import parse_latex\n",
    "from sympy.parsing.sympy_parser import parse_expr\n",
    "#from sympy.functions.combinatorial.numbers import nC, nP, nT\n",
    "from IPython.display import Markdown as md\n",
    "from IPython.display import display\n",
    "import pandas as pd\n",
    "\n",
    "init_session()\n",
    "\n",
    "a, b, c, d = symbols('a b c d', real = True)\n",
    "from docparts import añadir_ejercicios, doc_ejer, escribir_preambulo, escribir_ejercicios, escribir_fin\n",
    "\n",
    "df_ejercicios = pd.DataFrame()\n",
    "\n",
    "fichero = 'ecuacionesg2'\n",
    "titulo = '6 - Ecuaciones de segundo grado'\n",
    "curso = '1BC'\n",
    "\n"
   ]
  },
  {
   "cell_type": "code",
   "execution_count": 2,
   "metadata": {},
   "outputs": [
    {
     "data": {
      "text/markdown": [
       "**Resuelve las ecuaciones:**"
      ],
      "text/plain": [
       "<IPython.core.display.Markdown object>"
      ]
     },
     "metadata": {},
     "output_type": "display_data"
    },
    {
     "data": {
      "text/markdown": [
       "${x^2} + 6 \\rightarrow \\emptyset$"
      ],
      "text/plain": [
       "<IPython.core.display.Markdown object>"
      ]
     },
     "metadata": {},
     "output_type": "display_data"
    },
    {
     "data": {
      "text/markdown": [
       "${x^2} - 9 \\rightarrow \\left\\{-3, 3\\right\\}$"
      ],
      "text/plain": [
       "<IPython.core.display.Markdown object>"
      ]
     },
     "metadata": {},
     "output_type": "display_data"
    },
    {
     "data": {
      "text/markdown": [
       "${x^2} + 3x \\rightarrow \\left\\{-3, 0\\right\\}$"
      ],
      "text/plain": [
       "<IPython.core.display.Markdown object>"
      ]
     },
     "metadata": {},
     "output_type": "display_data"
    },
    {
     "data": {
      "text/markdown": [
       "$3{x^2} - 11x \\rightarrow \\left\\{0, \\frac{11}{3}\\right\\}$"
      ],
      "text/plain": [
       "<IPython.core.display.Markdown object>"
      ]
     },
     "metadata": {},
     "output_type": "display_data"
    },
    {
     "data": {
      "text/markdown": [
       "$4{x^2} - 32x \\rightarrow \\left\\{0, 8\\right\\}$"
      ],
      "text/plain": [
       "<IPython.core.display.Markdown object>"
      ]
     },
     "metadata": {},
     "output_type": "display_data"
    },
    {
     "data": {
      "text/markdown": [
       "$5{x^2} \\rightarrow \\left\\{0\\right\\}$"
      ],
      "text/plain": [
       "<IPython.core.display.Markdown object>"
      ]
     },
     "metadata": {},
     "output_type": "display_data"
    },
    {
     "data": {
      "text/markdown": [
       "$12{x^2} - 18  \\rightarrow \\left\\{- \\frac{\\sqrt{6}}{2}, \\frac{\\sqrt{6}}{2}\\right\\}$"
      ],
      "text/plain": [
       "<IPython.core.display.Markdown object>"
      ]
     },
     "metadata": {},
     "output_type": "display_data"
    },
    {
     "data": {
      "text/markdown": [
       "$3( {1 - x} )( {x + 1} ) \\rightarrow \\left\\{0\\right\\}$"
      ],
      "text/plain": [
       "<IPython.core.display.Markdown object>"
      ]
     },
     "metadata": {},
     "output_type": "display_data"
    },
    {
     "data": {
      "text/markdown": [
       "$3( {{x^2} - 2} ) \\rightarrow \\left\\{-3, 3\\right\\}$"
      ],
      "text/plain": [
       "<IPython.core.display.Markdown object>"
      ]
     },
     "metadata": {},
     "output_type": "display_data"
    }
   ],
   "source": [
    "# Página 16 ejercicio 1\n",
    "\n",
    "texto_ejercicio = 'Resuelve las ecuaciones:'\n",
    "n_ejercicio = 'p016e01'\n",
    "\n",
    "display(md(\"**\"+texto_ejercicio+\"**\"))\n",
    "\n",
    "pre_enunciado_latex = [[r'{x^2} + 6',r'0'],\n",
    "                       [r'{x^2} - 9',r'0'],\n",
    "                       [r'{x^2} + 3x',r'0'],\n",
    "                       [r'3{x^2} - 11x',r'0'],\n",
    "                       [r'4{x^2} - 32x',r'0'],\n",
    "                       [r'5{x^2}',r'0'],\n",
    "                       [r'12{x^2} - 18 ',r'0'],\n",
    "                       [r'3( {1 - x} )( {x + 1} )',r'3'],\n",
    "                       [r'3( {{x^2} - 2} )',r'21']\n",
    "\n",
    "                      ]\n",
    "\n",
    "\n",
    "\n",
    "\n",
    "enunciado_latex,enunciado, solucion = [], [], []\n",
    "\n",
    "for i, s in enumerate(pre_enunciado_latex) :\n",
    "    enunciado_latex.append(latex(Eq(parse_latex(s[0]),parse_latex(s[1]))))\n",
    "    enunciado.append(Eq(parse_latex(s[0]),parse_latex(s[1])))\n",
    "    solucion.append(latex(solveset(enunciado[i], domain=S.Reals))) \n",
    "    display(md(\"$\"+ s[0] +\" \\\\rightarrow \" + solucion[i] +\"$\"))\n",
    "\n",
    "df_ejercicios = df_ejercicios.append(añadir_ejercicios(enunciado_latex, enunciado, solucion, texto_ejercicio, curso, titulo , n_ejercicio, '1', '2'), ignore_index=True)\n"
   ]
  },
  {
   "cell_type": "code",
   "execution_count": 3,
   "metadata": {},
   "outputs": [],
   "source": [
    "df_ejercicios.to_csv('ejercicios6.csv', index = False)"
   ]
  },
  {
   "cell_type": "code",
   "execution_count": 4,
   "metadata": {},
   "outputs": [],
   "source": [
    "df_ejercicios = pd.read_csv('ejercicios6.csv', index_col= None)"
   ]
  },
  {
   "cell_type": "code",
   "execution_count": 5,
   "metadata": {},
   "outputs": [
    {
     "data": {
      "text/markdown": [
       "**Ejercicio: **p016e01"
      ],
      "text/plain": [
       "<IPython.core.display.Markdown object>"
      ]
     },
     "metadata": {},
     "output_type": "display_data"
    },
    {
     "data": {
      "text/html": [
       "<div>\n",
       "<style scoped>\n",
       "    .dataframe tbody tr th:only-of-type {\n",
       "        vertical-align: middle;\n",
       "    }\n",
       "\n",
       "    .dataframe tbody tr th {\n",
       "        vertical-align: top;\n",
       "    }\n",
       "\n",
       "    .dataframe thead th {\n",
       "        text-align: right;\n",
       "    }\n",
       "</style>\n",
       "<table border=\"1\" class=\"dataframe\">\n",
       "  <thead>\n",
       "    <tr style=\"text-align: right;\">\n",
       "      <th></th>\n",
       "      <th>enunciado_latex</th>\n",
       "      <th>enunciado</th>\n",
       "      <th>solucion</th>\n",
       "      <th>texto</th>\n",
       "      <th>curso</th>\n",
       "      <th>titulo</th>\n",
       "      <th>n_ejercicio</th>\n",
       "      <th>dificultad</th>\n",
       "      <th>n_columnas</th>\n",
       "      <th>puntos</th>\n",
       "    </tr>\n",
       "  </thead>\n",
       "  <tbody>\n",
       "    <tr>\n",
       "      <th>0</th>\n",
       "      <td>x^{2} + 6 = 0</td>\n",
       "      <td>Eq(x**2 + 6, 0)</td>\n",
       "      <td>\\emptyset</td>\n",
       "      <td>Resuelve las ecuaciones:</td>\n",
       "      <td>1BC</td>\n",
       "      <td>6 - Ecuaciones de segundo grado</td>\n",
       "      <td>p016e01</td>\n",
       "      <td>1</td>\n",
       "      <td>2</td>\n",
       "      <td>1</td>\n",
       "    </tr>\n",
       "    <tr>\n",
       "      <th>1</th>\n",
       "      <td>x^{2} - 9 = 0</td>\n",
       "      <td>Eq(x**2 - 9, 0)</td>\n",
       "      <td>\\left\\{-3, 3\\right\\}</td>\n",
       "      <td>Resuelve las ecuaciones:</td>\n",
       "      <td>1BC</td>\n",
       "      <td>6 - Ecuaciones de segundo grado</td>\n",
       "      <td>p016e01</td>\n",
       "      <td>1</td>\n",
       "      <td>2</td>\n",
       "      <td>1</td>\n",
       "    </tr>\n",
       "    <tr>\n",
       "      <th>2</th>\n",
       "      <td>x^{2} + 3 x = 0</td>\n",
       "      <td>Eq(x**2 + 3*x, 0)</td>\n",
       "      <td>\\left\\{-3, 0\\right\\}</td>\n",
       "      <td>Resuelve las ecuaciones:</td>\n",
       "      <td>1BC</td>\n",
       "      <td>6 - Ecuaciones de segundo grado</td>\n",
       "      <td>p016e01</td>\n",
       "      <td>1</td>\n",
       "      <td>2</td>\n",
       "      <td>1</td>\n",
       "    </tr>\n",
       "    <tr>\n",
       "      <th>3</th>\n",
       "      <td>3 x^{2} - 11 x = 0</td>\n",
       "      <td>Eq(3*x**2 - 11*x, 0)</td>\n",
       "      <td>\\left\\{0, \\frac{11}{3}\\right\\}</td>\n",
       "      <td>Resuelve las ecuaciones:</td>\n",
       "      <td>1BC</td>\n",
       "      <td>6 - Ecuaciones de segundo grado</td>\n",
       "      <td>p016e01</td>\n",
       "      <td>1</td>\n",
       "      <td>2</td>\n",
       "      <td>1</td>\n",
       "    </tr>\n",
       "    <tr>\n",
       "      <th>4</th>\n",
       "      <td>4 x^{2} - 32 x = 0</td>\n",
       "      <td>Eq(4*x**2 - 32*x, 0)</td>\n",
       "      <td>\\left\\{0, 8\\right\\}</td>\n",
       "      <td>Resuelve las ecuaciones:</td>\n",
       "      <td>1BC</td>\n",
       "      <td>6 - Ecuaciones de segundo grado</td>\n",
       "      <td>p016e01</td>\n",
       "      <td>1</td>\n",
       "      <td>2</td>\n",
       "      <td>1</td>\n",
       "    </tr>\n",
       "    <tr>\n",
       "      <th>5</th>\n",
       "      <td>5 x^{2} = 0</td>\n",
       "      <td>Eq(5*x**2, 0)</td>\n",
       "      <td>\\left\\{0\\right\\}</td>\n",
       "      <td>Resuelve las ecuaciones:</td>\n",
       "      <td>1BC</td>\n",
       "      <td>6 - Ecuaciones de segundo grado</td>\n",
       "      <td>p016e01</td>\n",
       "      <td>1</td>\n",
       "      <td>2</td>\n",
       "      <td>1</td>\n",
       "    </tr>\n",
       "    <tr>\n",
       "      <th>6</th>\n",
       "      <td>12 x^{2} - 18 = 0</td>\n",
       "      <td>Eq(12*x**2 - 18, 0)</td>\n",
       "      <td>\\left\\{- \\frac{\\sqrt{6}}{2}, \\frac{\\sqrt{6}}{2...</td>\n",
       "      <td>Resuelve las ecuaciones:</td>\n",
       "      <td>1BC</td>\n",
       "      <td>6 - Ecuaciones de segundo grado</td>\n",
       "      <td>p016e01</td>\n",
       "      <td>1</td>\n",
       "      <td>2</td>\n",
       "      <td>1</td>\n",
       "    </tr>\n",
       "    <tr>\n",
       "      <th>7</th>\n",
       "      <td>3 \\left(- x + 1\\right) \\left(x + 1\\right) = 3</td>\n",
       "      <td>Eq(3*((-x + 1)*(x + 1)), 3)</td>\n",
       "      <td>\\left\\{0\\right\\}</td>\n",
       "      <td>Resuelve las ecuaciones:</td>\n",
       "      <td>1BC</td>\n",
       "      <td>6 - Ecuaciones de segundo grado</td>\n",
       "      <td>p016e01</td>\n",
       "      <td>1</td>\n",
       "      <td>2</td>\n",
       "      <td>1</td>\n",
       "    </tr>\n",
       "    <tr>\n",
       "      <th>8</th>\n",
       "      <td>3 \\left(x^{2} - 2\\right) = 21</td>\n",
       "      <td>Eq(3*(x**2 - 2), 21)</td>\n",
       "      <td>\\left\\{-3, 3\\right\\}</td>\n",
       "      <td>Resuelve las ecuaciones:</td>\n",
       "      <td>1BC</td>\n",
       "      <td>6 - Ecuaciones de segundo grado</td>\n",
       "      <td>p016e01</td>\n",
       "      <td>1</td>\n",
       "      <td>2</td>\n",
       "      <td>1</td>\n",
       "    </tr>\n",
       "  </tbody>\n",
       "</table>\n",
       "</div>"
      ],
      "text/plain": [
       "                                 enunciado_latex                    enunciado  \\\n",
       "0                                  x^{2} + 6 = 0              Eq(x**2 + 6, 0)   \n",
       "1                                  x^{2} - 9 = 0              Eq(x**2 - 9, 0)   \n",
       "2                                x^{2} + 3 x = 0            Eq(x**2 + 3*x, 0)   \n",
       "3                             3 x^{2} - 11 x = 0         Eq(3*x**2 - 11*x, 0)   \n",
       "4                             4 x^{2} - 32 x = 0         Eq(4*x**2 - 32*x, 0)   \n",
       "5                                    5 x^{2} = 0                Eq(5*x**2, 0)   \n",
       "6                              12 x^{2} - 18 = 0          Eq(12*x**2 - 18, 0)   \n",
       "7  3 \\left(- x + 1\\right) \\left(x + 1\\right) = 3  Eq(3*((-x + 1)*(x + 1)), 3)   \n",
       "8                  3 \\left(x^{2} - 2\\right) = 21         Eq(3*(x**2 - 2), 21)   \n",
       "\n",
       "                                            solucion  \\\n",
       "0                                          \\emptyset   \n",
       "1                               \\left\\{-3, 3\\right\\}   \n",
       "2                               \\left\\{-3, 0\\right\\}   \n",
       "3                     \\left\\{0, \\frac{11}{3}\\right\\}   \n",
       "4                                \\left\\{0, 8\\right\\}   \n",
       "5                                   \\left\\{0\\right\\}   \n",
       "6  \\left\\{- \\frac{\\sqrt{6}}{2}, \\frac{\\sqrt{6}}{2...   \n",
       "7                                   \\left\\{0\\right\\}   \n",
       "8                               \\left\\{-3, 3\\right\\}   \n",
       "\n",
       "                      texto curso                           titulo  \\\n",
       "0  Resuelve las ecuaciones:   1BC  6 - Ecuaciones de segundo grado   \n",
       "1  Resuelve las ecuaciones:   1BC  6 - Ecuaciones de segundo grado   \n",
       "2  Resuelve las ecuaciones:   1BC  6 - Ecuaciones de segundo grado   \n",
       "3  Resuelve las ecuaciones:   1BC  6 - Ecuaciones de segundo grado   \n",
       "4  Resuelve las ecuaciones:   1BC  6 - Ecuaciones de segundo grado   \n",
       "5  Resuelve las ecuaciones:   1BC  6 - Ecuaciones de segundo grado   \n",
       "6  Resuelve las ecuaciones:   1BC  6 - Ecuaciones de segundo grado   \n",
       "7  Resuelve las ecuaciones:   1BC  6 - Ecuaciones de segundo grado   \n",
       "8  Resuelve las ecuaciones:   1BC  6 - Ecuaciones de segundo grado   \n",
       "\n",
       "  n_ejercicio  dificultad  n_columnas  puntos  \n",
       "0     p016e01           1           2       1  \n",
       "1     p016e01           1           2       1  \n",
       "2     p016e01           1           2       1  \n",
       "3     p016e01           1           2       1  \n",
       "4     p016e01           1           2       1  \n",
       "5     p016e01           1           2       1  \n",
       "6     p016e01           1           2       1  \n",
       "7     p016e01           1           2       1  \n",
       "8     p016e01           1           2       1  "
      ]
     },
     "metadata": {},
     "output_type": "display_data"
    }
   ],
   "source": [
    "escribir_preambulo(fichero, titulo, 'ejercicios')\n",
    "for s in df_ejercicios.groupby('n_ejercicio').count().index : \n",
    "    display(md(\"**Ejercicio: **\" + s ))\n",
    "    display(df_ejercicios[df_ejercicios.n_ejercicio == s])\n",
    "    escribir_ejercicios(df_ejercicios[df_ejercicios.n_ejercicio == s],fichero)\n",
    "\n",
    "escribir_fin(fichero)"
   ]
  }
 ],
 "metadata": {
  "kernelspec": {
   "display_name": "Python 3",
   "language": "python",
   "name": "python3"
  },
  "language_info": {
   "codemirror_mode": {
    "name": "ipython",
    "version": 3
   },
   "file_extension": ".py",
   "mimetype": "text/x-python",
   "name": "python",
   "nbconvert_exporter": "python",
   "pygments_lexer": "ipython3",
   "version": "3.6.5"
  }
 },
 "nbformat": 4,
 "nbformat_minor": 2
}
