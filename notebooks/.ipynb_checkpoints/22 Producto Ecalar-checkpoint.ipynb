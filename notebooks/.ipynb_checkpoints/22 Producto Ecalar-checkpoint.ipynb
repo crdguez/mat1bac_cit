{
 "cells": [
  {
   "cell_type": "code",
   "execution_count": 1,
   "metadata": {},
   "outputs": [
    {
     "name": "stdout",
     "output_type": "stream",
     "text": [
      "IPython console for SymPy 1.2 (Python 3.6.5-64-bit) (ground types: gmpy)\n",
      "\n",
      "These commands were executed:\n",
      ">>> from __future__ import division\n",
      ">>> from sympy import *\n",
      ">>> x, y, z, t = symbols('x y z t')\n",
      ">>> k, m, n = symbols('k m n', integer=True)\n",
      ">>> f, g, h = symbols('f g h', cls=Function)\n",
      ">>> init_printing()\n",
      "\n",
      "Documentation can be found at http://docs.sympy.org/1.2/\n",
      "\n"
     ]
    }
   ],
   "source": [
    "from sympy import init_session\n",
    "from sympy import div, QQ\n",
    "from sympy.parsing.latex import parse_latex\n",
    "from sympy.parsing.sympy_parser import parse_expr\n",
    "from IPython.display import Markdown as md\n",
    "from IPython.display import display\n",
    "import numpy as np\n",
    "import pandas as pd\n",
    "    \n",
    "from sympy.geometry import Point, Line\n",
    "from sympy.vector import CoordSys3D, vector\n",
    "\n",
    "\n",
    "init_session()\n",
    "\n",
    "a, b, c, d = symbols('a b c d', real = True)\n",
    "from docparts import añadir_ejercicios, doc_ejer, escribir_preambulo, escribir_ejercicios, escribir_fin\n",
    "\n",
    "df_ejercicios = pd.DataFrame()\n",
    "\n",
    "fichero = 'prodesc'\n",
    "titulo = '22 - Producto Escalar'\n",
    "curso = '1BC'\n",
    "\n",
    "\n",
    "x,y = symbols('x, y', real=True)\n"
   ]
  },
  {
   "cell_type": "code",
   "execution_count": 2,
   "metadata": {},
   "outputs": [
    {
     "data": {
      "image/png": "[encoded data removed]",
      "text/latex": [
       "$$\\left ( \\mathbf{\\hat{i}_{N}}, \\quad \\mathbf{\\hat{j}_{N}}, \\quad \\mathbf{\\hat{k}_{N}}\\right )$$"
      ],
      "text/plain": [
       "(N_i, N_j, N_k)"
      ]
     },
     "metadata": {},
     "output_type": "display_data"
    },
    {
     "data": {
      "image/png": "[encoded data removed]",
      "text/latex": [
       "$$\\mathbf{\\hat{i}_{N}} + (2)\\mathbf{\\hat{j}_{N}}$$"
      ],
      "text/plain": [
       "N.i + 2*N.j"
      ]
     },
     "execution_count": 2,
     "metadata": {},
     "output_type": "execute_result"
    }
   ],
   "source": [
    "N = CoordSys3D('N') #instanciamos un sistema de coordenadas en R3\n",
    "\n",
    "i, j, k = N.base_vectors()\n",
    "\n",
    "display(N.base_vectors())\n",
    "v = [1,2,0]\n",
    "base = [i,j,k]\n",
    "u=(np.array(v)*np.array(base)).sum()\n",
    "type(u)\n",
    "u.components\n",
    "u\n"
   ]
  },
  {
   "cell_type": "code",
   "execution_count": 3,
   "metadata": {},
   "outputs": [
    {
     "name": "stdout",
     "output_type": "stream",
     "text": [
      "\\mathbf{\\hat{i}_{N}} + (2)\\mathbf{\\hat{j}_{N}}\n"
     ]
    },
    {
     "data": {
      "image/png": "[encoded data removed]",
      "text/latex": [
       "$$\\mathbf{\\hat{i}_{N}} + (2)\\mathbf{\\hat{j}_{N}}$$"
      ],
      "text/plain": [
       "N.i + 2*N.j"
      ]
     },
     "execution_count": 3,
     "metadata": {},
     "output_type": "execute_result"
    }
   ],
   "source": [
    "w=i+2*j\n",
    "print(latex(w))\n",
    "w"
   ]
  },
  {
   "cell_type": "code",
   "execution_count": 4,
   "metadata": {},
   "outputs": [],
   "source": [
    "N = CoordSys3D('N') #instanciamos un sistema de coordenadas en R3\n",
    "\n",
    "i, j, k = N.base_vectors()\n"
   ]
  },
  {
   "cell_type": "code",
   "execution_count": 7,
   "metadata": {},
   "outputs": [
    {
     "data": {
      "text/markdown": [
       "**Sea \n",
       "$\\left\\lbrace\\overrightarrow{ i},\\overrightarrow{ j}\\right\\rbrace$ la base canónica de $V_2$, y los vectores:\n",
       "$\\overrightarrow u=  - 2\\overrightarrow i + \\overrightarrow j$, \n",
       "$\\overrightarrow v = 2\\overrightarrow i - 3\\overrightarrow j$, \n",
       "$\\overrightarrow w = \\overrightarrow i + \\overrightarrow j$, \n",
       "$\\overrightarrow z =  - \\overrightarrow i - 3\\overrightarrow j$\n",
       "\tCalcular:**"
      ],
      "text/plain": [
       "<IPython.core.display.Markdown object>"
      ]
     },
     "metadata": {},
     "output_type": "display_data"
    },
    {
     "data": {
      "image/png": "[encoded data removed]",
      "text/latex": [
       "$$\\left [ \\left [ \\left ( -2, \\quad 1\\right ), \\quad \\left ( 2, \\quad -3\\right ), \\quad \\left ( 1, \\quad 1\\right ), \\quad \\left ( -1, \\quad -3\\right )\\right ], \\quad \\left [ \\left ( 2, \\quad -5\\right ), \\quad \\left ( 4, \\quad -11\\right ), \\quad \\left ( 13, \\quad -2\\right ), \\quad \\left ( 3, \\quad 7\\right )\\right ]\\right ]$$"
      ],
      "text/plain": [
       "[[(-2, 1), (2, -3), (1, 1), (-1, -3)], [(2, -5), (4, -11), (13, -2), (3, 7)]]"
      ]
     },
     "metadata": {},
     "output_type": "display_data"
    }
   ],
   "source": [
    "# Página 35 ejercicio 1\n",
    "\n",
    "texto_ejercicio = r\"\"\"Sea \n",
    "$\\left\\lbrace\\overrightarrow{ i},\\overrightarrow{ j}\\right\\rbrace$ la base canónica de $V_2$, y los vectores:\n",
    "$\\overrightarrow u=  - 2\\overrightarrow i + \\overrightarrow j$, \n",
    "$\\overrightarrow v = 2\\overrightarrow i - 3\\overrightarrow j$, \n",
    "$\\overrightarrow w = \\overrightarrow i + \\overrightarrow j$, \n",
    "$\\overrightarrow z =  - \\overrightarrow i - 3\\overrightarrow j$\n",
    "\tCalcular:\"\"\"\n",
    "\n",
    "n_ejercicio = 'p035e01'\n",
    "\n",
    "display(md(\"**\"+texto_ejercicio+\"**\"))\n",
    "\n",
    "N = CoordSys3D('N') #instanciamos un sistema de coordenadas en R3\n",
    "\n",
    "i, j, k = N.base_vectors()\n",
    "\n",
    "# vectores iniciales correspondientes al texto del enunciado\n",
    "\n",
    "vectores = [-2*i+j, 2*i-3*j, i+j, -i-3*j]\n",
    "\n",
    "u,v,w,z = vectores\n",
    "\n",
    "enunciado_latex = [\"\"\"Las coordenadas de cada uno de ellos respecto de la base canónica.\n",
    "\tLas coordenadas de los vectores:$\\overrightarrow u + 2\\overrightarrow v$, \n",
    "    $5\\overrightarrow u - \\overrightarrow w$, \n",
    "    $ - 3\\overrightarrow v + 4\\overrightarrow w$, \n",
    "    $\\overrightarrow w - 2\\overrightarrow z$\"\"\", ]\n",
    "\n",
    "enunciado = [[u+2*v, 5*u-w, -3*v+4*w, w-2*z]]\n",
    "\n",
    "solucion = []\n",
    "\n",
    "for i, s in enumerate(enunciado) : \n",
    "    so1 = [tuple(l.components.values()) for l in  vectores]\n",
    "    so2 = [tuple(l.components.values()) for l in s]\n",
    "    solucion.append([so1,so2])\n",
    "    display([so1,so2])\n",
    "\n",
    "df_ejercicios = df_ejercicios.append(añadir_ejercicios(enunciado_latex, enunciado, solucion, texto_ejercicio, curso, titulo , n_ejercicio, '1', '1', enun_tex=False), ignore_index=True)\n"
   ]
  },
  {
   "cell_type": "code",
   "execution_count": 16,
   "metadata": {},
   "outputs": [
    {
     "data": {
      "text/markdown": [
       "**Estudia la dependencia lineal de los siguientes conjuntos de vectores:**"
      ],
      "text/plain": [
       "<IPython.core.display.Markdown object>"
      ]
     },
     "metadata": {},
     "output_type": "display_data"
    },
    {
     "data": {
      "text/markdown": [
       "$\\overrightarrow{u}=(4, 12) \\, \\ \\overrightarrow{v}=(2, 6)$"
      ],
      "text/plain": [
       "<IPython.core.display.Markdown object>"
      ]
     },
     "metadata": {},
     "output_type": "display_data"
    },
    {
     "data": {
      "text/plain": [
       "True"
      ]
     },
     "metadata": {},
     "output_type": "display_data"
    },
    {
     "data": {
      "text/markdown": [
       "$\\overrightarrow{u}=(1, 2) \\, \\ \\overrightarrow{v}=(3, 4)$"
      ],
      "text/plain": [
       "<IPython.core.display.Markdown object>"
      ]
     },
     "metadata": {},
     "output_type": "display_data"
    },
    {
     "data": {
      "text/plain": [
       "False"
      ]
     },
     "metadata": {},
     "output_type": "display_data"
    },
    {
     "data": {
      "text/markdown": [
       "$\\overrightarrow{u}=(1, 1) \\, \\ \\overrightarrow{v}=(-2, -3)$"
      ],
      "text/plain": [
       "<IPython.core.display.Markdown object>"
      ]
     },
     "metadata": {},
     "output_type": "display_data"
    },
    {
     "data": {
      "text/plain": [
       "False"
      ]
     },
     "metadata": {},
     "output_type": "display_data"
    }
   ],
   "source": [
    "# Página 35 ejercicio 2\n",
    "\n",
    "texto_ejercicio = r\"\"\"Estudia la dependencia lineal de los siguientes conjuntos de vectores:\"\"\"\n",
    "\n",
    "n_ejercicio = 'p035e02'\n",
    "\n",
    "display(md(\"**\"+texto_ejercicio+\"**\"))\n",
    "\n",
    "pre_enunciado_latex = [[(4,12),(2,6)],\n",
    "                       [(1,2),(3,4)],\n",
    "                       [(1,1),(-2,-3)]\n",
    "                      ]\n",
    "\n",
    "enunciado_latex, enunciado, solucion = [],[],[]\n",
    "\n",
    "for i, s in enumerate(pre_enunciado_latex) :\n",
    "    enunciado_latex.append(r\"\\overrightarrow{u}=\"+str(s[0])+r\" \\, \\ \\overrightarrow{v}=\"+str(s[1]))\n",
    "    display(md(\"$\"+enunciado_latex[i]+\"$\"))\n",
    "    en=\"Point\"+str(s[0])+\".is_collinear(Point\"+str(s[1])+\", Point(0,0))\"\n",
    "    enunciado.append(en)\n",
    "    solucion.append(S(en))\n",
    "    display(solucion[i])\n",
    "\n",
    "df_ejercicios = df_ejercicios.append(añadir_ejercicios(enunciado_latex, enunciado, solucion, texto_ejercicio, curso, titulo , n_ejercicio, '1', '2', enun_tex=True), ignore_index=True)\n"
   ]
  },
  {
   "cell_type": "code",
   "execution_count": 10,
   "metadata": {},
   "outputs": [
    {
     "data": {
      "text/latex": [
       "$$\\left ( \\left[\\begin{matrix}1 & 0\\\\0 & 1\\end{matrix}\\right], \\quad \\left ( 0, \\quad 1\\right )\\right )$$"
      ],
      "text/plain": [
       "⎛⎡1  0⎤        ⎞\n",
       "⎜⎢    ⎥, (0, 1)⎟\n",
       "⎝⎣0  1⎦        ⎠"
      ]
     },
     "execution_count": 10,
     "metadata": {},
     "output_type": "execute_result"
    }
   ],
   "source": [
    "# otra forma con matrices, aqui dice que el vector 0 y el 1 son linelamente independientes\n",
    "Matrix([(1,2),(3,4)]).rref()"
   ]
  },
  {
   "cell_type": "code",
   "execution_count": 18,
   "metadata": {},
   "outputs": [
    {
     "data": {
      "text/markdown": [
       "**Respecto de una base ortonormal tenemos dos vectores $\\overrightarrow{u}$ y $\\overrightarrow{v}$.\n",
       "Calcular $\\overrightarrow{u}\\cdot\\overrightarrow{v}$, $|\\overrightarrow{u}| \\ y \\ |\\overrightarrow{v}|$ \n",
       "y $\\angle(\\overrightarrow{u},\\overrightarrow{v})$ siendo:**"
      ],
      "text/plain": [
       "<IPython.core.display.Markdown object>"
      ]
     },
     "metadata": {},
     "output_type": "display_data"
    },
    {
     "data": {
      "text/markdown": [
       "$\\overrightarrow{u}=(2, -3) \\, \\ \\overrightarrow{v}=(5, 4)$"
      ],
      "text/plain": [
       "<IPython.core.display.Markdown object>"
      ]
     },
     "metadata": {},
     "output_type": "display_data"
    },
    {
     "data": {
      "image/png": "[encoded data removed]",
      "text/latex": [
       "$$\\left [ -2, \\quad \\left [ \\sqrt{13}, \\quad \\sqrt{41}\\right ], \\quad \\operatorname{acos}{\\left (- \\frac{2 \\sqrt{533}}{533} \\right )}\\right ]$$"
      ],
      "text/plain": [
       "⎡                    ⎛-2⋅√533 ⎞⎤\n",
       "⎢-2, [√13, √41], acos⎜────────⎟⎥\n",
       "⎣                    ⎝  533   ⎠⎦"
      ]
     },
     "metadata": {},
     "output_type": "display_data"
    },
    {
     "data": {
      "text/markdown": [
       "$\\overrightarrow{u}=(1, 2) \\, \\ \\overrightarrow{v}=(3, 4)$"
      ],
      "text/plain": [
       "<IPython.core.display.Markdown object>"
      ]
     },
     "metadata": {},
     "output_type": "display_data"
    },
    {
     "data": {
      "image/png": "[encoded data removed]",
      "text/latex": [
       "$$\\left [ 11, \\quad \\left [ \\sqrt{5}, \\quad 5\\right ], \\quad \\operatorname{acos}{\\left (\\frac{11 \\sqrt{5}}{25} \\right )}\\right ]$$"
      ],
      "text/plain": [
       "⎡                 ⎛11⋅√5⎞⎤\n",
       "⎢11, [√5, 5], acos⎜─────⎟⎥\n",
       "⎣                 ⎝  25 ⎠⎦"
      ]
     },
     "metadata": {},
     "output_type": "display_data"
    },
    {
     "data": {
      "text/markdown": [
       "$\\overrightarrow{u}=(1, 1) \\, \\ \\overrightarrow{v}=(-2, -3)$"
      ],
      "text/plain": [
       "<IPython.core.display.Markdown object>"
      ]
     },
     "metadata": {},
     "output_type": "display_data"
    },
    {
     "data": {
      "image/png": "[encoded data removed]",
      "text/latex": [
       "$$\\left [ -5, \\quad \\left [ \\sqrt{2}, \\quad \\sqrt{13}\\right ], \\quad \\operatorname{acos}{\\left (- \\frac{5 \\sqrt{26}}{26} \\right )}\\right ]$$"
      ],
      "text/plain": [
       "⎡                   ⎛-5⋅√26 ⎞⎤\n",
       "⎢-5, [√2, √13], acos⎜───────⎟⎥\n",
       "⎣                   ⎝   26  ⎠⎦"
      ]
     },
     "metadata": {},
     "output_type": "display_data"
    }
   ],
   "source": [
    "# Página 36 ejercicio 9\n",
    "\n",
    "texto_ejercicio = r\"\"\"Respecto de una base ortonormal tenemos dos vectores $\\overrightarrow{u}$ y $\\overrightarrow{v}$.\n",
    "Calcular $\\overrightarrow{u}\\cdot\\overrightarrow{v}$, $|\\overrightarrow{u}| \\ y \\ |\\overrightarrow{v}|$ \n",
    "y $\\angle(\\overrightarrow{u},\\overrightarrow{v})$ siendo:\"\"\"\n",
    "\n",
    "\n",
    "n_ejercicio = 'p036e09'\n",
    "\n",
    "display(md(\"**\"+texto_ejercicio+\"**\"))\n",
    "\n",
    "N = CoordSys3D('N') #instanciamos un sistema de coordenadas en R3\n",
    "\n",
    "i, j, k = N.base_vectors()\n",
    "\n",
    "pre_enunciado_latex = [[(2,-3),(5,4)],\n",
    "                       [(1,2),(3,4)],\n",
    "                       [(1,1),(-2,-3)]\n",
    "                      ]\n",
    "\n",
    "enunciado_latex, enunciado, solucion = [],[],[]\n",
    "\n",
    "for i, s in enumerate(pre_enunciado_latex) :\n",
    "    enunciado_latex.append(r\"\\overrightarrow{u}=\"+str(s[0])+r\" \\, \\ \\overrightarrow{v}=\"+str(s[1]))\n",
    "    display(md(\"$\"+enunciado_latex[i]+\"$\"))\n",
    "    en=[\"Point\"+str(s[0])+\".dot(Point\"+str(s[1])+\")\"]\n",
    "    en.append([\"Point\"+str(s[0])+\".distance(Point(0,0))\",\"Point\"+str(s[1])+\".distance(Point(0,0))\"])\n",
    "    en.append(\"acos(\"+str(en[0])+\"/(\"+str(en[1][0])+\"*\"+str(en[1][1])+\"))\")\n",
    "    enunciado.append(en)\n",
    "    solucion.append(S(en))\n",
    "    display(solucion[i])\n",
    "\n",
    "df_ejercicios = df_ejercicios.append(añadir_ejercicios(enunciado_latex, enunciado, solucion, texto_ejercicio, curso, titulo , n_ejercicio, '1', '2', enun_tex=True), ignore_index=True)\n"
   ]
  },
  {
   "cell_type": "code",
   "execution_count": null,
   "metadata": {
    "collapsed": true
   },
   "outputs": [],
   "source": []
  },
  {
   "cell_type": "code",
   "execution_count": null,
   "metadata": {},
   "outputs": [],
   "source": []
  },
  {
   "cell_type": "code",
   "execution_count": 12,
   "metadata": {},
   "outputs": [
    {
     "data": {
      "image/png": "[encoded data removed]",
      "text/latex": [
       "$$5$$"
      ],
      "text/plain": [
       "5"
      ]
     },
     "execution_count": 12,
     "metadata": {},
     "output_type": "execute_result"
    }
   ],
   "source": [
    "A=Point(3,4)\n",
    "A.distance(Point(0,0))"
   ]
  },
  {
   "cell_type": "code",
   "execution_count": 11,
   "metadata": {},
   "outputs": [],
   "source": [
    "df_ejercicios.to_csv('ejercicios22.csv', index = False)"
   ]
  },
  {
   "cell_type": "code",
   "execution_count": 12,
   "metadata": {},
   "outputs": [],
   "source": [
    "df_ejercicios = pd.read_csv('ejercicios22.csv', index_col= None)"
   ]
  },
  {
   "cell_type": "code",
   "execution_count": 13,
   "metadata": {},
   "outputs": [
    {
     "data": {
      "text/html": [
       "<div>\n",
       "<style scoped>\n",
       "    .dataframe tbody tr th:only-of-type {\n",
       "        vertical-align: middle;\n",
       "    }\n",
       "\n",
       "    .dataframe tbody tr th {\n",
       "        vertical-align: top;\n",
       "    }\n",
       "\n",
       "    .dataframe thead th {\n",
       "        text-align: right;\n",
       "    }\n",
       "</style>\n",
       "<table border=\"1\" class=\"dataframe\">\n",
       "  <thead>\n",
       "    <tr style=\"text-align: right;\">\n",
       "      <th></th>\n",
       "      <th>enunciado_latex</th>\n",
       "      <th>enunciado</th>\n",
       "      <th>solucion</th>\n",
       "      <th>texto</th>\n",
       "      <th>curso</th>\n",
       "      <th>titulo</th>\n",
       "      <th>n_ejercicio</th>\n",
       "      <th>dificultad</th>\n",
       "      <th>n_columnas</th>\n",
       "      <th>puntos</th>\n",
       "      <th>enun_tex</th>\n",
       "      <th>sol_tex</th>\n",
       "    </tr>\n",
       "  </thead>\n",
       "  <tbody>\n",
       "    <tr>\n",
       "      <th>0</th>\n",
       "      <td>Las coordenadas de cada uno de ellos respecto ...</td>\n",
       "      <td>[2*N.i + (-5)*N.j, (-11)*N.i + 4*N.j, (-2)*N.i...</td>\n",
       "      <td>[[(-2, 1), (2, -3), (1, 1), (-1, -3)], [(2, -5...</td>\n",
       "      <td>Sea \\n$\\left\\lbrace\\overrightarrow{ i},\\overri...</td>\n",
       "      <td>1BC</td>\n",
       "      <td>22 - Producto Escalar</td>\n",
       "      <td>p035e01</td>\n",
       "      <td>1</td>\n",
       "      <td>1</td>\n",
       "      <td>1</td>\n",
       "      <td>False</td>\n",
       "      <td>True</td>\n",
       "    </tr>\n",
       "    <tr>\n",
       "      <th>1</th>\n",
       "      <td>\\overrightarrow{u}=(4, 12) \\, \\ \\overrightarro...</td>\n",
       "      <td>Point(4, 12).is_collinear(Point(2, 6), Point(0...</td>\n",
       "      <td>True</td>\n",
       "      <td>Estudia la dependencia lineal de los siguiente...</td>\n",
       "      <td>1BC</td>\n",
       "      <td>22 - Producto Escalar</td>\n",
       "      <td>p035e02</td>\n",
       "      <td>1</td>\n",
       "      <td>2</td>\n",
       "      <td>1</td>\n",
       "      <td>True</td>\n",
       "      <td>True</td>\n",
       "    </tr>\n",
       "    <tr>\n",
       "      <th>2</th>\n",
       "      <td>\\overrightarrow{u}=(1, 2) \\, \\ \\overrightarrow...</td>\n",
       "      <td>Point(1, 2).is_collinear(Point(3, 4), Point(0,0))</td>\n",
       "      <td>False</td>\n",
       "      <td>Estudia la dependencia lineal de los siguiente...</td>\n",
       "      <td>1BC</td>\n",
       "      <td>22 - Producto Escalar</td>\n",
       "      <td>p035e02</td>\n",
       "      <td>1</td>\n",
       "      <td>2</td>\n",
       "      <td>1</td>\n",
       "      <td>True</td>\n",
       "      <td>True</td>\n",
       "    </tr>\n",
       "    <tr>\n",
       "      <th>3</th>\n",
       "      <td>\\overrightarrow{u}=(1, 1) \\, \\ \\overrightarrow...</td>\n",
       "      <td>Point(1, 1).is_collinear(Point(-2, -3), Point(...</td>\n",
       "      <td>False</td>\n",
       "      <td>Estudia la dependencia lineal de los siguiente...</td>\n",
       "      <td>1BC</td>\n",
       "      <td>22 - Producto Escalar</td>\n",
       "      <td>p035e02</td>\n",
       "      <td>1</td>\n",
       "      <td>2</td>\n",
       "      <td>1</td>\n",
       "      <td>True</td>\n",
       "      <td>True</td>\n",
       "    </tr>\n",
       "  </tbody>\n",
       "</table>\n",
       "</div>"
      ],
      "text/plain": [
       "                                     enunciado_latex  \\\n",
       "0  Las coordenadas de cada uno de ellos respecto ...   \n",
       "1  \\overrightarrow{u}=(4, 12) \\, \\ \\overrightarro...   \n",
       "2  \\overrightarrow{u}=(1, 2) \\, \\ \\overrightarrow...   \n",
       "3  \\overrightarrow{u}=(1, 1) \\, \\ \\overrightarrow...   \n",
       "\n",
       "                                           enunciado  \\\n",
       "0  [2*N.i + (-5)*N.j, (-11)*N.i + 4*N.j, (-2)*N.i...   \n",
       "1  Point(4, 12).is_collinear(Point(2, 6), Point(0...   \n",
       "2  Point(1, 2).is_collinear(Point(3, 4), Point(0,0))   \n",
       "3  Point(1, 1).is_collinear(Point(-2, -3), Point(...   \n",
       "\n",
       "                                            solucion  \\\n",
       "0  [[(-2, 1), (2, -3), (1, 1), (-1, -3)], [(2, -5...   \n",
       "1                                               True   \n",
       "2                                              False   \n",
       "3                                              False   \n",
       "\n",
       "                                               texto curso  \\\n",
       "0  Sea \\n$\\left\\lbrace\\overrightarrow{ i},\\overri...   1BC   \n",
       "1  Estudia la dependencia lineal de los siguiente...   1BC   \n",
       "2  Estudia la dependencia lineal de los siguiente...   1BC   \n",
       "3  Estudia la dependencia lineal de los siguiente...   1BC   \n",
       "\n",
       "                  titulo n_ejercicio  dificultad  n_columnas  puntos  \\\n",
       "0  22 - Producto Escalar     p035e01           1           1       1   \n",
       "1  22 - Producto Escalar     p035e02           1           2       1   \n",
       "2  22 - Producto Escalar     p035e02           1           2       1   \n",
       "3  22 - Producto Escalar     p035e02           1           2       1   \n",
       "\n",
       "   enun_tex  sol_tex  \n",
       "0     False     True  \n",
       "1      True     True  \n",
       "2      True     True  \n",
       "3      True     True  "
      ]
     },
     "execution_count": 13,
     "metadata": {},
     "output_type": "execute_result"
    }
   ],
   "source": [
    "df_ejercicios"
   ]
  },
  {
   "cell_type": "code",
   "execution_count": 14,
   "metadata": {},
   "outputs": [
    {
     "data": {
      "text/markdown": [
       "**Ejercicio: **p035e01"
      ],
      "text/plain": [
       "<IPython.core.display.Markdown object>"
      ]
     },
     "metadata": {},
     "output_type": "display_data"
    },
    {
     "data": {
      "text/html": [
       "<div>\n",
       "<style scoped>\n",
       "    .dataframe tbody tr th:only-of-type {\n",
       "        vertical-align: middle;\n",
       "    }\n",
       "\n",
       "    .dataframe tbody tr th {\n",
       "        vertical-align: top;\n",
       "    }\n",
       "\n",
       "    .dataframe thead th {\n",
       "        text-align: right;\n",
       "    }\n",
       "</style>\n",
       "<table border=\"1\" class=\"dataframe\">\n",
       "  <thead>\n",
       "    <tr style=\"text-align: right;\">\n",
       "      <th></th>\n",
       "      <th>enunciado_latex</th>\n",
       "      <th>enunciado</th>\n",
       "      <th>solucion</th>\n",
       "      <th>texto</th>\n",
       "      <th>curso</th>\n",
       "      <th>titulo</th>\n",
       "      <th>n_ejercicio</th>\n",
       "      <th>dificultad</th>\n",
       "      <th>n_columnas</th>\n",
       "      <th>puntos</th>\n",
       "      <th>enun_tex</th>\n",
       "      <th>sol_tex</th>\n",
       "    </tr>\n",
       "  </thead>\n",
       "  <tbody>\n",
       "    <tr>\n",
       "      <th>0</th>\n",
       "      <td>Las coordenadas de cada uno de ellos respecto ...</td>\n",
       "      <td>[2*N.i + (-5)*N.j, (-11)*N.i + 4*N.j, (-2)*N.i...</td>\n",
       "      <td>[[(-2, 1), (2, -3), (1, 1), (-1, -3)], [(2, -5...</td>\n",
       "      <td>Sea \\n$\\left\\lbrace\\overrightarrow{ i},\\overri...</td>\n",
       "      <td>1BC</td>\n",
       "      <td>22 - Producto Escalar</td>\n",
       "      <td>p035e01</td>\n",
       "      <td>1</td>\n",
       "      <td>1</td>\n",
       "      <td>1</td>\n",
       "      <td>False</td>\n",
       "      <td>True</td>\n",
       "    </tr>\n",
       "  </tbody>\n",
       "</table>\n",
       "</div>"
      ],
      "text/plain": [
       "                                     enunciado_latex  \\\n",
       "0  Las coordenadas de cada uno de ellos respecto ...   \n",
       "\n",
       "                                           enunciado  \\\n",
       "0  [2*N.i + (-5)*N.j, (-11)*N.i + 4*N.j, (-2)*N.i...   \n",
       "\n",
       "                                            solucion  \\\n",
       "0  [[(-2, 1), (2, -3), (1, 1), (-1, -3)], [(2, -5...   \n",
       "\n",
       "                                               texto curso  \\\n",
       "0  Sea \\n$\\left\\lbrace\\overrightarrow{ i},\\overri...   1BC   \n",
       "\n",
       "                  titulo n_ejercicio  dificultad  n_columnas  puntos  \\\n",
       "0  22 - Producto Escalar     p035e01           1           1       1   \n",
       "\n",
       "   enun_tex  sol_tex  \n",
       "0     False     True  "
      ]
     },
     "metadata": {},
     "output_type": "display_data"
    },
    {
     "data": {
      "text/markdown": [
       "**Ejercicio: **p035e02"
      ],
      "text/plain": [
       "<IPython.core.display.Markdown object>"
      ]
     },
     "metadata": {},
     "output_type": "display_data"
    },
    {
     "data": {
      "text/html": [
       "<div>\n",
       "<style scoped>\n",
       "    .dataframe tbody tr th:only-of-type {\n",
       "        vertical-align: middle;\n",
       "    }\n",
       "\n",
       "    .dataframe tbody tr th {\n",
       "        vertical-align: top;\n",
       "    }\n",
       "\n",
       "    .dataframe thead th {\n",
       "        text-align: right;\n",
       "    }\n",
       "</style>\n",
       "<table border=\"1\" class=\"dataframe\">\n",
       "  <thead>\n",
       "    <tr style=\"text-align: right;\">\n",
       "      <th></th>\n",
       "      <th>enunciado_latex</th>\n",
       "      <th>enunciado</th>\n",
       "      <th>solucion</th>\n",
       "      <th>texto</th>\n",
       "      <th>curso</th>\n",
       "      <th>titulo</th>\n",
       "      <th>n_ejercicio</th>\n",
       "      <th>dificultad</th>\n",
       "      <th>n_columnas</th>\n",
       "      <th>puntos</th>\n",
       "      <th>enun_tex</th>\n",
       "      <th>sol_tex</th>\n",
       "    </tr>\n",
       "  </thead>\n",
       "  <tbody>\n",
       "    <tr>\n",
       "      <th>1</th>\n",
       "      <td>\\overrightarrow{u}=(4, 12) \\, \\ \\overrightarro...</td>\n",
       "      <td>Point(4, 12).is_collinear(Point(2, 6), Point(0...</td>\n",
       "      <td>True</td>\n",
       "      <td>Estudia la dependencia lineal de los siguiente...</td>\n",
       "      <td>1BC</td>\n",
       "      <td>22 - Producto Escalar</td>\n",
       "      <td>p035e02</td>\n",
       "      <td>1</td>\n",
       "      <td>2</td>\n",
       "      <td>1</td>\n",
       "      <td>True</td>\n",
       "      <td>True</td>\n",
       "    </tr>\n",
       "    <tr>\n",
       "      <th>2</th>\n",
       "      <td>\\overrightarrow{u}=(1, 2) \\, \\ \\overrightarrow...</td>\n",
       "      <td>Point(1, 2).is_collinear(Point(3, 4), Point(0,0))</td>\n",
       "      <td>False</td>\n",
       "      <td>Estudia la dependencia lineal de los siguiente...</td>\n",
       "      <td>1BC</td>\n",
       "      <td>22 - Producto Escalar</td>\n",
       "      <td>p035e02</td>\n",
       "      <td>1</td>\n",
       "      <td>2</td>\n",
       "      <td>1</td>\n",
       "      <td>True</td>\n",
       "      <td>True</td>\n",
       "    </tr>\n",
       "    <tr>\n",
       "      <th>3</th>\n",
       "      <td>\\overrightarrow{u}=(1, 1) \\, \\ \\overrightarrow...</td>\n",
       "      <td>Point(1, 1).is_collinear(Point(-2, -3), Point(...</td>\n",
       "      <td>False</td>\n",
       "      <td>Estudia la dependencia lineal de los siguiente...</td>\n",
       "      <td>1BC</td>\n",
       "      <td>22 - Producto Escalar</td>\n",
       "      <td>p035e02</td>\n",
       "      <td>1</td>\n",
       "      <td>2</td>\n",
       "      <td>1</td>\n",
       "      <td>True</td>\n",
       "      <td>True</td>\n",
       "    </tr>\n",
       "  </tbody>\n",
       "</table>\n",
       "</div>"
      ],
      "text/plain": [
       "                                     enunciado_latex  \\\n",
       "1  \\overrightarrow{u}=(4, 12) \\, \\ \\overrightarro...   \n",
       "2  \\overrightarrow{u}=(1, 2) \\, \\ \\overrightarrow...   \n",
       "3  \\overrightarrow{u}=(1, 1) \\, \\ \\overrightarrow...   \n",
       "\n",
       "                                           enunciado solucion  \\\n",
       "1  Point(4, 12).is_collinear(Point(2, 6), Point(0...     True   \n",
       "2  Point(1, 2).is_collinear(Point(3, 4), Point(0,0))    False   \n",
       "3  Point(1, 1).is_collinear(Point(-2, -3), Point(...    False   \n",
       "\n",
       "                                               texto curso  \\\n",
       "1  Estudia la dependencia lineal de los siguiente...   1BC   \n",
       "2  Estudia la dependencia lineal de los siguiente...   1BC   \n",
       "3  Estudia la dependencia lineal de los siguiente...   1BC   \n",
       "\n",
       "                  titulo n_ejercicio  dificultad  n_columnas  puntos  \\\n",
       "1  22 - Producto Escalar     p035e02           1           2       1   \n",
       "2  22 - Producto Escalar     p035e02           1           2       1   \n",
       "3  22 - Producto Escalar     p035e02           1           2       1   \n",
       "\n",
       "   enun_tex  sol_tex  \n",
       "1      True     True  \n",
       "2      True     True  \n",
       "3      True     True  "
      ]
     },
     "metadata": {},
     "output_type": "display_data"
    }
   ],
   "source": [
    "escribir_preambulo(fichero, titulo, 'ejercicios')\n",
    "for s in df_ejercicios.groupby('n_ejercicio').count().index : \n",
    "    display(md(\"**Ejercicio: **\" + s ))\n",
    "    display(df_ejercicios[df_ejercicios.n_ejercicio == s])\n",
    "    escribir_ejercicios(df_ejercicios[df_ejercicios.n_ejercicio == s],fichero)\n",
    "\n",
    "escribir_fin(fichero)"
   ]
  }
 ],
 "metadata": {
  "kernelspec": {
   "display_name": "Python 3",
   "language": "python",
   "name": "python3"
  },
  "language_info": {
   "codemirror_mode": {
    "name": "ipython",
    "version": 3
   },
   "file_extension": ".py",
   "mimetype": "text/x-python",
   "name": "python",
   "nbconvert_exporter": "python",
   "pygments_lexer": "ipython3",
   "version": "3.6.5"
  }
 },
 "nbformat": 4,
 "nbformat_minor": 2
}
