{
 "cells": [
  {
   "cell_type": "markdown",
   "metadata": {},
   "source": [
    "<a href=\"https://colab.research.google.com/github/crdguez/mat1bac_cit/blob/master/notebooks/Ejercicios1_3.ipynb\"><img align=\"left\" src=\"https://colab.research.google.com/assets/colab-badge.svg\" alt=\"Open in Colab\" title=\"Open and Execute in Google Colaboratory\"></a>"
   ]
  },
  {
   "cell_type": "code",
   "execution_count": 1,
   "metadata": {},
   "outputs": [
    {
     "name": "stdout",
     "output_type": "stream",
     "text": [
      "IPython console for SymPy 1.2 (Python 3.6.5-64-bit) (ground types: gmpy)\n",
      "\n",
      "These commands were executed:\n",
      ">>> from __future__ import division\n",
      ">>> from sympy import *\n",
      ">>> x, y, z, t = symbols('x y z t')\n",
      ">>> k, m, n = symbols('k m n', integer=True)\n",
      ">>> f, g, h = symbols('f g h', cls=Function)\n",
      ">>> init_printing()\n",
      "\n",
      "Documentation can be found at http://docs.sympy.org/1.2/\n",
      "\n"
     ]
    }
   ],
   "source": [
    "from sympy import init_session\n",
    "from sympy.parsing.latex import parse_latex\n",
    "from sympy.parsing.sympy_parser import parse_expr\n",
    "from sympy.functions.combinatorial.numbers import nC, nP, nT\n",
    "from IPython.display import Markdown as md\n",
    "from IPython.display import display\n",
    "import pandas as pd\n",
    "\n",
    "init_session()\n",
    "\n",
    "a, b, c, d = symbols('a b c d', real = True)\n",
    "from docparts import añadir_ejercicios, doc_ejer, escribir_preambulo, escribir_ejercicios, escribir_fin\n",
    "\n",
    "df_ejercicios = pd.DataFrame()\n",
    "\n",
    "fichero = 'ncombinatorios.tex'\n",
    "titulo = 'Números combinatorios. Binomio de Newton'\n",
    "curso = '1BC'\n"
   ]
  },
  {
   "cell_type": "code",
   "execution_count": 5,
   "metadata": {},
   "outputs": [
    {
     "data": {
      "text/markdown": [
       "**Simplifica los cocientes entre factoriales:**"
      ],
      "text/plain": [
       "<IPython.core.display.Markdown object>"
      ]
     },
     "metadata": {},
     "output_type": "display_data"
    },
    {
     "data": {
      "text/markdown": [
       "$\\frac{{7!}}{{6!}} \\rightarrow 7$"
      ],
      "text/plain": [
       "<IPython.core.display.Markdown object>"
      ]
     },
     "metadata": {},
     "output_type": "display_data"
    },
    {
     "data": {
      "text/markdown": [
       "$\\frac{{8!}}{{9!}} \\rightarrow \\frac{1}{9}$"
      ],
      "text/plain": [
       "<IPython.core.display.Markdown object>"
      ]
     },
     "metadata": {},
     "output_type": "display_data"
    },
    {
     "data": {
      "text/markdown": [
       "$\\frac{{9!}}{{5!\\cdot 4!}} \\rightarrow 126$"
      ],
      "text/plain": [
       "<IPython.core.display.Markdown object>"
      ]
     },
     "metadata": {},
     "output_type": "display_data"
    },
    {
     "data": {
      "text/markdown": [
       "$\\frac{{m!}}{{(m - 1)!}} \\rightarrow m$"
      ],
      "text/plain": [
       "<IPython.core.display.Markdown object>"
      ]
     },
     "metadata": {},
     "output_type": "display_data"
    },
    {
     "data": {
      "text/markdown": [
       "$\\frac{{( {m + 1} )!}}{{( {m - 1} )!}} \\rightarrow m \\left(m + 1\\right)$"
      ],
      "text/plain": [
       "<IPython.core.display.Markdown object>"
      ]
     },
     "metadata": {},
     "output_type": "display_data"
    }
   ],
   "source": [
    "# Página 9 ejercicio 2\n",
    "\n",
    "texto_ejercicio = 'Simplifica los cocientes entre factoriales:'\n",
    "n_ejercicio = 'p9e2'\n",
    "\n",
    "display(md(\"**\"+texto_ejercicio+\"**\"))\n",
    "\n",
    "enunciado_latex = [r'\\frac{{7!}}{{6!}}',\n",
    "                   r'\\frac{{8!}}{{9!}}',\n",
    "                   r'\\frac{{9!}}{{5!\\cdot 4!}}',\n",
    "                   r'\\frac{{m!}}{{(m - 1)!}}',\n",
    "                   r'\\frac{{( {m + 1} )!}}{{( {m - 1} )!}}'\n",
    "                  ]\n",
    "enunciado, solucion = [], []\n",
    "for s in enunciado_latex :\n",
    "    display(md(\"$\"+ s +\" \\\\rightarrow \" + latex(combsimp(parse_latex(s)))+\"$\"))\n",
    "    enunciado.append(parse_latex(s))\n",
    "    solucion.append(latex(combsimp(parse_latex(s)))) \n",
    "\n",
    "df_ejercicios = df_ejercicios.append(añadir_ejercicios(enunciado_latex, enunciado, solucion, texto_ejercicio, curso, titulo, n_ejercicio), ignore_index=True)\n"
   ]
  },
  {
   "cell_type": "code",
   "execution_count": 12,
   "metadata": {},
   "outputs": [
    {
     "data": {
      "text/markdown": [
       "**Calcula las siguientes operaciones:**"
      ],
      "text/plain": [
       "<IPython.core.display.Markdown object>"
      ]
     },
     "metadata": {},
     "output_type": "display_data"
    },
    {
     "data": {
      "text/markdown": [
       "$\\binom{252}{250} \\rightarrow 63000 binom$"
      ],
      "text/plain": [
       "<IPython.core.display.Markdown object>"
      ]
     },
     "metadata": {},
     "output_type": "display_data"
    },
    {
     "data": {
      "text/markdown": [
       "$\\binom{25}{3} + \\binom{25}{4} \\rightarrow 175 binom$"
      ],
      "text/plain": [
       "<IPython.core.display.Markdown object>"
      ]
     },
     "metadata": {},
     "output_type": "display_data"
    },
    {
     "data": {
      "text/markdown": [
       "$\\binom{9}{6} + \\binom{9}{7} + \\binom{10}{2} \\rightarrow 137 binom$"
      ],
      "text/plain": [
       "<IPython.core.display.Markdown object>"
      ]
     },
     "metadata": {},
     "output_type": "display_data"
    },
    {
     "data": {
      "text/markdown": [
       "$\\binom{4}{2} + \\binom{4}{3} + \\binom{5}{4}+ \\binom{6}{5} + \\binom{7}{6} + \\binom{8}{7} \\rightarrow 168 binom$"
      ],
      "text/plain": [
       "<IPython.core.display.Markdown object>"
      ]
     },
     "metadata": {},
     "output_type": "display_data"
    },
    {
     "data": {
      "text/markdown": [
       "$\\binom{4}{0} + \\binom{4}{1} + \\binom{4}{2}+\\binom{4}{3} \\rightarrow 24 binom$"
      ],
      "text/plain": [
       "<IPython.core.display.Markdown object>"
      ]
     },
     "metadata": {},
     "output_type": "display_data"
    }
   ],
   "source": [
    "# Página 9 ejercicio 3\n",
    "\n",
    "texto_ejercicio = 'Calcula las siguientes operaciones:'\n",
    "n_ejercicio = 'p9e3'\n",
    "\n",
    "display(md(\"**\"+texto_ejercicio+\"**\"))\n",
    "\n",
    "enunciado_latex = [r'\\binom{252}{250}',\n",
    "                   r'\\binom{25}{3} + \\binom{25}{4}',\n",
    "                   r'\\binom{9}{6} + \\binom{9}{7} + \\binom{10}{2}',\n",
    "                r'\\binom{4}{2} + \\binom{4}{3} + \\binom{5}{4}+ \\binom{6}{5} + \\binom{7}{6} + \\binom{8}{7}',\n",
    "                    r'\\binom{4}{0} + \\binom{4}{1} + \\binom{4}{2}+\\binom{4}{3}'\n",
    "                  ]\n",
    "enunciado, solucion = [], []\n",
    "for s in enunciado_latex :\n",
    "    display(md(\"$\"+ s +\" \\\\rightarrow \" + latex(combsimp(parse_latex(s)))+\"$\"))\n",
    "    enunciado.append(parse_latex(s))\n",
    "    solucion.append(latex(combsimp(parse_latex(s)))) \n",
    "\n",
    "df_ejercicios = df_ejercicios.append(añadir_ejercicios(enunciado_latex, enunciado, solucion, texto_ejercicio, curso, titulo, n_ejercicio), ignore_index=True)\n"
   ]
  },
  {
   "cell_type": "code",
   "execution_count": 13,
   "metadata": {},
   "outputs": [
    {
     "data": {
      "image/png": "[encoded data removed]",
      "text/latex": [
       "$$31626$$"
      ],
      "text/plain": [
       "31626"
      ]
     },
     "execution_count": 13,
     "metadata": {},
     "output_type": "execute_result"
    }
   ],
   "source": [
    "combsimp(binomial(252, 250))\n"
   ]
  },
  {
   "cell_type": "code",
   "execution_count": 19,
   "metadata": {},
   "outputs": [
    {
     "data": {
      "text/plain": [
       "'\\\\int x^{2}\\\\, dx'"
      ]
     },
     "execution_count": 19,
     "metadata": {},
     "output_type": "execute_result"
    }
   ],
   "source": [
    "latex(latex(Integral(x**2, x)))"
   ]
  },
  {
   "cell_type": "markdown",
   "metadata": {},
   "source": [
    "## Ejercicio\n",
    "\n",
    "Calcula las siguientes operaciones:\n",
    "- $\\binom{252}{250}$\t\n",
    "- $\\binom{25}{3} + \\binom{25}{4} = \\binom{26}{4}$\n",
    "- $\\binom{9}{6} + \\binom{9}{7} + \\binom{10}{2}=\\binom{10}{7}+\\binom{10}{8}=\\binom{11}{8}$\n",
    "- $\\binom{4}{2} + \\binom{4}{3} + \\binom{5}{4}+\\binom{6}{5} + \\binom{7}{6} + \\binom{8}{7}=\\binom{9}{7}$\n",
    "- $\\binom{4}{0} + \\binom{4}{1} + \\binom{4}{2}+\\binom{4}{3} = 2^4-1$\n",
    "\n"
   ]
  },
  {
   "cell_type": "code",
   "execution_count": 12,
   "metadata": {},
   "outputs": [],
   "source": [
    "from sympy.functions.combinatorial.numbers import nC, nP, nT"
   ]
  },
  {
   "cell_type": "code",
   "execution_count": 37,
   "metadata": {},
   "outputs": [
    {
     "data": {
      "image/png": "[encoded data removed]",
      "text/latex": [
       "$$10$$"
      ],
      "text/plain": [
       "10"
      ]
     },
     "execution_count": 37,
     "metadata": {},
     "output_type": "execute_result"
    }
   ],
   "source": [
    "nC(5,3)"
   ]
  },
  {
   "cell_type": "code",
   "execution_count": 8,
   "metadata": {},
   "outputs": [
    {
     "data": {
      "text/markdown": [
       "$\\binom{252}{250}  \\rightarrow   31626$"
      ],
      "text/plain": [
       "<IPython.core.display.Markdown object>"
      ]
     },
     "metadata": {},
     "output_type": "display_data"
    },
    {
     "data": {
      "text/markdown": [
       "$\\binom{25}{3} + \\binom{25}{4}  \\rightarrow   14950$"
      ],
      "text/plain": [
       "<IPython.core.display.Markdown object>"
      ]
     },
     "metadata": {},
     "output_type": "display_data"
    },
    {
     "data": {
      "text/markdown": [
       "$\\binom{9}{6} + \\binom{9}{7} + \\binom{10}{2}  \\rightarrow   165$"
      ],
      "text/plain": [
       "<IPython.core.display.Markdown object>"
      ]
     },
     "metadata": {},
     "output_type": "display_data"
    },
    {
     "data": {
      "text/markdown": [
       "$\\binom{4}{2} + \\binom{4}{3} + \\binom{5}{4}+ \\binom{6}{5} + \\binom{7}{6} + \\binom{8}{7}  \\rightarrow   36$"
      ],
      "text/plain": [
       "<IPython.core.display.Markdown object>"
      ]
     },
     "metadata": {},
     "output_type": "display_data"
    },
    {
     "data": {
      "text/markdown": [
       "$\\binom{4}{0} + \\binom{4}{1} + \\binom{4}{2}+\\binom{4}{3}  \\rightarrow   15$"
      ],
      "text/plain": [
       "<IPython.core.display.Markdown object>"
      ]
     },
     "metadata": {},
     "output_type": "display_data"
    }
   ],
   "source": [
    "enunciado_latex  = [r'\\binom{252}{250}',r'\\binom{25}{3} + \\binom{25}{4}',r'\\binom{9}{6} + \\binom{9}{7} + \\binom{10}{2}',\n",
    "                    r'\\binom{4}{2} + \\binom{4}{3} + \\binom{5}{4}+ \\binom{6}{5} + \\binom{7}{6} + \\binom{8}{7}',\n",
    "                    r'\\binom{4}{0} + \\binom{4}{1} + \\binom{4}{2}+\\binom{4}{3}']\n",
    "\n",
    "enunciado = [[252,250], [26,4], [11,8],[9,7]]\n",
    "\n",
    "\n",
    "solucion = []\n",
    "for i in range(len(enunciado)):\n",
    "    solucion.append(latex(nC(enunciado[i][0],enunciado[i][1])))\n",
    "    display(md(\"$\"+enunciado_latex[i]+\"  \\\\rightarrow   \" +solucion[i] +\"$\"))\n",
    "enunciado.append([2**4-1])\n",
    "solucion.append(latex(2**4-1))\n",
    "display(md(\"$\"+enunciado_latex[i+1] + \"  \\\\rightarrow   \" + solucion[i+1] +\"$\"))\n"
   ]
  },
  {
   "cell_type": "code",
   "execution_count": 75,
   "metadata": {},
   "outputs": [
    {
     "data": {
      "text/markdown": [
       "$\\binom{252}{250}  \\rightarrow   31626$"
      ],
      "text/plain": [
       "<IPython.core.display.Markdown object>"
      ]
     },
     "metadata": {},
     "output_type": "display_data"
    },
    {
     "data": {
      "text/markdown": [
       "$\\binom{25}{3} + \\binom{25}{4}  \\rightarrow   14950$"
      ],
      "text/plain": [
       "<IPython.core.display.Markdown object>"
      ]
     },
     "metadata": {},
     "output_type": "display_data"
    },
    {
     "data": {
      "text/markdown": [
       "$\\binom{9}{6} + \\binom{9}{7} + \\binom{10}{2}  \\rightarrow   165$"
      ],
      "text/plain": [
       "<IPython.core.display.Markdown object>"
      ]
     },
     "metadata": {},
     "output_type": "display_data"
    },
    {
     "data": {
      "text/markdown": [
       "$\\binom{4}{2} + \\binom{4}{3} + \\binom{5}{4}+ \\binom{6}{5} + \\binom{7}{6} + \\binom{8}{7}  \\rightarrow   36$"
      ],
      "text/plain": [
       "<IPython.core.display.Markdown object>"
      ]
     },
     "metadata": {},
     "output_type": "display_data"
    },
    {
     "data": {
      "text/markdown": [
       "$\\binom{4}{0} + \\binom{4}{1} + \\binom{4}{2}+\\binom{4}{3}  \\rightarrow   15$"
      ],
      "text/plain": [
       "<IPython.core.display.Markdown object>"
      ]
     },
     "metadata": {},
     "output_type": "display_data"
    }
   ],
   "source": []
  },
  {
   "cell_type": "code",
   "execution_count": 45,
   "metadata": {},
   "outputs": [
    {
     "data": {
      "text/plain": [
       "[['\\\\binom{252}{250}',\n",
       "  '\\\\binom{25}{3} + \\\\binom{25}{4}',\n",
       "  '\\\\binom{9}{6} + \\\\binom{9}{7} + \\\\binom{10}{2}',\n",
       "  '\\\\binom{4}{2} + \\\\binom{4}{3} + \\\\binom{5}{4}+ \\\\binom{6}{5} + \\\\binom{7}{6} + \\\\binom{8}{7}',\n",
       "  '\\\\binom{4}{0} + \\\\binom{4}{1} + \\\\binom{4}{2}+\\\\binom{4}{3}'],\n",
       " [[252, 250], [26, 4], [11, 8], [9, 7], [15]],\n",
       " [31626, 14950, 165, 36, 15]]"
      ]
     },
     "execution_count": 45,
     "metadata": {},
     "output_type": "execute_result"
    }
   ],
   "source": [
    "[enunciado_latex,enunciado, solucion]"
   ]
  },
  {
   "cell_type": "code",
   "execution_count": 25,
   "metadata": {},
   "outputs": [
    {
     "data": {
      "image/png": "[encoded data removed]",
      "text/latex": [
       "$$15$$"
      ],
      "text/plain": [
       "15"
      ]
     },
     "execution_count": 25,
     "metadata": {},
     "output_type": "execute_result"
    }
   ],
   "source": [
    "2**4-1"
   ]
  },
  {
   "cell_type": "code",
   "execution_count": null,
   "metadata": {},
   "outputs": [],
   "source": []
  },
  {
   "cell_type": "code",
   "execution_count": 10,
   "metadata": {},
   "outputs": [
    {
     "data": {
      "image/png": "[encoded data removed]",
      "text/latex": [
       "$$31626$$"
      ],
      "text/plain": [
       "31626"
      ]
     },
     "execution_count": 10,
     "metadata": {},
     "output_type": "execute_result"
    }
   ],
   "source": [
    "nC(enunciado[0][0],enunciado[0][1])"
   ]
  },
  {
   "cell_type": "code",
   "execution_count": 13,
   "metadata": {},
   "outputs": [
    {
     "data": {
      "image/png": "[encoded data removed]",
      "text/latex": [
       "$$31626$$"
      ],
      "text/plain": [
       "31626"
      ]
     },
     "execution_count": 13,
     "metadata": {},
     "output_type": "execute_result"
    }
   ],
   "source": [
    "factorial(252)/(factorial(250)*factorial(2))"
   ]
  }
 ],
 "metadata": {
  "kernelspec": {
   "display_name": "Python 3",
   "language": "python",
   "name": "python3"
  },
  "language_info": {
   "codemirror_mode": {
    "name": "ipython",
    "version": 3
   },
   "file_extension": ".py",
   "mimetype": "text/x-python",
   "name": "python",
   "nbconvert_exporter": "python",
   "pygments_lexer": "ipython3",
   "version": "3.6.5"
  }
 },
 "nbformat": 4,
 "nbformat_minor": 2
}
