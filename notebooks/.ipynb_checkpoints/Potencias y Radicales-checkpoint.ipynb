{
 "cells": [
  {
   "cell_type": "markdown",
   "metadata": {},
   "source": [
    "<a href=\"https://colab.research.google.com/github/crdguez/mat1bac_cit/blob/master/notebooks/Ejercicios1_3.ipynb\"><img align=\"left\" src=\"https://colab.research.google.com/assets/colab-badge.svg\" alt=\"Open in Colab\" title=\"Open and Execute in Google Colaboratory\"></a>"
   ]
  },
  {
   "cell_type": "code",
   "execution_count": 1,
   "metadata": {},
   "outputs": [
    {
     "name": "stdout",
     "output_type": "stream",
     "text": [
      "IPython console for SymPy 1.2 (Python 3.6.5-64-bit) (ground types: gmpy)\n",
      "\n",
      "These commands were executed:\n",
      ">>> from __future__ import division\n",
      ">>> from sympy import *\n",
      ">>> x, y, z, t = symbols('x y z t')\n",
      ">>> k, m, n = symbols('k m n', integer=True)\n",
      ">>> f, g, h = symbols('f g h', cls=Function)\n",
      ">>> init_printing()\n",
      "\n",
      "Documentation can be found at http://docs.sympy.org/1.2/\n",
      "\n"
     ]
    }
   ],
   "source": [
    "from sympy import init_session\n",
    "from sympy.parsing.latex import parse_latex\n",
    "from sympy.parsing.sympy_parser import parse_expr\n",
    "#from sympy.functions.combinatorial.numbers import nC, nP, nT\n",
    "from IPython.display import Markdown as md\n",
    "from IPython.display import display\n",
    "import pandas as pd\n",
    "# ejercicios = pd.DataFrame(columns=['texto','enunciado_latex','enunciado','solucion','hoja','nivel'])\n",
    "\n",
    "init_session()\n"
   ]
  },
  {
   "cell_type": "code",
   "execution_count": 2,
   "metadata": {},
   "outputs": [
    {
     "data": {
      "image/png": "[encoded data removed]",
      "text/latex": [
       "$$\\frac{2^{\\frac{3}{2}} \\frac{9^{\\frac{1}{2}}}{3}}{\\sqrt{2}}$$"
      ],
      "text/plain": [
       " 3      \n",
       " ─ 2 ___\n",
       " 2 ╲╱ 9 \n",
       "2 ⋅─────\n",
       "     3  \n",
       "────────\n",
       "   √2   "
      ]
     },
     "execution_count": 2,
     "metadata": {},
     "output_type": "execute_result"
    }
   ],
   "source": [
    "parse_latex(r'\\frac{{{9^{\\frac{1}{2}}} \\cdot {3^{ - 1}} \\cdot {2^{\\frac{3}{2}}}}}{{\\sqrt {2} }}')"
   ]
  },
  {
   "cell_type": "code",
   "execution_count": 4,
   "metadata": {},
   "outputs": [
    {
     "data": {
      "image/png": "[encoded data removed]",
      "text/latex": [
       "$$\\frac{1}{6}$$"
      ],
      "text/plain": [
       "1/6"
      ]
     },
     "execution_count": 4,
     "metadata": {},
     "output_type": "execute_result"
    }
   ],
   "source": [
    "simplify(parse_latex(r'\\frac{{{3^{ - 2}} \\cdot {3^5} \\cdot {2^3}}}{{{{( {3 \\cdot 2} )}^4}}}'))"
   ]
  },
  {
   "cell_type": "code",
   "execution_count": 38,
   "metadata": {},
   "outputs": [],
   "source": [
    "def encabezado :\n",
    "    encabezado = ['enunciado_latex','enunciado','solucion']\n",
    "    return encabezado"
   ]
  },
  {
   "cell_type": "code",
   "execution_count": 3,
   "metadata": {},
   "outputs": [
    {
     "data": {
      "image/png": "[encoded data removed]",
      "text/latex": [
       "$$\\frac{1}{6}$$"
      ],
      "text/plain": [
       "1/6"
      ]
     },
     "metadata": {},
     "output_type": "display_data"
    },
    {
     "data": {
      "image/png": "[encoded data removed]",
      "text/latex": [
       "$$3$$"
      ],
      "text/plain": [
       "3"
      ]
     },
     "metadata": {},
     "output_type": "display_data"
    },
    {
     "data": {
      "image/png": "[encoded data removed]",
      "text/latex": [
       "$$\\frac{125}{16}$$"
      ],
      "text/plain": [
       "125\n",
       "───\n",
       " 16"
      ]
     },
     "metadata": {},
     "output_type": "display_data"
    },
    {
     "data": {
      "image/png": "[encoded data removed]",
      "text/latex": [
       "$$128$$"
      ],
      "text/plain": [
       "128"
      ]
     },
     "metadata": {},
     "output_type": "display_data"
    },
    {
     "data": {
      "image/png": "[encoded data removed]",
      "text/latex": [
       "$$\\frac{1}{390650}$$"
      ],
      "text/plain": [
       "1/390650"
      ]
     },
     "metadata": {},
     "output_type": "display_data"
    },
    {
     "data": {
      "image/png": "[encoded data removed]",
      "text/latex": [
       "$$\\frac{729}{64}$$"
      ],
      "text/plain": [
       "729\n",
       "───\n",
       " 64"
      ]
     },
     "metadata": {},
     "output_type": "display_data"
    },
    {
     "data": {
      "image/png": "[encoded data removed]",
      "text/latex": [
       "$$\\frac{2 \\sqrt{5}}{5}$$"
      ],
      "text/plain": [
       "2⋅√5\n",
       "────\n",
       " 5  "
      ]
     },
     "metadata": {},
     "output_type": "display_data"
    },
    {
     "data": {
      "image/png": "[encoded data removed]",
      "text/latex": [
       "$$2$$"
      ],
      "text/plain": [
       "2"
      ]
     },
     "metadata": {},
     "output_type": "display_data"
    }
   ],
   "source": [
    "enunciado_latex = [r'\\frac{{{3^{ - 2}} \\cdot {3^5} \\cdot {2^3}}}{{{{( {3 \\cdot 2} )}^4}}}',\n",
    "                  r'{3^{ - 5}} \\cdot {( {\\frac{1}{3}} )^{ - 2}} \\cdot 81',\n",
    "                  r'{( {\\frac{5}{4}} )^5} \\cdot \\frac{{{2^6}}}{{{5^2}}}',\n",
    "                  r'\\frac{{{2^{ - 2}} \\cdot {{( {{2^2}} )}^3}}}{{{2^{ - 3}}}}',\n",
    "                  r'\\frac{{{5^{ - 3}} \\cdot {5^{ - 1}} \\cdot {5^2}}}{{{5^0} + {5^6}}}',\n",
    "                  r'{( {\\frac{2}{3}} )^{ - 2}} \\cdot {( {\\frac{3}{2}} )^4}',\n",
    "                  r'\\frac{{\\sqrt {2}  \\cdot {{( {\\sqrt {2} } )}^3} \\cdot {{( {\\sqrt {5} } )}^3}}}{{{{( {5\\sqrt{2} } )}^2}}}',\n",
    "                  r'\\frac{{{9^{\\frac{1}{2}}} \\cdot {3^{ - 1}} \\cdot {2^{\\frac{3}{2}}}}}{{\\sqrt {2} }}'\n",
    "                  ]\n",
    "enunciado, solucion = [], []\n",
    "for s in enunciado_latex : \n",
    "    display(simplify(parse_latex(s)))\n",
    "    enunciado.append(parse_latex(s))\n",
    "    solucion.append(simplify(parse_latex(s))) \n",
    "    "
   ]
  },
  {
   "cell_type": "code",
   "execution_count": 40,
   "metadata": {},
   "outputs": [
    {
     "data": {
      "text/plain": [
       "[[(2**3*(3**5*3**(-2)))/(2*3)**4,\n",
       "  81*(3**(-5)*(1/3)**(-2)),\n",
       "  (5/4)**5*(2**6/5**2),\n",
       "  (2**(-2)*(2**2)**3)/2**(-3),\n",
       "  (5**2*(5**(-3)/5))/(5**0 + 5**6),\n",
       "  (2/3)**(-2)*(3/2)**4,\n",
       "  ((sqrt(2)*(sqrt(2))**3)*(sqrt(5))**3)/(5*sqrt(2))**2,\n",
       "  (2**(3/2)*(9**(1/2)/3))/sqrt(2)],\n",
       " ['\\\\frac{{{3^{ - 2}} \\\\cdot {3^5} \\\\cdot {2^3}}}{{{{( {3 \\\\cdot 2} )}^4}}}',\n",
       "  '{3^{ - 5}} \\\\cdot {( {\\\\frac{1}{3}} )^{ - 2}} \\\\cdot 81',\n",
       "  '{( {\\\\frac{5}{4}} )^5} \\\\cdot \\\\frac{{{2^6}}}{{{5^2}}}',\n",
       "  '\\\\frac{{{2^{ - 2}} \\\\cdot {{( {{2^2}} )}^3}}}{{{2^{ - 3}}}}',\n",
       "  '\\\\frac{{{5^{ - 3}} \\\\cdot {5^{ - 1}} \\\\cdot {5^2}}}{{{5^0} + {5^6}}}',\n",
       "  '{( {\\\\frac{2}{3}} )^{ - 2}} \\\\cdot {( {\\\\frac{3}{2}} )^4}',\n",
       "  '\\\\frac{{\\\\sqrt {2}  \\\\cdot {{( {\\\\sqrt {2} } )}^3} \\\\cdot {{( {\\\\sqrt {5} } )}^3}}}{{{{( {5\\\\sqrt{2} } )}^2}}}',\n",
       "  '\\\\frac{{{9^{\\\\frac{1}{2}}} \\\\cdot {3^{ - 1}} \\\\cdot {2^{\\\\frac{3}{2}}}}}{{\\\\sqrt {2} }}'],\n",
       " [1/6, 3, 125/16, 128, 1/390650, 729/64, 2*sqrt(5)/5, 2]]"
      ]
     },
     "execution_count": 40,
     "metadata": {},
     "output_type": "execute_result"
    }
   ],
   "source": [
    "[enunciado, enunciado_latex, solucion]"
   ]
  },
  {
   "cell_type": "code",
   "execution_count": null,
   "metadata": {},
   "outputs": [],
   "source": []
  },
  {
   "cell_type": "code",
   "execution_count": 22,
   "metadata": {},
   "outputs": [],
   "source": [
    "# estructura de la tabla que tendrá los ejercicios\n",
    "\n",
    "encabezado = ['enunciado_latex','enunciado','solucion']\n",
    "ejercicios = pd.DataFrame(columns = encabezado)"
   ]
  },
  {
   "cell_type": "markdown",
   "metadata": {},
   "source": [
    "## Ejercicio\n",
    "\n",
    "Simplifica los cocientes entre factoriales:\n",
    " - $\\frac{7!}{6!}$\n",
    " - $\\frac{{8!}}{{9!}}$\t\n",
    " - $\\frac{{9!}}{{5!.4!}}$\t\t\n",
    " - $\\frac{{m!}}{{(m - 1)!}}$\t\t\n",
    " - $\\frac{{\\left( {m + 1} \\right)!}}{{\\left( {m - 1} \\right)!}}$"
   ]
  },
  {
   "cell_type": "code",
   "execution_count": 15,
   "metadata": {},
   "outputs": [
    {
     "data": {
      "text/markdown": [
       "**Solución:**"
      ],
      "text/plain": [
       "<IPython.core.display.Markdown object>"
      ]
     },
     "metadata": {},
     "output_type": "display_data"
    },
    {
     "data": {
      "text/markdown": [
       "$\\frac{7!}{6!}  \\rightarrow   7$"
      ],
      "text/plain": [
       "<IPython.core.display.Markdown object>"
      ]
     },
     "metadata": {},
     "output_type": "display_data"
    },
    {
     "data": {
      "text/markdown": [
       "$\\frac{{8!}}{{9!}}  \\rightarrow   \\frac{1}{9}$"
      ],
      "text/plain": [
       "<IPython.core.display.Markdown object>"
      ]
     },
     "metadata": {},
     "output_type": "display_data"
    },
    {
     "data": {
      "text/markdown": [
       "$\\frac{{9!}}{{5!\\cdot 4!}}  \\rightarrow   126$"
      ],
      "text/plain": [
       "<IPython.core.display.Markdown object>"
      ]
     },
     "metadata": {},
     "output_type": "display_data"
    },
    {
     "data": {
      "text/markdown": [
       "$\\frac{{m!}}{{(m - 1)!}}  \\rightarrow   m$"
      ],
      "text/plain": [
       "<IPython.core.display.Markdown object>"
      ]
     },
     "metadata": {},
     "output_type": "display_data"
    },
    {
     "data": {
      "text/markdown": [
       "$\\frac{{( {m + 1} )!}}{{( {m - 1} )!}}  \\rightarrow   m \\left(m + 1\\right)$"
      ],
      "text/plain": [
       "<IPython.core.display.Markdown object>"
      ]
     },
     "metadata": {},
     "output_type": "display_data"
    }
   ],
   "source": [
    "texto_ejercicio = 'Simplifica los cocientes entre factoriales:'\n",
    "\n",
    "enunciado_latex = list([r'\\frac{7!}{6!}',r'\\frac{{8!}}{{9!}}',r'\\frac{{9!}}{{5!\\cdot 4!}}',r'\\frac{{m!}}{{(m - 1)!}}', r'\\frac{{( {m + 1} )!}}{{( {m - 1} )!}}'])\n",
    "\n",
    "#display(md(\"**Enunciado en código latex:**\")); display(enunciado_latex)    \n",
    "\n",
    "enunciado=[]\n",
    "for s in enunciado_latex : \n",
    "    enunciado.append(parse_latex(s))\n",
    "    \n",
    "\n",
    "#display(md(\"**Enunciado:**\"));    display(enunciado)    \n",
    "\n",
    "display(md(\"**Solución:**\"))\n",
    "solucion=[]\n",
    "for i in range(len(enunciado)) : \n",
    "    solucion.append(latex(simplify(enunciado[i])))\n",
    "    display(md(\"$\"+enunciado_latex[i]+\"  \\\\rightarrow   \"+latex(simplify(enunciado[i]))+\"$\"))\n",
    "\n",
    "# display(md(\"**Solución-lista:**\"));    display(solucion)    \n",
    "    "
   ]
  },
  {
   "cell_type": "code",
   "execution_count": 16,
   "metadata": {},
   "outputs": [
    {
     "data": {
      "image/png": "[encoded data removed]",
      "text/latex": [
       "$$\\left [ \\frac{7!}{6!}, \\quad \\frac{8!}{9!}, \\quad \\frac{9!}{4! 5!}, \\quad \\frac{m!}{\\left(m - 1\\right)!}, \\quad \\frac{\\left(m + 1\\right)!}{\\left(m - 1\\right)!}\\right ]$$"
      ],
      "text/plain": [
       "⎡7!  8!    9!      m!     (m + 1)!⎤\n",
       "⎢──, ──, ─────, ────────, ────────⎥\n",
       "⎣6!  9!  4!⋅5!  (m - 1)!  (m - 1)!⎦"
      ]
     },
     "execution_count": 16,
     "metadata": {},
     "output_type": "execute_result"
    }
   ],
   "source": [
    "enunciado"
   ]
  },
  {
   "cell_type": "code",
   "execution_count": 22,
   "metadata": {},
   "outputs": [],
   "source": [
    "# si queremos borrar los ejercicios antes\n",
    "\n",
    "ejercicios = ejercicios.iloc[0:0]"
   ]
  },
  {
   "cell_type": "code",
   "execution_count": 46,
   "metadata": {},
   "outputs": [
    {
     "data": {
      "text/html": [
       "<div>\n",
       "<style scoped>\n",
       "    .dataframe tbody tr th:only-of-type {\n",
       "        vertical-align: middle;\n",
       "    }\n",
       "\n",
       "    .dataframe tbody tr th {\n",
       "        vertical-align: top;\n",
       "    }\n",
       "\n",
       "    .dataframe thead th {\n",
       "        text-align: right;\n",
       "    }\n",
       "</style>\n",
       "<table border=\"1\" class=\"dataframe\">\n",
       "  <thead>\n",
       "    <tr style=\"text-align: right;\">\n",
       "      <th></th>\n",
       "      <th>enunciado_latex</th>\n",
       "      <th>enunciado</th>\n",
       "      <th>solucion</th>\n",
       "    </tr>\n",
       "  </thead>\n",
       "  <tbody>\n",
       "    <tr>\n",
       "      <th>0</th>\n",
       "      <td>\\frac{7!}{6!}</td>\n",
       "      <td>factorial(7)/factorial(6)</td>\n",
       "      <td>7</td>\n",
       "    </tr>\n",
       "    <tr>\n",
       "      <th>1</th>\n",
       "      <td>\\frac{{8!}}{{9!}}</td>\n",
       "      <td>factorial(8)/factorial(9)</td>\n",
       "      <td>\\frac{1}{9}</td>\n",
       "    </tr>\n",
       "    <tr>\n",
       "      <th>2</th>\n",
       "      <td>\\frac{{9!}}{{5!\\cdot 4!}}</td>\n",
       "      <td>factorial(9)/((factorial(4)*factorial(5)))</td>\n",
       "      <td>126</td>\n",
       "    </tr>\n",
       "    <tr>\n",
       "      <th>3</th>\n",
       "      <td>\\frac{{m!}}{{(m - 1)!}}</td>\n",
       "      <td>factorial(m)/factorial(m - 1)</td>\n",
       "      <td>m</td>\n",
       "    </tr>\n",
       "    <tr>\n",
       "      <th>4</th>\n",
       "      <td>\\frac{{( {m + 1} )!}}{{( {m - 1} )!}}</td>\n",
       "      <td>factorial(m + 1)/factorial(m - 1)</td>\n",
       "      <td>m \\left(m + 1\\right)</td>\n",
       "    </tr>\n",
       "    <tr>\n",
       "      <th>5</th>\n",
       "      <td>\\binom{252}{250}</td>\n",
       "      <td>[252, 250]</td>\n",
       "      <td>31626</td>\n",
       "    </tr>\n",
       "    <tr>\n",
       "      <th>6</th>\n",
       "      <td>\\binom{25}{3} + \\binom{25}{4}</td>\n",
       "      <td>[26, 4]</td>\n",
       "      <td>14950</td>\n",
       "    </tr>\n",
       "    <tr>\n",
       "      <th>7</th>\n",
       "      <td>\\binom{9}{6} + \\binom{9}{7} + \\binom{10}{2}</td>\n",
       "      <td>[11, 8]</td>\n",
       "      <td>165</td>\n",
       "    </tr>\n",
       "    <tr>\n",
       "      <th>8</th>\n",
       "      <td>\\binom{4}{2} + \\binom{4}{3} + \\binom{5}{4}+ \\b...</td>\n",
       "      <td>[9, 7]</td>\n",
       "      <td>36</td>\n",
       "    </tr>\n",
       "    <tr>\n",
       "      <th>9</th>\n",
       "      <td>\\binom{4}{0} + \\binom{4}{1} + \\binom{4}{2}+\\bi...</td>\n",
       "      <td>[15]</td>\n",
       "      <td>15</td>\n",
       "    </tr>\n",
       "  </tbody>\n",
       "</table>\n",
       "</div>"
      ],
      "text/plain": [
       "                                     enunciado_latex  \\\n",
       "0                                      \\frac{7!}{6!}   \n",
       "1                                  \\frac{{8!}}{{9!}}   \n",
       "2                          \\frac{{9!}}{{5!\\cdot 4!}}   \n",
       "3                            \\frac{{m!}}{{(m - 1)!}}   \n",
       "4              \\frac{{( {m + 1} )!}}{{( {m - 1} )!}}   \n",
       "5                                   \\binom{252}{250}   \n",
       "6                      \\binom{25}{3} + \\binom{25}{4}   \n",
       "7        \\binom{9}{6} + \\binom{9}{7} + \\binom{10}{2}   \n",
       "8  \\binom{4}{2} + \\binom{4}{3} + \\binom{5}{4}+ \\b...   \n",
       "9  \\binom{4}{0} + \\binom{4}{1} + \\binom{4}{2}+\\bi...   \n",
       "\n",
       "                                    enunciado              solucion  \n",
       "0                   factorial(7)/factorial(6)                     7  \n",
       "1                   factorial(8)/factorial(9)           \\frac{1}{9}  \n",
       "2  factorial(9)/((factorial(4)*factorial(5)))                   126  \n",
       "3               factorial(m)/factorial(m - 1)                     m  \n",
       "4           factorial(m + 1)/factorial(m - 1)  m \\left(m + 1\\right)  \n",
       "5                                  [252, 250]                 31626  \n",
       "6                                     [26, 4]                 14950  \n",
       "7                                     [11, 8]                   165  \n",
       "8                                      [9, 7]                    36  \n",
       "9                                        [15]                    15  "
      ]
     },
     "execution_count": 46,
     "metadata": {},
     "output_type": "execute_result"
    }
   ],
   "source": [
    "# Añadimos ejercicios\n",
    "\n",
    "datos = [enunciado_latex, enunciado, solucion]\n",
    "ejercicios = ejercicios.append(pd.DataFrame(dict(zip(encabezado, datos))), ignore_index=True)\n",
    "ejercicios"
   ]
  },
  {
   "cell_type": "markdown",
   "metadata": {},
   "source": [
    "## Ejercicio\n",
    "\n",
    "Calcula las siguientes operaciones:\n",
    "- $\\binom{252}{250}$\t\n",
    "- $\\binom{25}{3} + \\binom{25}{4} = \\binom{26}{4}$\n",
    "- $\\binom{9}{6} + \\binom{9}{7} + \\binom{10}{2}=\\binom{10}{7}+\\binom{10}{8}=\\binom{11}{8}$\n",
    "- $\\binom{4}{2} + \\binom{4}{3} + \\binom{5}{4}+\\binom{6}{5} + \\binom{7}{6} + \\binom{8}{7}=\\binom{9}{7}$\n",
    "- $\\binom{4}{0} + \\binom{4}{1} + \\binom{4}{2}+\\binom{4}{3} = 2^4-1$\n",
    "\n"
   ]
  },
  {
   "cell_type": "code",
   "execution_count": 13,
   "metadata": {},
   "outputs": [],
   "source": [
    "from sympy.functions.combinatorial.numbers import nC, nP, nT"
   ]
  },
  {
   "cell_type": "code",
   "execution_count": 37,
   "metadata": {},
   "outputs": [
    {
     "data": {
      "image/png": "[encoded data removed]",
      "text/latex": [
       "$$10$$"
      ],
      "text/plain": [
       "10"
      ]
     },
     "execution_count": 37,
     "metadata": {},
     "output_type": "execute_result"
    }
   ],
   "source": [
    "nC(5,3)"
   ]
  },
  {
   "cell_type": "code",
   "execution_count": 14,
   "metadata": {},
   "outputs": [
    {
     "data": {
      "text/markdown": [
       "$\\binom{252}{250}  \\rightarrow   31626$"
      ],
      "text/plain": [
       "<IPython.core.display.Markdown object>"
      ]
     },
     "metadata": {},
     "output_type": "display_data"
    },
    {
     "data": {
      "text/markdown": [
       "$\\binom{25}{3} + \\binom{25}{4}  \\rightarrow   14950$"
      ],
      "text/plain": [
       "<IPython.core.display.Markdown object>"
      ]
     },
     "metadata": {},
     "output_type": "display_data"
    },
    {
     "data": {
      "text/markdown": [
       "$\\binom{9}{6} + \\binom{9}{7} + \\binom{10}{2}  \\rightarrow   165$"
      ],
      "text/plain": [
       "<IPython.core.display.Markdown object>"
      ]
     },
     "metadata": {},
     "output_type": "display_data"
    },
    {
     "data": {
      "text/markdown": [
       "$\\binom{4}{2} + \\binom{4}{3} + \\binom{5}{4}+ \\binom{6}{5} + \\binom{7}{6} + \\binom{8}{7}  \\rightarrow   36$"
      ],
      "text/plain": [
       "<IPython.core.display.Markdown object>"
      ]
     },
     "metadata": {},
     "output_type": "display_data"
    },
    {
     "data": {
      "text/markdown": [
       "$\\binom{4}{0} + \\binom{4}{1} + \\binom{4}{2}+\\binom{4}{3}  \\rightarrow   15$"
      ],
      "text/plain": [
       "<IPython.core.display.Markdown object>"
      ]
     },
     "metadata": {},
     "output_type": "display_data"
    }
   ],
   "source": [
    "enunciado_latex  = [r'\\binom{252}{250}',r'\\binom{25}{3} + \\binom{25}{4}',r'\\binom{9}{6} + \\binom{9}{7} + \\binom{10}{2}',\n",
    "                    r'\\binom{4}{2} + \\binom{4}{3} + \\binom{5}{4}+ \\binom{6}{5} + \\binom{7}{6} + \\binom{8}{7}',\n",
    "                    r'\\binom{4}{0} + \\binom{4}{1} + \\binom{4}{2}+\\binom{4}{3}']\n",
    "\n",
    "enunciado = [[252,250], [26,4], [11,8],[9,7]]\n",
    "\n",
    "solucion = []\n",
    "for i in range(len(enunciado)):\n",
    "    solucion.append(latex(nC(enunciado[i][0],enunciado[i][1])))\n",
    "    display(md(\"$\"+enunciado_latex[i]+\"  \\\\rightarrow   \" +solucion[i] +\"$\"))\n",
    "enunciado.append([2**4-1])\n",
    "solucion.append(latex(2**4-1))\n",
    "display(md(\"$\"+enunciado_latex[i+1] + \"  \\\\rightarrow   \" + solucion[i+1] +\"$\"))\n"
   ]
  },
  {
   "cell_type": "code",
   "execution_count": 75,
   "metadata": {},
   "outputs": [
    {
     "data": {
      "text/markdown": [
       "$\\binom{252}{250}  \\rightarrow   31626$"
      ],
      "text/plain": [
       "<IPython.core.display.Markdown object>"
      ]
     },
     "metadata": {},
     "output_type": "display_data"
    },
    {
     "data": {
      "text/markdown": [
       "$\\binom{25}{3} + \\binom{25}{4}  \\rightarrow   14950$"
      ],
      "text/plain": [
       "<IPython.core.display.Markdown object>"
      ]
     },
     "metadata": {},
     "output_type": "display_data"
    },
    {
     "data": {
      "text/markdown": [
       "$\\binom{9}{6} + \\binom{9}{7} + \\binom{10}{2}  \\rightarrow   165$"
      ],
      "text/plain": [
       "<IPython.core.display.Markdown object>"
      ]
     },
     "metadata": {},
     "output_type": "display_data"
    },
    {
     "data": {
      "text/markdown": [
       "$\\binom{4}{2} + \\binom{4}{3} + \\binom{5}{4}+ \\binom{6}{5} + \\binom{7}{6} + \\binom{8}{7}  \\rightarrow   36$"
      ],
      "text/plain": [
       "<IPython.core.display.Markdown object>"
      ]
     },
     "metadata": {},
     "output_type": "display_data"
    },
    {
     "data": {
      "text/markdown": [
       "$\\binom{4}{0} + \\binom{4}{1} + \\binom{4}{2}+\\binom{4}{3}  \\rightarrow   15$"
      ],
      "text/plain": [
       "<IPython.core.display.Markdown object>"
      ]
     },
     "metadata": {},
     "output_type": "display_data"
    }
   ],
   "source": []
  },
  {
   "cell_type": "code",
   "execution_count": 45,
   "metadata": {},
   "outputs": [
    {
     "data": {
      "text/plain": [
       "[['\\\\binom{252}{250}',\n",
       "  '\\\\binom{25}{3} + \\\\binom{25}{4}',\n",
       "  '\\\\binom{9}{6} + \\\\binom{9}{7} + \\\\binom{10}{2}',\n",
       "  '\\\\binom{4}{2} + \\\\binom{4}{3} + \\\\binom{5}{4}+ \\\\binom{6}{5} + \\\\binom{7}{6} + \\\\binom{8}{7}',\n",
       "  '\\\\binom{4}{0} + \\\\binom{4}{1} + \\\\binom{4}{2}+\\\\binom{4}{3}'],\n",
       " [[252, 250], [26, 4], [11, 8], [9, 7], [15]],\n",
       " [31626, 14950, 165, 36, 15]]"
      ]
     },
     "execution_count": 45,
     "metadata": {},
     "output_type": "execute_result"
    }
   ],
   "source": [
    "[enunciado_latex,enunciado, solucion]"
   ]
  },
  {
   "cell_type": "code",
   "execution_count": 25,
   "metadata": {},
   "outputs": [
    {
     "data": {
      "image/png": "[encoded data removed]",
      "text/latex": [
       "$$15$$"
      ],
      "text/plain": [
       "15"
      ]
     },
     "execution_count": 25,
     "metadata": {},
     "output_type": "execute_result"
    }
   ],
   "source": [
    "2**4-1"
   ]
  },
  {
   "cell_type": "code",
   "execution_count": null,
   "metadata": {},
   "outputs": [],
   "source": []
  },
  {
   "cell_type": "code",
   "execution_count": 10,
   "metadata": {},
   "outputs": [
    {
     "data": {
      "image/png": "[encoded data removed]",
      "text/latex": [
       "$$31626$$"
      ],
      "text/plain": [
       "31626"
      ]
     },
     "execution_count": 10,
     "metadata": {},
     "output_type": "execute_result"
    }
   ],
   "source": [
    "nC(enunciado[0][0],enunciado[0][1])"
   ]
  },
  {
   "cell_type": "code",
   "execution_count": 13,
   "metadata": {},
   "outputs": [
    {
     "data": {
      "image/png": "[encoded data removed]",
      "text/latex": [
       "$$31626$$"
      ],
      "text/plain": [
       "31626"
      ]
     },
     "execution_count": 13,
     "metadata": {},
     "output_type": "execute_result"
    }
   ],
   "source": [
    "factorial(252)/(factorial(250)*factorial(2))"
   ]
  }
 ],
 "metadata": {
  "kernelspec": {
   "display_name": "Python 3",
   "language": "python",
   "name": "python3"
  },
  "language_info": {
   "codemirror_mode": {
    "name": "ipython",
    "version": 3
   },
   "file_extension": ".py",
   "mimetype": "text/x-python",
   "name": "python",
   "nbconvert_exporter": "python",
   "pygments_lexer": "ipython3",
   "version": "3.6.5"
  }
 },
 "nbformat": 4,
 "nbformat_minor": 2
}
