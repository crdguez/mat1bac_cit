{
 "cells": [
  {
   "cell_type": "code",
   "execution_count": 1,
   "metadata": {},
   "outputs": [
    {
     "ename": "SyntaxError",
     "evalue": "invalid syntax (<ipython-input-1-745c584a0c75>, line 1)",
     "output_type": "error",
     "traceback": [
      "\u001b[0;36m  File \u001b[0;32m\"<ipython-input-1-745c584a0c75>\"\u001b[0;36m, line \u001b[0;32m1\u001b[0m\n\u001b[0;31m    <a href=\"https://colab.research.google.com/github/crdguez/mis_notebooks/blob/master/diagrams_gantt/matematicas_1cn_1819.ipynb\"><img align=\"left\" src=\"https://colab.research.google.com/assets/colab-badge.svg\" alt=\"Open in Colab\" title=\"Open and Execute in Google Colaboratory\"></a>\u001b[0m\n\u001b[0m    ^\u001b[0m\n\u001b[0;31mSyntaxError\u001b[0m\u001b[0;31m:\u001b[0m invalid syntax\n"
     ]
    }
   ],
   "source": [
    "<a href=\"https://colab.research.google.com/github/crdguez/mis_notebooks/blob/master/diagrams_gantt/matematicas_1cn_1819.ipynb\"><img align=\"left\" src=\"https://colab.research.google.com/assets/colab-badge.svg\" alt=\"Open in Colab\" title=\"Open and Execute in Google Colaboratory\"></a>"
   ]
  },
  {
   "cell_type": "code",
   "execution_count": 1,
   "metadata": {},
   "outputs": [
    {
     "name": "stdout",
     "output_type": "stream",
     "text": [
      "IPython console for SymPy 1.2 (Python 3.6.5-64-bit) (ground types: gmpy)\n",
      "\n",
      "These commands were executed:\n",
      ">>> from __future__ import division\n",
      ">>> from sympy import *\n",
      ">>> x, y, z, t = symbols('x y z t')\n",
      ">>> k, m, n = symbols('k m n', integer=True)\n",
      ">>> f, g, h = symbols('f g h', cls=Function)\n",
      ">>> init_printing()\n",
      "\n",
      "Documentation can be found at http://docs.sympy.org/1.2/\n",
      "\n"
     ]
    }
   ],
   "source": [
    "from sympy import init_session\n",
    "from sympy.parsing.latex import parse_latex\n",
    "from sympy.parsing.sympy_parser import parse_expr\n",
    "from sympy.functions.combinatorial.numbers import nC, nP, nT\n",
    "from IPython.display import Markdown as md\n",
    "from IPython.display import display\n",
    "import pandas as pd\n",
    "ejercicios = pd.DataFrame(columns=['texto','enunciado_latex','enunciado','solucion','hoja','nivel'])\n",
    "\n",
    "init_session()"
   ]
  },
  {
   "cell_type": "markdown",
   "metadata": {},
   "source": [
    "## Ejercicio\n",
    "\n",
    "Simplifica los cocientes entre factoriales:\n",
    " - $\\frac{7!}{6!}$\n",
    " - $\\frac{{8!}}{{9!}}$\t\n",
    " - $\\frac{{9!}}{{5!.4!}}$\t\t\n",
    " - $\\frac{{m!}}{{(m - 1)!}}$\t\t\n",
    " - $\\frac{{\\left( {m + 1} \\right)!}}{{\\left( {m - 1} \\right)!}}$"
   ]
  },
  {
   "cell_type": "code",
   "execution_count": 4,
   "metadata": {},
   "outputs": [
    {
     "data": {
      "text/markdown": [
       "**Solución:**"
      ],
      "text/plain": [
       "<IPython.core.display.Markdown object>"
      ]
     },
     "metadata": {},
     "output_type": "display_data"
    },
    {
     "data": {
      "text/markdown": [
       "$\\frac{7!}{6!}  \\rightarrow   7$"
      ],
      "text/plain": [
       "<IPython.core.display.Markdown object>"
      ]
     },
     "metadata": {},
     "output_type": "display_data"
    },
    {
     "data": {
      "text/markdown": [
       "$\\frac{{8!}}{{9!}}  \\rightarrow   \\frac{1}{9}$"
      ],
      "text/plain": [
       "<IPython.core.display.Markdown object>"
      ]
     },
     "metadata": {},
     "output_type": "display_data"
    },
    {
     "data": {
      "text/markdown": [
       "$\\frac{{9!}}{{5!\\cdot 4!}}  \\rightarrow   126$"
      ],
      "text/plain": [
       "<IPython.core.display.Markdown object>"
      ]
     },
     "metadata": {},
     "output_type": "display_data"
    },
    {
     "data": {
      "text/markdown": [
       "$\\frac{{m!}}{{(m - 1)!}}  \\rightarrow   m$"
      ],
      "text/plain": [
       "<IPython.core.display.Markdown object>"
      ]
     },
     "metadata": {},
     "output_type": "display_data"
    },
    {
     "data": {
      "text/markdown": [
       "$\\frac{{( {m + 1} )!}}{{( {m - 1} )!}}  \\rightarrow   m \\left(m + 1\\right)$"
      ],
      "text/plain": [
       "<IPython.core.display.Markdown object>"
      ]
     },
     "metadata": {},
     "output_type": "display_data"
    },
    {
     "data": {
      "text/markdown": [
       "**Solución-lista:**"
      ],
      "text/plain": [
       "<IPython.core.display.Markdown object>"
      ]
     },
     "metadata": {},
     "output_type": "display_data"
    },
    {
     "data": {
      "text/plain": [
       "['7', '\\\\frac{1}{9}', '126', 'm', 'm \\\\left(m + 1\\\\right)']"
      ]
     },
     "metadata": {},
     "output_type": "display_data"
    }
   ],
   "source": [
    "texto_ejercicio = 'Simplifica los cocientes entre factoriales:'\n",
    "\n",
    "enunciado_latex = list([r'\\frac{7!}{6!}',r'\\frac{{8!}}{{9!}}',r'\\frac{{9!}}{{5!\\cdot 4!}}',r'\\frac{{m!}}{{(m - 1)!}}', r'\\frac{{( {m + 1} )!}}{{( {m - 1} )!}}'])\n",
    "\n",
    "#display(md(\"**Enunciado en código latex:**\")); display(enunciado_latex)    \n",
    "\n",
    "enunciado=[]\n",
    "for s in enunciado_latex : \n",
    "    enunciado.append(parse_latex(s))\n",
    "    \n",
    "\n",
    "#display(md(\"**Enunciado:**\"));    display(enunciado)    \n",
    "\n",
    "display(md(\"**Solución:**\"))\n",
    "solucion=[]\n",
    "for i in range(len(enunciado)) : \n",
    "    solucion.append(latex(simplify(enunciado[i])))\n",
    "    display(md(\"$\"+enunciado_latex[i]+\"  \\\\rightarrow   \"+latex(simplify(enunciado[i]))+\"$\"))\n",
    "\n",
    "display(md(\"**Solución-lista:**\"));    display(solucion)    \n",
    "    "
   ]
  },
  {
   "cell_type": "code",
   "execution_count": 10,
   "metadata": {},
   "outputs": [],
   "source": [
    "def añadir_ejercicio(ejercicios, enunciado) :\n",
    "    ejercicios.enunciado_latex.append(pd.Series(enunciado), ignore_index=True)\n",
    "    "
   ]
  },
  {
   "cell_type": "code",
   "execution_count": 7,
   "metadata": {},
   "outputs": [],
   "source": [
    "añadir_ejercicio(ejercicios, enunciado)"
   ]
  },
  {
   "cell_type": "code",
   "execution_count": 11,
   "metadata": {},
   "outputs": [
    {
     "data": {
      "text/plain": [
       "0                     factorial(7)/factorial(6)\n",
       "1                     factorial(8)/factorial(9)\n",
       "2    factorial(9)/((factorial(4)*factorial(5)))\n",
       "3                 factorial(m)/factorial(m - 1)\n",
       "4             factorial(m + 1)/factorial(m - 1)\n",
       "dtype: object"
      ]
     },
     "execution_count": 11,
     "metadata": {},
     "output_type": "execute_result"
    }
   ],
   "source": [
    "ejercicios.enunciado_latex.append(pd.Series(enunciado), ignore_index=True)"
   ]
  },
  {
   "cell_type": "code",
   "execution_count": 13,
   "metadata": {},
   "outputs": [
    {
     "data": {
      "text/html": [
       "<div>\n",
       "<style scoped>\n",
       "    .dataframe tbody tr th:only-of-type {\n",
       "        vertical-align: middle;\n",
       "    }\n",
       "\n",
       "    .dataframe tbody tr th {\n",
       "        vertical-align: top;\n",
       "    }\n",
       "\n",
       "    .dataframe thead th {\n",
       "        text-align: right;\n",
       "    }\n",
       "</style>\n",
       "<table border=\"1\" class=\"dataframe\">\n",
       "  <thead>\n",
       "    <tr style=\"text-align: right;\">\n",
       "      <th></th>\n",
       "      <th>texto</th>\n",
       "      <th>enunciado_latex</th>\n",
       "      <th>enunciado</th>\n",
       "      <th>solucion</th>\n",
       "      <th>hoja</th>\n",
       "      <th>nivel</th>\n",
       "    </tr>\n",
       "  </thead>\n",
       "  <tbody>\n",
       "  </tbody>\n",
       "</table>\n",
       "</div>"
      ],
      "text/plain": [
       "Empty DataFrame\n",
       "Columns: [texto, enunciado_latex, enunciado, solucion, hoja, nivel]\n",
       "Index: []"
      ]
     },
     "execution_count": 13,
     "metadata": {},
     "output_type": "execute_result"
    }
   ],
   "source": [
    "ejercicios"
   ]
  },
  {
   "cell_type": "code",
   "execution_count": 23,
   "metadata": {},
   "outputs": [
    {
     "data": {
      "text/html": [
       "<div>\n",
       "<style scoped>\n",
       "    .dataframe tbody tr th:only-of-type {\n",
       "        vertical-align: middle;\n",
       "    }\n",
       "\n",
       "    .dataframe tbody tr th {\n",
       "        vertical-align: top;\n",
       "    }\n",
       "\n",
       "    .dataframe thead th {\n",
       "        text-align: right;\n",
       "    }\n",
       "</style>\n",
       "<table border=\"1\" class=\"dataframe\">\n",
       "  <thead>\n",
       "    <tr style=\"text-align: right;\">\n",
       "      <th></th>\n",
       "      <th>texto</th>\n",
       "      <th>enunciado_latex</th>\n",
       "      <th>enunciado</th>\n",
       "      <th>solucion</th>\n",
       "      <th>hoja</th>\n",
       "      <th>nivel</th>\n",
       "    </tr>\n",
       "  </thead>\n",
       "  <tbody>\n",
       "    <tr>\n",
       "      <th>0</th>\n",
       "      <td>Simplifica los cocientes entre factoriales:</td>\n",
       "      <td>\\frac{7!}{6!}</td>\n",
       "      <td>factorial(7)/factorial(6)</td>\n",
       "      <td>7</td>\n",
       "      <td>1</td>\n",
       "      <td>1</td>\n",
       "    </tr>\n",
       "    <tr>\n",
       "      <th>1</th>\n",
       "      <td>Simplifica los cocientes entre factoriales:</td>\n",
       "      <td>\\frac{{8!}}{{9!}}</td>\n",
       "      <td>factorial(8)/factorial(9)</td>\n",
       "      <td>\\frac{1}{9}</td>\n",
       "      <td>1</td>\n",
       "      <td>1</td>\n",
       "    </tr>\n",
       "    <tr>\n",
       "      <th>2</th>\n",
       "      <td>Simplifica los cocientes entre factoriales:</td>\n",
       "      <td>\\frac{{9!}}{{5!\\cdot 4!}}</td>\n",
       "      <td>factorial(9)/((factorial(4)*factorial(5)))</td>\n",
       "      <td>126</td>\n",
       "      <td>1</td>\n",
       "      <td>1</td>\n",
       "    </tr>\n",
       "    <tr>\n",
       "      <th>3</th>\n",
       "      <td>Simplifica los cocientes entre factoriales:</td>\n",
       "      <td>\\frac{{m!}}{{(m - 1)!}}</td>\n",
       "      <td>factorial(m)/factorial(m - 1)</td>\n",
       "      <td>m</td>\n",
       "      <td>1</td>\n",
       "      <td>1</td>\n",
       "    </tr>\n",
       "    <tr>\n",
       "      <th>4</th>\n",
       "      <td>Simplifica los cocientes entre factoriales:</td>\n",
       "      <td>\\frac{{( {m + 1} )!}}{{( {m - 1} )!}}</td>\n",
       "      <td>factorial(m + 1)/factorial(m - 1)</td>\n",
       "      <td>m \\left(m + 1\\right)</td>\n",
       "      <td>1</td>\n",
       "      <td>1</td>\n",
       "    </tr>\n",
       "  </tbody>\n",
       "</table>\n",
       "</div>"
      ],
      "text/plain": [
       "                                         texto  \\\n",
       "0  Simplifica los cocientes entre factoriales:   \n",
       "1  Simplifica los cocientes entre factoriales:   \n",
       "2  Simplifica los cocientes entre factoriales:   \n",
       "3  Simplifica los cocientes entre factoriales:   \n",
       "4  Simplifica los cocientes entre factoriales:   \n",
       "\n",
       "                         enunciado_latex  \\\n",
       "0                          \\frac{7!}{6!}   \n",
       "1                      \\frac{{8!}}{{9!}}   \n",
       "2              \\frac{{9!}}{{5!\\cdot 4!}}   \n",
       "3                \\frac{{m!}}{{(m - 1)!}}   \n",
       "4  \\frac{{( {m + 1} )!}}{{( {m - 1} )!}}   \n",
       "\n",
       "                                    enunciado              solucion  hoja  \\\n",
       "0                   factorial(7)/factorial(6)                     7     1   \n",
       "1                   factorial(8)/factorial(9)           \\frac{1}{9}     1   \n",
       "2  factorial(9)/((factorial(4)*factorial(5)))                   126     1   \n",
       "3               factorial(m)/factorial(m - 1)                     m     1   \n",
       "4           factorial(m + 1)/factorial(m - 1)  m \\left(m + 1\\right)     1   \n",
       "\n",
       "   nivel  \n",
       "0      1  \n",
       "1      1  \n",
       "2      1  \n",
       "3      1  \n",
       "4      1  "
      ]
     },
     "execution_count": 23,
     "metadata": {},
     "output_type": "execute_result"
    }
   ],
   "source": [
    "ejercicios.texto = texto_ejercicio\n",
    "ejercicios['enunciado_latex']=enunciado_latex\n",
    "ejercicios['enunciado']=enunciado\n",
    "ejercicios['solucion']=solucion\n",
    "ejercicios['hoja']=1\n",
    "ejercicios['nivel']=1\n",
    "# ejercicios.enunciado_latex.append?\n",
    "ejercicios"
   ]
  },
  {
   "cell_type": "code",
   "execution_count": 18,
   "metadata": {},
   "outputs": [
    {
     "data": {
      "text/plain": [
       "0                     factorial(7)/factorial(6)\n",
       "1                     factorial(8)/factorial(9)\n",
       "2    factorial(9)/((factorial(4)*factorial(5)))\n",
       "3                 factorial(m)/factorial(m - 1)\n",
       "4             factorial(m + 1)/factorial(m - 1)\n",
       "dtype: object"
      ]
     },
     "execution_count": 18,
     "metadata": {},
     "output_type": "execute_result"
    }
   ],
   "source": [
    "s=ejercicios.enunciado_latex.append(pd.Series(enunciado), ignore_index=True)\n",
    "s"
   ]
  },
  {
   "cell_type": "markdown",
   "metadata": {},
   "source": [
    "## Ejercicio\n",
    "\n",
    "Calcula las siguientes operaciones:\n",
    "- $\\binom{252}{250}$\t\n",
    "- $\\binom{25}{3} + \\binom{25}{4} = \\binom{26}{4}$\n",
    "- $\\binom{9}{6} + \\binom{9}{7} + \\binom{10}{2}=\\binom{10}{7}+\\binom{10}{8}=\\binom{11}{8}$\n",
    "- $\\binom{4}{2} + \\binom{4}{3} + \\binom{5}{4}+\\binom{6}{5} + \\binom{7}{6} + \\binom{8}{7}=\\binom{9}{7}$\n",
    "- $\\binom{4}{0} + \\binom{4}{1} + \\binom{4}{2}+\\binom{4}{3} = 2^4-1$\n",
    "\n"
   ]
  },
  {
   "cell_type": "code",
   "execution_count": 12,
   "metadata": {},
   "outputs": [],
   "source": [
    "from sympy.functions.combinatorial.numbers import nC, nP, nT"
   ]
  },
  {
   "cell_type": "code",
   "execution_count": 37,
   "metadata": {},
   "outputs": [
    {
     "data": {
      "image/png": "[encoded data removed]",
      "text/latex": [
       "$$10$$"
      ],
      "text/plain": [
       "10"
      ]
     },
     "execution_count": 37,
     "metadata": {},
     "output_type": "execute_result"
    }
   ],
   "source": [
    "nC(5,3)"
   ]
  },
  {
   "cell_type": "code",
   "execution_count": 58,
   "metadata": {},
   "outputs": [
    {
     "data": {
      "image/png": "[encoded data removed]",
      "text/latex": [
       "$$\\operatorname{nC}{\\left (5,3 \\right )}$$"
      ],
      "text/plain": [
       "nC(5, 3)"
      ]
     },
     "metadata": {},
     "output_type": "display_data"
    }
   ],
   "source": [
    "from sympy import *\n",
    "expr = sympify(\"nC(5,3)\")\n",
    "display(expr.expand())"
   ]
  },
  {
   "cell_type": "code",
   "execution_count": 14,
   "metadata": {},
   "outputs": [],
   "source": [
    "enunciado = [[252,250], [25,3], [25,4]]"
   ]
  },
  {
   "cell_type": "code",
   "execution_count": 17,
   "metadata": {},
   "outputs": [
    {
     "data": {
      "image/png": "[encoded data removed]",
      "text/latex": [
       "$$31626$$"
      ],
      "text/plain": [
       "31626"
      ]
     },
     "metadata": {},
     "output_type": "display_data"
    },
    {
     "data": {
      "image/png": "[encoded data removed]",
      "text/latex": [
       "$$2300$$"
      ],
      "text/plain": [
       "2300"
      ]
     },
     "metadata": {},
     "output_type": "display_data"
    },
    {
     "data": {
      "image/png": "[encoded data removed]",
      "text/latex": [
       "$$12650$$"
      ],
      "text/plain": [
       "12650"
      ]
     },
     "metadata": {},
     "output_type": "display_data"
    }
   ],
   "source": [
    "for i in range(len(enunciado)):\n",
    "    display(nC(enunciado[i][0],enunciado[i][1]))"
   ]
  },
  {
   "cell_type": "code",
   "execution_count": 10,
   "metadata": {},
   "outputs": [
    {
     "data": {
      "image/png": "[encoded data removed]",
      "text/latex": [
       "$$31626$$"
      ],
      "text/plain": [
       "31626"
      ]
     },
     "execution_count": 10,
     "metadata": {},
     "output_type": "execute_result"
    }
   ],
   "source": [
    "nC(enunciado[0][0],enunciado[0][1])"
   ]
  },
  {
   "cell_type": "code",
   "execution_count": 13,
   "metadata": {},
   "outputs": [
    {
     "data": {
      "image/png": "[encoded data removed]",
      "text/latex": [
       "$$31626$$"
      ],
      "text/plain": [
       "31626"
      ]
     },
     "execution_count": 13,
     "metadata": {},
     "output_type": "execute_result"
    }
   ],
   "source": [
    "factorial(252)/(factorial(250)*factorial(2))"
   ]
  }
 ],
 "metadata": {
  "kernelspec": {
   "display_name": "Python 3",
   "language": "python",
   "name": "python3"
  },
  "language_info": {
   "codemirror_mode": {
    "name": "ipython",
    "version": 3
   },
   "file_extension": ".py",
   "mimetype": "text/x-python",
   "name": "python",
   "nbconvert_exporter": "python",
   "pygments_lexer": "ipython3",
   "version": "3.6.5"
  }
 },
 "nbformat": 4,
 "nbformat_minor": 2
}
