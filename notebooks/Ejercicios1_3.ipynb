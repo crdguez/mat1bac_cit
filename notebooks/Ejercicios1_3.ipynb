{
 "cells": [
  {
   "cell_type": "markdown",
   "metadata": {},
   "source": [
    "<a href=\"https://colab.research.google.com/github/crdguez/mat1bac_cit/blob/master/notebooks/Ejercicios1_3.ipynb\"><img align=\"left\" src=\"https://colab.research.google.com/assets/colab-badge.svg\" alt=\"Open in Colab\" title=\"Open and Execute in Google Colaboratory\"></a>"
   ]
  },
  {
   "cell_type": "code",
   "execution_count": 1,
   "metadata": {},
   "outputs": [
    {
     "name": "stdout",
     "output_type": "stream",
     "text": [
      "IPython console for SymPy 1.2 (Python 3.6.5-64-bit) (ground types: gmpy)\n",
      "\n",
      "These commands were executed:\n",
      ">>> from __future__ import division\n",
      ">>> from sympy import *\n",
      ">>> x, y, z, t = symbols('x y z t')\n",
      ">>> k, m, n = symbols('k m n', integer=True)\n",
      ">>> f, g, h = symbols('f g h', cls=Function)\n",
      ">>> init_printing()\n",
      "\n",
      "Documentation can be found at http://docs.sympy.org/1.2/\n",
      "\n"
     ]
    }
   ],
   "source": [
    "from sympy import init_session\n",
    "from sympy.parsing.latex import parse_latex\n",
    "from sympy.parsing.sympy_parser import parse_expr\n",
    "from sympy.functions.combinatorial.numbers import nC, nP, nT\n",
    "from IPython.display import Markdown as md\n",
    "from IPython.display import display\n",
    "import pandas as pd\n",
    "# ejercicios = pd.DataFrame(columns=['texto','enunciado_latex','enunciado','solucion','hoja','nivel'])\n",
    "\n",
    "init_session()\n",
    "\n",
    "encabezado = ['enunciado_latex','enunciado','solucion']\n",
    "ejercicios = pd.DataFrame(columns = encabezado)\n"
   ]
  },
  {
   "cell_type": "markdown",
   "metadata": {},
   "source": [
    "## Ejercicio\n",
    "\n",
    "Simplifica los cocientes entre factoriales:\n",
    " - $\\frac{7!}{6!}$\n",
    " - $\\frac{{8!}}{{9!}}$\t\n",
    " - $\\frac{{9!}}{{5!.4!}}$\t\t\n",
    " - $\\frac{{m!}}{{(m - 1)!}}$\t\t\n",
    " - $\\frac{{\\left( {m + 1} \\right)!}}{{\\left( {m - 1} \\right)!}}$"
   ]
  },
  {
   "cell_type": "code",
   "execution_count": 4,
   "metadata": {},
   "outputs": [
    {
     "data": {
      "text/markdown": [
       "**Solución:**"
      ],
      "text/plain": [
       "<IPython.core.display.Markdown object>"
      ]
     },
     "metadata": {},
     "output_type": "display_data"
    },
    {
     "data": {
      "text/markdown": [
       "$\\frac{7!}{6!}  \\rightarrow   7$"
      ],
      "text/plain": [
       "<IPython.core.display.Markdown object>"
      ]
     },
     "metadata": {},
     "output_type": "display_data"
    },
    {
     "data": {
      "text/markdown": [
       "$\\frac{{8!}}{{9!}}  \\rightarrow   \\frac{1}{9}$"
      ],
      "text/plain": [
       "<IPython.core.display.Markdown object>"
      ]
     },
     "metadata": {},
     "output_type": "display_data"
    },
    {
     "data": {
      "text/markdown": [
       "$\\frac{{9!}}{{5!\\cdot 4!}}  \\rightarrow   126$"
      ],
      "text/plain": [
       "<IPython.core.display.Markdown object>"
      ]
     },
     "metadata": {},
     "output_type": "display_data"
    },
    {
     "data": {
      "text/markdown": [
       "$\\frac{{m!}}{{(m - 1)!}}  \\rightarrow   m$"
      ],
      "text/plain": [
       "<IPython.core.display.Markdown object>"
      ]
     },
     "metadata": {},
     "output_type": "display_data"
    },
    {
     "data": {
      "text/markdown": [
       "$\\frac{{( {m + 1} )!}}{{( {m - 1} )!}}  \\rightarrow   m \\left(m + 1\\right)$"
      ],
      "text/plain": [
       "<IPython.core.display.Markdown object>"
      ]
     },
     "metadata": {},
     "output_type": "display_data"
    },
    {
     "data": {
      "text/markdown": [
       "**Solución-lista:**"
      ],
      "text/plain": [
       "<IPython.core.display.Markdown object>"
      ]
     },
     "metadata": {},
     "output_type": "display_data"
    },
    {
     "data": {
      "text/plain": [
       "['7', '\\\\frac{1}{9}', '126', 'm', 'm \\\\left(m + 1\\\\right)']"
      ]
     },
     "metadata": {},
     "output_type": "display_data"
    }
   ],
   "source": [
    "texto_ejercicio = 'Simplifica los cocientes entre factoriales:'\n",
    "\n",
    "enunciado_latex = list([r'\\frac{7!}{6!}',r'\\frac{{8!}}{{9!}}',r'\\frac{{9!}}{{5!\\cdot 4!}}',r'\\frac{{m!}}{{(m - 1)!}}', r'\\frac{{( {m + 1} )!}}{{( {m - 1} )!}}'])\n",
    "\n",
    "#display(md(\"**Enunciado en código latex:**\")); display(enunciado_latex)    \n",
    "\n",
    "enunciado=[]\n",
    "for s in enunciado_latex : \n",
    "    enunciado.append(parse_latex(s))\n",
    "    \n",
    "\n",
    "#display(md(\"**Enunciado:**\"));    display(enunciado)    \n",
    "\n",
    "display(md(\"**Solución:**\"))\n",
    "solucion=[]\n",
    "for i in range(len(enunciado)) : \n",
    "    solucion.append(latex(simplify(enunciado[i])))\n",
    "    display(md(\"$\"+enunciado_latex[i]+\"  \\\\rightarrow   \"+latex(simplify(enunciado[i]))+\"$\"))\n",
    "\n",
    "display(md(\"**Solución-lista:**\"));    display(solucion)    \n",
    "    "
   ]
  },
  {
   "cell_type": "code",
   "execution_count": 16,
   "metadata": {},
   "outputs": [],
   "source": [
    "ejercicios = ejercicios.iloc[0:0]"
   ]
  },
  {
   "cell_type": "code",
   "execution_count": 5,
   "metadata": {},
   "outputs": [
    {
     "data": {
      "text/html": [
       "<div>\n",
       "<style scoped>\n",
       "    .dataframe tbody tr th:only-of-type {\n",
       "        vertical-align: middle;\n",
       "    }\n",
       "\n",
       "    .dataframe tbody tr th {\n",
       "        vertical-align: top;\n",
       "    }\n",
       "\n",
       "    .dataframe thead th {\n",
       "        text-align: right;\n",
       "    }\n",
       "</style>\n",
       "<table border=\"1\" class=\"dataframe\">\n",
       "  <thead>\n",
       "    <tr style=\"text-align: right;\">\n",
       "      <th></th>\n",
       "      <th>enunciado_latex</th>\n",
       "      <th>enunciado</th>\n",
       "      <th>solucion</th>\n",
       "    </tr>\n",
       "  </thead>\n",
       "  <tbody>\n",
       "    <tr>\n",
       "      <th>0</th>\n",
       "      <td>\\frac{7!}{6!}</td>\n",
       "      <td>factorial(7)/factorial(6)</td>\n",
       "      <td>7</td>\n",
       "    </tr>\n",
       "    <tr>\n",
       "      <th>1</th>\n",
       "      <td>\\frac{{8!}}{{9!}}</td>\n",
       "      <td>factorial(8)/factorial(9)</td>\n",
       "      <td>\\frac{1}{9}</td>\n",
       "    </tr>\n",
       "    <tr>\n",
       "      <th>2</th>\n",
       "      <td>\\frac{{9!}}{{5!\\cdot 4!}}</td>\n",
       "      <td>factorial(9)/((factorial(4)*factorial(5)))</td>\n",
       "      <td>126</td>\n",
       "    </tr>\n",
       "    <tr>\n",
       "      <th>3</th>\n",
       "      <td>\\frac{{m!}}{{(m - 1)!}}</td>\n",
       "      <td>factorial(m)/factorial(m - 1)</td>\n",
       "      <td>m</td>\n",
       "    </tr>\n",
       "    <tr>\n",
       "      <th>4</th>\n",
       "      <td>\\frac{{( {m + 1} )!}}{{( {m - 1} )!}}</td>\n",
       "      <td>factorial(m + 1)/factorial(m - 1)</td>\n",
       "      <td>m \\left(m + 1\\right)</td>\n",
       "    </tr>\n",
       "  </tbody>\n",
       "</table>\n",
       "</div>"
      ],
      "text/plain": [
       "                         enunciado_latex  \\\n",
       "0                          \\frac{7!}{6!}   \n",
       "1                      \\frac{{8!}}{{9!}}   \n",
       "2              \\frac{{9!}}{{5!\\cdot 4!}}   \n",
       "3                \\frac{{m!}}{{(m - 1)!}}   \n",
       "4  \\frac{{( {m + 1} )!}}{{( {m - 1} )!}}   \n",
       "\n",
       "                                    enunciado              solucion  \n",
       "0                   factorial(7)/factorial(6)                     7  \n",
       "1                   factorial(8)/factorial(9)           \\frac{1}{9}  \n",
       "2  factorial(9)/((factorial(4)*factorial(5)))                   126  \n",
       "3               factorial(m)/factorial(m - 1)                     m  \n",
       "4           factorial(m + 1)/factorial(m - 1)  m \\left(m + 1\\right)  "
      ]
     },
     "execution_count": 5,
     "metadata": {},
     "output_type": "execute_result"
    }
   ],
   "source": [
    "datos = [enunciado_latex, enunciado, solucion]\n",
    "pd.DataFrame(dict(zip(encabezado, datos)))"
   ]
  },
  {
   "cell_type": "code",
   "execution_count": 12,
   "metadata": {},
   "outputs": [],
   "source": [
    "ejercicios = ejercicios.append(pd.DataFrame(dict(zip(encabezado, datos))), ignore_index=True)"
   ]
  },
  {
   "cell_type": "code",
   "execution_count": 13,
   "metadata": {},
   "outputs": [
    {
     "data": {
      "text/html": [
       "<div>\n",
       "<style scoped>\n",
       "    .dataframe tbody tr th:only-of-type {\n",
       "        vertical-align: middle;\n",
       "    }\n",
       "\n",
       "    .dataframe tbody tr th {\n",
       "        vertical-align: top;\n",
       "    }\n",
       "\n",
       "    .dataframe thead th {\n",
       "        text-align: right;\n",
       "    }\n",
       "</style>\n",
       "<table border=\"1\" class=\"dataframe\">\n",
       "  <thead>\n",
       "    <tr style=\"text-align: right;\">\n",
       "      <th></th>\n",
       "      <th>enunciado_latex</th>\n",
       "      <th>enunciado</th>\n",
       "      <th>solucion</th>\n",
       "    </tr>\n",
       "  </thead>\n",
       "  <tbody>\n",
       "    <tr>\n",
       "      <th>0</th>\n",
       "      <td>\\frac{7!}{6!}</td>\n",
       "      <td>factorial(7)/factorial(6)</td>\n",
       "      <td>7</td>\n",
       "    </tr>\n",
       "    <tr>\n",
       "      <th>1</th>\n",
       "      <td>\\frac{{8!}}{{9!}}</td>\n",
       "      <td>factorial(8)/factorial(9)</td>\n",
       "      <td>\\frac{1}{9}</td>\n",
       "    </tr>\n",
       "    <tr>\n",
       "      <th>2</th>\n",
       "      <td>\\frac{{9!}}{{5!\\cdot 4!}}</td>\n",
       "      <td>factorial(9)/((factorial(4)*factorial(5)))</td>\n",
       "      <td>126</td>\n",
       "    </tr>\n",
       "    <tr>\n",
       "      <th>3</th>\n",
       "      <td>\\frac{{m!}}{{(m - 1)!}}</td>\n",
       "      <td>factorial(m)/factorial(m - 1)</td>\n",
       "      <td>m</td>\n",
       "    </tr>\n",
       "    <tr>\n",
       "      <th>4</th>\n",
       "      <td>\\frac{{( {m + 1} )!}}{{( {m - 1} )!}}</td>\n",
       "      <td>factorial(m + 1)/factorial(m - 1)</td>\n",
       "      <td>m \\left(m + 1\\right)</td>\n",
       "    </tr>\n",
       "    <tr>\n",
       "      <th>5</th>\n",
       "      <td>\\frac{7!}{6!}</td>\n",
       "      <td>factorial(7)/factorial(6)</td>\n",
       "      <td>7</td>\n",
       "    </tr>\n",
       "    <tr>\n",
       "      <th>6</th>\n",
       "      <td>\\frac{{8!}}{{9!}}</td>\n",
       "      <td>factorial(8)/factorial(9)</td>\n",
       "      <td>\\frac{1}{9}</td>\n",
       "    </tr>\n",
       "    <tr>\n",
       "      <th>7</th>\n",
       "      <td>\\frac{{9!}}{{5!\\cdot 4!}}</td>\n",
       "      <td>factorial(9)/((factorial(4)*factorial(5)))</td>\n",
       "      <td>126</td>\n",
       "    </tr>\n",
       "    <tr>\n",
       "      <th>8</th>\n",
       "      <td>\\frac{{m!}}{{(m - 1)!}}</td>\n",
       "      <td>factorial(m)/factorial(m - 1)</td>\n",
       "      <td>m</td>\n",
       "    </tr>\n",
       "    <tr>\n",
       "      <th>9</th>\n",
       "      <td>\\frac{{( {m + 1} )!}}{{( {m - 1} )!}}</td>\n",
       "      <td>factorial(m + 1)/factorial(m - 1)</td>\n",
       "      <td>m \\left(m + 1\\right)</td>\n",
       "    </tr>\n",
       "    <tr>\n",
       "      <th>10</th>\n",
       "      <td>\\frac{7!}{6!}</td>\n",
       "      <td>factorial(7)/factorial(6)</td>\n",
       "      <td>7</td>\n",
       "    </tr>\n",
       "    <tr>\n",
       "      <th>11</th>\n",
       "      <td>\\frac{{8!}}{{9!}}</td>\n",
       "      <td>factorial(8)/factorial(9)</td>\n",
       "      <td>\\frac{1}{9}</td>\n",
       "    </tr>\n",
       "    <tr>\n",
       "      <th>12</th>\n",
       "      <td>\\frac{{9!}}{{5!\\cdot 4!}}</td>\n",
       "      <td>factorial(9)/((factorial(4)*factorial(5)))</td>\n",
       "      <td>126</td>\n",
       "    </tr>\n",
       "    <tr>\n",
       "      <th>13</th>\n",
       "      <td>\\frac{{m!}}{{(m - 1)!}}</td>\n",
       "      <td>factorial(m)/factorial(m - 1)</td>\n",
       "      <td>m</td>\n",
       "    </tr>\n",
       "    <tr>\n",
       "      <th>14</th>\n",
       "      <td>\\frac{{( {m + 1} )!}}{{( {m - 1} )!}}</td>\n",
       "      <td>factorial(m + 1)/factorial(m - 1)</td>\n",
       "      <td>m \\left(m + 1\\right)</td>\n",
       "    </tr>\n",
       "  </tbody>\n",
       "</table>\n",
       "</div>"
      ],
      "text/plain": [
       "                          enunciado_latex  \\\n",
       "0                           \\frac{7!}{6!}   \n",
       "1                       \\frac{{8!}}{{9!}}   \n",
       "2               \\frac{{9!}}{{5!\\cdot 4!}}   \n",
       "3                 \\frac{{m!}}{{(m - 1)!}}   \n",
       "4   \\frac{{( {m + 1} )!}}{{( {m - 1} )!}}   \n",
       "5                           \\frac{7!}{6!}   \n",
       "6                       \\frac{{8!}}{{9!}}   \n",
       "7               \\frac{{9!}}{{5!\\cdot 4!}}   \n",
       "8                 \\frac{{m!}}{{(m - 1)!}}   \n",
       "9   \\frac{{( {m + 1} )!}}{{( {m - 1} )!}}   \n",
       "10                          \\frac{7!}{6!}   \n",
       "11                      \\frac{{8!}}{{9!}}   \n",
       "12              \\frac{{9!}}{{5!\\cdot 4!}}   \n",
       "13                \\frac{{m!}}{{(m - 1)!}}   \n",
       "14  \\frac{{( {m + 1} )!}}{{( {m - 1} )!}}   \n",
       "\n",
       "                                     enunciado              solucion  \n",
       "0                    factorial(7)/factorial(6)                     7  \n",
       "1                    factorial(8)/factorial(9)           \\frac{1}{9}  \n",
       "2   factorial(9)/((factorial(4)*factorial(5)))                   126  \n",
       "3                factorial(m)/factorial(m - 1)                     m  \n",
       "4            factorial(m + 1)/factorial(m - 1)  m \\left(m + 1\\right)  \n",
       "5                    factorial(7)/factorial(6)                     7  \n",
       "6                    factorial(8)/factorial(9)           \\frac{1}{9}  \n",
       "7   factorial(9)/((factorial(4)*factorial(5)))                   126  \n",
       "8                factorial(m)/factorial(m - 1)                     m  \n",
       "9            factorial(m + 1)/factorial(m - 1)  m \\left(m + 1\\right)  \n",
       "10                   factorial(7)/factorial(6)                     7  \n",
       "11                   factorial(8)/factorial(9)           \\frac{1}{9}  \n",
       "12  factorial(9)/((factorial(4)*factorial(5)))                   126  \n",
       "13               factorial(m)/factorial(m - 1)                     m  \n",
       "14           factorial(m + 1)/factorial(m - 1)  m \\left(m + 1\\right)  "
      ]
     },
     "execution_count": 13,
     "metadata": {},
     "output_type": "execute_result"
    }
   ],
   "source": [
    "ejercicios"
   ]
  },
  {
   "cell_type": "code",
   "execution_count": 53,
   "metadata": {},
   "outputs": [
    {
     "data": {
      "text/html": [
       "<div>\n",
       "<style scoped>\n",
       "    .dataframe tbody tr th:only-of-type {\n",
       "        vertical-align: middle;\n",
       "    }\n",
       "\n",
       "    .dataframe tbody tr th {\n",
       "        vertical-align: top;\n",
       "    }\n",
       "\n",
       "    .dataframe thead th {\n",
       "        text-align: right;\n",
       "    }\n",
       "</style>\n",
       "<table border=\"1\" class=\"dataframe\">\n",
       "  <thead>\n",
       "    <tr style=\"text-align: right;\">\n",
       "      <th></th>\n",
       "      <th>enunciado_latex</th>\n",
       "      <th>enunciado</th>\n",
       "      <th>solucion</th>\n",
       "    </tr>\n",
       "  </thead>\n",
       "  <tbody>\n",
       "    <tr>\n",
       "      <th>0</th>\n",
       "      <td>\\frac{7!}{6!}</td>\n",
       "      <td>factorial(7)/factorial(6)</td>\n",
       "      <td>7</td>\n",
       "    </tr>\n",
       "    <tr>\n",
       "      <th>1</th>\n",
       "      <td>\\frac{{8!}}{{9!}}</td>\n",
       "      <td>factorial(8)/factorial(9)</td>\n",
       "      <td>\\frac{1}{9}</td>\n",
       "    </tr>\n",
       "    <tr>\n",
       "      <th>2</th>\n",
       "      <td>\\frac{{9!}}{{5!\\cdot 4!}}</td>\n",
       "      <td>factorial(9)/((factorial(4)*factorial(5)))</td>\n",
       "      <td>126</td>\n",
       "    </tr>\n",
       "    <tr>\n",
       "      <th>3</th>\n",
       "      <td>\\frac{{m!}}{{(m - 1)!}}</td>\n",
       "      <td>factorial(m)/factorial(m - 1)</td>\n",
       "      <td>m</td>\n",
       "    </tr>\n",
       "    <tr>\n",
       "      <th>4</th>\n",
       "      <td>\\frac{{( {m + 1} )!}}{{( {m - 1} )!}}</td>\n",
       "      <td>factorial(m + 1)/factorial(m - 1)</td>\n",
       "      <td>m \\left(m + 1\\right)</td>\n",
       "    </tr>\n",
       "  </tbody>\n",
       "</table>\n",
       "</div>"
      ],
      "text/plain": [
       "                         enunciado_latex  \\\n",
       "0                          \\frac{7!}{6!}   \n",
       "1                      \\frac{{8!}}{{9!}}   \n",
       "2              \\frac{{9!}}{{5!\\cdot 4!}}   \n",
       "3                \\frac{{m!}}{{(m - 1)!}}   \n",
       "4  \\frac{{( {m + 1} )!}}{{( {m - 1} )!}}   \n",
       "\n",
       "                                    enunciado              solucion  \n",
       "0                   factorial(7)/factorial(6)                     7  \n",
       "1                   factorial(8)/factorial(9)           \\frac{1}{9}  \n",
       "2  factorial(9)/((factorial(4)*factorial(5)))                   126  \n",
       "3               factorial(m)/factorial(m - 1)                     m  \n",
       "4           factorial(m + 1)/factorial(m - 1)  m \\left(m + 1\\right)  "
      ]
     },
     "execution_count": 53,
     "metadata": {},
     "output_type": "execute_result"
    }
   ],
   "source": [
    "pd.DataFrame(diccionario)"
   ]
  },
  {
   "cell_type": "code",
   "execution_count": 9,
   "metadata": {},
   "outputs": [],
   "source": [
    "def añadir_ejercicio(ejercicios, diccionario_ejercicios) :\n",
    "    ejercicios_nuevos = pd.DataFrame({'enunciado_latex':enunciado_latex, 'enunciado':enunciado, 'solucion':solucion })\n",
    "    return(ejercicios.append(ejercicios_nuevos , ignore_index=True))\n",
    "    "
   ]
  },
  {
   "cell_type": "code",
   "execution_count": 39,
   "metadata": {},
   "outputs": [
    {
     "data": {
      "text/html": [
       "<div>\n",
       "<style scoped>\n",
       "    .dataframe tbody tr th:only-of-type {\n",
       "        vertical-align: middle;\n",
       "    }\n",
       "\n",
       "    .dataframe tbody tr th {\n",
       "        vertical-align: top;\n",
       "    }\n",
       "\n",
       "    .dataframe thead th {\n",
       "        text-align: right;\n",
       "    }\n",
       "</style>\n",
       "<table border=\"1\" class=\"dataframe\">\n",
       "  <thead>\n",
       "    <tr style=\"text-align: right;\">\n",
       "      <th></th>\n",
       "      <th>enunciado_latex</th>\n",
       "      <th>enunciado</th>\n",
       "      <th>solucion</th>\n",
       "    </tr>\n",
       "  </thead>\n",
       "  <tbody>\n",
       "    <tr>\n",
       "      <th>0</th>\n",
       "      <td>\\frac{7!}{6!}</td>\n",
       "      <td>factorial(7)/factorial(6)</td>\n",
       "      <td>7</td>\n",
       "    </tr>\n",
       "    <tr>\n",
       "      <th>1</th>\n",
       "      <td>\\frac{{8!}}{{9!}}</td>\n",
       "      <td>factorial(8)/factorial(9)</td>\n",
       "      <td>\\frac{1}{9}</td>\n",
       "    </tr>\n",
       "    <tr>\n",
       "      <th>2</th>\n",
       "      <td>\\frac{{9!}}{{5!\\cdot 4!}}</td>\n",
       "      <td>factorial(9)/((factorial(4)*factorial(5)))</td>\n",
       "      <td>126</td>\n",
       "    </tr>\n",
       "    <tr>\n",
       "      <th>3</th>\n",
       "      <td>\\frac{{m!}}{{(m - 1)!}}</td>\n",
       "      <td>factorial(m)/factorial(m - 1)</td>\n",
       "      <td>m</td>\n",
       "    </tr>\n",
       "    <tr>\n",
       "      <th>4</th>\n",
       "      <td>\\frac{{( {m + 1} )!}}{{( {m - 1} )!}}</td>\n",
       "      <td>factorial(m + 1)/factorial(m - 1)</td>\n",
       "      <td>m \\left(m + 1\\right)</td>\n",
       "    </tr>\n",
       "    <tr>\n",
       "      <th>5</th>\n",
       "      <td>\\frac{7!}{6!}</td>\n",
       "      <td>factorial(7)/factorial(6)</td>\n",
       "      <td>7</td>\n",
       "    </tr>\n",
       "    <tr>\n",
       "      <th>6</th>\n",
       "      <td>\\frac{{8!}}{{9!}}</td>\n",
       "      <td>factorial(8)/factorial(9)</td>\n",
       "      <td>\\frac{1}{9}</td>\n",
       "    </tr>\n",
       "    <tr>\n",
       "      <th>7</th>\n",
       "      <td>\\frac{{9!}}{{5!\\cdot 4!}}</td>\n",
       "      <td>factorial(9)/((factorial(4)*factorial(5)))</td>\n",
       "      <td>126</td>\n",
       "    </tr>\n",
       "    <tr>\n",
       "      <th>8</th>\n",
       "      <td>\\frac{{m!}}{{(m - 1)!}}</td>\n",
       "      <td>factorial(m)/factorial(m - 1)</td>\n",
       "      <td>m</td>\n",
       "    </tr>\n",
       "    <tr>\n",
       "      <th>9</th>\n",
       "      <td>\\frac{{( {m + 1} )!}}{{( {m - 1} )!}}</td>\n",
       "      <td>factorial(m + 1)/factorial(m - 1)</td>\n",
       "      <td>m \\left(m + 1\\right)</td>\n",
       "    </tr>\n",
       "    <tr>\n",
       "      <th>10</th>\n",
       "      <td>\\frac{7!}{6!}</td>\n",
       "      <td>factorial(7)/factorial(6)</td>\n",
       "      <td>7</td>\n",
       "    </tr>\n",
       "    <tr>\n",
       "      <th>11</th>\n",
       "      <td>\\frac{{8!}}{{9!}}</td>\n",
       "      <td>factorial(8)/factorial(9)</td>\n",
       "      <td>\\frac{1}{9}</td>\n",
       "    </tr>\n",
       "    <tr>\n",
       "      <th>12</th>\n",
       "      <td>\\frac{{9!}}{{5!\\cdot 4!}}</td>\n",
       "      <td>factorial(9)/((factorial(4)*factorial(5)))</td>\n",
       "      <td>126</td>\n",
       "    </tr>\n",
       "    <tr>\n",
       "      <th>13</th>\n",
       "      <td>\\frac{{m!}}{{(m - 1)!}}</td>\n",
       "      <td>factorial(m)/factorial(m - 1)</td>\n",
       "      <td>m</td>\n",
       "    </tr>\n",
       "    <tr>\n",
       "      <th>14</th>\n",
       "      <td>\\frac{{( {m + 1} )!}}{{( {m - 1} )!}}</td>\n",
       "      <td>factorial(m + 1)/factorial(m - 1)</td>\n",
       "      <td>m \\left(m + 1\\right)</td>\n",
       "    </tr>\n",
       "  </tbody>\n",
       "</table>\n",
       "</div>"
      ],
      "text/plain": [
       "                          enunciado_latex  \\\n",
       "0                           \\frac{7!}{6!}   \n",
       "1                       \\frac{{8!}}{{9!}}   \n",
       "2               \\frac{{9!}}{{5!\\cdot 4!}}   \n",
       "3                 \\frac{{m!}}{{(m - 1)!}}   \n",
       "4   \\frac{{( {m + 1} )!}}{{( {m - 1} )!}}   \n",
       "5                           \\frac{7!}{6!}   \n",
       "6                       \\frac{{8!}}{{9!}}   \n",
       "7               \\frac{{9!}}{{5!\\cdot 4!}}   \n",
       "8                 \\frac{{m!}}{{(m - 1)!}}   \n",
       "9   \\frac{{( {m + 1} )!}}{{( {m - 1} )!}}   \n",
       "10                          \\frac{7!}{6!}   \n",
       "11                      \\frac{{8!}}{{9!}}   \n",
       "12              \\frac{{9!}}{{5!\\cdot 4!}}   \n",
       "13                \\frac{{m!}}{{(m - 1)!}}   \n",
       "14  \\frac{{( {m + 1} )!}}{{( {m - 1} )!}}   \n",
       "\n",
       "                                     enunciado              solucion  \n",
       "0                    factorial(7)/factorial(6)                     7  \n",
       "1                    factorial(8)/factorial(9)           \\frac{1}{9}  \n",
       "2   factorial(9)/((factorial(4)*factorial(5)))                   126  \n",
       "3                factorial(m)/factorial(m - 1)                     m  \n",
       "4            factorial(m + 1)/factorial(m - 1)  m \\left(m + 1\\right)  \n",
       "5                    factorial(7)/factorial(6)                     7  \n",
       "6                    factorial(8)/factorial(9)           \\frac{1}{9}  \n",
       "7   factorial(9)/((factorial(4)*factorial(5)))                   126  \n",
       "8                factorial(m)/factorial(m - 1)                     m  \n",
       "9            factorial(m + 1)/factorial(m - 1)  m \\left(m + 1\\right)  \n",
       "10                   factorial(7)/factorial(6)                     7  \n",
       "11                   factorial(8)/factorial(9)           \\frac{1}{9}  \n",
       "12  factorial(9)/((factorial(4)*factorial(5)))                   126  \n",
       "13               factorial(m)/factorial(m - 1)                     m  \n",
       "14           factorial(m + 1)/factorial(m - 1)  m \\left(m + 1\\right)  "
      ]
     },
     "execution_count": 39,
     "metadata": {},
     "output_type": "execute_result"
    }
   ],
   "source": [
    "ejercicios"
   ]
  },
  {
   "cell_type": "code",
   "execution_count": 38,
   "metadata": {},
   "outputs": [],
   "source": [
    "ejercicios = añadir_ejercicio(ejercicios, enunciado_latex, enunciado, solucion)"
   ]
  },
  {
   "cell_type": "code",
   "execution_count": 11,
   "metadata": {},
   "outputs": [
    {
     "ename": "AttributeError",
     "evalue": "'NoneType' object has no attribute 'append'",
     "output_type": "error",
     "traceback": [
      "\u001b[0;31m---------------------------------------------------------------------------\u001b[0m",
      "\u001b[0;31mAttributeError\u001b[0m                            Traceback (most recent call last)",
      "\u001b[0;32m<ipython-input-11-a61c2e5db240>\u001b[0m in \u001b[0;36m<module>\u001b[0;34m()\u001b[0m\n\u001b[0;32m----> 1\u001b[0;31m \u001b[0mejercicios\u001b[0m \u001b[0;34m=\u001b[0m \u001b[0mejercicios\u001b[0m\u001b[0;34m.\u001b[0m\u001b[0mappend\u001b[0m\u001b[0;34m(\u001b[0m\u001b[0mpd\u001b[0m\u001b[0;34m.\u001b[0m\u001b[0mDataFrame\u001b[0m\u001b[0;34m(\u001b[0m\u001b[0;34m{\u001b[0m\u001b[0;34m'enunciado_latex'\u001b[0m\u001b[0;34m:\u001b[0m\u001b[0menunciado_latex\u001b[0m\u001b[0;34m,\u001b[0m \u001b[0;34m'enunciado'\u001b[0m\u001b[0;34m:\u001b[0m\u001b[0menunciado\u001b[0m\u001b[0;34m,\u001b[0m \u001b[0;34m'solucion'\u001b[0m\u001b[0;34m:\u001b[0m\u001b[0msolucion\u001b[0m \u001b[0;34m}\u001b[0m\u001b[0;34m)\u001b[0m\u001b[0;34m,\u001b[0m \u001b[0mignore_index\u001b[0m\u001b[0;34m=\u001b[0m\u001b[0;32mTrue\u001b[0m\u001b[0;34m)\u001b[0m\u001b[0;34m\u001b[0m\u001b[0m\n\u001b[0m",
      "\u001b[0;31mAttributeError\u001b[0m: 'NoneType' object has no attribute 'append'"
     ]
    }
   ],
   "source": [
    "ejercicios = ejercicios.append(pd.DataFrame({'enunciado_latex':enunciado_latex, 'enunciado':enunciado, 'solucion':solucion }), ignore_index=True)"
   ]
  },
  {
   "cell_type": "code",
   "execution_count": 24,
   "metadata": {},
   "outputs": [
    {
     "data": {
      "text/html": [
       "<div>\n",
       "<style scoped>\n",
       "    .dataframe tbody tr th:only-of-type {\n",
       "        vertical-align: middle;\n",
       "    }\n",
       "\n",
       "    .dataframe tbody tr th {\n",
       "        vertical-align: top;\n",
       "    }\n",
       "\n",
       "    .dataframe thead th {\n",
       "        text-align: right;\n",
       "    }\n",
       "</style>\n",
       "<table border=\"1\" class=\"dataframe\">\n",
       "  <thead>\n",
       "    <tr style=\"text-align: right;\">\n",
       "      <th></th>\n",
       "      <th>enunciado_latex</th>\n",
       "      <th>enunciado_latex</th>\n",
       "    </tr>\n",
       "  </thead>\n",
       "  <tbody>\n",
       "    <tr>\n",
       "      <th>0</th>\n",
       "      <td>\\frac{7!}{6!}</td>\n",
       "      <td>factorial(7)/factorial(6)</td>\n",
       "    </tr>\n",
       "    <tr>\n",
       "      <th>1</th>\n",
       "      <td>\\frac{{8!}}{{9!}}</td>\n",
       "      <td>factorial(8)/factorial(9)</td>\n",
       "    </tr>\n",
       "    <tr>\n",
       "      <th>2</th>\n",
       "      <td>\\frac{{9!}}{{5!\\cdot 4!}}</td>\n",
       "      <td>factorial(9)/((factorial(4)*factorial(5)))</td>\n",
       "    </tr>\n",
       "    <tr>\n",
       "      <th>3</th>\n",
       "      <td>\\frac{{m!}}{{(m - 1)!}}</td>\n",
       "      <td>factorial(m)/factorial(m - 1)</td>\n",
       "    </tr>\n",
       "    <tr>\n",
       "      <th>4</th>\n",
       "      <td>\\frac{{( {m + 1} )!}}{{( {m - 1} )!}}</td>\n",
       "      <td>factorial(m + 1)/factorial(m - 1)</td>\n",
       "    </tr>\n",
       "  </tbody>\n",
       "</table>\n",
       "</div>"
      ],
      "text/plain": [
       "                         enunciado_latex  \\\n",
       "0                          \\frac{7!}{6!}   \n",
       "1                      \\frac{{8!}}{{9!}}   \n",
       "2              \\frac{{9!}}{{5!\\cdot 4!}}   \n",
       "3                \\frac{{m!}}{{(m - 1)!}}   \n",
       "4  \\frac{{( {m + 1} )!}}{{( {m - 1} )!}}   \n",
       "\n",
       "                              enunciado_latex  \n",
       "0                   factorial(7)/factorial(6)  \n",
       "1                   factorial(8)/factorial(9)  \n",
       "2  factorial(9)/((factorial(4)*factorial(5)))  \n",
       "3               factorial(m)/factorial(m - 1)  \n",
       "4           factorial(m + 1)/factorial(m - 1)  "
      ]
     },
     "execution_count": 24,
     "metadata": {},
     "output_type": "execute_result"
    }
   ],
   "source": [
    "pd.concat([pd.Series(enunciado_latex, name='enunciado_latex'), pd.Series(enunciado, name='enunciado_latex')], axis = 1)"
   ]
  },
  {
   "cell_type": "code",
   "execution_count": 33,
   "metadata": {},
   "outputs": [
    {
     "data": {
      "text/html": [
       "<div>\n",
       "<style scoped>\n",
       "    .dataframe tbody tr th:only-of-type {\n",
       "        vertical-align: middle;\n",
       "    }\n",
       "\n",
       "    .dataframe tbody tr th {\n",
       "        vertical-align: top;\n",
       "    }\n",
       "\n",
       "    .dataframe thead th {\n",
       "        text-align: right;\n",
       "    }\n",
       "</style>\n",
       "<table border=\"1\" class=\"dataframe\">\n",
       "  <thead>\n",
       "    <tr style=\"text-align: right;\">\n",
       "      <th></th>\n",
       "      <th>enunciado_latex</th>\n",
       "      <th>enunciado</th>\n",
       "      <th>solucion</th>\n",
       "    </tr>\n",
       "  </thead>\n",
       "  <tbody>\n",
       "    <tr>\n",
       "      <th>0</th>\n",
       "      <td>\\frac{7!}{6!}</td>\n",
       "      <td>factorial(7)/factorial(6)</td>\n",
       "      <td>7</td>\n",
       "    </tr>\n",
       "    <tr>\n",
       "      <th>1</th>\n",
       "      <td>\\frac{{8!}}{{9!}}</td>\n",
       "      <td>factorial(8)/factorial(9)</td>\n",
       "      <td>\\frac{1}{9}</td>\n",
       "    </tr>\n",
       "    <tr>\n",
       "      <th>2</th>\n",
       "      <td>\\frac{{9!}}{{5!\\cdot 4!}}</td>\n",
       "      <td>factorial(9)/((factorial(4)*factorial(5)))</td>\n",
       "      <td>126</td>\n",
       "    </tr>\n",
       "    <tr>\n",
       "      <th>3</th>\n",
       "      <td>\\frac{{m!}}{{(m - 1)!}}</td>\n",
       "      <td>factorial(m)/factorial(m - 1)</td>\n",
       "      <td>m</td>\n",
       "    </tr>\n",
       "    <tr>\n",
       "      <th>4</th>\n",
       "      <td>\\frac{{( {m + 1} )!}}{{( {m - 1} )!}}</td>\n",
       "      <td>factorial(m + 1)/factorial(m - 1)</td>\n",
       "      <td>m \\left(m + 1\\right)</td>\n",
       "    </tr>\n",
       "    <tr>\n",
       "      <th>5</th>\n",
       "      <td>\\frac{7!}{6!}</td>\n",
       "      <td>factorial(7)/factorial(6)</td>\n",
       "      <td>7</td>\n",
       "    </tr>\n",
       "    <tr>\n",
       "      <th>6</th>\n",
       "      <td>\\frac{{8!}}{{9!}}</td>\n",
       "      <td>factorial(8)/factorial(9)</td>\n",
       "      <td>\\frac{1}{9}</td>\n",
       "    </tr>\n",
       "    <tr>\n",
       "      <th>7</th>\n",
       "      <td>\\frac{{9!}}{{5!\\cdot 4!}}</td>\n",
       "      <td>factorial(9)/((factorial(4)*factorial(5)))</td>\n",
       "      <td>126</td>\n",
       "    </tr>\n",
       "    <tr>\n",
       "      <th>8</th>\n",
       "      <td>\\frac{{m!}}{{(m - 1)!}}</td>\n",
       "      <td>factorial(m)/factorial(m - 1)</td>\n",
       "      <td>m</td>\n",
       "    </tr>\n",
       "    <tr>\n",
       "      <th>9</th>\n",
       "      <td>\\frac{{( {m + 1} )!}}{{( {m - 1} )!}}</td>\n",
       "      <td>factorial(m + 1)/factorial(m - 1)</td>\n",
       "      <td>m \\left(m + 1\\right)</td>\n",
       "    </tr>\n",
       "  </tbody>\n",
       "</table>\n",
       "</div>"
      ],
      "text/plain": [
       "                         enunciado_latex  \\\n",
       "0                          \\frac{7!}{6!}   \n",
       "1                      \\frac{{8!}}{{9!}}   \n",
       "2              \\frac{{9!}}{{5!\\cdot 4!}}   \n",
       "3                \\frac{{m!}}{{(m - 1)!}}   \n",
       "4  \\frac{{( {m + 1} )!}}{{( {m - 1} )!}}   \n",
       "5                          \\frac{7!}{6!}   \n",
       "6                      \\frac{{8!}}{{9!}}   \n",
       "7              \\frac{{9!}}{{5!\\cdot 4!}}   \n",
       "8                \\frac{{m!}}{{(m - 1)!}}   \n",
       "9  \\frac{{( {m + 1} )!}}{{( {m - 1} )!}}   \n",
       "\n",
       "                                    enunciado              solucion  \n",
       "0                   factorial(7)/factorial(6)                     7  \n",
       "1                   factorial(8)/factorial(9)           \\frac{1}{9}  \n",
       "2  factorial(9)/((factorial(4)*factorial(5)))                   126  \n",
       "3               factorial(m)/factorial(m - 1)                     m  \n",
       "4           factorial(m + 1)/factorial(m - 1)  m \\left(m + 1\\right)  \n",
       "5                   factorial(7)/factorial(6)                     7  \n",
       "6                   factorial(8)/factorial(9)           \\frac{1}{9}  \n",
       "7  factorial(9)/((factorial(4)*factorial(5)))                   126  \n",
       "8               factorial(m)/factorial(m - 1)                     m  \n",
       "9           factorial(m + 1)/factorial(m - 1)  m \\left(m + 1\\right)  "
      ]
     },
     "execution_count": 33,
     "metadata": {},
     "output_type": "execute_result"
    }
   ],
   "source": [
    "ejercicios"
   ]
  },
  {
   "cell_type": "code",
   "execution_count": 5,
   "metadata": {},
   "outputs": [],
   "source": [
    "ejercicios.enunciado_latex = ejercicios.enunciado_latex.append(pd.Series(enunciado), ignore_index=True)"
   ]
  },
  {
   "cell_type": "code",
   "execution_count": 25,
   "metadata": {},
   "outputs": [
    {
     "data": {
      "text/html": [
       "<div>\n",
       "<style scoped>\n",
       "    .dataframe tbody tr th:only-of-type {\n",
       "        vertical-align: middle;\n",
       "    }\n",
       "\n",
       "    .dataframe tbody tr th {\n",
       "        vertical-align: top;\n",
       "    }\n",
       "\n",
       "    .dataframe thead th {\n",
       "        text-align: right;\n",
       "    }\n",
       "</style>\n",
       "<table border=\"1\" class=\"dataframe\">\n",
       "  <thead>\n",
       "    <tr style=\"text-align: right;\">\n",
       "      <th></th>\n",
       "      <th>texto</th>\n",
       "      <th>enunciado_latex</th>\n",
       "      <th>enunciado</th>\n",
       "      <th>solucion</th>\n",
       "      <th>hoja</th>\n",
       "      <th>nivel</th>\n",
       "    </tr>\n",
       "  </thead>\n",
       "  <tbody>\n",
       "    <tr>\n",
       "      <th>0</th>\n",
       "      <td>NaN</td>\n",
       "      <td>factorial(7)/factorial(6)</td>\n",
       "      <td>NaN</td>\n",
       "      <td>NaN</td>\n",
       "      <td>NaN</td>\n",
       "      <td>NaN</td>\n",
       "    </tr>\n",
       "    <tr>\n",
       "      <th>1</th>\n",
       "      <td>NaN</td>\n",
       "      <td>factorial(8)/factorial(9)</td>\n",
       "      <td>NaN</td>\n",
       "      <td>NaN</td>\n",
       "      <td>NaN</td>\n",
       "      <td>NaN</td>\n",
       "    </tr>\n",
       "    <tr>\n",
       "      <th>2</th>\n",
       "      <td>NaN</td>\n",
       "      <td>factorial(9)/((factorial(4)*factorial(5)))</td>\n",
       "      <td>NaN</td>\n",
       "      <td>NaN</td>\n",
       "      <td>NaN</td>\n",
       "      <td>NaN</td>\n",
       "    </tr>\n",
       "    <tr>\n",
       "      <th>3</th>\n",
       "      <td>NaN</td>\n",
       "      <td>factorial(m)/factorial(m - 1)</td>\n",
       "      <td>NaN</td>\n",
       "      <td>NaN</td>\n",
       "      <td>NaN</td>\n",
       "      <td>NaN</td>\n",
       "    </tr>\n",
       "    <tr>\n",
       "      <th>4</th>\n",
       "      <td>NaN</td>\n",
       "      <td>factorial(m + 1)/factorial(m - 1)</td>\n",
       "      <td>NaN</td>\n",
       "      <td>NaN</td>\n",
       "      <td>NaN</td>\n",
       "      <td>NaN</td>\n",
       "    </tr>\n",
       "  </tbody>\n",
       "</table>\n",
       "</div>"
      ],
      "text/plain": [
       "  texto                             enunciado_latex enunciado solucion hoja  \\\n",
       "0   NaN                   factorial(7)/factorial(6)       NaN      NaN  NaN   \n",
       "1   NaN                   factorial(8)/factorial(9)       NaN      NaN  NaN   \n",
       "2   NaN  factorial(9)/((factorial(4)*factorial(5)))       NaN      NaN  NaN   \n",
       "3   NaN               factorial(m)/factorial(m - 1)       NaN      NaN  NaN   \n",
       "4   NaN           factorial(m + 1)/factorial(m - 1)       NaN      NaN  NaN   \n",
       "\n",
       "  nivel  \n",
       "0   NaN  \n",
       "1   NaN  \n",
       "2   NaN  \n",
       "3   NaN  \n",
       "4   NaN  "
      ]
     },
     "execution_count": 25,
     "metadata": {},
     "output_type": "execute_result"
    }
   ],
   "source": [
    "ejercicios.dropna()\n",
    "ejercicios"
   ]
  },
  {
   "cell_type": "code",
   "execution_count": 19,
   "metadata": {},
   "outputs": [
    {
     "ename": "ValueError",
     "evalue": "cannot reindex from a duplicate axis",
     "output_type": "error",
     "traceback": [
      "\u001b[0;31m---------------------------------------------------------------------------\u001b[0m",
      "\u001b[0;31mValueError\u001b[0m                                Traceback (most recent call last)",
      "\u001b[0;32m<ipython-input-19-f4f7ebb892b1>\u001b[0m in \u001b[0;36m<module>\u001b[0;34m()\u001b[0m\n\u001b[0;32m----> 1\u001b[0;31m \u001b[0mejercicios\u001b[0m\u001b[0;34m.\u001b[0m\u001b[0menunciado\u001b[0m \u001b[0;34m=\u001b[0m \u001b[0mejercicios\u001b[0m\u001b[0;34m.\u001b[0m\u001b[0menunciado\u001b[0m\u001b[0;34m.\u001b[0m\u001b[0mappend\u001b[0m\u001b[0;34m(\u001b[0m\u001b[0mpd\u001b[0m\u001b[0;34m.\u001b[0m\u001b[0mSeries\u001b[0m\u001b[0;34m(\u001b[0m\u001b[0menunciado\u001b[0m\u001b[0;34m)\u001b[0m\u001b[0;34m)\u001b[0m\u001b[0;34m\u001b[0m\u001b[0m\n\u001b[0m",
      "\u001b[0;32m~/Mis_aplicaciones/anaconda3/lib/python3.6/site-packages/pandas/core/generic.py\u001b[0m in \u001b[0;36m__setattr__\u001b[0;34m(self, name, value)\u001b[0m\n\u001b[1;32m   4403\u001b[0m                     \u001b[0mobject\u001b[0m\u001b[0;34m.\u001b[0m\u001b[0m__setattr__\u001b[0m\u001b[0;34m(\u001b[0m\u001b[0mself\u001b[0m\u001b[0;34m,\u001b[0m \u001b[0mname\u001b[0m\u001b[0;34m,\u001b[0m \u001b[0mvalue\u001b[0m\u001b[0;34m)\u001b[0m\u001b[0;34m\u001b[0m\u001b[0m\n\u001b[1;32m   4404\u001b[0m                 \u001b[0;32melif\u001b[0m \u001b[0mname\u001b[0m \u001b[0;32min\u001b[0m \u001b[0mself\u001b[0m\u001b[0;34m.\u001b[0m\u001b[0m_info_axis\u001b[0m\u001b[0;34m:\u001b[0m\u001b[0;34m\u001b[0m\u001b[0m\n\u001b[0;32m-> 4405\u001b[0;31m                     \u001b[0mself\u001b[0m\u001b[0;34m[\u001b[0m\u001b[0mname\u001b[0m\u001b[0;34m]\u001b[0m \u001b[0;34m=\u001b[0m \u001b[0mvalue\u001b[0m\u001b[0;34m\u001b[0m\u001b[0m\n\u001b[0m\u001b[1;32m   4406\u001b[0m                 \u001b[0;32melse\u001b[0m\u001b[0;34m:\u001b[0m\u001b[0;34m\u001b[0m\u001b[0m\n\u001b[1;32m   4407\u001b[0m                     \u001b[0mobject\u001b[0m\u001b[0;34m.\u001b[0m\u001b[0m__setattr__\u001b[0m\u001b[0;34m(\u001b[0m\u001b[0mself\u001b[0m\u001b[0;34m,\u001b[0m \u001b[0mname\u001b[0m\u001b[0;34m,\u001b[0m \u001b[0mvalue\u001b[0m\u001b[0;34m)\u001b[0m\u001b[0;34m\u001b[0m\u001b[0m\n",
      "\u001b[0;32m~/Mis_aplicaciones/anaconda3/lib/python3.6/site-packages/pandas/core/frame.py\u001b[0m in \u001b[0;36m__setitem__\u001b[0;34m(self, key, value)\u001b[0m\n\u001b[1;32m   3117\u001b[0m         \u001b[0;32melse\u001b[0m\u001b[0;34m:\u001b[0m\u001b[0;34m\u001b[0m\u001b[0m\n\u001b[1;32m   3118\u001b[0m             \u001b[0;31m# set column\u001b[0m\u001b[0;34m\u001b[0m\u001b[0;34m\u001b[0m\u001b[0m\n\u001b[0;32m-> 3119\u001b[0;31m             \u001b[0mself\u001b[0m\u001b[0;34m.\u001b[0m\u001b[0m_set_item\u001b[0m\u001b[0;34m(\u001b[0m\u001b[0mkey\u001b[0m\u001b[0;34m,\u001b[0m \u001b[0mvalue\u001b[0m\u001b[0;34m)\u001b[0m\u001b[0;34m\u001b[0m\u001b[0m\n\u001b[0m\u001b[1;32m   3120\u001b[0m \u001b[0;34m\u001b[0m\u001b[0m\n\u001b[1;32m   3121\u001b[0m     \u001b[0;32mdef\u001b[0m \u001b[0m_setitem_slice\u001b[0m\u001b[0;34m(\u001b[0m\u001b[0mself\u001b[0m\u001b[0;34m,\u001b[0m \u001b[0mkey\u001b[0m\u001b[0;34m,\u001b[0m \u001b[0mvalue\u001b[0m\u001b[0;34m)\u001b[0m\u001b[0;34m:\u001b[0m\u001b[0;34m\u001b[0m\u001b[0m\n",
      "\u001b[0;32m~/Mis_aplicaciones/anaconda3/lib/python3.6/site-packages/pandas/core/frame.py\u001b[0m in \u001b[0;36m_set_item\u001b[0;34m(self, key, value)\u001b[0m\n\u001b[1;32m   3192\u001b[0m \u001b[0;34m\u001b[0m\u001b[0m\n\u001b[1;32m   3193\u001b[0m         \u001b[0mself\u001b[0m\u001b[0;34m.\u001b[0m\u001b[0m_ensure_valid_index\u001b[0m\u001b[0;34m(\u001b[0m\u001b[0mvalue\u001b[0m\u001b[0;34m)\u001b[0m\u001b[0;34m\u001b[0m\u001b[0m\n\u001b[0;32m-> 3194\u001b[0;31m         \u001b[0mvalue\u001b[0m \u001b[0;34m=\u001b[0m \u001b[0mself\u001b[0m\u001b[0;34m.\u001b[0m\u001b[0m_sanitize_column\u001b[0m\u001b[0;34m(\u001b[0m\u001b[0mkey\u001b[0m\u001b[0;34m,\u001b[0m \u001b[0mvalue\u001b[0m\u001b[0;34m)\u001b[0m\u001b[0;34m\u001b[0m\u001b[0m\n\u001b[0m\u001b[1;32m   3195\u001b[0m         \u001b[0mNDFrame\u001b[0m\u001b[0;34m.\u001b[0m\u001b[0m_set_item\u001b[0m\u001b[0;34m(\u001b[0m\u001b[0mself\u001b[0m\u001b[0;34m,\u001b[0m \u001b[0mkey\u001b[0m\u001b[0;34m,\u001b[0m \u001b[0mvalue\u001b[0m\u001b[0;34m)\u001b[0m\u001b[0;34m\u001b[0m\u001b[0m\n\u001b[1;32m   3196\u001b[0m \u001b[0;34m\u001b[0m\u001b[0m\n",
      "\u001b[0;32m~/Mis_aplicaciones/anaconda3/lib/python3.6/site-packages/pandas/core/frame.py\u001b[0m in \u001b[0;36m_sanitize_column\u001b[0;34m(self, key, value, broadcast)\u001b[0m\n\u001b[1;32m   3364\u001b[0m \u001b[0;34m\u001b[0m\u001b[0m\n\u001b[1;32m   3365\u001b[0m         \u001b[0;32mif\u001b[0m \u001b[0misinstance\u001b[0m\u001b[0;34m(\u001b[0m\u001b[0mvalue\u001b[0m\u001b[0;34m,\u001b[0m \u001b[0mSeries\u001b[0m\u001b[0;34m)\u001b[0m\u001b[0;34m:\u001b[0m\u001b[0;34m\u001b[0m\u001b[0m\n\u001b[0;32m-> 3366\u001b[0;31m             \u001b[0mvalue\u001b[0m \u001b[0;34m=\u001b[0m \u001b[0mreindexer\u001b[0m\u001b[0;34m(\u001b[0m\u001b[0mvalue\u001b[0m\u001b[0;34m)\u001b[0m\u001b[0;34m\u001b[0m\u001b[0m\n\u001b[0m\u001b[1;32m   3367\u001b[0m \u001b[0;34m\u001b[0m\u001b[0m\n\u001b[1;32m   3368\u001b[0m         \u001b[0;32melif\u001b[0m \u001b[0misinstance\u001b[0m\u001b[0;34m(\u001b[0m\u001b[0mvalue\u001b[0m\u001b[0;34m,\u001b[0m \u001b[0mDataFrame\u001b[0m\u001b[0;34m)\u001b[0m\u001b[0;34m:\u001b[0m\u001b[0;34m\u001b[0m\u001b[0m\n",
      "\u001b[0;32m~/Mis_aplicaciones/anaconda3/lib/python3.6/site-packages/pandas/core/frame.py\u001b[0m in \u001b[0;36mreindexer\u001b[0;34m(value)\u001b[0m\n\u001b[1;32m   3356\u001b[0m                     \u001b[0;31m# duplicate axis\u001b[0m\u001b[0;34m\u001b[0m\u001b[0;34m\u001b[0m\u001b[0m\n\u001b[1;32m   3357\u001b[0m                     \u001b[0;32mif\u001b[0m \u001b[0;32mnot\u001b[0m \u001b[0mvalue\u001b[0m\u001b[0;34m.\u001b[0m\u001b[0mindex\u001b[0m\u001b[0;34m.\u001b[0m\u001b[0mis_unique\u001b[0m\u001b[0;34m:\u001b[0m\u001b[0;34m\u001b[0m\u001b[0m\n\u001b[0;32m-> 3358\u001b[0;31m                         \u001b[0;32mraise\u001b[0m \u001b[0me\u001b[0m\u001b[0;34m\u001b[0m\u001b[0m\n\u001b[0m\u001b[1;32m   3359\u001b[0m \u001b[0;34m\u001b[0m\u001b[0m\n\u001b[1;32m   3360\u001b[0m                     \u001b[0;31m# other\u001b[0m\u001b[0;34m\u001b[0m\u001b[0;34m\u001b[0m\u001b[0m\n",
      "\u001b[0;32m~/Mis_aplicaciones/anaconda3/lib/python3.6/site-packages/pandas/core/frame.py\u001b[0m in \u001b[0;36mreindexer\u001b[0;34m(value)\u001b[0m\n\u001b[1;32m   3351\u001b[0m                 \u001b[0;31m# GH 4107\u001b[0m\u001b[0;34m\u001b[0m\u001b[0;34m\u001b[0m\u001b[0m\n\u001b[1;32m   3352\u001b[0m                 \u001b[0;32mtry\u001b[0m\u001b[0;34m:\u001b[0m\u001b[0;34m\u001b[0m\u001b[0m\n\u001b[0;32m-> 3353\u001b[0;31m                     \u001b[0mvalue\u001b[0m \u001b[0;34m=\u001b[0m \u001b[0mvalue\u001b[0m\u001b[0;34m.\u001b[0m\u001b[0mreindex\u001b[0m\u001b[0;34m(\u001b[0m\u001b[0mself\u001b[0m\u001b[0;34m.\u001b[0m\u001b[0mindex\u001b[0m\u001b[0;34m)\u001b[0m\u001b[0;34m.\u001b[0m\u001b[0m_values\u001b[0m\u001b[0;34m\u001b[0m\u001b[0m\n\u001b[0m\u001b[1;32m   3354\u001b[0m                 \u001b[0;32mexcept\u001b[0m \u001b[0mException\u001b[0m \u001b[0;32mas\u001b[0m \u001b[0me\u001b[0m\u001b[0;34m:\u001b[0m\u001b[0;34m\u001b[0m\u001b[0m\n\u001b[1;32m   3355\u001b[0m \u001b[0;34m\u001b[0m\u001b[0m\n",
      "\u001b[0;32m~/Mis_aplicaciones/anaconda3/lib/python3.6/site-packages/pandas/core/series.py\u001b[0m in \u001b[0;36mreindex\u001b[0;34m(self, index, **kwargs)\u001b[0m\n\u001b[1;32m   3323\u001b[0m     \u001b[0;34m@\u001b[0m\u001b[0mAppender\u001b[0m\u001b[0;34m(\u001b[0m\u001b[0mgeneric\u001b[0m\u001b[0;34m.\u001b[0m\u001b[0m_shared_docs\u001b[0m\u001b[0;34m[\u001b[0m\u001b[0;34m'reindex'\u001b[0m\u001b[0;34m]\u001b[0m \u001b[0;34m%\u001b[0m \u001b[0m_shared_doc_kwargs\u001b[0m\u001b[0;34m)\u001b[0m\u001b[0;34m\u001b[0m\u001b[0m\n\u001b[1;32m   3324\u001b[0m     \u001b[0;32mdef\u001b[0m \u001b[0mreindex\u001b[0m\u001b[0;34m(\u001b[0m\u001b[0mself\u001b[0m\u001b[0;34m,\u001b[0m \u001b[0mindex\u001b[0m\u001b[0;34m=\u001b[0m\u001b[0;32mNone\u001b[0m\u001b[0;34m,\u001b[0m \u001b[0;34m**\u001b[0m\u001b[0mkwargs\u001b[0m\u001b[0;34m)\u001b[0m\u001b[0;34m:\u001b[0m\u001b[0;34m\u001b[0m\u001b[0m\n\u001b[0;32m-> 3325\u001b[0;31m         \u001b[0;32mreturn\u001b[0m \u001b[0msuper\u001b[0m\u001b[0;34m(\u001b[0m\u001b[0mSeries\u001b[0m\u001b[0;34m,\u001b[0m \u001b[0mself\u001b[0m\u001b[0;34m)\u001b[0m\u001b[0;34m.\u001b[0m\u001b[0mreindex\u001b[0m\u001b[0;34m(\u001b[0m\u001b[0mindex\u001b[0m\u001b[0;34m=\u001b[0m\u001b[0mindex\u001b[0m\u001b[0;34m,\u001b[0m \u001b[0;34m**\u001b[0m\u001b[0mkwargs\u001b[0m\u001b[0;34m)\u001b[0m\u001b[0;34m\u001b[0m\u001b[0m\n\u001b[0m\u001b[1;32m   3326\u001b[0m \u001b[0;34m\u001b[0m\u001b[0m\n\u001b[1;32m   3327\u001b[0m     def drop(self, labels=None, axis=0, index=None, columns=None,\n",
      "\u001b[0;32m~/Mis_aplicaciones/anaconda3/lib/python3.6/site-packages/pandas/core/generic.py\u001b[0m in \u001b[0;36mreindex\u001b[0;34m(self, *args, **kwargs)\u001b[0m\n\u001b[1;32m   3687\u001b[0m         \u001b[0;31m# perform the reindex on the axes\u001b[0m\u001b[0;34m\u001b[0m\u001b[0;34m\u001b[0m\u001b[0m\n\u001b[1;32m   3688\u001b[0m         return self._reindex_axes(axes, level, limit, tolerance, method,\n\u001b[0;32m-> 3689\u001b[0;31m                                   fill_value, copy).__finalize__(self)\n\u001b[0m\u001b[1;32m   3690\u001b[0m \u001b[0;34m\u001b[0m\u001b[0m\n\u001b[1;32m   3691\u001b[0m     def _reindex_axes(self, axes, level, limit, tolerance, method, fill_value,\n",
      "\u001b[0;32m~/Mis_aplicaciones/anaconda3/lib/python3.6/site-packages/pandas/core/generic.py\u001b[0m in \u001b[0;36m_reindex_axes\u001b[0;34m(self, axes, level, limit, tolerance, method, fill_value, copy)\u001b[0m\n\u001b[1;32m   3705\u001b[0m             obj = obj._reindex_with_indexers({axis: [new_index, indexer]},\n\u001b[1;32m   3706\u001b[0m                                              \u001b[0mfill_value\u001b[0m\u001b[0;34m=\u001b[0m\u001b[0mfill_value\u001b[0m\u001b[0;34m,\u001b[0m\u001b[0;34m\u001b[0m\u001b[0m\n\u001b[0;32m-> 3707\u001b[0;31m                                              copy=copy, allow_dups=False)\n\u001b[0m\u001b[1;32m   3708\u001b[0m \u001b[0;34m\u001b[0m\u001b[0m\n\u001b[1;32m   3709\u001b[0m         \u001b[0;32mreturn\u001b[0m \u001b[0mobj\u001b[0m\u001b[0;34m\u001b[0m\u001b[0m\n",
      "\u001b[0;32m~/Mis_aplicaciones/anaconda3/lib/python3.6/site-packages/pandas/core/generic.py\u001b[0m in \u001b[0;36m_reindex_with_indexers\u001b[0;34m(self, reindexers, fill_value, copy, allow_dups)\u001b[0m\n\u001b[1;32m   3808\u001b[0m                                                 \u001b[0mfill_value\u001b[0m\u001b[0;34m=\u001b[0m\u001b[0mfill_value\u001b[0m\u001b[0;34m,\u001b[0m\u001b[0;34m\u001b[0m\u001b[0m\n\u001b[1;32m   3809\u001b[0m                                                 \u001b[0mallow_dups\u001b[0m\u001b[0;34m=\u001b[0m\u001b[0mallow_dups\u001b[0m\u001b[0;34m,\u001b[0m\u001b[0;34m\u001b[0m\u001b[0m\n\u001b[0;32m-> 3810\u001b[0;31m                                                 copy=copy)\n\u001b[0m\u001b[1;32m   3811\u001b[0m \u001b[0;34m\u001b[0m\u001b[0m\n\u001b[1;32m   3812\u001b[0m         \u001b[0;32mif\u001b[0m \u001b[0mcopy\u001b[0m \u001b[0;32mand\u001b[0m \u001b[0mnew_data\u001b[0m \u001b[0;32mis\u001b[0m \u001b[0mself\u001b[0m\u001b[0;34m.\u001b[0m\u001b[0m_data\u001b[0m\u001b[0;34m:\u001b[0m\u001b[0;34m\u001b[0m\u001b[0m\n",
      "\u001b[0;32m~/Mis_aplicaciones/anaconda3/lib/python3.6/site-packages/pandas/core/internals.py\u001b[0m in \u001b[0;36mreindex_indexer\u001b[0;34m(self, new_axis, indexer, axis, fill_value, allow_dups, copy)\u001b[0m\n\u001b[1;32m   4412\u001b[0m         \u001b[0;31m# some axes don't allow reindexing with dups\u001b[0m\u001b[0;34m\u001b[0m\u001b[0;34m\u001b[0m\u001b[0m\n\u001b[1;32m   4413\u001b[0m         \u001b[0;32mif\u001b[0m \u001b[0;32mnot\u001b[0m \u001b[0mallow_dups\u001b[0m\u001b[0;34m:\u001b[0m\u001b[0;34m\u001b[0m\u001b[0m\n\u001b[0;32m-> 4414\u001b[0;31m             \u001b[0mself\u001b[0m\u001b[0;34m.\u001b[0m\u001b[0maxes\u001b[0m\u001b[0;34m[\u001b[0m\u001b[0maxis\u001b[0m\u001b[0;34m]\u001b[0m\u001b[0;34m.\u001b[0m\u001b[0m_can_reindex\u001b[0m\u001b[0;34m(\u001b[0m\u001b[0mindexer\u001b[0m\u001b[0;34m)\u001b[0m\u001b[0;34m\u001b[0m\u001b[0m\n\u001b[0m\u001b[1;32m   4415\u001b[0m \u001b[0;34m\u001b[0m\u001b[0m\n\u001b[1;32m   4416\u001b[0m         \u001b[0;32mif\u001b[0m \u001b[0maxis\u001b[0m \u001b[0;34m>=\u001b[0m \u001b[0mself\u001b[0m\u001b[0;34m.\u001b[0m\u001b[0mndim\u001b[0m\u001b[0;34m:\u001b[0m\u001b[0;34m\u001b[0m\u001b[0m\n",
      "\u001b[0;32m~/Mis_aplicaciones/anaconda3/lib/python3.6/site-packages/pandas/core/indexes/base.py\u001b[0m in \u001b[0;36m_can_reindex\u001b[0;34m(self, indexer)\u001b[0m\n\u001b[1;32m   3574\u001b[0m         \u001b[0;31m# trying to reindex on an axis with duplicates\u001b[0m\u001b[0;34m\u001b[0m\u001b[0;34m\u001b[0m\u001b[0m\n\u001b[1;32m   3575\u001b[0m         \u001b[0;32mif\u001b[0m \u001b[0;32mnot\u001b[0m \u001b[0mself\u001b[0m\u001b[0;34m.\u001b[0m\u001b[0mis_unique\u001b[0m \u001b[0;32mand\u001b[0m \u001b[0mlen\u001b[0m\u001b[0;34m(\u001b[0m\u001b[0mindexer\u001b[0m\u001b[0;34m)\u001b[0m\u001b[0;34m:\u001b[0m\u001b[0;34m\u001b[0m\u001b[0m\n\u001b[0;32m-> 3576\u001b[0;31m             \u001b[0;32mraise\u001b[0m \u001b[0mValueError\u001b[0m\u001b[0;34m(\u001b[0m\u001b[0;34m\"cannot reindex from a duplicate axis\"\u001b[0m\u001b[0;34m)\u001b[0m\u001b[0;34m\u001b[0m\u001b[0m\n\u001b[0m\u001b[1;32m   3577\u001b[0m \u001b[0;34m\u001b[0m\u001b[0m\n\u001b[1;32m   3578\u001b[0m     def reindex(self, target, method=None, level=None, limit=None,\n",
      "\u001b[0;31mValueError\u001b[0m: cannot reindex from a duplicate axis"
     ]
    }
   ],
   "source": [
    "ejercicios.enunciado = ejercicios.enunciado.append(pd.Series(enunciado))"
   ]
  },
  {
   "cell_type": "code",
   "execution_count": 12,
   "metadata": {},
   "outputs": [
    {
     "data": {
      "text/plain": [
       "0                     factorial(7)/factorial(6)\n",
       "1                     factorial(8)/factorial(9)\n",
       "2    factorial(9)/((factorial(4)*factorial(5)))\n",
       "3                 factorial(m)/factorial(m - 1)\n",
       "4             factorial(m + 1)/factorial(m - 1)\n",
       "dtype: object"
      ]
     },
     "execution_count": 12,
     "metadata": {},
     "output_type": "execute_result"
    }
   ],
   "source": [
    "pd.Series(enunciado)"
   ]
  },
  {
   "cell_type": "code",
   "execution_count": 23,
   "metadata": {},
   "outputs": [
    {
     "data": {
      "text/html": [
       "<div>\n",
       "<style scoped>\n",
       "    .dataframe tbody tr th:only-of-type {\n",
       "        vertical-align: middle;\n",
       "    }\n",
       "\n",
       "    .dataframe tbody tr th {\n",
       "        vertical-align: top;\n",
       "    }\n",
       "\n",
       "    .dataframe thead th {\n",
       "        text-align: right;\n",
       "    }\n",
       "</style>\n",
       "<table border=\"1\" class=\"dataframe\">\n",
       "  <thead>\n",
       "    <tr style=\"text-align: right;\">\n",
       "      <th></th>\n",
       "      <th>texto</th>\n",
       "      <th>enunciado_latex</th>\n",
       "      <th>enunciado</th>\n",
       "      <th>solucion</th>\n",
       "      <th>hoja</th>\n",
       "      <th>nivel</th>\n",
       "    </tr>\n",
       "  </thead>\n",
       "  <tbody>\n",
       "    <tr>\n",
       "      <th>0</th>\n",
       "      <td>Simplifica los cocientes entre factoriales:</td>\n",
       "      <td>\\frac{7!}{6!}</td>\n",
       "      <td>factorial(7)/factorial(6)</td>\n",
       "      <td>7</td>\n",
       "      <td>1</td>\n",
       "      <td>1</td>\n",
       "    </tr>\n",
       "    <tr>\n",
       "      <th>1</th>\n",
       "      <td>Simplifica los cocientes entre factoriales:</td>\n",
       "      <td>\\frac{{8!}}{{9!}}</td>\n",
       "      <td>factorial(8)/factorial(9)</td>\n",
       "      <td>\\frac{1}{9}</td>\n",
       "      <td>1</td>\n",
       "      <td>1</td>\n",
       "    </tr>\n",
       "    <tr>\n",
       "      <th>2</th>\n",
       "      <td>Simplifica los cocientes entre factoriales:</td>\n",
       "      <td>\\frac{{9!}}{{5!\\cdot 4!}}</td>\n",
       "      <td>factorial(9)/((factorial(4)*factorial(5)))</td>\n",
       "      <td>126</td>\n",
       "      <td>1</td>\n",
       "      <td>1</td>\n",
       "    </tr>\n",
       "    <tr>\n",
       "      <th>3</th>\n",
       "      <td>Simplifica los cocientes entre factoriales:</td>\n",
       "      <td>\\frac{{m!}}{{(m - 1)!}}</td>\n",
       "      <td>factorial(m)/factorial(m - 1)</td>\n",
       "      <td>m</td>\n",
       "      <td>1</td>\n",
       "      <td>1</td>\n",
       "    </tr>\n",
       "    <tr>\n",
       "      <th>4</th>\n",
       "      <td>Simplifica los cocientes entre factoriales:</td>\n",
       "      <td>\\frac{{( {m + 1} )!}}{{( {m - 1} )!}}</td>\n",
       "      <td>factorial(m + 1)/factorial(m - 1)</td>\n",
       "      <td>m \\left(m + 1\\right)</td>\n",
       "      <td>1</td>\n",
       "      <td>1</td>\n",
       "    </tr>\n",
       "  </tbody>\n",
       "</table>\n",
       "</div>"
      ],
      "text/plain": [
       "                                         texto  \\\n",
       "0  Simplifica los cocientes entre factoriales:   \n",
       "1  Simplifica los cocientes entre factoriales:   \n",
       "2  Simplifica los cocientes entre factoriales:   \n",
       "3  Simplifica los cocientes entre factoriales:   \n",
       "4  Simplifica los cocientes entre factoriales:   \n",
       "\n",
       "                         enunciado_latex  \\\n",
       "0                          \\frac{7!}{6!}   \n",
       "1                      \\frac{{8!}}{{9!}}   \n",
       "2              \\frac{{9!}}{{5!\\cdot 4!}}   \n",
       "3                \\frac{{m!}}{{(m - 1)!}}   \n",
       "4  \\frac{{( {m + 1} )!}}{{( {m - 1} )!}}   \n",
       "\n",
       "                                    enunciado              solucion  hoja  \\\n",
       "0                   factorial(7)/factorial(6)                     7     1   \n",
       "1                   factorial(8)/factorial(9)           \\frac{1}{9}     1   \n",
       "2  factorial(9)/((factorial(4)*factorial(5)))                   126     1   \n",
       "3               factorial(m)/factorial(m - 1)                     m     1   \n",
       "4           factorial(m + 1)/factorial(m - 1)  m \\left(m + 1\\right)     1   \n",
       "\n",
       "   nivel  \n",
       "0      1  \n",
       "1      1  \n",
       "2      1  \n",
       "3      1  \n",
       "4      1  "
      ]
     },
     "execution_count": 23,
     "metadata": {},
     "output_type": "execute_result"
    }
   ],
   "source": [
    "ejercicios.texto = texto_ejercicio\n",
    "ejercicios['enunciado_latex']=enunciado_latex\n",
    "ejercicios['enunciado']=enunciado\n",
    "ejercicios['solucion']=solucion\n",
    "ejercicios['hoja']=1\n",
    "ejercicios['nivel']=1\n",
    "# ejercicios.enunciado_latex.append?\n",
    "ejercicios"
   ]
  },
  {
   "cell_type": "code",
   "execution_count": 18,
   "metadata": {},
   "outputs": [
    {
     "data": {
      "text/plain": [
       "0                     factorial(7)/factorial(6)\n",
       "1                     factorial(8)/factorial(9)\n",
       "2    factorial(9)/((factorial(4)*factorial(5)))\n",
       "3                 factorial(m)/factorial(m - 1)\n",
       "4             factorial(m + 1)/factorial(m - 1)\n",
       "dtype: object"
      ]
     },
     "execution_count": 18,
     "metadata": {},
     "output_type": "execute_result"
    }
   ],
   "source": [
    "s=ejercicios.enunciado_latex.append(pd.Series(enunciado), ignore_index=True)\n",
    "s"
   ]
  },
  {
   "cell_type": "markdown",
   "metadata": {},
   "source": [
    "## Ejercicio\n",
    "\n",
    "Calcula las siguientes operaciones:\n",
    "- $\\binom{252}{250}$\t\n",
    "- $\\binom{25}{3} + \\binom{25}{4} = \\binom{26}{4}$\n",
    "- $\\binom{9}{6} + \\binom{9}{7} + \\binom{10}{2}=\\binom{10}{7}+\\binom{10}{8}=\\binom{11}{8}$\n",
    "- $\\binom{4}{2} + \\binom{4}{3} + \\binom{5}{4}+\\binom{6}{5} + \\binom{7}{6} + \\binom{8}{7}=\\binom{9}{7}$\n",
    "- $\\binom{4}{0} + \\binom{4}{1} + \\binom{4}{2}+\\binom{4}{3} = 2^4-1$\n",
    "\n"
   ]
  },
  {
   "cell_type": "code",
   "execution_count": 12,
   "metadata": {},
   "outputs": [],
   "source": [
    "from sympy.functions.combinatorial.numbers import nC, nP, nT"
   ]
  },
  {
   "cell_type": "code",
   "execution_count": 37,
   "metadata": {},
   "outputs": [
    {
     "data": {
      "image/png": "[encoded data removed]",
      "text/latex": [
       "$$10$$"
      ],
      "text/plain": [
       "10"
      ]
     },
     "execution_count": 37,
     "metadata": {},
     "output_type": "execute_result"
    }
   ],
   "source": [
    "nC(5,3)"
   ]
  },
  {
   "cell_type": "code",
   "execution_count": 58,
   "metadata": {},
   "outputs": [
    {
     "data": {
      "image/png": "[encoded data removed]",
      "text/latex": [
       "$$\\operatorname{nC}{\\left (5,3 \\right )}$$"
      ],
      "text/plain": [
       "nC(5, 3)"
      ]
     },
     "metadata": {},
     "output_type": "display_data"
    }
   ],
   "source": [
    "from sympy import *\n",
    "expr = sympify(\"nC(5,3)\")\n",
    "display(expr.expand())"
   ]
  },
  {
   "cell_type": "code",
   "execution_count": 14,
   "metadata": {},
   "outputs": [],
   "source": [
    "enunciado = [[252,250], [25,3], [25,4]]"
   ]
  },
  {
   "cell_type": "code",
   "execution_count": 17,
   "metadata": {},
   "outputs": [
    {
     "data": {
      "image/png": "[encoded data removed]",
      "text/latex": [
       "$$31626$$"
      ],
      "text/plain": [
       "31626"
      ]
     },
     "metadata": {},
     "output_type": "display_data"
    },
    {
     "data": {
      "image/png": "[encoded data removed]",
      "text/latex": [
       "$$2300$$"
      ],
      "text/plain": [
       "2300"
      ]
     },
     "metadata": {},
     "output_type": "display_data"
    },
    {
     "data": {
      "image/png": "[encoded data removed]",
      "text/latex": [
       "$$12650$$"
      ],
      "text/plain": [
       "12650"
      ]
     },
     "metadata": {},
     "output_type": "display_data"
    }
   ],
   "source": [
    "for i in range(len(enunciado)):\n",
    "    display(nC(enunciado[i][0],enunciado[i][1]))"
   ]
  },
  {
   "cell_type": "code",
   "execution_count": 10,
   "metadata": {},
   "outputs": [
    {
     "data": {
      "image/png": "[encoded data removed]",
      "text/latex": [
       "$$31626$$"
      ],
      "text/plain": [
       "31626"
      ]
     },
     "execution_count": 10,
     "metadata": {},
     "output_type": "execute_result"
    }
   ],
   "source": [
    "nC(enunciado[0][0],enunciado[0][1])"
   ]
  },
  {
   "cell_type": "code",
   "execution_count": 13,
   "metadata": {},
   "outputs": [
    {
     "data": {
      "image/png": "[encoded data removed]",
      "text/latex": [
       "$$31626$$"
      ],
      "text/plain": [
       "31626"
      ]
     },
     "execution_count": 13,
     "metadata": {},
     "output_type": "execute_result"
    }
   ],
   "source": [
    "factorial(252)/(factorial(250)*factorial(2))"
   ]
  }
 ],
 "metadata": {
  "kernelspec": {
   "display_name": "Python 3",
   "language": "python",
   "name": "python3"
  },
  "language_info": {
   "codemirror_mode": {
    "name": "ipython",
    "version": 3
   },
   "file_extension": ".py",
   "mimetype": "text/x-python",
   "name": "python",
   "nbconvert_exporter": "python",
   "pygments_lexer": "ipython3",
   "version": "3.6.5"
  }
 },
 "nbformat": 4,
 "nbformat_minor": 2
}
