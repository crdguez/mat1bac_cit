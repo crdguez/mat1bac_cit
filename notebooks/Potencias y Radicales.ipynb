{
 "cells": [
  {
   "cell_type": "markdown",
   "metadata": {},
   "source": [
    "<a href=\"https://colab.research.google.com/github/crdguez/mat1bac_cit/blob/master/notebooks/Ejercicios1_3.ipynb\"><img align=\"left\" src=\"https://colab.research.google.com/assets/colab-badge.svg\" alt=\"Open in Colab\" title=\"Open and Execute in Google Colaboratory\"></a>"
   ]
  },
  {
   "cell_type": "code",
   "execution_count": 3,
   "metadata": {},
   "outputs": [
    {
     "name": "stdout",
     "output_type": "stream",
     "text": [
      "IPython console for SymPy 1.2 (Python 3.6.5-64-bit) (ground types: gmpy)\n",
      "\n",
      "These commands were executed:\n",
      ">>> from __future__ import division\n",
      ">>> from sympy import *\n",
      ">>> x, y, z, t = symbols('x y z t')\n",
      ">>> k, m, n = symbols('k m n', integer=True)\n",
      ">>> f, g, h = symbols('f g h', cls=Function)\n",
      ">>> init_printing()\n",
      "\n",
      "Documentation can be found at http://docs.sympy.org/1.2/\n",
      "\n"
     ]
    }
   ],
   "source": [
    "from sympy import init_session\n",
    "from sympy.parsing.latex import parse_latex\n",
    "from sympy.parsing.sympy_parser import parse_expr\n",
    "#from sympy.functions.combinatorial.numbers import nC, nP, nT\n",
    "from IPython.display import Markdown as md\n",
    "from IPython.display import display\n",
    "import pandas as pd\n",
    "# ejercicios = pd.DataFrame(columns=['texto','enunciado_latex','enunciado','solucion','hoja','nivel'])\n",
    "\n",
    "init_session()\n",
    "\n",
    "a, b, c, d = symbols('a b c d', real = True)\n"
   ]
  },
  {
   "cell_type": "code",
   "execution_count": 6,
   "metadata": {},
   "outputs": [
    {
     "data": {
      "text/markdown": [
       "**Calcula:**"
      ],
      "text/plain": [
       "<IPython.core.display.Markdown object>"
      ]
     },
     "metadata": {},
     "output_type": "display_data"
    },
    {
     "data": {
      "text/markdown": [
       "$\\frac{{{3^{ - 2}} \\cdot {3^5} \\cdot {2^3}}}{{{{( {3 \\cdot 2} )}^4}}} \\rightarrow\\frac{1}{6}$"
      ],
      "text/plain": [
       "<IPython.core.display.Markdown object>"
      ]
     },
     "metadata": {},
     "output_type": "display_data"
    },
    {
     "data": {
      "text/markdown": [
       "${3^{ - 5}} \\cdot {( {\\frac{1}{3}} )^{ - 2}} \\cdot 81 \\rightarrow3$"
      ],
      "text/plain": [
       "<IPython.core.display.Markdown object>"
      ]
     },
     "metadata": {},
     "output_type": "display_data"
    },
    {
     "data": {
      "text/markdown": [
       "${( {\\frac{5}{4}} )^5} \\cdot \\frac{{{2^6}}}{{{5^2}}} \\rightarrow\\frac{125}{16}$"
      ],
      "text/plain": [
       "<IPython.core.display.Markdown object>"
      ]
     },
     "metadata": {},
     "output_type": "display_data"
    },
    {
     "data": {
      "text/markdown": [
       "$\\frac{{{2^{ - 2}} \\cdot {{( {{2^2}} )}^3}}}{{{2^{ - 3}}}} \\rightarrow128$"
      ],
      "text/plain": [
       "<IPython.core.display.Markdown object>"
      ]
     },
     "metadata": {},
     "output_type": "display_data"
    },
    {
     "data": {
      "text/markdown": [
       "$\\frac{{{5^{ - 3}} \\cdot {5^{ - 1}} \\cdot {5^2}}}{{{5^0} + {5^6}}} \\rightarrow\\frac{1}{390650}$"
      ],
      "text/plain": [
       "<IPython.core.display.Markdown object>"
      ]
     },
     "metadata": {},
     "output_type": "display_data"
    },
    {
     "data": {
      "text/markdown": [
       "${( {\\frac{2}{3}} )^{ - 2}} \\cdot {( {\\frac{3}{2}} )^4} \\rightarrow\\frac{729}{64}$"
      ],
      "text/plain": [
       "<IPython.core.display.Markdown object>"
      ]
     },
     "metadata": {},
     "output_type": "display_data"
    },
    {
     "data": {
      "text/markdown": [
       "$\\frac{{\\sqrt {2}  \\cdot {{( {\\sqrt {2} } )}^3} \\cdot {{( {\\sqrt {5} } )}^3}}}{{{{( {5\\sqrt{2} } )}^2}}} \\rightarrow\\frac{2 \\sqrt{5}}{5}$"
      ],
      "text/plain": [
       "<IPython.core.display.Markdown object>"
      ]
     },
     "metadata": {},
     "output_type": "display_data"
    },
    {
     "data": {
      "text/markdown": [
       "$\\frac{{{9^{\\frac{1}{2}}} \\cdot {3^{ - 1}} \\cdot {2^{\\frac{3}{2}}}}}{{\\sqrt {2} }} \\rightarrow2$"
      ],
      "text/plain": [
       "<IPython.core.display.Markdown object>"
      ]
     },
     "metadata": {},
     "output_type": "display_data"
    }
   ],
   "source": [
    "# Página 4 ejercicios 1 y 2\n",
    "\n",
    "texto_ejercicio = 'Calcula:'\n",
    "\n",
    "display(md(\"**\"+texto_ejercicio+\"**\"))\n",
    "\n",
    "texto_ejercicio = 'Calcula :'\n",
    "enunciado_latex = [r'\\frac{{{3^{ - 2}} \\cdot {3^5} \\cdot {2^3}}}{{{{( {3 \\cdot 2} )}^4}}}',\n",
    "                  r'{3^{ - 5}} \\cdot {( {\\frac{1}{3}} )^{ - 2}} \\cdot 81',\n",
    "                  r'{( {\\frac{5}{4}} )^5} \\cdot \\frac{{{2^6}}}{{{5^2}}}',\n",
    "                  r'\\frac{{{2^{ - 2}} \\cdot {{( {{2^2}} )}^3}}}{{{2^{ - 3}}}}',\n",
    "                  r'\\frac{{{5^{ - 3}} \\cdot {5^{ - 1}} \\cdot {5^2}}}{{{5^0} + {5^6}}}',\n",
    "                  r'{( {\\frac{2}{3}} )^{ - 2}} \\cdot {( {\\frac{3}{2}} )^4}',\n",
    "                  r'\\frac{{\\sqrt {2}  \\cdot {{( {\\sqrt {2} } )}^3} \\cdot {{( {\\sqrt {5} } )}^3}}}{{{{( {5\\sqrt{2} } )}^2}}}',\n",
    "                  r'\\frac{{{9^{\\frac{1}{2}}} \\cdot {3^{ - 1}} \\cdot {2^{\\frac{3}{2}}}}}{{\\sqrt {2} }}'\n",
    "                  ]\n",
    "enunciado, solucion = [], []\n",
    "for s in enunciado_latex :\n",
    "    display(md(\"$\"+ s +\" \\\\rightarrow\" + latex(simplify(parse_latex(s)))+\"$\"))\n",
    "    enunciado.append(parse_latex(s))\n",
    "    solucion.append(simplify(parse_latex(s))) \n",
    "    "
   ]
  },
  {
   "cell_type": "code",
   "execution_count": 7,
   "metadata": {},
   "outputs": [
    {
     "data": {
      "text/markdown": [
       "**Calcula los siguientes radicales:**"
      ],
      "text/plain": [
       "<IPython.core.display.Markdown object>"
      ]
     },
     "metadata": {},
     "output_type": "display_data"
    },
    {
     "data": {
      "text/markdown": [
       "$\\sqrt {16} \\rightarrow4$"
      ],
      "text/plain": [
       "<IPython.core.display.Markdown object>"
      ]
     },
     "metadata": {},
     "output_type": "display_data"
    },
    {
     "data": {
      "text/markdown": [
       "$\\sqrt[4]{ - 16} \\rightarrow2 \\sqrt[4]{-1}$"
      ],
      "text/plain": [
       "<IPython.core.display.Markdown object>"
      ]
     },
     "metadata": {},
     "output_type": "display_data"
    },
    {
     "data": {
      "text/markdown": [
       "$\\sqrt[3]{27} \\rightarrow3$"
      ],
      "text/plain": [
       "<IPython.core.display.Markdown object>"
      ]
     },
     "metadata": {},
     "output_type": "display_data"
    },
    {
     "data": {
      "text/markdown": [
       "$\\sqrt[5]{-1} \\rightarrow\\sqrt[5]{-1}$"
      ],
      "text/plain": [
       "<IPython.core.display.Markdown object>"
      ]
     },
     "metadata": {},
     "output_type": "display_data"
    },
    {
     "data": {
      "text/markdown": [
       "$\\sqrt {1225} \\rightarrow35$"
      ],
      "text/plain": [
       "<IPython.core.display.Markdown object>"
      ]
     },
     "metadata": {},
     "output_type": "display_data"
    },
    {
     "data": {
      "text/markdown": [
       "$\\sqrt[7]{1} \\rightarrow1$"
      ],
      "text/plain": [
       "<IPython.core.display.Markdown object>"
      ]
     },
     "metadata": {},
     "output_type": "display_data"
    }
   ],
   "source": [
    "# Página 6 ejercicios 13\n",
    "\n",
    "texto_ejercicio = 'Calcula los siguientes radicales:'\n",
    "\n",
    "display(md(\"**\"+texto_ejercicio+\"**\"))\n",
    "\n",
    "enunciado_latex = [r'\\sqrt {16}',\n",
    "                  r'\\sqrt[4]{ - 16}',\n",
    "                  r'\\sqrt[3]{27}',\n",
    "                  r'\\sqrt[5]{-1}',\n",
    "                  r'\\sqrt {1225}',\n",
    "                  r'\\sqrt[7]{1}']\n",
    "enunciado, solucion = [], []\n",
    "for s in enunciado_latex :\n",
    "    display(md(\"$\"+ s +\" \\\\rightarrow\" + latex(simplify(parse_latex(s)))+\"$\"))\n",
    "    enunciado.append(parse_latex(s))\n",
    "    solucion.append(simplify(parse_latex(s))) \n",
    "    "
   ]
  },
  {
   "cell_type": "code",
   "execution_count": 8,
   "metadata": {},
   "outputs": [
    {
     "data": {
      "text/markdown": [
       "**Resuelve las siguientes ecuaciones:**"
      ],
      "text/plain": [
       "<IPython.core.display.Markdown object>"
      ]
     },
     "metadata": {},
     "output_type": "display_data"
    },
    {
     "data": {
      "text/markdown": [
       "$x^4 = 81 \\rightarrow\\left\\{-3, 3\\right\\}$"
      ],
      "text/plain": [
       "<IPython.core.display.Markdown object>"
      ]
     },
     "metadata": {},
     "output_type": "display_data"
    },
    {
     "data": {
      "text/markdown": [
       "$x^3 = 125 \\rightarrow\\left\\{5\\right\\}$"
      ],
      "text/plain": [
       "<IPython.core.display.Markdown object>"
      ]
     },
     "metadata": {},
     "output_type": "display_data"
    },
    {
     "data": {
      "text/markdown": [
       "$x^2 = -6 \\rightarrow\\emptyset$"
      ],
      "text/plain": [
       "<IPython.core.display.Markdown object>"
      ]
     },
     "metadata": {},
     "output_type": "display_data"
    },
    {
     "data": {
      "text/markdown": [
       "$x^5 = -1 \\rightarrow\\left\\{-1\\right\\}$"
      ],
      "text/plain": [
       "<IPython.core.display.Markdown object>"
      ]
     },
     "metadata": {},
     "output_type": "display_data"
    }
   ],
   "source": [
    "# Página 6 ejercicios 14\n",
    "\n",
    "texto_ejercicio = 'Resuelve las siguientes ecuaciones:'\n",
    "\n",
    "display(md(\"**\"+texto_ejercicio+\"**\"))\n",
    "\n",
    "enunciado_latex = [r'x^4 = 81',\n",
    "                   r'x^3 = 125',\n",
    "                   r'x^2 = -6',\n",
    "                   r'x^5 = -1'\n",
    "                  ]\n",
    "enunciado, solucion = [], []\n",
    "x = Symbol('x')\n",
    "\n",
    "for s in enunciado_latex :\n",
    "    display(md(\"$\"+ s +\" \\\\rightarrow\" + latex(solveset(parse_latex(s), domain=S.Reals))+\"$\"))\n",
    "    enunciado.append(parse_latex(s))\n",
    "    solucion.append(simplify(parse_latex(s))) \n",
    "    "
   ]
  },
  {
   "cell_type": "code",
   "execution_count": 9,
   "metadata": {},
   "outputs": [
    {
     "data": {
      "text/markdown": [
       "**Calcula y expresa el resultado de la forma más simple:**"
      ],
      "text/plain": [
       "<IPython.core.display.Markdown object>"
      ]
     },
     "metadata": {},
     "output_type": "display_data"
    },
    {
     "data": {
      "text/markdown": [
       "$\\sqrt {27}  \\cdot \\sqrt {243}  \\cdot \\sqrt {81} \\rightarrow729$"
      ],
      "text/plain": [
       "<IPython.core.display.Markdown object>"
      ]
     },
     "metadata": {},
     "output_type": "display_data"
    },
    {
     "data": {
      "text/markdown": [
       "$\\frac{{\\sqrt[3] {625} }}{{\\sqrt[3] {5}  }} \\rightarrow5$"
      ],
      "text/plain": [
       "<IPython.core.display.Markdown object>"
      ]
     },
     "metadata": {},
     "output_type": "display_data"
    },
    {
     "data": {
      "text/markdown": [
       "$({\\sqrt[3]{5}})^7 \\rightarrow25 \\sqrt[3]{5}$"
      ],
      "text/plain": [
       "<IPython.core.display.Markdown object>"
      ]
     },
     "metadata": {},
     "output_type": "display_data"
    },
    {
     "data": {
      "text/markdown": [
       "$\\sqrt[3]{\\sqrt{8}} \\rightarrow\\sqrt{2}$"
      ],
      "text/plain": [
       "<IPython.core.display.Markdown object>"
      ]
     },
     "metadata": {},
     "output_type": "display_data"
    }
   ],
   "source": [
    "# Página 6 ejercicios 15\n",
    "\n",
    "texto_ejercicio = 'Calcula y expresa el resultado de la forma más simple:'\n",
    "\n",
    "display(md(\"**\"+texto_ejercicio+\"**\"))\n",
    "\n",
    "enunciado_latex = [r'\\sqrt {27}  \\cdot \\sqrt {243}  \\cdot \\sqrt {81}',\n",
    "                  r'\\frac{{\\sqrt[3] {625} }}{{\\sqrt[3] {5}  }}',\n",
    "                  r'({\\sqrt[3]{5}})^7',\n",
    "                  r'\\sqrt[3]{\\sqrt{8}}']\n",
    "enunciado, solucion = [], []\n",
    "for s in enunciado_latex :\n",
    "    display(md(\"$\"+ s +\" \\\\rightarrow\" + latex(simplify(parse_latex(s)))+\"$\"))\n",
    "    enunciado.append(parse_latex(s))\n",
    "    solucion.append(simplify(parse_latex(s))) \n",
    "    "
   ]
  },
  {
   "cell_type": "code",
   "execution_count": 10,
   "metadata": {},
   "outputs": [
    {
     "data": {
      "text/markdown": [
       "**Extrae factores fuera del signo radical en:**"
      ],
      "text/plain": [
       "<IPython.core.display.Markdown object>"
      ]
     },
     "metadata": {},
     "output_type": "display_data"
    },
    {
     "data": {
      "text/markdown": [
       "$\\sqrt {512} \\rightarrow 16 \\sqrt{2}$"
      ],
      "text/plain": [
       "<IPython.core.display.Markdown object>"
      ]
     },
     "metadata": {},
     "output_type": "display_data"
    },
    {
     "data": {
      "text/markdown": [
       "$\\sqrt[3]{11664} \\rightarrow 18 \\sqrt[3]{2}$"
      ],
      "text/plain": [
       "<IPython.core.display.Markdown object>"
      ]
     },
     "metadata": {},
     "output_type": "display_data"
    },
    {
     "data": {
      "text/markdown": [
       "$\\sqrt[4]{48} \\rightarrow 2 \\sqrt[4]{3}$"
      ],
      "text/plain": [
       "<IPython.core.display.Markdown object>"
      ]
     },
     "metadata": {},
     "output_type": "display_data"
    },
    {
     "data": {
      "text/markdown": [
       "$\\sqrt{a^5\\cdot b^3} \\rightarrow \\sqrt{a^{5} b^{3}}$"
      ],
      "text/plain": [
       "<IPython.core.display.Markdown object>"
      ]
     },
     "metadata": {},
     "output_type": "display_data"
    }
   ],
   "source": [
    "# Página 6 ejercicios 16\n",
    "\n",
    "\n",
    "texto_ejercicio = 'Extrae factores fuera del signo radical en:'\n",
    "\n",
    "display(md(\"**\"+texto_ejercicio+\"**\"))\n",
    "\n",
    "enunciado_latex = [r'\\sqrt {512}',\n",
    "                  r'\\sqrt[3]{11664}',\n",
    "                  r'\\sqrt[4]{48}',\n",
    "                  r'\\sqrt{a^5\\cdot b^3}'\n",
    "                  ]\n",
    "enunciado, solucion = [], []\n",
    "for s in enunciado_latex :\n",
    "    display(md(\"$\"+ s +\" \\\\rightarrow \" + latex(simplify(parse_latex(s)))+\"$\"))\n",
    "    enunciado.append(parse_latex(s))\n",
    "    solucion.append(simplify(parse_latex(s))) \n",
    "    "
   ]
  },
  {
   "cell_type": "code",
   "execution_count": 11,
   "metadata": {},
   "outputs": [
    {
     "data": {
      "text/markdown": [
       "**Calcula y expresa el resultado como potencia de exponente racional:**"
      ],
      "text/plain": [
       "<IPython.core.display.Markdown object>"
      ]
     },
     "metadata": {},
     "output_type": "display_data"
    },
    {
     "data": {
      "text/markdown": [
       "$\\sqrt{a}  \\cdot \\sqrt[5]{a} \\cdot \\sqrt[6]{a} \\rightarrow a^{\\frac{13}{15}}$"
      ],
      "text/plain": [
       "<IPython.core.display.Markdown object>"
      ]
     },
     "metadata": {},
     "output_type": "display_data"
    },
    {
     "data": {
      "text/markdown": [
       "$\\sqrt[3]{\\sqrt{a} } \\rightarrow \\sqrt[6]{a}$"
      ],
      "text/plain": [
       "<IPython.core.display.Markdown object>"
      ]
     },
     "metadata": {},
     "output_type": "display_data"
    },
    {
     "data": {
      "text/markdown": [
       "$\\frac{{\\sqrt[3]{a} 3}}{{\\sqrt{a}}} \\rightarrow \\frac{3}{\\sqrt[6]{a}}$"
      ],
      "text/plain": [
       "<IPython.core.display.Markdown object>"
      ]
     },
     "metadata": {},
     "output_type": "display_data"
    },
    {
     "data": {
      "text/markdown": [
       "$\\sqrt {\\sqrt {\\sqrt {2} } } \\rightarrow \\sqrt[8]{2}$"
      ],
      "text/plain": [
       "<IPython.core.display.Markdown object>"
      ]
     },
     "metadata": {},
     "output_type": "display_data"
    },
    {
     "data": {
      "text/markdown": [
       "$\\sqrt {a\\sqrt[3]{a} } \\rightarrow \\sqrt{a^{\\frac{4}{3}}}$"
      ],
      "text/plain": [
       "<IPython.core.display.Markdown object>"
      ]
     },
     "metadata": {},
     "output_type": "display_data"
    },
    {
     "data": {
      "text/markdown": [
       "$\\frac{{\\sqrt[5]{a}  \\cdot \\sqrt {a} }}{{{a^{\\frac{1}{3}}}}} \\rightarrow a^{\\frac{11}{30}}$"
      ],
      "text/plain": [
       "<IPython.core.display.Markdown object>"
      ]
     },
     "metadata": {},
     "output_type": "display_data"
    }
   ],
   "source": [
    "# Página 6 ejercicios 17\n",
    "\n",
    "\n",
    "texto_ejercicio = 'Calcula y expresa el resultado como potencia de exponente racional:'\n",
    "\n",
    "display(md(\"**\"+texto_ejercicio+\"**\"))\n",
    "\n",
    "enunciado_latex = [r'\\sqrt{a}  \\cdot \\sqrt[5]{a} \\cdot \\sqrt[6]{a}' ,\n",
    "                   r'\\sqrt[3]{\\sqrt{a} }',\n",
    "                   r'\\frac{{\\sqrt[3]{a} 3}}{{\\sqrt{a}}}',\n",
    "                   r'\\sqrt {\\sqrt {\\sqrt {2} } }',\n",
    "                   r'\\sqrt {a\\sqrt[3]{a} }',\n",
    "                   r'\\frac{{\\sqrt[5]{a}  \\cdot \\sqrt {a} }}{{{a^{\\frac{1}{3}}}}}'\n",
    "                  ]\n",
    "enunciado, solucion = [], []\n",
    "for s in enunciado_latex :\n",
    "    display(md(\"$\"+ s +\" \\\\rightarrow \" + latex(simplify(parse_latex(s)))+\"$\"))\n",
    "    enunciado.append(parse_latex(s))\n",
    "    solucion.append(simplify(parse_latex(s))) \n",
    "    "
   ]
  },
  {
   "cell_type": "code",
   "execution_count": 12,
   "metadata": {},
   "outputs": [
    {
     "data": {
      "text/markdown": [
       "**Calcula:**"
      ],
      "text/plain": [
       "<IPython.core.display.Markdown object>"
      ]
     },
     "metadata": {},
     "output_type": "display_data"
    },
    {
     "data": {
      "text/markdown": [
       "$4\\sqrt {3.125}  + 2\\sqrt {20}  - 30\\sqrt {45} \\rightarrow - 86 \\sqrt{5} + 7.07106781186548$"
      ],
      "text/plain": [
       "<IPython.core.display.Markdown object>"
      ]
     },
     "metadata": {},
     "output_type": "display_data"
    },
    {
     "data": {
      "text/markdown": [
       "$\\frac{1}{4}\\sqrt {3.125}  - 2\\sqrt {20}  - \\frac{3}{2}\\sqrt {45} \\rightarrow - 8.5 \\sqrt{5} + 0.441941738241592$"
      ],
      "text/plain": [
       "<IPython.core.display.Markdown object>"
      ]
     },
     "metadata": {},
     "output_type": "display_data"
    }
   ],
   "source": [
    "# Página 6 ejercicios 18\n",
    "\n",
    "\n",
    "texto_ejercicio = 'Calcula:'\n",
    "\n",
    "display(md(\"**\"+texto_ejercicio+\"**\"))\n",
    "\n",
    "enunciado_latex = [r'4\\sqrt {3.125}  + 2\\sqrt {20}  - 30\\sqrt {45}',\n",
    "                   r'\\frac{1}{4}\\sqrt {3.125}  - 2\\sqrt {20}  - \\frac{3}{2}\\sqrt {45}'\n",
    "                  ]\n",
    "enunciado, solucion = [], []\n",
    "for s in enunciado_latex :\n",
    "    display(md(\"$\"+ s +\" \\\\rightarrow \" + latex(simplify(parse_latex(s)))+\"$\"))\n",
    "    enunciado.append(parse_latex(s))\n",
    "    solucion.append(simplify(parse_latex(s))) \n",
    "    "
   ]
  },
  {
   "cell_type": "code",
   "execution_count": 13,
   "metadata": {},
   "outputs": [
    {
     "data": {
      "text/markdown": [
       "**Racionaliza:**"
      ],
      "text/plain": [
       "<IPython.core.display.Markdown object>"
      ]
     },
     "metadata": {},
     "output_type": "display_data"
    },
    {
     "data": {
      "text/markdown": [
       "$\\frac{3}{{2\\sqrt {6} }} \\rightarrow \\frac{\\sqrt{6}}{4}$"
      ],
      "text/plain": [
       "<IPython.core.display.Markdown object>"
      ]
     },
     "metadata": {},
     "output_type": "display_data"
    },
    {
     "data": {
      "text/markdown": [
       "$\\frac{5}{{\\sqrt{2} }} \\rightarrow \\frac{5 \\sqrt{2}}{2}$"
      ],
      "text/plain": [
       "<IPython.core.display.Markdown object>"
      ]
     },
     "metadata": {},
     "output_type": "display_data"
    },
    {
     "data": {
      "text/markdown": [
       "$\\frac{2}{{3\\sqrt[3]{ 2} }} \\rightarrow \\frac{2^{\\frac{2}{3}}}{3}$"
      ],
      "text/plain": [
       "<IPython.core.display.Markdown object>"
      ]
     },
     "metadata": {},
     "output_type": "display_data"
    },
    {
     "data": {
      "text/markdown": [
       "$\\frac{2}{{5\\sqrt[5]{ 2} }} \\rightarrow \\frac{2^{\\frac{4}{5}}}{5}$"
      ],
      "text/plain": [
       "<IPython.core.display.Markdown object>"
      ]
     },
     "metadata": {},
     "output_type": "display_data"
    },
    {
     "data": {
      "text/markdown": [
       "$\\frac{6}{{\\sqrt {5}  + \\sqrt {2} }} \\rightarrow - 2 \\sqrt{2} + 2 \\sqrt{5}$"
      ],
      "text/plain": [
       "<IPython.core.display.Markdown object>"
      ]
     },
     "metadata": {},
     "output_type": "display_data"
    },
    {
     "data": {
      "text/markdown": [
       "$\\frac{5}{{2 - \\sqrt {6} }} \\rightarrow \\frac{- 5 \\sqrt{6} - 10}{2}$"
      ],
      "text/plain": [
       "<IPython.core.display.Markdown object>"
      ]
     },
     "metadata": {},
     "output_type": "display_data"
    }
   ],
   "source": [
    "# Página 6 ejercicios 19\n",
    "\n",
    "\n",
    "texto_ejercicio = 'Racionaliza:'\n",
    "\n",
    "display(md(\"**\"+texto_ejercicio+\"**\"))\n",
    "\n",
    "enunciado_latex = [r'\\frac{3}{{2\\sqrt {6} }}',\n",
    "                   r'\\frac{5}{{\\sqrt{2} }}',\n",
    "                   r'\\frac{2}{{3\\sqrt[3]{ 2} }}',\n",
    "                   r'\\frac{2}{{5\\sqrt[5]{ 2} }}',\n",
    "                   r'\\frac{6}{{\\sqrt {5}  + \\sqrt {2} }}',\n",
    "                   r'\\frac{5}{{2 - \\sqrt {6} }}'\n",
    "                  ]\n",
    "enunciado, solucion = [], []\n",
    "for s in enunciado_latex :\n",
    "    display(md(\"$\"+ s +\" \\\\rightarrow \" + latex(radsimp(parse_latex(s)))+\"$\"))\n",
    "    enunciado.append(parse_latex(s))\n",
    "    solucion.append(radsimp(parse_latex(s))) \n",
    "    "
   ]
  },
  {
   "cell_type": "code",
   "execution_count": 14,
   "metadata": {},
   "outputs": [
    {
     "data": {
      "text/markdown": [
       "**Calcula, descomponiendo el radicando en factores primos:**"
      ],
      "text/plain": [
       "<IPython.core.display.Markdown object>"
      ]
     },
     "metadata": {},
     "output_type": "display_data"
    },
    {
     "data": {
      "text/markdown": [
       "$\\sqrt {729} \\rightarrow 27$"
      ],
      "text/plain": [
       "<IPython.core.display.Markdown object>"
      ]
     },
     "metadata": {},
     "output_type": "display_data"
    },
    {
     "data": {
      "text/markdown": [
       "$\\sqrt[3]{64000} \\rightarrow 40$"
      ],
      "text/plain": [
       "<IPython.core.display.Markdown object>"
      ]
     },
     "metadata": {},
     "output_type": "display_data"
    },
    {
     "data": {
      "text/markdown": [
       "$\\sqrt[4]{50625} \\rightarrow 15$"
      ],
      "text/plain": [
       "<IPython.core.display.Markdown object>"
      ]
     },
     "metadata": {},
     "output_type": "display_data"
    },
    {
     "data": {
      "text/markdown": [
       "$\\sqrt[5]{59049} \\rightarrow 9$"
      ],
      "text/plain": [
       "<IPython.core.display.Markdown object>"
      ]
     },
     "metadata": {},
     "output_type": "display_data"
    }
   ],
   "source": [
    "# Página 6 ejercicios 23\n",
    "\n",
    "\n",
    "texto_ejercicio = 'Calcula, descomponiendo el radicando en factores primos:'\n",
    "\n",
    "display(md(\"**\"+texto_ejercicio+\"**\"))\n",
    "\n",
    "enunciado_latex = [r'\\sqrt {729}',\n",
    "                   r'\\sqrt[3]{64000}',\n",
    "                   r'\\sqrt[4]{50625}',\n",
    "                   r'\\sqrt[5]{59049}'\n",
    "                  ]\n",
    "enunciado, solucion = [], []\n",
    "for s in enunciado_latex :\n",
    "    display(md(\"$\"+ s +\" \\\\rightarrow \" + latex(simplify(parse_latex(s)))+\"$\"))\n",
    "    enunciado.append(parse_latex(s))\n",
    "    solucion.append(simplify(parse_latex(s))) \n",
    "    "
   ]
  },
  {
   "cell_type": "code",
   "execution_count": 15,
   "metadata": {},
   "outputs": [
    {
     "data": {
      "text/markdown": [
       "**Calcula:**"
      ],
      "text/plain": [
       "<IPython.core.display.Markdown object>"
      ]
     },
     "metadata": {},
     "output_type": "display_data"
    },
    {
     "data": {
      "text/markdown": [
       "$5\\sqrt {8}  - 2\\sqrt {50}  + \\sqrt {32}  - \\sqrt {2} \\rightarrow 3 \\sqrt{2}$"
      ],
      "text/plain": [
       "<IPython.core.display.Markdown object>"
      ]
     },
     "metadata": {},
     "output_type": "display_data"
    },
    {
     "data": {
      "text/markdown": [
       "$\\sqrt {27}  - \\frac{1}{4}\\sqrt {12}  + \\frac{2}{5}\\sqrt {75} \\rightarrow \\frac{9 \\sqrt{3}}{2}$"
      ],
      "text/plain": [
       "<IPython.core.display.Markdown object>"
      ]
     },
     "metadata": {},
     "output_type": "display_data"
    },
    {
     "data": {
      "text/markdown": [
       "$\\sqrt {\\frac{2}{9}}  + \\sqrt 8  - \\sqrt {\\frac{1}{8}} \\rightarrow \\frac{\\sqrt{2}}{3}$"
      ],
      "text/plain": [
       "<IPython.core.display.Markdown object>"
      ]
     },
     "metadata": {},
     "output_type": "display_data"
    }
   ],
   "source": [
    "# Página 6 ejercicios 25\n",
    "\n",
    "\n",
    "texto_ejercicio = 'Calcula:'\n",
    "\n",
    "display(md(\"**\"+texto_ejercicio+\"**\"))\n",
    "\n",
    "enunciado_latex = [r'5\\sqrt {8}  - 2\\sqrt {50}  + \\sqrt {32}  - \\sqrt {2}',\n",
    "                   r'\\sqrt {27}  - \\frac{1}{4}\\sqrt {12}  + \\frac{2}{5}\\sqrt {75}',\n",
    "                   r'\\sqrt {\\frac{2}{9}}  + \\sqrt 8  - \\sqrt {\\frac{1}{8}}'\n",
    "                   \n",
    "                  ]\n",
    "enunciado, solucion = [], []\n",
    "for s in enunciado_latex :\n",
    "    display(md(\"$\"+ s +\" \\\\rightarrow \" + latex(simplify(parse_latex(s)))+\"$\"))\n",
    "    enunciado.append(parse_latex(s))\n",
    "    solucion.append(simplify(parse_latex(s))) \n",
    "    "
   ]
  },
  {
   "cell_type": "code",
   "execution_count": 38,
   "metadata": {},
   "outputs": [
    {
     "data": {
      "text/markdown": [
       "**Calcula y simplifica:**"
      ],
      "text/plain": [
       "<IPython.core.display.Markdown object>"
      ]
     },
     "metadata": {},
     "output_type": "display_data"
    },
    {
     "data": {
      "text/markdown": [
       "$\\sqrt [3] {5}  \\cdot \\sqrt [4] {3}   \\cdot \\sqrt {2} \\rightarrow \\sqrt{2} \\sqrt[4]{3} \\sqrt[3]{5}$"
      ],
      "text/plain": [
       "<IPython.core.display.Markdown object>"
      ]
     },
     "metadata": {},
     "output_type": "display_data"
    },
    {
     "data": {
      "text/markdown": [
       "$\\frac{{\\sqrt[3]{5} \\cdot \\sqrt{3}}}{{\\sqrt {15}  \\cdot \\sqrt {6} }} \\rightarrow \\frac{5^{\\frac{5}{6}} \\sqrt{6}}{30}$"
      ],
      "text/plain": [
       "<IPython.core.display.Markdown object>"
      ]
     },
     "metadata": {},
     "output_type": "display_data"
    },
    {
     "data": {
      "text/markdown": [
       "$\\frac{{\\sqrt[6]{5}}}{{\\sqrt[3]{5}}} \\rightarrow \\frac{5^{\\frac{5}{6}}}{5}$"
      ],
      "text/plain": [
       "<IPython.core.display.Markdown object>"
      ]
     },
     "metadata": {},
     "output_type": "display_data"
    },
    {
     "data": {
      "text/markdown": [
       "$\\sqrt[5]{{{27}^{\\frac{5}{3}}}} \\rightarrow 3$"
      ],
      "text/plain": [
       "<IPython.core.display.Markdown object>"
      ]
     },
     "metadata": {},
     "output_type": "display_data"
    },
    {
     "data": {
      "text/markdown": [
       "$\\sqrt[3] {4}  \\cdot \\sqrt[4] {8}  \\cdot \\sqrt {2} \\rightarrow 2 \\cdot 2^{\\frac{11}{12}}$"
      ],
      "text/plain": [
       "<IPython.core.display.Markdown object>"
      ]
     },
     "metadata": {},
     "output_type": "display_data"
    }
   ],
   "source": [
    "# Página 6 ejercicios 26\n",
    "\n",
    "\n",
    "texto_ejercicio = 'Calcula y simplifica:'\n",
    "\n",
    "display(md(\"**\"+texto_ejercicio+\"**\"))\n",
    "\n",
    "enunciado_latex = [r'\\sqrt [3] {5}  \\cdot \\sqrt [4] {3}   \\cdot \\sqrt {2}',\n",
    "                   r'\\frac{{\\sqrt[3]{5} \\cdot \\sqrt{3}}}{{\\sqrt {15}  \\cdot \\sqrt {6} }}',\n",
    "                   r'\\frac{{\\sqrt[6]{5}}}{{\\sqrt[3]{5}}}',\n",
    "                   r'\\sqrt[5]{{{27}^{\\frac{5}{3}}}}',\n",
    "                   r'\\sqrt[3] {4}  \\cdot \\sqrt[4] {8}  \\cdot \\sqrt {2}'\n",
    "                  ]\n",
    "enunciado, solucion = [], []\n",
    "for s in enunciado_latex :\n",
    "    display(md(\"$\"+ s +\" \\\\rightarrow \" + latex(simplify(parse_latex(s)))+\"$\"))\n",
    "    enunciado.append(parse_latex(s))\n",
    "    solucion.append(simplify(parse_latex(s))) \n",
    "    "
   ]
  },
  {
   "cell_type": "code",
   "execution_count": 34,
   "metadata": {},
   "outputs": [
    {
     "data": {
      "image/png": "[encoded data removed]",
      "text/latex": [
       "$$\\frac{5^{\\frac{5}{6}}}{5}$$"
      ],
      "text/plain": [
       " 5/6\n",
       "5   \n",
       "────\n",
       " 5  "
      ]
     },
     "execution_count": 34,
     "metadata": {},
     "output_type": "execute_result"
    }
   ],
   "source": [
    "cancel(simplify(parse_latex(s)))"
   ]
  },
  {
   "cell_type": "code",
   "execution_count": 16,
   "metadata": {},
   "outputs": [
    {
     "data": {
      "image/png": "[encoded data removed]",
      "text/latex": [
       "$$3.182623849850094$$"
      ],
      "text/plain": [
       "3.182623849850094"
      ]
     },
     "execution_count": 16,
     "metadata": {},
     "output_type": "execute_result"
    }
   ],
   "source": [
    "(5**(1/3)*3**(1/4)*2**(1/2))"
   ]
  },
  {
   "cell_type": "code",
   "execution_count": 3,
   "metadata": {},
   "outputs": [],
   "source": [
    "def encabezado() :\n",
    "    encabezado = ['enunciado_latex','enunciado','solucion']\n",
    "    return encabezado"
   ]
  },
  {
   "cell_type": "code",
   "execution_count": 8,
   "metadata": {},
   "outputs": [],
   "source": [
    "datos = [enunciado, enunciado_latex, solucion]"
   ]
  },
  {
   "cell_type": "code",
   "execution_count": 30,
   "metadata": {},
   "outputs": [
    {
     "data": {
      "text/plain": [
       "[[(2**3*(3**5*3**(-2)))/(2*3)**4,\n",
       "  81*(3**(-5)*(1/3)**(-2)),\n",
       "  (5/4)**5*(2**6/5**2),\n",
       "  (2**(-2)*(2**2)**3)/2**(-3),\n",
       "  (5**2*(5**(-3)/5))/(5**0 + 5**6),\n",
       "  (2/3)**(-2)*(3/2)**4,\n",
       "  ((sqrt(2)*(sqrt(2))**3)*(sqrt(5))**3)/(5*sqrt(2))**2,\n",
       "  (2**(3/2)*(9**(1/2)/3))/sqrt(2)],\n",
       " ['\\\\frac{{{3^{ - 2}} \\\\cdot {3^5} \\\\cdot {2^3}}}{{{{( {3 \\\\cdot 2} )}^4}}}',\n",
       "  '{3^{ - 5}} \\\\cdot {( {\\\\frac{1}{3}} )^{ - 2}} \\\\cdot 81',\n",
       "  '{( {\\\\frac{5}{4}} )^5} \\\\cdot \\\\frac{{{2^6}}}{{{5^2}}}',\n",
       "  '\\\\frac{{{2^{ - 2}} \\\\cdot {{( {{2^2}} )}^3}}}{{{2^{ - 3}}}}',\n",
       "  '\\\\frac{{{5^{ - 3}} \\\\cdot {5^{ - 1}} \\\\cdot {5^2}}}{{{5^0} + {5^6}}}',\n",
       "  '{( {\\\\frac{2}{3}} )^{ - 2}} \\\\cdot {( {\\\\frac{3}{2}} )^4}',\n",
       "  '\\\\frac{{\\\\sqrt {2}  \\\\cdot {{( {\\\\sqrt {2} } )}^3} \\\\cdot {{( {\\\\sqrt {5} } )}^3}}}{{{{( {5\\\\sqrt{2} } )}^2}}}',\n",
       "  '\\\\frac{{{9^{\\\\frac{1}{2}}} \\\\cdot {3^{ - 1}} \\\\cdot {2^{\\\\frac{3}{2}}}}}{{\\\\sqrt {2} }}'],\n",
       " [1/6, 3, 125/16, 128, 1/390650, 729/64, 2*sqrt(5)/5, 2]]"
      ]
     },
     "execution_count": 30,
     "metadata": {},
     "output_type": "execute_result"
    }
   ],
   "source": [
    "datos"
   ]
  },
  {
   "cell_type": "code",
   "execution_count": 34,
   "metadata": {},
   "outputs": [
    {
     "ename": "NameError",
     "evalue": "name 'name' is not defined",
     "output_type": "error",
     "traceback": [
      "\u001b[0;31m---------------------------------------------------------------------------\u001b[0m",
      "\u001b[0;31mNameError\u001b[0m                                 Traceback (most recent call last)",
      "\u001b[0;32m<ipython-input-34-50f2b12b50f6>\u001b[0m in \u001b[0;36m<module>\u001b[0;34m()\u001b[0m\n\u001b[0;32m----> 1\u001b[0;31m \u001b[0mstr\u001b[0m\u001b[0;34m(\u001b[0m\u001b[0mname\u001b[0m\u001b[0;34m(\u001b[0m\u001b[0mdatos\u001b[0m\u001b[0;34m[\u001b[0m\u001b[0;36m0\u001b[0m\u001b[0;34m]\u001b[0m\u001b[0;34m)\u001b[0m\u001b[0;34m)\u001b[0m\u001b[0;34m\u001b[0m\u001b[0m\n\u001b[0m",
      "\u001b[0;31mNameError\u001b[0m: name 'name' is not defined"
     ]
    }
   ],
   "source": []
  },
  {
   "cell_type": "code",
   "execution_count": 22,
   "metadata": {},
   "outputs": [],
   "source": [
    "# estructura de la tabla que tendrá los ejercicios\n",
    "\n",
    "encabezado = ['enunciado_latex','enunciado','solucion']\n",
    "ejercicios = pd.DataFrame(columns = encabezado)"
   ]
  },
  {
   "cell_type": "markdown",
   "metadata": {},
   "source": [
    "## Ejercicio\n",
    "\n",
    "Simplifica los cocientes entre factoriales:\n",
    " - $\\frac{7!}{6!}$\n",
    " - $\\frac{{8!}}{{9!}}$\t\n",
    " - $\\frac{{9!}}{{5!.4!}}$\t\t\n",
    " - $\\frac{{m!}}{{(m - 1)!}}$\t\t\n",
    " - $\\frac{{\\left( {m + 1} \\right)!}}{{\\left( {m - 1} \\right)!}}$"
   ]
  },
  {
   "cell_type": "code",
   "execution_count": 15,
   "metadata": {},
   "outputs": [
    {
     "data": {
      "text/markdown": [
       "**Solución:**"
      ],
      "text/plain": [
       "<IPython.core.display.Markdown object>"
      ]
     },
     "metadata": {},
     "output_type": "display_data"
    },
    {
     "data": {
      "text/markdown": [
       "$\\frac{7!}{6!}  \\rightarrow   7$"
      ],
      "text/plain": [
       "<IPython.core.display.Markdown object>"
      ]
     },
     "metadata": {},
     "output_type": "display_data"
    },
    {
     "data": {
      "text/markdown": [
       "$\\frac{{8!}}{{9!}}  \\rightarrow   \\frac{1}{9}$"
      ],
      "text/plain": [
       "<IPython.core.display.Markdown object>"
      ]
     },
     "metadata": {},
     "output_type": "display_data"
    },
    {
     "data": {
      "text/markdown": [
       "$\\frac{{9!}}{{5!\\cdot 4!}}  \\rightarrow   126$"
      ],
      "text/plain": [
       "<IPython.core.display.Markdown object>"
      ]
     },
     "metadata": {},
     "output_type": "display_data"
    },
    {
     "data": {
      "text/markdown": [
       "$\\frac{{m!}}{{(m - 1)!}}  \\rightarrow   m$"
      ],
      "text/plain": [
       "<IPython.core.display.Markdown object>"
      ]
     },
     "metadata": {},
     "output_type": "display_data"
    },
    {
     "data": {
      "text/markdown": [
       "$\\frac{{( {m + 1} )!}}{{( {m - 1} )!}}  \\rightarrow   m \\left(m + 1\\right)$"
      ],
      "text/plain": [
       "<IPython.core.display.Markdown object>"
      ]
     },
     "metadata": {},
     "output_type": "display_data"
    }
   ],
   "source": [
    "texto_ejercicio = 'Simplifica los cocientes entre factoriales:'\n",
    "\n",
    "enunciado_latex = list([r'\\frac{7!}{6!}',r'\\frac{{8!}}{{9!}}',r'\\frac{{9!}}{{5!\\cdot 4!}}',r'\\frac{{m!}}{{(m - 1)!}}', r'\\frac{{( {m + 1} )!}}{{( {m - 1} )!}}'])\n",
    "\n",
    "#display(md(\"**Enunciado en código latex:**\")); display(enunciado_latex)    \n",
    "\n",
    "enunciado=[]\n",
    "for s in enunciado_latex : \n",
    "    enunciado.append(parse_latex(s))\n",
    "    \n",
    "\n",
    "#display(md(\"**Enunciado:**\"));    display(enunciado)    \n",
    "\n",
    "display(md(\"**Solución:**\"))\n",
    "solucion=[]\n",
    "for i in range(len(enunciado)) : \n",
    "    solucion.append(latex(simplify(enunciado[i])))\n",
    "    display(md(\"$\"+enunciado_latex[i]+\"  \\\\rightarrow   \"+latex(simplify(enunciado[i]))+\"$\"))\n",
    "\n",
    "# display(md(\"**Solución-lista:**\"));    display(solucion)    \n",
    "    "
   ]
  },
  {
   "cell_type": "code",
   "execution_count": 16,
   "metadata": {},
   "outputs": [
    {
     "data": {
      "image/png": "[encoded data removed]",
      "text/latex": [
       "$$\\left [ \\frac{7!}{6!}, \\quad \\frac{8!}{9!}, \\quad \\frac{9!}{4! 5!}, \\quad \\frac{m!}{\\left(m - 1\\right)!}, \\quad \\frac{\\left(m + 1\\right)!}{\\left(m - 1\\right)!}\\right ]$$"
      ],
      "text/plain": [
       "⎡7!  8!    9!      m!     (m + 1)!⎤\n",
       "⎢──, ──, ─────, ────────, ────────⎥\n",
       "⎣6!  9!  4!⋅5!  (m - 1)!  (m - 1)!⎦"
      ]
     },
     "execution_count": 16,
     "metadata": {},
     "output_type": "execute_result"
    }
   ],
   "source": [
    "enunciado"
   ]
  },
  {
   "cell_type": "code",
   "execution_count": 22,
   "metadata": {},
   "outputs": [],
   "source": [
    "# si queremos borrar los ejercicios antes\n",
    "\n",
    "ejercicios = ejercicios.iloc[0:0]"
   ]
  },
  {
   "cell_type": "code",
   "execution_count": 46,
   "metadata": {},
   "outputs": [
    {
     "data": {
      "text/html": [
       "<div>\n",
       "<style scoped>\n",
       "    .dataframe tbody tr th:only-of-type {\n",
       "        vertical-align: middle;\n",
       "    }\n",
       "\n",
       "    .dataframe tbody tr th {\n",
       "        vertical-align: top;\n",
       "    }\n",
       "\n",
       "    .dataframe thead th {\n",
       "        text-align: right;\n",
       "    }\n",
       "</style>\n",
       "<table border=\"1\" class=\"dataframe\">\n",
       "  <thead>\n",
       "    <tr style=\"text-align: right;\">\n",
       "      <th></th>\n",
       "      <th>enunciado_latex</th>\n",
       "      <th>enunciado</th>\n",
       "      <th>solucion</th>\n",
       "    </tr>\n",
       "  </thead>\n",
       "  <tbody>\n",
       "    <tr>\n",
       "      <th>0</th>\n",
       "      <td>\\frac{7!}{6!}</td>\n",
       "      <td>factorial(7)/factorial(6)</td>\n",
       "      <td>7</td>\n",
       "    </tr>\n",
       "    <tr>\n",
       "      <th>1</th>\n",
       "      <td>\\frac{{8!}}{{9!}}</td>\n",
       "      <td>factorial(8)/factorial(9)</td>\n",
       "      <td>\\frac{1}{9}</td>\n",
       "    </tr>\n",
       "    <tr>\n",
       "      <th>2</th>\n",
       "      <td>\\frac{{9!}}{{5!\\cdot 4!}}</td>\n",
       "      <td>factorial(9)/((factorial(4)*factorial(5)))</td>\n",
       "      <td>126</td>\n",
       "    </tr>\n",
       "    <tr>\n",
       "      <th>3</th>\n",
       "      <td>\\frac{{m!}}{{(m - 1)!}}</td>\n",
       "      <td>factorial(m)/factorial(m - 1)</td>\n",
       "      <td>m</td>\n",
       "    </tr>\n",
       "    <tr>\n",
       "      <th>4</th>\n",
       "      <td>\\frac{{( {m + 1} )!}}{{( {m - 1} )!}}</td>\n",
       "      <td>factorial(m + 1)/factorial(m - 1)</td>\n",
       "      <td>m \\left(m + 1\\right)</td>\n",
       "    </tr>\n",
       "    <tr>\n",
       "      <th>5</th>\n",
       "      <td>\\binom{252}{250}</td>\n",
       "      <td>[252, 250]</td>\n",
       "      <td>31626</td>\n",
       "    </tr>\n",
       "    <tr>\n",
       "      <th>6</th>\n",
       "      <td>\\binom{25}{3} + \\binom{25}{4}</td>\n",
       "      <td>[26, 4]</td>\n",
       "      <td>14950</td>\n",
       "    </tr>\n",
       "    <tr>\n",
       "      <th>7</th>\n",
       "      <td>\\binom{9}{6} + \\binom{9}{7} + \\binom{10}{2}</td>\n",
       "      <td>[11, 8]</td>\n",
       "      <td>165</td>\n",
       "    </tr>\n",
       "    <tr>\n",
       "      <th>8</th>\n",
       "      <td>\\binom{4}{2} + \\binom{4}{3} + \\binom{5}{4}+ \\b...</td>\n",
       "      <td>[9, 7]</td>\n",
       "      <td>36</td>\n",
       "    </tr>\n",
       "    <tr>\n",
       "      <th>9</th>\n",
       "      <td>\\binom{4}{0} + \\binom{4}{1} + \\binom{4}{2}+\\bi...</td>\n",
       "      <td>[15]</td>\n",
       "      <td>15</td>\n",
       "    </tr>\n",
       "  </tbody>\n",
       "</table>\n",
       "</div>"
      ],
      "text/plain": [
       "                                     enunciado_latex  \\\n",
       "0                                      \\frac{7!}{6!}   \n",
       "1                                  \\frac{{8!}}{{9!}}   \n",
       "2                          \\frac{{9!}}{{5!\\cdot 4!}}   \n",
       "3                            \\frac{{m!}}{{(m - 1)!}}   \n",
       "4              \\frac{{( {m + 1} )!}}{{( {m - 1} )!}}   \n",
       "5                                   \\binom{252}{250}   \n",
       "6                      \\binom{25}{3} + \\binom{25}{4}   \n",
       "7        \\binom{9}{6} + \\binom{9}{7} + \\binom{10}{2}   \n",
       "8  \\binom{4}{2} + \\binom{4}{3} + \\binom{5}{4}+ \\b...   \n",
       "9  \\binom{4}{0} + \\binom{4}{1} + \\binom{4}{2}+\\bi...   \n",
       "\n",
       "                                    enunciado              solucion  \n",
       "0                   factorial(7)/factorial(6)                     7  \n",
       "1                   factorial(8)/factorial(9)           \\frac{1}{9}  \n",
       "2  factorial(9)/((factorial(4)*factorial(5)))                   126  \n",
       "3               factorial(m)/factorial(m - 1)                     m  \n",
       "4           factorial(m + 1)/factorial(m - 1)  m \\left(m + 1\\right)  \n",
       "5                                  [252, 250]                 31626  \n",
       "6                                     [26, 4]                 14950  \n",
       "7                                     [11, 8]                   165  \n",
       "8                                      [9, 7]                    36  \n",
       "9                                        [15]                    15  "
      ]
     },
     "execution_count": 46,
     "metadata": {},
     "output_type": "execute_result"
    }
   ],
   "source": [
    "# Añadimos ejercicios\n",
    "\n",
    "datos = [enunciado_latex, enunciado, solucion]\n",
    "ejercicios = ejercicios.append(pd.DataFrame(dict(zip(encabezado, datos))), ignore_index=True)\n",
    "ejercicios"
   ]
  },
  {
   "cell_type": "markdown",
   "metadata": {},
   "source": [
    "## Ejercicio\n",
    "\n",
    "Calcula las siguientes operaciones:\n",
    "- $\\binom{252}{250}$\t\n",
    "- $\\binom{25}{3} + \\binom{25}{4} = \\binom{26}{4}$\n",
    "- $\\binom{9}{6} + \\binom{9}{7} + \\binom{10}{2}=\\binom{10}{7}+\\binom{10}{8}=\\binom{11}{8}$\n",
    "- $\\binom{4}{2} + \\binom{4}{3} + \\binom{5}{4}+\\binom{6}{5} + \\binom{7}{6} + \\binom{8}{7}=\\binom{9}{7}$\n",
    "- $\\binom{4}{0} + \\binom{4}{1} + \\binom{4}{2}+\\binom{4}{3} = 2^4-1$\n",
    "\n"
   ]
  },
  {
   "cell_type": "code",
   "execution_count": 13,
   "metadata": {},
   "outputs": [],
   "source": [
    "from sympy.functions.combinatorial.numbers import nC, nP, nT"
   ]
  },
  {
   "cell_type": "code",
   "execution_count": 37,
   "metadata": {},
   "outputs": [
    {
     "data": {
      "image/png": "[encoded data removed]",
      "text/latex": [
       "$$10$$"
      ],
      "text/plain": [
       "10"
      ]
     },
     "execution_count": 37,
     "metadata": {},
     "output_type": "execute_result"
    }
   ],
   "source": [
    "nC(5,3)"
   ]
  },
  {
   "cell_type": "code",
   "execution_count": 14,
   "metadata": {},
   "outputs": [
    {
     "data": {
      "text/markdown": [
       "$\\binom{252}{250}  \\rightarrow   31626$"
      ],
      "text/plain": [
       "<IPython.core.display.Markdown object>"
      ]
     },
     "metadata": {},
     "output_type": "display_data"
    },
    {
     "data": {
      "text/markdown": [
       "$\\binom{25}{3} + \\binom{25}{4}  \\rightarrow   14950$"
      ],
      "text/plain": [
       "<IPython.core.display.Markdown object>"
      ]
     },
     "metadata": {},
     "output_type": "display_data"
    },
    {
     "data": {
      "text/markdown": [
       "$\\binom{9}{6} + \\binom{9}{7} + \\binom{10}{2}  \\rightarrow   165$"
      ],
      "text/plain": [
       "<IPython.core.display.Markdown object>"
      ]
     },
     "metadata": {},
     "output_type": "display_data"
    },
    {
     "data": {
      "text/markdown": [
       "$\\binom{4}{2} + \\binom{4}{3} + \\binom{5}{4}+ \\binom{6}{5} + \\binom{7}{6} + \\binom{8}{7}  \\rightarrow   36$"
      ],
      "text/plain": [
       "<IPython.core.display.Markdown object>"
      ]
     },
     "metadata": {},
     "output_type": "display_data"
    },
    {
     "data": {
      "text/markdown": [
       "$\\binom{4}{0} + \\binom{4}{1} + \\binom{4}{2}+\\binom{4}{3}  \\rightarrow   15$"
      ],
      "text/plain": [
       "<IPython.core.display.Markdown object>"
      ]
     },
     "metadata": {},
     "output_type": "display_data"
    }
   ],
   "source": [
    "enunciado_latex  = [r'\\binom{252}{250}',r'\\binom{25}{3} + \\binom{25}{4}',r'\\binom{9}{6} + \\binom{9}{7} + \\binom{10}{2}',\n",
    "                    r'\\binom{4}{2} + \\binom{4}{3} + \\binom{5}{4}+ \\binom{6}{5} + \\binom{7}{6} + \\binom{8}{7}',\n",
    "                    r'\\binom{4}{0} + \\binom{4}{1} + \\binom{4}{2}+\\binom{4}{3}']\n",
    "\n",
    "enunciado = [[252,250], [26,4], [11,8],[9,7]]\n",
    "\n",
    "solucion = []\n",
    "for i in range(len(enunciado)):\n",
    "    solucion.append(latex(nC(enunciado[i][0],enunciado[i][1])))\n",
    "    display(md(\"$\"+enunciado_latex[i]+\"  \\\\rightarrow   \" +solucion[i] +\"$\"))\n",
    "enunciado.append([2**4-1])\n",
    "solucion.append(latex(2**4-1))\n",
    "display(md(\"$\"+enunciado_latex[i+1] + \"  \\\\rightarrow   \" + solucion[i+1] +\"$\"))\n"
   ]
  },
  {
   "cell_type": "code",
   "execution_count": 75,
   "metadata": {},
   "outputs": [
    {
     "data": {
      "text/markdown": [
       "$\\binom{252}{250}  \\rightarrow   31626$"
      ],
      "text/plain": [
       "<IPython.core.display.Markdown object>"
      ]
     },
     "metadata": {},
     "output_type": "display_data"
    },
    {
     "data": {
      "text/markdown": [
       "$\\binom{25}{3} + \\binom{25}{4}  \\rightarrow   14950$"
      ],
      "text/plain": [
       "<IPython.core.display.Markdown object>"
      ]
     },
     "metadata": {},
     "output_type": "display_data"
    },
    {
     "data": {
      "text/markdown": [
       "$\\binom{9}{6} + \\binom{9}{7} + \\binom{10}{2}  \\rightarrow   165$"
      ],
      "text/plain": [
       "<IPython.core.display.Markdown object>"
      ]
     },
     "metadata": {},
     "output_type": "display_data"
    },
    {
     "data": {
      "text/markdown": [
       "$\\binom{4}{2} + \\binom{4}{3} + \\binom{5}{4}+ \\binom{6}{5} + \\binom{7}{6} + \\binom{8}{7}  \\rightarrow   36$"
      ],
      "text/plain": [
       "<IPython.core.display.Markdown object>"
      ]
     },
     "metadata": {},
     "output_type": "display_data"
    },
    {
     "data": {
      "text/markdown": [
       "$\\binom{4}{0} + \\binom{4}{1} + \\binom{4}{2}+\\binom{4}{3}  \\rightarrow   15$"
      ],
      "text/plain": [
       "<IPython.core.display.Markdown object>"
      ]
     },
     "metadata": {},
     "output_type": "display_data"
    }
   ],
   "source": []
  },
  {
   "cell_type": "code",
   "execution_count": 45,
   "metadata": {},
   "outputs": [
    {
     "data": {
      "text/plain": [
       "[['\\\\binom{252}{250}',\n",
       "  '\\\\binom{25}{3} + \\\\binom{25}{4}',\n",
       "  '\\\\binom{9}{6} + \\\\binom{9}{7} + \\\\binom{10}{2}',\n",
       "  '\\\\binom{4}{2} + \\\\binom{4}{3} + \\\\binom{5}{4}+ \\\\binom{6}{5} + \\\\binom{7}{6} + \\\\binom{8}{7}',\n",
       "  '\\\\binom{4}{0} + \\\\binom{4}{1} + \\\\binom{4}{2}+\\\\binom{4}{3}'],\n",
       " [[252, 250], [26, 4], [11, 8], [9, 7], [15]],\n",
       " [31626, 14950, 165, 36, 15]]"
      ]
     },
     "execution_count": 45,
     "metadata": {},
     "output_type": "execute_result"
    }
   ],
   "source": [
    "[enunciado_latex,enunciado, solucion]"
   ]
  },
  {
   "cell_type": "code",
   "execution_count": 25,
   "metadata": {},
   "outputs": [
    {
     "data": {
      "image/png": "[encoded data removed]",
      "text/latex": [
       "$$15$$"
      ],
      "text/plain": [
       "15"
      ]
     },
     "execution_count": 25,
     "metadata": {},
     "output_type": "execute_result"
    }
   ],
   "source": [
    "2**4-1"
   ]
  },
  {
   "cell_type": "code",
   "execution_count": null,
   "metadata": {},
   "outputs": [],
   "source": []
  },
  {
   "cell_type": "code",
   "execution_count": 10,
   "metadata": {},
   "outputs": [
    {
     "data": {
      "image/png": "[encoded data removed]",
      "text/latex": [
       "$$31626$$"
      ],
      "text/plain": [
       "31626"
      ]
     },
     "execution_count": 10,
     "metadata": {},
     "output_type": "execute_result"
    }
   ],
   "source": [
    "nC(enunciado[0][0],enunciado[0][1])"
   ]
  },
  {
   "cell_type": "code",
   "execution_count": 13,
   "metadata": {},
   "outputs": [
    {
     "data": {
      "image/png": "[encoded data removed]",
      "text/latex": [
       "$$31626$$"
      ],
      "text/plain": [
       "31626"
      ]
     },
     "execution_count": 13,
     "metadata": {},
     "output_type": "execute_result"
    }
   ],
   "source": [
    "factorial(252)/(factorial(250)*factorial(2))"
   ]
  }
 ],
 "metadata": {
  "kernelspec": {
   "display_name": "Python 3",
   "language": "python",
   "name": "python3"
  },
  "language_info": {
   "codemirror_mode": {
    "name": "ipython",
    "version": 3
   },
   "file_extension": ".py",
   "mimetype": "text/x-python",
   "name": "python",
   "nbconvert_exporter": "python",
   "pygments_lexer": "ipython3",
   "version": "3.6.5"
  }
 },
 "nbformat": 4,
 "nbformat_minor": 2
}
