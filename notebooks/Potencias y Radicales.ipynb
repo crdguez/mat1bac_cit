{
 "cells": [
  {
   "cell_type": "markdown",
   "metadata": {},
   "source": [
    "<a href=\"https://colab.research.google.com/github/crdguez/mat1bac_cit/blob/master/notebooks/Ejercicios1_3.ipynb\"><img align=\"left\" src=\"https://colab.research.google.com/assets/colab-badge.svg\" alt=\"Open in Colab\" title=\"Open and Execute in Google Colaboratory\"></a>"
   ]
  },
  {
   "cell_type": "code",
   "execution_count": 1,
   "metadata": {},
   "outputs": [
    {
     "name": "stdout",
     "output_type": "stream",
     "text": [
      "IPython console for SymPy 1.2 (Python 3.6.5-64-bit) (ground types: gmpy)\n",
      "\n",
      "These commands were executed:\n",
      ">>> from __future__ import division\n",
      ">>> from sympy import *\n",
      ">>> x, y, z, t = symbols('x y z t')\n",
      ">>> k, m, n = symbols('k m n', integer=True)\n",
      ">>> f, g, h = symbols('f g h', cls=Function)\n",
      ">>> init_printing()\n",
      "\n",
      "Documentation can be found at http://docs.sympy.org/1.2/\n",
      "\n"
     ]
    }
   ],
   "source": [
    "from sympy import init_session\n",
    "from sympy.parsing.latex import parse_latex\n",
    "from sympy.parsing.sympy_parser import parse_expr\n",
    "#from sympy.functions.combinatorial.numbers import nC, nP, nT\n",
    "from IPython.display import Markdown as md\n",
    "from IPython.display import display\n",
    "import pandas as pd\n",
    "# ejercicios = pd.DataFrame(columns=['texto','enunciado_latex','enunciado','solucion','hoja','nivel'])\n",
    "\n",
    "init_session()\n",
    "\n",
    "a, b, c, d = symbols('a b c d', real = True)\n",
    "from docparts import añadir_ejercicios, doc_ejer\n",
    "df_ejercicios = pd.DataFrame()\n",
    "\n",
    "fichero = 'radicales.tex'\n",
    "titulo = 'Potencias y radicales'\n"
   ]
  },
  {
   "cell_type": "code",
   "execution_count": 6,
   "metadata": {},
   "outputs": [
    {
     "data": {
      "text/html": [
       "<div>\n",
       "<style scoped>\n",
       "    .dataframe tbody tr th:only-of-type {\n",
       "        vertical-align: middle;\n",
       "    }\n",
       "\n",
       "    .dataframe tbody tr th {\n",
       "        vertical-align: top;\n",
       "    }\n",
       "\n",
       "    .dataframe thead th {\n",
       "        text-align: right;\n",
       "    }\n",
       "</style>\n",
       "<table border=\"1\" class=\"dataframe\">\n",
       "  <thead>\n",
       "    <tr style=\"text-align: right;\">\n",
       "      <th></th>\n",
       "    </tr>\n",
       "  </thead>\n",
       "  <tbody>\n",
       "  </tbody>\n",
       "</table>\n",
       "</div>"
      ],
      "text/plain": [
       "Empty DataFrame\n",
       "Columns: []\n",
       "Index: []"
      ]
     },
     "execution_count": 6,
     "metadata": {},
     "output_type": "execute_result"
    }
   ],
   "source": [
    "df_ejercicios"
   ]
  },
  {
   "cell_type": "code",
   "execution_count": 3,
   "metadata": {},
   "outputs": [],
   "source": [
    "def escribir_preambulo(fichero = 'prueba3.tex', titulo = 'Ejercicios') :\n",
    "    f = open(fichero,'w')\n",
    "    f.write(doc_ejer(titulo)[0])\n",
    "    f.write(doc_ejer(titulo)[1])\n",
    "\n",
    "    f.close()"
   ]
  },
  {
   "cell_type": "code",
   "execution_count": 4,
   "metadata": {},
   "outputs": [],
   "source": [
    "def escribir_ejercicios(df_ejercicios, fichero = 'prueba3.tex') :\n",
    "    f = open(fichero,'a')\n",
    "    f.write(r\"\"\"\n",
    "        \\question Calcula: \n",
    "        \\begin{multicols}{3} \n",
    "        \\begin{parts}\"\"\")\n",
    "    \n",
    "    for s in df_ejercicios.index :\n",
    "        f.write(r' \\part[]  $ %s $ '  % df_ejercicios.loc[s].enunciado_latex)\n",
    "        f.write(r' \\begin{solution}  $ %s $  \\end{solution}'  % df_ejercicios.loc[s].solucion)\n",
    "\n",
    "    f.write(r\"\"\"\n",
    "        \\end{parts}\n",
    "        \\end{multicols}\n",
    "        \"\"\")\n",
    "    \n",
    "    f.close()"
   ]
  },
  {
   "cell_type": "code",
   "execution_count": 5,
   "metadata": {},
   "outputs": [],
   "source": [
    "def escribir_fin(fichero = 'prueba3.tex') :\n",
    "    f = open(fichero,'a')\n",
    "\n",
    "    f.write(doc_ejer()[2])\n",
    "    f.close()"
   ]
  },
  {
   "cell_type": "code",
   "execution_count": 6,
   "metadata": {},
   "outputs": [],
   "source": [
    "escribir_preambulo(fichero, titulo)"
   ]
  },
  {
   "cell_type": "code",
   "execution_count": 6,
   "metadata": {},
   "outputs": [
    {
     "data": {
      "text/markdown": [
       "**Calcula:**"
      ],
      "text/plain": [
       "<IPython.core.display.Markdown object>"
      ]
     },
     "metadata": {},
     "output_type": "display_data"
    },
    {
     "data": {
      "text/markdown": [
       "$\\frac{{{3^{ - 2}} \\cdot {3^5} \\cdot {2^3}}}{{{{( {3 \\cdot 2} )}^4}}} \\rightarrow\\frac{1}{6}$"
      ],
      "text/plain": [
       "<IPython.core.display.Markdown object>"
      ]
     },
     "metadata": {},
     "output_type": "display_data"
    },
    {
     "data": {
      "text/markdown": [
       "${3^{ - 5}} \\cdot {( {\\frac{1}{3}} )^{ - 2}} \\cdot 81 \\rightarrow3$"
      ],
      "text/plain": [
       "<IPython.core.display.Markdown object>"
      ]
     },
     "metadata": {},
     "output_type": "display_data"
    },
    {
     "data": {
      "text/markdown": [
       "${( {\\frac{5}{4}} )^5} \\cdot \\frac{{{2^6}}}{{{5^2}}} \\rightarrow\\frac{125}{16}$"
      ],
      "text/plain": [
       "<IPython.core.display.Markdown object>"
      ]
     },
     "metadata": {},
     "output_type": "display_data"
    },
    {
     "data": {
      "text/markdown": [
       "$\\frac{{{2^{ - 2}} \\cdot {{( {{2^2}} )}^3}}}{{{2^{ - 3}}}} \\rightarrow128$"
      ],
      "text/plain": [
       "<IPython.core.display.Markdown object>"
      ]
     },
     "metadata": {},
     "output_type": "display_data"
    },
    {
     "data": {
      "text/markdown": [
       "$\\frac{{{5^{ - 3}} \\cdot {5^{ - 1}} \\cdot {5^2}}}{{{5^0} + {5^6}}} \\rightarrow\\frac{1}{390650}$"
      ],
      "text/plain": [
       "<IPython.core.display.Markdown object>"
      ]
     },
     "metadata": {},
     "output_type": "display_data"
    },
    {
     "data": {
      "text/markdown": [
       "${( {\\frac{2}{3}} )^{ - 2}} \\cdot {( {\\frac{3}{2}} )^4} \\rightarrow\\frac{729}{64}$"
      ],
      "text/plain": [
       "<IPython.core.display.Markdown object>"
      ]
     },
     "metadata": {},
     "output_type": "display_data"
    },
    {
     "data": {
      "text/markdown": [
       "$\\frac{{\\sqrt {2}  \\cdot {{( {\\sqrt {2} } )}^3} \\cdot {{( {\\sqrt {5} } )}^3}}}{{{{( {5\\sqrt{2} } )}^2}}} \\rightarrow\\frac{2 \\sqrt{5}}{5}$"
      ],
      "text/plain": [
       "<IPython.core.display.Markdown object>"
      ]
     },
     "metadata": {},
     "output_type": "display_data"
    },
    {
     "data": {
      "text/markdown": [
       "$\\frac{{{9^{\\frac{1}{2}}} \\cdot {3^{ - 1}} \\cdot {2^{\\frac{3}{2}}}}}{{\\sqrt {2} }} \\rightarrow2$"
      ],
      "text/plain": [
       "<IPython.core.display.Markdown object>"
      ]
     },
     "metadata": {},
     "output_type": "display_data"
    }
   ],
   "source": [
    "# Página 4 ejercicios 1 y 2\n",
    "\n",
    "texto_ejercicio = 'Calcula:'\n",
    "\n",
    "display(md(\"**\"+texto_ejercicio+\"**\"))\n",
    "\n",
    "texto_ejercicio = 'Calcula :'\n",
    "enunciado_latex = [r'\\frac{{{3^{ - 2}} \\cdot {3^5} \\cdot {2^3}}}{{{{( {3 \\cdot 2} )}^4}}}',\n",
    "                  r'{3^{ - 5}} \\cdot {( {\\frac{1}{3}} )^{ - 2}} \\cdot 81',\n",
    "                  r'{( {\\frac{5}{4}} )^5} \\cdot \\frac{{{2^6}}}{{{5^2}}}',\n",
    "                  r'\\frac{{{2^{ - 2}} \\cdot {{( {{2^2}} )}^3}}}{{{2^{ - 3}}}}',\n",
    "                  r'\\frac{{{5^{ - 3}} \\cdot {5^{ - 1}} \\cdot {5^2}}}{{{5^0} + {5^6}}}',\n",
    "                  r'{( {\\frac{2}{3}} )^{ - 2}} \\cdot {( {\\frac{3}{2}} )^4}',\n",
    "                  r'\\frac{{\\sqrt {2}  \\cdot {{( {\\sqrt {2} } )}^3} \\cdot {{( {\\sqrt {5} } )}^3}}}{{{{( {5\\sqrt{2} } )}^2}}}',\n",
    "                  r'\\frac{{{9^{\\frac{1}{2}}} \\cdot {3^{ - 1}} \\cdot {2^{\\frac{3}{2}}}}}{{\\sqrt {2} }}'\n",
    "                  ]\n",
    "enunciado, solucion = [], []\n",
    "for s in enunciado_latex :\n",
    "    display(md(\"$\"+ s +\" \\\\rightarrow\" + latex(simplify(parse_latex(s)))+\"$\"))\n",
    "    enunciado.append(parse_latex(s))\n",
    "    solucion.append(latex(simplify(parse_latex(s)))) \n",
    "\n",
    "df_ejercicios = df_ejercicios.append(añadir_ejercicios(enunciado_latex, enunciado, solucion, texto_ejercicio), ignore_index=True)\n",
    "escribir_ejercicios(df_ejercicios, fichero)"
   ]
  },
  {
   "cell_type": "code",
   "execution_count": 8,
   "metadata": {},
   "outputs": [],
   "source": [
    "escribir_fin(fichero)"
   ]
  },
  {
   "cell_type": "code",
   "execution_count": 12,
   "metadata": {},
   "outputs": [
    {
     "data": {
      "text/html": [
       "<div>\n",
       "<style scoped>\n",
       "    .dataframe tbody tr th:only-of-type {\n",
       "        vertical-align: middle;\n",
       "    }\n",
       "\n",
       "    .dataframe tbody tr th {\n",
       "        vertical-align: top;\n",
       "    }\n",
       "\n",
       "    .dataframe thead th {\n",
       "        text-align: right;\n",
       "    }\n",
       "</style>\n",
       "<table border=\"1\" class=\"dataframe\">\n",
       "  <thead>\n",
       "    <tr style=\"text-align: right;\">\n",
       "      <th></th>\n",
       "      <th>enunciado_latex</th>\n",
       "      <th>enunciado</th>\n",
       "      <th>solucion</th>\n",
       "      <th>n_ejercicio</th>\n",
       "    </tr>\n",
       "  </thead>\n",
       "  <tbody>\n",
       "    <tr>\n",
       "      <th>0</th>\n",
       "      <td>\\frac{{{3^{ - 2}} \\cdot {3^5} \\cdot {2^3}}}{{{...</td>\n",
       "      <td>(2**3*(3**5*3**(-2)))/(2*3)**4</td>\n",
       "      <td>1/6</td>\n",
       "      <td>p4e1-2</td>\n",
       "    </tr>\n",
       "    <tr>\n",
       "      <th>1</th>\n",
       "      <td>{3^{ - 5}} \\cdot {( {\\frac{1}{3}} )^{ - 2}} \\c...</td>\n",
       "      <td>81*(3**(-5)*(1/3)**(-2))</td>\n",
       "      <td>3</td>\n",
       "      <td>p4e1-2</td>\n",
       "    </tr>\n",
       "    <tr>\n",
       "      <th>2</th>\n",
       "      <td>{( {\\frac{5}{4}} )^5} \\cdot \\frac{{{2^6}}}{{{5...</td>\n",
       "      <td>(5/4)**5*(2**6/5**2)</td>\n",
       "      <td>125/16</td>\n",
       "      <td>p4e1-2</td>\n",
       "    </tr>\n",
       "    <tr>\n",
       "      <th>3</th>\n",
       "      <td>\\frac{{{2^{ - 2}} \\cdot {{( {{2^2}} )}^3}}}{{{...</td>\n",
       "      <td>(2**(-2)*(2**2)**3)/2**(-3)</td>\n",
       "      <td>128</td>\n",
       "      <td>p4e1-2</td>\n",
       "    </tr>\n",
       "    <tr>\n",
       "      <th>4</th>\n",
       "      <td>\\frac{{{5^{ - 3}} \\cdot {5^{ - 1}} \\cdot {5^2}...</td>\n",
       "      <td>(5**2*(5**(-3)/5))/(5**0 + 5**6)</td>\n",
       "      <td>1/390650</td>\n",
       "      <td>p4e1-2</td>\n",
       "    </tr>\n",
       "    <tr>\n",
       "      <th>5</th>\n",
       "      <td>{( {\\frac{2}{3}} )^{ - 2}} \\cdot {( {\\frac{3}{...</td>\n",
       "      <td>(2/3)**(-2)*(3/2)**4</td>\n",
       "      <td>729/64</td>\n",
       "      <td>p4e1-2</td>\n",
       "    </tr>\n",
       "    <tr>\n",
       "      <th>6</th>\n",
       "      <td>\\frac{{\\sqrt {2}  \\cdot {{( {\\sqrt {2} } )}^3}...</td>\n",
       "      <td>((sqrt(2)*(sqrt(2))**3)*(sqrt(5))**3)/(5*sqrt(...</td>\n",
       "      <td>2*sqrt(5)/5</td>\n",
       "      <td>p4e1-2</td>\n",
       "    </tr>\n",
       "    <tr>\n",
       "      <th>7</th>\n",
       "      <td>\\frac{{{9^{\\frac{1}{2}}} \\cdot {3^{ - 1}} \\cdo...</td>\n",
       "      <td>(2**(3/2)*(9**(1/2)/3))/sqrt(2)</td>\n",
       "      <td>2</td>\n",
       "      <td>p4e1-2</td>\n",
       "    </tr>\n",
       "    <tr>\n",
       "      <th>8</th>\n",
       "      <td>\\frac{{{3^{ - 2}} \\cdot {3^5} \\cdot {2^3}}}{{{...</td>\n",
       "      <td>(2**3*(3**5*3**(-2)))/(2*3)**4</td>\n",
       "      <td>1/6</td>\n",
       "      <td>p4e1-2</td>\n",
       "    </tr>\n",
       "    <tr>\n",
       "      <th>9</th>\n",
       "      <td>{3^{ - 5}} \\cdot {( {\\frac{1}{3}} )^{ - 2}} \\c...</td>\n",
       "      <td>81*(3**(-5)*(1/3)**(-2))</td>\n",
       "      <td>3</td>\n",
       "      <td>p4e1-2</td>\n",
       "    </tr>\n",
       "    <tr>\n",
       "      <th>10</th>\n",
       "      <td>{( {\\frac{5}{4}} )^5} \\cdot \\frac{{{2^6}}}{{{5...</td>\n",
       "      <td>(5/4)**5*(2**6/5**2)</td>\n",
       "      <td>125/16</td>\n",
       "      <td>p4e1-2</td>\n",
       "    </tr>\n",
       "    <tr>\n",
       "      <th>11</th>\n",
       "      <td>\\frac{{{2^{ - 2}} \\cdot {{( {{2^2}} )}^3}}}{{{...</td>\n",
       "      <td>(2**(-2)*(2**2)**3)/2**(-3)</td>\n",
       "      <td>128</td>\n",
       "      <td>p4e1-2</td>\n",
       "    </tr>\n",
       "    <tr>\n",
       "      <th>12</th>\n",
       "      <td>\\frac{{{5^{ - 3}} \\cdot {5^{ - 1}} \\cdot {5^2}...</td>\n",
       "      <td>(5**2*(5**(-3)/5))/(5**0 + 5**6)</td>\n",
       "      <td>1/390650</td>\n",
       "      <td>p4e1-2</td>\n",
       "    </tr>\n",
       "    <tr>\n",
       "      <th>13</th>\n",
       "      <td>{( {\\frac{2}{3}} )^{ - 2}} \\cdot {( {\\frac{3}{...</td>\n",
       "      <td>(2/3)**(-2)*(3/2)**4</td>\n",
       "      <td>729/64</td>\n",
       "      <td>p4e1-2</td>\n",
       "    </tr>\n",
       "    <tr>\n",
       "      <th>14</th>\n",
       "      <td>\\frac{{\\sqrt {2}  \\cdot {{( {\\sqrt {2} } )}^3}...</td>\n",
       "      <td>((sqrt(2)*(sqrt(2))**3)*(sqrt(5))**3)/(5*sqrt(...</td>\n",
       "      <td>2*sqrt(5)/5</td>\n",
       "      <td>p4e1-2</td>\n",
       "    </tr>\n",
       "    <tr>\n",
       "      <th>15</th>\n",
       "      <td>\\frac{{{9^{\\frac{1}{2}}} \\cdot {3^{ - 1}} \\cdo...</td>\n",
       "      <td>(2**(3/2)*(9**(1/2)/3))/sqrt(2)</td>\n",
       "      <td>2</td>\n",
       "      <td>p4e1-2</td>\n",
       "    </tr>\n",
       "  </tbody>\n",
       "</table>\n",
       "</div>"
      ],
      "text/plain": [
       "                                      enunciado_latex  \\\n",
       "0   \\frac{{{3^{ - 2}} \\cdot {3^5} \\cdot {2^3}}}{{{...   \n",
       "1   {3^{ - 5}} \\cdot {( {\\frac{1}{3}} )^{ - 2}} \\c...   \n",
       "2   {( {\\frac{5}{4}} )^5} \\cdot \\frac{{{2^6}}}{{{5...   \n",
       "3   \\frac{{{2^{ - 2}} \\cdot {{( {{2^2}} )}^3}}}{{{...   \n",
       "4   \\frac{{{5^{ - 3}} \\cdot {5^{ - 1}} \\cdot {5^2}...   \n",
       "5   {( {\\frac{2}{3}} )^{ - 2}} \\cdot {( {\\frac{3}{...   \n",
       "6   \\frac{{\\sqrt {2}  \\cdot {{( {\\sqrt {2} } )}^3}...   \n",
       "7   \\frac{{{9^{\\frac{1}{2}}} \\cdot {3^{ - 1}} \\cdo...   \n",
       "8   \\frac{{{3^{ - 2}} \\cdot {3^5} \\cdot {2^3}}}{{{...   \n",
       "9   {3^{ - 5}} \\cdot {( {\\frac{1}{3}} )^{ - 2}} \\c...   \n",
       "10  {( {\\frac{5}{4}} )^5} \\cdot \\frac{{{2^6}}}{{{5...   \n",
       "11  \\frac{{{2^{ - 2}} \\cdot {{( {{2^2}} )}^3}}}{{{...   \n",
       "12  \\frac{{{5^{ - 3}} \\cdot {5^{ - 1}} \\cdot {5^2}...   \n",
       "13  {( {\\frac{2}{3}} )^{ - 2}} \\cdot {( {\\frac{3}{...   \n",
       "14  \\frac{{\\sqrt {2}  \\cdot {{( {\\sqrt {2} } )}^3}...   \n",
       "15  \\frac{{{9^{\\frac{1}{2}}} \\cdot {3^{ - 1}} \\cdo...   \n",
       "\n",
       "                                            enunciado     solucion n_ejercicio  \n",
       "0                      (2**3*(3**5*3**(-2)))/(2*3)**4          1/6      p4e1-2  \n",
       "1                            81*(3**(-5)*(1/3)**(-2))            3      p4e1-2  \n",
       "2                                (5/4)**5*(2**6/5**2)       125/16      p4e1-2  \n",
       "3                         (2**(-2)*(2**2)**3)/2**(-3)          128      p4e1-2  \n",
       "4                    (5**2*(5**(-3)/5))/(5**0 + 5**6)     1/390650      p4e1-2  \n",
       "5                                (2/3)**(-2)*(3/2)**4       729/64      p4e1-2  \n",
       "6   ((sqrt(2)*(sqrt(2))**3)*(sqrt(5))**3)/(5*sqrt(...  2*sqrt(5)/5      p4e1-2  \n",
       "7                     (2**(3/2)*(9**(1/2)/3))/sqrt(2)            2      p4e1-2  \n",
       "8                      (2**3*(3**5*3**(-2)))/(2*3)**4          1/6      p4e1-2  \n",
       "9                            81*(3**(-5)*(1/3)**(-2))            3      p4e1-2  \n",
       "10                               (5/4)**5*(2**6/5**2)       125/16      p4e1-2  \n",
       "11                        (2**(-2)*(2**2)**3)/2**(-3)          128      p4e1-2  \n",
       "12                   (5**2*(5**(-3)/5))/(5**0 + 5**6)     1/390650      p4e1-2  \n",
       "13                               (2/3)**(-2)*(3/2)**4       729/64      p4e1-2  \n",
       "14  ((sqrt(2)*(sqrt(2))**3)*(sqrt(5))**3)/(5*sqrt(...  2*sqrt(5)/5      p4e1-2  \n",
       "15                    (2**(3/2)*(9**(1/2)/3))/sqrt(2)            2      p4e1-2  "
      ]
     },
     "execution_count": 12,
     "metadata": {},
     "output_type": "execute_result"
    }
   ],
   "source": [
    "df2 = df_ejercicios.append(añadir_ejercicios(enunciado_latex, enunciado, solucion), ignore_index=True)\n",
    "df2['n_ejercicio']='p4e1-2'\n",
    "df2"
   ]
  },
  {
   "cell_type": "code",
   "execution_count": 7,
   "metadata": {},
   "outputs": [
    {
     "data": {
      "text/markdown": [
       "**Calcula los siguientes radicales:**"
      ],
      "text/plain": [
       "<IPython.core.display.Markdown object>"
      ]
     },
     "metadata": {},
     "output_type": "display_data"
    },
    {
     "data": {
      "text/markdown": [
       "$\\sqrt {16} \\rightarrow4$"
      ],
      "text/plain": [
       "<IPython.core.display.Markdown object>"
      ]
     },
     "metadata": {},
     "output_type": "display_data"
    },
    {
     "data": {
      "text/markdown": [
       "$\\sqrt[4]{ - 16} \\rightarrow2 \\sqrt[4]{-1}$"
      ],
      "text/plain": [
       "<IPython.core.display.Markdown object>"
      ]
     },
     "metadata": {},
     "output_type": "display_data"
    },
    {
     "data": {
      "text/markdown": [
       "$\\sqrt[3]{27} \\rightarrow3$"
      ],
      "text/plain": [
       "<IPython.core.display.Markdown object>"
      ]
     },
     "metadata": {},
     "output_type": "display_data"
    },
    {
     "data": {
      "text/markdown": [
       "$\\sqrt[5]{-1} \\rightarrow\\sqrt[5]{-1}$"
      ],
      "text/plain": [
       "<IPython.core.display.Markdown object>"
      ]
     },
     "metadata": {},
     "output_type": "display_data"
    },
    {
     "data": {
      "text/markdown": [
       "$\\sqrt {1225} \\rightarrow35$"
      ],
      "text/plain": [
       "<IPython.core.display.Markdown object>"
      ]
     },
     "metadata": {},
     "output_type": "display_data"
    },
    {
     "data": {
      "text/markdown": [
       "$\\sqrt[7]{1} \\rightarrow1$"
      ],
      "text/plain": [
       "<IPython.core.display.Markdown object>"
      ]
     },
     "metadata": {},
     "output_type": "display_data"
    }
   ],
   "source": [
    "# Página 6 ejercicios 13\n",
    "\n",
    "texto_ejercicio = 'Calcula los siguientes radicales:'\n",
    "\n",
    "display(md(\"**\"+texto_ejercicio+\"**\"))\n",
    "\n",
    "enunciado_latex = [r'\\sqrt {16}',\n",
    "                  r'\\sqrt[4]{ - 16}',\n",
    "                  r'\\sqrt[3]{27}',\n",
    "                  r'\\sqrt[5]{-1}',\n",
    "                  r'\\sqrt {1225}',\n",
    "                  r'\\sqrt[7]{1}']\n",
    "enunciado, solucion = [], []\n",
    "for s in enunciado_latex :\n",
    "    display(md(\"$\"+ s +\" \\\\rightarrow\" + latex(simplify(parse_latex(s)))+\"$\"))\n",
    "    enunciado.append(parse_latex(s))\n",
    "    solucion.append(latex(simplify(parse_latex(s)))) \n",
    "    \n",
    "df_ejercicios = df_ejercicios.append(añadir_ejercicios(enunciado_latex, enunciado, solucion, texto_ejercicio), ignore_index=True)\n",
    "escribir_ejercicios(df_ejercicios, fichero)\n",
    "    "
   ]
  },
  {
   "cell_type": "code",
   "execution_count": 8,
   "metadata": {},
   "outputs": [
    {
     "data": {
      "text/markdown": [
       "**Resuelve las siguientes ecuaciones:**"
      ],
      "text/plain": [
       "<IPython.core.display.Markdown object>"
      ]
     },
     "metadata": {},
     "output_type": "display_data"
    },
    {
     "data": {
      "text/markdown": [
       "$x^4 = 81 \\rightarrow\\left\\{-3, 3\\right\\}$"
      ],
      "text/plain": [
       "<IPython.core.display.Markdown object>"
      ]
     },
     "metadata": {},
     "output_type": "display_data"
    },
    {
     "data": {
      "text/markdown": [
       "$x^3 = 125 \\rightarrow\\left\\{5\\right\\}$"
      ],
      "text/plain": [
       "<IPython.core.display.Markdown object>"
      ]
     },
     "metadata": {},
     "output_type": "display_data"
    },
    {
     "data": {
      "text/markdown": [
       "$x^2 = -6 \\rightarrow\\emptyset$"
      ],
      "text/plain": [
       "<IPython.core.display.Markdown object>"
      ]
     },
     "metadata": {},
     "output_type": "display_data"
    },
    {
     "data": {
      "text/markdown": [
       "$x^5 = -1 \\rightarrow\\left\\{-1\\right\\}$"
      ],
      "text/plain": [
       "<IPython.core.display.Markdown object>"
      ]
     },
     "metadata": {},
     "output_type": "display_data"
    }
   ],
   "source": [
    "# Página 6 ejercicios 14\n",
    "\n",
    "texto_ejercicio = 'Resuelve las siguientes ecuaciones:'\n",
    "\n",
    "display(md(\"**\"+texto_ejercicio+\"**\"))\n",
    "\n",
    "enunciado_latex = [r'x^4 = 81',\n",
    "                   r'x^3 = 125',\n",
    "                   r'x^2 = -6',\n",
    "                   r'x^5 = -1'\n",
    "                  ]\n",
    "enunciado, solucion = [], []\n",
    "x = Symbol('x')\n",
    "\n",
    "for s in enunciado_latex :\n",
    "    display(md(\"$\"+ s +\" \\\\rightarrow\" + latex(solveset(parse_latex(s), domain=S.Reals))+\"$\"))\n",
    "    enunciado.append(parse_latex(s))\n",
    "    solucion.append(simplify(parse_latex(s))) \n",
    "    "
   ]
  },
  {
   "cell_type": "code",
   "execution_count": 9,
   "metadata": {},
   "outputs": [
    {
     "data": {
      "text/markdown": [
       "**Calcula y expresa el resultado de la forma más simple:**"
      ],
      "text/plain": [
       "<IPython.core.display.Markdown object>"
      ]
     },
     "metadata": {},
     "output_type": "display_data"
    },
    {
     "data": {
      "text/markdown": [
       "$\\sqrt {27}  \\cdot \\sqrt {243}  \\cdot \\sqrt {81} \\rightarrow729$"
      ],
      "text/plain": [
       "<IPython.core.display.Markdown object>"
      ]
     },
     "metadata": {},
     "output_type": "display_data"
    },
    {
     "data": {
      "text/markdown": [
       "$\\frac{{\\sqrt[3] {625} }}{{\\sqrt[3] {5}  }} \\rightarrow5$"
      ],
      "text/plain": [
       "<IPython.core.display.Markdown object>"
      ]
     },
     "metadata": {},
     "output_type": "display_data"
    },
    {
     "data": {
      "text/markdown": [
       "$({\\sqrt[3]{5}})^7 \\rightarrow25 \\sqrt[3]{5}$"
      ],
      "text/plain": [
       "<IPython.core.display.Markdown object>"
      ]
     },
     "metadata": {},
     "output_type": "display_data"
    },
    {
     "data": {
      "text/markdown": [
       "$\\sqrt[3]{\\sqrt{8}} \\rightarrow\\sqrt{2}$"
      ],
      "text/plain": [
       "<IPython.core.display.Markdown object>"
      ]
     },
     "metadata": {},
     "output_type": "display_data"
    }
   ],
   "source": [
    "# Página 6 ejercicios 15\n",
    "\n",
    "texto_ejercicio = 'Calcula y expresa el resultado de la forma más simple:'\n",
    "\n",
    "display(md(\"**\"+texto_ejercicio+\"**\"))\n",
    "\n",
    "enunciado_latex = [r'\\sqrt {27}  \\cdot \\sqrt {243}  \\cdot \\sqrt {81}',\n",
    "                  r'\\frac{{\\sqrt[3] {625} }}{{\\sqrt[3] {5}  }}',\n",
    "                  r'({\\sqrt[3]{5}})^7',\n",
    "                  r'\\sqrt[3]{\\sqrt{8}}']\n",
    "enunciado, solucion = [], []\n",
    "for s in enunciado_latex :\n",
    "    display(md(\"$\"+ s +\" \\\\rightarrow\" + latex(simplify(parse_latex(s)))+\"$\"))\n",
    "    enunciado.append(parse_latex(s))\n",
    "    solucion.append(simplify(parse_latex(s))) \n",
    "    "
   ]
  },
  {
   "cell_type": "code",
   "execution_count": 10,
   "metadata": {},
   "outputs": [
    {
     "data": {
      "text/markdown": [
       "**Extrae factores fuera del signo radical en:**"
      ],
      "text/plain": [
       "<IPython.core.display.Markdown object>"
      ]
     },
     "metadata": {},
     "output_type": "display_data"
    },
    {
     "data": {
      "text/markdown": [
       "$\\sqrt {512} \\rightarrow 16 \\sqrt{2}$"
      ],
      "text/plain": [
       "<IPython.core.display.Markdown object>"
      ]
     },
     "metadata": {},
     "output_type": "display_data"
    },
    {
     "data": {
      "text/markdown": [
       "$\\sqrt[3]{11664} \\rightarrow 18 \\sqrt[3]{2}$"
      ],
      "text/plain": [
       "<IPython.core.display.Markdown object>"
      ]
     },
     "metadata": {},
     "output_type": "display_data"
    },
    {
     "data": {
      "text/markdown": [
       "$\\sqrt[4]{48} \\rightarrow 2 \\sqrt[4]{3}$"
      ],
      "text/plain": [
       "<IPython.core.display.Markdown object>"
      ]
     },
     "metadata": {},
     "output_type": "display_data"
    },
    {
     "data": {
      "text/markdown": [
       "$\\sqrt{a^5\\cdot b^3} \\rightarrow \\sqrt{a^{5} b^{3}}$"
      ],
      "text/plain": [
       "<IPython.core.display.Markdown object>"
      ]
     },
     "metadata": {},
     "output_type": "display_data"
    }
   ],
   "source": [
    "# Página 6 ejercicios 16\n",
    "\n",
    "\n",
    "texto_ejercicio = 'Extrae factores fuera del signo radical en:'\n",
    "\n",
    "display(md(\"**\"+texto_ejercicio+\"**\"))\n",
    "\n",
    "enunciado_latex = [r'\\sqrt {512}',\n",
    "                  r'\\sqrt[3]{11664}',\n",
    "                  r'\\sqrt[4]{48}',\n",
    "                  r'\\sqrt{a^5\\cdot b^3}'\n",
    "                  ]\n",
    "enunciado, solucion = [], []\n",
    "for s in enunciado_latex :\n",
    "    display(md(\"$\"+ s +\" \\\\rightarrow \" + latex(simplify(parse_latex(s)))+\"$\"))\n",
    "    enunciado.append(parse_latex(s))\n",
    "    solucion.append(simplify(parse_latex(s))) \n",
    "    "
   ]
  },
  {
   "cell_type": "code",
   "execution_count": 11,
   "metadata": {},
   "outputs": [
    {
     "data": {
      "text/markdown": [
       "**Calcula y expresa el resultado como potencia de exponente racional:**"
      ],
      "text/plain": [
       "<IPython.core.display.Markdown object>"
      ]
     },
     "metadata": {},
     "output_type": "display_data"
    },
    {
     "data": {
      "text/markdown": [
       "$\\sqrt{a}  \\cdot \\sqrt[5]{a} \\cdot \\sqrt[6]{a} \\rightarrow a^{\\frac{13}{15}}$"
      ],
      "text/plain": [
       "<IPython.core.display.Markdown object>"
      ]
     },
     "metadata": {},
     "output_type": "display_data"
    },
    {
     "data": {
      "text/markdown": [
       "$\\sqrt[3]{\\sqrt{a} } \\rightarrow \\sqrt[6]{a}$"
      ],
      "text/plain": [
       "<IPython.core.display.Markdown object>"
      ]
     },
     "metadata": {},
     "output_type": "display_data"
    },
    {
     "data": {
      "text/markdown": [
       "$\\frac{{\\sqrt[3]{a} 3}}{{\\sqrt{a}}} \\rightarrow \\frac{3}{\\sqrt[6]{a}}$"
      ],
      "text/plain": [
       "<IPython.core.display.Markdown object>"
      ]
     },
     "metadata": {},
     "output_type": "display_data"
    },
    {
     "data": {
      "text/markdown": [
       "$\\sqrt {\\sqrt {\\sqrt {2} } } \\rightarrow \\sqrt[8]{2}$"
      ],
      "text/plain": [
       "<IPython.core.display.Markdown object>"
      ]
     },
     "metadata": {},
     "output_type": "display_data"
    },
    {
     "data": {
      "text/markdown": [
       "$\\sqrt {a\\sqrt[3]{a} } \\rightarrow \\sqrt{a^{\\frac{4}{3}}}$"
      ],
      "text/plain": [
       "<IPython.core.display.Markdown object>"
      ]
     },
     "metadata": {},
     "output_type": "display_data"
    },
    {
     "data": {
      "text/markdown": [
       "$\\frac{{\\sqrt[5]{a}  \\cdot \\sqrt {a} }}{{{a^{\\frac{1}{3}}}}} \\rightarrow a^{\\frac{11}{30}}$"
      ],
      "text/plain": [
       "<IPython.core.display.Markdown object>"
      ]
     },
     "metadata": {},
     "output_type": "display_data"
    }
   ],
   "source": [
    "# Página 6 ejercicios 17\n",
    "\n",
    "\n",
    "texto_ejercicio = 'Calcula y expresa el resultado como potencia de exponente racional:'\n",
    "\n",
    "display(md(\"**\"+texto_ejercicio+\"**\"))\n",
    "\n",
    "enunciado_latex = [r'\\sqrt{a}  \\cdot \\sqrt[5]{a} \\cdot \\sqrt[6]{a}' ,\n",
    "                   r'\\sqrt[3]{\\sqrt{a} }',\n",
    "                   r'\\frac{{\\sqrt[3]{a} 3}}{{\\sqrt{a}}}',\n",
    "                   r'\\sqrt {\\sqrt {\\sqrt {2} } }',\n",
    "                   r'\\sqrt {a\\sqrt[3]{a} }',\n",
    "                   r'\\frac{{\\sqrt[5]{a}  \\cdot \\sqrt {a} }}{{{a^{\\frac{1}{3}}}}}'\n",
    "                  ]\n",
    "enunciado, solucion = [], []\n",
    "for s in enunciado_latex :\n",
    "    display(md(\"$\"+ s +\" \\\\rightarrow \" + latex(simplify(parse_latex(s)))+\"$\"))\n",
    "    enunciado.append(parse_latex(s))\n",
    "    solucion.append(simplify(parse_latex(s))) \n",
    "    "
   ]
  },
  {
   "cell_type": "code",
   "execution_count": 40,
   "metadata": {},
   "outputs": [
    {
     "data": {
      "text/markdown": [
       "**Calcula:**"
      ],
      "text/plain": [
       "<IPython.core.display.Markdown object>"
      ]
     },
     "metadata": {},
     "output_type": "display_data"
    },
    {
     "data": {
      "text/markdown": [
       "$4\\sqrt {3125}  + 2\\sqrt {20}  - 30\\sqrt {45} \\rightarrow 14 \\sqrt{5}$"
      ],
      "text/plain": [
       "<IPython.core.display.Markdown object>"
      ]
     },
     "metadata": {},
     "output_type": "display_data"
    },
    {
     "data": {
      "text/markdown": [
       "$\\frac{1}{4}\\sqrt {3125}  - 2\\sqrt {20}  - \\frac{3}{2}\\sqrt {45} \\rightarrow - \\frac{9 \\sqrt{5}}{4}$"
      ],
      "text/plain": [
       "<IPython.core.display.Markdown object>"
      ]
     },
     "metadata": {},
     "output_type": "display_data"
    }
   ],
   "source": [
    "# Página 6 ejercicios 18\n",
    "\n",
    "\n",
    "texto_ejercicio = 'Calcula:'\n",
    "\n",
    "display(md(\"**\"+texto_ejercicio+\"**\"))\n",
    "\n",
    "enunciado_latex = [r'4\\sqrt {3125}  + 2\\sqrt {20}  - 30\\sqrt {45}',\n",
    "                   r'\\frac{1}{4}\\sqrt {3125}  - 2\\sqrt {20}  - \\frac{3}{2}\\sqrt {45}'\n",
    "                  ]\n",
    "enunciado, solucion = [], []\n",
    "for s in enunciado_latex :\n",
    "    display(md(\"$\"+ s +\" \\\\rightarrow \" + latex(simplify(parse_latex(s)))+\"$\"))\n",
    "    enunciado.append(parse_latex(s))\n",
    "    solucion.append(simplify(parse_latex(s))) \n",
    "    "
   ]
  },
  {
   "cell_type": "code",
   "execution_count": 13,
   "metadata": {},
   "outputs": [
    {
     "data": {
      "text/markdown": [
       "**Racionaliza:**"
      ],
      "text/plain": [
       "<IPython.core.display.Markdown object>"
      ]
     },
     "metadata": {},
     "output_type": "display_data"
    },
    {
     "data": {
      "text/markdown": [
       "$\\frac{3}{{2\\sqrt {6} }} \\rightarrow \\frac{\\sqrt{6}}{4}$"
      ],
      "text/plain": [
       "<IPython.core.display.Markdown object>"
      ]
     },
     "metadata": {},
     "output_type": "display_data"
    },
    {
     "data": {
      "text/markdown": [
       "$\\frac{5}{{\\sqrt{2} }} \\rightarrow \\frac{5 \\sqrt{2}}{2}$"
      ],
      "text/plain": [
       "<IPython.core.display.Markdown object>"
      ]
     },
     "metadata": {},
     "output_type": "display_data"
    },
    {
     "data": {
      "text/markdown": [
       "$\\frac{2}{{3\\sqrt[3]{ 2} }} \\rightarrow \\frac{2^{\\frac{2}{3}}}{3}$"
      ],
      "text/plain": [
       "<IPython.core.display.Markdown object>"
      ]
     },
     "metadata": {},
     "output_type": "display_data"
    },
    {
     "data": {
      "text/markdown": [
       "$\\frac{2}{{5\\sqrt[5]{ 2} }} \\rightarrow \\frac{2^{\\frac{4}{5}}}{5}$"
      ],
      "text/plain": [
       "<IPython.core.display.Markdown object>"
      ]
     },
     "metadata": {},
     "output_type": "display_data"
    },
    {
     "data": {
      "text/markdown": [
       "$\\frac{6}{{\\sqrt {5}  + \\sqrt {2} }} \\rightarrow - 2 \\sqrt{2} + 2 \\sqrt{5}$"
      ],
      "text/plain": [
       "<IPython.core.display.Markdown object>"
      ]
     },
     "metadata": {},
     "output_type": "display_data"
    },
    {
     "data": {
      "text/markdown": [
       "$\\frac{5}{{2 - \\sqrt {6} }} \\rightarrow \\frac{- 5 \\sqrt{6} - 10}{2}$"
      ],
      "text/plain": [
       "<IPython.core.display.Markdown object>"
      ]
     },
     "metadata": {},
     "output_type": "display_data"
    }
   ],
   "source": [
    "# Página 6 ejercicios 19\n",
    "\n",
    "\n",
    "texto_ejercicio = 'Racionaliza:'\n",
    "\n",
    "display(md(\"**\"+texto_ejercicio+\"**\"))\n",
    "\n",
    "enunciado_latex = [r'\\frac{3}{{2\\sqrt {6} }}',\n",
    "                   r'\\frac{5}{{\\sqrt{2} }}',\n",
    "                   r'\\frac{2}{{3\\sqrt[3]{ 2} }}',\n",
    "                   r'\\frac{2}{{5\\sqrt[5]{ 2} }}',\n",
    "                   r'\\frac{6}{{\\sqrt {5}  + \\sqrt {2} }}',\n",
    "                   r'\\frac{5}{{2 - \\sqrt {6} }}'\n",
    "                  ]\n",
    "enunciado, solucion = [], []\n",
    "for s in enunciado_latex :\n",
    "    display(md(\"$\"+ s +\" \\\\rightarrow \" + latex(radsimp(parse_latex(s)))+\"$\"))\n",
    "    enunciado.append(parse_latex(s))\n",
    "    solucion.append(radsimp(parse_latex(s))) \n",
    "    "
   ]
  },
  {
   "cell_type": "code",
   "execution_count": 14,
   "metadata": {},
   "outputs": [
    {
     "data": {
      "text/markdown": [
       "**Calcula, descomponiendo el radicando en factores primos:**"
      ],
      "text/plain": [
       "<IPython.core.display.Markdown object>"
      ]
     },
     "metadata": {},
     "output_type": "display_data"
    },
    {
     "data": {
      "text/markdown": [
       "$\\sqrt {729} \\rightarrow 27$"
      ],
      "text/plain": [
       "<IPython.core.display.Markdown object>"
      ]
     },
     "metadata": {},
     "output_type": "display_data"
    },
    {
     "data": {
      "text/markdown": [
       "$\\sqrt[3]{64000} \\rightarrow 40$"
      ],
      "text/plain": [
       "<IPython.core.display.Markdown object>"
      ]
     },
     "metadata": {},
     "output_type": "display_data"
    },
    {
     "data": {
      "text/markdown": [
       "$\\sqrt[4]{50625} \\rightarrow 15$"
      ],
      "text/plain": [
       "<IPython.core.display.Markdown object>"
      ]
     },
     "metadata": {},
     "output_type": "display_data"
    },
    {
     "data": {
      "text/markdown": [
       "$\\sqrt[5]{59049} \\rightarrow 9$"
      ],
      "text/plain": [
       "<IPython.core.display.Markdown object>"
      ]
     },
     "metadata": {},
     "output_type": "display_data"
    }
   ],
   "source": [
    "# Página 6 ejercicios 23\n",
    "\n",
    "\n",
    "texto_ejercicio = 'Calcula, descomponiendo el radicando en factores primos:'\n",
    "\n",
    "display(md(\"**\"+texto_ejercicio+\"**\"))\n",
    "\n",
    "enunciado_latex = [r'\\sqrt {729}',\n",
    "                   r'\\sqrt[3]{64000}',\n",
    "                   r'\\sqrt[4]{50625}',\n",
    "                   r'\\sqrt[5]{59049}'\n",
    "                  ]\n",
    "enunciado, solucion = [], []\n",
    "for s in enunciado_latex :\n",
    "    display(md(\"$\"+ s +\" \\\\rightarrow \" + latex(simplify(parse_latex(s)))+\"$\"))\n",
    "    enunciado.append(parse_latex(s))\n",
    "    solucion.append(simplify(parse_latex(s))) \n",
    "    "
   ]
  },
  {
   "cell_type": "code",
   "execution_count": 15,
   "metadata": {},
   "outputs": [
    {
     "data": {
      "text/markdown": [
       "**Calcula:**"
      ],
      "text/plain": [
       "<IPython.core.display.Markdown object>"
      ]
     },
     "metadata": {},
     "output_type": "display_data"
    },
    {
     "data": {
      "text/markdown": [
       "$5\\sqrt {8}  - 2\\sqrt {50}  + \\sqrt {32}  - \\sqrt {2} \\rightarrow 3 \\sqrt{2}$"
      ],
      "text/plain": [
       "<IPython.core.display.Markdown object>"
      ]
     },
     "metadata": {},
     "output_type": "display_data"
    },
    {
     "data": {
      "text/markdown": [
       "$\\sqrt {27}  - \\frac{1}{4}\\sqrt {12}  + \\frac{2}{5}\\sqrt {75} \\rightarrow \\frac{9 \\sqrt{3}}{2}$"
      ],
      "text/plain": [
       "<IPython.core.display.Markdown object>"
      ]
     },
     "metadata": {},
     "output_type": "display_data"
    },
    {
     "data": {
      "text/markdown": [
       "$\\sqrt {\\frac{2}{9}}  + \\sqrt 8  - \\sqrt {\\frac{1}{8}} \\rightarrow \\frac{\\sqrt{2}}{3}$"
      ],
      "text/plain": [
       "<IPython.core.display.Markdown object>"
      ]
     },
     "metadata": {},
     "output_type": "display_data"
    }
   ],
   "source": [
    "# Página 6 ejercicios 25\n",
    "\n",
    "\n",
    "texto_ejercicio = 'Calcula:'\n",
    "\n",
    "display(md(\"**\"+texto_ejercicio+\"**\"))\n",
    "\n",
    "enunciado_latex = [r'5\\sqrt {8}  - 2\\sqrt {50}  + \\sqrt {32}  - \\sqrt {2}',\n",
    "                   r'\\sqrt {27}  - \\frac{1}{4}\\sqrt {12}  + \\frac{2}{5}\\sqrt {75}',\n",
    "                   r'\\sqrt {\\frac{2}{9}}  + \\sqrt 8  - \\sqrt {\\frac{1}{8}}'\n",
    "                   \n",
    "                  ]\n",
    "enunciado, solucion = [], []\n",
    "for s in enunciado_latex :\n",
    "    display(md(\"$\"+ s +\" \\\\rightarrow \" + latex(simplify(parse_latex(s)))+\"$\"))\n",
    "    enunciado.append(parse_latex(s))\n",
    "    solucion.append(simplify(parse_latex(s))) \n",
    "    "
   ]
  },
  {
   "cell_type": "code",
   "execution_count": 38,
   "metadata": {},
   "outputs": [
    {
     "data": {
      "text/markdown": [
       "**Calcula y simplifica:**"
      ],
      "text/plain": [
       "<IPython.core.display.Markdown object>"
      ]
     },
     "metadata": {},
     "output_type": "display_data"
    },
    {
     "data": {
      "text/markdown": [
       "$\\sqrt [3] {5}  \\cdot \\sqrt [4] {3}   \\cdot \\sqrt {2} \\rightarrow \\sqrt{2} \\sqrt[4]{3} \\sqrt[3]{5}$"
      ],
      "text/plain": [
       "<IPython.core.display.Markdown object>"
      ]
     },
     "metadata": {},
     "output_type": "display_data"
    },
    {
     "data": {
      "text/markdown": [
       "$\\frac{{\\sqrt[3]{5} \\cdot \\sqrt{3}}}{{\\sqrt {15}  \\cdot \\sqrt {6} }} \\rightarrow \\frac{5^{\\frac{5}{6}} \\sqrt{6}}{30}$"
      ],
      "text/plain": [
       "<IPython.core.display.Markdown object>"
      ]
     },
     "metadata": {},
     "output_type": "display_data"
    },
    {
     "data": {
      "text/markdown": [
       "$\\frac{{\\sqrt[6]{5}}}{{\\sqrt[3]{5}}} \\rightarrow \\frac{5^{\\frac{5}{6}}}{5}$"
      ],
      "text/plain": [
       "<IPython.core.display.Markdown object>"
      ]
     },
     "metadata": {},
     "output_type": "display_data"
    },
    {
     "data": {
      "text/markdown": [
       "$\\sqrt[5]{{{27}^{\\frac{5}{3}}}} \\rightarrow 3$"
      ],
      "text/plain": [
       "<IPython.core.display.Markdown object>"
      ]
     },
     "metadata": {},
     "output_type": "display_data"
    },
    {
     "data": {
      "text/markdown": [
       "$\\sqrt[3] {4}  \\cdot \\sqrt[4] {8}  \\cdot \\sqrt {2} \\rightarrow 2 \\cdot 2^{\\frac{11}{12}}$"
      ],
      "text/plain": [
       "<IPython.core.display.Markdown object>"
      ]
     },
     "metadata": {},
     "output_type": "display_data"
    }
   ],
   "source": [
    "# Página 6 ejercicios 26\n",
    "\n",
    "\n",
    "texto_ejercicio = 'Calcula y simplifica:'\n",
    "\n",
    "display(md(\"**\"+texto_ejercicio+\"**\"))\n",
    "\n",
    "enunciado_latex = [r'\\sqrt [3] {5}  \\cdot \\sqrt [4] {3}   \\cdot \\sqrt {2}',\n",
    "                   r'\\frac{{\\sqrt[3]{5} \\cdot \\sqrt{3}}}{{\\sqrt {15}  \\cdot \\sqrt {6} }}',\n",
    "                   r'\\frac{{\\sqrt[6]{5}}}{{\\sqrt[3]{5}}}',\n",
    "                   r'\\sqrt[5]{{{27}^{\\frac{5}{3}}}}',\n",
    "                   r'\\sqrt[3] {4}  \\cdot \\sqrt[4] {8}  \\cdot \\sqrt {2}'\n",
    "                  ]\n",
    "enunciado, solucion = [], []\n",
    "for s in enunciado_latex :\n",
    "    display(md(\"$\"+ s +\" \\\\rightarrow \" + latex(simplify(parse_latex(s)))+\"$\"))\n",
    "    enunciado.append(parse_latex(s))\n",
    "    solucion.append(simplify(parse_latex(s))) \n",
    "    "
   ]
  },
  {
   "cell_type": "code",
   "execution_count": 14,
   "metadata": {},
   "outputs": [
    {
     "data": {
      "text/markdown": [
       "**Efectúa:**"
      ],
      "text/plain": [
       "<IPython.core.display.Markdown object>"
      ]
     },
     "metadata": {},
     "output_type": "display_data"
    },
    {
     "data": {
      "text/markdown": [
       "$\\sqrt[3] {5} \\cdot \\sqrt[3]{5^2} \\rightarrow 5$"
      ],
      "text/plain": [
       "<IPython.core.display.Markdown object>"
      ]
     },
     "metadata": {},
     "output_type": "display_data"
    },
    {
     "data": {
      "text/markdown": [
       "$\\frac{{\\sqrt[3]{{x^2}{y^3}} }}{{\\sqrt[3]{xy} }} \\rightarrow \\frac{\\sqrt[3]{x^{2} y^{3}}}{\\sqrt[3]{x y}}$"
      ],
      "text/plain": [
       "<IPython.core.display.Markdown object>"
      ]
     },
     "metadata": {},
     "output_type": "display_data"
    },
    {
     "data": {
      "text/markdown": [
       "$( {\\sqrt[5]{{3^2}} } )^4 \\rightarrow 3 \\cdot 3^{\\frac{3}{5}}$"
      ],
      "text/plain": [
       "<IPython.core.display.Markdown object>"
      ]
     },
     "metadata": {},
     "output_type": "display_data"
    },
    {
     "data": {
      "text/markdown": [
       "$\\sqrt[3] {5}  \\cdot \\sqrt[4] {{5^2}} \\rightarrow 5^{\\frac{5}{6}}$"
      ],
      "text/plain": [
       "<IPython.core.display.Markdown object>"
      ]
     },
     "metadata": {},
     "output_type": "display_data"
    },
    {
     "data": {
      "text/markdown": [
       "$3\\sqrt{ 5}  \\cdot 2\\sqrt[3]{25} \\rightarrow 30 \\sqrt[6]{5}$"
      ],
      "text/plain": [
       "<IPython.core.display.Markdown object>"
      ]
     },
     "metadata": {},
     "output_type": "display_data"
    },
    {
     "data": {
      "text/markdown": [
       "$\\sqrt[3]{{a^3}\\cdot b}  \\cdot \\sqrt[6]{a\\cdot{b^4}} \\rightarrow \\sqrt[6]{a b^{4}} \\sqrt[3]{a^{3} b}$"
      ],
      "text/plain": [
       "<IPython.core.display.Markdown object>"
      ]
     },
     "metadata": {},
     "output_type": "display_data"
    }
   ],
   "source": [
    "# Página 6 ejercicios 27\n",
    "\n",
    "\n",
    "texto_ejercicio = 'Efectúa:'\n",
    "\n",
    "display(md(\"**\"+texto_ejercicio+\"**\"))\n",
    "\n",
    "enunciado_latex = [r'\\sqrt[3] {5} \\cdot \\sqrt[3]{5^2}',\n",
    "                   r'\\frac{{\\sqrt[3]{{x^2}{y^3}} }}{{\\sqrt[3]{xy} }}',\n",
    "                   r'( {\\sqrt[5]{{3^2}} } )^4',\n",
    "                   r'\\sqrt[3] {5}  \\cdot \\sqrt[4] {{5^2}}',\n",
    "                   r'3\\sqrt{ 5}  \\cdot 2\\sqrt[3]{25}',\n",
    "                   r'\\sqrt[3]{{a^3} b}  \\cdot \\sqrt[6]{a{b^4}}'\n",
    "                  ]\n",
    "enunciado, solucion = [], []\n",
    "for s in enunciado_latex :\n",
    "    display(md(\"$\"+ s +\" \\\\rightarrow \" + latex(simplify(parse_latex(s)))+\"$\"))\n",
    "    enunciado.append(parse_latex(s))\n",
    "    solucion.append(simplify(parse_latex(s))) \n",
    "    "
   ]
  }
 ],
 "metadata": {
  "kernelspec": {
   "display_name": "Python 3",
   "language": "python",
   "name": "python3"
  },
  "language_info": {
   "codemirror_mode": {
    "name": "ipython",
    "version": 3
   },
   "file_extension": ".py",
   "mimetype": "text/x-python",
   "name": "python",
   "nbconvert_exporter": "python",
   "pygments_lexer": "ipython3",
   "version": "3.6.5"
  }
 },
 "nbformat": 4,
 "nbformat_minor": 2
}
