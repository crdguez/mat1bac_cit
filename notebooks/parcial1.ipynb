{
 "cells": [
  {
   "cell_type": "markdown",
   "metadata": {},
   "source": [
    "<a href=\"https://colab.research.google.com/github/crdguez/mat1bac_cit/blob/master/notebooks/Ejercicios1_3.ipynb\"><img align=\"left\" src=\"https://colab.research.google.com/assets/colab-badge.svg\" alt=\"Open in Colab\" title=\"Open and Execute in Google Colaboratory\"></a>"
   ]
  },
  {
   "cell_type": "code",
   "execution_count": 8,
   "metadata": {},
   "outputs": [
    {
     "name": "stdout",
     "output_type": "stream",
     "text": [
      "IPython console for SymPy 1.2 (Python 3.6.5-64-bit) (ground types: gmpy)\n",
      "\n",
      "These commands were executed:\n",
      ">>> from __future__ import division\n",
      ">>> from sympy import *\n",
      ">>> x, y, z, t = symbols('x y z t')\n",
      ">>> k, m, n = symbols('k m n', integer=True)\n",
      ">>> f, g, h = symbols('f g h', cls=Function)\n",
      ">>> init_printing()\n",
      "\n",
      "Documentation can be found at http://docs.sympy.org/1.2/\n",
      "\n"
     ]
    }
   ],
   "source": [
    "from sympy import init_session, prod\n",
    "from sympy.parsing.latex import parse_latex\n",
    "from sympy.parsing.sympy_parser import parse_expr\n",
    "from sympy.solvers.inequalities import solve_univariate_inequality\n",
    "from IPython.display import Markdown as md\n",
    "from IPython.display import display\n",
    "import pandas as pd\n",
    "\n",
    "init_session()\n",
    "\n",
    "a, b, c, d = symbols('a b c d', real = True)\n",
    "from docparts import añadir_ejercicios, doc_ejer, escribir_preambulo, escribir_ejercicios, escribir_fin\n",
    "\n",
    "df_ejercicios = pd.DataFrame()\n",
    "\n",
    "fichero = 'parcial1'\n",
    "titulo = 'Parcial 1'\n",
    "curso = '1BC'\n"
   ]
  },
  {
   "cell_type": "code",
   "execution_count": 3,
   "metadata": {},
   "outputs": [],
   "source": [
    "def simbolo (operacion):\n",
    "    if operacion == '<=' :\n",
    "        return('\\leq')\n",
    "    elif operacion == '>=' :\n",
    "        return('\\geq')\n",
    "    else :\n",
    "        return(operacion)"
   ]
  },
  {
   "cell_type": "code",
   "execution_count": 3,
   "metadata": {},
   "outputs": [
    {
     "data": {
      "text/markdown": [
       "**Dados los siguientes conjuntos A, B y C, represéntalos en la recta real. A continuación, calcula $A \\cup  B$ , $A \\cap B$ y $A \\cap B \\cap C$ , \n",
       "y expresa los resultados en forma de Intervalos. \n",
       "Encuentra, si existe, el supremo y el ínfimo de cada uno de los\n",
       "conjuntos anteriores**"
      ],
      "text/plain": [
       "<IPython.core.display.Markdown object>"
      ]
     },
     "metadata": {},
     "output_type": "display_data"
    },
    {
     "data": {
      "text/markdown": [
       "$A=\\left\\{ x \\in \\mathbb{R}| -2 \\leq x \\wedge x \\leq 5 \\right\\}, \\\\ B=\\left(-\\infty, -1\\right) \\cup \\left(1, \\infty\\right)  y \\\\  C=\\left\\{ x \\in \\mathbb{R}| \\left|{x - 2}\\right|\\leq3 \\right\\} \\\\ \\rightarrow Solución:  A \\cup  B = \\left(-\\infty, \\infty\\right)  \\\\  A \\cap B= \\left[-2, -1\\right) \\cup \\left(1, 5\\right]   \\\\  A \\cap B  \\cap C= \\left(1, 5\\right]$"
      ],
      "text/plain": [
       "<IPython.core.display.Markdown object>"
      ]
     },
     "metadata": {},
     "output_type": "display_data"
    },
    {
     "data": {
      "text/markdown": [
       "$A=\\left\\{ x \\in \\mathbb{R}| 3 \\leq x \\wedge x < 8 \\right\\}, \\\\ B=\\left(-\\infty, 1\\right) \\cup \\left(3, \\infty\\right)  y \\\\  C=\\left\\{ x \\in \\mathbb{R}| \\left|{x + 2}\\right|\\geq8 \\right\\} \\\\ \\rightarrow Solución:  A \\cup  B = \\left(-\\infty, 1\\right) \\cup \\left[3, \\infty\\right)  \\\\  A \\cap B= \\left(3, 8\\right)   \\\\  A \\cap B  \\cap C= \\left[6, 8\\right)$"
      ],
      "text/plain": [
       "<IPython.core.display.Markdown object>"
      ]
     },
     "metadata": {},
     "output_type": "display_data"
    }
   ],
   "source": [
    "# ejercicio de examen 1\n",
    "\n",
    "n_ejercicio = 'ex01e01'\n",
    "\n",
    "texto_ejercicio = 'Dados los siguientes conjuntos A, B y C, represéntalos en la recta real. '\n",
    "texto_ejercicio = texto_ejercicio +\"\"\"A continuación, calcula $A \\cup  B$ , $A \\cap B$ y $A \\cap B \\cap C$ , \n",
    "y expresa los resultados en forma de Intervalos. \n",
    "Encuentra, si existe, el supremo y el ínfimo de cada uno de los\n",
    "conjuntos anteriores\"\"\"\n",
    "\n",
    "\n",
    "display(md(\"**\"+texto_ejercicio+\"**\"))\n",
    "\n",
    "\n",
    "enunciado =[[Interval(-2,5),Interval.open(-oo,-1).union(Interval.open(1,oo)),['Abs(x - 2)','<=','3']],\n",
    "           [Interval.Ropen(3,8),Interval.open(-oo,1).union(Interval.open(3,oo)),['Abs(x + 2)','>=','8']]\n",
    "           ]\n",
    "\n",
    "enunciado_latex = []\n",
    "solucion = []\n",
    "\n",
    "for s in enunciado:\n",
    "    el = r\"\"\"A=\\left\\{ x \\in \\mathbb{R}| %s \\right\\}, \\\\ B=%s  y \\\\  C=\\left\\{ x \\in \\mathbb{R}| %s \\right\\} \\\\\"\"\"  % (latex(s[0].as_relational(x)), latex(s[1]), latex(S(s[2][0]))+simbolo(s[2][1])+latex(S(s[2][2])))\n",
    "\n",
    "    enunciado_latex.append(el)\n",
    "    \n",
    "    sl = r\"\"\"A \\cup  B = %s  \\\\  A \\cap B= %s   \\\\  A \\cap B  \\cap C= %s\"\"\" % (latex(s[0].union(s[1])), latex(s[0].intersection(s[1])),  latex(s[0].intersection(s[1]).intersection(reduce_abs_inequalities([(S(s[2][0])-S(s[2][2]),s[2][1])], x).as_set())))\n",
    "    \n",
    "    solucion.append(sl)\n",
    "    display(md('$'+el+' \\\\rightarrow Solución:  '+sl+'$'))\n",
    "    \n",
    "\n",
    "df_ejercicios = df_ejercicios.append(añadir_ejercicios(enunciado_latex, enunciado, solucion, texto_ejercicio, curso, titulo, n_ejercicio), ignore_index=True)\n"
   ]
  },
  {
   "cell_type": "code",
   "execution_count": 4,
   "metadata": {},
   "outputs": [
    {
     "data": {
      "text/markdown": [
       "**Usando la definición y las propiedades de los números combinatorios, resolver las ecuaciones:**"
      ],
      "text/plain": [
       "<IPython.core.display.Markdown object>"
      ]
     },
     "metadata": {},
     "output_type": "display_data"
    },
    {
     "data": {
      "text/markdown": [
       "${\\binom{23}{x}} = \\binom{23}{3x-1} \\rightarrow Solución:  \\left\\{6\\right\\}$"
      ],
      "text/plain": [
       "<IPython.core.display.Markdown object>"
      ]
     },
     "metadata": {},
     "output_type": "display_data"
    },
    {
     "data": {
      "text/markdown": [
       "${\\binom{39}{5+2x}} = \\binom{39}{2x-2} \\rightarrow Solución:  \\left\\{9\\right\\}$"
      ],
      "text/plain": [
       "<IPython.core.display.Markdown object>"
      ]
     },
     "metadata": {},
     "output_type": "display_data"
    },
    {
     "data": {
      "text/markdown": [
       "${\\binom{15}{x}} = \\binom{15}{x+1} \\rightarrow Solución:  \\left\\{7\\right\\}$"
      ],
      "text/plain": [
       "<IPython.core.display.Markdown object>"
      ]
     },
     "metadata": {},
     "output_type": "display_data"
    }
   ],
   "source": [
    "# ejercicio de examen 2\n",
    "\n",
    "n_ejercicio = 'ex01e02'\n",
    "\n",
    "texto_ejercicio = 'Usando la definición y las propiedades de los números combinatorios, resolver las ecuaciones:'\n",
    "\n",
    "\n",
    "\n",
    "display(md(\"**\"+texto_ejercicio+\"**\"))\n",
    "\n",
    "\n",
    "enunciado =[Eq(binomial(23,x),binomial(23,3*x-1)),\n",
    "           Eq(binomial(39,5+2*x),binomial(39,2*x-2)),\n",
    "           Eq(binomial(15,x),binomial(15,x+1))]\n",
    "           \n",
    "\n",
    "enunciado_latex = [r'{\\binom{23}{x}} = \\binom{23}{3x-1}',\n",
    "                   r'{\\binom{39}{5+2x}} = \\binom{39}{2x-2}',\n",
    "                   r'{\\binom{15}{x}} = \\binom{15}{x+1}'\n",
    "                  ]\n",
    "solucion = []\n",
    "\n",
    "for i, s in enumerate(enunciado):\n",
    "    el=enunciado_latex[i]\n",
    "    sl=latex(solveset(s.args[0].args[1]-s.args[1].args[1], domain=S.Naturals).union(solveset(s.args[0].args[0]-s.args[0].args[1]-s.args[1].args[1], domain=S.Naturals)))\n",
    "    \n",
    "    solucion.append(sl)\n",
    "    display(md('$'+el+' \\\\rightarrow Solución:  '+sl+'$'))\n",
    "    \n",
    "\n",
    "df_ejercicios = df_ejercicios.append(añadir_ejercicios(enunciado_latex, enunciado, solucion, texto_ejercicio, curso, titulo, n_ejercicio), ignore_index=True)\n"
   ]
  },
  {
   "cell_type": "code",
   "execution_count": 463,
   "metadata": {},
   "outputs": [
    {
     "data": {
      "text/markdown": [
       "**Usando la definición y las propiedades de los números combinatorios, resolver las ecuaciones:**"
      ],
      "text/plain": [
       "<IPython.core.display.Markdown object>"
      ]
     },
     "metadata": {},
     "output_type": "display_data"
    },
    {
     "data": {
      "text/markdown": [
       "${\\binom{x}{2}} = 21 \\rightarrow Solución:  \\left\\{7\\right\\}$"
      ],
      "text/plain": [
       "<IPython.core.display.Markdown object>"
      ]
     },
     "metadata": {},
     "output_type": "display_data"
    },
    {
     "data": {
      "text/markdown": [
       "${\\binom{x}{2}} = 28 \\rightarrow Solución:  \\left\\{8\\right\\}$"
      ],
      "text/plain": [
       "<IPython.core.display.Markdown object>"
      ]
     },
     "metadata": {},
     "output_type": "display_data"
    },
    {
     "data": {
      "text/markdown": [
       "${\\binom{x}{x - 2}} = 10 \\rightarrow Solución:  \\left\\{5\\right\\}$"
      ],
      "text/plain": [
       "<IPython.core.display.Markdown object>"
      ]
     },
     "metadata": {},
     "output_type": "display_data"
    },
    {
     "data": {
      "text/markdown": [
       "${\\binom{x}{x - 2}} = 28 \\rightarrow Solución:  \\left\\{8\\right\\}$"
      ],
      "text/plain": [
       "<IPython.core.display.Markdown object>"
      ]
     },
     "metadata": {},
     "output_type": "display_data"
    }
   ],
   "source": [
    "# ejercicio de examen 2\n",
    "\n",
    "n_ejercicio = 'ex01e02'\n",
    "\n",
    "texto_ejercicio = 'Usando la definición y las propiedades de los números combinatorios, resolver las ecuaciones:'\n",
    "\n",
    "\n",
    "\n",
    "display(md(\"**\"+texto_ejercicio+\"**\"))\n",
    "\n",
    "\n",
    "enunciado =[Eq(binomial(x,2),21), Eq(binomial(x,2),28), Eq(binomial(x,x-2),10), Eq(binomial(x,x-2),28)]\n",
    "           \n",
    "\n",
    "enunciado_latex = [r'{\\binom{x}{2}} = 21',\n",
    "                   r'{\\binom{x}{2}} = 28',\n",
    "                  r'{\\binom{x}{x - 2}} = 10',\n",
    "                   r'{\\binom{x}{x - 2}} = 28'\n",
    "                  ]\n",
    "solucion = []\n",
    "\n",
    "for i, s in enumerate(enunciado):\n",
    "    el=enunciado_latex[i]\n",
    "    sl=latex(solveset(s.args[0].expand(func=True)-s.args[1].expand(func=True),domain=S.Naturals))\n",
    "    \n",
    "    solucion.append(sl)\n",
    "    display(md('$'+el+' \\\\rightarrow Solución:  '+sl+'$'))\n",
    "    \n",
    "\n",
    "df_ejercicios = df_ejercicios.append(añadir_ejercicios(enunciado_latex, enunciado, solucion, texto_ejercicio, curso, titulo, n_ejercicio), ignore_index=True)\n"
   ]
  },
  {
   "cell_type": "code",
   "execution_count": 6,
   "metadata": {},
   "outputs": [
    {
     "data": {
      "text/markdown": [
       "**Usando la definición y las propiedades de los números combinatorios, resolver las ecuaciones:**"
      ],
      "text/plain": [
       "<IPython.core.display.Markdown object>"
      ]
     },
     "metadata": {},
     "output_type": "display_data"
    },
    {
     "data": {
      "text/markdown": [
       "${\\binom{11}{3}} = {\\binom{12}{3}}-{\\binom{11}{x}} \\rightarrow Solución:  \\left [ 2\\right ]$"
      ],
      "text/plain": [
       "<IPython.core.display.Markdown object>"
      ]
     },
     "metadata": {},
     "output_type": "display_data"
    },
    {
     "data": {
      "text/markdown": [
       "${\\binom{33}{x}} = {\\binom{33}{x+y}}-{\\binom{34}{5}} \\rightarrow Solución:  \\left \\{ x : 4, \\quad y : 1\\right \\}$"
      ],
      "text/plain": [
       "<IPython.core.display.Markdown object>"
      ]
     },
     "metadata": {},
     "output_type": "display_data"
    },
    {
     "data": {
      "text/markdown": [
       "${\\binom{20}{7}} - {\\binom{19}{x}}-{\\binom{19}{x+1}} \\rightarrow Solución:  \\left [ 6\\right ]$"
      ],
      "text/plain": [
       "<IPython.core.display.Markdown object>"
      ]
     },
     "metadata": {},
     "output_type": "display_data"
    }
   ],
   "source": [
    "# ejercicio de examen 2\n",
    "\n",
    "n_ejercicio = 'ex01e02'\n",
    "\n",
    "texto_ejercicio = 'Usando la definición y las propiedades de los números combinatorios, resolver las ecuaciones:'\n",
    "\n",
    "\n",
    "\n",
    "display(md(\"**\"+texto_ejercicio+\"**\"))\n",
    "\n",
    "\n",
    "enunciado =[Eq(3-x,1),\n",
    "            [Eq(x+y-x,1),Eq(x+y,5)],\n",
    "            Eq(x+1,7)\n",
    "           ]\n",
    "           \n",
    "\n",
    "enunciado_latex = [r'{\\binom{11}{3}} = {\\binom{12}{3}}-{\\binom{11}{x}}',\n",
    "                  r'{\\binom{33}{x}} = {\\binom{33}{x+y}}-{\\binom{34}{5}}',\n",
    "                   r'{\\binom{20}{7}} - {\\binom{19}{x}}-{\\binom{19}{x+1}}'\n",
    "                  ]\n",
    "solucion = []\n",
    "\n",
    "for i, s in enumerate(enunciado):\n",
    "    el=enunciado_latex[i]\n",
    "    sl=latex(solve(s))\n",
    "    \n",
    "    solucion.append(sl)\n",
    "    display(md('$'+el+' \\\\rightarrow Solución:  '+sl+'$'))\n",
    "    \n",
    "\n",
    "df_ejercicios = df_ejercicios.append(añadir_ejercicios(enunciado_latex, enunciado, solucion, texto_ejercicio, curso, titulo, n_ejercicio, 1, 3, 0.5), ignore_index=True)\n"
   ]
  },
  {
   "cell_type": "code",
   "execution_count": 470,
   "metadata": {
    "scrolled": true
   },
   "outputs": [
    {
     "data": {
      "text/markdown": [
       "**Calcula el coeficiente del término asociado a:**"
      ],
      "text/plain": [
       "<IPython.core.display.Markdown object>"
      ]
     },
     "metadata": {},
     "output_type": "display_data"
    },
    {
     "data": {
      "text/markdown": [
       "$P(x)=\\left(2 x - \\frac{3}{x}\\right)^{8} \\  \\ y \\ parte \\ literal \\ x^{4} \\rightarrow Solución:  16128$"
      ],
      "text/plain": [
       "<IPython.core.display.Markdown object>"
      ]
     },
     "metadata": {},
     "output_type": "display_data"
    },
    {
     "data": {
      "text/markdown": [
       "$P(x)=\\left(3 x^{2} + \\frac{1}{x}\\right)^{7} \\  \\ y \\ parte \\ literal \\ x^{14} \\rightarrow Solución:  2187$"
      ],
      "text/plain": [
       "<IPython.core.display.Markdown object>"
      ]
     },
     "metadata": {},
     "output_type": "display_data"
    }
   ],
   "source": [
    "# ejercicio de examen 3\n",
    "\n",
    "n_ejercicio = 'ex01e03'\n",
    "\n",
    "pre_enunciado_latex = [r'( 2x  - \\frac{3}{x})^8',\n",
    "                      r'{( {3{x^2} + \\frac{1}{x}})^7}']\n",
    "\n",
    "texto_ejercicio = 'Calcula el coeficiente del término asociado a:'\n",
    "\n",
    "\n",
    "display(md(\"**\"+texto_ejercicio+\"**\"))\n",
    "\n",
    "\n",
    "enunciado_latex, enunciado, solucion = [],[],[]\n",
    "\n",
    "for i, s in enumerate(pre_enunciado_latex):\n",
    "    p = parse_latex(s).as_poly()\n",
    "    e = (parse_latex(s),np.prod([a**b for a,b in zip(p.gens,p.terms()[np.random.randint(len(p.coeffs())-1)][0])]))\n",
    "    el= r'P(x)=%s \\  \\ y \\ parte \\ literal \\ %s' % (latex(e[0]),latex(e[1]))\n",
    "    \n",
    "    enunciado_latex.append(el)\n",
    "    \n",
    "    sl=latex(p.coeff_monomial(e[1]))\n",
    "    solucion.append(sl)\n",
    "    display(md('$'+el+' \\\\rightarrow Solución:  '+sl+'$'))\n",
    "    \n",
    "\n",
    "#df_ejercicios = df_ejercicios.append(añadir_ejercicios(enunciado_latex, enunciado, solucion, texto_ejercicio, curso, titulo, n_ejercicio, 1, 3, 0.5), ignore_index=True)\n"
   ]
  },
  {
   "cell_type": "code",
   "execution_count": null,
   "metadata": {},
   "outputs": [],
   "source": [
    "##### ejercicio de examen 3\n",
    "\n",
    "n_ejercicio = 'ex01e03'\n",
    "\n",
    "pre_enunciado_latex = [r'( 2x  - \\frac{3}{x})^8',\n",
    "                      r'{( {3{x^2} + \\frac{1}{x}})^7}']\n",
    "\n",
    "texto_ejercicio = 'Calcula el coeficiente del término asociado a:'\n",
    "\n",
    "\n",
    "display(md(\"**\"+texto_ejercicio+\"**\"))\n",
    "\n",
    "\n",
    "enunciado_latex, enunciado, solucion = [],[],[]\n",
    "\n",
    "for i, s in enumerate(pre_enunciado_latex):\n",
    "    p = parse_latex(s).as_poly()\n",
    "    e = (parse_latex(s),np.prod([a**b for a,b in zip(p.gens,p.terms()[np.random.randint(len(p.coeffs())-1)][0])]))\n",
    "    el= r'P(x)=%s \\  \\ y \\ parte \\ literal \\ %s' % (latex(e[0]),latex(e[1]))\n",
    "    \n",
    "    enunciado_latex.append(el)\n",
    "    \n",
    "    sl=latex(p.coeff_monomial(e[1]))\n",
    "    solucion.append(sl)\n",
    "    display(md('$'+el+' \\\\rightarrow Solución:  '+sl+'$'))\n",
    "    \n",
    "\n",
    "#df_ejercicios = df_ejercicios.append(añadir_ejercicios(enunciado_latex, enunciado, solucion, texto_ejercicio, curso, titulo, n_ejercicio, 1, 3, 0.5), ignore_index=True)\n"
   ]
  },
  {
   "cell_type": "code",
   "execution_count": 134,
   "metadata": {},
   "outputs": [
    {
     "data": {
      "text/markdown": [
       "**Encontrar el término central del desarrollo del siguiente polinomio:**"
      ],
      "text/plain": [
       "<IPython.core.display.Markdown object>"
      ]
     },
     "metadata": {},
     "output_type": "display_data"
    },
    {
     "data": {
      "text/markdown": [
       "$P(x)=\\left(3 x^{2} - \\frac{3}{x}\\right)^{10} \\,  \\rightarrow Solución:  - 14880348 x^{10}$"
      ],
      "text/plain": [
       "<IPython.core.display.Markdown object>"
      ]
     },
     "metadata": {},
     "output_type": "display_data"
    },
    {
     "data": {
      "text/markdown": [
       "$P(x)=\\left(x^{2} + x\\right)^{4} \\,  \\rightarrow Solución:  6 x^{6}$"
      ],
      "text/plain": [
       "<IPython.core.display.Markdown object>"
      ]
     },
     "metadata": {},
     "output_type": "display_data"
    }
   ],
   "source": [
    "# ejercicio de examen 3\n",
    "\n",
    "n_ejercicio = 'ex01e03'\n",
    "\n",
    "pre_enunciado_latex = [r'( 3x^2 - \\frac{3}{x})^10',\n",
    "                      r'(x+x^2)^4']\n",
    "\n",
    "texto_ejercicio = 'Encontrar el término central del desarrollo del siguiente polinomio:'\n",
    "\n",
    "\n",
    "display(md(\"**\"+texto_ejercicio+\"**\"))\n",
    "\n",
    "\n",
    "enunciado_latex, enunciado, solucion = [],[],[]\n",
    "\n",
    "for i, s in enumerate(pre_enunciado_latex):\n",
    "    p = parse_latex(s).as_poly()\n",
    "    n = parse_latex(s).as_base_exp()[1]\n",
    "    m = parse_latex(s).as_base_exp()[0].as_poly()\n",
    "    e = (parse_latex(s),binomial(n,int(n/2))*[np.array(t[1])*np.array(m.gens)**np.array(t[0]) for t in m.terms()][0][0]**(n-int(n/2))*[np.array(t[1])*np.array(m.gens)**np.array(t[0]) for t in m.terms()][1][0]**(int(n/2)))\n",
    "    el= r'P(x)=%s \\, ' % (latex(e[0]))\n",
    "    \n",
    "    enunciado_latex.append(el)\n",
    "    \n",
    "    s=S(e[1])\n",
    "    sl=latex(s)\n",
    "    solucion.append(sl)\n",
    "    display(md('$'+el+' \\\\rightarrow Solución:  '+sl+'$'))\n",
    "    \n",
    "\n",
    "df_ejercicios = df_ejercicios.append(añadir_ejercicios(enunciado_latex, enunciado, solucion, texto_ejercicio, curso, titulo, n_ejercicio, 1, 3, 0.5), ignore_index=True)\n"
   ]
  },
  {
   "cell_type": "code",
   "execution_count": 10,
   "metadata": {},
   "outputs": [
    {
     "data": {
      "text/markdown": [
       "**Efectúa:**"
      ],
      "text/plain": [
       "<IPython.core.display.Markdown object>"
      ]
     },
     "metadata": {},
     "output_type": "display_data"
    },
    {
     "data": {
      "text/markdown": [
       "$\\frac{{\\sqrt [6]{27} \\sqrt {\\sqrt [3]{3} } }}{{\\sqrt [5] {9} }} \\rightarrow 3^{\\frac{4}{15}}$"
      ],
      "text/plain": [
       "<IPython.core.display.Markdown object>"
      ]
     },
     "metadata": {},
     "output_type": "display_data"
    },
    {
     "data": {
      "text/markdown": [
       "$3\\sqrt [3] {16} - 2\\sqrt [3] {250} + 5\\sqrt [3] {250} - 4\\sqrt [3] { 2}  \\rightarrow 17 \\sqrt[3]{2}$"
      ],
      "text/plain": [
       "<IPython.core.display.Markdown object>"
      ]
     },
     "metadata": {},
     "output_type": "display_data"
    },
    {
     "data": {
      "text/markdown": [
       "$\\frac{{2 - \\sqrt {3} }}{{1 - \\sqrt {3} }}-\\frac{1}{2\\sqrt {3}}+ \\frac{3}{2-\\sqrt{3} } \\rightarrow \\frac{14 \\sqrt{3} + 39}{6}$"
      ],
      "text/plain": [
       "<IPython.core.display.Markdown object>"
      ]
     },
     "metadata": {},
     "output_type": "display_data"
    }
   ],
   "source": [
    "# ejercicio de examen 3\n",
    "\n",
    "\n",
    "texto_ejercicio = 'Efectúa:'\n",
    "n_ejercicio = 'ex01e04'\n",
    "\n",
    "\n",
    "display(md(\"**\"+texto_ejercicio+\"**\"))\n",
    "\n",
    "enunciado_latex = [r'\\frac{{\\sqrt [6]{27} \\sqrt {\\sqrt [3]{3} } }}{{\\sqrt [5] {9} }}',\n",
    "                   r'3\\sqrt [3] {16} - 2\\sqrt [3] {250} + 5\\sqrt [3] {250} - 4\\sqrt [3] { 2} ',\n",
    "                   r'\\frac{{2 - \\sqrt {3} }}{{1 - \\sqrt {3} }}-\\frac{1}{2\\sqrt {3}}+ \\frac{3}{2-\\sqrt{3} }'\n",
    "                   \n",
    "                  ]\n",
    "enunciado, solucion = [], []\n",
    "for s in enunciado_latex :\n",
    "    display(md(\"$\"+ s +\" \\\\rightarrow \" + latex(radsimp(parse_latex(s)))+\"$\"))\n",
    "    enunciado.append(parse_latex(s))\n",
    "    solucion.append(latex(cancel(radsimp(parse_latex(s))))) \n",
    "    \n",
    "df_ejercicios = df_ejercicios.append(añadir_ejercicios(enunciado_latex, enunciado, solucion, texto_ejercicio, curso, titulo, n_ejercicio), ignore_index=True)\n"
   ]
  },
  {
   "cell_type": "code",
   "execution_count": 41,
   "metadata": {},
   "outputs": [
    {
     "data": {
      "text/markdown": [
       "**Calcula el valor de $k$ para que:**"
      ],
      "text/plain": [
       "<IPython.core.display.Markdown object>"
      ]
     },
     "metadata": {},
     "output_type": "display_data"
    },
    {
     "data": {
      "text/markdown": [
       "$El \\ resto \\ de \\ dividir \\ P(x)=x^{27}-kx+3k-4 \\ entre\\  x-1 \\ sea \\ 5  \\rightarrow Solución:  4$"
      ],
      "text/plain": [
       "<IPython.core.display.Markdown object>"
      ]
     },
     "metadata": {},
     "output_type": "display_data"
    },
    {
     "data": {
      "text/markdown": [
       "$El \\ resto \\ de \\ dividir \\ P(x)=x^{27}-kx+3k-4 \\ entre\\  x+1 \\ sea \\ 11  \\rightarrow Solución:  4$"
      ],
      "text/plain": [
       "<IPython.core.display.Markdown object>"
      ]
     },
     "metadata": {},
     "output_type": "display_data"
    },
    {
     "data": {
      "text/markdown": [
       "$El \\ resto \\ de \\ dividir \\ P(x)=x^{25}-kx+3k-4 \\ entre\\  x+1 \\ sea \\ 11  \\rightarrow Solución:  4$"
      ],
      "text/plain": [
       "<IPython.core.display.Markdown object>"
      ]
     },
     "metadata": {},
     "output_type": "display_data"
    },
    {
     "data": {
      "text/markdown": [
       "$El \\ resto \\ de \\ dividir \\ P(x)=x^{25}-kx+3k-4 \\ entre\\  x-1 \\ sea \\ 3  \\rightarrow Solución:  3$"
      ],
      "text/plain": [
       "<IPython.core.display.Markdown object>"
      ]
     },
     "metadata": {},
     "output_type": "display_data"
    }
   ],
   "source": [
    "# ejercicio de examen 5\n",
    "\n",
    "n_ejercicio = 'ex01e05'\n",
    "\n",
    "pre_enunciado_latex = [[r'x^{27}-kx+3k-4', r'x-1', r'5'],\n",
    "                      [r'x^{27}-kx+3k-4', r'x+1', r'11'],\n",
    "                      [r'x^{25}-kx+3k-4', r'x+1', r'11'],\n",
    "                      [r'x^{25}-kx+3k-4', r'x-1', r'3'],\n",
    "                      [r'x^{25}-kx+3k-4', r'x+1', r'7']]\n",
    "\n",
    "texto_ejercicio = r'Calcula el valor de $k$ para que:'\n",
    "\n",
    "\n",
    "display(md(\"**\"+texto_ejercicio+\"**\"))\n",
    "\n",
    "\n",
    "enunciado_latex, enunciado, solucion = [],[],[]\n",
    "\n",
    "for i, s in enumerate(pre_enunciado_latex):\n",
    "    D = parse_latex(s[0]).as_poly()\n",
    "    d = parse_latex(s[1]).as_poly()\n",
    "    r = parse_latex(s[2])\n",
    "    e = (D,d,r) \n",
    "    el= r'El \\ resto \\ de \\ dividir \\ P(x)=%s \\ entre\\  %s \\ sea \\ %s ' % (s[0],s[1],s[2])\n",
    "    \n",
    "    enunciado_latex.append(el)\n",
    "    \n",
    "    s=(D.subs(x,d.real_roots()[0]).as_poly()-r).real_roots()[0]\n",
    "    sl=latex(s)\n",
    "    solucion.append(sl)\n",
    "    display(md('$'+el+' \\\\rightarrow Solución:  '+sl+'$'))\n",
    "    \n",
    "\n",
    "#df_ejercicios = df_ejercicios.append(añadir_ejercicios(enunciado_latex, enunciado, solucion, texto_ejercicio, curso, titulo, n_ejercicio, 1, 3, 0.5), ignore_index=True)\n"
   ]
  },
  {
   "cell_type": "code",
   "execution_count": 42,
   "metadata": {},
   "outputs": [
    {
     "data": {
      "image/png": "[encoded data removed]",
      "text/latex": [
       "$$7$$"
      ],
      "text/plain": [
       "7"
      ]
     },
     "execution_count": 42,
     "metadata": {},
     "output_type": "execute_result"
    }
   ],
   "source": [
    "p = x**25 - 3*x + 9 -4\n",
    "p.subs(x,-1)"
   ]
  },
  {
   "cell_type": "code",
   "execution_count": 29,
   "metadata": {},
   "outputs": [
    {
     "data": {
      "text/markdown": [
       "**Calcula el valor de $m$ para que:**"
      ],
      "text/plain": [
       "<IPython.core.display.Markdown object>"
      ]
     },
     "metadata": {},
     "output_type": "display_data"
    },
    {
     "data": {
      "text/markdown": [
       "$P(x)=x^2+mx-16 \\ tenga\\ dos \\ raíces \\ opuestas \\rightarrow Solución:  \\left [ 1, \\quad m, \\quad -16\\right ]\\to \\left [ 0\\right ]$"
      ],
      "text/plain": [
       "<IPython.core.display.Markdown object>"
      ]
     },
     "metadata": {},
     "output_type": "display_data"
    },
    {
     "data": {
      "text/markdown": [
       "$P(x)=\\frac{x^2}{9}+mx+\\frac{9}{25} \\ tenga\\ dos \\ raíces \\ opuestas \\rightarrow Solución:  \\left [ \\frac{1}{9}, \\quad m, \\quad \\frac{9}{25}\\right ]\\to \\left [ 0\\right ]$"
      ],
      "text/plain": [
       "<IPython.core.display.Markdown object>"
      ]
     },
     "metadata": {},
     "output_type": "display_data"
    },
    {
     "data": {
      "text/markdown": [
       "$P(x)=\\frac{x^2}{25}-mx+\\frac{4}{9} \\ tenga\\ dos \\ raíces \\ opuestas \\rightarrow Solución:  \\left [ \\frac{1}{25}, \\quad - m, \\quad \\frac{4}{9}\\right ]\\to \\left [ 0\\right ]$"
      ],
      "text/plain": [
       "<IPython.core.display.Markdown object>"
      ]
     },
     "metadata": {},
     "output_type": "display_data"
    }
   ],
   "source": [
    "# ejercicio de examen 5\n",
    "\n",
    "m = symbols('m')\n",
    "\n",
    "n_ejercicio = 'ex01e05'\n",
    "\n",
    "enunciado_latex = [r'x^2+mx-16',\n",
    "                  r'\\frac{x^2}{9}+mx+\\frac{9}{25}',\n",
    "                  r'\\frac{x^2}{25}-mx+\\frac{4}{9}']\n",
    "\n",
    "texto_ejercicio = r'Calcula el valor de $m$ para que:'\n",
    "\n",
    "\n",
    "display(md(\"**\"+texto_ejercicio+\"**\"))\n",
    "\n",
    "\n",
    "enunciado, solucion = [],[]\n",
    "\n",
    "for i, s in enumerate(enunciado_latex):\n",
    "\n",
    "    e = parse_latex(s) \n",
    "    el = r'P(x)=%s \\ tenga\\ dos \\ raíces \\ opuestas' % s\n",
    "    enunciado.append(e)\n",
    "    \n",
    "    s =  poly(e,x).all_coeffs()\n",
    "    sl=latex(s)\n",
    "    sl=sl +r'\\to '+latex(solve(-s[1]))\n",
    "    \n",
    "    solucion.append(sl)\n",
    "    display(md('$'+el+' \\\\rightarrow Solución:  '+sl+'$'))\n",
    "    \n",
    "\n",
    "#df_ejercicios = df_ejercicios.append(añadir_ejercicios(enunciado_latex, enunciado, solucion, texto_ejercicio, curso, titulo, n_ejercicio, 1, 3, 0.5), ignore_index=True)\n"
   ]
  },
  {
   "cell_type": "code",
   "execution_count": 27,
   "metadata": {},
   "outputs": [
    {
     "data": {
      "text/markdown": [
       "**Calcula el valor de $m$ para que:**"
      ],
      "text/plain": [
       "<IPython.core.display.Markdown object>"
      ]
     },
     "metadata": {},
     "output_type": "display_data"
    },
    {
     "data": {
      "text/markdown": [
       "$P(x)=4x^2+mx+9 \\ tenga\\ una \\ raíz \\ doble \\rightarrow Solución:  \\left [ 4, \\quad m, \\quad 9\\right ]\\to \\left [ -12, \\quad 12\\right ]$"
      ],
      "text/plain": [
       "<IPython.core.display.Markdown object>"
      ]
     },
     "metadata": {},
     "output_type": "display_data"
    },
    {
     "data": {
      "text/markdown": [
       "$P(x)=\\frac{x^2}{16}-mx+\\frac{9}{4} \\ tenga\\ una \\ raíz \\ doble \\rightarrow Solución:  \\left [ \\frac{1}{16}, \\quad - m, \\quad \\frac{9}{4}\\right ]\\to \\left [ - \\frac{3}{4}, \\quad \\frac{3}{4}\\right ]$"
      ],
      "text/plain": [
       "<IPython.core.display.Markdown object>"
      ]
     },
     "metadata": {},
     "output_type": "display_data"
    },
    {
     "data": {
      "text/markdown": [
       "$P(x)=\\frac{x^2}{4}-mx+\\frac{1}{16} \\ tenga\\ una \\ raíz \\ doble \\rightarrow Solución:  \\left [ \\frac{1}{4}, \\quad - m, \\quad \\frac{1}{16}\\right ]\\to \\left [ - \\frac{1}{4}, \\quad \\frac{1}{4}\\right ]$"
      ],
      "text/plain": [
       "<IPython.core.display.Markdown object>"
      ]
     },
     "metadata": {},
     "output_type": "display_data"
    }
   ],
   "source": [
    "# ejercicio de examen 5\n",
    "\n",
    "m = symbols('m')\n",
    "\n",
    "n_ejercicio = 'ex01e05'\n",
    "\n",
    "enunciado_latex = [r'4x^2-mx+9',\n",
    "                  r'\\frac{x^2}{16}-mx+\\frac{9}{4}',\n",
    "                  r'\\frac{x^2}{4}-mx+\\frac{1}{16}']\n",
    "\n",
    "texto_ejercicio = r'Calcula el valor de $m$ para que:'\n",
    "\n",
    "\n",
    "display(md(\"**\"+texto_ejercicio+\"**\"))\n",
    "\n",
    "\n",
    "enunciado, solucion = [],[]\n",
    "\n",
    "for i, s in enumerate(enunciado_latex):\n",
    "\n",
    "    e = parse_latex(s) \n",
    "    el = r'P(x)=%s \\ tenga\\ una \\ raíz \\ doble' % s\n",
    "    enunciado.append(e)\n",
    "    \n",
    "    s =  poly(e,x).all_coeffs()\n",
    "    sl=latex(s)\n",
    "    sl=sl +r'\\to '+latex(solve(s[1]**2-4*s[0]*s[2]))\n",
    "    \n",
    "    solucion.append(sl)\n",
    "    display(md('$'+el+' \\\\rightarrow Solución:  '+sl+'$'))\n",
    "    \n",
    "\n",
    "#df_ejercicios = df_ejercicios.append(añadir_ejercicios(enunciado_latex, enunciado, solucion, texto_ejercicio, curso, titulo, n_ejercicio, 1, 3, 0.5), ignore_index=True)\n"
   ]
  },
  {
   "cell_type": "code",
   "execution_count": 24,
   "metadata": {},
   "outputs": [
    {
     "data": {
      "text/markdown": [
       "**Calcula el valor de $m$ para que:**"
      ],
      "text/plain": [
       "<IPython.core.display.Markdown object>"
      ]
     },
     "metadata": {},
     "output_type": "display_data"
    },
    {
     "data": {
      "text/markdown": [
       "$P(x)=4x^2+mx+9 \\ no \\ tenga\\ ninguna \\ raíz \\ real \\rightarrow Solución:  \\left [ 4, \\quad m, \\quad 9\\right ]\\to -12 < m \\wedge m < 12$"
      ],
      "text/plain": [
       "<IPython.core.display.Markdown object>"
      ]
     },
     "metadata": {},
     "output_type": "display_data"
    },
    {
     "data": {
      "text/markdown": [
       "$P(x)=9x^2-mx+\\frac{1}{4} \\ no \\ tenga\\ ninguna \\ raíz \\ real \\rightarrow Solución:  \\left [ 9, \\quad - m, \\quad \\frac{1}{4}\\right ]\\to -3 < m \\wedge m < 3$"
      ],
      "text/plain": [
       "<IPython.core.display.Markdown object>"
      ]
     },
     "metadata": {},
     "output_type": "display_data"
    },
    {
     "data": {
      "text/markdown": [
       "$P(x)=16x^2-mx+\\frac{9}{4} \\ no \\ tenga\\ ninguna \\ raíz \\ real \\rightarrow Solución:  \\left [ 16, \\quad - m, \\quad \\frac{9}{4}\\right ]\\to -12 < m \\wedge m < 12$"
      ],
      "text/plain": [
       "<IPython.core.display.Markdown object>"
      ]
     },
     "metadata": {},
     "output_type": "display_data"
    }
   ],
   "source": [
    "# ejercicio de examen 5\n",
    "\n",
    "m = symbols('m')\n",
    "\n",
    "n_ejercicio = 'ex01e05'\n",
    "\n",
    "enunciado_latex = [r'4x^2+mx+9',\n",
    "                  r'9x^2-mx+\\frac{1}{4}',\n",
    "                  r'16x^2-mx+\\frac{9}{4}']\n",
    "\n",
    "texto_ejercicio = r'Calcula el valor de $m$ para que:'\n",
    "\n",
    "\n",
    "display(md(\"**\"+texto_ejercicio+\"**\"))\n",
    "\n",
    "\n",
    "enunciado, solucion = [],[]\n",
    "\n",
    "for i, s in enumerate(enunciado_latex):\n",
    "\n",
    "    e = parse_latex(s) \n",
    "    el = r'P(x)=%s \\ no \\ tenga\\ ninguna \\ raíz \\ real' % s\n",
    "    enunciado.append(e)\n",
    "    \n",
    "    s =  poly(e,x).all_coeffs()\n",
    "    sl=latex(s)\n",
    "    sl=sl +r'\\to '+latex(solve_univariate_inequality(s[1]**2-4*s[0]*s[2]<0,m))\n",
    "    \n",
    "    solucion.append(sl)\n",
    "    display(md('$'+el+' \\\\rightarrow Solución:  '+sl+'$'))\n",
    "    \n",
    "\n",
    "#df_ejercicios = df_ejercicios.append(añadir_ejercicios(enunciado_latex, enunciado, solucion, texto_ejercicio, curso, titulo, n_ejercicio, 1, 3, 0.5), ignore_index=True)\n"
   ]
  },
  {
   "cell_type": "code",
   "execution_count": 54,
   "metadata": {},
   "outputs": [
    {
     "data": {
      "image/png": "[encoded data removed]",
      "text/latex": [
       "$$x^{4} - \\frac{x^{2}}{2} + \\frac{1}{16}$$"
      ],
      "text/plain": [
       "      2     \n",
       " 4   x    1 \n",
       "x  - ── + ──\n",
       "     2    16"
      ]
     },
     "execution_count": 54,
     "metadata": {},
     "output_type": "execute_result"
    }
   ],
   "source": [
    "p=poly(expand((x+1/2)**2),domain=QQ)\n",
    "q=poly(expand((x+1/2)*(x-1/2)**2),domain=QQ)\n",
    "lcm_list([p,q]).as_expr()"
   ]
  },
  {
   "cell_type": "code",
   "execution_count": 112,
   "metadata": {},
   "outputs": [
    {
     "data": {
      "text/html": [
       "<div>\n",
       "<style scoped>\n",
       "    .dataframe tbody tr th:only-of-type {\n",
       "        vertical-align: middle;\n",
       "    }\n",
       "\n",
       "    .dataframe tbody tr th {\n",
       "        vertical-align: top;\n",
       "    }\n",
       "\n",
       "    .dataframe thead th {\n",
       "        text-align: right;\n",
       "    }\n",
       "</style>\n",
       "<table border=\"1\" class=\"dataframe\">\n",
       "  <thead>\n",
       "    <tr style=\"text-align: right;\">\n",
       "      <th></th>\n",
       "      <th>enunciado_latex</th>\n",
       "      <th>enunciado</th>\n",
       "      <th>solucion</th>\n",
       "      <th>texto</th>\n",
       "      <th>curso</th>\n",
       "      <th>titulo</th>\n",
       "      <th>n_ejercicio</th>\n",
       "      <th>dificultad</th>\n",
       "      <th>n_columnas</th>\n",
       "      <th>puntos</th>\n",
       "    </tr>\n",
       "  </thead>\n",
       "  <tbody>\n",
       "    <tr>\n",
       "      <th>0</th>\n",
       "      <td>A=\\left\\{ x \\in \\mathbb{R}| -2 \\leq x \\wedge x...</td>\n",
       "      <td>[Interval(-2, 5), Union(Interval.open(-oo, -1)...</td>\n",
       "      <td>A \\cup  B = \\left(-\\infty, \\infty\\right)  \\\\  ...</td>\n",
       "      <td>Dados los siguientes conjuntos A, B y C, repre...</td>\n",
       "      <td>1BC</td>\n",
       "      <td>Parcial 1</td>\n",
       "      <td>ex01e01</td>\n",
       "      <td>1</td>\n",
       "      <td>3</td>\n",
       "      <td>1</td>\n",
       "    </tr>\n",
       "    <tr>\n",
       "      <th>1</th>\n",
       "      <td>A=\\left\\{ x \\in \\mathbb{R}| 3 \\leq x \\wedge x ...</td>\n",
       "      <td>[Interval.Ropen(3, 8), Union(Interval.open(-oo...</td>\n",
       "      <td>A \\cup  B = \\left(-\\infty, 1\\right) \\cup \\left...</td>\n",
       "      <td>Dados los siguientes conjuntos A, B y C, repre...</td>\n",
       "      <td>1BC</td>\n",
       "      <td>Parcial 1</td>\n",
       "      <td>ex01e01</td>\n",
       "      <td>1</td>\n",
       "      <td>3</td>\n",
       "      <td>1</td>\n",
       "    </tr>\n",
       "    <tr>\n",
       "      <th>2</th>\n",
       "      <td>{\\binom{x}{2}} = 21</td>\n",
       "      <td>Eq(binomial(x, 2), 21)</td>\n",
       "      <td>\\left\\{7\\right\\}</td>\n",
       "      <td>Resolver las ecuaciones:</td>\n",
       "      <td>1BC</td>\n",
       "      <td>Parcial 1</td>\n",
       "      <td>ex01e02</td>\n",
       "      <td>1</td>\n",
       "      <td>3</td>\n",
       "      <td>1</td>\n",
       "    </tr>\n",
       "    <tr>\n",
       "      <th>3</th>\n",
       "      <td>{\\binom{x}{2}} = 28</td>\n",
       "      <td>Eq(binomial(x, 2), 28)</td>\n",
       "      <td>\\left\\{8\\right\\}</td>\n",
       "      <td>Resolver las ecuaciones:</td>\n",
       "      <td>1BC</td>\n",
       "      <td>Parcial 1</td>\n",
       "      <td>ex01e02</td>\n",
       "      <td>1</td>\n",
       "      <td>3</td>\n",
       "      <td>1</td>\n",
       "    </tr>\n",
       "    <tr>\n",
       "      <th>4</th>\n",
       "      <td>{\\binom{x}{x - 2}} = 10</td>\n",
       "      <td>Eq(binomial(x, x - 2), 10)</td>\n",
       "      <td>\\left\\{5\\right\\}</td>\n",
       "      <td>Resolver las ecuaciones:</td>\n",
       "      <td>1BC</td>\n",
       "      <td>Parcial 1</td>\n",
       "      <td>ex01e02</td>\n",
       "      <td>1</td>\n",
       "      <td>3</td>\n",
       "      <td>1</td>\n",
       "    </tr>\n",
       "    <tr>\n",
       "      <th>5</th>\n",
       "      <td>{\\binom{x}{x - 2}} = 28</td>\n",
       "      <td>Eq(binomial(x, x - 2), 28)</td>\n",
       "      <td>\\left\\{8\\right\\}</td>\n",
       "      <td>Resolver las ecuaciones:</td>\n",
       "      <td>1BC</td>\n",
       "      <td>Parcial 1</td>\n",
       "      <td>ex01e02</td>\n",
       "      <td>1</td>\n",
       "      <td>3</td>\n",
       "      <td>1</td>\n",
       "    </tr>\n",
       "    <tr>\n",
       "      <th>6</th>\n",
       "      <td>{\\binom{23}{x}} = \\binom{23}{3x-1}}</td>\n",
       "      <td>Eq(binomial(23, x), binomial(23, 3*x - 1))</td>\n",
       "      <td>\\left\\{x \\mid x \\in \\mathbb{N} \\wedge {\\binom{...</td>\n",
       "      <td>Resolver las ecuaciones:</td>\n",
       "      <td>1BC</td>\n",
       "      <td>Parcial 1</td>\n",
       "      <td>ex01e02</td>\n",
       "      <td>1</td>\n",
       "      <td>3</td>\n",
       "      <td>1</td>\n",
       "    </tr>\n",
       "    <tr>\n",
       "      <th>7</th>\n",
       "      <td>{\\binom{23}{x}} = \\binom{23}{3x-1}}</td>\n",
       "      <td>Eq(binomial(23, x), binomial(23, 3*x - 1))</td>\n",
       "      <td>\\left\\{x \\mid x \\in \\mathbb{N} \\wedge {\\binom{...</td>\n",
       "      <td>Resolver las ecuaciones:</td>\n",
       "      <td>1BC</td>\n",
       "      <td>Parcial 1</td>\n",
       "      <td>ex01e02</td>\n",
       "      <td>1</td>\n",
       "      <td>3</td>\n",
       "      <td>1</td>\n",
       "    </tr>\n",
       "    <tr>\n",
       "      <th>8</th>\n",
       "      <td>{\\binom{23}{x}} = \\binom{23}{3x-1}}</td>\n",
       "      <td>Eq(binomial(23, x), binomial(23, 3*x - 1))</td>\n",
       "      <td>\\left\\{x \\mid x \\in \\mathbb{N} \\wedge {\\binom{...</td>\n",
       "      <td>Resolver las ecuaciones:</td>\n",
       "      <td>1BC</td>\n",
       "      <td>Parcial 1</td>\n",
       "      <td>ex01e02</td>\n",
       "      <td>1</td>\n",
       "      <td>3</td>\n",
       "      <td>1</td>\n",
       "    </tr>\n",
       "    <tr>\n",
       "      <th>9</th>\n",
       "      <td>{\\binom{23}{x}} = \\binom{23}{3x-1}}</td>\n",
       "      <td>Eq(binomial(23, x), binomial(23, 3*x - 1))</td>\n",
       "      <td></td>\n",
       "      <td>Resolver las ecuaciones:</td>\n",
       "      <td>1BC</td>\n",
       "      <td>Parcial 1</td>\n",
       "      <td>ex01e02</td>\n",
       "      <td>1</td>\n",
       "      <td>3</td>\n",
       "      <td>1</td>\n",
       "    </tr>\n",
       "    <tr>\n",
       "      <th>10</th>\n",
       "      <td>{\\binom{23}{x}} = \\binom{23}{3x-1}}</td>\n",
       "      <td>Eq(binomial(23, x), binomial(23, 3*x - 1))</td>\n",
       "      <td></td>\n",
       "      <td>Resolver las ecuaciones:</td>\n",
       "      <td>1BC</td>\n",
       "      <td>Parcial 1</td>\n",
       "      <td>ex01e02</td>\n",
       "      <td>1</td>\n",
       "      <td>3</td>\n",
       "      <td>1</td>\n",
       "    </tr>\n",
       "    <tr>\n",
       "      <th>11</th>\n",
       "      <td>{\\binom{23}{x}} = \\binom{23}{3x-1}}</td>\n",
       "      <td>Eq(binomial(23, x), binomial(23, 3*x - 1))</td>\n",
       "      <td></td>\n",
       "      <td>Resolver las ecuaciones:</td>\n",
       "      <td>1BC</td>\n",
       "      <td>Parcial 1</td>\n",
       "      <td>ex01e02</td>\n",
       "      <td>1</td>\n",
       "      <td>3</td>\n",
       "      <td>1</td>\n",
       "    </tr>\n",
       "    <tr>\n",
       "      <th>12</th>\n",
       "      <td>{\\binom{23}{x}} = \\binom{23}{3x-1}</td>\n",
       "      <td>Eq(binomial(23, x), binomial(23, 3*x - 1))</td>\n",
       "      <td></td>\n",
       "      <td>Resolver las ecuaciones:</td>\n",
       "      <td>1BC</td>\n",
       "      <td>Parcial 1</td>\n",
       "      <td>ex01e02</td>\n",
       "      <td>1</td>\n",
       "      <td>3</td>\n",
       "      <td>1</td>\n",
       "    </tr>\n",
       "    <tr>\n",
       "      <th>13</th>\n",
       "      <td>{\\binom{23}{x}} = \\binom{23}{3x-1}</td>\n",
       "      <td>Eq(binomial(23, x), binomial(23, 3*x - 1))</td>\n",
       "      <td>\\emptyset</td>\n",
       "      <td>Resolver las ecuaciones:</td>\n",
       "      <td>1BC</td>\n",
       "      <td>Parcial 1</td>\n",
       "      <td>ex01e02</td>\n",
       "      <td>1</td>\n",
       "      <td>3</td>\n",
       "      <td>1</td>\n",
       "    </tr>\n",
       "    <tr>\n",
       "      <th>14</th>\n",
       "      <td>{\\binom{23}{x}} = \\binom{23}{3x-1}</td>\n",
       "      <td>Eq(binomial(23, x), binomial(23, 3*x - 1))</td>\n",
       "      <td>\\emptyset</td>\n",
       "      <td>Resolver las ecuaciones:</td>\n",
       "      <td>1BC</td>\n",
       "      <td>Parcial 1</td>\n",
       "      <td>ex01e02</td>\n",
       "      <td>1</td>\n",
       "      <td>3</td>\n",
       "      <td>1</td>\n",
       "    </tr>\n",
       "    <tr>\n",
       "      <th>15</th>\n",
       "      <td>{\\binom{23}{x}} = \\binom{23}{3x-1}</td>\n",
       "      <td>Eq(binomial(23, x), binomial(23, 3*x - 1))</td>\n",
       "      <td>\\left\\{6\\right\\}</td>\n",
       "      <td>Resolver las ecuaciones:</td>\n",
       "      <td>1BC</td>\n",
       "      <td>Parcial 1</td>\n",
       "      <td>ex01e02</td>\n",
       "      <td>1</td>\n",
       "      <td>3</td>\n",
       "      <td>1</td>\n",
       "    </tr>\n",
       "    <tr>\n",
       "      <th>16</th>\n",
       "      <td>{\\binom{23}{x}} = \\binom{23}{3x-1}</td>\n",
       "      <td>Eq(binomial(23, x), binomial(23, 3*x - 1))</td>\n",
       "      <td>\\left\\{6\\right\\}</td>\n",
       "      <td>Resolver las ecuaciones:</td>\n",
       "      <td>1BC</td>\n",
       "      <td>Parcial 1</td>\n",
       "      <td>ex01e02</td>\n",
       "      <td>1</td>\n",
       "      <td>3</td>\n",
       "      <td>1</td>\n",
       "    </tr>\n",
       "    <tr>\n",
       "      <th>17</th>\n",
       "      <td>{\\binom{39}{5+2x}} = \\binom{39}{2x-2}</td>\n",
       "      <td>Eq(binomial(39, 2*x + 5), binomial(39, 2*x - 2))</td>\n",
       "      <td>\\left\\{9\\right\\}</td>\n",
       "      <td>Resolver las ecuaciones:</td>\n",
       "      <td>1BC</td>\n",
       "      <td>Parcial 1</td>\n",
       "      <td>ex01e02</td>\n",
       "      <td>1</td>\n",
       "      <td>3</td>\n",
       "      <td>1</td>\n",
       "    </tr>\n",
       "    <tr>\n",
       "      <th>18</th>\n",
       "      <td>{\\binom{23}{x}} = \\binom{23}{3x-1}</td>\n",
       "      <td>Eq(binomial(23, x), binomial(23, 3*x - 1))</td>\n",
       "      <td>\\left\\{6\\right\\}</td>\n",
       "      <td>Resolver las ecuaciones:</td>\n",
       "      <td>1BC</td>\n",
       "      <td>Parcial 1</td>\n",
       "      <td>ex01e02</td>\n",
       "      <td>1</td>\n",
       "      <td>3</td>\n",
       "      <td>1</td>\n",
       "    </tr>\n",
       "    <tr>\n",
       "      <th>19</th>\n",
       "      <td>{\\binom{39}{5+2x}} = \\binom{39}{2x-2}</td>\n",
       "      <td>Eq(binomial(39, 2*x + 5), binomial(39, 2*x - 2))</td>\n",
       "      <td>\\left\\{9\\right\\}</td>\n",
       "      <td>Resolver las ecuaciones:</td>\n",
       "      <td>1BC</td>\n",
       "      <td>Parcial 1</td>\n",
       "      <td>ex01e02</td>\n",
       "      <td>1</td>\n",
       "      <td>3</td>\n",
       "      <td>1</td>\n",
       "    </tr>\n",
       "    <tr>\n",
       "      <th>20</th>\n",
       "      <td>{\\binom{15}{x}} = \\binom{15}{x+1}</td>\n",
       "      <td>Eq(binomial(15, x), binomial(15, x + 1))</td>\n",
       "      <td>\\left\\{7\\right\\}</td>\n",
       "      <td>Resolver las ecuaciones:</td>\n",
       "      <td>1BC</td>\n",
       "      <td>Parcial 1</td>\n",
       "      <td>ex01e02</td>\n",
       "      <td>1</td>\n",
       "      <td>3</td>\n",
       "      <td>1</td>\n",
       "    </tr>\n",
       "    <tr>\n",
       "      <th>21</th>\n",
       "      <td>{\\binom{23}{x}} = \\binom{23}{3x-1}</td>\n",
       "      <td>Eq(binomial(23, x), binomial(23, 3*x - 1))</td>\n",
       "      <td>\\left\\{6\\right\\}</td>\n",
       "      <td>Resolver las ecuaciones:</td>\n",
       "      <td>1BC</td>\n",
       "      <td>Parcial 1</td>\n",
       "      <td>ex01e02</td>\n",
       "      <td>1</td>\n",
       "      <td>3</td>\n",
       "      <td>1</td>\n",
       "    </tr>\n",
       "    <tr>\n",
       "      <th>22</th>\n",
       "      <td>{\\binom{39}{5+2x}} = \\binom{39}{2x-2}</td>\n",
       "      <td>Eq(binomial(39, 2*x + 5), binomial(39, 2*x - 2))</td>\n",
       "      <td>\\left\\{9\\right\\}</td>\n",
       "      <td>Resolver las ecuaciones:</td>\n",
       "      <td>1BC</td>\n",
       "      <td>Parcial 1</td>\n",
       "      <td>ex01e02</td>\n",
       "      <td>1</td>\n",
       "      <td>3</td>\n",
       "      <td>1</td>\n",
       "    </tr>\n",
       "    <tr>\n",
       "      <th>23</th>\n",
       "      <td>{\\binom{15}{x}} = \\binom{15}{x+1}</td>\n",
       "      <td>Eq(binomial(15, x), binomial(15, x + 1))</td>\n",
       "      <td>\\left\\{7\\right\\}</td>\n",
       "      <td>Resolver las ecuaciones:</td>\n",
       "      <td>1BC</td>\n",
       "      <td>Parcial 1</td>\n",
       "      <td>ex01e02</td>\n",
       "      <td>1</td>\n",
       "      <td>3</td>\n",
       "      <td>1</td>\n",
       "    </tr>\n",
       "    <tr>\n",
       "      <th>24</th>\n",
       "      <td>{\\binom{x}{2}} = 21</td>\n",
       "      <td>Eq(binomial(x, 2), 21)</td>\n",
       "      <td>\\left\\{7\\right\\}</td>\n",
       "      <td>Resolver las ecuaciones:</td>\n",
       "      <td>1BC</td>\n",
       "      <td>Parcial 1</td>\n",
       "      <td>ex01e02</td>\n",
       "      <td>1</td>\n",
       "      <td>3</td>\n",
       "      <td>1</td>\n",
       "    </tr>\n",
       "    <tr>\n",
       "      <th>25</th>\n",
       "      <td>{\\binom{x}{2}} = 28</td>\n",
       "      <td>Eq(binomial(x, 2), 28)</td>\n",
       "      <td>\\left\\{8\\right\\}</td>\n",
       "      <td>Resolver las ecuaciones:</td>\n",
       "      <td>1BC</td>\n",
       "      <td>Parcial 1</td>\n",
       "      <td>ex01e02</td>\n",
       "      <td>1</td>\n",
       "      <td>3</td>\n",
       "      <td>1</td>\n",
       "    </tr>\n",
       "    <tr>\n",
       "      <th>26</th>\n",
       "      <td>{\\binom{x}{x - 2}} = 10</td>\n",
       "      <td>Eq(binomial(x, x - 2), 10)</td>\n",
       "      <td>\\left\\{5\\right\\}</td>\n",
       "      <td>Resolver las ecuaciones:</td>\n",
       "      <td>1BC</td>\n",
       "      <td>Parcial 1</td>\n",
       "      <td>ex01e02</td>\n",
       "      <td>1</td>\n",
       "      <td>3</td>\n",
       "      <td>1</td>\n",
       "    </tr>\n",
       "    <tr>\n",
       "      <th>27</th>\n",
       "      <td>{\\binom{x}{x - 2}} = 28</td>\n",
       "      <td>Eq(binomial(x, x - 2), 28)</td>\n",
       "      <td>\\left\\{8\\right\\}</td>\n",
       "      <td>Resolver las ecuaciones:</td>\n",
       "      <td>1BC</td>\n",
       "      <td>Parcial 1</td>\n",
       "      <td>ex01e02</td>\n",
       "      <td>1</td>\n",
       "      <td>3</td>\n",
       "      <td>1</td>\n",
       "    </tr>\n",
       "    <tr>\n",
       "      <th>28</th>\n",
       "      <td>{\\binom{23}{x}} = \\binom{23}{3x-1}</td>\n",
       "      <td>Eq(binomial(23, x), binomial(23, 3*x - 1))</td>\n",
       "      <td>\\left\\{6\\right\\}</td>\n",
       "      <td>Usando la definición y las propiedades de los ...</td>\n",
       "      <td>1BC</td>\n",
       "      <td>Parcial 1</td>\n",
       "      <td>ex01e02</td>\n",
       "      <td>1</td>\n",
       "      <td>3</td>\n",
       "      <td>1</td>\n",
       "    </tr>\n",
       "    <tr>\n",
       "      <th>29</th>\n",
       "      <td>{\\binom{39}{5+2x}} = \\binom{39}{2x-2}</td>\n",
       "      <td>Eq(binomial(39, 2*x + 5), binomial(39, 2*x - 2))</td>\n",
       "      <td>\\left\\{9\\right\\}</td>\n",
       "      <td>Usando la definición y las propiedades de los ...</td>\n",
       "      <td>1BC</td>\n",
       "      <td>Parcial 1</td>\n",
       "      <td>ex01e02</td>\n",
       "      <td>1</td>\n",
       "      <td>3</td>\n",
       "      <td>1</td>\n",
       "    </tr>\n",
       "    <tr>\n",
       "      <th>30</th>\n",
       "      <td>{\\binom{15}{x}} = \\binom{15}{x+1}</td>\n",
       "      <td>Eq(binomial(15, x), binomial(15, x + 1))</td>\n",
       "      <td>\\left\\{7\\right\\}</td>\n",
       "      <td>Usando la definición y las propiedades de los ...</td>\n",
       "      <td>1BC</td>\n",
       "      <td>Parcial 1</td>\n",
       "      <td>ex01e02</td>\n",
       "      <td>1</td>\n",
       "      <td>3</td>\n",
       "      <td>1</td>\n",
       "    </tr>\n",
       "    <tr>\n",
       "      <th>31</th>\n",
       "      <td>{\\binom{11}{3}} = {\\binom{12}{3}}-{\\binom{11}{x}}</td>\n",
       "      <td>[]</td>\n",
       "      <td></td>\n",
       "      <td>Usando la definición y las propiedades de los ...</td>\n",
       "      <td>1BC</td>\n",
       "      <td>Parcial 1</td>\n",
       "      <td>ex01e02</td>\n",
       "      <td>1</td>\n",
       "      <td>3</td>\n",
       "      <td>1</td>\n",
       "    </tr>\n",
       "    <tr>\n",
       "      <th>32</th>\n",
       "      <td>{\\binom{11}{3}} = {\\binom{12}{3}}-{\\binom{11}{x}}</td>\n",
       "      <td>[Eq(-x + 3, 1)]</td>\n",
       "      <td></td>\n",
       "      <td>Usando la definición y las propiedades de los ...</td>\n",
       "      <td>1BC</td>\n",
       "      <td>Parcial 1</td>\n",
       "      <td>ex01e02</td>\n",
       "      <td>1</td>\n",
       "      <td>3</td>\n",
       "      <td>1</td>\n",
       "    </tr>\n",
       "    <tr>\n",
       "      <th>33</th>\n",
       "      <td>{\\binom{11}{3}} = {\\binom{12}{3}}-{\\binom{11}{x}}</td>\n",
       "      <td>Eq(-x + 3, 1)</td>\n",
       "      <td>\\left\\{2\\right\\}</td>\n",
       "      <td>Usando la definición y las propiedades de los ...</td>\n",
       "      <td>1BC</td>\n",
       "      <td>Parcial 1</td>\n",
       "      <td>ex01e02</td>\n",
       "      <td>1</td>\n",
       "      <td>3</td>\n",
       "      <td>1</td>\n",
       "    </tr>\n",
       "    <tr>\n",
       "      <th>34</th>\n",
       "      <td>{\\binom{11}{3}} = {\\binom{12}{3}}-{\\binom{11}{x}}</td>\n",
       "      <td>Eq(-x + 3, 1)</td>\n",
       "      <td>\\left [ 2\\right ]</td>\n",
       "      <td>Usando la definición y las propiedades de los ...</td>\n",
       "      <td>1BC</td>\n",
       "      <td>Parcial 1</td>\n",
       "      <td>ex01e02</td>\n",
       "      <td>1</td>\n",
       "      <td>3</td>\n",
       "      <td>1</td>\n",
       "    </tr>\n",
       "    <tr>\n",
       "      <th>35</th>\n",
       "      <td>{\\binom{33}{x}} = {\\binom{33}{x+y}}-{\\binom{34...</td>\n",
       "      <td>[Eq(y, 1), Eq(x + y, 5)]</td>\n",
       "      <td>\\left \\{ x : 4, \\quad y : 1\\right \\}</td>\n",
       "      <td>Usando la definición y las propiedades de los ...</td>\n",
       "      <td>1BC</td>\n",
       "      <td>Parcial 1</td>\n",
       "      <td>ex01e02</td>\n",
       "      <td>1</td>\n",
       "      <td>3</td>\n",
       "      <td>1</td>\n",
       "    </tr>\n",
       "    <tr>\n",
       "      <th>36</th>\n",
       "      <td>{\\binom{11}{3}} = {\\binom{12}{3}}-{\\binom{11}{x}}</td>\n",
       "      <td>Eq(-x + 3, 1)</td>\n",
       "      <td>\\left [ 2\\right ]</td>\n",
       "      <td>Usando la definición y las propiedades de los ...</td>\n",
       "      <td>1BC</td>\n",
       "      <td>Parcial 1</td>\n",
       "      <td>ex01e02</td>\n",
       "      <td>1</td>\n",
       "      <td>3</td>\n",
       "      <td>1</td>\n",
       "    </tr>\n",
       "    <tr>\n",
       "      <th>37</th>\n",
       "      <td>{\\binom{33}{x}} = {\\binom{33}{x+y}}-{\\binom{34...</td>\n",
       "      <td>[Eq(y, 1), Eq(x + y, 5)]</td>\n",
       "      <td>\\left \\{ x : 4, \\quad y : 1\\right \\}</td>\n",
       "      <td>Usando la definición y las propiedades de los ...</td>\n",
       "      <td>1BC</td>\n",
       "      <td>Parcial 1</td>\n",
       "      <td>ex01e02</td>\n",
       "      <td>1</td>\n",
       "      <td>3</td>\n",
       "      <td>1</td>\n",
       "    </tr>\n",
       "    <tr>\n",
       "      <th>38</th>\n",
       "      <td>{\\binom{11}{3}} = {\\binom{12}{3}}-{\\binom{11}{x}}</td>\n",
       "      <td>Eq(-x + 3, 1)</td>\n",
       "      <td>\\left [ 2\\right ]</td>\n",
       "      <td>Usando la definición y las propiedades de los ...</td>\n",
       "      <td>1BC</td>\n",
       "      <td>Parcial 1</td>\n",
       "      <td>ex01e02</td>\n",
       "      <td>1</td>\n",
       "      <td>3</td>\n",
       "      <td>1</td>\n",
       "    </tr>\n",
       "    <tr>\n",
       "      <th>39</th>\n",
       "      <td>{\\binom{33}{x}} = {\\binom{33}{x+y}}-{\\binom{34...</td>\n",
       "      <td>[Eq(y, 1), Eq(x + y, 5)]</td>\n",
       "      <td>\\left \\{ x : 4, \\quad y : 1\\right \\}</td>\n",
       "      <td>Usando la definición y las propiedades de los ...</td>\n",
       "      <td>1BC</td>\n",
       "      <td>Parcial 1</td>\n",
       "      <td>ex01e02</td>\n",
       "      <td>1</td>\n",
       "      <td>3</td>\n",
       "      <td>1</td>\n",
       "    </tr>\n",
       "    <tr>\n",
       "      <th>40</th>\n",
       "      <td>{\\binom{11}{3}} = {\\binom{12}{3}}-{\\binom{11}{x}}</td>\n",
       "      <td>Eq(-x + 3, 1)</td>\n",
       "      <td>\\left [ 2\\right ]</td>\n",
       "      <td>Usando la definición y las propiedades de los ...</td>\n",
       "      <td>1BC</td>\n",
       "      <td>Parcial 1</td>\n",
       "      <td>ex01e02</td>\n",
       "      <td>1</td>\n",
       "      <td>3</td>\n",
       "      <td>1</td>\n",
       "    </tr>\n",
       "    <tr>\n",
       "      <th>41</th>\n",
       "      <td>{\\binom{33}{x}} = {\\binom{33}{x+y}}-{\\binom{34...</td>\n",
       "      <td>[Eq(y, 1), Eq(x + y, 5)]</td>\n",
       "      <td>\\left \\{ x : 4, \\quad y : 1\\right \\}</td>\n",
       "      <td>Usando la definición y las propiedades de los ...</td>\n",
       "      <td>1BC</td>\n",
       "      <td>Parcial 1</td>\n",
       "      <td>ex01e02</td>\n",
       "      <td>1</td>\n",
       "      <td>3</td>\n",
       "      <td>1</td>\n",
       "    </tr>\n",
       "    <tr>\n",
       "      <th>42</th>\n",
       "      <td>{\\binom{11}{3}} = {\\binom{12}{3}}-{\\binom{11}{x}}</td>\n",
       "      <td>Eq(-x + 3, 1)</td>\n",
       "      <td>\\left [ 2\\right ]</td>\n",
       "      <td>Usando la definición y las propiedades de los ...</td>\n",
       "      <td>1BC</td>\n",
       "      <td>Parcial 1</td>\n",
       "      <td>ex01e02</td>\n",
       "      <td>1</td>\n",
       "      <td>3</td>\n",
       "      <td>1</td>\n",
       "    </tr>\n",
       "    <tr>\n",
       "      <th>43</th>\n",
       "      <td>{\\binom{33}{x}} = {\\binom{33}{x+y}}-{\\binom{34...</td>\n",
       "      <td>[Eq(y, 1), Eq(x + y, 5)]</td>\n",
       "      <td>\\left \\{ x : 4, \\quad y : 1\\right \\}</td>\n",
       "      <td>Usando la definición y las propiedades de los ...</td>\n",
       "      <td>1BC</td>\n",
       "      <td>Parcial 1</td>\n",
       "      <td>ex01e02</td>\n",
       "      <td>1</td>\n",
       "      <td>3</td>\n",
       "      <td>1</td>\n",
       "    </tr>\n",
       "    <tr>\n",
       "      <th>44</th>\n",
       "      <td>{\\binom{20}{7}} - {\\binom{19}{x}}-{\\binom{19}{...</td>\n",
       "      <td>Eq(x + 1, 7)</td>\n",
       "      <td>\\left [ 6\\right ]</td>\n",
       "      <td>Usando la definición y las propiedades de los ...</td>\n",
       "      <td>1BC</td>\n",
       "      <td>Parcial 1</td>\n",
       "      <td>ex01e02</td>\n",
       "      <td>1</td>\n",
       "      <td>3</td>\n",
       "      <td>1</td>\n",
       "    </tr>\n",
       "    <tr>\n",
       "      <th>45</th>\n",
       "      <td>{\\binom{11}{3}} = {\\binom{12}{3}}-{\\binom{11}{x}}</td>\n",
       "      <td>Eq(-x + 3, 1)</td>\n",
       "      <td>\\left [ 2\\right ]</td>\n",
       "      <td>Usando la definición y las propiedades de los ...</td>\n",
       "      <td>1BC</td>\n",
       "      <td>Parcial 1</td>\n",
       "      <td>ex01e02</td>\n",
       "      <td>0.5</td>\n",
       "      <td>3</td>\n",
       "      <td>1</td>\n",
       "    </tr>\n",
       "    <tr>\n",
       "      <th>46</th>\n",
       "      <td>{\\binom{33}{x}} = {\\binom{33}{x+y}}-{\\binom{34...</td>\n",
       "      <td>[Eq(y, 1), Eq(x + y, 5)]</td>\n",
       "      <td>\\left \\{ x : 4, \\quad y : 1\\right \\}</td>\n",
       "      <td>Usando la definición y las propiedades de los ...</td>\n",
       "      <td>1BC</td>\n",
       "      <td>Parcial 1</td>\n",
       "      <td>ex01e02</td>\n",
       "      <td>0.5</td>\n",
       "      <td>3</td>\n",
       "      <td>1</td>\n",
       "    </tr>\n",
       "    <tr>\n",
       "      <th>47</th>\n",
       "      <td>{\\binom{20}{7}} - {\\binom{19}{x}}-{\\binom{19}{...</td>\n",
       "      <td>Eq(x + 1, 7)</td>\n",
       "      <td>\\left [ 6\\right ]</td>\n",
       "      <td>Usando la definición y las propiedades de los ...</td>\n",
       "      <td>1BC</td>\n",
       "      <td>Parcial 1</td>\n",
       "      <td>ex01e02</td>\n",
       "      <td>0.5</td>\n",
       "      <td>3</td>\n",
       "      <td>1</td>\n",
       "    </tr>\n",
       "    <tr>\n",
       "      <th>48</th>\n",
       "      <td>{\\binom{11}{3}} = {\\binom{12}{3}}-{\\binom{11}{x}}</td>\n",
       "      <td>Eq(-x + 3, 1)</td>\n",
       "      <td>\\left [ 2\\right ]</td>\n",
       "      <td>Usando la definición y las propiedades de los ...</td>\n",
       "      <td>1BC</td>\n",
       "      <td>Parcial 1</td>\n",
       "      <td>ex01e02</td>\n",
       "      <td>1</td>\n",
       "      <td>3</td>\n",
       "      <td>0.5</td>\n",
       "    </tr>\n",
       "    <tr>\n",
       "      <th>49</th>\n",
       "      <td>{\\binom{33}{x}} = {\\binom{33}{x+y}}-{\\binom{34...</td>\n",
       "      <td>[Eq(y, 1), Eq(x + y, 5)]</td>\n",
       "      <td>\\left \\{ x : 4, \\quad y : 1\\right \\}</td>\n",
       "      <td>Usando la definición y las propiedades de los ...</td>\n",
       "      <td>1BC</td>\n",
       "      <td>Parcial 1</td>\n",
       "      <td>ex01e02</td>\n",
       "      <td>1</td>\n",
       "      <td>3</td>\n",
       "      <td>0.5</td>\n",
       "    </tr>\n",
       "    <tr>\n",
       "      <th>50</th>\n",
       "      <td>{\\binom{20}{7}} - {\\binom{19}{x}}-{\\binom{19}{...</td>\n",
       "      <td>Eq(x + 1, 7)</td>\n",
       "      <td>\\left [ 6\\right ]</td>\n",
       "      <td>Usando la definición y las propiedades de los ...</td>\n",
       "      <td>1BC</td>\n",
       "      <td>Parcial 1</td>\n",
       "      <td>ex01e02</td>\n",
       "      <td>1</td>\n",
       "      <td>3</td>\n",
       "      <td>0.5</td>\n",
       "    </tr>\n",
       "  </tbody>\n",
       "</table>\n",
       "</div>"
      ],
      "text/plain": [
       "                                      enunciado_latex  \\\n",
       "0   A=\\left\\{ x \\in \\mathbb{R}| -2 \\leq x \\wedge x...   \n",
       "1   A=\\left\\{ x \\in \\mathbb{R}| 3 \\leq x \\wedge x ...   \n",
       "2                                 {\\binom{x}{2}} = 21   \n",
       "3                                 {\\binom{x}{2}} = 28   \n",
       "4                             {\\binom{x}{x - 2}} = 10   \n",
       "5                             {\\binom{x}{x - 2}} = 28   \n",
       "6                 {\\binom{23}{x}} = \\binom{23}{3x-1}}   \n",
       "7                 {\\binom{23}{x}} = \\binom{23}{3x-1}}   \n",
       "8                 {\\binom{23}{x}} = \\binom{23}{3x-1}}   \n",
       "9                 {\\binom{23}{x}} = \\binom{23}{3x-1}}   \n",
       "10                {\\binom{23}{x}} = \\binom{23}{3x-1}}   \n",
       "11                {\\binom{23}{x}} = \\binom{23}{3x-1}}   \n",
       "12                 {\\binom{23}{x}} = \\binom{23}{3x-1}   \n",
       "13                 {\\binom{23}{x}} = \\binom{23}{3x-1}   \n",
       "14                 {\\binom{23}{x}} = \\binom{23}{3x-1}   \n",
       "15                 {\\binom{23}{x}} = \\binom{23}{3x-1}   \n",
       "16                 {\\binom{23}{x}} = \\binom{23}{3x-1}   \n",
       "17              {\\binom{39}{5+2x}} = \\binom{39}{2x-2}   \n",
       "18                 {\\binom{23}{x}} = \\binom{23}{3x-1}   \n",
       "19              {\\binom{39}{5+2x}} = \\binom{39}{2x-2}   \n",
       "20                  {\\binom{15}{x}} = \\binom{15}{x+1}   \n",
       "21                 {\\binom{23}{x}} = \\binom{23}{3x-1}   \n",
       "22              {\\binom{39}{5+2x}} = \\binom{39}{2x-2}   \n",
       "23                  {\\binom{15}{x}} = \\binom{15}{x+1}   \n",
       "24                                {\\binom{x}{2}} = 21   \n",
       "25                                {\\binom{x}{2}} = 28   \n",
       "26                            {\\binom{x}{x - 2}} = 10   \n",
       "27                            {\\binom{x}{x - 2}} = 28   \n",
       "28                 {\\binom{23}{x}} = \\binom{23}{3x-1}   \n",
       "29              {\\binom{39}{5+2x}} = \\binom{39}{2x-2}   \n",
       "30                  {\\binom{15}{x}} = \\binom{15}{x+1}   \n",
       "31  {\\binom{11}{3}} = {\\binom{12}{3}}-{\\binom{11}{x}}   \n",
       "32  {\\binom{11}{3}} = {\\binom{12}{3}}-{\\binom{11}{x}}   \n",
       "33  {\\binom{11}{3}} = {\\binom{12}{3}}-{\\binom{11}{x}}   \n",
       "34  {\\binom{11}{3}} = {\\binom{12}{3}}-{\\binom{11}{x}}   \n",
       "35  {\\binom{33}{x}} = {\\binom{33}{x+y}}-{\\binom{34...   \n",
       "36  {\\binom{11}{3}} = {\\binom{12}{3}}-{\\binom{11}{x}}   \n",
       "37  {\\binom{33}{x}} = {\\binom{33}{x+y}}-{\\binom{34...   \n",
       "38  {\\binom{11}{3}} = {\\binom{12}{3}}-{\\binom{11}{x}}   \n",
       "39  {\\binom{33}{x}} = {\\binom{33}{x+y}}-{\\binom{34...   \n",
       "40  {\\binom{11}{3}} = {\\binom{12}{3}}-{\\binom{11}{x}}   \n",
       "41  {\\binom{33}{x}} = {\\binom{33}{x+y}}-{\\binom{34...   \n",
       "42  {\\binom{11}{3}} = {\\binom{12}{3}}-{\\binom{11}{x}}   \n",
       "43  {\\binom{33}{x}} = {\\binom{33}{x+y}}-{\\binom{34...   \n",
       "44  {\\binom{20}{7}} - {\\binom{19}{x}}-{\\binom{19}{...   \n",
       "45  {\\binom{11}{3}} = {\\binom{12}{3}}-{\\binom{11}{x}}   \n",
       "46  {\\binom{33}{x}} = {\\binom{33}{x+y}}-{\\binom{34...   \n",
       "47  {\\binom{20}{7}} - {\\binom{19}{x}}-{\\binom{19}{...   \n",
       "48  {\\binom{11}{3}} = {\\binom{12}{3}}-{\\binom{11}{x}}   \n",
       "49  {\\binom{33}{x}} = {\\binom{33}{x+y}}-{\\binom{34...   \n",
       "50  {\\binom{20}{7}} - {\\binom{19}{x}}-{\\binom{19}{...   \n",
       "\n",
       "                                            enunciado  \\\n",
       "0   [Interval(-2, 5), Union(Interval.open(-oo, -1)...   \n",
       "1   [Interval.Ropen(3, 8), Union(Interval.open(-oo...   \n",
       "2                              Eq(binomial(x, 2), 21)   \n",
       "3                              Eq(binomial(x, 2), 28)   \n",
       "4                          Eq(binomial(x, x - 2), 10)   \n",
       "5                          Eq(binomial(x, x - 2), 28)   \n",
       "6          Eq(binomial(23, x), binomial(23, 3*x - 1))   \n",
       "7          Eq(binomial(23, x), binomial(23, 3*x - 1))   \n",
       "8          Eq(binomial(23, x), binomial(23, 3*x - 1))   \n",
       "9          Eq(binomial(23, x), binomial(23, 3*x - 1))   \n",
       "10         Eq(binomial(23, x), binomial(23, 3*x - 1))   \n",
       "11         Eq(binomial(23, x), binomial(23, 3*x - 1))   \n",
       "12         Eq(binomial(23, x), binomial(23, 3*x - 1))   \n",
       "13         Eq(binomial(23, x), binomial(23, 3*x - 1))   \n",
       "14         Eq(binomial(23, x), binomial(23, 3*x - 1))   \n",
       "15         Eq(binomial(23, x), binomial(23, 3*x - 1))   \n",
       "16         Eq(binomial(23, x), binomial(23, 3*x - 1))   \n",
       "17   Eq(binomial(39, 2*x + 5), binomial(39, 2*x - 2))   \n",
       "18         Eq(binomial(23, x), binomial(23, 3*x - 1))   \n",
       "19   Eq(binomial(39, 2*x + 5), binomial(39, 2*x - 2))   \n",
       "20           Eq(binomial(15, x), binomial(15, x + 1))   \n",
       "21         Eq(binomial(23, x), binomial(23, 3*x - 1))   \n",
       "22   Eq(binomial(39, 2*x + 5), binomial(39, 2*x - 2))   \n",
       "23           Eq(binomial(15, x), binomial(15, x + 1))   \n",
       "24                             Eq(binomial(x, 2), 21)   \n",
       "25                             Eq(binomial(x, 2), 28)   \n",
       "26                         Eq(binomial(x, x - 2), 10)   \n",
       "27                         Eq(binomial(x, x - 2), 28)   \n",
       "28         Eq(binomial(23, x), binomial(23, 3*x - 1))   \n",
       "29   Eq(binomial(39, 2*x + 5), binomial(39, 2*x - 2))   \n",
       "30           Eq(binomial(15, x), binomial(15, x + 1))   \n",
       "31                                                 []   \n",
       "32                                    [Eq(-x + 3, 1)]   \n",
       "33                                      Eq(-x + 3, 1)   \n",
       "34                                      Eq(-x + 3, 1)   \n",
       "35                           [Eq(y, 1), Eq(x + y, 5)]   \n",
       "36                                      Eq(-x + 3, 1)   \n",
       "37                           [Eq(y, 1), Eq(x + y, 5)]   \n",
       "38                                      Eq(-x + 3, 1)   \n",
       "39                           [Eq(y, 1), Eq(x + y, 5)]   \n",
       "40                                      Eq(-x + 3, 1)   \n",
       "41                           [Eq(y, 1), Eq(x + y, 5)]   \n",
       "42                                      Eq(-x + 3, 1)   \n",
       "43                           [Eq(y, 1), Eq(x + y, 5)]   \n",
       "44                                       Eq(x + 1, 7)   \n",
       "45                                      Eq(-x + 3, 1)   \n",
       "46                           [Eq(y, 1), Eq(x + y, 5)]   \n",
       "47                                       Eq(x + 1, 7)   \n",
       "48                                      Eq(-x + 3, 1)   \n",
       "49                           [Eq(y, 1), Eq(x + y, 5)]   \n",
       "50                                       Eq(x + 1, 7)   \n",
       "\n",
       "                                             solucion  \\\n",
       "0   A \\cup  B = \\left(-\\infty, \\infty\\right)  \\\\  ...   \n",
       "1   A \\cup  B = \\left(-\\infty, 1\\right) \\cup \\left...   \n",
       "2                                    \\left\\{7\\right\\}   \n",
       "3                                    \\left\\{8\\right\\}   \n",
       "4                                    \\left\\{5\\right\\}   \n",
       "5                                    \\left\\{8\\right\\}   \n",
       "6   \\left\\{x \\mid x \\in \\mathbb{N} \\wedge {\\binom{...   \n",
       "7   \\left\\{x \\mid x \\in \\mathbb{N} \\wedge {\\binom{...   \n",
       "8   \\left\\{x \\mid x \\in \\mathbb{N} \\wedge {\\binom{...   \n",
       "9                                                       \n",
       "10                                                      \n",
       "11                                                      \n",
       "12                                                      \n",
       "13                                          \\emptyset   \n",
       "14                                          \\emptyset   \n",
       "15                                   \\left\\{6\\right\\}   \n",
       "16                                   \\left\\{6\\right\\}   \n",
       "17                                   \\left\\{9\\right\\}   \n",
       "18                                   \\left\\{6\\right\\}   \n",
       "19                                   \\left\\{9\\right\\}   \n",
       "20                                   \\left\\{7\\right\\}   \n",
       "21                                   \\left\\{6\\right\\}   \n",
       "22                                   \\left\\{9\\right\\}   \n",
       "23                                   \\left\\{7\\right\\}   \n",
       "24                                   \\left\\{7\\right\\}   \n",
       "25                                   \\left\\{8\\right\\}   \n",
       "26                                   \\left\\{5\\right\\}   \n",
       "27                                   \\left\\{8\\right\\}   \n",
       "28                                   \\left\\{6\\right\\}   \n",
       "29                                   \\left\\{9\\right\\}   \n",
       "30                                   \\left\\{7\\right\\}   \n",
       "31                                                      \n",
       "32                                                      \n",
       "33                                   \\left\\{2\\right\\}   \n",
       "34                                  \\left [ 2\\right ]   \n",
       "35               \\left \\{ x : 4, \\quad y : 1\\right \\}   \n",
       "36                                  \\left [ 2\\right ]   \n",
       "37               \\left \\{ x : 4, \\quad y : 1\\right \\}   \n",
       "38                                  \\left [ 2\\right ]   \n",
       "39               \\left \\{ x : 4, \\quad y : 1\\right \\}   \n",
       "40                                  \\left [ 2\\right ]   \n",
       "41               \\left \\{ x : 4, \\quad y : 1\\right \\}   \n",
       "42                                  \\left [ 2\\right ]   \n",
       "43               \\left \\{ x : 4, \\quad y : 1\\right \\}   \n",
       "44                                  \\left [ 6\\right ]   \n",
       "45                                  \\left [ 2\\right ]   \n",
       "46               \\left \\{ x : 4, \\quad y : 1\\right \\}   \n",
       "47                                  \\left [ 6\\right ]   \n",
       "48                                  \\left [ 2\\right ]   \n",
       "49               \\left \\{ x : 4, \\quad y : 1\\right \\}   \n",
       "50                                  \\left [ 6\\right ]   \n",
       "\n",
       "                                                texto curso     titulo  \\\n",
       "0   Dados los siguientes conjuntos A, B y C, repre...   1BC  Parcial 1   \n",
       "1   Dados los siguientes conjuntos A, B y C, repre...   1BC  Parcial 1   \n",
       "2                            Resolver las ecuaciones:   1BC  Parcial 1   \n",
       "3                            Resolver las ecuaciones:   1BC  Parcial 1   \n",
       "4                            Resolver las ecuaciones:   1BC  Parcial 1   \n",
       "5                            Resolver las ecuaciones:   1BC  Parcial 1   \n",
       "6                            Resolver las ecuaciones:   1BC  Parcial 1   \n",
       "7                            Resolver las ecuaciones:   1BC  Parcial 1   \n",
       "8                            Resolver las ecuaciones:   1BC  Parcial 1   \n",
       "9                            Resolver las ecuaciones:   1BC  Parcial 1   \n",
       "10                           Resolver las ecuaciones:   1BC  Parcial 1   \n",
       "11                           Resolver las ecuaciones:   1BC  Parcial 1   \n",
       "12                           Resolver las ecuaciones:   1BC  Parcial 1   \n",
       "13                           Resolver las ecuaciones:   1BC  Parcial 1   \n",
       "14                           Resolver las ecuaciones:   1BC  Parcial 1   \n",
       "15                           Resolver las ecuaciones:   1BC  Parcial 1   \n",
       "16                           Resolver las ecuaciones:   1BC  Parcial 1   \n",
       "17                           Resolver las ecuaciones:   1BC  Parcial 1   \n",
       "18                           Resolver las ecuaciones:   1BC  Parcial 1   \n",
       "19                           Resolver las ecuaciones:   1BC  Parcial 1   \n",
       "20                           Resolver las ecuaciones:   1BC  Parcial 1   \n",
       "21                           Resolver las ecuaciones:   1BC  Parcial 1   \n",
       "22                           Resolver las ecuaciones:   1BC  Parcial 1   \n",
       "23                           Resolver las ecuaciones:   1BC  Parcial 1   \n",
       "24                           Resolver las ecuaciones:   1BC  Parcial 1   \n",
       "25                           Resolver las ecuaciones:   1BC  Parcial 1   \n",
       "26                           Resolver las ecuaciones:   1BC  Parcial 1   \n",
       "27                           Resolver las ecuaciones:   1BC  Parcial 1   \n",
       "28  Usando la definición y las propiedades de los ...   1BC  Parcial 1   \n",
       "29  Usando la definición y las propiedades de los ...   1BC  Parcial 1   \n",
       "30  Usando la definición y las propiedades de los ...   1BC  Parcial 1   \n",
       "31  Usando la definición y las propiedades de los ...   1BC  Parcial 1   \n",
       "32  Usando la definición y las propiedades de los ...   1BC  Parcial 1   \n",
       "33  Usando la definición y las propiedades de los ...   1BC  Parcial 1   \n",
       "34  Usando la definición y las propiedades de los ...   1BC  Parcial 1   \n",
       "35  Usando la definición y las propiedades de los ...   1BC  Parcial 1   \n",
       "36  Usando la definición y las propiedades de los ...   1BC  Parcial 1   \n",
       "37  Usando la definición y las propiedades de los ...   1BC  Parcial 1   \n",
       "38  Usando la definición y las propiedades de los ...   1BC  Parcial 1   \n",
       "39  Usando la definición y las propiedades de los ...   1BC  Parcial 1   \n",
       "40  Usando la definición y las propiedades de los ...   1BC  Parcial 1   \n",
       "41  Usando la definición y las propiedades de los ...   1BC  Parcial 1   \n",
       "42  Usando la definición y las propiedades de los ...   1BC  Parcial 1   \n",
       "43  Usando la definición y las propiedades de los ...   1BC  Parcial 1   \n",
       "44  Usando la definición y las propiedades de los ...   1BC  Parcial 1   \n",
       "45  Usando la definición y las propiedades de los ...   1BC  Parcial 1   \n",
       "46  Usando la definición y las propiedades de los ...   1BC  Parcial 1   \n",
       "47  Usando la definición y las propiedades de los ...   1BC  Parcial 1   \n",
       "48  Usando la definición y las propiedades de los ...   1BC  Parcial 1   \n",
       "49  Usando la definición y las propiedades de los ...   1BC  Parcial 1   \n",
       "50  Usando la definición y las propiedades de los ...   1BC  Parcial 1   \n",
       "\n",
       "   n_ejercicio dificultad n_columnas puntos  \n",
       "0      ex01e01          1          3      1  \n",
       "1      ex01e01          1          3      1  \n",
       "2      ex01e02          1          3      1  \n",
       "3      ex01e02          1          3      1  \n",
       "4      ex01e02          1          3      1  \n",
       "5      ex01e02          1          3      1  \n",
       "6      ex01e02          1          3      1  \n",
       "7      ex01e02          1          3      1  \n",
       "8      ex01e02          1          3      1  \n",
       "9      ex01e02          1          3      1  \n",
       "10     ex01e02          1          3      1  \n",
       "11     ex01e02          1          3      1  \n",
       "12     ex01e02          1          3      1  \n",
       "13     ex01e02          1          3      1  \n",
       "14     ex01e02          1          3      1  \n",
       "15     ex01e02          1          3      1  \n",
       "16     ex01e02          1          3      1  \n",
       "17     ex01e02          1          3      1  \n",
       "18     ex01e02          1          3      1  \n",
       "19     ex01e02          1          3      1  \n",
       "20     ex01e02          1          3      1  \n",
       "21     ex01e02          1          3      1  \n",
       "22     ex01e02          1          3      1  \n",
       "23     ex01e02          1          3      1  \n",
       "24     ex01e02          1          3      1  \n",
       "25     ex01e02          1          3      1  \n",
       "26     ex01e02          1          3      1  \n",
       "27     ex01e02          1          3      1  \n",
       "28     ex01e02          1          3      1  \n",
       "29     ex01e02          1          3      1  \n",
       "30     ex01e02          1          3      1  \n",
       "31     ex01e02          1          3      1  \n",
       "32     ex01e02          1          3      1  \n",
       "33     ex01e02          1          3      1  \n",
       "34     ex01e02          1          3      1  \n",
       "35     ex01e02          1          3      1  \n",
       "36     ex01e02          1          3      1  \n",
       "37     ex01e02          1          3      1  \n",
       "38     ex01e02          1          3      1  \n",
       "39     ex01e02          1          3      1  \n",
       "40     ex01e02          1          3      1  \n",
       "41     ex01e02          1          3      1  \n",
       "42     ex01e02          1          3      1  \n",
       "43     ex01e02          1          3      1  \n",
       "44     ex01e02          1          3      1  \n",
       "45     ex01e02        0.5          3      1  \n",
       "46     ex01e02        0.5          3      1  \n",
       "47     ex01e02        0.5          3      1  \n",
       "48     ex01e02          1          3    0.5  \n",
       "49     ex01e02          1          3    0.5  \n",
       "50     ex01e02          1          3    0.5  "
      ]
     },
     "execution_count": 112,
     "metadata": {},
     "output_type": "execute_result"
    }
   ],
   "source": [
    "df_ejercicios"
   ]
  },
  {
   "cell_type": "code",
   "execution_count": 63,
   "metadata": {},
   "outputs": [],
   "source": [
    "df_ejercicios.to_csv('ejercicios_parcial1.csv', index = False)"
   ]
  }
 ],
 "metadata": {
  "kernelspec": {
   "display_name": "Python 3",
   "language": "python",
   "name": "python3"
  },
  "language_info": {
   "codemirror_mode": {
    "name": "ipython",
    "version": 3
   },
   "file_extension": ".py",
   "mimetype": "text/x-python",
   "name": "python",
   "nbconvert_exporter": "python",
   "pygments_lexer": "ipython3",
   "version": "3.6.5"
  }
 },
 "nbformat": 4,
 "nbformat_minor": 2
}
