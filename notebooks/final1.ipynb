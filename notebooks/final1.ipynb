{
 "cells": [
  {
   "cell_type": "code",
   "execution_count": 1,
   "metadata": {},
   "outputs": [
    {
     "name": "stdout",
     "output_type": "stream",
     "text": [
      "IPython console for SymPy 1.2 (Python 3.6.5-64-bit) (ground types: gmpy)\n",
      "\n",
      "These commands were executed:\n",
      ">>> from __future__ import division\n",
      ">>> from sympy import *\n",
      ">>> x, y, z, t = symbols('x y z t')\n",
      ">>> k, m, n = symbols('k m n', integer=True)\n",
      ">>> f, g, h = symbols('f g h', cls=Function)\n",
      ">>> init_printing()\n",
      "\n",
      "Documentation can be found at http://docs.sympy.org/1.2/\n",
      "\n"
     ]
    }
   ],
   "source": [
    "from sympy import init_session, prod\n",
    "from sympy.parsing.latex import parse_latex\n",
    "from sympy.parsing.sympy_parser import parse_expr\n",
    "from sympy.solvers.inequalities import solve_univariate_inequality\n",
    "from IPython.display import Markdown as md\n",
    "from IPython.display import display\n",
    "import pandas as pd\n",
    "\n",
    "from sympy import solve_poly_inequality, reduce_abs_inequality\n",
    "from sympy.solvers.inequalities import solve_univariate_inequality, reduce_rational_inequalities\n",
    "\n",
    "\n",
    "init_session()\n",
    "\n",
    "a, b, c, d = symbols('a b c d', real = True)\n",
    "from docparts import añadir_ejercicios, doc_ejer, escribir_preambulo, escribir_ejercicios, escribir_fin\n",
    "\n",
    "df_ejercicios = pd.DataFrame()\n",
    "\n",
    "fichero = 'final1'\n",
    "titulo = 'Final 1ª Ev.'\n",
    "curso = '1BC'\n"
   ]
  },
  {
   "cell_type": "code",
   "execution_count": 2,
   "metadata": {},
   "outputs": [],
   "source": [
    "def simbolo (operacion):\n",
    "    if operacion == '<=' :\n",
    "        return('\\leq')\n",
    "    elif operacion == '>=' :\n",
    "        return('\\geq')\n",
    "    else :\n",
    "        return(operacion)"
   ]
  },
  {
   "cell_type": "code",
   "execution_count": 3,
   "metadata": {},
   "outputs": [
    {
     "data": {
      "text/markdown": [
       "**Dados los siguientes conjuntos A, B y C, represéntalos en la recta real. A continuación, calcula $A \\cup  B$ , $A \\cap B$ y $(A \\cup B) \\cap C$ , \n",
       "y expresa los resultados en forma de Intervalos. \n",
       "Indica además, si existe, el máximo y el mínimo de cada uno de los conjuntos resultado.**"
      ],
      "text/plain": [
       "<IPython.core.display.Markdown object>"
      ]
     },
     "metadata": {},
     "output_type": "display_data"
    },
    {
     "data": {
      "text/markdown": [
       "$A=\\left\\{ x \\in \\mathbb{R}| -4 \\leq x \\wedge x \\leq 0 \\right\\}, \\\\ B=\\left(-\\infty, -1\\right) \\cup \\left(1, \\infty\\right)  y \\\\  C=\\left\\{ x \\in \\mathbb{R}| \\left|{x - 2}\\right|\\leq3 \\right\\} \\\\ \\rightarrow Solución:  C=\\left[-1, 5\\right] \\ \\ A \\cup  B = \\left(-\\infty, 0\\right] \\cup \\left(1, \\infty\\right)  \\\\  A \\cap B= \\left[-4, -1\\right)   \\\\  (A \\cup B) \\cap C= \\left[-1, 0\\right] \\cup \\left(1, 5\\right]$"
      ],
      "text/plain": [
       "<IPython.core.display.Markdown object>"
      ]
     },
     "metadata": {},
     "output_type": "display_data"
    },
    {
     "data": {
      "text/markdown": [
       "$A=\\left\\{ x \\in \\mathbb{R}| 3 \\leq x \\wedge x < 10 \\right\\}, \\\\ B=\\left(-\\infty, 1\\right) \\cup \\left(3, \\infty\\right)  y \\\\  C=\\left\\{ x \\in \\mathbb{R}| \\left|{x - 2}\\right|\\geq8 \\right\\} \\\\ \\rightarrow Solución:  C=\\left(-\\infty, -6\\right] \\cup \\left[10, \\infty\\right) \\ \\ A \\cup  B = \\left(-\\infty, 1\\right) \\cup \\left[3, \\infty\\right)  \\\\  A \\cap B= \\left(3, 10\\right)   \\\\  (A \\cup B) \\cap C= \\left(-\\infty, -6\\right] \\cup \\left[10, \\infty\\right)$"
      ],
      "text/plain": [
       "<IPython.core.display.Markdown object>"
      ]
     },
     "metadata": {},
     "output_type": "display_data"
    },
    {
     "data": {
      "text/markdown": [
       "$A=\\left\\{ x \\in \\mathbb{R}| 6 \\leq x \\wedge x < 8 \\right\\}, \\\\ B=\\left(-\\infty, -3\\right) \\cup \\left(3, \\infty\\right)  y \\\\  C=\\left\\{ x \\in \\mathbb{R}| \\left|{x - 3}\\right|\\leq12 \\right\\} \\\\ \\rightarrow Solución:  C=\\left[-9, 15\\right] \\ \\ A \\cup  B = \\left(-\\infty, -3\\right) \\cup \\left(3, \\infty\\right)  \\\\  A \\cap B= \\left[6, 8\\right)   \\\\  (A \\cup B) \\cap C= \\left[-9, -3\\right) \\cup \\left(3, 15\\right]$"
      ],
      "text/plain": [
       "<IPython.core.display.Markdown object>"
      ]
     },
     "metadata": {},
     "output_type": "display_data"
    }
   ],
   "source": [
    "# ejercicio de examen 1\n",
    "\n",
    "n_ejercicio = 'ex02e01'\n",
    "puntuacion = '1'\n",
    "\n",
    "texto_ejercicio = 'Dados los siguientes conjuntos A, B y C, represéntalos en la recta real. '\n",
    "texto_ejercicio = texto_ejercicio +\"\"\"A continuación, calcula $A \\cup  B$ , $A \\cap B$ y $(A \\cup B) \\cap C$ , \n",
    "y expresa los resultados en forma de Intervalos. \n",
    "Indica además, si existe, el máximo y el mínimo de cada uno de los conjuntos resultado.\"\"\"\n",
    "\n",
    "\n",
    "display(md(\"**\"+texto_ejercicio+\"**\"))\n",
    "\n",
    "\n",
    "enunciado =[[Interval(-4,0),Interval.open(-oo,-1).union(Interval.open(1,oo)),['Abs(x - 2)','<=','3']],\n",
    "           [Interval.Ropen(3,10),Interval.open(-oo,1).union(Interval.open(3,oo)),['Abs(x - 2)','>=','8']],\n",
    "           [Interval.Ropen(6,8),Interval.open(-oo,-3).union(Interval.open(3,oo)),['Abs(x - 3)','<=','12']]\n",
    "           ]\n",
    "\n",
    "enunciado_latex = []\n",
    "solucion = []\n",
    "\n",
    "for s in enunciado:\n",
    "    el = r\"\"\"A=\\left\\{ x \\in \\mathbb{R}| %s \\right\\}, \\\\ B=%s  y \\\\  C=\\left\\{ x \\in \\mathbb{R}| %s \\right\\} \\\\\"\"\"  % (latex(s[0].as_relational(x)), latex(s[1]), latex(S(s[2][0]))+simbolo(s[2][1])+latex(S(s[2][2])))\n",
    "\n",
    "    enunciado_latex.append(el)\n",
    "    \n",
    "    sl = r\"\"\"C=%s \\ \\ A \\cup  B = %s  \\\\  A \\cap B= %s   \\\\  (A \\cup B) \\cap C= %s\"\"\" % (latex(reduce_abs_inequalities([(S(s[2][0])-S(s[2][2]),s[2][1])], x).as_set()),latex(s[0].union(s[1])), latex(s[0].intersection(s[1])),  latex(s[0].union(s[1]).intersection(reduce_abs_inequalities([(S(s[2][0])-S(s[2][2]),s[2][1])], x).as_set())))\n",
    "    \n",
    "    solucion.append(sl)\n",
    "    display(md('$'+el+' \\\\rightarrow Solución:  '+sl+'$'))\n",
    "    \n",
    "\n",
    "df_ejercicios = df_ejercicios.append(añadir_ejercicios(enunciado_latex, enunciado, solucion, texto_ejercicio, curso, titulo, n_ejercicio, puntos = puntuacion), ignore_index=True)\n"
   ]
  },
  {
   "cell_type": "code",
   "execution_count": 4,
   "metadata": {},
   "outputs": [
    {
     "data": {
      "text/markdown": [
       "$\\frac{16\\cdot\\sqrt[3]{4}( {\\sqrt {2} } )^3}{\\sqrt{2\\sqrt [3] {4} } } \\rightarrow32 \\sqrt[3]{2}$"
      ],
      "text/plain": [
       "<IPython.core.display.Markdown object>"
      ]
     },
     "metadata": {},
     "output_type": "display_data"
    },
    {
     "data": {
      "text/markdown": [
       "$\\frac{{3\\sqrt{ 2 } - 2\\sqrt {3} }}{{3\\sqrt {2}  + 2\\sqrt {3} }} - \\frac{3}{{2\\sqrt {6 }}} \\rightarrow\\frac{- 7 \\sqrt{3} + 3 \\sqrt{2}}{2 \\left(2 \\sqrt{3} + 3 \\sqrt{2}\\right)}$"
      ],
      "text/plain": [
       "<IPython.core.display.Markdown object>"
      ]
     },
     "metadata": {},
     "output_type": "display_data"
    },
    {
     "data": {
      "text/markdown": [
       "${( {\\sqrt {7}  + \\sqrt {3} } )^2}\\cdot( {5 - \\sqrt {21} }) \\rightarrow8$"
      ],
      "text/plain": [
       "<IPython.core.display.Markdown object>"
      ]
     },
     "metadata": {},
     "output_type": "display_data"
    }
   ],
   "source": [
    "# ejercicio de examen 2\n",
    "\n",
    "n_ejercicio = 'ex02e02'\n",
    "puntuacion = '1'\n",
    "\n",
    "texto_ejercicio = 'Calcular:'\n",
    "\n",
    "enunciado_latex = [r'\\frac{16\\cdot\\sqrt[3]{4}( {\\sqrt {2} } )^3}{\\sqrt{2\\sqrt [3] {4} } }',\n",
    "                  r'\\frac{{3\\sqrt{ 2 } - 2\\sqrt {3} }}{{3\\sqrt {2}  + 2\\sqrt {3} }} - \\frac{3}{{2\\sqrt {6 }}}',\n",
    "                  r'{( {\\sqrt {7}  + \\sqrt {3} } )^2}\\cdot( {5 - \\sqrt {21} })'\n",
    "                  ]\n",
    "enunciado, solucion = [], []\n",
    "for s in enunciado_latex :\n",
    "    display(md(\"$\"+ s +\" \\\\rightarrow\" + latex(simplify(parse_latex(s)))+\"$\"))\n",
    "    enunciado.append(parse_latex(s))\n",
    "    solucion.append(latex(simplify(parse_latex(s)))) \n",
    "df_ejercicios = df_ejercicios.append(añadir_ejercicios(enunciado_latex, enunciado, solucion, texto_ejercicio, curso, titulo, n_ejercicio, puntos = puntuacion), ignore_index=True)\n"
   ]
  },
  {
   "cell_type": "code",
   "execution_count": 5,
   "metadata": {},
   "outputs": [
    {
     "data": {
      "text/markdown": [
       "$ 6 x - \\left(2 x - 1\\right) \\left(2 x + 1\\right) \\left(2 x + 3\\right) + 9 = 0\\to \\left\\{1\\right\\}$"
      ],
      "text/plain": [
       "<IPython.core.display.Markdown object>"
      ]
     },
     "metadata": {},
     "output_type": "display_data"
    }
   ],
   "source": [
    "# ejercicio de examen 3\n",
    "\n",
    "n_ejercicio = 'ex02e03'\n",
    "puntuacion = '1'\n",
    "\n",
    "texto_ejercicio = \"Resuelve mediante expresiones algebraicas:\"\n",
    "\n",
    "enunciado = [\n",
    "                          (2*x-1)+(2*x+1)+(2*x+3)-((2*x-1)*(2*x+1)*(2*x+3))+6\n",
    "            ]\n",
    "\n",
    "enunciado_latex, solucion = [\n",
    "    \n",
    "    'Halla tres números naturales e impares consecutivos sabiendo que su producto menos su suma vale 6.'\n",
    "                           ], []\n",
    "\n",
    "for i, s in enumerate(enunciado) :\n",
    "    sl = latex(Eq(enunciado[i],0))+ r'\\to ' + latex(solveset(enunciado[i],x, domain=S.Naturals)) \n",
    "    solucion.append(sl) \n",
    "    display(md(\"$ \" + solucion[i] +\"$\"))\n",
    "\n",
    "df_ejercicios = df_ejercicios.append(añadir_ejercicios(enunciado_latex, enunciado, solucion, texto_ejercicio, curso, titulo, n_ejercicio, puntos = puntuacion, enun_tex = False), ignore_index=True)\n"
   ]
  },
  {
   "cell_type": "code",
   "execution_count": 6,
   "metadata": {},
   "outputs": [
    {
     "data": {
      "text/markdown": [
       "**Resuelve:**"
      ],
      "text/plain": [
       "<IPython.core.display.Markdown object>"
      ]
     },
     "metadata": {},
     "output_type": "display_data"
    },
    {
     "data": {
      "text/markdown": [
       "$\\frac{{7 - x}}{{x + 4}} - \\frac{3}{{x - 5}} = \\frac{{26x - 25}}{{{x^2} - x - 20}} + \\frac{1}{3} \\rightarrow \\left [ - \\frac{23}{2}, \\quad -1\\right ]$"
      ],
      "text/plain": [
       "<IPython.core.display.Markdown object>"
      ]
     },
     "metadata": {},
     "output_type": "display_data"
    },
    {
     "data": {
      "text/markdown": [
       "$\\sqrt {x + 5}  - \\sqrt {x - 1}  = 2 \\rightarrow \\left [ \\frac{5}{4}\\right ]$"
      ],
      "text/plain": [
       "<IPython.core.display.Markdown object>"
      ]
     },
     "metadata": {},
     "output_type": "display_data"
    }
   ],
   "source": [
    "# ejercicio de examen 4\n",
    "\n",
    "n_ejercicio = 'ex02e04'\n",
    "puntuacion = '1'\n",
    "\n",
    "texto_ejercicio = \"Resuelve:\"\n",
    "\n",
    "display(md(\"**\"+texto_ejercicio+\"**\"))\n",
    "\n",
    "enunciado_latex = [r'\\frac{{7 - x}}{{x + 4}} - \\frac{3}{{x - 5}} = \\frac{{26x - 25}}{{{x^2} - x - 20}} + \\frac{1}{3}',\n",
    "                   r'\\sqrt {x + 5}  - \\sqrt {x - 1}  = 2'\n",
    "                   \n",
    "                ]\n",
    "\n",
    "enunciado, solucion = [], []\n",
    "\n",
    "for i, s in enumerate(enunciado_latex) : \n",
    "    en = parse_latex(s)\n",
    "    enunciado.append(en)\n",
    "    so = solve(en)\n",
    "    sol = latex(so)\n",
    "    solucion.append(sol) \n",
    "    display(md(\"$\"+ s +\" \\\\rightarrow \" + solucion[i] +\"$\"))\n",
    "\n",
    "\n",
    "df_ejercicios = df_ejercicios.append(añadir_ejercicios(enunciado_latex, enunciado, solucion, texto_ejercicio, curso, titulo, n_ejercicio, puntos = puntuacion), ignore_index=True)\n"
   ]
  },
  {
   "cell_type": "code",
   "execution_count": 7,
   "metadata": {},
   "outputs": [
    {
     "data": {
      "text/markdown": [
       "**Resolver :**"
      ],
      "text/plain": [
       "<IPython.core.display.Markdown object>"
      ]
     },
     "metadata": {},
     "output_type": "display_data"
    },
    {
     "data": {
      "text/markdown": [
       "$\\left\\{\\begin{matrix}{2^x} + {2^y} = 24\\\\{2^x} \\cdot {2^y} = 128\\end{matrix}\\right. \\rightarrow \\left [ \\left \\{ x : 3, \\quad y : 4\\right \\}, \\quad \\left \\{ x : 4, \\quad y : 3\\right \\}\\right ]$"
      ],
      "text/plain": [
       "<IPython.core.display.Markdown object>"
      ]
     },
     "metadata": {},
     "output_type": "display_data"
    }
   ],
   "source": [
    "# ejercicio de examen 5\n",
    "\n",
    "n_ejercicio = 'ex02e05'\n",
    "puntuacion = '1'\n",
    "\n",
    "texto_ejercicio = 'Resolver :'\n",
    "\n",
    "\n",
    "\n",
    "display(md(\"**\"+texto_ejercicio+\"**\"))\n",
    "\n",
    "\n",
    "pre_enunciado_latex = [[r'{2^x} + {2^y} = 24',r'{2^x} \\cdot {2^y} = 128'],\n",
    "                       \n",
    "                                             ]\n",
    "                       \n",
    "\n",
    "enunciado_latex,enunciado, solucion = [], [], []\n",
    "\n",
    "for i, s in enumerate(pre_enunciado_latex) :\n",
    "    enl = r\"\"\"\\left\\{\\begin{matrix}\"\"\"+ s[0] + r'\\\\' + s[1] + r\"\"\"\\end{matrix}\\right.\"\"\"\n",
    "    en = [eval(str(parse_latex(t))) for t in s]\n",
    "    so = solve(en)\n",
    "    enunciado_latex.append(enl)\n",
    "    enunciado.append(en)\n",
    "    so_l=latex(so)\n",
    "    solucion.append(so_l) \n",
    "    display(md(\"$\"+ enunciado_latex[i] +\" \\\\rightarrow \" + solucion[i] +\"$\"))    \n",
    "\n",
    "df_ejercicios = df_ejercicios.append(añadir_ejercicios(enunciado_latex, enunciado, solucion, texto_ejercicio, curso, titulo, n_ejercicio, puntos = puntuacion), ignore_index=True)\n"
   ]
  },
  {
   "cell_type": "code",
   "execution_count": 8,
   "metadata": {},
   "outputs": [
    {
     "data": {
      "text/markdown": [
       "**Resolver :**"
      ],
      "text/plain": [
       "<IPython.core.display.Markdown object>"
      ]
     },
     "metadata": {},
     "output_type": "display_data"
    },
    {
     "data": {
      "text/markdown": [
       "$\\log_{3}(3x - 1) - \\log_{3}(x + 1) = 2 \\rightarrow \\left [ - \\frac{5}{3}\\right ]$"
      ],
      "text/plain": [
       "<IPython.core.display.Markdown object>"
      ]
     },
     "metadata": {},
     "output_type": "display_data"
    },
    {
     "data": {
      "text/markdown": [
       "$2 \\log x - \\log (x + 6) = 3 \\log 2 \\rightarrow \\left [ 12\\right ]$"
      ],
      "text/plain": [
       "<IPython.core.display.Markdown object>"
      ]
     },
     "metadata": {},
     "output_type": "display_data"
    }
   ],
   "source": [
    "# ejercicio de examen 6 \n",
    "\n",
    "n_ejercicio = 'ex02e06'\n",
    "puntuacion = '1'\n",
    "\n",
    "texto_ejercicio = 'Resolver :'\n",
    "\n",
    "display(md(\"**\"+texto_ejercicio+\"**\"))\n",
    "\n",
    "enunciado_latex = [r'\\log_{3}(3x - 1) - \\log_{3}(x + 1) = 2',\n",
    "                  r'2 \\log x - \\log (x + 6) = 3 \\log 2',                   \n",
    "                ]\n",
    "\n",
    "enunciado, solucion = [], []\n",
    "\n",
    "for i, s in enumerate(enunciado_latex) : \n",
    "    en = parse_latex(s)\n",
    "    enunciado.append(en)\n",
    "    so = solve(eval(str(parse_latex(s))))\n",
    "    sol = latex(so)\n",
    "    solucion.append(sol) \n",
    "    display(md(\"$\"+ s +\" \\\\rightarrow \" + solucion[i] +\"$\"))\n",
    "\n",
    "df_ejercicios = df_ejercicios.append(añadir_ejercicios(enunciado_latex, enunciado, solucion, texto_ejercicio, curso, titulo, n_ejercicio, puntos = puntuacion), ignore_index=True)\n"
   ]
  },
  {
   "cell_type": "code",
   "execution_count": 9,
   "metadata": {},
   "outputs": [],
   "source": [
    "def sol_sist(sist):\n",
    "    # Función que recibe un sistema de ecuaciones en Latex y devuelve: \n",
    "    # El sistema en latex, la lista de exuaciones sympy, la solución y la matriz de ecuacuibes\n",
    "    \n",
    "    sist_latex = r\"\"\"\\left\\{\\begin{matrix}\"\"\"\n",
    "    eq = []\n",
    "    sb = EmptySet() # variables de las ecuaciones\n",
    "    \n",
    "    for i,e in enumerate(sist):\n",
    "        sist_latex = sist_latex + e + r'\\\\ '\n",
    "        eq.append(Eq(parse_latex(e[:e.find('=')]),parse_latex(e[e.find('=')+1:])).simplify())\n",
    "        sb = parse_latex(e[:e.find('=')]).free_symbols.union(sb)\n",
    "        sb = parse_latex(e[e.find('=')+1:]).free_symbols.union(sb)\n",
    "        \n",
    "       \n",
    "\n",
    "    sist_latex = sist_latex + r'\\end{matrix}\\right.'\n",
    "    \n",
    "    matriz = linear_eq_to_matrix(eq,list(sb))\n",
    "    matriz = matriz[0].row_join(matriz[1])\n",
    "    \n",
    "    return [sist_latex, eq, solve(eq), matriz]    "
   ]
  },
  {
   "cell_type": "code",
   "execution_count": 10,
   "metadata": {},
   "outputs": [
    {
     "data": {
      "text/markdown": [
       "**Discute el tipo de sistema y resuelve si es posible:**"
      ],
      "text/plain": [
       "<IPython.core.display.Markdown object>"
      ]
     },
     "metadata": {},
     "output_type": "display_data"
    },
    {
     "data": {
      "text/markdown": [
       "$\\left\\{\\begin{matrix}2x - y + z = 6\\\\ 2x + 2y - 4z = 2\\\\ x - 2y + 3z = 0\\\\ \\end{matrix}\\right. \\rightarrow \\left[\\begin{matrix}-1 & 2 & 1 & 6\\\\0 & 6 & -2 & 14\\\\0 & 0 & 0 & -5\\end{matrix}\\right] \\rightarrow  \\\\ \\left [ \\right ]$"
      ],
      "text/plain": [
       "<IPython.core.display.Markdown object>"
      ]
     },
     "metadata": {},
     "output_type": "display_data"
    },
    {
     "data": {
      "text/markdown": [
       "$\\left\\{\\begin{matrix}x + 2y - 3z = 9\\\\ 4x - 2y = 12\\\\ 4x + 3y - 6z = 24\\\\ \\end{matrix}\\right. \\rightarrow \\left[\\begin{matrix}2 & 1 & -3 & 9\\\\0 & 5 & -3 & 21\\\\0 & 0 & 0 & 0\\end{matrix}\\right] \\rightarrow  \\\\ \\left \\{ x : \\frac{3 z}{5} + \\frac{21}{5}, \\quad y : \\frac{6 z}{5} + \\frac{12}{5}\\right \\}$"
      ],
      "text/plain": [
       "<IPython.core.display.Markdown object>"
      ]
     },
     "metadata": {},
     "output_type": "display_data"
    }
   ],
   "source": [
    "# ejercicio de examen 7 \n",
    "\n",
    "n_ejercicio = 'ex02e07'\n",
    "puntuacion = '1'\n",
    "\n",
    "texto_ejercicio = 'Discute el tipo de sistema y resuelve si es posible:'\n",
    "\n",
    "display(md(\"**\"+texto_ejercicio+\"**\"))\n",
    "\n",
    "pre_enunciado_latex = [\n",
    "                       [r'2x - y + z = 6',r'2x + 2y - 4z = 2', r'x - 2y + 3z = 0'],\n",
    "                       [r'x + 2y - 3z = 9',r'4x - 2y = 12', r'4x + 3y - 6z = 24'],                       \n",
    "                      ]\n",
    "\n",
    "\n",
    "\n",
    "\n",
    "enunciado_latex,enunciado, solucion = [], [], []\n",
    "\n",
    "for i, s in enumerate(pre_enunciado_latex) :\n",
    "    enl, en , so, mat = sol_sist(s)\n",
    "    enunciado_latex.append(enl)\n",
    "    enunciado.append(en)\n",
    "    so_l=latex(mat.LUdecomposition()[1])+ r' \\rightarrow  \\\\ '+latex(so)\n",
    "    solucion.append(so_l) \n",
    "    display(md(\"$\"+ enunciado_latex[i] +\" \\\\rightarrow \" + solucion[i] +\"$\"))\n",
    "\n",
    "df_ejercicios = df_ejercicios.append(añadir_ejercicios(enunciado_latex, enunciado, solucion, texto_ejercicio, curso, titulo, n_ejercicio, puntos = puntuacion), ignore_index=True)\n"
   ]
  },
  {
   "cell_type": "code",
   "execution_count": 11,
   "metadata": {},
   "outputs": [
    {
     "data": {
      "text/markdown": [
       "**Usando la definición y las propiedades de los números combinatorios, resolver las ecuaciones:**"
      ],
      "text/plain": [
       "<IPython.core.display.Markdown object>"
      ]
     },
     "metadata": {},
     "output_type": "display_data"
    },
    {
     "data": {
      "text/markdown": [
       "${\\binom{31}{5+2x}} = \\binom{31}{2x-2} \\rightarrow Solución:  \\left\\{7\\right\\}$"
      ],
      "text/plain": [
       "<IPython.core.display.Markdown object>"
      ]
     },
     "metadata": {},
     "output_type": "display_data"
    },
    {
     "data": {
      "text/markdown": [
       "${\\binom{17}{x}} = \\binom{17}{x+1} \\rightarrow Solución:  \\left\\{8\\right\\}$"
      ],
      "text/plain": [
       "<IPython.core.display.Markdown object>"
      ]
     },
     "metadata": {},
     "output_type": "display_data"
    }
   ],
   "source": [
    "# ejercicio de examen 8\n",
    "\n",
    "n_ejercicio = 'ex02e08'\n",
    "puntuacion = '1'\n",
    "\n",
    "texto_ejercicio = 'Usando la definición y las propiedades de los números combinatorios, resolver las ecuaciones:'\n",
    "\n",
    "\n",
    "\n",
    "display(md(\"**\"+texto_ejercicio+\"**\"))\n",
    "\n",
    "\n",
    "enunciado =[\n",
    "           Eq(binomial(31,5+2*x),binomial(31,2*x-2)),\n",
    "           Eq(binomial(17,x),binomial(17,x+1))]\n",
    "           \n",
    "\n",
    "enunciado_latex = [\n",
    "                   r'{\\binom{31}{5+2x}} = \\binom{31}{2x-2}',\n",
    "                   r'{\\binom{17}{x}} = \\binom{17}{x+1}'\n",
    "                  ]\n",
    "solucion = []\n",
    "\n",
    "for i, s in enumerate(enunciado):\n",
    "    el=enunciado_latex[i]\n",
    "    sl=latex(solveset(s.args[0].args[1]-s.args[1].args[1], domain=S.Naturals).union(solveset(s.args[0].args[0]-s.args[0].args[1]-s.args[1].args[1], domain=S.Naturals)))\n",
    "    \n",
    "    solucion.append(sl)\n",
    "    display(md('$'+el+' \\\\rightarrow Solución:  '+sl+'$'))\n",
    "    \n",
    "\n",
    "df_ejercicios = df_ejercicios.append(añadir_ejercicios(enunciado_latex, enunciado, solucion, texto_ejercicio, curso, titulo, n_ejercicio, puntos = puntuacion), ignore_index=True)\n"
   ]
  },
  {
   "cell_type": "code",
   "execution_count": 12,
   "metadata": {},
   "outputs": [
    {
     "data": {
      "text/markdown": [
       "**Calcula el valor de $m$ para que:**"
      ],
      "text/plain": [
       "<IPython.core.display.Markdown object>"
      ]
     },
     "metadata": {},
     "output_type": "display_data"
    },
    {
     "data": {
      "text/markdown": [
       "$P(x)=4x^2+mx+9 \\ no \\ tenga\\ ninguna \\ ra \\acute \\imath z \\ real \\rightarrow Solución:  \\left [ 4, \\quad m, \\quad 9\\right ]\\to -12 < m \\wedge m < 12$"
      ],
      "text/plain": [
       "<IPython.core.display.Markdown object>"
      ]
     },
     "metadata": {},
     "output_type": "display_data"
    },
    {
     "data": {
      "text/markdown": [
       "$P(x)=9x^2-mx+\\frac{1}{4} \\ no \\ tenga\\ ninguna \\ ra \\acute \\imath z \\ real \\rightarrow Solución:  \\left [ 9, \\quad - m, \\quad \\frac{1}{4}\\right ]\\to -3 < m \\wedge m < 3$"
      ],
      "text/plain": [
       "<IPython.core.display.Markdown object>"
      ]
     },
     "metadata": {},
     "output_type": "display_data"
    },
    {
     "data": {
      "text/markdown": [
       "$P(x)=16x^2-mx+\\frac{9}{4} \\ no \\ tenga\\ ninguna \\ ra \\acute \\imath z \\ real \\rightarrow Solución:  \\left [ 16, \\quad - m, \\quad \\frac{9}{4}\\right ]\\to -12 < m \\wedge m < 12$"
      ],
      "text/plain": [
       "<IPython.core.display.Markdown object>"
      ]
     },
     "metadata": {},
     "output_type": "display_data"
    }
   ],
   "source": [
    "# ejercicio de examen 9\n",
    "\n",
    "m = symbols('m')\n",
    "puntuacion = 1\n",
    "\n",
    "n_ejercicio = 'ex02e09'\n",
    "\n",
    "pre_enunciado_latex = [r'4x^2+mx+9',\n",
    "                  r'9x^2-mx+\\frac{1}{4}',\n",
    "                  r'16x^2-mx+\\frac{9}{4}']\n",
    "\n",
    "texto_ejercicio = r'Calcula el valor de $m$ para que:'\n",
    "\n",
    "\n",
    "display(md(\"**\"+texto_ejercicio+\"**\"))\n",
    "\n",
    "\n",
    "enunciado_latex, enunciado, solucion = [],[], []\n",
    "\n",
    "for i, s in enumerate(pre_enunciado_latex):\n",
    "\n",
    "    e = parse_latex(s) \n",
    "    el = r'P(x)=%s \\ no \\ tenga\\ ninguna \\ ra \\acute \\imath z \\ real' % s\n",
    "    enunciado_latex.append(el)\n",
    "    enunciado.append(e)\n",
    "    \n",
    "    s =  poly(e,x).all_coeffs()\n",
    "    sl=latex(s)\n",
    "    sl=sl +r'\\to '+latex(solve_univariate_inequality(s[1]**2-4*s[0]*s[2]<0,m))\n",
    "    \n",
    "    solucion.append(sl)\n",
    "    display(md('$'+el+' \\\\rightarrow Solución:  '+sl+'$'))\n",
    "    \n",
    "\n",
    "df_ejercicios = df_ejercicios.append(añadir_ejercicios(enunciado_latex, enunciado, solucion, texto_ejercicio, curso, titulo, n_ejercicio, puntos = puntuacion), ignore_index=True)"
   ]
  },
  {
   "cell_type": "code",
   "execution_count": 13,
   "metadata": {},
   "outputs": [
    {
     "data": {
      "text/markdown": [
       "**Resuelve:**"
      ],
      "text/plain": [
       "<IPython.core.display.Markdown object>"
      ]
     },
     "metadata": {},
     "output_type": "display_data"
    },
    {
     "data": {
      "text/markdown": [
       "$\\frac{{3x - 2}}{{x - 1}} - \\frac{{3x + 2}}{{x + 1}} \\geq \\frac{{2x - 1}}{{x^2 - 1}} \\rightarrow \\left(-\\infty, -1\\right) \\cup \\left(1, \\infty\\right)$"
      ],
      "text/plain": [
       "<IPython.core.display.Markdown object>"
      ]
     },
     "metadata": {},
     "output_type": "display_data"
    },
    {
     "data": {
      "text/markdown": [
       "$\\frac{{{x^3} - 5{x^2} + 2x + 8}}{x^2+1} < 0 \\rightarrow \\left(-\\infty, -1\\right) \\cup \\left(2, 4\\right)$"
      ],
      "text/plain": [
       "<IPython.core.display.Markdown object>"
      ]
     },
     "metadata": {},
     "output_type": "display_data"
    }
   ],
   "source": [
    "# ejercicio de examen 10\n",
    "\n",
    "\n",
    "puntuacion = 1\n",
    "\n",
    "n_ejercicio = 'ex02e10'\n",
    "\n",
    "\n",
    "\n",
    "texto_ejercicio = r'Resuelve:'\n",
    "\n",
    "\n",
    "display(md(\"**\"+texto_ejercicio+\"**\"))\n",
    "\n",
    "enunciado_latex = [\n",
    "                   r'\\frac{{3x - 2}}{{x - 1}} - \\frac{{3x + 2}}{{x + 1}} \\geq \\frac{{2x - 1}}{{x^2 - 1}}',\n",
    "                   r'\\frac{{{x^3} - 5{x^2} + 2x + 8}}{x^2+1} < 0'\n",
    "                  ]\n",
    "\n",
    "enunciado, solucion = [], []\n",
    "\n",
    "for i, s in enumerate(enunciado_latex) : \n",
    "    en = parse_latex(s)\n",
    "    enunciado.append(en)\n",
    "    #so = solve_univariate_inequality(en, x, relational=False)\n",
    "    so = reduce_rational_inequalities([[en]],x).as_set()\n",
    "    sl = latex(so)\n",
    "    solucion.append(sl) \n",
    "    display(md(\"$\"+ s +\" \\\\rightarrow \" + solucion[i] +\"$\"))\n",
    "\n",
    "\n",
    "df_ejercicios = df_ejercicios.append(añadir_ejercicios(enunciado_latex, enunciado, solucion, texto_ejercicio, curso, titulo, n_ejercicio, puntos = puntuacion), ignore_index=True)"
   ]
  },
  {
   "cell_type": "code",
   "execution_count": 14,
   "metadata": {},
   "outputs": [
    {
     "data": {
      "text/markdown": [
       "**Calcula expresando el resultado en forma de fracción algebraica irreducible:**"
      ],
      "text/plain": [
       "<IPython.core.display.Markdown object>"
      ]
     },
     "metadata": {},
     "output_type": "display_data"
    },
    {
     "data": {
      "text/markdown": [
       "$\\frac{{x^3}-x^2 -4x + 4}{{x^2} - 3x + 2}:\\frac{{x^3} - {x^2} + 3x - 3}{{{x^3} + 3x}} \\rightarrow \\frac{x^{2} + 2 x}{x - 1}$"
      ],
      "text/plain": [
       "<IPython.core.display.Markdown object>"
      ]
     },
     "metadata": {},
     "output_type": "display_data"
    },
    {
     "data": {
      "text/markdown": [
       "$\\frac{2+{ \\frac{1}{x}}}{{2 + \\frac{1}{{1 + \\frac{1}{x}}}}} \\rightarrow \\frac{2 x^{2} + 3 x + 1}{3 x^{2} + 2 x}$"
      ],
      "text/plain": [
       "<IPython.core.display.Markdown object>"
      ]
     },
     "metadata": {},
     "output_type": "display_data"
    }
   ],
   "source": [
    "# ejercicio de examen 11\n",
    "\n",
    "\n",
    "puntuacion = 1\n",
    "\n",
    "n_ejercicio = 'ex02e11'\n",
    "\n",
    "\n",
    "\n",
    "texto_ejercicio = r'Calcula expresando el resultado en forma de fracción algebraica irreducible:'\n",
    "\n",
    "\n",
    "display(md(\"**\"+texto_ejercicio+\"**\"))\n",
    "\n",
    "enunciado_latex = [\n",
    "                   r'\\frac{{x^3}-x^2 -4x + 4}{{x^2} - 3x + 2}:\\frac{{x^3} - {x^2} + 3x - 3}{{{x^3} + 3x}}',\n",
    "                   r'\\frac{2+{ \\frac{1}{x}}}{{2 + \\frac{1}{{1 + \\frac{1}{x}}}}}'                   \n",
    "                  ]\n",
    "\n",
    "\n",
    "\n",
    "\n",
    "enunciado, solucion = [], []\n",
    "\n",
    "for i, s in enumerate(enunciado_latex) : \n",
    "    enunciado.append(parse_latex(s))\n",
    "    solucion.append(latex(cancel(parse_latex(s), domain = 'QQ<sqrt(2)>'))) \n",
    "    display(md(\"$\"+ s +\" \\\\rightarrow \" + solucion[i] +\"$\"))\n",
    "\n",
    "df_ejercicios = df_ejercicios.append(añadir_ejercicios(enunciado_latex, enunciado, solucion, texto_ejercicio, curso, titulo, n_ejercicio, puntos = puntuacion), ignore_index=True)"
   ]
  },
  {
   "cell_type": "code",
   "execution_count": 22,
   "metadata": {},
   "outputs": [
    {
     "data": {
      "image/png": "[encoded data removed]",
      "text/latex": [
       "$$\\frac{\\sqrt{2}}{14} + \\frac{2}{7}$$"
      ],
      "text/plain": [
       "√2   2\n",
       "── + ─\n",
       "14   7"
      ]
     },
     "execution_count": 22,
     "metadata": {},
     "output_type": "execute_result"
    }
   ],
   "source": [
    "simplify(parse_latex(r'\\frac{1}{{1 - \\sqrt {2} }} - \\frac{{3 + 3\\sqrt {2} }}{{\\sqrt {2} - 4}}'))"
   ]
  },
  {
   "cell_type": "code",
   "execution_count": 24,
   "metadata": {},
   "outputs": [
    {
     "data": {
      "image/png": "[encoded data removed]",
      "text/latex": [
       "$$2 \\sqrt[10]{2}$$"
      ],
      "text/plain": [
       "  10___\n",
       "2⋅╲╱ 2 "
      ]
     },
     "execution_count": 24,
     "metadata": {},
     "output_type": "execute_result"
    }
   ],
   "source": [
    "radsimp(parse_latex(r'\\frac{{\\sqrt[5]{2\\sqrt[4]{8}}  \\cdot\\sqrt {4\\sqrt[3]{2}} }}{{\\sqrt[12]{32} }}'))"
   ]
  },
  {
   "cell_type": "code",
   "execution_count": 15,
   "metadata": {},
   "outputs": [
    {
     "data": {
      "text/html": [
       "<div>\n",
       "<style scoped>\n",
       "    .dataframe tbody tr th:only-of-type {\n",
       "        vertical-align: middle;\n",
       "    }\n",
       "\n",
       "    .dataframe tbody tr th {\n",
       "        vertical-align: top;\n",
       "    }\n",
       "\n",
       "    .dataframe thead th {\n",
       "        text-align: right;\n",
       "    }\n",
       "</style>\n",
       "<table border=\"1\" class=\"dataframe\">\n",
       "  <thead>\n",
       "    <tr style=\"text-align: right;\">\n",
       "      <th></th>\n",
       "      <th>enunciado_latex</th>\n",
       "      <th>enunciado</th>\n",
       "      <th>solucion</th>\n",
       "      <th>texto</th>\n",
       "      <th>curso</th>\n",
       "      <th>titulo</th>\n",
       "      <th>n_ejercicio</th>\n",
       "      <th>dificultad</th>\n",
       "      <th>n_columnas</th>\n",
       "      <th>puntos</th>\n",
       "      <th>enun_tex</th>\n",
       "      <th>sol_tex</th>\n",
       "    </tr>\n",
       "  </thead>\n",
       "  <tbody>\n",
       "    <tr>\n",
       "      <th>0</th>\n",
       "      <td>A=\\left\\{ x \\in \\mathbb{R}| -4 \\leq x \\wedge x...</td>\n",
       "      <td>[Interval(-4, 0), Union(Interval.open(-oo, -1)...</td>\n",
       "      <td>C=\\left[-1, 5\\right] \\ \\ A \\cup  B = \\left(-\\i...</td>\n",
       "      <td>Dados los siguientes conjuntos A, B y C, repre...</td>\n",
       "      <td>1BC</td>\n",
       "      <td>Final 1ª Ev.</td>\n",
       "      <td>ex02e01</td>\n",
       "      <td>1</td>\n",
       "      <td>3</td>\n",
       "      <td>1</td>\n",
       "      <td>True</td>\n",
       "      <td>True</td>\n",
       "    </tr>\n",
       "    <tr>\n",
       "      <th>1</th>\n",
       "      <td>A=\\left\\{ x \\in \\mathbb{R}| 3 \\leq x \\wedge x ...</td>\n",
       "      <td>[Interval.Ropen(3, 10), Union(Interval.open(-o...</td>\n",
       "      <td>C=\\left(-\\infty, -6\\right] \\cup \\left[10, \\inf...</td>\n",
       "      <td>Dados los siguientes conjuntos A, B y C, repre...</td>\n",
       "      <td>1BC</td>\n",
       "      <td>Final 1ª Ev.</td>\n",
       "      <td>ex02e01</td>\n",
       "      <td>1</td>\n",
       "      <td>3</td>\n",
       "      <td>1</td>\n",
       "      <td>True</td>\n",
       "      <td>True</td>\n",
       "    </tr>\n",
       "    <tr>\n",
       "      <th>2</th>\n",
       "      <td>A=\\left\\{ x \\in \\mathbb{R}| 6 \\leq x \\wedge x ...</td>\n",
       "      <td>[Interval.Ropen(6, 8), Union(Interval.open(-oo...</td>\n",
       "      <td>C=\\left[-9, 15\\right] \\ \\ A \\cup  B = \\left(-\\...</td>\n",
       "      <td>Dados los siguientes conjuntos A, B y C, repre...</td>\n",
       "      <td>1BC</td>\n",
       "      <td>Final 1ª Ev.</td>\n",
       "      <td>ex02e01</td>\n",
       "      <td>1</td>\n",
       "      <td>3</td>\n",
       "      <td>1</td>\n",
       "      <td>True</td>\n",
       "      <td>True</td>\n",
       "    </tr>\n",
       "    <tr>\n",
       "      <th>3</th>\n",
       "      <td>\\frac{16\\cdot\\sqrt[3]{4}( {\\sqrt {2} } )^3}{\\s...</td>\n",
       "      <td>(16*(2**(2/3)*(sqrt(2))**3))/((2**(1/3)*sqrt(2)))</td>\n",
       "      <td>32 \\sqrt[3]{2}</td>\n",
       "      <td>Calcular:</td>\n",
       "      <td>1BC</td>\n",
       "      <td>Final 1ª Ev.</td>\n",
       "      <td>ex02e02</td>\n",
       "      <td>1</td>\n",
       "      <td>3</td>\n",
       "      <td>1</td>\n",
       "      <td>True</td>\n",
       "      <td>True</td>\n",
       "    </tr>\n",
       "    <tr>\n",
       "      <th>4</th>\n",
       "      <td>\\frac{{3\\sqrt{ 2 } - 2\\sqrt {3} }}{{3\\sqrt {2}...</td>\n",
       "      <td>-sqrt(6)/4 + (-2*sqrt(3) + 3*sqrt(2))/(2*sqrt(...</td>\n",
       "      <td>\\frac{- 7 \\sqrt{3} + 3 \\sqrt{2}}{2 \\left(2 \\sq...</td>\n",
       "      <td>Calcular:</td>\n",
       "      <td>1BC</td>\n",
       "      <td>Final 1ª Ev.</td>\n",
       "      <td>ex02e02</td>\n",
       "      <td>1</td>\n",
       "      <td>3</td>\n",
       "      <td>1</td>\n",
       "      <td>True</td>\n",
       "      <td>True</td>\n",
       "    </tr>\n",
       "    <tr>\n",
       "      <th>5</th>\n",
       "      <td>{( {\\sqrt {7}  + \\sqrt {3} } )^2}\\cdot( {5 - \\...</td>\n",
       "      <td>(-sqrt(21) + 5)*(sqrt(3) + sqrt(7))**2</td>\n",
       "      <td>8</td>\n",
       "      <td>Calcular:</td>\n",
       "      <td>1BC</td>\n",
       "      <td>Final 1ª Ev.</td>\n",
       "      <td>ex02e02</td>\n",
       "      <td>1</td>\n",
       "      <td>3</td>\n",
       "      <td>1</td>\n",
       "      <td>True</td>\n",
       "      <td>True</td>\n",
       "    </tr>\n",
       "    <tr>\n",
       "      <th>6</th>\n",
       "      <td>Halla tres números naturales e impares consecu...</td>\n",
       "      <td>6*x - (2*x - 1)*(2*x + 1)*(2*x + 3) + 9</td>\n",
       "      <td>6 x - \\left(2 x - 1\\right) \\left(2 x + 1\\right...</td>\n",
       "      <td>Resuelve mediante expresiones algebraicas:</td>\n",
       "      <td>1BC</td>\n",
       "      <td>Final 1ª Ev.</td>\n",
       "      <td>ex02e03</td>\n",
       "      <td>1</td>\n",
       "      <td>3</td>\n",
       "      <td>1</td>\n",
       "      <td>False</td>\n",
       "      <td>True</td>\n",
       "    </tr>\n",
       "    <tr>\n",
       "      <th>7</th>\n",
       "      <td>\\frac{{7 - x}}{{x + 4}} - \\frac{3}{{x - 5}} = ...</td>\n",
       "      <td>Eq((-x + 7)/(x + 4) - 3/(x - 5), (26*x - 25)/(...</td>\n",
       "      <td>\\left [ - \\frac{23}{2}, \\quad -1\\right ]</td>\n",
       "      <td>Resuelve:</td>\n",
       "      <td>1BC</td>\n",
       "      <td>Final 1ª Ev.</td>\n",
       "      <td>ex02e04</td>\n",
       "      <td>1</td>\n",
       "      <td>3</td>\n",
       "      <td>1</td>\n",
       "      <td>True</td>\n",
       "      <td>True</td>\n",
       "    </tr>\n",
       "    <tr>\n",
       "      <th>8</th>\n",
       "      <td>\\sqrt {x + 5}  - \\sqrt {x - 1}  = 2</td>\n",
       "      <td>Eq(-sqrt(x - 1) + sqrt(x + 5), 2)</td>\n",
       "      <td>\\left [ \\frac{5}{4}\\right ]</td>\n",
       "      <td>Resuelve:</td>\n",
       "      <td>1BC</td>\n",
       "      <td>Final 1ª Ev.</td>\n",
       "      <td>ex02e04</td>\n",
       "      <td>1</td>\n",
       "      <td>3</td>\n",
       "      <td>1</td>\n",
       "      <td>True</td>\n",
       "      <td>True</td>\n",
       "    </tr>\n",
       "    <tr>\n",
       "      <th>9</th>\n",
       "      <td>\\left\\{\\begin{matrix}{2^x} + {2^y} = 24\\\\{2^x}...</td>\n",
       "      <td>[Eq(2**x + 2**y, 24), Eq(2**x*2**y, 128)]</td>\n",
       "      <td>\\left [ \\left \\{ x : 3, \\quad y : 4\\right \\}, ...</td>\n",
       "      <td>Resolver :</td>\n",
       "      <td>1BC</td>\n",
       "      <td>Final 1ª Ev.</td>\n",
       "      <td>ex02e05</td>\n",
       "      <td>1</td>\n",
       "      <td>3</td>\n",
       "      <td>1</td>\n",
       "      <td>True</td>\n",
       "      <td>True</td>\n",
       "    </tr>\n",
       "    <tr>\n",
       "      <th>10</th>\n",
       "      <td>\\log_{3}(3x - 1) - \\log_{3}(x + 1) = 2</td>\n",
       "      <td>Eq(-log(x + 1, 3) + log(3*x - 1, 3), 2)</td>\n",
       "      <td>\\left [ - \\frac{5}{3}\\right ]</td>\n",
       "      <td>Resolver :</td>\n",
       "      <td>1BC</td>\n",
       "      <td>Final 1ª Ev.</td>\n",
       "      <td>ex02e06</td>\n",
       "      <td>1</td>\n",
       "      <td>3</td>\n",
       "      <td>1</td>\n",
       "      <td>True</td>\n",
       "      <td>True</td>\n",
       "    </tr>\n",
       "    <tr>\n",
       "      <th>11</th>\n",
       "      <td>2 \\log x - \\log (x + 6) = 3 \\log 2</td>\n",
       "      <td>Eq(2*log(x, 10) - log(x + 6, 10), 3*log(2, 10))</td>\n",
       "      <td>\\left [ 12\\right ]</td>\n",
       "      <td>Resolver :</td>\n",
       "      <td>1BC</td>\n",
       "      <td>Final 1ª Ev.</td>\n",
       "      <td>ex02e06</td>\n",
       "      <td>1</td>\n",
       "      <td>3</td>\n",
       "      <td>1</td>\n",
       "      <td>True</td>\n",
       "      <td>True</td>\n",
       "    </tr>\n",
       "    <tr>\n",
       "      <th>12</th>\n",
       "      <td>\\left\\{\\begin{matrix}2x - y + z = 6\\\\ 2x + 2y ...</td>\n",
       "      <td>[Eq(2*x - y + z, 6), Eq(2*x + 2*y - 4*z, 2), E...</td>\n",
       "      <td>\\left[\\begin{matrix}-1 &amp; 2 &amp; 1 &amp; 6\\\\0 &amp; 6 &amp; -2...</td>\n",
       "      <td>Discute el tipo de sistema y resuelve si es po...</td>\n",
       "      <td>1BC</td>\n",
       "      <td>Final 1ª Ev.</td>\n",
       "      <td>ex02e07</td>\n",
       "      <td>1</td>\n",
       "      <td>3</td>\n",
       "      <td>1</td>\n",
       "      <td>True</td>\n",
       "      <td>True</td>\n",
       "    </tr>\n",
       "    <tr>\n",
       "      <th>13</th>\n",
       "      <td>\\left\\{\\begin{matrix}x + 2y - 3z = 9\\\\ 4x - 2y...</td>\n",
       "      <td>[Eq(x + 2*y - 3*z, 9), Eq(4*x - 2*y, 12), Eq(4...</td>\n",
       "      <td>\\left[\\begin{matrix}2 &amp; 1 &amp; -3 &amp; 9\\\\0 &amp; 5 &amp; -3...</td>\n",
       "      <td>Discute el tipo de sistema y resuelve si es po...</td>\n",
       "      <td>1BC</td>\n",
       "      <td>Final 1ª Ev.</td>\n",
       "      <td>ex02e07</td>\n",
       "      <td>1</td>\n",
       "      <td>3</td>\n",
       "      <td>1</td>\n",
       "      <td>True</td>\n",
       "      <td>True</td>\n",
       "    </tr>\n",
       "    <tr>\n",
       "      <th>14</th>\n",
       "      <td>{\\binom{31}{5+2x}} = \\binom{31}{2x-2}</td>\n",
       "      <td>Eq(binomial(31, 2*x + 5), binomial(31, 2*x - 2))</td>\n",
       "      <td>\\left\\{7\\right\\}</td>\n",
       "      <td>Usando la definición y las propiedades de los ...</td>\n",
       "      <td>1BC</td>\n",
       "      <td>Final 1ª Ev.</td>\n",
       "      <td>ex02e08</td>\n",
       "      <td>1</td>\n",
       "      <td>3</td>\n",
       "      <td>1</td>\n",
       "      <td>True</td>\n",
       "      <td>True</td>\n",
       "    </tr>\n",
       "    <tr>\n",
       "      <th>15</th>\n",
       "      <td>{\\binom{17}{x}} = \\binom{17}{x+1}</td>\n",
       "      <td>Eq(binomial(17, x), binomial(17, x + 1))</td>\n",
       "      <td>\\left\\{8\\right\\}</td>\n",
       "      <td>Usando la definición y las propiedades de los ...</td>\n",
       "      <td>1BC</td>\n",
       "      <td>Final 1ª Ev.</td>\n",
       "      <td>ex02e08</td>\n",
       "      <td>1</td>\n",
       "      <td>3</td>\n",
       "      <td>1</td>\n",
       "      <td>True</td>\n",
       "      <td>True</td>\n",
       "    </tr>\n",
       "    <tr>\n",
       "      <th>16</th>\n",
       "      <td>P(x)=4x^2+mx+9 \\ no \\ tenga\\ ninguna \\ ra \\acu...</td>\n",
       "      <td>m*x + 4*x**2 + 9</td>\n",
       "      <td>\\left [ 4, \\quad m, \\quad 9\\right ]\\to -12 &lt; m...</td>\n",
       "      <td>Calcula el valor de $m$ para que:</td>\n",
       "      <td>1BC</td>\n",
       "      <td>Final 1ª Ev.</td>\n",
       "      <td>ex02e09</td>\n",
       "      <td>1</td>\n",
       "      <td>3</td>\n",
       "      <td>1</td>\n",
       "      <td>True</td>\n",
       "      <td>True</td>\n",
       "    </tr>\n",
       "    <tr>\n",
       "      <th>17</th>\n",
       "      <td>P(x)=9x^2-mx+\\frac{1}{4} \\ no \\ tenga\\ ninguna...</td>\n",
       "      <td>-m*x + 9*x**2 + 1/4</td>\n",
       "      <td>\\left [ 9, \\quad - m, \\quad \\frac{1}{4}\\right ...</td>\n",
       "      <td>Calcula el valor de $m$ para que:</td>\n",
       "      <td>1BC</td>\n",
       "      <td>Final 1ª Ev.</td>\n",
       "      <td>ex02e09</td>\n",
       "      <td>1</td>\n",
       "      <td>3</td>\n",
       "      <td>1</td>\n",
       "      <td>True</td>\n",
       "      <td>True</td>\n",
       "    </tr>\n",
       "    <tr>\n",
       "      <th>18</th>\n",
       "      <td>P(x)=16x^2-mx+\\frac{9}{4} \\ no \\ tenga\\ ningun...</td>\n",
       "      <td>-m*x + 16*x**2 + 9/4</td>\n",
       "      <td>\\left [ 16, \\quad - m, \\quad \\frac{9}{4}\\right...</td>\n",
       "      <td>Calcula el valor de $m$ para que:</td>\n",
       "      <td>1BC</td>\n",
       "      <td>Final 1ª Ev.</td>\n",
       "      <td>ex02e09</td>\n",
       "      <td>1</td>\n",
       "      <td>3</td>\n",
       "      <td>1</td>\n",
       "      <td>True</td>\n",
       "      <td>True</td>\n",
       "    </tr>\n",
       "    <tr>\n",
       "      <th>19</th>\n",
       "      <td>\\frac{{3x - 2}}{{x - 1}} - \\frac{{3x + 2}}{{x ...</td>\n",
       "      <td>-(3*x + 2)/(x + 1) + (3*x - 2)/(x - 1) &gt;= (2*x...</td>\n",
       "      <td>\\left(-\\infty, -1\\right) \\cup \\left(1, \\infty\\...</td>\n",
       "      <td>Resuelve:</td>\n",
       "      <td>1BC</td>\n",
       "      <td>Final 1ª Ev.</td>\n",
       "      <td>ex02e10</td>\n",
       "      <td>1</td>\n",
       "      <td>3</td>\n",
       "      <td>1</td>\n",
       "      <td>True</td>\n",
       "      <td>True</td>\n",
       "    </tr>\n",
       "    <tr>\n",
       "      <th>20</th>\n",
       "      <td>\\frac{{{x^3} - 5{x^2} + 2x + 8}}{x^2+1} &lt; 0</td>\n",
       "      <td>(2*x + x**3 - 5*x**2 + 8)/(x**2 + 1) &lt; 0</td>\n",
       "      <td>\\left(-\\infty, -1\\right) \\cup \\left(2, 4\\right)</td>\n",
       "      <td>Resuelve:</td>\n",
       "      <td>1BC</td>\n",
       "      <td>Final 1ª Ev.</td>\n",
       "      <td>ex02e10</td>\n",
       "      <td>1</td>\n",
       "      <td>3</td>\n",
       "      <td>1</td>\n",
       "      <td>True</td>\n",
       "      <td>True</td>\n",
       "    </tr>\n",
       "    <tr>\n",
       "      <th>21</th>\n",
       "      <td>\\frac{{x^3}-x^2 -4x + 4}{{x^2} - 3x + 2}:\\frac...</td>\n",
       "      <td>((-4*x + x**3 - x**2 + 4)/(x**2 - 3*x + 2))/((...</td>\n",
       "      <td>\\frac{x^{2} + 2 x}{x - 1}</td>\n",
       "      <td>Calcula expresando el resultado en forma de fr...</td>\n",
       "      <td>1BC</td>\n",
       "      <td>Final 1ª Ev.</td>\n",
       "      <td>ex02e11</td>\n",
       "      <td>1</td>\n",
       "      <td>3</td>\n",
       "      <td>1</td>\n",
       "      <td>True</td>\n",
       "      <td>True</td>\n",
       "    </tr>\n",
       "    <tr>\n",
       "      <th>22</th>\n",
       "      <td>\\frac{2+{ \\frac{1}{x}}}{{2 + \\frac{1}{{1 + \\fr...</td>\n",
       "      <td>(2 + 1/x)/(2 + 1/(1 + 1/x))</td>\n",
       "      <td>\\frac{2 x^{2} + 3 x + 1}{3 x^{2} + 2 x}</td>\n",
       "      <td>Calcula expresando el resultado en forma de fr...</td>\n",
       "      <td>1BC</td>\n",
       "      <td>Final 1ª Ev.</td>\n",
       "      <td>ex02e11</td>\n",
       "      <td>1</td>\n",
       "      <td>3</td>\n",
       "      <td>1</td>\n",
       "      <td>True</td>\n",
       "      <td>True</td>\n",
       "    </tr>\n",
       "  </tbody>\n",
       "</table>\n",
       "</div>"
      ],
      "text/plain": [
       "                                      enunciado_latex  \\\n",
       "0   A=\\left\\{ x \\in \\mathbb{R}| -4 \\leq x \\wedge x...   \n",
       "1   A=\\left\\{ x \\in \\mathbb{R}| 3 \\leq x \\wedge x ...   \n",
       "2   A=\\left\\{ x \\in \\mathbb{R}| 6 \\leq x \\wedge x ...   \n",
       "3   \\frac{16\\cdot\\sqrt[3]{4}( {\\sqrt {2} } )^3}{\\s...   \n",
       "4   \\frac{{3\\sqrt{ 2 } - 2\\sqrt {3} }}{{3\\sqrt {2}...   \n",
       "5   {( {\\sqrt {7}  + \\sqrt {3} } )^2}\\cdot( {5 - \\...   \n",
       "6   Halla tres números naturales e impares consecu...   \n",
       "7   \\frac{{7 - x}}{{x + 4}} - \\frac{3}{{x - 5}} = ...   \n",
       "8                 \\sqrt {x + 5}  - \\sqrt {x - 1}  = 2   \n",
       "9   \\left\\{\\begin{matrix}{2^x} + {2^y} = 24\\\\{2^x}...   \n",
       "10             \\log_{3}(3x - 1) - \\log_{3}(x + 1) = 2   \n",
       "11                 2 \\log x - \\log (x + 6) = 3 \\log 2   \n",
       "12  \\left\\{\\begin{matrix}2x - y + z = 6\\\\ 2x + 2y ...   \n",
       "13  \\left\\{\\begin{matrix}x + 2y - 3z = 9\\\\ 4x - 2y...   \n",
       "14              {\\binom{31}{5+2x}} = \\binom{31}{2x-2}   \n",
       "15                  {\\binom{17}{x}} = \\binom{17}{x+1}   \n",
       "16  P(x)=4x^2+mx+9 \\ no \\ tenga\\ ninguna \\ ra \\acu...   \n",
       "17  P(x)=9x^2-mx+\\frac{1}{4} \\ no \\ tenga\\ ninguna...   \n",
       "18  P(x)=16x^2-mx+\\frac{9}{4} \\ no \\ tenga\\ ningun...   \n",
       "19  \\frac{{3x - 2}}{{x - 1}} - \\frac{{3x + 2}}{{x ...   \n",
       "20        \\frac{{{x^3} - 5{x^2} + 2x + 8}}{x^2+1} < 0   \n",
       "21  \\frac{{x^3}-x^2 -4x + 4}{{x^2} - 3x + 2}:\\frac...   \n",
       "22  \\frac{2+{ \\frac{1}{x}}}{{2 + \\frac{1}{{1 + \\fr...   \n",
       "\n",
       "                                            enunciado  \\\n",
       "0   [Interval(-4, 0), Union(Interval.open(-oo, -1)...   \n",
       "1   [Interval.Ropen(3, 10), Union(Interval.open(-o...   \n",
       "2   [Interval.Ropen(6, 8), Union(Interval.open(-oo...   \n",
       "3   (16*(2**(2/3)*(sqrt(2))**3))/((2**(1/3)*sqrt(2)))   \n",
       "4   -sqrt(6)/4 + (-2*sqrt(3) + 3*sqrt(2))/(2*sqrt(...   \n",
       "5              (-sqrt(21) + 5)*(sqrt(3) + sqrt(7))**2   \n",
       "6             6*x - (2*x - 1)*(2*x + 1)*(2*x + 3) + 9   \n",
       "7   Eq((-x + 7)/(x + 4) - 3/(x - 5), (26*x - 25)/(...   \n",
       "8                   Eq(-sqrt(x - 1) + sqrt(x + 5), 2)   \n",
       "9           [Eq(2**x + 2**y, 24), Eq(2**x*2**y, 128)]   \n",
       "10            Eq(-log(x + 1, 3) + log(3*x - 1, 3), 2)   \n",
       "11    Eq(2*log(x, 10) - log(x + 6, 10), 3*log(2, 10))   \n",
       "12  [Eq(2*x - y + z, 6), Eq(2*x + 2*y - 4*z, 2), E...   \n",
       "13  [Eq(x + 2*y - 3*z, 9), Eq(4*x - 2*y, 12), Eq(4...   \n",
       "14   Eq(binomial(31, 2*x + 5), binomial(31, 2*x - 2))   \n",
       "15           Eq(binomial(17, x), binomial(17, x + 1))   \n",
       "16                                   m*x + 4*x**2 + 9   \n",
       "17                                -m*x + 9*x**2 + 1/4   \n",
       "18                               -m*x + 16*x**2 + 9/4   \n",
       "19  -(3*x + 2)/(x + 1) + (3*x - 2)/(x - 1) >= (2*x...   \n",
       "20           (2*x + x**3 - 5*x**2 + 8)/(x**2 + 1) < 0   \n",
       "21  ((-4*x + x**3 - x**2 + 4)/(x**2 - 3*x + 2))/((...   \n",
       "22                        (2 + 1/x)/(2 + 1/(1 + 1/x))   \n",
       "\n",
       "                                             solucion  \\\n",
       "0   C=\\left[-1, 5\\right] \\ \\ A \\cup  B = \\left(-\\i...   \n",
       "1   C=\\left(-\\infty, -6\\right] \\cup \\left[10, \\inf...   \n",
       "2   C=\\left[-9, 15\\right] \\ \\ A \\cup  B = \\left(-\\...   \n",
       "3                                      32 \\sqrt[3]{2}   \n",
       "4   \\frac{- 7 \\sqrt{3} + 3 \\sqrt{2}}{2 \\left(2 \\sq...   \n",
       "5                                                   8   \n",
       "6   6 x - \\left(2 x - 1\\right) \\left(2 x + 1\\right...   \n",
       "7            \\left [ - \\frac{23}{2}, \\quad -1\\right ]   \n",
       "8                         \\left [ \\frac{5}{4}\\right ]   \n",
       "9   \\left [ \\left \\{ x : 3, \\quad y : 4\\right \\}, ...   \n",
       "10                      \\left [ - \\frac{5}{3}\\right ]   \n",
       "11                                 \\left [ 12\\right ]   \n",
       "12  \\left[\\begin{matrix}-1 & 2 & 1 & 6\\\\0 & 6 & -2...   \n",
       "13  \\left[\\begin{matrix}2 & 1 & -3 & 9\\\\0 & 5 & -3...   \n",
       "14                                   \\left\\{7\\right\\}   \n",
       "15                                   \\left\\{8\\right\\}   \n",
       "16  \\left [ 4, \\quad m, \\quad 9\\right ]\\to -12 < m...   \n",
       "17  \\left [ 9, \\quad - m, \\quad \\frac{1}{4}\\right ...   \n",
       "18  \\left [ 16, \\quad - m, \\quad \\frac{9}{4}\\right...   \n",
       "19  \\left(-\\infty, -1\\right) \\cup \\left(1, \\infty\\...   \n",
       "20    \\left(-\\infty, -1\\right) \\cup \\left(2, 4\\right)   \n",
       "21                          \\frac{x^{2} + 2 x}{x - 1}   \n",
       "22            \\frac{2 x^{2} + 3 x + 1}{3 x^{2} + 2 x}   \n",
       "\n",
       "                                                texto curso        titulo  \\\n",
       "0   Dados los siguientes conjuntos A, B y C, repre...   1BC  Final 1ª Ev.   \n",
       "1   Dados los siguientes conjuntos A, B y C, repre...   1BC  Final 1ª Ev.   \n",
       "2   Dados los siguientes conjuntos A, B y C, repre...   1BC  Final 1ª Ev.   \n",
       "3                                           Calcular:   1BC  Final 1ª Ev.   \n",
       "4                                           Calcular:   1BC  Final 1ª Ev.   \n",
       "5                                           Calcular:   1BC  Final 1ª Ev.   \n",
       "6          Resuelve mediante expresiones algebraicas:   1BC  Final 1ª Ev.   \n",
       "7                                           Resuelve:   1BC  Final 1ª Ev.   \n",
       "8                                           Resuelve:   1BC  Final 1ª Ev.   \n",
       "9                                          Resolver :   1BC  Final 1ª Ev.   \n",
       "10                                         Resolver :   1BC  Final 1ª Ev.   \n",
       "11                                         Resolver :   1BC  Final 1ª Ev.   \n",
       "12  Discute el tipo de sistema y resuelve si es po...   1BC  Final 1ª Ev.   \n",
       "13  Discute el tipo de sistema y resuelve si es po...   1BC  Final 1ª Ev.   \n",
       "14  Usando la definición y las propiedades de los ...   1BC  Final 1ª Ev.   \n",
       "15  Usando la definición y las propiedades de los ...   1BC  Final 1ª Ev.   \n",
       "16                  Calcula el valor de $m$ para que:   1BC  Final 1ª Ev.   \n",
       "17                  Calcula el valor de $m$ para que:   1BC  Final 1ª Ev.   \n",
       "18                  Calcula el valor de $m$ para que:   1BC  Final 1ª Ev.   \n",
       "19                                          Resuelve:   1BC  Final 1ª Ev.   \n",
       "20                                          Resuelve:   1BC  Final 1ª Ev.   \n",
       "21  Calcula expresando el resultado en forma de fr...   1BC  Final 1ª Ev.   \n",
       "22  Calcula expresando el resultado en forma de fr...   1BC  Final 1ª Ev.   \n",
       "\n",
       "   n_ejercicio dificultad n_columnas puntos  enun_tex  sol_tex  \n",
       "0      ex02e01          1          3      1      True     True  \n",
       "1      ex02e01          1          3      1      True     True  \n",
       "2      ex02e01          1          3      1      True     True  \n",
       "3      ex02e02          1          3      1      True     True  \n",
       "4      ex02e02          1          3      1      True     True  \n",
       "5      ex02e02          1          3      1      True     True  \n",
       "6      ex02e03          1          3      1     False     True  \n",
       "7      ex02e04          1          3      1      True     True  \n",
       "8      ex02e04          1          3      1      True     True  \n",
       "9      ex02e05          1          3      1      True     True  \n",
       "10     ex02e06          1          3      1      True     True  \n",
       "11     ex02e06          1          3      1      True     True  \n",
       "12     ex02e07          1          3      1      True     True  \n",
       "13     ex02e07          1          3      1      True     True  \n",
       "14     ex02e08          1          3      1      True     True  \n",
       "15     ex02e08          1          3      1      True     True  \n",
       "16     ex02e09          1          3      1      True     True  \n",
       "17     ex02e09          1          3      1      True     True  \n",
       "18     ex02e09          1          3      1      True     True  \n",
       "19     ex02e10          1          3      1      True     True  \n",
       "20     ex02e10          1          3      1      True     True  \n",
       "21     ex02e11          1          3      1      True     True  \n",
       "22     ex02e11          1          3      1      True     True  "
      ]
     },
     "execution_count": 15,
     "metadata": {},
     "output_type": "execute_result"
    }
   ],
   "source": [
    "df_ejercicios"
   ]
  },
  {
   "cell_type": "code",
   "execution_count": 16,
   "metadata": {},
   "outputs": [],
   "source": [
    "df_ejercicios.to_csv('ejercicios_final1.csv', index = False)"
   ]
  }
 ],
 "metadata": {
  "kernelspec": {
   "display_name": "Python 3",
   "language": "python",
   "name": "python3"
  },
  "language_info": {
   "codemirror_mode": {
    "name": "ipython",
    "version": 3
   },
   "file_extension": ".py",
   "mimetype": "text/x-python",
   "name": "python",
   "nbconvert_exporter": "python",
   "pygments_lexer": "ipython3",
   "version": "3.6.5"
  }
 },
 "nbformat": 4,
 "nbformat_minor": 2
}
