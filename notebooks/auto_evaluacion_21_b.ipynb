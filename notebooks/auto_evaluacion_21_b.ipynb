{
 "cells": [
  {
   "cell_type": "code",
   "execution_count": 1,
   "metadata": {},
   "outputs": [
    {
     "name": "stdout",
     "output_type": "stream",
     "text": [
      "IPython console for SymPy 1.2 (Python 3.6.5-64-bit) (ground types: gmpy)\n",
      "\n",
      "These commands were executed:\n",
      ">>> from __future__ import division\n",
      ">>> from sympy import *\n",
      ">>> x, y, z, t = symbols('x y z t')\n",
      ">>> k, m, n = symbols('k m n', integer=True)\n",
      ">>> f, g, h = symbols('f g h', cls=Function)\n",
      ">>> init_printing()\n",
      "\n",
      "Documentation can be found at http://docs.sympy.org/1.2/\n",
      "\n"
     ]
    }
   ],
   "source": [
    "from sympy import init_session\n",
    "from sympy import div, QQ\n",
    "from sympy.parsing.latex import parse_latex\n",
    "from sympy.parsing.sympy_parser import parse_expr\n",
    "from IPython.display import Markdown as md\n",
    "from IPython.display import display\n",
    "import numpy as np\n",
    "import pandas as pd\n",
    "    \n",
    "from sympy.geometry import Point, Line, Triangle\n",
    "from sympy.vector import CoordSys3D, vector\n",
    "\n",
    "\n",
    "init_session()\n",
    "\n",
    "a, b, c, d = symbols('a b c d', real = True)\n",
    "from docparts import añadir_ejercicios, doc_ejer, escribir_preambulo, escribir_ejercicios, escribir_fin\n",
    "\n",
    "df_ejercicios = pd.DataFrame()\n",
    "\n",
    "fichero = 'autoevaluacion21b'\n",
    "titulo = 'Ejercicios de Geometría'\n",
    "curso = '1BC'\n",
    "\n",
    "\n",
    "x,y = symbols('x, y', real=True)\n"
   ]
  },
  {
   "cell_type": "code",
   "execution_count": 2,
   "metadata": {},
   "outputs": [],
   "source": [
    "def Linea(expr) :\n",
    "    eq = eval(str(parse_latex(expr)))\n",
    "    p1 = Point(0,nsimplify(solve(Eq(eq.args[0].subs(x,0),eq.args[1].subs(x,0)),y)[0]))\n",
    "    p2 = Point(1,nsimplify(solve(Eq(eq.args[0].subs(x,1),eq.args[1].subs(x,1)),y)[0]))\n",
    "    \n",
    "    return Line(p1,p2)\n",
    "    #return [p1,p2]"
   ]
  },
  {
   "cell_type": "code",
   "execution_count": 3,
   "metadata": {},
   "outputs": [
    {
     "data": {
      "text/markdown": [
       "**Hallar las ecuaciones paramétricas y general  de la recta r \n",
       "determinada por:**"
      ],
      "text/plain": [
       "<IPython.core.display.Markdown object>"
      ]
     },
     "metadata": {},
     "output_type": "display_data"
    },
    {
     "data": {
      "text/markdown": [
       "$A(2, 3) \\ y \\overrightarrow{u}=(3, -6) \\rightarrow Point2D(3*t + 2, -6*t + 3) = \\left ( x, \\quad y\\right ) \\ y \\ 6 x + 3 y - 21 = 0$"
      ],
      "text/plain": [
       "<IPython.core.display.Markdown object>"
      ]
     },
     "metadata": {},
     "output_type": "display_data"
    },
    {
     "data": {
      "text/markdown": [
       "$A(0, 5) \\ y \\overrightarrow{u}=(5, 0) \\rightarrow Point2D(5*t, 5) = \\left ( x, \\quad y\\right ) \\ y \\ y - 5 = 0$"
      ],
      "text/plain": [
       "<IPython.core.display.Markdown object>"
      ]
     },
     "metadata": {},
     "output_type": "display_data"
    },
    {
     "data": {
      "text/markdown": [
       "$A(6, 2) \\ y \\overrightarrow{u}=(2, -6) \\rightarrow Point2D(2*t + 6, -6*t + 2) = \\left ( x, \\quad y\\right ) \\ y \\ 6 x + 2 y - 40 = 0$"
      ],
      "text/plain": [
       "<IPython.core.display.Markdown object>"
      ]
     },
     "metadata": {},
     "output_type": "display_data"
    }
   ],
   "source": [
    "# Página 50 ejercicio 1\n",
    "\n",
    "texto_ejercicio = r\"\"\"Hallar las ecuaciones paramétricas y general  de la recta r \n",
    "determinada por:\"\"\"\n",
    "\n",
    "n_ejercicio = 'a021be01'\n",
    "\n",
    "display(md(\"**\"+texto_ejercicio+\"**\"))\n",
    "\n",
    "# vectores iniciales correspondientes al texto del enunciado\n",
    "\n",
    "pre_enunciado_latex = [[(2,3),(3,-6)],[(0,5),(5,0)],[(6,2),(2,-6)]]\n",
    "\n",
    "enunciado_latex, enunciado, solucion = [],[],[]\n",
    "\n",
    "for i, s in enumerate(pre_enunciado_latex) : \n",
    "    enunciado_latex.append(r\"A{} \\ y \\overrightarrow\".format(s[0])+\"{u}=\"+r\"{}\".format(s[1]))\n",
    "    enunciado = str(s)\n",
    "    sol1, sol2 =Line(Point(s[0]),Point(s[0])+Point(s[1])).equation(), Line(Point(s[0]),Point(s[0])+Point(s[1])).arbitrary_point()\n",
    "    solucion.append(latex(Eq(sol2,(x,y))) + \" \\ y \\ \" +latex(Eq(sol1,0)))\n",
    "    display(md(\"$\"+ enunciado_latex[i] +\" \\\\rightarrow \" + latex(solucion[i]) +\"$\"))\n",
    "    \n",
    "\n",
    "df_ejercicios = df_ejercicios.append(añadir_ejercicios(enunciado_latex, enunciado, solucion, texto_ejercicio, curso, titulo , n_ejercicio, '1', '2', enun_tex=True), ignore_index=True)\n"
   ]
  },
  {
   "cell_type": "code",
   "execution_count": 4,
   "metadata": {},
   "outputs": [
    {
     "data": {
      "text/markdown": [
       "**Halla un vector direccional y un vector perpendicular a la recta:**"
      ],
      "text/plain": [
       "<IPython.core.display.Markdown object>"
      ]
     },
     "metadata": {},
     "output_type": "display_data"
    },
    {
     "data": {
      "text/markdown": [
       "$2x+3y+5=0 \\rightarrow \\left ( Point2D(1, -2/3), \\quad Point2D(2/3, 1)\\right )$"
      ],
      "text/plain": [
       "<IPython.core.display.Markdown object>"
      ]
     },
     "metadata": {},
     "output_type": "display_data"
    },
    {
     "data": {
      "text/markdown": [
       "$\\frac{x-2}{4}=\\frac{5-y}{1} \\rightarrow \\left ( Point2D(1, -1/4), \\quad Point2D(1/4, 1)\\right )$"
      ],
      "text/plain": [
       "<IPython.core.display.Markdown object>"
      ]
     },
     "metadata": {},
     "output_type": "display_data"
    },
    {
     "data": {
      "text/markdown": [
       "$y=7 \\rightarrow \\left ( Point2D(1, 0), \\quad Point2D(0, 1)\\right )$"
      ],
      "text/plain": [
       "<IPython.core.display.Markdown object>"
      ]
     },
     "metadata": {},
     "output_type": "display_data"
    },
    {
     "data": {
      "text/markdown": [
       "$y=5x+3 \\rightarrow \\left ( Point2D(1, 5), \\quad Point2D(-5, 1)\\right )$"
      ],
      "text/plain": [
       "<IPython.core.display.Markdown object>"
      ]
     },
     "metadata": {},
     "output_type": "display_data"
    }
   ],
   "source": [
    "# Página 50 ejercicio 2\n",
    "\n",
    "texto_ejercicio = r\"\"\"Halla un vector direccional y un vector perpendicular a la recta:\"\"\"\n",
    "\n",
    "n_ejercicio = 'a021be01b'\n",
    "\n",
    "display(md(\"**\"+texto_ejercicio+\"**\"))\n",
    "\n",
    "# vectores iniciales correspondientes al texto del enunciado\n",
    "\n",
    "enunciado_latex = [\n",
    "                    r'2x+3y+5=0',\n",
    "                    r'\\frac{x-2}{4}=\\frac{5-y}{1}',\n",
    "                       r'y=7',\n",
    "                    r'y=5x+3'\n",
    "                    \n",
    "                      ]\n",
    "\n",
    "enunciado, solucion = [],[]\n",
    "\n",
    "for i, s in enumerate(enunciado_latex) : \n",
    "    enunciado = str(parse_latex(s))\n",
    "    so=Linea(s).direction\n",
    "    solucion.append((so,so.orthogonal_direction))\n",
    "    display(md(\"$\"+ s +\" \\\\rightarrow \" + latex(solucion[i]) +\"$\"))\n",
    "\n",
    "df_ejercicios = df_ejercicios.append(añadir_ejercicios(enunciado_latex, enunciado, solucion, texto_ejercicio, curso, titulo , n_ejercicio, '1', '2', enun_tex=True), ignore_index=True)\n"
   ]
  },
  {
   "cell_type": "code",
   "execution_count": 5,
   "metadata": {},
   "outputs": [
    {
     "data": {
      "text/markdown": [
       "**Comprobar si es isósceles el triángulo de vértices:**"
      ],
      "text/plain": [
       "<IPython.core.display.Markdown object>"
      ]
     },
     "metadata": {},
     "output_type": "display_data"
    },
    {
     "data": {
      "text/markdown": [
       "$A=(3, 1), \\ B=(1, 3),\\  y \\ C=(4, 4) \\rightarrow \\mathrm{True}$"
      ],
      "text/plain": [
       "<IPython.core.display.Markdown object>"
      ]
     },
     "metadata": {},
     "output_type": "display_data"
    },
    {
     "data": {
      "text/markdown": [
       "$A=(1, 1), \\ B=(1, 5),\\  y \\ C=(2, 6) \\rightarrow \\mathrm{False}$"
      ],
      "text/plain": [
       "<IPython.core.display.Markdown object>"
      ]
     },
     "metadata": {},
     "output_type": "display_data"
    }
   ],
   "source": [
    "# Página 50 ejercicio 4\n",
    "\n",
    "texto_ejercicio = r\"\"\"Comprobar si es isósceles el triángulo de vértices:\"\"\"\n",
    "\n",
    "n_ejercicio = 'a021be02'\n",
    "\n",
    "display(md(\"**\"+texto_ejercicio+\"**\"))\n",
    "\n",
    "# vectores iniciales correspondientes al texto del enunciado\n",
    "\n",
    "pre_enunciado_latex = [\n",
    "                    [(3,1),(1,3),(4,4)],\n",
    "                    [(1,1),(1,5),(2,6)],\n",
    "                      ]\n",
    "\n",
    "enunciado_latex, enunciado, solucion = [],[],[]\n",
    "\n",
    "for i, s in enumerate(pre_enunciado_latex) : \n",
    "    enunciado_latex.append(\"A=\"+str(s[0])+\", \\ B=\"+str(s[1])+\",\\  y \\ C=\"+str(s[2])+\"\")\n",
    "    enunciado = str(s)\n",
    "    pa, pb, pc = [Point(k) for k in s]\n",
    "    tr = Triangle(pa,pb,pc)\n",
    "    solucion.append(tr.is_isosceles())\n",
    "    display(md(\"$\"+ enunciado_latex[i] +\" \\\\rightarrow \" + latex(solucion[i]) +\"$\"))\n",
    "\n",
    "df_ejercicios = df_ejercicios.append(añadir_ejercicios(enunciado_latex, enunciado, solucion, texto_ejercicio, curso, titulo , n_ejercicio, '1', '2', enun_tex=True), ignore_index=True)\n"
   ]
  },
  {
   "cell_type": "code",
   "execution_count": 6,
   "metadata": {},
   "outputs": [
    {
     "data": {
      "text/markdown": [
       "**Determinar el ángulo formado por las rectas:**"
      ],
      "text/plain": [
       "<IPython.core.display.Markdown object>"
      ]
     },
     "metadata": {},
     "output_type": "display_data"
    },
    {
     "data": {
      "text/markdown": [
       "$r\\equiv4x-2y-1=0\\  y \\ s\\equiv2x+5y-2=0 \\rightarrow 85.23635830927383$"
      ],
      "text/plain": [
       "<IPython.core.display.Markdown object>"
      ]
     },
     "metadata": {},
     "output_type": "display_data"
    },
    {
     "data": {
      "text/markdown": [
       "$r\\equiv-x+2y+6=0\\  y \\ s\\equiv-3x+y+1=0 \\rightarrow 45.0$"
      ],
      "text/plain": [
       "<IPython.core.display.Markdown object>"
      ]
     },
     "metadata": {},
     "output_type": "display_data"
    }
   ],
   "source": [
    "# Página 50 ejercicio 6\n",
    "\n",
    "texto_ejercicio = r\"\"\"Determinar el ángulo formado por las rectas:\"\"\"\n",
    "\n",
    "n_ejercicio = 'a021be03'\n",
    "\n",
    "display(md(\"**\"+texto_ejercicio+\"**\"))\n",
    "\n",
    "# vectores iniciales correspondientes al texto del enunciado\n",
    "\n",
    "pre_enunciado_latex = [\n",
    "                    [r'4x-2y-1=0',r'2x+5y-2=0'],\n",
    "                    [r'-x+2y+6=0',r'-3x+y+1=0'],\n",
    "                      ]\n",
    "\n",
    "enunciado_latex, enunciado, solucion = [],[],[]\n",
    "\n",
    "for i, s in enumerate(pre_enunciado_latex) : \n",
    "    enunciado_latex.append(\"r\\equiv\"+str(s[0])+\"\\  y \\ s\\equiv\"+str(s[1])+\"\")\n",
    "    enunciado = str(s)\n",
    "\n",
    "    solucion.append(float(deg(Linea(s[0]).angle_between(Linea(s[1])))))\n",
    "    display(md(\"$\"+ enunciado_latex[i] +\" \\\\rightarrow \" + latex(solucion[i]) +\"$\"))\n",
    "\n",
    "df_ejercicios = df_ejercicios.append(añadir_ejercicios(enunciado_latex, enunciado, solucion, texto_ejercicio, curso, titulo , n_ejercicio, '1', '2', enun_tex=True), ignore_index=True)\n"
   ]
  },
  {
   "cell_type": "code",
   "execution_count": 7,
   "metadata": {},
   "outputs": [
    {
     "data": {
      "text/markdown": [
       "**Hallar la ecuación de la recta paralela a la bisectriz del segundo cuadrante y que pasar por el punto:**"
      ],
      "text/plain": [
       "<IPython.core.display.Markdown object>"
      ]
     },
     "metadata": {},
     "output_type": "display_data"
    },
    {
     "data": {
      "text/markdown": [
       "$A=(1, 3) \\rightarrow x + y - 4 = 0$"
      ],
      "text/plain": [
       "<IPython.core.display.Markdown object>"
      ]
     },
     "metadata": {},
     "output_type": "display_data"
    },
    {
     "data": {
      "text/markdown": [
       "$A=(-1, 3) \\rightarrow x + y - 2 = 0$"
      ],
      "text/plain": [
       "<IPython.core.display.Markdown object>"
      ]
     },
     "metadata": {},
     "output_type": "display_data"
    }
   ],
   "source": [
    "# Página 51 ejercicio 38\n",
    "\n",
    "texto_ejercicio = r\"\"\"Hallar la ecuación de la recta paralela a la bisectriz del segundo cuadrante y que pasar por el punto:\"\"\"\n",
    "\n",
    "n_ejercicio = 'a021be04'\n",
    "\n",
    "display(md(\"**\"+texto_ejercicio+\"**\"))\n",
    " \n",
    "# vectores iniciales correspondientes al texto del enunciado\n",
    "\n",
    "pre_enunciado_latex = [\n",
    "                  (1,3),(-1,3),                                   \n",
    "                      ]\n",
    "\n",
    "enunciado_latex, enunciado, solucion = [],[],[]\n",
    "\n",
    "for i, s in enumerate(pre_enunciado_latex) : \n",
    "    enunciado_latex.append(\"A=\"+str(s))\n",
    "    enunciado = str(s)\n",
    "    r = Linea(r'y=-x')\n",
    "    A = Point(s)\n",
    "    sol = Eq(Line(A,slope=r.slope).equation(),0)    \n",
    "    solucion.append(latex(sol))\n",
    "    display(md(\"$\"+ enunciado_latex[i] +\" \\\\rightarrow \" + solucion[i] +\"$\"))\n",
    "    \n",
    "\n",
    "df_ejercicios = df_ejercicios.append(añadir_ejercicios(enunciado_latex, enunciado, solucion, texto_ejercicio, curso, titulo , n_ejercicio, '1', '1', enun_tex=True), ignore_index=True)\n"
   ]
  },
  {
   "cell_type": "code",
   "execution_count": 8,
   "metadata": {},
   "outputs": [
    {
     "data": {
      "text/markdown": [
       "**Determinar el punto simétrico al punto y respecto de la recta siguientes:**"
      ],
      "text/plain": [
       "<IPython.core.display.Markdown object>"
      ]
     },
     "metadata": {},
     "output_type": "display_data"
    },
    {
     "data": {
      "text/markdown": [
       "$ A(1, 3) \\ y \\   r\\equiv x+y=2 \\rightarrow \\left [ - x + y - 2 = 0, \\quad Point2D(0, 2), \\quad Point2D(-1, 1)\\right ]$"
      ],
      "text/plain": [
       "<IPython.core.display.Markdown object>"
      ]
     },
     "metadata": {},
     "output_type": "display_data"
    },
    {
     "data": {
      "text/markdown": [
       "$ A(-1, 1) \\ y \\   r\\equiv x+2y=2 \\rightarrow \\left [ - x + \\frac{y}{2} - \\frac{3}{2} = 0, \\quad Point2D(-4/5, 7/5), \\quad Point2D(-3/5, 9/5)\\right ]$"
      ],
      "text/plain": [
       "<IPython.core.display.Markdown object>"
      ]
     },
     "metadata": {},
     "output_type": "display_data"
    }
   ],
   "source": [
    "# Página 51 ejercicio 21\n",
    "\n",
    "texto_ejercicio = r\"\"\"Determinar el punto simétrico al punto y respecto de la recta siguientes:\"\"\"\n",
    "\n",
    "n_ejercicio = 'a021be05'\n",
    "\n",
    "display(md(\"**\"+texto_ejercicio+\"**\"))\n",
    " \n",
    "# vectores iniciales correspondientes al texto del enunciado\n",
    "\n",
    "pre_enunciado_latex = [\n",
    "                  [(1,3),r'x+y=2'], \n",
    "                  [(-1,1),r'x+2y=2']       \n",
    "                      ]\n",
    "\n",
    "enunciado_latex, enunciado, solucion = [],[],[]\n",
    "\n",
    "for i, s in enumerate(pre_enunciado_latex) : \n",
    "    enunciado_latex.append(\" A\"+str(s[0])+\" \\ y \\   r\\equiv \"+str(s[1]))\n",
    "    enunciado = str(s)\n",
    "    sol=[]\n",
    "    p = Point(s[0])\n",
    "    r1 = Linea(s[1])\n",
    "    sol.append(Eq(r1.perpendicular_line(p).equation(),0))\n",
    "    dict = solve([r1.equation(),r1.perpendicular_line(p).equation()])\n",
    "    M = Point(list(dict.values()))\n",
    "    sol.append(M)\n",
    "    \n",
    "    sol.append(p.rotate(pi, M))\n",
    "    solucion.append(latex(sol))\n",
    "    display(md(\"$\"+ enunciado_latex[i] +\" \\\\rightarrow \" + solucion[i] +\"$\"))\n",
    "    \n",
    "    #p1 = plot_implicit(Linea(s[1]).equation(),show=False)\n",
    "    #p2 = plot_implicit(Line(s[0],slope=m).equation(),show=False)\n",
    "    #p1.extend(p2)\n",
    "    #p1.show()\n",
    "\n",
    "df_ejercicios = df_ejercicios.append(añadir_ejercicios(enunciado_latex, enunciado, solucion, texto_ejercicio, curso, titulo , n_ejercicio, '1', '1', enun_tex=True), ignore_index=True)\n"
   ]
  },
  {
   "cell_type": "code",
   "execution_count": 9,
   "metadata": {},
   "outputs": [
    {
     "data": {
      "text/markdown": [
       "**Calcula el vértice C de un triángulo isósceles ABC, sabiendo que:**"
      ],
      "text/plain": [
       "<IPython.core.display.Markdown object>"
      ]
     },
     "metadata": {},
     "output_type": "display_data"
    },
    {
     "data": {
      "text/markdown": [
       "$ A(4, 0)\\  , \\ B=(6, 2) \\ y \\  C \\in r\\equiv 3x+y-1=0 \\rightarrow \\left [ \\left \\{ x : - \\frac{5}{2}, \\quad y : \\frac{17}{2}\\right \\}\\right ]$"
      ],
      "text/plain": [
       "<IPython.core.display.Markdown object>"
      ]
     },
     "metadata": {},
     "output_type": "display_data"
    },
    {
     "data": {
      "text/markdown": [
       "$ A(3, 0)\\  , \\ B=(0, 3) \\ y \\  C \\in r\\equiv x+y+1=0 \\rightarrow \\left [ \\left \\{ x : - \\frac{1}{2}, \\quad y : - \\frac{1}{2}\\right \\}\\right ]$"
      ],
      "text/plain": [
       "<IPython.core.display.Markdown object>"
      ]
     },
     "metadata": {},
     "output_type": "display_data"
    }
   ],
   "source": [
    "# Página 51 ejercicio 20\n",
    "\n",
    "texto_ejercicio = r\"\"\"Calcula el vértice C de un triángulo isósceles ABC, sabiendo que:\"\"\"\n",
    "\n",
    "n_ejercicio = 'a021be06'\n",
    "\n",
    "display(md(\"**\"+texto_ejercicio+\"**\"))\n",
    " \n",
    "# vectores iniciales correspondientes al texto del enunciado\n",
    "\n",
    "pre_enunciado_latex = [\n",
    "                    [(4,0),(6,2),r'3x+y-1=0'], \n",
    "                    [(3,0),(0,3),r'x+y+1=0'],\n",
    "                      ]\n",
    "\n",
    "enunciado_latex, enunciado, solucion = [],[],[]\n",
    "\n",
    "for i, s in enumerate(pre_enunciado_latex) : \n",
    "    enunciado_latex.append(\" A\"+str(s[0])+\"\\  , \\ B=\" +str(s[1])+ \" \\ y \\  C \\in r\\equiv \"+str(s[2]))\n",
    "    enunciado = str(s)\n",
    "    r = Linea(s[2])\n",
    "\n",
    "    P = Point(x,y)\n",
    "\n",
    "    r.distance(Point(s[0]))\n",
    "\n",
    "    sol = solve([P.distance(s[0])-P.distance(s[1]),r.equation()])\n",
    "    solucion.append(latex(sol))\n",
    "    display(md(\"$\"+ enunciado_latex[i] +\" \\\\rightarrow \" + solucion[i] +\"$\"))\n",
    "    \n",
    "    #p1 = plot_implicit(Linea(s[1]).equation(),show=False)\n",
    "    #p2 = plot_implicit(Line(s[0],slope=m).equation(),show=False)\n",
    "    #p1.extend(p2)\n",
    "    #p1.show()\n",
    "\n",
    "df_ejercicios = df_ejercicios.append(añadir_ejercicios(enunciado_latex, enunciado, solucion, texto_ejercicio, curso, titulo , n_ejercicio, '1', '1', enun_tex=True), ignore_index=True)\n"
   ]
  },
  {
   "cell_type": "code",
   "execution_count": 10,
   "metadata": {},
   "outputs": [
    {
     "data": {
      "text/markdown": [
       "**Calcula el área del triángulo de vértices:**"
      ],
      "text/plain": [
       "<IPython.core.display.Markdown object>"
      ]
     },
     "metadata": {},
     "output_type": "display_data"
    },
    {
     "data": {
      "text/markdown": [
       "$A=(-1, 0), \\ B=(1, 3),\\  y \\ C=(2, -3) \\rightarrow \\frac{15}{2}$"
      ],
      "text/plain": [
       "<IPython.core.display.Markdown object>"
      ]
     },
     "metadata": {},
     "output_type": "display_data"
    },
    {
     "data": {
      "text/markdown": [
       "$A=(2, 1), \\ B=(3, 2),\\  y \\ C=(2, -3) \\rightarrow 2$"
      ],
      "text/plain": [
       "<IPython.core.display.Markdown object>"
      ]
     },
     "metadata": {},
     "output_type": "display_data"
    }
   ],
   "source": [
    "# Página 51 ejercicio 33\n",
    "\n",
    "texto_ejercicio = r\"\"\"Calcula el área del triángulo de vértices:\"\"\"\n",
    "\n",
    "n_ejercicio = 'a021be07'\n",
    "\n",
    "display(md(\"**\"+texto_ejercicio+\"**\"))\n",
    " \n",
    "# vectores iniciales correspondientes al texto del enunciado\n",
    "\n",
    "pre_enunciado_latex = [\n",
    "                  [(-1, 0), (1, 3), (2,-3)],\n",
    "                  [(2, 1), (3, 2), (2,-3)]\n",
    "                      ]\n",
    "\n",
    "enunciado_latex, enunciado, solucion = [],[],[]\n",
    "\n",
    "for i, s in enumerate(pre_enunciado_latex) : \n",
    "    enunciado_latex.append(\"A=\"+str(s[0])+\", \\ B=\"+str(s[1])+\",\\  y \\ C=\"+str(s[2])+\"\")\n",
    "    enunciado = str(s)\n",
    "    A, B, C = [Point(k) for k in s]\n",
    "    T=Triangle(A,B,C)\n",
    "    sol=[A.distance(B),T.altitudes[C],T.altitudes[C].length, abs(T.area)]\n",
    "    solucion.append(latex(sol[3]))\n",
    "    display(md(\"$\"+ enunciado_latex[i] +\" \\\\rightarrow \" + solucion[i] +\"$\"))\n",
    "    \n",
    "\n",
    "df_ejercicios = df_ejercicios.append(añadir_ejercicios(enunciado_latex, enunciado, solucion, texto_ejercicio, curso, titulo , n_ejercicio, '1', '1', enun_tex=True), ignore_index=True)\n"
   ]
  },
  {
   "cell_type": "code",
   "execution_count": 11,
   "metadata": {},
   "outputs": [
    {
     "data": {
      "text/markdown": [
       "**Halla el valor del ángulo que forma con el eje de abscisas la mediatriz del segmento determinado por los puntos:**"
      ],
      "text/plain": [
       "<IPython.core.display.Markdown object>"
      ]
     },
     "metadata": {},
     "output_type": "display_data"
    },
    {
     "data": {
      "text/markdown": [
       "$A=(-1, 5)\\ y \\ B=(4, 5) \\rightarrow 90.0$"
      ],
      "text/plain": [
       "<IPython.core.display.Markdown object>"
      ]
     },
     "metadata": {},
     "output_type": "display_data"
    },
    {
     "data": {
      "text/markdown": [
       "$A=(-2, 3)\\ y \\ B=(3, 1) \\rightarrow 68.19859051364818$"
      ],
      "text/plain": [
       "<IPython.core.display.Markdown object>"
      ]
     },
     "metadata": {},
     "output_type": "display_data"
    }
   ],
   "source": [
    "# Página 51 ejercicio 29\n",
    "\n",
    "texto_ejercicio = r\"\"\"Halla el valor del ángulo que forma con el eje de abscisas la mediatriz del segmento determinado por los puntos:\"\"\"\n",
    "\n",
    "n_ejercicio = 'a021be08'\n",
    "\n",
    "display(md(\"**\"+texto_ejercicio+\"**\"))\n",
    " \n",
    "# vectores iniciales correspondientes al texto del enunciado\n",
    "\n",
    "pre_enunciado_latex = [\n",
    "                  [(-1,5), (4, 5)],\n",
    "                    [(-2,3), (3, 1)],\n",
    "                      ]\n",
    "\n",
    "enunciado_latex, enunciado, solucion = [],[],[]\n",
    "\n",
    "for i, s in enumerate(pre_enunciado_latex) : \n",
    "    enunciado_latex.append(\"A=\"+str(s[0])+\"\\ y \\ B=\"+str(s[1])+\"\")\n",
    "    enunciado = str(s)\n",
    "    A, B = Point(s[0]), Point(s[1])\n",
    "    sol = float(deg(Line(A,B).perpendicular_line(A.midpoint(B)).angle_between(Line(Point(0,0),slope=0))))\n",
    "    solucion.append(latex(sol))\n",
    "    display(md(\"$\"+ enunciado_latex[i] +\" \\\\rightarrow \" + solucion[i] +\"$\"))\n",
    "    \n",
    "    #p1 = plot_implicit(Linea(s[1]).equation(),show=False)\n",
    "    #p2 = plot_implicit(Line(s[0],slope=m).equation(),show=False)\n",
    "    #p1.extend(p2)\n",
    "    #p1.show()\n",
    "\n",
    "#df_ejercicios = df_ejercicios.append(añadir_ejercicios(enunciado_latex, enunciado, solucion, texto_ejercicio, curso, titulo , n_ejercicio, '1', '1', enun_tex=True), ignore_index=True)\n"
   ]
  },
  {
   "cell_type": "code",
   "execution_count": 12,
   "metadata": {},
   "outputs": [
    {
     "data": {
      "text/markdown": [
       "**Hallar el punto de la bisectriz de los cuadrantes 2 y 4, que equidista de los puntos:**"
      ],
      "text/plain": [
       "<IPython.core.display.Markdown object>"
      ]
     },
     "metadata": {},
     "output_type": "display_data"
    },
    {
     "data": {
      "text/markdown": [
       "$A=(4, -2)\\ y \\ B=(10, 0) \\rightarrow \\left [ \\left \\{ x : 10, \\quad y : -10\\right \\}\\right ]$"
      ],
      "text/plain": [
       "<IPython.core.display.Markdown object>"
      ]
     },
     "metadata": {},
     "output_type": "display_data"
    }
   ],
   "source": [
    "# Página 51 ejercicio 45\n",
    "\n",
    "texto_ejercicio = r\"\"\"Hallar el punto de la bisectriz de los cuadrantes 2 y 4, que equidista de los puntos:\"\"\"\n",
    "\n",
    "n_ejercicio = 'a021be09'\n",
    "\n",
    "display(md(\"**\"+texto_ejercicio+\"**\"))\n",
    " \n",
    "# vectores iniciales correspondientes al texto del enunciado\n",
    "\n",
    "pre_enunciado_latex = [\n",
    "                  [(4, -2),(10, 0)],                                   \n",
    "                      ]\n",
    "\n",
    "enunciado_latex, enunciado, solucion = [],[],[]\n",
    "\n",
    "for i, s in enumerate(pre_enunciado_latex) : \n",
    "    enunciado_latex.append(\"A=\"+str(s[0])+\"\\ y \\ B=\"+str(s[1])+\"\")\n",
    "    enunciado = str(s)\n",
    "    P = Point(x,y)\n",
    "    r = Linea(r'y=-x')\n",
    "    A, B = [Point(k) for k in s]\n",
    "    sol = solve([P.distance(A)-P.distance(B), r.equation()])    \n",
    "    solucion.append(latex(sol))\n",
    "    display(md(\"$\"+ enunciado_latex[i] +\" \\\\rightarrow \" + solucion[i] +\"$\"))\n",
    "    \n",
    "\n",
    "#df_ejercicios = df_ejercicios.append(añadir_ejercicios(enunciado_latex, enunciado, solucion, texto_ejercicio, curso, titulo , n_ejercicio, '1', '1', enun_tex=True), ignore_index=True)\n"
   ]
  },
  {
   "cell_type": "code",
   "execution_count": 13,
   "metadata": {},
   "outputs": [
    {
     "data": {
      "text/markdown": [
       "**Hallar la longitud de la altura del triángulo ABC que pasa por C, y su área, si:**"
      ],
      "text/plain": [
       "<IPython.core.display.Markdown object>"
      ]
     },
     "metadata": {},
     "output_type": "display_data"
    },
    {
     "data": {
      "text/markdown": [
       "$A=(2, -1), \\ B=(-5, 1),\\  y \\ C=(0, 3) \\rightarrow \\left [ \\frac{24 \\sqrt{53}}{53}, \\quad 12\\right ]$"
      ],
      "text/plain": [
       "<IPython.core.display.Markdown object>"
      ]
     },
     "metadata": {},
     "output_type": "display_data"
    }
   ],
   "source": [
    "# Página 52 ejercicio 46\n",
    "\n",
    "texto_ejercicio = r\"\"\"Hallar la longitud de la altura del triángulo ABC que pasa por C, y su área, si:\"\"\"\n",
    "\n",
    "n_ejercicio = 'a021be10'\n",
    "\n",
    "display(md(\"**\"+texto_ejercicio+\"**\"))\n",
    " \n",
    "# vectores iniciales correspondientes al texto del enunciado\n",
    "\n",
    "pre_enunciado_latex = [\n",
    "                  [(2, - 1),(- 5, 1), (0, 3)],                                   \n",
    "                      ]\n",
    "\n",
    "enunciado_latex, enunciado, solucion = [],[],[]\n",
    "\n",
    "for i, s in enumerate(pre_enunciado_latex) : \n",
    "    enunciado_latex.append(\"A=\"+str(s[0])+\", \\ B=\"+str(s[1])+\",\\  y \\ C=\"+str(s[2])+\"\")\n",
    "    enunciado = str(s)\n",
    "    A, B, C = [Point(k) for k in s]\n",
    "    T = Triangle(A,B,C)\n",
    "    sol = [Line(A,B).distance(C), abs(T.area) ]\n",
    "    solucion.append(latex(sol))\n",
    "    display(md(\"$\"+ enunciado_latex[i] +\" \\\\rightarrow \" + solucion[i] +\"$\"))\n",
    "    \n",
    "\n",
    "#df_ejercicios = df_ejercicios.append(añadir_ejercicios(enunciado_latex, enunciado, solucion, texto_ejercicio, curso, titulo , n_ejercicio, '1', '1', enun_tex=True), ignore_index=True)\n"
   ]
  },
  {
   "cell_type": "markdown",
   "metadata": {},
   "source": [
    "Hallar la longitud de la altura del triángulo A(2, - 1), B(- 5, 1) y C(0, 3), que parte del vértice C, y hallar el área del triángulo."
   ]
  },
  {
   "cell_type": "code",
   "execution_count": 14,
   "metadata": {},
   "outputs": [],
   "source": [
    "df_ejercicios.to_csv('autoevaluacion21b.csv', index = False)"
   ]
  },
  {
   "cell_type": "code",
   "execution_count": 15,
   "metadata": {},
   "outputs": [],
   "source": [
    "df_ejercicios = pd.read_csv('autoevaluacion21b.csv', index_col= None)"
   ]
  },
  {
   "cell_type": "code",
   "execution_count": 16,
   "metadata": {},
   "outputs": [
    {
     "data": {
      "text/html": [
       "<div>\n",
       "<style scoped>\n",
       "    .dataframe tbody tr th:only-of-type {\n",
       "        vertical-align: middle;\n",
       "    }\n",
       "\n",
       "    .dataframe tbody tr th {\n",
       "        vertical-align: top;\n",
       "    }\n",
       "\n",
       "    .dataframe thead th {\n",
       "        text-align: right;\n",
       "    }\n",
       "</style>\n",
       "<table border=\"1\" class=\"dataframe\">\n",
       "  <thead>\n",
       "    <tr style=\"text-align: right;\">\n",
       "      <th></th>\n",
       "      <th>enunciado_latex</th>\n",
       "      <th>enunciado</th>\n",
       "      <th>solucion</th>\n",
       "      <th>texto</th>\n",
       "      <th>curso</th>\n",
       "      <th>titulo</th>\n",
       "      <th>n_ejercicio</th>\n",
       "      <th>dificultad</th>\n",
       "      <th>n_columnas</th>\n",
       "      <th>puntos</th>\n",
       "      <th>enun_tex</th>\n",
       "      <th>sol_tex</th>\n",
       "    </tr>\n",
       "  </thead>\n",
       "  <tbody>\n",
       "    <tr>\n",
       "      <th>0</th>\n",
       "      <td>A(2, 3) \\ y \\overrightarrow{u}=(3, -6)</td>\n",
       "      <td>[(6, 2), (2, -6)]</td>\n",
       "      <td>Point2D(3*t + 2, -6*t + 3) = \\left ( x, \\quad ...</td>\n",
       "      <td>Hallar las ecuaciones paramétricas y general  ...</td>\n",
       "      <td>1BC</td>\n",
       "      <td>Ejercicios de Geometría</td>\n",
       "      <td>a021be01</td>\n",
       "      <td>1</td>\n",
       "      <td>2</td>\n",
       "      <td>1</td>\n",
       "      <td>True</td>\n",
       "      <td>True</td>\n",
       "    </tr>\n",
       "    <tr>\n",
       "      <th>1</th>\n",
       "      <td>A(0, 5) \\ y \\overrightarrow{u}=(5, 0)</td>\n",
       "      <td>[(6, 2), (2, -6)]</td>\n",
       "      <td>Point2D(5*t, 5) = \\left ( x, \\quad y\\right ) \\...</td>\n",
       "      <td>Hallar las ecuaciones paramétricas y general  ...</td>\n",
       "      <td>1BC</td>\n",
       "      <td>Ejercicios de Geometría</td>\n",
       "      <td>a021be01</td>\n",
       "      <td>1</td>\n",
       "      <td>2</td>\n",
       "      <td>1</td>\n",
       "      <td>True</td>\n",
       "      <td>True</td>\n",
       "    </tr>\n",
       "    <tr>\n",
       "      <th>2</th>\n",
       "      <td>A(6, 2) \\ y \\overrightarrow{u}=(2, -6)</td>\n",
       "      <td>[(6, 2), (2, -6)]</td>\n",
       "      <td>Point2D(2*t + 6, -6*t + 2) = \\left ( x, \\quad ...</td>\n",
       "      <td>Hallar las ecuaciones paramétricas y general  ...</td>\n",
       "      <td>1BC</td>\n",
       "      <td>Ejercicios de Geometría</td>\n",
       "      <td>a021be01</td>\n",
       "      <td>1</td>\n",
       "      <td>2</td>\n",
       "      <td>1</td>\n",
       "      <td>True</td>\n",
       "      <td>True</td>\n",
       "    </tr>\n",
       "    <tr>\n",
       "      <th>3</th>\n",
       "      <td>2x+3y+5=0</td>\n",
       "      <td>Eq(y, 5*x + 3)</td>\n",
       "      <td>(Point2D(1, -2/3), Point2D(2/3, 1))</td>\n",
       "      <td>Halla un vector direccional y un vector perpen...</td>\n",
       "      <td>1BC</td>\n",
       "      <td>Ejercicios de Geometría</td>\n",
       "      <td>a021be01b</td>\n",
       "      <td>1</td>\n",
       "      <td>2</td>\n",
       "      <td>1</td>\n",
       "      <td>True</td>\n",
       "      <td>True</td>\n",
       "    </tr>\n",
       "    <tr>\n",
       "      <th>4</th>\n",
       "      <td>\\frac{x-2}{4}=\\frac{5-y}{1}</td>\n",
       "      <td>Eq(y, 5*x + 3)</td>\n",
       "      <td>(Point2D(1, -1/4), Point2D(1/4, 1))</td>\n",
       "      <td>Halla un vector direccional y un vector perpen...</td>\n",
       "      <td>1BC</td>\n",
       "      <td>Ejercicios de Geometría</td>\n",
       "      <td>a021be01b</td>\n",
       "      <td>1</td>\n",
       "      <td>2</td>\n",
       "      <td>1</td>\n",
       "      <td>True</td>\n",
       "      <td>True</td>\n",
       "    </tr>\n",
       "    <tr>\n",
       "      <th>5</th>\n",
       "      <td>y=7</td>\n",
       "      <td>Eq(y, 5*x + 3)</td>\n",
       "      <td>(Point2D(1, 0), Point2D(0, 1))</td>\n",
       "      <td>Halla un vector direccional y un vector perpen...</td>\n",
       "      <td>1BC</td>\n",
       "      <td>Ejercicios de Geometría</td>\n",
       "      <td>a021be01b</td>\n",
       "      <td>1</td>\n",
       "      <td>2</td>\n",
       "      <td>1</td>\n",
       "      <td>True</td>\n",
       "      <td>True</td>\n",
       "    </tr>\n",
       "    <tr>\n",
       "      <th>6</th>\n",
       "      <td>y=5x+3</td>\n",
       "      <td>Eq(y, 5*x + 3)</td>\n",
       "      <td>(Point2D(1, 5), Point2D(-5, 1))</td>\n",
       "      <td>Halla un vector direccional y un vector perpen...</td>\n",
       "      <td>1BC</td>\n",
       "      <td>Ejercicios de Geometría</td>\n",
       "      <td>a021be01b</td>\n",
       "      <td>1</td>\n",
       "      <td>2</td>\n",
       "      <td>1</td>\n",
       "      <td>True</td>\n",
       "      <td>True</td>\n",
       "    </tr>\n",
       "    <tr>\n",
       "      <th>7</th>\n",
       "      <td>A=(3, 1), \\ B=(1, 3),\\  y \\ C=(4, 4)</td>\n",
       "      <td>[(1, 1), (1, 5), (2, 6)]</td>\n",
       "      <td>True</td>\n",
       "      <td>Comprobar si es isósceles el triángulo de vért...</td>\n",
       "      <td>1BC</td>\n",
       "      <td>Ejercicios de Geometría</td>\n",
       "      <td>a021be02</td>\n",
       "      <td>1</td>\n",
       "      <td>2</td>\n",
       "      <td>1</td>\n",
       "      <td>True</td>\n",
       "      <td>True</td>\n",
       "    </tr>\n",
       "    <tr>\n",
       "      <th>8</th>\n",
       "      <td>A=(1, 1), \\ B=(1, 5),\\  y \\ C=(2, 6)</td>\n",
       "      <td>[(1, 1), (1, 5), (2, 6)]</td>\n",
       "      <td>False</td>\n",
       "      <td>Comprobar si es isósceles el triángulo de vért...</td>\n",
       "      <td>1BC</td>\n",
       "      <td>Ejercicios de Geometría</td>\n",
       "      <td>a021be02</td>\n",
       "      <td>1</td>\n",
       "      <td>2</td>\n",
       "      <td>1</td>\n",
       "      <td>True</td>\n",
       "      <td>True</td>\n",
       "    </tr>\n",
       "    <tr>\n",
       "      <th>9</th>\n",
       "      <td>r\\equiv4x-2y-1=0\\  y \\ s\\equiv2x+5y-2=0</td>\n",
       "      <td>['-x+2y+6=0', '-3x+y+1=0']</td>\n",
       "      <td>85.23635830927383</td>\n",
       "      <td>Determinar el ángulo formado por las rectas:</td>\n",
       "      <td>1BC</td>\n",
       "      <td>Ejercicios de Geometría</td>\n",
       "      <td>a021be03</td>\n",
       "      <td>1</td>\n",
       "      <td>2</td>\n",
       "      <td>1</td>\n",
       "      <td>True</td>\n",
       "      <td>True</td>\n",
       "    </tr>\n",
       "    <tr>\n",
       "      <th>10</th>\n",
       "      <td>r\\equiv-x+2y+6=0\\  y \\ s\\equiv-3x+y+1=0</td>\n",
       "      <td>['-x+2y+6=0', '-3x+y+1=0']</td>\n",
       "      <td>45.0</td>\n",
       "      <td>Determinar el ángulo formado por las rectas:</td>\n",
       "      <td>1BC</td>\n",
       "      <td>Ejercicios de Geometría</td>\n",
       "      <td>a021be03</td>\n",
       "      <td>1</td>\n",
       "      <td>2</td>\n",
       "      <td>1</td>\n",
       "      <td>True</td>\n",
       "      <td>True</td>\n",
       "    </tr>\n",
       "    <tr>\n",
       "      <th>11</th>\n",
       "      <td>A=(1, 3)</td>\n",
       "      <td>(-1, 3)</td>\n",
       "      <td>x + y - 4 = 0</td>\n",
       "      <td>Hallar la ecuación de la recta paralela a la b...</td>\n",
       "      <td>1BC</td>\n",
       "      <td>Ejercicios de Geometría</td>\n",
       "      <td>a021be04</td>\n",
       "      <td>1</td>\n",
       "      <td>1</td>\n",
       "      <td>1</td>\n",
       "      <td>True</td>\n",
       "      <td>True</td>\n",
       "    </tr>\n",
       "    <tr>\n",
       "      <th>12</th>\n",
       "      <td>A=(-1, 3)</td>\n",
       "      <td>(-1, 3)</td>\n",
       "      <td>x + y - 2 = 0</td>\n",
       "      <td>Hallar la ecuación de la recta paralela a la b...</td>\n",
       "      <td>1BC</td>\n",
       "      <td>Ejercicios de Geometría</td>\n",
       "      <td>a021be04</td>\n",
       "      <td>1</td>\n",
       "      <td>1</td>\n",
       "      <td>1</td>\n",
       "      <td>True</td>\n",
       "      <td>True</td>\n",
       "    </tr>\n",
       "    <tr>\n",
       "      <th>13</th>\n",
       "      <td>A(1, 3) \\ y \\   r\\equiv x+y=2</td>\n",
       "      <td>[(-1, 1), 'x+2y=2']</td>\n",
       "      <td>\\left [ - x + y - 2 = 0, \\quad Point2D(0, 2), ...</td>\n",
       "      <td>Determinar el punto simétrico al punto y respe...</td>\n",
       "      <td>1BC</td>\n",
       "      <td>Ejercicios de Geometría</td>\n",
       "      <td>a021be05</td>\n",
       "      <td>1</td>\n",
       "      <td>1</td>\n",
       "      <td>1</td>\n",
       "      <td>True</td>\n",
       "      <td>True</td>\n",
       "    </tr>\n",
       "    <tr>\n",
       "      <th>14</th>\n",
       "      <td>A(-1, 1) \\ y \\   r\\equiv x+2y=2</td>\n",
       "      <td>[(-1, 1), 'x+2y=2']</td>\n",
       "      <td>\\left [ - x + \\frac{y}{2} - \\frac{3}{2} = 0, \\...</td>\n",
       "      <td>Determinar el punto simétrico al punto y respe...</td>\n",
       "      <td>1BC</td>\n",
       "      <td>Ejercicios de Geometría</td>\n",
       "      <td>a021be05</td>\n",
       "      <td>1</td>\n",
       "      <td>1</td>\n",
       "      <td>1</td>\n",
       "      <td>True</td>\n",
       "      <td>True</td>\n",
       "    </tr>\n",
       "    <tr>\n",
       "      <th>15</th>\n",
       "      <td>A(4, 0)\\  , \\ B=(6, 2) \\ y \\  C \\in r\\equiv 3...</td>\n",
       "      <td>[(3, 0), (0, 3), 'x+y+1=0']</td>\n",
       "      <td>\\left [ \\left \\{ x : - \\frac{5}{2}, \\quad y : ...</td>\n",
       "      <td>Calcula el vértice C de un triángulo isósceles...</td>\n",
       "      <td>1BC</td>\n",
       "      <td>Ejercicios de Geometría</td>\n",
       "      <td>a021be06</td>\n",
       "      <td>1</td>\n",
       "      <td>1</td>\n",
       "      <td>1</td>\n",
       "      <td>True</td>\n",
       "      <td>True</td>\n",
       "    </tr>\n",
       "    <tr>\n",
       "      <th>16</th>\n",
       "      <td>A(3, 0)\\  , \\ B=(0, 3) \\ y \\  C \\in r\\equiv x...</td>\n",
       "      <td>[(3, 0), (0, 3), 'x+y+1=0']</td>\n",
       "      <td>\\left [ \\left \\{ x : - \\frac{1}{2}, \\quad y : ...</td>\n",
       "      <td>Calcula el vértice C de un triángulo isósceles...</td>\n",
       "      <td>1BC</td>\n",
       "      <td>Ejercicios de Geometría</td>\n",
       "      <td>a021be06</td>\n",
       "      <td>1</td>\n",
       "      <td>1</td>\n",
       "      <td>1</td>\n",
       "      <td>True</td>\n",
       "      <td>True</td>\n",
       "    </tr>\n",
       "    <tr>\n",
       "      <th>17</th>\n",
       "      <td>A=(-1, 0), \\ B=(1, 3),\\  y \\ C=(2, -3)</td>\n",
       "      <td>[(2, 1), (3, 2), (2, -3)]</td>\n",
       "      <td>\\frac{15}{2}</td>\n",
       "      <td>Calcula el área del triángulo de vértices:</td>\n",
       "      <td>1BC</td>\n",
       "      <td>Ejercicios de Geometría</td>\n",
       "      <td>a021be07</td>\n",
       "      <td>1</td>\n",
       "      <td>1</td>\n",
       "      <td>1</td>\n",
       "      <td>True</td>\n",
       "      <td>True</td>\n",
       "    </tr>\n",
       "    <tr>\n",
       "      <th>18</th>\n",
       "      <td>A=(2, 1), \\ B=(3, 2),\\  y \\ C=(2, -3)</td>\n",
       "      <td>[(2, 1), (3, 2), (2, -3)]</td>\n",
       "      <td>2</td>\n",
       "      <td>Calcula el área del triángulo de vértices:</td>\n",
       "      <td>1BC</td>\n",
       "      <td>Ejercicios de Geometría</td>\n",
       "      <td>a021be07</td>\n",
       "      <td>1</td>\n",
       "      <td>1</td>\n",
       "      <td>1</td>\n",
       "      <td>True</td>\n",
       "      <td>True</td>\n",
       "    </tr>\n",
       "  </tbody>\n",
       "</table>\n",
       "</div>"
      ],
      "text/plain": [
       "                                      enunciado_latex  \\\n",
       "0              A(2, 3) \\ y \\overrightarrow{u}=(3, -6)   \n",
       "1               A(0, 5) \\ y \\overrightarrow{u}=(5, 0)   \n",
       "2              A(6, 2) \\ y \\overrightarrow{u}=(2, -6)   \n",
       "3                                           2x+3y+5=0   \n",
       "4                         \\frac{x-2}{4}=\\frac{5-y}{1}   \n",
       "5                                                 y=7   \n",
       "6                                              y=5x+3   \n",
       "7                A=(3, 1), \\ B=(1, 3),\\  y \\ C=(4, 4)   \n",
       "8                A=(1, 1), \\ B=(1, 5),\\  y \\ C=(2, 6)   \n",
       "9             r\\equiv4x-2y-1=0\\  y \\ s\\equiv2x+5y-2=0   \n",
       "10            r\\equiv-x+2y+6=0\\  y \\ s\\equiv-3x+y+1=0   \n",
       "11                                           A=(1, 3)   \n",
       "12                                          A=(-1, 3)   \n",
       "13                      A(1, 3) \\ y \\   r\\equiv x+y=2   \n",
       "14                    A(-1, 1) \\ y \\   r\\equiv x+2y=2   \n",
       "15   A(4, 0)\\  , \\ B=(6, 2) \\ y \\  C \\in r\\equiv 3...   \n",
       "16   A(3, 0)\\  , \\ B=(0, 3) \\ y \\  C \\in r\\equiv x...   \n",
       "17             A=(-1, 0), \\ B=(1, 3),\\  y \\ C=(2, -3)   \n",
       "18              A=(2, 1), \\ B=(3, 2),\\  y \\ C=(2, -3)   \n",
       "\n",
       "                      enunciado  \\\n",
       "0             [(6, 2), (2, -6)]   \n",
       "1             [(6, 2), (2, -6)]   \n",
       "2             [(6, 2), (2, -6)]   \n",
       "3                Eq(y, 5*x + 3)   \n",
       "4                Eq(y, 5*x + 3)   \n",
       "5                Eq(y, 5*x + 3)   \n",
       "6                Eq(y, 5*x + 3)   \n",
       "7      [(1, 1), (1, 5), (2, 6)]   \n",
       "8      [(1, 1), (1, 5), (2, 6)]   \n",
       "9    ['-x+2y+6=0', '-3x+y+1=0']   \n",
       "10   ['-x+2y+6=0', '-3x+y+1=0']   \n",
       "11                      (-1, 3)   \n",
       "12                      (-1, 3)   \n",
       "13          [(-1, 1), 'x+2y=2']   \n",
       "14          [(-1, 1), 'x+2y=2']   \n",
       "15  [(3, 0), (0, 3), 'x+y+1=0']   \n",
       "16  [(3, 0), (0, 3), 'x+y+1=0']   \n",
       "17    [(2, 1), (3, 2), (2, -3)]   \n",
       "18    [(2, 1), (3, 2), (2, -3)]   \n",
       "\n",
       "                                             solucion  \\\n",
       "0   Point2D(3*t + 2, -6*t + 3) = \\left ( x, \\quad ...   \n",
       "1   Point2D(5*t, 5) = \\left ( x, \\quad y\\right ) \\...   \n",
       "2   Point2D(2*t + 6, -6*t + 2) = \\left ( x, \\quad ...   \n",
       "3                 (Point2D(1, -2/3), Point2D(2/3, 1))   \n",
       "4                 (Point2D(1, -1/4), Point2D(1/4, 1))   \n",
       "5                      (Point2D(1, 0), Point2D(0, 1))   \n",
       "6                     (Point2D(1, 5), Point2D(-5, 1))   \n",
       "7                                                True   \n",
       "8                                               False   \n",
       "9                                   85.23635830927383   \n",
       "10                                               45.0   \n",
       "11                                      x + y - 4 = 0   \n",
       "12                                      x + y - 2 = 0   \n",
       "13  \\left [ - x + y - 2 = 0, \\quad Point2D(0, 2), ...   \n",
       "14  \\left [ - x + \\frac{y}{2} - \\frac{3}{2} = 0, \\...   \n",
       "15  \\left [ \\left \\{ x : - \\frac{5}{2}, \\quad y : ...   \n",
       "16  \\left [ \\left \\{ x : - \\frac{1}{2}, \\quad y : ...   \n",
       "17                                       \\frac{15}{2}   \n",
       "18                                                  2   \n",
       "\n",
       "                                                texto curso  \\\n",
       "0   Hallar las ecuaciones paramétricas y general  ...   1BC   \n",
       "1   Hallar las ecuaciones paramétricas y general  ...   1BC   \n",
       "2   Hallar las ecuaciones paramétricas y general  ...   1BC   \n",
       "3   Halla un vector direccional y un vector perpen...   1BC   \n",
       "4   Halla un vector direccional y un vector perpen...   1BC   \n",
       "5   Halla un vector direccional y un vector perpen...   1BC   \n",
       "6   Halla un vector direccional y un vector perpen...   1BC   \n",
       "7   Comprobar si es isósceles el triángulo de vért...   1BC   \n",
       "8   Comprobar si es isósceles el triángulo de vért...   1BC   \n",
       "9        Determinar el ángulo formado por las rectas:   1BC   \n",
       "10       Determinar el ángulo formado por las rectas:   1BC   \n",
       "11  Hallar la ecuación de la recta paralela a la b...   1BC   \n",
       "12  Hallar la ecuación de la recta paralela a la b...   1BC   \n",
       "13  Determinar el punto simétrico al punto y respe...   1BC   \n",
       "14  Determinar el punto simétrico al punto y respe...   1BC   \n",
       "15  Calcula el vértice C de un triángulo isósceles...   1BC   \n",
       "16  Calcula el vértice C de un triángulo isósceles...   1BC   \n",
       "17         Calcula el área del triángulo de vértices:   1BC   \n",
       "18         Calcula el área del triángulo de vértices:   1BC   \n",
       "\n",
       "                     titulo n_ejercicio  dificultad  n_columnas  puntos  \\\n",
       "0   Ejercicios de Geometría    a021be01           1           2       1   \n",
       "1   Ejercicios de Geometría    a021be01           1           2       1   \n",
       "2   Ejercicios de Geometría    a021be01           1           2       1   \n",
       "3   Ejercicios de Geometría   a021be01b           1           2       1   \n",
       "4   Ejercicios de Geometría   a021be01b           1           2       1   \n",
       "5   Ejercicios de Geometría   a021be01b           1           2       1   \n",
       "6   Ejercicios de Geometría   a021be01b           1           2       1   \n",
       "7   Ejercicios de Geometría    a021be02           1           2       1   \n",
       "8   Ejercicios de Geometría    a021be02           1           2       1   \n",
       "9   Ejercicios de Geometría    a021be03           1           2       1   \n",
       "10  Ejercicios de Geometría    a021be03           1           2       1   \n",
       "11  Ejercicios de Geometría    a021be04           1           1       1   \n",
       "12  Ejercicios de Geometría    a021be04           1           1       1   \n",
       "13  Ejercicios de Geometría    a021be05           1           1       1   \n",
       "14  Ejercicios de Geometría    a021be05           1           1       1   \n",
       "15  Ejercicios de Geometría    a021be06           1           1       1   \n",
       "16  Ejercicios de Geometría    a021be06           1           1       1   \n",
       "17  Ejercicios de Geometría    a021be07           1           1       1   \n",
       "18  Ejercicios de Geometría    a021be07           1           1       1   \n",
       "\n",
       "    enun_tex  sol_tex  \n",
       "0       True     True  \n",
       "1       True     True  \n",
       "2       True     True  \n",
       "3       True     True  \n",
       "4       True     True  \n",
       "5       True     True  \n",
       "6       True     True  \n",
       "7       True     True  \n",
       "8       True     True  \n",
       "9       True     True  \n",
       "10      True     True  \n",
       "11      True     True  \n",
       "12      True     True  \n",
       "13      True     True  \n",
       "14      True     True  \n",
       "15      True     True  \n",
       "16      True     True  \n",
       "17      True     True  \n",
       "18      True     True  "
      ]
     },
     "execution_count": 16,
     "metadata": {},
     "output_type": "execute_result"
    }
   ],
   "source": [
    "df_ejercicios"
   ]
  },
  {
   "cell_type": "code",
   "execution_count": 17,
   "metadata": {},
   "outputs": [
    {
     "data": {
      "text/markdown": [
       "**Ejercicio: **a021be01"
      ],
      "text/plain": [
       "<IPython.core.display.Markdown object>"
      ]
     },
     "metadata": {},
     "output_type": "display_data"
    },
    {
     "data": {
      "text/html": [
       "<div>\n",
       "<style scoped>\n",
       "    .dataframe tbody tr th:only-of-type {\n",
       "        vertical-align: middle;\n",
       "    }\n",
       "\n",
       "    .dataframe tbody tr th {\n",
       "        vertical-align: top;\n",
       "    }\n",
       "\n",
       "    .dataframe thead th {\n",
       "        text-align: right;\n",
       "    }\n",
       "</style>\n",
       "<table border=\"1\" class=\"dataframe\">\n",
       "  <thead>\n",
       "    <tr style=\"text-align: right;\">\n",
       "      <th></th>\n",
       "      <th>enunciado_latex</th>\n",
       "      <th>enunciado</th>\n",
       "      <th>solucion</th>\n",
       "      <th>texto</th>\n",
       "      <th>curso</th>\n",
       "      <th>titulo</th>\n",
       "      <th>n_ejercicio</th>\n",
       "      <th>dificultad</th>\n",
       "      <th>n_columnas</th>\n",
       "      <th>puntos</th>\n",
       "      <th>enun_tex</th>\n",
       "      <th>sol_tex</th>\n",
       "    </tr>\n",
       "  </thead>\n",
       "  <tbody>\n",
       "    <tr>\n",
       "      <th>0</th>\n",
       "      <td>A(2, 3) \\ y \\overrightarrow{u}=(3, -6)</td>\n",
       "      <td>[(6, 2), (2, -6)]</td>\n",
       "      <td>Point2D(3*t + 2, -6*t + 3) = \\left ( x, \\quad ...</td>\n",
       "      <td>Hallar las ecuaciones paramétricas y general  ...</td>\n",
       "      <td>1BC</td>\n",
       "      <td>Ejercicios de Geometría</td>\n",
       "      <td>a021be01</td>\n",
       "      <td>1</td>\n",
       "      <td>2</td>\n",
       "      <td>1</td>\n",
       "      <td>True</td>\n",
       "      <td>True</td>\n",
       "    </tr>\n",
       "    <tr>\n",
       "      <th>1</th>\n",
       "      <td>A(0, 5) \\ y \\overrightarrow{u}=(5, 0)</td>\n",
       "      <td>[(6, 2), (2, -6)]</td>\n",
       "      <td>Point2D(5*t, 5) = \\left ( x, \\quad y\\right ) \\...</td>\n",
       "      <td>Hallar las ecuaciones paramétricas y general  ...</td>\n",
       "      <td>1BC</td>\n",
       "      <td>Ejercicios de Geometría</td>\n",
       "      <td>a021be01</td>\n",
       "      <td>1</td>\n",
       "      <td>2</td>\n",
       "      <td>1</td>\n",
       "      <td>True</td>\n",
       "      <td>True</td>\n",
       "    </tr>\n",
       "    <tr>\n",
       "      <th>2</th>\n",
       "      <td>A(6, 2) \\ y \\overrightarrow{u}=(2, -6)</td>\n",
       "      <td>[(6, 2), (2, -6)]</td>\n",
       "      <td>Point2D(2*t + 6, -6*t + 2) = \\left ( x, \\quad ...</td>\n",
       "      <td>Hallar las ecuaciones paramétricas y general  ...</td>\n",
       "      <td>1BC</td>\n",
       "      <td>Ejercicios de Geometría</td>\n",
       "      <td>a021be01</td>\n",
       "      <td>1</td>\n",
       "      <td>2</td>\n",
       "      <td>1</td>\n",
       "      <td>True</td>\n",
       "      <td>True</td>\n",
       "    </tr>\n",
       "  </tbody>\n",
       "</table>\n",
       "</div>"
      ],
      "text/plain": [
       "                          enunciado_latex          enunciado  \\\n",
       "0  A(2, 3) \\ y \\overrightarrow{u}=(3, -6)  [(6, 2), (2, -6)]   \n",
       "1   A(0, 5) \\ y \\overrightarrow{u}=(5, 0)  [(6, 2), (2, -6)]   \n",
       "2  A(6, 2) \\ y \\overrightarrow{u}=(2, -6)  [(6, 2), (2, -6)]   \n",
       "\n",
       "                                            solucion  \\\n",
       "0  Point2D(3*t + 2, -6*t + 3) = \\left ( x, \\quad ...   \n",
       "1  Point2D(5*t, 5) = \\left ( x, \\quad y\\right ) \\...   \n",
       "2  Point2D(2*t + 6, -6*t + 2) = \\left ( x, \\quad ...   \n",
       "\n",
       "                                               texto curso  \\\n",
       "0  Hallar las ecuaciones paramétricas y general  ...   1BC   \n",
       "1  Hallar las ecuaciones paramétricas y general  ...   1BC   \n",
       "2  Hallar las ecuaciones paramétricas y general  ...   1BC   \n",
       "\n",
       "                    titulo n_ejercicio  dificultad  n_columnas  puntos  \\\n",
       "0  Ejercicios de Geometría    a021be01           1           2       1   \n",
       "1  Ejercicios de Geometría    a021be01           1           2       1   \n",
       "2  Ejercicios de Geometría    a021be01           1           2       1   \n",
       "\n",
       "   enun_tex  sol_tex  \n",
       "0      True     True  \n",
       "1      True     True  \n",
       "2      True     True  "
      ]
     },
     "metadata": {},
     "output_type": "display_data"
    },
    {
     "data": {
      "text/markdown": [
       "**Ejercicio: **a021be01b"
      ],
      "text/plain": [
       "<IPython.core.display.Markdown object>"
      ]
     },
     "metadata": {},
     "output_type": "display_data"
    },
    {
     "data": {
      "text/html": [
       "<div>\n",
       "<style scoped>\n",
       "    .dataframe tbody tr th:only-of-type {\n",
       "        vertical-align: middle;\n",
       "    }\n",
       "\n",
       "    .dataframe tbody tr th {\n",
       "        vertical-align: top;\n",
       "    }\n",
       "\n",
       "    .dataframe thead th {\n",
       "        text-align: right;\n",
       "    }\n",
       "</style>\n",
       "<table border=\"1\" class=\"dataframe\">\n",
       "  <thead>\n",
       "    <tr style=\"text-align: right;\">\n",
       "      <th></th>\n",
       "      <th>enunciado_latex</th>\n",
       "      <th>enunciado</th>\n",
       "      <th>solucion</th>\n",
       "      <th>texto</th>\n",
       "      <th>curso</th>\n",
       "      <th>titulo</th>\n",
       "      <th>n_ejercicio</th>\n",
       "      <th>dificultad</th>\n",
       "      <th>n_columnas</th>\n",
       "      <th>puntos</th>\n",
       "      <th>enun_tex</th>\n",
       "      <th>sol_tex</th>\n",
       "    </tr>\n",
       "  </thead>\n",
       "  <tbody>\n",
       "    <tr>\n",
       "      <th>3</th>\n",
       "      <td>2x+3y+5=0</td>\n",
       "      <td>Eq(y, 5*x + 3)</td>\n",
       "      <td>(Point2D(1, -2/3), Point2D(2/3, 1))</td>\n",
       "      <td>Halla un vector direccional y un vector perpen...</td>\n",
       "      <td>1BC</td>\n",
       "      <td>Ejercicios de Geometría</td>\n",
       "      <td>a021be01b</td>\n",
       "      <td>1</td>\n",
       "      <td>2</td>\n",
       "      <td>1</td>\n",
       "      <td>True</td>\n",
       "      <td>True</td>\n",
       "    </tr>\n",
       "    <tr>\n",
       "      <th>4</th>\n",
       "      <td>\\frac{x-2}{4}=\\frac{5-y}{1}</td>\n",
       "      <td>Eq(y, 5*x + 3)</td>\n",
       "      <td>(Point2D(1, -1/4), Point2D(1/4, 1))</td>\n",
       "      <td>Halla un vector direccional y un vector perpen...</td>\n",
       "      <td>1BC</td>\n",
       "      <td>Ejercicios de Geometría</td>\n",
       "      <td>a021be01b</td>\n",
       "      <td>1</td>\n",
       "      <td>2</td>\n",
       "      <td>1</td>\n",
       "      <td>True</td>\n",
       "      <td>True</td>\n",
       "    </tr>\n",
       "    <tr>\n",
       "      <th>5</th>\n",
       "      <td>y=7</td>\n",
       "      <td>Eq(y, 5*x + 3)</td>\n",
       "      <td>(Point2D(1, 0), Point2D(0, 1))</td>\n",
       "      <td>Halla un vector direccional y un vector perpen...</td>\n",
       "      <td>1BC</td>\n",
       "      <td>Ejercicios de Geometría</td>\n",
       "      <td>a021be01b</td>\n",
       "      <td>1</td>\n",
       "      <td>2</td>\n",
       "      <td>1</td>\n",
       "      <td>True</td>\n",
       "      <td>True</td>\n",
       "    </tr>\n",
       "    <tr>\n",
       "      <th>6</th>\n",
       "      <td>y=5x+3</td>\n",
       "      <td>Eq(y, 5*x + 3)</td>\n",
       "      <td>(Point2D(1, 5), Point2D(-5, 1))</td>\n",
       "      <td>Halla un vector direccional y un vector perpen...</td>\n",
       "      <td>1BC</td>\n",
       "      <td>Ejercicios de Geometría</td>\n",
       "      <td>a021be01b</td>\n",
       "      <td>1</td>\n",
       "      <td>2</td>\n",
       "      <td>1</td>\n",
       "      <td>True</td>\n",
       "      <td>True</td>\n",
       "    </tr>\n",
       "  </tbody>\n",
       "</table>\n",
       "</div>"
      ],
      "text/plain": [
       "               enunciado_latex       enunciado  \\\n",
       "3                    2x+3y+5=0  Eq(y, 5*x + 3)   \n",
       "4  \\frac{x-2}{4}=\\frac{5-y}{1}  Eq(y, 5*x + 3)   \n",
       "5                          y=7  Eq(y, 5*x + 3)   \n",
       "6                       y=5x+3  Eq(y, 5*x + 3)   \n",
       "\n",
       "                              solucion  \\\n",
       "3  (Point2D(1, -2/3), Point2D(2/3, 1))   \n",
       "4  (Point2D(1, -1/4), Point2D(1/4, 1))   \n",
       "5       (Point2D(1, 0), Point2D(0, 1))   \n",
       "6      (Point2D(1, 5), Point2D(-5, 1))   \n",
       "\n",
       "                                               texto curso  \\\n",
       "3  Halla un vector direccional y un vector perpen...   1BC   \n",
       "4  Halla un vector direccional y un vector perpen...   1BC   \n",
       "5  Halla un vector direccional y un vector perpen...   1BC   \n",
       "6  Halla un vector direccional y un vector perpen...   1BC   \n",
       "\n",
       "                    titulo n_ejercicio  dificultad  n_columnas  puntos  \\\n",
       "3  Ejercicios de Geometría   a021be01b           1           2       1   \n",
       "4  Ejercicios de Geometría   a021be01b           1           2       1   \n",
       "5  Ejercicios de Geometría   a021be01b           1           2       1   \n",
       "6  Ejercicios de Geometría   a021be01b           1           2       1   \n",
       "\n",
       "   enun_tex  sol_tex  \n",
       "3      True     True  \n",
       "4      True     True  \n",
       "5      True     True  \n",
       "6      True     True  "
      ]
     },
     "metadata": {},
     "output_type": "display_data"
    },
    {
     "data": {
      "text/markdown": [
       "**Ejercicio: **a021be02"
      ],
      "text/plain": [
       "<IPython.core.display.Markdown object>"
      ]
     },
     "metadata": {},
     "output_type": "display_data"
    },
    {
     "data": {
      "text/html": [
       "<div>\n",
       "<style scoped>\n",
       "    .dataframe tbody tr th:only-of-type {\n",
       "        vertical-align: middle;\n",
       "    }\n",
       "\n",
       "    .dataframe tbody tr th {\n",
       "        vertical-align: top;\n",
       "    }\n",
       "\n",
       "    .dataframe thead th {\n",
       "        text-align: right;\n",
       "    }\n",
       "</style>\n",
       "<table border=\"1\" class=\"dataframe\">\n",
       "  <thead>\n",
       "    <tr style=\"text-align: right;\">\n",
       "      <th></th>\n",
       "      <th>enunciado_latex</th>\n",
       "      <th>enunciado</th>\n",
       "      <th>solucion</th>\n",
       "      <th>texto</th>\n",
       "      <th>curso</th>\n",
       "      <th>titulo</th>\n",
       "      <th>n_ejercicio</th>\n",
       "      <th>dificultad</th>\n",
       "      <th>n_columnas</th>\n",
       "      <th>puntos</th>\n",
       "      <th>enun_tex</th>\n",
       "      <th>sol_tex</th>\n",
       "    </tr>\n",
       "  </thead>\n",
       "  <tbody>\n",
       "    <tr>\n",
       "      <th>7</th>\n",
       "      <td>A=(3, 1), \\ B=(1, 3),\\  y \\ C=(4, 4)</td>\n",
       "      <td>[(1, 1), (1, 5), (2, 6)]</td>\n",
       "      <td>True</td>\n",
       "      <td>Comprobar si es isósceles el triángulo de vért...</td>\n",
       "      <td>1BC</td>\n",
       "      <td>Ejercicios de Geometría</td>\n",
       "      <td>a021be02</td>\n",
       "      <td>1</td>\n",
       "      <td>2</td>\n",
       "      <td>1</td>\n",
       "      <td>True</td>\n",
       "      <td>True</td>\n",
       "    </tr>\n",
       "    <tr>\n",
       "      <th>8</th>\n",
       "      <td>A=(1, 1), \\ B=(1, 5),\\  y \\ C=(2, 6)</td>\n",
       "      <td>[(1, 1), (1, 5), (2, 6)]</td>\n",
       "      <td>False</td>\n",
       "      <td>Comprobar si es isósceles el triángulo de vért...</td>\n",
       "      <td>1BC</td>\n",
       "      <td>Ejercicios de Geometría</td>\n",
       "      <td>a021be02</td>\n",
       "      <td>1</td>\n",
       "      <td>2</td>\n",
       "      <td>1</td>\n",
       "      <td>True</td>\n",
       "      <td>True</td>\n",
       "    </tr>\n",
       "  </tbody>\n",
       "</table>\n",
       "</div>"
      ],
      "text/plain": [
       "                        enunciado_latex                 enunciado solucion  \\\n",
       "7  A=(3, 1), \\ B=(1, 3),\\  y \\ C=(4, 4)  [(1, 1), (1, 5), (2, 6)]     True   \n",
       "8  A=(1, 1), \\ B=(1, 5),\\  y \\ C=(2, 6)  [(1, 1), (1, 5), (2, 6)]    False   \n",
       "\n",
       "                                               texto curso  \\\n",
       "7  Comprobar si es isósceles el triángulo de vért...   1BC   \n",
       "8  Comprobar si es isósceles el triángulo de vért...   1BC   \n",
       "\n",
       "                    titulo n_ejercicio  dificultad  n_columnas  puntos  \\\n",
       "7  Ejercicios de Geometría    a021be02           1           2       1   \n",
       "8  Ejercicios de Geometría    a021be02           1           2       1   \n",
       "\n",
       "   enun_tex  sol_tex  \n",
       "7      True     True  \n",
       "8      True     True  "
      ]
     },
     "metadata": {},
     "output_type": "display_data"
    },
    {
     "data": {
      "text/markdown": [
       "**Ejercicio: **a021be03"
      ],
      "text/plain": [
       "<IPython.core.display.Markdown object>"
      ]
     },
     "metadata": {},
     "output_type": "display_data"
    },
    {
     "data": {
      "text/html": [
       "<div>\n",
       "<style scoped>\n",
       "    .dataframe tbody tr th:only-of-type {\n",
       "        vertical-align: middle;\n",
       "    }\n",
       "\n",
       "    .dataframe tbody tr th {\n",
       "        vertical-align: top;\n",
       "    }\n",
       "\n",
       "    .dataframe thead th {\n",
       "        text-align: right;\n",
       "    }\n",
       "</style>\n",
       "<table border=\"1\" class=\"dataframe\">\n",
       "  <thead>\n",
       "    <tr style=\"text-align: right;\">\n",
       "      <th></th>\n",
       "      <th>enunciado_latex</th>\n",
       "      <th>enunciado</th>\n",
       "      <th>solucion</th>\n",
       "      <th>texto</th>\n",
       "      <th>curso</th>\n",
       "      <th>titulo</th>\n",
       "      <th>n_ejercicio</th>\n",
       "      <th>dificultad</th>\n",
       "      <th>n_columnas</th>\n",
       "      <th>puntos</th>\n",
       "      <th>enun_tex</th>\n",
       "      <th>sol_tex</th>\n",
       "    </tr>\n",
       "  </thead>\n",
       "  <tbody>\n",
       "    <tr>\n",
       "      <th>9</th>\n",
       "      <td>r\\equiv4x-2y-1=0\\  y \\ s\\equiv2x+5y-2=0</td>\n",
       "      <td>['-x+2y+6=0', '-3x+y+1=0']</td>\n",
       "      <td>85.23635830927383</td>\n",
       "      <td>Determinar el ángulo formado por las rectas:</td>\n",
       "      <td>1BC</td>\n",
       "      <td>Ejercicios de Geometría</td>\n",
       "      <td>a021be03</td>\n",
       "      <td>1</td>\n",
       "      <td>2</td>\n",
       "      <td>1</td>\n",
       "      <td>True</td>\n",
       "      <td>True</td>\n",
       "    </tr>\n",
       "    <tr>\n",
       "      <th>10</th>\n",
       "      <td>r\\equiv-x+2y+6=0\\  y \\ s\\equiv-3x+y+1=0</td>\n",
       "      <td>['-x+2y+6=0', '-3x+y+1=0']</td>\n",
       "      <td>45.0</td>\n",
       "      <td>Determinar el ángulo formado por las rectas:</td>\n",
       "      <td>1BC</td>\n",
       "      <td>Ejercicios de Geometría</td>\n",
       "      <td>a021be03</td>\n",
       "      <td>1</td>\n",
       "      <td>2</td>\n",
       "      <td>1</td>\n",
       "      <td>True</td>\n",
       "      <td>True</td>\n",
       "    </tr>\n",
       "  </tbody>\n",
       "</table>\n",
       "</div>"
      ],
      "text/plain": [
       "                            enunciado_latex                   enunciado  \\\n",
       "9   r\\equiv4x-2y-1=0\\  y \\ s\\equiv2x+5y-2=0  ['-x+2y+6=0', '-3x+y+1=0']   \n",
       "10  r\\equiv-x+2y+6=0\\  y \\ s\\equiv-3x+y+1=0  ['-x+2y+6=0', '-3x+y+1=0']   \n",
       "\n",
       "             solucion                                         texto curso  \\\n",
       "9   85.23635830927383  Determinar el ángulo formado por las rectas:   1BC   \n",
       "10               45.0  Determinar el ángulo formado por las rectas:   1BC   \n",
       "\n",
       "                     titulo n_ejercicio  dificultad  n_columnas  puntos  \\\n",
       "9   Ejercicios de Geometría    a021be03           1           2       1   \n",
       "10  Ejercicios de Geometría    a021be03           1           2       1   \n",
       "\n",
       "    enun_tex  sol_tex  \n",
       "9       True     True  \n",
       "10      True     True  "
      ]
     },
     "metadata": {},
     "output_type": "display_data"
    },
    {
     "data": {
      "text/markdown": [
       "**Ejercicio: **a021be04"
      ],
      "text/plain": [
       "<IPython.core.display.Markdown object>"
      ]
     },
     "metadata": {},
     "output_type": "display_data"
    },
    {
     "data": {
      "text/html": [
       "<div>\n",
       "<style scoped>\n",
       "    .dataframe tbody tr th:only-of-type {\n",
       "        vertical-align: middle;\n",
       "    }\n",
       "\n",
       "    .dataframe tbody tr th {\n",
       "        vertical-align: top;\n",
       "    }\n",
       "\n",
       "    .dataframe thead th {\n",
       "        text-align: right;\n",
       "    }\n",
       "</style>\n",
       "<table border=\"1\" class=\"dataframe\">\n",
       "  <thead>\n",
       "    <tr style=\"text-align: right;\">\n",
       "      <th></th>\n",
       "      <th>enunciado_latex</th>\n",
       "      <th>enunciado</th>\n",
       "      <th>solucion</th>\n",
       "      <th>texto</th>\n",
       "      <th>curso</th>\n",
       "      <th>titulo</th>\n",
       "      <th>n_ejercicio</th>\n",
       "      <th>dificultad</th>\n",
       "      <th>n_columnas</th>\n",
       "      <th>puntos</th>\n",
       "      <th>enun_tex</th>\n",
       "      <th>sol_tex</th>\n",
       "    </tr>\n",
       "  </thead>\n",
       "  <tbody>\n",
       "    <tr>\n",
       "      <th>11</th>\n",
       "      <td>A=(1, 3)</td>\n",
       "      <td>(-1, 3)</td>\n",
       "      <td>x + y - 4 = 0</td>\n",
       "      <td>Hallar la ecuación de la recta paralela a la b...</td>\n",
       "      <td>1BC</td>\n",
       "      <td>Ejercicios de Geometría</td>\n",
       "      <td>a021be04</td>\n",
       "      <td>1</td>\n",
       "      <td>1</td>\n",
       "      <td>1</td>\n",
       "      <td>True</td>\n",
       "      <td>True</td>\n",
       "    </tr>\n",
       "    <tr>\n",
       "      <th>12</th>\n",
       "      <td>A=(-1, 3)</td>\n",
       "      <td>(-1, 3)</td>\n",
       "      <td>x + y - 2 = 0</td>\n",
       "      <td>Hallar la ecuación de la recta paralela a la b...</td>\n",
       "      <td>1BC</td>\n",
       "      <td>Ejercicios de Geometría</td>\n",
       "      <td>a021be04</td>\n",
       "      <td>1</td>\n",
       "      <td>1</td>\n",
       "      <td>1</td>\n",
       "      <td>True</td>\n",
       "      <td>True</td>\n",
       "    </tr>\n",
       "  </tbody>\n",
       "</table>\n",
       "</div>"
      ],
      "text/plain": [
       "   enunciado_latex enunciado       solucion  \\\n",
       "11        A=(1, 3)   (-1, 3)  x + y - 4 = 0   \n",
       "12       A=(-1, 3)   (-1, 3)  x + y - 2 = 0   \n",
       "\n",
       "                                                texto curso  \\\n",
       "11  Hallar la ecuación de la recta paralela a la b...   1BC   \n",
       "12  Hallar la ecuación de la recta paralela a la b...   1BC   \n",
       "\n",
       "                     titulo n_ejercicio  dificultad  n_columnas  puntos  \\\n",
       "11  Ejercicios de Geometría    a021be04           1           1       1   \n",
       "12  Ejercicios de Geometría    a021be04           1           1       1   \n",
       "\n",
       "    enun_tex  sol_tex  \n",
       "11      True     True  \n",
       "12      True     True  "
      ]
     },
     "metadata": {},
     "output_type": "display_data"
    },
    {
     "data": {
      "text/markdown": [
       "**Ejercicio: **a021be05"
      ],
      "text/plain": [
       "<IPython.core.display.Markdown object>"
      ]
     },
     "metadata": {},
     "output_type": "display_data"
    },
    {
     "data": {
      "text/html": [
       "<div>\n",
       "<style scoped>\n",
       "    .dataframe tbody tr th:only-of-type {\n",
       "        vertical-align: middle;\n",
       "    }\n",
       "\n",
       "    .dataframe tbody tr th {\n",
       "        vertical-align: top;\n",
       "    }\n",
       "\n",
       "    .dataframe thead th {\n",
       "        text-align: right;\n",
       "    }\n",
       "</style>\n",
       "<table border=\"1\" class=\"dataframe\">\n",
       "  <thead>\n",
       "    <tr style=\"text-align: right;\">\n",
       "      <th></th>\n",
       "      <th>enunciado_latex</th>\n",
       "      <th>enunciado</th>\n",
       "      <th>solucion</th>\n",
       "      <th>texto</th>\n",
       "      <th>curso</th>\n",
       "      <th>titulo</th>\n",
       "      <th>n_ejercicio</th>\n",
       "      <th>dificultad</th>\n",
       "      <th>n_columnas</th>\n",
       "      <th>puntos</th>\n",
       "      <th>enun_tex</th>\n",
       "      <th>sol_tex</th>\n",
       "    </tr>\n",
       "  </thead>\n",
       "  <tbody>\n",
       "    <tr>\n",
       "      <th>13</th>\n",
       "      <td>A(1, 3) \\ y \\   r\\equiv x+y=2</td>\n",
       "      <td>[(-1, 1), 'x+2y=2']</td>\n",
       "      <td>\\left [ - x + y - 2 = 0, \\quad Point2D(0, 2), ...</td>\n",
       "      <td>Determinar el punto simétrico al punto y respe...</td>\n",
       "      <td>1BC</td>\n",
       "      <td>Ejercicios de Geometría</td>\n",
       "      <td>a021be05</td>\n",
       "      <td>1</td>\n",
       "      <td>1</td>\n",
       "      <td>1</td>\n",
       "      <td>True</td>\n",
       "      <td>True</td>\n",
       "    </tr>\n",
       "    <tr>\n",
       "      <th>14</th>\n",
       "      <td>A(-1, 1) \\ y \\   r\\equiv x+2y=2</td>\n",
       "      <td>[(-1, 1), 'x+2y=2']</td>\n",
       "      <td>\\left [ - x + \\frac{y}{2} - \\frac{3}{2} = 0, \\...</td>\n",
       "      <td>Determinar el punto simétrico al punto y respe...</td>\n",
       "      <td>1BC</td>\n",
       "      <td>Ejercicios de Geometría</td>\n",
       "      <td>a021be05</td>\n",
       "      <td>1</td>\n",
       "      <td>1</td>\n",
       "      <td>1</td>\n",
       "      <td>True</td>\n",
       "      <td>True</td>\n",
       "    </tr>\n",
       "  </tbody>\n",
       "</table>\n",
       "</div>"
      ],
      "text/plain": [
       "                     enunciado_latex            enunciado  \\\n",
       "13     A(1, 3) \\ y \\   r\\equiv x+y=2  [(-1, 1), 'x+2y=2']   \n",
       "14   A(-1, 1) \\ y \\   r\\equiv x+2y=2  [(-1, 1), 'x+2y=2']   \n",
       "\n",
       "                                             solucion  \\\n",
       "13  \\left [ - x + y - 2 = 0, \\quad Point2D(0, 2), ...   \n",
       "14  \\left [ - x + \\frac{y}{2} - \\frac{3}{2} = 0, \\...   \n",
       "\n",
       "                                                texto curso  \\\n",
       "13  Determinar el punto simétrico al punto y respe...   1BC   \n",
       "14  Determinar el punto simétrico al punto y respe...   1BC   \n",
       "\n",
       "                     titulo n_ejercicio  dificultad  n_columnas  puntos  \\\n",
       "13  Ejercicios de Geometría    a021be05           1           1       1   \n",
       "14  Ejercicios de Geometría    a021be05           1           1       1   \n",
       "\n",
       "    enun_tex  sol_tex  \n",
       "13      True     True  \n",
       "14      True     True  "
      ]
     },
     "metadata": {},
     "output_type": "display_data"
    },
    {
     "data": {
      "text/markdown": [
       "**Ejercicio: **a021be06"
      ],
      "text/plain": [
       "<IPython.core.display.Markdown object>"
      ]
     },
     "metadata": {},
     "output_type": "display_data"
    },
    {
     "data": {
      "text/html": [
       "<div>\n",
       "<style scoped>\n",
       "    .dataframe tbody tr th:only-of-type {\n",
       "        vertical-align: middle;\n",
       "    }\n",
       "\n",
       "    .dataframe tbody tr th {\n",
       "        vertical-align: top;\n",
       "    }\n",
       "\n",
       "    .dataframe thead th {\n",
       "        text-align: right;\n",
       "    }\n",
       "</style>\n",
       "<table border=\"1\" class=\"dataframe\">\n",
       "  <thead>\n",
       "    <tr style=\"text-align: right;\">\n",
       "      <th></th>\n",
       "      <th>enunciado_latex</th>\n",
       "      <th>enunciado</th>\n",
       "      <th>solucion</th>\n",
       "      <th>texto</th>\n",
       "      <th>curso</th>\n",
       "      <th>titulo</th>\n",
       "      <th>n_ejercicio</th>\n",
       "      <th>dificultad</th>\n",
       "      <th>n_columnas</th>\n",
       "      <th>puntos</th>\n",
       "      <th>enun_tex</th>\n",
       "      <th>sol_tex</th>\n",
       "    </tr>\n",
       "  </thead>\n",
       "  <tbody>\n",
       "    <tr>\n",
       "      <th>15</th>\n",
       "      <td>A(4, 0)\\  , \\ B=(6, 2) \\ y \\  C \\in r\\equiv 3...</td>\n",
       "      <td>[(3, 0), (0, 3), 'x+y+1=0']</td>\n",
       "      <td>\\left [ \\left \\{ x : - \\frac{5}{2}, \\quad y : ...</td>\n",
       "      <td>Calcula el vértice C de un triángulo isósceles...</td>\n",
       "      <td>1BC</td>\n",
       "      <td>Ejercicios de Geometría</td>\n",
       "      <td>a021be06</td>\n",
       "      <td>1</td>\n",
       "      <td>1</td>\n",
       "      <td>1</td>\n",
       "      <td>True</td>\n",
       "      <td>True</td>\n",
       "    </tr>\n",
       "    <tr>\n",
       "      <th>16</th>\n",
       "      <td>A(3, 0)\\  , \\ B=(0, 3) \\ y \\  C \\in r\\equiv x...</td>\n",
       "      <td>[(3, 0), (0, 3), 'x+y+1=0']</td>\n",
       "      <td>\\left [ \\left \\{ x : - \\frac{1}{2}, \\quad y : ...</td>\n",
       "      <td>Calcula el vértice C de un triángulo isósceles...</td>\n",
       "      <td>1BC</td>\n",
       "      <td>Ejercicios de Geometría</td>\n",
       "      <td>a021be06</td>\n",
       "      <td>1</td>\n",
       "      <td>1</td>\n",
       "      <td>1</td>\n",
       "      <td>True</td>\n",
       "      <td>True</td>\n",
       "    </tr>\n",
       "  </tbody>\n",
       "</table>\n",
       "</div>"
      ],
      "text/plain": [
       "                                      enunciado_latex  \\\n",
       "15   A(4, 0)\\  , \\ B=(6, 2) \\ y \\  C \\in r\\equiv 3...   \n",
       "16   A(3, 0)\\  , \\ B=(0, 3) \\ y \\  C \\in r\\equiv x...   \n",
       "\n",
       "                      enunciado  \\\n",
       "15  [(3, 0), (0, 3), 'x+y+1=0']   \n",
       "16  [(3, 0), (0, 3), 'x+y+1=0']   \n",
       "\n",
       "                                             solucion  \\\n",
       "15  \\left [ \\left \\{ x : - \\frac{5}{2}, \\quad y : ...   \n",
       "16  \\left [ \\left \\{ x : - \\frac{1}{2}, \\quad y : ...   \n",
       "\n",
       "                                                texto curso  \\\n",
       "15  Calcula el vértice C de un triángulo isósceles...   1BC   \n",
       "16  Calcula el vértice C de un triángulo isósceles...   1BC   \n",
       "\n",
       "                     titulo n_ejercicio  dificultad  n_columnas  puntos  \\\n",
       "15  Ejercicios de Geometría    a021be06           1           1       1   \n",
       "16  Ejercicios de Geometría    a021be06           1           1       1   \n",
       "\n",
       "    enun_tex  sol_tex  \n",
       "15      True     True  \n",
       "16      True     True  "
      ]
     },
     "metadata": {},
     "output_type": "display_data"
    },
    {
     "data": {
      "text/markdown": [
       "**Ejercicio: **a021be07"
      ],
      "text/plain": [
       "<IPython.core.display.Markdown object>"
      ]
     },
     "metadata": {},
     "output_type": "display_data"
    },
    {
     "data": {
      "text/html": [
       "<div>\n",
       "<style scoped>\n",
       "    .dataframe tbody tr th:only-of-type {\n",
       "        vertical-align: middle;\n",
       "    }\n",
       "\n",
       "    .dataframe tbody tr th {\n",
       "        vertical-align: top;\n",
       "    }\n",
       "\n",
       "    .dataframe thead th {\n",
       "        text-align: right;\n",
       "    }\n",
       "</style>\n",
       "<table border=\"1\" class=\"dataframe\">\n",
       "  <thead>\n",
       "    <tr style=\"text-align: right;\">\n",
       "      <th></th>\n",
       "      <th>enunciado_latex</th>\n",
       "      <th>enunciado</th>\n",
       "      <th>solucion</th>\n",
       "      <th>texto</th>\n",
       "      <th>curso</th>\n",
       "      <th>titulo</th>\n",
       "      <th>n_ejercicio</th>\n",
       "      <th>dificultad</th>\n",
       "      <th>n_columnas</th>\n",
       "      <th>puntos</th>\n",
       "      <th>enun_tex</th>\n",
       "      <th>sol_tex</th>\n",
       "    </tr>\n",
       "  </thead>\n",
       "  <tbody>\n",
       "    <tr>\n",
       "      <th>17</th>\n",
       "      <td>A=(-1, 0), \\ B=(1, 3),\\  y \\ C=(2, -3)</td>\n",
       "      <td>[(2, 1), (3, 2), (2, -3)]</td>\n",
       "      <td>\\frac{15}{2}</td>\n",
       "      <td>Calcula el área del triángulo de vértices:</td>\n",
       "      <td>1BC</td>\n",
       "      <td>Ejercicios de Geometría</td>\n",
       "      <td>a021be07</td>\n",
       "      <td>1</td>\n",
       "      <td>1</td>\n",
       "      <td>1</td>\n",
       "      <td>True</td>\n",
       "      <td>True</td>\n",
       "    </tr>\n",
       "    <tr>\n",
       "      <th>18</th>\n",
       "      <td>A=(2, 1), \\ B=(3, 2),\\  y \\ C=(2, -3)</td>\n",
       "      <td>[(2, 1), (3, 2), (2, -3)]</td>\n",
       "      <td>2</td>\n",
       "      <td>Calcula el área del triángulo de vértices:</td>\n",
       "      <td>1BC</td>\n",
       "      <td>Ejercicios de Geometría</td>\n",
       "      <td>a021be07</td>\n",
       "      <td>1</td>\n",
       "      <td>1</td>\n",
       "      <td>1</td>\n",
       "      <td>True</td>\n",
       "      <td>True</td>\n",
       "    </tr>\n",
       "  </tbody>\n",
       "</table>\n",
       "</div>"
      ],
      "text/plain": [
       "                           enunciado_latex                  enunciado  \\\n",
       "17  A=(-1, 0), \\ B=(1, 3),\\  y \\ C=(2, -3)  [(2, 1), (3, 2), (2, -3)]   \n",
       "18   A=(2, 1), \\ B=(3, 2),\\  y \\ C=(2, -3)  [(2, 1), (3, 2), (2, -3)]   \n",
       "\n",
       "        solucion                                       texto curso  \\\n",
       "17  \\frac{15}{2}  Calcula el área del triángulo de vértices:   1BC   \n",
       "18             2  Calcula el área del triángulo de vértices:   1BC   \n",
       "\n",
       "                     titulo n_ejercicio  dificultad  n_columnas  puntos  \\\n",
       "17  Ejercicios de Geometría    a021be07           1           1       1   \n",
       "18  Ejercicios de Geometría    a021be07           1           1       1   \n",
       "\n",
       "    enun_tex  sol_tex  \n",
       "17      True     True  \n",
       "18      True     True  "
      ]
     },
     "metadata": {},
     "output_type": "display_data"
    }
   ],
   "source": [
    "escribir_preambulo(fichero, titulo, 'ejercicios')\n",
    "for s in df_ejercicios.groupby('n_ejercicio').count().index : \n",
    "    display(md(\"**Ejercicio: **\" + s ))\n",
    "    display(df_ejercicios[df_ejercicios.n_ejercicio == s])\n",
    "    escribir_ejercicios(df_ejercicios[df_ejercicios.n_ejercicio == s],fichero)\n",
    "\n",
    "escribir_fin(fichero)"
   ]
  }
 ],
 "metadata": {
  "kernelspec": {
   "display_name": "Python 3",
   "language": "python",
   "name": "python3"
  },
  "language_info": {
   "codemirror_mode": {
    "name": "ipython",
    "version": 3
   },
   "file_extension": ".py",
   "mimetype": "text/x-python",
   "name": "python",
   "nbconvert_exporter": "python",
   "pygments_lexer": "ipython3",
   "version": "3.6.8"
  }
 },
 "nbformat": 4,
 "nbformat_minor": 2
}
