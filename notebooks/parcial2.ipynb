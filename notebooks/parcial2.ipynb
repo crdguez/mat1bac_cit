{
 "cells": [
  {
   "cell_type": "markdown",
   "metadata": {},
   "source": [
    "<a href=\"https://colab.research.google.com/github/crdguez/mat1bac_cit/blob/master/notebooks/Ejercicios1_3.ipynb\"><img align=\"left\" src=\"https://colab.research.google.com/assets/colab-badge.svg\" alt=\"Open in Colab\" title=\"Open and Execute in Google Colaboratory\"></a>"
   ]
  },
  {
   "cell_type": "code",
   "execution_count": 3,
   "metadata": {},
   "outputs": [
    {
     "name": "stdout",
     "output_type": "stream",
     "text": [
      "IPython console for SymPy 1.4 (Python 3.6.8-64-bit) (ground types: gmpy)\n",
      "\n",
      "These commands were executed:\n",
      ">>> from __future__ import division\n",
      ">>> from sympy import *\n",
      ">>> x, y, z, t = symbols('x y z t')\n",
      ">>> k, m, n = symbols('k m n', integer=True)\n",
      ">>> f, g, h = symbols('f g h', cls=Function)\n",
      ">>> init_printing()\n",
      "\n",
      "Documentation can be found at https://docs.sympy.org/1.4/\n",
      "\n"
     ]
    }
   ],
   "source": [
    "from sympy import init_session\n",
    "from sympy import div, QQ\n",
    "from sympy.parsing.latex import parse_latex\n",
    "from sympy.parsing.sympy_parser import parse_expr\n",
    "from sympy import solve_poly_system\n",
    "from IPython.display import Markdown as md\n",
    "from IPython.display import display\n",
    "import numpy as np\n",
    "import pandas as pd\n",
    "    \n",
    "from sympy.geometry import Point, Line\n",
    "from sympy.vector import CoordSys3D, vector\n",
    "\n",
    "\n",
    "init_session()\n",
    "\n",
    "\n",
    "a, b, c, d, k = symbols('a b c d k', real = True)\n",
    "from docparts import añadir_ejercicios, doc_ejer, escribir_preambulo, escribir_ejercicios, escribir_fin\n",
    "\n",
    "alpha = Symbol(\"alpha\")\n",
    "beta = Symbol(\"beta\")\n",
    "\n",
    "df_ejercicios = pd.DataFrame()\n",
    "\n",
    "fichero = 'parcial2'\n",
    "titulo = 'Parcial 2'\n",
    "curso = '1BC'\n"
   ]
  },
  {
   "cell_type": "code",
   "execution_count": 2,
   "metadata": {},
   "outputs": [
    {
     "data": {
      "text/markdown": [
       "**Respecto de una base ortonormal tenemos dos vectores $\\overrightarrow{u}$ y $\\overrightarrow{v}$.\n",
       "Calcular $\\overrightarrow{u}\\cdot\\overrightarrow{v}$, $|\\overrightarrow{u}| \\ y \\ |\\overrightarrow{v}|$ \n",
       "y $\\angle(\\overrightarrow{u},\\overrightarrow{v})$ siendo:**"
      ],
      "text/plain": [
       "<IPython.core.display.Markdown object>"
      ]
     },
     "metadata": {},
     "output_type": "display_data"
    },
    {
     "data": {
      "text/markdown": [
       "$\\overrightarrow{u}=(5, -3) \\, \\ \\overrightarrow{v}=(6, -4)$"
      ],
      "text/plain": [
       "<IPython.core.display.Markdown object>"
      ]
     },
     "metadata": {},
     "output_type": "display_data"
    },
    {
     "data": {
      "text/markdown": [
       "$\\left [ 42, \\quad \\left [ \\sqrt{34}, \\quad 2 \\sqrt{13}\\right ], \\quad 2.72631099390621\\right ]$"
      ],
      "text/plain": [
       "<IPython.core.display.Markdown object>"
      ]
     },
     "metadata": {},
     "output_type": "display_data"
    },
    {
     "data": {
      "text/markdown": [
       "$\\overrightarrow{u}=(8, 2) \\, \\ \\overrightarrow{v}=(-3, 4)$"
      ],
      "text/plain": [
       "<IPython.core.display.Markdown object>"
      ]
     },
     "metadata": {},
     "output_type": "display_data"
    },
    {
     "data": {
      "text/markdown": [
       "$\\left [ -16, \\quad \\left [ 2 \\sqrt{17}, \\quad 5\\right ], \\quad 112.833654177918\\right ]$"
      ],
      "text/plain": [
       "<IPython.core.display.Markdown object>"
      ]
     },
     "metadata": {},
     "output_type": "display_data"
    },
    {
     "data": {
      "text/markdown": [
       "$\\overrightarrow{u}=(-1, 1) \\, \\ \\overrightarrow{v}=(-2, -3)$"
      ],
      "text/plain": [
       "<IPython.core.display.Markdown object>"
      ]
     },
     "metadata": {},
     "output_type": "display_data"
    },
    {
     "data": {
      "text/markdown": [
       "$\\left [ -1, \\quad \\left [ \\sqrt{2}, \\quad \\sqrt{13}\\right ], \\quad 101.30993247402\\right ]$"
      ],
      "text/plain": [
       "<IPython.core.display.Markdown object>"
      ]
     },
     "metadata": {},
     "output_type": "display_data"
    }
   ],
   "source": [
    "# Página 36 ejercicio 9\n",
    "\n",
    "texto_ejercicio = r\"\"\"Respecto de una base ortonormal tenemos dos vectores $\\overrightarrow{u}$ y $\\overrightarrow{v}$.\n",
    "Calcular $\\overrightarrow{u}\\cdot\\overrightarrow{v}$, $|\\overrightarrow{u}| \\ y \\ |\\overrightarrow{v}|$ \n",
    "y $\\angle(\\overrightarrow{u},\\overrightarrow{v})$ siendo:\"\"\"\n",
    "\n",
    "\n",
    "n_ejercicio = 'ex11e01'\n",
    "\n",
    "display(md(\"**\"+texto_ejercicio+\"**\"))\n",
    "\n",
    "N = CoordSys3D('N') #instanciamos un sistema de coordenadas en R3\n",
    "\n",
    "i, j, k = N.base_vectors()\n",
    "\n",
    "pre_enunciado_latex = [[(5,-3),(6,-4)],\n",
    "                       [(8,2),(-3,4)],\n",
    "                       [(-1,1),(-2,-3)],\n",
    "                      ]\n",
    "\n",
    "enunciado_latex, enunciado, solucion = [],[],[]\n",
    "\n",
    "for i, s in enumerate(pre_enunciado_latex) :\n",
    "    enunciado_latex.append(r\"\\overrightarrow{u}=\"+str(s[0])+r\" \\, \\ \\overrightarrow{v}=\"+str(s[1]))\n",
    "    display(md(\"$\"+enunciado_latex[i]+\"$\"))\n",
    "    en=[\"Point\"+str(s[0])+\".dot(Point\"+str(s[1])+\")\"]\n",
    "    en.append([\"Point\"+str(s[0])+\".distance(Point(0,0))\",\"Point\"+str(s[1])+\".distance(Point(0,0))\"])\n",
    "    angulo = float(deg(acos(float(S(str(en[0])+\"/(\"+str(en[1][0])+\"*\"+str(en[1][1])+\")\")))))\n",
    "    #en.append(\"acos(\"+str(en[0])+\"/(\"+str(en[1][0])+\"*\"+str(en[1][1])+\"))\")\n",
    "    en.append(angulo)\n",
    "    enunciado.append(en)\n",
    "    solucion.append(latex(S(en)))\n",
    "    \n",
    "    display(md(\"$\"+solucion[i]+\"$\"))\n",
    "\n",
    "df_ejercicios = df_ejercicios.append(añadir_ejercicios(enunciado_latex, enunciado, solucion, texto_ejercicio, curso, titulo , n_ejercicio, '2', '1', puntos='2', enun_tex=True), ignore_index=True)\n"
   ]
  },
  {
   "cell_type": "code",
   "execution_count": 3,
   "metadata": {},
   "outputs": [
    {
     "data": {
      "text/markdown": [
       "**Calcula x para que los vectores\n",
       "$\\overrightarrow{u}$ y $\\overrightarrow{v}$ sean ortogonales, siendo: **"
      ],
      "text/plain": [
       "<IPython.core.display.Markdown object>"
      ]
     },
     "metadata": {},
     "output_type": "display_data"
    },
    {
     "data": {
      "text/markdown": [
       "$\\overrightarrow{u}=(6, x) \\, \\ \\overrightarrow{v}=(-1, 2)$"
      ],
      "text/plain": [
       "<IPython.core.display.Markdown object>"
      ]
     },
     "metadata": {},
     "output_type": "display_data"
    },
    {
     "data": {
      "image/png": "[encoded data removed]",
      "text/latex": [
       "$$\\frac{\\sqrt{5} \\left(2 x - 6\\right)}{5 \\sqrt{x^{2} + 36}} = 0$$"
      ],
      "text/plain": [
       " √5⋅(2⋅x - 6)     \n",
       "────────────── = 0\n",
       "     _________    \n",
       "    ╱  2          \n",
       "5⋅╲╱  x  + 36     "
      ]
     },
     "metadata": {},
     "output_type": "display_data"
    },
    {
     "data": {
      "text/markdown": [
       "$\\left [ 3\\right ]$"
      ],
      "text/plain": [
       "<IPython.core.display.Markdown object>"
      ]
     },
     "metadata": {},
     "output_type": "display_data"
    },
    {
     "data": {
      "text/markdown": [
       "$\\overrightarrow{u}=(5, x) \\, \\ \\overrightarrow{v}=(3, 1)$"
      ],
      "text/plain": [
       "<IPython.core.display.Markdown object>"
      ]
     },
     "metadata": {},
     "output_type": "display_data"
    },
    {
     "data": {
      "image/png": "[encoded data removed]",
      "text/latex": [
       "$$\\frac{\\sqrt{10} \\left(x + 15\\right)}{10 \\sqrt{x^{2} + 25}} = 0$$"
      ],
      "text/plain": [
       "  √10⋅(x + 15)     \n",
       "─────────────── = 0\n",
       "      _________    \n",
       "     ╱  2          \n",
       "10⋅╲╱  x  + 25     "
      ]
     },
     "metadata": {},
     "output_type": "display_data"
    },
    {
     "data": {
      "text/markdown": [
       "$\\left [ -15\\right ]$"
      ],
      "text/plain": [
       "<IPython.core.display.Markdown object>"
      ]
     },
     "metadata": {},
     "output_type": "display_data"
    },
    {
     "data": {
      "text/markdown": [
       "$\\overrightarrow{u}=(1, 0) \\, \\ \\overrightarrow{v}=(x, 5)$"
      ],
      "text/plain": [
       "<IPython.core.display.Markdown object>"
      ]
     },
     "metadata": {},
     "output_type": "display_data"
    },
    {
     "data": {
      "image/png": "[encoded data removed]",
      "text/latex": [
       "$$\\frac{x}{\\sqrt{x^{2} + 25}} = 0$$"
      ],
      "text/plain": [
       "     x          \n",
       "──────────── = 0\n",
       "   _________    \n",
       "  ╱  2          \n",
       "╲╱  x  + 25     "
      ]
     },
     "metadata": {},
     "output_type": "display_data"
    },
    {
     "data": {
      "text/markdown": [
       "$\\left [ 0\\right ]$"
      ],
      "text/plain": [
       "<IPython.core.display.Markdown object>"
      ]
     },
     "metadata": {},
     "output_type": "display_data"
    }
   ],
   "source": [
    "# Página 36 ejercicio 15\n",
    "\n",
    "\n",
    "\n",
    "texto_ejercicio = r\"\"\"Calcula x para que los vectores\n",
    "$\\overrightarrow{u}$ y $\\overrightarrow{v}$ sean ortogonales, siendo: \"\"\"\n",
    "\n",
    "\n",
    "n_ejercicio = 'ex11e02'\n",
    "\n",
    "display(md(\"**\"+texto_ejercicio+\"**\"))\n",
    "\n",
    "N = CoordSys3D('N') #instanciamos un sistema de coordenadas en R3\n",
    "\n",
    "i, j, k = N.base_vectors()\n",
    "\n",
    "pre_enunciado_latex = [[(6,x),(-1,2)],\n",
    "                       [(5,x),(3,1)],\n",
    "                       [(1,0),(x,5)]\n",
    "                    \n",
    "                      ]\n",
    "\n",
    "enunciado_latex, enunciado, solucion = [],[],[]\n",
    "\n",
    "for id, s in enumerate(pre_enunciado_latex) :\n",
    "    enunciado_latex.append(r\"\\overrightarrow{u}=\"+str(s[0])+r\" \\, \\ \\overrightarrow{v}=\"+str(s[1]))\n",
    "    display(md(\"$\"+enunciado_latex[id]+\"$\"))\n",
    "    u = s[0][0]*i+s[0][1]*j\n",
    "    v = s[1][0]*i+s[1][1]*j\n",
    "    en=Eq(u.dot(v)/(u.magnitude()*v.magnitude()),cos(rad(90)))\n",
    "    display(en)\n",
    "    enunciado.append(en)\n",
    "    solucion.append(latex(solve(en)))\n",
    "    \n",
    "    display(md(\"$\"+solucion[id]+\"$\"))\n",
    "\n",
    "df_ejercicios = df_ejercicios.append(añadir_ejercicios(enunciado_latex, enunciado, solucion, texto_ejercicio, curso, titulo , n_ejercicio, '1', '2', puntos='2', enun_tex=True), ignore_index=True)\n"
   ]
  },
  {
   "cell_type": "code",
   "execution_count": 4,
   "metadata": {},
   "outputs": [
    {
     "data": {
      "text/markdown": [
       "**Halla las coordenadas de un vector unitario y perpendicular a: **"
      ],
      "text/plain": [
       "<IPython.core.display.Markdown object>"
      ]
     },
     "metadata": {},
     "output_type": "display_data"
    },
    {
     "data": {
      "text/markdown": [
       "$\\overrightarrow{v}=(2, 4)$"
      ],
      "text/plain": [
       "<IPython.core.display.Markdown object>"
      ]
     },
     "metadata": {},
     "output_type": "display_data"
    },
    {
     "data": {
      "image/png": "[encoded data removed]",
      "text/latex": [
       "$$\\left [ \\frac{\\sqrt{5} \\left(2 x + 4 y\\right)}{10 \\sqrt{x^{2} + y^{2}}} = 0, \\quad \\sqrt{x^{2} + y^{2}} = 1\\right ]$$"
      ],
      "text/plain": [
       "⎡                        _________    ⎤\n",
       "⎢ √5⋅(2⋅x + 4⋅y)        ╱  2    2     ⎥\n",
       "⎢─────────────── = 0, ╲╱  x  + y   = 1⎥\n",
       "⎢      _________                      ⎥\n",
       "⎢     ╱  2    2                       ⎥\n",
       "⎣10⋅╲╱  x  + y                        ⎦"
      ]
     },
     "metadata": {},
     "output_type": "display_data"
    },
    {
     "data": {
      "text/markdown": [
       "$\\left [ \\left \\{ x : - \\frac{2 \\sqrt{5}}{5}, \\quad y : \\frac{\\sqrt{5}}{5}\\right \\}, \\quad \\left \\{ x : \\frac{2 \\sqrt{5}}{5}, \\quad y : - \\frac{\\sqrt{5}}{5}\\right \\}\\right ]$"
      ],
      "text/plain": [
       "<IPython.core.display.Markdown object>"
      ]
     },
     "metadata": {},
     "output_type": "display_data"
    },
    {
     "data": {
      "text/markdown": [
       "$\\overrightarrow{v}=(2, 3)$"
      ],
      "text/plain": [
       "<IPython.core.display.Markdown object>"
      ]
     },
     "metadata": {},
     "output_type": "display_data"
    },
    {
     "data": {
      "image/png": "[encoded data removed]",
      "text/latex": [
       "$$\\left [ \\frac{\\sqrt{13} \\left(2 x + 3 y\\right)}{13 \\sqrt{x^{2} + y^{2}}} = 0, \\quad \\sqrt{x^{2} + y^{2}} = 1\\right ]$$"
      ],
      "text/plain": [
       "⎡                        _________    ⎤\n",
       "⎢√13⋅(2⋅x + 3⋅y)        ╱  2    2     ⎥\n",
       "⎢─────────────── = 0, ╲╱  x  + y   = 1⎥\n",
       "⎢      _________                      ⎥\n",
       "⎢     ╱  2    2                       ⎥\n",
       "⎣13⋅╲╱  x  + y                        ⎦"
      ]
     },
     "metadata": {},
     "output_type": "display_data"
    },
    {
     "data": {
      "text/markdown": [
       "$\\left [ \\left \\{ x : - \\frac{3 \\sqrt{13}}{13}, \\quad y : \\frac{2 \\sqrt{13}}{13}\\right \\}, \\quad \\left \\{ x : \\frac{3 \\sqrt{13}}{13}, \\quad y : - \\frac{2 \\sqrt{13}}{13}\\right \\}\\right ]$"
      ],
      "text/plain": [
       "<IPython.core.display.Markdown object>"
      ]
     },
     "metadata": {},
     "output_type": "display_data"
    },
    {
     "data": {
      "text/markdown": [
       "$\\overrightarrow{v}=(1, 0)$"
      ],
      "text/plain": [
       "<IPython.core.display.Markdown object>"
      ]
     },
     "metadata": {},
     "output_type": "display_data"
    },
    {
     "data": {
      "image/png": "[encoded data removed]",
      "text/latex": [
       "$$\\left [ \\frac{x}{\\sqrt{x^{2} + y^{2}}} = 0, \\quad \\sqrt{x^{2} + y^{2}} = 1\\right ]$$"
      ],
      "text/plain": [
       "⎡                     _________    ⎤\n",
       "⎢     x              ╱  2    2     ⎥\n",
       "⎢──────────── = 0, ╲╱  x  + y   = 1⎥\n",
       "⎢   _________                      ⎥\n",
       "⎢  ╱  2    2                       ⎥\n",
       "⎣╲╱  x  + y                        ⎦"
      ]
     },
     "metadata": {},
     "output_type": "display_data"
    },
    {
     "data": {
      "text/markdown": [
       "$\\left [ \\left \\{ x : 0, \\quad y : -1\\right \\}, \\quad \\left \\{ x : 0, \\quad y : 1\\right \\}\\right ]$"
      ],
      "text/plain": [
       "<IPython.core.display.Markdown object>"
      ]
     },
     "metadata": {},
     "output_type": "display_data"
    },
    {
     "data": {
      "text/markdown": [
       "$\\overrightarrow{v}=(3, -4)$"
      ],
      "text/plain": [
       "<IPython.core.display.Markdown object>"
      ]
     },
     "metadata": {},
     "output_type": "display_data"
    },
    {
     "data": {
      "image/png": "[encoded data removed]",
      "text/latex": [
       "$$\\left [ \\frac{3 x - 4 y}{5 \\sqrt{x^{2} + y^{2}}} = 0, \\quad \\sqrt{x^{2} + y^{2}} = 1\\right ]$$"
      ],
      "text/plain": [
       "⎡                       _________    ⎤\n",
       "⎢  3⋅x - 4⋅y           ╱  2    2     ⎥\n",
       "⎢────────────── = 0, ╲╱  x  + y   = 1⎥\n",
       "⎢     _________                      ⎥\n",
       "⎢    ╱  2    2                       ⎥\n",
       "⎣5⋅╲╱  x  + y                        ⎦"
      ]
     },
     "metadata": {},
     "output_type": "display_data"
    },
    {
     "data": {
      "text/markdown": [
       "$\\left [ \\left \\{ x : - \\frac{4}{5}, \\quad y : - \\frac{3}{5}\\right \\}, \\quad \\left \\{ x : \\frac{4}{5}, \\quad y : \\frac{3}{5}\\right \\}\\right ]$"
      ],
      "text/plain": [
       "<IPython.core.display.Markdown object>"
      ]
     },
     "metadata": {},
     "output_type": "display_data"
    }
   ],
   "source": [
    "# Página 36 ejercicio 16\n",
    "\n",
    "texto_ejercicio = r\"\"\"Halla las coordenadas de un vector unitario y perpendicular a: \"\"\"\n",
    "\n",
    "\n",
    "n_ejercicio = 'ex11e03'\n",
    "\n",
    "display(md(\"**\"+texto_ejercicio+\"**\"))\n",
    "\n",
    "N = CoordSys3D('N') #instanciamos un sistema de coordenadas en R3\n",
    "\n",
    "i, j, k = N.base_vectors()\n",
    "\n",
    "pre_enunciado_latex = [[(2,4)],\n",
    "                       [(2,3)],\n",
    "                       [(1,0)],\n",
    "                       [(3,-4)]\n",
    "                    \n",
    "                      ]\n",
    "\n",
    "enunciado_latex, enunciado, solucion = [],[],[]\n",
    "\n",
    "for id, s in enumerate(pre_enunciado_latex) :\n",
    "    enunciado_latex.append(r\"\\overrightarrow{v}=\"+str(s[0]))\n",
    "    display(md(\"$\"+enunciado_latex[id]+\"$\"))\n",
    "    u = x*i+y*j\n",
    "    v = s[0][0]*i+s[0][1]*j\n",
    "    en=[Eq(u.dot(v)/(u.magnitude()*v.magnitude()),cos(rad(90))),Eq(u.magnitude(),1)]\n",
    "    display(en)\n",
    "    enunciado.append(en)\n",
    "    solucion.append(latex(solve(en)))\n",
    "    \n",
    "    display(md(\"$\"+solucion[id]+\"$\"))\n",
    "\n",
    "df_ejercicios = df_ejercicios.append(añadir_ejercicios(enunciado_latex, enunciado, solucion, texto_ejercicio, curso, titulo , n_ejercicio, '1', '2',puntos='2', enun_tex=True), ignore_index=True)\n"
   ]
  },
  {
   "cell_type": "code",
   "execution_count": 5,
   "metadata": {},
   "outputs": [
    {
     "data": {
      "text/markdown": [
       "**Si $\\sin\\alpha=-\\frac{3}{5}\\land \\alpha \\in III$, calcula (sin usar la calculadora, con identidades trigonométricas y reducción al primer cuadrante):**"
      ],
      "text/plain": [
       "<IPython.core.display.Markdown object>"
      ]
     },
     "metadata": {},
     "output_type": "display_data"
    },
    {
     "data": {
      "text/markdown": [
       "$\\cos\\alpha \\to - \\frac{4}{5}$"
      ],
      "text/plain": [
       "<IPython.core.display.Markdown object>"
      ]
     },
     "metadata": {},
     "output_type": "display_data"
    },
    {
     "data": {
      "text/markdown": [
       "$\\tan\\alpha \\to \\frac{3}{4}$"
      ],
      "text/plain": [
       "<IPython.core.display.Markdown object>"
      ]
     },
     "metadata": {},
     "output_type": "display_data"
    },
    {
     "data": {
      "text/markdown": [
       "$\\cos(\\pi+\\alpha) \\to \\frac{3}{5}$"
      ],
      "text/plain": [
       "<IPython.core.display.Markdown object>"
      ]
     },
     "metadata": {},
     "output_type": "display_data"
    },
    {
     "data": {
      "text/markdown": [
       "$\\sin(2\\alpha) \\to \\frac{24}{25}$"
      ],
      "text/plain": [
       "<IPython.core.display.Markdown object>"
      ]
     },
     "metadata": {},
     "output_type": "display_data"
    }
   ],
   "source": [
    "# tiene que ser negativo\n",
    "\n",
    "razon = r'-\\frac{3}{5}'\n",
    "\n",
    "texto_ejercicio = r\"\"\"Si $\\sin\\alpha=\"\"\"+razon+r\"\"\"\\land \\alpha \\in III$, calcula (sin usar la calculadora, con identidades trigonométricas y reducción al primer cuadrante):\"\"\"\n",
    "\n",
    "n_ejercicio = 'ex11e04'\n",
    "\n",
    "display(md(\"**\"+texto_ejercicio+\"**\"))\n",
    "\n",
    "\n",
    "pre_enunciado_latex = [\n",
    "    [r'\\cos\\alpha', -cos(abs(asin(parse_latex(razon)))) ], \n",
    "    [r'\\tan\\alpha', tan(abs(asin(parse_latex(razon)))) ],\n",
    "    [r'\\cos(\\pi+\\alpha)', sin(abs(asin(parse_latex(razon))))],\n",
    "    [r'\\sin(2\\alpha)', 2*parse_latex(razon)*(-cos(abs(asin(parse_latex(razon)))))]\n",
    "    \n",
    "                  ]\n",
    "\n",
    "enunciado_latex, enunciado, solucion = [],[],[]\n",
    "\n",
    "\n",
    "for i, s in enumerate(pre_enunciado_latex) : \n",
    "    enunciado_latex.append(s[0])\n",
    "    enunciado.append(s[1])\n",
    "    solucion.append(latex(s[1]))\n",
    "    display(md(\"$\"+enunciado_latex[i]+\" \\\\to \"+str(solucion[i])+\"$\"))\n",
    "\n",
    "df_ejercicios = df_ejercicios.append(añadir_ejercicios(enunciado_latex, enunciado, solucion, texto_ejercicio, curso, titulo , n_ejercicio, '1', '1', puntos='1', enun_tex=True), ignore_index=True)\n"
   ]
  },
  {
   "cell_type": "code",
   "execution_count": 4,
   "metadata": {},
   "outputs": [
    {
     "data": {
      "text/markdown": [
       "**Si $\\sin\\alpha=-\\frac{5}{13}\\land \\alpha \\in III$, calcula (sin usar la calculadora, con identidades trigonométricas y reducción al primer cuadrante):**"
      ],
      "text/plain": [
       "<IPython.core.display.Markdown object>"
      ]
     },
     "metadata": {},
     "output_type": "display_data"
    },
    {
     "data": {
      "text/markdown": [
       "$\\cos\\alpha \\to - \\frac{12}{13}$"
      ],
      "text/plain": [
       "<IPython.core.display.Markdown object>"
      ]
     },
     "metadata": {},
     "output_type": "display_data"
    },
    {
     "data": {
      "text/markdown": [
       "$\\tan\\alpha \\to \\frac{5}{12}$"
      ],
      "text/plain": [
       "<IPython.core.display.Markdown object>"
      ]
     },
     "metadata": {},
     "output_type": "display_data"
    },
    {
     "data": {
      "text/markdown": [
       "$\\cos(\\pi+\\alpha) \\to \\frac{5}{13}$"
      ],
      "text/plain": [
       "<IPython.core.display.Markdown object>"
      ]
     },
     "metadata": {},
     "output_type": "display_data"
    },
    {
     "data": {
      "text/markdown": [
       "$\\sin(2\\alpha) \\to \\frac{120}{169}$"
      ],
      "text/plain": [
       "<IPython.core.display.Markdown object>"
      ]
     },
     "metadata": {},
     "output_type": "display_data"
    }
   ],
   "source": [
    "# tiene que ser negativo\n",
    "\n",
    "razon = r'-\\frac{5}{13}'\n",
    "\n",
    "texto_ejercicio = r\"\"\"Si $\\sin\\alpha=\"\"\"+razon+r\"\"\"\\land \\alpha \\in III$, calcula (sin usar la calculadora, con identidades trigonométricas y reducción al primer cuadrante):\"\"\"\n",
    "\n",
    "n_ejercicio = 'ex11e04'\n",
    "\n",
    "display(md(\"**\"+texto_ejercicio+\"**\"))\n",
    "\n",
    "\n",
    "pre_enunciado_latex = [\n",
    "    [r'\\cos\\alpha', -cos(abs(asin(parse_latex(razon)))) ], \n",
    "    [r'\\tan\\alpha', tan(abs(asin(parse_latex(razon)))) ],\n",
    "    [r'\\cos(\\pi+\\alpha)', sin(abs(asin(parse_latex(razon))))],\n",
    "    [r'\\sin(2\\alpha)', 2*parse_latex(razon)*(-cos(abs(asin(parse_latex(razon)))))]\n",
    "    \n",
    "                  ]\n",
    "\n",
    "enunciado_latex, enunciado, solucion = [],[],[]\n",
    "\n",
    "\n",
    "for i, s in enumerate(pre_enunciado_latex) : \n",
    "    enunciado_latex.append(s[0])\n",
    "    enunciado.append(s[1])\n",
    "    solucion.append(latex(s[1]))\n",
    "    display(md(\"$\"+enunciado_latex[i]+\" \\\\to \"+str(solucion[i])+\"$\"))\n",
    "\n",
    "df_ejercicios = df_ejercicios.append(añadir_ejercicios(enunciado_latex, enunciado, solucion, texto_ejercicio, curso, titulo , n_ejercicio, '1', '1', puntos='1', enun_tex=True), ignore_index=True)\n"
   ]
  },
  {
   "cell_type": "code",
   "execution_count": 6,
   "metadata": {},
   "outputs": [
    {
     "data": {
      "text/markdown": [
       "**Si $\\cos\\alpha=-\\frac{4}{5}\\land \\alpha \\in III$, calcula (sin usar la calculadora, con identidades trigonométricas y reducción al primer cuadrante):**"
      ],
      "text/plain": [
       "<IPython.core.display.Markdown object>"
      ]
     },
     "metadata": {},
     "output_type": "display_data"
    },
    {
     "data": {
      "text/markdown": [
       "$\\sin\\alpha \\to - \\frac{3}{5}$"
      ],
      "text/plain": [
       "<IPython.core.display.Markdown object>"
      ]
     },
     "metadata": {},
     "output_type": "display_data"
    },
    {
     "data": {
      "text/markdown": [
       "$\\tan\\alpha \\to \\frac{3}{4}$"
      ],
      "text/plain": [
       "<IPython.core.display.Markdown object>"
      ]
     },
     "metadata": {},
     "output_type": "display_data"
    },
    {
     "data": {
      "text/markdown": [
       "$\\cos(\\pi+\\alpha) \\to \\frac{3}{5}$"
      ],
      "text/plain": [
       "<IPython.core.display.Markdown object>"
      ]
     },
     "metadata": {},
     "output_type": "display_data"
    },
    {
     "data": {
      "text/markdown": [
       "$\\sin(2\\alpha) \\to \\frac{24}{25}$"
      ],
      "text/plain": [
       "<IPython.core.display.Markdown object>"
      ]
     },
     "metadata": {},
     "output_type": "display_data"
    }
   ],
   "source": [
    "# tiene que ser negativo\n",
    "\n",
    "razon = r'-\\frac{4}{5}'\n",
    "\n",
    "texto_ejercicio = r\"\"\"Si $\\cos\\alpha=\"\"\"+razon+r\"\"\"\\land \\alpha \\in III$, calcula (sin usar la calculadora, con identidades trigonométricas y reducción al primer cuadrante):\"\"\"\n",
    "\n",
    "n_ejercicio = 'ex11e04b'\n",
    "\n",
    "display(md(\"**\"+texto_ejercicio+\"**\"))\n",
    "\n",
    "\n",
    "pre_enunciado_latex = [\n",
    "    [r'\\sin\\alpha', -sin(abs(acos(parse_latex(razon)))) ], \n",
    "    [r'\\tan\\alpha', -tan(abs(acos(parse_latex(razon)))) ],\n",
    "    [r'\\cos(\\pi+\\alpha)', sin(abs(acos(parse_latex(razon))))],\n",
    "    [r'\\sin(2\\alpha)', 2*parse_latex(razon)*(-sin(abs(acos(parse_latex(razon)))))]\n",
    "    \n",
    "                  ]\n",
    "\n",
    "enunciado_latex, enunciado, solucion = [],[],[]\n",
    "\n",
    "\n",
    "for i, s in enumerate(pre_enunciado_latex) : \n",
    "    enunciado_latex.append(s[0])\n",
    "    enunciado.append(s[1])\n",
    "    solucion.append(latex(s[1]))\n",
    "    display(md(\"$\"+enunciado_latex[i]+\" \\\\to \"+str(solucion[i])+\"$\"))\n",
    "\n",
    "df_ejercicios = df_ejercicios.append(añadir_ejercicios(enunciado_latex, enunciado, solucion, texto_ejercicio, curso, titulo , n_ejercicio, '1', '1', puntos='1',enun_tex=True), ignore_index=True)\n"
   ]
  },
  {
   "cell_type": "code",
   "execution_count": 7,
   "metadata": {},
   "outputs": [
    {
     "data": {
      "text/markdown": [
       "**Resolver las siguientes ecuaciones:**"
      ],
      "text/plain": [
       "<IPython.core.display.Markdown object>"
      ]
     },
     "metadata": {},
     "output_type": "display_data"
    },
    {
     "data": {
      "text/markdown": [
       "$\\sin{2x}-\\sin{x}=0 \\rightarrow \\left [ 0.0, \\quad -180.0, \\quad 180.0, \\quad -300.0, \\quad 300.0, \\quad -60.0, \\quad 60.0\\right ]$"
      ],
      "text/plain": [
       "<IPython.core.display.Markdown object>"
      ]
     },
     "metadata": {},
     "output_type": "display_data"
    },
    {
     "data": {
      "text/markdown": [
       "$\\sin{x}+\\cos{x}=\\sqrt{2} \\rightarrow \\left [ 45.0\\right ]$"
      ],
      "text/plain": [
       "<IPython.core.display.Markdown object>"
      ]
     },
     "metadata": {},
     "output_type": "display_data"
    },
    {
     "data": {
      "text/markdown": [
       "$\\sin{2x}+\\sin{x}=0 \\rightarrow \\left [ 0.0, \\quad -180.0, \\quad 180.0, \\quad 360.0, \\quad -240.0, \\quad 240.0, \\quad -120.0, \\quad 120.0\\right ]$"
      ],
      "text/plain": [
       "<IPython.core.display.Markdown object>"
      ]
     },
     "metadata": {},
     "output_type": "display_data"
    },
    {
     "data": {
      "text/markdown": [
       "$\\sin{2x}+\\cos{x}=0 \\rightarrow \\left [ -90.0, \\quad 90.0, \\quad -150.0, \\quad -30.0\\right ]$"
      ],
      "text/plain": [
       "<IPython.core.display.Markdown object>"
      ]
     },
     "metadata": {},
     "output_type": "display_data"
    },
    {
     "data": {
      "text/markdown": [
       "$\\sin{x}-\\cos{x}=-\\sqrt{2} \\rightarrow \\left [ -45.0\\right ]$"
      ],
      "text/plain": [
       "<IPython.core.display.Markdown object>"
      ]
     },
     "metadata": {},
     "output_type": "display_data"
    }
   ],
   "source": [
    "texto_ejercicio = 'Resolver las siguientes ecuaciones:'\n",
    "n_ejercicio = 'ex11e05'\n",
    "\n",
    "enunciado_latex = [r'\\sin{2x}-\\sin{x}=0',\n",
    "                  r'\\sin{x}+\\cos{x}=\\sqrt{2}',\n",
    "                  r'\\sin{2x}+\\sin{x}=0',\n",
    "                   r'\\sin{2x}+\\cos{x}=0',\n",
    "                   r'\\sin{x}-\\cos{x}=-\\sqrt{2}'\n",
    "                 ]\n",
    "                                       \n",
    "\n",
    "display(md(\"**\"+texto_ejercicio+\"**\"))\n",
    "\n",
    "                                       \n",
    "\n",
    "\n",
    "\n",
    "\n",
    "enunciado, solucion = [], []\n",
    "\n",
    "for i, s in enumerate(enunciado_latex) :\n",
    "    enunciado.append(parse_latex(s))\n",
    "    #solucion.append(latex(solve(parse_latex(s)))) \n",
    "    solucion.append(latex([round(float(deg(nsimplify(i/pi)*pi)),3) for i in solve(eval(str(parse_latex(s))))])) \n",
    "    display(md(\"$\"+ enunciado_latex[i] +\" \\\\rightarrow \" + solucion[i] +\"$\"))\n",
    "\n",
    "df_ejercicios = df_ejercicios.append(añadir_ejercicios(enunciado_latex, enunciado, solucion, texto_ejercicio, curso, titulo , n_ejercicio, '1', '1', puntos='3'), ignore_index=True)\n"
   ]
  },
  {
   "cell_type": "code",
   "execution_count": 8,
   "metadata": {},
   "outputs": [
    {
     "data": {
      "text/markdown": [
       "**Calcular el área de un triángulo sabiendo que:**"
      ],
      "text/plain": [
       "<IPython.core.display.Markdown object>"
      ]
     },
     "metadata": {},
     "output_type": "display_data"
    },
    {
     "data": {
      "text/markdown": [
       "El lado a=10, y los ángulos B=30º, y C=120º$ \\to 25 \\sqrt{3} \\to 43.30127018922193$"
      ],
      "text/plain": [
       "<IPython.core.display.Markdown object>"
      ]
     },
     "metadata": {},
     "output_type": "display_data"
    },
    {
     "data": {
      "text/markdown": [
       "El lado a=20, y los ángulos B=30º, y C=105º$ \\to 5 \\sqrt{2} \\left(5 \\sqrt{2} + 5 \\sqrt{6}\\right) \\to 136.60254037844388$"
      ],
      "text/plain": [
       "<IPython.core.display.Markdown object>"
      ]
     },
     "metadata": {},
     "output_type": "display_data"
    },
    {
     "data": {
      "text/markdown": [
       "El lado a=8, y los ángulos B=30º, y C=105º$ \\to 2 \\sqrt{2} \\left(2 \\sqrt{2} + 2 \\sqrt{6}\\right) \\to 21.856406460551018$"
      ],
      "text/plain": [
       "<IPython.core.display.Markdown object>"
      ]
     },
     "metadata": {},
     "output_type": "display_data"
    }
   ],
   "source": [
    "# Página 42 ejercicio 7\n",
    "\n",
    "# El ángulo C tiene que ser mayor que 90, si no hay que revisarlo --> [tan(rad(s[2]))-x/(s[0]-y), tan(rad(s[1]))-x/(y)]\n",
    "\n",
    "texto_ejercicio = r\"\"\"Calcular el área de un triángulo sabiendo que:\"\"\" \n",
    "n_ejercicio = 'ex11e06'\n",
    "\n",
    "display(md(\"**\"+texto_ejercicio+\"**\"))\n",
    "\n",
    "\n",
    "pre_enunciado_latex = [[10,30,120],\n",
    "                       [20,30,105],\n",
    "                       [8,30,105]\n",
    "]\n",
    "\n",
    "enunciado_latex, enunciado, solucion = [],[],[]\n",
    "\n",
    "\n",
    "for i, s in enumerate(pre_enunciado_latex) : \n",
    "    enunciado_latex.append(\"El lado a=\"+str(s[0])+\", y los ángulos B=\"+str(s[1])+\"º, y C=\"+str(s[2])+\"º\")\n",
    "    b, c = [sin(rad(s[1]))*s[0]/sin(rad(180-s[1]-s[2])),sin(rad(s[2]))*s[0]/sin(rad(180-s[1]-s[2]))]\n",
    "    h =  s[0]*sin(rad(s[1]))\n",
    "    ar = c*h/2\n",
    "    enunciado.append([s[2]*s[1], s[0]*s[1]*s[2]/2])\n",
    "    solucion.append(latex(ar)+\"\"+\" \\\\to \"+latex(float(ar)))\n",
    "    display(md(\"\"+enunciado_latex[i]+\"$ \\\\to \"+str(solucion[i])+\"$\"))\n",
    "\n",
    "#enunciado_latex, enunciado, solucion\n",
    "df_ejercicios = df_ejercicios.append(añadir_ejercicios(enunciado_latex, enunciado, solucion, texto_ejercicio, curso, titulo , n_ejercicio, '1', '4', puntos='3', enun_tex=False), ignore_index=True)\n"
   ]
  },
  {
   "cell_type": "code",
   "execution_count": 9,
   "metadata": {},
   "outputs": [
    {
     "data": {
      "text/markdown": [
       "**Calcula los ángulos y el perímetro de un triángulo ABC del que se conocen:**"
      ],
      "text/plain": [
       "<IPython.core.display.Markdown object>"
      ]
     },
     "metadata": {},
     "output_type": "display_data"
    },
    {
     "data": {
      "text/markdown": [
       "Los lados a=60 cm y b=20 cm, y C=30º$ \\to \\sqrt{- 1200 \\sqrt{3} + 4000} = 43.83536278984522,\\ 136.81321456798648º,\\ 13.186785432013522º, \\ 123.83536278984522 cm2$"
      ],
      "text/plain": [
       "<IPython.core.display.Markdown object>"
      ]
     },
     "metadata": {},
     "output_type": "display_data"
    },
    {
     "data": {
      "text/markdown": [
       "Los lados a=40 cm y b=10 cm, y C=30º$ \\to \\sqrt{- 400 \\sqrt{3} + 1700} = 31.73609422995289,\\ 140.9353216114064º,\\ 9.0646783885936º, \\ 81.7360942299529 cm2$"
      ],
      "text/plain": [
       "<IPython.core.display.Markdown object>"
      ]
     },
     "metadata": {},
     "output_type": "display_data"
    },
    {
     "data": {
      "text/markdown": [
       "Los lados a=30 cm y b=20 cm, y C=30º$ \\to \\sqrt{- 600 \\sqrt{3} + 1300} = 16.148359528406395,\\ 111.73803380029014º,\\ 38.26196619970985º, \\ 66.14835952840639 cm2$"
      ],
      "text/plain": [
       "<IPython.core.display.Markdown object>"
      ]
     },
     "metadata": {},
     "output_type": "display_data"
    }
   ],
   "source": [
    "texto_ejercicio = r\"\"\"Calcula los ángulos y el perímetro de un triángulo ABC del que se conocen:\"\"\" \n",
    "n_ejercicio = 'ex11e06b'\n",
    "\n",
    "display(md(\"**\"+texto_ejercicio+\"**\"))\n",
    "\n",
    "\n",
    "pre_enunciado_latex = [[60,20,30],\n",
    "                       [40,10,30],\n",
    "                       [30,20,30]\n",
    "]\n",
    "\n",
    "enunciado_latex, enunciado, solucion = [],[],[]\n",
    "\n",
    "\n",
    "for i, s in enumerate(pre_enunciado_latex) : \n",
    "    enunciado_latex.append(\"Los lados a=\"+str(s[0])+\" cm y b=\"+str(s[1])+\" cm, y C=\"+str(s[2])+\"º\")\n",
    "    lc = sqrt(s[0]**2+s[1]**2-2*s[0]*s[1]*(cos(rad(s[2]))))\n",
    "    r = (lc/sin(rad(s[2])))\n",
    "    # display(lc,r)\n",
    "    \n",
    "    ab = float(deg(asin(s[1]/r)))\n",
    "    aa = 180 - s[2] - ab\n",
    "    enunciado.append([lc, aa, ab])\n",
    "    solucion.append(latex(lc)+\" = \"+latex(float(lc))+\",\\ \"+latex(aa)+\"º,\\ \"+latex(ab)+\"º, \"+\"\\ \"+latex(s[0]+s[1]+float(lc))+\" cm2\")\n",
    "    display(md(\"\"+enunciado_latex[i]+\"$ \\\\to \"+str(solucion[i])+\"$\"))\n",
    "\n",
    "#enunciado_latex, enunciado, solucion\n",
    "df_ejercicios = df_ejercicios.append(añadir_ejercicios(enunciado_latex, enunciado, solucion, texto_ejercicio, curso, titulo , n_ejercicio, '1', '4', puntos='3', enun_tex=False), ignore_index=True)\n"
   ]
  },
  {
   "cell_type": "code",
   "execution_count": 10,
   "metadata": {},
   "outputs": [
    {
     "data": {
      "text/markdown": [
       "**Dado el siguiente número $z$, calcula $\\frac{z+\\overline{z}}{z-\\overline{z}}$ dando el resultado en forma compleja binómica:**"
      ],
      "text/plain": [
       "<IPython.core.display.Markdown object>"
      ]
     },
     "metadata": {},
     "output_type": "display_data"
    },
    {
     "data": {
      "text/markdown": [
       "$10\\sqrt{2}-5i \\rightarrow 2 \\sqrt{2} i$"
      ],
      "text/plain": [
       "<IPython.core.display.Markdown object>"
      ]
     },
     "metadata": {},
     "output_type": "display_data"
    },
    {
     "data": {
      "text/markdown": [
       "$12\\sqrt{3}-3i \\rightarrow 4 \\sqrt{3} i$"
      ],
      "text/plain": [
       "<IPython.core.display.Markdown object>"
      ]
     },
     "metadata": {},
     "output_type": "display_data"
    },
    {
     "data": {
      "text/markdown": [
       "$6\\sqrt{5}+2i \\rightarrow - 3 \\sqrt{5} i$"
      ],
      "text/plain": [
       "<IPython.core.display.Markdown object>"
      ]
     },
     "metadata": {},
     "output_type": "display_data"
    },
    {
     "data": {
      "text/markdown": [
       "$16\\sqrt{7}-2i \\rightarrow 8 \\sqrt{7} i$"
      ],
      "text/plain": [
       "<IPython.core.display.Markdown object>"
      ]
     },
     "metadata": {},
     "output_type": "display_data"
    },
    {
     "data": {
      "text/markdown": [
       "$8\\sqrt{7}+2i \\rightarrow - 4 \\sqrt{7} i$"
      ],
      "text/plain": [
       "<IPython.core.display.Markdown object>"
      ]
     },
     "metadata": {},
     "output_type": "display_data"
    }
   ],
   "source": [
    "texto_ejercicio = 'Dado el siguiente número $z$, calcula $\\\\frac{z+\\overline{z}}{z-\\overline{z}}$ dando el resultado en forma compleja binómica:' \n",
    "n_ejercicio = 'ex11e07'\n",
    "\n",
    "display(md(\"**\"+texto_ejercicio+\"**\"))\n",
    "\n",
    "enunciado_latex = [r'10\\sqrt{2}-5i',\n",
    "                   r'12\\sqrt{3}-3i',\n",
    "                   r'6\\sqrt{5}+2i',\n",
    "                   r'16\\sqrt{7}-2i',\n",
    "                   r'8\\sqrt{7}+2i'                 \n",
    "                   \n",
    "                  ]\n",
    "                                       \n",
    "\n",
    "\n",
    "\n",
    "\n",
    "enunciado, solucion = [], []\n",
    "\n",
    "for i, s in enumerate(enunciado_latex) :\n",
    "    enunciado.append(parse_latex(s))\n",
    "    solucion.append(latex((simplify(eval(str(parse_latex(s).replace('i','I'))))+conjugate(simplify(eval(str(parse_latex(s).replace('i','I'))))))/((simplify(eval(str(parse_latex(s).replace('i','I')))))-conjugate(simplify(eval(str(parse_latex(s).replace('i','I')))))))) \n",
    "    display(md(\"$\"+ enunciado_latex[i] +\" \\\\rightarrow \" + solucion[i] +\"$\"))\n",
    "\n",
    "df_ejercicios = df_ejercicios.append(añadir_ejercicios(enunciado_latex, enunciado, solucion, texto_ejercicio, curso, titulo , n_ejercicio, '1', '2',puntos='2',), ignore_index=True)\n"
   ]
  },
  {
   "cell_type": "code",
   "execution_count": 5,
   "metadata": {},
   "outputs": [
    {
     "data": {
      "text/html": [
       "<div>\n",
       "<style scoped>\n",
       "    .dataframe tbody tr th:only-of-type {\n",
       "        vertical-align: middle;\n",
       "    }\n",
       "\n",
       "    .dataframe tbody tr th {\n",
       "        vertical-align: top;\n",
       "    }\n",
       "\n",
       "    .dataframe thead th {\n",
       "        text-align: right;\n",
       "    }\n",
       "</style>\n",
       "<table border=\"1\" class=\"dataframe\">\n",
       "  <thead>\n",
       "    <tr style=\"text-align: right;\">\n",
       "      <th></th>\n",
       "      <th>enunciado_latex</th>\n",
       "      <th>enunciado</th>\n",
       "      <th>solucion</th>\n",
       "      <th>texto</th>\n",
       "      <th>curso</th>\n",
       "      <th>titulo</th>\n",
       "      <th>n_ejercicio</th>\n",
       "      <th>dificultad</th>\n",
       "      <th>n_columnas</th>\n",
       "      <th>puntos</th>\n",
       "      <th>enun_tex</th>\n",
       "      <th>sol_tex</th>\n",
       "    </tr>\n",
       "  </thead>\n",
       "  <tbody>\n",
       "    <tr>\n",
       "      <th>0</th>\n",
       "      <td>\\cos\\alpha</td>\n",
       "      <td>-12/13</td>\n",
       "      <td>- \\frac{12}{13}</td>\n",
       "      <td>Si $\\sin\\alpha=-\\frac{5}{13}\\land \\alpha \\in I...</td>\n",
       "      <td>1BC</td>\n",
       "      <td>Parcial 2</td>\n",
       "      <td>ex11e04</td>\n",
       "      <td>1</td>\n",
       "      <td>1</td>\n",
       "      <td>1</td>\n",
       "      <td>True</td>\n",
       "      <td>True</td>\n",
       "    </tr>\n",
       "    <tr>\n",
       "      <th>1</th>\n",
       "      <td>\\tan\\alpha</td>\n",
       "      <td>5/12</td>\n",
       "      <td>\\frac{5}{12}</td>\n",
       "      <td>Si $\\sin\\alpha=-\\frac{5}{13}\\land \\alpha \\in I...</td>\n",
       "      <td>1BC</td>\n",
       "      <td>Parcial 2</td>\n",
       "      <td>ex11e04</td>\n",
       "      <td>1</td>\n",
       "      <td>1</td>\n",
       "      <td>1</td>\n",
       "      <td>True</td>\n",
       "      <td>True</td>\n",
       "    </tr>\n",
       "    <tr>\n",
       "      <th>2</th>\n",
       "      <td>\\cos(\\pi+\\alpha)</td>\n",
       "      <td>5/13</td>\n",
       "      <td>\\frac{5}{13}</td>\n",
       "      <td>Si $\\sin\\alpha=-\\frac{5}{13}\\land \\alpha \\in I...</td>\n",
       "      <td>1BC</td>\n",
       "      <td>Parcial 2</td>\n",
       "      <td>ex11e04</td>\n",
       "      <td>1</td>\n",
       "      <td>1</td>\n",
       "      <td>1</td>\n",
       "      <td>True</td>\n",
       "      <td>True</td>\n",
       "    </tr>\n",
       "    <tr>\n",
       "      <th>3</th>\n",
       "      <td>\\sin(2\\alpha)</td>\n",
       "      <td>120/169</td>\n",
       "      <td>\\frac{120}{169}</td>\n",
       "      <td>Si $\\sin\\alpha=-\\frac{5}{13}\\land \\alpha \\in I...</td>\n",
       "      <td>1BC</td>\n",
       "      <td>Parcial 2</td>\n",
       "      <td>ex11e04</td>\n",
       "      <td>1</td>\n",
       "      <td>1</td>\n",
       "      <td>1</td>\n",
       "      <td>True</td>\n",
       "      <td>True</td>\n",
       "    </tr>\n",
       "  </tbody>\n",
       "</table>\n",
       "</div>"
      ],
      "text/plain": [
       "    enunciado_latex enunciado         solucion  \\\n",
       "0        \\cos\\alpha    -12/13  - \\frac{12}{13}   \n",
       "1        \\tan\\alpha      5/12     \\frac{5}{12}   \n",
       "2  \\cos(\\pi+\\alpha)      5/13     \\frac{5}{13}   \n",
       "3     \\sin(2\\alpha)   120/169  \\frac{120}{169}   \n",
       "\n",
       "                                               texto curso     titulo  \\\n",
       "0  Si $\\sin\\alpha=-\\frac{5}{13}\\land \\alpha \\in I...   1BC  Parcial 2   \n",
       "1  Si $\\sin\\alpha=-\\frac{5}{13}\\land \\alpha \\in I...   1BC  Parcial 2   \n",
       "2  Si $\\sin\\alpha=-\\frac{5}{13}\\land \\alpha \\in I...   1BC  Parcial 2   \n",
       "3  Si $\\sin\\alpha=-\\frac{5}{13}\\land \\alpha \\in I...   1BC  Parcial 2   \n",
       "\n",
       "  n_ejercicio dificultad n_columnas puntos  enun_tex  sol_tex  \n",
       "0     ex11e04          1          1      1      True     True  \n",
       "1     ex11e04          1          1      1      True     True  \n",
       "2     ex11e04          1          1      1      True     True  \n",
       "3     ex11e04          1          1      1      True     True  "
      ]
     },
     "execution_count": 5,
     "metadata": {},
     "output_type": "execute_result"
    }
   ],
   "source": [
    "df_ejercicios"
   ]
  },
  {
   "cell_type": "code",
   "execution_count": 12,
   "metadata": {},
   "outputs": [],
   "source": [
    "df_ejercicios.to_csv('ejercicios_parcial2.csv', index = False)"
   ]
  },
  {
   "cell_type": "code",
   "execution_count": 7,
   "metadata": {},
   "outputs": [],
   "source": [
    "df_ejercicios.to_csv('tmp.csv', index = False)"
   ]
  }
 ],
 "metadata": {
  "kernelspec": {
   "display_name": "Python 3",
   "language": "python",
   "name": "python3"
  },
  "language_info": {
   "codemirror_mode": {
    "name": "ipython",
    "version": 3
   },
   "file_extension": ".py",
   "mimetype": "text/x-python",
   "name": "python",
   "nbconvert_exporter": "python",
   "pygments_lexer": "ipython3",
   "version": "3.6.8"
  }
 },
 "nbformat": 4,
 "nbformat_minor": 2
}
