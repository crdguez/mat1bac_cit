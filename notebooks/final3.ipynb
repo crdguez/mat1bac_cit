{
 "cells": [
  {
   "cell_type": "code",
   "execution_count": 1,
   "metadata": {},
   "outputs": [
    {
     "name": "stdout",
     "output_type": "stream",
     "text": [
      "IPython console for SymPy 1.4 (Python 3.6.8-64-bit) (ground types: gmpy)\n",
      "\n",
      "These commands were executed:\n",
      ">>> from __future__ import division\n",
      ">>> from sympy import *\n",
      ">>> x, y, z, t = symbols('x y z t')\n",
      ">>> k, m, n = symbols('k m n', integer=True)\n",
      ">>> f, g, h = symbols('f g h', cls=Function)\n",
      ">>> init_printing()\n",
      "\n",
      "Documentation can be found at https://docs.sympy.org/1.4/\n",
      "\n"
     ]
    }
   ],
   "source": [
    "from sympy import init_session\n",
    "from sympy import div, QQ, plot\n",
    "from sympy.parsing.latex import parse_latex\n",
    "from sympy.parsing.sympy_parser import parse_expr\n",
    "from IPython.display import Markdown as md\n",
    "from IPython.display import display\n",
    "import numpy as np\n",
    "import pandas as pd\n",
    "    \n",
    "# from sympy.geometry import Point, Line, Triangle\n",
    "# from sympy.vector import CoordSys3D, vector\n",
    "\n",
    "\n",
    "init_session()\n",
    "\n",
    "a, b, c, d = symbols('a b c d', real = True)\n",
    "from docparts import añadir_ejercicios, doc_ejer, escribir_preambulo, escribir_ejercicios, escribir_fin\n",
    "\n",
    "df_ejercicios = pd.DataFrame()\n",
    "\n",
    "fichero = 'final3'\n",
    "titulo = 'Final 3ª Ev.'\n",
    "curso = '1BC'\n",
    "\n",
    "\n",
    "x,y = symbols('x, y', real=True)\n",
    "\n",
    "#from docfunc import *\n",
    "\n",
    "import matplotlib.pyplot as plt\n",
    "from matplotlib import style\n",
    "#style.use('ggplot')\n",
    "#style.use('seaborn-whitegrid')\n",
    "\n",
    "\n",
    "%matplotlib inline\n",
    "\n",
    "from sympy.calculus.util import continuous_domain\n",
    "from sympy import solve_poly_inequality, reduce_abs_inequality, plot_implicit\n",
    "from sympy.solvers.inequalities import solve_univariate_inequality, reduce_rational_inequalities\n",
    "\n",
    "from sympy.stats import Binomial, density, Die, Coin, P, E, variance, Normal, FiniteRV\n",
    "from sympy import E\n",
    "# from sympy.functions.combinatorial.numbers import nC, nP, nT"
   ]
  },
  {
   "cell_type": "code",
   "execution_count": 2,
   "metadata": {},
   "outputs": [],
   "source": [
    "def trozos(f):\n",
    "    # Función que devuelve el extremo superior de los tramos, los límites laterales, y el valor de la función\n",
    "    sol = []\n",
    "    for i,s  in enumerate(f.args):\n",
    "        if(i<len(f.args)-1):\n",
    "            extremo = f.args[i][1].as_set().sup\n",
    "            #display(extremo)\n",
    "            #display(s)\n",
    "            #display(limit(f.args[i][0],x,extremo, dir='-'))\n",
    "            #display(limit(f.args[i][0],x,extremo, dir='+'))\n",
    "            #display(f.subs(x,extremo))\n",
    "            sol.append((extremo, limit(f.args[i][0],x,extremo, dir='-'), limit(f.args[i+1][0],x,extremo, dir='+'),f.subs(x,extremo)))        \n",
    "    return sol    \n",
    "\n",
    "def estudio(f) :\n",
    "    # Estudio en una función a trozos\n",
    "    \n",
    "    set = S.Reals\n",
    "    conj_singular = S.EmptySet\n",
    "    for j, t in enumerate(f.args) :\n",
    "        #display(singularities(t[0],x))\n",
    "        #conj_singular = Union(conj_singular,singularities(t[0],x))\n",
    "        #display(Union(conj_singular,singularities(t[0],x)))\n",
    "        #conj_singular = Union(conj_singular,Complement(S.Reals,continuous_domain(t[0],x,S.Reals)))\n",
    "        #conj_singular = Union(conj_singular,Intersection(t[1].as_set(),Complement(S.Reals,continuous_domain(t[0],x,S.Reals))))\n",
    "        set2 = Intersection(set,t[1].as_set())\n",
    "        conj_singular = Union(conj_singular,Intersection(set2,Complement(S.Reals,continuous_domain(t[0],x,S.Reals))))\n",
    "        set = Complement(S.Reals,t[1].as_set())\n",
    "        \n",
    "    sol = r\"Singularidades de las expresiones analíticas: $\"+ latex(conj_singular)+\"$\"  \n",
    "    sol += r\".\\\\ Posibles discontinuidades en los extremos de los trozos:\"\n",
    "\n",
    "    xs = []\n",
    "    estudio = []\n",
    "\n",
    "    for j, t in enumerate(trozos(f)) :\n",
    "        xs.append(str(t[0]))\n",
    "        if (t[1]==t[2]) :\n",
    "            estudio.append(r\"\\\\En {} es continua ya que hay límite y $\\lim = f({})={}$\".format(t[0],t[0],t[3]))\n",
    "            display(r\"En $x_0={}$ hay límite y f({})={}\".format(t[0],t[0],t[3]))\n",
    "        else :\n",
    "            estudio.append(r\"\\\\En {} no es continua porque no existe límite. Límites laterales: ${}$ y ${}$\".format(t[0], latex(t[1]), latex(t[2])))\n",
    "            display(r\"En {} no existe límite. Límites laterales: {} y  {}\".format(t[0], t[1], t[2]))\n",
    "\n",
    "    sol+=', '.join(xs)+r\".\"+'. '.join(estudio)\n",
    "    return(sol)\n",
    "    \n",
    "    \n",
    "def asintotas(f) :\n",
    "    # Igual usar singularities mejor: asintotas, verticales, horizontales y oblícuas (a,b) en oo y -oo\n",
    "    asint = []\n",
    "    asintex = r'Asíntotas:\\\\'\n",
    "    sing=EmptySet()\n",
    "    for k in [(Intersection(j.boundary,j.complement(S.Reals))) for j in [i for i in list(continuous_domain(f,x,domain=S.Reals).args)]] :\n",
    "            sing = sing + k\n",
    "    list(sing)\n",
    "    asint.append([(i,limit(f,x,i)) for i in list(sing)])\n",
    "    asintex += ', '.join(r'A.V. $x='+str(i)+r'$\\\\' for i in list(sing))\n",
    "#     asint.append([(i,limit(f,x,i)) for i in list(S.Reals - continuous_domain(f,x,domain=S.Reals))])\n",
    "#     asintex += ', '.join(r'A.V. $x='+str(i)+r'$\\\\' for i in list(S.Reals - continuous_domain(f,x,domain=S.Reals)))\n",
    "    if abs(limit(f,x,oo)) != oo:\n",
    "        asintex += r'A.H. $y='+latex(limit(f,x,oo))+r'$\\\\'\n",
    "    if abs(limit(f,x,-oo)) != oo:\n",
    "        asintex += r'A.H. $y='+latex(limit(f,x,-oo))+r'$\\\\'\n",
    "  \n",
    "    asint.append([(oo,limit(f,x,oo)), (-oo,limit(f,x,-oo))])\n",
    "    oblicuas=[]\n",
    "    if abs(limit(f/x,x,oo)) != oo :\n",
    "        oblicuas.append((oo,limit(f/x,x,oo)*x+limit(f-limit(f/x,x,oo)*x,x,oo)))\n",
    "        #display(latex(limit(f/x,x,oo)*x+limit(f-limit(f/x,x,oo)*x,x,oo)))\n",
    "        asintex += r'A.O. $y='+latex(limit(f/x,x,oo)*x+limit(f-limit(f/x,x,oo)*x,x,oo))+r'$ \\\\'\n",
    "    if abs(limit(f/x,x,-oo)) != oo :\n",
    "        oblicuas.append((-oo,limit(f/x,x,-oo)*x+limit(f-limit(f/x,x,-oo)*x,x,-oo)))\n",
    "        asintex += r'A.O. $y='+latex(limit(f/x,x,-oo)*x+limit(f-limit(f/x,x,-oo)*x,x,-oo))+r'$ \\\\'\n",
    "    asint.append(oblicuas)\n",
    "    return asint,asintex\n",
    "\n",
    "def crecimiento(f) :\n",
    "    #crecimiento, decrecimiento y puntos singulares\n",
    "    crec = reduce_rational_inequalities([[f.diff()>0]],x,relational=False)\n",
    "    decrec = reduce_rational_inequalities([[f.diff()<0]],x,relational=False)\n",
    "    sing = []\n",
    "    for t in solve(f.diff()) :\n",
    "        if f.diff().diff().subs(x,t) < 0 :\n",
    "            tipo = 'máx'\n",
    "        elif f.diff().diff().subs(x,t) > 0 :\n",
    "            tipo = 'mín'\n",
    "        else :\n",
    "            tipo = 'inflex'      \n",
    "        sing.append([t,tipo])\n",
    "\n",
    "    sol=[crec,decrec,sing]\n",
    "\n",
    "    return sol\n",
    "\n",
    "\n",
    "def mi_plot(f, nombre='sin_nombre', xmax=10) :\n",
    "        plt.rcParams['figure.figsize'] = 10,10\n",
    "        #p1 = plot(f,show=True, xlim=(-xmax,xmax), ylim=(-xmax,xmax))\n",
    "        \n",
    "        #p1 = plot(f, xlim=(-xmax,xmax), ylim=(-xmax,xmax))\n",
    "        p1 = plot_implicit(Eq(y,f),x_var=(x, -xmax, xmax), y_var=(y, -xmax, xmax))\n",
    "        p1.save(nombre+\".png\")\n",
    "#        p1.save(\"prueba.png\")\n",
    "        return r\"\\\\ \\resizebox{0.4\\textwidth}{!}{\\includegraphics[width=1\\columnwidth]{%s}}\" % (nombre)\n",
    "\n"
   ]
  },
  {
   "cell_type": "code",
   "execution_count": 3,
   "metadata": {},
   "outputs": [],
   "source": [
    "def datos_cualitativa(lista):\n",
    "    # Devuelve un diccionario para crear la probabilidad cuantitativa a partir del índice\n",
    "    nplista = np.array(lista)\n",
    "    total = nplista[:,1].astype(int).sum()\n",
    "    lista_val = list(nplista[:,0])\n",
    "    dic ={i:nplista[i,1].astype(int)/total for i,s in enumerate(nplista)}\n",
    "    \n",
    "    return dic,lista_val  \n",
    "\n",
    "def extracciones(datos, remplazamiento=False) :\n",
    "    #Devuelve diccionarios con las extracciones del primer conjunto\n",
    "    diccionarios = []\n",
    "\n",
    "    if remplazamiento is True : \n",
    "        extraccion = 0\n",
    "    else :\n",
    "        extraccion = 1\n",
    "\n",
    "\n",
    "    diccionarios.append(datos_cualitativa(datos))\n",
    "\n",
    "    for i in range(len(datos)):\n",
    "        npdatos = np.array(datos)\n",
    "        npdatos[i,1]=npdatos[i,1].astype(int) - extraccion\n",
    "        diccionarios.append(datos_cualitativa(list(npdatos)))\n",
    "        \n",
    "    return diccionarios\n",
    "\n"
   ]
  },
  {
   "cell_type": "code",
   "execution_count": 5,
   "metadata": {},
   "outputs": [
    {
     "data": {
      "text/plain": [
       "([[(-2, -oo), (1, oo)], [(oo, -1), (-oo, -1)], [(oo, -1), (-oo, -1)]],\n",
       " 'Asíntotas:\\\\\\\\A.V. $x=-2$\\\\\\\\, A.V. $x=1$\\\\\\\\A.H. $y=-1$\\\\\\\\A.H. $y=-1$\\\\\\\\A.O. $y=-1$ \\\\\\\\A.O. $y=-1$ \\\\\\\\')"
      ]
     },
     "execution_count": 5,
     "metadata": {},
     "output_type": "execute_result"
    }
   ],
   "source": [
    "asintotas((-x**2-x+3)/(x**2+x-2))"
   ]
  },
  {
   "cell_type": "code",
   "execution_count": 4,
   "metadata": {
    "scrolled": false
   },
   "outputs": [
    {
     "data": {
      "text/markdown": [
       "**Se dispone de dos cajas, la caja A contiene 3 bolas moradas y 2 bolas rojas; mientras \n",
       "    que la caja B contiene 4\n",
       "    bolas moradas y 4 rojas.\n",
       "    **"
      ],
      "text/plain": [
       "<IPython.core.display.Markdown object>"
      ]
     },
     "metadata": {},
     "output_type": "display_data"
    },
    {
     "data": {
      "text/plain": [
       "[({0: 0.6, 1: 0.4}, ['morada', 'roja']),\n",
       " ({0: 0.5555555555555556, 1: 0.4444444444444444}, ['morada', 'roja']),\n",
       " ({0: 0.4444444444444444, 1: 0.5555555555555556}, ['morada', 'roja'])]"
      ]
     },
     "metadata": {},
     "output_type": "display_data"
    },
    {
     "data": {
      "image/png": "[encoded data removed]",
      "text/latex": [
       "$\\displaystyle \\left\\{ 0 : 0.6, \\  1 : 0.4\\right\\}$"
      ],
      "text/plain": [
       "{0: 0.6, 1: 0.4}"
      ]
     },
     "metadata": {},
     "output_type": "display_data"
    },
    {
     "data": {
      "image/png": "[encoded data removed]",
      "text/latex": [
       "$\\displaystyle \\left\\{ 0 : 0.555555555555556, \\  1 : 0.444444444444444\\right\\}$"
      ],
      "text/plain": [
       "{0: 0.555555555555556, 1: 0.444444444444444}"
      ]
     },
     "metadata": {},
     "output_type": "display_data"
    },
    {
     "data": {
      "image/png": "[encoded data removed]",
      "text/latex": [
       "$\\displaystyle \\left\\{ 0 : 0.444444444444444, \\  1 : 0.555555555555556\\right\\}$"
      ],
      "text/plain": [
       "{0: 0.444444444444444, 1: 0.555555555555556}"
      ]
     },
     "metadata": {},
     "output_type": "display_data"
    },
    {
     "data": {
      "text/markdown": [
       "Se escoge una bola cualquiera de la caja A y se pasa a la caja B. Posteriormente se saca una\n",
       "    bola de la caja B. ¿Cuál es la probabilidad de que la bola extraída de la caja B sea morada?.  \\rightarrow $\\frac{3}{5}\\cdot\\frac{5}{9}+\\frac{2}{5}\\cdot\\frac{4}{9}=\\frac{23}{45}$"
      ],
      "text/plain": [
       "<IPython.core.display.Markdown object>"
      ]
     },
     "metadata": {},
     "output_type": "display_data"
    },
    {
     "data": {
      "text/markdown": [
       "**Se dispone de dos cajas, la caja A contiene 6 bolas verdes y 2 bolas blancas; mientras \n",
       "    que la caja B contiene 4\n",
       "    bolas verdes y 4 blancas.\n",
       "    **"
      ],
      "text/plain": [
       "<IPython.core.display.Markdown object>"
      ]
     },
     "metadata": {},
     "output_type": "display_data"
    },
    {
     "data": {
      "text/plain": [
       "[({0: 0.75, 1: 0.25}, ['verde', 'blanca']),\n",
       " ({0: 0.5555555555555556, 1: 0.4444444444444444}, ['verde', 'blanca']),\n",
       " ({0: 0.4444444444444444, 1: 0.5555555555555556}, ['verde', 'blanca'])]"
      ]
     },
     "metadata": {},
     "output_type": "display_data"
    },
    {
     "data": {
      "image/png": "[encoded data removed]",
      "text/latex": [
       "$\\displaystyle \\left\\{ 0 : 0.75, \\  1 : 0.25\\right\\}$"
      ],
      "text/plain": [
       "{0: 0.75, 1: 0.25}"
      ]
     },
     "metadata": {},
     "output_type": "display_data"
    },
    {
     "data": {
      "image/png": "[encoded data removed]",
      "text/latex": [
       "$\\displaystyle \\left\\{ 0 : 0.555555555555556, \\  1 : 0.444444444444444\\right\\}$"
      ],
      "text/plain": [
       "{0: 0.555555555555556, 1: 0.444444444444444}"
      ]
     },
     "metadata": {},
     "output_type": "display_data"
    },
    {
     "data": {
      "image/png": "[encoded data removed]",
      "text/latex": [
       "$\\displaystyle \\left\\{ 0 : 0.444444444444444, \\  1 : 0.555555555555556\\right\\}$"
      ],
      "text/plain": [
       "{0: 0.444444444444444, 1: 0.555555555555556}"
      ]
     },
     "metadata": {},
     "output_type": "display_data"
    },
    {
     "data": {
      "text/markdown": [
       "Se escoge una bola cualquiera de la caja A y se pasa a la caja B. Posteriormente se saca una\n",
       "    bola de la caja B. ¿Cuál es la probabilidad de que la bola extraída de la caja B sea verde?.  \\rightarrow $\\frac{3}{4}\\cdot\\frac{5}{9}+\\frac{1}{4}\\cdot\\frac{4}{9}=\\frac{19}{36}$"
      ],
      "text/plain": [
       "<IPython.core.display.Markdown object>"
      ]
     },
     "metadata": {},
     "output_type": "display_data"
    },
    {
     "data": {
      "text/markdown": [
       "**Se dispone de dos cajas, la caja A contiene 3 bolas verdes y 2 bolas blancas; mientras \n",
       "    que la caja B contiene 4\n",
       "    bolas verdes y 4 blancas.\n",
       "    **"
      ],
      "text/plain": [
       "<IPython.core.display.Markdown object>"
      ]
     },
     "metadata": {},
     "output_type": "display_data"
    },
    {
     "data": {
      "text/plain": [
       "[({0: 0.6, 1: 0.4}, ['verde', 'blanca']),\n",
       " ({0: 0.5555555555555556, 1: 0.4444444444444444}, ['verde', 'blanca']),\n",
       " ({0: 0.4444444444444444, 1: 0.5555555555555556}, ['verde', 'blanca'])]"
      ]
     },
     "metadata": {},
     "output_type": "display_data"
    },
    {
     "data": {
      "image/png": "[encoded data removed]",
      "text/latex": [
       "$\\displaystyle \\left\\{ 0 : 0.6, \\  1 : 0.4\\right\\}$"
      ],
      "text/plain": [
       "{0: 0.6, 1: 0.4}"
      ]
     },
     "metadata": {},
     "output_type": "display_data"
    },
    {
     "data": {
      "image/png": "[encoded data removed]",
      "text/latex": [
       "$\\displaystyle \\left\\{ 0 : 0.555555555555556, \\  1 : 0.444444444444444\\right\\}$"
      ],
      "text/plain": [
       "{0: 0.555555555555556, 1: 0.444444444444444}"
      ]
     },
     "metadata": {},
     "output_type": "display_data"
    },
    {
     "data": {
      "image/png": "[encoded data removed]",
      "text/latex": [
       "$\\displaystyle \\left\\{ 0 : 0.444444444444444, \\  1 : 0.555555555555556\\right\\}$"
      ],
      "text/plain": [
       "{0: 0.444444444444444, 1: 0.555555555555556}"
      ]
     },
     "metadata": {},
     "output_type": "display_data"
    },
    {
     "data": {
      "text/markdown": [
       "Se escoge una bola cualquiera de la caja A y se pasa a la caja B. Posteriormente se saca una\n",
       "    bola de la caja B. ¿Cuál es la probabilidad de que la bola extraída de la caja B sea verde?.  \\rightarrow $\\frac{3}{5}\\cdot\\frac{5}{9}+\\frac{2}{5}\\cdot\\frac{4}{9}=\\frac{23}{45}$"
      ],
      "text/plain": [
       "<IPython.core.display.Markdown object>"
      ]
     },
     "metadata": {},
     "output_type": "display_data"
    }
   ],
   "source": [
    "# Bayes\n",
    "\n",
    "datos = [['morada','roja',3,2,4,4],['verde','blanca',6,2,4,4],['verde','blanca',3,2,4,4]]\n",
    "\n",
    "for i,s in enumerate(datos):\n",
    "    \n",
    "    color1, color2, A1, A2, B1, B2 = s\n",
    "    \n",
    "    n_ejercicio = 'fin308-'+str(i)\n",
    "\n",
    "    texto_ejercicio = r\"\"\"Se dispone de dos cajas, la caja A contiene {} bolas {}s y {} bolas {}s; mientras \n",
    "    que la caja B contiene {}\n",
    "    bolas {}s y {} {}s.\n",
    "    \"\"\".format(A1,color1,A2, color2, B1,color1,B2,color2)\n",
    "\n",
    "    display(md(\"**\"+texto_ejercicio+\"**\"))\n",
    "\n",
    "    \n",
    "\n",
    "    #datos = [[[color1,A1/At],[color2,A2/At]],[[color1,(B1+1)/(Bt+1)],[color2,(B2)/(Bt+1)]],[[color1,(B1)/(Bt+1)],[color2,(B2+1)/(Bt+1)]]]\n",
    "    datos_dicc = [[color1,A1],[color2,A2]],[[color1,(B1+1)],[color2,(B2)]],[[color1,(B1)],[color2,(B2+1)]]\n",
    "    datos_dicc2 = [['A',1],['B',1]],[[color1,A1],[color2,A2]],[[color1,(B1)],[color2,(B2)]]\n",
    "\n",
    "#     texto_ejercicio = r\"\"\"Se dispone de dos cajas, la caja A contiene {} bolas {}s y {} bolas {}s; mientras que la caja B contiene 4\n",
    "#     bolas {}s y 4 {}s.\"\"\".format(A1,color1,color2,color1,color2)\n",
    "\n",
    "\n",
    "\n",
    "    diccionarios = [datos_cualitativa(datos_dicc[i]) for i,s  in enumerate(datos_dicc)]\n",
    "\n",
    "    display(diccionarios)\n",
    "\n",
    "    ini = FiniteRV('ini',density=diccionarios[0][0])\n",
    "    si_1 = FiniteRV('si_1',density=diccionarios[1][0])\n",
    "    si_2 = FiniteRV('si_2',density=diccionarios[2][0])\n",
    "\n",
    "    display(density(ini).dict,density(si_1).dict,density(si_2).dict)\n",
    "\n",
    "    enunciado_latex, enunciado, solucion = [],[],[]\n",
    "\n",
    "    en = r\"\"\"Se escoge una bola cualquiera de la caja A y se pasa a la caja B. Posteriormente se saca una\n",
    "    bola de la caja B. ¿Cuál es la probabilidad de que la bola extraída de la caja B sea {}?. \"\"\".format(color1) \n",
    "\n",
    "    enunciado_latex.append(en)\n",
    "    enunciado.append(str(en))\n",
    "    p1 = P(Eq(ini,0))*P(Eq(si_1,0))+P(Eq(ini,1))*P(Eq(si_2,0))\n",
    "\n",
    "    sol = \"$\"+latex(nsimplify(P(Eq(ini,0))))\n",
    "    sol += r\"\\cdot\"+latex(nsimplify(P(Eq(si_1,0))))\n",
    "    sol += r\"+\"+latex(nsimplify(P(Eq(ini,1))))\n",
    "    sol += r\"\\cdot\"+latex(nsimplify(P(Eq(si_2,0))))\n",
    "    sol += \"=\"+latex(nsimplify(p1))+\"$\"\n",
    "\n",
    "    solucion.append(sol)\n",
    "\n",
    "    display(md(\"\"+ enunciado_latex[0] +\" \\\\rightarrow \" + solucion[0] +\"\"))\n",
    "    \n",
    "    en2 = r\"\"\"Ahora volvemos a la situación original de las cajas. Seleccionamos una caja al azar y se saca una bola \n",
    "    que resulta ser {}. ¿Cuál es la probabilidad de que esa\n",
    "    bola sea de la caja A?\"\"\".format(color2) \n",
    "    \n",
    "    diccionarios = [datos_cualitativa(datos_dicc2[i]) for i,s  in enumerate(datos_dicc2)]\n",
    "    ini = FiniteRV('ini',density=diccionarios[0][0])\n",
    "    si_1 = FiniteRV('si_1',density=diccionarios[1][0])\n",
    "    si_2 = FiniteRV('si_2',density=diccionarios[2][0])\n",
    "\n",
    "\n",
    "    enunciado_latex.append(en2)\n",
    "    enunciado.append(str(en2))\n",
    "    p2 = P(Eq(ini,0))*P(Eq(si_1,1))/(P(Eq(ini,0))*P(Eq(si_1,1))+P(Eq(ini,1))*P(Eq(si_2,1)))\n",
    "    sol = r\"$\\dfrac{\"+latex(nsimplify(P(Eq(ini,0))))+r\"\\cdot\"+latex(nsimplify(P(Eq(si_1,1))))\n",
    "    sol += r\"}{\"+latex(nsimplify(P(Eq(ini,0))))+r\"\\cdot\"+latex(nsimplify(P(Eq(si_1,1))))\n",
    "    sol += r\"+\"+latex(nsimplify(P(Eq(ini,1))))+r\"\\cdot\"+latex(nsimplify(P(Eq(si_2,1))))\n",
    "    sol += r\"}\"\n",
    "    sol += \"=\"+latex(nsimplify(p2))+\"$\"\n",
    "    solucion.append(sol)\n",
    "\n",
    "\n",
    "    df_ejercicios = df_ejercicios.append(añadir_ejercicios(enunciado_latex, enunciado, solucion, texto_ejercicio, curso, titulo , n_ejercicio, '1', '1', enun_tex=False, sol_tex=False), ignore_index=True)\n"
   ]
  },
  {
   "cell_type": "code",
   "execution_count": 5,
   "metadata": {
    "scrolled": false
   },
   "outputs": [
    {
     "data": {
      "text/markdown": [
       "**Se dispone de dos cajas, la caja A contiene 3 bolas moradas y 2 bolas rojas; mientras que la caja B contiene 4\n",
       "bolas moradas y 4 rojas . (0,75 puntos)  .\n",
       "Ahora \n",
       "volvemos a la situación original de las cajas; la A contiene 3 moradas y 2 rojas y la B\n",
       "contiene 4 moradas y 4 rojasSeleccionamos una caja al azar y se saca una bola que resulta ser roja. ¿Cuál es la probabilidad de que esa\n",
       "bola sea de la caja A?**"
      ],
      "text/plain": [
       "<IPython.core.display.Markdown object>"
      ]
     },
     "metadata": {},
     "output_type": "display_data"
    },
    {
     "data": {
      "text/plain": [
       "[({0: 0.6, 1: 0.4}, ['morada', 'roja']),\n",
       " ({0: 0.5555555555555556, 1: 0.4444444444444444}, ['morada', 'roja']),\n",
       " ({0: 0.4444444444444444, 1: 0.5555555555555556}, ['morada', 'roja'])]"
      ]
     },
     "metadata": {},
     "output_type": "display_data"
    },
    {
     "data": {
      "image/png": "[encoded data removed]",
      "text/latex": [
       "$\\displaystyle \\left\\{ 0 : 0.6, \\  1 : 0.4\\right\\}$"
      ],
      "text/plain": [
       "{0: 0.6, 1: 0.4}"
      ]
     },
     "metadata": {},
     "output_type": "display_data"
    },
    {
     "data": {
      "image/png": "[encoded data removed]",
      "text/latex": [
       "$\\displaystyle \\left\\{ 0 : 0.555555555555556, \\  1 : 0.444444444444444\\right\\}$"
      ],
      "text/plain": [
       "{0: 0.555555555555556, 1: 0.444444444444444}"
      ]
     },
     "metadata": {},
     "output_type": "display_data"
    },
    {
     "data": {
      "image/png": "[encoded data removed]",
      "text/latex": [
       "$\\displaystyle \\left\\{ 0 : 0.444444444444444, \\  1 : 0.555555555555556\\right\\}$"
      ],
      "text/plain": [
       "{0: 0.444444444444444, 1: 0.555555555555556}"
      ]
     },
     "metadata": {},
     "output_type": "display_data"
    },
    {
     "data": {
      "text/markdown": [
       "Se escoge una bola cualquiera de la caja A y se pasa a la caja B. Posteriormente se saca una\n",
       "bola de la caja B. ¿Cuál es la probabilidad de que la bola extraída de la caja B sea morada?.  \\rightarrow $\\frac{3}{5}\\cdot\\frac{5}{9}+\\frac{2}{5}\\cdot\\frac{4}{9}=\\frac{23}{45}$"
      ],
      "text/plain": [
       "<IPython.core.display.Markdown object>"
      ]
     },
     "metadata": {},
     "output_type": "display_data"
    }
   ],
   "source": [
    "# Bayes\n",
    "\n",
    "texto = r\"\"\"Se dispone de dos cajas, la caja A contiene 3 bolas moradas y 2 bolas rojas; mientras que la caja B contiene 4\n",
    "bolas moradas y 4 rojas . (0,75 puntos) Se escoge una bola cualquiera de la caja A y se pasa a la caja B. Posteriormente se saca una\n",
    "bola de la caja B. ¿Cuál es la probabilidad de que la bola extraída de la caja B sea morada?. Ahora volvemos a la situación original de las cajas; la A contiene 3 moradas y 2 rojas y la B\n",
    "contiene 4 moradas y 4 rojas .\n",
    "Seleccionamos una caja al azar y se saca una bola que resulta ser roja. ¿Cuál es la probabilidad de que esa\n",
    "bola sea de la caja A?\"\"\"\n",
    "\n",
    "color1='morada'\n",
    "color2='roja'\n",
    "A1=3\n",
    "A2=2\n",
    "B1=4\n",
    "B2=4\n",
    "\n",
    "\n",
    "#datos = [[[color1,A1/At],[color2,A2/At]],[[color1,(B1+1)/(Bt+1)],[color2,(B2)/(Bt+1)]],[[color1,(B1)/(Bt+1)],[color2,(B2+1)/(Bt+1)]]]\n",
    "datos = [[[color1,A1],[color2,A2]],[[color1,(B1+1)],[color2,(B2)]],[[color1,(B1)],[color2,(B2+1)]]]\n",
    "\n",
    "texto_ejercicio = r\"\"\"Se dispone de dos cajas, la caja A contiene 3 bolas {}s y 2 bolas {}s; mientras que la caja B contiene 4\n",
    "bolas {}s y 4 {}s . (0,75 puntos)  .\n",
    "Ahora \n",
    "volvemos a la situación original de las cajas; la A contiene 3 moradas y 2 rojas y la B\n",
    "contiene 4 moradas y 4 rojasSeleccionamos una caja al azar y se saca una bola que resulta ser roja. ¿Cuál es la probabilidad de que esa\n",
    "bola sea de la caja A?\"\"\".format(color1,color2,color1,color2)\n",
    "\n",
    "n_ejercicio = 'fin3-01'\n",
    "\n",
    "display(md(\"**\"+texto_ejercicio+\"**\"))\n",
    "\n",
    "datos_cualitativa(datos[0])\n",
    "\n",
    "\n",
    "\n",
    "diccionarios = [datos_cualitativa(datos[i]) for i,s  in enumerate(datos)]\n",
    "\n",
    "display(diccionarios)\n",
    "\n",
    "ini = FiniteRV('ini',density=diccionarios[0][0])\n",
    "si_1 = FiniteRV('si_1',density=diccionarios[1][0])\n",
    "si_2 = FiniteRV('si_2',density=diccionarios[2][0])\n",
    "\n",
    "display(density(ini).dict,density(si_1).dict,density(si_2).dict)\n",
    "\n",
    "enunciado_latex, enunciado, solucion = [],[],[]\n",
    "\n",
    "en = r\"\"\"Se escoge una bola cualquiera de la caja A y se pasa a la caja B. Posteriormente se saca una\n",
    "bola de la caja B. ¿Cuál es la probabilidad de que la bola extraída de la caja B sea {}?. \"\"\".format(color1) \n",
    "\n",
    "enunciado_latex.append(en)\n",
    "enunciado = str(en)\n",
    "p1 = P(Eq(ini,0))*P(Eq(si_1,0))+P(Eq(ini,1))*P(Eq(si_2,0))\n",
    "\n",
    "sol = \"$\"+latex(nsimplify(P(Eq(ini,0))))\n",
    "sol += r\"\\cdot\"+latex(nsimplify(P(Eq(si_1,0))))\n",
    "sol += r\"+\"+latex(nsimplify(P(Eq(ini,1))))\n",
    "sol += r\"\\cdot\"+latex(nsimplify(P(Eq(si_2,0))))\n",
    "sol += \"=\"+latex(nsimplify(p1))+\"$\"\n",
    "\n",
    "solucion.append(sol)\n",
    "\n",
    "# p2 = (P(Eq(ini,0))*P(Eq(si_1,0)))/(P(Eq(ini,0))*P(Eq(si_1,0))+P(Eq(ini,1))*P(Eq(si_2,0)))\n",
    "# solucion.append(latex([nsimplify(p1),\n",
    "#                        nsimplify(p2)\n",
    "#                ]))\n",
    "\n",
    "display(md(\"\"+ enunciado_latex[0] +\" \\\\rightarrow \" + solucion[0] +\"\"))\n",
    "\n",
    "#df_ejercicios = df_ejercicios.append(añadir_ejercicios(enunciado_latex, enunciado, solucion, texto_ejercicio, curso, titulo , n_ejercicio, '1', '1', enun_tex=False, sol_tex=False), ignore_index=True)\n"
   ]
  },
  {
   "cell_type": "code",
   "execution_count": 6,
   "metadata": {},
   "outputs": [
    {
     "data": {
      "text/markdown": [
       "Dada la función:$f(x)=\\frac{x^{2} - 2 x + 1}{2 x + 3}$, calcular:"
      ],
      "text/plain": [
       "<IPython.core.display.Markdown object>"
      ]
     },
     "metadata": {},
     "output_type": "display_data"
    },
    {
     "data": {
      "image/png": "[encoded data removed]",
      "text/plain": [
       "<Figure size 720x720 with 1 Axes>"
      ]
     },
     "metadata": {},
     "output_type": "display_data"
    },
    {
     "data": {
      "text/markdown": [
       "Dominio de $f(x)$ $ \\rightarrow $$Dom(f)=\\left(-\\infty, - \\frac{3}{2}\\right) \\cup \\left(- \\frac{3}{2}, \\infty\\right)$\\\\ \\resizebox{0.4\\textwidth}{!}{\\includegraphics[width=1\\columnwidth]{fin301-0}}"
      ],
      "text/plain": [
       "<IPython.core.display.Markdown object>"
      ]
     },
     "metadata": {},
     "output_type": "display_data"
    },
    {
     "data": {
      "text/markdown": [
       "Asíntotas verticales, horizontales y oblicuas, en caso que existan $ \\rightarrow $Asíntotas:\\\\A.V. $x=-3/2$\\\\A.O. $y=\\frac{x}{2} - \\frac{7}{4}$ \\\\A.O. $y=\\frac{x}{2} - \\frac{7}{4}$ \\\\"
      ],
      "text/plain": [
       "<IPython.core.display.Markdown object>"
      ]
     },
     "metadata": {},
     "output_type": "display_data"
    },
    {
     "data": {
      "text/markdown": [
       "Dada la función:$f(x)=\\frac{- x^{2} - x + 3}{x^{2} + x - 2}$, calcular:"
      ],
      "text/plain": [
       "<IPython.core.display.Markdown object>"
      ]
     },
     "metadata": {},
     "output_type": "display_data"
    },
    {
     "data": {
      "image/png": "[encoded data removed]",
      "text/plain": [
       "<Figure size 720x720 with 1 Axes>"
      ]
     },
     "metadata": {},
     "output_type": "display_data"
    },
    {
     "data": {
      "image/png": "[encoded data removed]",
      "text/plain": [
       "<Figure size 720x720 with 1 Axes>"
      ]
     },
     "metadata": {},
     "output_type": "display_data"
    },
    {
     "data": {
      "text/markdown": [
       "Dominio de $f(x)$ $ \\rightarrow $$Dom(f)=\\left(-\\infty, -2\\right) \\cup \\left(-2, 1\\right) \\cup \\left(1, \\infty\\right)$\\\\ \\resizebox{0.4\\textwidth}{!}{\\includegraphics[width=1\\columnwidth]{fin301-1}}"
      ],
      "text/plain": [
       "<IPython.core.display.Markdown object>"
      ]
     },
     "metadata": {},
     "output_type": "display_data"
    },
    {
     "data": {
      "text/markdown": [
       "Asíntotas verticales, horizontales y oblicuas, en caso que existan $ \\rightarrow $Asíntotas:\\\\A.V. $x=-2$\\\\, A.V. $x=1$\\\\A.H. $y=-1$\\\\A.H. $y=-1$\\\\A.O. $y=-1$ \\\\A.O. $y=-1$ \\\\"
      ],
      "text/plain": [
       "<IPython.core.display.Markdown object>"
      ]
     },
     "metadata": {},
     "output_type": "display_data"
    },
    {
     "data": {
      "text/markdown": [
       "Dada la función:$f(x)=\\sqrt{\\frac{x}{x - 1}}$, calcular:"
      ],
      "text/plain": [
       "<IPython.core.display.Markdown object>"
      ]
     },
     "metadata": {},
     "output_type": "display_data"
    },
    {
     "data": {
      "image/png": "[encoded data removed]",
      "text/plain": [
       "<Figure size 720x720 with 1 Axes>"
      ]
     },
     "metadata": {},
     "output_type": "display_data"
    },
    {
     "data": {
      "image/png": "[encoded data removed]",
      "text/plain": [
       "<Figure size 720x720 with 1 Axes>"
      ]
     },
     "metadata": {},
     "output_type": "display_data"
    },
    {
     "data": {
      "text/markdown": [
       "Dominio de $f(x)$ $ \\rightarrow $$Dom(f)=\\left(-\\infty, 0\\right] \\cup \\left(1, \\infty\\right)$\\\\ \\resizebox{0.4\\textwidth}{!}{\\includegraphics[width=1\\columnwidth]{fin301-2}}"
      ],
      "text/plain": [
       "<IPython.core.display.Markdown object>"
      ]
     },
     "metadata": {},
     "output_type": "display_data"
    },
    {
     "data": {
      "text/markdown": [
       "Asíntotas verticales, horizontales y oblicuas, en caso que existan $ \\rightarrow $Asíntotas:\\\\A.V. $x=1$\\\\A.H. $y=1$\\\\A.H. $y=1$\\\\A.O. $y=1$ \\\\A.O. $y=1$ \\\\"
      ],
      "text/plain": [
       "<IPython.core.display.Markdown object>"
      ]
     },
     "metadata": {},
     "output_type": "display_data"
    },
    {
     "data": {
      "image/png": "[encoded data removed]",
      "text/plain": [
       "<Figure size 720x720 with 1 Axes>"
      ]
     },
     "metadata": {},
     "output_type": "display_data"
    }
   ],
   "source": [
    "datos = [(x**2-2*x+1)/(2*x+3),(-x**2 - x + 3)/(x**2 + x - 2), sqrt(x/(x-1))]\n",
    "\n",
    "for i, s in enumerate(datos) : \n",
    "    n_ejercicio = 'fin301-'+str(i)\n",
    "    enunciado_latex, enunciado, solucion = [],[],[]\n",
    "    \n",
    "    ejercicio=s\n",
    "    texto_ejercicio = r\"\"\"Dada la función:$f(x)=\"\"\"+latex(ejercicio)+\"$, calcular:\"\n",
    "    \n",
    "    display(md(texto_ejercicio))\n",
    "    enun = r\"Dominio de $f(x)$\"\n",
    "    enunciado_latex.append(enun)\n",
    "    enunciado.append(enun)\n",
    "    sol=r\"$Dom(f)=\"+latex(continuous_domain(s,x,domain=S.Reals))+\"$\"\n",
    "    sol+=mi_plot(s,n_ejercicio)\n",
    "    display(md(enun +\" $ \\\\rightarrow $\" + sol ))                 \n",
    "    solucion.append(latex(sol))\n",
    "    #df_ejercicios = df_ejercicios.append(añadir_ejercicios(enunciado_latex, enunciado, solucion, texto_ejercicio, curso, titulo , n_ejercicio, '5', '1', enun_tex=False, sol_tex=False), ignore_index=True)\n",
    "\n",
    "#     enun = r\"¿Para qué valores de $x$ la función es creciente?\"\n",
    "#     enunciado_latex.append(enun)\n",
    "#     enunciado.append(enun)\n",
    "#     #sol=r\"$\"+latex(reduce_rational_inequalities([[s.diff()>0]],x,relational=False))+\"$\"\n",
    "#     sol = r\"$\"+latex(crecimiento(s)[0])+\"$\"\n",
    "#     display(md(enun +\" $ \\\\rightarrow $\" + sol ))                 \n",
    "#     solucion.append(latex(sol))\n",
    "#     #df_ejercicios = df_ejercicios.append(añadir_ejercicios(enunciado_latex, enunciado, solucion, texto_ejercicio, curso, titulo , n_ejercicio, '5', '1', enun_tex=False, sol_tex=False), ignore_index=True)\n",
    "\n",
    "    enun = r\"Asíntotas verticales, horizontales y oblicuas, en caso que existan\"\n",
    "    enunciado_latex.append(enun)\n",
    "    enunciado.append(enun)\n",
    "    sol=r\"\"+(asintotas(s)[1])+\"\"\n",
    "    display(md(enun +\" $ \\\\rightarrow $\" + sol ))                 \n",
    "    solucion.append((sol))\n",
    "    df_ejercicios = df_ejercicios.append(añadir_ejercicios(enunciado_latex, enunciado, solucion, texto_ejercicio, curso, titulo , n_ejercicio, '5', '1', enun_tex=False, sol_tex=False), ignore_index=True)\n",
    "\n"
   ]
  },
  {
   "cell_type": "code",
   "execution_count": 7,
   "metadata": {},
   "outputs": [
    {
     "data": {
      "text/markdown": [
       "Estudia en qué puntos de $\\mathbb{R}$ la función no es continua:  $f(x)=\\begin{cases} \\frac{2 x^{2} + 7 x + 3}{x^{2} - 9} & \\text{for}\\: x \\leq -2 \\\\\\frac{\\sqrt{x + 3} - 1}{x^{2} + 2 x} & \\text{otherwise} \\end{cases}$"
      ],
      "text/plain": [
       "<IPython.core.display.Markdown object>"
      ]
     },
     "metadata": {},
     "output_type": "display_data"
    },
    {
     "data": {
      "text/plain": [
       "'En -2 no existe límite. Límites laterales: 3/5 y  -1/4'"
      ]
     },
     "metadata": {},
     "output_type": "display_data"
    },
    {
     "data": {
      "text/markdown": [
       "$f(x)=\\begin{cases} \\frac{2 x^{2} + 7 x + 3}{x^{2} - 9} & \\text{for}\\: x \\leq -2 \\\\\\frac{\\sqrt{x + 3} - 1}{x^{2} + 2 x} & \\text{otherwise} \\end{cases}$ $ \\rightarrow $Singularidades de las expresiones analíticas: $\\left\\{-3, 0\\right\\}$.\\\\ Posibles discontinuidades en los extremos de los trozos:-2.\\\\En -2 no es continua porque no existe límite. Límites laterales: $\\frac{3}{5}$ y $- \\frac{1}{4}$"
      ],
      "text/plain": [
       "<IPython.core.display.Markdown object>"
      ]
     },
     "metadata": {},
     "output_type": "display_data"
    },
    {
     "data": {
      "text/markdown": [
       "Estudia en qué puntos de $\\mathbb{R}$ la función no es continua:  $f(x)=\\begin{cases} \\frac{x^{2} - 4}{x^{2} - 3 x + 2} & \\text{for}\\: x < 2 \\\\4 & \\text{for}\\: x < 5 \\\\e^{x - 5} + 3 & \\text{otherwise} \\end{cases}$"
      ],
      "text/plain": [
       "<IPython.core.display.Markdown object>"
      ]
     },
     "metadata": {},
     "output_type": "display_data"
    },
    {
     "data": {
      "text/plain": [
       "'En $x_0=2$ hay límite y f(2)=4'"
      ]
     },
     "metadata": {},
     "output_type": "display_data"
    },
    {
     "data": {
      "text/plain": [
       "'En $x_0=5$ hay límite y f(5)=4'"
      ]
     },
     "metadata": {},
     "output_type": "display_data"
    },
    {
     "data": {
      "text/markdown": [
       "$f(x)=\\begin{cases} \\frac{x^{2} - 4}{x^{2} - 3 x + 2} & \\text{for}\\: x < 2 \\\\4 & \\text{for}\\: x < 5 \\\\e^{x - 5} + 3 & \\text{otherwise} \\end{cases}$ $ \\rightarrow $Singularidades de las expresiones analíticas: $\\left\\{1\\right\\}$.\\\\ Posibles discontinuidades en los extremos de los trozos:2, 5.\\\\En 2 es continua ya que hay límite y $\\lim = f(2)=4$. \\\\En 5 es continua ya que hay límite y $\\lim = f(5)=4$"
      ],
      "text/plain": [
       "<IPython.core.display.Markdown object>"
      ]
     },
     "metadata": {},
     "output_type": "display_data"
    }
   ],
   "source": [
    "datos = [\n",
    "        Piecewise(((2*x**2+7*x+3)/(x**2-9),x<=-2),((sqrt(x+3)-1)/(x**2+2*x),x>-2)),\n",
    "        Piecewise(((x**2-4)/(x**2-3*x+2),x<2),(4,x<5),(E**(x-5)+3,True)),\n",
    "        ]\n",
    "\n",
    "for i, s in enumerate(datos) : \n",
    "    n_ejercicio = 'fin302-'+str(i)\n",
    "    enunciado_latex, enunciado, solucion = [],[],[]\n",
    "    \n",
    "    ejercicio=s\n",
    "    texto_ejercicio = r\"\"\"Estudia en qué puntos de $\\mathbb{R}$ la función no es continua: \"\"\"\n",
    "    \n",
    "\n",
    "    enun = r\"$f(x)=\"+latex(ejercicio)+\"$\"\n",
    "    display(md(texto_ejercicio+\" \"+enun))\n",
    "    enunciado_latex.append(enun)\n",
    "    enunciado.append(enun)\n",
    "    sol=estudio(s)\n",
    "    #sol+=mi_plot(s,n_ejercicio)\n",
    "    display(md(enun +\" $ \\\\rightarrow $\" + sol ))                 \n",
    "    solucion.append(latex(sol))\n",
    "    df_ejercicios = df_ejercicios.append(añadir_ejercicios(enunciado_latex, enunciado, solucion, texto_ejercicio, curso, titulo , n_ejercicio, '5', '1', enun_tex=False, sol_tex=False), ignore_index=True)\n",
    "\n"
   ]
  },
  {
   "cell_type": "code",
   "execution_count": 8,
   "metadata": {},
   "outputs": [
    {
     "data": {
      "text/markdown": [
       "$$f(x)=\\begin{cases} a + e^{x + 2} & \\text{for}\\: x \\leq -2 \\\\\\frac{x + 1}{3 - x} & \\text{for}\\: x < 1 \\\\b x + 3 & \\text{otherwise} \\end{cases}$$ $ \\rightarrow $$\\left\\{ a : - \\frac{6}{5}, \\  b : -2\\right\\}$"
      ],
      "text/plain": [
       "<IPython.core.display.Markdown object>"
      ]
     },
     "metadata": {},
     "output_type": "display_data"
    },
    {
     "data": {
      "text/markdown": [
       "$$f(x)=\\begin{cases} a + e^{x + 3} & \\text{for}\\: x \\leq -3 \\\\\\frac{x + 2}{4 - x} & \\text{for}\\: x < 1 \\\\b x + 6 & \\text{otherwise} \\end{cases}$$ $ \\rightarrow $$\\left\\{ a : - \\frac{8}{7}, \\  b : -5\\right\\}$"
      ],
      "text/plain": [
       "<IPython.core.display.Markdown object>"
      ]
     },
     "metadata": {},
     "output_type": "display_data"
    }
   ],
   "source": [
    "datos = [\n",
    "            [Piecewise((E**(x+2)+a,x<=-2),((1+x)/(3-x),x<1),(b*x+3,True))],\n",
    "            [Piecewise((E**(x+3)+a,x<=-3),((2+x)/(4-x),x<1),(b*x+6,True))],\n",
    "            \n",
    "        ]\n",
    "\n",
    "for i, s in enumerate(datos) : \n",
    "    n_ejercicio = 'fin303-'+str(i)\n",
    "    enunciado_latex, enunciado, solucion = [],[],[]\n",
    "    \n",
    "    ejercicio=s\n",
    "    texto_ejercicio = r\"\"\"Halla a y b de modo que las siguientes funciones sean continuas:\"\"\"\n",
    "    \n",
    "    for j, t in enumerate(datos[i]):\n",
    "        enunciado_latex.append(r'$$f(x)='+latex(t)+r'$$')\n",
    "        enunciado.append(t)\n",
    "        sol = solve([trozos(t)[0][1]-trozos(t)[0][2],trozos(t)[1][1]-trozos(t)[1][2]])\n",
    "        solucion.append(r\"$\"+latex(sol)+r\"$\")\n",
    "        display(md(enunciado_latex[j] +\" $ \\\\rightarrow $\" + solucion[j] ))\n",
    "\n",
    "#     dato = Piecewise((log(x),x<1),(a*x**2+b,True))\n",
    "#     enunciado_latex.append(r'$$f(x)='+latex(dato)+r'$$')\n",
    "#     enunciado.append(dato)\n",
    "#     sol = solveset(trozos(dato)[0][1]-trozos(dato)[0][2],a)\n",
    "#     solucion.append(r\"$\"+latex(sol)+r\"$\")\n",
    "    \n",
    "    df_ejercicios = df_ejercicios.append(añadir_ejercicios(enunciado_latex, enunciado, solucion, texto_ejercicio, curso, titulo , n_ejercicio, '5', '1', enun_tex=False, sol_tex=False), ignore_index=True)\n"
   ]
  },
  {
   "cell_type": "code",
   "execution_count": 9,
   "metadata": {},
   "outputs": [
    {
     "data": {
      "text/markdown": [
       "**Calcula los siguientes límites:**"
      ],
      "text/plain": [
       "<IPython.core.display.Markdown object>"
      ]
     },
     "metadata": {},
     "output_type": "display_data"
    },
    {
     "data": {
      "text/markdown": [
       "$$\\lim_{x \\to 3}\\left(\\frac{3 x^{2} - 11 x + 6}{x^{3} - 3 x^{2} + x - 3}\\right)$$ $ \\rightarrow $$\\frac{7}{10}$"
      ],
      "text/plain": [
       "<IPython.core.display.Markdown object>"
      ]
     },
     "metadata": {},
     "output_type": "display_data"
    },
    {
     "data": {
      "text/markdown": [
       "$$\\lim_{x \\to \\infty} e^{1 - x}$$ $ \\rightarrow $$0$"
      ],
      "text/plain": [
       "<IPython.core.display.Markdown object>"
      ]
     },
     "metadata": {},
     "output_type": "display_data"
    },
    {
     "data": {
      "text/markdown": [
       "$$\\lim_{x \\to -2}\\left(\\frac{x^{3} + x^{2} - x + 2}{x^{2} + 4 x + 4}\\right)$$ $ \\rightarrow $No existe el límite"
      ],
      "text/plain": [
       "<IPython.core.display.Markdown object>"
      ]
     },
     "metadata": {},
     "output_type": "display_data"
    },
    {
     "data": {
      "text/markdown": [
       "$$\\lim_{x \\to 2} \\left(\\frac{x^{3} - 4}{x^{2}}\\right)^{\\frac{1}{x - 2}}$$ $ \\rightarrow $$e^{2}$"
      ],
      "text/plain": [
       "<IPython.core.display.Markdown object>"
      ]
     },
     "metadata": {},
     "output_type": "display_data"
    },
    {
     "data": {
      "text/markdown": [
       "**Calcula los siguientes límites:**"
      ],
      "text/plain": [
       "<IPython.core.display.Markdown object>"
      ]
     },
     "metadata": {},
     "output_type": "display_data"
    },
    {
     "data": {
      "text/markdown": [
       "$$\\lim_{x \\to 2}\\left(\\frac{x^{3} - 2 x^{2} + 2 x - 4}{3 x^{2} - 8 x + 4}\\right)$$ $ \\rightarrow $$\\frac{3}{2}$"
      ],
      "text/plain": [
       "<IPython.core.display.Markdown object>"
      ]
     },
     "metadata": {},
     "output_type": "display_data"
    },
    {
     "data": {
      "text/markdown": [
       "$$\\lim_{x \\to -\\infty} e^{x - 1}$$ $ \\rightarrow $$0$"
      ],
      "text/plain": [
       "<IPython.core.display.Markdown object>"
      ]
     },
     "metadata": {},
     "output_type": "display_data"
    },
    {
     "data": {
      "text/markdown": [
       "$$\\lim_{x \\to -1}\\left(\\frac{x^{3} + 1}{x^{2} + 2 x + 1}\\right)$$ $ \\rightarrow $No existe el límite"
      ],
      "text/plain": [
       "<IPython.core.display.Markdown object>"
      ]
     },
     "metadata": {},
     "output_type": "display_data"
    },
    {
     "data": {
      "text/markdown": [
       "$$\\lim_{x \\to 3} \\left(\\frac{x^{2} - x}{x + 3}\\right)^{\\frac{1}{x - 3}}$$ $ \\rightarrow $$e^{\\frac{2}{3}}$"
      ],
      "text/plain": [
       "<IPython.core.display.Markdown object>"
      ]
     },
     "metadata": {},
     "output_type": "display_data"
    }
   ],
   "source": [
    "datos = [\n",
    "            [\n",
    "            [(3*x**2 - 11*x + 6)/(x**3 - 3*x**2 + x - 3),3],\n",
    "            [E**(1-x),oo],\n",
    "            [(x**3 + x**2 - x + 2)/(x**2 + 4*x + 4),-2],\n",
    "            [((x**3-4)/(x**2))**(1/(x-2)),2],\n",
    "    \n",
    "            ],\n",
    "            [\n",
    "            [(x**3 - 2*x**2 + 2*x - 4)/(3*x**2 - 8*x + 4),2],\n",
    "            [1/(E**(1-x)),-oo],    \n",
    "            [(x**3 + 1)/(x**2 + 2*x + 1),-1],\n",
    "            [((x**2-x)/(x+3))**(1/(x-3)),3],\n",
    "  \n",
    "            ]\n",
    "            \n",
    "        ]\n",
    "\n",
    "for i, s in enumerate(datos) : \n",
    "    n_ejercicio = 'fin304-'+str(i)\n",
    "    enunciado_latex, enunciado, solucion = [],[],[]\n",
    "    \n",
    "    \n",
    "    texto_ejercicio = r\"\"\"Calcula los siguientes límites:\"\"\"\n",
    "    display(md(\"**\"+texto_ejercicio+\"**\"))\n",
    "\n",
    "    for j, t in enumerate(datos[i]):\n",
    "        enunciado_latex.append(r'$$'+latex(Limit(t[0],x,t[1],dir='+-'))+r'$$')\n",
    "        enunciado.append(Limit(t[0],x,t[1],dir='+-'))\n",
    "\n",
    "\n",
    "        if  limit(t[0],x,t[1],dir='-') == limit(t[0],x,t[1],dir='+'):      \n",
    "            sol=r\"$\"+latex(limit(t[0],x,t[1],dir='+-'))+r\"$\"\n",
    "        else:\n",
    "            sol = r\"No existe el límite\"\n",
    "\n",
    "        solucion.append(sol)\n",
    "        display(md(enunciado_latex[j] +\" $ \\\\rightarrow $\" + solucion[j] ))\n",
    "\n",
    "\n",
    "    df_ejercicios = df_ejercicios.append(añadir_ejercicios(enunciado_latex, enunciado, solucion, texto_ejercicio, curso, titulo , n_ejercicio, '5', '3', enun_tex=False, sol_tex=False), ignore_index=True)\n"
   ]
  },
  {
   "cell_type": "code",
   "execution_count": 10,
   "metadata": {},
   "outputs": [
    {
     "data": {
      "text/markdown": [
       "**Deriva las siguientes funciones (simplificando el resultado al máximo):**"
      ],
      "text/plain": [
       "<IPython.core.display.Markdown object>"
      ]
     },
     "metadata": {},
     "output_type": "display_data"
    },
    {
     "data": {
      "text/markdown": [
       "$y=\\frac{3 x^{2} - 2 x + 1}{\\left(x - 1\\right)^{2}}$ $ \\rightarrow $$y'=- \\frac{4 x}{x^{3} - 3 x^{2} + 3 x - 1}$"
      ],
      "text/plain": [
       "<IPython.core.display.Markdown object>"
      ]
     },
     "metadata": {},
     "output_type": "display_data"
    },
    {
     "data": {
      "text/markdown": [
       "$y=\\sqrt{\\sqrt{x} + 1}$ $ \\rightarrow $$y'=\\frac{1}{4 \\sqrt{x} \\sqrt{\\sqrt{x} + 1}}$"
      ],
      "text/plain": [
       "<IPython.core.display.Markdown object>"
      ]
     },
     "metadata": {},
     "output_type": "display_data"
    },
    {
     "data": {
      "text/markdown": [
       "$y=\\frac{\\log{\\left(x^{2} \\right)}}{x}$ $ \\rightarrow $$y'=\\frac{2 - \\log{\\left(x^{2} \\right)}}{x^{2}}$"
      ],
      "text/plain": [
       "<IPython.core.display.Markdown object>"
      ]
     },
     "metadata": {},
     "output_type": "display_data"
    },
    {
     "data": {
      "text/markdown": [
       "$y=3 \\sin{\\left(\\cos{\\left(2 x \\right)} \\right)}$ $ \\rightarrow $$y'=- 6 \\sin{\\left(2 x \\right)} \\cos{\\left(\\cos{\\left(2 x \\right)} \\right)}$"
      ],
      "text/plain": [
       "<IPython.core.display.Markdown object>"
      ]
     },
     "metadata": {},
     "output_type": "display_data"
    },
    {
     "data": {
      "text/markdown": [
       "**Deriva las siguientes funciones (simplificando el resultado al máximo):**"
      ],
      "text/plain": [
       "<IPython.core.display.Markdown object>"
      ]
     },
     "metadata": {},
     "output_type": "display_data"
    },
    {
     "data": {
      "text/markdown": [
       "$y=\\frac{2 x^{2} - 2 x + 1}{\\left(x - 1\\right)^{2}}$ $ \\rightarrow $$y'=- \\frac{2 x}{x^{3} - 3 x^{2} + 3 x - 1}$"
      ],
      "text/plain": [
       "<IPython.core.display.Markdown object>"
      ]
     },
     "metadata": {},
     "output_type": "display_data"
    },
    {
     "data": {
      "text/markdown": [
       "$y=\\sqrt{2 - \\sqrt{x}}$ $ \\rightarrow $$y'=- \\frac{1}{4 \\sqrt{x} \\sqrt{2 - \\sqrt{x}}}$"
      ],
      "text/plain": [
       "<IPython.core.display.Markdown object>"
      ]
     },
     "metadata": {},
     "output_type": "display_data"
    },
    {
     "data": {
      "text/markdown": [
       "$y=\\frac{\\log{\\left(x \\right)}}{x}$ $ \\rightarrow $$y'=\\frac{1 - \\log{\\left(x \\right)}}{x^{2}}$"
      ],
      "text/plain": [
       "<IPython.core.display.Markdown object>"
      ]
     },
     "metadata": {},
     "output_type": "display_data"
    },
    {
     "data": {
      "text/markdown": [
       "$y=2 \\cos{\\left(\\sin{\\left(2 x \\right)} \\right)}$ $ \\rightarrow $$y'=- 4 \\sin{\\left(\\sin{\\left(2 x \\right)} \\right)} \\cos{\\left(2 x \\right)}$"
      ],
      "text/plain": [
       "<IPython.core.display.Markdown object>"
      ]
     },
     "metadata": {},
     "output_type": "display_data"
    }
   ],
   "source": [
    "datos = [\n",
    "            [(3*x**2-2*x+1)/((x-1)**2),\n",
    "             sqrt(1+sqrt(x)),\n",
    "             log(x**2)/x,\n",
    "             3*sin(cos(2*x))\n",
    "            \n",
    "           ],\n",
    "            [(2*x**2-2*x+1)/((x-1)**2),\n",
    "             sqrt(2-sqrt(x)),\n",
    "             log(x)/x,\n",
    "             2*cos(sin(2*x))\n",
    "            ]\n",
    "            \n",
    "        ]\n",
    "\n",
    "for i, s in enumerate(datos) : \n",
    "    n_ejercicio = 'fin305-'+str(i)\n",
    "    enunciado_latex, enunciado, solucion = [],[],[]\n",
    "    \n",
    "    \n",
    "    texto_ejercicio = r\"\"\"Deriva las siguientes funciones (simplificando el resultado al máximo):\"\"\"\n",
    "    display(md(\"**\"+texto_ejercicio+\"**\"))\n",
    "\n",
    "    for j, t in enumerate(datos[i]):\n",
    "        enunciado_latex.append(r'$y='+latex(S(t,evaluate=False))+r'$')\n",
    "        enunciado.append(r'diff('+str(nsimplify(S(t)))+r')')\n",
    "        #display(S(t),diff(S(t)))\n",
    "        sol=r\"$y'=\"+latex(simplify(diff(S(t))))+r\"$\"\n",
    "        solucion.append(sol)\n",
    "        display(md(enunciado_latex[j] +\" $ \\\\rightarrow $\" + solucion[j] ))\n",
    "\n",
    "    df_ejercicios = df_ejercicios.append(añadir_ejercicios(enunciado_latex, enunciado, solucion, texto_ejercicio, curso, titulo , n_ejercicio, '5', '3', enun_tex=False, sol_tex=False), ignore_index=True)\n"
   ]
  },
  {
   "cell_type": "code",
   "execution_count": 11,
   "metadata": {},
   "outputs": [],
   "source": [
    "df_ejercicios.to_csv('ejercicios_final3.csv', index = False)"
   ]
  },
  {
   "cell_type": "code",
   "execution_count": 12,
   "metadata": {},
   "outputs": [],
   "source": [
    "df_ejercicios = pd.read_csv('ejercicios_final3.csv', index_col= None)"
   ]
  },
  {
   "cell_type": "code",
   "execution_count": 13,
   "metadata": {},
   "outputs": [
    {
     "data": {
      "text/html": [
       "<div>\n",
       "<style scoped>\n",
       "    .dataframe tbody tr th:only-of-type {\n",
       "        vertical-align: middle;\n",
       "    }\n",
       "\n",
       "    .dataframe tbody tr th {\n",
       "        vertical-align: top;\n",
       "    }\n",
       "\n",
       "    .dataframe thead th {\n",
       "        text-align: right;\n",
       "    }\n",
       "</style>\n",
       "<table border=\"1\" class=\"dataframe\">\n",
       "  <thead>\n",
       "    <tr style=\"text-align: right;\">\n",
       "      <th></th>\n",
       "      <th>enunciado_latex</th>\n",
       "      <th>enunciado</th>\n",
       "      <th>solucion</th>\n",
       "      <th>texto</th>\n",
       "      <th>curso</th>\n",
       "      <th>titulo</th>\n",
       "      <th>n_ejercicio</th>\n",
       "      <th>dificultad</th>\n",
       "      <th>n_columnas</th>\n",
       "      <th>puntos</th>\n",
       "      <th>enun_tex</th>\n",
       "      <th>sol_tex</th>\n",
       "    </tr>\n",
       "  </thead>\n",
       "  <tbody>\n",
       "    <tr>\n",
       "      <th>0</th>\n",
       "      <td>Se escoge una bola cualquiera de la caja A y s...</td>\n",
       "      <td>Se escoge una bola cualquiera de la caja A y s...</td>\n",
       "      <td>$\\frac{3}{5}\\cdot\\frac{5}{9}+\\frac{2}{5}\\cdot\\...</td>\n",
       "      <td>Se dispone de dos cajas, la caja A contiene 3 ...</td>\n",
       "      <td>1BC</td>\n",
       "      <td>Final 3ª Ev.</td>\n",
       "      <td>fin308-0</td>\n",
       "      <td>1</td>\n",
       "      <td>1</td>\n",
       "      <td>1</td>\n",
       "      <td>False</td>\n",
       "      <td>False</td>\n",
       "    </tr>\n",
       "    <tr>\n",
       "      <th>1</th>\n",
       "      <td>Ahora volvemos a la situación original de las ...</td>\n",
       "      <td>Ahora volvemos a la situación original de las ...</td>\n",
       "      <td>$\\dfrac{\\frac{1}{2}\\cdot\\frac{2}{5}}{\\frac{1}{...</td>\n",
       "      <td>Se dispone de dos cajas, la caja A contiene 3 ...</td>\n",
       "      <td>1BC</td>\n",
       "      <td>Final 3ª Ev.</td>\n",
       "      <td>fin308-0</td>\n",
       "      <td>1</td>\n",
       "      <td>1</td>\n",
       "      <td>1</td>\n",
       "      <td>False</td>\n",
       "      <td>False</td>\n",
       "    </tr>\n",
       "    <tr>\n",
       "      <th>2</th>\n",
       "      <td>Se escoge una bola cualquiera de la caja A y s...</td>\n",
       "      <td>Se escoge una bola cualquiera de la caja A y s...</td>\n",
       "      <td>$\\frac{3}{4}\\cdot\\frac{5}{9}+\\frac{1}{4}\\cdot\\...</td>\n",
       "      <td>Se dispone de dos cajas, la caja A contiene 6 ...</td>\n",
       "      <td>1BC</td>\n",
       "      <td>Final 3ª Ev.</td>\n",
       "      <td>fin308-1</td>\n",
       "      <td>1</td>\n",
       "      <td>1</td>\n",
       "      <td>1</td>\n",
       "      <td>False</td>\n",
       "      <td>False</td>\n",
       "    </tr>\n",
       "    <tr>\n",
       "      <th>3</th>\n",
       "      <td>Ahora volvemos a la situación original de las ...</td>\n",
       "      <td>Ahora volvemos a la situación original de las ...</td>\n",
       "      <td>$\\dfrac{\\frac{1}{2}\\cdot\\frac{1}{4}}{\\frac{1}{...</td>\n",
       "      <td>Se dispone de dos cajas, la caja A contiene 6 ...</td>\n",
       "      <td>1BC</td>\n",
       "      <td>Final 3ª Ev.</td>\n",
       "      <td>fin308-1</td>\n",
       "      <td>1</td>\n",
       "      <td>1</td>\n",
       "      <td>1</td>\n",
       "      <td>False</td>\n",
       "      <td>False</td>\n",
       "    </tr>\n",
       "    <tr>\n",
       "      <th>4</th>\n",
       "      <td>Se escoge una bola cualquiera de la caja A y s...</td>\n",
       "      <td>Se escoge una bola cualquiera de la caja A y s...</td>\n",
       "      <td>$\\frac{3}{5}\\cdot\\frac{5}{9}+\\frac{2}{5}\\cdot\\...</td>\n",
       "      <td>Se dispone de dos cajas, la caja A contiene 3 ...</td>\n",
       "      <td>1BC</td>\n",
       "      <td>Final 3ª Ev.</td>\n",
       "      <td>fin308-2</td>\n",
       "      <td>1</td>\n",
       "      <td>1</td>\n",
       "      <td>1</td>\n",
       "      <td>False</td>\n",
       "      <td>False</td>\n",
       "    </tr>\n",
       "    <tr>\n",
       "      <th>5</th>\n",
       "      <td>Ahora volvemos a la situación original de las ...</td>\n",
       "      <td>Ahora volvemos a la situación original de las ...</td>\n",
       "      <td>$\\dfrac{\\frac{1}{2}\\cdot\\frac{2}{5}}{\\frac{1}{...</td>\n",
       "      <td>Se dispone de dos cajas, la caja A contiene 3 ...</td>\n",
       "      <td>1BC</td>\n",
       "      <td>Final 3ª Ev.</td>\n",
       "      <td>fin308-2</td>\n",
       "      <td>1</td>\n",
       "      <td>1</td>\n",
       "      <td>1</td>\n",
       "      <td>False</td>\n",
       "      <td>False</td>\n",
       "    </tr>\n",
       "    <tr>\n",
       "      <th>6</th>\n",
       "      <td>Dominio de $f(x)$</td>\n",
       "      <td>Dominio de $f(x)$</td>\n",
       "      <td>$Dom(f)=\\left(-\\infty, - \\frac{3}{2}\\right) \\c...</td>\n",
       "      <td>Dada la función:$f(x)=\\frac{x^{2} - 2 x + 1}{2...</td>\n",
       "      <td>1BC</td>\n",
       "      <td>Final 3ª Ev.</td>\n",
       "      <td>fin301-0</td>\n",
       "      <td>5</td>\n",
       "      <td>1</td>\n",
       "      <td>1</td>\n",
       "      <td>False</td>\n",
       "      <td>False</td>\n",
       "    </tr>\n",
       "    <tr>\n",
       "      <th>7</th>\n",
       "      <td>Asíntotas verticales, horizontales y oblicuas,...</td>\n",
       "      <td>Asíntotas verticales, horizontales y oblicuas,...</td>\n",
       "      <td>Asíntotas:\\\\A.V. $x=-3/2$\\\\A.O. $y=\\frac{x}{2}...</td>\n",
       "      <td>Dada la función:$f(x)=\\frac{x^{2} - 2 x + 1}{2...</td>\n",
       "      <td>1BC</td>\n",
       "      <td>Final 3ª Ev.</td>\n",
       "      <td>fin301-0</td>\n",
       "      <td>5</td>\n",
       "      <td>1</td>\n",
       "      <td>1</td>\n",
       "      <td>False</td>\n",
       "      <td>False</td>\n",
       "    </tr>\n",
       "    <tr>\n",
       "      <th>8</th>\n",
       "      <td>Dominio de $f(x)$</td>\n",
       "      <td>Dominio de $f(x)$</td>\n",
       "      <td>$Dom(f)=\\left(-\\infty, -2\\right) \\cup \\left(-2...</td>\n",
       "      <td>Dada la función:$f(x)=\\frac{- x^{2} - x + 3}{x...</td>\n",
       "      <td>1BC</td>\n",
       "      <td>Final 3ª Ev.</td>\n",
       "      <td>fin301-1</td>\n",
       "      <td>5</td>\n",
       "      <td>1</td>\n",
       "      <td>1</td>\n",
       "      <td>False</td>\n",
       "      <td>False</td>\n",
       "    </tr>\n",
       "    <tr>\n",
       "      <th>9</th>\n",
       "      <td>Asíntotas verticales, horizontales y oblicuas,...</td>\n",
       "      <td>Asíntotas verticales, horizontales y oblicuas,...</td>\n",
       "      <td>Asíntotas:\\\\A.V. $x=-2$\\\\, A.V. $x=1$\\\\A.H. $y...</td>\n",
       "      <td>Dada la función:$f(x)=\\frac{- x^{2} - x + 3}{x...</td>\n",
       "      <td>1BC</td>\n",
       "      <td>Final 3ª Ev.</td>\n",
       "      <td>fin301-1</td>\n",
       "      <td>5</td>\n",
       "      <td>1</td>\n",
       "      <td>1</td>\n",
       "      <td>False</td>\n",
       "      <td>False</td>\n",
       "    </tr>\n",
       "    <tr>\n",
       "      <th>10</th>\n",
       "      <td>Dominio de $f(x)$</td>\n",
       "      <td>Dominio de $f(x)$</td>\n",
       "      <td>$Dom(f)=\\left(-\\infty, 0\\right] \\cup \\left(1, ...</td>\n",
       "      <td>Dada la función:$f(x)=\\sqrt{\\frac{x}{x - 1}}$,...</td>\n",
       "      <td>1BC</td>\n",
       "      <td>Final 3ª Ev.</td>\n",
       "      <td>fin301-2</td>\n",
       "      <td>5</td>\n",
       "      <td>1</td>\n",
       "      <td>1</td>\n",
       "      <td>False</td>\n",
       "      <td>False</td>\n",
       "    </tr>\n",
       "    <tr>\n",
       "      <th>11</th>\n",
       "      <td>Asíntotas verticales, horizontales y oblicuas,...</td>\n",
       "      <td>Asíntotas verticales, horizontales y oblicuas,...</td>\n",
       "      <td>Asíntotas:\\\\A.V. $x=1$\\\\A.H. $y=1$\\\\A.H. $y=1$...</td>\n",
       "      <td>Dada la función:$f(x)=\\sqrt{\\frac{x}{x - 1}}$,...</td>\n",
       "      <td>1BC</td>\n",
       "      <td>Final 3ª Ev.</td>\n",
       "      <td>fin301-2</td>\n",
       "      <td>5</td>\n",
       "      <td>1</td>\n",
       "      <td>1</td>\n",
       "      <td>False</td>\n",
       "      <td>False</td>\n",
       "    </tr>\n",
       "    <tr>\n",
       "      <th>12</th>\n",
       "      <td>$f(x)=\\begin{cases} \\frac{2 x^{2} + 7 x + 3}{x...</td>\n",
       "      <td>$f(x)=\\begin{cases} \\frac{2 x^{2} + 7 x + 3}{x...</td>\n",
       "      <td>Singularidades de las expresiones analíticas: ...</td>\n",
       "      <td>Estudia en qué puntos de $\\mathbb{R}$ la funci...</td>\n",
       "      <td>1BC</td>\n",
       "      <td>Final 3ª Ev.</td>\n",
       "      <td>fin302-0</td>\n",
       "      <td>5</td>\n",
       "      <td>1</td>\n",
       "      <td>1</td>\n",
       "      <td>False</td>\n",
       "      <td>False</td>\n",
       "    </tr>\n",
       "    <tr>\n",
       "      <th>13</th>\n",
       "      <td>$f(x)=\\begin{cases} \\frac{x^{2} - 4}{x^{2} - 3...</td>\n",
       "      <td>$f(x)=\\begin{cases} \\frac{x^{2} - 4}{x^{2} - 3...</td>\n",
       "      <td>Singularidades de las expresiones analíticas: ...</td>\n",
       "      <td>Estudia en qué puntos de $\\mathbb{R}$ la funci...</td>\n",
       "      <td>1BC</td>\n",
       "      <td>Final 3ª Ev.</td>\n",
       "      <td>fin302-1</td>\n",
       "      <td>5</td>\n",
       "      <td>1</td>\n",
       "      <td>1</td>\n",
       "      <td>False</td>\n",
       "      <td>False</td>\n",
       "    </tr>\n",
       "    <tr>\n",
       "      <th>14</th>\n",
       "      <td>$$f(x)=\\begin{cases} a + e^{x + 2} &amp; \\text{for...</td>\n",
       "      <td>Piecewise((a + exp(x + 2), x &lt;= -2), ((x + 1)/...</td>\n",
       "      <td>$\\left\\{ a : - \\frac{6}{5}, \\  b : -2\\right\\}$</td>\n",
       "      <td>Halla a y b de modo que las siguientes funcion...</td>\n",
       "      <td>1BC</td>\n",
       "      <td>Final 3ª Ev.</td>\n",
       "      <td>fin303-0</td>\n",
       "      <td>5</td>\n",
       "      <td>1</td>\n",
       "      <td>1</td>\n",
       "      <td>False</td>\n",
       "      <td>False</td>\n",
       "    </tr>\n",
       "    <tr>\n",
       "      <th>15</th>\n",
       "      <td>$$f(x)=\\begin{cases} a + e^{x + 3} &amp; \\text{for...</td>\n",
       "      <td>Piecewise((a + exp(x + 3), x &lt;= -3), ((x + 2)/...</td>\n",
       "      <td>$\\left\\{ a : - \\frac{8}{7}, \\  b : -5\\right\\}$</td>\n",
       "      <td>Halla a y b de modo que las siguientes funcion...</td>\n",
       "      <td>1BC</td>\n",
       "      <td>Final 3ª Ev.</td>\n",
       "      <td>fin303-1</td>\n",
       "      <td>5</td>\n",
       "      <td>1</td>\n",
       "      <td>1</td>\n",
       "      <td>False</td>\n",
       "      <td>False</td>\n",
       "    </tr>\n",
       "    <tr>\n",
       "      <th>16</th>\n",
       "      <td>$$\\lim_{x \\to 3}\\left(\\frac{3 x^{2} - 11 x + 6...</td>\n",
       "      <td>Limit((3*x**2 - 11*x + 6)/(x**3 - 3*x**2 + x -...</td>\n",
       "      <td>$\\frac{7}{10}$</td>\n",
       "      <td>Calcula los siguientes límites:</td>\n",
       "      <td>1BC</td>\n",
       "      <td>Final 3ª Ev.</td>\n",
       "      <td>fin304-0</td>\n",
       "      <td>5</td>\n",
       "      <td>3</td>\n",
       "      <td>1</td>\n",
       "      <td>False</td>\n",
       "      <td>False</td>\n",
       "    </tr>\n",
       "    <tr>\n",
       "      <th>17</th>\n",
       "      <td>$$\\lim_{x \\to \\infty} e^{1 - x}$$</td>\n",
       "      <td>Limit(exp(1 - x), x, oo, dir='-')</td>\n",
       "      <td>$0$</td>\n",
       "      <td>Calcula los siguientes límites:</td>\n",
       "      <td>1BC</td>\n",
       "      <td>Final 3ª Ev.</td>\n",
       "      <td>fin304-0</td>\n",
       "      <td>5</td>\n",
       "      <td>3</td>\n",
       "      <td>1</td>\n",
       "      <td>False</td>\n",
       "      <td>False</td>\n",
       "    </tr>\n",
       "    <tr>\n",
       "      <th>18</th>\n",
       "      <td>$$\\lim_{x \\to -2}\\left(\\frac{x^{3} + x^{2} - x...</td>\n",
       "      <td>Limit((x**3 + x**2 - x + 2)/(x**2 + 4*x + 4), ...</td>\n",
       "      <td>No existe el límite</td>\n",
       "      <td>Calcula los siguientes límites:</td>\n",
       "      <td>1BC</td>\n",
       "      <td>Final 3ª Ev.</td>\n",
       "      <td>fin304-0</td>\n",
       "      <td>5</td>\n",
       "      <td>3</td>\n",
       "      <td>1</td>\n",
       "      <td>False</td>\n",
       "      <td>False</td>\n",
       "    </tr>\n",
       "    <tr>\n",
       "      <th>19</th>\n",
       "      <td>$$\\lim_{x \\to 2} \\left(\\frac{x^{3} - 4}{x^{2}}...</td>\n",
       "      <td>Limit(((x**3 - 4)/x**2)**(1/(x - 2)), x, 2, di...</td>\n",
       "      <td>$e^{2}$</td>\n",
       "      <td>Calcula los siguientes límites:</td>\n",
       "      <td>1BC</td>\n",
       "      <td>Final 3ª Ev.</td>\n",
       "      <td>fin304-0</td>\n",
       "      <td>5</td>\n",
       "      <td>3</td>\n",
       "      <td>1</td>\n",
       "      <td>False</td>\n",
       "      <td>False</td>\n",
       "    </tr>\n",
       "    <tr>\n",
       "      <th>20</th>\n",
       "      <td>$$\\lim_{x \\to 2}\\left(\\frac{x^{3} - 2 x^{2} + ...</td>\n",
       "      <td>Limit((x**3 - 2*x**2 + 2*x - 4)/(3*x**2 - 8*x ...</td>\n",
       "      <td>$\\frac{3}{2}$</td>\n",
       "      <td>Calcula los siguientes límites:</td>\n",
       "      <td>1BC</td>\n",
       "      <td>Final 3ª Ev.</td>\n",
       "      <td>fin304-1</td>\n",
       "      <td>5</td>\n",
       "      <td>3</td>\n",
       "      <td>1</td>\n",
       "      <td>False</td>\n",
       "      <td>False</td>\n",
       "    </tr>\n",
       "    <tr>\n",
       "      <th>21</th>\n",
       "      <td>$$\\lim_{x \\to -\\infty} e^{x - 1}$$</td>\n",
       "      <td>Limit(exp(x - 1), x, -oo)</td>\n",
       "      <td>$0$</td>\n",
       "      <td>Calcula los siguientes límites:</td>\n",
       "      <td>1BC</td>\n",
       "      <td>Final 3ª Ev.</td>\n",
       "      <td>fin304-1</td>\n",
       "      <td>5</td>\n",
       "      <td>3</td>\n",
       "      <td>1</td>\n",
       "      <td>False</td>\n",
       "      <td>False</td>\n",
       "    </tr>\n",
       "    <tr>\n",
       "      <th>22</th>\n",
       "      <td>$$\\lim_{x \\to -1}\\left(\\frac{x^{3} + 1}{x^{2} ...</td>\n",
       "      <td>Limit((x**3 + 1)/(x**2 + 2*x + 1), x, -1, dir=...</td>\n",
       "      <td>No existe el límite</td>\n",
       "      <td>Calcula los siguientes límites:</td>\n",
       "      <td>1BC</td>\n",
       "      <td>Final 3ª Ev.</td>\n",
       "      <td>fin304-1</td>\n",
       "      <td>5</td>\n",
       "      <td>3</td>\n",
       "      <td>1</td>\n",
       "      <td>False</td>\n",
       "      <td>False</td>\n",
       "    </tr>\n",
       "    <tr>\n",
       "      <th>23</th>\n",
       "      <td>$$\\lim_{x \\to 3} \\left(\\frac{x^{2} - x}{x + 3}...</td>\n",
       "      <td>Limit(((x**2 - x)/(x + 3))**(1/(x - 3)), x, 3,...</td>\n",
       "      <td>$e^{\\frac{2}{3}}$</td>\n",
       "      <td>Calcula los siguientes límites:</td>\n",
       "      <td>1BC</td>\n",
       "      <td>Final 3ª Ev.</td>\n",
       "      <td>fin304-1</td>\n",
       "      <td>5</td>\n",
       "      <td>3</td>\n",
       "      <td>1</td>\n",
       "      <td>False</td>\n",
       "      <td>False</td>\n",
       "    </tr>\n",
       "    <tr>\n",
       "      <th>24</th>\n",
       "      <td>$y=\\frac{3 x^{2} - 2 x + 1}{\\left(x - 1\\right)...</td>\n",
       "      <td>diff((3*x**2 - 2*x + 1)/(x - 1)**2)</td>\n",
       "      <td>$y'=- \\frac{4 x}{x^{3} - 3 x^{2} + 3 x - 1}$</td>\n",
       "      <td>Deriva las siguientes funciones (simplificando...</td>\n",
       "      <td>1BC</td>\n",
       "      <td>Final 3ª Ev.</td>\n",
       "      <td>fin305-0</td>\n",
       "      <td>5</td>\n",
       "      <td>3</td>\n",
       "      <td>1</td>\n",
       "      <td>False</td>\n",
       "      <td>False</td>\n",
       "    </tr>\n",
       "    <tr>\n",
       "      <th>25</th>\n",
       "      <td>$y=\\sqrt{\\sqrt{x} + 1}$</td>\n",
       "      <td>diff(sqrt(sqrt(x) + 1))</td>\n",
       "      <td>$y'=\\frac{1}{4 \\sqrt{x} \\sqrt{\\sqrt{x} + 1}}$</td>\n",
       "      <td>Deriva las siguientes funciones (simplificando...</td>\n",
       "      <td>1BC</td>\n",
       "      <td>Final 3ª Ev.</td>\n",
       "      <td>fin305-0</td>\n",
       "      <td>5</td>\n",
       "      <td>3</td>\n",
       "      <td>1</td>\n",
       "      <td>False</td>\n",
       "      <td>False</td>\n",
       "    </tr>\n",
       "    <tr>\n",
       "      <th>26</th>\n",
       "      <td>$y=\\frac{\\log{\\left(x^{2} \\right)}}{x}$</td>\n",
       "      <td>diff(log(x**2)/x)</td>\n",
       "      <td>$y'=\\frac{2 - \\log{\\left(x^{2} \\right)}}{x^{2}}$</td>\n",
       "      <td>Deriva las siguientes funciones (simplificando...</td>\n",
       "      <td>1BC</td>\n",
       "      <td>Final 3ª Ev.</td>\n",
       "      <td>fin305-0</td>\n",
       "      <td>5</td>\n",
       "      <td>3</td>\n",
       "      <td>1</td>\n",
       "      <td>False</td>\n",
       "      <td>False</td>\n",
       "    </tr>\n",
       "    <tr>\n",
       "      <th>27</th>\n",
       "      <td>$y=3 \\sin{\\left(\\cos{\\left(2 x \\right)} \\right)}$</td>\n",
       "      <td>diff(3*sin(cos(2*x)))</td>\n",
       "      <td>$y'=- 6 \\sin{\\left(2 x \\right)} \\cos{\\left(\\co...</td>\n",
       "      <td>Deriva las siguientes funciones (simplificando...</td>\n",
       "      <td>1BC</td>\n",
       "      <td>Final 3ª Ev.</td>\n",
       "      <td>fin305-0</td>\n",
       "      <td>5</td>\n",
       "      <td>3</td>\n",
       "      <td>1</td>\n",
       "      <td>False</td>\n",
       "      <td>False</td>\n",
       "    </tr>\n",
       "    <tr>\n",
       "      <th>28</th>\n",
       "      <td>$y=\\frac{2 x^{2} - 2 x + 1}{\\left(x - 1\\right)...</td>\n",
       "      <td>diff((2*x**2 - 2*x + 1)/(x - 1)**2)</td>\n",
       "      <td>$y'=- \\frac{2 x}{x^{3} - 3 x^{2} + 3 x - 1}$</td>\n",
       "      <td>Deriva las siguientes funciones (simplificando...</td>\n",
       "      <td>1BC</td>\n",
       "      <td>Final 3ª Ev.</td>\n",
       "      <td>fin305-1</td>\n",
       "      <td>5</td>\n",
       "      <td>3</td>\n",
       "      <td>1</td>\n",
       "      <td>False</td>\n",
       "      <td>False</td>\n",
       "    </tr>\n",
       "    <tr>\n",
       "      <th>29</th>\n",
       "      <td>$y=\\sqrt{2 - \\sqrt{x}}$</td>\n",
       "      <td>diff(sqrt(2 - sqrt(x)))</td>\n",
       "      <td>$y'=- \\frac{1}{4 \\sqrt{x} \\sqrt{2 - \\sqrt{x}}}$</td>\n",
       "      <td>Deriva las siguientes funciones (simplificando...</td>\n",
       "      <td>1BC</td>\n",
       "      <td>Final 3ª Ev.</td>\n",
       "      <td>fin305-1</td>\n",
       "      <td>5</td>\n",
       "      <td>3</td>\n",
       "      <td>1</td>\n",
       "      <td>False</td>\n",
       "      <td>False</td>\n",
       "    </tr>\n",
       "    <tr>\n",
       "      <th>30</th>\n",
       "      <td>$y=\\frac{\\log{\\left(x \\right)}}{x}$</td>\n",
       "      <td>diff(log(x)/x)</td>\n",
       "      <td>$y'=\\frac{1 - \\log{\\left(x \\right)}}{x^{2}}$</td>\n",
       "      <td>Deriva las siguientes funciones (simplificando...</td>\n",
       "      <td>1BC</td>\n",
       "      <td>Final 3ª Ev.</td>\n",
       "      <td>fin305-1</td>\n",
       "      <td>5</td>\n",
       "      <td>3</td>\n",
       "      <td>1</td>\n",
       "      <td>False</td>\n",
       "      <td>False</td>\n",
       "    </tr>\n",
       "    <tr>\n",
       "      <th>31</th>\n",
       "      <td>$y=2 \\cos{\\left(\\sin{\\left(2 x \\right)} \\right)}$</td>\n",
       "      <td>diff(2*cos(sin(2*x)))</td>\n",
       "      <td>$y'=- 4 \\sin{\\left(\\sin{\\left(2 x \\right)} \\ri...</td>\n",
       "      <td>Deriva las siguientes funciones (simplificando...</td>\n",
       "      <td>1BC</td>\n",
       "      <td>Final 3ª Ev.</td>\n",
       "      <td>fin305-1</td>\n",
       "      <td>5</td>\n",
       "      <td>3</td>\n",
       "      <td>1</td>\n",
       "      <td>False</td>\n",
       "      <td>False</td>\n",
       "    </tr>\n",
       "  </tbody>\n",
       "</table>\n",
       "</div>"
      ],
      "text/plain": [
       "                                      enunciado_latex  \\\n",
       "0   Se escoge una bola cualquiera de la caja A y s...   \n",
       "1   Ahora volvemos a la situación original de las ...   \n",
       "2   Se escoge una bola cualquiera de la caja A y s...   \n",
       "3   Ahora volvemos a la situación original de las ...   \n",
       "4   Se escoge una bola cualquiera de la caja A y s...   \n",
       "5   Ahora volvemos a la situación original de las ...   \n",
       "6                                   Dominio de $f(x)$   \n",
       "7   Asíntotas verticales, horizontales y oblicuas,...   \n",
       "8                                   Dominio de $f(x)$   \n",
       "9   Asíntotas verticales, horizontales y oblicuas,...   \n",
       "10                                  Dominio de $f(x)$   \n",
       "11  Asíntotas verticales, horizontales y oblicuas,...   \n",
       "12  $f(x)=\\begin{cases} \\frac{2 x^{2} + 7 x + 3}{x...   \n",
       "13  $f(x)=\\begin{cases} \\frac{x^{2} - 4}{x^{2} - 3...   \n",
       "14  $$f(x)=\\begin{cases} a + e^{x + 2} & \\text{for...   \n",
       "15  $$f(x)=\\begin{cases} a + e^{x + 3} & \\text{for...   \n",
       "16  $$\\lim_{x \\to 3}\\left(\\frac{3 x^{2} - 11 x + 6...   \n",
       "17                  $$\\lim_{x \\to \\infty} e^{1 - x}$$   \n",
       "18  $$\\lim_{x \\to -2}\\left(\\frac{x^{3} + x^{2} - x...   \n",
       "19  $$\\lim_{x \\to 2} \\left(\\frac{x^{3} - 4}{x^{2}}...   \n",
       "20  $$\\lim_{x \\to 2}\\left(\\frac{x^{3} - 2 x^{2} + ...   \n",
       "21                 $$\\lim_{x \\to -\\infty} e^{x - 1}$$   \n",
       "22  $$\\lim_{x \\to -1}\\left(\\frac{x^{3} + 1}{x^{2} ...   \n",
       "23  $$\\lim_{x \\to 3} \\left(\\frac{x^{2} - x}{x + 3}...   \n",
       "24  $y=\\frac{3 x^{2} - 2 x + 1}{\\left(x - 1\\right)...   \n",
       "25                            $y=\\sqrt{\\sqrt{x} + 1}$   \n",
       "26            $y=\\frac{\\log{\\left(x^{2} \\right)}}{x}$   \n",
       "27  $y=3 \\sin{\\left(\\cos{\\left(2 x \\right)} \\right)}$   \n",
       "28  $y=\\frac{2 x^{2} - 2 x + 1}{\\left(x - 1\\right)...   \n",
       "29                            $y=\\sqrt{2 - \\sqrt{x}}$   \n",
       "30                $y=\\frac{\\log{\\left(x \\right)}}{x}$   \n",
       "31  $y=2 \\cos{\\left(\\sin{\\left(2 x \\right)} \\right)}$   \n",
       "\n",
       "                                            enunciado  \\\n",
       "0   Se escoge una bola cualquiera de la caja A y s...   \n",
       "1   Ahora volvemos a la situación original de las ...   \n",
       "2   Se escoge una bola cualquiera de la caja A y s...   \n",
       "3   Ahora volvemos a la situación original de las ...   \n",
       "4   Se escoge una bola cualquiera de la caja A y s...   \n",
       "5   Ahora volvemos a la situación original de las ...   \n",
       "6                                   Dominio de $f(x)$   \n",
       "7   Asíntotas verticales, horizontales y oblicuas,...   \n",
       "8                                   Dominio de $f(x)$   \n",
       "9   Asíntotas verticales, horizontales y oblicuas,...   \n",
       "10                                  Dominio de $f(x)$   \n",
       "11  Asíntotas verticales, horizontales y oblicuas,...   \n",
       "12  $f(x)=\\begin{cases} \\frac{2 x^{2} + 7 x + 3}{x...   \n",
       "13  $f(x)=\\begin{cases} \\frac{x^{2} - 4}{x^{2} - 3...   \n",
       "14  Piecewise((a + exp(x + 2), x <= -2), ((x + 1)/...   \n",
       "15  Piecewise((a + exp(x + 3), x <= -3), ((x + 2)/...   \n",
       "16  Limit((3*x**2 - 11*x + 6)/(x**3 - 3*x**2 + x -...   \n",
       "17                  Limit(exp(1 - x), x, oo, dir='-')   \n",
       "18  Limit((x**3 + x**2 - x + 2)/(x**2 + 4*x + 4), ...   \n",
       "19  Limit(((x**3 - 4)/x**2)**(1/(x - 2)), x, 2, di...   \n",
       "20  Limit((x**3 - 2*x**2 + 2*x - 4)/(3*x**2 - 8*x ...   \n",
       "21                          Limit(exp(x - 1), x, -oo)   \n",
       "22  Limit((x**3 + 1)/(x**2 + 2*x + 1), x, -1, dir=...   \n",
       "23  Limit(((x**2 - x)/(x + 3))**(1/(x - 3)), x, 3,...   \n",
       "24                diff((3*x**2 - 2*x + 1)/(x - 1)**2)   \n",
       "25                            diff(sqrt(sqrt(x) + 1))   \n",
       "26                                  diff(log(x**2)/x)   \n",
       "27                              diff(3*sin(cos(2*x)))   \n",
       "28                diff((2*x**2 - 2*x + 1)/(x - 1)**2)   \n",
       "29                            diff(sqrt(2 - sqrt(x)))   \n",
       "30                                     diff(log(x)/x)   \n",
       "31                              diff(2*cos(sin(2*x)))   \n",
       "\n",
       "                                             solucion  \\\n",
       "0   $\\frac{3}{5}\\cdot\\frac{5}{9}+\\frac{2}{5}\\cdot\\...   \n",
       "1   $\\dfrac{\\frac{1}{2}\\cdot\\frac{2}{5}}{\\frac{1}{...   \n",
       "2   $\\frac{3}{4}\\cdot\\frac{5}{9}+\\frac{1}{4}\\cdot\\...   \n",
       "3   $\\dfrac{\\frac{1}{2}\\cdot\\frac{1}{4}}{\\frac{1}{...   \n",
       "4   $\\frac{3}{5}\\cdot\\frac{5}{9}+\\frac{2}{5}\\cdot\\...   \n",
       "5   $\\dfrac{\\frac{1}{2}\\cdot\\frac{2}{5}}{\\frac{1}{...   \n",
       "6   $Dom(f)=\\left(-\\infty, - \\frac{3}{2}\\right) \\c...   \n",
       "7   Asíntotas:\\\\A.V. $x=-3/2$\\\\A.O. $y=\\frac{x}{2}...   \n",
       "8   $Dom(f)=\\left(-\\infty, -2\\right) \\cup \\left(-2...   \n",
       "9   Asíntotas:\\\\A.V. $x=-2$\\\\, A.V. $x=1$\\\\A.H. $y...   \n",
       "10  $Dom(f)=\\left(-\\infty, 0\\right] \\cup \\left(1, ...   \n",
       "11  Asíntotas:\\\\A.V. $x=1$\\\\A.H. $y=1$\\\\A.H. $y=1$...   \n",
       "12  Singularidades de las expresiones analíticas: ...   \n",
       "13  Singularidades de las expresiones analíticas: ...   \n",
       "14     $\\left\\{ a : - \\frac{6}{5}, \\  b : -2\\right\\}$   \n",
       "15     $\\left\\{ a : - \\frac{8}{7}, \\  b : -5\\right\\}$   \n",
       "16                                     $\\frac{7}{10}$   \n",
       "17                                                $0$   \n",
       "18                                No existe el límite   \n",
       "19                                            $e^{2}$   \n",
       "20                                      $\\frac{3}{2}$   \n",
       "21                                                $0$   \n",
       "22                                No existe el límite   \n",
       "23                                  $e^{\\frac{2}{3}}$   \n",
       "24       $y'=- \\frac{4 x}{x^{3} - 3 x^{2} + 3 x - 1}$   \n",
       "25      $y'=\\frac{1}{4 \\sqrt{x} \\sqrt{\\sqrt{x} + 1}}$   \n",
       "26   $y'=\\frac{2 - \\log{\\left(x^{2} \\right)}}{x^{2}}$   \n",
       "27  $y'=- 6 \\sin{\\left(2 x \\right)} \\cos{\\left(\\co...   \n",
       "28       $y'=- \\frac{2 x}{x^{3} - 3 x^{2} + 3 x - 1}$   \n",
       "29    $y'=- \\frac{1}{4 \\sqrt{x} \\sqrt{2 - \\sqrt{x}}}$   \n",
       "30       $y'=\\frac{1 - \\log{\\left(x \\right)}}{x^{2}}$   \n",
       "31  $y'=- 4 \\sin{\\left(\\sin{\\left(2 x \\right)} \\ri...   \n",
       "\n",
       "                                                texto curso        titulo  \\\n",
       "0   Se dispone de dos cajas, la caja A contiene 3 ...   1BC  Final 3ª Ev.   \n",
       "1   Se dispone de dos cajas, la caja A contiene 3 ...   1BC  Final 3ª Ev.   \n",
       "2   Se dispone de dos cajas, la caja A contiene 6 ...   1BC  Final 3ª Ev.   \n",
       "3   Se dispone de dos cajas, la caja A contiene 6 ...   1BC  Final 3ª Ev.   \n",
       "4   Se dispone de dos cajas, la caja A contiene 3 ...   1BC  Final 3ª Ev.   \n",
       "5   Se dispone de dos cajas, la caja A contiene 3 ...   1BC  Final 3ª Ev.   \n",
       "6   Dada la función:$f(x)=\\frac{x^{2} - 2 x + 1}{2...   1BC  Final 3ª Ev.   \n",
       "7   Dada la función:$f(x)=\\frac{x^{2} - 2 x + 1}{2...   1BC  Final 3ª Ev.   \n",
       "8   Dada la función:$f(x)=\\frac{- x^{2} - x + 3}{x...   1BC  Final 3ª Ev.   \n",
       "9   Dada la función:$f(x)=\\frac{- x^{2} - x + 3}{x...   1BC  Final 3ª Ev.   \n",
       "10  Dada la función:$f(x)=\\sqrt{\\frac{x}{x - 1}}$,...   1BC  Final 3ª Ev.   \n",
       "11  Dada la función:$f(x)=\\sqrt{\\frac{x}{x - 1}}$,...   1BC  Final 3ª Ev.   \n",
       "12  Estudia en qué puntos de $\\mathbb{R}$ la funci...   1BC  Final 3ª Ev.   \n",
       "13  Estudia en qué puntos de $\\mathbb{R}$ la funci...   1BC  Final 3ª Ev.   \n",
       "14  Halla a y b de modo que las siguientes funcion...   1BC  Final 3ª Ev.   \n",
       "15  Halla a y b de modo que las siguientes funcion...   1BC  Final 3ª Ev.   \n",
       "16                    Calcula los siguientes límites:   1BC  Final 3ª Ev.   \n",
       "17                    Calcula los siguientes límites:   1BC  Final 3ª Ev.   \n",
       "18                    Calcula los siguientes límites:   1BC  Final 3ª Ev.   \n",
       "19                    Calcula los siguientes límites:   1BC  Final 3ª Ev.   \n",
       "20                    Calcula los siguientes límites:   1BC  Final 3ª Ev.   \n",
       "21                    Calcula los siguientes límites:   1BC  Final 3ª Ev.   \n",
       "22                    Calcula los siguientes límites:   1BC  Final 3ª Ev.   \n",
       "23                    Calcula los siguientes límites:   1BC  Final 3ª Ev.   \n",
       "24  Deriva las siguientes funciones (simplificando...   1BC  Final 3ª Ev.   \n",
       "25  Deriva las siguientes funciones (simplificando...   1BC  Final 3ª Ev.   \n",
       "26  Deriva las siguientes funciones (simplificando...   1BC  Final 3ª Ev.   \n",
       "27  Deriva las siguientes funciones (simplificando...   1BC  Final 3ª Ev.   \n",
       "28  Deriva las siguientes funciones (simplificando...   1BC  Final 3ª Ev.   \n",
       "29  Deriva las siguientes funciones (simplificando...   1BC  Final 3ª Ev.   \n",
       "30  Deriva las siguientes funciones (simplificando...   1BC  Final 3ª Ev.   \n",
       "31  Deriva las siguientes funciones (simplificando...   1BC  Final 3ª Ev.   \n",
       "\n",
       "   n_ejercicio  dificultad  n_columnas  puntos  enun_tex  sol_tex  \n",
       "0     fin308-0           1           1       1     False    False  \n",
       "1     fin308-0           1           1       1     False    False  \n",
       "2     fin308-1           1           1       1     False    False  \n",
       "3     fin308-1           1           1       1     False    False  \n",
       "4     fin308-2           1           1       1     False    False  \n",
       "5     fin308-2           1           1       1     False    False  \n",
       "6     fin301-0           5           1       1     False    False  \n",
       "7     fin301-0           5           1       1     False    False  \n",
       "8     fin301-1           5           1       1     False    False  \n",
       "9     fin301-1           5           1       1     False    False  \n",
       "10    fin301-2           5           1       1     False    False  \n",
       "11    fin301-2           5           1       1     False    False  \n",
       "12    fin302-0           5           1       1     False    False  \n",
       "13    fin302-1           5           1       1     False    False  \n",
       "14    fin303-0           5           1       1     False    False  \n",
       "15    fin303-1           5           1       1     False    False  \n",
       "16    fin304-0           5           3       1     False    False  \n",
       "17    fin304-0           5           3       1     False    False  \n",
       "18    fin304-0           5           3       1     False    False  \n",
       "19    fin304-0           5           3       1     False    False  \n",
       "20    fin304-1           5           3       1     False    False  \n",
       "21    fin304-1           5           3       1     False    False  \n",
       "22    fin304-1           5           3       1     False    False  \n",
       "23    fin304-1           5           3       1     False    False  \n",
       "24    fin305-0           5           3       1     False    False  \n",
       "25    fin305-0           5           3       1     False    False  \n",
       "26    fin305-0           5           3       1     False    False  \n",
       "27    fin305-0           5           3       1     False    False  \n",
       "28    fin305-1           5           3       1     False    False  \n",
       "29    fin305-1           5           3       1     False    False  \n",
       "30    fin305-1           5           3       1     False    False  \n",
       "31    fin305-1           5           3       1     False    False  "
      ]
     },
     "execution_count": 13,
     "metadata": {},
     "output_type": "execute_result"
    }
   ],
   "source": [
    "df_ejercicios"
   ]
  },
  {
   "cell_type": "code",
   "execution_count": 14,
   "metadata": {
    "scrolled": true
   },
   "outputs": [
    {
     "data": {
      "text/markdown": [
       "**Ejercicio: **fin301-0"
      ],
      "text/plain": [
       "<IPython.core.display.Markdown object>"
      ]
     },
     "metadata": {},
     "output_type": "display_data"
    },
    {
     "data": {
      "text/html": [
       "<div>\n",
       "<style scoped>\n",
       "    .dataframe tbody tr th:only-of-type {\n",
       "        vertical-align: middle;\n",
       "    }\n",
       "\n",
       "    .dataframe tbody tr th {\n",
       "        vertical-align: top;\n",
       "    }\n",
       "\n",
       "    .dataframe thead th {\n",
       "        text-align: right;\n",
       "    }\n",
       "</style>\n",
       "<table border=\"1\" class=\"dataframe\">\n",
       "  <thead>\n",
       "    <tr style=\"text-align: right;\">\n",
       "      <th></th>\n",
       "      <th>enunciado_latex</th>\n",
       "      <th>enunciado</th>\n",
       "      <th>solucion</th>\n",
       "      <th>texto</th>\n",
       "      <th>curso</th>\n",
       "      <th>titulo</th>\n",
       "      <th>n_ejercicio</th>\n",
       "      <th>dificultad</th>\n",
       "      <th>n_columnas</th>\n",
       "      <th>puntos</th>\n",
       "      <th>enun_tex</th>\n",
       "      <th>sol_tex</th>\n",
       "    </tr>\n",
       "  </thead>\n",
       "  <tbody>\n",
       "    <tr>\n",
       "      <th>6</th>\n",
       "      <td>Dominio de $f(x)$</td>\n",
       "      <td>Dominio de $f(x)$</td>\n",
       "      <td>$Dom(f)=\\left(-\\infty, - \\frac{3}{2}\\right) \\c...</td>\n",
       "      <td>Dada la función:$f(x)=\\frac{x^{2} - 2 x + 1}{2...</td>\n",
       "      <td>1BC</td>\n",
       "      <td>Final 3ª Ev.</td>\n",
       "      <td>fin301-0</td>\n",
       "      <td>5</td>\n",
       "      <td>1</td>\n",
       "      <td>1</td>\n",
       "      <td>False</td>\n",
       "      <td>False</td>\n",
       "    </tr>\n",
       "    <tr>\n",
       "      <th>7</th>\n",
       "      <td>Asíntotas verticales, horizontales y oblicuas,...</td>\n",
       "      <td>Asíntotas verticales, horizontales y oblicuas,...</td>\n",
       "      <td>Asíntotas:\\\\A.V. $x=-3/2$\\\\A.O. $y=\\frac{x}{2}...</td>\n",
       "      <td>Dada la función:$f(x)=\\frac{x^{2} - 2 x + 1}{2...</td>\n",
       "      <td>1BC</td>\n",
       "      <td>Final 3ª Ev.</td>\n",
       "      <td>fin301-0</td>\n",
       "      <td>5</td>\n",
       "      <td>1</td>\n",
       "      <td>1</td>\n",
       "      <td>False</td>\n",
       "      <td>False</td>\n",
       "    </tr>\n",
       "  </tbody>\n",
       "</table>\n",
       "</div>"
      ],
      "text/plain": [
       "                                     enunciado_latex  \\\n",
       "6                                  Dominio de $f(x)$   \n",
       "7  Asíntotas verticales, horizontales y oblicuas,...   \n",
       "\n",
       "                                           enunciado  \\\n",
       "6                                  Dominio de $f(x)$   \n",
       "7  Asíntotas verticales, horizontales y oblicuas,...   \n",
       "\n",
       "                                            solucion  \\\n",
       "6  $Dom(f)=\\left(-\\infty, - \\frac{3}{2}\\right) \\c...   \n",
       "7  Asíntotas:\\\\A.V. $x=-3/2$\\\\A.O. $y=\\frac{x}{2}...   \n",
       "\n",
       "                                               texto curso        titulo  \\\n",
       "6  Dada la función:$f(x)=\\frac{x^{2} - 2 x + 1}{2...   1BC  Final 3ª Ev.   \n",
       "7  Dada la función:$f(x)=\\frac{x^{2} - 2 x + 1}{2...   1BC  Final 3ª Ev.   \n",
       "\n",
       "  n_ejercicio  dificultad  n_columnas  puntos  enun_tex  sol_tex  \n",
       "6    fin301-0           5           1       1     False    False  \n",
       "7    fin301-0           5           1       1     False    False  "
      ]
     },
     "metadata": {},
     "output_type": "display_data"
    },
    {
     "data": {
      "text/markdown": [
       "**Ejercicio: **fin301-1"
      ],
      "text/plain": [
       "<IPython.core.display.Markdown object>"
      ]
     },
     "metadata": {},
     "output_type": "display_data"
    },
    {
     "data": {
      "text/html": [
       "<div>\n",
       "<style scoped>\n",
       "    .dataframe tbody tr th:only-of-type {\n",
       "        vertical-align: middle;\n",
       "    }\n",
       "\n",
       "    .dataframe tbody tr th {\n",
       "        vertical-align: top;\n",
       "    }\n",
       "\n",
       "    .dataframe thead th {\n",
       "        text-align: right;\n",
       "    }\n",
       "</style>\n",
       "<table border=\"1\" class=\"dataframe\">\n",
       "  <thead>\n",
       "    <tr style=\"text-align: right;\">\n",
       "      <th></th>\n",
       "      <th>enunciado_latex</th>\n",
       "      <th>enunciado</th>\n",
       "      <th>solucion</th>\n",
       "      <th>texto</th>\n",
       "      <th>curso</th>\n",
       "      <th>titulo</th>\n",
       "      <th>n_ejercicio</th>\n",
       "      <th>dificultad</th>\n",
       "      <th>n_columnas</th>\n",
       "      <th>puntos</th>\n",
       "      <th>enun_tex</th>\n",
       "      <th>sol_tex</th>\n",
       "    </tr>\n",
       "  </thead>\n",
       "  <tbody>\n",
       "    <tr>\n",
       "      <th>8</th>\n",
       "      <td>Dominio de $f(x)$</td>\n",
       "      <td>Dominio de $f(x)$</td>\n",
       "      <td>$Dom(f)=\\left(-\\infty, -2\\right) \\cup \\left(-2...</td>\n",
       "      <td>Dada la función:$f(x)=\\frac{- x^{2} - x + 3}{x...</td>\n",
       "      <td>1BC</td>\n",
       "      <td>Final 3ª Ev.</td>\n",
       "      <td>fin301-1</td>\n",
       "      <td>5</td>\n",
       "      <td>1</td>\n",
       "      <td>1</td>\n",
       "      <td>False</td>\n",
       "      <td>False</td>\n",
       "    </tr>\n",
       "    <tr>\n",
       "      <th>9</th>\n",
       "      <td>Asíntotas verticales, horizontales y oblicuas,...</td>\n",
       "      <td>Asíntotas verticales, horizontales y oblicuas,...</td>\n",
       "      <td>Asíntotas:\\\\A.V. $x=-2$\\\\, A.V. $x=1$\\\\A.H. $y...</td>\n",
       "      <td>Dada la función:$f(x)=\\frac{- x^{2} - x + 3}{x...</td>\n",
       "      <td>1BC</td>\n",
       "      <td>Final 3ª Ev.</td>\n",
       "      <td>fin301-1</td>\n",
       "      <td>5</td>\n",
       "      <td>1</td>\n",
       "      <td>1</td>\n",
       "      <td>False</td>\n",
       "      <td>False</td>\n",
       "    </tr>\n",
       "  </tbody>\n",
       "</table>\n",
       "</div>"
      ],
      "text/plain": [
       "                                     enunciado_latex  \\\n",
       "8                                  Dominio de $f(x)$   \n",
       "9  Asíntotas verticales, horizontales y oblicuas,...   \n",
       "\n",
       "                                           enunciado  \\\n",
       "8                                  Dominio de $f(x)$   \n",
       "9  Asíntotas verticales, horizontales y oblicuas,...   \n",
       "\n",
       "                                            solucion  \\\n",
       "8  $Dom(f)=\\left(-\\infty, -2\\right) \\cup \\left(-2...   \n",
       "9  Asíntotas:\\\\A.V. $x=-2$\\\\, A.V. $x=1$\\\\A.H. $y...   \n",
       "\n",
       "                                               texto curso        titulo  \\\n",
       "8  Dada la función:$f(x)=\\frac{- x^{2} - x + 3}{x...   1BC  Final 3ª Ev.   \n",
       "9  Dada la función:$f(x)=\\frac{- x^{2} - x + 3}{x...   1BC  Final 3ª Ev.   \n",
       "\n",
       "  n_ejercicio  dificultad  n_columnas  puntos  enun_tex  sol_tex  \n",
       "8    fin301-1           5           1       1     False    False  \n",
       "9    fin301-1           5           1       1     False    False  "
      ]
     },
     "metadata": {},
     "output_type": "display_data"
    },
    {
     "data": {
      "text/markdown": [
       "**Ejercicio: **fin301-2"
      ],
      "text/plain": [
       "<IPython.core.display.Markdown object>"
      ]
     },
     "metadata": {},
     "output_type": "display_data"
    },
    {
     "data": {
      "text/html": [
       "<div>\n",
       "<style scoped>\n",
       "    .dataframe tbody tr th:only-of-type {\n",
       "        vertical-align: middle;\n",
       "    }\n",
       "\n",
       "    .dataframe tbody tr th {\n",
       "        vertical-align: top;\n",
       "    }\n",
       "\n",
       "    .dataframe thead th {\n",
       "        text-align: right;\n",
       "    }\n",
       "</style>\n",
       "<table border=\"1\" class=\"dataframe\">\n",
       "  <thead>\n",
       "    <tr style=\"text-align: right;\">\n",
       "      <th></th>\n",
       "      <th>enunciado_latex</th>\n",
       "      <th>enunciado</th>\n",
       "      <th>solucion</th>\n",
       "      <th>texto</th>\n",
       "      <th>curso</th>\n",
       "      <th>titulo</th>\n",
       "      <th>n_ejercicio</th>\n",
       "      <th>dificultad</th>\n",
       "      <th>n_columnas</th>\n",
       "      <th>puntos</th>\n",
       "      <th>enun_tex</th>\n",
       "      <th>sol_tex</th>\n",
       "    </tr>\n",
       "  </thead>\n",
       "  <tbody>\n",
       "    <tr>\n",
       "      <th>10</th>\n",
       "      <td>Dominio de $f(x)$</td>\n",
       "      <td>Dominio de $f(x)$</td>\n",
       "      <td>$Dom(f)=\\left(-\\infty, 0\\right] \\cup \\left(1, ...</td>\n",
       "      <td>Dada la función:$f(x)=\\sqrt{\\frac{x}{x - 1}}$,...</td>\n",
       "      <td>1BC</td>\n",
       "      <td>Final 3ª Ev.</td>\n",
       "      <td>fin301-2</td>\n",
       "      <td>5</td>\n",
       "      <td>1</td>\n",
       "      <td>1</td>\n",
       "      <td>False</td>\n",
       "      <td>False</td>\n",
       "    </tr>\n",
       "    <tr>\n",
       "      <th>11</th>\n",
       "      <td>Asíntotas verticales, horizontales y oblicuas,...</td>\n",
       "      <td>Asíntotas verticales, horizontales y oblicuas,...</td>\n",
       "      <td>Asíntotas:\\\\A.V. $x=1$\\\\A.H. $y=1$\\\\A.H. $y=1$...</td>\n",
       "      <td>Dada la función:$f(x)=\\sqrt{\\frac{x}{x - 1}}$,...</td>\n",
       "      <td>1BC</td>\n",
       "      <td>Final 3ª Ev.</td>\n",
       "      <td>fin301-2</td>\n",
       "      <td>5</td>\n",
       "      <td>1</td>\n",
       "      <td>1</td>\n",
       "      <td>False</td>\n",
       "      <td>False</td>\n",
       "    </tr>\n",
       "  </tbody>\n",
       "</table>\n",
       "</div>"
      ],
      "text/plain": [
       "                                      enunciado_latex  \\\n",
       "10                                  Dominio de $f(x)$   \n",
       "11  Asíntotas verticales, horizontales y oblicuas,...   \n",
       "\n",
       "                                            enunciado  \\\n",
       "10                                  Dominio de $f(x)$   \n",
       "11  Asíntotas verticales, horizontales y oblicuas,...   \n",
       "\n",
       "                                             solucion  \\\n",
       "10  $Dom(f)=\\left(-\\infty, 0\\right] \\cup \\left(1, ...   \n",
       "11  Asíntotas:\\\\A.V. $x=1$\\\\A.H. $y=1$\\\\A.H. $y=1$...   \n",
       "\n",
       "                                                texto curso        titulo  \\\n",
       "10  Dada la función:$f(x)=\\sqrt{\\frac{x}{x - 1}}$,...   1BC  Final 3ª Ev.   \n",
       "11  Dada la función:$f(x)=\\sqrt{\\frac{x}{x - 1}}$,...   1BC  Final 3ª Ev.   \n",
       "\n",
       "   n_ejercicio  dificultad  n_columnas  puntos  enun_tex  sol_tex  \n",
       "10    fin301-2           5           1       1     False    False  \n",
       "11    fin301-2           5           1       1     False    False  "
      ]
     },
     "metadata": {},
     "output_type": "display_data"
    },
    {
     "data": {
      "text/markdown": [
       "**Ejercicio: **fin302-0"
      ],
      "text/plain": [
       "<IPython.core.display.Markdown object>"
      ]
     },
     "metadata": {},
     "output_type": "display_data"
    },
    {
     "data": {
      "text/html": [
       "<div>\n",
       "<style scoped>\n",
       "    .dataframe tbody tr th:only-of-type {\n",
       "        vertical-align: middle;\n",
       "    }\n",
       "\n",
       "    .dataframe tbody tr th {\n",
       "        vertical-align: top;\n",
       "    }\n",
       "\n",
       "    .dataframe thead th {\n",
       "        text-align: right;\n",
       "    }\n",
       "</style>\n",
       "<table border=\"1\" class=\"dataframe\">\n",
       "  <thead>\n",
       "    <tr style=\"text-align: right;\">\n",
       "      <th></th>\n",
       "      <th>enunciado_latex</th>\n",
       "      <th>enunciado</th>\n",
       "      <th>solucion</th>\n",
       "      <th>texto</th>\n",
       "      <th>curso</th>\n",
       "      <th>titulo</th>\n",
       "      <th>n_ejercicio</th>\n",
       "      <th>dificultad</th>\n",
       "      <th>n_columnas</th>\n",
       "      <th>puntos</th>\n",
       "      <th>enun_tex</th>\n",
       "      <th>sol_tex</th>\n",
       "    </tr>\n",
       "  </thead>\n",
       "  <tbody>\n",
       "    <tr>\n",
       "      <th>12</th>\n",
       "      <td>$f(x)=\\begin{cases} \\frac{2 x^{2} + 7 x + 3}{x...</td>\n",
       "      <td>$f(x)=\\begin{cases} \\frac{2 x^{2} + 7 x + 3}{x...</td>\n",
       "      <td>Singularidades de las expresiones analíticas: ...</td>\n",
       "      <td>Estudia en qué puntos de $\\mathbb{R}$ la funci...</td>\n",
       "      <td>1BC</td>\n",
       "      <td>Final 3ª Ev.</td>\n",
       "      <td>fin302-0</td>\n",
       "      <td>5</td>\n",
       "      <td>1</td>\n",
       "      <td>1</td>\n",
       "      <td>False</td>\n",
       "      <td>False</td>\n",
       "    </tr>\n",
       "  </tbody>\n",
       "</table>\n",
       "</div>"
      ],
      "text/plain": [
       "                                      enunciado_latex  \\\n",
       "12  $f(x)=\\begin{cases} \\frac{2 x^{2} + 7 x + 3}{x...   \n",
       "\n",
       "                                            enunciado  \\\n",
       "12  $f(x)=\\begin{cases} \\frac{2 x^{2} + 7 x + 3}{x...   \n",
       "\n",
       "                                             solucion  \\\n",
       "12  Singularidades de las expresiones analíticas: ...   \n",
       "\n",
       "                                                texto curso        titulo  \\\n",
       "12  Estudia en qué puntos de $\\mathbb{R}$ la funci...   1BC  Final 3ª Ev.   \n",
       "\n",
       "   n_ejercicio  dificultad  n_columnas  puntos  enun_tex  sol_tex  \n",
       "12    fin302-0           5           1       1     False    False  "
      ]
     },
     "metadata": {},
     "output_type": "display_data"
    },
    {
     "data": {
      "text/markdown": [
       "**Ejercicio: **fin302-1"
      ],
      "text/plain": [
       "<IPython.core.display.Markdown object>"
      ]
     },
     "metadata": {},
     "output_type": "display_data"
    },
    {
     "data": {
      "text/html": [
       "<div>\n",
       "<style scoped>\n",
       "    .dataframe tbody tr th:only-of-type {\n",
       "        vertical-align: middle;\n",
       "    }\n",
       "\n",
       "    .dataframe tbody tr th {\n",
       "        vertical-align: top;\n",
       "    }\n",
       "\n",
       "    .dataframe thead th {\n",
       "        text-align: right;\n",
       "    }\n",
       "</style>\n",
       "<table border=\"1\" class=\"dataframe\">\n",
       "  <thead>\n",
       "    <tr style=\"text-align: right;\">\n",
       "      <th></th>\n",
       "      <th>enunciado_latex</th>\n",
       "      <th>enunciado</th>\n",
       "      <th>solucion</th>\n",
       "      <th>texto</th>\n",
       "      <th>curso</th>\n",
       "      <th>titulo</th>\n",
       "      <th>n_ejercicio</th>\n",
       "      <th>dificultad</th>\n",
       "      <th>n_columnas</th>\n",
       "      <th>puntos</th>\n",
       "      <th>enun_tex</th>\n",
       "      <th>sol_tex</th>\n",
       "    </tr>\n",
       "  </thead>\n",
       "  <tbody>\n",
       "    <tr>\n",
       "      <th>13</th>\n",
       "      <td>$f(x)=\\begin{cases} \\frac{x^{2} - 4}{x^{2} - 3...</td>\n",
       "      <td>$f(x)=\\begin{cases} \\frac{x^{2} - 4}{x^{2} - 3...</td>\n",
       "      <td>Singularidades de las expresiones analíticas: ...</td>\n",
       "      <td>Estudia en qué puntos de $\\mathbb{R}$ la funci...</td>\n",
       "      <td>1BC</td>\n",
       "      <td>Final 3ª Ev.</td>\n",
       "      <td>fin302-1</td>\n",
       "      <td>5</td>\n",
       "      <td>1</td>\n",
       "      <td>1</td>\n",
       "      <td>False</td>\n",
       "      <td>False</td>\n",
       "    </tr>\n",
       "  </tbody>\n",
       "</table>\n",
       "</div>"
      ],
      "text/plain": [
       "                                      enunciado_latex  \\\n",
       "13  $f(x)=\\begin{cases} \\frac{x^{2} - 4}{x^{2} - 3...   \n",
       "\n",
       "                                            enunciado  \\\n",
       "13  $f(x)=\\begin{cases} \\frac{x^{2} - 4}{x^{2} - 3...   \n",
       "\n",
       "                                             solucion  \\\n",
       "13  Singularidades de las expresiones analíticas: ...   \n",
       "\n",
       "                                                texto curso        titulo  \\\n",
       "13  Estudia en qué puntos de $\\mathbb{R}$ la funci...   1BC  Final 3ª Ev.   \n",
       "\n",
       "   n_ejercicio  dificultad  n_columnas  puntos  enun_tex  sol_tex  \n",
       "13    fin302-1           5           1       1     False    False  "
      ]
     },
     "metadata": {},
     "output_type": "display_data"
    },
    {
     "data": {
      "text/markdown": [
       "**Ejercicio: **fin303-0"
      ],
      "text/plain": [
       "<IPython.core.display.Markdown object>"
      ]
     },
     "metadata": {},
     "output_type": "display_data"
    },
    {
     "data": {
      "text/html": [
       "<div>\n",
       "<style scoped>\n",
       "    .dataframe tbody tr th:only-of-type {\n",
       "        vertical-align: middle;\n",
       "    }\n",
       "\n",
       "    .dataframe tbody tr th {\n",
       "        vertical-align: top;\n",
       "    }\n",
       "\n",
       "    .dataframe thead th {\n",
       "        text-align: right;\n",
       "    }\n",
       "</style>\n",
       "<table border=\"1\" class=\"dataframe\">\n",
       "  <thead>\n",
       "    <tr style=\"text-align: right;\">\n",
       "      <th></th>\n",
       "      <th>enunciado_latex</th>\n",
       "      <th>enunciado</th>\n",
       "      <th>solucion</th>\n",
       "      <th>texto</th>\n",
       "      <th>curso</th>\n",
       "      <th>titulo</th>\n",
       "      <th>n_ejercicio</th>\n",
       "      <th>dificultad</th>\n",
       "      <th>n_columnas</th>\n",
       "      <th>puntos</th>\n",
       "      <th>enun_tex</th>\n",
       "      <th>sol_tex</th>\n",
       "    </tr>\n",
       "  </thead>\n",
       "  <tbody>\n",
       "    <tr>\n",
       "      <th>14</th>\n",
       "      <td>$$f(x)=\\begin{cases} a + e^{x + 2} &amp; \\text{for...</td>\n",
       "      <td>Piecewise((a + exp(x + 2), x &lt;= -2), ((x + 1)/...</td>\n",
       "      <td>$\\left\\{ a : - \\frac{6}{5}, \\  b : -2\\right\\}$</td>\n",
       "      <td>Halla a y b de modo que las siguientes funcion...</td>\n",
       "      <td>1BC</td>\n",
       "      <td>Final 3ª Ev.</td>\n",
       "      <td>fin303-0</td>\n",
       "      <td>5</td>\n",
       "      <td>1</td>\n",
       "      <td>1</td>\n",
       "      <td>False</td>\n",
       "      <td>False</td>\n",
       "    </tr>\n",
       "  </tbody>\n",
       "</table>\n",
       "</div>"
      ],
      "text/plain": [
       "                                      enunciado_latex  \\\n",
       "14  $$f(x)=\\begin{cases} a + e^{x + 2} & \\text{for...   \n",
       "\n",
       "                                            enunciado  \\\n",
       "14  Piecewise((a + exp(x + 2), x <= -2), ((x + 1)/...   \n",
       "\n",
       "                                          solucion  \\\n",
       "14  $\\left\\{ a : - \\frac{6}{5}, \\  b : -2\\right\\}$   \n",
       "\n",
       "                                                texto curso        titulo  \\\n",
       "14  Halla a y b de modo que las siguientes funcion...   1BC  Final 3ª Ev.   \n",
       "\n",
       "   n_ejercicio  dificultad  n_columnas  puntos  enun_tex  sol_tex  \n",
       "14    fin303-0           5           1       1     False    False  "
      ]
     },
     "metadata": {},
     "output_type": "display_data"
    },
    {
     "data": {
      "text/markdown": [
       "**Ejercicio: **fin303-1"
      ],
      "text/plain": [
       "<IPython.core.display.Markdown object>"
      ]
     },
     "metadata": {},
     "output_type": "display_data"
    },
    {
     "data": {
      "text/html": [
       "<div>\n",
       "<style scoped>\n",
       "    .dataframe tbody tr th:only-of-type {\n",
       "        vertical-align: middle;\n",
       "    }\n",
       "\n",
       "    .dataframe tbody tr th {\n",
       "        vertical-align: top;\n",
       "    }\n",
       "\n",
       "    .dataframe thead th {\n",
       "        text-align: right;\n",
       "    }\n",
       "</style>\n",
       "<table border=\"1\" class=\"dataframe\">\n",
       "  <thead>\n",
       "    <tr style=\"text-align: right;\">\n",
       "      <th></th>\n",
       "      <th>enunciado_latex</th>\n",
       "      <th>enunciado</th>\n",
       "      <th>solucion</th>\n",
       "      <th>texto</th>\n",
       "      <th>curso</th>\n",
       "      <th>titulo</th>\n",
       "      <th>n_ejercicio</th>\n",
       "      <th>dificultad</th>\n",
       "      <th>n_columnas</th>\n",
       "      <th>puntos</th>\n",
       "      <th>enun_tex</th>\n",
       "      <th>sol_tex</th>\n",
       "    </tr>\n",
       "  </thead>\n",
       "  <tbody>\n",
       "    <tr>\n",
       "      <th>15</th>\n",
       "      <td>$$f(x)=\\begin{cases} a + e^{x + 3} &amp; \\text{for...</td>\n",
       "      <td>Piecewise((a + exp(x + 3), x &lt;= -3), ((x + 2)/...</td>\n",
       "      <td>$\\left\\{ a : - \\frac{8}{7}, \\  b : -5\\right\\}$</td>\n",
       "      <td>Halla a y b de modo que las siguientes funcion...</td>\n",
       "      <td>1BC</td>\n",
       "      <td>Final 3ª Ev.</td>\n",
       "      <td>fin303-1</td>\n",
       "      <td>5</td>\n",
       "      <td>1</td>\n",
       "      <td>1</td>\n",
       "      <td>False</td>\n",
       "      <td>False</td>\n",
       "    </tr>\n",
       "  </tbody>\n",
       "</table>\n",
       "</div>"
      ],
      "text/plain": [
       "                                      enunciado_latex  \\\n",
       "15  $$f(x)=\\begin{cases} a + e^{x + 3} & \\text{for...   \n",
       "\n",
       "                                            enunciado  \\\n",
       "15  Piecewise((a + exp(x + 3), x <= -3), ((x + 2)/...   \n",
       "\n",
       "                                          solucion  \\\n",
       "15  $\\left\\{ a : - \\frac{8}{7}, \\  b : -5\\right\\}$   \n",
       "\n",
       "                                                texto curso        titulo  \\\n",
       "15  Halla a y b de modo que las siguientes funcion...   1BC  Final 3ª Ev.   \n",
       "\n",
       "   n_ejercicio  dificultad  n_columnas  puntos  enun_tex  sol_tex  \n",
       "15    fin303-1           5           1       1     False    False  "
      ]
     },
     "metadata": {},
     "output_type": "display_data"
    },
    {
     "data": {
      "text/markdown": [
       "**Ejercicio: **fin304-0"
      ],
      "text/plain": [
       "<IPython.core.display.Markdown object>"
      ]
     },
     "metadata": {},
     "output_type": "display_data"
    },
    {
     "data": {
      "text/html": [
       "<div>\n",
       "<style scoped>\n",
       "    .dataframe tbody tr th:only-of-type {\n",
       "        vertical-align: middle;\n",
       "    }\n",
       "\n",
       "    .dataframe tbody tr th {\n",
       "        vertical-align: top;\n",
       "    }\n",
       "\n",
       "    .dataframe thead th {\n",
       "        text-align: right;\n",
       "    }\n",
       "</style>\n",
       "<table border=\"1\" class=\"dataframe\">\n",
       "  <thead>\n",
       "    <tr style=\"text-align: right;\">\n",
       "      <th></th>\n",
       "      <th>enunciado_latex</th>\n",
       "      <th>enunciado</th>\n",
       "      <th>solucion</th>\n",
       "      <th>texto</th>\n",
       "      <th>curso</th>\n",
       "      <th>titulo</th>\n",
       "      <th>n_ejercicio</th>\n",
       "      <th>dificultad</th>\n",
       "      <th>n_columnas</th>\n",
       "      <th>puntos</th>\n",
       "      <th>enun_tex</th>\n",
       "      <th>sol_tex</th>\n",
       "    </tr>\n",
       "  </thead>\n",
       "  <tbody>\n",
       "    <tr>\n",
       "      <th>16</th>\n",
       "      <td>$$\\lim_{x \\to 3}\\left(\\frac{3 x^{2} - 11 x + 6...</td>\n",
       "      <td>Limit((3*x**2 - 11*x + 6)/(x**3 - 3*x**2 + x -...</td>\n",
       "      <td>$\\frac{7}{10}$</td>\n",
       "      <td>Calcula los siguientes límites:</td>\n",
       "      <td>1BC</td>\n",
       "      <td>Final 3ª Ev.</td>\n",
       "      <td>fin304-0</td>\n",
       "      <td>5</td>\n",
       "      <td>3</td>\n",
       "      <td>1</td>\n",
       "      <td>False</td>\n",
       "      <td>False</td>\n",
       "    </tr>\n",
       "    <tr>\n",
       "      <th>17</th>\n",
       "      <td>$$\\lim_{x \\to \\infty} e^{1 - x}$$</td>\n",
       "      <td>Limit(exp(1 - x), x, oo, dir='-')</td>\n",
       "      <td>$0$</td>\n",
       "      <td>Calcula los siguientes límites:</td>\n",
       "      <td>1BC</td>\n",
       "      <td>Final 3ª Ev.</td>\n",
       "      <td>fin304-0</td>\n",
       "      <td>5</td>\n",
       "      <td>3</td>\n",
       "      <td>1</td>\n",
       "      <td>False</td>\n",
       "      <td>False</td>\n",
       "    </tr>\n",
       "    <tr>\n",
       "      <th>18</th>\n",
       "      <td>$$\\lim_{x \\to -2}\\left(\\frac{x^{3} + x^{2} - x...</td>\n",
       "      <td>Limit((x**3 + x**2 - x + 2)/(x**2 + 4*x + 4), ...</td>\n",
       "      <td>No existe el límite</td>\n",
       "      <td>Calcula los siguientes límites:</td>\n",
       "      <td>1BC</td>\n",
       "      <td>Final 3ª Ev.</td>\n",
       "      <td>fin304-0</td>\n",
       "      <td>5</td>\n",
       "      <td>3</td>\n",
       "      <td>1</td>\n",
       "      <td>False</td>\n",
       "      <td>False</td>\n",
       "    </tr>\n",
       "    <tr>\n",
       "      <th>19</th>\n",
       "      <td>$$\\lim_{x \\to 2} \\left(\\frac{x^{3} - 4}{x^{2}}...</td>\n",
       "      <td>Limit(((x**3 - 4)/x**2)**(1/(x - 2)), x, 2, di...</td>\n",
       "      <td>$e^{2}$</td>\n",
       "      <td>Calcula los siguientes límites:</td>\n",
       "      <td>1BC</td>\n",
       "      <td>Final 3ª Ev.</td>\n",
       "      <td>fin304-0</td>\n",
       "      <td>5</td>\n",
       "      <td>3</td>\n",
       "      <td>1</td>\n",
       "      <td>False</td>\n",
       "      <td>False</td>\n",
       "    </tr>\n",
       "  </tbody>\n",
       "</table>\n",
       "</div>"
      ],
      "text/plain": [
       "                                      enunciado_latex  \\\n",
       "16  $$\\lim_{x \\to 3}\\left(\\frac{3 x^{2} - 11 x + 6...   \n",
       "17                  $$\\lim_{x \\to \\infty} e^{1 - x}$$   \n",
       "18  $$\\lim_{x \\to -2}\\left(\\frac{x^{3} + x^{2} - x...   \n",
       "19  $$\\lim_{x \\to 2} \\left(\\frac{x^{3} - 4}{x^{2}}...   \n",
       "\n",
       "                                            enunciado             solucion  \\\n",
       "16  Limit((3*x**2 - 11*x + 6)/(x**3 - 3*x**2 + x -...       $\\frac{7}{10}$   \n",
       "17                  Limit(exp(1 - x), x, oo, dir='-')                  $0$   \n",
       "18  Limit((x**3 + x**2 - x + 2)/(x**2 + 4*x + 4), ...  No existe el límite   \n",
       "19  Limit(((x**3 - 4)/x**2)**(1/(x - 2)), x, 2, di...              $e^{2}$   \n",
       "\n",
       "                              texto curso        titulo n_ejercicio  \\\n",
       "16  Calcula los siguientes límites:   1BC  Final 3ª Ev.    fin304-0   \n",
       "17  Calcula los siguientes límites:   1BC  Final 3ª Ev.    fin304-0   \n",
       "18  Calcula los siguientes límites:   1BC  Final 3ª Ev.    fin304-0   \n",
       "19  Calcula los siguientes límites:   1BC  Final 3ª Ev.    fin304-0   \n",
       "\n",
       "    dificultad  n_columnas  puntos  enun_tex  sol_tex  \n",
       "16           5           3       1     False    False  \n",
       "17           5           3       1     False    False  \n",
       "18           5           3       1     False    False  \n",
       "19           5           3       1     False    False  "
      ]
     },
     "metadata": {},
     "output_type": "display_data"
    },
    {
     "data": {
      "text/markdown": [
       "**Ejercicio: **fin304-1"
      ],
      "text/plain": [
       "<IPython.core.display.Markdown object>"
      ]
     },
     "metadata": {},
     "output_type": "display_data"
    },
    {
     "data": {
      "text/html": [
       "<div>\n",
       "<style scoped>\n",
       "    .dataframe tbody tr th:only-of-type {\n",
       "        vertical-align: middle;\n",
       "    }\n",
       "\n",
       "    .dataframe tbody tr th {\n",
       "        vertical-align: top;\n",
       "    }\n",
       "\n",
       "    .dataframe thead th {\n",
       "        text-align: right;\n",
       "    }\n",
       "</style>\n",
       "<table border=\"1\" class=\"dataframe\">\n",
       "  <thead>\n",
       "    <tr style=\"text-align: right;\">\n",
       "      <th></th>\n",
       "      <th>enunciado_latex</th>\n",
       "      <th>enunciado</th>\n",
       "      <th>solucion</th>\n",
       "      <th>texto</th>\n",
       "      <th>curso</th>\n",
       "      <th>titulo</th>\n",
       "      <th>n_ejercicio</th>\n",
       "      <th>dificultad</th>\n",
       "      <th>n_columnas</th>\n",
       "      <th>puntos</th>\n",
       "      <th>enun_tex</th>\n",
       "      <th>sol_tex</th>\n",
       "    </tr>\n",
       "  </thead>\n",
       "  <tbody>\n",
       "    <tr>\n",
       "      <th>20</th>\n",
       "      <td>$$\\lim_{x \\to 2}\\left(\\frac{x^{3} - 2 x^{2} + ...</td>\n",
       "      <td>Limit((x**3 - 2*x**2 + 2*x - 4)/(3*x**2 - 8*x ...</td>\n",
       "      <td>$\\frac{3}{2}$</td>\n",
       "      <td>Calcula los siguientes límites:</td>\n",
       "      <td>1BC</td>\n",
       "      <td>Final 3ª Ev.</td>\n",
       "      <td>fin304-1</td>\n",
       "      <td>5</td>\n",
       "      <td>3</td>\n",
       "      <td>1</td>\n",
       "      <td>False</td>\n",
       "      <td>False</td>\n",
       "    </tr>\n",
       "    <tr>\n",
       "      <th>21</th>\n",
       "      <td>$$\\lim_{x \\to -\\infty} e^{x - 1}$$</td>\n",
       "      <td>Limit(exp(x - 1), x, -oo)</td>\n",
       "      <td>$0$</td>\n",
       "      <td>Calcula los siguientes límites:</td>\n",
       "      <td>1BC</td>\n",
       "      <td>Final 3ª Ev.</td>\n",
       "      <td>fin304-1</td>\n",
       "      <td>5</td>\n",
       "      <td>3</td>\n",
       "      <td>1</td>\n",
       "      <td>False</td>\n",
       "      <td>False</td>\n",
       "    </tr>\n",
       "    <tr>\n",
       "      <th>22</th>\n",
       "      <td>$$\\lim_{x \\to -1}\\left(\\frac{x^{3} + 1}{x^{2} ...</td>\n",
       "      <td>Limit((x**3 + 1)/(x**2 + 2*x + 1), x, -1, dir=...</td>\n",
       "      <td>No existe el límite</td>\n",
       "      <td>Calcula los siguientes límites:</td>\n",
       "      <td>1BC</td>\n",
       "      <td>Final 3ª Ev.</td>\n",
       "      <td>fin304-1</td>\n",
       "      <td>5</td>\n",
       "      <td>3</td>\n",
       "      <td>1</td>\n",
       "      <td>False</td>\n",
       "      <td>False</td>\n",
       "    </tr>\n",
       "    <tr>\n",
       "      <th>23</th>\n",
       "      <td>$$\\lim_{x \\to 3} \\left(\\frac{x^{2} - x}{x + 3}...</td>\n",
       "      <td>Limit(((x**2 - x)/(x + 3))**(1/(x - 3)), x, 3,...</td>\n",
       "      <td>$e^{\\frac{2}{3}}$</td>\n",
       "      <td>Calcula los siguientes límites:</td>\n",
       "      <td>1BC</td>\n",
       "      <td>Final 3ª Ev.</td>\n",
       "      <td>fin304-1</td>\n",
       "      <td>5</td>\n",
       "      <td>3</td>\n",
       "      <td>1</td>\n",
       "      <td>False</td>\n",
       "      <td>False</td>\n",
       "    </tr>\n",
       "  </tbody>\n",
       "</table>\n",
       "</div>"
      ],
      "text/plain": [
       "                                      enunciado_latex  \\\n",
       "20  $$\\lim_{x \\to 2}\\left(\\frac{x^{3} - 2 x^{2} + ...   \n",
       "21                 $$\\lim_{x \\to -\\infty} e^{x - 1}$$   \n",
       "22  $$\\lim_{x \\to -1}\\left(\\frac{x^{3} + 1}{x^{2} ...   \n",
       "23  $$\\lim_{x \\to 3} \\left(\\frac{x^{2} - x}{x + 3}...   \n",
       "\n",
       "                                            enunciado             solucion  \\\n",
       "20  Limit((x**3 - 2*x**2 + 2*x - 4)/(3*x**2 - 8*x ...        $\\frac{3}{2}$   \n",
       "21                          Limit(exp(x - 1), x, -oo)                  $0$   \n",
       "22  Limit((x**3 + 1)/(x**2 + 2*x + 1), x, -1, dir=...  No existe el límite   \n",
       "23  Limit(((x**2 - x)/(x + 3))**(1/(x - 3)), x, 3,...    $e^{\\frac{2}{3}}$   \n",
       "\n",
       "                              texto curso        titulo n_ejercicio  \\\n",
       "20  Calcula los siguientes límites:   1BC  Final 3ª Ev.    fin304-1   \n",
       "21  Calcula los siguientes límites:   1BC  Final 3ª Ev.    fin304-1   \n",
       "22  Calcula los siguientes límites:   1BC  Final 3ª Ev.    fin304-1   \n",
       "23  Calcula los siguientes límites:   1BC  Final 3ª Ev.    fin304-1   \n",
       "\n",
       "    dificultad  n_columnas  puntos  enun_tex  sol_tex  \n",
       "20           5           3       1     False    False  \n",
       "21           5           3       1     False    False  \n",
       "22           5           3       1     False    False  \n",
       "23           5           3       1     False    False  "
      ]
     },
     "metadata": {},
     "output_type": "display_data"
    },
    {
     "data": {
      "text/markdown": [
       "**Ejercicio: **fin305-0"
      ],
      "text/plain": [
       "<IPython.core.display.Markdown object>"
      ]
     },
     "metadata": {},
     "output_type": "display_data"
    },
    {
     "data": {
      "text/html": [
       "<div>\n",
       "<style scoped>\n",
       "    .dataframe tbody tr th:only-of-type {\n",
       "        vertical-align: middle;\n",
       "    }\n",
       "\n",
       "    .dataframe tbody tr th {\n",
       "        vertical-align: top;\n",
       "    }\n",
       "\n",
       "    .dataframe thead th {\n",
       "        text-align: right;\n",
       "    }\n",
       "</style>\n",
       "<table border=\"1\" class=\"dataframe\">\n",
       "  <thead>\n",
       "    <tr style=\"text-align: right;\">\n",
       "      <th></th>\n",
       "      <th>enunciado_latex</th>\n",
       "      <th>enunciado</th>\n",
       "      <th>solucion</th>\n",
       "      <th>texto</th>\n",
       "      <th>curso</th>\n",
       "      <th>titulo</th>\n",
       "      <th>n_ejercicio</th>\n",
       "      <th>dificultad</th>\n",
       "      <th>n_columnas</th>\n",
       "      <th>puntos</th>\n",
       "      <th>enun_tex</th>\n",
       "      <th>sol_tex</th>\n",
       "    </tr>\n",
       "  </thead>\n",
       "  <tbody>\n",
       "    <tr>\n",
       "      <th>24</th>\n",
       "      <td>$y=\\frac{3 x^{2} - 2 x + 1}{\\left(x - 1\\right)...</td>\n",
       "      <td>diff((3*x**2 - 2*x + 1)/(x - 1)**2)</td>\n",
       "      <td>$y'=- \\frac{4 x}{x^{3} - 3 x^{2} + 3 x - 1}$</td>\n",
       "      <td>Deriva las siguientes funciones (simplificando...</td>\n",
       "      <td>1BC</td>\n",
       "      <td>Final 3ª Ev.</td>\n",
       "      <td>fin305-0</td>\n",
       "      <td>5</td>\n",
       "      <td>3</td>\n",
       "      <td>1</td>\n",
       "      <td>False</td>\n",
       "      <td>False</td>\n",
       "    </tr>\n",
       "    <tr>\n",
       "      <th>25</th>\n",
       "      <td>$y=\\sqrt{\\sqrt{x} + 1}$</td>\n",
       "      <td>diff(sqrt(sqrt(x) + 1))</td>\n",
       "      <td>$y'=\\frac{1}{4 \\sqrt{x} \\sqrt{\\sqrt{x} + 1}}$</td>\n",
       "      <td>Deriva las siguientes funciones (simplificando...</td>\n",
       "      <td>1BC</td>\n",
       "      <td>Final 3ª Ev.</td>\n",
       "      <td>fin305-0</td>\n",
       "      <td>5</td>\n",
       "      <td>3</td>\n",
       "      <td>1</td>\n",
       "      <td>False</td>\n",
       "      <td>False</td>\n",
       "    </tr>\n",
       "    <tr>\n",
       "      <th>26</th>\n",
       "      <td>$y=\\frac{\\log{\\left(x^{2} \\right)}}{x}$</td>\n",
       "      <td>diff(log(x**2)/x)</td>\n",
       "      <td>$y'=\\frac{2 - \\log{\\left(x^{2} \\right)}}{x^{2}}$</td>\n",
       "      <td>Deriva las siguientes funciones (simplificando...</td>\n",
       "      <td>1BC</td>\n",
       "      <td>Final 3ª Ev.</td>\n",
       "      <td>fin305-0</td>\n",
       "      <td>5</td>\n",
       "      <td>3</td>\n",
       "      <td>1</td>\n",
       "      <td>False</td>\n",
       "      <td>False</td>\n",
       "    </tr>\n",
       "    <tr>\n",
       "      <th>27</th>\n",
       "      <td>$y=3 \\sin{\\left(\\cos{\\left(2 x \\right)} \\right)}$</td>\n",
       "      <td>diff(3*sin(cos(2*x)))</td>\n",
       "      <td>$y'=- 6 \\sin{\\left(2 x \\right)} \\cos{\\left(\\co...</td>\n",
       "      <td>Deriva las siguientes funciones (simplificando...</td>\n",
       "      <td>1BC</td>\n",
       "      <td>Final 3ª Ev.</td>\n",
       "      <td>fin305-0</td>\n",
       "      <td>5</td>\n",
       "      <td>3</td>\n",
       "      <td>1</td>\n",
       "      <td>False</td>\n",
       "      <td>False</td>\n",
       "    </tr>\n",
       "  </tbody>\n",
       "</table>\n",
       "</div>"
      ],
      "text/plain": [
       "                                      enunciado_latex  \\\n",
       "24  $y=\\frac{3 x^{2} - 2 x + 1}{\\left(x - 1\\right)...   \n",
       "25                            $y=\\sqrt{\\sqrt{x} + 1}$   \n",
       "26            $y=\\frac{\\log{\\left(x^{2} \\right)}}{x}$   \n",
       "27  $y=3 \\sin{\\left(\\cos{\\left(2 x \\right)} \\right)}$   \n",
       "\n",
       "                              enunciado  \\\n",
       "24  diff((3*x**2 - 2*x + 1)/(x - 1)**2)   \n",
       "25              diff(sqrt(sqrt(x) + 1))   \n",
       "26                    diff(log(x**2)/x)   \n",
       "27                diff(3*sin(cos(2*x)))   \n",
       "\n",
       "                                             solucion  \\\n",
       "24       $y'=- \\frac{4 x}{x^{3} - 3 x^{2} + 3 x - 1}$   \n",
       "25      $y'=\\frac{1}{4 \\sqrt{x} \\sqrt{\\sqrt{x} + 1}}$   \n",
       "26   $y'=\\frac{2 - \\log{\\left(x^{2} \\right)}}{x^{2}}$   \n",
       "27  $y'=- 6 \\sin{\\left(2 x \\right)} \\cos{\\left(\\co...   \n",
       "\n",
       "                                                texto curso        titulo  \\\n",
       "24  Deriva las siguientes funciones (simplificando...   1BC  Final 3ª Ev.   \n",
       "25  Deriva las siguientes funciones (simplificando...   1BC  Final 3ª Ev.   \n",
       "26  Deriva las siguientes funciones (simplificando...   1BC  Final 3ª Ev.   \n",
       "27  Deriva las siguientes funciones (simplificando...   1BC  Final 3ª Ev.   \n",
       "\n",
       "   n_ejercicio  dificultad  n_columnas  puntos  enun_tex  sol_tex  \n",
       "24    fin305-0           5           3       1     False    False  \n",
       "25    fin305-0           5           3       1     False    False  \n",
       "26    fin305-0           5           3       1     False    False  \n",
       "27    fin305-0           5           3       1     False    False  "
      ]
     },
     "metadata": {},
     "output_type": "display_data"
    },
    {
     "data": {
      "text/markdown": [
       "**Ejercicio: **fin305-1"
      ],
      "text/plain": [
       "<IPython.core.display.Markdown object>"
      ]
     },
     "metadata": {},
     "output_type": "display_data"
    },
    {
     "data": {
      "text/html": [
       "<div>\n",
       "<style scoped>\n",
       "    .dataframe tbody tr th:only-of-type {\n",
       "        vertical-align: middle;\n",
       "    }\n",
       "\n",
       "    .dataframe tbody tr th {\n",
       "        vertical-align: top;\n",
       "    }\n",
       "\n",
       "    .dataframe thead th {\n",
       "        text-align: right;\n",
       "    }\n",
       "</style>\n",
       "<table border=\"1\" class=\"dataframe\">\n",
       "  <thead>\n",
       "    <tr style=\"text-align: right;\">\n",
       "      <th></th>\n",
       "      <th>enunciado_latex</th>\n",
       "      <th>enunciado</th>\n",
       "      <th>solucion</th>\n",
       "      <th>texto</th>\n",
       "      <th>curso</th>\n",
       "      <th>titulo</th>\n",
       "      <th>n_ejercicio</th>\n",
       "      <th>dificultad</th>\n",
       "      <th>n_columnas</th>\n",
       "      <th>puntos</th>\n",
       "      <th>enun_tex</th>\n",
       "      <th>sol_tex</th>\n",
       "    </tr>\n",
       "  </thead>\n",
       "  <tbody>\n",
       "    <tr>\n",
       "      <th>28</th>\n",
       "      <td>$y=\\frac{2 x^{2} - 2 x + 1}{\\left(x - 1\\right)...</td>\n",
       "      <td>diff((2*x**2 - 2*x + 1)/(x - 1)**2)</td>\n",
       "      <td>$y'=- \\frac{2 x}{x^{3} - 3 x^{2} + 3 x - 1}$</td>\n",
       "      <td>Deriva las siguientes funciones (simplificando...</td>\n",
       "      <td>1BC</td>\n",
       "      <td>Final 3ª Ev.</td>\n",
       "      <td>fin305-1</td>\n",
       "      <td>5</td>\n",
       "      <td>3</td>\n",
       "      <td>1</td>\n",
       "      <td>False</td>\n",
       "      <td>False</td>\n",
       "    </tr>\n",
       "    <tr>\n",
       "      <th>29</th>\n",
       "      <td>$y=\\sqrt{2 - \\sqrt{x}}$</td>\n",
       "      <td>diff(sqrt(2 - sqrt(x)))</td>\n",
       "      <td>$y'=- \\frac{1}{4 \\sqrt{x} \\sqrt{2 - \\sqrt{x}}}$</td>\n",
       "      <td>Deriva las siguientes funciones (simplificando...</td>\n",
       "      <td>1BC</td>\n",
       "      <td>Final 3ª Ev.</td>\n",
       "      <td>fin305-1</td>\n",
       "      <td>5</td>\n",
       "      <td>3</td>\n",
       "      <td>1</td>\n",
       "      <td>False</td>\n",
       "      <td>False</td>\n",
       "    </tr>\n",
       "    <tr>\n",
       "      <th>30</th>\n",
       "      <td>$y=\\frac{\\log{\\left(x \\right)}}{x}$</td>\n",
       "      <td>diff(log(x)/x)</td>\n",
       "      <td>$y'=\\frac{1 - \\log{\\left(x \\right)}}{x^{2}}$</td>\n",
       "      <td>Deriva las siguientes funciones (simplificando...</td>\n",
       "      <td>1BC</td>\n",
       "      <td>Final 3ª Ev.</td>\n",
       "      <td>fin305-1</td>\n",
       "      <td>5</td>\n",
       "      <td>3</td>\n",
       "      <td>1</td>\n",
       "      <td>False</td>\n",
       "      <td>False</td>\n",
       "    </tr>\n",
       "    <tr>\n",
       "      <th>31</th>\n",
       "      <td>$y=2 \\cos{\\left(\\sin{\\left(2 x \\right)} \\right)}$</td>\n",
       "      <td>diff(2*cos(sin(2*x)))</td>\n",
       "      <td>$y'=- 4 \\sin{\\left(\\sin{\\left(2 x \\right)} \\ri...</td>\n",
       "      <td>Deriva las siguientes funciones (simplificando...</td>\n",
       "      <td>1BC</td>\n",
       "      <td>Final 3ª Ev.</td>\n",
       "      <td>fin305-1</td>\n",
       "      <td>5</td>\n",
       "      <td>3</td>\n",
       "      <td>1</td>\n",
       "      <td>False</td>\n",
       "      <td>False</td>\n",
       "    </tr>\n",
       "  </tbody>\n",
       "</table>\n",
       "</div>"
      ],
      "text/plain": [
       "                                      enunciado_latex  \\\n",
       "28  $y=\\frac{2 x^{2} - 2 x + 1}{\\left(x - 1\\right)...   \n",
       "29                            $y=\\sqrt{2 - \\sqrt{x}}$   \n",
       "30                $y=\\frac{\\log{\\left(x \\right)}}{x}$   \n",
       "31  $y=2 \\cos{\\left(\\sin{\\left(2 x \\right)} \\right)}$   \n",
       "\n",
       "                              enunciado  \\\n",
       "28  diff((2*x**2 - 2*x + 1)/(x - 1)**2)   \n",
       "29              diff(sqrt(2 - sqrt(x)))   \n",
       "30                       diff(log(x)/x)   \n",
       "31                diff(2*cos(sin(2*x)))   \n",
       "\n",
       "                                             solucion  \\\n",
       "28       $y'=- \\frac{2 x}{x^{3} - 3 x^{2} + 3 x - 1}$   \n",
       "29    $y'=- \\frac{1}{4 \\sqrt{x} \\sqrt{2 - \\sqrt{x}}}$   \n",
       "30       $y'=\\frac{1 - \\log{\\left(x \\right)}}{x^{2}}$   \n",
       "31  $y'=- 4 \\sin{\\left(\\sin{\\left(2 x \\right)} \\ri...   \n",
       "\n",
       "                                                texto curso        titulo  \\\n",
       "28  Deriva las siguientes funciones (simplificando...   1BC  Final 3ª Ev.   \n",
       "29  Deriva las siguientes funciones (simplificando...   1BC  Final 3ª Ev.   \n",
       "30  Deriva las siguientes funciones (simplificando...   1BC  Final 3ª Ev.   \n",
       "31  Deriva las siguientes funciones (simplificando...   1BC  Final 3ª Ev.   \n",
       "\n",
       "   n_ejercicio  dificultad  n_columnas  puntos  enun_tex  sol_tex  \n",
       "28    fin305-1           5           3       1     False    False  \n",
       "29    fin305-1           5           3       1     False    False  \n",
       "30    fin305-1           5           3       1     False    False  \n",
       "31    fin305-1           5           3       1     False    False  "
      ]
     },
     "metadata": {},
     "output_type": "display_data"
    },
    {
     "data": {
      "text/markdown": [
       "**Ejercicio: **fin308-0"
      ],
      "text/plain": [
       "<IPython.core.display.Markdown object>"
      ]
     },
     "metadata": {},
     "output_type": "display_data"
    },
    {
     "data": {
      "text/html": [
       "<div>\n",
       "<style scoped>\n",
       "    .dataframe tbody tr th:only-of-type {\n",
       "        vertical-align: middle;\n",
       "    }\n",
       "\n",
       "    .dataframe tbody tr th {\n",
       "        vertical-align: top;\n",
       "    }\n",
       "\n",
       "    .dataframe thead th {\n",
       "        text-align: right;\n",
       "    }\n",
       "</style>\n",
       "<table border=\"1\" class=\"dataframe\">\n",
       "  <thead>\n",
       "    <tr style=\"text-align: right;\">\n",
       "      <th></th>\n",
       "      <th>enunciado_latex</th>\n",
       "      <th>enunciado</th>\n",
       "      <th>solucion</th>\n",
       "      <th>texto</th>\n",
       "      <th>curso</th>\n",
       "      <th>titulo</th>\n",
       "      <th>n_ejercicio</th>\n",
       "      <th>dificultad</th>\n",
       "      <th>n_columnas</th>\n",
       "      <th>puntos</th>\n",
       "      <th>enun_tex</th>\n",
       "      <th>sol_tex</th>\n",
       "    </tr>\n",
       "  </thead>\n",
       "  <tbody>\n",
       "    <tr>\n",
       "      <th>0</th>\n",
       "      <td>Se escoge una bola cualquiera de la caja A y s...</td>\n",
       "      <td>Se escoge una bola cualquiera de la caja A y s...</td>\n",
       "      <td>$\\frac{3}{5}\\cdot\\frac{5}{9}+\\frac{2}{5}\\cdot\\...</td>\n",
       "      <td>Se dispone de dos cajas, la caja A contiene 3 ...</td>\n",
       "      <td>1BC</td>\n",
       "      <td>Final 3ª Ev.</td>\n",
       "      <td>fin308-0</td>\n",
       "      <td>1</td>\n",
       "      <td>1</td>\n",
       "      <td>1</td>\n",
       "      <td>False</td>\n",
       "      <td>False</td>\n",
       "    </tr>\n",
       "    <tr>\n",
       "      <th>1</th>\n",
       "      <td>Ahora volvemos a la situación original de las ...</td>\n",
       "      <td>Ahora volvemos a la situación original de las ...</td>\n",
       "      <td>$\\dfrac{\\frac{1}{2}\\cdot\\frac{2}{5}}{\\frac{1}{...</td>\n",
       "      <td>Se dispone de dos cajas, la caja A contiene 3 ...</td>\n",
       "      <td>1BC</td>\n",
       "      <td>Final 3ª Ev.</td>\n",
       "      <td>fin308-0</td>\n",
       "      <td>1</td>\n",
       "      <td>1</td>\n",
       "      <td>1</td>\n",
       "      <td>False</td>\n",
       "      <td>False</td>\n",
       "    </tr>\n",
       "  </tbody>\n",
       "</table>\n",
       "</div>"
      ],
      "text/plain": [
       "                                     enunciado_latex  \\\n",
       "0  Se escoge una bola cualquiera de la caja A y s...   \n",
       "1  Ahora volvemos a la situación original de las ...   \n",
       "\n",
       "                                           enunciado  \\\n",
       "0  Se escoge una bola cualquiera de la caja A y s...   \n",
       "1  Ahora volvemos a la situación original de las ...   \n",
       "\n",
       "                                            solucion  \\\n",
       "0  $\\frac{3}{5}\\cdot\\frac{5}{9}+\\frac{2}{5}\\cdot\\...   \n",
       "1  $\\dfrac{\\frac{1}{2}\\cdot\\frac{2}{5}}{\\frac{1}{...   \n",
       "\n",
       "                                               texto curso        titulo  \\\n",
       "0  Se dispone de dos cajas, la caja A contiene 3 ...   1BC  Final 3ª Ev.   \n",
       "1  Se dispone de dos cajas, la caja A contiene 3 ...   1BC  Final 3ª Ev.   \n",
       "\n",
       "  n_ejercicio  dificultad  n_columnas  puntos  enun_tex  sol_tex  \n",
       "0    fin308-0           1           1       1     False    False  \n",
       "1    fin308-0           1           1       1     False    False  "
      ]
     },
     "metadata": {},
     "output_type": "display_data"
    },
    {
     "data": {
      "text/markdown": [
       "**Ejercicio: **fin308-1"
      ],
      "text/plain": [
       "<IPython.core.display.Markdown object>"
      ]
     },
     "metadata": {},
     "output_type": "display_data"
    },
    {
     "data": {
      "text/html": [
       "<div>\n",
       "<style scoped>\n",
       "    .dataframe tbody tr th:only-of-type {\n",
       "        vertical-align: middle;\n",
       "    }\n",
       "\n",
       "    .dataframe tbody tr th {\n",
       "        vertical-align: top;\n",
       "    }\n",
       "\n",
       "    .dataframe thead th {\n",
       "        text-align: right;\n",
       "    }\n",
       "</style>\n",
       "<table border=\"1\" class=\"dataframe\">\n",
       "  <thead>\n",
       "    <tr style=\"text-align: right;\">\n",
       "      <th></th>\n",
       "      <th>enunciado_latex</th>\n",
       "      <th>enunciado</th>\n",
       "      <th>solucion</th>\n",
       "      <th>texto</th>\n",
       "      <th>curso</th>\n",
       "      <th>titulo</th>\n",
       "      <th>n_ejercicio</th>\n",
       "      <th>dificultad</th>\n",
       "      <th>n_columnas</th>\n",
       "      <th>puntos</th>\n",
       "      <th>enun_tex</th>\n",
       "      <th>sol_tex</th>\n",
       "    </tr>\n",
       "  </thead>\n",
       "  <tbody>\n",
       "    <tr>\n",
       "      <th>2</th>\n",
       "      <td>Se escoge una bola cualquiera de la caja A y s...</td>\n",
       "      <td>Se escoge una bola cualquiera de la caja A y s...</td>\n",
       "      <td>$\\frac{3}{4}\\cdot\\frac{5}{9}+\\frac{1}{4}\\cdot\\...</td>\n",
       "      <td>Se dispone de dos cajas, la caja A contiene 6 ...</td>\n",
       "      <td>1BC</td>\n",
       "      <td>Final 3ª Ev.</td>\n",
       "      <td>fin308-1</td>\n",
       "      <td>1</td>\n",
       "      <td>1</td>\n",
       "      <td>1</td>\n",
       "      <td>False</td>\n",
       "      <td>False</td>\n",
       "    </tr>\n",
       "    <tr>\n",
       "      <th>3</th>\n",
       "      <td>Ahora volvemos a la situación original de las ...</td>\n",
       "      <td>Ahora volvemos a la situación original de las ...</td>\n",
       "      <td>$\\dfrac{\\frac{1}{2}\\cdot\\frac{1}{4}}{\\frac{1}{...</td>\n",
       "      <td>Se dispone de dos cajas, la caja A contiene 6 ...</td>\n",
       "      <td>1BC</td>\n",
       "      <td>Final 3ª Ev.</td>\n",
       "      <td>fin308-1</td>\n",
       "      <td>1</td>\n",
       "      <td>1</td>\n",
       "      <td>1</td>\n",
       "      <td>False</td>\n",
       "      <td>False</td>\n",
       "    </tr>\n",
       "  </tbody>\n",
       "</table>\n",
       "</div>"
      ],
      "text/plain": [
       "                                     enunciado_latex  \\\n",
       "2  Se escoge una bola cualquiera de la caja A y s...   \n",
       "3  Ahora volvemos a la situación original de las ...   \n",
       "\n",
       "                                           enunciado  \\\n",
       "2  Se escoge una bola cualquiera de la caja A y s...   \n",
       "3  Ahora volvemos a la situación original de las ...   \n",
       "\n",
       "                                            solucion  \\\n",
       "2  $\\frac{3}{4}\\cdot\\frac{5}{9}+\\frac{1}{4}\\cdot\\...   \n",
       "3  $\\dfrac{\\frac{1}{2}\\cdot\\frac{1}{4}}{\\frac{1}{...   \n",
       "\n",
       "                                               texto curso        titulo  \\\n",
       "2  Se dispone de dos cajas, la caja A contiene 6 ...   1BC  Final 3ª Ev.   \n",
       "3  Se dispone de dos cajas, la caja A contiene 6 ...   1BC  Final 3ª Ev.   \n",
       "\n",
       "  n_ejercicio  dificultad  n_columnas  puntos  enun_tex  sol_tex  \n",
       "2    fin308-1           1           1       1     False    False  \n",
       "3    fin308-1           1           1       1     False    False  "
      ]
     },
     "metadata": {},
     "output_type": "display_data"
    },
    {
     "data": {
      "text/markdown": [
       "**Ejercicio: **fin308-2"
      ],
      "text/plain": [
       "<IPython.core.display.Markdown object>"
      ]
     },
     "metadata": {},
     "output_type": "display_data"
    },
    {
     "data": {
      "text/html": [
       "<div>\n",
       "<style scoped>\n",
       "    .dataframe tbody tr th:only-of-type {\n",
       "        vertical-align: middle;\n",
       "    }\n",
       "\n",
       "    .dataframe tbody tr th {\n",
       "        vertical-align: top;\n",
       "    }\n",
       "\n",
       "    .dataframe thead th {\n",
       "        text-align: right;\n",
       "    }\n",
       "</style>\n",
       "<table border=\"1\" class=\"dataframe\">\n",
       "  <thead>\n",
       "    <tr style=\"text-align: right;\">\n",
       "      <th></th>\n",
       "      <th>enunciado_latex</th>\n",
       "      <th>enunciado</th>\n",
       "      <th>solucion</th>\n",
       "      <th>texto</th>\n",
       "      <th>curso</th>\n",
       "      <th>titulo</th>\n",
       "      <th>n_ejercicio</th>\n",
       "      <th>dificultad</th>\n",
       "      <th>n_columnas</th>\n",
       "      <th>puntos</th>\n",
       "      <th>enun_tex</th>\n",
       "      <th>sol_tex</th>\n",
       "    </tr>\n",
       "  </thead>\n",
       "  <tbody>\n",
       "    <tr>\n",
       "      <th>4</th>\n",
       "      <td>Se escoge una bola cualquiera de la caja A y s...</td>\n",
       "      <td>Se escoge una bola cualquiera de la caja A y s...</td>\n",
       "      <td>$\\frac{3}{5}\\cdot\\frac{5}{9}+\\frac{2}{5}\\cdot\\...</td>\n",
       "      <td>Se dispone de dos cajas, la caja A contiene 3 ...</td>\n",
       "      <td>1BC</td>\n",
       "      <td>Final 3ª Ev.</td>\n",
       "      <td>fin308-2</td>\n",
       "      <td>1</td>\n",
       "      <td>1</td>\n",
       "      <td>1</td>\n",
       "      <td>False</td>\n",
       "      <td>False</td>\n",
       "    </tr>\n",
       "    <tr>\n",
       "      <th>5</th>\n",
       "      <td>Ahora volvemos a la situación original de las ...</td>\n",
       "      <td>Ahora volvemos a la situación original de las ...</td>\n",
       "      <td>$\\dfrac{\\frac{1}{2}\\cdot\\frac{2}{5}}{\\frac{1}{...</td>\n",
       "      <td>Se dispone de dos cajas, la caja A contiene 3 ...</td>\n",
       "      <td>1BC</td>\n",
       "      <td>Final 3ª Ev.</td>\n",
       "      <td>fin308-2</td>\n",
       "      <td>1</td>\n",
       "      <td>1</td>\n",
       "      <td>1</td>\n",
       "      <td>False</td>\n",
       "      <td>False</td>\n",
       "    </tr>\n",
       "  </tbody>\n",
       "</table>\n",
       "</div>"
      ],
      "text/plain": [
       "                                     enunciado_latex  \\\n",
       "4  Se escoge una bola cualquiera de la caja A y s...   \n",
       "5  Ahora volvemos a la situación original de las ...   \n",
       "\n",
       "                                           enunciado  \\\n",
       "4  Se escoge una bola cualquiera de la caja A y s...   \n",
       "5  Ahora volvemos a la situación original de las ...   \n",
       "\n",
       "                                            solucion  \\\n",
       "4  $\\frac{3}{5}\\cdot\\frac{5}{9}+\\frac{2}{5}\\cdot\\...   \n",
       "5  $\\dfrac{\\frac{1}{2}\\cdot\\frac{2}{5}}{\\frac{1}{...   \n",
       "\n",
       "                                               texto curso        titulo  \\\n",
       "4  Se dispone de dos cajas, la caja A contiene 3 ...   1BC  Final 3ª Ev.   \n",
       "5  Se dispone de dos cajas, la caja A contiene 3 ...   1BC  Final 3ª Ev.   \n",
       "\n",
       "  n_ejercicio  dificultad  n_columnas  puntos  enun_tex  sol_tex  \n",
       "4    fin308-2           1           1       1     False    False  \n",
       "5    fin308-2           1           1       1     False    False  "
      ]
     },
     "metadata": {},
     "output_type": "display_data"
    }
   ],
   "source": [
    "escribir_preambulo(fichero, titulo, 'ejercicios')\n",
    "for s in df_ejercicios.groupby('n_ejercicio').count().index : \n",
    "    display(md(\"**Ejercicio: **\" + s ))\n",
    "    display(df_ejercicios[df_ejercicios.n_ejercicio == s])\n",
    "    escribir_ejercicios(df_ejercicios[df_ejercicios.n_ejercicio == s],fichero)\n",
    "\n",
    "escribir_fin(fichero)"
   ]
  }
 ],
 "metadata": {
  "kernelspec": {
   "display_name": "Python 3",
   "language": "python",
   "name": "python3"
  },
  "language_info": {
   "codemirror_mode": {
    "name": "ipython",
    "version": 3
   },
   "file_extension": ".py",
   "mimetype": "text/x-python",
   "name": "python",
   "nbconvert_exporter": "python",
   "pygments_lexer": "ipython3",
   "version": "3.6.8"
  }
 },
 "nbformat": 4,
 "nbformat_minor": 2
}
