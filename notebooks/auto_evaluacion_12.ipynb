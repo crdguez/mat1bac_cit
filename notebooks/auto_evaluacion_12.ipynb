{
 "cells": [
  {
   "cell_type": "code",
   "execution_count": 1,
   "metadata": {},
   "outputs": [
    {
     "name": "stdout",
     "output_type": "stream",
     "text": [
      "IPython console for SymPy 1.2 (Python 3.6.5-64-bit) (ground types: gmpy)\n",
      "\n",
      "These commands were executed:\n",
      ">>> from __future__ import division\n",
      ">>> from sympy import *\n",
      ">>> x, y, z, t = symbols('x y z t')\n",
      ">>> k, m, n = symbols('k m n', integer=True)\n",
      ">>> f, g, h = symbols('f g h', cls=Function)\n",
      ">>> init_printing()\n",
      "\n",
      "Documentation can be found at http://docs.sympy.org/1.2/\n",
      "\n"
     ]
    }
   ],
   "source": [
    "from sympy import init_session\n",
    "from sympy.parsing.latex import parse_latex\n",
    "from sympy.parsing.sympy_parser import parse_expr\n",
    "from sympy.functions.combinatorial.numbers import nC, nP, nT\n",
    "from IPython.display import Markdown as md\n",
    "from IPython.display import display\n",
    "import pandas as pd\n",
    "\n",
    "from sympy import solve_poly_inequality, reduce_abs_inequality\n",
    "from sympy.solvers.inequalities import solve_univariate_inequality, reduce_rational_inequalities\n",
    "\n",
    "init_session()\n",
    "\n",
    "a, b, c, d = symbols('a b c d', real = True)\n",
    "from docparts import añadir_ejercicios, doc_ejer, escribir_preambulo, escribir_ejercicios, escribir_fin\n",
    "\n",
    "df_ejercicios = pd.DataFrame()\n",
    "\n",
    "fichero = 'autoev12'\n",
    "titulo = 'Autoevaluación 2 ev1'\n",
    "curso = '1BC'\n"
   ]
  },
  {
   "cell_type": "code",
   "execution_count": 2,
   "metadata": {},
   "outputs": [],
   "source": [
    "def simbolo (operacion):\n",
    "    if operacion == '<=' :\n",
    "        return('\\leq')\n",
    "    elif operacion == '>=' :\n",
    "        return('\\geq')\n",
    "    else :\n",
    "        return(operacion)"
   ]
  },
  {
   "cell_type": "code",
   "execution_count": 3,
   "metadata": {},
   "outputs": [],
   "source": [
    "def sol_sist(sist):\n",
    "    # Función que recibe un sistema de ecuaciones en Latex y devuelve: \n",
    "    # El sistema en latex, la lista de exuaciones sympy, la solución y la matriz de ecuacuibes\n",
    "    \n",
    "    sist_latex = r\"\"\"\\left\\{\\begin{matrix}\"\"\"\n",
    "    eq = []\n",
    "    sb = EmptySet() # variables de las ecuaciones\n",
    "    \n",
    "    for i,e in enumerate(sist):\n",
    "        sist_latex = sist_latex + e + r'\\\\ '\n",
    "        eq.append(Eq(parse_latex(e[:e.find('=')]),parse_latex(e[e.find('=')+1:])).simplify())\n",
    "        sb = parse_latex(e[:e.find('=')]).free_symbols.union(sb)\n",
    "        sb = parse_latex(e[e.find('=')+1:]).free_symbols.union(sb)\n",
    "        \n",
    "       \n",
    "\n",
    "    sist_latex = sist_latex + r'\\end{matrix}\\right.'\n",
    "    \n",
    "    matriz = linear_eq_to_matrix(eq,list(sb))\n",
    "    matriz = matriz[0].row_join(matriz[1])\n",
    "    \n",
    "    return [sist_latex, eq, solve(eq), matriz]    "
   ]
  },
  {
   "cell_type": "code",
   "execution_count": 4,
   "metadata": {},
   "outputs": [
    {
     "data": {
      "text/markdown": [
       "**Efectúa simplificando el resultado si es posible:**"
      ],
      "text/plain": [
       "<IPython.core.display.Markdown object>"
      ]
     },
     "metadata": {},
     "output_type": "display_data"
    },
    {
     "data": {
      "text/markdown": [
       "$\\frac{\\frac{x^2+2x+1}{x - 3}}{\\frac{x+1}{x^2 -9 }} \\rightarrow x^{2} + 4 x + 3$"
      ],
      "text/plain": [
       "<IPython.core.display.Markdown object>"
      ]
     },
     "metadata": {},
     "output_type": "display_data"
    },
    {
     "data": {
      "text/markdown": [
       "$\\frac{3x^2+1}{x^2+x}  - \\frac{2x}{x+1} \\rightarrow \\frac{x^{2} + 1}{x^{2} + x}$"
      ],
      "text/plain": [
       "<IPython.core.display.Markdown object>"
      ]
     },
     "metadata": {},
     "output_type": "display_data"
    },
    {
     "data": {
      "text/markdown": [
       "$\\frac{\\frac{x^2-2x+1}{x + 3}}{\\frac{x-1}{x^2 -9 }} \\rightarrow x^{2} - 4 x + 3$"
      ],
      "text/plain": [
       "<IPython.core.display.Markdown object>"
      ]
     },
     "metadata": {},
     "output_type": "display_data"
    },
    {
     "data": {
      "text/markdown": [
       "$\\frac{3x^2+1}{x^2+x}  - \\frac{2x}{x+1} \\rightarrow \\frac{x^{2} + 1}{x^{2} + x}$"
      ],
      "text/plain": [
       "<IPython.core.display.Markdown object>"
      ]
     },
     "metadata": {},
     "output_type": "display_data"
    },
    {
     "data": {
      "text/markdown": [
       "$\\frac{1}{x^2-x} + \\frac{2x-1}{x-1} - \\frac{3x-1}{x} \\rightarrow - \\frac{x - 3}{x - 1}$"
      ],
      "text/plain": [
       "<IPython.core.display.Markdown object>"
      ]
     },
     "metadata": {},
     "output_type": "display_data"
    },
    {
     "data": {
      "text/markdown": [
       "$\\frac{x}{{1 + \\frac{1}{{1 + \\frac{1}{x}}}}} \\rightarrow \\frac{x^{2} + x}{2 x + 1}$"
      ],
      "text/plain": [
       "<IPython.core.display.Markdown object>"
      ]
     },
     "metadata": {},
     "output_type": "display_data"
    },
    {
     "data": {
      "text/markdown": [
       "$\\frac{{\\frac{x}{{x - 2}} - \\frac{x}{{x + 2}}}}{{1 - \\frac{4}{{{x^2} - 4}}}} \\rightarrow \\frac{4 x}{x^{2} - 8}$"
      ],
      "text/plain": [
       "<IPython.core.display.Markdown object>"
      ]
     },
     "metadata": {},
     "output_type": "display_data"
    },
    {
     "data": {
      "text/markdown": [
       "$\\frac{1}{{\\frac{{x + 1}}{{x - 1}} - \\frac{{x - 1}}{{x + 1}}}} \\rightarrow \\frac{x^{2} - 1}{4 x}$"
      ],
      "text/plain": [
       "<IPython.core.display.Markdown object>"
      ]
     },
     "metadata": {},
     "output_type": "display_data"
    },
    {
     "data": {
      "text/markdown": [
       "$( {{x^3} + x} )\\cdot( {1 - \\frac{{2x}}{{2x + \\frac{2}{x}}}}) \\rightarrow x$"
      ],
      "text/plain": [
       "<IPython.core.display.Markdown object>"
      ]
     },
     "metadata": {},
     "output_type": "display_data"
    },
    {
     "data": {
      "text/markdown": [
       "$( {\\frac{1}{x} - \\frac{1}{{x + 1}}})( {x - \\frac{{x + 1}}{{x - 1}}}) \\rightarrow \\frac{x^{2} - 2 x - 1}{x^{3} - x}$"
      ],
      "text/plain": [
       "<IPython.core.display.Markdown object>"
      ]
     },
     "metadata": {},
     "output_type": "display_data"
    },
    {
     "data": {
      "text/markdown": [
       "$\\frac{1}{x}( {\\frac{2}{x} - \\frac{3x}{{x + 1}}} ) - \\frac{{x}}{x-1}( {3 - \\frac{4}{{x + 1}}} ) \\rightarrow - \\frac{3 x^{4} + 2 x^{3} - 5 x^{2} + 2}{x^{4} - x^{2}}$"
      ],
      "text/plain": [
       "<IPython.core.display.Markdown object>"
      ]
     },
     "metadata": {},
     "output_type": "display_data"
    },
    {
     "data": {
      "text/markdown": [
       "$\\frac{{\\frac{{x - 1}}{{x + 2}} - \\frac{{x + 2}}{{x - 1}}}}{{1 - \\frac{1}{{x - 1}}}} \\rightarrow - \\frac{6 x + 3}{x^{2} - 4}$"
      ],
      "text/plain": [
       "<IPython.core.display.Markdown object>"
      ]
     },
     "metadata": {},
     "output_type": "display_data"
    }
   ],
   "source": [
    "# Página 15 ejercicio 9\n",
    "\n",
    "texto_ejercicio = 'Efectúa simplificando el resultado si es posible:'\n",
    "n_ejercicio = 'p015e09'\n",
    "\n",
    "display(md(\"**\"+texto_ejercicio+\"**\"))\n",
    "\n",
    "enunciado_latex = [r'\\frac{\\frac{x^2+2x+1}{x - 3}}{\\frac{x+1}{x^2 -9 }}',\n",
    "                   r'\\frac{3x^2+1}{x^2+x}  - \\frac{2x}{x+1}',\n",
    "                   r'\\frac{\\frac{x^2-2x+1}{x + 3}}{\\frac{x-1}{x^2 -9 }}',\n",
    "                   r'\\frac{3x^2+1}{x^2+x}  - \\frac{2x}{x+1}',\n",
    "                   r'\\frac{1}{x^2-x} + \\frac{2x-1}{x-1} - \\frac{3x-1}{x}',\n",
    "                   r'\\frac{x}{{1 + \\frac{1}{{1 + \\frac{1}{x}}}}}',\n",
    "                   r'\\frac{{\\frac{x}{{x - 2}} - \\frac{x}{{x + 2}}}}{{1 - \\frac{4}{{{x^2} - 4}}}}',\n",
    "                   r'\\frac{1}{{\\frac{{x + 1}}{{x - 1}} - \\frac{{x - 1}}{{x + 1}}}}',\n",
    "                   r'( {{x^3} + x} )\\cdot( {1 - \\frac{{2x}}{{2x + \\frac{2}{x}}}})',\n",
    "                   r'( {\\frac{1}{x} - \\frac{1}{{x + 1}}})( {x - \\frac{{x + 1}}{{x - 1}}})',\n",
    "                   r'\\frac{1}{x}( {\\frac{2}{x} - \\frac{3x}{{x + 1}}} ) - \\frac{{x}}{x-1}( {3 - \\frac{4}{{x + 1}}} )',\n",
    "                   r'\\frac{{\\frac{{x - 1}}{{x + 2}} - \\frac{{x + 2}}{{x - 1}}}}{{1 - \\frac{1}{{x - 1}}}}'                 \n",
    "                  ]\n",
    "\n",
    "\n",
    "\n",
    "\n",
    "enunciado, solucion = [], []\n",
    "\n",
    "for i, s in enumerate(enunciado_latex) : \n",
    "    enunciado.append(parse_latex(s))\n",
    "    solucion.append(latex(cancel(parse_latex(s), domain = 'QQ<sqrt(2)>'))) \n",
    "    display(md(\"$\"+ s +\" \\\\rightarrow \" + solucion[i] +\"$\"))\n",
    "\n",
    "df_ejercicios = df_ejercicios.append(añadir_ejercicios(enunciado_latex, enunciado, solucion, texto_ejercicio, curso, titulo , n_ejercicio, '1', '2'), ignore_index=True)\n"
   ]
  },
  {
   "cell_type": "code",
   "execution_count": 5,
   "metadata": {},
   "outputs": [
    {
     "data": {
      "text/markdown": [
       "**Resuelve los sistemas:**"
      ],
      "text/plain": [
       "<IPython.core.display.Markdown object>"
      ]
     },
     "metadata": {},
     "output_type": "display_data"
    },
    {
     "data": {
      "text/markdown": [
       "$\\left\\{\\begin{matrix}2x-y+2z=1\\\\ x+y-z = 3\\\\ 3x+2y+z =  5\\\\ \\end{matrix}\\right. \\rightarrow \\left[\\begin{matrix}2 & 2 & -1 & 1\\\\0 & 2 & \\frac{1}{2} & \\frac{7}{2}\\\\0 & 0 & 2 & 1\\end{matrix}\\right] \\rightarrow  \\\\ \\left \\{ x : \\frac{13}{8}, \\quad y : \\frac{1}{2}, \\quad z : - \\frac{7}{8}\\right \\}$"
      ],
      "text/plain": [
       "<IPython.core.display.Markdown object>"
      ]
     },
     "metadata": {},
     "output_type": "display_data"
    },
    {
     "data": {
      "text/markdown": [
       "$\\left\\{\\begin{matrix}x - y + z = 1\\\\ 2x + y - 2z = 2\\\\ x+2y-3z = 1\\\\ \\end{matrix}\\right. \\rightarrow \\left[\\begin{matrix}1 & 1 & -1 & 1\\\\0 & 4 & -1 & 4\\\\0 & 0 & 0 & 0\\end{matrix}\\right] \\rightarrow  \\\\ \\left \\{ x : \\frac{z}{3} + 1, \\quad y : \\frac{4 z}{3}\\right \\}$"
      ],
      "text/plain": [
       "<IPython.core.display.Markdown object>"
      ]
     },
     "metadata": {},
     "output_type": "display_data"
    },
    {
     "data": {
      "text/markdown": [
       "$\\left\\{\\begin{matrix}x+y+z=1\\\\ x + 2y - z = 2\\\\ 2x +3y = 4\\\\ \\end{matrix}\\right. \\rightarrow \\left[\\begin{matrix}1 & 1 & 1 & 1\\\\0 & 2 & 3 & 3\\\\0 & 0 & 0 & 1\\end{matrix}\\right] \\rightarrow  \\\\ \\left [ \\right ]$"
      ],
      "text/plain": [
       "<IPython.core.display.Markdown object>"
      ]
     },
     "metadata": {},
     "output_type": "display_data"
    },
    {
     "data": {
      "text/markdown": [
       "$\\left\\{\\begin{matrix}x+y+z=1\\\\ x + 2y - z = 2\\\\ 2x +3y = 3\\\\ \\end{matrix}\\right. \\rightarrow \\left[\\begin{matrix}1 & 1 & 1 & 1\\\\0 & 2 & 3 & 3\\\\0 & 0 & 0 & 0\\end{matrix}\\right] \\rightarrow  \\\\ \\left \\{ x : - 3 z, \\quad y : 2 z + 1\\right \\}$"
      ],
      "text/plain": [
       "<IPython.core.display.Markdown object>"
      ]
     },
     "metadata": {},
     "output_type": "display_data"
    },
    {
     "data": {
      "text/markdown": [
       "$\\left\\{\\begin{matrix}\\frac{x}{2} + \\frac{y}{3} + z = -\\frac{1}{2}\\\\ x - \\frac{y}{2} + \\frac{z}{3} = -1\\\\  \\frac{x}{3} - y - \\frac{z}{2} = -\\frac{1}{6}\\\\ \\end{matrix}\\right. \\rightarrow \\left[\\begin{matrix}1 & \\frac{1}{2} & \\frac{1}{3} & - \\frac{1}{2}\\\\0 & \\frac{5}{6} & - \\frac{11}{18} & - \\frac{5}{6}\\\\0 & 0 & - \\frac{73}{180} & \\frac{1}{6}\\end{matrix}\\right] \\rightarrow  \\\\ \\left \\{ x : - \\frac{95}{73}, \\quad y : - \\frac{30}{73}, \\quad z : \\frac{21}{73}\\right \\}$"
      ],
      "text/plain": [
       "<IPython.core.display.Markdown object>"
      ]
     },
     "metadata": {},
     "output_type": "display_data"
    },
    {
     "data": {
      "text/markdown": [
       "$\\left\\{\\begin{matrix}\\frac{x}{2} + \\frac{y}{3} + \\frac{z}{3} = -2\\\\ \\frac{x}{3} - \\frac{y}{2} + \\frac{z}{3} = 2\\\\ \\frac{x}{6} + \\frac{y}{2} + \\frac{z}{2} = 1\\\\ \\end{matrix}\\right. \\rightarrow \\left[\\begin{matrix}\\frac{1}{3} & \\frac{1}{2} & \\frac{1}{3} & -2\\\\0 & - \\frac{1}{6} & - \\frac{5}{6} & 4\\\\0 & 0 & \\frac{35}{12} & -10\\end{matrix}\\right] \\rightarrow  \\\\ \\left \\{ x : - \\frac{48}{7}, \\quad y : - \\frac{24}{7}, \\quad z : \\frac{54}{7}\\right \\}$"
      ],
      "text/plain": [
       "<IPython.core.display.Markdown object>"
      ]
     },
     "metadata": {},
     "output_type": "display_data"
    },
    {
     "data": {
      "text/markdown": [
       "$\\left\\{\\begin{matrix}x - y + z = 5\\\\ \\frac{{x - 1}}{2} + \\frac{y}{3} = 1\\\\ \\frac{{2x + y}}{2} - \\frac{{3z + y}}{3} = 4\\\\ \\end{matrix}\\right. \\rightarrow \\left[\\begin{matrix}1 & 1 & -1 & 5\\\\0 & \\frac{1}{2} & \\frac{1}{3} & \\frac{3}{2}\\\\0 & 0 & - \\frac{13}{6} & 3\\end{matrix}\\right] \\rightarrow  \\\\ \\left \\{ x : \\frac{51}{13}, \\quad y : - \\frac{18}{13}, \\quad z : - \\frac{4}{13}\\right \\}$"
      ],
      "text/plain": [
       "<IPython.core.display.Markdown object>"
      ]
     },
     "metadata": {},
     "output_type": "display_data"
    }
   ],
   "source": [
    "# Página 21 ejercicio 23\n",
    "\n",
    "texto_ejercicio = 'Resuelve los sistemas:'\n",
    "n_ejercicio = 'p021e23'\n",
    "\n",
    "display(md(\"**\"+texto_ejercicio+\"**\"))\n",
    "\n",
    "pre_enunciado_latex = [[r'2x-y+2z=1',r'x+y-z = 3', r'3x+2y+z =  5'],\n",
    "                       [r'x - y + z = 1',r'2x + y - 2z = 2', r'x+2y-3z = 1'],\n",
    "                       [r'x+y+z=1',r'x + 2y - z = 2', r'2x +3y = 4'],\n",
    "                       [r'x+y+z=1',r'x + 2y - z = 2', r'2x +3y = 3'],\n",
    "                       [r'\\frac{x}{2} + \\frac{y}{3} + z = -\\frac{1}{2}',r'x - \\frac{y}{2} + \\frac{z}{3} = -1', r' \\frac{x}{3} - y - \\frac{z}{2} = -\\frac{1}{6}'],\n",
    "                       [r'\\frac{x}{2} + \\frac{y}{3} + \\frac{z}{3} = -2',r'\\frac{x}{3} - \\frac{y}{2} + \\frac{z}{3} = 2', r'\\frac{x}{6} + \\frac{y}{2} + \\frac{z}{2} = 1'],\n",
    "                       [r'x - y + z = 5',r'\\frac{{x - 1}}{2} + \\frac{y}{3} = 1', r'\\frac{{2x + y}}{2} - \\frac{{3z + y}}{3} = 4']\n",
    "                       \n",
    "                      ]\n",
    "\n",
    "\n",
    "\n",
    "\n",
    "enunciado_latex,enunciado, solucion = [], [], []\n",
    "\n",
    "for i, s in enumerate(pre_enunciado_latex) :\n",
    "    enl, en , so, mat = sol_sist(s)\n",
    "    enunciado_latex.append(enl)\n",
    "    enunciado.append(en)\n",
    "    so_l=latex(mat.LUdecomposition()[1])+ r' \\rightarrow  \\\\ '+latex(so)\n",
    "    solucion.append(so_l) \n",
    "    display(md(\"$\"+ enunciado_latex[i] +\" \\\\rightarrow \" + solucion[i] +\"$\"))\n",
    "\n",
    "df_ejercicios = df_ejercicios.append(añadir_ejercicios(enunciado_latex, enunciado, solucion, texto_ejercicio, curso, titulo , n_ejercicio, '1', '2'), ignore_index=True)\n"
   ]
  },
  {
   "cell_type": "code",
   "execution_count": 6,
   "metadata": {},
   "outputs": [
    {
     "data": {
      "text/markdown": [
       "**Resuelve mediante expresiones algebraicas:**"
      ],
      "text/plain": [
       "<IPython.core.display.Markdown object>"
      ]
     },
     "metadata": {},
     "output_type": "display_data"
    },
    {
     "data": {
      "text/markdown": [
       "En un corral hay conejos y gallinas, en total 50 cabezas y 134 patas. \n",
       "    ¿Cuántos animales hay de cada clase?$ \\ \\\\   \\rightarrow  \\left\\{\\begin{matrix}50=x+y\\\\ 134=4x+2y\\\\ \\end{matrix}\\right.  \\rightarrow  \\\\\\left[\\begin{matrix}1 & 1 & 50\\\\0 & 2 & 34\\end{matrix}\\right] \\rightarrow  \\left \\{ x : 17, \\quad y : 33\\right \\}$"
      ],
      "text/plain": [
       "<IPython.core.display.Markdown object>"
      ]
     },
     "metadata": {},
     "output_type": "display_data"
    },
    {
     "data": {
      "text/markdown": [
       "Se tienen 140 euros, en 20 billetes, unos de 5 euros y de 10 los restantes. \n",
       "    ¿Cuántos billetes hay de cada clase?$ \\ \\\\   \\rightarrow  \\left\\{\\begin{matrix}140=5x+10y\\\\ 20=x+y\\\\ \\end{matrix}\\right.  \\rightarrow  \\\\\\left[\\begin{matrix}10 & 5 & 140\\\\0 & \\frac{1}{2} & 6\\end{matrix}\\right] \\rightarrow  \\left \\{ x : 12, \\quad y : 8\\right \\}$"
      ],
      "text/plain": [
       "<IPython.core.display.Markdown object>"
      ]
     },
     "metadata": {},
     "output_type": "display_data"
    },
    {
     "data": {
      "text/markdown": [
       "Un librero vendió 84 libros, unos a 45 euros y otros a 36 y obtuvo de la venta 3.105 euros. ¿Cuántos vendió de\n",
       "cada clase?$ \\ \\\\   \\rightarrow  \\left\\{\\begin{matrix}3105=45x+36y\\\\ 84=x+y\\\\ \\end{matrix}\\right.  \\rightarrow  \\\\\\left[\\begin{matrix}36 & 45 & 3105\\\\0 & - \\frac{1}{4} & - \\frac{9}{4}\\end{matrix}\\right] \\rightarrow  \\left \\{ x : 9, \\quad y : 75\\right \\}$"
      ],
      "text/plain": [
       "<IPython.core.display.Markdown object>"
      ]
     },
     "metadata": {},
     "output_type": "display_data"
    },
    {
     "data": {
      "text/markdown": [
       "En una clase los 2/3 del número de alumnas es igual a los 5/7 del número de alumnos. Si el número de\n",
       "alumnas aumenta en 26, entonces es igual al doble del número de alumnos. ¿Cuántos alumnos y alumnas\n",
       "tiene la clase?$ \\ \\\\   \\rightarrow  \\left\\{\\begin{matrix}\\frac{2x}{3}=\\frac{5y}{7}\\\\ x+26=2y\\\\ \\end{matrix}\\right.  \\rightarrow  \\\\\\left[\\begin{matrix}\\frac{2}{3} & - \\frac{5}{7} & 0\\\\0 & \\frac{13}{14} & 26\\end{matrix}\\right] \\rightarrow  \\left \\{ x : 30, \\quad y : 28\\right \\}$"
      ],
      "text/plain": [
       "<IPython.core.display.Markdown object>"
      ]
     },
     "metadata": {},
     "output_type": "display_data"
    }
   ],
   "source": [
    "# Página 20 ejercicio 2 a 16\n",
    "\n",
    "texto_ejercicio = \"Resuelve mediante expresiones algebraicas:\"\n",
    "n_ejercicio = 'p020e02-e16'\n",
    "\n",
    "display(md(\"**\"+texto_ejercicio+\"**\"))\n",
    "\n",
    "sist = [ \n",
    "         [r'50=x+y',r'134=4x+2y'],\n",
    "         [r'140=5x+10y',r'20=x+y'],\n",
    "         [r'3105=45x+36y',r'84=x+y'],\n",
    "         [r'\\frac{2x}{3}=\\frac{5y}{7}',r'x+26=2y'],\n",
    "            \n",
    "            ]\n",
    "\n",
    "enunciado_latex, enunciado, solucion = [\n",
    "   \n",
    "    \"\"\"En un corral hay conejos y gallinas, en total 50 cabezas y 134 patas. \n",
    "    ¿Cuántos animales hay de cada clase?\"\"\",\n",
    "    \"\"\"Se tienen 140 euros, en 20 billetes, unos de 5 euros y de 10 los restantes. \n",
    "    ¿Cuántos billetes hay de cada clase?\"\"\",\n",
    "    \"\"\"Un librero vendió 84 libros, unos a 45 euros y otros a 36 y obtuvo de la venta 3.105 euros. ¿Cuántos vendió de\n",
    "cada clase?\"\"\",\n",
    "    \"\"\"En una clase los 2/3 del número de alumnas es igual a los 5/7 del número de alumnos. Si el número de\n",
    "alumnas aumenta en 26, entonces es igual al doble del número de alumnos. ¿Cuántos alumnos y alumnas\n",
    "tiene la clase?\"\"\",\n",
    "    \n",
    "    \n",
    "    \n",
    "                           ], [], []\n",
    "\n",
    "for i, s in enumerate(sist) :\n",
    "    enl, en , so, mat = sol_sist(s)\n",
    "    enunciado.append(en)\n",
    "    so_l= enl + r'  \\rightarrow  \\\\'+latex(mat.LUdecomposition()[1])+ r' \\rightarrow  '+latex(so)\n",
    "    solucion.append(so_l) \n",
    "    display(md(enunciado_latex[i] +r\"$ \\ \\\\ \" + r\"  \\rightarrow  \" + solucion[i] +\"$\"))\n",
    "\n",
    "df_ejercicios = df_ejercicios.append(añadir_ejercicios(enunciado_latex, enunciado, solucion, texto_ejercicio, curso, titulo , n_ejercicio, '1', '1', enun_tex = False), ignore_index=True)\n"
   ]
  },
  {
   "cell_type": "code",
   "execution_count": 7,
   "metadata": {},
   "outputs": [
    {
     "data": {
      "text/markdown": [
       "**Resuelve los siguientes sistemas de inecuaciones:**"
      ],
      "text/plain": [
       "<IPython.core.display.Markdown object>"
      ]
     },
     "metadata": {},
     "output_type": "display_data"
    },
    {
     "data": {
      "text/markdown": [
       "$\\left\\{\\begin{matrix}\\frac{{x - 1}}{2} - \\frac{{x + 3}}{3} \\leq x\\\\ \\frac{{4x - 2}}{4} - \\frac{{x - 1}}{3} \\geq x\\end{matrix}\\right. \\rightarrow \\left[- \\frac{9}{5}, - \\frac{1}{2}\\right]$"
      ],
      "text/plain": [
       "<IPython.core.display.Markdown object>"
      ]
     },
     "metadata": {},
     "output_type": "display_data"
    },
    {
     "data": {
      "text/markdown": [
       "$\\left\\{\\begin{matrix}{( {x - 1} )^2} - {( {x + 3} )^2} \\leq 0\\\\x - 3( {x - 1}^2 ) \\leq 3 \\end{matrix}\\right. \\rightarrow \\left[-1, \\infty\\right)$"
      ],
      "text/plain": [
       "<IPython.core.display.Markdown object>"
      ]
     },
     "metadata": {},
     "output_type": "display_data"
    },
    {
     "data": {
      "text/markdown": [
       "$\\left\\{\\begin{matrix}\\frac{{3( {2 - x} )}}{2} - x < \\frac{{16}}{3} - \\frac{{x + 1}}{5} \\\\\\frac{{x + 4}}{3} - \\frac{{x - 5}}{6} > 3 - \\frac{{2x - 3}}{{18}}\\end{matrix}\\right. \\rightarrow \\left(\\frac{18}{5}, \\infty\\right)$"
      ],
      "text/plain": [
       "<IPython.core.display.Markdown object>"
      ]
     },
     "metadata": {},
     "output_type": "display_data"
    }
   ],
   "source": [
    "# Página 26 ejercicio 7\n",
    "\n",
    "\n",
    "\n",
    "texto_ejercicio = 'Resuelve los siguientes sistemas de inecuaciones:'\n",
    "n_ejercicio = 'p026e07'\n",
    "\n",
    "display(md(\"**\"+texto_ejercicio+\"**\"))\n",
    "\n",
    "pre_enunciado_latex = [[r'\\frac{{x - 1}}{2} - \\frac{{x + 3}}{3} \\leq x', r' \\frac{{4x - 2}}{4} - \\frac{{x - 1}}{3} \\geq x'],\n",
    "                       [r'{( {x - 1} )^2} - {( {x + 3} )^2} \\leq 0', r'x - 3( {x - 1}^2 ) \\leq 3 '],\n",
    "                       [r'\\frac{{3( {2 - x} )}}{2} - x < \\frac{{16}}{3} - \\frac{{x + 1}}{5} ', r'\\frac{{x + 4}}{3} - \\frac{{x - 5}}{6} > 3 - \\frac{{2x - 3}}{{18}}']\n",
    "                      ]\n",
    "                       \n",
    "\n",
    "\n",
    "\n",
    "enunciado_latex,enunciado, solucion = [], [], []\n",
    "\n",
    "for i, s in enumerate(pre_enunciado_latex) :\n",
    "    enl = r\"\"\"\\left\\{\\begin{matrix}\"\"\"+ s[0] + r'\\\\' + s[1] + r\"\"\"\\end{matrix}\\right.\"\"\"\n",
    "    en = [parse_latex(s[0]), parse_latex(s[1])]\n",
    "    so = reduce_rational_inequalities([en],x,relational=False)\n",
    "    enunciado_latex.append(enl)\n",
    "    enunciado.append(en)\n",
    "    so_l=latex(so)\n",
    "    solucion.append(so_l) \n",
    "    display(md(\"$\"+ enunciado_latex[i] +\" \\\\rightarrow \" + solucion[i] +\"$\"))\n",
    "\n",
    "df_ejercicios = df_ejercicios.append(añadir_ejercicios(enunciado_latex, enunciado, solucion, texto_ejercicio, curso, titulo , n_ejercicio, '1', '2'), ignore_index=True)\n"
   ]
  },
  {
   "cell_type": "code",
   "execution_count": 8,
   "metadata": {},
   "outputs": [
    {
     "data": {
      "text/markdown": [
       "**Resuelve los siguientes sistemas de inecuaciones:**"
      ],
      "text/plain": [
       "<IPython.core.display.Markdown object>"
      ]
     },
     "metadata": {},
     "output_type": "display_data"
    },
    {
     "data": {
      "text/markdown": [
       "$\\left\\{\\begin{matrix}x + y \\leq 2 \\\\ - 2x + y \\geq 4\\\\\\end{matrix}\\right. \\rightarrow \\\\ \\includegraphics[width=1\\columnwidth]{si0}$"
      ],
      "text/plain": [
       "<IPython.core.display.Markdown object>"
      ]
     },
     "metadata": {},
     "output_type": "display_data"
    },
    {
     "data": {
      "text/markdown": [
       "$\\left\\{\\begin{matrix}2x - y < 1 \\\\ - x + 4y \\geq  - 5\\\\\\end{matrix}\\right. \\rightarrow \\\\ \\includegraphics[width=1\\columnwidth]{si1}$"
      ],
      "text/plain": [
       "<IPython.core.display.Markdown object>"
      ]
     },
     "metadata": {},
     "output_type": "display_data"
    },
    {
     "data": {
      "text/markdown": [
       "$\\left\\{\\begin{matrix}x - 2y > 3\\\\5x - 3y \\leq 15\\\\\\end{matrix}\\right. \\rightarrow \\\\ \\includegraphics[width=1\\columnwidth]{si2}$"
      ],
      "text/plain": [
       "<IPython.core.display.Markdown object>"
      ]
     },
     "metadata": {},
     "output_type": "display_data"
    },
    {
     "data": {
      "text/markdown": [
       "$\\left\\{\\begin{matrix}x \\geq y \\\\x + y \\geq 4\\\\x - 2y \\leq 8\\\\\\end{matrix}\\right. \\rightarrow \\\\ \\includegraphics[width=1\\columnwidth]{si3}$"
      ],
      "text/plain": [
       "<IPython.core.display.Markdown object>"
      ]
     },
     "metadata": {},
     "output_type": "display_data"
    },
    {
     "data": {
      "text/markdown": [
       "$\\left\\{\\begin{matrix}- 2 \\leq x\\\\x \\leq 2\\\\y \\geq 4\\\\x + y - 1 \\leq 0\\\\\\end{matrix}\\right. \\rightarrow \\\\ \\includegraphics[width=1\\columnwidth]{si4}$"
      ],
      "text/plain": [
       "<IPython.core.display.Markdown object>"
      ]
     },
     "metadata": {},
     "output_type": "display_data"
    },
    {
     "data": {
      "text/markdown": [
       "$\\left\\{\\begin{matrix}x \\geq 0 \\\\0 \\leq y\\\\y \\leq 3\\\\x - 2y \\leq 10\\\\x + y \\geq 10\\\\\\end{matrix}\\right. \\rightarrow \\\\ \\includegraphics[width=1\\columnwidth]{si5}$"
      ],
      "text/plain": [
       "<IPython.core.display.Markdown object>"
      ]
     },
     "metadata": {},
     "output_type": "display_data"
    },
    {
     "data": {
      "image/png": "[encoded data removed]",
      "text/plain": [
       "<Figure size 432x288 with 1 Axes>"
      ]
     },
     "metadata": {},
     "output_type": "display_data"
    },
    {
     "data": {
      "image/png": "[encoded data removed]",
      "text/plain": [
       "<Figure size 432x288 with 1 Axes>"
      ]
     },
     "metadata": {},
     "output_type": "display_data"
    },
    {
     "data": {
      "image/png": "[encoded data removed]",
      "text/plain": [
       "<Figure size 432x288 with 1 Axes>"
      ]
     },
     "metadata": {},
     "output_type": "display_data"
    },
    {
     "data": {
      "image/png": "[encoded data removed]",
      "text/plain": [
       "<Figure size 432x288 with 1 Axes>"
      ]
     },
     "metadata": {},
     "output_type": "display_data"
    },
    {
     "data": {
      "image/png": "[encoded data removed]",
      "text/plain": [
       "<Figure size 432x288 with 1 Axes>"
      ]
     },
     "metadata": {},
     "output_type": "display_data"
    },
    {
     "data": {
      "image/png": "[encoded data removed]",
      "text/plain": [
       "<Figure size 432x288 with 1 Axes>"
      ]
     },
     "metadata": {},
     "output_type": "display_data"
    }
   ],
   "source": [
    "# Página 26 ejercicio 8\n",
    "\n",
    "%matplotlib inline\n",
    "\n",
    "texto_ejercicio = 'Resuelve los siguientes sistemas de inecuaciones:'\n",
    "n_ejercicio = 'p026e08'\n",
    "\n",
    "display(md(\"**\"+texto_ejercicio+\"**\"))\n",
    "\n",
    "pre_enunciado_latex = [[r'x + y \\leq 2 ',r' - 2x + y \\geq 4'],\n",
    "                       [r'2x - y < 1 ',r' - x + 4y \\geq  - 5'],\n",
    "                       [r'x - 2y > 3', r'5x - 3y \\leq 15'],\n",
    "                       [r'x \\geq y ', r'x + y \\geq 4', r'x - 2y \\leq 8'],\n",
    "                       [r'- 2 \\leq x', r'x \\leq 2', r'y \\geq 4', r'x + y - 1 \\leq 0'],\n",
    "                       [r'x \\geq 0 ', r'0 \\leq y', r'y \\leq 3', r'x - 2y \\leq 10', r'x + y \\geq 10']\n",
    "                       \n",
    "                      ]\n",
    "                       \n",
    "\n",
    "\n",
    "\n",
    "enunciado_latex,enunciado, solucion = [], [], []\n",
    "\n",
    "for i, s in enumerate(pre_enunciado_latex) :\n",
    "    \n",
    "    enl = r\"\"\"\\left\\{\\begin{matrix}\"\"\"\n",
    "    for j in s :\n",
    "        enl = enl + j + r'\\\\' \n",
    "    enl = enl + r\"\"\"\\end{matrix}\\right.\"\"\"\n",
    "    en = [parse_latex(j) for j in s]\n",
    "    p1 = plot_implicit(en[0], line_color='r', show=False, axis = True)\n",
    "    p2 = plot_implicit(en[1], line_color = '#dbffff', show=False )\n",
    "    p1.extend(p2)\n",
    "    if(len(s)>2) :\n",
    "        p3 = plot_implicit(en[2], line_color = 'g', show=False )\n",
    "        p1.extend(p3)\n",
    "    p1.save(\"../img/si\"+str(i))\n",
    "    so = r\"\\\\ \\includegraphics[width=1\\columnwidth]{%s}\" % (\"si\"+str(i))\n",
    "    enunciado_latex.append(enl)\n",
    "    enunciado.append(en)\n",
    "    so_l=so\n",
    "    solucion.append(so_l) \n",
    "    display(md(\"$\"+ enunciado_latex[i] +\" \\\\rightarrow \" + solucion[i] +\"$\"))\n",
    "\n",
    "df_ejercicios = df_ejercicios.append(añadir_ejercicios(enunciado_latex, enunciado, solucion, texto_ejercicio, curso, titulo , n_ejercicio, '1', '2', sol_tex = False), ignore_index=True)\n"
   ]
  },
  {
   "cell_type": "code",
   "execution_count": 9,
   "metadata": {},
   "outputs": [
    {
     "data": {
      "text/markdown": [
       "**Ejercicio: **p015e09"
      ],
      "text/plain": [
       "<IPython.core.display.Markdown object>"
      ]
     },
     "metadata": {},
     "output_type": "display_data"
    },
    {
     "data": {
      "text/html": [
       "<div>\n",
       "<style scoped>\n",
       "    .dataframe tbody tr th:only-of-type {\n",
       "        vertical-align: middle;\n",
       "    }\n",
       "\n",
       "    .dataframe tbody tr th {\n",
       "        vertical-align: top;\n",
       "    }\n",
       "\n",
       "    .dataframe thead th {\n",
       "        text-align: right;\n",
       "    }\n",
       "</style>\n",
       "<table border=\"1\" class=\"dataframe\">\n",
       "  <thead>\n",
       "    <tr style=\"text-align: right;\">\n",
       "      <th></th>\n",
       "      <th>enunciado_latex</th>\n",
       "      <th>enunciado</th>\n",
       "      <th>solucion</th>\n",
       "      <th>texto</th>\n",
       "      <th>curso</th>\n",
       "      <th>titulo</th>\n",
       "      <th>n_ejercicio</th>\n",
       "      <th>dificultad</th>\n",
       "      <th>n_columnas</th>\n",
       "      <th>puntos</th>\n",
       "      <th>enun_tex</th>\n",
       "      <th>sol_tex</th>\n",
       "    </tr>\n",
       "  </thead>\n",
       "  <tbody>\n",
       "    <tr>\n",
       "      <th>0</th>\n",
       "      <td>\\frac{\\frac{x^2+2x+1}{x - 3}}{\\frac{x+1}{x^2 -...</td>\n",
       "      <td>((x**2 + 2*x + 1)/(x - 3))/(((x + 1)/(x**2 - 9)))</td>\n",
       "      <td>x^{2} + 4 x + 3</td>\n",
       "      <td>Efectúa simplificando el resultado si es posible:</td>\n",
       "      <td>1BC</td>\n",
       "      <td>Autoevaluación 2 ev1</td>\n",
       "      <td>p015e09</td>\n",
       "      <td>1</td>\n",
       "      <td>2</td>\n",
       "      <td>1</td>\n",
       "      <td>True</td>\n",
       "      <td>True</td>\n",
       "    </tr>\n",
       "    <tr>\n",
       "      <th>1</th>\n",
       "      <td>\\frac{3x^2+1}{x^2+x}  - \\frac{2x}{x+1}</td>\n",
       "      <td>-2*x/(x + 1) + (3*x**2 + 1)/(x**2 + x)</td>\n",
       "      <td>\\frac{x^{2} + 1}{x^{2} + x}</td>\n",
       "      <td>Efectúa simplificando el resultado si es posible:</td>\n",
       "      <td>1BC</td>\n",
       "      <td>Autoevaluación 2 ev1</td>\n",
       "      <td>p015e09</td>\n",
       "      <td>1</td>\n",
       "      <td>2</td>\n",
       "      <td>1</td>\n",
       "      <td>True</td>\n",
       "      <td>True</td>\n",
       "    </tr>\n",
       "    <tr>\n",
       "      <th>2</th>\n",
       "      <td>\\frac{\\frac{x^2-2x+1}{x + 3}}{\\frac{x-1}{x^2 -...</td>\n",
       "      <td>((x**2 - 2*x + 1)/(x + 3))/(((x - 1)/(x**2 - 9)))</td>\n",
       "      <td>x^{2} - 4 x + 3</td>\n",
       "      <td>Efectúa simplificando el resultado si es posible:</td>\n",
       "      <td>1BC</td>\n",
       "      <td>Autoevaluación 2 ev1</td>\n",
       "      <td>p015e09</td>\n",
       "      <td>1</td>\n",
       "      <td>2</td>\n",
       "      <td>1</td>\n",
       "      <td>True</td>\n",
       "      <td>True</td>\n",
       "    </tr>\n",
       "    <tr>\n",
       "      <th>3</th>\n",
       "      <td>\\frac{3x^2+1}{x^2+x}  - \\frac{2x}{x+1}</td>\n",
       "      <td>-2*x/(x + 1) + (3*x**2 + 1)/(x**2 + x)</td>\n",
       "      <td>\\frac{x^{2} + 1}{x^{2} + x}</td>\n",
       "      <td>Efectúa simplificando el resultado si es posible:</td>\n",
       "      <td>1BC</td>\n",
       "      <td>Autoevaluación 2 ev1</td>\n",
       "      <td>p015e09</td>\n",
       "      <td>1</td>\n",
       "      <td>2</td>\n",
       "      <td>1</td>\n",
       "      <td>True</td>\n",
       "      <td>True</td>\n",
       "    </tr>\n",
       "    <tr>\n",
       "      <th>4</th>\n",
       "      <td>\\frac{1}{x^2-x} + \\frac{2x-1}{x-1} - \\frac{3x-...</td>\n",
       "      <td>1/(x**2 - x) + (2*x - 1)/(x - 1) - (3*x - 1)/x</td>\n",
       "      <td>- \\frac{x - 3}{x - 1}</td>\n",
       "      <td>Efectúa simplificando el resultado si es posible:</td>\n",
       "      <td>1BC</td>\n",
       "      <td>Autoevaluación 2 ev1</td>\n",
       "      <td>p015e09</td>\n",
       "      <td>1</td>\n",
       "      <td>2</td>\n",
       "      <td>1</td>\n",
       "      <td>True</td>\n",
       "      <td>True</td>\n",
       "    </tr>\n",
       "    <tr>\n",
       "      <th>5</th>\n",
       "      <td>\\frac{x}{{1 + \\frac{1}{{1 + \\frac{1}{x}}}}}</td>\n",
       "      <td>x/(1 + 1/(1 + 1/x))</td>\n",
       "      <td>\\frac{x^{2} + x}{2 x + 1}</td>\n",
       "      <td>Efectúa simplificando el resultado si es posible:</td>\n",
       "      <td>1BC</td>\n",
       "      <td>Autoevaluación 2 ev1</td>\n",
       "      <td>p015e09</td>\n",
       "      <td>1</td>\n",
       "      <td>2</td>\n",
       "      <td>1</td>\n",
       "      <td>True</td>\n",
       "      <td>True</td>\n",
       "    </tr>\n",
       "    <tr>\n",
       "      <th>6</th>\n",
       "      <td>\\frac{{\\frac{x}{{x - 2}} - \\frac{x}{{x + 2}}}}...</td>\n",
       "      <td>(-x/(x + 2) + x/(x - 2))/(1 - 4/(x**2 - 4))</td>\n",
       "      <td>\\frac{4 x}{x^{2} - 8}</td>\n",
       "      <td>Efectúa simplificando el resultado si es posible:</td>\n",
       "      <td>1BC</td>\n",
       "      <td>Autoevaluación 2 ev1</td>\n",
       "      <td>p015e09</td>\n",
       "      <td>1</td>\n",
       "      <td>2</td>\n",
       "      <td>1</td>\n",
       "      <td>True</td>\n",
       "      <td>True</td>\n",
       "    </tr>\n",
       "    <tr>\n",
       "      <th>7</th>\n",
       "      <td>\\frac{1}{{\\frac{{x + 1}}{{x - 1}} - \\frac{{x -...</td>\n",
       "      <td>1/(-(x - 1)/(x + 1) + (x + 1)/(x - 1))</td>\n",
       "      <td>\\frac{x^{2} - 1}{4 x}</td>\n",
       "      <td>Efectúa simplificando el resultado si es posible:</td>\n",
       "      <td>1BC</td>\n",
       "      <td>Autoevaluación 2 ev1</td>\n",
       "      <td>p015e09</td>\n",
       "      <td>1</td>\n",
       "      <td>2</td>\n",
       "      <td>1</td>\n",
       "      <td>True</td>\n",
       "      <td>True</td>\n",
       "    </tr>\n",
       "    <tr>\n",
       "      <th>8</th>\n",
       "      <td>( {{x^3} + x} )\\cdot( {1 - \\frac{{2x}}{{2x + \\...</td>\n",
       "      <td>(x**3 + x)*(-2*x/(2*x + 2/x) + 1)</td>\n",
       "      <td>x</td>\n",
       "      <td>Efectúa simplificando el resultado si es posible:</td>\n",
       "      <td>1BC</td>\n",
       "      <td>Autoevaluación 2 ev1</td>\n",
       "      <td>p015e09</td>\n",
       "      <td>1</td>\n",
       "      <td>2</td>\n",
       "      <td>1</td>\n",
       "      <td>True</td>\n",
       "      <td>True</td>\n",
       "    </tr>\n",
       "    <tr>\n",
       "      <th>9</th>\n",
       "      <td>( {\\frac{1}{x} - \\frac{1}{{x + 1}}})( {x - \\fr...</td>\n",
       "      <td>(x - (x + 1)/(x - 1))*(-1/(x + 1) + 1/x)</td>\n",
       "      <td>\\frac{x^{2} - 2 x - 1}{x^{3} - x}</td>\n",
       "      <td>Efectúa simplificando el resultado si es posible:</td>\n",
       "      <td>1BC</td>\n",
       "      <td>Autoevaluación 2 ev1</td>\n",
       "      <td>p015e09</td>\n",
       "      <td>1</td>\n",
       "      <td>2</td>\n",
       "      <td>1</td>\n",
       "      <td>True</td>\n",
       "      <td>True</td>\n",
       "    </tr>\n",
       "    <tr>\n",
       "      <th>10</th>\n",
       "      <td>\\frac{1}{x}( {\\frac{2}{x} - \\frac{3x}{{x + 1}}...</td>\n",
       "      <td>-x*(3 - 4/(x + 1))/(x - 1) + (-3*x/(x + 1) + 2...</td>\n",
       "      <td>- \\frac{3 x^{4} + 2 x^{3} - 5 x^{2} + 2}{x^{4}...</td>\n",
       "      <td>Efectúa simplificando el resultado si es posible:</td>\n",
       "      <td>1BC</td>\n",
       "      <td>Autoevaluación 2 ev1</td>\n",
       "      <td>p015e09</td>\n",
       "      <td>1</td>\n",
       "      <td>2</td>\n",
       "      <td>1</td>\n",
       "      <td>True</td>\n",
       "      <td>True</td>\n",
       "    </tr>\n",
       "    <tr>\n",
       "      <th>11</th>\n",
       "      <td>\\frac{{\\frac{{x - 1}}{{x + 2}} - \\frac{{x + 2}...</td>\n",
       "      <td>((x - 1)/(x + 2) - (x + 2)/(x - 1))/(1 - 1/(x ...</td>\n",
       "      <td>- \\frac{6 x + 3}{x^{2} - 4}</td>\n",
       "      <td>Efectúa simplificando el resultado si es posible:</td>\n",
       "      <td>1BC</td>\n",
       "      <td>Autoevaluación 2 ev1</td>\n",
       "      <td>p015e09</td>\n",
       "      <td>1</td>\n",
       "      <td>2</td>\n",
       "      <td>1</td>\n",
       "      <td>True</td>\n",
       "      <td>True</td>\n",
       "    </tr>\n",
       "  </tbody>\n",
       "</table>\n",
       "</div>"
      ],
      "text/plain": [
       "                                      enunciado_latex  \\\n",
       "0   \\frac{\\frac{x^2+2x+1}{x - 3}}{\\frac{x+1}{x^2 -...   \n",
       "1              \\frac{3x^2+1}{x^2+x}  - \\frac{2x}{x+1}   \n",
       "2   \\frac{\\frac{x^2-2x+1}{x + 3}}{\\frac{x-1}{x^2 -...   \n",
       "3              \\frac{3x^2+1}{x^2+x}  - \\frac{2x}{x+1}   \n",
       "4   \\frac{1}{x^2-x} + \\frac{2x-1}{x-1} - \\frac{3x-...   \n",
       "5         \\frac{x}{{1 + \\frac{1}{{1 + \\frac{1}{x}}}}}   \n",
       "6   \\frac{{\\frac{x}{{x - 2}} - \\frac{x}{{x + 2}}}}...   \n",
       "7   \\frac{1}{{\\frac{{x + 1}}{{x - 1}} - \\frac{{x -...   \n",
       "8   ( {{x^3} + x} )\\cdot( {1 - \\frac{{2x}}{{2x + \\...   \n",
       "9   ( {\\frac{1}{x} - \\frac{1}{{x + 1}}})( {x - \\fr...   \n",
       "10  \\frac{1}{x}( {\\frac{2}{x} - \\frac{3x}{{x + 1}}...   \n",
       "11  \\frac{{\\frac{{x - 1}}{{x + 2}} - \\frac{{x + 2}...   \n",
       "\n",
       "                                            enunciado  \\\n",
       "0   ((x**2 + 2*x + 1)/(x - 3))/(((x + 1)/(x**2 - 9)))   \n",
       "1              -2*x/(x + 1) + (3*x**2 + 1)/(x**2 + x)   \n",
       "2   ((x**2 - 2*x + 1)/(x + 3))/(((x - 1)/(x**2 - 9)))   \n",
       "3              -2*x/(x + 1) + (3*x**2 + 1)/(x**2 + x)   \n",
       "4      1/(x**2 - x) + (2*x - 1)/(x - 1) - (3*x - 1)/x   \n",
       "5                                 x/(1 + 1/(1 + 1/x))   \n",
       "6         (-x/(x + 2) + x/(x - 2))/(1 - 4/(x**2 - 4))   \n",
       "7              1/(-(x - 1)/(x + 1) + (x + 1)/(x - 1))   \n",
       "8                   (x**3 + x)*(-2*x/(2*x + 2/x) + 1)   \n",
       "9            (x - (x + 1)/(x - 1))*(-1/(x + 1) + 1/x)   \n",
       "10  -x*(3 - 4/(x + 1))/(x - 1) + (-3*x/(x + 1) + 2...   \n",
       "11  ((x - 1)/(x + 2) - (x + 2)/(x - 1))/(1 - 1/(x ...   \n",
       "\n",
       "                                             solucion  \\\n",
       "0                                     x^{2} + 4 x + 3   \n",
       "1                         \\frac{x^{2} + 1}{x^{2} + x}   \n",
       "2                                     x^{2} - 4 x + 3   \n",
       "3                         \\frac{x^{2} + 1}{x^{2} + x}   \n",
       "4                               - \\frac{x - 3}{x - 1}   \n",
       "5                           \\frac{x^{2} + x}{2 x + 1}   \n",
       "6                               \\frac{4 x}{x^{2} - 8}   \n",
       "7                               \\frac{x^{2} - 1}{4 x}   \n",
       "8                                                   x   \n",
       "9                   \\frac{x^{2} - 2 x - 1}{x^{3} - x}   \n",
       "10  - \\frac{3 x^{4} + 2 x^{3} - 5 x^{2} + 2}{x^{4}...   \n",
       "11                        - \\frac{6 x + 3}{x^{2} - 4}   \n",
       "\n",
       "                                                texto curso  \\\n",
       "0   Efectúa simplificando el resultado si es posible:   1BC   \n",
       "1   Efectúa simplificando el resultado si es posible:   1BC   \n",
       "2   Efectúa simplificando el resultado si es posible:   1BC   \n",
       "3   Efectúa simplificando el resultado si es posible:   1BC   \n",
       "4   Efectúa simplificando el resultado si es posible:   1BC   \n",
       "5   Efectúa simplificando el resultado si es posible:   1BC   \n",
       "6   Efectúa simplificando el resultado si es posible:   1BC   \n",
       "7   Efectúa simplificando el resultado si es posible:   1BC   \n",
       "8   Efectúa simplificando el resultado si es posible:   1BC   \n",
       "9   Efectúa simplificando el resultado si es posible:   1BC   \n",
       "10  Efectúa simplificando el resultado si es posible:   1BC   \n",
       "11  Efectúa simplificando el resultado si es posible:   1BC   \n",
       "\n",
       "                  titulo n_ejercicio  dificultad  n_columnas  puntos  \\\n",
       "0   Autoevaluación 2 ev1     p015e09           1           2       1   \n",
       "1   Autoevaluación 2 ev1     p015e09           1           2       1   \n",
       "2   Autoevaluación 2 ev1     p015e09           1           2       1   \n",
       "3   Autoevaluación 2 ev1     p015e09           1           2       1   \n",
       "4   Autoevaluación 2 ev1     p015e09           1           2       1   \n",
       "5   Autoevaluación 2 ev1     p015e09           1           2       1   \n",
       "6   Autoevaluación 2 ev1     p015e09           1           2       1   \n",
       "7   Autoevaluación 2 ev1     p015e09           1           2       1   \n",
       "8   Autoevaluación 2 ev1     p015e09           1           2       1   \n",
       "9   Autoevaluación 2 ev1     p015e09           1           2       1   \n",
       "10  Autoevaluación 2 ev1     p015e09           1           2       1   \n",
       "11  Autoevaluación 2 ev1     p015e09           1           2       1   \n",
       "\n",
       "    enun_tex  sol_tex  \n",
       "0       True     True  \n",
       "1       True     True  \n",
       "2       True     True  \n",
       "3       True     True  \n",
       "4       True     True  \n",
       "5       True     True  \n",
       "6       True     True  \n",
       "7       True     True  \n",
       "8       True     True  \n",
       "9       True     True  \n",
       "10      True     True  \n",
       "11      True     True  "
      ]
     },
     "metadata": {},
     "output_type": "display_data"
    },
    {
     "data": {
      "text/markdown": [
       "**Ejercicio: **p020e02-e16"
      ],
      "text/plain": [
       "<IPython.core.display.Markdown object>"
      ]
     },
     "metadata": {},
     "output_type": "display_data"
    },
    {
     "data": {
      "text/html": [
       "<div>\n",
       "<style scoped>\n",
       "    .dataframe tbody tr th:only-of-type {\n",
       "        vertical-align: middle;\n",
       "    }\n",
       "\n",
       "    .dataframe tbody tr th {\n",
       "        vertical-align: top;\n",
       "    }\n",
       "\n",
       "    .dataframe thead th {\n",
       "        text-align: right;\n",
       "    }\n",
       "</style>\n",
       "<table border=\"1\" class=\"dataframe\">\n",
       "  <thead>\n",
       "    <tr style=\"text-align: right;\">\n",
       "      <th></th>\n",
       "      <th>enunciado_latex</th>\n",
       "      <th>enunciado</th>\n",
       "      <th>solucion</th>\n",
       "      <th>texto</th>\n",
       "      <th>curso</th>\n",
       "      <th>titulo</th>\n",
       "      <th>n_ejercicio</th>\n",
       "      <th>dificultad</th>\n",
       "      <th>n_columnas</th>\n",
       "      <th>puntos</th>\n",
       "      <th>enun_tex</th>\n",
       "      <th>sol_tex</th>\n",
       "    </tr>\n",
       "  </thead>\n",
       "  <tbody>\n",
       "    <tr>\n",
       "      <th>19</th>\n",
       "      <td>En un corral hay conejos y gallinas, en total ...</td>\n",
       "      <td>[Eq(x + y, 50), Eq(4*x + 2*y, 134)]</td>\n",
       "      <td>\\left\\{\\begin{matrix}50=x+y\\\\ 134=4x+2y\\\\ \\end...</td>\n",
       "      <td>Resuelve mediante expresiones algebraicas:</td>\n",
       "      <td>1BC</td>\n",
       "      <td>Autoevaluación 2 ev1</td>\n",
       "      <td>p020e02-e16</td>\n",
       "      <td>1</td>\n",
       "      <td>1</td>\n",
       "      <td>1</td>\n",
       "      <td>False</td>\n",
       "      <td>True</td>\n",
       "    </tr>\n",
       "    <tr>\n",
       "      <th>20</th>\n",
       "      <td>Se tienen 140 euros, en 20 billetes, unos de 5...</td>\n",
       "      <td>[Eq(5*x + 10*y, 140), Eq(x + y, 20)]</td>\n",
       "      <td>\\left\\{\\begin{matrix}140=5x+10y\\\\ 20=x+y\\\\ \\en...</td>\n",
       "      <td>Resuelve mediante expresiones algebraicas:</td>\n",
       "      <td>1BC</td>\n",
       "      <td>Autoevaluación 2 ev1</td>\n",
       "      <td>p020e02-e16</td>\n",
       "      <td>1</td>\n",
       "      <td>1</td>\n",
       "      <td>1</td>\n",
       "      <td>False</td>\n",
       "      <td>True</td>\n",
       "    </tr>\n",
       "    <tr>\n",
       "      <th>21</th>\n",
       "      <td>Un librero vendió 84 libros, unos a 45 euros y...</td>\n",
       "      <td>[Eq(45*x + 36*y, 3105), Eq(x + y, 84)]</td>\n",
       "      <td>\\left\\{\\begin{matrix}3105=45x+36y\\\\ 84=x+y\\\\ \\...</td>\n",
       "      <td>Resuelve mediante expresiones algebraicas:</td>\n",
       "      <td>1BC</td>\n",
       "      <td>Autoevaluación 2 ev1</td>\n",
       "      <td>p020e02-e16</td>\n",
       "      <td>1</td>\n",
       "      <td>1</td>\n",
       "      <td>1</td>\n",
       "      <td>False</td>\n",
       "      <td>True</td>\n",
       "    </tr>\n",
       "    <tr>\n",
       "      <th>22</th>\n",
       "      <td>En una clase los 2/3 del número de alumnas es ...</td>\n",
       "      <td>[Eq(2*x/3, 5*y/7), Eq(2*y, x + 26)]</td>\n",
       "      <td>\\left\\{\\begin{matrix}\\frac{2x}{3}=\\frac{5y}{7}...</td>\n",
       "      <td>Resuelve mediante expresiones algebraicas:</td>\n",
       "      <td>1BC</td>\n",
       "      <td>Autoevaluación 2 ev1</td>\n",
       "      <td>p020e02-e16</td>\n",
       "      <td>1</td>\n",
       "      <td>1</td>\n",
       "      <td>1</td>\n",
       "      <td>False</td>\n",
       "      <td>True</td>\n",
       "    </tr>\n",
       "  </tbody>\n",
       "</table>\n",
       "</div>"
      ],
      "text/plain": [
       "                                      enunciado_latex  \\\n",
       "19  En un corral hay conejos y gallinas, en total ...   \n",
       "20  Se tienen 140 euros, en 20 billetes, unos de 5...   \n",
       "21  Un librero vendió 84 libros, unos a 45 euros y...   \n",
       "22  En una clase los 2/3 del número de alumnas es ...   \n",
       "\n",
       "                                 enunciado  \\\n",
       "19     [Eq(x + y, 50), Eq(4*x + 2*y, 134)]   \n",
       "20    [Eq(5*x + 10*y, 140), Eq(x + y, 20)]   \n",
       "21  [Eq(45*x + 36*y, 3105), Eq(x + y, 84)]   \n",
       "22     [Eq(2*x/3, 5*y/7), Eq(2*y, x + 26)]   \n",
       "\n",
       "                                             solucion  \\\n",
       "19  \\left\\{\\begin{matrix}50=x+y\\\\ 134=4x+2y\\\\ \\end...   \n",
       "20  \\left\\{\\begin{matrix}140=5x+10y\\\\ 20=x+y\\\\ \\en...   \n",
       "21  \\left\\{\\begin{matrix}3105=45x+36y\\\\ 84=x+y\\\\ \\...   \n",
       "22  \\left\\{\\begin{matrix}\\frac{2x}{3}=\\frac{5y}{7}...   \n",
       "\n",
       "                                         texto curso                titulo  \\\n",
       "19  Resuelve mediante expresiones algebraicas:   1BC  Autoevaluación 2 ev1   \n",
       "20  Resuelve mediante expresiones algebraicas:   1BC  Autoevaluación 2 ev1   \n",
       "21  Resuelve mediante expresiones algebraicas:   1BC  Autoevaluación 2 ev1   \n",
       "22  Resuelve mediante expresiones algebraicas:   1BC  Autoevaluación 2 ev1   \n",
       "\n",
       "    n_ejercicio  dificultad  n_columnas  puntos  enun_tex  sol_tex  \n",
       "19  p020e02-e16           1           1       1     False     True  \n",
       "20  p020e02-e16           1           1       1     False     True  \n",
       "21  p020e02-e16           1           1       1     False     True  \n",
       "22  p020e02-e16           1           1       1     False     True  "
      ]
     },
     "metadata": {},
     "output_type": "display_data"
    },
    {
     "data": {
      "text/markdown": [
       "**Ejercicio: **p021e23"
      ],
      "text/plain": [
       "<IPython.core.display.Markdown object>"
      ]
     },
     "metadata": {},
     "output_type": "display_data"
    },
    {
     "data": {
      "text/html": [
       "<div>\n",
       "<style scoped>\n",
       "    .dataframe tbody tr th:only-of-type {\n",
       "        vertical-align: middle;\n",
       "    }\n",
       "\n",
       "    .dataframe tbody tr th {\n",
       "        vertical-align: top;\n",
       "    }\n",
       "\n",
       "    .dataframe thead th {\n",
       "        text-align: right;\n",
       "    }\n",
       "</style>\n",
       "<table border=\"1\" class=\"dataframe\">\n",
       "  <thead>\n",
       "    <tr style=\"text-align: right;\">\n",
       "      <th></th>\n",
       "      <th>enunciado_latex</th>\n",
       "      <th>enunciado</th>\n",
       "      <th>solucion</th>\n",
       "      <th>texto</th>\n",
       "      <th>curso</th>\n",
       "      <th>titulo</th>\n",
       "      <th>n_ejercicio</th>\n",
       "      <th>dificultad</th>\n",
       "      <th>n_columnas</th>\n",
       "      <th>puntos</th>\n",
       "      <th>enun_tex</th>\n",
       "      <th>sol_tex</th>\n",
       "    </tr>\n",
       "  </thead>\n",
       "  <tbody>\n",
       "    <tr>\n",
       "      <th>12</th>\n",
       "      <td>\\left\\{\\begin{matrix}2x-y+2z=1\\\\ x+y-z = 3\\\\ 3...</td>\n",
       "      <td>[Eq(2*x - y + 2*z, 1), Eq(x + y - z, 3), Eq(3*...</td>\n",
       "      <td>\\left[\\begin{matrix}2 &amp; 2 &amp; -1 &amp; 1\\\\0 &amp; 2 &amp; \\f...</td>\n",
       "      <td>Resuelve los sistemas:</td>\n",
       "      <td>1BC</td>\n",
       "      <td>Autoevaluación 2 ev1</td>\n",
       "      <td>p021e23</td>\n",
       "      <td>1</td>\n",
       "      <td>2</td>\n",
       "      <td>1</td>\n",
       "      <td>True</td>\n",
       "      <td>True</td>\n",
       "    </tr>\n",
       "    <tr>\n",
       "      <th>13</th>\n",
       "      <td>\\left\\{\\begin{matrix}x - y + z = 1\\\\ 2x + y - ...</td>\n",
       "      <td>[Eq(x - y + z, 1), Eq(2*x + y - 2*z, 2), Eq(x ...</td>\n",
       "      <td>\\left[\\begin{matrix}1 &amp; 1 &amp; -1 &amp; 1\\\\0 &amp; 4 &amp; -1...</td>\n",
       "      <td>Resuelve los sistemas:</td>\n",
       "      <td>1BC</td>\n",
       "      <td>Autoevaluación 2 ev1</td>\n",
       "      <td>p021e23</td>\n",
       "      <td>1</td>\n",
       "      <td>2</td>\n",
       "      <td>1</td>\n",
       "      <td>True</td>\n",
       "      <td>True</td>\n",
       "    </tr>\n",
       "    <tr>\n",
       "      <th>14</th>\n",
       "      <td>\\left\\{\\begin{matrix}x+y+z=1\\\\ x + 2y - z = 2\\...</td>\n",
       "      <td>[Eq(x + y + z, 1), Eq(x + 2*y - z, 2), Eq(2*x ...</td>\n",
       "      <td>\\left[\\begin{matrix}1 &amp; 1 &amp; 1 &amp; 1\\\\0 &amp; 2 &amp; 3 &amp;...</td>\n",
       "      <td>Resuelve los sistemas:</td>\n",
       "      <td>1BC</td>\n",
       "      <td>Autoevaluación 2 ev1</td>\n",
       "      <td>p021e23</td>\n",
       "      <td>1</td>\n",
       "      <td>2</td>\n",
       "      <td>1</td>\n",
       "      <td>True</td>\n",
       "      <td>True</td>\n",
       "    </tr>\n",
       "    <tr>\n",
       "      <th>15</th>\n",
       "      <td>\\left\\{\\begin{matrix}x+y+z=1\\\\ x + 2y - z = 2\\...</td>\n",
       "      <td>[Eq(x + y + z, 1), Eq(x + 2*y - z, 2), Eq(2*x ...</td>\n",
       "      <td>\\left[\\begin{matrix}1 &amp; 1 &amp; 1 &amp; 1\\\\0 &amp; 2 &amp; 3 &amp;...</td>\n",
       "      <td>Resuelve los sistemas:</td>\n",
       "      <td>1BC</td>\n",
       "      <td>Autoevaluación 2 ev1</td>\n",
       "      <td>p021e23</td>\n",
       "      <td>1</td>\n",
       "      <td>2</td>\n",
       "      <td>1</td>\n",
       "      <td>True</td>\n",
       "      <td>True</td>\n",
       "    </tr>\n",
       "    <tr>\n",
       "      <th>16</th>\n",
       "      <td>\\left\\{\\begin{matrix}\\frac{x}{2} + \\frac{y}{3}...</td>\n",
       "      <td>[Eq(x/2 + y/3 + z, -1/2), Eq(x - y/2 + z/3, -1...</td>\n",
       "      <td>\\left[\\begin{matrix}1 &amp; \\frac{1}{2} &amp; \\frac{1}...</td>\n",
       "      <td>Resuelve los sistemas:</td>\n",
       "      <td>1BC</td>\n",
       "      <td>Autoevaluación 2 ev1</td>\n",
       "      <td>p021e23</td>\n",
       "      <td>1</td>\n",
       "      <td>2</td>\n",
       "      <td>1</td>\n",
       "      <td>True</td>\n",
       "      <td>True</td>\n",
       "    </tr>\n",
       "    <tr>\n",
       "      <th>17</th>\n",
       "      <td>\\left\\{\\begin{matrix}\\frac{x}{2} + \\frac{y}{3}...</td>\n",
       "      <td>[Eq(x/2 + y/3 + z/3, -2), Eq(x/3 - y/2 + z/3, ...</td>\n",
       "      <td>\\left[\\begin{matrix}\\frac{1}{3} &amp; \\frac{1}{2} ...</td>\n",
       "      <td>Resuelve los sistemas:</td>\n",
       "      <td>1BC</td>\n",
       "      <td>Autoevaluación 2 ev1</td>\n",
       "      <td>p021e23</td>\n",
       "      <td>1</td>\n",
       "      <td>2</td>\n",
       "      <td>1</td>\n",
       "      <td>True</td>\n",
       "      <td>True</td>\n",
       "    </tr>\n",
       "    <tr>\n",
       "      <th>18</th>\n",
       "      <td>\\left\\{\\begin{matrix}x - y + z = 5\\\\ \\frac{{x ...</td>\n",
       "      <td>[Eq(x - y + z, 5), Eq(x/2 + y/3 - 1/2, 1), Eq(...</td>\n",
       "      <td>\\left[\\begin{matrix}1 &amp; 1 &amp; -1 &amp; 5\\\\0 &amp; \\frac{...</td>\n",
       "      <td>Resuelve los sistemas:</td>\n",
       "      <td>1BC</td>\n",
       "      <td>Autoevaluación 2 ev1</td>\n",
       "      <td>p021e23</td>\n",
       "      <td>1</td>\n",
       "      <td>2</td>\n",
       "      <td>1</td>\n",
       "      <td>True</td>\n",
       "      <td>True</td>\n",
       "    </tr>\n",
       "  </tbody>\n",
       "</table>\n",
       "</div>"
      ],
      "text/plain": [
       "                                      enunciado_latex  \\\n",
       "12  \\left\\{\\begin{matrix}2x-y+2z=1\\\\ x+y-z = 3\\\\ 3...   \n",
       "13  \\left\\{\\begin{matrix}x - y + z = 1\\\\ 2x + y - ...   \n",
       "14  \\left\\{\\begin{matrix}x+y+z=1\\\\ x + 2y - z = 2\\...   \n",
       "15  \\left\\{\\begin{matrix}x+y+z=1\\\\ x + 2y - z = 2\\...   \n",
       "16  \\left\\{\\begin{matrix}\\frac{x}{2} + \\frac{y}{3}...   \n",
       "17  \\left\\{\\begin{matrix}\\frac{x}{2} + \\frac{y}{3}...   \n",
       "18  \\left\\{\\begin{matrix}x - y + z = 5\\\\ \\frac{{x ...   \n",
       "\n",
       "                                            enunciado  \\\n",
       "12  [Eq(2*x - y + 2*z, 1), Eq(x + y - z, 3), Eq(3*...   \n",
       "13  [Eq(x - y + z, 1), Eq(2*x + y - 2*z, 2), Eq(x ...   \n",
       "14  [Eq(x + y + z, 1), Eq(x + 2*y - z, 2), Eq(2*x ...   \n",
       "15  [Eq(x + y + z, 1), Eq(x + 2*y - z, 2), Eq(2*x ...   \n",
       "16  [Eq(x/2 + y/3 + z, -1/2), Eq(x - y/2 + z/3, -1...   \n",
       "17  [Eq(x/2 + y/3 + z/3, -2), Eq(x/3 - y/2 + z/3, ...   \n",
       "18  [Eq(x - y + z, 5), Eq(x/2 + y/3 - 1/2, 1), Eq(...   \n",
       "\n",
       "                                             solucion                   texto  \\\n",
       "12  \\left[\\begin{matrix}2 & 2 & -1 & 1\\\\0 & 2 & \\f...  Resuelve los sistemas:   \n",
       "13  \\left[\\begin{matrix}1 & 1 & -1 & 1\\\\0 & 4 & -1...  Resuelve los sistemas:   \n",
       "14  \\left[\\begin{matrix}1 & 1 & 1 & 1\\\\0 & 2 & 3 &...  Resuelve los sistemas:   \n",
       "15  \\left[\\begin{matrix}1 & 1 & 1 & 1\\\\0 & 2 & 3 &...  Resuelve los sistemas:   \n",
       "16  \\left[\\begin{matrix}1 & \\frac{1}{2} & \\frac{1}...  Resuelve los sistemas:   \n",
       "17  \\left[\\begin{matrix}\\frac{1}{3} & \\frac{1}{2} ...  Resuelve los sistemas:   \n",
       "18  \\left[\\begin{matrix}1 & 1 & -1 & 5\\\\0 & \\frac{...  Resuelve los sistemas:   \n",
       "\n",
       "   curso                titulo n_ejercicio  dificultad  n_columnas  puntos  \\\n",
       "12   1BC  Autoevaluación 2 ev1     p021e23           1           2       1   \n",
       "13   1BC  Autoevaluación 2 ev1     p021e23           1           2       1   \n",
       "14   1BC  Autoevaluación 2 ev1     p021e23           1           2       1   \n",
       "15   1BC  Autoevaluación 2 ev1     p021e23           1           2       1   \n",
       "16   1BC  Autoevaluación 2 ev1     p021e23           1           2       1   \n",
       "17   1BC  Autoevaluación 2 ev1     p021e23           1           2       1   \n",
       "18   1BC  Autoevaluación 2 ev1     p021e23           1           2       1   \n",
       "\n",
       "    enun_tex  sol_tex  \n",
       "12      True     True  \n",
       "13      True     True  \n",
       "14      True     True  \n",
       "15      True     True  \n",
       "16      True     True  \n",
       "17      True     True  \n",
       "18      True     True  "
      ]
     },
     "metadata": {},
     "output_type": "display_data"
    },
    {
     "data": {
      "text/markdown": [
       "**Ejercicio: **p026e07"
      ],
      "text/plain": [
       "<IPython.core.display.Markdown object>"
      ]
     },
     "metadata": {},
     "output_type": "display_data"
    },
    {
     "data": {
      "text/html": [
       "<div>\n",
       "<style scoped>\n",
       "    .dataframe tbody tr th:only-of-type {\n",
       "        vertical-align: middle;\n",
       "    }\n",
       "\n",
       "    .dataframe tbody tr th {\n",
       "        vertical-align: top;\n",
       "    }\n",
       "\n",
       "    .dataframe thead th {\n",
       "        text-align: right;\n",
       "    }\n",
       "</style>\n",
       "<table border=\"1\" class=\"dataframe\">\n",
       "  <thead>\n",
       "    <tr style=\"text-align: right;\">\n",
       "      <th></th>\n",
       "      <th>enunciado_latex</th>\n",
       "      <th>enunciado</th>\n",
       "      <th>solucion</th>\n",
       "      <th>texto</th>\n",
       "      <th>curso</th>\n",
       "      <th>titulo</th>\n",
       "      <th>n_ejercicio</th>\n",
       "      <th>dificultad</th>\n",
       "      <th>n_columnas</th>\n",
       "      <th>puntos</th>\n",
       "      <th>enun_tex</th>\n",
       "      <th>sol_tex</th>\n",
       "    </tr>\n",
       "  </thead>\n",
       "  <tbody>\n",
       "    <tr>\n",
       "      <th>23</th>\n",
       "      <td>\\left\\{\\begin{matrix}\\frac{{x - 1}}{2} - \\frac...</td>\n",
       "      <td>[-x/3 - 1 + (x - 1)/2 &lt;= x, -x/3 + 1/3 + (4*x ...</td>\n",
       "      <td>\\left[- \\frac{9}{5}, - \\frac{1}{2}\\right]</td>\n",
       "      <td>Resuelve los siguientes sistemas de inecuaciones:</td>\n",
       "      <td>1BC</td>\n",
       "      <td>Autoevaluación 2 ev1</td>\n",
       "      <td>p026e07</td>\n",
       "      <td>1</td>\n",
       "      <td>2</td>\n",
       "      <td>1</td>\n",
       "      <td>True</td>\n",
       "      <td>True</td>\n",
       "    </tr>\n",
       "    <tr>\n",
       "      <th>24</th>\n",
       "      <td>\\left\\{\\begin{matrix}{( {x - 1} )^2} - {( {x +...</td>\n",
       "      <td>[(x - 1)**2 - (x + 3)**2 &lt;= 0, x - 3*(x - 1)**...</td>\n",
       "      <td>\\left[-1, \\infty\\right)</td>\n",
       "      <td>Resuelve los siguientes sistemas de inecuaciones:</td>\n",
       "      <td>1BC</td>\n",
       "      <td>Autoevaluación 2 ev1</td>\n",
       "      <td>p026e07</td>\n",
       "      <td>1</td>\n",
       "      <td>2</td>\n",
       "      <td>1</td>\n",
       "      <td>True</td>\n",
       "      <td>True</td>\n",
       "    </tr>\n",
       "    <tr>\n",
       "      <th>25</th>\n",
       "      <td>\\left\\{\\begin{matrix}\\frac{{3( {2 - x} )}}{2} ...</td>\n",
       "      <td>[-x + (3*(-x + 2))/2 &lt; -x/5 - 1/5 + 16/3, -x/6...</td>\n",
       "      <td>\\left(\\frac{18}{5}, \\infty\\right)</td>\n",
       "      <td>Resuelve los siguientes sistemas de inecuaciones:</td>\n",
       "      <td>1BC</td>\n",
       "      <td>Autoevaluación 2 ev1</td>\n",
       "      <td>p026e07</td>\n",
       "      <td>1</td>\n",
       "      <td>2</td>\n",
       "      <td>1</td>\n",
       "      <td>True</td>\n",
       "      <td>True</td>\n",
       "    </tr>\n",
       "  </tbody>\n",
       "</table>\n",
       "</div>"
      ],
      "text/plain": [
       "                                      enunciado_latex  \\\n",
       "23  \\left\\{\\begin{matrix}\\frac{{x - 1}}{2} - \\frac...   \n",
       "24  \\left\\{\\begin{matrix}{( {x - 1} )^2} - {( {x +...   \n",
       "25  \\left\\{\\begin{matrix}\\frac{{3( {2 - x} )}}{2} ...   \n",
       "\n",
       "                                            enunciado  \\\n",
       "23  [-x/3 - 1 + (x - 1)/2 <= x, -x/3 + 1/3 + (4*x ...   \n",
       "24  [(x - 1)**2 - (x + 3)**2 <= 0, x - 3*(x - 1)**...   \n",
       "25  [-x + (3*(-x + 2))/2 < -x/5 - 1/5 + 16/3, -x/6...   \n",
       "\n",
       "                                     solucion  \\\n",
       "23  \\left[- \\frac{9}{5}, - \\frac{1}{2}\\right]   \n",
       "24                    \\left[-1, \\infty\\right)   \n",
       "25          \\left(\\frac{18}{5}, \\infty\\right)   \n",
       "\n",
       "                                                texto curso  \\\n",
       "23  Resuelve los siguientes sistemas de inecuaciones:   1BC   \n",
       "24  Resuelve los siguientes sistemas de inecuaciones:   1BC   \n",
       "25  Resuelve los siguientes sistemas de inecuaciones:   1BC   \n",
       "\n",
       "                  titulo n_ejercicio  dificultad  n_columnas  puntos  \\\n",
       "23  Autoevaluación 2 ev1     p026e07           1           2       1   \n",
       "24  Autoevaluación 2 ev1     p026e07           1           2       1   \n",
       "25  Autoevaluación 2 ev1     p026e07           1           2       1   \n",
       "\n",
       "    enun_tex  sol_tex  \n",
       "23      True     True  \n",
       "24      True     True  \n",
       "25      True     True  "
      ]
     },
     "metadata": {},
     "output_type": "display_data"
    },
    {
     "data": {
      "text/markdown": [
       "**Ejercicio: **p026e08"
      ],
      "text/plain": [
       "<IPython.core.display.Markdown object>"
      ]
     },
     "metadata": {},
     "output_type": "display_data"
    },
    {
     "data": {
      "text/html": [
       "<div>\n",
       "<style scoped>\n",
       "    .dataframe tbody tr th:only-of-type {\n",
       "        vertical-align: middle;\n",
       "    }\n",
       "\n",
       "    .dataframe tbody tr th {\n",
       "        vertical-align: top;\n",
       "    }\n",
       "\n",
       "    .dataframe thead th {\n",
       "        text-align: right;\n",
       "    }\n",
       "</style>\n",
       "<table border=\"1\" class=\"dataframe\">\n",
       "  <thead>\n",
       "    <tr style=\"text-align: right;\">\n",
       "      <th></th>\n",
       "      <th>enunciado_latex</th>\n",
       "      <th>enunciado</th>\n",
       "      <th>solucion</th>\n",
       "      <th>texto</th>\n",
       "      <th>curso</th>\n",
       "      <th>titulo</th>\n",
       "      <th>n_ejercicio</th>\n",
       "      <th>dificultad</th>\n",
       "      <th>n_columnas</th>\n",
       "      <th>puntos</th>\n",
       "      <th>enun_tex</th>\n",
       "      <th>sol_tex</th>\n",
       "    </tr>\n",
       "  </thead>\n",
       "  <tbody>\n",
       "    <tr>\n",
       "      <th>26</th>\n",
       "      <td>\\left\\{\\begin{matrix}x + y \\leq 2 \\\\ - 2x + y ...</td>\n",
       "      <td>[x + y &lt;= 2, -2*x + y &gt;= 4]</td>\n",
       "      <td>\\\\ \\includegraphics[width=1\\columnwidth]{si0}</td>\n",
       "      <td>Resuelve los siguientes sistemas de inecuaciones:</td>\n",
       "      <td>1BC</td>\n",
       "      <td>Autoevaluación 2 ev1</td>\n",
       "      <td>p026e08</td>\n",
       "      <td>1</td>\n",
       "      <td>2</td>\n",
       "      <td>1</td>\n",
       "      <td>True</td>\n",
       "      <td>False</td>\n",
       "    </tr>\n",
       "    <tr>\n",
       "      <th>27</th>\n",
       "      <td>\\left\\{\\begin{matrix}2x - y &lt; 1 \\\\ - x + 4y \\g...</td>\n",
       "      <td>[2*x - y &lt; 1, -x + 4*y &gt;= -5]</td>\n",
       "      <td>\\\\ \\includegraphics[width=1\\columnwidth]{si1}</td>\n",
       "      <td>Resuelve los siguientes sistemas de inecuaciones:</td>\n",
       "      <td>1BC</td>\n",
       "      <td>Autoevaluación 2 ev1</td>\n",
       "      <td>p026e08</td>\n",
       "      <td>1</td>\n",
       "      <td>2</td>\n",
       "      <td>1</td>\n",
       "      <td>True</td>\n",
       "      <td>False</td>\n",
       "    </tr>\n",
       "    <tr>\n",
       "      <th>28</th>\n",
       "      <td>\\left\\{\\begin{matrix}x - 2y &gt; 3\\\\5x - 3y \\leq ...</td>\n",
       "      <td>[x - 2*y &gt; 3, 5*x - 3*y &lt;= 15]</td>\n",
       "      <td>\\\\ \\includegraphics[width=1\\columnwidth]{si2}</td>\n",
       "      <td>Resuelve los siguientes sistemas de inecuaciones:</td>\n",
       "      <td>1BC</td>\n",
       "      <td>Autoevaluación 2 ev1</td>\n",
       "      <td>p026e08</td>\n",
       "      <td>1</td>\n",
       "      <td>2</td>\n",
       "      <td>1</td>\n",
       "      <td>True</td>\n",
       "      <td>False</td>\n",
       "    </tr>\n",
       "    <tr>\n",
       "      <th>29</th>\n",
       "      <td>\\left\\{\\begin{matrix}x \\geq y \\\\x + y \\geq 4\\\\...</td>\n",
       "      <td>[x &gt;= y, x + y &gt;= 4, x - 2*y &lt;= 8]</td>\n",
       "      <td>\\\\ \\includegraphics[width=1\\columnwidth]{si3}</td>\n",
       "      <td>Resuelve los siguientes sistemas de inecuaciones:</td>\n",
       "      <td>1BC</td>\n",
       "      <td>Autoevaluación 2 ev1</td>\n",
       "      <td>p026e08</td>\n",
       "      <td>1</td>\n",
       "      <td>2</td>\n",
       "      <td>1</td>\n",
       "      <td>True</td>\n",
       "      <td>False</td>\n",
       "    </tr>\n",
       "    <tr>\n",
       "      <th>30</th>\n",
       "      <td>\\left\\{\\begin{matrix}- 2 \\leq x\\\\x \\leq 2\\\\y \\...</td>\n",
       "      <td>[-2 &lt;= x, x &lt;= 2, y &gt;= 4, x + y - 1 &lt;= 0]</td>\n",
       "      <td>\\\\ \\includegraphics[width=1\\columnwidth]{si4}</td>\n",
       "      <td>Resuelve los siguientes sistemas de inecuaciones:</td>\n",
       "      <td>1BC</td>\n",
       "      <td>Autoevaluación 2 ev1</td>\n",
       "      <td>p026e08</td>\n",
       "      <td>1</td>\n",
       "      <td>2</td>\n",
       "      <td>1</td>\n",
       "      <td>True</td>\n",
       "      <td>False</td>\n",
       "    </tr>\n",
       "    <tr>\n",
       "      <th>31</th>\n",
       "      <td>\\left\\{\\begin{matrix}x \\geq 0 \\\\0 \\leq y\\\\y \\l...</td>\n",
       "      <td>[x &gt;= 0, 0 &lt;= y, y &lt;= 3, x - 2*y &lt;= 10, x + y ...</td>\n",
       "      <td>\\\\ \\includegraphics[width=1\\columnwidth]{si5}</td>\n",
       "      <td>Resuelve los siguientes sistemas de inecuaciones:</td>\n",
       "      <td>1BC</td>\n",
       "      <td>Autoevaluación 2 ev1</td>\n",
       "      <td>p026e08</td>\n",
       "      <td>1</td>\n",
       "      <td>2</td>\n",
       "      <td>1</td>\n",
       "      <td>True</td>\n",
       "      <td>False</td>\n",
       "    </tr>\n",
       "  </tbody>\n",
       "</table>\n",
       "</div>"
      ],
      "text/plain": [
       "                                      enunciado_latex  \\\n",
       "26  \\left\\{\\begin{matrix}x + y \\leq 2 \\\\ - 2x + y ...   \n",
       "27  \\left\\{\\begin{matrix}2x - y < 1 \\\\ - x + 4y \\g...   \n",
       "28  \\left\\{\\begin{matrix}x - 2y > 3\\\\5x - 3y \\leq ...   \n",
       "29  \\left\\{\\begin{matrix}x \\geq y \\\\x + y \\geq 4\\\\...   \n",
       "30  \\left\\{\\begin{matrix}- 2 \\leq x\\\\x \\leq 2\\\\y \\...   \n",
       "31  \\left\\{\\begin{matrix}x \\geq 0 \\\\0 \\leq y\\\\y \\l...   \n",
       "\n",
       "                                            enunciado  \\\n",
       "26                        [x + y <= 2, -2*x + y >= 4]   \n",
       "27                      [2*x - y < 1, -x + 4*y >= -5]   \n",
       "28                     [x - 2*y > 3, 5*x - 3*y <= 15]   \n",
       "29                 [x >= y, x + y >= 4, x - 2*y <= 8]   \n",
       "30          [-2 <= x, x <= 2, y >= 4, x + y - 1 <= 0]   \n",
       "31  [x >= 0, 0 <= y, y <= 3, x - 2*y <= 10, x + y ...   \n",
       "\n",
       "                                         solucion  \\\n",
       "26  \\\\ \\includegraphics[width=1\\columnwidth]{si0}   \n",
       "27  \\\\ \\includegraphics[width=1\\columnwidth]{si1}   \n",
       "28  \\\\ \\includegraphics[width=1\\columnwidth]{si2}   \n",
       "29  \\\\ \\includegraphics[width=1\\columnwidth]{si3}   \n",
       "30  \\\\ \\includegraphics[width=1\\columnwidth]{si4}   \n",
       "31  \\\\ \\includegraphics[width=1\\columnwidth]{si5}   \n",
       "\n",
       "                                                texto curso  \\\n",
       "26  Resuelve los siguientes sistemas de inecuaciones:   1BC   \n",
       "27  Resuelve los siguientes sistemas de inecuaciones:   1BC   \n",
       "28  Resuelve los siguientes sistemas de inecuaciones:   1BC   \n",
       "29  Resuelve los siguientes sistemas de inecuaciones:   1BC   \n",
       "30  Resuelve los siguientes sistemas de inecuaciones:   1BC   \n",
       "31  Resuelve los siguientes sistemas de inecuaciones:   1BC   \n",
       "\n",
       "                  titulo n_ejercicio  dificultad  n_columnas  puntos  \\\n",
       "26  Autoevaluación 2 ev1     p026e08           1           2       1   \n",
       "27  Autoevaluación 2 ev1     p026e08           1           2       1   \n",
       "28  Autoevaluación 2 ev1     p026e08           1           2       1   \n",
       "29  Autoevaluación 2 ev1     p026e08           1           2       1   \n",
       "30  Autoevaluación 2 ev1     p026e08           1           2       1   \n",
       "31  Autoevaluación 2 ev1     p026e08           1           2       1   \n",
       "\n",
       "    enun_tex  sol_tex  \n",
       "26      True    False  \n",
       "27      True    False  \n",
       "28      True    False  \n",
       "29      True    False  \n",
       "30      True    False  \n",
       "31      True    False  "
      ]
     },
     "metadata": {},
     "output_type": "display_data"
    }
   ],
   "source": [
    "df_ejercicios.to_csv('ejercicios_auto12.csv', index = False)\n",
    "df_ejercicios = pd.read_csv('ejercicios_auto12.csv', index_col= None)\n",
    "escribir_preambulo(fichero, titulo)\n",
    "for s in df_ejercicios.groupby('n_ejercicio').count().index : \n",
    "    display(md(\"**Ejercicio: **\" + s ))\n",
    "    display(df_ejercicios[df_ejercicios.n_ejercicio == s])\n",
    "    escribir_ejercicios(df_ejercicios[df_ejercicios.n_ejercicio == s],fichero)\n",
    "\n",
    "escribir_fin(fichero)"
   ]
  },
  {
   "cell_type": "code",
   "execution_count": null,
   "metadata": {},
   "outputs": [],
   "source": []
  }
 ],
 "metadata": {
  "kernelspec": {
   "display_name": "Python 3",
   "language": "python",
   "name": "python3"
  },
  "language_info": {
   "codemirror_mode": {
    "name": "ipython",
    "version": 3
   },
   "file_extension": ".py",
   "mimetype": "text/x-python",
   "name": "python",
   "nbconvert_exporter": "python",
   "pygments_lexer": "ipython3",
   "version": "3.6.5"
  }
 },
 "nbformat": 4,
 "nbformat_minor": 2
}
