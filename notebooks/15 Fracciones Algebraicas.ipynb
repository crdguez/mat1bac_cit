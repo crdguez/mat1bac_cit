{
 "cells": [
  {
   "cell_type": "markdown",
   "metadata": {},
   "source": [
    "<a href=\"https://colab.research.google.com/github/crdguez/mat1bac_cit/blob/master/notebooks/Ejercicios1_3.ipynb\"><img align=\"left\" src=\"https://colab.research.google.com/assets/colab-badge.svg\" alt=\"Open in Colab\" title=\"Open and Execute in Google Colaboratory\"></a>"
   ]
  },
  {
   "cell_type": "code",
   "execution_count": 1,
   "metadata": {},
   "outputs": [
    {
     "name": "stdout",
     "output_type": "stream",
     "text": [
      "IPython console for SymPy 1.2 (Python 3.6.5-64-bit) (ground types: gmpy)\n",
      "\n",
      "These commands were executed:\n",
      ">>> from __future__ import division\n",
      ">>> from sympy import *\n",
      ">>> x, y, z, t = symbols('x y z t')\n",
      ">>> k, m, n = symbols('k m n', integer=True)\n",
      ">>> f, g, h = symbols('f g h', cls=Function)\n",
      ">>> init_printing()\n",
      "\n",
      "Documentation can be found at http://docs.sympy.org/1.2/\n",
      "\n"
     ]
    }
   ],
   "source": [
    "from sympy import init_session\n",
    "from sympy import div, QQ\n",
    "from sympy.parsing.latex import parse_latex\n",
    "from sympy.parsing.sympy_parser import parse_expr\n",
    "#from sympy.functions.combinatorial.numbers import nC, nP, nT\n",
    "from IPython.display import Markdown as md\n",
    "from IPython.display import display\n",
    "import pandas as pd\n",
    "\n",
    "init_session()\n",
    "\n",
    "a, b, c, d = symbols('a b c d', real = True)\n",
    "from docparts import añadir_ejercicios, doc_ejer, escribir_preambulo, escribir_ejercicios, escribir_fin\n",
    "\n",
    "df_ejercicios = pd.DataFrame()\n",
    "\n",
    "fichero = 'fraccionesalg'\n",
    "titulo = '5 - Fracciones Algebraicas'\n",
    "curso = '1BC'\n",
    "\n"
   ]
  },
  {
   "cell_type": "code",
   "execution_count": 2,
   "metadata": {},
   "outputs": [
    {
     "data": {
      "text/markdown": [
       "Comprueba si son equivalentes las siguientes fracciones algebraicas:"
      ],
      "text/plain": [
       "<IPython.core.display.Markdown object>"
      ]
     },
     "metadata": {},
     "output_type": "display_data"
    },
    {
     "data": {
      "text/markdown": [
       "$\\frac{{{x^2} - 1}}{{x + 3}} , \\frac{{{x^3} + 2{x^2} - x - 2}}{{{x^2} + 5x + 6}} \\rightarrow \\frac{\\left(- x + \\left(x^{3} + 2 x^{2}\\right)\\right) - 2}{\\left(x^{2} + 5 x\\right) + 6} - \\frac{x^{2} - 1}{x + 3}=0$"
      ],
      "text/plain": [
       "<IPython.core.display.Markdown object>"
      ]
     },
     "metadata": {},
     "output_type": "display_data"
    },
    {
     "data": {
      "text/markdown": [
       "$\\frac{{{x^2} - 4}}{{{x^2} - 2x}}  , \\frac{{x + 2}}{x} \\rightarrow - \\frac{x^{2} - 4}{x^{2} - 2 x} + \\frac{x + 2}{x}=0$"
      ],
      "text/plain": [
       "<IPython.core.display.Markdown object>"
      ]
     },
     "metadata": {},
     "output_type": "display_data"
    }
   ],
   "source": [
    "# Página 14 ejercicios 1 y 3\n",
    "\n",
    "\n",
    "texto_ejercicio = r'Comprueba si son equivalentes las siguientes fracciones algebraicas:'\n",
    "\n",
    "n_ejercicio = 'p014e01y3'\n",
    "\n",
    "display(md(\"\"+texto_ejercicio+\"\"))\n",
    "\n",
    "\n",
    "pre_enunciado_latex = [[r'\\frac{{{x^2} - 1}}{{x + 3}}', r'\\frac{{{x^3} + 2{x^2} - x - 2}}{{{x^2} + 5x + 6}}'],\n",
    "                  [r'\\frac{{{x^2} - 4}}{{{x^2} - 2x}} ', r'\\frac{{x + 2}}{x}']\n",
    "                  ]\n",
    "enunciado_latex, enunciado, solucion = [], [], []\n",
    "\n",
    "for i, s  in enumerate(pre_enunciado_latex) :\n",
    "    enunciado_latex.append(s[0] + r\" \\ y  \\ \" + s[1])\n",
    "    enunciado.append(parse_latex(s[1])-parse_latex(s[0]))\n",
    "    solucion.append(latex(enunciado[i]) + \"=\" +latex(cancel(parse_latex(s[1])-parse_latex(s[0]))))\n",
    "    display(md(\"$\"+ s[0] + \" , \" + s[1]  +\" \\\\rightarrow \" + solucion[i]+\"$\"))\n",
    "    \n",
    "     \n",
    "\n",
    "df_ejercicios = df_ejercicios.append(añadir_ejercicios(enunciado_latex, enunciado, solucion, texto_ejercicio, curso, titulo, n_ejercicio,'1','2'), ignore_index=True)\n"
   ]
  },
  {
   "cell_type": "code",
   "execution_count": 3,
   "metadata": {},
   "outputs": [
    {
     "data": {
      "text/markdown": [
       "**Obtén la fracción irreducible (simplifica) equivalente a las fracciones algebraicas:**"
      ],
      "text/plain": [
       "<IPython.core.display.Markdown object>"
      ]
     },
     "metadata": {},
     "output_type": "display_data"
    },
    {
     "data": {
      "text/markdown": [
       "$\\frac{{2{x^3} - 5{x^2} - 23x - 10}}{{{x^3} + 3{x^2} - 4x - 12}} \\rightarrow \\frac{2 x^{2} - 9 x - 5}{x^{2} + x - 6}$"
      ],
      "text/plain": [
       "<IPython.core.display.Markdown object>"
      ]
     },
     "metadata": {},
     "output_type": "display_data"
    },
    {
     "data": {
      "text/markdown": [
       "$\\frac{{{x^3} -16x}}{{{x^3} + 3{x^2} - 4x}} \\rightarrow \\frac{x - 4}{x - 1}$"
      ],
      "text/plain": [
       "<IPython.core.display.Markdown object>"
      ]
     },
     "metadata": {},
     "output_type": "display_data"
    },
    {
     "data": {
      "text/markdown": [
       "$\\frac{{{x^2} + 3x - 4}}{{{x^3} - x}} \\rightarrow \\frac{x + 4}{x^{2} + x}$"
      ],
      "text/plain": [
       "<IPython.core.display.Markdown object>"
      ]
     },
     "metadata": {},
     "output_type": "display_data"
    },
    {
     "data": {
      "text/markdown": [
       "$\\frac{{{x^3} - 1}}{{{x^2} - x}} \\rightarrow \\frac{x^{2} + x + 1}{x}$"
      ],
      "text/plain": [
       "<IPython.core.display.Markdown object>"
      ]
     },
     "metadata": {},
     "output_type": "display_data"
    }
   ],
   "source": [
    "# Página 14 ejercicio 4\n",
    "\n",
    "texto_ejercicio = 'Obtén la fracción irreducible (simplifica) equivalente a las fracciones algebraicas:'\n",
    "n_ejercicio = 'p014e04'\n",
    "\n",
    "display(md(\"**\"+texto_ejercicio+\"**\"))\n",
    "\n",
    "enunciado_latex = [r'\\frac{{2{x^3} - 5{x^2} - 23x - 10}}{{{x^3} + 3{x^2} - 4x - 12}}',\n",
    "                   r'\\frac{{{x^3} -16x}}{{{x^3} + 3{x^2} - 4x}}',\n",
    "                   r'\\frac{{{x^2} + 3x - 4}}{{{x^3} - x}}',\n",
    "                   r'\\frac{{{x^3} - 1}}{{{x^2} - x}}'\n",
    "                   \n",
    "                  ]\n",
    "\n",
    "\n",
    "\n",
    "\n",
    "enunciado, solucion = [], []\n",
    "\n",
    "for i, s in enumerate(enunciado_latex) : \n",
    "    enunciado.append(parse_latex(s))\n",
    "    solucion.append(latex(cancel(parse_latex(s), domain = 'QQ<sqrt(2)>'))) \n",
    "    display(md(\"$\"+ s +\" \\\\rightarrow \" + solucion[i] +\"$\"))\n",
    "\n",
    "df_ejercicios = df_ejercicios.append(añadir_ejercicios(enunciado_latex, enunciado, solucion, texto_ejercicio, curso, titulo , n_ejercicio, '1', '2'), ignore_index=True)\n"
   ]
  },
  {
   "cell_type": "code",
   "execution_count": 4,
   "metadata": {
    "scrolled": true
   },
   "outputs": [
    {
     "data": {
      "text/markdown": [
       "**Simplifica las siguientes fracciones algebraicas:**"
      ],
      "text/plain": [
       "<IPython.core.display.Markdown object>"
      ]
     },
     "metadata": {},
     "output_type": "display_data"
    },
    {
     "data": {
      "text/markdown": [
       "$\\frac{{{x^2} - 9}}{{x + 3}} \\rightarrow x - 3$"
      ],
      "text/plain": [
       "<IPython.core.display.Markdown object>"
      ]
     },
     "metadata": {},
     "output_type": "display_data"
    },
    {
     "data": {
      "text/markdown": [
       "$\\frac{{{x^2} - 1}}{{{x^3} - x}} \\rightarrow \\frac{1}{x}$"
      ],
      "text/plain": [
       "<IPython.core.display.Markdown object>"
      ]
     },
     "metadata": {},
     "output_type": "display_data"
    },
    {
     "data": {
      "text/markdown": [
       "$\\frac{{{x^4} - 4{x^2} + 4}}{{{x^4} - 4}} \\rightarrow \\frac{x^{2} - 2}{x^{2} + 2}$"
      ],
      "text/plain": [
       "<IPython.core.display.Markdown object>"
      ]
     },
     "metadata": {},
     "output_type": "display_data"
    },
    {
     "data": {
      "text/markdown": [
       "$\\frac{{3{x^2} + x}}{{3{x^3} + {x^2} - 12x - 4}} \\rightarrow \\frac{3 x}{3 x^{2} - 12}$"
      ],
      "text/plain": [
       "<IPython.core.display.Markdown object>"
      ]
     },
     "metadata": {},
     "output_type": "display_data"
    },
    {
     "data": {
      "text/markdown": [
       "$\\frac{{2{x^3} + 3{x^2} - 8x + 3}}{{2{x^3} - {x^2} - 2x - 1}} \\rightarrow \\frac{2 x^{3} + 3 x^{2} - 8 x + 3}{2 x^{3} - x^{2} - 2 x - 1}$"
      ],
      "text/plain": [
       "<IPython.core.display.Markdown object>"
      ]
     },
     "metadata": {},
     "output_type": "display_data"
    },
    {
     "data": {
      "text/markdown": [
       "$\\frac{{{x^3} - 5{x^2} + 6x}}{{{x^3} - 4x}} \\rightarrow \\frac{x - 3}{x + 2}$"
      ],
      "text/plain": [
       "<IPython.core.display.Markdown object>"
      ]
     },
     "metadata": {},
     "output_type": "display_data"
    },
    {
     "data": {
      "text/markdown": [
       "$\\frac{{2x - 5}}{{2{x^3} - 5{x^2} - 2x + 5}} \\rightarrow \\frac{2}{2 x^{2} - 2}$"
      ],
      "text/plain": [
       "<IPython.core.display.Markdown object>"
      ]
     },
     "metadata": {},
     "output_type": "display_data"
    },
    {
     "data": {
      "text/markdown": [
       "$\\frac{x - 2}{{x^2} - 4} \\rightarrow \\frac{1}{x + 2}$"
      ],
      "text/plain": [
       "<IPython.core.display.Markdown object>"
      ]
     },
     "metadata": {},
     "output_type": "display_data"
    },
    {
     "data": {
      "text/markdown": [
       "$\\frac{{{x^2} - 2}}{{x - \\sqrt {2 }}} \\rightarrow x + \\sqrt{2}$"
      ],
      "text/plain": [
       "<IPython.core.display.Markdown object>"
      ]
     },
     "metadata": {},
     "output_type": "display_data"
    },
    {
     "data": {
      "text/markdown": [
       "$\\frac{{{x^2} + 2x + 1}}{{{x^2} - 1}} \\rightarrow \\frac{x + 1}{x - 1}$"
      ],
      "text/plain": [
       "<IPython.core.display.Markdown object>"
      ]
     },
     "metadata": {},
     "output_type": "display_data"
    },
    {
     "data": {
      "text/markdown": [
       "$\\frac{{{x^3} - 2{x^2} - 5x + 6}}{{{x^2} + x - 2}} \\rightarrow x - 3$"
      ],
      "text/plain": [
       "<IPython.core.display.Markdown object>"
      ]
     },
     "metadata": {},
     "output_type": "display_data"
    }
   ],
   "source": [
    "# Página 15 ejercicio 5\n",
    "\n",
    "texto_ejercicio = 'Simplifica las siguientes fracciones algebraicas:'\n",
    "n_ejercicio = 'p015e05'\n",
    "\n",
    "display(md(\"**\"+texto_ejercicio+\"**\"))\n",
    "\n",
    "enunciado_latex = [r'\\frac{{{x^2} - 9}}{{x + 3}}',\n",
    "                   r'\\frac{{{x^2} - 1}}{{{x^3} - x}}',\n",
    "                   r'\\frac{{{x^4} - 4{x^2} + 4}}{{{x^4} - 4}}',\n",
    "                   r'\\frac{{3{x^2} + x}}{{3{x^3} + {x^2} - 12x - 4}}',\n",
    "                   r'\\frac{{2{x^3} + 3{x^2} - 8x + 3}}{{2{x^3} - {x^2} - 2x - 1}}',\n",
    "                   r'\\frac{{{x^3} - 5{x^2} + 6x}}{{{x^3} - 4x}}',\n",
    "                   r'\\frac{{2x - 5}}{{2{x^3} - 5{x^2} - 2x + 5}}',\n",
    "                   r'\\frac{x - 2}{{x^2} - 4}',\n",
    "                   r'\\frac{{{x^2} - 2}}{{x - \\sqrt {2 }}}',\n",
    "                   r'\\frac{{{x^2} + 2x + 1}}{{{x^2} - 1}}',\n",
    "                   r'\\frac{{{x^3} - 2{x^2} - 5x + 6}}{{{x^2} + x - 2}}'   \n",
    "                  ]\n",
    "\n",
    "\n",
    "\n",
    "\n",
    "enunciado, solucion = [], []\n",
    "\n",
    "for i, s in enumerate(enunciado_latex) : \n",
    "    enunciado.append(parse_latex(s))\n",
    "    solucion.append(latex(cancel(parse_latex(s), domain = 'QQ<sqrt(2)>'))) \n",
    "    display(md(\"$\"+ s +\" \\\\rightarrow \" + solucion[i] +\"$\"))\n",
    "\n",
    "df_ejercicios = df_ejercicios.append(añadir_ejercicios(enunciado_latex, enunciado, solucion, texto_ejercicio, curso, titulo , n_ejercicio, '1', '2'), ignore_index=True)\n"
   ]
  },
  {
   "cell_type": "code",
   "execution_count": 5,
   "metadata": {},
   "outputs": [
    {
     "data": {
      "text/markdown": [
       "**Calcula, simplificando el resultado:**"
      ],
      "text/plain": [
       "<IPython.core.display.Markdown object>"
      ]
     },
     "metadata": {},
     "output_type": "display_data"
    },
    {
     "data": {
      "text/markdown": [
       "$\\frac{2}{{x + 7}} + \\frac{{x + 4}}{{x - 7}} \\rightarrow \\frac{x^{2} + 13 x + 14}{x^{2} - 49}$"
      ],
      "text/plain": [
       "<IPython.core.display.Markdown object>"
      ]
     },
     "metadata": {},
     "output_type": "display_data"
    },
    {
     "data": {
      "text/markdown": [
       "$\\frac{1}{{x + 5}} + \\frac{x}{{{x^2} + 10x + 25}} \\rightarrow \\frac{2 x + 5}{x^{2} + 10 x + 25}$"
      ],
      "text/plain": [
       "<IPython.core.display.Markdown object>"
      ]
     },
     "metadata": {},
     "output_type": "display_data"
    },
    {
     "data": {
      "text/markdown": [
       "$\\frac{1}{{x + 5}} - \\frac{x}{{{x^2} + 10x + 25}} \\rightarrow \\frac{5}{x^{2} + 10 x + 25}$"
      ],
      "text/plain": [
       "<IPython.core.display.Markdown object>"
      ]
     },
     "metadata": {},
     "output_type": "display_data"
    },
    {
     "data": {
      "text/markdown": [
       "$\\frac{{12}}{{x - 3}} + \\frac{{x + 4}}{{2x + 1}} - \\frac{x}{{{x^2} - 6x + 9}} \\rightarrow \\frac{x^{3} + 20 x^{2} - 76 x}{2 x^{3} - 11 x^{2} + 12 x + 9}$"
      ],
      "text/plain": [
       "<IPython.core.display.Markdown object>"
      ]
     },
     "metadata": {},
     "output_type": "display_data"
    },
    {
     "data": {
      "text/markdown": [
       "$\\frac{1}{{x - 1}} \\cdot \\frac{{{x^2} - 1}}{{x + 2}} \\cdot \\frac{{x + 2}}{{x - 3}} \\rightarrow \\frac{x + 1}{x - 3}$"
      ],
      "text/plain": [
       "<IPython.core.display.Markdown object>"
      ]
     },
     "metadata": {},
     "output_type": "display_data"
    },
    {
     "data": {
      "text/markdown": [
       "$\\frac{{2x + 1}}{x} \\cdot \\frac{{{x^2} - 3x}}{{4{x^2} - 1}} \\rightarrow \\frac{2 x - 6}{4 x - 2}$"
      ],
      "text/plain": [
       "<IPython.core.display.Markdown object>"
      ]
     },
     "metadata": {},
     "output_type": "display_data"
    },
    {
     "data": {
      "text/markdown": [
       "$\\frac{{3x - 1}}{x} \\cdot \\frac{{{x^2}}}{{9{x^2} - 1}} \\rightarrow \\frac{3 x}{9 x + 3}$"
      ],
      "text/plain": [
       "<IPython.core.display.Markdown object>"
      ]
     },
     "metadata": {},
     "output_type": "display_data"
    },
    {
     "data": {
      "text/markdown": [
       "${7x}:\\frac{{{x^2} - 4x}}{{x - 2}} \\rightarrow \\frac{7 x - 14}{x - 4}$"
      ],
      "text/plain": [
       "<IPython.core.display.Markdown object>"
      ]
     },
     "metadata": {},
     "output_type": "display_data"
    },
    {
     "data": {
      "text/markdown": [
       "$\\frac{{x - 3}}{{x - 1}}:\\frac{{{x^2} - 3x}}{{{x^2} - 1}} \\rightarrow \\frac{x + 1}{x}$"
      ],
      "text/plain": [
       "<IPython.core.display.Markdown object>"
      ]
     },
     "metadata": {},
     "output_type": "display_data"
    },
    {
     "data": {
      "text/markdown": [
       "$\\frac{{{x^2} - 3x - 4}}{x}:\\frac{{x + 1}}{{{x^2} + 2x}} \\rightarrow x^{2} - 2 x - 8$"
      ],
      "text/plain": [
       "<IPython.core.display.Markdown object>"
      ]
     },
     "metadata": {},
     "output_type": "display_data"
    }
   ],
   "source": [
    "# Página 15 ejercicio 7\n",
    "\n",
    "texto_ejercicio = 'Calcula, simplificando el resultado:'\n",
    "n_ejercicio = 'p015e07'\n",
    "\n",
    "display(md(\"**\"+texto_ejercicio+\"**\"))\n",
    "\n",
    "enunciado_latex = [r'\\frac{2}{{x + 7}} + \\frac{{x + 4}}{{x - 7}}',\n",
    "                   r'\\frac{1}{{x + 5}} + \\frac{x}{{{x^2} + 10x + 25}}',\n",
    "                   r'\\frac{1}{{x + 5}} - \\frac{x}{{{x^2} + 10x + 25}}',\n",
    "                   r'\\frac{{12}}{{x - 3}} + \\frac{{x + 4}}{{2x + 1}} - \\frac{x}{{{x^2} - 6x + 9}}',\n",
    "                   r'\\frac{1}{{x - 1}} \\cdot \\frac{{{x^2} - 1}}{{x + 2}} \\cdot \\frac{{x + 2}}{{x - 3}}',\n",
    "                   r'\\frac{{2x + 1}}{x} \\cdot \\frac{{{x^2} - 3x}}{{4{x^2} - 1}}',\n",
    "                   r'\\frac{{3x - 1}}{x} \\cdot \\frac{{{x^2}}}{{9{x^2} - 1}}',\n",
    "                   r'{7x}:\\frac{{{x^2} - 4x}}{{x - 2}}',\n",
    "                   r'\\frac{{x - 3}}{{x - 1}}:\\frac{{{x^2} - 3x}}{{{x^2} - 1}}',\n",
    "                   r'\\frac{{{x^2} - 3x - 4}}{x}:\\frac{{x + 1}}{{{x^2} + 2x}}' \n",
    "                  ]\n",
    "\n",
    "\n",
    "\n",
    "\n",
    "enunciado, solucion = [], []\n",
    "\n",
    "for i, s in enumerate(enunciado_latex) : \n",
    "    enunciado.append(parse_latex(s))\n",
    "    solucion.append(latex(cancel(parse_latex(s), domain = 'QQ<sqrt(2)>'))) \n",
    "    display(md(\"$\"+ s +\" \\\\rightarrow \" + solucion[i] +\"$\"))\n",
    "\n",
    "df_ejercicios = df_ejercicios.append(añadir_ejercicios(enunciado_latex, enunciado, solucion, texto_ejercicio, curso, titulo , n_ejercicio, '1', '2'), ignore_index=True)\n"
   ]
  },
  {
   "cell_type": "code",
   "execution_count": 6,
   "metadata": {},
   "outputs": [
    {
     "data": {
      "text/markdown": [
       "**Efectúa simplificando el resultado si es posible:**"
      ],
      "text/plain": [
       "<IPython.core.display.Markdown object>"
      ]
     },
     "metadata": {},
     "output_type": "display_data"
    },
    {
     "data": {
      "text/markdown": [
       "$\\frac{x}{{x + 1}} + \\frac{{3x}}{{{x^2} - 1}} - \\frac{1}{{x - 1}} \\rightarrow \\frac{x^{2} + x - 1}{x^{2} - 1}$"
      ],
      "text/plain": [
       "<IPython.core.display.Markdown object>"
      ]
     },
     "metadata": {},
     "output_type": "display_data"
    },
    {
     "data": {
      "text/markdown": [
       "$\\frac{x}{{{x^2} - 5x + 6}} + \\frac{2}{{x - 3}} - \\frac{3}{{x - 2}} \\rightarrow \\frac{5}{x^{2} - 5 x + 6}$"
      ],
      "text/plain": [
       "<IPython.core.display.Markdown object>"
      ]
     },
     "metadata": {},
     "output_type": "display_data"
    },
    {
     "data": {
      "text/markdown": [
       "$\\frac{2}{{x - 2}} + \\frac{1}{{x + 2}} - \\frac{{x - 1}}{{{x^2} - 4}} \\rightarrow \\frac{2 x + 3}{x^{2} - 4}$"
      ],
      "text/plain": [
       "<IPython.core.display.Markdown object>"
      ]
     },
     "metadata": {},
     "output_type": "display_data"
    },
    {
     "data": {
      "text/markdown": [
       "$\\frac{x}{{{x^2} - 9x + 20}} - \\frac{1}{{{x^2} - 11x + 30}} + \\frac{2}{{{x^2} - 10x + 24}} \\rightarrow \\frac{x + 1}{x^{2} - 9 x + 20}$"
      ],
      "text/plain": [
       "<IPython.core.display.Markdown object>"
      ]
     },
     "metadata": {},
     "output_type": "display_data"
    },
    {
     "data": {
      "text/markdown": [
       "$\\frac{{{x^2} + 3x + 2}}{{{x^2} - 3x + 2}} \\cdot \\frac{{{x^2} - 1}}{{{x^2} - x - 6}} \\rightarrow \\frac{x^{2} + 2 x + 1}{x^{2} - 5 x + 6}$"
      ],
      "text/plain": [
       "<IPython.core.display.Markdown object>"
      ]
     },
     "metadata": {},
     "output_type": "display_data"
    },
    {
     "data": {
      "text/markdown": [
       "$\\frac{{3x - 2}}{{10x + 4}} \\cdot \\frac{{4x}}{{6x - 4}} \\rightarrow \\frac{x}{5 x + 2}$"
      ],
      "text/plain": [
       "<IPython.core.display.Markdown object>"
      ]
     },
     "metadata": {},
     "output_type": "display_data"
    },
    {
     "data": {
      "text/markdown": [
       "$\\frac{{3{x^2} + 5x - 2}}{{{x^4} + 2{x^2} - 15}}:\\frac{{9{x^2} - 6x + 1}}{{{x^4} + 5{x^2}}} \\rightarrow \\frac{3 x^{3} + 6 x^{2}}{9 x^{3} - 3 x^{2} - 27 x + 9}$"
      ],
      "text/plain": [
       "<IPython.core.display.Markdown object>"
      ]
     },
     "metadata": {},
     "output_type": "display_data"
    },
    {
     "data": {
      "text/markdown": [
       "$\\frac{x}{{{x^2} + 5x + 6}} - \\frac{2}{{x + 2}} + \\frac{3}{{x + 3}} \\rightarrow \\frac{2 x}{x^{2} + 5 x + 6}$"
      ],
      "text/plain": [
       "<IPython.core.display.Markdown object>"
      ]
     },
     "metadata": {},
     "output_type": "display_data"
    },
    {
     "data": {
      "text/markdown": [
       "$\\frac{{{x^2} - 2x - 3}}{{{x^2} - 5x}} \\cdot \\frac{{{x^2} - 4x - 5}}{{{x^2} - 4x + 3}} \\rightarrow \\frac{x^{2} + 2 x + 1}{x^{2} - x}$"
      ],
      "text/plain": [
       "<IPython.core.display.Markdown object>"
      ]
     },
     "metadata": {},
     "output_type": "display_data"
    },
    {
     "data": {
      "text/markdown": [
       "$\\frac{{{x^2} - 4}}{{{x^3} - {x^2} + 3x - 3}}:\\frac{{{x^2} - 3x + 2}}{{{x^3} + 3x}} \\rightarrow \\frac{x^{2} + 2 x}{x^{2} - 2 x + 1}$"
      ],
      "text/plain": [
       "<IPython.core.display.Markdown object>"
      ]
     },
     "metadata": {},
     "output_type": "display_data"
    },
    {
     "data": {
      "text/markdown": [
       "$\\frac{x}{{{x^2} - 2x + 1}} - \\frac{{x - 3}}{{{x^2} - x}} \\rightarrow \\frac{4 x - 3}{x^{3} - 2 x^{2} + x}$"
      ],
      "text/plain": [
       "<IPython.core.display.Markdown object>"
      ]
     },
     "metadata": {},
     "output_type": "display_data"
    },
    {
     "data": {
      "text/markdown": [
       "$\\frac{{x + 1}}{{{x^2} - 4}} + \\frac{{2x - 1}}{{{x^2} + 2x}} + \\frac{{3x - 2}}{{{x^2} - 2x}} \\rightarrow \\frac{6 x^{2} - 2}{x^{3} - 4 x}$"
      ],
      "text/plain": [
       "<IPython.core.display.Markdown object>"
      ]
     },
     "metadata": {},
     "output_type": "display_data"
    },
    {
     "data": {
      "text/markdown": [
       "$\\frac{{\\frac{{x + 1}}{{{x^2}}}}}{{\\frac{{{x^2} - 1}}{{{x^3}}}}} \\rightarrow \\frac{x}{x - 1}$"
      ],
      "text/plain": [
       "<IPython.core.display.Markdown object>"
      ]
     },
     "metadata": {},
     "output_type": "display_data"
    },
    {
     "data": {
      "text/markdown": [
       "$( {\\frac{1}{{{x^2} - 1}}} ):\\frac{1}{{\\frac{1}{{1 + {x^2}}} + \\frac{{2{x^2}}}{{1 - {x^4}}}}} \\rightarrow - \\frac{1}{x^{4} - 2 x^{2} + 1}$"
      ],
      "text/plain": [
       "<IPython.core.display.Markdown object>"
      ]
     },
     "metadata": {},
     "output_type": "display_data"
    },
    {
     "data": {
      "text/markdown": [
       "$\\frac{x}{{1 + \\frac{1}{{1 + \\frac{1}{x}}}}} \\rightarrow \\frac{x^{2} + x}{2 x + 1}$"
      ],
      "text/plain": [
       "<IPython.core.display.Markdown object>"
      ]
     },
     "metadata": {},
     "output_type": "display_data"
    },
    {
     "data": {
      "text/markdown": [
       "$\\frac{{\\frac{1}{{x - 2}} - \\frac{1}{{x + 2}}}}{{1 - \\frac{4}{{{x^2} - 4}}}} \\rightarrow \\frac{4}{x^{2} - 8}$"
      ],
      "text/plain": [
       "<IPython.core.display.Markdown object>"
      ]
     },
     "metadata": {},
     "output_type": "display_data"
    },
    {
     "data": {
      "text/markdown": [
       "$\\frac{1}{{\\frac{{x + 1}}{{x - 1}} - \\frac{{x - 1}}{{x + 1}}}} \\rightarrow \\frac{x^{2} - 1}{4 x}$"
      ],
      "text/plain": [
       "<IPython.core.display.Markdown object>"
      ]
     },
     "metadata": {},
     "output_type": "display_data"
    },
    {
     "data": {
      "text/markdown": [
       "$( {{x^3} + x} ):( {1 - \\frac{{2x}}{{2x + \\frac{2}{x}}}}) \\rightarrow x^{5} + 2 x^{3} + x$"
      ],
      "text/plain": [
       "<IPython.core.display.Markdown object>"
      ]
     },
     "metadata": {},
     "output_type": "display_data"
    },
    {
     "data": {
      "text/markdown": [
       "$( {\\frac{1}{x} - \\frac{1}{{x + 1}}})( {x - \\frac{{x + 1}}{{x - 1}}}) \\rightarrow \\frac{x^{2} - 2 x - 1}{x^{3} - x}$"
      ],
      "text/plain": [
       "<IPython.core.display.Markdown object>"
      ]
     },
     "metadata": {},
     "output_type": "display_data"
    },
    {
     "data": {
      "text/markdown": [
       "$\\frac{1}{x}( {\\frac{2}{x} - \\frac{3}{{x + 1}}} ) - \\frac{{x + 1}}{x}( {3 - \\frac{4}{{x + 1}}} ) \\rightarrow - \\frac{3 x^{3} + 2 x^{2} - 2}{x^{3} + x^{2}}$"
      ],
      "text/plain": [
       "<IPython.core.display.Markdown object>"
      ]
     },
     "metadata": {},
     "output_type": "display_data"
    },
    {
     "data": {
      "text/markdown": [
       "$\\frac{{\\frac{{x - 1}}{{x + 2}} - \\frac{{x + 2}}{{x - 1}}}}{{1 - \\frac{1}{{x - 1}}}} \\rightarrow - \\frac{6 x + 3}{x^{2} - 4}$"
      ],
      "text/plain": [
       "<IPython.core.display.Markdown object>"
      ]
     },
     "metadata": {},
     "output_type": "display_data"
    }
   ],
   "source": [
    "# Página 15 ejercicio 9\n",
    "\n",
    "texto_ejercicio = 'Efectúa simplificando el resultado si es posible:'\n",
    "n_ejercicio = 'p015e09'\n",
    "\n",
    "display(md(\"**\"+texto_ejercicio+\"**\"))\n",
    "\n",
    "enunciado_latex = [r'\\frac{x}{{x + 1}} + \\frac{{3x}}{{{x^2} - 1}} - \\frac{1}{{x - 1}}',\n",
    "                   r'\\frac{x}{{{x^2} - 5x + 6}} + \\frac{2}{{x - 3}} - \\frac{3}{{x - 2}}',\n",
    "                   r'\\frac{2}{{x - 2}} + \\frac{1}{{x + 2}} - \\frac{{x - 1}}{{{x^2} - 4}}',\n",
    "                   r'\\frac{x}{{{x^2} - 9x + 20}} - \\frac{1}{{{x^2} - 11x + 30}} + \\frac{2}{{{x^2} - 10x + 24}}',\n",
    "                   r'\\frac{{{x^2} + 3x + 2}}{{{x^2} - 3x + 2}} \\cdot \\frac{{{x^2} - 1}}{{{x^2} - x - 6}}',\n",
    "                   r'\\frac{{3x - 2}}{{10x + 4}} \\cdot \\frac{{4x}}{{6x - 4}}',\n",
    "                   r'\\frac{{3{x^2} + 5x - 2}}{{{x^4} + 2{x^2} - 15}}:\\frac{{9{x^2} - 6x + 1}}{{{x^4} + 5{x^2}}}',\n",
    "                   r'\\frac{x}{{{x^2} + 5x + 6}} - \\frac{2}{{x + 2}} + \\frac{3}{{x + 3}}',\n",
    "                   r'\\frac{{{x^2} - 2x - 3}}{{{x^2} - 5x}} \\cdot \\frac{{{x^2} - 4x - 5}}{{{x^2} - 4x + 3}}',\n",
    "                   r'\\frac{{{x^2} - 4}}{{{x^3} - {x^2} + 3x - 3}}:\\frac{{{x^2} - 3x + 2}}{{{x^3} + 3x}}',\n",
    "                   r'\\frac{x}{{{x^2} - 2x + 1}} - \\frac{{x - 3}}{{{x^2} - x}}',\n",
    "                   r'\\frac{{x + 1}}{{{x^2} - 4}} + \\frac{{2x - 1}}{{{x^2} + 2x}} + \\frac{{3x - 2}}{{{x^2} - 2x}}',\n",
    "                   r'\\frac{{\\frac{{x + 1}}{{{x^2}}}}}{{\\frac{{{x^2} - 1}}{{{x^3}}}}}',\n",
    "                   r'( {\\frac{1}{{{x^2} - 1}}} ):\\frac{1}{{\\frac{1}{{1 + {x^2}}} + \\frac{{2{x^2}}}{{1 - {x^4}}}}}',\n",
    "                   r'\\frac{x}{{1 + \\frac{1}{{1 + \\frac{1}{x}}}}}',\n",
    "                   r'\\frac{{\\frac{1}{{x - 2}} - \\frac{1}{{x + 2}}}}{{1 - \\frac{4}{{{x^2} - 4}}}}',\n",
    "                   r'\\frac{1}{{\\frac{{x + 1}}{{x - 1}} - \\frac{{x - 1}}{{x + 1}}}}',\n",
    "                   r'( {{x^3} + x} ):( {1 - \\frac{{2x}}{{2x + \\frac{2}{x}}}})',\n",
    "                   r'( {\\frac{1}{x} - \\frac{1}{{x + 1}}})( {x - \\frac{{x + 1}}{{x - 1}}})',\n",
    "                   r'\\frac{1}{x}( {\\frac{2}{x} - \\frac{3}{{x + 1}}} ) - \\frac{{x + 1}}{x}( {3 - \\frac{4}{{x + 1}}} )',\n",
    "                   r'\\frac{{\\frac{{x - 1}}{{x + 2}} - \\frac{{x + 2}}{{x - 1}}}}{{1 - \\frac{1}{{x - 1}}}}'\n",
    "                   \n",
    "                  ]\n",
    "\n",
    "\n",
    "\n",
    "\n",
    "enunciado, solucion = [], []\n",
    "\n",
    "for i, s in enumerate(enunciado_latex) : \n",
    "    enunciado.append(parse_latex(s))\n",
    "    solucion.append(latex(cancel(parse_latex(s), domain = 'QQ<sqrt(2)>'))) \n",
    "    display(md(\"$\"+ s +\" \\\\rightarrow \" + solucion[i] +\"$\"))\n",
    "\n",
    "df_ejercicios = df_ejercicios.append(añadir_ejercicios(enunciado_latex, enunciado, solucion, texto_ejercicio, curso, titulo , n_ejercicio, '1', '2'), ignore_index=True)\n"
   ]
  },
  {
   "cell_type": "code",
   "execution_count": 7,
   "metadata": {},
   "outputs": [],
   "source": [
    "df_ejercicios.to_csv('ejercicios5.csv', index = False)"
   ]
  },
  {
   "cell_type": "code",
   "execution_count": 8,
   "metadata": {},
   "outputs": [],
   "source": [
    "df_ejercicios = pd.read_csv('ejercicios5.csv', index_col= None)"
   ]
  },
  {
   "cell_type": "code",
   "execution_count": 9,
   "metadata": {},
   "outputs": [
    {
     "data": {
      "text/markdown": [
       "**Ejercicio: **p014e01y3"
      ],
      "text/plain": [
       "<IPython.core.display.Markdown object>"
      ]
     },
     "metadata": {},
     "output_type": "display_data"
    },
    {
     "data": {
      "text/html": [
       "<div>\n",
       "<style scoped>\n",
       "    .dataframe tbody tr th:only-of-type {\n",
       "        vertical-align: middle;\n",
       "    }\n",
       "\n",
       "    .dataframe tbody tr th {\n",
       "        vertical-align: top;\n",
       "    }\n",
       "\n",
       "    .dataframe thead th {\n",
       "        text-align: right;\n",
       "    }\n",
       "</style>\n",
       "<table border=\"1\" class=\"dataframe\">\n",
       "  <thead>\n",
       "    <tr style=\"text-align: right;\">\n",
       "      <th></th>\n",
       "      <th>enunciado_latex</th>\n",
       "      <th>enunciado</th>\n",
       "      <th>solucion</th>\n",
       "      <th>texto</th>\n",
       "      <th>curso</th>\n",
       "      <th>titulo</th>\n",
       "      <th>n_ejercicio</th>\n",
       "      <th>dificultad</th>\n",
       "      <th>n_columnas</th>\n",
       "      <th>puntos</th>\n",
       "    </tr>\n",
       "  </thead>\n",
       "  <tbody>\n",
       "    <tr>\n",
       "      <th>0</th>\n",
       "      <td>\\frac{{{x^2} - 1}}{{x + 3}} \\ y  \\ \\frac{{{x^3...</td>\n",
       "      <td>(-x + x**3 + 2*x**2 - 2)/(x**2 + 5*x + 6) - (x...</td>\n",
       "      <td>\\frac{\\left(- x + \\left(x^{3} + 2 x^{2}\\right)...</td>\n",
       "      <td>Comprueba si son equivalentes las siguientes f...</td>\n",
       "      <td>1BC</td>\n",
       "      <td>5 - Fracciones Algebraicas</td>\n",
       "      <td>p014e01y3</td>\n",
       "      <td>1</td>\n",
       "      <td>2</td>\n",
       "      <td>1</td>\n",
       "    </tr>\n",
       "    <tr>\n",
       "      <th>1</th>\n",
       "      <td>\\frac{{{x^2} - 4}}{{{x^2} - 2x}}  \\ y  \\ \\frac...</td>\n",
       "      <td>-(x**2 - 4)/(x**2 - 2*x) + (x + 2)/x</td>\n",
       "      <td>- \\frac{x^{2} - 4}{x^{2} - 2 x} + \\frac{x + 2}...</td>\n",
       "      <td>Comprueba si son equivalentes las siguientes f...</td>\n",
       "      <td>1BC</td>\n",
       "      <td>5 - Fracciones Algebraicas</td>\n",
       "      <td>p014e01y3</td>\n",
       "      <td>1</td>\n",
       "      <td>2</td>\n",
       "      <td>1</td>\n",
       "    </tr>\n",
       "  </tbody>\n",
       "</table>\n",
       "</div>"
      ],
      "text/plain": [
       "                                     enunciado_latex  \\\n",
       "0  \\frac{{{x^2} - 1}}{{x + 3}} \\ y  \\ \\frac{{{x^3...   \n",
       "1  \\frac{{{x^2} - 4}}{{{x^2} - 2x}}  \\ y  \\ \\frac...   \n",
       "\n",
       "                                           enunciado  \\\n",
       "0  (-x + x**3 + 2*x**2 - 2)/(x**2 + 5*x + 6) - (x...   \n",
       "1               -(x**2 - 4)/(x**2 - 2*x) + (x + 2)/x   \n",
       "\n",
       "                                            solucion  \\\n",
       "0  \\frac{\\left(- x + \\left(x^{3} + 2 x^{2}\\right)...   \n",
       "1  - \\frac{x^{2} - 4}{x^{2} - 2 x} + \\frac{x + 2}...   \n",
       "\n",
       "                                               texto curso  \\\n",
       "0  Comprueba si son equivalentes las siguientes f...   1BC   \n",
       "1  Comprueba si son equivalentes las siguientes f...   1BC   \n",
       "\n",
       "                       titulo n_ejercicio  dificultad  n_columnas  puntos  \n",
       "0  5 - Fracciones Algebraicas   p014e01y3           1           2       1  \n",
       "1  5 - Fracciones Algebraicas   p014e01y3           1           2       1  "
      ]
     },
     "metadata": {},
     "output_type": "display_data"
    },
    {
     "data": {
      "text/markdown": [
       "**Ejercicio: **p014e04"
      ],
      "text/plain": [
       "<IPython.core.display.Markdown object>"
      ]
     },
     "metadata": {},
     "output_type": "display_data"
    },
    {
     "data": {
      "text/html": [
       "<div>\n",
       "<style scoped>\n",
       "    .dataframe tbody tr th:only-of-type {\n",
       "        vertical-align: middle;\n",
       "    }\n",
       "\n",
       "    .dataframe tbody tr th {\n",
       "        vertical-align: top;\n",
       "    }\n",
       "\n",
       "    .dataframe thead th {\n",
       "        text-align: right;\n",
       "    }\n",
       "</style>\n",
       "<table border=\"1\" class=\"dataframe\">\n",
       "  <thead>\n",
       "    <tr style=\"text-align: right;\">\n",
       "      <th></th>\n",
       "      <th>enunciado_latex</th>\n",
       "      <th>enunciado</th>\n",
       "      <th>solucion</th>\n",
       "      <th>texto</th>\n",
       "      <th>curso</th>\n",
       "      <th>titulo</th>\n",
       "      <th>n_ejercicio</th>\n",
       "      <th>dificultad</th>\n",
       "      <th>n_columnas</th>\n",
       "      <th>puntos</th>\n",
       "    </tr>\n",
       "  </thead>\n",
       "  <tbody>\n",
       "    <tr>\n",
       "      <th>2</th>\n",
       "      <td>\\frac{{2{x^3} - 5{x^2} - 23x - 10}}{{{x^3} + 3...</td>\n",
       "      <td>(-23*x + 2*x**3 - 5*x**2 - 10)/(-4*x + x**3 + ...</td>\n",
       "      <td>\\frac{2 x^{2} - 9 x - 5}{x^{2} + x - 6}</td>\n",
       "      <td>Obtén la fracción irreducible (simplifica) equ...</td>\n",
       "      <td>1BC</td>\n",
       "      <td>5 - Fracciones Algebraicas</td>\n",
       "      <td>p014e04</td>\n",
       "      <td>1</td>\n",
       "      <td>2</td>\n",
       "      <td>1</td>\n",
       "    </tr>\n",
       "    <tr>\n",
       "      <th>3</th>\n",
       "      <td>\\frac{{{x^3} -16x}}{{{x^3} + 3{x^2} - 4x}}</td>\n",
       "      <td>(x**3 - 16*x)/(-4*x + x**3 + 3*x**2)</td>\n",
       "      <td>\\frac{x - 4}{x - 1}</td>\n",
       "      <td>Obtén la fracción irreducible (simplifica) equ...</td>\n",
       "      <td>1BC</td>\n",
       "      <td>5 - Fracciones Algebraicas</td>\n",
       "      <td>p014e04</td>\n",
       "      <td>1</td>\n",
       "      <td>2</td>\n",
       "      <td>1</td>\n",
       "    </tr>\n",
       "    <tr>\n",
       "      <th>4</th>\n",
       "      <td>\\frac{{{x^2} + 3x - 4}}{{{x^3} - x}}</td>\n",
       "      <td>(x**2 + 3*x - 4)/(x**3 - x)</td>\n",
       "      <td>\\frac{x + 4}{x^{2} + x}</td>\n",
       "      <td>Obtén la fracción irreducible (simplifica) equ...</td>\n",
       "      <td>1BC</td>\n",
       "      <td>5 - Fracciones Algebraicas</td>\n",
       "      <td>p014e04</td>\n",
       "      <td>1</td>\n",
       "      <td>2</td>\n",
       "      <td>1</td>\n",
       "    </tr>\n",
       "    <tr>\n",
       "      <th>5</th>\n",
       "      <td>\\frac{{{x^3} - 1}}{{{x^2} - x}}</td>\n",
       "      <td>(x**3 - 1)/(x**2 - x)</td>\n",
       "      <td>\\frac{x^{2} + x + 1}{x}</td>\n",
       "      <td>Obtén la fracción irreducible (simplifica) equ...</td>\n",
       "      <td>1BC</td>\n",
       "      <td>5 - Fracciones Algebraicas</td>\n",
       "      <td>p014e04</td>\n",
       "      <td>1</td>\n",
       "      <td>2</td>\n",
       "      <td>1</td>\n",
       "    </tr>\n",
       "  </tbody>\n",
       "</table>\n",
       "</div>"
      ],
      "text/plain": [
       "                                     enunciado_latex  \\\n",
       "2  \\frac{{2{x^3} - 5{x^2} - 23x - 10}}{{{x^3} + 3...   \n",
       "3         \\frac{{{x^3} -16x}}{{{x^3} + 3{x^2} - 4x}}   \n",
       "4               \\frac{{{x^2} + 3x - 4}}{{{x^3} - x}}   \n",
       "5                    \\frac{{{x^3} - 1}}{{{x^2} - x}}   \n",
       "\n",
       "                                           enunciado  \\\n",
       "2  (-23*x + 2*x**3 - 5*x**2 - 10)/(-4*x + x**3 + ...   \n",
       "3               (x**3 - 16*x)/(-4*x + x**3 + 3*x**2)   \n",
       "4                        (x**2 + 3*x - 4)/(x**3 - x)   \n",
       "5                              (x**3 - 1)/(x**2 - x)   \n",
       "\n",
       "                                  solucion  \\\n",
       "2  \\frac{2 x^{2} - 9 x - 5}{x^{2} + x - 6}   \n",
       "3                      \\frac{x - 4}{x - 1}   \n",
       "4                  \\frac{x + 4}{x^{2} + x}   \n",
       "5                  \\frac{x^{2} + x + 1}{x}   \n",
       "\n",
       "                                               texto curso  \\\n",
       "2  Obtén la fracción irreducible (simplifica) equ...   1BC   \n",
       "3  Obtén la fracción irreducible (simplifica) equ...   1BC   \n",
       "4  Obtén la fracción irreducible (simplifica) equ...   1BC   \n",
       "5  Obtén la fracción irreducible (simplifica) equ...   1BC   \n",
       "\n",
       "                       titulo n_ejercicio  dificultad  n_columnas  puntos  \n",
       "2  5 - Fracciones Algebraicas     p014e04           1           2       1  \n",
       "3  5 - Fracciones Algebraicas     p014e04           1           2       1  \n",
       "4  5 - Fracciones Algebraicas     p014e04           1           2       1  \n",
       "5  5 - Fracciones Algebraicas     p014e04           1           2       1  "
      ]
     },
     "metadata": {},
     "output_type": "display_data"
    },
    {
     "data": {
      "text/markdown": [
       "**Ejercicio: **p015e05"
      ],
      "text/plain": [
       "<IPython.core.display.Markdown object>"
      ]
     },
     "metadata": {},
     "output_type": "display_data"
    },
    {
     "data": {
      "text/html": [
       "<div>\n",
       "<style scoped>\n",
       "    .dataframe tbody tr th:only-of-type {\n",
       "        vertical-align: middle;\n",
       "    }\n",
       "\n",
       "    .dataframe tbody tr th {\n",
       "        vertical-align: top;\n",
       "    }\n",
       "\n",
       "    .dataframe thead th {\n",
       "        text-align: right;\n",
       "    }\n",
       "</style>\n",
       "<table border=\"1\" class=\"dataframe\">\n",
       "  <thead>\n",
       "    <tr style=\"text-align: right;\">\n",
       "      <th></th>\n",
       "      <th>enunciado_latex</th>\n",
       "      <th>enunciado</th>\n",
       "      <th>solucion</th>\n",
       "      <th>texto</th>\n",
       "      <th>curso</th>\n",
       "      <th>titulo</th>\n",
       "      <th>n_ejercicio</th>\n",
       "      <th>dificultad</th>\n",
       "      <th>n_columnas</th>\n",
       "      <th>puntos</th>\n",
       "    </tr>\n",
       "  </thead>\n",
       "  <tbody>\n",
       "    <tr>\n",
       "      <th>6</th>\n",
       "      <td>\\frac{{{x^2} - 9}}{{x + 3}}</td>\n",
       "      <td>(x**2 - 9)/(x + 3)</td>\n",
       "      <td>x - 3</td>\n",
       "      <td>Simplifica las siguientes fracciones algebraicas:</td>\n",
       "      <td>1BC</td>\n",
       "      <td>5 - Fracciones Algebraicas</td>\n",
       "      <td>p015e05</td>\n",
       "      <td>1</td>\n",
       "      <td>2</td>\n",
       "      <td>1</td>\n",
       "    </tr>\n",
       "    <tr>\n",
       "      <th>7</th>\n",
       "      <td>\\frac{{{x^2} - 1}}{{{x^3} - x}}</td>\n",
       "      <td>(x**2 - 1)/(x**3 - x)</td>\n",
       "      <td>\\frac{1}{x}</td>\n",
       "      <td>Simplifica las siguientes fracciones algebraicas:</td>\n",
       "      <td>1BC</td>\n",
       "      <td>5 - Fracciones Algebraicas</td>\n",
       "      <td>p015e05</td>\n",
       "      <td>1</td>\n",
       "      <td>2</td>\n",
       "      <td>1</td>\n",
       "    </tr>\n",
       "    <tr>\n",
       "      <th>8</th>\n",
       "      <td>\\frac{{{x^4} - 4{x^2} + 4}}{{{x^4} - 4}}</td>\n",
       "      <td>(x**4 - 4*x**2 + 4)/(x**4 - 4)</td>\n",
       "      <td>\\frac{x^{2} - 2}{x^{2} + 2}</td>\n",
       "      <td>Simplifica las siguientes fracciones algebraicas:</td>\n",
       "      <td>1BC</td>\n",
       "      <td>5 - Fracciones Algebraicas</td>\n",
       "      <td>p015e05</td>\n",
       "      <td>1</td>\n",
       "      <td>2</td>\n",
       "      <td>1</td>\n",
       "    </tr>\n",
       "    <tr>\n",
       "      <th>9</th>\n",
       "      <td>\\frac{{3{x^2} + x}}{{3{x^3} + {x^2} - 12x - 4}}</td>\n",
       "      <td>(3*x**2 + x)/(-12*x + 3*x**3 + x**2 - 4)</td>\n",
       "      <td>\\frac{3 x}{3 x^{2} - 12}</td>\n",
       "      <td>Simplifica las siguientes fracciones algebraicas:</td>\n",
       "      <td>1BC</td>\n",
       "      <td>5 - Fracciones Algebraicas</td>\n",
       "      <td>p015e05</td>\n",
       "      <td>1</td>\n",
       "      <td>2</td>\n",
       "      <td>1</td>\n",
       "    </tr>\n",
       "    <tr>\n",
       "      <th>10</th>\n",
       "      <td>\\frac{{2{x^3} + 3{x^2} - 8x + 3}}{{2{x^3} - {x...</td>\n",
       "      <td>(-8*x + 2*x**3 + 3*x**2 + 3)/(-2*x + 2*x**3 - ...</td>\n",
       "      <td>\\frac{2 x^{3} + 3 x^{2} - 8 x + 3}{2 x^{3} - x...</td>\n",
       "      <td>Simplifica las siguientes fracciones algebraicas:</td>\n",
       "      <td>1BC</td>\n",
       "      <td>5 - Fracciones Algebraicas</td>\n",
       "      <td>p015e05</td>\n",
       "      <td>1</td>\n",
       "      <td>2</td>\n",
       "      <td>1</td>\n",
       "    </tr>\n",
       "    <tr>\n",
       "      <th>11</th>\n",
       "      <td>\\frac{{{x^3} - 5{x^2} + 6x}}{{{x^3} - 4x}}</td>\n",
       "      <td>(6*x + x**3 - 5*x**2)/(x**3 - 4*x)</td>\n",
       "      <td>\\frac{x - 3}{x + 2}</td>\n",
       "      <td>Simplifica las siguientes fracciones algebraicas:</td>\n",
       "      <td>1BC</td>\n",
       "      <td>5 - Fracciones Algebraicas</td>\n",
       "      <td>p015e05</td>\n",
       "      <td>1</td>\n",
       "      <td>2</td>\n",
       "      <td>1</td>\n",
       "    </tr>\n",
       "    <tr>\n",
       "      <th>12</th>\n",
       "      <td>\\frac{{2x - 5}}{{2{x^3} - 5{x^2} - 2x + 5}}</td>\n",
       "      <td>(2*x - 5)/(-2*x + 2*x**3 - 5*x**2 + 5)</td>\n",
       "      <td>\\frac{2}{2 x^{2} - 2}</td>\n",
       "      <td>Simplifica las siguientes fracciones algebraicas:</td>\n",
       "      <td>1BC</td>\n",
       "      <td>5 - Fracciones Algebraicas</td>\n",
       "      <td>p015e05</td>\n",
       "      <td>1</td>\n",
       "      <td>2</td>\n",
       "      <td>1</td>\n",
       "    </tr>\n",
       "    <tr>\n",
       "      <th>13</th>\n",
       "      <td>\\frac{x - 2}{{x^2} - 4}</td>\n",
       "      <td>(x - 2)/(x**2 - 4)</td>\n",
       "      <td>\\frac{1}{x + 2}</td>\n",
       "      <td>Simplifica las siguientes fracciones algebraicas:</td>\n",
       "      <td>1BC</td>\n",
       "      <td>5 - Fracciones Algebraicas</td>\n",
       "      <td>p015e05</td>\n",
       "      <td>1</td>\n",
       "      <td>2</td>\n",
       "      <td>1</td>\n",
       "    </tr>\n",
       "    <tr>\n",
       "      <th>14</th>\n",
       "      <td>\\frac{{{x^2} - 2}}{{x - \\sqrt {2 }}}</td>\n",
       "      <td>(x**2 - 2)/(x - sqrt(2))</td>\n",
       "      <td>x + \\sqrt{2}</td>\n",
       "      <td>Simplifica las siguientes fracciones algebraicas:</td>\n",
       "      <td>1BC</td>\n",
       "      <td>5 - Fracciones Algebraicas</td>\n",
       "      <td>p015e05</td>\n",
       "      <td>1</td>\n",
       "      <td>2</td>\n",
       "      <td>1</td>\n",
       "    </tr>\n",
       "    <tr>\n",
       "      <th>15</th>\n",
       "      <td>\\frac{{{x^2} + 2x + 1}}{{{x^2} - 1}}</td>\n",
       "      <td>(x**2 + 2*x + 1)/(x**2 - 1)</td>\n",
       "      <td>\\frac{x + 1}{x - 1}</td>\n",
       "      <td>Simplifica las siguientes fracciones algebraicas:</td>\n",
       "      <td>1BC</td>\n",
       "      <td>5 - Fracciones Algebraicas</td>\n",
       "      <td>p015e05</td>\n",
       "      <td>1</td>\n",
       "      <td>2</td>\n",
       "      <td>1</td>\n",
       "    </tr>\n",
       "    <tr>\n",
       "      <th>16</th>\n",
       "      <td>\\frac{{{x^3} - 2{x^2} - 5x + 6}}{{{x^2} + x - 2}}</td>\n",
       "      <td>(-5*x + x**3 - 2*x**2 + 6)/(x**2 + x - 2)</td>\n",
       "      <td>x - 3</td>\n",
       "      <td>Simplifica las siguientes fracciones algebraicas:</td>\n",
       "      <td>1BC</td>\n",
       "      <td>5 - Fracciones Algebraicas</td>\n",
       "      <td>p015e05</td>\n",
       "      <td>1</td>\n",
       "      <td>2</td>\n",
       "      <td>1</td>\n",
       "    </tr>\n",
       "  </tbody>\n",
       "</table>\n",
       "</div>"
      ],
      "text/plain": [
       "                                      enunciado_latex  \\\n",
       "6                         \\frac{{{x^2} - 9}}{{x + 3}}   \n",
       "7                     \\frac{{{x^2} - 1}}{{{x^3} - x}}   \n",
       "8            \\frac{{{x^4} - 4{x^2} + 4}}{{{x^4} - 4}}   \n",
       "9     \\frac{{3{x^2} + x}}{{3{x^3} + {x^2} - 12x - 4}}   \n",
       "10  \\frac{{2{x^3} + 3{x^2} - 8x + 3}}{{2{x^3} - {x...   \n",
       "11         \\frac{{{x^3} - 5{x^2} + 6x}}{{{x^3} - 4x}}   \n",
       "12        \\frac{{2x - 5}}{{2{x^3} - 5{x^2} - 2x + 5}}   \n",
       "13                            \\frac{x - 2}{{x^2} - 4}   \n",
       "14               \\frac{{{x^2} - 2}}{{x - \\sqrt {2 }}}   \n",
       "15               \\frac{{{x^2} + 2x + 1}}{{{x^2} - 1}}   \n",
       "16  \\frac{{{x^3} - 2{x^2} - 5x + 6}}{{{x^2} + x - 2}}   \n",
       "\n",
       "                                            enunciado  \\\n",
       "6                                  (x**2 - 9)/(x + 3)   \n",
       "7                               (x**2 - 1)/(x**3 - x)   \n",
       "8                      (x**4 - 4*x**2 + 4)/(x**4 - 4)   \n",
       "9            (3*x**2 + x)/(-12*x + 3*x**3 + x**2 - 4)   \n",
       "10  (-8*x + 2*x**3 + 3*x**2 + 3)/(-2*x + 2*x**3 - ...   \n",
       "11                 (6*x + x**3 - 5*x**2)/(x**3 - 4*x)   \n",
       "12             (2*x - 5)/(-2*x + 2*x**3 - 5*x**2 + 5)   \n",
       "13                                 (x - 2)/(x**2 - 4)   \n",
       "14                           (x**2 - 2)/(x - sqrt(2))   \n",
       "15                        (x**2 + 2*x + 1)/(x**2 - 1)   \n",
       "16          (-5*x + x**3 - 2*x**2 + 6)/(x**2 + x - 2)   \n",
       "\n",
       "                                             solucion  \\\n",
       "6                                               x - 3   \n",
       "7                                         \\frac{1}{x}   \n",
       "8                         \\frac{x^{2} - 2}{x^{2} + 2}   \n",
       "9                            \\frac{3 x}{3 x^{2} - 12}   \n",
       "10  \\frac{2 x^{3} + 3 x^{2} - 8 x + 3}{2 x^{3} - x...   \n",
       "11                                \\frac{x - 3}{x + 2}   \n",
       "12                              \\frac{2}{2 x^{2} - 2}   \n",
       "13                                    \\frac{1}{x + 2}   \n",
       "14                                       x + \\sqrt{2}   \n",
       "15                                \\frac{x + 1}{x - 1}   \n",
       "16                                              x - 3   \n",
       "\n",
       "                                                texto curso  \\\n",
       "6   Simplifica las siguientes fracciones algebraicas:   1BC   \n",
       "7   Simplifica las siguientes fracciones algebraicas:   1BC   \n",
       "8   Simplifica las siguientes fracciones algebraicas:   1BC   \n",
       "9   Simplifica las siguientes fracciones algebraicas:   1BC   \n",
       "10  Simplifica las siguientes fracciones algebraicas:   1BC   \n",
       "11  Simplifica las siguientes fracciones algebraicas:   1BC   \n",
       "12  Simplifica las siguientes fracciones algebraicas:   1BC   \n",
       "13  Simplifica las siguientes fracciones algebraicas:   1BC   \n",
       "14  Simplifica las siguientes fracciones algebraicas:   1BC   \n",
       "15  Simplifica las siguientes fracciones algebraicas:   1BC   \n",
       "16  Simplifica las siguientes fracciones algebraicas:   1BC   \n",
       "\n",
       "                        titulo n_ejercicio  dificultad  n_columnas  puntos  \n",
       "6   5 - Fracciones Algebraicas     p015e05           1           2       1  \n",
       "7   5 - Fracciones Algebraicas     p015e05           1           2       1  \n",
       "8   5 - Fracciones Algebraicas     p015e05           1           2       1  \n",
       "9   5 - Fracciones Algebraicas     p015e05           1           2       1  \n",
       "10  5 - Fracciones Algebraicas     p015e05           1           2       1  \n",
       "11  5 - Fracciones Algebraicas     p015e05           1           2       1  \n",
       "12  5 - Fracciones Algebraicas     p015e05           1           2       1  \n",
       "13  5 - Fracciones Algebraicas     p015e05           1           2       1  \n",
       "14  5 - Fracciones Algebraicas     p015e05           1           2       1  \n",
       "15  5 - Fracciones Algebraicas     p015e05           1           2       1  \n",
       "16  5 - Fracciones Algebraicas     p015e05           1           2       1  "
      ]
     },
     "metadata": {},
     "output_type": "display_data"
    },
    {
     "data": {
      "text/markdown": [
       "**Ejercicio: **p015e07"
      ],
      "text/plain": [
       "<IPython.core.display.Markdown object>"
      ]
     },
     "metadata": {},
     "output_type": "display_data"
    },
    {
     "data": {
      "text/html": [
       "<div>\n",
       "<style scoped>\n",
       "    .dataframe tbody tr th:only-of-type {\n",
       "        vertical-align: middle;\n",
       "    }\n",
       "\n",
       "    .dataframe tbody tr th {\n",
       "        vertical-align: top;\n",
       "    }\n",
       "\n",
       "    .dataframe thead th {\n",
       "        text-align: right;\n",
       "    }\n",
       "</style>\n",
       "<table border=\"1\" class=\"dataframe\">\n",
       "  <thead>\n",
       "    <tr style=\"text-align: right;\">\n",
       "      <th></th>\n",
       "      <th>enunciado_latex</th>\n",
       "      <th>enunciado</th>\n",
       "      <th>solucion</th>\n",
       "      <th>texto</th>\n",
       "      <th>curso</th>\n",
       "      <th>titulo</th>\n",
       "      <th>n_ejercicio</th>\n",
       "      <th>dificultad</th>\n",
       "      <th>n_columnas</th>\n",
       "      <th>puntos</th>\n",
       "    </tr>\n",
       "  </thead>\n",
       "  <tbody>\n",
       "    <tr>\n",
       "      <th>17</th>\n",
       "      <td>\\frac{2}{{x + 7}} + \\frac{{x + 4}}{{x - 7}}</td>\n",
       "      <td>2/(x + 7) + (x + 4)/(x - 7)</td>\n",
       "      <td>\\frac{x^{2} + 13 x + 14}{x^{2} - 49}</td>\n",
       "      <td>Calcula, simplificando el resultado:</td>\n",
       "      <td>1BC</td>\n",
       "      <td>5 - Fracciones Algebraicas</td>\n",
       "      <td>p015e07</td>\n",
       "      <td>1</td>\n",
       "      <td>2</td>\n",
       "      <td>1</td>\n",
       "    </tr>\n",
       "    <tr>\n",
       "      <th>18</th>\n",
       "      <td>\\frac{1}{{x + 5}} + \\frac{x}{{{x^2} + 10x + 25}}</td>\n",
       "      <td>x/(x**2 + 10*x + 25) + 1/(x + 5)</td>\n",
       "      <td>\\frac{2 x + 5}{x^{2} + 10 x + 25}</td>\n",
       "      <td>Calcula, simplificando el resultado:</td>\n",
       "      <td>1BC</td>\n",
       "      <td>5 - Fracciones Algebraicas</td>\n",
       "      <td>p015e07</td>\n",
       "      <td>1</td>\n",
       "      <td>2</td>\n",
       "      <td>1</td>\n",
       "    </tr>\n",
       "    <tr>\n",
       "      <th>19</th>\n",
       "      <td>\\frac{1}{{x + 5}} - \\frac{x}{{{x^2} + 10x + 25}}</td>\n",
       "      <td>-x/(x**2 + 10*x + 25) + 1/(x + 5)</td>\n",
       "      <td>\\frac{5}{x^{2} + 10 x + 25}</td>\n",
       "      <td>Calcula, simplificando el resultado:</td>\n",
       "      <td>1BC</td>\n",
       "      <td>5 - Fracciones Algebraicas</td>\n",
       "      <td>p015e07</td>\n",
       "      <td>1</td>\n",
       "      <td>2</td>\n",
       "      <td>1</td>\n",
       "    </tr>\n",
       "    <tr>\n",
       "      <th>20</th>\n",
       "      <td>\\frac{{12}}{{x - 3}} + \\frac{{x + 4}}{{2x + 1}...</td>\n",
       "      <td>-x/(x**2 - 6*x + 9) + (x + 4)/(2*x + 1) + 12/(...</td>\n",
       "      <td>\\frac{x^{3} + 20 x^{2} - 76 x}{2 x^{3} - 11 x^...</td>\n",
       "      <td>Calcula, simplificando el resultado:</td>\n",
       "      <td>1BC</td>\n",
       "      <td>5 - Fracciones Algebraicas</td>\n",
       "      <td>p015e07</td>\n",
       "      <td>1</td>\n",
       "      <td>2</td>\n",
       "      <td>1</td>\n",
       "    </tr>\n",
       "    <tr>\n",
       "      <th>21</th>\n",
       "      <td>\\frac{1}{{x - 1}} \\cdot \\frac{{{x^2} - 1}}{{x ...</td>\n",
       "      <td>(((x**2 - 1)/(x + 2))/(x - 1))*((x + 2)/(x - 3))</td>\n",
       "      <td>\\frac{x + 1}{x - 3}</td>\n",
       "      <td>Calcula, simplificando el resultado:</td>\n",
       "      <td>1BC</td>\n",
       "      <td>5 - Fracciones Algebraicas</td>\n",
       "      <td>p015e07</td>\n",
       "      <td>1</td>\n",
       "      <td>2</td>\n",
       "      <td>1</td>\n",
       "    </tr>\n",
       "    <tr>\n",
       "      <th>22</th>\n",
       "      <td>\\frac{{2x + 1}}{x} \\cdot \\frac{{{x^2} - 3x}}{{...</td>\n",
       "      <td>((2*x + 1)/x)*((x**2 - 3*x)/(4*x**2 - 1))</td>\n",
       "      <td>\\frac{2 x - 6}{4 x - 2}</td>\n",
       "      <td>Calcula, simplificando el resultado:</td>\n",
       "      <td>1BC</td>\n",
       "      <td>5 - Fracciones Algebraicas</td>\n",
       "      <td>p015e07</td>\n",
       "      <td>1</td>\n",
       "      <td>2</td>\n",
       "      <td>1</td>\n",
       "    </tr>\n",
       "    <tr>\n",
       "      <th>23</th>\n",
       "      <td>\\frac{{3x - 1}}{x} \\cdot \\frac{{{x^2}}}{{9{x^2...</td>\n",
       "      <td>((3*x - 1)/x)*(x**2/(9*x**2 - 1))</td>\n",
       "      <td>\\frac{3 x}{9 x + 3}</td>\n",
       "      <td>Calcula, simplificando el resultado:</td>\n",
       "      <td>1BC</td>\n",
       "      <td>5 - Fracciones Algebraicas</td>\n",
       "      <td>p015e07</td>\n",
       "      <td>1</td>\n",
       "      <td>2</td>\n",
       "      <td>1</td>\n",
       "    </tr>\n",
       "    <tr>\n",
       "      <th>24</th>\n",
       "      <td>{7x}:\\frac{{{x^2} - 4x}}{{x - 2}}</td>\n",
       "      <td>(7*x)/(((x**2 - 4*x)/(x - 2)))</td>\n",
       "      <td>\\frac{7 x - 14}{x - 4}</td>\n",
       "      <td>Calcula, simplificando el resultado:</td>\n",
       "      <td>1BC</td>\n",
       "      <td>5 - Fracciones Algebraicas</td>\n",
       "      <td>p015e07</td>\n",
       "      <td>1</td>\n",
       "      <td>2</td>\n",
       "      <td>1</td>\n",
       "    </tr>\n",
       "    <tr>\n",
       "      <th>25</th>\n",
       "      <td>\\frac{{x - 3}}{{x - 1}}:\\frac{{{x^2} - 3x}}{{{...</td>\n",
       "      <td>((x - 3)/(x - 1))/(((x**2 - 3*x)/(x**2 - 1)))</td>\n",
       "      <td>\\frac{x + 1}{x}</td>\n",
       "      <td>Calcula, simplificando el resultado:</td>\n",
       "      <td>1BC</td>\n",
       "      <td>5 - Fracciones Algebraicas</td>\n",
       "      <td>p015e07</td>\n",
       "      <td>1</td>\n",
       "      <td>2</td>\n",
       "      <td>1</td>\n",
       "    </tr>\n",
       "    <tr>\n",
       "      <th>26</th>\n",
       "      <td>\\frac{{{x^2} - 3x - 4}}{x}:\\frac{{x + 1}}{{{x^...</td>\n",
       "      <td>((x**2 - 3*x - 4)/x)/(((x + 1)/(x**2 + 2*x)))</td>\n",
       "      <td>x^{2} - 2 x - 8</td>\n",
       "      <td>Calcula, simplificando el resultado:</td>\n",
       "      <td>1BC</td>\n",
       "      <td>5 - Fracciones Algebraicas</td>\n",
       "      <td>p015e07</td>\n",
       "      <td>1</td>\n",
       "      <td>2</td>\n",
       "      <td>1</td>\n",
       "    </tr>\n",
       "  </tbody>\n",
       "</table>\n",
       "</div>"
      ],
      "text/plain": [
       "                                      enunciado_latex  \\\n",
       "17        \\frac{2}{{x + 7}} + \\frac{{x + 4}}{{x - 7}}   \n",
       "18   \\frac{1}{{x + 5}} + \\frac{x}{{{x^2} + 10x + 25}}   \n",
       "19   \\frac{1}{{x + 5}} - \\frac{x}{{{x^2} + 10x + 25}}   \n",
       "20  \\frac{{12}}{{x - 3}} + \\frac{{x + 4}}{{2x + 1}...   \n",
       "21  \\frac{1}{{x - 1}} \\cdot \\frac{{{x^2} - 1}}{{x ...   \n",
       "22  \\frac{{2x + 1}}{x} \\cdot \\frac{{{x^2} - 3x}}{{...   \n",
       "23  \\frac{{3x - 1}}{x} \\cdot \\frac{{{x^2}}}{{9{x^2...   \n",
       "24                  {7x}:\\frac{{{x^2} - 4x}}{{x - 2}}   \n",
       "25  \\frac{{x - 3}}{{x - 1}}:\\frac{{{x^2} - 3x}}{{{...   \n",
       "26  \\frac{{{x^2} - 3x - 4}}{x}:\\frac{{x + 1}}{{{x^...   \n",
       "\n",
       "                                            enunciado  \\\n",
       "17                        2/(x + 7) + (x + 4)/(x - 7)   \n",
       "18                   x/(x**2 + 10*x + 25) + 1/(x + 5)   \n",
       "19                  -x/(x**2 + 10*x + 25) + 1/(x + 5)   \n",
       "20  -x/(x**2 - 6*x + 9) + (x + 4)/(2*x + 1) + 12/(...   \n",
       "21   (((x**2 - 1)/(x + 2))/(x - 1))*((x + 2)/(x - 3))   \n",
       "22          ((2*x + 1)/x)*((x**2 - 3*x)/(4*x**2 - 1))   \n",
       "23                  ((3*x - 1)/x)*(x**2/(9*x**2 - 1))   \n",
       "24                     (7*x)/(((x**2 - 4*x)/(x - 2)))   \n",
       "25      ((x - 3)/(x - 1))/(((x**2 - 3*x)/(x**2 - 1)))   \n",
       "26      ((x**2 - 3*x - 4)/x)/(((x + 1)/(x**2 + 2*x)))   \n",
       "\n",
       "                                             solucion  \\\n",
       "17               \\frac{x^{2} + 13 x + 14}{x^{2} - 49}   \n",
       "18                  \\frac{2 x + 5}{x^{2} + 10 x + 25}   \n",
       "19                        \\frac{5}{x^{2} + 10 x + 25}   \n",
       "20  \\frac{x^{3} + 20 x^{2} - 76 x}{2 x^{3} - 11 x^...   \n",
       "21                                \\frac{x + 1}{x - 3}   \n",
       "22                            \\frac{2 x - 6}{4 x - 2}   \n",
       "23                                \\frac{3 x}{9 x + 3}   \n",
       "24                             \\frac{7 x - 14}{x - 4}   \n",
       "25                                    \\frac{x + 1}{x}   \n",
       "26                                    x^{2} - 2 x - 8   \n",
       "\n",
       "                                   texto curso                      titulo  \\\n",
       "17  Calcula, simplificando el resultado:   1BC  5 - Fracciones Algebraicas   \n",
       "18  Calcula, simplificando el resultado:   1BC  5 - Fracciones Algebraicas   \n",
       "19  Calcula, simplificando el resultado:   1BC  5 - Fracciones Algebraicas   \n",
       "20  Calcula, simplificando el resultado:   1BC  5 - Fracciones Algebraicas   \n",
       "21  Calcula, simplificando el resultado:   1BC  5 - Fracciones Algebraicas   \n",
       "22  Calcula, simplificando el resultado:   1BC  5 - Fracciones Algebraicas   \n",
       "23  Calcula, simplificando el resultado:   1BC  5 - Fracciones Algebraicas   \n",
       "24  Calcula, simplificando el resultado:   1BC  5 - Fracciones Algebraicas   \n",
       "25  Calcula, simplificando el resultado:   1BC  5 - Fracciones Algebraicas   \n",
       "26  Calcula, simplificando el resultado:   1BC  5 - Fracciones Algebraicas   \n",
       "\n",
       "   n_ejercicio  dificultad  n_columnas  puntos  \n",
       "17     p015e07           1           2       1  \n",
       "18     p015e07           1           2       1  \n",
       "19     p015e07           1           2       1  \n",
       "20     p015e07           1           2       1  \n",
       "21     p015e07           1           2       1  \n",
       "22     p015e07           1           2       1  \n",
       "23     p015e07           1           2       1  \n",
       "24     p015e07           1           2       1  \n",
       "25     p015e07           1           2       1  \n",
       "26     p015e07           1           2       1  "
      ]
     },
     "metadata": {},
     "output_type": "display_data"
    },
    {
     "data": {
      "text/markdown": [
       "**Ejercicio: **p015e09"
      ],
      "text/plain": [
       "<IPython.core.display.Markdown object>"
      ]
     },
     "metadata": {},
     "output_type": "display_data"
    },
    {
     "data": {
      "text/html": [
       "<div>\n",
       "<style scoped>\n",
       "    .dataframe tbody tr th:only-of-type {\n",
       "        vertical-align: middle;\n",
       "    }\n",
       "\n",
       "    .dataframe tbody tr th {\n",
       "        vertical-align: top;\n",
       "    }\n",
       "\n",
       "    .dataframe thead th {\n",
       "        text-align: right;\n",
       "    }\n",
       "</style>\n",
       "<table border=\"1\" class=\"dataframe\">\n",
       "  <thead>\n",
       "    <tr style=\"text-align: right;\">\n",
       "      <th></th>\n",
       "      <th>enunciado_latex</th>\n",
       "      <th>enunciado</th>\n",
       "      <th>solucion</th>\n",
       "      <th>texto</th>\n",
       "      <th>curso</th>\n",
       "      <th>titulo</th>\n",
       "      <th>n_ejercicio</th>\n",
       "      <th>dificultad</th>\n",
       "      <th>n_columnas</th>\n",
       "      <th>puntos</th>\n",
       "    </tr>\n",
       "  </thead>\n",
       "  <tbody>\n",
       "    <tr>\n",
       "      <th>27</th>\n",
       "      <td>\\frac{x}{{x + 1}} + \\frac{{3x}}{{{x^2} - 1}} -...</td>\n",
       "      <td>x/(x + 1) + (3*x)/(x**2 - 1) - 1/(x - 1)</td>\n",
       "      <td>\\frac{x^{2} + x - 1}{x^{2} - 1}</td>\n",
       "      <td>Efectúa simplificando el resultado si es posible:</td>\n",
       "      <td>1BC</td>\n",
       "      <td>5 - Fracciones Algebraicas</td>\n",
       "      <td>p015e09</td>\n",
       "      <td>1</td>\n",
       "      <td>2</td>\n",
       "      <td>1</td>\n",
       "    </tr>\n",
       "    <tr>\n",
       "      <th>28</th>\n",
       "      <td>\\frac{x}{{{x^2} - 5x + 6}} + \\frac{2}{{x - 3}}...</td>\n",
       "      <td>x/(x**2 - 5*x + 6) + 2/(x - 3) - 3/(x - 2)</td>\n",
       "      <td>\\frac{5}{x^{2} - 5 x + 6}</td>\n",
       "      <td>Efectúa simplificando el resultado si es posible:</td>\n",
       "      <td>1BC</td>\n",
       "      <td>5 - Fracciones Algebraicas</td>\n",
       "      <td>p015e09</td>\n",
       "      <td>1</td>\n",
       "      <td>2</td>\n",
       "      <td>1</td>\n",
       "    </tr>\n",
       "    <tr>\n",
       "      <th>29</th>\n",
       "      <td>\\frac{2}{{x - 2}} + \\frac{1}{{x + 2}} - \\frac{...</td>\n",
       "      <td>-(x - 1)/(x**2 - 4) + 1/(x + 2) + 2/(x - 2)</td>\n",
       "      <td>\\frac{2 x + 3}{x^{2} - 4}</td>\n",
       "      <td>Efectúa simplificando el resultado si es posible:</td>\n",
       "      <td>1BC</td>\n",
       "      <td>5 - Fracciones Algebraicas</td>\n",
       "      <td>p015e09</td>\n",
       "      <td>1</td>\n",
       "      <td>2</td>\n",
       "      <td>1</td>\n",
       "    </tr>\n",
       "    <tr>\n",
       "      <th>30</th>\n",
       "      <td>\\frac{x}{{{x^2} - 9x + 20}} - \\frac{1}{{{x^2} ...</td>\n",
       "      <td>x/(x**2 - 9*x + 20) - 1/(x**2 - 11*x + 30) + 2...</td>\n",
       "      <td>\\frac{x + 1}{x^{2} - 9 x + 20}</td>\n",
       "      <td>Efectúa simplificando el resultado si es posible:</td>\n",
       "      <td>1BC</td>\n",
       "      <td>5 - Fracciones Algebraicas</td>\n",
       "      <td>p015e09</td>\n",
       "      <td>1</td>\n",
       "      <td>2</td>\n",
       "      <td>1</td>\n",
       "    </tr>\n",
       "    <tr>\n",
       "      <th>31</th>\n",
       "      <td>\\frac{{{x^2} + 3x + 2}}{{{x^2} - 3x + 2}} \\cdo...</td>\n",
       "      <td>((x**2 - 1)/(x**2 - x - 6))*((x**2 + 3*x + 2)/...</td>\n",
       "      <td>\\frac{x^{2} + 2 x + 1}{x^{2} - 5 x + 6}</td>\n",
       "      <td>Efectúa simplificando el resultado si es posible:</td>\n",
       "      <td>1BC</td>\n",
       "      <td>5 - Fracciones Algebraicas</td>\n",
       "      <td>p015e09</td>\n",
       "      <td>1</td>\n",
       "      <td>2</td>\n",
       "      <td>1</td>\n",
       "    </tr>\n",
       "    <tr>\n",
       "      <th>32</th>\n",
       "      <td>\\frac{{3x - 2}}{{10x + 4}} \\cdot \\frac{{4x}}{{...</td>\n",
       "      <td>((4*x)/(6*x - 4))*((3*x - 2)/(10*x + 4))</td>\n",
       "      <td>\\frac{x}{5 x + 2}</td>\n",
       "      <td>Efectúa simplificando el resultado si es posible:</td>\n",
       "      <td>1BC</td>\n",
       "      <td>5 - Fracciones Algebraicas</td>\n",
       "      <td>p015e09</td>\n",
       "      <td>1</td>\n",
       "      <td>2</td>\n",
       "      <td>1</td>\n",
       "    </tr>\n",
       "    <tr>\n",
       "      <th>33</th>\n",
       "      <td>\\frac{{3{x^2} + 5x - 2}}{{{x^4} + 2{x^2} - 15}...</td>\n",
       "      <td>((3*x**2 + 5*x - 2)/(x**4 + 2*x**2 - 15))/(((9...</td>\n",
       "      <td>\\frac{3 x^{3} + 6 x^{2}}{9 x^{3} - 3 x^{2} - 2...</td>\n",
       "      <td>Efectúa simplificando el resultado si es posible:</td>\n",
       "      <td>1BC</td>\n",
       "      <td>5 - Fracciones Algebraicas</td>\n",
       "      <td>p015e09</td>\n",
       "      <td>1</td>\n",
       "      <td>2</td>\n",
       "      <td>1</td>\n",
       "    </tr>\n",
       "    <tr>\n",
       "      <th>34</th>\n",
       "      <td>\\frac{x}{{{x^2} + 5x + 6}} - \\frac{2}{{x + 2}}...</td>\n",
       "      <td>x/(x**2 + 5*x + 6) - 2/(x + 2) + 3/(x + 3)</td>\n",
       "      <td>\\frac{2 x}{x^{2} + 5 x + 6}</td>\n",
       "      <td>Efectúa simplificando el resultado si es posible:</td>\n",
       "      <td>1BC</td>\n",
       "      <td>5 - Fracciones Algebraicas</td>\n",
       "      <td>p015e09</td>\n",
       "      <td>1</td>\n",
       "      <td>2</td>\n",
       "      <td>1</td>\n",
       "    </tr>\n",
       "    <tr>\n",
       "      <th>35</th>\n",
       "      <td>\\frac{{{x^2} - 2x - 3}}{{{x^2} - 5x}} \\cdot \\f...</td>\n",
       "      <td>((x**2 - 2*x - 3)/(x**2 - 5*x))*((x**2 - 4*x -...</td>\n",
       "      <td>\\frac{x^{2} + 2 x + 1}{x^{2} - x}</td>\n",
       "      <td>Efectúa simplificando el resultado si es posible:</td>\n",
       "      <td>1BC</td>\n",
       "      <td>5 - Fracciones Algebraicas</td>\n",
       "      <td>p015e09</td>\n",
       "      <td>1</td>\n",
       "      <td>2</td>\n",
       "      <td>1</td>\n",
       "    </tr>\n",
       "    <tr>\n",
       "      <th>36</th>\n",
       "      <td>\\frac{{{x^2} - 4}}{{{x^3} - {x^2} + 3x - 3}}:\\...</td>\n",
       "      <td>((x**2 - 4)/(3*x + x**3 - x**2 - 3))/(((x**2 -...</td>\n",
       "      <td>\\frac{x^{2} + 2 x}{x^{2} - 2 x + 1}</td>\n",
       "      <td>Efectúa simplificando el resultado si es posible:</td>\n",
       "      <td>1BC</td>\n",
       "      <td>5 - Fracciones Algebraicas</td>\n",
       "      <td>p015e09</td>\n",
       "      <td>1</td>\n",
       "      <td>2</td>\n",
       "      <td>1</td>\n",
       "    </tr>\n",
       "    <tr>\n",
       "      <th>37</th>\n",
       "      <td>\\frac{x}{{{x^2} - 2x + 1}} - \\frac{{x - 3}}{{{...</td>\n",
       "      <td>x/(x**2 - 2*x + 1) - (x - 3)/(x**2 - x)</td>\n",
       "      <td>\\frac{4 x - 3}{x^{3} - 2 x^{2} + x}</td>\n",
       "      <td>Efectúa simplificando el resultado si es posible:</td>\n",
       "      <td>1BC</td>\n",
       "      <td>5 - Fracciones Algebraicas</td>\n",
       "      <td>p015e09</td>\n",
       "      <td>1</td>\n",
       "      <td>2</td>\n",
       "      <td>1</td>\n",
       "    </tr>\n",
       "    <tr>\n",
       "      <th>38</th>\n",
       "      <td>\\frac{{x + 1}}{{{x^2} - 4}} + \\frac{{2x - 1}}{...</td>\n",
       "      <td>(3*x - 2)/(x**2 - 2*x) + (x + 1)/(x**2 - 4) + ...</td>\n",
       "      <td>\\frac{6 x^{2} - 2}{x^{3} - 4 x}</td>\n",
       "      <td>Efectúa simplificando el resultado si es posible:</td>\n",
       "      <td>1BC</td>\n",
       "      <td>5 - Fracciones Algebraicas</td>\n",
       "      <td>p015e09</td>\n",
       "      <td>1</td>\n",
       "      <td>2</td>\n",
       "      <td>1</td>\n",
       "    </tr>\n",
       "    <tr>\n",
       "      <th>39</th>\n",
       "      <td>\\frac{{\\frac{{x + 1}}{{{x^2}}}}}{{\\frac{{{x^2}...</td>\n",
       "      <td>((x + 1)/x**2)/(((x**2 - 1)/x**3))</td>\n",
       "      <td>\\frac{x}{x - 1}</td>\n",
       "      <td>Efectúa simplificando el resultado si es posible:</td>\n",
       "      <td>1BC</td>\n",
       "      <td>5 - Fracciones Algebraicas</td>\n",
       "      <td>p015e09</td>\n",
       "      <td>1</td>\n",
       "      <td>2</td>\n",
       "      <td>1</td>\n",
       "    </tr>\n",
       "    <tr>\n",
       "      <th>40</th>\n",
       "      <td>( {\\frac{1}{{{x^2} - 1}}} ):\\frac{1}{{\\frac{1}...</td>\n",
       "      <td>1/((x**2 - 1)*1/((2*x**2)/(-x**4 + 1) + 1/(x**...</td>\n",
       "      <td>- \\frac{1}{x^{4} - 2 x^{2} + 1}</td>\n",
       "      <td>Efectúa simplificando el resultado si es posible:</td>\n",
       "      <td>1BC</td>\n",
       "      <td>5 - Fracciones Algebraicas</td>\n",
       "      <td>p015e09</td>\n",
       "      <td>1</td>\n",
       "      <td>2</td>\n",
       "      <td>1</td>\n",
       "    </tr>\n",
       "    <tr>\n",
       "      <th>41</th>\n",
       "      <td>\\frac{x}{{1 + \\frac{1}{{1 + \\frac{1}{x}}}}}</td>\n",
       "      <td>x/(1 + 1/(1 + 1/x))</td>\n",
       "      <td>\\frac{x^{2} + x}{2 x + 1}</td>\n",
       "      <td>Efectúa simplificando el resultado si es posible:</td>\n",
       "      <td>1BC</td>\n",
       "      <td>5 - Fracciones Algebraicas</td>\n",
       "      <td>p015e09</td>\n",
       "      <td>1</td>\n",
       "      <td>2</td>\n",
       "      <td>1</td>\n",
       "    </tr>\n",
       "    <tr>\n",
       "      <th>42</th>\n",
       "      <td>\\frac{{\\frac{1}{{x - 2}} - \\frac{1}{{x + 2}}}}...</td>\n",
       "      <td>(-1/(x + 2) + 1/(x - 2))/(1 - 4/(x**2 - 4))</td>\n",
       "      <td>\\frac{4}{x^{2} - 8}</td>\n",
       "      <td>Efectúa simplificando el resultado si es posible:</td>\n",
       "      <td>1BC</td>\n",
       "      <td>5 - Fracciones Algebraicas</td>\n",
       "      <td>p015e09</td>\n",
       "      <td>1</td>\n",
       "      <td>2</td>\n",
       "      <td>1</td>\n",
       "    </tr>\n",
       "    <tr>\n",
       "      <th>43</th>\n",
       "      <td>\\frac{1}{{\\frac{{x + 1}}{{x - 1}} - \\frac{{x -...</td>\n",
       "      <td>1/(-(x - 1)/(x + 1) + (x + 1)/(x - 1))</td>\n",
       "      <td>\\frac{x^{2} - 1}{4 x}</td>\n",
       "      <td>Efectúa simplificando el resultado si es posible:</td>\n",
       "      <td>1BC</td>\n",
       "      <td>5 - Fracciones Algebraicas</td>\n",
       "      <td>p015e09</td>\n",
       "      <td>1</td>\n",
       "      <td>2</td>\n",
       "      <td>1</td>\n",
       "    </tr>\n",
       "    <tr>\n",
       "      <th>44</th>\n",
       "      <td>( {{x^3} + x} ):( {1 - \\frac{{2x}}{{2x + \\frac...</td>\n",
       "      <td>(x**3 + x)/(-2*x/(2*x + 2/x) + 1)</td>\n",
       "      <td>x^{5} + 2 x^{3} + x</td>\n",
       "      <td>Efectúa simplificando el resultado si es posible:</td>\n",
       "      <td>1BC</td>\n",
       "      <td>5 - Fracciones Algebraicas</td>\n",
       "      <td>p015e09</td>\n",
       "      <td>1</td>\n",
       "      <td>2</td>\n",
       "      <td>1</td>\n",
       "    </tr>\n",
       "    <tr>\n",
       "      <th>45</th>\n",
       "      <td>( {\\frac{1}{x} - \\frac{1}{{x + 1}}})( {x - \\fr...</td>\n",
       "      <td>(x - (x + 1)/(x - 1))*(-1/(x + 1) + 1/x)</td>\n",
       "      <td>\\frac{x^{2} - 2 x - 1}{x^{3} - x}</td>\n",
       "      <td>Efectúa simplificando el resultado si es posible:</td>\n",
       "      <td>1BC</td>\n",
       "      <td>5 - Fracciones Algebraicas</td>\n",
       "      <td>p015e09</td>\n",
       "      <td>1</td>\n",
       "      <td>2</td>\n",
       "      <td>1</td>\n",
       "    </tr>\n",
       "    <tr>\n",
       "      <th>46</th>\n",
       "      <td>\\frac{1}{x}( {\\frac{2}{x} - \\frac{3}{{x + 1}}}...</td>\n",
       "      <td>-(3 - 4/(x + 1))*(x + 1)/x + (-3/(x + 1) + 2/x)/x</td>\n",
       "      <td>- \\frac{3 x^{3} + 2 x^{2} - 2}{x^{3} + x^{2}}</td>\n",
       "      <td>Efectúa simplificando el resultado si es posible:</td>\n",
       "      <td>1BC</td>\n",
       "      <td>5 - Fracciones Algebraicas</td>\n",
       "      <td>p015e09</td>\n",
       "      <td>1</td>\n",
       "      <td>2</td>\n",
       "      <td>1</td>\n",
       "    </tr>\n",
       "    <tr>\n",
       "      <th>47</th>\n",
       "      <td>\\frac{{\\frac{{x - 1}}{{x + 2}} - \\frac{{x + 2}...</td>\n",
       "      <td>((x - 1)/(x + 2) - (x + 2)/(x - 1))/(1 - 1/(x ...</td>\n",
       "      <td>- \\frac{6 x + 3}{x^{2} - 4}</td>\n",
       "      <td>Efectúa simplificando el resultado si es posible:</td>\n",
       "      <td>1BC</td>\n",
       "      <td>5 - Fracciones Algebraicas</td>\n",
       "      <td>p015e09</td>\n",
       "      <td>1</td>\n",
       "      <td>2</td>\n",
       "      <td>1</td>\n",
       "    </tr>\n",
       "  </tbody>\n",
       "</table>\n",
       "</div>"
      ],
      "text/plain": [
       "                                      enunciado_latex  \\\n",
       "27  \\frac{x}{{x + 1}} + \\frac{{3x}}{{{x^2} - 1}} -...   \n",
       "28  \\frac{x}{{{x^2} - 5x + 6}} + \\frac{2}{{x - 3}}...   \n",
       "29  \\frac{2}{{x - 2}} + \\frac{1}{{x + 2}} - \\frac{...   \n",
       "30  \\frac{x}{{{x^2} - 9x + 20}} - \\frac{1}{{{x^2} ...   \n",
       "31  \\frac{{{x^2} + 3x + 2}}{{{x^2} - 3x + 2}} \\cdo...   \n",
       "32  \\frac{{3x - 2}}{{10x + 4}} \\cdot \\frac{{4x}}{{...   \n",
       "33  \\frac{{3{x^2} + 5x - 2}}{{{x^4} + 2{x^2} - 15}...   \n",
       "34  \\frac{x}{{{x^2} + 5x + 6}} - \\frac{2}{{x + 2}}...   \n",
       "35  \\frac{{{x^2} - 2x - 3}}{{{x^2} - 5x}} \\cdot \\f...   \n",
       "36  \\frac{{{x^2} - 4}}{{{x^3} - {x^2} + 3x - 3}}:\\...   \n",
       "37  \\frac{x}{{{x^2} - 2x + 1}} - \\frac{{x - 3}}{{{...   \n",
       "38  \\frac{{x + 1}}{{{x^2} - 4}} + \\frac{{2x - 1}}{...   \n",
       "39  \\frac{{\\frac{{x + 1}}{{{x^2}}}}}{{\\frac{{{x^2}...   \n",
       "40  ( {\\frac{1}{{{x^2} - 1}}} ):\\frac{1}{{\\frac{1}...   \n",
       "41        \\frac{x}{{1 + \\frac{1}{{1 + \\frac{1}{x}}}}}   \n",
       "42  \\frac{{\\frac{1}{{x - 2}} - \\frac{1}{{x + 2}}}}...   \n",
       "43  \\frac{1}{{\\frac{{x + 1}}{{x - 1}} - \\frac{{x -...   \n",
       "44  ( {{x^3} + x} ):( {1 - \\frac{{2x}}{{2x + \\frac...   \n",
       "45  ( {\\frac{1}{x} - \\frac{1}{{x + 1}}})( {x - \\fr...   \n",
       "46  \\frac{1}{x}( {\\frac{2}{x} - \\frac{3}{{x + 1}}}...   \n",
       "47  \\frac{{\\frac{{x - 1}}{{x + 2}} - \\frac{{x + 2}...   \n",
       "\n",
       "                                            enunciado  \\\n",
       "27           x/(x + 1) + (3*x)/(x**2 - 1) - 1/(x - 1)   \n",
       "28         x/(x**2 - 5*x + 6) + 2/(x - 3) - 3/(x - 2)   \n",
       "29        -(x - 1)/(x**2 - 4) + 1/(x + 2) + 2/(x - 2)   \n",
       "30  x/(x**2 - 9*x + 20) - 1/(x**2 - 11*x + 30) + 2...   \n",
       "31  ((x**2 - 1)/(x**2 - x - 6))*((x**2 + 3*x + 2)/...   \n",
       "32           ((4*x)/(6*x - 4))*((3*x - 2)/(10*x + 4))   \n",
       "33  ((3*x**2 + 5*x - 2)/(x**4 + 2*x**2 - 15))/(((9...   \n",
       "34         x/(x**2 + 5*x + 6) - 2/(x + 2) + 3/(x + 3)   \n",
       "35  ((x**2 - 2*x - 3)/(x**2 - 5*x))*((x**2 - 4*x -...   \n",
       "36  ((x**2 - 4)/(3*x + x**3 - x**2 - 3))/(((x**2 -...   \n",
       "37            x/(x**2 - 2*x + 1) - (x - 3)/(x**2 - x)   \n",
       "38  (3*x - 2)/(x**2 - 2*x) + (x + 1)/(x**2 - 4) + ...   \n",
       "39                 ((x + 1)/x**2)/(((x**2 - 1)/x**3))   \n",
       "40  1/((x**2 - 1)*1/((2*x**2)/(-x**4 + 1) + 1/(x**...   \n",
       "41                                x/(1 + 1/(1 + 1/x))   \n",
       "42        (-1/(x + 2) + 1/(x - 2))/(1 - 4/(x**2 - 4))   \n",
       "43             1/(-(x - 1)/(x + 1) + (x + 1)/(x - 1))   \n",
       "44                  (x**3 + x)/(-2*x/(2*x + 2/x) + 1)   \n",
       "45           (x - (x + 1)/(x - 1))*(-1/(x + 1) + 1/x)   \n",
       "46  -(3 - 4/(x + 1))*(x + 1)/x + (-3/(x + 1) + 2/x)/x   \n",
       "47  ((x - 1)/(x + 2) - (x + 2)/(x - 1))/(1 - 1/(x ...   \n",
       "\n",
       "                                             solucion  \\\n",
       "27                    \\frac{x^{2} + x - 1}{x^{2} - 1}   \n",
       "28                          \\frac{5}{x^{2} - 5 x + 6}   \n",
       "29                          \\frac{2 x + 3}{x^{2} - 4}   \n",
       "30                     \\frac{x + 1}{x^{2} - 9 x + 20}   \n",
       "31            \\frac{x^{2} + 2 x + 1}{x^{2} - 5 x + 6}   \n",
       "32                                  \\frac{x}{5 x + 2}   \n",
       "33  \\frac{3 x^{3} + 6 x^{2}}{9 x^{3} - 3 x^{2} - 2...   \n",
       "34                        \\frac{2 x}{x^{2} + 5 x + 6}   \n",
       "35                  \\frac{x^{2} + 2 x + 1}{x^{2} - x}   \n",
       "36                \\frac{x^{2} + 2 x}{x^{2} - 2 x + 1}   \n",
       "37                \\frac{4 x - 3}{x^{3} - 2 x^{2} + x}   \n",
       "38                    \\frac{6 x^{2} - 2}{x^{3} - 4 x}   \n",
       "39                                    \\frac{x}{x - 1}   \n",
       "40                    - \\frac{1}{x^{4} - 2 x^{2} + 1}   \n",
       "41                          \\frac{x^{2} + x}{2 x + 1}   \n",
       "42                                \\frac{4}{x^{2} - 8}   \n",
       "43                              \\frac{x^{2} - 1}{4 x}   \n",
       "44                                x^{5} + 2 x^{3} + x   \n",
       "45                  \\frac{x^{2} - 2 x - 1}{x^{3} - x}   \n",
       "46      - \\frac{3 x^{3} + 2 x^{2} - 2}{x^{3} + x^{2}}   \n",
       "47                        - \\frac{6 x + 3}{x^{2} - 4}   \n",
       "\n",
       "                                                texto curso  \\\n",
       "27  Efectúa simplificando el resultado si es posible:   1BC   \n",
       "28  Efectúa simplificando el resultado si es posible:   1BC   \n",
       "29  Efectúa simplificando el resultado si es posible:   1BC   \n",
       "30  Efectúa simplificando el resultado si es posible:   1BC   \n",
       "31  Efectúa simplificando el resultado si es posible:   1BC   \n",
       "32  Efectúa simplificando el resultado si es posible:   1BC   \n",
       "33  Efectúa simplificando el resultado si es posible:   1BC   \n",
       "34  Efectúa simplificando el resultado si es posible:   1BC   \n",
       "35  Efectúa simplificando el resultado si es posible:   1BC   \n",
       "36  Efectúa simplificando el resultado si es posible:   1BC   \n",
       "37  Efectúa simplificando el resultado si es posible:   1BC   \n",
       "38  Efectúa simplificando el resultado si es posible:   1BC   \n",
       "39  Efectúa simplificando el resultado si es posible:   1BC   \n",
       "40  Efectúa simplificando el resultado si es posible:   1BC   \n",
       "41  Efectúa simplificando el resultado si es posible:   1BC   \n",
       "42  Efectúa simplificando el resultado si es posible:   1BC   \n",
       "43  Efectúa simplificando el resultado si es posible:   1BC   \n",
       "44  Efectúa simplificando el resultado si es posible:   1BC   \n",
       "45  Efectúa simplificando el resultado si es posible:   1BC   \n",
       "46  Efectúa simplificando el resultado si es posible:   1BC   \n",
       "47  Efectúa simplificando el resultado si es posible:   1BC   \n",
       "\n",
       "                        titulo n_ejercicio  dificultad  n_columnas  puntos  \n",
       "27  5 - Fracciones Algebraicas     p015e09           1           2       1  \n",
       "28  5 - Fracciones Algebraicas     p015e09           1           2       1  \n",
       "29  5 - Fracciones Algebraicas     p015e09           1           2       1  \n",
       "30  5 - Fracciones Algebraicas     p015e09           1           2       1  \n",
       "31  5 - Fracciones Algebraicas     p015e09           1           2       1  \n",
       "32  5 - Fracciones Algebraicas     p015e09           1           2       1  \n",
       "33  5 - Fracciones Algebraicas     p015e09           1           2       1  \n",
       "34  5 - Fracciones Algebraicas     p015e09           1           2       1  \n",
       "35  5 - Fracciones Algebraicas     p015e09           1           2       1  \n",
       "36  5 - Fracciones Algebraicas     p015e09           1           2       1  \n",
       "37  5 - Fracciones Algebraicas     p015e09           1           2       1  \n",
       "38  5 - Fracciones Algebraicas     p015e09           1           2       1  \n",
       "39  5 - Fracciones Algebraicas     p015e09           1           2       1  \n",
       "40  5 - Fracciones Algebraicas     p015e09           1           2       1  \n",
       "41  5 - Fracciones Algebraicas     p015e09           1           2       1  \n",
       "42  5 - Fracciones Algebraicas     p015e09           1           2       1  \n",
       "43  5 - Fracciones Algebraicas     p015e09           1           2       1  \n",
       "44  5 - Fracciones Algebraicas     p015e09           1           2       1  \n",
       "45  5 - Fracciones Algebraicas     p015e09           1           2       1  \n",
       "46  5 - Fracciones Algebraicas     p015e09           1           2       1  \n",
       "47  5 - Fracciones Algebraicas     p015e09           1           2       1  "
      ]
     },
     "metadata": {},
     "output_type": "display_data"
    }
   ],
   "source": [
    "escribir_preambulo(fichero, titulo, 'ejercicios')\n",
    "for s in df_ejercicios.groupby('n_ejercicio').count().index : \n",
    "    display(md(\"**Ejercicio: **\" + s ))\n",
    "    display(df_ejercicios[df_ejercicios.n_ejercicio == s])\n",
    "    escribir_ejercicios(df_ejercicios[df_ejercicios.n_ejercicio == s],fichero)\n",
    "\n",
    "escribir_fin(fichero)"
   ]
  }
 ],
 "metadata": {
  "kernelspec": {
   "display_name": "Python 3",
   "language": "python",
   "name": "python3"
  },
  "language_info": {
   "codemirror_mode": {
    "name": "ipython",
    "version": 3
   },
   "file_extension": ".py",
   "mimetype": "text/x-python",
   "name": "python",
   "nbconvert_exporter": "python",
   "pygments_lexer": "ipython3",
   "version": "3.6.8"
  }
 },
 "nbformat": 4,
 "nbformat_minor": 2
}
