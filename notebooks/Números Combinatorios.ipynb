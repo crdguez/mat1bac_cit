{
 "cells": [
  {
   "cell_type": "markdown",
   "metadata": {},
   "source": [
    "<a href=\"https://colab.research.google.com/github/crdguez/mat1bac_cit/blob/master/notebooks/Ejercicios1_3.ipynb\"><img align=\"left\" src=\"https://colab.research.google.com/assets/colab-badge.svg\" alt=\"Open in Colab\" title=\"Open and Execute in Google Colaboratory\"></a>"
   ]
  },
  {
   "cell_type": "code",
   "execution_count": 1,
   "metadata": {},
   "outputs": [
    {
     "name": "stdout",
     "output_type": "stream",
     "text": [
      "IPython console for SymPy 1.2 (Python 3.6.5-64-bit) (ground types: gmpy)\n",
      "\n",
      "These commands were executed:\n",
      ">>> from __future__ import division\n",
      ">>> from sympy import *\n",
      ">>> x, y, z, t = symbols('x y z t')\n",
      ">>> k, m, n = symbols('k m n', integer=True)\n",
      ">>> f, g, h = symbols('f g h', cls=Function)\n",
      ">>> init_printing()\n",
      "\n",
      "Documentation can be found at http://docs.sympy.org/1.2/\n",
      "\n"
     ]
    }
   ],
   "source": [
    "from sympy import init_session\n",
    "from sympy.parsing.latex import parse_latex\n",
    "from sympy.parsing.sympy_parser import parse_expr\n",
    "from sympy.functions.combinatorial.numbers import nC, nP, nT\n",
    "from IPython.display import Markdown as md\n",
    "from IPython.display import display\n",
    "import pandas as pd\n",
    "\n",
    "init_session()\n",
    "\n",
    "a, b, c, d = symbols('a b c d', real = True)\n",
    "from docparts import añadir_ejercicios, doc_ejer, escribir_preambulo, escribir_ejercicios, escribir_fin\n",
    "\n",
    "df_ejercicios = pd.DataFrame()\n",
    "\n",
    "fichero = 'ncombinatorios.tex'\n",
    "titulo = 'Números combinatorios. Binomio de Newton'\n",
    "curso = '1BC'\n"
   ]
  },
  {
   "cell_type": "code",
   "execution_count": 2,
   "metadata": {},
   "outputs": [
    {
     "data": {
      "text/markdown": [
       "**Simplifica los cocientes entre factoriales:**"
      ],
      "text/plain": [
       "<IPython.core.display.Markdown object>"
      ]
     },
     "metadata": {},
     "output_type": "display_data"
    },
    {
     "data": {
      "text/markdown": [
       "$\\frac{{7!}}{{6!}} \\rightarrow 7$"
      ],
      "text/plain": [
       "<IPython.core.display.Markdown object>"
      ]
     },
     "metadata": {},
     "output_type": "display_data"
    },
    {
     "data": {
      "text/markdown": [
       "$\\frac{{8!}}{{9!}} \\rightarrow \\frac{1}{9}$"
      ],
      "text/plain": [
       "<IPython.core.display.Markdown object>"
      ]
     },
     "metadata": {},
     "output_type": "display_data"
    },
    {
     "data": {
      "text/markdown": [
       "$\\frac{{9!}}{{5!\\cdot 4!}} \\rightarrow 126$"
      ],
      "text/plain": [
       "<IPython.core.display.Markdown object>"
      ]
     },
     "metadata": {},
     "output_type": "display_data"
    },
    {
     "data": {
      "text/markdown": [
       "$\\frac{{m!}}{{(m - 1)!}} \\rightarrow m$"
      ],
      "text/plain": [
       "<IPython.core.display.Markdown object>"
      ]
     },
     "metadata": {},
     "output_type": "display_data"
    },
    {
     "data": {
      "text/markdown": [
       "$\\frac{{( {m + 1} )!}}{{( {m - 1} )!}} \\rightarrow m \\left(m + 1\\right)$"
      ],
      "text/plain": [
       "<IPython.core.display.Markdown object>"
      ]
     },
     "metadata": {},
     "output_type": "display_data"
    }
   ],
   "source": [
    "# Página 9 ejercicio 2\n",
    "\n",
    "texto_ejercicio = 'Simplifica los cocientes entre factoriales:'\n",
    "n_ejercicio = 'p9e2'\n",
    "\n",
    "display(md(\"**\"+texto_ejercicio+\"**\"))\n",
    "\n",
    "enunciado_latex = [r'\\frac{{7!}}{{6!}}',\n",
    "                   r'\\frac{{8!}}{{9!}}',\n",
    "                   r'\\frac{{9!}}{{5!\\cdot 4!}}',\n",
    "                   r'\\frac{{m!}}{{(m - 1)!}}',\n",
    "                   r'\\frac{{( {m + 1} )!}}{{( {m - 1} )!}}'\n",
    "                  ]\n",
    "enunciado, solucion = [], []\n",
    "for s in enunciado_latex :\n",
    "    display(md(\"$\"+ s +\" \\\\rightarrow \" + latex(combsimp(parse_latex(s)))+\"$\"))\n",
    "    enunciado.append(parse_latex(s))\n",
    "    solucion.append(latex(combsimp(parse_latex(s)))) \n",
    "\n",
    "df_ejercicios = df_ejercicios.append(añadir_ejercicios(enunciado_latex, enunciado, solucion, texto_ejercicio, curso, titulo, n_ejercicio), ignore_index=True)\n"
   ]
  },
  {
   "cell_type": "code",
   "execution_count": 3,
   "metadata": {},
   "outputs": [
    {
     "data": {
      "text/markdown": [
       "**Calcula las siguientes operaciones:**"
      ],
      "text/plain": [
       "<IPython.core.display.Markdown object>"
      ]
     },
     "metadata": {},
     "output_type": "display_data"
    },
    {
     "data": {
      "text/markdown": [
       "$\\binom{252}{250} \\rightarrow 31626$"
      ],
      "text/plain": [
       "<IPython.core.display.Markdown object>"
      ]
     },
     "metadata": {},
     "output_type": "display_data"
    },
    {
     "data": {
      "text/markdown": [
       "$\\binom{25}{3} + \\binom{25}{4} \\rightarrow 14950$"
      ],
      "text/plain": [
       "<IPython.core.display.Markdown object>"
      ]
     },
     "metadata": {},
     "output_type": "display_data"
    },
    {
     "data": {
      "text/markdown": [
       "$\\binom{9}{6} + \\binom{9}{7} + \\binom{10}{2} \\rightarrow 165$"
      ],
      "text/plain": [
       "<IPython.core.display.Markdown object>"
      ]
     },
     "metadata": {},
     "output_type": "display_data"
    },
    {
     "data": {
      "text/markdown": [
       "$\\binom{4}{2} + \\binom{4}{3} + \\binom{5}{4}+ \\binom{6}{5} + \\binom{7}{6} + \\binom{8}{7} \\rightarrow 36$"
      ],
      "text/plain": [
       "<IPython.core.display.Markdown object>"
      ]
     },
     "metadata": {},
     "output_type": "display_data"
    },
    {
     "data": {
      "text/markdown": [
       "$\\binom{4}{0} + \\binom{4}{1} + \\binom{4}{2}+\\binom{4}{3} \\rightarrow 15$"
      ],
      "text/plain": [
       "<IPython.core.display.Markdown object>"
      ]
     },
     "metadata": {},
     "output_type": "display_data"
    }
   ],
   "source": [
    "# Página 9 ejercicio 3\n",
    "\n",
    "texto_ejercicio = 'Calcula las siguientes operaciones:'\n",
    "n_ejercicio = 'p9e3'\n",
    "\n",
    "display(md(\"**\"+texto_ejercicio+\"**\"))\n",
    "\n",
    "enunciado_latex = [r'\\binom{252}{250}',\n",
    "                   r'\\binom{25}{3} + \\binom{25}{4}',\n",
    "                   r'\\binom{9}{6} + \\binom{9}{7} + \\binom{10}{2}',\n",
    "                r'\\binom{4}{2} + \\binom{4}{3} + \\binom{5}{4}+ \\binom{6}{5} + \\binom{7}{6} + \\binom{8}{7}',\n",
    "                    r'\\binom{4}{0} + \\binom{4}{1} + \\binom{4}{2}+\\binom{4}{3}'\n",
    "                  ]\n",
    "enunciado = ['binomial(252,250)',\n",
    "                   'binomial(25,3) + binomial(25,4)',\n",
    "                   'binomial(9,6) + binomial(9,7) + binomial(10,2)',\n",
    "                'binomial(4,2) + binomial(4,3) + binomial(5,4)+ binomial(6,5) + binomial(7,6) + binomial(8,7)',\n",
    "                    'binomial(4,0) + binomial(4,1) + binomial(4,2)+binomial(4,3)'\n",
    "                  ]\n",
    "\n",
    "\n",
    "solucion = []\n",
    "for s in list(map(list, zip(*[enunciado_latex, enunciado]))) :\n",
    "    display(md(\"$\"+ s[0] +\" \\\\rightarrow \" + latex(combsimp(S(s[1])))+\"$\"))\n",
    "    solucion.append(latex(combsimp(S(s[1])))) \n",
    "\n",
    "df_ejercicios = df_ejercicios.append(añadir_ejercicios(enunciado_latex, enunciado, solucion, texto_ejercicio, curso, titulo, n_ejercicio), ignore_index=True)\n"
   ]
  },
  {
   "cell_type": "code",
   "execution_count": 9,
   "metadata": {},
   "outputs": [
    {
     "data": {
      "text/markdown": [
       "**Simplifica:**"
      ],
      "text/plain": [
       "<IPython.core.display.Markdown object>"
      ]
     },
     "metadata": {},
     "output_type": "display_data"
    },
    {
     "data": {
      "text/markdown": [
       "$\\frac{{6!}}{{5!}} + \\frac{{8!}}{{6!}} \\rightarrow 62$"
      ],
      "text/plain": [
       "<IPython.core.display.Markdown object>"
      ]
     },
     "metadata": {},
     "output_type": "display_data"
    },
    {
     "data": {
      "text/markdown": [
       "$\\frac{{n!}}{{(n - 1)!}} + \\frac{{(n + 2)!}}{{n!}} \\rightarrow n^{2} + 4 n + 2$"
      ],
      "text/plain": [
       "<IPython.core.display.Markdown object>"
      ]
     },
     "metadata": {},
     "output_type": "display_data"
    },
    {
     "data": {
      "text/markdown": [
       "$\\frac{\\binom{n+3}{n}+\\binom{n+2}{n}}{\\frac{n+6}{6}} \\rightarrow \\frac{n \\left(n + 1\\right) \\left(n + 2\\right) \\left(n + 6\\right)}{6 \\left(n^{2} + 6\\right)}$"
      ],
      "text/plain": [
       "<IPython.core.display.Markdown object>"
      ]
     },
     "metadata": {},
     "output_type": "display_data"
    }
   ],
   "source": [
    "### Página 9 ejercicio 5\n",
    "\n",
    "texto_ejercicio = 'Simplifica:'\n",
    "n_ejercicio = 'p9e5'\n",
    "\n",
    "display(md(\"**\"+texto_ejercicio+\"**\"))\n",
    "\n",
    "enunciado_latex = [r'\\frac{{6!}}{{5!}} + \\frac{{8!}}{{6!}}',\n",
    "                   r'\\frac{{n!}}{{(n - 1)!}} + \\frac{{(n + 2)!}}{{n!}}'\n",
    "                  ]\n",
    "enunciado, solucion = [], []\n",
    "for s in enunciado_latex :\n",
    "    display(md(\"$\"+ s +\" \\\\rightarrow \" + latex(combsimp(parse_latex(s)))+\"$\"))\n",
    "    enunciado.append(parse_latex(s))\n",
    "    solucion.append(latex(combsimp(parse_latex(s)))) \n",
    "    \n",
    "#enunciado_latex = enunciado_latex.append(r'\\frac{\\binom{n+3}{n}+\\binom{n+2}{n}}{\\frac{n+6}{6}}')\n",
    "#enunciado = enunciado.append('(binomial(n+3,n)+binomial(n+2,n))/(n+6/n)')\n",
    "\n",
    "display(md(\"$\"+ r'\\frac{\\binom{n+3}{n}+\\binom{n+2}{n}}{\\frac{n+6}{6}}' +\" \\\\rightarrow \" + latex(combsimp(S('(binomial(n+3,n)+binomial(n+2,n))/(n+6/n)')))+\"$\"))\n",
    "solucion.append(latex(combsimp(S('(binomial(n+3,n)+binomial(n+2,n))/(n+6/n)'))))\n",
    "\n",
    "df_ejercicios = df_ejercicios.append(añadir_ejercicios(enunciado_latex, enunciado, solucion, texto_ejercicio, curso, titulo, n_ejercicio), ignore_index=True)\n"
   ]
  },
  {
   "cell_type": "code",
   "execution_count": 10,
   "metadata": {},
   "outputs": [
    {
     "data": {
      "text/plain": [
       "None"
      ]
     },
     "metadata": {},
     "output_type": "display_data"
    }
   ],
   "source": [
    "display(enunciado_latex)"
   ]
  },
  {
   "cell_type": "code",
   "execution_count": 5,
   "metadata": {},
   "outputs": [
    {
     "data": {
      "text/markdown": [
       "**Ejercicio: **p9e2"
      ],
      "text/plain": [
       "<IPython.core.display.Markdown object>"
      ]
     },
     "metadata": {},
     "output_type": "display_data"
    },
    {
     "data": {
      "text/html": [
       "<div>\n",
       "<style scoped>\n",
       "    .dataframe tbody tr th:only-of-type {\n",
       "        vertical-align: middle;\n",
       "    }\n",
       "\n",
       "    .dataframe tbody tr th {\n",
       "        vertical-align: top;\n",
       "    }\n",
       "\n",
       "    .dataframe thead th {\n",
       "        text-align: right;\n",
       "    }\n",
       "</style>\n",
       "<table border=\"1\" class=\"dataframe\">\n",
       "  <thead>\n",
       "    <tr style=\"text-align: right;\">\n",
       "      <th></th>\n",
       "      <th>enunciado_latex</th>\n",
       "      <th>enunciado</th>\n",
       "      <th>solucion</th>\n",
       "      <th>texto</th>\n",
       "      <th>curso</th>\n",
       "      <th>titulo</th>\n",
       "      <th>n_ejercicio</th>\n",
       "    </tr>\n",
       "  </thead>\n",
       "  <tbody>\n",
       "    <tr>\n",
       "      <th>0</th>\n",
       "      <td>\\frac{{7!}}{{6!}}</td>\n",
       "      <td>factorial(7)/factorial(6)</td>\n",
       "      <td>7</td>\n",
       "      <td>Simplifica los cocientes entre factoriales:</td>\n",
       "      <td>1BC</td>\n",
       "      <td>Números combinatorios. Binomio de Newton</td>\n",
       "      <td>p9e2</td>\n",
       "    </tr>\n",
       "    <tr>\n",
       "      <th>1</th>\n",
       "      <td>\\frac{{8!}}{{9!}}</td>\n",
       "      <td>factorial(8)/factorial(9)</td>\n",
       "      <td>\\frac{1}{9}</td>\n",
       "      <td>Simplifica los cocientes entre factoriales:</td>\n",
       "      <td>1BC</td>\n",
       "      <td>Números combinatorios. Binomio de Newton</td>\n",
       "      <td>p9e2</td>\n",
       "    </tr>\n",
       "    <tr>\n",
       "      <th>2</th>\n",
       "      <td>\\frac{{9!}}{{5!\\cdot 4!}}</td>\n",
       "      <td>factorial(9)/((factorial(4)*factorial(5)))</td>\n",
       "      <td>126</td>\n",
       "      <td>Simplifica los cocientes entre factoriales:</td>\n",
       "      <td>1BC</td>\n",
       "      <td>Números combinatorios. Binomio de Newton</td>\n",
       "      <td>p9e2</td>\n",
       "    </tr>\n",
       "    <tr>\n",
       "      <th>3</th>\n",
       "      <td>\\frac{{m!}}{{(m - 1)!}}</td>\n",
       "      <td>factorial(m)/factorial(m - 1)</td>\n",
       "      <td>m</td>\n",
       "      <td>Simplifica los cocientes entre factoriales:</td>\n",
       "      <td>1BC</td>\n",
       "      <td>Números combinatorios. Binomio de Newton</td>\n",
       "      <td>p9e2</td>\n",
       "    </tr>\n",
       "    <tr>\n",
       "      <th>4</th>\n",
       "      <td>\\frac{{( {m + 1} )!}}{{( {m - 1} )!}}</td>\n",
       "      <td>factorial(m + 1)/factorial(m - 1)</td>\n",
       "      <td>m \\left(m + 1\\right)</td>\n",
       "      <td>Simplifica los cocientes entre factoriales:</td>\n",
       "      <td>1BC</td>\n",
       "      <td>Números combinatorios. Binomio de Newton</td>\n",
       "      <td>p9e2</td>\n",
       "    </tr>\n",
       "  </tbody>\n",
       "</table>\n",
       "</div>"
      ],
      "text/plain": [
       "                         enunciado_latex  \\\n",
       "0                      \\frac{{7!}}{{6!}}   \n",
       "1                      \\frac{{8!}}{{9!}}   \n",
       "2              \\frac{{9!}}{{5!\\cdot 4!}}   \n",
       "3                \\frac{{m!}}{{(m - 1)!}}   \n",
       "4  \\frac{{( {m + 1} )!}}{{( {m - 1} )!}}   \n",
       "\n",
       "                                    enunciado              solucion  \\\n",
       "0                   factorial(7)/factorial(6)                     7   \n",
       "1                   factorial(8)/factorial(9)           \\frac{1}{9}   \n",
       "2  factorial(9)/((factorial(4)*factorial(5)))                   126   \n",
       "3               factorial(m)/factorial(m - 1)                     m   \n",
       "4           factorial(m + 1)/factorial(m - 1)  m \\left(m + 1\\right)   \n",
       "\n",
       "                                         texto curso  \\\n",
       "0  Simplifica los cocientes entre factoriales:   1BC   \n",
       "1  Simplifica los cocientes entre factoriales:   1BC   \n",
       "2  Simplifica los cocientes entre factoriales:   1BC   \n",
       "3  Simplifica los cocientes entre factoriales:   1BC   \n",
       "4  Simplifica los cocientes entre factoriales:   1BC   \n",
       "\n",
       "                                     titulo n_ejercicio  \n",
       "0  Números combinatorios. Binomio de Newton        p9e2  \n",
       "1  Números combinatorios. Binomio de Newton        p9e2  \n",
       "2  Números combinatorios. Binomio de Newton        p9e2  \n",
       "3  Números combinatorios. Binomio de Newton        p9e2  \n",
       "4  Números combinatorios. Binomio de Newton        p9e2  "
      ]
     },
     "metadata": {},
     "output_type": "display_data"
    },
    {
     "data": {
      "text/markdown": [
       "**Ejercicio: **p9e3"
      ],
      "text/plain": [
       "<IPython.core.display.Markdown object>"
      ]
     },
     "metadata": {},
     "output_type": "display_data"
    },
    {
     "data": {
      "text/html": [
       "<div>\n",
       "<style scoped>\n",
       "    .dataframe tbody tr th:only-of-type {\n",
       "        vertical-align: middle;\n",
       "    }\n",
       "\n",
       "    .dataframe tbody tr th {\n",
       "        vertical-align: top;\n",
       "    }\n",
       "\n",
       "    .dataframe thead th {\n",
       "        text-align: right;\n",
       "    }\n",
       "</style>\n",
       "<table border=\"1\" class=\"dataframe\">\n",
       "  <thead>\n",
       "    <tr style=\"text-align: right;\">\n",
       "      <th></th>\n",
       "      <th>enunciado_latex</th>\n",
       "      <th>enunciado</th>\n",
       "      <th>solucion</th>\n",
       "      <th>texto</th>\n",
       "      <th>curso</th>\n",
       "      <th>titulo</th>\n",
       "      <th>n_ejercicio</th>\n",
       "    </tr>\n",
       "  </thead>\n",
       "  <tbody>\n",
       "    <tr>\n",
       "      <th>5</th>\n",
       "      <td>\\binom{252}{250}</td>\n",
       "      <td>binomial(252,250)</td>\n",
       "      <td>31626</td>\n",
       "      <td>Calcula las siguientes operaciones:</td>\n",
       "      <td>1BC</td>\n",
       "      <td>Números combinatorios. Binomio de Newton</td>\n",
       "      <td>p9e3</td>\n",
       "    </tr>\n",
       "    <tr>\n",
       "      <th>6</th>\n",
       "      <td>\\binom{25}{3} + \\binom{25}{4}</td>\n",
       "      <td>binomial(25,3) + binomial(25,4)</td>\n",
       "      <td>14950</td>\n",
       "      <td>Calcula las siguientes operaciones:</td>\n",
       "      <td>1BC</td>\n",
       "      <td>Números combinatorios. Binomio de Newton</td>\n",
       "      <td>p9e3</td>\n",
       "    </tr>\n",
       "    <tr>\n",
       "      <th>7</th>\n",
       "      <td>\\binom{9}{6} + \\binom{9}{7} + \\binom{10}{2}</td>\n",
       "      <td>binomial(9,6) + binomial(9,7) + binomial(10,2)</td>\n",
       "      <td>165</td>\n",
       "      <td>Calcula las siguientes operaciones:</td>\n",
       "      <td>1BC</td>\n",
       "      <td>Números combinatorios. Binomio de Newton</td>\n",
       "      <td>p9e3</td>\n",
       "    </tr>\n",
       "    <tr>\n",
       "      <th>8</th>\n",
       "      <td>\\binom{4}{2} + \\binom{4}{3} + \\binom{5}{4}+ \\b...</td>\n",
       "      <td>binomial(4,2) + binomial(4,3) + binomial(5,4)+...</td>\n",
       "      <td>36</td>\n",
       "      <td>Calcula las siguientes operaciones:</td>\n",
       "      <td>1BC</td>\n",
       "      <td>Números combinatorios. Binomio de Newton</td>\n",
       "      <td>p9e3</td>\n",
       "    </tr>\n",
       "    <tr>\n",
       "      <th>9</th>\n",
       "      <td>\\binom{4}{0} + \\binom{4}{1} + \\binom{4}{2}+\\bi...</td>\n",
       "      <td>binomial(4,0) + binomial(4,1) + binomial(4,2)+...</td>\n",
       "      <td>15</td>\n",
       "      <td>Calcula las siguientes operaciones:</td>\n",
       "      <td>1BC</td>\n",
       "      <td>Números combinatorios. Binomio de Newton</td>\n",
       "      <td>p9e3</td>\n",
       "    </tr>\n",
       "  </tbody>\n",
       "</table>\n",
       "</div>"
      ],
      "text/plain": [
       "                                     enunciado_latex  \\\n",
       "5                                   \\binom{252}{250}   \n",
       "6                      \\binom{25}{3} + \\binom{25}{4}   \n",
       "7        \\binom{9}{6} + \\binom{9}{7} + \\binom{10}{2}   \n",
       "8  \\binom{4}{2} + \\binom{4}{3} + \\binom{5}{4}+ \\b...   \n",
       "9  \\binom{4}{0} + \\binom{4}{1} + \\binom{4}{2}+\\bi...   \n",
       "\n",
       "                                           enunciado solucion  \\\n",
       "5                                  binomial(252,250)    31626   \n",
       "6                    binomial(25,3) + binomial(25,4)    14950   \n",
       "7     binomial(9,6) + binomial(9,7) + binomial(10,2)      165   \n",
       "8  binomial(4,2) + binomial(4,3) + binomial(5,4)+...       36   \n",
       "9  binomial(4,0) + binomial(4,1) + binomial(4,2)+...       15   \n",
       "\n",
       "                                 texto curso  \\\n",
       "5  Calcula las siguientes operaciones:   1BC   \n",
       "6  Calcula las siguientes operaciones:   1BC   \n",
       "7  Calcula las siguientes operaciones:   1BC   \n",
       "8  Calcula las siguientes operaciones:   1BC   \n",
       "9  Calcula las siguientes operaciones:   1BC   \n",
       "\n",
       "                                     titulo n_ejercicio  \n",
       "5  Números combinatorios. Binomio de Newton        p9e3  \n",
       "6  Números combinatorios. Binomio de Newton        p9e3  \n",
       "7  Números combinatorios. Binomio de Newton        p9e3  \n",
       "8  Números combinatorios. Binomio de Newton        p9e3  \n",
       "9  Números combinatorios. Binomio de Newton        p9e3  "
      ]
     },
     "metadata": {},
     "output_type": "display_data"
    },
    {
     "data": {
      "text/markdown": [
       "**Ejercicio: **p9e5"
      ],
      "text/plain": [
       "<IPython.core.display.Markdown object>"
      ]
     },
     "metadata": {},
     "output_type": "display_data"
    },
    {
     "data": {
      "text/html": [
       "<div>\n",
       "<style scoped>\n",
       "    .dataframe tbody tr th:only-of-type {\n",
       "        vertical-align: middle;\n",
       "    }\n",
       "\n",
       "    .dataframe tbody tr th {\n",
       "        vertical-align: top;\n",
       "    }\n",
       "\n",
       "    .dataframe thead th {\n",
       "        text-align: right;\n",
       "    }\n",
       "</style>\n",
       "<table border=\"1\" class=\"dataframe\">\n",
       "  <thead>\n",
       "    <tr style=\"text-align: right;\">\n",
       "      <th></th>\n",
       "      <th>enunciado_latex</th>\n",
       "      <th>enunciado</th>\n",
       "      <th>solucion</th>\n",
       "      <th>texto</th>\n",
       "      <th>curso</th>\n",
       "      <th>titulo</th>\n",
       "      <th>n_ejercicio</th>\n",
       "    </tr>\n",
       "  </thead>\n",
       "  <tbody>\n",
       "    <tr>\n",
       "      <th>10</th>\n",
       "      <td>NaN</td>\n",
       "      <td>NaN</td>\n",
       "      <td>62</td>\n",
       "      <td>Simplifica:</td>\n",
       "      <td>1BC</td>\n",
       "      <td>Números combinatorios. Binomio de Newton</td>\n",
       "      <td>p9e5</td>\n",
       "    </tr>\n",
       "    <tr>\n",
       "      <th>11</th>\n",
       "      <td>NaN</td>\n",
       "      <td>NaN</td>\n",
       "      <td>n^{2} + 4 n + 2</td>\n",
       "      <td>Simplifica:</td>\n",
       "      <td>1BC</td>\n",
       "      <td>Números combinatorios. Binomio de Newton</td>\n",
       "      <td>p9e5</td>\n",
       "    </tr>\n",
       "    <tr>\n",
       "      <th>12</th>\n",
       "      <td>NaN</td>\n",
       "      <td>NaN</td>\n",
       "      <td>\\frac{n \\left(n + 1\\right) \\left(n + 2\\right) ...</td>\n",
       "      <td>Simplifica:</td>\n",
       "      <td>1BC</td>\n",
       "      <td>Números combinatorios. Binomio de Newton</td>\n",
       "      <td>p9e5</td>\n",
       "    </tr>\n",
       "  </tbody>\n",
       "</table>\n",
       "</div>"
      ],
      "text/plain": [
       "   enunciado_latex enunciado  \\\n",
       "10             NaN       NaN   \n",
       "11             NaN       NaN   \n",
       "12             NaN       NaN   \n",
       "\n",
       "                                             solucion        texto curso  \\\n",
       "10                                                 62  Simplifica:   1BC   \n",
       "11                                    n^{2} + 4 n + 2  Simplifica:   1BC   \n",
       "12  \\frac{n \\left(n + 1\\right) \\left(n + 2\\right) ...  Simplifica:   1BC   \n",
       "\n",
       "                                      titulo n_ejercicio  \n",
       "10  Números combinatorios. Binomio de Newton        p9e5  \n",
       "11  Números combinatorios. Binomio de Newton        p9e5  \n",
       "12  Números combinatorios. Binomio de Newton        p9e5  "
      ]
     },
     "metadata": {},
     "output_type": "display_data"
    }
   ],
   "source": [
    "df_ejercicios.to_csv('ejercicios2.csv', index = False)\n",
    "df_ejercicios = pd.read_csv('ejercicios2.csv', index_col= None)\n",
    "escribir_preambulo(fichero, titulo)\n",
    "for s in df_ejercicios.groupby('n_ejercicio').count().index : \n",
    "    display(md(\"**Ejercicio: **\" + s ))\n",
    "    display(df_ejercicios[df_ejercicios.n_ejercicio == s])\n",
    "    escribir_ejercicios(df_ejercicios[df_ejercicios.n_ejercicio == s],fichero)\n",
    "\n",
    "escribir_fin(fichero)"
   ]
  }
 ],
 "metadata": {
  "kernelspec": {
   "display_name": "Python 3",
   "language": "python",
   "name": "python3"
  },
  "language_info": {
   "codemirror_mode": {
    "name": "ipython",
    "version": 3
   },
   "file_extension": ".py",
   "mimetype": "text/x-python",
   "name": "python",
   "nbconvert_exporter": "python",
   "pygments_lexer": "ipython3",
   "version": "3.6.5"
  }
 },
 "nbformat": 4,
 "nbformat_minor": 2
}
