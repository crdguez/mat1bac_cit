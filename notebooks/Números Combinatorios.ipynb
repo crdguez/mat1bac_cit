{
 "cells": [
  {
   "cell_type": "markdown",
   "metadata": {},
   "source": [
    "<a href=\"https://colab.research.google.com/github/crdguez/mat1bac_cit/blob/master/notebooks/Ejercicios1_3.ipynb\"><img align=\"left\" src=\"https://colab.research.google.com/assets/colab-badge.svg\" alt=\"Open in Colab\" title=\"Open and Execute in Google Colaboratory\"></a>"
   ]
  },
  {
   "cell_type": "code",
   "execution_count": 1,
   "metadata": {},
   "outputs": [
    {
     "name": "stdout",
     "output_type": "stream",
     "text": [
      "IPython console for SymPy 1.2 (Python 3.6.5-64-bit) (ground types: gmpy)\n",
      "\n",
      "These commands were executed:\n",
      ">>> from __future__ import division\n",
      ">>> from sympy import *\n",
      ">>> x, y, z, t = symbols('x y z t')\n",
      ">>> k, m, n = symbols('k m n', integer=True)\n",
      ">>> f, g, h = symbols('f g h', cls=Function)\n",
      ">>> init_printing()\n",
      "\n",
      "Documentation can be found at http://docs.sympy.org/1.2/\n",
      "\n"
     ]
    }
   ],
   "source": [
    "from sympy import init_session\n",
    "from sympy.parsing.latex import parse_latex\n",
    "from sympy.parsing.sympy_parser import parse_expr\n",
    "from sympy.functions.combinatorial.numbers import nC, nP, nT\n",
    "from IPython.display import Markdown as md\n",
    "from IPython.display import display\n",
    "import pandas as pd\n",
    "\n",
    "init_session()\n",
    "\n",
    "a, b, c, d = symbols('a b c d', real = True)\n",
    "from docparts import añadir_ejercicios, doc_ejer, escribir_preambulo, escribir_ejercicios, escribir_fin\n",
    "\n",
    "df_ejercicios = pd.DataFrame()\n",
    "\n",
    "fichero = 'ncombinatorios.tex'\n",
    "titulo = 'Números combinatorios. Binomio de Newton'\n",
    "curso = '1BC'\n"
   ]
  },
  {
   "cell_type": "code",
   "execution_count": 2,
   "metadata": {},
   "outputs": [
    {
     "data": {
      "text/markdown": [
       "**Simplifica los cocientes entre factoriales:**"
      ],
      "text/plain": [
       "<IPython.core.display.Markdown object>"
      ]
     },
     "metadata": {},
     "output_type": "display_data"
    },
    {
     "data": {
      "text/markdown": [
       "$\\frac{{7!}}{{6!}} \\rightarrow 7$"
      ],
      "text/plain": [
       "<IPython.core.display.Markdown object>"
      ]
     },
     "metadata": {},
     "output_type": "display_data"
    },
    {
     "data": {
      "text/markdown": [
       "$\\frac{{8!}}{{9!}} \\rightarrow \\frac{1}{9}$"
      ],
      "text/plain": [
       "<IPython.core.display.Markdown object>"
      ]
     },
     "metadata": {},
     "output_type": "display_data"
    },
    {
     "data": {
      "text/markdown": [
       "$\\frac{{9!}}{{5!\\cdot 4!}} \\rightarrow 126$"
      ],
      "text/plain": [
       "<IPython.core.display.Markdown object>"
      ]
     },
     "metadata": {},
     "output_type": "display_data"
    },
    {
     "data": {
      "text/markdown": [
       "$\\frac{{m!}}{{(m - 1)!}} \\rightarrow m$"
      ],
      "text/plain": [
       "<IPython.core.display.Markdown object>"
      ]
     },
     "metadata": {},
     "output_type": "display_data"
    },
    {
     "data": {
      "text/markdown": [
       "$\\frac{{( {m + 1} )!}}{{( {m - 1} )!}} \\rightarrow m \\left(m + 1\\right)$"
      ],
      "text/plain": [
       "<IPython.core.display.Markdown object>"
      ]
     },
     "metadata": {},
     "output_type": "display_data"
    }
   ],
   "source": [
    "# Página 9 ejercicio 2\n",
    "\n",
    "texto_ejercicio = 'Simplifica los cocientes entre factoriales:'\n",
    "n_ejercicio = 'p9e2'\n",
    "\n",
    "display(md(\"**\"+texto_ejercicio+\"**\"))\n",
    "\n",
    "enunciado_latex = [r'\\frac{{7!}}{{6!}}',\n",
    "                   r'\\frac{{8!}}{{9!}}',\n",
    "                   r'\\frac{{9!}}{{5!\\cdot 4!}}',\n",
    "                   r'\\frac{{m!}}{{(m - 1)!}}',\n",
    "                   r'\\frac{{( {m + 1} )!}}{{( {m - 1} )!}}'\n",
    "                  ]\n",
    "enunciado, solucion = [], []\n",
    "for s in enunciado_latex :\n",
    "    display(md(\"$\"+ s +\" \\\\rightarrow \" + latex(combsimp(parse_latex(s)))+\"$\"))\n",
    "    enunciado.append(parse_latex(s))\n",
    "    solucion.append(latex(combsimp(parse_latex(s)))) \n",
    "\n",
    "df_ejercicios = df_ejercicios.append(añadir_ejercicios(enunciado_latex, enunciado, solucion, texto_ejercicio, curso, titulo, n_ejercicio), ignore_index=True)\n"
   ]
  },
  {
   "cell_type": "code",
   "execution_count": 3,
   "metadata": {},
   "outputs": [
    {
     "data": {
      "text/markdown": [
       "**Calcula las siguientes operaciones:**"
      ],
      "text/plain": [
       "<IPython.core.display.Markdown object>"
      ]
     },
     "metadata": {},
     "output_type": "display_data"
    },
    {
     "data": {
      "text/markdown": [
       "$\\binom{252}{250} \\rightarrow 31626$"
      ],
      "text/plain": [
       "<IPython.core.display.Markdown object>"
      ]
     },
     "metadata": {},
     "output_type": "display_data"
    },
    {
     "data": {
      "text/markdown": [
       "$\\binom{25}{3} + \\binom{25}{4} \\rightarrow 14950$"
      ],
      "text/plain": [
       "<IPython.core.display.Markdown object>"
      ]
     },
     "metadata": {},
     "output_type": "display_data"
    },
    {
     "data": {
      "text/markdown": [
       "$\\binom{9}{6} + \\binom{9}{7} + \\binom{10}{2} \\rightarrow 165$"
      ],
      "text/plain": [
       "<IPython.core.display.Markdown object>"
      ]
     },
     "metadata": {},
     "output_type": "display_data"
    },
    {
     "data": {
      "text/markdown": [
       "$\\binom{4}{2} + \\binom{4}{3} + \\binom{5}{4}+ \\binom{6}{5} + \\binom{7}{6} + \\binom{8}{7} \\rightarrow 36$"
      ],
      "text/plain": [
       "<IPython.core.display.Markdown object>"
      ]
     },
     "metadata": {},
     "output_type": "display_data"
    },
    {
     "data": {
      "text/markdown": [
       "$\\binom{4}{0} + \\binom{4}{1} + \\binom{4}{2}+\\binom{4}{3} \\rightarrow 15$"
      ],
      "text/plain": [
       "<IPython.core.display.Markdown object>"
      ]
     },
     "metadata": {},
     "output_type": "display_data"
    }
   ],
   "source": [
    "# Página 9 ejercicio 3\n",
    "\n",
    "texto_ejercicio = 'Calcula las siguientes operaciones:'\n",
    "n_ejercicio = 'p9e3'\n",
    "\n",
    "display(md(\"**\"+texto_ejercicio+\"**\"))\n",
    "\n",
    "enunciado_latex = [r'\\binom{252}{250}',\n",
    "                   r'\\binom{25}{3} + \\binom{25}{4}',\n",
    "                   r'\\binom{9}{6} + \\binom{9}{7} + \\binom{10}{2}',\n",
    "                r'\\binom{4}{2} + \\binom{4}{3} + \\binom{5}{4}+ \\binom{6}{5} + \\binom{7}{6} + \\binom{8}{7}',\n",
    "                    r'\\binom{4}{0} + \\binom{4}{1} + \\binom{4}{2}+\\binom{4}{3}'\n",
    "                  ]\n",
    "enunciado = ['binomial(252,250)',\n",
    "                   'binomial(25,3) + binomial(25,4)',\n",
    "                   'binomial(9,6) + binomial(9,7) + binomial(10,2)',\n",
    "                'binomial(4,2) + binomial(4,3) + binomial(5,4)+ binomial(6,5) + binomial(7,6) + binomial(8,7)',\n",
    "                    'binomial(4,0) + binomial(4,1) + binomial(4,2)+binomial(4,3)'\n",
    "                  ]\n",
    "\n",
    "\n",
    "solucion = []\n",
    "for s in list(map(list, zip(*[enunciado_latex, enunciado]))) :\n",
    "    display(md(\"$\"+ s[0] +\" \\\\rightarrow \" + latex(combsimp(S(s[1])))+\"$\"))\n",
    "    solucion.append(latex(combsimp(S(s[1])))) \n",
    "\n",
    "df_ejercicios = df_ejercicios.append(añadir_ejercicios(enunciado_latex, enunciado, solucion, texto_ejercicio, curso, titulo, n_ejercicio), ignore_index=True)\n"
   ]
  },
  {
   "cell_type": "code",
   "execution_count": 4,
   "metadata": {},
   "outputs": [
    {
     "data": {
      "text/markdown": [
       "**Simplifica:**"
      ],
      "text/plain": [
       "<IPython.core.display.Markdown object>"
      ]
     },
     "metadata": {},
     "output_type": "display_data"
    },
    {
     "data": {
      "text/markdown": [
       "$\\frac{{6!}}{{5!}} + \\frac{{8!}}{{6!}} \\rightarrow 62$"
      ],
      "text/plain": [
       "<IPython.core.display.Markdown object>"
      ]
     },
     "metadata": {},
     "output_type": "display_data"
    },
    {
     "data": {
      "text/markdown": [
       "$\\frac{{n!}}{{(n - 1)!}} + \\frac{{(n + 2)!}}{{n!}} \\rightarrow n^{2} + 4 n + 2$"
      ],
      "text/plain": [
       "<IPython.core.display.Markdown object>"
      ]
     },
     "metadata": {},
     "output_type": "display_data"
    },
    {
     "data": {
      "text/markdown": [
       "$\\frac{\\binom{n+3}{n}+\\binom{n+2}{n}}{\\frac{n+6}{6}} \\rightarrow \\frac{n \\left(n + 1\\right) \\left(n + 2\\right) \\left(n + 6\\right)}{6 \\left(n^{2} + 6\\right)}$"
      ],
      "text/plain": [
       "<IPython.core.display.Markdown object>"
      ]
     },
     "metadata": {},
     "output_type": "display_data"
    }
   ],
   "source": [
    "### Página 9 ejercicio 5\n",
    "\n",
    "texto_ejercicio = 'Simplifica:'\n",
    "n_ejercicio = 'p9e5'\n",
    "\n",
    "display(md(\"**\"+texto_ejercicio+\"**\"))\n",
    "\n",
    "enunciado_latex = [r'\\frac{{6!}}{{5!}} + \\frac{{8!}}{{6!}}',\n",
    "                   r'\\frac{{n!}}{{(n - 1)!}} + \\frac{{(n + 2)!}}{{n!}}'\n",
    "                  ]\n",
    "enunciado, solucion = [], []\n",
    "for s in enunciado_latex :\n",
    "    display(md(\"$\"+ s +\" \\\\rightarrow \" + latex(combsimp(parse_latex(s)))+\"$\"))\n",
    "    enunciado.append(parse_latex(s))\n",
    "    solucion.append(latex(combsimp(parse_latex(s)))) \n",
    "    \n",
    "enunciado_latex.append(r'\\frac{\\binom{n+3}{n}+\\binom{n+2}{n}}{\\frac{n+6}{6}}')\n",
    "enunciado.append('(binomial(n+3,n)+binomial(n+2,n))/(n+6/n)')\n",
    "\n",
    "display(md(\"$\"+ r'\\frac{\\binom{n+3}{n}+\\binom{n+2}{n}}{\\frac{n+6}{6}}' +\" \\\\rightarrow \" + latex(combsimp(S('(binomial(n+3,n)+binomial(n+2,n))/(n+6/n)')))+\"$\"))\n",
    "solucion.append(latex(combsimp(S('(binomial(n+3,n)+binomial(n+2,n))/(n+6/n)'))))\n",
    "\n",
    "df_ejercicios = df_ejercicios.append(añadir_ejercicios(enunciado_latex, enunciado, solucion, texto_ejercicio, curso, titulo, n_ejercicio), ignore_index=True)\n"
   ]
  },
  {
   "cell_type": "code",
   "execution_count": 5,
   "metadata": {},
   "outputs": [
    {
     "data": {
      "text/markdown": [
       "**Realiza los desarrollos de los siguientes binomios:**"
      ],
      "text/plain": [
       "<IPython.core.display.Markdown object>"
      ]
     },
     "metadata": {},
     "output_type": "display_data"
    },
    {
     "data": {
      "text/markdown": [
       "$(2 + x)^4 \\rightarrow x^{4} + 8 x^{3} + 24 x^{2} + 32 x + 16$"
      ],
      "text/plain": [
       "<IPython.core.display.Markdown object>"
      ]
     },
     "metadata": {},
     "output_type": "display_data"
    },
    {
     "data": {
      "text/markdown": [
       "$( {1 + 2\\sqrt{ 2} })^3 \\rightarrow 25 + 22 \\sqrt{2}$"
      ],
      "text/plain": [
       "<IPython.core.display.Markdown object>"
      ]
     },
     "metadata": {},
     "output_type": "display_data"
    },
    {
     "data": {
      "text/markdown": [
       "$( {2 - 3\\sqrt{ 2} })^3 \\rightarrow - 90 \\sqrt{2} + 116$"
      ],
      "text/plain": [
       "<IPython.core.display.Markdown object>"
      ]
     },
     "metadata": {},
     "output_type": "display_data"
    },
    {
     "data": {
      "text/markdown": [
       "$( {\\frac{x}{2} + \\frac{2}{{{x^2}}}} )^5 \\rightarrow \\frac{x^{5}}{32} + \\frac{5 x^{2}}{8} + \\frac{5}{x} + \\frac{20}{x^{4}} + \\frac{40}{x^{7}} + \\frac{32}{x^{10}}$"
      ],
      "text/plain": [
       "<IPython.core.display.Markdown object>"
      ]
     },
     "metadata": {},
     "output_type": "display_data"
    },
    {
     "data": {
      "text/markdown": [
       "$( {\\frac{2}{\\sqrt {2} } + \\sqrt {2} } )^4 \\rightarrow 16 \\frac{\\sqrt{2}}{2} \\sqrt{2} + 48$"
      ],
      "text/plain": [
       "<IPython.core.display.Markdown object>"
      ]
     },
     "metadata": {},
     "output_type": "display_data"
    },
    {
     "data": {
      "text/markdown": [
       "$( {5\\sqrt {2} - 2\\sqrt {3} } )^4 \\rightarrow - 2480 \\sqrt{6} + 6244$"
      ],
      "text/plain": [
       "<IPython.core.display.Markdown object>"
      ]
     },
     "metadata": {},
     "output_type": "display_data"
    },
    {
     "data": {
      "text/markdown": [
       "$( {2{x^2} - \\frac{3}{x}} )^6 \\rightarrow 64 x^{12} - 576 x^{9} + 2160 x^{6} - 4320 x^{3} + 4860 - \\frac{2916}{x^{3}} + \\frac{729}{x^{6}}$"
      ],
      "text/plain": [
       "<IPython.core.display.Markdown object>"
      ]
     },
     "metadata": {},
     "output_type": "display_data"
    }
   ],
   "source": [
    "# Página 9 ejercicio 6\n",
    "\n",
    "texto_ejercicio = 'Realiza los desarrollos de los siguientes binomios:'\n",
    "n_ejercicio = 'p9e6'\n",
    "\n",
    "display(md(\"**\"+texto_ejercicio+\"**\"))\n",
    "\n",
    "enunciado_latex = [r'(2 + x)^4',\n",
    "                   r'( {1 + 2\\sqrt{ 2} })^3',\n",
    "                  r'( {2 - 3\\sqrt{ 2} })^3',\n",
    "                   r'( {\\frac{x}{2} + \\frac{2}{{{x^2}}}} )^5',\n",
    "                   r'( {\\frac{2}{\\sqrt {2} } + \\sqrt {2} } )^4',\n",
    "                   r'( {5\\sqrt {2} - 2\\sqrt {3} } )^4',\n",
    "                   r'( {2{x^2} - \\frac{3}{x}} )^6'\n",
    "                  ]\n",
    "enunciado, solucion = [], []\n",
    "for s in enunciado_latex :\n",
    "    display(md(\"$\"+ s +\" \\\\rightarrow \" + latex(expand(parse_latex(s)))+\"$\"))\n",
    "    enunciado.append(parse_latex(s))\n",
    "    solucion.append(latex(expand(parse_latex(s)))) \n",
    "\n",
    "df_ejercicios = df_ejercicios.append(añadir_ejercicios(enunciado_latex, enunciado, solucion, texto_ejercicio, curso, titulo, n_ejercicio), ignore_index=True)\n"
   ]
  },
  {
   "cell_type": "code",
   "execution_count": 6,
   "metadata": {},
   "outputs": [
    {
     "data": {
      "text/markdown": [
       "**Realiza los desarrollos de los siguientes binomios para identificar determinados términos y coeficientes:**"
      ],
      "text/plain": [
       "<IPython.core.display.Markdown object>"
      ]
     },
     "metadata": {},
     "output_type": "display_data"
    },
    {
     "data": {
      "text/markdown": [
       "$(2 + x)^8 \\rightarrow x^{8} + 16 x^{7} + 112 x^{6} + 448 x^{5} + 1120 x^{4} + 1792 x^{3} + 1792 x^{2} + 1024 x + 256$"
      ],
      "text/plain": [
       "<IPython.core.display.Markdown object>"
      ]
     },
     "metadata": {},
     "output_type": "display_data"
    },
    {
     "data": {
      "text/markdown": [
       "$( {\\frac{2}{5} + \\frac{3}{x}} )^8 \\rightarrow \\frac{256}{390625} + \\frac{3072}{78125 x} + \\frac{16128}{15625 x^{2}} + \\frac{48384}{3125 x^{3}} + \\frac{18144}{125 x^{4}} + \\frac{108864}{125 x^{5}} + \\frac{81648}{25 x^{6}} + \\frac{34992}{5 x^{7}} + \\frac{6561}{x^{8}}$"
      ],
      "text/plain": [
       "<IPython.core.display.Markdown object>"
      ]
     },
     "metadata": {},
     "output_type": "display_data"
    },
    {
     "data": {
      "text/markdown": [
       "$(2a^2b - 3 a^3)^7 \\rightarrow - 2187 a^{21} + 10206 a^{20} b - 20412 a^{19} b^{2} + 22680 a^{18} b^{3} - 15120 a^{17} b^{4} + 6048 a^{16} b^{5} - 1344 a^{15} b^{6} + 128 a^{14} b^{7}$"
      ],
      "text/plain": [
       "<IPython.core.display.Markdown object>"
      ]
     },
     "metadata": {},
     "output_type": "display_data"
    },
    {
     "data": {
      "text/markdown": [
       "$( {3x - \\frac{1}{x}})^7 \\rightarrow 2187 x^{7} - 5103 x^{5} + 5103 x^{3} - 2835 x + \\frac{945}{x} - \\frac{189}{x^{3}} + \\frac{21}{x^{5}} - \\frac{1}{x^{7}}$"
      ],
      "text/plain": [
       "<IPython.core.display.Markdown object>"
      ]
     },
     "metadata": {},
     "output_type": "display_data"
    },
    {
     "data": {
      "text/markdown": [
       "$( {{x^2} + \\frac{1}{x}})^{12} \\rightarrow x^{24} + 12 x^{21} + 66 x^{18} + 220 x^{15} + 495 x^{12} + 792 x^{9} + 924 x^{6} + 792 x^{3} + 495 + \\frac{220}{x^{3}} + \\frac{66}{x^{6}} + \\frac{12}{x^{9}} + \\frac{1}{x^{12}}$"
      ],
      "text/plain": [
       "<IPython.core.display.Markdown object>"
      ]
     },
     "metadata": {},
     "output_type": "display_data"
    },
    {
     "data": {
      "text/markdown": [
       "$( {2x - \\frac{1}{x}})^{18} \\rightarrow 262144 x^{18} - 2359296 x^{16} + 10027008 x^{14} - 26738688 x^{12} + 50135040 x^{10} - 70189056 x^{8} + 76038144 x^{6} - 65175552 x^{4} + 44808192 x^{2} - 24893440 + \\frac{11202048}{x^{2}} - \\frac{4073472}{x^{4}} + \\frac{1188096}{x^{6}} - \\frac{274176}{x^{8}} + \\frac{48960}{x^{10}} - \\frac{6528}{x^{12}} + \\frac{612}{x^{14}} - \\frac{36}{x^{16}} + \\frac{1}{x^{18}}$"
      ],
      "text/plain": [
       "<IPython.core.display.Markdown object>"
      ]
     },
     "metadata": {},
     "output_type": "display_data"
    },
    {
     "data": {
      "text/markdown": [
       "$( {{x^2} + \\frac{1}{x}} )^8 \\rightarrow x^{16} + 8 x^{13} + 28 x^{10} + 56 x^{7} + 70 x^{4} + 56 x + \\frac{28}{x^{2}} + \\frac{8}{x^{5}} + \\frac{1}{x^{8}}$"
      ],
      "text/plain": [
       "<IPython.core.display.Markdown object>"
      ]
     },
     "metadata": {},
     "output_type": "display_data"
    },
    {
     "data": {
      "text/markdown": [
       "$( {\\frac{2}{{\\sqrt {x} }} + 1})^{10} \\rightarrow 1 + \\frac{180}{x} + \\frac{3360}{x^{2}} + \\frac{13440}{x^{3}} + \\frac{11520}{x^{4}} + \\frac{1024}{x^{5}} + \\frac{20}{\\sqrt{x}} + \\frac{960}{x^{\\frac{3}{2}}} + \\frac{8064}{x^{\\frac{5}{2}}} + \\frac{15360}{x^{\\frac{7}{2}}} + \\frac{5120}{x^{\\frac{9}{2}}}$"
      ],
      "text/plain": [
       "<IPython.core.display.Markdown object>"
      ]
     },
     "metadata": {},
     "output_type": "display_data"
    },
    {
     "data": {
      "text/markdown": [
       "$( {\\frac{{{x^2}}}{2} - \\frac{3}{x}} )^6 \\rightarrow \\frac{x^{12}}{64} - \\frac{9 x^{9}}{16} + \\frac{135 x^{6}}{16} - \\frac{135 x^{3}}{2} + \\frac{1215}{4} - \\frac{729}{x^{3}} + \\frac{729}{x^{6}}$"
      ],
      "text/plain": [
       "<IPython.core.display.Markdown object>"
      ]
     },
     "metadata": {},
     "output_type": "display_data"
    },
    {
     "data": {
      "text/markdown": [
       "$( {\\frac{{{x^2}}}{2} - \\frac{3}{x}} )^8 \\rightarrow \\frac{x^{16}}{256} - \\frac{3 x^{13}}{16} + \\frac{63 x^{10}}{16} - \\frac{189 x^{7}}{4} + \\frac{2835 x^{4}}{8} - 1701 x + \\frac{5103}{x^{2}} - \\frac{8748}{x^{5}} + \\frac{6561}{x^{8}}$"
      ],
      "text/plain": [
       "<IPython.core.display.Markdown object>"
      ]
     },
     "metadata": {},
     "output_type": "display_data"
    }
   ],
   "source": [
    "# Página 9 ejercicio 7-13\n",
    "\n",
    "texto_ejercicio = 'Realiza los desarrollos de los siguientes binomios para identificar determinados términos y coeficientes:'\n",
    "n_ejercicio = 'p9e7-13'\n",
    "\n",
    "display(md(\"**\"+texto_ejercicio+\"**\"))\n",
    "\n",
    "enunciado_latex = [r'(2 + x)^8',\n",
    "                   r'( {\\frac{2}{5} + \\frac{3}{x}} )^8',\n",
    "                  r'(2a^2b - 3 a^3)^7',\n",
    "                   r'( {3x - \\frac{1}{x}})^7',\n",
    "                   r'( {{x^2} + \\frac{1}{x}})^{12}',\n",
    "                   r'( {2x - \\frac{1}{x}})^{18}',\n",
    "                   r'( {{x^2} + \\frac{1}{x}} )^8',\n",
    "                   r'( {\\frac{2}{{\\sqrt {x} }} + 1})^{10}',\n",
    "                   r'( {\\frac{{{x^2}}}{2} - \\frac{3}{x}} )^6',\n",
    "                   r'( {\\frac{{{x^2}}}{2} - \\frac{3}{x}} )^8'\n",
    "                  ]\n",
    "enunciado, solucion = [], []\n",
    "for s in enunciado_latex :\n",
    "    display(md(\"$\"+ s +\" \\\\rightarrow \" + latex(expand(parse_latex(s)))+\"$\"))\n",
    "    enunciado.append(parse_latex(s))\n",
    "    solucion.append(latex(expand(parse_latex(s)))) \n",
    "\n",
    "df_ejercicios = df_ejercicios.append(añadir_ejercicios(enunciado_latex, enunciado, solucion, texto_ejercicio, curso, titulo, n_ejercicio), ignore_index=True)\n"
   ]
  },
  {
   "cell_type": "code",
   "execution_count": 7,
   "metadata": {},
   "outputs": [
    {
     "data": {
      "text/markdown": [
       "**Ejercicio: **p9e2"
      ],
      "text/plain": [
       "<IPython.core.display.Markdown object>"
      ]
     },
     "metadata": {},
     "output_type": "display_data"
    },
    {
     "data": {
      "text/html": [
       "<div>\n",
       "<style scoped>\n",
       "    .dataframe tbody tr th:only-of-type {\n",
       "        vertical-align: middle;\n",
       "    }\n",
       "\n",
       "    .dataframe tbody tr th {\n",
       "        vertical-align: top;\n",
       "    }\n",
       "\n",
       "    .dataframe thead th {\n",
       "        text-align: right;\n",
       "    }\n",
       "</style>\n",
       "<table border=\"1\" class=\"dataframe\">\n",
       "  <thead>\n",
       "    <tr style=\"text-align: right;\">\n",
       "      <th></th>\n",
       "      <th>enunciado_latex</th>\n",
       "      <th>enunciado</th>\n",
       "      <th>solucion</th>\n",
       "      <th>texto</th>\n",
       "      <th>curso</th>\n",
       "      <th>titulo</th>\n",
       "      <th>n_ejercicio</th>\n",
       "    </tr>\n",
       "  </thead>\n",
       "  <tbody>\n",
       "    <tr>\n",
       "      <th>0</th>\n",
       "      <td>\\frac{{7!}}{{6!}}</td>\n",
       "      <td>factorial(7)/factorial(6)</td>\n",
       "      <td>7</td>\n",
       "      <td>Simplifica los cocientes entre factoriales:</td>\n",
       "      <td>1BC</td>\n",
       "      <td>Números combinatorios. Binomio de Newton</td>\n",
       "      <td>p9e2</td>\n",
       "    </tr>\n",
       "    <tr>\n",
       "      <th>1</th>\n",
       "      <td>\\frac{{8!}}{{9!}}</td>\n",
       "      <td>factorial(8)/factorial(9)</td>\n",
       "      <td>\\frac{1}{9}</td>\n",
       "      <td>Simplifica los cocientes entre factoriales:</td>\n",
       "      <td>1BC</td>\n",
       "      <td>Números combinatorios. Binomio de Newton</td>\n",
       "      <td>p9e2</td>\n",
       "    </tr>\n",
       "    <tr>\n",
       "      <th>2</th>\n",
       "      <td>\\frac{{9!}}{{5!\\cdot 4!}}</td>\n",
       "      <td>factorial(9)/((factorial(4)*factorial(5)))</td>\n",
       "      <td>126</td>\n",
       "      <td>Simplifica los cocientes entre factoriales:</td>\n",
       "      <td>1BC</td>\n",
       "      <td>Números combinatorios. Binomio de Newton</td>\n",
       "      <td>p9e2</td>\n",
       "    </tr>\n",
       "    <tr>\n",
       "      <th>3</th>\n",
       "      <td>\\frac{{m!}}{{(m - 1)!}}</td>\n",
       "      <td>factorial(m)/factorial(m - 1)</td>\n",
       "      <td>m</td>\n",
       "      <td>Simplifica los cocientes entre factoriales:</td>\n",
       "      <td>1BC</td>\n",
       "      <td>Números combinatorios. Binomio de Newton</td>\n",
       "      <td>p9e2</td>\n",
       "    </tr>\n",
       "    <tr>\n",
       "      <th>4</th>\n",
       "      <td>\\frac{{( {m + 1} )!}}{{( {m - 1} )!}}</td>\n",
       "      <td>factorial(m + 1)/factorial(m - 1)</td>\n",
       "      <td>m \\left(m + 1\\right)</td>\n",
       "      <td>Simplifica los cocientes entre factoriales:</td>\n",
       "      <td>1BC</td>\n",
       "      <td>Números combinatorios. Binomio de Newton</td>\n",
       "      <td>p9e2</td>\n",
       "    </tr>\n",
       "  </tbody>\n",
       "</table>\n",
       "</div>"
      ],
      "text/plain": [
       "                         enunciado_latex  \\\n",
       "0                      \\frac{{7!}}{{6!}}   \n",
       "1                      \\frac{{8!}}{{9!}}   \n",
       "2              \\frac{{9!}}{{5!\\cdot 4!}}   \n",
       "3                \\frac{{m!}}{{(m - 1)!}}   \n",
       "4  \\frac{{( {m + 1} )!}}{{( {m - 1} )!}}   \n",
       "\n",
       "                                    enunciado              solucion  \\\n",
       "0                   factorial(7)/factorial(6)                     7   \n",
       "1                   factorial(8)/factorial(9)           \\frac{1}{9}   \n",
       "2  factorial(9)/((factorial(4)*factorial(5)))                   126   \n",
       "3               factorial(m)/factorial(m - 1)                     m   \n",
       "4           factorial(m + 1)/factorial(m - 1)  m \\left(m + 1\\right)   \n",
       "\n",
       "                                         texto curso  \\\n",
       "0  Simplifica los cocientes entre factoriales:   1BC   \n",
       "1  Simplifica los cocientes entre factoriales:   1BC   \n",
       "2  Simplifica los cocientes entre factoriales:   1BC   \n",
       "3  Simplifica los cocientes entre factoriales:   1BC   \n",
       "4  Simplifica los cocientes entre factoriales:   1BC   \n",
       "\n",
       "                                     titulo n_ejercicio  \n",
       "0  Números combinatorios. Binomio de Newton        p9e2  \n",
       "1  Números combinatorios. Binomio de Newton        p9e2  \n",
       "2  Números combinatorios. Binomio de Newton        p9e2  \n",
       "3  Números combinatorios. Binomio de Newton        p9e2  \n",
       "4  Números combinatorios. Binomio de Newton        p9e2  "
      ]
     },
     "metadata": {},
     "output_type": "display_data"
    },
    {
     "data": {
      "text/markdown": [
       "**Ejercicio: **p9e3"
      ],
      "text/plain": [
       "<IPython.core.display.Markdown object>"
      ]
     },
     "metadata": {},
     "output_type": "display_data"
    },
    {
     "data": {
      "text/html": [
       "<div>\n",
       "<style scoped>\n",
       "    .dataframe tbody tr th:only-of-type {\n",
       "        vertical-align: middle;\n",
       "    }\n",
       "\n",
       "    .dataframe tbody tr th {\n",
       "        vertical-align: top;\n",
       "    }\n",
       "\n",
       "    .dataframe thead th {\n",
       "        text-align: right;\n",
       "    }\n",
       "</style>\n",
       "<table border=\"1\" class=\"dataframe\">\n",
       "  <thead>\n",
       "    <tr style=\"text-align: right;\">\n",
       "      <th></th>\n",
       "      <th>enunciado_latex</th>\n",
       "      <th>enunciado</th>\n",
       "      <th>solucion</th>\n",
       "      <th>texto</th>\n",
       "      <th>curso</th>\n",
       "      <th>titulo</th>\n",
       "      <th>n_ejercicio</th>\n",
       "    </tr>\n",
       "  </thead>\n",
       "  <tbody>\n",
       "    <tr>\n",
       "      <th>5</th>\n",
       "      <td>\\binom{252}{250}</td>\n",
       "      <td>binomial(252,250)</td>\n",
       "      <td>31626</td>\n",
       "      <td>Calcula las siguientes operaciones:</td>\n",
       "      <td>1BC</td>\n",
       "      <td>Números combinatorios. Binomio de Newton</td>\n",
       "      <td>p9e3</td>\n",
       "    </tr>\n",
       "    <tr>\n",
       "      <th>6</th>\n",
       "      <td>\\binom{25}{3} + \\binom{25}{4}</td>\n",
       "      <td>binomial(25,3) + binomial(25,4)</td>\n",
       "      <td>14950</td>\n",
       "      <td>Calcula las siguientes operaciones:</td>\n",
       "      <td>1BC</td>\n",
       "      <td>Números combinatorios. Binomio de Newton</td>\n",
       "      <td>p9e3</td>\n",
       "    </tr>\n",
       "    <tr>\n",
       "      <th>7</th>\n",
       "      <td>\\binom{9}{6} + \\binom{9}{7} + \\binom{10}{2}</td>\n",
       "      <td>binomial(9,6) + binomial(9,7) + binomial(10,2)</td>\n",
       "      <td>165</td>\n",
       "      <td>Calcula las siguientes operaciones:</td>\n",
       "      <td>1BC</td>\n",
       "      <td>Números combinatorios. Binomio de Newton</td>\n",
       "      <td>p9e3</td>\n",
       "    </tr>\n",
       "    <tr>\n",
       "      <th>8</th>\n",
       "      <td>\\binom{4}{2} + \\binom{4}{3} + \\binom{5}{4}+ \\b...</td>\n",
       "      <td>binomial(4,2) + binomial(4,3) + binomial(5,4)+...</td>\n",
       "      <td>36</td>\n",
       "      <td>Calcula las siguientes operaciones:</td>\n",
       "      <td>1BC</td>\n",
       "      <td>Números combinatorios. Binomio de Newton</td>\n",
       "      <td>p9e3</td>\n",
       "    </tr>\n",
       "    <tr>\n",
       "      <th>9</th>\n",
       "      <td>\\binom{4}{0} + \\binom{4}{1} + \\binom{4}{2}+\\bi...</td>\n",
       "      <td>binomial(4,0) + binomial(4,1) + binomial(4,2)+...</td>\n",
       "      <td>15</td>\n",
       "      <td>Calcula las siguientes operaciones:</td>\n",
       "      <td>1BC</td>\n",
       "      <td>Números combinatorios. Binomio de Newton</td>\n",
       "      <td>p9e3</td>\n",
       "    </tr>\n",
       "  </tbody>\n",
       "</table>\n",
       "</div>"
      ],
      "text/plain": [
       "                                     enunciado_latex  \\\n",
       "5                                   \\binom{252}{250}   \n",
       "6                      \\binom{25}{3} + \\binom{25}{4}   \n",
       "7        \\binom{9}{6} + \\binom{9}{7} + \\binom{10}{2}   \n",
       "8  \\binom{4}{2} + \\binom{4}{3} + \\binom{5}{4}+ \\b...   \n",
       "9  \\binom{4}{0} + \\binom{4}{1} + \\binom{4}{2}+\\bi...   \n",
       "\n",
       "                                           enunciado solucion  \\\n",
       "5                                  binomial(252,250)    31626   \n",
       "6                    binomial(25,3) + binomial(25,4)    14950   \n",
       "7     binomial(9,6) + binomial(9,7) + binomial(10,2)      165   \n",
       "8  binomial(4,2) + binomial(4,3) + binomial(5,4)+...       36   \n",
       "9  binomial(4,0) + binomial(4,1) + binomial(4,2)+...       15   \n",
       "\n",
       "                                 texto curso  \\\n",
       "5  Calcula las siguientes operaciones:   1BC   \n",
       "6  Calcula las siguientes operaciones:   1BC   \n",
       "7  Calcula las siguientes operaciones:   1BC   \n",
       "8  Calcula las siguientes operaciones:   1BC   \n",
       "9  Calcula las siguientes operaciones:   1BC   \n",
       "\n",
       "                                     titulo n_ejercicio  \n",
       "5  Números combinatorios. Binomio de Newton        p9e3  \n",
       "6  Números combinatorios. Binomio de Newton        p9e3  \n",
       "7  Números combinatorios. Binomio de Newton        p9e3  \n",
       "8  Números combinatorios. Binomio de Newton        p9e3  \n",
       "9  Números combinatorios. Binomio de Newton        p9e3  "
      ]
     },
     "metadata": {},
     "output_type": "display_data"
    },
    {
     "data": {
      "text/markdown": [
       "**Ejercicio: **p9e5"
      ],
      "text/plain": [
       "<IPython.core.display.Markdown object>"
      ]
     },
     "metadata": {},
     "output_type": "display_data"
    },
    {
     "data": {
      "text/html": [
       "<div>\n",
       "<style scoped>\n",
       "    .dataframe tbody tr th:only-of-type {\n",
       "        vertical-align: middle;\n",
       "    }\n",
       "\n",
       "    .dataframe tbody tr th {\n",
       "        vertical-align: top;\n",
       "    }\n",
       "\n",
       "    .dataframe thead th {\n",
       "        text-align: right;\n",
       "    }\n",
       "</style>\n",
       "<table border=\"1\" class=\"dataframe\">\n",
       "  <thead>\n",
       "    <tr style=\"text-align: right;\">\n",
       "      <th></th>\n",
       "      <th>enunciado_latex</th>\n",
       "      <th>enunciado</th>\n",
       "      <th>solucion</th>\n",
       "      <th>texto</th>\n",
       "      <th>curso</th>\n",
       "      <th>titulo</th>\n",
       "      <th>n_ejercicio</th>\n",
       "    </tr>\n",
       "  </thead>\n",
       "  <tbody>\n",
       "    <tr>\n",
       "      <th>10</th>\n",
       "      <td>\\frac{{6!}}{{5!}} + \\frac{{8!}}{{6!}}</td>\n",
       "      <td>factorial(6)/factorial(5) + factorial(8)/facto...</td>\n",
       "      <td>62</td>\n",
       "      <td>Simplifica:</td>\n",
       "      <td>1BC</td>\n",
       "      <td>Números combinatorios. Binomio de Newton</td>\n",
       "      <td>p9e5</td>\n",
       "    </tr>\n",
       "    <tr>\n",
       "      <th>11</th>\n",
       "      <td>\\frac{{n!}}{{(n - 1)!}} + \\frac{{(n + 2)!}}{{n!}}</td>\n",
       "      <td>factorial(n)/factorial(n - 1) + factorial(n + ...</td>\n",
       "      <td>n^{2} + 4 n + 2</td>\n",
       "      <td>Simplifica:</td>\n",
       "      <td>1BC</td>\n",
       "      <td>Números combinatorios. Binomio de Newton</td>\n",
       "      <td>p9e5</td>\n",
       "    </tr>\n",
       "    <tr>\n",
       "      <th>12</th>\n",
       "      <td>\\frac{\\binom{n+3}{n}+\\binom{n+2}{n}}{\\frac{n+6...</td>\n",
       "      <td>(binomial(n+3,n)+binomial(n+2,n))/(n+6/n)</td>\n",
       "      <td>\\frac{n \\left(n + 1\\right) \\left(n + 2\\right) ...</td>\n",
       "      <td>Simplifica:</td>\n",
       "      <td>1BC</td>\n",
       "      <td>Números combinatorios. Binomio de Newton</td>\n",
       "      <td>p9e5</td>\n",
       "    </tr>\n",
       "  </tbody>\n",
       "</table>\n",
       "</div>"
      ],
      "text/plain": [
       "                                      enunciado_latex  \\\n",
       "10              \\frac{{6!}}{{5!}} + \\frac{{8!}}{{6!}}   \n",
       "11  \\frac{{n!}}{{(n - 1)!}} + \\frac{{(n + 2)!}}{{n!}}   \n",
       "12  \\frac{\\binom{n+3}{n}+\\binom{n+2}{n}}{\\frac{n+6...   \n",
       "\n",
       "                                            enunciado  \\\n",
       "10  factorial(6)/factorial(5) + factorial(8)/facto...   \n",
       "11  factorial(n)/factorial(n - 1) + factorial(n + ...   \n",
       "12          (binomial(n+3,n)+binomial(n+2,n))/(n+6/n)   \n",
       "\n",
       "                                             solucion        texto curso  \\\n",
       "10                                                 62  Simplifica:   1BC   \n",
       "11                                    n^{2} + 4 n + 2  Simplifica:   1BC   \n",
       "12  \\frac{n \\left(n + 1\\right) \\left(n + 2\\right) ...  Simplifica:   1BC   \n",
       "\n",
       "                                      titulo n_ejercicio  \n",
       "10  Números combinatorios. Binomio de Newton        p9e5  \n",
       "11  Números combinatorios. Binomio de Newton        p9e5  \n",
       "12  Números combinatorios. Binomio de Newton        p9e5  "
      ]
     },
     "metadata": {},
     "output_type": "display_data"
    },
    {
     "data": {
      "text/markdown": [
       "**Ejercicio: **p9e6"
      ],
      "text/plain": [
       "<IPython.core.display.Markdown object>"
      ]
     },
     "metadata": {},
     "output_type": "display_data"
    },
    {
     "data": {
      "text/html": [
       "<div>\n",
       "<style scoped>\n",
       "    .dataframe tbody tr th:only-of-type {\n",
       "        vertical-align: middle;\n",
       "    }\n",
       "\n",
       "    .dataframe tbody tr th {\n",
       "        vertical-align: top;\n",
       "    }\n",
       "\n",
       "    .dataframe thead th {\n",
       "        text-align: right;\n",
       "    }\n",
       "</style>\n",
       "<table border=\"1\" class=\"dataframe\">\n",
       "  <thead>\n",
       "    <tr style=\"text-align: right;\">\n",
       "      <th></th>\n",
       "      <th>enunciado_latex</th>\n",
       "      <th>enunciado</th>\n",
       "      <th>solucion</th>\n",
       "      <th>texto</th>\n",
       "      <th>curso</th>\n",
       "      <th>titulo</th>\n",
       "      <th>n_ejercicio</th>\n",
       "    </tr>\n",
       "  </thead>\n",
       "  <tbody>\n",
       "    <tr>\n",
       "      <th>13</th>\n",
       "      <td>(2 + x)^4</td>\n",
       "      <td>(x + 2)**4</td>\n",
       "      <td>x^{4} + 8 x^{3} + 24 x^{2} + 32 x + 16</td>\n",
       "      <td>Realiza los desarrollos de los siguientes bino...</td>\n",
       "      <td>1BC</td>\n",
       "      <td>Números combinatorios. Binomio de Newton</td>\n",
       "      <td>p9e6</td>\n",
       "    </tr>\n",
       "    <tr>\n",
       "      <th>14</th>\n",
       "      <td>( {1 + 2\\sqrt{ 2} })^3</td>\n",
       "      <td>(1 + 2*sqrt(2))**3</td>\n",
       "      <td>25 + 22 \\sqrt{2}</td>\n",
       "      <td>Realiza los desarrollos de los siguientes bino...</td>\n",
       "      <td>1BC</td>\n",
       "      <td>Números combinatorios. Binomio de Newton</td>\n",
       "      <td>p9e6</td>\n",
       "    </tr>\n",
       "    <tr>\n",
       "      <th>15</th>\n",
       "      <td>( {2 - 3\\sqrt{ 2} })^3</td>\n",
       "      <td>(-3*sqrt(2) + 2)**3</td>\n",
       "      <td>- 90 \\sqrt{2} + 116</td>\n",
       "      <td>Realiza los desarrollos de los siguientes bino...</td>\n",
       "      <td>1BC</td>\n",
       "      <td>Números combinatorios. Binomio de Newton</td>\n",
       "      <td>p9e6</td>\n",
       "    </tr>\n",
       "    <tr>\n",
       "      <th>16</th>\n",
       "      <td>( {\\frac{x}{2} + \\frac{2}{{{x^2}}}} )^5</td>\n",
       "      <td>(x/2 + 2/x**2)**5</td>\n",
       "      <td>\\frac{x^{5}}{32} + \\frac{5 x^{2}}{8} + \\frac{5...</td>\n",
       "      <td>Realiza los desarrollos de los siguientes bino...</td>\n",
       "      <td>1BC</td>\n",
       "      <td>Números combinatorios. Binomio de Newton</td>\n",
       "      <td>p9e6</td>\n",
       "    </tr>\n",
       "    <tr>\n",
       "      <th>17</th>\n",
       "      <td>( {\\frac{2}{\\sqrt {2} } + \\sqrt {2} } )^4</td>\n",
       "      <td>(2/sqrt(2) + sqrt(2))**4</td>\n",
       "      <td>16 \\frac{\\sqrt{2}}{2} \\sqrt{2} + 48</td>\n",
       "      <td>Realiza los desarrollos de los siguientes bino...</td>\n",
       "      <td>1BC</td>\n",
       "      <td>Números combinatorios. Binomio de Newton</td>\n",
       "      <td>p9e6</td>\n",
       "    </tr>\n",
       "    <tr>\n",
       "      <th>18</th>\n",
       "      <td>( {5\\sqrt {2} - 2\\sqrt {3} } )^4</td>\n",
       "      <td>(-2*sqrt(3) + 5*sqrt(2))**4</td>\n",
       "      <td>- 2480 \\sqrt{6} + 6244</td>\n",
       "      <td>Realiza los desarrollos de los siguientes bino...</td>\n",
       "      <td>1BC</td>\n",
       "      <td>Números combinatorios. Binomio de Newton</td>\n",
       "      <td>p9e6</td>\n",
       "    </tr>\n",
       "    <tr>\n",
       "      <th>19</th>\n",
       "      <td>( {2{x^2} - \\frac{3}{x}} )^6</td>\n",
       "      <td>(2*x**2 - 3/x)**6</td>\n",
       "      <td>64 x^{12} - 576 x^{9} + 2160 x^{6} - 4320 x^{3...</td>\n",
       "      <td>Realiza los desarrollos de los siguientes bino...</td>\n",
       "      <td>1BC</td>\n",
       "      <td>Números combinatorios. Binomio de Newton</td>\n",
       "      <td>p9e6</td>\n",
       "    </tr>\n",
       "  </tbody>\n",
       "</table>\n",
       "</div>"
      ],
      "text/plain": [
       "                              enunciado_latex                    enunciado  \\\n",
       "13                                  (2 + x)^4                   (x + 2)**4   \n",
       "14                     ( {1 + 2\\sqrt{ 2} })^3           (1 + 2*sqrt(2))**3   \n",
       "15                     ( {2 - 3\\sqrt{ 2} })^3          (-3*sqrt(2) + 2)**3   \n",
       "16    ( {\\frac{x}{2} + \\frac{2}{{{x^2}}}} )^5            (x/2 + 2/x**2)**5   \n",
       "17  ( {\\frac{2}{\\sqrt {2} } + \\sqrt {2} } )^4     (2/sqrt(2) + sqrt(2))**4   \n",
       "18           ( {5\\sqrt {2} - 2\\sqrt {3} } )^4  (-2*sqrt(3) + 5*sqrt(2))**4   \n",
       "19               ( {2{x^2} - \\frac{3}{x}} )^6            (2*x**2 - 3/x)**6   \n",
       "\n",
       "                                             solucion  \\\n",
       "13             x^{4} + 8 x^{3} + 24 x^{2} + 32 x + 16   \n",
       "14                                   25 + 22 \\sqrt{2}   \n",
       "15                                - 90 \\sqrt{2} + 116   \n",
       "16  \\frac{x^{5}}{32} + \\frac{5 x^{2}}{8} + \\frac{5...   \n",
       "17                16 \\frac{\\sqrt{2}}{2} \\sqrt{2} + 48   \n",
       "18                             - 2480 \\sqrt{6} + 6244   \n",
       "19  64 x^{12} - 576 x^{9} + 2160 x^{6} - 4320 x^{3...   \n",
       "\n",
       "                                                texto curso  \\\n",
       "13  Realiza los desarrollos de los siguientes bino...   1BC   \n",
       "14  Realiza los desarrollos de los siguientes bino...   1BC   \n",
       "15  Realiza los desarrollos de los siguientes bino...   1BC   \n",
       "16  Realiza los desarrollos de los siguientes bino...   1BC   \n",
       "17  Realiza los desarrollos de los siguientes bino...   1BC   \n",
       "18  Realiza los desarrollos de los siguientes bino...   1BC   \n",
       "19  Realiza los desarrollos de los siguientes bino...   1BC   \n",
       "\n",
       "                                      titulo n_ejercicio  \n",
       "13  Números combinatorios. Binomio de Newton        p9e6  \n",
       "14  Números combinatorios. Binomio de Newton        p9e6  \n",
       "15  Números combinatorios. Binomio de Newton        p9e6  \n",
       "16  Números combinatorios. Binomio de Newton        p9e6  \n",
       "17  Números combinatorios. Binomio de Newton        p9e6  \n",
       "18  Números combinatorios. Binomio de Newton        p9e6  \n",
       "19  Números combinatorios. Binomio de Newton        p9e6  "
      ]
     },
     "metadata": {},
     "output_type": "display_data"
    },
    {
     "data": {
      "text/markdown": [
       "**Ejercicio: **p9e7-13"
      ],
      "text/plain": [
       "<IPython.core.display.Markdown object>"
      ]
     },
     "metadata": {},
     "output_type": "display_data"
    },
    {
     "data": {
      "text/html": [
       "<div>\n",
       "<style scoped>\n",
       "    .dataframe tbody tr th:only-of-type {\n",
       "        vertical-align: middle;\n",
       "    }\n",
       "\n",
       "    .dataframe tbody tr th {\n",
       "        vertical-align: top;\n",
       "    }\n",
       "\n",
       "    .dataframe thead th {\n",
       "        text-align: right;\n",
       "    }\n",
       "</style>\n",
       "<table border=\"1\" class=\"dataframe\">\n",
       "  <thead>\n",
       "    <tr style=\"text-align: right;\">\n",
       "      <th></th>\n",
       "      <th>enunciado_latex</th>\n",
       "      <th>enunciado</th>\n",
       "      <th>solucion</th>\n",
       "      <th>texto</th>\n",
       "      <th>curso</th>\n",
       "      <th>titulo</th>\n",
       "      <th>n_ejercicio</th>\n",
       "    </tr>\n",
       "  </thead>\n",
       "  <tbody>\n",
       "    <tr>\n",
       "      <th>20</th>\n",
       "      <td>(2 + x)^8</td>\n",
       "      <td>(x + 2)**8</td>\n",
       "      <td>x^{8} + 16 x^{7} + 112 x^{6} + 448 x^{5} + 112...</td>\n",
       "      <td>Realiza los desarrollos de los siguientes bino...</td>\n",
       "      <td>1BC</td>\n",
       "      <td>Números combinatorios. Binomio de Newton</td>\n",
       "      <td>p9e7-13</td>\n",
       "    </tr>\n",
       "    <tr>\n",
       "      <th>21</th>\n",
       "      <td>( {\\frac{2}{5} + \\frac{3}{x}} )^8</td>\n",
       "      <td>(2/5 + 3/x)**8</td>\n",
       "      <td>\\frac{256}{390625} + \\frac{3072}{78125 x} + \\f...</td>\n",
       "      <td>Realiza los desarrollos de los siguientes bino...</td>\n",
       "      <td>1BC</td>\n",
       "      <td>Números combinatorios. Binomio de Newton</td>\n",
       "      <td>p9e7-13</td>\n",
       "    </tr>\n",
       "    <tr>\n",
       "      <th>22</th>\n",
       "      <td>(2a^2b - 3 a^3)^7</td>\n",
       "      <td>(-3*a**3 + 2*(a**2*b))**7</td>\n",
       "      <td>- 2187 a^{21} + 10206 a^{20} b - 20412 a^{19} ...</td>\n",
       "      <td>Realiza los desarrollos de los siguientes bino...</td>\n",
       "      <td>1BC</td>\n",
       "      <td>Números combinatorios. Binomio de Newton</td>\n",
       "      <td>p9e7-13</td>\n",
       "    </tr>\n",
       "    <tr>\n",
       "      <th>23</th>\n",
       "      <td>( {3x - \\frac{1}{x}})^7</td>\n",
       "      <td>(3*x - 1/x)**7</td>\n",
       "      <td>2187 x^{7} - 5103 x^{5} + 5103 x^{3} - 2835 x ...</td>\n",
       "      <td>Realiza los desarrollos de los siguientes bino...</td>\n",
       "      <td>1BC</td>\n",
       "      <td>Números combinatorios. Binomio de Newton</td>\n",
       "      <td>p9e7-13</td>\n",
       "    </tr>\n",
       "    <tr>\n",
       "      <th>24</th>\n",
       "      <td>( {{x^2} + \\frac{1}{x}})^{12}</td>\n",
       "      <td>(x**2 + 1/x)**12</td>\n",
       "      <td>x^{24} + 12 x^{21} + 66 x^{18} + 220 x^{15} + ...</td>\n",
       "      <td>Realiza los desarrollos de los siguientes bino...</td>\n",
       "      <td>1BC</td>\n",
       "      <td>Números combinatorios. Binomio de Newton</td>\n",
       "      <td>p9e7-13</td>\n",
       "    </tr>\n",
       "    <tr>\n",
       "      <th>25</th>\n",
       "      <td>( {2x - \\frac{1}{x}})^{18}</td>\n",
       "      <td>(2*x - 1/x)**18</td>\n",
       "      <td>262144 x^{18} - 2359296 x^{16} + 10027008 x^{1...</td>\n",
       "      <td>Realiza los desarrollos de los siguientes bino...</td>\n",
       "      <td>1BC</td>\n",
       "      <td>Números combinatorios. Binomio de Newton</td>\n",
       "      <td>p9e7-13</td>\n",
       "    </tr>\n",
       "    <tr>\n",
       "      <th>26</th>\n",
       "      <td>( {{x^2} + \\frac{1}{x}} )^8</td>\n",
       "      <td>(x**2 + 1/x)**8</td>\n",
       "      <td>x^{16} + 8 x^{13} + 28 x^{10} + 56 x^{7} + 70 ...</td>\n",
       "      <td>Realiza los desarrollos de los siguientes bino...</td>\n",
       "      <td>1BC</td>\n",
       "      <td>Números combinatorios. Binomio de Newton</td>\n",
       "      <td>p9e7-13</td>\n",
       "    </tr>\n",
       "    <tr>\n",
       "      <th>27</th>\n",
       "      <td>( {\\frac{2}{{\\sqrt {x} }} + 1})^{10}</td>\n",
       "      <td>(1 + 2/sqrt(x))**10</td>\n",
       "      <td>1 + \\frac{180}{x} + \\frac{3360}{x^{2}} + \\frac...</td>\n",
       "      <td>Realiza los desarrollos de los siguientes bino...</td>\n",
       "      <td>1BC</td>\n",
       "      <td>Números combinatorios. Binomio de Newton</td>\n",
       "      <td>p9e7-13</td>\n",
       "    </tr>\n",
       "    <tr>\n",
       "      <th>28</th>\n",
       "      <td>( {\\frac{{{x^2}}}{2} - \\frac{3}{x}} )^6</td>\n",
       "      <td>(x**2/2 - 3/x)**6</td>\n",
       "      <td>\\frac{x^{12}}{64} - \\frac{9 x^{9}}{16} + \\frac...</td>\n",
       "      <td>Realiza los desarrollos de los siguientes bino...</td>\n",
       "      <td>1BC</td>\n",
       "      <td>Números combinatorios. Binomio de Newton</td>\n",
       "      <td>p9e7-13</td>\n",
       "    </tr>\n",
       "    <tr>\n",
       "      <th>29</th>\n",
       "      <td>( {\\frac{{{x^2}}}{2} - \\frac{3}{x}} )^8</td>\n",
       "      <td>(x**2/2 - 3/x)**8</td>\n",
       "      <td>\\frac{x^{16}}{256} - \\frac{3 x^{13}}{16} + \\fr...</td>\n",
       "      <td>Realiza los desarrollos de los siguientes bino...</td>\n",
       "      <td>1BC</td>\n",
       "      <td>Números combinatorios. Binomio de Newton</td>\n",
       "      <td>p9e7-13</td>\n",
       "    </tr>\n",
       "  </tbody>\n",
       "</table>\n",
       "</div>"
      ],
      "text/plain": [
       "                            enunciado_latex                  enunciado  \\\n",
       "20                                (2 + x)^8                 (x + 2)**8   \n",
       "21        ( {\\frac{2}{5} + \\frac{3}{x}} )^8             (2/5 + 3/x)**8   \n",
       "22                        (2a^2b - 3 a^3)^7  (-3*a**3 + 2*(a**2*b))**7   \n",
       "23                  ( {3x - \\frac{1}{x}})^7             (3*x - 1/x)**7   \n",
       "24            ( {{x^2} + \\frac{1}{x}})^{12}           (x**2 + 1/x)**12   \n",
       "25               ( {2x - \\frac{1}{x}})^{18}            (2*x - 1/x)**18   \n",
       "26              ( {{x^2} + \\frac{1}{x}} )^8            (x**2 + 1/x)**8   \n",
       "27     ( {\\frac{2}{{\\sqrt {x} }} + 1})^{10}        (1 + 2/sqrt(x))**10   \n",
       "28  ( {\\frac{{{x^2}}}{2} - \\frac{3}{x}} )^6          (x**2/2 - 3/x)**6   \n",
       "29  ( {\\frac{{{x^2}}}{2} - \\frac{3}{x}} )^8          (x**2/2 - 3/x)**8   \n",
       "\n",
       "                                             solucion  \\\n",
       "20  x^{8} + 16 x^{7} + 112 x^{6} + 448 x^{5} + 112...   \n",
       "21  \\frac{256}{390625} + \\frac{3072}{78125 x} + \\f...   \n",
       "22  - 2187 a^{21} + 10206 a^{20} b - 20412 a^{19} ...   \n",
       "23  2187 x^{7} - 5103 x^{5} + 5103 x^{3} - 2835 x ...   \n",
       "24  x^{24} + 12 x^{21} + 66 x^{18} + 220 x^{15} + ...   \n",
       "25  262144 x^{18} - 2359296 x^{16} + 10027008 x^{1...   \n",
       "26  x^{16} + 8 x^{13} + 28 x^{10} + 56 x^{7} + 70 ...   \n",
       "27  1 + \\frac{180}{x} + \\frac{3360}{x^{2}} + \\frac...   \n",
       "28  \\frac{x^{12}}{64} - \\frac{9 x^{9}}{16} + \\frac...   \n",
       "29  \\frac{x^{16}}{256} - \\frac{3 x^{13}}{16} + \\fr...   \n",
       "\n",
       "                                                texto curso  \\\n",
       "20  Realiza los desarrollos de los siguientes bino...   1BC   \n",
       "21  Realiza los desarrollos de los siguientes bino...   1BC   \n",
       "22  Realiza los desarrollos de los siguientes bino...   1BC   \n",
       "23  Realiza los desarrollos de los siguientes bino...   1BC   \n",
       "24  Realiza los desarrollos de los siguientes bino...   1BC   \n",
       "25  Realiza los desarrollos de los siguientes bino...   1BC   \n",
       "26  Realiza los desarrollos de los siguientes bino...   1BC   \n",
       "27  Realiza los desarrollos de los siguientes bino...   1BC   \n",
       "28  Realiza los desarrollos de los siguientes bino...   1BC   \n",
       "29  Realiza los desarrollos de los siguientes bino...   1BC   \n",
       "\n",
       "                                      titulo n_ejercicio  \n",
       "20  Números combinatorios. Binomio de Newton     p9e7-13  \n",
       "21  Números combinatorios. Binomio de Newton     p9e7-13  \n",
       "22  Números combinatorios. Binomio de Newton     p9e7-13  \n",
       "23  Números combinatorios. Binomio de Newton     p9e7-13  \n",
       "24  Números combinatorios. Binomio de Newton     p9e7-13  \n",
       "25  Números combinatorios. Binomio de Newton     p9e7-13  \n",
       "26  Números combinatorios. Binomio de Newton     p9e7-13  \n",
       "27  Números combinatorios. Binomio de Newton     p9e7-13  \n",
       "28  Números combinatorios. Binomio de Newton     p9e7-13  \n",
       "29  Números combinatorios. Binomio de Newton     p9e7-13  "
      ]
     },
     "metadata": {},
     "output_type": "display_data"
    }
   ],
   "source": [
    "df_ejercicios.to_csv('ejercicios2.csv', index = False)\n",
    "df_ejercicios = pd.read_csv('ejercicios2.csv', index_col= None)\n",
    "escribir_preambulo(fichero, titulo)\n",
    "for s in df_ejercicios.groupby('n_ejercicio').count().index : \n",
    "    display(md(\"**Ejercicio: **\" + s ))\n",
    "    display(df_ejercicios[df_ejercicios.n_ejercicio == s])\n",
    "    escribir_ejercicios(df_ejercicios[df_ejercicios.n_ejercicio == s],fichero)\n",
    "\n",
    "escribir_fin(fichero)"
   ]
  }
 ],
 "metadata": {
  "kernelspec": {
   "display_name": "Python 3",
   "language": "python",
   "name": "python3"
  },
  "language_info": {
   "codemirror_mode": {
    "name": "ipython",
    "version": 3
   },
   "file_extension": ".py",
   "mimetype": "text/x-python",
   "name": "python",
   "nbconvert_exporter": "python",
   "pygments_lexer": "ipython3",
   "version": "3.6.5"
  }
 },
 "nbformat": 4,
 "nbformat_minor": 2
}
