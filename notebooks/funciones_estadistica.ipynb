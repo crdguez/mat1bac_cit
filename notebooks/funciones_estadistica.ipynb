{
 "cells": [
  {
   "cell_type": "code",
   "execution_count": 1,
   "id": "b0991c91",
   "metadata": {},
   "outputs": [
    {
     "name": "stdout",
     "output_type": "stream",
     "text": [
      "IPython console for SymPy 1.8 (Python 3.6.13-64-bit) (ground types: gmpy)\n",
      "\n",
      "These commands were executed:\n",
      ">>> from __future__ import division\n",
      ">>> from sympy import *\n",
      ">>> x, y, z, t = symbols('x y z t')\n",
      ">>> k, m, n = symbols('k m n', integer=True)\n",
      ">>> f, g, h = symbols('f g h', cls=Function)\n",
      ">>> init_printing()\n",
      "\n",
      "Documentation can be found at https://docs.sympy.org/1.8/\n",
      "\n"
     ]
    }
   ],
   "source": [
    "from sympy import *\n",
    "import pandas as pd\n",
    "import numpy as np\n",
    "import scipy as sc\n",
    "import matplotlib.pyplot as plt\n",
    "\n",
    "%matplotlib inline\n",
    "\n",
    "\n",
    "init_session()"
   ]
  },
  {
   "cell_type": "code",
   "execution_count": 19,
   "id": "7fa4a10e",
   "metadata": {},
   "outputs": [
    {
     "data": {
      "image/png": "[encoded data removed]",
      "text/latex": [
       "$\\displaystyle 10.0$"
      ],
      "text/plain": [
       "10.0"
      ]
     },
     "execution_count": 19,
     "metadata": {},
     "output_type": "execute_result"
    }
   ],
   "source": [
    "df=pd.DataFrame(np.array([[1, 2, 3], [4, 5, 6], [7, 8, 9]]),columns=[r'a', 'b', 'c'])\n",
    "\n",
    "df.where(df['a']>1).dropna()\n",
    "# df\n",
    "# df.where?\n",
    "df = dic['tabla'][:-1]\n",
    "df.iloc[df['f_i'].idxmax(),:]['x_i']\n",
    "\n",
    "tabla = dic['tabla']\n",
    "t=tabla[:-1]\n",
    "tabla[:-1].where(tabla[:-1]['%A_i']>50).dropna().iloc[0]['x_i']\n"
   ]
  },
  {
   "cell_type": "code",
   "execution_count": 5,
   "id": "d6b3391d",
   "metadata": {},
   "outputs": [],
   "source": [
    "def analisis_discreto(str_datos):\n",
    "    datos = np.loadtxt(str_datos.split())\n",
    "    datos = datos.astype(int)\n",
    "    #x_i, f_i, F_i, r_i  = np.unique(datos),np.bincount(datos), cumfreq(datos, numbins=len(np.unique(datos)))[0].astype(int), np.multiply(relfreq(datos, numbins=len(np.unique(datos)))[0],100)\n",
    "    tabla = pd.DataFrame({'x_i':np.unique(datos), 'f_i':np.unique(datos, return_counts=True)[1], 'F_i':np.unique(datos, return_counts=True)[1].cumsum(), 'h_i':np.unique(datos, return_counts=True)[1]/len(datos), 'H_i':(np.unique(datos, return_counts=True)[1]/len(datos)).cumsum(), '%_i':np.unique(datos, return_counts=True)[1]*100/len(datos), '%A_i':(np.unique(datos, return_counts=True)[1]*100/len(datos)).cumsum()}).set_index('x_i')\n",
    "    tabla.reset_index(inplace=True)\n",
    "    tabla.loc['suma']=tabla.sum()\n",
    "    d = np.diff(np.unique(datos)).min()\n",
    "    left_of_first_bin = datos.min() - float(d)/2\n",
    "    right_of_last_bin = datos.max() + float(d)/2\n",
    "    fg, ax = plt.subplots()\n",
    "    plt.clf()\n",
    "    plt.hist(datos, np.arange(left_of_first_bin, right_of_last_bin + d, d), rwidth=0.9, cumulative = False)\n",
    "    plt.title(\"Diagrama\")\n",
    "#     fg=plt.figure\n",
    "\n",
    "    \n",
    "#     solucion.append({\"media\":datos.mean(), \"mediana\":np.percentile(datos,50), \"moda\":stats.mode(datos)})\n",
    "#     solucion.append({\"P70\":np.percentile(datos,70), \"Q1\":np.percentile(datos,25),\"Q3\":np.percentile(datos,75),\"D4\":np.percentile(datos,40),})\n",
    "#     solucion.append({\"rango\":np.amax(datos)-np.amin(datos), \"varianza\": np.var(datos), \"desviación típica\":sqrt(np.var(datos)), \"coeficiente variación\": sqrt(np.var(datos))/abs(np.mean(datos))})\n",
    "#     display(tabla, solucion[2] , solucion[3], solucion[4])\n",
    "    dic=dict()\n",
    "    dic['datos']=datos\n",
    "    dic['tabla']=tabla\n",
    "    dic['figure']=fg\n",
    "    return  dic\n",
    "\n"
   ]
  },
  {
   "cell_type": "code",
   "execution_count": 6,
   "id": "a0d21963",
   "metadata": {},
   "outputs": [
    {
     "data": {
      "text/html": [
       "<style  type=\"text/css\" >\n",
       "</style><table id=\"T_78b0f090_ba6b_11ec_b01a_99ed5c29c2a4\" ><thead>    <tr>        <th class=\"blank level0\" ></th>        <th class=\"col_heading level0 col0\" >x_i</th>        <th class=\"col_heading level0 col1\" >f_i</th>        <th class=\"col_heading level0 col2\" >F_i</th>        <th class=\"col_heading level0 col3\" >h_i</th>        <th class=\"col_heading level0 col4\" >H_i</th>        <th class=\"col_heading level0 col5\" >%_i</th>        <th class=\"col_heading level0 col6\" >%A_i</th>    </tr></thead><tbody>\n",
       "                <tr>\n",
       "                        <th id=\"T_78b0f090_ba6b_11ec_b01a_99ed5c29c2a4level0_row0\" class=\"row_heading level0 row0\" >0</th>\n",
       "                        <td id=\"T_78b0f090_ba6b_11ec_b01a_99ed5c29c2a4row0_col0\" class=\"data row0 col0\" >1</td>\n",
       "                        <td id=\"T_78b0f090_ba6b_11ec_b01a_99ed5c29c2a4row0_col1\" class=\"data row0 col1\" >1</td>\n",
       "                        <td id=\"T_78b0f090_ba6b_11ec_b01a_99ed5c29c2a4row0_col2\" class=\"data row0 col2\" >1</td>\n",
       "                        <td id=\"T_78b0f090_ba6b_11ec_b01a_99ed5c29c2a4row0_col3\" class=\"data row0 col3\" >0.03</td>\n",
       "                        <td id=\"T_78b0f090_ba6b_11ec_b01a_99ed5c29c2a4row0_col4\" class=\"data row0 col4\" >0.03</td>\n",
       "                        <td id=\"T_78b0f090_ba6b_11ec_b01a_99ed5c29c2a4row0_col5\" class=\"data row0 col5\" >3.33%</td>\n",
       "                        <td id=\"T_78b0f090_ba6b_11ec_b01a_99ed5c29c2a4row0_col6\" class=\"data row0 col6\" >3.33%</td>\n",
       "            </tr>\n",
       "            <tr>\n",
       "                        <th id=\"T_78b0f090_ba6b_11ec_b01a_99ed5c29c2a4level0_row1\" class=\"row_heading level0 row1\" >1</th>\n",
       "                        <td id=\"T_78b0f090_ba6b_11ec_b01a_99ed5c29c2a4row1_col0\" class=\"data row1 col0\" >2</td>\n",
       "                        <td id=\"T_78b0f090_ba6b_11ec_b01a_99ed5c29c2a4row1_col1\" class=\"data row1 col1\" >1</td>\n",
       "                        <td id=\"T_78b0f090_ba6b_11ec_b01a_99ed5c29c2a4row1_col2\" class=\"data row1 col2\" >2</td>\n",
       "                        <td id=\"T_78b0f090_ba6b_11ec_b01a_99ed5c29c2a4row1_col3\" class=\"data row1 col3\" >0.03</td>\n",
       "                        <td id=\"T_78b0f090_ba6b_11ec_b01a_99ed5c29c2a4row1_col4\" class=\"data row1 col4\" >0.07</td>\n",
       "                        <td id=\"T_78b0f090_ba6b_11ec_b01a_99ed5c29c2a4row1_col5\" class=\"data row1 col5\" >3.33%</td>\n",
       "                        <td id=\"T_78b0f090_ba6b_11ec_b01a_99ed5c29c2a4row1_col6\" class=\"data row1 col6\" >6.67%</td>\n",
       "            </tr>\n",
       "            <tr>\n",
       "                        <th id=\"T_78b0f090_ba6b_11ec_b01a_99ed5c29c2a4level0_row2\" class=\"row_heading level0 row2\" >2</th>\n",
       "                        <td id=\"T_78b0f090_ba6b_11ec_b01a_99ed5c29c2a4row2_col0\" class=\"data row2 col0\" >3</td>\n",
       "                        <td id=\"T_78b0f090_ba6b_11ec_b01a_99ed5c29c2a4row2_col1\" class=\"data row2 col1\" >3</td>\n",
       "                        <td id=\"T_78b0f090_ba6b_11ec_b01a_99ed5c29c2a4row2_col2\" class=\"data row2 col2\" >5</td>\n",
       "                        <td id=\"T_78b0f090_ba6b_11ec_b01a_99ed5c29c2a4row2_col3\" class=\"data row2 col3\" >0.10</td>\n",
       "                        <td id=\"T_78b0f090_ba6b_11ec_b01a_99ed5c29c2a4row2_col4\" class=\"data row2 col4\" >0.17</td>\n",
       "                        <td id=\"T_78b0f090_ba6b_11ec_b01a_99ed5c29c2a4row2_col5\" class=\"data row2 col5\" >10.00%</td>\n",
       "                        <td id=\"T_78b0f090_ba6b_11ec_b01a_99ed5c29c2a4row2_col6\" class=\"data row2 col6\" >16.67%</td>\n",
       "            </tr>\n",
       "            <tr>\n",
       "                        <th id=\"T_78b0f090_ba6b_11ec_b01a_99ed5c29c2a4level0_row3\" class=\"row_heading level0 row3\" >3</th>\n",
       "                        <td id=\"T_78b0f090_ba6b_11ec_b01a_99ed5c29c2a4row3_col0\" class=\"data row3 col0\" >4</td>\n",
       "                        <td id=\"T_78b0f090_ba6b_11ec_b01a_99ed5c29c2a4row3_col1\" class=\"data row3 col1\" >1</td>\n",
       "                        <td id=\"T_78b0f090_ba6b_11ec_b01a_99ed5c29c2a4row3_col2\" class=\"data row3 col2\" >6</td>\n",
       "                        <td id=\"T_78b0f090_ba6b_11ec_b01a_99ed5c29c2a4row3_col3\" class=\"data row3 col3\" >0.03</td>\n",
       "                        <td id=\"T_78b0f090_ba6b_11ec_b01a_99ed5c29c2a4row3_col4\" class=\"data row3 col4\" >0.20</td>\n",
       "                        <td id=\"T_78b0f090_ba6b_11ec_b01a_99ed5c29c2a4row3_col5\" class=\"data row3 col5\" >3.33%</td>\n",
       "                        <td id=\"T_78b0f090_ba6b_11ec_b01a_99ed5c29c2a4row3_col6\" class=\"data row3 col6\" >20.00%</td>\n",
       "            </tr>\n",
       "            <tr>\n",
       "                        <th id=\"T_78b0f090_ba6b_11ec_b01a_99ed5c29c2a4level0_row4\" class=\"row_heading level0 row4\" >4</th>\n",
       "                        <td id=\"T_78b0f090_ba6b_11ec_b01a_99ed5c29c2a4row4_col0\" class=\"data row4 col0\" >5</td>\n",
       "                        <td id=\"T_78b0f090_ba6b_11ec_b01a_99ed5c29c2a4row4_col1\" class=\"data row4 col1\" >2</td>\n",
       "                        <td id=\"T_78b0f090_ba6b_11ec_b01a_99ed5c29c2a4row4_col2\" class=\"data row4 col2\" >8</td>\n",
       "                        <td id=\"T_78b0f090_ba6b_11ec_b01a_99ed5c29c2a4row4_col3\" class=\"data row4 col3\" >0.07</td>\n",
       "                        <td id=\"T_78b0f090_ba6b_11ec_b01a_99ed5c29c2a4row4_col4\" class=\"data row4 col4\" >0.27</td>\n",
       "                        <td id=\"T_78b0f090_ba6b_11ec_b01a_99ed5c29c2a4row4_col5\" class=\"data row4 col5\" >6.67%</td>\n",
       "                        <td id=\"T_78b0f090_ba6b_11ec_b01a_99ed5c29c2a4row4_col6\" class=\"data row4 col6\" >26.67%</td>\n",
       "            </tr>\n",
       "            <tr>\n",
       "                        <th id=\"T_78b0f090_ba6b_11ec_b01a_99ed5c29c2a4level0_row5\" class=\"row_heading level0 row5\" >5</th>\n",
       "                        <td id=\"T_78b0f090_ba6b_11ec_b01a_99ed5c29c2a4row5_col0\" class=\"data row5 col0\" >6</td>\n",
       "                        <td id=\"T_78b0f090_ba6b_11ec_b01a_99ed5c29c2a4row5_col1\" class=\"data row5 col1\" >2</td>\n",
       "                        <td id=\"T_78b0f090_ba6b_11ec_b01a_99ed5c29c2a4row5_col2\" class=\"data row5 col2\" >10</td>\n",
       "                        <td id=\"T_78b0f090_ba6b_11ec_b01a_99ed5c29c2a4row5_col3\" class=\"data row5 col3\" >0.07</td>\n",
       "                        <td id=\"T_78b0f090_ba6b_11ec_b01a_99ed5c29c2a4row5_col4\" class=\"data row5 col4\" >0.33</td>\n",
       "                        <td id=\"T_78b0f090_ba6b_11ec_b01a_99ed5c29c2a4row5_col5\" class=\"data row5 col5\" >6.67%</td>\n",
       "                        <td id=\"T_78b0f090_ba6b_11ec_b01a_99ed5c29c2a4row5_col6\" class=\"data row5 col6\" >33.33%</td>\n",
       "            </tr>\n",
       "            <tr>\n",
       "                        <th id=\"T_78b0f090_ba6b_11ec_b01a_99ed5c29c2a4level0_row6\" class=\"row_heading level0 row6\" >6</th>\n",
       "                        <td id=\"T_78b0f090_ba6b_11ec_b01a_99ed5c29c2a4row6_col0\" class=\"data row6 col0\" >7</td>\n",
       "                        <td id=\"T_78b0f090_ba6b_11ec_b01a_99ed5c29c2a4row6_col1\" class=\"data row6 col1\" >1</td>\n",
       "                        <td id=\"T_78b0f090_ba6b_11ec_b01a_99ed5c29c2a4row6_col2\" class=\"data row6 col2\" >11</td>\n",
       "                        <td id=\"T_78b0f090_ba6b_11ec_b01a_99ed5c29c2a4row6_col3\" class=\"data row6 col3\" >0.03</td>\n",
       "                        <td id=\"T_78b0f090_ba6b_11ec_b01a_99ed5c29c2a4row6_col4\" class=\"data row6 col4\" >0.37</td>\n",
       "                        <td id=\"T_78b0f090_ba6b_11ec_b01a_99ed5c29c2a4row6_col5\" class=\"data row6 col5\" >3.33%</td>\n",
       "                        <td id=\"T_78b0f090_ba6b_11ec_b01a_99ed5c29c2a4row6_col6\" class=\"data row6 col6\" >36.67%</td>\n",
       "            </tr>\n",
       "            <tr>\n",
       "                        <th id=\"T_78b0f090_ba6b_11ec_b01a_99ed5c29c2a4level0_row7\" class=\"row_heading level0 row7\" >7</th>\n",
       "                        <td id=\"T_78b0f090_ba6b_11ec_b01a_99ed5c29c2a4row7_col0\" class=\"data row7 col0\" >8</td>\n",
       "                        <td id=\"T_78b0f090_ba6b_11ec_b01a_99ed5c29c2a4row7_col1\" class=\"data row7 col1\" >2</td>\n",
       "                        <td id=\"T_78b0f090_ba6b_11ec_b01a_99ed5c29c2a4row7_col2\" class=\"data row7 col2\" >13</td>\n",
       "                        <td id=\"T_78b0f090_ba6b_11ec_b01a_99ed5c29c2a4row7_col3\" class=\"data row7 col3\" >0.07</td>\n",
       "                        <td id=\"T_78b0f090_ba6b_11ec_b01a_99ed5c29c2a4row7_col4\" class=\"data row7 col4\" >0.43</td>\n",
       "                        <td id=\"T_78b0f090_ba6b_11ec_b01a_99ed5c29c2a4row7_col5\" class=\"data row7 col5\" >6.67%</td>\n",
       "                        <td id=\"T_78b0f090_ba6b_11ec_b01a_99ed5c29c2a4row7_col6\" class=\"data row7 col6\" >43.33%</td>\n",
       "            </tr>\n",
       "            <tr>\n",
       "                        <th id=\"T_78b0f090_ba6b_11ec_b01a_99ed5c29c2a4level0_row8\" class=\"row_heading level0 row8\" >8</th>\n",
       "                        <td id=\"T_78b0f090_ba6b_11ec_b01a_99ed5c29c2a4row8_col0\" class=\"data row8 col0\" >9</td>\n",
       "                        <td id=\"T_78b0f090_ba6b_11ec_b01a_99ed5c29c2a4row8_col1\" class=\"data row8 col1\" >1</td>\n",
       "                        <td id=\"T_78b0f090_ba6b_11ec_b01a_99ed5c29c2a4row8_col2\" class=\"data row8 col2\" >14</td>\n",
       "                        <td id=\"T_78b0f090_ba6b_11ec_b01a_99ed5c29c2a4row8_col3\" class=\"data row8 col3\" >0.03</td>\n",
       "                        <td id=\"T_78b0f090_ba6b_11ec_b01a_99ed5c29c2a4row8_col4\" class=\"data row8 col4\" >0.47</td>\n",
       "                        <td id=\"T_78b0f090_ba6b_11ec_b01a_99ed5c29c2a4row8_col5\" class=\"data row8 col5\" >3.33%</td>\n",
       "                        <td id=\"T_78b0f090_ba6b_11ec_b01a_99ed5c29c2a4row8_col6\" class=\"data row8 col6\" >46.67%</td>\n",
       "            </tr>\n",
       "            <tr>\n",
       "                        <th id=\"T_78b0f090_ba6b_11ec_b01a_99ed5c29c2a4level0_row9\" class=\"row_heading level0 row9\" >9</th>\n",
       "                        <td id=\"T_78b0f090_ba6b_11ec_b01a_99ed5c29c2a4row9_col0\" class=\"data row9 col0\" >10</td>\n",
       "                        <td id=\"T_78b0f090_ba6b_11ec_b01a_99ed5c29c2a4row9_col1\" class=\"data row9 col1\" >5</td>\n",
       "                        <td id=\"T_78b0f090_ba6b_11ec_b01a_99ed5c29c2a4row9_col2\" class=\"data row9 col2\" >19</td>\n",
       "                        <td id=\"T_78b0f090_ba6b_11ec_b01a_99ed5c29c2a4row9_col3\" class=\"data row9 col3\" >0.17</td>\n",
       "                        <td id=\"T_78b0f090_ba6b_11ec_b01a_99ed5c29c2a4row9_col4\" class=\"data row9 col4\" >0.63</td>\n",
       "                        <td id=\"T_78b0f090_ba6b_11ec_b01a_99ed5c29c2a4row9_col5\" class=\"data row9 col5\" >16.67%</td>\n",
       "                        <td id=\"T_78b0f090_ba6b_11ec_b01a_99ed5c29c2a4row9_col6\" class=\"data row9 col6\" >63.33%</td>\n",
       "            </tr>\n",
       "            <tr>\n",
       "                        <th id=\"T_78b0f090_ba6b_11ec_b01a_99ed5c29c2a4level0_row10\" class=\"row_heading level0 row10\" >10</th>\n",
       "                        <td id=\"T_78b0f090_ba6b_11ec_b01a_99ed5c29c2a4row10_col0\" class=\"data row10 col0\" >11</td>\n",
       "                        <td id=\"T_78b0f090_ba6b_11ec_b01a_99ed5c29c2a4row10_col1\" class=\"data row10 col1\" >1</td>\n",
       "                        <td id=\"T_78b0f090_ba6b_11ec_b01a_99ed5c29c2a4row10_col2\" class=\"data row10 col2\" >20</td>\n",
       "                        <td id=\"T_78b0f090_ba6b_11ec_b01a_99ed5c29c2a4row10_col3\" class=\"data row10 col3\" >0.03</td>\n",
       "                        <td id=\"T_78b0f090_ba6b_11ec_b01a_99ed5c29c2a4row10_col4\" class=\"data row10 col4\" >0.67</td>\n",
       "                        <td id=\"T_78b0f090_ba6b_11ec_b01a_99ed5c29c2a4row10_col5\" class=\"data row10 col5\" >3.33%</td>\n",
       "                        <td id=\"T_78b0f090_ba6b_11ec_b01a_99ed5c29c2a4row10_col6\" class=\"data row10 col6\" >66.67%</td>\n",
       "            </tr>\n",
       "            <tr>\n",
       "                        <th id=\"T_78b0f090_ba6b_11ec_b01a_99ed5c29c2a4level0_row11\" class=\"row_heading level0 row11\" >11</th>\n",
       "                        <td id=\"T_78b0f090_ba6b_11ec_b01a_99ed5c29c2a4row11_col0\" class=\"data row11 col0\" >12</td>\n",
       "                        <td id=\"T_78b0f090_ba6b_11ec_b01a_99ed5c29c2a4row11_col1\" class=\"data row11 col1\" >3</td>\n",
       "                        <td id=\"T_78b0f090_ba6b_11ec_b01a_99ed5c29c2a4row11_col2\" class=\"data row11 col2\" >23</td>\n",
       "                        <td id=\"T_78b0f090_ba6b_11ec_b01a_99ed5c29c2a4row11_col3\" class=\"data row11 col3\" >0.10</td>\n",
       "                        <td id=\"T_78b0f090_ba6b_11ec_b01a_99ed5c29c2a4row11_col4\" class=\"data row11 col4\" >0.77</td>\n",
       "                        <td id=\"T_78b0f090_ba6b_11ec_b01a_99ed5c29c2a4row11_col5\" class=\"data row11 col5\" >10.00%</td>\n",
       "                        <td id=\"T_78b0f090_ba6b_11ec_b01a_99ed5c29c2a4row11_col6\" class=\"data row11 col6\" >76.67%</td>\n",
       "            </tr>\n",
       "            <tr>\n",
       "                        <th id=\"T_78b0f090_ba6b_11ec_b01a_99ed5c29c2a4level0_row12\" class=\"row_heading level0 row12\" >12</th>\n",
       "                        <td id=\"T_78b0f090_ba6b_11ec_b01a_99ed5c29c2a4row12_col0\" class=\"data row12 col0\" >14</td>\n",
       "                        <td id=\"T_78b0f090_ba6b_11ec_b01a_99ed5c29c2a4row12_col1\" class=\"data row12 col1\" >1</td>\n",
       "                        <td id=\"T_78b0f090_ba6b_11ec_b01a_99ed5c29c2a4row12_col2\" class=\"data row12 col2\" >24</td>\n",
       "                        <td id=\"T_78b0f090_ba6b_11ec_b01a_99ed5c29c2a4row12_col3\" class=\"data row12 col3\" >0.03</td>\n",
       "                        <td id=\"T_78b0f090_ba6b_11ec_b01a_99ed5c29c2a4row12_col4\" class=\"data row12 col4\" >0.80</td>\n",
       "                        <td id=\"T_78b0f090_ba6b_11ec_b01a_99ed5c29c2a4row12_col5\" class=\"data row12 col5\" >3.33%</td>\n",
       "                        <td id=\"T_78b0f090_ba6b_11ec_b01a_99ed5c29c2a4row12_col6\" class=\"data row12 col6\" >80.00%</td>\n",
       "            </tr>\n",
       "            <tr>\n",
       "                        <th id=\"T_78b0f090_ba6b_11ec_b01a_99ed5c29c2a4level0_row13\" class=\"row_heading level0 row13\" >13</th>\n",
       "                        <td id=\"T_78b0f090_ba6b_11ec_b01a_99ed5c29c2a4row13_col0\" class=\"data row13 col0\" >15</td>\n",
       "                        <td id=\"T_78b0f090_ba6b_11ec_b01a_99ed5c29c2a4row13_col1\" class=\"data row13 col1\" >1</td>\n",
       "                        <td id=\"T_78b0f090_ba6b_11ec_b01a_99ed5c29c2a4row13_col2\" class=\"data row13 col2\" >25</td>\n",
       "                        <td id=\"T_78b0f090_ba6b_11ec_b01a_99ed5c29c2a4row13_col3\" class=\"data row13 col3\" >0.03</td>\n",
       "                        <td id=\"T_78b0f090_ba6b_11ec_b01a_99ed5c29c2a4row13_col4\" class=\"data row13 col4\" >0.83</td>\n",
       "                        <td id=\"T_78b0f090_ba6b_11ec_b01a_99ed5c29c2a4row13_col5\" class=\"data row13 col5\" >3.33%</td>\n",
       "                        <td id=\"T_78b0f090_ba6b_11ec_b01a_99ed5c29c2a4row13_col6\" class=\"data row13 col6\" >83.33%</td>\n",
       "            </tr>\n",
       "            <tr>\n",
       "                        <th id=\"T_78b0f090_ba6b_11ec_b01a_99ed5c29c2a4level0_row14\" class=\"row_heading level0 row14\" >14</th>\n",
       "                        <td id=\"T_78b0f090_ba6b_11ec_b01a_99ed5c29c2a4row14_col0\" class=\"data row14 col0\" >16</td>\n",
       "                        <td id=\"T_78b0f090_ba6b_11ec_b01a_99ed5c29c2a4row14_col1\" class=\"data row14 col1\" >3</td>\n",
       "                        <td id=\"T_78b0f090_ba6b_11ec_b01a_99ed5c29c2a4row14_col2\" class=\"data row14 col2\" >28</td>\n",
       "                        <td id=\"T_78b0f090_ba6b_11ec_b01a_99ed5c29c2a4row14_col3\" class=\"data row14 col3\" >0.10</td>\n",
       "                        <td id=\"T_78b0f090_ba6b_11ec_b01a_99ed5c29c2a4row14_col4\" class=\"data row14 col4\" >0.93</td>\n",
       "                        <td id=\"T_78b0f090_ba6b_11ec_b01a_99ed5c29c2a4row14_col5\" class=\"data row14 col5\" >10.00%</td>\n",
       "                        <td id=\"T_78b0f090_ba6b_11ec_b01a_99ed5c29c2a4row14_col6\" class=\"data row14 col6\" >93.33%</td>\n",
       "            </tr>\n",
       "            <tr>\n",
       "                        <th id=\"T_78b0f090_ba6b_11ec_b01a_99ed5c29c2a4level0_row15\" class=\"row_heading level0 row15\" >15</th>\n",
       "                        <td id=\"T_78b0f090_ba6b_11ec_b01a_99ed5c29c2a4row15_col0\" class=\"data row15 col0\" >17</td>\n",
       "                        <td id=\"T_78b0f090_ba6b_11ec_b01a_99ed5c29c2a4row15_col1\" class=\"data row15 col1\" >1</td>\n",
       "                        <td id=\"T_78b0f090_ba6b_11ec_b01a_99ed5c29c2a4row15_col2\" class=\"data row15 col2\" >29</td>\n",
       "                        <td id=\"T_78b0f090_ba6b_11ec_b01a_99ed5c29c2a4row15_col3\" class=\"data row15 col3\" >0.03</td>\n",
       "                        <td id=\"T_78b0f090_ba6b_11ec_b01a_99ed5c29c2a4row15_col4\" class=\"data row15 col4\" >0.97</td>\n",
       "                        <td id=\"T_78b0f090_ba6b_11ec_b01a_99ed5c29c2a4row15_col5\" class=\"data row15 col5\" >3.33%</td>\n",
       "                        <td id=\"T_78b0f090_ba6b_11ec_b01a_99ed5c29c2a4row15_col6\" class=\"data row15 col6\" >96.67%</td>\n",
       "            </tr>\n",
       "            <tr>\n",
       "                        <th id=\"T_78b0f090_ba6b_11ec_b01a_99ed5c29c2a4level0_row16\" class=\"row_heading level0 row16\" >16</th>\n",
       "                        <td id=\"T_78b0f090_ba6b_11ec_b01a_99ed5c29c2a4row16_col0\" class=\"data row16 col0\" >20</td>\n",
       "                        <td id=\"T_78b0f090_ba6b_11ec_b01a_99ed5c29c2a4row16_col1\" class=\"data row16 col1\" >1</td>\n",
       "                        <td id=\"T_78b0f090_ba6b_11ec_b01a_99ed5c29c2a4row16_col2\" class=\"data row16 col2\" >30</td>\n",
       "                        <td id=\"T_78b0f090_ba6b_11ec_b01a_99ed5c29c2a4row16_col3\" class=\"data row16 col3\" >0.03</td>\n",
       "                        <td id=\"T_78b0f090_ba6b_11ec_b01a_99ed5c29c2a4row16_col4\" class=\"data row16 col4\" >1.00</td>\n",
       "                        <td id=\"T_78b0f090_ba6b_11ec_b01a_99ed5c29c2a4row16_col5\" class=\"data row16 col5\" >3.33%</td>\n",
       "                        <td id=\"T_78b0f090_ba6b_11ec_b01a_99ed5c29c2a4row16_col6\" class=\"data row16 col6\" >100.00%</td>\n",
       "            </tr>\n",
       "            <tr>\n",
       "                        <th id=\"T_78b0f090_ba6b_11ec_b01a_99ed5c29c2a4level0_row17\" class=\"row_heading level0 row17\" >suma</th>\n",
       "                        <td id=\"T_78b0f090_ba6b_11ec_b01a_99ed5c29c2a4row17_col0\" class=\"data row17 col0\" >160</td>\n",
       "                        <td id=\"T_78b0f090_ba6b_11ec_b01a_99ed5c29c2a4row17_col1\" class=\"data row17 col1\" >30</td>\n",
       "                        <td id=\"T_78b0f090_ba6b_11ec_b01a_99ed5c29c2a4row17_col2\" class=\"data row17 col2\" >268</td>\n",
       "                        <td id=\"T_78b0f090_ba6b_11ec_b01a_99ed5c29c2a4row17_col3\" class=\"data row17 col3\" >1.00</td>\n",
       "                        <td id=\"T_78b0f090_ba6b_11ec_b01a_99ed5c29c2a4row17_col4\" class=\"data row17 col4\" >8.93</td>\n",
       "                        <td id=\"T_78b0f090_ba6b_11ec_b01a_99ed5c29c2a4row17_col5\" class=\"data row17 col5\" >100.00%</td>\n",
       "                        <td id=\"T_78b0f090_ba6b_11ec_b01a_99ed5c29c2a4row17_col6\" class=\"data row17 col6\" >893.33%</td>\n",
       "            </tr>\n",
       "    </tbody></table>"
      ],
      "text/plain": [
       "<pandas.io.formats.style.Styler at 0x7f6d50f43be0>"
      ]
     },
     "execution_count": 6,
     "metadata": {},
     "output_type": "execute_result"
    },
    {
     "data": {
      "image/png": "[encoded data removed]",
      "text/plain": [
       "<Figure size 432x288 with 1 Axes>"
      ]
     },
     "metadata": {
      "needs_background": "light"
     },
     "output_type": "display_data"
    }
   ],
   "source": [
    "%matplotlib inline\n",
    "dic=analisis_discreto( \"\"\"16 11 17 12 10 5 1 8 10 14 15 20 10 3 8 10 2 5 12 6 16 7 6 16 10 3 3 9 4 12\"\"\")\n",
    "# dic['tabla'].astype({\"x_i\":int, \"f_i\":int, \"F_i\":int}).style.format({'h_i':\"{:,.2f}\"})\n",
    "dic['tabla'].astype({\"x_i\":int, \"f_i\":int, \"F_i\":int}).style.format({'h_i':\"{:,.2f}\",'H_i':\"{:,.2f}\",'%_i':\"{:,.2f}%\",'%A_i':\"{:,.2f}%\"})"
   ]
  },
  {
   "cell_type": "code",
   "execution_count": 13,
   "id": "324afe2e",
   "metadata": {},
   "outputs": [
    {
     "data": {
      "image/png": "[encoded data removed]",
      "text/latex": [
       "$\\displaystyle \\left( 6.2, \\  4.8\\right)$"
      ],
      "text/plain": [
       "(6.2, 4.800000000000001)"
      ]
     },
     "execution_count": 13,
     "metadata": {},
     "output_type": "execute_result"
    }
   ],
   "source": [
    "p=20\n",
    "(len(dic['datos'])+1)*p/100, np.percentile(dic['datos'],p,interpolation='linear')"
   ]
  },
  {
   "cell_type": "code",
   "execution_count": 29,
   "id": "a9ae0cb5",
   "metadata": {},
   "outputs": [
    {
     "data": {
      "text/plain": [
       "'1.19.2'"
      ]
     },
     "execution_count": 29,
     "metadata": {},
     "output_type": "execute_result"
    }
   ],
   "source": [
    "np.__version__"
   ]
  },
  {
   "cell_type": "code",
   "execution_count": 2,
   "id": "b722b0f0",
   "metadata": {},
   "outputs": [],
   "source": [
    "def analisis_agrupado(str_datos, bin_size = 10 ):\n",
    "    datos = np.loadtxt(str_datos.split())\n",
    "    datos = datos.astype(int)\n",
    "    \n",
    "    display(datos)\n",
    "    \n",
    "    #dfrec, dagr = np.histogram(datos,range=(5*int(datos.min()/5),5*(int(datos.max()/5)+1)), bins=round((5*(int(datos.max()/5)+1)-5*int(datos.min()/5))/bin_size))\n",
    "    dfrec, dagr = np.histogram(datos,range=(5*int(datos.min()/5),5*(int(datos.max()/5)+1)), bins = np.arange(5*int(datos.min()/5), 5*(int(datos.max()/5)+1)+bin_size,bin_size))\n",
    "\n",
    "    display(dfrec, dagr, )\n",
    "\n",
    "    display([dagr[i]+bin_size/2 for i in range(len(dagr)-1)])\n",
    "\n",
    "    marca = [dagr[i]+bin_size/2 for i in range(len(dagr)-1)]\n",
    "\n",
    "    datos2=[]\n",
    "    [datos2.append(np.ones(j)*marca[i]) for i, j in enumerate(dfrec) ]\n",
    "    #datos2.append([np.ones(j)*marca[i] for i, j in enumerate(dfrec) ])\n",
    "\n",
    "\n",
    "    datos2 = np.concatenate(datos2)\n",
    "    display(datos2)\n",
    "    datos = datos2\n",
    "    display(5*int(datos.min()/5),5*(int(datos.max()/5)+1),int((5*(int(datos.max()/5)+1)-5*int(datos.min()/5))/bin_size))\n",
    "\n",
    "    #display(np.array(datos2))\n",
    "\n",
    "    #x_i, f_i, F_i, r_i  = np.unique(datos),np.bincount(datos), cumfreq(datos, numbins=len(np.unique(datos)))[0].astype(int), np.multiply(relfreq(datos, numbins=len(np.unique(datos)))[0],100)\n",
    "    tabla = pd.DataFrame({'x_i':np.unique(datos), 'f_i':np.unique(datos, return_counts=True)[1], 'F_i':np.unique(datos, return_counts=True)[1].cumsum(), 'r_i':np.unique(datos, return_counts=True)[1]/len(datos), 'R_i':(np.unique(datos, return_counts=True)[1]/len(datos)).cumsum(), '%_i':np.unique(datos, return_counts=True)[1]*100/len(datos), '%A_i':(np.unique(datos, return_counts=True)[1]*100/len(datos)).cumsum()}).set_index('x_i')\n",
    "\n",
    "    d = np.diff(np.unique(datos)).min()\n",
    "    left_of_first_bin = datos.min() - float(d)/2\n",
    "    right_of_last_bin = datos.max() + float(d)/2\n",
    "    plt.clf()\n",
    "    plt.hist(datos, np.arange(left_of_first_bin, right_of_last_bin + d, d), rwidth=0.9, cumulative = False)\n",
    "    plt.title(\"Histograma\")\n",
    "    fg=plt.figure\n",
    "    \n",
    "    dic=dict()\n",
    "    dic['datos']=datos\n",
    "    dic['tabla']=tabla\n",
    "    dic['figure']=fg\n",
    "\n",
    "\n",
    "#     solucion.append({\"media\":datos.mean(), \"mediana\":np.percentile(datos,50), \"moda\":stats.mode(datos)})\n",
    "#     solucion.append({\"Q1\":np.percentile(datos,25),\"Q3\":np.percentile(datos,75)})\n",
    "#     solucion.append({\"rango\":np.amax(datos)-np.amin(datos), \"varianza\": np.var(datos), \"desviación típica\":sqrt(np.var(datos)), \"coeficiente variación\": sqrt(np.var(datos))/abs(np.mean(datos))})\n",
    "#     display(tabla, solucion[2] , solucion[3], solucion[4])\n",
    "    return  dic"
   ]
  },
  {
   "cell_type": "code",
   "execution_count": 3,
   "id": "2625d37f",
   "metadata": {},
   "outputs": [
    {
     "data": {
      "text/plain": [
       "array([174, 157, 168, 166, 169, 168, 173, 184, 176, 171, 172, 168, 167,\n",
       "       162, 162, 163, 166, 166, 167, 167, 174, 159, 170, 172, 173, 164,\n",
       "       161, 163, 176, 177])"
      ]
     },
     "metadata": {},
     "output_type": "display_data"
    },
    {
     "data": {
      "text/plain": [
       "array([ 8, 18,  4])"
      ]
     },
     "metadata": {},
     "output_type": "display_data"
    },
    {
     "data": {
      "text/plain": [
       "array([155, 165, 175, 185])"
      ]
     },
     "metadata": {},
     "output_type": "display_data"
    },
    {
     "data": {
      "image/png": "[encoded data removed]",
      "text/latex": [
       "$\\displaystyle \\left[ 160.0, \\  170.0, \\  180.0\\right]$"
      ],
      "text/plain": [
       "[160.0, 170.0, 180.0]"
      ]
     },
     "metadata": {},
     "output_type": "display_data"
    },
    {
     "data": {
      "text/plain": [
       "array([160., 160., 160., 160., 160., 160., 160., 160., 170., 170., 170.,\n",
       "       170., 170., 170., 170., 170., 170., 170., 170., 170., 170., 170.,\n",
       "       170., 170., 170., 170., 180., 180., 180., 180.])"
      ]
     },
     "metadata": {},
     "output_type": "display_data"
    },
    {
     "data": {
      "image/png": "[encoded data removed]",
      "text/latex": [
       "$\\displaystyle 160$"
      ],
      "text/plain": [
       "160"
      ]
     },
     "metadata": {},
     "output_type": "display_data"
    },
    {
     "data": {
      "image/png": "[encoded data removed]",
      "text/latex": [
       "$\\displaystyle 185$"
      ],
      "text/plain": [
       "185"
      ]
     },
     "metadata": {},
     "output_type": "display_data"
    },
    {
     "data": {
      "image/png": "[encoded data removed]",
      "text/latex": [
       "$\\displaystyle 2$"
      ],
      "text/plain": [
       "2"
      ]
     },
     "metadata": {},
     "output_type": "display_data"
    },
    {
     "data": {
      "text/plain": [
       "{'datos': array([160., 160., 160., 160., 160., 160., 160., 160., 170., 170., 170.,\n",
       "        170., 170., 170., 170., 170., 170., 170., 170., 170., 170., 170.,\n",
       "        170., 170., 170., 170., 180., 180., 180., 180.]),\n",
       " 'tabla':        f_i  F_i       r_i       R_i        %_i        %A_i\n",
       " x_i                                                       \n",
       " 160.0    8    8  0.266667  0.266667  26.666667   26.666667\n",
       " 170.0   18   26  0.600000  0.866667  60.000000   86.666667\n",
       " 180.0    4   30  0.133333  1.000000  13.333333  100.000000,\n",
       " 'figure': <function matplotlib.pyplot.figure(num=None, figsize=None, dpi=None, facecolor=None, edgecolor=None, frameon=True, FigureClass=<class 'matplotlib.figure.Figure'>, clear=False, **kwargs)>}"
      ]
     },
     "execution_count": 3,
     "metadata": {},
     "output_type": "execute_result"
    },
    {
     "data": {
      "image/png": "[encoded data removed]",
      "text/plain": [
       "<Figure size 432x288 with 1 Axes>"
      ]
     },
     "metadata": {
      "needs_background": "light"
     },
     "output_type": "display_data"
    }
   ],
   "source": [
    "%matplotlib inline\n",
    "str='174 157 168 166 169 168 173 184 176 171 172 168 167 162 162 163 166 166 167 167 174 159 170 172 173 164 161 163 176 177'\n",
    "analisis_agrupado(str)"
   ]
  },
  {
   "cell_type": "code",
   "execution_count": 8,
   "id": "07e20800",
   "metadata": {},
   "outputs": [
    {
     "data": {
      "text/plain": [
       "(array([ 8, 18,  4]), array([155, 165, 175, 185]))"
      ]
     },
     "execution_count": 8,
     "metadata": {},
     "output_type": "execute_result"
    }
   ],
   "source": [
    "str\n",
    "datos = np.loadtxt(str.split())\n",
    "datos\n",
    "bin_size=10\n",
    "np.histogram(datos,range=(5*int(datos.min()/5),5*(int(datos.max()/5)+1)), bins = np.arange(5*int(datos.min()/5), 5*(int(datos.max()/5)+1)+bin_size,bin_size))\n"
   ]
  },
  {
   "cell_type": "code",
   "execution_count": 22,
   "id": "63f70c3a",
   "metadata": {},
   "outputs": [
    {
     "data": {
      "text/plain": [
       "'\\\\left[155.0, 165.0\\\\right), \\\\left[165.0, 175.0\\\\right), \\\\left[175.0, 185.0\\\\right)'"
      ]
     },
     "execution_count": 22,
     "metadata": {},
     "output_type": "execute_result"
    }
   ],
   "source": [
    "str_datos =\"\"\"174\n",
    "157 168 166 169 168 173 184 176 171 172 168 167 162 162\n",
    "163\n",
    "166 166 167 167 174 159 170 172 173 164 161 163 176 177\"\"\"\n",
    "datos = np.loadtxt(str_datos.split())\n",
    "datos\n",
    "\n",
    "datos.min(), datos.max()\n",
    "\n",
    "frec, interv = np.histogram(datos, range=(155,185), bins=3)\n",
    "\", \".join([latex(Interval.Ropen(interv[i],interv[i+1])) for i in range(len(interv)-1)])\n",
    "\n"
   ]
  }
 ],
 "metadata": {
  "kernelspec": {
   "display_name": "Python 3",
   "language": "python",
   "name": "python3"
  },
  "language_info": {
   "codemirror_mode": {
    "name": "ipython",
    "version": 3
   },
   "file_extension": ".py",
   "mimetype": "text/x-python",
   "name": "python",
   "nbconvert_exporter": "python",
   "pygments_lexer": "ipython3",
   "version": "3.6.13"
  }
 },
 "nbformat": 4,
 "nbformat_minor": 5
}
