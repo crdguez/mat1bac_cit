{
 "cells": [
  {
   "cell_type": "code",
   "execution_count": 4,
   "id": "b0991c91",
   "metadata": {},
   "outputs": [
    {
     "name": "stdout",
     "output_type": "stream",
     "text": [
      "IPython console for SymPy 1.8 (Python 3.6.13-64-bit) (ground types: gmpy)\n",
      "\n",
      "These commands were executed:\n",
      ">>> from __future__ import division\n",
      ">>> from sympy import *\n",
      ">>> x, y, z, t = symbols('x y z t')\n",
      ">>> k, m, n = symbols('k m n', integer=True)\n",
      ">>> f, g, h = symbols('f g h', cls=Function)\n",
      ">>> init_printing()\n",
      "\n",
      "Documentation can be found at https://docs.sympy.org/1.8/\n",
      "\n"
     ]
    }
   ],
   "source": [
    "from sympy import *\n",
    "import pandas as pd\n",
    "import numpy as np\n",
    "import scipy as sc\n",
    "import matplotlib.pyplot as plt\n",
    "\n",
    "%matplotlib inline\n",
    "\n",
    "\n",
    "init_session()"
   ]
  },
  {
   "cell_type": "code",
   "execution_count": 4,
   "id": "d6b3391d",
   "metadata": {},
   "outputs": [],
   "source": [
    "def analisis_discreto(str_datos):\n",
    "    datos = np.loadtxt(str_datos.split())\n",
    "    datos = datos.astype(int)\n",
    "    #x_i, f_i, F_i, r_i  = np.unique(datos),np.bincount(datos), cumfreq(datos, numbins=len(np.unique(datos)))[0].astype(int), np.multiply(relfreq(datos, numbins=len(np.unique(datos)))[0],100)\n",
    "    tabla = pd.DataFrame({'x_i':np.unique(datos), 'f_i':np.unique(datos, return_counts=True)[1], 'F_i':np.unique(datos, return_counts=True)[1].cumsum(), 'h_i':np.unique(datos, return_counts=True)[1]/len(datos), 'H_i':(np.unique(datos, return_counts=True)[1]/len(datos)).cumsum(), '%_i':np.unique(datos, return_counts=True)[1]*100/len(datos), '%A_i':(np.unique(datos, return_counts=True)[1]*100/len(datos)).cumsum()}).set_index('x_i')\n",
    "    tabla.reset_index(inplace=True)\n",
    "    tabla.loc['suma']=tabla.sum()\n",
    "    d = np.diff(np.unique(datos)).min()\n",
    "    left_of_first_bin = datos.min() - float(d)/2\n",
    "    right_of_last_bin = datos.max() + float(d)/2\n",
    "    plt.clf()\n",
    "    plt.hist(datos, np.arange(left_of_first_bin, right_of_last_bin + d, d), rwidth=0.9, cumulative = False)\n",
    "    plt.title(\"Diagrama\")\n",
    "    fg=plt.figure\n",
    "\n",
    "    \n",
    "#     solucion.append({\"media\":datos.mean(), \"mediana\":np.percentile(datos,50), \"moda\":stats.mode(datos)})\n",
    "#     solucion.append({\"P70\":np.percentile(datos,70), \"Q1\":np.percentile(datos,25),\"Q3\":np.percentile(datos,75),\"D4\":np.percentile(datos,40),})\n",
    "#     solucion.append({\"rango\":np.amax(datos)-np.amin(datos), \"varianza\": np.var(datos), \"desviación típica\":sqrt(np.var(datos)), \"coeficiente variación\": sqrt(np.var(datos))/abs(np.mean(datos))})\n",
    "#     display(tabla, solucion[2] , solucion[3], solucion[4])\n",
    "    dic=dict()\n",
    "    dic['datos']=datos\n",
    "    dic['tabla']=tabla\n",
    "    dic['figure']=fg\n",
    "    return  dic\n",
    "\n"
   ]
  },
  {
   "cell_type": "code",
   "execution_count": 5,
   "id": "a0d21963",
   "metadata": {},
   "outputs": [
    {
     "data": {
      "text/html": [
       "<div>\n",
       "<style scoped>\n",
       "    .dataframe tbody tr th:only-of-type {\n",
       "        vertical-align: middle;\n",
       "    }\n",
       "\n",
       "    .dataframe tbody tr th {\n",
       "        vertical-align: top;\n",
       "    }\n",
       "\n",
       "    .dataframe thead th {\n",
       "        text-align: right;\n",
       "    }\n",
       "</style>\n",
       "<table border=\"1\" class=\"dataframe\">\n",
       "  <thead>\n",
       "    <tr style=\"text-align: right;\">\n",
       "      <th></th>\n",
       "      <th>x_i</th>\n",
       "      <th>f_i</th>\n",
       "      <th>F_i</th>\n",
       "      <th>h_i</th>\n",
       "      <th>H_i</th>\n",
       "      <th>%_i</th>\n",
       "      <th>%A_i</th>\n",
       "    </tr>\n",
       "  </thead>\n",
       "  <tbody>\n",
       "    <tr>\n",
       "      <th>0</th>\n",
       "      <td>1.0</td>\n",
       "      <td>1.0</td>\n",
       "      <td>1.0</td>\n",
       "      <td>0.033333</td>\n",
       "      <td>0.033333</td>\n",
       "      <td>3.333333</td>\n",
       "      <td>3.333333</td>\n",
       "    </tr>\n",
       "    <tr>\n",
       "      <th>1</th>\n",
       "      <td>2.0</td>\n",
       "      <td>1.0</td>\n",
       "      <td>2.0</td>\n",
       "      <td>0.033333</td>\n",
       "      <td>0.066667</td>\n",
       "      <td>3.333333</td>\n",
       "      <td>6.666667</td>\n",
       "    </tr>\n",
       "    <tr>\n",
       "      <th>2</th>\n",
       "      <td>3.0</td>\n",
       "      <td>3.0</td>\n",
       "      <td>5.0</td>\n",
       "      <td>0.100000</td>\n",
       "      <td>0.166667</td>\n",
       "      <td>10.000000</td>\n",
       "      <td>16.666667</td>\n",
       "    </tr>\n",
       "    <tr>\n",
       "      <th>3</th>\n",
       "      <td>4.0</td>\n",
       "      <td>1.0</td>\n",
       "      <td>6.0</td>\n",
       "      <td>0.033333</td>\n",
       "      <td>0.200000</td>\n",
       "      <td>3.333333</td>\n",
       "      <td>20.000000</td>\n",
       "    </tr>\n",
       "    <tr>\n",
       "      <th>4</th>\n",
       "      <td>5.0</td>\n",
       "      <td>2.0</td>\n",
       "      <td>8.0</td>\n",
       "      <td>0.066667</td>\n",
       "      <td>0.266667</td>\n",
       "      <td>6.666667</td>\n",
       "      <td>26.666667</td>\n",
       "    </tr>\n",
       "    <tr>\n",
       "      <th>5</th>\n",
       "      <td>6.0</td>\n",
       "      <td>2.0</td>\n",
       "      <td>10.0</td>\n",
       "      <td>0.066667</td>\n",
       "      <td>0.333333</td>\n",
       "      <td>6.666667</td>\n",
       "      <td>33.333333</td>\n",
       "    </tr>\n",
       "    <tr>\n",
       "      <th>6</th>\n",
       "      <td>7.0</td>\n",
       "      <td>1.0</td>\n",
       "      <td>11.0</td>\n",
       "      <td>0.033333</td>\n",
       "      <td>0.366667</td>\n",
       "      <td>3.333333</td>\n",
       "      <td>36.666667</td>\n",
       "    </tr>\n",
       "    <tr>\n",
       "      <th>7</th>\n",
       "      <td>8.0</td>\n",
       "      <td>2.0</td>\n",
       "      <td>13.0</td>\n",
       "      <td>0.066667</td>\n",
       "      <td>0.433333</td>\n",
       "      <td>6.666667</td>\n",
       "      <td>43.333333</td>\n",
       "    </tr>\n",
       "    <tr>\n",
       "      <th>8</th>\n",
       "      <td>9.0</td>\n",
       "      <td>1.0</td>\n",
       "      <td>14.0</td>\n",
       "      <td>0.033333</td>\n",
       "      <td>0.466667</td>\n",
       "      <td>3.333333</td>\n",
       "      <td>46.666667</td>\n",
       "    </tr>\n",
       "    <tr>\n",
       "      <th>9</th>\n",
       "      <td>10.0</td>\n",
       "      <td>5.0</td>\n",
       "      <td>19.0</td>\n",
       "      <td>0.166667</td>\n",
       "      <td>0.633333</td>\n",
       "      <td>16.666667</td>\n",
       "      <td>63.333333</td>\n",
       "    </tr>\n",
       "    <tr>\n",
       "      <th>10</th>\n",
       "      <td>11.0</td>\n",
       "      <td>1.0</td>\n",
       "      <td>20.0</td>\n",
       "      <td>0.033333</td>\n",
       "      <td>0.666667</td>\n",
       "      <td>3.333333</td>\n",
       "      <td>66.666667</td>\n",
       "    </tr>\n",
       "    <tr>\n",
       "      <th>11</th>\n",
       "      <td>12.0</td>\n",
       "      <td>3.0</td>\n",
       "      <td>23.0</td>\n",
       "      <td>0.100000</td>\n",
       "      <td>0.766667</td>\n",
       "      <td>10.000000</td>\n",
       "      <td>76.666667</td>\n",
       "    </tr>\n",
       "    <tr>\n",
       "      <th>12</th>\n",
       "      <td>14.0</td>\n",
       "      <td>1.0</td>\n",
       "      <td>24.0</td>\n",
       "      <td>0.033333</td>\n",
       "      <td>0.800000</td>\n",
       "      <td>3.333333</td>\n",
       "      <td>80.000000</td>\n",
       "    </tr>\n",
       "    <tr>\n",
       "      <th>13</th>\n",
       "      <td>15.0</td>\n",
       "      <td>1.0</td>\n",
       "      <td>25.0</td>\n",
       "      <td>0.033333</td>\n",
       "      <td>0.833333</td>\n",
       "      <td>3.333333</td>\n",
       "      <td>83.333333</td>\n",
       "    </tr>\n",
       "    <tr>\n",
       "      <th>14</th>\n",
       "      <td>16.0</td>\n",
       "      <td>3.0</td>\n",
       "      <td>28.0</td>\n",
       "      <td>0.100000</td>\n",
       "      <td>0.933333</td>\n",
       "      <td>10.000000</td>\n",
       "      <td>93.333333</td>\n",
       "    </tr>\n",
       "    <tr>\n",
       "      <th>15</th>\n",
       "      <td>17.0</td>\n",
       "      <td>1.0</td>\n",
       "      <td>29.0</td>\n",
       "      <td>0.033333</td>\n",
       "      <td>0.966667</td>\n",
       "      <td>3.333333</td>\n",
       "      <td>96.666667</td>\n",
       "    </tr>\n",
       "    <tr>\n",
       "      <th>16</th>\n",
       "      <td>20.0</td>\n",
       "      <td>1.0</td>\n",
       "      <td>30.0</td>\n",
       "      <td>0.033333</td>\n",
       "      <td>1.000000</td>\n",
       "      <td>3.333333</td>\n",
       "      <td>100.000000</td>\n",
       "    </tr>\n",
       "    <tr>\n",
       "      <th>suma</th>\n",
       "      <td>160.0</td>\n",
       "      <td>30.0</td>\n",
       "      <td>268.0</td>\n",
       "      <td>1.000000</td>\n",
       "      <td>8.933333</td>\n",
       "      <td>100.000000</td>\n",
       "      <td>893.333333</td>\n",
       "    </tr>\n",
       "  </tbody>\n",
       "</table>\n",
       "</div>"
      ],
      "text/plain": [
       "        x_i   f_i    F_i       h_i       H_i         %_i        %A_i\n",
       "0       1.0   1.0    1.0  0.033333  0.033333    3.333333    3.333333\n",
       "1       2.0   1.0    2.0  0.033333  0.066667    3.333333    6.666667\n",
       "2       3.0   3.0    5.0  0.100000  0.166667   10.000000   16.666667\n",
       "3       4.0   1.0    6.0  0.033333  0.200000    3.333333   20.000000\n",
       "4       5.0   2.0    8.0  0.066667  0.266667    6.666667   26.666667\n",
       "5       6.0   2.0   10.0  0.066667  0.333333    6.666667   33.333333\n",
       "6       7.0   1.0   11.0  0.033333  0.366667    3.333333   36.666667\n",
       "7       8.0   2.0   13.0  0.066667  0.433333    6.666667   43.333333\n",
       "8       9.0   1.0   14.0  0.033333  0.466667    3.333333   46.666667\n",
       "9      10.0   5.0   19.0  0.166667  0.633333   16.666667   63.333333\n",
       "10     11.0   1.0   20.0  0.033333  0.666667    3.333333   66.666667\n",
       "11     12.0   3.0   23.0  0.100000  0.766667   10.000000   76.666667\n",
       "12     14.0   1.0   24.0  0.033333  0.800000    3.333333   80.000000\n",
       "13     15.0   1.0   25.0  0.033333  0.833333    3.333333   83.333333\n",
       "14     16.0   3.0   28.0  0.100000  0.933333   10.000000   93.333333\n",
       "15     17.0   1.0   29.0  0.033333  0.966667    3.333333   96.666667\n",
       "16     20.0   1.0   30.0  0.033333  1.000000    3.333333  100.000000\n",
       "suma  160.0  30.0  268.0  1.000000  8.933333  100.000000  893.333333"
      ]
     },
     "execution_count": 5,
     "metadata": {},
     "output_type": "execute_result"
    },
    {
     "data": {
      "image/png": "[encoded data removed]",
      "text/plain": [
       "<Figure size 432x288 with 1 Axes>"
      ]
     },
     "metadata": {
      "needs_background": "light"
     },
     "output_type": "display_data"
    }
   ],
   "source": [
    "%matplotlib inline\n",
    "dic=analisis_discreto( \"\"\"16 11 17 12 10 5 1 8 10 14 15 20 10 3 8 10 2 5 12 6 16 7 6 16 10 3 3 9 4 12\"\"\")\n",
    "dic['tabla']"
   ]
  },
  {
   "cell_type": "code",
   "execution_count": 13,
   "id": "324afe2e",
   "metadata": {},
   "outputs": [
    {
     "data": {
      "image/png": "[encoded data removed]",
      "text/latex": [
       "$\\displaystyle \\left( 6.2, \\  4.8\\right)$"
      ],
      "text/plain": [
       "(6.2, 4.800000000000001)"
      ]
     },
     "execution_count": 13,
     "metadata": {},
     "output_type": "execute_result"
    }
   ],
   "source": [
    "p=20\n",
    "(len(dic['datos'])+1)*p/100, np.percentile(dic['datos'],p,interpolation='linear')"
   ]
  },
  {
   "cell_type": "code",
   "execution_count": 29,
   "id": "a9ae0cb5",
   "metadata": {},
   "outputs": [
    {
     "data": {
      "text/plain": [
       "'1.19.2'"
      ]
     },
     "execution_count": 29,
     "metadata": {},
     "output_type": "execute_result"
    }
   ],
   "source": [
    "np.__version__"
   ]
  },
  {
   "cell_type": "code",
   "execution_count": 8,
   "id": "b722b0f0",
   "metadata": {},
   "outputs": [],
   "source": [
    "def analisis_agrupado(str_datos, bin_size = 10 ):\n",
    "    datos = np.loadtxt(str_datos.split())\n",
    "    datos = datos.astype(int)\n",
    "    \n",
    "    display(datos)\n",
    "    \n",
    "    #dfrec, dagr = np.histogram(datos,range=(5*int(datos.min()/5),5*(int(datos.max()/5)+1)), bins=round((5*(int(datos.max()/5)+1)-5*int(datos.min()/5))/bin_size))\n",
    "    dfrec, dagr = np.histogram(datos,range=(5*int(datos.min()/5),5*(int(datos.max()/5)+1)), bins = np.arange(5*int(datos.min()/5), 5*(int(datos.max()/5)+1)+bin_size,bin_size))\n",
    "\n",
    "    display(dfrec, dagr, )\n",
    "\n",
    "    display([dagr[i]+bin_size/2 for i in range(len(dagr)-1)])\n",
    "\n",
    "    marca = [dagr[i]+bin_size/2 for i in range(len(dagr)-1)]\n",
    "\n",
    "    datos2=[]\n",
    "    [datos2.append(np.ones(j)*marca[i]) for i, j in enumerate(dfrec) ]\n",
    "    #datos2.append([np.ones(j)*marca[i] for i, j in enumerate(dfrec) ])\n",
    "\n",
    "\n",
    "    datos2 = np.concatenate(datos2)\n",
    "    display(datos2)\n",
    "    datos = datos2\n",
    "    display(5*int(datos.min()/5),5*(int(datos.max()/5)+1),int((5*(int(datos.max()/5)+1)-5*int(datos.min()/5))/bin_size))\n",
    "\n",
    "    #display(np.array(datos2))\n",
    "\n",
    "    #x_i, f_i, F_i, r_i  = np.unique(datos),np.bincount(datos), cumfreq(datos, numbins=len(np.unique(datos)))[0].astype(int), np.multiply(relfreq(datos, numbins=len(np.unique(datos)))[0],100)\n",
    "    tabla = pd.DataFrame({'x_i':np.unique(datos), 'f_i':np.unique(datos, return_counts=True)[1], 'F_i':np.unique(datos, return_counts=True)[1].cumsum(), 'r_i':np.unique(datos, return_counts=True)[1]/len(datos), 'R_i':(np.unique(datos, return_counts=True)[1]/len(datos)).cumsum(), '%_i':np.unique(datos, return_counts=True)[1]*100/len(datos), '%A_i':(np.unique(datos, return_counts=True)[1]*100/len(datos)).cumsum()}).set_index('x_i')\n",
    "\n",
    "    d = np.diff(np.unique(datos)).min()\n",
    "    left_of_first_bin = datos.min() - float(d)/2\n",
    "    right_of_last_bin = datos.max() + float(d)/2\n",
    "    plt.clf()\n",
    "    plt.hist(datos, np.arange(left_of_first_bin, right_of_last_bin + d, d), rwidth=0.9, cumulative = False)\n",
    "    plt.title(\"Histograma\")\n",
    "    fg=plt.figure\n",
    "    \n",
    "    dic=dict()\n",
    "    dic['datos']=datos\n",
    "    dic['tabla']=tabla\n",
    "    dic['figure']=fg\n",
    "\n",
    "\n",
    "#     solucion.append({\"media\":datos.mean(), \"mediana\":np.percentile(datos,50), \"moda\":stats.mode(datos)})\n",
    "#     solucion.append({\"Q1\":np.percentile(datos,25),\"Q3\":np.percentile(datos,75)})\n",
    "#     solucion.append({\"rango\":np.amax(datos)-np.amin(datos), \"varianza\": np.var(datos), \"desviación típica\":sqrt(np.var(datos)), \"coeficiente variación\": sqrt(np.var(datos))/abs(np.mean(datos))})\n",
    "#     display(tabla, solucion[2] , solucion[3], solucion[4])\n",
    "    return  dic"
   ]
  },
  {
   "cell_type": "code",
   "execution_count": 10,
   "id": "2625d37f",
   "metadata": {},
   "outputs": [
    {
     "data": {
      "text/plain": [
       "array([174, 157, 168, 166, 169, 168, 173, 184, 176, 171, 172, 168, 167,\n",
       "       162, 162, 163, 166, 166, 167, 167, 174, 159, 170, 172, 173, 164,\n",
       "       161, 163, 176, 177])"
      ]
     },
     "metadata": {},
     "output_type": "display_data"
    },
    {
     "data": {
      "text/plain": [
       "array([ 8, 18,  4])"
      ]
     },
     "metadata": {},
     "output_type": "display_data"
    },
    {
     "data": {
      "text/plain": [
       "array([155, 165, 175, 185])"
      ]
     },
     "metadata": {},
     "output_type": "display_data"
    },
    {
     "data": {
      "image/png": "[encoded data removed]",
      "text/latex": [
       "$\\displaystyle \\left[ 160.0, \\  170.0, \\  180.0\\right]$"
      ],
      "text/plain": [
       "[160.0, 170.0, 180.0]"
      ]
     },
     "metadata": {},
     "output_type": "display_data"
    },
    {
     "data": {
      "text/plain": [
       "array([160., 160., 160., 160., 160., 160., 160., 160., 170., 170., 170.,\n",
       "       170., 170., 170., 170., 170., 170., 170., 170., 170., 170., 170.,\n",
       "       170., 170., 170., 170., 180., 180., 180., 180.])"
      ]
     },
     "metadata": {},
     "output_type": "display_data"
    },
    {
     "data": {
      "image/png": "[encoded data removed]",
      "text/latex": [
       "$\\displaystyle 160$"
      ],
      "text/plain": [
       "160"
      ]
     },
     "metadata": {},
     "output_type": "display_data"
    },
    {
     "data": {
      "image/png": "[encoded data removed]",
      "text/latex": [
       "$\\displaystyle 185$"
      ],
      "text/plain": [
       "185"
      ]
     },
     "metadata": {},
     "output_type": "display_data"
    },
    {
     "data": {
      "image/png": "[encoded data removed]",
      "text/latex": [
       "$\\displaystyle 2$"
      ],
      "text/plain": [
       "2"
      ]
     },
     "metadata": {},
     "output_type": "display_data"
    },
    {
     "data": {
      "text/plain": [
       "{'datos': array([160., 160., 160., 160., 160., 160., 160., 160., 170., 170., 170.,\n",
       "        170., 170., 170., 170., 170., 170., 170., 170., 170., 170., 170.,\n",
       "        170., 170., 170., 170., 180., 180., 180., 180.]),\n",
       " 'tabla':        f_i  F_i       r_i       R_i        %_i        %A_i\n",
       " x_i                                                       \n",
       " 160.0    8    8  0.266667  0.266667  26.666667   26.666667\n",
       " 170.0   18   26  0.600000  0.866667  60.000000   86.666667\n",
       " 180.0    4   30  0.133333  1.000000  13.333333  100.000000,\n",
       " 'figure': <function matplotlib.pyplot.figure(num=None, figsize=None, dpi=None, facecolor=None, edgecolor=None, frameon=True, FigureClass=<class 'matplotlib.figure.Figure'>, clear=False, **kwargs)>}"
      ]
     },
     "execution_count": 10,
     "metadata": {},
     "output_type": "execute_result"
    },
    {
     "data": {
      "image/png": "[encoded data removed]",
      "text/plain": [
       "<Figure size 432x288 with 1 Axes>"
      ]
     },
     "metadata": {
      "needs_background": "light"
     },
     "output_type": "display_data"
    }
   ],
   "source": [
    "%matplotlib inline\n",
    "str='174 157 168 166 169 168 173 184 176 171 172 168 167 162 162 163 166 166 167 167 174 159 170 172 173 164 161 163 176 177'\n",
    "analisis_agrupado(str)"
   ]
  }
 ],
 "metadata": {
  "kernelspec": {
   "display_name": "Python 3",
   "language": "python",
   "name": "python3"
  },
  "language_info": {
   "codemirror_mode": {
    "name": "ipython",
    "version": 3
   },
   "file_extension": ".py",
   "mimetype": "text/x-python",
   "name": "python",
   "nbconvert_exporter": "python",
   "pygments_lexer": "ipython3",
   "version": "3.6.13"
  }
 },
 "nbformat": 4,
 "nbformat_minor": 5
}
