{
 "cells": [
  {
   "cell_type": "markdown",
   "metadata": {},
   "source": [
    "<a href=\"https://colab.research.google.com/github/crdguez/mat1bac_cit/blob/master/notebooks/Ejercicios1_3.ipynb\"><img align=\"left\" src=\"https://colab.research.google.com/assets/colab-badge.svg\" alt=\"Open in Colab\" title=\"Open and Execute in Google Colaboratory\"></a>"
   ]
  },
  {
   "cell_type": "code",
   "execution_count": 1,
   "metadata": {},
   "outputs": [
    {
     "name": "stdout",
     "output_type": "stream",
     "text": [
      "IPython console for SymPy 1.2 (Python 3.6.5-64-bit) (ground types: gmpy)\n",
      "\n",
      "These commands were executed:\n",
      ">>> from __future__ import division\n",
      ">>> from sympy import *\n",
      ">>> x, y, z, t = symbols('x y z t')\n",
      ">>> k, m, n = symbols('k m n', integer=True)\n",
      ">>> f, g, h = symbols('f g h', cls=Function)\n",
      ">>> init_printing()\n",
      "\n",
      "Documentation can be found at http://docs.sympy.org/1.2/\n",
      "\n"
     ]
    }
   ],
   "source": [
    "from sympy import init_session\n",
    "from sympy import div, QQ\n",
    "from sympy.parsing.latex import parse_latex\n",
    "from sympy.parsing.sympy_parser import parse_expr\n",
    "#from sympy.functions.combinatorial.numbers import nC, nP, nT\n",
    "from IPython.display import Markdown as md\n",
    "from IPython.display import display\n",
    "import pandas as pd\n",
    "\n",
    "init_session()\n",
    "\n",
    "a, b, c, d = symbols('a b c d', real = True)\n",
    "from docparts import añadir_ejercicios, doc_ejer, escribir_preambulo, escribir_ejercicios, escribir_fin\n",
    "\n",
    "df_ejercicios = pd.DataFrame()\n",
    "\n",
    "fichero = 'ecuacionesg2'\n",
    "titulo = '6 - Ecuaciones de segundo grado'\n",
    "curso = '1BC'\n",
    "\n"
   ]
  },
  {
   "cell_type": "code",
   "execution_count": 2,
   "metadata": {},
   "outputs": [
    {
     "data": {
      "text/markdown": [
       "**Resuelve las ecuaciones:**"
      ],
      "text/plain": [
       "<IPython.core.display.Markdown object>"
      ]
     },
     "metadata": {},
     "output_type": "display_data"
    },
    {
     "data": {
      "text/markdown": [
       "${x^2} + 6 \\rightarrow \\emptyset$"
      ],
      "text/plain": [
       "<IPython.core.display.Markdown object>"
      ]
     },
     "metadata": {},
     "output_type": "display_data"
    },
    {
     "data": {
      "text/markdown": [
       "${x^2} - 9 \\rightarrow \\left\\{-3, 3\\right\\}$"
      ],
      "text/plain": [
       "<IPython.core.display.Markdown object>"
      ]
     },
     "metadata": {},
     "output_type": "display_data"
    },
    {
     "data": {
      "text/markdown": [
       "${x^2} + 3x \\rightarrow \\left\\{-3, 0\\right\\}$"
      ],
      "text/plain": [
       "<IPython.core.display.Markdown object>"
      ]
     },
     "metadata": {},
     "output_type": "display_data"
    },
    {
     "data": {
      "text/markdown": [
       "$3{x^2} - 11x \\rightarrow \\left\\{0, \\frac{11}{3}\\right\\}$"
      ],
      "text/plain": [
       "<IPython.core.display.Markdown object>"
      ]
     },
     "metadata": {},
     "output_type": "display_data"
    },
    {
     "data": {
      "text/markdown": [
       "$4{x^2} - 32x \\rightarrow \\left\\{0, 8\\right\\}$"
      ],
      "text/plain": [
       "<IPython.core.display.Markdown object>"
      ]
     },
     "metadata": {},
     "output_type": "display_data"
    },
    {
     "data": {
      "text/markdown": [
       "$5{x^2} \\rightarrow \\left\\{0\\right\\}$"
      ],
      "text/plain": [
       "<IPython.core.display.Markdown object>"
      ]
     },
     "metadata": {},
     "output_type": "display_data"
    },
    {
     "data": {
      "text/markdown": [
       "$12{x^2} - 18  \\rightarrow \\left\\{- \\frac{\\sqrt{6}}{2}, \\frac{\\sqrt{6}}{2}\\right\\}$"
      ],
      "text/plain": [
       "<IPython.core.display.Markdown object>"
      ]
     },
     "metadata": {},
     "output_type": "display_data"
    },
    {
     "data": {
      "text/markdown": [
       "$3( {1 - x} )( {x + 1} ) \\rightarrow \\left\\{0\\right\\}$"
      ],
      "text/plain": [
       "<IPython.core.display.Markdown object>"
      ]
     },
     "metadata": {},
     "output_type": "display_data"
    },
    {
     "data": {
      "text/markdown": [
       "$3( {{x^2} - 2} ) \\rightarrow \\left\\{-3, 3\\right\\}$"
      ],
      "text/plain": [
       "<IPython.core.display.Markdown object>"
      ]
     },
     "metadata": {},
     "output_type": "display_data"
    }
   ],
   "source": [
    "# Página 16 ejercicio 1\n",
    "\n",
    "texto_ejercicio = 'Resuelve las ecuaciones:'\n",
    "n_ejercicio = 'p016e01'\n",
    "\n",
    "display(md(\"**\"+texto_ejercicio+\"**\"))\n",
    "\n",
    "pre_enunciado_latex = [[r'{x^2} + 6',r'0'],\n",
    "                       [r'{x^2} - 9',r'0'],\n",
    "                       [r'{x^2} + 3x',r'0'],\n",
    "                       [r'3{x^2} - 11x',r'0'],\n",
    "                       [r'4{x^2} - 32x',r'0'],\n",
    "                       [r'5{x^2}',r'0'],\n",
    "                       [r'12{x^2} - 18 ',r'0'],\n",
    "                       [r'3( {1 - x} )( {x + 1} )',r'3'],\n",
    "                       [r'3( {{x^2} - 2} )',r'21']\n",
    "\n",
    "                      ]\n",
    "\n",
    "\n",
    "\n",
    "\n",
    "enunciado_latex,enunciado, solucion = [], [], []\n",
    "\n",
    "for i, s in enumerate(pre_enunciado_latex) :\n",
    "    enunciado_latex.append(latex(Eq(parse_latex(s[0]),parse_latex(s[1]))))\n",
    "    enunciado.append(Eq(parse_latex(s[0]),parse_latex(s[1])))\n",
    "    solucion.append(latex(solveset(enunciado[i], domain=S.Reals))) \n",
    "    display(md(\"$\"+ s[0] +\" \\\\rightarrow \" + solucion[i] +\"$\"))\n",
    "\n",
    "df_ejercicios = df_ejercicios.append(añadir_ejercicios(enunciado_latex, enunciado, solucion, texto_ejercicio, curso, titulo , n_ejercicio, '1', '2'), ignore_index=True)\n"
   ]
  },
  {
   "cell_type": "code",
   "execution_count": 3,
   "metadata": {},
   "outputs": [
    {
     "data": {
      "text/markdown": [
       "**Resuelve las ecuaciones:**"
      ],
      "text/plain": [
       "<IPython.core.display.Markdown object>"
      ]
     },
     "metadata": {},
     "output_type": "display_data"
    },
    {
     "data": {
      "text/markdown": [
       "$2{x^2} + 11x - 6 \\rightarrow \\left\\{-6, \\frac{1}{2}\\right\\}$"
      ],
      "text/plain": [
       "<IPython.core.display.Markdown object>"
      ]
     },
     "metadata": {},
     "output_type": "display_data"
    },
    {
     "data": {
      "text/markdown": [
       "${x^2} - 10x + 25 \\rightarrow \\left\\{5\\right\\}$"
      ],
      "text/plain": [
       "<IPython.core.display.Markdown object>"
      ]
     },
     "metadata": {},
     "output_type": "display_data"
    },
    {
     "data": {
      "text/markdown": [
       "$x^2 + x + 1 \\rightarrow \\emptyset$"
      ],
      "text/plain": [
       "<IPython.core.display.Markdown object>"
      ]
     },
     "metadata": {},
     "output_type": "display_data"
    },
    {
     "data": {
      "text/markdown": [
       "${x^2} - 2x - 1 \\rightarrow \\left\\{1 + \\sqrt{2}, - \\sqrt{2} + 1\\right\\}$"
      ],
      "text/plain": [
       "<IPython.core.display.Markdown object>"
      ]
     },
     "metadata": {},
     "output_type": "display_data"
    },
    {
     "data": {
      "text/markdown": [
       "$3{x^2} + 5x - 2 \\rightarrow \\left\\{-2, \\frac{1}{3}\\right\\}$"
      ],
      "text/plain": [
       "<IPython.core.display.Markdown object>"
      ]
     },
     "metadata": {},
     "output_type": "display_data"
    },
    {
     "data": {
      "text/markdown": [
       "$4{x^2} - 4x + 1  \\rightarrow \\left\\{\\frac{1}{2}\\right\\}$"
      ],
      "text/plain": [
       "<IPython.core.display.Markdown object>"
      ]
     },
     "metadata": {},
     "output_type": "display_data"
    },
    {
     "data": {
      "text/markdown": [
       "$2{x^2} - 9x + 11 \\rightarrow \\emptyset$"
      ],
      "text/plain": [
       "<IPython.core.display.Markdown object>"
      ]
     },
     "metadata": {},
     "output_type": "display_data"
    }
   ],
   "source": [
    "# Página 16 ejercicio 2\n",
    "\n",
    "texto_ejercicio = 'Resuelve las ecuaciones:'\n",
    "n_ejercicio = 'p016e02'\n",
    "\n",
    "display(md(\"**\"+texto_ejercicio+\"**\"))\n",
    "\n",
    "pre_enunciado_latex = [[r'2{x^2} + 11x - 6',r'0'],\n",
    "                       [r'{x^2} - 10x + 25',r'0'],\n",
    "                       [r'x^2 + x + 1',r'0'],\n",
    "                       [r'{x^2} - 2x - 1',r'0'],\n",
    "                       [r'3{x^2} + 5x - 2',r'0'],\n",
    "                       [r'4{x^2} - 4x + 1 ',r'0'],\n",
    "                       [r'2{x^2} - 9x + 11',r'0']\n",
    "                       \n",
    "\n",
    "                      ]\n",
    "\n",
    "\n",
    "\n",
    "\n",
    "enunciado_latex,enunciado, solucion = [], [], []\n",
    "\n",
    "for i, s in enumerate(pre_enunciado_latex) :\n",
    "    enunciado_latex.append(latex(Eq(parse_latex(s[0]),parse_latex(s[1]))))\n",
    "    enunciado.append(Eq(parse_latex(s[0]),parse_latex(s[1])))\n",
    "    solucion.append(latex(solveset(enunciado[i], domain=S.Reals))) \n",
    "    display(md(\"$\"+ s[0] +\" \\\\rightarrow \" + solucion[i] +\"$\"))\n",
    "\n",
    "df_ejercicios = df_ejercicios.append(añadir_ejercicios(enunciado_latex, enunciado, solucion, texto_ejercicio, curso, titulo , n_ejercicio, '1', '2'), ignore_index=True)\n"
   ]
  },
  {
   "cell_type": "code",
   "execution_count": 4,
   "metadata": {},
   "outputs": [
    {
     "data": {
      "text/markdown": [
       "**Resuelve las ecuaciones:**"
      ],
      "text/plain": [
       "<IPython.core.display.Markdown object>"
      ]
     },
     "metadata": {},
     "output_type": "display_data"
    },
    {
     "data": {
      "text/markdown": [
       "$- x \\left(x - 2\\right) + 9 = 4 x + 6 \\rightarrow \\left\\{-3, 1\\right\\}$"
      ],
      "text/plain": [
       "<IPython.core.display.Markdown object>"
      ]
     },
     "metadata": {},
     "output_type": "display_data"
    },
    {
     "data": {
      "text/markdown": [
       "$- \\left(x - 1\\right) \\left(x + 4\\right) + 2 \\left(x^{2} - 3\\right) = x - 2 \\rightarrow \\left\\{0, 4\\right\\}$"
      ],
      "text/plain": [
       "<IPython.core.display.Markdown object>"
      ]
     },
     "metadata": {},
     "output_type": "display_data"
    },
    {
     "data": {
      "text/markdown": [
       "$x \\left(x - 1\\right) - 2 \\left(x - 3\\right) \\left(x - 2\\right) = 2 \\rightarrow \\left\\{2, 7\\right\\}$"
      ],
      "text/plain": [
       "<IPython.core.display.Markdown object>"
      ]
     },
     "metadata": {},
     "output_type": "display_data"
    },
    {
     "data": {
      "text/markdown": [
       "$\\left(2 x^{2} - 11 x\\right) + 12 = 0 \\rightarrow \\left\\{\\frac{3}{2}, 4\\right\\}$"
      ],
      "text/plain": [
       "<IPython.core.display.Markdown object>"
      ]
     },
     "metadata": {},
     "output_type": "display_data"
    },
    {
     "data": {
      "text/markdown": [
       "$3 \\left(x - 1\\right) \\left(x + 2\\right) = 0 \\rightarrow \\left\\{-2, 1\\right\\}$"
      ],
      "text/plain": [
       "<IPython.core.display.Markdown object>"
      ]
     },
     "metadata": {},
     "output_type": "display_data"
    },
    {
     "data": {
      "text/markdown": [
       "$\\left(x - 2\\right)^{2} = 3 \\rightarrow \\left\\{- \\sqrt{3} + 2, \\sqrt{3} + 2\\right\\}$"
      ],
      "text/plain": [
       "<IPython.core.display.Markdown object>"
      ]
     },
     "metadata": {},
     "output_type": "display_data"
    },
    {
     "data": {
      "text/markdown": [
       "$21 x - 100 = - x + \\left(x^{2} + 21\\right) \\rightarrow \\left\\{11\\right\\}$"
      ],
      "text/plain": [
       "<IPython.core.display.Markdown object>"
      ]
     },
     "metadata": {},
     "output_type": "display_data"
    },
    {
     "data": {
      "text/markdown": [
       "$\\frac{x}{3} \\left(x - \\frac{1}{6}\\right) = x - 1 \\rightarrow \\emptyset$"
      ],
      "text/plain": [
       "<IPython.core.display.Markdown object>"
      ]
     },
     "metadata": {},
     "output_type": "display_data"
    },
    {
     "data": {
      "text/markdown": [
       "$\\left(- \\frac{x}{3} + \\frac{1}{3}\\right) + \\frac{2 x^{2} + 1}{2} = \\frac{- x + 1}{6} \\rightarrow \\emptyset$"
      ],
      "text/plain": [
       "<IPython.core.display.Markdown object>"
      ]
     },
     "metadata": {},
     "output_type": "display_data"
    }
   ],
   "source": [
    "# Página 16 ejercicio 3\n",
    "\n",
    "texto_ejercicio = 'Resuelve las ecuaciones:'\n",
    "n_ejercicio = 'p016e03'\n",
    "\n",
    "display(md(\"**\"+texto_ejercicio+\"**\"))\n",
    "\n",
    "pre_enunciado_latex = [[r'9 - (x)(x - 2) ',r'4x + 6'],\n",
    "                       [r'2( {{x^2} - 3} ) - ( {x - 1} )( {x + 4} ) ',r'x - 2'],\n",
    "                       [r'(x)( {x - 1} ) - 2( {x - 2} )( {x - 3} )',r'2'],\n",
    "                       [r'2{x^2} - 11x + 12 ',r'0'],\n",
    "                       [r'3( {x - 1} )( {x + 2}) ',r'0'],\n",
    "                       [r'( {x - 2})^2 ',r'3'],\n",
    "                       [r'21x - 100',r'{x^2} + 21 - x'],\n",
    "                       [r'\\frac{x}{3}( {x - \\frac{1}{6}} )',r' x - 1'],\n",
    "                       [r'\\frac{{2{x^2} + 1}}{2} - \\frac{{x - 1}}{3} ',r' \\frac{{1 - x}}{6}']\n",
    "                                       \n",
    "\n",
    "                      ]\n",
    "\n",
    "\n",
    "\n",
    "enunciado_latex,enunciado, solucion = [], [], []\n",
    "\n",
    "for i, s in enumerate(pre_enunciado_latex) :\n",
    "    enunciado_latex.append(latex(Eq(parse_latex(s[0]),parse_latex(s[1]))))\n",
    "    enunciado.append(Eq(parse_latex(s[0]),parse_latex(s[1])))\n",
    "    solucion.append(latex(solveset(enunciado[i], domain=S.Reals))) \n",
    "    display(md(\"$\"+ enunciado_latex[i] +\" \\\\rightarrow \" + solucion[i] +\"$\"))\n",
    "\n",
    "df_ejercicios = df_ejercicios.append(añadir_ejercicios(enunciado_latex, enunciado, solucion, texto_ejercicio, curso, titulo , n_ejercicio, '1', '2'), ignore_index=True)\n"
   ]
  },
  {
   "cell_type": "code",
   "execution_count": null,
   "metadata": {},
   "outputs": [
    {
     "data": {
      "text/markdown": [
       "**Resuelve las siguientes ecuaciones de segundo grado, pasándolas previamente a la forma general:**"
      ],
      "text/plain": [
       "<IPython.core.display.Markdown object>"
      ]
     },
     "metadata": {},
     "output_type": "display_data"
    },
    {
     "data": {
      "text/markdown": [
       "$\\frac{x + 1}{x - 1} - \\frac{1}{x} = \\frac{5}{2} \\rightarrow \\left\\{- \\frac{1}{3}, 2\\right\\}$"
      ],
      "text/plain": [
       "<IPython.core.display.Markdown object>"
      ]
     },
     "metadata": {},
     "output_type": "display_data"
    },
    {
     "data": {
      "text/markdown": [
       "$- \\frac{2}{x + 1} + \\frac{3 x + 2}{x - 1} = 5 \\rightarrow \\left\\{- \\frac{3}{2}, 3\\right\\}$"
      ],
      "text/plain": [
       "<IPython.core.display.Markdown object>"
      ]
     },
     "metadata": {},
     "output_type": "display_data"
    },
    {
     "data": {
      "text/markdown": [
       "$- \\frac{x}{x + 4} + 1 = \\frac{1}{x - 5} \\rightarrow \\left\\{8\\right\\}$"
      ],
      "text/plain": [
       "<IPython.core.display.Markdown object>"
      ]
     },
     "metadata": {},
     "output_type": "display_data"
    },
    {
     "data": {
      "text/markdown": [
       "$\\frac{x}{x + 1} + \\frac{x + 1}{x} = \\frac{13}{6} \\rightarrow \\left\\{-3, 2\\right\\}$"
      ],
      "text/plain": [
       "<IPython.core.display.Markdown object>"
      ]
     },
     "metadata": {},
     "output_type": "display_data"
    }
   ],
   "source": [
    "# Página 16 ejercicio 4\n",
    "\n",
    "texto_ejercicio = 'Resuelve las siguientes ecuaciones de segundo grado, pasándolas previamente a la forma general:'\n",
    "n_ejercicio = 'p016e04'\n",
    "\n",
    "display(md(\"**\"+texto_ejercicio+\"**\"))\n",
    "\n",
    "pre_enunciado_latex = [[r'\\frac{{x + 1}}{{x - 1}} - \\frac{1}{x}',r'\\frac{5}{2}'],\n",
    "                       [r'\\frac{{3x + 2}}{{x - 1}} - \\frac{2}{{x + 1}}',r'5'],\n",
    "                       [r'1 - \\frac{x}{{x + 4}}',r' \\frac{1}{{x - 5}}'],\n",
    "                       [r'\\frac{x}{{x + 1}} + \\frac{{x + 1}}{x}',r'\\frac{{13}}{6}'],\n",
    "                       [r'\\frac{{2( {2x + 1})}}{{2x - 1}} - \\frac{{3( {2x - 1})}}{{2x - 1}} + 5',r'0'],\n",
    "                       [r'\\frac{{x - 3}}{{x + 3}} + \\frac{{x + 3}}{{x - 3}}',r'\\frac{{x - 2}}{{x + 3}}'],\n",
    "                       [r'\\frac{{2x - 1}}{{x + 1}} - \\frac{{x - 7}}{{x - 1}}',r'4 - \\frac{{3x - 1}}{{x + 2}}'],\n",
    "                       [r'\\frac{{3x - 4}}{{5x - 16}}',r' \\frac{{4x + 1}}{{6x - 11}}'],\n",
    "                       [r'\\frac{{3 - x}}{5}',r' \\frac{2}{x} - \\frac{4}{5}'],\n",
    "                       [r'\\frac{{{x^2}}}{{x + 1}}',r'\\frac{{{x^3}}}{{{x^2} - 1}} - \\frac{1}{{x - 1}} + \\frac{1}{{1 - {x^2}}}'],\n",
    "                       [r'\\frac{5}{{2x + 6}}',r'\\frac{1}{{x( {x - 3} )}} + \\frac{1}{{( {x - 3} )( {x + 3} )}} + \\frac{1}{{x + 3}} - \\frac{1}{{x - 3}}'],\n",
    "                       [r'\\frac{4}{x} + \\frac{x}{2}',r'\\frac{{12}}{x}'],\n",
    "                       [r'\\frac{5}{{4{x^2}}} - \\frac{3}{{6{x^2}}}',r'\\frac{1}{3}'],\n",
    "                       [r'\\frac{{6 - x}}{3} - \\frac{{3( {x - 4} )}}{{6 + x}}',r'\\frac{{x - 2}}{2}']\n",
    "                       \n",
    "                      ]\n",
    "                                       \n",
    "\n",
    "\n",
    "\n",
    "\n",
    "enunciado_latex,enunciado, solucion = [], [], []\n",
    "\n",
    "for i, s in enumerate(pre_enunciado_latex) :\n",
    "    enunciado_latex.append(latex(Eq(parse_latex(s[0]),parse_latex(s[1]))))\n",
    "    enunciado.append(Eq(parse_latex(s[0]),parse_latex(s[1])))\n",
    "    solucion.append(latex(solveset(enunciado[i], domain=S.Reals))) \n",
    "    display(md(\"$\"+ enunciado_latex[i] +\" \\\\rightarrow \" + solucion[i] +\"$\"))\n",
    "\n",
    "df_ejercicios = df_ejercicios.append(añadir_ejercicios(enunciado_latex, enunciado, solucion, texto_ejercicio, curso, titulo , n_ejercicio, '1', '2'), ignore_index=True)\n"
   ]
  },
  {
   "cell_type": "code",
   "execution_count": null,
   "metadata": {},
   "outputs": [],
   "source": [
    "# Página 17 ejercicio 5\n",
    "\n",
    "texto_ejercicio = 'Discute, sin resolver, las ecuaciones:'\n",
    "n_ejercicio = 'p017e05'\n",
    "\n",
    "display(md(\"**\"+texto_ejercicio+\"**\"))\n",
    "\n",
    "pre_enunciado_latex = [[r'{x^2} - 9x + 1',r'0'],\n",
    "                       [r'2{x^2} + 6x - 5',r'0'],\n",
    "                       [r'3{x^2} - x + 1',r' 0'],\n",
    "                       [r'{x^2} - 12x + 36',r'0']\n",
    "                       \n",
    "                      ]\n",
    "                                       \n",
    "\n",
    "\n",
    "\n",
    "\n",
    "enunciado_latex,enunciado, solucion = [], [], []\n",
    "\n",
    "for i, s in enumerate(pre_enunciado_latex) :\n",
    "    enunciado_latex.append(latex(Eq(parse_latex(s[0]),parse_latex(s[1]))))\n",
    "    enunciado.append(Eq(parse_latex(s[0]),parse_latex(s[1])))\n",
    "    solucion.append(latex(solveset(enunciado[i], domain=S.Reals))) \n",
    "    display(md(\"$\"+ enunciado_latex[i] +\" \\\\rightarrow \" + solucion[i] +\"$\"))\n",
    "\n",
    "df_ejercicios = df_ejercicios.append(añadir_ejercicios(enunciado_latex, enunciado, solucion, texto_ejercicio, curso, titulo , n_ejercicio, '1', '2'), ignore_index=True)\n"
   ]
  },
  {
   "cell_type": "code",
   "execution_count": null,
   "metadata": {},
   "outputs": [],
   "source": [
    "# Página 17 ejercicio 19\n",
    "\n",
    "texto_ejercicio = 'Resuelve:'\n",
    "n_ejercicio = 'p017e19'\n",
    "\n",
    "display(md(\"**\"+texto_ejercicio+\"**\"))\n",
    "\n",
    "pre_enunciado_latex = [[r'{x^4} - 16',r'0'],\n",
    "                       [r'{x^4} - 225{x^2}',r'0'],\n",
    "                       [r'{x^4} - 10{x^2} + 9',r' 0'],\n",
    "                       [r'2{x^4} + 11{x^2} - 6',r'0'],\n",
    "                       [r'{x^4} - 6{x^2} + 8 ',r'0'],\n",
    "                       [r'{x^4} + 2{x^2}',r'-3'],\n",
    "                       [r'{x^4} - 8{x^2} - 9',r'0'],\n",
    "                       [r'{x^4} - 10{x^2} + 25',r' 0'],\n",
    "                       [r'{x^4} - 29{x^2} + 100 ',r' 0'],\n",
    "                       [r'{x^4} + 21{x^2} - 100 ',r'0'],\n",
    "                       [r'9{x^4} + 16',r'40{x^2}'],\n",
    "                       [r'{x^4} - \\frac{5}{4}{x^2} + \\frac{1}{4}',r'0'],\n",
    "                       [r'34 - {x^2}',r'\\frac{{225}}{{{x^2}}}'],\n",
    "                       [r'{x^2}',r'\\frac{{12}}{{{x^2} - 1}}'],\n",
    "                       [r'{x^4} + 4{x^2} + 8',r'0'],\n",
    "                       [r'\\frac{8}{{{x^2} - 5}} - 2',r' \\frac{{( {x - 3} )( {x + 3})}}{{{x^2} - 1}}'],\n",
    "                       [r'\\frac{{{x^2}( {2x + 5})}}{{x + 1}}',r'\\frac{{9( {1 - x} )}}{{2x - 5}}']\n",
    "                       \n",
    "                      ]\n",
    "                                       \n",
    "\n",
    "\n",
    "\n",
    "\n",
    "enunciado_latex,enunciado, solucion = [], [], []\n",
    "\n",
    "for i, s in enumerate(pre_enunciado_latex) :\n",
    "    enunciado_latex.append(latex(Eq(parse_latex(s[0]),parse_latex(s[1]))))\n",
    "    enunciado.append(Eq(parse_latex(s[0]),parse_latex(s[1])))\n",
    "    solucion.append(latex(solveset(enunciado[i], domain=S.Reals))) \n",
    "    display(md(\"$\"+ enunciado_latex[i] +\" \\\\rightarrow \" + solucion[i] +\"$\"))\n",
    "\n",
    "df_ejercicios = df_ejercicios.append(añadir_ejercicios(enunciado_latex, enunciado, solucion, texto_ejercicio, curso, titulo , n_ejercicio, '1', '2'), ignore_index=True)\n"
   ]
  },
  {
   "cell_type": "code",
   "execution_count": null,
   "metadata": {},
   "outputs": [],
   "source": [
    "# Página 18 ejercicio 20\n",
    "\n",
    "texto_ejercicio = 'Resuelve:'\n",
    "n_ejercicio = 'p018e20'\n",
    "\n",
    "display(md(\"**\"+texto_ejercicio+\"**\"))\n",
    "\n",
    "pre_enunciado_latex = [[r'\\sqrt {2x - 1}  + 5 ',r'4 + 2x'],\n",
    "                       [r'2\\sqrt {x - 3}  + \\sqrt {6x - 8}',r'6'],\n",
    "                       [r'\\sqrt {2x + 2}',r' x - 3'],\n",
    "                       [r'\\sqrt {2x - 1}  + 5',r'2\\sqrt {x + 3}  + 2'],\n",
    "                       [r'\\sqrt {x - 1}  - \\sqrt {x - 2} ',r'1'],\n",
    "                       [r'\\sqrt {x - 1}  + 2',r'x - 5'],\n",
    "                       [r'x + \\sqrt {x} ',r'6'],\n",
    "                       [r'\\sqrt {x + 4}  + \\sqrt{ x} ',r' 4'],\n",
    "                       [r'\\sqrt {3x - 2}  - 4 ',r' 0'],\n",
    "                       [r'\\sqrt {2x + 1} ',r'x - 1'],\n",
    "                       [r'\\sqrt {7 - 3x}  - x',r'7'],\n",
    "                       [r'3\\sqrt {6x + 1}  - 5',r'2x'],\n",
    "                       [r'\\sqrt {3x + 1}  + 1',r'3x'],\n",
    "                       [r'1 + \\sqrt {9{x^2} - 11} ',r'3x'],\n",
    "                       [r'\\sqrt {{x^2} + x - 1} ',r'2 - x'],\n",
    "                       [r'\\sqrt {\\frac{{2 - x}}{{2 + x}}}',r'\\frac{1}{2}'],\n",
    "                       [r'\\sqrt {x + 4}',r'3 - \\sqrt {x - 1} '],\n",
    "                       [r'\\sqrt {2x - 1}  + \\sqrt {x + 4}',r'6'],\n",
    "                       [r'2\\sqrt {x + 4}',r'\\sqrt {5x + 4}'],\n",
    "                       [r'2\\sqrt {2x - 1}',r' \\sqrt {6x - 5}  + \\sqrt {2x - 9}'],\n",
    "                       [r'\\sqrt {x}  + \\frac{2}{{\\sqrt {x} }}',r' \\sqrt {x - 5}']\n",
    "                       \n",
    "                      ]\n",
    "                                       \n",
    "\n",
    "\n",
    "\n",
    "\n",
    "enunciado_latex,enunciado, solucion = [], [], []\n",
    "\n",
    "for i, s in enumerate(pre_enunciado_latex) :\n",
    "    enunciado_latex.append(latex(Eq(parse_latex(s[0]),parse_latex(s[1]))))\n",
    "    enunciado.append(Eq(parse_latex(s[0]),parse_latex(s[1])))\n",
    "    solucion.append(latex(solveset(enunciado[i], domain=S.Reals))) \n",
    "    display(md(\"$\"+ enunciado_latex[i] +\" \\\\rightarrow \" + solucion[i] +\"$\"))\n",
    "\n",
    "df_ejercicios = df_ejercicios.append(añadir_ejercicios(enunciado_latex, enunciado, solucion, texto_ejercicio, curso, titulo , n_ejercicio, '1', '2'), ignore_index=True)\n"
   ]
  },
  {
   "cell_type": "code",
   "execution_count": null,
   "metadata": {},
   "outputs": [],
   "source": [
    "# Página 18 ejercicio 21\n",
    "\n",
    "texto_ejercicio = 'Resuelve las siguientes ecuaciones de grado superior a dos:'\n",
    "n_ejercicio = 'p018e21'\n",
    "\n",
    "display(md(\"**\"+texto_ejercicio+\"**\"))\n",
    "\n",
    "pre_enunciado_latex = [[r'{x^3} - 7{x^2} + 7x + 15',r'0'],\n",
    "                       [r'{x^3} - 2{x^2} - x + 2',r'0'],\n",
    "                       [r'{x^4} + {x^3} - 16{x^2} - 4x + 48',r'0'],\n",
    "                       [r'{x^4} + {x^3} - 7{x^2} - x + 6',r'0'],\n",
    "                       [r'{x^4} - 81',r'0']\n",
    "                      ]\n",
    "                                       \n",
    "\n",
    "\n",
    "\n",
    "\n",
    "enunciado_latex,enunciado, solucion = [], [], []\n",
    "\n",
    "for i, s in enumerate(pre_enunciado_latex) :\n",
    "    enunciado_latex.append(latex(Eq(parse_latex(s[0]),parse_latex(s[1]))))\n",
    "    enunciado.append(Eq(parse_latex(s[0]),parse_latex(s[1])))\n",
    "    solucion.append(latex(solveset(enunciado[i], domain=S.Reals))) \n",
    "    display(md(\"$\"+ enunciado_latex[i] +\" \\\\rightarrow \" + solucion[i] +\"$\"))\n",
    "\n",
    "df_ejercicios = df_ejercicios.append(añadir_ejercicios(enunciado_latex, enunciado, solucion, texto_ejercicio, curso, titulo , n_ejercicio, '1', '2'), ignore_index=True)\n"
   ]
  },
  {
   "cell_type": "code",
   "execution_count": null,
   "metadata": {},
   "outputs": [],
   "source": [
    "# Página 18 ejercicio 22\n",
    "\n",
    "texto_ejercicio = 'Calcula un número que sumado con el doble de su raíz cuadrada nos de 24.'\n",
    "n_ejercicio = 'p018e22'\n",
    "\n",
    "display(md(\"**\"+texto_ejercicio+\"**\"))\n",
    "\n",
    "pre_enunciado_latex = [[r'x+2\\sqrt{x}',r'24'],\n",
    "                      ]\n",
    "                                       \n",
    "\n",
    "\n",
    "\n",
    "\n",
    "enunciado_latex,enunciado, solucion = [], [], []\n",
    "\n",
    "for i, s in enumerate(pre_enunciado_latex) :\n",
    "    enunciado_latex.append(latex(Eq(parse_latex(s[0]),parse_latex(s[1]))))\n",
    "    enunciado.append(Eq(parse_latex(s[0]),parse_latex(s[1])))\n",
    "    solucion.append(latex(solveset(enunciado[i], domain=S.Reals))) \n",
    "    display(md(\"$\"+ enunciado_latex[i] +\" \\\\rightarrow \" + solucion[i] +\"$\"))\n",
    "\n",
    "df_ejercicios = df_ejercicios.append(añadir_ejercicios(enunciado_latex, enunciado, solucion, texto_ejercicio, curso, titulo , n_ejercicio, '1', '2'), ignore_index=True)\n"
   ]
  },
  {
   "cell_type": "code",
   "execution_count": null,
   "metadata": {},
   "outputs": [],
   "source": [
    "# Página 18 ejercicio 23\n",
    "\n",
    "texto_ejercicio = 'Halla tres números impares consecutivos, tales que sus cuadrados sumen 5051'\n",
    "n_ejercicio = 'p018e23'\n",
    "\n",
    "display(md(\"**\"+texto_ejercicio+\"**\"))\n",
    "\n",
    "pre_enunciado_latex = [[r'(2x-3)^2+(2x-1)^2+(2x+1)^2+',r'5051']\n",
    "                      ]\n",
    "                                       \n",
    "enunciado_latex,enunciado, solucion = [], [], []\n",
    "\n",
    "for i, s in enumerate(pre_enunciado_latex) :\n",
    "    enunciado_latex.append(latex(Eq(parse_latex(s[0]),parse_latex(s[1]))))\n",
    "    enunciado.append(Eq(parse_latex(s[0]),parse_latex(s[1])))\n",
    "    sl = solve(enunciado[i])\n",
    "    sl = latex(sl) + r\" \\to \" + latex([2*sl[0]-3,2*sl[0]-1,2*sl[0]+1])+ r\" \\lor \" + latex([2*sl[1]-3,2*sl[1]-1,2*sl[1]+1])\n",
    "    solucion.append(sl) \n",
    "    display(md(\"$\"+ enunciado_latex[i] +\" \\\\rightarrow \" + solucion[i] +\"$\"))\n",
    "\n",
    "df_ejercicios = df_ejercicios.append(añadir_ejercicios(enunciado_latex, enunciado, solucion, texto_ejercicio, curso, titulo , n_ejercicio, '1', '2'), ignore_index=True)\n"
   ]
  },
  {
   "cell_type": "code",
   "execution_count": null,
   "metadata": {},
   "outputs": [],
   "source": [
    "# Página 18 ejercicio 24\n",
    "\n",
    "texto_ejercicio = 'Las dos cifras de un número suman 11 y el producto de dicho número por el que se obtiene de invertir suscifras es 3154. Halla dicho número.'\n",
    "n_ejercicio = 'p018e24'\n",
    "\n",
    "display(md(\"**\"+texto_ejercicio+\"**\"))\n",
    "\n",
    "enunciado = [[x+y-11,(10*x+y)*(10*y+x)-3154]\n",
    "                      ]\n",
    "                                       \n",
    "\n",
    "\n",
    "\n",
    "enunciado_latex,solucion = [], []\n",
    "\n",
    "for i, s in enumerate(enunciado) :\n",
    "    enunciado_latex.append(latex(Eq(s[0],0))+ \"\\land\" + latex(Eq(s[1],0)))\n",
    "    sl = solve_poly_system(enunciado[i],x,y)\n",
    "    sl = latex(sl) \n",
    "    solucion.append(sl) \n",
    "    display(md(\"$\"+ enunciado_latex[i] +\" \\\\rightarrow \" + solucion[i] +\"$\"))\n",
    "\n",
    "df_ejercicios = df_ejercicios.append(añadir_ejercicios(enunciado_latex, enunciado, solucion, texto_ejercicio, curso, titulo , n_ejercicio, '1', '2'), ignore_index=True)\n"
   ]
  },
  {
   "cell_type": "code",
   "execution_count": null,
   "metadata": {},
   "outputs": [],
   "source": [
    "# Página 18 ejercicio 25\n",
    "\n",
    "texto_ejercicio = \"\"\"Tres segmentos miden, respectivamente, 8, 22 y 24 cm. \n",
    "Si a los tres les añadimos una misma longitud, el triángulo construido con ellos es rectángulo. Halla dicha longitud.\"\"\"\n",
    "n_ejercicio = 'p018e25'\n",
    "\n",
    "display(md(\"**\"+texto_ejercicio+\"**\"))\n",
    "\n",
    "pre_enunciado_latex = [[r'(8+x)^2+(22+x)^2', r'(24+x)^2']\n",
    "                      ]\n",
    "                                       \n",
    "enunciado_latex,enunciado, solucion = [], [], []\n",
    "\n",
    "for i, s in enumerate(pre_enunciado_latex) :\n",
    "    enunciado_latex.append(latex(Eq(parse_latex(s[0]),parse_latex(s[1]))))\n",
    "    enunciado.append(Eq(parse_latex(s[0]),parse_latex(s[1])))\n",
    "    sl = solveset(enunciado[i], domain= Naturals)\n",
    "    sl = latex(sl) \n",
    "    solucion.append(sl) \n",
    "    display(md(\"$\"+ enunciado_latex[i] +\" \\\\rightarrow \" + solucion[i] +\"$\"))\n",
    "\n",
    "\n",
    "df_ejercicios = df_ejercicios.append(añadir_ejercicios(enunciado_latex, enunciado, solucion, texto_ejercicio, curso, titulo , n_ejercicio, '1', '2'), ignore_index=True)\n"
   ]
  },
  {
   "cell_type": "code",
   "execution_count": null,
   "metadata": {},
   "outputs": [],
   "source": [
    "# Página 18 ejercicio 26\n",
    "\n",
    "texto_ejercicio = \"\"\"El perímetro de un triángulo rectángulo es 90 m y el cateto mayor tiene 3 m menos que \n",
    "la hipotenusa. Halla los tres lados del triángulo.\"\"\"\n",
    "n_ejercicio = 'p018e26'\n",
    "\n",
    "display(md(\"**\"+texto_ejercicio+\"**\"))\n",
    "\n",
    "enunciado = [[x+y+(y+3)-90,x**2+y**2-(y+3)**2]\n",
    "                      ]\n",
    "enunciado_latex,solucion = [], []\n",
    "\n",
    "for i, s in enumerate(enunciado) :\n",
    "    enunciado_latex.append(latex(Eq(s[0],0))+ \"\\land \" + latex(Eq(s[1],0)))\n",
    "    s = solve_poly_system(enunciado[i],x,y)\n",
    "    sl = latex(s) \n",
    "    solucion.append(sl) \n",
    "    lista_sol = list(s[1])\n",
    "    lista_sol.append(list(s[1])[1]+3)\n",
    "    display(md(\"$\"+ enunciado_latex[i] +\" \\\\rightarrow \" + latex(lista_sol) +\"$\"))\n",
    "\n",
    "df_ejercicios = df_ejercicios.append(añadir_ejercicios(enunciado_latex, enunciado, solucion, texto_ejercicio, curso, titulo , n_ejercicio, '1', '2'), ignore_index=True)\n"
   ]
  },
  {
   "cell_type": "code",
   "execution_count": null,
   "metadata": {},
   "outputs": [],
   "source": [
    "# Página 18 ejercicio 27\n",
    "\n",
    "texto_ejercicio = \"\"\"Halla tres números pares consecutivos sabiendo que su \n",
    "producto es igual a cuatro veces su suma.\"\"\"\n",
    "n_ejercicio = 'p018e27'\n",
    "\n",
    "display(md(\"**\"+texto_ejercicio+\"**\"))\n",
    "\n",
    "pre_enunciado_latex = [[r'(2x-2)+(2x)+(2x+2)',r'\\frac{(2x-2)(2x)(2x+2)}{4}']\n",
    "                      ]\n",
    "                                       \n",
    "enunciado_latex,enunciado, solucion = [], [], []\n",
    "\n",
    "for i, s in enumerate(pre_enunciado_latex) :\n",
    "    enunciado_latex.append(latex(Eq(parse_latex(s[0]),parse_latex(s[1]))))\n",
    "    enunciado.append(Eq(parse_latex(s[0]),parse_latex(s[1])))\n",
    "    sl = solve(enunciado[i])\n",
    "    sl = latex(sl) + r\" \\to \" + latex([2*sl[0]-2,2*sl[0],2*sl[0]+2])+ r\" \\lor \" + latex([2*sl[1]-2,2*sl[1],2*sl[1]+2])+ r\" \\lor \" + latex([2*sl[2]-2,2*sl[2],2*sl[2]+2])\n",
    "    solucion.append(sl) \n",
    "    display(md(\"$\"+ enunciado_latex[i] +\" \\\\rightarrow \" + solucion[i] +\"$\"))\n",
    "\n",
    "df_ejercicios = df_ejercicios.append(añadir_ejercicios(enunciado_latex, enunciado, solucion, texto_ejercicio, curso, titulo , n_ejercicio, '1', '2'), ignore_index=True)\n"
   ]
  },
  {
   "cell_type": "code",
   "execution_count": null,
   "metadata": {},
   "outputs": [],
   "source": [
    "# Página 18 ejercicio 28\n",
    "\n",
    "texto_ejercicio = \"\"\"Un terreno rectangular tiene 100 m de largo y 80 m de ancho y está rodeado \n",
    "por calles de anchura uniforme.\n",
    "Si el área de las calles es de 4000 m² , ¿cuál es su anchura?\"\"\"\n",
    "n_ejercicio = 'p018e28'\n",
    "\n",
    "display(md(\"**\"+texto_ejercicio+\"**\"))\n",
    "\n",
    "pre_enunciado_latex = [[r'(100+x)(80+x)-8000',r'4000'],\n",
    "                      ]\n",
    "                                       \n",
    "\n",
    "enunciado_latex,enunciado, solucion = [], [], []\n",
    "\n",
    "for i, s in enumerate(pre_enunciado_latex) :\n",
    "    enunciado_latex.append(latex(Eq(parse_latex(s[0]),parse_latex(s[1]))))\n",
    "    enunciado.append(Eq(parse_latex(s[0]),parse_latex(s[1])))\n",
    "    solucion.append(latex(solveset(enunciado[i], domain=S.Naturals))) \n",
    "    display(md(\"$\"+ enunciado_latex[i] +\" \\\\rightarrow \" + solucion[i] +\"$\"))\n",
    "\n",
    "df_ejercicios = df_ejercicios.append(añadir_ejercicios(enunciado_latex, enunciado, solucion, texto_ejercicio, curso, titulo , n_ejercicio, '1', '2'), ignore_index=True)\n"
   ]
  },
  {
   "cell_type": "code",
   "execution_count": null,
   "metadata": {},
   "outputs": [],
   "source": [
    "# Página 18 ejercicio 29\n",
    "\n",
    "texto_ejercicio = \"\"\"Halla dos números cuya suma es 14 y la de sus cuadrados 100.\"\"\"\n",
    "n_ejercicio = 'p018e29'\n",
    "\n",
    "display(md(\"**\"+texto_ejercicio+\"**\"))\n",
    "\n",
    "enunciado = [[x+y-14,x**2+y**2-100]\n",
    "                      ]\n",
    "                                       \n",
    "\n",
    "\n",
    "\n",
    "enunciado_latex,solucion = [], []\n",
    "\n",
    "for i, s in enumerate(enunciado) :\n",
    "    enunciado_latex.append(latex(Eq(s[0],0))+ \"\\land \" + latex(Eq(s[1],0)))\n",
    "    sl = solve_poly_system(enunciado[i],x,y)\n",
    "    sl = latex(sl) \n",
    "    solucion.append(sl) \n",
    "    display(md(\"$\"+ enunciado_latex[i] +\" \\\\rightarrow \" + solucion[i] +\"$\"))\n",
    "\n",
    "df_ejercicios = df_ejercicios.append(añadir_ejercicios(enunciado_latex, enunciado, solucion, texto_ejercicio, curso, titulo , n_ejercicio, '1', '2'), ignore_index=True)\n"
   ]
  },
  {
   "cell_type": "code",
   "execution_count": null,
   "metadata": {},
   "outputs": [],
   "source": [
    "# Página 18 ejercicio 30\n",
    "\n",
    "texto_ejercicio = \"\"\"Halla dos números positivos cuya diferencia sea 7 y la suma de sus cuadrados 3809.\"\"\"\n",
    "n_ejercicio = 'p018e30'\n",
    "\n",
    "display(md(\"**\"+texto_ejercicio+\"**\"))\n",
    "\n",
    "enunciado = [[x-y-7,x**2+y**2-3809]\n",
    "                      ]                                     \n",
    "\n",
    "enunciado_latex,solucion = [], []\n",
    "\n",
    "for i, s in enumerate(enunciado) :\n",
    "    enunciado_latex.append(latex(Eq(s[0],0))+ \"\\land \" + latex(Eq(s[1],0)))\n",
    "    sl = solve_poly_system(enunciado[i],x,y)\n",
    "    sl = latex(sl[1]) \n",
    "    solucion.append(sl) \n",
    "    display(md(\"$\"+ enunciado_latex[i] +\" \\\\rightarrow \" + solucion[i] +\"$\"))\n",
    "\n",
    "df_ejercicios = df_ejercicios.append(añadir_ejercicios(enunciado_latex, enunciado, solucion, texto_ejercicio, curso, titulo , n_ejercicio, '1', '2'), ignore_index=True)\n"
   ]
  },
  {
   "cell_type": "code",
   "execution_count": null,
   "metadata": {},
   "outputs": [],
   "source": [
    "# Página 18 ejercicio 31\n",
    "\n",
    "texto_ejercicio = \"\"\"Una habitación rectangular tiene una superficie de 28 m² y \n",
    "su zócalo tiene una longitud de 22 m. Halla las\n",
    "dimensiones de la habitación.\"\"\"\n",
    "n_ejercicio = 'p018e31'\n",
    "\n",
    "display(md(\"**\"+texto_ejercicio+\"**\"))\n",
    "\n",
    "enunciado = [[x*y-28,x*2+y*2-22]\n",
    "                      ]                                     \n",
    "\n",
    "enunciado_latex,solucion = [], []\n",
    "\n",
    "for i, s in enumerate(enunciado) :\n",
    "    enunciado_latex.append(latex(Eq(s[0],0))+ \"\\land \" + latex(Eq(s[1],0)))\n",
    "    sl = solve_poly_system(enunciado[i],x,y)\n",
    "    sl = latex(sl) \n",
    "    solucion.append(sl) \n",
    "    display(md(\"$\"+ enunciado_latex[i] +\" \\\\rightarrow \" + solucion[i] +\"$\"))\n",
    "\n",
    "df_ejercicios = df_ejercicios.append(añadir_ejercicios(enunciado_latex, enunciado, solucion, texto_ejercicio, curso, titulo , n_ejercicio, '1', '2'), ignore_index=True)\n"
   ]
  },
  {
   "cell_type": "code",
   "execution_count": null,
   "metadata": {},
   "outputs": [],
   "source": [
    "df_ejercicios.to_csv('ejercicios6.csv', index = False)"
   ]
  },
  {
   "cell_type": "code",
   "execution_count": null,
   "metadata": {},
   "outputs": [],
   "source": [
    "df_ejercicios = pd.read_csv('ejercicios6.csv', index_col= None)"
   ]
  },
  {
   "cell_type": "code",
   "execution_count": null,
   "metadata": {},
   "outputs": [],
   "source": [
    "df_ejercicios"
   ]
  },
  {
   "cell_type": "code",
   "execution_count": null,
   "metadata": {},
   "outputs": [],
   "source": [
    "escribir_preambulo(fichero, titulo, 'ejercicios')\n",
    "for s in df_ejercicios.groupby('n_ejercicio').count().index : \n",
    "    display(md(\"**Ejercicio: **\" + s ))\n",
    "    display(df_ejercicios[df_ejercicios.n_ejercicio == s])\n",
    "    escribir_ejercicios(df_ejercicios[df_ejercicios.n_ejercicio == s],fichero)\n",
    "\n",
    "escribir_fin(fichero)"
   ]
  }
 ],
 "metadata": {
  "kernelspec": {
   "display_name": "Python 3",
   "language": "python",
   "name": "python3"
  },
  "language_info": {
   "codemirror_mode": {
    "name": "ipython",
    "version": 3
   },
   "file_extension": ".py",
   "mimetype": "text/x-python",
   "name": "python",
   "nbconvert_exporter": "python",
   "pygments_lexer": "ipython3",
   "version": "3.6.5"
  }
 },
 "nbformat": 4,
 "nbformat_minor": 2
}
