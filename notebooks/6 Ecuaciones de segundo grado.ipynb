{
 "cells": [
  {
   "cell_type": "markdown",
   "metadata": {},
   "source": [
    "<a href=\"https://colab.research.google.com/github/crdguez/mat1bac_cit/blob/master/notebooks/Ejercicios1_3.ipynb\"><img align=\"left\" src=\"https://colab.research.google.com/assets/colab-badge.svg\" alt=\"Open in Colab\" title=\"Open and Execute in Google Colaboratory\"></a>"
   ]
  },
  {
   "cell_type": "code",
   "execution_count": 1,
   "metadata": {},
   "outputs": [
    {
     "name": "stdout",
     "output_type": "stream",
     "text": [
      "IPython console for SymPy 1.2 (Python 3.6.5-64-bit) (ground types: gmpy)\n",
      "\n",
      "These commands were executed:\n",
      ">>> from __future__ import division\n",
      ">>> from sympy import *\n",
      ">>> x, y, z, t = symbols('x y z t')\n",
      ">>> k, m, n = symbols('k m n', integer=True)\n",
      ">>> f, g, h = symbols('f g h', cls=Function)\n",
      ">>> init_printing()\n",
      "\n",
      "Documentation can be found at http://docs.sympy.org/1.2/\n",
      "\n"
     ]
    }
   ],
   "source": [
    "from sympy import init_session\n",
    "from sympy import div, QQ\n",
    "from sympy.parsing.latex import parse_latex\n",
    "from sympy.parsing.sympy_parser import parse_expr\n",
    "#from sympy.functions.combinatorial.numbers import nC, nP, nT\n",
    "from IPython.display import Markdown as md\n",
    "from IPython.display import display\n",
    "import pandas as pd\n",
    "\n",
    "init_session()\n",
    "\n",
    "a, b, c, d = symbols('a b c d', real = True)\n",
    "from docparts import añadir_ejercicios, doc_ejer, escribir_preambulo, escribir_ejercicios, escribir_fin\n",
    "\n",
    "df_ejercicios = pd.DataFrame()\n",
    "\n",
    "fichero = 'ecuacionesg2'\n",
    "titulo = '6 - Ecuaciones de segundo grado'\n",
    "curso = '1BC'\n",
    "\n"
   ]
  },
  {
   "cell_type": "code",
   "execution_count": 2,
   "metadata": {},
   "outputs": [
    {
     "data": {
      "text/markdown": [
       "**Resuelve las ecuaciones:**"
      ],
      "text/plain": [
       "<IPython.core.display.Markdown object>"
      ]
     },
     "metadata": {},
     "output_type": "display_data"
    },
    {
     "data": {
      "text/markdown": [
       "${x^2} + 6 \\rightarrow \\emptyset$"
      ],
      "text/plain": [
       "<IPython.core.display.Markdown object>"
      ]
     },
     "metadata": {},
     "output_type": "display_data"
    },
    {
     "data": {
      "text/markdown": [
       "${x^2} - 9 \\rightarrow \\left\\{-3, 3\\right\\}$"
      ],
      "text/plain": [
       "<IPython.core.display.Markdown object>"
      ]
     },
     "metadata": {},
     "output_type": "display_data"
    },
    {
     "data": {
      "text/markdown": [
       "${x^2} + 3x \\rightarrow \\left\\{-3, 0\\right\\}$"
      ],
      "text/plain": [
       "<IPython.core.display.Markdown object>"
      ]
     },
     "metadata": {},
     "output_type": "display_data"
    },
    {
     "data": {
      "text/markdown": [
       "$3{x^2} - 11x \\rightarrow \\left\\{0, \\frac{11}{3}\\right\\}$"
      ],
      "text/plain": [
       "<IPython.core.display.Markdown object>"
      ]
     },
     "metadata": {},
     "output_type": "display_data"
    },
    {
     "data": {
      "text/markdown": [
       "$4{x^2} - 32x \\rightarrow \\left\\{0, 8\\right\\}$"
      ],
      "text/plain": [
       "<IPython.core.display.Markdown object>"
      ]
     },
     "metadata": {},
     "output_type": "display_data"
    },
    {
     "data": {
      "text/markdown": [
       "$5{x^2} \\rightarrow \\left\\{0\\right\\}$"
      ],
      "text/plain": [
       "<IPython.core.display.Markdown object>"
      ]
     },
     "metadata": {},
     "output_type": "display_data"
    },
    {
     "data": {
      "text/markdown": [
       "$12{x^2} - 18  \\rightarrow \\left\\{- \\frac{\\sqrt{6}}{2}, \\frac{\\sqrt{6}}{2}\\right\\}$"
      ],
      "text/plain": [
       "<IPython.core.display.Markdown object>"
      ]
     },
     "metadata": {},
     "output_type": "display_data"
    },
    {
     "data": {
      "text/markdown": [
       "$3( {1 - x} )( {x + 1} ) \\rightarrow \\left\\{0\\right\\}$"
      ],
      "text/plain": [
       "<IPython.core.display.Markdown object>"
      ]
     },
     "metadata": {},
     "output_type": "display_data"
    },
    {
     "data": {
      "text/markdown": [
       "$3( {{x^2} - 2} ) \\rightarrow \\left\\{-3, 3\\right\\}$"
      ],
      "text/plain": [
       "<IPython.core.display.Markdown object>"
      ]
     },
     "metadata": {},
     "output_type": "display_data"
    }
   ],
   "source": [
    "# Página 16 ejercicio 1\n",
    "\n",
    "texto_ejercicio = 'Resuelve las ecuaciones:'\n",
    "n_ejercicio = 'p016e01'\n",
    "\n",
    "display(md(\"**\"+texto_ejercicio+\"**\"))\n",
    "\n",
    "pre_enunciado_latex = [[r'{x^2} + 6',r'0'],\n",
    "                       [r'{x^2} - 9',r'0'],\n",
    "                       [r'{x^2} + 3x',r'0'],\n",
    "                       [r'3{x^2} - 11x',r'0'],\n",
    "                       [r'4{x^2} - 32x',r'0'],\n",
    "                       [r'5{x^2}',r'0'],\n",
    "                       [r'12{x^2} - 18 ',r'0'],\n",
    "                       [r'3( {1 - x} )( {x + 1} )',r'3'],\n",
    "                       [r'3( {{x^2} - 2} )',r'21']\n",
    "\n",
    "                      ]\n",
    "\n",
    "\n",
    "\n",
    "\n",
    "enunciado_latex,enunciado, solucion = [], [], []\n",
    "\n",
    "for i, s in enumerate(pre_enunciado_latex) :\n",
    "    enunciado_latex.append(latex(Eq(parse_latex(s[0]),parse_latex(s[1]))))\n",
    "    enunciado.append(Eq(parse_latex(s[0]),parse_latex(s[1])))\n",
    "    solucion.append(latex(solveset(enunciado[i], domain=S.Reals))) \n",
    "    display(md(\"$\"+ s[0] +\" \\\\rightarrow \" + solucion[i] +\"$\"))\n",
    "\n",
    "df_ejercicios = df_ejercicios.append(añadir_ejercicios(enunciado_latex, enunciado, solucion, texto_ejercicio, curso, titulo , n_ejercicio, '1', '2'), ignore_index=True)\n"
   ]
  },
  {
   "cell_type": "code",
   "execution_count": 3,
   "metadata": {},
   "outputs": [
    {
     "data": {
      "text/markdown": [
       "**Resuelve las ecuaciones:**"
      ],
      "text/plain": [
       "<IPython.core.display.Markdown object>"
      ]
     },
     "metadata": {},
     "output_type": "display_data"
    },
    {
     "data": {
      "text/markdown": [
       "$2{x^2} + 11x - 6 \\rightarrow \\left\\{-6, \\frac{1}{2}\\right\\}$"
      ],
      "text/plain": [
       "<IPython.core.display.Markdown object>"
      ]
     },
     "metadata": {},
     "output_type": "display_data"
    },
    {
     "data": {
      "text/markdown": [
       "${x^2} - 10x + 25 \\rightarrow \\left\\{5\\right\\}$"
      ],
      "text/plain": [
       "<IPython.core.display.Markdown object>"
      ]
     },
     "metadata": {},
     "output_type": "display_data"
    },
    {
     "data": {
      "text/markdown": [
       "$x^2 + x + 1 \\rightarrow \\emptyset$"
      ],
      "text/plain": [
       "<IPython.core.display.Markdown object>"
      ]
     },
     "metadata": {},
     "output_type": "display_data"
    },
    {
     "data": {
      "text/markdown": [
       "${x^2} - 2x - 1 \\rightarrow \\left\\{1 + \\sqrt{2}, - \\sqrt{2} + 1\\right\\}$"
      ],
      "text/plain": [
       "<IPython.core.display.Markdown object>"
      ]
     },
     "metadata": {},
     "output_type": "display_data"
    },
    {
     "data": {
      "text/markdown": [
       "$3{x^2} + 5x - 2 \\rightarrow \\left\\{-2, \\frac{1}{3}\\right\\}$"
      ],
      "text/plain": [
       "<IPython.core.display.Markdown object>"
      ]
     },
     "metadata": {},
     "output_type": "display_data"
    },
    {
     "data": {
      "text/markdown": [
       "$4{x^2} - 4x + 1  \\rightarrow \\left\\{\\frac{1}{2}\\right\\}$"
      ],
      "text/plain": [
       "<IPython.core.display.Markdown object>"
      ]
     },
     "metadata": {},
     "output_type": "display_data"
    },
    {
     "data": {
      "text/markdown": [
       "$2{x^2} - 9x + 11 \\rightarrow \\emptyset$"
      ],
      "text/plain": [
       "<IPython.core.display.Markdown object>"
      ]
     },
     "metadata": {},
     "output_type": "display_data"
    }
   ],
   "source": [
    "# Página 16 ejercicio 2\n",
    "\n",
    "texto_ejercicio = 'Resuelve las ecuaciones:'\n",
    "n_ejercicio = 'p016e02'\n",
    "\n",
    "display(md(\"**\"+texto_ejercicio+\"**\"))\n",
    "\n",
    "pre_enunciado_latex = [[r'2{x^2} + 11x - 6',r'0'],\n",
    "                       [r'{x^2} - 10x + 25',r'0'],\n",
    "                       [r'x^2 + x + 1',r'0'],\n",
    "                       [r'{x^2} - 2x - 1',r'0'],\n",
    "                       [r'3{x^2} + 5x - 2',r'0'],\n",
    "                       [r'4{x^2} - 4x + 1 ',r'0'],\n",
    "                       [r'2{x^2} - 9x + 11',r'0']\n",
    "                       \n",
    "\n",
    "                      ]\n",
    "\n",
    "\n",
    "\n",
    "\n",
    "enunciado_latex,enunciado, solucion = [], [], []\n",
    "\n",
    "for i, s in enumerate(pre_enunciado_latex) :\n",
    "    enunciado_latex.append(latex(Eq(parse_latex(s[0]),parse_latex(s[1]))))\n",
    "    enunciado.append(Eq(parse_latex(s[0]),parse_latex(s[1])))\n",
    "    solucion.append(latex(solveset(enunciado[i], domain=S.Reals))) \n",
    "    display(md(\"$\"+ s[0] +\" \\\\rightarrow \" + solucion[i] +\"$\"))\n",
    "\n",
    "df_ejercicios = df_ejercicios.append(añadir_ejercicios(enunciado_latex, enunciado, solucion, texto_ejercicio, curso, titulo , n_ejercicio, '1', '2'), ignore_index=True)\n"
   ]
  },
  {
   "cell_type": "code",
   "execution_count": 4,
   "metadata": {},
   "outputs": [
    {
     "data": {
      "text/markdown": [
       "**Resuelve las ecuaciones:**"
      ],
      "text/plain": [
       "<IPython.core.display.Markdown object>"
      ]
     },
     "metadata": {},
     "output_type": "display_data"
    },
    {
     "data": {
      "text/markdown": [
       "$- x \\left(x - 2\\right) + 9 = 4 x + 6 \\rightarrow \\left\\{-3, 1\\right\\}$"
      ],
      "text/plain": [
       "<IPython.core.display.Markdown object>"
      ]
     },
     "metadata": {},
     "output_type": "display_data"
    },
    {
     "data": {
      "text/markdown": [
       "$- \\left(x - 1\\right) \\left(x + 4\\right) + 2 \\left(x^{2} - 3\\right) = x - 2 \\rightarrow \\left\\{0, 4\\right\\}$"
      ],
      "text/plain": [
       "<IPython.core.display.Markdown object>"
      ]
     },
     "metadata": {},
     "output_type": "display_data"
    },
    {
     "data": {
      "text/markdown": [
       "$x \\left(x - 1\\right) - 2 \\left(x - 3\\right) \\left(x - 2\\right) = 2 \\rightarrow \\left\\{2, 7\\right\\}$"
      ],
      "text/plain": [
       "<IPython.core.display.Markdown object>"
      ]
     },
     "metadata": {},
     "output_type": "display_data"
    },
    {
     "data": {
      "text/markdown": [
       "$\\left(2 x^{2} - 11 x\\right) + 12 = 0 \\rightarrow \\left\\{\\frac{3}{2}, 4\\right\\}$"
      ],
      "text/plain": [
       "<IPython.core.display.Markdown object>"
      ]
     },
     "metadata": {},
     "output_type": "display_data"
    },
    {
     "data": {
      "text/markdown": [
       "$3 \\left(x - 1\\right) \\left(x + 2\\right) = 0 \\rightarrow \\left\\{-2, 1\\right\\}$"
      ],
      "text/plain": [
       "<IPython.core.display.Markdown object>"
      ]
     },
     "metadata": {},
     "output_type": "display_data"
    },
    {
     "data": {
      "text/markdown": [
       "$\\left(x - 2\\right)^{2} = 3 \\rightarrow \\left\\{- \\sqrt{3} + 2, \\sqrt{3} + 2\\right\\}$"
      ],
      "text/plain": [
       "<IPython.core.display.Markdown object>"
      ]
     },
     "metadata": {},
     "output_type": "display_data"
    },
    {
     "data": {
      "text/markdown": [
       "$21 x - 100 = - x + \\left(x^{2} + 21\\right) \\rightarrow \\left\\{11\\right\\}$"
      ],
      "text/plain": [
       "<IPython.core.display.Markdown object>"
      ]
     },
     "metadata": {},
     "output_type": "display_data"
    },
    {
     "data": {
      "text/markdown": [
       "$\\frac{x}{3} \\left(x - \\frac{1}{6}\\right) = x - 1 \\rightarrow \\emptyset$"
      ],
      "text/plain": [
       "<IPython.core.display.Markdown object>"
      ]
     },
     "metadata": {},
     "output_type": "display_data"
    },
    {
     "data": {
      "text/markdown": [
       "$\\left(- \\frac{x}{3} + \\frac{1}{3}\\right) + \\frac{2 x^{2} + 1}{2} = \\frac{- x + 1}{6} \\rightarrow \\emptyset$"
      ],
      "text/plain": [
       "<IPython.core.display.Markdown object>"
      ]
     },
     "metadata": {},
     "output_type": "display_data"
    }
   ],
   "source": [
    "# Página 16 ejercicio 3\n",
    "\n",
    "texto_ejercicio = 'Resuelve las ecuaciones:'\n",
    "n_ejercicio = 'p016e03'\n",
    "\n",
    "display(md(\"**\"+texto_ejercicio+\"**\"))\n",
    "\n",
    "pre_enunciado_latex = [[r'9 - (x)(x - 2) ',r'4x + 6'],\n",
    "                       [r'2( {{x^2} - 3} ) - ( {x - 1} )( {x + 4} ) ',r'x - 2'],\n",
    "                       [r'(x)( {x - 1} ) - 2( {x - 2} )( {x - 3} )',r'2'],\n",
    "                       [r'2{x^2} - 11x + 12 ',r'0'],\n",
    "                       [r'3( {x - 1} )( {x + 2}) ',r'0'],\n",
    "                       [r'( {x - 2})^2 ',r'3'],\n",
    "                       [r'21x - 100',r'{x^2} + 21 - x'],\n",
    "                       [r'\\frac{x}{3}( {x - \\frac{1}{6}} )',r' x - 1'],\n",
    "                       [r'\\frac{{2{x^2} + 1}}{2} - \\frac{{x - 1}}{3} ',r' \\frac{{1 - x}}{6}']\n",
    "                                       \n",
    "\n",
    "                      ]\n",
    "\n",
    "\n",
    "\n",
    "enunciado_latex,enunciado, solucion = [], [], []\n",
    "\n",
    "for i, s in enumerate(pre_enunciado_latex) :\n",
    "    enunciado_latex.append(latex(Eq(parse_latex(s[0]),parse_latex(s[1]))))\n",
    "    enunciado.append(Eq(parse_latex(s[0]),parse_latex(s[1])))\n",
    "    solucion.append(latex(solveset(enunciado[i], domain=S.Reals))) \n",
    "    display(md(\"$\"+ enunciado_latex[i] +\" \\\\rightarrow \" + solucion[i] +\"$\"))\n",
    "\n",
    "df_ejercicios = df_ejercicios.append(añadir_ejercicios(enunciado_latex, enunciado, solucion, texto_ejercicio, curso, titulo , n_ejercicio, '1', '2'), ignore_index=True)\n"
   ]
  },
  {
   "cell_type": "code",
   "execution_count": 5,
   "metadata": {},
   "outputs": [
    {
     "data": {
      "text/markdown": [
       "**Resuelve las siguientes ecuaciones de segundo grado, pasándolas previamente a la forma general:**"
      ],
      "text/plain": [
       "<IPython.core.display.Markdown object>"
      ]
     },
     "metadata": {},
     "output_type": "display_data"
    },
    {
     "data": {
      "text/markdown": [
       "$\\frac{x + 1}{x - 1} - \\frac{1}{x} = \\frac{5}{2} \\rightarrow \\left\\{- \\frac{1}{3}, 2\\right\\}$"
      ],
      "text/plain": [
       "<IPython.core.display.Markdown object>"
      ]
     },
     "metadata": {},
     "output_type": "display_data"
    },
    {
     "data": {
      "text/markdown": [
       "$- \\frac{2}{x + 1} + \\frac{3 x + 2}{x - 1} = 5 \\rightarrow \\left\\{- \\frac{3}{2}, 3\\right\\}$"
      ],
      "text/plain": [
       "<IPython.core.display.Markdown object>"
      ]
     },
     "metadata": {},
     "output_type": "display_data"
    },
    {
     "data": {
      "text/markdown": [
       "$- \\frac{x}{x + 4} + 1 = \\frac{1}{x - 5} \\rightarrow \\left\\{8\\right\\}$"
      ],
      "text/plain": [
       "<IPython.core.display.Markdown object>"
      ]
     },
     "metadata": {},
     "output_type": "display_data"
    },
    {
     "data": {
      "text/markdown": [
       "$\\frac{x}{x + 1} + \\frac{x + 1}{x} = \\frac{13}{6} \\rightarrow \\left\\{-3, 2\\right\\}$"
      ],
      "text/plain": [
       "<IPython.core.display.Markdown object>"
      ]
     },
     "metadata": {},
     "output_type": "display_data"
    },
    {
     "data": {
      "text/markdown": [
       "$\\left(-3 + \\frac{2 \\left(2 x + 1\\right)}{2 x - 1}\\right) + 5 = 0 \\rightarrow \\left\\{0\\right\\}$"
      ],
      "text/plain": [
       "<IPython.core.display.Markdown object>"
      ]
     },
     "metadata": {},
     "output_type": "display_data"
    },
    {
     "data": {
      "text/markdown": [
       "$\\frac{x - 3}{x + 3} + \\frac{x + 3}{x - 3} = \\frac{x - 2}{x + 3} \\rightarrow \\emptyset$"
      ],
      "text/plain": [
       "<IPython.core.display.Markdown object>"
      ]
     },
     "metadata": {},
     "output_type": "display_data"
    },
    {
     "data": {
      "text/markdown": [
       "$- \\frac{x - 7}{x - 1} + \\frac{2 x - 1}{x + 1} = 4 - \\frac{3 x - 1}{x + 2} \\rightarrow \\left\\{- \\frac{5}{4}, 5\\right\\}$"
      ],
      "text/plain": [
       "<IPython.core.display.Markdown object>"
      ]
     },
     "metadata": {},
     "output_type": "display_data"
    },
    {
     "data": {
      "text/markdown": [
       "$\\frac{3 x - 4}{5 x - 16} = \\frac{4 x + 1}{6 x - 11} \\rightarrow \\left\\{-5, 6\\right\\}$"
      ],
      "text/plain": [
       "<IPython.core.display.Markdown object>"
      ]
     },
     "metadata": {},
     "output_type": "display_data"
    },
    {
     "data": {
      "text/markdown": [
       "$\\frac{- x + 3}{5} = - \\frac{4}{5} + \\frac{2}{x} \\rightarrow \\left\\{2, 5\\right\\}$"
      ],
      "text/plain": [
       "<IPython.core.display.Markdown object>"
      ]
     },
     "metadata": {},
     "output_type": "display_data"
    },
    {
     "data": {
      "text/markdown": [
       "$\\frac{x^{2}}{x + 1} = \\left(\\frac{x^{3}}{x^{2} - 1} - \\frac{1}{x - 1}\\right) + \\frac{1}{- x^{2} + 1} \\rightarrow \\left\\{2\\right\\}$"
      ],
      "text/plain": [
       "<IPython.core.display.Markdown object>"
      ]
     },
     "metadata": {},
     "output_type": "display_data"
    },
    {
     "data": {
      "text/markdown": [
       "$\\frac{5}{2 x + 6} = \\left(\\left(\\frac{1}{x{\\left (x - 3 \\right )}} + \\frac{1}{\\left(x - 3\\right) \\left(x + 3\\right)}\\right) + \\frac{1}{x + 3}\\right) - \\frac{1}{x - 3} \\rightarrow \\left\\{x \\mid x \\in \\mathbb{R} \\wedge - 2 \\left(x - 3\\right) \\left(x + 3\\right) + 3 \\left(x - 3\\right) x{\\left (x - 3 \\right )} + 2 \\left(x + 3\\right) x{\\left (x - 3 \\right )} - 2 x{\\left (x - 3 \\right )} = 0 \\right\\} \\setminus \\left\\{x \\mid x \\in \\mathbb{R} \\wedge \\left(x - 3\\right) \\left(x + 3\\right) x{\\left (x - 3 \\right )} = 0 \\right\\}$"
      ],
      "text/plain": [
       "<IPython.core.display.Markdown object>"
      ]
     },
     "metadata": {},
     "output_type": "display_data"
    },
    {
     "data": {
      "text/markdown": [
       "$\\frac{x}{2} + \\frac{4}{x} = \\frac{12}{x} \\rightarrow \\left\\{-4, 4\\right\\}$"
      ],
      "text/plain": [
       "<IPython.core.display.Markdown object>"
      ]
     },
     "metadata": {},
     "output_type": "display_data"
    },
    {
     "data": {
      "text/markdown": [
       "$\\frac{5}{4 x^{2}} - \\frac{1}{2 x^{2}} = \\frac{1}{3} \\rightarrow \\left\\{- \\frac{3}{2}, \\frac{3}{2}\\right\\}$"
      ],
      "text/plain": [
       "<IPython.core.display.Markdown object>"
      ]
     },
     "metadata": {},
     "output_type": "display_data"
    },
    {
     "data": {
      "text/markdown": [
       "$\\frac{- x + 6}{3} - \\frac{3 \\left(x - 4\\right)}{x + 6} = \\frac{x - 2}{2} \\rightarrow \\left\\{-3 + 3 \\sqrt{5}, - 3 \\sqrt{5} - 3\\right\\}$"
      ],
      "text/plain": [
       "<IPython.core.display.Markdown object>"
      ]
     },
     "metadata": {},
     "output_type": "display_data"
    }
   ],
   "source": [
    "# Página 16 ejercicio 4\n",
    "\n",
    "texto_ejercicio = 'Resuelve las siguientes ecuaciones de segundo grado, pasándolas previamente a la forma general:'\n",
    "n_ejercicio = 'p016e04'\n",
    "\n",
    "display(md(\"**\"+texto_ejercicio+\"**\"))\n",
    "\n",
    "pre_enunciado_latex = [[r'\\frac{{x + 1}}{{x - 1}} - \\frac{1}{x}',r'\\frac{5}{2}'],\n",
    "                       [r'\\frac{{3x + 2}}{{x - 1}} - \\frac{2}{{x + 1}}',r'5'],\n",
    "                       [r'1 - \\frac{x}{{x + 4}}',r' \\frac{1}{{x - 5}}'],\n",
    "                       [r'\\frac{x}{{x + 1}} + \\frac{{x + 1}}{x}',r'\\frac{{13}}{6}'],\n",
    "                       [r'\\frac{{2( {2x + 1})}}{{2x - 1}} - \\frac{{3( {2x - 1})}}{{2x - 1}} + 5',r'0'],\n",
    "                       [r'\\frac{{x - 3}}{{x + 3}} + \\frac{{x + 3}}{{x - 3}}',r'\\frac{{x - 2}}{{x + 3}}'],\n",
    "                       [r'\\frac{{2x - 1}}{{x + 1}} - \\frac{{x - 7}}{{x - 1}}',r'4 - \\frac{{3x - 1}}{{x + 2}}'],\n",
    "                       [r'\\frac{{3x - 4}}{{5x - 16}}',r' \\frac{{4x + 1}}{{6x - 11}}'],\n",
    "                       [r'\\frac{{3 - x}}{5}',r' \\frac{2}{x} - \\frac{4}{5}'],\n",
    "                       [r'\\frac{{{x^2}}}{{x + 1}}',r'\\frac{{{x^3}}}{{{x^2} - 1}} - \\frac{1}{{x - 1}} + \\frac{1}{{1 - {x^2}}}'],\n",
    "                       [r'\\frac{5}{{2x + 6}}',r'\\frac{1}{{x( {x - 3} )}} + \\frac{1}{{( {x - 3} )( {x + 3} )}} + \\frac{1}{{x + 3}} - \\frac{1}{{x - 3}}'],\n",
    "                       [r'\\frac{4}{x} + \\frac{x}{2}',r'\\frac{{12}}{x}'],\n",
    "                       [r'\\frac{5}{{4{x^2}}} - \\frac{3}{{6{x^2}}}',r'\\frac{1}{3}'],\n",
    "                       [r'\\frac{{6 - x}}{3} - \\frac{{3( {x - 4} )}}{{6 + x}}',r'\\frac{{x - 2}}{2}']\n",
    "                       \n",
    "                      ]\n",
    "                                       \n",
    "\n",
    "\n",
    "\n",
    "\n",
    "enunciado_latex,enunciado, solucion = [], [], []\n",
    "\n",
    "for i, s in enumerate(pre_enunciado_latex) :\n",
    "    enunciado_latex.append(latex(Eq(parse_latex(s[0]),parse_latex(s[1]))))\n",
    "    enunciado.append(Eq(parse_latex(s[0]),parse_latex(s[1])))\n",
    "    solucion.append(latex(solveset(enunciado[i], domain=S.Reals))) \n",
    "    display(md(\"$\"+ enunciado_latex[i] +\" \\\\rightarrow \" + solucion[i] +\"$\"))\n",
    "\n",
    "df_ejercicios = df_ejercicios.append(añadir_ejercicios(enunciado_latex, enunciado, solucion, texto_ejercicio, curso, titulo , n_ejercicio, '1', '2'), ignore_index=True)\n"
   ]
  },
  {
   "cell_type": "code",
   "execution_count": 6,
   "metadata": {},
   "outputs": [
    {
     "data": {
      "text/markdown": [
       "**Discute, sin resolver, las ecuaciones:**"
      ],
      "text/plain": [
       "<IPython.core.display.Markdown object>"
      ]
     },
     "metadata": {},
     "output_type": "display_data"
    },
    {
     "data": {
      "text/markdown": [
       "$\\left(x^{2} - 9 x\\right) + 1 = 0 \\rightarrow \\left\\{- \\frac{\\sqrt{77}}{2} + \\frac{9}{2}, \\frac{\\sqrt{77}}{2} + \\frac{9}{2}\\right\\}$"
      ],
      "text/plain": [
       "<IPython.core.display.Markdown object>"
      ]
     },
     "metadata": {},
     "output_type": "display_data"
    },
    {
     "data": {
      "text/markdown": [
       "$\\left(2 x^{2} + 6 x\\right) - 5 = 0 \\rightarrow \\left\\{- \\frac{3}{2} + \\frac{\\sqrt{19}}{2}, - \\frac{\\sqrt{19}}{2} - \\frac{3}{2}\\right\\}$"
      ],
      "text/plain": [
       "<IPython.core.display.Markdown object>"
      ]
     },
     "metadata": {},
     "output_type": "display_data"
    },
    {
     "data": {
      "text/markdown": [
       "$\\left(3 x^{2} - x\\right) + 1 = 0 \\rightarrow \\emptyset$"
      ],
      "text/plain": [
       "<IPython.core.display.Markdown object>"
      ]
     },
     "metadata": {},
     "output_type": "display_data"
    },
    {
     "data": {
      "text/markdown": [
       "$\\left(x^{2} - 12 x\\right) + 36 = 0 \\rightarrow \\left\\{6\\right\\}$"
      ],
      "text/plain": [
       "<IPython.core.display.Markdown object>"
      ]
     },
     "metadata": {},
     "output_type": "display_data"
    }
   ],
   "source": [
    "# Página 17 ejercicio 5\n",
    "\n",
    "texto_ejercicio = 'Discute, sin resolver, las ecuaciones:'\n",
    "n_ejercicio = 'p017e05'\n",
    "\n",
    "display(md(\"**\"+texto_ejercicio+\"**\"))\n",
    "\n",
    "pre_enunciado_latex = [[r'{x^2} - 9x + 1',r'0'],\n",
    "                       [r'2{x^2} + 6x - 5',r'0'],\n",
    "                       [r'3{x^2} - x + 1',r' 0'],\n",
    "                       [r'{x^2} - 12x + 36',r'0']\n",
    "                       \n",
    "                      ]\n",
    "                                       \n",
    "\n",
    "\n",
    "\n",
    "\n",
    "enunciado_latex,enunciado, solucion = [], [], []\n",
    "\n",
    "for i, s in enumerate(pre_enunciado_latex) :\n",
    "    enunciado_latex.append(latex(Eq(parse_latex(s[0]),parse_latex(s[1]))))\n",
    "    enunciado.append(Eq(parse_latex(s[0]),parse_latex(s[1])))\n",
    "    solucion.append(latex(solveset(enunciado[i], domain=S.Reals))) \n",
    "    display(md(\"$\"+ enunciado_latex[i] +\" \\\\rightarrow \" + solucion[i] +\"$\"))\n",
    "\n",
    "df_ejercicios = df_ejercicios.append(añadir_ejercicios(enunciado_latex, enunciado, solucion, texto_ejercicio, curso, titulo , n_ejercicio, '1', '2'), ignore_index=True)\n"
   ]
  },
  {
   "cell_type": "code",
   "execution_count": 7,
   "metadata": {},
   "outputs": [
    {
     "data": {
      "text/markdown": [
       "**Resuelve:**"
      ],
      "text/plain": [
       "<IPython.core.display.Markdown object>"
      ]
     },
     "metadata": {},
     "output_type": "display_data"
    },
    {
     "data": {
      "text/markdown": [
       "$x^{4} - 16 = 0 \\rightarrow \\left\\{-2, 2\\right\\}$"
      ],
      "text/plain": [
       "<IPython.core.display.Markdown object>"
      ]
     },
     "metadata": {},
     "output_type": "display_data"
    },
    {
     "data": {
      "text/markdown": [
       "$x^{4} - 225 x^{2} = 0 \\rightarrow \\left\\{-15, 0, 15\\right\\}$"
      ],
      "text/plain": [
       "<IPython.core.display.Markdown object>"
      ]
     },
     "metadata": {},
     "output_type": "display_data"
    },
    {
     "data": {
      "text/markdown": [
       "$\\left(x^{4} - 10 x^{2}\\right) + 9 = 0 \\rightarrow \\left\\{-3, -1, 1, 3\\right\\}$"
      ],
      "text/plain": [
       "<IPython.core.display.Markdown object>"
      ]
     },
     "metadata": {},
     "output_type": "display_data"
    },
    {
     "data": {
      "text/markdown": [
       "$\\left(2 x^{4} + 11 x^{2}\\right) - 6 = 0 \\rightarrow \\left\\{- \\frac{\\sqrt{2}}{2}, \\frac{\\sqrt{2}}{2}\\right\\}$"
      ],
      "text/plain": [
       "<IPython.core.display.Markdown object>"
      ]
     },
     "metadata": {},
     "output_type": "display_data"
    },
    {
     "data": {
      "text/markdown": [
       "$\\left(x^{4} - 6 x^{2}\\right) + 8 = 0 \\rightarrow \\left\\{-2, 2, - \\sqrt{2}, \\sqrt{2}\\right\\}$"
      ],
      "text/plain": [
       "<IPython.core.display.Markdown object>"
      ]
     },
     "metadata": {},
     "output_type": "display_data"
    },
    {
     "data": {
      "text/markdown": [
       "$x^{4} + 2 x^{2} = - 3 \\rightarrow \\emptyset$"
      ],
      "text/plain": [
       "<IPython.core.display.Markdown object>"
      ]
     },
     "metadata": {},
     "output_type": "display_data"
    },
    {
     "data": {
      "text/markdown": [
       "$\\left(x^{4} - 8 x^{2}\\right) - 9 = 0 \\rightarrow \\left\\{-3, 3\\right\\}$"
      ],
      "text/plain": [
       "<IPython.core.display.Markdown object>"
      ]
     },
     "metadata": {},
     "output_type": "display_data"
    },
    {
     "data": {
      "text/markdown": [
       "$\\left(x^{4} - 10 x^{2}\\right) + 25 = 0 \\rightarrow \\left\\{- \\sqrt{5}, \\sqrt{5}\\right\\}$"
      ],
      "text/plain": [
       "<IPython.core.display.Markdown object>"
      ]
     },
     "metadata": {},
     "output_type": "display_data"
    },
    {
     "data": {
      "text/markdown": [
       "$\\left(x^{4} - 29 x^{2}\\right) + 100 = 0 \\rightarrow \\left\\{-5, -2, 2, 5\\right\\}$"
      ],
      "text/plain": [
       "<IPython.core.display.Markdown object>"
      ]
     },
     "metadata": {},
     "output_type": "display_data"
    },
    {
     "data": {
      "text/markdown": [
       "$\\left(x^{4} + 21 x^{2}\\right) - 100 = 0 \\rightarrow \\left\\{-2, 2\\right\\}$"
      ],
      "text/plain": [
       "<IPython.core.display.Markdown object>"
      ]
     },
     "metadata": {},
     "output_type": "display_data"
    },
    {
     "data": {
      "text/markdown": [
       "$9 x^{4} + 16 = 40 x^{2} \\rightarrow \\left\\{-2, - \\frac{2}{3}, \\frac{2}{3}, 2\\right\\}$"
      ],
      "text/plain": [
       "<IPython.core.display.Markdown object>"
      ]
     },
     "metadata": {},
     "output_type": "display_data"
    },
    {
     "data": {
      "text/markdown": [
       "$\\left(x^{4} - \\frac{5 x^{2}}{4}\\right) + \\frac{1}{4} = 0 \\rightarrow \\left\\{-1, - \\frac{1}{2}, \\frac{1}{2}, 1\\right\\}$"
      ],
      "text/plain": [
       "<IPython.core.display.Markdown object>"
      ]
     },
     "metadata": {},
     "output_type": "display_data"
    },
    {
     "data": {
      "text/markdown": [
       "$- x^{2} + 34 = \\frac{225}{x^{2}} \\rightarrow \\left\\{-5, -3, 3, 5\\right\\}$"
      ],
      "text/plain": [
       "<IPython.core.display.Markdown object>"
      ]
     },
     "metadata": {},
     "output_type": "display_data"
    },
    {
     "data": {
      "text/markdown": [
       "$x^{2} = \\frac{12}{x^{2} - 1} \\rightarrow \\left\\{-2, 2\\right\\}$"
      ],
      "text/plain": [
       "<IPython.core.display.Markdown object>"
      ]
     },
     "metadata": {},
     "output_type": "display_data"
    },
    {
     "data": {
      "text/markdown": [
       "$\\left(x^{4} + 4 x^{2}\\right) + 8 = 0 \\rightarrow \\emptyset$"
      ],
      "text/plain": [
       "<IPython.core.display.Markdown object>"
      ]
     },
     "metadata": {},
     "output_type": "display_data"
    },
    {
     "data": {
      "text/markdown": [
       "$-2 + \\frac{8}{x^{2} - 5} = \\frac{\\left(x - 3\\right) \\left(x + 3\\right)}{x^{2} - 1} \\rightarrow \\left\\{-3, 3, - \\frac{\\sqrt{21}}{3}, \\frac{\\sqrt{21}}{3}\\right\\}$"
      ],
      "text/plain": [
       "<IPython.core.display.Markdown object>"
      ]
     },
     "metadata": {},
     "output_type": "display_data"
    },
    {
     "data": {
      "text/markdown": [
       "$\\frac{x^{2} \\left(2 x + 5\\right)}{x + 1} = \\frac{9 \\left(- x + 1\\right)}{2 x - 5} \\rightarrow \\left\\{- \\frac{3 \\sqrt{2}}{2}, \\frac{3 \\sqrt{2}}{2}\\right\\}$"
      ],
      "text/plain": [
       "<IPython.core.display.Markdown object>"
      ]
     },
     "metadata": {},
     "output_type": "display_data"
    }
   ],
   "source": [
    "# Página 17 ejercicio 19\n",
    "\n",
    "texto_ejercicio = 'Resuelve:'\n",
    "n_ejercicio = 'p017e19'\n",
    "\n",
    "display(md(\"**\"+texto_ejercicio+\"**\"))\n",
    "\n",
    "pre_enunciado_latex = [[r'{x^4} - 16',r'0'],\n",
    "                       [r'{x^4} - 225{x^2}',r'0'],\n",
    "                       [r'{x^4} - 10{x^2} + 9',r' 0'],\n",
    "                       [r'2{x^4} + 11{x^2} - 6',r'0'],\n",
    "                       [r'{x^4} - 6{x^2} + 8 ',r'0'],\n",
    "                       [r'{x^4} + 2{x^2}',r'-3'],\n",
    "                       [r'{x^4} - 8{x^2} - 9',r'0'],\n",
    "                       [r'{x^4} - 10{x^2} + 25',r' 0'],\n",
    "                       [r'{x^4} - 29{x^2} + 100 ',r' 0'],\n",
    "                       [r'{x^4} + 21{x^2} - 100 ',r'0'],\n",
    "                       [r'9{x^4} + 16',r'40{x^2}'],\n",
    "                       [r'{x^4} - \\frac{5}{4}{x^2} + \\frac{1}{4}',r'0'],\n",
    "                       [r'34 - {x^2}',r'\\frac{{225}}{{{x^2}}}'],\n",
    "                       [r'{x^2}',r'\\frac{{12}}{{{x^2} - 1}}'],\n",
    "                       [r'{x^4} + 4{x^2} + 8',r'0'],\n",
    "                       [r'\\frac{8}{{{x^2} - 5}} - 2',r' \\frac{{( {x - 3} )( {x + 3})}}{{{x^2} - 1}}'],\n",
    "                       [r'\\frac{{{x^2}( {2x + 5})}}{{x + 1}}',r'\\frac{{9( {1 - x} )}}{{2x - 5}}']\n",
    "                       \n",
    "                      ]\n",
    "                                       \n",
    "\n",
    "\n",
    "\n",
    "\n",
    "enunciado_latex,enunciado, solucion = [], [], []\n",
    "\n",
    "for i, s in enumerate(pre_enunciado_latex) :\n",
    "    enunciado_latex.append(latex(Eq(parse_latex(s[0]),parse_latex(s[1]))))\n",
    "    enunciado.append(Eq(parse_latex(s[0]),parse_latex(s[1])))\n",
    "    solucion.append(latex(solveset(enunciado[i], domain=S.Reals))) \n",
    "    display(md(\"$\"+ enunciado_latex[i] +\" \\\\rightarrow \" + solucion[i] +\"$\"))\n",
    "\n",
    "df_ejercicios = df_ejercicios.append(añadir_ejercicios(enunciado_latex, enunciado, solucion, texto_ejercicio, curso, titulo , n_ejercicio, '1', '2'), ignore_index=True)\n"
   ]
  },
  {
   "cell_type": "code",
   "execution_count": 8,
   "metadata": {},
   "outputs": [
    {
     "data": {
      "text/markdown": [
       "**Resuelve:**"
      ],
      "text/plain": [
       "<IPython.core.display.Markdown object>"
      ]
     },
     "metadata": {},
     "output_type": "display_data"
    },
    {
     "data": {
      "text/markdown": [
       "$\\sqrt{2 x - 1} + 5 = 2 x + 4 \\rightarrow \\left\\{\\frac{1}{2}, 1\\right\\}$"
      ],
      "text/plain": [
       "<IPython.core.display.Markdown object>"
      ]
     },
     "metadata": {},
     "output_type": "display_data"
    },
    {
     "data": {
      "text/markdown": [
       "$2 \\sqrt{x - 3} + \\sqrt{6 x - 8} = 6 \\rightarrow \\left\\{4\\right\\}$"
      ],
      "text/plain": [
       "<IPython.core.display.Markdown object>"
      ]
     },
     "metadata": {},
     "output_type": "display_data"
    },
    {
     "data": {
      "text/markdown": [
       "$\\sqrt{2 x + 2} = x - 3 \\rightarrow \\left\\{7\\right\\}$"
      ],
      "text/plain": [
       "<IPython.core.display.Markdown object>"
      ]
     },
     "metadata": {},
     "output_type": "display_data"
    },
    {
     "data": {
      "text/markdown": [
       "$\\sqrt{2 x - 1} + 5 = 2 \\sqrt{x + 3} + 2 \\rightarrow \\left\\{1, 13\\right\\}$"
      ],
      "text/plain": [
       "<IPython.core.display.Markdown object>"
      ]
     },
     "metadata": {},
     "output_type": "display_data"
    },
    {
     "data": {
      "text/markdown": [
       "$- \\sqrt{x - 2} + \\sqrt{x - 1} = 1 \\rightarrow \\left\\{2\\right\\}$"
      ],
      "text/plain": [
       "<IPython.core.display.Markdown object>"
      ]
     },
     "metadata": {},
     "output_type": "display_data"
    },
    {
     "data": {
      "text/markdown": [
       "$\\sqrt{x - 1} + 2 = x - 5 \\rightarrow \\left\\{10\\right\\}$"
      ],
      "text/plain": [
       "<IPython.core.display.Markdown object>"
      ]
     },
     "metadata": {},
     "output_type": "display_data"
    },
    {
     "data": {
      "text/markdown": [
       "$\\sqrt{x} + x = 6 \\rightarrow \\left\\{4\\right\\}$"
      ],
      "text/plain": [
       "<IPython.core.display.Markdown object>"
      ]
     },
     "metadata": {},
     "output_type": "display_data"
    },
    {
     "data": {
      "text/markdown": [
       "$\\sqrt{x} + \\sqrt{x + 4} = 4 \\rightarrow \\left\\{\\frac{9}{4}\\right\\}$"
      ],
      "text/plain": [
       "<IPython.core.display.Markdown object>"
      ]
     },
     "metadata": {},
     "output_type": "display_data"
    },
    {
     "data": {
      "text/markdown": [
       "$\\sqrt{3 x - 2} - 4 = 0 \\rightarrow \\left\\{6\\right\\}$"
      ],
      "text/plain": [
       "<IPython.core.display.Markdown object>"
      ]
     },
     "metadata": {},
     "output_type": "display_data"
    },
    {
     "data": {
      "text/markdown": [
       "$\\sqrt{2 x + 1} = x - 1 \\rightarrow \\left\\{4\\right\\}$"
      ],
      "text/plain": [
       "<IPython.core.display.Markdown object>"
      ]
     },
     "metadata": {},
     "output_type": "display_data"
    },
    {
     "data": {
      "text/markdown": [
       "$- x + \\sqrt{- 3 x + 7} = 7 \\rightarrow \\left\\{-3\\right\\}$"
      ],
      "text/plain": [
       "<IPython.core.display.Markdown object>"
      ]
     },
     "metadata": {},
     "output_type": "display_data"
    },
    {
     "data": {
      "text/markdown": [
       "$3 \\sqrt{6 x + 1} - 5 = 2 x \\rightarrow \\left\\{\\frac{1}{2}, 8\\right\\}$"
      ],
      "text/plain": [
       "<IPython.core.display.Markdown object>"
      ]
     },
     "metadata": {},
     "output_type": "display_data"
    },
    {
     "data": {
      "text/markdown": [
       "$\\sqrt{3 x + 1} + 1 = 3 x \\rightarrow \\left\\{1\\right\\}$"
      ],
      "text/plain": [
       "<IPython.core.display.Markdown object>"
      ]
     },
     "metadata": {},
     "output_type": "display_data"
    },
    {
     "data": {
      "text/markdown": [
       "$\\sqrt{9 x^{2} - 11} + 1 = 3 x \\rightarrow \\left\\{2\\right\\}$"
      ],
      "text/plain": [
       "<IPython.core.display.Markdown object>"
      ]
     },
     "metadata": {},
     "output_type": "display_data"
    },
    {
     "data": {
      "text/markdown": [
       "$\\sqrt{\\left(x^{2} + x\\right) - 1} = - x + 2 \\rightarrow \\left\\{1\\right\\}$"
      ],
      "text/plain": [
       "<IPython.core.display.Markdown object>"
      ]
     },
     "metadata": {},
     "output_type": "display_data"
    },
    {
     "data": {
      "text/markdown": [
       "$\\sqrt{\\frac{- x + 2}{x + 2}} = \\frac{1}{2} \\rightarrow \\left\\{\\frac{6}{5}\\right\\}$"
      ],
      "text/plain": [
       "<IPython.core.display.Markdown object>"
      ]
     },
     "metadata": {},
     "output_type": "display_data"
    },
    {
     "data": {
      "text/markdown": [
       "$\\sqrt{x + 4} = - \\sqrt{x - 1} + 3 \\rightarrow \\left\\{\\frac{13}{9}\\right\\}$"
      ],
      "text/plain": [
       "<IPython.core.display.Markdown object>"
      ]
     },
     "metadata": {},
     "output_type": "display_data"
    },
    {
     "data": {
      "text/markdown": [
       "$\\sqrt{x + 4} + \\sqrt{2 x - 1} = 6 \\rightarrow \\left\\{5\\right\\}$"
      ],
      "text/plain": [
       "<IPython.core.display.Markdown object>"
      ]
     },
     "metadata": {},
     "output_type": "display_data"
    },
    {
     "data": {
      "text/markdown": [
       "$2 \\sqrt{x + 4} = \\sqrt{5 x + 4} \\rightarrow \\left\\{12\\right\\}$"
      ],
      "text/plain": [
       "<IPython.core.display.Markdown object>"
      ]
     },
     "metadata": {},
     "output_type": "display_data"
    },
    {
     "data": {
      "text/markdown": [
       "$2 \\sqrt{2 x - 1} = \\sqrt{2 x - 9} + \\sqrt{6 x - 5} \\rightarrow \\left\\{5\\right\\}$"
      ],
      "text/plain": [
       "<IPython.core.display.Markdown object>"
      ]
     },
     "metadata": {},
     "output_type": "display_data"
    },
    {
     "data": {
      "text/markdown": [
       "$\\sqrt{x} + \\frac{2}{\\sqrt{x}} = \\sqrt{x - 5} \\rightarrow \\emptyset$"
      ],
      "text/plain": [
       "<IPython.core.display.Markdown object>"
      ]
     },
     "metadata": {},
     "output_type": "display_data"
    }
   ],
   "source": [
    "# Página 18 ejercicio 20\n",
    "\n",
    "texto_ejercicio = 'Resuelve:'\n",
    "n_ejercicio = 'p018e20'\n",
    "\n",
    "display(md(\"**\"+texto_ejercicio+\"**\"))\n",
    "\n",
    "pre_enunciado_latex = [[r'\\sqrt {2x - 1}  + 5 ',r'4 + 2x'],\n",
    "                       [r'2\\sqrt {x - 3}  + \\sqrt {6x - 8}',r'6'],\n",
    "                       [r'\\sqrt {2x + 2}',r' x - 3'],\n",
    "                       [r'\\sqrt {2x - 1}  + 5',r'2\\sqrt {x + 3}  + 2'],\n",
    "                       [r'\\sqrt {x - 1}  - \\sqrt {x - 2} ',r'1'],\n",
    "                       [r'\\sqrt {x - 1}  + 2',r'x - 5'],\n",
    "                       [r'x + \\sqrt {x} ',r'6'],\n",
    "                       [r'\\sqrt {x + 4}  + \\sqrt{ x} ',r' 4'],\n",
    "                       [r'\\sqrt {3x - 2}  - 4 ',r' 0'],\n",
    "                       [r'\\sqrt {2x + 1} ',r'x - 1'],\n",
    "                       [r'\\sqrt {7 - 3x}  - x',r'7'],\n",
    "                       [r'3\\sqrt {6x + 1}  - 5',r'2x'],\n",
    "                       [r'\\sqrt {3x + 1}  + 1',r'3x'],\n",
    "                       [r'1 + \\sqrt {9{x^2} - 11} ',r'3x'],\n",
    "                       [r'\\sqrt {{x^2} + x - 1} ',r'2 - x'],\n",
    "                       [r'\\sqrt {\\frac{{2 - x}}{{2 + x}}}',r'\\frac{1}{2}'],\n",
    "                       [r'\\sqrt {x + 4}',r'3 - \\sqrt {x - 1} '],\n",
    "                       [r'\\sqrt {2x - 1}  + \\sqrt {x + 4}',r'6'],\n",
    "                       [r'2\\sqrt {x + 4}',r'\\sqrt {5x + 4}'],\n",
    "                       [r'2\\sqrt {2x - 1}',r' \\sqrt {6x - 5}  + \\sqrt {2x - 9}'],\n",
    "                       [r'\\sqrt {x}  + \\frac{2}{{\\sqrt {x} }}',r' \\sqrt {x - 5}']\n",
    "                       \n",
    "                      ]\n",
    "                                       \n",
    "\n",
    "\n",
    "\n",
    "\n",
    "enunciado_latex,enunciado, solucion = [], [], []\n",
    "\n",
    "for i, s in enumerate(pre_enunciado_latex) :\n",
    "    enunciado_latex.append(latex(Eq(parse_latex(s[0]),parse_latex(s[1]))))\n",
    "    enunciado.append(Eq(parse_latex(s[0]),parse_latex(s[1])))\n",
    "    solucion.append(latex(solveset(enunciado[i], domain=S.Reals))) \n",
    "    display(md(\"$\"+ enunciado_latex[i] +\" \\\\rightarrow \" + solucion[i] +\"$\"))\n",
    "\n",
    "df_ejercicios = df_ejercicios.append(añadir_ejercicios(enunciado_latex, enunciado, solucion, texto_ejercicio, curso, titulo , n_ejercicio, '1', '2'), ignore_index=True)\n"
   ]
  },
  {
   "cell_type": "code",
   "execution_count": 9,
   "metadata": {},
   "outputs": [
    {
     "data": {
      "text/markdown": [
       "**Resuelve las siguientes ecuaciones de grado superior a dos:**"
      ],
      "text/plain": [
       "<IPython.core.display.Markdown object>"
      ]
     },
     "metadata": {},
     "output_type": "display_data"
    },
    {
     "data": {
      "text/markdown": [
       "$\\left(7 x + \\left(x^{3} - 7 x^{2}\\right)\\right) + 15 = 0 \\rightarrow \\left\\{-1, 3, 5\\right\\}$"
      ],
      "text/plain": [
       "<IPython.core.display.Markdown object>"
      ]
     },
     "metadata": {},
     "output_type": "display_data"
    },
    {
     "data": {
      "text/markdown": [
       "$\\left(- x + \\left(x^{3} - 2 x^{2}\\right)\\right) + 2 = 0 \\rightarrow \\left\\{-1, 1, 2\\right\\}$"
      ],
      "text/plain": [
       "<IPython.core.display.Markdown object>"
      ]
     },
     "metadata": {},
     "output_type": "display_data"
    },
    {
     "data": {
      "text/markdown": [
       "$\\left(- 4 x + \\left(- 16 x^{2} + \\left(x^{4} + x^{3}\\right)\\right)\\right) + 48 = 0 \\rightarrow \\left\\{-4, -2, 2, 3\\right\\}$"
      ],
      "text/plain": [
       "<IPython.core.display.Markdown object>"
      ]
     },
     "metadata": {},
     "output_type": "display_data"
    },
    {
     "data": {
      "text/markdown": [
       "$\\left(- x + \\left(- 7 x^{2} + \\left(x^{4} + x^{3}\\right)\\right)\\right) + 6 = 0 \\rightarrow \\left\\{-3, -1, 1, 2\\right\\}$"
      ],
      "text/plain": [
       "<IPython.core.display.Markdown object>"
      ]
     },
     "metadata": {},
     "output_type": "display_data"
    },
    {
     "data": {
      "text/markdown": [
       "$x^{4} - 81 = 0 \\rightarrow \\left\\{-3, 3\\right\\}$"
      ],
      "text/plain": [
       "<IPython.core.display.Markdown object>"
      ]
     },
     "metadata": {},
     "output_type": "display_data"
    }
   ],
   "source": [
    "# Página 18 ejercicio 21\n",
    "\n",
    "texto_ejercicio = 'Resuelve las siguientes ecuaciones de grado superior a dos:'\n",
    "n_ejercicio = 'p018e21'\n",
    "\n",
    "display(md(\"**\"+texto_ejercicio+\"**\"))\n",
    "\n",
    "pre_enunciado_latex = [[r'{x^3} - 7{x^2} + 7x + 15',r'0'],\n",
    "                       [r'{x^3} - 2{x^2} - x + 2',r'0'],\n",
    "                       [r'{x^4} + {x^3} - 16{x^2} - 4x + 48',r'0'],\n",
    "                       [r'{x^4} + {x^3} - 7{x^2} - x + 6',r'0'],\n",
    "                       [r'{x^4} - 81',r'0']\n",
    "                      ]\n",
    "                                       \n",
    "\n",
    "\n",
    "\n",
    "\n",
    "enunciado_latex,enunciado, solucion = [], [], []\n",
    "\n",
    "for i, s in enumerate(pre_enunciado_latex) :\n",
    "    enunciado_latex.append(latex(Eq(parse_latex(s[0]),parse_latex(s[1]))))\n",
    "    enunciado.append(Eq(parse_latex(s[0]),parse_latex(s[1])))\n",
    "    solucion.append(latex(solveset(enunciado[i], domain=S.Reals))) \n",
    "    display(md(\"$\"+ enunciado_latex[i] +\" \\\\rightarrow \" + solucion[i] +\"$\"))\n",
    "\n",
    "df_ejercicios = df_ejercicios.append(añadir_ejercicios(enunciado_latex, enunciado, solucion, texto_ejercicio, curso, titulo , n_ejercicio, '1', '2'), ignore_index=True)\n"
   ]
  },
  {
   "cell_type": "code",
   "execution_count": 10,
   "metadata": {},
   "outputs": [
    {
     "data": {
      "text/markdown": [
       "**Halla tres números impares consecutivos, tales que sus cuadrados sumen 5051**"
      ],
      "text/plain": [
       "<IPython.core.display.Markdown object>"
      ]
     },
     "metadata": {},
     "output_type": "display_data"
    },
    {
     "data": {
      "text/markdown": [
       "$\\left(2 x + 1\\right)^{2} + \\left(\\left(2 x - 3\\right)^{2} + \\left(2 x - 1\\right)^{2}\\right) = 5051 \\rightarrow \\left [ -20, \\quad 21\\right ] \\to \\left [ -43, \\quad -41, \\quad -39\\right ] \\lor \\left [ 39, \\quad 41, \\quad 43\\right ]$"
      ],
      "text/plain": [
       "<IPython.core.display.Markdown object>"
      ]
     },
     "metadata": {},
     "output_type": "display_data"
    }
   ],
   "source": [
    "# Página 18 ejercicio 23\n",
    "\n",
    "texto_ejercicio = 'Halla tres números impares consecutivos, tales que sus cuadrados sumen 5051'\n",
    "n_ejercicio = 'p018e23'\n",
    "\n",
    "display(md(\"**\"+texto_ejercicio+\"**\"))\n",
    "\n",
    "pre_enunciado_latex = [[r'(2x-3)^2+(2x-1)^2+(2x+1)^2+',r'5051']\n",
    "                      ]\n",
    "                                       \n",
    "enunciado_latex,enunciado, solucion = [], [], []\n",
    "\n",
    "for i, s in enumerate(pre_enunciado_latex) :\n",
    "    enunciado_latex.append(latex(Eq(parse_latex(s[0]),parse_latex(s[1]))))\n",
    "    enunciado.append(Eq(parse_latex(s[0]),parse_latex(s[1])))\n",
    "    sl = solve(enunciado[i])\n",
    "    sl = latex(sl) + r\" \\to \" + latex([2*sl[0]-3,2*sl[0]-1,2*sl[0]+1])+ r\" \\lor \" + latex([2*sl[1]-3,2*sl[1]-1,2*sl[1]+1])\n",
    "    solucion.append(sl) \n",
    "    display(md(\"$\"+ enunciado_latex[i] +\" \\\\rightarrow \" + solucion[i] +\"$\"))\n",
    "\n",
    "df_ejercicios = df_ejercicios.append(añadir_ejercicios(enunciado_latex, enunciado, solucion, texto_ejercicio, curso, titulo , n_ejercicio, '1', '1'), ignore_index=True)\n"
   ]
  },
  {
   "cell_type": "code",
   "execution_count": 11,
   "metadata": {},
   "outputs": [
    {
     "data": {
      "text/markdown": [
       "**Halla tres números pares consecutivos sabiendo que su \n",
       "producto es igual a cuatro veces su suma.**"
      ],
      "text/plain": [
       "<IPython.core.display.Markdown object>"
      ]
     },
     "metadata": {},
     "output_type": "display_data"
    },
    {
     "data": {
      "text/markdown": [
       "$\\left(2 x + 2\\right) + \\left(2 x + \\left(2 x - 2\\right)\\right) = \\frac{2 x \\left(2 x + 2\\right) \\left(2 x - 2\\right)}{4} \\rightarrow \\left [ -2, \\quad 0, \\quad 2\\right ] \\to \\left [ -6, \\quad -4, \\quad -2\\right ] \\lor \\left [ -2, \\quad 0, \\quad 2\\right ] \\lor \\left [ 2, \\quad 4, \\quad 6\\right ]$"
      ],
      "text/plain": [
       "<IPython.core.display.Markdown object>"
      ]
     },
     "metadata": {},
     "output_type": "display_data"
    }
   ],
   "source": [
    "# Página 18 ejercicio 27\n",
    "\n",
    "texto_ejercicio = \"\"\"Halla tres números pares consecutivos sabiendo que su \n",
    "producto es igual a cuatro veces su suma.\"\"\"\n",
    "n_ejercicio = 'p018e27'\n",
    "\n",
    "display(md(\"**\"+texto_ejercicio+\"**\"))\n",
    "\n",
    "pre_enunciado_latex = [[r'(2x-2)+(2x)+(2x+2)',r'\\frac{(2x-2)(2x)(2x+2)}{4}']\n",
    "                      ]\n",
    "                                       \n",
    "enunciado_latex,enunciado, solucion = [], [], []\n",
    "\n",
    "for i, s in enumerate(pre_enunciado_latex) :\n",
    "    enunciado_latex.append(latex(Eq(parse_latex(s[0]),parse_latex(s[1]))))\n",
    "    enunciado.append(Eq(parse_latex(s[0]),parse_latex(s[1])))\n",
    "    sl = solve(enunciado[i])\n",
    "    sl = latex(sl) + r\" \\to \" + latex([2*sl[0]-2,2*sl[0],2*sl[0]+2])+ r\" \\lor \" + latex([2*sl[1]-2,2*sl[1],2*sl[1]+2])+ r\" \\lor \" + latex([2*sl[2]-2,2*sl[2],2*sl[2]+2])\n",
    "    solucion.append(sl) \n",
    "    display(md(\"$\"+ enunciado_latex[i] +\" \\\\rightarrow \" + solucion[i] +\"$\"))\n",
    "\n",
    "df_ejercicios = df_ejercicios.append(añadir_ejercicios(enunciado_latex, enunciado, solucion, texto_ejercicio, curso, titulo , n_ejercicio, '1', '1'), ignore_index=True)\n"
   ]
  },
  {
   "cell_type": "code",
   "execution_count": 12,
   "metadata": {},
   "outputs": [
    {
     "data": {
      "text/markdown": [
       "**Resuelve mediante expresiones algebraicas:**"
      ],
      "text/plain": [
       "<IPython.core.display.Markdown object>"
      ]
     },
     "metadata": {},
     "output_type": "display_data"
    },
    {
     "data": {
      "text/markdown": [
       "$ x + y - 11 = 0\\land \\left(x + 10 y\\right) \\left(10 x + y\\right) - 3154 = 0\\to \\left [ \\left ( 3, \\quad 8\\right ), \\quad \\left ( 8, \\quad 3\\right )\\right ]$"
      ],
      "text/plain": [
       "<IPython.core.display.Markdown object>"
      ]
     },
     "metadata": {},
     "output_type": "display_data"
    },
    {
     "data": {
      "text/markdown": [
       "$ x + 2 y - 87 = 0\\land x^{2} + y^{2} - \\left(y + 3\\right)^{2} = 0\\to \\left [ \\left ( -18, \\quad \\frac{105}{2}\\right ), \\quad \\left ( 15, \\quad 36\\right )\\right ]$"
      ],
      "text/plain": [
       "<IPython.core.display.Markdown object>"
      ]
     },
     "metadata": {},
     "output_type": "display_data"
    },
    {
     "data": {
      "text/markdown": [
       "$ x + y - 14 = 0\\land x^{2} + y^{2} - 100 = 0\\to \\left [ \\left ( 6, \\quad 8\\right ), \\quad \\left ( 8, \\quad 6\\right )\\right ]$"
      ],
      "text/plain": [
       "<IPython.core.display.Markdown object>"
      ]
     },
     "metadata": {},
     "output_type": "display_data"
    },
    {
     "data": {
      "text/markdown": [
       "$ x - y - 7 = 0\\land x^{2} + y^{2} - 3809 = 0\\to \\left [ \\left ( -40, \\quad -47\\right ), \\quad \\left ( 47, \\quad 40\\right )\\right ]$"
      ],
      "text/plain": [
       "<IPython.core.display.Markdown object>"
      ]
     },
     "metadata": {},
     "output_type": "display_data"
    },
    {
     "data": {
      "text/markdown": [
       "$ x y - 28 = 0\\land 2 x + 2 y - 22 = 0\\to \\left [ \\left ( 4, \\quad 7\\right ), \\quad \\left ( 7, \\quad 4\\right )\\right ]$"
      ],
      "text/plain": [
       "<IPython.core.display.Markdown object>"
      ]
     },
     "metadata": {},
     "output_type": "display_data"
    },
    {
     "data": {
      "text/markdown": [
       "$ x y - 750 = 0\\land 2 x + 2 y - 110 = 0\\to \\left [ \\left ( 25, \\quad 30\\right ), \\quad \\left ( 30, \\quad 25\\right )\\right ]$"
      ],
      "text/plain": [
       "<IPython.core.display.Markdown object>"
      ]
     },
     "metadata": {},
     "output_type": "display_data"
    },
    {
     "data": {
      "text/markdown": [
       "$ - x + y - 6 = 0\\land x y - 91 = 0\\to \\left [ \\left ( -13, \\quad -7\\right ), \\quad \\left ( 7, \\quad 13\\right )\\right ]$"
      ],
      "text/plain": [
       "<IPython.core.display.Markdown object>"
      ]
     },
     "metadata": {},
     "output_type": "display_data"
    }
   ],
   "source": [
    "# Página 18 ejercicio e24e26e29e30e31e32e33\n",
    "\n",
    "texto_ejercicio = \"Resuelve mediante expresiones algebraicas:\"\n",
    "n_ejercicio = 'p018e24e26e29e30e31e32e33'\n",
    "\n",
    "display(md(\"**\"+texto_ejercicio+\"**\"))\n",
    "\n",
    "enunciado = [[x+y-11,(10*x+y)*(10*y+x)-3154],\n",
    "             [x+y+(y+3)-90,x**2+y**2-(y+3)**2],\n",
    "             [x+y-14,x**2+y**2-100],\n",
    "             [x-y-7,x**2+y**2-3809],\n",
    "             [x*y-28,x*2+y*2-22],\n",
    "             [x*y-750,2*x+2*y-110],\n",
    "             [y-x-6,x*y-91]\n",
    "                      ]                                     \n",
    "\n",
    "enunciado_latex,solucion = [\n",
    "    \"\"\"Las dos cifras de un número suman 11 y el producto de dicho número por el que \n",
    "    se obtiene de invertir sus cifras es 3154. Halla dicho número.\"\"\",\n",
    "    \"\"\"El perímetro de un triángulo rectángulo es 90 m y el cateto mayor tiene 3 m menos que \n",
    "la hipotenusa. Halla los tres lados del triángulo.\"\"\",\n",
    "    \"\"\"Halla dos números cuya suma es 14 y la de sus cuadrados 100.\"\"\",\n",
    "    \"Halla dos números positivos cuya diferencia sea 7 y la suma de sus cuadrados 3809.\",\n",
    "    \"\"\"Una habitación rectangular tiene una superficie de 28 m² y \n",
    "    su zócalo tiene una longitud de 22 m. Halla las\n",
    "    dimensiones de la habitación.\"\"\",\n",
    "    \"\"\"Para vallar una finca rectangular de 750 m² se han utilizado 110 m de cerca. \n",
    "    Calcula las dimensiones de la cerca.\"\"\",\n",
    "    \"\"\"Uno de los lados de un rectángulo mide 6 cm más que el otro. \n",
    "    ¿Cuáles son sus dimensiones si su área es 91 cm²?\"\"\"\n",
    "                           ], []\n",
    "\n",
    "for i, s in enumerate(enunciado) :\n",
    "#    enunciado_latex = r\"\"\"Una habitación rectangular tiene una superficie de 28 m² y \n",
    "#su zócalo tiene una longitud de 22 m. Halla las\n",
    "#dimensiones de la habitación.\"\"\"\n",
    "    sl = latex(Eq(s[0],0))+ \"\\land \" + latex(Eq(s[1],0)) + r'\\to ' + latex(solve_poly_system(enunciado[i],x,y)) \n",
    "    solucion.append(sl) \n",
    "    display(md(\"$ \" + solucion[i] +\"$\"))\n",
    "\n",
    "df_ejercicios = df_ejercicios.append(añadir_ejercicios(enunciado_latex, enunciado, solucion, texto_ejercicio, curso, titulo , n_ejercicio, '1', '1', enun_tex = False), ignore_index=True)\n"
   ]
  },
  {
   "cell_type": "code",
   "execution_count": 13,
   "metadata": {},
   "outputs": [
    {
     "data": {
      "text/markdown": [
       "**Resuelve mediante expresiones algebraicas:**"
      ],
      "text/plain": [
       "<IPython.core.display.Markdown object>"
      ]
     },
     "metadata": {},
     "output_type": "display_data"
    },
    {
     "data": {
      "text/markdown": [
       "$ 2 \\sqrt{x} + x - 24 = 0\\to \\left\\{16\\right\\}$"
      ],
      "text/plain": [
       "<IPython.core.display.Markdown object>"
      ]
     },
     "metadata": {},
     "output_type": "display_data"
    },
    {
     "data": {
      "text/markdown": [
       "$ \\left(x + 8\\right)^{2} + \\left(x + 22\\right)^{2} - \\left(x + 24\\right)^{2} = 0\\to \\left\\{2\\right\\}$"
      ],
      "text/plain": [
       "<IPython.core.display.Markdown object>"
      ]
     },
     "metadata": {},
     "output_type": "display_data"
    },
    {
     "data": {
      "text/markdown": [
       "$ \\left(x + 80\\right) \\left(x + 100\\right) - 12000 = 0\\to \\left\\{20\\right\\}$"
      ],
      "text/plain": [
       "<IPython.core.display.Markdown object>"
      ]
     },
     "metadata": {},
     "output_type": "display_data"
    },
    {
     "data": {
      "text/markdown": [
       "$ 5 \\left(x - 10\\right)^{2} - 1280 = 0\\to \\left\\{26\\right\\}$"
      ],
      "text/plain": [
       "<IPython.core.display.Markdown object>"
      ]
     },
     "metadata": {},
     "output_type": "display_data"
    }
   ],
   "source": [
    "# Página 18 ejercicio 34\n",
    "\n",
    "texto_ejercicio = \"Resuelve mediante expresiones algebraicas:\"\n",
    "n_ejercicio = 'p018e22e25e28e34'\n",
    "\n",
    "display(md(\"**\"+texto_ejercicio+\"**\"))\n",
    "\n",
    "enunciado = [\n",
    "             x+2*sqrt(x)-24,\n",
    "             (8+x)**2+(22+x)**2-(24+x)**2, \n",
    "             (100+x)*(80+x)-8000-4000,\n",
    "             5*(x-10)**2-1280\n",
    "            ]\n",
    "\n",
    "enunciado_latex, solucion = [\n",
    "    'Calcula un número que sumado con el doble de su raíz cuadrada nos de 24.',\n",
    "    \"\"\"Tres segmentos miden, respectivamente, 8, 22 y 24 cm. \n",
    "Si a los tres les añadimos una misma longitud, el triángulo \n",
    "construido con ellos es rectángulo. Halla dicha longitud.\"\"\",\n",
    "    \"\"\"Un terreno rectangular tiene 100 m de largo y 80 m de ancho y está rodeado \n",
    "por calles de anchura uniforme.\n",
    "Si el área de las calles es de 4000 m² , ¿cuál es su anchura?\"\"\",\n",
    "     \"\"\"En cada esquina de una hoja de papel cuadrada se recorta un cuadrado de 5 cm de lado, y entonces,\n",
    "doblando y pegando, se puede formar una caja de 1.280 cm 3 de capacidad. Halla el lado de la hoja inicial.\"\"\"\n",
    "                           ], []\n",
    "\n",
    "for i, s in enumerate(enunciado) :\n",
    "#    enunciado_latex = r\"\"\"Una habitación rectangular tiene una superficie de 28 m² y \n",
    "#su zócalo tiene una longitud de 22 m. Halla las\n",
    "#dimensiones de la habitación.\"\"\" \n",
    "    sl = latex(Eq(enunciado[i],0))+ r'\\to ' + latex(solveset(enunciado[i],x, domain=S.Naturals)) \n",
    "    solucion.append(sl) \n",
    "    display(md(\"$ \" + solucion[i] +\"$\"))\n",
    "\n",
    "df_ejercicios = df_ejercicios.append(añadir_ejercicios(enunciado_latex, enunciado, solucion, texto_ejercicio, curso, titulo , n_ejercicio, '1', '1', enun_tex = False), ignore_index=True)\n"
   ]
  },
  {
   "cell_type": "code",
   "execution_count": 14,
   "metadata": {},
   "outputs": [],
   "source": [
    "df_ejercicios.to_csv('ejercicios6.csv', index = False)"
   ]
  },
  {
   "cell_type": "code",
   "execution_count": 15,
   "metadata": {},
   "outputs": [],
   "source": [
    "df_ejercicios = pd.read_csv('ejercicios6.csv', index_col= None)"
   ]
  },
  {
   "cell_type": "code",
   "execution_count": 16,
   "metadata": {},
   "outputs": [
    {
     "data": {
      "text/html": [
       "<div>\n",
       "<style scoped>\n",
       "    .dataframe tbody tr th:only-of-type {\n",
       "        vertical-align: middle;\n",
       "    }\n",
       "\n",
       "    .dataframe tbody tr th {\n",
       "        vertical-align: top;\n",
       "    }\n",
       "\n",
       "    .dataframe thead th {\n",
       "        text-align: right;\n",
       "    }\n",
       "</style>\n",
       "<table border=\"1\" class=\"dataframe\">\n",
       "  <thead>\n",
       "    <tr style=\"text-align: right;\">\n",
       "      <th></th>\n",
       "      <th>enunciado_latex</th>\n",
       "      <th>enunciado</th>\n",
       "      <th>solucion</th>\n",
       "      <th>texto</th>\n",
       "      <th>curso</th>\n",
       "      <th>titulo</th>\n",
       "      <th>n_ejercicio</th>\n",
       "      <th>dificultad</th>\n",
       "      <th>n_columnas</th>\n",
       "      <th>puntos</th>\n",
       "      <th>enun_tex</th>\n",
       "    </tr>\n",
       "  </thead>\n",
       "  <tbody>\n",
       "    <tr>\n",
       "      <th>0</th>\n",
       "      <td>x^{2} + 6 = 0</td>\n",
       "      <td>Eq(x**2 + 6, 0)</td>\n",
       "      <td>\\emptyset</td>\n",
       "      <td>Resuelve las ecuaciones:</td>\n",
       "      <td>1BC</td>\n",
       "      <td>6 - Ecuaciones de segundo grado</td>\n",
       "      <td>p016e01</td>\n",
       "      <td>1</td>\n",
       "      <td>2</td>\n",
       "      <td>1</td>\n",
       "      <td>True</td>\n",
       "    </tr>\n",
       "    <tr>\n",
       "      <th>1</th>\n",
       "      <td>x^{2} - 9 = 0</td>\n",
       "      <td>Eq(x**2 - 9, 0)</td>\n",
       "      <td>\\left\\{-3, 3\\right\\}</td>\n",
       "      <td>Resuelve las ecuaciones:</td>\n",
       "      <td>1BC</td>\n",
       "      <td>6 - Ecuaciones de segundo grado</td>\n",
       "      <td>p016e01</td>\n",
       "      <td>1</td>\n",
       "      <td>2</td>\n",
       "      <td>1</td>\n",
       "      <td>True</td>\n",
       "    </tr>\n",
       "    <tr>\n",
       "      <th>2</th>\n",
       "      <td>x^{2} + 3 x = 0</td>\n",
       "      <td>Eq(x**2 + 3*x, 0)</td>\n",
       "      <td>\\left\\{-3, 0\\right\\}</td>\n",
       "      <td>Resuelve las ecuaciones:</td>\n",
       "      <td>1BC</td>\n",
       "      <td>6 - Ecuaciones de segundo grado</td>\n",
       "      <td>p016e01</td>\n",
       "      <td>1</td>\n",
       "      <td>2</td>\n",
       "      <td>1</td>\n",
       "      <td>True</td>\n",
       "    </tr>\n",
       "    <tr>\n",
       "      <th>3</th>\n",
       "      <td>3 x^{2} - 11 x = 0</td>\n",
       "      <td>Eq(3*x**2 - 11*x, 0)</td>\n",
       "      <td>\\left\\{0, \\frac{11}{3}\\right\\}</td>\n",
       "      <td>Resuelve las ecuaciones:</td>\n",
       "      <td>1BC</td>\n",
       "      <td>6 - Ecuaciones de segundo grado</td>\n",
       "      <td>p016e01</td>\n",
       "      <td>1</td>\n",
       "      <td>2</td>\n",
       "      <td>1</td>\n",
       "      <td>True</td>\n",
       "    </tr>\n",
       "    <tr>\n",
       "      <th>4</th>\n",
       "      <td>4 x^{2} - 32 x = 0</td>\n",
       "      <td>Eq(4*x**2 - 32*x, 0)</td>\n",
       "      <td>\\left\\{0, 8\\right\\}</td>\n",
       "      <td>Resuelve las ecuaciones:</td>\n",
       "      <td>1BC</td>\n",
       "      <td>6 - Ecuaciones de segundo grado</td>\n",
       "      <td>p016e01</td>\n",
       "      <td>1</td>\n",
       "      <td>2</td>\n",
       "      <td>1</td>\n",
       "      <td>True</td>\n",
       "    </tr>\n",
       "    <tr>\n",
       "      <th>5</th>\n",
       "      <td>5 x^{2} = 0</td>\n",
       "      <td>Eq(5*x**2, 0)</td>\n",
       "      <td>\\left\\{0\\right\\}</td>\n",
       "      <td>Resuelve las ecuaciones:</td>\n",
       "      <td>1BC</td>\n",
       "      <td>6 - Ecuaciones de segundo grado</td>\n",
       "      <td>p016e01</td>\n",
       "      <td>1</td>\n",
       "      <td>2</td>\n",
       "      <td>1</td>\n",
       "      <td>True</td>\n",
       "    </tr>\n",
       "    <tr>\n",
       "      <th>6</th>\n",
       "      <td>12 x^{2} - 18 = 0</td>\n",
       "      <td>Eq(12*x**2 - 18, 0)</td>\n",
       "      <td>\\left\\{- \\frac{\\sqrt{6}}{2}, \\frac{\\sqrt{6}}{2...</td>\n",
       "      <td>Resuelve las ecuaciones:</td>\n",
       "      <td>1BC</td>\n",
       "      <td>6 - Ecuaciones de segundo grado</td>\n",
       "      <td>p016e01</td>\n",
       "      <td>1</td>\n",
       "      <td>2</td>\n",
       "      <td>1</td>\n",
       "      <td>True</td>\n",
       "    </tr>\n",
       "    <tr>\n",
       "      <th>7</th>\n",
       "      <td>3 \\left(- x + 1\\right) \\left(x + 1\\right) = 3</td>\n",
       "      <td>Eq(3*((-x + 1)*(x + 1)), 3)</td>\n",
       "      <td>\\left\\{0\\right\\}</td>\n",
       "      <td>Resuelve las ecuaciones:</td>\n",
       "      <td>1BC</td>\n",
       "      <td>6 - Ecuaciones de segundo grado</td>\n",
       "      <td>p016e01</td>\n",
       "      <td>1</td>\n",
       "      <td>2</td>\n",
       "      <td>1</td>\n",
       "      <td>True</td>\n",
       "    </tr>\n",
       "    <tr>\n",
       "      <th>8</th>\n",
       "      <td>3 \\left(x^{2} - 2\\right) = 21</td>\n",
       "      <td>Eq(3*(x**2 - 2), 21)</td>\n",
       "      <td>\\left\\{-3, 3\\right\\}</td>\n",
       "      <td>Resuelve las ecuaciones:</td>\n",
       "      <td>1BC</td>\n",
       "      <td>6 - Ecuaciones de segundo grado</td>\n",
       "      <td>p016e01</td>\n",
       "      <td>1</td>\n",
       "      <td>2</td>\n",
       "      <td>1</td>\n",
       "      <td>True</td>\n",
       "    </tr>\n",
       "    <tr>\n",
       "      <th>9</th>\n",
       "      <td>\\left(2 x^{2} + 11 x\\right) - 6 = 0</td>\n",
       "      <td>Eq(2*x**2 + 11*x - 6, 0)</td>\n",
       "      <td>\\left\\{-6, \\frac{1}{2}\\right\\}</td>\n",
       "      <td>Resuelve las ecuaciones:</td>\n",
       "      <td>1BC</td>\n",
       "      <td>6 - Ecuaciones de segundo grado</td>\n",
       "      <td>p016e02</td>\n",
       "      <td>1</td>\n",
       "      <td>2</td>\n",
       "      <td>1</td>\n",
       "      <td>True</td>\n",
       "    </tr>\n",
       "    <tr>\n",
       "      <th>10</th>\n",
       "      <td>\\left(x^{2} - 10 x\\right) + 25 = 0</td>\n",
       "      <td>Eq(x**2 - 10*x + 25, 0)</td>\n",
       "      <td>\\left\\{5\\right\\}</td>\n",
       "      <td>Resuelve las ecuaciones:</td>\n",
       "      <td>1BC</td>\n",
       "      <td>6 - Ecuaciones de segundo grado</td>\n",
       "      <td>p016e02</td>\n",
       "      <td>1</td>\n",
       "      <td>2</td>\n",
       "      <td>1</td>\n",
       "      <td>True</td>\n",
       "    </tr>\n",
       "    <tr>\n",
       "      <th>11</th>\n",
       "      <td>\\left(x^{2} + x\\right) + 1 = 0</td>\n",
       "      <td>Eq(x**2 + x + 1, 0)</td>\n",
       "      <td>\\emptyset</td>\n",
       "      <td>Resuelve las ecuaciones:</td>\n",
       "      <td>1BC</td>\n",
       "      <td>6 - Ecuaciones de segundo grado</td>\n",
       "      <td>p016e02</td>\n",
       "      <td>1</td>\n",
       "      <td>2</td>\n",
       "      <td>1</td>\n",
       "      <td>True</td>\n",
       "    </tr>\n",
       "    <tr>\n",
       "      <th>12</th>\n",
       "      <td>\\left(x^{2} - 2 x\\right) - 1 = 0</td>\n",
       "      <td>Eq(x**2 - 2*x - 1, 0)</td>\n",
       "      <td>\\left\\{1 + \\sqrt{2}, - \\sqrt{2} + 1\\right\\}</td>\n",
       "      <td>Resuelve las ecuaciones:</td>\n",
       "      <td>1BC</td>\n",
       "      <td>6 - Ecuaciones de segundo grado</td>\n",
       "      <td>p016e02</td>\n",
       "      <td>1</td>\n",
       "      <td>2</td>\n",
       "      <td>1</td>\n",
       "      <td>True</td>\n",
       "    </tr>\n",
       "    <tr>\n",
       "      <th>13</th>\n",
       "      <td>\\left(3 x^{2} + 5 x\\right) - 2 = 0</td>\n",
       "      <td>Eq(3*x**2 + 5*x - 2, 0)</td>\n",
       "      <td>\\left\\{-2, \\frac{1}{3}\\right\\}</td>\n",
       "      <td>Resuelve las ecuaciones:</td>\n",
       "      <td>1BC</td>\n",
       "      <td>6 - Ecuaciones de segundo grado</td>\n",
       "      <td>p016e02</td>\n",
       "      <td>1</td>\n",
       "      <td>2</td>\n",
       "      <td>1</td>\n",
       "      <td>True</td>\n",
       "    </tr>\n",
       "    <tr>\n",
       "      <th>14</th>\n",
       "      <td>\\left(4 x^{2} - 4 x\\right) + 1 = 0</td>\n",
       "      <td>Eq(4*x**2 - 4*x + 1, 0)</td>\n",
       "      <td>\\left\\{\\frac{1}{2}\\right\\}</td>\n",
       "      <td>Resuelve las ecuaciones:</td>\n",
       "      <td>1BC</td>\n",
       "      <td>6 - Ecuaciones de segundo grado</td>\n",
       "      <td>p016e02</td>\n",
       "      <td>1</td>\n",
       "      <td>2</td>\n",
       "      <td>1</td>\n",
       "      <td>True</td>\n",
       "    </tr>\n",
       "    <tr>\n",
       "      <th>15</th>\n",
       "      <td>\\left(2 x^{2} - 9 x\\right) + 11 = 0</td>\n",
       "      <td>Eq(2*x**2 - 9*x + 11, 0)</td>\n",
       "      <td>\\emptyset</td>\n",
       "      <td>Resuelve las ecuaciones:</td>\n",
       "      <td>1BC</td>\n",
       "      <td>6 - Ecuaciones de segundo grado</td>\n",
       "      <td>p016e02</td>\n",
       "      <td>1</td>\n",
       "      <td>2</td>\n",
       "      <td>1</td>\n",
       "      <td>True</td>\n",
       "    </tr>\n",
       "    <tr>\n",
       "      <th>16</th>\n",
       "      <td>- x \\left(x - 2\\right) + 9 = 4 x + 6</td>\n",
       "      <td>Eq(-x*(x - 2) + 9, 4*x + 6)</td>\n",
       "      <td>\\left\\{-3, 1\\right\\}</td>\n",
       "      <td>Resuelve las ecuaciones:</td>\n",
       "      <td>1BC</td>\n",
       "      <td>6 - Ecuaciones de segundo grado</td>\n",
       "      <td>p016e03</td>\n",
       "      <td>1</td>\n",
       "      <td>2</td>\n",
       "      <td>1</td>\n",
       "      <td>True</td>\n",
       "    </tr>\n",
       "    <tr>\n",
       "      <th>17</th>\n",
       "      <td>- \\left(x - 1\\right) \\left(x + 4\\right) + 2 \\l...</td>\n",
       "      <td>Eq(-(x - 1)*(x + 4) + 2*(x**2 - 3), x - 2)</td>\n",
       "      <td>\\left\\{0, 4\\right\\}</td>\n",
       "      <td>Resuelve las ecuaciones:</td>\n",
       "      <td>1BC</td>\n",
       "      <td>6 - Ecuaciones de segundo grado</td>\n",
       "      <td>p016e03</td>\n",
       "      <td>1</td>\n",
       "      <td>2</td>\n",
       "      <td>1</td>\n",
       "      <td>True</td>\n",
       "    </tr>\n",
       "    <tr>\n",
       "      <th>18</th>\n",
       "      <td>x \\left(x - 1\\right) - 2 \\left(x - 3\\right) \\l...</td>\n",
       "      <td>Eq(x*(x - 1) - 2*(x - 3)*(x - 2), 2)</td>\n",
       "      <td>\\left\\{2, 7\\right\\}</td>\n",
       "      <td>Resuelve las ecuaciones:</td>\n",
       "      <td>1BC</td>\n",
       "      <td>6 - Ecuaciones de segundo grado</td>\n",
       "      <td>p016e03</td>\n",
       "      <td>1</td>\n",
       "      <td>2</td>\n",
       "      <td>1</td>\n",
       "      <td>True</td>\n",
       "    </tr>\n",
       "    <tr>\n",
       "      <th>19</th>\n",
       "      <td>\\left(2 x^{2} - 11 x\\right) + 12 = 0</td>\n",
       "      <td>Eq(2*x**2 - 11*x + 12, 0)</td>\n",
       "      <td>\\left\\{\\frac{3}{2}, 4\\right\\}</td>\n",
       "      <td>Resuelve las ecuaciones:</td>\n",
       "      <td>1BC</td>\n",
       "      <td>6 - Ecuaciones de segundo grado</td>\n",
       "      <td>p016e03</td>\n",
       "      <td>1</td>\n",
       "      <td>2</td>\n",
       "      <td>1</td>\n",
       "      <td>True</td>\n",
       "    </tr>\n",
       "    <tr>\n",
       "      <th>20</th>\n",
       "      <td>3 \\left(x - 1\\right) \\left(x + 2\\right) = 0</td>\n",
       "      <td>Eq(3*((x - 1)*(x + 2)), 0)</td>\n",
       "      <td>\\left\\{-2, 1\\right\\}</td>\n",
       "      <td>Resuelve las ecuaciones:</td>\n",
       "      <td>1BC</td>\n",
       "      <td>6 - Ecuaciones de segundo grado</td>\n",
       "      <td>p016e03</td>\n",
       "      <td>1</td>\n",
       "      <td>2</td>\n",
       "      <td>1</td>\n",
       "      <td>True</td>\n",
       "    </tr>\n",
       "    <tr>\n",
       "      <th>21</th>\n",
       "      <td>\\left(x - 2\\right)^{2} = 3</td>\n",
       "      <td>Eq((x - 2)**2, 3)</td>\n",
       "      <td>\\left\\{- \\sqrt{3} + 2, \\sqrt{3} + 2\\right\\}</td>\n",
       "      <td>Resuelve las ecuaciones:</td>\n",
       "      <td>1BC</td>\n",
       "      <td>6 - Ecuaciones de segundo grado</td>\n",
       "      <td>p016e03</td>\n",
       "      <td>1</td>\n",
       "      <td>2</td>\n",
       "      <td>1</td>\n",
       "      <td>True</td>\n",
       "    </tr>\n",
       "    <tr>\n",
       "      <th>22</th>\n",
       "      <td>21 x - 100 = - x + \\left(x^{2} + 21\\right)</td>\n",
       "      <td>Eq(21*x - 100, -x + x**2 + 21)</td>\n",
       "      <td>\\left\\{11\\right\\}</td>\n",
       "      <td>Resuelve las ecuaciones:</td>\n",
       "      <td>1BC</td>\n",
       "      <td>6 - Ecuaciones de segundo grado</td>\n",
       "      <td>p016e03</td>\n",
       "      <td>1</td>\n",
       "      <td>2</td>\n",
       "      <td>1</td>\n",
       "      <td>True</td>\n",
       "    </tr>\n",
       "    <tr>\n",
       "      <th>23</th>\n",
       "      <td>\\frac{x}{3} \\left(x - \\frac{1}{6}\\right) = x - 1</td>\n",
       "      <td>Eq((x/3)*(x - 1/6), x - 1)</td>\n",
       "      <td>\\emptyset</td>\n",
       "      <td>Resuelve las ecuaciones:</td>\n",
       "      <td>1BC</td>\n",
       "      <td>6 - Ecuaciones de segundo grado</td>\n",
       "      <td>p016e03</td>\n",
       "      <td>1</td>\n",
       "      <td>2</td>\n",
       "      <td>1</td>\n",
       "      <td>True</td>\n",
       "    </tr>\n",
       "    <tr>\n",
       "      <th>24</th>\n",
       "      <td>\\left(- \\frac{x}{3} + \\frac{1}{3}\\right) + \\fr...</td>\n",
       "      <td>Eq(-x/3 + 1/3 + (2*x**2 + 1)/2, (-x + 1)/6)</td>\n",
       "      <td>\\emptyset</td>\n",
       "      <td>Resuelve las ecuaciones:</td>\n",
       "      <td>1BC</td>\n",
       "      <td>6 - Ecuaciones de segundo grado</td>\n",
       "      <td>p016e03</td>\n",
       "      <td>1</td>\n",
       "      <td>2</td>\n",
       "      <td>1</td>\n",
       "      <td>True</td>\n",
       "    </tr>\n",
       "    <tr>\n",
       "      <th>25</th>\n",
       "      <td>\\frac{x + 1}{x - 1} - \\frac{1}{x} = \\frac{5}{2}</td>\n",
       "      <td>Eq((x + 1)/(x - 1) - 1/x, 5/2)</td>\n",
       "      <td>\\left\\{- \\frac{1}{3}, 2\\right\\}</td>\n",
       "      <td>Resuelve las siguientes ecuaciones de segundo ...</td>\n",
       "      <td>1BC</td>\n",
       "      <td>6 - Ecuaciones de segundo grado</td>\n",
       "      <td>p016e04</td>\n",
       "      <td>1</td>\n",
       "      <td>2</td>\n",
       "      <td>1</td>\n",
       "      <td>True</td>\n",
       "    </tr>\n",
       "    <tr>\n",
       "      <th>26</th>\n",
       "      <td>- \\frac{2}{x + 1} + \\frac{3 x + 2}{x - 1} = 5</td>\n",
       "      <td>Eq(-2/(x + 1) + (3*x + 2)/(x - 1), 5)</td>\n",
       "      <td>\\left\\{- \\frac{3}{2}, 3\\right\\}</td>\n",
       "      <td>Resuelve las siguientes ecuaciones de segundo ...</td>\n",
       "      <td>1BC</td>\n",
       "      <td>6 - Ecuaciones de segundo grado</td>\n",
       "      <td>p016e04</td>\n",
       "      <td>1</td>\n",
       "      <td>2</td>\n",
       "      <td>1</td>\n",
       "      <td>True</td>\n",
       "    </tr>\n",
       "    <tr>\n",
       "      <th>27</th>\n",
       "      <td>- \\frac{x}{x + 4} + 1 = \\frac{1}{x - 5}</td>\n",
       "      <td>Eq(-x/(x + 4) + 1, 1/(x - 5))</td>\n",
       "      <td>\\left\\{8\\right\\}</td>\n",
       "      <td>Resuelve las siguientes ecuaciones de segundo ...</td>\n",
       "      <td>1BC</td>\n",
       "      <td>6 - Ecuaciones de segundo grado</td>\n",
       "      <td>p016e04</td>\n",
       "      <td>1</td>\n",
       "      <td>2</td>\n",
       "      <td>1</td>\n",
       "      <td>True</td>\n",
       "    </tr>\n",
       "    <tr>\n",
       "      <th>28</th>\n",
       "      <td>\\frac{x}{x + 1} + \\frac{x + 1}{x} = \\frac{13}{6}</td>\n",
       "      <td>Eq(x/(x + 1) + (x + 1)/x, 13/6)</td>\n",
       "      <td>\\left\\{-3, 2\\right\\}</td>\n",
       "      <td>Resuelve las siguientes ecuaciones de segundo ...</td>\n",
       "      <td>1BC</td>\n",
       "      <td>6 - Ecuaciones de segundo grado</td>\n",
       "      <td>p016e04</td>\n",
       "      <td>1</td>\n",
       "      <td>2</td>\n",
       "      <td>1</td>\n",
       "      <td>True</td>\n",
       "    </tr>\n",
       "    <tr>\n",
       "      <th>29</th>\n",
       "      <td>\\left(-3 + \\frac{2 \\left(2 x + 1\\right)}{2 x -...</td>\n",
       "      <td>Eq(-3 + (2*(2*x + 1))/(2*x - 1) + 5, 0)</td>\n",
       "      <td>\\left\\{0\\right\\}</td>\n",
       "      <td>Resuelve las siguientes ecuaciones de segundo ...</td>\n",
       "      <td>1BC</td>\n",
       "      <td>6 - Ecuaciones de segundo grado</td>\n",
       "      <td>p016e04</td>\n",
       "      <td>1</td>\n",
       "      <td>2</td>\n",
       "      <td>1</td>\n",
       "      <td>True</td>\n",
       "    </tr>\n",
       "    <tr>\n",
       "      <th>...</th>\n",
       "      <td>...</td>\n",
       "      <td>...</td>\n",
       "      <td>...</td>\n",
       "      <td>...</td>\n",
       "      <td>...</td>\n",
       "      <td>...</td>\n",
       "      <td>...</td>\n",
       "      <td>...</td>\n",
       "      <td>...</td>\n",
       "      <td>...</td>\n",
       "      <td>...</td>\n",
       "    </tr>\n",
       "    <tr>\n",
       "      <th>69</th>\n",
       "      <td>\\sqrt{2 x + 1} = x - 1</td>\n",
       "      <td>Eq(sqrt(2*x + 1), x - 1)</td>\n",
       "      <td>\\left\\{4\\right\\}</td>\n",
       "      <td>Resuelve:</td>\n",
       "      <td>1BC</td>\n",
       "      <td>6 - Ecuaciones de segundo grado</td>\n",
       "      <td>p018e20</td>\n",
       "      <td>1</td>\n",
       "      <td>2</td>\n",
       "      <td>1</td>\n",
       "      <td>True</td>\n",
       "    </tr>\n",
       "    <tr>\n",
       "      <th>70</th>\n",
       "      <td>- x + \\sqrt{- 3 x + 7} = 7</td>\n",
       "      <td>Eq(-x + sqrt(-3*x + 7), 7)</td>\n",
       "      <td>\\left\\{-3\\right\\}</td>\n",
       "      <td>Resuelve:</td>\n",
       "      <td>1BC</td>\n",
       "      <td>6 - Ecuaciones de segundo grado</td>\n",
       "      <td>p018e20</td>\n",
       "      <td>1</td>\n",
       "      <td>2</td>\n",
       "      <td>1</td>\n",
       "      <td>True</td>\n",
       "    </tr>\n",
       "    <tr>\n",
       "      <th>71</th>\n",
       "      <td>3 \\sqrt{6 x + 1} - 5 = 2 x</td>\n",
       "      <td>Eq(3*sqrt(6*x + 1) - 5, 2*x)</td>\n",
       "      <td>\\left\\{\\frac{1}{2}, 8\\right\\}</td>\n",
       "      <td>Resuelve:</td>\n",
       "      <td>1BC</td>\n",
       "      <td>6 - Ecuaciones de segundo grado</td>\n",
       "      <td>p018e20</td>\n",
       "      <td>1</td>\n",
       "      <td>2</td>\n",
       "      <td>1</td>\n",
       "      <td>True</td>\n",
       "    </tr>\n",
       "    <tr>\n",
       "      <th>72</th>\n",
       "      <td>\\sqrt{3 x + 1} + 1 = 3 x</td>\n",
       "      <td>Eq(sqrt(3*x + 1) + 1, 3*x)</td>\n",
       "      <td>\\left\\{1\\right\\}</td>\n",
       "      <td>Resuelve:</td>\n",
       "      <td>1BC</td>\n",
       "      <td>6 - Ecuaciones de segundo grado</td>\n",
       "      <td>p018e20</td>\n",
       "      <td>1</td>\n",
       "      <td>2</td>\n",
       "      <td>1</td>\n",
       "      <td>True</td>\n",
       "    </tr>\n",
       "    <tr>\n",
       "      <th>73</th>\n",
       "      <td>\\sqrt{9 x^{2} - 11} + 1 = 3 x</td>\n",
       "      <td>Eq(sqrt(9*x**2 - 11) + 1, 3*x)</td>\n",
       "      <td>\\left\\{2\\right\\}</td>\n",
       "      <td>Resuelve:</td>\n",
       "      <td>1BC</td>\n",
       "      <td>6 - Ecuaciones de segundo grado</td>\n",
       "      <td>p018e20</td>\n",
       "      <td>1</td>\n",
       "      <td>2</td>\n",
       "      <td>1</td>\n",
       "      <td>True</td>\n",
       "    </tr>\n",
       "    <tr>\n",
       "      <th>74</th>\n",
       "      <td>\\sqrt{\\left(x^{2} + x\\right) - 1} = - x + 2</td>\n",
       "      <td>Eq(sqrt(x**2 + x - 1), -x + 2)</td>\n",
       "      <td>\\left\\{1\\right\\}</td>\n",
       "      <td>Resuelve:</td>\n",
       "      <td>1BC</td>\n",
       "      <td>6 - Ecuaciones de segundo grado</td>\n",
       "      <td>p018e20</td>\n",
       "      <td>1</td>\n",
       "      <td>2</td>\n",
       "      <td>1</td>\n",
       "      <td>True</td>\n",
       "    </tr>\n",
       "    <tr>\n",
       "      <th>75</th>\n",
       "      <td>\\sqrt{\\frac{- x + 2}{x + 2}} = \\frac{1}{2}</td>\n",
       "      <td>Eq(sqrt((-x + 2)/(x + 2)), 1/2)</td>\n",
       "      <td>\\left\\{\\frac{6}{5}\\right\\}</td>\n",
       "      <td>Resuelve:</td>\n",
       "      <td>1BC</td>\n",
       "      <td>6 - Ecuaciones de segundo grado</td>\n",
       "      <td>p018e20</td>\n",
       "      <td>1</td>\n",
       "      <td>2</td>\n",
       "      <td>1</td>\n",
       "      <td>True</td>\n",
       "    </tr>\n",
       "    <tr>\n",
       "      <th>76</th>\n",
       "      <td>\\sqrt{x + 4} = - \\sqrt{x - 1} + 3</td>\n",
       "      <td>Eq(sqrt(x + 4), -sqrt(x - 1) + 3)</td>\n",
       "      <td>\\left\\{\\frac{13}{9}\\right\\}</td>\n",
       "      <td>Resuelve:</td>\n",
       "      <td>1BC</td>\n",
       "      <td>6 - Ecuaciones de segundo grado</td>\n",
       "      <td>p018e20</td>\n",
       "      <td>1</td>\n",
       "      <td>2</td>\n",
       "      <td>1</td>\n",
       "      <td>True</td>\n",
       "    </tr>\n",
       "    <tr>\n",
       "      <th>77</th>\n",
       "      <td>\\sqrt{x + 4} + \\sqrt{2 x - 1} = 6</td>\n",
       "      <td>Eq(sqrt(x + 4) + sqrt(2*x - 1), 6)</td>\n",
       "      <td>\\left\\{5\\right\\}</td>\n",
       "      <td>Resuelve:</td>\n",
       "      <td>1BC</td>\n",
       "      <td>6 - Ecuaciones de segundo grado</td>\n",
       "      <td>p018e20</td>\n",
       "      <td>1</td>\n",
       "      <td>2</td>\n",
       "      <td>1</td>\n",
       "      <td>True</td>\n",
       "    </tr>\n",
       "    <tr>\n",
       "      <th>78</th>\n",
       "      <td>2 \\sqrt{x + 4} = \\sqrt{5 x + 4}</td>\n",
       "      <td>Eq(2*sqrt(x + 4), sqrt(5*x + 4))</td>\n",
       "      <td>\\left\\{12\\right\\}</td>\n",
       "      <td>Resuelve:</td>\n",
       "      <td>1BC</td>\n",
       "      <td>6 - Ecuaciones de segundo grado</td>\n",
       "      <td>p018e20</td>\n",
       "      <td>1</td>\n",
       "      <td>2</td>\n",
       "      <td>1</td>\n",
       "      <td>True</td>\n",
       "    </tr>\n",
       "    <tr>\n",
       "      <th>79</th>\n",
       "      <td>2 \\sqrt{2 x - 1} = \\sqrt{2 x - 9} + \\sqrt{6 x ...</td>\n",
       "      <td>Eq(2*sqrt(2*x - 1), sqrt(2*x - 9) + sqrt(6*x -...</td>\n",
       "      <td>\\left\\{5\\right\\}</td>\n",
       "      <td>Resuelve:</td>\n",
       "      <td>1BC</td>\n",
       "      <td>6 - Ecuaciones de segundo grado</td>\n",
       "      <td>p018e20</td>\n",
       "      <td>1</td>\n",
       "      <td>2</td>\n",
       "      <td>1</td>\n",
       "      <td>True</td>\n",
       "    </tr>\n",
       "    <tr>\n",
       "      <th>80</th>\n",
       "      <td>\\sqrt{x} + \\frac{2}{\\sqrt{x}} = \\sqrt{x - 5}</td>\n",
       "      <td>Eq(sqrt(x) + 2/sqrt(x), sqrt(x - 5))</td>\n",
       "      <td>\\emptyset</td>\n",
       "      <td>Resuelve:</td>\n",
       "      <td>1BC</td>\n",
       "      <td>6 - Ecuaciones de segundo grado</td>\n",
       "      <td>p018e20</td>\n",
       "      <td>1</td>\n",
       "      <td>2</td>\n",
       "      <td>1</td>\n",
       "      <td>True</td>\n",
       "    </tr>\n",
       "    <tr>\n",
       "      <th>81</th>\n",
       "      <td>\\left(7 x + \\left(x^{3} - 7 x^{2}\\right)\\right...</td>\n",
       "      <td>Eq(7*x + x**3 - 7*x**2 + 15, 0)</td>\n",
       "      <td>\\left\\{-1, 3, 5\\right\\}</td>\n",
       "      <td>Resuelve las siguientes ecuaciones de grado su...</td>\n",
       "      <td>1BC</td>\n",
       "      <td>6 - Ecuaciones de segundo grado</td>\n",
       "      <td>p018e21</td>\n",
       "      <td>1</td>\n",
       "      <td>2</td>\n",
       "      <td>1</td>\n",
       "      <td>True</td>\n",
       "    </tr>\n",
       "    <tr>\n",
       "      <th>82</th>\n",
       "      <td>\\left(- x + \\left(x^{3} - 2 x^{2}\\right)\\right...</td>\n",
       "      <td>Eq(-x + x**3 - 2*x**2 + 2, 0)</td>\n",
       "      <td>\\left\\{-1, 1, 2\\right\\}</td>\n",
       "      <td>Resuelve las siguientes ecuaciones de grado su...</td>\n",
       "      <td>1BC</td>\n",
       "      <td>6 - Ecuaciones de segundo grado</td>\n",
       "      <td>p018e21</td>\n",
       "      <td>1</td>\n",
       "      <td>2</td>\n",
       "      <td>1</td>\n",
       "      <td>True</td>\n",
       "    </tr>\n",
       "    <tr>\n",
       "      <th>83</th>\n",
       "      <td>\\left(- 4 x + \\left(- 16 x^{2} + \\left(x^{4} +...</td>\n",
       "      <td>Eq(-4*x - 16*x**2 + x**4 + x**3 + 48, 0)</td>\n",
       "      <td>\\left\\{-4, -2, 2, 3\\right\\}</td>\n",
       "      <td>Resuelve las siguientes ecuaciones de grado su...</td>\n",
       "      <td>1BC</td>\n",
       "      <td>6 - Ecuaciones de segundo grado</td>\n",
       "      <td>p018e21</td>\n",
       "      <td>1</td>\n",
       "      <td>2</td>\n",
       "      <td>1</td>\n",
       "      <td>True</td>\n",
       "    </tr>\n",
       "    <tr>\n",
       "      <th>84</th>\n",
       "      <td>\\left(- x + \\left(- 7 x^{2} + \\left(x^{4} + x^...</td>\n",
       "      <td>Eq(-x - 7*x**2 + x**4 + x**3 + 6, 0)</td>\n",
       "      <td>\\left\\{-3, -1, 1, 2\\right\\}</td>\n",
       "      <td>Resuelve las siguientes ecuaciones de grado su...</td>\n",
       "      <td>1BC</td>\n",
       "      <td>6 - Ecuaciones de segundo grado</td>\n",
       "      <td>p018e21</td>\n",
       "      <td>1</td>\n",
       "      <td>2</td>\n",
       "      <td>1</td>\n",
       "      <td>True</td>\n",
       "    </tr>\n",
       "    <tr>\n",
       "      <th>85</th>\n",
       "      <td>x^{4} - 81 = 0</td>\n",
       "      <td>Eq(x**4 - 81, 0)</td>\n",
       "      <td>\\left\\{-3, 3\\right\\}</td>\n",
       "      <td>Resuelve las siguientes ecuaciones de grado su...</td>\n",
       "      <td>1BC</td>\n",
       "      <td>6 - Ecuaciones de segundo grado</td>\n",
       "      <td>p018e21</td>\n",
       "      <td>1</td>\n",
       "      <td>2</td>\n",
       "      <td>1</td>\n",
       "      <td>True</td>\n",
       "    </tr>\n",
       "    <tr>\n",
       "      <th>86</th>\n",
       "      <td>\\left(2 x + 1\\right)^{2} + \\left(\\left(2 x - 3...</td>\n",
       "      <td>Eq((2*x + 1)**2 + (2*x - 3)**2 + (2*x - 1)**2,...</td>\n",
       "      <td>\\left [ -20, \\quad 21\\right ] \\to \\left [ -43,...</td>\n",
       "      <td>Halla tres números impares consecutivos, tales...</td>\n",
       "      <td>1BC</td>\n",
       "      <td>6 - Ecuaciones de segundo grado</td>\n",
       "      <td>p018e23</td>\n",
       "      <td>1</td>\n",
       "      <td>1</td>\n",
       "      <td>1</td>\n",
       "      <td>True</td>\n",
       "    </tr>\n",
       "    <tr>\n",
       "      <th>87</th>\n",
       "      <td>\\left(2 x + 2\\right) + \\left(2 x + \\left(2 x -...</td>\n",
       "      <td>Eq(2*x + 2 + 2*x + 2*x - 2, (((2*x)*(2*x + 2))...</td>\n",
       "      <td>\\left [ -2, \\quad 0, \\quad 2\\right ] \\to \\left...</td>\n",
       "      <td>Halla tres números pares consecutivos sabiendo...</td>\n",
       "      <td>1BC</td>\n",
       "      <td>6 - Ecuaciones de segundo grado</td>\n",
       "      <td>p018e27</td>\n",
       "      <td>1</td>\n",
       "      <td>1</td>\n",
       "      <td>1</td>\n",
       "      <td>True</td>\n",
       "    </tr>\n",
       "    <tr>\n",
       "      <th>88</th>\n",
       "      <td>Las dos cifras de un número suman 11 y el prod...</td>\n",
       "      <td>[x + y - 11, (x + 10*y)*(10*x + y) - 3154]</td>\n",
       "      <td>x + y - 11 = 0\\land \\left(x + 10 y\\right) \\lef...</td>\n",
       "      <td>Resuelve mediante expresiones algebraicas:</td>\n",
       "      <td>1BC</td>\n",
       "      <td>6 - Ecuaciones de segundo grado</td>\n",
       "      <td>p018e24e26e29e30e31e32e33</td>\n",
       "      <td>1</td>\n",
       "      <td>1</td>\n",
       "      <td>1</td>\n",
       "      <td>False</td>\n",
       "    </tr>\n",
       "    <tr>\n",
       "      <th>89</th>\n",
       "      <td>El perímetro de un triángulo rectángulo es 90 ...</td>\n",
       "      <td>[x + 2*y - 87, x**2 + y**2 - (y + 3)**2]</td>\n",
       "      <td>x + 2 y - 87 = 0\\land x^{2} + y^{2} - \\left(y ...</td>\n",
       "      <td>Resuelve mediante expresiones algebraicas:</td>\n",
       "      <td>1BC</td>\n",
       "      <td>6 - Ecuaciones de segundo grado</td>\n",
       "      <td>p018e24e26e29e30e31e32e33</td>\n",
       "      <td>1</td>\n",
       "      <td>1</td>\n",
       "      <td>1</td>\n",
       "      <td>False</td>\n",
       "    </tr>\n",
       "    <tr>\n",
       "      <th>90</th>\n",
       "      <td>Halla dos números cuya suma es 14 y la de sus ...</td>\n",
       "      <td>[x + y - 14, x**2 + y**2 - 100]</td>\n",
       "      <td>x + y - 14 = 0\\land x^{2} + y^{2} - 100 = 0\\to...</td>\n",
       "      <td>Resuelve mediante expresiones algebraicas:</td>\n",
       "      <td>1BC</td>\n",
       "      <td>6 - Ecuaciones de segundo grado</td>\n",
       "      <td>p018e24e26e29e30e31e32e33</td>\n",
       "      <td>1</td>\n",
       "      <td>1</td>\n",
       "      <td>1</td>\n",
       "      <td>False</td>\n",
       "    </tr>\n",
       "    <tr>\n",
       "      <th>91</th>\n",
       "      <td>Halla dos números positivos cuya diferencia se...</td>\n",
       "      <td>[x - y - 7, x**2 + y**2 - 3809]</td>\n",
       "      <td>x - y - 7 = 0\\land x^{2} + y^{2} - 3809 = 0\\to...</td>\n",
       "      <td>Resuelve mediante expresiones algebraicas:</td>\n",
       "      <td>1BC</td>\n",
       "      <td>6 - Ecuaciones de segundo grado</td>\n",
       "      <td>p018e24e26e29e30e31e32e33</td>\n",
       "      <td>1</td>\n",
       "      <td>1</td>\n",
       "      <td>1</td>\n",
       "      <td>False</td>\n",
       "    </tr>\n",
       "    <tr>\n",
       "      <th>92</th>\n",
       "      <td>Una habitación rectangular tiene una superfici...</td>\n",
       "      <td>[x*y - 28, 2*x + 2*y - 22]</td>\n",
       "      <td>x y - 28 = 0\\land 2 x + 2 y - 22 = 0\\to \\left ...</td>\n",
       "      <td>Resuelve mediante expresiones algebraicas:</td>\n",
       "      <td>1BC</td>\n",
       "      <td>6 - Ecuaciones de segundo grado</td>\n",
       "      <td>p018e24e26e29e30e31e32e33</td>\n",
       "      <td>1</td>\n",
       "      <td>1</td>\n",
       "      <td>1</td>\n",
       "      <td>False</td>\n",
       "    </tr>\n",
       "    <tr>\n",
       "      <th>93</th>\n",
       "      <td>Para vallar una finca rectangular de 750 m² se...</td>\n",
       "      <td>[x*y - 750, 2*x + 2*y - 110]</td>\n",
       "      <td>x y - 750 = 0\\land 2 x + 2 y - 110 = 0\\to \\lef...</td>\n",
       "      <td>Resuelve mediante expresiones algebraicas:</td>\n",
       "      <td>1BC</td>\n",
       "      <td>6 - Ecuaciones de segundo grado</td>\n",
       "      <td>p018e24e26e29e30e31e32e33</td>\n",
       "      <td>1</td>\n",
       "      <td>1</td>\n",
       "      <td>1</td>\n",
       "      <td>False</td>\n",
       "    </tr>\n",
       "    <tr>\n",
       "      <th>94</th>\n",
       "      <td>Uno de los lados de un rectángulo mide 6 cm má...</td>\n",
       "      <td>[-x + y - 6, x*y - 91]</td>\n",
       "      <td>- x + y - 6 = 0\\land x y - 91 = 0\\to \\left [ \\...</td>\n",
       "      <td>Resuelve mediante expresiones algebraicas:</td>\n",
       "      <td>1BC</td>\n",
       "      <td>6 - Ecuaciones de segundo grado</td>\n",
       "      <td>p018e24e26e29e30e31e32e33</td>\n",
       "      <td>1</td>\n",
       "      <td>1</td>\n",
       "      <td>1</td>\n",
       "      <td>False</td>\n",
       "    </tr>\n",
       "    <tr>\n",
       "      <th>95</th>\n",
       "      <td>Calcula un número que sumado con el doble de s...</td>\n",
       "      <td>2*sqrt(x) + x - 24</td>\n",
       "      <td>2 \\sqrt{x} + x - 24 = 0\\to \\left\\{16\\right\\}</td>\n",
       "      <td>Resuelve mediante expresiones algebraicas:</td>\n",
       "      <td>1BC</td>\n",
       "      <td>6 - Ecuaciones de segundo grado</td>\n",
       "      <td>p018e22e25e28e34</td>\n",
       "      <td>1</td>\n",
       "      <td>1</td>\n",
       "      <td>1</td>\n",
       "      <td>False</td>\n",
       "    </tr>\n",
       "    <tr>\n",
       "      <th>96</th>\n",
       "      <td>Tres segmentos miden, respectivamente, 8, 22 y...</td>\n",
       "      <td>(x + 8)**2 + (x + 22)**2 - (x + 24)**2</td>\n",
       "      <td>\\left(x + 8\\right)^{2} + \\left(x + 22\\right)^{...</td>\n",
       "      <td>Resuelve mediante expresiones algebraicas:</td>\n",
       "      <td>1BC</td>\n",
       "      <td>6 - Ecuaciones de segundo grado</td>\n",
       "      <td>p018e22e25e28e34</td>\n",
       "      <td>1</td>\n",
       "      <td>1</td>\n",
       "      <td>1</td>\n",
       "      <td>False</td>\n",
       "    </tr>\n",
       "    <tr>\n",
       "      <th>97</th>\n",
       "      <td>Un terreno rectangular tiene 100 m de largo y ...</td>\n",
       "      <td>(x + 80)*(x + 100) - 12000</td>\n",
       "      <td>\\left(x + 80\\right) \\left(x + 100\\right) - 120...</td>\n",
       "      <td>Resuelve mediante expresiones algebraicas:</td>\n",
       "      <td>1BC</td>\n",
       "      <td>6 - Ecuaciones de segundo grado</td>\n",
       "      <td>p018e22e25e28e34</td>\n",
       "      <td>1</td>\n",
       "      <td>1</td>\n",
       "      <td>1</td>\n",
       "      <td>False</td>\n",
       "    </tr>\n",
       "    <tr>\n",
       "      <th>98</th>\n",
       "      <td>En cada esquina de una hoja de papel cuadrada ...</td>\n",
       "      <td>5*(x - 10)**2 - 1280</td>\n",
       "      <td>5 \\left(x - 10\\right)^{2} - 1280 = 0\\to \\left\\...</td>\n",
       "      <td>Resuelve mediante expresiones algebraicas:</td>\n",
       "      <td>1BC</td>\n",
       "      <td>6 - Ecuaciones de segundo grado</td>\n",
       "      <td>p018e22e25e28e34</td>\n",
       "      <td>1</td>\n",
       "      <td>1</td>\n",
       "      <td>1</td>\n",
       "      <td>False</td>\n",
       "    </tr>\n",
       "  </tbody>\n",
       "</table>\n",
       "<p>99 rows × 11 columns</p>\n",
       "</div>"
      ],
      "text/plain": [
       "                                      enunciado_latex  \\\n",
       "0                                       x^{2} + 6 = 0   \n",
       "1                                       x^{2} - 9 = 0   \n",
       "2                                     x^{2} + 3 x = 0   \n",
       "3                                  3 x^{2} - 11 x = 0   \n",
       "4                                  4 x^{2} - 32 x = 0   \n",
       "5                                         5 x^{2} = 0   \n",
       "6                                   12 x^{2} - 18 = 0   \n",
       "7       3 \\left(- x + 1\\right) \\left(x + 1\\right) = 3   \n",
       "8                       3 \\left(x^{2} - 2\\right) = 21   \n",
       "9                 \\left(2 x^{2} + 11 x\\right) - 6 = 0   \n",
       "10                 \\left(x^{2} - 10 x\\right) + 25 = 0   \n",
       "11                     \\left(x^{2} + x\\right) + 1 = 0   \n",
       "12                   \\left(x^{2} - 2 x\\right) - 1 = 0   \n",
       "13                 \\left(3 x^{2} + 5 x\\right) - 2 = 0   \n",
       "14                 \\left(4 x^{2} - 4 x\\right) + 1 = 0   \n",
       "15                \\left(2 x^{2} - 9 x\\right) + 11 = 0   \n",
       "16               - x \\left(x - 2\\right) + 9 = 4 x + 6   \n",
       "17  - \\left(x - 1\\right) \\left(x + 4\\right) + 2 \\l...   \n",
       "18  x \\left(x - 1\\right) - 2 \\left(x - 3\\right) \\l...   \n",
       "19               \\left(2 x^{2} - 11 x\\right) + 12 = 0   \n",
       "20        3 \\left(x - 1\\right) \\left(x + 2\\right) = 0   \n",
       "21                         \\left(x - 2\\right)^{2} = 3   \n",
       "22         21 x - 100 = - x + \\left(x^{2} + 21\\right)   \n",
       "23   \\frac{x}{3} \\left(x - \\frac{1}{6}\\right) = x - 1   \n",
       "24  \\left(- \\frac{x}{3} + \\frac{1}{3}\\right) + \\fr...   \n",
       "25    \\frac{x + 1}{x - 1} - \\frac{1}{x} = \\frac{5}{2}   \n",
       "26      - \\frac{2}{x + 1} + \\frac{3 x + 2}{x - 1} = 5   \n",
       "27            - \\frac{x}{x + 4} + 1 = \\frac{1}{x - 5}   \n",
       "28   \\frac{x}{x + 1} + \\frac{x + 1}{x} = \\frac{13}{6}   \n",
       "29  \\left(-3 + \\frac{2 \\left(2 x + 1\\right)}{2 x -...   \n",
       "..                                                ...   \n",
       "69                             \\sqrt{2 x + 1} = x - 1   \n",
       "70                         - x + \\sqrt{- 3 x + 7} = 7   \n",
       "71                         3 \\sqrt{6 x + 1} - 5 = 2 x   \n",
       "72                           \\sqrt{3 x + 1} + 1 = 3 x   \n",
       "73                      \\sqrt{9 x^{2} - 11} + 1 = 3 x   \n",
       "74        \\sqrt{\\left(x^{2} + x\\right) - 1} = - x + 2   \n",
       "75         \\sqrt{\\frac{- x + 2}{x + 2}} = \\frac{1}{2}   \n",
       "76                  \\sqrt{x + 4} = - \\sqrt{x - 1} + 3   \n",
       "77                  \\sqrt{x + 4} + \\sqrt{2 x - 1} = 6   \n",
       "78                    2 \\sqrt{x + 4} = \\sqrt{5 x + 4}   \n",
       "79  2 \\sqrt{2 x - 1} = \\sqrt{2 x - 9} + \\sqrt{6 x ...   \n",
       "80       \\sqrt{x} + \\frac{2}{\\sqrt{x}} = \\sqrt{x - 5}   \n",
       "81  \\left(7 x + \\left(x^{3} - 7 x^{2}\\right)\\right...   \n",
       "82  \\left(- x + \\left(x^{3} - 2 x^{2}\\right)\\right...   \n",
       "83  \\left(- 4 x + \\left(- 16 x^{2} + \\left(x^{4} +...   \n",
       "84  \\left(- x + \\left(- 7 x^{2} + \\left(x^{4} + x^...   \n",
       "85                                     x^{4} - 81 = 0   \n",
       "86  \\left(2 x + 1\\right)^{2} + \\left(\\left(2 x - 3...   \n",
       "87  \\left(2 x + 2\\right) + \\left(2 x + \\left(2 x -...   \n",
       "88  Las dos cifras de un número suman 11 y el prod...   \n",
       "89  El perímetro de un triángulo rectángulo es 90 ...   \n",
       "90  Halla dos números cuya suma es 14 y la de sus ...   \n",
       "91  Halla dos números positivos cuya diferencia se...   \n",
       "92  Una habitación rectangular tiene una superfici...   \n",
       "93  Para vallar una finca rectangular de 750 m² se...   \n",
       "94  Uno de los lados de un rectángulo mide 6 cm má...   \n",
       "95  Calcula un número que sumado con el doble de s...   \n",
       "96  Tres segmentos miden, respectivamente, 8, 22 y...   \n",
       "97  Un terreno rectangular tiene 100 m de largo y ...   \n",
       "98  En cada esquina de una hoja de papel cuadrada ...   \n",
       "\n",
       "                                            enunciado  \\\n",
       "0                                     Eq(x**2 + 6, 0)   \n",
       "1                                     Eq(x**2 - 9, 0)   \n",
       "2                                   Eq(x**2 + 3*x, 0)   \n",
       "3                                Eq(3*x**2 - 11*x, 0)   \n",
       "4                                Eq(4*x**2 - 32*x, 0)   \n",
       "5                                       Eq(5*x**2, 0)   \n",
       "6                                 Eq(12*x**2 - 18, 0)   \n",
       "7                         Eq(3*((-x + 1)*(x + 1)), 3)   \n",
       "8                                Eq(3*(x**2 - 2), 21)   \n",
       "9                            Eq(2*x**2 + 11*x - 6, 0)   \n",
       "10                            Eq(x**2 - 10*x + 25, 0)   \n",
       "11                                Eq(x**2 + x + 1, 0)   \n",
       "12                              Eq(x**2 - 2*x - 1, 0)   \n",
       "13                            Eq(3*x**2 + 5*x - 2, 0)   \n",
       "14                            Eq(4*x**2 - 4*x + 1, 0)   \n",
       "15                           Eq(2*x**2 - 9*x + 11, 0)   \n",
       "16                        Eq(-x*(x - 2) + 9, 4*x + 6)   \n",
       "17         Eq(-(x - 1)*(x + 4) + 2*(x**2 - 3), x - 2)   \n",
       "18               Eq(x*(x - 1) - 2*(x - 3)*(x - 2), 2)   \n",
       "19                          Eq(2*x**2 - 11*x + 12, 0)   \n",
       "20                         Eq(3*((x - 1)*(x + 2)), 0)   \n",
       "21                                  Eq((x - 2)**2, 3)   \n",
       "22                     Eq(21*x - 100, -x + x**2 + 21)   \n",
       "23                         Eq((x/3)*(x - 1/6), x - 1)   \n",
       "24        Eq(-x/3 + 1/3 + (2*x**2 + 1)/2, (-x + 1)/6)   \n",
       "25                     Eq((x + 1)/(x - 1) - 1/x, 5/2)   \n",
       "26              Eq(-2/(x + 1) + (3*x + 2)/(x - 1), 5)   \n",
       "27                      Eq(-x/(x + 4) + 1, 1/(x - 5))   \n",
       "28                    Eq(x/(x + 1) + (x + 1)/x, 13/6)   \n",
       "29            Eq(-3 + (2*(2*x + 1))/(2*x - 1) + 5, 0)   \n",
       "..                                                ...   \n",
       "69                           Eq(sqrt(2*x + 1), x - 1)   \n",
       "70                         Eq(-x + sqrt(-3*x + 7), 7)   \n",
       "71                       Eq(3*sqrt(6*x + 1) - 5, 2*x)   \n",
       "72                         Eq(sqrt(3*x + 1) + 1, 3*x)   \n",
       "73                     Eq(sqrt(9*x**2 - 11) + 1, 3*x)   \n",
       "74                     Eq(sqrt(x**2 + x - 1), -x + 2)   \n",
       "75                    Eq(sqrt((-x + 2)/(x + 2)), 1/2)   \n",
       "76                  Eq(sqrt(x + 4), -sqrt(x - 1) + 3)   \n",
       "77                 Eq(sqrt(x + 4) + sqrt(2*x - 1), 6)   \n",
       "78                   Eq(2*sqrt(x + 4), sqrt(5*x + 4))   \n",
       "79  Eq(2*sqrt(2*x - 1), sqrt(2*x - 9) + sqrt(6*x -...   \n",
       "80               Eq(sqrt(x) + 2/sqrt(x), sqrt(x - 5))   \n",
       "81                    Eq(7*x + x**3 - 7*x**2 + 15, 0)   \n",
       "82                      Eq(-x + x**3 - 2*x**2 + 2, 0)   \n",
       "83           Eq(-4*x - 16*x**2 + x**4 + x**3 + 48, 0)   \n",
       "84               Eq(-x - 7*x**2 + x**4 + x**3 + 6, 0)   \n",
       "85                                   Eq(x**4 - 81, 0)   \n",
       "86  Eq((2*x + 1)**2 + (2*x - 3)**2 + (2*x - 1)**2,...   \n",
       "87  Eq(2*x + 2 + 2*x + 2*x - 2, (((2*x)*(2*x + 2))...   \n",
       "88         [x + y - 11, (x + 10*y)*(10*x + y) - 3154]   \n",
       "89           [x + 2*y - 87, x**2 + y**2 - (y + 3)**2]   \n",
       "90                    [x + y - 14, x**2 + y**2 - 100]   \n",
       "91                    [x - y - 7, x**2 + y**2 - 3809]   \n",
       "92                         [x*y - 28, 2*x + 2*y - 22]   \n",
       "93                       [x*y - 750, 2*x + 2*y - 110]   \n",
       "94                             [-x + y - 6, x*y - 91]   \n",
       "95                                 2*sqrt(x) + x - 24   \n",
       "96             (x + 8)**2 + (x + 22)**2 - (x + 24)**2   \n",
       "97                         (x + 80)*(x + 100) - 12000   \n",
       "98                               5*(x - 10)**2 - 1280   \n",
       "\n",
       "                                             solucion  \\\n",
       "0                                           \\emptyset   \n",
       "1                                \\left\\{-3, 3\\right\\}   \n",
       "2                                \\left\\{-3, 0\\right\\}   \n",
       "3                      \\left\\{0, \\frac{11}{3}\\right\\}   \n",
       "4                                 \\left\\{0, 8\\right\\}   \n",
       "5                                    \\left\\{0\\right\\}   \n",
       "6   \\left\\{- \\frac{\\sqrt{6}}{2}, \\frac{\\sqrt{6}}{2...   \n",
       "7                                    \\left\\{0\\right\\}   \n",
       "8                                \\left\\{-3, 3\\right\\}   \n",
       "9                      \\left\\{-6, \\frac{1}{2}\\right\\}   \n",
       "10                                   \\left\\{5\\right\\}   \n",
       "11                                          \\emptyset   \n",
       "12        \\left\\{1 + \\sqrt{2}, - \\sqrt{2} + 1\\right\\}   \n",
       "13                     \\left\\{-2, \\frac{1}{3}\\right\\}   \n",
       "14                         \\left\\{\\frac{1}{2}\\right\\}   \n",
       "15                                          \\emptyset   \n",
       "16                               \\left\\{-3, 1\\right\\}   \n",
       "17                                \\left\\{0, 4\\right\\}   \n",
       "18                                \\left\\{2, 7\\right\\}   \n",
       "19                      \\left\\{\\frac{3}{2}, 4\\right\\}   \n",
       "20                               \\left\\{-2, 1\\right\\}   \n",
       "21        \\left\\{- \\sqrt{3} + 2, \\sqrt{3} + 2\\right\\}   \n",
       "22                                  \\left\\{11\\right\\}   \n",
       "23                                          \\emptyset   \n",
       "24                                          \\emptyset   \n",
       "25                    \\left\\{- \\frac{1}{3}, 2\\right\\}   \n",
       "26                    \\left\\{- \\frac{3}{2}, 3\\right\\}   \n",
       "27                                   \\left\\{8\\right\\}   \n",
       "28                               \\left\\{-3, 2\\right\\}   \n",
       "29                                   \\left\\{0\\right\\}   \n",
       "..                                                ...   \n",
       "69                                   \\left\\{4\\right\\}   \n",
       "70                                  \\left\\{-3\\right\\}   \n",
       "71                      \\left\\{\\frac{1}{2}, 8\\right\\}   \n",
       "72                                   \\left\\{1\\right\\}   \n",
       "73                                   \\left\\{2\\right\\}   \n",
       "74                                   \\left\\{1\\right\\}   \n",
       "75                         \\left\\{\\frac{6}{5}\\right\\}   \n",
       "76                        \\left\\{\\frac{13}{9}\\right\\}   \n",
       "77                                   \\left\\{5\\right\\}   \n",
       "78                                  \\left\\{12\\right\\}   \n",
       "79                                   \\left\\{5\\right\\}   \n",
       "80                                          \\emptyset   \n",
       "81                            \\left\\{-1, 3, 5\\right\\}   \n",
       "82                            \\left\\{-1, 1, 2\\right\\}   \n",
       "83                        \\left\\{-4, -2, 2, 3\\right\\}   \n",
       "84                        \\left\\{-3, -1, 1, 2\\right\\}   \n",
       "85                               \\left\\{-3, 3\\right\\}   \n",
       "86  \\left [ -20, \\quad 21\\right ] \\to \\left [ -43,...   \n",
       "87  \\left [ -2, \\quad 0, \\quad 2\\right ] \\to \\left...   \n",
       "88  x + y - 11 = 0\\land \\left(x + 10 y\\right) \\lef...   \n",
       "89  x + 2 y - 87 = 0\\land x^{2} + y^{2} - \\left(y ...   \n",
       "90  x + y - 14 = 0\\land x^{2} + y^{2} - 100 = 0\\to...   \n",
       "91  x - y - 7 = 0\\land x^{2} + y^{2} - 3809 = 0\\to...   \n",
       "92  x y - 28 = 0\\land 2 x + 2 y - 22 = 0\\to \\left ...   \n",
       "93  x y - 750 = 0\\land 2 x + 2 y - 110 = 0\\to \\lef...   \n",
       "94  - x + y - 6 = 0\\land x y - 91 = 0\\to \\left [ \\...   \n",
       "95       2 \\sqrt{x} + x - 24 = 0\\to \\left\\{16\\right\\}   \n",
       "96  \\left(x + 8\\right)^{2} + \\left(x + 22\\right)^{...   \n",
       "97  \\left(x + 80\\right) \\left(x + 100\\right) - 120...   \n",
       "98  5 \\left(x - 10\\right)^{2} - 1280 = 0\\to \\left\\...   \n",
       "\n",
       "                                                texto curso  \\\n",
       "0                            Resuelve las ecuaciones:   1BC   \n",
       "1                            Resuelve las ecuaciones:   1BC   \n",
       "2                            Resuelve las ecuaciones:   1BC   \n",
       "3                            Resuelve las ecuaciones:   1BC   \n",
       "4                            Resuelve las ecuaciones:   1BC   \n",
       "5                            Resuelve las ecuaciones:   1BC   \n",
       "6                            Resuelve las ecuaciones:   1BC   \n",
       "7                            Resuelve las ecuaciones:   1BC   \n",
       "8                            Resuelve las ecuaciones:   1BC   \n",
       "9                            Resuelve las ecuaciones:   1BC   \n",
       "10                           Resuelve las ecuaciones:   1BC   \n",
       "11                           Resuelve las ecuaciones:   1BC   \n",
       "12                           Resuelve las ecuaciones:   1BC   \n",
       "13                           Resuelve las ecuaciones:   1BC   \n",
       "14                           Resuelve las ecuaciones:   1BC   \n",
       "15                           Resuelve las ecuaciones:   1BC   \n",
       "16                           Resuelve las ecuaciones:   1BC   \n",
       "17                           Resuelve las ecuaciones:   1BC   \n",
       "18                           Resuelve las ecuaciones:   1BC   \n",
       "19                           Resuelve las ecuaciones:   1BC   \n",
       "20                           Resuelve las ecuaciones:   1BC   \n",
       "21                           Resuelve las ecuaciones:   1BC   \n",
       "22                           Resuelve las ecuaciones:   1BC   \n",
       "23                           Resuelve las ecuaciones:   1BC   \n",
       "24                           Resuelve las ecuaciones:   1BC   \n",
       "25  Resuelve las siguientes ecuaciones de segundo ...   1BC   \n",
       "26  Resuelve las siguientes ecuaciones de segundo ...   1BC   \n",
       "27  Resuelve las siguientes ecuaciones de segundo ...   1BC   \n",
       "28  Resuelve las siguientes ecuaciones de segundo ...   1BC   \n",
       "29  Resuelve las siguientes ecuaciones de segundo ...   1BC   \n",
       "..                                                ...   ...   \n",
       "69                                          Resuelve:   1BC   \n",
       "70                                          Resuelve:   1BC   \n",
       "71                                          Resuelve:   1BC   \n",
       "72                                          Resuelve:   1BC   \n",
       "73                                          Resuelve:   1BC   \n",
       "74                                          Resuelve:   1BC   \n",
       "75                                          Resuelve:   1BC   \n",
       "76                                          Resuelve:   1BC   \n",
       "77                                          Resuelve:   1BC   \n",
       "78                                          Resuelve:   1BC   \n",
       "79                                          Resuelve:   1BC   \n",
       "80                                          Resuelve:   1BC   \n",
       "81  Resuelve las siguientes ecuaciones de grado su...   1BC   \n",
       "82  Resuelve las siguientes ecuaciones de grado su...   1BC   \n",
       "83  Resuelve las siguientes ecuaciones de grado su...   1BC   \n",
       "84  Resuelve las siguientes ecuaciones de grado su...   1BC   \n",
       "85  Resuelve las siguientes ecuaciones de grado su...   1BC   \n",
       "86  Halla tres números impares consecutivos, tales...   1BC   \n",
       "87  Halla tres números pares consecutivos sabiendo...   1BC   \n",
       "88         Resuelve mediante expresiones algebraicas:   1BC   \n",
       "89         Resuelve mediante expresiones algebraicas:   1BC   \n",
       "90         Resuelve mediante expresiones algebraicas:   1BC   \n",
       "91         Resuelve mediante expresiones algebraicas:   1BC   \n",
       "92         Resuelve mediante expresiones algebraicas:   1BC   \n",
       "93         Resuelve mediante expresiones algebraicas:   1BC   \n",
       "94         Resuelve mediante expresiones algebraicas:   1BC   \n",
       "95         Resuelve mediante expresiones algebraicas:   1BC   \n",
       "96         Resuelve mediante expresiones algebraicas:   1BC   \n",
       "97         Resuelve mediante expresiones algebraicas:   1BC   \n",
       "98         Resuelve mediante expresiones algebraicas:   1BC   \n",
       "\n",
       "                             titulo                n_ejercicio  dificultad  \\\n",
       "0   6 - Ecuaciones de segundo grado                    p016e01           1   \n",
       "1   6 - Ecuaciones de segundo grado                    p016e01           1   \n",
       "2   6 - Ecuaciones de segundo grado                    p016e01           1   \n",
       "3   6 - Ecuaciones de segundo grado                    p016e01           1   \n",
       "4   6 - Ecuaciones de segundo grado                    p016e01           1   \n",
       "5   6 - Ecuaciones de segundo grado                    p016e01           1   \n",
       "6   6 - Ecuaciones de segundo grado                    p016e01           1   \n",
       "7   6 - Ecuaciones de segundo grado                    p016e01           1   \n",
       "8   6 - Ecuaciones de segundo grado                    p016e01           1   \n",
       "9   6 - Ecuaciones de segundo grado                    p016e02           1   \n",
       "10  6 - Ecuaciones de segundo grado                    p016e02           1   \n",
       "11  6 - Ecuaciones de segundo grado                    p016e02           1   \n",
       "12  6 - Ecuaciones de segundo grado                    p016e02           1   \n",
       "13  6 - Ecuaciones de segundo grado                    p016e02           1   \n",
       "14  6 - Ecuaciones de segundo grado                    p016e02           1   \n",
       "15  6 - Ecuaciones de segundo grado                    p016e02           1   \n",
       "16  6 - Ecuaciones de segundo grado                    p016e03           1   \n",
       "17  6 - Ecuaciones de segundo grado                    p016e03           1   \n",
       "18  6 - Ecuaciones de segundo grado                    p016e03           1   \n",
       "19  6 - Ecuaciones de segundo grado                    p016e03           1   \n",
       "20  6 - Ecuaciones de segundo grado                    p016e03           1   \n",
       "21  6 - Ecuaciones de segundo grado                    p016e03           1   \n",
       "22  6 - Ecuaciones de segundo grado                    p016e03           1   \n",
       "23  6 - Ecuaciones de segundo grado                    p016e03           1   \n",
       "24  6 - Ecuaciones de segundo grado                    p016e03           1   \n",
       "25  6 - Ecuaciones de segundo grado                    p016e04           1   \n",
       "26  6 - Ecuaciones de segundo grado                    p016e04           1   \n",
       "27  6 - Ecuaciones de segundo grado                    p016e04           1   \n",
       "28  6 - Ecuaciones de segundo grado                    p016e04           1   \n",
       "29  6 - Ecuaciones de segundo grado                    p016e04           1   \n",
       "..                              ...                        ...         ...   \n",
       "69  6 - Ecuaciones de segundo grado                    p018e20           1   \n",
       "70  6 - Ecuaciones de segundo grado                    p018e20           1   \n",
       "71  6 - Ecuaciones de segundo grado                    p018e20           1   \n",
       "72  6 - Ecuaciones de segundo grado                    p018e20           1   \n",
       "73  6 - Ecuaciones de segundo grado                    p018e20           1   \n",
       "74  6 - Ecuaciones de segundo grado                    p018e20           1   \n",
       "75  6 - Ecuaciones de segundo grado                    p018e20           1   \n",
       "76  6 - Ecuaciones de segundo grado                    p018e20           1   \n",
       "77  6 - Ecuaciones de segundo grado                    p018e20           1   \n",
       "78  6 - Ecuaciones de segundo grado                    p018e20           1   \n",
       "79  6 - Ecuaciones de segundo grado                    p018e20           1   \n",
       "80  6 - Ecuaciones de segundo grado                    p018e20           1   \n",
       "81  6 - Ecuaciones de segundo grado                    p018e21           1   \n",
       "82  6 - Ecuaciones de segundo grado                    p018e21           1   \n",
       "83  6 - Ecuaciones de segundo grado                    p018e21           1   \n",
       "84  6 - Ecuaciones de segundo grado                    p018e21           1   \n",
       "85  6 - Ecuaciones de segundo grado                    p018e21           1   \n",
       "86  6 - Ecuaciones de segundo grado                    p018e23           1   \n",
       "87  6 - Ecuaciones de segundo grado                    p018e27           1   \n",
       "88  6 - Ecuaciones de segundo grado  p018e24e26e29e30e31e32e33           1   \n",
       "89  6 - Ecuaciones de segundo grado  p018e24e26e29e30e31e32e33           1   \n",
       "90  6 - Ecuaciones de segundo grado  p018e24e26e29e30e31e32e33           1   \n",
       "91  6 - Ecuaciones de segundo grado  p018e24e26e29e30e31e32e33           1   \n",
       "92  6 - Ecuaciones de segundo grado  p018e24e26e29e30e31e32e33           1   \n",
       "93  6 - Ecuaciones de segundo grado  p018e24e26e29e30e31e32e33           1   \n",
       "94  6 - Ecuaciones de segundo grado  p018e24e26e29e30e31e32e33           1   \n",
       "95  6 - Ecuaciones de segundo grado           p018e22e25e28e34           1   \n",
       "96  6 - Ecuaciones de segundo grado           p018e22e25e28e34           1   \n",
       "97  6 - Ecuaciones de segundo grado           p018e22e25e28e34           1   \n",
       "98  6 - Ecuaciones de segundo grado           p018e22e25e28e34           1   \n",
       "\n",
       "    n_columnas  puntos  enun_tex  \n",
       "0            2       1      True  \n",
       "1            2       1      True  \n",
       "2            2       1      True  \n",
       "3            2       1      True  \n",
       "4            2       1      True  \n",
       "5            2       1      True  \n",
       "6            2       1      True  \n",
       "7            2       1      True  \n",
       "8            2       1      True  \n",
       "9            2       1      True  \n",
       "10           2       1      True  \n",
       "11           2       1      True  \n",
       "12           2       1      True  \n",
       "13           2       1      True  \n",
       "14           2       1      True  \n",
       "15           2       1      True  \n",
       "16           2       1      True  \n",
       "17           2       1      True  \n",
       "18           2       1      True  \n",
       "19           2       1      True  \n",
       "20           2       1      True  \n",
       "21           2       1      True  \n",
       "22           2       1      True  \n",
       "23           2       1      True  \n",
       "24           2       1      True  \n",
       "25           2       1      True  \n",
       "26           2       1      True  \n",
       "27           2       1      True  \n",
       "28           2       1      True  \n",
       "29           2       1      True  \n",
       "..         ...     ...       ...  \n",
       "69           2       1      True  \n",
       "70           2       1      True  \n",
       "71           2       1      True  \n",
       "72           2       1      True  \n",
       "73           2       1      True  \n",
       "74           2       1      True  \n",
       "75           2       1      True  \n",
       "76           2       1      True  \n",
       "77           2       1      True  \n",
       "78           2       1      True  \n",
       "79           2       1      True  \n",
       "80           2       1      True  \n",
       "81           2       1      True  \n",
       "82           2       1      True  \n",
       "83           2       1      True  \n",
       "84           2       1      True  \n",
       "85           2       1      True  \n",
       "86           1       1      True  \n",
       "87           1       1      True  \n",
       "88           1       1     False  \n",
       "89           1       1     False  \n",
       "90           1       1     False  \n",
       "91           1       1     False  \n",
       "92           1       1     False  \n",
       "93           1       1     False  \n",
       "94           1       1     False  \n",
       "95           1       1     False  \n",
       "96           1       1     False  \n",
       "97           1       1     False  \n",
       "98           1       1     False  \n",
       "\n",
       "[99 rows x 11 columns]"
      ]
     },
     "execution_count": 16,
     "metadata": {},
     "output_type": "execute_result"
    }
   ],
   "source": [
    "df_ejercicios"
   ]
  },
  {
   "cell_type": "code",
   "execution_count": 17,
   "metadata": {},
   "outputs": [
    {
     "data": {
      "text/markdown": [
       "**Ejercicio: **p016e01"
      ],
      "text/plain": [
       "<IPython.core.display.Markdown object>"
      ]
     },
     "metadata": {},
     "output_type": "display_data"
    },
    {
     "data": {
      "text/html": [
       "<div>\n",
       "<style scoped>\n",
       "    .dataframe tbody tr th:only-of-type {\n",
       "        vertical-align: middle;\n",
       "    }\n",
       "\n",
       "    .dataframe tbody tr th {\n",
       "        vertical-align: top;\n",
       "    }\n",
       "\n",
       "    .dataframe thead th {\n",
       "        text-align: right;\n",
       "    }\n",
       "</style>\n",
       "<table border=\"1\" class=\"dataframe\">\n",
       "  <thead>\n",
       "    <tr style=\"text-align: right;\">\n",
       "      <th></th>\n",
       "      <th>enunciado_latex</th>\n",
       "      <th>enunciado</th>\n",
       "      <th>solucion</th>\n",
       "      <th>texto</th>\n",
       "      <th>curso</th>\n",
       "      <th>titulo</th>\n",
       "      <th>n_ejercicio</th>\n",
       "      <th>dificultad</th>\n",
       "      <th>n_columnas</th>\n",
       "      <th>puntos</th>\n",
       "      <th>enun_tex</th>\n",
       "    </tr>\n",
       "  </thead>\n",
       "  <tbody>\n",
       "    <tr>\n",
       "      <th>0</th>\n",
       "      <td>x^{2} + 6 = 0</td>\n",
       "      <td>Eq(x**2 + 6, 0)</td>\n",
       "      <td>\\emptyset</td>\n",
       "      <td>Resuelve las ecuaciones:</td>\n",
       "      <td>1BC</td>\n",
       "      <td>6 - Ecuaciones de segundo grado</td>\n",
       "      <td>p016e01</td>\n",
       "      <td>1</td>\n",
       "      <td>2</td>\n",
       "      <td>1</td>\n",
       "      <td>True</td>\n",
       "    </tr>\n",
       "    <tr>\n",
       "      <th>1</th>\n",
       "      <td>x^{2} - 9 = 0</td>\n",
       "      <td>Eq(x**2 - 9, 0)</td>\n",
       "      <td>\\left\\{-3, 3\\right\\}</td>\n",
       "      <td>Resuelve las ecuaciones:</td>\n",
       "      <td>1BC</td>\n",
       "      <td>6 - Ecuaciones de segundo grado</td>\n",
       "      <td>p016e01</td>\n",
       "      <td>1</td>\n",
       "      <td>2</td>\n",
       "      <td>1</td>\n",
       "      <td>True</td>\n",
       "    </tr>\n",
       "    <tr>\n",
       "      <th>2</th>\n",
       "      <td>x^{2} + 3 x = 0</td>\n",
       "      <td>Eq(x**2 + 3*x, 0)</td>\n",
       "      <td>\\left\\{-3, 0\\right\\}</td>\n",
       "      <td>Resuelve las ecuaciones:</td>\n",
       "      <td>1BC</td>\n",
       "      <td>6 - Ecuaciones de segundo grado</td>\n",
       "      <td>p016e01</td>\n",
       "      <td>1</td>\n",
       "      <td>2</td>\n",
       "      <td>1</td>\n",
       "      <td>True</td>\n",
       "    </tr>\n",
       "    <tr>\n",
       "      <th>3</th>\n",
       "      <td>3 x^{2} - 11 x = 0</td>\n",
       "      <td>Eq(3*x**2 - 11*x, 0)</td>\n",
       "      <td>\\left\\{0, \\frac{11}{3}\\right\\}</td>\n",
       "      <td>Resuelve las ecuaciones:</td>\n",
       "      <td>1BC</td>\n",
       "      <td>6 - Ecuaciones de segundo grado</td>\n",
       "      <td>p016e01</td>\n",
       "      <td>1</td>\n",
       "      <td>2</td>\n",
       "      <td>1</td>\n",
       "      <td>True</td>\n",
       "    </tr>\n",
       "    <tr>\n",
       "      <th>4</th>\n",
       "      <td>4 x^{2} - 32 x = 0</td>\n",
       "      <td>Eq(4*x**2 - 32*x, 0)</td>\n",
       "      <td>\\left\\{0, 8\\right\\}</td>\n",
       "      <td>Resuelve las ecuaciones:</td>\n",
       "      <td>1BC</td>\n",
       "      <td>6 - Ecuaciones de segundo grado</td>\n",
       "      <td>p016e01</td>\n",
       "      <td>1</td>\n",
       "      <td>2</td>\n",
       "      <td>1</td>\n",
       "      <td>True</td>\n",
       "    </tr>\n",
       "    <tr>\n",
       "      <th>5</th>\n",
       "      <td>5 x^{2} = 0</td>\n",
       "      <td>Eq(5*x**2, 0)</td>\n",
       "      <td>\\left\\{0\\right\\}</td>\n",
       "      <td>Resuelve las ecuaciones:</td>\n",
       "      <td>1BC</td>\n",
       "      <td>6 - Ecuaciones de segundo grado</td>\n",
       "      <td>p016e01</td>\n",
       "      <td>1</td>\n",
       "      <td>2</td>\n",
       "      <td>1</td>\n",
       "      <td>True</td>\n",
       "    </tr>\n",
       "    <tr>\n",
       "      <th>6</th>\n",
       "      <td>12 x^{2} - 18 = 0</td>\n",
       "      <td>Eq(12*x**2 - 18, 0)</td>\n",
       "      <td>\\left\\{- \\frac{\\sqrt{6}}{2}, \\frac{\\sqrt{6}}{2...</td>\n",
       "      <td>Resuelve las ecuaciones:</td>\n",
       "      <td>1BC</td>\n",
       "      <td>6 - Ecuaciones de segundo grado</td>\n",
       "      <td>p016e01</td>\n",
       "      <td>1</td>\n",
       "      <td>2</td>\n",
       "      <td>1</td>\n",
       "      <td>True</td>\n",
       "    </tr>\n",
       "    <tr>\n",
       "      <th>7</th>\n",
       "      <td>3 \\left(- x + 1\\right) \\left(x + 1\\right) = 3</td>\n",
       "      <td>Eq(3*((-x + 1)*(x + 1)), 3)</td>\n",
       "      <td>\\left\\{0\\right\\}</td>\n",
       "      <td>Resuelve las ecuaciones:</td>\n",
       "      <td>1BC</td>\n",
       "      <td>6 - Ecuaciones de segundo grado</td>\n",
       "      <td>p016e01</td>\n",
       "      <td>1</td>\n",
       "      <td>2</td>\n",
       "      <td>1</td>\n",
       "      <td>True</td>\n",
       "    </tr>\n",
       "    <tr>\n",
       "      <th>8</th>\n",
       "      <td>3 \\left(x^{2} - 2\\right) = 21</td>\n",
       "      <td>Eq(3*(x**2 - 2), 21)</td>\n",
       "      <td>\\left\\{-3, 3\\right\\}</td>\n",
       "      <td>Resuelve las ecuaciones:</td>\n",
       "      <td>1BC</td>\n",
       "      <td>6 - Ecuaciones de segundo grado</td>\n",
       "      <td>p016e01</td>\n",
       "      <td>1</td>\n",
       "      <td>2</td>\n",
       "      <td>1</td>\n",
       "      <td>True</td>\n",
       "    </tr>\n",
       "  </tbody>\n",
       "</table>\n",
       "</div>"
      ],
      "text/plain": [
       "                                 enunciado_latex                    enunciado  \\\n",
       "0                                  x^{2} + 6 = 0              Eq(x**2 + 6, 0)   \n",
       "1                                  x^{2} - 9 = 0              Eq(x**2 - 9, 0)   \n",
       "2                                x^{2} + 3 x = 0            Eq(x**2 + 3*x, 0)   \n",
       "3                             3 x^{2} - 11 x = 0         Eq(3*x**2 - 11*x, 0)   \n",
       "4                             4 x^{2} - 32 x = 0         Eq(4*x**2 - 32*x, 0)   \n",
       "5                                    5 x^{2} = 0                Eq(5*x**2, 0)   \n",
       "6                              12 x^{2} - 18 = 0          Eq(12*x**2 - 18, 0)   \n",
       "7  3 \\left(- x + 1\\right) \\left(x + 1\\right) = 3  Eq(3*((-x + 1)*(x + 1)), 3)   \n",
       "8                  3 \\left(x^{2} - 2\\right) = 21         Eq(3*(x**2 - 2), 21)   \n",
       "\n",
       "                                            solucion  \\\n",
       "0                                          \\emptyset   \n",
       "1                               \\left\\{-3, 3\\right\\}   \n",
       "2                               \\left\\{-3, 0\\right\\}   \n",
       "3                     \\left\\{0, \\frac{11}{3}\\right\\}   \n",
       "4                                \\left\\{0, 8\\right\\}   \n",
       "5                                   \\left\\{0\\right\\}   \n",
       "6  \\left\\{- \\frac{\\sqrt{6}}{2}, \\frac{\\sqrt{6}}{2...   \n",
       "7                                   \\left\\{0\\right\\}   \n",
       "8                               \\left\\{-3, 3\\right\\}   \n",
       "\n",
       "                      texto curso                           titulo  \\\n",
       "0  Resuelve las ecuaciones:   1BC  6 - Ecuaciones de segundo grado   \n",
       "1  Resuelve las ecuaciones:   1BC  6 - Ecuaciones de segundo grado   \n",
       "2  Resuelve las ecuaciones:   1BC  6 - Ecuaciones de segundo grado   \n",
       "3  Resuelve las ecuaciones:   1BC  6 - Ecuaciones de segundo grado   \n",
       "4  Resuelve las ecuaciones:   1BC  6 - Ecuaciones de segundo grado   \n",
       "5  Resuelve las ecuaciones:   1BC  6 - Ecuaciones de segundo grado   \n",
       "6  Resuelve las ecuaciones:   1BC  6 - Ecuaciones de segundo grado   \n",
       "7  Resuelve las ecuaciones:   1BC  6 - Ecuaciones de segundo grado   \n",
       "8  Resuelve las ecuaciones:   1BC  6 - Ecuaciones de segundo grado   \n",
       "\n",
       "  n_ejercicio  dificultad  n_columnas  puntos  enun_tex  \n",
       "0     p016e01           1           2       1      True  \n",
       "1     p016e01           1           2       1      True  \n",
       "2     p016e01           1           2       1      True  \n",
       "3     p016e01           1           2       1      True  \n",
       "4     p016e01           1           2       1      True  \n",
       "5     p016e01           1           2       1      True  \n",
       "6     p016e01           1           2       1      True  \n",
       "7     p016e01           1           2       1      True  \n",
       "8     p016e01           1           2       1      True  "
      ]
     },
     "metadata": {},
     "output_type": "display_data"
    },
    {
     "data": {
      "text/markdown": [
       "**Ejercicio: **p016e02"
      ],
      "text/plain": [
       "<IPython.core.display.Markdown object>"
      ]
     },
     "metadata": {},
     "output_type": "display_data"
    },
    {
     "data": {
      "text/html": [
       "<div>\n",
       "<style scoped>\n",
       "    .dataframe tbody tr th:only-of-type {\n",
       "        vertical-align: middle;\n",
       "    }\n",
       "\n",
       "    .dataframe tbody tr th {\n",
       "        vertical-align: top;\n",
       "    }\n",
       "\n",
       "    .dataframe thead th {\n",
       "        text-align: right;\n",
       "    }\n",
       "</style>\n",
       "<table border=\"1\" class=\"dataframe\">\n",
       "  <thead>\n",
       "    <tr style=\"text-align: right;\">\n",
       "      <th></th>\n",
       "      <th>enunciado_latex</th>\n",
       "      <th>enunciado</th>\n",
       "      <th>solucion</th>\n",
       "      <th>texto</th>\n",
       "      <th>curso</th>\n",
       "      <th>titulo</th>\n",
       "      <th>n_ejercicio</th>\n",
       "      <th>dificultad</th>\n",
       "      <th>n_columnas</th>\n",
       "      <th>puntos</th>\n",
       "      <th>enun_tex</th>\n",
       "    </tr>\n",
       "  </thead>\n",
       "  <tbody>\n",
       "    <tr>\n",
       "      <th>9</th>\n",
       "      <td>\\left(2 x^{2} + 11 x\\right) - 6 = 0</td>\n",
       "      <td>Eq(2*x**2 + 11*x - 6, 0)</td>\n",
       "      <td>\\left\\{-6, \\frac{1}{2}\\right\\}</td>\n",
       "      <td>Resuelve las ecuaciones:</td>\n",
       "      <td>1BC</td>\n",
       "      <td>6 - Ecuaciones de segundo grado</td>\n",
       "      <td>p016e02</td>\n",
       "      <td>1</td>\n",
       "      <td>2</td>\n",
       "      <td>1</td>\n",
       "      <td>True</td>\n",
       "    </tr>\n",
       "    <tr>\n",
       "      <th>10</th>\n",
       "      <td>\\left(x^{2} - 10 x\\right) + 25 = 0</td>\n",
       "      <td>Eq(x**2 - 10*x + 25, 0)</td>\n",
       "      <td>\\left\\{5\\right\\}</td>\n",
       "      <td>Resuelve las ecuaciones:</td>\n",
       "      <td>1BC</td>\n",
       "      <td>6 - Ecuaciones de segundo grado</td>\n",
       "      <td>p016e02</td>\n",
       "      <td>1</td>\n",
       "      <td>2</td>\n",
       "      <td>1</td>\n",
       "      <td>True</td>\n",
       "    </tr>\n",
       "    <tr>\n",
       "      <th>11</th>\n",
       "      <td>\\left(x^{2} + x\\right) + 1 = 0</td>\n",
       "      <td>Eq(x**2 + x + 1, 0)</td>\n",
       "      <td>\\emptyset</td>\n",
       "      <td>Resuelve las ecuaciones:</td>\n",
       "      <td>1BC</td>\n",
       "      <td>6 - Ecuaciones de segundo grado</td>\n",
       "      <td>p016e02</td>\n",
       "      <td>1</td>\n",
       "      <td>2</td>\n",
       "      <td>1</td>\n",
       "      <td>True</td>\n",
       "    </tr>\n",
       "    <tr>\n",
       "      <th>12</th>\n",
       "      <td>\\left(x^{2} - 2 x\\right) - 1 = 0</td>\n",
       "      <td>Eq(x**2 - 2*x - 1, 0)</td>\n",
       "      <td>\\left\\{1 + \\sqrt{2}, - \\sqrt{2} + 1\\right\\}</td>\n",
       "      <td>Resuelve las ecuaciones:</td>\n",
       "      <td>1BC</td>\n",
       "      <td>6 - Ecuaciones de segundo grado</td>\n",
       "      <td>p016e02</td>\n",
       "      <td>1</td>\n",
       "      <td>2</td>\n",
       "      <td>1</td>\n",
       "      <td>True</td>\n",
       "    </tr>\n",
       "    <tr>\n",
       "      <th>13</th>\n",
       "      <td>\\left(3 x^{2} + 5 x\\right) - 2 = 0</td>\n",
       "      <td>Eq(3*x**2 + 5*x - 2, 0)</td>\n",
       "      <td>\\left\\{-2, \\frac{1}{3}\\right\\}</td>\n",
       "      <td>Resuelve las ecuaciones:</td>\n",
       "      <td>1BC</td>\n",
       "      <td>6 - Ecuaciones de segundo grado</td>\n",
       "      <td>p016e02</td>\n",
       "      <td>1</td>\n",
       "      <td>2</td>\n",
       "      <td>1</td>\n",
       "      <td>True</td>\n",
       "    </tr>\n",
       "    <tr>\n",
       "      <th>14</th>\n",
       "      <td>\\left(4 x^{2} - 4 x\\right) + 1 = 0</td>\n",
       "      <td>Eq(4*x**2 - 4*x + 1, 0)</td>\n",
       "      <td>\\left\\{\\frac{1}{2}\\right\\}</td>\n",
       "      <td>Resuelve las ecuaciones:</td>\n",
       "      <td>1BC</td>\n",
       "      <td>6 - Ecuaciones de segundo grado</td>\n",
       "      <td>p016e02</td>\n",
       "      <td>1</td>\n",
       "      <td>2</td>\n",
       "      <td>1</td>\n",
       "      <td>True</td>\n",
       "    </tr>\n",
       "    <tr>\n",
       "      <th>15</th>\n",
       "      <td>\\left(2 x^{2} - 9 x\\right) + 11 = 0</td>\n",
       "      <td>Eq(2*x**2 - 9*x + 11, 0)</td>\n",
       "      <td>\\emptyset</td>\n",
       "      <td>Resuelve las ecuaciones:</td>\n",
       "      <td>1BC</td>\n",
       "      <td>6 - Ecuaciones de segundo grado</td>\n",
       "      <td>p016e02</td>\n",
       "      <td>1</td>\n",
       "      <td>2</td>\n",
       "      <td>1</td>\n",
       "      <td>True</td>\n",
       "    </tr>\n",
       "  </tbody>\n",
       "</table>\n",
       "</div>"
      ],
      "text/plain": [
       "                        enunciado_latex                 enunciado  \\\n",
       "9   \\left(2 x^{2} + 11 x\\right) - 6 = 0  Eq(2*x**2 + 11*x - 6, 0)   \n",
       "10   \\left(x^{2} - 10 x\\right) + 25 = 0   Eq(x**2 - 10*x + 25, 0)   \n",
       "11       \\left(x^{2} + x\\right) + 1 = 0       Eq(x**2 + x + 1, 0)   \n",
       "12     \\left(x^{2} - 2 x\\right) - 1 = 0     Eq(x**2 - 2*x - 1, 0)   \n",
       "13   \\left(3 x^{2} + 5 x\\right) - 2 = 0   Eq(3*x**2 + 5*x - 2, 0)   \n",
       "14   \\left(4 x^{2} - 4 x\\right) + 1 = 0   Eq(4*x**2 - 4*x + 1, 0)   \n",
       "15  \\left(2 x^{2} - 9 x\\right) + 11 = 0  Eq(2*x**2 - 9*x + 11, 0)   \n",
       "\n",
       "                                       solucion                     texto  \\\n",
       "9                \\left\\{-6, \\frac{1}{2}\\right\\}  Resuelve las ecuaciones:   \n",
       "10                             \\left\\{5\\right\\}  Resuelve las ecuaciones:   \n",
       "11                                    \\emptyset  Resuelve las ecuaciones:   \n",
       "12  \\left\\{1 + \\sqrt{2}, - \\sqrt{2} + 1\\right\\}  Resuelve las ecuaciones:   \n",
       "13               \\left\\{-2, \\frac{1}{3}\\right\\}  Resuelve las ecuaciones:   \n",
       "14                   \\left\\{\\frac{1}{2}\\right\\}  Resuelve las ecuaciones:   \n",
       "15                                    \\emptyset  Resuelve las ecuaciones:   \n",
       "\n",
       "   curso                           titulo n_ejercicio  dificultad  n_columnas  \\\n",
       "9    1BC  6 - Ecuaciones de segundo grado     p016e02           1           2   \n",
       "10   1BC  6 - Ecuaciones de segundo grado     p016e02           1           2   \n",
       "11   1BC  6 - Ecuaciones de segundo grado     p016e02           1           2   \n",
       "12   1BC  6 - Ecuaciones de segundo grado     p016e02           1           2   \n",
       "13   1BC  6 - Ecuaciones de segundo grado     p016e02           1           2   \n",
       "14   1BC  6 - Ecuaciones de segundo grado     p016e02           1           2   \n",
       "15   1BC  6 - Ecuaciones de segundo grado     p016e02           1           2   \n",
       "\n",
       "    puntos  enun_tex  \n",
       "9        1      True  \n",
       "10       1      True  \n",
       "11       1      True  \n",
       "12       1      True  \n",
       "13       1      True  \n",
       "14       1      True  \n",
       "15       1      True  "
      ]
     },
     "metadata": {},
     "output_type": "display_data"
    },
    {
     "data": {
      "text/markdown": [
       "**Ejercicio: **p016e03"
      ],
      "text/plain": [
       "<IPython.core.display.Markdown object>"
      ]
     },
     "metadata": {},
     "output_type": "display_data"
    },
    {
     "data": {
      "text/html": [
       "<div>\n",
       "<style scoped>\n",
       "    .dataframe tbody tr th:only-of-type {\n",
       "        vertical-align: middle;\n",
       "    }\n",
       "\n",
       "    .dataframe tbody tr th {\n",
       "        vertical-align: top;\n",
       "    }\n",
       "\n",
       "    .dataframe thead th {\n",
       "        text-align: right;\n",
       "    }\n",
       "</style>\n",
       "<table border=\"1\" class=\"dataframe\">\n",
       "  <thead>\n",
       "    <tr style=\"text-align: right;\">\n",
       "      <th></th>\n",
       "      <th>enunciado_latex</th>\n",
       "      <th>enunciado</th>\n",
       "      <th>solucion</th>\n",
       "      <th>texto</th>\n",
       "      <th>curso</th>\n",
       "      <th>titulo</th>\n",
       "      <th>n_ejercicio</th>\n",
       "      <th>dificultad</th>\n",
       "      <th>n_columnas</th>\n",
       "      <th>puntos</th>\n",
       "      <th>enun_tex</th>\n",
       "    </tr>\n",
       "  </thead>\n",
       "  <tbody>\n",
       "    <tr>\n",
       "      <th>16</th>\n",
       "      <td>- x \\left(x - 2\\right) + 9 = 4 x + 6</td>\n",
       "      <td>Eq(-x*(x - 2) + 9, 4*x + 6)</td>\n",
       "      <td>\\left\\{-3, 1\\right\\}</td>\n",
       "      <td>Resuelve las ecuaciones:</td>\n",
       "      <td>1BC</td>\n",
       "      <td>6 - Ecuaciones de segundo grado</td>\n",
       "      <td>p016e03</td>\n",
       "      <td>1</td>\n",
       "      <td>2</td>\n",
       "      <td>1</td>\n",
       "      <td>True</td>\n",
       "    </tr>\n",
       "    <tr>\n",
       "      <th>17</th>\n",
       "      <td>- \\left(x - 1\\right) \\left(x + 4\\right) + 2 \\l...</td>\n",
       "      <td>Eq(-(x - 1)*(x + 4) + 2*(x**2 - 3), x - 2)</td>\n",
       "      <td>\\left\\{0, 4\\right\\}</td>\n",
       "      <td>Resuelve las ecuaciones:</td>\n",
       "      <td>1BC</td>\n",
       "      <td>6 - Ecuaciones de segundo grado</td>\n",
       "      <td>p016e03</td>\n",
       "      <td>1</td>\n",
       "      <td>2</td>\n",
       "      <td>1</td>\n",
       "      <td>True</td>\n",
       "    </tr>\n",
       "    <tr>\n",
       "      <th>18</th>\n",
       "      <td>x \\left(x - 1\\right) - 2 \\left(x - 3\\right) \\l...</td>\n",
       "      <td>Eq(x*(x - 1) - 2*(x - 3)*(x - 2), 2)</td>\n",
       "      <td>\\left\\{2, 7\\right\\}</td>\n",
       "      <td>Resuelve las ecuaciones:</td>\n",
       "      <td>1BC</td>\n",
       "      <td>6 - Ecuaciones de segundo grado</td>\n",
       "      <td>p016e03</td>\n",
       "      <td>1</td>\n",
       "      <td>2</td>\n",
       "      <td>1</td>\n",
       "      <td>True</td>\n",
       "    </tr>\n",
       "    <tr>\n",
       "      <th>19</th>\n",
       "      <td>\\left(2 x^{2} - 11 x\\right) + 12 = 0</td>\n",
       "      <td>Eq(2*x**2 - 11*x + 12, 0)</td>\n",
       "      <td>\\left\\{\\frac{3}{2}, 4\\right\\}</td>\n",
       "      <td>Resuelve las ecuaciones:</td>\n",
       "      <td>1BC</td>\n",
       "      <td>6 - Ecuaciones de segundo grado</td>\n",
       "      <td>p016e03</td>\n",
       "      <td>1</td>\n",
       "      <td>2</td>\n",
       "      <td>1</td>\n",
       "      <td>True</td>\n",
       "    </tr>\n",
       "    <tr>\n",
       "      <th>20</th>\n",
       "      <td>3 \\left(x - 1\\right) \\left(x + 2\\right) = 0</td>\n",
       "      <td>Eq(3*((x - 1)*(x + 2)), 0)</td>\n",
       "      <td>\\left\\{-2, 1\\right\\}</td>\n",
       "      <td>Resuelve las ecuaciones:</td>\n",
       "      <td>1BC</td>\n",
       "      <td>6 - Ecuaciones de segundo grado</td>\n",
       "      <td>p016e03</td>\n",
       "      <td>1</td>\n",
       "      <td>2</td>\n",
       "      <td>1</td>\n",
       "      <td>True</td>\n",
       "    </tr>\n",
       "    <tr>\n",
       "      <th>21</th>\n",
       "      <td>\\left(x - 2\\right)^{2} = 3</td>\n",
       "      <td>Eq((x - 2)**2, 3)</td>\n",
       "      <td>\\left\\{- \\sqrt{3} + 2, \\sqrt{3} + 2\\right\\}</td>\n",
       "      <td>Resuelve las ecuaciones:</td>\n",
       "      <td>1BC</td>\n",
       "      <td>6 - Ecuaciones de segundo grado</td>\n",
       "      <td>p016e03</td>\n",
       "      <td>1</td>\n",
       "      <td>2</td>\n",
       "      <td>1</td>\n",
       "      <td>True</td>\n",
       "    </tr>\n",
       "    <tr>\n",
       "      <th>22</th>\n",
       "      <td>21 x - 100 = - x + \\left(x^{2} + 21\\right)</td>\n",
       "      <td>Eq(21*x - 100, -x + x**2 + 21)</td>\n",
       "      <td>\\left\\{11\\right\\}</td>\n",
       "      <td>Resuelve las ecuaciones:</td>\n",
       "      <td>1BC</td>\n",
       "      <td>6 - Ecuaciones de segundo grado</td>\n",
       "      <td>p016e03</td>\n",
       "      <td>1</td>\n",
       "      <td>2</td>\n",
       "      <td>1</td>\n",
       "      <td>True</td>\n",
       "    </tr>\n",
       "    <tr>\n",
       "      <th>23</th>\n",
       "      <td>\\frac{x}{3} \\left(x - \\frac{1}{6}\\right) = x - 1</td>\n",
       "      <td>Eq((x/3)*(x - 1/6), x - 1)</td>\n",
       "      <td>\\emptyset</td>\n",
       "      <td>Resuelve las ecuaciones:</td>\n",
       "      <td>1BC</td>\n",
       "      <td>6 - Ecuaciones de segundo grado</td>\n",
       "      <td>p016e03</td>\n",
       "      <td>1</td>\n",
       "      <td>2</td>\n",
       "      <td>1</td>\n",
       "      <td>True</td>\n",
       "    </tr>\n",
       "    <tr>\n",
       "      <th>24</th>\n",
       "      <td>\\left(- \\frac{x}{3} + \\frac{1}{3}\\right) + \\fr...</td>\n",
       "      <td>Eq(-x/3 + 1/3 + (2*x**2 + 1)/2, (-x + 1)/6)</td>\n",
       "      <td>\\emptyset</td>\n",
       "      <td>Resuelve las ecuaciones:</td>\n",
       "      <td>1BC</td>\n",
       "      <td>6 - Ecuaciones de segundo grado</td>\n",
       "      <td>p016e03</td>\n",
       "      <td>1</td>\n",
       "      <td>2</td>\n",
       "      <td>1</td>\n",
       "      <td>True</td>\n",
       "    </tr>\n",
       "  </tbody>\n",
       "</table>\n",
       "</div>"
      ],
      "text/plain": [
       "                                      enunciado_latex  \\\n",
       "16               - x \\left(x - 2\\right) + 9 = 4 x + 6   \n",
       "17  - \\left(x - 1\\right) \\left(x + 4\\right) + 2 \\l...   \n",
       "18  x \\left(x - 1\\right) - 2 \\left(x - 3\\right) \\l...   \n",
       "19               \\left(2 x^{2} - 11 x\\right) + 12 = 0   \n",
       "20        3 \\left(x - 1\\right) \\left(x + 2\\right) = 0   \n",
       "21                         \\left(x - 2\\right)^{2} = 3   \n",
       "22         21 x - 100 = - x + \\left(x^{2} + 21\\right)   \n",
       "23   \\frac{x}{3} \\left(x - \\frac{1}{6}\\right) = x - 1   \n",
       "24  \\left(- \\frac{x}{3} + \\frac{1}{3}\\right) + \\fr...   \n",
       "\n",
       "                                      enunciado  \\\n",
       "16                  Eq(-x*(x - 2) + 9, 4*x + 6)   \n",
       "17   Eq(-(x - 1)*(x + 4) + 2*(x**2 - 3), x - 2)   \n",
       "18         Eq(x*(x - 1) - 2*(x - 3)*(x - 2), 2)   \n",
       "19                    Eq(2*x**2 - 11*x + 12, 0)   \n",
       "20                   Eq(3*((x - 1)*(x + 2)), 0)   \n",
       "21                            Eq((x - 2)**2, 3)   \n",
       "22               Eq(21*x - 100, -x + x**2 + 21)   \n",
       "23                   Eq((x/3)*(x - 1/6), x - 1)   \n",
       "24  Eq(-x/3 + 1/3 + (2*x**2 + 1)/2, (-x + 1)/6)   \n",
       "\n",
       "                                       solucion                     texto  \\\n",
       "16                         \\left\\{-3, 1\\right\\}  Resuelve las ecuaciones:   \n",
       "17                          \\left\\{0, 4\\right\\}  Resuelve las ecuaciones:   \n",
       "18                          \\left\\{2, 7\\right\\}  Resuelve las ecuaciones:   \n",
       "19                \\left\\{\\frac{3}{2}, 4\\right\\}  Resuelve las ecuaciones:   \n",
       "20                         \\left\\{-2, 1\\right\\}  Resuelve las ecuaciones:   \n",
       "21  \\left\\{- \\sqrt{3} + 2, \\sqrt{3} + 2\\right\\}  Resuelve las ecuaciones:   \n",
       "22                            \\left\\{11\\right\\}  Resuelve las ecuaciones:   \n",
       "23                                    \\emptyset  Resuelve las ecuaciones:   \n",
       "24                                    \\emptyset  Resuelve las ecuaciones:   \n",
       "\n",
       "   curso                           titulo n_ejercicio  dificultad  n_columnas  \\\n",
       "16   1BC  6 - Ecuaciones de segundo grado     p016e03           1           2   \n",
       "17   1BC  6 - Ecuaciones de segundo grado     p016e03           1           2   \n",
       "18   1BC  6 - Ecuaciones de segundo grado     p016e03           1           2   \n",
       "19   1BC  6 - Ecuaciones de segundo grado     p016e03           1           2   \n",
       "20   1BC  6 - Ecuaciones de segundo grado     p016e03           1           2   \n",
       "21   1BC  6 - Ecuaciones de segundo grado     p016e03           1           2   \n",
       "22   1BC  6 - Ecuaciones de segundo grado     p016e03           1           2   \n",
       "23   1BC  6 - Ecuaciones de segundo grado     p016e03           1           2   \n",
       "24   1BC  6 - Ecuaciones de segundo grado     p016e03           1           2   \n",
       "\n",
       "    puntos  enun_tex  \n",
       "16       1      True  \n",
       "17       1      True  \n",
       "18       1      True  \n",
       "19       1      True  \n",
       "20       1      True  \n",
       "21       1      True  \n",
       "22       1      True  \n",
       "23       1      True  \n",
       "24       1      True  "
      ]
     },
     "metadata": {},
     "output_type": "display_data"
    },
    {
     "data": {
      "text/markdown": [
       "**Ejercicio: **p016e04"
      ],
      "text/plain": [
       "<IPython.core.display.Markdown object>"
      ]
     },
     "metadata": {},
     "output_type": "display_data"
    },
    {
     "data": {
      "text/html": [
       "<div>\n",
       "<style scoped>\n",
       "    .dataframe tbody tr th:only-of-type {\n",
       "        vertical-align: middle;\n",
       "    }\n",
       "\n",
       "    .dataframe tbody tr th {\n",
       "        vertical-align: top;\n",
       "    }\n",
       "\n",
       "    .dataframe thead th {\n",
       "        text-align: right;\n",
       "    }\n",
       "</style>\n",
       "<table border=\"1\" class=\"dataframe\">\n",
       "  <thead>\n",
       "    <tr style=\"text-align: right;\">\n",
       "      <th></th>\n",
       "      <th>enunciado_latex</th>\n",
       "      <th>enunciado</th>\n",
       "      <th>solucion</th>\n",
       "      <th>texto</th>\n",
       "      <th>curso</th>\n",
       "      <th>titulo</th>\n",
       "      <th>n_ejercicio</th>\n",
       "      <th>dificultad</th>\n",
       "      <th>n_columnas</th>\n",
       "      <th>puntos</th>\n",
       "      <th>enun_tex</th>\n",
       "    </tr>\n",
       "  </thead>\n",
       "  <tbody>\n",
       "    <tr>\n",
       "      <th>25</th>\n",
       "      <td>\\frac{x + 1}{x - 1} - \\frac{1}{x} = \\frac{5}{2}</td>\n",
       "      <td>Eq((x + 1)/(x - 1) - 1/x, 5/2)</td>\n",
       "      <td>\\left\\{- \\frac{1}{3}, 2\\right\\}</td>\n",
       "      <td>Resuelve las siguientes ecuaciones de segundo ...</td>\n",
       "      <td>1BC</td>\n",
       "      <td>6 - Ecuaciones de segundo grado</td>\n",
       "      <td>p016e04</td>\n",
       "      <td>1</td>\n",
       "      <td>2</td>\n",
       "      <td>1</td>\n",
       "      <td>True</td>\n",
       "    </tr>\n",
       "    <tr>\n",
       "      <th>26</th>\n",
       "      <td>- \\frac{2}{x + 1} + \\frac{3 x + 2}{x - 1} = 5</td>\n",
       "      <td>Eq(-2/(x + 1) + (3*x + 2)/(x - 1), 5)</td>\n",
       "      <td>\\left\\{- \\frac{3}{2}, 3\\right\\}</td>\n",
       "      <td>Resuelve las siguientes ecuaciones de segundo ...</td>\n",
       "      <td>1BC</td>\n",
       "      <td>6 - Ecuaciones de segundo grado</td>\n",
       "      <td>p016e04</td>\n",
       "      <td>1</td>\n",
       "      <td>2</td>\n",
       "      <td>1</td>\n",
       "      <td>True</td>\n",
       "    </tr>\n",
       "    <tr>\n",
       "      <th>27</th>\n",
       "      <td>- \\frac{x}{x + 4} + 1 = \\frac{1}{x - 5}</td>\n",
       "      <td>Eq(-x/(x + 4) + 1, 1/(x - 5))</td>\n",
       "      <td>\\left\\{8\\right\\}</td>\n",
       "      <td>Resuelve las siguientes ecuaciones de segundo ...</td>\n",
       "      <td>1BC</td>\n",
       "      <td>6 - Ecuaciones de segundo grado</td>\n",
       "      <td>p016e04</td>\n",
       "      <td>1</td>\n",
       "      <td>2</td>\n",
       "      <td>1</td>\n",
       "      <td>True</td>\n",
       "    </tr>\n",
       "    <tr>\n",
       "      <th>28</th>\n",
       "      <td>\\frac{x}{x + 1} + \\frac{x + 1}{x} = \\frac{13}{6}</td>\n",
       "      <td>Eq(x/(x + 1) + (x + 1)/x, 13/6)</td>\n",
       "      <td>\\left\\{-3, 2\\right\\}</td>\n",
       "      <td>Resuelve las siguientes ecuaciones de segundo ...</td>\n",
       "      <td>1BC</td>\n",
       "      <td>6 - Ecuaciones de segundo grado</td>\n",
       "      <td>p016e04</td>\n",
       "      <td>1</td>\n",
       "      <td>2</td>\n",
       "      <td>1</td>\n",
       "      <td>True</td>\n",
       "    </tr>\n",
       "    <tr>\n",
       "      <th>29</th>\n",
       "      <td>\\left(-3 + \\frac{2 \\left(2 x + 1\\right)}{2 x -...</td>\n",
       "      <td>Eq(-3 + (2*(2*x + 1))/(2*x - 1) + 5, 0)</td>\n",
       "      <td>\\left\\{0\\right\\}</td>\n",
       "      <td>Resuelve las siguientes ecuaciones de segundo ...</td>\n",
       "      <td>1BC</td>\n",
       "      <td>6 - Ecuaciones de segundo grado</td>\n",
       "      <td>p016e04</td>\n",
       "      <td>1</td>\n",
       "      <td>2</td>\n",
       "      <td>1</td>\n",
       "      <td>True</td>\n",
       "    </tr>\n",
       "    <tr>\n",
       "      <th>30</th>\n",
       "      <td>\\frac{x - 3}{x + 3} + \\frac{x + 3}{x - 3} = \\f...</td>\n",
       "      <td>Eq((x - 3)/(x + 3) + (x + 3)/(x - 3), (x - 2)/...</td>\n",
       "      <td>\\emptyset</td>\n",
       "      <td>Resuelve las siguientes ecuaciones de segundo ...</td>\n",
       "      <td>1BC</td>\n",
       "      <td>6 - Ecuaciones de segundo grado</td>\n",
       "      <td>p016e04</td>\n",
       "      <td>1</td>\n",
       "      <td>2</td>\n",
       "      <td>1</td>\n",
       "      <td>True</td>\n",
       "    </tr>\n",
       "    <tr>\n",
       "      <th>31</th>\n",
       "      <td>- \\frac{x - 7}{x - 1} + \\frac{2 x - 1}{x + 1} ...</td>\n",
       "      <td>Eq(-(x - 7)/(x - 1) + (2*x - 1)/(x + 1), 4 - (...</td>\n",
       "      <td>\\left\\{- \\frac{5}{4}, 5\\right\\}</td>\n",
       "      <td>Resuelve las siguientes ecuaciones de segundo ...</td>\n",
       "      <td>1BC</td>\n",
       "      <td>6 - Ecuaciones de segundo grado</td>\n",
       "      <td>p016e04</td>\n",
       "      <td>1</td>\n",
       "      <td>2</td>\n",
       "      <td>1</td>\n",
       "      <td>True</td>\n",
       "    </tr>\n",
       "    <tr>\n",
       "      <th>32</th>\n",
       "      <td>\\frac{3 x - 4}{5 x - 16} = \\frac{4 x + 1}{6 x ...</td>\n",
       "      <td>Eq((3*x - 4)/(5*x - 16), (4*x + 1)/(6*x - 11))</td>\n",
       "      <td>\\left\\{-5, 6\\right\\}</td>\n",
       "      <td>Resuelve las siguientes ecuaciones de segundo ...</td>\n",
       "      <td>1BC</td>\n",
       "      <td>6 - Ecuaciones de segundo grado</td>\n",
       "      <td>p016e04</td>\n",
       "      <td>1</td>\n",
       "      <td>2</td>\n",
       "      <td>1</td>\n",
       "      <td>True</td>\n",
       "    </tr>\n",
       "    <tr>\n",
       "      <th>33</th>\n",
       "      <td>\\frac{- x + 3}{5} = - \\frac{4}{5} + \\frac{2}{x}</td>\n",
       "      <td>Eq((-x + 3)/5, -4/5 + 2/x)</td>\n",
       "      <td>\\left\\{2, 5\\right\\}</td>\n",
       "      <td>Resuelve las siguientes ecuaciones de segundo ...</td>\n",
       "      <td>1BC</td>\n",
       "      <td>6 - Ecuaciones de segundo grado</td>\n",
       "      <td>p016e04</td>\n",
       "      <td>1</td>\n",
       "      <td>2</td>\n",
       "      <td>1</td>\n",
       "      <td>True</td>\n",
       "    </tr>\n",
       "    <tr>\n",
       "      <th>34</th>\n",
       "      <td>\\frac{x^{2}}{x + 1} = \\left(\\frac{x^{3}}{x^{2}...</td>\n",
       "      <td>Eq(x**2/(x + 1), x**3/(x**2 - 1) - 1/(x - 1) +...</td>\n",
       "      <td>\\left\\{2\\right\\}</td>\n",
       "      <td>Resuelve las siguientes ecuaciones de segundo ...</td>\n",
       "      <td>1BC</td>\n",
       "      <td>6 - Ecuaciones de segundo grado</td>\n",
       "      <td>p016e04</td>\n",
       "      <td>1</td>\n",
       "      <td>2</td>\n",
       "      <td>1</td>\n",
       "      <td>True</td>\n",
       "    </tr>\n",
       "    <tr>\n",
       "      <th>35</th>\n",
       "      <td>\\frac{5}{2 x + 6} = \\left(\\left(\\frac{1}{x{\\le...</td>\n",
       "      <td>Eq(5/(2*x + 6), 1/x(x - 3) + 1/((x - 3)*(x + 3...</td>\n",
       "      <td>\\left\\{x \\mid x \\in \\mathbb{R} \\wedge - 2 \\lef...</td>\n",
       "      <td>Resuelve las siguientes ecuaciones de segundo ...</td>\n",
       "      <td>1BC</td>\n",
       "      <td>6 - Ecuaciones de segundo grado</td>\n",
       "      <td>p016e04</td>\n",
       "      <td>1</td>\n",
       "      <td>2</td>\n",
       "      <td>1</td>\n",
       "      <td>True</td>\n",
       "    </tr>\n",
       "    <tr>\n",
       "      <th>36</th>\n",
       "      <td>\\frac{x}{2} + \\frac{4}{x} = \\frac{12}{x}</td>\n",
       "      <td>Eq(x/2 + 4/x, 12/x)</td>\n",
       "      <td>\\left\\{-4, 4\\right\\}</td>\n",
       "      <td>Resuelve las siguientes ecuaciones de segundo ...</td>\n",
       "      <td>1BC</td>\n",
       "      <td>6 - Ecuaciones de segundo grado</td>\n",
       "      <td>p016e04</td>\n",
       "      <td>1</td>\n",
       "      <td>2</td>\n",
       "      <td>1</td>\n",
       "      <td>True</td>\n",
       "    </tr>\n",
       "    <tr>\n",
       "      <th>37</th>\n",
       "      <td>\\frac{5}{4 x^{2}} - \\frac{1}{2 x^{2}} = \\frac{...</td>\n",
       "      <td>Eq(5/((4*x**2)) - 1/(2*x**2), 1/3)</td>\n",
       "      <td>\\left\\{- \\frac{3}{2}, \\frac{3}{2}\\right\\}</td>\n",
       "      <td>Resuelve las siguientes ecuaciones de segundo ...</td>\n",
       "      <td>1BC</td>\n",
       "      <td>6 - Ecuaciones de segundo grado</td>\n",
       "      <td>p016e04</td>\n",
       "      <td>1</td>\n",
       "      <td>2</td>\n",
       "      <td>1</td>\n",
       "      <td>True</td>\n",
       "    </tr>\n",
       "    <tr>\n",
       "      <th>38</th>\n",
       "      <td>\\frac{- x + 6}{3} - \\frac{3 \\left(x - 4\\right)...</td>\n",
       "      <td>Eq((-x + 6)/3 - 3*(x - 4)/(x + 6), (x - 2)/2)</td>\n",
       "      <td>\\left\\{-3 + 3 \\sqrt{5}, - 3 \\sqrt{5} - 3\\right\\}</td>\n",
       "      <td>Resuelve las siguientes ecuaciones de segundo ...</td>\n",
       "      <td>1BC</td>\n",
       "      <td>6 - Ecuaciones de segundo grado</td>\n",
       "      <td>p016e04</td>\n",
       "      <td>1</td>\n",
       "      <td>2</td>\n",
       "      <td>1</td>\n",
       "      <td>True</td>\n",
       "    </tr>\n",
       "  </tbody>\n",
       "</table>\n",
       "</div>"
      ],
      "text/plain": [
       "                                      enunciado_latex  \\\n",
       "25    \\frac{x + 1}{x - 1} - \\frac{1}{x} = \\frac{5}{2}   \n",
       "26      - \\frac{2}{x + 1} + \\frac{3 x + 2}{x - 1} = 5   \n",
       "27            - \\frac{x}{x + 4} + 1 = \\frac{1}{x - 5}   \n",
       "28   \\frac{x}{x + 1} + \\frac{x + 1}{x} = \\frac{13}{6}   \n",
       "29  \\left(-3 + \\frac{2 \\left(2 x + 1\\right)}{2 x -...   \n",
       "30  \\frac{x - 3}{x + 3} + \\frac{x + 3}{x - 3} = \\f...   \n",
       "31  - \\frac{x - 7}{x - 1} + \\frac{2 x - 1}{x + 1} ...   \n",
       "32  \\frac{3 x - 4}{5 x - 16} = \\frac{4 x + 1}{6 x ...   \n",
       "33    \\frac{- x + 3}{5} = - \\frac{4}{5} + \\frac{2}{x}   \n",
       "34  \\frac{x^{2}}{x + 1} = \\left(\\frac{x^{3}}{x^{2}...   \n",
       "35  \\frac{5}{2 x + 6} = \\left(\\left(\\frac{1}{x{\\le...   \n",
       "36           \\frac{x}{2} + \\frac{4}{x} = \\frac{12}{x}   \n",
       "37  \\frac{5}{4 x^{2}} - \\frac{1}{2 x^{2}} = \\frac{...   \n",
       "38  \\frac{- x + 6}{3} - \\frac{3 \\left(x - 4\\right)...   \n",
       "\n",
       "                                            enunciado  \\\n",
       "25                     Eq((x + 1)/(x - 1) - 1/x, 5/2)   \n",
       "26              Eq(-2/(x + 1) + (3*x + 2)/(x - 1), 5)   \n",
       "27                      Eq(-x/(x + 4) + 1, 1/(x - 5))   \n",
       "28                    Eq(x/(x + 1) + (x + 1)/x, 13/6)   \n",
       "29            Eq(-3 + (2*(2*x + 1))/(2*x - 1) + 5, 0)   \n",
       "30  Eq((x - 3)/(x + 3) + (x + 3)/(x - 3), (x - 2)/...   \n",
       "31  Eq(-(x - 7)/(x - 1) + (2*x - 1)/(x + 1), 4 - (...   \n",
       "32     Eq((3*x - 4)/(5*x - 16), (4*x + 1)/(6*x - 11))   \n",
       "33                         Eq((-x + 3)/5, -4/5 + 2/x)   \n",
       "34  Eq(x**2/(x + 1), x**3/(x**2 - 1) - 1/(x - 1) +...   \n",
       "35  Eq(5/(2*x + 6), 1/x(x - 3) + 1/((x - 3)*(x + 3...   \n",
       "36                                Eq(x/2 + 4/x, 12/x)   \n",
       "37                 Eq(5/((4*x**2)) - 1/(2*x**2), 1/3)   \n",
       "38      Eq((-x + 6)/3 - 3*(x - 4)/(x + 6), (x - 2)/2)   \n",
       "\n",
       "                                             solucion  \\\n",
       "25                    \\left\\{- \\frac{1}{3}, 2\\right\\}   \n",
       "26                    \\left\\{- \\frac{3}{2}, 3\\right\\}   \n",
       "27                                   \\left\\{8\\right\\}   \n",
       "28                               \\left\\{-3, 2\\right\\}   \n",
       "29                                   \\left\\{0\\right\\}   \n",
       "30                                          \\emptyset   \n",
       "31                    \\left\\{- \\frac{5}{4}, 5\\right\\}   \n",
       "32                               \\left\\{-5, 6\\right\\}   \n",
       "33                                \\left\\{2, 5\\right\\}   \n",
       "34                                   \\left\\{2\\right\\}   \n",
       "35  \\left\\{x \\mid x \\in \\mathbb{R} \\wedge - 2 \\lef...   \n",
       "36                               \\left\\{-4, 4\\right\\}   \n",
       "37          \\left\\{- \\frac{3}{2}, \\frac{3}{2}\\right\\}   \n",
       "38   \\left\\{-3 + 3 \\sqrt{5}, - 3 \\sqrt{5} - 3\\right\\}   \n",
       "\n",
       "                                                texto curso  \\\n",
       "25  Resuelve las siguientes ecuaciones de segundo ...   1BC   \n",
       "26  Resuelve las siguientes ecuaciones de segundo ...   1BC   \n",
       "27  Resuelve las siguientes ecuaciones de segundo ...   1BC   \n",
       "28  Resuelve las siguientes ecuaciones de segundo ...   1BC   \n",
       "29  Resuelve las siguientes ecuaciones de segundo ...   1BC   \n",
       "30  Resuelve las siguientes ecuaciones de segundo ...   1BC   \n",
       "31  Resuelve las siguientes ecuaciones de segundo ...   1BC   \n",
       "32  Resuelve las siguientes ecuaciones de segundo ...   1BC   \n",
       "33  Resuelve las siguientes ecuaciones de segundo ...   1BC   \n",
       "34  Resuelve las siguientes ecuaciones de segundo ...   1BC   \n",
       "35  Resuelve las siguientes ecuaciones de segundo ...   1BC   \n",
       "36  Resuelve las siguientes ecuaciones de segundo ...   1BC   \n",
       "37  Resuelve las siguientes ecuaciones de segundo ...   1BC   \n",
       "38  Resuelve las siguientes ecuaciones de segundo ...   1BC   \n",
       "\n",
       "                             titulo n_ejercicio  dificultad  n_columnas  \\\n",
       "25  6 - Ecuaciones de segundo grado     p016e04           1           2   \n",
       "26  6 - Ecuaciones de segundo grado     p016e04           1           2   \n",
       "27  6 - Ecuaciones de segundo grado     p016e04           1           2   \n",
       "28  6 - Ecuaciones de segundo grado     p016e04           1           2   \n",
       "29  6 - Ecuaciones de segundo grado     p016e04           1           2   \n",
       "30  6 - Ecuaciones de segundo grado     p016e04           1           2   \n",
       "31  6 - Ecuaciones de segundo grado     p016e04           1           2   \n",
       "32  6 - Ecuaciones de segundo grado     p016e04           1           2   \n",
       "33  6 - Ecuaciones de segundo grado     p016e04           1           2   \n",
       "34  6 - Ecuaciones de segundo grado     p016e04           1           2   \n",
       "35  6 - Ecuaciones de segundo grado     p016e04           1           2   \n",
       "36  6 - Ecuaciones de segundo grado     p016e04           1           2   \n",
       "37  6 - Ecuaciones de segundo grado     p016e04           1           2   \n",
       "38  6 - Ecuaciones de segundo grado     p016e04           1           2   \n",
       "\n",
       "    puntos  enun_tex  \n",
       "25       1      True  \n",
       "26       1      True  \n",
       "27       1      True  \n",
       "28       1      True  \n",
       "29       1      True  \n",
       "30       1      True  \n",
       "31       1      True  \n",
       "32       1      True  \n",
       "33       1      True  \n",
       "34       1      True  \n",
       "35       1      True  \n",
       "36       1      True  \n",
       "37       1      True  \n",
       "38       1      True  "
      ]
     },
     "metadata": {},
     "output_type": "display_data"
    },
    {
     "data": {
      "text/markdown": [
       "**Ejercicio: **p017e05"
      ],
      "text/plain": [
       "<IPython.core.display.Markdown object>"
      ]
     },
     "metadata": {},
     "output_type": "display_data"
    },
    {
     "data": {
      "text/html": [
       "<div>\n",
       "<style scoped>\n",
       "    .dataframe tbody tr th:only-of-type {\n",
       "        vertical-align: middle;\n",
       "    }\n",
       "\n",
       "    .dataframe tbody tr th {\n",
       "        vertical-align: top;\n",
       "    }\n",
       "\n",
       "    .dataframe thead th {\n",
       "        text-align: right;\n",
       "    }\n",
       "</style>\n",
       "<table border=\"1\" class=\"dataframe\">\n",
       "  <thead>\n",
       "    <tr style=\"text-align: right;\">\n",
       "      <th></th>\n",
       "      <th>enunciado_latex</th>\n",
       "      <th>enunciado</th>\n",
       "      <th>solucion</th>\n",
       "      <th>texto</th>\n",
       "      <th>curso</th>\n",
       "      <th>titulo</th>\n",
       "      <th>n_ejercicio</th>\n",
       "      <th>dificultad</th>\n",
       "      <th>n_columnas</th>\n",
       "      <th>puntos</th>\n",
       "      <th>enun_tex</th>\n",
       "    </tr>\n",
       "  </thead>\n",
       "  <tbody>\n",
       "    <tr>\n",
       "      <th>39</th>\n",
       "      <td>\\left(x^{2} - 9 x\\right) + 1 = 0</td>\n",
       "      <td>Eq(x**2 - 9*x + 1, 0)</td>\n",
       "      <td>\\left\\{- \\frac{\\sqrt{77}}{2} + \\frac{9}{2}, \\f...</td>\n",
       "      <td>Discute, sin resolver, las ecuaciones:</td>\n",
       "      <td>1BC</td>\n",
       "      <td>6 - Ecuaciones de segundo grado</td>\n",
       "      <td>p017e05</td>\n",
       "      <td>1</td>\n",
       "      <td>2</td>\n",
       "      <td>1</td>\n",
       "      <td>True</td>\n",
       "    </tr>\n",
       "    <tr>\n",
       "      <th>40</th>\n",
       "      <td>\\left(2 x^{2} + 6 x\\right) - 5 = 0</td>\n",
       "      <td>Eq(2*x**2 + 6*x - 5, 0)</td>\n",
       "      <td>\\left\\{- \\frac{3}{2} + \\frac{\\sqrt{19}}{2}, - ...</td>\n",
       "      <td>Discute, sin resolver, las ecuaciones:</td>\n",
       "      <td>1BC</td>\n",
       "      <td>6 - Ecuaciones de segundo grado</td>\n",
       "      <td>p017e05</td>\n",
       "      <td>1</td>\n",
       "      <td>2</td>\n",
       "      <td>1</td>\n",
       "      <td>True</td>\n",
       "    </tr>\n",
       "    <tr>\n",
       "      <th>41</th>\n",
       "      <td>\\left(3 x^{2} - x\\right) + 1 = 0</td>\n",
       "      <td>Eq(3*x**2 - x + 1, 0)</td>\n",
       "      <td>\\emptyset</td>\n",
       "      <td>Discute, sin resolver, las ecuaciones:</td>\n",
       "      <td>1BC</td>\n",
       "      <td>6 - Ecuaciones de segundo grado</td>\n",
       "      <td>p017e05</td>\n",
       "      <td>1</td>\n",
       "      <td>2</td>\n",
       "      <td>1</td>\n",
       "      <td>True</td>\n",
       "    </tr>\n",
       "    <tr>\n",
       "      <th>42</th>\n",
       "      <td>\\left(x^{2} - 12 x\\right) + 36 = 0</td>\n",
       "      <td>Eq(x**2 - 12*x + 36, 0)</td>\n",
       "      <td>\\left\\{6\\right\\}</td>\n",
       "      <td>Discute, sin resolver, las ecuaciones:</td>\n",
       "      <td>1BC</td>\n",
       "      <td>6 - Ecuaciones de segundo grado</td>\n",
       "      <td>p017e05</td>\n",
       "      <td>1</td>\n",
       "      <td>2</td>\n",
       "      <td>1</td>\n",
       "      <td>True</td>\n",
       "    </tr>\n",
       "  </tbody>\n",
       "</table>\n",
       "</div>"
      ],
      "text/plain": [
       "                       enunciado_latex                enunciado  \\\n",
       "39    \\left(x^{2} - 9 x\\right) + 1 = 0    Eq(x**2 - 9*x + 1, 0)   \n",
       "40  \\left(2 x^{2} + 6 x\\right) - 5 = 0  Eq(2*x**2 + 6*x - 5, 0)   \n",
       "41    \\left(3 x^{2} - x\\right) + 1 = 0    Eq(3*x**2 - x + 1, 0)   \n",
       "42  \\left(x^{2} - 12 x\\right) + 36 = 0  Eq(x**2 - 12*x + 36, 0)   \n",
       "\n",
       "                                             solucion  \\\n",
       "39  \\left\\{- \\frac{\\sqrt{77}}{2} + \\frac{9}{2}, \\f...   \n",
       "40  \\left\\{- \\frac{3}{2} + \\frac{\\sqrt{19}}{2}, - ...   \n",
       "41                                          \\emptyset   \n",
       "42                                   \\left\\{6\\right\\}   \n",
       "\n",
       "                                     texto curso  \\\n",
       "39  Discute, sin resolver, las ecuaciones:   1BC   \n",
       "40  Discute, sin resolver, las ecuaciones:   1BC   \n",
       "41  Discute, sin resolver, las ecuaciones:   1BC   \n",
       "42  Discute, sin resolver, las ecuaciones:   1BC   \n",
       "\n",
       "                             titulo n_ejercicio  dificultad  n_columnas  \\\n",
       "39  6 - Ecuaciones de segundo grado     p017e05           1           2   \n",
       "40  6 - Ecuaciones de segundo grado     p017e05           1           2   \n",
       "41  6 - Ecuaciones de segundo grado     p017e05           1           2   \n",
       "42  6 - Ecuaciones de segundo grado     p017e05           1           2   \n",
       "\n",
       "    puntos  enun_tex  \n",
       "39       1      True  \n",
       "40       1      True  \n",
       "41       1      True  \n",
       "42       1      True  "
      ]
     },
     "metadata": {},
     "output_type": "display_data"
    },
    {
     "data": {
      "text/markdown": [
       "**Ejercicio: **p017e19"
      ],
      "text/plain": [
       "<IPython.core.display.Markdown object>"
      ]
     },
     "metadata": {},
     "output_type": "display_data"
    },
    {
     "data": {
      "text/html": [
       "<div>\n",
       "<style scoped>\n",
       "    .dataframe tbody tr th:only-of-type {\n",
       "        vertical-align: middle;\n",
       "    }\n",
       "\n",
       "    .dataframe tbody tr th {\n",
       "        vertical-align: top;\n",
       "    }\n",
       "\n",
       "    .dataframe thead th {\n",
       "        text-align: right;\n",
       "    }\n",
       "</style>\n",
       "<table border=\"1\" class=\"dataframe\">\n",
       "  <thead>\n",
       "    <tr style=\"text-align: right;\">\n",
       "      <th></th>\n",
       "      <th>enunciado_latex</th>\n",
       "      <th>enunciado</th>\n",
       "      <th>solucion</th>\n",
       "      <th>texto</th>\n",
       "      <th>curso</th>\n",
       "      <th>titulo</th>\n",
       "      <th>n_ejercicio</th>\n",
       "      <th>dificultad</th>\n",
       "      <th>n_columnas</th>\n",
       "      <th>puntos</th>\n",
       "      <th>enun_tex</th>\n",
       "    </tr>\n",
       "  </thead>\n",
       "  <tbody>\n",
       "    <tr>\n",
       "      <th>43</th>\n",
       "      <td>x^{4} - 16 = 0</td>\n",
       "      <td>Eq(x**4 - 16, 0)</td>\n",
       "      <td>\\left\\{-2, 2\\right\\}</td>\n",
       "      <td>Resuelve:</td>\n",
       "      <td>1BC</td>\n",
       "      <td>6 - Ecuaciones de segundo grado</td>\n",
       "      <td>p017e19</td>\n",
       "      <td>1</td>\n",
       "      <td>2</td>\n",
       "      <td>1</td>\n",
       "      <td>True</td>\n",
       "    </tr>\n",
       "    <tr>\n",
       "      <th>44</th>\n",
       "      <td>x^{4} - 225 x^{2} = 0</td>\n",
       "      <td>Eq(x**4 - 225*x**2, 0)</td>\n",
       "      <td>\\left\\{-15, 0, 15\\right\\}</td>\n",
       "      <td>Resuelve:</td>\n",
       "      <td>1BC</td>\n",
       "      <td>6 - Ecuaciones de segundo grado</td>\n",
       "      <td>p017e19</td>\n",
       "      <td>1</td>\n",
       "      <td>2</td>\n",
       "      <td>1</td>\n",
       "      <td>True</td>\n",
       "    </tr>\n",
       "    <tr>\n",
       "      <th>45</th>\n",
       "      <td>\\left(x^{4} - 10 x^{2}\\right) + 9 = 0</td>\n",
       "      <td>Eq(x**4 - 10*x**2 + 9, 0)</td>\n",
       "      <td>\\left\\{-3, -1, 1, 3\\right\\}</td>\n",
       "      <td>Resuelve:</td>\n",
       "      <td>1BC</td>\n",
       "      <td>6 - Ecuaciones de segundo grado</td>\n",
       "      <td>p017e19</td>\n",
       "      <td>1</td>\n",
       "      <td>2</td>\n",
       "      <td>1</td>\n",
       "      <td>True</td>\n",
       "    </tr>\n",
       "    <tr>\n",
       "      <th>46</th>\n",
       "      <td>\\left(2 x^{4} + 11 x^{2}\\right) - 6 = 0</td>\n",
       "      <td>Eq(2*x**4 + 11*x**2 - 6, 0)</td>\n",
       "      <td>\\left\\{- \\frac{\\sqrt{2}}{2}, \\frac{\\sqrt{2}}{2...</td>\n",
       "      <td>Resuelve:</td>\n",
       "      <td>1BC</td>\n",
       "      <td>6 - Ecuaciones de segundo grado</td>\n",
       "      <td>p017e19</td>\n",
       "      <td>1</td>\n",
       "      <td>2</td>\n",
       "      <td>1</td>\n",
       "      <td>True</td>\n",
       "    </tr>\n",
       "    <tr>\n",
       "      <th>47</th>\n",
       "      <td>\\left(x^{4} - 6 x^{2}\\right) + 8 = 0</td>\n",
       "      <td>Eq(x**4 - 6*x**2 + 8, 0)</td>\n",
       "      <td>\\left\\{-2, 2, - \\sqrt{2}, \\sqrt{2}\\right\\}</td>\n",
       "      <td>Resuelve:</td>\n",
       "      <td>1BC</td>\n",
       "      <td>6 - Ecuaciones de segundo grado</td>\n",
       "      <td>p017e19</td>\n",
       "      <td>1</td>\n",
       "      <td>2</td>\n",
       "      <td>1</td>\n",
       "      <td>True</td>\n",
       "    </tr>\n",
       "    <tr>\n",
       "      <th>48</th>\n",
       "      <td>x^{4} + 2 x^{2} = - 3</td>\n",
       "      <td>Eq(x**4 + 2*x**2, -3)</td>\n",
       "      <td>\\emptyset</td>\n",
       "      <td>Resuelve:</td>\n",
       "      <td>1BC</td>\n",
       "      <td>6 - Ecuaciones de segundo grado</td>\n",
       "      <td>p017e19</td>\n",
       "      <td>1</td>\n",
       "      <td>2</td>\n",
       "      <td>1</td>\n",
       "      <td>True</td>\n",
       "    </tr>\n",
       "    <tr>\n",
       "      <th>49</th>\n",
       "      <td>\\left(x^{4} - 8 x^{2}\\right) - 9 = 0</td>\n",
       "      <td>Eq(x**4 - 8*x**2 - 9, 0)</td>\n",
       "      <td>\\left\\{-3, 3\\right\\}</td>\n",
       "      <td>Resuelve:</td>\n",
       "      <td>1BC</td>\n",
       "      <td>6 - Ecuaciones de segundo grado</td>\n",
       "      <td>p017e19</td>\n",
       "      <td>1</td>\n",
       "      <td>2</td>\n",
       "      <td>1</td>\n",
       "      <td>True</td>\n",
       "    </tr>\n",
       "    <tr>\n",
       "      <th>50</th>\n",
       "      <td>\\left(x^{4} - 10 x^{2}\\right) + 25 = 0</td>\n",
       "      <td>Eq(x**4 - 10*x**2 + 25, 0)</td>\n",
       "      <td>\\left\\{- \\sqrt{5}, \\sqrt{5}\\right\\}</td>\n",
       "      <td>Resuelve:</td>\n",
       "      <td>1BC</td>\n",
       "      <td>6 - Ecuaciones de segundo grado</td>\n",
       "      <td>p017e19</td>\n",
       "      <td>1</td>\n",
       "      <td>2</td>\n",
       "      <td>1</td>\n",
       "      <td>True</td>\n",
       "    </tr>\n",
       "    <tr>\n",
       "      <th>51</th>\n",
       "      <td>\\left(x^{4} - 29 x^{2}\\right) + 100 = 0</td>\n",
       "      <td>Eq(x**4 - 29*x**2 + 100, 0)</td>\n",
       "      <td>\\left\\{-5, -2, 2, 5\\right\\}</td>\n",
       "      <td>Resuelve:</td>\n",
       "      <td>1BC</td>\n",
       "      <td>6 - Ecuaciones de segundo grado</td>\n",
       "      <td>p017e19</td>\n",
       "      <td>1</td>\n",
       "      <td>2</td>\n",
       "      <td>1</td>\n",
       "      <td>True</td>\n",
       "    </tr>\n",
       "    <tr>\n",
       "      <th>52</th>\n",
       "      <td>\\left(x^{4} + 21 x^{2}\\right) - 100 = 0</td>\n",
       "      <td>Eq(x**4 + 21*x**2 - 100, 0)</td>\n",
       "      <td>\\left\\{-2, 2\\right\\}</td>\n",
       "      <td>Resuelve:</td>\n",
       "      <td>1BC</td>\n",
       "      <td>6 - Ecuaciones de segundo grado</td>\n",
       "      <td>p017e19</td>\n",
       "      <td>1</td>\n",
       "      <td>2</td>\n",
       "      <td>1</td>\n",
       "      <td>True</td>\n",
       "    </tr>\n",
       "    <tr>\n",
       "      <th>53</th>\n",
       "      <td>9 x^{4} + 16 = 40 x^{2}</td>\n",
       "      <td>Eq(9*x**4 + 16, 40*x**2)</td>\n",
       "      <td>\\left\\{-2, - \\frac{2}{3}, \\frac{2}{3}, 2\\right\\}</td>\n",
       "      <td>Resuelve:</td>\n",
       "      <td>1BC</td>\n",
       "      <td>6 - Ecuaciones de segundo grado</td>\n",
       "      <td>p017e19</td>\n",
       "      <td>1</td>\n",
       "      <td>2</td>\n",
       "      <td>1</td>\n",
       "      <td>True</td>\n",
       "    </tr>\n",
       "    <tr>\n",
       "      <th>54</th>\n",
       "      <td>\\left(x^{4} - \\frac{5 x^{2}}{4}\\right) + \\frac...</td>\n",
       "      <td>Eq(x**4 - 5*x**2/4 + 1/4, 0)</td>\n",
       "      <td>\\left\\{-1, - \\frac{1}{2}, \\frac{1}{2}, 1\\right\\}</td>\n",
       "      <td>Resuelve:</td>\n",
       "      <td>1BC</td>\n",
       "      <td>6 - Ecuaciones de segundo grado</td>\n",
       "      <td>p017e19</td>\n",
       "      <td>1</td>\n",
       "      <td>2</td>\n",
       "      <td>1</td>\n",
       "      <td>True</td>\n",
       "    </tr>\n",
       "    <tr>\n",
       "      <th>55</th>\n",
       "      <td>- x^{2} + 34 = \\frac{225}{x^{2}}</td>\n",
       "      <td>Eq(-x**2 + 34, 225/x**2)</td>\n",
       "      <td>\\left\\{-5, -3, 3, 5\\right\\}</td>\n",
       "      <td>Resuelve:</td>\n",
       "      <td>1BC</td>\n",
       "      <td>6 - Ecuaciones de segundo grado</td>\n",
       "      <td>p017e19</td>\n",
       "      <td>1</td>\n",
       "      <td>2</td>\n",
       "      <td>1</td>\n",
       "      <td>True</td>\n",
       "    </tr>\n",
       "    <tr>\n",
       "      <th>56</th>\n",
       "      <td>x^{2} = \\frac{12}{x^{2} - 1}</td>\n",
       "      <td>Eq(x**2, 12/(x**2 - 1))</td>\n",
       "      <td>\\left\\{-2, 2\\right\\}</td>\n",
       "      <td>Resuelve:</td>\n",
       "      <td>1BC</td>\n",
       "      <td>6 - Ecuaciones de segundo grado</td>\n",
       "      <td>p017e19</td>\n",
       "      <td>1</td>\n",
       "      <td>2</td>\n",
       "      <td>1</td>\n",
       "      <td>True</td>\n",
       "    </tr>\n",
       "    <tr>\n",
       "      <th>57</th>\n",
       "      <td>\\left(x^{4} + 4 x^{2}\\right) + 8 = 0</td>\n",
       "      <td>Eq(x**4 + 4*x**2 + 8, 0)</td>\n",
       "      <td>\\emptyset</td>\n",
       "      <td>Resuelve:</td>\n",
       "      <td>1BC</td>\n",
       "      <td>6 - Ecuaciones de segundo grado</td>\n",
       "      <td>p017e19</td>\n",
       "      <td>1</td>\n",
       "      <td>2</td>\n",
       "      <td>1</td>\n",
       "      <td>True</td>\n",
       "    </tr>\n",
       "    <tr>\n",
       "      <th>58</th>\n",
       "      <td>-2 + \\frac{8}{x^{2} - 5} = \\frac{\\left(x - 3\\r...</td>\n",
       "      <td>Eq(-2 + 8/(x**2 - 5), ((x - 3)*(x + 3))/(x**2 ...</td>\n",
       "      <td>\\left\\{-3, 3, - \\frac{\\sqrt{21}}{3}, \\frac{\\sq...</td>\n",
       "      <td>Resuelve:</td>\n",
       "      <td>1BC</td>\n",
       "      <td>6 - Ecuaciones de segundo grado</td>\n",
       "      <td>p017e19</td>\n",
       "      <td>1</td>\n",
       "      <td>2</td>\n",
       "      <td>1</td>\n",
       "      <td>True</td>\n",
       "    </tr>\n",
       "    <tr>\n",
       "      <th>59</th>\n",
       "      <td>\\frac{x^{2} \\left(2 x + 5\\right)}{x + 1} = \\fr...</td>\n",
       "      <td>Eq((x**2*(2*x + 5))/(x + 1), (9*(-x + 1))/(2*x...</td>\n",
       "      <td>\\left\\{- \\frac{3 \\sqrt{2}}{2}, \\frac{3 \\sqrt{2...</td>\n",
       "      <td>Resuelve:</td>\n",
       "      <td>1BC</td>\n",
       "      <td>6 - Ecuaciones de segundo grado</td>\n",
       "      <td>p017e19</td>\n",
       "      <td>1</td>\n",
       "      <td>2</td>\n",
       "      <td>1</td>\n",
       "      <td>True</td>\n",
       "    </tr>\n",
       "  </tbody>\n",
       "</table>\n",
       "</div>"
      ],
      "text/plain": [
       "                                      enunciado_latex  \\\n",
       "43                                     x^{4} - 16 = 0   \n",
       "44                              x^{4} - 225 x^{2} = 0   \n",
       "45              \\left(x^{4} - 10 x^{2}\\right) + 9 = 0   \n",
       "46            \\left(2 x^{4} + 11 x^{2}\\right) - 6 = 0   \n",
       "47               \\left(x^{4} - 6 x^{2}\\right) + 8 = 0   \n",
       "48                              x^{4} + 2 x^{2} = - 3   \n",
       "49               \\left(x^{4} - 8 x^{2}\\right) - 9 = 0   \n",
       "50             \\left(x^{4} - 10 x^{2}\\right) + 25 = 0   \n",
       "51            \\left(x^{4} - 29 x^{2}\\right) + 100 = 0   \n",
       "52            \\left(x^{4} + 21 x^{2}\\right) - 100 = 0   \n",
       "53                            9 x^{4} + 16 = 40 x^{2}   \n",
       "54  \\left(x^{4} - \\frac{5 x^{2}}{4}\\right) + \\frac...   \n",
       "55                   - x^{2} + 34 = \\frac{225}{x^{2}}   \n",
       "56                       x^{2} = \\frac{12}{x^{2} - 1}   \n",
       "57               \\left(x^{4} + 4 x^{2}\\right) + 8 = 0   \n",
       "58  -2 + \\frac{8}{x^{2} - 5} = \\frac{\\left(x - 3\\r...   \n",
       "59  \\frac{x^{2} \\left(2 x + 5\\right)}{x + 1} = \\fr...   \n",
       "\n",
       "                                            enunciado  \\\n",
       "43                                   Eq(x**4 - 16, 0)   \n",
       "44                             Eq(x**4 - 225*x**2, 0)   \n",
       "45                          Eq(x**4 - 10*x**2 + 9, 0)   \n",
       "46                        Eq(2*x**4 + 11*x**2 - 6, 0)   \n",
       "47                           Eq(x**4 - 6*x**2 + 8, 0)   \n",
       "48                              Eq(x**4 + 2*x**2, -3)   \n",
       "49                           Eq(x**4 - 8*x**2 - 9, 0)   \n",
       "50                         Eq(x**4 - 10*x**2 + 25, 0)   \n",
       "51                        Eq(x**4 - 29*x**2 + 100, 0)   \n",
       "52                        Eq(x**4 + 21*x**2 - 100, 0)   \n",
       "53                           Eq(9*x**4 + 16, 40*x**2)   \n",
       "54                       Eq(x**4 - 5*x**2/4 + 1/4, 0)   \n",
       "55                           Eq(-x**2 + 34, 225/x**2)   \n",
       "56                            Eq(x**2, 12/(x**2 - 1))   \n",
       "57                           Eq(x**4 + 4*x**2 + 8, 0)   \n",
       "58  Eq(-2 + 8/(x**2 - 5), ((x - 3)*(x + 3))/(x**2 ...   \n",
       "59  Eq((x**2*(2*x + 5))/(x + 1), (9*(-x + 1))/(2*x...   \n",
       "\n",
       "                                             solucion      texto curso  \\\n",
       "43                               \\left\\{-2, 2\\right\\}  Resuelve:   1BC   \n",
       "44                          \\left\\{-15, 0, 15\\right\\}  Resuelve:   1BC   \n",
       "45                        \\left\\{-3, -1, 1, 3\\right\\}  Resuelve:   1BC   \n",
       "46  \\left\\{- \\frac{\\sqrt{2}}{2}, \\frac{\\sqrt{2}}{2...  Resuelve:   1BC   \n",
       "47         \\left\\{-2, 2, - \\sqrt{2}, \\sqrt{2}\\right\\}  Resuelve:   1BC   \n",
       "48                                          \\emptyset  Resuelve:   1BC   \n",
       "49                               \\left\\{-3, 3\\right\\}  Resuelve:   1BC   \n",
       "50                \\left\\{- \\sqrt{5}, \\sqrt{5}\\right\\}  Resuelve:   1BC   \n",
       "51                        \\left\\{-5, -2, 2, 5\\right\\}  Resuelve:   1BC   \n",
       "52                               \\left\\{-2, 2\\right\\}  Resuelve:   1BC   \n",
       "53   \\left\\{-2, - \\frac{2}{3}, \\frac{2}{3}, 2\\right\\}  Resuelve:   1BC   \n",
       "54   \\left\\{-1, - \\frac{1}{2}, \\frac{1}{2}, 1\\right\\}  Resuelve:   1BC   \n",
       "55                        \\left\\{-5, -3, 3, 5\\right\\}  Resuelve:   1BC   \n",
       "56                               \\left\\{-2, 2\\right\\}  Resuelve:   1BC   \n",
       "57                                          \\emptyset  Resuelve:   1BC   \n",
       "58  \\left\\{-3, 3, - \\frac{\\sqrt{21}}{3}, \\frac{\\sq...  Resuelve:   1BC   \n",
       "59  \\left\\{- \\frac{3 \\sqrt{2}}{2}, \\frac{3 \\sqrt{2...  Resuelve:   1BC   \n",
       "\n",
       "                             titulo n_ejercicio  dificultad  n_columnas  \\\n",
       "43  6 - Ecuaciones de segundo grado     p017e19           1           2   \n",
       "44  6 - Ecuaciones de segundo grado     p017e19           1           2   \n",
       "45  6 - Ecuaciones de segundo grado     p017e19           1           2   \n",
       "46  6 - Ecuaciones de segundo grado     p017e19           1           2   \n",
       "47  6 - Ecuaciones de segundo grado     p017e19           1           2   \n",
       "48  6 - Ecuaciones de segundo grado     p017e19           1           2   \n",
       "49  6 - Ecuaciones de segundo grado     p017e19           1           2   \n",
       "50  6 - Ecuaciones de segundo grado     p017e19           1           2   \n",
       "51  6 - Ecuaciones de segundo grado     p017e19           1           2   \n",
       "52  6 - Ecuaciones de segundo grado     p017e19           1           2   \n",
       "53  6 - Ecuaciones de segundo grado     p017e19           1           2   \n",
       "54  6 - Ecuaciones de segundo grado     p017e19           1           2   \n",
       "55  6 - Ecuaciones de segundo grado     p017e19           1           2   \n",
       "56  6 - Ecuaciones de segundo grado     p017e19           1           2   \n",
       "57  6 - Ecuaciones de segundo grado     p017e19           1           2   \n",
       "58  6 - Ecuaciones de segundo grado     p017e19           1           2   \n",
       "59  6 - Ecuaciones de segundo grado     p017e19           1           2   \n",
       "\n",
       "    puntos  enun_tex  \n",
       "43       1      True  \n",
       "44       1      True  \n",
       "45       1      True  \n",
       "46       1      True  \n",
       "47       1      True  \n",
       "48       1      True  \n",
       "49       1      True  \n",
       "50       1      True  \n",
       "51       1      True  \n",
       "52       1      True  \n",
       "53       1      True  \n",
       "54       1      True  \n",
       "55       1      True  \n",
       "56       1      True  \n",
       "57       1      True  \n",
       "58       1      True  \n",
       "59       1      True  "
      ]
     },
     "metadata": {},
     "output_type": "display_data"
    },
    {
     "data": {
      "text/markdown": [
       "**Ejercicio: **p018e20"
      ],
      "text/plain": [
       "<IPython.core.display.Markdown object>"
      ]
     },
     "metadata": {},
     "output_type": "display_data"
    },
    {
     "data": {
      "text/html": [
       "<div>\n",
       "<style scoped>\n",
       "    .dataframe tbody tr th:only-of-type {\n",
       "        vertical-align: middle;\n",
       "    }\n",
       "\n",
       "    .dataframe tbody tr th {\n",
       "        vertical-align: top;\n",
       "    }\n",
       "\n",
       "    .dataframe thead th {\n",
       "        text-align: right;\n",
       "    }\n",
       "</style>\n",
       "<table border=\"1\" class=\"dataframe\">\n",
       "  <thead>\n",
       "    <tr style=\"text-align: right;\">\n",
       "      <th></th>\n",
       "      <th>enunciado_latex</th>\n",
       "      <th>enunciado</th>\n",
       "      <th>solucion</th>\n",
       "      <th>texto</th>\n",
       "      <th>curso</th>\n",
       "      <th>titulo</th>\n",
       "      <th>n_ejercicio</th>\n",
       "      <th>dificultad</th>\n",
       "      <th>n_columnas</th>\n",
       "      <th>puntos</th>\n",
       "      <th>enun_tex</th>\n",
       "    </tr>\n",
       "  </thead>\n",
       "  <tbody>\n",
       "    <tr>\n",
       "      <th>60</th>\n",
       "      <td>\\sqrt{2 x - 1} + 5 = 2 x + 4</td>\n",
       "      <td>Eq(sqrt(2*x - 1) + 5, 2*x + 4)</td>\n",
       "      <td>\\left\\{\\frac{1}{2}, 1\\right\\}</td>\n",
       "      <td>Resuelve:</td>\n",
       "      <td>1BC</td>\n",
       "      <td>6 - Ecuaciones de segundo grado</td>\n",
       "      <td>p018e20</td>\n",
       "      <td>1</td>\n",
       "      <td>2</td>\n",
       "      <td>1</td>\n",
       "      <td>True</td>\n",
       "    </tr>\n",
       "    <tr>\n",
       "      <th>61</th>\n",
       "      <td>2 \\sqrt{x - 3} + \\sqrt{6 x - 8} = 6</td>\n",
       "      <td>Eq(2*sqrt(x - 3) + sqrt(6*x - 8), 6)</td>\n",
       "      <td>\\left\\{4\\right\\}</td>\n",
       "      <td>Resuelve:</td>\n",
       "      <td>1BC</td>\n",
       "      <td>6 - Ecuaciones de segundo grado</td>\n",
       "      <td>p018e20</td>\n",
       "      <td>1</td>\n",
       "      <td>2</td>\n",
       "      <td>1</td>\n",
       "      <td>True</td>\n",
       "    </tr>\n",
       "    <tr>\n",
       "      <th>62</th>\n",
       "      <td>\\sqrt{2 x + 2} = x - 3</td>\n",
       "      <td>Eq(sqrt(2*x + 2), x - 3)</td>\n",
       "      <td>\\left\\{7\\right\\}</td>\n",
       "      <td>Resuelve:</td>\n",
       "      <td>1BC</td>\n",
       "      <td>6 - Ecuaciones de segundo grado</td>\n",
       "      <td>p018e20</td>\n",
       "      <td>1</td>\n",
       "      <td>2</td>\n",
       "      <td>1</td>\n",
       "      <td>True</td>\n",
       "    </tr>\n",
       "    <tr>\n",
       "      <th>63</th>\n",
       "      <td>\\sqrt{2 x - 1} + 5 = 2 \\sqrt{x + 3} + 2</td>\n",
       "      <td>Eq(sqrt(2*x - 1) + 5, 2*sqrt(x + 3) + 2)</td>\n",
       "      <td>\\left\\{1, 13\\right\\}</td>\n",
       "      <td>Resuelve:</td>\n",
       "      <td>1BC</td>\n",
       "      <td>6 - Ecuaciones de segundo grado</td>\n",
       "      <td>p018e20</td>\n",
       "      <td>1</td>\n",
       "      <td>2</td>\n",
       "      <td>1</td>\n",
       "      <td>True</td>\n",
       "    </tr>\n",
       "    <tr>\n",
       "      <th>64</th>\n",
       "      <td>- \\sqrt{x - 2} + \\sqrt{x - 1} = 1</td>\n",
       "      <td>Eq(-sqrt(x - 2) + sqrt(x - 1), 1)</td>\n",
       "      <td>\\left\\{2\\right\\}</td>\n",
       "      <td>Resuelve:</td>\n",
       "      <td>1BC</td>\n",
       "      <td>6 - Ecuaciones de segundo grado</td>\n",
       "      <td>p018e20</td>\n",
       "      <td>1</td>\n",
       "      <td>2</td>\n",
       "      <td>1</td>\n",
       "      <td>True</td>\n",
       "    </tr>\n",
       "    <tr>\n",
       "      <th>65</th>\n",
       "      <td>\\sqrt{x - 1} + 2 = x - 5</td>\n",
       "      <td>Eq(sqrt(x - 1) + 2, x - 5)</td>\n",
       "      <td>\\left\\{10\\right\\}</td>\n",
       "      <td>Resuelve:</td>\n",
       "      <td>1BC</td>\n",
       "      <td>6 - Ecuaciones de segundo grado</td>\n",
       "      <td>p018e20</td>\n",
       "      <td>1</td>\n",
       "      <td>2</td>\n",
       "      <td>1</td>\n",
       "      <td>True</td>\n",
       "    </tr>\n",
       "    <tr>\n",
       "      <th>66</th>\n",
       "      <td>\\sqrt{x} + x = 6</td>\n",
       "      <td>Eq(sqrt(x) + x, 6)</td>\n",
       "      <td>\\left\\{4\\right\\}</td>\n",
       "      <td>Resuelve:</td>\n",
       "      <td>1BC</td>\n",
       "      <td>6 - Ecuaciones de segundo grado</td>\n",
       "      <td>p018e20</td>\n",
       "      <td>1</td>\n",
       "      <td>2</td>\n",
       "      <td>1</td>\n",
       "      <td>True</td>\n",
       "    </tr>\n",
       "    <tr>\n",
       "      <th>67</th>\n",
       "      <td>\\sqrt{x} + \\sqrt{x + 4} = 4</td>\n",
       "      <td>Eq(sqrt(x) + sqrt(x + 4), 4)</td>\n",
       "      <td>\\left\\{\\frac{9}{4}\\right\\}</td>\n",
       "      <td>Resuelve:</td>\n",
       "      <td>1BC</td>\n",
       "      <td>6 - Ecuaciones de segundo grado</td>\n",
       "      <td>p018e20</td>\n",
       "      <td>1</td>\n",
       "      <td>2</td>\n",
       "      <td>1</td>\n",
       "      <td>True</td>\n",
       "    </tr>\n",
       "    <tr>\n",
       "      <th>68</th>\n",
       "      <td>\\sqrt{3 x - 2} - 4 = 0</td>\n",
       "      <td>Eq(sqrt(3*x - 2) - 4, 0)</td>\n",
       "      <td>\\left\\{6\\right\\}</td>\n",
       "      <td>Resuelve:</td>\n",
       "      <td>1BC</td>\n",
       "      <td>6 - Ecuaciones de segundo grado</td>\n",
       "      <td>p018e20</td>\n",
       "      <td>1</td>\n",
       "      <td>2</td>\n",
       "      <td>1</td>\n",
       "      <td>True</td>\n",
       "    </tr>\n",
       "    <tr>\n",
       "      <th>69</th>\n",
       "      <td>\\sqrt{2 x + 1} = x - 1</td>\n",
       "      <td>Eq(sqrt(2*x + 1), x - 1)</td>\n",
       "      <td>\\left\\{4\\right\\}</td>\n",
       "      <td>Resuelve:</td>\n",
       "      <td>1BC</td>\n",
       "      <td>6 - Ecuaciones de segundo grado</td>\n",
       "      <td>p018e20</td>\n",
       "      <td>1</td>\n",
       "      <td>2</td>\n",
       "      <td>1</td>\n",
       "      <td>True</td>\n",
       "    </tr>\n",
       "    <tr>\n",
       "      <th>70</th>\n",
       "      <td>- x + \\sqrt{- 3 x + 7} = 7</td>\n",
       "      <td>Eq(-x + sqrt(-3*x + 7), 7)</td>\n",
       "      <td>\\left\\{-3\\right\\}</td>\n",
       "      <td>Resuelve:</td>\n",
       "      <td>1BC</td>\n",
       "      <td>6 - Ecuaciones de segundo grado</td>\n",
       "      <td>p018e20</td>\n",
       "      <td>1</td>\n",
       "      <td>2</td>\n",
       "      <td>1</td>\n",
       "      <td>True</td>\n",
       "    </tr>\n",
       "    <tr>\n",
       "      <th>71</th>\n",
       "      <td>3 \\sqrt{6 x + 1} - 5 = 2 x</td>\n",
       "      <td>Eq(3*sqrt(6*x + 1) - 5, 2*x)</td>\n",
       "      <td>\\left\\{\\frac{1}{2}, 8\\right\\}</td>\n",
       "      <td>Resuelve:</td>\n",
       "      <td>1BC</td>\n",
       "      <td>6 - Ecuaciones de segundo grado</td>\n",
       "      <td>p018e20</td>\n",
       "      <td>1</td>\n",
       "      <td>2</td>\n",
       "      <td>1</td>\n",
       "      <td>True</td>\n",
       "    </tr>\n",
       "    <tr>\n",
       "      <th>72</th>\n",
       "      <td>\\sqrt{3 x + 1} + 1 = 3 x</td>\n",
       "      <td>Eq(sqrt(3*x + 1) + 1, 3*x)</td>\n",
       "      <td>\\left\\{1\\right\\}</td>\n",
       "      <td>Resuelve:</td>\n",
       "      <td>1BC</td>\n",
       "      <td>6 - Ecuaciones de segundo grado</td>\n",
       "      <td>p018e20</td>\n",
       "      <td>1</td>\n",
       "      <td>2</td>\n",
       "      <td>1</td>\n",
       "      <td>True</td>\n",
       "    </tr>\n",
       "    <tr>\n",
       "      <th>73</th>\n",
       "      <td>\\sqrt{9 x^{2} - 11} + 1 = 3 x</td>\n",
       "      <td>Eq(sqrt(9*x**2 - 11) + 1, 3*x)</td>\n",
       "      <td>\\left\\{2\\right\\}</td>\n",
       "      <td>Resuelve:</td>\n",
       "      <td>1BC</td>\n",
       "      <td>6 - Ecuaciones de segundo grado</td>\n",
       "      <td>p018e20</td>\n",
       "      <td>1</td>\n",
       "      <td>2</td>\n",
       "      <td>1</td>\n",
       "      <td>True</td>\n",
       "    </tr>\n",
       "    <tr>\n",
       "      <th>74</th>\n",
       "      <td>\\sqrt{\\left(x^{2} + x\\right) - 1} = - x + 2</td>\n",
       "      <td>Eq(sqrt(x**2 + x - 1), -x + 2)</td>\n",
       "      <td>\\left\\{1\\right\\}</td>\n",
       "      <td>Resuelve:</td>\n",
       "      <td>1BC</td>\n",
       "      <td>6 - Ecuaciones de segundo grado</td>\n",
       "      <td>p018e20</td>\n",
       "      <td>1</td>\n",
       "      <td>2</td>\n",
       "      <td>1</td>\n",
       "      <td>True</td>\n",
       "    </tr>\n",
       "    <tr>\n",
       "      <th>75</th>\n",
       "      <td>\\sqrt{\\frac{- x + 2}{x + 2}} = \\frac{1}{2}</td>\n",
       "      <td>Eq(sqrt((-x + 2)/(x + 2)), 1/2)</td>\n",
       "      <td>\\left\\{\\frac{6}{5}\\right\\}</td>\n",
       "      <td>Resuelve:</td>\n",
       "      <td>1BC</td>\n",
       "      <td>6 - Ecuaciones de segundo grado</td>\n",
       "      <td>p018e20</td>\n",
       "      <td>1</td>\n",
       "      <td>2</td>\n",
       "      <td>1</td>\n",
       "      <td>True</td>\n",
       "    </tr>\n",
       "    <tr>\n",
       "      <th>76</th>\n",
       "      <td>\\sqrt{x + 4} = - \\sqrt{x - 1} + 3</td>\n",
       "      <td>Eq(sqrt(x + 4), -sqrt(x - 1) + 3)</td>\n",
       "      <td>\\left\\{\\frac{13}{9}\\right\\}</td>\n",
       "      <td>Resuelve:</td>\n",
       "      <td>1BC</td>\n",
       "      <td>6 - Ecuaciones de segundo grado</td>\n",
       "      <td>p018e20</td>\n",
       "      <td>1</td>\n",
       "      <td>2</td>\n",
       "      <td>1</td>\n",
       "      <td>True</td>\n",
       "    </tr>\n",
       "    <tr>\n",
       "      <th>77</th>\n",
       "      <td>\\sqrt{x + 4} + \\sqrt{2 x - 1} = 6</td>\n",
       "      <td>Eq(sqrt(x + 4) + sqrt(2*x - 1), 6)</td>\n",
       "      <td>\\left\\{5\\right\\}</td>\n",
       "      <td>Resuelve:</td>\n",
       "      <td>1BC</td>\n",
       "      <td>6 - Ecuaciones de segundo grado</td>\n",
       "      <td>p018e20</td>\n",
       "      <td>1</td>\n",
       "      <td>2</td>\n",
       "      <td>1</td>\n",
       "      <td>True</td>\n",
       "    </tr>\n",
       "    <tr>\n",
       "      <th>78</th>\n",
       "      <td>2 \\sqrt{x + 4} = \\sqrt{5 x + 4}</td>\n",
       "      <td>Eq(2*sqrt(x + 4), sqrt(5*x + 4))</td>\n",
       "      <td>\\left\\{12\\right\\}</td>\n",
       "      <td>Resuelve:</td>\n",
       "      <td>1BC</td>\n",
       "      <td>6 - Ecuaciones de segundo grado</td>\n",
       "      <td>p018e20</td>\n",
       "      <td>1</td>\n",
       "      <td>2</td>\n",
       "      <td>1</td>\n",
       "      <td>True</td>\n",
       "    </tr>\n",
       "    <tr>\n",
       "      <th>79</th>\n",
       "      <td>2 \\sqrt{2 x - 1} = \\sqrt{2 x - 9} + \\sqrt{6 x ...</td>\n",
       "      <td>Eq(2*sqrt(2*x - 1), sqrt(2*x - 9) + sqrt(6*x -...</td>\n",
       "      <td>\\left\\{5\\right\\}</td>\n",
       "      <td>Resuelve:</td>\n",
       "      <td>1BC</td>\n",
       "      <td>6 - Ecuaciones de segundo grado</td>\n",
       "      <td>p018e20</td>\n",
       "      <td>1</td>\n",
       "      <td>2</td>\n",
       "      <td>1</td>\n",
       "      <td>True</td>\n",
       "    </tr>\n",
       "    <tr>\n",
       "      <th>80</th>\n",
       "      <td>\\sqrt{x} + \\frac{2}{\\sqrt{x}} = \\sqrt{x - 5}</td>\n",
       "      <td>Eq(sqrt(x) + 2/sqrt(x), sqrt(x - 5))</td>\n",
       "      <td>\\emptyset</td>\n",
       "      <td>Resuelve:</td>\n",
       "      <td>1BC</td>\n",
       "      <td>6 - Ecuaciones de segundo grado</td>\n",
       "      <td>p018e20</td>\n",
       "      <td>1</td>\n",
       "      <td>2</td>\n",
       "      <td>1</td>\n",
       "      <td>True</td>\n",
       "    </tr>\n",
       "  </tbody>\n",
       "</table>\n",
       "</div>"
      ],
      "text/plain": [
       "                                      enunciado_latex  \\\n",
       "60                       \\sqrt{2 x - 1} + 5 = 2 x + 4   \n",
       "61                2 \\sqrt{x - 3} + \\sqrt{6 x - 8} = 6   \n",
       "62                             \\sqrt{2 x + 2} = x - 3   \n",
       "63            \\sqrt{2 x - 1} + 5 = 2 \\sqrt{x + 3} + 2   \n",
       "64                  - \\sqrt{x - 2} + \\sqrt{x - 1} = 1   \n",
       "65                           \\sqrt{x - 1} + 2 = x - 5   \n",
       "66                                   \\sqrt{x} + x = 6   \n",
       "67                        \\sqrt{x} + \\sqrt{x + 4} = 4   \n",
       "68                             \\sqrt{3 x - 2} - 4 = 0   \n",
       "69                             \\sqrt{2 x + 1} = x - 1   \n",
       "70                         - x + \\sqrt{- 3 x + 7} = 7   \n",
       "71                         3 \\sqrt{6 x + 1} - 5 = 2 x   \n",
       "72                           \\sqrt{3 x + 1} + 1 = 3 x   \n",
       "73                      \\sqrt{9 x^{2} - 11} + 1 = 3 x   \n",
       "74        \\sqrt{\\left(x^{2} + x\\right) - 1} = - x + 2   \n",
       "75         \\sqrt{\\frac{- x + 2}{x + 2}} = \\frac{1}{2}   \n",
       "76                  \\sqrt{x + 4} = - \\sqrt{x - 1} + 3   \n",
       "77                  \\sqrt{x + 4} + \\sqrt{2 x - 1} = 6   \n",
       "78                    2 \\sqrt{x + 4} = \\sqrt{5 x + 4}   \n",
       "79  2 \\sqrt{2 x - 1} = \\sqrt{2 x - 9} + \\sqrt{6 x ...   \n",
       "80       \\sqrt{x} + \\frac{2}{\\sqrt{x}} = \\sqrt{x - 5}   \n",
       "\n",
       "                                            enunciado  \\\n",
       "60                     Eq(sqrt(2*x - 1) + 5, 2*x + 4)   \n",
       "61               Eq(2*sqrt(x - 3) + sqrt(6*x - 8), 6)   \n",
       "62                           Eq(sqrt(2*x + 2), x - 3)   \n",
       "63           Eq(sqrt(2*x - 1) + 5, 2*sqrt(x + 3) + 2)   \n",
       "64                  Eq(-sqrt(x - 2) + sqrt(x - 1), 1)   \n",
       "65                         Eq(sqrt(x - 1) + 2, x - 5)   \n",
       "66                                 Eq(sqrt(x) + x, 6)   \n",
       "67                       Eq(sqrt(x) + sqrt(x + 4), 4)   \n",
       "68                           Eq(sqrt(3*x - 2) - 4, 0)   \n",
       "69                           Eq(sqrt(2*x + 1), x - 1)   \n",
       "70                         Eq(-x + sqrt(-3*x + 7), 7)   \n",
       "71                       Eq(3*sqrt(6*x + 1) - 5, 2*x)   \n",
       "72                         Eq(sqrt(3*x + 1) + 1, 3*x)   \n",
       "73                     Eq(sqrt(9*x**2 - 11) + 1, 3*x)   \n",
       "74                     Eq(sqrt(x**2 + x - 1), -x + 2)   \n",
       "75                    Eq(sqrt((-x + 2)/(x + 2)), 1/2)   \n",
       "76                  Eq(sqrt(x + 4), -sqrt(x - 1) + 3)   \n",
       "77                 Eq(sqrt(x + 4) + sqrt(2*x - 1), 6)   \n",
       "78                   Eq(2*sqrt(x + 4), sqrt(5*x + 4))   \n",
       "79  Eq(2*sqrt(2*x - 1), sqrt(2*x - 9) + sqrt(6*x -...   \n",
       "80               Eq(sqrt(x) + 2/sqrt(x), sqrt(x - 5))   \n",
       "\n",
       "                         solucion      texto curso  \\\n",
       "60  \\left\\{\\frac{1}{2}, 1\\right\\}  Resuelve:   1BC   \n",
       "61               \\left\\{4\\right\\}  Resuelve:   1BC   \n",
       "62               \\left\\{7\\right\\}  Resuelve:   1BC   \n",
       "63           \\left\\{1, 13\\right\\}  Resuelve:   1BC   \n",
       "64               \\left\\{2\\right\\}  Resuelve:   1BC   \n",
       "65              \\left\\{10\\right\\}  Resuelve:   1BC   \n",
       "66               \\left\\{4\\right\\}  Resuelve:   1BC   \n",
       "67     \\left\\{\\frac{9}{4}\\right\\}  Resuelve:   1BC   \n",
       "68               \\left\\{6\\right\\}  Resuelve:   1BC   \n",
       "69               \\left\\{4\\right\\}  Resuelve:   1BC   \n",
       "70              \\left\\{-3\\right\\}  Resuelve:   1BC   \n",
       "71  \\left\\{\\frac{1}{2}, 8\\right\\}  Resuelve:   1BC   \n",
       "72               \\left\\{1\\right\\}  Resuelve:   1BC   \n",
       "73               \\left\\{2\\right\\}  Resuelve:   1BC   \n",
       "74               \\left\\{1\\right\\}  Resuelve:   1BC   \n",
       "75     \\left\\{\\frac{6}{5}\\right\\}  Resuelve:   1BC   \n",
       "76    \\left\\{\\frac{13}{9}\\right\\}  Resuelve:   1BC   \n",
       "77               \\left\\{5\\right\\}  Resuelve:   1BC   \n",
       "78              \\left\\{12\\right\\}  Resuelve:   1BC   \n",
       "79               \\left\\{5\\right\\}  Resuelve:   1BC   \n",
       "80                      \\emptyset  Resuelve:   1BC   \n",
       "\n",
       "                             titulo n_ejercicio  dificultad  n_columnas  \\\n",
       "60  6 - Ecuaciones de segundo grado     p018e20           1           2   \n",
       "61  6 - Ecuaciones de segundo grado     p018e20           1           2   \n",
       "62  6 - Ecuaciones de segundo grado     p018e20           1           2   \n",
       "63  6 - Ecuaciones de segundo grado     p018e20           1           2   \n",
       "64  6 - Ecuaciones de segundo grado     p018e20           1           2   \n",
       "65  6 - Ecuaciones de segundo grado     p018e20           1           2   \n",
       "66  6 - Ecuaciones de segundo grado     p018e20           1           2   \n",
       "67  6 - Ecuaciones de segundo grado     p018e20           1           2   \n",
       "68  6 - Ecuaciones de segundo grado     p018e20           1           2   \n",
       "69  6 - Ecuaciones de segundo grado     p018e20           1           2   \n",
       "70  6 - Ecuaciones de segundo grado     p018e20           1           2   \n",
       "71  6 - Ecuaciones de segundo grado     p018e20           1           2   \n",
       "72  6 - Ecuaciones de segundo grado     p018e20           1           2   \n",
       "73  6 - Ecuaciones de segundo grado     p018e20           1           2   \n",
       "74  6 - Ecuaciones de segundo grado     p018e20           1           2   \n",
       "75  6 - Ecuaciones de segundo grado     p018e20           1           2   \n",
       "76  6 - Ecuaciones de segundo grado     p018e20           1           2   \n",
       "77  6 - Ecuaciones de segundo grado     p018e20           1           2   \n",
       "78  6 - Ecuaciones de segundo grado     p018e20           1           2   \n",
       "79  6 - Ecuaciones de segundo grado     p018e20           1           2   \n",
       "80  6 - Ecuaciones de segundo grado     p018e20           1           2   \n",
       "\n",
       "    puntos  enun_tex  \n",
       "60       1      True  \n",
       "61       1      True  \n",
       "62       1      True  \n",
       "63       1      True  \n",
       "64       1      True  \n",
       "65       1      True  \n",
       "66       1      True  \n",
       "67       1      True  \n",
       "68       1      True  \n",
       "69       1      True  \n",
       "70       1      True  \n",
       "71       1      True  \n",
       "72       1      True  \n",
       "73       1      True  \n",
       "74       1      True  \n",
       "75       1      True  \n",
       "76       1      True  \n",
       "77       1      True  \n",
       "78       1      True  \n",
       "79       1      True  \n",
       "80       1      True  "
      ]
     },
     "metadata": {},
     "output_type": "display_data"
    },
    {
     "data": {
      "text/markdown": [
       "**Ejercicio: **p018e21"
      ],
      "text/plain": [
       "<IPython.core.display.Markdown object>"
      ]
     },
     "metadata": {},
     "output_type": "display_data"
    },
    {
     "data": {
      "text/html": [
       "<div>\n",
       "<style scoped>\n",
       "    .dataframe tbody tr th:only-of-type {\n",
       "        vertical-align: middle;\n",
       "    }\n",
       "\n",
       "    .dataframe tbody tr th {\n",
       "        vertical-align: top;\n",
       "    }\n",
       "\n",
       "    .dataframe thead th {\n",
       "        text-align: right;\n",
       "    }\n",
       "</style>\n",
       "<table border=\"1\" class=\"dataframe\">\n",
       "  <thead>\n",
       "    <tr style=\"text-align: right;\">\n",
       "      <th></th>\n",
       "      <th>enunciado_latex</th>\n",
       "      <th>enunciado</th>\n",
       "      <th>solucion</th>\n",
       "      <th>texto</th>\n",
       "      <th>curso</th>\n",
       "      <th>titulo</th>\n",
       "      <th>n_ejercicio</th>\n",
       "      <th>dificultad</th>\n",
       "      <th>n_columnas</th>\n",
       "      <th>puntos</th>\n",
       "      <th>enun_tex</th>\n",
       "    </tr>\n",
       "  </thead>\n",
       "  <tbody>\n",
       "    <tr>\n",
       "      <th>81</th>\n",
       "      <td>\\left(7 x + \\left(x^{3} - 7 x^{2}\\right)\\right...</td>\n",
       "      <td>Eq(7*x + x**3 - 7*x**2 + 15, 0)</td>\n",
       "      <td>\\left\\{-1, 3, 5\\right\\}</td>\n",
       "      <td>Resuelve las siguientes ecuaciones de grado su...</td>\n",
       "      <td>1BC</td>\n",
       "      <td>6 - Ecuaciones de segundo grado</td>\n",
       "      <td>p018e21</td>\n",
       "      <td>1</td>\n",
       "      <td>2</td>\n",
       "      <td>1</td>\n",
       "      <td>True</td>\n",
       "    </tr>\n",
       "    <tr>\n",
       "      <th>82</th>\n",
       "      <td>\\left(- x + \\left(x^{3} - 2 x^{2}\\right)\\right...</td>\n",
       "      <td>Eq(-x + x**3 - 2*x**2 + 2, 0)</td>\n",
       "      <td>\\left\\{-1, 1, 2\\right\\}</td>\n",
       "      <td>Resuelve las siguientes ecuaciones de grado su...</td>\n",
       "      <td>1BC</td>\n",
       "      <td>6 - Ecuaciones de segundo grado</td>\n",
       "      <td>p018e21</td>\n",
       "      <td>1</td>\n",
       "      <td>2</td>\n",
       "      <td>1</td>\n",
       "      <td>True</td>\n",
       "    </tr>\n",
       "    <tr>\n",
       "      <th>83</th>\n",
       "      <td>\\left(- 4 x + \\left(- 16 x^{2} + \\left(x^{4} +...</td>\n",
       "      <td>Eq(-4*x - 16*x**2 + x**4 + x**3 + 48, 0)</td>\n",
       "      <td>\\left\\{-4, -2, 2, 3\\right\\}</td>\n",
       "      <td>Resuelve las siguientes ecuaciones de grado su...</td>\n",
       "      <td>1BC</td>\n",
       "      <td>6 - Ecuaciones de segundo grado</td>\n",
       "      <td>p018e21</td>\n",
       "      <td>1</td>\n",
       "      <td>2</td>\n",
       "      <td>1</td>\n",
       "      <td>True</td>\n",
       "    </tr>\n",
       "    <tr>\n",
       "      <th>84</th>\n",
       "      <td>\\left(- x + \\left(- 7 x^{2} + \\left(x^{4} + x^...</td>\n",
       "      <td>Eq(-x - 7*x**2 + x**4 + x**3 + 6, 0)</td>\n",
       "      <td>\\left\\{-3, -1, 1, 2\\right\\}</td>\n",
       "      <td>Resuelve las siguientes ecuaciones de grado su...</td>\n",
       "      <td>1BC</td>\n",
       "      <td>6 - Ecuaciones de segundo grado</td>\n",
       "      <td>p018e21</td>\n",
       "      <td>1</td>\n",
       "      <td>2</td>\n",
       "      <td>1</td>\n",
       "      <td>True</td>\n",
       "    </tr>\n",
       "    <tr>\n",
       "      <th>85</th>\n",
       "      <td>x^{4} - 81 = 0</td>\n",
       "      <td>Eq(x**4 - 81, 0)</td>\n",
       "      <td>\\left\\{-3, 3\\right\\}</td>\n",
       "      <td>Resuelve las siguientes ecuaciones de grado su...</td>\n",
       "      <td>1BC</td>\n",
       "      <td>6 - Ecuaciones de segundo grado</td>\n",
       "      <td>p018e21</td>\n",
       "      <td>1</td>\n",
       "      <td>2</td>\n",
       "      <td>1</td>\n",
       "      <td>True</td>\n",
       "    </tr>\n",
       "  </tbody>\n",
       "</table>\n",
       "</div>"
      ],
      "text/plain": [
       "                                      enunciado_latex  \\\n",
       "81  \\left(7 x + \\left(x^{3} - 7 x^{2}\\right)\\right...   \n",
       "82  \\left(- x + \\left(x^{3} - 2 x^{2}\\right)\\right...   \n",
       "83  \\left(- 4 x + \\left(- 16 x^{2} + \\left(x^{4} +...   \n",
       "84  \\left(- x + \\left(- 7 x^{2} + \\left(x^{4} + x^...   \n",
       "85                                     x^{4} - 81 = 0   \n",
       "\n",
       "                                   enunciado                     solucion  \\\n",
       "81           Eq(7*x + x**3 - 7*x**2 + 15, 0)      \\left\\{-1, 3, 5\\right\\}   \n",
       "82             Eq(-x + x**3 - 2*x**2 + 2, 0)      \\left\\{-1, 1, 2\\right\\}   \n",
       "83  Eq(-4*x - 16*x**2 + x**4 + x**3 + 48, 0)  \\left\\{-4, -2, 2, 3\\right\\}   \n",
       "84      Eq(-x - 7*x**2 + x**4 + x**3 + 6, 0)  \\left\\{-3, -1, 1, 2\\right\\}   \n",
       "85                          Eq(x**4 - 81, 0)         \\left\\{-3, 3\\right\\}   \n",
       "\n",
       "                                                texto curso  \\\n",
       "81  Resuelve las siguientes ecuaciones de grado su...   1BC   \n",
       "82  Resuelve las siguientes ecuaciones de grado su...   1BC   \n",
       "83  Resuelve las siguientes ecuaciones de grado su...   1BC   \n",
       "84  Resuelve las siguientes ecuaciones de grado su...   1BC   \n",
       "85  Resuelve las siguientes ecuaciones de grado su...   1BC   \n",
       "\n",
       "                             titulo n_ejercicio  dificultad  n_columnas  \\\n",
       "81  6 - Ecuaciones de segundo grado     p018e21           1           2   \n",
       "82  6 - Ecuaciones de segundo grado     p018e21           1           2   \n",
       "83  6 - Ecuaciones de segundo grado     p018e21           1           2   \n",
       "84  6 - Ecuaciones de segundo grado     p018e21           1           2   \n",
       "85  6 - Ecuaciones de segundo grado     p018e21           1           2   \n",
       "\n",
       "    puntos  enun_tex  \n",
       "81       1      True  \n",
       "82       1      True  \n",
       "83       1      True  \n",
       "84       1      True  \n",
       "85       1      True  "
      ]
     },
     "metadata": {},
     "output_type": "display_data"
    },
    {
     "data": {
      "text/markdown": [
       "**Ejercicio: **p018e22e25e28e34"
      ],
      "text/plain": [
       "<IPython.core.display.Markdown object>"
      ]
     },
     "metadata": {},
     "output_type": "display_data"
    },
    {
     "data": {
      "text/html": [
       "<div>\n",
       "<style scoped>\n",
       "    .dataframe tbody tr th:only-of-type {\n",
       "        vertical-align: middle;\n",
       "    }\n",
       "\n",
       "    .dataframe tbody tr th {\n",
       "        vertical-align: top;\n",
       "    }\n",
       "\n",
       "    .dataframe thead th {\n",
       "        text-align: right;\n",
       "    }\n",
       "</style>\n",
       "<table border=\"1\" class=\"dataframe\">\n",
       "  <thead>\n",
       "    <tr style=\"text-align: right;\">\n",
       "      <th></th>\n",
       "      <th>enunciado_latex</th>\n",
       "      <th>enunciado</th>\n",
       "      <th>solucion</th>\n",
       "      <th>texto</th>\n",
       "      <th>curso</th>\n",
       "      <th>titulo</th>\n",
       "      <th>n_ejercicio</th>\n",
       "      <th>dificultad</th>\n",
       "      <th>n_columnas</th>\n",
       "      <th>puntos</th>\n",
       "      <th>enun_tex</th>\n",
       "    </tr>\n",
       "  </thead>\n",
       "  <tbody>\n",
       "    <tr>\n",
       "      <th>95</th>\n",
       "      <td>Calcula un número que sumado con el doble de s...</td>\n",
       "      <td>2*sqrt(x) + x - 24</td>\n",
       "      <td>2 \\sqrt{x} + x - 24 = 0\\to \\left\\{16\\right\\}</td>\n",
       "      <td>Resuelve mediante expresiones algebraicas:</td>\n",
       "      <td>1BC</td>\n",
       "      <td>6 - Ecuaciones de segundo grado</td>\n",
       "      <td>p018e22e25e28e34</td>\n",
       "      <td>1</td>\n",
       "      <td>1</td>\n",
       "      <td>1</td>\n",
       "      <td>False</td>\n",
       "    </tr>\n",
       "    <tr>\n",
       "      <th>96</th>\n",
       "      <td>Tres segmentos miden, respectivamente, 8, 22 y...</td>\n",
       "      <td>(x + 8)**2 + (x + 22)**2 - (x + 24)**2</td>\n",
       "      <td>\\left(x + 8\\right)^{2} + \\left(x + 22\\right)^{...</td>\n",
       "      <td>Resuelve mediante expresiones algebraicas:</td>\n",
       "      <td>1BC</td>\n",
       "      <td>6 - Ecuaciones de segundo grado</td>\n",
       "      <td>p018e22e25e28e34</td>\n",
       "      <td>1</td>\n",
       "      <td>1</td>\n",
       "      <td>1</td>\n",
       "      <td>False</td>\n",
       "    </tr>\n",
       "    <tr>\n",
       "      <th>97</th>\n",
       "      <td>Un terreno rectangular tiene 100 m de largo y ...</td>\n",
       "      <td>(x + 80)*(x + 100) - 12000</td>\n",
       "      <td>\\left(x + 80\\right) \\left(x + 100\\right) - 120...</td>\n",
       "      <td>Resuelve mediante expresiones algebraicas:</td>\n",
       "      <td>1BC</td>\n",
       "      <td>6 - Ecuaciones de segundo grado</td>\n",
       "      <td>p018e22e25e28e34</td>\n",
       "      <td>1</td>\n",
       "      <td>1</td>\n",
       "      <td>1</td>\n",
       "      <td>False</td>\n",
       "    </tr>\n",
       "    <tr>\n",
       "      <th>98</th>\n",
       "      <td>En cada esquina de una hoja de papel cuadrada ...</td>\n",
       "      <td>5*(x - 10)**2 - 1280</td>\n",
       "      <td>5 \\left(x - 10\\right)^{2} - 1280 = 0\\to \\left\\...</td>\n",
       "      <td>Resuelve mediante expresiones algebraicas:</td>\n",
       "      <td>1BC</td>\n",
       "      <td>6 - Ecuaciones de segundo grado</td>\n",
       "      <td>p018e22e25e28e34</td>\n",
       "      <td>1</td>\n",
       "      <td>1</td>\n",
       "      <td>1</td>\n",
       "      <td>False</td>\n",
       "    </tr>\n",
       "  </tbody>\n",
       "</table>\n",
       "</div>"
      ],
      "text/plain": [
       "                                      enunciado_latex  \\\n",
       "95  Calcula un número que sumado con el doble de s...   \n",
       "96  Tres segmentos miden, respectivamente, 8, 22 y...   \n",
       "97  Un terreno rectangular tiene 100 m de largo y ...   \n",
       "98  En cada esquina de una hoja de papel cuadrada ...   \n",
       "\n",
       "                                 enunciado  \\\n",
       "95                      2*sqrt(x) + x - 24   \n",
       "96  (x + 8)**2 + (x + 22)**2 - (x + 24)**2   \n",
       "97              (x + 80)*(x + 100) - 12000   \n",
       "98                    5*(x - 10)**2 - 1280   \n",
       "\n",
       "                                             solucion  \\\n",
       "95       2 \\sqrt{x} + x - 24 = 0\\to \\left\\{16\\right\\}   \n",
       "96  \\left(x + 8\\right)^{2} + \\left(x + 22\\right)^{...   \n",
       "97  \\left(x + 80\\right) \\left(x + 100\\right) - 120...   \n",
       "98  5 \\left(x - 10\\right)^{2} - 1280 = 0\\to \\left\\...   \n",
       "\n",
       "                                         texto curso  \\\n",
       "95  Resuelve mediante expresiones algebraicas:   1BC   \n",
       "96  Resuelve mediante expresiones algebraicas:   1BC   \n",
       "97  Resuelve mediante expresiones algebraicas:   1BC   \n",
       "98  Resuelve mediante expresiones algebraicas:   1BC   \n",
       "\n",
       "                             titulo       n_ejercicio  dificultad  n_columnas  \\\n",
       "95  6 - Ecuaciones de segundo grado  p018e22e25e28e34           1           1   \n",
       "96  6 - Ecuaciones de segundo grado  p018e22e25e28e34           1           1   \n",
       "97  6 - Ecuaciones de segundo grado  p018e22e25e28e34           1           1   \n",
       "98  6 - Ecuaciones de segundo grado  p018e22e25e28e34           1           1   \n",
       "\n",
       "    puntos  enun_tex  \n",
       "95       1     False  \n",
       "96       1     False  \n",
       "97       1     False  \n",
       "98       1     False  "
      ]
     },
     "metadata": {},
     "output_type": "display_data"
    },
    {
     "data": {
      "text/markdown": [
       "**Ejercicio: **p018e23"
      ],
      "text/plain": [
       "<IPython.core.display.Markdown object>"
      ]
     },
     "metadata": {},
     "output_type": "display_data"
    },
    {
     "data": {
      "text/html": [
       "<div>\n",
       "<style scoped>\n",
       "    .dataframe tbody tr th:only-of-type {\n",
       "        vertical-align: middle;\n",
       "    }\n",
       "\n",
       "    .dataframe tbody tr th {\n",
       "        vertical-align: top;\n",
       "    }\n",
       "\n",
       "    .dataframe thead th {\n",
       "        text-align: right;\n",
       "    }\n",
       "</style>\n",
       "<table border=\"1\" class=\"dataframe\">\n",
       "  <thead>\n",
       "    <tr style=\"text-align: right;\">\n",
       "      <th></th>\n",
       "      <th>enunciado_latex</th>\n",
       "      <th>enunciado</th>\n",
       "      <th>solucion</th>\n",
       "      <th>texto</th>\n",
       "      <th>curso</th>\n",
       "      <th>titulo</th>\n",
       "      <th>n_ejercicio</th>\n",
       "      <th>dificultad</th>\n",
       "      <th>n_columnas</th>\n",
       "      <th>puntos</th>\n",
       "      <th>enun_tex</th>\n",
       "    </tr>\n",
       "  </thead>\n",
       "  <tbody>\n",
       "    <tr>\n",
       "      <th>86</th>\n",
       "      <td>\\left(2 x + 1\\right)^{2} + \\left(\\left(2 x - 3...</td>\n",
       "      <td>Eq((2*x + 1)**2 + (2*x - 3)**2 + (2*x - 1)**2,...</td>\n",
       "      <td>\\left [ -20, \\quad 21\\right ] \\to \\left [ -43,...</td>\n",
       "      <td>Halla tres números impares consecutivos, tales...</td>\n",
       "      <td>1BC</td>\n",
       "      <td>6 - Ecuaciones de segundo grado</td>\n",
       "      <td>p018e23</td>\n",
       "      <td>1</td>\n",
       "      <td>1</td>\n",
       "      <td>1</td>\n",
       "      <td>True</td>\n",
       "    </tr>\n",
       "  </tbody>\n",
       "</table>\n",
       "</div>"
      ],
      "text/plain": [
       "                                      enunciado_latex  \\\n",
       "86  \\left(2 x + 1\\right)^{2} + \\left(\\left(2 x - 3...   \n",
       "\n",
       "                                            enunciado  \\\n",
       "86  Eq((2*x + 1)**2 + (2*x - 3)**2 + (2*x - 1)**2,...   \n",
       "\n",
       "                                             solucion  \\\n",
       "86  \\left [ -20, \\quad 21\\right ] \\to \\left [ -43,...   \n",
       "\n",
       "                                                texto curso  \\\n",
       "86  Halla tres números impares consecutivos, tales...   1BC   \n",
       "\n",
       "                             titulo n_ejercicio  dificultad  n_columnas  \\\n",
       "86  6 - Ecuaciones de segundo grado     p018e23           1           1   \n",
       "\n",
       "    puntos  enun_tex  \n",
       "86       1      True  "
      ]
     },
     "metadata": {},
     "output_type": "display_data"
    },
    {
     "data": {
      "text/markdown": [
       "**Ejercicio: **p018e24e26e29e30e31e32e33"
      ],
      "text/plain": [
       "<IPython.core.display.Markdown object>"
      ]
     },
     "metadata": {},
     "output_type": "display_data"
    },
    {
     "data": {
      "text/html": [
       "<div>\n",
       "<style scoped>\n",
       "    .dataframe tbody tr th:only-of-type {\n",
       "        vertical-align: middle;\n",
       "    }\n",
       "\n",
       "    .dataframe tbody tr th {\n",
       "        vertical-align: top;\n",
       "    }\n",
       "\n",
       "    .dataframe thead th {\n",
       "        text-align: right;\n",
       "    }\n",
       "</style>\n",
       "<table border=\"1\" class=\"dataframe\">\n",
       "  <thead>\n",
       "    <tr style=\"text-align: right;\">\n",
       "      <th></th>\n",
       "      <th>enunciado_latex</th>\n",
       "      <th>enunciado</th>\n",
       "      <th>solucion</th>\n",
       "      <th>texto</th>\n",
       "      <th>curso</th>\n",
       "      <th>titulo</th>\n",
       "      <th>n_ejercicio</th>\n",
       "      <th>dificultad</th>\n",
       "      <th>n_columnas</th>\n",
       "      <th>puntos</th>\n",
       "      <th>enun_tex</th>\n",
       "    </tr>\n",
       "  </thead>\n",
       "  <tbody>\n",
       "    <tr>\n",
       "      <th>88</th>\n",
       "      <td>Las dos cifras de un número suman 11 y el prod...</td>\n",
       "      <td>[x + y - 11, (x + 10*y)*(10*x + y) - 3154]</td>\n",
       "      <td>x + y - 11 = 0\\land \\left(x + 10 y\\right) \\lef...</td>\n",
       "      <td>Resuelve mediante expresiones algebraicas:</td>\n",
       "      <td>1BC</td>\n",
       "      <td>6 - Ecuaciones de segundo grado</td>\n",
       "      <td>p018e24e26e29e30e31e32e33</td>\n",
       "      <td>1</td>\n",
       "      <td>1</td>\n",
       "      <td>1</td>\n",
       "      <td>False</td>\n",
       "    </tr>\n",
       "    <tr>\n",
       "      <th>89</th>\n",
       "      <td>El perímetro de un triángulo rectángulo es 90 ...</td>\n",
       "      <td>[x + 2*y - 87, x**2 + y**2 - (y + 3)**2]</td>\n",
       "      <td>x + 2 y - 87 = 0\\land x^{2} + y^{2} - \\left(y ...</td>\n",
       "      <td>Resuelve mediante expresiones algebraicas:</td>\n",
       "      <td>1BC</td>\n",
       "      <td>6 - Ecuaciones de segundo grado</td>\n",
       "      <td>p018e24e26e29e30e31e32e33</td>\n",
       "      <td>1</td>\n",
       "      <td>1</td>\n",
       "      <td>1</td>\n",
       "      <td>False</td>\n",
       "    </tr>\n",
       "    <tr>\n",
       "      <th>90</th>\n",
       "      <td>Halla dos números cuya suma es 14 y la de sus ...</td>\n",
       "      <td>[x + y - 14, x**2 + y**2 - 100]</td>\n",
       "      <td>x + y - 14 = 0\\land x^{2} + y^{2} - 100 = 0\\to...</td>\n",
       "      <td>Resuelve mediante expresiones algebraicas:</td>\n",
       "      <td>1BC</td>\n",
       "      <td>6 - Ecuaciones de segundo grado</td>\n",
       "      <td>p018e24e26e29e30e31e32e33</td>\n",
       "      <td>1</td>\n",
       "      <td>1</td>\n",
       "      <td>1</td>\n",
       "      <td>False</td>\n",
       "    </tr>\n",
       "    <tr>\n",
       "      <th>91</th>\n",
       "      <td>Halla dos números positivos cuya diferencia se...</td>\n",
       "      <td>[x - y - 7, x**2 + y**2 - 3809]</td>\n",
       "      <td>x - y - 7 = 0\\land x^{2} + y^{2} - 3809 = 0\\to...</td>\n",
       "      <td>Resuelve mediante expresiones algebraicas:</td>\n",
       "      <td>1BC</td>\n",
       "      <td>6 - Ecuaciones de segundo grado</td>\n",
       "      <td>p018e24e26e29e30e31e32e33</td>\n",
       "      <td>1</td>\n",
       "      <td>1</td>\n",
       "      <td>1</td>\n",
       "      <td>False</td>\n",
       "    </tr>\n",
       "    <tr>\n",
       "      <th>92</th>\n",
       "      <td>Una habitación rectangular tiene una superfici...</td>\n",
       "      <td>[x*y - 28, 2*x + 2*y - 22]</td>\n",
       "      <td>x y - 28 = 0\\land 2 x + 2 y - 22 = 0\\to \\left ...</td>\n",
       "      <td>Resuelve mediante expresiones algebraicas:</td>\n",
       "      <td>1BC</td>\n",
       "      <td>6 - Ecuaciones de segundo grado</td>\n",
       "      <td>p018e24e26e29e30e31e32e33</td>\n",
       "      <td>1</td>\n",
       "      <td>1</td>\n",
       "      <td>1</td>\n",
       "      <td>False</td>\n",
       "    </tr>\n",
       "    <tr>\n",
       "      <th>93</th>\n",
       "      <td>Para vallar una finca rectangular de 750 m² se...</td>\n",
       "      <td>[x*y - 750, 2*x + 2*y - 110]</td>\n",
       "      <td>x y - 750 = 0\\land 2 x + 2 y - 110 = 0\\to \\lef...</td>\n",
       "      <td>Resuelve mediante expresiones algebraicas:</td>\n",
       "      <td>1BC</td>\n",
       "      <td>6 - Ecuaciones de segundo grado</td>\n",
       "      <td>p018e24e26e29e30e31e32e33</td>\n",
       "      <td>1</td>\n",
       "      <td>1</td>\n",
       "      <td>1</td>\n",
       "      <td>False</td>\n",
       "    </tr>\n",
       "    <tr>\n",
       "      <th>94</th>\n",
       "      <td>Uno de los lados de un rectángulo mide 6 cm má...</td>\n",
       "      <td>[-x + y - 6, x*y - 91]</td>\n",
       "      <td>- x + y - 6 = 0\\land x y - 91 = 0\\to \\left [ \\...</td>\n",
       "      <td>Resuelve mediante expresiones algebraicas:</td>\n",
       "      <td>1BC</td>\n",
       "      <td>6 - Ecuaciones de segundo grado</td>\n",
       "      <td>p018e24e26e29e30e31e32e33</td>\n",
       "      <td>1</td>\n",
       "      <td>1</td>\n",
       "      <td>1</td>\n",
       "      <td>False</td>\n",
       "    </tr>\n",
       "  </tbody>\n",
       "</table>\n",
       "</div>"
      ],
      "text/plain": [
       "                                      enunciado_latex  \\\n",
       "88  Las dos cifras de un número suman 11 y el prod...   \n",
       "89  El perímetro de un triángulo rectángulo es 90 ...   \n",
       "90  Halla dos números cuya suma es 14 y la de sus ...   \n",
       "91  Halla dos números positivos cuya diferencia se...   \n",
       "92  Una habitación rectangular tiene una superfici...   \n",
       "93  Para vallar una finca rectangular de 750 m² se...   \n",
       "94  Uno de los lados de un rectángulo mide 6 cm má...   \n",
       "\n",
       "                                     enunciado  \\\n",
       "88  [x + y - 11, (x + 10*y)*(10*x + y) - 3154]   \n",
       "89    [x + 2*y - 87, x**2 + y**2 - (y + 3)**2]   \n",
       "90             [x + y - 14, x**2 + y**2 - 100]   \n",
       "91             [x - y - 7, x**2 + y**2 - 3809]   \n",
       "92                  [x*y - 28, 2*x + 2*y - 22]   \n",
       "93                [x*y - 750, 2*x + 2*y - 110]   \n",
       "94                      [-x + y - 6, x*y - 91]   \n",
       "\n",
       "                                             solucion  \\\n",
       "88  x + y - 11 = 0\\land \\left(x + 10 y\\right) \\lef...   \n",
       "89  x + 2 y - 87 = 0\\land x^{2} + y^{2} - \\left(y ...   \n",
       "90  x + y - 14 = 0\\land x^{2} + y^{2} - 100 = 0\\to...   \n",
       "91  x - y - 7 = 0\\land x^{2} + y^{2} - 3809 = 0\\to...   \n",
       "92  x y - 28 = 0\\land 2 x + 2 y - 22 = 0\\to \\left ...   \n",
       "93  x y - 750 = 0\\land 2 x + 2 y - 110 = 0\\to \\lef...   \n",
       "94  - x + y - 6 = 0\\land x y - 91 = 0\\to \\left [ \\...   \n",
       "\n",
       "                                         texto curso  \\\n",
       "88  Resuelve mediante expresiones algebraicas:   1BC   \n",
       "89  Resuelve mediante expresiones algebraicas:   1BC   \n",
       "90  Resuelve mediante expresiones algebraicas:   1BC   \n",
       "91  Resuelve mediante expresiones algebraicas:   1BC   \n",
       "92  Resuelve mediante expresiones algebraicas:   1BC   \n",
       "93  Resuelve mediante expresiones algebraicas:   1BC   \n",
       "94  Resuelve mediante expresiones algebraicas:   1BC   \n",
       "\n",
       "                             titulo                n_ejercicio  dificultad  \\\n",
       "88  6 - Ecuaciones de segundo grado  p018e24e26e29e30e31e32e33           1   \n",
       "89  6 - Ecuaciones de segundo grado  p018e24e26e29e30e31e32e33           1   \n",
       "90  6 - Ecuaciones de segundo grado  p018e24e26e29e30e31e32e33           1   \n",
       "91  6 - Ecuaciones de segundo grado  p018e24e26e29e30e31e32e33           1   \n",
       "92  6 - Ecuaciones de segundo grado  p018e24e26e29e30e31e32e33           1   \n",
       "93  6 - Ecuaciones de segundo grado  p018e24e26e29e30e31e32e33           1   \n",
       "94  6 - Ecuaciones de segundo grado  p018e24e26e29e30e31e32e33           1   \n",
       "\n",
       "    n_columnas  puntos  enun_tex  \n",
       "88           1       1     False  \n",
       "89           1       1     False  \n",
       "90           1       1     False  \n",
       "91           1       1     False  \n",
       "92           1       1     False  \n",
       "93           1       1     False  \n",
       "94           1       1     False  "
      ]
     },
     "metadata": {},
     "output_type": "display_data"
    },
    {
     "data": {
      "text/markdown": [
       "**Ejercicio: **p018e27"
      ],
      "text/plain": [
       "<IPython.core.display.Markdown object>"
      ]
     },
     "metadata": {},
     "output_type": "display_data"
    },
    {
     "data": {
      "text/html": [
       "<div>\n",
       "<style scoped>\n",
       "    .dataframe tbody tr th:only-of-type {\n",
       "        vertical-align: middle;\n",
       "    }\n",
       "\n",
       "    .dataframe tbody tr th {\n",
       "        vertical-align: top;\n",
       "    }\n",
       "\n",
       "    .dataframe thead th {\n",
       "        text-align: right;\n",
       "    }\n",
       "</style>\n",
       "<table border=\"1\" class=\"dataframe\">\n",
       "  <thead>\n",
       "    <tr style=\"text-align: right;\">\n",
       "      <th></th>\n",
       "      <th>enunciado_latex</th>\n",
       "      <th>enunciado</th>\n",
       "      <th>solucion</th>\n",
       "      <th>texto</th>\n",
       "      <th>curso</th>\n",
       "      <th>titulo</th>\n",
       "      <th>n_ejercicio</th>\n",
       "      <th>dificultad</th>\n",
       "      <th>n_columnas</th>\n",
       "      <th>puntos</th>\n",
       "      <th>enun_tex</th>\n",
       "    </tr>\n",
       "  </thead>\n",
       "  <tbody>\n",
       "    <tr>\n",
       "      <th>87</th>\n",
       "      <td>\\left(2 x + 2\\right) + \\left(2 x + \\left(2 x -...</td>\n",
       "      <td>Eq(2*x + 2 + 2*x + 2*x - 2, (((2*x)*(2*x + 2))...</td>\n",
       "      <td>\\left [ -2, \\quad 0, \\quad 2\\right ] \\to \\left...</td>\n",
       "      <td>Halla tres números pares consecutivos sabiendo...</td>\n",
       "      <td>1BC</td>\n",
       "      <td>6 - Ecuaciones de segundo grado</td>\n",
       "      <td>p018e27</td>\n",
       "      <td>1</td>\n",
       "      <td>1</td>\n",
       "      <td>1</td>\n",
       "      <td>True</td>\n",
       "    </tr>\n",
       "  </tbody>\n",
       "</table>\n",
       "</div>"
      ],
      "text/plain": [
       "                                      enunciado_latex  \\\n",
       "87  \\left(2 x + 2\\right) + \\left(2 x + \\left(2 x -...   \n",
       "\n",
       "                                            enunciado  \\\n",
       "87  Eq(2*x + 2 + 2*x + 2*x - 2, (((2*x)*(2*x + 2))...   \n",
       "\n",
       "                                             solucion  \\\n",
       "87  \\left [ -2, \\quad 0, \\quad 2\\right ] \\to \\left...   \n",
       "\n",
       "                                                texto curso  \\\n",
       "87  Halla tres números pares consecutivos sabiendo...   1BC   \n",
       "\n",
       "                             titulo n_ejercicio  dificultad  n_columnas  \\\n",
       "87  6 - Ecuaciones de segundo grado     p018e27           1           1   \n",
       "\n",
       "    puntos  enun_tex  \n",
       "87       1      True  "
      ]
     },
     "metadata": {},
     "output_type": "display_data"
    }
   ],
   "source": [
    "escribir_preambulo(fichero, titulo, 'ejercicios')\n",
    "for s in df_ejercicios.groupby('n_ejercicio').count().index : \n",
    "    display(md(\"**Ejercicio: **\" + s ))\n",
    "    display(df_ejercicios[df_ejercicios.n_ejercicio == s])\n",
    "    escribir_ejercicios(df_ejercicios[df_ejercicios.n_ejercicio == s],fichero)\n",
    "\n",
    "escribir_fin(fichero)"
   ]
  }
 ],
 "metadata": {
  "kernelspec": {
   "display_name": "Python 3",
   "language": "python",
   "name": "python3"
  },
  "language_info": {
   "codemirror_mode": {
    "name": "ipython",
    "version": 3
   },
   "file_extension": ".py",
   "mimetype": "text/x-python",
   "name": "python",
   "nbconvert_exporter": "python",
   "pygments_lexer": "ipython3",
   "version": "3.6.5"
  }
 },
 "nbformat": 4,
 "nbformat_minor": 2
}
