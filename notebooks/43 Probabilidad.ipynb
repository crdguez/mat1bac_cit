{
 "cells": [
  {
   "cell_type": "code",
   "execution_count": 1,
   "metadata": {},
   "outputs": [
    {
     "name": "stdout",
     "output_type": "stream",
     "text": [
      "IPython console for SymPy 1.2 (Python 3.6.5-64-bit) (ground types: gmpy)\n",
      "\n",
      "These commands were executed:\n",
      ">>> from __future__ import division\n",
      ">>> from sympy import *\n",
      ">>> x, y, z, t = symbols('x y z t')\n",
      ">>> k, m, n = symbols('k m n', integer=True)\n",
      ">>> f, g, h = symbols('f g h', cls=Function)\n",
      ">>> init_printing()\n",
      "\n",
      "Documentation can be found at http://docs.sympy.org/1.2/\n",
      "\n"
     ]
    }
   ],
   "source": [
    "from sympy import init_session\n",
    "from sympy.parsing.latex import parse_latex\n",
    "from sympy.parsing.sympy_parser import parse_expr\n",
    "from IPython.display import Markdown as md\n",
    "from IPython.display import display\n",
    "    \n",
    "import pandas as pd\n",
    "\n",
    "from sympy.stats import Binomial, density, Die, Coin, P, E, variance, Normal, FiniteRV\n",
    "import numpy as np\n",
    "\n",
    "init_session()\n",
    "\n",
    "a, b, c, d = symbols('a b c d', real = True)\n",
    "from docparts import añadir_ejercicios, doc_ejer, escribir_preambulo, escribir_ejercicios, escribir_fin\n",
    "\n",
    "df_ejercicios = pd.DataFrame()\n",
    "\n",
    "fichero = 'probab'\n",
    "titulo = '43 - Probabilidad'\n",
    "curso = '1BC'\n",
    "\n",
    "\n",
    "x,y = symbols('x, y', real=True)\n"
   ]
  },
  {
   "cell_type": "code",
   "execution_count": 2,
   "metadata": {},
   "outputs": [],
   "source": [
    "def datos_cualitativa(lista):\n",
    "    # Devuelve un diccionario para crear la probabilidad cuantitativa a partir del índice\n",
    "    nplista = np.array(lista)\n",
    "    total = nplista[:,1].astype(int).sum()\n",
    "    lista_val = list(nplista[:,0])\n",
    "    dic ={i:nplista[i,1].astype(int)/total for i,s in enumerate(nplista)}\n",
    "    \n",
    "    return dic,lista_val    "
   ]
  },
  {
   "cell_type": "code",
   "execution_count": 3,
   "metadata": {},
   "outputs": [
    {
     "data": {
      "text/markdown": [
       "**De los 39 alumnos de una clase, 16 escogieron francés, como idioma y 27 inglés. 9 eligieron ambos idiomas y\n",
       "el resto no optó por ninguno de ellos. elegido un alumno al azar, calcula las probabilidades de que escogiera:\n",
       "**"
      ],
      "text/plain": [
       "<IPython.core.display.Markdown object>"
      ]
     },
     "metadata": {},
     "output_type": "display_data"
    },
    {
     "data": {
      "text/markdown": [
       "i) Francés \\\\ ii) Inglés \\\\ iii) Ambos idiomas \\\\ iv) Francés o Inglés \\\\ v) Francés, pero no inglés \\\\ vi) Inglés, pero no francés \\rightarrow \\left [ \\frac{16}{39}, \\quad \\frac{9}{13}, \\quad \\frac{3}{13}, \\quad \\frac{34}{39}, \\quad \\frac{7}{39}, \\quad \\frac{6}{13}\\right ]"
      ],
      "text/plain": [
       "<IPython.core.display.Markdown object>"
      ]
     },
     "metadata": {},
     "output_type": "display_data"
    }
   ],
   "source": [
    "# Página 98 ejercicio 5\n",
    "\n",
    "n_total,n_1, n_2, n_int = [39,16,27,9]\n",
    "\n",
    "texto_ejercicio = r\"\"\"De los {} alumnos de una clase, {} escogieron francés, como idioma y {} inglés. {} eligieron ambos idiomas y\n",
    "el resto no optó por ninguno de ellos. elegido un alumno al azar, calcula las probabilidades de que escogiera:\n",
    "\"\"\".format(n_total,n_1, n_2, n_int) \n",
    "\n",
    "n_ejercicio = 'p098e05'\n",
    "\n",
    "display(md(\"**\"+texto_ejercicio+\"**\"))\n",
    "\n",
    "dic_1, val_1 = datos_cualitativa([['F',n_1],['NF',n_total-n_1]])\n",
    "dic_2, val_2 = datos_cualitativa([['I',n_2],['NI',n_total-n_2]])\n",
    "\n",
    "frances = FiniteRV('frances',density=dic_1)\n",
    "ingles = FiniteRV('ingles',density=dic_2)\n",
    "\n",
    "\n",
    "enunciado_latex, enunciado, solucion = [],[],[]\n",
    "\n",
    "en = r\"\"\"i) Francés \\\\ \\\n",
    "ii) Inglés \\\\ \\\n",
    "iii) Ambos idiomas \\\\ \\\n",
    "iv) Francés o Inglés \\\\ \\\n",
    "v) Francés, pero no inglés \\\\ \\\n",
    "vi) Inglés, pero no francés\"\"\" \n",
    "\n",
    "enunciado_latex.append(en)\n",
    "enunciado = str(en)\n",
    "solucion.append(latex([nsimplify(P(Eq(frances,val_1.index('F')))),\n",
    "nsimplify(P(Eq(ingles,val_2.index('I')))),\n",
    "nsimplify(n_int/n_total),\n",
    "nsimplify(P(Eq(frances,val_1.index('F')))+P(Eq(ingles,val_2.index('I')))-n_int/n_total),\n",
    "nsimplify(P(Eq(frances,val_1.index('F')))*(n_1-n_int)/n_1),\n",
    "nsimplify(P(Eq(ingles,val_2.index('I')))*(n_2-n_int)/n_2)]))\n",
    "\n",
    "display(md(\"\"+ enunciado_latex[0] +\" \\\\rightarrow \" + solucion[0] +\"\"))\n",
    "    \n",
    "\n",
    "df_ejercicios = df_ejercicios.append(añadir_ejercicios(enunciado_latex, enunciado, solucion, texto_ejercicio, curso, titulo , n_ejercicio, '1', '2', enun_tex=False), ignore_index=True)\n"
   ]
  },
  {
   "cell_type": "code",
   "execution_count": 4,
   "metadata": {},
   "outputs": [
    {
     "data": {
      "text/markdown": [
       "**En la ciudad, el 53\\% de sus habitantes es mayor de 30 años, el 45\\% está\n",
       "casado y el 60\\% está casado o es mayor de 30 años \". \n",
       "Calcula la probabilidad de los siguientes sucesos:**"
      ],
      "text/plain": [
       "<IPython.core.display.Markdown object>"
      ]
     },
     "metadata": {},
     "output_type": "display_data"
    },
    {
     "data": {
      "text/markdown": [
       "i) Ser mayor de 30 años y estar casado \\\\ ii) No estar casado  \\rightarrow \\left [ \\frac{19}{50}, \\quad \\frac{11}{20}\\right ]"
      ],
      "text/plain": [
       "<IPython.core.display.Markdown object>"
      ]
     },
     "metadata": {},
     "output_type": "display_data"
    }
   ],
   "source": [
    "# Página 98 ejercicio 6\n",
    "\n",
    "p_total, p_1, p_2, p_uni = [100,53,45,60]\n",
    "p_int = p_1 + p_2 - p_uni\n",
    "\n",
    "texto_ejercicio = r\"\"\"En la ciudad, el {}\\% de sus habitantes es mayor de 30 años, el {}\\% está\n",
    "casado y el {}\\% está casado o es mayor de 30 años \". \n",
    "Calcula la probabilidad de los siguientes sucesos:\"\"\".format(p_1, p_2, p_uni) \n",
    "\n",
    "n_ejercicio = 'p098e06'\n",
    "\n",
    "display(md(\"**\"+texto_ejercicio+\"**\"))\n",
    "\n",
    "# vectores iniciales correspondientes al texto del enunciado\n",
    "\n",
    "dic_1, val_1 = datos_cualitativa([['S',p_1],['N',p_total-p_1]])\n",
    "dic_2, val_2 = datos_cualitativa([['S',p_2],['N',p_total-p_2]])\n",
    "\n",
    "mayor = FiniteRV('mayor',density=dic_1)\n",
    "casado = FiniteRV('casado',density=dic_2)\n",
    "\n",
    "\n",
    "enunciado_latex, enunciado, solucion = [],[],[]\n",
    "\n",
    "en = r\"\"\"i) Ser mayor de 30 años y estar casado \\\\ \\\n",
    "ii) No estar casado \"\"\" \n",
    "\n",
    "enunciado_latex.append(en)\n",
    "enunciado = str(en)\n",
    "solucion.append(latex([nsimplify(p_int/p_total),\n",
    "nsimplify(P(Eq(casado,val_2.index('N'))))]))\n",
    "\n",
    "display(md(\"\"+ enunciado_latex[0] +\" \\\\rightarrow \" + solucion[0] +\"\"))\n",
    "    \n",
    "\n",
    "df_ejercicios = df_ejercicios.append(añadir_ejercicios(enunciado_latex, enunciado, solucion, texto_ejercicio, curso, titulo , n_ejercicio, '1', '2', enun_tex=False), ignore_index=True)\n"
   ]
  },
  {
   "cell_type": "code",
   "execution_count": 5,
   "metadata": {},
   "outputs": [
    {
     "data": {
      "image/png": "[encoded data removed]",
      "text/latex": [
       "$$\\left ( \\frac{256}{625}, \\quad \\frac{1}{625}, \\quad \\frac{608}{625}, \\quad \\frac{124}{125}\\right )$$"
      ],
      "text/plain": [
       "⎛256         608  124⎞\n",
       "⎜───, 1/625, ───, ───⎟\n",
       "⎝625         625  125⎠"
      ]
     },
     "execution_count": 5,
     "metadata": {},
     "output_type": "execute_result"
    }
   ],
   "source": [
    "X=Binomial('X',4, .8)\n",
    "Y=Binomial('Y',3, .8)\n",
    "density(X).dict\n",
    "\n",
    "\n",
    "(nsimplify(P(Eq(X,10))), P(Eq(X,10)))\n",
    "\n",
    "nsimplify(P(Eq(X,4))), nsimplify(P(Eq(X,0))), nsimplify(P(X>=2)), nsimplify(P(Y>=1))"
   ]
  },
  {
   "cell_type": "markdown",
   "metadata": {},
   "source": [
    "Tiramos un dado. Si sale 5 o 6, extraemos una bola de la\n",
    "urna A(rojas, verdes y azules) y si no, la extraemos de la urna B.\n",
    "A{3,2,1}\n",
    "B{1,3,4}\n",
    "a) ¿Qué probabilidad hay de obtener un 5 o un 6 y extraer\n",
    "una bola roja?\n",
    "b) ¿Qué probabilidad hay de obtener 4 y bola verde?"
   ]
  },
  {
   "cell_type": "markdown",
   "metadata": {},
   "source": [
    "En un puesto de una feria, por un tique te dejan tirar 6 veces\n",
    "a una canasta. Si cuelas al menos dos tiros, te llevas premio.\n",
    "Se supone que cada persona tiene una probabilidad de 0,15\n",
    "de hacer canasta en cada tiro.\n",
    "a) ¿Qué probabilidad hay de que una persona gane un pre-\n",
    "mio con un tique?\n",
    "b) Si juegan 1 000 personas a lo largo de la semana, ¿cuántos,\n",
    "aproximadamente, se llevarán el premio?"
   ]
  },
  {
   "cell_type": "code",
   "execution_count": 6,
   "metadata": {},
   "outputs": [
    {
     "data": {
      "image/png": "[encoded data removed]",
      "text/latex": [
       "$$\\frac{2861001}{12800}$$"
      ],
      "text/plain": [
       "2861001\n",
       "───────\n",
       " 12800 "
      ]
     },
     "execution_count": 6,
     "metadata": {},
     "output_type": "execute_result"
    }
   ],
   "source": [
    "X=Binomial('X',6, .15)\n",
    "\n",
    "(nsimplify(P(X>=2))*1000)"
   ]
  },
  {
   "cell_type": "markdown",
   "metadata": {},
   "source": [
    "En la prensa aparece está noticia: \" En la ciudad, el 53% de sus habitantes es mayor de 30 años, el 45% está\n",
    "casado y el 60% está casado o es mayor de 30 años \". Calcula la probabilidad de los siguientes sucesos:\n",
    "i) Ser mayor de 30 años y estar casado\n",
    "ii) No estar casado"
   ]
  },
  {
   "cell_type": "code",
   "execution_count": 7,
   "metadata": {},
   "outputs": [],
   "source": [
    "s = [53/100,60/100,]"
   ]
  },
  {
   "cell_type": "markdown",
   "metadata": {},
   "source": [
    "En una clase de bachillerato hay 10 chicas y 8 chicos. De ellos 3 chicas y 4 chicos juegan al\n",
    "ajedrez. Si escogemos un estudiante al azar, determine las siguientes probabilidades:\n",
    "a) Sea chica y no juegue al ajedrez.\n",
    "b) No juegue al ajedrez sabiendo que es chico."
   ]
  },
  {
   "cell_type": "code",
   "execution_count": 8,
   "metadata": {},
   "outputs": [
    {
     "data": {
      "image/png": "[encoded data removed]",
      "text/latex": [
       "$$\\left ( \\frac{7}{18}, \\quad \\frac{1}{2}\\right )$$"
      ],
      "text/plain": [
       "(7/18, 1/2)"
      ]
     },
     "execution_count": 8,
     "metadata": {},
     "output_type": "execute_result"
    }
   ],
   "source": [
    "s=[[10,3],[8,4]]\n",
    "\n",
    "n = s[0][0]+s[1][0]\n",
    "\n",
    "p1 = nsimplify((s[0][0]/n)*((s[0][0]-s[0][1])/s[0][0]))\n",
    "p2 = nsimplify((s[1][0]-s[1][1])/s[1][0])\n",
    "\n",
    "(p1,p2)\n",
    "\n"
   ]
  },
  {
   "cell_type": "markdown",
   "metadata": {},
   "source": [
    "En una urna hay 10 bolas blancas y 3 negras. Se extrae una bola al azar y, sin verla ni\n",
    "reemplazarla, se extrae una segunda bola.\n",
    "a) ¿Cuál es la probabilidad de que la segunda bola extraída sea negra?\n",
    "b) Sabiendo que la segunda bola ha sido negra, calcule la probabilidad de que la primera bola\n",
    "extraída fuera negra también.\n"
   ]
  },
  {
   "cell_type": "code",
   "execution_count": 9,
   "metadata": {},
   "outputs": [],
   "source": [
    "df_ejercicios.to_csv('ejercicios43.csv', index = False)"
   ]
  },
  {
   "cell_type": "code",
   "execution_count": 10,
   "metadata": {},
   "outputs": [],
   "source": [
    "df_ejercicios = pd.read_csv('ejercicios43.csv', index_col= None)"
   ]
  },
  {
   "cell_type": "code",
   "execution_count": 11,
   "metadata": {},
   "outputs": [
    {
     "data": {
      "text/html": [
       "<div>\n",
       "<style scoped>\n",
       "    .dataframe tbody tr th:only-of-type {\n",
       "        vertical-align: middle;\n",
       "    }\n",
       "\n",
       "    .dataframe tbody tr th {\n",
       "        vertical-align: top;\n",
       "    }\n",
       "\n",
       "    .dataframe thead th {\n",
       "        text-align: right;\n",
       "    }\n",
       "</style>\n",
       "<table border=\"1\" class=\"dataframe\">\n",
       "  <thead>\n",
       "    <tr style=\"text-align: right;\">\n",
       "      <th></th>\n",
       "      <th>enunciado_latex</th>\n",
       "      <th>enunciado</th>\n",
       "      <th>solucion</th>\n",
       "      <th>texto</th>\n",
       "      <th>curso</th>\n",
       "      <th>titulo</th>\n",
       "      <th>n_ejercicio</th>\n",
       "      <th>dificultad</th>\n",
       "      <th>n_columnas</th>\n",
       "      <th>puntos</th>\n",
       "      <th>enun_tex</th>\n",
       "      <th>sol_tex</th>\n",
       "    </tr>\n",
       "  </thead>\n",
       "  <tbody>\n",
       "    <tr>\n",
       "      <th>0</th>\n",
       "      <td>i) Francés \\\\ ii) Inglés \\\\ iii) Ambos idiomas...</td>\n",
       "      <td>i) Francés \\\\ ii) Inglés \\\\ iii) Ambos idiomas...</td>\n",
       "      <td>\\left [ \\frac{16}{39}, \\quad \\frac{9}{13}, \\qu...</td>\n",
       "      <td>De los 39 alumnos de una clase, 16 escogieron ...</td>\n",
       "      <td>1BC</td>\n",
       "      <td>43 - Probabilidad</td>\n",
       "      <td>p098e05</td>\n",
       "      <td>1</td>\n",
       "      <td>2</td>\n",
       "      <td>1</td>\n",
       "      <td>False</td>\n",
       "      <td>True</td>\n",
       "    </tr>\n",
       "    <tr>\n",
       "      <th>1</th>\n",
       "      <td>i) Ser mayor de 30 años y estar casado \\\\ ii) ...</td>\n",
       "      <td>i) Ser mayor de 30 años y estar casado \\\\ ii) ...</td>\n",
       "      <td>\\left [ \\frac{19}{50}, \\quad \\frac{11}{20}\\rig...</td>\n",
       "      <td>En la ciudad, el 53\\% de sus habitantes es may...</td>\n",
       "      <td>1BC</td>\n",
       "      <td>43 - Probabilidad</td>\n",
       "      <td>p098e06</td>\n",
       "      <td>1</td>\n",
       "      <td>2</td>\n",
       "      <td>1</td>\n",
       "      <td>False</td>\n",
       "      <td>True</td>\n",
       "    </tr>\n",
       "  </tbody>\n",
       "</table>\n",
       "</div>"
      ],
      "text/plain": [
       "                                     enunciado_latex  \\\n",
       "0  i) Francés \\\\ ii) Inglés \\\\ iii) Ambos idiomas...   \n",
       "1  i) Ser mayor de 30 años y estar casado \\\\ ii) ...   \n",
       "\n",
       "                                           enunciado  \\\n",
       "0  i) Francés \\\\ ii) Inglés \\\\ iii) Ambos idiomas...   \n",
       "1  i) Ser mayor de 30 años y estar casado \\\\ ii) ...   \n",
       "\n",
       "                                            solucion  \\\n",
       "0  \\left [ \\frac{16}{39}, \\quad \\frac{9}{13}, \\qu...   \n",
       "1  \\left [ \\frac{19}{50}, \\quad \\frac{11}{20}\\rig...   \n",
       "\n",
       "                                               texto curso             titulo  \\\n",
       "0  De los 39 alumnos de una clase, 16 escogieron ...   1BC  43 - Probabilidad   \n",
       "1  En la ciudad, el 53\\% de sus habitantes es may...   1BC  43 - Probabilidad   \n",
       "\n",
       "  n_ejercicio  dificultad  n_columnas  puntos  enun_tex  sol_tex  \n",
       "0     p098e05           1           2       1     False     True  \n",
       "1     p098e06           1           2       1     False     True  "
      ]
     },
     "execution_count": 11,
     "metadata": {},
     "output_type": "execute_result"
    }
   ],
   "source": [
    "df_ejercicios"
   ]
  },
  {
   "cell_type": "code",
   "execution_count": 12,
   "metadata": {},
   "outputs": [
    {
     "data": {
      "text/markdown": [
       "**Ejercicio: **p098e05"
      ],
      "text/plain": [
       "<IPython.core.display.Markdown object>"
      ]
     },
     "metadata": {},
     "output_type": "display_data"
    },
    {
     "data": {
      "text/html": [
       "<div>\n",
       "<style scoped>\n",
       "    .dataframe tbody tr th:only-of-type {\n",
       "        vertical-align: middle;\n",
       "    }\n",
       "\n",
       "    .dataframe tbody tr th {\n",
       "        vertical-align: top;\n",
       "    }\n",
       "\n",
       "    .dataframe thead th {\n",
       "        text-align: right;\n",
       "    }\n",
       "</style>\n",
       "<table border=\"1\" class=\"dataframe\">\n",
       "  <thead>\n",
       "    <tr style=\"text-align: right;\">\n",
       "      <th></th>\n",
       "      <th>enunciado_latex</th>\n",
       "      <th>enunciado</th>\n",
       "      <th>solucion</th>\n",
       "      <th>texto</th>\n",
       "      <th>curso</th>\n",
       "      <th>titulo</th>\n",
       "      <th>n_ejercicio</th>\n",
       "      <th>dificultad</th>\n",
       "      <th>n_columnas</th>\n",
       "      <th>puntos</th>\n",
       "      <th>enun_tex</th>\n",
       "      <th>sol_tex</th>\n",
       "    </tr>\n",
       "  </thead>\n",
       "  <tbody>\n",
       "    <tr>\n",
       "      <th>0</th>\n",
       "      <td>i) Francés \\\\ ii) Inglés \\\\ iii) Ambos idiomas...</td>\n",
       "      <td>i) Francés \\\\ ii) Inglés \\\\ iii) Ambos idiomas...</td>\n",
       "      <td>\\left [ \\frac{16}{39}, \\quad \\frac{9}{13}, \\qu...</td>\n",
       "      <td>De los 39 alumnos de una clase, 16 escogieron ...</td>\n",
       "      <td>1BC</td>\n",
       "      <td>43 - Probabilidad</td>\n",
       "      <td>p098e05</td>\n",
       "      <td>1</td>\n",
       "      <td>2</td>\n",
       "      <td>1</td>\n",
       "      <td>False</td>\n",
       "      <td>True</td>\n",
       "    </tr>\n",
       "  </tbody>\n",
       "</table>\n",
       "</div>"
      ],
      "text/plain": [
       "                                     enunciado_latex  \\\n",
       "0  i) Francés \\\\ ii) Inglés \\\\ iii) Ambos idiomas...   \n",
       "\n",
       "                                           enunciado  \\\n",
       "0  i) Francés \\\\ ii) Inglés \\\\ iii) Ambos idiomas...   \n",
       "\n",
       "                                            solucion  \\\n",
       "0  \\left [ \\frac{16}{39}, \\quad \\frac{9}{13}, \\qu...   \n",
       "\n",
       "                                               texto curso             titulo  \\\n",
       "0  De los 39 alumnos de una clase, 16 escogieron ...   1BC  43 - Probabilidad   \n",
       "\n",
       "  n_ejercicio  dificultad  n_columnas  puntos  enun_tex  sol_tex  \n",
       "0     p098e05           1           2       1     False     True  "
      ]
     },
     "metadata": {},
     "output_type": "display_data"
    },
    {
     "data": {
      "text/markdown": [
       "**Ejercicio: **p098e06"
      ],
      "text/plain": [
       "<IPython.core.display.Markdown object>"
      ]
     },
     "metadata": {},
     "output_type": "display_data"
    },
    {
     "data": {
      "text/html": [
       "<div>\n",
       "<style scoped>\n",
       "    .dataframe tbody tr th:only-of-type {\n",
       "        vertical-align: middle;\n",
       "    }\n",
       "\n",
       "    .dataframe tbody tr th {\n",
       "        vertical-align: top;\n",
       "    }\n",
       "\n",
       "    .dataframe thead th {\n",
       "        text-align: right;\n",
       "    }\n",
       "</style>\n",
       "<table border=\"1\" class=\"dataframe\">\n",
       "  <thead>\n",
       "    <tr style=\"text-align: right;\">\n",
       "      <th></th>\n",
       "      <th>enunciado_latex</th>\n",
       "      <th>enunciado</th>\n",
       "      <th>solucion</th>\n",
       "      <th>texto</th>\n",
       "      <th>curso</th>\n",
       "      <th>titulo</th>\n",
       "      <th>n_ejercicio</th>\n",
       "      <th>dificultad</th>\n",
       "      <th>n_columnas</th>\n",
       "      <th>puntos</th>\n",
       "      <th>enun_tex</th>\n",
       "      <th>sol_tex</th>\n",
       "    </tr>\n",
       "  </thead>\n",
       "  <tbody>\n",
       "    <tr>\n",
       "      <th>1</th>\n",
       "      <td>i) Ser mayor de 30 años y estar casado \\\\ ii) ...</td>\n",
       "      <td>i) Ser mayor de 30 años y estar casado \\\\ ii) ...</td>\n",
       "      <td>\\left [ \\frac{19}{50}, \\quad \\frac{11}{20}\\rig...</td>\n",
       "      <td>En la ciudad, el 53\\% de sus habitantes es may...</td>\n",
       "      <td>1BC</td>\n",
       "      <td>43 - Probabilidad</td>\n",
       "      <td>p098e06</td>\n",
       "      <td>1</td>\n",
       "      <td>2</td>\n",
       "      <td>1</td>\n",
       "      <td>False</td>\n",
       "      <td>True</td>\n",
       "    </tr>\n",
       "  </tbody>\n",
       "</table>\n",
       "</div>"
      ],
      "text/plain": [
       "                                     enunciado_latex  \\\n",
       "1  i) Ser mayor de 30 años y estar casado \\\\ ii) ...   \n",
       "\n",
       "                                           enunciado  \\\n",
       "1  i) Ser mayor de 30 años y estar casado \\\\ ii) ...   \n",
       "\n",
       "                                            solucion  \\\n",
       "1  \\left [ \\frac{19}{50}, \\quad \\frac{11}{20}\\rig...   \n",
       "\n",
       "                                               texto curso             titulo  \\\n",
       "1  En la ciudad, el 53\\% de sus habitantes es may...   1BC  43 - Probabilidad   \n",
       "\n",
       "  n_ejercicio  dificultad  n_columnas  puntos  enun_tex  sol_tex  \n",
       "1     p098e06           1           2       1     False     True  "
      ]
     },
     "metadata": {},
     "output_type": "display_data"
    }
   ],
   "source": [
    "escribir_preambulo(fichero, titulo, 'ejercicios')\n",
    "for s in df_ejercicios.groupby('n_ejercicio').count().index : \n",
    "    display(md(\"**Ejercicio: **\" + s ))\n",
    "    display(df_ejercicios[df_ejercicios.n_ejercicio == s])\n",
    "    escribir_ejercicios(df_ejercicios[df_ejercicios.n_ejercicio == s],fichero)\n",
    "\n",
    "escribir_fin(fichero)"
   ]
  }
 ],
 "metadata": {
  "kernelspec": {
   "display_name": "Python 3",
   "language": "python",
   "name": "python3"
  },
  "language_info": {
   "codemirror_mode": {
    "name": "ipython",
    "version": 3
   },
   "file_extension": ".py",
   "mimetype": "text/x-python",
   "name": "python",
   "nbconvert_exporter": "python",
   "pygments_lexer": "ipython3",
   "version": "3.6.8"
  }
 },
 "nbformat": 4,
 "nbformat_minor": 2
}
