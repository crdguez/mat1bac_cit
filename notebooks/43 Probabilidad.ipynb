{
 "cells": [
  {
   "cell_type": "code",
   "execution_count": 1,
   "metadata": {},
   "outputs": [
    {
     "name": "stdout",
     "output_type": "stream",
     "text": [
      "IPython console for SymPy 1.8 (Python 3.6.13-64-bit) (ground types: gmpy)\n",
      "\n",
      "These commands were executed:\n",
      ">>> from __future__ import division\n",
      ">>> from sympy import *\n",
      ">>> x, y, z, t = symbols('x y z t')\n",
      ">>> k, m, n = symbols('k m n', integer=True)\n",
      ">>> f, g, h = symbols('f g h', cls=Function)\n",
      ">>> init_printing()\n",
      "\n",
      "Documentation can be found at https://docs.sympy.org/1.8/\n",
      "\n"
     ]
    }
   ],
   "source": [
    "from sympy import init_session\n",
    "from sympy.parsing.latex import parse_latex\n",
    "from sympy.parsing.sympy_parser import parse_expr\n",
    "from IPython.display import Markdown as md\n",
    "from IPython.display import display\n",
    "    \n",
    "import pandas as pd\n",
    "\n",
    "from sympy.stats import Binomial, density, Die, Coin, P, E, variance, Normal, FiniteRV\n",
    "from sympy.functions.combinatorial.numbers import nC, nP, nT\n",
    "import numpy as np\n",
    "\n",
    "init_session()\n",
    "\n",
    "a, b, c, d = symbols('a b c d', real = True)\n",
    "from docparts import añadir_ejercicios, doc_ejer, escribir_preambulo, escribir_ejercicios, escribir_fin\n",
    "\n",
    "df_ejercicios = pd.DataFrame()\n",
    "\n",
    "fichero = 'probab'\n",
    "titulo = '43 - Probabilidad'\n",
    "curso = '1BC'\n",
    "\n",
    "\n",
    "x,y = symbols('x, y', real=True)\n"
   ]
  },
  {
   "cell_type": "code",
   "execution_count": 2,
   "metadata": {},
   "outputs": [],
   "source": [
    "def datos_cualitativa(lista):\n",
    "    # Devuelve un diccionario para crear la probabilidad cuantitativa a partir del índice\n",
    "    nplista = np.array(lista)\n",
    "    total = nplista[:,1].astype(int).sum()\n",
    "    lista_val = list(nplista[:,0])\n",
    "    dic ={i:nplista[i,1].astype(int)/total for i,s in enumerate(nplista)}\n",
    "    \n",
    "    return dic,lista_val    "
   ]
  },
  {
   "cell_type": "code",
   "execution_count": 3,
   "metadata": {},
   "outputs": [],
   "source": [
    "def extracciones(datos, remplazamiento=False) :\n",
    "    #Devuelve diccionarios con las extracciones del primer conjunto\n",
    "    diccionarios = []\n",
    "\n",
    "    if remplazamiento is True : \n",
    "        extraccion = 0\n",
    "    else :\n",
    "        extraccion = 1\n",
    "\n",
    "\n",
    "    diccionarios.append(datos_cualitativa(datos))\n",
    "\n",
    "    for i in range(len(datos)):\n",
    "        npdatos = np.array(datos)\n",
    "        npdatos[i,1]=npdatos[i,1].astype(int) - extraccion\n",
    "        diccionarios.append(datos_cualitativa(list(npdatos)))\n",
    "        \n",
    "    return diccionarios\n",
    "\n"
   ]
  },
  {
   "cell_type": "code",
   "execution_count": 4,
   "metadata": {},
   "outputs": [
    {
     "data": {
      "text/plain": [
       "({0: 0.6, 1: 0.4}, ['B', 'N'])"
      ]
     },
     "metadata": {},
     "output_type": "display_data"
    },
    {
     "data": {
      "text/plain": [
       "({0: 0.5, 1: 0.5}, ['B', 'N'])"
      ]
     },
     "metadata": {},
     "output_type": "display_data"
    },
    {
     "data": {
      "text/plain": [
       "({0: 0.75, 1: 0.25}, ['B', 'N'])"
      ]
     },
     "metadata": {},
     "output_type": "display_data"
    },
    {
     "data": {
      "text/plain": [
       "[({0: 0.5, 1: 0.3333333333333333, 2: 0.16666666666666666}, ['R', 'V', 'A']),\n",
       " ({0: 0.4, 1: 0.4, 2: 0.2}, ['R', 'V', 'A']),\n",
       " ({0: 0.6, 1: 0.2, 2: 0.2}, ['R', 'V', 'A']),\n",
       " ({0: 0.6, 1: 0.4, 2: 0.0}, ['R', 'V', 'A'])]"
      ]
     },
     "metadata": {},
     "output_type": "display_data"
    },
    {
     "data": {
      "image/png": "[encoded data removed]",
      "text/latex": [
       "$\\displaystyle 1$"
      ],
      "text/plain": [
       "1"
      ]
     },
     "metadata": {},
     "output_type": "display_data"
    },
    {
     "data": {
      "image/png": "[encoded data removed]",
      "text/latex": [
       "$\\displaystyle 0$"
      ],
      "text/plain": [
       "0"
      ]
     },
     "metadata": {},
     "output_type": "display_data"
    },
    {
     "data": {
      "image/png": "[encoded data removed]",
      "text/latex": [
       "$\\displaystyle 1$"
      ],
      "text/plain": [
       "1"
      ]
     },
     "metadata": {},
     "output_type": "display_data"
    },
    {
     "data": {
      "image/png": "[encoded data removed]",
      "text/latex": [
       "$\\displaystyle 2$"
      ],
      "text/plain": [
       "2"
      ]
     },
     "metadata": {},
     "output_type": "display_data"
    },
    {
     "data": {
      "image/png": "[encoded data removed]",
      "text/latex": [
       "$\\displaystyle 3$"
      ],
      "text/plain": [
       "3"
      ]
     },
     "metadata": {},
     "output_type": "display_data"
    },
    {
     "data": {
      "text/plain": [
       "range(4, 1)"
      ]
     },
     "execution_count": 4,
     "metadata": {},
     "output_type": "execute_result"
    }
   ],
   "source": [
    "# Función para arbol tikz  --> Complicado, para hacerlo bien, por recursividad --> Todo\n",
    "\n",
    "# Bayes\n",
    "\n",
    "n_total=5\n",
    "pr0=3 \n",
    "#pr1=1\n",
    "#pr2=2\n",
    "datos = [[['B',pr0],['N',n_total-pr0]],[['B',pr0-1],['N',n_total-pr0]],[['B',pr0],['N',n_total-pr0-1]]]\n",
    "\n",
    "diccionarios = [datos_cualitativa(datos[i]) for i,s  in enumerate(datos)]\n",
    "\n",
    "#[display(density(diccionarios[i][0]).dict) for i, s in enumerate(diccionarios)]\n",
    "\n",
    "#[display(diccionarios[i])  for i, s in enumerate(diccionarios)]\n",
    "[display(s)  for i, s in enumerate(diccionarios)]\n",
    "\n",
    "datos = [[['R',3],['V',2],['A',1]]]\n",
    "\n",
    "dicc = extracciones(datos[0])\n",
    "\n",
    "display(dicc)\n",
    "\n",
    "#range(len(extracciones(datos[0])[0][0].values()))\n",
    "\n",
    "niveles_arbol = solve(Eq(len(dicc),(len(dicc[0][0])**(x+1)-1)/(len(dicc[0][0])-1)))\n",
    "niveles_arbol\n",
    "\n",
    "for j in range(len(niveles_arbol),-1,-1):\n",
    "    display(j)\n",
    "    \n",
    "for j in range(len(dicc[0][0])):\n",
    "    display(j+1)  \n",
    "    \n",
    "range(len(dicc[0][0])+1,1)\n",
    "\n",
    "\n",
    "    \n",
    "            \n",
    "\n",
    "\n",
    " "
   ]
  },
  {
   "cell_type": "code",
   "execution_count": 5,
   "metadata": {},
   "outputs": [
    {
     "data": {
      "text/markdown": [
       "**De los 39 alumnos de una clase, 16 escogieron francés, como idioma y 27 inglés. 9 eligieron ambos idiomas y\n",
       "el resto no optó por ninguno de ellos. elegido un alumno al azar, calcula las probabilidades de que escogiera:\n",
       "**"
      ],
      "text/plain": [
       "<IPython.core.display.Markdown object>"
      ]
     },
     "metadata": {},
     "output_type": "display_data"
    },
    {
     "data": {
      "text/markdown": [
       "i) Francés \\\\ \\\n",
       "ii) Inglés \\\\ \\\n",
       "iii) Ambos idiomas \\\\ \\\n",
       "iv) Francés o Inglés \\\\ \\\n",
       "v) Francés, pero no inglés \\\\ \\\n",
       "vi) Inglés, pero no francés \\rightarrow \\left[ \\frac{16}{39}, \\  \\frac{9}{13}, \\  \\frac{3}{13}, \\  \\frac{34}{39}, \\  \\frac{7}{39}, \\  \\frac{6}{13}\\right]"
      ],
      "text/plain": [
       "<IPython.core.display.Markdown object>"
      ]
     },
     "metadata": {},
     "output_type": "display_data"
    }
   ],
   "source": [
    "# Página 98 ejercicio 5\n",
    "\n",
    "n_total,n_1, n_2, n_int = [39,16,27,9]\n",
    "\n",
    "texto_ejercicio = r\"\"\"De los {} alumnos de una clase, {} escogieron francés, como idioma y {} inglés. {} eligieron ambos idiomas y\n",
    "el resto no optó por ninguno de ellos. elegido un alumno al azar, calcula las probabilidades de que escogiera:\n",
    "\"\"\".format(n_total,n_1, n_2, n_int) \n",
    "\n",
    "n_ejercicio = 'p098e05'\n",
    "\n",
    "display(md(\"**\"+texto_ejercicio+\"**\"))\n",
    "\n",
    "dic_1, val_1 = datos_cualitativa([['F',n_1],['NF',n_total-n_1]])\n",
    "dic_2, val_2 = datos_cualitativa([['I',n_2],['NI',n_total-n_2]])\n",
    "\n",
    "frances = FiniteRV('frances',density=dic_1)\n",
    "ingles = FiniteRV('ingles',density=dic_2)\n",
    "\n",
    "\n",
    "enunciado_latex, enunciado, solucion = [],[],[]\n",
    "\n",
    "en = r\"\"\"i) Francés \\\\ \\\n",
    "ii) Inglés \\\\ \\\n",
    "iii) Ambos idiomas \\\\ \\\n",
    "iv) Francés o Inglés \\\\ \\\n",
    "v) Francés, pero no inglés \\\\ \\\n",
    "vi) Inglés, pero no francés\"\"\" \n",
    "\n",
    "enunciado_latex.append(en)\n",
    "enunciado = str(en)\n",
    "solucion.append(latex([nsimplify(P(Eq(frances,val_1.index('F')))),\n",
    "nsimplify(P(Eq(ingles,val_2.index('I')))),\n",
    "nsimplify(n_int/n_total),\n",
    "nsimplify(P(Eq(frances,val_1.index('F')))+P(Eq(ingles,val_2.index('I')))-n_int/n_total),\n",
    "nsimplify(P(Eq(frances,val_1.index('F')))*(n_1-n_int)/n_1),\n",
    "nsimplify(P(Eq(ingles,val_2.index('I')))*(n_2-n_int)/n_2)]))\n",
    "\n",
    "display(md(\"\"+ enunciado_latex[0] +\" \\\\rightarrow \" + solucion[0] +\"\"))\n",
    "    \n",
    "\n",
    "df_ejercicios = df_ejercicios.append(añadir_ejercicios(enunciado_latex, enunciado, solucion, texto_ejercicio, curso, titulo , n_ejercicio, '1', '2', enun_tex=False), ignore_index=True)\n"
   ]
  },
  {
   "cell_type": "code",
   "execution_count": 6,
   "metadata": {},
   "outputs": [
    {
     "data": {
      "text/markdown": [
       "**En la ciudad, el 53\\% de sus habitantes es mayor de 30 años, el 45\\% está\n",
       "casado y el 60\\% está casado o es mayor de 30 años. \n",
       "Calcula la probabilidad de los siguientes sucesos:**"
      ],
      "text/plain": [
       "<IPython.core.display.Markdown object>"
      ]
     },
     "metadata": {},
     "output_type": "display_data"
    },
    {
     "data": {
      "text/markdown": [
       "i) Ser mayor de 30 años y estar casado \\\\ \\\n",
       "ii) No estar casado  \\rightarrow \\left[ \\frac{19}{50}, \\  \\frac{11}{20}\\right]"
      ],
      "text/plain": [
       "<IPython.core.display.Markdown object>"
      ]
     },
     "metadata": {},
     "output_type": "display_data"
    }
   ],
   "source": [
    "# Página 98 ejercicio 6\n",
    "\n",
    "p_total, p_1, p_2, p_uni = [100,53,45,60]\n",
    "p_int = p_1 + p_2 - p_uni\n",
    "\n",
    "texto_ejercicio = r\"\"\"En la ciudad, el {}\\% de sus habitantes es mayor de 30 años, el {}\\% está\n",
    "casado y el {}\\% está casado o es mayor de 30 años. \n",
    "Calcula la probabilidad de los siguientes sucesos:\"\"\".format(p_1, p_2, p_uni) \n",
    "\n",
    "n_ejercicio = 'p098e06'\n",
    "\n",
    "display(md(\"**\"+texto_ejercicio+\"**\"))\n",
    "\n",
    "# vectores iniciales correspondientes al texto del enunciado\n",
    "\n",
    "dic_1, val_1 = datos_cualitativa([['S',p_1],['N',p_total-p_1]])\n",
    "dic_2, val_2 = datos_cualitativa([['S',p_2],['N',p_total-p_2]])\n",
    "\n",
    "mayor = FiniteRV('mayor',density=dic_1)\n",
    "casado = FiniteRV('casado',density=dic_2)\n",
    "\n",
    "\n",
    "enunciado_latex, enunciado, solucion = [],[],[]\n",
    "\n",
    "en = r\"\"\"i) Ser mayor de 30 años y estar casado \\\\ \\\n",
    "ii) No estar casado \"\"\" \n",
    "\n",
    "enunciado_latex.append(en)\n",
    "enunciado = str(en)\n",
    "solucion.append(latex([nsimplify(p_int/p_total),\n",
    "nsimplify(P(Eq(casado,val_2.index('N'))))]))\n",
    "\n",
    "display(md(\"\"+ enunciado_latex[0] +\" \\\\rightarrow \" + solucion[0] +\"\"))\n",
    "    \n",
    "\n",
    "df_ejercicios = df_ejercicios.append(añadir_ejercicios(enunciado_latex, enunciado, solucion, texto_ejercicio, curso, titulo , n_ejercicio, '1', '2', enun_tex=False), ignore_index=True)\n"
   ]
  },
  {
   "cell_type": "markdown",
   "metadata": {},
   "source": [
    "Se tiene una urna con 15 bolas negras y 10 blancas, y se realizan dos extracciones sucesivas de una bola.\n",
    "Halla la probabilidad de que las dos bolas sean blancas en los siguientes casos:\n",
    "i) Con devolución a la urna de la primera bola extraída\n",
    "ii) Sin devolución"
   ]
  },
  {
   "cell_type": "code",
   "execution_count": 7,
   "metadata": {},
   "outputs": [
    {
     "data": {
      "text/markdown": [
       "**Se tiene una urna con 15 bolas negras y 10 blancas, y se realizan dos extracciones \n",
       "sucesivas de una bola. \n",
       "Halla la probabilidad de que las dos bolas sean blancas en los siguientes casos:**"
      ],
      "text/plain": [
       "<IPython.core.display.Markdown object>"
      ]
     },
     "metadata": {},
     "output_type": "display_data"
    },
    {
     "data": {
      "text/markdown": [
       "i) Con devolución a la urna de la primera bola extraída ii) Sin devolución\n",
       " \\rightarrow \\left[ \\frac{4}{25}, \\  \\frac{3}{20}\\right]"
      ],
      "text/plain": [
       "<IPython.core.display.Markdown object>"
      ]
     },
     "metadata": {},
     "output_type": "display_data"
    },
    {
     "data": {
      "text/plain": [
       "[({0: 0.6, 1: 0.4}, ['N', 'B']),\n",
       " ({0: 0.5833333333333334, 1: 0.4166666666666667}, ['N', 'B']),\n",
       " ({0: 0.625, 1: 0.375}, ['N', 'B'])]"
      ]
     },
     "metadata": {},
     "output_type": "display_data"
    }
   ],
   "source": [
    "# Página 98 ejercicio 8. Urna con dos extracciones\n",
    "\n",
    "datos = [['N',15],['B',10]]\n",
    "\n",
    "\n",
    "texto_ejercicio = r\"\"\"Se tiene una urna con {} bolas negras y {} blancas, y se realizan dos extracciones \n",
    "sucesivas de una bola. \n",
    "Halla la probabilidad de que las dos bolas sean blancas en los siguientes casos:\"\"\".format(datos[0][1], datos[1][1]) \n",
    "\n",
    "n_ejercicio = 'p098e08'\n",
    "\n",
    "display(md(\"**\"+texto_ejercicio+\"**\"))\n",
    "\n",
    "# vectores iniciales correspondientes al texto del enunciado\n",
    "\n",
    "enunciado_latex, enunciado, solucion = [],[],[]\n",
    "\n",
    "en = r\"\"\"i) Con devolución a la urna de la primera bola extraída ii) Sin devolución\n",
    "\"\"\" \n",
    "\n",
    "enunciado_latex.append(en)\n",
    "enunciado = str(en)\n",
    "\n",
    "\n",
    "dic_0, val_0 = extracciones(datos, remplazamiento=True)[0]\n",
    "dic_1, val_1 = extracciones(datos, remplazamiento=True)[1]\n",
    "dic_2, val_2 = extracciones(datos, remplazamiento=True)[2]\n",
    "\n",
    "ini = FiniteRV('ini',density=dic_0)\n",
    "si_1 = FiniteRV('si_1',density=dic_1)\n",
    "si_2 = FiniteRV('si_2',density=dic_2)\n",
    "\n",
    "p1 = P(Eq(ini, val_0.index('B')))*P(Eq(si_2,val_2.index('B')))\n",
    "\n",
    "dic_0, val_0 = extracciones(datos)[0]\n",
    "dic_1, val_1 = extracciones(datos)[1]\n",
    "dic_2, val_2 = extracciones(datos)[2]\n",
    "\n",
    "ini = FiniteRV('ini',density=dic_0)\n",
    "si_1 = FiniteRV('si_1',density=dic_1)\n",
    "si_2 = FiniteRV('si_2',density=dic_2)\n",
    "\n",
    "p2 = P(Eq(ini, val_0.index('B')))*P(Eq(si_2,val_2.index('B')))\n",
    "\n",
    "\n",
    "\n",
    "solucion.append(\n",
    "latex([nsimplify(p1),nsimplify(p2)]))\n",
    "\n",
    "display(md(\"\"+ enunciado_latex[0] +\" \\\\rightarrow \" + solucion[0] +\"\"))\n",
    "\n",
    "display(extracciones(datos))\n",
    "    \n",
    "\n",
    "df_ejercicios = df_ejercicios.append(añadir_ejercicios(enunciado_latex, enunciado, solucion, texto_ejercicio, curso, titulo , n_ejercicio, '1', '2', enun_tex=False), ignore_index=True)\n"
   ]
  },
  {
   "cell_type": "code",
   "execution_count": 8,
   "metadata": {},
   "outputs": [
    {
     "data": {
      "text/markdown": [
       "**Una urna contiene 3 bolas rojas, 2 verdes y 1 azul. Extraemos una bola, anotamos su color, la devolvemos a\n",
       "la urna, sacamos otra bola y anotamos su color. Halla las siguientes probabilidades:**"
      ],
      "text/plain": [
       "<IPython.core.display.Markdown object>"
      ]
     },
     "metadata": {},
     "output_type": "display_data"
    },
    {
     "data": {
      "text/markdown": [
       "i) Que las dos bolas sean rojas\n",
       "ii) Que haya alguna bola azul\n",
       "iii) que no haya ninguna bola verde\n",
       "iv) que las dos bolas sean del mismo color\n",
       " \\rightarrow \\left[ \\frac{1}{4}, \\  \\frac{11}{36}, \\  \\frac{4}{9}, \\  \\frac{7}{18}\\right]"
      ],
      "text/plain": [
       "<IPython.core.display.Markdown object>"
      ]
     },
     "metadata": {},
     "output_type": "display_data"
    },
    {
     "data": {
      "text/plain": [
       "[({0: 0.5, 1: 0.3333333333333333, 2: 0.16666666666666666}, ['R', 'V', 'A']),\n",
       " ({0: 0.4, 1: 0.4, 2: 0.2}, ['R', 'V', 'A']),\n",
       " ({0: 0.6, 1: 0.2, 2: 0.2}, ['R', 'V', 'A']),\n",
       " ({0: 0.6, 1: 0.4, 2: 0.0}, ['R', 'V', 'A'])]"
      ]
     },
     "metadata": {},
     "output_type": "display_data"
    },
    {
     "data": {
      "image/png": "[encoded data removed]",
      "text/latex": [
       "$\\displaystyle \\left( 0.25, \\  0.305555555555556, \\  0.444444444444444, \\  0.388888888888889\\right)$"
      ],
      "text/plain": [
       "(0.25, 0.305555555555556, 0.444444444444444, 0.388888888888889)"
      ]
     },
     "execution_count": 8,
     "metadata": {},
     "output_type": "execute_result"
    }
   ],
   "source": [
    "# Página 98 ejercicio 9. Urna con dos extracciones\n",
    "\n",
    "datos = [['R',3],['V',2],['A',1]]\n",
    "\n",
    "\n",
    "texto_ejercicio = r\"\"\"Una urna contiene {} bolas rojas, {} verdes y {} azul. Extraemos una bola, anotamos su color, la devolvemos a\n",
    "la urna, sacamos otra bola y anotamos su color. Halla las siguientes probabilidades:\"\"\".format(datos[0][1], datos[1][1], datos[2][1]) \n",
    "\n",
    "n_ejercicio = 'p098e09'\n",
    "\n",
    "display(md(\"**\"+texto_ejercicio+\"**\"))\n",
    "\n",
    "enunciado_latex, enunciado, solucion = [],[],[]\n",
    "\n",
    "en = r\"\"\"i) Que las dos bolas sean rojas\n",
    "ii) Que haya alguna bola azul\n",
    "iii) que no haya ninguna bola verde\n",
    "iv) que las dos bolas sean del mismo color\n",
    "\"\"\" \n",
    "\n",
    "enunciado_latex.append(en)\n",
    "enunciado = str(en)\n",
    "\n",
    "remplazamiento=True\n",
    "\n",
    "dic_0, val_0 = extracciones(datos, remplazamiento)[0]\n",
    "dic_1, val_1 = extracciones(datos, remplazamiento)[1]\n",
    "dic_2, val_2 = extracciones(datos, remplazamiento)[2]\n",
    "dic_3, val_3 = extracciones(datos, remplazamiento)[3]\n",
    "\n",
    "ini = FiniteRV('ini',density=dic_0)\n",
    "si_1 = FiniteRV('si_1',density=dic_1)\n",
    "si_2 = FiniteRV('si_2',density=dic_2)\n",
    "si_3 = FiniteRV('si_3',density=dic_3)\n",
    "\n",
    "p1 = P(Eq(ini, val_0.index('R')))*P(Eq(si_1,val_1.index('R')))\n",
    "p2 = P(Eq(ini, val_0.index('A')))+P(Eq(ini, val_0.index('R')))*P(Eq(si_1,val_1.index('A')))+P(Eq(ini, val_0.index('V')))*P(Eq(si_2,val_2.index('A')))\n",
    "p3 = P(Eq(ini, val_0.index('R')))*(1-P(Eq(si_1,val_1.index('V'))))+P(Eq(ini, val_0.index('A')))*(1-P(Eq(si_3,val_3.index('V'))))\n",
    "p4 = P(Eq(ini, val_0.index('R')))*P(Eq(si_1,val_1.index('R')))+P(Eq(ini, val_0.index('V')))*P(Eq(si_2,val_2.index('V')))+P(Eq(ini, val_0.index('A')))*P(Eq(si_3,val_3.index('A')))\n",
    "\n",
    "solucion.append(\n",
    "latex([nsimplify(p1),nsimplify(p2),nsimplify(p3),nsimplify(p4)]))\n",
    "\n",
    "display(md(\"\"+ enunciado_latex[0] +\" \\\\rightarrow \" + solucion[0] +\"\"))\n",
    "\n",
    "display(extracciones(datos))\n",
    "    \n",
    "\n",
    "df_ejercicios = df_ejercicios.append(añadir_ejercicios(enunciado_latex, enunciado, solucion, texto_ejercicio, curso, titulo , n_ejercicio, '1', '2', enun_tex=False), ignore_index=True)\n",
    "p1,p2,p3,p4"
   ]
  },
  {
   "cell_type": "code",
   "execution_count": 9,
   "metadata": {},
   "outputs": [
    {
     "data": {
      "text/markdown": [
       "**En una población hay el doble de mujeres que de hombres. \n",
       "El 25\\% de las mujeres y el  10\\% de los hombres\n",
       "son rubios\n",
       "**"
      ],
      "text/plain": [
       "<IPython.core.display.Markdown object>"
      ]
     },
     "metadata": {},
     "output_type": "display_data"
    },
    {
     "data": {
      "image/png": "[encoded data removed]",
      "text/latex": [
       "$\\displaystyle \\left\\{ 0 : 0.666666666666667, \\  1 : 0.333333333333333\\right\\}$"
      ],
      "text/plain": [
       "{0: 0.666666666666667, 1: 0.333333333333333}"
      ]
     },
     "metadata": {},
     "output_type": "display_data"
    },
    {
     "data": {
      "image/png": "[encoded data removed]",
      "text/latex": [
       "$\\displaystyle \\left\\{ 0 : 0.25, \\  1 : 0.75\\right\\}$"
      ],
      "text/plain": [
       "{0: 0.25, 1: 0.75}"
      ]
     },
     "metadata": {},
     "output_type": "display_data"
    },
    {
     "data": {
      "image/png": "[encoded data removed]",
      "text/latex": [
       "$\\displaystyle \\left\\{ 0 : 0.1, \\  1 : 0.9\\right\\}$"
      ],
      "text/plain": [
       "{0: 0.1, 1: 0.9}"
      ]
     },
     "metadata": {},
     "output_type": "display_data"
    },
    {
     "data": {
      "text/markdown": [
       "i) Si se elige al azar una persona y resulta ser rubia, ¿cuál es la probabilidad de que sea mujer?\n",
       "ii) ¿Cuál es la probabilidad de que una persona elegida al azar sea hombre y no sea rubia? \\rightarrow \\left[ \\frac{5}{6}, \\  \\frac{3}{10}\\right]"
      ],
      "text/plain": [
       "<IPython.core.display.Markdown object>"
      ]
     },
     "metadata": {},
     "output_type": "display_data"
    }
   ],
   "source": [
    "# Página 99 ejercicio 16\n",
    "\n",
    "# Bayes\n",
    "\n",
    "\n",
    "pr1=25\n",
    "pr2=10\n",
    "datos = [[['M',2],['H',1]],[['R',pr1],['NR',100-pr1]],[['R',pr2],['NR',100-pr2]]]\n",
    "\n",
    "texto_ejercicio = r\"\"\"En una población hay el doble de mujeres que de hombres. \n",
    "El {}\\% de las mujeres y el  {}\\% de los hombres\n",
    "son rubios\n",
    "\"\"\".format(pr1,pr2)\n",
    "\n",
    "n_ejercicio = 'p099e16'\n",
    "\n",
    "display(md(\"**\"+texto_ejercicio+\"**\"))\n",
    "\n",
    "diccionarios = [datos_cualitativa(datos[i]) for i,s  in enumerate(datos)]\n",
    "sexo = FiniteRV('sexo',density=diccionarios[0][0])\n",
    "\n",
    "\n",
    "si_1 = FiniteRV('si_1',density=diccionarios[1][0])\n",
    "si_2 = FiniteRV('si_2',density=diccionarios[2][0])\n",
    "\n",
    "display(density(sexo).dict,density(si_1).dict,density(si_2).dict)\n",
    "\n",
    "enunciado_latex, enunciado, solucion = [],[],[]\n",
    "\n",
    "en = r\"\"\"i) Si se elige al azar una persona y resulta ser rubia, ¿cuál es la probabilidad de que sea mujer?\n",
    "ii) ¿Cuál es la probabilidad de que una persona elegida al azar sea hombre y no sea rubia?\"\"\" \n",
    "\n",
    "enunciado_latex.append(en)\n",
    "enunciado = str(en)\n",
    "\n",
    "#P(Eq(frances,val_1.index('F')))\n",
    "\n",
    "p1 = (P(Eq(sexo,0))*P(Eq(si_1,0)))/(P(Eq(sexo,0))*P(Eq(si_1,0))+P(Eq(sexo,1))*P(Eq(si_2,0)))\n",
    "p2 = P(Eq(sexo,1))*P(Eq(si_2,1))\n",
    "solucion.append(latex([nsimplify(p1),\n",
    "                       nsimplify(p2)\n",
    "               ]))\n",
    "\n",
    "display(md(\"\"+ enunciado_latex[0] +\" \\\\rightarrow \" + solucion[0] +\"\"))\n",
    "\n",
    "df_ejercicios = df_ejercicios.append(añadir_ejercicios(enunciado_latex, enunciado, solucion, texto_ejercicio, curso, titulo , n_ejercicio, '1', '2', enun_tex=False), ignore_index=True)\n",
    " "
   ]
  },
  {
   "cell_type": "code",
   "execution_count": 10,
   "metadata": {},
   "outputs": [
    {
     "data": {
      "text/markdown": [
       "**Se eligen al azar 2 tarjetas de un total de 9. Cada una lleva escrito un número del 1 al 9. Se sabe que la suma\n",
       "de los dígitos de las tarjetas es par.\n",
       "**"
      ],
      "text/plain": [
       "<IPython.core.display.Markdown object>"
      ]
     },
     "metadata": {},
     "output_type": "display_data"
    },
    {
     "data": {
      "image/png": "[encoded data removed]",
      "text/latex": [
       "$\\displaystyle \\left\\{ 0 : 0.555555555555556, \\  1 : 0.444444444444444\\right\\}$"
      ],
      "text/plain": [
       "{0: 0.555555555555556, 1: 0.444444444444444}"
      ]
     },
     "metadata": {},
     "output_type": "display_data"
    },
    {
     "data": {
      "image/png": "[encoded data removed]",
      "text/latex": [
       "$\\displaystyle \\left\\{ 0 : 0.5, \\  1 : 0.5\\right\\}$"
      ],
      "text/plain": [
       "{0: 0.5, 1: 0.5}"
      ]
     },
     "metadata": {},
     "output_type": "display_data"
    },
    {
     "data": {
      "image/png": "[encoded data removed]",
      "text/latex": [
       "$\\displaystyle \\left\\{ 0 : 0.625, \\  1 : 0.375\\right\\}$"
      ],
      "text/plain": [
       "{0: 0.625, 1: 0.375}"
      ]
     },
     "metadata": {},
     "output_type": "display_data"
    },
    {
     "data": {
      "text/markdown": [
       "Calcula la probabilidad de que las tarjetas elegidas lleven escritos\n",
       "números impares. \\rightarrow \\left[ \\frac{5}{18}\\right]"
      ],
      "text/plain": [
       "<IPython.core.display.Markdown object>"
      ]
     },
     "metadata": {},
     "output_type": "display_data"
    }
   ],
   "source": [
    "# Página 99 ejercicio 17\n",
    "\n",
    "\n",
    "datos = [['I',5],['P',4]]\n",
    "\n",
    "texto_ejercicio = r\"\"\"Se eligen al azar 2 tarjetas de un total de 9. Cada una lleva escrito un número del 1 al 9. Se sabe que la suma\n",
    "de los dígitos de las tarjetas es par.\n",
    "\"\"\".format(pr1,pr2)\n",
    "\n",
    "n_ejercicio = 'p099e17'\n",
    "\n",
    "display(md(\"**\"+texto_ejercicio+\"**\"))\n",
    "\n",
    "remplazamiento=False\n",
    "\n",
    "ini = FiniteRV('ini',density=extracciones(datos, remplazamiento)[0][0])\n",
    "si_1 = FiniteRV('si_1',density=extracciones(datos, remplazamiento)[1][0])\n",
    "si_2 = FiniteRV('si_2',density=extracciones(datos, remplazamiento)[2][0])\n",
    "\n",
    "display(density(ini).dict,density(si_1).dict,density(si_2).dict)\n",
    "\n",
    "enunciado_latex, enunciado, solucion = [],[],[]\n",
    "\n",
    "en = r\"\"\"Calcula la probabilidad de que las tarjetas elegidas lleven escritos\n",
    "números impares.\"\"\" \n",
    "\n",
    "enunciado_latex.append(en)\n",
    "enunciado = str(en)\n",
    "\n",
    "#P(Eq(frances,val_1.index('F')))\n",
    "\n",
    "p1 = P(Eq(ini,0))*P(Eq(si_1,0))\n",
    "\n",
    "solucion.append(latex([nsimplify(p1)\n",
    "               ]))\n",
    "\n",
    "display(md(\"\"+ enunciado_latex[0] +\" \\\\rightarrow \" + solucion[0] +\"\"))\n",
    "\n",
    "df_ejercicios = df_ejercicios.append(añadir_ejercicios(enunciado_latex, enunciado, solucion, texto_ejercicio, curso, titulo , n_ejercicio, '1', '2', enun_tex=False), ignore_index=True)\n",
    " "
   ]
  },
  {
   "cell_type": "code",
   "execution_count": 11,
   "metadata": {},
   "outputs": [
    {
     "data": {
      "text/markdown": [
       "**Dos máquinas se usan para producir marcapasos. La máquina A produce el 75\\% de todos los marcapasos.\n",
       "El 1\\% de todos los marcapasos producidos por la máquina A son defectuosos, mientras que el 2\\% de los\n",
       "marcapasos producidos por la máquina B son defectuosos. Se selecciona un marcapasos al azar de entre\n",
       "todos los producidos\n",
       "**"
      ],
      "text/plain": [
       "<IPython.core.display.Markdown object>"
      ]
     },
     "metadata": {},
     "output_type": "display_data"
    },
    {
     "data": {
      "image/png": "[encoded data removed]",
      "text/latex": [
       "$\\displaystyle \\left\\{ 0 : 0.666666666666667, \\  1 : 0.333333333333333\\right\\}$"
      ],
      "text/plain": [
       "{0: 0.666666666666667, 1: 0.333333333333333}"
      ]
     },
     "metadata": {},
     "output_type": "display_data"
    },
    {
     "data": {
      "image/png": "[encoded data removed]",
      "text/latex": [
       "$\\displaystyle \\left\\{ 0 : 0.01, \\  1 : 0.99\\right\\}$"
      ],
      "text/plain": [
       "{0: 0.01, 1: 0.99}"
      ]
     },
     "metadata": {},
     "output_type": "display_data"
    },
    {
     "data": {
      "image/png": "[encoded data removed]",
      "text/latex": [
       "$\\displaystyle \\left\\{ 0 : 0.02, \\  1 : 0.98\\right\\}$"
      ],
      "text/plain": [
       "{0: 0.02, 1: 0.98}"
      ]
     },
     "metadata": {},
     "output_type": "display_data"
    },
    {
     "data": {
      "text/markdown": [
       "i) calcular la probabilidad de que sea defectuoso\n",
       "ii) Si sabemos que el marcapasos es defectuoso, calcula la probabilidad de que haya sido producido por la\n",
       "máquina A. \\rightarrow \\left[ \\frac{1}{80}, \\  \\frac{3}{5}\\right]"
      ],
      "text/plain": [
       "<IPython.core.display.Markdown object>"
      ]
     },
     "metadata": {},
     "output_type": "display_data"
    }
   ],
   "source": [
    "# Página 99 ejercicio 18\n",
    "\n",
    "# Bayes\n",
    "\n",
    "\n",
    "pr0=75\n",
    "pr1=1\n",
    "pr2=2\n",
    "datos = [[['A',pr0],['B',100-pr0]],[['D',pr1],['ND',100-pr1]],[['D',pr2],['ND',100-pr2]]]\n",
    "\n",
    "texto_ejercicio = r\"\"\"Dos máquinas se usan para producir marcapasos. La máquina A produce el {}\\% de todos los marcapasos.\n",
    "El {}\\% de todos los marcapasos producidos por la máquina A son defectuosos, mientras que el {}\\% de los\n",
    "marcapasos producidos por la máquina B son defectuosos. Se selecciona un marcapasos al azar de entre\n",
    "todos los producidos\n",
    "\"\"\".format(pr0,pr1,pr2)\n",
    "\n",
    "n_ejercicio = 'p099e18'\n",
    "\n",
    "display(md(\"**\"+texto_ejercicio+\"**\"))\n",
    "\n",
    "diccionarios = [datos_cualitativa(datos[i]) for i,s  in enumerate(datos)]\n",
    "\n",
    "ini = FiniteRV('ini',density=diccionarios[0][0])\n",
    "si_1 = FiniteRV('si_1',density=diccionarios[1][0])\n",
    "si_2 = FiniteRV('si_2',density=diccionarios[2][0])\n",
    "\n",
    "display(density(sexo).dict,density(si_1).dict,density(si_2).dict)\n",
    "\n",
    "enunciado_latex, enunciado, solucion = [],[],[]\n",
    "\n",
    "en = r\"\"\"i) calcular la probabilidad de que sea defectuoso\n",
    "ii) Si sabemos que el marcapasos es defectuoso, calcula la probabilidad de que haya sido producido por la\n",
    "máquina A.\"\"\" \n",
    "\n",
    "enunciado_latex.append(en)\n",
    "enunciado = str(en)\n",
    "\n",
    "#P(Eq(frances,val_1.index('F')))\n",
    "\n",
    "p1 = P(Eq(ini,0))*P(Eq(si_1,0))+P(Eq(ini,1))*P(Eq(si_2,0))\n",
    "p2 = (P(Eq(ini,0))*P(Eq(si_1,0)))/(P(Eq(ini,0))*P(Eq(si_1,0))+P(Eq(ini,1))*P(Eq(si_2,0)))\n",
    "solucion.append(latex([nsimplify(p1),\n",
    "                       nsimplify(p2)\n",
    "               ]))\n",
    "\n",
    "display(md(\"\"+ enunciado_latex[0] +\" \\\\rightarrow \" + solucion[0] +\"\"))\n",
    "\n",
    "df_ejercicios = df_ejercicios.append(añadir_ejercicios(enunciado_latex, enunciado, solucion, texto_ejercicio, curso, titulo , n_ejercicio, '1', '2', enun_tex=False), ignore_index=True)\n",
    " "
   ]
  },
  {
   "cell_type": "code",
   "execution_count": 12,
   "metadata": {},
   "outputs": [
    {
     "data": {
      "text/markdown": [
       "**Dos máquinas se usan para producir tornillos. La máquina A produce el 70\\% de todos los tornillos.\n",
       "El 2\\% de todos los tornillos producidos por la máquina A son defectuosos, mientras que el 3\\% de los\n",
       " producidos por la máquina B son defectuosos. Se selecciona un tornillo al azar de entre\n",
       "todos los producidos\n",
       "**"
      ],
      "text/plain": [
       "<IPython.core.display.Markdown object>"
      ]
     },
     "metadata": {},
     "output_type": "display_data"
    },
    {
     "data": {
      "image/png": "[encoded data removed]",
      "text/latex": [
       "$\\displaystyle \\left\\{ 0 : 0.7, \\  1 : 0.3\\right\\}$"
      ],
      "text/plain": [
       "{0: 0.7, 1: 0.3}"
      ]
     },
     "metadata": {},
     "output_type": "display_data"
    },
    {
     "data": {
      "image/png": "[encoded data removed]",
      "text/latex": [
       "$\\displaystyle \\left\\{ 0 : 0.02, \\  1 : 0.98\\right\\}$"
      ],
      "text/plain": [
       "{0: 0.02, 1: 0.98}"
      ]
     },
     "metadata": {},
     "output_type": "display_data"
    },
    {
     "data": {
      "image/png": "[encoded data removed]",
      "text/latex": [
       "$\\displaystyle \\left\\{ 0 : 0.03, \\  1 : 0.97\\right\\}$"
      ],
      "text/plain": [
       "{0: 0.03, 1: 0.97}"
      ]
     },
     "metadata": {},
     "output_type": "display_data"
    },
    {
     "data": {
      "text/markdown": [
       "i) calcular la probabilidad de que sea defectuoso\n",
       "ii) Si sabemos que el tornillo es defectuoso, calcula la probabilidad de que haya sido producido por la\n",
       "máquina A. \\rightarrow \\left[ \\frac{23}{1000}, \\  \\frac{14}{23}\\right]"
      ],
      "text/plain": [
       "<IPython.core.display.Markdown object>"
      ]
     },
     "metadata": {},
     "output_type": "display_data"
    }
   ],
   "source": [
    "# Página 99 ejercicio 18\n",
    "\n",
    "# Bayes\n",
    "\n",
    "\n",
    "pr0=70\n",
    "pr1=2\n",
    "pr2=3\n",
    "datos = [[['A',pr0],['B',100-pr0]],[['D',pr1],['ND',100-pr1]],[['D',pr2],['ND',100-pr2]]]\n",
    "\n",
    "texto_ejercicio = r\"\"\"Dos máquinas se usan para producir tornillos. La máquina A produce el {}\\% de todos los tornillos.\n",
    "El {}\\% de todos los tornillos producidos por la máquina A son defectuosos, mientras que el {}\\% de los\n",
    " producidos por la máquina B son defectuosos. Se selecciona un tornillo al azar de entre\n",
    "todos los producidos\n",
    "\"\"\".format(pr0,pr1,pr2)\n",
    "\n",
    "n_ejercicio = 'p099e18'\n",
    "\n",
    "display(md(\"**\"+texto_ejercicio+\"**\"))\n",
    "\n",
    "diccionarios = [datos_cualitativa(datos[i]) for i,s  in enumerate(datos)]\n",
    "\n",
    "ini = FiniteRV('ini',density=diccionarios[0][0])\n",
    "si_1 = FiniteRV('si_1',density=diccionarios[1][0])\n",
    "si_2 = FiniteRV('si_2',density=diccionarios[2][0])\n",
    "\n",
    "display(density(ini).dict,density(si_1).dict,density(si_2).dict)\n",
    "\n",
    "enunciado_latex, enunciado, solucion = [],[],[]\n",
    "\n",
    "en = r\"\"\"i) calcular la probabilidad de que sea defectuoso\n",
    "ii) Si sabemos que el tornillo es defectuoso, calcula la probabilidad de que haya sido producido por la\n",
    "máquina A.\"\"\" \n",
    "\n",
    "enunciado_latex.append(en)\n",
    "enunciado = str(en)\n",
    "\n",
    "#P(Eq(frances,val_1.index('F')))\n",
    "\n",
    "p1 = P(Eq(ini,0))*P(Eq(si_1,0))+P(Eq(ini,1))*P(Eq(si_2,0))\n",
    "p2 = (P(Eq(ini,0))*P(Eq(si_1,0)))/(P(Eq(ini,0))*P(Eq(si_1,0))+P(Eq(ini,1))*P(Eq(si_2,0)))\n",
    "solucion.append(latex([nsimplify(p1),\n",
    "                       nsimplify(p2)\n",
    "               ]))\n",
    "\n",
    "display(md(\"\"+ enunciado_latex[0] +\" \\\\rightarrow \" + solucion[0] +\"\"))\n",
    "\n",
    "df_ejercicios = df_ejercicios.append(añadir_ejercicios(enunciado_latex, enunciado, solucion, texto_ejercicio, curso, titulo , n_ejercicio, '1', '2', enun_tex=False), ignore_index=True)\n",
    " "
   ]
  },
  {
   "cell_type": "code",
   "execution_count": 13,
   "metadata": {},
   "outputs": [],
   "source": [
    "df_ejercicios.to_csv('ejercicios43.csv', index = False)"
   ]
  },
  {
   "cell_type": "code",
   "execution_count": 14,
   "metadata": {},
   "outputs": [],
   "source": [
    "df_ejercicios = pd.read_csv('ejercicios43.csv', index_col= None)"
   ]
  },
  {
   "cell_type": "code",
   "execution_count": 15,
   "metadata": {},
   "outputs": [
    {
     "data": {
      "text/html": [
       "<div>\n",
       "<style scoped>\n",
       "    .dataframe tbody tr th:only-of-type {\n",
       "        vertical-align: middle;\n",
       "    }\n",
       "\n",
       "    .dataframe tbody tr th {\n",
       "        vertical-align: top;\n",
       "    }\n",
       "\n",
       "    .dataframe thead th {\n",
       "        text-align: right;\n",
       "    }\n",
       "</style>\n",
       "<table border=\"1\" class=\"dataframe\">\n",
       "  <thead>\n",
       "    <tr style=\"text-align: right;\">\n",
       "      <th></th>\n",
       "      <th>enunciado_latex</th>\n",
       "      <th>enunciado</th>\n",
       "      <th>solucion</th>\n",
       "      <th>texto</th>\n",
       "      <th>curso</th>\n",
       "      <th>titulo</th>\n",
       "      <th>n_ejercicio</th>\n",
       "      <th>dificultad</th>\n",
       "      <th>n_columnas</th>\n",
       "      <th>puntos</th>\n",
       "      <th>enun_tex</th>\n",
       "      <th>sol_tex</th>\n",
       "    </tr>\n",
       "  </thead>\n",
       "  <tbody>\n",
       "    <tr>\n",
       "      <th>0</th>\n",
       "      <td>i) Francés \\\\ \\\\nii) Inglés \\\\ \\\\niii) Ambos i...</td>\n",
       "      <td>i) Francés \\\\ \\\\nii) Inglés \\\\ \\\\niii) Ambos i...</td>\n",
       "      <td>\\left[ \\frac{16}{39}, \\  \\frac{9}{13}, \\  \\fra...</td>\n",
       "      <td>De los 39 alumnos de una clase, 16 escogieron ...</td>\n",
       "      <td>1BC</td>\n",
       "      <td>43 - Probabilidad</td>\n",
       "      <td>p098e05</td>\n",
       "      <td>1</td>\n",
       "      <td>2</td>\n",
       "      <td>1</td>\n",
       "      <td>False</td>\n",
       "      <td>True</td>\n",
       "    </tr>\n",
       "    <tr>\n",
       "      <th>1</th>\n",
       "      <td>i) Ser mayor de 30 años y estar casado \\\\ \\\\ni...</td>\n",
       "      <td>i) Ser mayor de 30 años y estar casado \\\\ \\\\ni...</td>\n",
       "      <td>\\left[ \\frac{19}{50}, \\  \\frac{11}{20}\\right]</td>\n",
       "      <td>En la ciudad, el 53\\% de sus habitantes es may...</td>\n",
       "      <td>1BC</td>\n",
       "      <td>43 - Probabilidad</td>\n",
       "      <td>p098e06</td>\n",
       "      <td>1</td>\n",
       "      <td>2</td>\n",
       "      <td>1</td>\n",
       "      <td>False</td>\n",
       "      <td>True</td>\n",
       "    </tr>\n",
       "    <tr>\n",
       "      <th>2</th>\n",
       "      <td>i) Con devolución a la urna de la primera bola...</td>\n",
       "      <td>i) Con devolución a la urna de la primera bola...</td>\n",
       "      <td>\\left[ \\frac{4}{25}, \\  \\frac{3}{20}\\right]</td>\n",
       "      <td>Se tiene una urna con 15 bolas negras y 10 bla...</td>\n",
       "      <td>1BC</td>\n",
       "      <td>43 - Probabilidad</td>\n",
       "      <td>p098e08</td>\n",
       "      <td>1</td>\n",
       "      <td>2</td>\n",
       "      <td>1</td>\n",
       "      <td>False</td>\n",
       "      <td>True</td>\n",
       "    </tr>\n",
       "    <tr>\n",
       "      <th>3</th>\n",
       "      <td>i) Que las dos bolas sean rojas\\nii) Que haya ...</td>\n",
       "      <td>i) Que las dos bolas sean rojas\\nii) Que haya ...</td>\n",
       "      <td>\\left[ \\frac{1}{4}, \\  \\frac{11}{36}, \\  \\frac...</td>\n",
       "      <td>Una urna contiene 3 bolas rojas, 2 verdes y 1 ...</td>\n",
       "      <td>1BC</td>\n",
       "      <td>43 - Probabilidad</td>\n",
       "      <td>p098e09</td>\n",
       "      <td>1</td>\n",
       "      <td>2</td>\n",
       "      <td>1</td>\n",
       "      <td>False</td>\n",
       "      <td>True</td>\n",
       "    </tr>\n",
       "    <tr>\n",
       "      <th>4</th>\n",
       "      <td>i) Si se elige al azar una persona y resulta s...</td>\n",
       "      <td>i) Si se elige al azar una persona y resulta s...</td>\n",
       "      <td>\\left[ \\frac{5}{6}, \\  \\frac{3}{10}\\right]</td>\n",
       "      <td>En una población hay el doble de mujeres que d...</td>\n",
       "      <td>1BC</td>\n",
       "      <td>43 - Probabilidad</td>\n",
       "      <td>p099e16</td>\n",
       "      <td>1</td>\n",
       "      <td>2</td>\n",
       "      <td>1</td>\n",
       "      <td>False</td>\n",
       "      <td>True</td>\n",
       "    </tr>\n",
       "    <tr>\n",
       "      <th>5</th>\n",
       "      <td>Calcula la probabilidad de que las tarjetas el...</td>\n",
       "      <td>Calcula la probabilidad de que las tarjetas el...</td>\n",
       "      <td>\\left[ \\frac{5}{18}\\right]</td>\n",
       "      <td>Se eligen al azar 2 tarjetas de un total de 9....</td>\n",
       "      <td>1BC</td>\n",
       "      <td>43 - Probabilidad</td>\n",
       "      <td>p099e17</td>\n",
       "      <td>1</td>\n",
       "      <td>2</td>\n",
       "      <td>1</td>\n",
       "      <td>False</td>\n",
       "      <td>True</td>\n",
       "    </tr>\n",
       "    <tr>\n",
       "      <th>6</th>\n",
       "      <td>i) calcular la probabilidad de que sea defectu...</td>\n",
       "      <td>i) calcular la probabilidad de que sea defectu...</td>\n",
       "      <td>\\left[ \\frac{1}{80}, \\  \\frac{3}{5}\\right]</td>\n",
       "      <td>Dos máquinas se usan para producir marcapasos....</td>\n",
       "      <td>1BC</td>\n",
       "      <td>43 - Probabilidad</td>\n",
       "      <td>p099e18</td>\n",
       "      <td>1</td>\n",
       "      <td>2</td>\n",
       "      <td>1</td>\n",
       "      <td>False</td>\n",
       "      <td>True</td>\n",
       "    </tr>\n",
       "    <tr>\n",
       "      <th>7</th>\n",
       "      <td>i) calcular la probabilidad de que sea defectu...</td>\n",
       "      <td>i) calcular la probabilidad de que sea defectu...</td>\n",
       "      <td>\\left[ \\frac{23}{1000}, \\  \\frac{14}{23}\\right]</td>\n",
       "      <td>Dos máquinas se usan para producir tornillos. ...</td>\n",
       "      <td>1BC</td>\n",
       "      <td>43 - Probabilidad</td>\n",
       "      <td>p099e18</td>\n",
       "      <td>1</td>\n",
       "      <td>2</td>\n",
       "      <td>1</td>\n",
       "      <td>False</td>\n",
       "      <td>True</td>\n",
       "    </tr>\n",
       "  </tbody>\n",
       "</table>\n",
       "</div>"
      ],
      "text/plain": [
       "                                     enunciado_latex  \\\n",
       "0  i) Francés \\\\ \\\\nii) Inglés \\\\ \\\\niii) Ambos i...   \n",
       "1  i) Ser mayor de 30 años y estar casado \\\\ \\\\ni...   \n",
       "2  i) Con devolución a la urna de la primera bola...   \n",
       "3  i) Que las dos bolas sean rojas\\nii) Que haya ...   \n",
       "4  i) Si se elige al azar una persona y resulta s...   \n",
       "5  Calcula la probabilidad de que las tarjetas el...   \n",
       "6  i) calcular la probabilidad de que sea defectu...   \n",
       "7  i) calcular la probabilidad de que sea defectu...   \n",
       "\n",
       "                                           enunciado  \\\n",
       "0  i) Francés \\\\ \\\\nii) Inglés \\\\ \\\\niii) Ambos i...   \n",
       "1  i) Ser mayor de 30 años y estar casado \\\\ \\\\ni...   \n",
       "2  i) Con devolución a la urna de la primera bola...   \n",
       "3  i) Que las dos bolas sean rojas\\nii) Que haya ...   \n",
       "4  i) Si se elige al azar una persona y resulta s...   \n",
       "5  Calcula la probabilidad de que las tarjetas el...   \n",
       "6  i) calcular la probabilidad de que sea defectu...   \n",
       "7  i) calcular la probabilidad de que sea defectu...   \n",
       "\n",
       "                                            solucion  \\\n",
       "0  \\left[ \\frac{16}{39}, \\  \\frac{9}{13}, \\  \\fra...   \n",
       "1      \\left[ \\frac{19}{50}, \\  \\frac{11}{20}\\right]   \n",
       "2        \\left[ \\frac{4}{25}, \\  \\frac{3}{20}\\right]   \n",
       "3  \\left[ \\frac{1}{4}, \\  \\frac{11}{36}, \\  \\frac...   \n",
       "4         \\left[ \\frac{5}{6}, \\  \\frac{3}{10}\\right]   \n",
       "5                         \\left[ \\frac{5}{18}\\right]   \n",
       "6         \\left[ \\frac{1}{80}, \\  \\frac{3}{5}\\right]   \n",
       "7    \\left[ \\frac{23}{1000}, \\  \\frac{14}{23}\\right]   \n",
       "\n",
       "                                               texto curso             titulo  \\\n",
       "0  De los 39 alumnos de una clase, 16 escogieron ...   1BC  43 - Probabilidad   \n",
       "1  En la ciudad, el 53\\% de sus habitantes es may...   1BC  43 - Probabilidad   \n",
       "2  Se tiene una urna con 15 bolas negras y 10 bla...   1BC  43 - Probabilidad   \n",
       "3  Una urna contiene 3 bolas rojas, 2 verdes y 1 ...   1BC  43 - Probabilidad   \n",
       "4  En una población hay el doble de mujeres que d...   1BC  43 - Probabilidad   \n",
       "5  Se eligen al azar 2 tarjetas de un total de 9....   1BC  43 - Probabilidad   \n",
       "6  Dos máquinas se usan para producir marcapasos....   1BC  43 - Probabilidad   \n",
       "7  Dos máquinas se usan para producir tornillos. ...   1BC  43 - Probabilidad   \n",
       "\n",
       "  n_ejercicio  dificultad  n_columnas  puntos  enun_tex  sol_tex  \n",
       "0     p098e05           1           2       1     False     True  \n",
       "1     p098e06           1           2       1     False     True  \n",
       "2     p098e08           1           2       1     False     True  \n",
       "3     p098e09           1           2       1     False     True  \n",
       "4     p099e16           1           2       1     False     True  \n",
       "5     p099e17           1           2       1     False     True  \n",
       "6     p099e18           1           2       1     False     True  \n",
       "7     p099e18           1           2       1     False     True  "
      ]
     },
     "execution_count": 15,
     "metadata": {},
     "output_type": "execute_result"
    }
   ],
   "source": [
    "df_ejercicios"
   ]
  },
  {
   "cell_type": "code",
   "execution_count": 16,
   "metadata": {},
   "outputs": [],
   "source": [
    "df_ejercicios.to_csv('tmp.csv', index = False)"
   ]
  },
  {
   "cell_type": "code",
   "execution_count": 17,
   "metadata": {},
   "outputs": [
    {
     "data": {
      "text/markdown": [
       "**Ejercicio: **p098e05"
      ],
      "text/plain": [
       "<IPython.core.display.Markdown object>"
      ]
     },
     "metadata": {},
     "output_type": "display_data"
    },
    {
     "data": {
      "text/html": [
       "<div>\n",
       "<style scoped>\n",
       "    .dataframe tbody tr th:only-of-type {\n",
       "        vertical-align: middle;\n",
       "    }\n",
       "\n",
       "    .dataframe tbody tr th {\n",
       "        vertical-align: top;\n",
       "    }\n",
       "\n",
       "    .dataframe thead th {\n",
       "        text-align: right;\n",
       "    }\n",
       "</style>\n",
       "<table border=\"1\" class=\"dataframe\">\n",
       "  <thead>\n",
       "    <tr style=\"text-align: right;\">\n",
       "      <th></th>\n",
       "      <th>enunciado_latex</th>\n",
       "      <th>enunciado</th>\n",
       "      <th>solucion</th>\n",
       "      <th>texto</th>\n",
       "      <th>curso</th>\n",
       "      <th>titulo</th>\n",
       "      <th>n_ejercicio</th>\n",
       "      <th>dificultad</th>\n",
       "      <th>n_columnas</th>\n",
       "      <th>puntos</th>\n",
       "      <th>enun_tex</th>\n",
       "      <th>sol_tex</th>\n",
       "    </tr>\n",
       "  </thead>\n",
       "  <tbody>\n",
       "    <tr>\n",
       "      <th>0</th>\n",
       "      <td>i) Francés \\\\ \\\\nii) Inglés \\\\ \\\\niii) Ambos i...</td>\n",
       "      <td>i) Francés \\\\ \\\\nii) Inglés \\\\ \\\\niii) Ambos i...</td>\n",
       "      <td>\\left[ \\frac{16}{39}, \\  \\frac{9}{13}, \\  \\fra...</td>\n",
       "      <td>De los 39 alumnos de una clase, 16 escogieron ...</td>\n",
       "      <td>1BC</td>\n",
       "      <td>43 - Probabilidad</td>\n",
       "      <td>p098e05</td>\n",
       "      <td>1</td>\n",
       "      <td>2</td>\n",
       "      <td>1</td>\n",
       "      <td>False</td>\n",
       "      <td>True</td>\n",
       "    </tr>\n",
       "  </tbody>\n",
       "</table>\n",
       "</div>"
      ],
      "text/plain": [
       "                                     enunciado_latex  \\\n",
       "0  i) Francés \\\\ \\\\nii) Inglés \\\\ \\\\niii) Ambos i...   \n",
       "\n",
       "                                           enunciado  \\\n",
       "0  i) Francés \\\\ \\\\nii) Inglés \\\\ \\\\niii) Ambos i...   \n",
       "\n",
       "                                            solucion  \\\n",
       "0  \\left[ \\frac{16}{39}, \\  \\frac{9}{13}, \\  \\fra...   \n",
       "\n",
       "                                               texto curso             titulo  \\\n",
       "0  De los 39 alumnos de una clase, 16 escogieron ...   1BC  43 - Probabilidad   \n",
       "\n",
       "  n_ejercicio  dificultad  n_columnas  puntos  enun_tex  sol_tex  \n",
       "0     p098e05           1           2       1     False     True  "
      ]
     },
     "metadata": {},
     "output_type": "display_data"
    },
    {
     "data": {
      "text/markdown": [
       "**Ejercicio: **p098e06"
      ],
      "text/plain": [
       "<IPython.core.display.Markdown object>"
      ]
     },
     "metadata": {},
     "output_type": "display_data"
    },
    {
     "data": {
      "text/html": [
       "<div>\n",
       "<style scoped>\n",
       "    .dataframe tbody tr th:only-of-type {\n",
       "        vertical-align: middle;\n",
       "    }\n",
       "\n",
       "    .dataframe tbody tr th {\n",
       "        vertical-align: top;\n",
       "    }\n",
       "\n",
       "    .dataframe thead th {\n",
       "        text-align: right;\n",
       "    }\n",
       "</style>\n",
       "<table border=\"1\" class=\"dataframe\">\n",
       "  <thead>\n",
       "    <tr style=\"text-align: right;\">\n",
       "      <th></th>\n",
       "      <th>enunciado_latex</th>\n",
       "      <th>enunciado</th>\n",
       "      <th>solucion</th>\n",
       "      <th>texto</th>\n",
       "      <th>curso</th>\n",
       "      <th>titulo</th>\n",
       "      <th>n_ejercicio</th>\n",
       "      <th>dificultad</th>\n",
       "      <th>n_columnas</th>\n",
       "      <th>puntos</th>\n",
       "      <th>enun_tex</th>\n",
       "      <th>sol_tex</th>\n",
       "    </tr>\n",
       "  </thead>\n",
       "  <tbody>\n",
       "    <tr>\n",
       "      <th>1</th>\n",
       "      <td>i) Ser mayor de 30 años y estar casado \\\\ \\\\ni...</td>\n",
       "      <td>i) Ser mayor de 30 años y estar casado \\\\ \\\\ni...</td>\n",
       "      <td>\\left[ \\frac{19}{50}, \\  \\frac{11}{20}\\right]</td>\n",
       "      <td>En la ciudad, el 53\\% de sus habitantes es may...</td>\n",
       "      <td>1BC</td>\n",
       "      <td>43 - Probabilidad</td>\n",
       "      <td>p098e06</td>\n",
       "      <td>1</td>\n",
       "      <td>2</td>\n",
       "      <td>1</td>\n",
       "      <td>False</td>\n",
       "      <td>True</td>\n",
       "    </tr>\n",
       "  </tbody>\n",
       "</table>\n",
       "</div>"
      ],
      "text/plain": [
       "                                     enunciado_latex  \\\n",
       "1  i) Ser mayor de 30 años y estar casado \\\\ \\\\ni...   \n",
       "\n",
       "                                           enunciado  \\\n",
       "1  i) Ser mayor de 30 años y estar casado \\\\ \\\\ni...   \n",
       "\n",
       "                                        solucion  \\\n",
       "1  \\left[ \\frac{19}{50}, \\  \\frac{11}{20}\\right]   \n",
       "\n",
       "                                               texto curso             titulo  \\\n",
       "1  En la ciudad, el 53\\% de sus habitantes es may...   1BC  43 - Probabilidad   \n",
       "\n",
       "  n_ejercicio  dificultad  n_columnas  puntos  enun_tex  sol_tex  \n",
       "1     p098e06           1           2       1     False     True  "
      ]
     },
     "metadata": {},
     "output_type": "display_data"
    },
    {
     "data": {
      "text/markdown": [
       "**Ejercicio: **p098e08"
      ],
      "text/plain": [
       "<IPython.core.display.Markdown object>"
      ]
     },
     "metadata": {},
     "output_type": "display_data"
    },
    {
     "data": {
      "text/html": [
       "<div>\n",
       "<style scoped>\n",
       "    .dataframe tbody tr th:only-of-type {\n",
       "        vertical-align: middle;\n",
       "    }\n",
       "\n",
       "    .dataframe tbody tr th {\n",
       "        vertical-align: top;\n",
       "    }\n",
       "\n",
       "    .dataframe thead th {\n",
       "        text-align: right;\n",
       "    }\n",
       "</style>\n",
       "<table border=\"1\" class=\"dataframe\">\n",
       "  <thead>\n",
       "    <tr style=\"text-align: right;\">\n",
       "      <th></th>\n",
       "      <th>enunciado_latex</th>\n",
       "      <th>enunciado</th>\n",
       "      <th>solucion</th>\n",
       "      <th>texto</th>\n",
       "      <th>curso</th>\n",
       "      <th>titulo</th>\n",
       "      <th>n_ejercicio</th>\n",
       "      <th>dificultad</th>\n",
       "      <th>n_columnas</th>\n",
       "      <th>puntos</th>\n",
       "      <th>enun_tex</th>\n",
       "      <th>sol_tex</th>\n",
       "    </tr>\n",
       "  </thead>\n",
       "  <tbody>\n",
       "    <tr>\n",
       "      <th>2</th>\n",
       "      <td>i) Con devolución a la urna de la primera bola...</td>\n",
       "      <td>i) Con devolución a la urna de la primera bola...</td>\n",
       "      <td>\\left[ \\frac{4}{25}, \\  \\frac{3}{20}\\right]</td>\n",
       "      <td>Se tiene una urna con 15 bolas negras y 10 bla...</td>\n",
       "      <td>1BC</td>\n",
       "      <td>43 - Probabilidad</td>\n",
       "      <td>p098e08</td>\n",
       "      <td>1</td>\n",
       "      <td>2</td>\n",
       "      <td>1</td>\n",
       "      <td>False</td>\n",
       "      <td>True</td>\n",
       "    </tr>\n",
       "  </tbody>\n",
       "</table>\n",
       "</div>"
      ],
      "text/plain": [
       "                                     enunciado_latex  \\\n",
       "2  i) Con devolución a la urna de la primera bola...   \n",
       "\n",
       "                                           enunciado  \\\n",
       "2  i) Con devolución a la urna de la primera bola...   \n",
       "\n",
       "                                      solucion  \\\n",
       "2  \\left[ \\frac{4}{25}, \\  \\frac{3}{20}\\right]   \n",
       "\n",
       "                                               texto curso             titulo  \\\n",
       "2  Se tiene una urna con 15 bolas negras y 10 bla...   1BC  43 - Probabilidad   \n",
       "\n",
       "  n_ejercicio  dificultad  n_columnas  puntos  enun_tex  sol_tex  \n",
       "2     p098e08           1           2       1     False     True  "
      ]
     },
     "metadata": {},
     "output_type": "display_data"
    },
    {
     "data": {
      "text/markdown": [
       "**Ejercicio: **p098e09"
      ],
      "text/plain": [
       "<IPython.core.display.Markdown object>"
      ]
     },
     "metadata": {},
     "output_type": "display_data"
    },
    {
     "data": {
      "text/html": [
       "<div>\n",
       "<style scoped>\n",
       "    .dataframe tbody tr th:only-of-type {\n",
       "        vertical-align: middle;\n",
       "    }\n",
       "\n",
       "    .dataframe tbody tr th {\n",
       "        vertical-align: top;\n",
       "    }\n",
       "\n",
       "    .dataframe thead th {\n",
       "        text-align: right;\n",
       "    }\n",
       "</style>\n",
       "<table border=\"1\" class=\"dataframe\">\n",
       "  <thead>\n",
       "    <tr style=\"text-align: right;\">\n",
       "      <th></th>\n",
       "      <th>enunciado_latex</th>\n",
       "      <th>enunciado</th>\n",
       "      <th>solucion</th>\n",
       "      <th>texto</th>\n",
       "      <th>curso</th>\n",
       "      <th>titulo</th>\n",
       "      <th>n_ejercicio</th>\n",
       "      <th>dificultad</th>\n",
       "      <th>n_columnas</th>\n",
       "      <th>puntos</th>\n",
       "      <th>enun_tex</th>\n",
       "      <th>sol_tex</th>\n",
       "    </tr>\n",
       "  </thead>\n",
       "  <tbody>\n",
       "    <tr>\n",
       "      <th>3</th>\n",
       "      <td>i) Que las dos bolas sean rojas\\nii) Que haya ...</td>\n",
       "      <td>i) Que las dos bolas sean rojas\\nii) Que haya ...</td>\n",
       "      <td>\\left[ \\frac{1}{4}, \\  \\frac{11}{36}, \\  \\frac...</td>\n",
       "      <td>Una urna contiene 3 bolas rojas, 2 verdes y 1 ...</td>\n",
       "      <td>1BC</td>\n",
       "      <td>43 - Probabilidad</td>\n",
       "      <td>p098e09</td>\n",
       "      <td>1</td>\n",
       "      <td>2</td>\n",
       "      <td>1</td>\n",
       "      <td>False</td>\n",
       "      <td>True</td>\n",
       "    </tr>\n",
       "  </tbody>\n",
       "</table>\n",
       "</div>"
      ],
      "text/plain": [
       "                                     enunciado_latex  \\\n",
       "3  i) Que las dos bolas sean rojas\\nii) Que haya ...   \n",
       "\n",
       "                                           enunciado  \\\n",
       "3  i) Que las dos bolas sean rojas\\nii) Que haya ...   \n",
       "\n",
       "                                            solucion  \\\n",
       "3  \\left[ \\frac{1}{4}, \\  \\frac{11}{36}, \\  \\frac...   \n",
       "\n",
       "                                               texto curso             titulo  \\\n",
       "3  Una urna contiene 3 bolas rojas, 2 verdes y 1 ...   1BC  43 - Probabilidad   \n",
       "\n",
       "  n_ejercicio  dificultad  n_columnas  puntos  enun_tex  sol_tex  \n",
       "3     p098e09           1           2       1     False     True  "
      ]
     },
     "metadata": {},
     "output_type": "display_data"
    },
    {
     "data": {
      "text/markdown": [
       "**Ejercicio: **p099e16"
      ],
      "text/plain": [
       "<IPython.core.display.Markdown object>"
      ]
     },
     "metadata": {},
     "output_type": "display_data"
    },
    {
     "data": {
      "text/html": [
       "<div>\n",
       "<style scoped>\n",
       "    .dataframe tbody tr th:only-of-type {\n",
       "        vertical-align: middle;\n",
       "    }\n",
       "\n",
       "    .dataframe tbody tr th {\n",
       "        vertical-align: top;\n",
       "    }\n",
       "\n",
       "    .dataframe thead th {\n",
       "        text-align: right;\n",
       "    }\n",
       "</style>\n",
       "<table border=\"1\" class=\"dataframe\">\n",
       "  <thead>\n",
       "    <tr style=\"text-align: right;\">\n",
       "      <th></th>\n",
       "      <th>enunciado_latex</th>\n",
       "      <th>enunciado</th>\n",
       "      <th>solucion</th>\n",
       "      <th>texto</th>\n",
       "      <th>curso</th>\n",
       "      <th>titulo</th>\n",
       "      <th>n_ejercicio</th>\n",
       "      <th>dificultad</th>\n",
       "      <th>n_columnas</th>\n",
       "      <th>puntos</th>\n",
       "      <th>enun_tex</th>\n",
       "      <th>sol_tex</th>\n",
       "    </tr>\n",
       "  </thead>\n",
       "  <tbody>\n",
       "    <tr>\n",
       "      <th>4</th>\n",
       "      <td>i) Si se elige al azar una persona y resulta s...</td>\n",
       "      <td>i) Si se elige al azar una persona y resulta s...</td>\n",
       "      <td>\\left[ \\frac{5}{6}, \\  \\frac{3}{10}\\right]</td>\n",
       "      <td>En una población hay el doble de mujeres que d...</td>\n",
       "      <td>1BC</td>\n",
       "      <td>43 - Probabilidad</td>\n",
       "      <td>p099e16</td>\n",
       "      <td>1</td>\n",
       "      <td>2</td>\n",
       "      <td>1</td>\n",
       "      <td>False</td>\n",
       "      <td>True</td>\n",
       "    </tr>\n",
       "  </tbody>\n",
       "</table>\n",
       "</div>"
      ],
      "text/plain": [
       "                                     enunciado_latex  \\\n",
       "4  i) Si se elige al azar una persona y resulta s...   \n",
       "\n",
       "                                           enunciado  \\\n",
       "4  i) Si se elige al azar una persona y resulta s...   \n",
       "\n",
       "                                     solucion  \\\n",
       "4  \\left[ \\frac{5}{6}, \\  \\frac{3}{10}\\right]   \n",
       "\n",
       "                                               texto curso             titulo  \\\n",
       "4  En una población hay el doble de mujeres que d...   1BC  43 - Probabilidad   \n",
       "\n",
       "  n_ejercicio  dificultad  n_columnas  puntos  enun_tex  sol_tex  \n",
       "4     p099e16           1           2       1     False     True  "
      ]
     },
     "metadata": {},
     "output_type": "display_data"
    },
    {
     "data": {
      "text/markdown": [
       "**Ejercicio: **p099e17"
      ],
      "text/plain": [
       "<IPython.core.display.Markdown object>"
      ]
     },
     "metadata": {},
     "output_type": "display_data"
    },
    {
     "data": {
      "text/html": [
       "<div>\n",
       "<style scoped>\n",
       "    .dataframe tbody tr th:only-of-type {\n",
       "        vertical-align: middle;\n",
       "    }\n",
       "\n",
       "    .dataframe tbody tr th {\n",
       "        vertical-align: top;\n",
       "    }\n",
       "\n",
       "    .dataframe thead th {\n",
       "        text-align: right;\n",
       "    }\n",
       "</style>\n",
       "<table border=\"1\" class=\"dataframe\">\n",
       "  <thead>\n",
       "    <tr style=\"text-align: right;\">\n",
       "      <th></th>\n",
       "      <th>enunciado_latex</th>\n",
       "      <th>enunciado</th>\n",
       "      <th>solucion</th>\n",
       "      <th>texto</th>\n",
       "      <th>curso</th>\n",
       "      <th>titulo</th>\n",
       "      <th>n_ejercicio</th>\n",
       "      <th>dificultad</th>\n",
       "      <th>n_columnas</th>\n",
       "      <th>puntos</th>\n",
       "      <th>enun_tex</th>\n",
       "      <th>sol_tex</th>\n",
       "    </tr>\n",
       "  </thead>\n",
       "  <tbody>\n",
       "    <tr>\n",
       "      <th>5</th>\n",
       "      <td>Calcula la probabilidad de que las tarjetas el...</td>\n",
       "      <td>Calcula la probabilidad de que las tarjetas el...</td>\n",
       "      <td>\\left[ \\frac{5}{18}\\right]</td>\n",
       "      <td>Se eligen al azar 2 tarjetas de un total de 9....</td>\n",
       "      <td>1BC</td>\n",
       "      <td>43 - Probabilidad</td>\n",
       "      <td>p099e17</td>\n",
       "      <td>1</td>\n",
       "      <td>2</td>\n",
       "      <td>1</td>\n",
       "      <td>False</td>\n",
       "      <td>True</td>\n",
       "    </tr>\n",
       "  </tbody>\n",
       "</table>\n",
       "</div>"
      ],
      "text/plain": [
       "                                     enunciado_latex  \\\n",
       "5  Calcula la probabilidad de que las tarjetas el...   \n",
       "\n",
       "                                           enunciado  \\\n",
       "5  Calcula la probabilidad de que las tarjetas el...   \n",
       "\n",
       "                     solucion  \\\n",
       "5  \\left[ \\frac{5}{18}\\right]   \n",
       "\n",
       "                                               texto curso             titulo  \\\n",
       "5  Se eligen al azar 2 tarjetas de un total de 9....   1BC  43 - Probabilidad   \n",
       "\n",
       "  n_ejercicio  dificultad  n_columnas  puntos  enun_tex  sol_tex  \n",
       "5     p099e17           1           2       1     False     True  "
      ]
     },
     "metadata": {},
     "output_type": "display_data"
    },
    {
     "data": {
      "text/markdown": [
       "**Ejercicio: **p099e18"
      ],
      "text/plain": [
       "<IPython.core.display.Markdown object>"
      ]
     },
     "metadata": {},
     "output_type": "display_data"
    },
    {
     "data": {
      "text/html": [
       "<div>\n",
       "<style scoped>\n",
       "    .dataframe tbody tr th:only-of-type {\n",
       "        vertical-align: middle;\n",
       "    }\n",
       "\n",
       "    .dataframe tbody tr th {\n",
       "        vertical-align: top;\n",
       "    }\n",
       "\n",
       "    .dataframe thead th {\n",
       "        text-align: right;\n",
       "    }\n",
       "</style>\n",
       "<table border=\"1\" class=\"dataframe\">\n",
       "  <thead>\n",
       "    <tr style=\"text-align: right;\">\n",
       "      <th></th>\n",
       "      <th>enunciado_latex</th>\n",
       "      <th>enunciado</th>\n",
       "      <th>solucion</th>\n",
       "      <th>texto</th>\n",
       "      <th>curso</th>\n",
       "      <th>titulo</th>\n",
       "      <th>n_ejercicio</th>\n",
       "      <th>dificultad</th>\n",
       "      <th>n_columnas</th>\n",
       "      <th>puntos</th>\n",
       "      <th>enun_tex</th>\n",
       "      <th>sol_tex</th>\n",
       "    </tr>\n",
       "  </thead>\n",
       "  <tbody>\n",
       "    <tr>\n",
       "      <th>6</th>\n",
       "      <td>i) calcular la probabilidad de que sea defectu...</td>\n",
       "      <td>i) calcular la probabilidad de que sea defectu...</td>\n",
       "      <td>\\left[ \\frac{1}{80}, \\  \\frac{3}{5}\\right]</td>\n",
       "      <td>Dos máquinas se usan para producir marcapasos....</td>\n",
       "      <td>1BC</td>\n",
       "      <td>43 - Probabilidad</td>\n",
       "      <td>p099e18</td>\n",
       "      <td>1</td>\n",
       "      <td>2</td>\n",
       "      <td>1</td>\n",
       "      <td>False</td>\n",
       "      <td>True</td>\n",
       "    </tr>\n",
       "    <tr>\n",
       "      <th>7</th>\n",
       "      <td>i) calcular la probabilidad de que sea defectu...</td>\n",
       "      <td>i) calcular la probabilidad de que sea defectu...</td>\n",
       "      <td>\\left[ \\frac{23}{1000}, \\  \\frac{14}{23}\\right]</td>\n",
       "      <td>Dos máquinas se usan para producir tornillos. ...</td>\n",
       "      <td>1BC</td>\n",
       "      <td>43 - Probabilidad</td>\n",
       "      <td>p099e18</td>\n",
       "      <td>1</td>\n",
       "      <td>2</td>\n",
       "      <td>1</td>\n",
       "      <td>False</td>\n",
       "      <td>True</td>\n",
       "    </tr>\n",
       "  </tbody>\n",
       "</table>\n",
       "</div>"
      ],
      "text/plain": [
       "                                     enunciado_latex  \\\n",
       "6  i) calcular la probabilidad de que sea defectu...   \n",
       "7  i) calcular la probabilidad de que sea defectu...   \n",
       "\n",
       "                                           enunciado  \\\n",
       "6  i) calcular la probabilidad de que sea defectu...   \n",
       "7  i) calcular la probabilidad de que sea defectu...   \n",
       "\n",
       "                                          solucion  \\\n",
       "6       \\left[ \\frac{1}{80}, \\  \\frac{3}{5}\\right]   \n",
       "7  \\left[ \\frac{23}{1000}, \\  \\frac{14}{23}\\right]   \n",
       "\n",
       "                                               texto curso             titulo  \\\n",
       "6  Dos máquinas se usan para producir marcapasos....   1BC  43 - Probabilidad   \n",
       "7  Dos máquinas se usan para producir tornillos. ...   1BC  43 - Probabilidad   \n",
       "\n",
       "  n_ejercicio  dificultad  n_columnas  puntos  enun_tex  sol_tex  \n",
       "6     p099e18           1           2       1     False     True  \n",
       "7     p099e18           1           2       1     False     True  "
      ]
     },
     "metadata": {},
     "output_type": "display_data"
    }
   ],
   "source": [
    "escribir_preambulo(fichero, titulo, 'ejercicios')\n",
    "for s in df_ejercicios.groupby('n_ejercicio').count().index : \n",
    "    display(md(\"**Ejercicio: **\" + s ))\n",
    "    display(df_ejercicios[df_ejercicios.n_ejercicio == s])\n",
    "    escribir_ejercicios(df_ejercicios[df_ejercicios.n_ejercicio == s],fichero)\n",
    "\n",
    "escribir_fin(fichero)"
   ]
  }
 ],
 "metadata": {
  "kernelspec": {
   "display_name": "Python 3",
   "language": "python",
   "name": "python3"
  },
  "language_info": {
   "codemirror_mode": {
    "name": "ipython",
    "version": 3
   },
   "file_extension": ".py",
   "mimetype": "text/x-python",
   "name": "python",
   "nbconvert_exporter": "python",
   "pygments_lexer": "ipython3",
   "version": "3.6.13"
  }
 },
 "nbformat": 4,
 "nbformat_minor": 2
}
