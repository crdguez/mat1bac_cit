{
 "cells": [
  {
   "cell_type": "code",
   "execution_count": 1,
   "metadata": {},
   "outputs": [
    {
     "name": "stdout",
     "output_type": "stream",
     "text": [
      "IPython console for SymPy 1.2 (Python 3.6.5-64-bit) (ground types: gmpy)\n",
      "\n",
      "These commands were executed:\n",
      ">>> from __future__ import division\n",
      ">>> from sympy import *\n",
      ">>> x, y, z, t = symbols('x y z t')\n",
      ">>> k, m, n = symbols('k m n', integer=True)\n",
      ">>> f, g, h = symbols('f g h', cls=Function)\n",
      ">>> init_printing()\n",
      "\n",
      "Documentation can be found at http://docs.sympy.org/1.2/\n",
      "\n"
     ]
    }
   ],
   "source": [
    "from sympy import init_session\n",
    "from sympy.parsing.latex import parse_latex\n",
    "from sympy.parsing.sympy_parser import parse_expr\n",
    "from sympy.functions.combinatorial.numbers import nC, nP, nT\n",
    "from IPython.display import Markdown as md\n",
    "from IPython.display import display\n",
    "import pandas as pd\n",
    "\n",
    "init_session()\n",
    "\n",
    "a, b, c, d = symbols('a b c d', real = True)\n",
    "from docparts import añadir_ejercicios, doc_ejer, escribir_preambulo, escribir_ejercicios, escribir_fin\n",
    "\n",
    "df_ejercicios = pd.DataFrame()\n",
    "\n",
    "fichero = 'autoev11'\n",
    "titulo = 'Autoevaluación 1'\n",
    "curso = '1BC'\n"
   ]
  },
  {
   "cell_type": "code",
   "execution_count": 2,
   "metadata": {},
   "outputs": [],
   "source": [
    "def simbolo (operacion):\n",
    "    if operacion == '<=' :\n",
    "        return('\\leq')\n",
    "    elif operacion == '>=' :\n",
    "        return('\\geq')\n",
    "    else :\n",
    "        return(operacion)"
   ]
  },
  {
   "cell_type": "code",
   "execution_count": 3,
   "metadata": {},
   "outputs": [
    {
     "data": {
      "text/markdown": [
       "**Resolver las siguientes inecuaciones:**"
      ],
      "text/plain": [
       "<IPython.core.display.Markdown object>"
      ]
     },
     "metadata": {},
     "output_type": "display_data"
    },
    {
     "data": {
      "text/markdown": [
       "$\\left|{x - 4}\\right| - 2<0 \\rightarrow  2 < x \\wedge x < 6$"
      ],
      "text/plain": [
       "<IPython.core.display.Markdown object>"
      ]
     },
     "metadata": {},
     "output_type": "display_data"
    },
    {
     "data": {
      "text/markdown": [
       "$\\left|{3 x + 12}\\right| - 4<0 \\rightarrow  - \\frac{16}{3} < x \\wedge x < - \\frac{8}{3}$"
      ],
      "text/plain": [
       "<IPython.core.display.Markdown object>"
      ]
     },
     "metadata": {},
     "output_type": "display_data"
    },
    {
     "data": {
      "text/markdown": [
       "$\\left|{2 x + 5}\\right| - 2\\leq0 \\rightarrow  - \\frac{7}{2} \\leq x \\wedge x \\leq - \\frac{3}{2}$"
      ],
      "text/plain": [
       "<IPython.core.display.Markdown object>"
      ]
     },
     "metadata": {},
     "output_type": "display_data"
    },
    {
     "data": {
      "text/markdown": [
       "$\\left|{3 x - 2}\\right| - 0.25\\leq0 \\rightarrow  0.583333333333333 \\leq x \\wedge x \\leq 0.75$"
      ],
      "text/plain": [
       "<IPython.core.display.Markdown object>"
      ]
     },
     "metadata": {},
     "output_type": "display_data"
    },
    {
     "data": {
      "text/markdown": [
       "$\\left|{2 x - 4}\\right| - 2>0 \\rightarrow  \\left(-\\infty < x \\wedge x < 1\\right) \\vee \\left(3 < x \\wedge x < \\infty\\right)$"
      ],
      "text/plain": [
       "<IPython.core.display.Markdown object>"
      ]
     },
     "metadata": {},
     "output_type": "display_data"
    },
    {
     "data": {
      "text/markdown": [
       "$\\left|{3 x + 4}\\right| - 5>0 \\rightarrow  \\left(-\\infty < x \\wedge x < -3\\right) \\vee \\left(\\frac{1}{3} < x \\wedge x < \\infty\\right)$"
      ],
      "text/plain": [
       "<IPython.core.display.Markdown object>"
      ]
     },
     "metadata": {},
     "output_type": "display_data"
    },
    {
     "data": {
      "text/markdown": [
       "$\\left|{2 x - 8}\\right| - 1\\geq0 \\rightarrow  \\left(\\frac{9}{2} \\leq x \\wedge x < \\infty\\right) \\vee \\left(x \\leq \\frac{7}{2} \\wedge -\\infty < x\\right)$"
      ],
      "text/plain": [
       "<IPython.core.display.Markdown object>"
      ]
     },
     "metadata": {},
     "output_type": "display_data"
    },
    {
     "data": {
      "text/markdown": [
       "$\\left|{2 x + 6}\\right| - 0.5\\geq0 \\rightarrow  \\left(-2.75 \\leq x \\wedge x < \\infty\\right) \\vee \\left(x \\leq -3.25 \\wedge - \\infty < x\\right)$"
      ],
      "text/plain": [
       "<IPython.core.display.Markdown object>"
      ]
     },
     "metadata": {},
     "output_type": "display_data"
    }
   ],
   "source": [
    "# Página 2 ejercicio 9\n",
    "\n",
    "texto_ejercicio = 'Resolver las siguientes inecuaciones:'\n",
    "n_ejercicio = 'a01e01'\n",
    "\n",
    "display(md(\"**\"+texto_ejercicio+\"**\"))\n",
    "\n",
    "\n",
    "enunciado =[(Abs(x-4)-2,'<'),(Abs(3*x+12)-4,'<'),(Abs(2*x+5)-2,'<='),\n",
    "            (Abs(3*x-2)-1/4,'<='),(Abs(2*x-4)-2,'>'),(Abs(3*x+4)-5,'>'),\n",
    "            (Abs(2*x-8)-1,'>='),(Abs(2*x+6)-1/2,'>=')]\n",
    "\n",
    "enunciado_latex = []\n",
    "solucion = []\n",
    "\n",
    "for s in enunciado:\n",
    "    enunciado_latex.append(latex(s[0])+simbolo(s[1])+' 0')\n",
    "    solucion.append(latex(reduce_abs_inequalities([s], x)))\n",
    "    display(md('$'+latex(s[0])+simbolo(s[1])+\n",
    "               '0 \\\\rightarrow  '+ latex(reduce_abs_inequalities([s], x))+'$'))\n",
    "    \n",
    "\n",
    "df_ejercicios = df_ejercicios.append(añadir_ejercicios(enunciado_latex, enunciado, solucion, texto_ejercicio, curso, titulo, n_ejercicio), ignore_index=True)\n"
   ]
  },
  {
   "cell_type": "code",
   "execution_count": 4,
   "metadata": {},
   "outputs": [
    {
     "data": {
      "text/markdown": [
       "**Calcula:**"
      ],
      "text/plain": [
       "<IPython.core.display.Markdown object>"
      ]
     },
     "metadata": {},
     "output_type": "display_data"
    },
    {
     "data": {
      "text/markdown": [
       "$\\frac{{{3^{ - 3}} \\cdot {3^6} \\cdot {2^3}}}{{{{( {3 \\cdot 2} )}^5}}} \\rightarrow\\frac{1}{36}$"
      ],
      "text/plain": [
       "<IPython.core.display.Markdown object>"
      ]
     },
     "metadata": {},
     "output_type": "display_data"
    },
    {
     "data": {
      "text/markdown": [
       "${2^{ - 5}} \\cdot {( {\\frac{1}{2}} )^{ - 2}} \\cdot 2^7 \\rightarrow16$"
      ],
      "text/plain": [
       "<IPython.core.display.Markdown object>"
      ]
     },
     "metadata": {},
     "output_type": "display_data"
    },
    {
     "data": {
      "text/markdown": [
       "${( {\\frac{7}{4}} )^5} \\cdot \\frac{{{2^6}}}{{{7^2}}} \\rightarrow\\frac{343}{16}$"
      ],
      "text/plain": [
       "<IPython.core.display.Markdown object>"
      ]
     },
     "metadata": {},
     "output_type": "display_data"
    },
    {
     "data": {
      "text/markdown": [
       "$\\frac{{{2^{ - 2}} \\cdot {{( {{2^2}} )}^3}}}{{{2^{ - 3}}}} \\rightarrow128$"
      ],
      "text/plain": [
       "<IPython.core.display.Markdown object>"
      ]
     },
     "metadata": {},
     "output_type": "display_data"
    },
    {
     "data": {
      "text/markdown": [
       "$\\frac{{{5^{ - 3}} \\cdot {5^{ - 1}} \\cdot {5^2}}}{{{5^0} + {5^6}}} \\rightarrow\\frac{1}{390650}$"
      ],
      "text/plain": [
       "<IPython.core.display.Markdown object>"
      ]
     },
     "metadata": {},
     "output_type": "display_data"
    },
    {
     "data": {
      "text/markdown": [
       "${( {\\frac{2}{5}} )^{ - 2}} \\cdot {( {\\frac{5}{2}} )^4} \\rightarrow\\frac{15625}{64}$"
      ],
      "text/plain": [
       "<IPython.core.display.Markdown object>"
      ]
     },
     "metadata": {},
     "output_type": "display_data"
    },
    {
     "data": {
      "text/markdown": [
       "$\\frac{{\\sqrt {2}  \\cdot {{( {\\sqrt {2} } )}^3} \\cdot {{( {\\sqrt {5} } )}^3}}}{{{{( {5\\sqrt{2} } )}^2}}} \\rightarrow\\frac{2 \\sqrt{5}}{5}$"
      ],
      "text/plain": [
       "<IPython.core.display.Markdown object>"
      ]
     },
     "metadata": {},
     "output_type": "display_data"
    },
    {
     "data": {
      "text/markdown": [
       "$\\frac{{{4^{\\frac{1}{2}}} \\cdot {2^{ - 1}} \\cdot {2^{\\frac{9}{2}}}}}{{\\sqrt {2} }} \\rightarrow16$"
      ],
      "text/plain": [
       "<IPython.core.display.Markdown object>"
      ]
     },
     "metadata": {},
     "output_type": "display_data"
    }
   ],
   "source": [
    "# Página 4 ejercicios 1 y 2\n",
    "\n",
    "texto_ejercicio = 'Calcula:'\n",
    "n_ejercicio = 'a01e02'\n",
    "\n",
    "display(md(\"**\"+texto_ejercicio+\"**\"))\n",
    "\n",
    "texto_ejercicio = 'Calcula :'\n",
    "enunciado_latex = [r'\\frac{{{3^{ - 3}} \\cdot {3^6} \\cdot {2^3}}}{{{{( {3 \\cdot 2} )}^5}}}',\n",
    "                  r'{2^{ - 5}} \\cdot {( {\\frac{1}{2}} )^{ - 2}} \\cdot 2^7',\n",
    "                  r'{( {\\frac{7}{4}} )^5} \\cdot \\frac{{{2^6}}}{{{7^2}}}',\n",
    "                  r'\\frac{{{2^{ - 2}} \\cdot {{( {{2^2}} )}^3}}}{{{2^{ - 3}}}}',\n",
    "                  r'\\frac{{{5^{ - 3}} \\cdot {5^{ - 1}} \\cdot {5^2}}}{{{5^0} + {5^6}}}',\n",
    "                  r'{( {\\frac{2}{5}} )^{ - 2}} \\cdot {( {\\frac{5}{2}} )^4}',\n",
    "                  r'\\frac{{\\sqrt {2}  \\cdot {{( {\\sqrt {2} } )}^3} \\cdot {{( {\\sqrt {5} } )}^3}}}{{{{( {5\\sqrt{2} } )}^2}}}',\n",
    "                  r'\\frac{{{4^{\\frac{1}{2}}} \\cdot {2^{ - 1}} \\cdot {2^{\\frac{9}{2}}}}}{{\\sqrt {2} }}'\n",
    "                  ]\n",
    "enunciado, solucion = [], []\n",
    "for s in enunciado_latex :\n",
    "    display(md(\"$\"+ s +\" \\\\rightarrow\" + latex(simplify(parse_latex(s)))+\"$\"))\n",
    "    enunciado.append(parse_latex(s))\n",
    "    solucion.append(latex(cancel(simplify(parse_latex(s))))) \n",
    "\n",
    "df_ejercicios = df_ejercicios.append(añadir_ejercicios(enunciado_latex, enunciado, solucion, texto_ejercicio, curso, titulo, n_ejercicio), ignore_index=True)\n"
   ]
  },
  {
   "cell_type": "code",
   "execution_count": 5,
   "metadata": {},
   "outputs": [
    {
     "data": {
      "text/markdown": [
       "**Calcula:**"
      ],
      "text/plain": [
       "<IPython.core.display.Markdown object>"
      ]
     },
     "metadata": {},
     "output_type": "display_data"
    },
    {
     "data": {
      "text/markdown": [
       "$2\\sqrt {3125}  + 3\\sqrt {20}  - 12\\sqrt {45} \\rightarrow 20 \\sqrt{5}$"
      ],
      "text/plain": [
       "<IPython.core.display.Markdown object>"
      ]
     },
     "metadata": {},
     "output_type": "display_data"
    },
    {
     "data": {
      "text/markdown": [
       "$\\frac{1}{4}\\sqrt {3125}  - 4\\sqrt {20}  - \\frac{3}{4}\\sqrt {45} \\rightarrow - 4 \\sqrt{5}$"
      ],
      "text/plain": [
       "<IPython.core.display.Markdown object>"
      ]
     },
     "metadata": {},
     "output_type": "display_data"
    }
   ],
   "source": [
    "# Página 6 ejercicios 18\n",
    "\n",
    "\n",
    "texto_ejercicio = 'Calcula:'\n",
    "n_ejercicio = 'a01e03'\n",
    "\n",
    "display(md(\"**\"+texto_ejercicio+\"**\"))\n",
    "\n",
    "enunciado_latex = [r'2\\sqrt {3125}  + 3\\sqrt {20}  - 12\\sqrt {45}',\n",
    "                   r'\\frac{1}{4}\\sqrt {3125}  - 4\\sqrt {20}  - \\frac{3}{4}\\sqrt {45}'\n",
    "                  ]\n",
    "enunciado, solucion = [], []\n",
    "for s in enunciado_latex :\n",
    "    display(md(\"$\"+ s +\" \\\\rightarrow \" + latex(simplify(parse_latex(s)))+\"$\"))\n",
    "    enunciado.append(parse_latex(s))\n",
    "    solucion.append(latex(simplify(parse_latex(s)))) \n",
    "\n",
    "df_ejercicios = df_ejercicios.append(añadir_ejercicios(enunciado_latex, enunciado, solucion, texto_ejercicio, curso, titulo, n_ejercicio), ignore_index=True)\n",
    "\n",
    "    "
   ]
  },
  {
   "cell_type": "code",
   "execution_count": 6,
   "metadata": {},
   "outputs": [
    {
     "data": {
      "text/markdown": [
       "**Realiza los desarrollos de los siguientes binomios:**"
      ],
      "text/plain": [
       "<IPython.core.display.Markdown object>"
      ]
     },
     "metadata": {},
     "output_type": "display_data"
    },
    {
     "data": {
      "text/markdown": [
       "$(3 + x)^4 \\rightarrow x^{4} + 12 x^{3} + 54 x^{2} + 108 x + 81$"
      ],
      "text/plain": [
       "<IPython.core.display.Markdown object>"
      ]
     },
     "metadata": {},
     "output_type": "display_data"
    },
    {
     "data": {
      "text/markdown": [
       "$( {1 + 3\\sqrt{ 2} })^3 \\rightarrow 55 + 63 \\sqrt{2}$"
      ],
      "text/plain": [
       "<IPython.core.display.Markdown object>"
      ]
     },
     "metadata": {},
     "output_type": "display_data"
    },
    {
     "data": {
      "text/markdown": [
       "$( {2 - 3\\sqrt{ 2} })^3 \\rightarrow - 90 \\sqrt{2} + 116$"
      ],
      "text/plain": [
       "<IPython.core.display.Markdown object>"
      ]
     },
     "metadata": {},
     "output_type": "display_data"
    },
    {
     "data": {
      "text/markdown": [
       "$( {\\frac{x}{3} + \\frac{3}{{{x^2}}}} )^5 \\rightarrow \\frac{x^{5}}{243} + \\frac{5 x^{2}}{27} + \\frac{10}{3 x} + \\frac{30}{x^{4}} + \\frac{135}{x^{7}} + \\frac{243}{x^{10}}$"
      ],
      "text/plain": [
       "<IPython.core.display.Markdown object>"
      ]
     },
     "metadata": {},
     "output_type": "display_data"
    },
    {
     "data": {
      "text/markdown": [
       "$( {\\frac{2}{\\sqrt {2} } + \\sqrt {2} } )^3 \\rightarrow \\frac{12 \\sqrt{2}}{2} + 10 \\sqrt{2}$"
      ],
      "text/plain": [
       "<IPython.core.display.Markdown object>"
      ]
     },
     "metadata": {},
     "output_type": "display_data"
    },
    {
     "data": {
      "text/markdown": [
       "$( {5\\sqrt {2} - 2\\sqrt {3} } )^3 \\rightarrow - 324 \\sqrt{3} + 430 \\sqrt{2}$"
      ],
      "text/plain": [
       "<IPython.core.display.Markdown object>"
      ]
     },
     "metadata": {},
     "output_type": "display_data"
    },
    {
     "data": {
      "text/markdown": [
       "$( {2{x^2} - \\frac{3}{x}} )^4 \\rightarrow 16 x^{8} - 96 x^{5} + 216 x^{2} - \\frac{216}{x} + \\frac{81}{x^{4}}$"
      ],
      "text/plain": [
       "<IPython.core.display.Markdown object>"
      ]
     },
     "metadata": {},
     "output_type": "display_data"
    }
   ],
   "source": [
    "# Página 9 ejercicio 6\n",
    "\n",
    "texto_ejercicio = 'Realiza los desarrollos de los siguientes binomios:'\n",
    "n_ejercicio = 'a01e04'\n",
    "\n",
    "display(md(\"**\"+texto_ejercicio+\"**\"))\n",
    "\n",
    "enunciado_latex = [r'(3 + x)^4',\n",
    "                   r'( {1 + 3\\sqrt{ 2} })^3',\n",
    "                  r'( {2 - 3\\sqrt{ 2} })^3',\n",
    "                   r'( {\\frac{x}{3} + \\frac{3}{{{x^2}}}} )^5',\n",
    "                   r'( {\\frac{2}{\\sqrt {2} } + \\sqrt {2} } )^3',\n",
    "                   r'( {5\\sqrt {2} - 2\\sqrt {3} } )^3',\n",
    "                   r'( {2{x^2} - \\frac{3}{x}} )^4'\n",
    "                  ]\n",
    "enunciado, solucion = [], []\n",
    "for s in enunciado_latex :\n",
    "    display(md(\"$\"+ s +\" \\\\rightarrow \" + latex(expand(parse_latex(s)))+\"$\"))\n",
    "    enunciado.append(parse_latex(s))\n",
    "    solucion.append(latex(expand(parse_latex(s)))) \n",
    "\n",
    "df_ejercicios = df_ejercicios.append(añadir_ejercicios(enunciado_latex, enunciado, solucion, texto_ejercicio, curso, titulo, n_ejercicio), ignore_index=True)\n"
   ]
  },
  {
   "cell_type": "code",
   "execution_count": 7,
   "metadata": {},
   "outputs": [
    {
     "data": {
      "text/markdown": [
       "Dados los polinomios $ A(x)=2{x^3} - 3{x^2} + 2x - 1, \\  B(x)=- {x^4} + {x^3} + x - 1, \\  C(x)={x^4} - {x^2} + x + \\frac{1}{3}$ halla:"
      ],
      "text/plain": [
       "<IPython.core.display.Markdown object>"
      ]
     },
     "metadata": {},
     "output_type": "display_data"
    },
    {
     "data": {
      "text/markdown": [
       "$A(x) \\cdot B(x) \\rightarrow - 2 x^{7} + 5 x^{6} - 5 x^{5} + 5 x^{4} - 6 x^{3} + 5 x^{2} - 3 x + 1$"
      ],
      "text/plain": [
       "<IPython.core.display.Markdown object>"
      ]
     },
     "metadata": {},
     "output_type": "display_data"
    },
    {
     "data": {
      "text/markdown": [
       "$A(x) - 3B(x) + 5C(x) \\rightarrow 8 x^{4} - x^{3} - 8 x^{2} + 4 x + \\frac{11}{3}$"
      ],
      "text/plain": [
       "<IPython.core.display.Markdown object>"
      ]
     },
     "metadata": {},
     "output_type": "display_data"
    },
    {
     "data": {
      "text/markdown": [
       "$x^2\\cdot A(x) + 3x\\cdot B(x) \\rightarrow - x^{5} + 2 x^{3} + 2 x^{2} - 3 x$"
      ],
      "text/plain": [
       "<IPython.core.display.Markdown object>"
      ]
     },
     "metadata": {},
     "output_type": "display_data"
    }
   ],
   "source": [
    "# Página 12 ejercicios 4\n",
    "\n",
    "\n",
    "A = r'2{x^3} - 3{x^2} + 2x - 1'\n",
    "B = r'- {x^4} + {x^3} + x - 1'\n",
    "C = r'{x^4} - {x^2} + x + \\frac{1}{3}'\n",
    "\n",
    "\n",
    "texto_ejercicio = r'Dados los polinomios $ A(x)=' + A +r\", \\  B(x)=\" + B +r\", \\  C(x)=\"+ C +r'$ halla:'\n",
    "\n",
    "n_ejercicio = 'a01e05'\n",
    "\n",
    "display(md(\"\"+texto_ejercicio+\"\"))\n",
    "\n",
    "\n",
    "enunciado_latex = [r'A(x) \\cdot B(x)', \n",
    "                   r'A(x) - 3B(x) + 5C(x)',\n",
    "                   r'x^2\\cdot A(x) + 3x\\cdot B(x)'\n",
    "                  ]\n",
    "enunciado, solucion = [], [latex(expand(simplify(parse_latex(A) * parse_latex(B)))),\n",
    "                           latex(expand(simplify(parse_latex(A) - 3 * parse_latex(B) + 5 * parse_latex(C)))),\n",
    "                          latex(expand(simplify(x**2*parse_latex(A) + 3*x*parse_latex(B) )))]\n",
    "\n",
    "\n",
    "\n",
    "solucion[0]\n",
    "\n",
    "for i, s  in enumerate(enunciado_latex) :\n",
    "    display(md(\"$\"+ s +\" \\\\rightarrow \" + solucion[i]+\"$\"))\n",
    "    enunciado.append(parse_latex(s))\n",
    "     \n",
    "\n",
    "df_ejercicios = df_ejercicios.append(añadir_ejercicios(enunciado_latex, enunciado, solucion, texto_ejercicio, curso, titulo, n_ejercicio), ignore_index=True)\n"
   ]
  },
  {
   "cell_type": "code",
   "execution_count": 8,
   "metadata": {},
   "outputs": [
    {
     "data": {
      "text/markdown": [
       "**Descomponer en factores**"
      ],
      "text/plain": [
       "<IPython.core.display.Markdown object>"
      ]
     },
     "metadata": {},
     "output_type": "display_data"
    },
    {
     "data": {
      "text/markdown": [
       "$2 x^{3} - 6 x^{2} - 26 x + 30 \\rightarrow 2 \\left(x - 5\\right) \\left(x - 1\\right) \\left(x + 3\\right)$"
      ],
      "text/plain": [
       "<IPython.core.display.Markdown object>"
      ]
     },
     "metadata": {},
     "output_type": "display_data"
    },
    {
     "data": {
      "text/markdown": [
       "$2 x^{3} + 2 x^{2} - 12 x \\rightarrow 2 x \\left(x - 2\\right) \\left(x + 3\\right)$"
      ],
      "text/plain": [
       "<IPython.core.display.Markdown object>"
      ]
     },
     "metadata": {},
     "output_type": "display_data"
    },
    {
     "data": {
      "text/markdown": [
       "$6 x^{3} + 2 x^{2} - 24 x - 8 \\rightarrow 6 \\left(x - 2\\right) \\left(x + \\frac{1}{3}\\right) \\left(x + 2\\right)$"
      ],
      "text/plain": [
       "<IPython.core.display.Markdown object>"
      ]
     },
     "metadata": {},
     "output_type": "display_data"
    },
    {
     "data": {
      "text/markdown": [
       "$2 x^{5} - 8 x^{3} - 2 x^{2} + 8 \\rightarrow 2 \\left(x - 2\\right) \\left(x - 1\\right) \\left(x + 2\\right) \\left(x^{2} + x + 1\\right)$"
      ],
      "text/plain": [
       "<IPython.core.display.Markdown object>"
      ]
     },
     "metadata": {},
     "output_type": "display_data"
    }
   ],
   "source": [
    "# Página 13 ejercicio 17 y 18\n",
    "\n",
    "texto_ejercicio = 'Descomponer en factores'\n",
    "n_ejercicio = 'a01e06'\n",
    "\n",
    "display(md(\"**\"+texto_ejercicio+\"**\"))\n",
    "\n",
    "enunciado_latex = [\n",
    "                   r'2 x^{3} - 6 x^{2} - 26 x + 30',\n",
    "                   r'2 x^{3} + 2 x^{2} - 12 x',\n",
    "                   r'6 x^{3} + 2 x^{2} - 24 x - 8',\n",
    "                   r'2 x^{5} - 8 x^{3} - 2 x^{2} + 8'                        \n",
    "                  ]\n",
    "\n",
    "\n",
    "\n",
    "\n",
    "enunciado, solucion = [], []\n",
    "\n",
    "for i, s in enumerate(enunciado_latex) : \n",
    "    enunciado.append(parse_latex(s))\n",
    "    solucion.append(latex(factor(parse_latex(s), domain = 'QQ<sqrt(2)>'))) \n",
    "    display(md(\"$\"+ s +\" \\\\rightarrow \" + solucion[i] +\"$\"))\n",
    "\n",
    "df_ejercicios = df_ejercicios.append(añadir_ejercicios(enunciado_latex, enunciado, solucion, texto_ejercicio, curso, titulo , n_ejercicio, '1', '2'), ignore_index=True)\n"
   ]
  },
  {
   "cell_type": "code",
   "execution_count": 9,
   "metadata": {},
   "outputs": [
    {
     "data": {
      "text/markdown": [
       "**Ejercicio: **a01e01"
      ],
      "text/plain": [
       "<IPython.core.display.Markdown object>"
      ]
     },
     "metadata": {},
     "output_type": "display_data"
    },
    {
     "data": {
      "text/html": [
       "<div>\n",
       "<style scoped>\n",
       "    .dataframe tbody tr th:only-of-type {\n",
       "        vertical-align: middle;\n",
       "    }\n",
       "\n",
       "    .dataframe tbody tr th {\n",
       "        vertical-align: top;\n",
       "    }\n",
       "\n",
       "    .dataframe thead th {\n",
       "        text-align: right;\n",
       "    }\n",
       "</style>\n",
       "<table border=\"1\" class=\"dataframe\">\n",
       "  <thead>\n",
       "    <tr style=\"text-align: right;\">\n",
       "      <th></th>\n",
       "      <th>enunciado_latex</th>\n",
       "      <th>enunciado</th>\n",
       "      <th>solucion</th>\n",
       "      <th>texto</th>\n",
       "      <th>curso</th>\n",
       "      <th>titulo</th>\n",
       "      <th>n_ejercicio</th>\n",
       "      <th>dificultad</th>\n",
       "      <th>n_columnas</th>\n",
       "      <th>puntos</th>\n",
       "    </tr>\n",
       "  </thead>\n",
       "  <tbody>\n",
       "    <tr>\n",
       "      <th>0</th>\n",
       "      <td>\\left|{x - 4}\\right| - 2&lt; 0</td>\n",
       "      <td>(Abs(x - 4) - 2, '&lt;')</td>\n",
       "      <td>2 &lt; x \\wedge x &lt; 6</td>\n",
       "      <td>Resolver las siguientes inecuaciones:</td>\n",
       "      <td>1BC</td>\n",
       "      <td>Autoevaluación 1</td>\n",
       "      <td>a01e01</td>\n",
       "      <td>1</td>\n",
       "      <td>3</td>\n",
       "      <td>1</td>\n",
       "    </tr>\n",
       "    <tr>\n",
       "      <th>1</th>\n",
       "      <td>\\left|{3 x + 12}\\right| - 4&lt; 0</td>\n",
       "      <td>(Abs(3*x + 12) - 4, '&lt;')</td>\n",
       "      <td>- \\frac{16}{3} &lt; x \\wedge x &lt; - \\frac{8}{3}</td>\n",
       "      <td>Resolver las siguientes inecuaciones:</td>\n",
       "      <td>1BC</td>\n",
       "      <td>Autoevaluación 1</td>\n",
       "      <td>a01e01</td>\n",
       "      <td>1</td>\n",
       "      <td>3</td>\n",
       "      <td>1</td>\n",
       "    </tr>\n",
       "    <tr>\n",
       "      <th>2</th>\n",
       "      <td>\\left|{2 x + 5}\\right| - 2\\leq 0</td>\n",
       "      <td>(Abs(2*x + 5) - 2, '&lt;=')</td>\n",
       "      <td>- \\frac{7}{2} \\leq x \\wedge x \\leq - \\frac{3}{2}</td>\n",
       "      <td>Resolver las siguientes inecuaciones:</td>\n",
       "      <td>1BC</td>\n",
       "      <td>Autoevaluación 1</td>\n",
       "      <td>a01e01</td>\n",
       "      <td>1</td>\n",
       "      <td>3</td>\n",
       "      <td>1</td>\n",
       "    </tr>\n",
       "    <tr>\n",
       "      <th>3</th>\n",
       "      <td>\\left|{3 x - 2}\\right| - 0.25\\leq 0</td>\n",
       "      <td>(Abs(3*x - 2) - 0.25, '&lt;=')</td>\n",
       "      <td>0.583333333333333 \\leq x \\wedge x \\leq 0.75</td>\n",
       "      <td>Resolver las siguientes inecuaciones:</td>\n",
       "      <td>1BC</td>\n",
       "      <td>Autoevaluación 1</td>\n",
       "      <td>a01e01</td>\n",
       "      <td>1</td>\n",
       "      <td>3</td>\n",
       "      <td>1</td>\n",
       "    </tr>\n",
       "    <tr>\n",
       "      <th>4</th>\n",
       "      <td>\\left|{2 x - 4}\\right| - 2&gt; 0</td>\n",
       "      <td>(Abs(2*x - 4) - 2, '&gt;')</td>\n",
       "      <td>\\left(-\\infty &lt; x \\wedge x &lt; 1\\right) \\vee \\le...</td>\n",
       "      <td>Resolver las siguientes inecuaciones:</td>\n",
       "      <td>1BC</td>\n",
       "      <td>Autoevaluación 1</td>\n",
       "      <td>a01e01</td>\n",
       "      <td>1</td>\n",
       "      <td>3</td>\n",
       "      <td>1</td>\n",
       "    </tr>\n",
       "    <tr>\n",
       "      <th>5</th>\n",
       "      <td>\\left|{3 x + 4}\\right| - 5&gt; 0</td>\n",
       "      <td>(Abs(3*x + 4) - 5, '&gt;')</td>\n",
       "      <td>\\left(-\\infty &lt; x \\wedge x &lt; -3\\right) \\vee \\l...</td>\n",
       "      <td>Resolver las siguientes inecuaciones:</td>\n",
       "      <td>1BC</td>\n",
       "      <td>Autoevaluación 1</td>\n",
       "      <td>a01e01</td>\n",
       "      <td>1</td>\n",
       "      <td>3</td>\n",
       "      <td>1</td>\n",
       "    </tr>\n",
       "    <tr>\n",
       "      <th>6</th>\n",
       "      <td>\\left|{2 x - 8}\\right| - 1\\geq 0</td>\n",
       "      <td>(Abs(2*x - 8) - 1, '&gt;=')</td>\n",
       "      <td>\\left(\\frac{9}{2} \\leq x \\wedge x &lt; \\infty\\rig...</td>\n",
       "      <td>Resolver las siguientes inecuaciones:</td>\n",
       "      <td>1BC</td>\n",
       "      <td>Autoevaluación 1</td>\n",
       "      <td>a01e01</td>\n",
       "      <td>1</td>\n",
       "      <td>3</td>\n",
       "      <td>1</td>\n",
       "    </tr>\n",
       "    <tr>\n",
       "      <th>7</th>\n",
       "      <td>\\left|{2 x + 6}\\right| - 0.5\\geq 0</td>\n",
       "      <td>(Abs(2*x + 6) - 0.5, '&gt;=')</td>\n",
       "      <td>\\left(-2.75 \\leq x \\wedge x &lt; \\infty\\right) \\v...</td>\n",
       "      <td>Resolver las siguientes inecuaciones:</td>\n",
       "      <td>1BC</td>\n",
       "      <td>Autoevaluación 1</td>\n",
       "      <td>a01e01</td>\n",
       "      <td>1</td>\n",
       "      <td>3</td>\n",
       "      <td>1</td>\n",
       "    </tr>\n",
       "  </tbody>\n",
       "</table>\n",
       "</div>"
      ],
      "text/plain": [
       "                       enunciado_latex                    enunciado  \\\n",
       "0          \\left|{x - 4}\\right| - 2< 0        (Abs(x - 4) - 2, '<')   \n",
       "1       \\left|{3 x + 12}\\right| - 4< 0     (Abs(3*x + 12) - 4, '<')   \n",
       "2     \\left|{2 x + 5}\\right| - 2\\leq 0     (Abs(2*x + 5) - 2, '<=')   \n",
       "3  \\left|{3 x - 2}\\right| - 0.25\\leq 0  (Abs(3*x - 2) - 0.25, '<=')   \n",
       "4        \\left|{2 x - 4}\\right| - 2> 0      (Abs(2*x - 4) - 2, '>')   \n",
       "5        \\left|{3 x + 4}\\right| - 5> 0      (Abs(3*x + 4) - 5, '>')   \n",
       "6     \\left|{2 x - 8}\\right| - 1\\geq 0     (Abs(2*x - 8) - 1, '>=')   \n",
       "7   \\left|{2 x + 6}\\right| - 0.5\\geq 0   (Abs(2*x + 6) - 0.5, '>=')   \n",
       "\n",
       "                                            solucion  \\\n",
       "0                                 2 < x \\wedge x < 6   \n",
       "1        - \\frac{16}{3} < x \\wedge x < - \\frac{8}{3}   \n",
       "2   - \\frac{7}{2} \\leq x \\wedge x \\leq - \\frac{3}{2}   \n",
       "3        0.583333333333333 \\leq x \\wedge x \\leq 0.75   \n",
       "4  \\left(-\\infty < x \\wedge x < 1\\right) \\vee \\le...   \n",
       "5  \\left(-\\infty < x \\wedge x < -3\\right) \\vee \\l...   \n",
       "6  \\left(\\frac{9}{2} \\leq x \\wedge x < \\infty\\rig...   \n",
       "7  \\left(-2.75 \\leq x \\wedge x < \\infty\\right) \\v...   \n",
       "\n",
       "                                   texto curso            titulo n_ejercicio  \\\n",
       "0  Resolver las siguientes inecuaciones:   1BC  Autoevaluación 1      a01e01   \n",
       "1  Resolver las siguientes inecuaciones:   1BC  Autoevaluación 1      a01e01   \n",
       "2  Resolver las siguientes inecuaciones:   1BC  Autoevaluación 1      a01e01   \n",
       "3  Resolver las siguientes inecuaciones:   1BC  Autoevaluación 1      a01e01   \n",
       "4  Resolver las siguientes inecuaciones:   1BC  Autoevaluación 1      a01e01   \n",
       "5  Resolver las siguientes inecuaciones:   1BC  Autoevaluación 1      a01e01   \n",
       "6  Resolver las siguientes inecuaciones:   1BC  Autoevaluación 1      a01e01   \n",
       "7  Resolver las siguientes inecuaciones:   1BC  Autoevaluación 1      a01e01   \n",
       "\n",
       "   dificultad  n_columnas  puntos  \n",
       "0           1           3       1  \n",
       "1           1           3       1  \n",
       "2           1           3       1  \n",
       "3           1           3       1  \n",
       "4           1           3       1  \n",
       "5           1           3       1  \n",
       "6           1           3       1  \n",
       "7           1           3       1  "
      ]
     },
     "metadata": {},
     "output_type": "display_data"
    },
    {
     "data": {
      "text/markdown": [
       "**Ejercicio: **a01e02"
      ],
      "text/plain": [
       "<IPython.core.display.Markdown object>"
      ]
     },
     "metadata": {},
     "output_type": "display_data"
    },
    {
     "data": {
      "text/html": [
       "<div>\n",
       "<style scoped>\n",
       "    .dataframe tbody tr th:only-of-type {\n",
       "        vertical-align: middle;\n",
       "    }\n",
       "\n",
       "    .dataframe tbody tr th {\n",
       "        vertical-align: top;\n",
       "    }\n",
       "\n",
       "    .dataframe thead th {\n",
       "        text-align: right;\n",
       "    }\n",
       "</style>\n",
       "<table border=\"1\" class=\"dataframe\">\n",
       "  <thead>\n",
       "    <tr style=\"text-align: right;\">\n",
       "      <th></th>\n",
       "      <th>enunciado_latex</th>\n",
       "      <th>enunciado</th>\n",
       "      <th>solucion</th>\n",
       "      <th>texto</th>\n",
       "      <th>curso</th>\n",
       "      <th>titulo</th>\n",
       "      <th>n_ejercicio</th>\n",
       "      <th>dificultad</th>\n",
       "      <th>n_columnas</th>\n",
       "      <th>puntos</th>\n",
       "    </tr>\n",
       "  </thead>\n",
       "  <tbody>\n",
       "    <tr>\n",
       "      <th>8</th>\n",
       "      <td>\\frac{{{3^{ - 3}} \\cdot {3^6} \\cdot {2^3}}}{{{...</td>\n",
       "      <td>(2**3*(3**6*3**(-3)))/(2*3)**5</td>\n",
       "      <td>\\frac{1}{36}</td>\n",
       "      <td>Calcula :</td>\n",
       "      <td>1BC</td>\n",
       "      <td>Autoevaluación 1</td>\n",
       "      <td>a01e02</td>\n",
       "      <td>1</td>\n",
       "      <td>3</td>\n",
       "      <td>1</td>\n",
       "    </tr>\n",
       "    <tr>\n",
       "      <th>9</th>\n",
       "      <td>{2^{ - 5}} \\cdot {( {\\frac{1}{2}} )^{ - 2}} \\c...</td>\n",
       "      <td>2**7*(2**(-5)*(1/2)**(-2))</td>\n",
       "      <td>16</td>\n",
       "      <td>Calcula :</td>\n",
       "      <td>1BC</td>\n",
       "      <td>Autoevaluación 1</td>\n",
       "      <td>a01e02</td>\n",
       "      <td>1</td>\n",
       "      <td>3</td>\n",
       "      <td>1</td>\n",
       "    </tr>\n",
       "    <tr>\n",
       "      <th>10</th>\n",
       "      <td>{( {\\frac{7}{4}} )^5} \\cdot \\frac{{{2^6}}}{{{7...</td>\n",
       "      <td>(7/4)**5*(2**6/7**2)</td>\n",
       "      <td>\\frac{343}{16}</td>\n",
       "      <td>Calcula :</td>\n",
       "      <td>1BC</td>\n",
       "      <td>Autoevaluación 1</td>\n",
       "      <td>a01e02</td>\n",
       "      <td>1</td>\n",
       "      <td>3</td>\n",
       "      <td>1</td>\n",
       "    </tr>\n",
       "    <tr>\n",
       "      <th>11</th>\n",
       "      <td>\\frac{{{2^{ - 2}} \\cdot {{( {{2^2}} )}^3}}}{{{...</td>\n",
       "      <td>(2**(-2)*(2**2)**3)/2**(-3)</td>\n",
       "      <td>128</td>\n",
       "      <td>Calcula :</td>\n",
       "      <td>1BC</td>\n",
       "      <td>Autoevaluación 1</td>\n",
       "      <td>a01e02</td>\n",
       "      <td>1</td>\n",
       "      <td>3</td>\n",
       "      <td>1</td>\n",
       "    </tr>\n",
       "    <tr>\n",
       "      <th>12</th>\n",
       "      <td>\\frac{{{5^{ - 3}} \\cdot {5^{ - 1}} \\cdot {5^2}...</td>\n",
       "      <td>(5**2*(5**(-3)/5))/(5**0 + 5**6)</td>\n",
       "      <td>\\frac{1}{390650}</td>\n",
       "      <td>Calcula :</td>\n",
       "      <td>1BC</td>\n",
       "      <td>Autoevaluación 1</td>\n",
       "      <td>a01e02</td>\n",
       "      <td>1</td>\n",
       "      <td>3</td>\n",
       "      <td>1</td>\n",
       "    </tr>\n",
       "    <tr>\n",
       "      <th>13</th>\n",
       "      <td>{( {\\frac{2}{5}} )^{ - 2}} \\cdot {( {\\frac{5}{...</td>\n",
       "      <td>(2/5)**(-2)*(5/2)**4</td>\n",
       "      <td>\\frac{15625}{64}</td>\n",
       "      <td>Calcula :</td>\n",
       "      <td>1BC</td>\n",
       "      <td>Autoevaluación 1</td>\n",
       "      <td>a01e02</td>\n",
       "      <td>1</td>\n",
       "      <td>3</td>\n",
       "      <td>1</td>\n",
       "    </tr>\n",
       "    <tr>\n",
       "      <th>14</th>\n",
       "      <td>\\frac{{\\sqrt {2}  \\cdot {{( {\\sqrt {2} } )}^3}...</td>\n",
       "      <td>((sqrt(2)*(sqrt(2))**3)*(sqrt(5))**3)/(5*sqrt(...</td>\n",
       "      <td>\\frac{2 \\sqrt{5}}{5}</td>\n",
       "      <td>Calcula :</td>\n",
       "      <td>1BC</td>\n",
       "      <td>Autoevaluación 1</td>\n",
       "      <td>a01e02</td>\n",
       "      <td>1</td>\n",
       "      <td>3</td>\n",
       "      <td>1</td>\n",
       "    </tr>\n",
       "    <tr>\n",
       "      <th>15</th>\n",
       "      <td>\\frac{{{4^{\\frac{1}{2}}} \\cdot {2^{ - 1}} \\cdo...</td>\n",
       "      <td>(2**(9/2)*(4**(1/2)/2))/sqrt(2)</td>\n",
       "      <td>16</td>\n",
       "      <td>Calcula :</td>\n",
       "      <td>1BC</td>\n",
       "      <td>Autoevaluación 1</td>\n",
       "      <td>a01e02</td>\n",
       "      <td>1</td>\n",
       "      <td>3</td>\n",
       "      <td>1</td>\n",
       "    </tr>\n",
       "  </tbody>\n",
       "</table>\n",
       "</div>"
      ],
      "text/plain": [
       "                                      enunciado_latex  \\\n",
       "8   \\frac{{{3^{ - 3}} \\cdot {3^6} \\cdot {2^3}}}{{{...   \n",
       "9   {2^{ - 5}} \\cdot {( {\\frac{1}{2}} )^{ - 2}} \\c...   \n",
       "10  {( {\\frac{7}{4}} )^5} \\cdot \\frac{{{2^6}}}{{{7...   \n",
       "11  \\frac{{{2^{ - 2}} \\cdot {{( {{2^2}} )}^3}}}{{{...   \n",
       "12  \\frac{{{5^{ - 3}} \\cdot {5^{ - 1}} \\cdot {5^2}...   \n",
       "13  {( {\\frac{2}{5}} )^{ - 2}} \\cdot {( {\\frac{5}{...   \n",
       "14  \\frac{{\\sqrt {2}  \\cdot {{( {\\sqrt {2} } )}^3}...   \n",
       "15  \\frac{{{4^{\\frac{1}{2}}} \\cdot {2^{ - 1}} \\cdo...   \n",
       "\n",
       "                                            enunciado              solucion  \\\n",
       "8                      (2**3*(3**6*3**(-3)))/(2*3)**5          \\frac{1}{36}   \n",
       "9                          2**7*(2**(-5)*(1/2)**(-2))                    16   \n",
       "10                               (7/4)**5*(2**6/7**2)        \\frac{343}{16}   \n",
       "11                        (2**(-2)*(2**2)**3)/2**(-3)                   128   \n",
       "12                   (5**2*(5**(-3)/5))/(5**0 + 5**6)      \\frac{1}{390650}   \n",
       "13                               (2/5)**(-2)*(5/2)**4      \\frac{15625}{64}   \n",
       "14  ((sqrt(2)*(sqrt(2))**3)*(sqrt(5))**3)/(5*sqrt(...  \\frac{2 \\sqrt{5}}{5}   \n",
       "15                    (2**(9/2)*(4**(1/2)/2))/sqrt(2)                    16   \n",
       "\n",
       "        texto curso            titulo n_ejercicio  dificultad  n_columnas  \\\n",
       "8   Calcula :   1BC  Autoevaluación 1      a01e02           1           3   \n",
       "9   Calcula :   1BC  Autoevaluación 1      a01e02           1           3   \n",
       "10  Calcula :   1BC  Autoevaluación 1      a01e02           1           3   \n",
       "11  Calcula :   1BC  Autoevaluación 1      a01e02           1           3   \n",
       "12  Calcula :   1BC  Autoevaluación 1      a01e02           1           3   \n",
       "13  Calcula :   1BC  Autoevaluación 1      a01e02           1           3   \n",
       "14  Calcula :   1BC  Autoevaluación 1      a01e02           1           3   \n",
       "15  Calcula :   1BC  Autoevaluación 1      a01e02           1           3   \n",
       "\n",
       "    puntos  \n",
       "8        1  \n",
       "9        1  \n",
       "10       1  \n",
       "11       1  \n",
       "12       1  \n",
       "13       1  \n",
       "14       1  \n",
       "15       1  "
      ]
     },
     "metadata": {},
     "output_type": "display_data"
    },
    {
     "data": {
      "text/markdown": [
       "**Ejercicio: **a01e03"
      ],
      "text/plain": [
       "<IPython.core.display.Markdown object>"
      ]
     },
     "metadata": {},
     "output_type": "display_data"
    },
    {
     "data": {
      "text/html": [
       "<div>\n",
       "<style scoped>\n",
       "    .dataframe tbody tr th:only-of-type {\n",
       "        vertical-align: middle;\n",
       "    }\n",
       "\n",
       "    .dataframe tbody tr th {\n",
       "        vertical-align: top;\n",
       "    }\n",
       "\n",
       "    .dataframe thead th {\n",
       "        text-align: right;\n",
       "    }\n",
       "</style>\n",
       "<table border=\"1\" class=\"dataframe\">\n",
       "  <thead>\n",
       "    <tr style=\"text-align: right;\">\n",
       "      <th></th>\n",
       "      <th>enunciado_latex</th>\n",
       "      <th>enunciado</th>\n",
       "      <th>solucion</th>\n",
       "      <th>texto</th>\n",
       "      <th>curso</th>\n",
       "      <th>titulo</th>\n",
       "      <th>n_ejercicio</th>\n",
       "      <th>dificultad</th>\n",
       "      <th>n_columnas</th>\n",
       "      <th>puntos</th>\n",
       "    </tr>\n",
       "  </thead>\n",
       "  <tbody>\n",
       "    <tr>\n",
       "      <th>16</th>\n",
       "      <td>2\\sqrt {3125}  + 3\\sqrt {20}  - 12\\sqrt {45}</td>\n",
       "      <td>-36*sqrt(5) + 3*(2*sqrt(5)) + 2*(25*sqrt(5))</td>\n",
       "      <td>20 \\sqrt{5}</td>\n",
       "      <td>Calcula:</td>\n",
       "      <td>1BC</td>\n",
       "      <td>Autoevaluación 1</td>\n",
       "      <td>a01e03</td>\n",
       "      <td>1</td>\n",
       "      <td>3</td>\n",
       "      <td>1</td>\n",
       "    </tr>\n",
       "    <tr>\n",
       "      <th>17</th>\n",
       "      <td>\\frac{1}{4}\\sqrt {3125}  - 4\\sqrt {20}  - \\fra...</td>\n",
       "      <td>-9*sqrt(5)/4 - 8*sqrt(5) + (25*sqrt(5))/4</td>\n",
       "      <td>- 4 \\sqrt{5}</td>\n",
       "      <td>Calcula:</td>\n",
       "      <td>1BC</td>\n",
       "      <td>Autoevaluación 1</td>\n",
       "      <td>a01e03</td>\n",
       "      <td>1</td>\n",
       "      <td>3</td>\n",
       "      <td>1</td>\n",
       "    </tr>\n",
       "  </tbody>\n",
       "</table>\n",
       "</div>"
      ],
      "text/plain": [
       "                                      enunciado_latex  \\\n",
       "16       2\\sqrt {3125}  + 3\\sqrt {20}  - 12\\sqrt {45}   \n",
       "17  \\frac{1}{4}\\sqrt {3125}  - 4\\sqrt {20}  - \\fra...   \n",
       "\n",
       "                                       enunciado      solucion     texto  \\\n",
       "16  -36*sqrt(5) + 3*(2*sqrt(5)) + 2*(25*sqrt(5))   20 \\sqrt{5}  Calcula:   \n",
       "17     -9*sqrt(5)/4 - 8*sqrt(5) + (25*sqrt(5))/4  - 4 \\sqrt{5}  Calcula:   \n",
       "\n",
       "   curso            titulo n_ejercicio  dificultad  n_columnas  puntos  \n",
       "16   1BC  Autoevaluación 1      a01e03           1           3       1  \n",
       "17   1BC  Autoevaluación 1      a01e03           1           3       1  "
      ]
     },
     "metadata": {},
     "output_type": "display_data"
    },
    {
     "data": {
      "text/markdown": [
       "**Ejercicio: **a01e04"
      ],
      "text/plain": [
       "<IPython.core.display.Markdown object>"
      ]
     },
     "metadata": {},
     "output_type": "display_data"
    },
    {
     "data": {
      "text/html": [
       "<div>\n",
       "<style scoped>\n",
       "    .dataframe tbody tr th:only-of-type {\n",
       "        vertical-align: middle;\n",
       "    }\n",
       "\n",
       "    .dataframe tbody tr th {\n",
       "        vertical-align: top;\n",
       "    }\n",
       "\n",
       "    .dataframe thead th {\n",
       "        text-align: right;\n",
       "    }\n",
       "</style>\n",
       "<table border=\"1\" class=\"dataframe\">\n",
       "  <thead>\n",
       "    <tr style=\"text-align: right;\">\n",
       "      <th></th>\n",
       "      <th>enunciado_latex</th>\n",
       "      <th>enunciado</th>\n",
       "      <th>solucion</th>\n",
       "      <th>texto</th>\n",
       "      <th>curso</th>\n",
       "      <th>titulo</th>\n",
       "      <th>n_ejercicio</th>\n",
       "      <th>dificultad</th>\n",
       "      <th>n_columnas</th>\n",
       "      <th>puntos</th>\n",
       "    </tr>\n",
       "  </thead>\n",
       "  <tbody>\n",
       "    <tr>\n",
       "      <th>18</th>\n",
       "      <td>(3 + x)^4</td>\n",
       "      <td>(x + 3)**4</td>\n",
       "      <td>x^{4} + 12 x^{3} + 54 x^{2} + 108 x + 81</td>\n",
       "      <td>Realiza los desarrollos de los siguientes bino...</td>\n",
       "      <td>1BC</td>\n",
       "      <td>Autoevaluación 1</td>\n",
       "      <td>a01e04</td>\n",
       "      <td>1</td>\n",
       "      <td>3</td>\n",
       "      <td>1</td>\n",
       "    </tr>\n",
       "    <tr>\n",
       "      <th>19</th>\n",
       "      <td>( {1 + 3\\sqrt{ 2} })^3</td>\n",
       "      <td>(1 + 3*sqrt(2))**3</td>\n",
       "      <td>55 + 63 \\sqrt{2}</td>\n",
       "      <td>Realiza los desarrollos de los siguientes bino...</td>\n",
       "      <td>1BC</td>\n",
       "      <td>Autoevaluación 1</td>\n",
       "      <td>a01e04</td>\n",
       "      <td>1</td>\n",
       "      <td>3</td>\n",
       "      <td>1</td>\n",
       "    </tr>\n",
       "    <tr>\n",
       "      <th>20</th>\n",
       "      <td>( {2 - 3\\sqrt{ 2} })^3</td>\n",
       "      <td>(-3*sqrt(2) + 2)**3</td>\n",
       "      <td>- 90 \\sqrt{2} + 116</td>\n",
       "      <td>Realiza los desarrollos de los siguientes bino...</td>\n",
       "      <td>1BC</td>\n",
       "      <td>Autoevaluación 1</td>\n",
       "      <td>a01e04</td>\n",
       "      <td>1</td>\n",
       "      <td>3</td>\n",
       "      <td>1</td>\n",
       "    </tr>\n",
       "    <tr>\n",
       "      <th>21</th>\n",
       "      <td>( {\\frac{x}{3} + \\frac{3}{{{x^2}}}} )^5</td>\n",
       "      <td>(x/3 + 3/x**2)**5</td>\n",
       "      <td>\\frac{x^{5}}{243} + \\frac{5 x^{2}}{27} + \\frac...</td>\n",
       "      <td>Realiza los desarrollos de los siguientes bino...</td>\n",
       "      <td>1BC</td>\n",
       "      <td>Autoevaluación 1</td>\n",
       "      <td>a01e04</td>\n",
       "      <td>1</td>\n",
       "      <td>3</td>\n",
       "      <td>1</td>\n",
       "    </tr>\n",
       "    <tr>\n",
       "      <th>22</th>\n",
       "      <td>( {\\frac{2}{\\sqrt {2} } + \\sqrt {2} } )^3</td>\n",
       "      <td>(2/sqrt(2) + sqrt(2))**3</td>\n",
       "      <td>\\frac{12 \\sqrt{2}}{2} + 10 \\sqrt{2}</td>\n",
       "      <td>Realiza los desarrollos de los siguientes bino...</td>\n",
       "      <td>1BC</td>\n",
       "      <td>Autoevaluación 1</td>\n",
       "      <td>a01e04</td>\n",
       "      <td>1</td>\n",
       "      <td>3</td>\n",
       "      <td>1</td>\n",
       "    </tr>\n",
       "    <tr>\n",
       "      <th>23</th>\n",
       "      <td>( {5\\sqrt {2} - 2\\sqrt {3} } )^3</td>\n",
       "      <td>(-2*sqrt(3) + 5*sqrt(2))**3</td>\n",
       "      <td>- 324 \\sqrt{3} + 430 \\sqrt{2}</td>\n",
       "      <td>Realiza los desarrollos de los siguientes bino...</td>\n",
       "      <td>1BC</td>\n",
       "      <td>Autoevaluación 1</td>\n",
       "      <td>a01e04</td>\n",
       "      <td>1</td>\n",
       "      <td>3</td>\n",
       "      <td>1</td>\n",
       "    </tr>\n",
       "    <tr>\n",
       "      <th>24</th>\n",
       "      <td>( {2{x^2} - \\frac{3}{x}} )^4</td>\n",
       "      <td>(2*x**2 - 3/x)**4</td>\n",
       "      <td>16 x^{8} - 96 x^{5} + 216 x^{2} - \\frac{216}{x...</td>\n",
       "      <td>Realiza los desarrollos de los siguientes bino...</td>\n",
       "      <td>1BC</td>\n",
       "      <td>Autoevaluación 1</td>\n",
       "      <td>a01e04</td>\n",
       "      <td>1</td>\n",
       "      <td>3</td>\n",
       "      <td>1</td>\n",
       "    </tr>\n",
       "  </tbody>\n",
       "</table>\n",
       "</div>"
      ],
      "text/plain": [
       "                              enunciado_latex                    enunciado  \\\n",
       "18                                  (3 + x)^4                   (x + 3)**4   \n",
       "19                     ( {1 + 3\\sqrt{ 2} })^3           (1 + 3*sqrt(2))**3   \n",
       "20                     ( {2 - 3\\sqrt{ 2} })^3          (-3*sqrt(2) + 2)**3   \n",
       "21    ( {\\frac{x}{3} + \\frac{3}{{{x^2}}}} )^5            (x/3 + 3/x**2)**5   \n",
       "22  ( {\\frac{2}{\\sqrt {2} } + \\sqrt {2} } )^3     (2/sqrt(2) + sqrt(2))**3   \n",
       "23           ( {5\\sqrt {2} - 2\\sqrt {3} } )^3  (-2*sqrt(3) + 5*sqrt(2))**3   \n",
       "24               ( {2{x^2} - \\frac{3}{x}} )^4            (2*x**2 - 3/x)**4   \n",
       "\n",
       "                                             solucion  \\\n",
       "18           x^{4} + 12 x^{3} + 54 x^{2} + 108 x + 81   \n",
       "19                                   55 + 63 \\sqrt{2}   \n",
       "20                                - 90 \\sqrt{2} + 116   \n",
       "21  \\frac{x^{5}}{243} + \\frac{5 x^{2}}{27} + \\frac...   \n",
       "22                \\frac{12 \\sqrt{2}}{2} + 10 \\sqrt{2}   \n",
       "23                      - 324 \\sqrt{3} + 430 \\sqrt{2}   \n",
       "24  16 x^{8} - 96 x^{5} + 216 x^{2} - \\frac{216}{x...   \n",
       "\n",
       "                                                texto curso            titulo  \\\n",
       "18  Realiza los desarrollos de los siguientes bino...   1BC  Autoevaluación 1   \n",
       "19  Realiza los desarrollos de los siguientes bino...   1BC  Autoevaluación 1   \n",
       "20  Realiza los desarrollos de los siguientes bino...   1BC  Autoevaluación 1   \n",
       "21  Realiza los desarrollos de los siguientes bino...   1BC  Autoevaluación 1   \n",
       "22  Realiza los desarrollos de los siguientes bino...   1BC  Autoevaluación 1   \n",
       "23  Realiza los desarrollos de los siguientes bino...   1BC  Autoevaluación 1   \n",
       "24  Realiza los desarrollos de los siguientes bino...   1BC  Autoevaluación 1   \n",
       "\n",
       "   n_ejercicio  dificultad  n_columnas  puntos  \n",
       "18      a01e04           1           3       1  \n",
       "19      a01e04           1           3       1  \n",
       "20      a01e04           1           3       1  \n",
       "21      a01e04           1           3       1  \n",
       "22      a01e04           1           3       1  \n",
       "23      a01e04           1           3       1  \n",
       "24      a01e04           1           3       1  "
      ]
     },
     "metadata": {},
     "output_type": "display_data"
    },
    {
     "data": {
      "text/markdown": [
       "**Ejercicio: **a01e05"
      ],
      "text/plain": [
       "<IPython.core.display.Markdown object>"
      ]
     },
     "metadata": {},
     "output_type": "display_data"
    },
    {
     "data": {
      "text/html": [
       "<div>\n",
       "<style scoped>\n",
       "    .dataframe tbody tr th:only-of-type {\n",
       "        vertical-align: middle;\n",
       "    }\n",
       "\n",
       "    .dataframe tbody tr th {\n",
       "        vertical-align: top;\n",
       "    }\n",
       "\n",
       "    .dataframe thead th {\n",
       "        text-align: right;\n",
       "    }\n",
       "</style>\n",
       "<table border=\"1\" class=\"dataframe\">\n",
       "  <thead>\n",
       "    <tr style=\"text-align: right;\">\n",
       "      <th></th>\n",
       "      <th>enunciado_latex</th>\n",
       "      <th>enunciado</th>\n",
       "      <th>solucion</th>\n",
       "      <th>texto</th>\n",
       "      <th>curso</th>\n",
       "      <th>titulo</th>\n",
       "      <th>n_ejercicio</th>\n",
       "      <th>dificultad</th>\n",
       "      <th>n_columnas</th>\n",
       "      <th>puntos</th>\n",
       "    </tr>\n",
       "  </thead>\n",
       "  <tbody>\n",
       "    <tr>\n",
       "      <th>25</th>\n",
       "      <td>A(x) \\cdot B(x)</td>\n",
       "      <td>A(x)*B(x)</td>\n",
       "      <td>- 2 x^{7} + 5 x^{6} - 5 x^{5} + 5 x^{4} - 6 x^...</td>\n",
       "      <td>Dados los polinomios $ A(x)=2{x^3} - 3{x^2} + ...</td>\n",
       "      <td>1BC</td>\n",
       "      <td>Autoevaluación 1</td>\n",
       "      <td>a01e05</td>\n",
       "      <td>1</td>\n",
       "      <td>3</td>\n",
       "      <td>1</td>\n",
       "    </tr>\n",
       "    <tr>\n",
       "      <th>26</th>\n",
       "      <td>A(x) - 3B(x) + 5C(x)</td>\n",
       "      <td>A(x) - 3*B(x) + 5*C(x)</td>\n",
       "      <td>8 x^{4} - x^{3} - 8 x^{2} + 4 x + \\frac{11}{3}</td>\n",
       "      <td>Dados los polinomios $ A(x)=2{x^3} - 3{x^2} + ...</td>\n",
       "      <td>1BC</td>\n",
       "      <td>Autoevaluación 1</td>\n",
       "      <td>a01e05</td>\n",
       "      <td>1</td>\n",
       "      <td>3</td>\n",
       "      <td>1</td>\n",
       "    </tr>\n",
       "    <tr>\n",
       "      <th>27</th>\n",
       "      <td>x^2\\cdot A(x) + 3x\\cdot B(x)</td>\n",
       "      <td>x**2*A(x) + (3*x)*B(x)</td>\n",
       "      <td>- x^{5} + 2 x^{3} + 2 x^{2} - 3 x</td>\n",
       "      <td>Dados los polinomios $ A(x)=2{x^3} - 3{x^2} + ...</td>\n",
       "      <td>1BC</td>\n",
       "      <td>Autoevaluación 1</td>\n",
       "      <td>a01e05</td>\n",
       "      <td>1</td>\n",
       "      <td>3</td>\n",
       "      <td>1</td>\n",
       "    </tr>\n",
       "  </tbody>\n",
       "</table>\n",
       "</div>"
      ],
      "text/plain": [
       "                 enunciado_latex               enunciado  \\\n",
       "25               A(x) \\cdot B(x)               A(x)*B(x)   \n",
       "26          A(x) - 3B(x) + 5C(x)  A(x) - 3*B(x) + 5*C(x)   \n",
       "27  x^2\\cdot A(x) + 3x\\cdot B(x)  x**2*A(x) + (3*x)*B(x)   \n",
       "\n",
       "                                             solucion  \\\n",
       "25  - 2 x^{7} + 5 x^{6} - 5 x^{5} + 5 x^{4} - 6 x^...   \n",
       "26     8 x^{4} - x^{3} - 8 x^{2} + 4 x + \\frac{11}{3}   \n",
       "27                  - x^{5} + 2 x^{3} + 2 x^{2} - 3 x   \n",
       "\n",
       "                                                texto curso            titulo  \\\n",
       "25  Dados los polinomios $ A(x)=2{x^3} - 3{x^2} + ...   1BC  Autoevaluación 1   \n",
       "26  Dados los polinomios $ A(x)=2{x^3} - 3{x^2} + ...   1BC  Autoevaluación 1   \n",
       "27  Dados los polinomios $ A(x)=2{x^3} - 3{x^2} + ...   1BC  Autoevaluación 1   \n",
       "\n",
       "   n_ejercicio  dificultad  n_columnas  puntos  \n",
       "25      a01e05           1           3       1  \n",
       "26      a01e05           1           3       1  \n",
       "27      a01e05           1           3       1  "
      ]
     },
     "metadata": {},
     "output_type": "display_data"
    },
    {
     "data": {
      "text/markdown": [
       "**Ejercicio: **a01e06"
      ],
      "text/plain": [
       "<IPython.core.display.Markdown object>"
      ]
     },
     "metadata": {},
     "output_type": "display_data"
    },
    {
     "data": {
      "text/html": [
       "<div>\n",
       "<style scoped>\n",
       "    .dataframe tbody tr th:only-of-type {\n",
       "        vertical-align: middle;\n",
       "    }\n",
       "\n",
       "    .dataframe tbody tr th {\n",
       "        vertical-align: top;\n",
       "    }\n",
       "\n",
       "    .dataframe thead th {\n",
       "        text-align: right;\n",
       "    }\n",
       "</style>\n",
       "<table border=\"1\" class=\"dataframe\">\n",
       "  <thead>\n",
       "    <tr style=\"text-align: right;\">\n",
       "      <th></th>\n",
       "      <th>enunciado_latex</th>\n",
       "      <th>enunciado</th>\n",
       "      <th>solucion</th>\n",
       "      <th>texto</th>\n",
       "      <th>curso</th>\n",
       "      <th>titulo</th>\n",
       "      <th>n_ejercicio</th>\n",
       "      <th>dificultad</th>\n",
       "      <th>n_columnas</th>\n",
       "      <th>puntos</th>\n",
       "    </tr>\n",
       "  </thead>\n",
       "  <tbody>\n",
       "    <tr>\n",
       "      <th>28</th>\n",
       "      <td>2 x^{3} - 6 x^{2} - 26 x + 30</td>\n",
       "      <td>-26*x + 2*x**3 - 6*x**2 + 30</td>\n",
       "      <td>2 \\left(x - 5\\right) \\left(x - 1\\right) \\left(...</td>\n",
       "      <td>Descomponer en factores</td>\n",
       "      <td>1BC</td>\n",
       "      <td>Autoevaluación 1</td>\n",
       "      <td>a01e06</td>\n",
       "      <td>1</td>\n",
       "      <td>2</td>\n",
       "      <td>1</td>\n",
       "    </tr>\n",
       "    <tr>\n",
       "      <th>29</th>\n",
       "      <td>2 x^{3} + 2 x^{2} - 12 x</td>\n",
       "      <td>-12*x + 2*x**3 + 2*x**2</td>\n",
       "      <td>2 x \\left(x - 2\\right) \\left(x + 3\\right)</td>\n",
       "      <td>Descomponer en factores</td>\n",
       "      <td>1BC</td>\n",
       "      <td>Autoevaluación 1</td>\n",
       "      <td>a01e06</td>\n",
       "      <td>1</td>\n",
       "      <td>2</td>\n",
       "      <td>1</td>\n",
       "    </tr>\n",
       "    <tr>\n",
       "      <th>30</th>\n",
       "      <td>6 x^{3} + 2 x^{2} - 24 x - 8</td>\n",
       "      <td>-24*x + 6*x**3 + 2*x**2 - 8</td>\n",
       "      <td>6 \\left(x - 2\\right) \\left(x + \\frac{1}{3}\\rig...</td>\n",
       "      <td>Descomponer en factores</td>\n",
       "      <td>1BC</td>\n",
       "      <td>Autoevaluación 1</td>\n",
       "      <td>a01e06</td>\n",
       "      <td>1</td>\n",
       "      <td>2</td>\n",
       "      <td>1</td>\n",
       "    </tr>\n",
       "    <tr>\n",
       "      <th>31</th>\n",
       "      <td>2 x^{5} - 8 x^{3} - 2 x^{2} + 8</td>\n",
       "      <td>-2*x**2 + 2*x**5 - 8*x**3 + 8</td>\n",
       "      <td>2 \\left(x - 2\\right) \\left(x - 1\\right) \\left(...</td>\n",
       "      <td>Descomponer en factores</td>\n",
       "      <td>1BC</td>\n",
       "      <td>Autoevaluación 1</td>\n",
       "      <td>a01e06</td>\n",
       "      <td>1</td>\n",
       "      <td>2</td>\n",
       "      <td>1</td>\n",
       "    </tr>\n",
       "  </tbody>\n",
       "</table>\n",
       "</div>"
      ],
      "text/plain": [
       "                    enunciado_latex                      enunciado  \\\n",
       "28    2 x^{3} - 6 x^{2} - 26 x + 30   -26*x + 2*x**3 - 6*x**2 + 30   \n",
       "29         2 x^{3} + 2 x^{2} - 12 x        -12*x + 2*x**3 + 2*x**2   \n",
       "30     6 x^{3} + 2 x^{2} - 24 x - 8    -24*x + 6*x**3 + 2*x**2 - 8   \n",
       "31  2 x^{5} - 8 x^{3} - 2 x^{2} + 8  -2*x**2 + 2*x**5 - 8*x**3 + 8   \n",
       "\n",
       "                                             solucion  \\\n",
       "28  2 \\left(x - 5\\right) \\left(x - 1\\right) \\left(...   \n",
       "29          2 x \\left(x - 2\\right) \\left(x + 3\\right)   \n",
       "30  6 \\left(x - 2\\right) \\left(x + \\frac{1}{3}\\rig...   \n",
       "31  2 \\left(x - 2\\right) \\left(x - 1\\right) \\left(...   \n",
       "\n",
       "                      texto curso            titulo n_ejercicio  dificultad  \\\n",
       "28  Descomponer en factores   1BC  Autoevaluación 1      a01e06           1   \n",
       "29  Descomponer en factores   1BC  Autoevaluación 1      a01e06           1   \n",
       "30  Descomponer en factores   1BC  Autoevaluación 1      a01e06           1   \n",
       "31  Descomponer en factores   1BC  Autoevaluación 1      a01e06           1   \n",
       "\n",
       "    n_columnas  puntos  \n",
       "28           2       1  \n",
       "29           2       1  \n",
       "30           2       1  \n",
       "31           2       1  "
      ]
     },
     "metadata": {},
     "output_type": "display_data"
    }
   ],
   "source": [
    "df_ejercicios.to_csv('ejercicios_auto11.csv', index = False)\n",
    "df_ejercicios = pd.read_csv('ejercicios_auto11.csv', index_col= None)\n",
    "escribir_preambulo(fichero, titulo)\n",
    "for s in df_ejercicios.groupby('n_ejercicio').count().index : \n",
    "    display(md(\"**Ejercicio: **\" + s ))\n",
    "    display(df_ejercicios[df_ejercicios.n_ejercicio == s])\n",
    "    escribir_ejercicios(df_ejercicios[df_ejercicios.n_ejercicio == s],fichero)\n",
    "\n",
    "escribir_fin(fichero)"
   ]
  },
  {
   "cell_type": "code",
   "execution_count": null,
   "metadata": {},
   "outputs": [],
   "source": []
  }
 ],
 "metadata": {
  "kernelspec": {
   "display_name": "Python 3",
   "language": "python",
   "name": "python3"
  },
  "language_info": {
   "codemirror_mode": {
    "name": "ipython",
    "version": 3
   },
   "file_extension": ".py",
   "mimetype": "text/x-python",
   "name": "python",
   "nbconvert_exporter": "python",
   "pygments_lexer": "ipython3",
   "version": "3.6.8"
  }
 },
 "nbformat": 4,
 "nbformat_minor": 2
}
