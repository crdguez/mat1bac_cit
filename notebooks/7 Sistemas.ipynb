{
  "nbformat": 4,
  "nbformat_minor": 0,
  "metadata": {
    "colab": {
      "name": "7 Sistemas.ipynb",
      "version": "0.3.2",
      "provenance": [],
      "include_colab_link": true
    },
    "kernelspec": {
      "display_name": "Python 3",
      "language": "python",
      "name": "python3"
    }
  },
  "cells": [
    {
      "cell_type": "markdown",
      "metadata": {
        "id": "view-in-github",
        "colab_type": "text"
      },
      "source": [
        "<a href=\"https://colab.research.google.com/github/crdguez/mat1bac_cit/blob/master/notebooks/7%20Sistemas.ipynb\" target=\"_parent\"><img src=\"https://colab.research.google.com/assets/colab-badge.svg\" alt=\"Open In Colab\"/></a>"
      ]
    },
    {
      "metadata": {
        "id": "DuyfB2-_A_nG",
        "colab_type": "text"
      },
      "cell_type": "markdown",
      "source": [
        "<a href=\"https://colab.research.google.com/github/crdguez/mat1bac_cit/blob/master/notebooks/Ejercicios1_3.ipynb\"><img align=\"left\" src=\"https://colab.research.google.com/assets/colab-badge.svg\" alt=\"Open in Colab\" title=\"Open and Execute in Google Colaboratory\"></a>"
      ]
    },
    {
      "metadata": {
        "id": "uoSET16GA_nR",
        "colab_type": "code",
        "colab": {},
        "outputId": "4ef153cd-0821-4fb7-c9d6-e0e01e5bc3af"
      },
      "cell_type": "code",
      "source": [
        "from sympy import init_session\n",
        "from sympy import div, QQ\n",
        "from sympy.parsing.latex import parse_latex\n",
        "from sympy.parsing.sympy_parser import parse_expr\n",
        "#from sympy.functions.combinatorial.numbers import nC, nP, nT\n",
        "from IPython.display import Markdown as md\n",
        "from IPython.display import display\n",
        "import pandas as pd\n",
        "\n",
        "init_session()\n",
        "\n",
        "a, b, c, d = symbols('a b c d', real = True)\n",
        "from docparts import añadir_ejercicios, doc_ejer, escribir_preambulo, escribir_ejercicios, escribir_fin\n",
        "\n",
        "df_ejercicios = pd.DataFrame()\n",
        "\n",
        "fichero = 'sistemas_ecuaciones'\n",
        "titulo = '7 - Sistemas de ecuaciones'\n",
        "curso = '1BC'\n",
        "\n"
      ],
      "execution_count": 0,
      "outputs": [
        {
          "output_type": "stream",
          "text": [
            "IPython console for SymPy 1.2 (Python 3.6.5-64-bit) (ground types: gmpy)\n",
            "\n",
            "These commands were executed:\n",
            ">>> from __future__ import division\n",
            ">>> from sympy import *\n",
            ">>> x, y, z, t = symbols('x y z t')\n",
            ">>> k, m, n = symbols('k m n', integer=True)\n",
            ">>> f, g, h = symbols('f g h', cls=Function)\n",
            ">>> init_printing()\n",
            "\n",
            "Documentation can be found at http://docs.sympy.org/1.2/\n",
            "\n"
          ],
          "name": "stdout"
        }
      ]
    },
    {
      "metadata": {
        "id": "77UJCXVIA_nu",
        "colab_type": "code",
        "colab": {}
      },
      "cell_type": "code",
      "source": [
        "#sist = [r'3x - 2y = 1',r'x + 6y = 7']\n",
        "\n",
        "def sol_sist(sist):\n",
        "    sist_latex = r\"\"\"\\left\\{\\begin{matrix}\"\"\"\n",
        "    eq = []\n",
        "\n",
        "    for i,e in enumerate(sist):\n",
        "        sist_latex = sist_latex + e + r'\\\\ '\n",
        "        eq.append(Eq(parse_latex(e[:e.find('=')]),parse_latex(e[e.find('=')+1:])))\n",
        "\n",
        "    sist_latex = sist_latex + r'\\end{matrix}\\right.'\n",
        "\n",
        "    #md(\"$\"+sist_latex+\"$\")\n",
        "    return [sist_latex, eq, solve(eq)]\n",
        "\n",
        "#sol_sist(sist)\n",
        "\n",
        "#md(\"$\"+sol_sist(sist)[0]+\"$\")\n",
        "\n",
        "    "
      ],
      "execution_count": 0,
      "outputs": []
    },
    {
      "metadata": {
        "id": "2HFkgfNRA_n_",
        "colab_type": "code",
        "colab": {},
        "outputId": "09fca6e9-5f9b-4eb4-e61f-af48c068730f"
      },
      "cell_type": "code",
      "source": [
        "# Página 19 ejercicio 1\n",
        "\n",
        "texto_ejercicio = 'Resuelve los sistemas:'\n",
        "n_ejercicio = 'p019e01'\n",
        "\n",
        "display(md(\"**\"+texto_ejercicio+\"**\"))\n",
        "\n",
        "pre_enunciado_latex = [[r'3x - 2y = 1',r'x + 6y = 7'],\n",
        "                       [r'6x - 2y = 14',r'3x - y = 7 '],\n",
        "                       [r'6x - 2y = 9',r'3x - y = 10'],\n",
        "                       [r'4x + 7y =  - 3',r'7x + 4y = 36'],\n",
        "                       [r' 4x + 16 = 5y',r' 5y - 19 = 3x'],\n",
        "                       [r'x - 5 = y + 2',r'1 + 3x + 2y = x - 4'],\n",
        "                       [r'x - 5 = y + 2',r'3x - 2y = x - 5'],\n",
        "                       [r'x + 3y = 6',r'6y - 5 = 7 - 2x'],\n",
        "                       [r'x - y = 8',r' x + y = 24'],\n",
        "                       [r'x + 2y = 11',r'2x - y = 2'],\n",
        "                       [r'3x - 4y =  - 9',r'2x + y = 5'],\n",
        "                       [r'10( {x - 2} ) + y = 1',r'x + 3( {x - y} ) = 5'],\n",
        "                       [r'\\frac{{x - y}}{2} + \\frac{{x - y}}{3} = 5',r'\\frac{{x + 7}}{4} + y = 3'],\n",
        "                       [r'\\frac{{3( {y + 2x + 2} )}}{4} = \\frac{{4x + y - 1}}{3} ',r' \\frac{1}{3}( {x + y} ) - \\frac{1}{6}( {x - y} ) = \\frac{{y - 1}}{6}'],\n",
        "                       [r' x - 2( {x + y} ) = 3y - 2',r' \\frac{x}{3} + \\frac{y}{2} = 3'],\n",
        "                       [r'\\frac{{3 - 2y}}{4} - \\frac{1}{4} = \\frac{{1 - 2x}}{6}',r' \\frac{{25}}{8} - 1 = \\frac{{x + 3}}{2} - \\frac{{3( {1 + y} )}}{8}'],\n",
        "                       [r'\\frac{{4y - 5x}}{6} + \\frac{{3x - 2y}}{2} = 1 - \\frac{2}{9}( {x + y} )',r'\\frac{{4y + x - 8}}{8} - x = \\frac{{2( {y - 2x} )}}{3}']                    ]\n",
        "\n",
        "\n",
        "\n",
        "\n",
        "enunciado_latex,enunciado, solucion = [], [], []\n",
        "\n",
        "for i, s in enumerate(pre_enunciado_latex) :\n",
        "    enl=sol_sist(s)[0]\n",
        "    enunciado_latex.append(enl)\n",
        "    en=sol_sist(s)[1]\n",
        "    enunciado.append(en)\n",
        "    so=sol_sist(s)[2]\n",
        "    solucion.append(latex(so)) \n",
        "    display(md(\"$\"+ enunciado_latex[i] +\" \\\\rightarrow \" + solucion[i] +\"$\"))\n",
        "\n",
        "df_ejercicios = df_ejercicios.append(añadir_ejercicios(enunciado_latex, enunciado, solucion, texto_ejercicio, curso, titulo , n_ejercicio, '1', '2'), ignore_index=True)\n"
      ],
      "execution_count": 0,
      "outputs": [
        {
          "output_type": "display_data",
          "data": {
            "text/markdown": "**Resuelve los sistemas:**",
            "text/plain": [
              "<IPython.core.display.Markdown object>"
            ]
          },
          "metadata": {
            "tags": []
          }
        },
        {
          "output_type": "display_data",
          "data": {
            "text/markdown": "$\\left\\{\\begin{matrix}3x - 2y = 1\\\\ x + 6y = 7\\\\ \\end{matrix}\\right. \\rightarrow \\left \\{ x : 1, \\quad y : 1\\right \\}$",
            "text/plain": [
              "<IPython.core.display.Markdown object>"
            ]
          },
          "metadata": {
            "tags": []
          }
        },
        {
          "output_type": "display_data",
          "data": {
            "text/markdown": "$\\left\\{\\begin{matrix}6x - 2y = 14\\\\ 3x - y = 7 \\\\ \\end{matrix}\\right. \\rightarrow \\left \\{ x : \\frac{y}{3} + \\frac{7}{3}\\right \\}$",
            "text/plain": [
              "<IPython.core.display.Markdown object>"
            ]
          },
          "metadata": {
            "tags": []
          }
        },
        {
          "output_type": "display_data",
          "data": {
            "text/markdown": "$\\left\\{\\begin{matrix}6x - 2y = 9\\\\ 3x - y = 10\\\\ \\end{matrix}\\right. \\rightarrow \\left [ \\right ]$",
            "text/plain": [
              "<IPython.core.display.Markdown object>"
            ]
          },
          "metadata": {
            "tags": []
          }
        },
        {
          "output_type": "display_data",
          "data": {
            "text/markdown": "$\\left\\{\\begin{matrix}4x + 7y =  - 3\\\\ 7x + 4y = 36\\\\ \\end{matrix}\\right. \\rightarrow \\left \\{ x : 8, \\quad y : -5\\right \\}$",
            "text/plain": [
              "<IPython.core.display.Markdown object>"
            ]
          },
          "metadata": {
            "tags": []
          }
        },
        {
          "output_type": "display_data",
          "data": {
            "text/markdown": "$\\left\\{\\begin{matrix} 4x + 16 = 5y\\\\  5y - 19 = 3x\\\\ \\end{matrix}\\right. \\rightarrow \\left \\{ x : 3, \\quad y : \\frac{28}{5}\\right \\}$",
            "text/plain": [
              "<IPython.core.display.Markdown object>"
            ]
          },
          "metadata": {
            "tags": []
          }
        },
        {
          "output_type": "display_data",
          "data": {
            "text/markdown": "$\\left\\{\\begin{matrix}x - 5 = y + 2\\\\ 1 + 3x + 2y = x - 4\\\\ \\end{matrix}\\right. \\rightarrow \\left \\{ x : \\frac{9}{4}, \\quad y : - \\frac{19}{4}\\right \\}$",
            "text/plain": [
              "<IPython.core.display.Markdown object>"
            ]
          },
          "metadata": {
            "tags": []
          }
        },
        {
          "output_type": "display_data",
          "data": {
            "text/markdown": "$\\left\\{\\begin{matrix}x - 5 = y + 2\\\\ 3x - 2y = x - 5\\\\ \\end{matrix}\\right. \\rightarrow \\left [ \\right ]$",
            "text/plain": [
              "<IPython.core.display.Markdown object>"
            ]
          },
          "metadata": {
            "tags": []
          }
        },
        {
          "output_type": "display_data",
          "data": {
            "text/markdown": "$\\left\\{\\begin{matrix}x + 3y = 6\\\\ 6y - 5 = 7 - 2x\\\\ \\end{matrix}\\right. \\rightarrow \\left \\{ x : - 3 y + 6\\right \\}$",
            "text/plain": [
              "<IPython.core.display.Markdown object>"
            ]
          },
          "metadata": {
            "tags": []
          }
        },
        {
          "output_type": "display_data",
          "data": {
            "text/markdown": "$\\left\\{\\begin{matrix}x - y = 8\\\\  x + y = 24\\\\ \\end{matrix}\\right. \\rightarrow \\left \\{ x : 16, \\quad y : 8\\right \\}$",
            "text/plain": [
              "<IPython.core.display.Markdown object>"
            ]
          },
          "metadata": {
            "tags": []
          }
        },
        {
          "output_type": "display_data",
          "data": {
            "text/markdown": "$\\left\\{\\begin{matrix}x + 2y = 11\\\\ 2x - y = 2\\\\ \\end{matrix}\\right. \\rightarrow \\left \\{ x : 3, \\quad y : 4\\right \\}$",
            "text/plain": [
              "<IPython.core.display.Markdown object>"
            ]
          },
          "metadata": {
            "tags": []
          }
        },
        {
          "output_type": "display_data",
          "data": {
            "text/markdown": "$\\left\\{\\begin{matrix}3x - 4y =  - 9\\\\ 2x + y = 5\\\\ \\end{matrix}\\right. \\rightarrow \\left \\{ x : 1, \\quad y : 3\\right \\}$",
            "text/plain": [
              "<IPython.core.display.Markdown object>"
            ]
          },
          "metadata": {
            "tags": []
          }
        },
        {
          "output_type": "display_data",
          "data": {
            "text/markdown": "$\\left\\{\\begin{matrix}10( {x - 2} ) + y = 1\\\\ x + 3( {x - y} ) = 5\\\\ \\end{matrix}\\right. \\rightarrow \\left \\{ x : 2, \\quad y : 1\\right \\}$",
            "text/plain": [
              "<IPython.core.display.Markdown object>"
            ]
          },
          "metadata": {
            "tags": []
          }
        },
        {
          "output_type": "display_data",
          "data": {
            "text/markdown": "$\\left\\{\\begin{matrix}\\frac{{x - y}}{2} + \\frac{{x - y}}{3} = 5\\\\ \\frac{{x + 7}}{4} + y = 3\\\\ \\end{matrix}\\right. \\rightarrow \\left \\{ x : \\frac{29}{5}, \\quad y : - \\frac{1}{5}\\right \\}$",
            "text/plain": [
              "<IPython.core.display.Markdown object>"
            ]
          },
          "metadata": {
            "tags": []
          }
        },
        {
          "output_type": "display_data",
          "data": {
            "text/markdown": "$\\left\\{\\begin{matrix}\\frac{{3( {y + 2x + 2} )}}{4} = \\frac{{4x + y - 1}}{3} \\\\  \\frac{1}{3}( {x + y} ) - \\frac{1}{6}( {x - y} ) = \\frac{{y - 1}}{6}\\\\ \\end{matrix}\\right. \\rightarrow \\left \\{ x : 39, \\quad y : -20\\right \\}$",
            "text/plain": [
              "<IPython.core.display.Markdown object>"
            ]
          },
          "metadata": {
            "tags": []
          }
        },
        {
          "output_type": "display_data",
          "data": {
            "text/markdown": "$\\left\\{\\begin{matrix} x - 2( {x + y} ) = 3y - 2\\\\  \\frac{x}{3} + \\frac{y}{2} = 3\\\\ \\end{matrix}\\right. \\rightarrow \\left \\{ x : 12, \\quad y : -2\\right \\}$",
            "text/plain": [
              "<IPython.core.display.Markdown object>"
            ]
          },
          "metadata": {
            "tags": []
          }
        },
        {
          "output_type": "display_data",
          "data": {
            "text/markdown": "$\\left\\{\\begin{matrix}\\frac{{3 - 2y}}{4} - \\frac{1}{4} = \\frac{{1 - 2x}}{6}\\\\  \\frac{{25}}{8} - 1 = \\frac{{x + 3}}{2} - \\frac{{3( {1 + y} )}}{8}\\\\ \\end{matrix}\\right. \\rightarrow \\left \\{ x : 5, \\quad y : 4\\right \\}$",
            "text/plain": [
              "<IPython.core.display.Markdown object>"
            ]
          },
          "metadata": {
            "tags": []
          }
        },
        {
          "output_type": "display_data",
          "data": {
            "text/markdown": "$\\left\\{\\begin{matrix}\\frac{{4y - 5x}}{6} + \\frac{{3x - 2y}}{2} = 1 - \\frac{2}{9}( {x + y} )\\\\ \\frac{{4y + x - 8}}{8} - x = \\frac{{2( {y - 2x} )}}{3}\\\\ \\end{matrix}\\right. \\rightarrow \\left \\{ x : \\frac{4}{7}, \\quad y : - \\frac{31}{7}\\right \\}$",
            "text/plain": [
              "<IPython.core.display.Markdown object>"
            ]
          },
          "metadata": {
            "tags": []
          }
        }
      ]
    },
    {
      "metadata": {
        "id": "pveS6R7_A_oW",
        "colab_type": "code",
        "colab": {}
      },
      "cell_type": "code",
      "source": [
        "df_ejercicios.to_csv('ejercicios7.csv', index = False)"
      ],
      "execution_count": 0,
      "outputs": []
    },
    {
      "metadata": {
        "id": "bA557zcgA_oj",
        "colab_type": "code",
        "colab": {}
      },
      "cell_type": "code",
      "source": [
        "df_ejercicios = pd.read_csv('ejercicios7.csv', index_col= None)"
      ],
      "execution_count": 0,
      "outputs": []
    },
    {
      "metadata": {
        "id": "fDC0poQ_A_ov",
        "colab_type": "code",
        "colab": {},
        "outputId": "f3eacb84-4ed6-49c2-8353-7bbf5c574879"
      },
      "cell_type": "code",
      "source": [
        "escribir_preambulo(fichero, titulo, 'ejercicios')\n",
        "for s in df_ejercicios.groupby('n_ejercicio').count().index : \n",
        "    display(md(\"**Ejercicio: **\" + s ))\n",
        "    display(df_ejercicios[df_ejercicios.n_ejercicio == s])\n",
        "    escribir_ejercicios(df_ejercicios[df_ejercicios.n_ejercicio == s],fichero)\n",
        "\n",
        "escribir_fin(fichero)"
      ],
      "execution_count": 0,
      "outputs": [
        {
          "output_type": "display_data",
          "data": {
            "text/markdown": "**Ejercicio: **p019e01",
            "text/plain": [
              "<IPython.core.display.Markdown object>"
            ]
          },
          "metadata": {
            "tags": []
          }
        },
        {
          "output_type": "display_data",
          "data": {
            "text/html": [
              "<div>\n",
              "<style scoped>\n",
              "    .dataframe tbody tr th:only-of-type {\n",
              "        vertical-align: middle;\n",
              "    }\n",
              "\n",
              "    .dataframe tbody tr th {\n",
              "        vertical-align: top;\n",
              "    }\n",
              "\n",
              "    .dataframe thead th {\n",
              "        text-align: right;\n",
              "    }\n",
              "</style>\n",
              "<table border=\"1\" class=\"dataframe\">\n",
              "  <thead>\n",
              "    <tr style=\"text-align: right;\">\n",
              "      <th></th>\n",
              "      <th>enunciado_latex</th>\n",
              "      <th>enunciado</th>\n",
              "      <th>solucion</th>\n",
              "      <th>texto</th>\n",
              "      <th>curso</th>\n",
              "      <th>titulo</th>\n",
              "      <th>n_ejercicio</th>\n",
              "      <th>dificultad</th>\n",
              "      <th>n_columnas</th>\n",
              "      <th>puntos</th>\n",
              "      <th>enun_tex</th>\n",
              "    </tr>\n",
              "  </thead>\n",
              "  <tbody>\n",
              "    <tr>\n",
              "      <th>0</th>\n",
              "      <td>\\left\\{\\begin{matrix}3x - 2y = 1\\\\ x + 6y = 7\\...</td>\n",
              "      <td>[Eq(3*x - 2*y, 1), Eq(x + 6*y, 7)]</td>\n",
              "      <td>\\left \\{ x : 1, \\quad y : 1\\right \\}</td>\n",
              "      <td>Resuelve los sistemas:</td>\n",
              "      <td>1BC</td>\n",
              "      <td>7 - Sistemas de ecuaciones</td>\n",
              "      <td>p019e01</td>\n",
              "      <td>1</td>\n",
              "      <td>2</td>\n",
              "      <td>1</td>\n",
              "      <td>True</td>\n",
              "    </tr>\n",
              "    <tr>\n",
              "      <th>1</th>\n",
              "      <td>\\left\\{\\begin{matrix}6x - 2y = 14\\\\ 3x - y = 7...</td>\n",
              "      <td>[Eq(6*x - 2*y, 14), Eq(3*x - y, 7)]</td>\n",
              "      <td>\\left \\{ x : \\frac{y}{3} + \\frac{7}{3}\\right \\}</td>\n",
              "      <td>Resuelve los sistemas:</td>\n",
              "      <td>1BC</td>\n",
              "      <td>7 - Sistemas de ecuaciones</td>\n",
              "      <td>p019e01</td>\n",
              "      <td>1</td>\n",
              "      <td>2</td>\n",
              "      <td>1</td>\n",
              "      <td>True</td>\n",
              "    </tr>\n",
              "    <tr>\n",
              "      <th>2</th>\n",
              "      <td>\\left\\{\\begin{matrix}6x - 2y = 9\\\\ 3x - y = 10...</td>\n",
              "      <td>[Eq(6*x - 2*y, 9), Eq(3*x - y, 10)]</td>\n",
              "      <td>\\left [ \\right ]</td>\n",
              "      <td>Resuelve los sistemas:</td>\n",
              "      <td>1BC</td>\n",
              "      <td>7 - Sistemas de ecuaciones</td>\n",
              "      <td>p019e01</td>\n",
              "      <td>1</td>\n",
              "      <td>2</td>\n",
              "      <td>1</td>\n",
              "      <td>True</td>\n",
              "    </tr>\n",
              "    <tr>\n",
              "      <th>3</th>\n",
              "      <td>\\left\\{\\begin{matrix}4x + 7y =  - 3\\\\ 7x + 4y ...</td>\n",
              "      <td>[Eq(4*x + 7*y, -3), Eq(7*x + 4*y, 36)]</td>\n",
              "      <td>\\left \\{ x : 8, \\quad y : -5\\right \\}</td>\n",
              "      <td>Resuelve los sistemas:</td>\n",
              "      <td>1BC</td>\n",
              "      <td>7 - Sistemas de ecuaciones</td>\n",
              "      <td>p019e01</td>\n",
              "      <td>1</td>\n",
              "      <td>2</td>\n",
              "      <td>1</td>\n",
              "      <td>True</td>\n",
              "    </tr>\n",
              "    <tr>\n",
              "      <th>4</th>\n",
              "      <td>\\left\\{\\begin{matrix} 4x + 16 = 5y\\\\  5y - 19 ...</td>\n",
              "      <td>[Eq(4*x + 16, 5*y), Eq(5*y - 19, 3*x)]</td>\n",
              "      <td>\\left \\{ x : 3, \\quad y : \\frac{28}{5}\\right \\}</td>\n",
              "      <td>Resuelve los sistemas:</td>\n",
              "      <td>1BC</td>\n",
              "      <td>7 - Sistemas de ecuaciones</td>\n",
              "      <td>p019e01</td>\n",
              "      <td>1</td>\n",
              "      <td>2</td>\n",
              "      <td>1</td>\n",
              "      <td>True</td>\n",
              "    </tr>\n",
              "    <tr>\n",
              "      <th>5</th>\n",
              "      <td>\\left\\{\\begin{matrix}x - 5 = y + 2\\\\ 1 + 3x + ...</td>\n",
              "      <td>[Eq(x - 5, y + 2), Eq(2*y + 3*x + 1, x - 4)]</td>\n",
              "      <td>\\left \\{ x : \\frac{9}{4}, \\quad y : - \\frac{19...</td>\n",
              "      <td>Resuelve los sistemas:</td>\n",
              "      <td>1BC</td>\n",
              "      <td>7 - Sistemas de ecuaciones</td>\n",
              "      <td>p019e01</td>\n",
              "      <td>1</td>\n",
              "      <td>2</td>\n",
              "      <td>1</td>\n",
              "      <td>True</td>\n",
              "    </tr>\n",
              "    <tr>\n",
              "      <th>6</th>\n",
              "      <td>\\left\\{\\begin{matrix}x - 5 = y + 2\\\\ 3x - 2y =...</td>\n",
              "      <td>[Eq(x - 5, y + 2), Eq(3*x - 2*y, x - 5)]</td>\n",
              "      <td>\\left [ \\right ]</td>\n",
              "      <td>Resuelve los sistemas:</td>\n",
              "      <td>1BC</td>\n",
              "      <td>7 - Sistemas de ecuaciones</td>\n",
              "      <td>p019e01</td>\n",
              "      <td>1</td>\n",
              "      <td>2</td>\n",
              "      <td>1</td>\n",
              "      <td>True</td>\n",
              "    </tr>\n",
              "    <tr>\n",
              "      <th>7</th>\n",
              "      <td>\\left\\{\\begin{matrix}x + 3y = 6\\\\ 6y - 5 = 7 -...</td>\n",
              "      <td>[Eq(x + 3*y, 6), Eq(6*y - 5, -2*x + 7)]</td>\n",
              "      <td>\\left \\{ x : - 3 y + 6\\right \\}</td>\n",
              "      <td>Resuelve los sistemas:</td>\n",
              "      <td>1BC</td>\n",
              "      <td>7 - Sistemas de ecuaciones</td>\n",
              "      <td>p019e01</td>\n",
              "      <td>1</td>\n",
              "      <td>2</td>\n",
              "      <td>1</td>\n",
              "      <td>True</td>\n",
              "    </tr>\n",
              "    <tr>\n",
              "      <th>8</th>\n",
              "      <td>\\left\\{\\begin{matrix}x - y = 8\\\\  x + y = 24\\\\...</td>\n",
              "      <td>[Eq(x - y, 8), Eq(x + y, 24)]</td>\n",
              "      <td>\\left \\{ x : 16, \\quad y : 8\\right \\}</td>\n",
              "      <td>Resuelve los sistemas:</td>\n",
              "      <td>1BC</td>\n",
              "      <td>7 - Sistemas de ecuaciones</td>\n",
              "      <td>p019e01</td>\n",
              "      <td>1</td>\n",
              "      <td>2</td>\n",
              "      <td>1</td>\n",
              "      <td>True</td>\n",
              "    </tr>\n",
              "    <tr>\n",
              "      <th>9</th>\n",
              "      <td>\\left\\{\\begin{matrix}x + 2y = 11\\\\ 2x - y = 2\\...</td>\n",
              "      <td>[Eq(x + 2*y, 11), Eq(2*x - y, 2)]</td>\n",
              "      <td>\\left \\{ x : 3, \\quad y : 4\\right \\}</td>\n",
              "      <td>Resuelve los sistemas:</td>\n",
              "      <td>1BC</td>\n",
              "      <td>7 - Sistemas de ecuaciones</td>\n",
              "      <td>p019e01</td>\n",
              "      <td>1</td>\n",
              "      <td>2</td>\n",
              "      <td>1</td>\n",
              "      <td>True</td>\n",
              "    </tr>\n",
              "    <tr>\n",
              "      <th>10</th>\n",
              "      <td>\\left\\{\\begin{matrix}3x - 4y =  - 9\\\\ 2x + y =...</td>\n",
              "      <td>[Eq(3*x - 4*y, -9), Eq(2*x + y, 5)]</td>\n",
              "      <td>\\left \\{ x : 1, \\quad y : 3\\right \\}</td>\n",
              "      <td>Resuelve los sistemas:</td>\n",
              "      <td>1BC</td>\n",
              "      <td>7 - Sistemas de ecuaciones</td>\n",
              "      <td>p019e01</td>\n",
              "      <td>1</td>\n",
              "      <td>2</td>\n",
              "      <td>1</td>\n",
              "      <td>True</td>\n",
              "    </tr>\n",
              "    <tr>\n",
              "      <th>11</th>\n",
              "      <td>\\left\\{\\begin{matrix}10( {x - 2} ) + y = 1\\\\ x...</td>\n",
              "      <td>[Eq(y + 10*(x - 2), 1), Eq(x + 3*(x - y), 5)]</td>\n",
              "      <td>\\left \\{ x : 2, \\quad y : 1\\right \\}</td>\n",
              "      <td>Resuelve los sistemas:</td>\n",
              "      <td>1BC</td>\n",
              "      <td>7 - Sistemas de ecuaciones</td>\n",
              "      <td>p019e01</td>\n",
              "      <td>1</td>\n",
              "      <td>2</td>\n",
              "      <td>1</td>\n",
              "      <td>True</td>\n",
              "    </tr>\n",
              "    <tr>\n",
              "      <th>12</th>\n",
              "      <td>\\left\\{\\begin{matrix}\\frac{{x - y}}{2} + \\frac...</td>\n",
              "      <td>[Eq((x - y)/3 + (x - y)/2, 5), Eq(y + (x + 7)/...</td>\n",
              "      <td>\\left \\{ x : \\frac{29}{5}, \\quad y : - \\frac{1...</td>\n",
              "      <td>Resuelve los sistemas:</td>\n",
              "      <td>1BC</td>\n",
              "      <td>7 - Sistemas de ecuaciones</td>\n",
              "      <td>p019e01</td>\n",
              "      <td>1</td>\n",
              "      <td>2</td>\n",
              "      <td>1</td>\n",
              "      <td>True</td>\n",
              "    </tr>\n",
              "    <tr>\n",
              "      <th>13</th>\n",
              "      <td>\\left\\{\\begin{matrix}\\frac{{3( {y + 2x + 2} )}...</td>\n",
              "      <td>[Eq((3*(2*x + y + 2))/4, (4*x + y - 1)/3), Eq(...</td>\n",
              "      <td>\\left \\{ x : 39, \\quad y : -20\\right \\}</td>\n",
              "      <td>Resuelve los sistemas:</td>\n",
              "      <td>1BC</td>\n",
              "      <td>7 - Sistemas de ecuaciones</td>\n",
              "      <td>p019e01</td>\n",
              "      <td>1</td>\n",
              "      <td>2</td>\n",
              "      <td>1</td>\n",
              "      <td>True</td>\n",
              "    </tr>\n",
              "    <tr>\n",
              "      <th>14</th>\n",
              "      <td>\\left\\{\\begin{matrix} x - 2( {x + y} ) = 3y - ...</td>\n",
              "      <td>[Eq(x - 2*(x + y), 3*y - 2), Eq(x/3 + y/2, 3)]</td>\n",
              "      <td>\\left \\{ x : 12, \\quad y : -2\\right \\}</td>\n",
              "      <td>Resuelve los sistemas:</td>\n",
              "      <td>1BC</td>\n",
              "      <td>7 - Sistemas de ecuaciones</td>\n",
              "      <td>p019e01</td>\n",
              "      <td>1</td>\n",
              "      <td>2</td>\n",
              "      <td>1</td>\n",
              "      <td>True</td>\n",
              "    </tr>\n",
              "    <tr>\n",
              "      <th>15</th>\n",
              "      <td>\\left\\{\\begin{matrix}\\frac{{3 - 2y}}{4} - \\fra...</td>\n",
              "      <td>[Eq((-2*y + 3)/4 - 1/4, (-2*x + 1)/6), Eq(-1 +...</td>\n",
              "      <td>\\left \\{ x : 5, \\quad y : 4\\right \\}</td>\n",
              "      <td>Resuelve los sistemas:</td>\n",
              "      <td>1BC</td>\n",
              "      <td>7 - Sistemas de ecuaciones</td>\n",
              "      <td>p019e01</td>\n",
              "      <td>1</td>\n",
              "      <td>2</td>\n",
              "      <td>1</td>\n",
              "      <td>True</td>\n",
              "    </tr>\n",
              "    <tr>\n",
              "      <th>16</th>\n",
              "      <td>\\left\\{\\begin{matrix}\\frac{{4y - 5x}}{6} + \\fr...</td>\n",
              "      <td>[Eq((-5*x + 4*y)/6 + (3*x - 2*y)/2, -2*x/9 - 2...</td>\n",
              "      <td>\\left \\{ x : \\frac{4}{7}, \\quad y : - \\frac{31...</td>\n",
              "      <td>Resuelve los sistemas:</td>\n",
              "      <td>1BC</td>\n",
              "      <td>7 - Sistemas de ecuaciones</td>\n",
              "      <td>p019e01</td>\n",
              "      <td>1</td>\n",
              "      <td>2</td>\n",
              "      <td>1</td>\n",
              "      <td>True</td>\n",
              "    </tr>\n",
              "  </tbody>\n",
              "</table>\n",
              "</div>"
            ],
            "text/plain": [
              "                                      enunciado_latex  \\\n",
              "0   \\left\\{\\begin{matrix}3x - 2y = 1\\\\ x + 6y = 7\\...   \n",
              "1   \\left\\{\\begin{matrix}6x - 2y = 14\\\\ 3x - y = 7...   \n",
              "2   \\left\\{\\begin{matrix}6x - 2y = 9\\\\ 3x - y = 10...   \n",
              "3   \\left\\{\\begin{matrix}4x + 7y =  - 3\\\\ 7x + 4y ...   \n",
              "4   \\left\\{\\begin{matrix} 4x + 16 = 5y\\\\  5y - 19 ...   \n",
              "5   \\left\\{\\begin{matrix}x - 5 = y + 2\\\\ 1 + 3x + ...   \n",
              "6   \\left\\{\\begin{matrix}x - 5 = y + 2\\\\ 3x - 2y =...   \n",
              "7   \\left\\{\\begin{matrix}x + 3y = 6\\\\ 6y - 5 = 7 -...   \n",
              "8   \\left\\{\\begin{matrix}x - y = 8\\\\  x + y = 24\\\\...   \n",
              "9   \\left\\{\\begin{matrix}x + 2y = 11\\\\ 2x - y = 2\\...   \n",
              "10  \\left\\{\\begin{matrix}3x - 4y =  - 9\\\\ 2x + y =...   \n",
              "11  \\left\\{\\begin{matrix}10( {x - 2} ) + y = 1\\\\ x...   \n",
              "12  \\left\\{\\begin{matrix}\\frac{{x - y}}{2} + \\frac...   \n",
              "13  \\left\\{\\begin{matrix}\\frac{{3( {y + 2x + 2} )}...   \n",
              "14  \\left\\{\\begin{matrix} x - 2( {x + y} ) = 3y - ...   \n",
              "15  \\left\\{\\begin{matrix}\\frac{{3 - 2y}}{4} - \\fra...   \n",
              "16  \\left\\{\\begin{matrix}\\frac{{4y - 5x}}{6} + \\fr...   \n",
              "\n",
              "                                            enunciado  \\\n",
              "0                  [Eq(3*x - 2*y, 1), Eq(x + 6*y, 7)]   \n",
              "1                 [Eq(6*x - 2*y, 14), Eq(3*x - y, 7)]   \n",
              "2                 [Eq(6*x - 2*y, 9), Eq(3*x - y, 10)]   \n",
              "3              [Eq(4*x + 7*y, -3), Eq(7*x + 4*y, 36)]   \n",
              "4              [Eq(4*x + 16, 5*y), Eq(5*y - 19, 3*x)]   \n",
              "5        [Eq(x - 5, y + 2), Eq(2*y + 3*x + 1, x - 4)]   \n",
              "6            [Eq(x - 5, y + 2), Eq(3*x - 2*y, x - 5)]   \n",
              "7             [Eq(x + 3*y, 6), Eq(6*y - 5, -2*x + 7)]   \n",
              "8                       [Eq(x - y, 8), Eq(x + y, 24)]   \n",
              "9                   [Eq(x + 2*y, 11), Eq(2*x - y, 2)]   \n",
              "10                [Eq(3*x - 4*y, -9), Eq(2*x + y, 5)]   \n",
              "11      [Eq(y + 10*(x - 2), 1), Eq(x + 3*(x - y), 5)]   \n",
              "12  [Eq((x - y)/3 + (x - y)/2, 5), Eq(y + (x + 7)/...   \n",
              "13  [Eq((3*(2*x + y + 2))/4, (4*x + y - 1)/3), Eq(...   \n",
              "14     [Eq(x - 2*(x + y), 3*y - 2), Eq(x/3 + y/2, 3)]   \n",
              "15  [Eq((-2*y + 3)/4 - 1/4, (-2*x + 1)/6), Eq(-1 +...   \n",
              "16  [Eq((-5*x + 4*y)/6 + (3*x - 2*y)/2, -2*x/9 - 2...   \n",
              "\n",
              "                                             solucion                   texto  \\\n",
              "0                \\left \\{ x : 1, \\quad y : 1\\right \\}  Resuelve los sistemas:   \n",
              "1     \\left \\{ x : \\frac{y}{3} + \\frac{7}{3}\\right \\}  Resuelve los sistemas:   \n",
              "2                                    \\left [ \\right ]  Resuelve los sistemas:   \n",
              "3               \\left \\{ x : 8, \\quad y : -5\\right \\}  Resuelve los sistemas:   \n",
              "4     \\left \\{ x : 3, \\quad y : \\frac{28}{5}\\right \\}  Resuelve los sistemas:   \n",
              "5   \\left \\{ x : \\frac{9}{4}, \\quad y : - \\frac{19...  Resuelve los sistemas:   \n",
              "6                                    \\left [ \\right ]  Resuelve los sistemas:   \n",
              "7                     \\left \\{ x : - 3 y + 6\\right \\}  Resuelve los sistemas:   \n",
              "8               \\left \\{ x : 16, \\quad y : 8\\right \\}  Resuelve los sistemas:   \n",
              "9                \\left \\{ x : 3, \\quad y : 4\\right \\}  Resuelve los sistemas:   \n",
              "10               \\left \\{ x : 1, \\quad y : 3\\right \\}  Resuelve los sistemas:   \n",
              "11               \\left \\{ x : 2, \\quad y : 1\\right \\}  Resuelve los sistemas:   \n",
              "12  \\left \\{ x : \\frac{29}{5}, \\quad y : - \\frac{1...  Resuelve los sistemas:   \n",
              "13            \\left \\{ x : 39, \\quad y : -20\\right \\}  Resuelve los sistemas:   \n",
              "14             \\left \\{ x : 12, \\quad y : -2\\right \\}  Resuelve los sistemas:   \n",
              "15               \\left \\{ x : 5, \\quad y : 4\\right \\}  Resuelve los sistemas:   \n",
              "16  \\left \\{ x : \\frac{4}{7}, \\quad y : - \\frac{31...  Resuelve los sistemas:   \n",
              "\n",
              "   curso                      titulo n_ejercicio  dificultad  n_columnas  \\\n",
              "0    1BC  7 - Sistemas de ecuaciones     p019e01           1           2   \n",
              "1    1BC  7 - Sistemas de ecuaciones     p019e01           1           2   \n",
              "2    1BC  7 - Sistemas de ecuaciones     p019e01           1           2   \n",
              "3    1BC  7 - Sistemas de ecuaciones     p019e01           1           2   \n",
              "4    1BC  7 - Sistemas de ecuaciones     p019e01           1           2   \n",
              "5    1BC  7 - Sistemas de ecuaciones     p019e01           1           2   \n",
              "6    1BC  7 - Sistemas de ecuaciones     p019e01           1           2   \n",
              "7    1BC  7 - Sistemas de ecuaciones     p019e01           1           2   \n",
              "8    1BC  7 - Sistemas de ecuaciones     p019e01           1           2   \n",
              "9    1BC  7 - Sistemas de ecuaciones     p019e01           1           2   \n",
              "10   1BC  7 - Sistemas de ecuaciones     p019e01           1           2   \n",
              "11   1BC  7 - Sistemas de ecuaciones     p019e01           1           2   \n",
              "12   1BC  7 - Sistemas de ecuaciones     p019e01           1           2   \n",
              "13   1BC  7 - Sistemas de ecuaciones     p019e01           1           2   \n",
              "14   1BC  7 - Sistemas de ecuaciones     p019e01           1           2   \n",
              "15   1BC  7 - Sistemas de ecuaciones     p019e01           1           2   \n",
              "16   1BC  7 - Sistemas de ecuaciones     p019e01           1           2   \n",
              "\n",
              "    puntos  enun_tex  \n",
              "0        1      True  \n",
              "1        1      True  \n",
              "2        1      True  \n",
              "3        1      True  \n",
              "4        1      True  \n",
              "5        1      True  \n",
              "6        1      True  \n",
              "7        1      True  \n",
              "8        1      True  \n",
              "9        1      True  \n",
              "10       1      True  \n",
              "11       1      True  \n",
              "12       1      True  \n",
              "13       1      True  \n",
              "14       1      True  \n",
              "15       1      True  \n",
              "16       1      True  "
            ]
          },
          "metadata": {
            "tags": []
          }
        }
      ]
    }
  ]
}