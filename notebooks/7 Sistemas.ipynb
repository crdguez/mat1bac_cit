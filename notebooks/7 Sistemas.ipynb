{
 "cells": [
  {
   "cell_type": "markdown",
   "metadata": {
    "colab_type": "text",
    "id": "view-in-github"
   },
   "source": [
    "<a href=\"https://colab.research.google.com/github/crdguez/mat1bac_cit/blob/master/notebooks/7%20Sistemas.ipynb\" target=\"_parent\"><img src=\"https://colab.research.google.com/assets/colab-badge.svg\" alt=\"Open In Colab\"/></a>"
   ]
  },
  {
   "cell_type": "code",
   "execution_count": 1,
   "metadata": {
    "colab": {},
    "colab_type": "code",
    "id": "uoSET16GA_nR",
    "outputId": "4ef153cd-0821-4fb7-c9d6-e0e01e5bc3af"
   },
   "outputs": [
    {
     "name": "stdout",
     "output_type": "stream",
     "text": [
      "IPython console for SymPy 1.2 (Python 3.6.5-64-bit) (ground types: gmpy)\n",
      "\n",
      "These commands were executed:\n",
      ">>> from __future__ import division\n",
      ">>> from sympy import *\n",
      ">>> x, y, z, t = symbols('x y z t')\n",
      ">>> k, m, n = symbols('k m n', integer=True)\n",
      ">>> f, g, h = symbols('f g h', cls=Function)\n",
      ">>> init_printing()\n",
      "\n",
      "Documentation can be found at http://docs.sympy.org/1.2/\n",
      "\n"
     ]
    }
   ],
   "source": [
    "from sympy import init_session\n",
    "from sympy import div, QQ\n",
    "from sympy.parsing.latex import parse_latex\n",
    "from sympy.parsing.sympy_parser import parse_expr\n",
    "#from sympy.functions.combinatorial.numbers import nC, nP, nT\n",
    "from IPython.display import Markdown as md\n",
    "from IPython.display import display\n",
    "import pandas as pd\n",
    "\n",
    "init_session()\n",
    "\n",
    "a, b, c, d = symbols('a b c d', real = True)\n",
    "from docparts import añadir_ejercicios, doc_ejer, escribir_preambulo, escribir_ejercicios, escribir_fin\n",
    "\n",
    "df_ejercicios = pd.DataFrame()\n",
    "\n",
    "fichero = 'sistemas_ecuaciones'\n",
    "titulo = '7 - Sistemas de ecuaciones'\n",
    "curso = '1BC'\n",
    "\n"
   ]
  },
  {
   "cell_type": "code",
   "execution_count": 2,
   "metadata": {
    "colab": {},
    "colab_type": "code",
    "id": "77UJCXVIA_nu"
   },
   "outputs": [],
   "source": [
    "def sol_sist(sist):\n",
    "    # Función que recibe un sistema de ecuaciones en Latex y devuelve: \n",
    "    # El sistema en latex, la lista de exuaciones sympy, la solución y la matriz de ecuacuibes\n",
    "    \n",
    "    sist_latex = r\"\"\"\\left\\{\\begin{matrix}\"\"\"\n",
    "    eq = []\n",
    "    sb = EmptySet() # variables de las ecuaciones\n",
    "    \n",
    "    for i,e in enumerate(sist):\n",
    "        sist_latex = sist_latex + e + r'\\\\ '\n",
    "        eq.append(Eq(parse_latex(e[:e.find('=')]),parse_latex(e[e.find('=')+1:])).simplify())\n",
    "        sb = parse_latex(e[:e.find('=')]).free_symbols.union(sb)\n",
    "        sb = parse_latex(e[e.find('=')+1:]).free_symbols.union(sb)\n",
    "        \n",
    "       \n",
    "\n",
    "    sist_latex = sist_latex + r'\\end{matrix}\\right.'\n",
    "    \n",
    "    matriz = linear_eq_to_matrix(eq,list(sb))\n",
    "    matriz = matriz[0].row_join(matriz[1])\n",
    "    \n",
    "    return [sist_latex, eq, solve(eq), matriz]    "
   ]
  },
  {
   "cell_type": "code",
   "execution_count": 3,
   "metadata": {
    "colab": {},
    "colab_type": "code",
    "id": "2HFkgfNRA_n_",
    "outputId": "09fca6e9-5f9b-4eb4-e61f-af48c068730f"
   },
   "outputs": [
    {
     "data": {
      "text/markdown": [
       "**Resuelve los sistemas:**"
      ],
      "text/plain": [
       "<IPython.core.display.Markdown object>"
      ]
     },
     "metadata": {},
     "output_type": "display_data"
    },
    {
     "data": {
      "text/markdown": [
       "$\\left\\{\\begin{matrix}3x - 2y = 1\\\\ x + 6y = 7\\\\ \\end{matrix}\\right. \\rightarrow \\left[\\begin{matrix}-2 & 3 & 1\\\\0 & 10 & 10\\end{matrix}\\right] \\rightarrow \\\\ \\left \\{ x : 1, \\quad y : 1\\right \\}$"
      ],
      "text/plain": [
       "<IPython.core.display.Markdown object>"
      ]
     },
     "metadata": {},
     "output_type": "display_data"
    },
    {
     "data": {
      "text/markdown": [
       "$\\left\\{\\begin{matrix}6x - 2y = 14\\\\ 3x - y = 7 \\\\ \\end{matrix}\\right. \\rightarrow \\left[\\begin{matrix}-2 & 6 & 14\\\\0 & 0 & 0\\end{matrix}\\right] \\rightarrow \\\\ \\left \\{ x : \\frac{y}{3} + \\frac{7}{3}\\right \\}$"
      ],
      "text/plain": [
       "<IPython.core.display.Markdown object>"
      ]
     },
     "metadata": {},
     "output_type": "display_data"
    },
    {
     "data": {
      "text/markdown": [
       "$\\left\\{\\begin{matrix}6x - 2y = 9\\\\ 3x - y = 10\\\\ \\end{matrix}\\right. \\rightarrow \\left[\\begin{matrix}-2 & 6 & 9\\\\0 & 0 & \\frac{11}{2}\\end{matrix}\\right] \\rightarrow \\\\ \\left [ \\right ]$"
      ],
      "text/plain": [
       "<IPython.core.display.Markdown object>"
      ]
     },
     "metadata": {},
     "output_type": "display_data"
    },
    {
     "data": {
      "text/markdown": [
       "$\\left\\{\\begin{matrix}4x + 7y =  - 3\\\\ 7x + 4y = 36\\\\ \\end{matrix}\\right. \\rightarrow \\left[\\begin{matrix}7 & 4 & -3\\\\0 & \\frac{33}{7} & \\frac{264}{7}\\end{matrix}\\right] \\rightarrow \\\\ \\left \\{ x : 8, \\quad y : -5\\right \\}$"
      ],
      "text/plain": [
       "<IPython.core.display.Markdown object>"
      ]
     },
     "metadata": {},
     "output_type": "display_data"
    },
    {
     "data": {
      "text/markdown": [
       "$\\left\\{\\begin{matrix} 4x + 16 = 5y\\\\  5y - 19 = 3x\\\\ \\end{matrix}\\right. \\rightarrow \\left[\\begin{matrix}5 & -4 & 16\\\\0 & -1 & -3\\end{matrix}\\right] \\rightarrow \\\\ \\left \\{ x : 3, \\quad y : \\frac{28}{5}\\right \\}$"
      ],
      "text/plain": [
       "<IPython.core.display.Markdown object>"
      ]
     },
     "metadata": {},
     "output_type": "display_data"
    },
    {
     "data": {
      "text/markdown": [
       "$\\left\\{\\begin{matrix}x - 5 = y + 2\\\\ 1 + 3x + 2y = x - 4\\\\ \\end{matrix}\\right. \\rightarrow \\left[\\begin{matrix}-1 & 1 & 7\\\\0 & -4 & -9\\end{matrix}\\right] \\rightarrow \\\\ \\left \\{ x : \\frac{9}{4}, \\quad y : - \\frac{19}{4}\\right \\}$"
      ],
      "text/plain": [
       "<IPython.core.display.Markdown object>"
      ]
     },
     "metadata": {},
     "output_type": "display_data"
    },
    {
     "data": {
      "text/markdown": [
       "$\\left\\{\\begin{matrix}x - 5 = y + 2\\\\ 3x - 2y = x - 5\\\\ \\end{matrix}\\right. \\rightarrow \\left[\\begin{matrix}-1 & 1 & 7\\\\0 & 0 & 19\\end{matrix}\\right] \\rightarrow \\\\ \\left [ \\right ]$"
      ],
      "text/plain": [
       "<IPython.core.display.Markdown object>"
      ]
     },
     "metadata": {},
     "output_type": "display_data"
    },
    {
     "data": {
      "text/markdown": [
       "$\\left\\{\\begin{matrix}x + 3y = 6\\\\ 6y - 5 = 7 - 2x\\\\ \\end{matrix}\\right. \\rightarrow \\left[\\begin{matrix}3 & 1 & 6\\\\0 & 0 & 0\\end{matrix}\\right] \\rightarrow \\\\ \\left \\{ x : - 3 y + 6\\right \\}$"
      ],
      "text/plain": [
       "<IPython.core.display.Markdown object>"
      ]
     },
     "metadata": {},
     "output_type": "display_data"
    },
    {
     "data": {
      "text/markdown": [
       "$\\left\\{\\begin{matrix}x - y = 8\\\\  x + y = 24\\\\ \\end{matrix}\\right. \\rightarrow \\left[\\begin{matrix}-1 & 1 & 8\\\\0 & 2 & 32\\end{matrix}\\right] \\rightarrow \\\\ \\left \\{ x : 16, \\quad y : 8\\right \\}$"
      ],
      "text/plain": [
       "<IPython.core.display.Markdown object>"
      ]
     },
     "metadata": {},
     "output_type": "display_data"
    },
    {
     "data": {
      "text/markdown": [
       "$\\left\\{\\begin{matrix}x + 2y = 11\\\\ 2x - y = 2\\\\ \\end{matrix}\\right. \\rightarrow \\left[\\begin{matrix}2 & 1 & 11\\\\0 & \\frac{5}{2} & \\frac{15}{2}\\end{matrix}\\right] \\rightarrow \\\\ \\left \\{ x : 3, \\quad y : 4\\right \\}$"
      ],
      "text/plain": [
       "<IPython.core.display.Markdown object>"
      ]
     },
     "metadata": {},
     "output_type": "display_data"
    },
    {
     "data": {
      "text/markdown": [
       "$\\left\\{\\begin{matrix}3x - 4y =  - 9\\\\ 2x + y = 5\\\\ \\end{matrix}\\right. \\rightarrow \\left[\\begin{matrix}-4 & 3 & -9\\\\0 & \\frac{11}{4} & \\frac{11}{4}\\end{matrix}\\right] \\rightarrow \\\\ \\left \\{ x : 1, \\quad y : 3\\right \\}$"
      ],
      "text/plain": [
       "<IPython.core.display.Markdown object>"
      ]
     },
     "metadata": {},
     "output_type": "display_data"
    },
    {
     "data": {
      "text/markdown": [
       "$\\left\\{\\begin{matrix}10( {x - 2} ) + y = 1\\\\ x + 3( {x - y} ) = 5\\\\ \\end{matrix}\\right. \\rightarrow \\left[\\begin{matrix}1 & 10 & 21\\\\0 & 34 & 68\\end{matrix}\\right] \\rightarrow \\\\ \\left \\{ x : 2, \\quad y : 1\\right \\}$"
      ],
      "text/plain": [
       "<IPython.core.display.Markdown object>"
      ]
     },
     "metadata": {},
     "output_type": "display_data"
    },
    {
     "data": {
      "text/markdown": [
       "$\\left\\{\\begin{matrix}\\frac{{x - y}}{2} + \\frac{{x - y}}{3} = 5\\\\ \\frac{{x + 7}}{4} + y = 3\\\\ \\end{matrix}\\right. \\rightarrow \\left[\\begin{matrix}- \\frac{5}{6} & \\frac{5}{6} & 5\\\\0 & \\frac{5}{4} & \\frac{29}{4}\\end{matrix}\\right] \\rightarrow \\\\ \\left \\{ x : \\frac{29}{5}, \\quad y : - \\frac{1}{5}\\right \\}$"
      ],
      "text/plain": [
       "<IPython.core.display.Markdown object>"
      ]
     },
     "metadata": {},
     "output_type": "display_data"
    },
    {
     "data": {
      "text/markdown": [
       "$\\left\\{\\begin{matrix}\\frac{{3( {y + 2x + 2} )}}{4} = \\frac{{4x + y - 1}}{3} \\\\  \\frac{1}{3}( {x + y} ) - \\frac{1}{6}( {x - y} ) = \\frac{{y - 1}}{6}\\\\ \\end{matrix}\\right. \\rightarrow \\left[\\begin{matrix}- \\frac{5}{12} & - \\frac{1}{6} & \\frac{11}{6}\\\\0 & - \\frac{1}{30} & - \\frac{13}{10}\\end{matrix}\\right] \\rightarrow \\\\ \\left \\{ x : 39, \\quad y : -20\\right \\}$"
      ],
      "text/plain": [
       "<IPython.core.display.Markdown object>"
      ]
     },
     "metadata": {},
     "output_type": "display_data"
    },
    {
     "data": {
      "text/markdown": [
       "$\\left\\{\\begin{matrix} x - 2( {x + y} ) = 3y - 2\\\\  \\frac{x}{3} + \\frac{y}{2} = 3\\\\ \\end{matrix}\\right. \\rightarrow \\left[\\begin{matrix}5 & 1 & 2\\\\0 & \\frac{7}{30} & \\frac{14}{5}\\end{matrix}\\right] \\rightarrow \\\\ \\left \\{ x : 12, \\quad y : -2\\right \\}$"
      ],
      "text/plain": [
       "<IPython.core.display.Markdown object>"
      ]
     },
     "metadata": {},
     "output_type": "display_data"
    },
    {
     "data": {
      "text/markdown": [
       "$\\left\\{\\begin{matrix}\\frac{{3 - 2y}}{4} - \\frac{1}{4} = \\frac{{1 - 2x}}{6}\\\\  \\frac{{25}}{8} - 1 = \\frac{{x + 3}}{2} - \\frac{{3( {1 + y} )}}{8}\\\\ \\end{matrix}\\right. \\rightarrow \\left[\\begin{matrix}\\frac{1}{2} & - \\frac{1}{3} & \\frac{1}{3}\\\\0 & \\frac{1}{4} & \\frac{5}{4}\\end{matrix}\\right] \\rightarrow \\\\ \\left \\{ x : 5, \\quad y : 4\\right \\}$"
      ],
      "text/plain": [
       "<IPython.core.display.Markdown object>"
      ]
     },
     "metadata": {},
     "output_type": "display_data"
    },
    {
     "data": {
      "text/markdown": [
       "$\\left\\{\\begin{matrix}\\frac{{4y - 5x}}{6} + \\frac{{3x - 2y}}{2} = 1 - \\frac{2}{9}( {x + y} )\\\\ \\frac{{4y + x - 8}}{8} - x = \\frac{{2( {y - 2x} )}}{3}\\\\ \\end{matrix}\\right. \\rightarrow \\left[\\begin{matrix}- \\frac{1}{9} & \\frac{8}{9} & 1\\\\0 & \\frac{7}{8} & \\frac{1}{2}\\end{matrix}\\right] \\rightarrow \\\\ \\left \\{ x : \\frac{4}{7}, \\quad y : - \\frac{31}{7}\\right \\}$"
      ],
      "text/plain": [
       "<IPython.core.display.Markdown object>"
      ]
     },
     "metadata": {},
     "output_type": "display_data"
    }
   ],
   "source": [
    "# Página 19 ejercicio 1\n",
    "\n",
    "texto_ejercicio = 'Resuelve los sistemas:'\n",
    "n_ejercicio = 'p019e01'\n",
    "\n",
    "display(md(\"**\"+texto_ejercicio+\"**\"))\n",
    "\n",
    "pre_enunciado_latex = [[r'3x - 2y = 1',r'x + 6y = 7'],\n",
    "                       [r'6x - 2y = 14',r'3x - y = 7 '],\n",
    "                       [r'6x - 2y = 9',r'3x - y = 10'],\n",
    "                       [r'4x + 7y =  - 3',r'7x + 4y = 36'],\n",
    "                       [r' 4x + 16 = 5y',r' 5y - 19 = 3x'],\n",
    "                       [r'x - 5 = y + 2',r'1 + 3x + 2y = x - 4'],\n",
    "                       [r'x - 5 = y + 2',r'3x - 2y = x - 5'],\n",
    "                       [r'x + 3y = 6',r'6y - 5 = 7 - 2x'],\n",
    "                       [r'x - y = 8',r' x + y = 24'],\n",
    "                       [r'x + 2y = 11',r'2x - y = 2'],\n",
    "                       [r'3x - 4y =  - 9',r'2x + y = 5'],\n",
    "                       [r'10( {x - 2} ) + y = 1',r'x + 3( {x - y} ) = 5'],\n",
    "                       [r'\\frac{{x - y}}{2} + \\frac{{x - y}}{3} = 5',r'\\frac{{x + 7}}{4} + y = 3'],\n",
    "                       [r'\\frac{{3( {y + 2x + 2} )}}{4} = \\frac{{4x + y - 1}}{3} ',r' \\frac{1}{3}( {x + y} ) - \\frac{1}{6}( {x - y} ) = \\frac{{y - 1}}{6}'],\n",
    "                       [r' x - 2( {x + y} ) = 3y - 2',r' \\frac{x}{3} + \\frac{y}{2} = 3'],\n",
    "                       [r'\\frac{{3 - 2y}}{4} - \\frac{1}{4} = \\frac{{1 - 2x}}{6}',r' \\frac{{25}}{8} - 1 = \\frac{{x + 3}}{2} - \\frac{{3( {1 + y} )}}{8}'],\n",
    "                       [r'\\frac{{4y - 5x}}{6} + \\frac{{3x - 2y}}{2} = 1 - \\frac{2}{9}( {x + y} )',r'\\frac{{4y + x - 8}}{8} - x = \\frac{{2( {y - 2x} )}}{3}']                    ]\n",
    "\n",
    "\n",
    "\n",
    "\n",
    "enunciado_latex,enunciado, solucion = [], [], []\n",
    "\n",
    "for i, s in enumerate(pre_enunciado_latex) :\n",
    "    enl, en , so, mat = sol_sist(s)\n",
    "    enunciado_latex.append(enl)\n",
    "    enunciado.append(en)\n",
    "    so_l=latex(mat.LUdecomposition()[1])+ r' \\rightarrow \\\\ '+latex(so)\n",
    "    solucion.append(so_l) \n",
    "    display(md(\"$\"+ enunciado_latex[i] +\" \\\\rightarrow \" + solucion[i] +\"$\"))\n",
    "\n",
    "df_ejercicios = df_ejercicios.append(añadir_ejercicios(enunciado_latex, enunciado, solucion, texto_ejercicio, curso, titulo , n_ejercicio, '1', '2'), ignore_index=True)\n"
   ]
  },
  {
   "cell_type": "code",
   "execution_count": 13,
   "metadata": {},
   "outputs": [
    {
     "data": {
      "text/markdown": [
       "**Resuelve mediante expresiones algebraicas:**"
      ],
      "text/plain": [
       "<IPython.core.display.Markdown object>"
      ]
     },
     "metadata": {},
     "output_type": "display_data"
    },
    {
     "data": {
      "text/markdown": [
       "Halla dos números sabiendo que al dividir el mayor por el menor, obtenemos 3 de cociente y 4 de resto,\n",
       "mientras que la razón entre los dos después de aumentarlos en 9 unidades es 2.$ \\ \\\\   \\rightarrow  \\left\\{\\begin{matrix}y=3x+4\\\\ \\frac{y+9}{x+9}=2\\\\ \\end{matrix}\\right.  \\rightarrow  \\\\\\left[\\begin{matrix}1 & -3 & 4\\\\0 & 0 & 2\\end{matrix}\\right] \\rightarrow  \\left \\{ x : 5, \\quad y : 19\\right \\}$"
      ],
      "text/plain": [
       "<IPython.core.display.Markdown object>"
      ]
     },
     "metadata": {},
     "output_type": "display_data"
    },
    {
     "data": {
      "text/markdown": [
       "Un automóvil sale de una población A a 60 km/h. Tres horas después sale a su alcance otro automóvil, que\n",
       "marcha a 75 km/h. Halla la distancia del punto en que se verifica el encuentro a A, y el tiempo que han\n",
       "tardado en encontrarse.$ \\ \\\\   \\rightarrow  \\left\\{\\begin{matrix}75y=60(y+3)\\\\ x=75y\\\\ \\end{matrix}\\right.  \\rightarrow  \\\\\\left[\\begin{matrix}15 & 0 & 180\\\\0 & 1 & 900\\end{matrix}\\right] \\rightarrow  \\left \\{ x : 900, \\quad y : 12\\right \\}$"
      ],
      "text/plain": [
       "<IPython.core.display.Markdown object>"
      ]
     },
     "metadata": {},
     "output_type": "display_data"
    },
    {
     "data": {
      "text/markdown": [
       "En un corral hay conejos y gallinas, en total 50 cabezas y 134 patas. \n",
       "    ¿Cuántos animales hay de cada clase?$ \\ \\\\   \\rightarrow  \\left\\{\\begin{matrix}50=x+y\\\\ 134=4x+2y\\\\ \\end{matrix}\\right.  \\rightarrow  \\\\\\left[\\begin{matrix}1 & 1 & 50\\\\0 & 2 & 34\\end{matrix}\\right] \\rightarrow  \\left \\{ x : 17, \\quad y : 33\\right \\}$"
      ],
      "text/plain": [
       "<IPython.core.display.Markdown object>"
      ]
     },
     "metadata": {},
     "output_type": "display_data"
    },
    {
     "data": {
      "text/markdown": [
       "Se tienen 140 euros, en 20 billetes, unos de 5 euros y de 10 los restantes. \n",
       "    ¿Cuántos billetes hay de cada clase?$ \\ \\\\   \\rightarrow  \\left\\{\\begin{matrix}140=5x+10y\\\\ 20=x+y\\\\ \\end{matrix}\\right.  \\rightarrow  \\\\\\left[\\begin{matrix}10 & 5 & 140\\\\0 & \\frac{1}{2} & 6\\end{matrix}\\right] \\rightarrow  \\left \\{ x : 12, \\quad y : 8\\right \\}$"
      ],
      "text/plain": [
       "<IPython.core.display.Markdown object>"
      ]
     },
     "metadata": {},
     "output_type": "display_data"
    },
    {
     "data": {
      "text/markdown": [
       "Un librero vendió 84 libros, unos a 45 euros y otros a 36 y obtuvo de la venta 3.105 euros. ¿Cuántos vendió de\n",
       "cada clase?$ \\ \\\\   \\rightarrow  \\left\\{\\begin{matrix}3105=45x+36y\\\\ 84=x+y\\\\ \\end{matrix}\\right.  \\rightarrow  \\\\\\left[\\begin{matrix}36 & 45 & 3105\\\\0 & - \\frac{1}{4} & - \\frac{9}{4}\\end{matrix}\\right] \\rightarrow  \\left \\{ x : 9, \\quad y : 75\\right \\}$"
      ],
      "text/plain": [
       "<IPython.core.display.Markdown object>"
      ]
     },
     "metadata": {},
     "output_type": "display_data"
    },
    {
     "data": {
      "text/markdown": [
       "En una clase los 2/3 del número de alumnas es igual a los 5/7 del número de alumnos. Si el número de\n",
       "alumnas aumenta en 26, entonces es igual al doble del número de alumnos. ¿Cuántos alumnos y alumnas\n",
       "tiene la clase?$ \\ \\\\   \\rightarrow  \\left\\{\\begin{matrix}\\frac{2x}{3}=\\frac{5y}{7}\\\\ x+26=2y\\\\ \\end{matrix}\\right.  \\rightarrow  \\\\\\left[\\begin{matrix}- \\frac{5}{7} & \\frac{2}{3} & 0\\\\0 & \\frac{13}{15} & 26\\end{matrix}\\right] \\rightarrow  \\left \\{ x : 30, \\quad y : 28\\right \\}$"
      ],
      "text/plain": [
       "<IPython.core.display.Markdown object>"
      ]
     },
     "metadata": {},
     "output_type": "display_data"
    },
    {
     "data": {
      "text/markdown": [
       "Un comerciante vendió 18 m de una pieza de tela y 20 m de otra de distinta longitud, y le quedó un sobrante,\n",
       "entre las dos, que es los 2/5 de la longitud de la segunda pieza. Si hubiera vendido un metro más de cada\n",
       "pieza, el sobrante hubiera sido 1/3 de la longitud de la segunda pieza. ¿Cuántos metros tenía cada pieza?$ \\ \\\\   \\rightarrow  \\left\\{\\begin{matrix}x+y=\\frac{2(20+y)}{5}\\\\ (x-1)+(y-1)=\\frac{20+y}{3}\\\\ \\end{matrix}\\right.  \\rightarrow  \\\\\\left[\\begin{matrix}\\frac{3}{5} & 1 & 8\\\\0 & - \\frac{1}{9} & - \\frac{2}{9}\\end{matrix}\\right] \\rightarrow  \\left \\{ x : 2, \\quad y : 10\\right \\}$"
      ],
      "text/plain": [
       "<IPython.core.display.Markdown object>"
      ]
     },
     "metadata": {},
     "output_type": "display_data"
    }
   ],
   "source": [
    "# Página 20 ejercicio 2\n",
    "\n",
    "texto_ejercicio = \"Resuelve mediante expresiones algebraicas:\"\n",
    "n_ejercicio = 'p020e02'\n",
    "\n",
    "display(md(\"**\"+texto_ejercicio+\"**\"))\n",
    "\n",
    "sist = [ [r'y=3x+4',r'\\frac{y+9}{x+9}=2'],\n",
    "         [r'75y=60(y+3)',r'x=75y'],\n",
    "         [r'50=x+y',r'134=4x+2y'],\n",
    "         [r'140=5x+10y',r'20=x+y'],\n",
    "         [r'3105=45x+36y',r'84=x+y'],\n",
    "         [r'\\frac{2x}{3}=\\frac{5y}{7}',r'x+26=2y'],\n",
    "         [r'x+y=\\frac{2(20+y)}{5}',r'(x-1)+(y-1)=\\frac{20+y}{3}']\n",
    "             \n",
    "            ]\n",
    "\n",
    "enunciado_latex, enunciado, solucion = [\n",
    "    \"\"\"Halla dos números sabiendo que al dividir el mayor por el menor, obtenemos 3 de cociente y 4 de resto,\n",
    "mientras que la razón entre los dos después de aumentarlos en 9 unidades es 2.\"\"\",\n",
    "    \"\"\"Un automóvil sale de una población A a 60 km/h. Tres horas después sale a su alcance otro automóvil, que\n",
    "marcha a 75 km/h. Halla la distancia del punto en que se verifica el encuentro a A, y el tiempo que han\n",
    "tardado en encontrarse.\"\"\",\n",
    "    \"\"\"En un corral hay conejos y gallinas, en total 50 cabezas y 134 patas. \n",
    "    ¿Cuántos animales hay de cada clase?\"\"\",\n",
    "    \"\"\"Se tienen 140 euros, en 20 billetes, unos de 5 euros y de 10 los restantes. \n",
    "    ¿Cuántos billetes hay de cada clase?\"\"\",\n",
    "    \"\"\"Un librero vendió 84 libros, unos a 45 euros y otros a 36 y obtuvo de la venta 3.105 euros. ¿Cuántos vendió de\n",
    "cada clase?\"\"\",\n",
    "    \"\"\"En una clase los 2/3 del número de alumnas es igual a los 5/7 del número de alumnos. Si el número de\n",
    "alumnas aumenta en 26, entonces es igual al doble del número de alumnos. ¿Cuántos alumnos y alumnas\n",
    "tiene la clase?\"\"\",\n",
    "    \"\"\"Un comerciante vendió 18 m de una pieza de tela y 20 m de otra de distinta longitud, y le quedó un sobrante,\n",
    "entre las dos, que es los 2/5 de la longitud de la segunda pieza. Si hubiera vendido un metro más de cada\n",
    "pieza, el sobrante hubiera sido 1/3 de la longitud de la segunda pieza. ¿Cuántos metros tenía cada pieza?\"\"\"\n",
    "    \n",
    "                           ], [], []\n",
    "\n",
    "for i, s in enumerate(sist) :\n",
    "    enl, en , so, mat = sol_sist(s)\n",
    "    enunciado.append(en)\n",
    "    so_l= enl + r'  \\rightarrow  \\\\'+latex(mat.LUdecomposition()[1])+ r' \\rightarrow  '+latex(so)\n",
    "    solucion.append(so_l) \n",
    "    display(md(enunciado_latex[i] +r\"$ \\ \\\\ \" + r\"  \\rightarrow  \" + solucion[i] +\"$\"))\n",
    "\n",
    "df_ejercicios = df_ejercicios.append(añadir_ejercicios(enunciado_latex, enunciado, solucion, texto_ejercicio, curso, titulo , n_ejercicio, '1', '1', enun_tex = False), ignore_index=True)\n"
   ]
  },
  {
   "cell_type": "code",
   "execution_count": 5,
   "metadata": {
    "colab": {},
    "colab_type": "code",
    "id": "2HFkgfNRA_n_",
    "outputId": "09fca6e9-5f9b-4eb4-e61f-af48c068730f"
   },
   "outputs": [
    {
     "data": {
      "text/markdown": [
       "**Resuelve los sistemas:**"
      ],
      "text/plain": [
       "<IPython.core.display.Markdown object>"
      ]
     },
     "metadata": {},
     "output_type": "display_data"
    },
    {
     "data": {
      "text/markdown": [
       "$\\left\\{\\begin{matrix}x - 2y + 5z = 13\\\\ 2x - 5y + z = 19\\\\ x + 3y - 2z =  - 4\\\\ \\end{matrix}\\right. \\rightarrow \\left[\\begin{matrix}-2 & 5 & 1 & 13\\\\0 & - \\frac{23}{2} & - \\frac{1}{2} & - \\frac{27}{2}\\\\0 & 0 & \\frac{52}{23} & \\frac{208}{23}\\end{matrix}\\right] \\rightarrow  \\\\ \\left \\{ x : 4, \\quad y : -2, \\quad z : 1\\right \\}$"
      ],
      "text/plain": [
       "<IPython.core.display.Markdown object>"
      ]
     },
     "metadata": {},
     "output_type": "display_data"
    },
    {
     "data": {
      "text/markdown": [
       "$\\left\\{\\begin{matrix}x - y + z = 7\\\\ x + y - 3z = 1\\\\ 2x + y - 4z = 5\\\\ \\end{matrix}\\right. \\rightarrow \\left[\\begin{matrix}-1 & 1 & 1 & 7\\\\0 & -2 & 2 & 8\\\\0 & 0 & 0 & 0\\end{matrix}\\right] \\rightarrow  \\\\ \\left \\{ x : z + 4, \\quad y : 2 z - 3\\right \\}$"
      ],
      "text/plain": [
       "<IPython.core.display.Markdown object>"
      ]
     },
     "metadata": {},
     "output_type": "display_data"
    },
    {
     "data": {
      "text/markdown": [
       "$\\left\\{\\begin{matrix}x - 2y + z = 13\\\\ 3x - 4y + 2z = 1\\\\ 2x - 2y + z = 0\\\\ \\end{matrix}\\right. \\rightarrow \\left[\\begin{matrix}-2 & 1 & 1 & 13\\\\0 & 0 & 1 & -25\\\\0 & 0 & 0 & 12\\end{matrix}\\right] \\rightarrow  \\\\ \\left [ \\right ]$"
      ],
      "text/plain": [
       "<IPython.core.display.Markdown object>"
      ]
     },
     "metadata": {},
     "output_type": "display_data"
    },
    {
     "data": {
      "text/markdown": [
       "$\\left\\{\\begin{matrix}x - y + z = 1\\\\  x + z = 4\\\\ y - 3z =  - 15\\\\ \\end{matrix}\\right. \\rightarrow \\left[\\begin{matrix}-1 & 1 & 1 & 1\\\\0 & 1 & 1 & 4\\\\0 & 0 & 3 & -6\\end{matrix}\\right] \\rightarrow  \\\\ \\left \\{ x : -2, \\quad y : 3, \\quad z : 6\\right \\}$"
      ],
      "text/plain": [
       "<IPython.core.display.Markdown object>"
      ]
     },
     "metadata": {},
     "output_type": "display_data"
    },
    {
     "data": {
      "text/markdown": [
       "$\\left\\{\\begin{matrix}2x - y + z = 6\\\\ x + y - 2z = 1\\\\ x - 2y + 3z = 0\\\\ \\end{matrix}\\right. \\rightarrow \\left[\\begin{matrix}-1 & 1 & 2 & 6\\\\0 & -1 & 3 & 7\\\\0 & 0 & 0 & -5\\end{matrix}\\right] \\rightarrow  \\\\ \\left [ \\right ]$"
      ],
      "text/plain": [
       "<IPython.core.display.Markdown object>"
      ]
     },
     "metadata": {},
     "output_type": "display_data"
    },
    {
     "data": {
      "text/markdown": [
       "$\\left\\{\\begin{matrix}x + 2y - 3z = 9\\\\ 2x - y = 6\\\\ 4x + 3y - 6z = 24\\\\ \\end{matrix}\\right. \\rightarrow \\left[\\begin{matrix}2 & -3 & 1 & 9\\\\0 & - \\frac{3}{2} & \\frac{5}{2} & \\frac{21}{2}\\\\0 & 0 & 0 & 0\\end{matrix}\\right] \\rightarrow  \\\\ \\left \\{ x : \\frac{3 z}{5} + \\frac{21}{5}, \\quad y : \\frac{6 z}{5} + \\frac{12}{5}\\right \\}$"
      ],
      "text/plain": [
       "<IPython.core.display.Markdown object>"
      ]
     },
     "metadata": {},
     "output_type": "display_data"
    },
    {
     "data": {
      "text/markdown": [
       "$\\left\\{\\begin{matrix}4x - 2y = 2\\\\  6y - 3z = 1\\\\ 3z - 4x =  - 1\\\\ \\end{matrix}\\right. \\rightarrow \\left[\\begin{matrix}-2 & 0 & 4 & 2\\\\0 & -3 & 12 & 7\\\\0 & 0 & 8 & 6\\end{matrix}\\right] \\rightarrow  \\\\ \\left \\{ x : \\frac{3}{4}, \\quad y : \\frac{1}{2}, \\quad z : \\frac{2}{3}\\right \\}$"
      ],
      "text/plain": [
       "<IPython.core.display.Markdown object>"
      ]
     },
     "metadata": {},
     "output_type": "display_data"
    },
    {
     "data": {
      "text/markdown": [
       "$\\left\\{\\begin{matrix}x + 2y = 5\\\\  2x + y =  - 1\\\\  - x + 3y = 6\\\\ \\end{matrix}\\right. \\rightarrow \\left[\\begin{matrix}2 & 1 & 5\\\\0 & \\frac{3}{2} & - \\frac{7}{2}\\\\0 & 0 & - \\frac{22}{3}\\end{matrix}\\right] \\rightarrow  \\\\ \\left [ \\right ]$"
      ],
      "text/plain": [
       "<IPython.core.display.Markdown object>"
      ]
     },
     "metadata": {},
     "output_type": "display_data"
    },
    {
     "data": {
      "text/markdown": [
       "$\\left\\{\\begin{matrix}x - 3y = 1\\\\ 4y - z = 1\\\\ 2x - z = 1\\\\ \\end{matrix}\\right. \\rightarrow \\left[\\begin{matrix}-3 & 0 & 1 & 1\\\\0 & -1 & \\frac{4}{3} & \\frac{7}{3}\\\\0 & 0 & \\frac{2}{3} & - \\frac{4}{3}\\end{matrix}\\right] \\rightarrow  \\\\ \\left \\{ x : -2, \\quad y : -1, \\quad z : -5\\right \\}$"
      ],
      "text/plain": [
       "<IPython.core.display.Markdown object>"
      ]
     },
     "metadata": {},
     "output_type": "display_data"
    },
    {
     "data": {
      "text/markdown": [
       "$\\left\\{\\begin{matrix}x + 2 =  - y\\\\ - y + 3 = 2x\\\\ 4x - y = 6\\\\ \\end{matrix}\\right. \\rightarrow \\left[\\begin{matrix}-1 & -1 & 2\\\\0 & 1 & 5\\\\0 & 0 & -21\\end{matrix}\\right] \\rightarrow  \\\\ \\left [ \\right ]$"
      ],
      "text/plain": [
       "<IPython.core.display.Markdown object>"
      ]
     },
     "metadata": {},
     "output_type": "display_data"
    },
    {
     "data": {
      "text/markdown": [
       "$\\left\\{\\begin{matrix}x - 2y + 3z = 2\\\\ 2x - 3y + z = 1\\\\ 3x - y + 2z = 9\\\\ \\end{matrix}\\right. \\rightarrow \\left[\\begin{matrix}-2 & 3 & 1 & 2\\\\0 & - \\frac{7}{2} & \\frac{1}{2} & -2\\\\0 & 0 & \\frac{18}{7} & \\frac{54}{7}\\end{matrix}\\right] \\rightarrow  \\\\ \\left \\{ x : 3, \\quad y : 2, \\quad z : 1\\right \\}$"
      ],
      "text/plain": [
       "<IPython.core.display.Markdown object>"
      ]
     },
     "metadata": {},
     "output_type": "display_data"
    },
    {
     "data": {
      "text/markdown": [
       "$\\left\\{\\begin{matrix} x - 6 + y = 0\\\\  - 3y + x - 2 = 0\\\\ 5x - 26 + y = 0 \\\\ \\end{matrix}\\right. \\rightarrow \\left[\\begin{matrix}1 & 1 & 6\\\\0 & 4 & 20\\\\0 & 0 & 0\\end{matrix}\\right] \\rightarrow  \\\\ \\left \\{ x : 5, \\quad y : 1\\right \\}$"
      ],
      "text/plain": [
       "<IPython.core.display.Markdown object>"
      ]
     },
     "metadata": {},
     "output_type": "display_data"
    },
    {
     "data": {
      "text/markdown": [
       "$\\left\\{\\begin{matrix}2x + 2y =  - 2\\\\ x + 6 = y\\\\ 3x + 5y = 1\\\\ \\end{matrix}\\right. \\rightarrow \\left[\\begin{matrix}2 & 2 & -2\\\\0 & -2 & 7\\\\0 & 0 & -1\\end{matrix}\\right] \\rightarrow  \\\\ \\left [ \\right ]$"
      ],
      "text/plain": [
       "<IPython.core.display.Markdown object>"
      ]
     },
     "metadata": {},
     "output_type": "display_data"
    },
    {
     "data": {
      "text/markdown": [
       "$\\left\\{\\begin{matrix}x + y + z = 4\\\\ x - 2y + 3z = 13\\\\ x + 3y + 4z = 11\\\\ \\end{matrix}\\right. \\rightarrow \\left[\\begin{matrix}1 & 1 & 1 & 4\\\\0 & 5 & 3 & 21\\\\0 & 0 & - \\frac{13}{5} & - \\frac{26}{5}\\end{matrix}\\right] \\rightarrow  \\\\ \\left \\{ x : 2, \\quad y : -1, \\quad z : 3\\right \\}$"
      ],
      "text/plain": [
       "<IPython.core.display.Markdown object>"
      ]
     },
     "metadata": {},
     "output_type": "display_data"
    },
    {
     "data": {
      "text/markdown": [
       "$\\left\\{\\begin{matrix}z - 2( {x + y} ) =  - 9\\\\ 3x - y = 3\\\\ 3y - z = 9\\\\ \\end{matrix}\\right. \\rightarrow \\left[\\begin{matrix}-2 & 1 & -2 & -9\\\\0 & - \\frac{1}{2} & 4 & \\frac{15}{2}\\\\0 & 0 & 1 & 3\\end{matrix}\\right] \\rightarrow  \\\\ \\left \\{ x : 3, \\quad y : 6, \\quad z : 9\\right \\}$"
      ],
      "text/plain": [
       "<IPython.core.display.Markdown object>"
      ]
     },
     "metadata": {},
     "output_type": "display_data"
    },
    {
     "data": {
      "text/markdown": [
       "$\\left\\{\\begin{matrix}\\frac{x}{2} + \\frac{y}{3} + z = 7\\\\ x - \\frac{y}{2} + \\frac{z}{3} = 11\\\\  \\frac{x}{3} - y - \\frac{z}{2} = 5\\\\ \\end{matrix}\\right. \\rightarrow \\left[\\begin{matrix}\\frac{1}{3} & 1 & \\frac{1}{2} & 7\\\\0 & \\frac{11}{6} & \\frac{7}{4} & \\frac{43}{2}\\\\0 & 0 & - \\frac{73}{132} & - \\frac{73}{22}\\end{matrix}\\right] \\rightarrow  \\\\ \\left \\{ x : 6, \\quad y : -6, \\quad z : 6\\right \\}$"
      ],
      "text/plain": [
       "<IPython.core.display.Markdown object>"
      ]
     },
     "metadata": {},
     "output_type": "display_data"
    },
    {
     "data": {
      "text/markdown": [
       "$\\left\\{\\begin{matrix}\\frac{x}{2} + \\frac{y}{3} + \\frac{z}{3} = 9\\\\ \\frac{x}{3} - \\frac{y}{9} + \\frac{z}{3} = 6\\\\ \\frac{x}{6} + \\frac{y}{2} + \\frac{z}{2} = 13\\\\ \\end{matrix}\\right. \\rightarrow \\left[\\begin{matrix}\\frac{1}{3} & \\frac{1}{3} & \\frac{1}{2} & 9\\\\0 & \\frac{4}{9} & \\frac{1}{2} & 9\\\\0 & 0 & - \\frac{7}{12} & - \\frac{1}{2}\\end{matrix}\\right] \\rightarrow  \\\\ \\left \\{ x : \\frac{6}{7}, \\quad y : \\frac{45}{7}, \\quad z : \\frac{135}{7}\\right \\}$"
      ],
      "text/plain": [
       "<IPython.core.display.Markdown object>"
      ]
     },
     "metadata": {},
     "output_type": "display_data"
    },
    {
     "data": {
      "text/markdown": [
       "$\\left\\{\\begin{matrix}x - y + z = 5\\\\ \\frac{{x - 1}}{2} + \\frac{y}{3} = 1\\\\ \\frac{{2x + y}}{6} - \\frac{{3z + y}}{8} = 4\\\\ \\end{matrix}\\right. \\rightarrow \\left[\\begin{matrix}-1 & 1 & 1 & 5\\\\0 & \\frac{1}{3} & \\frac{5}{6} & \\frac{19}{6}\\\\0 & 0 & \\frac{29}{24} & \\frac{59}{8}\\end{matrix}\\right] \\rightarrow  \\\\ \\left \\{ x : \\frac{177}{29}, \\quad y : - \\frac{135}{29}, \\quad z : - \\frac{167}{29}\\right \\}$"
      ],
      "text/plain": [
       "<IPython.core.display.Markdown object>"
      ]
     },
     "metadata": {},
     "output_type": "display_data"
    }
   ],
   "source": [
    "# Página 21 ejercicio 23\n",
    "\n",
    "texto_ejercicio = 'Resuelve los sistemas:'\n",
    "n_ejercicio = 'p021e23'\n",
    "\n",
    "display(md(\"**\"+texto_ejercicio+\"**\"))\n",
    "\n",
    "pre_enunciado_latex = [[r'x - 2y + 5z = 13',r'2x - 5y + z = 19', r'x + 3y - 2z =  - 4'],\n",
    "                       [r'x - y + z = 7',r'x + y - 3z = 1', r'2x + y - 4z = 5'],\n",
    "                       [r'x - 2y + z = 13',r'3x - 4y + 2z = 1', r'2x - 2y + z = 0'],\n",
    "                       [r'x - y + z = 1',r' x + z = 4', r'y - 3z =  - 15'],\n",
    "                       [r'2x - y + z = 6',r'x + y - 2z = 1', r'x - 2y + 3z = 0'],\n",
    "                       [r'x + 2y - 3z = 9',r'2x - y = 6', r'4x + 3y - 6z = 24'],\n",
    "                       [r'4x - 2y = 2',r' 6y - 3z = 1', r'3z - 4x =  - 1'],\n",
    "                       [r'x + 2y = 5',r' 2x + y =  - 1', r' - x + 3y = 6'],\n",
    "                       [r'x - 3y = 1',r'4y - z = 1', r'2x - z = 1'],\n",
    "                       [r'x + 2 =  - y',r'- y + 3 = 2x', r'4x - y = 6'],\n",
    "                       [r'x - 2y + 3z = 2',r'2x - 3y + z = 1', r'3x - y + 2z = 9'],\n",
    "                       [r' x - 6 + y = 0',r' - 3y + x - 2 = 0', r'5x - 26 + y = 0 '],\n",
    "                       [r'2x + 2y =  - 2',r'x + 6 = y', r'3x + 5y = 1'],\n",
    "                       [r'x + y + z = 4',r'x - 2y + 3z = 13', r'x + 3y + 4z = 11'],\n",
    "                       [r'z - 2( {x + y} ) =  - 9',r'3x - y = 3', r'3y - z = 9'],\n",
    "                       [r'\\frac{x}{2} + \\frac{y}{3} + z = 7',r'x - \\frac{y}{2} + \\frac{z}{3} = 11', r' \\frac{x}{3} - y - \\frac{z}{2} = 5'],\n",
    "                       [r'\\frac{x}{2} + \\frac{y}{3} + \\frac{z}{3} = 9',r'\\frac{x}{3} - \\frac{y}{9} + \\frac{z}{3} = 6', r'\\frac{x}{6} + \\frac{y}{2} + \\frac{z}{2} = 13'],\n",
    "                       [r'x - y + z = 5',r'\\frac{{x - 1}}{2} + \\frac{y}{3} = 1', r'\\frac{{2x + y}}{6} - \\frac{{3z + y}}{8} = 4']\n",
    "                       \n",
    "                      ]\n",
    "\n",
    "\n",
    "\n",
    "\n",
    "enunciado_latex,enunciado, solucion = [], [], []\n",
    "\n",
    "for i, s in enumerate(pre_enunciado_latex) :\n",
    "    enl, en , so, mat = sol_sist(s)\n",
    "    enunciado_latex.append(enl)\n",
    "    enunciado.append(en)\n",
    "    so_l=latex(mat.LUdecomposition()[1])+ r' \\rightarrow  \\\\ '+latex(so)\n",
    "    solucion.append(so_l) \n",
    "    display(md(\"$\"+ enunciado_latex[i] +\" \\\\rightarrow \" + solucion[i] +\"$\"))\n",
    "\n",
    "df_ejercicios = df_ejercicios.append(añadir_ejercicios(enunciado_latex, enunciado, solucion, texto_ejercicio, curso, titulo , n_ejercicio, '1', '2'), ignore_index=True)\n"
   ]
  },
  {
   "cell_type": "code",
   "execution_count": 6,
   "metadata": {
    "colab": {},
    "colab_type": "code",
    "id": "pveS6R7_A_oW"
   },
   "outputs": [],
   "source": [
    "df_ejercicios.to_csv('ejercicios7.csv', index = False)"
   ]
  },
  {
   "cell_type": "code",
   "execution_count": 7,
   "metadata": {
    "colab": {},
    "colab_type": "code",
    "id": "bA557zcgA_oj"
   },
   "outputs": [],
   "source": [
    "df_ejercicios = pd.read_csv('ejercicios7.csv', index_col= None)"
   ]
  },
  {
   "cell_type": "code",
   "execution_count": 8,
   "metadata": {
    "colab": {},
    "colab_type": "code",
    "id": "fDC0poQ_A_ov",
    "outputId": "f3eacb84-4ed6-49c2-8353-7bbf5c574879"
   },
   "outputs": [
    {
     "data": {
      "text/markdown": [
       "**Ejercicio: **p019e01"
      ],
      "text/plain": [
       "<IPython.core.display.Markdown object>"
      ]
     },
     "metadata": {},
     "output_type": "display_data"
    },
    {
     "data": {
      "text/html": [
       "<div>\n",
       "<style scoped>\n",
       "    .dataframe tbody tr th:only-of-type {\n",
       "        vertical-align: middle;\n",
       "    }\n",
       "\n",
       "    .dataframe tbody tr th {\n",
       "        vertical-align: top;\n",
       "    }\n",
       "\n",
       "    .dataframe thead th {\n",
       "        text-align: right;\n",
       "    }\n",
       "</style>\n",
       "<table border=\"1\" class=\"dataframe\">\n",
       "  <thead>\n",
       "    <tr style=\"text-align: right;\">\n",
       "      <th></th>\n",
       "      <th>enunciado_latex</th>\n",
       "      <th>enunciado</th>\n",
       "      <th>solucion</th>\n",
       "      <th>texto</th>\n",
       "      <th>curso</th>\n",
       "      <th>titulo</th>\n",
       "      <th>n_ejercicio</th>\n",
       "      <th>dificultad</th>\n",
       "      <th>n_columnas</th>\n",
       "      <th>puntos</th>\n",
       "      <th>enun_tex</th>\n",
       "    </tr>\n",
       "  </thead>\n",
       "  <tbody>\n",
       "    <tr>\n",
       "      <th>0</th>\n",
       "      <td>\\left\\{\\begin{matrix}3x - 2y = 1\\\\ x + 6y = 7\\...</td>\n",
       "      <td>[Eq(3*x - 2*y, 1), Eq(x + 6*y, 7)]</td>\n",
       "      <td>\\left[\\begin{matrix}-2 &amp; 3 &amp; 1\\\\0 &amp; 10 &amp; 10\\en...</td>\n",
       "      <td>Resuelve los sistemas:</td>\n",
       "      <td>1BC</td>\n",
       "      <td>7 - Sistemas de ecuaciones</td>\n",
       "      <td>p019e01</td>\n",
       "      <td>1</td>\n",
       "      <td>2</td>\n",
       "      <td>1</td>\n",
       "      <td>True</td>\n",
       "    </tr>\n",
       "    <tr>\n",
       "      <th>1</th>\n",
       "      <td>\\left\\{\\begin{matrix}6x - 2y = 14\\\\ 3x - y = 7...</td>\n",
       "      <td>[Eq(6*x - 2*y, 14), Eq(3*x - y, 7)]</td>\n",
       "      <td>\\left[\\begin{matrix}-2 &amp; 6 &amp; 14\\\\0 &amp; 0 &amp; 0\\end...</td>\n",
       "      <td>Resuelve los sistemas:</td>\n",
       "      <td>1BC</td>\n",
       "      <td>7 - Sistemas de ecuaciones</td>\n",
       "      <td>p019e01</td>\n",
       "      <td>1</td>\n",
       "      <td>2</td>\n",
       "      <td>1</td>\n",
       "      <td>True</td>\n",
       "    </tr>\n",
       "    <tr>\n",
       "      <th>2</th>\n",
       "      <td>\\left\\{\\begin{matrix}6x - 2y = 9\\\\ 3x - y = 10...</td>\n",
       "      <td>[Eq(6*x - 2*y, 9), Eq(3*x - y, 10)]</td>\n",
       "      <td>\\left[\\begin{matrix}-2 &amp; 6 &amp; 9\\\\0 &amp; 0 &amp; \\frac{...</td>\n",
       "      <td>Resuelve los sistemas:</td>\n",
       "      <td>1BC</td>\n",
       "      <td>7 - Sistemas de ecuaciones</td>\n",
       "      <td>p019e01</td>\n",
       "      <td>1</td>\n",
       "      <td>2</td>\n",
       "      <td>1</td>\n",
       "      <td>True</td>\n",
       "    </tr>\n",
       "    <tr>\n",
       "      <th>3</th>\n",
       "      <td>\\left\\{\\begin{matrix}4x + 7y =  - 3\\\\ 7x + 4y ...</td>\n",
       "      <td>[Eq(4*x + 7*y, -3), Eq(7*x + 4*y, 36)]</td>\n",
       "      <td>\\left[\\begin{matrix}7 &amp; 4 &amp; -3\\\\0 &amp; \\frac{33}{...</td>\n",
       "      <td>Resuelve los sistemas:</td>\n",
       "      <td>1BC</td>\n",
       "      <td>7 - Sistemas de ecuaciones</td>\n",
       "      <td>p019e01</td>\n",
       "      <td>1</td>\n",
       "      <td>2</td>\n",
       "      <td>1</td>\n",
       "      <td>True</td>\n",
       "    </tr>\n",
       "    <tr>\n",
       "      <th>4</th>\n",
       "      <td>\\left\\{\\begin{matrix} 4x + 16 = 5y\\\\  5y - 19 ...</td>\n",
       "      <td>[Eq(5*y, 4*x + 16), Eq(3*x, 5*y - 19)]</td>\n",
       "      <td>\\left[\\begin{matrix}5 &amp; -4 &amp; 16\\\\0 &amp; -1 &amp; -3\\e...</td>\n",
       "      <td>Resuelve los sistemas:</td>\n",
       "      <td>1BC</td>\n",
       "      <td>7 - Sistemas de ecuaciones</td>\n",
       "      <td>p019e01</td>\n",
       "      <td>1</td>\n",
       "      <td>2</td>\n",
       "      <td>1</td>\n",
       "      <td>True</td>\n",
       "    </tr>\n",
       "    <tr>\n",
       "      <th>5</th>\n",
       "      <td>\\left\\{\\begin{matrix}x - 5 = y + 2\\\\ 1 + 3x + ...</td>\n",
       "      <td>[Eq(x - 5, y + 2), Eq(x - 4, 3*x + 2*y + 1)]</td>\n",
       "      <td>\\left[\\begin{matrix}-1 &amp; 1 &amp; 7\\\\0 &amp; -4 &amp; -9\\en...</td>\n",
       "      <td>Resuelve los sistemas:</td>\n",
       "      <td>1BC</td>\n",
       "      <td>7 - Sistemas de ecuaciones</td>\n",
       "      <td>p019e01</td>\n",
       "      <td>1</td>\n",
       "      <td>2</td>\n",
       "      <td>1</td>\n",
       "      <td>True</td>\n",
       "    </tr>\n",
       "    <tr>\n",
       "      <th>6</th>\n",
       "      <td>\\left\\{\\begin{matrix}x - 5 = y + 2\\\\ 3x - 2y =...</td>\n",
       "      <td>[Eq(x - 5, y + 2), Eq(x - 5, 3*x - 2*y)]</td>\n",
       "      <td>\\left[\\begin{matrix}-1 &amp; 1 &amp; 7\\\\0 &amp; 0 &amp; 19\\end...</td>\n",
       "      <td>Resuelve los sistemas:</td>\n",
       "      <td>1BC</td>\n",
       "      <td>7 - Sistemas de ecuaciones</td>\n",
       "      <td>p019e01</td>\n",
       "      <td>1</td>\n",
       "      <td>2</td>\n",
       "      <td>1</td>\n",
       "      <td>True</td>\n",
       "    </tr>\n",
       "    <tr>\n",
       "      <th>7</th>\n",
       "      <td>\\left\\{\\begin{matrix}x + 3y = 6\\\\ 6y - 5 = 7 -...</td>\n",
       "      <td>[Eq(x + 3*y, 6), Eq(-2*x + 7, 6*y - 5)]</td>\n",
       "      <td>\\left[\\begin{matrix}3 &amp; 1 &amp; 6\\\\0 &amp; 0 &amp; 0\\end{m...</td>\n",
       "      <td>Resuelve los sistemas:</td>\n",
       "      <td>1BC</td>\n",
       "      <td>7 - Sistemas de ecuaciones</td>\n",
       "      <td>p019e01</td>\n",
       "      <td>1</td>\n",
       "      <td>2</td>\n",
       "      <td>1</td>\n",
       "      <td>True</td>\n",
       "    </tr>\n",
       "    <tr>\n",
       "      <th>8</th>\n",
       "      <td>\\left\\{\\begin{matrix}x - y = 8\\\\  x + y = 24\\\\...</td>\n",
       "      <td>[Eq(x - y, 8), Eq(x + y, 24)]</td>\n",
       "      <td>\\left[\\begin{matrix}-1 &amp; 1 &amp; 8\\\\0 &amp; 2 &amp; 32\\end...</td>\n",
       "      <td>Resuelve los sistemas:</td>\n",
       "      <td>1BC</td>\n",
       "      <td>7 - Sistemas de ecuaciones</td>\n",
       "      <td>p019e01</td>\n",
       "      <td>1</td>\n",
       "      <td>2</td>\n",
       "      <td>1</td>\n",
       "      <td>True</td>\n",
       "    </tr>\n",
       "    <tr>\n",
       "      <th>9</th>\n",
       "      <td>\\left\\{\\begin{matrix}x + 2y = 11\\\\ 2x - y = 2\\...</td>\n",
       "      <td>[Eq(x + 2*y, 11), Eq(2*x - y, 2)]</td>\n",
       "      <td>\\left[\\begin{matrix}2 &amp; 1 &amp; 11\\\\0 &amp; \\frac{5}{2...</td>\n",
       "      <td>Resuelve los sistemas:</td>\n",
       "      <td>1BC</td>\n",
       "      <td>7 - Sistemas de ecuaciones</td>\n",
       "      <td>p019e01</td>\n",
       "      <td>1</td>\n",
       "      <td>2</td>\n",
       "      <td>1</td>\n",
       "      <td>True</td>\n",
       "    </tr>\n",
       "    <tr>\n",
       "      <th>10</th>\n",
       "      <td>\\left\\{\\begin{matrix}3x - 4y =  - 9\\\\ 2x + y =...</td>\n",
       "      <td>[Eq(3*x - 4*y, -9), Eq(2*x + y, 5)]</td>\n",
       "      <td>\\left[\\begin{matrix}-4 &amp; 3 &amp; -9\\\\0 &amp; \\frac{11}...</td>\n",
       "      <td>Resuelve los sistemas:</td>\n",
       "      <td>1BC</td>\n",
       "      <td>7 - Sistemas de ecuaciones</td>\n",
       "      <td>p019e01</td>\n",
       "      <td>1</td>\n",
       "      <td>2</td>\n",
       "      <td>1</td>\n",
       "      <td>True</td>\n",
       "    </tr>\n",
       "    <tr>\n",
       "      <th>11</th>\n",
       "      <td>\\left\\{\\begin{matrix}10( {x - 2} ) + y = 1\\\\ x...</td>\n",
       "      <td>[Eq(10*x + y - 20, 1), Eq(4*x - 3*y, 5)]</td>\n",
       "      <td>\\left[\\begin{matrix}1 &amp; 10 &amp; 21\\\\0 &amp; 34 &amp; 68\\e...</td>\n",
       "      <td>Resuelve los sistemas:</td>\n",
       "      <td>1BC</td>\n",
       "      <td>7 - Sistemas de ecuaciones</td>\n",
       "      <td>p019e01</td>\n",
       "      <td>1</td>\n",
       "      <td>2</td>\n",
       "      <td>1</td>\n",
       "      <td>True</td>\n",
       "    </tr>\n",
       "    <tr>\n",
       "      <th>12</th>\n",
       "      <td>\\left\\{\\begin{matrix}\\frac{{x - y}}{2} + \\frac...</td>\n",
       "      <td>[Eq(5*x/6 - 5*y/6, 5), Eq(x/4 + y + 7/4, 3)]</td>\n",
       "      <td>\\left[\\begin{matrix}- \\frac{5}{6} &amp; \\frac{5}{6...</td>\n",
       "      <td>Resuelve los sistemas:</td>\n",
       "      <td>1BC</td>\n",
       "      <td>7 - Sistemas de ecuaciones</td>\n",
       "      <td>p019e01</td>\n",
       "      <td>1</td>\n",
       "      <td>2</td>\n",
       "      <td>1</td>\n",
       "      <td>True</td>\n",
       "    </tr>\n",
       "    <tr>\n",
       "      <th>13</th>\n",
       "      <td>\\left\\{\\begin{matrix}\\frac{{3( {y + 2x + 2} )}...</td>\n",
       "      <td>[Eq(4*x/3 + y/3 - 1/3, 3*x/2 + 3*y/4 + 3/2), E...</td>\n",
       "      <td>\\left[\\begin{matrix}- \\frac{5}{12} &amp; - \\frac{1...</td>\n",
       "      <td>Resuelve los sistemas:</td>\n",
       "      <td>1BC</td>\n",
       "      <td>7 - Sistemas de ecuaciones</td>\n",
       "      <td>p019e01</td>\n",
       "      <td>1</td>\n",
       "      <td>2</td>\n",
       "      <td>1</td>\n",
       "      <td>True</td>\n",
       "    </tr>\n",
       "    <tr>\n",
       "      <th>14</th>\n",
       "      <td>\\left\\{\\begin{matrix} x - 2( {x + y} ) = 3y - ...</td>\n",
       "      <td>[Eq(3*y - 2, -x - 2*y), Eq(x/3 + y/2, 3)]</td>\n",
       "      <td>\\left[\\begin{matrix}5 &amp; 1 &amp; 2\\\\0 &amp; \\frac{7}{30...</td>\n",
       "      <td>Resuelve los sistemas:</td>\n",
       "      <td>1BC</td>\n",
       "      <td>7 - Sistemas de ecuaciones</td>\n",
       "      <td>p019e01</td>\n",
       "      <td>1</td>\n",
       "      <td>2</td>\n",
       "      <td>1</td>\n",
       "      <td>True</td>\n",
       "    </tr>\n",
       "    <tr>\n",
       "      <th>15</th>\n",
       "      <td>\\left\\{\\begin{matrix}\\frac{{3 - 2y}}{4} - \\fra...</td>\n",
       "      <td>[Eq(-x/3 + 1/6, -y/2 + 1/2), Eq(x/2 - 3*y/8 + ...</td>\n",
       "      <td>\\left[\\begin{matrix}\\frac{1}{2} &amp; - \\frac{1}{3...</td>\n",
       "      <td>Resuelve los sistemas:</td>\n",
       "      <td>1BC</td>\n",
       "      <td>7 - Sistemas de ecuaciones</td>\n",
       "      <td>p019e01</td>\n",
       "      <td>1</td>\n",
       "      <td>2</td>\n",
       "      <td>1</td>\n",
       "      <td>True</td>\n",
       "    </tr>\n",
       "    <tr>\n",
       "      <th>16</th>\n",
       "      <td>\\left\\{\\begin{matrix}\\frac{{4y - 5x}}{6} + \\fr...</td>\n",
       "      <td>[Eq(2*x/3 - y/3, -2*x/9 - 2*y/9 + 1), Eq(-4*x/...</td>\n",
       "      <td>\\left[\\begin{matrix}- \\frac{1}{9} &amp; \\frac{8}{9...</td>\n",
       "      <td>Resuelve los sistemas:</td>\n",
       "      <td>1BC</td>\n",
       "      <td>7 - Sistemas de ecuaciones</td>\n",
       "      <td>p019e01</td>\n",
       "      <td>1</td>\n",
       "      <td>2</td>\n",
       "      <td>1</td>\n",
       "      <td>True</td>\n",
       "    </tr>\n",
       "  </tbody>\n",
       "</table>\n",
       "</div>"
      ],
      "text/plain": [
       "                                      enunciado_latex  \\\n",
       "0   \\left\\{\\begin{matrix}3x - 2y = 1\\\\ x + 6y = 7\\...   \n",
       "1   \\left\\{\\begin{matrix}6x - 2y = 14\\\\ 3x - y = 7...   \n",
       "2   \\left\\{\\begin{matrix}6x - 2y = 9\\\\ 3x - y = 10...   \n",
       "3   \\left\\{\\begin{matrix}4x + 7y =  - 3\\\\ 7x + 4y ...   \n",
       "4   \\left\\{\\begin{matrix} 4x + 16 = 5y\\\\  5y - 19 ...   \n",
       "5   \\left\\{\\begin{matrix}x - 5 = y + 2\\\\ 1 + 3x + ...   \n",
       "6   \\left\\{\\begin{matrix}x - 5 = y + 2\\\\ 3x - 2y =...   \n",
       "7   \\left\\{\\begin{matrix}x + 3y = 6\\\\ 6y - 5 = 7 -...   \n",
       "8   \\left\\{\\begin{matrix}x - y = 8\\\\  x + y = 24\\\\...   \n",
       "9   \\left\\{\\begin{matrix}x + 2y = 11\\\\ 2x - y = 2\\...   \n",
       "10  \\left\\{\\begin{matrix}3x - 4y =  - 9\\\\ 2x + y =...   \n",
       "11  \\left\\{\\begin{matrix}10( {x - 2} ) + y = 1\\\\ x...   \n",
       "12  \\left\\{\\begin{matrix}\\frac{{x - y}}{2} + \\frac...   \n",
       "13  \\left\\{\\begin{matrix}\\frac{{3( {y + 2x + 2} )}...   \n",
       "14  \\left\\{\\begin{matrix} x - 2( {x + y} ) = 3y - ...   \n",
       "15  \\left\\{\\begin{matrix}\\frac{{3 - 2y}}{4} - \\fra...   \n",
       "16  \\left\\{\\begin{matrix}\\frac{{4y - 5x}}{6} + \\fr...   \n",
       "\n",
       "                                            enunciado  \\\n",
       "0                  [Eq(3*x - 2*y, 1), Eq(x + 6*y, 7)]   \n",
       "1                 [Eq(6*x - 2*y, 14), Eq(3*x - y, 7)]   \n",
       "2                 [Eq(6*x - 2*y, 9), Eq(3*x - y, 10)]   \n",
       "3              [Eq(4*x + 7*y, -3), Eq(7*x + 4*y, 36)]   \n",
       "4              [Eq(5*y, 4*x + 16), Eq(3*x, 5*y - 19)]   \n",
       "5        [Eq(x - 5, y + 2), Eq(x - 4, 3*x + 2*y + 1)]   \n",
       "6            [Eq(x - 5, y + 2), Eq(x - 5, 3*x - 2*y)]   \n",
       "7             [Eq(x + 3*y, 6), Eq(-2*x + 7, 6*y - 5)]   \n",
       "8                       [Eq(x - y, 8), Eq(x + y, 24)]   \n",
       "9                   [Eq(x + 2*y, 11), Eq(2*x - y, 2)]   \n",
       "10                [Eq(3*x - 4*y, -9), Eq(2*x + y, 5)]   \n",
       "11           [Eq(10*x + y - 20, 1), Eq(4*x - 3*y, 5)]   \n",
       "12       [Eq(5*x/6 - 5*y/6, 5), Eq(x/4 + y + 7/4, 3)]   \n",
       "13  [Eq(4*x/3 + y/3 - 1/3, 3*x/2 + 3*y/4 + 3/2), E...   \n",
       "14          [Eq(3*y - 2, -x - 2*y), Eq(x/3 + y/2, 3)]   \n",
       "15  [Eq(-x/3 + 1/6, -y/2 + 1/2), Eq(x/2 - 3*y/8 + ...   \n",
       "16  [Eq(2*x/3 - y/3, -2*x/9 - 2*y/9 + 1), Eq(-4*x/...   \n",
       "\n",
       "                                             solucion                   texto  \\\n",
       "0   \\left[\\begin{matrix}-2 & 3 & 1\\\\0 & 10 & 10\\en...  Resuelve los sistemas:   \n",
       "1   \\left[\\begin{matrix}-2 & 6 & 14\\\\0 & 0 & 0\\end...  Resuelve los sistemas:   \n",
       "2   \\left[\\begin{matrix}-2 & 6 & 9\\\\0 & 0 & \\frac{...  Resuelve los sistemas:   \n",
       "3   \\left[\\begin{matrix}7 & 4 & -3\\\\0 & \\frac{33}{...  Resuelve los sistemas:   \n",
       "4   \\left[\\begin{matrix}5 & -4 & 16\\\\0 & -1 & -3\\e...  Resuelve los sistemas:   \n",
       "5   \\left[\\begin{matrix}-1 & 1 & 7\\\\0 & -4 & -9\\en...  Resuelve los sistemas:   \n",
       "6   \\left[\\begin{matrix}-1 & 1 & 7\\\\0 & 0 & 19\\end...  Resuelve los sistemas:   \n",
       "7   \\left[\\begin{matrix}3 & 1 & 6\\\\0 & 0 & 0\\end{m...  Resuelve los sistemas:   \n",
       "8   \\left[\\begin{matrix}-1 & 1 & 8\\\\0 & 2 & 32\\end...  Resuelve los sistemas:   \n",
       "9   \\left[\\begin{matrix}2 & 1 & 11\\\\0 & \\frac{5}{2...  Resuelve los sistemas:   \n",
       "10  \\left[\\begin{matrix}-4 & 3 & -9\\\\0 & \\frac{11}...  Resuelve los sistemas:   \n",
       "11  \\left[\\begin{matrix}1 & 10 & 21\\\\0 & 34 & 68\\e...  Resuelve los sistemas:   \n",
       "12  \\left[\\begin{matrix}- \\frac{5}{6} & \\frac{5}{6...  Resuelve los sistemas:   \n",
       "13  \\left[\\begin{matrix}- \\frac{5}{12} & - \\frac{1...  Resuelve los sistemas:   \n",
       "14  \\left[\\begin{matrix}5 & 1 & 2\\\\0 & \\frac{7}{30...  Resuelve los sistemas:   \n",
       "15  \\left[\\begin{matrix}\\frac{1}{2} & - \\frac{1}{3...  Resuelve los sistemas:   \n",
       "16  \\left[\\begin{matrix}- \\frac{1}{9} & \\frac{8}{9...  Resuelve los sistemas:   \n",
       "\n",
       "   curso                      titulo n_ejercicio  dificultad  n_columnas  \\\n",
       "0    1BC  7 - Sistemas de ecuaciones     p019e01           1           2   \n",
       "1    1BC  7 - Sistemas de ecuaciones     p019e01           1           2   \n",
       "2    1BC  7 - Sistemas de ecuaciones     p019e01           1           2   \n",
       "3    1BC  7 - Sistemas de ecuaciones     p019e01           1           2   \n",
       "4    1BC  7 - Sistemas de ecuaciones     p019e01           1           2   \n",
       "5    1BC  7 - Sistemas de ecuaciones     p019e01           1           2   \n",
       "6    1BC  7 - Sistemas de ecuaciones     p019e01           1           2   \n",
       "7    1BC  7 - Sistemas de ecuaciones     p019e01           1           2   \n",
       "8    1BC  7 - Sistemas de ecuaciones     p019e01           1           2   \n",
       "9    1BC  7 - Sistemas de ecuaciones     p019e01           1           2   \n",
       "10   1BC  7 - Sistemas de ecuaciones     p019e01           1           2   \n",
       "11   1BC  7 - Sistemas de ecuaciones     p019e01           1           2   \n",
       "12   1BC  7 - Sistemas de ecuaciones     p019e01           1           2   \n",
       "13   1BC  7 - Sistemas de ecuaciones     p019e01           1           2   \n",
       "14   1BC  7 - Sistemas de ecuaciones     p019e01           1           2   \n",
       "15   1BC  7 - Sistemas de ecuaciones     p019e01           1           2   \n",
       "16   1BC  7 - Sistemas de ecuaciones     p019e01           1           2   \n",
       "\n",
       "    puntos  enun_tex  \n",
       "0        1      True  \n",
       "1        1      True  \n",
       "2        1      True  \n",
       "3        1      True  \n",
       "4        1      True  \n",
       "5        1      True  \n",
       "6        1      True  \n",
       "7        1      True  \n",
       "8        1      True  \n",
       "9        1      True  \n",
       "10       1      True  \n",
       "11       1      True  \n",
       "12       1      True  \n",
       "13       1      True  \n",
       "14       1      True  \n",
       "15       1      True  \n",
       "16       1      True  "
      ]
     },
     "metadata": {},
     "output_type": "display_data"
    },
    {
     "data": {
      "text/markdown": [
       "**Ejercicio: **p020e02"
      ],
      "text/plain": [
       "<IPython.core.display.Markdown object>"
      ]
     },
     "metadata": {},
     "output_type": "display_data"
    },
    {
     "data": {
      "text/html": [
       "<div>\n",
       "<style scoped>\n",
       "    .dataframe tbody tr th:only-of-type {\n",
       "        vertical-align: middle;\n",
       "    }\n",
       "\n",
       "    .dataframe tbody tr th {\n",
       "        vertical-align: top;\n",
       "    }\n",
       "\n",
       "    .dataframe thead th {\n",
       "        text-align: right;\n",
       "    }\n",
       "</style>\n",
       "<table border=\"1\" class=\"dataframe\">\n",
       "  <thead>\n",
       "    <tr style=\"text-align: right;\">\n",
       "      <th></th>\n",
       "      <th>enunciado_latex</th>\n",
       "      <th>enunciado</th>\n",
       "      <th>solucion</th>\n",
       "      <th>texto</th>\n",
       "      <th>curso</th>\n",
       "      <th>titulo</th>\n",
       "      <th>n_ejercicio</th>\n",
       "      <th>dificultad</th>\n",
       "      <th>n_columnas</th>\n",
       "      <th>puntos</th>\n",
       "      <th>enun_tex</th>\n",
       "    </tr>\n",
       "  </thead>\n",
       "  <tbody>\n",
       "    <tr>\n",
       "      <th>17</th>\n",
       "      <td>Halla dos números sabiendo que al dividir el m...</td>\n",
       "      <td>[Eq(y, 3*x + 4), Eq((y + 9)/(x + 9), 2)]</td>\n",
       "      <td>\\left\\{\\begin{matrix}y=3x+4\\\\ \\frac{y+9}{x+9}=...</td>\n",
       "      <td>Resuelve mediante expresiones algebraicas:</td>\n",
       "      <td>1BC</td>\n",
       "      <td>7 - Sistemas de ecuaciones</td>\n",
       "      <td>p020e02</td>\n",
       "      <td>1</td>\n",
       "      <td>1</td>\n",
       "      <td>1</td>\n",
       "      <td>False</td>\n",
       "    </tr>\n",
       "    <tr>\n",
       "      <th>18</th>\n",
       "      <td>Un automóvil sale de una población A a 60 km/h...</td>\n",
       "      <td>[Eq(75*y, 60*y + 180), Eq(x, 75*y)]</td>\n",
       "      <td>\\left\\{\\begin{matrix}75y=60(y+3)\\\\ x=75y\\\\ \\en...</td>\n",
       "      <td>Resuelve mediante expresiones algebraicas:</td>\n",
       "      <td>1BC</td>\n",
       "      <td>7 - Sistemas de ecuaciones</td>\n",
       "      <td>p020e02</td>\n",
       "      <td>1</td>\n",
       "      <td>1</td>\n",
       "      <td>1</td>\n",
       "      <td>False</td>\n",
       "    </tr>\n",
       "    <tr>\n",
       "      <th>19</th>\n",
       "      <td>En un corral hay conejos y gallinas, en total ...</td>\n",
       "      <td>[Eq(x + y, 50), Eq(4*x + 2*y, 134)]</td>\n",
       "      <td>\\left\\{\\begin{matrix}50=x+y\\\\ 134=4x+2y\\\\ \\end...</td>\n",
       "      <td>Resuelve mediante expresiones algebraicas:</td>\n",
       "      <td>1BC</td>\n",
       "      <td>7 - Sistemas de ecuaciones</td>\n",
       "      <td>p020e02</td>\n",
       "      <td>1</td>\n",
       "      <td>1</td>\n",
       "      <td>1</td>\n",
       "      <td>False</td>\n",
       "    </tr>\n",
       "    <tr>\n",
       "      <th>20</th>\n",
       "      <td>Se tienen 140 euros, en 20 billetes, unos de 5...</td>\n",
       "      <td>[Eq(5*x + 10*y, 140), Eq(x + y, 20)]</td>\n",
       "      <td>\\left\\{\\begin{matrix}140=5x+10y\\\\ 20=x+y\\\\ \\en...</td>\n",
       "      <td>Resuelve mediante expresiones algebraicas:</td>\n",
       "      <td>1BC</td>\n",
       "      <td>7 - Sistemas de ecuaciones</td>\n",
       "      <td>p020e02</td>\n",
       "      <td>1</td>\n",
       "      <td>1</td>\n",
       "      <td>1</td>\n",
       "      <td>False</td>\n",
       "    </tr>\n",
       "  </tbody>\n",
       "</table>\n",
       "</div>"
      ],
      "text/plain": [
       "                                      enunciado_latex  \\\n",
       "17  Halla dos números sabiendo que al dividir el m...   \n",
       "18  Un automóvil sale de una población A a 60 km/h...   \n",
       "19  En un corral hay conejos y gallinas, en total ...   \n",
       "20  Se tienen 140 euros, en 20 billetes, unos de 5...   \n",
       "\n",
       "                                   enunciado  \\\n",
       "17  [Eq(y, 3*x + 4), Eq((y + 9)/(x + 9), 2)]   \n",
       "18       [Eq(75*y, 60*y + 180), Eq(x, 75*y)]   \n",
       "19       [Eq(x + y, 50), Eq(4*x + 2*y, 134)]   \n",
       "20      [Eq(5*x + 10*y, 140), Eq(x + y, 20)]   \n",
       "\n",
       "                                             solucion  \\\n",
       "17  \\left\\{\\begin{matrix}y=3x+4\\\\ \\frac{y+9}{x+9}=...   \n",
       "18  \\left\\{\\begin{matrix}75y=60(y+3)\\\\ x=75y\\\\ \\en...   \n",
       "19  \\left\\{\\begin{matrix}50=x+y\\\\ 134=4x+2y\\\\ \\end...   \n",
       "20  \\left\\{\\begin{matrix}140=5x+10y\\\\ 20=x+y\\\\ \\en...   \n",
       "\n",
       "                                         texto curso  \\\n",
       "17  Resuelve mediante expresiones algebraicas:   1BC   \n",
       "18  Resuelve mediante expresiones algebraicas:   1BC   \n",
       "19  Resuelve mediante expresiones algebraicas:   1BC   \n",
       "20  Resuelve mediante expresiones algebraicas:   1BC   \n",
       "\n",
       "                        titulo n_ejercicio  dificultad  n_columnas  puntos  \\\n",
       "17  7 - Sistemas de ecuaciones     p020e02           1           1       1   \n",
       "18  7 - Sistemas de ecuaciones     p020e02           1           1       1   \n",
       "19  7 - Sistemas de ecuaciones     p020e02           1           1       1   \n",
       "20  7 - Sistemas de ecuaciones     p020e02           1           1       1   \n",
       "\n",
       "    enun_tex  \n",
       "17     False  \n",
       "18     False  \n",
       "19     False  \n",
       "20     False  "
      ]
     },
     "metadata": {},
     "output_type": "display_data"
    },
    {
     "data": {
      "text/markdown": [
       "**Ejercicio: **p021e23"
      ],
      "text/plain": [
       "<IPython.core.display.Markdown object>"
      ]
     },
     "metadata": {},
     "output_type": "display_data"
    },
    {
     "data": {
      "text/html": [
       "<div>\n",
       "<style scoped>\n",
       "    .dataframe tbody tr th:only-of-type {\n",
       "        vertical-align: middle;\n",
       "    }\n",
       "\n",
       "    .dataframe tbody tr th {\n",
       "        vertical-align: top;\n",
       "    }\n",
       "\n",
       "    .dataframe thead th {\n",
       "        text-align: right;\n",
       "    }\n",
       "</style>\n",
       "<table border=\"1\" class=\"dataframe\">\n",
       "  <thead>\n",
       "    <tr style=\"text-align: right;\">\n",
       "      <th></th>\n",
       "      <th>enunciado_latex</th>\n",
       "      <th>enunciado</th>\n",
       "      <th>solucion</th>\n",
       "      <th>texto</th>\n",
       "      <th>curso</th>\n",
       "      <th>titulo</th>\n",
       "      <th>n_ejercicio</th>\n",
       "      <th>dificultad</th>\n",
       "      <th>n_columnas</th>\n",
       "      <th>puntos</th>\n",
       "      <th>enun_tex</th>\n",
       "    </tr>\n",
       "  </thead>\n",
       "  <tbody>\n",
       "    <tr>\n",
       "      <th>21</th>\n",
       "      <td>\\left\\{\\begin{matrix}x - 2y + 5z = 13\\\\ 2x - 5...</td>\n",
       "      <td>[Eq(x - 2*y + 5*z, 13), Eq(2*x - 5*y + z, 19),...</td>\n",
       "      <td>\\left[\\begin{matrix}-2 &amp; 5 &amp; 1 &amp; 13\\\\0 &amp; - \\fr...</td>\n",
       "      <td>Resuelve los sistemas:</td>\n",
       "      <td>1BC</td>\n",
       "      <td>7 - Sistemas de ecuaciones</td>\n",
       "      <td>p021e23</td>\n",
       "      <td>1</td>\n",
       "      <td>2</td>\n",
       "      <td>1</td>\n",
       "      <td>True</td>\n",
       "    </tr>\n",
       "    <tr>\n",
       "      <th>22</th>\n",
       "      <td>\\left\\{\\begin{matrix}x - y + z = 7\\\\ x + y - 3...</td>\n",
       "      <td>[Eq(x - y + z, 7), Eq(x + y - 3*z, 1), Eq(2*x ...</td>\n",
       "      <td>\\left[\\begin{matrix}-1 &amp; 1 &amp; 1 &amp; 7\\\\0 &amp; -2 &amp; 2...</td>\n",
       "      <td>Resuelve los sistemas:</td>\n",
       "      <td>1BC</td>\n",
       "      <td>7 - Sistemas de ecuaciones</td>\n",
       "      <td>p021e23</td>\n",
       "      <td>1</td>\n",
       "      <td>2</td>\n",
       "      <td>1</td>\n",
       "      <td>True</td>\n",
       "    </tr>\n",
       "    <tr>\n",
       "      <th>23</th>\n",
       "      <td>\\left\\{\\begin{matrix}x - 2y + z = 13\\\\ 3x - 4y...</td>\n",
       "      <td>[Eq(x - 2*y + z, 13), Eq(3*x - 4*y + 2*z, 1), ...</td>\n",
       "      <td>\\left[\\begin{matrix}-2 &amp; 1 &amp; 1 &amp; 13\\\\0 &amp; 0 &amp; 1...</td>\n",
       "      <td>Resuelve los sistemas:</td>\n",
       "      <td>1BC</td>\n",
       "      <td>7 - Sistemas de ecuaciones</td>\n",
       "      <td>p021e23</td>\n",
       "      <td>1</td>\n",
       "      <td>2</td>\n",
       "      <td>1</td>\n",
       "      <td>True</td>\n",
       "    </tr>\n",
       "    <tr>\n",
       "      <th>24</th>\n",
       "      <td>\\left\\{\\begin{matrix}x - y + z = 1\\\\  x + z = ...</td>\n",
       "      <td>[Eq(x - y + z, 1), Eq(x + z, 4), Eq(y - 3*z, -...</td>\n",
       "      <td>\\left[\\begin{matrix}-1 &amp; 1 &amp; 1 &amp; 1\\\\0 &amp; 1 &amp; 1 ...</td>\n",
       "      <td>Resuelve los sistemas:</td>\n",
       "      <td>1BC</td>\n",
       "      <td>7 - Sistemas de ecuaciones</td>\n",
       "      <td>p021e23</td>\n",
       "      <td>1</td>\n",
       "      <td>2</td>\n",
       "      <td>1</td>\n",
       "      <td>True</td>\n",
       "    </tr>\n",
       "    <tr>\n",
       "      <th>25</th>\n",
       "      <td>\\left\\{\\begin{matrix}2x - y + z = 6\\\\ x + y - ...</td>\n",
       "      <td>[Eq(2*x - y + z, 6), Eq(x + y - 2*z, 1), Eq(x ...</td>\n",
       "      <td>\\left[\\begin{matrix}-1 &amp; 1 &amp; 2 &amp; 6\\\\0 &amp; -1 &amp; 3...</td>\n",
       "      <td>Resuelve los sistemas:</td>\n",
       "      <td>1BC</td>\n",
       "      <td>7 - Sistemas de ecuaciones</td>\n",
       "      <td>p021e23</td>\n",
       "      <td>1</td>\n",
       "      <td>2</td>\n",
       "      <td>1</td>\n",
       "      <td>True</td>\n",
       "    </tr>\n",
       "    <tr>\n",
       "      <th>26</th>\n",
       "      <td>\\left\\{\\begin{matrix}x + 2y - 3z = 9\\\\ 2x - y ...</td>\n",
       "      <td>[Eq(x + 2*y - 3*z, 9), Eq(2*x - y, 6), Eq(4*x ...</td>\n",
       "      <td>\\left[\\begin{matrix}2 &amp; -3 &amp; 1 &amp; 9\\\\0 &amp; - \\fra...</td>\n",
       "      <td>Resuelve los sistemas:</td>\n",
       "      <td>1BC</td>\n",
       "      <td>7 - Sistemas de ecuaciones</td>\n",
       "      <td>p021e23</td>\n",
       "      <td>1</td>\n",
       "      <td>2</td>\n",
       "      <td>1</td>\n",
       "      <td>True</td>\n",
       "    </tr>\n",
       "    <tr>\n",
       "      <th>27</th>\n",
       "      <td>\\left\\{\\begin{matrix}4x - 2y = 2\\\\  6y - 3z = ...</td>\n",
       "      <td>[Eq(4*x - 2*y, 2), Eq(6*y - 3*z, 1), Eq(-4*x +...</td>\n",
       "      <td>\\left[\\begin{matrix}-2 &amp; 0 &amp; 4 &amp; 2\\\\0 &amp; -3 &amp; 1...</td>\n",
       "      <td>Resuelve los sistemas:</td>\n",
       "      <td>1BC</td>\n",
       "      <td>7 - Sistemas de ecuaciones</td>\n",
       "      <td>p021e23</td>\n",
       "      <td>1</td>\n",
       "      <td>2</td>\n",
       "      <td>1</td>\n",
       "      <td>True</td>\n",
       "    </tr>\n",
       "    <tr>\n",
       "      <th>28</th>\n",
       "      <td>\\left\\{\\begin{matrix}x + 2y = 5\\\\  2x + y =  -...</td>\n",
       "      <td>[Eq(x + 2*y, 5), Eq(2*x + y, -1), Eq(-x + 3*y,...</td>\n",
       "      <td>\\left[\\begin{matrix}2 &amp; 1 &amp; 5\\\\0 &amp; \\frac{3}{2}...</td>\n",
       "      <td>Resuelve los sistemas:</td>\n",
       "      <td>1BC</td>\n",
       "      <td>7 - Sistemas de ecuaciones</td>\n",
       "      <td>p021e23</td>\n",
       "      <td>1</td>\n",
       "      <td>2</td>\n",
       "      <td>1</td>\n",
       "      <td>True</td>\n",
       "    </tr>\n",
       "    <tr>\n",
       "      <th>29</th>\n",
       "      <td>\\left\\{\\begin{matrix}x - 3y = 1\\\\ 4y - z = 1\\\\...</td>\n",
       "      <td>[Eq(x - 3*y, 1), Eq(4*y - z, 1), Eq(2*x - z, 1)]</td>\n",
       "      <td>\\left[\\begin{matrix}-3 &amp; 0 &amp; 1 &amp; 1\\\\0 &amp; -1 &amp; \\...</td>\n",
       "      <td>Resuelve los sistemas:</td>\n",
       "      <td>1BC</td>\n",
       "      <td>7 - Sistemas de ecuaciones</td>\n",
       "      <td>p021e23</td>\n",
       "      <td>1</td>\n",
       "      <td>2</td>\n",
       "      <td>1</td>\n",
       "      <td>True</td>\n",
       "    </tr>\n",
       "    <tr>\n",
       "      <th>30</th>\n",
       "      <td>\\left\\{\\begin{matrix}x + 2 =  - y\\\\ - y + 3 = ...</td>\n",
       "      <td>[Eq(-y, x + 2), Eq(2*x, -y + 3), Eq(4*x - y, 6)]</td>\n",
       "      <td>\\left[\\begin{matrix}-1 &amp; -1 &amp; 2\\\\0 &amp; 1 &amp; 5\\\\0 ...</td>\n",
       "      <td>Resuelve los sistemas:</td>\n",
       "      <td>1BC</td>\n",
       "      <td>7 - Sistemas de ecuaciones</td>\n",
       "      <td>p021e23</td>\n",
       "      <td>1</td>\n",
       "      <td>2</td>\n",
       "      <td>1</td>\n",
       "      <td>True</td>\n",
       "    </tr>\n",
       "    <tr>\n",
       "      <th>31</th>\n",
       "      <td>\\left\\{\\begin{matrix}x - 2y + 3z = 2\\\\ 2x - 3y...</td>\n",
       "      <td>[Eq(x - 2*y + 3*z, 2), Eq(2*x - 3*y + z, 1), E...</td>\n",
       "      <td>\\left[\\begin{matrix}-2 &amp; 3 &amp; 1 &amp; 2\\\\0 &amp; - \\fra...</td>\n",
       "      <td>Resuelve los sistemas:</td>\n",
       "      <td>1BC</td>\n",
       "      <td>7 - Sistemas de ecuaciones</td>\n",
       "      <td>p021e23</td>\n",
       "      <td>1</td>\n",
       "      <td>2</td>\n",
       "      <td>1</td>\n",
       "      <td>True</td>\n",
       "    </tr>\n",
       "    <tr>\n",
       "      <th>32</th>\n",
       "      <td>\\left\\{\\begin{matrix} x - 6 + y = 0\\\\  - 3y + ...</td>\n",
       "      <td>[Eq(x + y - 6, 0), Eq(x - 3*y - 2, 0), Eq(5*x ...</td>\n",
       "      <td>\\left[\\begin{matrix}1 &amp; 1 &amp; 6\\\\0 &amp; 4 &amp; 20\\\\0 &amp;...</td>\n",
       "      <td>Resuelve los sistemas:</td>\n",
       "      <td>1BC</td>\n",
       "      <td>7 - Sistemas de ecuaciones</td>\n",
       "      <td>p021e23</td>\n",
       "      <td>1</td>\n",
       "      <td>2</td>\n",
       "      <td>1</td>\n",
       "      <td>True</td>\n",
       "    </tr>\n",
       "    <tr>\n",
       "      <th>33</th>\n",
       "      <td>\\left\\{\\begin{matrix}2x + 2y =  - 2\\\\ x + 6 = ...</td>\n",
       "      <td>[Eq(2*x + 2*y, -2), Eq(y, x + 6), Eq(3*x + 5*y...</td>\n",
       "      <td>\\left[\\begin{matrix}2 &amp; 2 &amp; -2\\\\0 &amp; -2 &amp; 7\\\\0 ...</td>\n",
       "      <td>Resuelve los sistemas:</td>\n",
       "      <td>1BC</td>\n",
       "      <td>7 - Sistemas de ecuaciones</td>\n",
       "      <td>p021e23</td>\n",
       "      <td>1</td>\n",
       "      <td>2</td>\n",
       "      <td>1</td>\n",
       "      <td>True</td>\n",
       "    </tr>\n",
       "    <tr>\n",
       "      <th>34</th>\n",
       "      <td>\\left\\{\\begin{matrix}x + y + z = 4\\\\ x - 2y + ...</td>\n",
       "      <td>[Eq(x + y + z, 4), Eq(x - 2*y + 3*z, 13), Eq(x...</td>\n",
       "      <td>\\left[\\begin{matrix}1 &amp; 1 &amp; 1 &amp; 4\\\\0 &amp; 5 &amp; 3 &amp;...</td>\n",
       "      <td>Resuelve los sistemas:</td>\n",
       "      <td>1BC</td>\n",
       "      <td>7 - Sistemas de ecuaciones</td>\n",
       "      <td>p021e23</td>\n",
       "      <td>1</td>\n",
       "      <td>2</td>\n",
       "      <td>1</td>\n",
       "      <td>True</td>\n",
       "    </tr>\n",
       "    <tr>\n",
       "      <th>35</th>\n",
       "      <td>\\left\\{\\begin{matrix}z - 2( {x + y} ) =  - 9\\\\...</td>\n",
       "      <td>[Eq(-2*x - 2*y + z, -9), Eq(3*x - y, 3), Eq(3*...</td>\n",
       "      <td>\\left[\\begin{matrix}-2 &amp; 1 &amp; -2 &amp; -9\\\\0 &amp; - \\f...</td>\n",
       "      <td>Resuelve los sistemas:</td>\n",
       "      <td>1BC</td>\n",
       "      <td>7 - Sistemas de ecuaciones</td>\n",
       "      <td>p021e23</td>\n",
       "      <td>1</td>\n",
       "      <td>2</td>\n",
       "      <td>1</td>\n",
       "      <td>True</td>\n",
       "    </tr>\n",
       "    <tr>\n",
       "      <th>36</th>\n",
       "      <td>\\left\\{\\begin{matrix}\\frac{x}{2} + \\frac{y}{3}...</td>\n",
       "      <td>[Eq(x/2 + y/3 + z, 7), Eq(x - y/2 + z/3, 11), ...</td>\n",
       "      <td>\\left[\\begin{matrix}\\frac{1}{3} &amp; 1 &amp; \\frac{1}...</td>\n",
       "      <td>Resuelve los sistemas:</td>\n",
       "      <td>1BC</td>\n",
       "      <td>7 - Sistemas de ecuaciones</td>\n",
       "      <td>p021e23</td>\n",
       "      <td>1</td>\n",
       "      <td>2</td>\n",
       "      <td>1</td>\n",
       "      <td>True</td>\n",
       "    </tr>\n",
       "    <tr>\n",
       "      <th>37</th>\n",
       "      <td>\\left\\{\\begin{matrix}\\frac{x}{2} + \\frac{y}{3}...</td>\n",
       "      <td>[Eq(x/2 + y/3 + z/3, 9), Eq(x/3 - y/9 + z/3, 6...</td>\n",
       "      <td>\\left[\\begin{matrix}\\frac{1}{3} &amp; \\frac{1}{3} ...</td>\n",
       "      <td>Resuelve los sistemas:</td>\n",
       "      <td>1BC</td>\n",
       "      <td>7 - Sistemas de ecuaciones</td>\n",
       "      <td>p021e23</td>\n",
       "      <td>1</td>\n",
       "      <td>2</td>\n",
       "      <td>1</td>\n",
       "      <td>True</td>\n",
       "    </tr>\n",
       "    <tr>\n",
       "      <th>38</th>\n",
       "      <td>\\left\\{\\begin{matrix}x - y + z = 5\\\\ \\frac{{x ...</td>\n",
       "      <td>[Eq(x - y + z, 5), Eq(x/2 + y/3 - 1/2, 1), Eq(...</td>\n",
       "      <td>\\left[\\begin{matrix}-1 &amp; 1 &amp; 1 &amp; 5\\\\0 &amp; \\frac{...</td>\n",
       "      <td>Resuelve los sistemas:</td>\n",
       "      <td>1BC</td>\n",
       "      <td>7 - Sistemas de ecuaciones</td>\n",
       "      <td>p021e23</td>\n",
       "      <td>1</td>\n",
       "      <td>2</td>\n",
       "      <td>1</td>\n",
       "      <td>True</td>\n",
       "    </tr>\n",
       "  </tbody>\n",
       "</table>\n",
       "</div>"
      ],
      "text/plain": [
       "                                      enunciado_latex  \\\n",
       "21  \\left\\{\\begin{matrix}x - 2y + 5z = 13\\\\ 2x - 5...   \n",
       "22  \\left\\{\\begin{matrix}x - y + z = 7\\\\ x + y - 3...   \n",
       "23  \\left\\{\\begin{matrix}x - 2y + z = 13\\\\ 3x - 4y...   \n",
       "24  \\left\\{\\begin{matrix}x - y + z = 1\\\\  x + z = ...   \n",
       "25  \\left\\{\\begin{matrix}2x - y + z = 6\\\\ x + y - ...   \n",
       "26  \\left\\{\\begin{matrix}x + 2y - 3z = 9\\\\ 2x - y ...   \n",
       "27  \\left\\{\\begin{matrix}4x - 2y = 2\\\\  6y - 3z = ...   \n",
       "28  \\left\\{\\begin{matrix}x + 2y = 5\\\\  2x + y =  -...   \n",
       "29  \\left\\{\\begin{matrix}x - 3y = 1\\\\ 4y - z = 1\\\\...   \n",
       "30  \\left\\{\\begin{matrix}x + 2 =  - y\\\\ - y + 3 = ...   \n",
       "31  \\left\\{\\begin{matrix}x - 2y + 3z = 2\\\\ 2x - 3y...   \n",
       "32  \\left\\{\\begin{matrix} x - 6 + y = 0\\\\  - 3y + ...   \n",
       "33  \\left\\{\\begin{matrix}2x + 2y =  - 2\\\\ x + 6 = ...   \n",
       "34  \\left\\{\\begin{matrix}x + y + z = 4\\\\ x - 2y + ...   \n",
       "35  \\left\\{\\begin{matrix}z - 2( {x + y} ) =  - 9\\\\...   \n",
       "36  \\left\\{\\begin{matrix}\\frac{x}{2} + \\frac{y}{3}...   \n",
       "37  \\left\\{\\begin{matrix}\\frac{x}{2} + \\frac{y}{3}...   \n",
       "38  \\left\\{\\begin{matrix}x - y + z = 5\\\\ \\frac{{x ...   \n",
       "\n",
       "                                            enunciado  \\\n",
       "21  [Eq(x - 2*y + 5*z, 13), Eq(2*x - 5*y + z, 19),...   \n",
       "22  [Eq(x - y + z, 7), Eq(x + y - 3*z, 1), Eq(2*x ...   \n",
       "23  [Eq(x - 2*y + z, 13), Eq(3*x - 4*y + 2*z, 1), ...   \n",
       "24  [Eq(x - y + z, 1), Eq(x + z, 4), Eq(y - 3*z, -...   \n",
       "25  [Eq(2*x - y + z, 6), Eq(x + y - 2*z, 1), Eq(x ...   \n",
       "26  [Eq(x + 2*y - 3*z, 9), Eq(2*x - y, 6), Eq(4*x ...   \n",
       "27  [Eq(4*x - 2*y, 2), Eq(6*y - 3*z, 1), Eq(-4*x +...   \n",
       "28  [Eq(x + 2*y, 5), Eq(2*x + y, -1), Eq(-x + 3*y,...   \n",
       "29   [Eq(x - 3*y, 1), Eq(4*y - z, 1), Eq(2*x - z, 1)]   \n",
       "30   [Eq(-y, x + 2), Eq(2*x, -y + 3), Eq(4*x - y, 6)]   \n",
       "31  [Eq(x - 2*y + 3*z, 2), Eq(2*x - 3*y + z, 1), E...   \n",
       "32  [Eq(x + y - 6, 0), Eq(x - 3*y - 2, 0), Eq(5*x ...   \n",
       "33  [Eq(2*x + 2*y, -2), Eq(y, x + 6), Eq(3*x + 5*y...   \n",
       "34  [Eq(x + y + z, 4), Eq(x - 2*y + 3*z, 13), Eq(x...   \n",
       "35  [Eq(-2*x - 2*y + z, -9), Eq(3*x - y, 3), Eq(3*...   \n",
       "36  [Eq(x/2 + y/3 + z, 7), Eq(x - y/2 + z/3, 11), ...   \n",
       "37  [Eq(x/2 + y/3 + z/3, 9), Eq(x/3 - y/9 + z/3, 6...   \n",
       "38  [Eq(x - y + z, 5), Eq(x/2 + y/3 - 1/2, 1), Eq(...   \n",
       "\n",
       "                                             solucion                   texto  \\\n",
       "21  \\left[\\begin{matrix}-2 & 5 & 1 & 13\\\\0 & - \\fr...  Resuelve los sistemas:   \n",
       "22  \\left[\\begin{matrix}-1 & 1 & 1 & 7\\\\0 & -2 & 2...  Resuelve los sistemas:   \n",
       "23  \\left[\\begin{matrix}-2 & 1 & 1 & 13\\\\0 & 0 & 1...  Resuelve los sistemas:   \n",
       "24  \\left[\\begin{matrix}-1 & 1 & 1 & 1\\\\0 & 1 & 1 ...  Resuelve los sistemas:   \n",
       "25  \\left[\\begin{matrix}-1 & 1 & 2 & 6\\\\0 & -1 & 3...  Resuelve los sistemas:   \n",
       "26  \\left[\\begin{matrix}2 & -3 & 1 & 9\\\\0 & - \\fra...  Resuelve los sistemas:   \n",
       "27  \\left[\\begin{matrix}-2 & 0 & 4 & 2\\\\0 & -3 & 1...  Resuelve los sistemas:   \n",
       "28  \\left[\\begin{matrix}2 & 1 & 5\\\\0 & \\frac{3}{2}...  Resuelve los sistemas:   \n",
       "29  \\left[\\begin{matrix}-3 & 0 & 1 & 1\\\\0 & -1 & \\...  Resuelve los sistemas:   \n",
       "30  \\left[\\begin{matrix}-1 & -1 & 2\\\\0 & 1 & 5\\\\0 ...  Resuelve los sistemas:   \n",
       "31  \\left[\\begin{matrix}-2 & 3 & 1 & 2\\\\0 & - \\fra...  Resuelve los sistemas:   \n",
       "32  \\left[\\begin{matrix}1 & 1 & 6\\\\0 & 4 & 20\\\\0 &...  Resuelve los sistemas:   \n",
       "33  \\left[\\begin{matrix}2 & 2 & -2\\\\0 & -2 & 7\\\\0 ...  Resuelve los sistemas:   \n",
       "34  \\left[\\begin{matrix}1 & 1 & 1 & 4\\\\0 & 5 & 3 &...  Resuelve los sistemas:   \n",
       "35  \\left[\\begin{matrix}-2 & 1 & -2 & -9\\\\0 & - \\f...  Resuelve los sistemas:   \n",
       "36  \\left[\\begin{matrix}\\frac{1}{3} & 1 & \\frac{1}...  Resuelve los sistemas:   \n",
       "37  \\left[\\begin{matrix}\\frac{1}{3} & \\frac{1}{3} ...  Resuelve los sistemas:   \n",
       "38  \\left[\\begin{matrix}-1 & 1 & 1 & 5\\\\0 & \\frac{...  Resuelve los sistemas:   \n",
       "\n",
       "   curso                      titulo n_ejercicio  dificultad  n_columnas  \\\n",
       "21   1BC  7 - Sistemas de ecuaciones     p021e23           1           2   \n",
       "22   1BC  7 - Sistemas de ecuaciones     p021e23           1           2   \n",
       "23   1BC  7 - Sistemas de ecuaciones     p021e23           1           2   \n",
       "24   1BC  7 - Sistemas de ecuaciones     p021e23           1           2   \n",
       "25   1BC  7 - Sistemas de ecuaciones     p021e23           1           2   \n",
       "26   1BC  7 - Sistemas de ecuaciones     p021e23           1           2   \n",
       "27   1BC  7 - Sistemas de ecuaciones     p021e23           1           2   \n",
       "28   1BC  7 - Sistemas de ecuaciones     p021e23           1           2   \n",
       "29   1BC  7 - Sistemas de ecuaciones     p021e23           1           2   \n",
       "30   1BC  7 - Sistemas de ecuaciones     p021e23           1           2   \n",
       "31   1BC  7 - Sistemas de ecuaciones     p021e23           1           2   \n",
       "32   1BC  7 - Sistemas de ecuaciones     p021e23           1           2   \n",
       "33   1BC  7 - Sistemas de ecuaciones     p021e23           1           2   \n",
       "34   1BC  7 - Sistemas de ecuaciones     p021e23           1           2   \n",
       "35   1BC  7 - Sistemas de ecuaciones     p021e23           1           2   \n",
       "36   1BC  7 - Sistemas de ecuaciones     p021e23           1           2   \n",
       "37   1BC  7 - Sistemas de ecuaciones     p021e23           1           2   \n",
       "38   1BC  7 - Sistemas de ecuaciones     p021e23           1           2   \n",
       "\n",
       "    puntos  enun_tex  \n",
       "21       1      True  \n",
       "22       1      True  \n",
       "23       1      True  \n",
       "24       1      True  \n",
       "25       1      True  \n",
       "26       1      True  \n",
       "27       1      True  \n",
       "28       1      True  \n",
       "29       1      True  \n",
       "30       1      True  \n",
       "31       1      True  \n",
       "32       1      True  \n",
       "33       1      True  \n",
       "34       1      True  \n",
       "35       1      True  \n",
       "36       1      True  \n",
       "37       1      True  \n",
       "38       1      True  "
      ]
     },
     "metadata": {},
     "output_type": "display_data"
    }
   ],
   "source": [
    "escribir_preambulo(fichero, titulo, 'ejercicios')\n",
    "for s in df_ejercicios.groupby('n_ejercicio').count().index : \n",
    "    display(md(\"**Ejercicio: **\" + s ))\n",
    "    display(df_ejercicios[df_ejercicios.n_ejercicio == s])\n",
    "    escribir_ejercicios(df_ejercicios[df_ejercicios.n_ejercicio == s],fichero)\n",
    "\n",
    "escribir_fin(fichero)"
   ]
  }
 ],
 "metadata": {
  "colab": {
   "include_colab_link": true,
   "name": "7 Sistemas.ipynb",
   "provenance": [],
   "version": "0.3.2"
  },
  "kernelspec": {
   "display_name": "Python 3",
   "language": "python",
   "name": "python3"
  },
  "language_info": {
   "codemirror_mode": {
    "name": "ipython",
    "version": 3
   },
   "file_extension": ".py",
   "mimetype": "text/x-python",
   "name": "python",
   "nbconvert_exporter": "python",
   "pygments_lexer": "ipython3",
   "version": "3.6.5"
  }
 },
 "nbformat": 4,
 "nbformat_minor": 1
}
