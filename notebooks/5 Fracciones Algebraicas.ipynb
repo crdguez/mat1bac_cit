{
 "cells": [
  {
   "cell_type": "markdown",
   "metadata": {},
   "source": [
    "<a href=\"https://colab.research.google.com/github/crdguez/mat1bac_cit/blob/master/notebooks/Ejercicios1_3.ipynb\"><img align=\"left\" src=\"https://colab.research.google.com/assets/colab-badge.svg\" alt=\"Open in Colab\" title=\"Open and Execute in Google Colaboratory\"></a>"
   ]
  },
  {
   "cell_type": "code",
   "execution_count": 1,
   "metadata": {},
   "outputs": [
    {
     "name": "stdout",
     "output_type": "stream",
     "text": [
      "IPython console for SymPy 1.2 (Python 3.6.5-32-bit) (ground types: gmpy)\n",
      "\n",
      "These commands were executed:\n",
      ">>> from __future__ import division\n",
      ">>> from sympy import *\n",
      ">>> x, y, z, t = symbols('x y z t')\n",
      ">>> k, m, n = symbols('k m n', integer=True)\n",
      ">>> f, g, h = symbols('f g h', cls=Function)\n",
      ">>> init_printing()\n",
      "\n",
      "Documentation can be found at http://docs.sympy.org/1.2/\n",
      "\n"
     ]
    }
   ],
   "source": [
    "from sympy import init_session\n",
    "from sympy import div, QQ\n",
    "from sympy.parsing.latex import parse_latex\n",
    "from sympy.parsing.sympy_parser import parse_expr\n",
    "#from sympy.functions.combinatorial.numbers import nC, nP, nT\n",
    "from IPython.display import Markdown as md\n",
    "from IPython.display import display\n",
    "import pandas as pd\n",
    "\n",
    "init_session()\n",
    "\n",
    "a, b, c, d = symbols('a b c d', real = True)\n",
    "from docparts import añadir_ejercicios, doc_ejer, escribir_preambulo, escribir_ejercicios, escribir_fin\n",
    "\n",
    "df_ejercicios = pd.DataFrame()\n",
    "\n",
    "fichero = 'fraccionesalg'\n",
    "titulo = '5 - Fracciones Algebraicas'\n",
    "curso = '1BC'\n",
    "\n"
   ]
  },
  {
   "cell_type": "code",
   "execution_count": 2,
   "metadata": {},
   "outputs": [
    {
     "data": {
      "text/markdown": [
       "Comprueba si son equivalentes las siguientes fracciones algebraicas:"
      ],
      "text/plain": [
       "<IPython.core.display.Markdown object>"
      ]
     },
     "metadata": {},
     "output_type": "display_data"
    },
    {
     "data": {
      "text/markdown": [
       "$\\frac{{{x^2} - 1}}{{x + 3}} , \\frac{{{x^3} + 2{x^2} - x - 2}}{{{x^2} + 5x + 6}} \\rightarrow \\frac{\\left(- x + \\left(x^{3} + 2 x^{2}\\right)\\right) - 2}{\\left(x^{2} + 5 x\\right) + 6} - \\frac{x^{2} - 1}{x + 3}=0$"
      ],
      "text/plain": [
       "<IPython.core.display.Markdown object>"
      ]
     },
     "metadata": {},
     "output_type": "display_data"
    },
    {
     "data": {
      "text/markdown": [
       "$\\frac{{{x^2} - 4}}{{{x^2} - 2x}}  , \\frac{{x + 2}}{x} \\rightarrow - \\frac{x^{2} - 4}{x^{2} - 2 x} + \\frac{x + 2}{x}=0$"
      ],
      "text/plain": [
       "<IPython.core.display.Markdown object>"
      ]
     },
     "metadata": {},
     "output_type": "display_data"
    }
   ],
   "source": [
    "# Página 14 ejercicios 1 y 3\n",
    "\n",
    "\n",
    "texto_ejercicio = r'Comprueba si son equivalentes las siguientes fracciones algebraicas:'\n",
    "\n",
    "n_ejercicio = 'p014e01y3'\n",
    "\n",
    "display(md(\"\"+texto_ejercicio+\"\"))\n",
    "\n",
    "\n",
    "pre_enunciado_latex = [[r'\\frac{{{x^2} - 1}}{{x + 3}}', r'\\frac{{{x^3} + 2{x^2} - x - 2}}{{{x^2} + 5x + 6}}'],\n",
    "                  [r'\\frac{{{x^2} - 4}}{{{x^2} - 2x}} ', r'\\frac{{x + 2}}{x}']\n",
    "                  ]\n",
    "enunciado_latex, enunciado, solucion = [], [], []\n",
    "\n",
    "for i, s  in enumerate(pre_enunciado_latex) :\n",
    "    enunciado_latex.append(s[0] + r\" \\ y  \\ \" + s[1])\n",
    "    enunciado.append(parse_latex(s[1])-parse_latex(s[0]))\n",
    "    solucion.append(cancel(parse_latex(s[1])-parse_latex(s[0])))\n",
    "    display(md(\"$\"+ s[0] + \" , \" + s[1]  +\" \\\\rightarrow \" + latex(enunciado[i]) + \"=\"+ str(solucion[i])+\"$\"))\n",
    "    \n",
    "     \n",
    "\n",
    "df_ejercicios = df_ejercicios.append(añadir_ejercicios(enunciado_latex, enunciado, solucion, texto_ejercicio, curso, titulo, n_ejercicio,'1','2'), ignore_index=True)\n"
   ]
  },
  {
   "cell_type": "code",
   "execution_count": 3,
   "metadata": {},
   "outputs": [
    {
     "data": {
      "text/markdown": [
       "**Obtén la fracción irreducible (simplifica) equivalente a las fracciones algebraicas:**"
      ],
      "text/plain": [
       "<IPython.core.display.Markdown object>"
      ]
     },
     "metadata": {},
     "output_type": "display_data"
    },
    {
     "data": {
      "text/markdown": [
       "$\\frac{{2{x^3} - 5{x^2} - 23x - 10}}{{{x^3} + 3{x^2} - 4x - 12}} \\rightarrow \\frac{2 x^{2} - 9 x - 5}{x^{2} + x - 6}$"
      ],
      "text/plain": [
       "<IPython.core.display.Markdown object>"
      ]
     },
     "metadata": {},
     "output_type": "display_data"
    },
    {
     "data": {
      "text/markdown": [
       "$\\frac{{{x^3} -16x}}{{{x^3} + 3{x^2} - 4x}} \\rightarrow \\frac{x - 4}{x - 1}$"
      ],
      "text/plain": [
       "<IPython.core.display.Markdown object>"
      ]
     },
     "metadata": {},
     "output_type": "display_data"
    },
    {
     "data": {
      "text/markdown": [
       "$\\frac{{{x^2} + 3x - 4}}{{{x^3} - x}} \\rightarrow \\frac{x + 4}{x^{2} + x}$"
      ],
      "text/plain": [
       "<IPython.core.display.Markdown object>"
      ]
     },
     "metadata": {},
     "output_type": "display_data"
    },
    {
     "data": {
      "text/markdown": [
       "$\\frac{{{x^3} - 1}}{{{x^2} - x}} \\rightarrow \\frac{x^{2} + x + 1}{x}$"
      ],
      "text/plain": [
       "<IPython.core.display.Markdown object>"
      ]
     },
     "metadata": {},
     "output_type": "display_data"
    }
   ],
   "source": [
    "# Página 14 ejercicio 4\n",
    "\n",
    "texto_ejercicio = 'Obtén la fracción irreducible (simplifica) equivalente a las fracciones algebraicas:'\n",
    "n_ejercicio = 'p014e04'\n",
    "\n",
    "display(md(\"**\"+texto_ejercicio+\"**\"))\n",
    "\n",
    "enunciado_latex = [r'\\frac{{2{x^3} - 5{x^2} - 23x - 10}}{{{x^3} + 3{x^2} - 4x - 12}}',\n",
    "                   r'\\frac{{{x^3} -16x}}{{{x^3} + 3{x^2} - 4x}}',\n",
    "                   r'\\frac{{{x^2} + 3x - 4}}{{{x^3} - x}}',\n",
    "                   r'\\frac{{{x^3} - 1}}{{{x^2} - x}}'\n",
    "                   \n",
    "                  ]\n",
    "\n",
    "\n",
    "\n",
    "\n",
    "enunciado, solucion = [], []\n",
    "\n",
    "for i, s in enumerate(enunciado_latex) : \n",
    "    enunciado.append(parse_latex(s))\n",
    "    solucion.append(latex(cancel(parse_latex(s), domain = 'QQ<sqrt(2)>'))) \n",
    "    display(md(\"$\"+ s +\" \\\\rightarrow \" + solucion[i] +\"$\"))\n",
    "\n",
    "df_ejercicios = df_ejercicios.append(añadir_ejercicios(enunciado_latex, enunciado, solucion, texto_ejercicio, curso, titulo , n_ejercicio, '1', '2'), ignore_index=True)\n"
   ]
  },
  {
   "cell_type": "code",
   "execution_count": 4,
   "metadata": {},
   "outputs": [
    {
     "data": {
      "text/markdown": [
       "**Simplifica las siguientes fracciones algebraicas:**"
      ],
      "text/plain": [
       "<IPython.core.display.Markdown object>"
      ]
     },
     "metadata": {},
     "output_type": "display_data"
    },
    {
     "data": {
      "text/markdown": [
       "$\\frac{{{x^2} - 9}}{{x + 3}} \\rightarrow x - 3$"
      ],
      "text/plain": [
       "<IPython.core.display.Markdown object>"
      ]
     },
     "metadata": {},
     "output_type": "display_data"
    },
    {
     "data": {
      "text/markdown": [
       "$\\frac{{{x^2} - 1}}{{{x^3} - x}} \\rightarrow \\frac{1}{x}$"
      ],
      "text/plain": [
       "<IPython.core.display.Markdown object>"
      ]
     },
     "metadata": {},
     "output_type": "display_data"
    },
    {
     "data": {
      "text/markdown": [
       "$\\frac{{{x^4} - 4{x^2} + 4}}{{{x^4} - 4}} \\rightarrow \\frac{x^{2} - 2}{x^{2} + 2}$"
      ],
      "text/plain": [
       "<IPython.core.display.Markdown object>"
      ]
     },
     "metadata": {},
     "output_type": "display_data"
    },
    {
     "data": {
      "text/markdown": [
       "$\\frac{{3{x^2} + x}}{{3{x^3} + {x^2} - 12x - 4}} \\rightarrow \\frac{3 x}{3 x^{2} - 12}$"
      ],
      "text/plain": [
       "<IPython.core.display.Markdown object>"
      ]
     },
     "metadata": {},
     "output_type": "display_data"
    },
    {
     "data": {
      "text/markdown": [
       "$\\frac{{2{x^3} + 3{x^2} - 8x + 3}}{{2{x^3} - {x^2} - 2x - 1}} \\rightarrow \\frac{2 x^{3} + 3 x^{2} - 8 x + 3}{2 x^{3} - x^{2} - 2 x - 1}$"
      ],
      "text/plain": [
       "<IPython.core.display.Markdown object>"
      ]
     },
     "metadata": {},
     "output_type": "display_data"
    },
    {
     "data": {
      "text/markdown": [
       "$\\frac{{{x^3} - 5{x^2} + 6x}}{{{x^3} - 4x}} \\rightarrow \\frac{x - 3}{x + 2}$"
      ],
      "text/plain": [
       "<IPython.core.display.Markdown object>"
      ]
     },
     "metadata": {},
     "output_type": "display_data"
    },
    {
     "data": {
      "text/markdown": [
       "$\\frac{{2x - 5}}{{2{x^3} - 5{x^2} - 2x + 5}} \\rightarrow \\frac{2}{2 x^{2} - 2}$"
      ],
      "text/plain": [
       "<IPython.core.display.Markdown object>"
      ]
     },
     "metadata": {},
     "output_type": "display_data"
    },
    {
     "data": {
      "text/markdown": [
       "$\\frac{x - 2}{{x^2} - 4} \\rightarrow \\frac{1}{x + 2}$"
      ],
      "text/plain": [
       "<IPython.core.display.Markdown object>"
      ]
     },
     "metadata": {},
     "output_type": "display_data"
    },
    {
     "data": {
      "text/markdown": [
       "$\\frac{{{x^2} - 2}}{{x - \\sqrt {2 }}} \\rightarrow x + \\sqrt{2}$"
      ],
      "text/plain": [
       "<IPython.core.display.Markdown object>"
      ]
     },
     "metadata": {},
     "output_type": "display_data"
    },
    {
     "data": {
      "text/markdown": [
       "$\\frac{{{x^2} + 2x + 1}}{{{x^2} - 1}} \\rightarrow \\frac{x + 1}{x - 1}$"
      ],
      "text/plain": [
       "<IPython.core.display.Markdown object>"
      ]
     },
     "metadata": {},
     "output_type": "display_data"
    },
    {
     "data": {
      "text/markdown": [
       "$\\frac{{{x^3} - 2{x^2} - 5x + 6}}{{{x^2} + x - 2}} \\rightarrow x - 3$"
      ],
      "text/plain": [
       "<IPython.core.display.Markdown object>"
      ]
     },
     "metadata": {},
     "output_type": "display_data"
    }
   ],
   "source": [
    "# Página 14 ejercicio 5\n",
    "\n",
    "texto_ejercicio = 'Simplifica las siguientes fracciones algebraicas:'\n",
    "n_ejercicio = 'p014e05'\n",
    "\n",
    "display(md(\"**\"+texto_ejercicio+\"**\"))\n",
    "\n",
    "enunciado_latex = [r'\\frac{{{x^2} - 9}}{{x + 3}}',\n",
    "                   r'\\frac{{{x^2} - 1}}{{{x^3} - x}}',\n",
    "                   r'\\frac{{{x^4} - 4{x^2} + 4}}{{{x^4} - 4}}',\n",
    "                   r'\\frac{{3{x^2} + x}}{{3{x^3} + {x^2} - 12x - 4}}',\n",
    "                   r'\\frac{{2{x^3} + 3{x^2} - 8x + 3}}{{2{x^3} - {x^2} - 2x - 1}}',\n",
    "                   r'\\frac{{{x^3} - 5{x^2} + 6x}}{{{x^3} - 4x}}',\n",
    "                   r'\\frac{{2x - 5}}{{2{x^3} - 5{x^2} - 2x + 5}}',\n",
    "                   r'\\frac{x - 2}{{x^2} - 4}',\n",
    "                   r'\\frac{{{x^2} - 2}}{{x - \\sqrt {2 }}}',\n",
    "                   r'\\frac{{{x^2} + 2x + 1}}{{{x^2} - 1}}',\n",
    "                   r'\\frac{{{x^3} - 2{x^2} - 5x + 6}}{{{x^2} + x - 2}}'   \n",
    "                  ]\n",
    "\n",
    "\n",
    "\n",
    "\n",
    "enunciado, solucion = [], []\n",
    "\n",
    "for i, s in enumerate(enunciado_latex) : \n",
    "    enunciado.append(parse_latex(s))\n",
    "    solucion.append(latex(cancel(parse_latex(s), domain = 'QQ<sqrt(2)>'))) \n",
    "    display(md(\"$\"+ s +\" \\\\rightarrow \" + solucion[i] +\"$\"))\n",
    "\n",
    "df_ejercicios = df_ejercicios.append(añadir_ejercicios(enunciado_latex, enunciado, solucion, texto_ejercicio, curso, titulo , n_ejercicio, '1', '2'), ignore_index=True)\n"
   ]
  },
  {
   "cell_type": "code",
   "execution_count": 5,
   "metadata": {},
   "outputs": [
    {
     "data": {
      "text/markdown": [
       "**Calcula, simplificando el resultado:**"
      ],
      "text/plain": [
       "<IPython.core.display.Markdown object>"
      ]
     },
     "metadata": {},
     "output_type": "display_data"
    },
    {
     "data": {
      "text/markdown": [
       "$\\frac{2}{{x + 7}} + \\frac{{x + 4}}{{x - 7}} \\rightarrow \\frac{x^{2} + 13 x + 14}{x^{2} - 49}$"
      ],
      "text/plain": [
       "<IPython.core.display.Markdown object>"
      ]
     },
     "metadata": {},
     "output_type": "display_data"
    },
    {
     "data": {
      "text/markdown": [
       "$\\frac{1}{{x + 5}} + \\frac{x}{{{x^2} + 10x + 25}} \\rightarrow \\frac{2 x + 5}{x^{2} + 10 x + 25}$"
      ],
      "text/plain": [
       "<IPython.core.display.Markdown object>"
      ]
     },
     "metadata": {},
     "output_type": "display_data"
    },
    {
     "data": {
      "text/markdown": [
       "$\\frac{1}{{x + 5}} - \\frac{x}{{{x^2} + 10x + 25}} \\rightarrow \\frac{5}{x^{2} + 10 x + 25}$"
      ],
      "text/plain": [
       "<IPython.core.display.Markdown object>"
      ]
     },
     "metadata": {},
     "output_type": "display_data"
    },
    {
     "data": {
      "text/markdown": [
       "$\\frac{{12}}{{x - 3}} + \\frac{{x + 4}}{{2x + 1}} - \\frac{x}{{{x^2} - 6x + 9}} \\rightarrow \\frac{x^{3} + 20 x^{2} - 76 x}{2 x^{3} - 11 x^{2} + 12 x + 9}$"
      ],
      "text/plain": [
       "<IPython.core.display.Markdown object>"
      ]
     },
     "metadata": {},
     "output_type": "display_data"
    },
    {
     "data": {
      "text/markdown": [
       "$\\frac{1}{{x - 1}} \\cdot \\frac{{{x^2} - 1}}{{x + 2}} \\cdot \\frac{{x + 2}}{{x - 3}} \\rightarrow \\frac{x + 1}{x - 3}$"
      ],
      "text/plain": [
       "<IPython.core.display.Markdown object>"
      ]
     },
     "metadata": {},
     "output_type": "display_data"
    },
    {
     "data": {
      "text/markdown": [
       "$\\frac{{2x + 1}}{x} \\cdot \\frac{{{x^2} - 3x}}{{4{x^2} - 1}} \\rightarrow \\frac{2 x - 6}{4 x - 2}$"
      ],
      "text/plain": [
       "<IPython.core.display.Markdown object>"
      ]
     },
     "metadata": {},
     "output_type": "display_data"
    },
    {
     "data": {
      "text/markdown": [
       "$\\frac{{3x - 1}}{x} \\cdot \\frac{{{x^2}}}{{9{x^2} - 1}} \\rightarrow \\frac{3 x}{9 x + 3}$"
      ],
      "text/plain": [
       "<IPython.core.display.Markdown object>"
      ]
     },
     "metadata": {},
     "output_type": "display_data"
    },
    {
     "data": {
      "text/markdown": [
       "${7x}:\\frac{{{x^2} - 4x}}{{x - 2}} \\rightarrow \\frac{7 x - 14}{x - 4}$"
      ],
      "text/plain": [
       "<IPython.core.display.Markdown object>"
      ]
     },
     "metadata": {},
     "output_type": "display_data"
    },
    {
     "data": {
      "text/markdown": [
       "$\\frac{{x - 3}}{{x - 1}}:\\frac{{{x^2} - 3x}}{{{x^2} - 1}} \\rightarrow \\frac{x + 1}{x}$"
      ],
      "text/plain": [
       "<IPython.core.display.Markdown object>"
      ]
     },
     "metadata": {},
     "output_type": "display_data"
    },
    {
     "data": {
      "text/markdown": [
       "$\\frac{{{x^2} - 3x - 4}}{x}:\\frac{{x + 1}}{{{x^2} + 2x}} \\rightarrow x^{2} - 2 x - 8$"
      ],
      "text/plain": [
       "<IPython.core.display.Markdown object>"
      ]
     },
     "metadata": {},
     "output_type": "display_data"
    }
   ],
   "source": [
    "# Página 14 ejercicio 7\n",
    "\n",
    "texto_ejercicio = 'Calcula, simplificando el resultado:'\n",
    "n_ejercicio = 'p014e05'\n",
    "\n",
    "display(md(\"**\"+texto_ejercicio+\"**\"))\n",
    "\n",
    "enunciado_latex = [r'\\frac{2}{{x + 7}} + \\frac{{x + 4}}{{x - 7}}',\n",
    "                   r'\\frac{1}{{x + 5}} + \\frac{x}{{{x^2} + 10x + 25}}',\n",
    "                   r'\\frac{1}{{x + 5}} - \\frac{x}{{{x^2} + 10x + 25}}',\n",
    "                   r'\\frac{{12}}{{x - 3}} + \\frac{{x + 4}}{{2x + 1}} - \\frac{x}{{{x^2} - 6x + 9}}',\n",
    "                   r'\\frac{1}{{x - 1}} \\cdot \\frac{{{x^2} - 1}}{{x + 2}} \\cdot \\frac{{x + 2}}{{x - 3}}',\n",
    "                   r'\\frac{{2x + 1}}{x} \\cdot \\frac{{{x^2} - 3x}}{{4{x^2} - 1}}',\n",
    "                   r'\\frac{{3x - 1}}{x} \\cdot \\frac{{{x^2}}}{{9{x^2} - 1}}',\n",
    "                   r'{7x}:\\frac{{{x^2} - 4x}}{{x - 2}}',\n",
    "                   r'\\frac{{x - 3}}{{x - 1}}:\\frac{{{x^2} - 3x}}{{{x^2} - 1}}',\n",
    "                   r'\\frac{{{x^2} - 3x - 4}}{x}:\\frac{{x + 1}}{{{x^2} + 2x}}' \n",
    "                  ]\n",
    "\n",
    "\n",
    "\n",
    "\n",
    "enunciado, solucion = [], []\n",
    "\n",
    "for i, s in enumerate(enunciado_latex) : \n",
    "    enunciado.append(parse_latex(s))\n",
    "    solucion.append(latex(cancel(parse_latex(s), domain = 'QQ<sqrt(2)>'))) \n",
    "    display(md(\"$\"+ s +\" \\\\rightarrow \" + solucion[i] +\"$\"))\n",
    "\n",
    "df_ejercicios = df_ejercicios.append(añadir_ejercicios(enunciado_latex, enunciado, solucion, texto_ejercicio, curso, titulo , n_ejercicio, '1', '2'), ignore_index=True)\n"
   ]
  },
  {
   "cell_type": "code",
   "execution_count": 12,
   "metadata": {},
   "outputs": [
    {
     "data": {
      "text/markdown": [
       "**Halla, para cada uno  de los siguientes polinomios, sus raíces:**"
      ],
      "text/plain": [
       "<IPython.core.display.Markdown object>"
      ]
     },
     "metadata": {},
     "output_type": "display_data"
    },
    {
     "data": {
      "text/markdown": [
       "$x^2 - 1 \\rightarrow\\left\\{-1, 1\\right\\}$"
      ],
      "text/plain": [
       "<IPython.core.display.Markdown object>"
      ]
     },
     "metadata": {},
     "output_type": "display_data"
    },
    {
     "data": {
      "text/markdown": [
       "$x^2 - 7 \\rightarrow\\left\\{- \\sqrt{7}, \\sqrt{7}\\right\\}$"
      ],
      "text/plain": [
       "<IPython.core.display.Markdown object>"
      ]
     },
     "metadata": {},
     "output_type": "display_data"
    },
    {
     "data": {
      "text/markdown": [
       "$3x^2 -12 \\rightarrow\\left\\{-2, 2\\right\\}$"
      ],
      "text/plain": [
       "<IPython.core.display.Markdown object>"
      ]
     },
     "metadata": {},
     "output_type": "display_data"
    },
    {
     "data": {
      "text/markdown": [
       "$5x^2 -25 \\rightarrow\\left\\{- \\sqrt{5}, \\sqrt{5}\\right\\}$"
      ],
      "text/plain": [
       "<IPython.core.display.Markdown object>"
      ]
     },
     "metadata": {},
     "output_type": "display_data"
    }
   ],
   "source": [
    "# Página 12 ejercicios 9\n",
    "\n",
    "texto_ejercicio = 'Halla, para cada uno  de los siguientes polinomios, sus raíces:'\n",
    "n_ejercicio = 'p012e09'\n",
    "\n",
    "display(md(\"**\"+texto_ejercicio+\"**\"))\n",
    "\n",
    "enunciado_latex = [r'x^2 - 1',\n",
    "                   r'x^2 - 7',\n",
    "                   r'3x^2 -12',\n",
    "                   r'5x^2 -25'\n",
    "                  ]\n",
    "enunciado, solucion = [], []\n",
    "x = Symbol('x')\n",
    "\n",
    "for i, s in enumerate(enunciado_latex) :\n",
    "    enunciado.append(parse_latex(s))\n",
    "    solucion.append(latex(solveset(parse_latex(s), domain=S.Reals)))\n",
    "    display(md(\"$\"+ s +\" \\\\rightarrow\" + solucion[i] +\"$\"))\n",
    "\n",
    "df_ejercicios = df_ejercicios.append(añadir_ejercicios(enunciado_latex, enunciado, solucion, texto_ejercicio, curso, titulo, n_ejercicio), ignore_index=True)\n"
   ]
  },
  {
   "cell_type": "code",
   "execution_count": 13,
   "metadata": {},
   "outputs": [
    {
     "data": {
      "text/markdown": [
       "**¿Tiene el polinomio A(x)= $x^4 +3$ alguna raíz real?**"
      ],
      "text/plain": [
       "<IPython.core.display.Markdown object>"
      ]
     },
     "metadata": {},
     "output_type": "display_data"
    },
    {
     "data": {
      "text/markdown": [
       "$x^4 +3 \\rightarrow\\left\\{- \\frac{\\sqrt{2} \\sqrt[4]{3}}{2} - \\frac{\\sqrt{2} \\sqrt[4]{3} i}{2}, - \\frac{\\sqrt{2} \\sqrt[4]{3}}{2} + \\frac{\\sqrt{2} \\sqrt[4]{3} i}{2}, \\frac{\\sqrt{2} \\sqrt[4]{3}}{2} - \\frac{\\sqrt{2} \\sqrt[4]{3} i}{2}, \\frac{\\sqrt{2} \\sqrt[4]{3}}{2} + \\frac{\\sqrt{2} \\sqrt[4]{3} i}{2}\\right\\}$"
      ],
      "text/plain": [
       "<IPython.core.display.Markdown object>"
      ]
     },
     "metadata": {},
     "output_type": "display_data"
    }
   ],
   "source": [
    "# Página 12 ejercicios 10\n",
    "\n",
    "A = r'x^4 +3'\n",
    "\n",
    "texto_ejercicio = '¿Tiene el polinomio A(x)= $'+ A +'$ alguna raíz real?'\n",
    "n_ejercicio = 'p012e10'\n",
    "\n",
    "\n",
    "display(md(\"**\"+texto_ejercicio+\"**\"))\n",
    "\n",
    "enunciado_latex = [A]\n",
    "enunciado, solucion = [], []\n",
    "x = Symbol('x')\n",
    "\n",
    "for i, s in enumerate(enunciado_latex) :\n",
    "    enunciado.append(parse_latex(s))\n",
    "    solucion.append(latex(solveset(parse_latex(s))))\n",
    "    display(md(\"$\"+ s +\" \\\\rightarrow\" + solucion[i] +\"$\"))\n",
    "\n",
    "df_ejercicios = df_ejercicios.append(añadir_ejercicios(enunciado_latex, enunciado, solucion, texto_ejercicio, curso, titulo, n_ejercicio, '1', '1'), ignore_index=True)\n"
   ]
  },
  {
   "cell_type": "code",
   "execution_count": 14,
   "metadata": {},
   "outputs": [
    {
     "data": {
      "text/markdown": [
       "**Aplica la regla de Ruffini para hallar el cociente y el resto de las siguientes divisiones:**"
      ],
      "text/plain": [
       "<IPython.core.display.Markdown object>"
      ]
     },
     "metadata": {},
     "output_type": "display_data"
    },
    {
     "data": {
      "text/markdown": [
       "$( {{x^2} - 3x + 6} ): ( {x+2} ) \\rightarrow \\left ( x - 5, \\quad 16\\right )$"
      ],
      "text/plain": [
       "<IPython.core.display.Markdown object>"
      ]
     },
     "metadata": {},
     "output_type": "display_data"
    },
    {
     "data": {
      "text/markdown": [
       "$( {2{x^6} - 7{x^4} + 6x - 9} ): ( {x+3} ) \\rightarrow \\left ( 2 x^{5} - 6 x^{4} + 11 x^{3} - 33 x^{2} + 99 x - 291, \\quad 864\\right )$"
      ],
      "text/plain": [
       "<IPython.core.display.Markdown object>"
      ]
     },
     "metadata": {},
     "output_type": "display_data"
    },
    {
     "data": {
      "text/markdown": [
       "$( {7{x^3} - 4x - 3} ): ( {{x} - 1}) \\rightarrow \\left ( 7 x^{2} + 7 x + 3, \\quad 0\\right )$"
      ],
      "text/plain": [
       "<IPython.core.display.Markdown object>"
      ]
     },
     "metadata": {},
     "output_type": "display_data"
    },
    {
     "data": {
      "text/markdown": [
       "$( {x^2 - 1 } ): ( {x} + 1) \\rightarrow \\left ( x - 1, \\quad 0\\right )$"
      ],
      "text/plain": [
       "<IPython.core.display.Markdown object>"
      ]
     },
     "metadata": {},
     "output_type": "display_data"
    }
   ],
   "source": [
    "# Página 13 ejercicio 11\n",
    "\n",
    "texto_ejercicio = 'Aplica la regla de Ruffini para hallar el cociente y el resto de las siguientes divisiones:'\n",
    "n_ejercicio = 'p013e11'\n",
    "\n",
    "display(md(\"**\"+texto_ejercicio+\"**\"))\n",
    "\n",
    "pre_enunciado_latex = [[r'( {{x^2} - 3x + 6} )', r'( {x+2} )'],\n",
    "                       [r'( {2{x^6} - 7{x^4} + 6x - 9} )', r'( {x+3} )'],\n",
    "                       [r'( {7{x^3} - 4x - 3} )', r'( {{x} - 1})'],\n",
    "                       [r'( {x^2 - 1 } )', r'( {x} + 1)']\n",
    "                      ]\n",
    "enunciado_latex, enunciado, solucion = [], [], []\n",
    "for i, s in enumerate(pre_enunciado_latex) :\n",
    "    enunciado_latex.append(s[0]+\":\"+s[1])\n",
    "    enunciado.append(parse_latex(s[0])/parse_latex(s[1]))\n",
    "    solucion.append(latex(div(simplify(expand(parse_latex(s[0]))),simplify(expand(parse_latex(s[1])))))) \n",
    "    display(md(\"$\"+ s[0] + \": \" + s[1]+ \" \\\\rightarrow \" +solucion[i] +\"$\"))\n",
    "    \n",
    "df_ejercicios = df_ejercicios.append(añadir_ejercicios(enunciado_latex, enunciado, solucion, texto_ejercicio, curso, titulo, n_ejercicio, '1', '1'), ignore_index=True)\n",
    "  "
   ]
  },
  {
   "cell_type": "code",
   "execution_count": 15,
   "metadata": {},
   "outputs": [
    {
     "data": {
      "text/markdown": [
       "**Aplica el teorema del resto para calcular el resto de las siguientes divisiones:**"
      ],
      "text/plain": [
       "<IPython.core.display.Markdown object>"
      ]
     },
     "metadata": {},
     "output_type": "display_data"
    },
    {
     "data": {
      "text/markdown": [
       "$( {7{x^3} - 4x + 9} ): ( {x+1} ) \\rightarrow 6$"
      ],
      "text/plain": [
       "<IPython.core.display.Markdown object>"
      ]
     },
     "metadata": {},
     "output_type": "display_data"
    },
    {
     "data": {
      "text/markdown": [
       "$( {7{x^3} - 4x - 3} ): ( {x-1} ) \\rightarrow 0$"
      ],
      "text/plain": [
       "<IPython.core.display.Markdown object>"
      ]
     },
     "metadata": {},
     "output_type": "display_data"
    },
    {
     "data": {
      "text/markdown": [
       "$( {x^2 - 1} ): ( {x + 1}) \\rightarrow 0$"
      ],
      "text/plain": [
       "<IPython.core.display.Markdown object>"
      ]
     },
     "metadata": {},
     "output_type": "display_data"
    }
   ],
   "source": [
    "# Página 13 ejercicio 12\n",
    "\n",
    "texto_ejercicio = 'Aplica el teorema del resto para calcular el resto de las siguientes divisiones:'\n",
    "n_ejercicio = 'p013e12'\n",
    "\n",
    "display(md(\"**\"+texto_ejercicio+\"**\"))\n",
    "\n",
    "pre_enunciado_latex = [[r'( {7{x^3} - 4x + 9} )', r'( {x+1} )'],\n",
    "                       [r'( {7{x^3} - 4x - 3} )', r'( {x-1} )'],\n",
    "                       [r'( {x^2 - 1} )', r'( {x + 1})']\n",
    "                 ]\n",
    "enunciado_latex, enunciado, solucion = [], [], []\n",
    "for i, s in enumerate(pre_enunciado_latex) :\n",
    "    enunciado_latex.append(s[0]+\":\"+s[1])\n",
    "    enunciado.append(parse_latex(s[0])/parse_latex(s[1]))\n",
    "    solucion.append(latex(div(simplify(expand(parse_latex(s[0]))),simplify(expand(parse_latex(s[1]))))[1])) \n",
    "    display(md(\"$\"+ s[0] + \": \" + s[1]+ \" \\\\rightarrow \" +solucion[i] +\"$\"))\n",
    "    \n",
    "df_ejercicios = df_ejercicios.append(añadir_ejercicios(enunciado_latex, enunciado, solucion, texto_ejercicio, curso, titulo, n_ejercicio), ignore_index=True)\n",
    "  "
   ]
  },
  {
   "cell_type": "code",
   "execution_count": 16,
   "metadata": {},
   "outputs": [
    {
     "data": {
      "text/markdown": [
       "**Descomponer en factores**"
      ],
      "text/plain": [
       "<IPython.core.display.Markdown object>"
      ]
     },
     "metadata": {},
     "output_type": "display_data"
    },
    {
     "data": {
      "text/markdown": [
       "$x^2-81 \\rightarrow \\left(x - 9\\right) \\left(x + 9\\right)$"
      ],
      "text/plain": [
       "<IPython.core.display.Markdown object>"
      ]
     },
     "metadata": {},
     "output_type": "display_data"
    },
    {
     "data": {
      "text/markdown": [
       "$x^2-2 \\rightarrow \\left(x - \\sqrt{2}\\right) \\left(x + \\sqrt{2}\\right)$"
      ],
      "text/plain": [
       "<IPython.core.display.Markdown object>"
      ]
     },
     "metadata": {},
     "output_type": "display_data"
    },
    {
     "data": {
      "text/markdown": [
       "$4x^2-9 \\rightarrow 4 \\left(x - \\frac{3}{2}\\right) \\left(x + \\frac{3}{2}\\right)$"
      ],
      "text/plain": [
       "<IPython.core.display.Markdown object>"
      ]
     },
     "metadata": {},
     "output_type": "display_data"
    },
    {
     "data": {
      "text/markdown": [
       "$x^3-x \\rightarrow x \\left(x - 1\\right) \\left(x + 1\\right)$"
      ],
      "text/plain": [
       "<IPython.core.display.Markdown object>"
      ]
     },
     "metadata": {},
     "output_type": "display_data"
    },
    {
     "data": {
      "text/markdown": [
       "$x^2-3x \\rightarrow x \\left(x - 3\\right)$"
      ],
      "text/plain": [
       "<IPython.core.display.Markdown object>"
      ]
     },
     "metadata": {},
     "output_type": "display_data"
    },
    {
     "data": {
      "text/markdown": [
       "$x^2-2x+1 \\rightarrow \\left(x - 1\\right)^{2}$"
      ],
      "text/plain": [
       "<IPython.core.display.Markdown object>"
      ]
     },
     "metadata": {},
     "output_type": "display_data"
    },
    {
     "data": {
      "text/markdown": [
       "$x^5-3x^4+2x^3 \\rightarrow x^{3} \\left(x - 2\\right) \\left(x - 1\\right)$"
      ],
      "text/plain": [
       "<IPython.core.display.Markdown object>"
      ]
     },
     "metadata": {},
     "output_type": "display_data"
    },
    {
     "data": {
      "text/markdown": [
       "$x^2-x-30 \\rightarrow \\left(x - 6\\right) \\left(x + 5\\right)$"
      ],
      "text/plain": [
       "<IPython.core.display.Markdown object>"
      ]
     },
     "metadata": {},
     "output_type": "display_data"
    },
    {
     "data": {
      "text/markdown": [
       "$x^2+2x+1 \\rightarrow \\left(x + 1\\right)^{2}$"
      ],
      "text/plain": [
       "<IPython.core.display.Markdown object>"
      ]
     },
     "metadata": {},
     "output_type": "display_data"
    },
    {
     "data": {
      "text/markdown": [
       "$x^3-x^2-x+1 \\rightarrow \\left(x - 1\\right)^{2} \\left(x + 1\\right)$"
      ],
      "text/plain": [
       "<IPython.core.display.Markdown object>"
      ]
     },
     "metadata": {},
     "output_type": "display_data"
    },
    {
     "data": {
      "text/markdown": [
       "$x^3-2x^2-5x+6 \\rightarrow \\left(x - 3\\right) \\left(x - 1\\right) \\left(x + 2\\right)$"
      ],
      "text/plain": [
       "<IPython.core.display.Markdown object>"
      ]
     },
     "metadata": {},
     "output_type": "display_data"
    },
    {
     "data": {
      "text/markdown": [
       "$x^5+4x^4+x^3-10x^2-4x+8 \\rightarrow \\left(x - 1\\right)^{2} \\left(x + 2\\right)^{3}$"
      ],
      "text/plain": [
       "<IPython.core.display.Markdown object>"
      ]
     },
     "metadata": {},
     "output_type": "display_data"
    },
    {
     "data": {
      "text/markdown": [
       "$x^3+3x^2-2x-6 \\rightarrow \\left(x + 3\\right) \\left(x - \\sqrt{2}\\right) \\left(x + \\sqrt{2}\\right)$"
      ],
      "text/plain": [
       "<IPython.core.display.Markdown object>"
      ]
     },
     "metadata": {},
     "output_type": "display_data"
    },
    {
     "data": {
      "text/markdown": [
       "$x^3-3x^2-13x+15 \\rightarrow \\left(x - 5\\right) \\left(x - 1\\right) \\left(x + 3\\right)$"
      ],
      "text/plain": [
       "<IPython.core.display.Markdown object>"
      ]
     },
     "metadata": {},
     "output_type": "display_data"
    },
    {
     "data": {
      "text/markdown": [
       "$x^3+x^2-6x \\rightarrow x \\left(x - 2\\right) \\left(x + 3\\right)$"
      ],
      "text/plain": [
       "<IPython.core.display.Markdown object>"
      ]
     },
     "metadata": {},
     "output_type": "display_data"
    },
    {
     "data": {
      "text/markdown": [
       "$3x^3+x^2-12x-4 \\rightarrow 3 \\left(x - 2\\right) \\left(x + \\frac{1}{3}\\right) \\left(x + 2\\right)$"
      ],
      "text/plain": [
       "<IPython.core.display.Markdown object>"
      ]
     },
     "metadata": {},
     "output_type": "display_data"
    },
    {
     "data": {
      "text/markdown": [
       "$x^4+2x^3-x^2-2x \\rightarrow x \\left(x - 1\\right) \\left(x + 1\\right) \\left(x + 2\\right)$"
      ],
      "text/plain": [
       "<IPython.core.display.Markdown object>"
      ]
     },
     "metadata": {},
     "output_type": "display_data"
    },
    {
     "data": {
      "text/markdown": [
       "$x^4-2x^3+2x^2-2x+1 \\rightarrow \\left(x - 1\\right)^{2} \\left(x^{2} + 1\\right)$"
      ],
      "text/plain": [
       "<IPython.core.display.Markdown object>"
      ]
     },
     "metadata": {},
     "output_type": "display_data"
    },
    {
     "data": {
      "text/markdown": [
       "$x^4+2x^3-3x^2-4x+4 \\rightarrow \\left(x - 1\\right)^{2} \\left(x + 2\\right)^{2}$"
      ],
      "text/plain": [
       "<IPython.core.display.Markdown object>"
      ]
     },
     "metadata": {},
     "output_type": "display_data"
    },
    {
     "data": {
      "text/markdown": [
       "$x^3+4x^2+x-6 \\rightarrow \\left(x - 1\\right) \\left(x + 2\\right) \\left(x + 3\\right)$"
      ],
      "text/plain": [
       "<IPython.core.display.Markdown object>"
      ]
     },
     "metadata": {},
     "output_type": "display_data"
    },
    {
     "data": {
      "text/markdown": [
       "$x^5- 4x^3-x^2+4 \\rightarrow \\left(x - 2\\right) \\left(x - 1\\right) \\left(x + 2\\right) \\left(x^{2} + x + 1\\right)$"
      ],
      "text/plain": [
       "<IPython.core.display.Markdown object>"
      ]
     },
     "metadata": {},
     "output_type": "display_data"
    }
   ],
   "source": [
    "# Página 13 ejercicio 17 y 18\n",
    "\n",
    "texto_ejercicio = 'Descomponer en factores'\n",
    "n_ejercicio = 'p013e17-18'\n",
    "\n",
    "display(md(\"**\"+texto_ejercicio+\"**\"))\n",
    "\n",
    "enunciado_latex = [r'x^2-81',\n",
    "                   r'x^2-2',\n",
    "                   r'4x^2-9',\n",
    "                   r'x^3-x',\n",
    "                   r'x^2-3x',\n",
    "                   r'x^2-2x+1',\n",
    "                   r'x^5-3x^4+2x^3',\n",
    "                   r'x^2-x-30',\n",
    "                   r'x^2+2x+1',\n",
    "                   r'x^3-x^2-x+1',\n",
    "                   r'x^3-2x^2-5x+6',\n",
    "                   r'x^5+4x^4+x^3-10x^2-4x+8',\n",
    "                   r'x^3+3x^2-2x-6',\n",
    "                   r'x^3-3x^2-13x+15',\n",
    "                   r'x^3+x^2-6x',\n",
    "                   r'3x^3+x^2-12x-4',\n",
    "                   r'x^4+2x^3-x^2-2x',\n",
    "                   r'x^4-2x^3+2x^2-2x+1',\n",
    "                   r'x^4+2x^3-3x^2-4x+4',\n",
    "                   r'x^3+4x^2+x-6',\n",
    "                   r'x^5- 4x^3-x^2+4'                        \n",
    "                  ]\n",
    "\n",
    "\n",
    "\n",
    "\n",
    "enunciado, solucion = [], []\n",
    "\n",
    "for i, s in enumerate(enunciado_latex) : \n",
    "    enunciado.append(parse_latex(s))\n",
    "    solucion.append(latex(factor(parse_latex(s), domain = 'QQ<sqrt(2)>'))) \n",
    "    display(md(\"$\"+ s +\" \\\\rightarrow \" + solucion[i] +\"$\"))\n",
    "\n",
    "df_ejercicios = df_ejercicios.append(añadir_ejercicios(enunciado_latex, enunciado, solucion, texto_ejercicio, curso, titulo , n_ejercicio, '1', '2'), ignore_index=True)\n"
   ]
  },
  {
   "cell_type": "code",
   "execution_count": 17,
   "metadata": {},
   "outputs": [
    {
     "data": {
      "text/markdown": [
       "**Halla el m.c.d. y el m.c.m. de los polinomios: **"
      ],
      "text/plain": [
       "<IPython.core.display.Markdown object>"
      ]
     },
     "metadata": {},
     "output_type": "display_data"
    },
    {
     "data": {
      "text/markdown": [
       "$ A(x)= x^4-4\\  y \\ \\  B(x)= x^3+2x  \\rightarrow x^{2} + 2\\ y \\ x^{5} - 4 x$"
      ],
      "text/plain": [
       "<IPython.core.display.Markdown object>"
      ]
     },
     "metadata": {},
     "output_type": "display_data"
    },
    {
     "data": {
      "text/markdown": [
       "$ A(x)= x^3-9x\\  y \\ \\  B(x)= (x-1)(x+3)^2  \\rightarrow x + 3\\ y \\ x^{5} + 2 x^{4} - 12 x^{3} - 18 x^{2} + 27 x$"
      ],
      "text/plain": [
       "<IPython.core.display.Markdown object>"
      ]
     },
     "metadata": {},
     "output_type": "display_data"
    },
    {
     "data": {
      "text/markdown": [
       "$ A(x)= x^3+x^2-2x\\  y \\ \\  B(x)= x^3+2x^2  \\rightarrow 1\\ y \\ x^{6} + 3 x^{5} - 4 x^{3}$"
      ],
      "text/plain": [
       "<IPython.core.display.Markdown object>"
      ]
     },
     "metadata": {},
     "output_type": "display_data"
    }
   ],
   "source": [
    "# Página 13 ejercicio 19\n",
    "\n",
    "texto_ejercicio = r'Halla el m.c.d. y el m.c.m. de los polinomios: '\n",
    "n_ejercicio = 'p013e19'\n",
    "\n",
    "display(md(\"**\"+texto_ejercicio+\"**\"))\n",
    "\n",
    "pre_enunciado_latex = [[r' x^4-4',r' x^3+2x'],\n",
    "                      [r' x^3-9x',r' (x-1)(x+3)^2'],\n",
    "                      [r' x^3+x^2-2x',r' x^3+2x^2']]        \n",
    "enunciado_latex, enunciado, solucion = [], [], []\n",
    "for i, s in enumerate(pre_enunciado_latex) :\n",
    "    enunciado_latex.append(r' A(x)=' + s[0] +r\"\\  y \\ \\  B(x)=\" + s[1] +r' ')\n",
    "    enunciado.append(\"[\"+s[0]+\",\"+s[1]+\"]\")\n",
    "    solucion.append(latex(gcd(parse_latex(s[0]), parse_latex(s[1])))+latex(r\"\\ y \\ \")+latex(expand(lcm(parse_latex(s[0]), parse_latex(s[1]))))) \n",
    "    display(md(\"$\"+ enunciado_latex[i] + \" \\\\rightarrow \" +solucion[i] +\"$\"))\n",
    "    \n",
    "df_ejercicios = df_ejercicios.append(añadir_ejercicios(enunciado_latex, enunciado, solucion, texto_ejercicio, curso, titulo, n_ejercicio,'1','2'), ignore_index=True)\n",
    "  "
   ]
  },
  {
   "cell_type": "code",
   "execution_count": 18,
   "metadata": {},
   "outputs": [
    {
     "data": {
      "text/markdown": [
       "**Halla el valor numérico del polinomio $x^4-2x^3-x^2+3$,  para los valores:**"
      ],
      "text/plain": [
       "<IPython.core.display.Markdown object>"
      ]
     },
     "metadata": {},
     "output_type": "display_data"
    },
    {
     "data": {
      "text/markdown": [
       "$x=0 \\rightarrow 3$"
      ],
      "text/plain": [
       "<IPython.core.display.Markdown object>"
      ]
     },
     "metadata": {},
     "output_type": "display_data"
    },
    {
     "data": {
      "text/markdown": [
       "$x=1 \\rightarrow 1$"
      ],
      "text/plain": [
       "<IPython.core.display.Markdown object>"
      ]
     },
     "metadata": {},
     "output_type": "display_data"
    },
    {
     "data": {
      "text/markdown": [
       "$x=2 \\rightarrow -1$"
      ],
      "text/plain": [
       "<IPython.core.display.Markdown object>"
      ]
     },
     "metadata": {},
     "output_type": "display_data"
    },
    {
     "data": {
      "text/markdown": [
       "$x=\\frac{2}{3} \\rightarrow \\frac{175}{81}$"
      ],
      "text/plain": [
       "<IPython.core.display.Markdown object>"
      ]
     },
     "metadata": {},
     "output_type": "display_data"
    }
   ],
   "source": [
    "# Página 13 ejercicio 21\n",
    "\n",
    "A = r'x^4-2x^3-x^2+3'\n",
    "\n",
    "\n",
    "texto_ejercicio = r'Halla el valor numérico del polinomio $' + A +r\"$,  para los valores:\"\n",
    "n_ejercicio = 'p013e21'\n",
    "\n",
    "display(md(\"**\"+texto_ejercicio+\"**\"))\n",
    "\n",
    "pre_enunciado_latex = ['0','1','2',r'\\frac{2}{3}']        \n",
    "enunciado_latex, enunciado, solucion = [], [], []\n",
    "for i, s in enumerate(pre_enunciado_latex) :\n",
    "    enunciado_latex.append(\"x=\"+s)\n",
    "    enunciado.append(\"x=\"+s[0])\n",
    "    solucion.append(latex(parse_latex(A).subs({x:parse_latex(s)}))) \n",
    "    display(md(\"$\"+ enunciado_latex[i] + \" \\\\rightarrow \" +solucion[i] +\"$\"))\n",
    "    \n",
    "df_ejercicios = df_ejercicios.append(añadir_ejercicios(enunciado_latex, enunciado, solucion, texto_ejercicio, curso, titulo, n_ejercicio), ignore_index=True)\n",
    "  "
   ]
  },
  {
   "cell_type": "code",
   "execution_count": 19,
   "metadata": {},
   "outputs": [],
   "source": [
    "df_ejercicios.to_csv('ejercicios5.csv', index = False)"
   ]
  },
  {
   "cell_type": "code",
   "execution_count": 20,
   "metadata": {},
   "outputs": [],
   "source": [
    "df_ejercicios = pd.read_csv('ejercicios5.csv', index_col= None)"
   ]
  },
  {
   "cell_type": "code",
   "execution_count": 21,
   "metadata": {},
   "outputs": [
    {
     "data": {
      "text/markdown": [
       "**Ejercicio: **p012e03"
      ],
      "text/plain": [
       "<IPython.core.display.Markdown object>"
      ]
     },
     "metadata": {},
     "output_type": "display_data"
    },
    {
     "data": {
      "text/html": [
       "<div>\n",
       "<style scoped>\n",
       "    .dataframe tbody tr th:only-of-type {\n",
       "        vertical-align: middle;\n",
       "    }\n",
       "\n",
       "    .dataframe tbody tr th {\n",
       "        vertical-align: top;\n",
       "    }\n",
       "\n",
       "    .dataframe thead th {\n",
       "        text-align: right;\n",
       "    }\n",
       "</style>\n",
       "<table border=\"1\" class=\"dataframe\">\n",
       "  <thead>\n",
       "    <tr style=\"text-align: right;\">\n",
       "      <th></th>\n",
       "      <th>enunciado_latex</th>\n",
       "      <th>enunciado</th>\n",
       "      <th>solucion</th>\n",
       "      <th>texto</th>\n",
       "      <th>curso</th>\n",
       "      <th>titulo</th>\n",
       "      <th>n_ejercicio</th>\n",
       "      <th>dificultad</th>\n",
       "      <th>n_columnas</th>\n",
       "      <th>puntos</th>\n",
       "    </tr>\n",
       "  </thead>\n",
       "  <tbody>\n",
       "    <tr>\n",
       "      <th>27</th>\n",
       "      <td>A(x) + B(x)</td>\n",
       "      <td>A(x) + B(x)</td>\n",
       "      <td>- \\frac{x^{5}}{2} - x^{4} + 2 x^{3} - 5 x^{2} ...</td>\n",
       "      <td>Dados los polinomios $ A(x)=2{x^3} - 5{x^2} + ...</td>\n",
       "      <td>1BC</td>\n",
       "      <td>5 - Fracciones Algebraicas</td>\n",
       "      <td>p012e03</td>\n",
       "      <td>1</td>\n",
       "      <td>3</td>\n",
       "      <td>1</td>\n",
       "    </tr>\n",
       "    <tr>\n",
       "      <th>28</th>\n",
       "      <td>A(x) - B(x)</td>\n",
       "      <td>A(x) - B(x)</td>\n",
       "      <td>\\frac{x^{5}}{2} + x^{4} + 2 x^{3} - 5 x^{2} - ...</td>\n",
       "      <td>Dados los polinomios $ A(x)=2{x^3} - 5{x^2} + ...</td>\n",
       "      <td>1BC</td>\n",
       "      <td>5 - Fracciones Algebraicas</td>\n",
       "      <td>p012e03</td>\n",
       "      <td>1</td>\n",
       "      <td>3</td>\n",
       "      <td>1</td>\n",
       "    </tr>\n",
       "  </tbody>\n",
       "</table>\n",
       "</div>"
      ],
      "text/plain": [
       "   enunciado_latex    enunciado  \\\n",
       "27     A(x) + B(x)  A(x) + B(x)   \n",
       "28     A(x) - B(x)  A(x) - B(x)   \n",
       "\n",
       "                                             solucion  \\\n",
       "27  - \\frac{x^{5}}{2} - x^{4} + 2 x^{3} - 5 x^{2} ...   \n",
       "28  \\frac{x^{5}}{2} + x^{4} + 2 x^{3} - 5 x^{2} - ...   \n",
       "\n",
       "                                                texto curso  \\\n",
       "27  Dados los polinomios $ A(x)=2{x^3} - 5{x^2} + ...   1BC   \n",
       "28  Dados los polinomios $ A(x)=2{x^3} - 5{x^2} + ...   1BC   \n",
       "\n",
       "                        titulo n_ejercicio  dificultad  n_columnas  puntos  \n",
       "27  5 - Fracciones Algebraicas     p012e03           1           3       1  \n",
       "28  5 - Fracciones Algebraicas     p012e03           1           3       1  "
      ]
     },
     "metadata": {},
     "output_type": "display_data"
    },
    {
     "data": {
      "text/markdown": [
       "**Ejercicio: **p012e04"
      ],
      "text/plain": [
       "<IPython.core.display.Markdown object>"
      ]
     },
     "metadata": {},
     "output_type": "display_data"
    },
    {
     "data": {
      "text/html": [
       "<div>\n",
       "<style scoped>\n",
       "    .dataframe tbody tr th:only-of-type {\n",
       "        vertical-align: middle;\n",
       "    }\n",
       "\n",
       "    .dataframe tbody tr th {\n",
       "        vertical-align: top;\n",
       "    }\n",
       "\n",
       "    .dataframe thead th {\n",
       "        text-align: right;\n",
       "    }\n",
       "</style>\n",
       "<table border=\"1\" class=\"dataframe\">\n",
       "  <thead>\n",
       "    <tr style=\"text-align: right;\">\n",
       "      <th></th>\n",
       "      <th>enunciado_latex</th>\n",
       "      <th>enunciado</th>\n",
       "      <th>solucion</th>\n",
       "      <th>texto</th>\n",
       "      <th>curso</th>\n",
       "      <th>titulo</th>\n",
       "      <th>n_ejercicio</th>\n",
       "      <th>dificultad</th>\n",
       "      <th>n_columnas</th>\n",
       "      <th>puntos</th>\n",
       "    </tr>\n",
       "  </thead>\n",
       "  <tbody>\n",
       "    <tr>\n",
       "      <th>29</th>\n",
       "      <td>A(x) \\cdot B(x)</td>\n",
       "      <td>A(x)*B(x)</td>\n",
       "      <td>- 3 x^{7} + 9 x^{6} - 8 x^{5} + 6 x^{4} - 25 x...</td>\n",
       "      <td>Dados los polinomios $ A(x)=3{x^3} - 6{x^2} + ...</td>\n",
       "      <td>1BC</td>\n",
       "      <td>5 - Fracciones Algebraicas</td>\n",
       "      <td>p012e04</td>\n",
       "      <td>1</td>\n",
       "      <td>3</td>\n",
       "      <td>1</td>\n",
       "    </tr>\n",
       "    <tr>\n",
       "      <th>30</th>\n",
       "      <td>A(x) - 3B(x) + 5C(x)</td>\n",
       "      <td>A(x) - 3*B(x) + 5*C(x)</td>\n",
       "      <td>8 x^{4} - 11 x^{2} + 4 x + \\frac{39}{2}</td>\n",
       "      <td>Dados los polinomios $ A(x)=3{x^3} - 6{x^2} + ...</td>\n",
       "      <td>1BC</td>\n",
       "      <td>5 - Fracciones Algebraicas</td>\n",
       "      <td>p012e04</td>\n",
       "      <td>1</td>\n",
       "      <td>3</td>\n",
       "      <td>1</td>\n",
       "    </tr>\n",
       "    <tr>\n",
       "      <th>31</th>\n",
       "      <td>x^2\\cdot A(x) + 3x\\cdot B(x)</td>\n",
       "      <td>x**2*A(x) + (3*x)*B(x)</td>\n",
       "      <td>- 3 x^{4} + 2 x^{3} + 2 x^{2} - 18 x</td>\n",
       "      <td>Dados los polinomios $ A(x)=3{x^3} - 6{x^2} + ...</td>\n",
       "      <td>1BC</td>\n",
       "      <td>5 - Fracciones Algebraicas</td>\n",
       "      <td>p012e04</td>\n",
       "      <td>1</td>\n",
       "      <td>3</td>\n",
       "      <td>1</td>\n",
       "    </tr>\n",
       "  </tbody>\n",
       "</table>\n",
       "</div>"
      ],
      "text/plain": [
       "                 enunciado_latex               enunciado  \\\n",
       "29               A(x) \\cdot B(x)               A(x)*B(x)   \n",
       "30          A(x) - 3B(x) + 5C(x)  A(x) - 3*B(x) + 5*C(x)   \n",
       "31  x^2\\cdot A(x) + 3x\\cdot B(x)  x**2*A(x) + (3*x)*B(x)   \n",
       "\n",
       "                                             solucion  \\\n",
       "29  - 3 x^{7} + 9 x^{6} - 8 x^{5} + 6 x^{4} - 25 x...   \n",
       "30            8 x^{4} - 11 x^{2} + 4 x + \\frac{39}{2}   \n",
       "31               - 3 x^{4} + 2 x^{3} + 2 x^{2} - 18 x   \n",
       "\n",
       "                                                texto curso  \\\n",
       "29  Dados los polinomios $ A(x)=3{x^3} - 6{x^2} + ...   1BC   \n",
       "30  Dados los polinomios $ A(x)=3{x^3} - 6{x^2} + ...   1BC   \n",
       "31  Dados los polinomios $ A(x)=3{x^3} - 6{x^2} + ...   1BC   \n",
       "\n",
       "                        titulo n_ejercicio  dificultad  n_columnas  puntos  \n",
       "29  5 - Fracciones Algebraicas     p012e04           1           3       1  \n",
       "30  5 - Fracciones Algebraicas     p012e04           1           3       1  \n",
       "31  5 - Fracciones Algebraicas     p012e04           1           3       1  "
      ]
     },
     "metadata": {},
     "output_type": "display_data"
    },
    {
     "data": {
      "text/markdown": [
       "**Ejercicio: **p012e07"
      ],
      "text/plain": [
       "<IPython.core.display.Markdown object>"
      ]
     },
     "metadata": {},
     "output_type": "display_data"
    },
    {
     "data": {
      "text/html": [
       "<div>\n",
       "<style scoped>\n",
       "    .dataframe tbody tr th:only-of-type {\n",
       "        vertical-align: middle;\n",
       "    }\n",
       "\n",
       "    .dataframe tbody tr th {\n",
       "        vertical-align: top;\n",
       "    }\n",
       "\n",
       "    .dataframe thead th {\n",
       "        text-align: right;\n",
       "    }\n",
       "</style>\n",
       "<table border=\"1\" class=\"dataframe\">\n",
       "  <thead>\n",
       "    <tr style=\"text-align: right;\">\n",
       "      <th></th>\n",
       "      <th>enunciado_latex</th>\n",
       "      <th>enunciado</th>\n",
       "      <th>solucion</th>\n",
       "      <th>texto</th>\n",
       "      <th>curso</th>\n",
       "      <th>titulo</th>\n",
       "      <th>n_ejercicio</th>\n",
       "      <th>dificultad</th>\n",
       "      <th>n_columnas</th>\n",
       "      <th>puntos</th>\n",
       "    </tr>\n",
       "  </thead>\n",
       "  <tbody>\n",
       "    <tr>\n",
       "      <th>32</th>\n",
       "      <td>( {5{x^4} - 7{x^2} + 6x + 1} ):( {3{x^2}} )</td>\n",
       "      <td>(6*x + 5*x**4 - 7*x**2 + 1)/(3*x**2)</td>\n",
       "      <td>\\left ( \\frac{5 x^{2}}{3} - \\frac{7}{3}, \\quad...</td>\n",
       "      <td>Halla el cociente y el resto de:</td>\n",
       "      <td>1BC</td>\n",
       "      <td>5 - Fracciones Algebraicas</td>\n",
       "      <td>p012e07</td>\n",
       "      <td>1</td>\n",
       "      <td>1</td>\n",
       "      <td>1</td>\n",
       "    </tr>\n",
       "    <tr>\n",
       "      <th>33</th>\n",
       "      <td>( {7{x^4} - 3{x^2} + 6x - 1} ):( {{x^2}-x+3} )</td>\n",
       "      <td>(6*x + 7*x**4 - 3*x**2 - 1)/(x**2 - x + 3)</td>\n",
       "      <td>\\left ( 7 x^{2} + 7 x - 17, \\quad - 32 x + 50\\...</td>\n",
       "      <td>Halla el cociente y el resto de:</td>\n",
       "      <td>1BC</td>\n",
       "      <td>5 - Fracciones Algebraicas</td>\n",
       "      <td>p012e07</td>\n",
       "      <td>1</td>\n",
       "      <td>1</td>\n",
       "      <td>1</td>\n",
       "    </tr>\n",
       "    <tr>\n",
       "      <th>34</th>\n",
       "      <td>( {{x^6} - 5} ):( {{x^2} - x})</td>\n",
       "      <td>(x**6 - 5)/(x**2 - x)</td>\n",
       "      <td>\\left ( x^{4} + x^{3} + x^{2} + x + 1, \\quad x...</td>\n",
       "      <td>Halla el cociente y el resto de:</td>\n",
       "      <td>1BC</td>\n",
       "      <td>5 - Fracciones Algebraicas</td>\n",
       "      <td>p012e07</td>\n",
       "      <td>1</td>\n",
       "      <td>1</td>\n",
       "      <td>1</td>\n",
       "    </tr>\n",
       "    <tr>\n",
       "      <th>35</th>\n",
       "      <td>( {8{x^6} - 5x^4 + 6 } ):( {2x^2} - 1)</td>\n",
       "      <td>(8*x**6 - 5*x**4 + 6)/(2*x**2 - 1)</td>\n",
       "      <td>\\left ( 4 x^{4} - \\frac{x^{2}}{2} - \\frac{1}{4...</td>\n",
       "      <td>Halla el cociente y el resto de:</td>\n",
       "      <td>1BC</td>\n",
       "      <td>5 - Fracciones Algebraicas</td>\n",
       "      <td>p012e07</td>\n",
       "      <td>1</td>\n",
       "      <td>1</td>\n",
       "      <td>1</td>\n",
       "    </tr>\n",
       "    <tr>\n",
       "      <th>36</th>\n",
       "      <td>( {3{x^5} - 6{x^2} + 9} ):( {{x^2} + 1} )</td>\n",
       "      <td>(3*x**5 - 6*x**2 + 9)/(x**2 + 1)</td>\n",
       "      <td>\\left ( 3 x^{3} - 3 x - 6, \\quad 3 x + 15\\right )</td>\n",
       "      <td>Halla el cociente y el resto de:</td>\n",
       "      <td>1BC</td>\n",
       "      <td>5 - Fracciones Algebraicas</td>\n",
       "      <td>p012e07</td>\n",
       "      <td>1</td>\n",
       "      <td>1</td>\n",
       "      <td>1</td>\n",
       "    </tr>\n",
       "    <tr>\n",
       "      <th>37</th>\n",
       "      <td>( {x^9} - 7{x} + 1 ):( {{x^3} + x} )</td>\n",
       "      <td>(x**9 - 7*x + 1)/(x**3 + x)</td>\n",
       "      <td>\\left ( x^{6} - x^{4} + x^{2} - 1, \\quad - 6 x...</td>\n",
       "      <td>Halla el cociente y el resto de:</td>\n",
       "      <td>1BC</td>\n",
       "      <td>5 - Fracciones Algebraicas</td>\n",
       "      <td>p012e07</td>\n",
       "      <td>1</td>\n",
       "      <td>1</td>\n",
       "      <td>1</td>\n",
       "    </tr>\n",
       "  </tbody>\n",
       "</table>\n",
       "</div>"
      ],
      "text/plain": [
       "                                   enunciado_latex  \\\n",
       "32     ( {5{x^4} - 7{x^2} + 6x + 1} ):( {3{x^2}} )   \n",
       "33  ( {7{x^4} - 3{x^2} + 6x - 1} ):( {{x^2}-x+3} )   \n",
       "34                  ( {{x^6} - 5} ):( {{x^2} - x})   \n",
       "35          ( {8{x^6} - 5x^4 + 6 } ):( {2x^2} - 1)   \n",
       "36       ( {3{x^5} - 6{x^2} + 9} ):( {{x^2} + 1} )   \n",
       "37            ( {x^9} - 7{x} + 1 ):( {{x^3} + x} )   \n",
       "\n",
       "                                     enunciado  \\\n",
       "32        (6*x + 5*x**4 - 7*x**2 + 1)/(3*x**2)   \n",
       "33  (6*x + 7*x**4 - 3*x**2 - 1)/(x**2 - x + 3)   \n",
       "34                       (x**6 - 5)/(x**2 - x)   \n",
       "35          (8*x**6 - 5*x**4 + 6)/(2*x**2 - 1)   \n",
       "36            (3*x**5 - 6*x**2 + 9)/(x**2 + 1)   \n",
       "37                 (x**9 - 7*x + 1)/(x**3 + x)   \n",
       "\n",
       "                                             solucion  \\\n",
       "32  \\left ( \\frac{5 x^{2}}{3} - \\frac{7}{3}, \\quad...   \n",
       "33  \\left ( 7 x^{2} + 7 x - 17, \\quad - 32 x + 50\\...   \n",
       "34  \\left ( x^{4} + x^{3} + x^{2} + x + 1, \\quad x...   \n",
       "35  \\left ( 4 x^{4} - \\frac{x^{2}}{2} - \\frac{1}{4...   \n",
       "36  \\left ( 3 x^{3} - 3 x - 6, \\quad 3 x + 15\\right )   \n",
       "37  \\left ( x^{6} - x^{4} + x^{2} - 1, \\quad - 6 x...   \n",
       "\n",
       "                               texto curso                      titulo  \\\n",
       "32  Halla el cociente y el resto de:   1BC  5 - Fracciones Algebraicas   \n",
       "33  Halla el cociente y el resto de:   1BC  5 - Fracciones Algebraicas   \n",
       "34  Halla el cociente y el resto de:   1BC  5 - Fracciones Algebraicas   \n",
       "35  Halla el cociente y el resto de:   1BC  5 - Fracciones Algebraicas   \n",
       "36  Halla el cociente y el resto de:   1BC  5 - Fracciones Algebraicas   \n",
       "37  Halla el cociente y el resto de:   1BC  5 - Fracciones Algebraicas   \n",
       "\n",
       "   n_ejercicio  dificultad  n_columnas  puntos  \n",
       "32     p012e07           1           1       1  \n",
       "33     p012e07           1           1       1  \n",
       "34     p012e07           1           1       1  \n",
       "35     p012e07           1           1       1  \n",
       "36     p012e07           1           1       1  \n",
       "37     p012e07           1           1       1  "
      ]
     },
     "metadata": {},
     "output_type": "display_data"
    },
    {
     "data": {
      "text/markdown": [
       "**Ejercicio: **p012e08"
      ],
      "text/plain": [
       "<IPython.core.display.Markdown object>"
      ]
     },
     "metadata": {},
     "output_type": "display_data"
    },
    {
     "data": {
      "text/html": [
       "<div>\n",
       "<style scoped>\n",
       "    .dataframe tbody tr th:only-of-type {\n",
       "        vertical-align: middle;\n",
       "    }\n",
       "\n",
       "    .dataframe tbody tr th {\n",
       "        vertical-align: top;\n",
       "    }\n",
       "\n",
       "    .dataframe thead th {\n",
       "        text-align: right;\n",
       "    }\n",
       "</style>\n",
       "<table border=\"1\" class=\"dataframe\">\n",
       "  <thead>\n",
       "    <tr style=\"text-align: right;\">\n",
       "      <th></th>\n",
       "      <th>enunciado_latex</th>\n",
       "      <th>enunciado</th>\n",
       "      <th>solucion</th>\n",
       "      <th>texto</th>\n",
       "      <th>curso</th>\n",
       "      <th>titulo</th>\n",
       "      <th>n_ejercicio</th>\n",
       "      <th>dificultad</th>\n",
       "      <th>n_columnas</th>\n",
       "      <th>puntos</th>\n",
       "    </tr>\n",
       "  </thead>\n",
       "  <tbody>\n",
       "    <tr>\n",
       "      <th>38</th>\n",
       "      <td>x=1</td>\n",
       "      <td>x=1</td>\n",
       "      <td>6\\ y \\ 11</td>\n",
       "      <td>Dados $ A(x)= - {x^3} + 2{x^2} + 5, \\  B(x)= 2...</td>\n",
       "      <td>1BC</td>\n",
       "      <td>5 - Fracciones Algebraicas</td>\n",
       "      <td>p012e08</td>\n",
       "      <td>1</td>\n",
       "      <td>3</td>\n",
       "      <td>1</td>\n",
       "    </tr>\n",
       "    <tr>\n",
       "      <th>39</th>\n",
       "      <td>x=-1</td>\n",
       "      <td>x=-1</td>\n",
       "      <td>8\\ y \\ 5</td>\n",
       "      <td>Dados $ A(x)= - {x^3} + 2{x^2} + 5, \\  B(x)= 2...</td>\n",
       "      <td>1BC</td>\n",
       "      <td>5 - Fracciones Algebraicas</td>\n",
       "      <td>p012e08</td>\n",
       "      <td>1</td>\n",
       "      <td>3</td>\n",
       "      <td>1</td>\n",
       "    </tr>\n",
       "    <tr>\n",
       "      <th>40</th>\n",
       "      <td>x=2</td>\n",
       "      <td>x=2</td>\n",
       "      <td>5\\ y \\ 44</td>\n",
       "      <td>Dados $ A(x)= - {x^3} + 2{x^2} + 5, \\  B(x)= 2...</td>\n",
       "      <td>1BC</td>\n",
       "      <td>5 - Fracciones Algebraicas</td>\n",
       "      <td>p012e08</td>\n",
       "      <td>1</td>\n",
       "      <td>3</td>\n",
       "      <td>1</td>\n",
       "    </tr>\n",
       "    <tr>\n",
       "      <th>41</th>\n",
       "      <td>x=-2</td>\n",
       "      <td>x=-2</td>\n",
       "      <td>21\\ y \\ 32</td>\n",
       "      <td>Dados $ A(x)= - {x^3} + 2{x^2} + 5, \\  B(x)= 2...</td>\n",
       "      <td>1BC</td>\n",
       "      <td>5 - Fracciones Algebraicas</td>\n",
       "      <td>p012e08</td>\n",
       "      <td>1</td>\n",
       "      <td>3</td>\n",
       "      <td>1</td>\n",
       "    </tr>\n",
       "    <tr>\n",
       "      <th>42</th>\n",
       "      <td>x=\\frac{1}{2}</td>\n",
       "      <td>x=\\frac{1}{2}</td>\n",
       "      <td>\\frac{43}{8}\\ y \\ \\frac{61}{8}</td>\n",
       "      <td>Dados $ A(x)= - {x^3} + 2{x^2} + 5, \\  B(x)= 2...</td>\n",
       "      <td>1BC</td>\n",
       "      <td>5 - Fracciones Algebraicas</td>\n",
       "      <td>p012e08</td>\n",
       "      <td>1</td>\n",
       "      <td>3</td>\n",
       "      <td>1</td>\n",
       "    </tr>\n",
       "    <tr>\n",
       "      <th>43</th>\n",
       "      <td>x=-\\frac{1}{2}</td>\n",
       "      <td>x=-\\frac{1}{2}</td>\n",
       "      <td>\\frac{45}{8}\\ y \\ \\frac{37}{8}</td>\n",
       "      <td>Dados $ A(x)= - {x^3} + 2{x^2} + 5, \\  B(x)= 2...</td>\n",
       "      <td>1BC</td>\n",
       "      <td>5 - Fracciones Algebraicas</td>\n",
       "      <td>p012e08</td>\n",
       "      <td>1</td>\n",
       "      <td>3</td>\n",
       "      <td>1</td>\n",
       "    </tr>\n",
       "  </tbody>\n",
       "</table>\n",
       "</div>"
      ],
      "text/plain": [
       "   enunciado_latex       enunciado                        solucion  \\\n",
       "38             x=1             x=1                       6\\ y \\ 11   \n",
       "39            x=-1            x=-1                        8\\ y \\ 5   \n",
       "40             x=2             x=2                       5\\ y \\ 44   \n",
       "41            x=-2            x=-2                      21\\ y \\ 32   \n",
       "42   x=\\frac{1}{2}   x=\\frac{1}{2}  \\frac{43}{8}\\ y \\ \\frac{61}{8}   \n",
       "43  x=-\\frac{1}{2}  x=-\\frac{1}{2}  \\frac{45}{8}\\ y \\ \\frac{37}{8}   \n",
       "\n",
       "                                                texto curso  \\\n",
       "38  Dados $ A(x)= - {x^3} + 2{x^2} + 5, \\  B(x)= 2...   1BC   \n",
       "39  Dados $ A(x)= - {x^3} + 2{x^2} + 5, \\  B(x)= 2...   1BC   \n",
       "40  Dados $ A(x)= - {x^3} + 2{x^2} + 5, \\  B(x)= 2...   1BC   \n",
       "41  Dados $ A(x)= - {x^3} + 2{x^2} + 5, \\  B(x)= 2...   1BC   \n",
       "42  Dados $ A(x)= - {x^3} + 2{x^2} + 5, \\  B(x)= 2...   1BC   \n",
       "43  Dados $ A(x)= - {x^3} + 2{x^2} + 5, \\  B(x)= 2...   1BC   \n",
       "\n",
       "                        titulo n_ejercicio  dificultad  n_columnas  puntos  \n",
       "38  5 - Fracciones Algebraicas     p012e08           1           3       1  \n",
       "39  5 - Fracciones Algebraicas     p012e08           1           3       1  \n",
       "40  5 - Fracciones Algebraicas     p012e08           1           3       1  \n",
       "41  5 - Fracciones Algebraicas     p012e08           1           3       1  \n",
       "42  5 - Fracciones Algebraicas     p012e08           1           3       1  \n",
       "43  5 - Fracciones Algebraicas     p012e08           1           3       1  "
      ]
     },
     "metadata": {},
     "output_type": "display_data"
    },
    {
     "data": {
      "text/markdown": [
       "**Ejercicio: **p012e09"
      ],
      "text/plain": [
       "<IPython.core.display.Markdown object>"
      ]
     },
     "metadata": {},
     "output_type": "display_data"
    },
    {
     "data": {
      "text/html": [
       "<div>\n",
       "<style scoped>\n",
       "    .dataframe tbody tr th:only-of-type {\n",
       "        vertical-align: middle;\n",
       "    }\n",
       "\n",
       "    .dataframe tbody tr th {\n",
       "        vertical-align: top;\n",
       "    }\n",
       "\n",
       "    .dataframe thead th {\n",
       "        text-align: right;\n",
       "    }\n",
       "</style>\n",
       "<table border=\"1\" class=\"dataframe\">\n",
       "  <thead>\n",
       "    <tr style=\"text-align: right;\">\n",
       "      <th></th>\n",
       "      <th>enunciado_latex</th>\n",
       "      <th>enunciado</th>\n",
       "      <th>solucion</th>\n",
       "      <th>texto</th>\n",
       "      <th>curso</th>\n",
       "      <th>titulo</th>\n",
       "      <th>n_ejercicio</th>\n",
       "      <th>dificultad</th>\n",
       "      <th>n_columnas</th>\n",
       "      <th>puntos</th>\n",
       "    </tr>\n",
       "  </thead>\n",
       "  <tbody>\n",
       "    <tr>\n",
       "      <th>44</th>\n",
       "      <td>x^2 - 1</td>\n",
       "      <td>x**2 - 1</td>\n",
       "      <td>\\left\\{-1, 1\\right\\}</td>\n",
       "      <td>Halla, para cada uno  de los siguientes polino...</td>\n",
       "      <td>1BC</td>\n",
       "      <td>5 - Fracciones Algebraicas</td>\n",
       "      <td>p012e09</td>\n",
       "      <td>1</td>\n",
       "      <td>3</td>\n",
       "      <td>1</td>\n",
       "    </tr>\n",
       "    <tr>\n",
       "      <th>45</th>\n",
       "      <td>x^2 - 7</td>\n",
       "      <td>x**2 - 7</td>\n",
       "      <td>\\left\\{- \\sqrt{7}, \\sqrt{7}\\right\\}</td>\n",
       "      <td>Halla, para cada uno  de los siguientes polino...</td>\n",
       "      <td>1BC</td>\n",
       "      <td>5 - Fracciones Algebraicas</td>\n",
       "      <td>p012e09</td>\n",
       "      <td>1</td>\n",
       "      <td>3</td>\n",
       "      <td>1</td>\n",
       "    </tr>\n",
       "    <tr>\n",
       "      <th>46</th>\n",
       "      <td>3x^2 -12</td>\n",
       "      <td>3*x**2 - 12</td>\n",
       "      <td>\\left\\{-2, 2\\right\\}</td>\n",
       "      <td>Halla, para cada uno  de los siguientes polino...</td>\n",
       "      <td>1BC</td>\n",
       "      <td>5 - Fracciones Algebraicas</td>\n",
       "      <td>p012e09</td>\n",
       "      <td>1</td>\n",
       "      <td>3</td>\n",
       "      <td>1</td>\n",
       "    </tr>\n",
       "    <tr>\n",
       "      <th>47</th>\n",
       "      <td>5x^2 -25</td>\n",
       "      <td>5*x**2 - 25</td>\n",
       "      <td>\\left\\{- \\sqrt{5}, \\sqrt{5}\\right\\}</td>\n",
       "      <td>Halla, para cada uno  de los siguientes polino...</td>\n",
       "      <td>1BC</td>\n",
       "      <td>5 - Fracciones Algebraicas</td>\n",
       "      <td>p012e09</td>\n",
       "      <td>1</td>\n",
       "      <td>3</td>\n",
       "      <td>1</td>\n",
       "    </tr>\n",
       "  </tbody>\n",
       "</table>\n",
       "</div>"
      ],
      "text/plain": [
       "   enunciado_latex    enunciado                             solucion  \\\n",
       "44         x^2 - 1     x**2 - 1                 \\left\\{-1, 1\\right\\}   \n",
       "45         x^2 - 7     x**2 - 7  \\left\\{- \\sqrt{7}, \\sqrt{7}\\right\\}   \n",
       "46        3x^2 -12  3*x**2 - 12                 \\left\\{-2, 2\\right\\}   \n",
       "47        5x^2 -25  5*x**2 - 25  \\left\\{- \\sqrt{5}, \\sqrt{5}\\right\\}   \n",
       "\n",
       "                                                texto curso  \\\n",
       "44  Halla, para cada uno  de los siguientes polino...   1BC   \n",
       "45  Halla, para cada uno  de los siguientes polino...   1BC   \n",
       "46  Halla, para cada uno  de los siguientes polino...   1BC   \n",
       "47  Halla, para cada uno  de los siguientes polino...   1BC   \n",
       "\n",
       "                        titulo n_ejercicio  dificultad  n_columnas  puntos  \n",
       "44  5 - Fracciones Algebraicas     p012e09           1           3       1  \n",
       "45  5 - Fracciones Algebraicas     p012e09           1           3       1  \n",
       "46  5 - Fracciones Algebraicas     p012e09           1           3       1  \n",
       "47  5 - Fracciones Algebraicas     p012e09           1           3       1  "
      ]
     },
     "metadata": {},
     "output_type": "display_data"
    },
    {
     "data": {
      "text/markdown": [
       "**Ejercicio: **p012e10"
      ],
      "text/plain": [
       "<IPython.core.display.Markdown object>"
      ]
     },
     "metadata": {},
     "output_type": "display_data"
    },
    {
     "data": {
      "text/html": [
       "<div>\n",
       "<style scoped>\n",
       "    .dataframe tbody tr th:only-of-type {\n",
       "        vertical-align: middle;\n",
       "    }\n",
       "\n",
       "    .dataframe tbody tr th {\n",
       "        vertical-align: top;\n",
       "    }\n",
       "\n",
       "    .dataframe thead th {\n",
       "        text-align: right;\n",
       "    }\n",
       "</style>\n",
       "<table border=\"1\" class=\"dataframe\">\n",
       "  <thead>\n",
       "    <tr style=\"text-align: right;\">\n",
       "      <th></th>\n",
       "      <th>enunciado_latex</th>\n",
       "      <th>enunciado</th>\n",
       "      <th>solucion</th>\n",
       "      <th>texto</th>\n",
       "      <th>curso</th>\n",
       "      <th>titulo</th>\n",
       "      <th>n_ejercicio</th>\n",
       "      <th>dificultad</th>\n",
       "      <th>n_columnas</th>\n",
       "      <th>puntos</th>\n",
       "    </tr>\n",
       "  </thead>\n",
       "  <tbody>\n",
       "    <tr>\n",
       "      <th>48</th>\n",
       "      <td>x^4 +3</td>\n",
       "      <td>x**4 + 3</td>\n",
       "      <td>\\left\\{- \\frac{\\sqrt{2} \\sqrt[4]{3}}{2} - \\fra...</td>\n",
       "      <td>¿Tiene el polinomio A(x)= $x^4 +3$ alguna raíz...</td>\n",
       "      <td>1BC</td>\n",
       "      <td>5 - Fracciones Algebraicas</td>\n",
       "      <td>p012e10</td>\n",
       "      <td>1</td>\n",
       "      <td>1</td>\n",
       "      <td>1</td>\n",
       "    </tr>\n",
       "  </tbody>\n",
       "</table>\n",
       "</div>"
      ],
      "text/plain": [
       "   enunciado_latex enunciado  \\\n",
       "48          x^4 +3  x**4 + 3   \n",
       "\n",
       "                                             solucion  \\\n",
       "48  \\left\\{- \\frac{\\sqrt{2} \\sqrt[4]{3}}{2} - \\fra...   \n",
       "\n",
       "                                                texto curso  \\\n",
       "48  ¿Tiene el polinomio A(x)= $x^4 +3$ alguna raíz...   1BC   \n",
       "\n",
       "                        titulo n_ejercicio  dificultad  n_columnas  puntos  \n",
       "48  5 - Fracciones Algebraicas     p012e10           1           1       1  "
      ]
     },
     "metadata": {},
     "output_type": "display_data"
    },
    {
     "data": {
      "text/markdown": [
       "**Ejercicio: **p013e11"
      ],
      "text/plain": [
       "<IPython.core.display.Markdown object>"
      ]
     },
     "metadata": {},
     "output_type": "display_data"
    },
    {
     "data": {
      "text/html": [
       "<div>\n",
       "<style scoped>\n",
       "    .dataframe tbody tr th:only-of-type {\n",
       "        vertical-align: middle;\n",
       "    }\n",
       "\n",
       "    .dataframe tbody tr th {\n",
       "        vertical-align: top;\n",
       "    }\n",
       "\n",
       "    .dataframe thead th {\n",
       "        text-align: right;\n",
       "    }\n",
       "</style>\n",
       "<table border=\"1\" class=\"dataframe\">\n",
       "  <thead>\n",
       "    <tr style=\"text-align: right;\">\n",
       "      <th></th>\n",
       "      <th>enunciado_latex</th>\n",
       "      <th>enunciado</th>\n",
       "      <th>solucion</th>\n",
       "      <th>texto</th>\n",
       "      <th>curso</th>\n",
       "      <th>titulo</th>\n",
       "      <th>n_ejercicio</th>\n",
       "      <th>dificultad</th>\n",
       "      <th>n_columnas</th>\n",
       "      <th>puntos</th>\n",
       "    </tr>\n",
       "  </thead>\n",
       "  <tbody>\n",
       "    <tr>\n",
       "      <th>49</th>\n",
       "      <td>( {{x^2} - 3x + 6} ):( {x+2} )</td>\n",
       "      <td>(x**2 - 3*x + 6)/(x + 2)</td>\n",
       "      <td>\\left ( x - 5, \\quad 16\\right )</td>\n",
       "      <td>Aplica la regla de Ruffini para hallar el coci...</td>\n",
       "      <td>1BC</td>\n",
       "      <td>5 - Fracciones Algebraicas</td>\n",
       "      <td>p013e11</td>\n",
       "      <td>1</td>\n",
       "      <td>1</td>\n",
       "      <td>1</td>\n",
       "    </tr>\n",
       "    <tr>\n",
       "      <th>50</th>\n",
       "      <td>( {2{x^6} - 7{x^4} + 6x - 9} ):( {x+3} )</td>\n",
       "      <td>(6*x + 2*x**6 - 7*x**4 - 9)/(x + 3)</td>\n",
       "      <td>\\left ( 2 x^{5} - 6 x^{4} + 11 x^{3} - 33 x^{2...</td>\n",
       "      <td>Aplica la regla de Ruffini para hallar el coci...</td>\n",
       "      <td>1BC</td>\n",
       "      <td>5 - Fracciones Algebraicas</td>\n",
       "      <td>p013e11</td>\n",
       "      <td>1</td>\n",
       "      <td>1</td>\n",
       "      <td>1</td>\n",
       "    </tr>\n",
       "    <tr>\n",
       "      <th>51</th>\n",
       "      <td>( {7{x^3} - 4x - 3} ):( {{x} - 1})</td>\n",
       "      <td>(7*x**3 - 4*x - 3)/(x - 1)</td>\n",
       "      <td>\\left ( 7 x^{2} + 7 x + 3, \\quad 0\\right )</td>\n",
       "      <td>Aplica la regla de Ruffini para hallar el coci...</td>\n",
       "      <td>1BC</td>\n",
       "      <td>5 - Fracciones Algebraicas</td>\n",
       "      <td>p013e11</td>\n",
       "      <td>1</td>\n",
       "      <td>1</td>\n",
       "      <td>1</td>\n",
       "    </tr>\n",
       "    <tr>\n",
       "      <th>52</th>\n",
       "      <td>( {x^2 - 1 } ):( {x} + 1)</td>\n",
       "      <td>(x**2 - 1)/(x + 1)</td>\n",
       "      <td>\\left ( x - 1, \\quad 0\\right )</td>\n",
       "      <td>Aplica la regla de Ruffini para hallar el coci...</td>\n",
       "      <td>1BC</td>\n",
       "      <td>5 - Fracciones Algebraicas</td>\n",
       "      <td>p013e11</td>\n",
       "      <td>1</td>\n",
       "      <td>1</td>\n",
       "      <td>1</td>\n",
       "    </tr>\n",
       "  </tbody>\n",
       "</table>\n",
       "</div>"
      ],
      "text/plain": [
       "                             enunciado_latex  \\\n",
       "49            ( {{x^2} - 3x + 6} ):( {x+2} )   \n",
       "50  ( {2{x^6} - 7{x^4} + 6x - 9} ):( {x+3} )   \n",
       "51        ( {7{x^3} - 4x - 3} ):( {{x} - 1})   \n",
       "52                 ( {x^2 - 1 } ):( {x} + 1)   \n",
       "\n",
       "                              enunciado  \\\n",
       "49             (x**2 - 3*x + 6)/(x + 2)   \n",
       "50  (6*x + 2*x**6 - 7*x**4 - 9)/(x + 3)   \n",
       "51           (7*x**3 - 4*x - 3)/(x - 1)   \n",
       "52                   (x**2 - 1)/(x + 1)   \n",
       "\n",
       "                                             solucion  \\\n",
       "49                    \\left ( x - 5, \\quad 16\\right )   \n",
       "50  \\left ( 2 x^{5} - 6 x^{4} + 11 x^{3} - 33 x^{2...   \n",
       "51         \\left ( 7 x^{2} + 7 x + 3, \\quad 0\\right )   \n",
       "52                     \\left ( x - 1, \\quad 0\\right )   \n",
       "\n",
       "                                                texto curso  \\\n",
       "49  Aplica la regla de Ruffini para hallar el coci...   1BC   \n",
       "50  Aplica la regla de Ruffini para hallar el coci...   1BC   \n",
       "51  Aplica la regla de Ruffini para hallar el coci...   1BC   \n",
       "52  Aplica la regla de Ruffini para hallar el coci...   1BC   \n",
       "\n",
       "                        titulo n_ejercicio  dificultad  n_columnas  puntos  \n",
       "49  5 - Fracciones Algebraicas     p013e11           1           1       1  \n",
       "50  5 - Fracciones Algebraicas     p013e11           1           1       1  \n",
       "51  5 - Fracciones Algebraicas     p013e11           1           1       1  \n",
       "52  5 - Fracciones Algebraicas     p013e11           1           1       1  "
      ]
     },
     "metadata": {},
     "output_type": "display_data"
    },
    {
     "data": {
      "text/markdown": [
       "**Ejercicio: **p013e12"
      ],
      "text/plain": [
       "<IPython.core.display.Markdown object>"
      ]
     },
     "metadata": {},
     "output_type": "display_data"
    },
    {
     "data": {
      "text/html": [
       "<div>\n",
       "<style scoped>\n",
       "    .dataframe tbody tr th:only-of-type {\n",
       "        vertical-align: middle;\n",
       "    }\n",
       "\n",
       "    .dataframe tbody tr th {\n",
       "        vertical-align: top;\n",
       "    }\n",
       "\n",
       "    .dataframe thead th {\n",
       "        text-align: right;\n",
       "    }\n",
       "</style>\n",
       "<table border=\"1\" class=\"dataframe\">\n",
       "  <thead>\n",
       "    <tr style=\"text-align: right;\">\n",
       "      <th></th>\n",
       "      <th>enunciado_latex</th>\n",
       "      <th>enunciado</th>\n",
       "      <th>solucion</th>\n",
       "      <th>texto</th>\n",
       "      <th>curso</th>\n",
       "      <th>titulo</th>\n",
       "      <th>n_ejercicio</th>\n",
       "      <th>dificultad</th>\n",
       "      <th>n_columnas</th>\n",
       "      <th>puntos</th>\n",
       "    </tr>\n",
       "  </thead>\n",
       "  <tbody>\n",
       "    <tr>\n",
       "      <th>53</th>\n",
       "      <td>( {7{x^3} - 4x + 9} ):( {x+1} )</td>\n",
       "      <td>(7*x**3 - 4*x + 9)/(x + 1)</td>\n",
       "      <td>6</td>\n",
       "      <td>Aplica el teorema del resto para calcular el r...</td>\n",
       "      <td>1BC</td>\n",
       "      <td>5 - Fracciones Algebraicas</td>\n",
       "      <td>p013e12</td>\n",
       "      <td>1</td>\n",
       "      <td>3</td>\n",
       "      <td>1</td>\n",
       "    </tr>\n",
       "    <tr>\n",
       "      <th>54</th>\n",
       "      <td>( {7{x^3} - 4x - 3} ):( {x-1} )</td>\n",
       "      <td>(7*x**3 - 4*x - 3)/(x - 1)</td>\n",
       "      <td>0</td>\n",
       "      <td>Aplica el teorema del resto para calcular el r...</td>\n",
       "      <td>1BC</td>\n",
       "      <td>5 - Fracciones Algebraicas</td>\n",
       "      <td>p013e12</td>\n",
       "      <td>1</td>\n",
       "      <td>3</td>\n",
       "      <td>1</td>\n",
       "    </tr>\n",
       "    <tr>\n",
       "      <th>55</th>\n",
       "      <td>( {x^2 - 1} ):( {x + 1})</td>\n",
       "      <td>(x**2 - 1)/(x + 1)</td>\n",
       "      <td>0</td>\n",
       "      <td>Aplica el teorema del resto para calcular el r...</td>\n",
       "      <td>1BC</td>\n",
       "      <td>5 - Fracciones Algebraicas</td>\n",
       "      <td>p013e12</td>\n",
       "      <td>1</td>\n",
       "      <td>3</td>\n",
       "      <td>1</td>\n",
       "    </tr>\n",
       "  </tbody>\n",
       "</table>\n",
       "</div>"
      ],
      "text/plain": [
       "                    enunciado_latex                   enunciado solucion  \\\n",
       "53  ( {7{x^3} - 4x + 9} ):( {x+1} )  (7*x**3 - 4*x + 9)/(x + 1)        6   \n",
       "54  ( {7{x^3} - 4x - 3} ):( {x-1} )  (7*x**3 - 4*x - 3)/(x - 1)        0   \n",
       "55         ( {x^2 - 1} ):( {x + 1})          (x**2 - 1)/(x + 1)        0   \n",
       "\n",
       "                                                texto curso  \\\n",
       "53  Aplica el teorema del resto para calcular el r...   1BC   \n",
       "54  Aplica el teorema del resto para calcular el r...   1BC   \n",
       "55  Aplica el teorema del resto para calcular el r...   1BC   \n",
       "\n",
       "                        titulo n_ejercicio  dificultad  n_columnas  puntos  \n",
       "53  5 - Fracciones Algebraicas     p013e12           1           3       1  \n",
       "54  5 - Fracciones Algebraicas     p013e12           1           3       1  \n",
       "55  5 - Fracciones Algebraicas     p013e12           1           3       1  "
      ]
     },
     "metadata": {},
     "output_type": "display_data"
    },
    {
     "data": {
      "text/markdown": [
       "**Ejercicio: **p013e17-18"
      ],
      "text/plain": [
       "<IPython.core.display.Markdown object>"
      ]
     },
     "metadata": {},
     "output_type": "display_data"
    },
    {
     "data": {
      "text/html": [
       "<div>\n",
       "<style scoped>\n",
       "    .dataframe tbody tr th:only-of-type {\n",
       "        vertical-align: middle;\n",
       "    }\n",
       "\n",
       "    .dataframe tbody tr th {\n",
       "        vertical-align: top;\n",
       "    }\n",
       "\n",
       "    .dataframe thead th {\n",
       "        text-align: right;\n",
       "    }\n",
       "</style>\n",
       "<table border=\"1\" class=\"dataframe\">\n",
       "  <thead>\n",
       "    <tr style=\"text-align: right;\">\n",
       "      <th></th>\n",
       "      <th>enunciado_latex</th>\n",
       "      <th>enunciado</th>\n",
       "      <th>solucion</th>\n",
       "      <th>texto</th>\n",
       "      <th>curso</th>\n",
       "      <th>titulo</th>\n",
       "      <th>n_ejercicio</th>\n",
       "      <th>dificultad</th>\n",
       "      <th>n_columnas</th>\n",
       "      <th>puntos</th>\n",
       "    </tr>\n",
       "  </thead>\n",
       "  <tbody>\n",
       "    <tr>\n",
       "      <th>56</th>\n",
       "      <td>x^2-81</td>\n",
       "      <td>x**2 - 81</td>\n",
       "      <td>\\left(x - 9\\right) \\left(x + 9\\right)</td>\n",
       "      <td>Descomponer en factores</td>\n",
       "      <td>1BC</td>\n",
       "      <td>5 - Fracciones Algebraicas</td>\n",
       "      <td>p013e17-18</td>\n",
       "      <td>1</td>\n",
       "      <td>2</td>\n",
       "      <td>1</td>\n",
       "    </tr>\n",
       "    <tr>\n",
       "      <th>57</th>\n",
       "      <td>x^2-2</td>\n",
       "      <td>x**2 - 2</td>\n",
       "      <td>\\left(x - \\sqrt{2}\\right) \\left(x + \\sqrt{2}\\r...</td>\n",
       "      <td>Descomponer en factores</td>\n",
       "      <td>1BC</td>\n",
       "      <td>5 - Fracciones Algebraicas</td>\n",
       "      <td>p013e17-18</td>\n",
       "      <td>1</td>\n",
       "      <td>2</td>\n",
       "      <td>1</td>\n",
       "    </tr>\n",
       "    <tr>\n",
       "      <th>58</th>\n",
       "      <td>4x^2-9</td>\n",
       "      <td>4*x**2 - 9</td>\n",
       "      <td>4 \\left(x - \\frac{3}{2}\\right) \\left(x + \\frac...</td>\n",
       "      <td>Descomponer en factores</td>\n",
       "      <td>1BC</td>\n",
       "      <td>5 - Fracciones Algebraicas</td>\n",
       "      <td>p013e17-18</td>\n",
       "      <td>1</td>\n",
       "      <td>2</td>\n",
       "      <td>1</td>\n",
       "    </tr>\n",
       "    <tr>\n",
       "      <th>59</th>\n",
       "      <td>x^3-x</td>\n",
       "      <td>x**3 - x</td>\n",
       "      <td>x \\left(x - 1\\right) \\left(x + 1\\right)</td>\n",
       "      <td>Descomponer en factores</td>\n",
       "      <td>1BC</td>\n",
       "      <td>5 - Fracciones Algebraicas</td>\n",
       "      <td>p013e17-18</td>\n",
       "      <td>1</td>\n",
       "      <td>2</td>\n",
       "      <td>1</td>\n",
       "    </tr>\n",
       "    <tr>\n",
       "      <th>60</th>\n",
       "      <td>x^2-3x</td>\n",
       "      <td>x**2 - 3*x</td>\n",
       "      <td>x \\left(x - 3\\right)</td>\n",
       "      <td>Descomponer en factores</td>\n",
       "      <td>1BC</td>\n",
       "      <td>5 - Fracciones Algebraicas</td>\n",
       "      <td>p013e17-18</td>\n",
       "      <td>1</td>\n",
       "      <td>2</td>\n",
       "      <td>1</td>\n",
       "    </tr>\n",
       "    <tr>\n",
       "      <th>61</th>\n",
       "      <td>x^2-2x+1</td>\n",
       "      <td>x**2 - 2*x + 1</td>\n",
       "      <td>\\left(x - 1\\right)^{2}</td>\n",
       "      <td>Descomponer en factores</td>\n",
       "      <td>1BC</td>\n",
       "      <td>5 - Fracciones Algebraicas</td>\n",
       "      <td>p013e17-18</td>\n",
       "      <td>1</td>\n",
       "      <td>2</td>\n",
       "      <td>1</td>\n",
       "    </tr>\n",
       "    <tr>\n",
       "      <th>62</th>\n",
       "      <td>x^5-3x^4+2x^3</td>\n",
       "      <td>2*x**3 + x**5 - 3*x**4</td>\n",
       "      <td>x^{3} \\left(x - 2\\right) \\left(x - 1\\right)</td>\n",
       "      <td>Descomponer en factores</td>\n",
       "      <td>1BC</td>\n",
       "      <td>5 - Fracciones Algebraicas</td>\n",
       "      <td>p013e17-18</td>\n",
       "      <td>1</td>\n",
       "      <td>2</td>\n",
       "      <td>1</td>\n",
       "    </tr>\n",
       "    <tr>\n",
       "      <th>63</th>\n",
       "      <td>x^2-x-30</td>\n",
       "      <td>x**2 - x - 30</td>\n",
       "      <td>\\left(x - 6\\right) \\left(x + 5\\right)</td>\n",
       "      <td>Descomponer en factores</td>\n",
       "      <td>1BC</td>\n",
       "      <td>5 - Fracciones Algebraicas</td>\n",
       "      <td>p013e17-18</td>\n",
       "      <td>1</td>\n",
       "      <td>2</td>\n",
       "      <td>1</td>\n",
       "    </tr>\n",
       "    <tr>\n",
       "      <th>64</th>\n",
       "      <td>x^2+2x+1</td>\n",
       "      <td>x**2 + 2*x + 1</td>\n",
       "      <td>\\left(x + 1\\right)^{2}</td>\n",
       "      <td>Descomponer en factores</td>\n",
       "      <td>1BC</td>\n",
       "      <td>5 - Fracciones Algebraicas</td>\n",
       "      <td>p013e17-18</td>\n",
       "      <td>1</td>\n",
       "      <td>2</td>\n",
       "      <td>1</td>\n",
       "    </tr>\n",
       "    <tr>\n",
       "      <th>65</th>\n",
       "      <td>x^3-x^2-x+1</td>\n",
       "      <td>-x + x**3 - x**2 + 1</td>\n",
       "      <td>\\left(x - 1\\right)^{2} \\left(x + 1\\right)</td>\n",
       "      <td>Descomponer en factores</td>\n",
       "      <td>1BC</td>\n",
       "      <td>5 - Fracciones Algebraicas</td>\n",
       "      <td>p013e17-18</td>\n",
       "      <td>1</td>\n",
       "      <td>2</td>\n",
       "      <td>1</td>\n",
       "    </tr>\n",
       "    <tr>\n",
       "      <th>66</th>\n",
       "      <td>x^3-2x^2-5x+6</td>\n",
       "      <td>-5*x + x**3 - 2*x**2 + 6</td>\n",
       "      <td>\\left(x - 3\\right) \\left(x - 1\\right) \\left(x ...</td>\n",
       "      <td>Descomponer en factores</td>\n",
       "      <td>1BC</td>\n",
       "      <td>5 - Fracciones Algebraicas</td>\n",
       "      <td>p013e17-18</td>\n",
       "      <td>1</td>\n",
       "      <td>2</td>\n",
       "      <td>1</td>\n",
       "    </tr>\n",
       "    <tr>\n",
       "      <th>67</th>\n",
       "      <td>x^5+4x^4+x^3-10x^2-4x+8</td>\n",
       "      <td>-4*x - 10*x**2 + x**3 + x**5 + 4*x**4 + 8</td>\n",
       "      <td>\\left(x - 1\\right)^{2} \\left(x + 2\\right)^{3}</td>\n",
       "      <td>Descomponer en factores</td>\n",
       "      <td>1BC</td>\n",
       "      <td>5 - Fracciones Algebraicas</td>\n",
       "      <td>p013e17-18</td>\n",
       "      <td>1</td>\n",
       "      <td>2</td>\n",
       "      <td>1</td>\n",
       "    </tr>\n",
       "    <tr>\n",
       "      <th>68</th>\n",
       "      <td>x^3+3x^2-2x-6</td>\n",
       "      <td>-2*x + x**3 + 3*x**2 - 6</td>\n",
       "      <td>\\left(x + 3\\right) \\left(x - \\sqrt{2}\\right) \\...</td>\n",
       "      <td>Descomponer en factores</td>\n",
       "      <td>1BC</td>\n",
       "      <td>5 - Fracciones Algebraicas</td>\n",
       "      <td>p013e17-18</td>\n",
       "      <td>1</td>\n",
       "      <td>2</td>\n",
       "      <td>1</td>\n",
       "    </tr>\n",
       "    <tr>\n",
       "      <th>69</th>\n",
       "      <td>x^3-3x^2-13x+15</td>\n",
       "      <td>-13*x + x**3 - 3*x**2 + 15</td>\n",
       "      <td>\\left(x - 5\\right) \\left(x - 1\\right) \\left(x ...</td>\n",
       "      <td>Descomponer en factores</td>\n",
       "      <td>1BC</td>\n",
       "      <td>5 - Fracciones Algebraicas</td>\n",
       "      <td>p013e17-18</td>\n",
       "      <td>1</td>\n",
       "      <td>2</td>\n",
       "      <td>1</td>\n",
       "    </tr>\n",
       "    <tr>\n",
       "      <th>70</th>\n",
       "      <td>x^3+x^2-6x</td>\n",
       "      <td>-6*x + x**3 + x**2</td>\n",
       "      <td>x \\left(x - 2\\right) \\left(x + 3\\right)</td>\n",
       "      <td>Descomponer en factores</td>\n",
       "      <td>1BC</td>\n",
       "      <td>5 - Fracciones Algebraicas</td>\n",
       "      <td>p013e17-18</td>\n",
       "      <td>1</td>\n",
       "      <td>2</td>\n",
       "      <td>1</td>\n",
       "    </tr>\n",
       "    <tr>\n",
       "      <th>71</th>\n",
       "      <td>3x^3+x^2-12x-4</td>\n",
       "      <td>-12*x + 3*x**3 + x**2 - 4</td>\n",
       "      <td>3 \\left(x - 2\\right) \\left(x + \\frac{1}{3}\\rig...</td>\n",
       "      <td>Descomponer en factores</td>\n",
       "      <td>1BC</td>\n",
       "      <td>5 - Fracciones Algebraicas</td>\n",
       "      <td>p013e17-18</td>\n",
       "      <td>1</td>\n",
       "      <td>2</td>\n",
       "      <td>1</td>\n",
       "    </tr>\n",
       "    <tr>\n",
       "      <th>72</th>\n",
       "      <td>x^4+2x^3-x^2-2x</td>\n",
       "      <td>-2*x - x**2 + x**4 + 2*x**3</td>\n",
       "      <td>x \\left(x - 1\\right) \\left(x + 1\\right) \\left(...</td>\n",
       "      <td>Descomponer en factores</td>\n",
       "      <td>1BC</td>\n",
       "      <td>5 - Fracciones Algebraicas</td>\n",
       "      <td>p013e17-18</td>\n",
       "      <td>1</td>\n",
       "      <td>2</td>\n",
       "      <td>1</td>\n",
       "    </tr>\n",
       "    <tr>\n",
       "      <th>73</th>\n",
       "      <td>x^4-2x^3+2x^2-2x+1</td>\n",
       "      <td>-2*x + 2*x**2 + x**4 - 2*x**3 + 1</td>\n",
       "      <td>\\left(x - 1\\right)^{2} \\left(x^{2} + 1\\right)</td>\n",
       "      <td>Descomponer en factores</td>\n",
       "      <td>1BC</td>\n",
       "      <td>5 - Fracciones Algebraicas</td>\n",
       "      <td>p013e17-18</td>\n",
       "      <td>1</td>\n",
       "      <td>2</td>\n",
       "      <td>1</td>\n",
       "    </tr>\n",
       "    <tr>\n",
       "      <th>74</th>\n",
       "      <td>x^4+2x^3-3x^2-4x+4</td>\n",
       "      <td>-4*x - 3*x**2 + x**4 + 2*x**3 + 4</td>\n",
       "      <td>\\left(x - 1\\right)^{2} \\left(x + 2\\right)^{2}</td>\n",
       "      <td>Descomponer en factores</td>\n",
       "      <td>1BC</td>\n",
       "      <td>5 - Fracciones Algebraicas</td>\n",
       "      <td>p013e17-18</td>\n",
       "      <td>1</td>\n",
       "      <td>2</td>\n",
       "      <td>1</td>\n",
       "    </tr>\n",
       "    <tr>\n",
       "      <th>75</th>\n",
       "      <td>x^3+4x^2+x-6</td>\n",
       "      <td>x + x**3 + 4*x**2 - 6</td>\n",
       "      <td>\\left(x - 1\\right) \\left(x + 2\\right) \\left(x ...</td>\n",
       "      <td>Descomponer en factores</td>\n",
       "      <td>1BC</td>\n",
       "      <td>5 - Fracciones Algebraicas</td>\n",
       "      <td>p013e17-18</td>\n",
       "      <td>1</td>\n",
       "      <td>2</td>\n",
       "      <td>1</td>\n",
       "    </tr>\n",
       "    <tr>\n",
       "      <th>76</th>\n",
       "      <td>x^5- 4x^3-x^2+4</td>\n",
       "      <td>-x**2 + x**5 - 4*x**3 + 4</td>\n",
       "      <td>\\left(x - 2\\right) \\left(x - 1\\right) \\left(x ...</td>\n",
       "      <td>Descomponer en factores</td>\n",
       "      <td>1BC</td>\n",
       "      <td>5 - Fracciones Algebraicas</td>\n",
       "      <td>p013e17-18</td>\n",
       "      <td>1</td>\n",
       "      <td>2</td>\n",
       "      <td>1</td>\n",
       "    </tr>\n",
       "  </tbody>\n",
       "</table>\n",
       "</div>"
      ],
      "text/plain": [
       "            enunciado_latex                                  enunciado  \\\n",
       "56                   x^2-81                                  x**2 - 81   \n",
       "57                    x^2-2                                   x**2 - 2   \n",
       "58                   4x^2-9                                 4*x**2 - 9   \n",
       "59                    x^3-x                                   x**3 - x   \n",
       "60                   x^2-3x                                 x**2 - 3*x   \n",
       "61                 x^2-2x+1                             x**2 - 2*x + 1   \n",
       "62            x^5-3x^4+2x^3                     2*x**3 + x**5 - 3*x**4   \n",
       "63                 x^2-x-30                              x**2 - x - 30   \n",
       "64                 x^2+2x+1                             x**2 + 2*x + 1   \n",
       "65              x^3-x^2-x+1                       -x + x**3 - x**2 + 1   \n",
       "66            x^3-2x^2-5x+6                   -5*x + x**3 - 2*x**2 + 6   \n",
       "67  x^5+4x^4+x^3-10x^2-4x+8  -4*x - 10*x**2 + x**3 + x**5 + 4*x**4 + 8   \n",
       "68            x^3+3x^2-2x-6                   -2*x + x**3 + 3*x**2 - 6   \n",
       "69          x^3-3x^2-13x+15                 -13*x + x**3 - 3*x**2 + 15   \n",
       "70               x^3+x^2-6x                         -6*x + x**3 + x**2   \n",
       "71           3x^3+x^2-12x-4                  -12*x + 3*x**3 + x**2 - 4   \n",
       "72          x^4+2x^3-x^2-2x                -2*x - x**2 + x**4 + 2*x**3   \n",
       "73       x^4-2x^3+2x^2-2x+1          -2*x + 2*x**2 + x**4 - 2*x**3 + 1   \n",
       "74       x^4+2x^3-3x^2-4x+4          -4*x - 3*x**2 + x**4 + 2*x**3 + 4   \n",
       "75             x^3+4x^2+x-6                      x + x**3 + 4*x**2 - 6   \n",
       "76          x^5- 4x^3-x^2+4                  -x**2 + x**5 - 4*x**3 + 4   \n",
       "\n",
       "                                             solucion  \\\n",
       "56              \\left(x - 9\\right) \\left(x + 9\\right)   \n",
       "57  \\left(x - \\sqrt{2}\\right) \\left(x + \\sqrt{2}\\r...   \n",
       "58  4 \\left(x - \\frac{3}{2}\\right) \\left(x + \\frac...   \n",
       "59            x \\left(x - 1\\right) \\left(x + 1\\right)   \n",
       "60                               x \\left(x - 3\\right)   \n",
       "61                             \\left(x - 1\\right)^{2}   \n",
       "62        x^{3} \\left(x - 2\\right) \\left(x - 1\\right)   \n",
       "63              \\left(x - 6\\right) \\left(x + 5\\right)   \n",
       "64                             \\left(x + 1\\right)^{2}   \n",
       "65          \\left(x - 1\\right)^{2} \\left(x + 1\\right)   \n",
       "66  \\left(x - 3\\right) \\left(x - 1\\right) \\left(x ...   \n",
       "67      \\left(x - 1\\right)^{2} \\left(x + 2\\right)^{3}   \n",
       "68  \\left(x + 3\\right) \\left(x - \\sqrt{2}\\right) \\...   \n",
       "69  \\left(x - 5\\right) \\left(x - 1\\right) \\left(x ...   \n",
       "70            x \\left(x - 2\\right) \\left(x + 3\\right)   \n",
       "71  3 \\left(x - 2\\right) \\left(x + \\frac{1}{3}\\rig...   \n",
       "72  x \\left(x - 1\\right) \\left(x + 1\\right) \\left(...   \n",
       "73      \\left(x - 1\\right)^{2} \\left(x^{2} + 1\\right)   \n",
       "74      \\left(x - 1\\right)^{2} \\left(x + 2\\right)^{2}   \n",
       "75  \\left(x - 1\\right) \\left(x + 2\\right) \\left(x ...   \n",
       "76  \\left(x - 2\\right) \\left(x - 1\\right) \\left(x ...   \n",
       "\n",
       "                      texto curso                      titulo n_ejercicio  \\\n",
       "56  Descomponer en factores   1BC  5 - Fracciones Algebraicas  p013e17-18   \n",
       "57  Descomponer en factores   1BC  5 - Fracciones Algebraicas  p013e17-18   \n",
       "58  Descomponer en factores   1BC  5 - Fracciones Algebraicas  p013e17-18   \n",
       "59  Descomponer en factores   1BC  5 - Fracciones Algebraicas  p013e17-18   \n",
       "60  Descomponer en factores   1BC  5 - Fracciones Algebraicas  p013e17-18   \n",
       "61  Descomponer en factores   1BC  5 - Fracciones Algebraicas  p013e17-18   \n",
       "62  Descomponer en factores   1BC  5 - Fracciones Algebraicas  p013e17-18   \n",
       "63  Descomponer en factores   1BC  5 - Fracciones Algebraicas  p013e17-18   \n",
       "64  Descomponer en factores   1BC  5 - Fracciones Algebraicas  p013e17-18   \n",
       "65  Descomponer en factores   1BC  5 - Fracciones Algebraicas  p013e17-18   \n",
       "66  Descomponer en factores   1BC  5 - Fracciones Algebraicas  p013e17-18   \n",
       "67  Descomponer en factores   1BC  5 - Fracciones Algebraicas  p013e17-18   \n",
       "68  Descomponer en factores   1BC  5 - Fracciones Algebraicas  p013e17-18   \n",
       "69  Descomponer en factores   1BC  5 - Fracciones Algebraicas  p013e17-18   \n",
       "70  Descomponer en factores   1BC  5 - Fracciones Algebraicas  p013e17-18   \n",
       "71  Descomponer en factores   1BC  5 - Fracciones Algebraicas  p013e17-18   \n",
       "72  Descomponer en factores   1BC  5 - Fracciones Algebraicas  p013e17-18   \n",
       "73  Descomponer en factores   1BC  5 - Fracciones Algebraicas  p013e17-18   \n",
       "74  Descomponer en factores   1BC  5 - Fracciones Algebraicas  p013e17-18   \n",
       "75  Descomponer en factores   1BC  5 - Fracciones Algebraicas  p013e17-18   \n",
       "76  Descomponer en factores   1BC  5 - Fracciones Algebraicas  p013e17-18   \n",
       "\n",
       "    dificultad  n_columnas  puntos  \n",
       "56           1           2       1  \n",
       "57           1           2       1  \n",
       "58           1           2       1  \n",
       "59           1           2       1  \n",
       "60           1           2       1  \n",
       "61           1           2       1  \n",
       "62           1           2       1  \n",
       "63           1           2       1  \n",
       "64           1           2       1  \n",
       "65           1           2       1  \n",
       "66           1           2       1  \n",
       "67           1           2       1  \n",
       "68           1           2       1  \n",
       "69           1           2       1  \n",
       "70           1           2       1  \n",
       "71           1           2       1  \n",
       "72           1           2       1  \n",
       "73           1           2       1  \n",
       "74           1           2       1  \n",
       "75           1           2       1  \n",
       "76           1           2       1  "
      ]
     },
     "metadata": {},
     "output_type": "display_data"
    },
    {
     "data": {
      "text/markdown": [
       "**Ejercicio: **p013e19"
      ],
      "text/plain": [
       "<IPython.core.display.Markdown object>"
      ]
     },
     "metadata": {},
     "output_type": "display_data"
    },
    {
     "data": {
      "text/html": [
       "<div>\n",
       "<style scoped>\n",
       "    .dataframe tbody tr th:only-of-type {\n",
       "        vertical-align: middle;\n",
       "    }\n",
       "\n",
       "    .dataframe tbody tr th {\n",
       "        vertical-align: top;\n",
       "    }\n",
       "\n",
       "    .dataframe thead th {\n",
       "        text-align: right;\n",
       "    }\n",
       "</style>\n",
       "<table border=\"1\" class=\"dataframe\">\n",
       "  <thead>\n",
       "    <tr style=\"text-align: right;\">\n",
       "      <th></th>\n",
       "      <th>enunciado_latex</th>\n",
       "      <th>enunciado</th>\n",
       "      <th>solucion</th>\n",
       "      <th>texto</th>\n",
       "      <th>curso</th>\n",
       "      <th>titulo</th>\n",
       "      <th>n_ejercicio</th>\n",
       "      <th>dificultad</th>\n",
       "      <th>n_columnas</th>\n",
       "      <th>puntos</th>\n",
       "    </tr>\n",
       "  </thead>\n",
       "  <tbody>\n",
       "    <tr>\n",
       "      <th>77</th>\n",
       "      <td>A(x)= x^4-4\\  y \\ \\  B(x)= x^3+2x</td>\n",
       "      <td>[ x^4-4, x^3+2x]</td>\n",
       "      <td>x^{2} + 2\\ y \\ x^{5} - 4 x</td>\n",
       "      <td>Halla el m.c.d. y el m.c.m. de los polinomios:</td>\n",
       "      <td>1BC</td>\n",
       "      <td>5 - Fracciones Algebraicas</td>\n",
       "      <td>p013e19</td>\n",
       "      <td>1</td>\n",
       "      <td>2</td>\n",
       "      <td>1</td>\n",
       "    </tr>\n",
       "    <tr>\n",
       "      <th>78</th>\n",
       "      <td>A(x)= x^3-9x\\  y \\ \\  B(x)= (x-1)(x+3)^2</td>\n",
       "      <td>[ x^3-9x, (x-1)(x+3)^2]</td>\n",
       "      <td>x + 3\\ y \\ x^{5} + 2 x^{4} - 12 x^{3} - 18 x^{...</td>\n",
       "      <td>Halla el m.c.d. y el m.c.m. de los polinomios:</td>\n",
       "      <td>1BC</td>\n",
       "      <td>5 - Fracciones Algebraicas</td>\n",
       "      <td>p013e19</td>\n",
       "      <td>1</td>\n",
       "      <td>2</td>\n",
       "      <td>1</td>\n",
       "    </tr>\n",
       "    <tr>\n",
       "      <th>79</th>\n",
       "      <td>A(x)= x^3+x^2-2x\\  y \\ \\  B(x)= x^3+2x^2</td>\n",
       "      <td>[ x^3+x^2-2x, x^3+2x^2]</td>\n",
       "      <td>1\\ y \\ x^{6} + 3 x^{5} - 4 x^{3}</td>\n",
       "      <td>Halla el m.c.d. y el m.c.m. de los polinomios:</td>\n",
       "      <td>1BC</td>\n",
       "      <td>5 - Fracciones Algebraicas</td>\n",
       "      <td>p013e19</td>\n",
       "      <td>1</td>\n",
       "      <td>2</td>\n",
       "      <td>1</td>\n",
       "    </tr>\n",
       "  </tbody>\n",
       "</table>\n",
       "</div>"
      ],
      "text/plain": [
       "                               enunciado_latex                enunciado  \\\n",
       "77          A(x)= x^4-4\\  y \\ \\  B(x)= x^3+2x          [ x^4-4, x^3+2x]   \n",
       "78   A(x)= x^3-9x\\  y \\ \\  B(x)= (x-1)(x+3)^2   [ x^3-9x, (x-1)(x+3)^2]   \n",
       "79   A(x)= x^3+x^2-2x\\  y \\ \\  B(x)= x^3+2x^2   [ x^3+x^2-2x, x^3+2x^2]   \n",
       "\n",
       "                                             solucion  \\\n",
       "77                         x^{2} + 2\\ y \\ x^{5} - 4 x   \n",
       "78  x + 3\\ y \\ x^{5} + 2 x^{4} - 12 x^{3} - 18 x^{...   \n",
       "79                   1\\ y \\ x^{6} + 3 x^{5} - 4 x^{3}   \n",
       "\n",
       "                                              texto curso  \\\n",
       "77  Halla el m.c.d. y el m.c.m. de los polinomios:    1BC   \n",
       "78  Halla el m.c.d. y el m.c.m. de los polinomios:    1BC   \n",
       "79  Halla el m.c.d. y el m.c.m. de los polinomios:    1BC   \n",
       "\n",
       "                        titulo n_ejercicio  dificultad  n_columnas  puntos  \n",
       "77  5 - Fracciones Algebraicas     p013e19           1           2       1  \n",
       "78  5 - Fracciones Algebraicas     p013e19           1           2       1  \n",
       "79  5 - Fracciones Algebraicas     p013e19           1           2       1  "
      ]
     },
     "metadata": {},
     "output_type": "display_data"
    },
    {
     "data": {
      "text/markdown": [
       "**Ejercicio: **p013e21"
      ],
      "text/plain": [
       "<IPython.core.display.Markdown object>"
      ]
     },
     "metadata": {},
     "output_type": "display_data"
    },
    {
     "data": {
      "text/html": [
       "<div>\n",
       "<style scoped>\n",
       "    .dataframe tbody tr th:only-of-type {\n",
       "        vertical-align: middle;\n",
       "    }\n",
       "\n",
       "    .dataframe tbody tr th {\n",
       "        vertical-align: top;\n",
       "    }\n",
       "\n",
       "    .dataframe thead th {\n",
       "        text-align: right;\n",
       "    }\n",
       "</style>\n",
       "<table border=\"1\" class=\"dataframe\">\n",
       "  <thead>\n",
       "    <tr style=\"text-align: right;\">\n",
       "      <th></th>\n",
       "      <th>enunciado_latex</th>\n",
       "      <th>enunciado</th>\n",
       "      <th>solucion</th>\n",
       "      <th>texto</th>\n",
       "      <th>curso</th>\n",
       "      <th>titulo</th>\n",
       "      <th>n_ejercicio</th>\n",
       "      <th>dificultad</th>\n",
       "      <th>n_columnas</th>\n",
       "      <th>puntos</th>\n",
       "    </tr>\n",
       "  </thead>\n",
       "  <tbody>\n",
       "    <tr>\n",
       "      <th>80</th>\n",
       "      <td>x=0</td>\n",
       "      <td>x=0</td>\n",
       "      <td>3</td>\n",
       "      <td>Halla el valor numérico del polinomio $x^4-2x^...</td>\n",
       "      <td>1BC</td>\n",
       "      <td>5 - Fracciones Algebraicas</td>\n",
       "      <td>p013e21</td>\n",
       "      <td>1</td>\n",
       "      <td>3</td>\n",
       "      <td>1</td>\n",
       "    </tr>\n",
       "    <tr>\n",
       "      <th>81</th>\n",
       "      <td>x=1</td>\n",
       "      <td>x=1</td>\n",
       "      <td>1</td>\n",
       "      <td>Halla el valor numérico del polinomio $x^4-2x^...</td>\n",
       "      <td>1BC</td>\n",
       "      <td>5 - Fracciones Algebraicas</td>\n",
       "      <td>p013e21</td>\n",
       "      <td>1</td>\n",
       "      <td>3</td>\n",
       "      <td>1</td>\n",
       "    </tr>\n",
       "    <tr>\n",
       "      <th>82</th>\n",
       "      <td>x=2</td>\n",
       "      <td>x=2</td>\n",
       "      <td>-1</td>\n",
       "      <td>Halla el valor numérico del polinomio $x^4-2x^...</td>\n",
       "      <td>1BC</td>\n",
       "      <td>5 - Fracciones Algebraicas</td>\n",
       "      <td>p013e21</td>\n",
       "      <td>1</td>\n",
       "      <td>3</td>\n",
       "      <td>1</td>\n",
       "    </tr>\n",
       "    <tr>\n",
       "      <th>83</th>\n",
       "      <td>x=\\frac{2}{3}</td>\n",
       "      <td>x=\\</td>\n",
       "      <td>\\frac{175}{81}</td>\n",
       "      <td>Halla el valor numérico del polinomio $x^4-2x^...</td>\n",
       "      <td>1BC</td>\n",
       "      <td>5 - Fracciones Algebraicas</td>\n",
       "      <td>p013e21</td>\n",
       "      <td>1</td>\n",
       "      <td>3</td>\n",
       "      <td>1</td>\n",
       "    </tr>\n",
       "  </tbody>\n",
       "</table>\n",
       "</div>"
      ],
      "text/plain": [
       "   enunciado_latex enunciado        solucion  \\\n",
       "80             x=0       x=0               3   \n",
       "81             x=1       x=1               1   \n",
       "82             x=2       x=2              -1   \n",
       "83   x=\\frac{2}{3}       x=\\  \\frac{175}{81}   \n",
       "\n",
       "                                                texto curso  \\\n",
       "80  Halla el valor numérico del polinomio $x^4-2x^...   1BC   \n",
       "81  Halla el valor numérico del polinomio $x^4-2x^...   1BC   \n",
       "82  Halla el valor numérico del polinomio $x^4-2x^...   1BC   \n",
       "83  Halla el valor numérico del polinomio $x^4-2x^...   1BC   \n",
       "\n",
       "                        titulo n_ejercicio  dificultad  n_columnas  puntos  \n",
       "80  5 - Fracciones Algebraicas     p013e21           1           3       1  \n",
       "81  5 - Fracciones Algebraicas     p013e21           1           3       1  \n",
       "82  5 - Fracciones Algebraicas     p013e21           1           3       1  \n",
       "83  5 - Fracciones Algebraicas     p013e21           1           3       1  "
      ]
     },
     "metadata": {},
     "output_type": "display_data"
    },
    {
     "data": {
      "text/markdown": [
       "**Ejercicio: **p014e01y3"
      ],
      "text/plain": [
       "<IPython.core.display.Markdown object>"
      ]
     },
     "metadata": {},
     "output_type": "display_data"
    },
    {
     "data": {
      "text/html": [
       "<div>\n",
       "<style scoped>\n",
       "    .dataframe tbody tr th:only-of-type {\n",
       "        vertical-align: middle;\n",
       "    }\n",
       "\n",
       "    .dataframe tbody tr th {\n",
       "        vertical-align: top;\n",
       "    }\n",
       "\n",
       "    .dataframe thead th {\n",
       "        text-align: right;\n",
       "    }\n",
       "</style>\n",
       "<table border=\"1\" class=\"dataframe\">\n",
       "  <thead>\n",
       "    <tr style=\"text-align: right;\">\n",
       "      <th></th>\n",
       "      <th>enunciado_latex</th>\n",
       "      <th>enunciado</th>\n",
       "      <th>solucion</th>\n",
       "      <th>texto</th>\n",
       "      <th>curso</th>\n",
       "      <th>titulo</th>\n",
       "      <th>n_ejercicio</th>\n",
       "      <th>dificultad</th>\n",
       "      <th>n_columnas</th>\n",
       "      <th>puntos</th>\n",
       "    </tr>\n",
       "  </thead>\n",
       "  <tbody>\n",
       "    <tr>\n",
       "      <th>0</th>\n",
       "      <td>\\frac{{{x^2} - 1}}{{x + 3}} \\ y  \\ \\frac{{{x^3...</td>\n",
       "      <td>(-x + x**3 + 2*x**2 - 2)/(x**2 + 5*x + 6) - (x...</td>\n",
       "      <td>0</td>\n",
       "      <td>Comprueba si son equivalentes las siguientes f...</td>\n",
       "      <td>1BC</td>\n",
       "      <td>5 - Fracciones Algebraicas</td>\n",
       "      <td>p014e01y3</td>\n",
       "      <td>1</td>\n",
       "      <td>2</td>\n",
       "      <td>1</td>\n",
       "    </tr>\n",
       "    <tr>\n",
       "      <th>1</th>\n",
       "      <td>\\frac{{{x^2} - 4}}{{{x^2} - 2x}}  \\ y  \\ \\frac...</td>\n",
       "      <td>-(x**2 - 4)/(x**2 - 2*x) + (x + 2)/x</td>\n",
       "      <td>0</td>\n",
       "      <td>Comprueba si son equivalentes las siguientes f...</td>\n",
       "      <td>1BC</td>\n",
       "      <td>5 - Fracciones Algebraicas</td>\n",
       "      <td>p014e01y3</td>\n",
       "      <td>1</td>\n",
       "      <td>2</td>\n",
       "      <td>1</td>\n",
       "    </tr>\n",
       "  </tbody>\n",
       "</table>\n",
       "</div>"
      ],
      "text/plain": [
       "                                     enunciado_latex  \\\n",
       "0  \\frac{{{x^2} - 1}}{{x + 3}} \\ y  \\ \\frac{{{x^3...   \n",
       "1  \\frac{{{x^2} - 4}}{{{x^2} - 2x}}  \\ y  \\ \\frac...   \n",
       "\n",
       "                                           enunciado solucion  \\\n",
       "0  (-x + x**3 + 2*x**2 - 2)/(x**2 + 5*x + 6) - (x...        0   \n",
       "1               -(x**2 - 4)/(x**2 - 2*x) + (x + 2)/x        0   \n",
       "\n",
       "                                               texto curso  \\\n",
       "0  Comprueba si son equivalentes las siguientes f...   1BC   \n",
       "1  Comprueba si son equivalentes las siguientes f...   1BC   \n",
       "\n",
       "                       titulo n_ejercicio  dificultad  n_columnas  puntos  \n",
       "0  5 - Fracciones Algebraicas   p014e01y3           1           2       1  \n",
       "1  5 - Fracciones Algebraicas   p014e01y3           1           2       1  "
      ]
     },
     "metadata": {},
     "output_type": "display_data"
    },
    {
     "data": {
      "text/markdown": [
       "**Ejercicio: **p014e04"
      ],
      "text/plain": [
       "<IPython.core.display.Markdown object>"
      ]
     },
     "metadata": {},
     "output_type": "display_data"
    },
    {
     "data": {
      "text/html": [
       "<div>\n",
       "<style scoped>\n",
       "    .dataframe tbody tr th:only-of-type {\n",
       "        vertical-align: middle;\n",
       "    }\n",
       "\n",
       "    .dataframe tbody tr th {\n",
       "        vertical-align: top;\n",
       "    }\n",
       "\n",
       "    .dataframe thead th {\n",
       "        text-align: right;\n",
       "    }\n",
       "</style>\n",
       "<table border=\"1\" class=\"dataframe\">\n",
       "  <thead>\n",
       "    <tr style=\"text-align: right;\">\n",
       "      <th></th>\n",
       "      <th>enunciado_latex</th>\n",
       "      <th>enunciado</th>\n",
       "      <th>solucion</th>\n",
       "      <th>texto</th>\n",
       "      <th>curso</th>\n",
       "      <th>titulo</th>\n",
       "      <th>n_ejercicio</th>\n",
       "      <th>dificultad</th>\n",
       "      <th>n_columnas</th>\n",
       "      <th>puntos</th>\n",
       "    </tr>\n",
       "  </thead>\n",
       "  <tbody>\n",
       "    <tr>\n",
       "      <th>2</th>\n",
       "      <td>\\frac{{2{x^3} - 5{x^2} - 23x - 10}}{{{x^3} + 3...</td>\n",
       "      <td>(-23*x + 2*x**3 - 5*x**2 - 10)/(-4*x + x**3 + ...</td>\n",
       "      <td>\\frac{2 x^{2} - 9 x - 5}{x^{2} + x - 6}</td>\n",
       "      <td>Obtén la fracción irreducible (simplifica) equ...</td>\n",
       "      <td>1BC</td>\n",
       "      <td>5 - Fracciones Algebraicas</td>\n",
       "      <td>p014e04</td>\n",
       "      <td>1</td>\n",
       "      <td>2</td>\n",
       "      <td>1</td>\n",
       "    </tr>\n",
       "    <tr>\n",
       "      <th>3</th>\n",
       "      <td>\\frac{{{x^3} -16x}}{{{x^3} + 3{x^2} - 4x}}</td>\n",
       "      <td>(x**3 - 16*x)/(-4*x + x**3 + 3*x**2)</td>\n",
       "      <td>\\frac{x - 4}{x - 1}</td>\n",
       "      <td>Obtén la fracción irreducible (simplifica) equ...</td>\n",
       "      <td>1BC</td>\n",
       "      <td>5 - Fracciones Algebraicas</td>\n",
       "      <td>p014e04</td>\n",
       "      <td>1</td>\n",
       "      <td>2</td>\n",
       "      <td>1</td>\n",
       "    </tr>\n",
       "    <tr>\n",
       "      <th>4</th>\n",
       "      <td>\\frac{{{x^2} + 3x - 4}}{{{x^3} - x}}</td>\n",
       "      <td>(x**2 + 3*x - 4)/(x**3 - x)</td>\n",
       "      <td>\\frac{x + 4}{x^{2} + x}</td>\n",
       "      <td>Obtén la fracción irreducible (simplifica) equ...</td>\n",
       "      <td>1BC</td>\n",
       "      <td>5 - Fracciones Algebraicas</td>\n",
       "      <td>p014e04</td>\n",
       "      <td>1</td>\n",
       "      <td>2</td>\n",
       "      <td>1</td>\n",
       "    </tr>\n",
       "    <tr>\n",
       "      <th>5</th>\n",
       "      <td>\\frac{{{x^3} - 1}}{{{x^2} - x}}</td>\n",
       "      <td>(x**3 - 1)/(x**2 - x)</td>\n",
       "      <td>\\frac{x^{2} + x + 1}{x}</td>\n",
       "      <td>Obtén la fracción irreducible (simplifica) equ...</td>\n",
       "      <td>1BC</td>\n",
       "      <td>5 - Fracciones Algebraicas</td>\n",
       "      <td>p014e04</td>\n",
       "      <td>1</td>\n",
       "      <td>2</td>\n",
       "      <td>1</td>\n",
       "    </tr>\n",
       "  </tbody>\n",
       "</table>\n",
       "</div>"
      ],
      "text/plain": [
       "                                     enunciado_latex  \\\n",
       "2  \\frac{{2{x^3} - 5{x^2} - 23x - 10}}{{{x^3} + 3...   \n",
       "3         \\frac{{{x^3} -16x}}{{{x^3} + 3{x^2} - 4x}}   \n",
       "4               \\frac{{{x^2} + 3x - 4}}{{{x^3} - x}}   \n",
       "5                    \\frac{{{x^3} - 1}}{{{x^2} - x}}   \n",
       "\n",
       "                                           enunciado  \\\n",
       "2  (-23*x + 2*x**3 - 5*x**2 - 10)/(-4*x + x**3 + ...   \n",
       "3               (x**3 - 16*x)/(-4*x + x**3 + 3*x**2)   \n",
       "4                        (x**2 + 3*x - 4)/(x**3 - x)   \n",
       "5                              (x**3 - 1)/(x**2 - x)   \n",
       "\n",
       "                                  solucion  \\\n",
       "2  \\frac{2 x^{2} - 9 x - 5}{x^{2} + x - 6}   \n",
       "3                      \\frac{x - 4}{x - 1}   \n",
       "4                  \\frac{x + 4}{x^{2} + x}   \n",
       "5                  \\frac{x^{2} + x + 1}{x}   \n",
       "\n",
       "                                               texto curso  \\\n",
       "2  Obtén la fracción irreducible (simplifica) equ...   1BC   \n",
       "3  Obtén la fracción irreducible (simplifica) equ...   1BC   \n",
       "4  Obtén la fracción irreducible (simplifica) equ...   1BC   \n",
       "5  Obtén la fracción irreducible (simplifica) equ...   1BC   \n",
       "\n",
       "                       titulo n_ejercicio  dificultad  n_columnas  puntos  \n",
       "2  5 - Fracciones Algebraicas     p014e04           1           2       1  \n",
       "3  5 - Fracciones Algebraicas     p014e04           1           2       1  \n",
       "4  5 - Fracciones Algebraicas     p014e04           1           2       1  \n",
       "5  5 - Fracciones Algebraicas     p014e04           1           2       1  "
      ]
     },
     "metadata": {},
     "output_type": "display_data"
    },
    {
     "data": {
      "text/markdown": [
       "**Ejercicio: **p014e05"
      ],
      "text/plain": [
       "<IPython.core.display.Markdown object>"
      ]
     },
     "metadata": {},
     "output_type": "display_data"
    },
    {
     "data": {
      "text/html": [
       "<div>\n",
       "<style scoped>\n",
       "    .dataframe tbody tr th:only-of-type {\n",
       "        vertical-align: middle;\n",
       "    }\n",
       "\n",
       "    .dataframe tbody tr th {\n",
       "        vertical-align: top;\n",
       "    }\n",
       "\n",
       "    .dataframe thead th {\n",
       "        text-align: right;\n",
       "    }\n",
       "</style>\n",
       "<table border=\"1\" class=\"dataframe\">\n",
       "  <thead>\n",
       "    <tr style=\"text-align: right;\">\n",
       "      <th></th>\n",
       "      <th>enunciado_latex</th>\n",
       "      <th>enunciado</th>\n",
       "      <th>solucion</th>\n",
       "      <th>texto</th>\n",
       "      <th>curso</th>\n",
       "      <th>titulo</th>\n",
       "      <th>n_ejercicio</th>\n",
       "      <th>dificultad</th>\n",
       "      <th>n_columnas</th>\n",
       "      <th>puntos</th>\n",
       "    </tr>\n",
       "  </thead>\n",
       "  <tbody>\n",
       "    <tr>\n",
       "      <th>6</th>\n",
       "      <td>\\frac{{{x^2} - 9}}{{x + 3}}</td>\n",
       "      <td>(x**2 - 9)/(x + 3)</td>\n",
       "      <td>x - 3</td>\n",
       "      <td>Simplifica las siguientes fracciones algebraicas:</td>\n",
       "      <td>1BC</td>\n",
       "      <td>5 - Fracciones Algebraicas</td>\n",
       "      <td>p014e05</td>\n",
       "      <td>1</td>\n",
       "      <td>2</td>\n",
       "      <td>1</td>\n",
       "    </tr>\n",
       "    <tr>\n",
       "      <th>7</th>\n",
       "      <td>\\frac{{{x^2} - 1}}{{{x^3} - x}}</td>\n",
       "      <td>(x**2 - 1)/(x**3 - x)</td>\n",
       "      <td>\\frac{1}{x}</td>\n",
       "      <td>Simplifica las siguientes fracciones algebraicas:</td>\n",
       "      <td>1BC</td>\n",
       "      <td>5 - Fracciones Algebraicas</td>\n",
       "      <td>p014e05</td>\n",
       "      <td>1</td>\n",
       "      <td>2</td>\n",
       "      <td>1</td>\n",
       "    </tr>\n",
       "    <tr>\n",
       "      <th>8</th>\n",
       "      <td>\\frac{{{x^4} - 4{x^2} + 4}}{{{x^4} - 4}}</td>\n",
       "      <td>(x**4 - 4*x**2 + 4)/(x**4 - 4)</td>\n",
       "      <td>\\frac{x^{2} - 2}{x^{2} + 2}</td>\n",
       "      <td>Simplifica las siguientes fracciones algebraicas:</td>\n",
       "      <td>1BC</td>\n",
       "      <td>5 - Fracciones Algebraicas</td>\n",
       "      <td>p014e05</td>\n",
       "      <td>1</td>\n",
       "      <td>2</td>\n",
       "      <td>1</td>\n",
       "    </tr>\n",
       "    <tr>\n",
       "      <th>9</th>\n",
       "      <td>\\frac{{3{x^2} + x}}{{3{x^3} + {x^2} - 12x - 4}}</td>\n",
       "      <td>(3*x**2 + x)/(-12*x + 3*x**3 + x**2 - 4)</td>\n",
       "      <td>\\frac{3 x}{3 x^{2} - 12}</td>\n",
       "      <td>Simplifica las siguientes fracciones algebraicas:</td>\n",
       "      <td>1BC</td>\n",
       "      <td>5 - Fracciones Algebraicas</td>\n",
       "      <td>p014e05</td>\n",
       "      <td>1</td>\n",
       "      <td>2</td>\n",
       "      <td>1</td>\n",
       "    </tr>\n",
       "    <tr>\n",
       "      <th>10</th>\n",
       "      <td>\\frac{{2{x^3} + 3{x^2} - 8x + 3}}{{2{x^3} - {x...</td>\n",
       "      <td>(-8*x + 2*x**3 + 3*x**2 + 3)/(-2*x + 2*x**3 - ...</td>\n",
       "      <td>\\frac{2 x^{3} + 3 x^{2} - 8 x + 3}{2 x^{3} - x...</td>\n",
       "      <td>Simplifica las siguientes fracciones algebraicas:</td>\n",
       "      <td>1BC</td>\n",
       "      <td>5 - Fracciones Algebraicas</td>\n",
       "      <td>p014e05</td>\n",
       "      <td>1</td>\n",
       "      <td>2</td>\n",
       "      <td>1</td>\n",
       "    </tr>\n",
       "    <tr>\n",
       "      <th>11</th>\n",
       "      <td>\\frac{{{x^3} - 5{x^2} + 6x}}{{{x^3} - 4x}}</td>\n",
       "      <td>(6*x + x**3 - 5*x**2)/(x**3 - 4*x)</td>\n",
       "      <td>\\frac{x - 3}{x + 2}</td>\n",
       "      <td>Simplifica las siguientes fracciones algebraicas:</td>\n",
       "      <td>1BC</td>\n",
       "      <td>5 - Fracciones Algebraicas</td>\n",
       "      <td>p014e05</td>\n",
       "      <td>1</td>\n",
       "      <td>2</td>\n",
       "      <td>1</td>\n",
       "    </tr>\n",
       "    <tr>\n",
       "      <th>12</th>\n",
       "      <td>\\frac{{2x - 5}}{{2{x^3} - 5{x^2} - 2x + 5}}</td>\n",
       "      <td>(2*x - 5)/(-2*x + 2*x**3 - 5*x**2 + 5)</td>\n",
       "      <td>\\frac{2}{2 x^{2} - 2}</td>\n",
       "      <td>Simplifica las siguientes fracciones algebraicas:</td>\n",
       "      <td>1BC</td>\n",
       "      <td>5 - Fracciones Algebraicas</td>\n",
       "      <td>p014e05</td>\n",
       "      <td>1</td>\n",
       "      <td>2</td>\n",
       "      <td>1</td>\n",
       "    </tr>\n",
       "    <tr>\n",
       "      <th>13</th>\n",
       "      <td>\\frac{x - 2}{{x^2} - 4}</td>\n",
       "      <td>(x - 2)/(x**2 - 4)</td>\n",
       "      <td>\\frac{1}{x + 2}</td>\n",
       "      <td>Simplifica las siguientes fracciones algebraicas:</td>\n",
       "      <td>1BC</td>\n",
       "      <td>5 - Fracciones Algebraicas</td>\n",
       "      <td>p014e05</td>\n",
       "      <td>1</td>\n",
       "      <td>2</td>\n",
       "      <td>1</td>\n",
       "    </tr>\n",
       "    <tr>\n",
       "      <th>14</th>\n",
       "      <td>\\frac{{{x^2} - 2}}{{x - \\sqrt {2 }}}</td>\n",
       "      <td>(x**2 - 2)/(x - sqrt(2))</td>\n",
       "      <td>x + \\sqrt{2}</td>\n",
       "      <td>Simplifica las siguientes fracciones algebraicas:</td>\n",
       "      <td>1BC</td>\n",
       "      <td>5 - Fracciones Algebraicas</td>\n",
       "      <td>p014e05</td>\n",
       "      <td>1</td>\n",
       "      <td>2</td>\n",
       "      <td>1</td>\n",
       "    </tr>\n",
       "    <tr>\n",
       "      <th>15</th>\n",
       "      <td>\\frac{{{x^2} + 2x + 1}}{{{x^2} - 1}}</td>\n",
       "      <td>(x**2 + 2*x + 1)/(x**2 - 1)</td>\n",
       "      <td>\\frac{x + 1}{x - 1}</td>\n",
       "      <td>Simplifica las siguientes fracciones algebraicas:</td>\n",
       "      <td>1BC</td>\n",
       "      <td>5 - Fracciones Algebraicas</td>\n",
       "      <td>p014e05</td>\n",
       "      <td>1</td>\n",
       "      <td>2</td>\n",
       "      <td>1</td>\n",
       "    </tr>\n",
       "    <tr>\n",
       "      <th>16</th>\n",
       "      <td>\\frac{{{x^3} - 2{x^2} - 5x + 6}}{{{x^2} + x - 2}}</td>\n",
       "      <td>(-5*x + x**3 - 2*x**2 + 6)/(x**2 + x - 2)</td>\n",
       "      <td>x - 3</td>\n",
       "      <td>Simplifica las siguientes fracciones algebraicas:</td>\n",
       "      <td>1BC</td>\n",
       "      <td>5 - Fracciones Algebraicas</td>\n",
       "      <td>p014e05</td>\n",
       "      <td>1</td>\n",
       "      <td>2</td>\n",
       "      <td>1</td>\n",
       "    </tr>\n",
       "    <tr>\n",
       "      <th>17</th>\n",
       "      <td>\\frac{2}{{x + 7}} + \\frac{{x + 4}}{{x - 7}}</td>\n",
       "      <td>2/(x + 7) + (x + 4)/(x - 7)</td>\n",
       "      <td>\\frac{x^{2} + 13 x + 14}{x^{2} - 49}</td>\n",
       "      <td>Calcula, simplificando el resultado:</td>\n",
       "      <td>1BC</td>\n",
       "      <td>5 - Fracciones Algebraicas</td>\n",
       "      <td>p014e05</td>\n",
       "      <td>1</td>\n",
       "      <td>2</td>\n",
       "      <td>1</td>\n",
       "    </tr>\n",
       "    <tr>\n",
       "      <th>18</th>\n",
       "      <td>\\frac{1}{{x + 5}} + \\frac{x}{{{x^2} + 10x + 25}}</td>\n",
       "      <td>x/(x**2 + 10*x + 25) + 1/(x + 5)</td>\n",
       "      <td>\\frac{2 x + 5}{x^{2} + 10 x + 25}</td>\n",
       "      <td>Calcula, simplificando el resultado:</td>\n",
       "      <td>1BC</td>\n",
       "      <td>5 - Fracciones Algebraicas</td>\n",
       "      <td>p014e05</td>\n",
       "      <td>1</td>\n",
       "      <td>2</td>\n",
       "      <td>1</td>\n",
       "    </tr>\n",
       "    <tr>\n",
       "      <th>19</th>\n",
       "      <td>\\frac{1}{{x + 5}} - \\frac{x}{{{x^2} + 10x + 25}}</td>\n",
       "      <td>-x/(x**2 + 10*x + 25) + 1/(x + 5)</td>\n",
       "      <td>\\frac{5}{x^{2} + 10 x + 25}</td>\n",
       "      <td>Calcula, simplificando el resultado:</td>\n",
       "      <td>1BC</td>\n",
       "      <td>5 - Fracciones Algebraicas</td>\n",
       "      <td>p014e05</td>\n",
       "      <td>1</td>\n",
       "      <td>2</td>\n",
       "      <td>1</td>\n",
       "    </tr>\n",
       "    <tr>\n",
       "      <th>20</th>\n",
       "      <td>\\frac{{12}}{{x - 3}} + \\frac{{x + 4}}{{2x + 1}...</td>\n",
       "      <td>-x/(x**2 - 6*x + 9) + (x + 4)/(2*x + 1) + 12/(...</td>\n",
       "      <td>\\frac{x^{3} + 20 x^{2} - 76 x}{2 x^{3} - 11 x^...</td>\n",
       "      <td>Calcula, simplificando el resultado:</td>\n",
       "      <td>1BC</td>\n",
       "      <td>5 - Fracciones Algebraicas</td>\n",
       "      <td>p014e05</td>\n",
       "      <td>1</td>\n",
       "      <td>2</td>\n",
       "      <td>1</td>\n",
       "    </tr>\n",
       "    <tr>\n",
       "      <th>21</th>\n",
       "      <td>\\frac{1}{{x - 1}} \\cdot \\frac{{{x^2} - 1}}{{x ...</td>\n",
       "      <td>(((x**2 - 1)/(x + 2))/(x - 1))*((x + 2)/(x - 3))</td>\n",
       "      <td>\\frac{x + 1}{x - 3}</td>\n",
       "      <td>Calcula, simplificando el resultado:</td>\n",
       "      <td>1BC</td>\n",
       "      <td>5 - Fracciones Algebraicas</td>\n",
       "      <td>p014e05</td>\n",
       "      <td>1</td>\n",
       "      <td>2</td>\n",
       "      <td>1</td>\n",
       "    </tr>\n",
       "    <tr>\n",
       "      <th>22</th>\n",
       "      <td>\\frac{{2x + 1}}{x} \\cdot \\frac{{{x^2} - 3x}}{{...</td>\n",
       "      <td>((2*x + 1)/x)*((x**2 - 3*x)/(4*x**2 - 1))</td>\n",
       "      <td>\\frac{2 x - 6}{4 x - 2}</td>\n",
       "      <td>Calcula, simplificando el resultado:</td>\n",
       "      <td>1BC</td>\n",
       "      <td>5 - Fracciones Algebraicas</td>\n",
       "      <td>p014e05</td>\n",
       "      <td>1</td>\n",
       "      <td>2</td>\n",
       "      <td>1</td>\n",
       "    </tr>\n",
       "    <tr>\n",
       "      <th>23</th>\n",
       "      <td>\\frac{{3x - 1}}{x} \\cdot \\frac{{{x^2}}}{{9{x^2...</td>\n",
       "      <td>((3*x - 1)/x)*(x**2/(9*x**2 - 1))</td>\n",
       "      <td>\\frac{3 x}{9 x + 3}</td>\n",
       "      <td>Calcula, simplificando el resultado:</td>\n",
       "      <td>1BC</td>\n",
       "      <td>5 - Fracciones Algebraicas</td>\n",
       "      <td>p014e05</td>\n",
       "      <td>1</td>\n",
       "      <td>2</td>\n",
       "      <td>1</td>\n",
       "    </tr>\n",
       "    <tr>\n",
       "      <th>24</th>\n",
       "      <td>{7x}:\\frac{{{x^2} - 4x}}{{x - 2}}</td>\n",
       "      <td>(7*x)/(((x**2 - 4*x)/(x - 2)))</td>\n",
       "      <td>\\frac{7 x - 14}{x - 4}</td>\n",
       "      <td>Calcula, simplificando el resultado:</td>\n",
       "      <td>1BC</td>\n",
       "      <td>5 - Fracciones Algebraicas</td>\n",
       "      <td>p014e05</td>\n",
       "      <td>1</td>\n",
       "      <td>2</td>\n",
       "      <td>1</td>\n",
       "    </tr>\n",
       "    <tr>\n",
       "      <th>25</th>\n",
       "      <td>\\frac{{x - 3}}{{x - 1}}:\\frac{{{x^2} - 3x}}{{{...</td>\n",
       "      <td>((x - 3)/(x - 1))/(((x**2 - 3*x)/(x**2 - 1)))</td>\n",
       "      <td>\\frac{x + 1}{x}</td>\n",
       "      <td>Calcula, simplificando el resultado:</td>\n",
       "      <td>1BC</td>\n",
       "      <td>5 - Fracciones Algebraicas</td>\n",
       "      <td>p014e05</td>\n",
       "      <td>1</td>\n",
       "      <td>2</td>\n",
       "      <td>1</td>\n",
       "    </tr>\n",
       "    <tr>\n",
       "      <th>26</th>\n",
       "      <td>\\frac{{{x^2} - 3x - 4}}{x}:\\frac{{x + 1}}{{{x^...</td>\n",
       "      <td>((x**2 - 3*x - 4)/x)/(((x + 1)/(x**2 + 2*x)))</td>\n",
       "      <td>x^{2} - 2 x - 8</td>\n",
       "      <td>Calcula, simplificando el resultado:</td>\n",
       "      <td>1BC</td>\n",
       "      <td>5 - Fracciones Algebraicas</td>\n",
       "      <td>p014e05</td>\n",
       "      <td>1</td>\n",
       "      <td>2</td>\n",
       "      <td>1</td>\n",
       "    </tr>\n",
       "  </tbody>\n",
       "</table>\n",
       "</div>"
      ],
      "text/plain": [
       "                                      enunciado_latex  \\\n",
       "6                         \\frac{{{x^2} - 9}}{{x + 3}}   \n",
       "7                     \\frac{{{x^2} - 1}}{{{x^3} - x}}   \n",
       "8            \\frac{{{x^4} - 4{x^2} + 4}}{{{x^4} - 4}}   \n",
       "9     \\frac{{3{x^2} + x}}{{3{x^3} + {x^2} - 12x - 4}}   \n",
       "10  \\frac{{2{x^3} + 3{x^2} - 8x + 3}}{{2{x^3} - {x...   \n",
       "11         \\frac{{{x^3} - 5{x^2} + 6x}}{{{x^3} - 4x}}   \n",
       "12        \\frac{{2x - 5}}{{2{x^3} - 5{x^2} - 2x + 5}}   \n",
       "13                            \\frac{x - 2}{{x^2} - 4}   \n",
       "14               \\frac{{{x^2} - 2}}{{x - \\sqrt {2 }}}   \n",
       "15               \\frac{{{x^2} + 2x + 1}}{{{x^2} - 1}}   \n",
       "16  \\frac{{{x^3} - 2{x^2} - 5x + 6}}{{{x^2} + x - 2}}   \n",
       "17        \\frac{2}{{x + 7}} + \\frac{{x + 4}}{{x - 7}}   \n",
       "18   \\frac{1}{{x + 5}} + \\frac{x}{{{x^2} + 10x + 25}}   \n",
       "19   \\frac{1}{{x + 5}} - \\frac{x}{{{x^2} + 10x + 25}}   \n",
       "20  \\frac{{12}}{{x - 3}} + \\frac{{x + 4}}{{2x + 1}...   \n",
       "21  \\frac{1}{{x - 1}} \\cdot \\frac{{{x^2} - 1}}{{x ...   \n",
       "22  \\frac{{2x + 1}}{x} \\cdot \\frac{{{x^2} - 3x}}{{...   \n",
       "23  \\frac{{3x - 1}}{x} \\cdot \\frac{{{x^2}}}{{9{x^2...   \n",
       "24                  {7x}:\\frac{{{x^2} - 4x}}{{x - 2}}   \n",
       "25  \\frac{{x - 3}}{{x - 1}}:\\frac{{{x^2} - 3x}}{{{...   \n",
       "26  \\frac{{{x^2} - 3x - 4}}{x}:\\frac{{x + 1}}{{{x^...   \n",
       "\n",
       "                                            enunciado  \\\n",
       "6                                  (x**2 - 9)/(x + 3)   \n",
       "7                               (x**2 - 1)/(x**3 - x)   \n",
       "8                      (x**4 - 4*x**2 + 4)/(x**4 - 4)   \n",
       "9            (3*x**2 + x)/(-12*x + 3*x**3 + x**2 - 4)   \n",
       "10  (-8*x + 2*x**3 + 3*x**2 + 3)/(-2*x + 2*x**3 - ...   \n",
       "11                 (6*x + x**3 - 5*x**2)/(x**3 - 4*x)   \n",
       "12             (2*x - 5)/(-2*x + 2*x**3 - 5*x**2 + 5)   \n",
       "13                                 (x - 2)/(x**2 - 4)   \n",
       "14                           (x**2 - 2)/(x - sqrt(2))   \n",
       "15                        (x**2 + 2*x + 1)/(x**2 - 1)   \n",
       "16          (-5*x + x**3 - 2*x**2 + 6)/(x**2 + x - 2)   \n",
       "17                        2/(x + 7) + (x + 4)/(x - 7)   \n",
       "18                   x/(x**2 + 10*x + 25) + 1/(x + 5)   \n",
       "19                  -x/(x**2 + 10*x + 25) + 1/(x + 5)   \n",
       "20  -x/(x**2 - 6*x + 9) + (x + 4)/(2*x + 1) + 12/(...   \n",
       "21   (((x**2 - 1)/(x + 2))/(x - 1))*((x + 2)/(x - 3))   \n",
       "22          ((2*x + 1)/x)*((x**2 - 3*x)/(4*x**2 - 1))   \n",
       "23                  ((3*x - 1)/x)*(x**2/(9*x**2 - 1))   \n",
       "24                     (7*x)/(((x**2 - 4*x)/(x - 2)))   \n",
       "25      ((x - 3)/(x - 1))/(((x**2 - 3*x)/(x**2 - 1)))   \n",
       "26      ((x**2 - 3*x - 4)/x)/(((x + 1)/(x**2 + 2*x)))   \n",
       "\n",
       "                                             solucion  \\\n",
       "6                                               x - 3   \n",
       "7                                         \\frac{1}{x}   \n",
       "8                         \\frac{x^{2} - 2}{x^{2} + 2}   \n",
       "9                            \\frac{3 x}{3 x^{2} - 12}   \n",
       "10  \\frac{2 x^{3} + 3 x^{2} - 8 x + 3}{2 x^{3} - x...   \n",
       "11                                \\frac{x - 3}{x + 2}   \n",
       "12                              \\frac{2}{2 x^{2} - 2}   \n",
       "13                                    \\frac{1}{x + 2}   \n",
       "14                                       x + \\sqrt{2}   \n",
       "15                                \\frac{x + 1}{x - 1}   \n",
       "16                                              x - 3   \n",
       "17               \\frac{x^{2} + 13 x + 14}{x^{2} - 49}   \n",
       "18                  \\frac{2 x + 5}{x^{2} + 10 x + 25}   \n",
       "19                        \\frac{5}{x^{2} + 10 x + 25}   \n",
       "20  \\frac{x^{3} + 20 x^{2} - 76 x}{2 x^{3} - 11 x^...   \n",
       "21                                \\frac{x + 1}{x - 3}   \n",
       "22                            \\frac{2 x - 6}{4 x - 2}   \n",
       "23                                \\frac{3 x}{9 x + 3}   \n",
       "24                             \\frac{7 x - 14}{x - 4}   \n",
       "25                                    \\frac{x + 1}{x}   \n",
       "26                                    x^{2} - 2 x - 8   \n",
       "\n",
       "                                                texto curso  \\\n",
       "6   Simplifica las siguientes fracciones algebraicas:   1BC   \n",
       "7   Simplifica las siguientes fracciones algebraicas:   1BC   \n",
       "8   Simplifica las siguientes fracciones algebraicas:   1BC   \n",
       "9   Simplifica las siguientes fracciones algebraicas:   1BC   \n",
       "10  Simplifica las siguientes fracciones algebraicas:   1BC   \n",
       "11  Simplifica las siguientes fracciones algebraicas:   1BC   \n",
       "12  Simplifica las siguientes fracciones algebraicas:   1BC   \n",
       "13  Simplifica las siguientes fracciones algebraicas:   1BC   \n",
       "14  Simplifica las siguientes fracciones algebraicas:   1BC   \n",
       "15  Simplifica las siguientes fracciones algebraicas:   1BC   \n",
       "16  Simplifica las siguientes fracciones algebraicas:   1BC   \n",
       "17               Calcula, simplificando el resultado:   1BC   \n",
       "18               Calcula, simplificando el resultado:   1BC   \n",
       "19               Calcula, simplificando el resultado:   1BC   \n",
       "20               Calcula, simplificando el resultado:   1BC   \n",
       "21               Calcula, simplificando el resultado:   1BC   \n",
       "22               Calcula, simplificando el resultado:   1BC   \n",
       "23               Calcula, simplificando el resultado:   1BC   \n",
       "24               Calcula, simplificando el resultado:   1BC   \n",
       "25               Calcula, simplificando el resultado:   1BC   \n",
       "26               Calcula, simplificando el resultado:   1BC   \n",
       "\n",
       "                        titulo n_ejercicio  dificultad  n_columnas  puntos  \n",
       "6   5 - Fracciones Algebraicas     p014e05           1           2       1  \n",
       "7   5 - Fracciones Algebraicas     p014e05           1           2       1  \n",
       "8   5 - Fracciones Algebraicas     p014e05           1           2       1  \n",
       "9   5 - Fracciones Algebraicas     p014e05           1           2       1  \n",
       "10  5 - Fracciones Algebraicas     p014e05           1           2       1  \n",
       "11  5 - Fracciones Algebraicas     p014e05           1           2       1  \n",
       "12  5 - Fracciones Algebraicas     p014e05           1           2       1  \n",
       "13  5 - Fracciones Algebraicas     p014e05           1           2       1  \n",
       "14  5 - Fracciones Algebraicas     p014e05           1           2       1  \n",
       "15  5 - Fracciones Algebraicas     p014e05           1           2       1  \n",
       "16  5 - Fracciones Algebraicas     p014e05           1           2       1  \n",
       "17  5 - Fracciones Algebraicas     p014e05           1           2       1  \n",
       "18  5 - Fracciones Algebraicas     p014e05           1           2       1  \n",
       "19  5 - Fracciones Algebraicas     p014e05           1           2       1  \n",
       "20  5 - Fracciones Algebraicas     p014e05           1           2       1  \n",
       "21  5 - Fracciones Algebraicas     p014e05           1           2       1  \n",
       "22  5 - Fracciones Algebraicas     p014e05           1           2       1  \n",
       "23  5 - Fracciones Algebraicas     p014e05           1           2       1  \n",
       "24  5 - Fracciones Algebraicas     p014e05           1           2       1  \n",
       "25  5 - Fracciones Algebraicas     p014e05           1           2       1  \n",
       "26  5 - Fracciones Algebraicas     p014e05           1           2       1  "
      ]
     },
     "metadata": {},
     "output_type": "display_data"
    }
   ],
   "source": [
    "escribir_preambulo(fichero, titulo, 'ejercicios')\n",
    "for s in df_ejercicios.groupby('n_ejercicio').count().index : \n",
    "    display(md(\"**Ejercicio: **\" + s ))\n",
    "    display(df_ejercicios[df_ejercicios.n_ejercicio == s])\n",
    "    escribir_ejercicios(df_ejercicios[df_ejercicios.n_ejercicio == s],fichero)\n",
    "\n",
    "escribir_fin(fichero)"
   ]
  }
 ],
 "metadata": {
  "kernelspec": {
   "display_name": "Python 3",
   "language": "python",
   "name": "python3"
  },
  "language_info": {
   "codemirror_mode": {
    "name": "ipython",
    "version": 3
   },
   "file_extension": ".py",
   "mimetype": "text/x-python",
   "name": "python",
   "nbconvert_exporter": "python",
   "pygments_lexer": "ipython3",
   "version": "3.6.5"
  }
 },
 "nbformat": 4,
 "nbformat_minor": 2
}
