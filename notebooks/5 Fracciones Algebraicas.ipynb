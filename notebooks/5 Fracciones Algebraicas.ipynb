{
 "cells": [
  {
   "cell_type": "markdown",
   "metadata": {},
   "source": [
    "<a href=\"https://colab.research.google.com/github/crdguez/mat1bac_cit/blob/master/notebooks/Ejercicios1_3.ipynb\"><img align=\"left\" src=\"https://colab.research.google.com/assets/colab-badge.svg\" alt=\"Open in Colab\" title=\"Open and Execute in Google Colaboratory\"></a>"
   ]
  },
  {
   "cell_type": "code",
   "execution_count": 78,
   "metadata": {},
   "outputs": [
    {
     "name": "stdout",
     "output_type": "stream",
     "text": [
      "IPython console for SymPy 1.2 (Python 3.6.5-32-bit) (ground types: gmpy)\n",
      "\n",
      "These commands were executed:\n",
      ">>> from __future__ import division\n",
      ">>> from sympy import *\n",
      ">>> x, y, z, t = symbols('x y z t')\n",
      ">>> k, m, n = symbols('k m n', integer=True)\n",
      ">>> f, g, h = symbols('f g h', cls=Function)\n",
      ">>> init_printing()\n",
      "\n",
      "Documentation can be found at http://docs.sympy.org/1.2/\n",
      "\n"
     ]
    }
   ],
   "source": [
    "from sympy import init_session\n",
    "from sympy import div, QQ\n",
    "from sympy.parsing.latex import parse_latex\n",
    "from sympy.parsing.sympy_parser import parse_expr\n",
    "#from sympy.functions.combinatorial.numbers import nC, nP, nT\n",
    "from IPython.display import Markdown as md\n",
    "from IPython.display import display\n",
    "import pandas as pd\n",
    "\n",
    "init_session()\n",
    "\n",
    "a, b, c, d = symbols('a b c d', real = True)\n",
    "from docparts import añadir_ejercicios, doc_ejer, escribir_preambulo, escribir_ejercicios, escribir_fin\n",
    "\n",
    "df_ejercicios = pd.DataFrame()\n",
    "\n",
    "fichero = 'fraccionesalg'\n",
    "titulo = '5 - Fracciones Algebraicas'\n",
    "curso = '1BC'\n",
    "\n"
   ]
  },
  {
   "cell_type": "code",
   "execution_count": 79,
   "metadata": {},
   "outputs": [
    {
     "data": {
      "text/markdown": [
       "Comprueba si son equivalentes las siguientes fracciones algebraicas:"
      ],
      "text/plain": [
       "<IPython.core.display.Markdown object>"
      ]
     },
     "metadata": {},
     "output_type": "display_data"
    },
    {
     "data": {
      "text/markdown": [
       "$\\frac{{{x^2} - 1}}{{x + 3}} , \\frac{{{x^3} + 2{x^2} - x - 2}}{{{x^2} + 5x + 6}} \\rightarrow \\frac{\\left(- x + \\left(x^{3} + 2 x^{2}\\right)\\right) - 2}{\\left(x^{2} + 5 x\\right) + 6} - \\frac{x^{2} - 1}{x + 3}=0$"
      ],
      "text/plain": [
       "<IPython.core.display.Markdown object>"
      ]
     },
     "metadata": {},
     "output_type": "display_data"
    },
    {
     "data": {
      "text/markdown": [
       "$\\frac{{{x^2} - 4}}{{{x^2} - 2x}}  , \\frac{{x + 2}}{x} \\rightarrow - \\frac{x^{2} - 4}{x^{2} - 2 x} + \\frac{x + 2}{x}=0$"
      ],
      "text/plain": [
       "<IPython.core.display.Markdown object>"
      ]
     },
     "metadata": {},
     "output_type": "display_data"
    }
   ],
   "source": [
    "# Página 14 ejercicios 1\n",
    "\n",
    "\n",
    "texto_ejercicio = r'Comprueba si son equivalentes las siguientes fracciones algebraicas:'\n",
    "\n",
    "n_ejercicio = 'p014e01y3'\n",
    "\n",
    "display(md(\"\"+texto_ejercicio+\"\"))\n",
    "\n",
    "\n",
    "pre_enunciado_latex = [[r'\\frac{{{x^2} - 1}}{{x + 3}}', r'\\frac{{{x^3} + 2{x^2} - x - 2}}{{{x^2} + 5x + 6}}'],\n",
    "                  [r'\\frac{{{x^2} - 4}}{{{x^2} - 2x}} ', r'\\frac{{x + 2}}{x}']\n",
    "                  ]\n",
    "enunciado_latex, enunciado, solucion = [], [], []\n",
    "\n",
    "for i, s  in enumerate(pre_enunciado_latex) :\n",
    "    enunciado_latex.append(s[0] + r\" \\ y  \\ \" + s[1])\n",
    "    enunciado.append(parse_latex(s[1])-parse_latex(s[0]))\n",
    "    solucion.append(cancel(parse_latex(s[1])-parse_latex(s[0])))\n",
    "    display(md(\"$\"+ s[0] + \" , \" + s[1]  +\" \\\\rightarrow \" + latex(enunciado[i]) + \"=\"+ str(solucion[i])+\"$\"))\n",
    "    \n",
    "     \n",
    "\n",
    "df_ejercicios = df_ejercicios.append(añadir_ejercicios(enunciado_latex, enunciado, solucion, texto_ejercicio, curso, titulo, n_ejercicio,'1','2'), ignore_index=True)\n"
   ]
  },
  {
   "cell_type": "code",
   "execution_count": 84,
   "metadata": {},
   "outputs": [
    {
     "data": {
      "text/markdown": [
       "**Obtén la fracción irreducible (simplifica) equivalente a las fracciones algebraicas:**"
      ],
      "text/plain": [
       "<IPython.core.display.Markdown object>"
      ]
     },
     "metadata": {},
     "output_type": "display_data"
    },
    {
     "data": {
      "text/markdown": [
       "$\\frac{{2{x^3} - 5{x^2} - 23x - 10}}{{{x^3} + 3{x^2} - 4x - 12}} \\rightarrow \\frac{2 x^{2} - 9 x - 5}{x^{2} + x - 6}$"
      ],
      "text/plain": [
       "<IPython.core.display.Markdown object>"
      ]
     },
     "metadata": {},
     "output_type": "display_data"
    },
    {
     "data": {
      "text/markdown": [
       "$\\frac{{{x^3} -16x}}{{{x^3} + 3{x^2} - 4x}} \\rightarrow \\frac{x - 4}{x - 1}$"
      ],
      "text/plain": [
       "<IPython.core.display.Markdown object>"
      ]
     },
     "metadata": {},
     "output_type": "display_data"
    },
    {
     "data": {
      "text/markdown": [
       "$\\frac{{{x^2} + 3x - 4}}{{{x^3} - x}} \\rightarrow \\frac{x + 4}{x^{2} + x}$"
      ],
      "text/plain": [
       "<IPython.core.display.Markdown object>"
      ]
     },
     "metadata": {},
     "output_type": "display_data"
    },
    {
     "data": {
      "text/markdown": [
       "$\\frac{{{x^3} - 1}}{{{x^2} - x}} \\rightarrow \\frac{x^{2} + x + 1}{x}$"
      ],
      "text/plain": [
       "<IPython.core.display.Markdown object>"
      ]
     },
     "metadata": {},
     "output_type": "display_data"
    }
   ],
   "source": [
    "# Página 14 ejercicio 4\n",
    "\n",
    "texto_ejercicio = 'Obtén la fracción irreducible (simplifica) equivalente a las fracciones algebraicas:'\n",
    "n_ejercicio = 'p014e04'\n",
    "\n",
    "display(md(\"**\"+texto_ejercicio+\"**\"))\n",
    "\n",
    "enunciado_latex = [r'\\frac{{2{x^3} - 5{x^2} - 23x - 10}}{{{x^3} + 3{x^2} - 4x - 12}}',\n",
    "                   r'\\frac{{{x^3} -16x}}{{{x^3} + 3{x^2} - 4x}}',\n",
    "                   r'\\frac{{{x^2} + 3x - 4}}{{{x^3} - x}}',\n",
    "                   r'\\frac{{{x^3} - 1}}{{{x^2} - x}}'\n",
    "                   \n",
    "                  ]\n",
    "\n",
    "\n",
    "\n",
    "\n",
    "enunciado, solucion = [], []\n",
    "\n",
    "for i, s in enumerate(enunciado_latex) : \n",
    "    enunciado.append(parse_latex(s))\n",
    "    solucion.append(latex(cancel(parse_latex(s), domain = 'QQ<sqrt(2)>'))) \n",
    "    display(md(\"$\"+ s +\" \\\\rightarrow \" + solucion[i] +\"$\"))\n",
    "\n",
    "df_ejercicios = df_ejercicios.append(añadir_ejercicios(enunciado_latex, enunciado, solucion, texto_ejercicio, curso, titulo , n_ejercicio, '1', '2'), ignore_index=True)\n"
   ]
  },
  {
   "cell_type": "code",
   "execution_count": 80,
   "metadata": {},
   "outputs": [
    {
     "data": {
      "text/markdown": [
       "**Simplifica las siguientes fracciones algebraicas:**"
      ],
      "text/plain": [
       "<IPython.core.display.Markdown object>"
      ]
     },
     "metadata": {},
     "output_type": "display_data"
    },
    {
     "data": {
      "text/markdown": [
       "$\\frac{{{x^2} - 9}}{{x + 3}} \\rightarrow x - 3$"
      ],
      "text/plain": [
       "<IPython.core.display.Markdown object>"
      ]
     },
     "metadata": {},
     "output_type": "display_data"
    },
    {
     "data": {
      "text/markdown": [
       "$\\frac{{{x^2} - 1}}{{{x^3} - x}} \\rightarrow \\frac{1}{x}$"
      ],
      "text/plain": [
       "<IPython.core.display.Markdown object>"
      ]
     },
     "metadata": {},
     "output_type": "display_data"
    },
    {
     "data": {
      "text/markdown": [
       "$\\frac{{{x^4} - 4{x^2} + 4}}{{{x^4} - 4}} \\rightarrow \\frac{x^{2} - 2}{x^{2} + 2}$"
      ],
      "text/plain": [
       "<IPython.core.display.Markdown object>"
      ]
     },
     "metadata": {},
     "output_type": "display_data"
    },
    {
     "data": {
      "text/markdown": [
       "$\\frac{{3{x^2} + x}}{{3{x^3} + {x^2} - 12x - 4}} \\rightarrow \\frac{3 x}{3 x^{2} - 12}$"
      ],
      "text/plain": [
       "<IPython.core.display.Markdown object>"
      ]
     },
     "metadata": {},
     "output_type": "display_data"
    },
    {
     "data": {
      "text/markdown": [
       "$\\frac{{2{x^3} + 3{x^2} - 8x + 3}}{{2{x^3} - {x^2} - 2x - 1}} \\rightarrow \\frac{2 x^{3} + 3 x^{2} - 8 x + 3}{2 x^{3} - x^{2} - 2 x - 1}$"
      ],
      "text/plain": [
       "<IPython.core.display.Markdown object>"
      ]
     },
     "metadata": {},
     "output_type": "display_data"
    },
    {
     "data": {
      "text/markdown": [
       "$\\frac{{{x^3} - 5{x^2} + 6x}}{{{x^3} - 4x}} \\rightarrow \\frac{x - 3}{x + 2}$"
      ],
      "text/plain": [
       "<IPython.core.display.Markdown object>"
      ]
     },
     "metadata": {},
     "output_type": "display_data"
    },
    {
     "data": {
      "text/markdown": [
       "$\\frac{{2x - 5}}{{2{x^3} - 5{x^2} - 2x + 5}} \\rightarrow \\frac{2}{2 x^{2} - 2}$"
      ],
      "text/plain": [
       "<IPython.core.display.Markdown object>"
      ]
     },
     "metadata": {},
     "output_type": "display_data"
    },
    {
     "data": {
      "text/markdown": [
       "$\\frac{x - 2}{{x^2} - 4} \\rightarrow \\frac{1}{x + 2}$"
      ],
      "text/plain": [
       "<IPython.core.display.Markdown object>"
      ]
     },
     "metadata": {},
     "output_type": "display_data"
    },
    {
     "data": {
      "text/markdown": [
       "$\\frac{{{x^2} - 2}}{{x - \\sqrt {2 }}} \\rightarrow x + \\sqrt{2}$"
      ],
      "text/plain": [
       "<IPython.core.display.Markdown object>"
      ]
     },
     "metadata": {},
     "output_type": "display_data"
    },
    {
     "data": {
      "text/markdown": [
       "$\\frac{{{x^2} + 2x + 1}}{{{x^2} - 1}} \\rightarrow \\frac{x + 1}{x - 1}$"
      ],
      "text/plain": [
       "<IPython.core.display.Markdown object>"
      ]
     },
     "metadata": {},
     "output_type": "display_data"
    },
    {
     "data": {
      "text/markdown": [
       "$\\frac{{{x^3} - 2{x^2} - 5x + 6}}{{{x^2} + x - 2}} \\rightarrow x - 3$"
      ],
      "text/plain": [
       "<IPython.core.display.Markdown object>"
      ]
     },
     "metadata": {},
     "output_type": "display_data"
    }
   ],
   "source": [
    "# Página 14 ejercicio 5\n",
    "\n",
    "texto_ejercicio = 'Simplifica las siguientes fracciones algebraicas:'\n",
    "n_ejercicio = 'p014e05'\n",
    "\n",
    "display(md(\"**\"+texto_ejercicio+\"**\"))\n",
    "\n",
    "enunciado_latex = [r'\\frac{{{x^2} - 9}}{{x + 3}}',\n",
    "                   r'\\frac{{{x^2} - 1}}{{{x^3} - x}}',\n",
    "                   r'\\frac{{{x^4} - 4{x^2} + 4}}{{{x^4} - 4}}',\n",
    "                   r'\\frac{{3{x^2} + x}}{{3{x^3} + {x^2} - 12x - 4}}',\n",
    "                   r'\\frac{{2{x^3} + 3{x^2} - 8x + 3}}{{2{x^3} - {x^2} - 2x - 1}}',\n",
    "                   r'\\frac{{{x^3} - 5{x^2} + 6x}}{{{x^3} - 4x}}',\n",
    "                   r'\\frac{{2x - 5}}{{2{x^3} - 5{x^2} - 2x + 5}}',\n",
    "                   r'\\frac{x - 2}{{x^2} - 4}',\n",
    "                   r'\\frac{{{x^2} - 2}}{{x - \\sqrt {2 }}}',\n",
    "                   r'\\frac{{{x^2} + 2x + 1}}{{{x^2} - 1}}',\n",
    "                   r'\\frac{{{x^3} - 2{x^2} - 5x + 6}}{{{x^2} + x - 2}}'   \n",
    "                  ]\n",
    "\n",
    "\n",
    "\n",
    "\n",
    "enunciado, solucion = [], []\n",
    "\n",
    "for i, s in enumerate(enunciado_latex) : \n",
    "    enunciado.append(parse_latex(s))\n",
    "    solucion.append(latex(cancel(parse_latex(s), domain = 'QQ<sqrt(2)>'))) \n",
    "    display(md(\"$\"+ s +\" \\\\rightarrow \" + solucion[i] +\"$\"))\n",
    "\n",
    "df_ejercicios = df_ejercicios.append(añadir_ejercicios(enunciado_latex, enunciado, solucion, texto_ejercicio, curso, titulo , n_ejercicio, '1', '2'), ignore_index=True)\n"
   ]
  },
  {
   "cell_type": "code",
   "execution_count": 49,
   "metadata": {},
   "outputs": [
    {
     "data": {
      "text/plain": [
       "['\\\\frac{{{x^2} - 4}}{{{x^2} - 2x}} ', '\\\\frac{{x + 2}}{x}']"
      ]
     },
     "execution_count": 49,
     "metadata": {},
     "output_type": "execute_result"
    }
   ],
   "source": [
    "enunciado_latex[1]"
   ]
  },
  {
   "cell_type": "code",
   "execution_count": 37,
   "metadata": {},
   "outputs": [],
   "source": [
    "parse_latex?\n"
   ]
  },
  {
   "cell_type": "code",
   "execution_count": 2,
   "metadata": {},
   "outputs": [
    {
     "data": {
      "text/markdown": [
       "Dados los polinomios $ A(x)=2{x^3} - 5{x^2} + 6, \\  B(x)=- \\frac{1}{2}{x^5} - {x^4} + 6x$ halla:"
      ],
      "text/plain": [
       "<IPython.core.display.Markdown object>"
      ]
     },
     "metadata": {},
     "output_type": "display_data"
    },
    {
     "data": {
      "text/markdown": [
       "$A(x) + B(x) \\rightarrow - \\frac{x^{5}}{2} - x^{4} + 2 x^{3} - 5 x^{2} + 6 x + 6$"
      ],
      "text/plain": [
       "<IPython.core.display.Markdown object>"
      ]
     },
     "metadata": {},
     "output_type": "display_data"
    },
    {
     "data": {
      "text/markdown": [
       "$A(x) - B(x) \\rightarrow \\frac{x^{5}}{2} + x^{4} + 2 x^{3} - 5 x^{2} - 6 x + 6$"
      ],
      "text/plain": [
       "<IPython.core.display.Markdown object>"
      ]
     },
     "metadata": {},
     "output_type": "display_data"
    }
   ],
   "source": [
    "# Página 12 ejercicios 3\n",
    "\n",
    "\n",
    "A = r'2{x^3} - 5{x^2} + 6'\n",
    "B = r'- \\frac{1}{2}{x^5} - {x^4} + 6x'\n",
    "\n",
    "\n",
    "\n",
    "texto_ejercicio = r'Dados los polinomios $ A(x)=' + A +r\", \\  B(x)=\" + B +r'$ halla:'\n",
    "\n",
    "n_ejercicio = 'p012e03'\n",
    "\n",
    "display(md(\"\"+texto_ejercicio+\"\"))\n",
    "\n",
    "\n",
    "enunciado_latex = [r'A(x) + B(x)', r'A(x) - B(x)'\n",
    "                  ]\n",
    "enunciado, solucion = [], [latex(parse_latex(A)+parse_latex(B)), latex(parse_latex(A)-parse_latex(B))]\n",
    "\n",
    "solucion[0]\n",
    "\n",
    "for i, s  in enumerate(enunciado_latex) :\n",
    "    display(md(\"$\"+ s +\" \\\\rightarrow \" + solucion[i]+\"$\"))\n",
    "    enunciado.append(parse_latex(s))\n",
    "     \n",
    "\n",
    "df_ejercicios = df_ejercicios.append(añadir_ejercicios(enunciado_latex, enunciado, solucion, texto_ejercicio, curso, titulo, n_ejercicio), ignore_index=True)\n"
   ]
  },
  {
   "cell_type": "code",
   "execution_count": 3,
   "metadata": {},
   "outputs": [
    {
     "data": {
      "text/markdown": [
       "Dados los polinomios $ A(x)=3{x^3} - 6{x^2} + 2x - 1, \\  B(x)=- {x^4} + {x^3} + x - 6, \\  C(x)={x^4} - {x^2} + x + \\frac{1}{2}$ halla:"
      ],
      "text/plain": [
       "<IPython.core.display.Markdown object>"
      ]
     },
     "metadata": {},
     "output_type": "display_data"
    },
    {
     "data": {
      "text/markdown": [
       "$A(x) \\cdot B(x) \\rightarrow - 3 x^{7} + 9 x^{6} - 8 x^{5} + 6 x^{4} - 25 x^{3} + 38 x^{2} - 13 x + 6$"
      ],
      "text/plain": [
       "<IPython.core.display.Markdown object>"
      ]
     },
     "metadata": {},
     "output_type": "display_data"
    },
    {
     "data": {
      "text/markdown": [
       "$A(x) - 3B(x) + 5C(x) \\rightarrow 8 x^{4} - 11 x^{2} + 4 x + \\frac{39}{2}$"
      ],
      "text/plain": [
       "<IPython.core.display.Markdown object>"
      ]
     },
     "metadata": {},
     "output_type": "display_data"
    },
    {
     "data": {
      "text/markdown": [
       "$x^2\\cdot A(x) + 3x\\cdot B(x) \\rightarrow - 3 x^{4} + 2 x^{3} + 2 x^{2} - 18 x$"
      ],
      "text/plain": [
       "<IPython.core.display.Markdown object>"
      ]
     },
     "metadata": {},
     "output_type": "display_data"
    }
   ],
   "source": [
    "# Página 12 ejercicios 4\n",
    "\n",
    "\n",
    "A = r'3{x^3} - 6{x^2} + 2x - 1'\n",
    "B = r'- {x^4} + {x^3} + x - 6'\n",
    "C = r'{x^4} - {x^2} + x + \\frac{1}{2}'\n",
    "\n",
    "\n",
    "texto_ejercicio = r'Dados los polinomios $ A(x)=' + A +r\", \\  B(x)=\" + B +r\", \\  C(x)=\"+ C +r'$ halla:'\n",
    "\n",
    "n_ejercicio = 'p012e04'\n",
    "\n",
    "display(md(\"\"+texto_ejercicio+\"\"))\n",
    "\n",
    "\n",
    "enunciado_latex = [r'A(x) \\cdot B(x)', \n",
    "                   r'A(x) - 3B(x) + 5C(x)',\n",
    "                   r'x^2\\cdot A(x) + 3x\\cdot B(x)'\n",
    "                  ]\n",
    "enunciado, solucion = [], [latex(expand(simplify(parse_latex(A) * parse_latex(B)))),\n",
    "                           latex(expand(simplify(parse_latex(A) - 3 * parse_latex(B) + 5 * parse_latex(C)))),\n",
    "                          latex(expand(simplify(x**2*parse_latex(A) + 3*x*parse_latex(B) )))]\n",
    "\n",
    "\n",
    "\n",
    "solucion[0]\n",
    "\n",
    "for i, s  in enumerate(enunciado_latex) :\n",
    "    display(md(\"$\"+ s +\" \\\\rightarrow \" + solucion[i]+\"$\"))\n",
    "    enunciado.append(parse_latex(s))\n",
    "     \n",
    "\n",
    "df_ejercicios = df_ejercicios.append(añadir_ejercicios(enunciado_latex, enunciado, solucion, texto_ejercicio, curso, titulo, n_ejercicio), ignore_index=True)\n"
   ]
  },
  {
   "cell_type": "code",
   "execution_count": 4,
   "metadata": {},
   "outputs": [
    {
     "data": {
      "text/markdown": [
       "**Halla el cociente y el resto de:**"
      ],
      "text/plain": [
       "<IPython.core.display.Markdown object>"
      ]
     },
     "metadata": {},
     "output_type": "display_data"
    },
    {
     "data": {
      "text/markdown": [
       "$( {5{x^4} - 7{x^2} + 6x + 1} ): ( {3{x^2}} ) \\rightarrow \\left ( \\frac{5 x^{2}}{3} - \\frac{7}{3}, \\quad 6 x + 1\\right )$"
      ],
      "text/plain": [
       "<IPython.core.display.Markdown object>"
      ]
     },
     "metadata": {},
     "output_type": "display_data"
    },
    {
     "data": {
      "text/markdown": [
       "$( {7{x^4} - 3{x^2} + 6x - 1} ): ( {{x^2}-x+3} ) \\rightarrow \\left ( 7 x^{2} + 7 x - 17, \\quad - 32 x + 50\\right )$"
      ],
      "text/plain": [
       "<IPython.core.display.Markdown object>"
      ]
     },
     "metadata": {},
     "output_type": "display_data"
    },
    {
     "data": {
      "text/markdown": [
       "$( {{x^6} - 5} ): ( {{x^2} - x}) \\rightarrow \\left ( x^{4} + x^{3} + x^{2} + x + 1, \\quad x - 5\\right )$"
      ],
      "text/plain": [
       "<IPython.core.display.Markdown object>"
      ]
     },
     "metadata": {},
     "output_type": "display_data"
    },
    {
     "data": {
      "text/markdown": [
       "$( {8{x^6} - 5x^4 + 6 } ): ( {2x^2} - 1) \\rightarrow \\left ( 4 x^{4} - \\frac{x^{2}}{2} - \\frac{1}{4}, \\quad \\frac{23}{4}\\right )$"
      ],
      "text/plain": [
       "<IPython.core.display.Markdown object>"
      ]
     },
     "metadata": {},
     "output_type": "display_data"
    },
    {
     "data": {
      "text/markdown": [
       "$( {3{x^5} - 6{x^2} + 9} ): ( {{x^2} + 1} ) \\rightarrow \\left ( 3 x^{3} - 3 x - 6, \\quad 3 x + 15\\right )$"
      ],
      "text/plain": [
       "<IPython.core.display.Markdown object>"
      ]
     },
     "metadata": {},
     "output_type": "display_data"
    },
    {
     "data": {
      "text/markdown": [
       "$( {x^9} - 7{x} + 1 ): ( {{x^3} + x} ) \\rightarrow \\left ( x^{6} - x^{4} + x^{2} - 1, \\quad - 6 x + 1\\right )$"
      ],
      "text/plain": [
       "<IPython.core.display.Markdown object>"
      ]
     },
     "metadata": {},
     "output_type": "display_data"
    }
   ],
   "source": [
    "# Página 12 ejercicio 7\n",
    "\n",
    "texto_ejercicio = 'Halla el cociente y el resto de:'\n",
    "n_ejercicio = 'p012e07'\n",
    "\n",
    "display(md(\"**\"+texto_ejercicio+\"**\"))\n",
    "\n",
    "pre_enunciado_latex = [[r'( {5{x^4} - 7{x^2} + 6x + 1} )', r'( {3{x^2}} )'],\n",
    "                       [r'( {7{x^4} - 3{x^2} + 6x - 1} )', r'( {{x^2}-x+3} )'],\n",
    "                       [r'( {{x^6} - 5} )', r'( {{x^2} - x})'],\n",
    "                       [r'( {8{x^6} - 5x^4 + 6 } )', r'( {2x^2} - 1)'],\n",
    "                       [r'( {3{x^5} - 6{x^2} + 9} )', r'( {{x^2} + 1} )'],\n",
    "                       [r'( {x^9} - 7{x} + 1 )', r'( {{x^3} + x} )']\n",
    "                 ]\n",
    "enunciado_latex, enunciado, solucion = [], [], []\n",
    "for i, s in enumerate(pre_enunciado_latex) :\n",
    "    enunciado_latex.append(s[0]+\":\"+s[1])\n",
    "    enunciado.append(parse_latex(s[0])/parse_latex(s[1]))\n",
    "    solucion.append(latex(div(simplify(expand(parse_latex(s[0]))),simplify(expand(parse_latex(s[1])))))) \n",
    "    display(md(\"$\"+ s[0] + \": \" + s[1]+ \" \\\\rightarrow \" +solucion[i] +\"$\"))\n",
    "    \n",
    "df_ejercicios = df_ejercicios.append(añadir_ejercicios(enunciado_latex, enunciado, solucion, texto_ejercicio, curso, titulo, n_ejercicio, '1', '1'), ignore_index=True)\n",
    "  "
   ]
  },
  {
   "cell_type": "code",
   "execution_count": 5,
   "metadata": {},
   "outputs": [
    {
     "data": {
      "text/markdown": [
       "**Dados $ A(x)= - {x^3} + 2{x^2} + 5, \\  B(x)= 2{x^4} + 3x + 6$ halla el valor numérico de ambos polinomios en:**"
      ],
      "text/plain": [
       "<IPython.core.display.Markdown object>"
      ]
     },
     "metadata": {},
     "output_type": "display_data"
    },
    {
     "data": {
      "text/markdown": [
       "$x=1 \\rightarrow 6\\ y \\ 11$"
      ],
      "text/plain": [
       "<IPython.core.display.Markdown object>"
      ]
     },
     "metadata": {},
     "output_type": "display_data"
    },
    {
     "data": {
      "text/markdown": [
       "$x=-1 \\rightarrow 8\\ y \\ 5$"
      ],
      "text/plain": [
       "<IPython.core.display.Markdown object>"
      ]
     },
     "metadata": {},
     "output_type": "display_data"
    },
    {
     "data": {
      "text/markdown": [
       "$x=2 \\rightarrow 5\\ y \\ 44$"
      ],
      "text/plain": [
       "<IPython.core.display.Markdown object>"
      ]
     },
     "metadata": {},
     "output_type": "display_data"
    },
    {
     "data": {
      "text/markdown": [
       "$x=-2 \\rightarrow 21\\ y \\ 32$"
      ],
      "text/plain": [
       "<IPython.core.display.Markdown object>"
      ]
     },
     "metadata": {},
     "output_type": "display_data"
    },
    {
     "data": {
      "text/markdown": [
       "$x=\\frac{1}{2} \\rightarrow \\frac{43}{8}\\ y \\ \\frac{61}{8}$"
      ],
      "text/plain": [
       "<IPython.core.display.Markdown object>"
      ]
     },
     "metadata": {},
     "output_type": "display_data"
    },
    {
     "data": {
      "text/markdown": [
       "$x=-\\frac{1}{2} \\rightarrow \\frac{45}{8}\\ y \\ \\frac{37}{8}$"
      ],
      "text/plain": [
       "<IPython.core.display.Markdown object>"
      ]
     },
     "metadata": {},
     "output_type": "display_data"
    }
   ],
   "source": [
    "# Página 12 ejercicio 8\n",
    "\n",
    "A = r' - {x^3} + 2{x^2} + 5'\n",
    "B = r' 2{x^4} + 3x + 6'\n",
    "\n",
    "texto_ejercicio = r'Dados $ A(x)=' + A +r\", \\  B(x)=\" + B +r'$ halla el valor numérico de ambos polinomios en:'\n",
    "n_ejercicio = 'p012e08'\n",
    "\n",
    "display(md(\"**\"+texto_ejercicio+\"**\"))\n",
    "\n",
    "pre_enunciado_latex = ['1','-1','2','-2',r'\\frac{1}{2}',r'-\\frac{1}{2}']        \n",
    "enunciado_latex, enunciado, solucion = [], [], []\n",
    "for i, s in enumerate(pre_enunciado_latex) :\n",
    "    enunciado_latex.append(\"x=\"+s)\n",
    "    enunciado.append(\"x=\"+s)\n",
    "    solucion.append(latex(parse_latex(A).subs({x:parse_latex(s)}))+latex(r\"\\ y \\ \")+latex(parse_latex(B).subs({x:parse_latex(s)}))) \n",
    "    display(md(\"$\"+ enunciado_latex[i] + \" \\\\rightarrow \" +solucion[i] +\"$\"))\n",
    "    \n",
    "df_ejercicios = df_ejercicios.append(añadir_ejercicios(enunciado_latex, enunciado, solucion, texto_ejercicio, curso, titulo, n_ejercicio), ignore_index=True)\n",
    "  "
   ]
  },
  {
   "cell_type": "code",
   "execution_count": 6,
   "metadata": {},
   "outputs": [
    {
     "data": {
      "text/markdown": [
       "**Halla, para cada uno  de los siguientes polinomios, sus raíces:**"
      ],
      "text/plain": [
       "<IPython.core.display.Markdown object>"
      ]
     },
     "metadata": {},
     "output_type": "display_data"
    },
    {
     "data": {
      "text/markdown": [
       "$x^2 - 1 \\rightarrow\\left\\{-1, 1\\right\\}$"
      ],
      "text/plain": [
       "<IPython.core.display.Markdown object>"
      ]
     },
     "metadata": {},
     "output_type": "display_data"
    },
    {
     "data": {
      "text/markdown": [
       "$x^2 - 7 \\rightarrow\\left\\{- \\sqrt{7}, \\sqrt{7}\\right\\}$"
      ],
      "text/plain": [
       "<IPython.core.display.Markdown object>"
      ]
     },
     "metadata": {},
     "output_type": "display_data"
    },
    {
     "data": {
      "text/markdown": [
       "$3x^2 -12 \\rightarrow\\left\\{-2, 2\\right\\}$"
      ],
      "text/plain": [
       "<IPython.core.display.Markdown object>"
      ]
     },
     "metadata": {},
     "output_type": "display_data"
    },
    {
     "data": {
      "text/markdown": [
       "$5x^2 -25 \\rightarrow\\left\\{- \\sqrt{5}, \\sqrt{5}\\right\\}$"
      ],
      "text/plain": [
       "<IPython.core.display.Markdown object>"
      ]
     },
     "metadata": {},
     "output_type": "display_data"
    }
   ],
   "source": [
    "# Página 12 ejercicios 9\n",
    "\n",
    "texto_ejercicio = 'Halla, para cada uno  de los siguientes polinomios, sus raíces:'\n",
    "n_ejercicio = 'p012e09'\n",
    "\n",
    "display(md(\"**\"+texto_ejercicio+\"**\"))\n",
    "\n",
    "enunciado_latex = [r'x^2 - 1',\n",
    "                   r'x^2 - 7',\n",
    "                   r'3x^2 -12',\n",
    "                   r'5x^2 -25'\n",
    "                  ]\n",
    "enunciado, solucion = [], []\n",
    "x = Symbol('x')\n",
    "\n",
    "for i, s in enumerate(enunciado_latex) :\n",
    "    enunciado.append(parse_latex(s))\n",
    "    solucion.append(latex(solveset(parse_latex(s), domain=S.Reals)))\n",
    "    display(md(\"$\"+ s +\" \\\\rightarrow\" + solucion[i] +\"$\"))\n",
    "\n",
    "df_ejercicios = df_ejercicios.append(añadir_ejercicios(enunciado_latex, enunciado, solucion, texto_ejercicio, curso, titulo, n_ejercicio), ignore_index=True)\n"
   ]
  },
  {
   "cell_type": "code",
   "execution_count": 7,
   "metadata": {},
   "outputs": [
    {
     "data": {
      "text/markdown": [
       "**¿Tiene el polinomio A(x)= $x^4 +3$ alguna raíz real?**"
      ],
      "text/plain": [
       "<IPython.core.display.Markdown object>"
      ]
     },
     "metadata": {},
     "output_type": "display_data"
    },
    {
     "data": {
      "text/markdown": [
       "$x^4 +3 \\rightarrow\\left\\{- \\frac{\\sqrt{2} \\sqrt[4]{3}}{2} - \\frac{\\sqrt{2} \\sqrt[4]{3} i}{2}, - \\frac{\\sqrt{2} \\sqrt[4]{3}}{2} + \\frac{\\sqrt{2} \\sqrt[4]{3} i}{2}, \\frac{\\sqrt{2} \\sqrt[4]{3}}{2} - \\frac{\\sqrt{2} \\sqrt[4]{3} i}{2}, \\frac{\\sqrt{2} \\sqrt[4]{3}}{2} + \\frac{\\sqrt{2} \\sqrt[4]{3} i}{2}\\right\\}$"
      ],
      "text/plain": [
       "<IPython.core.display.Markdown object>"
      ]
     },
     "metadata": {},
     "output_type": "display_data"
    }
   ],
   "source": [
    "# Página 12 ejercicios 10\n",
    "\n",
    "A = r'x^4 +3'\n",
    "\n",
    "texto_ejercicio = '¿Tiene el polinomio A(x)= $'+ A +'$ alguna raíz real?'\n",
    "n_ejercicio = 'p012e10'\n",
    "\n",
    "\n",
    "display(md(\"**\"+texto_ejercicio+\"**\"))\n",
    "\n",
    "enunciado_latex = [A]\n",
    "enunciado, solucion = [], []\n",
    "x = Symbol('x')\n",
    "\n",
    "for i, s in enumerate(enunciado_latex) :\n",
    "    enunciado.append(parse_latex(s))\n",
    "    solucion.append(latex(solveset(parse_latex(s))))\n",
    "    display(md(\"$\"+ s +\" \\\\rightarrow\" + solucion[i] +\"$\"))\n",
    "\n",
    "df_ejercicios = df_ejercicios.append(añadir_ejercicios(enunciado_latex, enunciado, solucion, texto_ejercicio, curso, titulo, n_ejercicio, '1', '1'), ignore_index=True)\n"
   ]
  },
  {
   "cell_type": "code",
   "execution_count": 8,
   "metadata": {},
   "outputs": [
    {
     "data": {
      "text/markdown": [
       "**Aplica la regla de Ruffini para hallar el cociente y el resto de las siguientes divisiones:**"
      ],
      "text/plain": [
       "<IPython.core.display.Markdown object>"
      ]
     },
     "metadata": {},
     "output_type": "display_data"
    },
    {
     "data": {
      "text/markdown": [
       "$( {{x^2} - 3x + 6} ): ( {x+2} ) \\rightarrow \\left ( x - 5, \\quad 16\\right )$"
      ],
      "text/plain": [
       "<IPython.core.display.Markdown object>"
      ]
     },
     "metadata": {},
     "output_type": "display_data"
    },
    {
     "data": {
      "text/markdown": [
       "$( {2{x^6} - 7{x^4} + 6x - 9} ): ( {x+3} ) \\rightarrow \\left ( 2 x^{5} - 6 x^{4} + 11 x^{3} - 33 x^{2} + 99 x - 291, \\quad 864\\right )$"
      ],
      "text/plain": [
       "<IPython.core.display.Markdown object>"
      ]
     },
     "metadata": {},
     "output_type": "display_data"
    },
    {
     "data": {
      "text/markdown": [
       "$( {7{x^3} - 4x - 3} ): ( {{x} - 1}) \\rightarrow \\left ( 7 x^{2} + 7 x + 3, \\quad 0\\right )$"
      ],
      "text/plain": [
       "<IPython.core.display.Markdown object>"
      ]
     },
     "metadata": {},
     "output_type": "display_data"
    },
    {
     "data": {
      "text/markdown": [
       "$( {x^2 - 1 } ): ( {x} + 1) \\rightarrow \\left ( x - 1, \\quad 0\\right )$"
      ],
      "text/plain": [
       "<IPython.core.display.Markdown object>"
      ]
     },
     "metadata": {},
     "output_type": "display_data"
    }
   ],
   "source": [
    "# Página 13 ejercicio 11\n",
    "\n",
    "texto_ejercicio = 'Aplica la regla de Ruffini para hallar el cociente y el resto de las siguientes divisiones:'\n",
    "n_ejercicio = 'p013e11'\n",
    "\n",
    "display(md(\"**\"+texto_ejercicio+\"**\"))\n",
    "\n",
    "pre_enunciado_latex = [[r'( {{x^2} - 3x + 6} )', r'( {x+2} )'],\n",
    "                       [r'( {2{x^6} - 7{x^4} + 6x - 9} )', r'( {x+3} )'],\n",
    "                       [r'( {7{x^3} - 4x - 3} )', r'( {{x} - 1})'],\n",
    "                       [r'( {x^2 - 1 } )', r'( {x} + 1)']\n",
    "                      ]\n",
    "enunciado_latex, enunciado, solucion = [], [], []\n",
    "for i, s in enumerate(pre_enunciado_latex) :\n",
    "    enunciado_latex.append(s[0]+\":\"+s[1])\n",
    "    enunciado.append(parse_latex(s[0])/parse_latex(s[1]))\n",
    "    solucion.append(latex(div(simplify(expand(parse_latex(s[0]))),simplify(expand(parse_latex(s[1])))))) \n",
    "    display(md(\"$\"+ s[0] + \": \" + s[1]+ \" \\\\rightarrow \" +solucion[i] +\"$\"))\n",
    "    \n",
    "df_ejercicios = df_ejercicios.append(añadir_ejercicios(enunciado_latex, enunciado, solucion, texto_ejercicio, curso, titulo, n_ejercicio, '1', '1'), ignore_index=True)\n",
    "  "
   ]
  },
  {
   "cell_type": "code",
   "execution_count": 9,
   "metadata": {},
   "outputs": [
    {
     "data": {
      "text/markdown": [
       "**Aplica el teorema del resto para calcular el resto de las siguientes divisiones:**"
      ],
      "text/plain": [
       "<IPython.core.display.Markdown object>"
      ]
     },
     "metadata": {},
     "output_type": "display_data"
    },
    {
     "data": {
      "text/markdown": [
       "$( {7{x^3} - 4x + 9} ): ( {x+1} ) \\rightarrow 6$"
      ],
      "text/plain": [
       "<IPython.core.display.Markdown object>"
      ]
     },
     "metadata": {},
     "output_type": "display_data"
    },
    {
     "data": {
      "text/markdown": [
       "$( {7{x^3} - 4x - 3} ): ( {x-1} ) \\rightarrow 0$"
      ],
      "text/plain": [
       "<IPython.core.display.Markdown object>"
      ]
     },
     "metadata": {},
     "output_type": "display_data"
    },
    {
     "data": {
      "text/markdown": [
       "$( {x^2 - 1} ): ( {x + 1}) \\rightarrow 0$"
      ],
      "text/plain": [
       "<IPython.core.display.Markdown object>"
      ]
     },
     "metadata": {},
     "output_type": "display_data"
    }
   ],
   "source": [
    "# Página 13 ejercicio 12\n",
    "\n",
    "texto_ejercicio = 'Aplica el teorema del resto para calcular el resto de las siguientes divisiones:'\n",
    "n_ejercicio = 'p013e12'\n",
    "\n",
    "display(md(\"**\"+texto_ejercicio+\"**\"))\n",
    "\n",
    "pre_enunciado_latex = [[r'( {7{x^3} - 4x + 9} )', r'( {x+1} )'],\n",
    "                       [r'( {7{x^3} - 4x - 3} )', r'( {x-1} )'],\n",
    "                       [r'( {x^2 - 1} )', r'( {x + 1})']\n",
    "                 ]\n",
    "enunciado_latex, enunciado, solucion = [], [], []\n",
    "for i, s in enumerate(pre_enunciado_latex) :\n",
    "    enunciado_latex.append(s[0]+\":\"+s[1])\n",
    "    enunciado.append(parse_latex(s[0])/parse_latex(s[1]))\n",
    "    solucion.append(latex(div(simplify(expand(parse_latex(s[0]))),simplify(expand(parse_latex(s[1]))))[1])) \n",
    "    display(md(\"$\"+ s[0] + \": \" + s[1]+ \" \\\\rightarrow \" +solucion[i] +\"$\"))\n",
    "    \n",
    "df_ejercicios = df_ejercicios.append(añadir_ejercicios(enunciado_latex, enunciado, solucion, texto_ejercicio, curso, titulo, n_ejercicio), ignore_index=True)\n",
    "  "
   ]
  },
  {
   "cell_type": "code",
   "execution_count": 10,
   "metadata": {},
   "outputs": [
    {
     "data": {
      "text/markdown": [
       "**Descomponer en factores**"
      ],
      "text/plain": [
       "<IPython.core.display.Markdown object>"
      ]
     },
     "metadata": {},
     "output_type": "display_data"
    },
    {
     "data": {
      "text/markdown": [
       "$x^2-81 \\rightarrow \\left(x - 9\\right) \\left(x + 9\\right)$"
      ],
      "text/plain": [
       "<IPython.core.display.Markdown object>"
      ]
     },
     "metadata": {},
     "output_type": "display_data"
    },
    {
     "data": {
      "text/markdown": [
       "$x^2-2 \\rightarrow \\left(x - \\sqrt{2}\\right) \\left(x + \\sqrt{2}\\right)$"
      ],
      "text/plain": [
       "<IPython.core.display.Markdown object>"
      ]
     },
     "metadata": {},
     "output_type": "display_data"
    },
    {
     "data": {
      "text/markdown": [
       "$4x^2-9 \\rightarrow 4 \\left(x - \\frac{3}{2}\\right) \\left(x + \\frac{3}{2}\\right)$"
      ],
      "text/plain": [
       "<IPython.core.display.Markdown object>"
      ]
     },
     "metadata": {},
     "output_type": "display_data"
    },
    {
     "data": {
      "text/markdown": [
       "$x^3-x \\rightarrow x \\left(x - 1\\right) \\left(x + 1\\right)$"
      ],
      "text/plain": [
       "<IPython.core.display.Markdown object>"
      ]
     },
     "metadata": {},
     "output_type": "display_data"
    },
    {
     "data": {
      "text/markdown": [
       "$x^2-3x \\rightarrow x \\left(x - 3\\right)$"
      ],
      "text/plain": [
       "<IPython.core.display.Markdown object>"
      ]
     },
     "metadata": {},
     "output_type": "display_data"
    },
    {
     "data": {
      "text/markdown": [
       "$x^2-2x+1 \\rightarrow \\left(x - 1\\right)^{2}$"
      ],
      "text/plain": [
       "<IPython.core.display.Markdown object>"
      ]
     },
     "metadata": {},
     "output_type": "display_data"
    },
    {
     "data": {
      "text/markdown": [
       "$x^5-3x^4+2x^3 \\rightarrow x^{3} \\left(x - 2\\right) \\left(x - 1\\right)$"
      ],
      "text/plain": [
       "<IPython.core.display.Markdown object>"
      ]
     },
     "metadata": {},
     "output_type": "display_data"
    },
    {
     "data": {
      "text/markdown": [
       "$x^2-x-30 \\rightarrow \\left(x - 6\\right) \\left(x + 5\\right)$"
      ],
      "text/plain": [
       "<IPython.core.display.Markdown object>"
      ]
     },
     "metadata": {},
     "output_type": "display_data"
    },
    {
     "data": {
      "text/markdown": [
       "$x^2+2x+1 \\rightarrow \\left(x + 1\\right)^{2}$"
      ],
      "text/plain": [
       "<IPython.core.display.Markdown object>"
      ]
     },
     "metadata": {},
     "output_type": "display_data"
    },
    {
     "data": {
      "text/markdown": [
       "$x^3-x^2-x+1 \\rightarrow \\left(x - 1\\right)^{2} \\left(x + 1\\right)$"
      ],
      "text/plain": [
       "<IPython.core.display.Markdown object>"
      ]
     },
     "metadata": {},
     "output_type": "display_data"
    },
    {
     "data": {
      "text/markdown": [
       "$x^3-2x^2-5x+6 \\rightarrow \\left(x - 3\\right) \\left(x - 1\\right) \\left(x + 2\\right)$"
      ],
      "text/plain": [
       "<IPython.core.display.Markdown object>"
      ]
     },
     "metadata": {},
     "output_type": "display_data"
    },
    {
     "data": {
      "text/markdown": [
       "$x^5+4x^4+x^3-10x^2-4x+8 \\rightarrow \\left(x - 1\\right)^{2} \\left(x + 2\\right)^{3}$"
      ],
      "text/plain": [
       "<IPython.core.display.Markdown object>"
      ]
     },
     "metadata": {},
     "output_type": "display_data"
    },
    {
     "data": {
      "text/markdown": [
       "$x^3+3x^2-2x-6 \\rightarrow \\left(x + 3\\right) \\left(x - \\sqrt{2}\\right) \\left(x + \\sqrt{2}\\right)$"
      ],
      "text/plain": [
       "<IPython.core.display.Markdown object>"
      ]
     },
     "metadata": {},
     "output_type": "display_data"
    },
    {
     "data": {
      "text/markdown": [
       "$x^3-3x^2-13x+15 \\rightarrow \\left(x - 5\\right) \\left(x - 1\\right) \\left(x + 3\\right)$"
      ],
      "text/plain": [
       "<IPython.core.display.Markdown object>"
      ]
     },
     "metadata": {},
     "output_type": "display_data"
    },
    {
     "data": {
      "text/markdown": [
       "$x^3+x^2-6x \\rightarrow x \\left(x - 2\\right) \\left(x + 3\\right)$"
      ],
      "text/plain": [
       "<IPython.core.display.Markdown object>"
      ]
     },
     "metadata": {},
     "output_type": "display_data"
    },
    {
     "data": {
      "text/markdown": [
       "$3x^3+x^2-12x-4 \\rightarrow 3 \\left(x - 2\\right) \\left(x + \\frac{1}{3}\\right) \\left(x + 2\\right)$"
      ],
      "text/plain": [
       "<IPython.core.display.Markdown object>"
      ]
     },
     "metadata": {},
     "output_type": "display_data"
    },
    {
     "data": {
      "text/markdown": [
       "$x^4+2x^3-x^2-2x \\rightarrow x \\left(x - 1\\right) \\left(x + 1\\right) \\left(x + 2\\right)$"
      ],
      "text/plain": [
       "<IPython.core.display.Markdown object>"
      ]
     },
     "metadata": {},
     "output_type": "display_data"
    },
    {
     "data": {
      "text/markdown": [
       "$x^4-2x^3+2x^2-2x+1 \\rightarrow \\left(x - 1\\right)^{2} \\left(x^{2} + 1\\right)$"
      ],
      "text/plain": [
       "<IPython.core.display.Markdown object>"
      ]
     },
     "metadata": {},
     "output_type": "display_data"
    },
    {
     "data": {
      "text/markdown": [
       "$x^4+2x^3-3x^2-4x+4 \\rightarrow \\left(x - 1\\right)^{2} \\left(x + 2\\right)^{2}$"
      ],
      "text/plain": [
       "<IPython.core.display.Markdown object>"
      ]
     },
     "metadata": {},
     "output_type": "display_data"
    },
    {
     "data": {
      "text/markdown": [
       "$x^3+4x^2+x-6 \\rightarrow \\left(x - 1\\right) \\left(x + 2\\right) \\left(x + 3\\right)$"
      ],
      "text/plain": [
       "<IPython.core.display.Markdown object>"
      ]
     },
     "metadata": {},
     "output_type": "display_data"
    },
    {
     "data": {
      "text/markdown": [
       "$x^5- 4x^3-x^2+4 \\rightarrow \\left(x - 2\\right) \\left(x - 1\\right) \\left(x + 2\\right) \\left(x^{2} + x + 1\\right)$"
      ],
      "text/plain": [
       "<IPython.core.display.Markdown object>"
      ]
     },
     "metadata": {},
     "output_type": "display_data"
    }
   ],
   "source": [
    "# Página 13 ejercicio 17 y 18\n",
    "\n",
    "texto_ejercicio = 'Descomponer en factores'\n",
    "n_ejercicio = 'p013e17-18'\n",
    "\n",
    "display(md(\"**\"+texto_ejercicio+\"**\"))\n",
    "\n",
    "enunciado_latex = [r'x^2-81',\n",
    "                   r'x^2-2',\n",
    "                   r'4x^2-9',\n",
    "                   r'x^3-x',\n",
    "                   r'x^2-3x',\n",
    "                   r'x^2-2x+1',\n",
    "                   r'x^5-3x^4+2x^3',\n",
    "                   r'x^2-x-30',\n",
    "                   r'x^2+2x+1',\n",
    "                   r'x^3-x^2-x+1',\n",
    "                   r'x^3-2x^2-5x+6',\n",
    "                   r'x^5+4x^4+x^3-10x^2-4x+8',\n",
    "                   r'x^3+3x^2-2x-6',\n",
    "                   r'x^3-3x^2-13x+15',\n",
    "                   r'x^3+x^2-6x',\n",
    "                   r'3x^3+x^2-12x-4',\n",
    "                   r'x^4+2x^3-x^2-2x',\n",
    "                   r'x^4-2x^3+2x^2-2x+1',\n",
    "                   r'x^4+2x^3-3x^2-4x+4',\n",
    "                   r'x^3+4x^2+x-6',\n",
    "                   r'x^5- 4x^3-x^2+4'                        \n",
    "                  ]\n",
    "\n",
    "\n",
    "\n",
    "\n",
    "enunciado, solucion = [], []\n",
    "\n",
    "for i, s in enumerate(enunciado_latex) : \n",
    "    enunciado.append(parse_latex(s))\n",
    "    solucion.append(latex(factor(parse_latex(s), domain = 'QQ<sqrt(2)>'))) \n",
    "    display(md(\"$\"+ s +\" \\\\rightarrow \" + solucion[i] +\"$\"))\n",
    "\n",
    "df_ejercicios = df_ejercicios.append(añadir_ejercicios(enunciado_latex, enunciado, solucion, texto_ejercicio, curso, titulo , n_ejercicio, '1', '2'), ignore_index=True)\n"
   ]
  },
  {
   "cell_type": "code",
   "execution_count": 11,
   "metadata": {},
   "outputs": [
    {
     "data": {
      "text/markdown": [
       "**Halla el m.c.d. y el m.c.m. de los polinomios: **"
      ],
      "text/plain": [
       "<IPython.core.display.Markdown object>"
      ]
     },
     "metadata": {},
     "output_type": "display_data"
    },
    {
     "data": {
      "text/markdown": [
       "$ A(x)= x^4-4\\  y \\ \\  B(x)= x^3+2x  \\rightarrow x^{2} + 2\\ y \\ x^{5} - 4 x$"
      ],
      "text/plain": [
       "<IPython.core.display.Markdown object>"
      ]
     },
     "metadata": {},
     "output_type": "display_data"
    },
    {
     "data": {
      "text/markdown": [
       "$ A(x)= x^3-9x\\  y \\ \\  B(x)= (x-1)(x+3)^2  \\rightarrow x + 3\\ y \\ x^{5} + 2 x^{4} - 12 x^{3} - 18 x^{2} + 27 x$"
      ],
      "text/plain": [
       "<IPython.core.display.Markdown object>"
      ]
     },
     "metadata": {},
     "output_type": "display_data"
    },
    {
     "data": {
      "text/markdown": [
       "$ A(x)= x^3+x^2-2x\\  y \\ \\  B(x)= x^3+2x^2  \\rightarrow 1\\ y \\ x^{6} + 3 x^{5} - 4 x^{3}$"
      ],
      "text/plain": [
       "<IPython.core.display.Markdown object>"
      ]
     },
     "metadata": {},
     "output_type": "display_data"
    }
   ],
   "source": [
    "# Página 13 ejercicio 19\n",
    "\n",
    "texto_ejercicio = r'Halla el m.c.d. y el m.c.m. de los polinomios: '\n",
    "n_ejercicio = 'p013e19'\n",
    "\n",
    "display(md(\"**\"+texto_ejercicio+\"**\"))\n",
    "\n",
    "pre_enunciado_latex = [[r' x^4-4',r' x^3+2x'],\n",
    "                      [r' x^3-9x',r' (x-1)(x+3)^2'],\n",
    "                      [r' x^3+x^2-2x',r' x^3+2x^2']]        \n",
    "enunciado_latex, enunciado, solucion = [], [], []\n",
    "for i, s in enumerate(pre_enunciado_latex) :\n",
    "    enunciado_latex.append(r' A(x)=' + s[0] +r\"\\  y \\ \\  B(x)=\" + s[1] +r' ')\n",
    "    enunciado.append(\"[\"+s[0]+\",\"+s[1]+\"]\")\n",
    "    solucion.append(latex(gcd(parse_latex(s[0]), parse_latex(s[1])))+latex(r\"\\ y \\ \")+latex(expand(lcm(parse_latex(s[0]), parse_latex(s[1]))))) \n",
    "    display(md(\"$\"+ enunciado_latex[i] + \" \\\\rightarrow \" +solucion[i] +\"$\"))\n",
    "    \n",
    "df_ejercicios = df_ejercicios.append(añadir_ejercicios(enunciado_latex, enunciado, solucion, texto_ejercicio, curso, titulo, n_ejercicio,'1','2'), ignore_index=True)\n",
    "  "
   ]
  },
  {
   "cell_type": "code",
   "execution_count": 12,
   "metadata": {},
   "outputs": [
    {
     "data": {
      "text/markdown": [
       "**Halla el valor numérico del polinomio $x^4-2x^3-x^2+3$,  para los valores:**"
      ],
      "text/plain": [
       "<IPython.core.display.Markdown object>"
      ]
     },
     "metadata": {},
     "output_type": "display_data"
    },
    {
     "data": {
      "text/markdown": [
       "$x=0 \\rightarrow 3$"
      ],
      "text/plain": [
       "<IPython.core.display.Markdown object>"
      ]
     },
     "metadata": {},
     "output_type": "display_data"
    },
    {
     "data": {
      "text/markdown": [
       "$x=1 \\rightarrow 1$"
      ],
      "text/plain": [
       "<IPython.core.display.Markdown object>"
      ]
     },
     "metadata": {},
     "output_type": "display_data"
    },
    {
     "data": {
      "text/markdown": [
       "$x=2 \\rightarrow -1$"
      ],
      "text/plain": [
       "<IPython.core.display.Markdown object>"
      ]
     },
     "metadata": {},
     "output_type": "display_data"
    },
    {
     "data": {
      "text/markdown": [
       "$x=\\frac{2}{3} \\rightarrow \\frac{175}{81}$"
      ],
      "text/plain": [
       "<IPython.core.display.Markdown object>"
      ]
     },
     "metadata": {},
     "output_type": "display_data"
    }
   ],
   "source": [
    "# Página 13 ejercicio 21\n",
    "\n",
    "A = r'x^4-2x^3-x^2+3'\n",
    "\n",
    "\n",
    "texto_ejercicio = r'Halla el valor numérico del polinomio $' + A +r\"$,  para los valores:\"\n",
    "n_ejercicio = 'p013e21'\n",
    "\n",
    "display(md(\"**\"+texto_ejercicio+\"**\"))\n",
    "\n",
    "pre_enunciado_latex = ['0','1','2',r'\\frac{2}{3}']        \n",
    "enunciado_latex, enunciado, solucion = [], [], []\n",
    "for i, s in enumerate(pre_enunciado_latex) :\n",
    "    enunciado_latex.append(\"x=\"+s)\n",
    "    enunciado.append(\"x=\"+s[0])\n",
    "    solucion.append(latex(parse_latex(A).subs({x:parse_latex(s)}))) \n",
    "    display(md(\"$\"+ enunciado_latex[i] + \" \\\\rightarrow \" +solucion[i] +\"$\"))\n",
    "    \n",
    "df_ejercicios = df_ejercicios.append(añadir_ejercicios(enunciado_latex, enunciado, solucion, texto_ejercicio, curso, titulo, n_ejercicio), ignore_index=True)\n",
    "  "
   ]
  },
  {
   "cell_type": "code",
   "execution_count": 13,
   "metadata": {},
   "outputs": [],
   "source": [
    "df_ejercicios.to_csv('ejercicios5.csv', index = False)"
   ]
  },
  {
   "cell_type": "code",
   "execution_count": 14,
   "metadata": {},
   "outputs": [],
   "source": [
    "df_ejercicios = pd.read_csv('ejercicios5.csv', index_col= None)"
   ]
  },
  {
   "cell_type": "code",
   "execution_count": 81,
   "metadata": {},
   "outputs": [
    {
     "data": {
      "text/markdown": [
       "**Ejercicio: **p014e01y3"
      ],
      "text/plain": [
       "<IPython.core.display.Markdown object>"
      ]
     },
     "metadata": {},
     "output_type": "display_data"
    },
    {
     "data": {
      "text/html": [
       "<div>\n",
       "<style scoped>\n",
       "    .dataframe tbody tr th:only-of-type {\n",
       "        vertical-align: middle;\n",
       "    }\n",
       "\n",
       "    .dataframe tbody tr th {\n",
       "        vertical-align: top;\n",
       "    }\n",
       "\n",
       "    .dataframe thead th {\n",
       "        text-align: right;\n",
       "    }\n",
       "</style>\n",
       "<table border=\"1\" class=\"dataframe\">\n",
       "  <thead>\n",
       "    <tr style=\"text-align: right;\">\n",
       "      <th></th>\n",
       "      <th>enunciado_latex</th>\n",
       "      <th>enunciado</th>\n",
       "      <th>solucion</th>\n",
       "      <th>texto</th>\n",
       "      <th>curso</th>\n",
       "      <th>titulo</th>\n",
       "      <th>n_ejercicio</th>\n",
       "      <th>dificultad</th>\n",
       "      <th>n_columnas</th>\n",
       "      <th>puntos</th>\n",
       "    </tr>\n",
       "  </thead>\n",
       "  <tbody>\n",
       "    <tr>\n",
       "      <th>0</th>\n",
       "      <td>\\frac{{{x^2} - 1}}{{x + 3}} \\ y  \\ \\frac{{{x^3...</td>\n",
       "      <td>(-x + x**3 + 2*x**2 - 2)/(x**2 + 5*x + 6) - (x...</td>\n",
       "      <td>0</td>\n",
       "      <td>Comprueba si son equivalentes las siguientes f...</td>\n",
       "      <td>1BC</td>\n",
       "      <td>5 - Fracciones Algebraicas</td>\n",
       "      <td>p014e01y3</td>\n",
       "      <td>1</td>\n",
       "      <td>2</td>\n",
       "      <td>1</td>\n",
       "    </tr>\n",
       "    <tr>\n",
       "      <th>1</th>\n",
       "      <td>\\frac{{{x^2} - 4}}{{{x^2} - 2x}}  \\ y  \\ \\frac...</td>\n",
       "      <td>-(x**2 - 4)/(x**2 - 2*x) + (x + 2)/x</td>\n",
       "      <td>0</td>\n",
       "      <td>Comprueba si son equivalentes las siguientes f...</td>\n",
       "      <td>1BC</td>\n",
       "      <td>5 - Fracciones Algebraicas</td>\n",
       "      <td>p014e01y3</td>\n",
       "      <td>1</td>\n",
       "      <td>2</td>\n",
       "      <td>1</td>\n",
       "    </tr>\n",
       "  </tbody>\n",
       "</table>\n",
       "</div>"
      ],
      "text/plain": [
       "                                     enunciado_latex  \\\n",
       "0  \\frac{{{x^2} - 1}}{{x + 3}} \\ y  \\ \\frac{{{x^3...   \n",
       "1  \\frac{{{x^2} - 4}}{{{x^2} - 2x}}  \\ y  \\ \\frac...   \n",
       "\n",
       "                                           enunciado solucion  \\\n",
       "0  (-x + x**3 + 2*x**2 - 2)/(x**2 + 5*x + 6) - (x...        0   \n",
       "1               -(x**2 - 4)/(x**2 - 2*x) + (x + 2)/x        0   \n",
       "\n",
       "                                               texto curso  \\\n",
       "0  Comprueba si son equivalentes las siguientes f...   1BC   \n",
       "1  Comprueba si son equivalentes las siguientes f...   1BC   \n",
       "\n",
       "                       titulo n_ejercicio dificultad n_columnas puntos  \n",
       "0  5 - Fracciones Algebraicas   p014e01y3          1          2      1  \n",
       "1  5 - Fracciones Algebraicas   p014e01y3          1          2      1  "
      ]
     },
     "metadata": {},
     "output_type": "display_data"
    },
    {
     "data": {
      "text/markdown": [
       "**Ejercicio: **p014e05"
      ],
      "text/plain": [
       "<IPython.core.display.Markdown object>"
      ]
     },
     "metadata": {},
     "output_type": "display_data"
    },
    {
     "data": {
      "text/html": [
       "<div>\n",
       "<style scoped>\n",
       "    .dataframe tbody tr th:only-of-type {\n",
       "        vertical-align: middle;\n",
       "    }\n",
       "\n",
       "    .dataframe tbody tr th {\n",
       "        vertical-align: top;\n",
       "    }\n",
       "\n",
       "    .dataframe thead th {\n",
       "        text-align: right;\n",
       "    }\n",
       "</style>\n",
       "<table border=\"1\" class=\"dataframe\">\n",
       "  <thead>\n",
       "    <tr style=\"text-align: right;\">\n",
       "      <th></th>\n",
       "      <th>enunciado_latex</th>\n",
       "      <th>enunciado</th>\n",
       "      <th>solucion</th>\n",
       "      <th>texto</th>\n",
       "      <th>curso</th>\n",
       "      <th>titulo</th>\n",
       "      <th>n_ejercicio</th>\n",
       "      <th>dificultad</th>\n",
       "      <th>n_columnas</th>\n",
       "      <th>puntos</th>\n",
       "    </tr>\n",
       "  </thead>\n",
       "  <tbody>\n",
       "    <tr>\n",
       "      <th>2</th>\n",
       "      <td>\\frac{{{x^2} - 9}}{{x + 3}}</td>\n",
       "      <td>(x**2 - 9)/(x + 3)</td>\n",
       "      <td>x - 3</td>\n",
       "      <td>Simplifica las siguientes fracciones algebraicas:</td>\n",
       "      <td>1BC</td>\n",
       "      <td>5 - Fracciones Algebraicas</td>\n",
       "      <td>p014e05</td>\n",
       "      <td>1</td>\n",
       "      <td>2</td>\n",
       "      <td>1</td>\n",
       "    </tr>\n",
       "    <tr>\n",
       "      <th>3</th>\n",
       "      <td>\\frac{{{x^2} - 1}}{{{x^3} - x}}</td>\n",
       "      <td>(x**2 - 1)/(x**3 - x)</td>\n",
       "      <td>\\frac{1}{x}</td>\n",
       "      <td>Simplifica las siguientes fracciones algebraicas:</td>\n",
       "      <td>1BC</td>\n",
       "      <td>5 - Fracciones Algebraicas</td>\n",
       "      <td>p014e05</td>\n",
       "      <td>1</td>\n",
       "      <td>2</td>\n",
       "      <td>1</td>\n",
       "    </tr>\n",
       "    <tr>\n",
       "      <th>4</th>\n",
       "      <td>\\frac{{{x^4} - 4{x^2} + 4}}{{{x^4} - 4}}</td>\n",
       "      <td>(x**4 - 4*x**2 + 4)/(x**4 - 4)</td>\n",
       "      <td>\\frac{x^{2} - 2}{x^{2} + 2}</td>\n",
       "      <td>Simplifica las siguientes fracciones algebraicas:</td>\n",
       "      <td>1BC</td>\n",
       "      <td>5 - Fracciones Algebraicas</td>\n",
       "      <td>p014e05</td>\n",
       "      <td>1</td>\n",
       "      <td>2</td>\n",
       "      <td>1</td>\n",
       "    </tr>\n",
       "    <tr>\n",
       "      <th>5</th>\n",
       "      <td>\\frac{{3{x^2} + x}}{{3{x^3} + {x^2} - 12x - 4}}</td>\n",
       "      <td>(3*x**2 + x)/(-12*x + 3*x**3 + x**2 - 4)</td>\n",
       "      <td>\\frac{3 x}{3 x^{2} - 12}</td>\n",
       "      <td>Simplifica las siguientes fracciones algebraicas:</td>\n",
       "      <td>1BC</td>\n",
       "      <td>5 - Fracciones Algebraicas</td>\n",
       "      <td>p014e05</td>\n",
       "      <td>1</td>\n",
       "      <td>2</td>\n",
       "      <td>1</td>\n",
       "    </tr>\n",
       "    <tr>\n",
       "      <th>6</th>\n",
       "      <td>\\frac{{2{x^3} + 3{x^2} - 8x + 3}}{{2{x^3} - {x...</td>\n",
       "      <td>(-8*x + 2*x**3 + 3*x**2 + 3)/(-2*x + 2*x**3 - ...</td>\n",
       "      <td>\\frac{2 x^{3} + 3 x^{2} - 8 x + 3}{2 x^{3} - x...</td>\n",
       "      <td>Simplifica las siguientes fracciones algebraicas:</td>\n",
       "      <td>1BC</td>\n",
       "      <td>5 - Fracciones Algebraicas</td>\n",
       "      <td>p014e05</td>\n",
       "      <td>1</td>\n",
       "      <td>2</td>\n",
       "      <td>1</td>\n",
       "    </tr>\n",
       "    <tr>\n",
       "      <th>7</th>\n",
       "      <td>\\frac{{{x^3} - 5{x^2} + 6x}}{{{x^3} - 4x}}</td>\n",
       "      <td>(6*x + x**3 - 5*x**2)/(x**3 - 4*x)</td>\n",
       "      <td>\\frac{x - 3}{x + 2}</td>\n",
       "      <td>Simplifica las siguientes fracciones algebraicas:</td>\n",
       "      <td>1BC</td>\n",
       "      <td>5 - Fracciones Algebraicas</td>\n",
       "      <td>p014e05</td>\n",
       "      <td>1</td>\n",
       "      <td>2</td>\n",
       "      <td>1</td>\n",
       "    </tr>\n",
       "    <tr>\n",
       "      <th>8</th>\n",
       "      <td>\\frac{{2x - 5}}{{2{x^3} - 5{x^2} - 2x + 5}}</td>\n",
       "      <td>(2*x - 5)/(-2*x + 2*x**3 - 5*x**2 + 5)</td>\n",
       "      <td>\\frac{2}{2 x^{2} - 2}</td>\n",
       "      <td>Simplifica las siguientes fracciones algebraicas:</td>\n",
       "      <td>1BC</td>\n",
       "      <td>5 - Fracciones Algebraicas</td>\n",
       "      <td>p014e05</td>\n",
       "      <td>1</td>\n",
       "      <td>2</td>\n",
       "      <td>1</td>\n",
       "    </tr>\n",
       "    <tr>\n",
       "      <th>9</th>\n",
       "      <td>\\frac{x - 2}{{x^2} - 4}</td>\n",
       "      <td>(x - 2)/(x**2 - 4)</td>\n",
       "      <td>\\frac{1}{x + 2}</td>\n",
       "      <td>Simplifica las siguientes fracciones algebraicas:</td>\n",
       "      <td>1BC</td>\n",
       "      <td>5 - Fracciones Algebraicas</td>\n",
       "      <td>p014e05</td>\n",
       "      <td>1</td>\n",
       "      <td>2</td>\n",
       "      <td>1</td>\n",
       "    </tr>\n",
       "    <tr>\n",
       "      <th>10</th>\n",
       "      <td>\\frac{{{x^2} - 2}}{{x - \\sqrt {2 }}}</td>\n",
       "      <td>(x**2 - 2)/(x - sqrt(2))</td>\n",
       "      <td>x + \\sqrt{2}</td>\n",
       "      <td>Simplifica las siguientes fracciones algebraicas:</td>\n",
       "      <td>1BC</td>\n",
       "      <td>5 - Fracciones Algebraicas</td>\n",
       "      <td>p014e05</td>\n",
       "      <td>1</td>\n",
       "      <td>2</td>\n",
       "      <td>1</td>\n",
       "    </tr>\n",
       "    <tr>\n",
       "      <th>11</th>\n",
       "      <td>\\frac{{{x^2} + 2x + 1}}{{{x^2} - 1}}</td>\n",
       "      <td>(x**2 + 2*x + 1)/(x**2 - 1)</td>\n",
       "      <td>\\frac{x + 1}{x - 1}</td>\n",
       "      <td>Simplifica las siguientes fracciones algebraicas:</td>\n",
       "      <td>1BC</td>\n",
       "      <td>5 - Fracciones Algebraicas</td>\n",
       "      <td>p014e05</td>\n",
       "      <td>1</td>\n",
       "      <td>2</td>\n",
       "      <td>1</td>\n",
       "    </tr>\n",
       "    <tr>\n",
       "      <th>12</th>\n",
       "      <td>\\frac{{{x^3} - 2{x^2} - 5x + 6}}{{{x^2} + x - 2}}</td>\n",
       "      <td>(-5*x + x**3 - 2*x**2 + 6)/(x**2 + x - 2)</td>\n",
       "      <td>x - 3</td>\n",
       "      <td>Simplifica las siguientes fracciones algebraicas:</td>\n",
       "      <td>1BC</td>\n",
       "      <td>5 - Fracciones Algebraicas</td>\n",
       "      <td>p014e05</td>\n",
       "      <td>1</td>\n",
       "      <td>2</td>\n",
       "      <td>1</td>\n",
       "    </tr>\n",
       "  </tbody>\n",
       "</table>\n",
       "</div>"
      ],
      "text/plain": [
       "                                      enunciado_latex  \\\n",
       "2                         \\frac{{{x^2} - 9}}{{x + 3}}   \n",
       "3                     \\frac{{{x^2} - 1}}{{{x^3} - x}}   \n",
       "4            \\frac{{{x^4} - 4{x^2} + 4}}{{{x^4} - 4}}   \n",
       "5     \\frac{{3{x^2} + x}}{{3{x^3} + {x^2} - 12x - 4}}   \n",
       "6   \\frac{{2{x^3} + 3{x^2} - 8x + 3}}{{2{x^3} - {x...   \n",
       "7          \\frac{{{x^3} - 5{x^2} + 6x}}{{{x^3} - 4x}}   \n",
       "8         \\frac{{2x - 5}}{{2{x^3} - 5{x^2} - 2x + 5}}   \n",
       "9                             \\frac{x - 2}{{x^2} - 4}   \n",
       "10               \\frac{{{x^2} - 2}}{{x - \\sqrt {2 }}}   \n",
       "11               \\frac{{{x^2} + 2x + 1}}{{{x^2} - 1}}   \n",
       "12  \\frac{{{x^3} - 2{x^2} - 5x + 6}}{{{x^2} + x - 2}}   \n",
       "\n",
       "                                            enunciado  \\\n",
       "2                                  (x**2 - 9)/(x + 3)   \n",
       "3                               (x**2 - 1)/(x**3 - x)   \n",
       "4                      (x**4 - 4*x**2 + 4)/(x**4 - 4)   \n",
       "5            (3*x**2 + x)/(-12*x + 3*x**3 + x**2 - 4)   \n",
       "6   (-8*x + 2*x**3 + 3*x**2 + 3)/(-2*x + 2*x**3 - ...   \n",
       "7                  (6*x + x**3 - 5*x**2)/(x**3 - 4*x)   \n",
       "8              (2*x - 5)/(-2*x + 2*x**3 - 5*x**2 + 5)   \n",
       "9                                  (x - 2)/(x**2 - 4)   \n",
       "10                           (x**2 - 2)/(x - sqrt(2))   \n",
       "11                        (x**2 + 2*x + 1)/(x**2 - 1)   \n",
       "12          (-5*x + x**3 - 2*x**2 + 6)/(x**2 + x - 2)   \n",
       "\n",
       "                                             solucion  \\\n",
       "2                                               x - 3   \n",
       "3                                         \\frac{1}{x}   \n",
       "4                         \\frac{x^{2} - 2}{x^{2} + 2}   \n",
       "5                            \\frac{3 x}{3 x^{2} - 12}   \n",
       "6   \\frac{2 x^{3} + 3 x^{2} - 8 x + 3}{2 x^{3} - x...   \n",
       "7                                 \\frac{x - 3}{x + 2}   \n",
       "8                               \\frac{2}{2 x^{2} - 2}   \n",
       "9                                     \\frac{1}{x + 2}   \n",
       "10                                       x + \\sqrt{2}   \n",
       "11                                \\frac{x + 1}{x - 1}   \n",
       "12                                              x - 3   \n",
       "\n",
       "                                                texto curso  \\\n",
       "2   Simplifica las siguientes fracciones algebraicas:   1BC   \n",
       "3   Simplifica las siguientes fracciones algebraicas:   1BC   \n",
       "4   Simplifica las siguientes fracciones algebraicas:   1BC   \n",
       "5   Simplifica las siguientes fracciones algebraicas:   1BC   \n",
       "6   Simplifica las siguientes fracciones algebraicas:   1BC   \n",
       "7   Simplifica las siguientes fracciones algebraicas:   1BC   \n",
       "8   Simplifica las siguientes fracciones algebraicas:   1BC   \n",
       "9   Simplifica las siguientes fracciones algebraicas:   1BC   \n",
       "10  Simplifica las siguientes fracciones algebraicas:   1BC   \n",
       "11  Simplifica las siguientes fracciones algebraicas:   1BC   \n",
       "12  Simplifica las siguientes fracciones algebraicas:   1BC   \n",
       "\n",
       "                        titulo n_ejercicio dificultad n_columnas puntos  \n",
       "2   5 - Fracciones Algebraicas     p014e05          1          2      1  \n",
       "3   5 - Fracciones Algebraicas     p014e05          1          2      1  \n",
       "4   5 - Fracciones Algebraicas     p014e05          1          2      1  \n",
       "5   5 - Fracciones Algebraicas     p014e05          1          2      1  \n",
       "6   5 - Fracciones Algebraicas     p014e05          1          2      1  \n",
       "7   5 - Fracciones Algebraicas     p014e05          1          2      1  \n",
       "8   5 - Fracciones Algebraicas     p014e05          1          2      1  \n",
       "9   5 - Fracciones Algebraicas     p014e05          1          2      1  \n",
       "10  5 - Fracciones Algebraicas     p014e05          1          2      1  \n",
       "11  5 - Fracciones Algebraicas     p014e05          1          2      1  \n",
       "12  5 - Fracciones Algebraicas     p014e05          1          2      1  "
      ]
     },
     "metadata": {},
     "output_type": "display_data"
    }
   ],
   "source": [
    "escribir_preambulo(fichero, titulo, 'ejercicios')\n",
    "for s in df_ejercicios.groupby('n_ejercicio').count().index : \n",
    "    display(md(\"**Ejercicio: **\" + s ))\n",
    "    display(df_ejercicios[df_ejercicios.n_ejercicio == s])\n",
    "    escribir_ejercicios(df_ejercicios[df_ejercicios.n_ejercicio == s],fichero)\n",
    "\n",
    "escribir_fin(fichero)"
   ]
  }
 ],
 "metadata": {
  "kernelspec": {
   "display_name": "Python 3",
   "language": "python",
   "name": "python3"
  },
  "language_info": {
   "codemirror_mode": {
    "name": "ipython",
    "version": 3
   },
   "file_extension": ".py",
   "mimetype": "text/x-python",
   "name": "python",
   "nbconvert_exporter": "python",
   "pygments_lexer": "ipython3",
   "version": "3.6.5"
  }
 },
 "nbformat": 4,
 "nbformat_minor": 2
}
