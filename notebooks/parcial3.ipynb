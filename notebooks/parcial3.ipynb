{
 "cells": [
  {
   "cell_type": "code",
   "execution_count": 1,
   "metadata": {},
   "outputs": [
    {
     "name": "stdout",
     "output_type": "stream",
     "text": [
      "IPython console for SymPy 1.4 (Python 3.6.8-64-bit) (ground types: gmpy)\n",
      "\n",
      "These commands were executed:\n",
      ">>> from __future__ import division\n",
      ">>> from sympy import *\n",
      ">>> x, y, z, t = symbols('x y z t')\n",
      ">>> k, m, n = symbols('k m n', integer=True)\n",
      ">>> f, g, h = symbols('f g h', cls=Function)\n",
      ">>> init_printing()\n",
      "\n",
      "Documentation can be found at https://docs.sympy.org/1.4/\n",
      "\n"
     ]
    }
   ],
   "source": [
    "from sympy import init_session\n",
    "from sympy import div, QQ\n",
    "from sympy.parsing.latex import parse_latex\n",
    "from sympy.parsing.sympy_parser import parse_expr\n",
    "from IPython.display import Markdown as md\n",
    "from IPython.display import display\n",
    "import pandas as pd\n",
    "\n",
    "import numpy as np\n",
    "import seaborn as sns\n",
    "\n",
    "import scipy as sc\n",
    "from tabulate import tabulate\n",
    "from scipy.stats import cumfreq, relfreq, norm, linregress, mode\n",
    "#from sympy.stats import variance, Die, Normal, Binomial, FiniteRV, density, P, E, Normal\n",
    "\n",
    "\n",
    "\n",
    "init_session()\n",
    "\n",
    "a, b, c, d = symbols('a b c d', real = True)\n",
    "from docparts import añadir_ejercicios, doc_ejer, escribir_preambulo, escribir_ejercicios, escribir_fin\n",
    "\n",
    "df_ejercicios = pd.DataFrame()\n",
    "\n",
    "fichero = 'parcial 3'\n",
    "titulo = 'Parcial 3ª Evaluación'\n",
    "curso = '1BC'\n",
    "\n",
    "from sympy.stats import variance, Die, Normal, Binomial, FiniteRV, density, P, E, Normal\n",
    "\n",
    "x,y = symbols('x, y', real=True)\n",
    "\n",
    "%matplotlib inline\n"
   ]
  },
  {
   "cell_type": "code",
   "execution_count": 2,
   "metadata": {},
   "outputs": [],
   "source": [
    "def analisis_discreto(texto_ejercicio, str_datos, n_ejercicio='_'):\n",
    "    texto_ejercicio = texto_ejercicio + str_datos\n",
    "    enunciado_latex = [r'Realiza una tabla de frecuencias',\n",
    "                   r'Realiza un diagrama de barras',\n",
    "                   r'Calcular los parámetros de centralización',\n",
    "                   r'Calcular los parámetros de posición P70, Q1, Q3, D4',\n",
    "                   r'Calcular los parámetros de dispersión'\n",
    "                ]\n",
    "    enunciado, solucion = [], []\n",
    "    enunciado = enunciado_latex\n",
    "\n",
    "    datos = np.loadtxt(str_datos.split())\n",
    "    datos = datos.astype(int)\n",
    "    #x_i, f_i, F_i, r_i  = np.unique(datos),np.bincount(datos), cumfreq(datos, numbins=len(np.unique(datos)))[0].astype(int), np.multiply(relfreq(datos, numbins=len(np.unique(datos)))[0],100)\n",
    "    tabla = pd.DataFrame({'x_i':np.unique(datos), 'f_i':np.unique(datos, return_counts=True)[1], 'F_i':np.unique(datos, return_counts=True)[1].cumsum(), 'h_i':np.unique(datos, return_counts=True)[1]/len(datos), 'H_i':(np.unique(datos, return_counts=True)[1]/len(datos)).cumsum(), '%_i':np.unique(datos, return_counts=True)[1]*100/len(datos), '%A_i':(np.unique(datos, return_counts=True)[1]*100/len(datos)).cumsum()}).set_index('x_i')\n",
    "    solucion.append(r\"\\\\\"+tabulate(tabla, headers=\"keys\", tablefmt=\"latex\"))\n",
    "\n",
    "    d = np.diff(np.unique(datos)).min()\n",
    "    left_of_first_bin = datos.min() - float(d)/2\n",
    "    right_of_last_bin = datos.max() + float(d)/2\n",
    "    plt.clf()\n",
    "    plt.hist(datos, np.arange(left_of_first_bin, right_of_last_bin + d, d), rwidth=0.9, cumulative = False)\n",
    "    plt.title(\"Diagrama \"+n_ejercicio)\n",
    "    plt.savefig(\"../img/\"+n_ejercicio)\n",
    "\n",
    "    solucion.append(r\"\\\\ \\resizebox{0.8\\textwidth}{!}{\\includegraphics[width=1\\columnwidth]{%s}}\" % n_ejercicio)\n",
    "    \n",
    "    solucion.append({\"media\":datos.mean(), \"mediana\":np.percentile(datos,50), \"moda\":mode(datos)})\n",
    "    solucion.append({\"P70\":np.percentile(datos,70), \"Q1\":np.percentile(datos,25),\"Q3\":np.percentile(datos,75),\"D4\":np.percentile(datos,40),})\n",
    "    solucion.append({\"rango\":np.amax(datos)-np.amin(datos), \"varianza\": np.var(datos), \"desviación típica\":sqrt(np.var(datos)), \"coeficiente variación\": sqrt(np.var(datos))/abs(np.mean(datos))})\n",
    "    display(tabla, solucion[2] , solucion[3], solucion[4])\n",
    "    return  texto_ejercicio, enunciado_latex, enunciado, solucion, tabla, n_ejercicio\n",
    "\n",
    "\n",
    "def datos_cualitativa(lista):\n",
    "    # Devuelve un diccionario para crear la probabilidad cuantitativa a partir del índice\n",
    "    nplista = np.array(lista)\n",
    "    total = nplista[:,1].astype(int).sum()\n",
    "    lista_val = list(nplista[:,0])\n",
    "    dic ={i:nplista[i,1].astype(int)/total for i,s in enumerate(nplista)}\n",
    "    \n",
    "    return dic,lista_val    \n",
    "\n",
    "def extracciones(datos, remplazamiento=False) :\n",
    "    #Devuelve diccionarios con las extracciones del primer conjunto\n",
    "    diccionarios = []\n",
    "\n",
    "    if remplazamiento is True : \n",
    "        extraccion = 0\n",
    "    else :\n",
    "        extraccion = 1\n",
    "\n",
    "\n",
    "    diccionarios.append(datos_cualitativa(datos))\n",
    "\n",
    "    for i in range(len(datos)):\n",
    "        npdatos = np.array(datos)\n",
    "        npdatos[i,1]=npdatos[i,1].astype(int) - extraccion\n",
    "        diccionarios.append(datos_cualitativa(list(npdatos)))\n",
    "        \n",
    "    return diccionarios\n",
    "\n",
    "\n"
   ]
  },
  {
   "cell_type": "markdown",
   "metadata": {},
   "source": [
    "## Ejercicio 1"
   ]
  },
  {
   "cell_type": "markdown",
   "metadata": {},
   "source": [
    "Una asociación de consumidores ha realizado una prueba sobre la duración de unas bombillas de una conocida marca. Ha mantenido encendidas ininterrumpidamente 100 bombillas hasta que se han estropeado. Sus resultados han sido:"
   ]
  },
  {
   "cell_type": "code",
   "execution_count": 3,
   "metadata": {},
   "outputs": [
    {
     "data": {
      "text/markdown": [
       "\\begin{tabular}{rlr}\n",
       "\\hline\n",
       "    & Duración              &   Cantidad \\\\\n",
       "\\hline\n",
       "  0 & $\\left[36, 42\\right)$ &         12 \\\\\n",
       "  1 & $\\left[42, 48\\right)$ &         28 \\\\\n",
       "  2 & $\\left[48, 54\\right)$ &         45 \\\\\n",
       "  3 & $\\left[54, 60\\right)$ &         15 \\\\\n",
       "\\hline\n",
       "\\end{tabular}"
      ],
      "text/plain": [
       "<IPython.core.display.Markdown object>"
      ]
     },
     "execution_count": 3,
     "metadata": {},
     "output_type": "execute_result"
    }
   ],
   "source": [
    "# límite inferior, superior y frecuencia\n",
    "#datos = np.array([[36,42,12],[42,48,28],[48,54,44],[54,60,11],[60,66,5]])\n",
    "datos = np.array([[36,42,12],[42,48,28],[48,54,45],[54,60,15]])\n",
    "tabla_enunciado = pd.DataFrame(list(zip([r\"$\"+latex(Interval.Ropen(k[0],k[1]))+\"$\" for k in datos[:,0:2]],datos[:,2])), columns=['Duración','Cantidad'])\n",
    "tabla_enunciado_latex = tabulate(tabla_enunciado, headers=\"keys\", tablefmt=\"latex\").replace('\\\\$','$').replace('textbackslash{}','')\n",
    "md(tabla_enunciado_latex)\n"
   ]
  },
  {
   "cell_type": "code",
   "execution_count": 4,
   "metadata": {},
   "outputs": [
    {
     "data": {
      "text/plain": [
       "array([[36., 42., 39., 12.],\n",
       "       [42., 48., 45., 28.],\n",
       "       [48., 54., 51., 45.],\n",
       "       [54., 60., 57., 15.]])"
      ]
     },
     "execution_count": 4,
     "metadata": {},
     "output_type": "execute_result"
    }
   ],
   "source": [
    "marca = (datos[:,1]+datos[:,0])/2\n",
    "marca = marca.reshape(-1,1)\n",
    "datos = np.concatenate((datos, marca), axis=1)[:,[0,1,3,2]]\n",
    "datos"
   ]
  },
  {
   "cell_type": "code",
   "execution_count": 5,
   "metadata": {},
   "outputs": [
    {
     "data": {
      "text/html": [
       "<div>\n",
       "<style scoped>\n",
       "    .dataframe tbody tr th:only-of-type {\n",
       "        vertical-align: middle;\n",
       "    }\n",
       "\n",
       "    .dataframe tbody tr th {\n",
       "        vertical-align: top;\n",
       "    }\n",
       "\n",
       "    .dataframe thead th {\n",
       "        text-align: right;\n",
       "    }\n",
       "</style>\n",
       "<table border=\"1\" class=\"dataframe\">\n",
       "  <thead>\n",
       "    <tr style=\"text-align: right;\">\n",
       "      <th></th>\n",
       "      <th>lim_inf</th>\n",
       "      <th>lim_sup</th>\n",
       "      <th>x_i</th>\n",
       "      <th>f_i</th>\n",
       "      <th>F_i</th>\n",
       "      <th>h_i</th>\n",
       "      <th>H_i</th>\n",
       "      <th>x_if_i</th>\n",
       "      <th>x^2_if_i</th>\n",
       "    </tr>\n",
       "  </thead>\n",
       "  <tbody>\n",
       "    <tr>\n",
       "      <th>0</th>\n",
       "      <td>36.0</td>\n",
       "      <td>42.0</td>\n",
       "      <td>39.0</td>\n",
       "      <td>12.0</td>\n",
       "      <td>12.0</td>\n",
       "      <td>0.12</td>\n",
       "      <td>0.12</td>\n",
       "      <td>468.0</td>\n",
       "      <td>18252.0</td>\n",
       "    </tr>\n",
       "    <tr>\n",
       "      <th>1</th>\n",
       "      <td>42.0</td>\n",
       "      <td>48.0</td>\n",
       "      <td>45.0</td>\n",
       "      <td>28.0</td>\n",
       "      <td>40.0</td>\n",
       "      <td>0.28</td>\n",
       "      <td>0.40</td>\n",
       "      <td>1260.0</td>\n",
       "      <td>56700.0</td>\n",
       "    </tr>\n",
       "    <tr>\n",
       "      <th>2</th>\n",
       "      <td>48.0</td>\n",
       "      <td>54.0</td>\n",
       "      <td>51.0</td>\n",
       "      <td>45.0</td>\n",
       "      <td>85.0</td>\n",
       "      <td>0.45</td>\n",
       "      <td>0.85</td>\n",
       "      <td>2295.0</td>\n",
       "      <td>117045.0</td>\n",
       "    </tr>\n",
       "    <tr>\n",
       "      <th>3</th>\n",
       "      <td>54.0</td>\n",
       "      <td>60.0</td>\n",
       "      <td>57.0</td>\n",
       "      <td>15.0</td>\n",
       "      <td>100.0</td>\n",
       "      <td>0.15</td>\n",
       "      <td>1.00</td>\n",
       "      <td>855.0</td>\n",
       "      <td>48735.0</td>\n",
       "    </tr>\n",
       "    <tr>\n",
       "      <th>4</th>\n",
       "      <td>NaN</td>\n",
       "      <td>NaN</td>\n",
       "      <td>NaN</td>\n",
       "      <td>100.0</td>\n",
       "      <td>NaN</td>\n",
       "      <td>1.00</td>\n",
       "      <td>NaN</td>\n",
       "      <td>4878.0</td>\n",
       "      <td>240732.0</td>\n",
       "    </tr>\n",
       "  </tbody>\n",
       "</table>\n",
       "</div>"
      ],
      "text/plain": [
       "   lim_inf  lim_sup   x_i    f_i    F_i   h_i   H_i  x_if_i  x^2_if_i\n",
       "0     36.0     42.0  39.0   12.0   12.0  0.12  0.12   468.0   18252.0\n",
       "1     42.0     48.0  45.0   28.0   40.0  0.28  0.40  1260.0   56700.0\n",
       "2     48.0     54.0  51.0   45.0   85.0  0.45  0.85  2295.0  117045.0\n",
       "3     54.0     60.0  57.0   15.0  100.0  0.15  1.00   855.0   48735.0\n",
       "4      NaN      NaN   NaN  100.0    NaN  1.00   NaN  4878.0  240732.0"
      ]
     },
     "execution_count": 5,
     "metadata": {},
     "output_type": "execute_result"
    }
   ],
   "source": [
    "tabla = pd.DataFrame({r'lim_inf': datos[:,0],'lim_sup': datos[:,1],\n",
    "                      'x_i': datos[:,2],'f_i':datos[:,3],'F_i':datos[:,3].cumsum(),\n",
    "                     'h_i': datos[:,3]/datos[:,3].sum(), 'H_i':(datos[:,3]/datos[:,3].sum()).cumsum(),\n",
    "                     'x_if_i': datos[:,2]*datos[:,3], 'x^2_if_i': datos[:,2]**2*datos[:,3]})\n",
    "tabla\n",
    "\n",
    "#totales = np.array([np.nan,np.nan,np.nan,tabla.f_i.sum(),tabla.F_i.sum()])\n",
    "totales = pd.DataFrame([[np.nan,np.nan,np.nan,tabla.f_i.sum(),\n",
    "                         np.nan, tabla.h_i.sum(), np.nan,\n",
    "                        tabla.x_if_i.sum(),tabla['x^2_if_i'].sum()]],columns=list(tabla.columns))\n",
    "totales\n",
    "\n",
    "tabla.append(totales,ignore_index=True)"
   ]
  },
  {
   "cell_type": "code",
   "execution_count": 6,
   "metadata": {},
   "outputs": [
    {
     "data": {
      "text/markdown": [
       "\\begin{tabular}{rrrrrrrrrr}\n",
       "\\hline\n",
       "    &   lim\\_inf &   lim\\_sup &   x\\_i &   f\\_i &   F\\_i &   h\\_i &    H\\_i &   x\\_if\\_i &   x\\^{}2\\_if\\_i \\\\\n",
       "\\hline\n",
       "  0 &        36 &        42 &    39 &    12 &    12 &  0.12 &   0.12 &      468 &      18252 \\\\\n",
       "  1 &        42 &        48 &    45 &    28 &    40 &  0.28 &   0.4  &     1260 &      56700 \\\\\n",
       "  2 &        48 &        54 &    51 &    45 &    85 &  0.45 &   0.85 &     2295 &     117045 \\\\\n",
       "  3 &        54 &        60 &    57 &    15 &   100 &  0.15 &   1    &      855 &      48735 \\\\\n",
       "  4 &       nan &       nan &   nan &   100 &   nan &  1    & nan    &     4878 &     240732 \\\\\n",
       "\\hline\n",
       "\\end{tabular}"
      ],
      "text/plain": [
       "<IPython.core.display.Markdown object>"
      ]
     },
     "execution_count": 6,
     "metadata": {},
     "output_type": "execute_result"
    }
   ],
   "source": [
    "md(tabulate(tabla.append(totales,ignore_index=True), headers=\"keys\", tablefmt=\"latex\"))"
   ]
  },
  {
   "cell_type": "markdown",
   "metadata": {},
   "source": [
    "Determina la media, la varianza y la desviación típica:"
   ]
  },
  {
   "cell_type": "code",
   "execution_count": 7,
   "metadata": {},
   "outputs": [
    {
     "data": {
      "text/plain": [
       "{'media': 48.78,\n",
       " 'varianza': 27.83159999999998,\n",
       " 'desviación típica': 5.27556632031102}"
      ]
     },
     "execution_count": 7,
     "metadata": {},
     "output_type": "execute_result"
    }
   ],
   "source": [
    "media = (totales['x_if_i']/totales['f_i'])[0]\n",
    "media\n",
    "\n",
    "var = (totales['x^2_if_i']/totales['f_i']-media**2)[0]\n",
    "\n",
    "desv_tip = sqrt(var)\n",
    "\n",
    "{'media':media, 'varianza': var, 'desviación típica': desv_tip}"
   ]
  },
  {
   "cell_type": "markdown",
   "metadata": {},
   "source": [
    "Calcula la Mediana"
   ]
  },
  {
   "cell_type": "code",
   "execution_count": 8,
   "metadata": {},
   "outputs": [
    {
     "data": {
      "text/plain": [
       "lim_inf         48.00\n",
       "lim_sup         54.00\n",
       "x_i             51.00\n",
       "f_i             45.00\n",
       "F_i             85.00\n",
       "h_i              0.45\n",
       "H_i              0.85\n",
       "x_if_i        2295.00\n",
       "x^2_if_i    117045.00\n",
       "Name: 2, dtype: float64"
      ]
     },
     "execution_count": 8,
     "metadata": {},
     "output_type": "execute_result"
    }
   ],
   "source": [
    "# Índice donde está el percentil\n",
    "\n",
    "perc = 50\n",
    "\n",
    "ind = tabla.loc[tabla.H_i<=perc/100].iloc[-1:].index[0] + 1\n",
    "\n",
    "tabla.iloc[ind]"
   ]
  },
  {
   "cell_type": "code",
   "execution_count": 9,
   "metadata": {},
   "outputs": [
    {
     "name": "stdout",
     "output_type": "stream",
     "text": [
      "{'k': 50, 'N': 100.0, 'L_i': 48.0, 'f_i': 45.0, 'F_{i-1}': 40.0, 'C_i': 6.0}\n"
     ]
    },
    {
     "data": {
      "image/png": "[encoded data removed]",
      "text/latex": [
       "$\\displaystyle 49.333333333333336$"
      ],
      "text/plain": [
       "49.333333333333336"
      ]
     },
     "execution_count": 9,
     "metadata": {},
     "output_type": "execute_result"
    }
   ],
   "source": [
    "k = perc\n",
    "N = totales.f_i[0]\n",
    "L = tabla.iloc[ind].lim_inf\n",
    "f = tabla.iloc[ind].f_i\n",
    "if ind == 0 :\n",
    "    F = 0\n",
    "else:\n",
    "    F = tabla.iloc[ind-1].F_i\n",
    "C = tabla.iloc[ind].lim_sup - tabla.iloc[ind].lim_inf\n",
    "\n",
    "print({'k':k, 'N': N, 'L_i': L, 'f_i': f, 'F_{i-1}':F, 'C_i':C})\n",
    "\n",
    "percentil = L + C*(k*(N/100)-F)/f\n",
    "\n",
    "percentil\n"
   ]
  },
  {
   "cell_type": "markdown",
   "metadata": {},
   "source": [
    "En el anuncio de televisión el fabricante asegura que sus bombillas duran más de 1200 horas. ¿Qué porcentaje de las bombillas no cumple lo enunciado?"
   ]
  },
  {
   "cell_type": "code",
   "execution_count": 9,
   "metadata": {},
   "outputs": [
    {
     "name": "stdout",
     "output_type": "stream",
     "text": [
      "50.0\n",
      "{'valor': 50.0, 'N': 100.0, 'L_i': 48.0, 'f_i': 45.0, 'F_{i-1}': 40.0, 'C_i': 6.0}\n"
     ]
    },
    {
     "data": {
      "image/png": "[encoded data removed]",
      "text/latex": [
       "$\\displaystyle 55.0$"
      ],
      "text/plain": [
       "55.0000000000000"
      ]
     },
     "execution_count": 9,
     "metadata": {},
     "output_type": "execute_result"
    }
   ],
   "source": [
    "valor = 1200/24\n",
    "print(valor)\n",
    "ind = tabla.loc[tabla.lim_inf<=valor].iloc[-1:].index[0]\n",
    "\n",
    "if ind == 0 :\n",
    "    F = 0\n",
    "else:\n",
    "    F = tabla.iloc[ind-1].F_i\n",
    "\n",
    "N = totales.f_i[0]\n",
    "L = tabla.iloc[ind].lim_inf\n",
    "f = tabla.iloc[ind].f_i\n",
    "C = tabla.iloc[ind].lim_sup - tabla.iloc[ind].lim_inf\n",
    "\n",
    "print({'valor':valor, 'N': N, 'L_i': L, 'f_i': f, 'F_{i-1}':F, 'C_i':C})\n",
    "\n",
    "# 100-solve(Eq(valor,L+C*(x*N/100-F)/f))[0]\n",
    "\n",
    "solve(Eq(valor,L+C*(x*N/100-F)/f))[0]"
   ]
  },
  {
   "cell_type": "code",
   "execution_count": 19,
   "metadata": {},
   "outputs": [
    {
     "data": {
      "image/png": "[encoded data removed]",
      "text/latex": [
       "$\\displaystyle 2407.32$"
      ],
      "text/plain": [
       "2407.32"
      ]
     },
     "execution_count": 19,
     "metadata": {},
     "output_type": "execute_result"
    }
   ],
   "source": [
    "240732/100\n"
   ]
  },
  {
   "cell_type": "code",
   "execution_count": 20,
   "metadata": {},
   "outputs": [
    {
     "data": {
      "image/png": "[encoded data removed]",
      "text/latex": [
       "$\\displaystyle 27.83159999999998$"
      ],
      "text/plain": [
       "27.83159999999998"
      ]
     },
     "execution_count": 20,
     "metadata": {},
     "output_type": "execute_result"
    }
   ],
   "source": [
    "_-48.78** 2\n"
   ]
  },
  {
   "cell_type": "code",
   "execution_count": 21,
   "metadata": {},
   "outputs": [
    {
     "data": {
      "image/png": "[encoded data removed]",
      "text/latex": [
       "$\\displaystyle 2379.4884$"
      ],
      "text/plain": [
       "2379.4884"
      ]
     },
     "execution_count": 21,
     "metadata": {},
     "output_type": "execute_result"
    }
   ],
   "source": [
    "48.78** 2"
   ]
  },
  {
   "cell_type": "code",
   "execution_count": 11,
   "metadata": {},
   "outputs": [
    {
     "data": {
      "text/markdown": [
       "**En Utebo, el 50\\% de sus habitantes es mayor de 60 años, el 40\\% fuma y el 60\\% \n",
       "fuma o es mayor de 60 años. \n",
       "Calcula la probabilidad de los siguientes sucesos:**"
      ],
      "text/plain": [
       "<IPython.core.display.Markdown object>"
      ]
     },
     "metadata": {},
     "output_type": "display_data"
    },
    {
     "data": {
      "text/markdown": [
       "i) Ser mayor de 60 años y fumar \\\\ ii) No fumar \\rightarrow \\left[ \\frac{3}{10}, \\  \\frac{3}{5}\\right]"
      ],
      "text/plain": [
       "<IPython.core.display.Markdown object>"
      ]
     },
     "metadata": {},
     "output_type": "display_data"
    }
   ],
   "source": [
    "# Página 98 ejercicio 6\n",
    "\n",
    "p_total, p_1, p_2, p_uni = [100,50,40,60]\n",
    "p_int = p_1 + p_2 - p_uni\n",
    "\n",
    "texto_ejercicio = r\"\"\"En Utebo, el {}\\% de sus habitantes es mayor de 60 años, el {}\\% fuma y el {}\\% \n",
    "fuma o es mayor de 60 años. \n",
    "Calcula la probabilidad de los siguientes sucesos:\"\"\".format(p_1, p_2, p_uni) \n",
    "\n",
    "n_ejercicio = 'ex21e02'\n",
    "\n",
    "display(md(\"**\"+texto_ejercicio+\"**\"))\n",
    "\n",
    "# vectores iniciales correspondientes al texto del enunciado\n",
    "\n",
    "dic_1, val_1 = datos_cualitativa([['S',p_1],['N',p_total-p_1]])\n",
    "dic_2, val_2 = datos_cualitativa([['S',p_2],['N',p_total-p_2]])\n",
    "\n",
    "mayor = FiniteRV('mayor',density=dic_1)\n",
    "casado = FiniteRV('casado',density=dic_2)\n",
    "\n",
    "\n",
    "enunciado_latex, enunciado, solucion = [],[],[]\n",
    "\n",
    "en = r\"\"\"i) Ser mayor de 60 años y fumar \\\\ \\\n",
    "ii) No fumar\"\"\" \n",
    "\n",
    "enunciado_latex.append(en)\n",
    "enunciado = str(en)\n",
    "solucion.append(latex([nsimplify(p_int/p_total),\n",
    "nsimplify(P(Eq(casado,val_2.index('N'))))]))\n",
    "\n",
    "display(md(\"\"+ enunciado_latex[0] +\" \\\\rightarrow \" + solucion[0] +\"\"))\n",
    "    \n",
    "\n",
    "df_ejercicios = df_ejercicios.append(añadir_ejercicios(enunciado_latex, enunciado, solucion, texto_ejercicio, curso, titulo , n_ejercicio, '1', '2', enun_tex=False), ignore_index=True)\n"
   ]
  },
  {
   "cell_type": "code",
   "execution_count": 12,
   "metadata": {},
   "outputs": [
    {
     "data": {
      "text/markdown": [
       "**Dos fábricas producen el mismo televisor. La fábrica A produce el 60% de todos los televisore.\n",
       "El 1% de todos los televisores producidos por la fábrica A salen defectuosos, mientras que el 2% de los\n",
       "televisores producidos por la fábrica B son defectuosos. Se selecciona un televisor al azar de entre\n",
       "todos los fabricados:\n",
       "**"
      ],
      "text/plain": [
       "<IPython.core.display.Markdown object>"
      ]
     },
     "metadata": {},
     "output_type": "display_data"
    },
    {
     "data": {
      "image/png": "[encoded data removed]",
      "text/latex": [
       "$\\displaystyle \\left\\{ 0 : 0.6, \\  1 : 0.4\\right\\}$"
      ],
      "text/plain": [
       "{0: 0.6, 1: 0.4}"
      ]
     },
     "metadata": {},
     "output_type": "display_data"
    },
    {
     "data": {
      "image/png": "[encoded data removed]",
      "text/latex": [
       "$\\displaystyle \\left\\{ 0 : 0.01, \\  1 : 0.99\\right\\}$"
      ],
      "text/plain": [
       "{0: 0.01, 1: 0.99}"
      ]
     },
     "metadata": {},
     "output_type": "display_data"
    },
    {
     "data": {
      "image/png": "[encoded data removed]",
      "text/latex": [
       "$\\displaystyle \\left\\{ 0 : 0.02, \\  1 : 0.98\\right\\}$"
      ],
      "text/plain": [
       "{0: 0.02, 1: 0.98}"
      ]
     },
     "metadata": {},
     "output_type": "display_data"
    },
    {
     "data": {
      "text/markdown": [
       "i) calcular la probabilidad de que sea defectuoso\n",
       "ii) Si sabemos que el televisor es defectuoso, calcula la probabilidad de que haya sido producido por la\n",
       "planta A. \\rightarrow \\left[ \\frac{7}{500}, \\  \\frac{3}{7}\\right]"
      ],
      "text/plain": [
       "<IPython.core.display.Markdown object>"
      ]
     },
     "metadata": {},
     "output_type": "display_data"
    }
   ],
   "source": [
    "# Página 99 ejercicio 18\n",
    "\n",
    "# Bayes\n",
    "\n",
    "\n",
    "pr0=60\n",
    "pr1=1\n",
    "pr2=2\n",
    "datos = [[['A',pr0],['B',100-pr0]],[['D',pr1],['ND',100-pr1]],[['D',pr2],['ND',100-pr2]]]\n",
    "\n",
    "texto_ejercicio = r\"\"\"Dos fábricas producen el mismo televisor. La fábrica A produce el {}% de todos los televisore.\n",
    "El {}% de todos los televisores producidos por la fábrica A salen defectuosos, mientras que el {}% de los\n",
    "televisores producidos por la fábrica B son defectuosos. Se selecciona un televisor al azar de entre\n",
    "todos los fabricados:\n",
    "\"\"\".format(pr0,pr1,pr2)\n",
    "\n",
    "n_ejercicio = 'ex21e03'\n",
    "\n",
    "display(md(\"**\"+texto_ejercicio+\"**\"))\n",
    "\n",
    "diccionarios = [datos_cualitativa(datos[i]) for i,s  in enumerate(datos)]\n",
    "\n",
    "ini = FiniteRV('ini',density=diccionarios[0][0])\n",
    "si_1 = FiniteRV('si_1',density=diccionarios[1][0])\n",
    "si_2 = FiniteRV('si_2',density=diccionarios[2][0])\n",
    "\n",
    "display(density(ini).dict,density(si_1).dict,density(si_2).dict)\n",
    "\n",
    "enunciado_latex, enunciado, solucion = [],[],[]\n",
    "\n",
    "en = r\"\"\"i) calcular la probabilidad de que sea defectuoso\n",
    "ii) Si sabemos que el televisor es defectuoso, calcula la probabilidad de que haya sido producido por la\n",
    "planta A.\"\"\" \n",
    "\n",
    "enunciado_latex.append(en)\n",
    "enunciado = str(en)\n",
    "\n",
    "#P(Eq(frances,val_1.index('F')))\n",
    "\n",
    "p1 = P(Eq(ini,0))*P(Eq(si_1,0))+P(Eq(ini,1))*P(Eq(si_2,0))\n",
    "p2 = (P(Eq(ini,0))*P(Eq(si_1,0)))/(P(Eq(ini,0))*P(Eq(si_1,0))+P(Eq(ini,1))*P(Eq(si_2,0)))\n",
    "solucion.append(latex([nsimplify(p1),\n",
    "                       nsimplify(p2)\n",
    "               ]))\n",
    "\n",
    "display(md(\"\"+ enunciado_latex[0] +\" \\\\rightarrow \" + solucion[0] +\"\"))\n",
    "\n",
    "df_ejercicios = df_ejercicios.append(añadir_ejercicios(enunciado_latex, enunciado, solucion, texto_ejercicio, curso, titulo , n_ejercicio, '1', '2', enun_tex=False), ignore_index=True)\n"
   ]
  },
  {
   "cell_type": "code",
   "execution_count": 13,
   "metadata": {},
   "outputs": [
    {
     "data": {
      "text/markdown": [
       "**Un jugador de baloncesto tiene un porcentaje de acierto en tiros de 2 del 70 \\%. Si tira 5\n",
       "veces:\\\\ \n",
       "    **"
      ],
      "text/plain": [
       "<IPython.core.display.Markdown object>"
      ]
     },
     "metadata": {},
     "output_type": "display_data"
    },
    {
     "data": {
      "text/markdown": [
       "Describe la variable del ejercicio$  \\rightarrow $$\\left\\{ 0 : 0.00243, \\  1 : 0.02835, \\  2 : 0.1323, \\  3 : 0.3087, \\  4 : 0.36015, \\  5 : 0.16807\\right\\}$"
      ],
      "text/plain": [
       "<IPython.core.display.Markdown object>"
      ]
     },
     "metadata": {},
     "output_type": "display_data"
    },
    {
     "data": {
      "text/markdown": [
       "Calcula la probabilidad de que enceste 4$  \\rightarrow $$P{\\left(X = 4 \\right)}=0.36015$"
      ],
      "text/plain": [
       "<IPython.core.display.Markdown object>"
      ]
     },
     "metadata": {},
     "output_type": "display_data"
    },
    {
     "data": {
      "text/markdown": [
       "Calcula la probabilidad de que enceste al menos 1$  \\rightarrow $$P{\\left(X \\geq 1 \\right)}=0.99757$"
      ],
      "text/plain": [
       "<IPython.core.display.Markdown object>"
      ]
     },
     "metadata": {},
     "output_type": "display_data"
    },
    {
     "data": {
      "text/markdown": [
       "Calcula la probabilidad de que enceste más de 4$  \\rightarrow $$P{\\left(X > 4 \\right)}=0.16807$"
      ],
      "text/plain": [
       "<IPython.core.display.Markdown object>"
      ]
     },
     "metadata": {},
     "output_type": "display_data"
    }
   ],
   "source": [
    "puntuacion = '1'                          \n",
    "                      \n",
    "\n",
    "datos = [[70,5]]\n",
    "\n",
    "# vectores iniciales correspondientes al texto del enunciado\n",
    "\n",
    "for i, s in enumerate(datos) : \n",
    "    n_ejercicio = 'ex21e04-'+ str(i)\n",
    "    \n",
    "    \n",
    "    texto_ejercicio = r\"\"\"Un jugador de baloncesto tiene un porcentaje de acierto en tiros de 2 del {} \\%. Si tira {}\n",
    "veces:\\\\ \n",
    "    \"\"\".format(datos[i][0],datos[i][1])\n",
    "    \n",
    "    display(md(\"**\"+texto_ejercicio+\"**\"))\n",
    "    \n",
    "    p, n  = datos[i]\n",
    "    X = Binomial('X',n,p/100) \n",
    "\n",
    "    enunciado_latex, enunciado, solucion = [],[],[]\n",
    "    \n",
    "    expr = r\"Describe la variable del ejercicio\"\n",
    "    enunciado_latex.append(expr)\n",
    "    en=\"density(X).dict\"\n",
    "    enunciado.append(en)\n",
    "    sol = r\"$\"\n",
    "    sol+=latex(eval(en))+r\"$\"\n",
    "    solucion.append(sol)\n",
    "    display(md(\"\"+latex(enunciado_latex[0]) +\"$  \\\\rightarrow $\" + latex(solucion[0])))\n",
    "    \n",
    "    #Calcula\n",
    "    \n",
    "    expr = r\"Calcula la probabilidad de que enceste 4\"\n",
    "    enunciado_latex.append(expr)\n",
    "    en=\"P(Eq(X,4))\"\n",
    "    enunciado.append(en)\n",
    "    sol = r\"$\"+latex(parse_expr(en))+\"=\"\n",
    "    #sol+=latex(eval(enunciado[0]))+r\"$ y $\"+latex(eval(enunciado[1]))+r\"$\"\n",
    "    sol+=latex(eval(en))+r\"$\"\n",
    "    solucion.append(sol)\n",
    "    display(md(\"\"+latex(enunciado_latex[1]) +\"$  \\\\rightarrow $\" + latex(solucion[1]) ))\n",
    "    \n",
    "    expr = r\"Calcula la probabilidad de que enceste al menos 1\"\n",
    "    enunciado_latex.append(expr)\n",
    "    en=\"P(X>=1)\"\n",
    "    enunciado.append(en)\n",
    "    sol = r\"$\"+latex(parse_expr(en))+\"=\"\n",
    "    #sol+=latex(eval(enunciado[0]))+r\"$ y $\"+latex(eval(enunciado[1]))+r\"$\"\n",
    "    sol+=latex(eval(en))+r\"$\"\n",
    "    solucion.append(sol)\n",
    "    display(md(\"\"+latex(enunciado_latex[2]) +\"$  \\\\rightarrow $\" + latex(solucion[2]) ))\n",
    "\n",
    "    \n",
    "    expr = r\"Calcula la probabilidad de que enceste más de 4\"\n",
    "    enunciado_latex.append(expr)\n",
    "    en = \"P(X>4)\"\n",
    "    enunciado.append(en)\n",
    "    sol = r\"$\"+latex(parse_expr(en))+\"=\"\n",
    "    #sol+=latex(eval(enunciado[0]))+r\"$ y $\"+latex(eval(enunciado[1]))+r\"$\"\n",
    "    sol+=latex(eval(en))+r\"$\"\n",
    "    solucion.append(sol)\n",
    "    display(md(\"\"+latex(enunciado_latex[3]) +\"$  \\\\rightarrow $\" + latex(solucion[3]) ))\n",
    "\n",
    "    \n",
    "    df_ejercicios = df_ejercicios.append(añadir_ejercicios(enunciado_latex, enunciado, solucion, texto_ejercicio, curso, titulo , n_ejercicio, '5', '1', enun_tex=False, sol_tex=False), ignore_index=True)\n",
    "    \n",
    "\n"
   ]
  },
  {
   "cell_type": "code",
   "execution_count": 14,
   "metadata": {},
   "outputs": [
    {
     "data": {
      "text/markdown": [
       "**La duración media de un televisor es de 10 años, con una desviación típica igual a 2 años. Si la\n",
       "vida útil del electrodoméstico se distribuye normalmente. Halla la probabilidad de que al comprar\n",
       "un televisor: \n",
       "    **"
      ],
      "text/plain": [
       "<IPython.core.display.Markdown object>"
      ]
     },
     "metadata": {},
     "output_type": "display_data"
    },
    {
     "data": {
      "text/markdown": [
       " este dure más de 12 años$  \\rightarrow $$P{\\left(X \\geq 12 \\right)}=0.158655253931457$"
      ],
      "text/plain": [
       "<IPython.core.display.Markdown object>"
      ]
     },
     "metadata": {},
     "output_type": "display_data"
    },
    {
     "data": {
      "text/markdown": [
       " este dure entre 8 y 12 años$  \\rightarrow $$P{\\left(X \\geq 8 \\wedge X \\leq 12 \\right)}=0.682689492137086$"
      ],
      "text/plain": [
       "<IPython.core.display.Markdown object>"
      ]
     },
     "metadata": {},
     "output_type": "display_data"
    }
   ],
   "source": [
    "puntuacion = '1'                          \n",
    "                      \n",
    "\n",
    "datos = [[10,2,12]]\n",
    "\n",
    "# vectores iniciales correspondientes al texto del enunciado\n",
    "\n",
    "for i, s in enumerate(datos) : \n",
    "    n_ejercicio = 'ex21e05-'+ str(i)\n",
    "    \n",
    "    \n",
    "    texto_ejercicio = r\"\"\"La duración media de un televisor es de {} años, con una desviación típica igual a {} años. Si la\n",
    "vida útil del electrodoméstico se distribuye normalmente. Halla la probabilidad de que al comprar\n",
    "un televisor: \n",
    "    \"\"\".format(datos[i][0],datos[i][1])\n",
    "    \n",
    "    display(md(\"**\"+texto_ejercicio+\"**\"))\n",
    "    \n",
    "    m, d, valor  = datos[i]\n",
    "    X = Normal('X',m,d) \n",
    "\n",
    "    enunciado_latex, enunciado, solucion = [],[],[]\n",
    "    \n",
    "    \n",
    "    #Calcula\n",
    "    \n",
    "    expr = r\"\"\" este dure más de {} años\"\"\".format(valor)\n",
    "    enunciado_latex.append(expr)\n",
    "    en=\"P(X>={})\".format(valor)\n",
    "    enunciado.append(en)\n",
    "    sol = r\"$\"+latex(parse_expr(en))+\"=\"\n",
    "    #sol+=latex(eval(enunciado[0]))+r\"$ y $\"+latex(eval(enunciado[1]))+r\"$\"\n",
    "    sol+=latex(eval(en).evalf())+r\"$\"\n",
    "    solucion.append(sol)\n",
    "    display(md(\"\"+latex(enunciado_latex[0]) +\"$  \\\\rightarrow $\" + latex(solucion[0]) ))\n",
    "    \n",
    "    \n",
    "    #Calcula\n",
    "    \n",
    "    expr = r\"\"\" este dure entre {} y {} años\"\"\".format(datos[i][0]-2, datos[i][0]+2)\n",
    "    enunciado_latex.append(expr)\n",
    "    en=\"P(And(X>={},X<={}))\".format(datos[i][0]-2, datos[i][0]+2)\n",
    "    enunciado.append(en)\n",
    "    sol = r\"$\"+latex(parse_expr(en))+\"=\"\n",
    "    #sol+=latex(eval(enunciado[0]))+r\"$ y $\"+latex(eval(enunciado[1]))+r\"$\"\n",
    "    sol+=latex(eval(en).evalf())+r\"$\"\n",
    "    solucion.append(sol)\n",
    "    display(md(\"\"+latex(enunciado_latex[1]) +\"$  \\\\rightarrow $\" + latex(solucion[1]) ))\n",
    "\n",
    "  \n",
    "    df_ejercicios = df_ejercicios.append(añadir_ejercicios(enunciado_latex, enunciado, solucion, texto_ejercicio, curso, titulo , n_ejercicio, '5', '1', enun_tex=False, sol_tex=False), ignore_index=True)\n",
    "\n",
    "  \n",
    "    df_ejercicios = df_ejercicios.append(añadir_ejercicios(enunciado_latex, enunciado, solucion, texto_ejercicio, curso, titulo , n_ejercicio, '5', '1', enun_tex=False, sol_tex=False), ignore_index=True)\n"
   ]
  },
  {
   "cell_type": "code",
   "execution_count": 15,
   "metadata": {},
   "outputs": [
    {
     "data": {
      "text/html": [
       "<div>\n",
       "<style scoped>\n",
       "    .dataframe tbody tr th:only-of-type {\n",
       "        vertical-align: middle;\n",
       "    }\n",
       "\n",
       "    .dataframe tbody tr th {\n",
       "        vertical-align: top;\n",
       "    }\n",
       "\n",
       "    .dataframe thead th {\n",
       "        text-align: right;\n",
       "    }\n",
       "</style>\n",
       "<table border=\"1\" class=\"dataframe\">\n",
       "  <thead>\n",
       "    <tr style=\"text-align: right;\">\n",
       "      <th></th>\n",
       "      <th>enunciado_latex</th>\n",
       "      <th>enunciado</th>\n",
       "      <th>solucion</th>\n",
       "      <th>texto</th>\n",
       "      <th>curso</th>\n",
       "      <th>titulo</th>\n",
       "      <th>n_ejercicio</th>\n",
       "      <th>dificultad</th>\n",
       "      <th>n_columnas</th>\n",
       "      <th>puntos</th>\n",
       "      <th>enun_tex</th>\n",
       "      <th>sol_tex</th>\n",
       "    </tr>\n",
       "  </thead>\n",
       "  <tbody>\n",
       "    <tr>\n",
       "      <th>0</th>\n",
       "      <td>i) Ser mayor de 60 años y fumar \\\\ ii) No fumar</td>\n",
       "      <td>i) Ser mayor de 60 años y fumar \\\\ ii) No fumar</td>\n",
       "      <td>\\left[ \\frac{3}{10}, \\  \\frac{3}{5}\\right]</td>\n",
       "      <td>En Utebo, el 50\\% de sus habitantes es mayor d...</td>\n",
       "      <td>1BC</td>\n",
       "      <td>Parcial 3ª Evaluación</td>\n",
       "      <td>ex21e02</td>\n",
       "      <td>1</td>\n",
       "      <td>2</td>\n",
       "      <td>1</td>\n",
       "      <td>False</td>\n",
       "      <td>True</td>\n",
       "    </tr>\n",
       "    <tr>\n",
       "      <th>1</th>\n",
       "      <td>i) calcular la probabilidad de que sea defectu...</td>\n",
       "      <td>i) calcular la probabilidad de que sea defectu...</td>\n",
       "      <td>\\left[ \\frac{7}{500}, \\  \\frac{3}{7}\\right]</td>\n",
       "      <td>Dos fábricas producen el mismo televisor. La f...</td>\n",
       "      <td>1BC</td>\n",
       "      <td>Parcial 3ª Evaluación</td>\n",
       "      <td>ex21e03</td>\n",
       "      <td>1</td>\n",
       "      <td>2</td>\n",
       "      <td>1</td>\n",
       "      <td>False</td>\n",
       "      <td>True</td>\n",
       "    </tr>\n",
       "    <tr>\n",
       "      <th>2</th>\n",
       "      <td>Describe la variable del ejercicio</td>\n",
       "      <td>density(X).dict</td>\n",
       "      <td>$\\left\\{ 0 : 0.00243, \\  1 : 0.02835, \\  2 : 0...</td>\n",
       "      <td>Un jugador de baloncesto tiene un porcentaje d...</td>\n",
       "      <td>1BC</td>\n",
       "      <td>Parcial 3ª Evaluación</td>\n",
       "      <td>ex21e04-0</td>\n",
       "      <td>5</td>\n",
       "      <td>1</td>\n",
       "      <td>1</td>\n",
       "      <td>False</td>\n",
       "      <td>False</td>\n",
       "    </tr>\n",
       "    <tr>\n",
       "      <th>3</th>\n",
       "      <td>Calcula la probabilidad de que enceste 4</td>\n",
       "      <td>P(Eq(X,4))</td>\n",
       "      <td>$P{\\left(X = 4 \\right)}=0.36015$</td>\n",
       "      <td>Un jugador de baloncesto tiene un porcentaje d...</td>\n",
       "      <td>1BC</td>\n",
       "      <td>Parcial 3ª Evaluación</td>\n",
       "      <td>ex21e04-0</td>\n",
       "      <td>5</td>\n",
       "      <td>1</td>\n",
       "      <td>1</td>\n",
       "      <td>False</td>\n",
       "      <td>False</td>\n",
       "    </tr>\n",
       "    <tr>\n",
       "      <th>4</th>\n",
       "      <td>Calcula la probabilidad de que enceste al menos 1</td>\n",
       "      <td>P(X&gt;=1)</td>\n",
       "      <td>$P{\\left(X \\geq 1 \\right)}=0.99757$</td>\n",
       "      <td>Un jugador de baloncesto tiene un porcentaje d...</td>\n",
       "      <td>1BC</td>\n",
       "      <td>Parcial 3ª Evaluación</td>\n",
       "      <td>ex21e04-0</td>\n",
       "      <td>5</td>\n",
       "      <td>1</td>\n",
       "      <td>1</td>\n",
       "      <td>False</td>\n",
       "      <td>False</td>\n",
       "    </tr>\n",
       "    <tr>\n",
       "      <th>5</th>\n",
       "      <td>Calcula la probabilidad de que enceste más de 4</td>\n",
       "      <td>P(X&gt;4)</td>\n",
       "      <td>$P{\\left(X &gt; 4 \\right)}=0.16807$</td>\n",
       "      <td>Un jugador de baloncesto tiene un porcentaje d...</td>\n",
       "      <td>1BC</td>\n",
       "      <td>Parcial 3ª Evaluación</td>\n",
       "      <td>ex21e04-0</td>\n",
       "      <td>5</td>\n",
       "      <td>1</td>\n",
       "      <td>1</td>\n",
       "      <td>False</td>\n",
       "      <td>False</td>\n",
       "    </tr>\n",
       "    <tr>\n",
       "      <th>6</th>\n",
       "      <td>este dure más de 12 años</td>\n",
       "      <td>P(X&gt;=12)</td>\n",
       "      <td>$P{\\left(X \\geq 12 \\right)}=0.158655253931457$</td>\n",
       "      <td>La duración media de un televisor es de 10 año...</td>\n",
       "      <td>1BC</td>\n",
       "      <td>Parcial 3ª Evaluación</td>\n",
       "      <td>ex21e05-0</td>\n",
       "      <td>5</td>\n",
       "      <td>1</td>\n",
       "      <td>1</td>\n",
       "      <td>False</td>\n",
       "      <td>False</td>\n",
       "    </tr>\n",
       "    <tr>\n",
       "      <th>7</th>\n",
       "      <td>este dure entre 8 y 12 años</td>\n",
       "      <td>P(And(X&gt;=8,X&lt;=12))</td>\n",
       "      <td>$P{\\left(X \\geq 8 \\wedge X \\leq 12 \\right)}=0....</td>\n",
       "      <td>La duración media de un televisor es de 10 año...</td>\n",
       "      <td>1BC</td>\n",
       "      <td>Parcial 3ª Evaluación</td>\n",
       "      <td>ex21e05-0</td>\n",
       "      <td>5</td>\n",
       "      <td>1</td>\n",
       "      <td>1</td>\n",
       "      <td>False</td>\n",
       "      <td>False</td>\n",
       "    </tr>\n",
       "    <tr>\n",
       "      <th>8</th>\n",
       "      <td>este dure más de 12 años</td>\n",
       "      <td>P(X&gt;=12)</td>\n",
       "      <td>$P{\\left(X \\geq 12 \\right)}=0.158655253931457$</td>\n",
       "      <td>La duración media de un televisor es de 10 año...</td>\n",
       "      <td>1BC</td>\n",
       "      <td>Parcial 3ª Evaluación</td>\n",
       "      <td>ex21e05-0</td>\n",
       "      <td>5</td>\n",
       "      <td>1</td>\n",
       "      <td>1</td>\n",
       "      <td>False</td>\n",
       "      <td>False</td>\n",
       "    </tr>\n",
       "    <tr>\n",
       "      <th>9</th>\n",
       "      <td>este dure entre 8 y 12 años</td>\n",
       "      <td>P(And(X&gt;=8,X&lt;=12))</td>\n",
       "      <td>$P{\\left(X \\geq 8 \\wedge X \\leq 12 \\right)}=0....</td>\n",
       "      <td>La duración media de un televisor es de 10 año...</td>\n",
       "      <td>1BC</td>\n",
       "      <td>Parcial 3ª Evaluación</td>\n",
       "      <td>ex21e05-0</td>\n",
       "      <td>5</td>\n",
       "      <td>1</td>\n",
       "      <td>1</td>\n",
       "      <td>False</td>\n",
       "      <td>False</td>\n",
       "    </tr>\n",
       "  </tbody>\n",
       "</table>\n",
       "</div>"
      ],
      "text/plain": [
       "                                     enunciado_latex  \\\n",
       "0    i) Ser mayor de 60 años y fumar \\\\ ii) No fumar   \n",
       "1  i) calcular la probabilidad de que sea defectu...   \n",
       "2                 Describe la variable del ejercicio   \n",
       "3           Calcula la probabilidad de que enceste 4   \n",
       "4  Calcula la probabilidad de que enceste al menos 1   \n",
       "5    Calcula la probabilidad de que enceste más de 4   \n",
       "6                           este dure más de 12 años   \n",
       "7                        este dure entre 8 y 12 años   \n",
       "8                           este dure más de 12 años   \n",
       "9                        este dure entre 8 y 12 años   \n",
       "\n",
       "                                           enunciado  \\\n",
       "0    i) Ser mayor de 60 años y fumar \\\\ ii) No fumar   \n",
       "1  i) calcular la probabilidad de que sea defectu...   \n",
       "2                                    density(X).dict   \n",
       "3                                         P(Eq(X,4))   \n",
       "4                                            P(X>=1)   \n",
       "5                                             P(X>4)   \n",
       "6                                           P(X>=12)   \n",
       "7                                 P(And(X>=8,X<=12))   \n",
       "8                                           P(X>=12)   \n",
       "9                                 P(And(X>=8,X<=12))   \n",
       "\n",
       "                                            solucion  \\\n",
       "0         \\left[ \\frac{3}{10}, \\  \\frac{3}{5}\\right]   \n",
       "1        \\left[ \\frac{7}{500}, \\  \\frac{3}{7}\\right]   \n",
       "2  $\\left\\{ 0 : 0.00243, \\  1 : 0.02835, \\  2 : 0...   \n",
       "3                   $P{\\left(X = 4 \\right)}=0.36015$   \n",
       "4                $P{\\left(X \\geq 1 \\right)}=0.99757$   \n",
       "5                   $P{\\left(X > 4 \\right)}=0.16807$   \n",
       "6     $P{\\left(X \\geq 12 \\right)}=0.158655253931457$   \n",
       "7  $P{\\left(X \\geq 8 \\wedge X \\leq 12 \\right)}=0....   \n",
       "8     $P{\\left(X \\geq 12 \\right)}=0.158655253931457$   \n",
       "9  $P{\\left(X \\geq 8 \\wedge X \\leq 12 \\right)}=0....   \n",
       "\n",
       "                                               texto curso  \\\n",
       "0  En Utebo, el 50\\% de sus habitantes es mayor d...   1BC   \n",
       "1  Dos fábricas producen el mismo televisor. La f...   1BC   \n",
       "2  Un jugador de baloncesto tiene un porcentaje d...   1BC   \n",
       "3  Un jugador de baloncesto tiene un porcentaje d...   1BC   \n",
       "4  Un jugador de baloncesto tiene un porcentaje d...   1BC   \n",
       "5  Un jugador de baloncesto tiene un porcentaje d...   1BC   \n",
       "6  La duración media de un televisor es de 10 año...   1BC   \n",
       "7  La duración media de un televisor es de 10 año...   1BC   \n",
       "8  La duración media de un televisor es de 10 año...   1BC   \n",
       "9  La duración media de un televisor es de 10 año...   1BC   \n",
       "\n",
       "                  titulo n_ejercicio dificultad n_columnas puntos  enun_tex  \\\n",
       "0  Parcial 3ª Evaluación     ex21e02          1          2      1     False   \n",
       "1  Parcial 3ª Evaluación     ex21e03          1          2      1     False   \n",
       "2  Parcial 3ª Evaluación   ex21e04-0          5          1      1     False   \n",
       "3  Parcial 3ª Evaluación   ex21e04-0          5          1      1     False   \n",
       "4  Parcial 3ª Evaluación   ex21e04-0          5          1      1     False   \n",
       "5  Parcial 3ª Evaluación   ex21e04-0          5          1      1     False   \n",
       "6  Parcial 3ª Evaluación   ex21e05-0          5          1      1     False   \n",
       "7  Parcial 3ª Evaluación   ex21e05-0          5          1      1     False   \n",
       "8  Parcial 3ª Evaluación   ex21e05-0          5          1      1     False   \n",
       "9  Parcial 3ª Evaluación   ex21e05-0          5          1      1     False   \n",
       "\n",
       "   sol_tex  \n",
       "0     True  \n",
       "1     True  \n",
       "2    False  \n",
       "3    False  \n",
       "4    False  \n",
       "5    False  \n",
       "6    False  \n",
       "7    False  \n",
       "8    False  \n",
       "9    False  "
      ]
     },
     "execution_count": 15,
     "metadata": {},
     "output_type": "execute_result"
    }
   ],
   "source": [
    "df_ejercicios"
   ]
  },
  {
   "cell_type": "code",
   "execution_count": 16,
   "metadata": {},
   "outputs": [],
   "source": [
    "df_ejercicios.to_csv('ejercicios_parcial3.csv', index = False)"
   ]
  },
  {
   "cell_type": "code",
   "execution_count": 17,
   "metadata": {},
   "outputs": [],
   "source": [
    "df_ejercicios = pd.read_csv('ejercicios_parcial3.csv', index_col= None)"
   ]
  },
  {
   "cell_type": "code",
   "execution_count": 18,
   "metadata": {},
   "outputs": [
    {
     "data": {
      "text/markdown": [
       "**Ejercicio: **ex21e02"
      ],
      "text/plain": [
       "<IPython.core.display.Markdown object>"
      ]
     },
     "metadata": {},
     "output_type": "display_data"
    },
    {
     "data": {
      "text/html": [
       "<div>\n",
       "<style scoped>\n",
       "    .dataframe tbody tr th:only-of-type {\n",
       "        vertical-align: middle;\n",
       "    }\n",
       "\n",
       "    .dataframe tbody tr th {\n",
       "        vertical-align: top;\n",
       "    }\n",
       "\n",
       "    .dataframe thead th {\n",
       "        text-align: right;\n",
       "    }\n",
       "</style>\n",
       "<table border=\"1\" class=\"dataframe\">\n",
       "  <thead>\n",
       "    <tr style=\"text-align: right;\">\n",
       "      <th></th>\n",
       "      <th>enunciado_latex</th>\n",
       "      <th>enunciado</th>\n",
       "      <th>solucion</th>\n",
       "      <th>texto</th>\n",
       "      <th>curso</th>\n",
       "      <th>titulo</th>\n",
       "      <th>n_ejercicio</th>\n",
       "      <th>dificultad</th>\n",
       "      <th>n_columnas</th>\n",
       "      <th>puntos</th>\n",
       "      <th>enun_tex</th>\n",
       "      <th>sol_tex</th>\n",
       "    </tr>\n",
       "  </thead>\n",
       "  <tbody>\n",
       "    <tr>\n",
       "      <th>0</th>\n",
       "      <td>i) Ser mayor de 60 años y fumar \\\\ ii) No fumar</td>\n",
       "      <td>i) Ser mayor de 60 años y fumar \\\\ ii) No fumar</td>\n",
       "      <td>\\left[ \\frac{3}{10}, \\  \\frac{3}{5}\\right]</td>\n",
       "      <td>En Utebo, el 50\\% de sus habitantes es mayor d...</td>\n",
       "      <td>1BC</td>\n",
       "      <td>Parcial 3ª Evaluación</td>\n",
       "      <td>ex21e02</td>\n",
       "      <td>1</td>\n",
       "      <td>2</td>\n",
       "      <td>1</td>\n",
       "      <td>False</td>\n",
       "      <td>True</td>\n",
       "    </tr>\n",
       "  </tbody>\n",
       "</table>\n",
       "</div>"
      ],
      "text/plain": [
       "                                   enunciado_latex  \\\n",
       "0  i) Ser mayor de 60 años y fumar \\\\ ii) No fumar   \n",
       "\n",
       "                                         enunciado  \\\n",
       "0  i) Ser mayor de 60 años y fumar \\\\ ii) No fumar   \n",
       "\n",
       "                                     solucion  \\\n",
       "0  \\left[ \\frac{3}{10}, \\  \\frac{3}{5}\\right]   \n",
       "\n",
       "                                               texto curso  \\\n",
       "0  En Utebo, el 50\\% de sus habitantes es mayor d...   1BC   \n",
       "\n",
       "                  titulo n_ejercicio  dificultad  n_columnas  puntos  \\\n",
       "0  Parcial 3ª Evaluación     ex21e02           1           2       1   \n",
       "\n",
       "   enun_tex  sol_tex  \n",
       "0     False     True  "
      ]
     },
     "metadata": {},
     "output_type": "display_data"
    },
    {
     "data": {
      "text/markdown": [
       "**Ejercicio: **ex21e03"
      ],
      "text/plain": [
       "<IPython.core.display.Markdown object>"
      ]
     },
     "metadata": {},
     "output_type": "display_data"
    },
    {
     "data": {
      "text/html": [
       "<div>\n",
       "<style scoped>\n",
       "    .dataframe tbody tr th:only-of-type {\n",
       "        vertical-align: middle;\n",
       "    }\n",
       "\n",
       "    .dataframe tbody tr th {\n",
       "        vertical-align: top;\n",
       "    }\n",
       "\n",
       "    .dataframe thead th {\n",
       "        text-align: right;\n",
       "    }\n",
       "</style>\n",
       "<table border=\"1\" class=\"dataframe\">\n",
       "  <thead>\n",
       "    <tr style=\"text-align: right;\">\n",
       "      <th></th>\n",
       "      <th>enunciado_latex</th>\n",
       "      <th>enunciado</th>\n",
       "      <th>solucion</th>\n",
       "      <th>texto</th>\n",
       "      <th>curso</th>\n",
       "      <th>titulo</th>\n",
       "      <th>n_ejercicio</th>\n",
       "      <th>dificultad</th>\n",
       "      <th>n_columnas</th>\n",
       "      <th>puntos</th>\n",
       "      <th>enun_tex</th>\n",
       "      <th>sol_tex</th>\n",
       "    </tr>\n",
       "  </thead>\n",
       "  <tbody>\n",
       "    <tr>\n",
       "      <th>1</th>\n",
       "      <td>i) calcular la probabilidad de que sea defectu...</td>\n",
       "      <td>i) calcular la probabilidad de que sea defectu...</td>\n",
       "      <td>\\left[ \\frac{7}{500}, \\  \\frac{3}{7}\\right]</td>\n",
       "      <td>Dos fábricas producen el mismo televisor. La f...</td>\n",
       "      <td>1BC</td>\n",
       "      <td>Parcial 3ª Evaluación</td>\n",
       "      <td>ex21e03</td>\n",
       "      <td>1</td>\n",
       "      <td>2</td>\n",
       "      <td>1</td>\n",
       "      <td>False</td>\n",
       "      <td>True</td>\n",
       "    </tr>\n",
       "  </tbody>\n",
       "</table>\n",
       "</div>"
      ],
      "text/plain": [
       "                                     enunciado_latex  \\\n",
       "1  i) calcular la probabilidad de que sea defectu...   \n",
       "\n",
       "                                           enunciado  \\\n",
       "1  i) calcular la probabilidad de que sea defectu...   \n",
       "\n",
       "                                      solucion  \\\n",
       "1  \\left[ \\frac{7}{500}, \\  \\frac{3}{7}\\right]   \n",
       "\n",
       "                                               texto curso  \\\n",
       "1  Dos fábricas producen el mismo televisor. La f...   1BC   \n",
       "\n",
       "                  titulo n_ejercicio  dificultad  n_columnas  puntos  \\\n",
       "1  Parcial 3ª Evaluación     ex21e03           1           2       1   \n",
       "\n",
       "   enun_tex  sol_tex  \n",
       "1     False     True  "
      ]
     },
     "metadata": {},
     "output_type": "display_data"
    },
    {
     "data": {
      "text/markdown": [
       "**Ejercicio: **ex21e04-0"
      ],
      "text/plain": [
       "<IPython.core.display.Markdown object>"
      ]
     },
     "metadata": {},
     "output_type": "display_data"
    },
    {
     "data": {
      "text/html": [
       "<div>\n",
       "<style scoped>\n",
       "    .dataframe tbody tr th:only-of-type {\n",
       "        vertical-align: middle;\n",
       "    }\n",
       "\n",
       "    .dataframe tbody tr th {\n",
       "        vertical-align: top;\n",
       "    }\n",
       "\n",
       "    .dataframe thead th {\n",
       "        text-align: right;\n",
       "    }\n",
       "</style>\n",
       "<table border=\"1\" class=\"dataframe\">\n",
       "  <thead>\n",
       "    <tr style=\"text-align: right;\">\n",
       "      <th></th>\n",
       "      <th>enunciado_latex</th>\n",
       "      <th>enunciado</th>\n",
       "      <th>solucion</th>\n",
       "      <th>texto</th>\n",
       "      <th>curso</th>\n",
       "      <th>titulo</th>\n",
       "      <th>n_ejercicio</th>\n",
       "      <th>dificultad</th>\n",
       "      <th>n_columnas</th>\n",
       "      <th>puntos</th>\n",
       "      <th>enun_tex</th>\n",
       "      <th>sol_tex</th>\n",
       "    </tr>\n",
       "  </thead>\n",
       "  <tbody>\n",
       "    <tr>\n",
       "      <th>2</th>\n",
       "      <td>Describe la variable del ejercicio</td>\n",
       "      <td>density(X).dict</td>\n",
       "      <td>$\\left\\{ 0 : 0.00243, \\  1 : 0.02835, \\  2 : 0...</td>\n",
       "      <td>Un jugador de baloncesto tiene un porcentaje d...</td>\n",
       "      <td>1BC</td>\n",
       "      <td>Parcial 3ª Evaluación</td>\n",
       "      <td>ex21e04-0</td>\n",
       "      <td>5</td>\n",
       "      <td>1</td>\n",
       "      <td>1</td>\n",
       "      <td>False</td>\n",
       "      <td>False</td>\n",
       "    </tr>\n",
       "    <tr>\n",
       "      <th>3</th>\n",
       "      <td>Calcula la probabilidad de que enceste 4</td>\n",
       "      <td>P(Eq(X,4))</td>\n",
       "      <td>$P{\\left(X = 4 \\right)}=0.36015$</td>\n",
       "      <td>Un jugador de baloncesto tiene un porcentaje d...</td>\n",
       "      <td>1BC</td>\n",
       "      <td>Parcial 3ª Evaluación</td>\n",
       "      <td>ex21e04-0</td>\n",
       "      <td>5</td>\n",
       "      <td>1</td>\n",
       "      <td>1</td>\n",
       "      <td>False</td>\n",
       "      <td>False</td>\n",
       "    </tr>\n",
       "    <tr>\n",
       "      <th>4</th>\n",
       "      <td>Calcula la probabilidad de que enceste al menos 1</td>\n",
       "      <td>P(X&gt;=1)</td>\n",
       "      <td>$P{\\left(X \\geq 1 \\right)}=0.99757$</td>\n",
       "      <td>Un jugador de baloncesto tiene un porcentaje d...</td>\n",
       "      <td>1BC</td>\n",
       "      <td>Parcial 3ª Evaluación</td>\n",
       "      <td>ex21e04-0</td>\n",
       "      <td>5</td>\n",
       "      <td>1</td>\n",
       "      <td>1</td>\n",
       "      <td>False</td>\n",
       "      <td>False</td>\n",
       "    </tr>\n",
       "    <tr>\n",
       "      <th>5</th>\n",
       "      <td>Calcula la probabilidad de que enceste más de 4</td>\n",
       "      <td>P(X&gt;4)</td>\n",
       "      <td>$P{\\left(X &gt; 4 \\right)}=0.16807$</td>\n",
       "      <td>Un jugador de baloncesto tiene un porcentaje d...</td>\n",
       "      <td>1BC</td>\n",
       "      <td>Parcial 3ª Evaluación</td>\n",
       "      <td>ex21e04-0</td>\n",
       "      <td>5</td>\n",
       "      <td>1</td>\n",
       "      <td>1</td>\n",
       "      <td>False</td>\n",
       "      <td>False</td>\n",
       "    </tr>\n",
       "  </tbody>\n",
       "</table>\n",
       "</div>"
      ],
      "text/plain": [
       "                                     enunciado_latex        enunciado  \\\n",
       "2                 Describe la variable del ejercicio  density(X).dict   \n",
       "3           Calcula la probabilidad de que enceste 4       P(Eq(X,4))   \n",
       "4  Calcula la probabilidad de que enceste al menos 1          P(X>=1)   \n",
       "5    Calcula la probabilidad de que enceste más de 4           P(X>4)   \n",
       "\n",
       "                                            solucion  \\\n",
       "2  $\\left\\{ 0 : 0.00243, \\  1 : 0.02835, \\  2 : 0...   \n",
       "3                   $P{\\left(X = 4 \\right)}=0.36015$   \n",
       "4                $P{\\left(X \\geq 1 \\right)}=0.99757$   \n",
       "5                   $P{\\left(X > 4 \\right)}=0.16807$   \n",
       "\n",
       "                                               texto curso  \\\n",
       "2  Un jugador de baloncesto tiene un porcentaje d...   1BC   \n",
       "3  Un jugador de baloncesto tiene un porcentaje d...   1BC   \n",
       "4  Un jugador de baloncesto tiene un porcentaje d...   1BC   \n",
       "5  Un jugador de baloncesto tiene un porcentaje d...   1BC   \n",
       "\n",
       "                  titulo n_ejercicio  dificultad  n_columnas  puntos  \\\n",
       "2  Parcial 3ª Evaluación   ex21e04-0           5           1       1   \n",
       "3  Parcial 3ª Evaluación   ex21e04-0           5           1       1   \n",
       "4  Parcial 3ª Evaluación   ex21e04-0           5           1       1   \n",
       "5  Parcial 3ª Evaluación   ex21e04-0           5           1       1   \n",
       "\n",
       "   enun_tex  sol_tex  \n",
       "2     False    False  \n",
       "3     False    False  \n",
       "4     False    False  \n",
       "5     False    False  "
      ]
     },
     "metadata": {},
     "output_type": "display_data"
    },
    {
     "data": {
      "text/markdown": [
       "**Ejercicio: **ex21e05-0"
      ],
      "text/plain": [
       "<IPython.core.display.Markdown object>"
      ]
     },
     "metadata": {},
     "output_type": "display_data"
    },
    {
     "data": {
      "text/html": [
       "<div>\n",
       "<style scoped>\n",
       "    .dataframe tbody tr th:only-of-type {\n",
       "        vertical-align: middle;\n",
       "    }\n",
       "\n",
       "    .dataframe tbody tr th {\n",
       "        vertical-align: top;\n",
       "    }\n",
       "\n",
       "    .dataframe thead th {\n",
       "        text-align: right;\n",
       "    }\n",
       "</style>\n",
       "<table border=\"1\" class=\"dataframe\">\n",
       "  <thead>\n",
       "    <tr style=\"text-align: right;\">\n",
       "      <th></th>\n",
       "      <th>enunciado_latex</th>\n",
       "      <th>enunciado</th>\n",
       "      <th>solucion</th>\n",
       "      <th>texto</th>\n",
       "      <th>curso</th>\n",
       "      <th>titulo</th>\n",
       "      <th>n_ejercicio</th>\n",
       "      <th>dificultad</th>\n",
       "      <th>n_columnas</th>\n",
       "      <th>puntos</th>\n",
       "      <th>enun_tex</th>\n",
       "      <th>sol_tex</th>\n",
       "    </tr>\n",
       "  </thead>\n",
       "  <tbody>\n",
       "    <tr>\n",
       "      <th>6</th>\n",
       "      <td>este dure más de 12 años</td>\n",
       "      <td>P(X&gt;=12)</td>\n",
       "      <td>$P{\\left(X \\geq 12 \\right)}=0.158655253931457$</td>\n",
       "      <td>La duración media de un televisor es de 10 año...</td>\n",
       "      <td>1BC</td>\n",
       "      <td>Parcial 3ª Evaluación</td>\n",
       "      <td>ex21e05-0</td>\n",
       "      <td>5</td>\n",
       "      <td>1</td>\n",
       "      <td>1</td>\n",
       "      <td>False</td>\n",
       "      <td>False</td>\n",
       "    </tr>\n",
       "    <tr>\n",
       "      <th>7</th>\n",
       "      <td>este dure entre 8 y 12 años</td>\n",
       "      <td>P(And(X&gt;=8,X&lt;=12))</td>\n",
       "      <td>$P{\\left(X \\geq 8 \\wedge X \\leq 12 \\right)}=0....</td>\n",
       "      <td>La duración media de un televisor es de 10 año...</td>\n",
       "      <td>1BC</td>\n",
       "      <td>Parcial 3ª Evaluación</td>\n",
       "      <td>ex21e05-0</td>\n",
       "      <td>5</td>\n",
       "      <td>1</td>\n",
       "      <td>1</td>\n",
       "      <td>False</td>\n",
       "      <td>False</td>\n",
       "    </tr>\n",
       "    <tr>\n",
       "      <th>8</th>\n",
       "      <td>este dure más de 12 años</td>\n",
       "      <td>P(X&gt;=12)</td>\n",
       "      <td>$P{\\left(X \\geq 12 \\right)}=0.158655253931457$</td>\n",
       "      <td>La duración media de un televisor es de 10 año...</td>\n",
       "      <td>1BC</td>\n",
       "      <td>Parcial 3ª Evaluación</td>\n",
       "      <td>ex21e05-0</td>\n",
       "      <td>5</td>\n",
       "      <td>1</td>\n",
       "      <td>1</td>\n",
       "      <td>False</td>\n",
       "      <td>False</td>\n",
       "    </tr>\n",
       "    <tr>\n",
       "      <th>9</th>\n",
       "      <td>este dure entre 8 y 12 años</td>\n",
       "      <td>P(And(X&gt;=8,X&lt;=12))</td>\n",
       "      <td>$P{\\left(X \\geq 8 \\wedge X \\leq 12 \\right)}=0....</td>\n",
       "      <td>La duración media de un televisor es de 10 año...</td>\n",
       "      <td>1BC</td>\n",
       "      <td>Parcial 3ª Evaluación</td>\n",
       "      <td>ex21e05-0</td>\n",
       "      <td>5</td>\n",
       "      <td>1</td>\n",
       "      <td>1</td>\n",
       "      <td>False</td>\n",
       "      <td>False</td>\n",
       "    </tr>\n",
       "  </tbody>\n",
       "</table>\n",
       "</div>"
      ],
      "text/plain": [
       "                enunciado_latex           enunciado  \\\n",
       "6      este dure más de 12 años            P(X>=12)   \n",
       "7   este dure entre 8 y 12 años  P(And(X>=8,X<=12))   \n",
       "8      este dure más de 12 años            P(X>=12)   \n",
       "9   este dure entre 8 y 12 años  P(And(X>=8,X<=12))   \n",
       "\n",
       "                                            solucion  \\\n",
       "6     $P{\\left(X \\geq 12 \\right)}=0.158655253931457$   \n",
       "7  $P{\\left(X \\geq 8 \\wedge X \\leq 12 \\right)}=0....   \n",
       "8     $P{\\left(X \\geq 12 \\right)}=0.158655253931457$   \n",
       "9  $P{\\left(X \\geq 8 \\wedge X \\leq 12 \\right)}=0....   \n",
       "\n",
       "                                               texto curso  \\\n",
       "6  La duración media de un televisor es de 10 año...   1BC   \n",
       "7  La duración media de un televisor es de 10 año...   1BC   \n",
       "8  La duración media de un televisor es de 10 año...   1BC   \n",
       "9  La duración media de un televisor es de 10 año...   1BC   \n",
       "\n",
       "                  titulo n_ejercicio  dificultad  n_columnas  puntos  \\\n",
       "6  Parcial 3ª Evaluación   ex21e05-0           5           1       1   \n",
       "7  Parcial 3ª Evaluación   ex21e05-0           5           1       1   \n",
       "8  Parcial 3ª Evaluación   ex21e05-0           5           1       1   \n",
       "9  Parcial 3ª Evaluación   ex21e05-0           5           1       1   \n",
       "\n",
       "   enun_tex  sol_tex  \n",
       "6     False    False  \n",
       "7     False    False  \n",
       "8     False    False  \n",
       "9     False    False  "
      ]
     },
     "metadata": {},
     "output_type": "display_data"
    },
    {
     "ename": "FileNotFoundError",
     "evalue": "[Errno 2] No such file or directory: '/home/hp/mi_git/mat1bac_cit/notebooks/parcial 3.pdf' -> '../ejercicios/build/parcial 3.pdf'",
     "output_type": "error",
     "traceback": [
      "\u001b[0;31m---------------------------------------------------------------------------\u001b[0m",
      "\u001b[0;31mFileNotFoundError\u001b[0m                         Traceback (most recent call last)",
      "\u001b[0;32m<ipython-input-18-30e0b480c3de>\u001b[0m in \u001b[0;36m<module>\u001b[0;34m()\u001b[0m\n\u001b[1;32m      5\u001b[0m     \u001b[0mescribir_ejercicios\u001b[0m\u001b[0;34m(\u001b[0m\u001b[0mdf_ejercicios\u001b[0m\u001b[0;34m[\u001b[0m\u001b[0mdf_ejercicios\u001b[0m\u001b[0;34m.\u001b[0m\u001b[0mn_ejercicio\u001b[0m \u001b[0;34m==\u001b[0m \u001b[0ms\u001b[0m\u001b[0;34m]\u001b[0m\u001b[0;34m,\u001b[0m\u001b[0mfichero\u001b[0m\u001b[0;34m)\u001b[0m\u001b[0;34m\u001b[0m\u001b[0;34m\u001b[0m\u001b[0m\n\u001b[1;32m      6\u001b[0m \u001b[0;34m\u001b[0m\u001b[0m\n\u001b[0;32m----> 7\u001b[0;31m \u001b[0mescribir_fin\u001b[0m\u001b[0;34m(\u001b[0m\u001b[0mfichero\u001b[0m\u001b[0;34m)\u001b[0m\u001b[0;34m\u001b[0m\u001b[0;34m\u001b[0m\u001b[0m\n\u001b[0m",
      "\u001b[0;32m~/mi_git/mat1bac_cit/notebooks/docparts.py\u001b[0m in \u001b[0;36mescribir_fin\u001b[0;34m(fichero)\u001b[0m\n\u001b[1;32m    456\u001b[0m     \u001b[0mos\u001b[0m\u001b[0;34m.\u001b[0m\u001b[0msystem\u001b[0m\u001b[0;34m(\u001b[0m\u001b[0;34m\"pdflatex %s.tex\"\u001b[0m \u001b[0;34m%\u001b[0m \u001b[0mfichero\u001b[0m\u001b[0;34m)\u001b[0m\u001b[0;34m\u001b[0m\u001b[0;34m\u001b[0m\u001b[0m\n\u001b[1;32m    457\u001b[0m     \u001b[0mos\u001b[0m\u001b[0;34m.\u001b[0m\u001b[0msystem\u001b[0m\u001b[0;34m(\u001b[0m\u001b[0;34m\"pdflatex %s.tex\"\u001b[0m \u001b[0;34m%\u001b[0m \u001b[0mfichero\u001b[0m\u001b[0;34m)\u001b[0m\u001b[0;34m\u001b[0m\u001b[0;34m\u001b[0m\u001b[0m\n\u001b[0;32m--> 458\u001b[0;31m     \u001b[0mos\u001b[0m\u001b[0;34m.\u001b[0m\u001b[0mrename\u001b[0m\u001b[0;34m(\u001b[0m\u001b[0mcwd\u001b[0m\u001b[0;34m+\u001b[0m\u001b[0;34m'/'\u001b[0m\u001b[0;34m+\u001b[0m\u001b[0mfichero\u001b[0m\u001b[0;34m+\u001b[0m\u001b[0;34m'.pdf'\u001b[0m\u001b[0;34m,\u001b[0m\u001b[0;34m'../ejercicios/build/'\u001b[0m\u001b[0;34m+\u001b[0m\u001b[0mfichero\u001b[0m\u001b[0;34m+\u001b[0m\u001b[0;34m'.pdf'\u001b[0m\u001b[0;34m)\u001b[0m\u001b[0;34m\u001b[0m\u001b[0;34m\u001b[0m\u001b[0m\n\u001b[0m\u001b[1;32m    459\u001b[0m     \u001b[0mos\u001b[0m\u001b[0;34m.\u001b[0m\u001b[0mrename\u001b[0m\u001b[0;34m(\u001b[0m\u001b[0mcwd\u001b[0m\u001b[0;34m+\u001b[0m\u001b[0;34m'/'\u001b[0m\u001b[0;34m+\u001b[0m\u001b[0mfichero\u001b[0m\u001b[0;34m+\u001b[0m\u001b[0;34m'.tex'\u001b[0m\u001b[0;34m,\u001b[0m\u001b[0;34m'../ejercicios/'\u001b[0m\u001b[0;34m+\u001b[0m\u001b[0mfichero\u001b[0m\u001b[0;34m+\u001b[0m\u001b[0;34m'.tex'\u001b[0m\u001b[0;34m)\u001b[0m\u001b[0;34m\u001b[0m\u001b[0;34m\u001b[0m\u001b[0m\n\u001b[1;32m    460\u001b[0m     \u001b[0;32mfor\u001b[0m \u001b[0mfic_imagen\u001b[0m \u001b[0;32min\u001b[0m \u001b[0mos\u001b[0m\u001b[0;34m.\u001b[0m\u001b[0mlistdir\u001b[0m\u001b[0;34m(\u001b[0m\u001b[0;34m\".\"\u001b[0m\u001b[0;34m)\u001b[0m\u001b[0;34m:\u001b[0m\u001b[0;34m\u001b[0m\u001b[0;34m\u001b[0m\u001b[0m\n",
      "\u001b[0;31mFileNotFoundError\u001b[0m: [Errno 2] No such file or directory: '/home/hp/mi_git/mat1bac_cit/notebooks/parcial 3.pdf' -> '../ejercicios/build/parcial 3.pdf'"
     ]
    }
   ],
   "source": [
    "escribir_preambulo(fichero, titulo, 'ejercicios')\n",
    "for s in df_ejercicios.groupby('n_ejercicio').count().index : \n",
    "    display(md(\"**Ejercicio: **\" + s ))\n",
    "    display(df_ejercicios[df_ejercicios.n_ejercicio == s])\n",
    "    escribir_ejercicios(df_ejercicios[df_ejercicios.n_ejercicio == s],fichero)\n",
    "\n",
    "escribir_fin(fichero)"
   ]
  }
 ],
 "metadata": {
  "kernelspec": {
   "display_name": "Python 3",
   "language": "python",
   "name": "python3"
  },
  "language_info": {
   "codemirror_mode": {
    "name": "ipython",
    "version": 3
   },
   "file_extension": ".py",
   "mimetype": "text/x-python",
   "name": "python",
   "nbconvert_exporter": "python",
   "pygments_lexer": "ipython3",
   "version": "3.6.8"
  }
 },
 "nbformat": 4,
 "nbformat_minor": 2
}
