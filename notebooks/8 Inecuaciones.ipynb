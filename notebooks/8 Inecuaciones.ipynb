{
 "cells": [
  {
   "cell_type": "code",
   "execution_count": 79,
   "metadata": {},
   "outputs": [
    {
     "name": "stdout",
     "output_type": "stream",
     "text": [
      "IPython console for SymPy 1.2 (Python 3.6.5-64-bit) (ground types: gmpy)\n",
      "\n",
      "These commands were executed:\n",
      ">>> from __future__ import division\n",
      ">>> from sympy import *\n",
      ">>> x, y, z, t = symbols('x y z t')\n",
      ">>> k, m, n = symbols('k m n', integer=True)\n",
      ">>> f, g, h = symbols('f g h', cls=Function)\n",
      ">>> init_printing()\n",
      "\n",
      "Documentation can be found at http://docs.sympy.org/1.2/\n",
      "\n"
     ]
    }
   ],
   "source": [
    "from sympy import init_session\n",
    "from sympy import div, QQ\n",
    "from sympy.parsing.latex import parse_latex\n",
    "from sympy.parsing.sympy_parser import parse_expr\n",
    "from IPython.display import Markdown as md\n",
    "from IPython.display import display\n",
    "import pandas as pd\n",
    "\n",
    "from sympy import solve_poly_inequality, reduce_abs_inequality\n",
    "from sympy.solvers.inequalities import solve_univariate_inequality, reduce_rational_inequalities\n",
    "\n",
    "\n",
    "init_session()\n",
    "\n",
    "a, b, c, d = symbols('a b c d', real = True)\n",
    "from docparts import añadir_ejercicios, doc_ejer, escribir_preambulo, escribir_ejercicios, escribir_fin\n",
    "\n",
    "df_ejercicios = pd.DataFrame()\n",
    "\n",
    "fichero = 'inecuaciones'\n",
    "titulo = '8 - Inecuaciones'\n",
    "curso = '1BC'\n"
   ]
  },
  {
   "cell_type": "code",
   "execution_count": 80,
   "metadata": {},
   "outputs": [
    {
     "data": {
      "text/markdown": [
       "**Resuelve las inecuaciones lineales:**"
      ],
      "text/plain": [
       "<IPython.core.display.Markdown object>"
      ]
     },
     "metadata": {},
     "output_type": "display_data"
    },
    {
     "data": {
      "text/markdown": [
       "$5x - 3 \\leq 7 - 2x \\rightarrow \\left(-\\infty, \\frac{10}{7}\\right]$"
      ],
      "text/plain": [
       "<IPython.core.display.Markdown object>"
      ]
     },
     "metadata": {},
     "output_type": "display_data"
    },
    {
     "data": {
      "text/markdown": [
       "$\\frac{{2( {x - 3} )}}{5} - \\frac{{3x}}{2} + 7 < 10 - \\frac{{2x - 3}}{3} \\rightarrow \\left(-12, \\infty\\right)$"
      ],
      "text/plain": [
       "<IPython.core.display.Markdown object>"
      ]
     },
     "metadata": {},
     "output_type": "display_data"
    },
    {
     "data": {
      "text/markdown": [
       "$x - 2( {x + 4} ) \\leq 3x - 6 \\rightarrow \\left[- \\frac{1}{2}, \\infty\\right)$"
      ],
      "text/plain": [
       "<IPython.core.display.Markdown object>"
      ]
     },
     "metadata": {},
     "output_type": "display_data"
    },
    {
     "data": {
      "text/markdown": [
       "$\\frac{{x - 1}}{2} - \\frac{{x + 1}}{3} > 5 - x \\rightarrow \\left(5, \\infty\\right)$"
      ],
      "text/plain": [
       "<IPython.core.display.Markdown object>"
      ]
     },
     "metadata": {},
     "output_type": "display_data"
    },
    {
     "data": {
      "text/markdown": [
       "$2( {x - 6} ) - 5( {x - 4} ) \\leq 6x - 1 \\rightarrow \\left[1, \\infty\\right)$"
      ],
      "text/plain": [
       "<IPython.core.display.Markdown object>"
      ]
     },
     "metadata": {},
     "output_type": "display_data"
    },
    {
     "data": {
      "text/markdown": [
       "$\\frac{{3( {x - 2} )}}{4} - 5( {x + 1} ) > 3 - \\frac{x}{4} \\rightarrow \\left(-\\infty, - \\frac{19}{8}\\right)$"
      ],
      "text/plain": [
       "<IPython.core.display.Markdown object>"
      ]
     },
     "metadata": {},
     "output_type": "display_data"
    },
    {
     "data": {
      "text/markdown": [
       "$5 - 2( {5x - 6} ) \\geq 3( {x - 1} ) + \\frac{{7 - x}}{2} \\rightarrow \\left(-\\infty, \\frac{33}{25}\\right]$"
      ],
      "text/plain": [
       "<IPython.core.display.Markdown object>"
      ]
     },
     "metadata": {},
     "output_type": "display_data"
    },
    {
     "data": {
      "text/markdown": [
       "$3( {x - 2} ) < 6 \\rightarrow \\left(-\\infty, 4\\right)$"
      ],
      "text/plain": [
       "<IPython.core.display.Markdown object>"
      ]
     },
     "metadata": {},
     "output_type": "display_data"
    },
    {
     "data": {
      "text/markdown": [
       "$2( {x + 3} ) > 3( {x + 2} ) \\rightarrow \\left(-\\infty, 0\\right)$"
      ],
      "text/plain": [
       "<IPython.core.display.Markdown object>"
      ]
     },
     "metadata": {},
     "output_type": "display_data"
    },
    {
     "data": {
      "text/markdown": [
       "$2( {x + 1} ) - 7 \\geq x - 3 \\rightarrow \\left[2, \\infty\\right)$"
      ],
      "text/plain": [
       "<IPython.core.display.Markdown object>"
      ]
     },
     "metadata": {},
     "output_type": "display_data"
    },
    {
     "data": {
      "text/markdown": [
       "$\\frac{{x - 1}}{4} - \\frac{{x + 2}}{3} > \\frac{{3x - 1}}{6} - x \\rightarrow \\left(\\frac{9}{5}, \\infty\\right)$"
      ],
      "text/plain": [
       "<IPython.core.display.Markdown object>"
      ]
     },
     "metadata": {},
     "output_type": "display_data"
    },
    {
     "data": {
      "text/markdown": [
       "$\\frac{{x - 3}}{5} + \\frac{{2x + 6}}{2} \\geq \\frac{x}{4} - \\frac{{3x - 6}}{2} \\rightarrow \\left[\\frac{12}{49}, \\infty\\right)$"
      ],
      "text/plain": [
       "<IPython.core.display.Markdown object>"
      ]
     },
     "metadata": {},
     "output_type": "display_data"
    },
    {
     "data": {
      "text/markdown": [
       "${( {x - 3} )^2} - {( {x + 2} )^2} < 5 \\rightarrow \\left(0, \\infty\\right)$"
      ],
      "text/plain": [
       "<IPython.core.display.Markdown object>"
      ]
     },
     "metadata": {},
     "output_type": "display_data"
    },
    {
     "data": {
      "text/markdown": [
       "$( {4x - 3} )( {2 + x} ) > {( {3 - 2x} )^2} \\rightarrow \\left(\\frac{15}{17}, \\infty\\right)$"
      ],
      "text/plain": [
       "<IPython.core.display.Markdown object>"
      ]
     },
     "metadata": {},
     "output_type": "display_data"
    },
    {
     "data": {
      "text/markdown": [
       "$\\frac{{x - 1}}{2} - x < \\frac{{1 - x}}{4} - 3 \\rightarrow \\left(9, \\infty\\right)$"
      ],
      "text/plain": [
       "<IPython.core.display.Markdown object>"
      ]
     },
     "metadata": {},
     "output_type": "display_data"
    },
    {
     "data": {
      "text/markdown": [
       "$\\frac{{x + 7}}{{10}} - \\frac{{x - 5}}{5} > \\frac{{x - 9}}{3} \\rightarrow \\left(-\\infty, \\frac{141}{13}\\right)$"
      ],
      "text/plain": [
       "<IPython.core.display.Markdown object>"
      ]
     },
     "metadata": {},
     "output_type": "display_data"
    },
    {
     "data": {
      "text/markdown": [
       "$\\frac{{5x - 2}}{3} - \\frac{{x - 8}}{4} > \\frac{{x + 14}}{2} - 2 \\rightarrow \\left(4, \\infty\\right)$"
      ],
      "text/plain": [
       "<IPython.core.display.Markdown object>"
      ]
     },
     "metadata": {},
     "output_type": "display_data"
    },
    {
     "data": {
      "text/markdown": [
       "$4x - \\frac{{3 - 2x}}{4} < \\frac{{3x - 1}}{3} + \\frac{{37}}{{12}} \\rightarrow \\left(-\\infty, 1\\right)$"
      ],
      "text/plain": [
       "<IPython.core.display.Markdown object>"
      ]
     },
     "metadata": {},
     "output_type": "display_data"
    },
    {
     "data": {
      "text/markdown": [
       "$\\frac{{x + 2}}{3} - \\frac{{12 - x}}{2} > \\frac{{5x - 36}}{4} - 1 \\rightarrow \\left(-\\infty, \\frac{56}{5}\\right)$"
      ],
      "text/plain": [
       "<IPython.core.display.Markdown object>"
      ]
     },
     "metadata": {},
     "output_type": "display_data"
    },
    {
     "data": {
      "text/markdown": [
       "$3( {x - 2( {\\frac{{x - 1}}{4}x - 5} )} ) < \\frac{3}{2}( {4 - x} )x \\rightarrow \\left(20, \\infty\\right)$"
      ],
      "text/plain": [
       "<IPython.core.display.Markdown object>"
      ]
     },
     "metadata": {},
     "output_type": "display_data"
    },
    {
     "data": {
      "text/markdown": [
       "$\\frac{{3x + 1}}{4} - \\frac{1}{3} \\leq \\frac{2}{{15}}( {3x + 2} ) + \\frac{{4( {1 - x} )}}{3} \\rightarrow \\left(-\\infty, 1\\right]$"
      ],
      "text/plain": [
       "<IPython.core.display.Markdown object>"
      ]
     },
     "metadata": {},
     "output_type": "display_data"
    }
   ],
   "source": [
    "# Página 25 ejercicio 1\n",
    "\n",
    "texto_ejercicio = 'Resuelve las inecuaciones lineales:'\n",
    "n_ejercicio = 'p025e01'\n",
    "\n",
    "display(md(\"**\"+texto_ejercicio+\"**\"))\n",
    "\n",
    "enunciado_latex = [r'5x - 3 \\leq 7 - 2x',\n",
    "                   r'\\frac{{2( {x - 3} )}}{5} - \\frac{{3x}}{2} + 7 < 10 - \\frac{{2x - 3}}{3}',\n",
    "                   r'x - 2( {x + 4} ) \\leq 3x - 6',\n",
    "                   r'\\frac{{x - 1}}{2} - \\frac{{x + 1}}{3} > 5 - x',\n",
    "                   r'2( {x - 6} ) - 5( {x - 4} ) \\leq 6x - 1',\n",
    "                   r'\\frac{{3( {x - 2} )}}{4} - 5( {x + 1} ) > 3 - \\frac{x}{4}',\n",
    "                   r'5 - 2( {5x - 6} ) \\geq 3( {x - 1} ) + \\frac{{7 - x}}{2}',\n",
    "                   r'3( {x - 2} ) < 6',\n",
    "                   r'2( {x + 3} ) > 3( {x + 2} )',\n",
    "                   r'2( {x + 1} ) - 7 \\geq x - 3',\n",
    "                   r'\\frac{{x - 1}}{4} - \\frac{{x + 2}}{3} > \\frac{{3x - 1}}{6} - x',\n",
    "                   r'\\frac{{x - 3}}{5} + \\frac{{2x + 6}}{2} \\geq \\frac{x}{4} - \\frac{{3x - 6}}{2}',\n",
    "                   r'{( {x - 3} )^2} - {( {x + 2} )^2} < 5',\n",
    "                   r'( {4x - 3} )( {2 + x} ) > {( {3 - 2x} )^2}',\n",
    "                   r'\\frac{{x - 1}}{2} - x < \\frac{{1 - x}}{4} - 3',\n",
    "                   r'\\frac{{x + 7}}{{10}} - \\frac{{x - 5}}{5} > \\frac{{x - 9}}{3}',\n",
    "                   r'\\frac{{5x - 2}}{3} - \\frac{{x - 8}}{4} > \\frac{{x + 14}}{2} - 2',\n",
    "                   r'4x - \\frac{{3 - 2x}}{4} < \\frac{{3x - 1}}{3} + \\frac{{37}}{{12}}',\n",
    "                   r'\\frac{{x + 2}}{3} - \\frac{{12 - x}}{2} > \\frac{{5x - 36}}{4} - 1',\n",
    "                   r'3( {x - 2( {\\frac{{x - 1}}{4}x - 5} )} ) < \\frac{3}{2}( {4 - x} )x',\n",
    "                   r'\\frac{{3x + 1}}{4} - \\frac{1}{3} \\leq \\frac{2}{{15}}( {3x + 2} ) + \\frac{{4( {1 - x} )}}{3}'                  ]\n",
    "\n",
    "enunciado, solucion = [], []\n",
    "\n",
    "for i, s in enumerate(enunciado_latex) : \n",
    "    en = parse_latex(s)\n",
    "    enunciado.append(en)\n",
    "    #so = solve_univariate_inequality(en, x, relational=False)\n",
    "    so = reduce_rational_inequalities([[en]],x).as_set()\n",
    "    sl = latex(so)\n",
    "    solucion.append(sl) \n",
    "    display(md(\"$\"+ s +\" \\\\rightarrow \" + solucion[i] +\"$\"))\n",
    "\n",
    "df_ejercicios = df_ejercicios.append(añadir_ejercicios(enunciado_latex, enunciado, solucion, texto_ejercicio, curso, titulo , n_ejercicio, '1', '2'), ignore_index=True)\n"
   ]
  },
  {
   "cell_type": "code",
   "execution_count": 81,
   "metadata": {},
   "outputs": [
    {
     "data": {
      "text/markdown": [
       "**Resuelve mediante expresiones algebraicas:**"
      ],
      "text/plain": [
       "<IPython.core.display.Markdown object>"
      ]
     },
     "metadata": {},
     "output_type": "display_data"
    },
    {
     "data": {
      "text/markdown": [
       "Mezclamos café de 6 euros el kg. con otro de 7,2 euros el kg. y queremos obtener una mezcla de calidad \n",
       "    intermedia cuyo precio no pase de 7 euros el kg. para conseguir 60 kg. de esa calidad intermedia, \n",
       "    ¿qué condiciones deberán cumplir los pesos de las dos clases mezcladas?$ \\ \\\\   \\rightarrow  6x+7.2(60-x)<7\\cdot60  \\rightarrow  \\\\\\left(10.0, \\infty\\right)$"
      ],
      "text/plain": [
       "<IPython.core.display.Markdown object>"
      ]
     },
     "metadata": {},
     "output_type": "display_data"
    },
    {
     "data": {
      "text/markdown": [
       "Para fabricar un tipo de tapones se tienen como gastos fijos 25 euros de alquiler por la maquinaria y \n",
       "    200 de gastos de local. Por otro lado, se calcula que cada tapón supone un gasto de 25 céntimos de euro. \n",
       "    Si se dispone de una cantidad de dinero no superior a 1.200 euros, \n",
       "    ¿qué número de tapones se puede fabricar si la producción resulta rentable a partir de 3.000 tapones?$ \\ \\\\   \\rightarrow  25+200+0.25x<1200  \\rightarrow  \\\\\\left(-\\infty, 3900.0\\right)$"
      ],
      "text/plain": [
       "<IPython.core.display.Markdown object>"
      ]
     },
     "metadata": {},
     "output_type": "display_data"
    },
    {
     "data": {
      "text/markdown": [
       "Un padre tiene 32 años más que su hijo, y el abuelo tiene 32 años más que el padre. \n",
       "    Hace tres años sus edades sumaban menos de 100 años. \n",
       "    ¿Qué edades tienen ahora?. Indica todas las soluciones sabiendo que tienen que ser enteras.$ \\ \\\\   \\rightarrow  (x-3-32)+(x-3)+(x-3+32)<100  \\rightarrow  \\\\\\left(-\\infty, \\frac{109}{3}\\right)$"
      ],
      "text/plain": [
       "<IPython.core.display.Markdown object>"
      ]
     },
     "metadata": {},
     "output_type": "display_data"
    }
   ],
   "source": [
    "# Página 25 ejercicio 2 a 4\n",
    "\n",
    "texto_ejercicio = \"Resuelve mediante expresiones algebraicas:\"\n",
    "n_ejercicio = 'p025e02-e04'\n",
    "\n",
    "display(md(\"**\"+texto_ejercicio+\"**\"))\n",
    "\n",
    "ine = [ r'6x+7.2(60-x)<7\\cdot60',\n",
    "        r'25+200+0.25x<1200',\n",
    "        r'(x-3-32)+(x-3)+(x-3+32)<100'\n",
    "         \n",
    "            ]\n",
    "\n",
    "enunciado_latex, enunciado, solucion = [\n",
    "    \"\"\"Mezclamos café de 6 euros el kg. con otro de 7,2 euros el kg. y queremos obtener una mezcla de calidad \n",
    "    intermedia cuyo precio no pase de 7 euros el kg. para conseguir 60 kg. de esa calidad intermedia, \n",
    "    ¿qué condiciones deberán cumplir los pesos de las dos clases mezcladas?\"\"\",\n",
    "    \"\"\"Para fabricar un tipo de tapones se tienen como gastos fijos 25 euros de alquiler por la maquinaria y \n",
    "    200 de gastos de local. Por otro lado, se calcula que cada tapón supone un gasto de 25 céntimos de euro. \n",
    "    Si se dispone de una cantidad de dinero no superior a 1.200 euros, \n",
    "    ¿qué número de tapones se puede fabricar si la producción resulta rentable a partir de 3.000 tapones?\"\"\",\n",
    "    \"\"\"Un padre tiene 32 años más que su hijo, y el abuelo tiene 32 años más que el padre. \n",
    "    Hace tres años sus edades sumaban menos de 100 años. \n",
    "    ¿Qué edades tienen ahora?. Indica todas las soluciones sabiendo que tienen que ser enteras.\"\"\",\n",
    "\n",
    "    \n",
    "                           ], [], []\n",
    "\n",
    "for i, s in enumerate(ine) :\n",
    "    \n",
    "    enl = enunciado_latex[i]\n",
    "    en = s\n",
    "    #display(s)\n",
    "    so = reduce_rational_inequalities([[parse_latex(s)]],x).as_set()\n",
    "    enunciado.append(en)\n",
    "    so_l= en + r'  \\rightarrow  \\\\'+latex(so)\n",
    "    solucion.append(so_l) \n",
    "    display(md(enunciado_latex[i] +r\"$ \\ \\\\ \" + r\"  \\rightarrow  \" + solucion[i] +\"$\"))\n",
    "\n",
    "df_ejercicios = df_ejercicios.append(añadir_ejercicios(enunciado_latex, enunciado, solucion, texto_ejercicio, curso, titulo , n_ejercicio, '1', '1', enun_tex = False), ignore_index=True)\n"
   ]
  },
  {
   "cell_type": "code",
   "execution_count": null,
   "metadata": {},
   "outputs": [
    {
     "data": {
      "text/markdown": [
       "**Resuelve las inecuaciones:**"
      ],
      "text/plain": [
       "<IPython.core.display.Markdown object>"
      ]
     },
     "metadata": {},
     "output_type": "display_data"
    },
    {
     "data": {
      "text/markdown": [
       "$( {x - 1} )( {x + 2} )( {x - 3} ) \\geq 0 \\rightarrow \\left[-2, 1\\right] \\cup \\left[3, \\infty\\right)$"
      ],
      "text/plain": [
       "<IPython.core.display.Markdown object>"
      ]
     },
     "metadata": {},
     "output_type": "display_data"
    },
    {
     "data": {
      "text/markdown": [
       "$\\frac{{x - 1}}{{x + 2}} \\geq 0 \\rightarrow \\left(-\\infty, -2\\right) \\cup \\left[1, \\infty\\right)$"
      ],
      "text/plain": [
       "<IPython.core.display.Markdown object>"
      ]
     },
     "metadata": {},
     "output_type": "display_data"
    },
    {
     "data": {
      "text/markdown": [
       "$\\frac{{x + 1}}{{x + 3}} < 2 \\rightarrow \\left(-\\infty, -5\\right) \\cup \\left(-3, \\infty\\right)$"
      ],
      "text/plain": [
       "<IPython.core.display.Markdown object>"
      ]
     },
     "metadata": {},
     "output_type": "display_data"
    },
    {
     "data": {
      "text/markdown": [
       "$( {x - 2} )( {x + 5} ) > 0 \\rightarrow \\left(-\\infty, -5\\right) \\cup \\left(2, \\infty\\right)$"
      ],
      "text/plain": [
       "<IPython.core.display.Markdown object>"
      ]
     },
     "metadata": {},
     "output_type": "display_data"
    },
    {
     "data": {
      "text/markdown": [
       "$( {3x - 5} )( {x + 1} ) \\geq 0 \\rightarrow \\left(-\\infty, -1\\right] \\cup \\left[\\frac{5}{3}, \\infty\\right)$"
      ],
      "text/plain": [
       "<IPython.core.display.Markdown object>"
      ]
     },
     "metadata": {},
     "output_type": "display_data"
    },
    {
     "data": {
      "text/markdown": [
       "$3( {x - 1} )( {x + 2} )( {x + 1} ) \\leq 0 \\rightarrow \\left(-\\infty, -2\\right] \\cup \\left[-1, 1\\right]$"
      ],
      "text/plain": [
       "<IPython.core.display.Markdown object>"
      ]
     },
     "metadata": {},
     "output_type": "display_data"
    },
    {
     "data": {
      "text/markdown": [
       "$\\frac{{x - 2}}{{x + 3}} \\leq 0 \\rightarrow \\left(-3, 2\\right]$"
      ],
      "text/plain": [
       "<IPython.core.display.Markdown object>"
      ]
     },
     "metadata": {},
     "output_type": "display_data"
    },
    {
     "data": {
      "text/markdown": [
       "$\\frac{{x + 1}}{{x + 2}} > 0 \\rightarrow \\left(-\\infty, -2\\right) \\cup \\left(-1, \\infty\\right)$"
      ],
      "text/plain": [
       "<IPython.core.display.Markdown object>"
      ]
     },
     "metadata": {},
     "output_type": "display_data"
    },
    {
     "data": {
      "text/markdown": [
       "$\\frac{{x - 3}}{{x - 1}} < 5 \\rightarrow \\left(-\\infty, \\frac{1}{2}\\right) \\cup \\left(1, \\infty\\right)$"
      ],
      "text/plain": [
       "<IPython.core.display.Markdown object>"
      ]
     },
     "metadata": {},
     "output_type": "display_data"
    }
   ],
   "source": [
    "# Página 25 ejercicio 5\n",
    "\n",
    "texto_ejercicio = 'Resuelve las inecuaciones:'\n",
    "n_ejercicio = 'p025e05'\n",
    "\n",
    "display(md(\"**\"+texto_ejercicio+\"**\"))\n",
    "\n",
    "enunciado_latex = [r'( {x - 1} )( {x + 2} )( {x - 3} ) \\geq 0',\n",
    "                   r'\\frac{{x - 1}}{{x + 2}} \\geq 0',\n",
    "                   r'\\frac{{x + 1}}{{x + 3}} < 2',\n",
    "                   r'( {x - 2} )( {x + 5} ) > 0',\n",
    "                   r'( {3x - 5} )( {x + 1} ) \\geq 0',\n",
    "                   r'3( {x - 1} )( {x + 2} )( {x + 1} ) \\leq 0',\n",
    "                   r'\\frac{{x - 2}}{{x + 3}} \\leq 0',\n",
    "                   r'\\frac{{x + 1}}{{x + 2}} > 0',\n",
    "                   r'\\frac{{x - 3}}{{x - 1}} < 5',\n",
    "                   r'( {x + 5} )( {x + 2} ) > 0',\n",
    "                   r'( {2x - 3} )( {x - 9} ) \\leq 0',\n",
    "                   r'1 - \\frac{{x + 3}}{{x + 6}} \\geq 0',\n",
    "                   r'\\frac{{x + 3}}{{x + 2}} \\geq 2 - \\frac{x}{2}',\n",
    "                   r'\\frac{{3x - 2}}{{x - 1}} - 1 \\geq \\frac{{2x - 1}}{{x + 1}}',\n",
    "                   r'\\frac{{{x^3} - 5{x^2} + 2x + 8}}{x} < 0'\n",
    "                  ]\n",
    "\n",
    "enunciado, solucion = [], []\n",
    "\n",
    "for i, s in enumerate(enunciado_latex) : \n",
    "    en = parse_latex(s)\n",
    "    enunciado.append(en)\n",
    "    #so = solve_univariate_inequality(en, x, relational=False)\n",
    "    so = reduce_rational_inequalities([[en]],x).as_set()\n",
    "    sl = latex(so)\n",
    "    solucion.append(sl) \n",
    "    display(md(\"$\"+ s +\" \\\\rightarrow \" + solucion[i] +\"$\"))\n",
    "\n",
    "df_ejercicios = df_ejercicios.append(añadir_ejercicios(enunciado_latex, enunciado, solucion, texto_ejercicio, curso, titulo , n_ejercicio, '1', '2'), ignore_index=True)\n"
   ]
  },
  {
   "cell_type": "code",
   "execution_count": 33,
   "metadata": {},
   "outputs": [
    {
     "data": {
      "text/markdown": [
       "**Resuelve las inecuaciones:**"
      ],
      "text/plain": [
       "<IPython.core.display.Markdown object>"
      ]
     },
     "metadata": {},
     "output_type": "display_data"
    },
    {
     "data": {
      "text/markdown": [
       "$3{x^2} - 5x + 2 \\leq 0 \\rightarrow \\left[\\frac{2}{3}, 1\\right]$"
      ],
      "text/plain": [
       "<IPython.core.display.Markdown object>"
      ]
     },
     "metadata": {},
     "output_type": "display_data"
    },
    {
     "data": {
      "text/markdown": [
       "$5 + 2x < 3{x^2} - 3x + 7 \\rightarrow \\left(-\\infty, \\frac{2}{3}\\right) \\cup \\left(1, \\infty\\right)$"
      ],
      "text/plain": [
       "<IPython.core.display.Markdown object>"
      ]
     },
     "metadata": {},
     "output_type": "display_data"
    },
    {
     "data": {
      "text/markdown": [
       "$5{x^2} + 20x + 20 > 0 \\rightarrow \\left(-\\infty, -2\\right) \\cup \\left(-2, \\infty\\right)$"
      ],
      "text/plain": [
       "<IPython.core.display.Markdown object>"
      ]
     },
     "metadata": {},
     "output_type": "display_data"
    },
    {
     "data": {
      "text/markdown": [
       "$5{x^2} + 20x + 20 \\geq 0 \\rightarrow \\left(-\\infty, \\infty\\right)$"
      ],
      "text/plain": [
       "<IPython.core.display.Markdown object>"
      ]
     },
     "metadata": {},
     "output_type": "display_data"
    },
    {
     "data": {
      "text/markdown": [
       "$5{x^2} + 20x + 20 < 0 \\rightarrow \\emptyset$"
      ],
      "text/plain": [
       "<IPython.core.display.Markdown object>"
      ]
     },
     "metadata": {},
     "output_type": "display_data"
    },
    {
     "data": {
      "text/markdown": [
       "$5{x^2} + 20x + 20 \\leq 0 \\rightarrow \\left\\{-2\\right\\}$"
      ],
      "text/plain": [
       "<IPython.core.display.Markdown object>"
      ]
     },
     "metadata": {},
     "output_type": "display_data"
    },
    {
     "data": {
      "text/markdown": [
       "$7{x^2} - 5x + 9 > 0 \\rightarrow \\left(-\\infty, \\infty\\right)$"
      ],
      "text/plain": [
       "<IPython.core.display.Markdown object>"
      ]
     },
     "metadata": {},
     "output_type": "display_data"
    },
    {
     "data": {
      "text/markdown": [
       "${x^2} - 2x - 8 < 0 \\rightarrow \\left(-2, 4\\right)$"
      ],
      "text/plain": [
       "<IPython.core.display.Markdown object>"
      ]
     },
     "metadata": {},
     "output_type": "display_data"
    },
    {
     "data": {
      "text/markdown": [
       "$2{x^2} + 3x + 2 \\leq 0 \\rightarrow \\emptyset$"
      ],
      "text/plain": [
       "<IPython.core.display.Markdown object>"
      ]
     },
     "metadata": {},
     "output_type": "display_data"
    },
    {
     "data": {
      "text/markdown": [
       "${x^2} + x - 6 \\geq 0 \\rightarrow \\left(-\\infty, -3\\right] \\cup \\left[2, \\infty\\right)$"
      ],
      "text/plain": [
       "<IPython.core.display.Markdown object>"
      ]
     },
     "metadata": {},
     "output_type": "display_data"
    },
    {
     "data": {
      "text/markdown": [
       "${x^2} - 6x + 9 > 0 \\rightarrow \\left(-\\infty, 3\\right) \\cup \\left(3, \\infty\\right)$"
      ],
      "text/plain": [
       "<IPython.core.display.Markdown object>"
      ]
     },
     "metadata": {},
     "output_type": "display_data"
    },
    {
     "data": {
      "text/markdown": [
       "${x^2} - 6x + 10 > 0 \\rightarrow \\left(-\\infty, \\infty\\right)$"
      ],
      "text/plain": [
       "<IPython.core.display.Markdown object>"
      ]
     },
     "metadata": {},
     "output_type": "display_data"
    },
    {
     "data": {
      "text/markdown": [
       "${x^2} + 8x + 7 < 0 \\rightarrow \\left(-7, -1\\right)$"
      ],
      "text/plain": [
       "<IPython.core.display.Markdown object>"
      ]
     },
     "metadata": {},
     "output_type": "display_data"
    },
    {
     "data": {
      "text/markdown": [
       "${x^2} + 3 > 4x - 1 \\rightarrow \\left(-\\infty, 2\\right) \\cup \\left(2, \\infty\\right)$"
      ],
      "text/plain": [
       "<IPython.core.display.Markdown object>"
      ]
     },
     "metadata": {},
     "output_type": "display_data"
    },
    {
     "data": {
      "text/markdown": [
       "${x^2} + 1 > 2x - 3 \\rightarrow \\left(-\\infty, \\infty\\right)$"
      ],
      "text/plain": [
       "<IPython.core.display.Markdown object>"
      ]
     },
     "metadata": {},
     "output_type": "display_data"
    },
    {
     "data": {
      "text/markdown": [
       "$5x + 3 \\leq 2{x^2} \\rightarrow \\left(-\\infty, - \\frac{1}{2}\\right] \\cup \\left[3, \\infty\\right)$"
      ],
      "text/plain": [
       "<IPython.core.display.Markdown object>"
      ]
     },
     "metadata": {},
     "output_type": "display_data"
    },
    {
     "data": {
      "text/markdown": [
       "$ x \\cdot (x - 1)  > 2x + 4 \\rightarrow \\left(-\\infty, -1\\right) \\cup \\left(4, \\infty\\right)$"
      ],
      "text/plain": [
       "<IPython.core.display.Markdown object>"
      ]
     },
     "metadata": {},
     "output_type": "display_data"
    },
    {
     "data": {
      "text/markdown": [
       "$3 + x < 5 - x\\cdot( {x - 2} ) \\rightarrow \\left(-1, 2\\right)$"
      ],
      "text/plain": [
       "<IPython.core.display.Markdown object>"
      ]
     },
     "metadata": {},
     "output_type": "display_data"
    },
    {
     "data": {
      "text/markdown": [
       "${x^2} + 16 > 2x \\rightarrow \\left(-\\infty, \\infty\\right)$"
      ],
      "text/plain": [
       "<IPython.core.display.Markdown object>"
      ]
     },
     "metadata": {},
     "output_type": "display_data"
    },
    {
     "data": {
      "text/markdown": [
       "$\\frac{{{x^2} - x}}{3} > 3x - 10 \\rightarrow \\left(-\\infty, \\infty\\right)$"
      ],
      "text/plain": [
       "<IPython.core.display.Markdown object>"
      ]
     },
     "metadata": {},
     "output_type": "display_data"
    },
    {
     "data": {
      "text/markdown": [
       "$x\\cdot( {x + 5} ) > 2{x^2} \\rightarrow \\left(0, 5\\right)$"
      ],
      "text/plain": [
       "<IPython.core.display.Markdown object>"
      ]
     },
     "metadata": {},
     "output_type": "display_data"
    },
    {
     "data": {
      "text/markdown": [
       "$\\frac{{( {3 + 2x} )( {x - 1} )}}{3} - 1 > \\frac{{{{( {x - 1} )}^2}}}{4} - \\frac{{1 + x}}{2} \\rightarrow \\left(-\\infty, - \\frac{21}{5}\\right) \\cup \\left(1, \\infty\\right)$"
      ],
      "text/plain": [
       "<IPython.core.display.Markdown object>"
      ]
     },
     "metadata": {},
     "output_type": "display_data"
    },
    {
     "data": {
      "text/markdown": [
       "$10( {2x - 1} )( {1 - 3x} ) + 5( {1 - 3x} )( {4x - 1} ) < 3( {1 - 4x} )( {5x - 1} ) \\rightarrow \\left(-\\infty, \\frac{3}{10}\\right) \\cup \\left(\\frac{2}{3}, \\infty\\right)$"
      ],
      "text/plain": [
       "<IPython.core.display.Markdown object>"
      ]
     },
     "metadata": {},
     "output_type": "display_data"
    }
   ],
   "source": [
    "# Página 26 ejercicio 6\n",
    "\n",
    "texto_ejercicio = 'Resuelve las inecuaciones:'\n",
    "n_ejercicio = 'p026e06'\n",
    "\n",
    "display(md(\"**\"+texto_ejercicio+\"**\"))\n",
    "\n",
    "enunciado_latex = [r'3{x^2} - 5x + 2 \\leq 0',\n",
    "                   r'5 + 2x < 3{x^2} - 3x + 7',\n",
    "                   r'5{x^2} + 20x + 20 > 0',\n",
    "                   r'5{x^2} + 20x + 20 \\geq 0',\n",
    "                   r'5{x^2} + 20x + 20 < 0',\n",
    "                   r'5{x^2} + 20x + 20 \\leq 0',\n",
    "                   r'7{x^2} - 5x + 9 > 0',\n",
    "                   r'{x^2} - 2x - 8 < 0',\n",
    "                   r'2{x^2} + 3x + 2 \\leq 0',\n",
    "                   r'{x^2} + x - 6 \\geq 0',\n",
    "                   r'{x^2} - 6x + 9 > 0',\n",
    "                   r'{x^2} - 6x + 10 > 0',\n",
    "                   r'{x^2} + 8x + 7 < 0',\n",
    "                   r'{x^2} + 3 > 4x - 1',\n",
    "                   r'{x^2} + 1 > 2x - 3',\n",
    "                   r'5x + 3 \\leq 2{x^2}',\n",
    "                   r' x \\cdot (x - 1)  > 2x + 4',\n",
    "                   r'3 + x < 5 - x\\cdot( {x - 2} )',\n",
    "                   r'{x^2} + 16 > 2x',\n",
    "                   r'\\frac{{{x^2} - x}}{3} > 3x - 10',\n",
    "                   r'x\\cdot( {x + 5} ) > 2{x^2}',\n",
    "                   r'\\frac{{( {3 + 2x} )( {x - 1} )}}{3} - 1 > \\frac{{{{( {x - 1} )}^2}}}{4} - \\frac{{1 + x}}{2}',\n",
    "                   r'10( {2x - 1} )( {1 - 3x} ) + 5( {1 - 3x} )( {4x - 1} ) < 3( {1 - 4x} )( {5x - 1} )'\n",
    "                  ]\n",
    "\n",
    "enunciado, solucion = [], []\n",
    "\n",
    "for i, s in enumerate(enunciado_latex) : \n",
    "    en = parse_latex(s)\n",
    "    enunciado.append(en)\n",
    "    #so = solve_univariate_inequality(en, x, relational=False)\n",
    "    so = reduce_rational_inequalities([[en]],x).as_set()\n",
    "    sl = latex(so)\n",
    "    solucion.append(sl) \n",
    "    display(md(\"$\"+ s +\" \\\\rightarrow \" + solucion[i] +\"$\"))\n",
    "\n",
    "df_ejercicios = df_ejercicios.append(añadir_ejercicios(enunciado_latex, enunciado, solucion, texto_ejercicio, curso, titulo , n_ejercicio, '1', '2'), ignore_index=True)\n"
   ]
  },
  {
   "cell_type": "code",
   "execution_count": 34,
   "metadata": {},
   "outputs": [
    {
     "data": {
      "text/markdown": [
       "**Resuelve los siguientes sistemas de inecuaciones:**"
      ],
      "text/plain": [
       "<IPython.core.display.Markdown object>"
      ]
     },
     "metadata": {},
     "output_type": "display_data"
    },
    {
     "data": {
      "text/markdown": [
       "$\\left\\{\\begin{matrix}3x - 5 \\leq 0\\\\2x + 8 \\geq 0\\end{matrix}\\right. \\rightarrow \\left[-4, \\frac{5}{3}\\right]$"
      ],
      "text/plain": [
       "<IPython.core.display.Markdown object>"
      ]
     },
     "metadata": {},
     "output_type": "display_data"
    },
    {
     "data": {
      "text/markdown": [
       "$\\left\\{\\begin{matrix}2x - 3 > x - 2\\\\ 3x - 7 < x - 1 \\end{matrix}\\right. \\rightarrow \\left(1, 3\\right)$"
      ],
      "text/plain": [
       "<IPython.core.display.Markdown object>"
      ]
     },
     "metadata": {},
     "output_type": "display_data"
    },
    {
     "data": {
      "text/markdown": [
       "$\\left\\{\\begin{matrix}2x + 3( {x - 1} ) < x + 1\\\\2( {x + 3} ) > x + 2 \\end{matrix}\\right. \\rightarrow \\left(-4, 1\\right)$"
      ],
      "text/plain": [
       "<IPython.core.display.Markdown object>"
      ]
     },
     "metadata": {},
     "output_type": "display_data"
    },
    {
     "data": {
      "text/markdown": [
       "$\\left\\{\\begin{matrix}\\frac{{x - 1}}{3} - \\frac{{x + 3}}{2} \\leq x\\\\ \\frac{{4x - 2}}{4} - \\frac{{x - 1}}{3} \\geq x\\end{matrix}\\right. \\rightarrow \\left[- \\frac{11}{7}, - \\frac{1}{2}\\right]$"
      ],
      "text/plain": [
       "<IPython.core.display.Markdown object>"
      ]
     },
     "metadata": {},
     "output_type": "display_data"
    },
    {
     "data": {
      "text/markdown": [
       "$\\left\\{\\begin{matrix}{( {x - 1} )^2} - {( {x + 3} )^2} \\leq 0\\\\x - 3( {x - 1} ) \\geq 3 \\end{matrix}\\right. \\rightarrow \\left[-1, 0\\right]$"
      ],
      "text/plain": [
       "<IPython.core.display.Markdown object>"
      ]
     },
     "metadata": {},
     "output_type": "display_data"
    },
    {
     "data": {
      "text/markdown": [
       "$\\left\\{\\begin{matrix}\\frac{{3( {2 - x} )}}{2} - x < \\frac{{16}}{5} - \\frac{{x + 1}}{5} \\\\\\frac{{x + 4}}{3} - \\frac{{x - 5}}{6} > 3 - \\frac{{2x - 3}}{{18}}\\end{matrix}\\right. \\rightarrow \\left(\\frac{18}{5}, \\infty\\right)$"
      ],
      "text/plain": [
       "<IPython.core.display.Markdown object>"
      ]
     },
     "metadata": {},
     "output_type": "display_data"
    }
   ],
   "source": [
    "# Página 26 ejercicio 7\n",
    "\n",
    "texto_ejercicio = 'Resuelve los siguientes sistemas de inecuaciones:'\n",
    "n_ejercicio = 'p026e07'\n",
    "\n",
    "display(md(\"**\"+texto_ejercicio+\"**\"))\n",
    "\n",
    "pre_enunciado_latex = [[r'3x - 5 \\leq 0',r'2x + 8 \\geq 0'],\n",
    "                       [r'2x - 3 > x - 2', r' 3x - 7 < x - 1 '],\n",
    "                       [r'2x + 3( {x - 1} ) < x + 1', r'2( {x + 3} ) > x + 2 '],\n",
    "                       [r'\\frac{{x - 1}}{3} - \\frac{{x + 3}}{2} \\leq x', r' \\frac{{4x - 2}}{4} - \\frac{{x - 1}}{3} \\geq x'],\n",
    "                       [r'{( {x - 1} )^2} - {( {x + 3} )^2} \\leq 0', r'x - 3( {x - 1} ) \\geq 3 '],\n",
    "                       [r'\\frac{{3( {2 - x} )}}{2} - x < \\frac{{16}}{5} - \\frac{{x + 1}}{5} ', r'\\frac{{x + 4}}{3} - \\frac{{x - 5}}{6} > 3 - \\frac{{2x - 3}}{{18}}']\n",
    "                      ]\n",
    "                       \n",
    "\n",
    "\n",
    "\n",
    "enunciado_latex,enunciado, solucion = [], [], []\n",
    "\n",
    "for i, s in enumerate(pre_enunciado_latex) :\n",
    "    enl = r\"\"\"\\left\\{\\begin{matrix}\"\"\"+ s[0] + r'\\\\' + s[1] + r\"\"\"\\end{matrix}\\right.\"\"\"\n",
    "    en = [parse_latex(s[0]), parse_latex(s[1])]\n",
    "    so = reduce_rational_inequalities([en],x,relational=False)\n",
    "    enunciado_latex.append(enl)\n",
    "    enunciado.append(en)\n",
    "    so_l=latex(so)\n",
    "    solucion.append(so_l) \n",
    "    display(md(\"$\"+ enunciado_latex[i] +\" \\\\rightarrow \" + solucion[i] +\"$\"))\n",
    "\n",
    "df_ejercicios = df_ejercicios.append(añadir_ejercicios(enunciado_latex, enunciado, solucion, texto_ejercicio, curso, titulo , n_ejercicio, '1', '2'), ignore_index=True)\n"
   ]
  },
  {
   "cell_type": "code",
   "execution_count": 34,
   "metadata": {},
   "outputs": [
    {
     "data": {
      "text/markdown": [
       "**Resuelve los siguientes sistemas de inecuaciones:**"
      ],
      "text/plain": [
       "<IPython.core.display.Markdown object>"
      ]
     },
     "metadata": {},
     "output_type": "display_data"
    },
    {
     "data": {
      "text/markdown": [
       "$\\left\\{\\begin{matrix}3x - 5 \\leq 0\\\\2x + 8 \\geq 0\\end{matrix}\\right. \\rightarrow \\left[-4, \\frac{5}{3}\\right]$"
      ],
      "text/plain": [
       "<IPython.core.display.Markdown object>"
      ]
     },
     "metadata": {},
     "output_type": "display_data"
    },
    {
     "data": {
      "text/markdown": [
       "$\\left\\{\\begin{matrix}2x - 3 > x - 2\\\\ 3x - 7 < x - 1 \\end{matrix}\\right. \\rightarrow \\left(1, 3\\right)$"
      ],
      "text/plain": [
       "<IPython.core.display.Markdown object>"
      ]
     },
     "metadata": {},
     "output_type": "display_data"
    },
    {
     "data": {
      "text/markdown": [
       "$\\left\\{\\begin{matrix}2x + 3( {x - 1} ) < x + 1\\\\2( {x + 3} ) > x + 2 \\end{matrix}\\right. \\rightarrow \\left(-4, 1\\right)$"
      ],
      "text/plain": [
       "<IPython.core.display.Markdown object>"
      ]
     },
     "metadata": {},
     "output_type": "display_data"
    },
    {
     "data": {
      "text/markdown": [
       "$\\left\\{\\begin{matrix}\\frac{{x - 1}}{3} - \\frac{{x + 3}}{2} \\leq x\\\\ \\frac{{4x - 2}}{4} - \\frac{{x - 1}}{3} \\geq x\\end{matrix}\\right. \\rightarrow \\left[- \\frac{11}{7}, - \\frac{1}{2}\\right]$"
      ],
      "text/plain": [
       "<IPython.core.display.Markdown object>"
      ]
     },
     "metadata": {},
     "output_type": "display_data"
    },
    {
     "data": {
      "text/markdown": [
       "$\\left\\{\\begin{matrix}{( {x - 1} )^2} - {( {x + 3} )^2} \\leq 0\\\\x - 3( {x - 1} ) \\geq 3 \\end{matrix}\\right. \\rightarrow \\left[-1, 0\\right]$"
      ],
      "text/plain": [
       "<IPython.core.display.Markdown object>"
      ]
     },
     "metadata": {},
     "output_type": "display_data"
    },
    {
     "data": {
      "text/markdown": [
       "$\\left\\{\\begin{matrix}\\frac{{3( {2 - x} )}}{2} - x < \\frac{{16}}{5} - \\frac{{x + 1}}{5} \\\\\\frac{{x + 4}}{3} - \\frac{{x - 5}}{6} > 3 - \\frac{{2x - 3}}{{18}}\\end{matrix}\\right. \\rightarrow \\left(\\frac{18}{5}, \\infty\\right)$"
      ],
      "text/plain": [
       "<IPython.core.display.Markdown object>"
      ]
     },
     "metadata": {},
     "output_type": "display_data"
    }
   ],
   "source": [
    "# Página 26 ejercicio 8\n",
    "\n",
    "texto_ejercicio = 'Resuelve los siguientes sistemas de inecuaciones:'\n",
    "n_ejercicio = 'p026e08'\n",
    "\n",
    "display(md(\"**\"+texto_ejercicio+\"**\"))\n",
    "\n",
    "pre_enunciado_latex = [[r'3x - 5 \\leq 0',r'2x + 8 \\geq 0'],\n",
    "                       [r'2x - 3 > x - 2', r' 3x - 7 < x - 1 '],\n",
    "                       [r'2x + 3( {x - 1} ) < x + 1', r'2( {x + 3} ) > x + 2 '],\n",
    "                       [r'\\frac{{x - 1}}{3} - \\frac{{x + 3}}{2} \\leq x', r' \\frac{{4x - 2}}{4} - \\frac{{x - 1}}{3} \\geq x'],\n",
    "                       [r'{( {x - 1} )^2} - {( {x + 3} )^2} \\leq 0', r'x - 3( {x - 1} ) \\geq 3 '],\n",
    "                       [r'\\frac{{3( {2 - x} )}}{2} - x < \\frac{{16}}{5} - \\frac{{x + 1}}{5} ', r'\\frac{{x + 4}}{3} - \\frac{{x - 5}}{6} > 3 - \\frac{{2x - 3}}{{18}}']\n",
    "                      ]\n",
    "                       \n",
    "\n",
    "\n",
    "\n",
    "enunciado_latex,enunciado, solucion = [], [], []\n",
    "\n",
    "for i, s in enumerate(pre_enunciado_latex) :\n",
    "    enl = r\"\"\"\\left\\{\\begin{matrix}\"\"\"+ s[0] + r'\\\\' + s[1] + r\"\"\"\\end{matrix}\\right.\"\"\"\n",
    "    en = [parse_latex(s[0]), parse_latex(s[1])]\n",
    "    so = reduce_rational_inequalities([en],x,relational=False)\n",
    "    enunciado_latex.append(enl)\n",
    "    enunciado.append(en)\n",
    "    so_l=latex(so)\n",
    "    solucion.append(so_l) \n",
    "    display(md(\"$\"+ enunciado_latex[i] +\" \\\\rightarrow \" + solucion[i] +\"$\"))\n",
    "\n",
    "df_ejercicios = df_ejercicios.append(añadir_ejercicios(enunciado_latex, enunciado, solucion, texto_ejercicio, curso, titulo , n_ejercicio, '1', '2'), ignore_index=True)\n"
   ]
  },
  {
   "cell_type": "code",
   "execution_count": 78,
   "metadata": {},
   "outputs": [
    {
     "data": {
      "image/png": "[encoded data removed]",
      "text/plain": [
       "<Figure size 432x288 with 1 Axes>"
      ]
     },
     "metadata": {},
     "output_type": "display_data"
    }
   ],
   "source": [
    "%matplotlib inline\n",
    "from sympy import plot_implicit\n",
    "\n",
    "p1 = plot_implicit(y<x, line_color='r', show=False, axis = True)\n",
    "p2 = plot_implicit(y>x**2-4, line_color = '#dbffff', show=False )\n",
    "p1.extend(p2)\n",
    "p1.save(\"./img/aver\")\n",
    "p1.show()\n"
   ]
  },
  {
   "cell_type": "code",
   "execution_count": 35,
   "metadata": {},
   "outputs": [],
   "source": [
    "df_ejercicios.to_csv('ejercicios8.csv', index = False)"
   ]
  },
  {
   "cell_type": "code",
   "execution_count": 36,
   "metadata": {},
   "outputs": [],
   "source": [
    "df_ejercicios = pd.read_csv('ejercicios8.csv', index_col= None)"
   ]
  },
  {
   "cell_type": "code",
   "execution_count": 37,
   "metadata": {},
   "outputs": [
    {
     "data": {
      "text/markdown": [
       "**Ejercicio: **p019e01"
      ],
      "text/plain": [
       "<IPython.core.display.Markdown object>"
      ]
     },
     "metadata": {},
     "output_type": "display_data"
    },
    {
     "data": {
      "text/html": [
       "<div>\n",
       "<style scoped>\n",
       "    .dataframe tbody tr th:only-of-type {\n",
       "        vertical-align: middle;\n",
       "    }\n",
       "\n",
       "    .dataframe tbody tr th {\n",
       "        vertical-align: top;\n",
       "    }\n",
       "\n",
       "    .dataframe thead th {\n",
       "        text-align: right;\n",
       "    }\n",
       "</style>\n",
       "<table border=\"1\" class=\"dataframe\">\n",
       "  <thead>\n",
       "    <tr style=\"text-align: right;\">\n",
       "      <th></th>\n",
       "      <th>enunciado_latex</th>\n",
       "      <th>enunciado</th>\n",
       "      <th>solucion</th>\n",
       "      <th>texto</th>\n",
       "      <th>curso</th>\n",
       "      <th>titulo</th>\n",
       "      <th>n_ejercicio</th>\n",
       "      <th>dificultad</th>\n",
       "      <th>n_columnas</th>\n",
       "      <th>puntos</th>\n",
       "      <th>enun_tex</th>\n",
       "    </tr>\n",
       "  </thead>\n",
       "  <tbody>\n",
       "    <tr>\n",
       "      <th>62</th>\n",
       "      <td>\\left\\{\\begin{matrix}3x - 5 \\leq 0\\\\2x + 8 \\ge...</td>\n",
       "      <td>[3*x - 5 &lt;= 0, 2*x + 8 &gt;= 0]</td>\n",
       "      <td>\\left[-4, \\frac{5}{3}\\right]</td>\n",
       "      <td>Resuelve los siguientes sistemas de inecuaciones:</td>\n",
       "      <td>1BC</td>\n",
       "      <td>8 - Inecuaciones</td>\n",
       "      <td>p019e01</td>\n",
       "      <td>1</td>\n",
       "      <td>2</td>\n",
       "      <td>1</td>\n",
       "      <td>True</td>\n",
       "    </tr>\n",
       "    <tr>\n",
       "      <th>63</th>\n",
       "      <td>\\left\\{\\begin{matrix}2x - 3 &gt; x - 2\\\\ 3x - 7 &lt;...</td>\n",
       "      <td>[2*x - 3 &gt; x - 2, 3*x - 7 &lt; x - 1]</td>\n",
       "      <td>\\left(1, 3\\right)</td>\n",
       "      <td>Resuelve los siguientes sistemas de inecuaciones:</td>\n",
       "      <td>1BC</td>\n",
       "      <td>8 - Inecuaciones</td>\n",
       "      <td>p019e01</td>\n",
       "      <td>1</td>\n",
       "      <td>2</td>\n",
       "      <td>1</td>\n",
       "      <td>True</td>\n",
       "    </tr>\n",
       "    <tr>\n",
       "      <th>64</th>\n",
       "      <td>\\left\\{\\begin{matrix}2x + 3( {x - 1} ) &lt; x + 1...</td>\n",
       "      <td>[2*x + 3*(x - 1) &lt; x + 1, 2*(x + 3) &gt; x + 2]</td>\n",
       "      <td>\\left(-4, 1\\right)</td>\n",
       "      <td>Resuelve los siguientes sistemas de inecuaciones:</td>\n",
       "      <td>1BC</td>\n",
       "      <td>8 - Inecuaciones</td>\n",
       "      <td>p019e01</td>\n",
       "      <td>1</td>\n",
       "      <td>2</td>\n",
       "      <td>1</td>\n",
       "      <td>True</td>\n",
       "    </tr>\n",
       "    <tr>\n",
       "      <th>65</th>\n",
       "      <td>\\left\\{\\begin{matrix}\\frac{{x - 1}}{3} - \\frac...</td>\n",
       "      <td>[-x/2 - 3/2 + (x - 1)/3 &lt;= x, -x/3 + 1/3 + (4*...</td>\n",
       "      <td>\\left[- \\frac{11}{7}, - \\frac{1}{2}\\right]</td>\n",
       "      <td>Resuelve los siguientes sistemas de inecuaciones:</td>\n",
       "      <td>1BC</td>\n",
       "      <td>8 - Inecuaciones</td>\n",
       "      <td>p019e01</td>\n",
       "      <td>1</td>\n",
       "      <td>2</td>\n",
       "      <td>1</td>\n",
       "      <td>True</td>\n",
       "    </tr>\n",
       "    <tr>\n",
       "      <th>66</th>\n",
       "      <td>\\left\\{\\begin{matrix}{( {x - 1} )^2} - {( {x +...</td>\n",
       "      <td>[(x - 1)**2 - (x + 3)**2 &lt;= 0, x - 3*(x - 1) &gt;...</td>\n",
       "      <td>\\left[-1, 0\\right]</td>\n",
       "      <td>Resuelve los siguientes sistemas de inecuaciones:</td>\n",
       "      <td>1BC</td>\n",
       "      <td>8 - Inecuaciones</td>\n",
       "      <td>p019e01</td>\n",
       "      <td>1</td>\n",
       "      <td>2</td>\n",
       "      <td>1</td>\n",
       "      <td>True</td>\n",
       "    </tr>\n",
       "    <tr>\n",
       "      <th>67</th>\n",
       "      <td>\\left\\{\\begin{matrix}\\frac{{3( {2 - x} )}}{2} ...</td>\n",
       "      <td>[-x + (3*(-x + 2))/2 &lt; -x/5 - 1/5 + 16/5, -x/6...</td>\n",
       "      <td>\\left(\\frac{18}{5}, \\infty\\right)</td>\n",
       "      <td>Resuelve los siguientes sistemas de inecuaciones:</td>\n",
       "      <td>1BC</td>\n",
       "      <td>8 - Inecuaciones</td>\n",
       "      <td>p019e01</td>\n",
       "      <td>1</td>\n",
       "      <td>2</td>\n",
       "      <td>1</td>\n",
       "      <td>True</td>\n",
       "    </tr>\n",
       "  </tbody>\n",
       "</table>\n",
       "</div>"
      ],
      "text/plain": [
       "                                      enunciado_latex  \\\n",
       "62  \\left\\{\\begin{matrix}3x - 5 \\leq 0\\\\2x + 8 \\ge...   \n",
       "63  \\left\\{\\begin{matrix}2x - 3 > x - 2\\\\ 3x - 7 <...   \n",
       "64  \\left\\{\\begin{matrix}2x + 3( {x - 1} ) < x + 1...   \n",
       "65  \\left\\{\\begin{matrix}\\frac{{x - 1}}{3} - \\frac...   \n",
       "66  \\left\\{\\begin{matrix}{( {x - 1} )^2} - {( {x +...   \n",
       "67  \\left\\{\\begin{matrix}\\frac{{3( {2 - x} )}}{2} ...   \n",
       "\n",
       "                                            enunciado  \\\n",
       "62                       [3*x - 5 <= 0, 2*x + 8 >= 0]   \n",
       "63                 [2*x - 3 > x - 2, 3*x - 7 < x - 1]   \n",
       "64       [2*x + 3*(x - 1) < x + 1, 2*(x + 3) > x + 2]   \n",
       "65  [-x/2 - 3/2 + (x - 1)/3 <= x, -x/3 + 1/3 + (4*...   \n",
       "66  [(x - 1)**2 - (x + 3)**2 <= 0, x - 3*(x - 1) >...   \n",
       "67  [-x + (3*(-x + 2))/2 < -x/5 - 1/5 + 16/5, -x/6...   \n",
       "\n",
       "                                      solucion  \\\n",
       "62                \\left[-4, \\frac{5}{3}\\right]   \n",
       "63                           \\left(1, 3\\right)   \n",
       "64                          \\left(-4, 1\\right)   \n",
       "65  \\left[- \\frac{11}{7}, - \\frac{1}{2}\\right]   \n",
       "66                          \\left[-1, 0\\right]   \n",
       "67           \\left(\\frac{18}{5}, \\infty\\right)   \n",
       "\n",
       "                                                texto curso            titulo  \\\n",
       "62  Resuelve los siguientes sistemas de inecuaciones:   1BC  8 - Inecuaciones   \n",
       "63  Resuelve los siguientes sistemas de inecuaciones:   1BC  8 - Inecuaciones   \n",
       "64  Resuelve los siguientes sistemas de inecuaciones:   1BC  8 - Inecuaciones   \n",
       "65  Resuelve los siguientes sistemas de inecuaciones:   1BC  8 - Inecuaciones   \n",
       "66  Resuelve los siguientes sistemas de inecuaciones:   1BC  8 - Inecuaciones   \n",
       "67  Resuelve los siguientes sistemas de inecuaciones:   1BC  8 - Inecuaciones   \n",
       "\n",
       "   n_ejercicio  dificultad  n_columnas  puntos  enun_tex  \n",
       "62     p019e01           1           2       1      True  \n",
       "63     p019e01           1           2       1      True  \n",
       "64     p019e01           1           2       1      True  \n",
       "65     p019e01           1           2       1      True  \n",
       "66     p019e01           1           2       1      True  \n",
       "67     p019e01           1           2       1      True  "
      ]
     },
     "metadata": {},
     "output_type": "display_data"
    },
    {
     "data": {
      "text/markdown": [
       "**Ejercicio: **p025e01"
      ],
      "text/plain": [
       "<IPython.core.display.Markdown object>"
      ]
     },
     "metadata": {},
     "output_type": "display_data"
    },
    {
     "data": {
      "text/html": [
       "<div>\n",
       "<style scoped>\n",
       "    .dataframe tbody tr th:only-of-type {\n",
       "        vertical-align: middle;\n",
       "    }\n",
       "\n",
       "    .dataframe tbody tr th {\n",
       "        vertical-align: top;\n",
       "    }\n",
       "\n",
       "    .dataframe thead th {\n",
       "        text-align: right;\n",
       "    }\n",
       "</style>\n",
       "<table border=\"1\" class=\"dataframe\">\n",
       "  <thead>\n",
       "    <tr style=\"text-align: right;\">\n",
       "      <th></th>\n",
       "      <th>enunciado_latex</th>\n",
       "      <th>enunciado</th>\n",
       "      <th>solucion</th>\n",
       "      <th>texto</th>\n",
       "      <th>curso</th>\n",
       "      <th>titulo</th>\n",
       "      <th>n_ejercicio</th>\n",
       "      <th>dificultad</th>\n",
       "      <th>n_columnas</th>\n",
       "      <th>puntos</th>\n",
       "      <th>enun_tex</th>\n",
       "    </tr>\n",
       "  </thead>\n",
       "  <tbody>\n",
       "    <tr>\n",
       "      <th>0</th>\n",
       "      <td>5x - 3 \\leq 7 - 2x</td>\n",
       "      <td>5*x - 3 &lt;= -2*x + 7</td>\n",
       "      <td>\\left(-\\infty, \\frac{10}{7}\\right]</td>\n",
       "      <td>Resuelve las inecuaciones lineales:</td>\n",
       "      <td>1BC</td>\n",
       "      <td>8 - Inecuaciones</td>\n",
       "      <td>p025e01</td>\n",
       "      <td>1</td>\n",
       "      <td>2</td>\n",
       "      <td>1</td>\n",
       "      <td>True</td>\n",
       "    </tr>\n",
       "    <tr>\n",
       "      <th>1</th>\n",
       "      <td>\\frac{{2( {x - 3} )}}{5} - \\frac{{3x}}{2} + 7 ...</td>\n",
       "      <td>-3*x/2 + (2*(x - 3))/5 + 7 &lt; -2*x/3 + 1 + 10</td>\n",
       "      <td>\\left(-12, \\infty\\right)</td>\n",
       "      <td>Resuelve las inecuaciones lineales:</td>\n",
       "      <td>1BC</td>\n",
       "      <td>8 - Inecuaciones</td>\n",
       "      <td>p025e01</td>\n",
       "      <td>1</td>\n",
       "      <td>2</td>\n",
       "      <td>1</td>\n",
       "      <td>True</td>\n",
       "    </tr>\n",
       "    <tr>\n",
       "      <th>2</th>\n",
       "      <td>x - 2( {x + 4} ) \\leq 3x - 6</td>\n",
       "      <td>x - 2*(x + 4) &lt;= 3*x - 6</td>\n",
       "      <td>\\left[- \\frac{1}{2}, \\infty\\right)</td>\n",
       "      <td>Resuelve las inecuaciones lineales:</td>\n",
       "      <td>1BC</td>\n",
       "      <td>8 - Inecuaciones</td>\n",
       "      <td>p025e01</td>\n",
       "      <td>1</td>\n",
       "      <td>2</td>\n",
       "      <td>1</td>\n",
       "      <td>True</td>\n",
       "    </tr>\n",
       "    <tr>\n",
       "      <th>3</th>\n",
       "      <td>\\frac{{x - 1}}{2} - \\frac{{x + 1}}{3} &gt; 5 - x</td>\n",
       "      <td>-x/3 - 1/3 + (x - 1)/2 &gt; -x + 5</td>\n",
       "      <td>\\left(5, \\infty\\right)</td>\n",
       "      <td>Resuelve las inecuaciones lineales:</td>\n",
       "      <td>1BC</td>\n",
       "      <td>8 - Inecuaciones</td>\n",
       "      <td>p025e01</td>\n",
       "      <td>1</td>\n",
       "      <td>2</td>\n",
       "      <td>1</td>\n",
       "      <td>True</td>\n",
       "    </tr>\n",
       "    <tr>\n",
       "      <th>4</th>\n",
       "      <td>2( {x - 6} ) - 5( {x - 4} ) \\leq 6x - 1</td>\n",
       "      <td>2*(x - 6) - 5*(x - 4) &lt;= 6*x - 1</td>\n",
       "      <td>\\left[1, \\infty\\right)</td>\n",
       "      <td>Resuelve las inecuaciones lineales:</td>\n",
       "      <td>1BC</td>\n",
       "      <td>8 - Inecuaciones</td>\n",
       "      <td>p025e01</td>\n",
       "      <td>1</td>\n",
       "      <td>2</td>\n",
       "      <td>1</td>\n",
       "      <td>True</td>\n",
       "    </tr>\n",
       "    <tr>\n",
       "      <th>5</th>\n",
       "      <td>\\frac{{3( {x - 2} )}}{4} - 5( {x + 1} ) &gt; 3 - ...</td>\n",
       "      <td>-5*(x + 1) + (3*(x - 2))/4 &gt; -x/4 + 3</td>\n",
       "      <td>\\left(-\\infty, - \\frac{19}{8}\\right)</td>\n",
       "      <td>Resuelve las inecuaciones lineales:</td>\n",
       "      <td>1BC</td>\n",
       "      <td>8 - Inecuaciones</td>\n",
       "      <td>p025e01</td>\n",
       "      <td>1</td>\n",
       "      <td>2</td>\n",
       "      <td>1</td>\n",
       "      <td>True</td>\n",
       "    </tr>\n",
       "    <tr>\n",
       "      <th>6</th>\n",
       "      <td>5 - 2( {5x - 6} ) \\geq 3( {x - 1} ) + \\frac{{7...</td>\n",
       "      <td>-2*(5*x - 6) + 5 &gt;= (-x + 7)/2 + 3*(x - 1)</td>\n",
       "      <td>\\left(-\\infty, \\frac{33}{25}\\right]</td>\n",
       "      <td>Resuelve las inecuaciones lineales:</td>\n",
       "      <td>1BC</td>\n",
       "      <td>8 - Inecuaciones</td>\n",
       "      <td>p025e01</td>\n",
       "      <td>1</td>\n",
       "      <td>2</td>\n",
       "      <td>1</td>\n",
       "      <td>True</td>\n",
       "    </tr>\n",
       "    <tr>\n",
       "      <th>7</th>\n",
       "      <td>3( {x - 2} ) &lt; 6</td>\n",
       "      <td>3*(x - 2) &lt; 6</td>\n",
       "      <td>\\left(-\\infty, 4\\right)</td>\n",
       "      <td>Resuelve las inecuaciones lineales:</td>\n",
       "      <td>1BC</td>\n",
       "      <td>8 - Inecuaciones</td>\n",
       "      <td>p025e01</td>\n",
       "      <td>1</td>\n",
       "      <td>2</td>\n",
       "      <td>1</td>\n",
       "      <td>True</td>\n",
       "    </tr>\n",
       "    <tr>\n",
       "      <th>8</th>\n",
       "      <td>2( {x + 3} ) &gt; 3( {x + 2} )</td>\n",
       "      <td>2*(x + 3) &gt; 3*(x + 2)</td>\n",
       "      <td>\\left(-\\infty, 0\\right)</td>\n",
       "      <td>Resuelve las inecuaciones lineales:</td>\n",
       "      <td>1BC</td>\n",
       "      <td>8 - Inecuaciones</td>\n",
       "      <td>p025e01</td>\n",
       "      <td>1</td>\n",
       "      <td>2</td>\n",
       "      <td>1</td>\n",
       "      <td>True</td>\n",
       "    </tr>\n",
       "    <tr>\n",
       "      <th>9</th>\n",
       "      <td>2( {x + 1} ) - 7 \\geq x - 3</td>\n",
       "      <td>2*(x + 1) - 7 &gt;= x - 3</td>\n",
       "      <td>\\left[2, \\infty\\right)</td>\n",
       "      <td>Resuelve las inecuaciones lineales:</td>\n",
       "      <td>1BC</td>\n",
       "      <td>8 - Inecuaciones</td>\n",
       "      <td>p025e01</td>\n",
       "      <td>1</td>\n",
       "      <td>2</td>\n",
       "      <td>1</td>\n",
       "      <td>True</td>\n",
       "    </tr>\n",
       "    <tr>\n",
       "      <th>10</th>\n",
       "      <td>\\frac{{x - 1}}{4} - \\frac{{x + 2}}{3} &gt; \\frac{...</td>\n",
       "      <td>-x/3 - 2/3 + (x - 1)/4 &gt; -x + (3*x - 1)/6</td>\n",
       "      <td>\\left(\\frac{9}{5}, \\infty\\right)</td>\n",
       "      <td>Resuelve las inecuaciones lineales:</td>\n",
       "      <td>1BC</td>\n",
       "      <td>8 - Inecuaciones</td>\n",
       "      <td>p025e01</td>\n",
       "      <td>1</td>\n",
       "      <td>2</td>\n",
       "      <td>1</td>\n",
       "      <td>True</td>\n",
       "    </tr>\n",
       "    <tr>\n",
       "      <th>11</th>\n",
       "      <td>\\frac{{x - 3}}{5} + \\frac{{2x + 6}}{2} \\geq \\f...</td>\n",
       "      <td>(x - 3)/5 + (2*x + 6)/2 &gt;= x/4 - 3*x/2 + 3</td>\n",
       "      <td>\\left[\\frac{12}{49}, \\infty\\right)</td>\n",
       "      <td>Resuelve las inecuaciones lineales:</td>\n",
       "      <td>1BC</td>\n",
       "      <td>8 - Inecuaciones</td>\n",
       "      <td>p025e01</td>\n",
       "      <td>1</td>\n",
       "      <td>2</td>\n",
       "      <td>1</td>\n",
       "      <td>True</td>\n",
       "    </tr>\n",
       "    <tr>\n",
       "      <th>12</th>\n",
       "      <td>{( {x - 3} )^2} - {( {x + 2} )^2} &lt; 5</td>\n",
       "      <td>(x - 3)**2 - (x + 2)**2 &lt; 5</td>\n",
       "      <td>\\left(0, \\infty\\right)</td>\n",
       "      <td>Resuelve las inecuaciones lineales:</td>\n",
       "      <td>1BC</td>\n",
       "      <td>8 - Inecuaciones</td>\n",
       "      <td>p025e01</td>\n",
       "      <td>1</td>\n",
       "      <td>2</td>\n",
       "      <td>1</td>\n",
       "      <td>True</td>\n",
       "    </tr>\n",
       "    <tr>\n",
       "      <th>13</th>\n",
       "      <td>( {4x - 3} )( {2 + x} ) &gt; {( {3 - 2x} )^2}</td>\n",
       "      <td>(x + 2)*(4*x - 3) &gt; (-2*x + 3)**2</td>\n",
       "      <td>\\left(\\frac{15}{17}, \\infty\\right)</td>\n",
       "      <td>Resuelve las inecuaciones lineales:</td>\n",
       "      <td>1BC</td>\n",
       "      <td>8 - Inecuaciones</td>\n",
       "      <td>p025e01</td>\n",
       "      <td>1</td>\n",
       "      <td>2</td>\n",
       "      <td>1</td>\n",
       "      <td>True</td>\n",
       "    </tr>\n",
       "    <tr>\n",
       "      <th>14</th>\n",
       "      <td>\\frac{{x - 1}}{2} - x &lt; \\frac{{1 - x}}{4} - 3</td>\n",
       "      <td>-x + (x - 1)/2 &lt; (-x + 1)/4 - 3</td>\n",
       "      <td>\\left(9, \\infty\\right)</td>\n",
       "      <td>Resuelve las inecuaciones lineales:</td>\n",
       "      <td>1BC</td>\n",
       "      <td>8 - Inecuaciones</td>\n",
       "      <td>p025e01</td>\n",
       "      <td>1</td>\n",
       "      <td>2</td>\n",
       "      <td>1</td>\n",
       "      <td>True</td>\n",
       "    </tr>\n",
       "    <tr>\n",
       "      <th>15</th>\n",
       "      <td>\\frac{{x + 7}}{{10}} - \\frac{{x - 5}}{5} &gt; \\fr...</td>\n",
       "      <td>-x/5 + 1 + (x + 7)/10 &gt; (x - 9)/3</td>\n",
       "      <td>\\left(-\\infty, \\frac{141}{13}\\right)</td>\n",
       "      <td>Resuelve las inecuaciones lineales:</td>\n",
       "      <td>1BC</td>\n",
       "      <td>8 - Inecuaciones</td>\n",
       "      <td>p025e01</td>\n",
       "      <td>1</td>\n",
       "      <td>2</td>\n",
       "      <td>1</td>\n",
       "      <td>True</td>\n",
       "    </tr>\n",
       "    <tr>\n",
       "      <th>16</th>\n",
       "      <td>\\frac{{5x - 2}}{3} - \\frac{{x - 8}}{4} &gt; \\frac...</td>\n",
       "      <td>-x/4 + 2 + (5*x - 2)/3 &gt; (x + 14)/2 - 2</td>\n",
       "      <td>\\left(4, \\infty\\right)</td>\n",
       "      <td>Resuelve las inecuaciones lineales:</td>\n",
       "      <td>1BC</td>\n",
       "      <td>8 - Inecuaciones</td>\n",
       "      <td>p025e01</td>\n",
       "      <td>1</td>\n",
       "      <td>2</td>\n",
       "      <td>1</td>\n",
       "      <td>True</td>\n",
       "    </tr>\n",
       "    <tr>\n",
       "      <th>17</th>\n",
       "      <td>4x - \\frac{{3 - 2x}}{4} &lt; \\frac{{3x - 1}}{3} +...</td>\n",
       "      <td>4*x + x/2 - 3/4 &lt; (3*x - 1)/3 + 37/12</td>\n",
       "      <td>\\left(-\\infty, 1\\right)</td>\n",
       "      <td>Resuelve las inecuaciones lineales:</td>\n",
       "      <td>1BC</td>\n",
       "      <td>8 - Inecuaciones</td>\n",
       "      <td>p025e01</td>\n",
       "      <td>1</td>\n",
       "      <td>2</td>\n",
       "      <td>1</td>\n",
       "      <td>True</td>\n",
       "    </tr>\n",
       "    <tr>\n",
       "      <th>18</th>\n",
       "      <td>\\frac{{x + 2}}{3} - \\frac{{12 - x}}{2} &gt; \\frac...</td>\n",
       "      <td>x/2 - 6 + (x + 2)/3 &gt; (5*x - 36)/4 - 1</td>\n",
       "      <td>\\left(-\\infty, \\frac{56}{5}\\right)</td>\n",
       "      <td>Resuelve las inecuaciones lineales:</td>\n",
       "      <td>1BC</td>\n",
       "      <td>8 - Inecuaciones</td>\n",
       "      <td>p025e01</td>\n",
       "      <td>1</td>\n",
       "      <td>2</td>\n",
       "      <td>1</td>\n",
       "      <td>True</td>\n",
       "    </tr>\n",
       "    <tr>\n",
       "      <th>19</th>\n",
       "      <td>3( {x - 2( {\\frac{{x - 1}}{4}x - 5} )} ) &lt; \\fr...</td>\n",
       "      <td>3*(x - 2*(x*((x - 1)/4) - 5)) &lt; (3/2)*(x*(-x +...</td>\n",
       "      <td>\\left(20, \\infty\\right)</td>\n",
       "      <td>Resuelve las inecuaciones lineales:</td>\n",
       "      <td>1BC</td>\n",
       "      <td>8 - Inecuaciones</td>\n",
       "      <td>p025e01</td>\n",
       "      <td>1</td>\n",
       "      <td>2</td>\n",
       "      <td>1</td>\n",
       "      <td>True</td>\n",
       "    </tr>\n",
       "    <tr>\n",
       "      <th>20</th>\n",
       "      <td>\\frac{{3x + 1}}{4} - \\frac{1}{3} \\leq \\frac{2}...</td>\n",
       "      <td>(3*x + 1)/4 - 1/3 &lt;= (4*(-x + 1))/3 + (2/15)*(...</td>\n",
       "      <td>\\left(-\\infty, 1\\right]</td>\n",
       "      <td>Resuelve las inecuaciones lineales:</td>\n",
       "      <td>1BC</td>\n",
       "      <td>8 - Inecuaciones</td>\n",
       "      <td>p025e01</td>\n",
       "      <td>1</td>\n",
       "      <td>2</td>\n",
       "      <td>1</td>\n",
       "      <td>True</td>\n",
       "    </tr>\n",
       "  </tbody>\n",
       "</table>\n",
       "</div>"
      ],
      "text/plain": [
       "                                      enunciado_latex  \\\n",
       "0                                  5x - 3 \\leq 7 - 2x   \n",
       "1   \\frac{{2( {x - 3} )}}{5} - \\frac{{3x}}{2} + 7 ...   \n",
       "2                        x - 2( {x + 4} ) \\leq 3x - 6   \n",
       "3       \\frac{{x - 1}}{2} - \\frac{{x + 1}}{3} > 5 - x   \n",
       "4             2( {x - 6} ) - 5( {x - 4} ) \\leq 6x - 1   \n",
       "5   \\frac{{3( {x - 2} )}}{4} - 5( {x + 1} ) > 3 - ...   \n",
       "6   5 - 2( {5x - 6} ) \\geq 3( {x - 1} ) + \\frac{{7...   \n",
       "7                                    3( {x - 2} ) < 6   \n",
       "8                         2( {x + 3} ) > 3( {x + 2} )   \n",
       "9                         2( {x + 1} ) - 7 \\geq x - 3   \n",
       "10  \\frac{{x - 1}}{4} - \\frac{{x + 2}}{3} > \\frac{...   \n",
       "11  \\frac{{x - 3}}{5} + \\frac{{2x + 6}}{2} \\geq \\f...   \n",
       "12              {( {x - 3} )^2} - {( {x + 2} )^2} < 5   \n",
       "13         ( {4x - 3} )( {2 + x} ) > {( {3 - 2x} )^2}   \n",
       "14      \\frac{{x - 1}}{2} - x < \\frac{{1 - x}}{4} - 3   \n",
       "15  \\frac{{x + 7}}{{10}} - \\frac{{x - 5}}{5} > \\fr...   \n",
       "16  \\frac{{5x - 2}}{3} - \\frac{{x - 8}}{4} > \\frac...   \n",
       "17  4x - \\frac{{3 - 2x}}{4} < \\frac{{3x - 1}}{3} +...   \n",
       "18  \\frac{{x + 2}}{3} - \\frac{{12 - x}}{2} > \\frac...   \n",
       "19  3( {x - 2( {\\frac{{x - 1}}{4}x - 5} )} ) < \\fr...   \n",
       "20  \\frac{{3x + 1}}{4} - \\frac{1}{3} \\leq \\frac{2}...   \n",
       "\n",
       "                                            enunciado  \\\n",
       "0                                 5*x - 3 <= -2*x + 7   \n",
       "1        -3*x/2 + (2*(x - 3))/5 + 7 < -2*x/3 + 1 + 10   \n",
       "2                            x - 2*(x + 4) <= 3*x - 6   \n",
       "3                     -x/3 - 1/3 + (x - 1)/2 > -x + 5   \n",
       "4                    2*(x - 6) - 5*(x - 4) <= 6*x - 1   \n",
       "5               -5*(x + 1) + (3*(x - 2))/4 > -x/4 + 3   \n",
       "6          -2*(5*x - 6) + 5 >= (-x + 7)/2 + 3*(x - 1)   \n",
       "7                                       3*(x - 2) < 6   \n",
       "8                               2*(x + 3) > 3*(x + 2)   \n",
       "9                              2*(x + 1) - 7 >= x - 3   \n",
       "10          -x/3 - 2/3 + (x - 1)/4 > -x + (3*x - 1)/6   \n",
       "11         (x - 3)/5 + (2*x + 6)/2 >= x/4 - 3*x/2 + 3   \n",
       "12                        (x - 3)**2 - (x + 2)**2 < 5   \n",
       "13                  (x + 2)*(4*x - 3) > (-2*x + 3)**2   \n",
       "14                    -x + (x - 1)/2 < (-x + 1)/4 - 3   \n",
       "15                  -x/5 + 1 + (x + 7)/10 > (x - 9)/3   \n",
       "16            -x/4 + 2 + (5*x - 2)/3 > (x + 14)/2 - 2   \n",
       "17              4*x + x/2 - 3/4 < (3*x - 1)/3 + 37/12   \n",
       "18             x/2 - 6 + (x + 2)/3 > (5*x - 36)/4 - 1   \n",
       "19  3*(x - 2*(x*((x - 1)/4) - 5)) < (3/2)*(x*(-x +...   \n",
       "20  (3*x + 1)/4 - 1/3 <= (4*(-x + 1))/3 + (2/15)*(...   \n",
       "\n",
       "                                solucion                                texto  \\\n",
       "0     \\left(-\\infty, \\frac{10}{7}\\right]  Resuelve las inecuaciones lineales:   \n",
       "1               \\left(-12, \\infty\\right)  Resuelve las inecuaciones lineales:   \n",
       "2     \\left[- \\frac{1}{2}, \\infty\\right)  Resuelve las inecuaciones lineales:   \n",
       "3                 \\left(5, \\infty\\right)  Resuelve las inecuaciones lineales:   \n",
       "4                 \\left[1, \\infty\\right)  Resuelve las inecuaciones lineales:   \n",
       "5   \\left(-\\infty, - \\frac{19}{8}\\right)  Resuelve las inecuaciones lineales:   \n",
       "6    \\left(-\\infty, \\frac{33}{25}\\right]  Resuelve las inecuaciones lineales:   \n",
       "7                \\left(-\\infty, 4\\right)  Resuelve las inecuaciones lineales:   \n",
       "8                \\left(-\\infty, 0\\right)  Resuelve las inecuaciones lineales:   \n",
       "9                 \\left[2, \\infty\\right)  Resuelve las inecuaciones lineales:   \n",
       "10      \\left(\\frac{9}{5}, \\infty\\right)  Resuelve las inecuaciones lineales:   \n",
       "11    \\left[\\frac{12}{49}, \\infty\\right)  Resuelve las inecuaciones lineales:   \n",
       "12                \\left(0, \\infty\\right)  Resuelve las inecuaciones lineales:   \n",
       "13    \\left(\\frac{15}{17}, \\infty\\right)  Resuelve las inecuaciones lineales:   \n",
       "14                \\left(9, \\infty\\right)  Resuelve las inecuaciones lineales:   \n",
       "15  \\left(-\\infty, \\frac{141}{13}\\right)  Resuelve las inecuaciones lineales:   \n",
       "16                \\left(4, \\infty\\right)  Resuelve las inecuaciones lineales:   \n",
       "17               \\left(-\\infty, 1\\right)  Resuelve las inecuaciones lineales:   \n",
       "18    \\left(-\\infty, \\frac{56}{5}\\right)  Resuelve las inecuaciones lineales:   \n",
       "19               \\left(20, \\infty\\right)  Resuelve las inecuaciones lineales:   \n",
       "20               \\left(-\\infty, 1\\right]  Resuelve las inecuaciones lineales:   \n",
       "\n",
       "   curso            titulo n_ejercicio  dificultad  n_columnas  puntos  \\\n",
       "0    1BC  8 - Inecuaciones     p025e01           1           2       1   \n",
       "1    1BC  8 - Inecuaciones     p025e01           1           2       1   \n",
       "2    1BC  8 - Inecuaciones     p025e01           1           2       1   \n",
       "3    1BC  8 - Inecuaciones     p025e01           1           2       1   \n",
       "4    1BC  8 - Inecuaciones     p025e01           1           2       1   \n",
       "5    1BC  8 - Inecuaciones     p025e01           1           2       1   \n",
       "6    1BC  8 - Inecuaciones     p025e01           1           2       1   \n",
       "7    1BC  8 - Inecuaciones     p025e01           1           2       1   \n",
       "8    1BC  8 - Inecuaciones     p025e01           1           2       1   \n",
       "9    1BC  8 - Inecuaciones     p025e01           1           2       1   \n",
       "10   1BC  8 - Inecuaciones     p025e01           1           2       1   \n",
       "11   1BC  8 - Inecuaciones     p025e01           1           2       1   \n",
       "12   1BC  8 - Inecuaciones     p025e01           1           2       1   \n",
       "13   1BC  8 - Inecuaciones     p025e01           1           2       1   \n",
       "14   1BC  8 - Inecuaciones     p025e01           1           2       1   \n",
       "15   1BC  8 - Inecuaciones     p025e01           1           2       1   \n",
       "16   1BC  8 - Inecuaciones     p025e01           1           2       1   \n",
       "17   1BC  8 - Inecuaciones     p025e01           1           2       1   \n",
       "18   1BC  8 - Inecuaciones     p025e01           1           2       1   \n",
       "19   1BC  8 - Inecuaciones     p025e01           1           2       1   \n",
       "20   1BC  8 - Inecuaciones     p025e01           1           2       1   \n",
       "\n",
       "    enun_tex  \n",
       "0       True  \n",
       "1       True  \n",
       "2       True  \n",
       "3       True  \n",
       "4       True  \n",
       "5       True  \n",
       "6       True  \n",
       "7       True  \n",
       "8       True  \n",
       "9       True  \n",
       "10      True  \n",
       "11      True  \n",
       "12      True  \n",
       "13      True  \n",
       "14      True  \n",
       "15      True  \n",
       "16      True  \n",
       "17      True  \n",
       "18      True  \n",
       "19      True  \n",
       "20      True  "
      ]
     },
     "metadata": {},
     "output_type": "display_data"
    },
    {
     "data": {
      "text/markdown": [
       "**Ejercicio: **p025e02-e04"
      ],
      "text/plain": [
       "<IPython.core.display.Markdown object>"
      ]
     },
     "metadata": {},
     "output_type": "display_data"
    },
    {
     "data": {
      "text/html": [
       "<div>\n",
       "<style scoped>\n",
       "    .dataframe tbody tr th:only-of-type {\n",
       "        vertical-align: middle;\n",
       "    }\n",
       "\n",
       "    .dataframe tbody tr th {\n",
       "        vertical-align: top;\n",
       "    }\n",
       "\n",
       "    .dataframe thead th {\n",
       "        text-align: right;\n",
       "    }\n",
       "</style>\n",
       "<table border=\"1\" class=\"dataframe\">\n",
       "  <thead>\n",
       "    <tr style=\"text-align: right;\">\n",
       "      <th></th>\n",
       "      <th>enunciado_latex</th>\n",
       "      <th>enunciado</th>\n",
       "      <th>solucion</th>\n",
       "      <th>texto</th>\n",
       "      <th>curso</th>\n",
       "      <th>titulo</th>\n",
       "      <th>n_ejercicio</th>\n",
       "      <th>dificultad</th>\n",
       "      <th>n_columnas</th>\n",
       "      <th>puntos</th>\n",
       "      <th>enun_tex</th>\n",
       "    </tr>\n",
       "  </thead>\n",
       "  <tbody>\n",
       "    <tr>\n",
       "      <th>21</th>\n",
       "      <td>Mezclamos café de 6 euros el kg. con otro de 7...</td>\n",
       "      <td>6x+7.2(60-x)&lt;7\\cdot60</td>\n",
       "      <td>6x+7.2(60-x)&lt;7\\cdot60  \\rightarrow  \\\\\\left(10...</td>\n",
       "      <td>Resuelve mediante expresiones algebraicas:</td>\n",
       "      <td>1BC</td>\n",
       "      <td>8 - Inecuaciones</td>\n",
       "      <td>p025e02-e04</td>\n",
       "      <td>1</td>\n",
       "      <td>1</td>\n",
       "      <td>1</td>\n",
       "      <td>False</td>\n",
       "    </tr>\n",
       "    <tr>\n",
       "      <th>22</th>\n",
       "      <td>Para fabricar un tipo de tapones se tienen com...</td>\n",
       "      <td>25+200+0.25x&lt;1200</td>\n",
       "      <td>25+200+0.25x&lt;1200  \\rightarrow  \\\\\\left(-\\inft...</td>\n",
       "      <td>Resuelve mediante expresiones algebraicas:</td>\n",
       "      <td>1BC</td>\n",
       "      <td>8 - Inecuaciones</td>\n",
       "      <td>p025e02-e04</td>\n",
       "      <td>1</td>\n",
       "      <td>1</td>\n",
       "      <td>1</td>\n",
       "      <td>False</td>\n",
       "    </tr>\n",
       "    <tr>\n",
       "      <th>23</th>\n",
       "      <td>Un padre tiene 32 años más que su hijo, y el a...</td>\n",
       "      <td>(x-3-32)+(x-3)+(x-3+32)&lt;100</td>\n",
       "      <td>(x-3-32)+(x-3)+(x-3+32)&lt;100  \\rightarrow  \\\\\\l...</td>\n",
       "      <td>Resuelve mediante expresiones algebraicas:</td>\n",
       "      <td>1BC</td>\n",
       "      <td>8 - Inecuaciones</td>\n",
       "      <td>p025e02-e04</td>\n",
       "      <td>1</td>\n",
       "      <td>1</td>\n",
       "      <td>1</td>\n",
       "      <td>False</td>\n",
       "    </tr>\n",
       "  </tbody>\n",
       "</table>\n",
       "</div>"
      ],
      "text/plain": [
       "                                      enunciado_latex  \\\n",
       "21  Mezclamos café de 6 euros el kg. con otro de 7...   \n",
       "22  Para fabricar un tipo de tapones se tienen com...   \n",
       "23  Un padre tiene 32 años más que su hijo, y el a...   \n",
       "\n",
       "                      enunciado  \\\n",
       "21        6x+7.2(60-x)<7\\cdot60   \n",
       "22            25+200+0.25x<1200   \n",
       "23  (x-3-32)+(x-3)+(x-3+32)<100   \n",
       "\n",
       "                                             solucion  \\\n",
       "21  6x+7.2(60-x)<7\\cdot60  \\rightarrow  \\\\\\left(10...   \n",
       "22  25+200+0.25x<1200  \\rightarrow  \\\\\\left(-\\inft...   \n",
       "23  (x-3-32)+(x-3)+(x-3+32)<100  \\rightarrow  \\\\\\l...   \n",
       "\n",
       "                                         texto curso            titulo  \\\n",
       "21  Resuelve mediante expresiones algebraicas:   1BC  8 - Inecuaciones   \n",
       "22  Resuelve mediante expresiones algebraicas:   1BC  8 - Inecuaciones   \n",
       "23  Resuelve mediante expresiones algebraicas:   1BC  8 - Inecuaciones   \n",
       "\n",
       "    n_ejercicio  dificultad  n_columnas  puntos  enun_tex  \n",
       "21  p025e02-e04           1           1       1     False  \n",
       "22  p025e02-e04           1           1       1     False  \n",
       "23  p025e02-e04           1           1       1     False  "
      ]
     },
     "metadata": {},
     "output_type": "display_data"
    },
    {
     "data": {
      "text/markdown": [
       "**Ejercicio: **p025e05"
      ],
      "text/plain": [
       "<IPython.core.display.Markdown object>"
      ]
     },
     "metadata": {},
     "output_type": "display_data"
    },
    {
     "data": {
      "text/html": [
       "<div>\n",
       "<style scoped>\n",
       "    .dataframe tbody tr th:only-of-type {\n",
       "        vertical-align: middle;\n",
       "    }\n",
       "\n",
       "    .dataframe tbody tr th {\n",
       "        vertical-align: top;\n",
       "    }\n",
       "\n",
       "    .dataframe thead th {\n",
       "        text-align: right;\n",
       "    }\n",
       "</style>\n",
       "<table border=\"1\" class=\"dataframe\">\n",
       "  <thead>\n",
       "    <tr style=\"text-align: right;\">\n",
       "      <th></th>\n",
       "      <th>enunciado_latex</th>\n",
       "      <th>enunciado</th>\n",
       "      <th>solucion</th>\n",
       "      <th>texto</th>\n",
       "      <th>curso</th>\n",
       "      <th>titulo</th>\n",
       "      <th>n_ejercicio</th>\n",
       "      <th>dificultad</th>\n",
       "      <th>n_columnas</th>\n",
       "      <th>puntos</th>\n",
       "      <th>enun_tex</th>\n",
       "    </tr>\n",
       "  </thead>\n",
       "  <tbody>\n",
       "    <tr>\n",
       "      <th>24</th>\n",
       "      <td>( {x - 1} )( {x + 2} )( {x - 3} ) \\geq 0</td>\n",
       "      <td>((x - 3)*(x + 2))*(x - 1) &gt;= 0</td>\n",
       "      <td>\\left[-2, 1\\right] \\cup \\left[3, \\infty\\right)</td>\n",
       "      <td>Resuelve las inecuaciones:</td>\n",
       "      <td>1BC</td>\n",
       "      <td>8 - Inecuaciones</td>\n",
       "      <td>p025e05</td>\n",
       "      <td>1</td>\n",
       "      <td>2</td>\n",
       "      <td>1</td>\n",
       "      <td>True</td>\n",
       "    </tr>\n",
       "    <tr>\n",
       "      <th>25</th>\n",
       "      <td>\\frac{{x - 1}}{{x + 2}} \\geq 0</td>\n",
       "      <td>(x - 1)/(x + 2) &gt;= 0</td>\n",
       "      <td>\\left(-\\infty, -2\\right) \\cup \\left[1, \\infty\\...</td>\n",
       "      <td>Resuelve las inecuaciones:</td>\n",
       "      <td>1BC</td>\n",
       "      <td>8 - Inecuaciones</td>\n",
       "      <td>p025e05</td>\n",
       "      <td>1</td>\n",
       "      <td>2</td>\n",
       "      <td>1</td>\n",
       "      <td>True</td>\n",
       "    </tr>\n",
       "    <tr>\n",
       "      <th>26</th>\n",
       "      <td>\\frac{{x + 1}}{{x + 3}} &lt; 2</td>\n",
       "      <td>(x + 1)/(x + 3) &lt; 2</td>\n",
       "      <td>\\left(-\\infty, -5\\right) \\cup \\left(-3, \\infty...</td>\n",
       "      <td>Resuelve las inecuaciones:</td>\n",
       "      <td>1BC</td>\n",
       "      <td>8 - Inecuaciones</td>\n",
       "      <td>p025e05</td>\n",
       "      <td>1</td>\n",
       "      <td>2</td>\n",
       "      <td>1</td>\n",
       "      <td>True</td>\n",
       "    </tr>\n",
       "    <tr>\n",
       "      <th>27</th>\n",
       "      <td>( {x - 2} )( {x + 5} ) &gt; 0</td>\n",
       "      <td>(x - 2)*(x + 5) &gt; 0</td>\n",
       "      <td>\\left(-\\infty, -5\\right) \\cup \\left(2, \\infty\\...</td>\n",
       "      <td>Resuelve las inecuaciones:</td>\n",
       "      <td>1BC</td>\n",
       "      <td>8 - Inecuaciones</td>\n",
       "      <td>p025e05</td>\n",
       "      <td>1</td>\n",
       "      <td>2</td>\n",
       "      <td>1</td>\n",
       "      <td>True</td>\n",
       "    </tr>\n",
       "    <tr>\n",
       "      <th>28</th>\n",
       "      <td>( {3x - 5} )( {x + 1} ) \\geq 0</td>\n",
       "      <td>(x + 1)*(3*x - 5) &gt;= 0</td>\n",
       "      <td>\\left(-\\infty, -1\\right] \\cup \\left[\\frac{5}{3...</td>\n",
       "      <td>Resuelve las inecuaciones:</td>\n",
       "      <td>1BC</td>\n",
       "      <td>8 - Inecuaciones</td>\n",
       "      <td>p025e05</td>\n",
       "      <td>1</td>\n",
       "      <td>2</td>\n",
       "      <td>1</td>\n",
       "      <td>True</td>\n",
       "    </tr>\n",
       "    <tr>\n",
       "      <th>29</th>\n",
       "      <td>3( {x - 1} )( {x + 2} )( {x + 1} ) \\leq 0</td>\n",
       "      <td>3*(((x + 1)*(x + 2))*(x - 1)) &lt;= 0</td>\n",
       "      <td>\\left(-\\infty, -2\\right] \\cup \\left[-1, 1\\right]</td>\n",
       "      <td>Resuelve las inecuaciones:</td>\n",
       "      <td>1BC</td>\n",
       "      <td>8 - Inecuaciones</td>\n",
       "      <td>p025e05</td>\n",
       "      <td>1</td>\n",
       "      <td>2</td>\n",
       "      <td>1</td>\n",
       "      <td>True</td>\n",
       "    </tr>\n",
       "    <tr>\n",
       "      <th>30</th>\n",
       "      <td>\\frac{{x - 2}}{{x + 3}} \\leq 0</td>\n",
       "      <td>(x - 2)/(x + 3) &lt;= 0</td>\n",
       "      <td>\\left(-3, 2\\right]</td>\n",
       "      <td>Resuelve las inecuaciones:</td>\n",
       "      <td>1BC</td>\n",
       "      <td>8 - Inecuaciones</td>\n",
       "      <td>p025e05</td>\n",
       "      <td>1</td>\n",
       "      <td>2</td>\n",
       "      <td>1</td>\n",
       "      <td>True</td>\n",
       "    </tr>\n",
       "    <tr>\n",
       "      <th>31</th>\n",
       "      <td>\\frac{{x + 1}}{{x + 2}} &gt; 0</td>\n",
       "      <td>(x + 1)/(x + 2) &gt; 0</td>\n",
       "      <td>\\left(-\\infty, -2\\right) \\cup \\left(-1, \\infty...</td>\n",
       "      <td>Resuelve las inecuaciones:</td>\n",
       "      <td>1BC</td>\n",
       "      <td>8 - Inecuaciones</td>\n",
       "      <td>p025e05</td>\n",
       "      <td>1</td>\n",
       "      <td>2</td>\n",
       "      <td>1</td>\n",
       "      <td>True</td>\n",
       "    </tr>\n",
       "    <tr>\n",
       "      <th>32</th>\n",
       "      <td>\\frac{{x - 3}}{{x - 1}} &lt; 5</td>\n",
       "      <td>(x - 3)/(x - 1) &lt; 5</td>\n",
       "      <td>\\left(-\\infty, \\frac{1}{2}\\right) \\cup \\left(1...</td>\n",
       "      <td>Resuelve las inecuaciones:</td>\n",
       "      <td>1BC</td>\n",
       "      <td>8 - Inecuaciones</td>\n",
       "      <td>p025e05</td>\n",
       "      <td>1</td>\n",
       "      <td>2</td>\n",
       "      <td>1</td>\n",
       "      <td>True</td>\n",
       "    </tr>\n",
       "    <tr>\n",
       "      <th>33</th>\n",
       "      <td>( {x + 5} )( {x + 2} ) &gt; 0</td>\n",
       "      <td>(x + 2)*(x + 5) &gt; 0</td>\n",
       "      <td>\\left(-\\infty, -5\\right) \\cup \\left(-2, \\infty...</td>\n",
       "      <td>Resuelve las inecuaciones:</td>\n",
       "      <td>1BC</td>\n",
       "      <td>8 - Inecuaciones</td>\n",
       "      <td>p025e05</td>\n",
       "      <td>1</td>\n",
       "      <td>2</td>\n",
       "      <td>1</td>\n",
       "      <td>True</td>\n",
       "    </tr>\n",
       "    <tr>\n",
       "      <th>34</th>\n",
       "      <td>( {2x - 3} )( {x - 9} ) \\leq 0</td>\n",
       "      <td>(x - 9)*(2*x - 3) &lt;= 0</td>\n",
       "      <td>\\left[\\frac{3}{2}, 9\\right]</td>\n",
       "      <td>Resuelve las inecuaciones:</td>\n",
       "      <td>1BC</td>\n",
       "      <td>8 - Inecuaciones</td>\n",
       "      <td>p025e05</td>\n",
       "      <td>1</td>\n",
       "      <td>2</td>\n",
       "      <td>1</td>\n",
       "      <td>True</td>\n",
       "    </tr>\n",
       "    <tr>\n",
       "      <th>35</th>\n",
       "      <td>1 - \\frac{{x + 3}}{{x + 6}} \\geq 0</td>\n",
       "      <td>-(x + 3)/(x + 6) + 1 &gt;= 0</td>\n",
       "      <td>\\left(-6, \\infty\\right)</td>\n",
       "      <td>Resuelve las inecuaciones:</td>\n",
       "      <td>1BC</td>\n",
       "      <td>8 - Inecuaciones</td>\n",
       "      <td>p025e05</td>\n",
       "      <td>1</td>\n",
       "      <td>2</td>\n",
       "      <td>1</td>\n",
       "      <td>True</td>\n",
       "    </tr>\n",
       "    <tr>\n",
       "      <th>36</th>\n",
       "      <td>\\frac{{x + 3}}{{x + 2}} \\geq 2 - \\frac{x}{2}</td>\n",
       "      <td>(x + 3)/(x + 2) &gt;= -x/2 + 2</td>\n",
       "      <td>\\left(-2, - \\sqrt{2}\\right] \\cup \\left[\\sqrt{2...</td>\n",
       "      <td>Resuelve las inecuaciones:</td>\n",
       "      <td>1BC</td>\n",
       "      <td>8 - Inecuaciones</td>\n",
       "      <td>p025e05</td>\n",
       "      <td>1</td>\n",
       "      <td>2</td>\n",
       "      <td>1</td>\n",
       "      <td>True</td>\n",
       "    </tr>\n",
       "    <tr>\n",
       "      <th>37</th>\n",
       "      <td>\\frac{{3x - 2}}{{x - 1}} - 1 \\geq \\frac{{2x - ...</td>\n",
       "      <td>-1 + (3*x - 2)/(x - 1) &gt;= (2*x - 1)/(x + 1)</td>\n",
       "      <td>\\left(-1, \\frac{1}{2}\\right] \\cup \\left(1, \\in...</td>\n",
       "      <td>Resuelve las inecuaciones:</td>\n",
       "      <td>1BC</td>\n",
       "      <td>8 - Inecuaciones</td>\n",
       "      <td>p025e05</td>\n",
       "      <td>1</td>\n",
       "      <td>2</td>\n",
       "      <td>1</td>\n",
       "      <td>True</td>\n",
       "    </tr>\n",
       "    <tr>\n",
       "      <th>38</th>\n",
       "      <td>\\frac{{{x^3} - 5{x^2} + 2x + 8}}{x} &lt; 0</td>\n",
       "      <td>(2*x + x**3 - 5*x**2 + 8)/x &lt; 0</td>\n",
       "      <td>\\left(-1, 0\\right) \\cup \\left(2, 4\\right)</td>\n",
       "      <td>Resuelve las inecuaciones:</td>\n",
       "      <td>1BC</td>\n",
       "      <td>8 - Inecuaciones</td>\n",
       "      <td>p025e05</td>\n",
       "      <td>1</td>\n",
       "      <td>2</td>\n",
       "      <td>1</td>\n",
       "      <td>True</td>\n",
       "    </tr>\n",
       "  </tbody>\n",
       "</table>\n",
       "</div>"
      ],
      "text/plain": [
       "                                      enunciado_latex  \\\n",
       "24           ( {x - 1} )( {x + 2} )( {x - 3} ) \\geq 0   \n",
       "25                     \\frac{{x - 1}}{{x + 2}} \\geq 0   \n",
       "26                        \\frac{{x + 1}}{{x + 3}} < 2   \n",
       "27                         ( {x - 2} )( {x + 5} ) > 0   \n",
       "28                     ( {3x - 5} )( {x + 1} ) \\geq 0   \n",
       "29          3( {x - 1} )( {x + 2} )( {x + 1} ) \\leq 0   \n",
       "30                     \\frac{{x - 2}}{{x + 3}} \\leq 0   \n",
       "31                        \\frac{{x + 1}}{{x + 2}} > 0   \n",
       "32                        \\frac{{x - 3}}{{x - 1}} < 5   \n",
       "33                         ( {x + 5} )( {x + 2} ) > 0   \n",
       "34                     ( {2x - 3} )( {x - 9} ) \\leq 0   \n",
       "35                 1 - \\frac{{x + 3}}{{x + 6}} \\geq 0   \n",
       "36       \\frac{{x + 3}}{{x + 2}} \\geq 2 - \\frac{x}{2}   \n",
       "37  \\frac{{3x - 2}}{{x - 1}} - 1 \\geq \\frac{{2x - ...   \n",
       "38            \\frac{{{x^3} - 5{x^2} + 2x + 8}}{x} < 0   \n",
       "\n",
       "                                      enunciado  \\\n",
       "24               ((x - 3)*(x + 2))*(x - 1) >= 0   \n",
       "25                         (x - 1)/(x + 2) >= 0   \n",
       "26                          (x + 1)/(x + 3) < 2   \n",
       "27                          (x - 2)*(x + 5) > 0   \n",
       "28                       (x + 1)*(3*x - 5) >= 0   \n",
       "29           3*(((x + 1)*(x + 2))*(x - 1)) <= 0   \n",
       "30                         (x - 2)/(x + 3) <= 0   \n",
       "31                          (x + 1)/(x + 2) > 0   \n",
       "32                          (x - 3)/(x - 1) < 5   \n",
       "33                          (x + 2)*(x + 5) > 0   \n",
       "34                       (x - 9)*(2*x - 3) <= 0   \n",
       "35                    -(x + 3)/(x + 6) + 1 >= 0   \n",
       "36                  (x + 3)/(x + 2) >= -x/2 + 2   \n",
       "37  -1 + (3*x - 2)/(x - 1) >= (2*x - 1)/(x + 1)   \n",
       "38              (2*x + x**3 - 5*x**2 + 8)/x < 0   \n",
       "\n",
       "                                             solucion  \\\n",
       "24     \\left[-2, 1\\right] \\cup \\left[3, \\infty\\right)   \n",
       "25  \\left(-\\infty, -2\\right) \\cup \\left[1, \\infty\\...   \n",
       "26  \\left(-\\infty, -5\\right) \\cup \\left(-3, \\infty...   \n",
       "27  \\left(-\\infty, -5\\right) \\cup \\left(2, \\infty\\...   \n",
       "28  \\left(-\\infty, -1\\right] \\cup \\left[\\frac{5}{3...   \n",
       "29   \\left(-\\infty, -2\\right] \\cup \\left[-1, 1\\right]   \n",
       "30                                 \\left(-3, 2\\right]   \n",
       "31  \\left(-\\infty, -2\\right) \\cup \\left(-1, \\infty...   \n",
       "32  \\left(-\\infty, \\frac{1}{2}\\right) \\cup \\left(1...   \n",
       "33  \\left(-\\infty, -5\\right) \\cup \\left(-2, \\infty...   \n",
       "34                        \\left[\\frac{3}{2}, 9\\right]   \n",
       "35                            \\left(-6, \\infty\\right)   \n",
       "36  \\left(-2, - \\sqrt{2}\\right] \\cup \\left[\\sqrt{2...   \n",
       "37  \\left(-1, \\frac{1}{2}\\right] \\cup \\left(1, \\in...   \n",
       "38          \\left(-1, 0\\right) \\cup \\left(2, 4\\right)   \n",
       "\n",
       "                         texto curso            titulo n_ejercicio  \\\n",
       "24  Resuelve las inecuaciones:   1BC  8 - Inecuaciones     p025e05   \n",
       "25  Resuelve las inecuaciones:   1BC  8 - Inecuaciones     p025e05   \n",
       "26  Resuelve las inecuaciones:   1BC  8 - Inecuaciones     p025e05   \n",
       "27  Resuelve las inecuaciones:   1BC  8 - Inecuaciones     p025e05   \n",
       "28  Resuelve las inecuaciones:   1BC  8 - Inecuaciones     p025e05   \n",
       "29  Resuelve las inecuaciones:   1BC  8 - Inecuaciones     p025e05   \n",
       "30  Resuelve las inecuaciones:   1BC  8 - Inecuaciones     p025e05   \n",
       "31  Resuelve las inecuaciones:   1BC  8 - Inecuaciones     p025e05   \n",
       "32  Resuelve las inecuaciones:   1BC  8 - Inecuaciones     p025e05   \n",
       "33  Resuelve las inecuaciones:   1BC  8 - Inecuaciones     p025e05   \n",
       "34  Resuelve las inecuaciones:   1BC  8 - Inecuaciones     p025e05   \n",
       "35  Resuelve las inecuaciones:   1BC  8 - Inecuaciones     p025e05   \n",
       "36  Resuelve las inecuaciones:   1BC  8 - Inecuaciones     p025e05   \n",
       "37  Resuelve las inecuaciones:   1BC  8 - Inecuaciones     p025e05   \n",
       "38  Resuelve las inecuaciones:   1BC  8 - Inecuaciones     p025e05   \n",
       "\n",
       "    dificultad  n_columnas  puntos  enun_tex  \n",
       "24           1           2       1      True  \n",
       "25           1           2       1      True  \n",
       "26           1           2       1      True  \n",
       "27           1           2       1      True  \n",
       "28           1           2       1      True  \n",
       "29           1           2       1      True  \n",
       "30           1           2       1      True  \n",
       "31           1           2       1      True  \n",
       "32           1           2       1      True  \n",
       "33           1           2       1      True  \n",
       "34           1           2       1      True  \n",
       "35           1           2       1      True  \n",
       "36           1           2       1      True  \n",
       "37           1           2       1      True  \n",
       "38           1           2       1      True  "
      ]
     },
     "metadata": {},
     "output_type": "display_data"
    },
    {
     "data": {
      "text/markdown": [
       "**Ejercicio: **p026e06"
      ],
      "text/plain": [
       "<IPython.core.display.Markdown object>"
      ]
     },
     "metadata": {},
     "output_type": "display_data"
    },
    {
     "data": {
      "text/html": [
       "<div>\n",
       "<style scoped>\n",
       "    .dataframe tbody tr th:only-of-type {\n",
       "        vertical-align: middle;\n",
       "    }\n",
       "\n",
       "    .dataframe tbody tr th {\n",
       "        vertical-align: top;\n",
       "    }\n",
       "\n",
       "    .dataframe thead th {\n",
       "        text-align: right;\n",
       "    }\n",
       "</style>\n",
       "<table border=\"1\" class=\"dataframe\">\n",
       "  <thead>\n",
       "    <tr style=\"text-align: right;\">\n",
       "      <th></th>\n",
       "      <th>enunciado_latex</th>\n",
       "      <th>enunciado</th>\n",
       "      <th>solucion</th>\n",
       "      <th>texto</th>\n",
       "      <th>curso</th>\n",
       "      <th>titulo</th>\n",
       "      <th>n_ejercicio</th>\n",
       "      <th>dificultad</th>\n",
       "      <th>n_columnas</th>\n",
       "      <th>puntos</th>\n",
       "      <th>enun_tex</th>\n",
       "    </tr>\n",
       "  </thead>\n",
       "  <tbody>\n",
       "    <tr>\n",
       "      <th>39</th>\n",
       "      <td>3{x^2} - 5x + 2 \\leq 0</td>\n",
       "      <td>3*x**2 - 5*x + 2 &lt;= 0</td>\n",
       "      <td>\\left[\\frac{2}{3}, 1\\right]</td>\n",
       "      <td>Resuelve las inecuaciones:</td>\n",
       "      <td>1BC</td>\n",
       "      <td>8 - Inecuaciones</td>\n",
       "      <td>p026e06</td>\n",
       "      <td>1</td>\n",
       "      <td>2</td>\n",
       "      <td>1</td>\n",
       "      <td>True</td>\n",
       "    </tr>\n",
       "    <tr>\n",
       "      <th>40</th>\n",
       "      <td>5 + 2x &lt; 3{x^2} - 3x + 7</td>\n",
       "      <td>2*x + 5 &lt; 3*x**2 - 3*x + 7</td>\n",
       "      <td>\\left(-\\infty, \\frac{2}{3}\\right) \\cup \\left(1...</td>\n",
       "      <td>Resuelve las inecuaciones:</td>\n",
       "      <td>1BC</td>\n",
       "      <td>8 - Inecuaciones</td>\n",
       "      <td>p026e06</td>\n",
       "      <td>1</td>\n",
       "      <td>2</td>\n",
       "      <td>1</td>\n",
       "      <td>True</td>\n",
       "    </tr>\n",
       "    <tr>\n",
       "      <th>41</th>\n",
       "      <td>5{x^2} + 20x + 20 &gt; 0</td>\n",
       "      <td>5*x**2 + 20*x + 20 &gt; 0</td>\n",
       "      <td>\\left(-\\infty, -2\\right) \\cup \\left(-2, \\infty...</td>\n",
       "      <td>Resuelve las inecuaciones:</td>\n",
       "      <td>1BC</td>\n",
       "      <td>8 - Inecuaciones</td>\n",
       "      <td>p026e06</td>\n",
       "      <td>1</td>\n",
       "      <td>2</td>\n",
       "      <td>1</td>\n",
       "      <td>True</td>\n",
       "    </tr>\n",
       "    <tr>\n",
       "      <th>42</th>\n",
       "      <td>5{x^2} + 20x + 20 \\geq 0</td>\n",
       "      <td>5*x**2 + 20*x + 20 &gt;= 0</td>\n",
       "      <td>\\left(-\\infty, \\infty\\right)</td>\n",
       "      <td>Resuelve las inecuaciones:</td>\n",
       "      <td>1BC</td>\n",
       "      <td>8 - Inecuaciones</td>\n",
       "      <td>p026e06</td>\n",
       "      <td>1</td>\n",
       "      <td>2</td>\n",
       "      <td>1</td>\n",
       "      <td>True</td>\n",
       "    </tr>\n",
       "    <tr>\n",
       "      <th>43</th>\n",
       "      <td>5{x^2} + 20x + 20 &lt; 0</td>\n",
       "      <td>5*x**2 + 20*x + 20 &lt; 0</td>\n",
       "      <td>\\emptyset</td>\n",
       "      <td>Resuelve las inecuaciones:</td>\n",
       "      <td>1BC</td>\n",
       "      <td>8 - Inecuaciones</td>\n",
       "      <td>p026e06</td>\n",
       "      <td>1</td>\n",
       "      <td>2</td>\n",
       "      <td>1</td>\n",
       "      <td>True</td>\n",
       "    </tr>\n",
       "    <tr>\n",
       "      <th>44</th>\n",
       "      <td>5{x^2} + 20x + 20 \\leq 0</td>\n",
       "      <td>5*x**2 + 20*x + 20 &lt;= 0</td>\n",
       "      <td>\\left\\{-2\\right\\}</td>\n",
       "      <td>Resuelve las inecuaciones:</td>\n",
       "      <td>1BC</td>\n",
       "      <td>8 - Inecuaciones</td>\n",
       "      <td>p026e06</td>\n",
       "      <td>1</td>\n",
       "      <td>2</td>\n",
       "      <td>1</td>\n",
       "      <td>True</td>\n",
       "    </tr>\n",
       "    <tr>\n",
       "      <th>45</th>\n",
       "      <td>7{x^2} - 5x + 9 &gt; 0</td>\n",
       "      <td>7*x**2 - 5*x + 9 &gt; 0</td>\n",
       "      <td>\\left(-\\infty, \\infty\\right)</td>\n",
       "      <td>Resuelve las inecuaciones:</td>\n",
       "      <td>1BC</td>\n",
       "      <td>8 - Inecuaciones</td>\n",
       "      <td>p026e06</td>\n",
       "      <td>1</td>\n",
       "      <td>2</td>\n",
       "      <td>1</td>\n",
       "      <td>True</td>\n",
       "    </tr>\n",
       "    <tr>\n",
       "      <th>46</th>\n",
       "      <td>{x^2} - 2x - 8 &lt; 0</td>\n",
       "      <td>x**2 - 2*x - 8 &lt; 0</td>\n",
       "      <td>\\left(-2, 4\\right)</td>\n",
       "      <td>Resuelve las inecuaciones:</td>\n",
       "      <td>1BC</td>\n",
       "      <td>8 - Inecuaciones</td>\n",
       "      <td>p026e06</td>\n",
       "      <td>1</td>\n",
       "      <td>2</td>\n",
       "      <td>1</td>\n",
       "      <td>True</td>\n",
       "    </tr>\n",
       "    <tr>\n",
       "      <th>47</th>\n",
       "      <td>2{x^2} + 3x + 2 \\leq 0</td>\n",
       "      <td>2*x**2 + 3*x + 2 &lt;= 0</td>\n",
       "      <td>\\emptyset</td>\n",
       "      <td>Resuelve las inecuaciones:</td>\n",
       "      <td>1BC</td>\n",
       "      <td>8 - Inecuaciones</td>\n",
       "      <td>p026e06</td>\n",
       "      <td>1</td>\n",
       "      <td>2</td>\n",
       "      <td>1</td>\n",
       "      <td>True</td>\n",
       "    </tr>\n",
       "    <tr>\n",
       "      <th>48</th>\n",
       "      <td>{x^2} + x - 6 \\geq 0</td>\n",
       "      <td>x**2 + x - 6 &gt;= 0</td>\n",
       "      <td>\\left(-\\infty, -3\\right] \\cup \\left[2, \\infty\\...</td>\n",
       "      <td>Resuelve las inecuaciones:</td>\n",
       "      <td>1BC</td>\n",
       "      <td>8 - Inecuaciones</td>\n",
       "      <td>p026e06</td>\n",
       "      <td>1</td>\n",
       "      <td>2</td>\n",
       "      <td>1</td>\n",
       "      <td>True</td>\n",
       "    </tr>\n",
       "    <tr>\n",
       "      <th>49</th>\n",
       "      <td>{x^2} - 6x + 9 &gt; 0</td>\n",
       "      <td>x**2 - 6*x + 9 &gt; 0</td>\n",
       "      <td>\\left(-\\infty, 3\\right) \\cup \\left(3, \\infty\\r...</td>\n",
       "      <td>Resuelve las inecuaciones:</td>\n",
       "      <td>1BC</td>\n",
       "      <td>8 - Inecuaciones</td>\n",
       "      <td>p026e06</td>\n",
       "      <td>1</td>\n",
       "      <td>2</td>\n",
       "      <td>1</td>\n",
       "      <td>True</td>\n",
       "    </tr>\n",
       "    <tr>\n",
       "      <th>50</th>\n",
       "      <td>{x^2} - 6x + 10 &gt; 0</td>\n",
       "      <td>x**2 - 6*x + 10 &gt; 0</td>\n",
       "      <td>\\left(-\\infty, \\infty\\right)</td>\n",
       "      <td>Resuelve las inecuaciones:</td>\n",
       "      <td>1BC</td>\n",
       "      <td>8 - Inecuaciones</td>\n",
       "      <td>p026e06</td>\n",
       "      <td>1</td>\n",
       "      <td>2</td>\n",
       "      <td>1</td>\n",
       "      <td>True</td>\n",
       "    </tr>\n",
       "    <tr>\n",
       "      <th>51</th>\n",
       "      <td>{x^2} + 8x + 7 &lt; 0</td>\n",
       "      <td>x**2 + 8*x + 7 &lt; 0</td>\n",
       "      <td>\\left(-7, -1\\right)</td>\n",
       "      <td>Resuelve las inecuaciones:</td>\n",
       "      <td>1BC</td>\n",
       "      <td>8 - Inecuaciones</td>\n",
       "      <td>p026e06</td>\n",
       "      <td>1</td>\n",
       "      <td>2</td>\n",
       "      <td>1</td>\n",
       "      <td>True</td>\n",
       "    </tr>\n",
       "    <tr>\n",
       "      <th>52</th>\n",
       "      <td>{x^2} + 3 &gt; 4x - 1</td>\n",
       "      <td>x**2 + 3 &gt; 4*x - 1</td>\n",
       "      <td>\\left(-\\infty, 2\\right) \\cup \\left(2, \\infty\\r...</td>\n",
       "      <td>Resuelve las inecuaciones:</td>\n",
       "      <td>1BC</td>\n",
       "      <td>8 - Inecuaciones</td>\n",
       "      <td>p026e06</td>\n",
       "      <td>1</td>\n",
       "      <td>2</td>\n",
       "      <td>1</td>\n",
       "      <td>True</td>\n",
       "    </tr>\n",
       "    <tr>\n",
       "      <th>53</th>\n",
       "      <td>{x^2} + 1 &gt; 2x - 3</td>\n",
       "      <td>x**2 + 1 &gt; 2*x - 3</td>\n",
       "      <td>\\left(-\\infty, \\infty\\right)</td>\n",
       "      <td>Resuelve las inecuaciones:</td>\n",
       "      <td>1BC</td>\n",
       "      <td>8 - Inecuaciones</td>\n",
       "      <td>p026e06</td>\n",
       "      <td>1</td>\n",
       "      <td>2</td>\n",
       "      <td>1</td>\n",
       "      <td>True</td>\n",
       "    </tr>\n",
       "    <tr>\n",
       "      <th>54</th>\n",
       "      <td>5x + 3 \\leq 2{x^2}</td>\n",
       "      <td>5*x + 3 &lt;= 2*x**2</td>\n",
       "      <td>\\left(-\\infty, - \\frac{1}{2}\\right] \\cup \\left...</td>\n",
       "      <td>Resuelve las inecuaciones:</td>\n",
       "      <td>1BC</td>\n",
       "      <td>8 - Inecuaciones</td>\n",
       "      <td>p026e06</td>\n",
       "      <td>1</td>\n",
       "      <td>2</td>\n",
       "      <td>1</td>\n",
       "      <td>True</td>\n",
       "    </tr>\n",
       "    <tr>\n",
       "      <th>55</th>\n",
       "      <td>x \\cdot (x - 1)  &gt; 2x + 4</td>\n",
       "      <td>x*(x - 1) &gt; 2*x + 4</td>\n",
       "      <td>\\left(-\\infty, -1\\right) \\cup \\left(4, \\infty\\...</td>\n",
       "      <td>Resuelve las inecuaciones:</td>\n",
       "      <td>1BC</td>\n",
       "      <td>8 - Inecuaciones</td>\n",
       "      <td>p026e06</td>\n",
       "      <td>1</td>\n",
       "      <td>2</td>\n",
       "      <td>1</td>\n",
       "      <td>True</td>\n",
       "    </tr>\n",
       "    <tr>\n",
       "      <th>56</th>\n",
       "      <td>3 + x &lt; 5 - x\\cdot( {x - 2} )</td>\n",
       "      <td>x + 3 &lt; -x*(x - 2) + 5</td>\n",
       "      <td>\\left(-1, 2\\right)</td>\n",
       "      <td>Resuelve las inecuaciones:</td>\n",
       "      <td>1BC</td>\n",
       "      <td>8 - Inecuaciones</td>\n",
       "      <td>p026e06</td>\n",
       "      <td>1</td>\n",
       "      <td>2</td>\n",
       "      <td>1</td>\n",
       "      <td>True</td>\n",
       "    </tr>\n",
       "    <tr>\n",
       "      <th>57</th>\n",
       "      <td>{x^2} + 16 &gt; 2x</td>\n",
       "      <td>x**2 + 16 &gt; 2*x</td>\n",
       "      <td>\\left(-\\infty, \\infty\\right)</td>\n",
       "      <td>Resuelve las inecuaciones:</td>\n",
       "      <td>1BC</td>\n",
       "      <td>8 - Inecuaciones</td>\n",
       "      <td>p026e06</td>\n",
       "      <td>1</td>\n",
       "      <td>2</td>\n",
       "      <td>1</td>\n",
       "      <td>True</td>\n",
       "    </tr>\n",
       "    <tr>\n",
       "      <th>58</th>\n",
       "      <td>\\frac{{{x^2} - x}}{3} &gt; 3x - 10</td>\n",
       "      <td>(x**2 - x)/3 &gt; 3*x - 10</td>\n",
       "      <td>\\left(-\\infty, \\infty\\right)</td>\n",
       "      <td>Resuelve las inecuaciones:</td>\n",
       "      <td>1BC</td>\n",
       "      <td>8 - Inecuaciones</td>\n",
       "      <td>p026e06</td>\n",
       "      <td>1</td>\n",
       "      <td>2</td>\n",
       "      <td>1</td>\n",
       "      <td>True</td>\n",
       "    </tr>\n",
       "    <tr>\n",
       "      <th>59</th>\n",
       "      <td>x\\cdot( {x + 5} ) &gt; 2{x^2}</td>\n",
       "      <td>x*(x + 5) &gt; 2*x**2</td>\n",
       "      <td>\\left(0, 5\\right)</td>\n",
       "      <td>Resuelve las inecuaciones:</td>\n",
       "      <td>1BC</td>\n",
       "      <td>8 - Inecuaciones</td>\n",
       "      <td>p026e06</td>\n",
       "      <td>1</td>\n",
       "      <td>2</td>\n",
       "      <td>1</td>\n",
       "      <td>True</td>\n",
       "    </tr>\n",
       "    <tr>\n",
       "      <th>60</th>\n",
       "      <td>\\frac{{( {3 + 2x} )( {x - 1} )}}{3} - 1 &gt; \\fra...</td>\n",
       "      <td>((x - 1)*(2*x + 3))/3 - 1 &gt; -x/2 - 1/2 + (x - ...</td>\n",
       "      <td>\\left(-\\infty, - \\frac{21}{5}\\right) \\cup \\lef...</td>\n",
       "      <td>Resuelve las inecuaciones:</td>\n",
       "      <td>1BC</td>\n",
       "      <td>8 - Inecuaciones</td>\n",
       "      <td>p026e06</td>\n",
       "      <td>1</td>\n",
       "      <td>2</td>\n",
       "      <td>1</td>\n",
       "      <td>True</td>\n",
       "    </tr>\n",
       "    <tr>\n",
       "      <th>61</th>\n",
       "      <td>10( {2x - 1} )( {1 - 3x} ) + 5( {1 - 3x} )( {4...</td>\n",
       "      <td>10*((-3*x + 1)*(2*x - 1)) + 5*((-3*x + 1)*(4*x...</td>\n",
       "      <td>\\left(-\\infty, \\frac{3}{10}\\right) \\cup \\left(...</td>\n",
       "      <td>Resuelve las inecuaciones:</td>\n",
       "      <td>1BC</td>\n",
       "      <td>8 - Inecuaciones</td>\n",
       "      <td>p026e06</td>\n",
       "      <td>1</td>\n",
       "      <td>2</td>\n",
       "      <td>1</td>\n",
       "      <td>True</td>\n",
       "    </tr>\n",
       "  </tbody>\n",
       "</table>\n",
       "</div>"
      ],
      "text/plain": [
       "                                      enunciado_latex  \\\n",
       "39                             3{x^2} - 5x + 2 \\leq 0   \n",
       "40                           5 + 2x < 3{x^2} - 3x + 7   \n",
       "41                              5{x^2} + 20x + 20 > 0   \n",
       "42                           5{x^2} + 20x + 20 \\geq 0   \n",
       "43                              5{x^2} + 20x + 20 < 0   \n",
       "44                           5{x^2} + 20x + 20 \\leq 0   \n",
       "45                                7{x^2} - 5x + 9 > 0   \n",
       "46                                 {x^2} - 2x - 8 < 0   \n",
       "47                             2{x^2} + 3x + 2 \\leq 0   \n",
       "48                               {x^2} + x - 6 \\geq 0   \n",
       "49                                 {x^2} - 6x + 9 > 0   \n",
       "50                                {x^2} - 6x + 10 > 0   \n",
       "51                                 {x^2} + 8x + 7 < 0   \n",
       "52                                 {x^2} + 3 > 4x - 1   \n",
       "53                                 {x^2} + 1 > 2x - 3   \n",
       "54                                 5x + 3 \\leq 2{x^2}   \n",
       "55                          x \\cdot (x - 1)  > 2x + 4   \n",
       "56                      3 + x < 5 - x\\cdot( {x - 2} )   \n",
       "57                                    {x^2} + 16 > 2x   \n",
       "58                    \\frac{{{x^2} - x}}{3} > 3x - 10   \n",
       "59                         x\\cdot( {x + 5} ) > 2{x^2}   \n",
       "60  \\frac{{( {3 + 2x} )( {x - 1} )}}{3} - 1 > \\fra...   \n",
       "61  10( {2x - 1} )( {1 - 3x} ) + 5( {1 - 3x} )( {4...   \n",
       "\n",
       "                                            enunciado  \\\n",
       "39                              3*x**2 - 5*x + 2 <= 0   \n",
       "40                         2*x + 5 < 3*x**2 - 3*x + 7   \n",
       "41                             5*x**2 + 20*x + 20 > 0   \n",
       "42                            5*x**2 + 20*x + 20 >= 0   \n",
       "43                             5*x**2 + 20*x + 20 < 0   \n",
       "44                            5*x**2 + 20*x + 20 <= 0   \n",
       "45                               7*x**2 - 5*x + 9 > 0   \n",
       "46                                 x**2 - 2*x - 8 < 0   \n",
       "47                              2*x**2 + 3*x + 2 <= 0   \n",
       "48                                  x**2 + x - 6 >= 0   \n",
       "49                                 x**2 - 6*x + 9 > 0   \n",
       "50                                x**2 - 6*x + 10 > 0   \n",
       "51                                 x**2 + 8*x + 7 < 0   \n",
       "52                                 x**2 + 3 > 4*x - 1   \n",
       "53                                 x**2 + 1 > 2*x - 3   \n",
       "54                                  5*x + 3 <= 2*x**2   \n",
       "55                                x*(x - 1) > 2*x + 4   \n",
       "56                             x + 3 < -x*(x - 2) + 5   \n",
       "57                                    x**2 + 16 > 2*x   \n",
       "58                            (x**2 - x)/3 > 3*x - 10   \n",
       "59                                 x*(x + 5) > 2*x**2   \n",
       "60  ((x - 1)*(2*x + 3))/3 - 1 > -x/2 - 1/2 + (x - ...   \n",
       "61  10*((-3*x + 1)*(2*x - 1)) + 5*((-3*x + 1)*(4*x...   \n",
       "\n",
       "                                             solucion  \\\n",
       "39                        \\left[\\frac{2}{3}, 1\\right]   \n",
       "40  \\left(-\\infty, \\frac{2}{3}\\right) \\cup \\left(1...   \n",
       "41  \\left(-\\infty, -2\\right) \\cup \\left(-2, \\infty...   \n",
       "42                       \\left(-\\infty, \\infty\\right)   \n",
       "43                                          \\emptyset   \n",
       "44                                  \\left\\{-2\\right\\}   \n",
       "45                       \\left(-\\infty, \\infty\\right)   \n",
       "46                                 \\left(-2, 4\\right)   \n",
       "47                                          \\emptyset   \n",
       "48  \\left(-\\infty, -3\\right] \\cup \\left[2, \\infty\\...   \n",
       "49  \\left(-\\infty, 3\\right) \\cup \\left(3, \\infty\\r...   \n",
       "50                       \\left(-\\infty, \\infty\\right)   \n",
       "51                                \\left(-7, -1\\right)   \n",
       "52  \\left(-\\infty, 2\\right) \\cup \\left(2, \\infty\\r...   \n",
       "53                       \\left(-\\infty, \\infty\\right)   \n",
       "54  \\left(-\\infty, - \\frac{1}{2}\\right] \\cup \\left...   \n",
       "55  \\left(-\\infty, -1\\right) \\cup \\left(4, \\infty\\...   \n",
       "56                                 \\left(-1, 2\\right)   \n",
       "57                       \\left(-\\infty, \\infty\\right)   \n",
       "58                       \\left(-\\infty, \\infty\\right)   \n",
       "59                                  \\left(0, 5\\right)   \n",
       "60  \\left(-\\infty, - \\frac{21}{5}\\right) \\cup \\lef...   \n",
       "61  \\left(-\\infty, \\frac{3}{10}\\right) \\cup \\left(...   \n",
       "\n",
       "                         texto curso            titulo n_ejercicio  \\\n",
       "39  Resuelve las inecuaciones:   1BC  8 - Inecuaciones     p026e06   \n",
       "40  Resuelve las inecuaciones:   1BC  8 - Inecuaciones     p026e06   \n",
       "41  Resuelve las inecuaciones:   1BC  8 - Inecuaciones     p026e06   \n",
       "42  Resuelve las inecuaciones:   1BC  8 - Inecuaciones     p026e06   \n",
       "43  Resuelve las inecuaciones:   1BC  8 - Inecuaciones     p026e06   \n",
       "44  Resuelve las inecuaciones:   1BC  8 - Inecuaciones     p026e06   \n",
       "45  Resuelve las inecuaciones:   1BC  8 - Inecuaciones     p026e06   \n",
       "46  Resuelve las inecuaciones:   1BC  8 - Inecuaciones     p026e06   \n",
       "47  Resuelve las inecuaciones:   1BC  8 - Inecuaciones     p026e06   \n",
       "48  Resuelve las inecuaciones:   1BC  8 - Inecuaciones     p026e06   \n",
       "49  Resuelve las inecuaciones:   1BC  8 - Inecuaciones     p026e06   \n",
       "50  Resuelve las inecuaciones:   1BC  8 - Inecuaciones     p026e06   \n",
       "51  Resuelve las inecuaciones:   1BC  8 - Inecuaciones     p026e06   \n",
       "52  Resuelve las inecuaciones:   1BC  8 - Inecuaciones     p026e06   \n",
       "53  Resuelve las inecuaciones:   1BC  8 - Inecuaciones     p026e06   \n",
       "54  Resuelve las inecuaciones:   1BC  8 - Inecuaciones     p026e06   \n",
       "55  Resuelve las inecuaciones:   1BC  8 - Inecuaciones     p026e06   \n",
       "56  Resuelve las inecuaciones:   1BC  8 - Inecuaciones     p026e06   \n",
       "57  Resuelve las inecuaciones:   1BC  8 - Inecuaciones     p026e06   \n",
       "58  Resuelve las inecuaciones:   1BC  8 - Inecuaciones     p026e06   \n",
       "59  Resuelve las inecuaciones:   1BC  8 - Inecuaciones     p026e06   \n",
       "60  Resuelve las inecuaciones:   1BC  8 - Inecuaciones     p026e06   \n",
       "61  Resuelve las inecuaciones:   1BC  8 - Inecuaciones     p026e06   \n",
       "\n",
       "    dificultad  n_columnas  puntos  enun_tex  \n",
       "39           1           2       1      True  \n",
       "40           1           2       1      True  \n",
       "41           1           2       1      True  \n",
       "42           1           2       1      True  \n",
       "43           1           2       1      True  \n",
       "44           1           2       1      True  \n",
       "45           1           2       1      True  \n",
       "46           1           2       1      True  \n",
       "47           1           2       1      True  \n",
       "48           1           2       1      True  \n",
       "49           1           2       1      True  \n",
       "50           1           2       1      True  \n",
       "51           1           2       1      True  \n",
       "52           1           2       1      True  \n",
       "53           1           2       1      True  \n",
       "54           1           2       1      True  \n",
       "55           1           2       1      True  \n",
       "56           1           2       1      True  \n",
       "57           1           2       1      True  \n",
       "58           1           2       1      True  \n",
       "59           1           2       1      True  \n",
       "60           1           2       1      True  \n",
       "61           1           2       1      True  "
      ]
     },
     "metadata": {},
     "output_type": "display_data"
    }
   ],
   "source": [
    "escribir_preambulo(fichero, titulo, 'ejercicios')\n",
    "for s in df_ejercicios.groupby('n_ejercicio').count().index : \n",
    "    display(md(\"**Ejercicio: **\" + s ))\n",
    "    display(df_ejercicios[df_ejercicios.n_ejercicio == s])\n",
    "    escribir_ejercicios(df_ejercicios[df_ejercicios.n_ejercicio == s],fichero)\n",
    "\n",
    "escribir_fin(fichero)"
   ]
  }
 ],
 "metadata": {
  "kernelspec": {
   "display_name": "Python 3",
   "language": "python",
   "name": "python3"
  },
  "language_info": {
   "codemirror_mode": {
    "name": "ipython",
    "version": 3
   },
   "file_extension": ".py",
   "mimetype": "text/x-python",
   "name": "python",
   "nbconvert_exporter": "python",
   "pygments_lexer": "ipython3",
   "version": "3.6.5"
  }
 },
 "nbformat": 4,
 "nbformat_minor": 2
}
