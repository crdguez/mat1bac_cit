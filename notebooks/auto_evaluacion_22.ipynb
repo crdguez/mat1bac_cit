{
 "cells": [
  {
   "cell_type": "code",
   "execution_count": 1,
   "metadata": {},
   "outputs": [
    {
     "name": "stdout",
     "output_type": "stream",
     "text": [
      "IPython console for SymPy 1.2 (Python 3.6.5-64-bit) (ground types: gmpy)\n",
      "\n",
      "These commands were executed:\n",
      ">>> from __future__ import division\n",
      ">>> from sympy import *\n",
      ">>> x, y, z, t = symbols('x y z t')\n",
      ">>> k, m, n = symbols('k m n', integer=True)\n",
      ">>> f, g, h = symbols('f g h', cls=Function)\n",
      ">>> init_printing()\n",
      "\n",
      "Documentation can be found at http://docs.sympy.org/1.2/\n",
      "\n"
     ]
    }
   ],
   "source": [
    "from sympy import init_session\n",
    "from sympy import div, QQ\n",
    "from sympy.parsing.latex import parse_latex\n",
    "from sympy.parsing.sympy_parser import parse_expr\n",
    "from IPython.display import Markdown as md\n",
    "from IPython.display import display\n",
    "import numpy as np\n",
    "import pandas as pd\n",
    "    \n",
    "from sympy.geometry import Point, Line\n",
    "from sympy.vector import CoordSys3D, vector\n",
    "\n",
    "from sympy.geometry import Point, Line, Triangle\n",
    "from sympy.vector import CoordSys3D, vector\n",
    "\n",
    "\n",
    "init_session()\n",
    "\n",
    "a, b, c, d = symbols('a b c d', real = True)\n",
    "from docparts import añadir_ejercicios, doc_ejer, escribir_preambulo, escribir_ejercicios, escribir_fin\n",
    "\n",
    "df_ejercicios = pd.DataFrame()\n",
    "df_ejercicios = pd.DataFrame()\n",
    "\n",
    "fichero = 'autoev22'\n",
    "titulo = 'Autoevaluación 2 ev2'\n",
    "curso = '1BC'\n"
   ]
  },
  {
   "cell_type": "code",
   "execution_count": 2,
   "metadata": {},
   "outputs": [],
   "source": [
    "def a_polar(binomico) :\n",
    "    return [abs(binomico), arg(binomico)]\n",
    "\n",
    "def a_binomico(polar) :\n",
    "    return(polar[0]*cos(polar[1])+polar[0]*sin(polar[1])*I)"
   ]
  },
  {
   "cell_type": "code",
   "execution_count": 3,
   "metadata": {},
   "outputs": [],
   "source": [
    "def simbolo (operacion):\n",
    "    if operacion == '<=' :\n",
    "        return('\\leq')\n",
    "    elif operacion == '>=' :\n",
    "        return('\\geq')\n",
    "    else :\n",
    "        return(operacion)"
   ]
  },
  {
   "cell_type": "code",
   "execution_count": 4,
   "metadata": {},
   "outputs": [],
   "source": [
    "def Linea(expr) :\n",
    "    eq = eval(str(parse_latex(expr)))\n",
    "    p1 = Point(0,nsimplify(solve(Eq(eq.args[0].subs(x,0),eq.args[1].subs(x,0)),y)[0]))\n",
    "    p2 = Point(1,nsimplify(solve(Eq(eq.args[0].subs(x,1),eq.args[1].subs(x,1)),y)[0]))\n",
    "    \n",
    "    return Line(p1,p2)\n",
    "    #return [p1,p2]"
   ]
  },
  {
   "cell_type": "code",
   "execution_count": 5,
   "metadata": {},
   "outputs": [],
   "source": [
    "def sol_sist(sist):\n",
    "    # Función que recibe un sistema de ecuaciones en Latex y devuelve: \n",
    "    # El sistema en latex, la lista de exuaciones sympy, la solución y la matriz de ecuacuibes\n",
    "    \n",
    "    sist_latex = r\"\"\"\\left\\{\\begin{matrix}\"\"\"\n",
    "    eq = []\n",
    "    sb = EmptySet() # variables de las ecuaciones\n",
    "    \n",
    "    for i,e in enumerate(sist):\n",
    "        sist_latex = sist_latex + e + r'\\\\ '\n",
    "        eq.append(Eq(parse_latex(e[:e.find('=')]),parse_latex(e[e.find('=')+1:])).simplify())\n",
    "        sb = parse_latex(e[:e.find('=')]).free_symbols.union(sb)\n",
    "        sb = parse_latex(e[e.find('=')+1:]).free_symbols.union(sb)\n",
    "        \n",
    "       \n",
    "\n",
    "    sist_latex = sist_latex + r'\\end{matrix}\\right.'\n",
    "    \n",
    "    matriz = linear_eq_to_matrix(eq,list(sb))\n",
    "    matriz = matriz[0].row_join(matriz[1])\n",
    "    \n",
    "    return [sist_latex, eq, solve(eq), matriz]    "
   ]
  },
  {
   "cell_type": "code",
   "execution_count": 6,
   "metadata": {},
   "outputs": [
    {
     "data": {
      "text/markdown": [
       "**Sea \n",
       "$\\left\\lbrace\\overrightarrow{ i},\\overrightarrow{ j}\\right\\rbrace$ la base canónica de $V_2$, y los vectores:\n",
       "$\\overrightarrow u=  - 3\\overrightarrow i + \\overrightarrow j$, \n",
       "$\\overrightarrow v = 2\\overrightarrow i - 2\\overrightarrow j$, \n",
       "$\\overrightarrow w = \\overrightarrow i - \\overrightarrow j$, \n",
       "$\\overrightarrow z =  - \\overrightarrow i - 4\\overrightarrow j$\n",
       "\tCalcular:**"
      ],
      "text/plain": [
       "<IPython.core.display.Markdown object>"
      ]
     },
     "metadata": {},
     "output_type": "display_data"
    },
    {
     "data": {
      "image/png": "[encoded data removed]",
      "text/latex": [
       "$$\\left [ \\left [ \\mathbf{\\hat{i}_{N}} + (-3)\\mathbf{\\hat{j}_{N}}, \\quad (-16)\\mathbf{\\hat{i}_{N}} + (6)\\mathbf{\\hat{j}_{N}}, \\quad (-2)\\mathbf{\\hat{i}_{N}} + (2)\\mathbf{\\hat{j}_{N}}, \\quad (3)\\mathbf{\\hat{i}_{N}} + (7)\\mathbf{\\hat{j}_{N}}\\right ]\\right ]$$"
      ],
      "text/plain": [
       "[[N_i + (-3) N_j, (-16) N_i + (6) N_j, (-2) N_i + (2) N_j, (3) N_i + (7) N_j]]"
      ]
     },
     "metadata": {},
     "output_type": "display_data"
    },
    {
     "data": {
      "image/png": "[encoded data removed]",
      "text/latex": [
       "$$\\left [ \\left [ \\left ( -3, \\quad 1\\right ), \\quad \\left ( 2, \\quad -2\\right ), \\quad \\left ( 1, \\quad -1\\right ), \\quad \\left ( -1, \\quad -4\\right )\\right ], \\quad \\left [ \\left ( 1, \\quad -3\\right ), \\quad \\left ( 6, \\quad -16\\right ), \\quad \\left ( 2, \\quad -2\\right ), \\quad \\left ( 3, \\quad 7\\right )\\right ]\\right ]$$"
      ],
      "text/plain": [
       "[[(-3, 1), (2, -2), (1, -1), (-1, -4)], [(1, -3), (6, -16), (2, -2), (3, 7)]]"
      ]
     },
     "metadata": {},
     "output_type": "display_data"
    }
   ],
   "source": [
    "# Página 35 ejercicio 1\n",
    "\n",
    "texto_ejercicio = r\"\"\"Sea \n",
    "$\\left\\lbrace\\overrightarrow{ i},\\overrightarrow{ j}\\right\\rbrace$ la base canónica de $V_2$, y los vectores:\n",
    "$\\overrightarrow u=  - 3\\overrightarrow i + \\overrightarrow j$, \n",
    "$\\overrightarrow v = 2\\overrightarrow i - 2\\overrightarrow j$, \n",
    "$\\overrightarrow w = \\overrightarrow i - \\overrightarrow j$, \n",
    "$\\overrightarrow z =  - \\overrightarrow i - 4\\overrightarrow j$\n",
    "\tCalcular:\"\"\"\n",
    "\n",
    "n_ejercicio = 'pa21e02'\n",
    "\n",
    "display(md(\"**\"+texto_ejercicio+\"**\"))\n",
    "\n",
    "N = CoordSys3D('N') #instanciamos un sistema de coordenadas en R3\n",
    "\n",
    "i, j, k = N.base_vectors()\n",
    "\n",
    "# vectores iniciales correspondientes al texto del enunciado\n",
    "\n",
    "vectores = [-3*i+j, 2*i-2*j, i-j, -i-4*j]\n",
    "\n",
    "u,v,w,z = vectores\n",
    "\n",
    "enunciado_latex = [\"\"\"Las coordenadas de cada uno de ellos respecto de la base canónica.\n",
    "\tLas coordenadas de los vectores:$\\overrightarrow u + 2\\overrightarrow v$, \n",
    "    $5\\overrightarrow u - \\overrightarrow w$, \n",
    "    $ - 3\\overrightarrow v + 4\\overrightarrow w$, \n",
    "    $\\overrightarrow w - 2\\overrightarrow z$\"\"\", ]\n",
    "\n",
    "enunciado = [[u+2*v, 5*u-w, -3*v+4*w, w-2*z]]\n",
    "\n",
    "display(enunciado)\n",
    "\n",
    "solucion = []\n",
    "\n",
    "for i, s in enumerate(enunciado) : \n",
    "    so1 = [tuple(l.components.values()) for l in  vectores]\n",
    "    so2 = [tuple(l.components.values()) for l in s]\n",
    "    solucion.append([so1,so2])\n",
    "    display([so1,so2])\n",
    "\n",
    "#df_ejercicios = df_ejercicios.append(añadir_ejercicios(enunciado_latex, enunciado, solucion, texto_ejercicio, curso, titulo , n_ejercicio, '1', '1', enun_tex=False), ignore_index=True)\n"
   ]
  },
  {
   "cell_type": "code",
   "execution_count": 7,
   "metadata": {},
   "outputs": [
    {
     "data": {
      "text/markdown": [
       "**Estudia la dependencia lineal de los siguientes conjuntos de vectores:**"
      ],
      "text/plain": [
       "<IPython.core.display.Markdown object>"
      ]
     },
     "metadata": {},
     "output_type": "display_data"
    },
    {
     "data": {
      "text/markdown": [
       "$\\overrightarrow{u}=(8, 12) \\, \\ \\overrightarrow{v}=(2, 3)$"
      ],
      "text/plain": [
       "<IPython.core.display.Markdown object>"
      ]
     },
     "metadata": {},
     "output_type": "display_data"
    },
    {
     "data": {
      "text/plain": [
       "True"
      ]
     },
     "metadata": {},
     "output_type": "display_data"
    },
    {
     "data": {
      "text/markdown": [
       "$\\overrightarrow{u}=(2, 6) \\, \\ \\overrightarrow{v}=(4, 7)$"
      ],
      "text/plain": [
       "<IPython.core.display.Markdown object>"
      ]
     },
     "metadata": {},
     "output_type": "display_data"
    },
    {
     "data": {
      "text/plain": [
       "False"
      ]
     },
     "metadata": {},
     "output_type": "display_data"
    }
   ],
   "source": [
    "# Página 35 ejercicio 2\n",
    "\n",
    "texto_ejercicio = r\"\"\"Estudia la dependencia lineal de los siguientes conjuntos de vectores:\"\"\"\n",
    "\n",
    "n_ejercicio = 'pa21e03'\n",
    "\n",
    "display(md(\"**\"+texto_ejercicio+\"**\"))\n",
    "\n",
    "pre_enunciado_latex = [[(8,12),(2,3)],\n",
    "                       [(2,6),(4,7)],\n",
    "\n",
    "                      ]\n",
    "\n",
    "enunciado_latex, enunciado, solucion = [],[],[]\n",
    "\n",
    "for i, s in enumerate(pre_enunciado_latex) :\n",
    "    enunciado_latex.append(r\"\\overrightarrow{u}=\"+str(s[0])+r\" \\, \\ \\overrightarrow{v}=\"+str(s[1]))\n",
    "    display(md(\"$\"+enunciado_latex[i]+\"$\"))\n",
    "    en=\"Point\"+str(s[0])+\".is_collinear(Point\"+str(s[1])+\", Point(0,0))\"\n",
    "    enunciado.append(en)\n",
    "    solucion.append(S(en))\n",
    "    display(solucion[i])\n",
    "\n",
    "#df_ejercicios = df_ejercicios.append(añadir_ejercicios(enunciado_latex, enunciado, solucion, texto_ejercicio, curso, titulo , n_ejercicio, '1', '2', enun_tex=True), ignore_index=True)\n"
   ]
  },
  {
   "cell_type": "code",
   "execution_count": 8,
   "metadata": {},
   "outputs": [
    {
     "data": {
      "text/markdown": [
       "**Respecto de una base ortonormal tenemos dos vectores $\\overrightarrow{u}$ y $\\overrightarrow{v}$.\n",
       "Calcular $\\overrightarrow{u}\\cdot\\overrightarrow{v}$, $|\\overrightarrow{u}| \\ y \\ |\\overrightarrow{v}|$ \n",
       "y $\\angle(\\overrightarrow{u},\\overrightarrow{v})$ siendo:**"
      ],
      "text/plain": [
       "<IPython.core.display.Markdown object>"
      ]
     },
     "metadata": {},
     "output_type": "display_data"
    },
    {
     "data": {
      "text/markdown": [
       "$\\overrightarrow{u}=(2, -6) \\, \\ \\overrightarrow{v}=(5, 6)$"
      ],
      "text/plain": [
       "<IPython.core.display.Markdown object>"
      ]
     },
     "metadata": {},
     "output_type": "display_data"
    },
    {
     "data": {
      "text/markdown": [
       "$\\left [ -26, \\quad \\left [ 2 \\sqrt{10}, \\quad \\sqrt{61}\\right ], \\quad 121.759480084813\\right ]$"
      ],
      "text/plain": [
       "<IPython.core.display.Markdown object>"
      ]
     },
     "metadata": {},
     "output_type": "display_data"
    },
    {
     "data": {
      "text/markdown": [
       "$\\overrightarrow{u}=(2, 5) \\, \\ \\overrightarrow{v}=(4, 6)$"
      ],
      "text/plain": [
       "<IPython.core.display.Markdown object>"
      ]
     },
     "metadata": {},
     "output_type": "display_data"
    },
    {
     "data": {
      "text/markdown": [
       "$\\left [ 38, \\quad \\left [ \\sqrt{29}, \\quad 2 \\sqrt{13}\\right ], \\quad 11.888658039628\\right ]$"
      ],
      "text/plain": [
       "<IPython.core.display.Markdown object>"
      ]
     },
     "metadata": {},
     "output_type": "display_data"
    }
   ],
   "source": [
    "# Página 36 ejercicio 9\n",
    "\n",
    "texto_ejercicio = r\"\"\"Respecto de una base ortonormal tenemos dos vectores $\\overrightarrow{u}$ y $\\overrightarrow{v}$.\n",
    "Calcular $\\overrightarrow{u}\\cdot\\overrightarrow{v}$, $|\\overrightarrow{u}| \\ y \\ |\\overrightarrow{v}|$ \n",
    "y $\\angle(\\overrightarrow{u},\\overrightarrow{v})$ siendo:\"\"\"\n",
    "\n",
    "\n",
    "n_ejercicio = 'pa21e04'\n",
    "\n",
    "display(md(\"**\"+texto_ejercicio+\"**\"))\n",
    "\n",
    "N = CoordSys3D('N') #instanciamos un sistema de coordenadas en R3\n",
    "\n",
    "i, j, k = N.base_vectors()\n",
    "\n",
    "pre_enunciado_latex = [[(2,-6),(5,6)],\n",
    "                       [(2,5),(4,6)],]\n",
    "\n",
    "enunciado_latex, enunciado, solucion = [],[],[]\n",
    "\n",
    "for i, s in enumerate(pre_enunciado_latex) :\n",
    "    enunciado_latex.append(r\"\\overrightarrow{u}=\"+str(s[0])+r\" \\, \\ \\overrightarrow{v}=\"+str(s[1]))\n",
    "    display(md(\"$\"+enunciado_latex[i]+\"$\"))\n",
    "    en=[\"Point\"+str(s[0])+\".dot(Point\"+str(s[1])+\")\"]\n",
    "    en.append([\"Point\"+str(s[0])+\".distance(Point(0,0))\",\"Point\"+str(s[1])+\".distance(Point(0,0))\"])\n",
    "    angulo = float(deg(acos(float(S(str(en[0])+\"/(\"+str(en[1][0])+\"*\"+str(en[1][1])+\")\")))))\n",
    "    #en.append(\"acos(\"+str(en[0])+\"/(\"+str(en[1][0])+\"*\"+str(en[1][1])+\"))\")\n",
    "    en.append(angulo)\n",
    "    enunciado.append(en)\n",
    "    solucion.append(latex(S(en)))\n",
    "    \n",
    "    display(md(\"$\"+solucion[i]+\"$\"))\n",
    "\n",
    "df_ejercicios = df_ejercicios.append(añadir_ejercicios(enunciado_latex, enunciado, solucion, texto_ejercicio, curso, titulo , n_ejercicio, '1', '2', enun_tex=True), ignore_index=True)\n"
   ]
  },
  {
   "cell_type": "code",
   "execution_count": 9,
   "metadata": {},
   "outputs": [
    {
     "data": {
      "text/markdown": [
       "**Calcula x para que los vectores\n",
       "$\\overrightarrow{u}$ y $\\overrightarrow{v}$ formen 60º siendo: **"
      ],
      "text/plain": [
       "<IPython.core.display.Markdown object>"
      ]
     },
     "metadata": {},
     "output_type": "display_data"
    },
    {
     "data": {
      "text/markdown": [
       "$\\overrightarrow{u}=(6, x) \\, \\ \\overrightarrow{v}=(10, 2)$"
      ],
      "text/plain": [
       "<IPython.core.display.Markdown object>"
      ]
     },
     "metadata": {},
     "output_type": "display_data"
    },
    {
     "data": {
      "image/png": "[encoded data removed]",
      "text/latex": [
       "$$\\frac{\\sqrt{26} \\left(2 x + 60\\right)}{52 \\sqrt{x^{2} + 36}} = \\frac{1}{2}$$"
      ],
      "text/plain": [
       " √26⋅(2⋅x + 60)      \n",
       "─────────────── = 1/2\n",
       "      _________      \n",
       "     ╱  2            \n",
       "52⋅╲╱  x  + 36       "
      ]
     },
     "metadata": {},
     "output_type": "display_data"
    },
    {
     "data": {
      "text/markdown": [
       "$\\left [ \\frac{60}{11} + \\frac{78 \\sqrt{3}}{11}, \\quad - \\frac{78 \\sqrt{3}}{11} + \\frac{60}{11}\\right ]$"
      ],
      "text/plain": [
       "<IPython.core.display.Markdown object>"
      ]
     },
     "metadata": {},
     "output_type": "display_data"
    }
   ],
   "source": [
    "# Página 36 ejercicio 15\n",
    "\n",
    "texto_ejercicio = r\"\"\"Calcula x para que los vectores\n",
    "$\\overrightarrow{u}$ y $\\overrightarrow{v}$ formen 60º siendo: \"\"\"\n",
    "\n",
    "\n",
    "n_ejercicio = 'pa21e05'\n",
    "\n",
    "display(md(\"**\"+texto_ejercicio+\"**\"))\n",
    "\n",
    "N = CoordSys3D('N') #instanciamos un sistema de coordenadas en R3\n",
    "\n",
    "i, j, k = N.base_vectors()\n",
    "\n",
    "pre_enunciado_latex = [[(6,x),(10,2)],\n",
    "\n",
    "                    \n",
    "                      ]\n",
    "\n",
    "enunciado_latex, enunciado, solucion = [],[],[]\n",
    "\n",
    "for id, s in enumerate(pre_enunciado_latex) :\n",
    "    enunciado_latex.append(r\"\\overrightarrow{u}=\"+str(s[0])+r\" \\, \\ \\overrightarrow{v}=\"+str(s[1]))\n",
    "    display(md(\"$\"+enunciado_latex[id]+\"$\"))\n",
    "    u = s[0][0]*i+s[0][1]*j\n",
    "    v = s[1][0]*i+s[1][1]*j\n",
    "    en=Eq(u.dot(v)/(u.magnitude()*v.magnitude()),cos(rad(60)))\n",
    "    display(en)\n",
    "    enunciado.append(en)\n",
    "    solucion.append(latex(solve(en)))\n",
    "    \n",
    "    display(md(\"$\"+solucion[id]+\"$\"))\n",
    "\n",
    "df_ejercicios = df_ejercicios.append(añadir_ejercicios(enunciado_latex, enunciado, solucion, texto_ejercicio, curso, titulo , n_ejercicio, '1', '2', enun_tex=True), ignore_index=True)\n"
   ]
  },
  {
   "cell_type": "code",
   "execution_count": 10,
   "metadata": {},
   "outputs": [
    {
     "data": {
      "text/markdown": [
       "**Resolver las siguientes ecuaciones para ángulos en el primer cuadrante:**"
      ],
      "text/plain": [
       "<IPython.core.display.Markdown object>"
      ]
     },
     "metadata": {},
     "output_type": "display_data"
    },
    {
     "data": {
      "text/markdown": [
       "$\\sin{2x}=\\frac{\\sqrt {2}}{2} \\rightarrow \\left [ \\frac{\\pi}{8}, \\quad \\frac{3 \\pi}{8}\\right ]$"
      ],
      "text/plain": [
       "<IPython.core.display.Markdown object>"
      ]
     },
     "metadata": {},
     "output_type": "display_data"
    },
    {
     "data": {
      "text/markdown": [
       "$\\tan{\\frac{x}{2}}=\\sqrt{3} \\rightarrow \\left [ \\frac{2 \\pi}{3}\\right ]$"
      ],
      "text/plain": [
       "<IPython.core.display.Markdown object>"
      ]
     },
     "metadata": {},
     "output_type": "display_data"
    },
    {
     "data": {
      "text/markdown": [
       "$\\sin{(3x-\\frac{\\pi}{2})}=-\\frac{\\sqrt{2}}{2} \\rightarrow \\left [ \\frac{\\pi}{12}, \\quad \\frac{7 \\pi}{12}\\right ]$"
      ],
      "text/plain": [
       "<IPython.core.display.Markdown object>"
      ]
     },
     "metadata": {},
     "output_type": "display_data"
    }
   ],
   "source": [
    "# Página 41 ejercicio 27\n",
    "\n",
    "texto_ejercicio = 'Resolver las siguientes ecuaciones para ángulos en el primer cuadrante:'\n",
    "n_ejercicio = 'pa21e06'\n",
    "\n",
    "display(md(\"**\"+texto_ejercicio+\"**\"))\n",
    "\n",
    "enunciado_latex = [r'\\sin{2x}=\\frac{\\sqrt {2}}{2}',\n",
    "                   r'\\tan{\\frac{x}{2}}=\\sqrt{3}',\n",
    "                   r'\\sin{(3x-\\frac{\\pi}{2})}=-\\frac{\\sqrt{2}}{2}',\n",
    "                   \n",
    "                  ]\n",
    "                                       \n",
    "\n",
    "\n",
    "\n",
    "\n",
    "enunciado, solucion = [], []\n",
    "\n",
    "for i, s in enumerate(enunciado_latex) :\n",
    "    enunciado.append(parse_latex(s))\n",
    "    #solucion.append(latex(solve(parse_latex(s)))) \n",
    "    solucion.append(latex([nsimplify(i/pi)*pi for i in solve(eval(str(parse_latex(s))))])) \n",
    "    display(md(\"$\"+ enunciado_latex[i] +\" \\\\rightarrow \" + solucion[i] +\"$\"))\n",
    "\n",
    "df_ejercicios = df_ejercicios.append(añadir_ejercicios(enunciado_latex, enunciado, solucion, texto_ejercicio, curso, titulo , n_ejercicio, '1', '1'), ignore_index=True)\n"
   ]
  },
  {
   "cell_type": "code",
   "execution_count": 11,
   "metadata": {},
   "outputs": [
    {
     "data": {
      "text/markdown": [
       "**Resolver las siguientes ecuaciones:**"
      ],
      "text/plain": [
       "<IPython.core.display.Markdown object>"
      ]
     },
     "metadata": {},
     "output_type": "display_data"
    },
    {
     "data": {
      "text/markdown": [
       "$\\tan{2x}=\\cot{x} \\rightarrow \\left [ -90.0, \\quad 90.0, \\quad -150.0, \\quad 150.0, \\quad -30.0, \\quad 30.0\\right ]$"
      ],
      "text/plain": [
       "<IPython.core.display.Markdown object>"
      ]
     },
     "metadata": {},
     "output_type": "display_data"
    },
    {
     "data": {
      "text/markdown": [
       "$\\sin{x}\\cos{x}=-\\frac{1}{2} \\rightarrow \\left [ -45.0, \\quad 135.0\\right ]$"
      ],
      "text/plain": [
       "<IPython.core.display.Markdown object>"
      ]
     },
     "metadata": {},
     "output_type": "display_data"
    },
    {
     "data": {
      "text/markdown": [
       "$\\sqrt{3}\\sin{x}+\\cos{x}=-2 \\rightarrow \\left [ -120.0\\right ]$"
      ],
      "text/plain": [
       "<IPython.core.display.Markdown object>"
      ]
     },
     "metadata": {},
     "output_type": "display_data"
    }
   ],
   "source": [
    "texto_ejercicio = 'Resolver las siguientes ecuaciones:'\n",
    "n_ejercicio = 'pa21e07'\n",
    "\n",
    "enunciado_latex = [r'\\tan{2x}=\\cot{x}',\n",
    "                  r'\\sin{x}\\cos{x}=-\\frac{1}{2}',\n",
    "                  r'\\sqrt{3}\\sin{x}+\\cos{x}=-2',            \n",
    "                 ]\n",
    "                                       \n",
    "\n",
    "display(md(\"**\"+texto_ejercicio+\"**\"))\n",
    "\n",
    "                                       \n",
    "\n",
    "\n",
    "\n",
    "\n",
    "enunciado, solucion = [], []\n",
    "\n",
    "for i, s in enumerate(enunciado_latex) :\n",
    "    enunciado.append(parse_latex(s))\n",
    "    #solucion.append(latex(solve(parse_latex(s)))) \n",
    "    solucion.append(latex([round(float(deg(nsimplify(i/pi)*pi)),3) for i in solve(eval(str(parse_latex(s))))])) \n",
    "    display(md(\"$\"+ enunciado_latex[i] +\" \\\\rightarrow \" + solucion[i] +\"$\"))\n",
    "\n",
    "df_ejercicios = df_ejercicios.append(añadir_ejercicios(enunciado_latex, enunciado, solucion, texto_ejercicio, curso, titulo , n_ejercicio, '1', '1'), ignore_index=True)\n"
   ]
  },
  {
   "cell_type": "code",
   "execution_count": 12,
   "metadata": {},
   "outputs": [
    {
     "data": {
      "text/markdown": [
       "**Dado el siguiente número $z$, calcula el valor de $\\frac{z-\\overline{z}}{z+\\overline{z}}$**"
      ],
      "text/plain": [
       "<IPython.core.display.Markdown object>"
      ]
     },
     "metadata": {},
     "output_type": "display_data"
    },
    {
     "data": {
      "text/markdown": [
       "$\\sqrt{6}-2\\sqrt{4}i \\rightarrow - \\frac{2 \\sqrt{6} i}{3}$"
      ],
      "text/plain": [
       "<IPython.core.display.Markdown object>"
      ]
     },
     "metadata": {},
     "output_type": "display_data"
    },
    {
     "data": {
      "text/markdown": [
       "$\\sqrt{4}-2\\sqrt{6}i \\rightarrow - \\sqrt{6} i$"
      ],
      "text/plain": [
       "<IPython.core.display.Markdown object>"
      ]
     },
     "metadata": {},
     "output_type": "display_data"
    }
   ],
   "source": [
    "# Página 45 ejercicio 12\n",
    "\n",
    "\n",
    "\n",
    "texto_ejercicio = 'Dado el siguiente número $z$, calcula el valor de $\\\\frac{z-\\overline{z}}{z+\\overline{z}}$'\n",
    "n_ejercicio = 'pa22e08'\n",
    "\n",
    "display(md(\"**\"+texto_ejercicio+\"**\"))\n",
    "\n",
    "enunciado_latex = [r'\\sqrt{6}-2\\sqrt{4}i', \n",
    "                   r'\\sqrt{4}-2\\sqrt{6}i', \n",
    "                   \n",
    "                   \n",
    "                  ]\n",
    "                                       \n",
    "\n",
    "\n",
    "\n",
    "\n",
    "enunciado, solucion = [], []\n",
    "\n",
    "for i, s in enumerate(enunciado_latex) :\n",
    "    enunciado.append(parse_latex(s))\n",
    "    solucion.append(latex((simplify(eval(str(parse_latex(s).replace('i','I'))))-conjugate(simplify(eval(str(parse_latex(s).replace('i','I'))))))/((simplify(eval(str(parse_latex(s).replace('i','I')))))+conjugate(simplify(eval(str(parse_latex(s).replace('i','I')))))))) \n",
    "    display(md(\"$\"+ enunciado_latex[i] +\" \\\\rightarrow \" + solucion[i] +\"$\"))\n",
    "\n",
    "df_ejercicios = df_ejercicios.append(añadir_ejercicios(enunciado_latex, enunciado, solucion, texto_ejercicio, curso, titulo , n_ejercicio, '1', '2'), ignore_index=True)\n"
   ]
  },
  {
   "cell_type": "code",
   "execution_count": 13,
   "metadata": {},
   "outputs": [
    {
     "data": {
      "text/markdown": [
       "**Dado el siguiente número $z$, calcula el valor de $\\frac{z-\\overline{z}}{z+\\overline{z}}$**"
      ],
      "text/plain": [
       "<IPython.core.display.Markdown object>"
      ]
     },
     "metadata": {},
     "output_type": "display_data"
    },
    {
     "data": {
      "text/markdown": [
       "$\\sqrt{6}-2\\sqrt{4}i \\rightarrow - \\frac{2 \\sqrt{6} i}{3}$"
      ],
      "text/plain": [
       "<IPython.core.display.Markdown object>"
      ]
     },
     "metadata": {},
     "output_type": "display_data"
    },
    {
     "data": {
      "text/markdown": [
       "$\\sqrt{4}-2\\sqrt{6}i \\rightarrow - \\sqrt{6} i$"
      ],
      "text/plain": [
       "<IPython.core.display.Markdown object>"
      ]
     },
     "metadata": {},
     "output_type": "display_data"
    }
   ],
   "source": [
    "# Página 45 ejercicio 12\n",
    "\n",
    "\n",
    "\n",
    "texto_ejercicio = 'Dado el siguiente número $z$, calcula el valor de $\\\\frac{z-\\overline{z}}{z+\\overline{z}}$'\n",
    "n_ejercicio = 'pa22e08'\n",
    "\n",
    "display(md(\"**\"+texto_ejercicio+\"**\"))\n",
    "\n",
    "enunciado_latex = [r'\\sqrt{6}-2\\sqrt{4}i', \n",
    "                   r'\\sqrt{4}-2\\sqrt{6}i', \n",
    "                   \n",
    "                   \n",
    "                  ]\n",
    "                                       \n",
    "\n",
    "\n",
    "\n",
    "\n",
    "enunciado, solucion = [], []\n",
    "\n",
    "for i, s in enumerate(enunciado_latex) :\n",
    "    enunciado.append(parse_latex(s))\n",
    "    solucion.append(latex((simplify(eval(str(parse_latex(s).replace('i','I'))))-conjugate(simplify(eval(str(parse_latex(s).replace('i','I'))))))/((simplify(eval(str(parse_latex(s).replace('i','I')))))+conjugate(simplify(eval(str(parse_latex(s).replace('i','I')))))))) \n",
    "    display(md(\"$\"+ enunciado_latex[i] +\" \\\\rightarrow \" + solucion[i] +\"$\"))\n",
    "\n",
    "df_ejercicios = df_ejercicios.append(añadir_ejercicios(enunciado_latex, enunciado, solucion, texto_ejercicio, curso, titulo , n_ejercicio, '1', '2'), ignore_index=True)\n"
   ]
  },
  {
   "cell_type": "code",
   "execution_count": 14,
   "metadata": {},
   "outputs": [
    {
     "data": {
      "text/markdown": [
       "**Calcular el módulo y el argumento (en radianes) de los siguientes números complejos:**"
      ],
      "text/plain": [
       "<IPython.core.display.Markdown object>"
      ]
     },
     "metadata": {},
     "output_type": "display_data"
    },
    {
     "data": {
      "text/markdown": [
       "$4 - 2\\sqrt {3}i \\rightarrow 2 \\sqrt{7}_{- \\operatorname{atan}{\\left (\\frac{\\sqrt{3}}{2} \\right )}}$"
      ],
      "text/plain": [
       "<IPython.core.display.Markdown object>"
      ]
     },
     "metadata": {},
     "output_type": "display_data"
    },
    {
     "data": {
      "text/markdown": [
       "$-1-i \\rightarrow \\sqrt{2}_{- \\frac{3 \\pi}{4}}$"
      ],
      "text/plain": [
       "<IPython.core.display.Markdown object>"
      ]
     },
     "metadata": {},
     "output_type": "display_data"
    },
    {
     "data": {
      "text/markdown": [
       "$ -6-6i \\rightarrow 6 \\sqrt{2}_{- \\frac{3 \\pi}{4}}$"
      ],
      "text/plain": [
       "<IPython.core.display.Markdown object>"
      ]
     },
     "metadata": {},
     "output_type": "display_data"
    },
    {
     "data": {
      "text/markdown": [
       "$-5i \\rightarrow 5_{- \\frac{\\pi}{2}}$"
      ],
      "text/plain": [
       "<IPython.core.display.Markdown object>"
      ]
     },
     "metadata": {},
     "output_type": "display_data"
    },
    {
     "data": {
      "text/markdown": [
       "$3 \\rightarrow 3_{0}$"
      ],
      "text/plain": [
       "<IPython.core.display.Markdown object>"
      ]
     },
     "metadata": {},
     "output_type": "display_data"
    }
   ],
   "source": [
    "# Página 51 ejercicio 21\n",
    "\n",
    "texto_ejercicio = 'Calcular el módulo y el argumento (en radianes) de los siguientes números complejos:'\n",
    "\n",
    "n_ejercicio = 'pa22e08b'\n",
    "\n",
    "display(md(\"**\"+texto_ejercicio+\"**\"))\n",
    "\n",
    "enunciado_latex = [r'4 - 2\\sqrt {3}i',\n",
    "                   r'-1-i',\n",
    "                   r' -6-6i',\n",
    "                   r'-5i',\n",
    "                   r'3',\n",
    "               \n",
    "                  ]\n",
    "                                       \n",
    "\n",
    "\n",
    "\n",
    "\n",
    "enunciado, solucion = [], []\n",
    "\n",
    "for i, s in enumerate(enunciado_latex) :\n",
    "    enunciado.append(parse_latex(s))\n",
    "    mod, argu = a_polar(eval(str(parse_latex(s).replace('i','I'))))\n",
    "    solucion.append(latex(mod)+\"_{\"+latex(argu)+\"}\") \n",
    "    display(md(\"$\"+ enunciado_latex[i] +\" \\\\rightarrow \" + solucion[i] +\"$\"))\n",
    "\n",
    "df_ejercicios = df_ejercicios.append(añadir_ejercicios(enunciado_latex, enunciado, solucion, texto_ejercicio, curso, titulo , n_ejercicio, '1', '2'), ignore_index=True)\n"
   ]
  },
  {
   "cell_type": "code",
   "execution_count": 15,
   "metadata": {},
   "outputs": [
    {
     "data": {
      "text/markdown": [
       "**Escribe en forma binómica los siguientes números complejos:**"
      ],
      "text/plain": [
       "<IPython.core.display.Markdown object>"
      ]
     },
     "metadata": {},
     "output_type": "display_data"
    },
    {
     "data": {
      "text/markdown": [
       "$3_{\\frac{\\pi}{4}} \\rightarrow \\frac{3 \\sqrt{2}}{2} + \\frac{3 \\sqrt{2} i}{2}$"
      ],
      "text/plain": [
       "<IPython.core.display.Markdown object>"
      ]
     },
     "metadata": {},
     "output_type": "display_data"
    },
    {
     "data": {
      "text/markdown": [
       "$2_{\\frac{\\pi}{6}} \\rightarrow \\sqrt{3} + i$"
      ],
      "text/plain": [
       "<IPython.core.display.Markdown object>"
      ]
     },
     "metadata": {},
     "output_type": "display_data"
    },
    {
     "data": {
      "text/markdown": [
       "$2 \\sqrt{2}_{\\pi} \\rightarrow - 2 \\sqrt{2}$"
      ],
      "text/plain": [
       "<IPython.core.display.Markdown object>"
      ]
     },
     "metadata": {},
     "output_type": "display_data"
    },
    {
     "data": {
      "text/markdown": [
       "$7_{0} \\rightarrow 7$"
      ],
      "text/plain": [
       "<IPython.core.display.Markdown object>"
      ]
     },
     "metadata": {},
     "output_type": "display_data"
    },
    {
     "data": {
      "text/markdown": [
       "$1_{\\frac{\\pi}{2}} \\rightarrow i$"
      ],
      "text/plain": [
       "<IPython.core.display.Markdown object>"
      ]
     },
     "metadata": {},
     "output_type": "display_data"
    }
   ],
   "source": [
    "# Página 51 ejercicio 21\n",
    "\n",
    "texto_ejercicio = 'Escribe en forma binómica los siguientes números complejos:'\n",
    "\n",
    "n_ejercicio = 'pa22e08c'\n",
    "\n",
    "display(md(\"**\"+texto_ejercicio+\"**\"))\n",
    "\n",
    "enunciado = [[3,pi/4],\n",
    "             [2,pi/6],\n",
    "             [2*sqrt(2),pi],\n",
    "             [7,0],\n",
    "             [1,pi/2],\n",
    "                   \n",
    "                  ]\n",
    "                                       \n",
    "\n",
    "\n",
    "\n",
    "\n",
    "enunciado_latex, solucion = [], []\n",
    "\n",
    "for i, s in enumerate(enunciado) :\n",
    "    enunciado_latex.append(latex(s[0])+\"_{\"+latex(s[1])+\"}\")\n",
    "    solucion.append(latex(a_binomico(s))) \n",
    "    display(md(\"$\"+ enunciado_latex[i] +\" \\\\rightarrow \" + solucion[i] +\"$\"))\n",
    "\n",
    "df_ejercicios = df_ejercicios.append(añadir_ejercicios(enunciado_latex, enunciado, solucion, texto_ejercicio, curso, titulo , n_ejercicio, '1', '2'), ignore_index=True)\n"
   ]
  },
  {
   "cell_type": "code",
   "execution_count": 16,
   "metadata": {},
   "outputs": [
    {
     "data": {
      "text/markdown": [
       "**Calcula el área del triángulo de vértices:**"
      ],
      "text/plain": [
       "<IPython.core.display.Markdown object>"
      ]
     },
     "metadata": {},
     "output_type": "display_data"
    },
    {
     "data": {
      "text/markdown": [
       "$A=(-1, 1), \\ B=(1, 6),\\  y \\ C=(3, -3) \\rightarrow 14$"
      ],
      "text/plain": [
       "<IPython.core.display.Markdown object>"
      ]
     },
     "metadata": {},
     "output_type": "display_data"
    }
   ],
   "source": [
    "texto_ejercicio = r\"\"\"Calcula el área del triángulo de vértices:\"\"\"\n",
    "\n",
    "n_ejercicio = 'pa22e09'\n",
    "\n",
    "display(md(\"**\"+texto_ejercicio+\"**\"))\n",
    " \n",
    "# vectores iniciales correspondientes al texto del enunciado\n",
    "\n",
    "pre_enunciado_latex = [\n",
    "                  [(-1, 1), (1, 6), (3,-3)], \n",
    "\n",
    "                      ]\n",
    "\n",
    "enunciado_latex, enunciado, solucion = [],[],[]\n",
    "\n",
    "for i, s in enumerate(pre_enunciado_latex) : \n",
    "    enunciado_latex.append(\"A=\"+str(s[0])+\", \\ B=\"+str(s[1])+\",\\  y \\ C=\"+str(s[2])+\"\")\n",
    "    enunciado = str(s)\n",
    "    A, B, C = [Point(k) for k in s]\n",
    "    T=Triangle(A,B,C)\n",
    "    sol=[A.distance(B),T.altitudes[C],T.altitudes[C].length, abs(T.area)]\n",
    "    solucion.append(latex(sol[3]))\n",
    "    display(md(\"$\"+ enunciado_latex[i] +\" \\\\rightarrow \" + solucion[i] +\"$\"))\n",
    "    \n",
    "\n",
    "df_ejercicios = df_ejercicios.append(añadir_ejercicios(enunciado_latex, enunciado, solucion, texto_ejercicio, curso, titulo , n_ejercicio, '1', '1', enun_tex=True), ignore_index=True)\n"
   ]
  },
  {
   "cell_type": "code",
   "execution_count": 17,
   "metadata": {},
   "outputs": [
    {
     "data": {
      "text/markdown": [
       "**Ejercicio: **pa21e04"
      ],
      "text/plain": [
       "<IPython.core.display.Markdown object>"
      ]
     },
     "metadata": {},
     "output_type": "display_data"
    },
    {
     "data": {
      "text/html": [
       "<div>\n",
       "<style scoped>\n",
       "    .dataframe tbody tr th:only-of-type {\n",
       "        vertical-align: middle;\n",
       "    }\n",
       "\n",
       "    .dataframe tbody tr th {\n",
       "        vertical-align: top;\n",
       "    }\n",
       "\n",
       "    .dataframe thead th {\n",
       "        text-align: right;\n",
       "    }\n",
       "</style>\n",
       "<table border=\"1\" class=\"dataframe\">\n",
       "  <thead>\n",
       "    <tr style=\"text-align: right;\">\n",
       "      <th></th>\n",
       "      <th>enunciado_latex</th>\n",
       "      <th>enunciado</th>\n",
       "      <th>solucion</th>\n",
       "      <th>texto</th>\n",
       "      <th>curso</th>\n",
       "      <th>titulo</th>\n",
       "      <th>n_ejercicio</th>\n",
       "      <th>dificultad</th>\n",
       "      <th>n_columnas</th>\n",
       "      <th>puntos</th>\n",
       "      <th>enun_tex</th>\n",
       "      <th>sol_tex</th>\n",
       "    </tr>\n",
       "  </thead>\n",
       "  <tbody>\n",
       "    <tr>\n",
       "      <th>0</th>\n",
       "      <td>\\overrightarrow{u}=(2, -6) \\, \\ \\overrightarro...</td>\n",
       "      <td>['Point(2, -6).dot(Point(5, 6))', ['Point(2, -...</td>\n",
       "      <td>\\left [ -26, \\quad \\left [ 2 \\sqrt{10}, \\quad ...</td>\n",
       "      <td>Respecto de una base ortonormal tenemos dos ve...</td>\n",
       "      <td>1BC</td>\n",
       "      <td>Autoevaluación 2 ev2</td>\n",
       "      <td>pa21e04</td>\n",
       "      <td>1</td>\n",
       "      <td>2</td>\n",
       "      <td>1</td>\n",
       "      <td>True</td>\n",
       "      <td>True</td>\n",
       "    </tr>\n",
       "    <tr>\n",
       "      <th>1</th>\n",
       "      <td>\\overrightarrow{u}=(2, 5) \\, \\ \\overrightarrow...</td>\n",
       "      <td>['Point(2, 5).dot(Point(4, 6))', ['Point(2, 5)...</td>\n",
       "      <td>\\left [ 38, \\quad \\left [ \\sqrt{29}, \\quad 2 \\...</td>\n",
       "      <td>Respecto de una base ortonormal tenemos dos ve...</td>\n",
       "      <td>1BC</td>\n",
       "      <td>Autoevaluación 2 ev2</td>\n",
       "      <td>pa21e04</td>\n",
       "      <td>1</td>\n",
       "      <td>2</td>\n",
       "      <td>1</td>\n",
       "      <td>True</td>\n",
       "      <td>True</td>\n",
       "    </tr>\n",
       "  </tbody>\n",
       "</table>\n",
       "</div>"
      ],
      "text/plain": [
       "                                     enunciado_latex  \\\n",
       "0  \\overrightarrow{u}=(2, -6) \\, \\ \\overrightarro...   \n",
       "1  \\overrightarrow{u}=(2, 5) \\, \\ \\overrightarrow...   \n",
       "\n",
       "                                           enunciado  \\\n",
       "0  ['Point(2, -6).dot(Point(5, 6))', ['Point(2, -...   \n",
       "1  ['Point(2, 5).dot(Point(4, 6))', ['Point(2, 5)...   \n",
       "\n",
       "                                            solucion  \\\n",
       "0  \\left [ -26, \\quad \\left [ 2 \\sqrt{10}, \\quad ...   \n",
       "1  \\left [ 38, \\quad \\left [ \\sqrt{29}, \\quad 2 \\...   \n",
       "\n",
       "                                               texto curso  \\\n",
       "0  Respecto de una base ortonormal tenemos dos ve...   1BC   \n",
       "1  Respecto de una base ortonormal tenemos dos ve...   1BC   \n",
       "\n",
       "                 titulo n_ejercicio  dificultad  n_columnas  puntos  enun_tex  \\\n",
       "0  Autoevaluación 2 ev2     pa21e04           1           2       1      True   \n",
       "1  Autoevaluación 2 ev2     pa21e04           1           2       1      True   \n",
       "\n",
       "   sol_tex  \n",
       "0     True  \n",
       "1     True  "
      ]
     },
     "metadata": {},
     "output_type": "display_data"
    },
    {
     "data": {
      "text/markdown": [
       "**Ejercicio: **pa21e05"
      ],
      "text/plain": [
       "<IPython.core.display.Markdown object>"
      ]
     },
     "metadata": {},
     "output_type": "display_data"
    },
    {
     "data": {
      "text/html": [
       "<div>\n",
       "<style scoped>\n",
       "    .dataframe tbody tr th:only-of-type {\n",
       "        vertical-align: middle;\n",
       "    }\n",
       "\n",
       "    .dataframe tbody tr th {\n",
       "        vertical-align: top;\n",
       "    }\n",
       "\n",
       "    .dataframe thead th {\n",
       "        text-align: right;\n",
       "    }\n",
       "</style>\n",
       "<table border=\"1\" class=\"dataframe\">\n",
       "  <thead>\n",
       "    <tr style=\"text-align: right;\">\n",
       "      <th></th>\n",
       "      <th>enunciado_latex</th>\n",
       "      <th>enunciado</th>\n",
       "      <th>solucion</th>\n",
       "      <th>texto</th>\n",
       "      <th>curso</th>\n",
       "      <th>titulo</th>\n",
       "      <th>n_ejercicio</th>\n",
       "      <th>dificultad</th>\n",
       "      <th>n_columnas</th>\n",
       "      <th>puntos</th>\n",
       "      <th>enun_tex</th>\n",
       "      <th>sol_tex</th>\n",
       "    </tr>\n",
       "  </thead>\n",
       "  <tbody>\n",
       "    <tr>\n",
       "      <th>2</th>\n",
       "      <td>\\overrightarrow{u}=(6, x) \\, \\ \\overrightarrow...</td>\n",
       "      <td>Eq(sqrt(26)*(2*x + 60)/(52*sqrt(x**2 + 36)), 1/2)</td>\n",
       "      <td>\\left [ \\frac{60}{11} + \\frac{78 \\sqrt{3}}{11}...</td>\n",
       "      <td>Calcula x para que los vectores\\n$\\overrightar...</td>\n",
       "      <td>1BC</td>\n",
       "      <td>Autoevaluación 2 ev2</td>\n",
       "      <td>pa21e05</td>\n",
       "      <td>1</td>\n",
       "      <td>2</td>\n",
       "      <td>1</td>\n",
       "      <td>True</td>\n",
       "      <td>True</td>\n",
       "    </tr>\n",
       "  </tbody>\n",
       "</table>\n",
       "</div>"
      ],
      "text/plain": [
       "                                     enunciado_latex  \\\n",
       "2  \\overrightarrow{u}=(6, x) \\, \\ \\overrightarrow...   \n",
       "\n",
       "                                           enunciado  \\\n",
       "2  Eq(sqrt(26)*(2*x + 60)/(52*sqrt(x**2 + 36)), 1/2)   \n",
       "\n",
       "                                            solucion  \\\n",
       "2  \\left [ \\frac{60}{11} + \\frac{78 \\sqrt{3}}{11}...   \n",
       "\n",
       "                                               texto curso  \\\n",
       "2  Calcula x para que los vectores\\n$\\overrightar...   1BC   \n",
       "\n",
       "                 titulo n_ejercicio  dificultad  n_columnas  puntos  enun_tex  \\\n",
       "2  Autoevaluación 2 ev2     pa21e05           1           2       1      True   \n",
       "\n",
       "   sol_tex  \n",
       "2     True  "
      ]
     },
     "metadata": {},
     "output_type": "display_data"
    },
    {
     "data": {
      "text/markdown": [
       "**Ejercicio: **pa21e06"
      ],
      "text/plain": [
       "<IPython.core.display.Markdown object>"
      ]
     },
     "metadata": {},
     "output_type": "display_data"
    },
    {
     "data": {
      "text/html": [
       "<div>\n",
       "<style scoped>\n",
       "    .dataframe tbody tr th:only-of-type {\n",
       "        vertical-align: middle;\n",
       "    }\n",
       "\n",
       "    .dataframe tbody tr th {\n",
       "        vertical-align: top;\n",
       "    }\n",
       "\n",
       "    .dataframe thead th {\n",
       "        text-align: right;\n",
       "    }\n",
       "</style>\n",
       "<table border=\"1\" class=\"dataframe\">\n",
       "  <thead>\n",
       "    <tr style=\"text-align: right;\">\n",
       "      <th></th>\n",
       "      <th>enunciado_latex</th>\n",
       "      <th>enunciado</th>\n",
       "      <th>solucion</th>\n",
       "      <th>texto</th>\n",
       "      <th>curso</th>\n",
       "      <th>titulo</th>\n",
       "      <th>n_ejercicio</th>\n",
       "      <th>dificultad</th>\n",
       "      <th>n_columnas</th>\n",
       "      <th>puntos</th>\n",
       "      <th>enun_tex</th>\n",
       "      <th>sol_tex</th>\n",
       "    </tr>\n",
       "  </thead>\n",
       "  <tbody>\n",
       "    <tr>\n",
       "      <th>3</th>\n",
       "      <td>\\sin{2x}=\\frac{\\sqrt {2}}{2}</td>\n",
       "      <td>Eq(sin(2*x), sqrt(2)/2)</td>\n",
       "      <td>\\left [ \\frac{\\pi}{8}, \\quad \\frac{3 \\pi}{8}\\r...</td>\n",
       "      <td>Resolver las siguientes ecuaciones para ángulo...</td>\n",
       "      <td>1BC</td>\n",
       "      <td>Autoevaluación 2 ev2</td>\n",
       "      <td>pa21e06</td>\n",
       "      <td>1</td>\n",
       "      <td>1</td>\n",
       "      <td>1</td>\n",
       "      <td>True</td>\n",
       "      <td>True</td>\n",
       "    </tr>\n",
       "    <tr>\n",
       "      <th>4</th>\n",
       "      <td>\\tan{\\frac{x}{2}}=\\sqrt{3}</td>\n",
       "      <td>Eq(tan(x/2), sqrt(3))</td>\n",
       "      <td>\\left [ \\frac{2 \\pi}{3}\\right ]</td>\n",
       "      <td>Resolver las siguientes ecuaciones para ángulo...</td>\n",
       "      <td>1BC</td>\n",
       "      <td>Autoevaluación 2 ev2</td>\n",
       "      <td>pa21e06</td>\n",
       "      <td>1</td>\n",
       "      <td>1</td>\n",
       "      <td>1</td>\n",
       "      <td>True</td>\n",
       "      <td>True</td>\n",
       "    </tr>\n",
       "    <tr>\n",
       "      <th>5</th>\n",
       "      <td>\\sin{(3x-\\frac{\\pi}{2})}=-\\frac{\\sqrt{2}}{2}</td>\n",
       "      <td>Eq(sin(-pi/2 + 3*x), -sqrt(2)/2)</td>\n",
       "      <td>\\left [ \\frac{\\pi}{12}, \\quad \\frac{7 \\pi}{12}...</td>\n",
       "      <td>Resolver las siguientes ecuaciones para ángulo...</td>\n",
       "      <td>1BC</td>\n",
       "      <td>Autoevaluación 2 ev2</td>\n",
       "      <td>pa21e06</td>\n",
       "      <td>1</td>\n",
       "      <td>1</td>\n",
       "      <td>1</td>\n",
       "      <td>True</td>\n",
       "      <td>True</td>\n",
       "    </tr>\n",
       "  </tbody>\n",
       "</table>\n",
       "</div>"
      ],
      "text/plain": [
       "                                enunciado_latex  \\\n",
       "3                  \\sin{2x}=\\frac{\\sqrt {2}}{2}   \n",
       "4                    \\tan{\\frac{x}{2}}=\\sqrt{3}   \n",
       "5  \\sin{(3x-\\frac{\\pi}{2})}=-\\frac{\\sqrt{2}}{2}   \n",
       "\n",
       "                          enunciado  \\\n",
       "3           Eq(sin(2*x), sqrt(2)/2)   \n",
       "4             Eq(tan(x/2), sqrt(3))   \n",
       "5  Eq(sin(-pi/2 + 3*x), -sqrt(2)/2)   \n",
       "\n",
       "                                            solucion  \\\n",
       "3  \\left [ \\frac{\\pi}{8}, \\quad \\frac{3 \\pi}{8}\\r...   \n",
       "4                    \\left [ \\frac{2 \\pi}{3}\\right ]   \n",
       "5  \\left [ \\frac{\\pi}{12}, \\quad \\frac{7 \\pi}{12}...   \n",
       "\n",
       "                                               texto curso  \\\n",
       "3  Resolver las siguientes ecuaciones para ángulo...   1BC   \n",
       "4  Resolver las siguientes ecuaciones para ángulo...   1BC   \n",
       "5  Resolver las siguientes ecuaciones para ángulo...   1BC   \n",
       "\n",
       "                 titulo n_ejercicio  dificultad  n_columnas  puntos  enun_tex  \\\n",
       "3  Autoevaluación 2 ev2     pa21e06           1           1       1      True   \n",
       "4  Autoevaluación 2 ev2     pa21e06           1           1       1      True   \n",
       "5  Autoevaluación 2 ev2     pa21e06           1           1       1      True   \n",
       "\n",
       "   sol_tex  \n",
       "3     True  \n",
       "4     True  \n",
       "5     True  "
      ]
     },
     "metadata": {},
     "output_type": "display_data"
    },
    {
     "data": {
      "text/markdown": [
       "**Ejercicio: **pa21e07"
      ],
      "text/plain": [
       "<IPython.core.display.Markdown object>"
      ]
     },
     "metadata": {},
     "output_type": "display_data"
    },
    {
     "data": {
      "text/html": [
       "<div>\n",
       "<style scoped>\n",
       "    .dataframe tbody tr th:only-of-type {\n",
       "        vertical-align: middle;\n",
       "    }\n",
       "\n",
       "    .dataframe tbody tr th {\n",
       "        vertical-align: top;\n",
       "    }\n",
       "\n",
       "    .dataframe thead th {\n",
       "        text-align: right;\n",
       "    }\n",
       "</style>\n",
       "<table border=\"1\" class=\"dataframe\">\n",
       "  <thead>\n",
       "    <tr style=\"text-align: right;\">\n",
       "      <th></th>\n",
       "      <th>enunciado_latex</th>\n",
       "      <th>enunciado</th>\n",
       "      <th>solucion</th>\n",
       "      <th>texto</th>\n",
       "      <th>curso</th>\n",
       "      <th>titulo</th>\n",
       "      <th>n_ejercicio</th>\n",
       "      <th>dificultad</th>\n",
       "      <th>n_columnas</th>\n",
       "      <th>puntos</th>\n",
       "      <th>enun_tex</th>\n",
       "      <th>sol_tex</th>\n",
       "    </tr>\n",
       "  </thead>\n",
       "  <tbody>\n",
       "    <tr>\n",
       "      <th>6</th>\n",
       "      <td>\\tan{2x}=\\cot{x}</td>\n",
       "      <td>Eq(tan(2*x), cot(x))</td>\n",
       "      <td>\\left [ -90.0, \\quad 90.0, \\quad -150.0, \\quad...</td>\n",
       "      <td>Resolver las siguientes ecuaciones:</td>\n",
       "      <td>1BC</td>\n",
       "      <td>Autoevaluación 2 ev2</td>\n",
       "      <td>pa21e07</td>\n",
       "      <td>1</td>\n",
       "      <td>1</td>\n",
       "      <td>1</td>\n",
       "      <td>True</td>\n",
       "      <td>True</td>\n",
       "    </tr>\n",
       "    <tr>\n",
       "      <th>7</th>\n",
       "      <td>\\sin{x}\\cos{x}=-\\frac{1}{2}</td>\n",
       "      <td>Eq(sin(x)*cos(x), -1/2)</td>\n",
       "      <td>\\left [ -45.0, \\quad 135.0\\right ]</td>\n",
       "      <td>Resolver las siguientes ecuaciones:</td>\n",
       "      <td>1BC</td>\n",
       "      <td>Autoevaluación 2 ev2</td>\n",
       "      <td>pa21e07</td>\n",
       "      <td>1</td>\n",
       "      <td>1</td>\n",
       "      <td>1</td>\n",
       "      <td>True</td>\n",
       "      <td>True</td>\n",
       "    </tr>\n",
       "    <tr>\n",
       "      <th>8</th>\n",
       "      <td>\\sqrt{3}\\sin{x}+\\cos{x}=-2</td>\n",
       "      <td>Eq(sqrt(3)*sin(x) + cos(x), -2)</td>\n",
       "      <td>\\left [ -120.0\\right ]</td>\n",
       "      <td>Resolver las siguientes ecuaciones:</td>\n",
       "      <td>1BC</td>\n",
       "      <td>Autoevaluación 2 ev2</td>\n",
       "      <td>pa21e07</td>\n",
       "      <td>1</td>\n",
       "      <td>1</td>\n",
       "      <td>1</td>\n",
       "      <td>True</td>\n",
       "      <td>True</td>\n",
       "    </tr>\n",
       "  </tbody>\n",
       "</table>\n",
       "</div>"
      ],
      "text/plain": [
       "               enunciado_latex                        enunciado  \\\n",
       "6             \\tan{2x}=\\cot{x}             Eq(tan(2*x), cot(x))   \n",
       "7  \\sin{x}\\cos{x}=-\\frac{1}{2}          Eq(sin(x)*cos(x), -1/2)   \n",
       "8   \\sqrt{3}\\sin{x}+\\cos{x}=-2  Eq(sqrt(3)*sin(x) + cos(x), -2)   \n",
       "\n",
       "                                            solucion  \\\n",
       "6  \\left [ -90.0, \\quad 90.0, \\quad -150.0, \\quad...   \n",
       "7                 \\left [ -45.0, \\quad 135.0\\right ]   \n",
       "8                             \\left [ -120.0\\right ]   \n",
       "\n",
       "                                 texto curso                titulo  \\\n",
       "6  Resolver las siguientes ecuaciones:   1BC  Autoevaluación 2 ev2   \n",
       "7  Resolver las siguientes ecuaciones:   1BC  Autoevaluación 2 ev2   \n",
       "8  Resolver las siguientes ecuaciones:   1BC  Autoevaluación 2 ev2   \n",
       "\n",
       "  n_ejercicio  dificultad  n_columnas  puntos  enun_tex  sol_tex  \n",
       "6     pa21e07           1           1       1      True     True  \n",
       "7     pa21e07           1           1       1      True     True  \n",
       "8     pa21e07           1           1       1      True     True  "
      ]
     },
     "metadata": {},
     "output_type": "display_data"
    },
    {
     "data": {
      "text/markdown": [
       "**Ejercicio: **pa22e08"
      ],
      "text/plain": [
       "<IPython.core.display.Markdown object>"
      ]
     },
     "metadata": {},
     "output_type": "display_data"
    },
    {
     "data": {
      "text/html": [
       "<div>\n",
       "<style scoped>\n",
       "    .dataframe tbody tr th:only-of-type {\n",
       "        vertical-align: middle;\n",
       "    }\n",
       "\n",
       "    .dataframe tbody tr th {\n",
       "        vertical-align: top;\n",
       "    }\n",
       "\n",
       "    .dataframe thead th {\n",
       "        text-align: right;\n",
       "    }\n",
       "</style>\n",
       "<table border=\"1\" class=\"dataframe\">\n",
       "  <thead>\n",
       "    <tr style=\"text-align: right;\">\n",
       "      <th></th>\n",
       "      <th>enunciado_latex</th>\n",
       "      <th>enunciado</th>\n",
       "      <th>solucion</th>\n",
       "      <th>texto</th>\n",
       "      <th>curso</th>\n",
       "      <th>titulo</th>\n",
       "      <th>n_ejercicio</th>\n",
       "      <th>dificultad</th>\n",
       "      <th>n_columnas</th>\n",
       "      <th>puntos</th>\n",
       "      <th>enun_tex</th>\n",
       "      <th>sol_tex</th>\n",
       "    </tr>\n",
       "  </thead>\n",
       "  <tbody>\n",
       "    <tr>\n",
       "      <th>9</th>\n",
       "      <td>\\sqrt{6}-2\\sqrt{4}i</td>\n",
       "      <td>-4*i + sqrt(6)</td>\n",
       "      <td>- \\frac{2 \\sqrt{6} i}{3}</td>\n",
       "      <td>Dado el siguiente número $z$, calcula el valor...</td>\n",
       "      <td>1BC</td>\n",
       "      <td>Autoevaluación 2 ev2</td>\n",
       "      <td>pa22e08</td>\n",
       "      <td>1</td>\n",
       "      <td>2</td>\n",
       "      <td>1</td>\n",
       "      <td>True</td>\n",
       "      <td>True</td>\n",
       "    </tr>\n",
       "    <tr>\n",
       "      <th>10</th>\n",
       "      <td>\\sqrt{4}-2\\sqrt{6}i</td>\n",
       "      <td>-2*sqrt(6)*i + 2</td>\n",
       "      <td>- \\sqrt{6} i</td>\n",
       "      <td>Dado el siguiente número $z$, calcula el valor...</td>\n",
       "      <td>1BC</td>\n",
       "      <td>Autoevaluación 2 ev2</td>\n",
       "      <td>pa22e08</td>\n",
       "      <td>1</td>\n",
       "      <td>2</td>\n",
       "      <td>1</td>\n",
       "      <td>True</td>\n",
       "      <td>True</td>\n",
       "    </tr>\n",
       "    <tr>\n",
       "      <th>11</th>\n",
       "      <td>\\sqrt{6}-2\\sqrt{4}i</td>\n",
       "      <td>-4*i + sqrt(6)</td>\n",
       "      <td>- \\frac{2 \\sqrt{6} i}{3}</td>\n",
       "      <td>Dado el siguiente número $z$, calcula el valor...</td>\n",
       "      <td>1BC</td>\n",
       "      <td>Autoevaluación 2 ev2</td>\n",
       "      <td>pa22e08</td>\n",
       "      <td>1</td>\n",
       "      <td>2</td>\n",
       "      <td>1</td>\n",
       "      <td>True</td>\n",
       "      <td>True</td>\n",
       "    </tr>\n",
       "    <tr>\n",
       "      <th>12</th>\n",
       "      <td>\\sqrt{4}-2\\sqrt{6}i</td>\n",
       "      <td>-2*sqrt(6)*i + 2</td>\n",
       "      <td>- \\sqrt{6} i</td>\n",
       "      <td>Dado el siguiente número $z$, calcula el valor...</td>\n",
       "      <td>1BC</td>\n",
       "      <td>Autoevaluación 2 ev2</td>\n",
       "      <td>pa22e08</td>\n",
       "      <td>1</td>\n",
       "      <td>2</td>\n",
       "      <td>1</td>\n",
       "      <td>True</td>\n",
       "      <td>True</td>\n",
       "    </tr>\n",
       "  </tbody>\n",
       "</table>\n",
       "</div>"
      ],
      "text/plain": [
       "        enunciado_latex         enunciado                  solucion  \\\n",
       "9   \\sqrt{6}-2\\sqrt{4}i    -4*i + sqrt(6)  - \\frac{2 \\sqrt{6} i}{3}   \n",
       "10  \\sqrt{4}-2\\sqrt{6}i  -2*sqrt(6)*i + 2              - \\sqrt{6} i   \n",
       "11  \\sqrt{6}-2\\sqrt{4}i    -4*i + sqrt(6)  - \\frac{2 \\sqrt{6} i}{3}   \n",
       "12  \\sqrt{4}-2\\sqrt{6}i  -2*sqrt(6)*i + 2              - \\sqrt{6} i   \n",
       "\n",
       "                                                texto curso  \\\n",
       "9   Dado el siguiente número $z$, calcula el valor...   1BC   \n",
       "10  Dado el siguiente número $z$, calcula el valor...   1BC   \n",
       "11  Dado el siguiente número $z$, calcula el valor...   1BC   \n",
       "12  Dado el siguiente número $z$, calcula el valor...   1BC   \n",
       "\n",
       "                  titulo n_ejercicio  dificultad  n_columnas  puntos  \\\n",
       "9   Autoevaluación 2 ev2     pa22e08           1           2       1   \n",
       "10  Autoevaluación 2 ev2     pa22e08           1           2       1   \n",
       "11  Autoevaluación 2 ev2     pa22e08           1           2       1   \n",
       "12  Autoevaluación 2 ev2     pa22e08           1           2       1   \n",
       "\n",
       "    enun_tex  sol_tex  \n",
       "9       True     True  \n",
       "10      True     True  \n",
       "11      True     True  \n",
       "12      True     True  "
      ]
     },
     "metadata": {},
     "output_type": "display_data"
    },
    {
     "data": {
      "text/markdown": [
       "**Ejercicio: **pa22e08b"
      ],
      "text/plain": [
       "<IPython.core.display.Markdown object>"
      ]
     },
     "metadata": {},
     "output_type": "display_data"
    },
    {
     "data": {
      "text/html": [
       "<div>\n",
       "<style scoped>\n",
       "    .dataframe tbody tr th:only-of-type {\n",
       "        vertical-align: middle;\n",
       "    }\n",
       "\n",
       "    .dataframe tbody tr th {\n",
       "        vertical-align: top;\n",
       "    }\n",
       "\n",
       "    .dataframe thead th {\n",
       "        text-align: right;\n",
       "    }\n",
       "</style>\n",
       "<table border=\"1\" class=\"dataframe\">\n",
       "  <thead>\n",
       "    <tr style=\"text-align: right;\">\n",
       "      <th></th>\n",
       "      <th>enunciado_latex</th>\n",
       "      <th>enunciado</th>\n",
       "      <th>solucion</th>\n",
       "      <th>texto</th>\n",
       "      <th>curso</th>\n",
       "      <th>titulo</th>\n",
       "      <th>n_ejercicio</th>\n",
       "      <th>dificultad</th>\n",
       "      <th>n_columnas</th>\n",
       "      <th>puntos</th>\n",
       "      <th>enun_tex</th>\n",
       "      <th>sol_tex</th>\n",
       "    </tr>\n",
       "  </thead>\n",
       "  <tbody>\n",
       "    <tr>\n",
       "      <th>13</th>\n",
       "      <td>4 - 2\\sqrt {3}i</td>\n",
       "      <td>-2*sqrt(3)*i + 4</td>\n",
       "      <td>2 \\sqrt{7}_{- \\operatorname{atan}{\\left (\\frac...</td>\n",
       "      <td>Calcular el módulo y el argumento (en radianes...</td>\n",
       "      <td>1BC</td>\n",
       "      <td>Autoevaluación 2 ev2</td>\n",
       "      <td>pa22e08b</td>\n",
       "      <td>1</td>\n",
       "      <td>2</td>\n",
       "      <td>1</td>\n",
       "      <td>True</td>\n",
       "      <td>True</td>\n",
       "    </tr>\n",
       "    <tr>\n",
       "      <th>14</th>\n",
       "      <td>-1-i</td>\n",
       "      <td>-i - 1</td>\n",
       "      <td>\\sqrt{2}_{- \\frac{3 \\pi}{4}}</td>\n",
       "      <td>Calcular el módulo y el argumento (en radianes...</td>\n",
       "      <td>1BC</td>\n",
       "      <td>Autoevaluación 2 ev2</td>\n",
       "      <td>pa22e08b</td>\n",
       "      <td>1</td>\n",
       "      <td>2</td>\n",
       "      <td>1</td>\n",
       "      <td>True</td>\n",
       "      <td>True</td>\n",
       "    </tr>\n",
       "    <tr>\n",
       "      <th>15</th>\n",
       "      <td>-6-6i</td>\n",
       "      <td>-6*i - 6</td>\n",
       "      <td>6 \\sqrt{2}_{- \\frac{3 \\pi}{4}}</td>\n",
       "      <td>Calcular el módulo y el argumento (en radianes...</td>\n",
       "      <td>1BC</td>\n",
       "      <td>Autoevaluación 2 ev2</td>\n",
       "      <td>pa22e08b</td>\n",
       "      <td>1</td>\n",
       "      <td>2</td>\n",
       "      <td>1</td>\n",
       "      <td>True</td>\n",
       "      <td>True</td>\n",
       "    </tr>\n",
       "    <tr>\n",
       "      <th>16</th>\n",
       "      <td>-5i</td>\n",
       "      <td>-5*i</td>\n",
       "      <td>5_{- \\frac{\\pi}{2}}</td>\n",
       "      <td>Calcular el módulo y el argumento (en radianes...</td>\n",
       "      <td>1BC</td>\n",
       "      <td>Autoevaluación 2 ev2</td>\n",
       "      <td>pa22e08b</td>\n",
       "      <td>1</td>\n",
       "      <td>2</td>\n",
       "      <td>1</td>\n",
       "      <td>True</td>\n",
       "      <td>True</td>\n",
       "    </tr>\n",
       "    <tr>\n",
       "      <th>17</th>\n",
       "      <td>3</td>\n",
       "      <td>3</td>\n",
       "      <td>3_{0}</td>\n",
       "      <td>Calcular el módulo y el argumento (en radianes...</td>\n",
       "      <td>1BC</td>\n",
       "      <td>Autoevaluación 2 ev2</td>\n",
       "      <td>pa22e08b</td>\n",
       "      <td>1</td>\n",
       "      <td>2</td>\n",
       "      <td>1</td>\n",
       "      <td>True</td>\n",
       "      <td>True</td>\n",
       "    </tr>\n",
       "  </tbody>\n",
       "</table>\n",
       "</div>"
      ],
      "text/plain": [
       "    enunciado_latex         enunciado  \\\n",
       "13  4 - 2\\sqrt {3}i  -2*sqrt(3)*i + 4   \n",
       "14             -1-i            -i - 1   \n",
       "15            -6-6i          -6*i - 6   \n",
       "16              -5i              -5*i   \n",
       "17                3                 3   \n",
       "\n",
       "                                             solucion  \\\n",
       "13  2 \\sqrt{7}_{- \\operatorname{atan}{\\left (\\frac...   \n",
       "14                       \\sqrt{2}_{- \\frac{3 \\pi}{4}}   \n",
       "15                     6 \\sqrt{2}_{- \\frac{3 \\pi}{4}}   \n",
       "16                                5_{- \\frac{\\pi}{2}}   \n",
       "17                                              3_{0}   \n",
       "\n",
       "                                                texto curso  \\\n",
       "13  Calcular el módulo y el argumento (en radianes...   1BC   \n",
       "14  Calcular el módulo y el argumento (en radianes...   1BC   \n",
       "15  Calcular el módulo y el argumento (en radianes...   1BC   \n",
       "16  Calcular el módulo y el argumento (en radianes...   1BC   \n",
       "17  Calcular el módulo y el argumento (en radianes...   1BC   \n",
       "\n",
       "                  titulo n_ejercicio  dificultad  n_columnas  puntos  \\\n",
       "13  Autoevaluación 2 ev2    pa22e08b           1           2       1   \n",
       "14  Autoevaluación 2 ev2    pa22e08b           1           2       1   \n",
       "15  Autoevaluación 2 ev2    pa22e08b           1           2       1   \n",
       "16  Autoevaluación 2 ev2    pa22e08b           1           2       1   \n",
       "17  Autoevaluación 2 ev2    pa22e08b           1           2       1   \n",
       "\n",
       "    enun_tex  sol_tex  \n",
       "13      True     True  \n",
       "14      True     True  \n",
       "15      True     True  \n",
       "16      True     True  \n",
       "17      True     True  "
      ]
     },
     "metadata": {},
     "output_type": "display_data"
    },
    {
     "data": {
      "text/markdown": [
       "**Ejercicio: **pa22e08c"
      ],
      "text/plain": [
       "<IPython.core.display.Markdown object>"
      ]
     },
     "metadata": {},
     "output_type": "display_data"
    },
    {
     "data": {
      "text/html": [
       "<div>\n",
       "<style scoped>\n",
       "    .dataframe tbody tr th:only-of-type {\n",
       "        vertical-align: middle;\n",
       "    }\n",
       "\n",
       "    .dataframe tbody tr th {\n",
       "        vertical-align: top;\n",
       "    }\n",
       "\n",
       "    .dataframe thead th {\n",
       "        text-align: right;\n",
       "    }\n",
       "</style>\n",
       "<table border=\"1\" class=\"dataframe\">\n",
       "  <thead>\n",
       "    <tr style=\"text-align: right;\">\n",
       "      <th></th>\n",
       "      <th>enunciado_latex</th>\n",
       "      <th>enunciado</th>\n",
       "      <th>solucion</th>\n",
       "      <th>texto</th>\n",
       "      <th>curso</th>\n",
       "      <th>titulo</th>\n",
       "      <th>n_ejercicio</th>\n",
       "      <th>dificultad</th>\n",
       "      <th>n_columnas</th>\n",
       "      <th>puntos</th>\n",
       "      <th>enun_tex</th>\n",
       "      <th>sol_tex</th>\n",
       "    </tr>\n",
       "  </thead>\n",
       "  <tbody>\n",
       "    <tr>\n",
       "      <th>18</th>\n",
       "      <td>3_{\\frac{\\pi}{4}}</td>\n",
       "      <td>[3, pi/4]</td>\n",
       "      <td>\\frac{3 \\sqrt{2}}{2} + \\frac{3 \\sqrt{2} i}{2}</td>\n",
       "      <td>Escribe en forma binómica los siguientes númer...</td>\n",
       "      <td>1BC</td>\n",
       "      <td>Autoevaluación 2 ev2</td>\n",
       "      <td>pa22e08c</td>\n",
       "      <td>1</td>\n",
       "      <td>2</td>\n",
       "      <td>1</td>\n",
       "      <td>True</td>\n",
       "      <td>True</td>\n",
       "    </tr>\n",
       "    <tr>\n",
       "      <th>19</th>\n",
       "      <td>2_{\\frac{\\pi}{6}}</td>\n",
       "      <td>[2, pi/6]</td>\n",
       "      <td>\\sqrt{3} + i</td>\n",
       "      <td>Escribe en forma binómica los siguientes númer...</td>\n",
       "      <td>1BC</td>\n",
       "      <td>Autoevaluación 2 ev2</td>\n",
       "      <td>pa22e08c</td>\n",
       "      <td>1</td>\n",
       "      <td>2</td>\n",
       "      <td>1</td>\n",
       "      <td>True</td>\n",
       "      <td>True</td>\n",
       "    </tr>\n",
       "    <tr>\n",
       "      <th>20</th>\n",
       "      <td>2 \\sqrt{2}_{\\pi}</td>\n",
       "      <td>[2*sqrt(2), pi]</td>\n",
       "      <td>- 2 \\sqrt{2}</td>\n",
       "      <td>Escribe en forma binómica los siguientes númer...</td>\n",
       "      <td>1BC</td>\n",
       "      <td>Autoevaluación 2 ev2</td>\n",
       "      <td>pa22e08c</td>\n",
       "      <td>1</td>\n",
       "      <td>2</td>\n",
       "      <td>1</td>\n",
       "      <td>True</td>\n",
       "      <td>True</td>\n",
       "    </tr>\n",
       "    <tr>\n",
       "      <th>21</th>\n",
       "      <td>7_{0}</td>\n",
       "      <td>[7, 0]</td>\n",
       "      <td>7</td>\n",
       "      <td>Escribe en forma binómica los siguientes númer...</td>\n",
       "      <td>1BC</td>\n",
       "      <td>Autoevaluación 2 ev2</td>\n",
       "      <td>pa22e08c</td>\n",
       "      <td>1</td>\n",
       "      <td>2</td>\n",
       "      <td>1</td>\n",
       "      <td>True</td>\n",
       "      <td>True</td>\n",
       "    </tr>\n",
       "    <tr>\n",
       "      <th>22</th>\n",
       "      <td>1_{\\frac{\\pi}{2}}</td>\n",
       "      <td>[1, pi/2]</td>\n",
       "      <td>i</td>\n",
       "      <td>Escribe en forma binómica los siguientes númer...</td>\n",
       "      <td>1BC</td>\n",
       "      <td>Autoevaluación 2 ev2</td>\n",
       "      <td>pa22e08c</td>\n",
       "      <td>1</td>\n",
       "      <td>2</td>\n",
       "      <td>1</td>\n",
       "      <td>True</td>\n",
       "      <td>True</td>\n",
       "    </tr>\n",
       "  </tbody>\n",
       "</table>\n",
       "</div>"
      ],
      "text/plain": [
       "      enunciado_latex        enunciado  \\\n",
       "18  3_{\\frac{\\pi}{4}}        [3, pi/4]   \n",
       "19  2_{\\frac{\\pi}{6}}        [2, pi/6]   \n",
       "20   2 \\sqrt{2}_{\\pi}  [2*sqrt(2), pi]   \n",
       "21              7_{0}           [7, 0]   \n",
       "22  1_{\\frac{\\pi}{2}}        [1, pi/2]   \n",
       "\n",
       "                                         solucion  \\\n",
       "18  \\frac{3 \\sqrt{2}}{2} + \\frac{3 \\sqrt{2} i}{2}   \n",
       "19                                   \\sqrt{3} + i   \n",
       "20                                   - 2 \\sqrt{2}   \n",
       "21                                              7   \n",
       "22                                              i   \n",
       "\n",
       "                                                texto curso  \\\n",
       "18  Escribe en forma binómica los siguientes númer...   1BC   \n",
       "19  Escribe en forma binómica los siguientes númer...   1BC   \n",
       "20  Escribe en forma binómica los siguientes númer...   1BC   \n",
       "21  Escribe en forma binómica los siguientes númer...   1BC   \n",
       "22  Escribe en forma binómica los siguientes númer...   1BC   \n",
       "\n",
       "                  titulo n_ejercicio  dificultad  n_columnas  puntos  \\\n",
       "18  Autoevaluación 2 ev2    pa22e08c           1           2       1   \n",
       "19  Autoevaluación 2 ev2    pa22e08c           1           2       1   \n",
       "20  Autoevaluación 2 ev2    pa22e08c           1           2       1   \n",
       "21  Autoevaluación 2 ev2    pa22e08c           1           2       1   \n",
       "22  Autoevaluación 2 ev2    pa22e08c           1           2       1   \n",
       "\n",
       "    enun_tex  sol_tex  \n",
       "18      True     True  \n",
       "19      True     True  \n",
       "20      True     True  \n",
       "21      True     True  \n",
       "22      True     True  "
      ]
     },
     "metadata": {},
     "output_type": "display_data"
    },
    {
     "data": {
      "text/markdown": [
       "**Ejercicio: **pa22e09"
      ],
      "text/plain": [
       "<IPython.core.display.Markdown object>"
      ]
     },
     "metadata": {},
     "output_type": "display_data"
    },
    {
     "data": {
      "text/html": [
       "<div>\n",
       "<style scoped>\n",
       "    .dataframe tbody tr th:only-of-type {\n",
       "        vertical-align: middle;\n",
       "    }\n",
       "\n",
       "    .dataframe tbody tr th {\n",
       "        vertical-align: top;\n",
       "    }\n",
       "\n",
       "    .dataframe thead th {\n",
       "        text-align: right;\n",
       "    }\n",
       "</style>\n",
       "<table border=\"1\" class=\"dataframe\">\n",
       "  <thead>\n",
       "    <tr style=\"text-align: right;\">\n",
       "      <th></th>\n",
       "      <th>enunciado_latex</th>\n",
       "      <th>enunciado</th>\n",
       "      <th>solucion</th>\n",
       "      <th>texto</th>\n",
       "      <th>curso</th>\n",
       "      <th>titulo</th>\n",
       "      <th>n_ejercicio</th>\n",
       "      <th>dificultad</th>\n",
       "      <th>n_columnas</th>\n",
       "      <th>puntos</th>\n",
       "      <th>enun_tex</th>\n",
       "      <th>sol_tex</th>\n",
       "    </tr>\n",
       "  </thead>\n",
       "  <tbody>\n",
       "    <tr>\n",
       "      <th>23</th>\n",
       "      <td>A=(-1, 1), \\ B=(1, 6),\\  y \\ C=(3, -3)</td>\n",
       "      <td>[(-1, 1), (1, 6), (3, -3)]</td>\n",
       "      <td>14</td>\n",
       "      <td>Calcula el área del triángulo de vértices:</td>\n",
       "      <td>1BC</td>\n",
       "      <td>Autoevaluación 2 ev2</td>\n",
       "      <td>pa22e09</td>\n",
       "      <td>1</td>\n",
       "      <td>1</td>\n",
       "      <td>1</td>\n",
       "      <td>True</td>\n",
       "      <td>True</td>\n",
       "    </tr>\n",
       "  </tbody>\n",
       "</table>\n",
       "</div>"
      ],
      "text/plain": [
       "                           enunciado_latex                   enunciado  \\\n",
       "23  A=(-1, 1), \\ B=(1, 6),\\  y \\ C=(3, -3)  [(-1, 1), (1, 6), (3, -3)]   \n",
       "\n",
       "   solucion                                       texto curso  \\\n",
       "23       14  Calcula el área del triángulo de vértices:   1BC   \n",
       "\n",
       "                  titulo n_ejercicio  dificultad  n_columnas  puntos  \\\n",
       "23  Autoevaluación 2 ev2     pa22e09           1           1       1   \n",
       "\n",
       "    enun_tex  sol_tex  \n",
       "23      True     True  "
      ]
     },
     "metadata": {},
     "output_type": "display_data"
    }
   ],
   "source": [
    "df_ejercicios.to_csv('ejercicios_auto22.csv', index = False)\n",
    "df_ejercicios = pd.read_csv('ejercicios_auto22.csv', index_col= None)\n",
    "escribir_preambulo(fichero, titulo)\n",
    "for s in df_ejercicios.groupby('n_ejercicio').count().index : \n",
    "    display(md(\"**Ejercicio: **\" + s ))\n",
    "    display(df_ejercicios[df_ejercicios.n_ejercicio == s])\n",
    "    escribir_ejercicios(df_ejercicios[df_ejercicios.n_ejercicio == s],fichero)\n",
    "\n",
    "escribir_fin(fichero)"
   ]
  },
  {
   "cell_type": "code",
   "execution_count": null,
   "metadata": {},
   "outputs": [],
   "source": []
  }
 ],
 "metadata": {
  "kernelspec": {
   "display_name": "Python 3",
   "language": "python",
   "name": "python3"
  },
  "language_info": {
   "codemirror_mode": {
    "name": "ipython",
    "version": 3
   },
   "file_extension": ".py",
   "mimetype": "text/x-python",
   "name": "python",
   "nbconvert_exporter": "python",
   "pygments_lexer": "ipython3",
   "version": "3.6.5"
  }
 },
 "nbformat": 4,
 "nbformat_minor": 2
}
