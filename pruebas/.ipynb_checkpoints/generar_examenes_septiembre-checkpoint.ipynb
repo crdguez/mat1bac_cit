{
 "cells": [
  {
   "cell_type": "code",
   "execution_count": 1,
   "metadata": {},
   "outputs": [
    {
     "name": "stdout",
     "output_type": "stream",
     "text": [
      "\n",
      "\n",
      "\n",
      "\n",
      "\n",
      "\n",
      "\n",
      "\n",
      "\n",
      "\n",
      "\n",
      "\n"
     ]
    },
    {
     "data": {
      "text/plain": [
       "0"
      ]
     },
     "execution_count": 1,
     "metadata": {},
     "output_type": "execute_result"
    }
   ],
   "source": [
    "import codecs\n",
    "import os\n",
    "from subprocess import call\n",
    "import pandas\n",
    "\n",
    "fichero_datos = 'alumnos_pendientes'\n",
    "fichero_examen = 'chs_sep'\n",
    "\n",
    "os.makedirs('tmp', exist_ok=True)\n",
    "os.makedirs('output', exist_ok=True)\n",
    "with codecs.open(fichero_examen+'.tex', encoding='utf8') as f:\n",
    "    template = f.read()\n",
    "data = pandas.read_csv(fichero_datos+'.csv',delimiter=';')\n",
    "keys = [\n",
    "    'alumno',\n",
    "\n",
    "]\n",
    "for index, row in data.iterrows():\n",
    "    filled = template\n",
    "    for key in keys:\n",
    "        # replace our placeholder with the actual data, cast to string first\n",
    "        filled = filled.replace('@@' + key, str(row[key]))\n",
    "    filename = 'filled_{}'.format(\n",
    "        row.alumno,\n",
    "    )\n",
    "    \n",
    "    with codecs.open('tmp/' + filename + '.tex', 'w', encoding='utf8') as f:\n",
    "        f.write(filled)\n",
    "        \n",
    "    call(['xelatex',\n",
    "          '--interaction=batchmode',\n",
    "          '--output-directory=tmp',\n",
    "          'tmp/' + filename + '.tex',\n",
    "          ])\n",
    "    \n",
    "    call(['xelatex',\n",
    "          '--interaction=batchmode',\n",
    "          '--output-directory=tmp',\n",
    "          'tmp/' + filename + '.tex',\n",
    "          ])\n",
    "\n",
    "    # there is a missing newline at the end of the latex call\n",
    "    print('\\n')\n",
    "\n",
    "    # now move the file to the output folder:\n",
    "    os.rename('tmp/' + filename + '.pdf', 'output/' + filename + '.pdf')\n",
    "\n",
    "# now we delete the tmp folder\n",
    "call(['rm', '-rf', 'tmp'])\n"
   ]
  },
  {
   "cell_type": "code",
   "execution_count": 2,
   "metadata": {},
   "outputs": [],
   "source": [
    "# pdf_merger.py\n",
    "\n",
    "#Uniendo los pdf\n",
    " \n",
    "\n",
    "import glob, os\n",
    "\n",
    "from PyPDF2 import PdfFileWriter, PdfFileReader\n",
    "\n",
    " \n",
    "\n",
    "def merger(output_path, input_paths):\n",
    "\n",
    "    pdf_writer = PdfFileWriter()\n",
    "\n",
    " \n",
    "\n",
    "    for path in input_paths:\n",
    "\n",
    "        pdf_reader = PdfFileReader(path)\n",
    "\n",
    "        for page in range(pdf_reader.getNumPages()):\n",
    "\n",
    "            pdf_writer.addPage(pdf_reader.getPage(page))\n",
    "\n",
    " \n",
    "\n",
    "    with open(output_path, 'wb') as fh:\n",
    "\n",
    "        pdf_writer.write(fh)\n",
    "\n",
    " \n",
    "\n",
    " \n",
    "\n",
    "if __name__ == '__main__':\n",
    "\n",
    "    paths = glob.glob('output/*.pdf')\n",
    "\n",
    "    paths.sort()  \n",
    "    \n",
    "    merger('output/pdf_merger.pdf', paths)\n",
    "    \n",
    "    for fl in paths:\n",
    "    #Do what you want with the file\n",
    "        os.remove(fl)\n",
    "    \n"
   ]
  }
 ],
 "metadata": {
  "kernelspec": {
   "display_name": "Python 3",
   "language": "python",
   "name": "python3"
  },
  "language_info": {
   "codemirror_mode": {
    "name": "ipython",
    "version": 3
   },
   "file_extension": ".py",
   "mimetype": "text/x-python",
   "name": "python",
   "nbconvert_exporter": "python",
   "pygments_lexer": "ipython3",
   "version": "3.6.8"
  }
 },
 "nbformat": 4,
 "nbformat_minor": 2
}
