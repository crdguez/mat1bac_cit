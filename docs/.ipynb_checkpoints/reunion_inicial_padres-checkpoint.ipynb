{
 "cells": [
  {
   "cell_type": "markdown",
   "metadata": {
    "slideshow": {
     "slide_type": "skip"
    }
   },
   "source": [
    "### Instrucciones\n",
    "\n",
    "requires a copy of reveal.js (version 3.x)\n",
    "\n",
    "```\n",
    "jupyter nbconvert --to slides --SlidesExporter.reveal_theme=sky reunion_inicial_padres.ipynb\n",
    "```"
   ]
  },
  {
   "cell_type": "markdown",
   "metadata": {
    "slideshow": {
     "slide_type": "slide"
    }
   },
   "source": [
    "# Reunión de inicio de Curso 2018-2019\n",
    "\n",
    "<img src=\"files/logo.jpg\" width=\"240\" height=\"240\" align=\"center\">\n",
    "\n",
    "## 1º Bachillerato CIE"
   ]
  },
  {
   "cell_type": "markdown",
   "metadata": {
    "slideshow": {
     "slide_type": "slide"
    }
   },
   "source": [
    "## Introducción\n",
    "\n",
    "* Saludo y presentación\n",
    "    - **Carlos Rodríguez Jaso** (email: rodriguezjasoc@iespedrocerrada.org)\n",
    "    \n",
    "* Objetivo de la sesión"
   ]
  },
  {
   "cell_type": "markdown",
   "metadata": {
    "slideshow": {
     "slide_type": "slide"
    }
   },
   "source": [
    "## Información general del curso\n",
    "\n",
    "* Equipo educativo y horario de atención a padres\n",
    "* Calendario\n",
    "* Características del Bachillerato\n",
    "* Evaluaciones y promoción\n",
    "\n",
    "\n",
    "\n"
   ]
  },
  {
   "cell_type": "markdown",
   "metadata": {
    "slideshow": {
     "slide_type": "subslide"
    }
   },
   "source": [
    "### Equipo educativo y horario de atención a padres\n",
    "\n",
    "| Profesorado                     | Asignatura                          |\n",
    "| ------------------------------- | ----------------------------------- |\n",
    "| SANTIAGO ARAIZ ESCO             | Lengua castellana y literatura I    |\n",
    "| EVA MARIA CEBOLLA ANDRES        | Tecnologías inform y comunicac      |\n",
    "| LINA F. DE LA FUENTE CANO       | Anatomía aplicada                   |\n",
    "| DANIEL GONZALEZ GARCIA          | Primera Lengua Extranjera I Inglés  |\n",
    "| NURIA GRASA ADIEGO              | Biología y Geología                 |\n",
    "| RUBEN MUELA EDO                 | Educación para la ciudadanía        |\n",
    "| MARIA ESTER NEVADO PELAEZ       | Religión Católica                   |\n",
    "| M. ELENA ORTEGA PEÑA            | Cultura científica                  |\n",
    "| JOSE LUIS RODRIGUEZ BIENVENIDO  | Filosofía                           |\n",
    "| CARLOS RODRIGUEZ JASO           | Matemáticas I  y tutoría            |\n",
    "| MANUELA INES SANCHO LAHOZ       | Segunda Lengua Extranjera I Francés |\n",
    "| M. ESPERANZA TELLA VICENTE      | Tecnología industrial I             |\n",
    "| YOLANDA TURON MARCO             | Educación física                    |\n",
    "| MANUEL ANTONIO VEAMONTE SERRANO | Física y Química                    |\n",
    "\n",
    "\n",
    "\n"
   ]
  },
  {
   "cell_type": "markdown",
   "metadata": {
    "slideshow": {
     "slide_type": "subslide"
    }
   },
   "source": [
    "### Equipo educativo y horario de atención a padres\n",
    "\n",
    "\n",
    "\n",
    "**Horario de atención a padres:** Martes de 11:30 a 12:20 (4º periodo) \n"
   ]
  },
  {
   "cell_type": "markdown",
   "metadata": {
    "slideshow": {
     "slide_type": "subslide"
    }
   },
   "source": [
    "### Calendario escolar\n",
    "\n",
    " * Puentes: \n",
    "     - Jueves y viernes del Pilar\n",
    "     - Jueves y viernes de todos los santos\n",
    "     - Jueves y viernes del puente de la Inmaculada-Constitución\n",
    "     - Lunes y martes para la 5 marzada\n",
    "     \n",
    " * Navidades: del 22/12 al 7/12 incluidos\n",
    " * Semana Santa: del 13/4 al 23/4 (San Jorge)\n",
    " * Festivo el 19/6\n",
    " * El curso termina el 24/6\n"
   ]
  },
  {
   "cell_type": "markdown",
   "metadata": {
    "slideshow": {
     "slide_type": "subslide"
    }
   },
   "source": [
    "### Características del Bachillerato\n",
    "\n",
    "* Enseñanza no obligatoria (no es 5ºESO)\n",
    "* Objetivo: Preparar la EVAU y acceso a los estudios superiores deseados\n",
    "    - 60% la nota media del bachillerato (todas las asignaturas cuentan lo mismo)\n",
    "    - 40% EVAU\n",
    "    - 40% Fase voluntaria de la EVAU según ponderaciones\n",
    "* Disciplina y faltas de asistencia\n",
    "    - Sanciones por conductas contrarias o por faltas \n",
    "    - Justificación de faltas de asistencia\n",
    "* Recomendaciones para afrontar el curso con garantías\n",
    "    - Cambia el sistema de evaluación, el alumnado debe ser autónomo y responsable\n",
    "    - Llevar al día las asignaturas y no dejarlas para el final."
   ]
  },
  {
   "cell_type": "markdown",
   "metadata": {
    "slideshow": {
     "slide_type": "subslide"
    }
   },
   "source": [
    "### Evaluaciones y promoción\n",
    "\n",
    "* 1ª evaluación: 11/12/13 de diciembre\n",
    "* 2ª evaluación: 12/13/14 de marzo\n",
    "* 3ª evaluación: 17/18/20 de junio\n",
    "\n",
    "Se puede promocionar con dos asignaturas a 2º\n",
    "\n",
    "\n"
   ]
  },
  {
   "cell_type": "markdown",
   "metadata": {
    "slideshow": {
     "slide_type": "slide"
    }
   },
   "source": [
    "## Ruegos y preguntas"
   ]
  },
  {
   "cell_type": "markdown",
   "metadata": {
    "slideshow": {
     "slide_type": "slide"
    }
   },
   "source": [
    "## ¡Gracias y buen curso!"
   ]
  }
 ],
 "metadata": {
  "celltoolbar": "Slideshow",
  "kernelspec": {
   "display_name": "Python 3",
   "language": "python",
   "name": "python3"
  },
  "language_info": {
   "codemirror_mode": {
    "name": "ipython",
    "version": 3
   },
   "file_extension": ".py",
   "mimetype": "text/x-python",
   "name": "python",
   "nbconvert_exporter": "python",
   "pygments_lexer": "ipython3",
   "version": "3.6.5"
  }
 },
 "nbformat": 4,
 "nbformat_minor": 2
}
